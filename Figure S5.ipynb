{
 "cells": [
  {
   "cell_type": "markdown",
   "id": "c0f48fe9",
   "metadata": {},
   "source": [
    "# Setup for Figure S5A (right), B (right), D, G-H, I, J (Split Maze)\n",
    "\n",
    "Note exact results for K-Means and decoder based analyses will change slightly each time. As a result, exact statistics here may not match the manuscript text but should recapitulate results."
   ]
  },
  {
   "cell_type": "code",
   "execution_count": 1,
   "id": "b9640e26",
   "metadata": {},
   "outputs": [],
   "source": [
    "''' magic 4u'''\n",
    "%load_ext autoreload\n",
    "%autoreload 2"
   ]
  },
  {
   "cell_type": "code",
   "execution_count": 2,
   "id": "a77b41b4",
   "metadata": {},
   "outputs": [],
   "source": [
    "'''Get Stuff You Need'''\n",
    "import numpy as np\n",
    "import math as math\n",
    "from tqdm import tnrange\n",
    "from tqdm.notebook import tqdm as tdqm\n",
    "import matplotlib.pyplot as plt\n",
    "import matplotlib as mpl\n",
    "mpl.rcParams.update(mpl.rcParamsDefault)\n",
    "from matplotlib import gridspec\n",
    "from scipy.interpolate import interp1d\n",
    "from scipy.ndimage import gaussian_filter1d\n",
    "from scipy import stats\n",
    "import scipy.io\n",
    "import scipy.ndimage.filters as filt\n",
    "import pandas as pd\n",
    "import seaborn as sns\n",
    "\n",
    "from pipeline import get_data as get\n",
    "from pipeline import process_spikes as ps\n",
    "\n",
    "from statsmodels.tsa.stattools import acf\n",
    "from scipy.signal import find_peaks\n",
    "from itertools import combinations\n",
    "\n",
    "from matplotlib import rc \n",
    "mpl.rcParams['font.sans-serif'] = 'Arial'\n",
    "mpl.rcParams['font.family'] = 'sans-serif'\n",
    "mpl.rcParams['svg.fonttype'] = 'none'"
   ]
  },
  {
   "cell_type": "code",
   "execution_count": 3,
   "id": "35adb179",
   "metadata": {},
   "outputs": [
    {
     "data": {
      "text/html": [
       "<div>\n",
       "<style scoped>\n",
       "    .dataframe tbody tr th:only-of-type {\n",
       "        vertical-align: middle;\n",
       "    }\n",
       "\n",
       "    .dataframe tbody tr th {\n",
       "        vertical-align: top;\n",
       "    }\n",
       "\n",
       "    .dataframe thead th {\n",
       "        text-align: right;\n",
       "    }\n",
       "</style>\n",
       "<table border=\"1\" class=\"dataframe\">\n",
       "  <thead>\n",
       "    <tr style=\"text-align: right;\">\n",
       "      <th></th>\n",
       "      <th>Animal_ID</th>\n",
       "      <th>Task</th>\n",
       "      <th>Cohort</th>\n",
       "      <th>Probe_Control</th>\n",
       "      <th>Sex</th>\n",
       "      <th>Sac_Date</th>\n",
       "      <th>Frozen_Hemisphere</th>\n",
       "      <th>DOB</th>\n",
       "      <th>Age_WholeMonth</th>\n",
       "      <th>Age_ExtraDays</th>\n",
       "      <th>...</th>\n",
       "      <th>Aged_Days</th>\n",
       "      <th>Age_Group</th>\n",
       "      <th>Behavior_Sessions</th>\n",
       "      <th>Neural_Sessions</th>\n",
       "      <th>Total_Cells</th>\n",
       "      <th>visualacuity</th>\n",
       "      <th>perchangespeedgain</th>\n",
       "      <th>perchangekurt</th>\n",
       "      <th>perchangeskew</th>\n",
       "      <th>perchangeIQR</th>\n",
       "    </tr>\n",
       "  </thead>\n",
       "  <tbody>\n",
       "    <tr>\n",
       "      <th>0</th>\n",
       "      <td>A3</td>\n",
       "      <td>RF</td>\n",
       "      <td>A</td>\n",
       "      <td>0</td>\n",
       "      <td>F</td>\n",
       "      <td>1/27/2021</td>\n",
       "      <td>R</td>\n",
       "      <td>4/23/2019</td>\n",
       "      <td>21</td>\n",
       "      <td>4</td>\n",
       "      <td>...</td>\n",
       "      <td>645</td>\n",
       "      <td>3</td>\n",
       "      <td>6</td>\n",
       "      <td>6</td>\n",
       "      <td>1540.0</td>\n",
       "      <td>NaN</td>\n",
       "      <td>17.367862</td>\n",
       "      <td>NaN</td>\n",
       "      <td>NaN</td>\n",
       "      <td>NaN</td>\n",
       "    </tr>\n",
       "    <tr>\n",
       "      <th>1</th>\n",
       "      <td>A4</td>\n",
       "      <td>RF</td>\n",
       "      <td>A</td>\n",
       "      <td>0</td>\n",
       "      <td>F</td>\n",
       "      <td>1/27/2021</td>\n",
       "      <td>R</td>\n",
       "      <td>4/23/2019</td>\n",
       "      <td>21</td>\n",
       "      <td>4</td>\n",
       "      <td>...</td>\n",
       "      <td>645</td>\n",
       "      <td>3</td>\n",
       "      <td>6</td>\n",
       "      <td>6</td>\n",
       "      <td>1574.0</td>\n",
       "      <td>NaN</td>\n",
       "      <td>22.050636</td>\n",
       "      <td>NaN</td>\n",
       "      <td>NaN</td>\n",
       "      <td>NaN</td>\n",
       "    </tr>\n",
       "    <tr>\n",
       "      <th>2</th>\n",
       "      <td>A5</td>\n",
       "      <td>RF</td>\n",
       "      <td>A</td>\n",
       "      <td>0</td>\n",
       "      <td>F</td>\n",
       "      <td>4/6/2021</td>\n",
       "      <td>L</td>\n",
       "      <td>4/23/2019</td>\n",
       "      <td>23</td>\n",
       "      <td>14</td>\n",
       "      <td>...</td>\n",
       "      <td>714</td>\n",
       "      <td>3</td>\n",
       "      <td>6</td>\n",
       "      <td>6</td>\n",
       "      <td>1002.0</td>\n",
       "      <td>NaN</td>\n",
       "      <td>21.328531</td>\n",
       "      <td>NaN</td>\n",
       "      <td>NaN</td>\n",
       "      <td>NaN</td>\n",
       "    </tr>\n",
       "    <tr>\n",
       "      <th>3</th>\n",
       "      <td>A6</td>\n",
       "      <td>RF</td>\n",
       "      <td>A</td>\n",
       "      <td>0</td>\n",
       "      <td>F</td>\n",
       "      <td>4/6/2021</td>\n",
       "      <td>R</td>\n",
       "      <td>4/23/2019</td>\n",
       "      <td>23</td>\n",
       "      <td>14</td>\n",
       "      <td>...</td>\n",
       "      <td>714</td>\n",
       "      <td>3</td>\n",
       "      <td>6</td>\n",
       "      <td>6</td>\n",
       "      <td>985.0</td>\n",
       "      <td>NaN</td>\n",
       "      <td>15.687094</td>\n",
       "      <td>NaN</td>\n",
       "      <td>NaN</td>\n",
       "      <td>NaN</td>\n",
       "    </tr>\n",
       "    <tr>\n",
       "      <th>4</th>\n",
       "      <td>A7</td>\n",
       "      <td>RF</td>\n",
       "      <td>A</td>\n",
       "      <td>0</td>\n",
       "      <td>F</td>\n",
       "      <td>4/19/2021</td>\n",
       "      <td>L</td>\n",
       "      <td>5/29/2019</td>\n",
       "      <td>22</td>\n",
       "      <td>21</td>\n",
       "      <td>...</td>\n",
       "      <td>691</td>\n",
       "      <td>3</td>\n",
       "      <td>6</td>\n",
       "      <td>6</td>\n",
       "      <td>1691.0</td>\n",
       "      <td>NaN</td>\n",
       "      <td>52.102357</td>\n",
       "      <td>NaN</td>\n",
       "      <td>NaN</td>\n",
       "      <td>NaN</td>\n",
       "    </tr>\n",
       "  </tbody>\n",
       "</table>\n",
       "<p>5 rows × 21 columns</p>\n",
       "</div>"
      ],
      "text/plain": [
       "  Animal_ID Task Cohort  Probe_Control Sex   Sac_Date Frozen_Hemisphere  \\\n",
       "0        A3   RF      A              0   F  1/27/2021                 R   \n",
       "1        A4   RF      A              0   F  1/27/2021                 R   \n",
       "2        A5   RF      A              0   F   4/6/2021                 L   \n",
       "3        A6   RF      A              0   F   4/6/2021                 R   \n",
       "4        A7   RF      A              0   F  4/19/2021                 L   \n",
       "\n",
       "         DOB  Age_WholeMonth  Age_ExtraDays  ...  Aged_Days  Age_Group  \\\n",
       "0  4/23/2019              21              4  ...        645          3   \n",
       "1  4/23/2019              21              4  ...        645          3   \n",
       "2  4/23/2019              23             14  ...        714          3   \n",
       "3  4/23/2019              23             14  ...        714          3   \n",
       "4  5/29/2019              22             21  ...        691          3   \n",
       "\n",
       "   Behavior_Sessions  Neural_Sessions  Total_Cells  visualacuity  \\\n",
       "0                  6                6       1540.0           NaN   \n",
       "1                  6                6       1574.0           NaN   \n",
       "2                  6                6       1002.0           NaN   \n",
       "3                  6                6        985.0           NaN   \n",
       "4                  6                6       1691.0           NaN   \n",
       "\n",
       "   perchangespeedgain  perchangekurt  perchangeskew  perchangeIQR  \n",
       "0           17.367862            NaN            NaN           NaN  \n",
       "1           22.050636            NaN            NaN           NaN  \n",
       "2           21.328531            NaN            NaN           NaN  \n",
       "3           15.687094            NaN            NaN           NaN  \n",
       "4           52.102357            NaN            NaN           NaN  \n",
       "\n",
       "[5 rows x 21 columns]"
      ]
     },
     "execution_count": 3,
     "metadata": {},
     "output_type": "execute_result"
    }
   ],
   "source": [
    "''' Load Animal Metadata '''\n",
    "\n",
    "animalmeta = pd.read_csv('C:/Users/Python/Desktop/LocalData/animalmeta.csv')\n",
    "animalmeta.head()"
   ]
  },
  {
   "cell_type": "code",
   "execution_count": 4,
   "id": "ab8c2cbd",
   "metadata": {},
   "outputs": [],
   "source": [
    "'''Find names of specific animals groups'''\n",
    "all_aged_mice = np.array(animalmeta.loc[(animalmeta.Age_Group == 3),'Animal_ID'])\n",
    "all_MA_mice = np.array(animalmeta.loc[(animalmeta.Age_Group == 2),'Animal_ID'])\n",
    "all_young_mice = np.array(animalmeta.loc[(animalmeta.Age_Group == 1),'Animal_ID'])\n",
    "\n",
    "cohorta_mice = np.array(animalmeta.loc[(animalmeta.Cohort == 'A'),'Animal_ID'])\n",
    "cohortb_mice = np.array(animalmeta.loc[(animalmeta.Cohort == 'B'),'Animal_ID'])\n",
    "cohortc_mice = np.array(animalmeta.loc[(animalmeta.Cohort == 'C'),'Animal_ID'])\n",
    "cohortd_mice = np.array(animalmeta.loc[(animalmeta.Cohort == 'D'),'Animal_ID'])\n",
    "\n",
    "RF_aged_mice = np.array(animalmeta.loc[(animalmeta.Age_Group == 3) & (animalmeta.Task == 'RF'),'Animal_ID'])\n",
    "RF_young_mice = np.array(animalmeta.loc[(animalmeta.Age_Group == 1) & (animalmeta.Task == 'RF'),'Animal_ID'])\n",
    "SM_aged_mice = np.array(animalmeta.loc[(animalmeta.Age_Group == 3) & (animalmeta.Task == 'SM'),'Animal_ID'])\n",
    "SM_MA_mice = np.array(animalmeta.loc[(animalmeta.Age_Group == 2) & (animalmeta.Task == 'SM'),'Animal_ID'])\n",
    "SM_young_mice = np.array(animalmeta.loc[(animalmeta.Age_Group == 1) & (animalmeta.Task == 'SM'),'Animal_ID'])\n",
    "\n",
    "all_female_mice = np.array(animalmeta.loc[(animalmeta.Sex == 'F'),'Animal_ID'])\n",
    "all_male_mice = np.array(animalmeta.loc[(animalmeta.Sex == 'M'), 'Animal_ID'])\n",
    "RF_female_mice = np.array(animalmeta.loc[(animalmeta.Sex == 'F') & (animalmeta.Task == 'RF'),'Animal_ID'])\n",
    "RF_male_mice = np.array(animalmeta.loc[(animalmeta.Sex == 'M') & (animalmeta.Task == 'RF'),'Animal_ID'])\n",
    "SM_female_mice = np.array(animalmeta.loc[(animalmeta.Sex == 'F') & (animalmeta.Task == 'SM'),'Animal_ID'])\n",
    "SM_male_mice = np.array(animalmeta.loc[(animalmeta.Sex == 'M') & (animalmeta.Task == 'SM'),'Animal_ID'])"
   ]
  },
  {
   "cell_type": "code",
   "execution_count": 5,
   "id": "11b3f0cb",
   "metadata": {},
   "outputs": [],
   "source": [
    "''' Complete List of Mice & Sessions for Neural Data '''\n",
    "all_mice = np.array(animalmeta.Animal_ID)\n",
    "\n",
    "all_sessions = ([['0122_record1','0123_record2','0124_record3','0125_record4','0126_record5','0127_record6'], \n",
    "             ['0122_record1','0123_record2','0124_record3','0125_record4','0126_record5','0127_record6'],\n",
    "             ['0401_record1','0401_record2b','0403_record3','0404_record4','0405_record5','0406_record6'],\n",
    "             ['0401_record1','0402_record2','0403_record3','0404_record4','0405_record5','0406_record6'],\n",
    "             ['0414_record1','0415_record2','0416_record3','0417_record4','0418_record5','0419_record6'],\n",
    "             ['1024_record1','1025_record2','1026_record3','1027_record4','1028_record5_2'], #Y2_6 excluded\n",
    "             ['1016_record1','1019_record3','1020_record4','1021_record5','1022_record6'], #Y3_2 not collected\n",
    "             ['1114_record1','1115_record2','1116_record3','1117_record4','1118_record5','1119_record6'], # end cohort A\n",
    "             ['051822_record1','051922_record2', '052022_record3','052122_record4','052222_record5','052322_record6'], \n",
    "             ['050522_record1','050622_record2','050722_record3','050822_record4','050922_record5','051022_record6'],\n",
    "             ['050522_record1','050622_record2','050722_record3','050822_record4','051022_record6'], #Y11_5 not collected\n",
    "             ['062222_record3','062322_record4','062522_record5'], #Y16_1 & 2 not collected, neural _6 excluded\n",
    "             ['062822_record1','062922_record2','063022_record3','070122_record4','070222_record5','070322_record6'],\n",
    "             ['062022_record1','062122_record2','062222_record3','062322_record4','062522_record5','062622_record6'],\n",
    "             ['062822_record1','062922_record2','063022_record3','070122_record4','070222_record5','070322_record6'], \n",
    "             ['051922_record2','052022_record3'], # Y9 051822_record excluded for syncing issue, end cohort B\n",
    "             ['083022_record1','083122_record2','090122_record3'], \n",
    "             ['083022_record1','083122_record2','090122_record3','090222_record4','090322_record5','090422_record6'],\n",
    "             ['083022_record1','083122_record2','090122_record3','090222_record4'], #behavior of A16_4, both of 5 excluded, 6 not collected \n",
    "             ['082322_record1','082422_record2','082522_record3','082622_record4','082722_record5','082822_record6'],\n",
    "             ['082322_record1real','082422_record2','082522_record3','082622_record4','082722_record5','082822_record6'],\n",
    "             ['102322_record1','102422_record2','102522_record3','102622_record4','102722_record5','102822_record6'],\n",
    "             ['102322_record1','102422_record2','102522_record3','102622_record4','102722_record5','102822_record6'],\n",
    "             ['102322_record1','102422_record2','102522_record3','102622_record4','102722_record5','102822_record6'],\n",
    "             ['103122_record2','110122_record3','110222_record4','110322_record5rep','110422_record6','110522_record7'], #behavior of MA4M6, 7 excluded\n",
    "             ['110622_record1','110722_record2','110822_record3','110922_record4','111022_record5','111122_record6'],\n",
    "             ['103022_record1','103122_record2','110122_record3','110222_record4','110322_record5','110422_record6'],\n",
    "             ['103022_record1','103122_record2','110122_record3','110222_record4'], #behavior of MA7_4, both 5 excluded, 6 not collected\n",
    "             ['111322_record1','111422_record2','111522_record3','111622_record4','111722_record5','111822_record6'],\n",
    "             ['111322_record1','111422_record2','111522_record3','111622_record4','111722_record5','111822_record6'],\n",
    "             ['111322_record1','111422_record2','111522_record3','111622_record4','111722_record5','111822_record6'], \n",
    "             ['092522_record1','092622_record2','092722_record3','092822_record4','092922_record5','093022_record6'],\n",
    "             ['091822_record1','091922_record2','092022_record3','092122_record4','092222_record5','092322_record6'],\n",
    "             ['092522_record1','092622_record2','092722_record3','092822_record4','092922_record5','093022_record6'],\n",
    "             ['092522_record1','092622_record2','092722_record3','092822_record4','092922_record5','093022_record6'],\n",
    "             ['091822_record1','091922_record2','092022_record3','092122_record4','092222_record5','092322_record6'], #end cohortc\n",
    "             ['012723_record2','012823_record3','012923_record4','013023_record5','013123_record6','020123_record7'],\n",
    "             ['012623_record1','012723_record2','012823_record3','012923_record4','013023_record5','013123_record6'],\n",
    "             ['012923_record2','013023_record3','013123_record4','020123_record5','020223_record6','020323_record7'],\n",
    "             ['020923_record1','021023_record2','021123_record3','021223_record4','021323_record5','021423_record6'],\n",
    "             ['022623_record1','022723_record2','022823_record3','030123_record4','030223_record5','030323_record6'],\n",
    "             ['021623_record1','021723_record2','021823_record3','021923_record4','022023_record5','022123_record6'],\n",
    "             ['021623_record1','021723_record2','021823_record3','021923_record4','022023_record5','022123_record6'],\n",
    "             ['021623_record1','021723_record2','021823_record3','021923_record4','022023_record5rep','022123_record6'],\n",
    "             ['022623_record1','022723_record2','022823_record3','030123_record4','030223_record5','030323_record6'] #end cohort d \n",
    "            ]) #list of sessions"
   ]
  },
  {
   "cell_type": "code",
   "execution_count": 101,
   "id": "bbebe1c0",
   "metadata": {},
   "outputs": [],
   "source": [
    "'''Define which mice & sessions to load based on metadata'''\n",
    "# Define mice, sessions for particular cohorts\n",
    "mice , mice_ind, _  = np.intersect1d(all_mice, np.union1d(cohortc_mice, cohortd_mice), return_indices = True) # SM mice\n",
    "\n",
    "sessions = []\n",
    "for i in mice_ind:\n",
    "    sessions.append(all_sessions[i])\n",
    "\n",
    "# Make a dict to hold data\n",
    "data = {}\n",
    "\n",
    "for session, m in zip(sessions, mice):\n",
    "    data[m] = {}\n",
    "    \n",
    "    for s in session:\n",
    "        data[m][s] = {}"
   ]
  },
  {
   "cell_type": "markdown",
   "id": "cb7acc73",
   "metadata": {},
   "source": [
    "# Edit these paths"
   ]
  },
  {
   "cell_type": "code",
   "execution_count": 7,
   "id": "1afd74ae",
   "metadata": {},
   "outputs": [],
   "source": [
    "#Inputs\n",
    "load_folder = 'C:/Users/Python/Desktop/LocalData/filtered/' # adjust path to match output of Import & Filter\n",
    "shuffload_folder1 = 'C:/Users/Python/Desktop/Dryad/shuffle_scores/sparsity/' # adjust to match location of this Dryad repo folder\n",
    "shuffload_folder2 = 'C:/Users/Python/Desktop/Dryad/shuffle_scores/coherence/' # adjust to match location of this Dryad repo folder\n",
    "fig2s3_folder = 'C:/Users/Python/Desktop/LocalData/Figure2S3/' # adjust to match Figure 2/S3 output folder\n",
    "fig3s4_folder = 'C:/Users/Python/Desktop/LocalData/Figure3S4/' # adjust to match Figure 3/S4 output folder\n",
    "fig5_folder = 'C:/Users/Python/Desktop/LocalData/Figure5/' # adjust to match Figure 5 output\n",
    "int_save_folder = 'C:/Users/Python/Desktop/LocalData/FigureS6/' # adjust to match Shuffle Procedure output plotsave_folder\n",
    "\n",
    "#Output (create folder to hold the output of this notebook; then match the name of this repository below)\n",
    "save_folder = 'C:/Users/Python/Desktop/LocalData/FigureS5/' "
   ]
  },
  {
   "cell_type": "code",
   "execution_count": 102,
   "id": "b5d26dc7",
   "metadata": {
    "scrolled": true
   },
   "outputs": [
    {
     "data": {
      "application/vnd.jupyter.widget-view+json": {
       "model_id": "0c685d8e024b48cca1577335d7c27616",
       "version_major": 2,
       "version_minor": 0
      },
      "text/plain": [
       "  0%|          | 0/3 [00:00<?, ?it/s]"
      ]
     },
     "metadata": {},
     "output_type": "display_data"
    },
    {
     "data": {
      "application/vnd.jupyter.widget-view+json": {
       "model_id": "42a72dad95294b35b0dffd6135fe30d1",
       "version_major": 2,
       "version_minor": 0
      },
      "text/plain": [
       "  0%|          | 0/6 [00:00<?, ?it/s]"
      ]
     },
     "metadata": {},
     "output_type": "display_data"
    },
    {
     "data": {
      "application/vnd.jupyter.widget-view+json": {
       "model_id": "f5c544f43adc4cdb81fc851c5707ba64",
       "version_major": 2,
       "version_minor": 0
      },
      "text/plain": [
       "  0%|          | 0/4 [00:00<?, ?it/s]"
      ]
     },
     "metadata": {},
     "output_type": "display_data"
    },
    {
     "data": {
      "application/vnd.jupyter.widget-view+json": {
       "model_id": "afa05d667c934feab417ab7f3fed78f8",
       "version_major": 2,
       "version_minor": 0
      },
      "text/plain": [
       "  0%|          | 0/6 [00:00<?, ?it/s]"
      ]
     },
     "metadata": {},
     "output_type": "display_data"
    },
    {
     "data": {
      "application/vnd.jupyter.widget-view+json": {
       "model_id": "fb14201fa4444139936a8f7c94bc967e",
       "version_major": 2,
       "version_minor": 0
      },
      "text/plain": [
       "  0%|          | 0/6 [00:00<?, ?it/s]"
      ]
     },
     "metadata": {},
     "output_type": "display_data"
    },
    {
     "data": {
      "application/vnd.jupyter.widget-view+json": {
       "model_id": "5403155df9e0428fb5fb9996a2501415",
       "version_major": 2,
       "version_minor": 0
      },
      "text/plain": [
       "  0%|          | 0/6 [00:00<?, ?it/s]"
      ]
     },
     "metadata": {},
     "output_type": "display_data"
    },
    {
     "data": {
      "application/vnd.jupyter.widget-view+json": {
       "model_id": "af737c24fb844a01b6deb37eba904a5c",
       "version_major": 2,
       "version_minor": 0
      },
      "text/plain": [
       "  0%|          | 0/6 [00:00<?, ?it/s]"
      ]
     },
     "metadata": {},
     "output_type": "display_data"
    },
    {
     "data": {
      "application/vnd.jupyter.widget-view+json": {
       "model_id": "e2127185df784999a95a24243db870ec",
       "version_major": 2,
       "version_minor": 0
      },
      "text/plain": [
       "  0%|          | 0/6 [00:00<?, ?it/s]"
      ]
     },
     "metadata": {},
     "output_type": "display_data"
    },
    {
     "data": {
      "application/vnd.jupyter.widget-view+json": {
       "model_id": "395b2410f1d84858bce465741a21991e",
       "version_major": 2,
       "version_minor": 0
      },
      "text/plain": [
       "  0%|          | 0/6 [00:00<?, ?it/s]"
      ]
     },
     "metadata": {},
     "output_type": "display_data"
    },
    {
     "data": {
      "application/vnd.jupyter.widget-view+json": {
       "model_id": "f84b5662d90644029fa4e80ec2fd93d1",
       "version_major": 2,
       "version_minor": 0
      },
      "text/plain": [
       "  0%|          | 0/6 [00:00<?, ?it/s]"
      ]
     },
     "metadata": {},
     "output_type": "display_data"
    },
    {
     "data": {
      "application/vnd.jupyter.widget-view+json": {
       "model_id": "c29f0ae727384f2f991cd431d63034fb",
       "version_major": 2,
       "version_minor": 0
      },
      "text/plain": [
       "  0%|          | 0/6 [00:00<?, ?it/s]"
      ]
     },
     "metadata": {},
     "output_type": "display_data"
    },
    {
     "data": {
      "application/vnd.jupyter.widget-view+json": {
       "model_id": "47f4811fb575487facaddb22a96b066c",
       "version_major": 2,
       "version_minor": 0
      },
      "text/plain": [
       "  0%|          | 0/6 [00:00<?, ?it/s]"
      ]
     },
     "metadata": {},
     "output_type": "display_data"
    },
    {
     "data": {
      "application/vnd.jupyter.widget-view+json": {
       "model_id": "d03c9bd06e8d4d64b7e206d2641cfafe",
       "version_major": 2,
       "version_minor": 0
      },
      "text/plain": [
       "  0%|          | 0/6 [00:00<?, ?it/s]"
      ]
     },
     "metadata": {},
     "output_type": "display_data"
    },
    {
     "data": {
      "application/vnd.jupyter.widget-view+json": {
       "model_id": "57bff3301d0941aa986b74ee49812309",
       "version_major": 2,
       "version_minor": 0
      },
      "text/plain": [
       "  0%|          | 0/6 [00:00<?, ?it/s]"
      ]
     },
     "metadata": {},
     "output_type": "display_data"
    },
    {
     "data": {
      "application/vnd.jupyter.widget-view+json": {
       "model_id": "a8ca5713f6e94642a84eaa44446d1e60",
       "version_major": 2,
       "version_minor": 0
      },
      "text/plain": [
       "  0%|          | 0/6 [00:00<?, ?it/s]"
      ]
     },
     "metadata": {},
     "output_type": "display_data"
    },
    {
     "data": {
      "application/vnd.jupyter.widget-view+json": {
       "model_id": "748928587dfe4893bf533458a77035ed",
       "version_major": 2,
       "version_minor": 0
      },
      "text/plain": [
       "  0%|          | 0/6 [00:00<?, ?it/s]"
      ]
     },
     "metadata": {},
     "output_type": "display_data"
    },
    {
     "data": {
      "application/vnd.jupyter.widget-view+json": {
       "model_id": "c6af9245d1ad4d828098c97b67e30adb",
       "version_major": 2,
       "version_minor": 0
      },
      "text/plain": [
       "  0%|          | 0/6 [00:00<?, ?it/s]"
      ]
     },
     "metadata": {},
     "output_type": "display_data"
    },
    {
     "data": {
      "application/vnd.jupyter.widget-view+json": {
       "model_id": "f2247bda817f4c6ba4ebe0e2e40af679",
       "version_major": 2,
       "version_minor": 0
      },
      "text/plain": [
       "  0%|          | 0/4 [00:00<?, ?it/s]"
      ]
     },
     "metadata": {},
     "output_type": "display_data"
    },
    {
     "data": {
      "application/vnd.jupyter.widget-view+json": {
       "model_id": "e151a62ade6f44eab484e6dfe9a66673",
       "version_major": 2,
       "version_minor": 0
      },
      "text/plain": [
       "  0%|          | 0/6 [00:00<?, ?it/s]"
      ]
     },
     "metadata": {},
     "output_type": "display_data"
    },
    {
     "data": {
      "application/vnd.jupyter.widget-view+json": {
       "model_id": "5100d55f62374438ba006bf1316bd815",
       "version_major": 2,
       "version_minor": 0
      },
      "text/plain": [
       "  0%|          | 0/6 [00:00<?, ?it/s]"
      ]
     },
     "metadata": {},
     "output_type": "display_data"
    },
    {
     "data": {
      "application/vnd.jupyter.widget-view+json": {
       "model_id": "5ce3946d1945420ca136fb2a7cc61910",
       "version_major": 2,
       "version_minor": 0
      },
      "text/plain": [
       "  0%|          | 0/6 [00:00<?, ?it/s]"
      ]
     },
     "metadata": {},
     "output_type": "display_data"
    },
    {
     "data": {
      "application/vnd.jupyter.widget-view+json": {
       "model_id": "76f6fe0c9af2430495aa62b948d01e81",
       "version_major": 2,
       "version_minor": 0
      },
      "text/plain": [
       "  0%|          | 0/6 [00:00<?, ?it/s]"
      ]
     },
     "metadata": {},
     "output_type": "display_data"
    },
    {
     "data": {
      "application/vnd.jupyter.widget-view+json": {
       "model_id": "635c10beaffa48e993c33e83e08f39b2",
       "version_major": 2,
       "version_minor": 0
      },
      "text/plain": [
       "  0%|          | 0/6 [00:00<?, ?it/s]"
      ]
     },
     "metadata": {},
     "output_type": "display_data"
    },
    {
     "data": {
      "application/vnd.jupyter.widget-view+json": {
       "model_id": "20fb3e5afb4e4895815927c6ebdab7f9",
       "version_major": 2,
       "version_minor": 0
      },
      "text/plain": [
       "  0%|          | 0/6 [00:00<?, ?it/s]"
      ]
     },
     "metadata": {},
     "output_type": "display_data"
    },
    {
     "data": {
      "application/vnd.jupyter.widget-view+json": {
       "model_id": "2e685db5269e42339284203faa84fc6a",
       "version_major": 2,
       "version_minor": 0
      },
      "text/plain": [
       "  0%|          | 0/6 [00:00<?, ?it/s]"
      ]
     },
     "metadata": {},
     "output_type": "display_data"
    },
    {
     "data": {
      "application/vnd.jupyter.widget-view+json": {
       "model_id": "9030589dbfdf404986cc5390e9d7ab35",
       "version_major": 2,
       "version_minor": 0
      },
      "text/plain": [
       "  0%|          | 0/6 [00:00<?, ?it/s]"
      ]
     },
     "metadata": {},
     "output_type": "display_data"
    },
    {
     "data": {
      "application/vnd.jupyter.widget-view+json": {
       "model_id": "9c37a29ed0a44da2af076d2a03b9d635",
       "version_major": 2,
       "version_minor": 0
      },
      "text/plain": [
       "  0%|          | 0/6 [00:00<?, ?it/s]"
      ]
     },
     "metadata": {},
     "output_type": "display_data"
    },
    {
     "data": {
      "application/vnd.jupyter.widget-view+json": {
       "model_id": "0b6d814cdef0402bbdc66a3b19eac5a2",
       "version_major": 2,
       "version_minor": 0
      },
      "text/plain": [
       "  0%|          | 0/6 [00:00<?, ?it/s]"
      ]
     },
     "metadata": {},
     "output_type": "display_data"
    },
    {
     "data": {
      "application/vnd.jupyter.widget-view+json": {
       "model_id": "6923a3b8ce2e41b7817891d879001f0c",
       "version_major": 2,
       "version_minor": 0
      },
      "text/plain": [
       "  0%|          | 0/6 [00:00<?, ?it/s]"
      ]
     },
     "metadata": {},
     "output_type": "display_data"
    }
   ],
   "source": [
    "''' Load saved indices corresponding to quarters of the task sorted by context, excluding skipped trials ''' \n",
    "\n",
    "for m, session in zip(mice,sessions):\n",
    "    for s in tdqm(session):\n",
    "        d = data[m][s]\n",
    "        \n",
    "        #define file names\n",
    "        Aidx_file = 'Aidx_' + m + '_' + s +'.npy'\n",
    "        Bidx_file = 'Bidx_' + m + '_' + s +'.npy'\n",
    "        A_idx_file = 'A_idx_' + m + '_' + s +'.npy'\n",
    "        B_idx_file = 'B_idx_' + m + '_' + s +'.npy'\n",
    "        A_ngidx_file = 'A_idx_' + m + '_' + s +'.npy'\n",
    "        B_ngidx_file = 'B_idx_' + m + '_' + s +'.npy'\n",
    "        \n",
    "        #load saved indices for session section\n",
    "        d['Aidx'] = np.load(fig2s3_folder + Aidx_file)\n",
    "        d['Bidx'] = np.load(fig2s3_folder + Bidx_file)\n",
    "        d['A_idx'] = np.load(fig2s3_folder + A_idx_file)\n",
    "        d['B_idx'] = np.load(fig2s3_folder + B_idx_file)\n",
    "                \n",
    "        d['A_ngidx'] = np.load(fig2s3_folder + A_ngidx_file)\n",
    "        d['B_ngidx'] = np.load(fig2s3_folder + B_ngidx_file)\n",
    "        "
   ]
  },
  {
   "cell_type": "code",
   "execution_count": 103,
   "id": "94d97ffd",
   "metadata": {},
   "outputs": [],
   "source": [
    "''' Generate behavioral data for alternation'''\n",
    "\n",
    "#get lick & reward data\n",
    "rewarda_centers = []\n",
    "rewardb_centers = []\n",
    "\n",
    "for m, session in zip(mice, sessions):\n",
    "    for s in session:\n",
    "        d = data[m][s]\n",
    " \n",
    "        #load data\n",
    "        rawdata_file = 'RAW_' + m + '_' + s + '.npy'\n",
    "        spikes_file = 'SPIKES_' + m + '_' + s +'.npy'\n",
    "        behavior_file = 'BEHAVIOR_' + m + '_' + s + '.npy'\n",
    "        \n",
    "        raw = np.load(load_folder + rawdata_file, allow_pickle=True)\n",
    "        Y = np.load(load_folder + spikes_file, allow_pickle=False) #pre-filtered for speeds >2cm/s, position-corrected spikes, 20 ms timebins\n",
    "        behaviorfil = np.load(load_folder + behavior_file, allow_pickle=False)\n",
    "        \n",
    "        d['reward_data'] = {}\n",
    "        \n",
    "        # get behavioral params\n",
    "        posx = raw.item().get('posx')\n",
    "        post = raw.item().get('post')\n",
    "        dt = np.unique(np.round(np.diff(post),4))\n",
    "        lickt = raw.item().get('lickt')\n",
    "        trials_dark = np.sum(raw.item().get('trialinfo')['dark'])\n",
    "        reward = raw.item().get('reward')\n",
    "        reward['trials'] = np.arange(0,len(reward['trials']),1) # fixes occassional Unity error numbering of rewards \n",
    "        \n",
    "        if len(dt) > 1: # discard duplicate frame entries if they occurred\n",
    "            dt = dt[dt != 0]\n",
    "        speed = raw.item().get('speed')\n",
    "        \n",
    "        # get reward params & remove reward data pertaining to dark trials & skipped trials\n",
    "        try:\n",
    "            _ = raw.item().get('correctedtrial').shape\n",
    "            skippedtrials = get.find_skipped(trial, max_trial_num = 220)\n",
    "            nonskipped = np.setdiff1d(reward['trials'],skippedtrials)   \n",
    "            k_idx = np.intersect1d(np.where(reward['trials'] > trials_dark), nonskipped)\n",
    "            keep_idx = np.intersect1d(np.where(reward['trials'] <= np.max(alltrial)), k_idx)\n",
    "            \n",
    "        except:\n",
    "            skippedtrials = []\n",
    "            trial = raw.item().get('trial')\n",
    "            keep_idx = (np.where(reward['trials'] > trials_dark))\n",
    "        \n",
    "        reward_centers = np.array(reward['centers'][keep_idx])\n",
    "        rewardt = reward['times'][keep_idx]\n",
    "        reward_trials = reward['trials'][keep_idx]\n",
    "        misses = reward['missed'][keep_idx].astype(bool)\n",
    "        auto_reward = np.array(reward['auto'][keep_idx])\n",
    "        #print('Mouse ' + m + ' with n_misses: ' + str(np.sum(misses)))   \n",
    "\n",
    "        # get lick and reward indices\n",
    "        lick_ct = get.spiketrain(post, dt, lickt, index=False)\n",
    "        d['reward_data']['lick_ct'] = lick_ct\n",
    "        #print('got lick indices for mouse ' + m + ' session ' + s)\n",
    "        \n",
    "        reward_idx = get.rewardtrain(post, dt, rewardt, index=True) #gets reward ct for each time binned position range as index\n",
    "        d['reward_data']['reward_idx'] = reward_idx\n",
    "        #print('got reward indices for mouse ' + m + ' session ' + s)\n",
    "    \n",
    "    # saves list of reward locations per mouse\n",
    "    if reward['centers'][0] == 270:\n",
    "        rewarda_centers = np.append(rewarda_centers,270)\n",
    "        rewardb_centers = np.append(rewardb_centers,370)\n",
    "    else:\n",
    "        rewarda_centers = np.append(rewarda_centers,370)\n",
    "        rewardb_centers = np.append(rewardb_centers,270)            \n",
    "        \n",
    "#Find & Save Number of Missed Rewards per Session & Animal\n",
    "#block array\n",
    "blocksatiety = []\n",
    "blockreq = []\n",
    "blocktrialn = []\n",
    "\n",
    "#session arrays\n",
    "req_rates = []\n",
    "reqa_rates = []\n",
    "reqb_rates = []\n",
    "reqblock_rates = []\n",
    "reqalt_rates = []\n",
    "reqalta_rates = []\n",
    "reqaltb_rates = []\n",
    "req_trials = []\n",
    "reqblock_trials = []\n",
    "reqalt_trials = []\n",
    "\n",
    "#animals arrays\n",
    "mreq_rates = []\n",
    "mreqa_rates = []\n",
    "mreqb_rates = []\n",
    "mreqblock_rates = []\n",
    "mreqalt_rates = []\n",
    "mreqalta_rates = []\n",
    "mreqaltb_rates = []\n",
    "\n",
    "for m, session in zip(mice, sessions):\n",
    "    rt = []\n",
    "    ca = []\n",
    "    cb = []\n",
    "    blocks = []\n",
    "    alt = []\n",
    "    alta = []\n",
    "    altb = []\n",
    "    \n",
    "    req = []\n",
    "    reqa = []\n",
    "    reqb = []\n",
    "    reqblocks = []\n",
    "    reqalt = []\n",
    "    reqalta = []\n",
    "    reqaltb = []\n",
    "    \n",
    "    for s in session:\n",
    "        # get behavior data\n",
    "        d = data[m][s]\n",
    "        \n",
    "        #load data\n",
    "        rawdata_file = 'RAW_' + m + '_' + s + '.npy'\n",
    "        spikes_file = 'SPIKES_' + m + '_' + s +'.npy'\n",
    "        behavior_file = 'BEHAVIOR_' + m + '_' + s + '.npy'\n",
    "        \n",
    "        raw = np.load(load_folder + rawdata_file, allow_pickle=True)\n",
    "        Y = np.load(load_folder + spikes_file, allow_pickle=False) #pre-filtered for speeds >2cm/s, position-corrected spikes, 20 ms timebins\n",
    "        behaviorfil = np.load(load_folder + behavior_file, allow_pickle=False)\n",
    "        \n",
    "        posx = raw.item().get('posx')\n",
    "        post = raw.item().get('post')\n",
    "        dt = np.unique(np.round(np.diff(post),4))\n",
    "        if len(dt) > 1: # discard duplicate frame entries if they occurred\n",
    "            dt = dt[dt != 0]\n",
    "        speed = raw.item().get('speed')\n",
    "        \n",
    "        # get reward params & remove reward data pertaining to dark trials & skipped trials\n",
    "        lickt = raw.item().get('lickt')\n",
    "        trials_dark = np.sum(raw.item().get('trialinfo')['dark'])\n",
    "        reward = raw.item().get('reward')\n",
    "        reward['trials'] = np.arange(0,len(reward['trials']),1)\n",
    "        \n",
    "        # get reward params & remove reward data pertaining to dark trials & skipped trials\n",
    "        try:\n",
    "            _ = raw.item().get('correctedtrial').shape\n",
    "            skippedtrials = get.find_skipped(trial, max_trial_num = 220)\n",
    "            nonskipped = np.setdiff1d(reward['trials'],skippedtrials)   \n",
    "            k_idx = np.intersect1d(np.where(reward['trials'] > trials_dark), nonskipped)\n",
    "            keep_idx = np.intersect1d(np.where(reward['trials'] <= np.max(alltrial)), k_idx)\n",
    "            \n",
    "        except:\n",
    "            skippedtrials = []\n",
    "            trial = raw.item().get('trial')\n",
    "            keep_idx = (np.where(reward['trials'] > trials_dark))\n",
    "        \n",
    "        reward_centers = np.array(reward['centers'][keep_idx])\n",
    "        rewarda = reward_centers[0]\n",
    "        rewardb = reward_centers[60]\n",
    "        rewardt = reward['times'][keep_idx]\n",
    "        reward_trials = reward['trials'][keep_idx]\n",
    "        misses = reward['missed'][keep_idx].astype(bool)\n",
    "        requests = ~misses\n",
    "        \n",
    "        # find rate of requests for a given session\n",
    "        req_rates.append(np.sum(requests)/len(reward_trials)) #total\n",
    "        \n",
    "        rewarda_idx = np.where(reward_trials < 81)[0]\n",
    "        reqa_rates.append(np.sum(requests[rewarda_idx])/len(rewarda_idx)) #context a\n",
    "        \n",
    "        rewardb_idx = np.intersect1d((np.where(reward_trials >= 81)), (np.where(reward_trials <= 140)))\n",
    "        reqb_rates.append(np.sum(requests[rewardb_idx])/len(rewardb_idx)) #context b\n",
    "        \n",
    "        block_idx = np.where(reward_trials < 140)[0]\n",
    "        reqblock_rates.append(np.sum(requests[block_idx])/len(block_idx)) #block\n",
    "        \n",
    "        alt_idx = np.where(reward_trials >= 140)[0]\n",
    "        reqalt_rates.append(np.sum(requests[alt_idx])/len(alt_idx)) #alt\n",
    "        \n",
    "        alta_idx = np.where((reward_trials >= 140) & (reward_centers == rewarda))[0] \n",
    "        reqalta_rates.append(np.mean(requests[alta_idx]))\n",
    "        \n",
    "        altb_idx = np.where((reward_trials >= 140) & (reward_centers == rewardb))[0]\n",
    "        reqaltb_rates.append(np.mean(requests[altb_idx]))\n",
    "        \n",
    "        rt = np.append(rt,len(reward_trials))\n",
    "        ca = np.append(ca,len(rewarda_idx))\n",
    "        cb = np.append(cb,len(rewardb_idx))\n",
    "        blocks = np.append(blocks,len(block_idx))\n",
    "        alt = np.append(alt,len(alt_idx))\n",
    "        alta = np.append(alta, len(alta_idx))\n",
    "        altb = np.append(altb, len(altb_idx))\n",
    "        \n",
    "        req_trials = np.append(req_trials, len(reward_trials))\n",
    "        reqblock_trials = np.append(reqblock_trials, len(block_idx))\n",
    "        reqalt_trials = np.append(reqalt_trials, len(alt_idx))\n",
    "        \n",
    "        d['altreqbytrial'] = requests[alt_idx]\n",
    "        \n",
    "        req = np.append(req,np.sum(requests))\n",
    "        reqa = np.append(reqa,np.sum(requests[rewarda_idx]))\n",
    "        reqb = np.append(reqb,np.sum(requests[rewardb_idx]))\n",
    "        reqblocks = np.append(reqblocks,np.sum(requests[block_idx]))\n",
    "        reqalt = np.append(reqalt,np.sum(requests[alt_idx]))\n",
    "        reqalta = np.append(reqalta,requests[alta_idx])\n",
    "        reqaltb = np.append(reqaltb,requests[altb_idx])\n",
    "        \n",
    "        # append req rates from blocks into block req array len(4 x total sessions)\n",
    "        blockreq = np.append(blockreq, np.mean(requests[rewarda_idx])) # block 1\n",
    "        blockreq = np.append(blockreq, np.mean(requests[rewardb_idx])) # block 2\n",
    "        blockreq = np.append(blockreq, np.mean(requests[alta_idx])) # block 3\n",
    "        blockreq = np.append(blockreq, np.mean(requests[altb_idx])) # block 4   \n",
    "        \n",
    "        blocktrialn = np.append(blocktrialn, len(requests[rewarda_idx]))\n",
    "        blocktrialn = np.append(blocktrialn, len(requests[rewardb_idx]))\n",
    "        blocktrialn = np.append(blocktrialn, len(requests[alta_idx]))\n",
    "        blocktrialn = np.append(blocktrialn, len(requests[altb_idx]))\n",
    "        \n",
    "        # append reward counts from previous task block into block satiety array len(4 x total sessions)\n",
    "        blocksatiety = np.append(blocksatiety, 0) #no rewards before block a for every animal\n",
    "        blocksatiety = np.append(blocksatiety, np.sum(requests[rewarda_idx])) # count of rewards consumed before block b\n",
    "        blocksatiety = np.append(blocksatiety, (np.sum(requests[rewarda_idx]) + np.sum(requests[rewardb_idx]))) # before alta\n",
    "        blocksatiety = np.append(blocksatiety, (np.sum(requests[rewarda_idx]) + np.sum(requests[rewardb_idx]) + np.sum(requests[alta_idx]))) # beforealtb             \n",
    "                          \n",
    "    # get mouse request rate collapsing days\n",
    "    mreqrate = np.sum(req)/ np.sum(rt)\n",
    "    mreq_rates = np.append(mreq_rates,mreqrate)\n",
    "    \n",
    "    mreqarate = np.sum(reqa) / np.sum(ca)\n",
    "    mreqa_rates = np.append(mreqa_rates, mreqarate)\n",
    "    \n",
    "    mreqbrate = np.sum(reqb) / np.sum(cb)\n",
    "    mreqb_rates = np.append(mreqb_rates, mreqbrate)\n",
    "    \n",
    "    mreqblockrate = np.sum(reqblocks) / np.sum(blocks)\n",
    "    mreqblock_rates = np.append(mreqblock_rates, mreqblockrate)\n",
    "    \n",
    "    mreqaltrate = np.sum(reqalt) / np.sum(alt)\n",
    "    mreqalt_rates = np.append(mreqalt_rates, mreqaltrate)\n",
    "    \n",
    "    mreqalta_rates = np.append(mreqalta_rates, np.mean(reqalta))\n",
    "    mreqaltb_rates = np.append(mreqaltb_rates, np.mean(reqaltb))"
   ]
  },
  {
   "cell_type": "code",
   "execution_count": 104,
   "id": "996e9442",
   "metadata": {
    "scrolled": true
   },
   "outputs": [
    {
     "data": {
      "application/vnd.jupyter.widget-view+json": {
       "model_id": "bb1dddc47d4a43acbe94583bcb8ce687",
       "version_major": 2,
       "version_minor": 0
      },
      "text/plain": [
       "  0%|          | 0/3 [00:00<?, ?it/s]"
      ]
     },
     "metadata": {},
     "output_type": "display_data"
    },
    {
     "data": {
      "application/vnd.jupyter.widget-view+json": {
       "model_id": "1c69a98747514a5ea8c707cfb24eb5f9",
       "version_major": 2,
       "version_minor": 0
      },
      "text/plain": [
       "  0%|          | 0/6 [00:00<?, ?it/s]"
      ]
     },
     "metadata": {},
     "output_type": "display_data"
    },
    {
     "data": {
      "application/vnd.jupyter.widget-view+json": {
       "model_id": "41e2111908ee401dafffab1543303cb8",
       "version_major": 2,
       "version_minor": 0
      },
      "text/plain": [
       "  0%|          | 0/4 [00:00<?, ?it/s]"
      ]
     },
     "metadata": {},
     "output_type": "display_data"
    },
    {
     "data": {
      "application/vnd.jupyter.widget-view+json": {
       "model_id": "c185c20f635e40d5a5606de090a0fc01",
       "version_major": 2,
       "version_minor": 0
      },
      "text/plain": [
       "  0%|          | 0/6 [00:00<?, ?it/s]"
      ]
     },
     "metadata": {},
     "output_type": "display_data"
    },
    {
     "data": {
      "application/vnd.jupyter.widget-view+json": {
       "model_id": "a54b140e779e468e976550e6686298a5",
       "version_major": 2,
       "version_minor": 0
      },
      "text/plain": [
       "  0%|          | 0/6 [00:00<?, ?it/s]"
      ]
     },
     "metadata": {},
     "output_type": "display_data"
    },
    {
     "data": {
      "application/vnd.jupyter.widget-view+json": {
       "model_id": "449c1bf172264f30ae7047f53af022a5",
       "version_major": 2,
       "version_minor": 0
      },
      "text/plain": [
       "  0%|          | 0/6 [00:00<?, ?it/s]"
      ]
     },
     "metadata": {},
     "output_type": "display_data"
    },
    {
     "data": {
      "application/vnd.jupyter.widget-view+json": {
       "model_id": "cdb0c3cd940847a8a635103fd341263e",
       "version_major": 2,
       "version_minor": 0
      },
      "text/plain": [
       "  0%|          | 0/6 [00:00<?, ?it/s]"
      ]
     },
     "metadata": {},
     "output_type": "display_data"
    },
    {
     "data": {
      "application/vnd.jupyter.widget-view+json": {
       "model_id": "4926c19dbd994599b2759b32455420cf",
       "version_major": 2,
       "version_minor": 0
      },
      "text/plain": [
       "  0%|          | 0/6 [00:00<?, ?it/s]"
      ]
     },
     "metadata": {},
     "output_type": "display_data"
    },
    {
     "data": {
      "application/vnd.jupyter.widget-view+json": {
       "model_id": "36d1bb89fda64c59b74cb0fc88f9ef27",
       "version_major": 2,
       "version_minor": 0
      },
      "text/plain": [
       "  0%|          | 0/6 [00:00<?, ?it/s]"
      ]
     },
     "metadata": {},
     "output_type": "display_data"
    },
    {
     "data": {
      "application/vnd.jupyter.widget-view+json": {
       "model_id": "c3e870bf88b8420e90ebb0beade53336",
       "version_major": 2,
       "version_minor": 0
      },
      "text/plain": [
       "  0%|          | 0/6 [00:00<?, ?it/s]"
      ]
     },
     "metadata": {},
     "output_type": "display_data"
    },
    {
     "data": {
      "application/vnd.jupyter.widget-view+json": {
       "model_id": "5e447e114fe44f5cb4f2cf9cc0d1ae29",
       "version_major": 2,
       "version_minor": 0
      },
      "text/plain": [
       "  0%|          | 0/6 [00:00<?, ?it/s]"
      ]
     },
     "metadata": {},
     "output_type": "display_data"
    },
    {
     "data": {
      "application/vnd.jupyter.widget-view+json": {
       "model_id": "e28dc16c8c1149c186238bfd432068d8",
       "version_major": 2,
       "version_minor": 0
      },
      "text/plain": [
       "  0%|          | 0/6 [00:00<?, ?it/s]"
      ]
     },
     "metadata": {},
     "output_type": "display_data"
    },
    {
     "data": {
      "application/vnd.jupyter.widget-view+json": {
       "model_id": "c7ca6350bbb545f980d7c80b50757396",
       "version_major": 2,
       "version_minor": 0
      },
      "text/plain": [
       "  0%|          | 0/6 [00:00<?, ?it/s]"
      ]
     },
     "metadata": {},
     "output_type": "display_data"
    },
    {
     "data": {
      "application/vnd.jupyter.widget-view+json": {
       "model_id": "b688daaf2c0143c0aabc099ba4f7b32d",
       "version_major": 2,
       "version_minor": 0
      },
      "text/plain": [
       "  0%|          | 0/6 [00:00<?, ?it/s]"
      ]
     },
     "metadata": {},
     "output_type": "display_data"
    },
    {
     "data": {
      "application/vnd.jupyter.widget-view+json": {
       "model_id": "265e74bf6bc341a5a9664d18837a0a39",
       "version_major": 2,
       "version_minor": 0
      },
      "text/plain": [
       "  0%|          | 0/6 [00:00<?, ?it/s]"
      ]
     },
     "metadata": {},
     "output_type": "display_data"
    },
    {
     "data": {
      "application/vnd.jupyter.widget-view+json": {
       "model_id": "8753edae3faf421687b403f1e407c816",
       "version_major": 2,
       "version_minor": 0
      },
      "text/plain": [
       "  0%|          | 0/6 [00:00<?, ?it/s]"
      ]
     },
     "metadata": {},
     "output_type": "display_data"
    },
    {
     "data": {
      "application/vnd.jupyter.widget-view+json": {
       "model_id": "f5c051299f754291afac09492d2e15b4",
       "version_major": 2,
       "version_minor": 0
      },
      "text/plain": [
       "  0%|          | 0/6 [00:00<?, ?it/s]"
      ]
     },
     "metadata": {},
     "output_type": "display_data"
    },
    {
     "data": {
      "application/vnd.jupyter.widget-view+json": {
       "model_id": "2faae6ec959f4605868f74a2af265d8d",
       "version_major": 2,
       "version_minor": 0
      },
      "text/plain": [
       "  0%|          | 0/4 [00:00<?, ?it/s]"
      ]
     },
     "metadata": {},
     "output_type": "display_data"
    },
    {
     "data": {
      "application/vnd.jupyter.widget-view+json": {
       "model_id": "a0c08e48a14b4d75a04541dec29e804a",
       "version_major": 2,
       "version_minor": 0
      },
      "text/plain": [
       "  0%|          | 0/6 [00:00<?, ?it/s]"
      ]
     },
     "metadata": {},
     "output_type": "display_data"
    },
    {
     "data": {
      "application/vnd.jupyter.widget-view+json": {
       "model_id": "63fd57cd712c4483b2265230a969ee3d",
       "version_major": 2,
       "version_minor": 0
      },
      "text/plain": [
       "  0%|          | 0/6 [00:00<?, ?it/s]"
      ]
     },
     "metadata": {},
     "output_type": "display_data"
    },
    {
     "data": {
      "application/vnd.jupyter.widget-view+json": {
       "model_id": "9636f246abaf41689c56a85895f018b1",
       "version_major": 2,
       "version_minor": 0
      },
      "text/plain": [
       "  0%|          | 0/6 [00:00<?, ?it/s]"
      ]
     },
     "metadata": {},
     "output_type": "display_data"
    },
    {
     "data": {
      "application/vnd.jupyter.widget-view+json": {
       "model_id": "30bfc1a2fd774c79a630fe8dffc0a272",
       "version_major": 2,
       "version_minor": 0
      },
      "text/plain": [
       "  0%|          | 0/6 [00:00<?, ?it/s]"
      ]
     },
     "metadata": {},
     "output_type": "display_data"
    },
    {
     "data": {
      "application/vnd.jupyter.widget-view+json": {
       "model_id": "462bb7863e9748f791506a55788e5821",
       "version_major": 2,
       "version_minor": 0
      },
      "text/plain": [
       "  0%|          | 0/6 [00:00<?, ?it/s]"
      ]
     },
     "metadata": {},
     "output_type": "display_data"
    },
    {
     "data": {
      "application/vnd.jupyter.widget-view+json": {
       "model_id": "519fc9dd4f5b4bcc94e310aebafdf417",
       "version_major": 2,
       "version_minor": 0
      },
      "text/plain": [
       "  0%|          | 0/6 [00:00<?, ?it/s]"
      ]
     },
     "metadata": {},
     "output_type": "display_data"
    },
    {
     "data": {
      "application/vnd.jupyter.widget-view+json": {
       "model_id": "e96c1d4fcc4748adb4d154c684665bc2",
       "version_major": 2,
       "version_minor": 0
      },
      "text/plain": [
       "  0%|          | 0/6 [00:00<?, ?it/s]"
      ]
     },
     "metadata": {},
     "output_type": "display_data"
    },
    {
     "data": {
      "application/vnd.jupyter.widget-view+json": {
       "model_id": "eac27050d754438d99cd49803ffa9600",
       "version_major": 2,
       "version_minor": 0
      },
      "text/plain": [
       "  0%|          | 0/6 [00:00<?, ?it/s]"
      ]
     },
     "metadata": {},
     "output_type": "display_data"
    },
    {
     "data": {
      "application/vnd.jupyter.widget-view+json": {
       "model_id": "2bff7fe237f4421d84e504cee3953766",
       "version_major": 2,
       "version_minor": 0
      },
      "text/plain": [
       "  0%|          | 0/6 [00:00<?, ?it/s]"
      ]
     },
     "metadata": {},
     "output_type": "display_data"
    },
    {
     "data": {
      "application/vnd.jupyter.widget-view+json": {
       "model_id": "b38a32404b51471ab147bde0f6b80d0b",
       "version_major": 2,
       "version_minor": 0
      },
      "text/plain": [
       "  0%|          | 0/6 [00:00<?, ?it/s]"
      ]
     },
     "metadata": {},
     "output_type": "display_data"
    },
    {
     "data": {
      "application/vnd.jupyter.widget-view+json": {
       "model_id": "1333abce99f646839df6a7c7cece5292",
       "version_major": 2,
       "version_minor": 0
      },
      "text/plain": [
       "  0%|          | 0/6 [00:00<?, ?it/s]"
      ]
     },
     "metadata": {},
     "output_type": "display_data"
    }
   ],
   "source": [
    "''' Load spatial cell (Figure 2/S3) and intn (Shuffle Procedure) booleans generated by previous notebooks. '''\n",
    "\n",
    "for m, session in zip(mice, sessions):\n",
    "    for s in tdqm(session):\n",
    "        d = data[m][s]\n",
    "        \n",
    "        #get file names\n",
    "        spatialcell99_file = 'spatialcell99_' + m + '_' + s + '.npy'\n",
    "        intn_file = 'intn_' + m + '_' + s + '.npy'\n",
    "\n",
    "        #load stuff\n",
    "        d['spatialcell99'] = np.load(fig2s3_folder + spatialcell99_file, allow_pickle = True)\n",
    "        d['intn'] = np.load(int_save_folder + intn_file, allow_pickle = True)"
   ]
  },
  {
   "cell_type": "code",
   "execution_count": 105,
   "id": "06b85693",
   "metadata": {},
   "outputs": [
    {
     "data": {
      "application/vnd.jupyter.widget-view+json": {
       "model_id": "ddcfdfbd8f774ba088a844cee2594b15",
       "version_major": 2,
       "version_minor": 0
      },
      "text/plain": [
       "  0%|          | 0/3 [00:00<?, ?it/s]"
      ]
     },
     "metadata": {},
     "output_type": "display_data"
    },
    {
     "name": "stdout",
     "output_type": "stream",
     "text": [
      "A14, 083022_record1 n grid, ngs cells: 8 , 50\n",
      "A14, 083122_record2 n grid, ngs cells: 35 , 2\n",
      "A14, 090122_record3 n grid, ngs cells: 17 , 13\n"
     ]
    },
    {
     "data": {
      "application/vnd.jupyter.widget-view+json": {
       "model_id": "894adbf183c5450b825ebf1cbd6f94bf",
       "version_major": 2,
       "version_minor": 0
      },
      "text/plain": [
       "  0%|          | 0/6 [00:00<?, ?it/s]"
      ]
     },
     "metadata": {},
     "output_type": "display_data"
    },
    {
     "name": "stdout",
     "output_type": "stream",
     "text": [
      "A15, 083022_record1 n grid, ngs cells: 4 , 6\n",
      "A15, 083122_record2 n grid, ngs cells: 86 , 33\n",
      "A15, 090122_record3 n grid, ngs cells: 89 , 37\n",
      "A15, 090222_record4 n grid, ngs cells: 128 , 65\n",
      "A15, 090322_record5 n grid, ngs cells: 37 , 30\n",
      "A15, 090422_record6 n grid, ngs cells: 24 , 19\n"
     ]
    },
    {
     "data": {
      "application/vnd.jupyter.widget-view+json": {
       "model_id": "e393cfcdca294e4fb82044ac6b3c9f13",
       "version_major": 2,
       "version_minor": 0
      },
      "text/plain": [
       "  0%|          | 0/4 [00:00<?, ?it/s]"
      ]
     },
     "metadata": {},
     "output_type": "display_data"
    },
    {
     "name": "stdout",
     "output_type": "stream",
     "text": [
      "A16, 083022_record1 n grid, ngs cells: 19 , 23\n",
      "A16, 083122_record2 n grid, ngs cells: 60 , 36\n",
      "A16, 090122_record3 n grid, ngs cells: 0 , 1\n",
      "A16, 090222_record4 n grid, ngs cells: 12 , 42\n"
     ]
    },
    {
     "data": {
      "application/vnd.jupyter.widget-view+json": {
       "model_id": "b0f6b18561eb47c6ac7d97b52dfba178",
       "version_major": 2,
       "version_minor": 0
      },
      "text/plain": [
       "  0%|          | 0/6 [00:00<?, ?it/s]"
      ]
     },
     "metadata": {},
     "output_type": "display_data"
    },
    {
     "name": "stdout",
     "output_type": "stream",
     "text": [
      "A17, 082322_record1 n grid, ngs cells: 1 , 2\n",
      "A17, 082422_record2 n grid, ngs cells: 2 , 6\n",
      "A17, 082522_record3 n grid, ngs cells: 40 , 35\n",
      "A17, 082622_record4 n grid, ngs cells: 42 , 17\n",
      "A17, 082722_record5 n grid, ngs cells: 32 , 21\n",
      "A17, 082822_record6 n grid, ngs cells: 54 , 25\n"
     ]
    },
    {
     "data": {
      "application/vnd.jupyter.widget-view+json": {
       "model_id": "1f811ac5298b46b2a3cbececd1d4cf20",
       "version_major": 2,
       "version_minor": 0
      },
      "text/plain": [
       "  0%|          | 0/6 [00:00<?, ?it/s]"
      ]
     },
     "metadata": {},
     "output_type": "display_data"
    },
    {
     "name": "stdout",
     "output_type": "stream",
     "text": [
      "A18, 082322_record1real n grid, ngs cells: 13 , 10\n",
      "A18, 082422_record2 n grid, ngs cells: 66 , 169\n",
      "A18, 082522_record3 n grid, ngs cells: 68 , 117\n",
      "A18, 082622_record4 n grid, ngs cells: 44 , 64\n",
      "A18, 082722_record5 n grid, ngs cells: 47 , 10\n",
      "A18, 082822_record6 n grid, ngs cells: 0 , 5\n"
     ]
    },
    {
     "data": {
      "application/vnd.jupyter.widget-view+json": {
       "model_id": "ba00158771d84f51aac8674953e4383b",
       "version_major": 2,
       "version_minor": 0
      },
      "text/plain": [
       "  0%|          | 0/6 [00:00<?, ?it/s]"
      ]
     },
     "metadata": {},
     "output_type": "display_data"
    },
    {
     "name": "stdout",
     "output_type": "stream",
     "text": [
      "A19, 012723_record2 n grid, ngs cells: 17 , 1\n",
      "A19, 012823_record3 n grid, ngs cells: 22 , 75\n",
      "A19, 012923_record4 n grid, ngs cells: 34 , 64\n",
      "A19, 013023_record5 n grid, ngs cells: 54 , 38\n",
      "A19, 013123_record6 n grid, ngs cells: 35 , 18\n",
      "A19, 020123_record7 n grid, ngs cells: 54 , 31\n"
     ]
    },
    {
     "data": {
      "application/vnd.jupyter.widget-view+json": {
       "model_id": "ec577644fbde45a4bfc05c6feab99565",
       "version_major": 2,
       "version_minor": 0
      },
      "text/plain": [
       "  0%|          | 0/6 [00:00<?, ?it/s]"
      ]
     },
     "metadata": {},
     "output_type": "display_data"
    },
    {
     "name": "stdout",
     "output_type": "stream",
     "text": [
      "A20, 012623_record1 n grid, ngs cells: 3 , 18\n",
      "A20, 012723_record2 n grid, ngs cells: 24 , 50\n",
      "A20, 012823_record3 n grid, ngs cells: 69 , 56\n",
      "A20, 012923_record4 n grid, ngs cells: 21 , 42\n",
      "A20, 013023_record5 n grid, ngs cells: 22 , 55\n",
      "A20, 013123_record6 n grid, ngs cells: 9 , 32\n"
     ]
    },
    {
     "data": {
      "application/vnd.jupyter.widget-view+json": {
       "model_id": "1c7d0eb049254f75944d5e940af9edae",
       "version_major": 2,
       "version_minor": 0
      },
      "text/plain": [
       "  0%|          | 0/6 [00:00<?, ?it/s]"
      ]
     },
     "metadata": {},
     "output_type": "display_data"
    },
    {
     "name": "stdout",
     "output_type": "stream",
     "text": [
      "A22, 012923_record2 n grid, ngs cells: 58 , 39\n",
      "A22, 013023_record3 n grid, ngs cells: 79 , 122\n",
      "A22, 013123_record4 n grid, ngs cells: 55 , 46\n",
      "A22, 020123_record5 n grid, ngs cells: 10 , 12\n",
      "A22, 020223_record6 n grid, ngs cells: 31 , 38\n",
      "A22, 020323_record7 n grid, ngs cells: 12 , 5\n"
     ]
    },
    {
     "data": {
      "application/vnd.jupyter.widget-view+json": {
       "model_id": "6702aaceea0a4ef4bf79188f6ecdf484",
       "version_major": 2,
       "version_minor": 0
      },
      "text/plain": [
       "  0%|          | 0/6 [00:00<?, ?it/s]"
      ]
     },
     "metadata": {},
     "output_type": "display_data"
    },
    {
     "name": "stdout",
     "output_type": "stream",
     "text": [
      "A23, 020923_record1 n grid, ngs cells: 4 , 10\n",
      "A23, 021023_record2 n grid, ngs cells: 27 , 63\n",
      "A23, 021123_record3 n grid, ngs cells: 29 , 66\n",
      "A23, 021223_record4 n grid, ngs cells: 9 , 3\n",
      "A23, 021323_record5 n grid, ngs cells: 27 , 38\n",
      "A23, 021423_record6 n grid, ngs cells: 50 , 54\n"
     ]
    },
    {
     "data": {
      "application/vnd.jupyter.widget-view+json": {
       "model_id": "fbcbddff773347f890bcfbeed7b3932b",
       "version_major": 2,
       "version_minor": 0
      },
      "text/plain": [
       "  0%|          | 0/6 [00:00<?, ?it/s]"
      ]
     },
     "metadata": {},
     "output_type": "display_data"
    },
    {
     "name": "stdout",
     "output_type": "stream",
     "text": [
      "A24, 022623_record1 n grid, ngs cells: 41 , 34\n",
      "A24, 022723_record2 n grid, ngs cells: 108 , 65\n",
      "A24, 022823_record3 n grid, ngs cells: 61 , 63\n",
      "A24, 030123_record4 n grid, ngs cells: 66 , 37\n",
      "A24, 030223_record5 n grid, ngs cells: 53 , 26\n",
      "A24, 030323_record6 n grid, ngs cells: 20 , 19\n"
     ]
    },
    {
     "data": {
      "application/vnd.jupyter.widget-view+json": {
       "model_id": "c0ae68c308f9482e8d4b2052c5f8d4e1",
       "version_major": 2,
       "version_minor": 0
      },
      "text/plain": [
       "  0%|          | 0/6 [00:00<?, ?it/s]"
      ]
     },
     "metadata": {},
     "output_type": "display_data"
    },
    {
     "name": "stdout",
     "output_type": "stream",
     "text": [
      "MA10F, 111322_record1 n grid, ngs cells: 69 , 91\n",
      "MA10F, 111422_record2 n grid, ngs cells: 52 , 48\n",
      "MA10F, 111522_record3 n grid, ngs cells: 38 , 24\n",
      "MA10F, 111622_record4 n grid, ngs cells: 19 , 24\n",
      "MA10F, 111722_record5 n grid, ngs cells: 17 , 28\n",
      "MA10F, 111822_record6 n grid, ngs cells: 39 , 61\n"
     ]
    },
    {
     "data": {
      "application/vnd.jupyter.widget-view+json": {
       "model_id": "4a1ec138fc5847918e1fa482123a3d63",
       "version_major": 2,
       "version_minor": 0
      },
      "text/plain": [
       "  0%|          | 0/6 [00:00<?, ?it/s]"
      ]
     },
     "metadata": {},
     "output_type": "display_data"
    },
    {
     "name": "stdout",
     "output_type": "stream",
     "text": [
      "MA1F, 102322_record1 n grid, ngs cells: 33 , 25\n",
      "MA1F, 102422_record2 n grid, ngs cells: 53 , 28\n",
      "MA1F, 102522_record3 n grid, ngs cells: 48 , 21\n",
      "MA1F, 102622_record4 n grid, ngs cells: 9 , 8\n",
      "MA1F, 102722_record5 n grid, ngs cells: 71 , 52\n",
      "MA1F, 102822_record6 n grid, ngs cells: 72 , 28\n"
     ]
    },
    {
     "data": {
      "application/vnd.jupyter.widget-view+json": {
       "model_id": "bf68df9a37a24a1d8f5b71cd9e08330f",
       "version_major": 2,
       "version_minor": 0
      },
      "text/plain": [
       "  0%|          | 0/6 [00:00<?, ?it/s]"
      ]
     },
     "metadata": {},
     "output_type": "display_data"
    },
    {
     "name": "stdout",
     "output_type": "stream",
     "text": [
      "MA2F, 102322_record1 n grid, ngs cells: 47 , 76\n",
      "MA2F, 102422_record2 n grid, ngs cells: 38 , 103\n",
      "MA2F, 102522_record3 n grid, ngs cells: 50 , 110\n",
      "MA2F, 102622_record4 n grid, ngs cells: 39 , 65\n",
      "MA2F, 102722_record5 n grid, ngs cells: 38 , 43\n",
      "MA2F, 102822_record6 n grid, ngs cells: 40 , 49\n"
     ]
    },
    {
     "data": {
      "application/vnd.jupyter.widget-view+json": {
       "model_id": "ac053f35f50c4a339755ccf1b165e63e",
       "version_major": 2,
       "version_minor": 0
      },
      "text/plain": [
       "  0%|          | 0/6 [00:00<?, ?it/s]"
      ]
     },
     "metadata": {},
     "output_type": "display_data"
    },
    {
     "name": "stdout",
     "output_type": "stream",
     "text": [
      "MA3M, 102322_record1 n grid, ngs cells: 6 , 22\n",
      "MA3M, 102422_record2 n grid, ngs cells: 28 , 53\n",
      "MA3M, 102522_record3 n grid, ngs cells: 36 , 47\n",
      "MA3M, 102622_record4 n grid, ngs cells: 13 , 55\n",
      "MA3M, 102722_record5 n grid, ngs cells: 12 , 30\n",
      "MA3M, 102822_record6 n grid, ngs cells: 31 , 39\n"
     ]
    },
    {
     "data": {
      "application/vnd.jupyter.widget-view+json": {
       "model_id": "9986b244144045cabd4d82c364c27311",
       "version_major": 2,
       "version_minor": 0
      },
      "text/plain": [
       "  0%|          | 0/6 [00:00<?, ?it/s]"
      ]
     },
     "metadata": {},
     "output_type": "display_data"
    },
    {
     "name": "stdout",
     "output_type": "stream",
     "text": [
      "MA4M, 103122_record2 n grid, ngs cells: 24 , 68\n",
      "MA4M, 110122_record3 n grid, ngs cells: 29 , 27\n",
      "MA4M, 110222_record4 n grid, ngs cells: 8 , 13\n",
      "MA4M, 110322_record5rep n grid, ngs cells: 26 , 18\n",
      "MA4M, 110422_record6 n grid, ngs cells: 36 , 35\n",
      "MA4M, 110522_record7 n grid, ngs cells: 12 , 9\n"
     ]
    },
    {
     "data": {
      "application/vnd.jupyter.widget-view+json": {
       "model_id": "b8fc7b47b2eb4ab88f22b4655d0c0a29",
       "version_major": 2,
       "version_minor": 0
      },
      "text/plain": [
       "  0%|          | 0/6 [00:00<?, ?it/s]"
      ]
     },
     "metadata": {},
     "output_type": "display_data"
    },
    {
     "name": "stdout",
     "output_type": "stream",
     "text": [
      "MA5M, 110622_record1 n grid, ngs cells: 58 , 30\n",
      "MA5M, 110722_record2 n grid, ngs cells: 62 , 55\n",
      "MA5M, 110822_record3 n grid, ngs cells: 79 , 30\n",
      "MA5M, 110922_record4 n grid, ngs cells: 7 , 11\n",
      "MA5M, 111022_record5 n grid, ngs cells: 23 , 25\n",
      "MA5M, 111122_record6 n grid, ngs cells: 22 , 23\n"
     ]
    },
    {
     "data": {
      "application/vnd.jupyter.widget-view+json": {
       "model_id": "29e4e369136749a1a248016a339e3885",
       "version_major": 2,
       "version_minor": 0
      },
      "text/plain": [
       "  0%|          | 0/6 [00:00<?, ?it/s]"
      ]
     },
     "metadata": {},
     "output_type": "display_data"
    },
    {
     "name": "stdout",
     "output_type": "stream",
     "text": [
      "MA6M, 103022_record1 n grid, ngs cells: 22 , 75\n",
      "MA6M, 103122_record2 n grid, ngs cells: 17 , 39\n",
      "MA6M, 110122_record3 n grid, ngs cells: 64 , 66\n",
      "MA6M, 110222_record4 n grid, ngs cells: 7 , 13\n",
      "MA6M, 110322_record5 n grid, ngs cells: 10 , 6\n",
      "MA6M, 110422_record6 n grid, ngs cells: 39 , 31\n"
     ]
    },
    {
     "data": {
      "application/vnd.jupyter.widget-view+json": {
       "model_id": "ba2721cfd57949f38a70db16ec7a06f8",
       "version_major": 2,
       "version_minor": 0
      },
      "text/plain": [
       "  0%|          | 0/4 [00:00<?, ?it/s]"
      ]
     },
     "metadata": {},
     "output_type": "display_data"
    },
    {
     "name": "stdout",
     "output_type": "stream",
     "text": [
      "MA7M, 103022_record1 n grid, ngs cells: 31 , 36\n",
      "MA7M, 103122_record2 n grid, ngs cells: 32 , 56\n",
      "MA7M, 110122_record3 n grid, ngs cells: 19 , 28\n",
      "MA7M, 110222_record4 n grid, ngs cells: 7 , 7\n"
     ]
    },
    {
     "data": {
      "application/vnd.jupyter.widget-view+json": {
       "model_id": "2b5808febcfe4f22adc4056a9d66e624",
       "version_major": 2,
       "version_minor": 0
      },
      "text/plain": [
       "  0%|          | 0/6 [00:00<?, ?it/s]"
      ]
     },
     "metadata": {},
     "output_type": "display_data"
    },
    {
     "name": "stdout",
     "output_type": "stream",
     "text": [
      "MA8F, 111322_record1 n grid, ngs cells: 19 , 8\n",
      "MA8F, 111422_record2 n grid, ngs cells: 62 , 67\n",
      "MA8F, 111522_record3 n grid, ngs cells: 80 , 26\n",
      "MA8F, 111622_record4 n grid, ngs cells: 25 , 37\n",
      "MA8F, 111722_record5 n grid, ngs cells: 10 , 29\n",
      "MA8F, 111822_record6 n grid, ngs cells: 12 , 20\n"
     ]
    },
    {
     "data": {
      "application/vnd.jupyter.widget-view+json": {
       "model_id": "ebe07b4a4f40473e97450dd69edf5576",
       "version_major": 2,
       "version_minor": 0
      },
      "text/plain": [
       "  0%|          | 0/6 [00:00<?, ?it/s]"
      ]
     },
     "metadata": {},
     "output_type": "display_data"
    },
    {
     "name": "stdout",
     "output_type": "stream",
     "text": [
      "MA9F, 111322_record1 n grid, ngs cells: 56 , 29\n",
      "MA9F, 111422_record2 n grid, ngs cells: 73 , 169\n",
      "MA9F, 111522_record3 n grid, ngs cells: 119 , 80\n",
      "MA9F, 111622_record4 n grid, ngs cells: 0 , 1\n",
      "MA9F, 111722_record5 n grid, ngs cells: 24 , 34\n",
      "MA9F, 111822_record6 n grid, ngs cells: 23 , 16\n"
     ]
    },
    {
     "data": {
      "application/vnd.jupyter.widget-view+json": {
       "model_id": "5aceca0db100414f8d0223214c89147f",
       "version_major": 2,
       "version_minor": 0
      },
      "text/plain": [
       "  0%|          | 0/6 [00:00<?, ?it/s]"
      ]
     },
     "metadata": {},
     "output_type": "display_data"
    },
    {
     "name": "stdout",
     "output_type": "stream",
     "text": [
      "Y20, 092522_record1 n grid, ngs cells: 7 , 7\n",
      "Y20, 092622_record2 n grid, ngs cells: 32 , 39\n",
      "Y20, 092722_record3 n grid, ngs cells: 13 , 10\n",
      "Y20, 092822_record4 n grid, ngs cells: 51 , 33\n",
      "Y20, 092922_record5 n grid, ngs cells: 19 , 14\n",
      "Y20, 093022_record6 n grid, ngs cells: 85 , 64\n"
     ]
    },
    {
     "data": {
      "application/vnd.jupyter.widget-view+json": {
       "model_id": "97b70a26b0e84f9eb05f07954d77a64a",
       "version_major": 2,
       "version_minor": 0
      },
      "text/plain": [
       "  0%|          | 0/6 [00:00<?, ?it/s]"
      ]
     },
     "metadata": {},
     "output_type": "display_data"
    },
    {
     "name": "stdout",
     "output_type": "stream",
     "text": [
      "Y21, 091822_record1 n grid, ngs cells: 103 , 76\n",
      "Y21, 091922_record2 n grid, ngs cells: 80 , 93\n",
      "Y21, 092022_record3 n grid, ngs cells: 49 , 23\n",
      "Y21, 092122_record4 n grid, ngs cells: 60 , 62\n",
      "Y21, 092222_record5 n grid, ngs cells: 42 , 50\n",
      "Y21, 092322_record6 n grid, ngs cells: 8 , 21\n"
     ]
    },
    {
     "data": {
      "application/vnd.jupyter.widget-view+json": {
       "model_id": "a1cdafaae78e414da80c3cf95726ed4d",
       "version_major": 2,
       "version_minor": 0
      },
      "text/plain": [
       "  0%|          | 0/6 [00:00<?, ?it/s]"
      ]
     },
     "metadata": {},
     "output_type": "display_data"
    },
    {
     "name": "stdout",
     "output_type": "stream",
     "text": [
      "Y22, 092522_record1 n grid, ngs cells: 85 , 57\n",
      "Y22, 092622_record2 n grid, ngs cells: 146 , 66\n",
      "Y22, 092722_record3 n grid, ngs cells: 60 , 84\n",
      "Y22, 092822_record4 n grid, ngs cells: 24 , 21\n",
      "Y22, 092922_record5 n grid, ngs cells: 20 , 25\n",
      "Y22, 093022_record6 n grid, ngs cells: 60 , 36\n"
     ]
    },
    {
     "data": {
      "application/vnd.jupyter.widget-view+json": {
       "model_id": "16487e7f25544ec4b8ca05b20ebe8cdc",
       "version_major": 2,
       "version_minor": 0
      },
      "text/plain": [
       "  0%|          | 0/6 [00:00<?, ?it/s]"
      ]
     },
     "metadata": {},
     "output_type": "display_data"
    },
    {
     "name": "stdout",
     "output_type": "stream",
     "text": [
      "Y23, 092522_record1 n grid, ngs cells: 38 , 27\n",
      "Y23, 092622_record2 n grid, ngs cells: 33 , 23\n",
      "Y23, 092722_record3 n grid, ngs cells: 30 , 40\n",
      "Y23, 092822_record4 n grid, ngs cells: 26 , 32\n",
      "Y23, 092922_record5 n grid, ngs cells: 41 , 49\n",
      "Y23, 093022_record6 n grid, ngs cells: 60 , 84\n"
     ]
    },
    {
     "data": {
      "application/vnd.jupyter.widget-view+json": {
       "model_id": "91bbfe511fcb4e5d97bf931e2baa3bfe",
       "version_major": 2,
       "version_minor": 0
      },
      "text/plain": [
       "  0%|          | 0/6 [00:00<?, ?it/s]"
      ]
     },
     "metadata": {},
     "output_type": "display_data"
    },
    {
     "name": "stdout",
     "output_type": "stream",
     "text": [
      "Y24, 091822_record1 n grid, ngs cells: 91 , 64\n",
      "Y24, 091922_record2 n grid, ngs cells: 28 , 69\n",
      "Y24, 092022_record3 n grid, ngs cells: 97 , 49\n",
      "Y24, 092122_record4 n grid, ngs cells: 94 , 64\n",
      "Y24, 092222_record5 n grid, ngs cells: 66 , 44\n",
      "Y24, 092322_record6 n grid, ngs cells: 70 , 43\n"
     ]
    },
    {
     "data": {
      "application/vnd.jupyter.widget-view+json": {
       "model_id": "7c736ae2b260406988150b33efc7793a",
       "version_major": 2,
       "version_minor": 0
      },
      "text/plain": [
       "  0%|          | 0/6 [00:00<?, ?it/s]"
      ]
     },
     "metadata": {},
     "output_type": "display_data"
    },
    {
     "name": "stdout",
     "output_type": "stream",
     "text": [
      "Y25, 021623_record1 n grid, ngs cells: 0 , 1\n",
      "Y25, 021723_record2 n grid, ngs cells: 85 , 37\n",
      "Y25, 021823_record3 n grid, ngs cells: 29 , 64\n",
      "Y25, 021923_record4 n grid, ngs cells: 38 , 49\n",
      "Y25, 022023_record5 n grid, ngs cells: 49 , 46\n",
      "Y25, 022123_record6 n grid, ngs cells: 18 , 17\n"
     ]
    },
    {
     "data": {
      "application/vnd.jupyter.widget-view+json": {
       "model_id": "69dd4ca5745d4e878c9ac15ed03af2f5",
       "version_major": 2,
       "version_minor": 0
      },
      "text/plain": [
       "  0%|          | 0/6 [00:00<?, ?it/s]"
      ]
     },
     "metadata": {},
     "output_type": "display_data"
    },
    {
     "name": "stdout",
     "output_type": "stream",
     "text": [
      "Y26, 021623_record1 n grid, ngs cells: 34 , 47\n",
      "Y26, 021723_record2 n grid, ngs cells: 51 , 22\n",
      "Y26, 021823_record3 n grid, ngs cells: 23 , 32\n",
      "Y26, 021923_record4 n grid, ngs cells: 2 , 2\n",
      "Y26, 022023_record5 n grid, ngs cells: 17 , 19\n",
      "Y26, 022123_record6 n grid, ngs cells: 4 , 3\n"
     ]
    },
    {
     "data": {
      "application/vnd.jupyter.widget-view+json": {
       "model_id": "0b81a79fd18d4e4491c73ed4c0d407fa",
       "version_major": 2,
       "version_minor": 0
      },
      "text/plain": [
       "  0%|          | 0/6 [00:00<?, ?it/s]"
      ]
     },
     "metadata": {},
     "output_type": "display_data"
    },
    {
     "name": "stdout",
     "output_type": "stream",
     "text": [
      "Y27, 021623_record1 n grid, ngs cells: 53 , 44\n",
      "Y27, 021723_record2 n grid, ngs cells: 39 , 17\n",
      "Y27, 021823_record3 n grid, ngs cells: 31 , 18\n",
      "Y27, 021923_record4 n grid, ngs cells: 19 , 20\n",
      "Y27, 022023_record5rep n grid, ngs cells: 48 , 26\n",
      "Y27, 022123_record6 n grid, ngs cells: 65 , 30\n"
     ]
    },
    {
     "data": {
      "application/vnd.jupyter.widget-view+json": {
       "model_id": "56a52bcd5e9f469a97e04f92c63289c4",
       "version_major": 2,
       "version_minor": 0
      },
      "text/plain": [
       "  0%|          | 0/6 [00:00<?, ?it/s]"
      ]
     },
     "metadata": {},
     "output_type": "display_data"
    },
    {
     "name": "stdout",
     "output_type": "stream",
     "text": [
      "Y28, 022623_record1 n grid, ngs cells: 4 , 32\n",
      "Y28, 022723_record2 n grid, ngs cells: 41 , 58\n",
      "Y28, 022823_record3 n grid, ngs cells: 48 , 45\n",
      "Y28, 030123_record4 n grid, ngs cells: 20 , 33\n",
      "Y28, 030223_record5 n grid, ngs cells: 40 , 75\n",
      "Y28, 030323_record6 n grid, ngs cells: 65 , 48\n"
     ]
    }
   ],
   "source": [
    "''' Load saved grid & ngs cell booleans generated by Figure 2 / S3 notebook '''\n",
    "\n",
    "pergrid = []\n",
    "perngs = []\n",
    "\n",
    "spergrid = []\n",
    "sperngs = []\n",
    "mpergrid = []\n",
    "\n",
    "for m, session in zip(mice,sessions):\n",
    "    \n",
    "    m_pergrid = []\n",
    "    m_cells = []\n",
    "    \n",
    "    for s in tdqm(session):\n",
    "        d = data[m][s]\n",
    "        \n",
    "        #load in data\n",
    "        rawdata_file = 'RAW_' + m + '_' + s + '.npy'\n",
    "        raw = np.load(load_folder + rawdata_file, allow_pickle=True)\n",
    "        cell_IDs = raw.item().get('cellsfil')\n",
    "        \n",
    "        #load all grid cell boolean\n",
    "        gridcell_file = 'gridcell__' + m + '_' + s + '.npy'\n",
    "        gridcell = np.load(fig2s3_folder + gridcell_file)\n",
    "        \n",
    "        ngscell_file = 'bordercell__' + m + '_' + s + '.npy'\n",
    "        ngscell = np.load(fig2s3_folder + ngscell_file)\n",
    "        \n",
    "        gridcell = gridcell.astype(bool)\n",
    "        ngscell = ngscell.astype(bool)\n",
    "        d['gridcell'] = gridcell\n",
    "        d['ngscell'] = ngscell\n",
    "        \n",
    "        print(m + ', ' + s + ' n grid, ngs cells: '+ str(np.sum(gridcell)) + ' , ' + str(np.sum(ngscell)))\n",
    "        perngs = np.append(perngs, 100*np.sum(ngscell)/len(cell_IDs))\n",
    "        pergrid = np.append(pergrid, 100*np.sum(gridcell)/len(cell_IDs))\n",
    "        \n",
    "        sperngs = np.append(sperngs, 100*np.sum(ngscell)/len(cell_IDs))\n",
    "        spergrid = np.append(spergrid, 100*np.sum(gridcell)/len(cell_IDs))\n",
    "        m_pergrid = np.append(m_pergrid, np.sum(gridcell))\n",
    "        m_cells = np.append(m_cells, len(cell_IDs))\n",
    "        \n",
    "    \n",
    "    mpergrid = np.append(mpergrid, np.sum(m_pergrid)/np.sum(m_cells)*100)"
   ]
  },
  {
   "cell_type": "code",
   "execution_count": 106,
   "id": "9367f332",
   "metadata": {},
   "outputs": [
    {
     "name": "stdout",
     "output_type": "stream",
     "text": [
      "['Y20' 'Y21' 'Y22' 'Y23' 'Y24' 'Y25' 'Y26' 'Y27' 'Y28'] ['MA10F' 'MA1F' 'MA2F' 'MA3M' 'MA4M' 'MA5M' 'MA6M' 'MA7M' 'MA8F' 'MA9F'] ['A14' 'A15' 'A16' 'A17' 'A18' 'A19' 'A20' 'A22' 'A23' 'A24']\n",
      "9 10 10\n",
      "54 58 55\n"
     ]
    }
   ],
   "source": [
    "'''Get Indices of Stored Session, Animal Data Mice by Age Group'''\n",
    "\n",
    "age_ind = []\n",
    "ma_ind = []\n",
    "y_ind = []\n",
    "age_sind = []\n",
    "ma_sind = []\n",
    "y_sind = []\n",
    "\n",
    "s_count = 0\n",
    "for m, s in zip(mice, sessions):\n",
    "    start = s_count\n",
    "    end = len(s) + s_count\n",
    "\n",
    "    if m in all_aged_mice:\n",
    "        age_ind = np.append(age_ind, (np.where(mice == m)[0]))\n",
    "        age_sind = np.append(age_sind, np.arange(start, end, 1))\n",
    "    elif m in all_MA_mice:\n",
    "        ma_ind = np.append(ma_ind, (np.where(mice == m)[0]))\n",
    "        ma_sind = np.append(ma_sind, np.arange(start, end, 1))\n",
    "    else:\n",
    "        y_ind = np.append(y_ind, (np.where(mice == m)[0]))\n",
    "        y_sind = np.append(y_sind, np.arange(start, end, 1))\n",
    "                            \n",
    "    s_count += len(s)\n",
    "    \n",
    "age_ind = age_ind.astype(int)\n",
    "ma_ind = ma_ind.astype(int)\n",
    "y_ind = y_ind.astype(int)\n",
    "age_sind = age_sind.astype(int)\n",
    "ma_sind = ma_sind.astype(int)\n",
    "y_sind = y_sind.astype(int)\n",
    "\n",
    "print(mice[y_ind], mice[ma_ind], mice[age_ind])\n",
    "print(len(mice[y_ind]), len(mice[ma_ind]), len(mice[age_ind]))\n",
    "print(len(y_sind), len(ma_sind), len(age_sind))\n",
    "Nold = len(mice[age_ind])\n",
    "Nma = len(mice[ma_ind])\n",
    "Nyoung = len(mice[y_ind])"
   ]
  },
  {
   "cell_type": "code",
   "execution_count": 107,
   "id": "7d4add13",
   "metadata": {},
   "outputs": [],
   "source": [
    "''' Define ColorMaps for Session & Animal Boxplots '''\n",
    "import matplotlib.pylab as pl\n",
    "import matplotlib.lines as mlines\n",
    "\n",
    "col_animal_old = pl.cm.Oranges([np.linspace(0.2,0.9,10)])\n",
    "col_animal_MA = pl.cm.Greens([np.linspace(0.2,0.9,10)])\n",
    "col_animal_young = pl.cm.Blues([np.linspace(0.2,0.9,9)])\n",
    "col_animal = [col_animal_young, col_animal_MA, col_animal_old]\n",
    "\n",
    "col_session_young = []\n",
    "col_session_MA = []\n",
    "col_session_old = []\n",
    "\n",
    "for m, session in zip(mice, sessions):\n",
    "    for s in range(0,len(session)):\n",
    "        \n",
    "        if m in SM_aged_mice:\n",
    "            idx = np.where(mice == m)[0][0] \n",
    "            col_session_old.append(col_animal[2][0][idx])           \n",
    "        elif m in SM_MA_mice:\n",
    "            idx = np.where(mice == m)[0][0] - Nold\n",
    "            col_session_MA.append(col_animal[1][0][idx])\n",
    "        else:\n",
    "            idx = np.where(mice == m)[0][0] - (Nold + Nma)\n",
    "            col_session_young.append(col_animal[0][0][idx])\n",
    "\n",
    "col_session = [col_session_young, col_session_MA, col_session_old]\n",
    "label_mice = ['Y20', 'Y21', 'Y22', 'Y23', 'Y24', 'Y25', 'Y26', 'Y27', 'Y28', \"\",\n",
    "              'MA10F', 'MA1F', 'MA2F', 'MA3M', 'MA4M', 'MA5M', 'MA6M', 'MA7M', 'MA8F', 'MA9F',\n",
    "              'A14', 'A15', 'A16', 'A17', 'A18', 'A19', 'A20', 'A22', 'A23', 'A24']"
   ]
  },
  {
   "cell_type": "markdown",
   "id": "9c182e59",
   "metadata": {},
   "source": [
    "# Load Saved Grid Network FR Tensors"
   ]
  },
  {
   "cell_type": "code",
   "execution_count": 108,
   "id": "e0e1fd79",
   "metadata": {},
   "outputs": [
    {
     "data": {
      "application/vnd.jupyter.widget-view+json": {
       "model_id": "d38a65a9fe9d4bfc9b49865044cd9f63",
       "version_major": 2,
       "version_minor": 0
      },
      "text/plain": [
       "  0%|          | 0/3 [00:00<?, ?it/s]"
      ]
     },
     "metadata": {},
     "output_type": "display_data"
    },
    {
     "name": "stdout",
     "output_type": "stream",
     "text": [
      "too few grid cells in session: A14, 083022_record1\n"
     ]
    },
    {
     "data": {
      "application/vnd.jupyter.widget-view+json": {
       "model_id": "3886731945c6429d90342da04a801e8d",
       "version_major": 2,
       "version_minor": 0
      },
      "text/plain": [
       "  0%|          | 0/6 [00:00<?, ?it/s]"
      ]
     },
     "metadata": {},
     "output_type": "display_data"
    },
    {
     "name": "stdout",
     "output_type": "stream",
     "text": [
      "too few grid cells in session: A15, 083022_record1\n"
     ]
    },
    {
     "data": {
      "application/vnd.jupyter.widget-view+json": {
       "model_id": "aeb635151a2742e9a2e6feaa38502370",
       "version_major": 2,
       "version_minor": 0
      },
      "text/plain": [
       "  0%|          | 0/4 [00:00<?, ?it/s]"
      ]
     },
     "metadata": {},
     "output_type": "display_data"
    },
    {
     "name": "stdout",
     "output_type": "stream",
     "text": [
      "too few grid cells in session: A16, 090122_record3\n"
     ]
    },
    {
     "data": {
      "application/vnd.jupyter.widget-view+json": {
       "model_id": "c092c72dac7d4a728f8add823bcafff3",
       "version_major": 2,
       "version_minor": 0
      },
      "text/plain": [
       "  0%|          | 0/6 [00:00<?, ?it/s]"
      ]
     },
     "metadata": {},
     "output_type": "display_data"
    },
    {
     "name": "stdout",
     "output_type": "stream",
     "text": [
      "too few grid cells in session: A17, 082322_record1\n",
      "too few grid cells in session: A17, 082422_record2\n"
     ]
    },
    {
     "data": {
      "application/vnd.jupyter.widget-view+json": {
       "model_id": "6af5bbb2c9a842c4adec004e4f6749f9",
       "version_major": 2,
       "version_minor": 0
      },
      "text/plain": [
       "  0%|          | 0/6 [00:00<?, ?it/s]"
      ]
     },
     "metadata": {},
     "output_type": "display_data"
    },
    {
     "name": "stdout",
     "output_type": "stream",
     "text": [
      "too few grid cells in session: A18, 082822_record6\n"
     ]
    },
    {
     "data": {
      "application/vnd.jupyter.widget-view+json": {
       "model_id": "67f00fa104b94692b166848401dee6b2",
       "version_major": 2,
       "version_minor": 0
      },
      "text/plain": [
       "  0%|          | 0/6 [00:00<?, ?it/s]"
      ]
     },
     "metadata": {},
     "output_type": "display_data"
    },
    {
     "data": {
      "application/vnd.jupyter.widget-view+json": {
       "model_id": "3a233a1d9aa24c6fb1e064ed5b61abd8",
       "version_major": 2,
       "version_minor": 0
      },
      "text/plain": [
       "  0%|          | 0/6 [00:00<?, ?it/s]"
      ]
     },
     "metadata": {},
     "output_type": "display_data"
    },
    {
     "name": "stdout",
     "output_type": "stream",
     "text": [
      "too few grid cells in session: A20, 012623_record1\n",
      "too few grid cells in session: A20, 013123_record6\n"
     ]
    },
    {
     "data": {
      "application/vnd.jupyter.widget-view+json": {
       "model_id": "2f00a07dbb6a443eb2625adf734bc153",
       "version_major": 2,
       "version_minor": 0
      },
      "text/plain": [
       "  0%|          | 0/6 [00:00<?, ?it/s]"
      ]
     },
     "metadata": {},
     "output_type": "display_data"
    },
    {
     "data": {
      "application/vnd.jupyter.widget-view+json": {
       "model_id": "abde1b5c45d847e8a16c1fb11fae4f77",
       "version_major": 2,
       "version_minor": 0
      },
      "text/plain": [
       "  0%|          | 0/6 [00:00<?, ?it/s]"
      ]
     },
     "metadata": {},
     "output_type": "display_data"
    },
    {
     "name": "stdout",
     "output_type": "stream",
     "text": [
      "too few grid cells in session: A23, 020923_record1\n",
      "too few grid cells in session: A23, 021223_record4\n"
     ]
    },
    {
     "data": {
      "application/vnd.jupyter.widget-view+json": {
       "model_id": "e27befc5aa5f4a6e9313471947ad34c0",
       "version_major": 2,
       "version_minor": 0
      },
      "text/plain": [
       "  0%|          | 0/6 [00:00<?, ?it/s]"
      ]
     },
     "metadata": {},
     "output_type": "display_data"
    },
    {
     "data": {
      "application/vnd.jupyter.widget-view+json": {
       "model_id": "7887220dc14049c7b21e3cad0fb56136",
       "version_major": 2,
       "version_minor": 0
      },
      "text/plain": [
       "  0%|          | 0/6 [00:00<?, ?it/s]"
      ]
     },
     "metadata": {},
     "output_type": "display_data"
    },
    {
     "data": {
      "application/vnd.jupyter.widget-view+json": {
       "model_id": "680dd83e920e4b73a8185a213ca0137f",
       "version_major": 2,
       "version_minor": 0
      },
      "text/plain": [
       "  0%|          | 0/6 [00:00<?, ?it/s]"
      ]
     },
     "metadata": {},
     "output_type": "display_data"
    },
    {
     "name": "stdout",
     "output_type": "stream",
     "text": [
      "too few grid cells in session: MA1F, 102622_record4\n"
     ]
    },
    {
     "data": {
      "application/vnd.jupyter.widget-view+json": {
       "model_id": "b97fcc4a5f19452c88b14b088d319aa4",
       "version_major": 2,
       "version_minor": 0
      },
      "text/plain": [
       "  0%|          | 0/6 [00:00<?, ?it/s]"
      ]
     },
     "metadata": {},
     "output_type": "display_data"
    },
    {
     "data": {
      "application/vnd.jupyter.widget-view+json": {
       "model_id": "8e27f2d92f24456abaed0e7a4fcb3977",
       "version_major": 2,
       "version_minor": 0
      },
      "text/plain": [
       "  0%|          | 0/6 [00:00<?, ?it/s]"
      ]
     },
     "metadata": {},
     "output_type": "display_data"
    },
    {
     "name": "stdout",
     "output_type": "stream",
     "text": [
      "too few grid cells in session: MA3M, 102322_record1\n"
     ]
    },
    {
     "data": {
      "application/vnd.jupyter.widget-view+json": {
       "model_id": "d6232d9accf14970ba5cd00cab7aab42",
       "version_major": 2,
       "version_minor": 0
      },
      "text/plain": [
       "  0%|          | 0/6 [00:00<?, ?it/s]"
      ]
     },
     "metadata": {},
     "output_type": "display_data"
    },
    {
     "name": "stdout",
     "output_type": "stream",
     "text": [
      "too few grid cells in session: MA4M, 110222_record4\n"
     ]
    },
    {
     "data": {
      "application/vnd.jupyter.widget-view+json": {
       "model_id": "513d1de2cd11495d8cb73dec54c3e425",
       "version_major": 2,
       "version_minor": 0
      },
      "text/plain": [
       "  0%|          | 0/6 [00:00<?, ?it/s]"
      ]
     },
     "metadata": {},
     "output_type": "display_data"
    },
    {
     "name": "stdout",
     "output_type": "stream",
     "text": [
      "too few grid cells in session: MA5M, 110922_record4\n"
     ]
    },
    {
     "data": {
      "application/vnd.jupyter.widget-view+json": {
       "model_id": "7d50538ee335482c99016a26ae3dd9cc",
       "version_major": 2,
       "version_minor": 0
      },
      "text/plain": [
       "  0%|          | 0/6 [00:00<?, ?it/s]"
      ]
     },
     "metadata": {},
     "output_type": "display_data"
    },
    {
     "name": "stdout",
     "output_type": "stream",
     "text": [
      "too few grid cells in session: MA6M, 110222_record4\n"
     ]
    },
    {
     "data": {
      "application/vnd.jupyter.widget-view+json": {
       "model_id": "81da8d73c1c04e9ab7763f4e98f140b4",
       "version_major": 2,
       "version_minor": 0
      },
      "text/plain": [
       "  0%|          | 0/4 [00:00<?, ?it/s]"
      ]
     },
     "metadata": {},
     "output_type": "display_data"
    },
    {
     "name": "stdout",
     "output_type": "stream",
     "text": [
      "too few grid cells in session: MA7M, 110222_record4\n"
     ]
    },
    {
     "data": {
      "application/vnd.jupyter.widget-view+json": {
       "model_id": "8543b0d2d02f4f76a9fb9e23a552b31d",
       "version_major": 2,
       "version_minor": 0
      },
      "text/plain": [
       "  0%|          | 0/6 [00:00<?, ?it/s]"
      ]
     },
     "metadata": {},
     "output_type": "display_data"
    },
    {
     "data": {
      "application/vnd.jupyter.widget-view+json": {
       "model_id": "8d558f6caa554f74abcee31641a914c8",
       "version_major": 2,
       "version_minor": 0
      },
      "text/plain": [
       "  0%|          | 0/6 [00:00<?, ?it/s]"
      ]
     },
     "metadata": {},
     "output_type": "display_data"
    },
    {
     "name": "stdout",
     "output_type": "stream",
     "text": [
      "too few grid cells in session: MA9F, 111622_record4\n"
     ]
    },
    {
     "data": {
      "application/vnd.jupyter.widget-view+json": {
       "model_id": "32d642ff0eaf45c99aaeda73a1d1f118",
       "version_major": 2,
       "version_minor": 0
      },
      "text/plain": [
       "  0%|          | 0/6 [00:00<?, ?it/s]"
      ]
     },
     "metadata": {},
     "output_type": "display_data"
    },
    {
     "name": "stdout",
     "output_type": "stream",
     "text": [
      "too few grid cells in session: Y20, 092522_record1\n"
     ]
    },
    {
     "data": {
      "application/vnd.jupyter.widget-view+json": {
       "model_id": "e9fd64f57e31406e859e7f8ade1eb8cf",
       "version_major": 2,
       "version_minor": 0
      },
      "text/plain": [
       "  0%|          | 0/6 [00:00<?, ?it/s]"
      ]
     },
     "metadata": {},
     "output_type": "display_data"
    },
    {
     "name": "stdout",
     "output_type": "stream",
     "text": [
      "too few grid cells in session: Y21, 092322_record6\n"
     ]
    },
    {
     "data": {
      "application/vnd.jupyter.widget-view+json": {
       "model_id": "855aabcde50c4d7a9bb275b2ef959c43",
       "version_major": 2,
       "version_minor": 0
      },
      "text/plain": [
       "  0%|          | 0/6 [00:00<?, ?it/s]"
      ]
     },
     "metadata": {},
     "output_type": "display_data"
    },
    {
     "data": {
      "application/vnd.jupyter.widget-view+json": {
       "model_id": "9e2cd34fb9cc4c1e85b5fb4322eafa5f",
       "version_major": 2,
       "version_minor": 0
      },
      "text/plain": [
       "  0%|          | 0/6 [00:00<?, ?it/s]"
      ]
     },
     "metadata": {},
     "output_type": "display_data"
    },
    {
     "data": {
      "application/vnd.jupyter.widget-view+json": {
       "model_id": "14c39337de1c43efb6974d52568d5797",
       "version_major": 2,
       "version_minor": 0
      },
      "text/plain": [
       "  0%|          | 0/6 [00:00<?, ?it/s]"
      ]
     },
     "metadata": {},
     "output_type": "display_data"
    },
    {
     "data": {
      "application/vnd.jupyter.widget-view+json": {
       "model_id": "c5d99ec21d8142e2994b945bcd615b3e",
       "version_major": 2,
       "version_minor": 0
      },
      "text/plain": [
       "  0%|          | 0/6 [00:00<?, ?it/s]"
      ]
     },
     "metadata": {},
     "output_type": "display_data"
    },
    {
     "name": "stdout",
     "output_type": "stream",
     "text": [
      "too few grid cells in session: Y25, 021623_record1\n"
     ]
    },
    {
     "data": {
      "application/vnd.jupyter.widget-view+json": {
       "model_id": "1bf4be7a872a4faea0c21b2fe7785224",
       "version_major": 2,
       "version_minor": 0
      },
      "text/plain": [
       "  0%|          | 0/6 [00:00<?, ?it/s]"
      ]
     },
     "metadata": {},
     "output_type": "display_data"
    },
    {
     "name": "stdout",
     "output_type": "stream",
     "text": [
      "too few grid cells in session: Y26, 021923_record4\n",
      "too few grid cells in session: Y26, 022123_record6\n"
     ]
    },
    {
     "data": {
      "application/vnd.jupyter.widget-view+json": {
       "model_id": "9b8219d251654e1690c804bb75ef5899",
       "version_major": 2,
       "version_minor": 0
      },
      "text/plain": [
       "  0%|          | 0/6 [00:00<?, ?it/s]"
      ]
     },
     "metadata": {},
     "output_type": "display_data"
    },
    {
     "data": {
      "application/vnd.jupyter.widget-view+json": {
       "model_id": "ef16e5acb6634d9bb49a2b5d5f6bdf27",
       "version_major": 2,
       "version_minor": 0
      },
      "text/plain": [
       "  0%|          | 0/6 [00:00<?, ?it/s]"
      ]
     },
     "metadata": {},
     "output_type": "display_data"
    },
    {
     "name": "stdout",
     "output_type": "stream",
     "text": [
      "too few grid cells in session: Y28, 022623_record1\n"
     ]
    }
   ],
   "source": [
    "''' Load Sorted Normalized FR Tensor for Grid Network in Back of Track, excluding Gain Change Period '''\n",
    "\n",
    "from scipy.spatial.distance import pdist\n",
    "from scipy.spatial.distance import squareform\n",
    "\n",
    "dt = 0.02\n",
    "\n",
    "for m, session in zip(mice, sessions):\n",
    "    for s in tdqm(session):\n",
    "        d = data[m][s]\n",
    "         \n",
    "        VRbackidx_file = 'VRbackidx_' + m + '_' + s + '.npy'\n",
    "        VRbackidx = np.load(fig3s4_folder + VRbackidx_file)\n",
    "        d['VRbackidx'] = VRbackidx\n",
    "        \n",
    "        skippedrawtrialfil_file = 'skippedrawtrialfil_' + m + '_' + s + '.npy'\n",
    "        skippedrawtrialfil = np.load(fig3s4_folder + skippedrawtrialfil_file)\n",
    "        d['skippedrawtrialfil'] = skippedrawtrialfil\n",
    "        \n",
    "        #get some data & cell IDs\n",
    "        rawdata_file = 'RAW_' + m + '_' + s + '.npy'\n",
    "        raw = np.load(load_folder + rawdata_file, allow_pickle=True)\n",
    "        \n",
    "        cell_IDs = raw.item().get('cellsfil')\n",
    "        gridcell = d['gridcell'].astype(bool)\n",
    "        gridcells = cell_IDs[gridcell]     \n",
    "        \n",
    "        if len(gridcells) >= 10:\n",
    "            #load grid network FR tensor \n",
    "            FRtensor_file = 'SM_FRtensorbacksorted_' + m + '_' + s + '.npy'\n",
    "            normspatialgridFR = np.load(fig3s4_folder + FRtensor_file)\n",
    "            d['FRtensorbacksorted'] = normspatialgridFR \n",
    "            \n",
    "            #get grid network trial by trial sim matrix \n",
    "            normspatialgridFR_unwrapped = np.reshape(normspatialgridFR, (normspatialgridFR.shape[0], -1))\n",
    "            sim_vec = np.abs(pdist(normspatialgridFR_unwrapped, 'correlation')-1)\n",
    "            sim = squareform(sim_vec)  \n",
    "            d['gridsimilaritybacksorted'] = sim\n",
    "        else:\n",
    "            print('too few grid cells in session: ' + str(m) + ', ' + str(s))"
   ]
  },
  {
   "cell_type": "markdown",
   "id": "9428f9fe",
   "metadata": {},
   "source": [
    "# Load results of k optimization code in Figure 3 & S4 notebook. "
   ]
  },
  {
   "cell_type": "code",
   "execution_count": 109,
   "id": "88954809",
   "metadata": {},
   "outputs": [],
   "source": [
    "''' Load in KMeans '''\n",
    "\n",
    "from lvl.factor_models import KMeans as lvl_kmeans\n",
    "from lvl.factor_models import NMF as lvl_soft_kmeans\n",
    "from lvl.resamplers import RotationResampler\n",
    "from lvl.crossval import speckled_cv_scores \n",
    "from scipy.spatial.distance import cdist \n",
    "from scipy.special import logsumexp\n",
    "from sklearn.metrics import silhouette_samples, silhouette_score"
   ]
  },
  {
   "cell_type": "code",
   "execution_count": 110,
   "id": "a3d23090",
   "metadata": {
    "scrolled": true
   },
   "outputs": [
    {
     "data": {
      "application/vnd.jupyter.widget-view+json": {
       "model_id": "6ccf31dcc9b547a09428a87d58ea99e0",
       "version_major": 2,
       "version_minor": 0
      },
      "text/plain": [
       "  0%|          | 0/3 [00:00<?, ?it/s]"
      ]
     },
     "metadata": {},
     "output_type": "display_data"
    },
    {
     "data": {
      "application/vnd.jupyter.widget-view+json": {
       "model_id": "cd07fbd3cd71401db74af6022f35e6a9",
       "version_major": 2,
       "version_minor": 0
      },
      "text/plain": [
       "  0%|          | 0/6 [00:00<?, ?it/s]"
      ]
     },
     "metadata": {},
     "output_type": "display_data"
    },
    {
     "data": {
      "application/vnd.jupyter.widget-view+json": {
       "model_id": "90fd5d48b2ed48368bdee5701b120b77",
       "version_major": 2,
       "version_minor": 0
      },
      "text/plain": [
       "  0%|          | 0/4 [00:00<?, ?it/s]"
      ]
     },
     "metadata": {},
     "output_type": "display_data"
    },
    {
     "data": {
      "application/vnd.jupyter.widget-view+json": {
       "model_id": "8b620850b870410c8bbe573b2e1bfd61",
       "version_major": 2,
       "version_minor": 0
      },
      "text/plain": [
       "  0%|          | 0/6 [00:00<?, ?it/s]"
      ]
     },
     "metadata": {},
     "output_type": "display_data"
    },
    {
     "data": {
      "application/vnd.jupyter.widget-view+json": {
       "model_id": "d8f68385fb8941e9b6d8ea82ced712de",
       "version_major": 2,
       "version_minor": 0
      },
      "text/plain": [
       "  0%|          | 0/6 [00:00<?, ?it/s]"
      ]
     },
     "metadata": {},
     "output_type": "display_data"
    },
    {
     "data": {
      "application/vnd.jupyter.widget-view+json": {
       "model_id": "5b74d959e8fb439ca33a2608e4233f21",
       "version_major": 2,
       "version_minor": 0
      },
      "text/plain": [
       "  0%|          | 0/6 [00:00<?, ?it/s]"
      ]
     },
     "metadata": {},
     "output_type": "display_data"
    },
    {
     "data": {
      "application/vnd.jupyter.widget-view+json": {
       "model_id": "687d15bde2f24b459faa802c383f9f61",
       "version_major": 2,
       "version_minor": 0
      },
      "text/plain": [
       "  0%|          | 0/6 [00:00<?, ?it/s]"
      ]
     },
     "metadata": {},
     "output_type": "display_data"
    },
    {
     "data": {
      "application/vnd.jupyter.widget-view+json": {
       "model_id": "3d4edee185b04cdeb1e35a2a6afe6d93",
       "version_major": 2,
       "version_minor": 0
      },
      "text/plain": [
       "  0%|          | 0/6 [00:00<?, ?it/s]"
      ]
     },
     "metadata": {},
     "output_type": "display_data"
    },
    {
     "data": {
      "application/vnd.jupyter.widget-view+json": {
       "model_id": "697e6793a70b47908bb0e41f985390cb",
       "version_major": 2,
       "version_minor": 0
      },
      "text/plain": [
       "  0%|          | 0/6 [00:00<?, ?it/s]"
      ]
     },
     "metadata": {},
     "output_type": "display_data"
    },
    {
     "data": {
      "application/vnd.jupyter.widget-view+json": {
       "model_id": "2ebb95f6aae34937b59328316267abe3",
       "version_major": 2,
       "version_minor": 0
      },
      "text/plain": [
       "  0%|          | 0/6 [00:00<?, ?it/s]"
      ]
     },
     "metadata": {},
     "output_type": "display_data"
    },
    {
     "data": {
      "application/vnd.jupyter.widget-view+json": {
       "model_id": "85ad13c009174d6d8c35d7573aa44592",
       "version_major": 2,
       "version_minor": 0
      },
      "text/plain": [
       "  0%|          | 0/6 [00:00<?, ?it/s]"
      ]
     },
     "metadata": {},
     "output_type": "display_data"
    },
    {
     "data": {
      "application/vnd.jupyter.widget-view+json": {
       "model_id": "08ef8537371349248a774a6fc6830281",
       "version_major": 2,
       "version_minor": 0
      },
      "text/plain": [
       "  0%|          | 0/6 [00:00<?, ?it/s]"
      ]
     },
     "metadata": {},
     "output_type": "display_data"
    },
    {
     "data": {
      "application/vnd.jupyter.widget-view+json": {
       "model_id": "409ecf442ed8487d9e6d7be5bac6fc65",
       "version_major": 2,
       "version_minor": 0
      },
      "text/plain": [
       "  0%|          | 0/6 [00:00<?, ?it/s]"
      ]
     },
     "metadata": {},
     "output_type": "display_data"
    },
    {
     "data": {
      "application/vnd.jupyter.widget-view+json": {
       "model_id": "3c3de765191c4bee84e06b4fa481deb1",
       "version_major": 2,
       "version_minor": 0
      },
      "text/plain": [
       "  0%|          | 0/6 [00:00<?, ?it/s]"
      ]
     },
     "metadata": {},
     "output_type": "display_data"
    },
    {
     "data": {
      "application/vnd.jupyter.widget-view+json": {
       "model_id": "fc5fde7d91d743aeb499d9b362cfb05e",
       "version_major": 2,
       "version_minor": 0
      },
      "text/plain": [
       "  0%|          | 0/6 [00:00<?, ?it/s]"
      ]
     },
     "metadata": {},
     "output_type": "display_data"
    },
    {
     "data": {
      "application/vnd.jupyter.widget-view+json": {
       "model_id": "8d69963da34641278243f3054a6d6ad1",
       "version_major": 2,
       "version_minor": 0
      },
      "text/plain": [
       "  0%|          | 0/6 [00:00<?, ?it/s]"
      ]
     },
     "metadata": {},
     "output_type": "display_data"
    },
    {
     "data": {
      "application/vnd.jupyter.widget-view+json": {
       "model_id": "b5c14f54f174405dbc50c989d43846a4",
       "version_major": 2,
       "version_minor": 0
      },
      "text/plain": [
       "  0%|          | 0/6 [00:00<?, ?it/s]"
      ]
     },
     "metadata": {},
     "output_type": "display_data"
    },
    {
     "data": {
      "application/vnd.jupyter.widget-view+json": {
       "model_id": "2056115b404d4d8391177cc1532f73cc",
       "version_major": 2,
       "version_minor": 0
      },
      "text/plain": [
       "  0%|          | 0/4 [00:00<?, ?it/s]"
      ]
     },
     "metadata": {},
     "output_type": "display_data"
    },
    {
     "data": {
      "application/vnd.jupyter.widget-view+json": {
       "model_id": "c1aebea2b7194700a1ab6e5d9b992d8b",
       "version_major": 2,
       "version_minor": 0
      },
      "text/plain": [
       "  0%|          | 0/6 [00:00<?, ?it/s]"
      ]
     },
     "metadata": {},
     "output_type": "display_data"
    },
    {
     "data": {
      "application/vnd.jupyter.widget-view+json": {
       "model_id": "2d5c59070e6547bea0ee1c09c43147d7",
       "version_major": 2,
       "version_minor": 0
      },
      "text/plain": [
       "  0%|          | 0/6 [00:00<?, ?it/s]"
      ]
     },
     "metadata": {},
     "output_type": "display_data"
    },
    {
     "data": {
      "application/vnd.jupyter.widget-view+json": {
       "model_id": "c07d2816e7944fbc8cffb6c816e6a22a",
       "version_major": 2,
       "version_minor": 0
      },
      "text/plain": [
       "  0%|          | 0/6 [00:00<?, ?it/s]"
      ]
     },
     "metadata": {},
     "output_type": "display_data"
    },
    {
     "data": {
      "application/vnd.jupyter.widget-view+json": {
       "model_id": "0bdca0c58a864fbab4f8476faf1170e5",
       "version_major": 2,
       "version_minor": 0
      },
      "text/plain": [
       "  0%|          | 0/6 [00:00<?, ?it/s]"
      ]
     },
     "metadata": {},
     "output_type": "display_data"
    },
    {
     "data": {
      "application/vnd.jupyter.widget-view+json": {
       "model_id": "03f0d21454f2464bb9de56c146a38212",
       "version_major": 2,
       "version_minor": 0
      },
      "text/plain": [
       "  0%|          | 0/6 [00:00<?, ?it/s]"
      ]
     },
     "metadata": {},
     "output_type": "display_data"
    },
    {
     "data": {
      "application/vnd.jupyter.widget-view+json": {
       "model_id": "2266697adb3a4a2a84ef3cdcb227913a",
       "version_major": 2,
       "version_minor": 0
      },
      "text/plain": [
       "  0%|          | 0/6 [00:00<?, ?it/s]"
      ]
     },
     "metadata": {},
     "output_type": "display_data"
    },
    {
     "data": {
      "application/vnd.jupyter.widget-view+json": {
       "model_id": "0967a531529742b89ce2cc439a9142cc",
       "version_major": 2,
       "version_minor": 0
      },
      "text/plain": [
       "  0%|          | 0/6 [00:00<?, ?it/s]"
      ]
     },
     "metadata": {},
     "output_type": "display_data"
    },
    {
     "data": {
      "application/vnd.jupyter.widget-view+json": {
       "model_id": "af9bec7d2d5a42c894ff01d688f60fab",
       "version_major": 2,
       "version_minor": 0
      },
      "text/plain": [
       "  0%|          | 0/6 [00:00<?, ?it/s]"
      ]
     },
     "metadata": {},
     "output_type": "display_data"
    },
    {
     "data": {
      "application/vnd.jupyter.widget-view+json": {
       "model_id": "30459328894b4ad2824f470ec6431a27",
       "version_major": 2,
       "version_minor": 0
      },
      "text/plain": [
       "  0%|          | 0/6 [00:00<?, ?it/s]"
      ]
     },
     "metadata": {},
     "output_type": "display_data"
    },
    {
     "data": {
      "application/vnd.jupyter.widget-view+json": {
       "model_id": "65cee11787b94879956f654f41c8fbb0",
       "version_major": 2,
       "version_minor": 0
      },
      "text/plain": [
       "  0%|          | 0/6 [00:00<?, ?it/s]"
      ]
     },
     "metadata": {},
     "output_type": "display_data"
    },
    {
     "data": {
      "application/vnd.jupyter.widget-view+json": {
       "model_id": "cd0c90cd6e1c4725bf9704e0adf1465f",
       "version_major": 2,
       "version_minor": 0
      },
      "text/plain": [
       "  0%|          | 0/6 [00:00<?, ?it/s]"
      ]
     },
     "metadata": {},
     "output_type": "display_data"
    }
   ],
   "source": [
    "''' After k optimization, load in results & perform K-means '''\n",
    "\n",
    "from scipy.spatial.distance import pdist\n",
    "from scipy.spatial.distance import squareform\n",
    "\n",
    "for m, session in zip(mice, sessions):\n",
    "    for s in tdqm(session):\n",
    "        d = data[m][s]\n",
    "                \n",
    "        rawdata_file = 'RAW_' + m + '_' + s + '.npy'\n",
    "        raw = np.load(load_folder + rawdata_file, allow_pickle=True)\n",
    "        cell_IDs = raw.item().get('cellsfil')\n",
    "        gridcell = d['gridcell'].astype(bool)\n",
    "        gridcells = cell_IDs[gridcell]     \n",
    "        \n",
    "        if len(gridcells) >= 10: \n",
    "            \n",
    "            #Load stuff I have saved previously\n",
    "            SilN_file = 'SilN_' + m + '_' + s + '.npy'\n",
    "            SilN = np.load(fig3s4_folder + SilN_file)\n",
    "            \n",
    "            #fit K-means\n",
    "            Y = d['FRtensorbacksorted'].copy()\n",
    "            Y = Y.transpose(0, 2, 1)\n",
    "            Y_unwrapped = np.reshape(Y, (Y.shape[0], -1))\n",
    "            \n",
    "            model_kmeans = lvl_kmeans(n_components = SilN, n_restarts = 100)\n",
    "            model_kmeans.fit(Y_unwrapped)\n",
    "            W, H = model_kmeans.factors\n",
    "            Y_hat = model_kmeans.predict()\n",
    "            score = model_kmeans.score(Y_unwrapped)\n",
    "            d['kmeans'] = {}\n",
    "            d['kmeans']['SilN'] = SilN\n",
    "            d['kmeans']['W'] = W\n",
    "            d['kmeans']['H'] = H\n",
    "            d['kmeans']['Y_hat'] = Y_hat \n",
    "            d['kmeans']['Y_hat'] = Y_hat \n",
    "            d['kmeans']['score'] = score\n",
    "            \n",
    "            #load boolean to determine if I should keep k-means map in dataset (better than shuffle at chosen k)\n",
    "            onemapfile = 'onemap' + m + '_' + s + '.npy'\n",
    "            onemap = np.load(fig3s4_folder + onemapfile)\n",
    "            d['kmeans']['onemap'] = onemap"
   ]
  },
  {
   "cell_type": "code",
   "execution_count": 18,
   "id": "e9a34eed",
   "metadata": {
    "scrolled": true
   },
   "outputs": [
    {
     "data": {
      "application/vnd.jupyter.widget-view+json": {
       "model_id": "e673cd03551949ae8e1090cca4c9ec13",
       "version_major": 2,
       "version_minor": 0
      },
      "text/plain": [
       "  0%|          | 0/3 [00:00<?, ?it/s]"
      ]
     },
     "metadata": {},
     "output_type": "display_data"
    },
    {
     "data": {
      "application/vnd.jupyter.widget-view+json": {
       "model_id": "d232008eea8f41229d679032bcbf3633",
       "version_major": 2,
       "version_minor": 0
      },
      "text/plain": [
       "  0%|          | 0/6 [00:00<?, ?it/s]"
      ]
     },
     "metadata": {},
     "output_type": "display_data"
    },
    {
     "data": {
      "application/vnd.jupyter.widget-view+json": {
       "model_id": "4e5592107e8b417d8c3251cc53c6f202",
       "version_major": 2,
       "version_minor": 0
      },
      "text/plain": [
       "  0%|          | 0/4 [00:00<?, ?it/s]"
      ]
     },
     "metadata": {},
     "output_type": "display_data"
    },
    {
     "data": {
      "application/vnd.jupyter.widget-view+json": {
       "model_id": "c203a73b74f3430eb23d300b70935ecf",
       "version_major": 2,
       "version_minor": 0
      },
      "text/plain": [
       "  0%|          | 0/6 [00:00<?, ?it/s]"
      ]
     },
     "metadata": {},
     "output_type": "display_data"
    },
    {
     "data": {
      "application/vnd.jupyter.widget-view+json": {
       "model_id": "9529ab79fdcf460eb2f5ecc2f8d9831c",
       "version_major": 2,
       "version_minor": 0
      },
      "text/plain": [
       "  0%|          | 0/6 [00:00<?, ?it/s]"
      ]
     },
     "metadata": {},
     "output_type": "display_data"
    },
    {
     "data": {
      "application/vnd.jupyter.widget-view+json": {
       "model_id": "a37124fa1567422e8f0098458911f35a",
       "version_major": 2,
       "version_minor": 0
      },
      "text/plain": [
       "  0%|          | 0/6 [00:00<?, ?it/s]"
      ]
     },
     "metadata": {},
     "output_type": "display_data"
    },
    {
     "data": {
      "application/vnd.jupyter.widget-view+json": {
       "model_id": "2f060a1e2251460db26773f23a6d449e",
       "version_major": 2,
       "version_minor": 0
      },
      "text/plain": [
       "  0%|          | 0/6 [00:00<?, ?it/s]"
      ]
     },
     "metadata": {},
     "output_type": "display_data"
    },
    {
     "data": {
      "application/vnd.jupyter.widget-view+json": {
       "model_id": "fe942f24e66641fb97e44f5b6405fcdd",
       "version_major": 2,
       "version_minor": 0
      },
      "text/plain": [
       "  0%|          | 0/6 [00:00<?, ?it/s]"
      ]
     },
     "metadata": {},
     "output_type": "display_data"
    },
    {
     "data": {
      "application/vnd.jupyter.widget-view+json": {
       "model_id": "a5be5df9b21a4923b91e86448d62f0d2",
       "version_major": 2,
       "version_minor": 0
      },
      "text/plain": [
       "  0%|          | 0/6 [00:00<?, ?it/s]"
      ]
     },
     "metadata": {},
     "output_type": "display_data"
    },
    {
     "data": {
      "application/vnd.jupyter.widget-view+json": {
       "model_id": "ad33e354f211487abd8f6950cbe886cd",
       "version_major": 2,
       "version_minor": 0
      },
      "text/plain": [
       "  0%|          | 0/6 [00:00<?, ?it/s]"
      ]
     },
     "metadata": {},
     "output_type": "display_data"
    },
    {
     "data": {
      "application/vnd.jupyter.widget-view+json": {
       "model_id": "e9aaa040d11e492aa3fd7a7556c86e40",
       "version_major": 2,
       "version_minor": 0
      },
      "text/plain": [
       "  0%|          | 0/6 [00:00<?, ?it/s]"
      ]
     },
     "metadata": {},
     "output_type": "display_data"
    },
    {
     "data": {
      "application/vnd.jupyter.widget-view+json": {
       "model_id": "12b668500e944ecdbace819d72a24529",
       "version_major": 2,
       "version_minor": 0
      },
      "text/plain": [
       "  0%|          | 0/6 [00:00<?, ?it/s]"
      ]
     },
     "metadata": {},
     "output_type": "display_data"
    },
    {
     "data": {
      "application/vnd.jupyter.widget-view+json": {
       "model_id": "e52ed253406442fdb9859bfa1c105137",
       "version_major": 2,
       "version_minor": 0
      },
      "text/plain": [
       "  0%|          | 0/6 [00:00<?, ?it/s]"
      ]
     },
     "metadata": {},
     "output_type": "display_data"
    },
    {
     "data": {
      "application/vnd.jupyter.widget-view+json": {
       "model_id": "3b962eb2d03b43e7b7caa49854e676df",
       "version_major": 2,
       "version_minor": 0
      },
      "text/plain": [
       "  0%|          | 0/6 [00:00<?, ?it/s]"
      ]
     },
     "metadata": {},
     "output_type": "display_data"
    },
    {
     "data": {
      "application/vnd.jupyter.widget-view+json": {
       "model_id": "cdc1fc38dbc54780876e5384c0c69e8a",
       "version_major": 2,
       "version_minor": 0
      },
      "text/plain": [
       "  0%|          | 0/6 [00:00<?, ?it/s]"
      ]
     },
     "metadata": {},
     "output_type": "display_data"
    },
    {
     "data": {
      "application/vnd.jupyter.widget-view+json": {
       "model_id": "a7c23375bca542eeab04062700a57856",
       "version_major": 2,
       "version_minor": 0
      },
      "text/plain": [
       "  0%|          | 0/6 [00:00<?, ?it/s]"
      ]
     },
     "metadata": {},
     "output_type": "display_data"
    },
    {
     "data": {
      "application/vnd.jupyter.widget-view+json": {
       "model_id": "2a1074a4650c448cbafae8dbb0efb3b6",
       "version_major": 2,
       "version_minor": 0
      },
      "text/plain": [
       "  0%|          | 0/6 [00:00<?, ?it/s]"
      ]
     },
     "metadata": {},
     "output_type": "display_data"
    },
    {
     "data": {
      "application/vnd.jupyter.widget-view+json": {
       "model_id": "cf49e47436ed4fec93e20d13aa8d0491",
       "version_major": 2,
       "version_minor": 0
      },
      "text/plain": [
       "  0%|          | 0/4 [00:00<?, ?it/s]"
      ]
     },
     "metadata": {},
     "output_type": "display_data"
    },
    {
     "data": {
      "application/vnd.jupyter.widget-view+json": {
       "model_id": "b892296a7e344a29ac05fb0110db55ea",
       "version_major": 2,
       "version_minor": 0
      },
      "text/plain": [
       "  0%|          | 0/6 [00:00<?, ?it/s]"
      ]
     },
     "metadata": {},
     "output_type": "display_data"
    },
    {
     "data": {
      "application/vnd.jupyter.widget-view+json": {
       "model_id": "26b9fd4b1b8146ccb06103e89ec32cf9",
       "version_major": 2,
       "version_minor": 0
      },
      "text/plain": [
       "  0%|          | 0/6 [00:00<?, ?it/s]"
      ]
     },
     "metadata": {},
     "output_type": "display_data"
    },
    {
     "data": {
      "application/vnd.jupyter.widget-view+json": {
       "model_id": "73ff73b1f25f45948fc9cce4d15d80d3",
       "version_major": 2,
       "version_minor": 0
      },
      "text/plain": [
       "  0%|          | 0/6 [00:00<?, ?it/s]"
      ]
     },
     "metadata": {},
     "output_type": "display_data"
    },
    {
     "data": {
      "application/vnd.jupyter.widget-view+json": {
       "model_id": "1397cf9787fe40609174914c55a91754",
       "version_major": 2,
       "version_minor": 0
      },
      "text/plain": [
       "  0%|          | 0/6 [00:00<?, ?it/s]"
      ]
     },
     "metadata": {},
     "output_type": "display_data"
    },
    {
     "data": {
      "application/vnd.jupyter.widget-view+json": {
       "model_id": "b40c510e4b634036b7676593aefa94be",
       "version_major": 2,
       "version_minor": 0
      },
      "text/plain": [
       "  0%|          | 0/6 [00:00<?, ?it/s]"
      ]
     },
     "metadata": {},
     "output_type": "display_data"
    },
    {
     "data": {
      "application/vnd.jupyter.widget-view+json": {
       "model_id": "24daaf3f1d604bcd90c7ac0fd528673b",
       "version_major": 2,
       "version_minor": 0
      },
      "text/plain": [
       "  0%|          | 0/6 [00:00<?, ?it/s]"
      ]
     },
     "metadata": {},
     "output_type": "display_data"
    },
    {
     "data": {
      "application/vnd.jupyter.widget-view+json": {
       "model_id": "ef6b5d0c909045c2b9a0841bd497e78b",
       "version_major": 2,
       "version_minor": 0
      },
      "text/plain": [
       "  0%|          | 0/6 [00:00<?, ?it/s]"
      ]
     },
     "metadata": {},
     "output_type": "display_data"
    },
    {
     "data": {
      "application/vnd.jupyter.widget-view+json": {
       "model_id": "e226c58ac27c4166904f7b28b425c1c0",
       "version_major": 2,
       "version_minor": 0
      },
      "text/plain": [
       "  0%|          | 0/6 [00:00<?, ?it/s]"
      ]
     },
     "metadata": {},
     "output_type": "display_data"
    },
    {
     "data": {
      "application/vnd.jupyter.widget-view+json": {
       "model_id": "435464b9d0ea4eb8bc1d52d30b47467f",
       "version_major": 2,
       "version_minor": 0
      },
      "text/plain": [
       "  0%|          | 0/6 [00:00<?, ?it/s]"
      ]
     },
     "metadata": {},
     "output_type": "display_data"
    },
    {
     "data": {
      "application/vnd.jupyter.widget-view+json": {
       "model_id": "a488b1cfc89f4210a2b483c87cc8966c",
       "version_major": 2,
       "version_minor": 0
      },
      "text/plain": [
       "  0%|          | 0/6 [00:00<?, ?it/s]"
      ]
     },
     "metadata": {},
     "output_type": "display_data"
    },
    {
     "data": {
      "application/vnd.jupyter.widget-view+json": {
       "model_id": "7da5686777a34b2693860ef197d50d20",
       "version_major": 2,
       "version_minor": 0
      },
      "text/plain": [
       "  0%|          | 0/6 [00:00<?, ?it/s]"
      ]
     },
     "metadata": {},
     "output_type": "display_data"
    }
   ],
   "source": [
    "''' Gather the relative performance of K-Means vs. TSVD at Optimal K\n",
    "\n",
    "Run time: ~30 - 45 seconds / session x 167 sessions\n",
    "\n",
    "'''\n",
    "\n",
    "from lvl.factor_models import TSVD\n",
    "\n",
    "# For every session with sufficient spatial cells, plot optimal K-means vs. TSVD performance\n",
    "ykmeansr2 = []\n",
    "ytsvdr2 = []\n",
    "yk = []\n",
    "\n",
    "makmeansr2 = []\n",
    "matsvdr2 = []\n",
    "mak = []\n",
    "\n",
    "akmeansr2 = []\n",
    "atsvdr2 = []\n",
    "ak = []\n",
    "\n",
    "n_repeats = 10\n",
    "UNITY_LW = 3\n",
    "n_ranks = 1\n",
    "\n",
    "for m, session in zip(mice, sessions):\n",
    "    for s in tdqm(session):\n",
    "        \n",
    "        d = data[m][s]\n",
    "\n",
    "        rawdata_file = 'RAW_' + m + '_' + s + '.npy'\n",
    "        behavior_file = 'BEHAVIOR_' + m + '_' + s + '.npy'\n",
    "        raw = np.load(load_folder + rawdata_file, allow_pickle=True)\n",
    "        cell_IDs = raw.item().get('cellsfil')\n",
    "        gridcell = d['gridcell']\n",
    "        gridcells = cell_IDs[gridcell]\n",
    "        \n",
    "        if len(gridcells) >= 10:\n",
    "            \n",
    "            #load in the real data\n",
    "            Y = d['FRtensorbacksorted'].copy()\n",
    "            Y = Y.transpose(0, 2, 1)\n",
    "            Y_unwrapped = np.reshape(Y, (Y.shape[0], -1))\n",
    "            \n",
    "            SilN = d['kmeans']['SilN']\n",
    "            onemap = d['kmeans']['onemap'] # vector [one map boolean, WSR Stat, WSR P-Value]\n",
    "            \n",
    "            if onemap[0].astype(bool) == True:         \n",
    "                ranks = [1]\n",
    "            else:\n",
    "                SilN = int(SilN)\n",
    "                ranks = [SilN]\n",
    "\n",
    "            # Run cross-validated k-means with speckled holdout pattern \n",
    "            km_train_scores = np.ones((n_ranks, n_repeats))\n",
    "            km_test_scores = np.ones((n_ranks, n_repeats))\n",
    "            for i, rank in enumerate(ranks):\n",
    "                model = lvl_kmeans(n_components=rank, n_restarts=100, maxiter=1000)\n",
    "                km_train_scores[i], km_test_scores[i] = \\\n",
    "                    speckled_cv_scores(model, Y_unwrapped, n_repeats=n_repeats)\n",
    "            \n",
    "            # Run cross-validated truncated SVD with speckled holdout pattern.\n",
    "            tsvd_train_scores = np.ones((n_ranks, n_repeats))\n",
    "            tsvd_test_scores = np.ones((n_ranks, n_repeats))\n",
    "\n",
    "            for i, rank in enumerate(ranks):\n",
    "                model = TSVD(n_components=rank, method=\"als\", maxiter=1000)\n",
    "                tsvd_train_scores[i], tsvd_test_scores[i] = \\\n",
    "                    speckled_cv_scores(model, Y_unwrapped, n_repeats=n_repeats)\n",
    "            \n",
    "            if m in SM_aged_mice:\n",
    "                ak = np.append(ak, ranks)\n",
    "                akmeansr2 = np.append(akmeansr2, np.mean(km_test_scores))\n",
    "                atsvdr2 = np.append(atsvdr2, np.mean(tsvd_test_scores))\n",
    "            elif m in SM_MA_mice:\n",
    "                mak = np.append(mak, ranks)\n",
    "                makmeansr2 = np.append(makmeansr2, np.mean(km_test_scores))\n",
    "                matsvdr2 = np.append(matsvdr2, np.mean(tsvd_test_scores))\n",
    "            else:\n",
    "                yk = np.append(yk, ranks)\n",
    "                ykmeansr2 = np.append(ykmeansr2, np.mean(km_test_scores))\n",
    "                ytsvdr2 = np.append(ytsvdr2, np.mean(tsvd_test_scores))"
   ]
  },
  {
   "cell_type": "code",
   "execution_count": 21,
   "id": "baa53b9b",
   "metadata": {},
   "outputs": [
    {
     "data": {
      "image/png": "[encoded data removed]",
      "text/plain": [
       "<Figure size 360x140 with 3 Axes>"
      ]
     },
     "metadata": {},
     "output_type": "display_data"
    },
    {
     "name": "stdout",
     "output_type": "stream",
     "text": [
      "Aged Performance Correlation TSVD vs. KMeans: \n",
      "PearsonRResult(statistic=0.9741518970675128, pvalue=2.0484981821989968e-29)\n",
      "n aged sessions = 45\n",
      "\n",
      "MA Performance Correlation TSVD vs. KMeans: \n",
      "PearsonRResult(statistic=0.9840557871645721, pvalue=2.0662101292473483e-38)\n",
      "n MA sessions = 51\n",
      "\n",
      "Young Performance Correlation TSVD vs. KMeans: \n",
      "PearsonRResult(statistic=0.9831743312842725, pvalue=1.2939661396744675e-35)\n",
      "n MA sessions = 48\n"
     ]
    }
   ],
   "source": [
    "'''Plot Figure S5A (Right)'''\n",
    "fig, axes = plt.subplots(1, 3, figsize = (3.6,1.4), sharey=True)\n",
    "#fig.suptitle('Split Maze (All K)', fontsize = 10)\n",
    "rax = np.tile(ranks, (n_repeats, 1)).T.ravel()\n",
    "axes[2].scatter(atsvdr2, akmeansr2, s = ak*10, label = 'Aged', c = 'C1', alpha = 0.5, edgecolor = 'k')\n",
    "axes[1].scatter(matsvdr2, makmeansr2, s = mak*10, label = 'MA', c = 'C2', alpha = 0.5, edgecolor = 'k')\n",
    "axes[0].scatter(ytsvdr2, ykmeansr2, s = yk*10, label = 'Young', c = 'C0', alpha = 0.5, edgecolor = 'k')\n",
    "\n",
    "#label stuff\n",
    "axes[0].set_ylabel(\"R**2 K-Means\", fontsize = 9)\n",
    "axes[0].set_xlabel(\"R**2 TSVD\", fontsize = 9)\n",
    "axes[1].set_xlabel(\"R**2 TSVD\", fontsize = 9)\n",
    "axes[2].set_xlabel(\"R**2 TSVD\", fontsize = 9)\n",
    "axes[2].set_xlim([0.2, 0.75])\n",
    "axes[2].set_ylim([0.2, 0.75])\n",
    "axes[1].set_xlim([0.2, 0.75])\n",
    "axes[1].set_ylim([0.2, 0.75])\n",
    "axes[0].set_xlim([0.2, 0.75])\n",
    "axes[0].set_ylim([0.2, 0.75])\n",
    "axes[0].set_yticks([0.25, 0.5, 0.75])\n",
    "axes[0].set_xticks([0.25, 0.5, 0.75])\n",
    "axes[1].set_xticks([0.25, 0.5, 0.75])\n",
    "axes[2].set_xticks([0.25, 0.5, 0.75])\n",
    "axes[0].tick_params(labelsize = 8)\n",
    "axes[1].tick_params(labelsize = 8)\n",
    "axes[2].tick_params(labelsize = 8)\n",
    "\n",
    "#plot unity lines\n",
    "xlims = axes[0].get_xlim()\n",
    "ylims = axes[0].get_ylim()\n",
    "min_plot = np.min([xlims[0], ylims[0]])\n",
    "max_plot = np.max([xlims[1], ylims[1]])\n",
    "axes[0].plot([min_plot, max_plot], [min_plot, max_plot], '--k', lw=0.75, zorder=4, alpha=1)\n",
    "axes[1].plot([min_plot, max_plot], [min_plot, max_plot], '--k', lw=0.75, zorder=4, alpha=1)\n",
    "axes[2].plot([min_plot, max_plot], [min_plot, max_plot], '--k', lw=0.75, zorder=4, alpha=1)\n",
    "#axes[0].legend()\n",
    "#axes[1].legend()\n",
    "#axes[2].legend()\n",
    "#axes[1].set_title('Dot Size ~ Optimal K (1-4)')\n",
    "plt.tight_layout()\n",
    "\n",
    "fig.savefig(save_folder + 'S5Aright.svg', dpi = 400)\n",
    "fig.savefig(save_folder + 'S5Aright.png', dpi = 400)\n",
    "plt.show()\n",
    "\n",
    "print('Aged Performance Correlation TSVD vs. KMeans: ')\n",
    "print(stats.pearsonr(atsvdr2,akmeansr2))\n",
    "print('n aged sessions = ' + str(len(atsvdr2)))\n",
    "print('\\nMA Performance Correlation TSVD vs. KMeans: ')\n",
    "print(stats.pearsonr(matsvdr2,makmeansr2))\n",
    "print('n MA sessions = ' + str(len(matsvdr2)))\n",
    "print('\\nYoung Performance Correlation TSVD vs. KMeans: ')\n",
    "print(stats.pearsonr(ytsvdr2,ykmeansr2))\n",
    "print('n MA sessions = ' + str(len(ytsvdr2)))"
   ]
  },
  {
   "cell_type": "markdown",
   "id": "5f9aab01",
   "metadata": {},
   "source": [
    "# Re-label K-Means maps non-arbitrarily & examine alignment across vs. within map similarity."
   ]
  },
  {
   "cell_type": "code",
   "execution_count": 111,
   "id": "baa595f5",
   "metadata": {
    "scrolled": true
   },
   "outputs": [
    {
     "data": {
      "application/vnd.jupyter.widget-view+json": {
       "model_id": "cdad0fd673ef4bb4bced3675cd189787",
       "version_major": 2,
       "version_minor": 0
      },
      "text/plain": [
       "  0%|          | 0/3 [00:00<?, ?it/s]"
      ]
     },
     "metadata": {},
     "output_type": "display_data"
    },
    {
     "data": {
      "application/vnd.jupyter.widget-view+json": {
       "model_id": "0847f86a430c445987a12f6f89cf86c9",
       "version_major": 2,
       "version_minor": 0
      },
      "text/plain": [
       "  0%|          | 0/6 [00:00<?, ?it/s]"
      ]
     },
     "metadata": {},
     "output_type": "display_data"
    },
    {
     "data": {
      "application/vnd.jupyter.widget-view+json": {
       "model_id": "60f17303dfb24c46bb6de6cab53efcae",
       "version_major": 2,
       "version_minor": 0
      },
      "text/plain": [
       "  0%|          | 0/4 [00:00<?, ?it/s]"
      ]
     },
     "metadata": {},
     "output_type": "display_data"
    },
    {
     "data": {
      "application/vnd.jupyter.widget-view+json": {
       "model_id": "b431ca754aa5465dab6b275723f44cb2",
       "version_major": 2,
       "version_minor": 0
      },
      "text/plain": [
       "  0%|          | 0/6 [00:00<?, ?it/s]"
      ]
     },
     "metadata": {},
     "output_type": "display_data"
    },
    {
     "data": {
      "application/vnd.jupyter.widget-view+json": {
       "model_id": "ab8f18b8c24543148ae59fd16b835e09",
       "version_major": 2,
       "version_minor": 0
      },
      "text/plain": [
       "  0%|          | 0/6 [00:00<?, ?it/s]"
      ]
     },
     "metadata": {},
     "output_type": "display_data"
    },
    {
     "data": {
      "application/vnd.jupyter.widget-view+json": {
       "model_id": "b0edd3c92b384b418e91321695bac8d4",
       "version_major": 2,
       "version_minor": 0
      },
      "text/plain": [
       "  0%|          | 0/6 [00:00<?, ?it/s]"
      ]
     },
     "metadata": {},
     "output_type": "display_data"
    },
    {
     "data": {
      "application/vnd.jupyter.widget-view+json": {
       "model_id": "eea3db9ba5bb47ca9618672f4e10daab",
       "version_major": 2,
       "version_minor": 0
      },
      "text/plain": [
       "  0%|          | 0/6 [00:00<?, ?it/s]"
      ]
     },
     "metadata": {},
     "output_type": "display_data"
    },
    {
     "data": {
      "application/vnd.jupyter.widget-view+json": {
       "model_id": "a659ec74e6ef41378d90429f2c494162",
       "version_major": 2,
       "version_minor": 0
      },
      "text/plain": [
       "  0%|          | 0/6 [00:00<?, ?it/s]"
      ]
     },
     "metadata": {},
     "output_type": "display_data"
    },
    {
     "data": {
      "application/vnd.jupyter.widget-view+json": {
       "model_id": "31f65f09689e4f008947385b672f2771",
       "version_major": 2,
       "version_minor": 0
      },
      "text/plain": [
       "  0%|          | 0/6 [00:00<?, ?it/s]"
      ]
     },
     "metadata": {},
     "output_type": "display_data"
    },
    {
     "data": {
      "application/vnd.jupyter.widget-view+json": {
       "model_id": "638274967288404dba1bddd618a89a79",
       "version_major": 2,
       "version_minor": 0
      },
      "text/plain": [
       "  0%|          | 0/6 [00:00<?, ?it/s]"
      ]
     },
     "metadata": {},
     "output_type": "display_data"
    },
    {
     "data": {
      "application/vnd.jupyter.widget-view+json": {
       "model_id": "b1759241e8a64b60ab023d5c96f50321",
       "version_major": 2,
       "version_minor": 0
      },
      "text/plain": [
       "  0%|          | 0/6 [00:00<?, ?it/s]"
      ]
     },
     "metadata": {},
     "output_type": "display_data"
    },
    {
     "data": {
      "application/vnd.jupyter.widget-view+json": {
       "model_id": "255aceee03c14dcca5689edfaf308ebb",
       "version_major": 2,
       "version_minor": 0
      },
      "text/plain": [
       "  0%|          | 0/6 [00:00<?, ?it/s]"
      ]
     },
     "metadata": {},
     "output_type": "display_data"
    },
    {
     "data": {
      "application/vnd.jupyter.widget-view+json": {
       "model_id": "3b5a457f1e2440dbbb6854c96c7f6f02",
       "version_major": 2,
       "version_minor": 0
      },
      "text/plain": [
       "  0%|          | 0/6 [00:00<?, ?it/s]"
      ]
     },
     "metadata": {},
     "output_type": "display_data"
    },
    {
     "data": {
      "application/vnd.jupyter.widget-view+json": {
       "model_id": "d5228ecff99948d99941ad0519b4172e",
       "version_major": 2,
       "version_minor": 0
      },
      "text/plain": [
       "  0%|          | 0/6 [00:00<?, ?it/s]"
      ]
     },
     "metadata": {},
     "output_type": "display_data"
    },
    {
     "data": {
      "application/vnd.jupyter.widget-view+json": {
       "model_id": "04339a75cece4ca6971d5caed4d72027",
       "version_major": 2,
       "version_minor": 0
      },
      "text/plain": [
       "  0%|          | 0/6 [00:00<?, ?it/s]"
      ]
     },
     "metadata": {},
     "output_type": "display_data"
    },
    {
     "data": {
      "application/vnd.jupyter.widget-view+json": {
       "model_id": "8a197b724c434212aba6941901893b01",
       "version_major": 2,
       "version_minor": 0
      },
      "text/plain": [
       "  0%|          | 0/6 [00:00<?, ?it/s]"
      ]
     },
     "metadata": {},
     "output_type": "display_data"
    },
    {
     "data": {
      "application/vnd.jupyter.widget-view+json": {
       "model_id": "d80091cfa9c34be38590c6f62a47762c",
       "version_major": 2,
       "version_minor": 0
      },
      "text/plain": [
       "  0%|          | 0/6 [00:00<?, ?it/s]"
      ]
     },
     "metadata": {},
     "output_type": "display_data"
    },
    {
     "data": {
      "application/vnd.jupyter.widget-view+json": {
       "model_id": "3f0f117cc95a465c83f082cea0dc7482",
       "version_major": 2,
       "version_minor": 0
      },
      "text/plain": [
       "  0%|          | 0/4 [00:00<?, ?it/s]"
      ]
     },
     "metadata": {},
     "output_type": "display_data"
    },
    {
     "data": {
      "application/vnd.jupyter.widget-view+json": {
       "model_id": "223b32c50b284ede87b6fcbd81e18921",
       "version_major": 2,
       "version_minor": 0
      },
      "text/plain": [
       "  0%|          | 0/6 [00:00<?, ?it/s]"
      ]
     },
     "metadata": {},
     "output_type": "display_data"
    },
    {
     "data": {
      "application/vnd.jupyter.widget-view+json": {
       "model_id": "d5961a80c6374c35b934663c13139232",
       "version_major": 2,
       "version_minor": 0
      },
      "text/plain": [
       "  0%|          | 0/6 [00:00<?, ?it/s]"
      ]
     },
     "metadata": {},
     "output_type": "display_data"
    },
    {
     "data": {
      "application/vnd.jupyter.widget-view+json": {
       "model_id": "c9003161a79343728d107cb2a5f16b0c",
       "version_major": 2,
       "version_minor": 0
      },
      "text/plain": [
       "  0%|          | 0/6 [00:00<?, ?it/s]"
      ]
     },
     "metadata": {},
     "output_type": "display_data"
    },
    {
     "data": {
      "application/vnd.jupyter.widget-view+json": {
       "model_id": "8e713565273f44ef83cd26f7188b8562",
       "version_major": 2,
       "version_minor": 0
      },
      "text/plain": [
       "  0%|          | 0/6 [00:00<?, ?it/s]"
      ]
     },
     "metadata": {},
     "output_type": "display_data"
    },
    {
     "data": {
      "application/vnd.jupyter.widget-view+json": {
       "model_id": "44967a5edcae4d83a421a78d4a608abf",
       "version_major": 2,
       "version_minor": 0
      },
      "text/plain": [
       "  0%|          | 0/6 [00:00<?, ?it/s]"
      ]
     },
     "metadata": {},
     "output_type": "display_data"
    },
    {
     "data": {
      "application/vnd.jupyter.widget-view+json": {
       "model_id": "0c3ea64a595f4f85a3b386ef4a94a0b5",
       "version_major": 2,
       "version_minor": 0
      },
      "text/plain": [
       "  0%|          | 0/6 [00:00<?, ?it/s]"
      ]
     },
     "metadata": {},
     "output_type": "display_data"
    },
    {
     "data": {
      "application/vnd.jupyter.widget-view+json": {
       "model_id": "81734cf6f921411cad41ec91cb9e93bb",
       "version_major": 2,
       "version_minor": 0
      },
      "text/plain": [
       "  0%|          | 0/6 [00:00<?, ?it/s]"
      ]
     },
     "metadata": {},
     "output_type": "display_data"
    },
    {
     "data": {
      "application/vnd.jupyter.widget-view+json": {
       "model_id": "57f54307e6ae4045970f1295e775c1f4",
       "version_major": 2,
       "version_minor": 0
      },
      "text/plain": [
       "  0%|          | 0/6 [00:00<?, ?it/s]"
      ]
     },
     "metadata": {},
     "output_type": "display_data"
    },
    {
     "data": {
      "application/vnd.jupyter.widget-view+json": {
       "model_id": "97c18146c42f42b683acb690717d5382",
       "version_major": 2,
       "version_minor": 0
      },
      "text/plain": [
       "  0%|          | 0/6 [00:00<?, ?it/s]"
      ]
     },
     "metadata": {},
     "output_type": "display_data"
    },
    {
     "data": {
      "application/vnd.jupyter.widget-view+json": {
       "model_id": "bb0ee3e3cb15402a985278076e157907",
       "version_major": 2,
       "version_minor": 0
      },
      "text/plain": [
       "  0%|          | 0/6 [00:00<?, ?it/s]"
      ]
     },
     "metadata": {},
     "output_type": "display_data"
    },
    {
     "data": {
      "application/vnd.jupyter.widget-view+json": {
       "model_id": "66ffe78a428c4088a1d346ecaccbccdc",
       "version_major": 2,
       "version_minor": 0
      },
      "text/plain": [
       "  0%|          | 0/6 [00:00<?, ?it/s]"
      ]
     },
     "metadata": {},
     "output_type": "display_data"
    }
   ],
   "source": [
    "''' Re-label spatial maps based on occupancy of Context A & B\n",
    "\n",
    " - If k = 2, map 0 is the map with the greatest relative number of trials in Block A (map 1 is the other)\n",
    " - If k = 3, map 0 & map 1 are the maps with greatest relative number of trials in Blocks A & B (map 2 is the other map)\n",
    " - If k = 4, map 0 & map 1 are the maps with greatest relative number of trials in Blocks A & B; between the remaining maps,\n",
    " whichever occupies more of blocks + A' is map 2. \n",
    " \n",
    "'''\n",
    "\n",
    "for m, session in zip(mice, sessions):\n",
    "    for s in tdqm(session):\n",
    "        d = data[m][s]\n",
    "        \n",
    "        #get some data & cell IDs\n",
    "        rawdata_file = 'RAW_' + m + '_' + s + '.npy'\n",
    "        spikes_file = 'SPIKES_' + m + '_' + s +'.npy'\n",
    "        behavior_file = 'BEHAVIOR_' + m + '_' + s + '.npy'\n",
    "        \n",
    "        raw = np.load(load_folder + rawdata_file, allow_pickle=True)\n",
    "        Y = np.load(load_folder + spikes_file, allow_pickle=False) #pre-filtered for speeds >2cm/s, position-corrected spikes, 20 ms timebins\n",
    "        behaviorfil = np.load(load_folder + behavior_file, allow_pickle=False)\n",
    "        \n",
    "        cell_IDs = raw.item().get('cellsfil')\n",
    "        gridcell = d['gridcell'].astype(bool)\n",
    "        gridcells = cell_IDs[gridcell]     \n",
    "        \n",
    "        if len(gridcells) >= 10: \n",
    "            W = d['kmeans']['W']\n",
    "            skippedrawtrialfil = d['skippedrawtrialfil'].astype(int)\n",
    "            VRbackidx = d['VRbackidx'].astype(int)\n",
    "            trials = skippedrawtrialfil[VRbackidx]\n",
    "\n",
    "            #assign map 0 to be the one dominating A, map 1 is the other map\n",
    "            if (d['kmeans']['SilN'] == 2) and (d['kmeans']['onemap'][0] == False):\n",
    "                # get map indices\n",
    "                map_idx = W[:, 0].astype(bool)\n",
    "                map0_idx = np.zeros_like(trials)\n",
    "                map1_idx = np.zeros_like(trials)\n",
    "                for i, t in enumerate(np.unique(trials)):\n",
    "                    if map_idx[i]:\n",
    "                        map0_idx[trials == t] = 1\n",
    "                    else:\n",
    "                        map1_idx[trials == t] = 1\n",
    "                map0_idx = map0_idx.astype(bool)\n",
    "                map1_idx = map1_idx.astype(bool)\n",
    "\n",
    "                # get assign map 0 to be the one with the greate number of trials in Context A\n",
    "                trials_0inA = np.sum(np.unique(trials[map0_idx]) < 80)\n",
    "                trials_1inA = np.sum(np.unique(trials[map1_idx]) < 80) \n",
    "\n",
    "                if trials_0inA < trials_1inA: # swap labels\n",
    "                    d['map0_idx'] = 1\n",
    "                else:\n",
    "                    d['map0_idx'] = 0\n",
    "            \n",
    "            #ditto, assign map 1 to be the one dominating B, map 2 is the other map\n",
    "            elif (d['kmeans']['SilN'] == 3) and (d['kmeans']['onemap'][0] == False):\n",
    "                map0_idx = np.zeros_like(trials)\n",
    "                map1_idx = np.zeros_like(trials)\n",
    "                map2_idx = np.zeros_like(trials)\n",
    "                for i, t in enumerate(np.unique(trials)):\n",
    "                    map_idx = np.where(W[i,:] == 1)[0][0]\n",
    "                    if map_idx == 0:\n",
    "                        map0_idx[trials == t] = 1\n",
    "                    elif map_idx == 1:\n",
    "                        map1_idx[trials == t] = 1\n",
    "                    else:\n",
    "                        map2_idx[trials == t] = 1\n",
    "                map0_idx = map0_idx.astype(bool)\n",
    "                map1_idx = map1_idx.astype(bool)\n",
    "                map2_idx = map2_idx.astype(bool)\n",
    "                \n",
    "                # get assign map 0 to be the one with the greate number of trials in Context A\n",
    "                map0trials = np.unique(trials[map0_idx])\n",
    "                map1trials = np.unique(trials[map1_idx])\n",
    "                map2trials = np.unique(trials[map2_idx])\n",
    "                                       \n",
    "                trials_0inA = np.sum(map0trials < 80)\n",
    "                trials_1inA = np.sum(map1trials < 80) \n",
    "                trials_2inA = np.sum(map2trials < 80) \n",
    "                \n",
    "                d['map0_idx'] = np.argmax([trials_0inA, trials_1inA, trials_2inA])\n",
    "                \n",
    "                # get assign map 1 to be the one with the greate number of trials in Context B\n",
    "                trials_0inB = len(map0trials[(map0trials >= 80) & (map0trials < 140)])\n",
    "                trials_1inB = len(map1trials[(map1trials >= 80) & (map1trials < 140)])\n",
    "                trials_2inB = len(map2trials[(map2trials >= 80) & (map2trials < 140)])\n",
    "\n",
    "                d['map1_idx'] = np.argmax([trials_0inB, trials_1inB, trials_2inB])\n",
    "                d['map2_idx'] = np.setdiff1d([0,1,2], [d['map0_idx'], d['map1_idx']])[0]\n",
    " \n",
    "            #ditto but map 2 is the map occupying most of A' map 3 is the other map        \n",
    "            elif (d['kmeans']['SilN'] == 4) and (d['kmeans']['onemap'][0] == False):\n",
    "                map0_idx = np.zeros_like(trials)\n",
    "                map1_idx = np.zeros_like(trials)\n",
    "                map2_idx = np.zeros_like(trials)\n",
    "                map3_idx = np.zeros_like(trials)\n",
    "                for i, t in enumerate(np.unique(trials)):\n",
    "                    map_idx = np.where(W[i,:] == 1)[0][0]\n",
    "                    if map_idx == 0:\n",
    "                        map0_idx[trials == t] = 1\n",
    "                    elif map_idx == 1:\n",
    "                        map1_idx[trials == t] = 1\n",
    "                    elif map_idx == 2:\n",
    "                        map2_idx[trials == t] = 1\n",
    "                    else:\n",
    "                        map3_idx[trials == t] = 1\n",
    "                map0_idx = map0_idx.astype(bool)\n",
    "                map1_idx = map1_idx.astype(bool)\n",
    "                map2_idx = map2_idx.astype(bool)\n",
    "                map3_idx = map3_idx.astype(bool)\n",
    "                \n",
    "                # get assign map 0 to be the one with the greate number of trials in Context A\n",
    "                map0trials = np.unique(trials[map0_idx])\n",
    "                map1trials = np.unique(trials[map1_idx])\n",
    "                map2trials = np.unique(trials[map2_idx])\n",
    "                map3trials = np.unique(trials[map3_idx])\n",
    "                \n",
    "                maptrials = [map0trials, map1trials, map2trials, map3trials]\n",
    "                                       \n",
    "                trials_0inA = np.sum(map0trials < 80)\n",
    "                trials_1inA = np.sum(map1trials < 80) \n",
    "                trials_2inA = np.sum(map2trials < 80)\n",
    "                trials_3inA = np.sum(map3trials < 80)\n",
    "                \n",
    "                d['map0_idx'] = np.argmax([trials_0inA, trials_1inA, trials_2inA, trials_3inA])\n",
    "                \n",
    "                # get assign map 1 to be the one with the greate number of trials in Context B\n",
    "                trials_0inB = len(map0trials[(map0trials >= 80) & (map0trials < 140)])\n",
    "                trials_1inB = len(map1trials[(map1trials >= 80) & (map1trials < 140)])\n",
    "                trials_2inB = len(map2trials[(map2trials >= 80) & (map2trials < 140)])\n",
    "                trials_3inB = len(map3trials[(map3trials >= 80) & (map3trials < 140)])\n",
    "                   \n",
    "                d['map1_idx'] = np.argmax([trials_0inB, trials_1inB, trials_2inB, trials_3inB])    \n",
    "                \n",
    "                #decide which map has more trials before half way point in alternation, that is map 2\n",
    "                possibleidxs = np.setdiff1d([0,1,2,3], [d['map0_idx'], d['map1_idx']])\n",
    "                lengths = []\n",
    "                for n in possibleidxs:\n",
    "                    althalf = np.max(np.unique(trials)//4) + 140\n",
    "                    lengths = np.append(lengths, len(maptrials[n][maptrials[n] < althalf]))\n",
    "                                        \n",
    "                if lengths[0] > lengths[1]:           \n",
    "                    d['map2_idx'] = possibleidxs[0]\n",
    "                    d['map3_idx'] = possibleidxs[1]\n",
    "                else:\n",
    "                    d['map2_idx'] = possibleidxs[1]\n",
    "                    d['map3_idx'] = possibleidxs[0]\n"
   ]
  },
  {
   "cell_type": "code",
   "execution_count": 112,
   "id": "c8e1632f",
   "metadata": {},
   "outputs": [
    {
     "name": "stdout",
     "output_type": "stream",
     "text": [
      "45 44 41\n"
     ]
    }
   ],
   "source": [
    "'''Compute within vs. across map similarity for k ≥ 2 sessions '''\n",
    "saged_within = []\n",
    "saged_across = []\n",
    "syoung_within = []\n",
    "syoung_across = []\n",
    "sMA_within = []\n",
    "sMA_across = []\n",
    "\n",
    "countaged = 0\n",
    "countMA = 0\n",
    "countyoung = 0\n",
    "\n",
    "allacross = []\n",
    "allwithin = []\n",
    "\n",
    "for m, session in zip(mice, sessions):\n",
    "    for s in session:\n",
    "        d = data[m][s]\n",
    "        \n",
    "        rawdata_file = 'RAW_' + m + '_' + s + '.npy'\n",
    "        raw = np.load(load_folder + rawdata_file, allow_pickle=True)\n",
    "        cell_IDs = raw.item().get('cellsfil')\n",
    "        gridcell = d['gridcell'].astype(bool)\n",
    "        gridcells = cell_IDs[gridcell]\n",
    "        \n",
    "        if len(gridcells) >= 10: \n",
    "            \n",
    "            sim = d['gridsimilaritybacksorted']\n",
    "            W = d['kmeans']['W']\n",
    "\n",
    "            if (d['kmeans']['SilN'] == 2) and (d['kmeans']['onemap'][0] == False):\n",
    "                \n",
    "                # split by trial\n",
    "                map_0 = W[:, d['map0_idx']].astype(bool)\n",
    "                sim_0 = sim[map_0, :]\n",
    "                sim_0 = sim_0[:, map_0]\n",
    "                sim_1 = sim[~map_0, :]\n",
    "                sim_1 = sim_1[:, ~map_0]\n",
    "                sim_across = sim[map_0, :]\n",
    "                sim_across = sim_across[:, ~map_0]\n",
    "\n",
    "                # calculate the average similarity within vs. across maps\n",
    "                within = np.append(sim_0[np.triu_indices(n=sim_0.shape[0], k=1)], \n",
    "                                   sim_1[np.triu_indices(n=sim_1.shape[0], k=1)])\n",
    "                avg_within = np.mean(within)\n",
    "                across = sim_across[np.triu_indices(n=sim_across.shape[0], k=1, m=sim_across.shape[1])]\n",
    "                avg_across = np.mean(across)\n",
    "\n",
    "                if m in SM_aged_mice:\n",
    "                    countaged += 1\n",
    "                    saged_within = np.append(saged_within, avg_within)\n",
    "                    saged_across = np.append(saged_across, avg_across)\n",
    "                elif m in SM_MA_mice:\n",
    "                    countMA += 1\n",
    "                    sMA_within = np.append(sMA_within, avg_within)\n",
    "                    sMA_across = np.append(sMA_across, avg_across)\n",
    "                else: \n",
    "                    countyoung += 1\n",
    "                    syoung_within = np.append(syoung_within, avg_within)\n",
    "                    syoung_across = np.append(syoung_across, avg_across)\n",
    "                \n",
    "            elif (d['kmeans']['SilN'] == 3) and (d['kmeans']['onemap'][0] == False):\n",
    "                # split by trial\n",
    "                map_0 = W[:, d['map0_idx']].astype(bool)\n",
    "                map_1 = W[:, d['map1_idx']].astype(bool)\n",
    "                map_2 = W[:, d['map2_idx']].astype(bool)\n",
    "                \n",
    "                sim_0 = sim[map_0, :]\n",
    "                sim_0 = sim_0[:, map_0]\n",
    "                sim_1 = sim[map_1, :]\n",
    "                sim_1 = sim_1[:, map_1]\n",
    "                sim_2 = sim[map_2, :]\n",
    "                sim_2 = sim_2[:, map_2]\n",
    "                \n",
    "                sim_across = sim[map_0, :]\n",
    "                sim_across = sim_across[:, map_1]\n",
    "                sim_across1 = sim[map_0, :]\n",
    "                sim_across1 = sim_across1[:, map_2]\n",
    "                sim_across2 = sim[map_1, :]\n",
    "                sim_across2 = sim_across2[:, map_2]\n",
    "\n",
    "                # calculate the average similarity within vs. across maps\n",
    "                within = np.concatenate((sim_0[np.triu_indices(n=sim_0.shape[0], k=1)], \n",
    "                                   sim_1[np.triu_indices(n=sim_1.shape[0], k=1)],\n",
    "                                   sim_2[np.triu_indices(n=sim_2.shape[0], k=1)]))\n",
    "                avg_within = np.mean(within)\n",
    "                \n",
    "                across = np.concatenate((sim_across[np.triu_indices(n=sim_across.shape[0], k=1, m=sim_across.shape[1])],\n",
    "                                   sim_across1[np.triu_indices(n=sim_across1.shape[0], k=1, m=sim_across1.shape[1])],\n",
    "                                   sim_across2[np.triu_indices(n=sim_across2.shape[0], k=1, m=sim_across2.shape[1])]))\n",
    "                avg_across = np.mean(across)\n",
    "                \n",
    "\n",
    "                if m in SM_aged_mice:\n",
    "                    countaged += 1\n",
    "                    saged_within = np.append(saged_within, avg_within)\n",
    "                    saged_across = np.append(saged_across, avg_across)\n",
    "                elif m in SM_MA_mice:\n",
    "                    countMA += 1\n",
    "                    sMA_within = np.append(sMA_within, avg_within)\n",
    "                    sMA_across = np.append(sMA_across, avg_across)\n",
    "                else: \n",
    "                    countyoung += 1\n",
    "                    syoung_within = np.append(syoung_within, avg_within)\n",
    "                    syoung_across = np.append(syoung_across, avg_across)\n",
    "            \n",
    "            elif (d['kmeans']['SilN'] == 4) and (d['kmeans']['onemap'][0] == False):\n",
    "                # split by trial\n",
    "                map_0 = W[:, d['map0_idx']].astype(bool)\n",
    "                map_1 = W[:, d['map1_idx']].astype(bool)\n",
    "                map_2 = W[:, d['map2_idx']].astype(bool)\n",
    "                map_3 = W[:, d['map3_idx']].astype(bool)\n",
    "                \n",
    "                sim_0 = sim[map_0, :]\n",
    "                sim_0 = sim_0[:, map_0]\n",
    "                sim_1 = sim[map_1, :]\n",
    "                sim_1 = sim_1[:, map_1]\n",
    "                sim_2 = sim[map_2, :]\n",
    "                sim_2 = sim_2[:, map_2]\n",
    "                sim_3 = sim[map_3, :]\n",
    "                sim_3 = sim_3[:, map_3]\n",
    "                \n",
    "                sim_across = sim[map_0, :]\n",
    "                sim_across = sim_across[:, map_1]\n",
    "                sim_across1 = sim[map_0, :]\n",
    "                sim_across1 = sim_across1[:, map_2]\n",
    "                sim_across2 = sim[map_0, :]\n",
    "                sim_across2 = sim_across2[:, map_3]\n",
    "                sim_across3 = sim[map_1, :]\n",
    "                sim_across3 = sim_across3[:, map_2]\n",
    "                sim_across4 = sim[map_1, :]\n",
    "                sim_across4 = sim_across4[:, map_3]\n",
    "                sim_across5 = sim[map_2, :]\n",
    "                sim_across5 = sim_across5[:, map_3]\n",
    "\n",
    "                # calculate the average similarity within vs. across maps\n",
    "                within = np.concatenate((sim_0[np.triu_indices(n=sim_0.shape[0], k=1)], \n",
    "                                   sim_1[np.triu_indices(n=sim_1.shape[0], k=1)],\n",
    "                                   sim_2[np.triu_indices(n=sim_2.shape[0], k=1)],\n",
    "                                   sim_3[np.triu_indices(n=sim_3.shape[0], k=1)]))\n",
    "                avg_within = np.mean(within)\n",
    "                \n",
    "                across = np.concatenate((sim_across[np.triu_indices(n=sim_across.shape[0], k=1, m=sim_across.shape[1])],\n",
    "                                   sim_across1[np.triu_indices(n=sim_across1.shape[0], k=1, m=sim_across1.shape[1])],\n",
    "                                   sim_across2[np.triu_indices(n=sim_across2.shape[0], k=1, m=sim_across2.shape[1])],\n",
    "                                   sim_across3[np.triu_indices(n=sim_across3.shape[0], k=1, m=sim_across3.shape[1])],\n",
    "                                   sim_across4[np.triu_indices(n=sim_across4.shape[0], k=1, m=sim_across4.shape[1])],\n",
    "                                   sim_across5[np.triu_indices(n=sim_across5.shape[0], k=1, m=sim_across5.shape[1])]))\n",
    "                \n",
    "                avg_across = np.mean(across)\n",
    "\n",
    "\n",
    "                if m in SM_aged_mice:\n",
    "                    countaged += 1\n",
    "                    saged_within = np.append(saged_within, avg_within)\n",
    "                    saged_across = np.append(saged_across, avg_across)\n",
    "                elif m in SM_MA_mice:\n",
    "                    countMA += 1\n",
    "                    sMA_within = np.append(sMA_within, avg_within)\n",
    "                    sMA_across = np.append(sMA_across, avg_across)\n",
    "                else: \n",
    "                    countyoung += 1\n",
    "                    syoung_within = np.append(syoung_within, avg_within)\n",
    "                    syoung_across = np.append(syoung_across, avg_across)    \n",
    "            else: #one map sessions\n",
    "                pass\n",
    "                \n",
    "print(countyoung, countMA, countaged)"
   ]
  },
  {
   "cell_type": "code",
   "execution_count": 113,
   "id": "7ff690a5",
   "metadata": {},
   "outputs": [
    {
     "name": "stdout",
     "output_type": "stream",
     "text": [
      "mean, sem within map similarity: 0.44, 0.02\n",
      "mean, sem across map similarity: 0.22, 0.01\n",
      "pct change in spatial similarity (mean, sem) aged: -50.79, 1.87%\n",
      "\n",
      "mean, sem within map similarity: 0.46, 0.01\n",
      "mean, sem across map similarity: 0.24, 0.02\n",
      "pct change in spatial similarity (mean, sem) MA: -48.38, 2.65%\n",
      "\n",
      "mean, sem within map similarity: 0.43, 0.02\n",
      "mean, sem across map similarity: 0.19, 0.01\n",
      "pct change in spatial similarity (mean, sem) young: -55.0, 2.33%\n",
      "\n",
      "within map vs across map similarity: aged_p = 9.094947017729282e-13\n",
      "n = 41 model pairs\n",
      "\n",
      "within map vs across map similarity: MA_p = 1.1368683772161603e-13\n",
      "n = 44 model pairs\n",
      "\n",
      "within map vs across map similarity: young_p = 5.684341886080802e-14\n",
      "n = 45 model pairs\n"
     ]
    }
   ],
   "source": [
    "'''In all age groups, are maps more similar to themselves vs. the other map?'''\n",
    "# % change in aged spatial similarity\n",
    "d_sima = ((saged_across - saged_within) / saged_within) * 100\n",
    "print('mean, sem within map similarity: {}, {}'.format(np.round(np.mean(saged_within), 2), np.round(stats.sem(saged_within), 2)))\n",
    "print('mean, sem across map similarity: {}, {}'.format(np.round(np.nanmean(saged_across), 2), np.round(stats.sem(saged_across,  nan_policy = 'omit'), 2)))\n",
    "print('pct change in spatial similarity (mean, sem) aged: {}, {}%'.format(np.round(np.nanmean(d_sima), 2), np.round(stats.sem(d_sima, nan_policy = 'omit'), 2)))\n",
    "\n",
    "# % change in MA spatial similarity\n",
    "d_simma = ((sMA_across - sMA_within) / sMA_within) * 100\n",
    "print('\\nmean, sem within map similarity: {}, {}'.format(np.round(np.mean(sMA_within), 2), np.round(stats.sem(sMA_within), 2)))\n",
    "print('mean, sem across map similarity: {}, {}'.format(np.round(np.mean(sMA_across), 2), np.round(stats.sem(sMA_across), 2)))\n",
    "print('pct change in spatial similarity (mean, sem) MA: {}, {}%'.format(np.round(np.mean(d_simma), 2), np.round(stats.sem(d_simma), 2)))\n",
    "\n",
    "# % change in young spatial similarity\n",
    "d_simy = ((syoung_across - syoung_within) / syoung_within) * 100\n",
    "print('\\nmean, sem within map similarity: {}, {}'.format(np.round(np.mean(syoung_within), 2), np.round(stats.sem(syoung_within), 2)))\n",
    "print('mean, sem across map similarity: {}, {}'.format(np.round(np.mean(syoung_across), 2), np.round(stats.sem(syoung_across), 2)))\n",
    "print('pct change in spatial similarity (mean, sem) young: {}, {}%'.format(np.round(np.mean(d_simy), 2), np.round(stats.sem(d_simy), 2)))\n",
    "\n",
    "sameVSdiff_stat, sameVSdiff_p = stats.wilcoxon(saged_within[~np.isnan(saged_across)], saged_across[~np.isnan(saged_across)])\n",
    "print('\\nwithin map vs across map similarity: aged_p = ' + str(sameVSdiff_p))\n",
    "print('n = ' + str(saged_within.shape[0]) + ' model pairs')\n",
    "\n",
    "sameVSdiff_stat, sameVSdiff_p = stats.wilcoxon(sMA_within, sMA_across)\n",
    "print('\\nwithin map vs across map similarity: MA_p = ' + str(sameVSdiff_p))\n",
    "print('n = ' + str(sMA_within.shape[0]) + ' model pairs')\n",
    "\n",
    "sameVSdiff_stat, sameVSdiff_p = stats.wilcoxon(syoung_within, syoung_across)\n",
    "print('\\nwithin map vs across map similarity: young_p = ' + str(sameVSdiff_p))\n",
    "print('n = ' + str(syoung_within.shape[0]) + ' model pairs')"
   ]
  },
  {
   "cell_type": "code",
   "execution_count": 114,
   "id": "2185f05f",
   "metadata": {},
   "outputs": [
    {
     "data": {
      "image/png": "[encoded data removed]",
      "text/plain": [
       "<Figure size 360x140 with 3 Axes>"
      ]
     },
     "metadata": {},
     "output_type": "display_data"
    }
   ],
   "source": [
    "'''Plot Figure S5B (right)'''\n",
    "f, ax = plt.subplots(1, 3, figsize=(3.6, 1.4), sharey = True)\n",
    "#f.suptitle('Split Maze (k ≥ 2)', fontsize = 10)\n",
    "DOT_SIZE = 20\n",
    "DOT_LW = 1\n",
    "BAR_SIZE = 10\n",
    "BAR_WIDTH = 2.8\n",
    "labels = ['within', 'across']\n",
    "\n",
    "## PLOT AGED DATA \n",
    "j = np.random.randn(saged_within.shape[0]) * .08\n",
    "\n",
    "# plot connector lines\n",
    "for k, w in enumerate(saged_within): # plot connector lines\n",
    "    a = saged_across[k]\n",
    "    x_vals = [1.08+j[k], 1.92+j[k]]\n",
    "    y_vals = [w-0.005, a+0.005]\n",
    "    ax[2].plot(x_vals, y_vals, '-', color='xkcd:gray', lw=DOT_LW, zorder=1,  alpha=1)\n",
    "\n",
    "# within map similarity\n",
    "ax[2].scatter(np.full(len(saged_within), 1)+j, saged_within,\n",
    "           facecolors='C1', edgecolors='k', alpha=1,\n",
    "           s=DOT_SIZE, lw=DOT_LW, zorder=2, label='Aged') \n",
    "\n",
    "# across map similarity\n",
    "ax[2].scatter(np.full(len(saged_within), 2)+j, saged_across,\n",
    "           facecolors='C1', edgecolors='k', alpha=1,\n",
    "           s=DOT_SIZE, lw=DOT_LW, zorder=2, label = 'Aged') \n",
    "\n",
    "# plot means\n",
    "ax[2].plot(1, np.mean(saged_within), '_', c='k', markersize=BAR_SIZE, markeredgewidth=BAR_WIDTH, zorder=3)\n",
    "ax[2].plot(2, np.mean(saged_across), '_', c='k', markersize=BAR_SIZE, markeredgewidth=BAR_WIDTH, zorder=3)\n",
    "\n",
    "## PLOT MA DATA \n",
    "j = np.random.randn(sMA_within.shape[0]) * .08\n",
    "\n",
    "# plot connector lines\n",
    "for k, w in enumerate(sMA_within): # plot connector lines\n",
    "    a = sMA_across[k]\n",
    "    x_vals = [1.08+j[k], 1.92+j[k]]\n",
    "    y_vals = [w-0.005, a+0.005]\n",
    "    ax[1].plot(x_vals, y_vals, '-', color='xkcd:gray', lw=DOT_LW, zorder=1,  alpha=1)\n",
    "\n",
    "# within map similarity\n",
    "ax[1].scatter(np.full(len(sMA_within), 1)+j, sMA_within,\n",
    "           facecolors='C2', edgecolors='k', alpha=1,\n",
    "           s=DOT_SIZE, lw=DOT_LW, zorder=2, label='MA') \n",
    "\n",
    "# across map similarity\n",
    "ax[1].scatter(np.full(len(sMA_within), 2)+j, sMA_across,\n",
    "           facecolors='C2', edgecolors='k', alpha=1,\n",
    "           s=DOT_SIZE, lw=DOT_LW, zorder=2) \n",
    "\n",
    "# plot means\n",
    "ax[1].plot(1, np.mean(sMA_within), '_', c='k', markersize=BAR_SIZE, markeredgewidth=BAR_WIDTH, zorder=3)\n",
    "ax[1].plot(2, np.mean(sMA_across), '_', c='k', markersize=BAR_SIZE, markeredgewidth=BAR_WIDTH, zorder=3)\n",
    "\n",
    "## PLOT Young DATA \n",
    "j = np.random.randn(syoung_within.shape[0]) * .08\n",
    "\n",
    "# plot connector lines\n",
    "for k, w in enumerate(syoung_within): # plot connector lines\n",
    "    a = syoung_across[k]\n",
    "    x_vals = [1.08+j[k], 1.92+j[k]]\n",
    "    y_vals = [w-0.005, a+0.005]\n",
    "    ax[0].plot(x_vals, y_vals, '-', color='xkcd:gray', lw=DOT_LW, zorder=1,  alpha=1)\n",
    "\n",
    "# within map similarity\n",
    "ax[0].scatter(np.full(len(syoung_within), 1)+j, syoung_within,\n",
    "           facecolors='C0', edgecolors='k', alpha=1,\n",
    "           s=DOT_SIZE, lw=DOT_LW, zorder=2, label='Young') \n",
    "\n",
    "# across map similarity\n",
    "ax[0].scatter(np.full(len(syoung_within), 2)+j, syoung_across,\n",
    "           facecolors='C0', edgecolors='k', alpha=1,\n",
    "           s=DOT_SIZE, lw=DOT_LW, zorder=2) \n",
    "\n",
    "# plot means\n",
    "ax[0].plot(1, np.mean(syoung_within), '_', c='k', markersize=BAR_SIZE, markeredgewidth=BAR_WIDTH, zorder=3)\n",
    "ax[0].plot(2, np.mean(syoung_across), '_', c='k', markersize=BAR_SIZE, markeredgewidth=BAR_WIDTH, zorder=3)\n",
    "\n",
    "ax[2].set_xlim([0.5, 2.5])\n",
    "ax[2].set_xticks([1, 2])\n",
    "ax[2].set_yticks([0.1, 0.3, 0.5, 0.7])\n",
    "ax[2].set_xticklabels(labels, rotation=45)\n",
    "ax[2].tick_params(which='major', labelsize=8, pad=0.8)\n",
    "ax[2].set_title('Aged', fontsize = 10)\n",
    "\n",
    "ax[1].set_xlim([0.5, 2.5])\n",
    "ax[1].set_xticks([1, 2])\n",
    "ax[1].set_yticks([0.1, 0.3, 0.5, 0.7])\n",
    "ax[1].set_xticklabels(labels, rotation=45)\n",
    "ax[1].tick_params(which='major', labelsize=8, pad=0.8)\n",
    "#ax[1].set_ylabel('Avg. Correlation', fontsize=10, labelpad=1)\n",
    "ax[1].set_title('MA', fontsize = 10)\n",
    "\n",
    "ax[0].set_xlim([0.5, 2.5])\n",
    "ax[0].set_xticks([1, 2])\n",
    "ax[0].set_xticklabels(labels, rotation=45)\n",
    "ax[0].tick_params(which='major', labelsize=8, pad=0.8)\n",
    "ax[0].set_title('Young', fontsize = 10)\n",
    "ax[0].set_ylabel('Avg. Similarity', fontsize=9, labelpad=1)\n",
    "f.savefig(save_folder + 'S5Bright.png', dpi=400, bbox_inches='tight')\n",
    "f.savefig(save_folder + 'S5Bright.svg', dpi=400, bbox_inches='tight')\n",
    "plt.show()"
   ]
  },
  {
   "cell_type": "code",
   "execution_count": 26,
   "id": "26afcee7",
   "metadata": {},
   "outputs": [
    {
     "name": "stdout",
     "output_type": "stream",
     "text": [
      "WITHIN RESULTS\n",
      "withinyoung ± SEM; withinMA ± SEM; withinstab_old ± SEM\n",
      "0.4271 ± 0.0171 ; 0.4646 ± 0.013 ; 0.4412 ± 0.0152\n",
      "stat = 2.752968749118452\n",
      "p_grid_session = 0.25246456555271224\n",
      "stat = -0.5403968748584591\n",
      "p_grid_sessionyva = 0.5889233625740226\n",
      "\n",
      "ACROSS RESULTS:\n",
      "acrossyoung ± SEM; acrossMA ± SEM; acrossstab_old ± SEM\n",
      "0.1884 ± 0.0114 ; 0.2446 ± 0.0159 ; 0.2211 ± 0.0122\n",
      "stat = 8.195056252628376\n",
      "p_grid_session = 0.016613691634579018\n",
      "stat = -1.941105574491585\n",
      "p_grid_sessionyva = 0.05224547305326835\n",
      "\n",
      "Within - Across % Change RESULTS:\n",
      "changeyoung ± SEM; changeMA ± SEM; changestab_old ± SEM\n",
      "-55.0817 ± 2.3159 ; -48.2399 ± 2.6076 ; -49.5131 ± 2.1504\n",
      "stat = 4.795690696692361\n",
      "p_grid_session = 0.09091362960894872\n",
      "stat = -1.4828490246116117\n",
      "p_grid_sessionyva = 0.13811452747938893\n"
     ]
    }
   ],
   "source": [
    "''' Statistics to Compare Age Groups Within, Across, Diff (Within - Across) Similarity'''\n",
    "\n",
    "print('WITHIN RESULTS')\n",
    "print('withinyoung ± SEM; withinMA ± SEM; withinstab_old ± SEM')\n",
    "print(str(np.round(np.nanmean(syoung_within), 4)) + ' ± ' + str(np.round(stats.sem(syoung_within), 4)) + ' ; ' \n",
    "      + str(np.round(np.nanmean(sMA_within), 4)) + ' ± ' + str(np.round(stats.sem(sMA_within), 4)) + ' ; ' \n",
    "      + str(np.round(np.nanmean(saged_within), 4)) + ' ± ' + str(np.round(stats.sem(saged_within), 4)))\n",
    "\n",
    "stat, p_diff = stats.kruskal(syoung_within, sMA_within, saged_within)\n",
    "print('stat = ' + str(stat))\n",
    "print('p_grid_session = ' + str(p_diff))\n",
    "stat, p_diff = stats.ranksums(syoung_within, saged_within)\n",
    "print('stat = ' + str(stat))\n",
    "print('p_grid_sessionyva = ' + str(p_diff))\n",
    "\n",
    "print('\\nACROSS RESULTS:')\n",
    "print('acrossyoung ± SEM; acrossMA ± SEM; acrossstab_old ± SEM')\n",
    "print(str(np.round(np.nanmean(syoung_across), 4)) + ' ± ' + str(np.round(stats.sem(syoung_across), 4)) + ' ; ' \n",
    "      + str(np.round(np.nanmean(sMA_across), 4)) + ' ± ' + str(np.round(stats.sem(sMA_across), 4)) + ' ; ' \n",
    "      + str(np.round(np.nanmean(saged_across), 4)) + ' ± ' + str(np.round(stats.sem(saged_across, nan_policy = 'omit'), 4)))\n",
    "\n",
    "stat, p_diff = stats.kruskal(syoung_across, sMA_across, saged_across)\n",
    "print('stat = ' + str(stat))\n",
    "print('p_grid_session = ' + str(p_diff))\n",
    "stat, p_diff = stats.ranksums(syoung_across, saged_across)\n",
    "print('stat = ' + str(stat))\n",
    "print('p_grid_sessionyva = ' + str(p_diff))\n",
    "\n",
    "sd_sima = ((saged_across - saged_within) / saged_within) * 100\n",
    "sd_simma = ((sMA_across - sMA_within) / sMA_within) * 100\n",
    "sd_simy = ((syoung_across - syoung_within) / syoung_within) * 100\n",
    "\n",
    "print('\\nWithin - Across % Change RESULTS:')\n",
    "print('changeyoung ± SEM; changeMA ± SEM; changestab_old ± SEM')\n",
    "print(str(np.round(np.nanmean(sd_simy), 4)) + ' ± ' + str(np.round(stats.sem(sd_simy), 4)) + ' ; ' \n",
    "      + str(np.round(np.nanmean(sd_simma), 4)) + ' ± ' + str(np.round(stats.sem(sd_simma), 4)) + ' ; ' \n",
    "      + str(np.round(np.nanmean(sd_sima), 4)) + ' ± ' + str(np.round(stats.sem(sd_sima, nan_policy = 'omit'), 4)))\n",
    "\n",
    "stat, p_diff = stats.kruskal(sd_simy, sd_simma, sd_sima)\n",
    "print('stat = ' + str(stat))\n",
    "print('p_grid_session = ' + str(p_diff))\n",
    "\n",
    "stat, p_diff = stats.ranksums(sd_simy, sd_sima)\n",
    "print('stat = ' + str(stat))\n",
    "print('p_grid_sessionyva = ' + str(p_diff))\n"
   ]
  },
  {
   "cell_type": "markdown",
   "id": "ef03ce0b",
   "metadata": {},
   "source": [
    "This suggests that maps contain similarly heterogenous spatial information across age groups. "
   ]
  },
  {
   "cell_type": "code",
   "execution_count": 27,
   "id": "bb6d3ce9",
   "metadata": {
    "scrolled": true
   },
   "outputs": [
    {
     "data": {
      "application/vnd.jupyter.widget-view+json": {
       "model_id": "c805a47e77bf43e6a9edf09e8e26eb7c",
       "version_major": 2,
       "version_minor": 0
      },
      "text/plain": [
       "  0%|          | 0/3 [00:00<?, ?it/s]"
      ]
     },
     "metadata": {},
     "output_type": "display_data"
    },
    {
     "data": {
      "application/vnd.jupyter.widget-view+json": {
       "model_id": "74251bd3083e49b4b558e884786ace0b",
       "version_major": 2,
       "version_minor": 0
      },
      "text/plain": [
       "  0%|          | 0/6 [00:00<?, ?it/s]"
      ]
     },
     "metadata": {},
     "output_type": "display_data"
    },
    {
     "data": {
      "application/vnd.jupyter.widget-view+json": {
       "model_id": "4748b556ee8d4739afdc490546cb40b4",
       "version_major": 2,
       "version_minor": 0
      },
      "text/plain": [
       "  0%|          | 0/4 [00:00<?, ?it/s]"
      ]
     },
     "metadata": {},
     "output_type": "display_data"
    },
    {
     "name": "stdout",
     "output_type": "stream",
     "text": [
      "less than three grid cells, cannot compute mean corr for this session\n"
     ]
    },
    {
     "data": {
      "application/vnd.jupyter.widget-view+json": {
       "model_id": "a6eac386969949618b605d334d715cfa",
       "version_major": 2,
       "version_minor": 0
      },
      "text/plain": [
       "  0%|          | 0/6 [00:00<?, ?it/s]"
      ]
     },
     "metadata": {},
     "output_type": "display_data"
    },
    {
     "name": "stdout",
     "output_type": "stream",
     "text": [
      "less than three grid cells, cannot compute mean corr for this session\n",
      "less than three grid cells, cannot compute mean corr for this session\n"
     ]
    },
    {
     "data": {
      "application/vnd.jupyter.widget-view+json": {
       "model_id": "bf2f4602ed56410994c6937b37965214",
       "version_major": 2,
       "version_minor": 0
      },
      "text/plain": [
       "  0%|          | 0/6 [00:00<?, ?it/s]"
      ]
     },
     "metadata": {},
     "output_type": "display_data"
    },
    {
     "name": "stdout",
     "output_type": "stream",
     "text": [
      "less than three grid cells, cannot compute mean corr for this session\n"
     ]
    },
    {
     "data": {
      "application/vnd.jupyter.widget-view+json": {
       "model_id": "e076cc7bc183447dac5fa1327d1fcec7",
       "version_major": 2,
       "version_minor": 0
      },
      "text/plain": [
       "  0%|          | 0/6 [00:00<?, ?it/s]"
      ]
     },
     "metadata": {},
     "output_type": "display_data"
    },
    {
     "data": {
      "application/vnd.jupyter.widget-view+json": {
       "model_id": "f6149f5a5d364a5e882f4b46e01addaa",
       "version_major": 2,
       "version_minor": 0
      },
      "text/plain": [
       "  0%|          | 0/6 [00:00<?, ?it/s]"
      ]
     },
     "metadata": {},
     "output_type": "display_data"
    },
    {
     "data": {
      "application/vnd.jupyter.widget-view+json": {
       "model_id": "c0dd522ce4e141a69e179d5a56573a68",
       "version_major": 2,
       "version_minor": 0
      },
      "text/plain": [
       "  0%|          | 0/6 [00:00<?, ?it/s]"
      ]
     },
     "metadata": {},
     "output_type": "display_data"
    },
    {
     "data": {
      "application/vnd.jupyter.widget-view+json": {
       "model_id": "fb7a812de9b5490eba536f9a66f02ec1",
       "version_major": 2,
       "version_minor": 0
      },
      "text/plain": [
       "  0%|          | 0/6 [00:00<?, ?it/s]"
      ]
     },
     "metadata": {},
     "output_type": "display_data"
    },
    {
     "data": {
      "application/vnd.jupyter.widget-view+json": {
       "model_id": "3158ec92e931462f94cf6c56b4578550",
       "version_major": 2,
       "version_minor": 0
      },
      "text/plain": [
       "  0%|          | 0/6 [00:00<?, ?it/s]"
      ]
     },
     "metadata": {},
     "output_type": "display_data"
    },
    {
     "data": {
      "application/vnd.jupyter.widget-view+json": {
       "model_id": "46110038f58e4273a46e4d74fa52354c",
       "version_major": 2,
       "version_minor": 0
      },
      "text/plain": [
       "  0%|          | 0/6 [00:00<?, ?it/s]"
      ]
     },
     "metadata": {},
     "output_type": "display_data"
    },
    {
     "data": {
      "application/vnd.jupyter.widget-view+json": {
       "model_id": "50b353da0e4b44bbb8b2a1a81b5a3dc9",
       "version_major": 2,
       "version_minor": 0
      },
      "text/plain": [
       "  0%|          | 0/6 [00:00<?, ?it/s]"
      ]
     },
     "metadata": {},
     "output_type": "display_data"
    },
    {
     "data": {
      "application/vnd.jupyter.widget-view+json": {
       "model_id": "f07cb901a0544ee6a508e470d1e4003c",
       "version_major": 2,
       "version_minor": 0
      },
      "text/plain": [
       "  0%|          | 0/6 [00:00<?, ?it/s]"
      ]
     },
     "metadata": {},
     "output_type": "display_data"
    },
    {
     "data": {
      "application/vnd.jupyter.widget-view+json": {
       "model_id": "686054db4869460f8d61479a68fb4c4b",
       "version_major": 2,
       "version_minor": 0
      },
      "text/plain": [
       "  0%|          | 0/6 [00:00<?, ?it/s]"
      ]
     },
     "metadata": {},
     "output_type": "display_data"
    },
    {
     "data": {
      "application/vnd.jupyter.widget-view+json": {
       "model_id": "9434174b291440e3b8ab3649de080b54",
       "version_major": 2,
       "version_minor": 0
      },
      "text/plain": [
       "  0%|          | 0/6 [00:00<?, ?it/s]"
      ]
     },
     "metadata": {},
     "output_type": "display_data"
    },
    {
     "data": {
      "application/vnd.jupyter.widget-view+json": {
       "model_id": "18ffdd822efd4b2fae21120f6492be32",
       "version_major": 2,
       "version_minor": 0
      },
      "text/plain": [
       "  0%|          | 0/6 [00:00<?, ?it/s]"
      ]
     },
     "metadata": {},
     "output_type": "display_data"
    },
    {
     "data": {
      "application/vnd.jupyter.widget-view+json": {
       "model_id": "72062c71869f4eee93dc0859d48d4e42",
       "version_major": 2,
       "version_minor": 0
      },
      "text/plain": [
       "  0%|          | 0/6 [00:00<?, ?it/s]"
      ]
     },
     "metadata": {},
     "output_type": "display_data"
    },
    {
     "data": {
      "application/vnd.jupyter.widget-view+json": {
       "model_id": "728496ad4c9a405a81bb9b16a225f5fd",
       "version_major": 2,
       "version_minor": 0
      },
      "text/plain": [
       "  0%|          | 0/4 [00:00<?, ?it/s]"
      ]
     },
     "metadata": {},
     "output_type": "display_data"
    },
    {
     "data": {
      "application/vnd.jupyter.widget-view+json": {
       "model_id": "f20618b5b3e2440e86671edd630cfaf1",
       "version_major": 2,
       "version_minor": 0
      },
      "text/plain": [
       "  0%|          | 0/6 [00:00<?, ?it/s]"
      ]
     },
     "metadata": {},
     "output_type": "display_data"
    },
    {
     "data": {
      "application/vnd.jupyter.widget-view+json": {
       "model_id": "383c392992fc47ae928864bf17fe8d73",
       "version_major": 2,
       "version_minor": 0
      },
      "text/plain": [
       "  0%|          | 0/6 [00:00<?, ?it/s]"
      ]
     },
     "metadata": {},
     "output_type": "display_data"
    },
    {
     "name": "stdout",
     "output_type": "stream",
     "text": [
      "less than three grid cells, cannot compute mean corr for this session\n"
     ]
    },
    {
     "data": {
      "application/vnd.jupyter.widget-view+json": {
       "model_id": "72c023eb0a0f4ed8abc054d442860b76",
       "version_major": 2,
       "version_minor": 0
      },
      "text/plain": [
       "  0%|          | 0/6 [00:00<?, ?it/s]"
      ]
     },
     "metadata": {},
     "output_type": "display_data"
    },
    {
     "data": {
      "application/vnd.jupyter.widget-view+json": {
       "model_id": "1ee212868d4f4e85bd2cf8cb304001b0",
       "version_major": 2,
       "version_minor": 0
      },
      "text/plain": [
       "  0%|          | 0/6 [00:00<?, ?it/s]"
      ]
     },
     "metadata": {},
     "output_type": "display_data"
    },
    {
     "data": {
      "application/vnd.jupyter.widget-view+json": {
       "model_id": "948f4f30f23741e198ad8d989d4fd686",
       "version_major": 2,
       "version_minor": 0
      },
      "text/plain": [
       "  0%|          | 0/6 [00:00<?, ?it/s]"
      ]
     },
     "metadata": {},
     "output_type": "display_data"
    },
    {
     "data": {
      "application/vnd.jupyter.widget-view+json": {
       "model_id": "386dee9a8b85421796351fe6f624630d",
       "version_major": 2,
       "version_minor": 0
      },
      "text/plain": [
       "  0%|          | 0/6 [00:00<?, ?it/s]"
      ]
     },
     "metadata": {},
     "output_type": "display_data"
    },
    {
     "data": {
      "application/vnd.jupyter.widget-view+json": {
       "model_id": "b91a200aca26408b8c04c868aa1baee2",
       "version_major": 2,
       "version_minor": 0
      },
      "text/plain": [
       "  0%|          | 0/6 [00:00<?, ?it/s]"
      ]
     },
     "metadata": {},
     "output_type": "display_data"
    },
    {
     "data": {
      "application/vnd.jupyter.widget-view+json": {
       "model_id": "1b7ebadd7d1441eaa28f5b16c9570ab5",
       "version_major": 2,
       "version_minor": 0
      },
      "text/plain": [
       "  0%|          | 0/6 [00:00<?, ?it/s]"
      ]
     },
     "metadata": {},
     "output_type": "display_data"
    },
    {
     "name": "stdout",
     "output_type": "stream",
     "text": [
      "less than three grid cells, cannot compute mean corr for this session\n"
     ]
    },
    {
     "data": {
      "application/vnd.jupyter.widget-view+json": {
       "model_id": "f752bdb5133c437b8f4459bf837382f9",
       "version_major": 2,
       "version_minor": 0
      },
      "text/plain": [
       "  0%|          | 0/6 [00:00<?, ?it/s]"
      ]
     },
     "metadata": {},
     "output_type": "display_data"
    },
    {
     "name": "stdout",
     "output_type": "stream",
     "text": [
      "less than three grid cells, cannot compute mean corr for this session\n"
     ]
    },
    {
     "data": {
      "application/vnd.jupyter.widget-view+json": {
       "model_id": "e21301844ab440f39dbdf1fe70f8964a",
       "version_major": 2,
       "version_minor": 0
      },
      "text/plain": [
       "  0%|          | 0/6 [00:00<?, ?it/s]"
      ]
     },
     "metadata": {},
     "output_type": "display_data"
    },
    {
     "data": {
      "application/vnd.jupyter.widget-view+json": {
       "model_id": "69bc9aef62cb498692ce349ed9273eb2",
       "version_major": 2,
       "version_minor": 0
      },
      "text/plain": [
       "  0%|          | 0/6 [00:00<?, ?it/s]"
      ]
     },
     "metadata": {},
     "output_type": "display_data"
    }
   ],
   "source": [
    "''' Measure remapping coordination in each age group ''' \n",
    "smeancorr = []\n",
    "bins = np.arange(0, 0.8, 0.05)\n",
    "\n",
    "for m, session in zip(mice, sessions):\n",
    "    \n",
    "    m_correlation = []\n",
    "    \n",
    "    for s in tdqm(session):\n",
    "        d = data[m][s]\n",
    "        \n",
    "        #get some data & cell IDs\n",
    "        rawdata_file = 'RAW_' + m + '_' + s + '.npy'\n",
    "        raw = np.load(load_folder + rawdata_file, allow_pickle=True)\n",
    "        cell_IDs = raw.item().get('cellsfil')\n",
    "        gridcell = d['gridcell'].astype(bool)\n",
    "        gridcells = cell_IDs[gridcell]   \n",
    "        \n",
    "        if m in SM_aged_mice:\n",
    "            col = 'C1'\n",
    "        elif m in SM_MA_mice:\n",
    "            col = 'C2'\n",
    "        else:\n",
    "            col = 'C0'\n",
    "        \n",
    "        if len(gridcells) > 2:\n",
    "            \n",
    "            allgridsim_file = 'allsim_' + m + '_' + s + '_'+ '.npy'\n",
    "            allsim = np.load(fig2s3_folder + allgridsim_file)\n",
    "            \n",
    "            correlation = []\n",
    "            for i, c in enumerate(gridcells):\n",
    "                littlesim = allsim[:,:,i]\n",
    "                allothersim = np.delete(allsim, i, axis = 2)\n",
    "                sim = np.mean(allothersim, axis = 2)\n",
    "                mask = np.triu_indices(sim.shape[0])\n",
    "            \n",
    "                #linearize upper triangles of each sim matrix\n",
    "                uppersim = sim[mask]\n",
    "                upperlittlesim = littlesim[mask]\n",
    "\n",
    "                #compute correlation of front & back matrices with each other\n",
    "                corr, _ = stats.pearsonr(uppersim[~np.isnan(uppersim)], upperlittlesim[~np.isnan(uppersim)])\n",
    "                correlation = np.append(correlation, corr)\n",
    "            \n",
    "            #compute the mean for each session\n",
    "            smeancorr = np.append(smeancorr, np.mean(correlation))\n",
    "\n",
    "        else:\n",
    "            print('less than three grid cells, cannot compute mean corr for this session')\n",
    "            smeancorr = np.append(smeancorr, np.nan)"
   ]
  },
  {
   "cell_type": "code",
   "execution_count": 28,
   "id": "85751653",
   "metadata": {},
   "outputs": [
    {
     "data": {
      "image/png": "[encoded data removed]",
      "text/plain": [
       "<Figure size 212.5x150 with 1 Axes>"
      ]
     },
     "metadata": {},
     "output_type": "display_data"
    }
   ],
   "source": [
    "''' Plot Figure S5D '''\n",
    "\n",
    "#correct plotting indices\n",
    "nan_idxgrid = np.where((spergrid == 0))[0]\n",
    "y_sindgrid = np.setdiff1d(y_sind, nan_idxgrid)\n",
    "ma_sindgrid = np.setdiff1d(ma_sind, nan_idxgrid)\n",
    "age_sindgrid = np.setdiff1d(age_sind, nan_idxgrid)\n",
    "\n",
    "# Adjust colormaps for grid plots\n",
    "yidx = []\n",
    "maidx = []\n",
    "aidx = []\n",
    "for i in nan_idxgrid:\n",
    "    yidx = np.append(yidx, np.where(y_sind == i)[0].astype(int))\n",
    "    maidx = np.append(maidx, np.where(ma_sind == i)[0].astype(int))\n",
    "    aidx = np.append(aidx, np.where(age_sind == i)[0].astype(int)) \n",
    "\n",
    "col_session_younggrid = np.delete(col_session_young, list(yidx.astype(int)), axis = 0)\n",
    "col_session_magrid = np.delete(col_session_MA, list(maidx.astype(int)), axis = 0)\n",
    "col_session_oldgrid = np.delete(col_session_old, list(aidx.astype(int)), axis = 0)\n",
    "col_sessiongrid = [col_session_younggrid, col_session_magrid, col_session_oldgrid] \n",
    "\n",
    "# This will fix session stats & box plots are plotted.\n",
    "\n",
    "labels = ['Young','MA','Aged']\n",
    "fig, ax = plt.subplots(1, 1, figsize=(2.125, 1.5))\n",
    "#f.suptitle('Grid Cell Animal Network Similarity Matrix Correlation, Pooled by Age Group', fontsize=12)\n",
    "\n",
    "scorr_tog = [smeancorr[y_sindgrid][~np.isnan(smeancorr[y_sindgrid])],smeancorr[ma_sindgrid],smeancorr[age_sindgrid][~np.isnan(smeancorr[age_sindgrid])]]\n",
    "ax.boxplot(scorr_tog, widths = w, labels = labels, medianprops = dict(color = 'black'))\n",
    "ax.set_title('Cell vs. Network Similarity', fontsize=10, pad=5)\n",
    "ax.set_xlabel('Age', fontsize=9, labelpad=1)\n",
    "ax.set_ylabel('Correlation', fontsize=9, labelpad=1)\n",
    "ax.set_ylim([0.1,0.70])\n",
    "ax.set_yticks([0.1,0.3,0.5,0.7])\n",
    "\n",
    "for i in range(len(scorr_tog)):\n",
    "    y = scorr_tog[i]\n",
    "    x = np.random.normal(i + 1, 0.04, len(y))\n",
    "    ax.scatter(x, y, color = col_sessiongrid[i][:len(y)], edgecolors = col_sessiongrid[i][:len(y)], alpha = 1, s = 10)\n",
    "\n",
    "ax.tick_params(labelsize = 8)\n",
    "plt.savefig(save_folder + 'S5D.png', dpi=400, bbox_inches='tight')\n",
    "plt.savefig(save_folder + 'S5D.svg', dpi=400, bbox_inches='tight')\n",
    "plt.show()"
   ]
  },
  {
   "cell_type": "code",
   "execution_count": 29,
   "id": "d168ba91",
   "metadata": {},
   "outputs": [
    {
     "name": "stdout",
     "output_type": "stream",
     "text": [
      "\n",
      "SESSION:\n",
      "corryoung ± SEM; corr_MA ± SEM; corr_old ± SEM\n",
      "0.415 ± 0.014 ; 0.4 ± 0.011 ; 0.403 ± 0.013\n",
      "\n",
      "n young, MA, aged sessions with ≥3 grid cells\n",
      "52 57 51\n",
      "\n",
      "KW H stat, p-value:\n",
      "0.5441209475340543 0.7618081902857953\n"
     ]
    }
   ],
   "source": [
    "''' Perform Statistics Comparing Cell vs. Network Similarity across Age Groups'''\n",
    "\n",
    "print('\\nSESSION:')\n",
    "print('corryoung ± SEM; corr_MA ± SEM; corr_old ± SEM')\n",
    "print(str(np.round(np.nanmean(smeancorr[y_sindgrid]), 3)) + ' ± ' + str(np.round(stats.sem(smeancorr[y_sindgrid], nan_policy = 'omit'), 3)) + ' ; ' \n",
    "      + str(np.round(np.nanmean(smeancorr[ma_sindgrid]), 3)) + ' ± ' + str(np.round(stats.sem(smeancorr[ma_sindgrid], nan_policy = 'omit'), 3)) + ' ; ' \n",
    "      + str(np.round(np.nanmean(smeancorr[age_sindgrid]), 3)) + ' ± ' + str(np.round(stats.sem(smeancorr[age_sindgrid], nan_policy = 'omit'), 3)))\n",
    "\n",
    "#Non-Parametric version\n",
    "print('\\nn young, MA, aged sessions with ≥3 grid cells')\n",
    "print(len(smeancorr[y_sindgrid][~np.isnan(smeancorr[y_sindgrid])]), len(smeancorr[ma_sindgrid][~np.isnan(smeancorr[ma_sindgrid])]),len(smeancorr[age_sindgrid][~np.isnan(smeancorr[age_sindgrid])]))\n",
    "\n",
    "H, p = stats.kruskal(smeancorr[y_sindgrid][~np.isnan(smeancorr[y_sindgrid])],smeancorr[ma_sindgrid][~np.isnan(smeancorr[ma_sindgrid])],smeancorr[age_sindgrid][~np.isnan(smeancorr[age_sindgrid])])\n",
    "print('\\nKW H stat, p-value:')\n",
    "print(H, p)"
   ]
  },
  {
   "cell_type": "markdown",
   "id": "1bdfcc59",
   "metadata": {},
   "source": [
    "This suggest that remapping is similarly coordinated among co-recorded cells in sessions across age groups. \n",
    "\n",
    "However, do mice across age groups attend to the moving tower cue in the front 200 cm of the Split Maze to differentiate Context A and B to the same extent? In other words, does the grid network remap happen at the same place along the track or not across age groups? When we compare grid network remapping and map-context alignment across age groups, this will dictate whether we should use the activity along the entire track or just the back 200 cm where most of the context visual cues are."
   ]
  },
  {
   "cell_type": "markdown",
   "id": "79e9214a",
   "metadata": {},
   "source": [
    "# Compare similarity of front vs. back track grid network similarity matrices across age groups (Figure S5I-J).\n",
    "\n",
    "Highly correlated front vs. back track similarity matrices would suggest remapping occurs in the front 200cm of the track. The less correlated these two matrices are, the more likely it is that grid remapping occurs after seeing the back 200cm of the track. "
   ]
  },
  {
   "cell_type": "code",
   "execution_count": 30,
   "id": "2efa12f9",
   "metadata": {
    "scrolled": true
   },
   "outputs": [
    {
     "data": {
      "application/vnd.jupyter.widget-view+json": {
       "model_id": "5387315dbe0d468bb8bb2a529c2924c8",
       "version_major": 2,
       "version_minor": 0
      },
      "text/plain": [
       "  0%|          | 0/3 [00:00<?, ?it/s]"
      ]
     },
     "metadata": {},
     "output_type": "display_data"
    },
    {
     "data": {
      "application/vnd.jupyter.widget-view+json": {
       "model_id": "3fc5d04fd0e4460aadfee5a218656abf",
       "version_major": 2,
       "version_minor": 0
      },
      "text/plain": [
       "  0%|          | 0/6 [00:00<?, ?it/s]"
      ]
     },
     "metadata": {},
     "output_type": "display_data"
    },
    {
     "data": {
      "application/vnd.jupyter.widget-view+json": {
       "model_id": "5779a713e6514c38a1691e3a37c41f91",
       "version_major": 2,
       "version_minor": 0
      },
      "text/plain": [
       "  0%|          | 0/4 [00:00<?, ?it/s]"
      ]
     },
     "metadata": {},
     "output_type": "display_data"
    },
    {
     "data": {
      "application/vnd.jupyter.widget-view+json": {
       "model_id": "0b48c85c8e7f4bd7a8d0119b41052d5a",
       "version_major": 2,
       "version_minor": 0
      },
      "text/plain": [
       "  0%|          | 0/6 [00:00<?, ?it/s]"
      ]
     },
     "metadata": {},
     "output_type": "display_data"
    },
    {
     "data": {
      "application/vnd.jupyter.widget-view+json": {
       "model_id": "002d3bbce0b344128d0c0acb6455b3d4",
       "version_major": 2,
       "version_minor": 0
      },
      "text/plain": [
       "  0%|          | 0/6 [00:00<?, ?it/s]"
      ]
     },
     "metadata": {},
     "output_type": "display_data"
    },
    {
     "data": {
      "application/vnd.jupyter.widget-view+json": {
       "model_id": "9db7a3b389004e1f90bf3012ee6b0016",
       "version_major": 2,
       "version_minor": 0
      },
      "text/plain": [
       "  0%|          | 0/6 [00:00<?, ?it/s]"
      ]
     },
     "metadata": {},
     "output_type": "display_data"
    },
    {
     "data": {
      "application/vnd.jupyter.widget-view+json": {
       "model_id": "5282bcc269af4dd18102947c13cd90e1",
       "version_major": 2,
       "version_minor": 0
      },
      "text/plain": [
       "  0%|          | 0/6 [00:00<?, ?it/s]"
      ]
     },
     "metadata": {},
     "output_type": "display_data"
    },
    {
     "data": {
      "application/vnd.jupyter.widget-view+json": {
       "model_id": "40aa934dd1df41c980ba41077f945474",
       "version_major": 2,
       "version_minor": 0
      },
      "text/plain": [
       "  0%|          | 0/6 [00:00<?, ?it/s]"
      ]
     },
     "metadata": {},
     "output_type": "display_data"
    },
    {
     "name": "stdout",
     "output_type": "stream",
     "text": [
      "A22 012923_record2\n"
     ]
    },
    {
     "data": {
      "image/png": "[encoded data removed]",
      "text/plain": [
       "<Figure size 260x125 with 4 Axes>"
      ]
     },
     "metadata": {},
     "output_type": "display_data"
    },
    {
     "data": {
      "application/vnd.jupyter.widget-view+json": {
       "model_id": "3b288cc6c74249209b9b100ab8d06fc1",
       "version_major": 2,
       "version_minor": 0
      },
      "text/plain": [
       "  0%|          | 0/6 [00:00<?, ?it/s]"
      ]
     },
     "metadata": {},
     "output_type": "display_data"
    },
    {
     "data": {
      "application/vnd.jupyter.widget-view+json": {
       "model_id": "1be1b524ef95477d85a26a99e9ad4bf9",
       "version_major": 2,
       "version_minor": 0
      },
      "text/plain": [
       "  0%|          | 0/6 [00:00<?, ?it/s]"
      ]
     },
     "metadata": {},
     "output_type": "display_data"
    },
    {
     "data": {
      "application/vnd.jupyter.widget-view+json": {
       "model_id": "5c3a538983bf4fe29ccd6d16ad86de80",
       "version_major": 2,
       "version_minor": 0
      },
      "text/plain": [
       "  0%|          | 0/6 [00:00<?, ?it/s]"
      ]
     },
     "metadata": {},
     "output_type": "display_data"
    },
    {
     "data": {
      "application/vnd.jupyter.widget-view+json": {
       "model_id": "e06a0dc8674649f9b07ef3c559559fe2",
       "version_major": 2,
       "version_minor": 0
      },
      "text/plain": [
       "  0%|          | 0/6 [00:00<?, ?it/s]"
      ]
     },
     "metadata": {},
     "output_type": "display_data"
    },
    {
     "data": {
      "application/vnd.jupyter.widget-view+json": {
       "model_id": "135cbea134ad4002b9a1ec3a2c4cee49",
       "version_major": 2,
       "version_minor": 0
      },
      "text/plain": [
       "  0%|          | 0/6 [00:00<?, ?it/s]"
      ]
     },
     "metadata": {},
     "output_type": "display_data"
    },
    {
     "data": {
      "application/vnd.jupyter.widget-view+json": {
       "model_id": "79c1b93f8dc04a09b275b94ad7465e29",
       "version_major": 2,
       "version_minor": 0
      },
      "text/plain": [
       "  0%|          | 0/6 [00:00<?, ?it/s]"
      ]
     },
     "metadata": {},
     "output_type": "display_data"
    },
    {
     "data": {
      "application/vnd.jupyter.widget-view+json": {
       "model_id": "53f24f41c9774c439795df38ff70fb59",
       "version_major": 2,
       "version_minor": 0
      },
      "text/plain": [
       "  0%|          | 0/6 [00:00<?, ?it/s]"
      ]
     },
     "metadata": {},
     "output_type": "display_data"
    },
    {
     "data": {
      "application/vnd.jupyter.widget-view+json": {
       "model_id": "0ae1dbf5a42c42109558cb47995dc815",
       "version_major": 2,
       "version_minor": 0
      },
      "text/plain": [
       "  0%|          | 0/6 [00:00<?, ?it/s]"
      ]
     },
     "metadata": {},
     "output_type": "display_data"
    },
    {
     "name": "stderr",
     "output_type": "stream",
     "text": [
      "C:\\Users\\Python\\Desktop\\GitHub\\Herber2024\\pipeline\\process_spikes.py:137: RuntimeWarning: invalid value encountered in divide\n",
      "  firing_rate[:, :, c] = (firing_rate[:, :, c] - np.min(firing_rate[:, :, c]))/np.max(firing_rate[:, :, c] - np.min(firing_rate[:, :, c]))\n"
     ]
    },
    {
     "data": {
      "application/vnd.jupyter.widget-view+json": {
       "model_id": "6a36d64c41e14efc9e4ccb47cc5c47da",
       "version_major": 2,
       "version_minor": 0
      },
      "text/plain": [
       "  0%|          | 0/6 [00:00<?, ?it/s]"
      ]
     },
     "metadata": {},
     "output_type": "display_data"
    },
    {
     "name": "stdout",
     "output_type": "stream",
     "text": [
      "MA6M 110422_record6\n"
     ]
    },
    {
     "data": {
      "image/png": "[encoded data removed]",
      "text/plain": [
       "<Figure size 260x125 with 4 Axes>"
      ]
     },
     "metadata": {},
     "output_type": "display_data"
    },
    {
     "data": {
      "application/vnd.jupyter.widget-view+json": {
       "model_id": "c5bd443b1f984dd9bd48455431461fa6",
       "version_major": 2,
       "version_minor": 0
      },
      "text/plain": [
       "  0%|          | 0/4 [00:00<?, ?it/s]"
      ]
     },
     "metadata": {},
     "output_type": "display_data"
    },
    {
     "data": {
      "application/vnd.jupyter.widget-view+json": {
       "model_id": "b71231cddd4347d6aa04339ea2e78512",
       "version_major": 2,
       "version_minor": 0
      },
      "text/plain": [
       "  0%|          | 0/6 [00:00<?, ?it/s]"
      ]
     },
     "metadata": {},
     "output_type": "display_data"
    },
    {
     "data": {
      "application/vnd.jupyter.widget-view+json": {
       "model_id": "2ba01724d7004b4185774b0412cc9bcb",
       "version_major": 2,
       "version_minor": 0
      },
      "text/plain": [
       "  0%|          | 0/6 [00:00<?, ?it/s]"
      ]
     },
     "metadata": {},
     "output_type": "display_data"
    },
    {
     "data": {
      "application/vnd.jupyter.widget-view+json": {
       "model_id": "0f49e65aa4944f24bfe7d352782a667f",
       "version_major": 2,
       "version_minor": 0
      },
      "text/plain": [
       "  0%|          | 0/6 [00:00<?, ?it/s]"
      ]
     },
     "metadata": {},
     "output_type": "display_data"
    },
    {
     "data": {
      "application/vnd.jupyter.widget-view+json": {
       "model_id": "21212ab360d7430383b63ffb656e06c9",
       "version_major": 2,
       "version_minor": 0
      },
      "text/plain": [
       "  0%|          | 0/6 [00:00<?, ?it/s]"
      ]
     },
     "metadata": {},
     "output_type": "display_data"
    },
    {
     "data": {
      "application/vnd.jupyter.widget-view+json": {
       "model_id": "183c54cc6c2e44d88e02503ce061c48a",
       "version_major": 2,
       "version_minor": 0
      },
      "text/plain": [
       "  0%|          | 0/6 [00:00<?, ?it/s]"
      ]
     },
     "metadata": {},
     "output_type": "display_data"
    },
    {
     "name": "stdout",
     "output_type": "stream",
     "text": [
      "Y22 093022_record6\n"
     ]
    },
    {
     "data": {
      "image/png": "[encoded data removed]",
      "text/plain": [
       "<Figure size 260x125 with 4 Axes>"
      ]
     },
     "metadata": {},
     "output_type": "display_data"
    },
    {
     "data": {
      "application/vnd.jupyter.widget-view+json": {
       "model_id": "c4340b6f666141edb450ad6257992757",
       "version_major": 2,
       "version_minor": 0
      },
      "text/plain": [
       "  0%|          | 0/6 [00:00<?, ?it/s]"
      ]
     },
     "metadata": {},
     "output_type": "display_data"
    },
    {
     "data": {
      "application/vnd.jupyter.widget-view+json": {
       "model_id": "64de28349f6f4bf292f20baf372d046b",
       "version_major": 2,
       "version_minor": 0
      },
      "text/plain": [
       "  0%|          | 0/6 [00:00<?, ?it/s]"
      ]
     },
     "metadata": {},
     "output_type": "display_data"
    },
    {
     "data": {
      "application/vnd.jupyter.widget-view+json": {
       "model_id": "dd16161fbeb3473ab7f6ff73d985062b",
       "version_major": 2,
       "version_minor": 0
      },
      "text/plain": [
       "  0%|          | 0/6 [00:00<?, ?it/s]"
      ]
     },
     "metadata": {},
     "output_type": "display_data"
    },
    {
     "data": {
      "application/vnd.jupyter.widget-view+json": {
       "model_id": "91ad8df79fca4396874a09496217a706",
       "version_major": 2,
       "version_minor": 0
      },
      "text/plain": [
       "  0%|          | 0/6 [00:00<?, ?it/s]"
      ]
     },
     "metadata": {},
     "output_type": "display_data"
    },
    {
     "data": {
      "application/vnd.jupyter.widget-view+json": {
       "model_id": "292b811eb59f4d6b86b17350ca79858b",
       "version_major": 2,
       "version_minor": 0
      },
      "text/plain": [
       "  0%|          | 0/6 [00:00<?, ?it/s]"
      ]
     },
     "metadata": {},
     "output_type": "display_data"
    },
    {
     "data": {
      "application/vnd.jupyter.widget-view+json": {
       "model_id": "ab783769335545d5aa528de6db950c73",
       "version_major": 2,
       "version_minor": 0
      },
      "text/plain": [
       "  0%|          | 0/6 [00:00<?, ?it/s]"
      ]
     },
     "metadata": {},
     "output_type": "display_data"
    }
   ],
   "source": [
    "''' Compute Front vs. Back Track Grid Network Similarity Matrices for all Sessions, plotting Figure S5I examples along the way\n",
    "\n",
    "Run time: ~15-30 seconds / session for 134 sessions w/ ≥ 10 grid cells\n",
    "\n",
    "''' \n",
    "\n",
    "from scipy.spatial.distance import pdist\n",
    "from scipy.spatial.distance import squareform\n",
    "\n",
    "dt = 0.02\n",
    "grid_min = 10 \n",
    "colors = ['xkcd:pink','xkcd:blue','xkcd:pink', 'xkcd:blue']\n",
    "labels = ['A', 'B','A`','B`']\n",
    "\n",
    "# if you want to plot all sessions:\n",
    "#example_mice = mice\n",
    "#example_sessions = sessions\n",
    "\n",
    "# if you want to plot only example sessions from Figure S5I:\n",
    "example_mice = ['Y22','MA6M','A22']\n",
    "example_sessions = ['093022_record6','110422_record6','012923_record2']\n",
    "\n",
    "for m, session in zip(mice, sessions):\n",
    "    for s in tdqm(session):\n",
    "        frontonlytrials = []\n",
    "        backonlytrials = []\n",
    "        d = data[m][s]\n",
    "        \n",
    "        #get some data & cell IDs\n",
    "        rawdata_file = 'RAW_' + m + '_' + s + '.npy'\n",
    "        spikes_file = 'SPIKES_' + m + '_' + s +'.npy'\n",
    "        behavior_file = 'BEHAVIOR_' + m + '_' + s + '.npy'\n",
    "        \n",
    "        raw = np.load(load_folder + rawdata_file, allow_pickle=True)\n",
    "        Y = np.load(load_folder + spikes_file, allow_pickle=False) #pre-filtered for speeds >2cm/s, position-corrected spikes, 20 ms timebins\n",
    "        behaviorfil = np.load(load_folder + behavior_file, allow_pickle=False)\n",
    "        \n",
    "        cell_IDs = raw.item().get('cellsfil')\n",
    "        gridcell = d['gridcell'].astype(bool)\n",
    "        gridcells = cell_IDs[gridcell]   \n",
    "        \n",
    "        if len(gridcells) >= grid_min:\n",
    "        \n",
    "            posx = behaviorfil[:,0]\n",
    "            trial = behaviorfil[:,2]\n",
    "            rawtrialfil = raw.item().get('trialfil')\n",
    "\n",
    "            #Find any skipped trials\n",
    "            try:\n",
    "                _ = raw.item().get('correctedtrial').shape\n",
    "                skippedtrials = get.find_skipped(trial, max_trial_num = 220)\n",
    "            except:\n",
    "                skippedtrials = []\n",
    "\n",
    "            if np.max(np.unique(trial)) < 160: #handles truncated, shorter sessions \n",
    "                alltrial = np.arange(0, np.max(np.unique(trial)) + 2, 1)\n",
    "                #print(m, s)\n",
    "            else:\n",
    "                alltrial = np.arange(0,220,1)\n",
    "\n",
    "            # Load in left vs. right info\n",
    "            trials = np.unique(trial)\n",
    "            trialinfo = raw.item().get('trialinfo')\n",
    "            left = trialinfo['left']\n",
    "\n",
    "            # Sort trials by context, find sorted skipped trials, num dark skipped trials\n",
    "            leftsort, allcopy = get.contextsortedtrials(alltrial, left, alt_idx = 140)\n",
    "\n",
    "            newskippedtrials = []\n",
    "            for z in skippedtrials:\n",
    "                newskippedtrials = np.append(newskippedtrials, np.where(allcopy == z)[0][0])\n",
    "\n",
    "            ndarkskipped = 0\n",
    "            for z in newskippedtrials:\n",
    "                if z < 20: \n",
    "                    ndarkskipped += 1\n",
    "\n",
    "            #adjust trialfil so that sorted trials are skipped instead\n",
    "            skippedrawtrialfil = get.sortedtrialbyframe(rawtrialfil, trial, newskippedtrials)\n",
    "            numtrial = np.unique(skippedrawtrialfil)\n",
    "\n",
    "            #sort spike train & position on VR frames by context during alternation\n",
    "            posxcopy = []\n",
    "            allcopy= np.append(allcopy, 220)\n",
    "            for t in allcopy:\n",
    "                obs_idx = np.where(trial == t)[0]\n",
    "                posxcopy = np.append(posxcopy, posx[obs_idx])\n",
    "                if t == 0:\n",
    "                    Z = Y[obs_idx,:]\n",
    "                else: \n",
    "                    Z = np.append(Z, Y[obs_idx,:], axis = 0)\n",
    "                \n",
    "            #remove dark & trial 220 dataframes     \n",
    "            start_idx = (np.where(skippedrawtrialfil >= 20)[0][0]).astype(int)\n",
    "            if np.max(skippedrawtrialfil) == 220:\n",
    "                end_idx = (np.where(skippedrawtrialfil == 220)[0][0])\n",
    "            else:\n",
    "                end_idx = len(skippedrawtrialfil) + 1\n",
    "\n",
    "            #divide observations into front and back halves\n",
    "            frontidx = np.where(posxcopy < 200)[0].astype(int)\n",
    "            backidx = np.where(posxcopy >= 200)[0].astype(int)\n",
    "            VRidx = np.arange(start_idx, end_idx, 1)\n",
    "            VRfrontidx = np.intersect1d(VRidx, frontidx)\n",
    "            VRbackidx = np.intersect1d(VRidx, backidx)\n",
    "\n",
    "            frontonlytrials = np.append(frontonlytrials, np.setdiff1d(np.unique(skippedrawtrialfil[VRfrontidx]), np.unique(skippedrawtrialfil[VRbackidx])))\n",
    "            frontonlyidx = []\n",
    "            for t in frontonlytrials:\n",
    "                frontonlyidx = np.append(frontonlyidx, np.where(np.unique(skippedrawtrialfil[VRfrontidx]) == t)[0])\n",
    "            d['frontonlytrials'] = frontonlyidx\n",
    "\n",
    "            backonlytrials = np.append(backonlytrials, np.setdiff1d(np.unique(skippedrawtrialfil[VRbackidx]), np.unique(skippedrawtrialfil[VRfrontidx])))\n",
    "            backonlyidx = []\n",
    "            for t in backonlytrials:\n",
    "                 backonlyidx = np.append(backonlyidx, np.where(np.unique(skippedrawtrialfil[VRbackidx]) == t)[0])\n",
    "            d['backonlytrials'] = backonlyidx\n",
    "\n",
    "            #get smoothed by trial FR matrix excluding dark period sorted by context using front half of track\n",
    "            normFR, _, _ = ps.tuning_curve_bytrial(posxcopy[VRfrontidx], skippedrawtrialfil[VRfrontidx], Z[VRfrontidx,:], dt, sigma = 5, b=2, smooth=True, normalize=True, occupancy=True)\n",
    "\n",
    "            #get & plot similarity matrix for all grid spatial cells\n",
    "            gridcell = d['gridcell'].astype(bool)\n",
    "            gridcells = cell_IDs[gridcell]\n",
    "\n",
    "            sdx = []\n",
    "            for i, c in enumerate(gridcells):\n",
    "                sd = (np.where(cell_IDs == c)[0][0]).astype(int)\n",
    "                sdx.append(sd)\n",
    "\n",
    "            normspatialgridFR = normFR[:,:,sdx] \n",
    "            normspatialgridFR_unwrapped = np.reshape(normspatialgridFR, (normspatialgridFR.shape[0], -1))\n",
    "            sim_vec = np.abs(pdist(normspatialgridFR_unwrapped, 'correlation')-1)\n",
    "            sim1 = squareform(sim_vec)\n",
    "            d['gridsimilarityfront'] = sim1\n",
    "\n",
    "            #get smoothed by trial FR matrix excluding dark period sorted by context using front half of track\n",
    "            normFR, _, _ = ps.tuning_curve_bytrial(posxcopy[VRbackidx], skippedrawtrialfil[VRbackidx], Z[VRbackidx,:], dt, sigma = 5, b=2, smooth=True, normalize=True, occupancy=True)\n",
    "\n",
    "            #get & plot similarity matrix for all grid cells  \n",
    "            normspatialgridFR = normFR[:,:,sdx] \n",
    "            normspatialgridFR_unwrapped = np.reshape(normspatialgridFR, (normspatialgridFR.shape[0], -1))\n",
    "            sim_vec = np.abs(pdist(normspatialgridFR_unwrapped, 'correlation')-1)\n",
    "            sim2 = squareform(sim_vec)        \n",
    "            d['gridsimilarityback'] = sim2\n",
    "\n",
    "            #Plot front vs. back sim matrices side by side if an example session/mouse (Figure S5I)\n",
    "            if (m in example_mice) and (s in example_sessions):\n",
    "                print(m, s)\n",
    "\n",
    "                # add ticks to label contexts dynamically\n",
    "                lengthdark = (20 - ndarkskipped)\n",
    "                lengthA = len(np.unique(skippedrawtrialfil)[np.unique(skippedrawtrialfil) < (80 - lengthdark)])\n",
    "                nA_ = np.sum(1 - leftsort[alltrial >= 140])\n",
    "                lengthB = len(np.unique(skippedrawtrialfil)[(np.unique(skippedrawtrialfil) >= (80 - lengthdark)) & (np.unique(skippedrawtrialfil) < (140 - lengthdark))])\n",
    "                lengthA_ = len(np.unique(skippedrawtrialfil)[(np.unique(skippedrawtrialfil) >= (140 - lengthdark)) & (np.unique(skippedrawtrialfil) < (140 + nA_ - lengthdark))])\n",
    "                end =  sim1.shape[0]\n",
    "                nB_ = end - (lengthA + lengthB + lengthA_) \n",
    "                \n",
    "                ticks = np.array([0, lengthA, (lengthA + lengthB), (lengthA + lengthB + lengthA_), end])\n",
    "                textloc = np.array([lengthA // 2, (lengthA + lengthB // 2), (lengthA + lengthB + lengthA_//2), (lengthA + lengthB + lengthA_ + nB_//2)])\n",
    "\n",
    "                if m in SM_aged_mice:\n",
    "                    col = 'C1'\n",
    "                elif m in SM_MA_mice:\n",
    "                    col = 'C2'\n",
    "                else:\n",
    "                    col = 'C0'\n",
    "                \n",
    "                f, axs = plt.subplots(1,2, figsize=(2.6, 1.25))\n",
    "                #f.suptitle(str(m) + '_' + str(s[-1]), fontsize = 10, color = col)\n",
    "                im = axs[0].imshow(sim1, clim=[0, 1.0], aspect='auto', cmap='Greys')\n",
    "                axs[0].set_title('Front'.format(m, s[-1]), fontsize=10, pad=3)\n",
    "                axs[0].set_yticks(ticks, labels = [])\n",
    "                axs[0].set_xticks(ticks, labels = [])\n",
    "                for n, j in enumerate(labels):\n",
    "                    axs[0].text(textloc[n] - 10, 240, j, color = colors[n], fontsize = 9)\n",
    "                    axs[0].text(-40, textloc[n] + 10, j, color = colors[n], fontsize = 9)\n",
    "                cbar = plt.colorbar(im, shrink = 0.8, ax = axs[0],ticks=np.arange(0,1.1,0.5))\n",
    "                cbar.ax.tick_params(labelsize = 9)\n",
    "\n",
    "                im = axs[1].imshow(sim2, clim=[0, 1.0], aspect='auto', cmap='Greys')\n",
    "                axs[1].set_title('Back'.format(m, s[-1]), fontsize=10, pad=3)\n",
    "                axs[1].set_yticks(ticks, labels = [])\n",
    "                axs[1].set_xticks(ticks, labels = [])\n",
    "                for n, j in enumerate(labels):\n",
    "                    axs[1].text(textloc[n] - 10, 240, j, color = colors[n], fontsize = 9)\n",
    "                    axs[1].text(-40, textloc[n] + 10, j, color = colors[n], fontsize = 9)\n",
    "                cbar = plt.colorbar(im, shrink = 0.8, ax = axs[1],ticks=np.arange(0,1.1,0.5))\n",
    "                cbar.ax.tick_params(labelsize = 9)\n",
    "\n",
    "                plt.tight_layout()\n",
    "                f.savefig(save_folder + str(m) + '_' + str(s) + '_S5I.png', dpi = 400)\n",
    "                f.savefig(save_folder + str(m) + '_' + str(s) + '_S5I.svg', dpi = 400)\n",
    "                plt.show()\n",
    "                plt.close(f)  "
   ]
  },
  {
   "cell_type": "code",
   "execution_count": 31,
   "id": "eadf725c",
   "metadata": {
    "scrolled": true
   },
   "outputs": [
    {
     "data": {
      "application/vnd.jupyter.widget-view+json": {
       "model_id": "e4bd3c5bc648496e8ed6276b76f121ef",
       "version_major": 2,
       "version_minor": 0
      },
      "text/plain": [
       "  0%|          | 0/3 [00:00<?, ?it/s]"
      ]
     },
     "metadata": {},
     "output_type": "display_data"
    },
    {
     "data": {
      "application/vnd.jupyter.widget-view+json": {
       "model_id": "2a8fbe672a7741269835f473e0c325fc",
       "version_major": 2,
       "version_minor": 0
      },
      "text/plain": [
       "  0%|          | 0/6 [00:00<?, ?it/s]"
      ]
     },
     "metadata": {},
     "output_type": "display_data"
    },
    {
     "data": {
      "application/vnd.jupyter.widget-view+json": {
       "model_id": "6c6ad4309ae14d38b0b3b8046c6349ab",
       "version_major": 2,
       "version_minor": 0
      },
      "text/plain": [
       "  0%|          | 0/4 [00:00<?, ?it/s]"
      ]
     },
     "metadata": {},
     "output_type": "display_data"
    },
    {
     "data": {
      "application/vnd.jupyter.widget-view+json": {
       "model_id": "ce78cc29b6fc4a63b08ce3c9a33f60c3",
       "version_major": 2,
       "version_minor": 0
      },
      "text/plain": [
       "  0%|          | 0/6 [00:00<?, ?it/s]"
      ]
     },
     "metadata": {},
     "output_type": "display_data"
    },
    {
     "data": {
      "application/vnd.jupyter.widget-view+json": {
       "model_id": "74cb995d7caa48e8b93af08b67d9fce8",
       "version_major": 2,
       "version_minor": 0
      },
      "text/plain": [
       "  0%|          | 0/6 [00:00<?, ?it/s]"
      ]
     },
     "metadata": {},
     "output_type": "display_data"
    },
    {
     "data": {
      "application/vnd.jupyter.widget-view+json": {
       "model_id": "1c0824b909564b55a2b57323c2b4bb62",
       "version_major": 2,
       "version_minor": 0
      },
      "text/plain": [
       "  0%|          | 0/6 [00:00<?, ?it/s]"
      ]
     },
     "metadata": {},
     "output_type": "display_data"
    },
    {
     "data": {
      "application/vnd.jupyter.widget-view+json": {
       "model_id": "0c2e3fc1a6f94d2b8d7c87b947ca659f",
       "version_major": 2,
       "version_minor": 0
      },
      "text/plain": [
       "  0%|          | 0/6 [00:00<?, ?it/s]"
      ]
     },
     "metadata": {},
     "output_type": "display_data"
    },
    {
     "data": {
      "application/vnd.jupyter.widget-view+json": {
       "model_id": "30482a6834cc4f0791ea6937e39228a3",
       "version_major": 2,
       "version_minor": 0
      },
      "text/plain": [
       "  0%|          | 0/6 [00:00<?, ?it/s]"
      ]
     },
     "metadata": {},
     "output_type": "display_data"
    },
    {
     "data": {
      "application/vnd.jupyter.widget-view+json": {
       "model_id": "7baccbf50126465288b32df101a4dd25",
       "version_major": 2,
       "version_minor": 0
      },
      "text/plain": [
       "  0%|          | 0/6 [00:00<?, ?it/s]"
      ]
     },
     "metadata": {},
     "output_type": "display_data"
    },
    {
     "data": {
      "application/vnd.jupyter.widget-view+json": {
       "model_id": "cb349a0267614bad8ddd0f3642ac0e2d",
       "version_major": 2,
       "version_minor": 0
      },
      "text/plain": [
       "  0%|          | 0/6 [00:00<?, ?it/s]"
      ]
     },
     "metadata": {},
     "output_type": "display_data"
    },
    {
     "data": {
      "application/vnd.jupyter.widget-view+json": {
       "model_id": "26f4a51d09e44cf2b670196ded4a6d9a",
       "version_major": 2,
       "version_minor": 0
      },
      "text/plain": [
       "  0%|          | 0/6 [00:00<?, ?it/s]"
      ]
     },
     "metadata": {},
     "output_type": "display_data"
    },
    {
     "data": {
      "application/vnd.jupyter.widget-view+json": {
       "model_id": "47fed1183034471c838599a6c9c0161c",
       "version_major": 2,
       "version_minor": 0
      },
      "text/plain": [
       "  0%|          | 0/6 [00:00<?, ?it/s]"
      ]
     },
     "metadata": {},
     "output_type": "display_data"
    },
    {
     "data": {
      "application/vnd.jupyter.widget-view+json": {
       "model_id": "6f8b4b733f7049ce9247a3aac6b0c8e4",
       "version_major": 2,
       "version_minor": 0
      },
      "text/plain": [
       "  0%|          | 0/6 [00:00<?, ?it/s]"
      ]
     },
     "metadata": {},
     "output_type": "display_data"
    },
    {
     "data": {
      "application/vnd.jupyter.widget-view+json": {
       "model_id": "2a8297e0539b4770be5ef127b0dc976e",
       "version_major": 2,
       "version_minor": 0
      },
      "text/plain": [
       "  0%|          | 0/6 [00:00<?, ?it/s]"
      ]
     },
     "metadata": {},
     "output_type": "display_data"
    },
    {
     "data": {
      "application/vnd.jupyter.widget-view+json": {
       "model_id": "6c545b7537e74f0191db964439761fd1",
       "version_major": 2,
       "version_minor": 0
      },
      "text/plain": [
       "  0%|          | 0/6 [00:00<?, ?it/s]"
      ]
     },
     "metadata": {},
     "output_type": "display_data"
    },
    {
     "data": {
      "application/vnd.jupyter.widget-view+json": {
       "model_id": "24540779ffb2449ea3ca6665ccd51b25",
       "version_major": 2,
       "version_minor": 0
      },
      "text/plain": [
       "  0%|          | 0/6 [00:00<?, ?it/s]"
      ]
     },
     "metadata": {},
     "output_type": "display_data"
    },
    {
     "data": {
      "application/vnd.jupyter.widget-view+json": {
       "model_id": "fd3ad9b68abd4ed897ab10bce2683145",
       "version_major": 2,
       "version_minor": 0
      },
      "text/plain": [
       "  0%|          | 0/6 [00:00<?, ?it/s]"
      ]
     },
     "metadata": {},
     "output_type": "display_data"
    },
    {
     "data": {
      "application/vnd.jupyter.widget-view+json": {
       "model_id": "e63b80eff56344ffa7c91c15cbbfcb7e",
       "version_major": 2,
       "version_minor": 0
      },
      "text/plain": [
       "  0%|          | 0/4 [00:00<?, ?it/s]"
      ]
     },
     "metadata": {},
     "output_type": "display_data"
    },
    {
     "data": {
      "application/vnd.jupyter.widget-view+json": {
       "model_id": "bfae671ec2ac4ed498570fb715385ffd",
       "version_major": 2,
       "version_minor": 0
      },
      "text/plain": [
       "  0%|          | 0/6 [00:00<?, ?it/s]"
      ]
     },
     "metadata": {},
     "output_type": "display_data"
    },
    {
     "data": {
      "application/vnd.jupyter.widget-view+json": {
       "model_id": "fdffe22215be4fab9e438719f620b00e",
       "version_major": 2,
       "version_minor": 0
      },
      "text/plain": [
       "  0%|          | 0/6 [00:00<?, ?it/s]"
      ]
     },
     "metadata": {},
     "output_type": "display_data"
    },
    {
     "data": {
      "application/vnd.jupyter.widget-view+json": {
       "model_id": "60f80b610d5c43bbb252054a12ffa29f",
       "version_major": 2,
       "version_minor": 0
      },
      "text/plain": [
       "  0%|          | 0/6 [00:00<?, ?it/s]"
      ]
     },
     "metadata": {},
     "output_type": "display_data"
    },
    {
     "data": {
      "application/vnd.jupyter.widget-view+json": {
       "model_id": "9cabdb511c46432fa39833623a006826",
       "version_major": 2,
       "version_minor": 0
      },
      "text/plain": [
       "  0%|          | 0/6 [00:00<?, ?it/s]"
      ]
     },
     "metadata": {},
     "output_type": "display_data"
    },
    {
     "data": {
      "application/vnd.jupyter.widget-view+json": {
       "model_id": "64a7429790824676b98199276fb049c1",
       "version_major": 2,
       "version_minor": 0
      },
      "text/plain": [
       "  0%|          | 0/6 [00:00<?, ?it/s]"
      ]
     },
     "metadata": {},
     "output_type": "display_data"
    },
    {
     "data": {
      "application/vnd.jupyter.widget-view+json": {
       "model_id": "be0dd82099ba4b68b82f213f2aee5be2",
       "version_major": 2,
       "version_minor": 0
      },
      "text/plain": [
       "  0%|          | 0/6 [00:00<?, ?it/s]"
      ]
     },
     "metadata": {},
     "output_type": "display_data"
    },
    {
     "data": {
      "application/vnd.jupyter.widget-view+json": {
       "model_id": "38e0a12154f041d4b8039c00bd0d03d1",
       "version_major": 2,
       "version_minor": 0
      },
      "text/plain": [
       "  0%|          | 0/6 [00:00<?, ?it/s]"
      ]
     },
     "metadata": {},
     "output_type": "display_data"
    },
    {
     "data": {
      "application/vnd.jupyter.widget-view+json": {
       "model_id": "9dc093caf637461590b7dd21ffb8af84",
       "version_major": 2,
       "version_minor": 0
      },
      "text/plain": [
       "  0%|          | 0/6 [00:00<?, ?it/s]"
      ]
     },
     "metadata": {},
     "output_type": "display_data"
    },
    {
     "data": {
      "application/vnd.jupyter.widget-view+json": {
       "model_id": "4076e33e31394b0bb27381cf87790568",
       "version_major": 2,
       "version_minor": 0
      },
      "text/plain": [
       "  0%|          | 0/6 [00:00<?, ?it/s]"
      ]
     },
     "metadata": {},
     "output_type": "display_data"
    },
    {
     "data": {
      "application/vnd.jupyter.widget-view+json": {
       "model_id": "d305e2ab51574e13af977c945179af0f",
       "version_major": 2,
       "version_minor": 0
      },
      "text/plain": [
       "  0%|          | 0/6 [00:00<?, ?it/s]"
      ]
     },
     "metadata": {},
     "output_type": "display_data"
    },
    {
     "data": {
      "application/vnd.jupyter.widget-view+json": {
       "model_id": "60df2b5924f048519554a58c01e0bf4b",
       "version_major": 2,
       "version_minor": 0
      },
      "text/plain": [
       "  0%|          | 0/6 [00:00<?, ?it/s]"
      ]
     },
     "metadata": {},
     "output_type": "display_data"
    }
   ],
   "source": [
    "''' Compute Magnitude of Correlation btwn Similarity Matrices '''\n",
    "\n",
    "scorrfb = []\n",
    "mcorrfb = []\n",
    "gridmultimapsesh = []\n",
    "\n",
    "for m, session in zip(mice, sessions):\n",
    "    \n",
    "    m_corr = []\n",
    "    \n",
    "    for s in tdqm(session):\n",
    "        d = data[m][s]\n",
    "        \n",
    "        #get some data & cell IDs\n",
    "        rawdata_file = 'RAW_' + m + '_' + s + '.npy'\n",
    "        raw = np.load(load_folder + rawdata_file, allow_pickle=True)\n",
    "        cell_IDs = raw.item().get('cellsfil')\n",
    "        gridcell = d['gridcell'].astype(bool)\n",
    "        gridcells = cell_IDs[gridcell]    \n",
    "        \n",
    "        if len(gridcells) >= grid_min:\n",
    "            \n",
    "            gridmultimapsesh = np.append(gridmultimapsesh, True)\n",
    "            sim1 = d['gridsimilarityfront'] \n",
    "            sim2 = d['gridsimilarityback']\n",
    "            backonlytrials = np.array(d['backonlytrials']).astype(int)\n",
    "            frontonlytrials = np.array(d['frontonlytrials']).astype(int)\n",
    "            \n",
    "            #ensure that matrices are the same size\n",
    "            if len(backonlytrials) > 0: #remove trials from sim2 that are only in sim2\n",
    "                sim2 = np.delete(np.delete(sim2, backonlytrials, 0), backonlytrials,1)\n",
    "            if len(frontonlytrials) > 0: #remove trials from sim1 that are only in sim1\n",
    "                sim1 = np.delete(np.delete(sim1, frontonlytrials, 0), frontonlytrials,1)\n",
    "            \n",
    "            #linearize upper triangles of each sim matrix\n",
    "            mask = np.triu_indices(sim1.shape[0])\n",
    "            uppersim1 = sim1[mask]\n",
    "            uppersim2 = sim2[mask]\n",
    "            uppersim = sim[mask]\n",
    "\n",
    "            #compute correlation of front & back matrices with each other\n",
    "            corr, _ = stats.pearsonr(uppersim1, uppersim2)\n",
    "            scorrfb = np.append(scorrfb, corr)\n",
    "            m_corr = np.append(m_corr,corr)\n",
    "        \n",
    "        else:\n",
    "            gridmultimapsesh = np.append(gridmultimapsesh, False)\n",
    "            m_corr = np.append(m_corr, np.nan)\n",
    "            scorrfb = np.append(scorrfb, np.nan)\n",
    "                \n",
    "    mcorrfb = np.append(mcorrfb, np.nanmean(m_corr))"
   ]
  },
  {
   "cell_type": "code",
   "execution_count": 32,
   "id": "dee32c00",
   "metadata": {},
   "outputs": [
    {
     "data": {
      "image/png": "[encoded data removed]",
      "text/plain": [
       "<Figure size 212.5x150 with 1 Axes>"
      ]
     },
     "metadata": {},
     "output_type": "display_data"
    }
   ],
   "source": [
    "''' Plot Figure S5J'''\n",
    "\n",
    "nan_idx10grid = np.where((gridmultimapsesh.astype(bool) == 0))[0]\n",
    "\n",
    "# Adjust y_sind, ma_sind, age_sind for subsequent plots\n",
    "y_sind10grid = np.setdiff1d(y_sind, nan_idx10grid)\n",
    "ma_sind10grid = np.setdiff1d(ma_sind, nan_idx10grid)\n",
    "age_sind10grid = np.setdiff1d(age_sind, nan_idx10grid)\n",
    "\n",
    "# Adjust colormaps for grid plots\n",
    "yidx = []\n",
    "maidx = []\n",
    "aidx = []\n",
    "for i in nan_idx10grid:\n",
    "    yidx = np.append(yidx, np.where(y_sind == i)[0].astype(int))\n",
    "    maidx = np.append(maidx, np.where(ma_sind == i)[0].astype(int))\n",
    "    aidx = np.append(aidx, np.where(age_sind == i)[0].astype(int)) \n",
    "\n",
    "col_session_young10grid = np.delete(col_session_young, list(yidx.astype(int)), axis = 0)\n",
    "col_session_ma10grid = np.delete(col_session_MA, list(maidx.astype(int)), axis = 0)\n",
    "col_session_old10grid = np.delete(col_session_old, list(aidx.astype(int)), axis = 0)\n",
    "col_session10grid = [col_session_young10grid, col_session_ma10grid, col_session_old10grid] \n",
    "\n",
    "labels = ['Young','MA','Aged']\n",
    "fig, ax = plt.subplots(1, 1, figsize=(2.125, 1.5), sharey = False)\n",
    "#f.suptitle('Grid Cell Session Network Similarity Matrix Correlation, Pooled by Age Group', fontsize=12)\n",
    "\n",
    "scorr_tog = [scorrfb[y_sind10grid],scorrfb[ma_sind10grid],scorrfb[age_sind10grid]]\n",
    "ax.boxplot(scorr_tog, widths = w, labels = labels, medianprops = dict(color = 'black'))\n",
    "ax.set_title('Front vs. Back', fontsize=10, pad=5)\n",
    "ax.set_xlabel('Age', fontsize=9, labelpad=1)\n",
    "ax.tick_params(labelsize=8)\n",
    "ax.set_ylabel('Correlation', fontsize=9, labelpad=1)\n",
    "ax.set_ylim([0.1,1.0])\n",
    "\n",
    "for i in range(len(scorr_tog)):\n",
    "    y = scorr_tog[i]\n",
    "    x = np.random.normal(i + 1, 0.04, len(y))\n",
    "    ax.scatter(x, y, color = col_session10grid[i], edgecolors = col_session10grid[i], alpha = 1, s = 10)\n",
    "    \n",
    "plt.savefig(save_folder + 'S5J.png', dpi=400, bbox_inches='tight')\n",
    "plt.savefig(save_folder + 'S5J.svg', dpi=400, bbox_inches='tight')\n",
    "plt.show()"
   ]
  },
  {
   "cell_type": "code",
   "execution_count": 33,
   "id": "dbb529b2",
   "metadata": {},
   "outputs": [
    {
     "name": "stdout",
     "output_type": "stream",
     "text": [
      "Young Front vs. Back Correlation, Mean ± SEM: \n",
      "0.6633213361328258 ± 0.016618437610048997\n",
      "MA Front vs. Back Correlation, Mean ± SEM: \n",
      "0.5677853254661024 ± 0.013961489381720696\n",
      "Aged Front vs. Back Correlation, Mean ± SEM: \n",
      "0.5766179330186065 ± 0.019691209759825832\n",
      "\n",
      "KW H, p-value: \n",
      "16.95983880812861 0.00020759543339169664\n"
     ]
    },
    {
     "data": {
      "text/html": [
       "<div>\n",
       "<style scoped>\n",
       "    .dataframe tbody tr th:only-of-type {\n",
       "        vertical-align: middle;\n",
       "    }\n",
       "\n",
       "    .dataframe tbody tr th {\n",
       "        vertical-align: top;\n",
       "    }\n",
       "\n",
       "    .dataframe thead th {\n",
       "        text-align: right;\n",
       "    }\n",
       "</style>\n",
       "<table border=\"1\" class=\"dataframe\">\n",
       "  <thead>\n",
       "    <tr style=\"text-align: right;\">\n",
       "      <th></th>\n",
       "      <th>1.0</th>\n",
       "      <th>2.0</th>\n",
       "      <th>3.0</th>\n",
       "    </tr>\n",
       "  </thead>\n",
       "  <tbody>\n",
       "    <tr>\n",
       "      <th>1.0</th>\n",
       "      <td>1.000000</td>\n",
       "      <td>0.000143</td>\n",
       "      <td>0.004605</td>\n",
       "    </tr>\n",
       "    <tr>\n",
       "      <th>2.0</th>\n",
       "      <td>0.000143</td>\n",
       "      <td>1.000000</td>\n",
       "      <td>0.330214</td>\n",
       "    </tr>\n",
       "    <tr>\n",
       "      <th>3.0</th>\n",
       "      <td>0.004605</td>\n",
       "      <td>0.330214</td>\n",
       "      <td>1.000000</td>\n",
       "    </tr>\n",
       "  </tbody>\n",
       "</table>\n",
       "</div>"
      ],
      "text/plain": [
       "          1.0       2.0       3.0\n",
       "1.0  1.000000  0.000143  0.004605\n",
       "2.0  0.000143  1.000000  0.330214\n",
       "3.0  0.004605  0.330214  1.000000"
      ]
     },
     "execution_count": 33,
     "metadata": {},
     "output_type": "execute_result"
    }
   ],
   "source": [
    "''' Statistically compare correlation of front vs. back grid network similarity matrices '''\n",
    "\n",
    "import statsmodels.api as sm\n",
    "import scikit_posthocs as ph\n",
    "\n",
    "print('Young Front vs. Back Correlation, Mean ± SEM: ')\n",
    "print(str(np.mean(scorrfb[y_sind10grid])) + ' ± ' + str(stats.sem(scorrfb[y_sind10grid])))\n",
    "\n",
    "print('MA Front vs. Back Correlation, Mean ± SEM: ')\n",
    "print(str(np.mean(scorrfb[ma_sind10grid])) + ' ± ' + str(stats.sem(scorrfb[ma_sind10grid])))\n",
    "\n",
    "print('Aged Front vs. Back Correlation, Mean ± SEM: ')\n",
    "print(str(np.mean(scorrfb[age_sind10grid])) + ' ± ' + str(stats.sem(scorrfb[age_sind10grid])))\n",
    "\n",
    "H, p = stats.kruskal(scorrfb[y_sind10grid],scorrfb[ma_sind10grid],scorrfb[age_sind10grid])\n",
    "print('\\nKW H, p-value: ')\n",
    "print(H, p)\n",
    "\n",
    "#make into dataframe\n",
    "sex = list(animalmeta.Sex[mice_ind])\n",
    "sexes = []\n",
    "seshmice = []\n",
    "seshcount = []\n",
    "seshage = []\n",
    "for m, session in zip(mice, sessions):\n",
    "    center = rewarda_centers[np.where(mice == m)[0][0]]\n",
    "    msex = sex[np.where(mice == m)[0][0]]\n",
    "    age =  np.array(animalmeta.loc[(animalmeta.Animal_ID == m),'Age_Group'])\n",
    "    totalsesh = len(session)\n",
    "    \n",
    "    for i, s in enumerate(session):\n",
    "        sexes = np.append(sexes, msex)\n",
    "        seshmice = np.append(seshmice, m)\n",
    "        seshcount = np.append(seshcount, (i + 1))\n",
    "        seshage = np.append(seshage, age)\n",
    "\n",
    "# Collect all relevant data into pandas dataframe\n",
    "allidx = np.concatenate((y_sind10grid,ma_sind10grid,age_sind10grid))\n",
    "Animal_ID = list(seshmice[allidx])\n",
    "Session = list(seshcount[allidx])\n",
    "Sex = list(sexes[allidx])\n",
    "Age_Group = list(seshage[allidx])\n",
    "CorrFB = list(scorrfb[allidx])\n",
    "\n",
    "tuples = list(zip(Animal_ID, Session, Sex, Age_Group, CorrFB))\n",
    "tuples\n",
    "\n",
    "df = pd.DataFrame(tuples, columns = ['AnimalID', 'Session', 'Sex', 'AgeGroup','CorrFB'])\n",
    "df = df.dropna(axis = 0)\n",
    "\n",
    "#run post hoc tests\n",
    "ph.posthoc_conover(df, val_col = 'CorrFB', group_col = 'AgeGroup', p_adjust = 'holm')"
   ]
  },
  {
   "cell_type": "markdown",
   "id": "d135ff22",
   "metadata": {},
   "source": [
    "# Compare heterogeneity of grid network spatial information in context-matched task epochs across age groups (Figure S5G-H).\n",
    "\n",
    "Here, we use a circular position decoder to compare accuracy of position decoding score when trained/tested on grid network activity from different pairs of Split Maze task epochs (e.g. Train on Block A and Test on Block A vs. Block B). If remapping is occuring between epochs, grid network spatial information should heterogenous across epochs, resulting in better decoder performance when trained / tested on the same epoch vs. a different one. Similarly, decoders trained/tested on context-matched epochs should outperform those trained/tested on context-mismatched epochs if grid network spatial information is more homogenous across context-matched epochs. The goal of this analysis was to verify these expectations about grid network information content across Split Maze task epochs. "
   ]
  },
  {
   "cell_type": "code",
   "execution_count": 34,
   "id": "d506e79e",
   "metadata": {},
   "outputs": [],
   "source": [
    "''' DECODER ANALYSIS '''\n",
    "import scipy.stats \n",
    "from scipy.ndimage import gaussian_filter1d\n",
    "normcdf = scipy.stats.norm.cdf\n",
    "normpdf = scipy.stats.norm.pdf\n",
    "\n",
    "SMOOTHNESS = 10.0\n",
    "REGULARIZATION = 1e-4\n",
    "\n",
    "## REGRESSION MODEL ##\n",
    "\n",
    "from scipy.linalg import cho_factor, cho_solve\n",
    "from sklearn.base import BaseEstimator\n",
    "\n",
    "class CircularRegression(BaseEstimator):\n",
    "    \n",
    "    def __init__(self, alpha=0.0, tol=1e-5, max_iter=100):\n",
    "        self.alpha = alpha\n",
    "        self.tol = tol\n",
    "        self.max_iter = max_iter\n",
    "    \n",
    "    def fit(self, X, y):\n",
    "        \"\"\"\n",
    "        Parameters\n",
    "        ----------\n",
    "        X : array\n",
    "            Independent variables, has shape (n_timepoints x n_neurons)\n",
    "        y : array\n",
    "            Circular dependent variable, has shape (n_timepoints x 1),\n",
    "            all data should lie on the interval [-pi, +pi].\n",
    "        \"\"\"\n",
    "        \n",
    "        # Convert 1d circular variable to 2d representation\n",
    "        u = np.column_stack([np.sin(y), np.cos(y)])\n",
    "\n",
    "        # Randomly initialize weights. Ensure scaling does\n",
    "        W = np.random.randn(X.shape[1], 2)\n",
    "        W /= np.max(np.sum(np.abs(X @ W), axis=1))\n",
    "        \n",
    "        # Cache neuron x neuron gram matrix. This is used below\n",
    "        # in the M-step to solve a linear least squares problem\n",
    "        # in the form inv(XtX) @ XtY. Add regularization term to\n",
    "        # the diagonal.\n",
    "        XtX = X.T @ X\n",
    "        XtX[np.diag_indices_from(XtX)] += self.alpha\n",
    "        XtX = cho_factor(XtX)\n",
    "\n",
    "        # Compute model prediction in 2d space, and projection onto\n",
    "        # each observed u.\n",
    "        XW = (X @ W)\n",
    "        t = np.sum(u * XW, axis=1)\n",
    "        tcdf = normcdf(t)\n",
    "        tpdf = normpdf(t)\n",
    "\n",
    "        self.log_like_hist_ = [\n",
    "            np.log(2 * np.pi) - \n",
    "            0.5 * np.mean(np.sum(XW * XW, axis=1), axis=0) +\n",
    "            np.mean(np.log(1 + t * tcdf / tpdf))\n",
    "        ]\n",
    "\n",
    "        for itr in range(self.max_iter):\n",
    "\n",
    "            # E-step.\n",
    "            m = t + (tcdf / ((tpdf + t * tcdf)))\n",
    "            XtY = X.T @ (m[:, None] * u)\n",
    "\n",
    "            # M-step.\n",
    "            W = cho_solve(XtX, XtY)\n",
    "            \n",
    "            # Recompute model prediction.\n",
    "            XW = X @ W\n",
    "            t = np.sum(u * XW, axis=1)\n",
    "            tcdf = normcdf(t)\n",
    "            tpdf = normpdf(t)\n",
    "\n",
    "            # Store log-likelihood.\n",
    "            self.log_like_hist_.append(\n",
    "                np.log(2 * np.pi) - \n",
    "                0.5 * np.mean(np.sum(XW * XW, axis=1), axis=0) +\n",
    "                np.mean(np.log(1 + t * tcdf / tpdf))\n",
    "            )\n",
    "            \n",
    "            # Check convergence.\n",
    "            if (self.log_like_hist_[-1] - self.log_like_hist_[-2]) < self.tol:\n",
    "                break\n",
    "    \n",
    "        self.weights_ = W\n",
    "    \n",
    "    def predict(self, X):\n",
    "        u_pred = X @ self.weights_\n",
    "        return np.arctan2(u_pred[:, 0], u_pred[:, 1])\n",
    "\n",
    "    def score(self, X, y):\n",
    "        \"\"\"\n",
    "        Returns 1 minus mean angular similarity between y and model prediction.\n",
    "        \n",
    "        score == 1 for perfect prediction\n",
    "        score == 0 in expectation for random prediction\n",
    "        score == -1 if prediction is off by 180 degrees.\n",
    "        \"\"\"\n",
    "        y_pred = self.predict(X)\n",
    "        return np.mean(np.cos(y - y_pred))"
   ]
  },
  {
   "cell_type": "code",
   "execution_count": 35,
   "id": "bdf38474",
   "metadata": {},
   "outputs": [],
   "source": [
    "'''Define Function to Split Train & Test Blocks'''\n",
    "def train_vs_test_blocks(X, y, train_data_idx, test_data_idx, n_repeats=10, train_pct=0.9):\n",
    "    test_scores = []    \n",
    "    test_folds = np.array_split(test_data_idx, n_repeats)\n",
    "\n",
    "    for i in range(n_repeats):        \n",
    "        # Get train and test indices\n",
    "        test_idx = test_folds[i]\n",
    "        train_idx = np.random.choice(np.setdiff1d(train_data_idx, test_idx),\n",
    "                                     replace=False, size=int(train_data_idx.size * train_pct))\n",
    "\n",
    "        # Train model\n",
    "        model.fit(X[train_idx], y[train_idx])\n",
    "\n",
    "        # Compute test error\n",
    "        test_scores.append(model.score(X[test_idx], y[test_idx]))\n",
    "        \n",
    "    return np.asarray(test_scores)"
   ]
  },
  {
   "cell_type": "code",
   "execution_count": 36,
   "id": "28f509b8",
   "metadata": {},
   "outputs": [
    {
     "data": {
      "application/vnd.jupyter.widget-view+json": {
       "model_id": "d7bd7569d01244ec9bb780b6a1c6453d",
       "version_major": 2,
       "version_minor": 0
      },
      "text/plain": [
       "  0%|          | 0/3 [00:00<?, ?it/s]"
      ]
     },
     "metadata": {},
     "output_type": "display_data"
    },
    {
     "data": {
      "application/vnd.jupyter.widget-view+json": {
       "model_id": "a077a29f7c124a7aa3f1bc6b8674acd4",
       "version_major": 2,
       "version_minor": 0
      },
      "text/plain": [
       "  0%|          | 0/6 [00:00<?, ?it/s]"
      ]
     },
     "metadata": {},
     "output_type": "display_data"
    },
    {
     "data": {
      "application/vnd.jupyter.widget-view+json": {
       "model_id": "57f28ef92fd64ae6876f747feb3e8692",
       "version_major": 2,
       "version_minor": 0
      },
      "text/plain": [
       "  0%|          | 0/4 [00:00<?, ?it/s]"
      ]
     },
     "metadata": {},
     "output_type": "display_data"
    },
    {
     "data": {
      "application/vnd.jupyter.widget-view+json": {
       "model_id": "8b67a4adc7864f56a2a2c07b95b4f4a4",
       "version_major": 2,
       "version_minor": 0
      },
      "text/plain": [
       "  0%|          | 0/6 [00:00<?, ?it/s]"
      ]
     },
     "metadata": {},
     "output_type": "display_data"
    },
    {
     "data": {
      "application/vnd.jupyter.widget-view+json": {
       "model_id": "a29f810908e240419d3dddf77bb8773f",
       "version_major": 2,
       "version_minor": 0
      },
      "text/plain": [
       "  0%|          | 0/6 [00:00<?, ?it/s]"
      ]
     },
     "metadata": {},
     "output_type": "display_data"
    },
    {
     "data": {
      "application/vnd.jupyter.widget-view+json": {
       "model_id": "3485f5ac4e7a4c2caa3a5fafc80a1ceb",
       "version_major": 2,
       "version_minor": 0
      },
      "text/plain": [
       "  0%|          | 0/6 [00:00<?, ?it/s]"
      ]
     },
     "metadata": {},
     "output_type": "display_data"
    },
    {
     "data": {
      "application/vnd.jupyter.widget-view+json": {
       "model_id": "8860629a417c4b0999821b9486194b0d",
       "version_major": 2,
       "version_minor": 0
      },
      "text/plain": [
       "  0%|          | 0/6 [00:00<?, ?it/s]"
      ]
     },
     "metadata": {},
     "output_type": "display_data"
    },
    {
     "data": {
      "application/vnd.jupyter.widget-view+json": {
       "model_id": "f2881ee12fef45089b671cb16f18dfe1",
       "version_major": 2,
       "version_minor": 0
      },
      "text/plain": [
       "  0%|          | 0/6 [00:00<?, ?it/s]"
      ]
     },
     "metadata": {},
     "output_type": "display_data"
    },
    {
     "data": {
      "application/vnd.jupyter.widget-view+json": {
       "model_id": "dd47bcc222c04b7c8a6e7d05e353234e",
       "version_major": 2,
       "version_minor": 0
      },
      "text/plain": [
       "  0%|          | 0/6 [00:00<?, ?it/s]"
      ]
     },
     "metadata": {},
     "output_type": "display_data"
    },
    {
     "data": {
      "application/vnd.jupyter.widget-view+json": {
       "model_id": "f4f2fceda7cf4377bb75de8494689965",
       "version_major": 2,
       "version_minor": 0
      },
      "text/plain": [
       "  0%|          | 0/6 [00:00<?, ?it/s]"
      ]
     },
     "metadata": {},
     "output_type": "display_data"
    },
    {
     "data": {
      "application/vnd.jupyter.widget-view+json": {
       "model_id": "eddc14a447154e5da38bf24172a73719",
       "version_major": 2,
       "version_minor": 0
      },
      "text/plain": [
       "  0%|          | 0/6 [00:00<?, ?it/s]"
      ]
     },
     "metadata": {},
     "output_type": "display_data"
    },
    {
     "data": {
      "application/vnd.jupyter.widget-view+json": {
       "model_id": "d2f9f5aa34e7422bbcd5b810b2beb288",
       "version_major": 2,
       "version_minor": 0
      },
      "text/plain": [
       "  0%|          | 0/6 [00:00<?, ?it/s]"
      ]
     },
     "metadata": {},
     "output_type": "display_data"
    },
    {
     "data": {
      "application/vnd.jupyter.widget-view+json": {
       "model_id": "e61a26415cd54f79bafde891b2e0de15",
       "version_major": 2,
       "version_minor": 0
      },
      "text/plain": [
       "  0%|          | 0/6 [00:00<?, ?it/s]"
      ]
     },
     "metadata": {},
     "output_type": "display_data"
    },
    {
     "data": {
      "application/vnd.jupyter.widget-view+json": {
       "model_id": "f15af26573a34a4fa72eb654d2dbb2f0",
       "version_major": 2,
       "version_minor": 0
      },
      "text/plain": [
       "  0%|          | 0/6 [00:00<?, ?it/s]"
      ]
     },
     "metadata": {},
     "output_type": "display_data"
    },
    {
     "data": {
      "application/vnd.jupyter.widget-view+json": {
       "model_id": "dac3d64dfb624ec0a19e99c197f38085",
       "version_major": 2,
       "version_minor": 0
      },
      "text/plain": [
       "  0%|          | 0/6 [00:00<?, ?it/s]"
      ]
     },
     "metadata": {},
     "output_type": "display_data"
    },
    {
     "data": {
      "application/vnd.jupyter.widget-view+json": {
       "model_id": "82beac3fcb864dcc877baabe6e8db04a",
       "version_major": 2,
       "version_minor": 0
      },
      "text/plain": [
       "  0%|          | 0/6 [00:00<?, ?it/s]"
      ]
     },
     "metadata": {},
     "output_type": "display_data"
    },
    {
     "data": {
      "application/vnd.jupyter.widget-view+json": {
       "model_id": "06bdac0647d946859d4c3e0a26174913",
       "version_major": 2,
       "version_minor": 0
      },
      "text/plain": [
       "  0%|          | 0/6 [00:00<?, ?it/s]"
      ]
     },
     "metadata": {},
     "output_type": "display_data"
    },
    {
     "data": {
      "application/vnd.jupyter.widget-view+json": {
       "model_id": "8ff28efd9faf48f2aba603fae400c848",
       "version_major": 2,
       "version_minor": 0
      },
      "text/plain": [
       "  0%|          | 0/4 [00:00<?, ?it/s]"
      ]
     },
     "metadata": {},
     "output_type": "display_data"
    },
    {
     "data": {
      "application/vnd.jupyter.widget-view+json": {
       "model_id": "7f57aaab667c4231bca8cdc030cf23e5",
       "version_major": 2,
       "version_minor": 0
      },
      "text/plain": [
       "  0%|          | 0/6 [00:00<?, ?it/s]"
      ]
     },
     "metadata": {},
     "output_type": "display_data"
    },
    {
     "data": {
      "application/vnd.jupyter.widget-view+json": {
       "model_id": "9e7610af412a47108adaffa3f36685c4",
       "version_major": 2,
       "version_minor": 0
      },
      "text/plain": [
       "  0%|          | 0/6 [00:00<?, ?it/s]"
      ]
     },
     "metadata": {},
     "output_type": "display_data"
    },
    {
     "data": {
      "application/vnd.jupyter.widget-view+json": {
       "model_id": "f5851129589144e282c88b9543bed397",
       "version_major": 2,
       "version_minor": 0
      },
      "text/plain": [
       "  0%|          | 0/6 [00:00<?, ?it/s]"
      ]
     },
     "metadata": {},
     "output_type": "display_data"
    },
    {
     "data": {
      "application/vnd.jupyter.widget-view+json": {
       "model_id": "5bc4d88a3a3c4374b0c1607bb1d366c3",
       "version_major": 2,
       "version_minor": 0
      },
      "text/plain": [
       "  0%|          | 0/6 [00:00<?, ?it/s]"
      ]
     },
     "metadata": {},
     "output_type": "display_data"
    },
    {
     "data": {
      "application/vnd.jupyter.widget-view+json": {
       "model_id": "41e6ba91724c470b8833437a6e02fda9",
       "version_major": 2,
       "version_minor": 0
      },
      "text/plain": [
       "  0%|          | 0/6 [00:00<?, ?it/s]"
      ]
     },
     "metadata": {},
     "output_type": "display_data"
    },
    {
     "data": {
      "application/vnd.jupyter.widget-view+json": {
       "model_id": "bd8666d941f54c78ab4bfed987185895",
       "version_major": 2,
       "version_minor": 0
      },
      "text/plain": [
       "  0%|          | 0/6 [00:00<?, ?it/s]"
      ]
     },
     "metadata": {},
     "output_type": "display_data"
    },
    {
     "data": {
      "application/vnd.jupyter.widget-view+json": {
       "model_id": "bd362821a316489fbb689749f3805d4e",
       "version_major": 2,
       "version_minor": 0
      },
      "text/plain": [
       "  0%|          | 0/6 [00:00<?, ?it/s]"
      ]
     },
     "metadata": {},
     "output_type": "display_data"
    },
    {
     "data": {
      "application/vnd.jupyter.widget-view+json": {
       "model_id": "ba3522e1f9d94c279f69688ea84f7aae",
       "version_major": 2,
       "version_minor": 0
      },
      "text/plain": [
       "  0%|          | 0/6 [00:00<?, ?it/s]"
      ]
     },
     "metadata": {},
     "output_type": "display_data"
    },
    {
     "data": {
      "application/vnd.jupyter.widget-view+json": {
       "model_id": "fa63b2b80b7b48b0852a766428b9eb4c",
       "version_major": 2,
       "version_minor": 0
      },
      "text/plain": [
       "  0%|          | 0/6 [00:00<?, ?it/s]"
      ]
     },
     "metadata": {},
     "output_type": "display_data"
    },
    {
     "data": {
      "application/vnd.jupyter.widget-view+json": {
       "model_id": "17d077dab9c84648a4b8c753672b7b18",
       "version_major": 2,
       "version_minor": 0
      },
      "text/plain": [
       "  0%|          | 0/6 [00:00<?, ?it/s]"
      ]
     },
     "metadata": {},
     "output_type": "display_data"
    },
    {
     "data": {
      "application/vnd.jupyter.widget-view+json": {
       "model_id": "10aa0dc4cafe4b20b2e351df9062e67b",
       "version_major": 2,
       "version_minor": 0
      },
      "text/plain": [
       "  0%|          | 0/6 [00:00<?, ?it/s]"
      ]
     },
     "metadata": {},
     "output_type": "display_data"
    }
   ],
   "source": [
    "''' Get X (instantaneous FR of grid cells) and y (circular position)'''\n",
    "\n",
    "dt = 0.02\n",
    "track_len = 400\n",
    "\n",
    "for m, session in zip(mice, sessions):\n",
    "    for s in tdqm(session):\n",
    "        d = data[m][s]\n",
    "\n",
    "        #load data\n",
    "        rawdata_file = 'RAW_' + m + '_' + s + '.npy'\n",
    "        spikes_file = 'SPIKES_' + m + '_' + s +'.npy'\n",
    "        behavior_file = 'BEHAVIOR_' + m + '_' + s + '.npy'\n",
    "        \n",
    "        raw = np.load(load_folder + rawdata_file, allow_pickle=True)\n",
    "        Y = np.load(load_folder + spikes_file, allow_pickle=False) #pre-filtered for speeds >2cm/s, position-errorcorrected spikes, 20 ms timebins\n",
    "        behaviorfil = np.load(load_folder + behavior_file, allow_pickle=False)\n",
    "        \n",
    "        cell_IDs = raw.item().get('cellsfil')\n",
    "        gridcell = d['gridcell'].astype(bool)\n",
    "        gridcells = cell_IDs[gridcell]\n",
    "        \n",
    "        if len(gridcells) >= 10:\n",
    "            # convert spikes to instantaneous FR and smooth, then select only the grid cell data\n",
    "            X = Y / dt # convert spike count to FR\n",
    "            X = gaussian_filter1d(X, SMOOTHNESS, axis=0)\n",
    "\n",
    "            sdx = []\n",
    "            for i, c in enumerate(gridcells):\n",
    "                sd = (np.where(cell_IDs == c)[0][0]).astype(int)\n",
    "                sdx.append(sd)\n",
    "\n",
    "            X = X[:,sdx]\n",
    "\n",
    "            # format position s.t. 0 = -pi = +pi = 400\n",
    "            y_raw = behaviorfil[:, 0]\n",
    "            y = (y_raw / np.max(y_raw)) * 2 * np.pi - np.pi\n",
    "\n",
    "            d['X'] = X\n",
    "            d['y'] = y"
   ]
  },
  {
   "cell_type": "code",
   "execution_count": 38,
   "id": "3f710069",
   "metadata": {},
   "outputs": [
    {
     "data": {
      "application/vnd.jupyter.widget-view+json": {
       "model_id": "468679f238d54528a318d0b61b91e8b2",
       "version_major": 2,
       "version_minor": 0
      },
      "text/plain": [
       "  0%|          | 0/3 [00:00<?, ?it/s]"
      ]
     },
     "metadata": {},
     "output_type": "display_data"
    },
    {
     "data": {
      "application/vnd.jupyter.widget-view+json": {
       "model_id": "b15566c4e0dd4e35967a87fdc55aee3d",
       "version_major": 2,
       "version_minor": 0
      },
      "text/plain": [
       "  0%|          | 0/6 [00:00<?, ?it/s]"
      ]
     },
     "metadata": {},
     "output_type": "display_data"
    },
    {
     "data": {
      "application/vnd.jupyter.widget-view+json": {
       "model_id": "1b23e6eed12f42ee9c069d73cd915e05",
       "version_major": 2,
       "version_minor": 0
      },
      "text/plain": [
       "  0%|          | 0/4 [00:00<?, ?it/s]"
      ]
     },
     "metadata": {},
     "output_type": "display_data"
    },
    {
     "data": {
      "application/vnd.jupyter.widget-view+json": {
       "model_id": "ebf527a020ce411a87ee3876734db3ee",
       "version_major": 2,
       "version_minor": 0
      },
      "text/plain": [
       "  0%|          | 0/6 [00:00<?, ?it/s]"
      ]
     },
     "metadata": {},
     "output_type": "display_data"
    },
    {
     "data": {
      "application/vnd.jupyter.widget-view+json": {
       "model_id": "3162a1c6594f4baf89f39bd804ced555",
       "version_major": 2,
       "version_minor": 0
      },
      "text/plain": [
       "  0%|          | 0/6 [00:00<?, ?it/s]"
      ]
     },
     "metadata": {},
     "output_type": "display_data"
    },
    {
     "data": {
      "application/vnd.jupyter.widget-view+json": {
       "model_id": "b5b2fd8303bc4752ba9d314f788ba470",
       "version_major": 2,
       "version_minor": 0
      },
      "text/plain": [
       "  0%|          | 0/6 [00:00<?, ?it/s]"
      ]
     },
     "metadata": {},
     "output_type": "display_data"
    },
    {
     "data": {
      "application/vnd.jupyter.widget-view+json": {
       "model_id": "77a3a819bbf842b188205c038feffcc8",
       "version_major": 2,
       "version_minor": 0
      },
      "text/plain": [
       "  0%|          | 0/6 [00:00<?, ?it/s]"
      ]
     },
     "metadata": {},
     "output_type": "display_data"
    },
    {
     "name": "stdout",
     "output_type": "stream",
     "text": [
      "A20013123_record6 did not reach gain change\n"
     ]
    },
    {
     "data": {
      "application/vnd.jupyter.widget-view+json": {
       "model_id": "0dc3e02b42e0416d843de0ca952dac99",
       "version_major": 2,
       "version_minor": 0
      },
      "text/plain": [
       "  0%|          | 0/6 [00:00<?, ?it/s]"
      ]
     },
     "metadata": {},
     "output_type": "display_data"
    },
    {
     "data": {
      "application/vnd.jupyter.widget-view+json": {
       "model_id": "a65b2d7b36df461082f58f2ee3c555f5",
       "version_major": 2,
       "version_minor": 0
      },
      "text/plain": [
       "  0%|          | 0/6 [00:00<?, ?it/s]"
      ]
     },
     "metadata": {},
     "output_type": "display_data"
    },
    {
     "data": {
      "application/vnd.jupyter.widget-view+json": {
       "model_id": "240a7ed017fa4a648e1477f757626725",
       "version_major": 2,
       "version_minor": 0
      },
      "text/plain": [
       "  0%|          | 0/6 [00:00<?, ?it/s]"
      ]
     },
     "metadata": {},
     "output_type": "display_data"
    },
    {
     "data": {
      "application/vnd.jupyter.widget-view+json": {
       "model_id": "09d035c9f57b4fd9859f362b761fd6b6",
       "version_major": 2,
       "version_minor": 0
      },
      "text/plain": [
       "  0%|          | 0/6 [00:00<?, ?it/s]"
      ]
     },
     "metadata": {},
     "output_type": "display_data"
    },
    {
     "data": {
      "application/vnd.jupyter.widget-view+json": {
       "model_id": "a8ae030541734c2892b84196c0d79d3f",
       "version_major": 2,
       "version_minor": 0
      },
      "text/plain": [
       "  0%|          | 0/6 [00:00<?, ?it/s]"
      ]
     },
     "metadata": {},
     "output_type": "display_data"
    },
    {
     "data": {
      "application/vnd.jupyter.widget-view+json": {
       "model_id": "e912482294af4fc7b55c45a87c9a7aa5",
       "version_major": 2,
       "version_minor": 0
      },
      "text/plain": [
       "  0%|          | 0/6 [00:00<?, ?it/s]"
      ]
     },
     "metadata": {},
     "output_type": "display_data"
    },
    {
     "data": {
      "application/vnd.jupyter.widget-view+json": {
       "model_id": "2beea0bca1c54190a89f11414642d30b",
       "version_major": 2,
       "version_minor": 0
      },
      "text/plain": [
       "  0%|          | 0/6 [00:00<?, ?it/s]"
      ]
     },
     "metadata": {},
     "output_type": "display_data"
    },
    {
     "data": {
      "application/vnd.jupyter.widget-view+json": {
       "model_id": "52dbaf54e69642a29a5f3c4f25150df5",
       "version_major": 2,
       "version_minor": 0
      },
      "text/plain": [
       "  0%|          | 0/6 [00:00<?, ?it/s]"
      ]
     },
     "metadata": {},
     "output_type": "display_data"
    },
    {
     "data": {
      "application/vnd.jupyter.widget-view+json": {
       "model_id": "b193d1727ba946a29b7ebfafbb5aa128",
       "version_major": 2,
       "version_minor": 0
      },
      "text/plain": [
       "  0%|          | 0/6 [00:00<?, ?it/s]"
      ]
     },
     "metadata": {},
     "output_type": "display_data"
    },
    {
     "data": {
      "application/vnd.jupyter.widget-view+json": {
       "model_id": "ceb6f019d9f5443d8ee6b1f8df46aa99",
       "version_major": 2,
       "version_minor": 0
      },
      "text/plain": [
       "  0%|          | 0/6 [00:00<?, ?it/s]"
      ]
     },
     "metadata": {},
     "output_type": "display_data"
    },
    {
     "data": {
      "application/vnd.jupyter.widget-view+json": {
       "model_id": "cdd283e05b9f4fda9e5994962c5477b9",
       "version_major": 2,
       "version_minor": 0
      },
      "text/plain": [
       "  0%|          | 0/4 [00:00<?, ?it/s]"
      ]
     },
     "metadata": {},
     "output_type": "display_data"
    },
    {
     "data": {
      "application/vnd.jupyter.widget-view+json": {
       "model_id": "aa9c61f930884507a8ad50ab648787b4",
       "version_major": 2,
       "version_minor": 0
      },
      "text/plain": [
       "  0%|          | 0/6 [00:00<?, ?it/s]"
      ]
     },
     "metadata": {},
     "output_type": "display_data"
    },
    {
     "data": {
      "application/vnd.jupyter.widget-view+json": {
       "model_id": "aacdb94b49414bdabacef70f36c3272e",
       "version_major": 2,
       "version_minor": 0
      },
      "text/plain": [
       "  0%|          | 0/6 [00:00<?, ?it/s]"
      ]
     },
     "metadata": {},
     "output_type": "display_data"
    },
    {
     "data": {
      "application/vnd.jupyter.widget-view+json": {
       "model_id": "ec48f0d0d949412983c02199531dbdff",
       "version_major": 2,
       "version_minor": 0
      },
      "text/plain": [
       "  0%|          | 0/6 [00:00<?, ?it/s]"
      ]
     },
     "metadata": {},
     "output_type": "display_data"
    },
    {
     "data": {
      "application/vnd.jupyter.widget-view+json": {
       "model_id": "3cac84d7407943809b451bcaa036c1a5",
       "version_major": 2,
       "version_minor": 0
      },
      "text/plain": [
       "  0%|          | 0/6 [00:00<?, ?it/s]"
      ]
     },
     "metadata": {},
     "output_type": "display_data"
    },
    {
     "data": {
      "application/vnd.jupyter.widget-view+json": {
       "model_id": "51b9263cea76402a8cdc1dc7734253db",
       "version_major": 2,
       "version_minor": 0
      },
      "text/plain": [
       "  0%|          | 0/6 [00:00<?, ?it/s]"
      ]
     },
     "metadata": {},
     "output_type": "display_data"
    },
    {
     "data": {
      "application/vnd.jupyter.widget-view+json": {
       "model_id": "f1685518afa547688e6adaf1d328a698",
       "version_major": 2,
       "version_minor": 0
      },
      "text/plain": [
       "  0%|          | 0/6 [00:00<?, ?it/s]"
      ]
     },
     "metadata": {},
     "output_type": "display_data"
    },
    {
     "data": {
      "application/vnd.jupyter.widget-view+json": {
       "model_id": "86ba488d0777429389cadb58628d1b01",
       "version_major": 2,
       "version_minor": 0
      },
      "text/plain": [
       "  0%|          | 0/6 [00:00<?, ?it/s]"
      ]
     },
     "metadata": {},
     "output_type": "display_data"
    },
    {
     "data": {
      "application/vnd.jupyter.widget-view+json": {
       "model_id": "300e2b7a0f0e48628d780af6b9989b53",
       "version_major": 2,
       "version_minor": 0
      },
      "text/plain": [
       "  0%|          | 0/6 [00:00<?, ?it/s]"
      ]
     },
     "metadata": {},
     "output_type": "display_data"
    },
    {
     "data": {
      "application/vnd.jupyter.widget-view+json": {
       "model_id": "0a131217c48c48a2ade0e1731668b5b5",
       "version_major": 2,
       "version_minor": 0
      },
      "text/plain": [
       "  0%|          | 0/6 [00:00<?, ?it/s]"
      ]
     },
     "metadata": {},
     "output_type": "display_data"
    },
    {
     "data": {
      "application/vnd.jupyter.widget-view+json": {
       "model_id": "8dee73d2ad944740a5da4684b8dfb2f7",
       "version_major": 2,
       "version_minor": 0
      },
      "text/plain": [
       "  0%|          | 0/6 [00:00<?, ?it/s]"
      ]
     },
     "metadata": {},
     "output_type": "display_data"
    },
    {
     "data": {
      "application/vnd.jupyter.widget-view+json": {
       "model_id": "6aa561ecda754d3da46dc8fe31c02317",
       "version_major": 2,
       "version_minor": 0
      },
      "text/plain": [
       "  0%|          | 0/6 [00:00<?, ?it/s]"
      ]
     },
     "metadata": {},
     "output_type": "display_data"
    }
   ],
   "source": [
    "''' Find & save binary map indices corresponding to quarters of the task sorted by context, making sure skipped trials are excluded''' \n",
    "\n",
    "for m, session in zip(mice,sessions):\n",
    "    for s in tdqm(session):\n",
    "        d = data[m][s]\n",
    "        \n",
    "        #load data\n",
    "        rawdata_file = 'RAW_' + m + '_' + s + '.npy'\n",
    "        behavior_file = 'BEHAVIOR_' + m + '_' + s + '.npy'\n",
    "        \n",
    "        raw = np.load(load_folder + rawdata_file, allow_pickle=True)\n",
    "        behaviorfil = np.load(load_folder + behavior_file, allow_pickle=False)        \n",
    "        posx = behaviorfil[:,0]\n",
    "        trial = behaviorfil[:,2]\n",
    "        \n",
    "        #find context A / B trials in alternation, removing skipped trials\n",
    "        trialinfo = raw.item().get('trialinfo')\n",
    "        left = trialinfo['left']\n",
    "               \n",
    "        A_trials = np.where((left == 1))[0]\n",
    "        Atrials = list(A_trials[(A_trials >= 20) & (A_trials < 140)])\n",
    "        A_trials = list(A_trials[A_trials >= 140])\n",
    "        B_trials = np.where((left == 0))[0]\n",
    "        Btrials = list(B_trials[(B_trials >= 20) & (B_trials < 140)])\n",
    "        B_trials = list(B_trials[B_trials >= 140])\n",
    "    \n",
    "        # Find skipped trials\n",
    "        try:\n",
    "            _ = raw.item().get('correctedtrial').shape\n",
    "            skippedtrials = get.find_skipped(trial, max_trial_num = 220)\n",
    "        except:\n",
    "            skippedtrials = []\n",
    "            \n",
    "        for n, t in enumerate(skippedtrials):\n",
    "            if t in A_trials:\n",
    "                A_trials.remove(t)\n",
    "            elif t in B_trials:\n",
    "                B_trials.remove(t)\n",
    "            elif t in Atrials:\n",
    "                Atrials.remove(t)\n",
    "            elif t in Btrials: \n",
    "                Btrials.remove(t)\n",
    "            else:\n",
    "                pass\n",
    "    \n",
    "        Aidx = np.zeros_like(trial)\n",
    "        Bidx = np.zeros_like(trial)\n",
    "        A_idx = np.zeros_like(trial)\n",
    "        B_idx = np.zeros_like(trial)\n",
    "        \n",
    "        for t in Atrials:\n",
    "            Aidx[trial == t] = 1 \n",
    "        \n",
    "        for t in Btrials:\n",
    "            Bidx[trial == t] = 1 \n",
    "        \n",
    "        for t in A_trials:\n",
    "            A_idx[trial == t] = 1 \n",
    "        \n",
    "        for t in B_trials:\n",
    "            B_idx[trial == t] = 1 \n",
    "        \n",
    "        Aidx = Aidx.astype(int)\n",
    "        Bidx = Bidx.astype(int)\n",
    "        A_idx = A_idx.astype(int)\n",
    "        B_idx = B_idx.astype(int)\n",
    "            \n",
    "        #save indices for session section\n",
    "        d['Aidx'] = Aidx\n",
    "        d['Bidx'] = Bidx\n",
    "        d['A_idx'] = A_idx\n",
    "        d['B_idx'] = B_idx\n",
    "                \n",
    "        # get non-gain change A' and B' indices \n",
    "        gain = trialinfo['gain']\n",
    "        \n",
    "        #check if mouse reached gain period; if not append NaN to all arrays & continue \n",
    "        if len(gain) < 200:\n",
    "            print(str(m) + str(s) + ' did not reach gain change')\n",
    "            \n",
    "            d['A_ngidx'] = A_idx\n",
    "            d['B_ngidx'] = B_idx\n",
    "            \n",
    "            continue \n",
    "            \n",
    "        #get count of gain in each context & select equal number of last Context A or B alt trials before gain\n",
    "        gain_trials = np.where((gain == 0.7))[0]\n",
    "        gain_trials = list(gain_trials)\n",
    "\n",
    "        Agtrials = np.intersect1d(A_trials, np.asarray(gain_trials))\n",
    "        Agtrials = list(np.sort(Agtrials.astype(int)))\n",
    "        Bgtrials = np.intersect1d(B_trials, np.asarray(gain_trials))                   \n",
    "        Bgtrials = list(np.sort(Bgtrials.astype(int)))\n",
    "    \n",
    "        #reset indices of gain change trials to 0\n",
    "        A_ngidx = A_idx\n",
    "        B_ngidx = B_idx\n",
    "        \n",
    "        for t in Agtrials:\n",
    "            A_ngidx[trial == t] = 0 \n",
    "            \n",
    "        for t in Bgtrials:\n",
    "            B_ngidx[trial == t] = 0 \n",
    "        \n",
    "        A_ngidx = A_ngidx.astype(int)\n",
    "        B_ngidx = B_ngidx.astype(int)\n",
    "        \n",
    "        d['A_ngidx'] = A_ngidx\n",
    "        d['B_ngidx'] = B_ngidx\n",
    "        \n",
    "        #check if capturing indices correctly\n",
    "        #print(len(trial[(trial >= 20) & (trial < 200)]))\n",
    "        #print(np.sum(Aidx) + np.sum(Bidx) + np.sum(A_ngidx) + np.sum(B_ngidx))\n",
    "        "
   ]
  },
  {
   "cell_type": "code",
   "execution_count": 39,
   "id": "7676461d",
   "metadata": {},
   "outputs": [],
   "source": [
    "''' Downsample to Match Speed and Num Observations (A vs A')'''\n",
    "for m, session in zip(mice, sessions):\n",
    "    for s in session:\n",
    "        d = data[m][s]\n",
    "        \n",
    "        #load data\n",
    "        rawdata_file = 'RAW_' + m + '_' + s + '.npy'\n",
    "        behavior_file = 'BEHAVIOR_' + m + '_' + s + '.npy'\n",
    "        \n",
    "        raw = np.load(load_folder + rawdata_file, allow_pickle=True)\n",
    "        behaviorfil = np.load(load_folder + behavior_file, allow_pickle=False)\n",
    "        \n",
    "        cell_IDs = raw.item().get('cellsfil')\n",
    "        gridcell = d['gridcell'].astype(bool)\n",
    "        gridcells = cell_IDs[gridcell]\n",
    "        \n",
    "        if len(gridcells) >= 10:\n",
    "            speed = behaviorfil[:, 1]\n",
    "            y = d['y']\n",
    "            map0_idx = d['Aidx']\n",
    "            map1_idx = d['A_ngidx']\n",
    "\n",
    "            # bin speed into 10cm/s bins\n",
    "            edges = np.arange(10, np.max(speed), 10)\n",
    "            speed_idx = np.digitize(speed, edges)\n",
    "\n",
    "            # get indices for each map's observations\n",
    "            obs_0 = np.arange(y.shape[0])[map0_idx]\n",
    "            obs_1 = np.arange(y.shape[0])[map1_idx]\n",
    "\n",
    "            # array to hold indices for downsampling\n",
    "            ds_0 = np.asarray([]) # array to hold indices for downsampling map 0\n",
    "            ds_1 = np.asarray([]) # array to hold indices for downsampling map 1\n",
    "\n",
    "            # match occupancy of each bin for each map\n",
    "            bins, ct = np.unique(speed_idx, return_counts=True)\n",
    "            for b in bins:\n",
    "                occupancy_0 = np.sum(map0_idx[speed_idx == b])\n",
    "                occupancy_1 = np.sum(map1_idx[speed_idx == b])  \n",
    "                idx_0 = np.where(map0_idx & (speed_idx == b))[0]\n",
    "                idx_1 = np.where(map1_idx & (speed_idx == b))[0]\n",
    "\n",
    "                if occupancy_0 > occupancy_1:\n",
    "                    # need to downsample map 0 for this speed bin\n",
    "                    n_timepts = occupancy_1        \n",
    "                    ds_0 = np.append(ds_0, np.random.choice(idx_0, n_timepts, replace=False))\n",
    "                    ds_1 = np.append(ds_1, idx_1)\n",
    "                else:\n",
    "                    # need to downsample map 1 for this speed bin\n",
    "                    n_timepts = occupancy_0\n",
    "                    ds_0 = np.append(ds_0, idx_0)\n",
    "                    ds_1 = np.append(ds_1, np.random.choice(idx_1, n_timepts, replace=False)) \n",
    "            ds_0 = ds_0.astype(int)\n",
    "            ds_1 = ds_1.astype(int)\n",
    "\n",
    "            d['ds_idx'] = np.row_stack((ds_0, ds_1))"
   ]
  },
  {
   "cell_type": "code",
   "execution_count": 40,
   "id": "3e27fc0d",
   "metadata": {},
   "outputs": [
    {
     "data": {
      "application/vnd.jupyter.widget-view+json": {
       "model_id": "d2d35304df4743b0abc66d019e730736",
       "version_major": 2,
       "version_minor": 0
      },
      "text/plain": [
       "  0%|          | 0/3 [00:00<?, ?it/s]"
      ]
     },
     "metadata": {},
     "output_type": "display_data"
    },
    {
     "data": {
      "application/vnd.jupyter.widget-view+json": {
       "model_id": "dff2a5c5ed4049e98a6cc24a5c192e1d",
       "version_major": 2,
       "version_minor": 0
      },
      "text/plain": [
       "  0%|          | 0/6 [00:00<?, ?it/s]"
      ]
     },
     "metadata": {},
     "output_type": "display_data"
    },
    {
     "data": {
      "application/vnd.jupyter.widget-view+json": {
       "model_id": "e077136e6df94b11a1cccc8c86fdb495",
       "version_major": 2,
       "version_minor": 0
      },
      "text/plain": [
       "  0%|          | 0/4 [00:00<?, ?it/s]"
      ]
     },
     "metadata": {},
     "output_type": "display_data"
    },
    {
     "data": {
      "application/vnd.jupyter.widget-view+json": {
       "model_id": "393950266096456c8d791b8c11557928",
       "version_major": 2,
       "version_minor": 0
      },
      "text/plain": [
       "  0%|          | 0/6 [00:00<?, ?it/s]"
      ]
     },
     "metadata": {},
     "output_type": "display_data"
    },
    {
     "data": {
      "application/vnd.jupyter.widget-view+json": {
       "model_id": "f57079efb1a44c8dbdd19380978bb422",
       "version_major": 2,
       "version_minor": 0
      },
      "text/plain": [
       "  0%|          | 0/6 [00:00<?, ?it/s]"
      ]
     },
     "metadata": {},
     "output_type": "display_data"
    },
    {
     "data": {
      "application/vnd.jupyter.widget-view+json": {
       "model_id": "94beb973b61a4520aa8d8ced15a1b2f6",
       "version_major": 2,
       "version_minor": 0
      },
      "text/plain": [
       "  0%|          | 0/6 [00:00<?, ?it/s]"
      ]
     },
     "metadata": {},
     "output_type": "display_data"
    },
    {
     "data": {
      "application/vnd.jupyter.widget-view+json": {
       "model_id": "f1033ed3f371427696a74fe94e7f311e",
       "version_major": 2,
       "version_minor": 0
      },
      "text/plain": [
       "  0%|          | 0/6 [00:00<?, ?it/s]"
      ]
     },
     "metadata": {},
     "output_type": "display_data"
    },
    {
     "data": {
      "application/vnd.jupyter.widget-view+json": {
       "model_id": "79bb040b10084f77b338d9d235a8f5c1",
       "version_major": 2,
       "version_minor": 0
      },
      "text/plain": [
       "  0%|          | 0/6 [00:00<?, ?it/s]"
      ]
     },
     "metadata": {},
     "output_type": "display_data"
    },
    {
     "data": {
      "application/vnd.jupyter.widget-view+json": {
       "model_id": "18ece2f2c7254625a15276c053e6983a",
       "version_major": 2,
       "version_minor": 0
      },
      "text/plain": [
       "  0%|          | 0/6 [00:00<?, ?it/s]"
      ]
     },
     "metadata": {},
     "output_type": "display_data"
    },
    {
     "data": {
      "application/vnd.jupyter.widget-view+json": {
       "model_id": "d77745daea14459d9f586d1a07ab25a3",
       "version_major": 2,
       "version_minor": 0
      },
      "text/plain": [
       "  0%|          | 0/6 [00:00<?, ?it/s]"
      ]
     },
     "metadata": {},
     "output_type": "display_data"
    },
    {
     "data": {
      "application/vnd.jupyter.widget-view+json": {
       "model_id": "c04412a20cae4a48adeabc9cfccd2a97",
       "version_major": 2,
       "version_minor": 0
      },
      "text/plain": [
       "  0%|          | 0/6 [00:00<?, ?it/s]"
      ]
     },
     "metadata": {},
     "output_type": "display_data"
    },
    {
     "data": {
      "application/vnd.jupyter.widget-view+json": {
       "model_id": "966ce529e8cd4e75ac1d806683bce883",
       "version_major": 2,
       "version_minor": 0
      },
      "text/plain": [
       "  0%|          | 0/6 [00:00<?, ?it/s]"
      ]
     },
     "metadata": {},
     "output_type": "display_data"
    },
    {
     "data": {
      "application/vnd.jupyter.widget-view+json": {
       "model_id": "9accf067e23045ddb66d578448de75f2",
       "version_major": 2,
       "version_minor": 0
      },
      "text/plain": [
       "  0%|          | 0/6 [00:00<?, ?it/s]"
      ]
     },
     "metadata": {},
     "output_type": "display_data"
    },
    {
     "data": {
      "application/vnd.jupyter.widget-view+json": {
       "model_id": "e66a0af2659a4447b62149775262a390",
       "version_major": 2,
       "version_minor": 0
      },
      "text/plain": [
       "  0%|          | 0/6 [00:00<?, ?it/s]"
      ]
     },
     "metadata": {},
     "output_type": "display_data"
    },
    {
     "data": {
      "application/vnd.jupyter.widget-view+json": {
       "model_id": "35ce67a10f284932a44e80b739589f6e",
       "version_major": 2,
       "version_minor": 0
      },
      "text/plain": [
       "  0%|          | 0/6 [00:00<?, ?it/s]"
      ]
     },
     "metadata": {},
     "output_type": "display_data"
    },
    {
     "data": {
      "application/vnd.jupyter.widget-view+json": {
       "model_id": "15df41402e1e4512a5b4fd50ed7e4e7f",
       "version_major": 2,
       "version_minor": 0
      },
      "text/plain": [
       "  0%|          | 0/6 [00:00<?, ?it/s]"
      ]
     },
     "metadata": {},
     "output_type": "display_data"
    },
    {
     "data": {
      "application/vnd.jupyter.widget-view+json": {
       "model_id": "38cd022df5b24dbcabe6cbf875a50394",
       "version_major": 2,
       "version_minor": 0
      },
      "text/plain": [
       "  0%|          | 0/6 [00:00<?, ?it/s]"
      ]
     },
     "metadata": {},
     "output_type": "display_data"
    },
    {
     "data": {
      "application/vnd.jupyter.widget-view+json": {
       "model_id": "3f99487b833b40958224f0c9bd0fe46d",
       "version_major": 2,
       "version_minor": 0
      },
      "text/plain": [
       "  0%|          | 0/4 [00:00<?, ?it/s]"
      ]
     },
     "metadata": {},
     "output_type": "display_data"
    },
    {
     "data": {
      "application/vnd.jupyter.widget-view+json": {
       "model_id": "6f8849c770b7454dbd99a6ca51d3757f",
       "version_major": 2,
       "version_minor": 0
      },
      "text/plain": [
       "  0%|          | 0/6 [00:00<?, ?it/s]"
      ]
     },
     "metadata": {},
     "output_type": "display_data"
    },
    {
     "data": {
      "application/vnd.jupyter.widget-view+json": {
       "model_id": "a3f07eb3f8434ca998b4f38ac3ce135f",
       "version_major": 2,
       "version_minor": 0
      },
      "text/plain": [
       "  0%|          | 0/6 [00:00<?, ?it/s]"
      ]
     },
     "metadata": {},
     "output_type": "display_data"
    },
    {
     "data": {
      "application/vnd.jupyter.widget-view+json": {
       "model_id": "9a40df9ebdae4fa48829a9fd5f495f01",
       "version_major": 2,
       "version_minor": 0
      },
      "text/plain": [
       "  0%|          | 0/6 [00:00<?, ?it/s]"
      ]
     },
     "metadata": {},
     "output_type": "display_data"
    },
    {
     "data": {
      "application/vnd.jupyter.widget-view+json": {
       "model_id": "7453cf172e3942f8a7f64871aea4554e",
       "version_major": 2,
       "version_minor": 0
      },
      "text/plain": [
       "  0%|          | 0/6 [00:00<?, ?it/s]"
      ]
     },
     "metadata": {},
     "output_type": "display_data"
    },
    {
     "data": {
      "application/vnd.jupyter.widget-view+json": {
       "model_id": "dc4ef06a7574478ab9ec8d286c2e99fe",
       "version_major": 2,
       "version_minor": 0
      },
      "text/plain": [
       "  0%|          | 0/6 [00:00<?, ?it/s]"
      ]
     },
     "metadata": {},
     "output_type": "display_data"
    },
    {
     "data": {
      "application/vnd.jupyter.widget-view+json": {
       "model_id": "403777e3c7514a1c921d294fc1de1bac",
       "version_major": 2,
       "version_minor": 0
      },
      "text/plain": [
       "  0%|          | 0/6 [00:00<?, ?it/s]"
      ]
     },
     "metadata": {},
     "output_type": "display_data"
    },
    {
     "data": {
      "application/vnd.jupyter.widget-view+json": {
       "model_id": "d54f94f0458f4e7ea6aaae44f8997f23",
       "version_major": 2,
       "version_minor": 0
      },
      "text/plain": [
       "  0%|          | 0/6 [00:00<?, ?it/s]"
      ]
     },
     "metadata": {},
     "output_type": "display_data"
    },
    {
     "data": {
      "application/vnd.jupyter.widget-view+json": {
       "model_id": "94229ffb9d0b44c1b24ae5b77675d165",
       "version_major": 2,
       "version_minor": 0
      },
      "text/plain": [
       "  0%|          | 0/6 [00:00<?, ?it/s]"
      ]
     },
     "metadata": {},
     "output_type": "display_data"
    },
    {
     "data": {
      "application/vnd.jupyter.widget-view+json": {
       "model_id": "544603e6ba60479781444b94e68860a4",
       "version_major": 2,
       "version_minor": 0
      },
      "text/plain": [
       "  0%|          | 0/6 [00:00<?, ?it/s]"
      ]
     },
     "metadata": {},
     "output_type": "display_data"
    },
    {
     "data": {
      "application/vnd.jupyter.widget-view+json": {
       "model_id": "9f8d7747d7cf4549be251217344323d7",
       "version_major": 2,
       "version_minor": 0
      },
      "text/plain": [
       "  0%|          | 0/6 [00:00<?, ?it/s]"
      ]
     },
     "metadata": {},
     "output_type": "display_data"
    },
    {
     "data": {
      "application/vnd.jupyter.widget-view+json": {
       "model_id": "a39851704f584c868b9cbb5d1de663ce",
       "version_major": 2,
       "version_minor": 0
      },
      "text/plain": [
       "  0%|          | 0/6 [00:00<?, ?it/s]"
      ]
     },
     "metadata": {},
     "output_type": "display_data"
    }
   ],
   "source": [
    "''' Fit model on each map0 = Context A, map1 = Context A_'''\n",
    "\n",
    "model = CircularRegression(alpha=REGULARIZATION)\n",
    "\n",
    "# cross-validate the model\n",
    "for m, session in zip(mice, sessions):\n",
    "    for s in tdqm(session):\n",
    "        d = data[m][s]\n",
    "        \n",
    "        #load data\n",
    "        rawdata_file = 'RAW_' + m + '_' + s + '.npy'\n",
    "        behavior_file = 'BEHAVIOR_' + m + '_' + s + '.npy'\n",
    "        \n",
    "        raw = np.load(load_folder + rawdata_file, allow_pickle=True)\n",
    "        behaviorfil = np.load(load_folder + behavior_file, allow_pickle=False)\n",
    "        \n",
    "        cell_IDs = raw.item().get('cellsfil')\n",
    "        gridcell = d['gridcell'].astype(bool)\n",
    "        gridcells = cell_IDs[gridcell]\n",
    "        \n",
    "        if len(gridcells) >= 10:\n",
    "            X = d['X']\n",
    "            y = d['y']\n",
    "\n",
    "            # randomly split all trials into training vs. test sets & identify their indices\n",
    "            ds_0 = d['ds_idx'][0, :]\n",
    "            ds_1 = d['ds_idx'][1, :]\n",
    "\n",
    "            # get CV scores for each train and test combo - save these!\n",
    "            train0_test0_scores = train_vs_test_blocks(X, y, ds_0, ds_0)\n",
    "            train0_test1_scores = train_vs_test_blocks(X, y, ds_0, ds_1)\n",
    "            train1_test1_scores = train_vs_test_blocks(X, y, ds_1, ds_1)\n",
    "            train1_test0_scores = train_vs_test_blocks(X, y, ds_1, ds_0)\n",
    "            d['AA_scores'] = np.row_stack((train0_test0_scores, train0_test1_scores, \n",
    "                                        train1_test1_scores, train1_test0_scores))\n",
    "           \n",
    "            AA_scores_file = 'AA_scores_decoder_' + m + '_' + s + '.npy'\n",
    "            np.save(save_folder + AA_scores_file, d['AA_scores'])"
   ]
  },
  {
   "cell_type": "code",
   "execution_count": 41,
   "id": "d4f06900",
   "metadata": {},
   "outputs": [],
   "source": [
    "''' Downsample to Match Speed and Num Observations (B vs B')'''\n",
    "for m, session in zip(mice, sessions):\n",
    "    for s in session:\n",
    "        d = data[m][s]\n",
    "        \n",
    "        #load data\n",
    "        rawdata_file = 'RAW_' + m + '_' + s + '.npy'\n",
    "        behavior_file = 'BEHAVIOR_' + m + '_' + s + '.npy'\n",
    "        \n",
    "        raw = np.load(load_folder + rawdata_file, allow_pickle=True)\n",
    "        behaviorfil = np.load(load_folder + behavior_file, allow_pickle=False)\n",
    "        \n",
    "        cell_IDs = raw.item().get('cellsfil')\n",
    "        gridcell = d['gridcell'].astype(bool)\n",
    "        gridcells = cell_IDs[gridcell]\n",
    "        \n",
    "        if len(gridcells) >= 10:\n",
    "            speed = behaviorfil[:, 1]\n",
    "            y = d['y']\n",
    "            map0_idx = d['Bidx']\n",
    "            map1_idx = d['B_ngidx']\n",
    "\n",
    "            # bin speed into 10cm/s bins\n",
    "            edges = np.arange(10, np.max(speed), 10)\n",
    "            speed_idx = np.digitize(speed, edges)\n",
    "\n",
    "            # get indices for each map's observations\n",
    "            obs_0 = np.arange(y.shape[0])[map0_idx]\n",
    "            obs_1 = np.arange(y.shape[0])[map1_idx]\n",
    "\n",
    "            # array to hold indices for downsampling\n",
    "            ds_0 = np.asarray([]) # array to hold indices for downsampling map 0\n",
    "            ds_1 = np.asarray([]) # array to hold indices for downsampling map 1\n",
    "\n",
    "            # match occupancy of each bin for each map\n",
    "            bins, ct = np.unique(speed_idx, return_counts=True)\n",
    "            for b in bins:\n",
    "                occupancy_0 = np.sum(map0_idx[speed_idx == b])\n",
    "                occupancy_1 = np.sum(map1_idx[speed_idx == b])  \n",
    "                idx_0 = np.where(map0_idx & (speed_idx == b))[0]\n",
    "                idx_1 = np.where(map1_idx & (speed_idx == b))[0]\n",
    "\n",
    "                if occupancy_0 > occupancy_1:\n",
    "                    # need to downsample map 0 for this speed bin\n",
    "                    n_timepts = occupancy_1        \n",
    "                    ds_0 = np.append(ds_0, np.random.choice(idx_0, n_timepts, replace=False))\n",
    "                    ds_1 = np.append(ds_1, idx_1)\n",
    "                else:\n",
    "                    # need to downsample map 1 for this speed bin\n",
    "                    n_timepts = occupancy_0\n",
    "                    ds_0 = np.append(ds_0, idx_0)\n",
    "                    ds_1 = np.append(ds_1, np.random.choice(idx_1, n_timepts, replace=False)) \n",
    "            ds_0 = ds_0.astype(int)\n",
    "            ds_1 = ds_1.astype(int)\n",
    "\n",
    "            d['ds_idx'] = np.row_stack((ds_0, ds_1))"
   ]
  },
  {
   "cell_type": "code",
   "execution_count": 42,
   "id": "7170749d",
   "metadata": {},
   "outputs": [
    {
     "data": {
      "application/vnd.jupyter.widget-view+json": {
       "model_id": "5cd1b8835a7a4e47a7db87bde88251f5",
       "version_major": 2,
       "version_minor": 0
      },
      "text/plain": [
       "  0%|          | 0/3 [00:00<?, ?it/s]"
      ]
     },
     "metadata": {},
     "output_type": "display_data"
    },
    {
     "data": {
      "application/vnd.jupyter.widget-view+json": {
       "model_id": "53c8b0ffc5204ef6a2ab11fe2d9d0a71",
       "version_major": 2,
       "version_minor": 0
      },
      "text/plain": [
       "  0%|          | 0/6 [00:00<?, ?it/s]"
      ]
     },
     "metadata": {},
     "output_type": "display_data"
    },
    {
     "data": {
      "application/vnd.jupyter.widget-view+json": {
       "model_id": "6adfcb49affc4d0882b7dae850b3ec10",
       "version_major": 2,
       "version_minor": 0
      },
      "text/plain": [
       "  0%|          | 0/4 [00:00<?, ?it/s]"
      ]
     },
     "metadata": {},
     "output_type": "display_data"
    },
    {
     "data": {
      "application/vnd.jupyter.widget-view+json": {
       "model_id": "a1a322094a66418db525fb3e09a9dd79",
       "version_major": 2,
       "version_minor": 0
      },
      "text/plain": [
       "  0%|          | 0/6 [00:00<?, ?it/s]"
      ]
     },
     "metadata": {},
     "output_type": "display_data"
    },
    {
     "data": {
      "application/vnd.jupyter.widget-view+json": {
       "model_id": "c1afd6f92bcf4713aeeb1ac631a53a4c",
       "version_major": 2,
       "version_minor": 0
      },
      "text/plain": [
       "  0%|          | 0/6 [00:00<?, ?it/s]"
      ]
     },
     "metadata": {},
     "output_type": "display_data"
    },
    {
     "data": {
      "application/vnd.jupyter.widget-view+json": {
       "model_id": "dae135233950402181da87561b1a1c0f",
       "version_major": 2,
       "version_minor": 0
      },
      "text/plain": [
       "  0%|          | 0/6 [00:00<?, ?it/s]"
      ]
     },
     "metadata": {},
     "output_type": "display_data"
    },
    {
     "data": {
      "application/vnd.jupyter.widget-view+json": {
       "model_id": "0892a4fda624427c85f11f5fa2db9b3a",
       "version_major": 2,
       "version_minor": 0
      },
      "text/plain": [
       "  0%|          | 0/6 [00:00<?, ?it/s]"
      ]
     },
     "metadata": {},
     "output_type": "display_data"
    },
    {
     "data": {
      "application/vnd.jupyter.widget-view+json": {
       "model_id": "7e503094537d48a9b8ea26c260141ccd",
       "version_major": 2,
       "version_minor": 0
      },
      "text/plain": [
       "  0%|          | 0/6 [00:00<?, ?it/s]"
      ]
     },
     "metadata": {},
     "output_type": "display_data"
    },
    {
     "data": {
      "application/vnd.jupyter.widget-view+json": {
       "model_id": "1bbff5a648e247fc8d8c854e2ca8bb00",
       "version_major": 2,
       "version_minor": 0
      },
      "text/plain": [
       "  0%|          | 0/6 [00:00<?, ?it/s]"
      ]
     },
     "metadata": {},
     "output_type": "display_data"
    },
    {
     "data": {
      "application/vnd.jupyter.widget-view+json": {
       "model_id": "3981cfd0c737493eb00dd1cfb699b483",
       "version_major": 2,
       "version_minor": 0
      },
      "text/plain": [
       "  0%|          | 0/6 [00:00<?, ?it/s]"
      ]
     },
     "metadata": {},
     "output_type": "display_data"
    },
    {
     "data": {
      "application/vnd.jupyter.widget-view+json": {
       "model_id": "93bafdbc390440a681987d47849095a0",
       "version_major": 2,
       "version_minor": 0
      },
      "text/plain": [
       "  0%|          | 0/6 [00:00<?, ?it/s]"
      ]
     },
     "metadata": {},
     "output_type": "display_data"
    },
    {
     "data": {
      "application/vnd.jupyter.widget-view+json": {
       "model_id": "bf859a4ea8e247b2af1899adf217f819",
       "version_major": 2,
       "version_minor": 0
      },
      "text/plain": [
       "  0%|          | 0/6 [00:00<?, ?it/s]"
      ]
     },
     "metadata": {},
     "output_type": "display_data"
    },
    {
     "data": {
      "application/vnd.jupyter.widget-view+json": {
       "model_id": "102bc189d71942289cdba738237ece04",
       "version_major": 2,
       "version_minor": 0
      },
      "text/plain": [
       "  0%|          | 0/6 [00:00<?, ?it/s]"
      ]
     },
     "metadata": {},
     "output_type": "display_data"
    },
    {
     "data": {
      "application/vnd.jupyter.widget-view+json": {
       "model_id": "ec5c17d22e104a738fa184a42545d92a",
       "version_major": 2,
       "version_minor": 0
      },
      "text/plain": [
       "  0%|          | 0/6 [00:00<?, ?it/s]"
      ]
     },
     "metadata": {},
     "output_type": "display_data"
    },
    {
     "data": {
      "application/vnd.jupyter.widget-view+json": {
       "model_id": "a2e80a0b7d6e49c7b155d891ccd301b0",
       "version_major": 2,
       "version_minor": 0
      },
      "text/plain": [
       "  0%|          | 0/6 [00:00<?, ?it/s]"
      ]
     },
     "metadata": {},
     "output_type": "display_data"
    },
    {
     "data": {
      "application/vnd.jupyter.widget-view+json": {
       "model_id": "d024c16049d44855a65b4621042ed14a",
       "version_major": 2,
       "version_minor": 0
      },
      "text/plain": [
       "  0%|          | 0/6 [00:00<?, ?it/s]"
      ]
     },
     "metadata": {},
     "output_type": "display_data"
    },
    {
     "data": {
      "application/vnd.jupyter.widget-view+json": {
       "model_id": "d822cf5510d54b9fb4d76db092130538",
       "version_major": 2,
       "version_minor": 0
      },
      "text/plain": [
       "  0%|          | 0/6 [00:00<?, ?it/s]"
      ]
     },
     "metadata": {},
     "output_type": "display_data"
    },
    {
     "data": {
      "application/vnd.jupyter.widget-view+json": {
       "model_id": "7542947766014b4f883f852850eede81",
       "version_major": 2,
       "version_minor": 0
      },
      "text/plain": [
       "  0%|          | 0/4 [00:00<?, ?it/s]"
      ]
     },
     "metadata": {},
     "output_type": "display_data"
    },
    {
     "data": {
      "application/vnd.jupyter.widget-view+json": {
       "model_id": "c2907f4524c3420bae3f06b9d078777a",
       "version_major": 2,
       "version_minor": 0
      },
      "text/plain": [
       "  0%|          | 0/6 [00:00<?, ?it/s]"
      ]
     },
     "metadata": {},
     "output_type": "display_data"
    },
    {
     "data": {
      "application/vnd.jupyter.widget-view+json": {
       "model_id": "01dd9d8841c749aaabb213239cfa9c0c",
       "version_major": 2,
       "version_minor": 0
      },
      "text/plain": [
       "  0%|          | 0/6 [00:00<?, ?it/s]"
      ]
     },
     "metadata": {},
     "output_type": "display_data"
    },
    {
     "data": {
      "application/vnd.jupyter.widget-view+json": {
       "model_id": "61b97ac737074a1f9b1a71c75cb98e76",
       "version_major": 2,
       "version_minor": 0
      },
      "text/plain": [
       "  0%|          | 0/6 [00:00<?, ?it/s]"
      ]
     },
     "metadata": {},
     "output_type": "display_data"
    },
    {
     "data": {
      "application/vnd.jupyter.widget-view+json": {
       "model_id": "64e0ccd76d244ba39fe4b4956e443d63",
       "version_major": 2,
       "version_minor": 0
      },
      "text/plain": [
       "  0%|          | 0/6 [00:00<?, ?it/s]"
      ]
     },
     "metadata": {},
     "output_type": "display_data"
    },
    {
     "data": {
      "application/vnd.jupyter.widget-view+json": {
       "model_id": "0ae6780d29934bf7b5aec5526f655023",
       "version_major": 2,
       "version_minor": 0
      },
      "text/plain": [
       "  0%|          | 0/6 [00:00<?, ?it/s]"
      ]
     },
     "metadata": {},
     "output_type": "display_data"
    },
    {
     "data": {
      "application/vnd.jupyter.widget-view+json": {
       "model_id": "8a71d12aeda14dfb987b5423e78b6706",
       "version_major": 2,
       "version_minor": 0
      },
      "text/plain": [
       "  0%|          | 0/6 [00:00<?, ?it/s]"
      ]
     },
     "metadata": {},
     "output_type": "display_data"
    },
    {
     "data": {
      "application/vnd.jupyter.widget-view+json": {
       "model_id": "2647f74cc08442bab87af75b3ce40612",
       "version_major": 2,
       "version_minor": 0
      },
      "text/plain": [
       "  0%|          | 0/6 [00:00<?, ?it/s]"
      ]
     },
     "metadata": {},
     "output_type": "display_data"
    },
    {
     "data": {
      "application/vnd.jupyter.widget-view+json": {
       "model_id": "acd15e0dc2a0445688ba3581d098151f",
       "version_major": 2,
       "version_minor": 0
      },
      "text/plain": [
       "  0%|          | 0/6 [00:00<?, ?it/s]"
      ]
     },
     "metadata": {},
     "output_type": "display_data"
    },
    {
     "data": {
      "application/vnd.jupyter.widget-view+json": {
       "model_id": "e460f89752404f31a67db27c272afb40",
       "version_major": 2,
       "version_minor": 0
      },
      "text/plain": [
       "  0%|          | 0/6 [00:00<?, ?it/s]"
      ]
     },
     "metadata": {},
     "output_type": "display_data"
    },
    {
     "data": {
      "application/vnd.jupyter.widget-view+json": {
       "model_id": "5eaa7f97279b450f8f53779666642283",
       "version_major": 2,
       "version_minor": 0
      },
      "text/plain": [
       "  0%|          | 0/6 [00:00<?, ?it/s]"
      ]
     },
     "metadata": {},
     "output_type": "display_data"
    },
    {
     "data": {
      "application/vnd.jupyter.widget-view+json": {
       "model_id": "b13e8b440e464154bfe8f19510af8493",
       "version_major": 2,
       "version_minor": 0
      },
      "text/plain": [
       "  0%|          | 0/6 [00:00<?, ?it/s]"
      ]
     },
     "metadata": {},
     "output_type": "display_data"
    }
   ],
   "source": [
    "''' Fit model on each map0 = Context B, map1 = Context B_'''\n",
    "\n",
    "model = CircularRegression(alpha=REGULARIZATION)\n",
    "\n",
    "# cross-validate the model\n",
    "for m, session in zip(mice, sessions):\n",
    "    for s in tdqm(session):\n",
    "        d = data[m][s]\n",
    "        \n",
    "        #load data\n",
    "        rawdata_file = 'RAW_' + m + '_' + s + '.npy'\n",
    "        behavior_file = 'BEHAVIOR_' + m + '_' + s + '.npy'\n",
    "        \n",
    "        raw = np.load(load_folder + rawdata_file, allow_pickle=True)\n",
    "        behaviorfil = np.load(load_folder + behavior_file, allow_pickle=False)\n",
    "        \n",
    "        cell_IDs = raw.item().get('cellsfil')\n",
    "        gridcell = d['gridcell'].astype(bool)\n",
    "        gridcells = cell_IDs[gridcell]\n",
    "        \n",
    "        if len(gridcells) >= 10:\n",
    "            X = d['X']\n",
    "            y = d['y']\n",
    "\n",
    "            # randomly split all trials into training vs. test sets & identify their indices\n",
    "            ds_0 = d['ds_idx'][0, :]\n",
    "            ds_1 = d['ds_idx'][1, :]\n",
    "\n",
    "            # get CV scores for each train and test combo - save these!\n",
    "            train0_test0_scores = train_vs_test_blocks(X, y, ds_0, ds_0)\n",
    "            train0_test1_scores = train_vs_test_blocks(X, y, ds_0, ds_1)\n",
    "            train1_test1_scores = train_vs_test_blocks(X, y, ds_1, ds_1)\n",
    "            train1_test0_scores = train_vs_test_blocks(X, y, ds_1, ds_0)\n",
    "            d['BB_scores'] = np.row_stack((train0_test0_scores, train0_test1_scores, \n",
    "                                        train1_test1_scores, train1_test0_scores))\n",
    "            BB_scores_file = 'BB_scores_decoder_' + m + '_' + s + '.npy'\n",
    "            np.save(save_folder + BB_scores_file, d['BB_scores'])"
   ]
  },
  {
   "cell_type": "code",
   "execution_count": 43,
   "id": "40b7a668",
   "metadata": {},
   "outputs": [],
   "source": [
    "''' Downsample to Match Speed and Num Observations (A vs B)'''\n",
    "for m, session in zip(mice, sessions):\n",
    "    for s in session:\n",
    "        d = data[m][s]\n",
    "        \n",
    "        #load data\n",
    "        rawdata_file = 'RAW_' + m + '_' + s + '.npy'\n",
    "        behavior_file = 'BEHAVIOR_' + m + '_' + s + '.npy'\n",
    "        \n",
    "        raw = np.load(load_folder + rawdata_file, allow_pickle=True)\n",
    "        behaviorfil = np.load(load_folder + behavior_file, allow_pickle=False)\n",
    "        \n",
    "        cell_IDs = raw.item().get('cellsfil')\n",
    "        gridcell = d['gridcell'].astype(bool)\n",
    "        gridcells = cell_IDs[gridcell]\n",
    "        \n",
    "        if len(gridcells) >= 10:\n",
    "            speed = behaviorfil[:, 1]\n",
    "            y = d['y']\n",
    "            map0_idx = d['Aidx']\n",
    "            map1_idx = d['Bidx']\n",
    "\n",
    "            # bin speed into 10cm/s bins\n",
    "            edges = np.arange(10, np.max(speed), 10)\n",
    "            speed_idx = np.digitize(speed, edges)\n",
    "\n",
    "            # get indices for each map's observations\n",
    "            obs_0 = np.arange(y.shape[0])[map0_idx]\n",
    "            obs_1 = np.arange(y.shape[0])[map1_idx]\n",
    "\n",
    "            # array to hold indices for downsampling\n",
    "            ds_0 = np.asarray([]) # array to hold indices for downsampling map 0\n",
    "            ds_1 = np.asarray([]) # array to hold indices for downsampling map 1\n",
    "\n",
    "            # match occupancy of each bin for each map\n",
    "            bins, ct = np.unique(speed_idx, return_counts=True)\n",
    "            for b in bins:\n",
    "                occupancy_0 = np.sum(map0_idx[speed_idx == b])\n",
    "                occupancy_1 = np.sum(map1_idx[speed_idx == b])  \n",
    "                idx_0 = np.where(map0_idx & (speed_idx == b))[0]\n",
    "                idx_1 = np.where(map1_idx & (speed_idx == b))[0]\n",
    "\n",
    "                if occupancy_0 > occupancy_1:\n",
    "                    # need to downsample map 0 for this speed bin\n",
    "                    n_timepts = occupancy_1        \n",
    "                    ds_0 = np.append(ds_0, np.random.choice(idx_0, n_timepts, replace=False))\n",
    "                    ds_1 = np.append(ds_1, idx_1)\n",
    "                else:\n",
    "                    # need to downsample map 1 for this speed bin\n",
    "                    n_timepts = occupancy_0\n",
    "                    ds_0 = np.append(ds_0, idx_0)\n",
    "                    ds_1 = np.append(ds_1, np.random.choice(idx_1, n_timepts, replace=False)) \n",
    "            ds_0 = ds_0.astype(int)\n",
    "            ds_1 = ds_1.astype(int)\n",
    "\n",
    "            d['ds_idx'] = np.row_stack((ds_0, ds_1))"
   ]
  },
  {
   "cell_type": "code",
   "execution_count": 44,
   "id": "98651b79",
   "metadata": {},
   "outputs": [
    {
     "data": {
      "application/vnd.jupyter.widget-view+json": {
       "model_id": "ffcc27fcbcee4ded9c71f10a5987ac5b",
       "version_major": 2,
       "version_minor": 0
      },
      "text/plain": [
       "  0%|          | 0/3 [00:00<?, ?it/s]"
      ]
     },
     "metadata": {},
     "output_type": "display_data"
    },
    {
     "data": {
      "application/vnd.jupyter.widget-view+json": {
       "model_id": "3b71e0609d3c4c31b5d56c190615fb1d",
       "version_major": 2,
       "version_minor": 0
      },
      "text/plain": [
       "  0%|          | 0/6 [00:00<?, ?it/s]"
      ]
     },
     "metadata": {},
     "output_type": "display_data"
    },
    {
     "data": {
      "application/vnd.jupyter.widget-view+json": {
       "model_id": "9d99f92f90f54bb99bc823af135c499a",
       "version_major": 2,
       "version_minor": 0
      },
      "text/plain": [
       "  0%|          | 0/4 [00:00<?, ?it/s]"
      ]
     },
     "metadata": {},
     "output_type": "display_data"
    },
    {
     "data": {
      "application/vnd.jupyter.widget-view+json": {
       "model_id": "f1eb87248db54d51939666360a2b0d80",
       "version_major": 2,
       "version_minor": 0
      },
      "text/plain": [
       "  0%|          | 0/6 [00:00<?, ?it/s]"
      ]
     },
     "metadata": {},
     "output_type": "display_data"
    },
    {
     "data": {
      "application/vnd.jupyter.widget-view+json": {
       "model_id": "f52fec4fc128445e9b8d5b1c03e8a94d",
       "version_major": 2,
       "version_minor": 0
      },
      "text/plain": [
       "  0%|          | 0/6 [00:00<?, ?it/s]"
      ]
     },
     "metadata": {},
     "output_type": "display_data"
    },
    {
     "data": {
      "application/vnd.jupyter.widget-view+json": {
       "model_id": "a0749072be8048d1a872a7f702fd0842",
       "version_major": 2,
       "version_minor": 0
      },
      "text/plain": [
       "  0%|          | 0/6 [00:00<?, ?it/s]"
      ]
     },
     "metadata": {},
     "output_type": "display_data"
    },
    {
     "data": {
      "application/vnd.jupyter.widget-view+json": {
       "model_id": "f74f2c6296cd4e329d34a45c1453892a",
       "version_major": 2,
       "version_minor": 0
      },
      "text/plain": [
       "  0%|          | 0/6 [00:00<?, ?it/s]"
      ]
     },
     "metadata": {},
     "output_type": "display_data"
    },
    {
     "data": {
      "application/vnd.jupyter.widget-view+json": {
       "model_id": "d80e43a8cc2346d897fd09887a0a8edd",
       "version_major": 2,
       "version_minor": 0
      },
      "text/plain": [
       "  0%|          | 0/6 [00:00<?, ?it/s]"
      ]
     },
     "metadata": {},
     "output_type": "display_data"
    },
    {
     "data": {
      "application/vnd.jupyter.widget-view+json": {
       "model_id": "5c76a29771ea47bb88172de0a6126114",
       "version_major": 2,
       "version_minor": 0
      },
      "text/plain": [
       "  0%|          | 0/6 [00:00<?, ?it/s]"
      ]
     },
     "metadata": {},
     "output_type": "display_data"
    },
    {
     "data": {
      "application/vnd.jupyter.widget-view+json": {
       "model_id": "27ae0d125fed487eb645ae0cc6fd6373",
       "version_major": 2,
       "version_minor": 0
      },
      "text/plain": [
       "  0%|          | 0/6 [00:00<?, ?it/s]"
      ]
     },
     "metadata": {},
     "output_type": "display_data"
    },
    {
     "data": {
      "application/vnd.jupyter.widget-view+json": {
       "model_id": "3178daad5eeb446aa56fd9ce1abd6f14",
       "version_major": 2,
       "version_minor": 0
      },
      "text/plain": [
       "  0%|          | 0/6 [00:00<?, ?it/s]"
      ]
     },
     "metadata": {},
     "output_type": "display_data"
    },
    {
     "data": {
      "application/vnd.jupyter.widget-view+json": {
       "model_id": "57e140d7ba2547c2a317b697afefdc34",
       "version_major": 2,
       "version_minor": 0
      },
      "text/plain": [
       "  0%|          | 0/6 [00:00<?, ?it/s]"
      ]
     },
     "metadata": {},
     "output_type": "display_data"
    },
    {
     "data": {
      "application/vnd.jupyter.widget-view+json": {
       "model_id": "67a88b8497bf46438105671b24aec617",
       "version_major": 2,
       "version_minor": 0
      },
      "text/plain": [
       "  0%|          | 0/6 [00:00<?, ?it/s]"
      ]
     },
     "metadata": {},
     "output_type": "display_data"
    },
    {
     "data": {
      "application/vnd.jupyter.widget-view+json": {
       "model_id": "002ca89e7d274319b97deadb35d033a3",
       "version_major": 2,
       "version_minor": 0
      },
      "text/plain": [
       "  0%|          | 0/6 [00:00<?, ?it/s]"
      ]
     },
     "metadata": {},
     "output_type": "display_data"
    },
    {
     "data": {
      "application/vnd.jupyter.widget-view+json": {
       "model_id": "a40b6a4bbd104436be4f02d99a3b4c05",
       "version_major": 2,
       "version_minor": 0
      },
      "text/plain": [
       "  0%|          | 0/6 [00:00<?, ?it/s]"
      ]
     },
     "metadata": {},
     "output_type": "display_data"
    },
    {
     "data": {
      "application/vnd.jupyter.widget-view+json": {
       "model_id": "8529acff53de404486e1fe031dca16ac",
       "version_major": 2,
       "version_minor": 0
      },
      "text/plain": [
       "  0%|          | 0/6 [00:00<?, ?it/s]"
      ]
     },
     "metadata": {},
     "output_type": "display_data"
    },
    {
     "data": {
      "application/vnd.jupyter.widget-view+json": {
       "model_id": "0ee1985a21e841a09f4d6f8366823e8c",
       "version_major": 2,
       "version_minor": 0
      },
      "text/plain": [
       "  0%|          | 0/6 [00:00<?, ?it/s]"
      ]
     },
     "metadata": {},
     "output_type": "display_data"
    },
    {
     "data": {
      "application/vnd.jupyter.widget-view+json": {
       "model_id": "954f307aeeb34b2b8b6bff47c2a0a78c",
       "version_major": 2,
       "version_minor": 0
      },
      "text/plain": [
       "  0%|          | 0/4 [00:00<?, ?it/s]"
      ]
     },
     "metadata": {},
     "output_type": "display_data"
    },
    {
     "data": {
      "application/vnd.jupyter.widget-view+json": {
       "model_id": "0cab405c6ac245f1af301191953d7cd4",
       "version_major": 2,
       "version_minor": 0
      },
      "text/plain": [
       "  0%|          | 0/6 [00:00<?, ?it/s]"
      ]
     },
     "metadata": {},
     "output_type": "display_data"
    },
    {
     "data": {
      "application/vnd.jupyter.widget-view+json": {
       "model_id": "1bb320b045fe4b43867ebe4bc4c10465",
       "version_major": 2,
       "version_minor": 0
      },
      "text/plain": [
       "  0%|          | 0/6 [00:00<?, ?it/s]"
      ]
     },
     "metadata": {},
     "output_type": "display_data"
    },
    {
     "data": {
      "application/vnd.jupyter.widget-view+json": {
       "model_id": "d42b20d7ec9f481294301feb051c0ca9",
       "version_major": 2,
       "version_minor": 0
      },
      "text/plain": [
       "  0%|          | 0/6 [00:00<?, ?it/s]"
      ]
     },
     "metadata": {},
     "output_type": "display_data"
    },
    {
     "data": {
      "application/vnd.jupyter.widget-view+json": {
       "model_id": "4c83bc57a2cb44f2a0870814df596c55",
       "version_major": 2,
       "version_minor": 0
      },
      "text/plain": [
       "  0%|          | 0/6 [00:00<?, ?it/s]"
      ]
     },
     "metadata": {},
     "output_type": "display_data"
    },
    {
     "data": {
      "application/vnd.jupyter.widget-view+json": {
       "model_id": "8222a985b4ce4efe8f4963181e84867e",
       "version_major": 2,
       "version_minor": 0
      },
      "text/plain": [
       "  0%|          | 0/6 [00:00<?, ?it/s]"
      ]
     },
     "metadata": {},
     "output_type": "display_data"
    },
    {
     "data": {
      "application/vnd.jupyter.widget-view+json": {
       "model_id": "f59f845bdab0469b99c9760072eb4b30",
       "version_major": 2,
       "version_minor": 0
      },
      "text/plain": [
       "  0%|          | 0/6 [00:00<?, ?it/s]"
      ]
     },
     "metadata": {},
     "output_type": "display_data"
    },
    {
     "data": {
      "application/vnd.jupyter.widget-view+json": {
       "model_id": "24b7769e7db947e2b94a8be5efc94fc7",
       "version_major": 2,
       "version_minor": 0
      },
      "text/plain": [
       "  0%|          | 0/6 [00:00<?, ?it/s]"
      ]
     },
     "metadata": {},
     "output_type": "display_data"
    },
    {
     "data": {
      "application/vnd.jupyter.widget-view+json": {
       "model_id": "70c4b4ba23ca44b79dc27c890714e6b6",
       "version_major": 2,
       "version_minor": 0
      },
      "text/plain": [
       "  0%|          | 0/6 [00:00<?, ?it/s]"
      ]
     },
     "metadata": {},
     "output_type": "display_data"
    },
    {
     "data": {
      "application/vnd.jupyter.widget-view+json": {
       "model_id": "9cf453a7a68e4ff7806c3750c522da89",
       "version_major": 2,
       "version_minor": 0
      },
      "text/plain": [
       "  0%|          | 0/6 [00:00<?, ?it/s]"
      ]
     },
     "metadata": {},
     "output_type": "display_data"
    },
    {
     "data": {
      "application/vnd.jupyter.widget-view+json": {
       "model_id": "07249718eec545fab7d0fb7daa5eaf40",
       "version_major": 2,
       "version_minor": 0
      },
      "text/plain": [
       "  0%|          | 0/6 [00:00<?, ?it/s]"
      ]
     },
     "metadata": {},
     "output_type": "display_data"
    },
    {
     "data": {
      "application/vnd.jupyter.widget-view+json": {
       "model_id": "743e80f114e44a64b2ad5402ad45cfae",
       "version_major": 2,
       "version_minor": 0
      },
      "text/plain": [
       "  0%|          | 0/6 [00:00<?, ?it/s]"
      ]
     },
     "metadata": {},
     "output_type": "display_data"
    }
   ],
   "source": [
    "''' Fit model on each map0 = Context A, map1 = Context B'''\n",
    "\n",
    "model = CircularRegression(alpha=REGULARIZATION)\n",
    "\n",
    "# cross-validate the model\n",
    "for m, session in zip(mice, sessions):\n",
    "    for s in tdqm(session):\n",
    "        d = data[m][s]\n",
    "        \n",
    "        #load data\n",
    "        rawdata_file = 'RAW_' + m + '_' + s + '.npy'\n",
    "        behavior_file = 'BEHAVIOR_' + m + '_' + s + '.npy'\n",
    "        \n",
    "        raw = np.load(load_folder + rawdata_file, allow_pickle=True)\n",
    "        behaviorfil = np.load(load_folder + behavior_file, allow_pickle=False)\n",
    "        \n",
    "        cell_IDs = raw.item().get('cellsfil')\n",
    "        gridcell = d['gridcell'].astype(bool)\n",
    "        gridcells = cell_IDs[gridcell]\n",
    "        \n",
    "        if len(gridcells) >= 10:\n",
    "            X = d['X']\n",
    "            y = d['y']\n",
    "\n",
    "            # randomly split all trials into training vs. test sets & identify their indices\n",
    "            ds_0 = d['ds_idx'][0, :]\n",
    "            ds_1 = d['ds_idx'][1, :]\n",
    "\n",
    "            # get CV scores for each train and test combo - save these!\n",
    "            train0_test0_scores = train_vs_test_blocks(X, y, ds_0, ds_0)\n",
    "            train0_test1_scores = train_vs_test_blocks(X, y, ds_0, ds_1)\n",
    "            train1_test1_scores = train_vs_test_blocks(X, y, ds_1, ds_1)\n",
    "            train1_test0_scores = train_vs_test_blocks(X, y, ds_1, ds_0)\n",
    "            d['ABscores'] = np.row_stack((train0_test0_scores, train0_test1_scores, \n",
    "                                        train1_test1_scores, train1_test0_scores))\n",
    "            ABscores_file = 'ABscores_decoder_' + m + '_' + s + '.npy'\n",
    "            np.save(save_folder + ABscores_file, d['ABscores'])"
   ]
  },
  {
   "cell_type": "code",
   "execution_count": 45,
   "id": "717b760e",
   "metadata": {},
   "outputs": [],
   "source": [
    "''' Downsample to Match Speed and Num Observations (A_ vs B_)'''\n",
    "for m, session in zip(mice, sessions):\n",
    "    for s in session:\n",
    "        d = data[m][s]\n",
    "        \n",
    "        #load data\n",
    "        rawdata_file = 'RAW_' + m + '_' + s + '.npy'\n",
    "        behavior_file = 'BEHAVIOR_' + m + '_' + s + '.npy'\n",
    "        \n",
    "        raw = np.load(load_folder + rawdata_file, allow_pickle=True)\n",
    "        behaviorfil = np.load(load_folder + behavior_file, allow_pickle=False)\n",
    "        \n",
    "        cell_IDs = raw.item().get('cellsfil')\n",
    "        gridcell = d['gridcell'].astype(bool)\n",
    "        gridcells = cell_IDs[gridcell]\n",
    "        \n",
    "        if len(gridcells) >= 10:\n",
    "            speed = behaviorfil[:, 1]\n",
    "            y = d['y']\n",
    "            map0_idx = d['A_ngidx']\n",
    "            map1_idx = d['B_ngidx']\n",
    "\n",
    "            # bin speed into 10cm/s bins\n",
    "            edges = np.arange(10, np.max(speed), 10)\n",
    "            speed_idx = np.digitize(speed, edges)\n",
    "\n",
    "            # get indices for each map's observations\n",
    "            obs_0 = np.arange(y.shape[0])[map0_idx]\n",
    "            obs_1 = np.arange(y.shape[0])[map1_idx]\n",
    "\n",
    "            # array to hold indices for downsampling\n",
    "            ds_0 = np.asarray([]) # array to hold indices for downsampling map 0\n",
    "            ds_1 = np.asarray([]) # array to hold indices for downsampling map 1\n",
    "\n",
    "            # match occupancy of each bin for each map\n",
    "            bins, ct = np.unique(speed_idx, return_counts=True)\n",
    "            for b in bins:\n",
    "                occupancy_0 = np.sum(map0_idx[speed_idx == b])\n",
    "                occupancy_1 = np.sum(map1_idx[speed_idx == b])  \n",
    "                idx_0 = np.where(map0_idx & (speed_idx == b))[0]\n",
    "                idx_1 = np.where(map1_idx & (speed_idx == b))[0]\n",
    "\n",
    "                if occupancy_0 > occupancy_1:\n",
    "                    # need to downsample map 0 for this speed bin\n",
    "                    n_timepts = occupancy_1        \n",
    "                    ds_0 = np.append(ds_0, np.random.choice(idx_0, n_timepts, replace=False))\n",
    "                    ds_1 = np.append(ds_1, idx_1)\n",
    "                else:\n",
    "                    # need to downsample map 1 for this speed bin\n",
    "                    n_timepts = occupancy_0\n",
    "                    ds_0 = np.append(ds_0, idx_0)\n",
    "                    ds_1 = np.append(ds_1, np.random.choice(idx_1, n_timepts, replace=False)) \n",
    "            ds_0 = ds_0.astype(int)\n",
    "            ds_1 = ds_1.astype(int)\n",
    "\n",
    "            d['ds_idx'] = np.row_stack((ds_0, ds_1))"
   ]
  },
  {
   "cell_type": "code",
   "execution_count": 46,
   "id": "cf5d72b2",
   "metadata": {},
   "outputs": [
    {
     "data": {
      "application/vnd.jupyter.widget-view+json": {
       "model_id": "89e1cf4eeca44af88fd6f4389902efe1",
       "version_major": 2,
       "version_minor": 0
      },
      "text/plain": [
       "  0%|          | 0/3 [00:00<?, ?it/s]"
      ]
     },
     "metadata": {},
     "output_type": "display_data"
    },
    {
     "data": {
      "application/vnd.jupyter.widget-view+json": {
       "model_id": "aa18d595d3bf4d36943610acbbf42820",
       "version_major": 2,
       "version_minor": 0
      },
      "text/plain": [
       "  0%|          | 0/6 [00:00<?, ?it/s]"
      ]
     },
     "metadata": {},
     "output_type": "display_data"
    },
    {
     "data": {
      "application/vnd.jupyter.widget-view+json": {
       "model_id": "8f3405bddf9d4756b15d28c98aa1742e",
       "version_major": 2,
       "version_minor": 0
      },
      "text/plain": [
       "  0%|          | 0/4 [00:00<?, ?it/s]"
      ]
     },
     "metadata": {},
     "output_type": "display_data"
    },
    {
     "data": {
      "application/vnd.jupyter.widget-view+json": {
       "model_id": "6b0d962db3b34501bf2ed157dc988946",
       "version_major": 2,
       "version_minor": 0
      },
      "text/plain": [
       "  0%|          | 0/6 [00:00<?, ?it/s]"
      ]
     },
     "metadata": {},
     "output_type": "display_data"
    },
    {
     "data": {
      "application/vnd.jupyter.widget-view+json": {
       "model_id": "699da8c5ccac4a9bb6b237c5cf857105",
       "version_major": 2,
       "version_minor": 0
      },
      "text/plain": [
       "  0%|          | 0/6 [00:00<?, ?it/s]"
      ]
     },
     "metadata": {},
     "output_type": "display_data"
    },
    {
     "data": {
      "application/vnd.jupyter.widget-view+json": {
       "model_id": "4ad81ae091324d64b33d88816d959f62",
       "version_major": 2,
       "version_minor": 0
      },
      "text/plain": [
       "  0%|          | 0/6 [00:00<?, ?it/s]"
      ]
     },
     "metadata": {},
     "output_type": "display_data"
    },
    {
     "data": {
      "application/vnd.jupyter.widget-view+json": {
       "model_id": "0ae8738311834173b96ca549eb45364e",
       "version_major": 2,
       "version_minor": 0
      },
      "text/plain": [
       "  0%|          | 0/6 [00:00<?, ?it/s]"
      ]
     },
     "metadata": {},
     "output_type": "display_data"
    },
    {
     "data": {
      "application/vnd.jupyter.widget-view+json": {
       "model_id": "1e10900cd8b44732b9e57090a3ecc47b",
       "version_major": 2,
       "version_minor": 0
      },
      "text/plain": [
       "  0%|          | 0/6 [00:00<?, ?it/s]"
      ]
     },
     "metadata": {},
     "output_type": "display_data"
    },
    {
     "data": {
      "application/vnd.jupyter.widget-view+json": {
       "model_id": "ea62ca5a2ec64522959df68cb0ef671b",
       "version_major": 2,
       "version_minor": 0
      },
      "text/plain": [
       "  0%|          | 0/6 [00:00<?, ?it/s]"
      ]
     },
     "metadata": {},
     "output_type": "display_data"
    },
    {
     "data": {
      "application/vnd.jupyter.widget-view+json": {
       "model_id": "9569f5dc88d34a148e21b789fb4263fb",
       "version_major": 2,
       "version_minor": 0
      },
      "text/plain": [
       "  0%|          | 0/6 [00:00<?, ?it/s]"
      ]
     },
     "metadata": {},
     "output_type": "display_data"
    },
    {
     "data": {
      "application/vnd.jupyter.widget-view+json": {
       "model_id": "e336b8e2395b4dd79ef4a6a0d1eb3de5",
       "version_major": 2,
       "version_minor": 0
      },
      "text/plain": [
       "  0%|          | 0/6 [00:00<?, ?it/s]"
      ]
     },
     "metadata": {},
     "output_type": "display_data"
    },
    {
     "data": {
      "application/vnd.jupyter.widget-view+json": {
       "model_id": "97cd2608210248818bfac038a76a59bc",
       "version_major": 2,
       "version_minor": 0
      },
      "text/plain": [
       "  0%|          | 0/6 [00:00<?, ?it/s]"
      ]
     },
     "metadata": {},
     "output_type": "display_data"
    },
    {
     "data": {
      "application/vnd.jupyter.widget-view+json": {
       "model_id": "6b6014a5126d4e8fb5cfcfadd6260d77",
       "version_major": 2,
       "version_minor": 0
      },
      "text/plain": [
       "  0%|          | 0/6 [00:00<?, ?it/s]"
      ]
     },
     "metadata": {},
     "output_type": "display_data"
    },
    {
     "data": {
      "application/vnd.jupyter.widget-view+json": {
       "model_id": "6231cd552a684cdb8f30d9f038d01399",
       "version_major": 2,
       "version_minor": 0
      },
      "text/plain": [
       "  0%|          | 0/6 [00:00<?, ?it/s]"
      ]
     },
     "metadata": {},
     "output_type": "display_data"
    },
    {
     "data": {
      "application/vnd.jupyter.widget-view+json": {
       "model_id": "3f83c0c620374d84bc314a093f006515",
       "version_major": 2,
       "version_minor": 0
      },
      "text/plain": [
       "  0%|          | 0/6 [00:00<?, ?it/s]"
      ]
     },
     "metadata": {},
     "output_type": "display_data"
    },
    {
     "data": {
      "application/vnd.jupyter.widget-view+json": {
       "model_id": "5ff11a7827b24aeab9b7062e65490a61",
       "version_major": 2,
       "version_minor": 0
      },
      "text/plain": [
       "  0%|          | 0/6 [00:00<?, ?it/s]"
      ]
     },
     "metadata": {},
     "output_type": "display_data"
    },
    {
     "data": {
      "application/vnd.jupyter.widget-view+json": {
       "model_id": "8458b3d3f65a497ba880128ae75243bb",
       "version_major": 2,
       "version_minor": 0
      },
      "text/plain": [
       "  0%|          | 0/6 [00:00<?, ?it/s]"
      ]
     },
     "metadata": {},
     "output_type": "display_data"
    },
    {
     "data": {
      "application/vnd.jupyter.widget-view+json": {
       "model_id": "4ba54cc53801481dad96ede5ec1a331e",
       "version_major": 2,
       "version_minor": 0
      },
      "text/plain": [
       "  0%|          | 0/4 [00:00<?, ?it/s]"
      ]
     },
     "metadata": {},
     "output_type": "display_data"
    },
    {
     "data": {
      "application/vnd.jupyter.widget-view+json": {
       "model_id": "9d8534a75f6745b7b34cb7284f5f36bf",
       "version_major": 2,
       "version_minor": 0
      },
      "text/plain": [
       "  0%|          | 0/6 [00:00<?, ?it/s]"
      ]
     },
     "metadata": {},
     "output_type": "display_data"
    },
    {
     "data": {
      "application/vnd.jupyter.widget-view+json": {
       "model_id": "7a6d130c117e487b8c449a770577c325",
       "version_major": 2,
       "version_minor": 0
      },
      "text/plain": [
       "  0%|          | 0/6 [00:00<?, ?it/s]"
      ]
     },
     "metadata": {},
     "output_type": "display_data"
    },
    {
     "data": {
      "application/vnd.jupyter.widget-view+json": {
       "model_id": "bf0ff91bf6cc4bc1ae09140b4354f535",
       "version_major": 2,
       "version_minor": 0
      },
      "text/plain": [
       "  0%|          | 0/6 [00:00<?, ?it/s]"
      ]
     },
     "metadata": {},
     "output_type": "display_data"
    },
    {
     "data": {
      "application/vnd.jupyter.widget-view+json": {
       "model_id": "186b03eb5ab14115a9c211a3cb29c44e",
       "version_major": 2,
       "version_minor": 0
      },
      "text/plain": [
       "  0%|          | 0/6 [00:00<?, ?it/s]"
      ]
     },
     "metadata": {},
     "output_type": "display_data"
    },
    {
     "data": {
      "application/vnd.jupyter.widget-view+json": {
       "model_id": "e3b54487f080452b87f19dbd9df3e49e",
       "version_major": 2,
       "version_minor": 0
      },
      "text/plain": [
       "  0%|          | 0/6 [00:00<?, ?it/s]"
      ]
     },
     "metadata": {},
     "output_type": "display_data"
    },
    {
     "data": {
      "application/vnd.jupyter.widget-view+json": {
       "model_id": "fdd170d6c3114337b626059351674f75",
       "version_major": 2,
       "version_minor": 0
      },
      "text/plain": [
       "  0%|          | 0/6 [00:00<?, ?it/s]"
      ]
     },
     "metadata": {},
     "output_type": "display_data"
    },
    {
     "data": {
      "application/vnd.jupyter.widget-view+json": {
       "model_id": "c5347d03d89a46d9b63c6f780468c84b",
       "version_major": 2,
       "version_minor": 0
      },
      "text/plain": [
       "  0%|          | 0/6 [00:00<?, ?it/s]"
      ]
     },
     "metadata": {},
     "output_type": "display_data"
    },
    {
     "data": {
      "application/vnd.jupyter.widget-view+json": {
       "model_id": "504d5d7638be482d956c54b0f94b6a6d",
       "version_major": 2,
       "version_minor": 0
      },
      "text/plain": [
       "  0%|          | 0/6 [00:00<?, ?it/s]"
      ]
     },
     "metadata": {},
     "output_type": "display_data"
    },
    {
     "data": {
      "application/vnd.jupyter.widget-view+json": {
       "model_id": "9a57ade8947e4567ac5d1bf1cf12b842",
       "version_major": 2,
       "version_minor": 0
      },
      "text/plain": [
       "  0%|          | 0/6 [00:00<?, ?it/s]"
      ]
     },
     "metadata": {},
     "output_type": "display_data"
    },
    {
     "data": {
      "application/vnd.jupyter.widget-view+json": {
       "model_id": "2fd21646bcc54c328288fbbbf6fa380c",
       "version_major": 2,
       "version_minor": 0
      },
      "text/plain": [
       "  0%|          | 0/6 [00:00<?, ?it/s]"
      ]
     },
     "metadata": {},
     "output_type": "display_data"
    },
    {
     "data": {
      "application/vnd.jupyter.widget-view+json": {
       "model_id": "1860ae402a874fe2aca963b994b96d78",
       "version_major": 2,
       "version_minor": 0
      },
      "text/plain": [
       "  0%|          | 0/6 [00:00<?, ?it/s]"
      ]
     },
     "metadata": {},
     "output_type": "display_data"
    }
   ],
   "source": [
    "''' Fit model on each map0 = Context A_, map1 = Context B_'''\n",
    "\n",
    "model = CircularRegression(alpha=REGULARIZATION)\n",
    "\n",
    "# cross-validate the model\n",
    "for m, session in zip(mice, sessions):\n",
    "    for s in tdqm(session):\n",
    "        d = data[m][s]\n",
    "        \n",
    "        #load data\n",
    "        rawdata_file = 'RAW_' + m + '_' + s + '.npy'\n",
    "        behavior_file = 'BEHAVIOR_' + m + '_' + s + '.npy'\n",
    "        \n",
    "        raw = np.load(load_folder + rawdata_file, allow_pickle=True)\n",
    "        behaviorfil = np.load(load_folder + behavior_file, allow_pickle=False)\n",
    "        \n",
    "        cell_IDs = raw.item().get('cellsfil')\n",
    "        gridcell = d['gridcell'].astype(bool)\n",
    "        gridcells = cell_IDs[gridcell]\n",
    "        \n",
    "        if len(gridcells) >= 10:\n",
    "            X = d['X']\n",
    "            y = d['y']\n",
    "\n",
    "            # randomly split all trials into training vs. test sets & identify their indices\n",
    "            ds_0 = d['ds_idx'][0, :]\n",
    "            ds_1 = d['ds_idx'][1, :]\n",
    "\n",
    "            # get CV scores for each train and test combo - save these!\n",
    "            train0_test0_scores = train_vs_test_blocks(X, y, ds_0, ds_0)\n",
    "            train0_test1_scores = train_vs_test_blocks(X, y, ds_0, ds_1)\n",
    "            train1_test1_scores = train_vs_test_blocks(X, y, ds_1, ds_1)\n",
    "            train1_test0_scores = train_vs_test_blocks(X, y, ds_1, ds_0)\n",
    "            d['A_B_scores'] = np.row_stack((train0_test0_scores, train0_test1_scores, \n",
    "                                        train1_test1_scores, train1_test0_scores))\n",
    "            A_B_scores_file = 'A_B_scores_decoder_' + m + '_' + s + '.npy'\n",
    "            np.save(save_folder + A_B_scores_file, d['A_B_scores'])"
   ]
  },
  {
   "cell_type": "code",
   "execution_count": 47,
   "id": "9ada9b03",
   "metadata": {},
   "outputs": [],
   "source": [
    "''' Downsample to Match Speed and Num Observations (B vs A')'''\n",
    "for m, session in zip(mice, sessions):\n",
    "    for s in session:\n",
    "        d = data[m][s]\n",
    "        \n",
    "        #load data\n",
    "        rawdata_file = 'RAW_' + m + '_' + s + '.npy'\n",
    "        behavior_file = 'BEHAVIOR_' + m + '_' + s + '.npy'\n",
    "        \n",
    "        raw = np.load(load_folder + rawdata_file, allow_pickle=True)\n",
    "        behaviorfil = np.load(load_folder + behavior_file, allow_pickle=False)\n",
    "        \n",
    "        cell_IDs = raw.item().get('cellsfil')\n",
    "        gridcell = d['gridcell'].astype(bool)\n",
    "        gridcells = cell_IDs[gridcell]\n",
    "        \n",
    "        if len(gridcells) >= 10:\n",
    "            speed = behaviorfil[:, 1]\n",
    "            y = d['y']\n",
    "            map0_idx = d['Bidx']\n",
    "            map1_idx = d['A_ngidx']\n",
    "\n",
    "            # bin speed into 10cm/s bins\n",
    "            edges = np.arange(10, np.max(speed), 10)\n",
    "            speed_idx = np.digitize(speed, edges)\n",
    "\n",
    "            # get indices for each map's observations\n",
    "            obs_0 = np.arange(y.shape[0])[map0_idx]\n",
    "            obs_1 = np.arange(y.shape[0])[map1_idx]\n",
    "\n",
    "            # array to hold indices for downsampling\n",
    "            ds_0 = np.asarray([]) # array to hold indices for downsampling map 0\n",
    "            ds_1 = np.asarray([]) # array to hold indices for downsampling map 1\n",
    "\n",
    "            # match occupancy of each bin for each map\n",
    "            bins, ct = np.unique(speed_idx, return_counts=True)\n",
    "            for b in bins:\n",
    "                occupancy_0 = np.sum(map0_idx[speed_idx == b])\n",
    "                occupancy_1 = np.sum(map1_idx[speed_idx == b])  \n",
    "                idx_0 = np.where(map0_idx & (speed_idx == b))[0]\n",
    "                idx_1 = np.where(map1_idx & (speed_idx == b))[0]\n",
    "\n",
    "                if occupancy_0 > occupancy_1:\n",
    "                    # need to downsample map 0 for this speed bin\n",
    "                    n_timepts = occupancy_1        \n",
    "                    ds_0 = np.append(ds_0, np.random.choice(idx_0, n_timepts, replace=False))\n",
    "                    ds_1 = np.append(ds_1, idx_1)\n",
    "                else:\n",
    "                    # need to downsample map 1 for this speed bin\n",
    "                    n_timepts = occupancy_0\n",
    "                    ds_0 = np.append(ds_0, idx_0)\n",
    "                    ds_1 = np.append(ds_1, np.random.choice(idx_1, n_timepts, replace=False)) \n",
    "            ds_0 = ds_0.astype(int)\n",
    "            ds_1 = ds_1.astype(int)\n",
    "\n",
    "            d['ds_idx'] = np.row_stack((ds_0, ds_1))"
   ]
  },
  {
   "cell_type": "code",
   "execution_count": 48,
   "id": "fe9cfb46",
   "metadata": {},
   "outputs": [
    {
     "data": {
      "application/vnd.jupyter.widget-view+json": {
       "model_id": "f3710a1b6880471ea56917edf5d1b8e4",
       "version_major": 2,
       "version_minor": 0
      },
      "text/plain": [
       "  0%|          | 0/3 [00:00<?, ?it/s]"
      ]
     },
     "metadata": {},
     "output_type": "display_data"
    },
    {
     "data": {
      "application/vnd.jupyter.widget-view+json": {
       "model_id": "0e6256f139e84878a4c3680e3a107e6c",
       "version_major": 2,
       "version_minor": 0
      },
      "text/plain": [
       "  0%|          | 0/6 [00:00<?, ?it/s]"
      ]
     },
     "metadata": {},
     "output_type": "display_data"
    },
    {
     "data": {
      "application/vnd.jupyter.widget-view+json": {
       "model_id": "2336bdbfd9e3446a96176993d67cd46f",
       "version_major": 2,
       "version_minor": 0
      },
      "text/plain": [
       "  0%|          | 0/4 [00:00<?, ?it/s]"
      ]
     },
     "metadata": {},
     "output_type": "display_data"
    },
    {
     "data": {
      "application/vnd.jupyter.widget-view+json": {
       "model_id": "a134ce70390b459396fed394d4dd9cfe",
       "version_major": 2,
       "version_minor": 0
      },
      "text/plain": [
       "  0%|          | 0/6 [00:00<?, ?it/s]"
      ]
     },
     "metadata": {},
     "output_type": "display_data"
    },
    {
     "data": {
      "application/vnd.jupyter.widget-view+json": {
       "model_id": "fe237751a3594747af4ba6cc89eb8853",
       "version_major": 2,
       "version_minor": 0
      },
      "text/plain": [
       "  0%|          | 0/6 [00:00<?, ?it/s]"
      ]
     },
     "metadata": {},
     "output_type": "display_data"
    },
    {
     "data": {
      "application/vnd.jupyter.widget-view+json": {
       "model_id": "a06fc3be59bb4acb90c18fe08eb23009",
       "version_major": 2,
       "version_minor": 0
      },
      "text/plain": [
       "  0%|          | 0/6 [00:00<?, ?it/s]"
      ]
     },
     "metadata": {},
     "output_type": "display_data"
    },
    {
     "data": {
      "application/vnd.jupyter.widget-view+json": {
       "model_id": "4252e480b17645bdb09fd424326ded6b",
       "version_major": 2,
       "version_minor": 0
      },
      "text/plain": [
       "  0%|          | 0/6 [00:00<?, ?it/s]"
      ]
     },
     "metadata": {},
     "output_type": "display_data"
    },
    {
     "data": {
      "application/vnd.jupyter.widget-view+json": {
       "model_id": "cf04e0fa2d654963a6ec1a14431f6255",
       "version_major": 2,
       "version_minor": 0
      },
      "text/plain": [
       "  0%|          | 0/6 [00:00<?, ?it/s]"
      ]
     },
     "metadata": {},
     "output_type": "display_data"
    },
    {
     "data": {
      "application/vnd.jupyter.widget-view+json": {
       "model_id": "38ffc6415c7b423a8c1b28b9a7485e16",
       "version_major": 2,
       "version_minor": 0
      },
      "text/plain": [
       "  0%|          | 0/6 [00:00<?, ?it/s]"
      ]
     },
     "metadata": {},
     "output_type": "display_data"
    },
    {
     "data": {
      "application/vnd.jupyter.widget-view+json": {
       "model_id": "daa5f79fc1084b1d94f7869ad485d5e9",
       "version_major": 2,
       "version_minor": 0
      },
      "text/plain": [
       "  0%|          | 0/6 [00:00<?, ?it/s]"
      ]
     },
     "metadata": {},
     "output_type": "display_data"
    },
    {
     "data": {
      "application/vnd.jupyter.widget-view+json": {
       "model_id": "1f3d4ccb9d9d414980b3e8b2b7a49ba1",
       "version_major": 2,
       "version_minor": 0
      },
      "text/plain": [
       "  0%|          | 0/6 [00:00<?, ?it/s]"
      ]
     },
     "metadata": {},
     "output_type": "display_data"
    },
    {
     "data": {
      "application/vnd.jupyter.widget-view+json": {
       "model_id": "95f7cd1683e24badad365d04247de158",
       "version_major": 2,
       "version_minor": 0
      },
      "text/plain": [
       "  0%|          | 0/6 [00:00<?, ?it/s]"
      ]
     },
     "metadata": {},
     "output_type": "display_data"
    },
    {
     "data": {
      "application/vnd.jupyter.widget-view+json": {
       "model_id": "796157ca7ea34303a0b0a8e3ee6b6c97",
       "version_major": 2,
       "version_minor": 0
      },
      "text/plain": [
       "  0%|          | 0/6 [00:00<?, ?it/s]"
      ]
     },
     "metadata": {},
     "output_type": "display_data"
    },
    {
     "data": {
      "application/vnd.jupyter.widget-view+json": {
       "model_id": "1e9d9949f0a746498efaa3ff8aab402d",
       "version_major": 2,
       "version_minor": 0
      },
      "text/plain": [
       "  0%|          | 0/6 [00:00<?, ?it/s]"
      ]
     },
     "metadata": {},
     "output_type": "display_data"
    },
    {
     "data": {
      "application/vnd.jupyter.widget-view+json": {
       "model_id": "2b1f8e4f62aa42b0a692b90e240f1fff",
       "version_major": 2,
       "version_minor": 0
      },
      "text/plain": [
       "  0%|          | 0/6 [00:00<?, ?it/s]"
      ]
     },
     "metadata": {},
     "output_type": "display_data"
    },
    {
     "data": {
      "application/vnd.jupyter.widget-view+json": {
       "model_id": "2fc94880eb2644b08e1b3e7399a7beeb",
       "version_major": 2,
       "version_minor": 0
      },
      "text/plain": [
       "  0%|          | 0/6 [00:00<?, ?it/s]"
      ]
     },
     "metadata": {},
     "output_type": "display_data"
    },
    {
     "data": {
      "application/vnd.jupyter.widget-view+json": {
       "model_id": "54a506222e224624a518c9654334f927",
       "version_major": 2,
       "version_minor": 0
      },
      "text/plain": [
       "  0%|          | 0/6 [00:00<?, ?it/s]"
      ]
     },
     "metadata": {},
     "output_type": "display_data"
    },
    {
     "data": {
      "application/vnd.jupyter.widget-view+json": {
       "model_id": "e7263291ae4b443cb3092869232d889a",
       "version_major": 2,
       "version_minor": 0
      },
      "text/plain": [
       "  0%|          | 0/4 [00:00<?, ?it/s]"
      ]
     },
     "metadata": {},
     "output_type": "display_data"
    },
    {
     "data": {
      "application/vnd.jupyter.widget-view+json": {
       "model_id": "31c4f4ecfdee4a94ada6078835db34b8",
       "version_major": 2,
       "version_minor": 0
      },
      "text/plain": [
       "  0%|          | 0/6 [00:00<?, ?it/s]"
      ]
     },
     "metadata": {},
     "output_type": "display_data"
    },
    {
     "data": {
      "application/vnd.jupyter.widget-view+json": {
       "model_id": "1eabe1afd20c4351921d7096b227f2c7",
       "version_major": 2,
       "version_minor": 0
      },
      "text/plain": [
       "  0%|          | 0/6 [00:00<?, ?it/s]"
      ]
     },
     "metadata": {},
     "output_type": "display_data"
    },
    {
     "data": {
      "application/vnd.jupyter.widget-view+json": {
       "model_id": "2f4254cb831e4612a5874bb5cf6951ef",
       "version_major": 2,
       "version_minor": 0
      },
      "text/plain": [
       "  0%|          | 0/6 [00:00<?, ?it/s]"
      ]
     },
     "metadata": {},
     "output_type": "display_data"
    },
    {
     "data": {
      "application/vnd.jupyter.widget-view+json": {
       "model_id": "4b093cfed60448028387318aac4e36e7",
       "version_major": 2,
       "version_minor": 0
      },
      "text/plain": [
       "  0%|          | 0/6 [00:00<?, ?it/s]"
      ]
     },
     "metadata": {},
     "output_type": "display_data"
    },
    {
     "data": {
      "application/vnd.jupyter.widget-view+json": {
       "model_id": "afdeeac975364fdbba74711dc3151e5e",
       "version_major": 2,
       "version_minor": 0
      },
      "text/plain": [
       "  0%|          | 0/6 [00:00<?, ?it/s]"
      ]
     },
     "metadata": {},
     "output_type": "display_data"
    },
    {
     "data": {
      "application/vnd.jupyter.widget-view+json": {
       "model_id": "d105f8a0af33483cb0a2e86751108ef6",
       "version_major": 2,
       "version_minor": 0
      },
      "text/plain": [
       "  0%|          | 0/6 [00:00<?, ?it/s]"
      ]
     },
     "metadata": {},
     "output_type": "display_data"
    },
    {
     "data": {
      "application/vnd.jupyter.widget-view+json": {
       "model_id": "8d323f1a72cf4af28be6d60efe87e2c8",
       "version_major": 2,
       "version_minor": 0
      },
      "text/plain": [
       "  0%|          | 0/6 [00:00<?, ?it/s]"
      ]
     },
     "metadata": {},
     "output_type": "display_data"
    },
    {
     "data": {
      "application/vnd.jupyter.widget-view+json": {
       "model_id": "dda50ff8f268442296469337ade04d2d",
       "version_major": 2,
       "version_minor": 0
      },
      "text/plain": [
       "  0%|          | 0/6 [00:00<?, ?it/s]"
      ]
     },
     "metadata": {},
     "output_type": "display_data"
    },
    {
     "data": {
      "application/vnd.jupyter.widget-view+json": {
       "model_id": "792d7301fe4e4867b94c056691e3aac6",
       "version_major": 2,
       "version_minor": 0
      },
      "text/plain": [
       "  0%|          | 0/6 [00:00<?, ?it/s]"
      ]
     },
     "metadata": {},
     "output_type": "display_data"
    },
    {
     "data": {
      "application/vnd.jupyter.widget-view+json": {
       "model_id": "a315a1686fb74975a654d1a55e6b92cb",
       "version_major": 2,
       "version_minor": 0
      },
      "text/plain": [
       "  0%|          | 0/6 [00:00<?, ?it/s]"
      ]
     },
     "metadata": {},
     "output_type": "display_data"
    },
    {
     "data": {
      "application/vnd.jupyter.widget-view+json": {
       "model_id": "7a4e78f8a984462fad6d999f02ca6f88",
       "version_major": 2,
       "version_minor": 0
      },
      "text/plain": [
       "  0%|          | 0/6 [00:00<?, ?it/s]"
      ]
     },
     "metadata": {},
     "output_type": "display_data"
    }
   ],
   "source": [
    "''' Fit model on each map0 = Context B, map1 = Context A_'''\n",
    "\n",
    "model = CircularRegression(alpha=REGULARIZATION)\n",
    "\n",
    "# cross-validate the model\n",
    "for m, session in zip(mice, sessions):\n",
    "    for s in tdqm(session):\n",
    "        d = data[m][s]\n",
    "        \n",
    "        #load data\n",
    "        rawdata_file = 'RAW_' + m + '_' + s + '.npy'\n",
    "        behavior_file = 'BEHAVIOR_' + m + '_' + s + '.npy'\n",
    "        \n",
    "        raw = np.load(load_folder + rawdata_file, allow_pickle=True)\n",
    "        behaviorfil = np.load(load_folder + behavior_file, allow_pickle=False)\n",
    "        \n",
    "        cell_IDs = raw.item().get('cellsfil')\n",
    "        gridcell = d['gridcell'].astype(bool)\n",
    "        gridcells = cell_IDs[gridcell]\n",
    "        \n",
    "        if len(gridcells) >= 10:\n",
    "            X = d['X']\n",
    "            y = d['y']\n",
    "\n",
    "            # randomly split all trials into training vs. test sets & identify their indices\n",
    "            ds_0 = d['ds_idx'][0, :]\n",
    "            ds_1 = d['ds_idx'][1, :]\n",
    "\n",
    "            # get CV scores for each train and test combo - save these!\n",
    "            train0_test0_scores = train_vs_test_blocks(X, y, ds_0, ds_0)\n",
    "            train0_test1_scores = train_vs_test_blocks(X, y, ds_0, ds_1)\n",
    "            train1_test1_scores = train_vs_test_blocks(X, y, ds_1, ds_1)\n",
    "            train1_test0_scores = train_vs_test_blocks(X, y, ds_1, ds_0)\n",
    "            d['BA_scores'] = np.row_stack((train0_test0_scores, train0_test1_scores, \n",
    "                                        train1_test1_scores, train1_test0_scores))\n",
    "            BA_scores_file = 'BA_scores_decoder_' + m + '_' + s + '.npy'\n",
    "            np.save(save_folder + BA_scores_file, d['BA_scores'])"
   ]
  },
  {
   "cell_type": "code",
   "execution_count": 49,
   "id": "f3bf46ba",
   "metadata": {},
   "outputs": [],
   "source": [
    "''' Downsample to Match Speed and Num Observations (A vs B')'''\n",
    "for m, session in zip(mice, sessions):\n",
    "    for s in session:\n",
    "        d = data[m][s]\n",
    "        \n",
    "        #load data\n",
    "        rawdata_file = 'RAW_' + m + '_' + s + '.npy'\n",
    "        behavior_file = 'BEHAVIOR_' + m + '_' + s + '.npy'\n",
    "        \n",
    "        raw = np.load(load_folder + rawdata_file, allow_pickle=True)\n",
    "        behaviorfil = np.load(load_folder + behavior_file, allow_pickle=False)\n",
    "        \n",
    "        cell_IDs = raw.item().get('cellsfil')\n",
    "        gridcell = d['gridcell'].astype(bool)\n",
    "        gridcells = cell_IDs[gridcell]\n",
    "        \n",
    "        if len(gridcells) >= 10:\n",
    "            speed = behaviorfil[:, 1]\n",
    "            y = d['y']\n",
    "            map0_idx = d['Aidx']\n",
    "            map1_idx = d['B_ngidx']\n",
    "\n",
    "            # bin speed into 10cm/s bins\n",
    "            edges = np.arange(10, np.max(speed), 10)\n",
    "            speed_idx = np.digitize(speed, edges)\n",
    "\n",
    "            # get indices for each map's observations\n",
    "            obs_0 = np.arange(y.shape[0])[map0_idx]\n",
    "            obs_1 = np.arange(y.shape[0])[map1_idx]\n",
    "\n",
    "            # array to hold indices for downsampling\n",
    "            ds_0 = np.asarray([]) # array to hold indices for downsampling map 0\n",
    "            ds_1 = np.asarray([]) # array to hold indices for downsampling map 1\n",
    "\n",
    "            # match occupancy of each bin for each map\n",
    "            bins, ct = np.unique(speed_idx, return_counts=True)\n",
    "            for b in bins:\n",
    "                occupancy_0 = np.sum(map0_idx[speed_idx == b])\n",
    "                occupancy_1 = np.sum(map1_idx[speed_idx == b])  \n",
    "                idx_0 = np.where(map0_idx & (speed_idx == b))[0]\n",
    "                idx_1 = np.where(map1_idx & (speed_idx == b))[0]\n",
    "\n",
    "                if occupancy_0 > occupancy_1:\n",
    "                    # need to downsample map 0 for this speed bin\n",
    "                    n_timepts = occupancy_1        \n",
    "                    ds_0 = np.append(ds_0, np.random.choice(idx_0, n_timepts, replace=False))\n",
    "                    ds_1 = np.append(ds_1, idx_1)\n",
    "                else:\n",
    "                    # need to downsample map 1 for this speed bin\n",
    "                    n_timepts = occupancy_0\n",
    "                    ds_0 = np.append(ds_0, idx_0)\n",
    "                    ds_1 = np.append(ds_1, np.random.choice(idx_1, n_timepts, replace=False)) \n",
    "            ds_0 = ds_0.astype(int)\n",
    "            ds_1 = ds_1.astype(int)\n",
    "\n",
    "            d['ds_idx'] = np.row_stack((ds_0, ds_1))"
   ]
  },
  {
   "cell_type": "code",
   "execution_count": 50,
   "id": "22a83adb",
   "metadata": {},
   "outputs": [
    {
     "data": {
      "application/vnd.jupyter.widget-view+json": {
       "model_id": "8c0e9fdc4edf44deaf2044cdbfe49433",
       "version_major": 2,
       "version_minor": 0
      },
      "text/plain": [
       "  0%|          | 0/3 [00:00<?, ?it/s]"
      ]
     },
     "metadata": {},
     "output_type": "display_data"
    },
    {
     "data": {
      "application/vnd.jupyter.widget-view+json": {
       "model_id": "b21881bb05bf401199bdee42fb09a771",
       "version_major": 2,
       "version_minor": 0
      },
      "text/plain": [
       "  0%|          | 0/6 [00:00<?, ?it/s]"
      ]
     },
     "metadata": {},
     "output_type": "display_data"
    },
    {
     "data": {
      "application/vnd.jupyter.widget-view+json": {
       "model_id": "f3dd04cfa87048a1a9399d6877a0d67e",
       "version_major": 2,
       "version_minor": 0
      },
      "text/plain": [
       "  0%|          | 0/4 [00:00<?, ?it/s]"
      ]
     },
     "metadata": {},
     "output_type": "display_data"
    },
    {
     "data": {
      "application/vnd.jupyter.widget-view+json": {
       "model_id": "fb1176b98da3442383a77743ea022b5e",
       "version_major": 2,
       "version_minor": 0
      },
      "text/plain": [
       "  0%|          | 0/6 [00:00<?, ?it/s]"
      ]
     },
     "metadata": {},
     "output_type": "display_data"
    },
    {
     "data": {
      "application/vnd.jupyter.widget-view+json": {
       "model_id": "bd77f03a5b264a56bb5a45ae10bef928",
       "version_major": 2,
       "version_minor": 0
      },
      "text/plain": [
       "  0%|          | 0/6 [00:00<?, ?it/s]"
      ]
     },
     "metadata": {},
     "output_type": "display_data"
    },
    {
     "data": {
      "application/vnd.jupyter.widget-view+json": {
       "model_id": "d86ed9a7cf9847e78ff2057875357ada",
       "version_major": 2,
       "version_minor": 0
      },
      "text/plain": [
       "  0%|          | 0/6 [00:00<?, ?it/s]"
      ]
     },
     "metadata": {},
     "output_type": "display_data"
    },
    {
     "data": {
      "application/vnd.jupyter.widget-view+json": {
       "model_id": "debf7f3aa32945c79594e5b976f94160",
       "version_major": 2,
       "version_minor": 0
      },
      "text/plain": [
       "  0%|          | 0/6 [00:00<?, ?it/s]"
      ]
     },
     "metadata": {},
     "output_type": "display_data"
    },
    {
     "data": {
      "application/vnd.jupyter.widget-view+json": {
       "model_id": "1506eece3d4b4e79a94489e7bd8069e3",
       "version_major": 2,
       "version_minor": 0
      },
      "text/plain": [
       "  0%|          | 0/6 [00:00<?, ?it/s]"
      ]
     },
     "metadata": {},
     "output_type": "display_data"
    },
    {
     "data": {
      "application/vnd.jupyter.widget-view+json": {
       "model_id": "ae83164d97084137b5d663c95b072f64",
       "version_major": 2,
       "version_minor": 0
      },
      "text/plain": [
       "  0%|          | 0/6 [00:00<?, ?it/s]"
      ]
     },
     "metadata": {},
     "output_type": "display_data"
    },
    {
     "data": {
      "application/vnd.jupyter.widget-view+json": {
       "model_id": "980d3aa05c47477cb3971687d5335c37",
       "version_major": 2,
       "version_minor": 0
      },
      "text/plain": [
       "  0%|          | 0/6 [00:00<?, ?it/s]"
      ]
     },
     "metadata": {},
     "output_type": "display_data"
    },
    {
     "data": {
      "application/vnd.jupyter.widget-view+json": {
       "model_id": "df97b6fd44684fd392ae2c4bdc893b79",
       "version_major": 2,
       "version_minor": 0
      },
      "text/plain": [
       "  0%|          | 0/6 [00:00<?, ?it/s]"
      ]
     },
     "metadata": {},
     "output_type": "display_data"
    },
    {
     "data": {
      "application/vnd.jupyter.widget-view+json": {
       "model_id": "ae04647f3b6c4e52a239f89e85c51b90",
       "version_major": 2,
       "version_minor": 0
      },
      "text/plain": [
       "  0%|          | 0/6 [00:00<?, ?it/s]"
      ]
     },
     "metadata": {},
     "output_type": "display_data"
    },
    {
     "data": {
      "application/vnd.jupyter.widget-view+json": {
       "model_id": "b6626156eee64567b728640d59b6e702",
       "version_major": 2,
       "version_minor": 0
      },
      "text/plain": [
       "  0%|          | 0/6 [00:00<?, ?it/s]"
      ]
     },
     "metadata": {},
     "output_type": "display_data"
    },
    {
     "data": {
      "application/vnd.jupyter.widget-view+json": {
       "model_id": "4c855e12cfc74a5380fd1cc0d9c9139d",
       "version_major": 2,
       "version_minor": 0
      },
      "text/plain": [
       "  0%|          | 0/6 [00:00<?, ?it/s]"
      ]
     },
     "metadata": {},
     "output_type": "display_data"
    },
    {
     "data": {
      "application/vnd.jupyter.widget-view+json": {
       "model_id": "947713664dce4009847957047617b78f",
       "version_major": 2,
       "version_minor": 0
      },
      "text/plain": [
       "  0%|          | 0/6 [00:00<?, ?it/s]"
      ]
     },
     "metadata": {},
     "output_type": "display_data"
    },
    {
     "data": {
      "application/vnd.jupyter.widget-view+json": {
       "model_id": "e41b785ba5a4468898888fc4dd029e72",
       "version_major": 2,
       "version_minor": 0
      },
      "text/plain": [
       "  0%|          | 0/6 [00:00<?, ?it/s]"
      ]
     },
     "metadata": {},
     "output_type": "display_data"
    },
    {
     "data": {
      "application/vnd.jupyter.widget-view+json": {
       "model_id": "e3bba00c35b34082a53b7eec6cea56f8",
       "version_major": 2,
       "version_minor": 0
      },
      "text/plain": [
       "  0%|          | 0/6 [00:00<?, ?it/s]"
      ]
     },
     "metadata": {},
     "output_type": "display_data"
    },
    {
     "data": {
      "application/vnd.jupyter.widget-view+json": {
       "model_id": "22990d1c0b194a29a93a90235f0b52cb",
       "version_major": 2,
       "version_minor": 0
      },
      "text/plain": [
       "  0%|          | 0/4 [00:00<?, ?it/s]"
      ]
     },
     "metadata": {},
     "output_type": "display_data"
    },
    {
     "data": {
      "application/vnd.jupyter.widget-view+json": {
       "model_id": "d76b81472e874b38a0f8b0d1b9e54163",
       "version_major": 2,
       "version_minor": 0
      },
      "text/plain": [
       "  0%|          | 0/6 [00:00<?, ?it/s]"
      ]
     },
     "metadata": {},
     "output_type": "display_data"
    },
    {
     "data": {
      "application/vnd.jupyter.widget-view+json": {
       "model_id": "f2da4476b18245b1818321d4aa278cab",
       "version_major": 2,
       "version_minor": 0
      },
      "text/plain": [
       "  0%|          | 0/6 [00:00<?, ?it/s]"
      ]
     },
     "metadata": {},
     "output_type": "display_data"
    },
    {
     "data": {
      "application/vnd.jupyter.widget-view+json": {
       "model_id": "d5884b0cb2b54dbc9c4b7b18a91b8670",
       "version_major": 2,
       "version_minor": 0
      },
      "text/plain": [
       "  0%|          | 0/6 [00:00<?, ?it/s]"
      ]
     },
     "metadata": {},
     "output_type": "display_data"
    },
    {
     "data": {
      "application/vnd.jupyter.widget-view+json": {
       "model_id": "4a64e21c87324bbc87927b9ad349f5ee",
       "version_major": 2,
       "version_minor": 0
      },
      "text/plain": [
       "  0%|          | 0/6 [00:00<?, ?it/s]"
      ]
     },
     "metadata": {},
     "output_type": "display_data"
    },
    {
     "data": {
      "application/vnd.jupyter.widget-view+json": {
       "model_id": "e6027d7dd8154582a513333eb273c66a",
       "version_major": 2,
       "version_minor": 0
      },
      "text/plain": [
       "  0%|          | 0/6 [00:00<?, ?it/s]"
      ]
     },
     "metadata": {},
     "output_type": "display_data"
    },
    {
     "data": {
      "application/vnd.jupyter.widget-view+json": {
       "model_id": "8bc3bcca6d79445b86ee9f9269032c44",
       "version_major": 2,
       "version_minor": 0
      },
      "text/plain": [
       "  0%|          | 0/6 [00:00<?, ?it/s]"
      ]
     },
     "metadata": {},
     "output_type": "display_data"
    },
    {
     "data": {
      "application/vnd.jupyter.widget-view+json": {
       "model_id": "dd4f6c3a2244451db93b70a2d53d4fbf",
       "version_major": 2,
       "version_minor": 0
      },
      "text/plain": [
       "  0%|          | 0/6 [00:00<?, ?it/s]"
      ]
     },
     "metadata": {},
     "output_type": "display_data"
    },
    {
     "data": {
      "application/vnd.jupyter.widget-view+json": {
       "model_id": "28c92790d5fc426f9c010db125795cfa",
       "version_major": 2,
       "version_minor": 0
      },
      "text/plain": [
       "  0%|          | 0/6 [00:00<?, ?it/s]"
      ]
     },
     "metadata": {},
     "output_type": "display_data"
    },
    {
     "data": {
      "application/vnd.jupyter.widget-view+json": {
       "model_id": "922c361f5c004a2495b2ffd55d3f5899",
       "version_major": 2,
       "version_minor": 0
      },
      "text/plain": [
       "  0%|          | 0/6 [00:00<?, ?it/s]"
      ]
     },
     "metadata": {},
     "output_type": "display_data"
    },
    {
     "data": {
      "application/vnd.jupyter.widget-view+json": {
       "model_id": "3813a2e22ab2413185e6b4fdf2044833",
       "version_major": 2,
       "version_minor": 0
      },
      "text/plain": [
       "  0%|          | 0/6 [00:00<?, ?it/s]"
      ]
     },
     "metadata": {},
     "output_type": "display_data"
    },
    {
     "data": {
      "application/vnd.jupyter.widget-view+json": {
       "model_id": "edb04eb74cf844abb4bbb0d7f24db81c",
       "version_major": 2,
       "version_minor": 0
      },
      "text/plain": [
       "  0%|          | 0/6 [00:00<?, ?it/s]"
      ]
     },
     "metadata": {},
     "output_type": "display_data"
    }
   ],
   "source": [
    "''' Fit model on each map0 = Context A, map1 = Context B_'''\n",
    "\n",
    "model = CircularRegression(alpha=REGULARIZATION)\n",
    "\n",
    "# cross-validate the model\n",
    "for m, session in zip(mice, sessions):\n",
    "    for s in tdqm(session):\n",
    "        d = data[m][s]\n",
    "        \n",
    "        #load data\n",
    "        rawdata_file = 'RAW_' + m + '_' + s + '.npy'\n",
    "        behavior_file = 'BEHAVIOR_' + m + '_' + s + '.npy'\n",
    "        \n",
    "        raw = np.load(load_folder + rawdata_file, allow_pickle=True)\n",
    "        behaviorfil = np.load(load_folder + behavior_file, allow_pickle=False)\n",
    "        \n",
    "        cell_IDs = raw.item().get('cellsfil')\n",
    "        gridcell = d['gridcell'].astype(bool)\n",
    "        gridcells = cell_IDs[gridcell]\n",
    "        \n",
    "        if len(gridcells) >= 10:\n",
    "            X = d['X']\n",
    "            y = d['y']\n",
    "\n",
    "            # randomly split all trials into training vs. test sets & identify their indices\n",
    "            ds_0 = d['ds_idx'][0, :]\n",
    "            ds_1 = d['ds_idx'][1, :]\n",
    "            \n",
    "            # get CV scores for each train and test combo - save these!\n",
    "            train0_test0_scores = train_vs_test_blocks(X, y, ds_0, ds_0)\n",
    "            train0_test1_scores = train_vs_test_blocks(X, y, ds_0, ds_1)\n",
    "            train1_test1_scores = train_vs_test_blocks(X, y, ds_1, ds_1)\n",
    "            train1_test0_scores = train_vs_test_blocks(X, y, ds_1, ds_0)\n",
    "            d['AB_scores'] = np.row_stack((train0_test0_scores, train0_test1_scores, \n",
    "                                        train1_test1_scores, train1_test0_scores))\n",
    "            AB_scores_file = 'AB_scores_decoder_' + m + '_' + s + '.npy'\n",
    "            np.save(save_folder + AB_scores_file, d['AB_scores'])"
   ]
  },
  {
   "cell_type": "code",
   "execution_count": 51,
   "id": "07fe6983",
   "metadata": {
    "scrolled": true
   },
   "outputs": [
    {
     "data": {
      "application/vnd.jupyter.widget-view+json": {
       "model_id": "680a30b427cd43dfa4214df23e6ceee0",
       "version_major": 2,
       "version_minor": 0
      },
      "text/plain": [
       "  0%|          | 0/3 [00:00<?, ?it/s]"
      ]
     },
     "metadata": {},
     "output_type": "display_data"
    },
    {
     "data": {
      "application/vnd.jupyter.widget-view+json": {
       "model_id": "0131eaecb40841fa84f115ccd9b56b55",
       "version_major": 2,
       "version_minor": 0
      },
      "text/plain": [
       "  0%|          | 0/6 [00:00<?, ?it/s]"
      ]
     },
     "metadata": {},
     "output_type": "display_data"
    },
    {
     "data": {
      "application/vnd.jupyter.widget-view+json": {
       "model_id": "ee319f8f4fc24f4abccabaa7fae4945e",
       "version_major": 2,
       "version_minor": 0
      },
      "text/plain": [
       "  0%|          | 0/4 [00:00<?, ?it/s]"
      ]
     },
     "metadata": {},
     "output_type": "display_data"
    },
    {
     "data": {
      "application/vnd.jupyter.widget-view+json": {
       "model_id": "fa7e13d1fd6d4f4490497a950ca3af7a",
       "version_major": 2,
       "version_minor": 0
      },
      "text/plain": [
       "  0%|          | 0/6 [00:00<?, ?it/s]"
      ]
     },
     "metadata": {},
     "output_type": "display_data"
    },
    {
     "data": {
      "application/vnd.jupyter.widget-view+json": {
       "model_id": "557fb83e54f94deb9a9c6eb225f33598",
       "version_major": 2,
       "version_minor": 0
      },
      "text/plain": [
       "  0%|          | 0/6 [00:00<?, ?it/s]"
      ]
     },
     "metadata": {},
     "output_type": "display_data"
    },
    {
     "data": {
      "application/vnd.jupyter.widget-view+json": {
       "model_id": "5a14f93c6cfd4bcfbcad16984ad8ea8e",
       "version_major": 2,
       "version_minor": 0
      },
      "text/plain": [
       "  0%|          | 0/6 [00:00<?, ?it/s]"
      ]
     },
     "metadata": {},
     "output_type": "display_data"
    },
    {
     "data": {
      "application/vnd.jupyter.widget-view+json": {
       "model_id": "675742243c4f4d68ad50e95184b7f2a8",
       "version_major": 2,
       "version_minor": 0
      },
      "text/plain": [
       "  0%|          | 0/6 [00:00<?, ?it/s]"
      ]
     },
     "metadata": {},
     "output_type": "display_data"
    },
    {
     "data": {
      "application/vnd.jupyter.widget-view+json": {
       "model_id": "1f446807411847ddbf328dba8de8446d",
       "version_major": 2,
       "version_minor": 0
      },
      "text/plain": [
       "  0%|          | 0/6 [00:00<?, ?it/s]"
      ]
     },
     "metadata": {},
     "output_type": "display_data"
    },
    {
     "data": {
      "application/vnd.jupyter.widget-view+json": {
       "model_id": "f0dc1cec8177417ab0fd94367fb53966",
       "version_major": 2,
       "version_minor": 0
      },
      "text/plain": [
       "  0%|          | 0/6 [00:00<?, ?it/s]"
      ]
     },
     "metadata": {},
     "output_type": "display_data"
    },
    {
     "data": {
      "application/vnd.jupyter.widget-view+json": {
       "model_id": "5a39fb4d9b6c4b8ca6dd62af5748c837",
       "version_major": 2,
       "version_minor": 0
      },
      "text/plain": [
       "  0%|          | 0/6 [00:00<?, ?it/s]"
      ]
     },
     "metadata": {},
     "output_type": "display_data"
    },
    {
     "data": {
      "application/vnd.jupyter.widget-view+json": {
       "model_id": "222819e4ac2d4560ba64265f34571ce7",
       "version_major": 2,
       "version_minor": 0
      },
      "text/plain": [
       "  0%|          | 0/6 [00:00<?, ?it/s]"
      ]
     },
     "metadata": {},
     "output_type": "display_data"
    },
    {
     "data": {
      "application/vnd.jupyter.widget-view+json": {
       "model_id": "da7ef0086d5940608c74b3947f05be6d",
       "version_major": 2,
       "version_minor": 0
      },
      "text/plain": [
       "  0%|          | 0/6 [00:00<?, ?it/s]"
      ]
     },
     "metadata": {},
     "output_type": "display_data"
    },
    {
     "data": {
      "application/vnd.jupyter.widget-view+json": {
       "model_id": "2eb79c44a66643e2a64868fc70388802",
       "version_major": 2,
       "version_minor": 0
      },
      "text/plain": [
       "  0%|          | 0/6 [00:00<?, ?it/s]"
      ]
     },
     "metadata": {},
     "output_type": "display_data"
    },
    {
     "data": {
      "application/vnd.jupyter.widget-view+json": {
       "model_id": "a78cc7d5f0dd460ba665e718631d3578",
       "version_major": 2,
       "version_minor": 0
      },
      "text/plain": [
       "  0%|          | 0/6 [00:00<?, ?it/s]"
      ]
     },
     "metadata": {},
     "output_type": "display_data"
    },
    {
     "data": {
      "application/vnd.jupyter.widget-view+json": {
       "model_id": "44854169d7c948218b120488cf5b85dd",
       "version_major": 2,
       "version_minor": 0
      },
      "text/plain": [
       "  0%|          | 0/6 [00:00<?, ?it/s]"
      ]
     },
     "metadata": {},
     "output_type": "display_data"
    },
    {
     "data": {
      "application/vnd.jupyter.widget-view+json": {
       "model_id": "59b8ddd5b4d9450bbc9b3afbd9c772ea",
       "version_major": 2,
       "version_minor": 0
      },
      "text/plain": [
       "  0%|          | 0/6 [00:00<?, ?it/s]"
      ]
     },
     "metadata": {},
     "output_type": "display_data"
    },
    {
     "data": {
      "application/vnd.jupyter.widget-view+json": {
       "model_id": "ce20bdd7e51a44f68bddf90dda94789a",
       "version_major": 2,
       "version_minor": 0
      },
      "text/plain": [
       "  0%|          | 0/6 [00:00<?, ?it/s]"
      ]
     },
     "metadata": {},
     "output_type": "display_data"
    },
    {
     "data": {
      "application/vnd.jupyter.widget-view+json": {
       "model_id": "8f5cc0cae464418aa21c4c3ff1b8d5a0",
       "version_major": 2,
       "version_minor": 0
      },
      "text/plain": [
       "  0%|          | 0/4 [00:00<?, ?it/s]"
      ]
     },
     "metadata": {},
     "output_type": "display_data"
    },
    {
     "data": {
      "application/vnd.jupyter.widget-view+json": {
       "model_id": "5ab22407e8ed43b0a42cb6d79fca5b0a",
       "version_major": 2,
       "version_minor": 0
      },
      "text/plain": [
       "  0%|          | 0/6 [00:00<?, ?it/s]"
      ]
     },
     "metadata": {},
     "output_type": "display_data"
    },
    {
     "data": {
      "application/vnd.jupyter.widget-view+json": {
       "model_id": "74bd29213f0e4615a63453f1d026065b",
       "version_major": 2,
       "version_minor": 0
      },
      "text/plain": [
       "  0%|          | 0/6 [00:00<?, ?it/s]"
      ]
     },
     "metadata": {},
     "output_type": "display_data"
    },
    {
     "data": {
      "application/vnd.jupyter.widget-view+json": {
       "model_id": "694c84746cde49958d5d7fb1210a838e",
       "version_major": 2,
       "version_minor": 0
      },
      "text/plain": [
       "  0%|          | 0/6 [00:00<?, ?it/s]"
      ]
     },
     "metadata": {},
     "output_type": "display_data"
    },
    {
     "data": {
      "application/vnd.jupyter.widget-view+json": {
       "model_id": "7499a8fc559744e3827860c8fc6a796e",
       "version_major": 2,
       "version_minor": 0
      },
      "text/plain": [
       "  0%|          | 0/6 [00:00<?, ?it/s]"
      ]
     },
     "metadata": {},
     "output_type": "display_data"
    },
    {
     "data": {
      "application/vnd.jupyter.widget-view+json": {
       "model_id": "28f0264fb34c458e80945c327cc26705",
       "version_major": 2,
       "version_minor": 0
      },
      "text/plain": [
       "  0%|          | 0/6 [00:00<?, ?it/s]"
      ]
     },
     "metadata": {},
     "output_type": "display_data"
    },
    {
     "data": {
      "application/vnd.jupyter.widget-view+json": {
       "model_id": "f08d3b51d98c4291b6291287f11dd131",
       "version_major": 2,
       "version_minor": 0
      },
      "text/plain": [
       "  0%|          | 0/6 [00:00<?, ?it/s]"
      ]
     },
     "metadata": {},
     "output_type": "display_data"
    },
    {
     "data": {
      "application/vnd.jupyter.widget-view+json": {
       "model_id": "091d37bde6064606b2eb8557947987e9",
       "version_major": 2,
       "version_minor": 0
      },
      "text/plain": [
       "  0%|          | 0/6 [00:00<?, ?it/s]"
      ]
     },
     "metadata": {},
     "output_type": "display_data"
    },
    {
     "data": {
      "application/vnd.jupyter.widget-view+json": {
       "model_id": "5cb114635bd44532b2b2f1a0caef837e",
       "version_major": 2,
       "version_minor": 0
      },
      "text/plain": [
       "  0%|          | 0/6 [00:00<?, ?it/s]"
      ]
     },
     "metadata": {},
     "output_type": "display_data"
    },
    {
     "data": {
      "application/vnd.jupyter.widget-view+json": {
       "model_id": "ef6b364df58f4aacb043eb9b342edfa5",
       "version_major": 2,
       "version_minor": 0
      },
      "text/plain": [
       "  0%|          | 0/6 [00:00<?, ?it/s]"
      ]
     },
     "metadata": {},
     "output_type": "display_data"
    },
    {
     "data": {
      "application/vnd.jupyter.widget-view+json": {
       "model_id": "c2e93bbde4994b688e761c1a6243ddc8",
       "version_major": 2,
       "version_minor": 0
      },
      "text/plain": [
       "  0%|          | 0/6 [00:00<?, ?it/s]"
      ]
     },
     "metadata": {},
     "output_type": "display_data"
    },
    {
     "data": {
      "application/vnd.jupyter.widget-view+json": {
       "model_id": "0a8880f7c23547aa928ce40926c02f9d",
       "version_major": 2,
       "version_minor": 0
      },
      "text/plain": [
       "  0%|          | 0/6 [00:00<?, ?it/s]"
      ]
     },
     "metadata": {},
     "output_type": "display_data"
    }
   ],
   "source": [
    "''' Collate Results from 6x Decoder Analyses Above '''\n",
    "\n",
    "#get total number of sessions that meet criteria\n",
    "count = 0\n",
    "for m, session in zip(mice, sessions):\n",
    "    for s in session:\n",
    "        d = data[m][s]\n",
    "        #load data\n",
    "        rawdata_file = 'RAW_' + m + '_' + s + '.npy'\n",
    "        behavior_file = 'BEHAVIOR_' + m + '_' + s + '.npy'\n",
    "        \n",
    "        raw = np.load(load_folder + rawdata_file, allow_pickle=True)\n",
    "        behaviorfil = np.load(load_folder + behavior_file, allow_pickle=False)\n",
    "        \n",
    "        cell_IDs = raw.item().get('cellsfil')\n",
    "        gridcell = d['gridcell'].astype(bool)\n",
    "        gridcells = cell_IDs[gridcell]\n",
    "        \n",
    "        if len(gridcells) >= 10:\n",
    "            count += 1\n",
    "\n",
    "#train test same arrays\n",
    "AA = np.zeros((3, count))\n",
    "BB = np.zeros((3, count))\n",
    "A_A_ = np.zeros((3, count))\n",
    "B_B_ = np.zeros((3, count))\n",
    "\n",
    "#train/test context-matched\n",
    "AA_ = []\n",
    "A_A = []\n",
    "BB_ = []\n",
    "B_B = []\n",
    "\n",
    "#train/test context-mismatched\n",
    "AB = []\n",
    "BA = []\n",
    "A_B_ = []\n",
    "B_A_ = []\n",
    "BA_ = []\n",
    "A_B = []\n",
    "AB_ = []\n",
    "B_A = []\n",
    "\n",
    "ysesh = []\n",
    "masesh = []\n",
    "agesesh = []\n",
    "\n",
    "count = -1\n",
    "for m, session in zip(mice, sessions):\n",
    "    for s in tdqm(session):\n",
    "        d = data[m][s]\n",
    "        #load data\n",
    "        rawdata_file = 'RAW_' + m + '_' + s + '.npy'\n",
    "        behavior_file = 'BEHAVIOR_' + m + '_' + s + '.npy'\n",
    "        \n",
    "        raw = np.load(load_folder + rawdata_file, allow_pickle=True)\n",
    "        behaviorfil = np.load(load_folder + behavior_file, allow_pickle=False)\n",
    "        \n",
    "        cell_IDs = raw.item().get('cellsfil')\n",
    "        gridcell = d['gridcell'].astype(bool)\n",
    "        gridcells = cell_IDs[gridcell]\n",
    "        \n",
    "        if len(gridcells) >= 10:\n",
    "            \n",
    "            #decoder run 1 A vs. A'\n",
    "            AA_scores_file = 'AA_scores_decoder_' + m + '_' + s + '.npy'\n",
    "            d['AA_scores'] = np.load(save_folder + AA_scores_file) \n",
    "            scores = d['AA_scores']\n",
    "\n",
    "            AA[0,count] = np.mean(scores[0,:])\n",
    "            A_A_[0, count] =  np.mean(scores[2,:])   \n",
    "            AA_ = np.append(AA_, np.mean(scores[1,:]))       \n",
    "            A_A = np.append(A_A, np.mean(scores[3,:]))\n",
    "            \n",
    "            #decoder run 2 B vs. B'\n",
    "            BB_scores_file = 'BB_scores_decoder_' + m + '_' + s + '.npy'\n",
    "            d['BB_scores'] = np.load(save_folder + BB_scores_file) \n",
    "            scores = d['BB_scores']\n",
    "\n",
    "            BB[0,count] = np.mean(scores[0,:])\n",
    "            B_B_[0, count] =  np.mean(scores[2,:])   \n",
    "            BB_ = np.append(BB_, np.mean(scores[1,:]))       \n",
    "            B_B = np.append(B_B, np.mean(scores[3,:]))\n",
    "            \n",
    "            #decoder run 3 A vs. B\n",
    "            ABscores_file = 'ABscores_decoder_' + m + '_' + s + '.npy'\n",
    "            d['ABscores'] = np.load(save_folder + ABscores_file)\n",
    "            scores = d['ABscores']\n",
    "            \n",
    "            AA[1,count] = np.mean(scores[0,:])\n",
    "            BB[1,count] = np.mean(scores[2,:]) \n",
    "            AB = np.append(AB, np.mean(scores[1,:]))       \n",
    "            BA = np.append(BA, np.mean(scores[3,:]))\n",
    "            \n",
    "            #decoder run 4 A' x B'\n",
    "            A_B_scores_file = 'A_B_scores_decoder_' + m + '_' + s + '.npy'\n",
    "            d['A_B_scores'] = np.load(save_folder + A_B_scores_file)\n",
    "            scores = d['A_B_scores']\n",
    "            \n",
    "            A_A_[1,count] = np.mean(scores[0,:])\n",
    "            B_B_[1,count] = np.mean(scores[2,:]) \n",
    "            A_B_ = np.append(A_B_, np.mean(scores[1,:]))       \n",
    "            B_A_ = np.append(B_A_, np.mean(scores[3,:]))\n",
    "            \n",
    "            #decoder run 5 B x A'\n",
    "            BA_scores_file = 'BA_scores_decoder_' + m + '_' + s + '.npy'\n",
    "            d['BA_scores'] = np.load(save_folder + BA_scores_file)\n",
    "            scores = d['BA_scores']\n",
    "            \n",
    "            BB[2,count] = np.mean(scores[0,:])\n",
    "            BA_ = np.append(BA_, np.mean(scores[1,:]))\n",
    "            A_A_[2,count] = np.mean(scores[2,:])\n",
    "            A_B = np.append(A_B, np.mean(scores[3,:]))\n",
    "            \n",
    "            #decoder run 6 A x B'\n",
    "            AB_scores_file = 'AB_scores_decoder_' + m + '_' + s + '.npy'\n",
    "            d['AB_scores'] = np.load(save_folder + AB_scores_file)\n",
    "            scores = d['AB_scores'] \n",
    "                             \n",
    "            AA[2,count] = np.mean(scores[0,:])\n",
    "            AB_ = np.append(AB_, np.mean(scores[1,:]))\n",
    "            B_B_[2,count] = np.mean(scores[2,:])\n",
    "            B_A = np.append(B_A, np.mean(scores[3,:]))\n",
    "              \n",
    "            count += 1\n",
    "            if m in SM_aged_mice:\n",
    "                agesesh = np.append(agesesh, count)\n",
    "            elif m in SM_MA_mice:\n",
    "                masesh = np.append(masesh, count)\n",
    "            else: \n",
    "                ysesh = np.append(ysesh, count)\n",
    "                \n",
    "ysesh = ysesh.astype(int)\n",
    "masesh = masesh.astype(int)\n",
    "agesesh = agesesh.astype(int)"
   ]
  },
  {
   "cell_type": "code",
   "execution_count": 52,
   "id": "021eca18",
   "metadata": {},
   "outputs": [
    {
     "data": {
      "image/png": "[encoded data removed]",
      "text/plain": [
       "<Figure size 260x125 with 2 Axes>"
      ]
     },
     "metadata": {},
     "output_type": "display_data"
    }
   ],
   "source": [
    "''' Plot Scatter of Decoder Scores Train/Test Same vs. Different Epoch (Split Maze Block Phase) (Figure S5G)'''\n",
    "\n",
    "# plot performance same train/test vs. different train/test\n",
    "f, (ax0, ax1) = plt.subplots(1, 2, figsize=(2.6, 1.25), sharey = True) \n",
    "#f.suptitle('Decoder Performance by Train/Test Pairing & Age Group')\n",
    "\n",
    "DOT_SIZE = 10\n",
    "DOT_LW = 0.5\n",
    "UNITY_WIDTH = 1\n",
    "SEM_WIDTH = 0.8\n",
    "\n",
    "avg_0to0 = np.mean(AA, axis = 0)\n",
    "avg_0to1 = AB\n",
    "avg_1to1 = np.mean(BB, axis = 0)\n",
    "avg_1to0 = BA\n",
    "\n",
    "# train on map 0, test on map 0 vs. test on map 1\n",
    "ax0.scatter(avg_0to1[ysesh], avg_0to0[ysesh],\n",
    "            facecolors='C0', edgecolors='C0', \n",
    "            s=DOT_SIZE, lw=DOT_LW, zorder=3, label = 'Young')   \n",
    "\n",
    "ax0.scatter(avg_0to1[masesh], avg_0to0[masesh],\n",
    "            facecolors='C2', edgecolors='C2', \n",
    "            s=DOT_SIZE, lw=DOT_LW, zorder=3, label = 'MA')   \n",
    "\n",
    "ax0.scatter(avg_0to1[agesesh], avg_0to0[agesesh],\n",
    "            facecolors='C1', edgecolors='C1', \n",
    "            s=DOT_SIZE, lw=DOT_LW, zorder=3, label = 'Aged')   \n",
    "\n",
    "# train on map 1, test on map 1 vs. test on map 0\n",
    "ax1.scatter(avg_1to1[ysesh], avg_1to0[ysesh],\n",
    "            facecolors='C0', edgecolors='C0', \n",
    "            s=DOT_SIZE, lw=DOT_LW, zorder=3, label = 'Young')\n",
    "\n",
    "ax1.scatter(avg_1to1[masesh], avg_1to0[masesh],\n",
    "            facecolors='C2', edgecolors='C2', \n",
    "            s=DOT_SIZE, lw=DOT_LW, zorder=3, label = 'MA')  \n",
    "\n",
    "ax1.scatter(avg_1to1[agesesh], avg_1to0[agesesh],\n",
    "            facecolors='C1', edgecolors='C1', \n",
    "            s=DOT_SIZE, lw=DOT_LW, zorder=3, label = 'Aged')\n",
    "\n",
    "# plot unity lines + shuffle/best lines\n",
    "ax0.plot([0, 1], [0, 1], '--k', lw=UNITY_WIDTH, alpha=1)\n",
    "ax1.plot([0, 1], [0, 1], '--k', lw=UNITY_WIDTH, alpha=1)\n",
    "\n",
    "# label everything\n",
    "ax0.set_title('Train Map A', fontsize=10, pad=4)\n",
    "ax0.set_ylabel('Test Map A', fontsize=9, labelpad=1)\n",
    "ax0.set_xlabel('Test Map B', fontsize=9, labelpad=1)\n",
    "ax0.set_ylim([-0.05, 1.05])\n",
    "ax0.set_xlim([-0.05, 1.05])\n",
    "ax0.set_xticks([0, 0.5, 1])\n",
    "ax0.set_xticklabels([0, 0.5, 1])\n",
    "ax0.set_yticks([0, 0.5, 1])\n",
    "ax0.set_yticklabels([0, 0.5, 1])\n",
    "\n",
    "ax1.set_title('Train Map B', fontsize=10, pad=4)\n",
    "#ax1.set_ylabel('Test Map 1', fontsize=9, labelpad=1)\n",
    "ax1.set_xlabel('Test Map B', fontsize=9, labelpad=1)\n",
    "ax1.set_ylim([-0.05, 1.05])\n",
    "ax1.set_xlim([-0.05, 1.05])\n",
    "ax1.set_xticks([0, 0.5, 1])\n",
    "ax1.set_xticklabels([0, 0.5, 1])\n",
    "ax1.set_yticks([0, 0.5, 1])\n",
    "ax1.set_yticklabels([0, 0.5, 1])\n",
    "\n",
    "ax0.tick_params(which='major', labelsize=8)\n",
    "ax1.tick_params(which='major', labelsize=8)\n",
    "#ax1.legend(fontsize = 8)\n",
    "#ax0.legend(fontsize = 8)\n",
    "\n",
    "f.savefig(save_folder + 'S5G.png', dpi=400, bbox_inches='tight')\n",
    "f.savefig(save_folder + 'S5G.svg', dpi=400, bbox_inches='tight')\n",
    "plt.show()"
   ]
  },
  {
   "cell_type": "code",
   "execution_count": 53,
   "id": "2e39a148",
   "metadata": {},
   "outputs": [
    {
     "name": "stdout",
     "output_type": "stream",
     "text": [
      "mean ± SEM train/test A: 0.7335740777820284, 0.026664457820052844\n",
      "mean ± SEM train/test B: 0.6809523142484782, 0.02867899806847948\n",
      "YOUNG train/test map A vs. map B: p = 0.13882489247566804\n",
      "\n",
      "mean ± SEM train/test A: 0.6425490317161192, 0.025569109795979615\n",
      "mean ± SEM train/test B: 0.681193853271414, 0.02199720683545283\n",
      "MA train/test map A vs. map B: p = 0.27678721415561813\n",
      "\n",
      "mean ± SEM train/test A: 0.6210000939819158, 0.031773158908886295\n",
      "mean ± SEM train/test B: 0.6243675141831, 0.03248500200008704\n",
      "AGED train/test map A vs. map B: p = 0.7807017388446356\n",
      "ALL train/test map A vs. map B: p = 0.8584878909577698\n",
      "\n",
      "YOUNG train/test same vs. train/test different: p = 9.788792723651038e-18\n",
      "mean ± SEM test same: 0.7072631960152531, 0.019662682036900057\n",
      "mean ± SEM test diff: 0.16429907108817224, 0.024337616863256435\n",
      "n = 96 model pairs\n",
      "\n",
      "MA train/test same vs. train/test different: p = 1.6943948963546656e-18\n",
      "mean ± SEM test same: 0.6618714424937666, 0.016890669891068542\n",
      "mean ± SEM test diff: 0.19236732282401547, 0.018773210974055977\n",
      "n = 102 model pairs\n",
      "\n",
      "AGED train/test same vs. train/test different: p = 1.6468921154966135e-16\n",
      "mean ± SEM test same: 0.6226838040825079, 0.022592788071624927\n",
      "mean ± SEM test diff: 0.12810094120790794, 0.015579415217710906\n",
      "n = 90 model pairs\n",
      "\n",
      "ALL train/test same vs. train/test different: p = 8.974075906614325e-49\n",
      "mean ± SEM test same: 0.6647558899974105, 0.011476845219662014\n",
      "mean ± SEM test diff: 0.1629279946570341, 0.011627319300005146\n",
      "n = 288 model pairs\n",
      "\n",
      "YOUNG vs. MA vs. AGED train/test map A : p = 0.006674898725044682\n",
      "YOUNG vs. MA vs. AGED train/test map B: p = 0.4546085364115011\n",
      "YOUNG vs. MA vs. AGED train/test map B/A: p = 0.6389737242424991\n",
      "YOUNG vs. MA vs. AGED train/test map A/B: p = 0.19111714886241823\n"
     ]
    }
   ],
   "source": [
    "'''Statistical Comparison of Decoder Scores Train/Test Same vs. Different by Age Group & Together'''\n",
    "allsind = np.concatenate((ysesh, masesh, agesesh))\n",
    "\n",
    "# train/test map 0 vs. map 1 on young mice\n",
    "m0vsm1_stat, m0vsm1_p = stats.ranksums(avg_0to0[ysesh], avg_1to1[ysesh])\n",
    "print('mean ± SEM train/test A: ' + str(np.mean(avg_0to0[ysesh])) + ', ' + str(stats.sem(avg_0to0[ysesh])))\n",
    "print('mean ± SEM train/test B: ' + str(np.mean(avg_1to1[ysesh])) + ', ' + str(stats.sem(avg_1to1[ysesh])))\n",
    "print('YOUNG train/test map A vs. map B: p = ' + str(m0vsm1_p))\n",
    "\n",
    "# train/test map 0 vs. map 1 on MA mice\n",
    "m0vsm1_stat, m0vsm1_p = stats.ranksums(avg_0to0[masesh], avg_1to1[masesh])\n",
    "print('\\nmean ± SEM train/test A: ' + str(np.mean(avg_0to0[masesh])) + ', ' + str(stats.sem(avg_0to0[masesh])))\n",
    "print('mean ± SEM train/test B: ' + str(np.mean(avg_1to1[masesh])) + ', ' + str(stats.sem(avg_1to1[masesh])))\n",
    "print('MA train/test map A vs. map B: p = ' + str(m0vsm1_p))\n",
    "\n",
    "# train/test map 0 vs. map 1 on aged mice\n",
    "m0vsm1_stat, m0vsm1_p = stats.ranksums(avg_0to0[agesesh], avg_1to1[agesesh])\n",
    "print('\\nmean ± SEM train/test A: ' + str(np.mean(avg_0to0[agesesh])) + ', ' + str(stats.sem(avg_0to0[agesesh])))\n",
    "print('mean ± SEM train/test B: ' + str(np.mean(avg_1to1[agesesh])) + ', ' + str(stats.sem(avg_1to1[agesesh])))\n",
    "print('AGED train/test map A vs. map B: p = ' + str(m0vsm1_p))\n",
    "\n",
    "# train/test map 0 vs. map 1 on both age groups of mice\n",
    "m0vsm1_stat, m0vsm1_p = stats.ranksums(avg_0to0[allsind], avg_1to1[allsind])\n",
    "print('ALL train/test map A vs. map B: p = ' + str(m0vsm1_p))\n",
    "\n",
    "# train/test same map vs. other map\n",
    "same_to_same = np.append(avg_0to0[ysesh], avg_1to1[ysesh])\n",
    "diff_to_diff = np.append(avg_0to1[ysesh], avg_1to0[ysesh])\n",
    "sameVSdiff_stat, sameVSdiff_p = stats.wilcoxon(same_to_same, diff_to_diff, alternative = 'greater')\n",
    "print('\\nYOUNG train/test same vs. train/test different: p = ' + str(sameVSdiff_p))\n",
    "print('mean ± SEM test same: ' + str(np.mean(same_to_same)) + ', ' + str(stats.sem(same_to_same)))\n",
    "print('mean ± SEM test diff: ' + str(np.mean(diff_to_diff)) + ', ' + str(stats.sem(diff_to_diff)))\n",
    "print('n = ' + str(same_to_same.shape[0]) + ' model pairs')\n",
    "\n",
    "same_to_same = np.append(avg_0to0[masesh], avg_1to1[masesh])\n",
    "diff_to_diff = np.append(avg_0to1[masesh], avg_1to0[masesh])\n",
    "sameVSdiff_stat, sameVSdiff_p = stats.wilcoxon(same_to_same, diff_to_diff, alternative = 'greater')\n",
    "print('\\nMA train/test same vs. train/test different: p = ' + str(sameVSdiff_p))\n",
    "print('mean ± SEM test same: ' + str(np.mean(same_to_same)) + ', ' + str(stats.sem(same_to_same)))\n",
    "print('mean ± SEM test diff: ' + str(np.mean(diff_to_diff)) + ', ' + str(stats.sem(diff_to_diff)))\n",
    "print('n = ' + str(same_to_same.shape[0]) + ' model pairs')\n",
    "\n",
    "same_to_same = np.append(avg_0to0[agesesh], avg_1to1[agesesh])\n",
    "diff_to_diff = np.append(avg_0to1[agesesh], avg_1to0[agesesh])\n",
    "sameVSdiff_stat, sameVSdiff_p = stats.wilcoxon(same_to_same, diff_to_diff, alternative = 'greater')\n",
    "print('\\nAGED train/test same vs. train/test different: p = ' + str(sameVSdiff_p))\n",
    "print('mean ± SEM test same: ' + str(np.mean(same_to_same)) + ', ' + str(stats.sem(same_to_same)))\n",
    "print('mean ± SEM test diff: ' + str(np.mean(diff_to_diff)) + ', ' + str(stats.sem(diff_to_diff)))\n",
    "print('n = ' + str(same_to_same.shape[0]) + ' model pairs')\n",
    "\n",
    "same_to_same = np.append(avg_0to0[allsind], avg_1to1[allsind])\n",
    "diff_to_diff = np.append(avg_0to1[allsind], avg_1to0[allsind])\n",
    "sameVSdiff_stat, sameVSdiff_p = stats.wilcoxon(same_to_same, diff_to_diff, alternative = 'greater')\n",
    "print('\\nALL train/test same vs. train/test different: p = ' + str(sameVSdiff_p))\n",
    "print('mean ± SEM test same: ' + str(np.mean(same_to_same)) + ', ' + str(stats.sem(same_to_same)))\n",
    "print('mean ± SEM test diff: ' + str(np.mean(diff_to_diff)) + ', ' + str(stats.sem(diff_to_diff)))\n",
    "print('n = ' + str(same_to_same.shape[0]) + ' model pairs')\n",
    "\n",
    "#age group effects\n",
    "stat, p = stats.kruskal(avg_0to0[ysesh],avg_0to0[masesh],avg_0to0[agesesh])\n",
    "print('\\nYOUNG vs. MA vs. AGED train/test map A : p = ' + str(p))\n",
    "\n",
    "stat, p = stats.kruskal(avg_1to1[ysesh],avg_1to1[masesh],avg_1to1[agesesh])\n",
    "print('YOUNG vs. MA vs. AGED train/test map B: p = ' + str(p))\n",
    "\n",
    "stat, p = stats.kruskal(avg_1to0[ysesh],avg_1to0[masesh],avg_1to0[agesesh])\n",
    "print('YOUNG vs. MA vs. AGED train/test map B/A: p = ' + str(p))\n",
    "\n",
    "stat, p = stats.kruskal(avg_0to1[ysesh],avg_0to1[masesh],avg_0to1[agesesh])\n",
    "print('YOUNG vs. MA vs. AGED train/test map A/B: p = ' + str(p))"
   ]
  },
  {
   "cell_type": "code",
   "execution_count": 54,
   "id": "1b6fb700",
   "metadata": {},
   "outputs": [
    {
     "data": {
      "image/png": "[encoded data removed]",
      "text/plain": [
       "<Figure size 260x125 with 2 Axes>"
      ]
     },
     "metadata": {},
     "output_type": "display_data"
    }
   ],
   "source": [
    "''' Plot Scatter of Decoder Scores Train/Test Context-Matched vs. -Mismatched (across Split Maze Block vs. Alt Phases) (Figure S5H)'''\n",
    "\n",
    "# plot performance context-matched train/test vs. -mismatched train/test\n",
    "f, (ax0, ax1) = plt.subplots(1, 2, figsize=(2.6, 1.25), sharey = True) \n",
    "#f.suptitle('Decoder Performance by Train/Test Pairing & Age Group')\n",
    "\n",
    "DOT_SIZE = 10\n",
    "DOT_LW = 0.5\n",
    "UNITY_WIDTH = 1\n",
    "SEM_WIDTH = 0.8\n",
    "\n",
    "avg_0to0 = AA_\n",
    "avg_0to1 = AB_\n",
    "avg_1to1 = BB_\n",
    "avg_1to0 = BA_\n",
    "\n",
    "# train on map 0, test on map 0 vs. test on map 1\n",
    "ax0.scatter(avg_0to1[ysesh], avg_0to0[ysesh],\n",
    "            facecolors='C0', edgecolors='C0', \n",
    "            s=DOT_SIZE, lw=DOT_LW, zorder=3, label = 'Young')   \n",
    "\n",
    "ax0.scatter(avg_0to1[masesh], avg_0to0[masesh],\n",
    "            facecolors='C2', edgecolors='C2', \n",
    "            s=DOT_SIZE, lw=DOT_LW, zorder=3, label = 'MA')   \n",
    "\n",
    "ax0.scatter(avg_0to1[agesesh], avg_0to0[agesesh],\n",
    "            facecolors='C1', edgecolors='C1', \n",
    "            s=DOT_SIZE, lw=DOT_LW, zorder=3, label = 'Aged')   \n",
    "\n",
    "# train on map 1, test on map 1 vs. test on map 0\n",
    "ax1.scatter(avg_1to1[ysesh], avg_1to0[ysesh],\n",
    "            facecolors='C0', edgecolors='C0', \n",
    "            s=DOT_SIZE, lw=DOT_LW, zorder=3, label = 'Young')\n",
    "\n",
    "ax1.scatter(avg_1to1[masesh], avg_1to0[masesh],\n",
    "            facecolors='C2', edgecolors='C2', \n",
    "            s=DOT_SIZE, lw=DOT_LW, zorder=3, label = 'MA')  \n",
    "\n",
    "ax1.scatter(avg_1to1[agesesh], avg_1to0[agesesh],\n",
    "            facecolors='C1', edgecolors='C1', \n",
    "            s=DOT_SIZE, lw=DOT_LW, zorder=3, label = 'Aged')\n",
    "\n",
    "# plot unity lines + shuffle/best lines\n",
    "ax0.plot([0, 1], [0, 1], '--k', lw=UNITY_WIDTH, alpha=1)\n",
    "ax1.plot([0, 1], [0, 1], '--k', lw=UNITY_WIDTH, alpha=1)\n",
    "\n",
    "# label everything\n",
    "ax0.set_title('Train Map A', fontsize=10, pad=4)\n",
    "ax0.set_ylabel('Test Map A`', fontsize=9, labelpad=1)\n",
    "ax0.set_xlabel('Test Map B`', fontsize=9, labelpad=1)\n",
    "ax0.set_ylim([-0.05, 1.05])\n",
    "ax0.set_xlim([-0.05, 1.05])\n",
    "ax0.set_xticks([0, 0.5, 1])\n",
    "ax0.set_xticklabels([0, 0.5, 1])\n",
    "ax0.set_yticks([0, 0.5, 1])\n",
    "ax0.set_yticklabels([0, 0.5, 1])\n",
    "\n",
    "ax1.set_title('Train Map B', fontsize=10, pad=4)\n",
    "#ax1.set_ylabel('Test Map 1', fontsize=9, labelpad=1)\n",
    "ax1.set_xlabel('Test Map B`', fontsize=9, labelpad=1)\n",
    "ax1.set_ylim([-0.05, 1.05])\n",
    "ax1.set_xlim([-0.05, 1.05])\n",
    "ax1.set_xticks([0, 0.5, 1])\n",
    "ax1.set_xticklabels([0, 0.5, 1])\n",
    "ax1.set_yticks([0, 0.5, 1])\n",
    "ax1.set_yticklabels([0, 0.5, 1])\n",
    "\n",
    "ax0.tick_params(which='major', labelsize=8)\n",
    "ax1.tick_params(which='major', labelsize=8)\n",
    "#ax1.legend(fontsize = 8)\n",
    "#ax0.legend(fontsize = 8)\n",
    "\n",
    "f.savefig(save_folder + 'S5H.png', dpi=400, bbox_inches='tight')\n",
    "f.savefig(save_folder + 'S5H.svg', dpi=400, bbox_inches='tight')\n",
    "plt.show()"
   ]
  },
  {
   "cell_type": "code",
   "execution_count": 55,
   "id": "7c63b500",
   "metadata": {},
   "outputs": [
    {
     "name": "stdout",
     "output_type": "stream",
     "text": [
      "mean ± SEM train/test AA: 0.3059375224767475, 0.03684962199421642\n",
      "mean ± SEM train/test BB: 0.4636949577792973, 0.03191525638318153\n",
      "YOUNG train/test matched AA` vs. BB`: p = 0.0024755745382998226\n",
      "\n",
      "mean ± SEM train/test AA: 0.3282192779685536, 0.02647124275962248\n",
      "mean ± SEM train/test BB: 0.4920387291048581, 0.023876486909786887\n",
      "MA train/test matched AA` vs. BB`: p = 3.0074296575662524e-05\n",
      "\n",
      "mean ± SEM train/test AA: 0.28527432370059025, 0.02828855583994674\n",
      "mean ± SEM train/test BB: 0.42261861731697253, 0.03329792976745522\n",
      "AGED train/test matched AA` vs. BB`: p = 0.0019169926132136471\n",
      "ALL train/test matched AA` vs. BB`: p = 2.7217430643595137e-09\n",
      "\n",
      "YOUNG train/test same (AA`, BB`) vs. train/test different (BA`, AB`): p = 2.8797660964495764e-16\n",
      "mean ± SEM test same: 0.38481624012802246, 0.025560885111445594\n",
      "mean ± SEM test diff: 0.22108552808309093, 0.023251323096217785\n",
      "n = 96 model pairs\n",
      "\n",
      "MA train/test same (AA`, BB`) vs. train/test different (BA`, AB`): p = 2.085693156900384e-16\n",
      "mean ± SEM test same: 0.41012900353670584, 0.019518850029136538\n",
      "mean ± SEM test diff: 0.22393812716921602, 0.015798641987880852\n",
      "n = 102 model pairs\n",
      "\n",
      "AGED train/test same (AA`, BB`) vs. train/test different (BA`, AB`): p = 1.5800219659771735e-15\n",
      "mean ± SEM test same: 0.3539464705087814, 0.022910118256779282\n",
      "mean ± SEM test diff: 0.17485883013616804, 0.01583154596391504\n",
      "n = 90 model pairs\n",
      "\n",
      "ALL train/test same (AA`, BB`) vs. train/test different (BA`, AB`): p = 3.0043164048133774e-44\n",
      "mean ± SEM test same: 0.384134374162585, 0.013124991137483355\n",
      "mean ± SEM test diff: 0.20764998048434682, 0.010805385395084206\n",
      "n = 288 model pairs\n",
      "\n",
      "YOUNG vs. MA vs. AGED train/test map A/A` : p = 0.5096274220206656\n",
      "YOUNG vs. MA vs. AGED train/test map B/B`: p = 0.3287644409448054\n",
      "YOUNG vs. MA vs. AGED train/test map B/A`: p = 0.4318813149161771\n",
      "YOUNG vs. MA vs. AGED train/test map A/B`: p = 0.15338633935863358\n"
     ]
    }
   ],
   "source": [
    "'''Statistical Comparison of Decoder Scores Train/Test Context-Matched vs. -Mismatched by Age Group & Together'''\n",
    "allsind = np.concatenate((ysesh, masesh, agesesh))\n",
    "\n",
    "# train/test map 0 vs. map 1 on young mice\n",
    "m0vsm1_stat, m0vsm1_p = stats.ranksums(avg_0to0[ysesh], avg_1to1[ysesh])\n",
    "print('mean ± SEM train/test AA: ' + str(np.mean(avg_0to0[ysesh])) + ', ' + str(stats.sem(avg_0to0[ysesh])))\n",
    "print('mean ± SEM train/test BB: ' + str(np.mean(avg_1to1[ysesh])) + ', ' + str(stats.sem(avg_1to1[ysesh])))\n",
    "print('YOUNG train/test matched AA` vs. BB`: p = ' + str(m0vsm1_p))\n",
    "\n",
    "# train/test map 0 vs. map 1 on MA mice\n",
    "m0vsm1_stat, m0vsm1_p = stats.ranksums(avg_0to0[masesh], avg_1to1[masesh])\n",
    "print('\\nmean ± SEM train/test AA: ' + str(np.mean(avg_0to0[masesh])) + ', ' + str(stats.sem(avg_0to0[masesh])))\n",
    "print('mean ± SEM train/test BB: ' + str(np.mean(avg_1to1[masesh])) + ', ' + str(stats.sem(avg_1to1[masesh])))\n",
    "print('MA train/test matched AA` vs. BB`: p = ' + str(m0vsm1_p))\n",
    "\n",
    "# train/test map 0 vs. map 1 on aged mice\n",
    "m0vsm1_stat, m0vsm1_p = stats.ranksums(avg_0to0[agesesh], avg_1to1[agesesh])\n",
    "print('\\nmean ± SEM train/test AA: ' + str(np.mean(avg_0to0[agesesh])) + ', ' + str(stats.sem(avg_0to0[agesesh])))\n",
    "print('mean ± SEM train/test BB: ' + str(np.mean(avg_1to1[agesesh])) + ', ' + str(stats.sem(avg_1to1[agesesh])))\n",
    "print('AGED train/test matched AA` vs. BB`: p = ' + str(m0vsm1_p))\n",
    "\n",
    "# train/test map 0 vs. map 1 on both age groups of mice\n",
    "m0vsm1_stat, m0vsm1_p = stats.ranksums(avg_0to0[allsind], avg_1to1[allsind])\n",
    "print('ALL train/test matched AA` vs. BB`: p = ' + str(m0vsm1_p))\n",
    "\n",
    "# train/test same map vs. other map\n",
    "same_to_same = np.append(avg_0to0[ysesh], avg_1to1[ysesh])\n",
    "diff_to_diff = np.append(avg_0to1[ysesh], avg_1to0[ysesh])\n",
    "sameVSdiff_stat, sameVSdiff_p = stats.wilcoxon(same_to_same, diff_to_diff, alternative = 'greater')\n",
    "print('\\nYOUNG train/test same (AA`, BB`) vs. train/test different (BA`, AB`): p = ' + str(sameVSdiff_p))\n",
    "print('mean ± SEM test same: ' + str(np.mean(same_to_same)) + ', ' + str(stats.sem(same_to_same)))\n",
    "print('mean ± SEM test diff: ' + str(np.mean(diff_to_diff)) + ', ' + str(stats.sem(diff_to_diff)))\n",
    "print('n = ' + str(same_to_same.shape[0]) + ' model pairs')\n",
    "\n",
    "same_to_same = np.append(avg_0to0[masesh], avg_1to1[masesh])\n",
    "diff_to_diff = np.append(avg_0to1[masesh], avg_1to0[masesh])\n",
    "sameVSdiff_stat, sameVSdiff_p = stats.wilcoxon(same_to_same, diff_to_diff, alternative = 'greater')\n",
    "print('\\nMA train/test same (AA`, BB`) vs. train/test different (BA`, AB`): p = ' + str(sameVSdiff_p))\n",
    "print('mean ± SEM test same: ' + str(np.mean(same_to_same)) + ', ' + str(stats.sem(same_to_same)))\n",
    "print('mean ± SEM test diff: ' + str(np.mean(diff_to_diff)) + ', ' + str(stats.sem(diff_to_diff)))\n",
    "print('n = ' + str(same_to_same.shape[0]) + ' model pairs')\n",
    "\n",
    "same_to_same = np.append(avg_0to0[agesesh], avg_1to1[agesesh])\n",
    "diff_to_diff = np.append(avg_0to1[agesesh], avg_1to0[agesesh])\n",
    "sameVSdiff_stat, sameVSdiff_p = stats.wilcoxon(same_to_same, diff_to_diff, alternative = 'greater')\n",
    "print('\\nAGED train/test same (AA`, BB`) vs. train/test different (BA`, AB`): p = ' + str(sameVSdiff_p))\n",
    "print('mean ± SEM test same: ' + str(np.mean(same_to_same)) + ', ' + str(stats.sem(same_to_same)))\n",
    "print('mean ± SEM test diff: ' + str(np.mean(diff_to_diff)) + ', ' + str(stats.sem(diff_to_diff)))\n",
    "print('n = ' + str(same_to_same.shape[0]) + ' model pairs')\n",
    "\n",
    "same_to_same = np.append(avg_0to0[allsind], avg_1to1[allsind])\n",
    "diff_to_diff = np.append(avg_0to1[allsind], avg_1to0[allsind])\n",
    "sameVSdiff_stat, sameVSdiff_p = stats.wilcoxon(same_to_same, diff_to_diff, alternative = 'greater')\n",
    "print('\\nALL train/test same (AA`, BB`) vs. train/test different (BA`, AB`): p = ' + str(sameVSdiff_p))\n",
    "print('mean ± SEM test same: ' + str(np.mean(same_to_same)) + ', ' + str(stats.sem(same_to_same)))\n",
    "print('mean ± SEM test diff: ' + str(np.mean(diff_to_diff)) + ', ' + str(stats.sem(diff_to_diff)))\n",
    "print('n = ' + str(same_to_same.shape[0]) + ' model pairs')\n",
    "\n",
    "#age group effects\n",
    "stat, p = stats.kruskal(avg_0to0[ysesh],avg_0to0[masesh],avg_0to0[agesesh])\n",
    "print('\\nYOUNG vs. MA vs. AGED train/test map A/A` : p = ' + str(p))\n",
    "\n",
    "stat, p = stats.kruskal(avg_1to1[ysesh],avg_1to1[masesh],avg_1to1[agesesh])\n",
    "print('YOUNG vs. MA vs. AGED train/test map B/B`: p = ' + str(p))\n",
    "\n",
    "stat, p = stats.kruskal(avg_1to0[ysesh],avg_1to0[masesh],avg_1to0[agesesh])\n",
    "print('YOUNG vs. MA vs. AGED train/test map B/A`: p = ' + str(p))\n",
    "\n",
    "stat, p = stats.kruskal(avg_0to1[ysesh],avg_0to1[masesh],avg_0to1[agesesh])\n",
    "print('YOUNG vs. MA vs. AGED train/test map A/B`: p = ' + str(p))"
   ]
  },
  {
   "cell_type": "markdown",
   "id": "18151cb2",
   "metadata": {},
   "source": [
    "# Setup for Figure S5A (left), B (left), C, E-F (Random Foraging)"
   ]
  },
  {
   "cell_type": "code",
   "execution_count": 56,
   "id": "c679aee8",
   "metadata": {},
   "outputs": [],
   "source": [
    "'''Define which mice & sessions to load based on metadata'''\n",
    "# Define mice, sessions for particular cohorts\n",
    "mice , mice_ind, _  = np.intersect1d(all_mice,(np.union1d(cohorta_mice, cohortb_mice)), return_indices = True) # RF mice \n",
    "\n",
    "sessions = []\n",
    "for i in mice_ind:\n",
    "    sessions.append(all_sessions[i])\n",
    "\n",
    "# Make a dict to hold data\n",
    "data = {}\n",
    "\n",
    "for session, m in zip(sessions, mice):\n",
    "    data[m] = {}\n",
    "    \n",
    "    for s in session:\n",
    "        data[m][s] = {}"
   ]
  },
  {
   "cell_type": "code",
   "execution_count": 57,
   "id": "7b5ccc53",
   "metadata": {
    "scrolled": true
   },
   "outputs": [
    {
     "data": {
      "application/vnd.jupyter.widget-view+json": {
       "model_id": "9d6257c46446425cab9cdacc18b5570b",
       "version_major": 2,
       "version_minor": 0
      },
      "text/plain": [
       "  0%|          | 0/6 [00:00<?, ?it/s]"
      ]
     },
     "metadata": {},
     "output_type": "display_data"
    },
    {
     "data": {
      "application/vnd.jupyter.widget-view+json": {
       "model_id": "f6b1c90d6b78427680f2c8cf1310a228",
       "version_major": 2,
       "version_minor": 0
      },
      "text/plain": [
       "  0%|          | 0/6 [00:00<?, ?it/s]"
      ]
     },
     "metadata": {},
     "output_type": "display_data"
    },
    {
     "data": {
      "application/vnd.jupyter.widget-view+json": {
       "model_id": "cc70c92c50644baca23f78ac78b94790",
       "version_major": 2,
       "version_minor": 0
      },
      "text/plain": [
       "  0%|          | 0/6 [00:00<?, ?it/s]"
      ]
     },
     "metadata": {},
     "output_type": "display_data"
    },
    {
     "data": {
      "application/vnd.jupyter.widget-view+json": {
       "model_id": "02163d16dd534274ad19fa2f4184d50d",
       "version_major": 2,
       "version_minor": 0
      },
      "text/plain": [
       "  0%|          | 0/6 [00:00<?, ?it/s]"
      ]
     },
     "metadata": {},
     "output_type": "display_data"
    },
    {
     "data": {
      "application/vnd.jupyter.widget-view+json": {
       "model_id": "203fa5efdf7346d981e5d0bc6b1f5a30",
       "version_major": 2,
       "version_minor": 0
      },
      "text/plain": [
       "  0%|          | 0/6 [00:00<?, ?it/s]"
      ]
     },
     "metadata": {},
     "output_type": "display_data"
    },
    {
     "data": {
      "application/vnd.jupyter.widget-view+json": {
       "model_id": "c5f6ea1c1c664a2ca95b4de3b6461641",
       "version_major": 2,
       "version_minor": 0
      },
      "text/plain": [
       "  0%|          | 0/6 [00:00<?, ?it/s]"
      ]
     },
     "metadata": {},
     "output_type": "display_data"
    },
    {
     "data": {
      "application/vnd.jupyter.widget-view+json": {
       "model_id": "29af947f2593497ca2061055878dc74a",
       "version_major": 2,
       "version_minor": 0
      },
      "text/plain": [
       "  0%|          | 0/6 [00:00<?, ?it/s]"
      ]
     },
     "metadata": {},
     "output_type": "display_data"
    },
    {
     "data": {
      "application/vnd.jupyter.widget-view+json": {
       "model_id": "f043ae2289024e01a2f2a777af9e7ed6",
       "version_major": 2,
       "version_minor": 0
      },
      "text/plain": [
       "  0%|          | 0/5 [00:00<?, ?it/s]"
      ]
     },
     "metadata": {},
     "output_type": "display_data"
    },
    {
     "data": {
      "application/vnd.jupyter.widget-view+json": {
       "model_id": "e9538a75db364a93a8fe336cb645a25f",
       "version_major": 2,
       "version_minor": 0
      },
      "text/plain": [
       "  0%|          | 0/3 [00:00<?, ?it/s]"
      ]
     },
     "metadata": {},
     "output_type": "display_data"
    },
    {
     "data": {
      "application/vnd.jupyter.widget-view+json": {
       "model_id": "b8e858c486f945ebb8ae9e2cecdd95cb",
       "version_major": 2,
       "version_minor": 0
      },
      "text/plain": [
       "  0%|          | 0/6 [00:00<?, ?it/s]"
      ]
     },
     "metadata": {},
     "output_type": "display_data"
    },
    {
     "data": {
      "application/vnd.jupyter.widget-view+json": {
       "model_id": "9fb5df149b114dffaa060b2210f6e36b",
       "version_major": 2,
       "version_minor": 0
      },
      "text/plain": [
       "  0%|          | 0/6 [00:00<?, ?it/s]"
      ]
     },
     "metadata": {},
     "output_type": "display_data"
    },
    {
     "data": {
      "application/vnd.jupyter.widget-view+json": {
       "model_id": "c2fb0c659bf040b4bd6979546292cab7",
       "version_major": 2,
       "version_minor": 0
      },
      "text/plain": [
       "  0%|          | 0/6 [00:00<?, ?it/s]"
      ]
     },
     "metadata": {},
     "output_type": "display_data"
    },
    {
     "data": {
      "application/vnd.jupyter.widget-view+json": {
       "model_id": "12b51fcea9fd42509972e0f526be0352",
       "version_major": 2,
       "version_minor": 0
      },
      "text/plain": [
       "  0%|          | 0/5 [00:00<?, ?it/s]"
      ]
     },
     "metadata": {},
     "output_type": "display_data"
    },
    {
     "data": {
      "application/vnd.jupyter.widget-view+json": {
       "model_id": "16c5dae2bb364237a3f8305b18510ec1",
       "version_major": 2,
       "version_minor": 0
      },
      "text/plain": [
       "  0%|          | 0/5 [00:00<?, ?it/s]"
      ]
     },
     "metadata": {},
     "output_type": "display_data"
    },
    {
     "data": {
      "application/vnd.jupyter.widget-view+json": {
       "model_id": "4df8e313f00a426891f1ea141eeabb6d",
       "version_major": 2,
       "version_minor": 0
      },
      "text/plain": [
       "  0%|          | 0/6 [00:00<?, ?it/s]"
      ]
     },
     "metadata": {},
     "output_type": "display_data"
    },
    {
     "data": {
      "application/vnd.jupyter.widget-view+json": {
       "model_id": "1193439b99084719a6f0233cf59e3566",
       "version_major": 2,
       "version_minor": 0
      },
      "text/plain": [
       "  0%|          | 0/2 [00:00<?, ?it/s]"
      ]
     },
     "metadata": {},
     "output_type": "display_data"
    },
    {
     "data": {
      "application/vnd.jupyter.widget-view+json": {
       "model_id": "196857165800415ba0ce7daf9ab708f0",
       "version_major": 2,
       "version_minor": 0
      },
      "text/plain": [
       "  0%|          | 0/6 [00:00<?, ?it/s]"
      ]
     },
     "metadata": {},
     "output_type": "display_data"
    },
    {
     "data": {
      "application/vnd.jupyter.widget-view+json": {
       "model_id": "b53d834daea64c55b5b0ec2e6e19215c",
       "version_major": 2,
       "version_minor": 0
      },
      "text/plain": [
       "  0%|          | 0/6 [00:00<?, ?it/s]"
      ]
     },
     "metadata": {},
     "output_type": "display_data"
    },
    {
     "data": {
      "application/vnd.jupyter.widget-view+json": {
       "model_id": "4b704a14d48f40e084dd1016d59a466f",
       "version_major": 2,
       "version_minor": 0
      },
      "text/plain": [
       "  0%|          | 0/6 [00:00<?, ?it/s]"
      ]
     },
     "metadata": {},
     "output_type": "display_data"
    },
    {
     "data": {
      "application/vnd.jupyter.widget-view+json": {
       "model_id": "3fcca28190bb41a0b67f3b24f2798d07",
       "version_major": 2,
       "version_minor": 0
      },
      "text/plain": [
       "  0%|          | 0/6 [00:00<?, ?it/s]"
      ]
     },
     "metadata": {},
     "output_type": "display_data"
    },
    {
     "data": {
      "application/vnd.jupyter.widget-view+json": {
       "model_id": "834f4353d0d142adaafdc0cbf491b43e",
       "version_major": 2,
       "version_minor": 0
      },
      "text/plain": [
       "  0%|          | 0/6 [00:00<?, ?it/s]"
      ]
     },
     "metadata": {},
     "output_type": "display_data"
    },
    {
     "data": {
      "application/vnd.jupyter.widget-view+json": {
       "model_id": "94d40a368bf246e6958b31ebc1a5fe20",
       "version_major": 2,
       "version_minor": 0
      },
      "text/plain": [
       "  0%|          | 0/6 [00:00<?, ?it/s]"
      ]
     },
     "metadata": {},
     "output_type": "display_data"
    },
    {
     "data": {
      "application/vnd.jupyter.widget-view+json": {
       "model_id": "321b6754e8064458afcde6a2f3d681eb",
       "version_major": 2,
       "version_minor": 0
      },
      "text/plain": [
       "  0%|          | 0/6 [00:00<?, ?it/s]"
      ]
     },
     "metadata": {},
     "output_type": "display_data"
    },
    {
     "data": {
      "application/vnd.jupyter.widget-view+json": {
       "model_id": "bcaeba0f10e6443d947245423acb5325",
       "version_major": 2,
       "version_minor": 0
      },
      "text/plain": [
       "  0%|          | 0/5 [00:00<?, ?it/s]"
      ]
     },
     "metadata": {},
     "output_type": "display_data"
    },
    {
     "data": {
      "application/vnd.jupyter.widget-view+json": {
       "model_id": "8a3c5f8436e1471d9b66cb935b5e633c",
       "version_major": 2,
       "version_minor": 0
      },
      "text/plain": [
       "  0%|          | 0/3 [00:00<?, ?it/s]"
      ]
     },
     "metadata": {},
     "output_type": "display_data"
    },
    {
     "data": {
      "application/vnd.jupyter.widget-view+json": {
       "model_id": "277138e8f15e4ad69a57f174b9684e7e",
       "version_major": 2,
       "version_minor": 0
      },
      "text/plain": [
       "  0%|          | 0/6 [00:00<?, ?it/s]"
      ]
     },
     "metadata": {},
     "output_type": "display_data"
    },
    {
     "data": {
      "application/vnd.jupyter.widget-view+json": {
       "model_id": "1ca423dac2c846eeb589d83544d89e91",
       "version_major": 2,
       "version_minor": 0
      },
      "text/plain": [
       "  0%|          | 0/6 [00:00<?, ?it/s]"
      ]
     },
     "metadata": {},
     "output_type": "display_data"
    },
    {
     "data": {
      "application/vnd.jupyter.widget-view+json": {
       "model_id": "6d92555c1af449c2b720646de029901c",
       "version_major": 2,
       "version_minor": 0
      },
      "text/plain": [
       "  0%|          | 0/6 [00:00<?, ?it/s]"
      ]
     },
     "metadata": {},
     "output_type": "display_data"
    },
    {
     "data": {
      "application/vnd.jupyter.widget-view+json": {
       "model_id": "758ac0b282e64a82b9fe7c7aeb7d02dc",
       "version_major": 2,
       "version_minor": 0
      },
      "text/plain": [
       "  0%|          | 0/5 [00:00<?, ?it/s]"
      ]
     },
     "metadata": {},
     "output_type": "display_data"
    },
    {
     "data": {
      "application/vnd.jupyter.widget-view+json": {
       "model_id": "ef72c638679c4187a8adb64b0f555e9c",
       "version_major": 2,
       "version_minor": 0
      },
      "text/plain": [
       "  0%|          | 0/5 [00:00<?, ?it/s]"
      ]
     },
     "metadata": {},
     "output_type": "display_data"
    },
    {
     "data": {
      "application/vnd.jupyter.widget-view+json": {
       "model_id": "fac6a82b2c7240778928f6bfa1288ac1",
       "version_major": 2,
       "version_minor": 0
      },
      "text/plain": [
       "  0%|          | 0/6 [00:00<?, ?it/s]"
      ]
     },
     "metadata": {},
     "output_type": "display_data"
    },
    {
     "data": {
      "application/vnd.jupyter.widget-view+json": {
       "model_id": "96bddcc9ed54461eaf94c7f598442fe6",
       "version_major": 2,
       "version_minor": 0
      },
      "text/plain": [
       "  0%|          | 0/2 [00:00<?, ?it/s]"
      ]
     },
     "metadata": {},
     "output_type": "display_data"
    },
    {
     "name": "stdout",
     "output_type": "stream",
     "text": [
      "\n",
      "Mean ± SEM Coherence P99: 0.44397451511927966 ± 0.001023052553156076\n",
      "\n",
      "Mean ± SEM Sparsity P99: 0.8021158854819103 ± 0.0022493857825195036\n"
     ]
    }
   ],
   "source": [
    "''' Classify RF Spatial Cells using Saved Scores '''\n",
    "\n",
    "for m, session in zip(mice, sessions):\n",
    "    for s in tdqm(session):\n",
    "        d = data[m][s]\n",
    "        \n",
    "        #get file names\n",
    "        shufsparsityscore_file = 'shufsparsityscores_' + m + '_' + s + '.npy'\n",
    "        shufspatialcoherencescore_file = 'shufspatialcoherencescores_' + m + '_' + s + '.npy'\n",
    "\n",
    "        #load npy files\n",
    "        d['shuffsparsityscores'] = np.load(shuffload_folder1 + shufsparsityscore_file, allow_pickle=False)\n",
    "        d['shuffspatialcoherencescores'] = np.load(shuffload_folder2 + shufspatialcoherencescore_file, allow_pickle=False)\n",
    "        \n",
    "        #get file names\n",
    "        sparsityscore_file = 'sparsityscores_' + m + '_' + s + '.npy'\n",
    "        spatialcoherencescore_file = 'spatialcoherencescores_' + m + '_' + s + '.npy'\n",
    "        \n",
    "        #load npy files\n",
    "        d['sparsityscores'] = np.load(fig5_folder + sparsityscore_file, allow_pickle=True)\n",
    "        d['spatialcoherencescores'] = np.load(fig5_folder + spatialcoherencescore_file, allow_pickle=True)    \n",
    "        \n",
    "per99c = []\n",
    "per99s = []\n",
    "dt = 0.02\n",
    "\n",
    "for m, session in zip(mice, sessions):\n",
    "    for s in tdqm(session):\n",
    "        d = data[m][s]\n",
    "        \n",
    "        #Load scores, intn boolean to filter out interneurons\n",
    "        rawdata_file = 'RAW_' + m + '_' + s + '.npy'\n",
    "        intn_file = 'intn_' + m + '_' + s + '.npy'\n",
    "        \n",
    "        raw = np.load(load_folder + rawdata_file, allow_pickle=True)\n",
    "        d['intn'] = np.load(int_save_folder + intn_file, allow_pickle = True)\n",
    "        cell_IDs = raw.item().get('cellsfil')\n",
    "        sparsity_scores = d['sparsityscores']\n",
    "        spatialcoherence_scores = d['spatialcoherencescores']\n",
    "        shuffsparsityscores = d['shuffsparsityscores']\n",
    "        shuffspatialcoherencescores = d['shuffspatialcoherencescores'] \n",
    "        intn = d['intn'].astype(bool)\n",
    "\n",
    "        #Classify spatial cells as those >P95, >P99 of both sparsity & coherence distributions\n",
    "        spatialcell99 = []\n",
    "        spatialcells99 = []\n",
    "    \n",
    "        for i, c in enumerate(cell_IDs):\n",
    "            dist1 = shuffspatialcoherencescores[:,i]\n",
    "            P991 = np.percentile(dist1,99)\n",
    "\n",
    "            dist2 = shuffsparsityscores[:,i]\n",
    "            P992 = np.percentile(dist2,99)\n",
    "            \n",
    "            per99c.append(P991)\n",
    "            per99s.append(P992)\n",
    "\n",
    "            if intn[i] == True:\n",
    "                spatialcell99 = np.append(spatialcell99, False)\n",
    "            elif (spatialcoherence_scores[i] > P991) & (sparsity_scores[i] > P992):\n",
    "                spatialcell99 = np.append(spatialcell99, True)\n",
    "            else:\n",
    "                spatialcell99 = np.append(spatialcell99, False)\n",
    "\n",
    "        spatialcell99 = np.asarray(spatialcell99).astype(bool)\n",
    "        \n",
    "        d['spatialcells99'] = cell_IDs[spatialcell99]\n",
    "        d['spatialcell99'] = spatialcell99\n",
    "        \n",
    "        spatialcell99_file = 'spatialcell99_' + m + '_' + s + '.npy'\n",
    "\n",
    "print('\\nMean ± SEM Coherence P99: ' + str(np.mean(per99c)) + ' ± ' + str(stats.sem(per99c)))  \n",
    "print('\\nMean ± SEM Sparsity P99: ' + str(np.nanmean(per99s)) + ' ± ' + str(stats.sem(per99s,  nan_policy = 'omit'))) "
   ]
  },
  {
   "cell_type": "code",
   "execution_count": 58,
   "id": "b1ab23d6",
   "metadata": {},
   "outputs": [
    {
     "name": "stdout",
     "output_type": "stream",
     "text": [
      "['Y11' 'Y16' 'Y17' 'Y18' 'Y19' 'Y2' 'Y3' 'Y4' 'Y9'] ['A12' 'A13' 'A3' 'A4' 'A5' 'A6' 'A7']\n",
      "9 7\n",
      "44 42\n"
     ]
    }
   ],
   "source": [
    "'''Get Indices of Stored Session, Animal Data Mice by Age Group'''\n",
    "age_ind = []\n",
    "ma_ind = []\n",
    "y_ind = []\n",
    "age_sind = []\n",
    "ma_sind = []\n",
    "y_sind = []\n",
    "\n",
    "s_count = 0\n",
    "for m, s in zip(mice, sessions):\n",
    "    start = s_count\n",
    "    end = len(s) + s_count\n",
    "\n",
    "    if m in all_aged_mice:\n",
    "        age_ind = np.append(age_ind, (np.where(mice == m)[0]))\n",
    "        age_sind = np.append(age_sind, np.arange(start, end, 1))\n",
    "    elif m in all_MA_mice:\n",
    "        ma_ind = np.append(ma_ind, (np.where(mice == m)[0]))\n",
    "        ma_sind = np.append(ma_sind, np.arange(start, end, 1))\n",
    "    else:\n",
    "        y_ind = np.append(y_ind, (np.where(mice == m)[0]))\n",
    "        y_sind = np.append(y_sind, np.arange(start, end, 1))\n",
    "                            \n",
    "    s_count += len(s)\n",
    "    \n",
    "age_ind = age_ind.astype(int)\n",
    "#ma_ind = ma_ind.astype(int)\n",
    "y_ind = y_ind.astype(int)\n",
    "age_sind = age_sind.astype(int)\n",
    "#ma_sind = ma_sind.astype(int)\n",
    "y_sind = y_sind.astype(int)\n",
    "\n",
    "print(mice[y_ind], mice[age_ind])\n",
    "print(len(mice[y_ind]), len(mice[age_ind]))\n",
    "print(len(y_sind), len(age_sind))\n",
    "Nold = len(mice[age_ind])\n",
    "Nyoung = len(mice[y_ind])"
   ]
  },
  {
   "cell_type": "code",
   "execution_count": 59,
   "id": "7e146f4b",
   "metadata": {},
   "outputs": [],
   "source": [
    "''' Define ColorMaps for Session & Animal Boxplots '''\n",
    "import matplotlib.pylab as pl\n",
    "import matplotlib.lines as mlines\n",
    "\n",
    "col_animal_old = pl.cm.Oranges([np.linspace(0.2,0.9,Nold)])\n",
    "col_animal_young = pl.cm.Blues([np.linspace(0.2,0.9,Nyoung)])\n",
    "col_animal = [col_animal_young, col_animal_old]\n",
    "\n",
    "col_session_young = []\n",
    "col_session_old = []\n",
    "for m, session in zip(mice, sessions):\n",
    "    for s in range(0,len(session)):\n",
    "        \n",
    "        if m in RF_aged_mice:\n",
    "            idx = np.where(mice == m)[0][0]\n",
    "            col_session_old.append(col_animal[1][0][idx])\n",
    "        else:\n",
    "            idx = np.where(mice == m)[0][0] - Nold\n",
    "            col_session_young.append(col_animal[0][0][idx])\n",
    "\n",
    "col_session = [col_session_young,col_session_old]\n",
    "\n",
    "label_mice = ['Y11', 'Y16', 'Y17', 'Y18', 'Y19', 'Y2', 'Y3', 'Y4','Y9','A12', 'A13', 'A3', 'A4', 'A5', 'A6', 'A7']"
   ]
  },
  {
   "cell_type": "code",
   "execution_count": 60,
   "id": "00e4a37a",
   "metadata": {},
   "outputs": [
    {
     "data": {
      "application/vnd.jupyter.widget-view+json": {
       "model_id": "40e5235e22f84b4fb33fc853247580da",
       "version_major": 2,
       "version_minor": 0
      },
      "text/plain": [
       "  0%|          | 0/6 [00:00<?, ?it/s]"
      ]
     },
     "metadata": {},
     "output_type": "display_data"
    },
    {
     "data": {
      "application/vnd.jupyter.widget-view+json": {
       "model_id": "58e0edae189a4ad8ad8d2fd6c6185ac9",
       "version_major": 2,
       "version_minor": 0
      },
      "text/plain": [
       "  0%|          | 0/6 [00:00<?, ?it/s]"
      ]
     },
     "metadata": {},
     "output_type": "display_data"
    },
    {
     "data": {
      "application/vnd.jupyter.widget-view+json": {
       "model_id": "6129ba0db7ac40aca9a1955fab17647d",
       "version_major": 2,
       "version_minor": 0
      },
      "text/plain": [
       "  0%|          | 0/6 [00:00<?, ?it/s]"
      ]
     },
     "metadata": {},
     "output_type": "display_data"
    },
    {
     "data": {
      "application/vnd.jupyter.widget-view+json": {
       "model_id": "7290e16b678340fcb14aa9ab1b9babd9",
       "version_major": 2,
       "version_minor": 0
      },
      "text/plain": [
       "  0%|          | 0/6 [00:00<?, ?it/s]"
      ]
     },
     "metadata": {},
     "output_type": "display_data"
    },
    {
     "data": {
      "application/vnd.jupyter.widget-view+json": {
       "model_id": "b39adbe3c76e4205a19861ce314fcc5a",
       "version_major": 2,
       "version_minor": 0
      },
      "text/plain": [
       "  0%|          | 0/6 [00:00<?, ?it/s]"
      ]
     },
     "metadata": {},
     "output_type": "display_data"
    },
    {
     "data": {
      "application/vnd.jupyter.widget-view+json": {
       "model_id": "ebb528dd14e24505b4adea570cfe4406",
       "version_major": 2,
       "version_minor": 0
      },
      "text/plain": [
       "  0%|          | 0/6 [00:00<?, ?it/s]"
      ]
     },
     "metadata": {},
     "output_type": "display_data"
    },
    {
     "data": {
      "application/vnd.jupyter.widget-view+json": {
       "model_id": "88d6dc7fa6c744c095177e29c6b573b2",
       "version_major": 2,
       "version_minor": 0
      },
      "text/plain": [
       "  0%|          | 0/6 [00:00<?, ?it/s]"
      ]
     },
     "metadata": {},
     "output_type": "display_data"
    },
    {
     "data": {
      "application/vnd.jupyter.widget-view+json": {
       "model_id": "369ad692a9544f0aa37c30a975d260f4",
       "version_major": 2,
       "version_minor": 0
      },
      "text/plain": [
       "  0%|          | 0/5 [00:00<?, ?it/s]"
      ]
     },
     "metadata": {},
     "output_type": "display_data"
    },
    {
     "data": {
      "application/vnd.jupyter.widget-view+json": {
       "model_id": "bba7dfefd4f740f080b2d9d55ca93ba1",
       "version_major": 2,
       "version_minor": 0
      },
      "text/plain": [
       "  0%|          | 0/3 [00:00<?, ?it/s]"
      ]
     },
     "metadata": {},
     "output_type": "display_data"
    },
    {
     "data": {
      "application/vnd.jupyter.widget-view+json": {
       "model_id": "47c82e195dde44b1b574aa8daaf994ed",
       "version_major": 2,
       "version_minor": 0
      },
      "text/plain": [
       "  0%|          | 0/6 [00:00<?, ?it/s]"
      ]
     },
     "metadata": {},
     "output_type": "display_data"
    },
    {
     "data": {
      "application/vnd.jupyter.widget-view+json": {
       "model_id": "b71115d52b3341e78e34f60266f093c9",
       "version_major": 2,
       "version_minor": 0
      },
      "text/plain": [
       "  0%|          | 0/6 [00:00<?, ?it/s]"
      ]
     },
     "metadata": {},
     "output_type": "display_data"
    },
    {
     "data": {
      "application/vnd.jupyter.widget-view+json": {
       "model_id": "0bcb09a6476b4814977bc6736f78e39b",
       "version_major": 2,
       "version_minor": 0
      },
      "text/plain": [
       "  0%|          | 0/6 [00:00<?, ?it/s]"
      ]
     },
     "metadata": {},
     "output_type": "display_data"
    },
    {
     "data": {
      "application/vnd.jupyter.widget-view+json": {
       "model_id": "2c51cbca8c09412da76c843195d63653",
       "version_major": 2,
       "version_minor": 0
      },
      "text/plain": [
       "  0%|          | 0/5 [00:00<?, ?it/s]"
      ]
     },
     "metadata": {},
     "output_type": "display_data"
    },
    {
     "data": {
      "application/vnd.jupyter.widget-view+json": {
       "model_id": "5345b9b65b9a4160990ade1f6171dd33",
       "version_major": 2,
       "version_minor": 0
      },
      "text/plain": [
       "  0%|          | 0/5 [00:00<?, ?it/s]"
      ]
     },
     "metadata": {},
     "output_type": "display_data"
    },
    {
     "data": {
      "application/vnd.jupyter.widget-view+json": {
       "model_id": "fba0da712e1340b6a7358867f4648711",
       "version_major": 2,
       "version_minor": 0
      },
      "text/plain": [
       "  0%|          | 0/6 [00:00<?, ?it/s]"
      ]
     },
     "metadata": {},
     "output_type": "display_data"
    },
    {
     "data": {
      "application/vnd.jupyter.widget-view+json": {
       "model_id": "eeda69bb3c3f477690029d5f3fe9b150",
       "version_major": 2,
       "version_minor": 0
      },
      "text/plain": [
       "  0%|          | 0/2 [00:00<?, ?it/s]"
      ]
     },
     "metadata": {},
     "output_type": "display_data"
    }
   ],
   "source": [
    "'''Calculate Spatial Cell Density, Mean FR, Peak FR & Store; Store Spatial Coherence & Spatial Sparsity Scores'''\n",
    "\n",
    "# set up arrays for plotting by session \n",
    "sper99 = []\n",
    "for m, session in zip(mice,sessions):\n",
    "    \n",
    "    for s in tdqm(session):\n",
    "        d = data[m][s]\n",
    "        \n",
    "        #load data\n",
    "        rawdata_file = 'RAW_' + m + '_' + s + '.npy'\n",
    "        spikes_file = 'SPIKES_' + m + '_' + s +'.npy'\n",
    "        behavior_file = 'BEHAVIOR_' + m + '_' + s + '.npy'\n",
    "        \n",
    "        raw = np.load(load_folder + rawdata_file, allow_pickle=True)\n",
    "        cell_IDs = raw.item().get('cellsfil')\n",
    "        spatialcell99 = d['spatialcell99']\n",
    "        spatialcell99 = np.asarray(spatialcell99).astype(bool)\n",
    "        spatialcells99 = cell_IDs[spatialcell99]\n",
    "        sper99 = np.append(sper99, 100 * len(spatialcells99)/len(cell_IDs))"
   ]
  },
  {
   "cell_type": "code",
   "execution_count": 61,
   "id": "fc6c4ed4",
   "metadata": {},
   "outputs": [
    {
     "name": "stdout",
     "output_type": "stream",
     "text": [
      "[85]\n",
      "44 42\n",
      "43 42\n"
     ]
    }
   ],
   "source": [
    "''' Find where I will have NaNs for Scores, Mean & Peak FR, Slope, Y-Int'''\n",
    "nan_idx99 = np.where((sper99 == 0))[0]\n",
    "print(nan_idx99)\n",
    "print(len(col_session[0]),len(col_session[1]))\n",
    "\n",
    "# Adjust y_sind, ma_sind, age_sind for subsequent plots\n",
    "y_sind99 = np.setdiff1d(y_sind, nan_idx99)\n",
    "ma_sind99 = np.setdiff1d(ma_sind, nan_idx99)\n",
    "age_sind99 = np.setdiff1d(age_sind, nan_idx99)\n",
    "\n",
    "#adjust colormaps\n",
    "yidx = []\n",
    "aidx = []\n",
    "for i in nan_idx99:\n",
    "    yidx = np.append(yidx, np.where(y_sind == i)[0].astype(int))\n",
    "    aidx = np.append(aidx, np.where(age_sind == i)[0].astype(int))\n",
    "    \n",
    "col_session_young99 = np.delete(col_session_young, list((yidx).astype(int)), axis = 0)\n",
    "col_session_old99 = np.delete(col_session_old, list(aidx), axis = 0)\n",
    "col_session99 = [col_session_young99, col_session_old99] \n",
    "\n",
    "print(len(col_session_young99), len(col_session_old99))\n",
    "\n",
    "# This will fix session stats & box plots are plotted."
   ]
  },
  {
   "cell_type": "code",
   "execution_count": 62,
   "id": "2ad10130",
   "metadata": {
    "scrolled": true
   },
   "outputs": [
    {
     "data": {
      "application/vnd.jupyter.widget-view+json": {
       "model_id": "a0e12e790bb64625a3b587dc261ec9f2",
       "version_major": 2,
       "version_minor": 0
      },
      "text/plain": [
       "  0%|          | 0/6 [00:00<?, ?it/s]"
      ]
     },
     "metadata": {},
     "output_type": "display_data"
    },
    {
     "data": {
      "application/vnd.jupyter.widget-view+json": {
       "model_id": "8e43235a51304a82814c97e93413a1ad",
       "version_major": 2,
       "version_minor": 0
      },
      "text/plain": [
       "  0%|          | 0/6 [00:00<?, ?it/s]"
      ]
     },
     "metadata": {},
     "output_type": "display_data"
    },
    {
     "data": {
      "application/vnd.jupyter.widget-view+json": {
       "model_id": "0fce09c350504ad1bb6b9bf5b4d46260",
       "version_major": 2,
       "version_minor": 0
      },
      "text/plain": [
       "  0%|          | 0/6 [00:00<?, ?it/s]"
      ]
     },
     "metadata": {},
     "output_type": "display_data"
    },
    {
     "data": {
      "application/vnd.jupyter.widget-view+json": {
       "model_id": "5de448b1f5644531bcdc92d45f22e3da",
       "version_major": 2,
       "version_minor": 0
      },
      "text/plain": [
       "  0%|          | 0/6 [00:00<?, ?it/s]"
      ]
     },
     "metadata": {},
     "output_type": "display_data"
    },
    {
     "data": {
      "application/vnd.jupyter.widget-view+json": {
       "model_id": "e4c1bd2e007245f99406e7935a436aea",
       "version_major": 2,
       "version_minor": 0
      },
      "text/plain": [
       "  0%|          | 0/6 [00:00<?, ?it/s]"
      ]
     },
     "metadata": {},
     "output_type": "display_data"
    },
    {
     "data": {
      "application/vnd.jupyter.widget-view+json": {
       "model_id": "d95568acdf0845488b0dde90ec9f9c6f",
       "version_major": 2,
       "version_minor": 0
      },
      "text/plain": [
       "  0%|          | 0/6 [00:00<?, ?it/s]"
      ]
     },
     "metadata": {},
     "output_type": "display_data"
    },
    {
     "data": {
      "application/vnd.jupyter.widget-view+json": {
       "model_id": "99f4cd51da2f4cd78ecd320654e06c3e",
       "version_major": 2,
       "version_minor": 0
      },
      "text/plain": [
       "  0%|          | 0/6 [00:00<?, ?it/s]"
      ]
     },
     "metadata": {},
     "output_type": "display_data"
    },
    {
     "data": {
      "application/vnd.jupyter.widget-view+json": {
       "model_id": "06fa50c420b842efbfe4a28638c18f28",
       "version_major": 2,
       "version_minor": 0
      },
      "text/plain": [
       "  0%|          | 0/5 [00:00<?, ?it/s]"
      ]
     },
     "metadata": {},
     "output_type": "display_data"
    },
    {
     "data": {
      "application/vnd.jupyter.widget-view+json": {
       "model_id": "d631b51e5ccc45a2b576889c47dda24e",
       "version_major": 2,
       "version_minor": 0
      },
      "text/plain": [
       "  0%|          | 0/3 [00:00<?, ?it/s]"
      ]
     },
     "metadata": {},
     "output_type": "display_data"
    },
    {
     "data": {
      "application/vnd.jupyter.widget-view+json": {
       "model_id": "6f1c59ff5f4446f0bede968a5be5199f",
       "version_major": 2,
       "version_minor": 0
      },
      "text/plain": [
       "  0%|          | 0/6 [00:00<?, ?it/s]"
      ]
     },
     "metadata": {},
     "output_type": "display_data"
    },
    {
     "data": {
      "application/vnd.jupyter.widget-view+json": {
       "model_id": "57ab82fe59e347dbb0353d7afe4281e2",
       "version_major": 2,
       "version_minor": 0
      },
      "text/plain": [
       "  0%|          | 0/6 [00:00<?, ?it/s]"
      ]
     },
     "metadata": {},
     "output_type": "display_data"
    },
    {
     "data": {
      "application/vnd.jupyter.widget-view+json": {
       "model_id": "cf3e15e1e88f4481aff602ec2629a2d7",
       "version_major": 2,
       "version_minor": 0
      },
      "text/plain": [
       "  0%|          | 0/6 [00:00<?, ?it/s]"
      ]
     },
     "metadata": {},
     "output_type": "display_data"
    },
    {
     "data": {
      "application/vnd.jupyter.widget-view+json": {
       "model_id": "a347142c3f304de5a92e25b36978cc14",
       "version_major": 2,
       "version_minor": 0
      },
      "text/plain": [
       "  0%|          | 0/5 [00:00<?, ?it/s]"
      ]
     },
     "metadata": {},
     "output_type": "display_data"
    },
    {
     "data": {
      "application/vnd.jupyter.widget-view+json": {
       "model_id": "442f386f4e8840e6ab5e2db309a62c2a",
       "version_major": 2,
       "version_minor": 0
      },
      "text/plain": [
       "  0%|          | 0/5 [00:00<?, ?it/s]"
      ]
     },
     "metadata": {},
     "output_type": "display_data"
    },
    {
     "data": {
      "application/vnd.jupyter.widget-view+json": {
       "model_id": "0941b9a2060a4cbbbc3739f9927de606",
       "version_major": 2,
       "version_minor": 0
      },
      "text/plain": [
       "  0%|          | 0/6 [00:00<?, ?it/s]"
      ]
     },
     "metadata": {},
     "output_type": "display_data"
    },
    {
     "data": {
      "application/vnd.jupyter.widget-view+json": {
       "model_id": "c4bd13107aa24562bcbd6651405dfd27",
       "version_major": 2,
       "version_minor": 0
      },
      "text/plain": [
       "  0%|          | 0/2 [00:00<?, ?it/s]"
      ]
     },
     "metadata": {},
     "output_type": "display_data"
    }
   ],
   "source": [
    "''' Load in saved FRtensor from Figure 3 / S4 notebook & generate similarity matrices '''\n",
    "\n",
    "from scipy.spatial.distance import pdist\n",
    "from scipy.spatial.distance import squareform\n",
    "dt = 0.02\n",
    "\n",
    "for m, session in zip(mice,sessions):        \n",
    "    for s in tdqm(session):\n",
    "        \n",
    "        #get data\n",
    "        d = data[m][s]\n",
    "        \n",
    "        #get some data & cell IDs\n",
    "        rawdata_file = 'RAW_' + m + '_' + s + '.npy'\n",
    "        raw = np.load(load_folder + rawdata_file, allow_pickle=True)\n",
    "        cell_IDs = raw.item().get('cellsfil')\n",
    "        spatialcell99 = d['spatialcell99']\n",
    "        spatialcells = cell_IDs[spatialcell99]\n",
    "        \n",
    "        if len(spatialcells) > 10:\n",
    "            FRtensor_file = 'RF_FRtensor_' + m + '_' + s + '.npy'\n",
    "            d['FRtensor'] = np.load(fig3s4_folder + FRtensor_file)\n",
    "            Y = d['FRtensor']\n",
    "\n",
    "            Y_unwrapped = np.reshape(Y, (Y.shape[0], -1))\n",
    "            sim_vec = np.abs(pdist(Y_unwrapped, 'correlation')-1)\n",
    "            sim = squareform(sim_vec)\n",
    "            d['similarity'] = sim"
   ]
  },
  {
   "cell_type": "markdown",
   "id": "e8a0541d",
   "metadata": {},
   "source": [
    "# Load results of k optimization code in Figure 3 & S4 notebook. "
   ]
  },
  {
   "cell_type": "code",
   "execution_count": 63,
   "id": "0e53987c",
   "metadata": {},
   "outputs": [],
   "source": [
    "''' Load in K-Means Stuff'''\n",
    "from tqdm import tqdm\n",
    "from lvl.factor_models import KMeans as lvl_kmeans\n",
    "from lvl.factor_models import NMF as lvl_soft_kmeans\n",
    "from lvl.resamplers import RotationResampler\n",
    "from lvl.crossval import speckled_cv_scores \n",
    "from scipy.spatial.distance import cdist \n",
    "from scipy.special import logsumexp\n",
    "from sklearn.metrics import silhouette_samples, silhouette_score"
   ]
  },
  {
   "cell_type": "code",
   "execution_count": 64,
   "id": "81130749",
   "metadata": {
    "scrolled": true
   },
   "outputs": [
    {
     "data": {
      "application/vnd.jupyter.widget-view+json": {
       "model_id": "d60fc213e4d644c685c56b5b5416d7bc",
       "version_major": 2,
       "version_minor": 0
      },
      "text/plain": [
       "  0%|          | 0/6 [00:00<?, ?it/s]"
      ]
     },
     "metadata": {},
     "output_type": "display_data"
    },
    {
     "data": {
      "application/vnd.jupyter.widget-view+json": {
       "model_id": "4af9aa9d59be4360ba12567c2451f0da",
       "version_major": 2,
       "version_minor": 0
      },
      "text/plain": [
       "  0%|          | 0/6 [00:00<?, ?it/s]"
      ]
     },
     "metadata": {},
     "output_type": "display_data"
    },
    {
     "data": {
      "application/vnd.jupyter.widget-view+json": {
       "model_id": "06e8912d73b549309e51c2772dbb61b1",
       "version_major": 2,
       "version_minor": 0
      },
      "text/plain": [
       "  0%|          | 0/6 [00:00<?, ?it/s]"
      ]
     },
     "metadata": {},
     "output_type": "display_data"
    },
    {
     "data": {
      "application/vnd.jupyter.widget-view+json": {
       "model_id": "e2249767a17c4bed9810e364666eb584",
       "version_major": 2,
       "version_minor": 0
      },
      "text/plain": [
       "  0%|          | 0/6 [00:00<?, ?it/s]"
      ]
     },
     "metadata": {},
     "output_type": "display_data"
    },
    {
     "data": {
      "application/vnd.jupyter.widget-view+json": {
       "model_id": "0a85551f56684b9793d7847650698357",
       "version_major": 2,
       "version_minor": 0
      },
      "text/plain": [
       "  0%|          | 0/6 [00:00<?, ?it/s]"
      ]
     },
     "metadata": {},
     "output_type": "display_data"
    },
    {
     "data": {
      "application/vnd.jupyter.widget-view+json": {
       "model_id": "fc84b4b9fd1d400596266cd62769bc4e",
       "version_major": 2,
       "version_minor": 0
      },
      "text/plain": [
       "  0%|          | 0/6 [00:00<?, ?it/s]"
      ]
     },
     "metadata": {},
     "output_type": "display_data"
    },
    {
     "data": {
      "application/vnd.jupyter.widget-view+json": {
       "model_id": "c3e504c92ec049a4a0c7dab0ea1fd85d",
       "version_major": 2,
       "version_minor": 0
      },
      "text/plain": [
       "  0%|          | 0/6 [00:00<?, ?it/s]"
      ]
     },
     "metadata": {},
     "output_type": "display_data"
    },
    {
     "data": {
      "application/vnd.jupyter.widget-view+json": {
       "model_id": "6c8362718af74889bd9b92541993feea",
       "version_major": 2,
       "version_minor": 0
      },
      "text/plain": [
       "  0%|          | 0/5 [00:00<?, ?it/s]"
      ]
     },
     "metadata": {},
     "output_type": "display_data"
    },
    {
     "data": {
      "application/vnd.jupyter.widget-view+json": {
       "model_id": "12cb4028c20f4457b88e5d3413f921d5",
       "version_major": 2,
       "version_minor": 0
      },
      "text/plain": [
       "  0%|          | 0/3 [00:00<?, ?it/s]"
      ]
     },
     "metadata": {},
     "output_type": "display_data"
    },
    {
     "data": {
      "application/vnd.jupyter.widget-view+json": {
       "model_id": "08bb631f0b8c4103bfabf2949cb766aa",
       "version_major": 2,
       "version_minor": 0
      },
      "text/plain": [
       "  0%|          | 0/6 [00:00<?, ?it/s]"
      ]
     },
     "metadata": {},
     "output_type": "display_data"
    },
    {
     "data": {
      "application/vnd.jupyter.widget-view+json": {
       "model_id": "e7baa55d10fe40f0b30f2cbc0a438e52",
       "version_major": 2,
       "version_minor": 0
      },
      "text/plain": [
       "  0%|          | 0/6 [00:00<?, ?it/s]"
      ]
     },
     "metadata": {},
     "output_type": "display_data"
    },
    {
     "data": {
      "application/vnd.jupyter.widget-view+json": {
       "model_id": "41cb7d2f29a74fb4a281ba716b052914",
       "version_major": 2,
       "version_minor": 0
      },
      "text/plain": [
       "  0%|          | 0/6 [00:00<?, ?it/s]"
      ]
     },
     "metadata": {},
     "output_type": "display_data"
    },
    {
     "data": {
      "application/vnd.jupyter.widget-view+json": {
       "model_id": "2ea0b76aead84c1d9e6811fbf9e2ecb3",
       "version_major": 2,
       "version_minor": 0
      },
      "text/plain": [
       "  0%|          | 0/5 [00:00<?, ?it/s]"
      ]
     },
     "metadata": {},
     "output_type": "display_data"
    },
    {
     "data": {
      "application/vnd.jupyter.widget-view+json": {
       "model_id": "44fb6aef7803493285ce18d2aa6c28a4",
       "version_major": 2,
       "version_minor": 0
      },
      "text/plain": [
       "  0%|          | 0/5 [00:00<?, ?it/s]"
      ]
     },
     "metadata": {},
     "output_type": "display_data"
    },
    {
     "data": {
      "application/vnd.jupyter.widget-view+json": {
       "model_id": "714d38d679654917902b33b13f76ccd4",
       "version_major": 2,
       "version_minor": 0
      },
      "text/plain": [
       "  0%|          | 0/6 [00:00<?, ?it/s]"
      ]
     },
     "metadata": {},
     "output_type": "display_data"
    },
    {
     "data": {
      "application/vnd.jupyter.widget-view+json": {
       "model_id": "e296e42f35674f7499ed6b46fb5ece66",
       "version_major": 2,
       "version_minor": 0
      },
      "text/plain": [
       "  0%|          | 0/2 [00:00<?, ?it/s]"
      ]
     },
     "metadata": {},
     "output_type": "display_data"
    }
   ],
   "source": [
    "''' After k optimization, load in results & perform K-means using optimal k. '''\n",
    "\n",
    "yk = []\n",
    "ak = []\n",
    "optimalks = []\n",
    "\n",
    "for m, session in zip(mice, sessions):    \n",
    "    for s in tdqm(session):\n",
    "        \n",
    "        d = data[m][s]\n",
    "        \n",
    "        rawdata_file = 'RAW_' + m + '_' + s + '.npy'\n",
    "        behavior_file = 'BEHAVIOR_' + m + '_' + s + '.npy'\n",
    "        raw = np.load(load_folder + rawdata_file, allow_pickle=True)\n",
    "        cell_IDs = raw.item().get('cellsfil')\n",
    "        spatialcell99 = d['spatialcell99']\n",
    "        spatialcells = cell_IDs[spatialcell99]\n",
    "        \n",
    "        if len(spatialcells) > 10:\n",
    "            \n",
    "            onemapfile = 'onemap' + m + '_' + s + '.npy'\n",
    "            onemap = np.load(fig3s4_folder + onemapfile)\n",
    "            \n",
    "            if onemap[0].astype(bool) == True:\n",
    "                \n",
    "                d['kmeans'] = {}\n",
    "                d['kmeans']['onemap'] = onemap \n",
    "                \n",
    "                optimalks = np.append(optimalks, 1)\n",
    "                \n",
    "                if m in RF_aged_mice:\n",
    "                    ak = np.append(ak, 1)\n",
    "                else:\n",
    "                    yk = np.append(yk, 1)\n",
    "            \n",
    "            else:\n",
    "        \n",
    "                d['kmeans'] = {}\n",
    "                d['kmeans']['onemap'] = onemap \n",
    "\n",
    "                #load optimal k\n",
    "                SilN_file = 'SilN_' + m + '_' + s + '.npy'\n",
    "                d['kmeans']['SilN'] = np.load(fig3s4_folder + SilN_file)\n",
    "                SilN = d['kmeans']['SilN']\n",
    "                \n",
    "                optimalks = np.append(optimalks, SilN)\n",
    "            \n",
    "                if m in RF_aged_mice:\n",
    "                    ak = np.append(ak, SilN)\n",
    "                else:\n",
    "                    yk = np.append(yk, SilN)\n",
    "                \n",
    "                #load FR tensor\n",
    "                Y = d['FRtensor'].copy()\n",
    "                Y = Y.transpose(0, 2, 1)\n",
    "                Y_unwrapped = np.reshape(Y, (Y.shape[0], -1))\n",
    "                \n",
    "                #run k-means\n",
    "                model_kmeans = lvl_kmeans(n_components = SilN, n_restarts = 100)\n",
    "                model_kmeans.fit(Y_unwrapped)\n",
    "                W, H = model_kmeans.factors\n",
    "                Y_hat = model_kmeans.predict()\n",
    "                score = model_kmeans.score(Y_unwrapped)\n",
    "                d['kmeans']['W'] = W\n",
    "                d['kmeans']['H'] = H\n",
    "                d['kmeans']['Y_hat'] = Y_hat \n",
    "                d['kmeans']['Y_hat'] = Y_hat \n",
    "                d['kmeans']['score'] = score          "
   ]
  },
  {
   "cell_type": "code",
   "execution_count": 65,
   "id": "563efe25",
   "metadata": {
    "scrolled": true
   },
   "outputs": [
    {
     "data": {
      "application/vnd.jupyter.widget-view+json": {
       "model_id": "2ab7e85d5f044107a8108fee65514cb0",
       "version_major": 2,
       "version_minor": 0
      },
      "text/plain": [
       "  0%|          | 0/6 [00:00<?, ?it/s]"
      ]
     },
     "metadata": {},
     "output_type": "display_data"
    },
    {
     "data": {
      "application/vnd.jupyter.widget-view+json": {
       "model_id": "5295789857034be7910f83aec4fb712f",
       "version_major": 2,
       "version_minor": 0
      },
      "text/plain": [
       "  0%|          | 0/6 [00:00<?, ?it/s]"
      ]
     },
     "metadata": {},
     "output_type": "display_data"
    },
    {
     "data": {
      "application/vnd.jupyter.widget-view+json": {
       "model_id": "9c9d8c54b1b94d74a482fa36f510c52e",
       "version_major": 2,
       "version_minor": 0
      },
      "text/plain": [
       "  0%|          | 0/6 [00:00<?, ?it/s]"
      ]
     },
     "metadata": {},
     "output_type": "display_data"
    },
    {
     "data": {
      "application/vnd.jupyter.widget-view+json": {
       "model_id": "0ebfa52635104e3cb607b9f074cddf5f",
       "version_major": 2,
       "version_minor": 0
      },
      "text/plain": [
       "  0%|          | 0/6 [00:00<?, ?it/s]"
      ]
     },
     "metadata": {},
     "output_type": "display_data"
    },
    {
     "data": {
      "application/vnd.jupyter.widget-view+json": {
       "model_id": "32ae646c586744cf85a5fc2aa4bd4a07",
       "version_major": 2,
       "version_minor": 0
      },
      "text/plain": [
       "  0%|          | 0/6 [00:00<?, ?it/s]"
      ]
     },
     "metadata": {},
     "output_type": "display_data"
    },
    {
     "data": {
      "application/vnd.jupyter.widget-view+json": {
       "model_id": "aef5fdaca4634de39bef1babf2ad6ce3",
       "version_major": 2,
       "version_minor": 0
      },
      "text/plain": [
       "  0%|          | 0/6 [00:00<?, ?it/s]"
      ]
     },
     "metadata": {},
     "output_type": "display_data"
    },
    {
     "data": {
      "application/vnd.jupyter.widget-view+json": {
       "model_id": "116948a5c1454bdabc57c8ce6f792d14",
       "version_major": 2,
       "version_minor": 0
      },
      "text/plain": [
       "  0%|          | 0/6 [00:00<?, ?it/s]"
      ]
     },
     "metadata": {},
     "output_type": "display_data"
    },
    {
     "data": {
      "application/vnd.jupyter.widget-view+json": {
       "model_id": "24aaccc4970f4f85bb2e134eeef358e5",
       "version_major": 2,
       "version_minor": 0
      },
      "text/plain": [
       "  0%|          | 0/5 [00:00<?, ?it/s]"
      ]
     },
     "metadata": {},
     "output_type": "display_data"
    },
    {
     "data": {
      "application/vnd.jupyter.widget-view+json": {
       "model_id": "3d4847484f6d4a55bcbebe80fc13e7ac",
       "version_major": 2,
       "version_minor": 0
      },
      "text/plain": [
       "  0%|          | 0/3 [00:00<?, ?it/s]"
      ]
     },
     "metadata": {},
     "output_type": "display_data"
    },
    {
     "data": {
      "application/vnd.jupyter.widget-view+json": {
       "model_id": "d418f37673c94d1f94a5d4ff5dea5127",
       "version_major": 2,
       "version_minor": 0
      },
      "text/plain": [
       "  0%|          | 0/6 [00:00<?, ?it/s]"
      ]
     },
     "metadata": {},
     "output_type": "display_data"
    },
    {
     "data": {
      "application/vnd.jupyter.widget-view+json": {
       "model_id": "91d3c7c8ad564e5cbeb42b9c2e17e493",
       "version_major": 2,
       "version_minor": 0
      },
      "text/plain": [
       "  0%|          | 0/6 [00:00<?, ?it/s]"
      ]
     },
     "metadata": {},
     "output_type": "display_data"
    },
    {
     "data": {
      "application/vnd.jupyter.widget-view+json": {
       "model_id": "f940b03accaf4a7083e5bd6c7cd4f930",
       "version_major": 2,
       "version_minor": 0
      },
      "text/plain": [
       "  0%|          | 0/6 [00:00<?, ?it/s]"
      ]
     },
     "metadata": {},
     "output_type": "display_data"
    },
    {
     "data": {
      "application/vnd.jupyter.widget-view+json": {
       "model_id": "b0cf84ff74fe4a64a462852bf2aeee74",
       "version_major": 2,
       "version_minor": 0
      },
      "text/plain": [
       "  0%|          | 0/5 [00:00<?, ?it/s]"
      ]
     },
     "metadata": {},
     "output_type": "display_data"
    },
    {
     "data": {
      "application/vnd.jupyter.widget-view+json": {
       "model_id": "2c3358bbbcc0426dbd559fd51b33991b",
       "version_major": 2,
       "version_minor": 0
      },
      "text/plain": [
       "  0%|          | 0/5 [00:00<?, ?it/s]"
      ]
     },
     "metadata": {},
     "output_type": "display_data"
    },
    {
     "data": {
      "application/vnd.jupyter.widget-view+json": {
       "model_id": "a8361d2df37e45888d0f346070e831fc",
       "version_major": 2,
       "version_minor": 0
      },
      "text/plain": [
       "  0%|          | 0/6 [00:00<?, ?it/s]"
      ]
     },
     "metadata": {},
     "output_type": "display_data"
    },
    {
     "data": {
      "application/vnd.jupyter.widget-view+json": {
       "model_id": "7cb33b78af034a578333db47b9bcc172",
       "version_major": 2,
       "version_minor": 0
      },
      "text/plain": [
       "  0%|          | 0/2 [00:00<?, ?it/s]"
      ]
     },
     "metadata": {},
     "output_type": "display_data"
    },
    {
     "data": {
      "application/vnd.jupyter.widget-view+json": {
       "model_id": "61d50f30a0b544929ea8a9416978ca09",
       "version_major": 2,
       "version_minor": 0
      },
      "text/plain": [
       "  0%|          | 0/6 [00:00<?, ?it/s]"
      ]
     },
     "metadata": {},
     "output_type": "display_data"
    },
    {
     "data": {
      "application/vnd.jupyter.widget-view+json": {
       "model_id": "dae1707a4f184a0cb327570e3a348224",
       "version_major": 2,
       "version_minor": 0
      },
      "text/plain": [
       "  0%|          | 0/6 [00:00<?, ?it/s]"
      ]
     },
     "metadata": {},
     "output_type": "display_data"
    },
    {
     "data": {
      "application/vnd.jupyter.widget-view+json": {
       "model_id": "d00337c57de14e67b9e268d722bec15c",
       "version_major": 2,
       "version_minor": 0
      },
      "text/plain": [
       "  0%|          | 0/6 [00:00<?, ?it/s]"
      ]
     },
     "metadata": {},
     "output_type": "display_data"
    },
    {
     "data": {
      "application/vnd.jupyter.widget-view+json": {
       "model_id": "fc7d43d42dec496fb811a41093226090",
       "version_major": 2,
       "version_minor": 0
      },
      "text/plain": [
       "  0%|          | 0/6 [00:00<?, ?it/s]"
      ]
     },
     "metadata": {},
     "output_type": "display_data"
    },
    {
     "data": {
      "application/vnd.jupyter.widget-view+json": {
       "model_id": "e08b64ff6e494af8916985ae31e1e386",
       "version_major": 2,
       "version_minor": 0
      },
      "text/plain": [
       "  0%|          | 0/6 [00:00<?, ?it/s]"
      ]
     },
     "metadata": {},
     "output_type": "display_data"
    },
    {
     "data": {
      "application/vnd.jupyter.widget-view+json": {
       "model_id": "2873a9d6b6184636b79834d30aeae38d",
       "version_major": 2,
       "version_minor": 0
      },
      "text/plain": [
       "  0%|          | 0/6 [00:00<?, ?it/s]"
      ]
     },
     "metadata": {},
     "output_type": "display_data"
    },
    {
     "data": {
      "application/vnd.jupyter.widget-view+json": {
       "model_id": "0fc82559cb43439ba9ac18fe7532d63e",
       "version_major": 2,
       "version_minor": 0
      },
      "text/plain": [
       "  0%|          | 0/6 [00:00<?, ?it/s]"
      ]
     },
     "metadata": {},
     "output_type": "display_data"
    },
    {
     "data": {
      "application/vnd.jupyter.widget-view+json": {
       "model_id": "037dd201614449de9f263efc840a3679",
       "version_major": 2,
       "version_minor": 0
      },
      "text/plain": [
       "  0%|          | 0/5 [00:00<?, ?it/s]"
      ]
     },
     "metadata": {},
     "output_type": "display_data"
    },
    {
     "data": {
      "application/vnd.jupyter.widget-view+json": {
       "model_id": "12c99b0c5b294ba6899d43cfa9211649",
       "version_major": 2,
       "version_minor": 0
      },
      "text/plain": [
       "  0%|          | 0/3 [00:00<?, ?it/s]"
      ]
     },
     "metadata": {},
     "output_type": "display_data"
    },
    {
     "data": {
      "application/vnd.jupyter.widget-view+json": {
       "model_id": "9cd9f4ee42bf4a0682ade4cb770a936d",
       "version_major": 2,
       "version_minor": 0
      },
      "text/plain": [
       "  0%|          | 0/6 [00:00<?, ?it/s]"
      ]
     },
     "metadata": {},
     "output_type": "display_data"
    },
    {
     "data": {
      "application/vnd.jupyter.widget-view+json": {
       "model_id": "c670567de08c47e0b85526ff96ff882b",
       "version_major": 2,
       "version_minor": 0
      },
      "text/plain": [
       "  0%|          | 0/6 [00:00<?, ?it/s]"
      ]
     },
     "metadata": {},
     "output_type": "display_data"
    },
    {
     "data": {
      "application/vnd.jupyter.widget-view+json": {
       "model_id": "bbb0a2cfce1f47e599573899d6086016",
       "version_major": 2,
       "version_minor": 0
      },
      "text/plain": [
       "  0%|          | 0/6 [00:00<?, ?it/s]"
      ]
     },
     "metadata": {},
     "output_type": "display_data"
    },
    {
     "data": {
      "application/vnd.jupyter.widget-view+json": {
       "model_id": "301adf6699494225a13117ab94a2530d",
       "version_major": 2,
       "version_minor": 0
      },
      "text/plain": [
       "  0%|          | 0/5 [00:00<?, ?it/s]"
      ]
     },
     "metadata": {},
     "output_type": "display_data"
    },
    {
     "data": {
      "application/vnd.jupyter.widget-view+json": {
       "model_id": "2bec3232265e4835bcc97f429c345e2a",
       "version_major": 2,
       "version_minor": 0
      },
      "text/plain": [
       "  0%|          | 0/5 [00:00<?, ?it/s]"
      ]
     },
     "metadata": {},
     "output_type": "display_data"
    },
    {
     "data": {
      "application/vnd.jupyter.widget-view+json": {
       "model_id": "058f9156ad3847b09b0ca08c9d22b5bd",
       "version_major": 2,
       "version_minor": 0
      },
      "text/plain": [
       "  0%|          | 0/6 [00:00<?, ?it/s]"
      ]
     },
     "metadata": {},
     "output_type": "display_data"
    },
    {
     "data": {
      "application/vnd.jupyter.widget-view+json": {
       "model_id": "e1e3dc2343464c8699aeca7f4f2f7b45",
       "version_major": 2,
       "version_minor": 0
      },
      "text/plain": [
       "  0%|          | 0/2 [00:00<?, ?it/s]"
      ]
     },
     "metadata": {},
     "output_type": "display_data"
    }
   ],
   "source": [
    "''' Gather the relative performance of K-Means vs. TSVD at Optimal K\n",
    "\n",
    "Run time: ~a few minutes / session x 61 sessions. Given that there are more spatial cells than grid cells, this takes longer.\n",
    "\n",
    "'''\n",
    "\n",
    "from tqdm import tqdm\n",
    "from lvl.crossval import speckled_cv_scores \n",
    "from lvl.factor_models import TSVD\n",
    "\n",
    "# For every session with sufficient spatial cells, plot \n",
    "kmeansr2 = []\n",
    "tsvdr2 = []\n",
    "\n",
    "n_ranks = 1\n",
    "n_repeats = 10\n",
    "UNITY_LW = 3\n",
    "\n",
    "for m, session in zip(mice, sessions):\n",
    "    for s in tdqm(session):\n",
    "        \n",
    "        d = data[m][s]\n",
    "\n",
    "        rawdata_file = 'RAW_' + m + '_' + s + '.npy'\n",
    "        behavior_file = 'BEHAVIOR_' + m + '_' + s + '.npy'\n",
    "        raw = np.load(load_folder + rawdata_file, allow_pickle=True)\n",
    "        cell_IDs = raw.item().get('cellsfil')\n",
    "        spatialcell99 = d['spatialcell99']\n",
    "        spatialcells = cell_IDs[spatialcell99]\n",
    "        \n",
    "        if len(spatialcells) > 10: \n",
    "            \n",
    "            onemap = d['kmeans']['onemap']\n",
    "            \n",
    "            if onemap[0].astype(bool) == False:\n",
    "                SilN = d['kmeans']['SilN']\n",
    "                SilN = int(SilN)\n",
    "                ranks = [SilN]\n",
    "            else:\n",
    "                ranks = [1]\n",
    "                      \n",
    "            #load in the real data\n",
    "            Y = d['FRtensor'].copy()\n",
    "            Y = Y.transpose(0, 2, 1)\n",
    "            Y_unwrapped = np.reshape(Y, (Y.shape[0], -1))\n",
    "\n",
    "            # Run cross-validated k-means with speckled holdout pattern \n",
    "            km_train_scores = np.ones((n_ranks, n_repeats))\n",
    "            km_test_scores = np.ones((n_ranks, n_repeats))\n",
    "            for i, rank in enumerate(ranks):\n",
    "                model = lvl_kmeans(n_components=rank, n_restarts=100, maxiter=1000)\n",
    "                km_train_scores[i], km_test_scores[i] = \\\n",
    "                    speckled_cv_scores(model, Y_unwrapped, n_repeats=n_repeats)\n",
    "            kmeansr2 = np.append(kmeansr2, np.mean(km_test_scores))\n",
    "\n",
    "            # Run cross-validated truncated SVD with speckled holdout pattern.\n",
    "            tsvd_train_scores = np.ones((n_ranks, n_repeats))\n",
    "            tsvd_test_scores = np.ones((n_ranks, n_repeats))\n",
    "\n",
    "            for i, rank in enumerate(ranks):\n",
    "                model = TSVD(n_components=rank, method=\"als\", maxiter=1000)\n",
    "                tsvd_train_scores[i], tsvd_test_scores[i] = \\\n",
    "                    speckled_cv_scores(model, Y_unwrapped, n_repeats=n_repeats)\n",
    "            tsvdr2 = np.append(tsvdr2, np.mean(tsvd_test_scores))\n",
    "\n",
    "# report idx of sessions in each age group             \n",
    "y_sind10_short = []\n",
    "age_sind10_short = []\n",
    "count = 0\n",
    "for m, session in zip(mice, sessions):\n",
    "    for s in tdqm(session):\n",
    "        \n",
    "        d = data[m][s]\n",
    "\n",
    "        rawdata_file = 'RAW_' + m + '_' + s + '.npy'\n",
    "        behavior_file = 'BEHAVIOR_' + m + '_' + s + '.npy'\n",
    "        raw = np.load(load_folder + rawdata_file, allow_pickle=True)\n",
    "        cell_IDs = raw.item().get('cellsfil')\n",
    "        spatialcell99 = d['spatialcell99']\n",
    "        spatialcells = cell_IDs[spatialcell99]\n",
    "        \n",
    "        if len(spatialcells) > 10:\n",
    "            if m in RF_aged_mice:\n",
    "                age_sind10_short = np.append(age_sind10_short, count)\n",
    "            else:\n",
    "                y_sind10_short = np.append(y_sind10_short, count)\n",
    "                \n",
    "            count += 1  \n",
    "            \n",
    "y_sind10_short = y_sind10_short.astype(int)\n",
    "age_sind10_short = age_sind10_short.astype(int)"
   ]
  },
  {
   "cell_type": "code",
   "execution_count": 66,
   "id": "2ebb3d55",
   "metadata": {},
   "outputs": [
    {
     "data": {
      "image/png": "[encoded data removed]",
      "text/plain": [
       "<Figure size 260x140 with 2 Axes>"
      ]
     },
     "metadata": {},
     "output_type": "display_data"
    },
    {
     "name": "stdout",
     "output_type": "stream",
     "text": [
      "39 aged, 39 young sessions\n",
      "young results: \n",
      "PearsonRResult(statistic=0.9834013538301751, pvalue=4.957201382045384e-29)\n",
      "aged results: \n",
      "PearsonRResult(statistic=0.9881540779830235, pvalue=1.0049907357140959e-31)\n"
     ]
    }
   ],
   "source": [
    "''' Plot Figure S5A (left) '''\n",
    "\n",
    "y_sind10_short = y_sind10_short.astype(int)\n",
    "age_sind10_short = age_sind10_short.astype(int)\n",
    "\n",
    "f, ax = plt.subplots(1, 2, figsize=(2.6, 1.4), sharey = True, sharex = True)\n",
    "rax = np.tile(ranks, (n_repeats, 1)).T.ravel()\n",
    "\n",
    "ax[1].scatter(tsvdr2[age_sind10_short], kmeansr2[age_sind10_short], s = ak*10, label = 'aged', color = 'C1', alpha = 0.5, edgecolor = 'k')\n",
    "ax[0].scatter(tsvdr2[y_sind10_short], kmeansr2[y_sind10_short], s= yk*10,  label = 'young', color = 'C0', alpha = 0.5, edgecolor = 'k')\n",
    "\n",
    "#label stuff\n",
    "ax[0].set_ylabel(\"R**2 k-means\", fontsize = 9)\n",
    "ax[0].set_xlabel(\"R**2 tsvd\", fontsize = 9)\n",
    "#ax[1].set_ylabel(\"R**2 k-means\", fontsize = 9)\n",
    "ax[1].set_xlabel(\"R**2 tsvd\", fontsize = 9)\n",
    "ax[0].set_yticks([0.25,0.5,0.75])\n",
    "ax[1].set_yticks([0.25,0.5,0.75])\n",
    "ax[0].set_xlim([0.25, 0.75])\n",
    "ax[0].set_ylim([0.25, 0.75])\n",
    "ax[1].set_xlim([0.25, 0.75])\n",
    "ax[1].set_ylim([0.25, 0.75])\n",
    "\n",
    "#plot unity line\n",
    "xlims = ax[0].get_xlim()\n",
    "ylims = ax[0].get_ylim()\n",
    "min_plot = np.min([xlims[0], ylims[0]])\n",
    "max_plot = np.max([xlims[1], ylims[1]])\n",
    "min_plot = np.min([xlims[0], ylims[0]])\n",
    "max_plot = np.max([xlims[1], ylims[1]])\n",
    "ax[0].plot([min_plot, max_plot], [min_plot, max_plot], '--k', lw=0.75, zorder=4, alpha=1)\n",
    "ax[1].plot([min_plot, max_plot], [min_plot, max_plot], '--k', lw=0.75, zorder=4, alpha=1)\n",
    "plt.tight_layout()\n",
    "\n",
    "f.savefig(save_folder + 'S5Aleft.svg', dpi = 400)\n",
    "f.savefig(save_folder + 'S5Aleft.png', dpi = 400)\n",
    "plt.show()\n",
    "\n",
    "print(str(len(kmeansr2[age_sind10_short])) + ' aged, ' + str(len(kmeansr2[y_sind10_short])) + ' young sessions')\n",
    "print('young results: ')\n",
    "print(stats.pearsonr(tsvdr2[y_sind10_short], kmeansr2[y_sind10_short]))\n",
    "print('aged results: ')\n",
    "print(stats.pearsonr(tsvdr2[age_sind10_short], kmeansr2[age_sind10_short]))"
   ]
  },
  {
   "cell_type": "markdown",
   "id": "7af05702",
   "metadata": {},
   "source": [
    "# Re-label K-Means maps non-arbitrarily & examine alignment across vs. within map similarity."
   ]
  },
  {
   "cell_type": "code",
   "execution_count": 67,
   "id": "0a4048ec",
   "metadata": {},
   "outputs": [
    {
     "data": {
      "application/vnd.jupyter.widget-view+json": {
       "model_id": "68b523257e7f41afafafb4ab91f735f8",
       "version_major": 2,
       "version_minor": 0
      },
      "text/plain": [
       "  0%|          | 0/6 [00:00<?, ?it/s]"
      ]
     },
     "metadata": {},
     "output_type": "display_data"
    },
    {
     "data": {
      "application/vnd.jupyter.widget-view+json": {
       "model_id": "a0806fe03adb4384b25b46013d882b36",
       "version_major": 2,
       "version_minor": 0
      },
      "text/plain": [
       "  0%|          | 0/6 [00:00<?, ?it/s]"
      ]
     },
     "metadata": {},
     "output_type": "display_data"
    },
    {
     "data": {
      "application/vnd.jupyter.widget-view+json": {
       "model_id": "945646f145374e97b5c30a5ace1b4cc8",
       "version_major": 2,
       "version_minor": 0
      },
      "text/plain": [
       "  0%|          | 0/6 [00:00<?, ?it/s]"
      ]
     },
     "metadata": {},
     "output_type": "display_data"
    },
    {
     "data": {
      "application/vnd.jupyter.widget-view+json": {
       "model_id": "ad1d291690004685a0cf4c44982e478e",
       "version_major": 2,
       "version_minor": 0
      },
      "text/plain": [
       "  0%|          | 0/6 [00:00<?, ?it/s]"
      ]
     },
     "metadata": {},
     "output_type": "display_data"
    },
    {
     "data": {
      "application/vnd.jupyter.widget-view+json": {
       "model_id": "cf4b25ef43ca4a448d993802980e342a",
       "version_major": 2,
       "version_minor": 0
      },
      "text/plain": [
       "  0%|          | 0/6 [00:00<?, ?it/s]"
      ]
     },
     "metadata": {},
     "output_type": "display_data"
    },
    {
     "data": {
      "application/vnd.jupyter.widget-view+json": {
       "model_id": "8ac72209e68440f68d14aa11ce11e0e0",
       "version_major": 2,
       "version_minor": 0
      },
      "text/plain": [
       "  0%|          | 0/6 [00:00<?, ?it/s]"
      ]
     },
     "metadata": {},
     "output_type": "display_data"
    },
    {
     "data": {
      "application/vnd.jupyter.widget-view+json": {
       "model_id": "f3229c1018f049ba8b4503f37857515f",
       "version_major": 2,
       "version_minor": 0
      },
      "text/plain": [
       "  0%|          | 0/6 [00:00<?, ?it/s]"
      ]
     },
     "metadata": {},
     "output_type": "display_data"
    },
    {
     "data": {
      "application/vnd.jupyter.widget-view+json": {
       "model_id": "8715df2a836c474fbe46a1d06b2fcba0",
       "version_major": 2,
       "version_minor": 0
      },
      "text/plain": [
       "  0%|          | 0/5 [00:00<?, ?it/s]"
      ]
     },
     "metadata": {},
     "output_type": "display_data"
    },
    {
     "data": {
      "application/vnd.jupyter.widget-view+json": {
       "model_id": "32c8f94a3ed547d894e9dbe4c9e2c577",
       "version_major": 2,
       "version_minor": 0
      },
      "text/plain": [
       "  0%|          | 0/3 [00:00<?, ?it/s]"
      ]
     },
     "metadata": {},
     "output_type": "display_data"
    },
    {
     "data": {
      "application/vnd.jupyter.widget-view+json": {
       "model_id": "5c11441364094045a8dc96d8e20c889d",
       "version_major": 2,
       "version_minor": 0
      },
      "text/plain": [
       "  0%|          | 0/6 [00:00<?, ?it/s]"
      ]
     },
     "metadata": {},
     "output_type": "display_data"
    },
    {
     "data": {
      "application/vnd.jupyter.widget-view+json": {
       "model_id": "7ff499f626244507963547781ef95119",
       "version_major": 2,
       "version_minor": 0
      },
      "text/plain": [
       "  0%|          | 0/6 [00:00<?, ?it/s]"
      ]
     },
     "metadata": {},
     "output_type": "display_data"
    },
    {
     "data": {
      "application/vnd.jupyter.widget-view+json": {
       "model_id": "c7bfb02499794a8b9e38577c3d492662",
       "version_major": 2,
       "version_minor": 0
      },
      "text/plain": [
       "  0%|          | 0/6 [00:00<?, ?it/s]"
      ]
     },
     "metadata": {},
     "output_type": "display_data"
    },
    {
     "data": {
      "application/vnd.jupyter.widget-view+json": {
       "model_id": "eaed301657c4496fad68849dcb2552bb",
       "version_major": 2,
       "version_minor": 0
      },
      "text/plain": [
       "  0%|          | 0/5 [00:00<?, ?it/s]"
      ]
     },
     "metadata": {},
     "output_type": "display_data"
    },
    {
     "data": {
      "application/vnd.jupyter.widget-view+json": {
       "model_id": "f51451f551ae4559ab874c32ce866af9",
       "version_major": 2,
       "version_minor": 0
      },
      "text/plain": [
       "  0%|          | 0/5 [00:00<?, ?it/s]"
      ]
     },
     "metadata": {},
     "output_type": "display_data"
    },
    {
     "data": {
      "application/vnd.jupyter.widget-view+json": {
       "model_id": "c6765542d00e4d0fb786a8f34bdb41de",
       "version_major": 2,
       "version_minor": 0
      },
      "text/plain": [
       "  0%|          | 0/6 [00:00<?, ?it/s]"
      ]
     },
     "metadata": {},
     "output_type": "display_data"
    },
    {
     "data": {
      "application/vnd.jupyter.widget-view+json": {
       "model_id": "9ad3b8bb5fe44bd396e50e7f2947b019",
       "version_major": 2,
       "version_minor": 0
      },
      "text/plain": [
       "  0%|          | 0/2 [00:00<?, ?it/s]"
      ]
     },
     "metadata": {},
     "output_type": "display_data"
    }
   ],
   "source": [
    "''' Re-label RF spatial maps non-arbitrarily (slower map is map 0) '''\n",
    "\n",
    "for m, session in zip(mice, sessions):\n",
    "    \n",
    "    if m in cohortb_mice:\n",
    "        max_trials = 240\n",
    "    else:\n",
    "        max_trials = 200\n",
    "    \n",
    "    for s in tdqm(session):\n",
    "        d = data[m][s]\n",
    "        \n",
    "        rawdata_file = 'RAW_' + m + '_' + s + '.npy'\n",
    "        behavior_file = 'BEHAVIOR_' + m + '_' + s + '.npy'\n",
    "        \n",
    "        raw = np.load(load_folder + rawdata_file, allow_pickle=True)\n",
    "        behaviorfil = np.load(load_folder + behavior_file, allow_pickle=False)\n",
    "\n",
    "        cell_IDs = raw.item().get('cellsfil')\n",
    "        posx = behaviorfil[:,0]\n",
    "        speed = behaviorfil[:,1]\n",
    "        trial = behaviorfil[:,2]\n",
    "        max_trials = np.max(trial)\n",
    "        rawtrialfil = raw.item().get('trialfil')\n",
    "        spatialcell99 = d['spatialcell99']\n",
    "        spatialcells = cell_IDs[spatialcell99]\n",
    "        \n",
    "        #Find any skipped trials\n",
    "        try:\n",
    "            _ = raw.item().get('correctedtrial').shape\n",
    "            skippedtrials = get.find_skipped(trial, max_trial_num = max_trials)\n",
    "        except:\n",
    "            skippedtrials = []\n",
    "        \n",
    "        if np.max(np.unique(trial)) < 160: #handles truncated, shorter sessions \n",
    "            alltrial = np.arange(0, np.max(np.unique(trial)) + 1, 1)\n",
    "        else:\n",
    "            alltrial = np.arange(0,max_trials,1)\n",
    "        trials = np.unique(trial)\n",
    "        \n",
    "        #count number of skipped dark trials\n",
    "        ndarkskipped = 0\n",
    "        for z in skippedtrials:\n",
    "            if z < 20: \n",
    "                ndarkskipped += 1\n",
    "                \n",
    "        #adjust trialfil so that sorted trials are skipped instead\n",
    "        skippedrawtrialfil = get.sortedtrialbyframe(rawtrialfil, trial, skippedtrials)\n",
    "        numtrial = np.unique(skippedrawtrialfil)\n",
    "            \n",
    "        #define random foraging trials only, excluding dark & gain change periods\n",
    "        if m == 'Y9':\n",
    "            start_idx = 0 \n",
    "            end_idx = len(skippedrawtrialfil) + 1\n",
    "        elif m in cohortb_mice:\n",
    "            start_idx = (np.where(skippedrawtrialfil >= 20)[0][0]).astype(int)\n",
    "            end_idx = (np.where(skippedrawtrialfil >= 200)[0][0]).astype(int)\n",
    "        else:\n",
    "            start_idx = 0 \n",
    "            end_idx = len(skippedrawtrialfil) + 1\n",
    "        \n",
    "        if len(spatialcells) > 10: \n",
    "            onemap = d['kmeans']['onemap']\n",
    "            if onemap[0].astype(bool) == False:\n",
    "                SilN = d['kmeans']['SilN']\n",
    "                if SilN == 2:\n",
    "                    W = d['kmeans']['W']\n",
    "                    H = d['kmeans']['H']\n",
    "\n",
    "                    # get map indices\n",
    "                    map_idx = W[:, 0].astype(bool)\n",
    "                    trials = skippedrawtrialfil[start_idx:end_idx]\n",
    "                    map0_idx = np.zeros_like(trials)\n",
    "                    map1_idx = np.zeros_like(trials)\n",
    "                    for i, t in enumerate(np.unique(trials)):\n",
    "                        if map_idx[i]:\n",
    "                            map0_idx[trials == t] = 1\n",
    "                        else:\n",
    "                            map1_idx[trials == t] = 1\n",
    "                    map0_idx = map0_idx.astype(bool)\n",
    "                    map1_idx = map1_idx.astype(bool)\n",
    "\n",
    "                    # get running speed in each map and assign map 0 to slower map\n",
    "                    RFspeed = speed[start_idx:end_idx]\n",
    "                    speed_0 = np.nanmean(RFspeed[map0_idx])\n",
    "                    speed_1 = np.nanmean(RFspeed[map1_idx])\n",
    "\n",
    "                    if speed_1 < speed_0: # swap labels\n",
    "                        d['map0_idx'] = 1\n",
    "                    else:\n",
    "                        d['map0_idx'] = 0"
   ]
  },
  {
   "cell_type": "code",
   "execution_count": 68,
   "id": "0e791d76",
   "metadata": {},
   "outputs": [],
   "source": [
    "'''Compute within vs. across map similarity '''\n",
    "saged_within = []\n",
    "saged_across = []\n",
    "syoung_within = []\n",
    "syoung_across = []\n",
    "\n",
    "countaged = 0\n",
    "countyoung = 0\n",
    "\n",
    "for m, session in zip(mice, sessions):\n",
    "    \n",
    "    m_within = []\n",
    "    m_across = []\n",
    "    \n",
    "    for s in session:\n",
    "        d = data[m][s]\n",
    "        \n",
    "        rawdata_file = 'RAW_' + m + '_' + s + '.npy'\n",
    "        raw = np.load(load_folder + rawdata_file, allow_pickle=True)\n",
    "        cell_IDs = raw.item().get('cellsfil')\n",
    "        spatialcell99 = d['spatialcell99']\n",
    "        spatialcells = cell_IDs[spatialcell99]\n",
    "        \n",
    "        if len(spatialcells) > 10: \n",
    "            onemap = d['kmeans']['onemap']\n",
    "            if onemap[0].astype(bool) == False:\n",
    "                SilN = d['kmeans']['SilN']\n",
    "                if SilN == 2:\n",
    "                    sim = d['similarity']\n",
    "                    W = d['kmeans']['W']\n",
    "                    map_0 = W[:, d['map0_idx']].astype(bool)\n",
    "\n",
    "                    # split by trial\n",
    "                    sim_0 = sim[map_0, :]\n",
    "                    sim_0 = sim_0[:, map_0]\n",
    "                    sim_1 = sim[~map_0, :]\n",
    "                    sim_1 = sim_1[:, ~map_0]\n",
    "                    sim_across = sim[map_0, :]\n",
    "                    sim_across = sim_across[:, ~map_0]\n",
    "\n",
    "                    # calculate the average similarity within vs. across maps\n",
    "                    within = np.append(sim_0[np.triu_indices(n=sim_0.shape[0], k=1)], \n",
    "                                       sim_1[np.triu_indices(n=sim_1.shape[0], k=1)])\n",
    "                    avg_within = np.mean(within)\n",
    "                    across = sim_across[np.triu_indices(n=sim_across.shape[0], k=1, m=sim_across.shape[1])]\n",
    "                    avg_across = np.mean(across)\n",
    "\n",
    "                    # save for all sessions\n",
    "                    if m in RF_aged_mice:\n",
    "                        countaged += 1\n",
    "                        saged_within = np.append(saged_within, avg_within)\n",
    "                        saged_across = np.append(saged_across, avg_across)\n",
    "                    else: \n",
    "                        countyoung += 1\n",
    "                        syoung_within = np.append(syoung_within, avg_within)\n",
    "                        syoung_across = np.append(syoung_across, avg_across)"
   ]
  },
  {
   "cell_type": "code",
   "execution_count": 69,
   "id": "2539b7f9",
   "metadata": {},
   "outputs": [
    {
     "name": "stdout",
     "output_type": "stream",
     "text": [
      "mean, sem within map similarity: 0.5, 0.01\n",
      "mean, sem across map similarity: 0.32, 0.02\n",
      "pct change in spatial similarity (mean, sem) aged: -37.52, 3.64%\n",
      "\n",
      "mean, sem within map similarity: 0.51, 0.01\n",
      "mean, sem across map similarity: 0.3, 0.02\n",
      "pct change in spatial similarity (mean, sem) young: -40.84, 3.83%\n",
      "\n",
      "within map vs across map similarity: aged_p = 2.9802322387695312e-08\n",
      "n = 26 model pairs\n",
      "within map vs across map similarity: young_p = 5.820766091346741e-11\n",
      "n = 35 model pairs\n"
     ]
    }
   ],
   "source": [
    "'''In both age groups, are maps more similar to themselves?'''\n",
    "# % change in aged spatial similarity\n",
    "d_sim = ((saged_across - saged_within) / saged_within) * 100\n",
    "print('mean, sem within map similarity: {}, {}'.format(np.round(np.mean(saged_within), 2), np.round(stats.sem(saged_within), 2)))\n",
    "print('mean, sem across map similarity: {}, {}'.format(np.round(np.mean(saged_across), 2), np.round(stats.sem(saged_across), 2)))\n",
    "print('pct change in spatial similarity (mean, sem) aged: {}, {}%'.format(np.round(np.mean(d_sim), 2), np.round(stats.sem(d_sim), 2)))\n",
    "\n",
    "# % change in young spatial similarity\n",
    "d_sim = ((syoung_across - syoung_within) / syoung_within) * 100\n",
    "print('\\nmean, sem within map similarity: {}, {}'.format(np.round(np.mean(syoung_within), 2), np.round(stats.sem(syoung_within), 2)))\n",
    "print('mean, sem across map similarity: {}, {}'.format(np.round(np.mean(syoung_across), 2), np.round(stats.sem(syoung_across), 2)))\n",
    "print('pct change in spatial similarity (mean, sem) young: {}, {}%'.format(np.round(np.mean(d_sim), 2), np.round(stats.sem(d_sim), 2)))\n",
    "\n",
    "sameVSdiff_stat, sameVSdiff_p = stats.wilcoxon(saged_within, saged_across)\n",
    "print('\\nwithin map vs across map similarity: aged_p = ' + str(sameVSdiff_p))\n",
    "print('n = ' + str(saged_within.shape[0]) + ' model pairs')\n",
    "\n",
    "sameVSdiff_stat, sameVSdiff_p = stats.wilcoxon(syoung_within, syoung_across)\n",
    "print('within map vs across map similarity: young_p = ' + str(sameVSdiff_p))\n",
    "print('n = ' + str(syoung_within.shape[0]) + ' model pairs')"
   ]
  },
  {
   "cell_type": "code",
   "execution_count": 70,
   "id": "cdd0a751",
   "metadata": {},
   "outputs": [
    {
     "data": {
      "image/png": "[encoded data removed]",
      "text/plain": [
       "<Figure size 240x140 with 2 Axes>"
      ]
     },
     "metadata": {},
     "output_type": "display_data"
    }
   ],
   "source": [
    "''' Plot Figure S5B (left)'''\n",
    "\n",
    "# plot similarity within vs. across\n",
    "f, ax = plt.subplots(1, 2, figsize=(2.4, 1.4), sharey = True)\n",
    "#f.suptitle('Similarity Within vs. Across Maps by Age Group, Session', y = 1.05)\n",
    "DOT_SIZE = 20\n",
    "DOT_LW = 1\n",
    "BAR_SIZE = 10\n",
    "BAR_WIDTH = 2.8\n",
    "labels = ['within', 'across']\n",
    "\n",
    "## PLOT AGED DATA \n",
    "j = np.random.randn(saged_within.shape[0]) * .08\n",
    "\n",
    "# plot connector lines\n",
    "for k, w in enumerate(saged_within): # plot connector lines\n",
    "    a = saged_across[k]\n",
    "    x_vals = [1.08+j[k], 1.92+j[k]]\n",
    "    y_vals = [w-0.005, a+0.005]\n",
    "    ax[1].plot(x_vals, y_vals, '-', color='xkcd:gray', lw=DOT_LW, zorder=1,  alpha=1)\n",
    "\n",
    "# within map similarity\n",
    "ax[1].scatter(np.full(len(saged_within), 1)+j, saged_within,\n",
    "           facecolors='C1', edgecolors='k', alpha=1,\n",
    "           s=DOT_SIZE, lw=DOT_LW, zorder=2, label='Aged') \n",
    "\n",
    "# across map similarity\n",
    "ax[1].scatter(np.full(len(saged_within), 2)+j, saged_across,\n",
    "           facecolors='C1', edgecolors='k', alpha=1,\n",
    "           s=DOT_SIZE, lw=DOT_LW, zorder=2, label = 'Aged') \n",
    "\n",
    "# plot means\n",
    "ax[1].plot(1, np.mean(saged_within), '_', c='k', markersize=BAR_SIZE, markeredgewidth=BAR_WIDTH, zorder=3)\n",
    "ax[1].plot(2, np.mean(saged_across), '_', c='k', markersize=BAR_SIZE, markeredgewidth=BAR_WIDTH, zorder=3)\n",
    "\n",
    "## PLOT Young DATA \n",
    "j = np.random.randn(syoung_within.shape[0]) * .08\n",
    "\n",
    "# plot connector lines\n",
    "for k, w in enumerate(syoung_within): # plot connector lines\n",
    "    a = syoung_across[k]\n",
    "    x_vals = [1.08+j[k], 1.92+j[k]]\n",
    "    y_vals = [w-0.005, a+0.005]\n",
    "    ax[0].plot(x_vals, y_vals, '-', color='xkcd:gray', lw=DOT_LW, zorder=1,  alpha=1)\n",
    "\n",
    "# within map similarity\n",
    "ax[0].scatter(np.full(len(syoung_within), 1)+j, syoung_within,\n",
    "           facecolors='C0', edgecolors='k', alpha=1,\n",
    "           s=DOT_SIZE, lw=DOT_LW, zorder=2, label='Young') \n",
    "\n",
    "# across map similarity\n",
    "ax[0].scatter(np.full(len(syoung_within), 2)+j, syoung_across,\n",
    "           facecolors='C0', edgecolors='k', alpha=1,\n",
    "           s=DOT_SIZE, lw=DOT_LW, zorder=2) \n",
    "\n",
    "# plot means\n",
    "ax[0].plot(1, np.mean(syoung_within), '_', c='k', markersize=BAR_SIZE, markeredgewidth=BAR_WIDTH, zorder=3)\n",
    "ax[0].plot(2, np.mean(syoung_across), '_', c='k', markersize=BAR_SIZE, markeredgewidth=BAR_WIDTH, zorder=3)\n",
    "\n",
    "ax[1].set_xlim([0.5, 2.5])\n",
    "ax[1].set_xticks([1, 2])\n",
    "ax[1].set_yticks([0.1, 0.3, 0.5, 0.7])\n",
    "ax[1].set_ylim([0,0.7])\n",
    "ax[0].set_ylim([0,0.7])\n",
    "ax[1].set_xticklabels(labels, rotation=45)\n",
    "ax[1].tick_params(which='major', labelsize=8, pad=0.8)\n",
    "ax[1].set_title('Aged', fontsize = 10)\n",
    "\n",
    "ax[0].set_xlim([0.5, 2.5])\n",
    "ax[0].set_xticks([1, 2])\n",
    "ax[0].set_xticklabels(labels, rotation=45)\n",
    "ax[0].tick_params(which='major', labelsize=8, pad=0.8)\n",
    "ax[0].set_title('Young', fontsize = 10)\n",
    "ax[0].set_ylabel('Avg. Similarity', fontsize=9, labelpad=1)\n",
    "f.savefig(save_folder + 'S5Bleft.png', dpi=400, bbox_inches='tight')\n",
    "f.savefig(save_folder + 'S5Bleft.svg', dpi=400, bbox_inches='tight')\n",
    "plt.show()"
   ]
  },
  {
   "cell_type": "code",
   "execution_count": 71,
   "id": "ea1e4780",
   "metadata": {},
   "outputs": [
    {
     "name": "stdout",
     "output_type": "stream",
     "text": [
      "WITHIN RESULTS:\n",
      "withinyoung ± SEM; withinstab_old ± SEM\n",
      "0.5095 ± 0.0106 ; 0.5036 ± 0.011\n",
      "stat = 0.1458391357870652\n",
      "p_session = 0.8840483802881689\n",
      "\n",
      "ACROSS RESULTS:\n",
      "acrossyoung ± SEM; acrossstab_old ± SEM\n",
      "0.3025 ± 0.0202 ; 0.3204 ± 0.0227\n",
      "stat = -0.4229334937824891\n",
      "p_session = 0.6723437848219764\n",
      "\n",
      "Within - Across % Change RESULTS:\n",
      "changeyoung ± SEM; changestab_old ± SEM\n",
      "-40.8442 ± 3.8274 ; -37.5228 ± 3.6444\n",
      "stat = -0.3500139258889565\n",
      "p_session = 0.7263282465634255\n"
     ]
    }
   ],
   "source": [
    "''' Statistics Young vs. Aged Within, Across, Diff (Within - Across) Map Similarity'''\n",
    "\n",
    "print('WITHIN RESULTS:')\n",
    "print('withinyoung ± SEM; withinstab_old ± SEM')\n",
    "print(str(np.round(np.nanmean(syoung_within), 4)) + ' ± ' + str(np.round(stats.sem(syoung_within), 4)) + ' ; ' \n",
    "      + str(np.round(np.nanmean(saged_within), 4)) + ' ± ' + str(np.round(stats.sem(saged_within), 4)))\n",
    "\n",
    "stat, p_diff = stats.ranksums(syoung_within, saged_within)\n",
    "print('stat = ' + str(stat))\n",
    "print('p_session = ' + str(p_diff))\n",
    "\n",
    "print('\\nACROSS RESULTS:')\n",
    "print('acrossyoung ± SEM; acrossstab_old ± SEM')\n",
    "print(str(np.round(np.nanmean(syoung_across), 4)) + ' ± ' + str(np.round(stats.sem(syoung_across), 4)) + ' ; ' \n",
    "      + str(np.round(np.nanmean(saged_across), 4)) + ' ± ' + str(np.round(stats.sem(saged_across), 4)))\n",
    "\n",
    "stat, p_diff = stats.ranksums(syoung_across, saged_across)\n",
    "print('stat = ' + str(stat))\n",
    "print('p_session = ' + str(p_diff))\n",
    "\n",
    "sd_sima = ((saged_across - saged_within) / saged_within) * 100\n",
    "sd_simy = ((syoung_across - syoung_within) / syoung_within) * 100\n",
    "\n",
    "print('\\nWithin - Across % Change RESULTS:')\n",
    "print('changeyoung ± SEM; changestab_old ± SEM')\n",
    "print(str(np.round(np.nanmean(sd_simy), 4)) + ' ± ' + str(np.round(stats.sem(sd_simy), 4)) + ' ; ' \n",
    "      + str(np.round(np.nanmean(sd_sima), 4)) + ' ± ' + str(np.round(stats.sem(sd_sima), 4)))\n",
    "\n",
    "stat, p_diff = stats.ranksums(sd_simy, sd_sima)\n",
    "print('stat = ' + str(stat))\n",
    "print('p_session = ' + str(p_diff))"
   ]
  },
  {
   "cell_type": "code",
   "execution_count": 72,
   "id": "46a3945e",
   "metadata": {},
   "outputs": [
    {
     "data": {
      "application/vnd.jupyter.widget-view+json": {
       "model_id": "29fc1ca6c33d46df9d09bc04e1dd726a",
       "version_major": 2,
       "version_minor": 0
      },
      "text/plain": [
       "  0%|          | 0/6 [00:00<?, ?it/s]"
      ]
     },
     "metadata": {},
     "output_type": "display_data"
    },
    {
     "data": {
      "application/vnd.jupyter.widget-view+json": {
       "model_id": "209574a631564cacb0b18ddd027ca8e8",
       "version_major": 2,
       "version_minor": 0
      },
      "text/plain": [
       "  0%|          | 0/6 [00:00<?, ?it/s]"
      ]
     },
     "metadata": {},
     "output_type": "display_data"
    },
    {
     "data": {
      "application/vnd.jupyter.widget-view+json": {
       "model_id": "886d32c0f16843d19232d6decde26b8c",
       "version_major": 2,
       "version_minor": 0
      },
      "text/plain": [
       "  0%|          | 0/6 [00:00<?, ?it/s]"
      ]
     },
     "metadata": {},
     "output_type": "display_data"
    },
    {
     "data": {
      "application/vnd.jupyter.widget-view+json": {
       "model_id": "c9f8c4f7e11d4260b4722f09943f3d8b",
       "version_major": 2,
       "version_minor": 0
      },
      "text/plain": [
       "  0%|          | 0/6 [00:00<?, ?it/s]"
      ]
     },
     "metadata": {},
     "output_type": "display_data"
    },
    {
     "data": {
      "application/vnd.jupyter.widget-view+json": {
       "model_id": "3354eed5484a4fb9af49d6868bb14a11",
       "version_major": 2,
       "version_minor": 0
      },
      "text/plain": [
       "  0%|          | 0/6 [00:00<?, ?it/s]"
      ]
     },
     "metadata": {},
     "output_type": "display_data"
    },
    {
     "data": {
      "application/vnd.jupyter.widget-view+json": {
       "model_id": "0a508ee8614b48f8bf3a57072900000e",
       "version_major": 2,
       "version_minor": 0
      },
      "text/plain": [
       "  0%|          | 0/6 [00:00<?, ?it/s]"
      ]
     },
     "metadata": {},
     "output_type": "display_data"
    },
    {
     "data": {
      "application/vnd.jupyter.widget-view+json": {
       "model_id": "5d27ed956bdf4f4bab56df3e7be44832",
       "version_major": 2,
       "version_minor": 0
      },
      "text/plain": [
       "  0%|          | 0/6 [00:00<?, ?it/s]"
      ]
     },
     "metadata": {},
     "output_type": "display_data"
    },
    {
     "data": {
      "application/vnd.jupyter.widget-view+json": {
       "model_id": "56624482b64d4dcf815957b0ca4fbc62",
       "version_major": 2,
       "version_minor": 0
      },
      "text/plain": [
       "  0%|          | 0/5 [00:00<?, ?it/s]"
      ]
     },
     "metadata": {},
     "output_type": "display_data"
    },
    {
     "data": {
      "application/vnd.jupyter.widget-view+json": {
       "model_id": "1af40f68b40f44f0a5a8c8fae927dff7",
       "version_major": 2,
       "version_minor": 0
      },
      "text/plain": [
       "  0%|          | 0/3 [00:00<?, ?it/s]"
      ]
     },
     "metadata": {},
     "output_type": "display_data"
    },
    {
     "name": "stdout",
     "output_type": "stream",
     "text": [
      "too few spatial cells, cannot compute corr for this session\n"
     ]
    },
    {
     "data": {
      "application/vnd.jupyter.widget-view+json": {
       "model_id": "82884de309e040c1887f4ddade1904cc",
       "version_major": 2,
       "version_minor": 0
      },
      "text/plain": [
       "  0%|          | 0/6 [00:00<?, ?it/s]"
      ]
     },
     "metadata": {},
     "output_type": "display_data"
    },
    {
     "data": {
      "application/vnd.jupyter.widget-view+json": {
       "model_id": "586084058db54081bb29d1d7b331f1de",
       "version_major": 2,
       "version_minor": 0
      },
      "text/plain": [
       "  0%|          | 0/6 [00:00<?, ?it/s]"
      ]
     },
     "metadata": {},
     "output_type": "display_data"
    },
    {
     "data": {
      "application/vnd.jupyter.widget-view+json": {
       "model_id": "b30316697b6e42cd8b3e70da7a1dbb6b",
       "version_major": 2,
       "version_minor": 0
      },
      "text/plain": [
       "  0%|          | 0/6 [00:00<?, ?it/s]"
      ]
     },
     "metadata": {},
     "output_type": "display_data"
    },
    {
     "data": {
      "application/vnd.jupyter.widget-view+json": {
       "model_id": "069f758eb1244101beb9d8bbfb41cbe3",
       "version_major": 2,
       "version_minor": 0
      },
      "text/plain": [
       "  0%|          | 0/5 [00:00<?, ?it/s]"
      ]
     },
     "metadata": {},
     "output_type": "display_data"
    },
    {
     "data": {
      "application/vnd.jupyter.widget-view+json": {
       "model_id": "42dc5a96b85f438fac5f0058e1081b4a",
       "version_major": 2,
       "version_minor": 0
      },
      "text/plain": [
       "  0%|          | 0/5 [00:00<?, ?it/s]"
      ]
     },
     "metadata": {},
     "output_type": "display_data"
    },
    {
     "data": {
      "application/vnd.jupyter.widget-view+json": {
       "model_id": "062c510b91a74ad183cf2c03a538591a",
       "version_major": 2,
       "version_minor": 0
      },
      "text/plain": [
       "  0%|          | 0/6 [00:00<?, ?it/s]"
      ]
     },
     "metadata": {},
     "output_type": "display_data"
    },
    {
     "data": {
      "application/vnd.jupyter.widget-view+json": {
       "model_id": "eea47094661f4ea0aa782c7adfcc7d52",
       "version_major": 2,
       "version_minor": 0
      },
      "text/plain": [
       "  0%|          | 0/2 [00:00<?, ?it/s]"
      ]
     },
     "metadata": {},
     "output_type": "display_data"
    },
    {
     "name": "stdout",
     "output_type": "stream",
     "text": [
      "too few spatial cells, cannot compute corr for this session\n"
     ]
    }
   ],
   "source": [
    "''' Measure remapping coordination in each age group ''' \n",
    "\n",
    "smeancorr = []\n",
    "bins = np.arange(0, 0.8, 0.05)\n",
    "\n",
    "for m, session in zip(mice, sessions):\n",
    "\n",
    "    for s in tdqm(session):\n",
    "        d = data[m][s]\n",
    "        \n",
    "        #get some data & cell IDs\n",
    "        rawdata_file = 'RAW_' + m + '_' + s + '.npy'\n",
    "        raw = np.load(load_folder + rawdata_file, allow_pickle=True)\n",
    "        cell_IDs = raw.item().get('cellsfil')\n",
    "        spatialcell = d['spatialcell99'].astype(bool)\n",
    "        spatialcells = cell_IDs[spatialcell]   \n",
    "        \n",
    "        if m in RF_aged_mice:\n",
    "            col = 'C1'\n",
    "        else:\n",
    "            col = 'C0'\n",
    "        \n",
    "        if len(spatialcells) > 2:\n",
    "            \n",
    "            # load Cross-Trial Correlation Matrix for each RF Spatial Cell computed in Figure 5 Notebook\n",
    "            allsim_file = 'allsim_' + m + '_' + s + '_'+ '.npy'\n",
    "            allsim = np.load(fig5_folder + allsim_file)\n",
    "            \n",
    "            correlation = []\n",
    "            for i, c in enumerate(spatialcells):\n",
    "                littlesim = allsim[:,:,i]\n",
    "                allothersim = np.delete(allsim, i, axis = 2)\n",
    "                sim = np.mean(allothersim, axis = 2)\n",
    "                mask = np.triu_indices(sim.shape[0])\n",
    "            \n",
    "                #linearize upper triangles of each sim matrix\n",
    "                uppersim = sim[mask]\n",
    "                upperlittlesim = littlesim[mask]\n",
    "\n",
    "                #compute correlation of front & back matrices with each other\n",
    "                corr, _ = stats.pearsonr(uppersim[~np.isnan(uppersim)], upperlittlesim[~np.isnan(uppersim)])\n",
    "                correlation = np.append(correlation, corr)\n",
    "            \n",
    "            smeancorr = np.append(smeancorr, np.mean(correlation))\n",
    "            \n",
    "        else:\n",
    "            print('too few spatial cells, cannot compute corr for this session')\n",
    "            smeancorr = np.append(smeancorr, np.nan)"
   ]
  },
  {
   "cell_type": "code",
   "execution_count": 73,
   "id": "87a7b24a",
   "metadata": {},
   "outputs": [
    {
     "data": {
      "image/png": "[encoded data removed]",
      "text/plain": [
       "<Figure size 212.5x150 with 1 Axes>"
      ]
     },
     "metadata": {},
     "output_type": "display_data"
    }
   ],
   "source": [
    "''' Plot Figure S5C '''\n",
    "\n",
    "fig, ax = plt.subplots(1, 1, figsize=(2.125, 1.5), sharey = False)\n",
    "#f.suptitle('Spatial Cell Session Network Similarity Matrix Correlation, Pooled by Age Group', fontsize=12)\n",
    "\n",
    "scorr_tog = [smeancorr[y_sind99][~np.isnan(smeancorr[y_sind99])],smeancorr[age_sind99]]\n",
    "ax.boxplot(scorr_tog, widths = w, labels = labels, medianprops = dict(color = 'black'))\n",
    "ax.set_title('Cell vs. Network Similarity', fontsize=10, pad=5)\n",
    "ax.set_xlabel('Age', fontsize=9, labelpad=1)\n",
    "ax.set_ylabel('Correlation', fontsize=9, labelpad=1)\n",
    "ax.set_ylim([0.2,0.5])\n",
    "ax.tick_params(labelsize = 8)\n",
    "ax.set_yticks([0.2,0.3,0.4,0.5])\n",
    "\n",
    "for i in range(len(scorr_tog)):\n",
    "    y = scorr_tog[i]\n",
    "    x = np.random.normal(i + 1, 0.04, len(y))\n",
    "    ax.scatter(x, y, color = col_session99[i][:len(y)], edgecolors = col_session99[i][:len(y)], alpha = 1, s = 10)\n",
    "\n",
    "plt.savefig(save_folder + 'S5C.png', dpi=400, bbox_inches='tight')\n",
    "plt.savefig(save_folder + 'S5C.svg', dpi=400, bbox_inches='tight')\n",
    "plt.show()"
   ]
  },
  {
   "cell_type": "code",
   "execution_count": 74,
   "id": "b755d971",
   "metadata": {},
   "outputs": [
    {
     "name": "stdout",
     "output_type": "stream",
     "text": [
      "\n",
      "n young, aged sessions with > 2 spatial cells:\n",
      "42 42\n",
      "corryoung ± SEM; corr_MA ± SEM; corr_old ± SEM\n",
      "0.318 ± 0.006 ; 0.317 ± 0.005\n",
      "stat = -1.127203723953269\n",
      "p_corr = 0.25965635637045015\n"
     ]
    }
   ],
   "source": [
    "''' Statistically compare remapping coordination across age groups '''\n",
    "\n",
    "print('\\nn young, aged sessions with > 2 spatial cells:')\n",
    "print(len(smeancorr[y_sind99][~np.isnan(smeancorr[y_sind99])]), len(smeancorr[age_sind99][~np.isnan(smeancorr[age_sind99])]))\n",
    "print('corryoung ± SEM; corr_MA ± SEM; corr_old ± SEM')\n",
    "print(str(np.round(np.nanmean(smeancorr[y_sind99]), 3)) + ' ± ' + str(np.round(stats.sem(smeancorr[y_sind99], nan_policy = 'omit'), 3)) + ' ; ' \n",
    "      + str(np.round(np.nanmean(smeancorr[age_sind99]), 3)) + ' ± ' + str(np.round(stats.sem(smeancorr[age_sind99], nan_policy = 'omit'), 3)))\n",
    "\n",
    "stat, p_diff = stats.ranksums(smeancorr[y_sind99][~np.isnan(smeancorr[y_sind99])],smeancorr[age_sind99][~np.isnan(smeancorr[age_sind99])])\n",
    "print('stat = ' + str(stat))\n",
    "print('p_corr = ' + str(p_diff))"
   ]
  },
  {
   "cell_type": "markdown",
   "id": "3c9a79b3",
   "metadata": {},
   "source": [
    "# Compare heterogeneity of spatial cell network spatial information within and across maps for the Random Foraging environment (Figure S5E-F).\n",
    "\n",
    "Here, we use a circular position decoder to compare accuracy of position decoding score when trained/tested on spatial network activity within and across Random Foraging spatial maps (e.g. Train on Map 1 and Test on Map 1 vs. Map 2), recapitulating analyses in Low et al. 2021 (Figure 6). Spatial network information should heterogenous across maps, resulting in better decoder performance when trained / tested on the same vs. a different map. The goal of this analysis was to verify these expectations about spatial network information content in this dataset and given this k optimization procedure. Additionally, we will show that aged session decoder scores are lower in any train/test configuration than young decoder scores. This further controls for the possibility that lower aged session decoder performance when trained/tested on random RF trials (see Figure 5H) in might arise from differences in the extent to spatial information is segregated across maps or differences in remapping frequency (see Figure S4H)."
   ]
  },
  {
   "cell_type": "code",
   "execution_count": 75,
   "id": "9b993b1f",
   "metadata": {
    "scrolled": true
   },
   "outputs": [
    {
     "data": {
      "application/vnd.jupyter.widget-view+json": {
       "model_id": "0403b01bab6545ef80ea3a7ea3ac7605",
       "version_major": 2,
       "version_minor": 0
      },
      "text/plain": [
       "  0%|          | 0/6 [00:00<?, ?it/s]"
      ]
     },
     "metadata": {},
     "output_type": "display_data"
    },
    {
     "data": {
      "application/vnd.jupyter.widget-view+json": {
       "model_id": "a5c35b98c35e4bdca46babfe0da78c64",
       "version_major": 2,
       "version_minor": 0
      },
      "text/plain": [
       "  0%|          | 0/6 [00:00<?, ?it/s]"
      ]
     },
     "metadata": {},
     "output_type": "display_data"
    },
    {
     "data": {
      "application/vnd.jupyter.widget-view+json": {
       "model_id": "d526867f800b46958dd77904145451b8",
       "version_major": 2,
       "version_minor": 0
      },
      "text/plain": [
       "  0%|          | 0/6 [00:00<?, ?it/s]"
      ]
     },
     "metadata": {},
     "output_type": "display_data"
    },
    {
     "data": {
      "application/vnd.jupyter.widget-view+json": {
       "model_id": "824e2e877f84460aa4fec63e6e264fed",
       "version_major": 2,
       "version_minor": 0
      },
      "text/plain": [
       "  0%|          | 0/6 [00:00<?, ?it/s]"
      ]
     },
     "metadata": {},
     "output_type": "display_data"
    },
    {
     "data": {
      "application/vnd.jupyter.widget-view+json": {
       "model_id": "d60e6743ad124084a6b04d1b632aace5",
       "version_major": 2,
       "version_minor": 0
      },
      "text/plain": [
       "  0%|          | 0/6 [00:00<?, ?it/s]"
      ]
     },
     "metadata": {},
     "output_type": "display_data"
    },
    {
     "data": {
      "application/vnd.jupyter.widget-view+json": {
       "model_id": "3d5e2dd69d85491fb6dfeca584596577",
       "version_major": 2,
       "version_minor": 0
      },
      "text/plain": [
       "  0%|          | 0/6 [00:00<?, ?it/s]"
      ]
     },
     "metadata": {},
     "output_type": "display_data"
    },
    {
     "data": {
      "application/vnd.jupyter.widget-view+json": {
       "model_id": "16906ec1f36543dea27f59d0923bf211",
       "version_major": 2,
       "version_minor": 0
      },
      "text/plain": [
       "  0%|          | 0/6 [00:00<?, ?it/s]"
      ]
     },
     "metadata": {},
     "output_type": "display_data"
    },
    {
     "data": {
      "application/vnd.jupyter.widget-view+json": {
       "model_id": "2bbf4d9f7f5a4f22929ca8a7d9d87a70",
       "version_major": 2,
       "version_minor": 0
      },
      "text/plain": [
       "  0%|          | 0/5 [00:00<?, ?it/s]"
      ]
     },
     "metadata": {},
     "output_type": "display_data"
    },
    {
     "data": {
      "application/vnd.jupyter.widget-view+json": {
       "model_id": "7b29bcf6f1364594a358eefaeec01309",
       "version_major": 2,
       "version_minor": 0
      },
      "text/plain": [
       "  0%|          | 0/3 [00:00<?, ?it/s]"
      ]
     },
     "metadata": {},
     "output_type": "display_data"
    },
    {
     "data": {
      "application/vnd.jupyter.widget-view+json": {
       "model_id": "d5559568320043b5b3793849fcff14ee",
       "version_major": 2,
       "version_minor": 0
      },
      "text/plain": [
       "  0%|          | 0/6 [00:00<?, ?it/s]"
      ]
     },
     "metadata": {},
     "output_type": "display_data"
    },
    {
     "data": {
      "application/vnd.jupyter.widget-view+json": {
       "model_id": "e6cf802d2f374e58bdf0e62efc020ea2",
       "version_major": 2,
       "version_minor": 0
      },
      "text/plain": [
       "  0%|          | 0/6 [00:00<?, ?it/s]"
      ]
     },
     "metadata": {},
     "output_type": "display_data"
    },
    {
     "data": {
      "application/vnd.jupyter.widget-view+json": {
       "model_id": "0ab6c56841ee465cad04a61939535885",
       "version_major": 2,
       "version_minor": 0
      },
      "text/plain": [
       "  0%|          | 0/6 [00:00<?, ?it/s]"
      ]
     },
     "metadata": {},
     "output_type": "display_data"
    },
    {
     "data": {
      "application/vnd.jupyter.widget-view+json": {
       "model_id": "f9900eb2a8464f52901d577bf6c75582",
       "version_major": 2,
       "version_minor": 0
      },
      "text/plain": [
       "  0%|          | 0/5 [00:00<?, ?it/s]"
      ]
     },
     "metadata": {},
     "output_type": "display_data"
    },
    {
     "data": {
      "application/vnd.jupyter.widget-view+json": {
       "model_id": "806a678ef5134738842f0a4ae7b466b9",
       "version_major": 2,
       "version_minor": 0
      },
      "text/plain": [
       "  0%|          | 0/5 [00:00<?, ?it/s]"
      ]
     },
     "metadata": {},
     "output_type": "display_data"
    },
    {
     "data": {
      "application/vnd.jupyter.widget-view+json": {
       "model_id": "01e7c42b2da1429397856dac1dccd54d",
       "version_major": 2,
       "version_minor": 0
      },
      "text/plain": [
       "  0%|          | 0/6 [00:00<?, ?it/s]"
      ]
     },
     "metadata": {},
     "output_type": "display_data"
    },
    {
     "data": {
      "application/vnd.jupyter.widget-view+json": {
       "model_id": "edb6bceef56a464d8943c085c75d3f8e",
       "version_major": 2,
       "version_minor": 0
      },
      "text/plain": [
       "  0%|          | 0/2 [00:00<?, ?it/s]"
      ]
     },
     "metadata": {},
     "output_type": "display_data"
    }
   ],
   "source": [
    "''' Compute & Save Start & Stop Indices Corresponding to End of Dark, Start of Gain Periods'''\n",
    "\n",
    "from scipy.spatial.distance import pdist\n",
    "from scipy.spatial.distance import squareform\n",
    "\n",
    "dt = 0.02\n",
    "\n",
    "for m, session in zip(mice,sessions):\n",
    "        \n",
    "    if m in cohortb_mice:\n",
    "        max_trials = 240\n",
    "    else:\n",
    "        max_trials = 200\n",
    "        \n",
    "    for s in tdqm(session):\n",
    "        \n",
    "        #get data\n",
    "        d = data[m][s]\n",
    "        \n",
    "        #get some data & cell IDs\n",
    "        rawdata_file = 'RAW_' + m + '_' + s + '.npy'\n",
    "        spikes_file = 'SPIKES_' + m + '_' + s +'.npy'\n",
    "        behavior_file = 'BEHAVIOR_' + m + '_' + s + '.npy'\n",
    "        \n",
    "        raw = np.load(load_folder + rawdata_file, allow_pickle=True)\n",
    "        Y = np.load(load_folder + spikes_file, allow_pickle=False) #pre-filtered for speeds >2cm/s, position-corrected spikes, 20 ms timebins\n",
    "        behaviorfil = np.load(load_folder + behavior_file, allow_pickle=False)\n",
    "        \n",
    "        cell_IDs = raw.item().get('cellsfil')\n",
    "        spatialcell99 = d['spatialcell99']\n",
    "        spatialcells = cell_IDs[spatialcell99]\n",
    "    \n",
    "        posx = behaviorfil[:,0]\n",
    "        trial = behaviorfil[:,2]\n",
    "        rawtrialfil = raw.item().get('trialfil')\n",
    "        \n",
    "        #Find any skipped trials\n",
    "        try:\n",
    "            _ = raw.item().get('correctedtrial').shape\n",
    "            skippedtrials = get.find_skipped(trial, max_trial_num = max_trials)\n",
    "        except:\n",
    "            skippedtrials = []\n",
    "        \n",
    "        if np.max(np.unique(trial)) < 160: #handles truncated, shorter sessions \n",
    "            alltrial = np.arange(0, np.max(np.unique(trial)) + 1, 1)\n",
    "            #print(m, s)\n",
    "        else:\n",
    "            alltrial = np.arange(0,max_trials,1)\n",
    "\n",
    "        # Load in left vs. right info\n",
    "        trials = np.unique(trial)\n",
    "        \n",
    "        #count number of skipped dark trials\n",
    "        ndarkskipped = 0\n",
    "        for z in skippedtrials:\n",
    "            if z < 20: \n",
    "                ndarkskipped += 1\n",
    "                \n",
    "        #adjust trialfil so that trials are skipped instead\n",
    "        skippedrawtrialfil = get.sortedtrialbyframe(rawtrialfil, trial, skippedtrials)\n",
    "        numtrial = np.unique(skippedrawtrialfil)\n",
    "            \n",
    "        #define random foraging trials only, excluding dark & gain change periods\n",
    "        if m == 'Y9':\n",
    "            start_idx = 0 \n",
    "            end_idx = len(skippedrawtrialfil) + 1\n",
    "        elif m in cohortb_mice:\n",
    "            start_idx = (np.where(skippedrawtrialfil >= 20)[0][0]).astype(int)\n",
    "            end_idx = (np.where(skippedrawtrialfil >= 220)[0][0]).astype(int)\n",
    "        else:\n",
    "            start_idx = 0 \n",
    "            end_idx = len(skippedrawtrialfil) + 1\n",
    "            \n",
    "        d['start'] = start_idx\n",
    "        d['end'] = end_idx"
   ]
  },
  {
   "cell_type": "code",
   "execution_count": 77,
   "id": "d3e88371",
   "metadata": {
    "scrolled": true
   },
   "outputs": [
    {
     "data": {
      "application/vnd.jupyter.widget-view+json": {
       "model_id": "1fb1167389cd48dca05d447130ff5219",
       "version_major": 2,
       "version_minor": 0
      },
      "text/plain": [
       "  0%|          | 0/6 [00:00<?, ?it/s]"
      ]
     },
     "metadata": {},
     "output_type": "display_data"
    },
    {
     "data": {
      "application/vnd.jupyter.widget-view+json": {
       "model_id": "9ed00b03aa9f4153911f989eaf60aea3",
       "version_major": 2,
       "version_minor": 0
      },
      "text/plain": [
       "  0%|          | 0/6 [00:00<?, ?it/s]"
      ]
     },
     "metadata": {},
     "output_type": "display_data"
    },
    {
     "data": {
      "application/vnd.jupyter.widget-view+json": {
       "model_id": "dbf227ba9efd4c3ba7b8189aea2f8ae0",
       "version_major": 2,
       "version_minor": 0
      },
      "text/plain": [
       "  0%|          | 0/6 [00:00<?, ?it/s]"
      ]
     },
     "metadata": {},
     "output_type": "display_data"
    },
    {
     "data": {
      "application/vnd.jupyter.widget-view+json": {
       "model_id": "d42b5bb918ac4a2bbf166d5967a19791",
       "version_major": 2,
       "version_minor": 0
      },
      "text/plain": [
       "  0%|          | 0/6 [00:00<?, ?it/s]"
      ]
     },
     "metadata": {},
     "output_type": "display_data"
    },
    {
     "data": {
      "application/vnd.jupyter.widget-view+json": {
       "model_id": "b33c28b42ebf4b3ebf7acad2590a138e",
       "version_major": 2,
       "version_minor": 0
      },
      "text/plain": [
       "  0%|          | 0/6 [00:00<?, ?it/s]"
      ]
     },
     "metadata": {},
     "output_type": "display_data"
    },
    {
     "data": {
      "application/vnd.jupyter.widget-view+json": {
       "model_id": "11b710d4bb464cf1b0fb98b14fe568fd",
       "version_major": 2,
       "version_minor": 0
      },
      "text/plain": [
       "  0%|          | 0/6 [00:00<?, ?it/s]"
      ]
     },
     "metadata": {},
     "output_type": "display_data"
    },
    {
     "data": {
      "application/vnd.jupyter.widget-view+json": {
       "model_id": "270f273773fc4871ad8d78a560ff4555",
       "version_major": 2,
       "version_minor": 0
      },
      "text/plain": [
       "  0%|          | 0/6 [00:00<?, ?it/s]"
      ]
     },
     "metadata": {},
     "output_type": "display_data"
    },
    {
     "data": {
      "application/vnd.jupyter.widget-view+json": {
       "model_id": "f9d60ddf052e4178896f5b08c02cc5a0",
       "version_major": 2,
       "version_minor": 0
      },
      "text/plain": [
       "  0%|          | 0/5 [00:00<?, ?it/s]"
      ]
     },
     "metadata": {},
     "output_type": "display_data"
    },
    {
     "data": {
      "application/vnd.jupyter.widget-view+json": {
       "model_id": "5887bbacb36d47a295d3f53769cf1cab",
       "version_major": 2,
       "version_minor": 0
      },
      "text/plain": [
       "  0%|          | 0/3 [00:00<?, ?it/s]"
      ]
     },
     "metadata": {},
     "output_type": "display_data"
    },
    {
     "data": {
      "application/vnd.jupyter.widget-view+json": {
       "model_id": "cea25f3ee7ce486788208917e1d15858",
       "version_major": 2,
       "version_minor": 0
      },
      "text/plain": [
       "  0%|          | 0/6 [00:00<?, ?it/s]"
      ]
     },
     "metadata": {},
     "output_type": "display_data"
    },
    {
     "data": {
      "application/vnd.jupyter.widget-view+json": {
       "model_id": "38f0338446dd48c786be39726a923227",
       "version_major": 2,
       "version_minor": 0
      },
      "text/plain": [
       "  0%|          | 0/6 [00:00<?, ?it/s]"
      ]
     },
     "metadata": {},
     "output_type": "display_data"
    },
    {
     "data": {
      "application/vnd.jupyter.widget-view+json": {
       "model_id": "f62c489e249b44a2bff2b440c7693262",
       "version_major": 2,
       "version_minor": 0
      },
      "text/plain": [
       "  0%|          | 0/6 [00:00<?, ?it/s]"
      ]
     },
     "metadata": {},
     "output_type": "display_data"
    },
    {
     "data": {
      "application/vnd.jupyter.widget-view+json": {
       "model_id": "263ad6f864b646c6b5741a20567e14ea",
       "version_major": 2,
       "version_minor": 0
      },
      "text/plain": [
       "  0%|          | 0/5 [00:00<?, ?it/s]"
      ]
     },
     "metadata": {},
     "output_type": "display_data"
    },
    {
     "data": {
      "application/vnd.jupyter.widget-view+json": {
       "model_id": "3c33b7a28d744040ace8c7460d670faf",
       "version_major": 2,
       "version_minor": 0
      },
      "text/plain": [
       "  0%|          | 0/5 [00:00<?, ?it/s]"
      ]
     },
     "metadata": {},
     "output_type": "display_data"
    },
    {
     "data": {
      "application/vnd.jupyter.widget-view+json": {
       "model_id": "255cd2d027874e5aaa83050a16dc9dd8",
       "version_major": 2,
       "version_minor": 0
      },
      "text/plain": [
       "  0%|          | 0/6 [00:00<?, ?it/s]"
      ]
     },
     "metadata": {},
     "output_type": "display_data"
    },
    {
     "data": {
      "application/vnd.jupyter.widget-view+json": {
       "model_id": "ece7f71885da4df2bd66bb8fce89ede8",
       "version_major": 2,
       "version_minor": 0
      },
      "text/plain": [
       "  0%|          | 0/2 [00:00<?, ?it/s]"
      ]
     },
     "metadata": {},
     "output_type": "display_data"
    }
   ],
   "source": [
    "''' Regenerate K-Means results for any RF sessions with onemap = False and k = 2 '''\n",
    "sscore = []\n",
    "for m, session in zip(mice, sessions):    \n",
    "    for s in tdqm(session):\n",
    "        \n",
    "        d = data[m][s]\n",
    "        \n",
    "        rawdata_file = 'RAW_' + m + '_' + s + '.npy'\n",
    "        behavior_file = 'BEHAVIOR_' + m + '_' + s + '.npy'\n",
    "        raw = np.load(load_folder + rawdata_file, allow_pickle=True)\n",
    "        cell_IDs = raw.item().get('cellsfil')\n",
    "        spatialcell99 = d['spatialcell99']\n",
    "        spatialcells = cell_IDs[spatialcell99]\n",
    "        \n",
    "        if len(spatialcells) > 10:\n",
    "            \n",
    "            onemapfile = 'onemap' + m + '_' + s + '.npy'\n",
    "            onemap = np.load(fig3s4_folder + onemapfile)\n",
    "            \n",
    "            d['kmeans'] = {}\n",
    "            d['kmeans']['onemap'] = onemap \n",
    "            \n",
    "            if onemap[0].astype(bool) == False:\n",
    "\n",
    "                #load optimal k\n",
    "                SilN_file = 'SilN_' + m + '_' + s + '.npy'\n",
    "                d['kmeans']['SilN'] = np.load(fig3s4_folder + SilN_file)\n",
    "                SilN = d['kmeans']['SilN']\n",
    "                \n",
    "                if SilN == 2:\n",
    "                    \n",
    "                    d['2map'] = 1\n",
    "                    \n",
    "                    #load FR tensor\n",
    "                    Y = d['FRtensor'].copy()\n",
    "                    Y = Y.transpose(0, 2, 1)\n",
    "                    Y_unwrapped = np.reshape(Y, (Y.shape[0], -1))\n",
    "\n",
    "                    #run k-means\n",
    "                    model_kmeans = lvl_kmeans(n_components = 2, n_restarts = 100)\n",
    "                    model_kmeans.fit(Y_unwrapped)\n",
    "                    W, H = model_kmeans.factors\n",
    "                    Y_hat = model_kmeans.predict()\n",
    "                    score = model_kmeans.score(Y_unwrapped)\n",
    "                    d['kmeans']['W'] = W\n",
    "                    d['kmeans']['H'] = H\n",
    "                    d['kmeans']['Y_hat'] = Y_hat \n",
    "                    d['kmeans']['Y_hat'] = Y_hat \n",
    "                    d['kmeans']['score'] = score\n",
    "                    sscore = np.append(sscore, score)\n",
    "                    \n",
    "                else:\n",
    "                    d['2map'] = 0\n",
    "                    sscore = np.append(sscore, np.nan)       \n",
    "            else:\n",
    "                d['2map'] = 0\n",
    "                sscore = np.append(sscore, np.nan)     \n",
    "        else:\n",
    "            d['2map'] = 0\n",
    "            sscore = np.append(sscore, np.nan) "
   ]
  },
  {
   "cell_type": "code",
   "execution_count": 78,
   "id": "9925fc18",
   "metadata": {},
   "outputs": [],
   "source": [
    "''' Find where nan and ignore for plotting '''\n",
    "nan_idx10 = np.where((np.isnan(sscore) == True))[0]\n",
    "\n",
    "# Adjust y_sind, ma_sind, age_sind for subsequent plots\n",
    "y_sind10 = np.setdiff1d(y_sind, nan_idx10)\n",
    "age_sind10 = np.setdiff1d(age_sind, nan_idx10)\n",
    "\n",
    "# Adjust colormaps for plots\n",
    "yidx = []\n",
    "aidx = []\n",
    "for i in nan_idx10:\n",
    "    yidx = np.append(yidx, np.where(y_sind == i)[0].astype(int))\n",
    "    aidx = np.append(aidx, np.where(age_sind == i)[0].astype(int)) \n",
    "\n",
    "col_session_young10 = np.delete(col_session_young, list(yidx.astype(int)), axis = 0)\n",
    "col_session_old10 = np.delete(col_session_old, list(aidx.astype(int)), axis = 0)\n",
    "col_session10 = [col_session_young10, col_session_old10] "
   ]
  },
  {
   "cell_type": "code",
   "execution_count": 79,
   "id": "bf1c9cd0",
   "metadata": {
    "scrolled": true
   },
   "outputs": [
    {
     "data": {
      "application/vnd.jupyter.widget-view+json": {
       "model_id": "03c6fa41c0aa456b8f41c96ae1da6a85",
       "version_major": 2,
       "version_minor": 0
      },
      "text/plain": [
       "  0%|          | 0/6 [00:00<?, ?it/s]"
      ]
     },
     "metadata": {},
     "output_type": "display_data"
    },
    {
     "data": {
      "application/vnd.jupyter.widget-view+json": {
       "model_id": "f9903ca5ce2c49d38461057541ae6750",
       "version_major": 2,
       "version_minor": 0
      },
      "text/plain": [
       "  0%|          | 0/6 [00:00<?, ?it/s]"
      ]
     },
     "metadata": {},
     "output_type": "display_data"
    },
    {
     "data": {
      "application/vnd.jupyter.widget-view+json": {
       "model_id": "e000a33f9e9b445bbdacd497f56a97d4",
       "version_major": 2,
       "version_minor": 0
      },
      "text/plain": [
       "  0%|          | 0/6 [00:00<?, ?it/s]"
      ]
     },
     "metadata": {},
     "output_type": "display_data"
    },
    {
     "data": {
      "application/vnd.jupyter.widget-view+json": {
       "model_id": "401cc9bfc9374a47865b6d411a634371",
       "version_major": 2,
       "version_minor": 0
      },
      "text/plain": [
       "  0%|          | 0/6 [00:00<?, ?it/s]"
      ]
     },
     "metadata": {},
     "output_type": "display_data"
    },
    {
     "data": {
      "application/vnd.jupyter.widget-view+json": {
       "model_id": "6c871abb12d048059f532575b9cbda85",
       "version_major": 2,
       "version_minor": 0
      },
      "text/plain": [
       "  0%|          | 0/6 [00:00<?, ?it/s]"
      ]
     },
     "metadata": {},
     "output_type": "display_data"
    },
    {
     "data": {
      "application/vnd.jupyter.widget-view+json": {
       "model_id": "041b2464e4aa4bb4ab52995d575649dd",
       "version_major": 2,
       "version_minor": 0
      },
      "text/plain": [
       "  0%|          | 0/6 [00:00<?, ?it/s]"
      ]
     },
     "metadata": {},
     "output_type": "display_data"
    },
    {
     "data": {
      "application/vnd.jupyter.widget-view+json": {
       "model_id": "6a1682278d9c48f583e292de3e0bcf82",
       "version_major": 2,
       "version_minor": 0
      },
      "text/plain": [
       "  0%|          | 0/6 [00:00<?, ?it/s]"
      ]
     },
     "metadata": {},
     "output_type": "display_data"
    },
    {
     "data": {
      "application/vnd.jupyter.widget-view+json": {
       "model_id": "6978733d761c4dceaae381913d9a1d3f",
       "version_major": 2,
       "version_minor": 0
      },
      "text/plain": [
       "  0%|          | 0/5 [00:00<?, ?it/s]"
      ]
     },
     "metadata": {},
     "output_type": "display_data"
    },
    {
     "data": {
      "application/vnd.jupyter.widget-view+json": {
       "model_id": "69b1922f49ac4c298c56f1b203ed1ce8",
       "version_major": 2,
       "version_minor": 0
      },
      "text/plain": [
       "  0%|          | 0/3 [00:00<?, ?it/s]"
      ]
     },
     "metadata": {},
     "output_type": "display_data"
    },
    {
     "data": {
      "application/vnd.jupyter.widget-view+json": {
       "model_id": "3ff77e7619e34922958213e5bd91cda8",
       "version_major": 2,
       "version_minor": 0
      },
      "text/plain": [
       "  0%|          | 0/6 [00:00<?, ?it/s]"
      ]
     },
     "metadata": {},
     "output_type": "display_data"
    },
    {
     "data": {
      "application/vnd.jupyter.widget-view+json": {
       "model_id": "b94c0eebdba44d88ab1d77a1e309078f",
       "version_major": 2,
       "version_minor": 0
      },
      "text/plain": [
       "  0%|          | 0/6 [00:00<?, ?it/s]"
      ]
     },
     "metadata": {},
     "output_type": "display_data"
    },
    {
     "data": {
      "application/vnd.jupyter.widget-view+json": {
       "model_id": "a35f8f884ff945d988b31b6c99661776",
       "version_major": 2,
       "version_minor": 0
      },
      "text/plain": [
       "  0%|          | 0/6 [00:00<?, ?it/s]"
      ]
     },
     "metadata": {},
     "output_type": "display_data"
    },
    {
     "data": {
      "application/vnd.jupyter.widget-view+json": {
       "model_id": "e14c1465f3d14fbdb46b5ac872c9a170",
       "version_major": 2,
       "version_minor": 0
      },
      "text/plain": [
       "  0%|          | 0/5 [00:00<?, ?it/s]"
      ]
     },
     "metadata": {},
     "output_type": "display_data"
    },
    {
     "data": {
      "application/vnd.jupyter.widget-view+json": {
       "model_id": "ae4aaedd8da34a10817ac767a65b34b0",
       "version_major": 2,
       "version_minor": 0
      },
      "text/plain": [
       "  0%|          | 0/5 [00:00<?, ?it/s]"
      ]
     },
     "metadata": {},
     "output_type": "display_data"
    },
    {
     "data": {
      "application/vnd.jupyter.widget-view+json": {
       "model_id": "3802930db9a4453aab47d7a857343b9a",
       "version_major": 2,
       "version_minor": 0
      },
      "text/plain": [
       "  0%|          | 0/6 [00:00<?, ?it/s]"
      ]
     },
     "metadata": {},
     "output_type": "display_data"
    },
    {
     "data": {
      "application/vnd.jupyter.widget-view+json": {
       "model_id": "16bbd96698674d19a752f1afa2e892e1",
       "version_major": 2,
       "version_minor": 0
      },
      "text/plain": [
       "  0%|          | 0/2 [00:00<?, ?it/s]"
      ]
     },
     "metadata": {},
     "output_type": "display_data"
    }
   ],
   "source": [
    "''' Relabel spatial maps non-arbitrarily for k = 2 RF sessions (Map 0 is the slower map) '''\n",
    "\n",
    "for m, session in zip(mice, sessions):\n",
    "    \n",
    "    if m in cohortb_mice:\n",
    "        max_trials = 240\n",
    "    else:\n",
    "        max_trials = 200\n",
    "    \n",
    "    for s in tdqm(session):\n",
    "        d = data[m][s]\n",
    "        \n",
    "        if d['2map'] == 1:\n",
    "        \n",
    "            rawdata_file = 'RAW_' + m + '_' + s + '.npy'\n",
    "            behavior_file = 'BEHAVIOR_' + m + '_' + s + '.npy'\n",
    "\n",
    "            raw = np.load(load_folder + rawdata_file, allow_pickle=True)\n",
    "            behaviorfil = np.load(load_folder + behavior_file, allow_pickle=False)\n",
    "\n",
    "            cell_IDs = raw.item().get('cellsfil')\n",
    "            posx = behaviorfil[:,0]\n",
    "            speed = behaviorfil[:,1]\n",
    "            trial = behaviorfil[:,2]\n",
    "            rawtrialfil = raw.item().get('trialfil')\n",
    "            spatialcell99 = d['spatialcell99']\n",
    "            spatialcells = cell_IDs[spatialcell99]\n",
    "\n",
    "            start = d['start']\n",
    "            end = d['end']\n",
    "            trials = np.unique(trial)\n",
    "\n",
    "            #Find any skipped trials\n",
    "            try:\n",
    "                _ = raw.item().get('correctedtrial').shape\n",
    "                skippedtrials = get.find_skipped(trial, max_trial_num = max_trials)\n",
    "            except:\n",
    "                skippedtrials = []\n",
    "\n",
    "            if np.max(np.unique(trial)) < 160: #handles truncated, shorter sessions \n",
    "                alltrial = np.arange(0, np.max(np.unique(trial)) + 1, 1)\n",
    "            else:\n",
    "                alltrial = np.arange(0,max_trials,1)\n",
    "            trials = np.unique(trial)\n",
    "\n",
    "            #count number of skipped dark trials\n",
    "            ndarkskipped = 0\n",
    "            for z in skippedtrials:\n",
    "                if z < 20: \n",
    "                    ndarkskipped += 1\n",
    "\n",
    "            #adjust trialfil so that sorted trials are skipped instead\n",
    "            skippedrawtrialfil = get.sortedtrialbyframe(rawtrialfil, trial, skippedtrials)\n",
    "            numtrial = np.unique(skippedrawtrialfil)\n",
    "\n",
    "            W = d['kmeans']['W']\n",
    "            H = d['kmeans']['H']\n",
    "\n",
    "            # get map indices\n",
    "            map_idx = W[:, 0].astype(bool)\n",
    "            trials = skippedrawtrialfil[start:end]\n",
    "            map0_idx = np.zeros_like(trials)\n",
    "            map1_idx = np.zeros_like(trials)\n",
    "            for i, t in enumerate(np.unique(trials)):\n",
    "                if map_idx[i]:\n",
    "                    map0_idx[trials == t] = 1\n",
    "                else:\n",
    "                    map1_idx[trials == t] = 1\n",
    "            map0_idx = map0_idx.astype(bool)\n",
    "            map1_idx = map1_idx.astype(bool)\n",
    "\n",
    "            # get running speed in each map and assign map 0 to slower map\n",
    "            RFspeed = speed[start:end]\n",
    "            speed_0 = np.nanmean(RFspeed[map0_idx])\n",
    "            speed_1 = np.nanmean(RFspeed[map1_idx])\n",
    "\n",
    "            if speed_1 < speed_0: # swap labels\n",
    "                d['map0_idx'] = 1\n",
    "            else:\n",
    "                d['map0_idx'] = 0"
   ]
  },
  {
   "cell_type": "code",
   "execution_count": 80,
   "id": "652d98ca",
   "metadata": {},
   "outputs": [],
   "source": [
    "'''Get map indices for each observation'''\n",
    "for m, session in zip(mice, sessions):\n",
    "    \n",
    "    if m in cohortb_mice:\n",
    "        max_trials = 240\n",
    "    else:\n",
    "        max_trials = 200\n",
    "    \n",
    "    for s in session:\n",
    "        d = data[m][s]\n",
    "        \n",
    "        if d['2map'] == 1:\n",
    "        \n",
    "            #get some data & cell IDs\n",
    "            rawdata_file = 'RAW_' + m + '_' + s + '.npy'\n",
    "            spikes_file = 'SPIKES_' + m + '_' + s +'.npy'\n",
    "            behavior_file = 'BEHAVIOR_' + m + '_' + s + '.npy'\n",
    "\n",
    "            raw = np.load(load_folder + rawdata_file, allow_pickle=True)\n",
    "            Y = np.load(load_folder + spikes_file, allow_pickle=False) #pre-filtered for speeds >2cm/s, position-corrected spikes, 20 ms timebins\n",
    "            behaviorfil = np.load(load_folder + behavior_file, allow_pickle=False)\n",
    "\n",
    "            cell_IDs = raw.item().get('cellsfil')\n",
    "            spatialcell99 = d['spatialcell99']\n",
    "            spatialcells = cell_IDs[spatialcell99]\n",
    "\n",
    "            posx = behaviorfil[:,0]\n",
    "            trial = behaviorfil[:,2]\n",
    "            rawtrialfil = raw.item().get('trialfil')\n",
    "\n",
    "            #Find any skipped trials\n",
    "            try:\n",
    "                _ = raw.item().get('correctedtrial').shape\n",
    "                skippedtrials = get.find_skipped(trial, max_trial_num = max_trials)\n",
    "            except:\n",
    "                skippedtrials = []\n",
    "\n",
    "            if np.max(np.unique(trial)) < 160: #handles truncated, shorter sessions \n",
    "                alltrial = np.arange(0, np.max(np.unique(trial)) + 1, 1)\n",
    "            else:\n",
    "                alltrial = np.arange(0,max_trials,1)\n",
    "\n",
    "            # Load in left vs. right info\n",
    "            trials = np.unique(trial)\n",
    "\n",
    "            #count number of skipped dark trials\n",
    "            ndarkskipped = 0\n",
    "            for z in skippedtrials:\n",
    "                if z < 20: \n",
    "                    ndarkskipped += 1\n",
    "\n",
    "            #adjust trialfil so that trials are skipped instead\n",
    "            skippedrawtrialfil = get.sortedtrialbyframe(rawtrialfil, trial, skippedtrials)\n",
    "            numtrial = np.unique(skippedrawtrialfil)\n",
    "\n",
    "            start = d['start']\n",
    "            end = d['end']\n",
    "            d['skippedrawtrialfil'] = skippedrawtrialfil\n",
    "            \n",
    "            W = d['kmeans']['W']\n",
    "            map0 = d['map0_idx']\n",
    "            map_idx = W[:, map0].astype(bool)\n",
    "            trials = skippedrawtrialfil[start:end]\n",
    "\n",
    "            map0_idx = np.zeros_like(trials)\n",
    "            map1_idx = np.zeros_like(trials)\n",
    "            for i, t in enumerate(np.unique(trials)):\n",
    "                if map_idx[i]:\n",
    "                    map0_idx[trials == t] = 1\n",
    "                else:\n",
    "                    map1_idx[trials == t] = 1\n",
    "\n",
    "            map0_idx = map0_idx.astype(bool)\n",
    "            map1_idx = map1_idx.astype(bool)\n",
    "            d['idx'] = np.row_stack((map0_idx, map1_idx))"
   ]
  },
  {
   "cell_type": "code",
   "execution_count": 81,
   "id": "82c652f0",
   "metadata": {},
   "outputs": [
    {
     "data": {
      "application/vnd.jupyter.widget-view+json": {
       "model_id": "361b6b4f4aa14a1b96cd8a20d26480ce",
       "version_major": 2,
       "version_minor": 0
      },
      "text/plain": [
       "  0%|          | 0/6 [00:00<?, ?it/s]"
      ]
     },
     "metadata": {},
     "output_type": "display_data"
    },
    {
     "data": {
      "application/vnd.jupyter.widget-view+json": {
       "model_id": "cb300a7b14444562a7573660808821b1",
       "version_major": 2,
       "version_minor": 0
      },
      "text/plain": [
       "  0%|          | 0/6 [00:00<?, ?it/s]"
      ]
     },
     "metadata": {},
     "output_type": "display_data"
    },
    {
     "data": {
      "application/vnd.jupyter.widget-view+json": {
       "model_id": "f502c0c978c04bb6b9bcc56f9d181cac",
       "version_major": 2,
       "version_minor": 0
      },
      "text/plain": [
       "  0%|          | 0/6 [00:00<?, ?it/s]"
      ]
     },
     "metadata": {},
     "output_type": "display_data"
    },
    {
     "data": {
      "application/vnd.jupyter.widget-view+json": {
       "model_id": "985efe86fb1842d488e4744e8f1f4fcf",
       "version_major": 2,
       "version_minor": 0
      },
      "text/plain": [
       "  0%|          | 0/6 [00:00<?, ?it/s]"
      ]
     },
     "metadata": {},
     "output_type": "display_data"
    },
    {
     "data": {
      "application/vnd.jupyter.widget-view+json": {
       "model_id": "8cdd433ec2cb47b5a71ae8bc8874cc7d",
       "version_major": 2,
       "version_minor": 0
      },
      "text/plain": [
       "  0%|          | 0/6 [00:00<?, ?it/s]"
      ]
     },
     "metadata": {},
     "output_type": "display_data"
    },
    {
     "data": {
      "application/vnd.jupyter.widget-view+json": {
       "model_id": "5da38fa424f5498eb49d82c0cce84fbe",
       "version_major": 2,
       "version_minor": 0
      },
      "text/plain": [
       "  0%|          | 0/6 [00:00<?, ?it/s]"
      ]
     },
     "metadata": {},
     "output_type": "display_data"
    },
    {
     "data": {
      "application/vnd.jupyter.widget-view+json": {
       "model_id": "741f41e747e94a3db387d0f5248eda8c",
       "version_major": 2,
       "version_minor": 0
      },
      "text/plain": [
       "  0%|          | 0/6 [00:00<?, ?it/s]"
      ]
     },
     "metadata": {},
     "output_type": "display_data"
    },
    {
     "data": {
      "application/vnd.jupyter.widget-view+json": {
       "model_id": "2625166ca3e340f196c50e0f32129be4",
       "version_major": 2,
       "version_minor": 0
      },
      "text/plain": [
       "  0%|          | 0/5 [00:00<?, ?it/s]"
      ]
     },
     "metadata": {},
     "output_type": "display_data"
    },
    {
     "data": {
      "application/vnd.jupyter.widget-view+json": {
       "model_id": "f44d595e91654bd4a6142aa9050534a2",
       "version_major": 2,
       "version_minor": 0
      },
      "text/plain": [
       "  0%|          | 0/3 [00:00<?, ?it/s]"
      ]
     },
     "metadata": {},
     "output_type": "display_data"
    },
    {
     "data": {
      "application/vnd.jupyter.widget-view+json": {
       "model_id": "d72abaf289dd4cde96df441548b5bc4e",
       "version_major": 2,
       "version_minor": 0
      },
      "text/plain": [
       "  0%|          | 0/6 [00:00<?, ?it/s]"
      ]
     },
     "metadata": {},
     "output_type": "display_data"
    },
    {
     "data": {
      "application/vnd.jupyter.widget-view+json": {
       "model_id": "88b0d16e131d4dfaa1ef3b8591b9cc76",
       "version_major": 2,
       "version_minor": 0
      },
      "text/plain": [
       "  0%|          | 0/6 [00:00<?, ?it/s]"
      ]
     },
     "metadata": {},
     "output_type": "display_data"
    },
    {
     "data": {
      "application/vnd.jupyter.widget-view+json": {
       "model_id": "a49386af82b144ae8c189fd26f188b69",
       "version_major": 2,
       "version_minor": 0
      },
      "text/plain": [
       "  0%|          | 0/6 [00:00<?, ?it/s]"
      ]
     },
     "metadata": {},
     "output_type": "display_data"
    },
    {
     "data": {
      "application/vnd.jupyter.widget-view+json": {
       "model_id": "c9896d008667437fa6c088b0e846376c",
       "version_major": 2,
       "version_minor": 0
      },
      "text/plain": [
       "  0%|          | 0/5 [00:00<?, ?it/s]"
      ]
     },
     "metadata": {},
     "output_type": "display_data"
    },
    {
     "data": {
      "application/vnd.jupyter.widget-view+json": {
       "model_id": "057bc3a30af14c10b94161781a827dc4",
       "version_major": 2,
       "version_minor": 0
      },
      "text/plain": [
       "  0%|          | 0/5 [00:00<?, ?it/s]"
      ]
     },
     "metadata": {},
     "output_type": "display_data"
    },
    {
     "data": {
      "application/vnd.jupyter.widget-view+json": {
       "model_id": "313a4e61a0ca4e8f83bb94be360f260e",
       "version_major": 2,
       "version_minor": 0
      },
      "text/plain": [
       "  0%|          | 0/6 [00:00<?, ?it/s]"
      ]
     },
     "metadata": {},
     "output_type": "display_data"
    },
    {
     "data": {
      "application/vnd.jupyter.widget-view+json": {
       "model_id": "08877836c1844857a2ab34c812a35452",
       "version_major": 2,
       "version_minor": 0
      },
      "text/plain": [
       "  0%|          | 0/2 [00:00<?, ?it/s]"
      ]
     },
     "metadata": {},
     "output_type": "display_data"
    }
   ],
   "source": [
    "''' Get X (instantaneous FR) and y (circular position) for only VR ON & regular gain periods '''\n",
    "\n",
    "dt = 0.02\n",
    "track_len = 400\n",
    "\n",
    "for m, session in zip(mice, sessions):\n",
    "    for s in tdqm(session):\n",
    "        d = data[m][s]\n",
    "\n",
    "        #load data\n",
    "        rawdata_file = 'RAW_' + m + '_' + s + '.npy'\n",
    "        spikes_file = 'SPIKES_' + m + '_' + s +'.npy'\n",
    "        behavior_file = 'BEHAVIOR_' + m + '_' + s + '.npy'\n",
    "        \n",
    "        raw = np.load(load_folder + rawdata_file, allow_pickle=True)\n",
    "        Y = np.load(load_folder + spikes_file, allow_pickle=False) #pre-filtered for speeds >2cm/s, position-errorcorrected spikes, 20 ms timebins\n",
    "        behaviorfil = np.load(load_folder + behavior_file, allow_pickle=False)\n",
    "        \n",
    "        start = d['start']\n",
    "        end = d['end']\n",
    "        \n",
    "        # convert spikes to instantaneous FR and smooth\n",
    "        X = Y[start:end,:] / dt # convert spike count to FR\n",
    "        X = gaussian_filter1d(X, SMOOTHNESS, axis=0)\n",
    "        \n",
    "        # format position s.t. 0 = -pi = +pi = 400\n",
    "        y_raw = behaviorfil[:, 0][start:end]\n",
    "        y = (y_raw / np.max(y_raw)) * 2 * np.pi - np.pi\n",
    "        \n",
    "        d['X'] = X\n",
    "        d['y'] = y"
   ]
  },
  {
   "cell_type": "code",
   "execution_count": 82,
   "id": "3675b513",
   "metadata": {},
   "outputs": [
    {
     "data": {
      "application/vnd.jupyter.widget-view+json": {
       "model_id": "41a1fee98bb1446d9511ecb6d5701abe",
       "version_major": 2,
       "version_minor": 0
      },
      "text/plain": [
       "  0%|          | 0/6 [00:00<?, ?it/s]"
      ]
     },
     "metadata": {},
     "output_type": "display_data"
    },
    {
     "data": {
      "application/vnd.jupyter.widget-view+json": {
       "model_id": "5b962246536a4b548ab4df4f15f3cc83",
       "version_major": 2,
       "version_minor": 0
      },
      "text/plain": [
       "  0%|          | 0/6 [00:00<?, ?it/s]"
      ]
     },
     "metadata": {},
     "output_type": "display_data"
    },
    {
     "data": {
      "application/vnd.jupyter.widget-view+json": {
       "model_id": "a6f8fc76e5624cef959221f324ed1c57",
       "version_major": 2,
       "version_minor": 0
      },
      "text/plain": [
       "  0%|          | 0/6 [00:00<?, ?it/s]"
      ]
     },
     "metadata": {},
     "output_type": "display_data"
    },
    {
     "data": {
      "application/vnd.jupyter.widget-view+json": {
       "model_id": "da9c77822d4d49d0b0e75c631b20334d",
       "version_major": 2,
       "version_minor": 0
      },
      "text/plain": [
       "  0%|          | 0/6 [00:00<?, ?it/s]"
      ]
     },
     "metadata": {},
     "output_type": "display_data"
    },
    {
     "data": {
      "application/vnd.jupyter.widget-view+json": {
       "model_id": "b86bb51c2940437f984835442a46a87a",
       "version_major": 2,
       "version_minor": 0
      },
      "text/plain": [
       "  0%|          | 0/6 [00:00<?, ?it/s]"
      ]
     },
     "metadata": {},
     "output_type": "display_data"
    },
    {
     "data": {
      "application/vnd.jupyter.widget-view+json": {
       "model_id": "a32d2fddf0c34eb399ef309af9abb9a7",
       "version_major": 2,
       "version_minor": 0
      },
      "text/plain": [
       "  0%|          | 0/6 [00:00<?, ?it/s]"
      ]
     },
     "metadata": {},
     "output_type": "display_data"
    },
    {
     "data": {
      "application/vnd.jupyter.widget-view+json": {
       "model_id": "27eb0dad64a74ab689681ab93bdb074a",
       "version_major": 2,
       "version_minor": 0
      },
      "text/plain": [
       "  0%|          | 0/6 [00:00<?, ?it/s]"
      ]
     },
     "metadata": {},
     "output_type": "display_data"
    },
    {
     "data": {
      "application/vnd.jupyter.widget-view+json": {
       "model_id": "6e7a4828279341aa93c4127befe794c3",
       "version_major": 2,
       "version_minor": 0
      },
      "text/plain": [
       "  0%|          | 0/5 [00:00<?, ?it/s]"
      ]
     },
     "metadata": {},
     "output_type": "display_data"
    },
    {
     "data": {
      "application/vnd.jupyter.widget-view+json": {
       "model_id": "e7e476db9fc249eabe63510b1162a8eb",
       "version_major": 2,
       "version_minor": 0
      },
      "text/plain": [
       "  0%|          | 0/3 [00:00<?, ?it/s]"
      ]
     },
     "metadata": {},
     "output_type": "display_data"
    },
    {
     "data": {
      "application/vnd.jupyter.widget-view+json": {
       "model_id": "78a2ee3af7cd48ea843ad68892d6a586",
       "version_major": 2,
       "version_minor": 0
      },
      "text/plain": [
       "  0%|          | 0/6 [00:00<?, ?it/s]"
      ]
     },
     "metadata": {},
     "output_type": "display_data"
    },
    {
     "data": {
      "application/vnd.jupyter.widget-view+json": {
       "model_id": "7707df3375544726b649ed5393321d5f",
       "version_major": 2,
       "version_minor": 0
      },
      "text/plain": [
       "  0%|          | 0/6 [00:00<?, ?it/s]"
      ]
     },
     "metadata": {},
     "output_type": "display_data"
    },
    {
     "data": {
      "application/vnd.jupyter.widget-view+json": {
       "model_id": "3fb5e73da4fd469f9c0dfc5164e97877",
       "version_major": 2,
       "version_minor": 0
      },
      "text/plain": [
       "  0%|          | 0/6 [00:00<?, ?it/s]"
      ]
     },
     "metadata": {},
     "output_type": "display_data"
    },
    {
     "data": {
      "application/vnd.jupyter.widget-view+json": {
       "model_id": "ff7f07970eee42388875116050826576",
       "version_major": 2,
       "version_minor": 0
      },
      "text/plain": [
       "  0%|          | 0/5 [00:00<?, ?it/s]"
      ]
     },
     "metadata": {},
     "output_type": "display_data"
    },
    {
     "data": {
      "application/vnd.jupyter.widget-view+json": {
       "model_id": "03a058da661144fcbafc3cb5a2ac5c43",
       "version_major": 2,
       "version_minor": 0
      },
      "text/plain": [
       "  0%|          | 0/5 [00:00<?, ?it/s]"
      ]
     },
     "metadata": {},
     "output_type": "display_data"
    },
    {
     "data": {
      "application/vnd.jupyter.widget-view+json": {
       "model_id": "db1102e7ab2e4e9c80870f531b7860e0",
       "version_major": 2,
       "version_minor": 0
      },
      "text/plain": [
       "  0%|          | 0/6 [00:00<?, ?it/s]"
      ]
     },
     "metadata": {},
     "output_type": "display_data"
    },
    {
     "data": {
      "application/vnd.jupyter.widget-view+json": {
       "model_id": "3a71882765ab49f0a897a9cf30570d46",
       "version_major": 2,
       "version_minor": 0
      },
      "text/plain": [
       "  0%|          | 0/2 [00:00<?, ?it/s]"
      ]
     },
     "metadata": {},
     "output_type": "display_data"
    }
   ],
   "source": [
    "''' Get shuffled spikes'''\n",
    "\n",
    "for m, session in zip(mice, sessions):\n",
    "    for s in tdqm(session):\n",
    "        d = data[m][s]\n",
    "        \n",
    "        #get some data & cell IDs\n",
    "        rawdata_file = 'RAW_' + m + '_' + s + '.npy'\n",
    "        behavior_file = 'BEHAVIOR_' + m + '_' + s + '.npy'\n",
    "        raw = np.load(load_folder + rawdata_file, allow_pickle=True)\n",
    "        behaviorfil = np.load(load_folder + behavior_file, allow_pickle=False)\n",
    "        cell_IDs = raw.item().get('cellsfil')\n",
    "        spatialcell99 = d['spatialcell99'].astype(bool)\n",
    "        spatialcells = cell_IDs[spatialcell99]\n",
    "        \n",
    "        ##Generate shuffled spike train for spatial cells only\n",
    "        #get stuff you will to shuffle & re-filter spike times\n",
    "        sp = raw.item().get('sp')\n",
    "        spiket = sp['st'].copy()\n",
    "        cluster_id = sp['clu'].copy()\n",
    "        rawposx = raw.item().get('posx')\n",
    "        rawpost = raw.item().get('post')\n",
    "        rawspeed = raw.item().get('speed')\n",
    "        \n",
    "        dt = np.unique(np.round(np.diff(rawpost),4))\n",
    "        if len(dt) > 1: # discard duplicate frame entries if they occurred\n",
    "            dt = dt[dt != 0]\n",
    "            dt_to_trash = np.where(np.diff(rawpost) == 0)[0]\n",
    "        else:\n",
    "            dt_to_trash = [] \n",
    "\n",
    "        # filter spikes & position frames by speed < 2cm/s or out of track limits \n",
    "        speed_to_trash = get.find(rawspeed < 2)\n",
    "        pos_to_trash = get.find((rawposx < 0) | (rawposx > 400))\n",
    "        trash_idx = np.unique(np.concatenate((dt_to_trash, speed_to_trash, pos_to_trash)))\n",
    "        keep_idx = np.setdiff1d(np.arange(len(rawspeed)), trash_idx)\n",
    "        \n",
    "        B = np.zeros((len(rawspeed), len(cell_IDs))) # reset empty shuffled FR matrix   \n",
    "        for i, c in enumerate(cell_IDs):\n",
    "            #get actual spike times for each cell\n",
    "            st = spiket[cluster_id == c]\n",
    "            st = st[(st >= min(rawpost)) & (st <= max(rawpost))]\n",
    "\n",
    "            #get shuffle times\n",
    "            st_shuf = st - min(rawpost)\n",
    "            total_time = max(rawpost) - min(rawpost)\n",
    "            add = np.random.uniform(0.02,total_time,1)\n",
    "            st_shuf = (st_shuf + add) % total_time\n",
    "            st_shuf = st_shuf + min(rawpost)\n",
    "\n",
    "            #get unfiltered spike train\n",
    "            spike_ct = np.zeros_like(rawpost)\n",
    "            spike_idx = np.digitize(st_shuf, rawpost) #obs corresponding to where each shuffled spike occurs\n",
    "\n",
    "            idx, cts = np.unique(spike_idx, return_counts = True)\n",
    "            spike_ct[idx] = cts\n",
    "            B[:,i] = spike_ct\n",
    "\n",
    "            #check for & interpolate any missing values\n",
    "            if sum(np.isnan(B[:,i])) > 0:\n",
    "                B[:,i] = get.nan_interp(B[:,i])  \n",
    "\n",
    "        #apply filter spike train by speed, dt, & posx errors\n",
    "        B = B[keep_idx,:]\n",
    "        shuff_X = B / dt # convert spike count to FR\n",
    "        shuff_X = gaussian_filter1d(shuff_X, SMOOTHNESS, axis=0)\n",
    "        d['shuff_X'] = shuff_X"
   ]
  },
  {
   "cell_type": "code",
   "execution_count": 83,
   "id": "595afeb8",
   "metadata": {},
   "outputs": [],
   "source": [
    "''' Downsample to match speed and num observations '''\n",
    "for m, session in zip(mice, sessions):\n",
    "    for s in session:\n",
    "        d = data[m][s]\n",
    "        \n",
    "        #load data\n",
    "        rawdata_file = 'RAW_' + m + '_' + s + '.npy'\n",
    "        spikes_file = 'SPIKES_' + m + '_' + s +'.npy'\n",
    "        behavior_file = 'BEHAVIOR_' + m + '_' + s + '.npy'\n",
    "        \n",
    "        raw = np.load(load_folder + rawdata_file, allow_pickle=True)\n",
    "        Y = np.load(load_folder + spikes_file, allow_pickle=False) #pre-filtered for speeds >2cm/s, position-errorcorrected spikes, 20 ms timebins\n",
    "        behaviorfil = np.load(load_folder + behavior_file, allow_pickle=False)\n",
    "        \n",
    "        cell_IDs = raw.item().get('cellsfil')\n",
    "        spatialcell99 = d['spatialcell99'].astype(bool)\n",
    "        spatialcells = cell_IDs[spatialcell99]\n",
    "        \n",
    "        start = d['start']\n",
    "        end = d['end']\n",
    "        \n",
    "        speed = behaviorfil[:, 1][start:end]\n",
    "        y = d['y']\n",
    "        \n",
    "        if d['2map'] == 1: \n",
    "            map0_idx = d['idx'][0, :]\n",
    "            map1_idx = d['idx'][1, :]\n",
    "\n",
    "            # bin speed into 10cm/s bins\n",
    "            edges = np.arange(10, np.max(speed), 10)\n",
    "            speed_idx = np.digitize(speed, edges)\n",
    "\n",
    "            # get indices for each map's observations\n",
    "            all_obs = np.arange(y.shape[0])\n",
    "            obs_0 = np.arange(y.shape[0])[map0_idx]\n",
    "            obs_1 = np.arange(y.shape[0])[map1_idx]\n",
    "\n",
    "            # array to hold indices for downsampling\n",
    "            ds_all = np.asarray([]) # array to hold indices for downsampling all trials\n",
    "            ds_0 = np.asarray([]) # array to hold indices for downsampling map 0\n",
    "            ds_1 = np.asarray([]) # array to hold indices for downsampling map 1\n",
    "\n",
    "            # match occupancy of each bin for each map\n",
    "            bins, ct = np.unique(speed_idx, return_counts=True)\n",
    "            for b in bins:\n",
    "                occupancy_0 = np.sum(map0_idx[speed_idx == b])\n",
    "                occupancy_1 = np.sum(map1_idx[speed_idx == b])\n",
    "                occupancy_all = np.sum(ct[b])    \n",
    "                idx_0 = np.where(map0_idx & (speed_idx == b))[0]\n",
    "                idx_1 = np.where(map1_idx & (speed_idx == b))[0]\n",
    "\n",
    "                if occupancy_0 == occupancy_1:\n",
    "                    ds_all = np.append(ds_all, np.random.choice(all_obs[speed_idx == b], occupancy_0, replace=False))\n",
    "                elif occupancy_0 > occupancy_1:\n",
    "                    # need to downsample map 0 for this speed bin\n",
    "                    n_timepts = occupancy_1        \n",
    "                    ds_all = np.append(ds_all, np.random.choice(all_obs[speed_idx == b], n_timepts, replace=False))\n",
    "                    ds_0 = np.append(ds_0, np.random.choice(idx_0, n_timepts, replace=False))\n",
    "                    ds_1 = np.append(ds_1, idx_1)\n",
    "                else:\n",
    "                    # need to downsample map 1 for this speed bin\n",
    "                    n_timepts = occupancy_0\n",
    "                    ds_all = np.append(ds_all, np.random.choice(all_obs[speed_idx == b], n_timepts, replace=False))\n",
    "                    ds_0 = np.append(ds_0, idx_0)\n",
    "                    ds_1 = np.append(ds_1, np.random.choice(idx_1, n_timepts, replace=False)) \n",
    "            ds_all = ds_all.astype(int)\n",
    "            ds_0 = ds_0.astype(int)\n",
    "            ds_1 = ds_1.astype(int)\n",
    "\n",
    "            d['ds_idx'] = np.row_stack((ds_0, ds_1, ds_all))"
   ]
  },
  {
   "cell_type": "code",
   "execution_count": 84,
   "id": "8e7e5ccd",
   "metadata": {},
   "outputs": [],
   "source": [
    "'''Define Function to Split Train & Test Blocks'''\n",
    "\n",
    "def train_vs_test_blocks(X, y, train_data_idx, test_data_idx, n_repeats=10, train_pct=0.9):\n",
    "    test_scores = []    \n",
    "    test_folds = np.array_split(test_data_idx, n_repeats)\n",
    "\n",
    "    for i in range(n_repeats):        \n",
    "        # Get train and test indices\n",
    "        test_idx = test_folds[i]\n",
    "        train_idx = np.random.choice(np.setdiff1d(train_data_idx, test_idx),\n",
    "                                     replace=False, size=int(train_data_idx.size * train_pct))\n",
    "        # Train model\n",
    "        model.fit(X[train_idx], y[train_idx])\n",
    "\n",
    "        # Compute test error\n",
    "        test_scores.append(model.score(X[test_idx], y[test_idx]))\n",
    "        \n",
    "    return np.asarray(test_scores)"
   ]
  },
  {
   "cell_type": "code",
   "execution_count": 85,
   "id": "d1043cad",
   "metadata": {},
   "outputs": [
    {
     "data": {
      "application/vnd.jupyter.widget-view+json": {
       "model_id": "3627537e72b1410aadcf7099316eb3db",
       "version_major": 2,
       "version_minor": 0
      },
      "text/plain": [
       "  0%|          | 0/6 [00:00<?, ?it/s]"
      ]
     },
     "metadata": {},
     "output_type": "display_data"
    },
    {
     "data": {
      "application/vnd.jupyter.widget-view+json": {
       "model_id": "2a700344094045a99aadc6787f10f0bf",
       "version_major": 2,
       "version_minor": 0
      },
      "text/plain": [
       "  0%|          | 0/6 [00:00<?, ?it/s]"
      ]
     },
     "metadata": {},
     "output_type": "display_data"
    },
    {
     "data": {
      "application/vnd.jupyter.widget-view+json": {
       "model_id": "d1d5949a356c4a6189416a4763e1f658",
       "version_major": 2,
       "version_minor": 0
      },
      "text/plain": [
       "  0%|          | 0/6 [00:00<?, ?it/s]"
      ]
     },
     "metadata": {},
     "output_type": "display_data"
    },
    {
     "data": {
      "application/vnd.jupyter.widget-view+json": {
       "model_id": "81f9cf6eea7243489b366df0fe5e7d30",
       "version_major": 2,
       "version_minor": 0
      },
      "text/plain": [
       "  0%|          | 0/6 [00:00<?, ?it/s]"
      ]
     },
     "metadata": {},
     "output_type": "display_data"
    },
    {
     "data": {
      "application/vnd.jupyter.widget-view+json": {
       "model_id": "7092aa45416248ee88d099c0feea2cab",
       "version_major": 2,
       "version_minor": 0
      },
      "text/plain": [
       "  0%|          | 0/6 [00:00<?, ?it/s]"
      ]
     },
     "metadata": {},
     "output_type": "display_data"
    },
    {
     "data": {
      "application/vnd.jupyter.widget-view+json": {
       "model_id": "bc06fccae4b64fa0a64d24720b57fcdd",
       "version_major": 2,
       "version_minor": 0
      },
      "text/plain": [
       "  0%|          | 0/6 [00:00<?, ?it/s]"
      ]
     },
     "metadata": {},
     "output_type": "display_data"
    },
    {
     "data": {
      "application/vnd.jupyter.widget-view+json": {
       "model_id": "43162e79ebc442d3bf3d903a726b30e4",
       "version_major": 2,
       "version_minor": 0
      },
      "text/plain": [
       "  0%|          | 0/6 [00:00<?, ?it/s]"
      ]
     },
     "metadata": {},
     "output_type": "display_data"
    },
    {
     "data": {
      "application/vnd.jupyter.widget-view+json": {
       "model_id": "01a08f126d184f03b824d1605ce48684",
       "version_major": 2,
       "version_minor": 0
      },
      "text/plain": [
       "  0%|          | 0/5 [00:00<?, ?it/s]"
      ]
     },
     "metadata": {},
     "output_type": "display_data"
    },
    {
     "data": {
      "application/vnd.jupyter.widget-view+json": {
       "model_id": "eb5fea60583f4d5685d0b2f1e010c255",
       "version_major": 2,
       "version_minor": 0
      },
      "text/plain": [
       "  0%|          | 0/3 [00:00<?, ?it/s]"
      ]
     },
     "metadata": {},
     "output_type": "display_data"
    },
    {
     "data": {
      "application/vnd.jupyter.widget-view+json": {
       "model_id": "57fde4d2610b4304883a5fe632566073",
       "version_major": 2,
       "version_minor": 0
      },
      "text/plain": [
       "  0%|          | 0/6 [00:00<?, ?it/s]"
      ]
     },
     "metadata": {},
     "output_type": "display_data"
    },
    {
     "data": {
      "application/vnd.jupyter.widget-view+json": {
       "model_id": "114a2b1aaa4140bda505e02d5e911217",
       "version_major": 2,
       "version_minor": 0
      },
      "text/plain": [
       "  0%|          | 0/6 [00:00<?, ?it/s]"
      ]
     },
     "metadata": {},
     "output_type": "display_data"
    },
    {
     "data": {
      "application/vnd.jupyter.widget-view+json": {
       "model_id": "d560eaa5b83341cb9baf35d6144a16b1",
       "version_major": 2,
       "version_minor": 0
      },
      "text/plain": [
       "  0%|          | 0/6 [00:00<?, ?it/s]"
      ]
     },
     "metadata": {},
     "output_type": "display_data"
    },
    {
     "data": {
      "application/vnd.jupyter.widget-view+json": {
       "model_id": "eb7fe16e7208412c92792d736281fdf3",
       "version_major": 2,
       "version_minor": 0
      },
      "text/plain": [
       "  0%|          | 0/5 [00:00<?, ?it/s]"
      ]
     },
     "metadata": {},
     "output_type": "display_data"
    },
    {
     "data": {
      "application/vnd.jupyter.widget-view+json": {
       "model_id": "1cbc285fa74c43dbadd2d580d1f89ecc",
       "version_major": 2,
       "version_minor": 0
      },
      "text/plain": [
       "  0%|          | 0/5 [00:00<?, ?it/s]"
      ]
     },
     "metadata": {},
     "output_type": "display_data"
    },
    {
     "data": {
      "application/vnd.jupyter.widget-view+json": {
       "model_id": "f9ab4159bddf46e8b50550edb71ffa72",
       "version_major": 2,
       "version_minor": 0
      },
      "text/plain": [
       "  0%|          | 0/6 [00:00<?, ?it/s]"
      ]
     },
     "metadata": {},
     "output_type": "display_data"
    },
    {
     "data": {
      "application/vnd.jupyter.widget-view+json": {
       "model_id": "ad28d645c21b4ecba8b9ff845b4717fd",
       "version_major": 2,
       "version_minor": 0
      },
      "text/plain": [
       "  0%|          | 0/2 [00:00<?, ?it/s]"
      ]
     },
     "metadata": {},
     "output_type": "display_data"
    }
   ],
   "source": [
    "''' Decode position from the spatial cell network activity in each map or random selections from both maps from each session\n",
    "\n",
    "Also train/test on shuffled spatial cell spike trains.\n",
    "\n",
    "'''\n",
    "\n",
    "model = CircularRegression(alpha=REGULARIZATION)\n",
    "\n",
    "# cross-validate the model\n",
    "for m, session in zip(mice, sessions):\n",
    "    for s in tdqm(session):\n",
    "        d = data[m][s]\n",
    "        \n",
    "        #load in data\n",
    "        rawdata_file = 'RAW_' + m + '_' + s + '.npy'\n",
    "        raw = np.load(load_folder + rawdata_file, allow_pickle=True)\n",
    "        cell_IDs = raw.item().get('cellsfil')\n",
    "        spatialcell99 = d['spatialcell99'].astype(bool)\n",
    "        spatialcells = cell_IDs[spatialcell99]\n",
    "        \n",
    "        if len(spatialcells) > 10: \n",
    "            if d['2map'] == 1:\n",
    "                #restrict position decoding to spatial cell activity\n",
    "                X = d['X']\n",
    "                sdx = []\n",
    "                for i, c in enumerate(spatialcells):\n",
    "                    sd = (np.where(cell_IDs == c)[0][0]).astype(int)\n",
    "                    sdx.append(sd)\n",
    "                X = X[:,sdx]\n",
    "\n",
    "                shuff_X = d['shuff_X']\n",
    "                shuff_X = shuff_X[:,sdx]\n",
    "                y = d['y']\n",
    "\n",
    "                ds_0 = d['ds_idx'][0, :]\n",
    "                ds_1 = d['ds_idx'][1, :]\n",
    "                ds_all = d['ds_idx'][-1, :]\n",
    "\n",
    "                # get CV scores for each train and test combo - save these!\n",
    "                train0_test0_scores = train_vs_test_blocks(X, y, ds_0, ds_0)\n",
    "                train0_test1_scores = train_vs_test_blocks(X, y, ds_0, ds_1)\n",
    "                train1_test1_scores = train_vs_test_blocks(X, y, ds_1, ds_1)\n",
    "                train1_test0_scores = train_vs_test_blocks(X, y, ds_1, ds_0)\n",
    "                random_scores = train_vs_test_blocks(X, y, ds_all, ds_all)\n",
    "                d['spatialscores'] = np.row_stack((train0_test0_scores, train0_test1_scores, \n",
    "                                            train1_test1_scores, train1_test0_scores, \n",
    "                                            random_scores))\n",
    "\n",
    "                # get CV scores for each train and test combo - save these!\n",
    "                train0_test0_scores = train_vs_test_blocks(shuff_X, y, ds_0, ds_0)\n",
    "                train0_test1_scores = train_vs_test_blocks(shuff_X, y, ds_0, ds_1)\n",
    "                train1_test1_scores = train_vs_test_blocks(shuff_X, y, ds_1, ds_1)\n",
    "                train1_test0_scores = train_vs_test_blocks(shuff_X, y, ds_1, ds_0)\n",
    "                random_scores = train_vs_test_blocks(shuff_X, y, ds_all, ds_all)\n",
    "                d['spatialshuffscores'] = np.row_stack((train0_test0_scores, train0_test1_scores, \n",
    "                                            train1_test1_scores, train1_test0_scores, \n",
    "                                            random_scores))\n",
    "                \n",
    "                #save results\n",
    "                spatialscores_file = 'spatialscores_' + m + '_' + s + '.npy'\n",
    "                spatialshuffscores_file = 'spatialshuffscores_' + m + '_' + s + '.npy'\n",
    "                \n",
    "                spatialscores = d['spatialscores']\n",
    "                np.save(save_folder + spatialscores_file, spatialscores)\n",
    "\n",
    "                spatialshuffscores = d['spatialshuffscores']\n",
    "                np.save(save_folder + spatialshuffscores_file, spatialshuffscores)"
   ]
  },
  {
   "cell_type": "code",
   "execution_count": 86,
   "id": "20b878ea",
   "metadata": {
    "scrolled": true
   },
   "outputs": [
    {
     "data": {
      "application/vnd.jupyter.widget-view+json": {
       "model_id": "279cf68f009043f797c12590a8ee1039",
       "version_major": 2,
       "version_minor": 0
      },
      "text/plain": [
       "  0%|          | 0/6 [00:00<?, ?it/s]"
      ]
     },
     "metadata": {},
     "output_type": "display_data"
    },
    {
     "data": {
      "application/vnd.jupyter.widget-view+json": {
       "model_id": "02e6e7150a7548d9b271a0c624ae38f7",
       "version_major": 2,
       "version_minor": 0
      },
      "text/plain": [
       "  0%|          | 0/6 [00:00<?, ?it/s]"
      ]
     },
     "metadata": {},
     "output_type": "display_data"
    },
    {
     "data": {
      "application/vnd.jupyter.widget-view+json": {
       "model_id": "9f4ac21fe23e45eeab91de08bf0feab6",
       "version_major": 2,
       "version_minor": 0
      },
      "text/plain": [
       "  0%|          | 0/6 [00:00<?, ?it/s]"
      ]
     },
     "metadata": {},
     "output_type": "display_data"
    },
    {
     "data": {
      "application/vnd.jupyter.widget-view+json": {
       "model_id": "2e6652792c954f8ba847052540702b1a",
       "version_major": 2,
       "version_minor": 0
      },
      "text/plain": [
       "  0%|          | 0/6 [00:00<?, ?it/s]"
      ]
     },
     "metadata": {},
     "output_type": "display_data"
    },
    {
     "data": {
      "application/vnd.jupyter.widget-view+json": {
       "model_id": "81d328bc7acc40f4bd670c2b893e845b",
       "version_major": 2,
       "version_minor": 0
      },
      "text/plain": [
       "  0%|          | 0/6 [00:00<?, ?it/s]"
      ]
     },
     "metadata": {},
     "output_type": "display_data"
    },
    {
     "data": {
      "application/vnd.jupyter.widget-view+json": {
       "model_id": "c3bb1bcd0e1b49d9868c44f280acdef5",
       "version_major": 2,
       "version_minor": 0
      },
      "text/plain": [
       "  0%|          | 0/6 [00:00<?, ?it/s]"
      ]
     },
     "metadata": {},
     "output_type": "display_data"
    },
    {
     "data": {
      "application/vnd.jupyter.widget-view+json": {
       "model_id": "e2895a987a434711a587cf5bc923bcf3",
       "version_major": 2,
       "version_minor": 0
      },
      "text/plain": [
       "  0%|          | 0/6 [00:00<?, ?it/s]"
      ]
     },
     "metadata": {},
     "output_type": "display_data"
    },
    {
     "data": {
      "application/vnd.jupyter.widget-view+json": {
       "model_id": "76c0295fc84043e2b73842f878aa1fc6",
       "version_major": 2,
       "version_minor": 0
      },
      "text/plain": [
       "  0%|          | 0/5 [00:00<?, ?it/s]"
      ]
     },
     "metadata": {},
     "output_type": "display_data"
    },
    {
     "data": {
      "application/vnd.jupyter.widget-view+json": {
       "model_id": "3d8eb185e1ca4905b81511ed7cc11f54",
       "version_major": 2,
       "version_minor": 0
      },
      "text/plain": [
       "  0%|          | 0/3 [00:00<?, ?it/s]"
      ]
     },
     "metadata": {},
     "output_type": "display_data"
    },
    {
     "data": {
      "application/vnd.jupyter.widget-view+json": {
       "model_id": "d6ca0209604640bda1ab0b7e07efb719",
       "version_major": 2,
       "version_minor": 0
      },
      "text/plain": [
       "  0%|          | 0/6 [00:00<?, ?it/s]"
      ]
     },
     "metadata": {},
     "output_type": "display_data"
    },
    {
     "data": {
      "application/vnd.jupyter.widget-view+json": {
       "model_id": "48d1f8e577024be3a13cb06c2476eb2c",
       "version_major": 2,
       "version_minor": 0
      },
      "text/plain": [
       "  0%|          | 0/6 [00:00<?, ?it/s]"
      ]
     },
     "metadata": {},
     "output_type": "display_data"
    },
    {
     "data": {
      "application/vnd.jupyter.widget-view+json": {
       "model_id": "fbf2b7065ae74d6180450cc4cefabe0b",
       "version_major": 2,
       "version_minor": 0
      },
      "text/plain": [
       "  0%|          | 0/6 [00:00<?, ?it/s]"
      ]
     },
     "metadata": {},
     "output_type": "display_data"
    },
    {
     "data": {
      "application/vnd.jupyter.widget-view+json": {
       "model_id": "636b1e3ce83b4eb1ab69a588bc77f9f6",
       "version_major": 2,
       "version_minor": 0
      },
      "text/plain": [
       "  0%|          | 0/5 [00:00<?, ?it/s]"
      ]
     },
     "metadata": {},
     "output_type": "display_data"
    },
    {
     "data": {
      "application/vnd.jupyter.widget-view+json": {
       "model_id": "dfdd8c486da044e5b863e1eb0bc56001",
       "version_major": 2,
       "version_minor": 0
      },
      "text/plain": [
       "  0%|          | 0/5 [00:00<?, ?it/s]"
      ]
     },
     "metadata": {},
     "output_type": "display_data"
    },
    {
     "data": {
      "application/vnd.jupyter.widget-view+json": {
       "model_id": "4411b0e126244e599fa3bb3bfb6cfcb8",
       "version_major": 2,
       "version_minor": 0
      },
      "text/plain": [
       "  0%|          | 0/6 [00:00<?, ?it/s]"
      ]
     },
     "metadata": {},
     "output_type": "display_data"
    },
    {
     "data": {
      "application/vnd.jupyter.widget-view+json": {
       "model_id": "f9aa79a870f244f4ab9a5f39cebc9908",
       "version_major": 2,
       "version_minor": 0
      },
      "text/plain": [
       "  0%|          | 0/2 [00:00<?, ?it/s]"
      ]
     },
     "metadata": {},
     "output_type": "display_data"
    }
   ],
   "source": [
    "''' Load results of this analysis '''\n",
    "\n",
    "for m, session in zip(mice, sessions):\n",
    "    for s in tdqm(session):\n",
    "        d = data[m][s]\n",
    "        \n",
    "        #load in data\n",
    "        rawdata_file = 'RAW_' + m + '_' + s + '.npy'\n",
    "        raw = np.load(load_folder + rawdata_file, allow_pickle=True)\n",
    "        cell_IDs = raw.item().get('cellsfil')\n",
    "        spatialcell99 = d['spatialcell99'].astype(bool)\n",
    "        spatialcells = cell_IDs[spatialcell99]\n",
    "        \n",
    "        spatialscores_file = 'spatialscores_' + m + '_' + s + '.npy'\n",
    "        spatialshuffscores_file = 'spatialshuffscores_' + m + '_' + s + '.npy'\n",
    "            \n",
    "        if d['2map'] == 1:\n",
    "\n",
    "            spatialscores  = np.load(save_folder + spatialscores_file)\n",
    "            d['spatialscores'] = spatialscores\n",
    "\n",
    "            spatialshuffscores = np.load(save_folder + spatialshuffscores_file)\n",
    "            d['spatialshuffscores'] = spatialshuffscores"
   ]
  },
  {
   "cell_type": "code",
   "execution_count": 87,
   "id": "46de0608",
   "metadata": {
    "scrolled": true
   },
   "outputs": [
    {
     "data": {
      "application/vnd.jupyter.widget-view+json": {
       "model_id": "ccb31c2aa466447392a6551f3355f7f8",
       "version_major": 2,
       "version_minor": 0
      },
      "text/plain": [
       "  0%|          | 0/6 [00:00<?, ?it/s]"
      ]
     },
     "metadata": {},
     "output_type": "display_data"
    },
    {
     "data": {
      "application/vnd.jupyter.widget-view+json": {
       "model_id": "d012d45b5aa6463a9643c301bef2cf48",
       "version_major": 2,
       "version_minor": 0
      },
      "text/plain": [
       "  0%|          | 0/6 [00:00<?, ?it/s]"
      ]
     },
     "metadata": {},
     "output_type": "display_data"
    },
    {
     "data": {
      "application/vnd.jupyter.widget-view+json": {
       "model_id": "71023ba6a4774b89a7295d33f1273d76",
       "version_major": 2,
       "version_minor": 0
      },
      "text/plain": [
       "  0%|          | 0/6 [00:00<?, ?it/s]"
      ]
     },
     "metadata": {},
     "output_type": "display_data"
    },
    {
     "data": {
      "application/vnd.jupyter.widget-view+json": {
       "model_id": "452f65f728f945c78e09033bf7f88615",
       "version_major": 2,
       "version_minor": 0
      },
      "text/plain": [
       "  0%|          | 0/6 [00:00<?, ?it/s]"
      ]
     },
     "metadata": {},
     "output_type": "display_data"
    },
    {
     "data": {
      "application/vnd.jupyter.widget-view+json": {
       "model_id": "fc09154224e14d098abda0f7d0b0e57b",
       "version_major": 2,
       "version_minor": 0
      },
      "text/plain": [
       "  0%|          | 0/6 [00:00<?, ?it/s]"
      ]
     },
     "metadata": {},
     "output_type": "display_data"
    },
    {
     "data": {
      "application/vnd.jupyter.widget-view+json": {
       "model_id": "2010b349f9904a55998c06c5abfe30d6",
       "version_major": 2,
       "version_minor": 0
      },
      "text/plain": [
       "  0%|          | 0/6 [00:00<?, ?it/s]"
      ]
     },
     "metadata": {},
     "output_type": "display_data"
    },
    {
     "data": {
      "application/vnd.jupyter.widget-view+json": {
       "model_id": "cf7d78c7df334da9bf29c55c2c9cfd22",
       "version_major": 2,
       "version_minor": 0
      },
      "text/plain": [
       "  0%|          | 0/6 [00:00<?, ?it/s]"
      ]
     },
     "metadata": {},
     "output_type": "display_data"
    },
    {
     "data": {
      "application/vnd.jupyter.widget-view+json": {
       "model_id": "58012ce395ca47729870e1c00f03db26",
       "version_major": 2,
       "version_minor": 0
      },
      "text/plain": [
       "  0%|          | 0/5 [00:00<?, ?it/s]"
      ]
     },
     "metadata": {},
     "output_type": "display_data"
    },
    {
     "data": {
      "application/vnd.jupyter.widget-view+json": {
       "model_id": "03746013a7554d2aac08645fe807eb3a",
       "version_major": 2,
       "version_minor": 0
      },
      "text/plain": [
       "  0%|          | 0/3 [00:00<?, ?it/s]"
      ]
     },
     "metadata": {},
     "output_type": "display_data"
    },
    {
     "data": {
      "application/vnd.jupyter.widget-view+json": {
       "model_id": "409aba011eb94735a666bb54cb99aa8b",
       "version_major": 2,
       "version_minor": 0
      },
      "text/plain": [
       "  0%|          | 0/6 [00:00<?, ?it/s]"
      ]
     },
     "metadata": {},
     "output_type": "display_data"
    },
    {
     "data": {
      "application/vnd.jupyter.widget-view+json": {
       "model_id": "9e6d6d9d865844cbbdae90a1f5576287",
       "version_major": 2,
       "version_minor": 0
      },
      "text/plain": [
       "  0%|          | 0/6 [00:00<?, ?it/s]"
      ]
     },
     "metadata": {},
     "output_type": "display_data"
    },
    {
     "data": {
      "application/vnd.jupyter.widget-view+json": {
       "model_id": "7a5932a5682841b5bc0cf5f23252ac81",
       "version_major": 2,
       "version_minor": 0
      },
      "text/plain": [
       "  0%|          | 0/6 [00:00<?, ?it/s]"
      ]
     },
     "metadata": {},
     "output_type": "display_data"
    },
    {
     "data": {
      "application/vnd.jupyter.widget-view+json": {
       "model_id": "8486f66fec464003be8eeeb85508033a",
       "version_major": 2,
       "version_minor": 0
      },
      "text/plain": [
       "  0%|          | 0/5 [00:00<?, ?it/s]"
      ]
     },
     "metadata": {},
     "output_type": "display_data"
    },
    {
     "data": {
      "application/vnd.jupyter.widget-view+json": {
       "model_id": "612ee9c2a91849188b29ee58b405b94a",
       "version_major": 2,
       "version_minor": 0
      },
      "text/plain": [
       "  0%|          | 0/5 [00:00<?, ?it/s]"
      ]
     },
     "metadata": {},
     "output_type": "display_data"
    },
    {
     "data": {
      "application/vnd.jupyter.widget-view+json": {
       "model_id": "a9f08426e891448397a5ea9e13e9ff9b",
       "version_major": 2,
       "version_minor": 0
      },
      "text/plain": [
       "  0%|          | 0/6 [00:00<?, ?it/s]"
      ]
     },
     "metadata": {},
     "output_type": "display_data"
    },
    {
     "data": {
      "application/vnd.jupyter.widget-view+json": {
       "model_id": "ee575fecff464a98b8bf922f163ec4a8",
       "version_major": 2,
       "version_minor": 0
      },
      "text/plain": [
       "  0%|          | 0/2 [00:00<?, ?it/s]"
      ]
     },
     "metadata": {},
     "output_type": "display_data"
    }
   ],
   "source": [
    "''' Collect mean scores by age group for plotting '''\n",
    "#Train on Map 1, Test on Map 1\n",
    "spatialscore1 = []\n",
    "spatialshuffscore1 = []\n",
    "\n",
    "#Train on Map 2, Test on Map 2\n",
    "spatialscore2 = []\n",
    "spatialshuffscore2 = []\n",
    "\n",
    "morethan10spatial = []\n",
    "\n",
    "for m, session in zip(mice, sessions):\n",
    "    \n",
    "    for s in tdqm(session):\n",
    "        d = data[m][s]\n",
    "        \n",
    "        if d['2map'] == 1: \n",
    "            spatialscores = d['spatialscores']\n",
    "            spatialshuffscores = d['spatialshuffscores']\n",
    "            \n",
    "            morethan10spatial = np.append(morethan10spatial, True)\n",
    "             \n",
    "            #retrieves score where trained & tested on Map 0\n",
    "            spatialscore1 = np.append(spatialscore1, np.mean(spatialscores, axis = 1)[0])\n",
    "            spatialshuffscore1 = np.append(spatialshuffscore1, np.mean(spatialshuffscores, axis = 1)[0])\n",
    "            \n",
    "            #retrieves score where trained & tested on Map 1\n",
    "            spatialscore2 = np.append(spatialscore2, np.mean(spatialscores, axis = 1)[2])\n",
    "            spatialshuffscore2 = np.append(spatialshuffscore2, np.mean(spatialshuffscores, axis = 1)[2])\n",
    "            \n",
    "        else:\n",
    "            morethan10spatial = np.append(morethan10spatial, False)\n",
    "            spatialscore1 = np.append(spatialscore1, np.nan)\n",
    "            spatialshuffscore1 = np.append(spatialshuffscore1, np.nan)\n",
    "            spatialscore2 = np.append(spatialscore2, np.nan)\n",
    "            spatialshuffscore2 = np.append(spatialshuffscore2, np.nan)\n",
    "            \n",
    "nan_idx10spatial = np.where((morethan10spatial == 0))[0]\n",
    "\n",
    "# Adjust y_sind, ma_sind, age_sind for subsequent plots\n",
    "y_sindspatial = np.setdiff1d(y_sind, nan_idx10spatial)\n",
    "age_sindspatial = np.setdiff1d(age_sind, nan_idx10spatial)\n",
    "\n",
    "# Adjust colormaps for spatial plots\n",
    "yidx = []\n",
    "aidx = []\n",
    "for i in nan_idx10spatial:\n",
    "    yidx = np.append(yidx, np.where(y_sind == i)[0].astype(int))\n",
    "    aidx = np.append(aidx, np.where(age_sind == i)[0].astype(int)) \n",
    "\n",
    "col_session_youngspatial = np.delete(col_session_young, list(yidx.astype(int)), axis = 0)\n",
    "col_session_oldspatial = np.delete(col_session_old, list(aidx.astype(int)), axis = 0)\n",
    "col_sessionspatial = [col_session_youngspatial, col_session_oldspatial] "
   ]
  },
  {
   "cell_type": "code",
   "execution_count": 88,
   "id": "212d3894",
   "metadata": {},
   "outputs": [
    {
     "data": {
      "image/png": "[encoded data removed]",
      "text/plain": [
       "<Figure size 212.5x150 with 1 Axes>"
      ]
     },
     "metadata": {},
     "output_type": "display_data"
    }
   ],
   "source": [
    "''' Plot Figure S5E (left) '''\n",
    "\n",
    "fig, ax = plt.subplots(1,1, figsize = (2.125,1.5), sharey = False)\n",
    "labels = ['Young','Aged']\n",
    "w = 0.5\n",
    "ax.set_title('Train/Test Map 1', fontsize=10)\n",
    "\n",
    "sscore1_tog = [spatialscore1[y_sindspatial], spatialscore1[age_sindspatial]]\n",
    "ax.boxplot(sscore1_tog, widths = w, labels = labels, medianprops = dict(color = 'black'))\n",
    "ax.hlines(np.mean(spatialshuffscore1[y_sindspatial]), 0.75, 1.25, color = 'C0', linestyle ='dashed', label = 'Young Shuffle')\n",
    "ax.hlines(np.mean(spatialshuffscore1[age_sindspatial]), 1.75, 2.25, color = 'C1', linestyle ='dashed', label = 'Aged Shuffle')\n",
    "ax.set_ylabel('Decoding Score', fontsize=9, labelpad=1)\n",
    "ax.set_ylim([0,1])\n",
    "ax.tick_params(labelsize = 8)\n",
    "\n",
    "handles = []\n",
    "for i in range(len(sscore1_tog)):\n",
    "    y = sscore1_tog[i]\n",
    "    x = np.random.normal(i + 1, 0.04, len(y))\n",
    "    ax.scatter(x, y, color = col_sessionspatial[i], edgecolors = col_sessionspatial[i], alpha = 1, s = 10)\n",
    "\n",
    "plt.savefig(save_folder + 'S5Eleft.png', dpi=400, bbox_inches='tight')\n",
    "plt.savefig(save_folder + 'S5Eleft.svg', dpi=400, bbox_inches='tight')\n",
    "plt.show()"
   ]
  },
  {
   "cell_type": "code",
   "execution_count": 89,
   "id": "3c0fa253",
   "metadata": {},
   "outputs": [
    {
     "name": "stdout",
     "output_type": "stream",
     "text": [
      "n young, aged RF sessions with k = 2, >10 spatial cells \n",
      "35 26\n",
      "\n",
      "Real RESULTS:\n",
      "meandecoderscore1young ± SEM; meandecoderscore1_old ± SEM\n",
      "0.6669 ± 0.037 ; 0.4883 ± 0.0457\n",
      "stat = 2.6980240120607064\n",
      "p_session = 0.006975240917682269\n",
      "\n",
      "Shuffle RESULTS:\n",
      "meandecoderscore1young ± SEM; meandecoderscore1_old ± SEM\n",
      "0.1813 ± 0.0136 ; 0.1407 ± 0.0134\n",
      "stat = 1.8813248516531413\n",
      "p_session = 0.05992774241873921\n",
      "\n",
      "Diff Shuffle vs. Real RESULTS Young:\n",
      "stat = 630.0\n",
      "p_session = 2.9103830456733704e-11\n",
      "\n",
      "Diff Shuffle vs. Real RESULTS Aged:\n",
      "stat = 350.0\n",
      "p_session = 2.9802322387695312e-08\n"
     ]
    }
   ],
   "source": [
    "''' Mean Decoder Score Young vs. Aged Train/Test Map 1  '''\n",
    "print('n young, aged RF sessions with k = 2, >10 spatial cells ')\n",
    "print(len(y_sindspatial), len(age_sindspatial))\n",
    "\n",
    "print('\\nReal RESULTS:')\n",
    "print('meandecoderscore1young ± SEM; meandecoderscore1_old ± SEM')\n",
    "print(str(np.round(np.nanmean(spatialscore1[y_sindspatial]), 4)) + ' ± ' + str(np.round(stats.sem(spatialscore1[y_sindspatial]), 4)) + ' ; ' \n",
    "      + str(np.round(np.nanmean(spatialscore1[age_sindspatial]), 4)) + ' ± ' + str(np.round(stats.sem(spatialscore1[age_sindspatial]), 4)))\n",
    "\n",
    "stat, p_diff = stats.ranksums(spatialscore1[y_sindspatial],spatialscore1[age_sindspatial])\n",
    "print('stat = ' + str(stat))\n",
    "print('p_session = ' + str(p_diff))\n",
    "\n",
    "print('\\nShuffle RESULTS:')\n",
    "print('meandecoderscore1young ± SEM; meandecoderscore1_old ± SEM')\n",
    "print(str(np.round(np.nanmean(spatialshuffscore1[y_sindspatial]), 4)) + ' ± ' + str(np.round(stats.sem(spatialshuffscore1[y_sindspatial]), 4)) + ' ; ' \n",
    "      + str(np.round(np.nanmean(spatialshuffscore1[age_sindspatial]), 4)) + ' ± ' + str(np.round(stats.sem(spatialshuffscore1[age_sindspatial]), 4)))\n",
    "\n",
    "stat, p_diff = stats.ranksums(spatialshuffscore1[y_sindspatial],spatialshuffscore1[age_sindspatial])\n",
    "print('stat = ' + str(stat))\n",
    "print('p_session = ' + str(p_diff))\n",
    "\n",
    "print('\\nDiff Shuffle vs. Real RESULTS Young:')\n",
    "stat, p_diff = stats.wilcoxon(spatialscore1[y_sindspatial],spatialshuffscore1[y_sindspatial],alternative = 'greater')\n",
    "print('stat = ' + str(stat))\n",
    "print('p_session = ' + str(p_diff))\n",
    "\n",
    "print('\\nDiff Shuffle vs. Real RESULTS Aged:')\n",
    "stat, p_diff = stats.wilcoxon(spatialscore1[age_sindspatial],spatialshuffscore1[age_sindspatial],alternative = 'greater')\n",
    "print('stat = ' + str(stat))\n",
    "print('p_session = ' + str(p_diff))"
   ]
  },
  {
   "cell_type": "code",
   "execution_count": 90,
   "id": "8dba3e86",
   "metadata": {},
   "outputs": [
    {
     "data": {
      "image/png": "[encoded data removed]",
      "text/plain": [
       "<Figure size 212.5x150 with 1 Axes>"
      ]
     },
     "metadata": {},
     "output_type": "display_data"
    }
   ],
   "source": [
    "''' Plot Figure S5E (left middle) '''\n",
    "\n",
    "fig, ax = plt.subplots(1,1, figsize = (2.125,1.5), sharey = False)\n",
    "labels = ['Young','Aged']\n",
    "w = 0.5\n",
    "ax.set_title('Train/Test Map 2', fontsize=10)\n",
    "\n",
    "sscore1_tog = [spatialscore2[y_sindspatial], spatialscore2[age_sindspatial]]\n",
    "ax.boxplot(sscore1_tog, widths = w, labels = labels, medianprops = dict(color = 'black'))\n",
    "ax.hlines(np.mean(spatialshuffscore2[y_sindspatial]), 0.75, 1.25, color = 'C0', linestyle ='dashed', label = 'Young Shuffle')\n",
    "ax.hlines(np.mean(spatialshuffscore2[age_sindspatial]), 1.75, 2.25, color = 'C1', linestyle ='dashed', label = 'Aged Shuffle')\n",
    "ax.set_xlabel('Age', fontsize=9, labelpad=1)\n",
    "ax.set_ylabel('Decoding Score', fontsize=9, labelpad=1)\n",
    "ax.set_ylim([0,1])\n",
    "ax.tick_params(labelsize = 8)\n",
    "\n",
    "handles = []\n",
    "for i in range(len(sscore1_tog)):\n",
    "    y = sscore1_tog[i]\n",
    "    x = np.random.normal(i + 1, 0.04, len(y))\n",
    "    ax.scatter(x, y, color = col_sessionspatial[i], edgecolors = col_sessionspatial[i], alpha = 1, s = 10)\n",
    "\n",
    "plt.savefig(save_folder + 'S5Emiddleleft.png', dpi=400, bbox_inches='tight')\n",
    "plt.savefig(save_folder + 'S5Emiddleleft.svg', dpi=400, bbox_inches='tight')\n",
    "plt.show()"
   ]
  },
  {
   "cell_type": "code",
   "execution_count": 91,
   "id": "b2ef679e",
   "metadata": {},
   "outputs": [
    {
     "name": "stdout",
     "output_type": "stream",
     "text": [
      "Real RESULTS:\n",
      "meandecoderscore2young ± SEM; meandecoderscore2_old ± SEM\n",
      "0.6412 ± 0.0414 ; 0.4979 ± 0.0463\n",
      "stat = 2.158419209648565\n",
      "p_session = 0.030895253529112515\n",
      "\n",
      "Shuffle RESULTS:\n",
      "meandecoderscore2young ± SEM; meandecoderscore2_old ± SEM\n",
      "0.1797 ± 0.0132 ; 0.166 ± 0.0137\n",
      "stat = 0.5833565431482608\n",
      "p_session = 0.5596533058546143\n",
      "\n",
      "Diff Shuffle vs. Real RESULTS Young:\n",
      "stat = 630.0\n",
      "p_session = 2.9103830456733704e-11\n",
      "\n",
      "Diff Shuffle vs. Real RESULTS Aged:\n",
      "stat = 347.0\n",
      "p_session = 1.043081283569336e-07\n"
     ]
    }
   ],
   "source": [
    "''' Mean Decoder Score Young vs. Aged Train/Test Map 2  '''\n",
    "print('Real RESULTS:')\n",
    "print('meandecoderscore2young ± SEM; meandecoderscore2_old ± SEM')\n",
    "print(str(np.round(np.nanmean(spatialscore2[y_sindspatial]), 4)) + ' ± ' + str(np.round(stats.sem(spatialscore2[y_sindspatial]), 4)) + ' ; ' \n",
    "      + str(np.round(np.nanmean(spatialscore2[age_sindspatial]), 4)) + ' ± ' + str(np.round(stats.sem(spatialscore2[age_sindspatial]), 4)))\n",
    "\n",
    "stat, p_diff = stats.ranksums(spatialscore2[y_sindspatial],spatialscore2[age_sindspatial])\n",
    "print('stat = ' + str(stat))\n",
    "print('p_session = ' + str(p_diff))\n",
    "\n",
    "print('\\nShuffle RESULTS:')\n",
    "print('meandecoderscore2young ± SEM; meandecoderscore2_old ± SEM')\n",
    "print(str(np.round(np.nanmean(spatialshuffscore2[y_sindspatial]), 4)) + ' ± ' + str(np.round(stats.sem(spatialshuffscore2[y_sindspatial]), 4)) + ' ; ' \n",
    "      + str(np.round(np.nanmean(spatialshuffscore2[age_sindspatial]), 4)) + ' ± ' + str(np.round(stats.sem(spatialshuffscore2[age_sindspatial]), 4)))\n",
    "\n",
    "stat, p_diff = stats.ranksums(spatialshuffscore2[y_sindspatial],spatialshuffscore2[age_sindspatial])\n",
    "print('stat = ' + str(stat))\n",
    "print('p_session = ' + str(p_diff))\n",
    "\n",
    "print('\\nDiff Shuffle vs. Real RESULTS Young:')\n",
    "stat, p_diff = stats.wilcoxon(spatialscore2[y_sindspatial],spatialshuffscore2[y_sindspatial],alternative = 'greater')\n",
    "print('stat = ' + str(stat))\n",
    "print('p_session = ' + str(p_diff))\n",
    "\n",
    "print('\\nDiff Shuffle vs. Real RESULTS Aged:')\n",
    "stat, p_diff = stats.wilcoxon(spatialscore2[age_sindspatial],spatialshuffscore2[age_sindspatial],alternative = 'greater')\n",
    "print('stat = ' + str(stat))\n",
    "print('p_session = ' + str(p_diff))"
   ]
  },
  {
   "cell_type": "code",
   "execution_count": 92,
   "id": "3f6284f7",
   "metadata": {},
   "outputs": [
    {
     "data": {
      "application/vnd.jupyter.widget-view+json": {
       "model_id": "8abbdd19f7474175997c1e7f1dbcc740",
       "version_major": 2,
       "version_minor": 0
      },
      "text/plain": [
       "  0%|          | 0/6 [00:00<?, ?it/s]"
      ]
     },
     "metadata": {},
     "output_type": "display_data"
    },
    {
     "data": {
      "application/vnd.jupyter.widget-view+json": {
       "model_id": "7278fdab6ef4459e947c5e9751edbb07",
       "version_major": 2,
       "version_minor": 0
      },
      "text/plain": [
       "  0%|          | 0/6 [00:00<?, ?it/s]"
      ]
     },
     "metadata": {},
     "output_type": "display_data"
    },
    {
     "data": {
      "application/vnd.jupyter.widget-view+json": {
       "model_id": "72017af0c004470ea2f2e22c2b44f034",
       "version_major": 2,
       "version_minor": 0
      },
      "text/plain": [
       "  0%|          | 0/6 [00:00<?, ?it/s]"
      ]
     },
     "metadata": {},
     "output_type": "display_data"
    },
    {
     "data": {
      "application/vnd.jupyter.widget-view+json": {
       "model_id": "90e5851ba33a4e62899ac890c6123614",
       "version_major": 2,
       "version_minor": 0
      },
      "text/plain": [
       "  0%|          | 0/6 [00:00<?, ?it/s]"
      ]
     },
     "metadata": {},
     "output_type": "display_data"
    },
    {
     "data": {
      "application/vnd.jupyter.widget-view+json": {
       "model_id": "7f40fe70370b47fe82d6197d761de057",
       "version_major": 2,
       "version_minor": 0
      },
      "text/plain": [
       "  0%|          | 0/6 [00:00<?, ?it/s]"
      ]
     },
     "metadata": {},
     "output_type": "display_data"
    },
    {
     "data": {
      "application/vnd.jupyter.widget-view+json": {
       "model_id": "f4d63be06135413c8289e9dafc5ae5db",
       "version_major": 2,
       "version_minor": 0
      },
      "text/plain": [
       "  0%|          | 0/6 [00:00<?, ?it/s]"
      ]
     },
     "metadata": {},
     "output_type": "display_data"
    },
    {
     "data": {
      "application/vnd.jupyter.widget-view+json": {
       "model_id": "d36ba1c5d2cb4aba8166bd0f9c15b2b3",
       "version_major": 2,
       "version_minor": 0
      },
      "text/plain": [
       "  0%|          | 0/6 [00:00<?, ?it/s]"
      ]
     },
     "metadata": {},
     "output_type": "display_data"
    },
    {
     "data": {
      "application/vnd.jupyter.widget-view+json": {
       "model_id": "af62f10f4dc5465e93f88578817aeca3",
       "version_major": 2,
       "version_minor": 0
      },
      "text/plain": [
       "  0%|          | 0/5 [00:00<?, ?it/s]"
      ]
     },
     "metadata": {},
     "output_type": "display_data"
    },
    {
     "data": {
      "application/vnd.jupyter.widget-view+json": {
       "model_id": "0f1a2f81a18b43f2803de7e708e5a66c",
       "version_major": 2,
       "version_minor": 0
      },
      "text/plain": [
       "  0%|          | 0/3 [00:00<?, ?it/s]"
      ]
     },
     "metadata": {},
     "output_type": "display_data"
    },
    {
     "data": {
      "application/vnd.jupyter.widget-view+json": {
       "model_id": "8112d909623e491e83fb073919607783",
       "version_major": 2,
       "version_minor": 0
      },
      "text/plain": [
       "  0%|          | 0/6 [00:00<?, ?it/s]"
      ]
     },
     "metadata": {},
     "output_type": "display_data"
    },
    {
     "data": {
      "application/vnd.jupyter.widget-view+json": {
       "model_id": "02eebe3e60e54a8d8b31e9658a382a6e",
       "version_major": 2,
       "version_minor": 0
      },
      "text/plain": [
       "  0%|          | 0/6 [00:00<?, ?it/s]"
      ]
     },
     "metadata": {},
     "output_type": "display_data"
    },
    {
     "data": {
      "application/vnd.jupyter.widget-view+json": {
       "model_id": "b8e0c0bd85d04c77adebde7f3fdf6423",
       "version_major": 2,
       "version_minor": 0
      },
      "text/plain": [
       "  0%|          | 0/6 [00:00<?, ?it/s]"
      ]
     },
     "metadata": {},
     "output_type": "display_data"
    },
    {
     "data": {
      "application/vnd.jupyter.widget-view+json": {
       "model_id": "ea436515cf5b430c94df2b01724627b3",
       "version_major": 2,
       "version_minor": 0
      },
      "text/plain": [
       "  0%|          | 0/5 [00:00<?, ?it/s]"
      ]
     },
     "metadata": {},
     "output_type": "display_data"
    },
    {
     "data": {
      "application/vnd.jupyter.widget-view+json": {
       "model_id": "d0aa0ae16f0a4fc4b37723562e7755fc",
       "version_major": 2,
       "version_minor": 0
      },
      "text/plain": [
       "  0%|          | 0/5 [00:00<?, ?it/s]"
      ]
     },
     "metadata": {},
     "output_type": "display_data"
    },
    {
     "data": {
      "application/vnd.jupyter.widget-view+json": {
       "model_id": "45cce54ebf3b4144b7e01c74a569410f",
       "version_major": 2,
       "version_minor": 0
      },
      "text/plain": [
       "  0%|          | 0/6 [00:00<?, ?it/s]"
      ]
     },
     "metadata": {},
     "output_type": "display_data"
    },
    {
     "data": {
      "application/vnd.jupyter.widget-view+json": {
       "model_id": "1d86005a8400432da823e554110b01bc",
       "version_major": 2,
       "version_minor": 0
      },
      "text/plain": [
       "  0%|          | 0/2 [00:00<?, ?it/s]"
      ]
     },
     "metadata": {},
     "output_type": "display_data"
    }
   ],
   "source": [
    "'''Collect mean of scores by age group for plotting'''\n",
    "\n",
    "#Train on Map 1, test on Map 2\n",
    "spatialscore1 = []\n",
    "spatialshuffscore1 = []\n",
    "\n",
    "#Train on Map 2, test on Map 1\n",
    "spatialscore2 = []\n",
    "spatialshuffscore2 = []\n",
    "\n",
    "for m, session in zip(mice, sessions):\n",
    "    for s in tdqm(session):\n",
    "        d = data[m][s]\n",
    "        \n",
    "        if d['2map'] == 1: \n",
    "            spatialscores = d['spatialscores']\n",
    "            spatialshuffscores = d['spatialshuffscores']\n",
    "            \n",
    "            #retrieves score where trained & tested on Map 0\n",
    "            spatialscore1 = np.append(spatialscore1, np.mean(spatialscores, axis = 1)[1])\n",
    "            spatialshuffscore1 = np.append(spatialshuffscore1, np.mean(spatialshuffscores, axis = 1)[1])\n",
    "            \n",
    "            #retrieves score where trained & tested on Map 1\n",
    "            spatialscore2 = np.append(spatialscore2, np.mean(spatialscores, axis = 1)[3])\n",
    "            spatialshuffscore2 = np.append(spatialshuffscore2, np.mean(spatialshuffscores, axis = 1)[3])\n",
    "            \n",
    "        else:\n",
    "            spatialscore1 = np.append(spatialscore1, np.nan)\n",
    "            spatialshuffscore1 = np.append(spatialshuffscore1, np.nan)\n",
    "        \n",
    "            spatialscore2 = np.append(spatialscore2, np.nan)\n",
    "            spatialshuffscore2 = np.append(spatialshuffscore2, np.nan)"
   ]
  },
  {
   "cell_type": "code",
   "execution_count": 93,
   "id": "3216a035",
   "metadata": {},
   "outputs": [
    {
     "data": {
      "image/png": "[encoded data removed]",
      "text/plain": [
       "<Figure size 212.5x150 with 1 Axes>"
      ]
     },
     "metadata": {},
     "output_type": "display_data"
    }
   ],
   "source": [
    "''' Plot Figure S5E (right middle) '''\n",
    "\n",
    "fig, ax = plt.subplots(1,1, figsize = (2.125,1.5), sharey = False)\n",
    "labels = ['Young','Aged']\n",
    "w = 0.5\n",
    "ax.set_title('Train Map 1 / Test Map 2', fontsize=10)\n",
    "\n",
    "sscore1_tog = [spatialscore1[y_sindspatial], spatialscore1[age_sindspatial]]\n",
    "ax.boxplot(sscore1_tog, widths = w, labels = labels, medianprops = dict(color = 'black'))\n",
    "ax.hlines(np.mean(spatialshuffscore1[y_sindspatial]), 0.75, 1.25, color = 'C0', linestyle ='dashed', label = 'Young Shuffle')\n",
    "ax.hlines(np.mean(spatialshuffscore1[age_sindspatial]), 1.75, 2.25, color = 'C1', linestyle ='dashed', label = 'Aged Shuffle')\n",
    "ax.set_xlabel('Age', fontsize=9, labelpad=1)\n",
    "ax.set_ylabel('Position Decoding Score', fontsize=9, labelpad=1)\n",
    "ax.set_ylim([0,1])\n",
    "ax.tick_params(labelsize = 8)\n",
    "\n",
    "handles = []\n",
    "for i in range(len(sscore1_tog)):\n",
    "    y = sscore1_tog[i]\n",
    "    x = np.random.normal(i + 1, 0.04, len(y))\n",
    "    ax.scatter(x, y, color = col_sessionspatial[i], edgecolors = col_sessionspatial[i], alpha = 1, s = 10)\n",
    "\n",
    "plt.savefig(save_folder + 'S5Emiddleright.png', dpi=400, bbox_inches='tight')\n",
    "plt.savefig(save_folder + 'S5Emiddleright.svg', dpi=400, bbox_inches='tight')\n",
    "plt.show()"
   ]
  },
  {
   "cell_type": "code",
   "execution_count": 94,
   "id": "0919d632",
   "metadata": {},
   "outputs": [
    {
     "name": "stdout",
     "output_type": "stream",
     "text": [
      "Real RESULTS:\n",
      "meandecoderscore1young ± SEM; meandecoderscore1_old ± SEM\n",
      "0.4315 ± 0.0475 ; 0.2768 ± 0.0398\n",
      "stat = 2.1146674689124456\n",
      "p_session = 0.03445829884931863\n",
      "\n",
      "Shuffle RESULTS:\n",
      "meandecoderscore1young ± SEM; meandecoderscore1_old ± SEM\n",
      "-0.0011 ± 0.0046 ; 0.0065 ± 0.0042\n",
      "stat = -1.1521291727178151\n",
      "p_session = 0.24926799691462942\n",
      "\n",
      "Diff Shuffle vs. Real RESULTS Young:\n",
      "stat = 629.0\n",
      "p_session = 5.820766091346741e-11\n",
      "\n",
      "Diff Shuffle vs. Real RESULTS Aged:\n",
      "stat = 346.0\n",
      "p_session = 1.4901161193847656e-07\n"
     ]
    }
   ],
   "source": [
    "''' Mean Decoder Score Young vs. Aged Train/Test Map 1/2 '''\n",
    "print('Real RESULTS:')\n",
    "print('meandecoderscore1young ± SEM; meandecoderscore1_old ± SEM')\n",
    "print(str(np.round(np.nanmean(spatialscore1[y_sindspatial]), 4)) + ' ± ' + str(np.round(stats.sem(spatialscore1[y_sindspatial]), 4)) + ' ; ' \n",
    "      + str(np.round(np.nanmean(spatialscore1[age_sindspatial]), 4)) + ' ± ' + str(np.round(stats.sem(spatialscore1[age_sindspatial]), 4)))\n",
    "\n",
    "stat, p_diff = stats.ranksums(spatialscore1[y_sindspatial],spatialscore1[age_sindspatial])\n",
    "print('stat = ' + str(stat))\n",
    "print('p_session = ' + str(p_diff))\n",
    "\n",
    "print('\\nShuffle RESULTS:')\n",
    "print('meandecoderscore1young ± SEM; meandecoderscore1_old ± SEM')\n",
    "print(str(np.round(np.nanmean(spatialshuffscore1[y_sindspatial]), 4)) + ' ± ' + str(np.round(stats.sem(spatialshuffscore1[y_sindspatial]), 4)) + ' ; ' \n",
    "      + str(np.round(np.nanmean(spatialshuffscore1[age_sindspatial]), 4)) + ' ± ' + str(np.round(stats.sem(spatialshuffscore1[age_sindspatial]), 4)))\n",
    "\n",
    "stat, p_diff = stats.ranksums(spatialshuffscore1[y_sindspatial],spatialshuffscore1[age_sindspatial])\n",
    "print('stat = ' + str(stat))\n",
    "print('p_session = ' + str(p_diff))\n",
    "\n",
    "print('\\nDiff Shuffle vs. Real RESULTS Young:')\n",
    "stat, p_diff = stats.wilcoxon(spatialscore1[y_sindspatial],spatialshuffscore1[y_sindspatial],alternative = 'greater')\n",
    "print('stat = ' + str(stat))\n",
    "print('p_session = ' + str(p_diff))\n",
    "\n",
    "print('\\nDiff Shuffle vs. Real RESULTS Aged:')\n",
    "stat, p_diff = stats.wilcoxon(spatialscore1[age_sindspatial],spatialshuffscore1[age_sindspatial],alternative = 'greater')\n",
    "print('stat = ' + str(stat))\n",
    "print('p_session = ' + str(p_diff))"
   ]
  },
  {
   "cell_type": "code",
   "execution_count": 95,
   "id": "86869e1a",
   "metadata": {},
   "outputs": [
    {
     "data": {
      "image/png": "[encoded data removed]",
      "text/plain": [
       "<Figure size 212.5x150 with 1 Axes>"
      ]
     },
     "metadata": {},
     "output_type": "display_data"
    }
   ],
   "source": [
    "''' Plot Figure S5E (right) '''\n",
    "\n",
    "fig, ax = plt.subplots(1,1, figsize = (2.125,1.5), sharey = False)\n",
    "labels = ['Young','Aged']\n",
    "w = 0.5\n",
    "ax.set_title('Train Map 2 / Test Map 1', fontsize=10)\n",
    "\n",
    "sscore1_tog = [spatialscore2[y_sindspatial], spatialscore2[age_sindspatial]]\n",
    "ax.boxplot(sscore1_tog, widths = w, labels = labels, medianprops = dict(color = 'black'))\n",
    "ax.hlines(np.mean(spatialshuffscore2[y_sindspatial]), 0.75, 1.25, color = 'C0', linestyle ='dashed', label = 'Young Shuffle')\n",
    "ax.hlines(np.mean(spatialshuffscore2[age_sindspatial]), 1.75, 2.25, color = 'C1', linestyle ='dashed', label = 'Aged Shuffle')\n",
    "ax.set_xlabel('Age', fontsize=9, labelpad=1)\n",
    "ax.set_ylabel('Position Decoding Score', fontsize=9, labelpad=1)\n",
    "ax.set_ylim([0,1])\n",
    "ax.tick_params(labelsize = 8)\n",
    "\n",
    "handles = []\n",
    "for i in range(len(sscore1_tog)):\n",
    "    y = sscore1_tog[i]\n",
    "    x = np.random.normal(i + 1, 0.04, len(y))\n",
    "    ax.scatter(x, y, color = col_sessionspatial[i], edgecolors = col_sessionspatial[i], alpha = 1, s = 10)\n",
    "\n",
    "plt.savefig(save_folder + 'S5Eright.png', dpi=400, bbox_inches='tight')\n",
    "plt.savefig(save_folder + 'S5Eright.svg', dpi=400, bbox_inches='tight')\n",
    "plt.show()"
   ]
  },
  {
   "cell_type": "code",
   "execution_count": 96,
   "id": "134fad0a",
   "metadata": {},
   "outputs": [
    {
     "name": "stdout",
     "output_type": "stream",
     "text": [
      "Real RESULTS:\n",
      "meandecoderscore2young ± SEM; meandecoderscore2_old ± SEM\n",
      "0.4458 ± 0.0475 ; 0.2688 ± 0.0386\n",
      "stat = 2.4500974812226954\n",
      "p_session = 0.01428175439323012\n",
      "\n",
      "Shuffle RESULTS:\n",
      "meandecoderscore2young ± SEM; meandecoderscore2_old ± SEM\n",
      "0.0032 ± 0.0038 ; 0.0089 ± 0.0053\n",
      "stat = -0.4229334937824891\n",
      "p_session = 0.6723437848219764\n",
      "\n",
      "Diff Shuffle vs. Real RESULTS Young:\n",
      "stat = 628.0\n",
      "p_session = 8.731149137020111e-11\n",
      "\n",
      "Diff Shuffle vs. Real RESULTS Aged:\n",
      "stat = 348.0\n",
      "p_session = 7.450580596923828e-08\n"
     ]
    }
   ],
   "source": [
    "''' Mean Decoder Score Young vs. Aged Train/Test Map 2/1 '''\n",
    "print('Real RESULTS:')\n",
    "print('meandecoderscore2young ± SEM; meandecoderscore2_old ± SEM')\n",
    "print(str(np.round(np.nanmean(spatialscore2[y_sindspatial]), 4)) + ' ± ' + str(np.round(stats.sem(spatialscore2[y_sindspatial]), 4)) + ' ; ' \n",
    "      + str(np.round(np.nanmean(spatialscore2[age_sindspatial]), 4)) + ' ± ' + str(np.round(stats.sem(spatialscore2[age_sindspatial]), 4)))\n",
    "\n",
    "stat, p_diff = stats.ranksums(spatialscore2[y_sindspatial],spatialscore2[age_sindspatial])\n",
    "print('stat = ' + str(stat))\n",
    "print('p_session = ' + str(p_diff))\n",
    "\n",
    "print('\\nShuffle RESULTS:')\n",
    "print('meandecoderscore2young ± SEM; meandecoderscore2_old ± SEM')\n",
    "print(str(np.round(np.nanmean(spatialshuffscore2[y_sindspatial]), 4)) + ' ± ' + str(np.round(stats.sem(spatialshuffscore2[y_sindspatial]), 4)) + ' ; ' \n",
    "      + str(np.round(np.nanmean(spatialshuffscore2[age_sindspatial]), 4)) + ' ± ' + str(np.round(stats.sem(spatialshuffscore2[age_sindspatial]), 4)))\n",
    "\n",
    "stat, p_diff = stats.ranksums(spatialshuffscore2[y_sindspatial],spatialshuffscore2[age_sindspatial])\n",
    "print('stat = ' + str(stat))\n",
    "print('p_session = ' + str(p_diff))\n",
    "\n",
    "print('\\nDiff Shuffle vs. Real RESULTS Young:')\n",
    "stat, p_diff = stats.wilcoxon(spatialscore2[y_sindspatial],spatialshuffscore2[y_sindspatial],alternative = 'greater')\n",
    "print('stat = ' + str(stat))\n",
    "print('p_session = ' + str(p_diff))\n",
    "\n",
    "print('\\nDiff Shuffle vs. Real RESULTS Aged:')\n",
    "stat, p_diff = stats.wilcoxon(spatialscore2[age_sindspatial],spatialshuffscore2[age_sindspatial],alternative = 'greater')\n",
    "print('stat = ' + str(stat))\n",
    "print('p_session = ' + str(p_diff))"
   ]
  },
  {
   "cell_type": "code",
   "execution_count": 97,
   "id": "41dfb4ec",
   "metadata": {},
   "outputs": [
    {
     "data": {
      "application/vnd.jupyter.widget-view+json": {
       "model_id": "73adbeefbfbe44b2b5b47502a7548bbe",
       "version_major": 2,
       "version_minor": 0
      },
      "text/plain": [
       "  0%|          | 0/6 [00:00<?, ?it/s]"
      ]
     },
     "metadata": {},
     "output_type": "display_data"
    },
    {
     "data": {
      "application/vnd.jupyter.widget-view+json": {
       "model_id": "40eea1a0016f4c7baa7c411d14332935",
       "version_major": 2,
       "version_minor": 0
      },
      "text/plain": [
       "  0%|          | 0/6 [00:00<?, ?it/s]"
      ]
     },
     "metadata": {},
     "output_type": "display_data"
    },
    {
     "data": {
      "application/vnd.jupyter.widget-view+json": {
       "model_id": "62775aec44894070a8b15e36caefede8",
       "version_major": 2,
       "version_minor": 0
      },
      "text/plain": [
       "  0%|          | 0/6 [00:00<?, ?it/s]"
      ]
     },
     "metadata": {},
     "output_type": "display_data"
    },
    {
     "data": {
      "application/vnd.jupyter.widget-view+json": {
       "model_id": "85cecfa86d8042b68c83da81dba699d7",
       "version_major": 2,
       "version_minor": 0
      },
      "text/plain": [
       "  0%|          | 0/6 [00:00<?, ?it/s]"
      ]
     },
     "metadata": {},
     "output_type": "display_data"
    },
    {
     "data": {
      "application/vnd.jupyter.widget-view+json": {
       "model_id": "d3e4d1bf38e849b883c451ccf9f18454",
       "version_major": 2,
       "version_minor": 0
      },
      "text/plain": [
       "  0%|          | 0/6 [00:00<?, ?it/s]"
      ]
     },
     "metadata": {},
     "output_type": "display_data"
    },
    {
     "data": {
      "application/vnd.jupyter.widget-view+json": {
       "model_id": "ab800def82784a0188151e4ef2de5548",
       "version_major": 2,
       "version_minor": 0
      },
      "text/plain": [
       "  0%|          | 0/6 [00:00<?, ?it/s]"
      ]
     },
     "metadata": {},
     "output_type": "display_data"
    },
    {
     "data": {
      "application/vnd.jupyter.widget-view+json": {
       "model_id": "dbb7d7dac4184209805a858b1a44bb90",
       "version_major": 2,
       "version_minor": 0
      },
      "text/plain": [
       "  0%|          | 0/6 [00:00<?, ?it/s]"
      ]
     },
     "metadata": {},
     "output_type": "display_data"
    },
    {
     "data": {
      "application/vnd.jupyter.widget-view+json": {
       "model_id": "523720fcdbe944c389a29c077670d850",
       "version_major": 2,
       "version_minor": 0
      },
      "text/plain": [
       "  0%|          | 0/5 [00:00<?, ?it/s]"
      ]
     },
     "metadata": {},
     "output_type": "display_data"
    },
    {
     "data": {
      "application/vnd.jupyter.widget-view+json": {
       "model_id": "f7b96b01eef74248a9c99d6810733f59",
       "version_major": 2,
       "version_minor": 0
      },
      "text/plain": [
       "  0%|          | 0/3 [00:00<?, ?it/s]"
      ]
     },
     "metadata": {},
     "output_type": "display_data"
    },
    {
     "data": {
      "application/vnd.jupyter.widget-view+json": {
       "model_id": "ff84abd921914ad3a09d9553712468fe",
       "version_major": 2,
       "version_minor": 0
      },
      "text/plain": [
       "  0%|          | 0/6 [00:00<?, ?it/s]"
      ]
     },
     "metadata": {},
     "output_type": "display_data"
    },
    {
     "data": {
      "application/vnd.jupyter.widget-view+json": {
       "model_id": "f2b668e5449e4faa8107e6efb7626c56",
       "version_major": 2,
       "version_minor": 0
      },
      "text/plain": [
       "  0%|          | 0/6 [00:00<?, ?it/s]"
      ]
     },
     "metadata": {},
     "output_type": "display_data"
    },
    {
     "data": {
      "application/vnd.jupyter.widget-view+json": {
       "model_id": "f6734a3b4c63441ba5bdad2773b73519",
       "version_major": 2,
       "version_minor": 0
      },
      "text/plain": [
       "  0%|          | 0/6 [00:00<?, ?it/s]"
      ]
     },
     "metadata": {},
     "output_type": "display_data"
    },
    {
     "data": {
      "application/vnd.jupyter.widget-view+json": {
       "model_id": "ac7ed68ab57f48c69183472f384d2b84",
       "version_major": 2,
       "version_minor": 0
      },
      "text/plain": [
       "  0%|          | 0/5 [00:00<?, ?it/s]"
      ]
     },
     "metadata": {},
     "output_type": "display_data"
    },
    {
     "data": {
      "application/vnd.jupyter.widget-view+json": {
       "model_id": "3b007716db3b4f38b30b1aff09a5a715",
       "version_major": 2,
       "version_minor": 0
      },
      "text/plain": [
       "  0%|          | 0/5 [00:00<?, ?it/s]"
      ]
     },
     "metadata": {},
     "output_type": "display_data"
    },
    {
     "data": {
      "application/vnd.jupyter.widget-view+json": {
       "model_id": "d9b84186b5b0433baf5c3091f8e81ed8",
       "version_major": 2,
       "version_minor": 0
      },
      "text/plain": [
       "  0%|          | 0/6 [00:00<?, ?it/s]"
      ]
     },
     "metadata": {},
     "output_type": "display_data"
    },
    {
     "data": {
      "application/vnd.jupyter.widget-view+json": {
       "model_id": "d429529be7984704a3baa38025882925",
       "version_major": 2,
       "version_minor": 0
      },
      "text/plain": [
       "  0%|          | 0/2 [00:00<?, ?it/s]"
      ]
     },
     "metadata": {},
     "output_type": "display_data"
    }
   ],
   "source": [
    "'''Collect mean of decoder scores by age group for plotting'''\n",
    "\n",
    "spatialscore0 = [] #Train on Map 1, test on Map 1\n",
    "spatialscore1 = [] #Train on Map 1, test on Map 2\n",
    "spatialscore2 = [] #Train on Map 2, test on Map 2\n",
    "spatialscore3 = [] #Train on Map 2, test on Map 1\n",
    "spatialscore = [] #Train / Test random maps\n",
    "\n",
    "for m, session in zip(mice, sessions):\n",
    "    for s in tdqm(session):\n",
    "        d = data[m][s]\n",
    "        \n",
    "        if d['2map'] == 1: \n",
    "            spatialscores = d['spatialscores']\n",
    "            \n",
    "            #retrieves score where trained & tested on Map 0\n",
    "            spatialscore0 = np.append(spatialscore0, np.mean(spatialscores, axis = 1)[0])\n",
    "            spatialscore1 = np.append(spatialscore1, np.mean(spatialscores, axis = 1)[1])\n",
    "            spatialscore2 = np.append(spatialscore2, np.mean(spatialscores, axis = 1)[2])\n",
    "            spatialscore3 = np.append(spatialscore3, np.mean(spatialscores, axis = 1)[3])\n",
    "            spatialscore = np.append(spatialscore, np.mean(spatialscores, axis = 1)[-1])\n",
    "            \n",
    "        else:\n",
    "            spatialscore0 = np.append(spatialscore0, np.nan)\n",
    "            spatialscore1 = np.append(spatialscore1, np.nan)\n",
    "            spatialscore2 = np.append(spatialscore2, np.nan)\n",
    "            spatialscore3 = np.append(spatialscore3, np.nan)\n",
    "            spatialscore = np.append(spatialscore, np.nan)\n"
   ]
  },
  {
   "cell_type": "code",
   "execution_count": 98,
   "id": "20ee7b73",
   "metadata": {},
   "outputs": [
    {
     "data": {
      "image/png": "[encoded data removed]",
      "text/plain": [
       "<Figure size 260x125 with 2 Axes>"
      ]
     },
     "metadata": {},
     "output_type": "display_data"
    }
   ],
   "source": [
    "'''Plot Results of Training/Testing on the Same vs Different Maps (Figure S5F)'''\n",
    "\n",
    "# plot performance same train/test vs. different train/test\n",
    "f, (ax0, ax1) = plt.subplots(1, 2, figsize=(2.6, 1.25), sharey = True) \n",
    "#f.suptitle('Decoder Performance by Train/Test Pairing & Age Group')\n",
    "\n",
    "DOT_SIZE = 10\n",
    "DOT_LW = 0.5\n",
    "UNITY_WIDTH = 1\n",
    "SEM_WIDTH = 0.8\n",
    "\n",
    "avg_0to0 = spatialscore0\n",
    "avg_0to1 = spatialscore1\n",
    "avg_1to1 = spatialscore2\n",
    "avg_1to0 = spatialscore3\n",
    "avg_rand = spatialscore0\n",
    "\n",
    "# train on map 0, test on map 0 vs. test on map 1\n",
    "ax0.scatter(avg_0to1[y_sindspatial], avg_0to0[y_sindspatial],\n",
    "            facecolors='C0', edgecolors='C0', \n",
    "            s=DOT_SIZE, lw=DOT_LW, zorder=3, label = 'Young')   \n",
    "ax0.scatter(avg_0to1[age_sindspatial], avg_0to0[age_sindspatial],\n",
    "            facecolors='C1', edgecolors='C1', \n",
    "            s=DOT_SIZE, lw=DOT_LW, zorder=3, label = 'Aged')   \n",
    "\n",
    "# train on map 1, test on map 1 vs. test on map 0\n",
    "ax1.scatter(avg_1to1[y_sindspatial], avg_1to0[y_sindspatial],\n",
    "            facecolors='C0', edgecolors='C0', \n",
    "            s=DOT_SIZE, lw=DOT_LW, zorder=3, label = 'Young')\n",
    "ax1.scatter(avg_1to1[age_sindspatial], avg_1to0[age_sindspatial],\n",
    "            facecolors='C1', edgecolors='C1', \n",
    "            s=DOT_SIZE, lw=DOT_LW, zorder=3, label = 'Aged')\n",
    "\n",
    "# plot unity lines + shuffle/best lines\n",
    "ax0.plot([0, 1], [0, 1], '--k', lw=UNITY_WIDTH, alpha=1)\n",
    "ax1.plot([0, 1], [0, 1], '--k', lw=UNITY_WIDTH, alpha=1)\n",
    "\n",
    "# label everything\n",
    "ax0.set_title('Train Map 1', fontsize=10, pad=4)\n",
    "ax0.set_ylabel('Test Map 1', fontsize=9, labelpad=1)\n",
    "ax0.set_xlabel('Test Map 2', fontsize=9, labelpad=1)\n",
    "ax0.set_ylim([-0.05, 1.05])\n",
    "ax0.set_xlim([-0.05, 1.05])\n",
    "ax0.set_xticks([0, 0.5, 1])\n",
    "ax0.set_xticklabels([0, 0.5, 1])\n",
    "ax0.set_yticks([0, 0.5, 1])\n",
    "ax0.set_yticklabels([0, 0.5, 1])\n",
    "\n",
    "ax1.set_title('Train Map 2', fontsize=10, pad=4)\n",
    "#ax1.set_ylabel('Test Map 1', fontsize=9, labelpad=1)\n",
    "ax1.set_xlabel('Test Map 2', fontsize=9, labelpad=1)\n",
    "ax1.set_ylim([-0.05, 1.05])\n",
    "ax1.set_xlim([-0.05, 1.05])\n",
    "ax1.set_xticks([0, 0.5, 1])\n",
    "ax1.set_xticklabels([0, 0.5, 1])\n",
    "ax1.set_yticks([0, 0.5, 1])\n",
    "ax1.set_yticklabels([0, 0.5, 1])\n",
    "\n",
    "ax0.tick_params(which='major', labelsize=8)\n",
    "ax1.tick_params(which='major', labelsize=8)\n",
    "#ax1.legend(fontsize = 8)\n",
    "#ax0.legend(fontsize = 8)\n",
    "\n",
    "f.savefig(save_folder + 'S5F.png', dpi=400, bbox_inches='tight')\n",
    "f.savefig(save_folder + 'S5F.svg', dpi=400, bbox_inches='tight')\n",
    "plt.show()"
   ]
  },
  {
   "cell_type": "code",
   "execution_count": 99,
   "id": "0ec549a4",
   "metadata": {},
   "outputs": [
    {
     "name": "stdout",
     "output_type": "stream",
     "text": [
      "YOUNG train/test map 0 vs. map 1: p = 0.6426687804346658\n",
      "AGED train/test map 0 vs. map 1: p = 0.8547886780140799\n",
      "ALL train/test map 0 vs. map 1: p = 0.8357144486444298\n",
      "\n",
      "YOUNG train/test map 0 vs. map 1 vs. both (Kruskal): p = 0.8657010712698955\n",
      "AGED train/test map 0 vs. map 1 vs. both (Kruskal): p = 0.9777731221940712\n",
      "ALL train/test map 0 vs. map 1 vs. both (Kruskal): p = 0.9716592274665142\n",
      "\n",
      "YOUNG train/test same vs. train/test different: p = 2.1159745168609683e-13\n",
      "n = 70 model pairs\n",
      "\n",
      "AGED train/test same vs. train/test different: p = 5.557094833485794e-10\n",
      "n = 52 model pairs\n",
      "\n",
      "ALL train/test same vs. train/test different: p = 1.5044123596042563e-21\n",
      "n = 122 model pairs\n"
     ]
    }
   ],
   "source": [
    "'''Statistical Comparison of Decoder Scores Train/Test Same vs. Different by Age Group & Together'''\n",
    "\n",
    "allsind = np.union1d(y_sindspatial,age_sindspatial)\n",
    "\n",
    "# train/test map 0 vs. map 1 on young mice\n",
    "m0vsm1_stat, m0vsm1_p = stats.ranksums(avg_0to0[y_sindspatial], avg_1to1[y_sindspatial])\n",
    "print('YOUNG train/test map 0 vs. map 1: p = ' + str(m0vsm1_p))\n",
    "\n",
    "# train/test map 0 vs. map 1 on aged mice\n",
    "m0vsm1_stat, m0vsm1_p = stats.ranksums(avg_0to0[age_sindspatial], avg_1to1[age_sindspatial])\n",
    "print('AGED train/test map 0 vs. map 1: p = ' + str(m0vsm1_p))\n",
    "\n",
    "# train/test map 0 vs. map 1 on both age groups of mice\n",
    "m0vsm1_stat, m0vsm1_p = stats.ranksums(avg_0to0[allsind], avg_1to1[allsind])\n",
    "print('ALL train/test map 0 vs. map 1: p = ' + str(m0vsm1_p))\n",
    "\n",
    "# train/test map 0 vs. map 1 vs. both on young mice\n",
    "m0vsm1_stat, m0vsm1_p = stats.kruskal(avg_0to0[y_sindspatial], avg_1to1[y_sindspatial], avg_rand[y_sindspatial])\n",
    "print('\\nYOUNG train/test map 0 vs. map 1 vs. both (Kruskal): p = ' + str(m0vsm1_p))\n",
    "\n",
    "# train/test map 0 vs. map 1 vs. both on aged mice\n",
    "m0vsm1_stat, m0vsm1_p = stats.kruskal(avg_0to0[age_sindspatial], avg_1to1[age_sindspatial], avg_rand[age_sindspatial])\n",
    "print('AGED train/test map 0 vs. map 1 vs. both (Kruskal): p = ' + str(m0vsm1_p))\n",
    "\n",
    "# train/test map 0 vs. map 1 vs. both on both age groups of mice\n",
    "m0vsm1_stat, m0vsm1_p = stats.kruskal(avg_0to0[allsind], avg_1to1[allsind], avg_rand[allsind])\n",
    "print('ALL train/test map 0 vs. map 1 vs. both (Kruskal): p = ' + str(m0vsm1_p))\n",
    "\n",
    "# train/test same map vs. other map\n",
    "same_to_same = np.append(avg_0to0[y_sindspatial], avg_1to1[y_sindspatial])\n",
    "diff_to_diff = np.append(avg_0to1[y_sindspatial], avg_1to0[y_sindspatial])\n",
    "sameVSdiff_stat, sameVSdiff_p = stats.wilcoxon(same_to_same, diff_to_diff, alternative = 'greater')\n",
    "print('\\nYOUNG train/test same vs. train/test different: p = ' + str(sameVSdiff_p))\n",
    "print('n = ' + str(same_to_same.shape[0]) + ' model pairs')\n",
    "\n",
    "same_to_same = np.append(avg_0to0[age_sindspatial], avg_1to1[age_sindspatial])\n",
    "diff_to_diff = np.append(avg_0to1[age_sindspatial], avg_1to0[age_sindspatial])\n",
    "sameVSdiff_stat, sameVSdiff_p = stats.wilcoxon(same_to_same, diff_to_diff, alternative = 'greater')\n",
    "print('\\nAGED train/test same vs. train/test different: p = ' + str(sameVSdiff_p))\n",
    "print('n = ' + str(same_to_same.shape[0]) + ' model pairs')\n",
    "\n",
    "same_to_same = np.append(avg_0to0[allsind], avg_1to1[allsind])\n",
    "diff_to_diff = np.append(avg_0to1[allsind], avg_1to0[allsind])\n",
    "sameVSdiff_stat, sameVSdiff_p = stats.wilcoxon(same_to_same, diff_to_diff, alternative = 'greater')\n",
    "print('\\nALL train/test same vs. train/test different: p = ' + str(sameVSdiff_p))\n",
    "print('n = ' + str(same_to_same.shape[0]) + ' model pairs')"
   ]
  },
  {
   "cell_type": "code",
   "execution_count": null,
   "id": "6285f850",
   "metadata": {},
   "outputs": [],
   "source": []
  }
 ],
 "metadata": {
  "kernelspec": {
   "display_name": "Python 3 (ipykernel)",
   "language": "python",
   "name": "python3"
  },
  "language_info": {
   "codemirror_mode": {
    "name": "ipython",
    "version": 3
   },
   "file_extension": ".py",
   "mimetype": "text/x-python",
   "name": "python",
   "nbconvert_exporter": "python",
   "pygments_lexer": "ipython3",
   "version": "3.8.16"
  }
 },
 "nbformat": 4,
 "nbformat_minor": 5
}
