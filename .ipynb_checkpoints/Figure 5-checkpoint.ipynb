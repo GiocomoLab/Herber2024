{
 "cells": [
  {
   "cell_type": "markdown",
   "id": "85ef532d",
   "metadata": {},
   "source": [
    "# Setup"
   ]
  },
  {
   "cell_type": "code",
   "execution_count": 1,
   "id": "150cbbbd",
   "metadata": {},
   "outputs": [],
   "source": [
    "''' magic 4u'''\n",
    "%load_ext autoreload\n",
    "%autoreload 2"
   ]
  },
  {
   "cell_type": "code",
   "execution_count": 2,
   "id": "26fe5437",
   "metadata": {},
   "outputs": [],
   "source": [
    "'''Get Stuff You Need'''\n",
    "import numpy as np\n",
    "import math as math\n",
    "from tqdm import tnrange\n",
    "from tqdm.notebook import tqdm as tdqm\n",
    "import matplotlib.pyplot as plt\n",
    "import matplotlib as mpl\n",
    "mpl.rcParams.update(mpl.rcParamsDefault)\n",
    "from matplotlib import gridspec\n",
    "from scipy.interpolate import interp1d\n",
    "from scipy.ndimage import gaussian_filter1d\n",
    "from scipy import stats\n",
    "import scipy.io\n",
    "import scipy.ndimage.filters as filt\n",
    "import pandas as pd\n",
    "import seaborn as sns\n",
    "\n",
    "from pipeline import get_data as get\n",
    "from pipeline import process_spikes as ps\n",
    "\n",
    "from statsmodels.tsa.stattools import acf\n",
    "from scipy.signal import find_peaks\n",
    "from itertools import combinations"
   ]
  },
  {
   "cell_type": "code",
   "execution_count": 3,
   "id": "b6363012",
   "metadata": {},
   "outputs": [],
   "source": [
    "''' Define plotting defaults '''\n",
    "\n",
    "from matplotlib import rc \n",
    "mpl.rcParams['font.sans-serif'] = 'Arial'\n",
    "mpl.rcParams['font.family'] = 'sans-serif'\n",
    "mpl.rcParams['svg.fonttype'] = 'none'"
   ]
  },
  {
   "cell_type": "code",
   "execution_count": 4,
   "id": "5204f67e",
   "metadata": {},
   "outputs": [
    {
     "data": {
      "text/html": [
       "<div>\n",
       "<style scoped>\n",
       "    .dataframe tbody tr th:only-of-type {\n",
       "        vertical-align: middle;\n",
       "    }\n",
       "\n",
       "    .dataframe tbody tr th {\n",
       "        vertical-align: top;\n",
       "    }\n",
       "\n",
       "    .dataframe thead th {\n",
       "        text-align: right;\n",
       "    }\n",
       "</style>\n",
       "<table border=\"1\" class=\"dataframe\">\n",
       "  <thead>\n",
       "    <tr style=\"text-align: right;\">\n",
       "      <th></th>\n",
       "      <th>Animal_ID</th>\n",
       "      <th>Task</th>\n",
       "      <th>Cohort</th>\n",
       "      <th>Probe_Control</th>\n",
       "      <th>Sex</th>\n",
       "      <th>Sac_Date</th>\n",
       "      <th>Frozen_Hemisphere</th>\n",
       "      <th>DOB</th>\n",
       "      <th>Age_WholeMonth</th>\n",
       "      <th>Age_ExtraDays</th>\n",
       "      <th>Age_Month</th>\n",
       "      <th>Aged_Days</th>\n",
       "      <th>Age_Group</th>\n",
       "      <th>Behavior_Sessions</th>\n",
       "      <th>Neural_Sessions</th>\n",
       "    </tr>\n",
       "  </thead>\n",
       "  <tbody>\n",
       "    <tr>\n",
       "      <th>0</th>\n",
       "      <td>A3</td>\n",
       "      <td>RF</td>\n",
       "      <td>A</td>\n",
       "      <td>0</td>\n",
       "      <td>F</td>\n",
       "      <td>1/27/2021</td>\n",
       "      <td>R</td>\n",
       "      <td>4/23/2019</td>\n",
       "      <td>21</td>\n",
       "      <td>4</td>\n",
       "      <td>21.217</td>\n",
       "      <td>645</td>\n",
       "      <td>3</td>\n",
       "      <td>6</td>\n",
       "      <td>6</td>\n",
       "    </tr>\n",
       "    <tr>\n",
       "      <th>1</th>\n",
       "      <td>A4</td>\n",
       "      <td>RF</td>\n",
       "      <td>A</td>\n",
       "      <td>0</td>\n",
       "      <td>F</td>\n",
       "      <td>1/27/2021</td>\n",
       "      <td>R</td>\n",
       "      <td>4/23/2019</td>\n",
       "      <td>21</td>\n",
       "      <td>4</td>\n",
       "      <td>21.217</td>\n",
       "      <td>645</td>\n",
       "      <td>3</td>\n",
       "      <td>6</td>\n",
       "      <td>6</td>\n",
       "    </tr>\n",
       "    <tr>\n",
       "      <th>2</th>\n",
       "      <td>A5</td>\n",
       "      <td>RF</td>\n",
       "      <td>A</td>\n",
       "      <td>0</td>\n",
       "      <td>F</td>\n",
       "      <td>4/6/2021</td>\n",
       "      <td>L</td>\n",
       "      <td>4/23/2019</td>\n",
       "      <td>23</td>\n",
       "      <td>14</td>\n",
       "      <td>23.487</td>\n",
       "      <td>714</td>\n",
       "      <td>3</td>\n",
       "      <td>6</td>\n",
       "      <td>6</td>\n",
       "    </tr>\n",
       "    <tr>\n",
       "      <th>3</th>\n",
       "      <td>A6</td>\n",
       "      <td>RF</td>\n",
       "      <td>A</td>\n",
       "      <td>0</td>\n",
       "      <td>F</td>\n",
       "      <td>4/6/2021</td>\n",
       "      <td>R</td>\n",
       "      <td>4/23/2019</td>\n",
       "      <td>23</td>\n",
       "      <td>14</td>\n",
       "      <td>23.487</td>\n",
       "      <td>714</td>\n",
       "      <td>3</td>\n",
       "      <td>6</td>\n",
       "      <td>6</td>\n",
       "    </tr>\n",
       "    <tr>\n",
       "      <th>4</th>\n",
       "      <td>A7</td>\n",
       "      <td>RF</td>\n",
       "      <td>A</td>\n",
       "      <td>0</td>\n",
       "      <td>F</td>\n",
       "      <td>4/19/2021</td>\n",
       "      <td>L</td>\n",
       "      <td>5/29/2019</td>\n",
       "      <td>22</td>\n",
       "      <td>21</td>\n",
       "      <td>22.730</td>\n",
       "      <td>691</td>\n",
       "      <td>3</td>\n",
       "      <td>6</td>\n",
       "      <td>6</td>\n",
       "    </tr>\n",
       "  </tbody>\n",
       "</table>\n",
       "</div>"
      ],
      "text/plain": [
       "  Animal_ID Task Cohort  Probe_Control Sex   Sac_Date Frozen_Hemisphere  \\\n",
       "0        A3   RF      A              0   F  1/27/2021                 R   \n",
       "1        A4   RF      A              0   F  1/27/2021                 R   \n",
       "2        A5   RF      A              0   F   4/6/2021                 L   \n",
       "3        A6   RF      A              0   F   4/6/2021                 R   \n",
       "4        A7   RF      A              0   F  4/19/2021                 L   \n",
       "\n",
       "         DOB  Age_WholeMonth  Age_ExtraDays  Age_Month  Aged_Days  Age_Group  \\\n",
       "0  4/23/2019              21              4     21.217        645          3   \n",
       "1  4/23/2019              21              4     21.217        645          3   \n",
       "2  4/23/2019              23             14     23.487        714          3   \n",
       "3  4/23/2019              23             14     23.487        714          3   \n",
       "4  5/29/2019              22             21     22.730        691          3   \n",
       "\n",
       "   Behavior_Sessions  Neural_Sessions  \n",
       "0                  6                6  \n",
       "1                  6                6  \n",
       "2                  6                6  \n",
       "3                  6                6  \n",
       "4                  6                6  "
      ]
     },
     "execution_count": 4,
     "metadata": {},
     "output_type": "execute_result"
    }
   ],
   "source": [
    "''' Load in Animal Metadata '''\n",
    "\n",
    "animalmeta = pd.read_csv('C:/Users/Python/Desktop/Dryad/MouseMetadata.csv') # adjust path name\n",
    "\n",
    "# define some useful lists of animals based on metadata\n",
    "all_aged_mice = np.array(animalmeta.loc[(animalmeta.Age_Group == 3),'Animal_ID'])\n",
    "all_MA_mice = np.array(animalmeta.loc[(animalmeta.Age_Group == 2),'Animal_ID'])\n",
    "all_young_mice = np.array(animalmeta.loc[(animalmeta.Age_Group == 1),'Animal_ID'])\n",
    "\n",
    "cohorta_mice = np.array(animalmeta.loc[(animalmeta.Cohort == 'A'),'Animal_ID'])\n",
    "cohortb_mice = np.array(animalmeta.loc[(animalmeta.Cohort == 'B'),'Animal_ID'])\n",
    "cohortc_mice = np.array(animalmeta.loc[(animalmeta.Cohort == 'C'),'Animal_ID'])\n",
    "cohortd_mice = np.array(animalmeta.loc[(animalmeta.Cohort == 'D'),'Animal_ID'])\n",
    "\n",
    "RF_aged_mice = np.array(animalmeta.loc[(animalmeta.Age_Group == 3) & (animalmeta.Task == 'RF'),'Animal_ID'])\n",
    "RF_young_mice = np.array(animalmeta.loc[(animalmeta.Age_Group == 1) & (animalmeta.Task == 'RF'),'Animal_ID'])\n",
    "SM_aged_mice = np.array(animalmeta.loc[(animalmeta.Age_Group == 3) & (animalmeta.Task == 'SM'),'Animal_ID'])\n",
    "SM_MA_mice = np.array(animalmeta.loc[(animalmeta.Age_Group == 2) & (animalmeta.Task == 'SM'),'Animal_ID'])\n",
    "SM_young_mice = np.array(animalmeta.loc[(animalmeta.Age_Group == 1) & (animalmeta.Task == 'SM'),'Animal_ID'])\n",
    "\n",
    "all_female_mice = np.array(animalmeta.loc[(animalmeta.Sex == 'F'),'Animal_ID'])\n",
    "all_male_mice = np.array(animalmeta.loc[(animalmeta.Sex == 'M'), 'Animal_ID'])\n",
    "RF_female_mice = np.array(animalmeta.loc[(animalmeta.Sex == 'F') & (animalmeta.Task == 'RF'),'Animal_ID'])\n",
    "RF_male_mice = np.array(animalmeta.loc[(animalmeta.Sex == 'M') & (animalmeta.Task == 'RF'),'Animal_ID'])\n",
    "SM_female_mice = np.array(animalmeta.loc[(animalmeta.Sex == 'F') & (animalmeta.Task == 'SM'),'Animal_ID'])\n",
    "SM_male_mice = np.array(animalmeta.loc[(animalmeta.Sex == 'M') & (animalmeta.Task == 'SM'),'Animal_ID'])\n",
    "\n",
    "animalmeta.head()"
   ]
  },
  {
   "cell_type": "code",
   "execution_count": 5,
   "id": "2b8928bb",
   "metadata": {},
   "outputs": [],
   "source": [
    "''' Complete List of Mice & Neural Sessions '''\n",
    "all_mice = np.array(animalmeta.Animal_ID)\n",
    "\n",
    "all_sessions = ([['0122_record1','0123_record2','0124_record3','0125_record4','0126_record5','0127_record6'], \n",
    "             ['0122_record1','0123_record2','0124_record3','0125_record4','0126_record5','0127_record6'],\n",
    "             ['0401_record1','0401_record2b','0403_record3','0404_record4','0405_record5','0406_record6'],\n",
    "             ['0401_record1','0402_record2','0403_record3','0404_record4','0405_record5','0406_record6'],\n",
    "             ['0414_record1','0415_record2','0416_record3','0417_record4','0418_record5','0419_record6'],\n",
    "             ['1024_record1','1025_record2','1026_record3','1027_record4','1028_record5_2'], #Y2_6 excluded\n",
    "             ['1016_record1','1019_record3','1020_record4','1021_record5','1022_record6'], #Y3_2 not collected\n",
    "             ['1114_record1','1115_record2','1116_record3','1117_record4','1118_record5','1119_record6'], # end cohort A\n",
    "             ['051822_record1','051922_record2', '052022_record3','052122_record4','052222_record5','052322_record6'], \n",
    "             ['050522_record1','050622_record2','050722_record3','050822_record4','050922_record5','051022_record6'],\n",
    "             ['050522_record1','050622_record2','050722_record3','050822_record4','051022_record6'], #Y11_5 not collected\n",
    "             ['062222_record3','062322_record4','062522_record5'], #Y16_1 & 2 not collected, neural _6 excluded\n",
    "             ['062822_record1','062922_record2','063022_record3','070122_record4','070222_record5','070322_record6'],\n",
    "             ['062022_record1','062122_record2','062222_record3','062322_record4','062522_record5','062622_record6'],\n",
    "             ['062822_record1','062922_record2','063022_record3','070122_record4','070222_record5','070322_record6'], \n",
    "             ['051922_record2','052022_record3'], # Y9 051822_1 excluded, end cohort B\n",
    "             ['083022_record1','083122_record2','090122_record3'], \n",
    "             ['083022_record1','083122_record2','090122_record3','090222_record4','090322_record5','090422_record6'],\n",
    "             ['083022_record1','083122_record2','090122_record3','090222_record4'], #behavior of A16_4, both of 5 excluded, 6 not collected \n",
    "             ['082322_record1','082422_record2','082522_record3','082622_record4','082722_record5','082822_record6'],\n",
    "             ['082322_record1real','082422_record2','082522_record3','082622_record4','082722_record5','082822_record6'],\n",
    "             ['102322_record1','102422_record2','102522_record3','102622_record4','102722_record5','102822_record6'],\n",
    "             ['102322_record1','102422_record2','102522_record3','102622_record4','102722_record5','102822_record6'],\n",
    "             ['102322_record1','102422_record2','102522_record3','102622_record4','102722_record5','102822_record6'],\n",
    "             ['103122_record2','110122_record3','110222_record4','110322_record5rep','110422_record6','110522_record7'], #behavior of MA4M6, 7 excluded\n",
    "             ['110622_record1','110722_record2','110822_record3','110922_record4','111022_record5','111122_record6'],\n",
    "             ['103022_record1','103122_record2','110122_record3','110222_record4','110322_record5','110422_record6'],\n",
    "             ['103022_record1','103122_record2','110122_record3','110222_record4'], #behavior of MA7_4, both 5 excluded, 6 not collected\n",
    "             ['111322_record1','111422_record2','111522_record3','111622_record4','111722_record5','111822_record6'],\n",
    "             ['111322_record1','111422_record2','111522_record3','111622_record4','111722_record5','111822_record6'],\n",
    "             ['111322_record1','111422_record2','111522_record3','111622_record4','111722_record5','111822_record6'], \n",
    "             ['092522_record1','092622_record2','092722_record3','092822_record4','092922_record5','093022_record6'],\n",
    "             ['091822_record1','091922_record2','092022_record3','092122_record4','092222_record5','092322_record6'],\n",
    "             ['092522_record1','092622_record2','092722_record3','092822_record4','092922_record5','093022_record6'],\n",
    "             ['092522_record1','092622_record2','092722_record3','092822_record4','092922_record5','093022_record6'],\n",
    "             ['091822_record1','091922_record2','092022_record3','092122_record4','092222_record5','092322_record6'], #end cohortc\n",
    "             ['012723_record2','012823_record3','012923_record4','013023_record5','013123_record6','020123_record7'],\n",
    "             ['012623_record1','012723_record2','012823_record3','012923_record4','013023_record5','013123_record6'],\n",
    "             ['012923_record2','013023_record3','013123_record4','020123_record5','020223_record6','020323_record7'],\n",
    "             ['020923_record1','021023_record2','021123_record3','021223_record4','021323_record5','021423_record6'],\n",
    "             ['022623_record1','022723_record2','022823_record3','030123_record4','030223_record5','030323_record6'],\n",
    "             ['021623_record1','021723_record2','021823_record3','021923_record4','022023_record5','022123_record6'],\n",
    "             ['021623_record1','021723_record2','021823_record3','021923_record4','022023_record5','022123_record6'],\n",
    "             ['021623_record1','021723_record2','021823_record3','021923_record4','022023_record5rep','022123_record6'],\n",
    "             ['022623_record1','022723_record2','022823_record3','030123_record4','030223_record5','030323_record6'] #end cohort d \n",
    "            ]) #list of sessions"
   ]
  },
  {
   "cell_type": "code",
   "execution_count": 6,
   "id": "7938310e",
   "metadata": {},
   "outputs": [],
   "source": [
    "'''Define which mice & sessions to load based on metadata'''\n",
    "# Define mice, sessions for particular cohorts\n",
    "mice , mice_ind, _  = np.intersect1d(all_mice,(np.union1d(cohorta_mice, cohortb_mice)), return_indices = True) # RF mice \n",
    "\n",
    "sessions = []\n",
    "for i in mice_ind:\n",
    "    sessions.append(all_sessions[i])\n",
    "\n",
    "# Make a dict to hold data\n",
    "data = {}\n",
    "\n",
    "for session, m in zip(sessions, mice):\n",
    "    data[m] = {}\n",
    "    \n",
    "    for s in session:\n",
    "        data[m][s] = {}"
   ]
  },
  {
   "cell_type": "markdown",
   "id": "e401fb77",
   "metadata": {},
   "source": [
    "# Edit these paths"
   ]
  },
  {
   "cell_type": "code",
   "execution_count": 7,
   "id": "dbe3b073",
   "metadata": {},
   "outputs": [],
   "source": [
    "#Inputs\n",
    "load_folder = 'C:/Users/Python/Desktop/LocalData/filtered/' # adjust path to match output of Import & Filter\n",
    "shuffload_folder1 = 'C:/Users/Python/Desktop/Dryad/shuffle_scores/sparsity/' # adjust to match location of this Dryad repo folder\n",
    "shuffload_folder2 = 'C:/Users/Python/Desktop/Dryad/shuffle_scores/coherence/' # adjust to match location of this Dryad repo folder\n",
    "fig2s3_folder = 'C:/Users/Python/Desktop/LocalData/Figure2S3/' # adjust to match Figure 2/S3 output folder\n",
    "fig3s4_folder = 'C:/Users/Python/Desktop/LocalData/Figure3S4/' # adjust to match Figure 3/S4 output folder\n",
    "int_save_folder = 'C:/Users/Python/Desktop/LocalData/FigureS6/' # adjust to match Shuffle Procedure output plotsave_folder\n",
    "\n",
    "#Output (create folder to hold the output of this notebook; then match the name of this repository below)\n",
    "save_folder = 'C:/Users/Python/Desktop/LocalData/Figure5/' "
   ]
  },
  {
   "cell_type": "code",
   "execution_count": 8,
   "id": "8ab98051",
   "metadata": {
    "scrolled": true
   },
   "outputs": [
    {
     "data": {
      "application/vnd.jupyter.widget-view+json": {
       "model_id": "4ba9aa0f206540b995a1fc720eb65064",
       "version_major": 2,
       "version_minor": 0
      },
      "text/plain": [
       "  0%|          | 0/6 [00:00<?, ?it/s]"
      ]
     },
     "metadata": {},
     "output_type": "display_data"
    },
    {
     "data": {
      "application/vnd.jupyter.widget-view+json": {
       "model_id": "a3f7931cd9f845dea3812ed7d789662e",
       "version_major": 2,
       "version_minor": 0
      },
      "text/plain": [
       "  0%|          | 0/6 [00:00<?, ?it/s]"
      ]
     },
     "metadata": {},
     "output_type": "display_data"
    },
    {
     "data": {
      "application/vnd.jupyter.widget-view+json": {
       "model_id": "abda5ed1d23c4ca6892c9a2ae6505303",
       "version_major": 2,
       "version_minor": 0
      },
      "text/plain": [
       "  0%|          | 0/6 [00:00<?, ?it/s]"
      ]
     },
     "metadata": {},
     "output_type": "display_data"
    },
    {
     "data": {
      "application/vnd.jupyter.widget-view+json": {
       "model_id": "bf59a5f3dd6a41e6bfe0c2edf0dd9ce9",
       "version_major": 2,
       "version_minor": 0
      },
      "text/plain": [
       "  0%|          | 0/6 [00:00<?, ?it/s]"
      ]
     },
     "metadata": {},
     "output_type": "display_data"
    },
    {
     "data": {
      "application/vnd.jupyter.widget-view+json": {
       "model_id": "30275d8df30247acb0f14821bffb3a7c",
       "version_major": 2,
       "version_minor": 0
      },
      "text/plain": [
       "  0%|          | 0/6 [00:00<?, ?it/s]"
      ]
     },
     "metadata": {},
     "output_type": "display_data"
    },
    {
     "data": {
      "application/vnd.jupyter.widget-view+json": {
       "model_id": "3cd8d155bd144d9c987d67fc3d3be9b9",
       "version_major": 2,
       "version_minor": 0
      },
      "text/plain": [
       "  0%|          | 0/6 [00:00<?, ?it/s]"
      ]
     },
     "metadata": {},
     "output_type": "display_data"
    },
    {
     "data": {
      "application/vnd.jupyter.widget-view+json": {
       "model_id": "cbcc33dcbf41468a8b41ae342c233a4f",
       "version_major": 2,
       "version_minor": 0
      },
      "text/plain": [
       "  0%|          | 0/6 [00:00<?, ?it/s]"
      ]
     },
     "metadata": {},
     "output_type": "display_data"
    },
    {
     "data": {
      "application/vnd.jupyter.widget-view+json": {
       "model_id": "871834e7f85c4be69d1b57ed234eb0ff",
       "version_major": 2,
       "version_minor": 0
      },
      "text/plain": [
       "  0%|          | 0/5 [00:00<?, ?it/s]"
      ]
     },
     "metadata": {},
     "output_type": "display_data"
    },
    {
     "data": {
      "application/vnd.jupyter.widget-view+json": {
       "model_id": "eca524e5a16840a6948384c8a1c54740",
       "version_major": 2,
       "version_minor": 0
      },
      "text/plain": [
       "  0%|          | 0/3 [00:00<?, ?it/s]"
      ]
     },
     "metadata": {},
     "output_type": "display_data"
    },
    {
     "data": {
      "application/vnd.jupyter.widget-view+json": {
       "model_id": "6a5498b1b5944374b9a4db228fb507c4",
       "version_major": 2,
       "version_minor": 0
      },
      "text/plain": [
       "  0%|          | 0/6 [00:00<?, ?it/s]"
      ]
     },
     "metadata": {},
     "output_type": "display_data"
    },
    {
     "data": {
      "application/vnd.jupyter.widget-view+json": {
       "model_id": "fd1b10e62e1d4f7cbe11405c10b62972",
       "version_major": 2,
       "version_minor": 0
      },
      "text/plain": [
       "  0%|          | 0/6 [00:00<?, ?it/s]"
      ]
     },
     "metadata": {},
     "output_type": "display_data"
    },
    {
     "data": {
      "application/vnd.jupyter.widget-view+json": {
       "model_id": "b1179a160a4d44c0990879ea52af4dee",
       "version_major": 2,
       "version_minor": 0
      },
      "text/plain": [
       "  0%|          | 0/6 [00:00<?, ?it/s]"
      ]
     },
     "metadata": {},
     "output_type": "display_data"
    },
    {
     "data": {
      "application/vnd.jupyter.widget-view+json": {
       "model_id": "134abacc513a4279a84ad9559beaac97",
       "version_major": 2,
       "version_minor": 0
      },
      "text/plain": [
       "  0%|          | 0/5 [00:00<?, ?it/s]"
      ]
     },
     "metadata": {},
     "output_type": "display_data"
    },
    {
     "data": {
      "application/vnd.jupyter.widget-view+json": {
       "model_id": "b8c0c5b94719443695efa580f8e13f2f",
       "version_major": 2,
       "version_minor": 0
      },
      "text/plain": [
       "  0%|          | 0/5 [00:00<?, ?it/s]"
      ]
     },
     "metadata": {},
     "output_type": "display_data"
    },
    {
     "data": {
      "application/vnd.jupyter.widget-view+json": {
       "model_id": "4c1101fa7ace434cbed82b41ceb84955",
       "version_major": 2,
       "version_minor": 0
      },
      "text/plain": [
       "  0%|          | 0/6 [00:00<?, ?it/s]"
      ]
     },
     "metadata": {},
     "output_type": "display_data"
    },
    {
     "data": {
      "application/vnd.jupyter.widget-view+json": {
       "model_id": "b3681bf6bbc84a35b56806eab2dd0468",
       "version_major": 2,
       "version_minor": 0
      },
      "text/plain": [
       "  0%|          | 0/2 [00:00<?, ?it/s]"
      ]
     },
     "metadata": {},
     "output_type": "display_data"
    },
    {
     "name": "stdout",
     "output_type": "stream",
     "text": [
      "10590 10338\n"
     ]
    }
   ],
   "source": [
    "''' Total Number of RF Cells'''\n",
    "\n",
    "young_count = 0\n",
    "age_count = 0\n",
    "\n",
    "for m, session in zip(mice, sessions):\n",
    "    for s in tdqm(session):\n",
    "        d = data[m][s]\n",
    "        \n",
    "        #Load scores, intn boolean to filter out interneurons\n",
    "        rawdata_file = 'RAW_' + m + '_' + s + '.npy'\n",
    "        raw = np.load(load_folder + rawdata_file, allow_pickle=True)\n",
    "        cell_IDs = raw.item().get('cellsfil')\n",
    "        \n",
    "        if m in RF_aged_mice:\n",
    "            age_count += len(cell_IDs)\n",
    "        else:\n",
    "            young_count += len(cell_IDs)\n",
    "            \n",
    "print(young_count, age_count)"
   ]
  },
  {
   "cell_type": "markdown",
   "id": "ab6acf29",
   "metadata": {},
   "source": [
    "# Classify spatial cells using shuffle results OR skip to the next section.\n",
    "\n",
    "You'll only need to run this section only once in order to generate spatial cell booleans for these sessions."
   ]
  },
  {
   "cell_type": "code",
   "execution_count": 9,
   "id": "58e25dee",
   "metadata": {},
   "outputs": [
    {
     "data": {
      "application/vnd.jupyter.widget-view+json": {
       "model_id": "",
       "version_major": 2,
       "version_minor": 0
      },
      "text/plain": [
       "  0%|          | 0/6 [00:00<?, ?it/s]"
      ]
     },
     "metadata": {},
     "output_type": "display_data"
    },
    {
     "data": {
      "application/vnd.jupyter.widget-view+json": {
       "model_id": "",
       "version_major": 2,
       "version_minor": 0
      },
      "text/plain": [
       "  0%|          | 0/6 [00:00<?, ?it/s]"
      ]
     },
     "metadata": {},
     "output_type": "display_data"
    },
    {
     "data": {
      "application/vnd.jupyter.widget-view+json": {
       "model_id": "",
       "version_major": 2,
       "version_minor": 0
      },
      "text/plain": [
       "  0%|          | 0/6 [00:00<?, ?it/s]"
      ]
     },
     "metadata": {},
     "output_type": "display_data"
    },
    {
     "data": {
      "application/vnd.jupyter.widget-view+json": {
       "model_id": "",
       "version_major": 2,
       "version_minor": 0
      },
      "text/plain": [
       "  0%|          | 0/6 [00:00<?, ?it/s]"
      ]
     },
     "metadata": {},
     "output_type": "display_data"
    },
    {
     "data": {
      "application/vnd.jupyter.widget-view+json": {
       "model_id": "",
       "version_major": 2,
       "version_minor": 0
      },
      "text/plain": [
       "  0%|          | 0/6 [00:00<?, ?it/s]"
      ]
     },
     "metadata": {},
     "output_type": "display_data"
    },
    {
     "data": {
      "application/vnd.jupyter.widget-view+json": {
       "model_id": "",
       "version_major": 2,
       "version_minor": 0
      },
      "text/plain": [
       "  0%|          | 0/6 [00:00<?, ?it/s]"
      ]
     },
     "metadata": {},
     "output_type": "display_data"
    },
    {
     "data": {
      "application/vnd.jupyter.widget-view+json": {
       "model_id": "",
       "version_major": 2,
       "version_minor": 0
      },
      "text/plain": [
       "  0%|          | 0/6 [00:00<?, ?it/s]"
      ]
     },
     "metadata": {},
     "output_type": "display_data"
    },
    {
     "data": {
      "application/vnd.jupyter.widget-view+json": {
       "model_id": "",
       "version_major": 2,
       "version_minor": 0
      },
      "text/plain": [
       "  0%|          | 0/5 [00:00<?, ?it/s]"
      ]
     },
     "metadata": {},
     "output_type": "display_data"
    },
    {
     "data": {
      "application/vnd.jupyter.widget-view+json": {
       "model_id": "",
       "version_major": 2,
       "version_minor": 0
      },
      "text/plain": [
       "  0%|          | 0/3 [00:00<?, ?it/s]"
      ]
     },
     "metadata": {},
     "output_type": "display_data"
    },
    {
     "data": {
      "application/vnd.jupyter.widget-view+json": {
       "model_id": "",
       "version_major": 2,
       "version_minor": 0
      },
      "text/plain": [
       "  0%|          | 0/6 [00:00<?, ?it/s]"
      ]
     },
     "metadata": {},
     "output_type": "display_data"
    },
    {
     "data": {
      "application/vnd.jupyter.widget-view+json": {
       "model_id": "",
       "version_major": 2,
       "version_minor": 0
      },
      "text/plain": [
       "  0%|          | 0/6 [00:00<?, ?it/s]"
      ]
     },
     "metadata": {},
     "output_type": "display_data"
    },
    {
     "data": {
      "application/vnd.jupyter.widget-view+json": {
       "model_id": "",
       "version_major": 2,
       "version_minor": 0
      },
      "text/plain": [
       "  0%|          | 0/6 [00:00<?, ?it/s]"
      ]
     },
     "metadata": {},
     "output_type": "display_data"
    },
    {
     "data": {
      "application/vnd.jupyter.widget-view+json": {
       "model_id": "",
       "version_major": 2,
       "version_minor": 0
      },
      "text/plain": [
       "  0%|          | 0/5 [00:00<?, ?it/s]"
      ]
     },
     "metadata": {},
     "output_type": "display_data"
    },
    {
     "data": {
      "application/vnd.jupyter.widget-view+json": {
       "model_id": "",
       "version_major": 2,
       "version_minor": 0
      },
      "text/plain": [
       "  0%|          | 0/5 [00:00<?, ?it/s]"
      ]
     },
     "metadata": {},
     "output_type": "display_data"
    },
    {
     "data": {
      "application/vnd.jupyter.widget-view+json": {
       "model_id": "",
       "version_major": 2,
       "version_minor": 0
      },
      "text/plain": [
       "  0%|          | 0/6 [00:00<?, ?it/s]"
      ]
     },
     "metadata": {},
     "output_type": "display_data"
    },
    {
     "data": {
      "application/vnd.jupyter.widget-view+json": {
       "model_id": "",
       "version_major": 2,
       "version_minor": 0
      },
      "text/plain": [
       "  0%|          | 0/2 [00:00<?, ?it/s]"
      ]
     },
     "metadata": {},
     "output_type": "display_data"
    }
   ],
   "source": [
    "''' Calculate Spatial Firing Sparsity & Coherence Scores for RF Cells \n",
    "\n",
    "OR if you have already run the Figure 5 code, skip to the next cell and load \n",
    "these scores.\n",
    "\n",
    "'''\n",
    "sparsity_scores = []\n",
    "spatialcoherence_scores = []\n",
    "dt = 0.02\n",
    "\n",
    "for m, session in zip(mice, sessions):\n",
    "    for s in tdqm(session, leave=False):\n",
    "        d = data[m][s]\n",
    "        \n",
    "        #get data\n",
    "        rawdata_file = 'RAW_' + m + '_' + s + '.npy'\n",
    "        spikes_file = 'SPIKES_' + m + '_' + s +'.npy'\n",
    "        behavior_file = 'BEHAVIOR_' + m + '_' + s + '.npy'\n",
    "        \n",
    "        raw = np.load(load_folder + rawdata_file, allow_pickle=True)\n",
    "        Y = np.load(load_folder + spikes_file, allow_pickle=False) #pre-filtered for speeds >2cm/s, position-corrected spikes, 20 ms timebins\n",
    "        behaviorfil = np.load(load_folder + behavior_file, allow_pickle=False)\n",
    "\n",
    "        cell_IDs = raw.item().get('cellsfil')\n",
    "        posx = behaviorfil[:,0]\n",
    "        trial = behaviorfil[:,2]\n",
    "        post = behaviorfil[:,3]\n",
    "        \n",
    "        #get smoothed FR & sparsity scores\n",
    "        smoothFR, centers, smoothocc = ps.tuning_curve(posx, Y, dt, b = 2, l=2, smooth=True, SEM=False, occupancy=True)\n",
    "        total_time = max(post) - min(post)\n",
    "        \n",
    "        sparsity_scores = []\n",
    "        for i, c in enumerate(cell_IDs):\n",
    "            meanFRsqr = np.square(np.mean(smoothFR[:,i]))\n",
    "            products = []\n",
    "            sparsity = []\n",
    "            for b in range(smoothFR.shape[0]):\n",
    "                binmeanFRsqr = np.square(smoothFR[b,i])\n",
    "                prob = smoothocc[b,i]/total_time\n",
    "                prod = prob * binmeanFRsqr\n",
    "                products = np.append(products,prod)\n",
    "            sparsity = np.sum(products) / meanFRsqr\n",
    "            sparsity_scores = np.append(sparsity_scores,sparsity)    \n",
    "        d['sparsityscores'] = sparsity_scores \n",
    "        \n",
    "        #get non-smoothed FR & spatial coherence scores \n",
    "        FR, centers, occ = ps.tuning_curve(posx, Y, dt, b = 2, l=2, smooth=False, SEM=False, occupancy=True)\n",
    "        \n",
    "        spatialcoherence_scores = []\n",
    "        for i, c in enumerate(cell_IDs):\n",
    "            neighbors = get.find8adjacentElements(FR[:,i])\n",
    "            meanFR_neighbors = []\n",
    "            for b in range(FR.shape[0]):\n",
    "                meanFR_neigh = np.mean(neighbors[b])\n",
    "                meanFR_neighbors = np.append(meanFR_neighbors, meanFR_neigh)\n",
    "            coherence, p = stats.pearsonr(FR[:,i],meanFR_neighbors)\n",
    "            if math.isnan(coherence):\n",
    "                spatialcoherence_scores = np.append(spatialcoherence_scores,0)\n",
    "            else:\n",
    "                spatialcoherence_scores = np.append(spatialcoherence_scores,coherence)\n",
    "        d['spatialcoherencescores'] = spatialcoherence_scores\n",
    "    \n",
    "        #Get file names & save scores as npy files\n",
    "        sparsityscore_file = 'sparsityscores_' + m + '_' + s + '.npy'\n",
    "        spatialcoherencescore_file = 'spatialcoherencescores_' + m + '_' + s + '.npy'\n",
    "\n",
    "        np.save(save_folder + sparsityscore_file, sparsity_scores)\n",
    "        #print('saved sparsity scores as npy file for mouse ' + m + ' session '+ s)\n",
    "\n",
    "        np.save(save_folder + spatialcoherencescore_file, spatialcoherence_scores)\n",
    "        #print('saved spatial coherence scores as npy file for mouse ' + m + ' session '+ s)"
   ]
  },
  {
   "cell_type": "code",
   "execution_count": 38,
   "id": "6e650975",
   "metadata": {
    "scrolled": true
   },
   "outputs": [
    {
     "data": {
      "application/vnd.jupyter.widget-view+json": {
       "model_id": "3c5d8daf635d4639bf2af459daf38b28",
       "version_major": 2,
       "version_minor": 0
      },
      "text/plain": [
       "  0%|          | 0/6 [00:00<?, ?it/s]"
      ]
     },
     "metadata": {},
     "output_type": "display_data"
    },
    {
     "data": {
      "application/vnd.jupyter.widget-view+json": {
       "model_id": "0ea5b694ea3b4f07ba8408bf98e12f8f",
       "version_major": 2,
       "version_minor": 0
      },
      "text/plain": [
       "  0%|          | 0/6 [00:00<?, ?it/s]"
      ]
     },
     "metadata": {},
     "output_type": "display_data"
    },
    {
     "data": {
      "application/vnd.jupyter.widget-view+json": {
       "model_id": "beb3c86e6b7b4090b5b2895c58dec9c8",
       "version_major": 2,
       "version_minor": 0
      },
      "text/plain": [
       "  0%|          | 0/6 [00:00<?, ?it/s]"
      ]
     },
     "metadata": {},
     "output_type": "display_data"
    },
    {
     "data": {
      "application/vnd.jupyter.widget-view+json": {
       "model_id": "e70989f46a1f42a3a982ce8235b09420",
       "version_major": 2,
       "version_minor": 0
      },
      "text/plain": [
       "  0%|          | 0/6 [00:00<?, ?it/s]"
      ]
     },
     "metadata": {},
     "output_type": "display_data"
    },
    {
     "data": {
      "application/vnd.jupyter.widget-view+json": {
       "model_id": "8c00007be20345e6b990387b6c6e60ea",
       "version_major": 2,
       "version_minor": 0
      },
      "text/plain": [
       "  0%|          | 0/6 [00:00<?, ?it/s]"
      ]
     },
     "metadata": {},
     "output_type": "display_data"
    },
    {
     "data": {
      "application/vnd.jupyter.widget-view+json": {
       "model_id": "a3e4e061e171470d8883b8993ed75207",
       "version_major": 2,
       "version_minor": 0
      },
      "text/plain": [
       "  0%|          | 0/6 [00:00<?, ?it/s]"
      ]
     },
     "metadata": {},
     "output_type": "display_data"
    },
    {
     "data": {
      "application/vnd.jupyter.widget-view+json": {
       "model_id": "6cab5353c0eb499ab1e857fb866fa093",
       "version_major": 2,
       "version_minor": 0
      },
      "text/plain": [
       "  0%|          | 0/6 [00:00<?, ?it/s]"
      ]
     },
     "metadata": {},
     "output_type": "display_data"
    },
    {
     "data": {
      "application/vnd.jupyter.widget-view+json": {
       "model_id": "fe671c05000a43c49f44be66ad39dac0",
       "version_major": 2,
       "version_minor": 0
      },
      "text/plain": [
       "  0%|          | 0/5 [00:00<?, ?it/s]"
      ]
     },
     "metadata": {},
     "output_type": "display_data"
    },
    {
     "data": {
      "application/vnd.jupyter.widget-view+json": {
       "model_id": "c3ab8630e41d41c483f0c00b315449ee",
       "version_major": 2,
       "version_minor": 0
      },
      "text/plain": [
       "  0%|          | 0/3 [00:00<?, ?it/s]"
      ]
     },
     "metadata": {},
     "output_type": "display_data"
    },
    {
     "data": {
      "application/vnd.jupyter.widget-view+json": {
       "model_id": "b58f3225cb0f473784f721e494eb4a27",
       "version_major": 2,
       "version_minor": 0
      },
      "text/plain": [
       "  0%|          | 0/6 [00:00<?, ?it/s]"
      ]
     },
     "metadata": {},
     "output_type": "display_data"
    },
    {
     "data": {
      "application/vnd.jupyter.widget-view+json": {
       "model_id": "6a795f2403a543f6883cde5cdef372db",
       "version_major": 2,
       "version_minor": 0
      },
      "text/plain": [
       "  0%|          | 0/6 [00:00<?, ?it/s]"
      ]
     },
     "metadata": {},
     "output_type": "display_data"
    },
    {
     "data": {
      "application/vnd.jupyter.widget-view+json": {
       "model_id": "ed4a12631b344016b30b0b52e3cdb949",
       "version_major": 2,
       "version_minor": 0
      },
      "text/plain": [
       "  0%|          | 0/6 [00:00<?, ?it/s]"
      ]
     },
     "metadata": {},
     "output_type": "display_data"
    },
    {
     "data": {
      "application/vnd.jupyter.widget-view+json": {
       "model_id": "3979544d705a4cbdb348b7eaaf0d62b9",
       "version_major": 2,
       "version_minor": 0
      },
      "text/plain": [
       "  0%|          | 0/5 [00:00<?, ?it/s]"
      ]
     },
     "metadata": {},
     "output_type": "display_data"
    },
    {
     "data": {
      "application/vnd.jupyter.widget-view+json": {
       "model_id": "379967850ae946d88dfc0f529a14dfc0",
       "version_major": 2,
       "version_minor": 0
      },
      "text/plain": [
       "  0%|          | 0/5 [00:00<?, ?it/s]"
      ]
     },
     "metadata": {},
     "output_type": "display_data"
    },
    {
     "data": {
      "application/vnd.jupyter.widget-view+json": {
       "model_id": "b4304e879059477cada7fa17abfb5820",
       "version_major": 2,
       "version_minor": 0
      },
      "text/plain": [
       "  0%|          | 0/6 [00:00<?, ?it/s]"
      ]
     },
     "metadata": {},
     "output_type": "display_data"
    },
    {
     "data": {
      "application/vnd.jupyter.widget-view+json": {
       "model_id": "ee90b8af8e024bdf8ac6df0ca068029f",
       "version_major": 2,
       "version_minor": 0
      },
      "text/plain": [
       "  0%|          | 0/2 [00:00<?, ?it/s]"
      ]
     },
     "metadata": {},
     "output_type": "display_data"
    }
   ],
   "source": [
    "''' Load saved scores to classify spatial cells or use the ones you just generated above\n",
    "\n",
    "Note : intn boolean & shuffled scores are produced by the notebook \"Shuffle Procedure....\" Please run that for all sessions \n",
    "before proceeding here or use saved scores in Dryad repository.\n",
    "'''\n",
    "\n",
    "for m, session in zip(mice, sessions):\n",
    "    for s in tdqm(session):\n",
    "        d = data[m][s]\n",
    "        \n",
    "        #get file names\n",
    "        shufsparsityscore_file = 'shufsparsityscores_' + m + '_' + s + '.npy'\n",
    "        shufspatialcoherencescore_file = 'shufspatialcoherencescores_' + m + '_' + s + '.npy'\n",
    "        intn_file = 'intn_' + m + '_' + s + '.npy'\n",
    "\n",
    "        #load npy files       \n",
    "\n",
    "        d['shuffsparsityscores'] = np.load(shuffload_folder1 + shufsparsityscore_file, allow_pickle=False)\n",
    "        d['shuffspatialcoherencescores'] = np.load(shuffload_folder2 + shufspatialcoherencescore_file, allow_pickle=False)\n",
    "        d['intn'] = np.load(int_save_folder + intn_file, allow_pickle = True)\n",
    "        d['intn'] = d['intn'].astype(bool)\n",
    "\n",
    "        \n",
    "        try:\n",
    "            _ = d['sparsityscores'].shape\n",
    "        except:\n",
    "            print('loading previously generated sparsity & coherence scores...')\n",
    "            sparsityscore_file = 'sparsityscores_' + m + '_' + s + '.npy'\n",
    "            spatialcoherencescore_file = 'spatialcoherencescores_' + m + '_' + s + '.npy'\n",
    "            \n",
    "            d['sparsityscores'] = np.load(save_folder + sparsityscore_file, allow_pickle=True)\n",
    "            d['spatialcoherencescores'] = np.load(save_folder + spatialcoherencescore_file, allow_pickle=True)"
   ]
  },
  {
   "cell_type": "code",
   "execution_count": 11,
   "id": "c43ecc15",
   "metadata": {
    "scrolled": true
   },
   "outputs": [
    {
     "data": {
      "application/vnd.jupyter.widget-view+json": {
       "model_id": "266dc689cd00489cb50fa14ec8f4af9b",
       "version_major": 2,
       "version_minor": 0
      },
      "text/plain": [
       "  0%|          | 0/6 [00:00<?, ?it/s]"
      ]
     },
     "metadata": {},
     "output_type": "display_data"
    },
    {
     "data": {
      "application/vnd.jupyter.widget-view+json": {
       "model_id": "fd42fb2d3f30457391ff7e0539601846",
       "version_major": 2,
       "version_minor": 0
      },
      "text/plain": [
       "  0%|          | 0/6 [00:00<?, ?it/s]"
      ]
     },
     "metadata": {},
     "output_type": "display_data"
    },
    {
     "data": {
      "application/vnd.jupyter.widget-view+json": {
       "model_id": "dcffd262a6e44198a5a77aa0b73fd548",
       "version_major": 2,
       "version_minor": 0
      },
      "text/plain": [
       "  0%|          | 0/6 [00:00<?, ?it/s]"
      ]
     },
     "metadata": {},
     "output_type": "display_data"
    },
    {
     "data": {
      "application/vnd.jupyter.widget-view+json": {
       "model_id": "a8320ecea0924a4597dc1561918cb57f",
       "version_major": 2,
       "version_minor": 0
      },
      "text/plain": [
       "  0%|          | 0/6 [00:00<?, ?it/s]"
      ]
     },
     "metadata": {},
     "output_type": "display_data"
    },
    {
     "data": {
      "application/vnd.jupyter.widget-view+json": {
       "model_id": "22b08ae82de94021be130c581db0dcf4",
       "version_major": 2,
       "version_minor": 0
      },
      "text/plain": [
       "  0%|          | 0/6 [00:00<?, ?it/s]"
      ]
     },
     "metadata": {},
     "output_type": "display_data"
    },
    {
     "data": {
      "application/vnd.jupyter.widget-view+json": {
       "model_id": "fa517c277d314df1b9442640720d1319",
       "version_major": 2,
       "version_minor": 0
      },
      "text/plain": [
       "  0%|          | 0/6 [00:00<?, ?it/s]"
      ]
     },
     "metadata": {},
     "output_type": "display_data"
    },
    {
     "data": {
      "application/vnd.jupyter.widget-view+json": {
       "model_id": "960f5e4ace8e4181935d39c6a51bb35d",
       "version_major": 2,
       "version_minor": 0
      },
      "text/plain": [
       "  0%|          | 0/6 [00:00<?, ?it/s]"
      ]
     },
     "metadata": {},
     "output_type": "display_data"
    },
    {
     "data": {
      "application/vnd.jupyter.widget-view+json": {
       "model_id": "5a3f322d8ae347ffa3733a2618d25eeb",
       "version_major": 2,
       "version_minor": 0
      },
      "text/plain": [
       "  0%|          | 0/5 [00:00<?, ?it/s]"
      ]
     },
     "metadata": {},
     "output_type": "display_data"
    },
    {
     "data": {
      "application/vnd.jupyter.widget-view+json": {
       "model_id": "baa25bd58b874415b3f7a805b10c637f",
       "version_major": 2,
       "version_minor": 0
      },
      "text/plain": [
       "  0%|          | 0/3 [00:00<?, ?it/s]"
      ]
     },
     "metadata": {},
     "output_type": "display_data"
    },
    {
     "data": {
      "application/vnd.jupyter.widget-view+json": {
       "model_id": "d7475eb5681842e28bed42641a2b8347",
       "version_major": 2,
       "version_minor": 0
      },
      "text/plain": [
       "  0%|          | 0/6 [00:00<?, ?it/s]"
      ]
     },
     "metadata": {},
     "output_type": "display_data"
    },
    {
     "data": {
      "application/vnd.jupyter.widget-view+json": {
       "model_id": "a18955d37a464d20a69efe3df4406908",
       "version_major": 2,
       "version_minor": 0
      },
      "text/plain": [
       "  0%|          | 0/6 [00:00<?, ?it/s]"
      ]
     },
     "metadata": {},
     "output_type": "display_data"
    },
    {
     "data": {
      "application/vnd.jupyter.widget-view+json": {
       "model_id": "93d53124ab6944bc900825d6f7de4b5e",
       "version_major": 2,
       "version_minor": 0
      },
      "text/plain": [
       "  0%|          | 0/6 [00:00<?, ?it/s]"
      ]
     },
     "metadata": {},
     "output_type": "display_data"
    },
    {
     "data": {
      "application/vnd.jupyter.widget-view+json": {
       "model_id": "2e1a475ec1cb4b0996f1b3b4be9682f8",
       "version_major": 2,
       "version_minor": 0
      },
      "text/plain": [
       "  0%|          | 0/5 [00:00<?, ?it/s]"
      ]
     },
     "metadata": {},
     "output_type": "display_data"
    },
    {
     "data": {
      "application/vnd.jupyter.widget-view+json": {
       "model_id": "77bc79fbc52b4197b5e220c5a4a6e80c",
       "version_major": 2,
       "version_minor": 0
      },
      "text/plain": [
       "  0%|          | 0/5 [00:00<?, ?it/s]"
      ]
     },
     "metadata": {},
     "output_type": "display_data"
    },
    {
     "data": {
      "application/vnd.jupyter.widget-view+json": {
       "model_id": "8e9ed01e33d54fa6add93f41b317481c",
       "version_major": 2,
       "version_minor": 0
      },
      "text/plain": [
       "  0%|          | 0/6 [00:00<?, ?it/s]"
      ]
     },
     "metadata": {},
     "output_type": "display_data"
    },
    {
     "data": {
      "application/vnd.jupyter.widget-view+json": {
       "model_id": "b01e63d1f7014e9e9437642f9bf9bb55",
       "version_major": 2,
       "version_minor": 0
      },
      "text/plain": [
       "  0%|          | 0/2 [00:00<?, ?it/s]"
      ]
     },
     "metadata": {},
     "output_type": "display_data"
    },
    {
     "name": "stdout",
     "output_type": "stream",
     "text": [
      "\n",
      "Mean ± SEM Coherence P99: 0.44397451511927966 ± 0.001023052553156076\n",
      "\n",
      "Mean ± SEM Sparsity P99: 0.8021158854819103 ± 0.0022493857825195036\n"
     ]
    }
   ],
   "source": [
    "''' Classify Spatial Cells from all Sessions: \n",
    "\n",
    "Note : shuffled scores are produced by the notebook \"Shuffle Procedure.\" \n",
    "Please run that for all sessions before proceeding here.\n",
    "\n",
    "'''\n",
    "per99c = []\n",
    "per99s = []\n",
    "dt = 0.02\n",
    "\n",
    "for m, session in zip(mice, sessions):\n",
    "    for s in tdqm(session):\n",
    "        d = data[m][s]\n",
    "        \n",
    "        #Load scores, intn boolean to filter out interneurons\n",
    "        rawdata_file = 'RAW_' + m + '_' + s + '.npy'\n",
    "        intn_file = 'intn_' + m + '_' + s + '.npy'\n",
    "        \n",
    "        raw = np.load(load_folder + rawdata_file, allow_pickle=True)\n",
    "        cell_IDs = raw.item().get('cellsfil')\n",
    "        sparsity_scores = d['sparsityscores']\n",
    "        spatialcoherence_scores = d['spatialcoherencescores']\n",
    "        shuffsparsityscores = d['shuffsparsityscores']\n",
    "        shuffspatialcoherencescores = d['shuffspatialcoherencescores'] \n",
    "        intn = d['intn'].astype(bool)\n",
    "\n",
    "        #Classify spatial cells as those >P95, >P99 of both sparsity & coherence distributions\n",
    "        spatialcell99 = []\n",
    "        spatialcells99 = []\n",
    "    \n",
    "        for i, c in enumerate(cell_IDs):\n",
    "            dist1 = shuffspatialcoherencescores[:,i]\n",
    "            P991 = np.percentile(dist1,99)\n",
    "\n",
    "            dist2 = shuffsparsityscores[:,i]\n",
    "            P992 = np.percentile(dist2,99)\n",
    "            \n",
    "            per99c.append(P991)\n",
    "            per99s.append(P992)\n",
    "\n",
    "            if intn[i] == True:\n",
    "                spatialcell99 = np.append(spatialcell99, False)\n",
    "            elif (spatialcoherence_scores[i] > P991) & (sparsity_scores[i] > P992):\n",
    "                spatialcell99 = np.append(spatialcell99, True)\n",
    "            else:\n",
    "                spatialcell99 = np.append(spatialcell99, False)\n",
    "\n",
    "        spatialcell99 = np.asarray(spatialcell99).astype(bool)\n",
    "        \n",
    "        d['spatialcells99'] = cell_IDs[spatialcell99]\n",
    "        d['spatialcell99'] = spatialcell99\n",
    "        \n",
    "        spatialcell99_file = 'spatialcell99_' + m + '_' + s + '.npy'\n",
    "        np.save(save_folder + spatialcell99_file, spatialcell99)\n",
    "        #print('saved spatial cell booleans as npy files for mouse ' + m + ' session '+ s)\n",
    "\n",
    "print('\\nMean ± SEM Coherence P99: ' + str(np.mean(per99c)) + ' ± ' + str(stats.sem(per99c)))  \n",
    "print('\\nMean ± SEM Sparsity P99: ' + str(np.nanmean(per99s)) + ' ± ' + str(stats.sem(per99s,  nan_policy = 'omit'))) "
   ]
  },
  {
   "cell_type": "code",
   "execution_count": 12,
   "id": "c4593c58",
   "metadata": {},
   "outputs": [
    {
     "data": {
      "application/vnd.jupyter.widget-view+json": {
       "model_id": "717b220044d34ce38dc5f8588d799227",
       "version_major": 2,
       "version_minor": 0
      },
      "text/plain": [
       "  0%|          | 0/6 [00:00<?, ?it/s]"
      ]
     },
     "metadata": {},
     "output_type": "display_data"
    },
    {
     "name": "stdout",
     "output_type": "stream",
     "text": [
      "A12, 051822_record1 n spatial cells: 86\n",
      "A12, 051922_record2 n spatial cells: 241\n",
      "A12, 052022_record3 n spatial cells: 128\n",
      "A12, 052122_record4 n spatial cells: 62\n",
      "A12, 052222_record5 n spatial cells: 93\n",
      "A12, 052322_record6 n spatial cells: 32\n"
     ]
    },
    {
     "data": {
      "application/vnd.jupyter.widget-view+json": {
       "model_id": "a572ff88c6294fcaabfb518f7d411605",
       "version_major": 2,
       "version_minor": 0
      },
      "text/plain": [
       "  0%|          | 0/6 [00:00<?, ?it/s]"
      ]
     },
     "metadata": {},
     "output_type": "display_data"
    },
    {
     "name": "stdout",
     "output_type": "stream",
     "text": [
      "A13, 050522_record1 n spatial cells: 96\n",
      "A13, 050622_record2 n spatial cells: 297\n",
      "A13, 050722_record3 n spatial cells: 269\n",
      "A13, 050822_record4 n spatial cells: 92\n",
      "A13, 050922_record5 n spatial cells: 26\n",
      "A13, 051022_record6 n spatial cells: 116\n"
     ]
    },
    {
     "data": {
      "application/vnd.jupyter.widget-view+json": {
       "model_id": "48c719340e8c456da121b7a191a2c383",
       "version_major": 2,
       "version_minor": 0
      },
      "text/plain": [
       "  0%|          | 0/6 [00:00<?, ?it/s]"
      ]
     },
     "metadata": {},
     "output_type": "display_data"
    },
    {
     "name": "stdout",
     "output_type": "stream",
     "text": [
      "A3, 0122_record1 n spatial cells: 17\n",
      "A3, 0123_record2 n spatial cells: 7\n",
      "A3, 0124_record3 n spatial cells: 15\n",
      "A3, 0125_record4 n spatial cells: 86\n",
      "A3, 0126_record5 n spatial cells: 5\n",
      "A3, 0127_record6 n spatial cells: 29\n"
     ]
    },
    {
     "data": {
      "application/vnd.jupyter.widget-view+json": {
       "model_id": "0b231cf045474f0e82eac4c1e4ab40e0",
       "version_major": 2,
       "version_minor": 0
      },
      "text/plain": [
       "  0%|          | 0/6 [00:00<?, ?it/s]"
      ]
     },
     "metadata": {},
     "output_type": "display_data"
    },
    {
     "name": "stdout",
     "output_type": "stream",
     "text": [
      "A4, 0122_record1 n spatial cells: 71\n",
      "A4, 0123_record2 n spatial cells: 56\n",
      "A4, 0124_record3 n spatial cells: 69\n",
      "A4, 0125_record4 n spatial cells: 139\n",
      "A4, 0126_record5 n spatial cells: 179\n",
      "A4, 0127_record6 n spatial cells: 44\n"
     ]
    },
    {
     "data": {
      "application/vnd.jupyter.widget-view+json": {
       "model_id": "2df9fb9bc9ae46768bb78d90c9dae20b",
       "version_major": 2,
       "version_minor": 0
      },
      "text/plain": [
       "  0%|          | 0/6 [00:00<?, ?it/s]"
      ]
     },
     "metadata": {},
     "output_type": "display_data"
    },
    {
     "name": "stdout",
     "output_type": "stream",
     "text": [
      "A5, 0401_record1 n spatial cells: 20\n",
      "A5, 0401_record2b n spatial cells: 81\n",
      "A5, 0403_record3 n spatial cells: 67\n",
      "A5, 0404_record4 n spatial cells: 99\n",
      "A5, 0405_record5 n spatial cells: 16\n",
      "A5, 0406_record6 n spatial cells: 19\n"
     ]
    },
    {
     "data": {
      "application/vnd.jupyter.widget-view+json": {
       "model_id": "41b5388d8f2744429b8d2a0e31c1b8ff",
       "version_major": 2,
       "version_minor": 0
      },
      "text/plain": [
       "  0%|          | 0/6 [00:00<?, ?it/s]"
      ]
     },
     "metadata": {},
     "output_type": "display_data"
    },
    {
     "name": "stdout",
     "output_type": "stream",
     "text": [
      "A6, 0401_record1 n spatial cells: 72\n",
      "A6, 0402_record2 n spatial cells: 10\n",
      "A6, 0403_record3 n spatial cells: 19\n",
      "A6, 0404_record4 n spatial cells: 60\n",
      "A6, 0405_record5 n spatial cells: 68\n",
      "A6, 0406_record6 n spatial cells: 44\n"
     ]
    },
    {
     "data": {
      "application/vnd.jupyter.widget-view+json": {
       "model_id": "68be1fc8c50f4cdd8616a94e6c9001ef",
       "version_major": 2,
       "version_minor": 0
      },
      "text/plain": [
       "  0%|          | 0/6 [00:00<?, ?it/s]"
      ]
     },
     "metadata": {},
     "output_type": "display_data"
    },
    {
     "name": "stdout",
     "output_type": "stream",
     "text": [
      "A7, 0414_record1 n spatial cells: 82\n",
      "A7, 0415_record2 n spatial cells: 147\n",
      "A7, 0416_record3 n spatial cells: 153\n",
      "A7, 0417_record4 n spatial cells: 158\n",
      "A7, 0418_record5 n spatial cells: 103\n",
      "A7, 0419_record6 n spatial cells: 74\n"
     ]
    },
    {
     "data": {
      "application/vnd.jupyter.widget-view+json": {
       "model_id": "1f86741a8d894761a5836043336926c9",
       "version_major": 2,
       "version_minor": 0
      },
      "text/plain": [
       "  0%|          | 0/5 [00:00<?, ?it/s]"
      ]
     },
     "metadata": {},
     "output_type": "display_data"
    },
    {
     "name": "stdout",
     "output_type": "stream",
     "text": [
      "Y11, 050522_record1 n spatial cells: 52\n",
      "Y11, 050622_record2 n spatial cells: 146\n",
      "Y11, 050722_record3 n spatial cells: 274\n",
      "Y11, 050822_record4 n spatial cells: 51\n",
      "Y11, 051022_record6 n spatial cells: 125\n"
     ]
    },
    {
     "data": {
      "application/vnd.jupyter.widget-view+json": {
       "model_id": "fe3c4a0851824c169b0d324683a2a358",
       "version_major": 2,
       "version_minor": 0
      },
      "text/plain": [
       "  0%|          | 0/3 [00:00<?, ?it/s]"
      ]
     },
     "metadata": {},
     "output_type": "display_data"
    },
    {
     "name": "stdout",
     "output_type": "stream",
     "text": [
      "Y16, 062222_record3 n spatial cells: 54\n",
      "Y16, 062322_record4 n spatial cells: 6\n",
      "Y16, 062522_record5 n spatial cells: 1\n"
     ]
    },
    {
     "data": {
      "application/vnd.jupyter.widget-view+json": {
       "model_id": "579528bb31144c57ad7db4d49fa3aaaa",
       "version_major": 2,
       "version_minor": 0
      },
      "text/plain": [
       "  0%|          | 0/6 [00:00<?, ?it/s]"
      ]
     },
     "metadata": {},
     "output_type": "display_data"
    },
    {
     "name": "stdout",
     "output_type": "stream",
     "text": [
      "Y17, 062822_record1 n spatial cells: 59\n",
      "Y17, 062922_record2 n spatial cells: 111\n",
      "Y17, 063022_record3 n spatial cells: 63\n",
      "Y17, 070122_record4 n spatial cells: 245\n",
      "Y17, 070222_record5 n spatial cells: 214\n",
      "Y17, 070322_record6 n spatial cells: 177\n"
     ]
    },
    {
     "data": {
      "application/vnd.jupyter.widget-view+json": {
       "model_id": "13820085584446a48652ad7079ffc276",
       "version_major": 2,
       "version_minor": 0
      },
      "text/plain": [
       "  0%|          | 0/6 [00:00<?, ?it/s]"
      ]
     },
     "metadata": {},
     "output_type": "display_data"
    },
    {
     "name": "stdout",
     "output_type": "stream",
     "text": [
      "Y18, 062022_record1 n spatial cells: 231\n",
      "Y18, 062122_record2 n spatial cells: 193\n",
      "Y18, 062222_record3 n spatial cells: 202\n",
      "Y18, 062322_record4 n spatial cells: 100\n",
      "Y18, 062522_record5 n spatial cells: 235\n",
      "Y18, 062622_record6 n spatial cells: 139\n"
     ]
    },
    {
     "data": {
      "application/vnd.jupyter.widget-view+json": {
       "model_id": "18885bf35d584305832cf5775fef6d22",
       "version_major": 2,
       "version_minor": 0
      },
      "text/plain": [
       "  0%|          | 0/6 [00:00<?, ?it/s]"
      ]
     },
     "metadata": {},
     "output_type": "display_data"
    },
    {
     "name": "stdout",
     "output_type": "stream",
     "text": [
      "Y19, 062822_record1 n spatial cells: 102\n",
      "Y19, 062922_record2 n spatial cells: 106\n",
      "Y19, 063022_record3 n spatial cells: 78\n",
      "Y19, 070122_record4 n spatial cells: 190\n",
      "Y19, 070222_record5 n spatial cells: 205\n",
      "Y19, 070322_record6 n spatial cells: 175\n"
     ]
    },
    {
     "data": {
      "application/vnd.jupyter.widget-view+json": {
       "model_id": "fdea7d5d4d5848a9bb2ceb097563590a",
       "version_major": 2,
       "version_minor": 0
      },
      "text/plain": [
       "  0%|          | 0/5 [00:00<?, ?it/s]"
      ]
     },
     "metadata": {},
     "output_type": "display_data"
    },
    {
     "name": "stdout",
     "output_type": "stream",
     "text": [
      "Y2, 1024_record1 n spatial cells: 79\n",
      "Y2, 1025_record2 n spatial cells: 22\n",
      "Y2, 1026_record3 n spatial cells: 63\n",
      "Y2, 1027_record4 n spatial cells: 6\n",
      "Y2, 1028_record5_2 n spatial cells: 11\n"
     ]
    },
    {
     "data": {
      "application/vnd.jupyter.widget-view+json": {
       "model_id": "68adc2826b884ab1a618e95be48a4b5e",
       "version_major": 2,
       "version_minor": 0
      },
      "text/plain": [
       "  0%|          | 0/5 [00:00<?, ?it/s]"
      ]
     },
     "metadata": {},
     "output_type": "display_data"
    },
    {
     "name": "stdout",
     "output_type": "stream",
     "text": [
      "Y3, 1016_record1 n spatial cells: 42\n",
      "Y3, 1019_record3 n spatial cells: 36\n",
      "Y3, 1020_record4 n spatial cells: 71\n",
      "Y3, 1021_record5 n spatial cells: 101\n",
      "Y3, 1022_record6 n spatial cells: 106\n"
     ]
    },
    {
     "data": {
      "application/vnd.jupyter.widget-view+json": {
       "model_id": "54fca8946ce145559059406ae8ac4b13",
       "version_major": 2,
       "version_minor": 0
      },
      "text/plain": [
       "  0%|          | 0/6 [00:00<?, ?it/s]"
      ]
     },
     "metadata": {},
     "output_type": "display_data"
    },
    {
     "name": "stdout",
     "output_type": "stream",
     "text": [
      "Y4, 1114_record1 n spatial cells: 104\n",
      "Y4, 1115_record2 n spatial cells: 55\n",
      "Y4, 1116_record3 n spatial cells: 44\n",
      "Y4, 1117_record4 n spatial cells: 235\n",
      "Y4, 1118_record5 n spatial cells: 287\n",
      "Y4, 1119_record6 n spatial cells: 126\n"
     ]
    },
    {
     "data": {
      "application/vnd.jupyter.widget-view+json": {
       "model_id": "32d3e30655e7424fb7f257a53437a1c1",
       "version_major": 2,
       "version_minor": 0
      },
      "text/plain": [
       "  0%|          | 0/2 [00:00<?, ?it/s]"
      ]
     },
     "metadata": {},
     "output_type": "display_data"
    },
    {
     "name": "stdout",
     "output_type": "stream",
     "text": [
      "Y9, 051922_record2 n spatial cells: 7\n",
      "Y9, 052022_record3 n spatial cells: 0\n"
     ]
    }
   ],
   "source": [
    "''' Check out distribution of spatial cells '''\n",
    "\n",
    "per99 = []\n",
    "sper99 = []\n",
    "mper99 = []\n",
    "\n",
    "for m, session in zip(mice,sessions):\n",
    "    \n",
    "    m_99 = []\n",
    "    m_cells = []\n",
    "    \n",
    "    for s in tdqm(session):\n",
    "        d = data[m][s]\n",
    "        \n",
    "        #load in data\n",
    "        rawdata_file = 'RAW_' + m + '_' + s + '.npy'\n",
    "        raw = np.load(load_folder + rawdata_file, allow_pickle=True)\n",
    "        cell_IDs = raw.item().get('cellsfil')\n",
    "        \n",
    "        #load all spatial cell boolean\n",
    "        spatialcell = d['spatialcell99']\n",
    "        spatialcells = cell_IDs[spatialcell]\n",
    "        \n",
    "        print(m + ', ' + s + ' n spatial cells: '+ str(np.sum(spatialcell)))\n",
    "        per99 = np.append(per99, 100*np.sum(spatialcell)/len(cell_IDs))\n",
    "        sper99 = np.append(sper99, 100*np.sum(spatialcell)/len(cell_IDs))\n",
    "        m_99 = np.append(m_99, np.sum(spatialcell))\n",
    "        m_cells = np.append(m_cells, len(cell_IDs))\n",
    "        \n",
    "    mper99 = np.append(mper99, np.sum(m_99)/np.sum(m_cells))"
   ]
  },
  {
   "cell_type": "code",
   "execution_count": 13,
   "id": "e6cd3c4a",
   "metadata": {},
   "outputs": [
    {
     "name": "stdout",
     "output_type": "stream",
     "text": [
      "Mean, SEM Spatial Cell %\n",
      "38.46812611786303 2.3390964378094172\n"
     ]
    },
    {
     "data": {
      "image/png": "[encoded data removed]",
      "text/plain": [
       "<Figure size 250x250 with 1 Axes>"
      ]
     },
     "metadata": {},
     "output_type": "display_data"
    }
   ],
   "source": [
    "''' Examine grid & NGS cell densities quickly as a sanity check'''\n",
    "\n",
    "# Assess distribution of grid/ngs cell densities\n",
    "print('Mean, SEM Spatial Cell %')\n",
    "print(np.mean(per99), stats.sem(per99))\n",
    "\n",
    "#plot grid vs. ngs cell % distributions\n",
    "fig, ax = plt.subplots(1,1,figsize = (2.5,2.5), sharey = True)\n",
    "ax.hist(per99, bins = np.arange(0,85,5), edgecolor = 'black',alpha = 0.5, color = 'C0')\n",
    "ax.set_title('Sessions vs. Spatial Cell %')\n",
    "ax.set_ylabel('Number of Sessions')\n",
    "ax.set_xlabel('Spatial Cell %')\n",
    "\n",
    "plt.show()"
   ]
  },
  {
   "cell_type": "code",
   "execution_count": 14,
   "id": "2e0aaf78",
   "metadata": {},
   "outputs": [
    {
     "name": "stdout",
     "output_type": "stream",
     "text": [
      "['Y11' 'Y16' 'Y17' 'Y18' 'Y19' 'Y2' 'Y3' 'Y4' 'Y9'] ['A12' 'A13' 'A3' 'A4' 'A5' 'A6' 'A7']\n",
      "9 7\n",
      "44 42\n"
     ]
    }
   ],
   "source": [
    "'''Get Indices of Stored Session, Animal Data Mice by Age Group'''\n",
    "age_ind = []\n",
    "y_ind = []\n",
    "age_sind = []\n",
    "y_sind = []\n",
    "\n",
    "s_count = 0\n",
    "for m, s in zip(mice, sessions):\n",
    "    start = s_count\n",
    "    end = len(s) + s_count\n",
    "\n",
    "    if m in all_aged_mice:\n",
    "        age_ind = np.append(age_ind, (np.where(mice == m)[0]))\n",
    "        age_sind = np.append(age_sind, np.arange(start, end, 1))\n",
    "    else:\n",
    "        y_ind = np.append(y_ind, (np.where(mice == m)[0]))\n",
    "        y_sind = np.append(y_sind, np.arange(start, end, 1))\n",
    "                            \n",
    "    s_count += len(s)\n",
    "    \n",
    "age_ind = age_ind.astype(int)\n",
    "y_ind = y_ind.astype(int)\n",
    "age_sind = age_sind.astype(int)\n",
    "y_sind = y_sind.astype(int)\n",
    "\n",
    "print(mice[y_ind], mice[age_ind])\n",
    "print(len(mice[y_ind]), len(mice[age_ind]))\n",
    "print(len(y_sind), len(age_sind))\n",
    "Nold = len(mice[age_ind])\n",
    "Nyoung = len(mice[y_ind])"
   ]
  },
  {
   "cell_type": "code",
   "execution_count": 15,
   "id": "16fc7eb4",
   "metadata": {},
   "outputs": [],
   "source": [
    "''' Define ColorMaps for Session & Animal Boxplots '''\n",
    "import matplotlib.pylab as pl\n",
    "import matplotlib.lines as mlines\n",
    "\n",
    "col_animal_old = pl.cm.Oranges([np.linspace(0.2,0.9,Nold)])\n",
    "col_animal_young = pl.cm.Blues([np.linspace(0.2,0.9,Nyoung)])\n",
    "col_animal = [col_animal_young, col_animal_old]\n",
    "\n",
    "col_session_young = []\n",
    "col_session_old = []\n",
    "for m, session in zip(mice, sessions):\n",
    "    for s in range(0,len(session)):\n",
    "        \n",
    "        if m in RF_aged_mice:\n",
    "            idx = np.where(mice == m)[0][0]\n",
    "            col_session_old.append(col_animal[1][0][idx])\n",
    "        else:\n",
    "            idx = np.where(mice == m)[0][0] - Nold\n",
    "            col_session_young.append(col_animal[0][0][idx])\n",
    "\n",
    "col_session = [col_session_young,col_session_old]\n",
    "\n",
    "label_mice = ['Y11', 'Y16', 'Y17', 'Y18', 'Y19', 'Y2', 'Y3', 'Y4','Y9','A12', 'A13', 'A3', 'A4', 'A5', 'A6', 'A7']\n",
    "\n",
    "# set up handles\n",
    "from itertools import repeat\n",
    "per99 = [mper99[y_ind], mper99[age_ind]]\n",
    "\n",
    "handles = []\n",
    "for i in range(len(per99)):\n",
    "    for c in col_animal[i][0]:\n",
    "        dot = mlines.Line2D([],[], color = c, marker ='o', linestyle = 'None', markersize = 8)\n",
    "        handles.append(dot)"
   ]
  },
  {
   "cell_type": "markdown",
   "id": "2e42117c",
   "metadata": {},
   "source": [
    "# Verify classification of spatial cells (Figure 5a-d)."
   ]
  },
  {
   "cell_type": "code",
   "execution_count": 16,
   "id": "2ffeba64",
   "metadata": {},
   "outputs": [
    {
     "name": "stdout",
     "output_type": "stream",
     "text": [
      "A12\n"
     ]
    },
    {
     "data": {
      "application/vnd.jupyter.widget-view+json": {
       "model_id": "5089a27bc92b4718a552639244702a19",
       "version_major": 2,
       "version_minor": 0
      },
      "text/plain": [
       "  0%|          | 0/6 [00:00<?, ?it/s]"
      ]
     },
     "metadata": {},
     "output_type": "display_data"
    },
    {
     "name": "stdout",
     "output_type": "stream",
     "text": [
      "052022_record3\n",
      "366\n"
     ]
    },
    {
     "data": {
      "image/png": "[encoded data removed]",
      "text/plain": [
       "<Figure size 80x300 with 2 Axes>"
      ]
     },
     "metadata": {},
     "output_type": "display_data"
    },
    {
     "name": "stdout",
     "output_type": "stream",
     "text": [
      "A13\n"
     ]
    },
    {
     "data": {
      "application/vnd.jupyter.widget-view+json": {
       "model_id": "46964d5e9bff4a8b88bf62e242cff8f6",
       "version_major": 2,
       "version_minor": 0
      },
      "text/plain": [
       "  0%|          | 0/6 [00:00<?, ?it/s]"
      ]
     },
     "metadata": {},
     "output_type": "display_data"
    },
    {
     "name": "stdout",
     "output_type": "stream",
     "text": [
      "051022_record6\n",
      "210\n"
     ]
    },
    {
     "data": {
      "image/png": "[encoded data removed]",
      "text/plain": [
       "<Figure size 80x300 with 2 Axes>"
      ]
     },
     "metadata": {},
     "output_type": "display_data"
    },
    {
     "name": "stdout",
     "output_type": "stream",
     "text": [
      "Y18\n"
     ]
    },
    {
     "data": {
      "application/vnd.jupyter.widget-view+json": {
       "model_id": "2ff3ad6d051047409d0e46ddbaa2a749",
       "version_major": 2,
       "version_minor": 0
      },
      "text/plain": [
       "  0%|          | 0/6 [00:00<?, ?it/s]"
      ]
     },
     "metadata": {},
     "output_type": "display_data"
    },
    {
     "name": "stdout",
     "output_type": "stream",
     "text": [
      "062022_record1\n",
      "398\n"
     ]
    },
    {
     "data": {
      "image/png": "[encoded data removed]",
      "text/plain": [
       "<Figure size 80x300 with 2 Axes>"
      ]
     },
     "metadata": {},
     "output_type": "display_data"
    },
    {
     "name": "stdout",
     "output_type": "stream",
     "text": [
      "Y19\n"
     ]
    },
    {
     "data": {
      "application/vnd.jupyter.widget-view+json": {
       "model_id": "31d83bddd1a64e168c7de7c662b234b0",
       "version_major": 2,
       "version_minor": 0
      },
      "text/plain": [
       "  0%|          | 0/6 [00:00<?, ?it/s]"
      ]
     },
     "metadata": {},
     "output_type": "display_data"
    },
    {
     "name": "stdout",
     "output_type": "stream",
     "text": [
      "062822_record1\n",
      "740\n"
     ]
    },
    {
     "data": {
      "image/png": "[encoded data removed]",
      "text/plain": [
       "<Figure size 80x300 with 2 Axes>"
      ]
     },
     "metadata": {},
     "output_type": "display_data"
    }
   ],
   "source": [
    "''' Sequentially Plot Example Spatial Cell Rasters with Tuning Curves (Figure 5a)'''\n",
    "\n",
    "#set parameters\n",
    "LW_FR = 0.75\n",
    "LW_SEM = 0.5\n",
    "widths = [1]\n",
    "heights = [1.6,0.4]\n",
    "dt = 0.02\n",
    "count = 0\n",
    "cellcount = 0\n",
    "\n",
    "#specify cells to use\n",
    "from matplotlib.lines import Line2D\n",
    "from copy import copy\n",
    "\n",
    "ex_mice = ['Y19','Y18','A13','A12'] # mouse names for Fig 5 examples\n",
    "ex_sessions = ['062822_record1','062022_record1','051022_record6','052022_record3'] #list of sssions\n",
    "\n",
    "ex_spatialcells = [366,210,398,740]\n",
    "minimalistbool = [True,False,True,False]\n",
    "sesh = [3,6,1,1]\n",
    "cols = ['C1','C1','C0','C0']\n",
    "\n",
    "for m, session in zip(mice,sessions):\n",
    "    \n",
    "    if m not in ex_mice:\n",
    "        continue\n",
    "    else:\n",
    "        print(m)\n",
    "    \n",
    "    for s in tdqm(session):\n",
    "        \n",
    "        if s not in ex_sessions:\n",
    "            continue\n",
    "        else:\n",
    "            print(s)\n",
    "            \n",
    "            d = data[m][s]\n",
    "\n",
    "            #load in data\n",
    "            rawdata_file = 'RAW_' + m + '_' + s + '.npy'\n",
    "            behavior_file = 'BEHAVIOR_' + m + '_' + s + '.npy'\n",
    "            spikes_file = 'SPIKES_' + m + '_' + s +'.npy'\n",
    "\n",
    "            raw = np.load(load_folder + rawdata_file, allow_pickle=True)\n",
    "            cell_IDs = raw.item().get('cellsfil')\n",
    "            behaviorfil = np.load(load_folder + behavior_file, allow_pickle=False)\n",
    "            Y = np.load(load_folder + spikes_file, allow_pickle=False) #pre-filtered for speeds >2cm/s, position-corrected spikes, 20 ms timebins\n",
    "\n",
    "            #get behavioral data\n",
    "            posx = behaviorfil[:,0]\n",
    "            trials = behaviorfil[:, 2]\n",
    "            trials = -1 * trials\n",
    "\n",
    "            # generate aligned position tuning curve\n",
    "            dt = 0.02\n",
    "            FR, binned_pos, FR_sem, occ = ps.tuning_curve(posx, Y, dt, b=2, l=2, SEM=True)\n",
    "\n",
    "            ## PLOT RASTER w/ CONTEXT LABEL\n",
    "            c = ex_spatialcells[cellcount]\n",
    "            print(c)\n",
    "            minimalist = minimalistbool[cellcount]\n",
    "            col = cols[cellcount]\n",
    "\n",
    "            fig = plt.figure()\n",
    "            fig.set_size_inches(0.8,3)\n",
    "            gs = gridspec.GridSpec(ncols = 1 , nrows = 2, hspace=0.15, figure = fig, width_ratios = widths, height_ratios = heights)\n",
    "\n",
    "            ax = fig.add_subplot(gs[0, 0])\n",
    "            sdx = Y[:, np.where(cell_IDs==c)[0][0]].astype(bool)\n",
    "            ax.plot(posx[sdx], trials[sdx], '.', color = 'k', markersize = 0.2, alpha=0.4)\n",
    "            ax.tick_params(labelsize = 8)\n",
    "            ax.set_xlim((0, 400))\n",
    "            ax.set_ylim((np.min(trials),0))\n",
    "            ax.set_yticks([-240,-200,-160,-120,-80,-40,0])\n",
    "            ax.set_yticklabels([240,200,160,120,80,40,0])\n",
    "            ax.set_title(str(m) + '_' + str(sesh[cellcount]) + ', c. ' + str(c), fontsize = 10, color = col)\n",
    "\n",
    "            #plot example tuning curve\n",
    "            sdx = (np.where(cell_IDs==c)[0][0]).astype(int)\n",
    "            ax1 = fig.add_subplot(gs[1,0])\n",
    "            ax1.plot(binned_pos, FR[:,sdx], linewidth = LW_FR, color = col)\n",
    "            ax1.fill_between(binned_pos, FR[:, sdx] + FR_sem[:, sdx], FR[:, sdx] - FR_sem[:, sdx], \n",
    "                                 color=col, lw=LW_SEM, alpha=0.2)\n",
    "            ax1.set_xlabel('VR Position (cm)', fontsize = 9, labelpad = 2)\n",
    "            ax1.tick_params(labelsize = 8)\n",
    "\n",
    "            if minimalist:\n",
    "                ax.tick_params(labelleft=False, labelbottom=False)\n",
    "            else:\n",
    "                ax.tick_params(labelleft=True, labelbottom=False)\n",
    "                #ax.set_xlabel('VR Position (cm)', fontsize = 9)\n",
    "                ax.set_ylabel('Trials (n)', fontsize = 9)\n",
    "                ax1.set_ylabel('FR (Hz)', fontsize = 9, labelpad = 2)\n",
    "\n",
    "            fig.savefig(save_folder + str(m) + '_' + str(s) + '_' + str(c) + '_5A.png', dpi = 400)\n",
    "            fig.savefig(save_folder + str(m) + '_' + str(s) + '_' + str(c) + '_5A.svg', dpi = 400)\n",
    "            plt.show()\n",
    "\n",
    "            cellcount += 1"
   ]
  },
  {
   "cell_type": "code",
   "execution_count": 17,
   "id": "8912462e",
   "metadata": {
    "scrolled": true
   },
   "outputs": [
    {
     "data": {
      "application/vnd.jupyter.widget-view+json": {
       "model_id": "f9ccf611256543ccb35290f89963cffd",
       "version_major": 2,
       "version_minor": 0
      },
      "text/plain": [
       "  0%|          | 0/6 [00:00<?, ?it/s]"
      ]
     },
     "metadata": {},
     "output_type": "display_data"
    },
    {
     "data": {
      "application/vnd.jupyter.widget-view+json": {
       "model_id": "b5795ad99930440698bd2d9d6d704fe2",
       "version_major": 2,
       "version_minor": 0
      },
      "text/plain": [
       "  0%|          | 0/6 [00:00<?, ?it/s]"
      ]
     },
     "metadata": {},
     "output_type": "display_data"
    },
    {
     "data": {
      "application/vnd.jupyter.widget-view+json": {
       "model_id": "fe2456370ae94239b589a4bb1ba7ac22",
       "version_major": 2,
       "version_minor": 0
      },
      "text/plain": [
       "  0%|          | 0/6 [00:00<?, ?it/s]"
      ]
     },
     "metadata": {},
     "output_type": "display_data"
    },
    {
     "data": {
      "application/vnd.jupyter.widget-view+json": {
       "model_id": "7e3ccc3404484edc9644b4a3de1ed02e",
       "version_major": 2,
       "version_minor": 0
      },
      "text/plain": [
       "  0%|          | 0/6 [00:00<?, ?it/s]"
      ]
     },
     "metadata": {},
     "output_type": "display_data"
    },
    {
     "data": {
      "application/vnd.jupyter.widget-view+json": {
       "model_id": "61dd57f4ae884ac0b97dbda39cbf81d6",
       "version_major": 2,
       "version_minor": 0
      },
      "text/plain": [
       "  0%|          | 0/6 [00:00<?, ?it/s]"
      ]
     },
     "metadata": {},
     "output_type": "display_data"
    },
    {
     "data": {
      "application/vnd.jupyter.widget-view+json": {
       "model_id": "b75ba01ef49c4caa9555d864ed3d8bd7",
       "version_major": 2,
       "version_minor": 0
      },
      "text/plain": [
       "  0%|          | 0/6 [00:00<?, ?it/s]"
      ]
     },
     "metadata": {},
     "output_type": "display_data"
    },
    {
     "data": {
      "application/vnd.jupyter.widget-view+json": {
       "model_id": "92759b3e79c84c98984aa8be2b839021",
       "version_major": 2,
       "version_minor": 0
      },
      "text/plain": [
       "  0%|          | 0/6 [00:00<?, ?it/s]"
      ]
     },
     "metadata": {},
     "output_type": "display_data"
    },
    {
     "data": {
      "application/vnd.jupyter.widget-view+json": {
       "model_id": "330f82d70636450b8100989321038403",
       "version_major": 2,
       "version_minor": 0
      },
      "text/plain": [
       "  0%|          | 0/5 [00:00<?, ?it/s]"
      ]
     },
     "metadata": {},
     "output_type": "display_data"
    },
    {
     "data": {
      "application/vnd.jupyter.widget-view+json": {
       "model_id": "f57b4edb608a4e69803063e62e21331d",
       "version_major": 2,
       "version_minor": 0
      },
      "text/plain": [
       "  0%|          | 0/3 [00:00<?, ?it/s]"
      ]
     },
     "metadata": {},
     "output_type": "display_data"
    },
    {
     "data": {
      "application/vnd.jupyter.widget-view+json": {
       "model_id": "b05d6263c3264839a51dc4cd786a461c",
       "version_major": 2,
       "version_minor": 0
      },
      "text/plain": [
       "  0%|          | 0/6 [00:00<?, ?it/s]"
      ]
     },
     "metadata": {},
     "output_type": "display_data"
    },
    {
     "data": {
      "application/vnd.jupyter.widget-view+json": {
       "model_id": "242e5d3b167e40d68de32dc1c3a3f774",
       "version_major": 2,
       "version_minor": 0
      },
      "text/plain": [
       "  0%|          | 0/6 [00:00<?, ?it/s]"
      ]
     },
     "metadata": {},
     "output_type": "display_data"
    },
    {
     "data": {
      "application/vnd.jupyter.widget-view+json": {
       "model_id": "6cf78308219b45b1bf2e0318b630ea92",
       "version_major": 2,
       "version_minor": 0
      },
      "text/plain": [
       "  0%|          | 0/6 [00:00<?, ?it/s]"
      ]
     },
     "metadata": {},
     "output_type": "display_data"
    },
    {
     "data": {
      "application/vnd.jupyter.widget-view+json": {
       "model_id": "ee88b464f2e34c66b8dca9a50d77c5fe",
       "version_major": 2,
       "version_minor": 0
      },
      "text/plain": [
       "  0%|          | 0/5 [00:00<?, ?it/s]"
      ]
     },
     "metadata": {},
     "output_type": "display_data"
    },
    {
     "data": {
      "application/vnd.jupyter.widget-view+json": {
       "model_id": "c4db0d6ec43a423f8494d9755bb9d294",
       "version_major": 2,
       "version_minor": 0
      },
      "text/plain": [
       "  0%|          | 0/5 [00:00<?, ?it/s]"
      ]
     },
     "metadata": {},
     "output_type": "display_data"
    },
    {
     "data": {
      "application/vnd.jupyter.widget-view+json": {
       "model_id": "0b59aaf167984a66b1984c4473191596",
       "version_major": 2,
       "version_minor": 0
      },
      "text/plain": [
       "  0%|          | 0/6 [00:00<?, ?it/s]"
      ]
     },
     "metadata": {},
     "output_type": "display_data"
    },
    {
     "data": {
      "application/vnd.jupyter.widget-view+json": {
       "model_id": "0a67ddfdbfad43ce82f90df609555984",
       "version_major": 2,
       "version_minor": 0
      },
      "text/plain": [
       "  0%|          | 0/2 [00:00<?, ?it/s]"
      ]
     },
     "metadata": {},
     "output_type": "display_data"
    }
   ],
   "source": [
    "''' For spatial & border cells, save shuffle distributions of sparsity & coherence  '''\n",
    "\n",
    "spatialsparsity = []\n",
    "spatialshuffsparsity = []\n",
    "spatialcoherence = []\n",
    "spatialshuffcoherence = []\n",
    "\n",
    "for m, session in zip(mice, sessions):\n",
    "    for s in tdqm(session):\n",
    "        d = data[m][s]\n",
    "        \n",
    "        #Load scores, intn boolean to filter out interneurons\n",
    "        rawdata_file = 'RAW_' + m + '_' + s + '.npy'\n",
    "        intn_file = 'intn_' + m + '_' + s + '.npy'\n",
    "        spikes_file = 'SPIKES_' + m + '_' + s +'.npy'\n",
    "        behavior_file = 'BEHAVIOR_' + m + '_' + s + '.npy'\n",
    "        \n",
    "        raw = np.load(load_folder + rawdata_file, allow_pickle=True)\n",
    "        Y = np.load(load_folder + spikes_file, allow_pickle=False) #pre-filtered for speeds >2cm/s, position-corrected spikes, 20 ms timebins\n",
    "        behaviorfil = np.load(load_folder + behavior_file, allow_pickle=False)\n",
    "        cell_IDs = raw.item().get('cellsfil')\n",
    "\n",
    "        cell_IDs = raw.item().get('cellsfil')\n",
    "        spatialcell99 = d['spatialcell99']\n",
    "        spatialcells = cell_IDs[spatialcell99]\n",
    "        \n",
    "        sparsity_scores = d['sparsityscores']\n",
    "        spatialcoherence_scores = d['spatialcoherencescores']\n",
    "        shuffsparsityscores = d['shuffsparsityscores']\n",
    "        shuffspatialcoherencescores = d['shuffspatialcoherencescores']\n",
    "        \n",
    "        for i, c in enumerate(spatialcells):\n",
    "            sdx = np.where(cell_IDs == c)[0][0]\n",
    "        \n",
    "            shuffsparsity = np.random.choice(np.ravel(shuffsparsityscores[:,sdx]))\n",
    "            shuffcoherence = np.random.choice(np.ravel(shuffspatialcoherencescores[:,sdx]))\n",
    "            coherence = spatialcoherence_scores[sdx]\n",
    "            sparsity = sparsity_scores[sdx]\n",
    "            \n",
    "            spatialsparsity = np.append(spatialsparsity,sparsity)\n",
    "            spatialshuffsparsity = np.append(spatialshuffsparsity,shuffsparsity)\n",
    "            spatialcoherence = np.append(spatialcoherence,coherence)\n",
    "            spatialshuffcoherence = np.append(spatialshuffcoherence,shuffcoherence)"
   ]
  },
  {
   "cell_type": "code",
   "execution_count": 65,
   "id": "d74731bb",
   "metadata": {},
   "outputs": [
    {
     "data": {
      "image/png": "[encoded data removed]",
      "text/plain": [
       "<Figure size 125x125 with 1 Axes>"
      ]
     },
     "metadata": {},
     "output_type": "display_data"
    },
    {
     "name": "stdout",
     "output_type": "stream",
     "text": [
      "\n",
      "Mean, SEM Real Coherence:\n",
      "0.7390792074922479 0.0019328191913428486\n",
      "Mean, SEM Shuffle Coherence:\n",
      "0.22936345882615597 0.0018121011484174083\n",
      "stat = 50.0\n",
      "p_cells = 0.0\n",
      "n model pairs coherence: 8476\n"
     ]
    },
    {
     "data": {
      "image/png": "[encoded data removed]",
      "text/plain": [
       "<Figure size 125x125 with 1 Axes>"
      ]
     },
     "metadata": {},
     "output_type": "display_data"
    },
    {
     "name": "stdout",
     "output_type": "stream",
     "text": [
      "\n",
      "Mean, SEM Real Sparsity:\n",
      "0.9153549378551794 0.003672820847098984\n",
      "Mean, SEM Shuffle Sparsity:\n",
      "0.771497716751893 0.0016040650655885045\n",
      "stat = 761.0\n",
      "p_cells = 0.0\n",
      "n model pairs sparsity: 8476\n"
     ]
    }
   ],
   "source": [
    "''' Plot distribution of randomly selected shuffles vs. real sparsity/coherence; Figure 5B, C '''\n",
    "\n",
    "bins = np.arange(-0.2,1.2,0.01)\n",
    "bcoherence, bin_edges = np.histogram(spatialcoherence, bins = bins)\n",
    "pdf = bcoherence / sum(bcoherence)\n",
    "\n",
    "shuffcoherence, shuffbin_edges = np.histogram(spatialshuffcoherence, bins = bins)\n",
    "shuffpdf = shuffcoherence / sum(shuffcoherence)\n",
    "\n",
    "#Plot Figure 5B\n",
    "fig, ax = plt.subplots(figsize = (1.25,1.25))\n",
    "#ax.hist(spatialcoherence, 20, density = True, histtype = 'step', color = 'k')\n",
    "#ax.hist(spatialshuffsparsity, 20, density = True, histtype = 'step', color = 'k', alpha = 0.5)\n",
    "ax.plot(bin_edges[1:], pdf, linewidth = 0.75, color = 'k')\n",
    "ax.plot(shuffbin_edges[1:], shuffpdf, linewidth = 0.75, color = 'k', alpha = 0.5)\n",
    "ax.set_ylabel('Probability', fontsize = 9)\n",
    "ax.set_xlabel('Coherence', fontsize = 9)\n",
    "ax.set_xlim([-0.2,1.2])\n",
    "ax.set_ylim([0,0.04])\n",
    "ax.set_yticks([0,0.02,0.04])\n",
    "ax.set_xticks([0,0.5,1.0])\n",
    "ax.tick_params(labelsize = 8)\n",
    "plt.savefig(save_folder + '5B.png', dpi=400, bbox_inches='tight')\n",
    "plt.savefig(save_folder + '5B.svg', dpi=400, bbox_inches='tight')\n",
    "plt.show()\n",
    "\n",
    "#STATS\n",
    "#COHERENCE SPATIAL VS SHUFF\n",
    "print('\\nMean, SEM Real Coherence:')\n",
    "print(np.nanmean(spatialcoherence), stats.sem(spatialcoherence, nan_policy = 'omit')) \n",
    "print('Mean, SEM Shuffle Coherence:')\n",
    "print(np.nanmean(spatialshuffcoherence), stats.sem(spatialshuffcoherence, nan_policy = 'omit')) \n",
    "stat, p_diff = stats.wilcoxon(spatialcoherence, spatialshuffcoherence)\n",
    "print('stat = ' + str(stat))\n",
    "print('p_cells = ' + str(p_diff))\n",
    "print('n model pairs coherence: ' + str(len(spatialcoherence[~np.isnan(spatialshuffcoherence)])))\n",
    "\n",
    "bins = np.arange(0.25,1.5,0.01)\n",
    "\n",
    "bsparsity, bin_edges = np.histogram(spatialsparsity, bins = bins)\n",
    "pdf = bsparsity / sum(bsparsity)\n",
    "\n",
    "shuffbsparsity, shuffbin_edges = np.histogram(spatialshuffsparsity, bins = bins)\n",
    "shuffpdf = shuffbsparsity / sum(shuffbsparsity)\n",
    "\n",
    "#Plot Figure 5C\n",
    "fig, ax = plt.subplots(figsize = (1.25,1.25))\n",
    "ax.plot(bin_edges[1:], pdf, linewidth = 0.75, color = 'k')\n",
    "ax.plot(shuffbin_edges[1:], shuffpdf, linewidth = 0.75, color = 'k', alpha = 0.5)\n",
    "ax.set_ylabel('Probability', fontsize = 9)\n",
    "ax.set_xlabel('Sparsity', fontsize = 9)\n",
    "ax.set_xlim([0.25,1.5])\n",
    "ax.set_ylim([0,0.06])\n",
    "ax.tick_params(labelsize = 8)\n",
    "ax.set_yticks([0,0.03,0.06])\n",
    "plt.savefig(save_folder + '5C.png', dpi=400, bbox_inches='tight')\n",
    "plt.savefig(save_folder + '5C.svg', dpi=400, bbox_inches='tight')\n",
    "plt.show()\n",
    "\n",
    "#STATS\n",
    "#sparsity SPATIAL VS SHUFF\n",
    "print('\\nMean, SEM Real Sparsity:')\n",
    "print(np.nanmean(spatialsparsity), stats.sem(spatialsparsity, nan_policy = 'omit')) \n",
    "print('Mean, SEM Shuffle Sparsity:')\n",
    "print(np.nanmean(spatialshuffsparsity), stats.sem(spatialshuffsparsity, nan_policy = 'omit')) \n",
    "\n",
    "stat, p_diff = stats.wilcoxon(spatialsparsity[~np.isnan(spatialshuffsparsity)], spatialshuffsparsity[~np.isnan(spatialshuffsparsity)])\n",
    "print('stat = ' + str(stat))\n",
    "print('p_cells = ' + str(p_diff))\n",
    "print('n model pairs sparsity: ' + str(len(spatialsparsity[~np.isnan(spatialshuffsparsity)])))"
   ]
  },
  {
   "cell_type": "code",
   "execution_count": 18,
   "id": "64c42f88",
   "metadata": {},
   "outputs": [
    {
     "data": {
      "image/png": "[encoded data removed]",
      "text/plain": [
       "<Figure size 125x125 with 1 Axes>"
      ]
     },
     "metadata": {},
     "output_type": "display_data"
    }
   ],
   "source": [
    "''' Plot Spatial Density by Session across Age Groups (Figure 5D) '''\n",
    "\n",
    "#Plot Figure 5d\n",
    "fig, ax = plt.subplots(figsize = (1.25,1.25))\n",
    "per99 = [sper99[y_sind],sper99[age_sind]]\n",
    "labels = ['Young','Aged']\n",
    "w = 0.5\n",
    "\n",
    "plt.boxplot(per99, widths = w, labels = labels, medianprops = dict(color = 'black'))\n",
    "#ax.set_title('Session Spatial Cell Density', fontsize=12, pad=5)\n",
    "ax.set_xlabel('Age', fontsize=9, labelpad=1)\n",
    "ax.set_xticklabels(labels = labels, fontsize=9)\n",
    "ax.set_ylabel('% Spatial Cell', fontsize=9, labelpad=1)\n",
    "ax.set_ylim([-5,100])\n",
    "ax.tick_params(labelsize = 8)\n",
    "\n",
    "for i in range(len(per99)):\n",
    "    y = per99[i]\n",
    "    x = np.random.normal(i + 1, 0.04, len(y))\n",
    "    plt.scatter(x, y, color = col_session[i], edgecolors = col_session[i], alpha = 1, s = 10)\n",
    "\n",
    "#ax.legend(ncol = 3, handles = handles, labels = label_mice, loc = 'upper right',bbox_to_anchor=(1.65, 1))\n",
    "plt.savefig(save_folder + '5D.png', dpi=400, bbox_inches='tight')\n",
    "plt.savefig(save_folder + '5D.svg', dpi=400, bbox_inches='tight')\n",
    "plt.show()"
   ]
  },
  {
   "cell_type": "code",
   "execution_count": 19,
   "id": "e083bb8e",
   "metadata": {},
   "outputs": [
    {
     "name": "stdout",
     "output_type": "stream",
     "text": [
      "\n",
      "perSC_young ± SEM, perSC_old ± SEM\n",
      "44.29 ± 3.52 ; 32.37 ± 2.79\n",
      "\n",
      "p_session, % P99 spatial cell = 0.01364298972125631\n",
      "n young, n aged = 44, 42\n"
     ]
    }
   ],
   "source": [
    "''' Statistically Compare Young vs. Aged Spatial Cell Density '''\n",
    "\n",
    "print('\\nperSC_young ± SEM, perSC_old ± SEM')\n",
    "print(str(np.round(np.mean(sper99[y_sind]), 2)) + ' ± ' + str(np.round(stats.sem(sper99[y_sind]), 2)) + ' ; ' \n",
    "      + str(np.round(np.mean(sper99[age_sind]), 2)) + ' ± ' + str(np.round(stats.sem(sper99[age_sind]), 2)))\n",
    "\n",
    "stat, p_diff = stats.ranksums(sper99[y_sind],sper99[age_sind])\n",
    "print('\\np_session, % P99 spatial cell = ' + str(p_diff))\n",
    "print('n young, n aged = ' + str(len(y_sind)) + ', ' + str(len(age_sind)))"
   ]
  },
  {
   "cell_type": "markdown",
   "id": "7a0ca1a5",
   "metadata": {},
   "source": [
    "# Spatial Cell Coherence, Spatial Info, Stability (Figure 5E-G)"
   ]
  },
  {
   "cell_type": "code",
   "execution_count": 20,
   "id": "36da6247",
   "metadata": {
    "scrolled": true
   },
   "outputs": [
    {
     "data": {
      "application/vnd.jupyter.widget-view+json": {
       "model_id": "7245f3e8f599403c804a208ea4eb8885",
       "version_major": 2,
       "version_minor": 0
      },
      "text/plain": [
       "  0%|          | 0/6 [00:00<?, ?it/s]"
      ]
     },
     "metadata": {},
     "output_type": "display_data"
    },
    {
     "data": {
      "application/vnd.jupyter.widget-view+json": {
       "model_id": "f003d07f36ab49e695252299b8286d07",
       "version_major": 2,
       "version_minor": 0
      },
      "text/plain": [
       "  0%|          | 0/6 [00:00<?, ?it/s]"
      ]
     },
     "metadata": {},
     "output_type": "display_data"
    },
    {
     "data": {
      "application/vnd.jupyter.widget-view+json": {
       "model_id": "56cf20b99ca84ad4a9eb74ac1f0a4029",
       "version_major": 2,
       "version_minor": 0
      },
      "text/plain": [
       "  0%|          | 0/6 [00:00<?, ?it/s]"
      ]
     },
     "metadata": {},
     "output_type": "display_data"
    },
    {
     "data": {
      "application/vnd.jupyter.widget-view+json": {
       "model_id": "2b23863c7ad840ab831064b26ff7898f",
       "version_major": 2,
       "version_minor": 0
      },
      "text/plain": [
       "  0%|          | 0/6 [00:00<?, ?it/s]"
      ]
     },
     "metadata": {},
     "output_type": "display_data"
    },
    {
     "data": {
      "application/vnd.jupyter.widget-view+json": {
       "model_id": "be4842f6793c475d9ea37ae1f006ed10",
       "version_major": 2,
       "version_minor": 0
      },
      "text/plain": [
       "  0%|          | 0/6 [00:00<?, ?it/s]"
      ]
     },
     "metadata": {},
     "output_type": "display_data"
    },
    {
     "data": {
      "application/vnd.jupyter.widget-view+json": {
       "model_id": "2a8ea1d5009f4fc39c60b868db670b17",
       "version_major": 2,
       "version_minor": 0
      },
      "text/plain": [
       "  0%|          | 0/6 [00:00<?, ?it/s]"
      ]
     },
     "metadata": {},
     "output_type": "display_data"
    },
    {
     "data": {
      "application/vnd.jupyter.widget-view+json": {
       "model_id": "914021b069a045f4ba550b350558d6c2",
       "version_major": 2,
       "version_minor": 0
      },
      "text/plain": [
       "  0%|          | 0/6 [00:00<?, ?it/s]"
      ]
     },
     "metadata": {},
     "output_type": "display_data"
    },
    {
     "data": {
      "application/vnd.jupyter.widget-view+json": {
       "model_id": "f6f3bab648504b9c9534ba26ca7592fb",
       "version_major": 2,
       "version_minor": 0
      },
      "text/plain": [
       "  0%|          | 0/5 [00:00<?, ?it/s]"
      ]
     },
     "metadata": {},
     "output_type": "display_data"
    },
    {
     "data": {
      "application/vnd.jupyter.widget-view+json": {
       "model_id": "665587aa4a2549209bbc105217a54ac7",
       "version_major": 2,
       "version_minor": 0
      },
      "text/plain": [
       "  0%|          | 0/3 [00:00<?, ?it/s]"
      ]
     },
     "metadata": {},
     "output_type": "display_data"
    },
    {
     "data": {
      "application/vnd.jupyter.widget-view+json": {
       "model_id": "b4ffdad1da094769b0c48142f648848b",
       "version_major": 2,
       "version_minor": 0
      },
      "text/plain": [
       "  0%|          | 0/6 [00:00<?, ?it/s]"
      ]
     },
     "metadata": {},
     "output_type": "display_data"
    },
    {
     "data": {
      "application/vnd.jupyter.widget-view+json": {
       "model_id": "b7432839ce46463a81bb94e5caf44ba2",
       "version_major": 2,
       "version_minor": 0
      },
      "text/plain": [
       "  0%|          | 0/6 [00:00<?, ?it/s]"
      ]
     },
     "metadata": {},
     "output_type": "display_data"
    },
    {
     "data": {
      "application/vnd.jupyter.widget-view+json": {
       "model_id": "e312bae9ba6446b69dd82e7bfd0c39e1",
       "version_major": 2,
       "version_minor": 0
      },
      "text/plain": [
       "  0%|          | 0/6 [00:00<?, ?it/s]"
      ]
     },
     "metadata": {},
     "output_type": "display_data"
    },
    {
     "data": {
      "application/vnd.jupyter.widget-view+json": {
       "model_id": "6076a0ca79334ecfa23b63d58542d31a",
       "version_major": 2,
       "version_minor": 0
      },
      "text/plain": [
       "  0%|          | 0/5 [00:00<?, ?it/s]"
      ]
     },
     "metadata": {},
     "output_type": "display_data"
    },
    {
     "data": {
      "application/vnd.jupyter.widget-view+json": {
       "model_id": "1a8ff4135f484585aa6df133deb85bbb",
       "version_major": 2,
       "version_minor": 0
      },
      "text/plain": [
       "  0%|          | 0/5 [00:00<?, ?it/s]"
      ]
     },
     "metadata": {},
     "output_type": "display_data"
    },
    {
     "data": {
      "application/vnd.jupyter.widget-view+json": {
       "model_id": "84770d8ee9bc48f7a03f7635ef866ba3",
       "version_major": 2,
       "version_minor": 0
      },
      "text/plain": [
       "  0%|          | 0/6 [00:00<?, ?it/s]"
      ]
     },
     "metadata": {},
     "output_type": "display_data"
    },
    {
     "data": {
      "application/vnd.jupyter.widget-view+json": {
       "model_id": "8cb50d8350aa4981848b45efd3360df1",
       "version_major": 2,
       "version_minor": 0
      },
      "text/plain": [
       "  0%|          | 0/2 [00:00<?, ?it/s]"
      ]
     },
     "metadata": {},
     "output_type": "display_data"
    },
    {
     "name": "stderr",
     "output_type": "stream",
     "text": [
      "C:\\Users\\Python\\AppData\\Local\\Temp\\ipykernel_29392\\432619366.py:42: RuntimeWarning: Mean of empty slice\n",
      "  scoherence99 = np.append(scoherence99, np.nanmean(coherencescore99))\n",
      "C:\\Users\\Python\\AppData\\Local\\Temp\\ipykernel_29392\\432619366.py:43: RuntimeWarning: Mean of empty slice\n",
      "  sshufcoherence = np.append(sshufcoherence, np.nanmean(shuffcoherence99))\n"
     ]
    }
   ],
   "source": [
    "'''Store Spatial Coherence & Shuff Coherence Scores'''\n",
    "dt = 0.02\n",
    "\n",
    "scoherence99 = []\n",
    "sshufcoherence = []\n",
    "\n",
    "for m, session in zip(mice,sessions):\n",
    "    for s in tdqm(session):\n",
    "        d = data[m][s]\n",
    "        \n",
    "        #load data\n",
    "        rawdata_file = 'RAW_' + m + '_' + s + '.npy'\n",
    "        spikes_file = 'SPIKES_' + m + '_' + s +'.npy'\n",
    "        behavior_file = 'BEHAVIOR_' + m + '_' + s + '.npy'\n",
    "        spatialcell95_file = 'spatialcell99_' + m + '_' + s + '.npy'\n",
    "        spatialcell99_file = 'spatialcell99_' + m + '_' + s + '.npy'\n",
    "        \n",
    "        raw = np.load(load_folder + rawdata_file, allow_pickle=True)\n",
    "        Y = np.load(load_folder + spikes_file, allow_pickle=False) #pre-filtered for speeds >2cm/s, position-corrected spikes, 20 ms timebins\n",
    "        behaviorfil = np.load(load_folder + behavior_file, allow_pickle=False)\n",
    "        \n",
    "        cell_IDs = raw.item().get('cellsfil')\n",
    "\n",
    "        spatialcell99 = d['spatialcell99']\n",
    "        spatialcells99 = cell_IDs[spatialcell99]\n",
    "        \n",
    "        #get cell IDs, filtered behavioral/spike data, & relevant scores\n",
    "        cell_IDs = raw.item().get('cellsfil')\n",
    "        spatialcoherence_scores = d['spatialcoherencescores']\n",
    "        shuffspatialcoherencescores = d['shuffspatialcoherencescores']\n",
    "        \n",
    "        #Calculate Spatial Cell Density\n",
    "        coherencescore99 = []\n",
    "        shuffcoherence99 = []\n",
    "        for i, c in enumerate(spatialcells99):\n",
    "            sdx = (np.where(cell_IDs==c)[0][0]).astype(int)\n",
    "    \n",
    "            coherencescore99 = np.append(coherencescore99,spatialcoherence_scores[sdx])\n",
    "            shuffcoherence99 = np.append(shuffcoherence99, np.nanmean(np.ravel(shuffspatialcoherencescores[:,sdx])))\n",
    "            \n",
    "        #pool data into session arrays    \n",
    "        scoherence99 = np.append(scoherence99, np.nanmean(coherencescore99))\n",
    "        sshufcoherence = np.append(sshufcoherence, np.nanmean(shuffcoherence99))"
   ]
  },
  {
   "cell_type": "code",
   "execution_count": 21,
   "id": "54be2128",
   "metadata": {},
   "outputs": [],
   "source": [
    "''' Find where I will have NaNs for Scores, Mean & Peak FR, Slope, Y-Int'''\n",
    "nan_idx99 = np.where((sper99 == 0))[0]\n",
    "\n",
    "# Adjust y_sind, ma_sind, age_sind for subsequent plots\n",
    "y_sind99 = np.setdiff1d(y_sind, nan_idx99)\n",
    "age_sind99 = np.setdiff1d(age_sind, nan_idx99)\n",
    "\n",
    "# Adjust colormaps\n",
    "yidx = []\n",
    "aidx = []\n",
    "for i in nan_idx99:\n",
    "    yidx = np.append(yidx, np.where(y_sind == i)[0].astype(int))\n",
    "    aidx = np.append(aidx, np.where(age_sind == i)[0].astype(int))\n",
    "    \n",
    "col_session_young99 = np.delete(col_session_young, list((yidx).astype(int)), axis = 0)\n",
    "col_session_old99 = np.delete(col_session_old, list(aidx), axis = 0)\n",
    "col_session99 = [col_session_young99, col_session_old99] \n",
    "\n",
    "# This will fix session stats & box plots are plotted."
   ]
  },
  {
   "cell_type": "code",
   "execution_count": 22,
   "id": "c6fe6228",
   "metadata": {},
   "outputs": [
    {
     "data": {
      "image/png": "[encoded data removed]",
      "text/plain": [
       "<Figure size 125x125 with 1 Axes>"
      ]
     },
     "metadata": {},
     "output_type": "display_data"
    }
   ],
   "source": [
    "''' Plot Spatial Cell Coherence vs. Shuffle by Age Group (Figure 5E)'''\n",
    "fig, ax = plt.subplots(figsize = (1.25,1.25))\n",
    "scoherence99_tog = [scoherence99[y_sind99],scoherence99[age_sind99]]\n",
    "\n",
    "labels = ['Young','Aged']\n",
    "w = 0.5\n",
    "\n",
    "plt.boxplot(scoherence99_tog, widths = w, labels = labels, medianprops = dict(color = 'black'))\n",
    "#ax.set_title('Session Spatial Cell Density', fontsize=12, pad=5)\n",
    "ax.set_xlabel('Age', fontsize=9, labelpad=1)\n",
    "ax.set_xticklabels(labels = labels, fontsize=9)\n",
    "ax.set_ylabel('Mean Coherence', fontsize=9, labelpad=1)\n",
    "ax.set_ylim([0.15,1])\n",
    "ax.set_yticks([0.3,0.6,0.9])\n",
    "ax.tick_params(labelsize = 8)\n",
    "\n",
    "for i in range(len(scoherence99_tog)):\n",
    "    y = scoherence99_tog[i]\n",
    "    x = np.random.normal(i + 1, 0.04, len(y))\n",
    "    plt.scatter(x, y, color = col_session99[i], edgecolors = col_session99[i], alpha = 1, s = 10)\n",
    "\n",
    "#ax.legend(ncol = 3, handles = handles, labels = label_mice, loc = 'upper right',bbox_to_anchor=(1.65, 1)\n",
    "ax.hlines(np.mean(sshufcoherence[y_sind99]), 0.75, 1.25, color = 'C0', linestyle ='dashed', linewidth = 0.75, label = 'Young Shuffle')\n",
    "ax.hlines(np.mean(sshufcoherence[age_sind99]), 1.75, 2.25, color = 'C1', linestyle ='dashed', linewidth = 0.75, label = 'Aged Shuffle')\n",
    "plt.savefig(save_folder + '5E.png', dpi=400, bbox_inches='tight')\n",
    "plt.savefig(save_folder + '5E.svg', dpi=400, bbox_inches='tight')\n",
    "plt.show()"
   ]
  },
  {
   "cell_type": "code",
   "execution_count": 23,
   "id": "4d00bac5",
   "metadata": {},
   "outputs": [
    {
     "name": "stdout",
     "output_type": "stream",
     "text": [
      "Young v. Aged Real Results:\n",
      "coherenceSC_young ± SEM, coherenceSC_old ± SEM\n",
      "0.7425 ± 0.0108 ; 0.648 ± 0.0136\n",
      "stat = 5.045386221099917\n",
      "p_session, P99 spatial coherence = 4.5260616809627313e-07\n",
      "n young, n aged = 43, 42\n",
      "\n",
      "Young v. Aged Shuffle Results:\n",
      "shuffcoherenceSC_young ± SEM, shuffcoherenceSC_old ± SEM\n",
      "0.2517 ± 0.0081 ; 0.193 ± 0.0084\n",
      "stat = 4.491624318784073\n",
      "p_session, P99 spatial shuff coherence = 7.068202278383403e-06\n",
      "\n",
      "Young Shuffle vs. Real Results:\n",
      "shuffcoherenceSC_young ± SEM, coherenceSC_young ± SEM\n",
      "0.2517 ± 0.0081 ; 0.7425 ± 0.0108\n",
      "stat = 0.0\n",
      "p_session, P99 spatial coherence = 2.2737367544323206e-13\n",
      "\n",
      "Aged Shuffle vs. Real Results:\n",
      "shuffcoherenceSC_old ± SEM, coherenceSC_old ± SEM\n",
      "0.193 ± 0.0084 ; 0.648 ± 0.0136\n",
      "stat = 0.0\n",
      "p_session, P99 spatial coherence = 4.547473508864641e-13\n"
     ]
    }
   ],
   "source": [
    "''' Statistics on Coherence '''\n",
    "print('Young v. Aged Real Results:')\n",
    "print('coherenceSC_young ± SEM, coherenceSC_old ± SEM')\n",
    "print(str(np.round(np.mean(scoherence99[y_sind99]), 4)) + ' ± ' + str(np.round(stats.sem(scoherence99[y_sind99]), 4)) + ' ; ' \n",
    "      + str(np.round(np.mean(scoherence99[age_sind99]), 4)) + ' ± ' + str(np.round(stats.sem(scoherence99[age_sind99]), 4)))\n",
    "\n",
    "stat, p_diff = stats.ranksums(scoherence99[y_sind99],scoherence99[age_sind99])\n",
    "print('stat = ' + str(stat))\n",
    "print('p_session, P99 spatial coherence = ' + str(p_diff))\n",
    "print('n young, n aged = ' + str(len(y_sind99)) + ', ' + str(len(age_sind99)))\n",
    "\n",
    "print('\\nYoung v. Aged Shuffle Results:')\n",
    "print('shuffcoherenceSC_young ± SEM, shuffcoherenceSC_old ± SEM')\n",
    "print(str(np.round(np.mean(sshufcoherence[y_sind99]), 4)) + ' ± ' + str(np.round(stats.sem(sshufcoherence[y_sind99]), 4)) + ' ; ' \n",
    "      + str(np.round(np.mean(sshufcoherence[age_sind99]), 4)) + ' ± ' + str(np.round(stats.sem(sshufcoherence[age_sind99]), 4)))\n",
    "\n",
    "stat, p_diff = stats.ranksums(sshufcoherence[y_sind99],sshufcoherence[age_sind99])\n",
    "print('stat = ' + str(stat))\n",
    "print('p_session, P99 spatial shuff coherence = ' + str(p_diff))\n",
    "\n",
    "print('\\nYoung Shuffle vs. Real Results:')\n",
    "print('shuffcoherenceSC_young ± SEM, coherenceSC_young ± SEM')\n",
    "print(str(np.round(np.mean(sshufcoherence[y_sind99]), 4)) + ' ± ' + str(np.round(stats.sem(sshufcoherence[y_sind99]), 4)) + ' ; ' \n",
    "      + str(np.round(np.mean(scoherence99[y_sind99]), 4)) + ' ± ' + str(np.round(stats.sem(scoherence99[y_sind99]), 4)))\n",
    "\n",
    "stat, p_diff = stats.wilcoxon(sshufcoherence[y_sind99],scoherence99[y_sind99])\n",
    "print('stat = ' + str(stat))\n",
    "print('p_session, P99 spatial coherence = ' + str(p_diff))\n",
    "\n",
    "print('\\nAged Shuffle vs. Real Results:')\n",
    "print('shuffcoherenceSC_old ± SEM, coherenceSC_old ± SEM')\n",
    "print(str(np.round(np.mean(sshufcoherence[age_sind99]), 4)) + ' ± ' + str(np.round(stats.sem(sshufcoherence[age_sind99]), 4)) + ' ; ' \n",
    "      + str(np.round(np.mean(scoherence99[age_sind99]), 4)) + ' ± ' + str(np.round(stats.sem(scoherence99[age_sind99]), 4)))\n",
    "\n",
    "stat, p_diff = stats.wilcoxon(sshufcoherence[age_sind99],scoherence99[age_sind99])\n",
    "print('stat = ' + str(stat))\n",
    "print('p_session, P99 spatial coherence = ' + str(p_diff))"
   ]
  },
  {
   "cell_type": "code",
   "execution_count": 24,
   "id": "aa27d849",
   "metadata": {
    "scrolled": true
   },
   "outputs": [
    {
     "data": {
      "application/vnd.jupyter.widget-view+json": {
       "model_id": "61971e6fd3d647cc86fde6efa5031867",
       "version_major": 2,
       "version_minor": 0
      },
      "text/plain": [
       "  0%|          | 0/6 [00:00<?, ?it/s]"
      ]
     },
     "metadata": {},
     "output_type": "display_data"
    },
    {
     "data": {
      "application/vnd.jupyter.widget-view+json": {
       "model_id": "fd88ba4106c2445f925e66b718aebe7e",
       "version_major": 2,
       "version_minor": 0
      },
      "text/plain": [
       "  0%|          | 0/6 [00:00<?, ?it/s]"
      ]
     },
     "metadata": {},
     "output_type": "display_data"
    },
    {
     "data": {
      "application/vnd.jupyter.widget-view+json": {
       "model_id": "4194df1784064484808ad11ef0e4382b",
       "version_major": 2,
       "version_minor": 0
      },
      "text/plain": [
       "  0%|          | 0/6 [00:00<?, ?it/s]"
      ]
     },
     "metadata": {},
     "output_type": "display_data"
    },
    {
     "data": {
      "application/vnd.jupyter.widget-view+json": {
       "model_id": "35515844a21743cb8fba6ca875563aea",
       "version_major": 2,
       "version_minor": 0
      },
      "text/plain": [
       "  0%|          | 0/6 [00:00<?, ?it/s]"
      ]
     },
     "metadata": {},
     "output_type": "display_data"
    },
    {
     "data": {
      "application/vnd.jupyter.widget-view+json": {
       "model_id": "236223e97343462688161ebbe60f9c83",
       "version_major": 2,
       "version_minor": 0
      },
      "text/plain": [
       "  0%|          | 0/6 [00:00<?, ?it/s]"
      ]
     },
     "metadata": {},
     "output_type": "display_data"
    },
    {
     "data": {
      "application/vnd.jupyter.widget-view+json": {
       "model_id": "9012ccedb65d432babc34c26024dabd6",
       "version_major": 2,
       "version_minor": 0
      },
      "text/plain": [
       "  0%|          | 0/6 [00:00<?, ?it/s]"
      ]
     },
     "metadata": {},
     "output_type": "display_data"
    },
    {
     "data": {
      "application/vnd.jupyter.widget-view+json": {
       "model_id": "3288585571024672955d9a409cf450d7",
       "version_major": 2,
       "version_minor": 0
      },
      "text/plain": [
       "  0%|          | 0/6 [00:00<?, ?it/s]"
      ]
     },
     "metadata": {},
     "output_type": "display_data"
    },
    {
     "data": {
      "application/vnd.jupyter.widget-view+json": {
       "model_id": "1a6d47922c274f35b72592ac34d45b5c",
       "version_major": 2,
       "version_minor": 0
      },
      "text/plain": [
       "  0%|          | 0/5 [00:00<?, ?it/s]"
      ]
     },
     "metadata": {},
     "output_type": "display_data"
    },
    {
     "data": {
      "application/vnd.jupyter.widget-view+json": {
       "model_id": "b3f8b82a843947e885a261328ca49999",
       "version_major": 2,
       "version_minor": 0
      },
      "text/plain": [
       "  0%|          | 0/3 [00:00<?, ?it/s]"
      ]
     },
     "metadata": {},
     "output_type": "display_data"
    },
    {
     "data": {
      "application/vnd.jupyter.widget-view+json": {
       "model_id": "45d39545aeb447ff9c1eb965cc4acf2e",
       "version_major": 2,
       "version_minor": 0
      },
      "text/plain": [
       "  0%|          | 0/6 [00:00<?, ?it/s]"
      ]
     },
     "metadata": {},
     "output_type": "display_data"
    },
    {
     "data": {
      "application/vnd.jupyter.widget-view+json": {
       "model_id": "06ef0bba13634f089c1388a5223e551f",
       "version_major": 2,
       "version_minor": 0
      },
      "text/plain": [
       "  0%|          | 0/6 [00:00<?, ?it/s]"
      ]
     },
     "metadata": {},
     "output_type": "display_data"
    },
    {
     "data": {
      "application/vnd.jupyter.widget-view+json": {
       "model_id": "04d702eb52e746e8a22a67d880f587ac",
       "version_major": 2,
       "version_minor": 0
      },
      "text/plain": [
       "  0%|          | 0/6 [00:00<?, ?it/s]"
      ]
     },
     "metadata": {},
     "output_type": "display_data"
    },
    {
     "data": {
      "application/vnd.jupyter.widget-view+json": {
       "model_id": "a60d53183e0c4d7fae8baec9e0c2d186",
       "version_major": 2,
       "version_minor": 0
      },
      "text/plain": [
       "  0%|          | 0/5 [00:00<?, ?it/s]"
      ]
     },
     "metadata": {},
     "output_type": "display_data"
    },
    {
     "data": {
      "application/vnd.jupyter.widget-view+json": {
       "model_id": "0fa6a15979a042de9455b68d1c046a53",
       "version_major": 2,
       "version_minor": 0
      },
      "text/plain": [
       "  0%|          | 0/5 [00:00<?, ?it/s]"
      ]
     },
     "metadata": {},
     "output_type": "display_data"
    },
    {
     "data": {
      "application/vnd.jupyter.widget-view+json": {
       "model_id": "c295eb4ab4814ee888d8fdd64a854656",
       "version_major": 2,
       "version_minor": 0
      },
      "text/plain": [
       "  0%|          | 0/6 [00:00<?, ?it/s]"
      ]
     },
     "metadata": {},
     "output_type": "display_data"
    },
    {
     "data": {
      "application/vnd.jupyter.widget-view+json": {
       "model_id": "a08ada053a4042dd899e10d3c09347d8",
       "version_major": 2,
       "version_minor": 0
      },
      "text/plain": [
       "  0%|          | 0/2 [00:00<?, ?it/s]"
      ]
     },
     "metadata": {},
     "output_type": "display_data"
    },
    {
     "name": "stderr",
     "output_type": "stream",
     "text": [
      "C:\\Users\\Python\\AppData\\Local\\Temp\\ipykernel_29392\\574906910.py:54: RuntimeWarning: Mean of empty slice\n",
      "  sinfo99 = np.append(sinfo99, np.nanmean(info99))\n"
     ]
    }
   ],
   "source": [
    "''' Calculate Spatial Information Scores for all Spatial Cells '''\n",
    "\n",
    "# parameters\n",
    "track_length = 400 #cm\n",
    "b = 2 #cm\n",
    "n_bin = int(track_length/b)\n",
    "dt = 0.02\n",
    "\n",
    "sinfo99 = []\n",
    "\n",
    "for m, session in zip(mice,sessions):\n",
    "    \n",
    "    for s in tdqm(session):\n",
    "        d = data[m][s]\n",
    "        \n",
    "        #get some data & cell IDs\n",
    "        rawdata_file = 'RAW_' + m + '_' + s + '.npy'\n",
    "        spikes_file = 'SPIKES_' + m + '_' + s +'.npy'\n",
    "        behavior_file = 'BEHAVIOR_' + m + '_' + s + '.npy'\n",
    "        \n",
    "        raw = np.load(load_folder + rawdata_file, allow_pickle=True)\n",
    "        Y = np.load(load_folder + spikes_file, allow_pickle=False) #pre-filtered for speeds >2cm/s, position-corrected spikes, 20 ms timebins\n",
    "        behaviorfil = np.load(load_folder + behavior_file, allow_pickle=False)\n",
    "\n",
    "        cell_IDs = raw.item().get('cellsfil')\n",
    "        posxfil = behaviorfil[:,0]\n",
    "        trial = behaviorfil[:,2]\n",
    "        post = behaviorfil[:,3]\n",
    "        spatialcells99 = d['spatialcells99']\n",
    "        total_time = max(post) - min(post)\n",
    "        \n",
    "        #provide some track info & calculate smooth spatially binned FR\n",
    "        smoothFR, _ , smoothocc = ps.tuning_curve(posxfil, Y, dt, b=2, smooth=True, l=2, SEM=False, occupancy = True) #FR shape (n_bins, n_cells)\n",
    "            \n",
    "        info99 = []\n",
    "        for i, c in enumerate(spatialcells99):\n",
    "            sdx = (np.where(cell_IDs==c)[0][0]).astype(int)\n",
    "            \n",
    "            meanFR = np.mean(smoothFR[:,sdx]) #calculate spatial info score\n",
    "            products = []\n",
    "            for b in range(0,n_bin):\n",
    "                binmeanFR = smoothFR[b,sdx]\n",
    "                div = binmeanFR / meanFR\n",
    "                if div == 0:\n",
    "                    products = np.append(products,0)\n",
    "                else: \n",
    "                    log = math.log2(div)\n",
    "                    prob = smoothocc[b,sdx]/total_time\n",
    "                    prod = prob*log*div \n",
    "                    products = np.append(products,prod)\n",
    "            info99 = np.append(info99, np.sum(products))  \n",
    "            \n",
    "        #pool data into session arrays    \n",
    "        sinfo99 = np.append(sinfo99, np.nanmean(info99))"
   ]
  },
  {
   "cell_type": "code",
   "execution_count": 25,
   "id": "ee53f81a",
   "metadata": {
    "scrolled": true
   },
   "outputs": [
    {
     "data": {
      "application/vnd.jupyter.widget-view+json": {
       "model_id": "49d680ab159f4f7b9a0f7acad12ba756",
       "version_major": 2,
       "version_minor": 0
      },
      "text/plain": [
       "  0%|          | 0/6 [00:00<?, ?it/s]"
      ]
     },
     "metadata": {},
     "output_type": "display_data"
    },
    {
     "data": {
      "application/vnd.jupyter.widget-view+json": {
       "model_id": "f48da3e7cd154c69b03ada6b677ac433",
       "version_major": 2,
       "version_minor": 0
      },
      "text/plain": [
       "  0%|          | 0/6 [00:00<?, ?it/s]"
      ]
     },
     "metadata": {},
     "output_type": "display_data"
    },
    {
     "data": {
      "application/vnd.jupyter.widget-view+json": {
       "model_id": "3ac6d59d792b4df1b032371c336373c2",
       "version_major": 2,
       "version_minor": 0
      },
      "text/plain": [
       "  0%|          | 0/6 [00:00<?, ?it/s]"
      ]
     },
     "metadata": {},
     "output_type": "display_data"
    },
    {
     "data": {
      "application/vnd.jupyter.widget-view+json": {
       "model_id": "e15acebd3f5449c2acd66987c592401e",
       "version_major": 2,
       "version_minor": 0
      },
      "text/plain": [
       "  0%|          | 0/6 [00:00<?, ?it/s]"
      ]
     },
     "metadata": {},
     "output_type": "display_data"
    },
    {
     "data": {
      "application/vnd.jupyter.widget-view+json": {
       "model_id": "a890a7f7538348d29645e94a80cb2d81",
       "version_major": 2,
       "version_minor": 0
      },
      "text/plain": [
       "  0%|          | 0/6 [00:00<?, ?it/s]"
      ]
     },
     "metadata": {},
     "output_type": "display_data"
    },
    {
     "data": {
      "application/vnd.jupyter.widget-view+json": {
       "model_id": "7510289a83e143d2845f7a0f9a99e45d",
       "version_major": 2,
       "version_minor": 0
      },
      "text/plain": [
       "  0%|          | 0/6 [00:00<?, ?it/s]"
      ]
     },
     "metadata": {},
     "output_type": "display_data"
    },
    {
     "data": {
      "application/vnd.jupyter.widget-view+json": {
       "model_id": "b7066c225aaf41ac8462cc9036752044",
       "version_major": 2,
       "version_minor": 0
      },
      "text/plain": [
       "  0%|          | 0/6 [00:00<?, ?it/s]"
      ]
     },
     "metadata": {},
     "output_type": "display_data"
    },
    {
     "data": {
      "application/vnd.jupyter.widget-view+json": {
       "model_id": "985efbe0953242bb90ce1a26aa96eb7f",
       "version_major": 2,
       "version_minor": 0
      },
      "text/plain": [
       "  0%|          | 0/5 [00:00<?, ?it/s]"
      ]
     },
     "metadata": {},
     "output_type": "display_data"
    },
    {
     "data": {
      "application/vnd.jupyter.widget-view+json": {
       "model_id": "48a57b52eb2649f688d5887b6ef109b5",
       "version_major": 2,
       "version_minor": 0
      },
      "text/plain": [
       "  0%|          | 0/3 [00:00<?, ?it/s]"
      ]
     },
     "metadata": {},
     "output_type": "display_data"
    },
    {
     "data": {
      "application/vnd.jupyter.widget-view+json": {
       "model_id": "94dbcbf3c370440a85a08dc59b88d52f",
       "version_major": 2,
       "version_minor": 0
      },
      "text/plain": [
       "  0%|          | 0/6 [00:00<?, ?it/s]"
      ]
     },
     "metadata": {},
     "output_type": "display_data"
    },
    {
     "data": {
      "application/vnd.jupyter.widget-view+json": {
       "model_id": "47bbe19726f94963a8e380b08d11ad82",
       "version_major": 2,
       "version_minor": 0
      },
      "text/plain": [
       "  0%|          | 0/6 [00:00<?, ?it/s]"
      ]
     },
     "metadata": {},
     "output_type": "display_data"
    },
    {
     "data": {
      "application/vnd.jupyter.widget-view+json": {
       "model_id": "359753e315ca4edc827c4d00fab550fd",
       "version_major": 2,
       "version_minor": 0
      },
      "text/plain": [
       "  0%|          | 0/6 [00:00<?, ?it/s]"
      ]
     },
     "metadata": {},
     "output_type": "display_data"
    },
    {
     "data": {
      "application/vnd.jupyter.widget-view+json": {
       "model_id": "c4231d94ca6548798a292ee7b8c320ad",
       "version_major": 2,
       "version_minor": 0
      },
      "text/plain": [
       "  0%|          | 0/5 [00:00<?, ?it/s]"
      ]
     },
     "metadata": {},
     "output_type": "display_data"
    },
    {
     "data": {
      "application/vnd.jupyter.widget-view+json": {
       "model_id": "37bc94e696a0499195822005d0a542c1",
       "version_major": 2,
       "version_minor": 0
      },
      "text/plain": [
       "  0%|          | 0/5 [00:00<?, ?it/s]"
      ]
     },
     "metadata": {},
     "output_type": "display_data"
    },
    {
     "data": {
      "application/vnd.jupyter.widget-view+json": {
       "model_id": "1a39b42204174a4698093191f8e795df",
       "version_major": 2,
       "version_minor": 0
      },
      "text/plain": [
       "  0%|          | 0/6 [00:00<?, ?it/s]"
      ]
     },
     "metadata": {},
     "output_type": "display_data"
    },
    {
     "data": {
      "application/vnd.jupyter.widget-view+json": {
       "model_id": "799874c2ad6c424a963522affcc38b87",
       "version_major": 2,
       "version_minor": 0
      },
      "text/plain": [
       "  0%|          | 0/2 [00:00<?, ?it/s]"
      ]
     },
     "metadata": {},
     "output_type": "display_data"
    }
   ],
   "source": [
    "''' Get 1x Spatial Info Shuffle Score for each Cell '''\n",
    "\n",
    "sshufinfo99 = []\n",
    "\n",
    "# parameters\n",
    "track_length = 400 #cm\n",
    "b = 2 #cm\n",
    "n_bin = int(track_length/b)\n",
    "dt = 0.02\n",
    "\n",
    "for m, session in zip(mice,sessions):\n",
    "        \n",
    "    for s in tdqm(session):\n",
    "        \n",
    "        #get data\n",
    "        d = data[m][s]\n",
    "        \n",
    "        #get some data & cell IDs\n",
    "        rawdata_file = 'RAW_' + m + '_' + s + '.npy'\n",
    "        behavior_file = 'BEHAVIOR_' + m + '_' + s + '.npy'\n",
    "        \n",
    "        raw = np.load(load_folder + rawdata_file, allow_pickle=True)\n",
    "        behaviorfil = np.load(load_folder + behavior_file, allow_pickle=False)\n",
    "        \n",
    "        cell_IDs = raw.item().get('cellsfil')\n",
    "        spatialcell99 = d['spatialcell99']\n",
    "        spatialcells = cell_IDs[spatialcell99]\n",
    "    \n",
    "        posx = behaviorfil[:,0]\n",
    "        trial = behaviorfil[:,2]\n",
    "        rawtrialfil = raw.item().get('trialfil')\n",
    "        \n",
    "        ##Generate shuffled spike train for spatial cells only\n",
    "        #get stuff you will to shuffle & re-filter spike times\n",
    "        sp = raw.item().get('sp')\n",
    "        spiket = sp['st'].copy()\n",
    "        cluster_id = sp['clu'].copy()\n",
    "        rawposx = raw.item().get('posx')\n",
    "        rawpost = raw.item().get('post')\n",
    "        rawspeed = raw.item().get('speed')\n",
    "        \n",
    "        dt = np.unique(np.round(np.diff(rawpost),4))\n",
    "        if len(dt) > 1: # discard duplicate frame entries if they occurred\n",
    "            dt = dt[dt != 0]\n",
    "            dt_to_trash = np.where(np.diff(rawpost) == 0)[0]\n",
    "        else:\n",
    "            dt_to_trash = [] \n",
    "\n",
    "        # filter spikes & position frames by speed < 2cm/s or out of track limits \n",
    "        speed_to_trash = get.find(rawspeed < 2)\n",
    "        pos_to_trash = get.find((rawposx < 0) | (rawposx > 400))\n",
    "        trash_idx = np.unique(np.concatenate((dt_to_trash, speed_to_trash, pos_to_trash)))\n",
    "        keep_idx = np.setdiff1d(np.arange(len(rawspeed)), trash_idx)\n",
    "        \n",
    "        B = np.zeros((len(rawspeed), len(spatialcells))) # reset empty shuffled FR matrix    \n",
    "        for i, c in enumerate(spatialcells):\n",
    "            sdx = (np.where(cell_IDs==c)[0][0]).astype(int)\n",
    "\n",
    "            #get actual spike times for each cell\n",
    "            st = spiket[cluster_id == c]\n",
    "            st = st[(st >= min(rawpost)) & (st <= max(rawpost))]\n",
    "\n",
    "            #get shuffle times\n",
    "            st_shuf = st - min(rawpost)\n",
    "            total_time = max(rawpost) - min(rawpost)\n",
    "            add = np.random.uniform(0.02,total_time,1)\n",
    "            st_shuf = (st_shuf + add) % total_time\n",
    "            st_shuf = st_shuf + min(rawpost)\n",
    "\n",
    "            #get unfiltered spike train\n",
    "            spike_ct = np.zeros_like(rawpost)\n",
    "            spike_idx = np.digitize(st_shuf, rawpost) #obs corresponding to where each shuffled spike occurs\n",
    "\n",
    "            idx, cts = np.unique(spike_idx, return_counts = True)\n",
    "            spike_ct[idx] = cts\n",
    "            B[:,i] = spike_ct\n",
    "\n",
    "            #check for & interpolate any missing values\n",
    "            if sum(np.isnan(B[:,i])) > 0:\n",
    "                B[:,i] = get.nan_interp(B[:,i])  \n",
    "\n",
    "        #apply filter spike train by speed, dt, & posx errors\n",
    "        B = B[keep_idx,:]\n",
    "            \n",
    "        #get some data & cell IDs\n",
    "        posxfil = behaviorfil[:,0]\n",
    "        trial = behaviorfil[:,2]\n",
    "        post = behaviorfil[:,3]\n",
    "        total_time = max(post) - min(post)\n",
    "        \n",
    "        #provide some track info & calculate smooth spatially binned FR\n",
    "        smoothFR, _ , smoothocc = ps.tuning_curve(posxfil, B, dt, b=2, smooth=True, l=2, SEM=False, occupancy = True) #FR shape (n_bins, n_cells)\n",
    "           \n",
    "        #get spatial info for shuffle activity\n",
    "        shuffinfo99 = [] \n",
    "        for i, c in enumerate(spatialcells):\n",
    "            meanFR = np.mean(smoothFR[:,i]) #calculate spatial info score\n",
    "            products = []\n",
    "            for b in range(0,n_bin):\n",
    "                binmeanFR = smoothFR[b,i]\n",
    "                div = binmeanFR / meanFR\n",
    "                if div == 0:\n",
    "                    products = np.append(products,0)\n",
    "                else: \n",
    "                    log = math.log2(div)\n",
    "                    prob = smoothocc[b,i]/total_time\n",
    "                    prod = prob*log*div \n",
    "                    products = np.append(products,prod)\n",
    "            shuffinfo99 = np.append(shuffinfo99, np.sum(products)) \n",
    "            \n",
    "        sshufinfo99 = np.append(sshufinfo99, shuffinfo99)"
   ]
  },
  {
   "cell_type": "code",
   "execution_count": 26,
   "id": "b8089d51",
   "metadata": {},
   "outputs": [
    {
     "data": {
      "image/png": "[encoded data removed]",
      "text/plain": [
       "<Figure size 125x125 with 1 Axes>"
      ]
     },
     "metadata": {},
     "output_type": "display_data"
    }
   ],
   "source": [
    "''' Plot Spatial Cell Spatial Information vs. Shuffle by Age Group (Figure 5F) '''\n",
    "fig, ax = plt.subplots(figsize = (1.25,1.25))\n",
    "sinfo99_tog = [sinfo99[y_sind99],sinfo99[age_sind99]]\n",
    "\n",
    "labels = ['Young','Aged']\n",
    "w = 0.5\n",
    "\n",
    "plt.boxplot(sinfo99_tog, widths = w, labels = labels, medianprops = dict(color = 'black'))\n",
    "#ax.set_title('Session Spatial Cell Density', fontsize=12, pad=5)\n",
    "ax.set_xlabel('Age', fontsize=9, labelpad=1)\n",
    "ax.set_xticklabels(labels = labels, fontsize=9)\n",
    "ax.set_ylabel('Mean Info. (bits/spike)', fontsize=9, labelpad=1)\n",
    "ax.set_ylim([-0.05,0.35])\n",
    "ax.set_yticks([0,0.1,0.2,0.3])\n",
    "ax.tick_params(labelsize = 8)\n",
    "\n",
    "for i in range(len(sinfo99_tog)):\n",
    "    y = sinfo99_tog[i]\n",
    "    x = np.random.normal(i + 1, 0.04, len(y))\n",
    "    plt.scatter(x, y, color = col_session99[i], edgecolors = col_session99[i], alpha = 1, s = 10)\n",
    "\n",
    "#ax.legend(ncol = 3, handles = handles, labels = label_mice, loc = 'upper right',bbox_to_anchor=(1.65, 1))\n",
    "ax.hlines(np.mean(sshufinfo99[y_sind99]), 0.75, 1.25, color = 'C0', linestyle ='dashed', linewidth = 0.75, label = 'Young Shuffle')\n",
    "ax.hlines(np.mean(sshufinfo99[age_sind99]), 1.75, 2.25, color = 'C1', linestyle ='dashed', linewidth = 0.75, label = 'Aged Shuffle')\n",
    "plt.savefig(save_folder + '5F.png', dpi=400, bbox_inches='tight')\n",
    "plt.savefig(save_folder + '5F.svg', dpi=400, bbox_inches='tight')\n",
    "plt.show()"
   ]
  },
  {
   "cell_type": "code",
   "execution_count": 27,
   "id": "52867074",
   "metadata": {},
   "outputs": [
    {
     "name": "stdout",
     "output_type": "stream",
     "text": [
      "Young v. Aged Real Results:\n",
      "infoSC_young ± SEM, infoSC_old ± SEM\n",
      "0.0928 ± 0.0081 ; 0.0636 ± 0.0056\n",
      "stat = 2.94460694088584\n",
      "p_session, P99 spatial info = 0.0032336517487080827\n",
      "n young, n aged = 43, 42\n",
      "\n",
      "Young v. Aged Shuffle Results:\n",
      "shuffinfoSC_young ± SEM, shuffinfoSC_old ± SEM\n",
      "0.0084 ± 0.0015 ; 0.0036 ± 0.0012\n",
      "stat = 3.3841005141523834\n",
      "p_session, P99 spatial shuff info = 0.0007141185499335199\n",
      "\n",
      "Young Shuffle vs. Real Results:\n",
      "shuffinfoSC_young ± SEM, infoSC_young ± SEM\n",
      "0.0084 ± 0.0015 ; 0.0928 ± 0.0081\n",
      "stat = 4.0\n",
      "p_session, P99 spatial info = 1.5916157281026244e-12\n",
      "\n",
      "Aged Shuffle vs. Real Results:\n",
      "shuffinfoSC_old ± SEM, infoSC_old ± SEM\n",
      "0.0036 ± 0.0012 ; 0.0636 ± 0.0056\n",
      "stat = 0.0\n",
      "p_session, P99 spatial info = 4.547473508864641e-13\n"
     ]
    }
   ],
   "source": [
    "''' Statistics on Spatial Information '''\n",
    "print('Young v. Aged Real Results:')\n",
    "print('infoSC_young ± SEM, infoSC_old ± SEM')\n",
    "print(str(np.round(np.mean(sinfo99[y_sind99]), 4)) + ' ± ' + str(np.round(stats.sem(sinfo99[y_sind99]), 4)) + ' ; ' \n",
    "      + str(np.round(np.mean(sinfo99[age_sind99]), 4)) + ' ± ' + str(np.round(stats.sem(sinfo99[age_sind99]), 4)))\n",
    "\n",
    "stat, p_diff = stats.ranksums(sinfo99[y_sind99],sinfo99[age_sind99])\n",
    "print('stat = ' + str(stat))\n",
    "print('p_session, P99 spatial info = ' + str(p_diff))\n",
    "print('n young, n aged = ' + str(len(y_sind99)) + ', ' + str(len(age_sind99)))\n",
    "\n",
    "print('\\nYoung v. Aged Shuffle Results:')\n",
    "print('shuffinfoSC_young ± SEM, shuffinfoSC_old ± SEM')\n",
    "print(str(np.round(np.mean(sshufinfo99[y_sind99]), 4)) + ' ± ' + str(np.round(stats.sem(sshufinfo99[y_sind99]), 4)) + ' ; ' \n",
    "      + str(np.round(np.mean(sshufinfo99[age_sind99]), 4)) + ' ± ' + str(np.round(stats.sem(sshufinfo99[age_sind99]), 4)))\n",
    "\n",
    "stat, p_diff = stats.ranksums(sshufinfo99[y_sind99],sshufinfo99[age_sind99])\n",
    "print('stat = ' + str(stat))\n",
    "print('p_session, P99 spatial shuff info = ' + str(p_diff))\n",
    "\n",
    "print('\\nYoung Shuffle vs. Real Results:')\n",
    "print('shuffinfoSC_young ± SEM, infoSC_young ± SEM')\n",
    "print(str(np.round(np.mean(sshufinfo99[y_sind99]), 4)) + ' ± ' + str(np.round(stats.sem(sshufinfo99[y_sind99]), 4)) + ' ; ' \n",
    "      + str(np.round(np.mean(sinfo99[y_sind99]), 4)) + ' ± ' + str(np.round(stats.sem(sinfo99[y_sind99]), 4)))\n",
    "\n",
    "stat, p_diff = stats.wilcoxon(sshufinfo99[y_sind99],sinfo99[y_sind99])\n",
    "print('stat = ' + str(stat))\n",
    "print('p_session, P99 spatial info = ' + str(p_diff))\n",
    "\n",
    "print('\\nAged Shuffle vs. Real Results:')\n",
    "print('shuffinfoSC_old ± SEM, infoSC_old ± SEM')\n",
    "print(str(np.round(np.mean(sshufinfo99[age_sind99]), 4)) + ' ± ' + str(np.round(stats.sem(sshufinfo99[age_sind99]), 4)) + ' ; ' \n",
    "      + str(np.round(np.mean(sinfo99[age_sind99]), 4)) + ' ± ' + str(np.round(stats.sem(sinfo99[age_sind99]), 4)))\n",
    "\n",
    "stat, p_diff = stats.wilcoxon(sshufinfo99[age_sind99],sinfo99[age_sind99])\n",
    "print('stat = ' + str(stat))\n",
    "print('p_session, P99 spatial info = ' + str(p_diff))"
   ]
  },
  {
   "cell_type": "code",
   "execution_count": 28,
   "id": "2bc39e92",
   "metadata": {
    "scrolled": true
   },
   "outputs": [
    {
     "data": {
      "application/vnd.jupyter.widget-view+json": {
       "model_id": "cced4b5fce224dabab5691c8cf492a8b",
       "version_major": 2,
       "version_minor": 0
      },
      "text/plain": [
       "  0%|          | 0/6 [00:00<?, ?it/s]"
      ]
     },
     "metadata": {},
     "output_type": "display_data"
    },
    {
     "data": {
      "application/vnd.jupyter.widget-view+json": {
       "model_id": "931089d1d9f64a03831503116231d02e",
       "version_major": 2,
       "version_minor": 0
      },
      "text/plain": [
       "  0%|          | 0/6 [00:00<?, ?it/s]"
      ]
     },
     "metadata": {},
     "output_type": "display_data"
    },
    {
     "name": "stderr",
     "output_type": "stream",
     "text": [
      "C:\\Users\\Python\\Desktop\\GitHub\\Herber2024\\pipeline\\process_spikes.py:358: RuntimeWarning: invalid value encountered in divide\n",
      "  firing_rate[:, :, c] = (firing_rate[:, :, c] - np.min(firing_rate[:, :, c]))/np.max(firing_rate[:, :, c] - np.min(firing_rate[:, :, c]))\n"
     ]
    },
    {
     "data": {
      "application/vnd.jupyter.widget-view+json": {
       "model_id": "3e3b149b47e74f7fb851fe4b69218842",
       "version_major": 2,
       "version_minor": 0
      },
      "text/plain": [
       "  0%|          | 0/6 [00:00<?, ?it/s]"
      ]
     },
     "metadata": {},
     "output_type": "display_data"
    },
    {
     "data": {
      "application/vnd.jupyter.widget-view+json": {
       "model_id": "a377d200ce594d939f13d0f403bbae9c",
       "version_major": 2,
       "version_minor": 0
      },
      "text/plain": [
       "  0%|          | 0/6 [00:00<?, ?it/s]"
      ]
     },
     "metadata": {},
     "output_type": "display_data"
    },
    {
     "data": {
      "application/vnd.jupyter.widget-view+json": {
       "model_id": "213ee91a18c94ce0b8ccc8e08ecb40d8",
       "version_major": 2,
       "version_minor": 0
      },
      "text/plain": [
       "  0%|          | 0/6 [00:00<?, ?it/s]"
      ]
     },
     "metadata": {},
     "output_type": "display_data"
    },
    {
     "data": {
      "application/vnd.jupyter.widget-view+json": {
       "model_id": "d1f37d451cdd4309a5bfcb651ae95ab0",
       "version_major": 2,
       "version_minor": 0
      },
      "text/plain": [
       "  0%|          | 0/6 [00:00<?, ?it/s]"
      ]
     },
     "metadata": {},
     "output_type": "display_data"
    },
    {
     "data": {
      "application/vnd.jupyter.widget-view+json": {
       "model_id": "96bdb919df5f41d98312b0477ed02ad7",
       "version_major": 2,
       "version_minor": 0
      },
      "text/plain": [
       "  0%|          | 0/6 [00:00<?, ?it/s]"
      ]
     },
     "metadata": {},
     "output_type": "display_data"
    },
    {
     "data": {
      "application/vnd.jupyter.widget-view+json": {
       "model_id": "e6ef651047e64806a145df52598a8ace",
       "version_major": 2,
       "version_minor": 0
      },
      "text/plain": [
       "  0%|          | 0/5 [00:00<?, ?it/s]"
      ]
     },
     "metadata": {},
     "output_type": "display_data"
    },
    {
     "data": {
      "application/vnd.jupyter.widget-view+json": {
       "model_id": "2e2ac0b4d67b4fa8af59bba4e8828aa8",
       "version_major": 2,
       "version_minor": 0
      },
      "text/plain": [
       "  0%|          | 0/3 [00:00<?, ?it/s]"
      ]
     },
     "metadata": {},
     "output_type": "display_data"
    },
    {
     "data": {
      "application/vnd.jupyter.widget-view+json": {
       "model_id": "33ca4011f31a4717b15712b47b8778d7",
       "version_major": 2,
       "version_minor": 0
      },
      "text/plain": [
       "  0%|          | 0/6 [00:00<?, ?it/s]"
      ]
     },
     "metadata": {},
     "output_type": "display_data"
    },
    {
     "data": {
      "application/vnd.jupyter.widget-view+json": {
       "model_id": "33d96e5e0d064660a9c06cc0a3d2c391",
       "version_major": 2,
       "version_minor": 0
      },
      "text/plain": [
       "  0%|          | 0/6 [00:00<?, ?it/s]"
      ]
     },
     "metadata": {},
     "output_type": "display_data"
    },
    {
     "data": {
      "application/vnd.jupyter.widget-view+json": {
       "model_id": "4e715373cb76464aa9e77f051312a35a",
       "version_major": 2,
       "version_minor": 0
      },
      "text/plain": [
       "  0%|          | 0/6 [00:00<?, ?it/s]"
      ]
     },
     "metadata": {},
     "output_type": "display_data"
    },
    {
     "data": {
      "application/vnd.jupyter.widget-view+json": {
       "model_id": "55260ddbc7eb45a89040c14ea19b6101",
       "version_major": 2,
       "version_minor": 0
      },
      "text/plain": [
       "  0%|          | 0/5 [00:00<?, ?it/s]"
      ]
     },
     "metadata": {},
     "output_type": "display_data"
    },
    {
     "data": {
      "application/vnd.jupyter.widget-view+json": {
       "model_id": "e49024ebfe7d46c7baf89fd8db7adc84",
       "version_major": 2,
       "version_minor": 0
      },
      "text/plain": [
       "  0%|          | 0/5 [00:00<?, ?it/s]"
      ]
     },
     "metadata": {},
     "output_type": "display_data"
    },
    {
     "data": {
      "application/vnd.jupyter.widget-view+json": {
       "model_id": "4dff67abb7444159a0a3bf47bcf7634d",
       "version_major": 2,
       "version_minor": 0
      },
      "text/plain": [
       "  0%|          | 0/6 [00:00<?, ?it/s]"
      ]
     },
     "metadata": {},
     "output_type": "display_data"
    },
    {
     "data": {
      "application/vnd.jupyter.widget-view+json": {
       "model_id": "94c8b764a970431dbaaf9a471f631869",
       "version_major": 2,
       "version_minor": 0
      },
      "text/plain": [
       "  0%|          | 0/2 [00:00<?, ?it/s]"
      ]
     },
     "metadata": {},
     "output_type": "display_data"
    }
   ],
   "source": [
    "''' Generate & Save Cross-Trial Correlation Matrices for each Spatial Cell '''\n",
    "\n",
    "for m, session in zip(mice,sessions):\n",
    "    \n",
    "    if m in cohortb_mice:\n",
    "        max_trials = 240\n",
    "    else:\n",
    "        max_trials = 200\n",
    "        \n",
    "    for s in tdqm(session):\n",
    "        \n",
    "        #get data\n",
    "        d = data[m][s]\n",
    "        \n",
    "        #get some data & cell IDs\n",
    "        rawdata_file = 'RAW_' + m + '_' + s + '.npy'\n",
    "        spikes_file = 'SPIKES_' + m + '_' + s +'.npy'\n",
    "        behavior_file = 'BEHAVIOR_' + m + '_' + s + '.npy'\n",
    "        \n",
    "        raw = np.load(load_folder + rawdata_file, allow_pickle=True)\n",
    "        Y = np.load(load_folder + spikes_file, allow_pickle=False) #pre-filtered for speeds >2cm/s, position-corrected spikes, 20 ms timebins\n",
    "        behaviorfil = np.load(load_folder + behavior_file, allow_pickle=False)\n",
    "        \n",
    "        cell_IDs = raw.item().get('cellsfil')\n",
    "        spatialcell99 = d['spatialcell99']\n",
    "        spatialcells = cell_IDs[spatialcell99]\n",
    "    \n",
    "        posx = behaviorfil[:,0]\n",
    "        trial = behaviorfil[:,2]\n",
    "        rawtrialfil = raw.item().get('trialfil')\n",
    "        \n",
    "        #Find any skipped trials\n",
    "        try:\n",
    "            _ = raw.item().get('correctedtrial').shape\n",
    "            skippedtrials = get.find_skipped(trial, max_trial_num = max_trials)\n",
    "            \n",
    "        except:\n",
    "            skippedtrials = []\n",
    "        \n",
    "        if np.max(np.unique(trial)) < 160: #handles truncated, shorter sessions \n",
    "            alltrial = np.arange(0, np.max(np.unique(trial)) + 1, 1)\n",
    "        else:\n",
    "            alltrial = np.arange(0,max_trials,1)\n",
    "\n",
    "        # Load in left vs. right info\n",
    "        trials = np.unique(trial)\n",
    "        \n",
    "        #count number of skipped dark trials\n",
    "        ndarkskipped = 0\n",
    "        for z in skippedtrials:\n",
    "            if z < 20: \n",
    "                ndarkskipped += 1\n",
    "                \n",
    "        #adjust trialfil so that trials are skipped instead\n",
    "        skippedrawtrialfil = get.sortedtrialbyframe(rawtrialfil, trial, skippedtrials)\n",
    "            \n",
    "        #define random foraging trials only, excluding dark & gain change periods\n",
    "        if m == 'Y9':\n",
    "            start_idx = 0 \n",
    "            end_idx = len(skippedrawtrialfil) + 1\n",
    "        elif m in cohortb_mice:\n",
    "            start_idx = (np.where(skippedrawtrialfil >= 20)[0][0]).astype(int)\n",
    "            end_idx = (np.where(skippedrawtrialfil >= 220)[0][0]).astype(int)\n",
    "        else:\n",
    "            start_idx = 0 \n",
    "            end_idx = len(skippedrawtrialfil) + 1\n",
    "        \n",
    "        #set ticks & text dynamically\n",
    "        ticks = np.array([0, len(np.unique(skippedrawtrialfil[start_idx:end_idx]))//2 , len(np.unique(skippedrawtrialfil[start_idx:end_idx]))])\n",
    "        \n",
    "        #get smoothed by trial FR matrix excluding dark period sorted by context\n",
    "        normFR, _, _ = ps.tuning_curve_bytrial(posx[start_idx:end_idx], skippedrawtrialfil[start_idx:end_idx], Y[start_idx:end_idx,:], dt, sigma = 5, b=2, smooth=True, normalize=True, occupancy=True) \n",
    "        \n",
    "        #collect & plot cross-trial correlation matrices & save for the grid cell population\n",
    "        allsim = np.zeros(shape = (len(np.unique(skippedrawtrialfil[start_idx:end_idx])),len(np.unique(skippedrawtrialfil[start_idx:end_idx])),len(spatialcells)))\n",
    "    \n",
    "        for i, c in enumerate(spatialcells):\n",
    "            sdx = (np.where(cell_IDs == c)[0][0]).astype(int)  \n",
    "            sim , _  = ps.cross_trial_correlation(normFR[:,:,sdx], shift = False) \n",
    "            allsim[:,:,i] = sim\n",
    "            \n",
    "        # save matrix of cross-trial correlations\n",
    "        d['allsim'] = allsim\n",
    "                               \n",
    "        allsim_file = 'allsim_' + m + '_' + s + '_'+ '.npy'\n",
    "        np.save(save_folder + allsim_file, allsim)"
   ]
  },
  {
   "cell_type": "code",
   "execution_count": 30,
   "id": "4937466c",
   "metadata": {
    "scrolled": true
   },
   "outputs": [
    {
     "data": {
      "application/vnd.jupyter.widget-view+json": {
       "model_id": "b97069d93801454d95711288d747523d",
       "version_major": 2,
       "version_minor": 0
      },
      "text/plain": [
       "  0%|          | 0/6 [00:00<?, ?it/s]"
      ]
     },
     "metadata": {},
     "output_type": "display_data"
    },
    {
     "data": {
      "application/vnd.jupyter.widget-view+json": {
       "model_id": "3b3b05a1c89b4fe894d4361ab2f35c75",
       "version_major": 2,
       "version_minor": 0
      },
      "text/plain": [
       "  0%|          | 0/6 [00:00<?, ?it/s]"
      ]
     },
     "metadata": {},
     "output_type": "display_data"
    },
    {
     "data": {
      "application/vnd.jupyter.widget-view+json": {
       "model_id": "ae6f232eac72411ab837e6c419c49d76",
       "version_major": 2,
       "version_minor": 0
      },
      "text/plain": [
       "  0%|          | 0/6 [00:00<?, ?it/s]"
      ]
     },
     "metadata": {},
     "output_type": "display_data"
    },
    {
     "data": {
      "application/vnd.jupyter.widget-view+json": {
       "model_id": "0e00788c03704d20bb71ac4eb3c1291f",
       "version_major": 2,
       "version_minor": 0
      },
      "text/plain": [
       "  0%|          | 0/6 [00:00<?, ?it/s]"
      ]
     },
     "metadata": {},
     "output_type": "display_data"
    },
    {
     "data": {
      "application/vnd.jupyter.widget-view+json": {
       "model_id": "c42e1677d9f04e69a1a30e349630c7aa",
       "version_major": 2,
       "version_minor": 0
      },
      "text/plain": [
       "  0%|          | 0/6 [00:00<?, ?it/s]"
      ]
     },
     "metadata": {},
     "output_type": "display_data"
    },
    {
     "data": {
      "application/vnd.jupyter.widget-view+json": {
       "model_id": "541cd68ab64f41ae95af202134f690c0",
       "version_major": 2,
       "version_minor": 0
      },
      "text/plain": [
       "  0%|          | 0/6 [00:00<?, ?it/s]"
      ]
     },
     "metadata": {},
     "output_type": "display_data"
    },
    {
     "data": {
      "application/vnd.jupyter.widget-view+json": {
       "model_id": "dc51cce1b87e4b64b189dad91c79a032",
       "version_major": 2,
       "version_minor": 0
      },
      "text/plain": [
       "  0%|          | 0/6 [00:00<?, ?it/s]"
      ]
     },
     "metadata": {},
     "output_type": "display_data"
    },
    {
     "data": {
      "application/vnd.jupyter.widget-view+json": {
       "model_id": "aa91eed1a8ec4d799c1bf72cd2b236bd",
       "version_major": 2,
       "version_minor": 0
      },
      "text/plain": [
       "  0%|          | 0/5 [00:00<?, ?it/s]"
      ]
     },
     "metadata": {},
     "output_type": "display_data"
    },
    {
     "data": {
      "application/vnd.jupyter.widget-view+json": {
       "model_id": "f094efed69a54207a659e9c5a6cde28d",
       "version_major": 2,
       "version_minor": 0
      },
      "text/plain": [
       "  0%|          | 0/3 [00:00<?, ?it/s]"
      ]
     },
     "metadata": {},
     "output_type": "display_data"
    },
    {
     "data": {
      "application/vnd.jupyter.widget-view+json": {
       "model_id": "b364ea5295384e0ba53723150fe1ee17",
       "version_major": 2,
       "version_minor": 0
      },
      "text/plain": [
       "  0%|          | 0/6 [00:00<?, ?it/s]"
      ]
     },
     "metadata": {},
     "output_type": "display_data"
    },
    {
     "data": {
      "application/vnd.jupyter.widget-view+json": {
       "model_id": "b6fea073db8c46dfac34a67b891de4c4",
       "version_major": 2,
       "version_minor": 0
      },
      "text/plain": [
       "  0%|          | 0/6 [00:00<?, ?it/s]"
      ]
     },
     "metadata": {},
     "output_type": "display_data"
    },
    {
     "data": {
      "application/vnd.jupyter.widget-view+json": {
       "model_id": "d9a4a69fcda04913a06e757f50baa3cd",
       "version_major": 2,
       "version_minor": 0
      },
      "text/plain": [
       "  0%|          | 0/6 [00:00<?, ?it/s]"
      ]
     },
     "metadata": {},
     "output_type": "display_data"
    },
    {
     "data": {
      "application/vnd.jupyter.widget-view+json": {
       "model_id": "2397676358954b49baac7724e3c0198a",
       "version_major": 2,
       "version_minor": 0
      },
      "text/plain": [
       "  0%|          | 0/5 [00:00<?, ?it/s]"
      ]
     },
     "metadata": {},
     "output_type": "display_data"
    },
    {
     "data": {
      "application/vnd.jupyter.widget-view+json": {
       "model_id": "15d4aad4fb7446ec99c26ac2fd491094",
       "version_major": 2,
       "version_minor": 0
      },
      "text/plain": [
       "  0%|          | 0/5 [00:00<?, ?it/s]"
      ]
     },
     "metadata": {},
     "output_type": "display_data"
    },
    {
     "data": {
      "application/vnd.jupyter.widget-view+json": {
       "model_id": "306fb3898ec641b6a79d09196dba177d",
       "version_major": 2,
       "version_minor": 0
      },
      "text/plain": [
       "  0%|          | 0/6 [00:00<?, ?it/s]"
      ]
     },
     "metadata": {},
     "output_type": "display_data"
    },
    {
     "data": {
      "application/vnd.jupyter.widget-view+json": {
       "model_id": "ff6c2f4dcc0f496aae6f821030e405bc",
       "version_major": 2,
       "version_minor": 0
      },
      "text/plain": [
       "  0%|          | 0/2 [00:00<?, ?it/s]"
      ]
     },
     "metadata": {},
     "output_type": "display_data"
    }
   ],
   "source": [
    "''' Calculate Shuffled CTCM for each Spatial Cell '''\n",
    "\n",
    "for m, session in zip(mice,sessions):\n",
    "        \n",
    "    if m in cohortb_mice:\n",
    "        max_trials = 240\n",
    "    else:\n",
    "        max_trials = 200\n",
    "        \n",
    "    for s in tdqm(session):\n",
    "        \n",
    "        #get data\n",
    "        d = data[m][s]\n",
    "        \n",
    "        #get some data & cell IDs\n",
    "        rawdata_file = 'RAW_' + m + '_' + s + '.npy'\n",
    "        behavior_file = 'BEHAVIOR_' + m + '_' + s + '.npy'\n",
    "        \n",
    "        raw = np.load(load_folder + rawdata_file, allow_pickle=True)\n",
    "        behaviorfil = np.load(load_folder + behavior_file, allow_pickle=False)\n",
    "        \n",
    "        cell_IDs = raw.item().get('cellsfil')\n",
    "        spatialcell99 = d['spatialcell99']\n",
    "        spatialcells = cell_IDs[spatialcell99]\n",
    "    \n",
    "        posx = behaviorfil[:,0]\n",
    "        trial = behaviorfil[:,2]\n",
    "        rawtrialfil = raw.item().get('trialfil')\n",
    "        \n",
    "        ##Generate shuffled spike train for spatial cells only\n",
    "        #get stuff you will to shuffle & re-filter spike times\n",
    "        sp = raw.item().get('sp')\n",
    "        spiket = sp['st'].copy()\n",
    "        cluster_id = sp['clu'].copy()\n",
    "        rawposx = raw.item().get('posx')\n",
    "        rawpost = raw.item().get('post')\n",
    "        rawspeed = raw.item().get('speed')\n",
    "        \n",
    "        dt = np.unique(np.round(np.diff(rawpost),4))\n",
    "        if len(dt) > 1: # discard duplicate frame entries if they occurred\n",
    "            dt = dt[dt != 0]\n",
    "            dt_to_trash = np.where(np.diff(rawpost) == 0)[0]\n",
    "        else:\n",
    "            dt_to_trash = [] \n",
    "\n",
    "        # filter spikes & position frames by speed < 2cm/s or out of track limits \n",
    "        speed_to_trash = get.find(rawspeed < 2)\n",
    "        pos_to_trash = get.find((rawposx < 0) | (rawposx > 400))\n",
    "        trash_idx = np.unique(np.concatenate((dt_to_trash, speed_to_trash, pos_to_trash)))\n",
    "        keep_idx = np.setdiff1d(np.arange(len(rawspeed)), trash_idx)\n",
    "        \n",
    "        B = np.zeros((len(rawspeed), len(spatialcells))) # reset empty shuffled FR matrix    \n",
    "        for i, c in enumerate(spatialcells):\n",
    "            sdx = (np.where(cell_IDs==c)[0][0]).astype(int)\n",
    "\n",
    "            #get actual spike times for each cell\n",
    "            st = spiket[cluster_id == c]\n",
    "            st = st[(st >= min(rawpost)) & (st <= max(rawpost))]\n",
    "\n",
    "            #get shuffle times\n",
    "            st_shuf = st - min(rawpost)\n",
    "            total_time = max(rawpost) - min(rawpost)\n",
    "            add = np.random.uniform(0.02,total_time,1)\n",
    "            st_shuf = (st_shuf + add) % total_time\n",
    "            st_shuf = st_shuf + min(rawpost)\n",
    "\n",
    "            #get unfiltered spike train\n",
    "            spike_ct = np.zeros_like(rawpost)\n",
    "            spike_idx = np.digitize(st_shuf, rawpost) #obs corresponding to where each shuffled spike occurs\n",
    "\n",
    "            idx, cts = np.unique(spike_idx, return_counts = True)\n",
    "            spike_ct[idx] = cts\n",
    "            B[:,i] = spike_ct\n",
    "\n",
    "            #check for & interpolate any missing values\n",
    "            if sum(np.isnan(B[:,i])) > 0:\n",
    "                B[:,i] = get.nan_interp(B[:,i])  \n",
    "\n",
    "        #apply filter spike train by speed, dt, & posx errors\n",
    "        B = B[keep_idx,:]\n",
    "        \n",
    "        #Find any skipped trials\n",
    "        try:\n",
    "            _ = raw.item().get('correctedtrial').shape\n",
    "            skippedtrials = get.find_skipped(trial, max_trial_num = max_trials)\n",
    "            \n",
    "        except:\n",
    "            skippedtrials = []\n",
    "        \n",
    "        if np.max(np.unique(trial)) < 160: #handles truncated, shorter sessions \n",
    "            alltrial = np.arange(0, np.max(np.unique(trial)) + 1, 1)\n",
    "        else:\n",
    "            alltrial = np.arange(0,max_trials,1)\n",
    "\n",
    "        # Load in left vs. right info\n",
    "        trials = np.unique(trial)\n",
    "        \n",
    "        #count number of skipped dark trials\n",
    "        ndarkskipped = 0\n",
    "        for z in skippedtrials:\n",
    "            if z < 20: \n",
    "                ndarkskipped += 1\n",
    "                \n",
    "        #adjust trialfil so that trials are skipped instead\n",
    "        skippedrawtrialfil = get.sortedtrialbyframe(rawtrialfil, trial, skippedtrials)\n",
    "            \n",
    "        #define random foraging trials only, excluding dark & gain change periods\n",
    "        if m == 'Y9':\n",
    "            start_idx = 0 \n",
    "            end_idx = len(skippedrawtrialfil) + 1\n",
    "        elif m in cohortb_mice:\n",
    "            start_idx = (np.where(skippedrawtrialfil >= 20)[0][0]).astype(int)\n",
    "            end_idx = (np.where(skippedrawtrialfil >= 220)[0][0]).astype(int)\n",
    "        else:\n",
    "            start_idx = 0 \n",
    "            end_idx = len(skippedrawtrialfil) + 1\n",
    "        \n",
    "        #set ticks & text dynamically\n",
    "        ticks = np.array([0, len(np.unique(skippedrawtrialfil[start_idx:end_idx]))//2 , len(np.unique(skippedrawtrialfil[start_idx:end_idx]))])\n",
    "        \n",
    "        #get smoothed by trial FR matrix excluding dark period sorted by context\n",
    "        normFR, _, _ = ps.tuning_curve_bytrial(posx[start_idx:end_idx], skippedrawtrialfil[start_idx:end_idx], B[start_idx:end_idx,:], dt, sigma = 5, b=2, smooth=True, normalize=True, occupancy=True) \n",
    "            \n",
    "        #collect & plot cross-trial correlation matrices & save for the grid cell population\n",
    "        allshuffsim = np.zeros(shape = (len(np.unique(skippedrawtrialfil[start_idx:end_idx])),len(np.unique(skippedrawtrialfil[start_idx:end_idx])),len(spatialcells)))\n",
    "        for i, c in enumerate(spatialcells):\n",
    "            sim , _  = ps.cross_trial_correlation(normFR[:,:,i], shift = False) \n",
    "            allshuffsim[:,:,i] = sim\n",
    "        \n",
    "        #save shuffled matrix of cross-trial correlations\n",
    "        d['allshuffsim'] = allshuffsim\n",
    "                               \n",
    "        allshuffsim_file = 'allshuffsim_' + m + '_' + s + '_'+ '.npy'\n",
    "        np.save(save_folder + allshuffsim_file, allshuffsim)       "
   ]
  },
  {
   "cell_type": "code",
   "execution_count": 39,
   "id": "2a89e3b6",
   "metadata": {},
   "outputs": [],
   "source": [
    "''' Load in K-Means Requirements '''\n",
    "\n",
    "from tqdm import tqdm\n",
    "from lvl.factor_models import KMeans as lvl_kmeans\n",
    "from lvl.factor_models import NMF as lvl_soft_kmeans\n",
    "from lvl.resamplers import RotationResampler\n",
    "from lvl.crossval import speckled_cv_scores \n",
    "from scipy.spatial.distance import cdist \n",
    "from scipy.special import logsumexp\n",
    "from sklearn.metrics import silhouette_samples, silhouette_score\n",
    "from scipy.spatial.distance import pdist\n",
    "from scipy.spatial.distance import squareform"
   ]
  },
  {
   "cell_type": "code",
   "execution_count": 40,
   "id": "1f906bd0",
   "metadata": {
    "scrolled": true
   },
   "outputs": [
    {
     "data": {
      "application/vnd.jupyter.widget-view+json": {
       "model_id": "67ece8a0c9ce40a4a90585383f4294eb",
       "version_major": 2,
       "version_minor": 0
      },
      "text/plain": [
       "  0%|          | 0/6 [00:00<?, ?it/s]"
      ]
     },
     "metadata": {},
     "output_type": "display_data"
    },
    {
     "data": {
      "application/vnd.jupyter.widget-view+json": {
       "model_id": "bb00aa02bee44a0abccab42706095c9b",
       "version_major": 2,
       "version_minor": 0
      },
      "text/plain": [
       "  0%|          | 0/6 [00:00<?, ?it/s]"
      ]
     },
     "metadata": {},
     "output_type": "display_data"
    },
    {
     "data": {
      "application/vnd.jupyter.widget-view+json": {
       "model_id": "3caee7724fc047c29d012ecc32ac8ed4",
       "version_major": 2,
       "version_minor": 0
      },
      "text/plain": [
       "  0%|          | 0/6 [00:00<?, ?it/s]"
      ]
     },
     "metadata": {},
     "output_type": "display_data"
    },
    {
     "data": {
      "application/vnd.jupyter.widget-view+json": {
       "model_id": "23ecbc2c42124844a159c97fa9c5dc17",
       "version_major": 2,
       "version_minor": 0
      },
      "text/plain": [
       "  0%|          | 0/6 [00:00<?, ?it/s]"
      ]
     },
     "metadata": {},
     "output_type": "display_data"
    },
    {
     "data": {
      "application/vnd.jupyter.widget-view+json": {
       "model_id": "c396281821c746c19aacca417d1b66ed",
       "version_major": 2,
       "version_minor": 0
      },
      "text/plain": [
       "  0%|          | 0/6 [00:00<?, ?it/s]"
      ]
     },
     "metadata": {},
     "output_type": "display_data"
    },
    {
     "data": {
      "application/vnd.jupyter.widget-view+json": {
       "model_id": "03e27f4e251c42e19072884ef10dd742",
       "version_major": 2,
       "version_minor": 0
      },
      "text/plain": [
       "  0%|          | 0/6 [00:00<?, ?it/s]"
      ]
     },
     "metadata": {},
     "output_type": "display_data"
    },
    {
     "data": {
      "application/vnd.jupyter.widget-view+json": {
       "model_id": "9a635139a3454027af2b838f635c9496",
       "version_major": 2,
       "version_minor": 0
      },
      "text/plain": [
       "  0%|          | 0/6 [00:00<?, ?it/s]"
      ]
     },
     "metadata": {},
     "output_type": "display_data"
    },
    {
     "data": {
      "application/vnd.jupyter.widget-view+json": {
       "model_id": "4c57ecabfc6f4a268369059a296a44ca",
       "version_major": 2,
       "version_minor": 0
      },
      "text/plain": [
       "  0%|          | 0/5 [00:00<?, ?it/s]"
      ]
     },
     "metadata": {},
     "output_type": "display_data"
    },
    {
     "data": {
      "application/vnd.jupyter.widget-view+json": {
       "model_id": "1f425ffc830b4c93873d35f71a365630",
       "version_major": 2,
       "version_minor": 0
      },
      "text/plain": [
       "  0%|          | 0/3 [00:00<?, ?it/s]"
      ]
     },
     "metadata": {},
     "output_type": "display_data"
    },
    {
     "data": {
      "application/vnd.jupyter.widget-view+json": {
       "model_id": "101db9c90ab948b7bbc0a86bebb294c7",
       "version_major": 2,
       "version_minor": 0
      },
      "text/plain": [
       "  0%|          | 0/6 [00:00<?, ?it/s]"
      ]
     },
     "metadata": {},
     "output_type": "display_data"
    },
    {
     "data": {
      "application/vnd.jupyter.widget-view+json": {
       "model_id": "36263d0b78e44db1ae7d0dacf975b319",
       "version_major": 2,
       "version_minor": 0
      },
      "text/plain": [
       "  0%|          | 0/6 [00:00<?, ?it/s]"
      ]
     },
     "metadata": {},
     "output_type": "display_data"
    },
    {
     "data": {
      "application/vnd.jupyter.widget-view+json": {
       "model_id": "58c54f9090104935adbad80fcb088dea",
       "version_major": 2,
       "version_minor": 0
      },
      "text/plain": [
       "  0%|          | 0/6 [00:00<?, ?it/s]"
      ]
     },
     "metadata": {},
     "output_type": "display_data"
    },
    {
     "data": {
      "application/vnd.jupyter.widget-view+json": {
       "model_id": "7881568bbc074c42b279751419e0ab1e",
       "version_major": 2,
       "version_minor": 0
      },
      "text/plain": [
       "  0%|          | 0/5 [00:00<?, ?it/s]"
      ]
     },
     "metadata": {},
     "output_type": "display_data"
    },
    {
     "data": {
      "application/vnd.jupyter.widget-view+json": {
       "model_id": "d228a51ce0ba479d877d457ad98711b9",
       "version_major": 2,
       "version_minor": 0
      },
      "text/plain": [
       "  0%|          | 0/5 [00:00<?, ?it/s]"
      ]
     },
     "metadata": {},
     "output_type": "display_data"
    },
    {
     "data": {
      "application/vnd.jupyter.widget-view+json": {
       "model_id": "5806291ae478452586bee2730cc06d8d",
       "version_major": 2,
       "version_minor": 0
      },
      "text/plain": [
       "  0%|          | 0/6 [00:00<?, ?it/s]"
      ]
     },
     "metadata": {},
     "output_type": "display_data"
    },
    {
     "data": {
      "application/vnd.jupyter.widget-view+json": {
       "model_id": "f41301cd9cb4485ebedda49549ac15cc",
       "version_major": 2,
       "version_minor": 0
      },
      "text/plain": [
       "  0%|          | 0/2 [00:00<?, ?it/s]"
      ]
     },
     "metadata": {},
     "output_type": "display_data"
    }
   ],
   "source": [
    "''' Regenerate K-Means results for any sessions with onemap = False using optimal k selected in Figure 3 / S4 Notebook '''\n",
    "\n",
    "yk = []\n",
    "ak = []\n",
    "optimalks = []\n",
    "\n",
    "for m, session in zip(mice, sessions):    \n",
    "    for s in tdqm(session):\n",
    "        \n",
    "        d = data[m][s]\n",
    "        \n",
    "        rawdata_file = 'RAW_' + m + '_' + s + '.npy'\n",
    "        behavior_file = 'BEHAVIOR_' + m + '_' + s + '.npy'\n",
    "        raw = np.load(load_folder + rawdata_file, allow_pickle=True)\n",
    "        cell_IDs = raw.item().get('cellsfil')\n",
    "        spatialcell99 = d['spatialcell99']\n",
    "        spatialcells = cell_IDs[spatialcell99]\n",
    "        \n",
    "        if len(spatialcells) > 10:\n",
    "            \n",
    "            onemapfile = 'onemap' + m + '_' + s + '.npy'\n",
    "            onemap = np.load(fig3s4_folder + onemapfile)\n",
    "            \n",
    "            if onemap[0].astype(bool) == True:\n",
    "                \n",
    "                d['kmeans'] = {}\n",
    "                d['kmeans']['onemap'] = onemap \n",
    "                \n",
    "                optimalks = np.append(optimalks, 1)\n",
    "                \n",
    "                if m in RF_aged_mice:\n",
    "                    ak = np.append(ak, 1)\n",
    "                else:\n",
    "                    yk = np.append(yk, 1)\n",
    "            \n",
    "            else:\n",
    "        \n",
    "                d['kmeans'] = {}\n",
    "                d['kmeans']['onemap'] = onemap \n",
    "\n",
    "                #load optimal k\n",
    "                SilN_file = 'SilN_' + m + '_' + s + '.npy'\n",
    "                d['kmeans']['SilN'] = np.load(fig3s4_folder + SilN_file)\n",
    "                SilN = d['kmeans']['SilN']\n",
    "                \n",
    "                optimalks = np.append(optimalks, SilN)\n",
    "            \n",
    "                if m in RF_aged_mice:\n",
    "                    ak = np.append(ak, SilN)\n",
    "                else:\n",
    "                    yk = np.append(yk, SilN)\n",
    "                \n",
    "                #load FR tensor\n",
    "                FRtensor_file = 'RF_FRtensor_' + m + '_' + s + '.npy'\n",
    "                d['FRtensor'] = np.load(fig3s4_folder + FRtensor_file)\n",
    "                Y = d['FRtensor'].copy()\n",
    "                Y = Y.transpose(0, 2, 1)\n",
    "                Y_unwrapped = np.reshape(Y, (Y.shape[0], -1))\n",
    "                sim_vec = np.abs(pdist(Y_unwrapped, 'correlation')-1)\n",
    "                sim = squareform(sim_vec)\n",
    "                d['similarity'] = sim\n",
    "                \n",
    "                #run k-means\n",
    "                model_kmeans = lvl_kmeans(n_components = SilN, n_restarts = 100)\n",
    "                model_kmeans.fit(Y_unwrapped)\n",
    "                W, H = model_kmeans.factors\n",
    "                Y_hat = model_kmeans.predict()\n",
    "                score = model_kmeans.score(Y_unwrapped)\n",
    "                d['kmeans']['W'] = W\n",
    "                d['kmeans']['H'] = H\n",
    "                d['kmeans']['Y_hat'] = Y_hat \n",
    "                d['kmeans']['Y_hat'] = Y_hat \n",
    "                d['kmeans']['score'] = score"
   ]
  },
  {
   "cell_type": "code",
   "execution_count": 41,
   "id": "424d0e51",
   "metadata": {
    "scrolled": true
   },
   "outputs": [
    {
     "data": {
      "application/vnd.jupyter.widget-view+json": {
       "model_id": "849375b996b544d1a503ce0c18ec6cd8",
       "version_major": 2,
       "version_minor": 0
      },
      "text/plain": [
       "  0%|          | 0/6 [00:00<?, ?it/s]"
      ]
     },
     "metadata": {},
     "output_type": "display_data"
    },
    {
     "data": {
      "application/vnd.jupyter.widget-view+json": {
       "model_id": "2ac21a454f53496cab1931e4ff091bbb",
       "version_major": 2,
       "version_minor": 0
      },
      "text/plain": [
       "  0%|          | 0/6 [00:00<?, ?it/s]"
      ]
     },
     "metadata": {},
     "output_type": "display_data"
    },
    {
     "data": {
      "application/vnd.jupyter.widget-view+json": {
       "model_id": "ffed5d27d5e84faebce5ceef68896dc2",
       "version_major": 2,
       "version_minor": 0
      },
      "text/plain": [
       "  0%|          | 0/6 [00:00<?, ?it/s]"
      ]
     },
     "metadata": {},
     "output_type": "display_data"
    },
    {
     "data": {
      "application/vnd.jupyter.widget-view+json": {
       "model_id": "1e963ca4406f46fbba26097b796e1953",
       "version_major": 2,
       "version_minor": 0
      },
      "text/plain": [
       "  0%|          | 0/6 [00:00<?, ?it/s]"
      ]
     },
     "metadata": {},
     "output_type": "display_data"
    },
    {
     "data": {
      "application/vnd.jupyter.widget-view+json": {
       "model_id": "bc5a09ac00a1414b8ba405d93079d0db",
       "version_major": 2,
       "version_minor": 0
      },
      "text/plain": [
       "  0%|          | 0/6 [00:00<?, ?it/s]"
      ]
     },
     "metadata": {},
     "output_type": "display_data"
    },
    {
     "data": {
      "application/vnd.jupyter.widget-view+json": {
       "model_id": "591f8b7b09524e1392b32665c0a64863",
       "version_major": 2,
       "version_minor": 0
      },
      "text/plain": [
       "  0%|          | 0/6 [00:00<?, ?it/s]"
      ]
     },
     "metadata": {},
     "output_type": "display_data"
    },
    {
     "data": {
      "application/vnd.jupyter.widget-view+json": {
       "model_id": "bfd9634912284160ad7b5867e4ffe8dc",
       "version_major": 2,
       "version_minor": 0
      },
      "text/plain": [
       "  0%|          | 0/6 [00:00<?, ?it/s]"
      ]
     },
     "metadata": {},
     "output_type": "display_data"
    },
    {
     "data": {
      "application/vnd.jupyter.widget-view+json": {
       "model_id": "0f9e67d12a884f2f831281227f67855c",
       "version_major": 2,
       "version_minor": 0
      },
      "text/plain": [
       "  0%|          | 0/5 [00:00<?, ?it/s]"
      ]
     },
     "metadata": {},
     "output_type": "display_data"
    },
    {
     "data": {
      "application/vnd.jupyter.widget-view+json": {
       "model_id": "ee87e4e99f4a474f94b41bc7cfa5fa4a",
       "version_major": 2,
       "version_minor": 0
      },
      "text/plain": [
       "  0%|          | 0/3 [00:00<?, ?it/s]"
      ]
     },
     "metadata": {},
     "output_type": "display_data"
    },
    {
     "data": {
      "application/vnd.jupyter.widget-view+json": {
       "model_id": "7529e99cf2d44c9586c994eda166983b",
       "version_major": 2,
       "version_minor": 0
      },
      "text/plain": [
       "  0%|          | 0/6 [00:00<?, ?it/s]"
      ]
     },
     "metadata": {},
     "output_type": "display_data"
    },
    {
     "data": {
      "application/vnd.jupyter.widget-view+json": {
       "model_id": "d05e681706e441efbaf8971d33d2a68d",
       "version_major": 2,
       "version_minor": 0
      },
      "text/plain": [
       "  0%|          | 0/6 [00:00<?, ?it/s]"
      ]
     },
     "metadata": {},
     "output_type": "display_data"
    },
    {
     "data": {
      "application/vnd.jupyter.widget-view+json": {
       "model_id": "50dd89c456b04ec7b24e9c3c9a65161d",
       "version_major": 2,
       "version_minor": 0
      },
      "text/plain": [
       "  0%|          | 0/6 [00:00<?, ?it/s]"
      ]
     },
     "metadata": {},
     "output_type": "display_data"
    },
    {
     "data": {
      "application/vnd.jupyter.widget-view+json": {
       "model_id": "1b8bd7597b8546408088b08b84bf3a61",
       "version_major": 2,
       "version_minor": 0
      },
      "text/plain": [
       "  0%|          | 0/5 [00:00<?, ?it/s]"
      ]
     },
     "metadata": {},
     "output_type": "display_data"
    },
    {
     "data": {
      "application/vnd.jupyter.widget-view+json": {
       "model_id": "ff51112bea7244d4ae55c5259042c715",
       "version_major": 2,
       "version_minor": 0
      },
      "text/plain": [
       "  0%|          | 0/5 [00:00<?, ?it/s]"
      ]
     },
     "metadata": {},
     "output_type": "display_data"
    },
    {
     "data": {
      "application/vnd.jupyter.widget-view+json": {
       "model_id": "65b9c730edec4d2f88bd3efc13910976",
       "version_major": 2,
       "version_minor": 0
      },
      "text/plain": [
       "  0%|          | 0/6 [00:00<?, ?it/s]"
      ]
     },
     "metadata": {},
     "output_type": "display_data"
    },
    {
     "data": {
      "application/vnd.jupyter.widget-view+json": {
       "model_id": "c1345b149fb74a6db8c0e914bb32daf9",
       "version_major": 2,
       "version_minor": 0
      },
      "text/plain": [
       "  0%|          | 0/2 [00:00<?, ?it/s]"
      ]
     },
     "metadata": {},
     "output_type": "display_data"
    }
   ],
   "source": [
    "''' Relabel spatial cell network maps non-arbitrarily (map 0 - 3 == slowest to fastest) '''\n",
    "\n",
    "for m, session in zip(mice, sessions):\n",
    "    \n",
    "    if m in cohortb_mice:\n",
    "        max_trials = 240\n",
    "    else:\n",
    "        max_trials = 200\n",
    "    \n",
    "    for s in tdqm(session):\n",
    "        d = data[m][s]\n",
    "        \n",
    "        #get some data & cell IDs\n",
    "        rawdata_file = 'RAW_' + m + '_' + s + '.npy'\n",
    "        spikes_file = 'SPIKES_' + m + '_' + s +'.npy'\n",
    "        behavior_file = 'BEHAVIOR_' + m + '_' + s + '.npy'\n",
    "        \n",
    "        raw = np.load(load_folder + rawdata_file, allow_pickle=True)\n",
    "        Y = np.load(load_folder + spikes_file, allow_pickle=False) #pre-filtered for speeds >2cm/s, position-corrected spikes, 20 ms timebins\n",
    "        behaviorfil = np.load(load_folder + behavior_file, allow_pickle=False)\n",
    "        \n",
    "        cell_IDs = raw.item().get('cellsfil')\n",
    "        spatialcell = d['spatialcell99'].astype(bool)\n",
    "        spatialcells = cell_IDs[spatialcell]     \n",
    "    \n",
    "        #get corrected speed during non-dark & non-gain running\n",
    "        posx = behaviorfil[:,0]\n",
    "        speed = behaviorfil[:,1]\n",
    "        trial = behaviorfil[:,2]\n",
    "        max_trials = np.max(trial)\n",
    "        rawtrialfil = raw.item().get('trialfil')\n",
    "        \n",
    "        #Find any skipped trials\n",
    "        try:\n",
    "            _ = raw.item().get('correctedtrial').shape\n",
    "            skippedtrials = get.find_skipped(trial, max_trial_num = max_trials)\n",
    "            \n",
    "        except:\n",
    "            skippedtrials = []\n",
    "        \n",
    "        if np.max(np.unique(trial)) < 160: #handles truncated, shorter sessions \n",
    "            alltrial = np.arange(0, np.max(np.unique(trial)) + 1, 1)\n",
    "        else:\n",
    "            alltrial = np.arange(0,max_trials,1)\n",
    "        \n",
    "        #count number of skipped dark trials\n",
    "        ndarkskipped = 0\n",
    "        for z in skippedtrials:\n",
    "            if z < 20: \n",
    "                ndarkskipped += 1\n",
    "                \n",
    "        #adjust trialfil so that trials are skipped instead\n",
    "        skippedrawtrialfil = get.sortedtrialbyframe(rawtrialfil, trial, skippedtrials)\n",
    "            \n",
    "        #define random foraging trials only, excluding dark & gain change periods\n",
    "        if m == 'Y9':\n",
    "            start_idx = 0 \n",
    "            end_idx = len(skippedrawtrialfil) + 1\n",
    "        elif m in cohortb_mice:\n",
    "            start_idx = (np.where(skippedrawtrialfil >= 20)[0][0]).astype(int)\n",
    "            end_idx = (np.where(skippedrawtrialfil >= 200)[0][0]).astype(int)\n",
    "        else:\n",
    "            start_idx = 0 \n",
    "            end_idx = len(skippedrawtrialfil) + 1\n",
    "            \n",
    "        if len(spatialcells) > 10: \n",
    "            \n",
    "            RFspeed = speed[start_idx:end_idx]\n",
    "            trials = skippedrawtrialfil[start_idx:end_idx]\n",
    "            \n",
    "            onemapfile = 'onemap' + m + '_' + s + '.npy'\n",
    "            onemap = np.load(fig3s4_folder + onemapfile)\n",
    "            \n",
    "            if onemap[0].astype(bool) == False:\n",
    "                \n",
    "                #assign map 0 to be slowest if k = 2\n",
    "                if (d['kmeans']['SilN'] == 2):\n",
    "                    W = d['kmeans']['W']\n",
    "\n",
    "                    # get map indices\n",
    "                    map_idx = W[:, 0].astype(bool)\n",
    "                    map0_idx = np.zeros_like(trials)\n",
    "                    map1_idx = np.zeros_like(trials)\n",
    "                    for i, t in enumerate(np.unique(trials)):\n",
    "                        if map_idx[i]:\n",
    "                            map0_idx[trials == t] = 1\n",
    "                        else:\n",
    "                            map1_idx[trials == t] = 1\n",
    "                    map0_idx = map0_idx.astype(bool)\n",
    "                    map1_idx = map1_idx.astype(bool)\n",
    "\n",
    "                    speed_0 = np.nanmean(RFspeed[map0_idx])\n",
    "                    speed_1 = np.nanmean(RFspeed[map1_idx])\n",
    "\n",
    "                    if speed_1 < speed_0: # swap labels\n",
    "                        d['map0_idx'] = 1\n",
    "                    else:\n",
    "                        d['map0_idx'] = 0\n",
    "\n",
    "                #ditto, assign map 2 fastest if k = 3\n",
    "                elif (d['kmeans']['SilN'] == 3):\n",
    "                    W = d['kmeans']['W']\n",
    "\n",
    "                    #get map indices\n",
    "                    map0_idx = np.zeros_like(trials)\n",
    "                    map1_idx = np.zeros_like(trials)\n",
    "                    map2_idx = np.zeros_like(trials)\n",
    "                    for i, t in enumerate(np.unique(trials)):\n",
    "                        map_idx = np.where(W[i,:] == 1)[0][0]\n",
    "                        if map_idx == 0:\n",
    "                            map0_idx[trials == t] = 1\n",
    "                        elif map_idx == 1:\n",
    "                            map1_idx[trials == t] = 1\n",
    "                        else:\n",
    "                            map2_idx[trials == t] = 1\n",
    "                    map0_idx = map0_idx.astype(bool)\n",
    "                    map1_idx = map1_idx.astype(bool)\n",
    "                    map2_idx = map2_idx.astype(bool)\n",
    "\n",
    "                    # get assign map 0 to be the one with the greate number of trials in Context A\n",
    "                    speed_0 = np.nanmean(RFspeed[map0_idx])\n",
    "                    speed_1 = np.nanmean(RFspeed[map1_idx])\n",
    "                    speed_2 = np.nanmean(RFspeed[map2_idx])\n",
    "\n",
    "                    d['map0_idx'] = np.argmin([speed_0, speed_1, speed_2])\n",
    "                    d['map2_idx'] = np.argmax([speed_0, speed_1, speed_2])\n",
    "                    d['map1_idx'] = np.setdiff1d([0,1,2], [d['map0_idx'], d['map2_idx']])[0]\n",
    "\n",
    "                #ditto but map 3 is fastest if k = 4       \n",
    "                elif (d['kmeans']['SilN'] == 4):\n",
    "                    W = d['kmeans']['W']\n",
    "\n",
    "                    #get map indices\n",
    "                    map0_idx = np.zeros_like(trials)\n",
    "                    map1_idx = np.zeros_like(trials)\n",
    "                    map2_idx = np.zeros_like(trials)\n",
    "                    map3_idx = np.zeros_like(trials)\n",
    "                    for i, t in enumerate(np.unique(trials)):\n",
    "                        map_idx = np.where(W[i,:] == 1)[0][0]\n",
    "                        if map_idx == 0:\n",
    "                            map0_idx[trials == t] = 1\n",
    "                        elif map_idx == 1:\n",
    "                            map1_idx[trials == t] = 1\n",
    "                        elif map_idx == 2:\n",
    "                            map2_idx[trials == t] = 1\n",
    "                        else:\n",
    "                            map3_idx[trials == t] = 1\n",
    "                    map0_idx = map0_idx.astype(bool)\n",
    "                    map1_idx = map1_idx.astype(bool)\n",
    "                    map2_idx = map2_idx.astype(bool)\n",
    "                    map3_idx = map3_idx.astype(bool)\n",
    "\n",
    "                    # get assign map 0 to be the one with the greate number of trials in Context A\n",
    "                    speed_0 = np.nanmean(RFspeed[map0_idx])\n",
    "                    speed_1 = np.nanmean(RFspeed[map1_idx])\n",
    "                    speed_2 = np.nanmean(RFspeed[map2_idx])\n",
    "                    speed_3 = np.nanmean(RFspeed[map3_idx])\n",
    "                    speeds = [speed_0, speed_1, speed_2, speed_3]\n",
    "\n",
    "                    d['map0_idx'] = np.argmin([speed_0, speed_1, speed_2, speed_3])\n",
    "                    d['map3_idx'] = np.argmax([speed_0, speed_1, speed_2, speed_3])\n",
    "                    d['map1_idx'] = np.where(speeds == np.sort(speeds)[1])[0][0]\n",
    "                    d['map2_idx'] = np.where(speeds == np.sort(speeds)[2])[0][0]"
   ]
  },
  {
   "cell_type": "code",
   "execution_count": 42,
   "id": "69f0c6cd",
   "metadata": {
    "scrolled": true
   },
   "outputs": [
    {
     "data": {
      "application/vnd.jupyter.widget-view+json": {
       "model_id": "adb264682b2c40a1b166d560a404f5f3",
       "version_major": 2,
       "version_minor": 0
      },
      "text/plain": [
       "  0%|          | 0/6 [00:00<?, ?it/s]"
      ]
     },
     "metadata": {},
     "output_type": "display_data"
    },
    {
     "data": {
      "application/vnd.jupyter.widget-view+json": {
       "model_id": "e68ad2b4022c47469d62c82045e104c2",
       "version_major": 2,
       "version_minor": 0
      },
      "text/plain": [
       "  0%|          | 0/6 [00:00<?, ?it/s]"
      ]
     },
     "metadata": {},
     "output_type": "display_data"
    },
    {
     "data": {
      "application/vnd.jupyter.widget-view+json": {
       "model_id": "40d93ca0e6d742d893596fbac45d05b0",
       "version_major": 2,
       "version_minor": 0
      },
      "text/plain": [
       "  0%|          | 0/6 [00:00<?, ?it/s]"
      ]
     },
     "metadata": {},
     "output_type": "display_data"
    },
    {
     "data": {
      "application/vnd.jupyter.widget-view+json": {
       "model_id": "8b37be0557724a8da925512a63f27cc5",
       "version_major": 2,
       "version_minor": 0
      },
      "text/plain": [
       "  0%|          | 0/6 [00:00<?, ?it/s]"
      ]
     },
     "metadata": {},
     "output_type": "display_data"
    },
    {
     "data": {
      "application/vnd.jupyter.widget-view+json": {
       "model_id": "ea0e7b5fa79e4e1db6bed8cce39a7af4",
       "version_major": 2,
       "version_minor": 0
      },
      "text/plain": [
       "  0%|          | 0/6 [00:00<?, ?it/s]"
      ]
     },
     "metadata": {},
     "output_type": "display_data"
    },
    {
     "data": {
      "application/vnd.jupyter.widget-view+json": {
       "model_id": "bac76517befe4e04a4ed68d4b14e19cf",
       "version_major": 2,
       "version_minor": 0
      },
      "text/plain": [
       "  0%|          | 0/6 [00:00<?, ?it/s]"
      ]
     },
     "metadata": {},
     "output_type": "display_data"
    },
    {
     "data": {
      "application/vnd.jupyter.widget-view+json": {
       "model_id": "8b82d21dc44f41388da643e26ca80ed1",
       "version_major": 2,
       "version_minor": 0
      },
      "text/plain": [
       "  0%|          | 0/6 [00:00<?, ?it/s]"
      ]
     },
     "metadata": {},
     "output_type": "display_data"
    },
    {
     "data": {
      "application/vnd.jupyter.widget-view+json": {
       "model_id": "5421463753004279b11f92b843145ac7",
       "version_major": 2,
       "version_minor": 0
      },
      "text/plain": [
       "  0%|          | 0/5 [00:00<?, ?it/s]"
      ]
     },
     "metadata": {},
     "output_type": "display_data"
    },
    {
     "data": {
      "application/vnd.jupyter.widget-view+json": {
       "model_id": "07483566daf1494f9090004466935248",
       "version_major": 2,
       "version_minor": 0
      },
      "text/plain": [
       "  0%|          | 0/3 [00:00<?, ?it/s]"
      ]
     },
     "metadata": {},
     "output_type": "display_data"
    },
    {
     "data": {
      "application/vnd.jupyter.widget-view+json": {
       "model_id": "511c20438c0e4ea09fe2885fe228b573",
       "version_major": 2,
       "version_minor": 0
      },
      "text/plain": [
       "  0%|          | 0/6 [00:00<?, ?it/s]"
      ]
     },
     "metadata": {},
     "output_type": "display_data"
    },
    {
     "data": {
      "application/vnd.jupyter.widget-view+json": {
       "model_id": "aa4bf59491504fe9995425a25b1d0315",
       "version_major": 2,
       "version_minor": 0
      },
      "text/plain": [
       "  0%|          | 0/6 [00:00<?, ?it/s]"
      ]
     },
     "metadata": {},
     "output_type": "display_data"
    },
    {
     "data": {
      "application/vnd.jupyter.widget-view+json": {
       "model_id": "863e7008e0d3400a8334d998720b112d",
       "version_major": 2,
       "version_minor": 0
      },
      "text/plain": [
       "  0%|          | 0/6 [00:00<?, ?it/s]"
      ]
     },
     "metadata": {},
     "output_type": "display_data"
    },
    {
     "data": {
      "application/vnd.jupyter.widget-view+json": {
       "model_id": "e8113e41300344bf9ac21ee3275ae5a9",
       "version_major": 2,
       "version_minor": 0
      },
      "text/plain": [
       "  0%|          | 0/5 [00:00<?, ?it/s]"
      ]
     },
     "metadata": {},
     "output_type": "display_data"
    },
    {
     "data": {
      "application/vnd.jupyter.widget-view+json": {
       "model_id": "9b21d94b057d41a98144e397fc7baff8",
       "version_major": 2,
       "version_minor": 0
      },
      "text/plain": [
       "  0%|          | 0/5 [00:00<?, ?it/s]"
      ]
     },
     "metadata": {},
     "output_type": "display_data"
    },
    {
     "data": {
      "application/vnd.jupyter.widget-view+json": {
       "model_id": "1b283227ed5442eb96b522ff788a441a",
       "version_major": 2,
       "version_minor": 0
      },
      "text/plain": [
       "  0%|          | 0/6 [00:00<?, ?it/s]"
      ]
     },
     "metadata": {},
     "output_type": "display_data"
    },
    {
     "data": {
      "application/vnd.jupyter.widget-view+json": {
       "model_id": "dd57328ab4e04b9e99cff9f998ceed3b",
       "version_major": 2,
       "version_minor": 0
      },
      "text/plain": [
       "  0%|          | 0/2 [00:00<?, ?it/s]"
      ]
     },
     "metadata": {},
     "output_type": "display_data"
    },
    {
     "name": "stderr",
     "output_type": "stream",
     "text": [
      "C:\\Users\\Python\\anaconda3\\envs\\agingmec\\lib\\site-packages\\numpy\\core\\fromnumeric.py:3464: RuntimeWarning: Mean of empty slice.\n",
      "  return _methods._mean(a, axis=axis, dtype=dtype,\n",
      "C:\\Users\\Python\\anaconda3\\envs\\agingmec\\lib\\site-packages\\numpy\\core\\_methods.py:192: RuntimeWarning: invalid value encountered in scalar divide\n",
      "  ret = ret.dtype.type(ret / rcount)\n"
     ]
    }
   ],
   "source": [
    "''' Getting Moving Avg Similarity across Neighboring 5 Trials within each K-Means Map \n",
    "\n",
    "This quantifies stability in a manner that controls explicitly for remapping events.\n",
    "\n",
    "'''\n",
    "\n",
    "from scipy.spatial.distance import pdist\n",
    "from scipy.spatial.distance import squareform\n",
    "\n",
    "dt = 0.02\n",
    "\n",
    "slocstab5 = []\n",
    "max_k = 5\n",
    "\n",
    "for m, session in zip(mice, sessions):\n",
    "    m_locstab5 = []\n",
    "    for s in tdqm(session):\n",
    "        d = data[m][s]\n",
    "        \n",
    "        #get some data & cell IDs\n",
    "        rawdata_file = 'RAW_' + m + '_' + s + '.npy'\n",
    "        behavior_file = 'BEHAVIOR_' + m + '_' + s + '.npy'\n",
    "        raw = np.load(load_folder + rawdata_file, allow_pickle=True)\n",
    "        behaviorfil = np.load(load_folder + behavior_file, allow_pickle=False)\n",
    "        cell_IDs = raw.item().get('cellsfil')\n",
    "        spatialcell99 = d['spatialcell99']\n",
    "        spatialcells = cell_IDs[spatialcell99]\n",
    "        trial = behaviorfil[:,2]\n",
    "        \n",
    "        #load the cross trial correlation matrices for all spatial cells      \n",
    "        allsim_file = 'allsim_' + m + '_' + s + '_'+ '.npy'\n",
    "        d['allsim'] = np.load(save_folder + allsim_file)\n",
    "        allsim = d['allsim']\n",
    "        \n",
    "        withinmapstability = [] #avg nearest neighbor stability over all trials within maps for each of the spatial cells\n",
    "        \n",
    "        if len(spatialcells) > 10: \n",
    "            \n",
    "            onemapfile = 'onemap' + m + '_' + s + '.npy'\n",
    "            onemap = np.load(fig3s4_folder + onemapfile)\n",
    "            \n",
    "            if onemap[0].astype(bool) == True:           \n",
    "            \n",
    "                for i, c in enumerate(spatialcells):\n",
    "                    #divide sim by context\n",
    "                    sim = allsim[:,:,i]\n",
    "                    sum_k = np.zeros(sim.shape[0])\n",
    "                    for k in np.arange(-max_k, max_k+1, 1):\n",
    "                        if k == 0:\n",
    "                            continue\n",
    "                        elif k < 0:\n",
    "                            sum_k[np.abs(k):] = sum_k[np.abs(k):] + np.diagonal(sim, offset=k)\n",
    "                        else:\n",
    "                            sum_k[:-k] = sum_k[:-k] + np.diagonal(sim, offset=k)\n",
    "                    withinmapstability = np.append(withinmapstability, np.mean(sum_k[max_k:-max_k]/(2*max_k)))\n",
    "                \n",
    "            else:\n",
    "                \n",
    "                if (d['kmeans']['SilN'] == 2):\n",
    "                    \n",
    "                    W = d['kmeans']['W']\n",
    "                    map_0 = W[:, d['map0_idx']].astype(bool)\n",
    "                    \n",
    "                    sim0 = allsim[map_0,:,:]\n",
    "                    sim0 = sim0[:,map_0,:]\n",
    "                    sim1 = allsim[~map_0,:,:]\n",
    "                    sim1 = sim1[:,~map_0,:]\n",
    "                    \n",
    "                    map1stab = []\n",
    "                    map2stab = []\n",
    "                    for i, c in enumerate(spatialcells):\n",
    "                        \n",
    "                        #map 0 stability\n",
    "                        sim = sim0[:,:,i]\n",
    "                        sum_k0 = np.zeros(sim.shape[0])\n",
    "                        for k in np.arange(-max_k, max_k+1, 1):\n",
    "                            if k == 0:\n",
    "                                continue\n",
    "                            elif k < 0:\n",
    "                                sum_k0[np.abs(k):] = sum_k0[np.abs(k):] + np.diagonal(sim, offset=k)\n",
    "                            else:\n",
    "                                sum_k0[:-k] = sum_k0[:-k] + np.diagonal(sim, offset=k)   \n",
    "                        map1stab = np.append(map1stab, np.mean(sum_k0[max_k:-max_k]/(2*max_k)))\n",
    "                    \n",
    "                        #map 1 stability\n",
    "                        sim = sim1[:,:,i]\n",
    "                        sum_k1 = np.zeros(sim.shape[0])\n",
    "                        for k in np.arange(-max_k, max_k+1, 1):\n",
    "                            if k == 0:\n",
    "                                continue\n",
    "                            elif k < 0:\n",
    "                                sum_k1[np.abs(k):] = sum_k1[np.abs(k):] + np.diagonal(sim, offset=k)\n",
    "                            else:\n",
    "                                sum_k1[:-k] = sum_k1[:-k] + np.diagonal(sim, offset=k)   \n",
    "                        map2stab = np.append(map2stab, np.mean(sum_k1[max_k:-max_k]/(2*max_k)))\n",
    "                        \n",
    "                        withinmapstability = np.append(withinmapstability, np.mean(np.concatenate((sum_k0[max_k:-max_k]/(2*max_k),sum_k1[max_k:-max_k]/(2*max_k)))))\n",
    "                        \n",
    "                elif (d['kmeans']['SilN'] == 3):\n",
    "                    W = d['kmeans']['W']\n",
    "                    map_0 = W[:, d['map0_idx']].astype(bool)\n",
    "                    map_1 = W[:, d['map1_idx']].astype(bool)\n",
    "                    map_2 = W[:, d['map2_idx']].astype(bool)\n",
    "                    \n",
    "                    sim0 = allsim[map_0,:,:]\n",
    "                    sim0 = sim0[:,map_0,:]\n",
    "                    sim1 = allsim[map_1,:,:]\n",
    "                    sim1 = sim1[:,map_1,:]\n",
    "                    sim2 = allsim[map_2,:,:]\n",
    "                    sim2 = sim2[:,map_2,:]\n",
    "                                                \n",
    "                    for i, c in enumerate(spatialcells):\n",
    "                        \n",
    "                        #map 0 stability\n",
    "                        sim = sim0[:,:,i]\n",
    "                        sum_k0 = np.zeros(sim.shape[0])\n",
    "                        for k in np.arange(-max_k, max_k+1, 1):\n",
    "                            if k == 0:\n",
    "                                continue\n",
    "                            elif k < 0:\n",
    "                                sum_k0[np.abs(k):] = sum_k0[np.abs(k):] + np.diagonal(sim, offset=k)\n",
    "                            else:\n",
    "                                sum_k0[:-k] = sum_k0[:-k] + np.diagonal(sim, offset=k)   \n",
    "                        map1stab = sum_k0[max_k:-max_k]/(2*max_k)\n",
    "                    \n",
    "                        #map 1 stability\n",
    "                        sim = sim1[:,:,i]\n",
    "                        sum_k1 = np.zeros(sim.shape[0])\n",
    "                        for k in np.arange(-max_k, max_k+1, 1):\n",
    "                            if k == 0:\n",
    "                                continue\n",
    "                            elif k < 0:\n",
    "                                sum_k1[np.abs(k):] = sum_k1[np.abs(k):] + np.diagonal(sim, offset=k)\n",
    "                            else:\n",
    "                                sum_k1[:-k] = sum_k1[:-k] + np.diagonal(sim, offset=k)   \n",
    "                        map2stab = sum_k1[max_k:-max_k]/(2*max_k)\n",
    "                        \n",
    "                        #map 2 stability\n",
    "                        sim = sim2[:,:,i]\n",
    "                        sum_k2 = np.zeros(sim.shape[0])\n",
    "                        for k in np.arange(-max_k, max_k+1, 1):\n",
    "                            if k == 0:\n",
    "                                continue\n",
    "                            elif k < 0:\n",
    "                                sum_k2[np.abs(k):] = sum_k2[np.abs(k):] + np.diagonal(sim, offset=k)\n",
    "                            else:\n",
    "                                sum_k2[:-k] = sum_k2[:-k] + np.diagonal(sim, offset=k)   \n",
    "                        map3stab = sum_k2[max_k:-max_k]/(2*max_k)\n",
    "                        \n",
    "                        withinmapstability = np.append(withinmapstability, np.mean(np.concatenate((map1stab,map2stab,map3stab))))\n",
    "                    \n",
    "                elif (d['kmeans']['SilN'] == 4):\n",
    "                    W = d['kmeans']['W']\n",
    "                    map_0 = W[:, d['map0_idx']].astype(bool)\n",
    "                    map_1 = W[:, d['map1_idx']].astype(bool)\n",
    "                    map_2 = W[:, d['map2_idx']].astype(bool)\n",
    "                    map_3 = W[:, d['map3_idx']].astype(bool)\n",
    "                    \n",
    "                    sim0 = allsim[map_0,:,:]\n",
    "                    sim0 = sim0[:,map_0,:]\n",
    "                    sim1 = allsim[map_1,:,:]\n",
    "                    sim1 = sim1[:,map_1,:]\n",
    "                    sim2 = allsim[map_2,:,:]\n",
    "                    sim2 = sim2[:,map_2,:]\n",
    "                    sim3 = allsim[map_3,:,:]\n",
    "                    sim3 = sim3[:,map_3,:]\n",
    "                    \n",
    "                    for i, c in enumerate(spatialcells):\n",
    "                        \n",
    "                        #map 0 stability\n",
    "                        sim = sim0[:,:,i]\n",
    "                        sum_k0 = np.zeros(sim.shape[0])\n",
    "                        for k in np.arange(-max_k, max_k+1, 1):\n",
    "                            if k == 0:\n",
    "                                continue\n",
    "                            elif k < 0:\n",
    "                                sum_k0[np.abs(k):] = sum_k0[np.abs(k):] + np.diagonal(sim, offset=k)\n",
    "                            else:\n",
    "                                sum_k0[:-k] = sum_k0[:-k] + np.diagonal(sim, offset=k)   \n",
    "                        map1stab = sum_k0[max_k:-max_k]/(2*max_k)\n",
    "                    \n",
    "                        #map 1 stability\n",
    "                        sim = sim1[:,:,i]\n",
    "                        sum_k1 = np.zeros(sim.shape[0])\n",
    "                        for k in np.arange(-max_k, max_k+1, 1):\n",
    "                            if k == 0:\n",
    "                                continue\n",
    "                            elif k < 0:\n",
    "                                sum_k1[np.abs(k):] = sum_k1[np.abs(k):] + np.diagonal(sim, offset=k)\n",
    "                            else:\n",
    "                                sum_k1[:-k] = sum_k1[:-k] + np.diagonal(sim, offset=k)   \n",
    "                        map2stab = sum_k1[max_k:-max_k]/(2*max_k)\n",
    "                        \n",
    "                        #map 2 stability\n",
    "                        sim = sim2[:,:,i]\n",
    "                        sum_k2 = np.zeros(sim.shape[0])\n",
    "                        for k in np.arange(-max_k, max_k+1, 1):\n",
    "                            if k == 0:\n",
    "                                continue\n",
    "                            elif k < 0:\n",
    "                                sum_k2[np.abs(k):] = sum_k2[np.abs(k):] + np.diagonal(sim, offset=k)\n",
    "                            else:\n",
    "                                sum_k2[:-k] = sum_k2[:-k] + np.diagonal(sim, offset=k)   \n",
    "                        map3stab = sum_k2[max_k:-max_k]/(2*max_k)\n",
    "                        \n",
    "                        #map 3 stability\n",
    "                        sim = sim3[:,:,i]\n",
    "                        sum_k3 = np.zeros(sim.shape[0])\n",
    "                        for k in np.arange(-max_k, max_k+1, 1):\n",
    "                            if k == 0:\n",
    "                                continue\n",
    "                            elif k < 0:\n",
    "                                sum_k3[np.abs(k):] = sum_k3[np.abs(k):] + np.diagonal(sim, offset=k)\n",
    "                            else:\n",
    "                                sum_k3[:-k] = sum_k3[:-k] + np.diagonal(sim, offset=k)   \n",
    "                        map4stab = sum_k3[max_k:-max_k]/(2*max_k)\n",
    "                        \n",
    "                        withinmapstability = np.append(withinmapstability, np.mean(np.concatenate((map1stab,map2stab,map3stab,map4stab))))\n",
    "                                          \n",
    "        else: \n",
    "            \n",
    "            for i, c in enumerate(spatialcells):\n",
    "                #divide sim by context\n",
    "                sim = allsim[:,:,i]\n",
    "                sum_k = np.zeros(sim.shape[0])\n",
    "                for k in np.arange(-max_k, max_k+1, 1):\n",
    "                    if k == 0:\n",
    "                        continue\n",
    "                    elif k < 0:\n",
    "                        sum_k[np.abs(k):] = sum_k[np.abs(k):] + np.diagonal(sim, offset=k)\n",
    "                    else:\n",
    "                        sum_k[:-k] = sum_k[:-k] + np.diagonal(sim, offset=k)\n",
    "                withinmapstability = np.append(withinmapstability, np.mean(sum_k[max_k:-max_k]/(2*max_k)))\n",
    "                \n",
    "        # save out within map stability to relate to position decoding accuracy\n",
    "        within_map_stability_file = 'within_map_stab_' + m + '_' + s + '.npy'\n",
    "        np.save(save_folder + within_map_stability_file, withinmapstability)\n",
    "        \n",
    "        #report out results\n",
    "        slocstab5 = np.append(slocstab5, np.mean(withinmapstability)) #mean over all cells in a sesssion"
   ]
  },
  {
   "cell_type": "code",
   "execution_count": 43,
   "id": "efc32797",
   "metadata": {
    "scrolled": true
   },
   "outputs": [
    {
     "data": {
      "application/vnd.jupyter.widget-view+json": {
       "model_id": "13010e3fa4884fea93695a245a749db6",
       "version_major": 2,
       "version_minor": 0
      },
      "text/plain": [
       "  0%|          | 0/6 [00:00<?, ?it/s]"
      ]
     },
     "metadata": {},
     "output_type": "display_data"
    },
    {
     "data": {
      "application/vnd.jupyter.widget-view+json": {
       "model_id": "21c0a46ec6594224b0741c3830500fb4",
       "version_major": 2,
       "version_minor": 0
      },
      "text/plain": [
       "  0%|          | 0/6 [00:00<?, ?it/s]"
      ]
     },
     "metadata": {},
     "output_type": "display_data"
    },
    {
     "data": {
      "application/vnd.jupyter.widget-view+json": {
       "model_id": "32061e0e81704d3c8772513c01f2cfd9",
       "version_major": 2,
       "version_minor": 0
      },
      "text/plain": [
       "  0%|          | 0/6 [00:00<?, ?it/s]"
      ]
     },
     "metadata": {},
     "output_type": "display_data"
    },
    {
     "data": {
      "application/vnd.jupyter.widget-view+json": {
       "model_id": "6b8efe71a7d443dbabed7766006bbe62",
       "version_major": 2,
       "version_minor": 0
      },
      "text/plain": [
       "  0%|          | 0/6 [00:00<?, ?it/s]"
      ]
     },
     "metadata": {},
     "output_type": "display_data"
    },
    {
     "data": {
      "application/vnd.jupyter.widget-view+json": {
       "model_id": "2c18c8df8f1d4da4a6a0c8f83eaeb571",
       "version_major": 2,
       "version_minor": 0
      },
      "text/plain": [
       "  0%|          | 0/6 [00:00<?, ?it/s]"
      ]
     },
     "metadata": {},
     "output_type": "display_data"
    },
    {
     "data": {
      "application/vnd.jupyter.widget-view+json": {
       "model_id": "3bc6901795524029bae57edc69f84269",
       "version_major": 2,
       "version_minor": 0
      },
      "text/plain": [
       "  0%|          | 0/6 [00:00<?, ?it/s]"
      ]
     },
     "metadata": {},
     "output_type": "display_data"
    },
    {
     "data": {
      "application/vnd.jupyter.widget-view+json": {
       "model_id": "6e86279159744f259c498fa71f91d3db",
       "version_major": 2,
       "version_minor": 0
      },
      "text/plain": [
       "  0%|          | 0/6 [00:00<?, ?it/s]"
      ]
     },
     "metadata": {},
     "output_type": "display_data"
    },
    {
     "data": {
      "application/vnd.jupyter.widget-view+json": {
       "model_id": "a831a37cdc3a490c9476c7ec2ed84a64",
       "version_major": 2,
       "version_minor": 0
      },
      "text/plain": [
       "  0%|          | 0/5 [00:00<?, ?it/s]"
      ]
     },
     "metadata": {},
     "output_type": "display_data"
    },
    {
     "data": {
      "application/vnd.jupyter.widget-view+json": {
       "model_id": "6ddb5fa1c0794dfd94be15e61f28c207",
       "version_major": 2,
       "version_minor": 0
      },
      "text/plain": [
       "  0%|          | 0/3 [00:00<?, ?it/s]"
      ]
     },
     "metadata": {},
     "output_type": "display_data"
    },
    {
     "data": {
      "application/vnd.jupyter.widget-view+json": {
       "model_id": "6e2c801cfac14608adad54d0eff53a19",
       "version_major": 2,
       "version_minor": 0
      },
      "text/plain": [
       "  0%|          | 0/6 [00:00<?, ?it/s]"
      ]
     },
     "metadata": {},
     "output_type": "display_data"
    },
    {
     "data": {
      "application/vnd.jupyter.widget-view+json": {
       "model_id": "cb80f216d52b48b6ac1dd30d83feeab4",
       "version_major": 2,
       "version_minor": 0
      },
      "text/plain": [
       "  0%|          | 0/6 [00:00<?, ?it/s]"
      ]
     },
     "metadata": {},
     "output_type": "display_data"
    },
    {
     "data": {
      "application/vnd.jupyter.widget-view+json": {
       "model_id": "c3ee5cf0a04241e3aaf21e2396a4a7f2",
       "version_major": 2,
       "version_minor": 0
      },
      "text/plain": [
       "  0%|          | 0/6 [00:00<?, ?it/s]"
      ]
     },
     "metadata": {},
     "output_type": "display_data"
    },
    {
     "data": {
      "application/vnd.jupyter.widget-view+json": {
       "model_id": "b39b72c79dad42e2b72cf5cc0d9c429c",
       "version_major": 2,
       "version_minor": 0
      },
      "text/plain": [
       "  0%|          | 0/5 [00:00<?, ?it/s]"
      ]
     },
     "metadata": {},
     "output_type": "display_data"
    },
    {
     "data": {
      "application/vnd.jupyter.widget-view+json": {
       "model_id": "192e8f0c2adb46abb5d1d3ecacad00fe",
       "version_major": 2,
       "version_minor": 0
      },
      "text/plain": [
       "  0%|          | 0/5 [00:00<?, ?it/s]"
      ]
     },
     "metadata": {},
     "output_type": "display_data"
    },
    {
     "data": {
      "application/vnd.jupyter.widget-view+json": {
       "model_id": "fb5b5dc0ec4b47fab8ca1e49010f6a7b",
       "version_major": 2,
       "version_minor": 0
      },
      "text/plain": [
       "  0%|          | 0/6 [00:00<?, ?it/s]"
      ]
     },
     "metadata": {},
     "output_type": "display_data"
    },
    {
     "data": {
      "application/vnd.jupyter.widget-view+json": {
       "model_id": "bb6d09cb728643ce9bcfa62aca30458a",
       "version_major": 2,
       "version_minor": 0
      },
      "text/plain": [
       "  0%|          | 0/2 [00:00<?, ?it/s]"
      ]
     },
     "metadata": {},
     "output_type": "display_data"
    },
    {
     "name": "stderr",
     "output_type": "stream",
     "text": [
      "C:\\Users\\Python\\AppData\\Local\\Temp\\ipykernel_29392\\1149489244.py:44: RuntimeWarning: Mean of empty slice\n",
      "  sshuflocstab5 = np.append(sshuflocstab5, np.nanmean(local_stability5))\n"
     ]
    }
   ],
   "source": [
    "''' Getting Moving Avg Similarity as a Measure of Stability for Shuffle Data '''\n",
    "\n",
    "from scipy.spatial.distance import pdist\n",
    "from scipy.spatial.distance import squareform\n",
    "\n",
    "sshuflocstab5 = []\n",
    "max_k = 5\n",
    "\n",
    "for m, session in zip(mice, sessions):\n",
    "    \n",
    "    for s in tdqm(session):\n",
    "        d = data[m][s]\n",
    "        \n",
    "        #get some data & cell IDs\n",
    "        rawdata_file = 'RAW_' + m + '_' + s + '.npy'\n",
    "        raw = np.load(load_folder + rawdata_file, allow_pickle=True)\n",
    "        cell_IDs = raw.item().get('cellsfil')\n",
    "        spatialcell99 = d['spatialcell99']\n",
    "        spatialcells = cell_IDs[spatialcell99]\n",
    "        \n",
    "        #load the cross trial correlation matrices for all spatial cells      \n",
    "        allshuffsim_file = 'allshuffsim_' + m + '_' + s + '_'+ '.npy'\n",
    "        d['allshuffsim'] = np.load(save_folder + allshuffsim_file)\n",
    "        allshuffsim = d['allshuffsim']\n",
    "        \n",
    "        local_stability5 = []\n",
    "        for i, c in enumerate(spatialcells):\n",
    "            \n",
    "            #divide sim by context\n",
    "            sim = allshuffsim[:,:,i]\n",
    "        \n",
    "            #local neighborhood 5 trials\n",
    "            sum_k = np.zeros(sim.shape[0])\n",
    "            for k in np.arange(-max_k, max_k+1, 1):\n",
    "                if k == 0:\n",
    "                    continue\n",
    "                elif k < 0:\n",
    "                    sum_k[np.abs(k):] = sum_k[np.abs(k):] + np.diagonal(sim, offset=k)\n",
    "                else:\n",
    "                    sum_k[:-k] = sum_k[:-k] + np.diagonal(sim, offset=k)\n",
    "            local_stability5 = np.append(local_stability5, np.mean(sum_k[max_k:-max_k]/(2*max_k)))\n",
    "\n",
    "        #save session results\n",
    "        sshuflocstab5 = np.append(sshuflocstab5, np.nanmean(local_stability5))"
   ]
  },
  {
   "cell_type": "code",
   "execution_count": 44,
   "id": "49a8827f",
   "metadata": {},
   "outputs": [
    {
     "data": {
      "image/png": "[encoded data removed]",
      "text/plain": [
       "<Figure size 125x125 with 1 Axes>"
      ]
     },
     "metadata": {},
     "output_type": "display_data"
    }
   ],
   "source": [
    "''' Plot Within Map Stability across Age Groups (Figure 5G) '''\n",
    "\n",
    "labels = ['Young','Aged']\n",
    "w = 0.5\n",
    "\n",
    "fig, ax = plt.subplots(1, 1, figsize=(1.25, 1.25), sharey = True)\n",
    "#fig.suptitle('Spatial Cell Within Map Stability, Pooled by Age Group', fontsize=12)\n",
    "\n",
    "slocstab5_tog = [slocstab5[y_sind99],slocstab5[age_sind99]]\n",
    "ax.boxplot(slocstab5_tog, widths = w, labels = labels, medianprops = dict(color = 'black'))\n",
    "ax.hlines(np.mean(sshuflocstab5[y_sind99]), 0.75, 1.25, color = 'C0', linestyle ='dashed', linewidth = 0.75, label = 'Young Shuffle')\n",
    "ax.hlines(np.mean(sshuflocstab5[age_sind99]), 1.75, 2.25, color = 'C1', linestyle ='dashed', linewidth = 0.75, label = 'Aged Shuffle')\n",
    "#ax.set_title('Session Spatial Cell Within Map Stability k = 5', fontsize=12, pad=5)\n",
    "ax.set_xlabel('Age', fontsize=9, labelpad=1)\n",
    "ax.set_ylabel('Mean Stability', fontsize=9, labelpad=1)\n",
    "\n",
    "for i in range(len(slocstab5_tog)):\n",
    "    y = slocstab5_tog[i]\n",
    "    x = np.random.normal(i + 1, 0.04, len(y))\n",
    "    ax.scatter(x, y, color = col_session99[i], edgecolors = col_session99[i], alpha = 1, s = 10)\n",
    "\n",
    "ax.set_ylim([-0.05,0.3])\n",
    "ax.set_yticks([0,0.1,0.2,0.3])\n",
    "ax.tick_params(labelsize = 8)\n",
    "\n",
    "#ax.legend(ncol = 3, handles = handles, labels = label_mice, loc = 'upper right',bbox_to_anchor=(1.65, 1))\n",
    "plt.savefig(save_folder + '5G.png', dpi=400, bbox_inches='tight')\n",
    "plt.savefig(save_folder + '5G.svg', dpi=400, bbox_inches='tight')\n",
    "plt.show()"
   ]
  },
  {
   "cell_type": "code",
   "execution_count": 45,
   "id": "5e78cfb6",
   "metadata": {},
   "outputs": [
    {
     "name": "stdout",
     "output_type": "stream",
     "text": [
      "\n",
      "Within Map locstab5 Young vs. Aged RESULTS:\n",
      "locstabyoung ± SEM; locstab_old ± SEM\n",
      "0.1315 ± 0.0087 ; 0.0895 ± 0.0075\n",
      "stat = 3.647796658112309\n",
      "p_session, locstab5 = 0.0002644988343191263\n",
      "\n",
      "Within Map locstab5 Shuffle Young vs. Aged RESULTS:\n",
      "shuflocstabyoung ± SEM; shuflocstab_old ± SEM\n",
      "0.0009 ± 0.0002 ; 0.001 ± 0.0003\n",
      "stat = -0.026369614395992596\n",
      "p_session, shuff locstab5 = 0.9789625299178463\n",
      "\n",
      "Young Shuffle vs. Real Results:\n",
      "shufflocstab5SC_young ± SEM, locstab5SC_young ± SEM\n",
      "0.0009 ± 0.0002 ; 0.1315 ± 0.0087\n",
      "stat = 0.0\n",
      "p_session, P99 locstab5 = 2.2737367544323206e-13\n",
      "\n",
      "Aged Shuffle vs. Real Results:\n",
      "shufflocstab5SC_old ± SEM, locstab5SC_old ± SEM\n",
      "0.001 ± 0.0003 ; 0.0895 ± 0.0075\n",
      "stat = 0.0\n",
      "p_session, P99 locstab5 = 4.547473508864641e-13\n",
      "\n",
      "n young, aged sessions:\n",
      "43 42\n"
     ]
    }
   ],
   "source": [
    "''' Statistics on Mean locstab5 '''\n",
    "\n",
    "print('\\nWithin Map locstab5 Young vs. Aged RESULTS:')\n",
    "print('locstabyoung ± SEM; locstab_old ± SEM')\n",
    "print(str(np.round(np.mean(slocstab5[y_sind99]), 4)) + ' ± ' + str(np.round(stats.sem(slocstab5[y_sind99]), 4)) + ' ; ' \n",
    "      + str(np.round(np.mean(slocstab5[age_sind99]), 4)) + ' ± ' + str(np.round(stats.sem(slocstab5[age_sind99]), 4)))\n",
    "\n",
    "stat, p_diff = stats.ranksums(slocstab5[y_sind99],slocstab5[age_sind99])\n",
    "print('stat = ' + str(stat))\n",
    "print('p_session, locstab5 = ' + str(p_diff))\n",
    "\n",
    "print('\\nWithin Map locstab5 Shuffle Young vs. Aged RESULTS:')\n",
    "print('shuflocstabyoung ± SEM; shuflocstab_old ± SEM')\n",
    "print(str(np.round(np.mean(sshuflocstab5[y_sind99]), 4)) + ' ± ' + str(np.round(stats.sem(sshuflocstab5[y_sind99]), 4)) + ' ; ' \n",
    "      + str(np.round(np.mean(sshuflocstab5[age_sind99]), 4)) + ' ± ' + str(np.round(stats.sem(sshuflocstab5[age_sind99]), 4)))\n",
    "\n",
    "stat, p_diff = stats.ranksums(sshuflocstab5[y_sind99],sshuflocstab5[age_sind99])\n",
    "print('stat = ' + str(stat))\n",
    "print('p_session, shuff locstab5 = ' + str(p_diff))\n",
    "\n",
    "print('\\nYoung Shuffle vs. Real Results:')\n",
    "print('shufflocstab5SC_young ± SEM, locstab5SC_young ± SEM')\n",
    "print(str(np.round(np.mean(sshuflocstab5[y_sind99]), 4)) + ' ± ' + str(np.round(stats.sem(sshuflocstab5[y_sind99]), 4)) + ' ; ' \n",
    "      + str(np.round(np.mean(slocstab5[y_sind99]), 4)) + ' ± ' + str(np.round(stats.sem(slocstab5[y_sind99]), 4)))\n",
    "\n",
    "stat, p_diff = stats.wilcoxon(sshuflocstab5[y_sind99],slocstab5[y_sind99])\n",
    "print('stat = ' + str(stat))\n",
    "print('p_session, P99 locstab5 = ' + str(p_diff))\n",
    "\n",
    "print('\\nAged Shuffle vs. Real Results:')\n",
    "print('shufflocstab5SC_old ± SEM, locstab5SC_old ± SEM')\n",
    "print(str(np.round(np.mean(sshuflocstab5[age_sind99]), 4)) + ' ± ' + str(np.round(stats.sem(sshuflocstab5[age_sind99]), 4)) + ' ; ' \n",
    "      + str(np.round(np.mean(slocstab5[age_sind99]), 4)) + ' ± ' + str(np.round(stats.sem(slocstab5[age_sind99]), 4)))\n",
    "\n",
    "stat, p_diff = stats.wilcoxon(sshuflocstab5[age_sind99],slocstab5[age_sind99])\n",
    "print('stat = ' + str(stat))\n",
    "print('p_session, P99 locstab5 = ' + str(p_diff))\n",
    "\n",
    "print('\\nn young, aged sessions:')\n",
    "print(len(y_sind99), len(age_sind99))"
   ]
  },
  {
   "cell_type": "markdown",
   "id": "7253c17c",
   "metadata": {},
   "source": [
    "# Compare position decoding accuracy from young vs. aged spatial network activity for sessions with optimal k = 2 (Figure 5H - J)"
   ]
  },
  {
   "cell_type": "code",
   "execution_count": 46,
   "id": "b9a25149",
   "metadata": {
    "scrolled": true
   },
   "outputs": [
    {
     "data": {
      "application/vnd.jupyter.widget-view+json": {
       "model_id": "5d5c0d2236d04ebdaba73d7510400e3d",
       "version_major": 2,
       "version_minor": 0
      },
      "text/plain": [
       "  0%|          | 0/6 [00:00<?, ?it/s]"
      ]
     },
     "metadata": {},
     "output_type": "display_data"
    },
    {
     "data": {
      "application/vnd.jupyter.widget-view+json": {
       "model_id": "aa4f6e371e18443ea03e84c2f1d8bbd7",
       "version_major": 2,
       "version_minor": 0
      },
      "text/plain": [
       "  0%|          | 0/6 [00:00<?, ?it/s]"
      ]
     },
     "metadata": {},
     "output_type": "display_data"
    },
    {
     "data": {
      "application/vnd.jupyter.widget-view+json": {
       "model_id": "082ef7d0fb994049aec3e615c2c19e6f",
       "version_major": 2,
       "version_minor": 0
      },
      "text/plain": [
       "  0%|          | 0/6 [00:00<?, ?it/s]"
      ]
     },
     "metadata": {},
     "output_type": "display_data"
    },
    {
     "data": {
      "application/vnd.jupyter.widget-view+json": {
       "model_id": "14de7f7a2013422caf4ce09b9e78baf0",
       "version_major": 2,
       "version_minor": 0
      },
      "text/plain": [
       "  0%|          | 0/6 [00:00<?, ?it/s]"
      ]
     },
     "metadata": {},
     "output_type": "display_data"
    },
    {
     "data": {
      "application/vnd.jupyter.widget-view+json": {
       "model_id": "f5a1440ccc33464583383bbac2260034",
       "version_major": 2,
       "version_minor": 0
      },
      "text/plain": [
       "  0%|          | 0/6 [00:00<?, ?it/s]"
      ]
     },
     "metadata": {},
     "output_type": "display_data"
    },
    {
     "data": {
      "application/vnd.jupyter.widget-view+json": {
       "model_id": "ec9200fd3fc24291b97b229a94320334",
       "version_major": 2,
       "version_minor": 0
      },
      "text/plain": [
       "  0%|          | 0/6 [00:00<?, ?it/s]"
      ]
     },
     "metadata": {},
     "output_type": "display_data"
    },
    {
     "data": {
      "application/vnd.jupyter.widget-view+json": {
       "model_id": "0bfadd8ad6a14609954a2f0c61311104",
       "version_major": 2,
       "version_minor": 0
      },
      "text/plain": [
       "  0%|          | 0/6 [00:00<?, ?it/s]"
      ]
     },
     "metadata": {},
     "output_type": "display_data"
    },
    {
     "data": {
      "application/vnd.jupyter.widget-view+json": {
       "model_id": "de81567b6dd94e4aa1452ea99d45695a",
       "version_major": 2,
       "version_minor": 0
      },
      "text/plain": [
       "  0%|          | 0/5 [00:00<?, ?it/s]"
      ]
     },
     "metadata": {},
     "output_type": "display_data"
    },
    {
     "data": {
      "application/vnd.jupyter.widget-view+json": {
       "model_id": "d9f1a004f5734309865c55ab1e17ee5e",
       "version_major": 2,
       "version_minor": 0
      },
      "text/plain": [
       "  0%|          | 0/3 [00:00<?, ?it/s]"
      ]
     },
     "metadata": {},
     "output_type": "display_data"
    },
    {
     "data": {
      "application/vnd.jupyter.widget-view+json": {
       "model_id": "d74eef7a233c4a2396a36a40ca30c964",
       "version_major": 2,
       "version_minor": 0
      },
      "text/plain": [
       "  0%|          | 0/6 [00:00<?, ?it/s]"
      ]
     },
     "metadata": {},
     "output_type": "display_data"
    },
    {
     "data": {
      "application/vnd.jupyter.widget-view+json": {
       "model_id": "17f9174fe66348129cb3ea8e349847b8",
       "version_major": 2,
       "version_minor": 0
      },
      "text/plain": [
       "  0%|          | 0/6 [00:00<?, ?it/s]"
      ]
     },
     "metadata": {},
     "output_type": "display_data"
    },
    {
     "data": {
      "application/vnd.jupyter.widget-view+json": {
       "model_id": "f9cc1c1b2ace4381b813b8ddd9866e49",
       "version_major": 2,
       "version_minor": 0
      },
      "text/plain": [
       "  0%|          | 0/6 [00:00<?, ?it/s]"
      ]
     },
     "metadata": {},
     "output_type": "display_data"
    },
    {
     "data": {
      "application/vnd.jupyter.widget-view+json": {
       "model_id": "303c175e972b4f439ad9aeb854ad188c",
       "version_major": 2,
       "version_minor": 0
      },
      "text/plain": [
       "  0%|          | 0/5 [00:00<?, ?it/s]"
      ]
     },
     "metadata": {},
     "output_type": "display_data"
    },
    {
     "data": {
      "application/vnd.jupyter.widget-view+json": {
       "model_id": "65ab812435004fae9f1485197b45cef7",
       "version_major": 2,
       "version_minor": 0
      },
      "text/plain": [
       "  0%|          | 0/5 [00:00<?, ?it/s]"
      ]
     },
     "metadata": {},
     "output_type": "display_data"
    },
    {
     "data": {
      "application/vnd.jupyter.widget-view+json": {
       "model_id": "a069e4afa4144c8591e9329774c2f631",
       "version_major": 2,
       "version_minor": 0
      },
      "text/plain": [
       "  0%|          | 0/6 [00:00<?, ?it/s]"
      ]
     },
     "metadata": {},
     "output_type": "display_data"
    },
    {
     "data": {
      "application/vnd.jupyter.widget-view+json": {
       "model_id": "5e7c7e5b619a408785502f6d3b3bb7b6",
       "version_major": 2,
       "version_minor": 0
      },
      "text/plain": [
       "  0%|          | 0/2 [00:00<?, ?it/s]"
      ]
     },
     "metadata": {},
     "output_type": "display_data"
    }
   ],
   "source": [
    "''' Compute & Save Start & Stop Indices Corresponding to End of Dark, Start of Gain Periods'''\n",
    "\n",
    "from scipy.spatial.distance import pdist\n",
    "from scipy.spatial.distance import squareform\n",
    "\n",
    "dt = 0.02\n",
    "\n",
    "#in case you ran Figure 5I before this...\n",
    "#mice , mice_ind, _  = np.intersect1d(all_mice,(np.union1d(cohorta_mice, cohortb_mice)), return_indices = True) # RF mice \n",
    "\n",
    "#sessions = []\n",
    "#for i in mice_ind:\n",
    "    #sessions.append(all_sessions[i])\n",
    "\n",
    "for m, session in zip(mice,sessions):\n",
    "        \n",
    "    if m in cohortb_mice:\n",
    "        max_trials = 240\n",
    "    else:\n",
    "        max_trials = 200\n",
    "        \n",
    "    for s in tdqm(session):\n",
    "        \n",
    "        #get data\n",
    "        d = data[m][s]\n",
    "        \n",
    "        #get some data & cell IDs\n",
    "        rawdata_file = 'RAW_' + m + '_' + s + '.npy'\n",
    "        spikes_file = 'SPIKES_' + m + '_' + s +'.npy'\n",
    "        behavior_file = 'BEHAVIOR_' + m + '_' + s + '.npy'\n",
    "        \n",
    "        raw = np.load(load_folder + rawdata_file, allow_pickle=True)\n",
    "        Y = np.load(load_folder + spikes_file, allow_pickle=False) #pre-filtered for speeds >2cm/s, position-corrected spikes, 20 ms timebins\n",
    "        behaviorfil = np.load(load_folder + behavior_file, allow_pickle=False)\n",
    "        \n",
    "        cell_IDs = raw.item().get('cellsfil')\n",
    "        spatialcell99 = d['spatialcell99']\n",
    "        spatialcells = cell_IDs[spatialcell99]\n",
    "    \n",
    "        posx = behaviorfil[:,0]\n",
    "        trial = behaviorfil[:,2]\n",
    "        rawtrialfil = raw.item().get('trialfil')\n",
    "        \n",
    "        #Find any skipped trials\n",
    "        try:\n",
    "            _ = raw.item().get('correctedtrial').shape\n",
    "            skippedtrials = get.find_skipped(trial, max_trial_num = max_trials)\n",
    "            \n",
    "        except:\n",
    "            skippedtrials = []\n",
    "        \n",
    "        if np.max(np.unique(trial)) < 160: #handles truncated, shorter sessions \n",
    "            alltrial = np.arange(0, np.max(np.unique(trial)) + 1, 1)\n",
    "            #print(m, s)\n",
    "        else:\n",
    "            alltrial = np.arange(0,max_trials,1)\n",
    "\n",
    "        # Load in left vs. right info\n",
    "        trials = np.unique(trial)\n",
    "        \n",
    "        #count number of skipped dark trials\n",
    "        ndarkskipped = 0\n",
    "        for z in skippedtrials:\n",
    "            if z < 20: \n",
    "                ndarkskipped += 1\n",
    "                \n",
    "        #adjust trialfil so that trials are skipped instead\n",
    "        skippedrawtrialfil = get.sortedtrialbyframe(rawtrialfil, trial, skippedtrials)\n",
    "            \n",
    "        #define random foraging trials only, excluding dark & gain change periods\n",
    "        if m == 'Y9':\n",
    "            start_idx = 0 \n",
    "            end_idx = len(skippedrawtrialfil) + 1\n",
    "        elif m in cohortb_mice:\n",
    "            start_idx = (np.where(skippedrawtrialfil >= 20)[0][0]).astype(int)\n",
    "            end_idx = (np.where(skippedrawtrialfil >= 220)[0][0]).astype(int)\n",
    "        else:\n",
    "            start_idx = 0 \n",
    "            end_idx = len(skippedrawtrialfil) + 1\n",
    "            \n",
    "        d['start'] = start_idx\n",
    "        d['end'] = end_idx"
   ]
  },
  {
   "cell_type": "code",
   "execution_count": 52,
   "id": "f8f3b4f0",
   "metadata": {},
   "outputs": [],
   "source": [
    "'''For k = 2 sessions, get map indices for each observation'''\n",
    "for m, session in zip(mice, sessions):\n",
    "    \n",
    "    if m in cohortb_mice:\n",
    "        max_trials = 240\n",
    "    else:\n",
    "        max_trials = 200\n",
    "        \n",
    "    for s in session:\n",
    "        d = data[m][s]\n",
    "        \n",
    "        #get some data & cell IDs\n",
    "        rawdata_file = 'RAW_' + m + '_' + s + '.npy'\n",
    "        spikes_file = 'SPIKES_' + m + '_' + s +'.npy'\n",
    "        behavior_file = 'BEHAVIOR_' + m + '_' + s + '.npy'\n",
    "        \n",
    "        raw = np.load(load_folder + rawdata_file, allow_pickle=True)\n",
    "        Y = np.load(load_folder + spikes_file, allow_pickle=False) #pre-filtered for speeds >2cm/s, position-corrected spikes, 20 ms timebins\n",
    "        behaviorfil = np.load(load_folder + behavior_file, allow_pickle=False)\n",
    "        \n",
    "        cell_IDs = raw.item().get('cellsfil')\n",
    "        spatialcell99 = d['spatialcell99']\n",
    "        spatialcells = cell_IDs[spatialcell99]\n",
    "    \n",
    "        posx = behaviorfil[:,0]\n",
    "        trial = behaviorfil[:,2]\n",
    "        rawtrialfil = raw.item().get('trialfil')\n",
    "        \n",
    "        #Find any skipped trials\n",
    "        try:\n",
    "            _ = raw.item().get('correctedtrial').shape\n",
    "            skippedtrials = get.find_skipped(trial, max_trial_num = max_trials)\n",
    "        except:\n",
    "            skippedtrials = []\n",
    "        \n",
    "        if np.max(np.unique(trial)) < 160: #handles truncated, shorter sessions \n",
    "            alltrial = np.arange(0, np.max(np.unique(trial)) + 1, 1)\n",
    "        else:\n",
    "            alltrial = np.arange(0,max_trials,1)\n",
    "\n",
    "        # Load in left vs. right info\n",
    "        trials = np.unique(trial)\n",
    "        \n",
    "        #count number of skipped dark trials\n",
    "        ndarkskipped = 0\n",
    "        for z in skippedtrials:\n",
    "            if z < 20: \n",
    "                ndarkskipped += 1\n",
    "                \n",
    "        #adjust trialfil so that trials are skipped instead\n",
    "        skippedrawtrialfil = get.sortedtrialbyframe(rawtrialfil, trial, skippedtrials)\n",
    "            \n",
    "        start = d['start']\n",
    "        end = d['end']\n",
    "        d['skippedrawtrialfil'] = skippedrawtrialfil\n",
    "    \n",
    "        if len(spatialcells) > 10:\n",
    "        \n",
    "            if d['kmeans']['onemap'][0].astype(bool) == False:\n",
    "                \n",
    "                if d['kmeans']['SilN'] == 2:\n",
    "                    d['2map'] = 1\n",
    "\n",
    "                    W = d['kmeans']['W']\n",
    "                    map0 = d['map0_idx']\n",
    "                    map_idx = W[:, map0].astype(bool)\n",
    "                    trials = skippedrawtrialfil[start:end]\n",
    "\n",
    "                    map0_idx = np.zeros_like(trials)\n",
    "                    map1_idx = np.zeros_like(trials)\n",
    "                    for i, t in enumerate(np.unique(trials)):\n",
    "                        if map_idx[i]:\n",
    "                            map0_idx[trials == t] = 1\n",
    "                        else:\n",
    "                            map1_idx[trials == t] = 1\n",
    "\n",
    "                    map0_idx = map0_idx.astype(bool)\n",
    "                    map1_idx = map1_idx.astype(bool)\n",
    "                    d['idx'] = np.row_stack((map0_idx, map1_idx))\n",
    "                else:\n",
    "                    d['2map'] = 0\n",
    "            else:\n",
    "                d['2map'] = 0      \n",
    "        else:\n",
    "            d['2map'] = 0"
   ]
  },
  {
   "cell_type": "code",
   "execution_count": 49,
   "id": "2663112c",
   "metadata": {},
   "outputs": [],
   "source": [
    "''' DECODER ANALYSIS '''\n",
    "import scipy.stats \n",
    "from scipy.ndimage import gaussian_filter1d\n",
    "normcdf = scipy.stats.norm.cdf\n",
    "normpdf = scipy.stats.norm.pdf\n",
    "\n",
    "SMOOTHNESS = 10.0\n",
    "REGULARIZATION = 1e-4\n",
    "\n",
    "## REGRESSION MODEL ##\n",
    "\n",
    "from scipy.linalg import cho_factor, cho_solve\n",
    "from sklearn.base import BaseEstimator\n",
    "\n",
    "class CircularRegression(BaseEstimator):\n",
    "    \n",
    "    def __init__(self, alpha=0.0, tol=1e-5, max_iter=100):\n",
    "        self.alpha = alpha\n",
    "        self.tol = tol\n",
    "        self.max_iter = max_iter\n",
    "    \n",
    "    def fit(self, X, y):\n",
    "        \"\"\"\n",
    "        Parameters\n",
    "        ----------\n",
    "        X : array\n",
    "            Independent variables, has shape (n_timepoints x n_neurons)\n",
    "        y : array\n",
    "            Circular dependent variable, has shape (n_timepoints x 1),\n",
    "            all data should lie on the interval [-pi, +pi].\n",
    "        \"\"\"\n",
    "        \n",
    "        # Convert 1d circular variable to 2d representation\n",
    "        u = np.column_stack([np.sin(y), np.cos(y)])\n",
    "\n",
    "        # Randomly initialize weights. Ensure scaling does\n",
    "        W = np.random.randn(X.shape[1], 2)\n",
    "        W /= np.max(np.sum(np.abs(X @ W), axis=1))\n",
    "        \n",
    "        # Cache neuron x neuron gram matrix. This is used below\n",
    "        # in the M-step to solve a linear least squares problem\n",
    "        # in the form inv(XtX) @ XtY. Add regularization term to\n",
    "        # the diagonal.\n",
    "        XtX = X.T @ X\n",
    "        XtX[np.diag_indices_from(XtX)] += self.alpha\n",
    "        XtX = cho_factor(XtX)\n",
    "\n",
    "        # Compute model prediction in 2d space, and projection onto\n",
    "        # each observed u.\n",
    "        XW = (X @ W)\n",
    "        t = np.sum(u * XW, axis=1)\n",
    "        tcdf = normcdf(t)\n",
    "        tpdf = normpdf(t)\n",
    "\n",
    "        self.log_like_hist_ = [\n",
    "            np.log(2 * np.pi) - \n",
    "            0.5 * np.mean(np.sum(XW * XW, axis=1), axis=0) +\n",
    "            np.mean(np.log(1 + t * tcdf / tpdf))\n",
    "        ]\n",
    "\n",
    "        for itr in range(self.max_iter):\n",
    "\n",
    "            # E-step.\n",
    "            m = t + (tcdf / ((tpdf + t * tcdf)))\n",
    "            XtY = X.T @ (m[:, None] * u)\n",
    "\n",
    "            # M-step.\n",
    "            W = cho_solve(XtX, XtY)\n",
    "            \n",
    "            # Recompute model prediction.\n",
    "            XW = X @ W\n",
    "            t = np.sum(u * XW, axis=1)\n",
    "            tcdf = normcdf(t)\n",
    "            tpdf = normpdf(t)\n",
    "\n",
    "            # Store log-likelihood.\n",
    "            self.log_like_hist_.append(\n",
    "                np.log(2 * np.pi) - \n",
    "                0.5 * np.mean(np.sum(XW * XW, axis=1), axis=0) +\n",
    "                np.mean(np.log(1 + t * tcdf / tpdf))\n",
    "            )\n",
    "            \n",
    "            # Check convergence.\n",
    "            if (self.log_like_hist_[-1] - self.log_like_hist_[-2]) < self.tol:\n",
    "                break\n",
    "    \n",
    "        self.weights_ = W\n",
    "    \n",
    "    def predict(self, X):\n",
    "        u_pred = X @ self.weights_\n",
    "        return np.arctan2(u_pred[:, 0], u_pred[:, 1])\n",
    "\n",
    "    def score(self, X, y):\n",
    "        \"\"\"\n",
    "        Returns 1 minus mean angular similarity between y and model prediction.\n",
    "        \n",
    "        score == 1 for perfect prediction\n",
    "        score == 0 in expectation for random prediction\n",
    "        score == -1 if prediction is off by 180 degrees.\n",
    "        \"\"\"\n",
    "        y_pred = self.predict(X)\n",
    "        return np.mean(np.cos(y - y_pred))"
   ]
  },
  {
   "cell_type": "code",
   "execution_count": 50,
   "id": "24f1facb",
   "metadata": {},
   "outputs": [
    {
     "data": {
      "application/vnd.jupyter.widget-view+json": {
       "model_id": "d9a243cf12284c5fa12f87389365de6f",
       "version_major": 2,
       "version_minor": 0
      },
      "text/plain": [
       "  0%|          | 0/6 [00:00<?, ?it/s]"
      ]
     },
     "metadata": {},
     "output_type": "display_data"
    },
    {
     "data": {
      "application/vnd.jupyter.widget-view+json": {
       "model_id": "3fec2b92ebd24a72aaf10720aee65730",
       "version_major": 2,
       "version_minor": 0
      },
      "text/plain": [
       "  0%|          | 0/6 [00:00<?, ?it/s]"
      ]
     },
     "metadata": {},
     "output_type": "display_data"
    },
    {
     "data": {
      "application/vnd.jupyter.widget-view+json": {
       "model_id": "deca2eb9bac14b259af74322adb9956b",
       "version_major": 2,
       "version_minor": 0
      },
      "text/plain": [
       "  0%|          | 0/6 [00:00<?, ?it/s]"
      ]
     },
     "metadata": {},
     "output_type": "display_data"
    },
    {
     "data": {
      "application/vnd.jupyter.widget-view+json": {
       "model_id": "2da3398327b84fa89bd9b34c3e26440f",
       "version_major": 2,
       "version_minor": 0
      },
      "text/plain": [
       "  0%|          | 0/6 [00:00<?, ?it/s]"
      ]
     },
     "metadata": {},
     "output_type": "display_data"
    },
    {
     "data": {
      "application/vnd.jupyter.widget-view+json": {
       "model_id": "b22ea59974b044d48001251dff55832d",
       "version_major": 2,
       "version_minor": 0
      },
      "text/plain": [
       "  0%|          | 0/6 [00:00<?, ?it/s]"
      ]
     },
     "metadata": {},
     "output_type": "display_data"
    },
    {
     "data": {
      "application/vnd.jupyter.widget-view+json": {
       "model_id": "f6d1615352f64c6db774d7f38b2ec2c6",
       "version_major": 2,
       "version_minor": 0
      },
      "text/plain": [
       "  0%|          | 0/6 [00:00<?, ?it/s]"
      ]
     },
     "metadata": {},
     "output_type": "display_data"
    },
    {
     "data": {
      "application/vnd.jupyter.widget-view+json": {
       "model_id": "3b7019b3d66e4f46addd6ce7323e4fa0",
       "version_major": 2,
       "version_minor": 0
      },
      "text/plain": [
       "  0%|          | 0/6 [00:00<?, ?it/s]"
      ]
     },
     "metadata": {},
     "output_type": "display_data"
    },
    {
     "data": {
      "application/vnd.jupyter.widget-view+json": {
       "model_id": "837472ea35b24aa18520bf9a1ff4014b",
       "version_major": 2,
       "version_minor": 0
      },
      "text/plain": [
       "  0%|          | 0/5 [00:00<?, ?it/s]"
      ]
     },
     "metadata": {},
     "output_type": "display_data"
    },
    {
     "data": {
      "application/vnd.jupyter.widget-view+json": {
       "model_id": "f2eced83632d48b0aeab0a49e9d597b6",
       "version_major": 2,
       "version_minor": 0
      },
      "text/plain": [
       "  0%|          | 0/3 [00:00<?, ?it/s]"
      ]
     },
     "metadata": {},
     "output_type": "display_data"
    },
    {
     "data": {
      "application/vnd.jupyter.widget-view+json": {
       "model_id": "008efedcabd0441ba5b300e36222a786",
       "version_major": 2,
       "version_minor": 0
      },
      "text/plain": [
       "  0%|          | 0/6 [00:00<?, ?it/s]"
      ]
     },
     "metadata": {},
     "output_type": "display_data"
    },
    {
     "data": {
      "application/vnd.jupyter.widget-view+json": {
       "model_id": "489bf0335a6c433d8cff7aefd01689d2",
       "version_major": 2,
       "version_minor": 0
      },
      "text/plain": [
       "  0%|          | 0/6 [00:00<?, ?it/s]"
      ]
     },
     "metadata": {},
     "output_type": "display_data"
    },
    {
     "data": {
      "application/vnd.jupyter.widget-view+json": {
       "model_id": "78119c33803942daa5522a2bd8b938a7",
       "version_major": 2,
       "version_minor": 0
      },
      "text/plain": [
       "  0%|          | 0/6 [00:00<?, ?it/s]"
      ]
     },
     "metadata": {},
     "output_type": "display_data"
    },
    {
     "data": {
      "application/vnd.jupyter.widget-view+json": {
       "model_id": "407e1460b6594fad8ef9ad8cf654d37d",
       "version_major": 2,
       "version_minor": 0
      },
      "text/plain": [
       "  0%|          | 0/5 [00:00<?, ?it/s]"
      ]
     },
     "metadata": {},
     "output_type": "display_data"
    },
    {
     "data": {
      "application/vnd.jupyter.widget-view+json": {
       "model_id": "19fd016354ba4dd0a8a22b0bdc7dcf17",
       "version_major": 2,
       "version_minor": 0
      },
      "text/plain": [
       "  0%|          | 0/5 [00:00<?, ?it/s]"
      ]
     },
     "metadata": {},
     "output_type": "display_data"
    },
    {
     "data": {
      "application/vnd.jupyter.widget-view+json": {
       "model_id": "8c6c88838cc6434a9ee9799eb15e29d6",
       "version_major": 2,
       "version_minor": 0
      },
      "text/plain": [
       "  0%|          | 0/6 [00:00<?, ?it/s]"
      ]
     },
     "metadata": {},
     "output_type": "display_data"
    },
    {
     "data": {
      "application/vnd.jupyter.widget-view+json": {
       "model_id": "2a0ba9cb0ce54db297d8b2ddd8bc1113",
       "version_major": 2,
       "version_minor": 0
      },
      "text/plain": [
       "  0%|          | 0/2 [00:00<?, ?it/s]"
      ]
     },
     "metadata": {},
     "output_type": "display_data"
    }
   ],
   "source": [
    "''' Get X (instantaneous FR) and y (circular position) for only VR ON & regular gain periods '''\n",
    "\n",
    "dt = 0.02\n",
    "track_len = 400\n",
    "\n",
    "for m, session in zip(mice, sessions):\n",
    "    for s in tdqm(session):\n",
    "        d = data[m][s]\n",
    "\n",
    "        #load data\n",
    "        rawdata_file = 'RAW_' + m + '_' + s + '.npy'\n",
    "        spikes_file = 'SPIKES_' + m + '_' + s +'.npy'\n",
    "        behavior_file = 'BEHAVIOR_' + m + '_' + s + '.npy'\n",
    "        \n",
    "        raw = np.load(load_folder + rawdata_file, allow_pickle=True)\n",
    "        Y = np.load(load_folder + spikes_file, allow_pickle=False) #pre-filtered for speeds >2cm/s, position-errorcorrected spikes, 20 ms timebins\n",
    "        behaviorfil = np.load(load_folder + behavior_file, allow_pickle=False)\n",
    "        \n",
    "        start = d['start']\n",
    "        end = d['end']\n",
    "        \n",
    "        # convert spikes to instantaneous FR and smooth\n",
    "        X = Y[start:end,:] / dt # convert spike count to FR\n",
    "        X = gaussian_filter1d(X, SMOOTHNESS, axis=0)\n",
    "        \n",
    "        # format position s.t. 0 = -pi = +pi = 400\n",
    "        y_raw = behaviorfil[:, 0][start:end]\n",
    "        y = (y_raw / np.max(y_raw)) * 2 * np.pi - np.pi\n",
    "        \n",
    "        d['X'] = X\n",
    "        d['y'] = y"
   ]
  },
  {
   "cell_type": "code",
   "execution_count": 53,
   "id": "8b5005eb",
   "metadata": {},
   "outputs": [],
   "source": [
    "''' Downsample to match speed and num observations '''\n",
    "for m, session in zip(mice, sessions):\n",
    "    for s in session:\n",
    "        d = data[m][s]\n",
    "        \n",
    "        #load data\n",
    "        rawdata_file = 'RAW_' + m + '_' + s + '.npy'\n",
    "        spikes_file = 'SPIKES_' + m + '_' + s +'.npy'\n",
    "        behavior_file = 'BEHAVIOR_' + m + '_' + s + '.npy'\n",
    "        \n",
    "        raw = np.load(load_folder + rawdata_file, allow_pickle=True)\n",
    "        Y = np.load(load_folder + spikes_file, allow_pickle=False) #pre-filtered for speeds >2cm/s, position-errorcorrected spikes, 20 ms timebins\n",
    "        behaviorfil = np.load(load_folder + behavior_file, allow_pickle=False)\n",
    "        \n",
    "        cell_IDs = raw.item().get('cellsfil')\n",
    "        spatialcell99 = d['spatialcell99'].astype(bool)\n",
    "        spatialcells = cell_IDs[spatialcell99]\n",
    "        \n",
    "        start = d['start']\n",
    "        end = d['end']\n",
    "        \n",
    "        speed = behaviorfil[:, 1][start:end]\n",
    "        y = d['y']\n",
    "        \n",
    "        if d['2map'] == 1: \n",
    "            map0_idx = d['idx'][0, :]\n",
    "            map1_idx = d['idx'][1, :]\n",
    "\n",
    "            # bin speed into 10cm/s bins\n",
    "            edges = np.arange(10, np.max(speed), 10)\n",
    "            speed_idx = np.digitize(speed, edges)\n",
    "\n",
    "            # get indices for each map's observations\n",
    "            all_obs = np.arange(y.shape[0])\n",
    "            obs_0 = np.arange(y.shape[0])[map0_idx]\n",
    "            obs_1 = np.arange(y.shape[0])[map1_idx]\n",
    "\n",
    "            # array to hold indices for downsampling\n",
    "            ds_all = np.asarray([]) # array to hold indices for downsampling all trials\n",
    "            ds_0 = np.asarray([]) # array to hold indices for downsampling map 0\n",
    "            ds_1 = np.asarray([]) # array to hold indices for downsampling map 1\n",
    "\n",
    "            # match occupancy of each bin for each map\n",
    "            bins, ct = np.unique(speed_idx, return_counts=True)\n",
    "            for b in bins:\n",
    "                occupancy_0 = np.sum(map0_idx[speed_idx == b])\n",
    "                occupancy_1 = np.sum(map1_idx[speed_idx == b])\n",
    "                occupancy_all = np.sum(ct[b])    \n",
    "                idx_0 = np.where(map0_idx & (speed_idx == b))[0]\n",
    "                idx_1 = np.where(map1_idx & (speed_idx == b))[0]\n",
    "\n",
    "                if occupancy_0 == occupancy_1:\n",
    "                    ds_all = np.append(ds_all, np.random.choice(all_obs[speed_idx == b], occupancy_0, replace=False))\n",
    "                elif occupancy_0 > occupancy_1:\n",
    "                    # need to downsample map 0 for this speed bin\n",
    "                    n_timepts = occupancy_1        \n",
    "                    ds_all = np.append(ds_all, np.random.choice(all_obs[speed_idx == b], n_timepts, replace=False))\n",
    "                    ds_0 = np.append(ds_0, np.random.choice(idx_0, n_timepts, replace=False))\n",
    "                    ds_1 = np.append(ds_1, idx_1)\n",
    "                else:\n",
    "                    # need to downsample map 1 for this speed bin\n",
    "                    n_timepts = occupancy_0\n",
    "                    ds_all = np.append(ds_all, np.random.choice(all_obs[speed_idx == b], n_timepts, replace=False))\n",
    "                    ds_0 = np.append(ds_0, idx_0)\n",
    "                    ds_1 = np.append(ds_1, np.random.choice(idx_1, n_timepts, replace=False)) \n",
    "            ds_all = ds_all.astype(int)\n",
    "            ds_0 = ds_0.astype(int)\n",
    "            ds_1 = ds_1.astype(int)\n",
    "\n",
    "            d['ds_idx'] = np.row_stack((ds_0, ds_1, ds_all))"
   ]
  },
  {
   "cell_type": "code",
   "execution_count": 54,
   "id": "b9e3bbdf",
   "metadata": {},
   "outputs": [
    {
     "data": {
      "application/vnd.jupyter.widget-view+json": {
       "model_id": "e7801667b99d47bab4709ed6a760f277",
       "version_major": 2,
       "version_minor": 0
      },
      "text/plain": [
       "  0%|          | 0/6 [00:00<?, ?it/s]"
      ]
     },
     "metadata": {},
     "output_type": "display_data"
    },
    {
     "data": {
      "application/vnd.jupyter.widget-view+json": {
       "model_id": "ce74547a60634cbbbbd85440bd2c6dc9",
       "version_major": 2,
       "version_minor": 0
      },
      "text/plain": [
       "  0%|          | 0/6 [00:00<?, ?it/s]"
      ]
     },
     "metadata": {},
     "output_type": "display_data"
    },
    {
     "data": {
      "application/vnd.jupyter.widget-view+json": {
       "model_id": "8218ead0e5714533b7e66d0d8269c08a",
       "version_major": 2,
       "version_minor": 0
      },
      "text/plain": [
       "  0%|          | 0/6 [00:00<?, ?it/s]"
      ]
     },
     "metadata": {},
     "output_type": "display_data"
    },
    {
     "data": {
      "application/vnd.jupyter.widget-view+json": {
       "model_id": "00d5a17d6ceb4b3ba8c73de95d444cf7",
       "version_major": 2,
       "version_minor": 0
      },
      "text/plain": [
       "  0%|          | 0/6 [00:00<?, ?it/s]"
      ]
     },
     "metadata": {},
     "output_type": "display_data"
    },
    {
     "data": {
      "application/vnd.jupyter.widget-view+json": {
       "model_id": "5bbd44fd1b5840038eb1a75957eb09a7",
       "version_major": 2,
       "version_minor": 0
      },
      "text/plain": [
       "  0%|          | 0/6 [00:00<?, ?it/s]"
      ]
     },
     "metadata": {},
     "output_type": "display_data"
    },
    {
     "data": {
      "application/vnd.jupyter.widget-view+json": {
       "model_id": "056b4e6d1a6b4dda9562106a5dc8cba7",
       "version_major": 2,
       "version_minor": 0
      },
      "text/plain": [
       "  0%|          | 0/6 [00:00<?, ?it/s]"
      ]
     },
     "metadata": {},
     "output_type": "display_data"
    },
    {
     "data": {
      "application/vnd.jupyter.widget-view+json": {
       "model_id": "ab87ef128e8f4f368b88ac169726c9bf",
       "version_major": 2,
       "version_minor": 0
      },
      "text/plain": [
       "  0%|          | 0/6 [00:00<?, ?it/s]"
      ]
     },
     "metadata": {},
     "output_type": "display_data"
    },
    {
     "data": {
      "application/vnd.jupyter.widget-view+json": {
       "model_id": "6a879fd73231415a975b6bb1bbd793bb",
       "version_major": 2,
       "version_minor": 0
      },
      "text/plain": [
       "  0%|          | 0/5 [00:00<?, ?it/s]"
      ]
     },
     "metadata": {},
     "output_type": "display_data"
    },
    {
     "data": {
      "application/vnd.jupyter.widget-view+json": {
       "model_id": "2544f19a8a974ab18f8f030e8a258b75",
       "version_major": 2,
       "version_minor": 0
      },
      "text/plain": [
       "  0%|          | 0/3 [00:00<?, ?it/s]"
      ]
     },
     "metadata": {},
     "output_type": "display_data"
    },
    {
     "data": {
      "application/vnd.jupyter.widget-view+json": {
       "model_id": "4bfb170693ef461e82a404068a192f25",
       "version_major": 2,
       "version_minor": 0
      },
      "text/plain": [
       "  0%|          | 0/6 [00:00<?, ?it/s]"
      ]
     },
     "metadata": {},
     "output_type": "display_data"
    },
    {
     "data": {
      "application/vnd.jupyter.widget-view+json": {
       "model_id": "05481d2011ef400997d706cc4e08e115",
       "version_major": 2,
       "version_minor": 0
      },
      "text/plain": [
       "  0%|          | 0/6 [00:00<?, ?it/s]"
      ]
     },
     "metadata": {},
     "output_type": "display_data"
    },
    {
     "data": {
      "application/vnd.jupyter.widget-view+json": {
       "model_id": "0acad440abbe46ed985ae95eb8dbf840",
       "version_major": 2,
       "version_minor": 0
      },
      "text/plain": [
       "  0%|          | 0/6 [00:00<?, ?it/s]"
      ]
     },
     "metadata": {},
     "output_type": "display_data"
    },
    {
     "data": {
      "application/vnd.jupyter.widget-view+json": {
       "model_id": "3eccac797ba846b480d7810cd2c52e9f",
       "version_major": 2,
       "version_minor": 0
      },
      "text/plain": [
       "  0%|          | 0/5 [00:00<?, ?it/s]"
      ]
     },
     "metadata": {},
     "output_type": "display_data"
    },
    {
     "data": {
      "application/vnd.jupyter.widget-view+json": {
       "model_id": "1c814bcf5a8d462aa9ec461d4b657e9a",
       "version_major": 2,
       "version_minor": 0
      },
      "text/plain": [
       "  0%|          | 0/5 [00:00<?, ?it/s]"
      ]
     },
     "metadata": {},
     "output_type": "display_data"
    },
    {
     "data": {
      "application/vnd.jupyter.widget-view+json": {
       "model_id": "5ba279b3f82f4d0b9df858bbbb8bc9af",
       "version_major": 2,
       "version_minor": 0
      },
      "text/plain": [
       "  0%|          | 0/6 [00:00<?, ?it/s]"
      ]
     },
     "metadata": {},
     "output_type": "display_data"
    },
    {
     "data": {
      "application/vnd.jupyter.widget-view+json": {
       "model_id": "e55112ef79b34345b64adeaa23ae968c",
       "version_major": 2,
       "version_minor": 0
      },
      "text/plain": [
       "  0%|          | 0/2 [00:00<?, ?it/s]"
      ]
     },
     "metadata": {},
     "output_type": "display_data"
    }
   ],
   "source": [
    "''' Get shuffled spikes'''\n",
    "\n",
    "for m, session in zip(mice, sessions):\n",
    "    for s in tdqm(session):\n",
    "        d = data[m][s]\n",
    "        \n",
    "        #get some data & cell IDs\n",
    "        rawdata_file = 'RAW_' + m + '_' + s + '.npy'\n",
    "        behavior_file = 'BEHAVIOR_' + m + '_' + s + '.npy'\n",
    "        raw = np.load(load_folder + rawdata_file, allow_pickle=True)\n",
    "        behaviorfil = np.load(load_folder + behavior_file, allow_pickle=False)\n",
    "        cell_IDs = raw.item().get('cellsfil')\n",
    "        spatialcell99 = d['spatialcell99'].astype(bool)\n",
    "        spatialcells = cell_IDs[spatialcell99]\n",
    "        \n",
    "        ##Generate shuffled spike train for spatial cells only\n",
    "        #get stuff you will to shuffle & re-filter spike times\n",
    "        sp = raw.item().get('sp')\n",
    "        spiket = sp['st'].copy()\n",
    "        cluster_id = sp['clu'].copy()\n",
    "        rawposx = raw.item().get('posx')\n",
    "        rawpost = raw.item().get('post')\n",
    "        rawspeed = raw.item().get('speed')\n",
    "        \n",
    "        dt = np.unique(np.round(np.diff(rawpost),4))\n",
    "        if len(dt) > 1: # discard duplicate frame entries if they occurred\n",
    "            dt = dt[dt != 0]\n",
    "            dt_to_trash = np.where(np.diff(rawpost) == 0)[0]\n",
    "        else:\n",
    "            dt_to_trash = [] \n",
    "\n",
    "        # filter spikes & position frames by speed < 2cm/s or out of track limits \n",
    "        speed_to_trash = get.find(rawspeed < 2)\n",
    "        pos_to_trash = get.find((rawposx < 0) | (rawposx > 400))\n",
    "        trash_idx = np.unique(np.concatenate((dt_to_trash, speed_to_trash, pos_to_trash)))\n",
    "        keep_idx = np.setdiff1d(np.arange(len(rawspeed)), trash_idx)\n",
    "        \n",
    "        B = np.zeros((len(rawspeed), len(cell_IDs))) # reset empty shuffled FR matrix   \n",
    "        for i, c in enumerate(cell_IDs):\n",
    "            #get actual spike times for each cell\n",
    "            st = spiket[cluster_id == c]\n",
    "            st = st[(st >= min(rawpost)) & (st <= max(rawpost))]\n",
    "\n",
    "            #get shuffle times\n",
    "            st_shuf = st - min(rawpost)\n",
    "            total_time = max(rawpost) - min(rawpost)\n",
    "            add = np.random.uniform(0.02,total_time,1)\n",
    "            st_shuf = (st_shuf + add) % total_time\n",
    "            st_shuf = st_shuf + min(rawpost)\n",
    "\n",
    "            #get unfiltered spike train\n",
    "            spike_ct = np.zeros_like(rawpost)\n",
    "            spike_idx = np.digitize(st_shuf, rawpost) #obs corresponding to where each shuffled spike occurs\n",
    "\n",
    "            idx, cts = np.unique(spike_idx, return_counts = True)\n",
    "            spike_ct[idx] = cts\n",
    "            B[:,i] = spike_ct\n",
    "\n",
    "            #check for & interpolate any missing values\n",
    "            if sum(np.isnan(B[:,i])) > 0:\n",
    "                B[:,i] = get.nan_interp(B[:,i])  \n",
    "\n",
    "        #apply filter spike train by speed, dt, & posx errors\n",
    "        B = B[keep_idx,:]\n",
    "        shuff_X = B / dt # convert spike count to FR\n",
    "        shuff_X = gaussian_filter1d(shuff_X, SMOOTHNESS, axis=0)\n",
    "        d['shuff_X'] = shuff_X"
   ]
  },
  {
   "cell_type": "code",
   "execution_count": 55,
   "id": "84b679a9",
   "metadata": {},
   "outputs": [],
   "source": [
    "'''Define Function to Split Train & Test Blocks'''\n",
    "\n",
    "def train_vs_test_blocks(X, y, train_data_idx, test_data_idx, n_repeats=10, train_pct=0.9):\n",
    "    test_scores = []    \n",
    "    test_folds = np.array_split(test_data_idx, n_repeats)\n",
    "\n",
    "    for i in range(n_repeats):        \n",
    "        # Get train and test indices\n",
    "        test_idx = test_folds[i]\n",
    "        train_idx = np.random.choice(np.setdiff1d(train_data_idx, test_idx),\n",
    "                                     replace=False, size=int(train_data_idx.size * train_pct))\n",
    "        # Train model\n",
    "        model.fit(X[train_idx], y[train_idx])\n",
    "\n",
    "        # Compute test error\n",
    "        test_scores.append(model.score(X[test_idx], y[test_idx]))\n",
    "        \n",
    "    return np.asarray(test_scores)"
   ]
  },
  {
   "cell_type": "code",
   "execution_count": 56,
   "id": "6a1949c4",
   "metadata": {},
   "outputs": [
    {
     "data": {
      "application/vnd.jupyter.widget-view+json": {
       "model_id": "8e1be13013ae497dadd8adbb60f2d718",
       "version_major": 2,
       "version_minor": 0
      },
      "text/plain": [
       "  0%|          | 0/6 [00:00<?, ?it/s]"
      ]
     },
     "metadata": {},
     "output_type": "display_data"
    },
    {
     "data": {
      "application/vnd.jupyter.widget-view+json": {
       "model_id": "d28af8d73a6842f3a186af43e7f55df5",
       "version_major": 2,
       "version_minor": 0
      },
      "text/plain": [
       "  0%|          | 0/6 [00:00<?, ?it/s]"
      ]
     },
     "metadata": {},
     "output_type": "display_data"
    },
    {
     "data": {
      "application/vnd.jupyter.widget-view+json": {
       "model_id": "c6de2087e37f4704b366cf05946f0bcb",
       "version_major": 2,
       "version_minor": 0
      },
      "text/plain": [
       "  0%|          | 0/6 [00:00<?, ?it/s]"
      ]
     },
     "metadata": {},
     "output_type": "display_data"
    },
    {
     "data": {
      "application/vnd.jupyter.widget-view+json": {
       "model_id": "3943b361ac0b4131ba91cc29b5b21918",
       "version_major": 2,
       "version_minor": 0
      },
      "text/plain": [
       "  0%|          | 0/6 [00:00<?, ?it/s]"
      ]
     },
     "metadata": {},
     "output_type": "display_data"
    },
    {
     "data": {
      "application/vnd.jupyter.widget-view+json": {
       "model_id": "47208fe8119b47718ac0010f3603c4bf",
       "version_major": 2,
       "version_minor": 0
      },
      "text/plain": [
       "  0%|          | 0/6 [00:00<?, ?it/s]"
      ]
     },
     "metadata": {},
     "output_type": "display_data"
    },
    {
     "data": {
      "application/vnd.jupyter.widget-view+json": {
       "model_id": "e905bef5d3d540b8bdb6536049b2fff8",
       "version_major": 2,
       "version_minor": 0
      },
      "text/plain": [
       "  0%|          | 0/6 [00:00<?, ?it/s]"
      ]
     },
     "metadata": {},
     "output_type": "display_data"
    },
    {
     "data": {
      "application/vnd.jupyter.widget-view+json": {
       "model_id": "b77c2cdcb37c44969b1fc5060b2e588c",
       "version_major": 2,
       "version_minor": 0
      },
      "text/plain": [
       "  0%|          | 0/6 [00:00<?, ?it/s]"
      ]
     },
     "metadata": {},
     "output_type": "display_data"
    },
    {
     "data": {
      "application/vnd.jupyter.widget-view+json": {
       "model_id": "b51d1114f6ca4ecaa9173d0ace5efa62",
       "version_major": 2,
       "version_minor": 0
      },
      "text/plain": [
       "  0%|          | 0/5 [00:00<?, ?it/s]"
      ]
     },
     "metadata": {},
     "output_type": "display_data"
    },
    {
     "data": {
      "application/vnd.jupyter.widget-view+json": {
       "model_id": "961f14c6ffd24caba83d044419db897a",
       "version_major": 2,
       "version_minor": 0
      },
      "text/plain": [
       "  0%|          | 0/3 [00:00<?, ?it/s]"
      ]
     },
     "metadata": {},
     "output_type": "display_data"
    },
    {
     "data": {
      "application/vnd.jupyter.widget-view+json": {
       "model_id": "c3db6826e72a45218584ff46f56d2f53",
       "version_major": 2,
       "version_minor": 0
      },
      "text/plain": [
       "  0%|          | 0/6 [00:00<?, ?it/s]"
      ]
     },
     "metadata": {},
     "output_type": "display_data"
    },
    {
     "data": {
      "application/vnd.jupyter.widget-view+json": {
       "model_id": "248a461edad244e393a13766115d76ea",
       "version_major": 2,
       "version_minor": 0
      },
      "text/plain": [
       "  0%|          | 0/6 [00:00<?, ?it/s]"
      ]
     },
     "metadata": {},
     "output_type": "display_data"
    },
    {
     "data": {
      "application/vnd.jupyter.widget-view+json": {
       "model_id": "18ca2da7c3084cc299d0f06cea887743",
       "version_major": 2,
       "version_minor": 0
      },
      "text/plain": [
       "  0%|          | 0/6 [00:00<?, ?it/s]"
      ]
     },
     "metadata": {},
     "output_type": "display_data"
    },
    {
     "data": {
      "application/vnd.jupyter.widget-view+json": {
       "model_id": "3f89920f4a4a41488afc6614b3fed7a0",
       "version_major": 2,
       "version_minor": 0
      },
      "text/plain": [
       "  0%|          | 0/5 [00:00<?, ?it/s]"
      ]
     },
     "metadata": {},
     "output_type": "display_data"
    },
    {
     "data": {
      "application/vnd.jupyter.widget-view+json": {
       "model_id": "3e45294b81294135a9d90e435b3d0489",
       "version_major": 2,
       "version_minor": 0
      },
      "text/plain": [
       "  0%|          | 0/5 [00:00<?, ?it/s]"
      ]
     },
     "metadata": {},
     "output_type": "display_data"
    },
    {
     "data": {
      "application/vnd.jupyter.widget-view+json": {
       "model_id": "bfb33571efc44803b799b0dc790bf341",
       "version_major": 2,
       "version_minor": 0
      },
      "text/plain": [
       "  0%|          | 0/6 [00:00<?, ?it/s]"
      ]
     },
     "metadata": {},
     "output_type": "display_data"
    },
    {
     "data": {
      "application/vnd.jupyter.widget-view+json": {
       "model_id": "83d76da9eb8447c698ac7559acac6e32",
       "version_major": 2,
       "version_minor": 0
      },
      "text/plain": [
       "  0%|          | 0/2 [00:00<?, ?it/s]"
      ]
     },
     "metadata": {},
     "output_type": "display_data"
    }
   ],
   "source": [
    "''' Fit model on the speed-matched spatial cell activity in each map or random selections from both maps from each session '''\n",
    "\n",
    "model = CircularRegression(alpha=REGULARIZATION)\n",
    "\n",
    "# cross-validate the model\n",
    "for m, session in zip(mice, sessions):\n",
    "    for s in tdqm(session):\n",
    "        d = data[m][s]\n",
    "        \n",
    "        #load in data\n",
    "        rawdata_file = 'RAW_' + m + '_' + s + '.npy'\n",
    "        raw = np.load(load_folder + rawdata_file, allow_pickle=True)\n",
    "        cell_IDs = raw.item().get('cellsfil')\n",
    "        spatialcell99 = d['spatialcell99'].astype(bool)\n",
    "        spatialcells = cell_IDs[spatialcell99]\n",
    "        \n",
    "        if d['2map'] == 1: \n",
    "            #restrict position decoding to spatial cell activity\n",
    "            X = d['X']\n",
    "            sdx = []\n",
    "            for i, c in enumerate(spatialcells):\n",
    "                sd = (np.where(cell_IDs == c)[0][0]).astype(int)\n",
    "                sdx.append(sd)\n",
    "            X = X[:,sdx]\n",
    "\n",
    "            shuff_X = d['shuff_X']\n",
    "            shuff_X = shuff_X[:,sdx]\n",
    "            y = d['y']\n",
    "\n",
    "            ds_0 = d['ds_idx'][0, :]\n",
    "            ds_1 = d['ds_idx'][1, :]\n",
    "            ds_all = d['ds_idx'][-1, :]\n",
    "\n",
    "            # get CV scores for each train and test combo - save these!\n",
    "            train0_test0_scores = train_vs_test_blocks(X, y, ds_0, ds_0)\n",
    "            train0_test1_scores = train_vs_test_blocks(X, y, ds_0, ds_1)\n",
    "            train1_test1_scores = train_vs_test_blocks(X, y, ds_1, ds_1)\n",
    "            train1_test0_scores = train_vs_test_blocks(X, y, ds_1, ds_0)\n",
    "            random_scores = train_vs_test_blocks(X, y, ds_all, ds_all)\n",
    "            spatialscores = np.row_stack((train0_test0_scores, train0_test1_scores, \n",
    "                                        train1_test1_scores, train1_test0_scores, \n",
    "                                        random_scores))\n",
    "\n",
    "            # get CV scores for each train and test combo - save these!\n",
    "            train0_test0_scores = train_vs_test_blocks(shuff_X, y, ds_0, ds_0)\n",
    "            train0_test1_scores = train_vs_test_blocks(shuff_X, y, ds_0, ds_1)\n",
    "            train1_test1_scores = train_vs_test_blocks(shuff_X, y, ds_1, ds_1)\n",
    "            train1_test0_scores = train_vs_test_blocks(shuff_X, y, ds_1, ds_0)\n",
    "            random_scores = train_vs_test_blocks(shuff_X, y, ds_all, ds_all)\n",
    "            spatialshuffscores = np.row_stack((train0_test0_scores, train0_test1_scores, \n",
    "                                        train1_test1_scores, train1_test0_scores, \n",
    "                                        random_scores))\n",
    "            \n",
    "            #save scores for all eligible sessions\n",
    "            spatialscores_file = 'spatialscores_' + m + '_' + s + '.npy'\n",
    "            spatialshuffscores_file = 'spatialshuffscores_' + m + '_' + s + '.npy'\n",
    "            \n",
    "            np.save(save_folder + spatialscores_file, spatialscores)\n",
    "            np.save(save_folder + spatialshuffscores_file, spatialshuffscores)"
   ]
  },
  {
   "cell_type": "code",
   "execution_count": 57,
   "id": "d2f71db7",
   "metadata": {
    "scrolled": true
   },
   "outputs": [
    {
     "data": {
      "application/vnd.jupyter.widget-view+json": {
       "model_id": "1c483045e6e3422485115be1b511026f",
       "version_major": 2,
       "version_minor": 0
      },
      "text/plain": [
       "  0%|          | 0/6 [00:00<?, ?it/s]"
      ]
     },
     "metadata": {},
     "output_type": "display_data"
    },
    {
     "data": {
      "application/vnd.jupyter.widget-view+json": {
       "model_id": "10884589a2954279b08aa6fb4de726fd",
       "version_major": 2,
       "version_minor": 0
      },
      "text/plain": [
       "  0%|          | 0/6 [00:00<?, ?it/s]"
      ]
     },
     "metadata": {},
     "output_type": "display_data"
    },
    {
     "data": {
      "application/vnd.jupyter.widget-view+json": {
       "model_id": "656183d2ad5547eaa3b722979e2b0ba3",
       "version_major": 2,
       "version_minor": 0
      },
      "text/plain": [
       "  0%|          | 0/6 [00:00<?, ?it/s]"
      ]
     },
     "metadata": {},
     "output_type": "display_data"
    },
    {
     "data": {
      "application/vnd.jupyter.widget-view+json": {
       "model_id": "6c94e29dc95e4251945c35c03d55ef74",
       "version_major": 2,
       "version_minor": 0
      },
      "text/plain": [
       "  0%|          | 0/6 [00:00<?, ?it/s]"
      ]
     },
     "metadata": {},
     "output_type": "display_data"
    },
    {
     "data": {
      "application/vnd.jupyter.widget-view+json": {
       "model_id": "64a39cdccc6d40b69d10944d3c4b072d",
       "version_major": 2,
       "version_minor": 0
      },
      "text/plain": [
       "  0%|          | 0/6 [00:00<?, ?it/s]"
      ]
     },
     "metadata": {},
     "output_type": "display_data"
    },
    {
     "data": {
      "application/vnd.jupyter.widget-view+json": {
       "model_id": "39c0bb215ce04138b99e26582de236e9",
       "version_major": 2,
       "version_minor": 0
      },
      "text/plain": [
       "  0%|          | 0/6 [00:00<?, ?it/s]"
      ]
     },
     "metadata": {},
     "output_type": "display_data"
    },
    {
     "data": {
      "application/vnd.jupyter.widget-view+json": {
       "model_id": "eecfc4bb3b984e52a0aaf73e532537ed",
       "version_major": 2,
       "version_minor": 0
      },
      "text/plain": [
       "  0%|          | 0/6 [00:00<?, ?it/s]"
      ]
     },
     "metadata": {},
     "output_type": "display_data"
    },
    {
     "data": {
      "application/vnd.jupyter.widget-view+json": {
       "model_id": "7d2e2b6729c349efb7820d40314f5eb6",
       "version_major": 2,
       "version_minor": 0
      },
      "text/plain": [
       "  0%|          | 0/5 [00:00<?, ?it/s]"
      ]
     },
     "metadata": {},
     "output_type": "display_data"
    },
    {
     "data": {
      "application/vnd.jupyter.widget-view+json": {
       "model_id": "96f12962844d4b89a93b251568fc8d31",
       "version_major": 2,
       "version_minor": 0
      },
      "text/plain": [
       "  0%|          | 0/3 [00:00<?, ?it/s]"
      ]
     },
     "metadata": {},
     "output_type": "display_data"
    },
    {
     "data": {
      "application/vnd.jupyter.widget-view+json": {
       "model_id": "52c1bc6b667748fcb4a77c86a34cbefc",
       "version_major": 2,
       "version_minor": 0
      },
      "text/plain": [
       "  0%|          | 0/6 [00:00<?, ?it/s]"
      ]
     },
     "metadata": {},
     "output_type": "display_data"
    },
    {
     "data": {
      "application/vnd.jupyter.widget-view+json": {
       "model_id": "fc3e08470e78408195dc27bcf232a50a",
       "version_major": 2,
       "version_minor": 0
      },
      "text/plain": [
       "  0%|          | 0/6 [00:00<?, ?it/s]"
      ]
     },
     "metadata": {},
     "output_type": "display_data"
    },
    {
     "data": {
      "application/vnd.jupyter.widget-view+json": {
       "model_id": "7a2733ef9681477d95b73424ef46ac99",
       "version_major": 2,
       "version_minor": 0
      },
      "text/plain": [
       "  0%|          | 0/6 [00:00<?, ?it/s]"
      ]
     },
     "metadata": {},
     "output_type": "display_data"
    },
    {
     "data": {
      "application/vnd.jupyter.widget-view+json": {
       "model_id": "27a0ba1baea54ed48dc36f8361c34a1f",
       "version_major": 2,
       "version_minor": 0
      },
      "text/plain": [
       "  0%|          | 0/5 [00:00<?, ?it/s]"
      ]
     },
     "metadata": {},
     "output_type": "display_data"
    },
    {
     "data": {
      "application/vnd.jupyter.widget-view+json": {
       "model_id": "c1af2e6886a545c9ad6d922b8a0c66da",
       "version_major": 2,
       "version_minor": 0
      },
      "text/plain": [
       "  0%|          | 0/5 [00:00<?, ?it/s]"
      ]
     },
     "metadata": {},
     "output_type": "display_data"
    },
    {
     "data": {
      "application/vnd.jupyter.widget-view+json": {
       "model_id": "4011ea2fcefd463f9f4542a1f81d1462",
       "version_major": 2,
       "version_minor": 0
      },
      "text/plain": [
       "  0%|          | 0/6 [00:00<?, ?it/s]"
      ]
     },
     "metadata": {},
     "output_type": "display_data"
    },
    {
     "data": {
      "application/vnd.jupyter.widget-view+json": {
       "model_id": "99fb7d7d891a454ebccbbe2ec6e7b521",
       "version_major": 2,
       "version_minor": 0
      },
      "text/plain": [
       "  0%|          | 0/2 [00:00<?, ?it/s]"
      ]
     },
     "metadata": {},
     "output_type": "display_data"
    }
   ],
   "source": [
    "''' Load results of this analysis only for k = 2 cells '''\n",
    "\n",
    "spatialscore = []\n",
    "spatialshuffscore = []\n",
    "morethan10spatial = []\n",
    "\n",
    "for m, session in zip(mice, sessions):\n",
    "    for s in tdqm(session):\n",
    "        d = data[m][s]\n",
    "        \n",
    "        spatialscores_file = 'spatialscores_' + m + '_' + s + '.npy'\n",
    "        spatialshuffscores_file = 'spatialshuffscores_' + m + '_' + s + '.npy'\n",
    "\n",
    "        if d['2map'] == 1:\n",
    "\n",
    "            spatialscores  = np.load(save_folder + spatialscores_file)\n",
    "            d['spatialscores'] = spatialscores\n",
    "\n",
    "            spatialshuffscores = np.load(save_folder + spatialshuffscores_file)\n",
    "            d['spatialshuffscores'] = spatialshuffscores\n",
    "            \n",
    "            spatialscores = d['spatialscores']\n",
    "            spatialshuffscores = d['spatialshuffscores']\n",
    "\n",
    "            morethan10spatial = np.append(morethan10spatial, True)\n",
    "            spatialscore = np.append(spatialscore, np.mean(spatialscores, axis = 1)[-1])\n",
    "            spatialshuffscore = np.append(spatialshuffscore, np.mean(spatialshuffscores, axis = 1)[-1])\n",
    "            \n",
    "        else:\n",
    "            \n",
    "            morethan10spatial = np.append(morethan10spatial, False)\n",
    "            spatialscore = np.append(spatialscore, np.nan)\n",
    "            spatialshuffscore = np.append(spatialshuffscore, np.nan)"
   ]
  },
  {
   "cell_type": "code",
   "execution_count": 58,
   "id": "3625da87",
   "metadata": {},
   "outputs": [],
   "source": [
    "''' Find where I will have NaNs for Scores, Mean & Peak FR, Slope, Y-Int'''\n",
    "nan_idx10spatial = np.where((morethan10spatial.astype(bool) == 0))[0]\n",
    "\n",
    "# Adjust y_sind, ma_sind, age_sind for subsequent plots\n",
    "y_sindspatial = np.setdiff1d(y_sind, nan_idx10spatial)\n",
    "age_sindspatial = np.setdiff1d(age_sind, nan_idx10spatial)\n",
    "\n",
    "# Adjust colormaps for spatial plots\n",
    "yidx = []\n",
    "aidx = []\n",
    "for i in nan_idx10spatial:\n",
    "    yidx = np.append(yidx, np.where(y_sind == i)[0].astype(int))\n",
    "    aidx = np.append(aidx, np.where(age_sind == i)[0].astype(int)) \n",
    "\n",
    "col_session_youngspatial = np.delete(col_session_young, list(yidx.astype(int)), axis = 0)\n",
    "col_session_oldspatial = np.delete(col_session_old, list(aidx.astype(int)), axis = 0)\n",
    "col_sessionspatial = [col_session_youngspatial, col_session_oldspatial] "
   ]
  },
  {
   "cell_type": "code",
   "execution_count": 59,
   "id": "715a6296",
   "metadata": {},
   "outputs": [
    {
     "data": {
      "image/png": "[encoded data removed]",
      "text/plain": [
       "<Figure size 125x125 with 1 Axes>"
      ]
     },
     "metadata": {},
     "output_type": "display_data"
    }
   ],
   "source": [
    "''' Plot Figure 5H '''\n",
    "\n",
    "fig, ax = plt.subplots(figsize = (1.25,1.25))\n",
    "labels = ['Young','Aged']\n",
    "w = 0.5\n",
    "sscore_tog = [spatialscore[y_sindspatial], spatialscore[age_sindspatial]]\n",
    "ax.boxplot(sscore_tog, widths = w, labels = labels, medianprops = dict(color = 'black'))\n",
    "ax.hlines(np.mean(spatialshuffscore[y_sindspatial]), 0.75, 1.25, color = 'C0', linestyle ='dashed', linewidth = 0.75, label = 'Young Shuffle')\n",
    "ax.hlines(np.mean(spatialshuffscore[age_sindspatial]), 1.75, 2.25, color = 'C1', linestyle ='dashed', linewidth = 0.75, label = 'Aged Shuffle')\n",
    "ax.set_ylim([0,1])\n",
    "\n",
    "for i in range(len(sscore_tog)):\n",
    "    y = sscore_tog[i]\n",
    "    x = np.random.normal(i + 1, 0.04, len(y))\n",
    "    ax.scatter(x, y, color = col_sessionspatial[i], edgecolors = col_sessionspatial[i], alpha = 1, s = 10)\n",
    "    \n",
    "ax.set_ylabel('Decoder Score', fontsize = 9, labelpad = 1)\n",
    "ax.set_xlabel('Age', fontsize = 9, labelpad = 1)\n",
    "ax.set_ylim([0,1])\n",
    "ax.tick_params(labelsize = 8)\n",
    "\n",
    "plt.savefig(save_folder + '5H.png', dpi=400, bbox_inches='tight')\n",
    "plt.savefig(save_folder + '5H.svg', dpi=400, bbox_inches='tight')\n",
    "plt.show()"
   ]
  },
  {
   "cell_type": "code",
   "execution_count": 60,
   "id": "13202cdc",
   "metadata": {},
   "outputs": [
    {
     "name": "stdout",
     "output_type": "stream",
     "text": [
      "Real RESULTS:\n",
      "meandecoderscoreyoung ± SEM; meandecoderscore_old ± SEM\n",
      "0.6408 ± 0.0385 ; 0.4743 ± 0.0427\n",
      "stat = 2.406345740486576\n",
      "p_session = 0.01611300733609584\n",
      "n young, aged RF sessions with k = 2: \n",
      "35 26\n",
      "\n",
      "Shuffle RESULTS:\n",
      "meandecoderscoreyoung ± SEM; meandecoderscore_old ± SEM\n",
      "0.1587 ± 0.0108 ; 0.1456 ± 0.0125\n",
      "stat = 0.5104369752547282\n",
      "p_session = 0.6097453581490243\n",
      "\n",
      "Diff Shuffle vs. Real RESULTS Young:\n",
      "stat = 630.0\n",
      "p_session = 2.9103830456733704e-11\n",
      "\n",
      "Diff Shuffle vs. Real RESULTS Aged:\n",
      "stat = 350.0\n",
      "p_session = 2.9802322387695312e-08\n"
     ]
    }
   ],
   "source": [
    "'''Statistics on Decoder Score'''\n",
    "\n",
    "print('Real RESULTS:')\n",
    "print('meandecoderscoreyoung ± SEM; meandecoderscore_old ± SEM')\n",
    "print(str(np.round(np.nanmean(spatialscore[y_sindspatial]), 4)) + ' ± ' + str(np.round(stats.sem(spatialscore[y_sindspatial]), 4)) + ' ; ' \n",
    "      + str(np.round(np.nanmean(spatialscore[age_sindspatial]), 4)) + ' ± ' + str(np.round(stats.sem(spatialscore[age_sindspatial]), 4)))\n",
    "\n",
    "stat, p_diff = stats.ranksums(spatialscore[y_sindspatial],spatialscore[age_sindspatial])\n",
    "print('stat = ' + str(stat))\n",
    "print('p_session = ' + str(p_diff))\n",
    "print('n young, aged RF sessions with k = 2: ')\n",
    "print(len(y_sindspatial), len(age_sindspatial))\n",
    "\n",
    "print('\\nShuffle RESULTS:')\n",
    "print('meandecoderscoreyoung ± SEM; meandecoderscore_old ± SEM')\n",
    "print(str(np.round(np.nanmean(spatialshuffscore[y_sindspatial]), 4)) + ' ± ' + str(np.round(stats.sem(spatialshuffscore[y_sindspatial]), 4)) + ' ; ' \n",
    "      + str(np.round(np.nanmean(spatialshuffscore[age_sindspatial]), 4)) + ' ± ' + str(np.round(stats.sem(spatialshuffscore[age_sindspatial]), 4)))\n",
    "\n",
    "stat, p_diff = stats.ranksums(spatialshuffscore[y_sindspatial],spatialshuffscore[age_sindspatial])\n",
    "print('stat = ' + str(stat))\n",
    "print('p_session = ' + str(p_diff))\n",
    "\n",
    "print('\\nDiff Shuffle vs. Real RESULTS Young:')\n",
    "stat, p_diff = stats.wilcoxon(spatialscore[y_sindspatial],spatialshuffscore[y_sindspatial],alternative = 'greater')\n",
    "print('stat = ' + str(stat))\n",
    "print('p_session = ' + str(p_diff))\n",
    "\n",
    "print('\\nDiff Shuffle vs. Real RESULTS Aged:')\n",
    "stat, p_diff = stats.wilcoxon(spatialscore[age_sindspatial],spatialshuffscore[age_sindspatial],alternative = 'greater')\n",
    "print('stat = ' + str(stat))\n",
    "print('p_session = ' + str(p_diff))"
   ]
  },
  {
   "cell_type": "code",
   "execution_count": 61,
   "id": "856136f8",
   "metadata": {
    "scrolled": true
   },
   "outputs": [
    {
     "data": {
      "application/vnd.jupyter.widget-view+json": {
       "model_id": "4f3020de62874fcd9704cce7137068f6",
       "version_major": 2,
       "version_minor": 0
      },
      "text/plain": [
       "  0%|          | 0/6 [00:00<?, ?it/s]"
      ]
     },
     "metadata": {},
     "output_type": "display_data"
    },
    {
     "data": {
      "application/vnd.jupyter.widget-view+json": {
       "model_id": "1f906eea472c45cc84ad40f890e9a2ad",
       "version_major": 2,
       "version_minor": 0
      },
      "text/plain": [
       "  0%|          | 0/6 [00:00<?, ?it/s]"
      ]
     },
     "metadata": {},
     "output_type": "display_data"
    },
    {
     "data": {
      "application/vnd.jupyter.widget-view+json": {
       "model_id": "868c2a8f09b94e8e9a91c4cbd357ad58",
       "version_major": 2,
       "version_minor": 0
      },
      "text/plain": [
       "  0%|          | 0/6 [00:00<?, ?it/s]"
      ]
     },
     "metadata": {},
     "output_type": "display_data"
    },
    {
     "data": {
      "application/vnd.jupyter.widget-view+json": {
       "model_id": "e63894a4c3d044b0b9a59557427d06b6",
       "version_major": 2,
       "version_minor": 0
      },
      "text/plain": [
       "  0%|          | 0/6 [00:00<?, ?it/s]"
      ]
     },
     "metadata": {},
     "output_type": "display_data"
    },
    {
     "data": {
      "application/vnd.jupyter.widget-view+json": {
       "model_id": "cd2bd977d8894108bd522a682bc67a2c",
       "version_major": 2,
       "version_minor": 0
      },
      "text/plain": [
       "  0%|          | 0/6 [00:00<?, ?it/s]"
      ]
     },
     "metadata": {},
     "output_type": "display_data"
    },
    {
     "data": {
      "application/vnd.jupyter.widget-view+json": {
       "model_id": "5548d5320b764d23bdbb48aa48f9ee30",
       "version_major": 2,
       "version_minor": 0
      },
      "text/plain": [
       "  0%|          | 0/6 [00:00<?, ?it/s]"
      ]
     },
     "metadata": {},
     "output_type": "display_data"
    },
    {
     "data": {
      "application/vnd.jupyter.widget-view+json": {
       "model_id": "672513c10bc04049a0c1873b59cf618f",
       "version_major": 2,
       "version_minor": 0
      },
      "text/plain": [
       "  0%|          | 0/6 [00:00<?, ?it/s]"
      ]
     },
     "metadata": {},
     "output_type": "display_data"
    },
    {
     "data": {
      "application/vnd.jupyter.widget-view+json": {
       "model_id": "aa8fb972ccd544c89bf1fab224a3e298",
       "version_major": 2,
       "version_minor": 0
      },
      "text/plain": [
       "  0%|          | 0/5 [00:00<?, ?it/s]"
      ]
     },
     "metadata": {},
     "output_type": "display_data"
    },
    {
     "data": {
      "application/vnd.jupyter.widget-view+json": {
       "model_id": "d7508a2125f64ec4bb3e07bbe7efb0f7",
       "version_major": 2,
       "version_minor": 0
      },
      "text/plain": [
       "  0%|          | 0/3 [00:00<?, ?it/s]"
      ]
     },
     "metadata": {},
     "output_type": "display_data"
    },
    {
     "data": {
      "application/vnd.jupyter.widget-view+json": {
       "model_id": "99fb44df91134843a2f6d9928c079562",
       "version_major": 2,
       "version_minor": 0
      },
      "text/plain": [
       "  0%|          | 0/6 [00:00<?, ?it/s]"
      ]
     },
     "metadata": {},
     "output_type": "display_data"
    },
    {
     "data": {
      "application/vnd.jupyter.widget-view+json": {
       "model_id": "348e9dfda9874c65b144e76fc331bec9",
       "version_major": 2,
       "version_minor": 0
      },
      "text/plain": [
       "  0%|          | 0/6 [00:00<?, ?it/s]"
      ]
     },
     "metadata": {},
     "output_type": "display_data"
    },
    {
     "data": {
      "application/vnd.jupyter.widget-view+json": {
       "model_id": "117622bfdf9c4ab88e077fa60ac04f9f",
       "version_major": 2,
       "version_minor": 0
      },
      "text/plain": [
       "  0%|          | 0/6 [00:00<?, ?it/s]"
      ]
     },
     "metadata": {},
     "output_type": "display_data"
    },
    {
     "data": {
      "application/vnd.jupyter.widget-view+json": {
       "model_id": "fb7985f9affd4d7dab1198392605d735",
       "version_major": 2,
       "version_minor": 0
      },
      "text/plain": [
       "  0%|          | 0/5 [00:00<?, ?it/s]"
      ]
     },
     "metadata": {},
     "output_type": "display_data"
    },
    {
     "data": {
      "application/vnd.jupyter.widget-view+json": {
       "model_id": "3139e6f0ff554cb3a6222826166c2d1a",
       "version_major": 2,
       "version_minor": 0
      },
      "text/plain": [
       "  0%|          | 0/5 [00:00<?, ?it/s]"
      ]
     },
     "metadata": {},
     "output_type": "display_data"
    },
    {
     "data": {
      "application/vnd.jupyter.widget-view+json": {
       "model_id": "04199bc25e7249889d63039fe905061a",
       "version_major": 2,
       "version_minor": 0
      },
      "text/plain": [
       "  0%|          | 0/6 [00:00<?, ?it/s]"
      ]
     },
     "metadata": {},
     "output_type": "display_data"
    },
    {
     "data": {
      "application/vnd.jupyter.widget-view+json": {
       "model_id": "71b58c8b8ba5448ebec8dfd54e6f30e7",
       "version_major": 2,
       "version_minor": 0
      },
      "text/plain": [
       "  0%|          | 0/2 [00:00<?, ?it/s]"
      ]
     },
     "metadata": {},
     "output_type": "display_data"
    }
   ],
   "source": [
    "''' Correlate Spatial Cell Decoding Scores w/ Avg Spatial Cell Coherence & Moving Avg. Stability for a Given Session''' \n",
    "    \n",
    "#Collect Session Avg. Spatial Cell Coherence & Stability\n",
    "avgcoherence = []\n",
    "avgstability = []\n",
    "\n",
    "for m, session in zip(mice, sessions):\n",
    "\n",
    "    for s in tdqm(session):\n",
    "        d = data[m][s]\n",
    "        \n",
    "        if d['2map'] == 1:\n",
    "            #load coherence scores (one for every cell)\n",
    "            spatialcoherencescore_file = 'spatialcoherencescores_' + m + '_' + s + '.npy'\n",
    "            spatialcoherencescores = np.load(save_folder + spatialcoherencescore_file, allow_pickle=True)\n",
    "\n",
    "            #load the cross trial correlation matrices for all spatial cells      \n",
    "            allsim_file = 'allsim_' + m + '_' + s + '_'+ '.npy'\n",
    "            allsim  = np.load(save_folder + allsim_file)\n",
    "\n",
    "            #load in data\n",
    "            rawdata_file = 'RAW_' + m + '_' + s + '.npy'\n",
    "            behavior_file = 'BEHAVIOR_' + m + '_' + s + '.npy'\n",
    "\n",
    "            raw = np.load(load_folder + rawdata_file, allow_pickle=True)\n",
    "            behaviorfil = np.load(load_folder + behavior_file, allow_pickle=False)\n",
    "\n",
    "            cell_IDs = raw.item().get('cellsfil')\n",
    "            spatialcell99 = d['spatialcell99'].astype(bool)\n",
    "            spatialcells = cell_IDs[spatialcell99]\n",
    "\n",
    "            within_map_stability_file = 'within_map_stab_' + m + '_' + s + '.npy'\n",
    "            withinmapstab = np.load(save_folder + within_map_stability_file)\n",
    "\n",
    "            coherencescores = []\n",
    "            local_stability5 = withinmapstab\n",
    "            for i, c in enumerate(spatialcells):\n",
    "                sdx = (np.where(cell_IDs==c)[0][0]).astype(int)\n",
    "\n",
    "                #get saved coherence score\n",
    "                coherencescores = np.append(coherencescores, spatialcoherencescores[sdx])\n",
    "\n",
    "            #save session average\n",
    "            avgcoherence = np.append(avgcoherence, np.nanmean(coherencescores))\n",
    "            avgstability = np.append(avgstability, np.nanmean(local_stability5))\n",
    "            \n",
    "        else:\n",
    "            avgcoherence = np.append(avgcoherence, np.nan)\n",
    "            avgstability = np.append(avgstability, np.nan)"
   ]
  },
  {
   "cell_type": "code",
   "execution_count": 62,
   "id": "845f6d1f",
   "metadata": {},
   "outputs": [
    {
     "name": "stdout",
     "output_type": "stream",
     "text": [
      "\n",
      "Association btwn Young, MA, Aged, & All Performance & Variable of Interest:\n",
      "R [Young, Aged, All]: \n",
      "0.5093561170255906 0.7260617388546932 0.979113062398158\n",
      "P [Young, MA, Aged, All]: \n",
      "0.0017773035299101488 2.6847373576017647e-05 1.6059171646991878e-42\n",
      "\n",
      "Association btwn Young, MA, Aged, & All Performance & Variable of Interest:\n",
      "R [Young, Aged, All]: \n",
      "0.6360177295868045 0.7944893946005942 0.975810479488224\n",
      "P [Young, MA, Aged, All]: \n",
      "4.0226678568968015e-05 1.2566820314447657e-06 1.165311000003725e-40\n",
      "\n",
      "n young, aged sessions:\n",
      "35 26\n"
     ]
    },
    {
     "data": {
      "image/png": "[encoded data removed]",
      "text/plain": [
       "<Figure size 275x105 with 1 Axes>"
      ]
     },
     "metadata": {},
     "output_type": "display_data"
    },
    {
     "data": {
      "image/png": "[encoded data removed]",
      "text/plain": [
       "<Figure size 275x105 with 1 Axes>"
      ]
     },
     "metadata": {},
     "output_type": "display_data"
    }
   ],
   "source": [
    "''' Plot Correlation of Mean Spatial Cell Decoder Score vs. Mean Coherence / Stability (Figure 5J)'''\n",
    "\n",
    "#Linear regression\n",
    "res = stats.linregress(avgcoherence[y_sindspatial],spatialscore[y_sindspatial])\n",
    "yslope1 = res.slope; yint1 = res.intercept; yr1 = res.rvalue; yp1 = res.pvalue\n",
    "\n",
    "res = stats.linregress(avgcoherence[age_sindspatial],spatialscore[age_sindspatial])\n",
    "aslope1 = res.slope; aint1 = res.intercept; ar1 = res.rvalue ; ap1 = res.pvalue\n",
    "\n",
    "res = stats.linregress(np.union1d(avgcoherence[y_sindspatial],avgcoherence[age_sindspatial]),\n",
    "                       np.union1d(spatialscore[y_sindspatial],spatialscore[age_sindspatial]))\n",
    "allslope1 = res.slope; allint1 = res.intercept; allr1 = res.rvalue; allp1 = res.pvalue\n",
    "\n",
    "print('\\nAssociation btwn Young, MA, Aged, & All Performance & Variable of Interest:')\n",
    "print('R [Young, Aged, All]: ')\n",
    "print(yr1, ar1, allr1)\n",
    "print('P [Young, MA, Aged, All]: ')\n",
    "print(yp1, ap1, allp1)\n",
    "\n",
    "res = stats.linregress(avgstability[y_sindspatial],spatialscore[y_sindspatial])\n",
    "yslope2 = res.slope; yint2 = res.intercept; yr2 = res.rvalue; yp2 = res.pvalue\n",
    "\n",
    "res = stats.linregress(avgstability[age_sindspatial],spatialscore[age_sindspatial])\n",
    "aslope2 = res.slope; aint2 = res.intercept; ar2 = res.rvalue; ap2 = res.pvalue\n",
    "\n",
    "res = stats.linregress(np.union1d(avgstability[y_sindspatial],avgstability[age_sindspatial]),\n",
    "                       np.union1d(spatialscore[y_sindspatial],spatialscore[age_sindspatial]))\n",
    "allslope2 = res.slope; allint2 = res.intercept; allr2 = res.rvalue; allp2 = res.pvalue\n",
    "\n",
    "print('\\nAssociation btwn Young, MA, Aged, & All Performance & Variable of Interest:')\n",
    "print('R [Young, Aged, All]: ')\n",
    "print(yr2, ar2, allr2)\n",
    "print('P [Young, MA, Aged, All]: ')\n",
    "print(yp2, ap2, allp2)\n",
    "\n",
    "print('\\nn young, aged sessions:')\n",
    "print(len(y_sindspatial), len(age_sindspatial))\n",
    "\n",
    "#Plot Figure 5J (left)\n",
    "fig, ax = plt.subplots(figsize = (2.75,1.05))\n",
    "ax.set_title('Mean Decoder Score vs. Mean Coherence', fontsize = 10)\n",
    "ax.scatter(avgcoherence[y_sindspatial],spatialscore[y_sindspatial], color = 'C0', label = 'Young', s = 10)\n",
    "ax.scatter(avgcoherence[age_sindspatial],spatialscore[age_sindspatial], color = 'C1', label = 'Aged', s = 10)\n",
    "ax.set_xlabel('Mean Coherence', fontsize = 9)\n",
    "ax.set_ylabel('Decoder Score', fontsize = 9)\n",
    "ax.set_xlim([0.45,0.9])\n",
    "ax.set_ylim([0,1])\n",
    "ax.tick_params(labelsize = 8)\n",
    "X_plot = np.linspace(ax.get_xlim()[0],ax.get_xlim()[1],100)\n",
    "ax.plot(X_plot, yslope1*X_plot + yint1, '--', linewidth = 0.75, color = 'C0', label = 'Young Fit')\n",
    "ax.plot(X_plot, aslope1*X_plot + aint1, '--', linewidth = 0.75, color = 'C1', label = 'Aged')\n",
    "ax.plot(X_plot, allslope1*X_plot + allint1, '-', linewidth = 1, color = 'k', label = 'All Ages')\n",
    "#ax.legend(loc = 4, fontsize = 9, prop = {'size': 10})\n",
    "plt.savefig(save_folder + '5Jleft.png', dpi = 400, bbox_inches = 'tight')\n",
    "plt.savefig(save_folder + '5Jleft.svg', dpi = 400, bbox_inches = 'tight')\n",
    "plt.show()\n",
    "\n",
    "#Plot Figure 5J (right)\n",
    "fig, ax = plt.subplots(figsize = (2.75,1.05))\n",
    "ax.set_title('Mean Decoder Score vs. Mean Stability', fontsize = 10)\n",
    "ax.scatter(avgstability[y_sindspatial],spatialscore[y_sindspatial], color = 'C0', label = 'Young', s = 10)\n",
    "ax.scatter(avgstability[age_sindspatial],spatialscore[age_sindspatial], color = 'C1', label = 'Aged', s = 10)\n",
    "ax.set_xlabel('Mean Within Map Stability', fontsize = 9)\n",
    "ax.set_ylabel('Decoder Score', fontsize = 9)\n",
    "ax.set_xlim([0,0.25])\n",
    "ax.set_ylim([0,1])\n",
    "ax.tick_params(labelsize = 8)\n",
    "X_plot = np.linspace(ax.get_xlim()[0],ax.get_xlim()[1],100)\n",
    "ax.plot(X_plot, yslope2*X_plot + yint2, '--', color = 'C0', linewidth = 0.75, label = 'Young Fit')\n",
    "ax.plot(X_plot, aslope2*X_plot + aint2, '--', linewidth = 0.75, color = 'C1', label = 'Aged')\n",
    "ax.plot(X_plot, allslope2*X_plot + allint2, '-', linewidth = 1, color = 'k', label = 'All Ages')\n",
    "plt.savefig(save_folder + '5Jright.png', dpi = 400, bbox_inches = 'tight')\n",
    "plt.savefig(save_folder + '5Jright.svg', dpi = 400, bbox_inches = 'tight')\n",
    "plt.show()"
   ]
  },
  {
   "cell_type": "code",
   "execution_count": 64,
   "id": "67372c5f",
   "metadata": {
    "scrolled": true
   },
   "outputs": [
    {
     "name": "stdout",
     "output_type": "stream",
     "text": [
      "Mean Age Group Score = 0.4742594647865832\n",
      "Mean score on all test data this run = 0.44092357077943406\n",
      "Score on the test trial to be plotted below = 0.4687447775151779\n"
     ]
    },
    {
     "data": {
      "image/png": "[encoded data removed]",
      "text/plain": [
       "<Figure size 260x105 with 1 Axes>"
      ]
     },
     "metadata": {},
     "output_type": "display_data"
    },
    {
     "name": "stdout",
     "output_type": "stream",
     "text": [
      "Mean Age Group Score = 0.6408452009592848\n",
      "Mean score on all test data this run = 0.5337184648397472\n",
      "Score on the test trial to be plotted below = 0.6583547706548788\n"
     ]
    },
    {
     "data": {
      "image/png": "[encoded data removed]",
      "text/plain": [
       "<Figure size 260x105 with 1 Axes>"
      ]
     },
     "metadata": {},
     "output_type": "display_data"
    }
   ],
   "source": [
    "''' Visualize decoding on 1st test trial from representative sessions (Plot Example like in Figure 5I) \n",
    "\n",
    "Please note: this will never match Figure 5I exactly because that the result here is based on a random train/test set. \n",
    "\n",
    "You can rerun this repeatedly to keep generating new example plots from these same sessions.\n",
    "\n",
    "'''\n",
    "model = CircularRegression(alpha=REGULARIZATION)\n",
    "refscores = [np.mean(spatialscore[y_sindspatial]),np.mean(spatialscore[age_sindspatial])]\n",
    "\n",
    "colors = ['C0','C1']\n",
    "\n",
    "# most representative mice of age group averages; Y19_1 has optimal k = 2, A13_6 has optimal k = 4 \n",
    "ex_mice = ['Y19','A13']\n",
    "ex_sessions = ['062822_record1','051022_record6']\n",
    "\n",
    "# to check out Y18, A12 sessions also represented in Figure 5A, which have optimal k = 2:\n",
    "#ex_mice = ['Y18','A12']\n",
    "#ex_sessions = ['062022_record1','052022_record3']\n",
    "\n",
    "for m, session in zip(mice, sessions):\n",
    "    for s in session:\n",
    "        \n",
    "        if (m not in ex_mice) or (s not in ex_sessions):\n",
    "            continue\n",
    "        \n",
    "        d = data[m][s]\n",
    "        \n",
    "        #load in data\n",
    "        rawdata_file = 'RAW_' + m + '_' + s + '.npy'\n",
    "        behavior_file = 'BEHAVIOR_' + m + '_' + s + '.npy'\n",
    "        \n",
    "        raw = np.load(load_folder + rawdata_file, allow_pickle=True)\n",
    "        behaviorfil = np.load(load_folder + behavior_file, allow_pickle=False)\n",
    "        \n",
    "        cell_IDs = raw.item().get('cellsfil')\n",
    "        spatialcell99 = d['spatialcell99'].astype(bool)\n",
    "        spatialcells = cell_IDs[spatialcell99]\n",
    "        \n",
    "        #restrict position decoding to spatial cell activity\n",
    "        X = d['X']\n",
    "        sdx = []\n",
    "        for i, c in enumerate(spatialcells):\n",
    "            sd = (np.where(cell_IDs == c)[0][0]).astype(int)\n",
    "            sdx.append(sd)\n",
    "        X = X[:,sdx]\n",
    "        \n",
    "        # randomly split all trials into training vs. test sets & identify their indices\n",
    "        start = d['start']\n",
    "        end = d['end']\n",
    "        y = d['y']\n",
    "        \n",
    "        trial = behaviorfil[:,2]\n",
    "        trial = trial[start:end]\n",
    "        post = behaviorfil[:,3][start:end]\n",
    "        trials = np.unique(trial)\n",
    "\n",
    "        train_trials = np.random.choice(trials, replace = False, size = 9*len(trials)//10)\n",
    "        test_trials = np.setdiff1d(trials, train_trials)\n",
    "\n",
    "        train_data = []\n",
    "        for t in train_trials:\n",
    "            idx = np.where(trial == t)[0].astype(int)\n",
    "            train_data = np.append(train_data, idx)\n",
    "\n",
    "        #select test trial idx\n",
    "        test_data = []\n",
    "        for t in test_trials:\n",
    "            idx = np.where(trial == t)[0].astype(int)\n",
    "            test_data = np.append(test_data, idx)\n",
    "            \n",
    "        train_data = train_data.astype(int)\n",
    "        test_data = test_data.astype(int)\n",
    "\n",
    "        # get model predictions & performance on entire test set when trained on entire training set.\n",
    "        model.fit(X[train_data,:], y[train_data])\n",
    "        predy = model.predict(X[test_data,:])\n",
    "        score = model.score(X[test_data,:], y[test_data])\n",
    "        realy = y[test_data]\n",
    "        \n",
    "        #find trial with score closest to average cross validated decoder score for plotting\n",
    "        trialscores = []\n",
    "        #refscore = np.mean(d['spatialscores'], axis = 1)[-1]\n",
    "        \n",
    "        if m in all_young_mice:\n",
    "            refscore = refscores[0]\n",
    "        else:\n",
    "            refscore = refscores[1] \n",
    "            \n",
    "        for t in test_trials:\n",
    "            idx = np.where(trial == t)[0].astype(int)\n",
    "            trialscores = np.append(trialscores, model.score(X[idx,:], y[idx]))\n",
    "        \n",
    "        avgtrial = test_trials[np.argmin(np.abs(trialscores - refscore))]\n",
    "        avgtrialscore = trialscores[np.argmin(np.abs(trialscores - refscore))]\n",
    "        avgtrialidx = np.where(trial == avgtrial)[0].astype(int)\n",
    "        avgtestrialidxstart = np.where(test_data == avgtrialidx[0])[0][0]\n",
    "        avgtestrialidxend = np.where(test_data == avgtrialidx[-1])[0][0] + 1\n",
    "        \n",
    "        #Compare performance on this run to CV average\n",
    "        print('Mean Age Group Score = ' + str(refscore))\n",
    "        print('Mean score on all test data this run = ' + str(score))\n",
    "        print('Score on the test trial to be plotted below = ' + str(avgtrialscore))\n",
    "       \n",
    "        if m in RF_aged_mice:\n",
    "            #aged plot (Figure 5I bottom)\n",
    "            fig, ax = plt.subplots(figsize = (2.6,1.05))\n",
    "            ax.plot(post[avgtrialidx],predy[avgtestrialidxstart:avgtestrialidxend], color = colors[1], linewidth = 0.75, label = 'predicted')\n",
    "            ax.plot(post[avgtrialidx],realy[avgtestrialidxstart:avgtestrialidxend], color = 'k', linewidth = 0.75, label = 'actual')\n",
    "            ax.set_xlabel('Time (seconds)', fontsize = 8)\n",
    "            ax.set_ylabel('Position (rad)', fontsize = 8)\n",
    "            #ax.legend(fontsize = 8, bbox_to_anchor = (1.4,1))\n",
    "            ax.tick_params(labelsize = 8)\n",
    "            ax.set_title(str(m) + '_' + str(s[-1]) + ', ' + str(len(spatialcells)) + ' cells', fontsize = 10, color = 'C1')\n",
    "            plt.savefig(save_folder + '5Ibottom.png', dpi=400, bbox_inches='tight')\n",
    "            plt.savefig(save_folder + '5Ibottom.svg', dpi=400, bbox_inches='tight')\n",
    "            plt.show()\n",
    "            \n",
    "        else:\n",
    "            #young plot (Figure 5I top)\n",
    "            fig, ax = plt.subplots(figsize = (2.6,1.05))\n",
    "            ax.plot(post[avgtrialidx],predy[avgtestrialidxstart:avgtestrialidxend], color = colors[0], linewidth = 0.75, label = 'predicted')\n",
    "            ax.plot(post[avgtrialidx],realy[avgtestrialidxstart:avgtestrialidxend], color = 'k', linewidth = 0.75, label = 'actual')\n",
    "            ax.set_xlabel('Time (seconds)', fontsize = 8)\n",
    "            ax.set_ylabel('Position (rad)', fontsize = 8)\n",
    "            #ax.legend(fontsize = 8, bbox_to_anchor = (1.4,1))\n",
    "            ax.tick_params(labelsize = 8)\n",
    "            ax.set_title(str(m) + '_' + str(s[-1]) + ', ' + str(len(spatialcells)) + ' cells', fontsize = 10, color = 'C0')\n",
    "            plt.savefig(save_folder + '5Itop.png', dpi=400, bbox_inches='tight')\n",
    "            plt.savefig(save_folder + '5Itop.svg', dpi=400, bbox_inches='tight')\n",
    "            plt.show()\n"
   ]
  },
  {
   "cell_type": "code",
   "execution_count": null,
   "id": "04c39cda",
   "metadata": {},
   "outputs": [],
   "source": []
  }
 ],
 "metadata": {
  "kernelspec": {
   "display_name": "Python 3 (ipykernel)",
   "language": "python",
   "name": "python3"
  },
  "language_info": {
   "codemirror_mode": {
    "name": "ipython",
    "version": 3
   },
   "file_extension": ".py",
   "mimetype": "text/x-python",
   "name": "python",
   "nbconvert_exporter": "python",
   "pygments_lexer": "ipython3",
   "version": "3.8.16"
  }
 },
 "nbformat": 4,
 "nbformat_minor": 5
}
