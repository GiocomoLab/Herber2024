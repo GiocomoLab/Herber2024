{
 "cells": [
  {
   "cell_type": "markdown",
   "id": "de850320",
   "metadata": {},
   "source": [
    "# Setup"
   ]
  },
  {
   "cell_type": "code",
   "execution_count": 1,
   "id": "6021171d",
   "metadata": {},
   "outputs": [],
   "source": [
    "''' magic 4u'''\n",
    "%load_ext autoreload\n",
    "%autoreload 2"
   ]
  },
  {
   "cell_type": "code",
   "execution_count": 2,
   "id": "8c3ea503",
   "metadata": {},
   "outputs": [],
   "source": [
    "'''Get Stuff You Need'''\n",
    "import numpy as np\n",
    "import math as math\n",
    "from tqdm import tnrange\n",
    "from tqdm.notebook import tqdm as tdqm\n",
    "import matplotlib.pyplot as plt\n",
    "import matplotlib as mpl\n",
    "mpl.rcParams.update(mpl.rcParamsDefault)\n",
    "from matplotlib import gridspec\n",
    "from scipy.interpolate import interp1d\n",
    "from scipy.ndimage import gaussian_filter1d\n",
    "from scipy import stats\n",
    "import scipy.io\n",
    "import scipy.ndimage.filters as filt\n",
    "import pandas as pd\n",
    "import seaborn as sns\n",
    "\n",
    "from pipeline import get_data as get\n",
    "from pipeline import process_spikes as ps\n",
    "\n",
    "from statsmodels.tsa.stattools import acf\n",
    "from scipy.signal import find_peaks\n",
    "from itertools import combinations"
   ]
  },
  {
   "cell_type": "code",
   "execution_count": 3,
   "id": "7883575a",
   "metadata": {},
   "outputs": [],
   "source": [
    "''' Define plotting defaults '''\n",
    "\n",
    "from matplotlib import rc \n",
    "mpl.rcParams['font.sans-serif'] = 'Arial'\n",
    "mpl.rcParams['font.family'] = 'sans-serif'\n",
    "mpl.rcParams['svg.fonttype'] = 'none'"
   ]
  },
  {
   "cell_type": "code",
   "execution_count": 4,
   "id": "3c21dbb9",
   "metadata": {},
   "outputs": [],
   "source": [
    "''' Define some functions for later '''\n",
    "def count_consec(lst):\n",
    "    consec = [1]\n",
    "    for x, y in zip(lst, lst[1:]):\n",
    "        if x == y - 1:\n",
    "            consec[-1] += 1\n",
    "        else:\n",
    "            consec.append(1)\n",
    "    return consec\n",
    "\n",
    "def tuning_curve_bytrial(x, trial, Y, dt, b, sigma, smooth=True, normalize=False, occupancy=True):\n",
    "    '''\n",
    "    Params\n",
    "    ------\n",
    "    x : ndarray\n",
    "        variable of interest by observation; shape (n_obs, )\n",
    "    trial : ndarray\n",
    "        trial num for each observation; shape (n_obs, )\n",
    "    Y : ndarray\n",
    "        spikes per observation; shape (n_obs, n_cells)\n",
    "    dt : int\n",
    "        time per observation in seconds\n",
    "    b : int\n",
    "        bin size\n",
    "    sigma : int\n",
    "        SD of Gaussian filter\n",
    "    smooth : bool\n",
    "        apply gaussian filter to firing rate; optional, default is True\n",
    "    normalize : bool\n",
    "        normalize the firing rate of each cell such that its max FR is 1, min is 0;\n",
    "        optional, default is False\n",
    "    occupancy : bool\n",
    "        return occupancy (dwell time in each bin); optional, default is True\n",
    "\n",
    "    Returns\n",
    "    -------\n",
    "    firing_rate : ndarray\n",
    "        binned firing rate for each trial for each cell; shape (n_trials, n_bins, n_cells)\n",
    "    centers : ndarray\n",
    "        center of each bin\n",
    "    occ : ndarray\n",
    "       dwell time in each bin; shape (n_bins, n_cells)\n",
    "    '''\n",
    "    edges = np.arange(0, np.max(x) + b, b)\n",
    "    centers = (edges[:-1] + edges[1:])/2\n",
    "    b_idx = np.digitize(x, edges)\n",
    "    if np.max(x) == edges[-1]:\n",
    "        b_idx[b_idx==np.max(b_idx)] = np.max(b_idx) - 1\n",
    "    unique_bdx = np.unique(b_idx)\n",
    "\n",
    "    # find FR in each bin\n",
    "    firing_rate = np.zeros((np.unique(trial).shape[0], unique_bdx.shape[0], Y.shape[1]))\n",
    "    occ = np.zeros((np.unique(trial).shape[0], unique_bdx.shape[0], Y.shape[1]))\n",
    "    for j in range(unique_bdx.shape[0]):\n",
    "        idx1 = (b_idx == unique_bdx[j])\n",
    "        for i, t in enumerate(np.unique(trial)):\n",
    "            idx = idx1 & (trial == t)\n",
    "            if np.sum(idx)==0:\n",
    "                #print('warning: zero occupancy!')\n",
    "                firing_rate[i, j, :] = firing_rate[i, j-1, :]\n",
    "                occ[i, j, :] = 0\n",
    "            else:    \n",
    "                spike_ct = np.sum(Y[idx, :], axis=0)\n",
    "                occupancy = dt * np.sum(idx)\n",
    "                occ[i, j, :] = occupancy\n",
    "                firing_rate[i, j, :] = spike_ct / occupancy\n",
    "    if smooth:\n",
    "        firing_rate = gaussian_filter1d(firing_rate, sigma, axis=1, mode='wrap')\n",
    "\n",
    "    if normalize:\n",
    "        for c in range(firing_rate.shape[2]):\n",
    "            firing_rate[:, :, c] = (firing_rate[:, :, c] - np.min(firing_rate[:, :, c]))/np.max(firing_rate[:, :, c] - np.min(firing_rate[:, :, c]))\n",
    "    \n",
    "    if occupancy:\n",
    "        return firing_rate, centers, occ\n",
    "    else: \n",
    "        return firing_rate, centers\n",
    "    \n",
    "def find8adjacentElements(test_list):\n",
    "    ''' \n",
    "    Params\n",
    "    ------\n",
    "    test_list : ndarray\n",
    "        1d array to be sorted\n",
    "    \n",
    "    Returns\n",
    "    -------\n",
    "    neighbors : list\n",
    "        nested list where each element is a list of 8 adjacent elements to the element with the same \n",
    "        index in test_list, adjusting for the first and last four elements and not including \n",
    "    '''\n",
    "    \n",
    "    neighbors = []\n",
    "    for idx, ele in enumerate(test_list):\n",
    "    # Checking for all cases to append\n",
    "        if idx == 0:\n",
    "            neighbors.append(test_list[(idx+1):(idx + 9)])\n",
    "        elif idx == 1:\n",
    "            neighbors.append(np.concatenate((test_list[(idx - 1)],test_list[(idx+1):(idx + 8)]),axis=None))\n",
    "        elif idx == 2:\n",
    "            neighbors.append(np.concatenate((test_list[:idx],test_list[(idx+1):(idx + 7)]),axis=None))\n",
    "        elif idx == 3:\n",
    "            neighbors.append(np.concatenate((test_list[:idx],test_list[(idx+1):(idx + 6)]),axis=None))\n",
    "        elif idx == len(test_list) - 1:\n",
    "            neighbors.append(np.concatenate((test_list[(idx-8):idx]),axis=None))                     \n",
    "        elif idx == len(test_list) - 2:\n",
    "            neighbors.append(np.concatenate((test_list[(idx-7):idx],test_list[(idx + 1):]),axis=None))\n",
    "        elif idx == len(test_list) - 3:\n",
    "            neighbors.append(np.concatenate((test_list[(idx-6):idx],test_list[(idx + 1):]),axis=None))\n",
    "        elif idx == len(test_list) - 4:\n",
    "            neighbors.append(np.concatenate((test_list[(idx-5):idx],test_list[(idx + 1):]),axis = None))\n",
    "        else:\n",
    "            neighbors.append(np.concatenate((test_list[(idx - 4):idx],test_list[(idx+1):(idx + 5)]),axis=None))\n",
    "    return neighbors \n",
    "\n",
    "def find(x):\n",
    "    return x.nonzero()[0]\n",
    "\n",
    "def autocorr(x,lags):\n",
    "    '''numpy.correlate'''\n",
    "    mean=x.mean()\n",
    "    var=np.var(x)\n",
    "    xp=x-mean\n",
    "    corr=np.correlate(xp,xp,'full')[len(x)-1:]/var/len(x)\n",
    "\n",
    "    return corr[:len(lags)]"
   ]
  },
  {
   "cell_type": "code",
   "execution_count": 5,
   "id": "8ff67dea",
   "metadata": {},
   "outputs": [
    {
     "data": {
      "text/html": [
       "<div>\n",
       "<style scoped>\n",
       "    .dataframe tbody tr th:only-of-type {\n",
       "        vertical-align: middle;\n",
       "    }\n",
       "\n",
       "    .dataframe tbody tr th {\n",
       "        vertical-align: top;\n",
       "    }\n",
       "\n",
       "    .dataframe thead th {\n",
       "        text-align: right;\n",
       "    }\n",
       "</style>\n",
       "<table border=\"1\" class=\"dataframe\">\n",
       "  <thead>\n",
       "    <tr style=\"text-align: right;\">\n",
       "      <th></th>\n",
       "      <th>Animal_ID</th>\n",
       "      <th>Task</th>\n",
       "      <th>Cohort</th>\n",
       "      <th>Probe_Control</th>\n",
       "      <th>Sex</th>\n",
       "      <th>Sac_Date</th>\n",
       "      <th>Frozen_Hemisphere</th>\n",
       "      <th>DOB</th>\n",
       "      <th>Age_WholeMonth</th>\n",
       "      <th>Age_ExtraDays</th>\n",
       "      <th>Age_Month</th>\n",
       "      <th>Aged_Days</th>\n",
       "      <th>Age_Group</th>\n",
       "      <th>Behavior_Sessions</th>\n",
       "      <th>Neural_Sessions</th>\n",
       "    </tr>\n",
       "  </thead>\n",
       "  <tbody>\n",
       "    <tr>\n",
       "      <th>0</th>\n",
       "      <td>A3</td>\n",
       "      <td>RF</td>\n",
       "      <td>A</td>\n",
       "      <td>0</td>\n",
       "      <td>F</td>\n",
       "      <td>1/27/2021</td>\n",
       "      <td>R</td>\n",
       "      <td>4/23/2019</td>\n",
       "      <td>21</td>\n",
       "      <td>4</td>\n",
       "      <td>21.217</td>\n",
       "      <td>645</td>\n",
       "      <td>3</td>\n",
       "      <td>6</td>\n",
       "      <td>6</td>\n",
       "    </tr>\n",
       "    <tr>\n",
       "      <th>1</th>\n",
       "      <td>A4</td>\n",
       "      <td>RF</td>\n",
       "      <td>A</td>\n",
       "      <td>0</td>\n",
       "      <td>F</td>\n",
       "      <td>1/27/2021</td>\n",
       "      <td>R</td>\n",
       "      <td>4/23/2019</td>\n",
       "      <td>21</td>\n",
       "      <td>4</td>\n",
       "      <td>21.217</td>\n",
       "      <td>645</td>\n",
       "      <td>3</td>\n",
       "      <td>6</td>\n",
       "      <td>6</td>\n",
       "    </tr>\n",
       "    <tr>\n",
       "      <th>2</th>\n",
       "      <td>A5</td>\n",
       "      <td>RF</td>\n",
       "      <td>A</td>\n",
       "      <td>0</td>\n",
       "      <td>F</td>\n",
       "      <td>4/6/2021</td>\n",
       "      <td>L</td>\n",
       "      <td>4/23/2019</td>\n",
       "      <td>23</td>\n",
       "      <td>14</td>\n",
       "      <td>23.487</td>\n",
       "      <td>714</td>\n",
       "      <td>3</td>\n",
       "      <td>6</td>\n",
       "      <td>6</td>\n",
       "    </tr>\n",
       "    <tr>\n",
       "      <th>3</th>\n",
       "      <td>A6</td>\n",
       "      <td>RF</td>\n",
       "      <td>A</td>\n",
       "      <td>0</td>\n",
       "      <td>F</td>\n",
       "      <td>4/6/2021</td>\n",
       "      <td>R</td>\n",
       "      <td>4/23/2019</td>\n",
       "      <td>23</td>\n",
       "      <td>14</td>\n",
       "      <td>23.487</td>\n",
       "      <td>714</td>\n",
       "      <td>3</td>\n",
       "      <td>6</td>\n",
       "      <td>6</td>\n",
       "    </tr>\n",
       "    <tr>\n",
       "      <th>4</th>\n",
       "      <td>A7</td>\n",
       "      <td>RF</td>\n",
       "      <td>A</td>\n",
       "      <td>0</td>\n",
       "      <td>F</td>\n",
       "      <td>4/19/2021</td>\n",
       "      <td>L</td>\n",
       "      <td>5/29/2019</td>\n",
       "      <td>22</td>\n",
       "      <td>21</td>\n",
       "      <td>22.730</td>\n",
       "      <td>691</td>\n",
       "      <td>3</td>\n",
       "      <td>6</td>\n",
       "      <td>6</td>\n",
       "    </tr>\n",
       "  </tbody>\n",
       "</table>\n",
       "</div>"
      ],
      "text/plain": [
       "  Animal_ID Task Cohort  Probe_Control Sex   Sac_Date Frozen_Hemisphere  \\\n",
       "0        A3   RF      A              0   F  1/27/2021                 R   \n",
       "1        A4   RF      A              0   F  1/27/2021                 R   \n",
       "2        A5   RF      A              0   F   4/6/2021                 L   \n",
       "3        A6   RF      A              0   F   4/6/2021                 R   \n",
       "4        A7   RF      A              0   F  4/19/2021                 L   \n",
       "\n",
       "         DOB  Age_WholeMonth  Age_ExtraDays  Age_Month  Aged_Days  Age_Group  \\\n",
       "0  4/23/2019              21              4     21.217        645          3   \n",
       "1  4/23/2019              21              4     21.217        645          3   \n",
       "2  4/23/2019              23             14     23.487        714          3   \n",
       "3  4/23/2019              23             14     23.487        714          3   \n",
       "4  5/29/2019              22             21     22.730        691          3   \n",
       "\n",
       "   Behavior_Sessions  Neural_Sessions  \n",
       "0                  6                6  \n",
       "1                  6                6  \n",
       "2                  6                6  \n",
       "3                  6                6  \n",
       "4                  6                6  "
      ]
     },
     "execution_count": 5,
     "metadata": {},
     "output_type": "execute_result"
    }
   ],
   "source": [
    "''' Load in Animal Metadata '''\n",
    "\n",
    "animalmeta = pd.read_csv('C:/Users/Python/Desktop/Dryad/MouseMetadata.csv') # adjust path name\n",
    "\n",
    "# define some useful lists of animals based on metadata\n",
    "all_aged_mice = np.array(animalmeta.loc[(animalmeta.Age_Group == 3),'Animal_ID'])\n",
    "all_MA_mice = np.array(animalmeta.loc[(animalmeta.Age_Group == 2),'Animal_ID'])\n",
    "all_young_mice = np.array(animalmeta.loc[(animalmeta.Age_Group == 1),'Animal_ID'])\n",
    "\n",
    "cohorta_mice = np.array(animalmeta.loc[(animalmeta.Cohort == 'A'),'Animal_ID'])\n",
    "cohortb_mice = np.array(animalmeta.loc[(animalmeta.Cohort == 'B'),'Animal_ID'])\n",
    "cohortc_mice = np.array(animalmeta.loc[(animalmeta.Cohort == 'C'),'Animal_ID'])\n",
    "cohortd_mice = np.array(animalmeta.loc[(animalmeta.Cohort == 'D'),'Animal_ID'])\n",
    "\n",
    "RF_aged_mice = np.array(animalmeta.loc[(animalmeta.Age_Group == 3) & (animalmeta.Task == 'RF'),'Animal_ID'])\n",
    "RF_young_mice = np.array(animalmeta.loc[(animalmeta.Age_Group == 1) & (animalmeta.Task == 'RF'),'Animal_ID'])\n",
    "SM_aged_mice = np.array(animalmeta.loc[(animalmeta.Age_Group == 3) & (animalmeta.Task == 'SM'),'Animal_ID'])\n",
    "SM_MA_mice = np.array(animalmeta.loc[(animalmeta.Age_Group == 2) & (animalmeta.Task == 'SM'),'Animal_ID'])\n",
    "SM_young_mice = np.array(animalmeta.loc[(animalmeta.Age_Group == 1) & (animalmeta.Task == 'SM'),'Animal_ID'])\n",
    "\n",
    "all_female_mice = np.array(animalmeta.loc[(animalmeta.Sex == 'F'),'Animal_ID'])\n",
    "all_male_mice = np.array(animalmeta.loc[(animalmeta.Sex == 'M'), 'Animal_ID'])\n",
    "RF_female_mice = np.array(animalmeta.loc[(animalmeta.Sex == 'F') & (animalmeta.Task == 'RF'),'Animal_ID'])\n",
    "RF_male_mice = np.array(animalmeta.loc[(animalmeta.Sex == 'M') & (animalmeta.Task == 'RF'),'Animal_ID'])\n",
    "SM_female_mice = np.array(animalmeta.loc[(animalmeta.Sex == 'F') & (animalmeta.Task == 'SM'),'Animal_ID'])\n",
    "SM_male_mice = np.array(animalmeta.loc[(animalmeta.Sex == 'M') & (animalmeta.Task == 'SM'),'Animal_ID'])\n",
    "\n",
    "animalmeta.head()"
   ]
  },
  {
   "cell_type": "code",
   "execution_count": 6,
   "id": "81d68625",
   "metadata": {},
   "outputs": [
    {
     "name": "stdout",
     "output_type": "stream",
     "text": [
      "                                    File Animal_ID  Session  Sync  \\\n",
      "0  A3_210122_randomforagecuerich_record1        A3      1.0   1.0   \n",
      "1  A3_211023_randomforagecuerich_record2        A3      2.0   1.0   \n",
      "2  A3_211024_randomforagecuerich_record3        A3      3.0   1.0   \n",
      "3  A3_210125_randomforagecuerich_record4        A3      4.0   1.0   \n",
      "4  A3_210126_randomforagecuerich_record5        A3      5.0   1.0   \n",
      "\n",
      "   Final Depth (D) Final Depth (V)  Angle   Difficulty SyncBlock  \\\n",
      "0           3510.0            3450   10.61         0.0         2   \n",
      "1           3637.0            3575   10.59         0.0         2   \n",
      "2           4120.0            4050   10.58         0.0         2   \n",
      "3           3917.0            3850   10.61         0.0         2   \n",
      "4           3765.0            3700   10.66         0.0         2   \n",
      "\n",
      "           Notes  \n",
      "0  Pulse amp low  \n",
      "1  Pulse amp low  \n",
      "2  Pulse amp low  \n",
      "3  Pulse amp low  \n",
      "4  Pulse amp low  \n"
     ]
    }
   ],
   "source": [
    "'''Load Session Metadata'''\n",
    "sessionmeta = pd.read_csv('C:/Users/Python/Desktop/LocalData/sessionmeta.csv')\n",
    "print(sessionmeta.head())"
   ]
  },
  {
   "cell_type": "code",
   "execution_count": 7,
   "id": "48158b66",
   "metadata": {},
   "outputs": [],
   "source": [
    "''' Complete List of Mice & Sessions '''\n",
    "all_mice = np.array(animalmeta.Animal_ID)\n",
    "\n",
    "all_sessions = ([['0122_record1','0123_record2','0124_record3','0125_record4','0126_record5','0127_record6'], \n",
    "             ['0122_record1','0123_record2','0124_record3','0125_record4','0126_record5','0127_record6'],\n",
    "             ['0401_record1','0401_record2b','0403_record3','0404_record4','0405_record5','0406_record6'],\n",
    "             ['0401_record1','0402_record2','0403_record3','0404_record4','0405_record5','0406_record6'],\n",
    "             ['0414_record1','0415_record2','0416_record3','0417_record4','0418_record5','0419_record6'],\n",
    "             ['1024_record1','1025_record2','1026_record3','1027_record4','1028_record5_2'], #Y2_6 excluded\n",
    "             ['1016_record1','1019_record3','1020_record4','1021_record5','1022_record6'], #Y3_2 not collected\n",
    "             ['1114_record1','1115_record2','1116_record3','1117_record4','1118_record5','1119_record6'], # end cohort A\n",
    "             ['051822_record1','051922_record2', '052022_record3','052122_record4','052222_record5','052322_record6'], \n",
    "             ['050522_record1','050622_record2','050722_record3','050822_record4','050922_record5','051022_record6'],\n",
    "             ['050522_record1','050622_record2','050722_record3','050822_record4','051022_record6'], #Y11_5 not collected\n",
    "             ['062222_record3','062322_record4','062522_record5'], #Y16_1 & 2 not collected, neural _6 excluded\n",
    "             ['062822_record1','062922_record2','063022_record3','070122_record4','070222_record5','070322_record6'],\n",
    "             ['062022_record1','062122_record2','062222_record3','062322_record4','062522_record5','062622_record6'],\n",
    "             ['062822_record1','062922_record2','063022_record3','070122_record4','070222_record5','070322_record6'], \n",
    "             ['051922_record2','052022_record3'], # Y9 051822_record excluded for syncing issue, end cohort B\n",
    "             ['083022_record1','083122_record2','090122_record3'], \n",
    "             ['083022_record1','083122_record2','090122_record3','090222_record4','090322_record5','090422_record6'],\n",
    "             ['083022_record1','083122_record2','090122_record3','090222_record4'], #behavior of A16_4, both of 5 excluded, 6 not collected \n",
    "             ['082322_record1','082422_record2','082522_record3','082622_record4','082722_record5','082822_record6'],\n",
    "             ['082322_record1real','082422_record2','082522_record3','082622_record4','082722_record5','082822_record6'],\n",
    "             ['102322_record1','102422_record2','102522_record3','102622_record4','102722_record5','102822_record6'],\n",
    "             ['102322_record1','102422_record2','102522_record3','102622_record4','102722_record5','102822_record6'],\n",
    "             ['102322_record1','102422_record2','102522_record3','102622_record4','102722_record5','102822_record6'],\n",
    "             ['103122_record2','110122_record3','110222_record4','110322_record5rep','110422_record6','110522_record7'], #behavior of MA4M6, 7 excluded\n",
    "             ['110622_record1','110722_record2','110822_record3','110922_record4','111022_record5','111122_record6'],\n",
    "             ['103022_record1','103122_record2','110122_record3','110222_record4','110322_record5','110422_record6'],\n",
    "             ['103022_record1','103122_record2','110122_record3','110222_record4'], #behavior of MA7_4, both 5 excluded, 6 not collected\n",
    "             ['111322_record1','111422_record2','111522_record3','111622_record4','111722_record5','111822_record6'],\n",
    "             ['111322_record1','111422_record2','111522_record3','111622_record4','111722_record5','111822_record6'],\n",
    "             ['111322_record1','111422_record2','111522_record3','111622_record4','111722_record5','111822_record6'], \n",
    "             ['092522_record1','092622_record2','092722_record3','092822_record4','092922_record5','093022_record6'],\n",
    "             ['091822_record1','091922_record2','092022_record3','092122_record4','092222_record5','092322_record6'],\n",
    "             ['092522_record1','092622_record2','092722_record3','092822_record4','092922_record5','093022_record6'],\n",
    "             ['092522_record1','092622_record2','092722_record3','092822_record4','092922_record5','093022_record6'],\n",
    "             ['091822_record1','091922_record2','092022_record3','092122_record4','092222_record5','092322_record6'], #end cohortc\n",
    "             ['012723_record2','012823_record3','012923_record4','013023_record5','013123_record6','020123_record7'],\n",
    "             ['012623_record1','012723_record2','012823_record3','012923_record4','013023_record5','013123_record6'],\n",
    "             ['012923_record2','013023_record3','013123_record4','020123_record5','020223_record6','020323_record7'],\n",
    "             ['020923_record1','021023_record2','021123_record3','021223_record4','021323_record5','021423_record6'],\n",
    "             ['022623_record1','022723_record2','022823_record3','030123_record4','030223_record5','030323_record6'],\n",
    "             ['021623_record1','021723_record2','021823_record3','021923_record4','022023_record5','022123_record6'],\n",
    "             ['021623_record1','021723_record2','021823_record3','021923_record4','022023_record5','022123_record6'],\n",
    "             ['021623_record1','021723_record2','021823_record3','021923_record4','022023_record5rep','022123_record6'],\n",
    "             ['022623_record1','022723_record2','022823_record3','030123_record4','030223_record5','030323_record6'] #end cohort d \n",
    "            ]) #list of sessions"
   ]
  },
  {
   "cell_type": "code",
   "execution_count": 8,
   "id": "b6f4b79e",
   "metadata": {},
   "outputs": [],
   "source": [
    "'''Define which mice & sessions to load'''\n",
    "mice = all_mice\n",
    "sessions = all_sessions\n",
    "    \n",
    "# Make a dict to hold data\n",
    "data = {}\n",
    "\n",
    "for session, m in zip(sessions, mice):\n",
    "    data[m] = {}\n",
    "    \n",
    "    for s in session:\n",
    "        data[m][s] = {}"
   ]
  },
  {
   "cell_type": "code",
   "execution_count": 12,
   "id": "8f58cd85",
   "metadata": {},
   "outputs": [],
   "source": [
    "''' Gather waveform properties of putative excitatory vs. inhibitory interneurons '''\n",
    "\n",
    "load_folder = 'C:/Users/Python/Desktop/LocalData/intnspeedcells/' # adjust to output of Shuffle Procedure notebook\n",
    "dataload_folder = 'C:/Users/Python/Desktop/LocalData/filtered/' #adjust to output of Import/Filter notebook\n",
    "folder = 'C:/Users/Python/Desktop/Dryad/waveform_metrics/' # adjust to location of downloaded metrics folders\n",
    "\n",
    "PTRe = []\n",
    "PTRi = []\n",
    "duratione = []\n",
    "durationi = []\n",
    "\n",
    "for m, session in zip(mice,sessions):\n",
    "    \n",
    "    seshcount = 1 \n",
    "    \n",
    "    for s in session:\n",
    "        d = data[m][s]\n",
    "        \n",
    "        #load in session data & waveform metrics data\n",
    "        rawdata_file = 'RAW_' + m + '_' + s + '.npy'\n",
    "        raw = np.load(dataload_folder + rawdata_file, allow_pickle=True)\n",
    "        cell_IDs = raw.item().get('cellsfil')\n",
    " \n",
    "        file_name = m + '_' + str(seshcount) + '_metrics.csv'\n",
    "        metrics = pd.read_csv(folder + file_name)\n",
    "        \n",
    "        # load waveform parameters of interest for good cells only, drop rows w/ NaN, standardize for kmeans clustering\n",
    "        gcmetrics = metrics[metrics['cluster_id'].isin(list(cell_IDs))]\n",
    "        duration = np.asarray(gcmetrics['duration'])\n",
    "        PTR = np.asarray(gcmetrics['PT_ratio'])\n",
    "        halfwidth = np.asarray(gcmetrics['halfwidth'])\n",
    "        recslope = np.asarray(gcmetrics['recovery_slope'])\n",
    "        firingrate = np.asarray(gcmetrics['firing_rate'])\n",
    "        \n",
    "        #get file name & load int file\n",
    "        intn_file = 'intn_' + m + '_' + s + '.npy'\n",
    "        d['intn'] = np.load(load_folder + intn_file, allow_pickle = True)\n",
    "        intn = d['intn'].astype(bool)\n",
    "        \n",
    "        PTRe = np.append(PTRe, PTR[~intn])\n",
    "        PTRi = np.append(PTRi, PTR[intn])\n",
    "        duratione = np.append(duratione, duration[~intn])\n",
    "        durationi = np.append(durationi, duration[intn])\n",
    "        \n",
    "        seshcount += 1"
   ]
  },
  {
   "cell_type": "code",
   "execution_count": 49,
   "id": "e0a26cf4",
   "metadata": {},
   "outputs": [],
   "source": [
    "'''Get Indices of Stored Session, Animal Data Mice by Age Group'''\n",
    "age_ind = []\n",
    "ma_ind = []\n",
    "y_ind = []\n",
    "age_sind = []\n",
    "ma_sind = []\n",
    "y_sind = []\n",
    "\n",
    "s_count = 0\n",
    "for m, s in zip(mice, sessions):\n",
    "    start = s_count\n",
    "    end = len(s) + s_count\n",
    "\n",
    "    if m in all_aged_mice:\n",
    "        age_ind = np.append(age_ind, (np.where(mice == m)[0]))\n",
    "        age_sind = np.append(age_sind, np.arange(start, end, 1))\n",
    "    elif m in all_MA_mice:\n",
    "        ma_ind = np.append(ma_ind, (np.where(mice == m)[0]))\n",
    "        ma_sind = np.append(ma_sind, np.arange(start, end, 1))\n",
    "    else:\n",
    "        y_ind = np.append(y_ind, (np.where(mice == m)[0]))\n",
    "        y_sind = np.append(y_sind, np.arange(start, end, 1))\n",
    "                            \n",
    "    s_count += len(s)\n",
    "    \n",
    "age_ind = age_ind.astype(int)\n",
    "ma_ind = ma_ind.astype(int)\n",
    "y_ind = y_ind.astype(int)\n",
    "age_sind = age_sind.astype(int)\n",
    "ma_sind = ma_sind.astype(int)\n",
    "y_sind = y_sind.astype(int)"
   ]
  },
  {
   "cell_type": "code",
   "execution_count": 50,
   "id": "845f9d08",
   "metadata": {},
   "outputs": [],
   "source": [
    "''' Define ColorMaps for Session & Animal Boxplots '''\n",
    "import matplotlib.pylab as pl\n",
    "import matplotlib.lines as mlines\n",
    "\n",
    "col_animal_old = pl.cm.Oranges([np.linspace(0.2,0.9,17)])\n",
    "col_animal_MA = pl.cm.Greens([np.linspace(0.2,0.9,10)])\n",
    "col_animal_young = pl.cm.Blues([np.linspace(0.2,0.9,18)])\n",
    "col_animal = [col_animal_young, col_animal_MA, col_animal_old]\n",
    "\n",
    "col_session_young = []\n",
    "col_session_MA = []\n",
    "col_session_old = []\n",
    "\n",
    "for m, session in zip(mice, sessions):\n",
    "    for s in range(0,len(session)):\n",
    "        \n",
    "        if m in all_aged_mice:\n",
    "            idx = np.where(all_aged_mice == m)[0][0] \n",
    "            col_session_old.append(col_animal[2][0][idx])           \n",
    "        elif m in all_MA_mice:\n",
    "            idx = np.where(all_MA_mice == m)[0][0]\n",
    "            col_session_MA.append(col_animal[1][0][idx])\n",
    "        else:\n",
    "            idx = np.where(all_young_mice == m)[0][0]\n",
    "            col_session_young.append(col_animal[0][0][idx])\n",
    "\n",
    "col_session = [col_session_young, col_session_MA, col_session_old]\n",
    "label_mice = ['Y2','Y3','Y4','Y11','Y16','Y17','Y18','Y19','Y9', 'Y20', 'Y21', 'Y22', 'Y23', 'Y24', 'Y25', 'Y26', 'Y27', 'Y28',\n",
    "            'MA1F', 'MA2F', 'MA3M', 'MA4M', 'MA5M', 'MA6M', 'MA7M', 'MA8F', 'MA9F','MA10F',\"\",\"\",\"\",\"\",\"\",\"\",\"\",\n",
    "            'A3','A4','A5','A6','A7','A12','A13','A14', 'A15', 'A16', 'A17', 'A18', 'A19', 'A20', 'A22', 'A23', 'A24']"
   ]
  },
  {
   "cell_type": "markdown",
   "id": "040fa62a",
   "metadata": {},
   "source": [
    "# Examine interneuron density & waveform properties (Figure S6B-D).\n",
    "\n",
    "Please note you will have had to previously run Shuffle Procedure & Interneuron Classification notebook, which generates the interneuron boolean loaded below and plots Figure S6A."
   ]
  },
  {
   "cell_type": "code",
   "execution_count": 18,
   "id": "38a5e88a",
   "metadata": {},
   "outputs": [
    {
     "name": "stdout",
     "output_type": "stream",
     "text": [
      "\n",
      "n EXC cells, IN cells: \n",
      "49193 15123\n",
      "\n",
      "mean, sem excitatory cell waveform duration:\n",
      "0.5806928618695164 0.0005398911083749179\n",
      "mean, sem IN cell waveform duration:\n",
      "0.24317216327811325 0.0004770471659317089\n",
      "stat = 185.94645996738723\n",
      "p_cells = 0.0\n"
     ]
    },
    {
     "data": {
      "image/png": "[encoded data removed]",
      "text/plain": [
       "<Figure size 125x125 with 1 Axes>"
      ]
     },
     "metadata": {},
     "output_type": "display_data"
    },
    {
     "name": "stdout",
     "output_type": "stream",
     "text": [
      "\n",
      "mean, sem excitatory cell waveform PTR:\n",
      "0.44453274345353794 0.0009823209778073623\n",
      "mean, sem IN waveform PTR:\n",
      "0.6245140087498517 0.0033966498250377793\n",
      "stat = -91.18738056878496\n",
      "p_cells = 0.0\n"
     ]
    },
    {
     "data": {
      "image/png": "[encoded data removed]",
      "text/plain": [
       "<Figure size 125x125 with 1 Axes>"
      ]
     },
     "metadata": {},
     "output_type": "display_data"
    }
   ],
   "source": [
    "''' For putative interneurons vs. excitatory cells, plot distribution of waveform durations & peak/trough ratios (Figure S6B/C) '''\n",
    "save_folder = 'C:/Users/Python/Desktop/LocalData/intnspeedcells/'\n",
    "\n",
    "colors = ['#9DE4E5','#97DD43']\n",
    "\n",
    "#STATS\n",
    "print('\\nn EXC cells, IN cells: ')\n",
    "print(len(duratione), len(durationi))\n",
    "\n",
    "#duration EXC vs. IN\n",
    "print('\\nmean, sem excitatory cell waveform duration:')\n",
    "print(np.nanmean(duratione), stats.sem(duratione, nan_policy = 'omit')) \n",
    "print('mean, sem IN cell waveform duration:')\n",
    "print(np.nanmean(durationi), stats.sem(durationi, nan_policy = 'omit')) \n",
    "stat, p_diff = stats.ranksums(duratione, durationi)\n",
    "print('stat = '+ str(stat))\n",
    "print('p_cells = ' + str(p_diff))\n",
    "\n",
    "# Figure S6b\n",
    "fig, ax = plt.subplots(figsize = (1.25,1.25))\n",
    "bins = np.arange(0,1,0.025)\n",
    "\n",
    "#excitatory cells\n",
    "bscore, bin_edges = np.histogram(duratione, bins = bins)\n",
    "pdf = bscore / sum(bscore)\n",
    "\n",
    "ax.plot(bin_edges[1:], pdf, linewidth = 0.75, color = colors[1])\n",
    "\n",
    "#inhibitory cells\n",
    "score, bin_edges = np.histogram(durationi, bins = bins)\n",
    "pdf = score / sum(score)\n",
    "\n",
    "ax.plot(bin_edges[1:], pdf, linewidth = 0.75, color = colors[0])\n",
    "\n",
    "#format plot\n",
    "ax.set_ylabel('Probability', fontsize = 9)\n",
    "ax.set_xlabel('Duration (ms)', fontsize = 9)\n",
    "ax.set_xlim([0,1])\n",
    "ax.set_xticks([0,0.2,0.4,0.6,0.8,1])\n",
    "ax.set_ylim([0,0.2])\n",
    "ax.tick_params(labelsize = 8)\n",
    "ax.vlines(0.35,0,ax.get_ylim()[1],linewidth = 0.75, color = 'k', linestyles = '--')\n",
    "\n",
    "#plt.savefig(save_folder + 'waveformduration.png', dpi=400, bbox_inches='tight')\n",
    "#plt.savefig(save_folder + 'waveformduration.svg', dpi=400, bbox_inches='tight')\n",
    "plt.show()\n",
    "\n",
    "#STATS\n",
    "#PTR EXC vs. IN\n",
    "print('\\nmean, sem excitatory cell waveform PTR:')\n",
    "print(np.nanmean(PTRe), stats.sem(PTRe, nan_policy = 'omit')) \n",
    "print('mean, sem IN waveform PTR:')\n",
    "print(np.nanmean(PTRi), stats.sem(PTRi, nan_policy = 'omit')) \n",
    "stat, p_diff = stats.ranksums(PTRe, PTRi)\n",
    "print('stat = '+ str(stat))\n",
    "print('p_cells = ' + str(p_diff))\n",
    "\n",
    "# Plot Figure S6c\n",
    "fig, ax = plt.subplots(figsize = (1.25,1.25))\n",
    "bins = np.arange(0,1.5,0.025)\n",
    "\n",
    "#excitatory cells\n",
    "bscore, bin_edges = np.histogram(PTRe, bins = bins)\n",
    "pdf = bscore / sum(bscore)\n",
    "\n",
    "ax.plot(bin_edges[1:], pdf, linewidth = 0.75, color = colors[1])\n",
    "\n",
    "#inhibitory cells\n",
    "score, bin_edges = np.histogram(PTRi, bins = bins)\n",
    "pdf = score / sum(score)\n",
    "\n",
    "ax.plot(bin_edges[1:], pdf, linewidth = 0.75, color = colors[0])\n",
    "\n",
    "#format plot\n",
    "ax.set_ylabel('Probability', fontsize = 9)\n",
    "ax.set_xlabel('Peak:Trough', fontsize = 9)\n",
    "ax.set_xlim([0,1.5])\n",
    "ax.set_xticks([0,0.5,1.0,1.5])\n",
    "ax.set_ylim([0,0.15])\n",
    "ax.tick_params(labelsize = 8)\n",
    "#plt.savefig(save_folder + 'waveformPTR.png', dpi=400, bbox_inches='tight')\n",
    "#plt.savefig(save_folder + 'waveformPTR.svg', dpi=400, bbox_inches='tight')\n",
    "plt.show()\n"
   ]
  },
  {
   "cell_type": "code",
   "execution_count": 21,
   "id": "7c5c6d76",
   "metadata": {},
   "outputs": [
    {
     "name": "stderr",
     "output_type": "stream",
     "text": [
      "C:\\Users\\Python\\anaconda3\\envs\\agingmec\\lib\\site-packages\\numpy\\core\\fromnumeric.py:3464: RuntimeWarning: Mean of empty slice.\n",
      "  return _methods._mean(a, axis=axis, dtype=dtype,\n",
      "C:\\Users\\Python\\anaconda3\\envs\\agingmec\\lib\\site-packages\\numpy\\core\\_methods.py:192: RuntimeWarning: invalid value encountered in scalar divide\n",
      "  ret = ret.dtype.type(ret / rcount)\n",
      "C:\\Users\\Python\\AppData\\Local\\Temp\\ipykernel_23344\\3692251035.py:72: RuntimeWarning: Mean of empty slice\n",
      "  swidth = np.append(swidth, np.nanmean(halfwidth[intn]))\n"
     ]
    }
   ],
   "source": [
    "''' Gather Session Average IN Waveform Properties by Age Group '''\n",
    "\n",
    "load_folder = 'C:/Users/Python/Desktop/LocalData/intnspeedcells/' # adjust to output of Shuffle Procedure notebook\n",
    "dataload_folder = 'C:/Users/Python/Desktop/LocalData/filtered/' #adjust to output of Import/Filter notebook\n",
    "folder = 'C:/Users/Python/Desktop/Dryad/waveform_metrics/' # adjust to location of downloaded metrics folders\n",
    "\n",
    "# pooling arrays\n",
    "PTRa = []\n",
    "PTRma = []\n",
    "PTRy = []\n",
    "FRa = []\n",
    "FRma = []\n",
    "FRy = []\n",
    "widtha = []\n",
    "widthma = []\n",
    "widthy = []\n",
    "durationa = []\n",
    "durationma = []\n",
    "durationy = []\n",
    "\n",
    "#session arrays\n",
    "sPTR = []\n",
    "sFR = []\n",
    "sduration = []\n",
    "swidth = []\n",
    "sint = []\n",
    "mint = []\n",
    "\n",
    "allwidth = []\n",
    "allduration = []\n",
    "\n",
    "for m, session in zip(mice,sessions):\n",
    "    \n",
    "    seshcount = 1 #should actually be 1 \n",
    "    ints = []\n",
    "    cells = []\n",
    "    widths = []\n",
    "    durations = []\n",
    "    \n",
    "    for s in session:\n",
    "        d = data[m][s]\n",
    "        rawdata_file = 'RAW_' + m + '_' + s + '.npy'\n",
    "        raw = np.load(dataload_folder + rawdata_file, allow_pickle=True)\n",
    "        \n",
    "        metric_file_name = m + '_' + str(seshcount) + '_metrics.csv'\n",
    "        cell_IDs = raw.item().get('cellsfil')\n",
    "        \n",
    "        # load waveform parameters of interest for good cells only\n",
    "        metrics = pd.read_csv(folder + metric_file_name)\n",
    "        gcmetrics = metrics[metrics['cluster_id'].isin(list(cell_IDs))]\n",
    "        duration = np.asarray(gcmetrics['duration'])\n",
    "        PTR = np.asarray(gcmetrics['PT_ratio'])\n",
    "        halfwidth = np.asarray(gcmetrics['halfwidth'])\n",
    "        recslope = np.asarray(gcmetrics['recovery_slope'])\n",
    "        firingrate = np.asarray(gcmetrics['firing_rate'])\n",
    "        \n",
    "        #get file name & load int file\n",
    "        intn_file = 'intn_' + m + '_' + s + '.npy'\n",
    "        d['intn'] = np.load(load_folder + intn_file, allow_pickle = True)\n",
    "        intn = d['intn'].astype(bool)\n",
    "        \n",
    "        #collect data to be pooled across animals\n",
    "        ints = np.append(ints, np.sum(intn))\n",
    "        cells = np.append(cells, len(cell_IDs))\n",
    "        widths = np.append(widths, halfwidth[intn])\n",
    "        durations = np.append(durations, duration[intn])\n",
    "        \n",
    "        #save out session values\n",
    "        sint = np.append(sint, 100*np.sum(intn)/len(cell_IDs))\n",
    "        sPTR = np.append(sPTR, np.mean(PTR[intn]))\n",
    "        sFR = np.append(sFR, np.mean(firingrate[intn]))\n",
    "        swidth = np.append(swidth, np.nanmean(halfwidth[intn]))\n",
    "        sduration = np.append(sduration, np.mean(duration[intn]))\n",
    "        \n",
    "        #collect data to be pooled across all sessions, animals in age groups\n",
    "        if m in all_aged_mice:\n",
    "            PTRa = np.append(PTRa, PTR[intn])\n",
    "            FRa = np.append(FRa, firingrate[intn])\n",
    "            widtha = np.append(widtha, halfwidth[intn])\n",
    "            durationa = np.append(durationa, duration[intn])\n",
    "        elif m in all_MA_mice:\n",
    "            PTRma = np.append(PTRma, PTR[intn])\n",
    "            FRma = np.append(FRma, firingrate[intn])\n",
    "            widthma = np.append(widthma, halfwidth[intn])\n",
    "            durationma = np.append(durationma, duration[intn])\n",
    "        else:\n",
    "            PTRy = np.append(PTRy, PTR[intn])\n",
    "            FRy = np.append(FRy, firingrate[intn])\n",
    "            widthy = np.append(widthy, halfwidth[intn])\n",
    "            durationy = np.append(durationy, duration[intn])\n",
    "            \n",
    "        seshcount += 1\n",
    "        \n",
    "    mint = np.append(mint, (100* np.sum(ints) / np.sum(cells)))\n",
    "    allwidth = np.append(allwidth, widths)\n",
    "    allduration = np.append(allduration, durations)"
   ]
  },
  {
   "cell_type": "code",
   "execution_count": 22,
   "id": "0ab4c175",
   "metadata": {},
   "outputs": [],
   "source": [
    "''' Find where I will have NaNs due to 0% INs in a given session'''\n",
    "nan_idx = np.where((sint == 0))[0]\n",
    "\n",
    "# Adjust y_sind, ma_sind, age_sind for subsequent plots\n",
    "y_sindIN = np.setdiff1d(y_sind, nan_idx)\n",
    "ma_sindIN = np.setdiff1d(ma_sind, nan_idx)\n",
    "age_sindIN = np.setdiff1d(age_sind, nan_idx)\n",
    "\n",
    "# Adjust colormaps for all thresholds\n",
    "yidx = []\n",
    "maidx = []\n",
    "aidx = []\n",
    "for i in nan_idx:\n",
    "    yidx = np.append(yidx, np.where(y_sind == i)[0].astype(int))\n",
    "    maidx = np.append(maidx, np.where(ma_sind == i)[0].astype(int))\n",
    "    aidx = np.append(aidx, np.where(age_sind == i)[0].astype(int))\n",
    "    \n",
    "col_session_youngIN = np.delete(col_session_young, list(yidx.astype(int)), axis = 0)\n",
    "col_session_maIN = np.delete(col_session_MA, list(maidx.astype(int)), axis = 0)\n",
    "col_session_oldIN = np.delete(col_session_old, list(aidx.astype(int)), axis = 0)\n",
    "col_sessionIN = [col_session_youngIN, col_session_maIN, col_session_oldIN]      \n",
    "\n",
    "# This will fix how session stats & box plots are plotted, ensuring color schemes are adjusted."
   ]
  },
  {
   "cell_type": "code",
   "execution_count": 25,
   "id": "4878eeaa",
   "metadata": {},
   "outputs": [
    {
     "data": {
      "image/png": "[encoded data removed]",
      "text/plain": [
       "<Figure size 125x125 with 1 Axes>"
      ]
     },
     "metadata": {},
     "output_type": "display_data"
    },
    {
     "data": {
      "image/png": "[encoded data removed]",
      "text/plain": [
       "<Figure size 125x125 with 1 Axes>"
      ]
     },
     "metadata": {},
     "output_type": "display_data"
    },
    {
     "data": {
      "image/png": "[encoded data removed]",
      "text/plain": [
       "<Figure size 125x125 with 1 Axes>"
      ]
     },
     "metadata": {},
     "output_type": "display_data"
    },
    {
     "data": {
      "image/png": "[encoded data removed]",
      "text/plain": [
       "<Figure size 125x125 with 1 Axes>"
      ]
     },
     "metadata": {},
     "output_type": "display_data"
    },
    {
     "data": {
      "image/png": "[encoded data removed]",
      "text/plain": [
       "<Figure size 125x125 with 1 Axes>"
      ]
     },
     "metadata": {},
     "output_type": "display_data"
    }
   ],
   "source": [
    "''' Plot Figure S6D Panels (IN Density & Waveform Properties) '''\n",
    "\n",
    "# set up handles\n",
    "from itertools import repeat\n",
    "handles = []\n",
    "percint = [mint[y_ind], mint[ma_ind], mint[age_ind]]\n",
    "for i in range(len(percint)):\n",
    "    for c in col_animal[i][0]:\n",
    "        dot = mlines.Line2D([],[], color = c, marker ='o', linestyle = 'None', markersize = 8)\n",
    "        handles.append(dot)\n",
    "        if c[0] == col_animal[1][0][9][0]: # adds white space so columns are color sorted\n",
    "            l = mlines.Line2D([0],[0],color=\"w\")\n",
    "            handles.extend(repeat(l,7))\n",
    "\n",
    "#Plot Figure S6d (first)\n",
    "fig, ax = plt.subplots(figsize = (1.25,1.25))\n",
    "percint = [sint[y_sind], sint[ma_sind], sint[age_sind]]\n",
    "labels = ['Young','MA','Aged']\n",
    "w = 0.5\n",
    "plt.boxplot(percint, widths = w, labels = labels, medianprops = dict(color = 'black'))\n",
    "\n",
    "for i in range(len(percint)):\n",
    "    y = percint[i]\n",
    "    x = np.random.normal(i + 1, 0.04, len(y))\n",
    "    plt.scatter(x, y, color = col_session[i][:len(y)], edgecolors = col_session[i][:len(y)], s = 10)\n",
    "            \n",
    "#ax.legend(ncol = 3, handles = handles, labels = label_mice, loc = 'upper right',bbox_to_anchor=(1.8, 1))\n",
    "ax.set_xlabel('Age', fontsize=9, labelpad=1)\n",
    "ax.set_ylabel('% INs', fontsize = 9, labelpad=1)\n",
    "ax.tick_params(labelsize = 8)\n",
    "ax.set_ylim([0,70])\n",
    "ax.set_yticks([0,10,20,30,40,50,60,70])\n",
    "#plt.savefig(save_folder + 'age_percint_session.png', dpi=400, bbox_inches='tight')\n",
    "#plt.savefig(save_folder + 'age_percint_session.svg', dpi=400, bbox_inches='tight')\n",
    "plt.show()\n",
    "\n",
    "#Plot Figure S6D (second)\n",
    "fig, ax = plt.subplots(figsize = (1.25,1.25))\n",
    "intdur = [sduration[y_sindIN], sduration[ma_sindIN], sduration[age_sindIN]]\n",
    "labels = ['Young','MA','Aged']\n",
    "w = 0.5\n",
    "plt.boxplot(intdur, widths = w, labels = labels, medianprops = dict(color = 'black'))\n",
    "\n",
    "for i in range(len(intdur)):\n",
    "    y = intdur[i]\n",
    "    x = np.random.normal(i + 1, 0.04, len(y))\n",
    "    plt.scatter(x, y, color = col_sessionIN[i], edgecolors = col_sessionIN[i], s = 10)\n",
    "            \n",
    "#ax.legend(ncol = 3, handles = handles, labels = label_mice, loc = 'upper right',bbox_to_anchor=(1.8, 1))\n",
    "ax.set_xlabel('Age', fontsize=9, labelpad=1)\n",
    "ax.set_ylabel('Mean Duration (ms)', fontsize = 9, labelpad=1)\n",
    "ax.tick_params(labelsize = 8)\n",
    "ax.set_ylim([0.15,0.35])\n",
    "ax.set_yticks([0.15,0.20,0.25,0.30,0.35])\n",
    "#plt.savefig(save_folder + 'age_intduration_session.png', dpi=400, bbox_inches='tight')\n",
    "#plt.savefig(save_folder + 'age_intduration_session.svg', dpi=400, bbox_inches='tight')\n",
    "plt.show()\n",
    "\n",
    "#Plot Figure S6D (middle)\n",
    "fig, ax = plt.subplots(figsize = (1.25,1.25))\n",
    "intPTR = [sPTR[y_sindIN], sPTR[ma_sindIN], sPTR[age_sindIN]]\n",
    "plt.boxplot(intPTR, widths = w, labels = labels, medianprops = dict(color = 'black'))\n",
    "\n",
    "for i in range(len(intPTR)):\n",
    "    y = intPTR[i]\n",
    "    x = np.random.normal(i + 1, 0.04, len(y))\n",
    "    plt.scatter(x, y, color = col_sessionIN[i], edgecolors = col_sessionIN[i], s = 10)\n",
    "            \n",
    "#ax.legend(ncol = 3, handles = handles, labels = label_mice, loc = 'upper right',bbox_to_anchor=(1.8, 1))\n",
    "ax.set_xlabel('Age', fontsize=9, labelpad=1)\n",
    "ax.set_ylabel('Mean Peak:Trough', fontsize = 9, labelpad=1)\n",
    "ax.tick_params(labelsize = 8)\n",
    "ax.set_ylim([0.25, 1.50])\n",
    "ax.set_yticks([0.25,0.50,0.75,1.0,1.25,1.50])\n",
    "#plt.savefig(save_folder + 'age_intPTR_session.png', dpi=400, bbox_inches='tight')\n",
    "#plt.savefig(save_folder + 'age_intPTR_session.svg', dpi=400, bbox_inches='tight')\n",
    "plt.show()\n",
    "\n",
    "#Plot Figure S6D (fourth)\n",
    "fig, ax = plt.subplots(figsize = (1.25,1.25))\n",
    "intwidth = [swidth[y_sindIN], swidth[ma_sindIN], swidth[age_sindIN]]\n",
    "plt.boxplot(intwidth, widths = w, labels = labels, medianprops = dict(color = 'black'))\n",
    "\n",
    "for i in range(len(intwidth)):\n",
    "    y = intwidth[i]\n",
    "    x = np.random.normal(i + 1, 0.04, len(y))\n",
    "    plt.scatter(x, y, color = col_sessionIN[i], edgecolors = col_sessionIN[i], s = 10)\n",
    "            \n",
    "#ax.legend(ncol = 3, handles = handles, labels = label_mice, loc = 'upper right',bbox_to_anchor=(1.8, 1))\n",
    "ax.set_xlabel('Age', fontsize=9, labelpad=1)\n",
    "ax.set_ylabel('Mean Width (ms)', fontsize = 9, labelpad=1)\n",
    "ax.tick_params(labelsize = 8)\n",
    "ax.set_ylim([0.10,0.25])\n",
    "ax.set_yticks([0.10,0.15,0.20,0.25])\n",
    "#plt.savefig(save_folder + 'age_intwidth_session.png', dpi=400, bbox_inches='tight')\n",
    "#plt.savefig(save_folder + 'age_intwidth_session.svg', dpi=400, bbox_inches='tight')\n",
    "plt.show()\n",
    "\n",
    "#Plot Figure S6D (last)\n",
    "fig, ax = plt.subplots(figsize = (1.25,1.25))\n",
    "intFR = [sFR[y_sindIN], sFR[ma_sindIN], sFR[age_sindIN]]\n",
    "plt.boxplot(intFR, widths = w, labels = labels, medianprops = dict(color = 'black'))\n",
    "\n",
    "for i in range(len(intFR)):\n",
    "    y = intFR[i]\n",
    "    x = np.random.normal(i + 1, 0.04, len(y))\n",
    "    plt.scatter(x, y, color = col_sessionIN[i], edgecolors = col_sessionIN[i], s = 10)\n",
    "            \n",
    "#ax.legend(ncol = 3, handles = handles, labels = label_mice, loc = 'upper right',bbox_to_anchor=(1.8, 1))\n",
    "ax.set_xlabel('Age', fontsize=9, labelpad=1)\n",
    "ax.set_ylabel('Mean FR (Hz)', fontsize = 9, labelpad=1)\n",
    "ax.tick_params(labelsize = 8)\n",
    "ax.set_ylim([0,30])\n",
    "ax.set_yticks([0,10,20,30])\n",
    "#plt.savefig(save_folder + 'age_meanintFR_session.png', dpi=400, bbox_inches='tight')\n",
    "#plt.savefig(save_folder + 'age_meanintFR_session.svg', dpi=400, bbox_inches='tight')\n",
    "plt.show()"
   ]
  },
  {
   "cell_type": "code",
   "execution_count": 32,
   "id": "6b5458f2",
   "metadata": {},
   "outputs": [
    {
     "name": "stdout",
     "output_type": "stream",
     "text": [
      "n young, MA, aged sessions: \n",
      "98 58 97\n",
      "\n",
      "%intyoung ± SEM; %int_MA ± SEM; %int_old ± SEM\n",
      "21.2188 ± 0.9206 ; 27.3493 ± 0.8074 ; 26.2412 ± 0.8678\n",
      "KW stat = 39.214030539662346\n",
      "p_%intsession = 3.053384254495053e-09\n"
     ]
    },
    {
     "data": {
      "text/html": [
       "<div>\n",
       "<style scoped>\n",
       "    .dataframe tbody tr th:only-of-type {\n",
       "        vertical-align: middle;\n",
       "    }\n",
       "\n",
       "    .dataframe tbody tr th {\n",
       "        vertical-align: top;\n",
       "    }\n",
       "\n",
       "    .dataframe thead th {\n",
       "        text-align: right;\n",
       "    }\n",
       "</style>\n",
       "<table border=\"1\" class=\"dataframe\">\n",
       "  <thead>\n",
       "    <tr style=\"text-align: right;\">\n",
       "      <th></th>\n",
       "      <th>1.0</th>\n",
       "      <th>2.0</th>\n",
       "      <th>3.0</th>\n",
       "    </tr>\n",
       "  </thead>\n",
       "  <tbody>\n",
       "    <tr>\n",
       "      <th>1.0</th>\n",
       "      <td>1.000000e+00</td>\n",
       "      <td>1.182298e-08</td>\n",
       "      <td>4.928001e-07</td>\n",
       "    </tr>\n",
       "    <tr>\n",
       "      <th>2.0</th>\n",
       "      <td>1.182298e-08</td>\n",
       "      <td>1.000000e+00</td>\n",
       "      <td>1.316514e-01</td>\n",
       "    </tr>\n",
       "    <tr>\n",
       "      <th>3.0</th>\n",
       "      <td>4.928001e-07</td>\n",
       "      <td>1.316514e-01</td>\n",
       "      <td>1.000000e+00</td>\n",
       "    </tr>\n",
       "  </tbody>\n",
       "</table>\n",
       "</div>"
      ],
      "text/plain": [
       "              1.0           2.0           3.0\n",
       "1.0  1.000000e+00  1.182298e-08  4.928001e-07\n",
       "2.0  1.182298e-08  1.000000e+00  1.316514e-01\n",
       "3.0  4.928001e-07  1.316514e-01  1.000000e+00"
      ]
     },
     "execution_count": 32,
     "metadata": {},
     "output_type": "execute_result"
    }
   ],
   "source": [
    "'''Statistics for Multiple Comparisons for IN Density (Figure S6D (first))'''\n",
    "\n",
    "print('n young, MA, aged sessions: ')\n",
    "print(len(y_sind),len(ma_sind), len(age_sind))\n",
    "\n",
    "print('\\n%intyoung ± SEM; %int_MA ± SEM; %int_old ± SEM')\n",
    "print(str(np.round(np.mean(sint[y_sind]), 4)) + ' ± ' + str(np.round(stats.sem(sint[y_sind]), 4)) + ' ; ' \n",
    "      + str(np.round(np.mean(sint[ma_sind]), 4)) + ' ± ' + str(np.round(stats.sem(sint[ma_sind]), 4)) + ' ; ' \n",
    "      + str(np.round(np.mean(sint[age_sind]), 4)) + ' ± ' + str(np.round(stats.sem(sint[age_sind]), 4)))\n",
    "\n",
    "stat, p_diff = stats.kruskal(sint[y_sind],sint[ma_sind],sint[age_sind])\n",
    "print('KW stat = ' + str(stat))\n",
    "print('p_%intsession = ' + str(p_diff))\n",
    "\n",
    "import statsmodels.api as sm\n",
    "import scikit_posthocs as ph\n",
    "\n",
    "#make into dataframe\n",
    "seshmice = []\n",
    "seshcount = []\n",
    "seshage = []\n",
    "for m, session in zip(mice, sessions):\n",
    "    age =  np.array(animalmeta.loc[(animalmeta.Animal_ID == m),'Age_Group'])\n",
    "    totalsesh = len(session)\n",
    "    \n",
    "    for i, s in enumerate(session):\n",
    "        seshmice = np.append(seshmice, m)\n",
    "        seshcount = np.append(seshcount, (i + 1))\n",
    "        seshage = np.append(seshage, age)\n",
    "\n",
    "# Collect all relevant data into pandas dataframe\n",
    "allidx = np.concatenate((y_sind,ma_sind,age_sind))\n",
    "Animal_ID = list(seshmice[allidx])\n",
    "Session = list(seshcount[allidx])\n",
    "Age_Group = list(seshage[allidx])\n",
    "Percentint = list(sint[allidx])\n",
    "\n",
    "tuples = list(zip(Animal_ID, Session, Age_Group, Percentint))\n",
    "tuples\n",
    "\n",
    "df = pd.DataFrame(tuples, columns = ['AnimalID', 'Session', 'AgeGroup','percentint'])\n",
    "df = df.dropna(axis = 0)\n",
    "\n",
    "#run post hoc tests\n",
    "ph.posthoc_conover(df, val_col = 'percentint', group_col = 'AgeGroup', p_adjust = 'holm')"
   ]
  },
  {
   "cell_type": "code",
   "execution_count": 33,
   "id": "a10768fc",
   "metadata": {},
   "outputs": [
    {
     "name": "stdout",
     "output_type": "stream",
     "text": [
      "\n",
      "n young, MA, aged w/ INs: \n",
      "97 58 97\n",
      "\n",
      "Durationyoung ± SEM; Duration_MA ± SEM; Duration_old ± SEM\n",
      "0.2481 ± 0.0018 ; 0.2406 ± 0.0019 ; 0.2402 ± 0.0016\n",
      "KW stat = 22.58872170239936\n",
      "p_durationsession = 1.2442894122603834e-05\n"
     ]
    },
    {
     "data": {
      "text/html": [
       "<div>\n",
       "<style scoped>\n",
       "    .dataframe tbody tr th:only-of-type {\n",
       "        vertical-align: middle;\n",
       "    }\n",
       "\n",
       "    .dataframe tbody tr th {\n",
       "        vertical-align: top;\n",
       "    }\n",
       "\n",
       "    .dataframe thead th {\n",
       "        text-align: right;\n",
       "    }\n",
       "</style>\n",
       "<table border=\"1\" class=\"dataframe\">\n",
       "  <thead>\n",
       "    <tr style=\"text-align: right;\">\n",
       "      <th></th>\n",
       "      <th>1.0</th>\n",
       "      <th>2.0</th>\n",
       "      <th>3.0</th>\n",
       "    </tr>\n",
       "  </thead>\n",
       "  <tbody>\n",
       "    <tr>\n",
       "      <th>1.0</th>\n",
       "      <td>1.000000</td>\n",
       "      <td>0.000136</td>\n",
       "      <td>0.000063</td>\n",
       "    </tr>\n",
       "    <tr>\n",
       "      <th>2.0</th>\n",
       "      <td>0.000136</td>\n",
       "      <td>1.000000</td>\n",
       "      <td>0.764698</td>\n",
       "    </tr>\n",
       "    <tr>\n",
       "      <th>3.0</th>\n",
       "      <td>0.000063</td>\n",
       "      <td>0.764698</td>\n",
       "      <td>1.000000</td>\n",
       "    </tr>\n",
       "  </tbody>\n",
       "</table>\n",
       "</div>"
      ],
      "text/plain": [
       "          1.0       2.0       3.0\n",
       "1.0  1.000000  0.000136  0.000063\n",
       "2.0  0.000136  1.000000  0.764698\n",
       "3.0  0.000063  0.764698  1.000000"
      ]
     },
     "execution_count": 33,
     "metadata": {},
     "output_type": "execute_result"
    }
   ],
   "source": [
    "'''Statistics for Multiple Comparisons for IN Waveform Duration (Figure S6D (second))'''\n",
    "\n",
    "print('\\nn young, MA, aged w/ INs: ')\n",
    "print(len(y_sindIN),len(ma_sindIN), len(age_sindIN))\n",
    "\n",
    "print('\\nDurationyoung ± SEM; Duration_MA ± SEM; Duration_old ± SEM')\n",
    "print(str(np.round(np.mean(sduration[y_sindIN]), 4)) + ' ± ' + str(np.round(stats.sem(sduration[y_sindIN]), 4)) + ' ; ' \n",
    "      + str(np.round(np.mean(sduration[ma_sindIN]), 4)) + ' ± ' + str(np.round(stats.sem(sduration[ma_sindIN]), 4)) + ' ; ' \n",
    "      + str(np.round(np.mean(sduration[age_sindIN]), 4)) + ' ± ' + str(np.round(stats.sem(sduration[age_sindIN]), 4)))\n",
    "\n",
    "stat, p_diff = stats.kruskal(sduration[y_sindIN],sduration[ma_sindIN],sduration[age_sindIN])\n",
    "print('KW stat = ' + str(stat))\n",
    "print('p_durationsession = ' + str(p_diff))\n",
    "\n",
    "# Collect all relevant data into pandas dataframe\n",
    "allidx = np.concatenate((y_sindIN,ma_sindIN,age_sindIN))\n",
    "Animal_ID = list(seshmice[allidx])\n",
    "Session = list(seshcount[allidx])\n",
    "Age_Group = list(seshage[allidx])\n",
    "Duration = list(sduration[allidx])\n",
    "PTR = list(sPTR[allidx])\n",
    "Width = list(swidth[allidx])\n",
    "Meanfr = list(sFR[allidx])\n",
    "\n",
    "tuples = list(zip(Animal_ID, Session, Age_Group, Duration, PTR, Width, Meanfr))\n",
    "tuples\n",
    "\n",
    "df = pd.DataFrame(tuples, columns = ['AnimalID', 'Session', 'AgeGroup','duration','ptr','width', 'meanfr'])\n",
    "df = df.dropna(axis = 0)\n",
    "\n",
    "#run post hoc tests\n",
    "ph.posthoc_conover(df, val_col = 'duration', group_col = 'AgeGroup', p_adjust = 'holm')"
   ]
  },
  {
   "cell_type": "code",
   "execution_count": 34,
   "id": "6ec324b4",
   "metadata": {},
   "outputs": [
    {
     "name": "stdout",
     "output_type": "stream",
     "text": [
      "\n",
      "PTRyoung ± SEM; PTR_MA ± SEM; PTR_old ± SEM\n",
      "0.6281 ± 0.0121 ; 0.5905 ± 0.0083 ; 0.6166 ± 0.0079\n",
      "KW stat = 5.830669281773567\n",
      "p_PTRsession = 0.05418589518262913\n"
     ]
    },
    {
     "data": {
      "text/html": [
       "<div>\n",
       "<style scoped>\n",
       "    .dataframe tbody tr th:only-of-type {\n",
       "        vertical-align: middle;\n",
       "    }\n",
       "\n",
       "    .dataframe tbody tr th {\n",
       "        vertical-align: top;\n",
       "    }\n",
       "\n",
       "    .dataframe thead th {\n",
       "        text-align: right;\n",
       "    }\n",
       "</style>\n",
       "<table border=\"1\" class=\"dataframe\">\n",
       "  <thead>\n",
       "    <tr style=\"text-align: right;\">\n",
       "      <th></th>\n",
       "      <th>1.0</th>\n",
       "      <th>2.0</th>\n",
       "      <th>3.0</th>\n",
       "    </tr>\n",
       "  </thead>\n",
       "  <tbody>\n",
       "    <tr>\n",
       "      <th>1.0</th>\n",
       "      <td>1.000000</td>\n",
       "      <td>0.059076</td>\n",
       "      <td>0.66266</td>\n",
       "    </tr>\n",
       "    <tr>\n",
       "      <th>2.0</th>\n",
       "      <td>0.059076</td>\n",
       "      <td>1.000000</td>\n",
       "      <td>0.10001</td>\n",
       "    </tr>\n",
       "    <tr>\n",
       "      <th>3.0</th>\n",
       "      <td>0.662660</td>\n",
       "      <td>0.100010</td>\n",
       "      <td>1.00000</td>\n",
       "    </tr>\n",
       "  </tbody>\n",
       "</table>\n",
       "</div>"
      ],
      "text/plain": [
       "          1.0       2.0      3.0\n",
       "1.0  1.000000  0.059076  0.66266\n",
       "2.0  0.059076  1.000000  0.10001\n",
       "3.0  0.662660  0.100010  1.00000"
      ]
     },
     "execution_count": 34,
     "metadata": {},
     "output_type": "execute_result"
    }
   ],
   "source": [
    "'''Statistics for Multiple Comparisons for IN Waveform PTR (Figure S6D (middle))'''\n",
    "\n",
    "print('\\nPTRyoung ± SEM; PTR_MA ± SEM; PTR_old ± SEM')\n",
    "print(str(np.round(np.mean(sPTR[y_sindIN]), 4)) + ' ± ' + str(np.round(stats.sem(sPTR[y_sindIN]), 4)) + ' ; ' \n",
    "      + str(np.round(np.mean(sPTR[ma_sindIN]), 4)) + ' ± ' + str(np.round(stats.sem(sPTR[ma_sindIN]), 4)) + ' ; ' \n",
    "      + str(np.round(np.mean(sPTR[age_sindIN]), 4)) + ' ± ' + str(np.round(stats.sem(sPTR[age_sindIN]), 4)))\n",
    "\n",
    "stat, p_diff = stats.kruskal(sPTR[y_sindIN],sPTR[ma_sindIN],sPTR[age_sindIN])\n",
    "print('KW stat = ' + str(stat))\n",
    "print('p_PTRsession = ' + str(p_diff))\n",
    "\n",
    "#run post hoc tests\n",
    "ph.posthoc_conover(df, val_col = 'ptr', group_col = 'AgeGroup', p_adjust = 'holm')"
   ]
  },
  {
   "cell_type": "code",
   "execution_count": 35,
   "id": "27b452a6",
   "metadata": {},
   "outputs": [
    {
     "name": "stdout",
     "output_type": "stream",
     "text": [
      "\n",
      "Widthyoung ± SEM; Width_MA ± SEM; Width_old ± SEM\n",
      "0.1503 ± 0.0015 ; 0.1431 ± 0.0013 ; 0.1433 ± 0.0012\n",
      "KW stat = 21.48964678446369\n",
      "p_widthsession = 2.155671061950531e-05\n"
     ]
    },
    {
     "data": {
      "text/html": [
       "<div>\n",
       "<style scoped>\n",
       "    .dataframe tbody tr th:only-of-type {\n",
       "        vertical-align: middle;\n",
       "    }\n",
       "\n",
       "    .dataframe tbody tr th {\n",
       "        vertical-align: top;\n",
       "    }\n",
       "\n",
       "    .dataframe thead th {\n",
       "        text-align: right;\n",
       "    }\n",
       "</style>\n",
       "<table border=\"1\" class=\"dataframe\">\n",
       "  <thead>\n",
       "    <tr style=\"text-align: right;\">\n",
       "      <th></th>\n",
       "      <th>1.0</th>\n",
       "      <th>2.0</th>\n",
       "      <th>3.0</th>\n",
       "    </tr>\n",
       "  </thead>\n",
       "  <tbody>\n",
       "    <tr>\n",
       "      <th>1.0</th>\n",
       "      <td>1.000000</td>\n",
       "      <td>0.000147</td>\n",
       "      <td>0.000143</td>\n",
       "    </tr>\n",
       "    <tr>\n",
       "      <th>2.0</th>\n",
       "      <td>0.000147</td>\n",
       "      <td>1.000000</td>\n",
       "      <td>0.651504</td>\n",
       "    </tr>\n",
       "    <tr>\n",
       "      <th>3.0</th>\n",
       "      <td>0.000143</td>\n",
       "      <td>0.651504</td>\n",
       "      <td>1.000000</td>\n",
       "    </tr>\n",
       "  </tbody>\n",
       "</table>\n",
       "</div>"
      ],
      "text/plain": [
       "          1.0       2.0       3.0\n",
       "1.0  1.000000  0.000147  0.000143\n",
       "2.0  0.000147  1.000000  0.651504\n",
       "3.0  0.000143  0.651504  1.000000"
      ]
     },
     "execution_count": 35,
     "metadata": {},
     "output_type": "execute_result"
    }
   ],
   "source": [
    "'''Statistics for Multiple Comparisons for IN Waveform Width (Figure S6D (fourth))'''\n",
    "\n",
    "print('\\nWidthyoung ± SEM; Width_MA ± SEM; Width_old ± SEM')\n",
    "print(str(np.round(np.mean(swidth[y_sindIN]), 4)) + ' ± ' + str(np.round(stats.sem(swidth[y_sindIN]), 4)) + ' ; ' \n",
    "      + str(np.round(np.mean(swidth[ma_sindIN]), 4)) + ' ± ' + str(np.round(stats.sem(swidth[ma_sindIN]), 4)) + ' ; ' \n",
    "      + str(np.round(np.mean(swidth[age_sindIN]), 4)) + ' ± ' + str(np.round(stats.sem(swidth[age_sindIN]), 4)))\n",
    "\n",
    "stat, p_diff = stats.kruskal(swidth[y_sindIN],swidth[ma_sindIN],swidth[age_sindIN])\n",
    "print('KW stat = ' + str(stat))\n",
    "print('p_widthsession = ' + str(p_diff))\n",
    "\n",
    "#run post hoc tests\n",
    "ph.posthoc_conover(df, val_col = 'width', group_col = 'AgeGroup', p_adjust = 'holm')"
   ]
  },
  {
   "cell_type": "code",
   "execution_count": 36,
   "id": "7d16cab5",
   "metadata": {},
   "outputs": [
    {
     "name": "stdout",
     "output_type": "stream",
     "text": [
      "\n",
      "FRyoung ± SEM; FR_MA ± SEM; FR_old ± SEM\n",
      "9.0683 ± 0.4352 ; 11.4235 ± 0.424 ; 10.7849 ± 0.4427\n",
      "KW stat = 18.582582788134573\n",
      "p_FRsession = 9.222388596693254e-05\n"
     ]
    },
    {
     "data": {
      "text/html": [
       "<div>\n",
       "<style scoped>\n",
       "    .dataframe tbody tr th:only-of-type {\n",
       "        vertical-align: middle;\n",
       "    }\n",
       "\n",
       "    .dataframe tbody tr th {\n",
       "        vertical-align: top;\n",
       "    }\n",
       "\n",
       "    .dataframe thead th {\n",
       "        text-align: right;\n",
       "    }\n",
       "</style>\n",
       "<table border=\"1\" class=\"dataframe\">\n",
       "  <thead>\n",
       "    <tr style=\"text-align: right;\">\n",
       "      <th></th>\n",
       "      <th>1.0</th>\n",
       "      <th>2.0</th>\n",
       "      <th>3.0</th>\n",
       "    </tr>\n",
       "  </thead>\n",
       "  <tbody>\n",
       "    <tr>\n",
       "      <th>1.0</th>\n",
       "      <td>1.000000</td>\n",
       "      <td>0.000062</td>\n",
       "      <td>0.010702</td>\n",
       "    </tr>\n",
       "    <tr>\n",
       "      <th>2.0</th>\n",
       "      <td>0.000062</td>\n",
       "      <td>1.000000</td>\n",
       "      <td>0.057326</td>\n",
       "    </tr>\n",
       "    <tr>\n",
       "      <th>3.0</th>\n",
       "      <td>0.010702</td>\n",
       "      <td>0.057326</td>\n",
       "      <td>1.000000</td>\n",
       "    </tr>\n",
       "  </tbody>\n",
       "</table>\n",
       "</div>"
      ],
      "text/plain": [
       "          1.0       2.0       3.0\n",
       "1.0  1.000000  0.000062  0.010702\n",
       "2.0  0.000062  1.000000  0.057326\n",
       "3.0  0.010702  0.057326  1.000000"
      ]
     },
     "execution_count": 36,
     "metadata": {},
     "output_type": "execute_result"
    }
   ],
   "source": [
    "'''Statistics for Multiple Comparisons for IN Waveform Mean FR (Figure S6D (last))'''\n",
    "\n",
    "print('\\nFRyoung ± SEM; FR_MA ± SEM; FR_old ± SEM')\n",
    "print(str(np.round(np.mean(sFR[y_sindIN]), 4)) + ' ± ' + str(np.round(stats.sem(sFR[y_sindIN]), 4)) + ' ; ' \n",
    "      + str(np.round(np.mean(sFR[ma_sindIN]), 4)) + ' ± ' + str(np.round(stats.sem(sFR[ma_sindIN]), 4)) + ' ; ' \n",
    "      + str(np.round(np.mean(sFR[age_sindIN]), 4)) + ' ± ' + str(np.round(stats.sem(sFR[age_sindIN]), 4)))\n",
    "\n",
    "stat, p_diff = stats.kruskal(sFR[y_sindIN],sFR[ma_sindIN],sFR[age_sindIN])\n",
    "print('KW stat = ' + str(stat))\n",
    "print('p_FRsession = ' + str(p_diff))\n",
    "\n",
    "#run post hoc tests\n",
    "ph.posthoc_conover(df, val_col = 'meanfr', group_col = 'AgeGroup', p_adjust = 'holm')"
   ]
  },
  {
   "cell_type": "markdown",
   "id": "91b0cf73",
   "metadata": {},
   "source": [
    "# Classify speed-tuned interneurons, speed-only cells & speed-tuned grid cells. "
   ]
  },
  {
   "cell_type": "code",
   "execution_count": 64,
   "id": "ca3cf808",
   "metadata": {},
   "outputs": [],
   "source": [
    "'''Load Scores & Save Booleans of Negative & Positively Modulated Speed Cells \n",
    "  \n",
    " NOTE: shuffled scores are produced by the notebook \"Shuffle Procedure.\" Please run that for all sessions before proceeding here.\n",
    "\n",
    "'''  \n",
    "#adjust paths \n",
    "load_folder = 'C:/Users/Python/Desktop/LocalData/filtered/' #output of import/filter notebook\n",
    "save_folder = 'C:/Users/Python/Desktop/LocalData/intnspeedcells/' #output location of cell above\n",
    "scoreload_folder = 'C:/Users/Python/Desktop/LocalData/shuffscores/' #output of shuffle / interneuron classification notebook\n",
    "\n",
    "#if you didn't run the shuffle notebook and instead used the Dryad repo scores, adjust these paths & adjust lines below as well:\n",
    "#scoreload1_folder = 'C:/Users/Python/Desktop/Dryad/shuffle_scores/speedscores/'\n",
    "#scoreload2_folder = 'C:/Users/Python/Desktop/Dryad/shuffle_scores/speedstabscores/'\n",
    "\n",
    "P99score = []\n",
    "P99stabscore = []\n",
    "for m, session in zip(mice,sessions):\n",
    "    for s in session:\n",
    "        d = data[m][s]\n",
    "    \n",
    "        #get file names\n",
    "        realspeedscore_file = 'realinstspeedscore_' + m + '_' + s + '.npy'\n",
    "        realspeedstabscore_file = 'realspeedstabscore_' + m + '_' + s + '.npy'\n",
    "        shufinstspeedscore_file = 'shufinstspeedscore_' + m + '_' + s + '.npy'\n",
    "        shufspeedstabscore_file = 'shufspeedstabscore_' + m + '_' + s + '.npy'\n",
    "        rawdata_file = 'RAW_' + m + '_' + s + '.npy'\n",
    "        \n",
    "        #Load stuff & get data relevant to classification\n",
    "        d['speedscore'] = np.load(save_folder + realspeedscore_file)\n",
    "        d['speedstabscore'] = np.load(save_folder + realspeedstabscore_file)\n",
    "        d['shufspeedscore'] = np.load(scoreload_folder + shufinstspeedscore_file, allow_pickle = True)\n",
    "        #d['shufspeedscore'] = np.load(scoreload1_folder + shufinstspeedscore_file, allow_pickle = True) \n",
    "        d['shufspeedstabscore'] = np.load(scoreload_folder + shufspeedstabscore_file, allow_pickle = True)\n",
    "        #d['shufspeedstabscore'] = np.load(scoreload2_folder + shufspeedstabscore_file, allow_pickle = True) \n",
    "        raw = np.load(load_folder + rawdata_file, allow_pickle=True)\n",
    "        \n",
    "        shufspeedscore = d['shufspeedscore']\n",
    "        shufspeedstabscore = d['shufspeedstabscore']\n",
    "        realspeed_score = d['speedscore'] \n",
    "        realspeedstab_score = d['speedstabscore'] \n",
    "        cell_IDs = raw.item().get('cellsfil')\n",
    "        \n",
    "        speedcell99 = []\n",
    "        speedcell1 = []\n",
    "        \n",
    "        #Classify excitatory, positively & negatively modulated speed cells\n",
    "        for i, c in enumerate(cell_IDs):\n",
    "            dist = abs(shufspeedscore[:,i])\n",
    "            P99 = np.percentile(dist,99)\n",
    "            \n",
    "            dist2 = abs(shufspeedstabscore[:,i])\n",
    "            sP99 = np.percentile(dist2,99)\n",
    "            \n",
    "            P99stabscore = np.append(P99stabscore, sP99)\n",
    "            P99score = np.append(P99score, P99)\n",
    "\n",
    "            if (abs(realspeed_score[i]) >= P99) & (abs(realspeedstab_score[i]) >= sP99):\n",
    "                if realspeed_score[i] >= 0: # pos mod P99 cell\n",
    "                    speedcell99 = np.append(speedcell99, True)\n",
    "                    speedcell1 = np.append(speedcell1, False)\n",
    "                else: # neg mod P99 cell\n",
    "                    speedcell99 = np.append(speedcell99, False)\n",
    "                    speedcell1 = np.append(speedcell1, True) \n",
    "            else:\n",
    "                speedcell99 = np.append(speedcell99, False)\n",
    "                speedcell1 = np.append(speedcell1, False) \n",
    "\n",
    "        speedcell99 = np.asarray(speedcell99).astype(bool)\n",
    "        speedcell1 = np.asarray(speedcell1).astype(bool)\n",
    "                \n",
    "        #save speed cell classification boolean as .npy file for easy access for all animals\n",
    "        d['speedcell99'] = speedcell99\n",
    "        d['speedcell1'] = speedcell1\n"
   ]
  },
  {
   "cell_type": "code",
   "execution_count": 65,
   "id": "9c079455",
   "metadata": {},
   "outputs": [],
   "source": [
    " '''Load Scores & Save Booleans of Negative & Positively Speed Modulated Interneurons'''  \n",
    "load_folder = 'C:/Users/Python/Desktop/LocalData/filtered/'\n",
    "save_folder = 'C:/Users/Python/Desktop/LocalData/intnspeedcells/'\n",
    "scoreload_folder = 'C:/Users/Python/Desktop/LocalData/shuffscores/'\n",
    "\n",
    "'''\n",
    "NOTE: shuffled scores are produced by the notebook \"Shuffle Procedure.\" Please run that for all sessions before proceeding here.\n",
    "\n",
    "You will also need the booleans of speed tuned cells generated by Figure 6 code.\n",
    "\n",
    "'''\n",
    "\n",
    "for m, session in zip(mice,sessions):\n",
    "    for s in session:\n",
    "        d = data[m][s]\n",
    "    \n",
    "        #get file names\n",
    "        rawdata_file = 'RAW_' + m + '_' + s + '.npy'\n",
    "        raw = np.load(load_folder + rawdata_file, allow_pickle=True)\n",
    "        \n",
    "        cell_IDs = raw.item().get('cellsfil')\n",
    "        intn = d['intn'].astype(bool)\n",
    "        \n",
    "        #load speed tuned cells\n",
    "        \n",
    "        speedcell99 = d['speedcell99'].astype(bool)\n",
    "        speedcell1 = d['speedcell1'].astype(bool)\n",
    "        \n",
    "        # ID speed modulated interneurons\n",
    "        speedint99 = []\n",
    "        speedint1 = []\n",
    "        for i, c in enumerate(cell_IDs):\n",
    "            if (intn[i] == True):\n",
    "                if (speedcell99[i] == True):\n",
    "                    speedint99 = np.append(speedint99, True)\n",
    "                    speedint1 = np.append(speedint1, False)\n",
    "                elif (speedcell1[i] == True): \n",
    "                    speedint99 = np.append(speedint99, False)\n",
    "                    speedint1 = np.append(speedint1, True)\n",
    "                else:\n",
    "                    speedint99 = np.append(speedint99, False)\n",
    "                    speedint1 = np.append(speedint1, False)  \n",
    "            else:\n",
    "                speedint99 = np.append(speedint99, False)\n",
    "                speedint1 = np.append(speedint1, False)\n",
    "\n",
    "        #save speed cell classification boolean as .npy file for easy access for all animals\n",
    "        d['speedint99'] = speedint99.astype(bool)\n",
    "        d['speedint1'] = speedint1.astype(bool)"
   ]
  },
  {
   "cell_type": "code",
   "execution_count": 66,
   "id": "d7aefc81",
   "metadata": {},
   "outputs": [],
   "source": [
    " '''Load Scores & Save Booleans of Negative & Positively ONLY Speed Modulated Excitatory Cells'''  \n",
    "load_folder = 'C:/Users/Python/Desktop/LocalData/filtered/'\n",
    "save_folder = 'C:/Users/Python/Desktop/LocalData/intnspeedcells/'\n",
    "scoreload_folder = 'C:/Users/Python/Desktop/LocalData/shuffscores/'\n",
    "\n",
    "shuffload_folder1 = 'C:/Users/Python/Desktop/Dryad/shuffle_scores/sparsitya/'\n",
    "shuffload_folder2 = 'C:/Users/Python/Desktop/Dryad/shuffle_scores/coherencea/'\n",
    "shuffload_folder3 = 'C:/Users/Python/Desktop/Dryad/shuffle_scores/sparsity/'\n",
    "shuffload_folder4 = 'C:/Users/Python/Desktop/Dryad/shuffle_scores/coherence/'\n",
    "\n",
    "'''\n",
    "NOTE: shuffled scores are produced by the notebook \"Shuffle Procedure.\" Please run that for all sessions before proceeding here.\n",
    "\n",
    "You will also need the booleans of speed tuned cells generated by Figure 6 code.\n",
    "\n",
    "'''\n",
    "for m, session in zip(mice,sessions):\n",
    "    for s in session:\n",
    "        d = data[m][s]\n",
    "    \n",
    "        #get file names\n",
    "        rawdata_file = 'RAW_' + m + '_' + s + '.npy'\n",
    "        raw = np.load(load_folder + rawdata_file, allow_pickle=True)\n",
    "        \n",
    "        cell_IDs = raw.item().get('cellsfil')\n",
    "        intn = d['intn'].astype(bool)\n",
    "        speedcell99 = d['speedcell99'].astype(bool)\n",
    "        speedcell1 = d['speedcell1'].astype(bool)\n",
    "        \n",
    "        # load in spatial cell booleans to exclude spatially tuned cells from speed cells    \n",
    "        if (m in cohorta_mice) | (m in cohortb_mice):\n",
    "            spatial_folder = 'C:/Users/Python/Desktop/LocalData/spatialcellsrf/'\n",
    "            \n",
    "            sparsityscore_file = 'sparsityscores_' + m + '_' + s + '.npy'\n",
    "            spatialcoherencescore_file = 'spatialcoherencescores_' + m + '_' + s + '.npy'\n",
    "            shufsparsityscore_file = 'shufsparsityscores_' + m + '_' + s + '.npy'\n",
    "            shufspatialcoherencescore_file = 'shufspatialcoherencescores_' + m + '_' + s + '.npy'\n",
    "            \n",
    "            sparsity_scores = np.load(spatial_folder + sparsityscore_file, allow_pickle=True)\n",
    "            spatialcoherence_scores = np.load(spatial_folder + spatialcoherencescore_file, allow_pickle=True)\n",
    "            shuffsparsityscores = np.load(shuffload_folder3 + shufsparsityscore_file, allow_pickle=False)\n",
    "            shuffspatialcoherencescores = np.load(shuffload_folder4 + shufspatialcoherencescore_file, allow_pickle=False)\n",
    "        else:\n",
    "            spatial_folder = 'C:/Users/Python/Desktop/LocalData/spatialcellssm/'\n",
    "            \n",
    "            sparsityascore_file = 'sparsityascores_' + m + '_' + s + '.npy'\n",
    "            spatialacoherencescore_file = 'spatialacoherencescores_' + m + '_' + s + '.npy' \n",
    "            shufsparsityascore_file = 'shufsparsityascores_' + m + '_' + s + '.npy'\n",
    "            shufspatialacoherencescore_file = 'shufspatialacoherencescores_' + m + '_' + s + '.npy'\n",
    "            \n",
    "            sparsity_scores = np.load(spatial_folder + sparsityascore_file, allow_pickle=True)\n",
    "            spatialcoherence_scores = np.load(spatial_folder + spatialacoherencescore_file, allow_pickle=True)\n",
    "            shuffsparsityscores = np.load(shuffload_folder1 + shufsparsityascore_file, allow_pickle=False)\n",
    "            shuffspatialcoherencescores = np.load(shuffload_folder2 + shufspatialacoherencescore_file, allow_pickle=False)\n",
    "        \n",
    "        spatialcell99_file = 'spatialcell99_' + m + '_' + s + '.npy'  \n",
    "        spatialcell99 = np.load(spatial_folder + spatialcell99_file)\n",
    "        \n",
    "        #also define P95 spatial cells to exclude more weakly spatially tuned cells\n",
    "        spatialcell95 = []\n",
    "        for i, c in enumerate(cell_IDs): \n",
    "            dist1 = shuffspatialcoherencescores[:,i]\n",
    "            P951 = np.percentile(dist1,95)\n",
    "\n",
    "            dist2 = shuffsparsityscores[:,i]\n",
    "            P952 = np.percentile(dist2,95)\n",
    "\n",
    "            if intn[i] == True:\n",
    "                spatialcell95 = np.append(spatialcell95, False)\n",
    "            elif (spatialcoherence_scores[i] > P951) & (sparsity_scores[i] > P952):\n",
    "                spatialcell95 = np.append(spatialcell95, True)\n",
    "            else:\n",
    "                spatialcell95 = np.append(spatialcell95, False)\n",
    "        spatialcell95 = np.asarray(spatialcell95).astype(bool)\n",
    "        \n",
    "        #ID excitatory cells that are speed tuned but not spatially tuned\n",
    "        speedonly99 = []\n",
    "        speedonly1 = []\n",
    "        for i, c in enumerate(cell_IDs):\n",
    "            if (intn[i] == False) and (spatialcell95[i] == False) and (spatialcell99[i] == False):\n",
    "                if (speedcell99[i] == True):\n",
    "                    speedonly99 = np.append(speedonly99, True)\n",
    "                    speedonly1 = np.append(speedonly1, False)\n",
    "                elif (speedcell1[i] == True): \n",
    "                    speedonly99 = np.append(speedonly99, False)\n",
    "                    speedonly1 = np.append(speedonly1, True)\n",
    "                else:\n",
    "                    speedonly99 = np.append(speedonly99, False)\n",
    "                    speedonly1 = np.append(speedonly1, False)  \n",
    "            else:\n",
    "                speedonly99 = np.append(speedonly99, False)\n",
    "                speedonly1 = np.append(speedonly1, False)\n",
    "\n",
    "        #save speed cell classification boolean as .npy file for easy access for all animals\n",
    "        d['speedonly99'] = speedonly99.astype(bool)\n",
    "        d['speedonly1'] = speedonly1.astype(bool)"
   ]
  },
  {
   "cell_type": "code",
   "execution_count": 67,
   "id": "90e3810d",
   "metadata": {},
   "outputs": [],
   "source": [
    "'''Save Booleans of Positively Speed Modulated Grid Cells (Split Maze Sessions)'''  \n",
    "    \n",
    "for m, session in zip(mice,sessions):\n",
    "    for s in session:\n",
    "        d = data[m][s]\n",
    "    \n",
    "        #get file names\n",
    "        rawdata_file = 'RAW_' + m + '_' + s + '.npy'\n",
    "        raw = np.load(load_folder + rawdata_file, allow_pickle=True)\n",
    "        \n",
    "        cell_IDs = raw.item().get('cellsfil')\n",
    "        intn = d['intn'].astype(bool)\n",
    "        speedcell99 = d['speedcell99'].astype(bool)\n",
    "        \n",
    "        #load grid cell boolean for Split Maze Sessions, make dummy array for RF sessions\n",
    "        if (m in cohortc_mice) | (m in cohortd_mice):\n",
    "            gridcell_file = 'gridcell__' + m + '_' + s + '.npy'\n",
    "            gridcell = np.load(scoreload_folder + gridcell_file)\n",
    "        else:\n",
    "            gridcell = np.full(len(cell_IDs),False)\n",
    "        gridcell = gridcell.astype(bool) \n",
    "        \n",
    "        #ID excitatory cells that are speed tuned but not spatially tuned\n",
    "        speedgrid99 = []\n",
    "        for i, c in enumerate(cell_IDs):\n",
    "            if (intn[i] == False) and (gridcell[i] == True):\n",
    "                if (speedcell99[i] == True):\n",
    "                    speedgrid99 = np.append(speedgrid99, True)\n",
    "                else:\n",
    "                    speedgrid99 = np.append(speedgrid99, False)\n",
    "            else:\n",
    "                speedgrid99 = np.append(speedgrid99, False)  \n",
    "            \n",
    "        d['speedgrid99'] = speedgrid99.astype(bool)"
   ]
  },
  {
   "cell_type": "markdown",
   "id": "91e56e56",
   "metadata": {},
   "source": [
    "# Examine density of all speed tuned cell types (Figures S6E)"
   ]
  },
  {
   "cell_type": "code",
   "execution_count": 83,
   "id": "223b9bd1",
   "metadata": {
    "scrolled": true
   },
   "outputs": [
    {
     "data": {
      "application/vnd.jupyter.widget-view+json": {
       "model_id": "9d4adb37248047b59f8f6cb9f930ab0f",
       "version_major": 2,
       "version_minor": 0
      },
      "text/plain": [
       "  0%|          | 0/6 [00:00<?, ?it/s]"
      ]
     },
     "metadata": {},
     "output_type": "display_data"
    },
    {
     "data": {
      "application/vnd.jupyter.widget-view+json": {
       "model_id": "01a5fd1c8d494bb6887622dd4e4053fe",
       "version_major": 2,
       "version_minor": 0
      },
      "text/plain": [
       "  0%|          | 0/6 [00:00<?, ?it/s]"
      ]
     },
     "metadata": {},
     "output_type": "display_data"
    },
    {
     "data": {
      "application/vnd.jupyter.widget-view+json": {
       "model_id": "44dfbedecaa447278c078f28b725087c",
       "version_major": 2,
       "version_minor": 0
      },
      "text/plain": [
       "  0%|          | 0/6 [00:00<?, ?it/s]"
      ]
     },
     "metadata": {},
     "output_type": "display_data"
    },
    {
     "data": {
      "application/vnd.jupyter.widget-view+json": {
       "model_id": "728b34cc1892443ca59e6c1ebf646091",
       "version_major": 2,
       "version_minor": 0
      },
      "text/plain": [
       "  0%|          | 0/6 [00:00<?, ?it/s]"
      ]
     },
     "metadata": {},
     "output_type": "display_data"
    },
    {
     "data": {
      "application/vnd.jupyter.widget-view+json": {
       "model_id": "a787149cbf104923a19f9eb7cac38b81",
       "version_major": 2,
       "version_minor": 0
      },
      "text/plain": [
       "  0%|          | 0/6 [00:00<?, ?it/s]"
      ]
     },
     "metadata": {},
     "output_type": "display_data"
    },
    {
     "data": {
      "application/vnd.jupyter.widget-view+json": {
       "model_id": "20046d8c620e4b63862eab033af8d7cd",
       "version_major": 2,
       "version_minor": 0
      },
      "text/plain": [
       "  0%|          | 0/5 [00:00<?, ?it/s]"
      ]
     },
     "metadata": {},
     "output_type": "display_data"
    },
    {
     "data": {
      "application/vnd.jupyter.widget-view+json": {
       "model_id": "2eaf239e3cc24e3994c19f7b08aa5099",
       "version_major": 2,
       "version_minor": 0
      },
      "text/plain": [
       "  0%|          | 0/5 [00:00<?, ?it/s]"
      ]
     },
     "metadata": {},
     "output_type": "display_data"
    },
    {
     "data": {
      "application/vnd.jupyter.widget-view+json": {
       "model_id": "c5e58f965cd347b994e693e8fcc93950",
       "version_major": 2,
       "version_minor": 0
      },
      "text/plain": [
       "  0%|          | 0/6 [00:00<?, ?it/s]"
      ]
     },
     "metadata": {},
     "output_type": "display_data"
    },
    {
     "data": {
      "application/vnd.jupyter.widget-view+json": {
       "model_id": "7c553c8e20674e43b6b7151da981e257",
       "version_major": 2,
       "version_minor": 0
      },
      "text/plain": [
       "  0%|          | 0/6 [00:00<?, ?it/s]"
      ]
     },
     "metadata": {},
     "output_type": "display_data"
    },
    {
     "data": {
      "application/vnd.jupyter.widget-view+json": {
       "model_id": "921448193c2242a38ca15deddeffdaf5",
       "version_major": 2,
       "version_minor": 0
      },
      "text/plain": [
       "  0%|          | 0/6 [00:00<?, ?it/s]"
      ]
     },
     "metadata": {},
     "output_type": "display_data"
    },
    {
     "data": {
      "application/vnd.jupyter.widget-view+json": {
       "model_id": "48c2a9ad7aca400a8a0074826ffcfcc1",
       "version_major": 2,
       "version_minor": 0
      },
      "text/plain": [
       "  0%|          | 0/5 [00:00<?, ?it/s]"
      ]
     },
     "metadata": {},
     "output_type": "display_data"
    },
    {
     "data": {
      "application/vnd.jupyter.widget-view+json": {
       "model_id": "45bfa8f51c134cafad4f8750b7d09928",
       "version_major": 2,
       "version_minor": 0
      },
      "text/plain": [
       "  0%|          | 0/3 [00:00<?, ?it/s]"
      ]
     },
     "metadata": {},
     "output_type": "display_data"
    },
    {
     "data": {
      "application/vnd.jupyter.widget-view+json": {
       "model_id": "750fce6fb3154ff08ea3f49a6c2e1fbf",
       "version_major": 2,
       "version_minor": 0
      },
      "text/plain": [
       "  0%|          | 0/6 [00:00<?, ?it/s]"
      ]
     },
     "metadata": {},
     "output_type": "display_data"
    },
    {
     "data": {
      "application/vnd.jupyter.widget-view+json": {
       "model_id": "b76320b6e084483a9428dacba1d5a995",
       "version_major": 2,
       "version_minor": 0
      },
      "text/plain": [
       "  0%|          | 0/6 [00:00<?, ?it/s]"
      ]
     },
     "metadata": {},
     "output_type": "display_data"
    },
    {
     "data": {
      "application/vnd.jupyter.widget-view+json": {
       "model_id": "67db5f16d8a7444bbf187f2c864bc655",
       "version_major": 2,
       "version_minor": 0
      },
      "text/plain": [
       "  0%|          | 0/6 [00:00<?, ?it/s]"
      ]
     },
     "metadata": {},
     "output_type": "display_data"
    },
    {
     "data": {
      "application/vnd.jupyter.widget-view+json": {
       "model_id": "a0fe0ba36c074532bd9e3eb6f3e738c9",
       "version_major": 2,
       "version_minor": 0
      },
      "text/plain": [
       "  0%|          | 0/2 [00:00<?, ?it/s]"
      ]
     },
     "metadata": {},
     "output_type": "display_data"
    },
    {
     "data": {
      "application/vnd.jupyter.widget-view+json": {
       "model_id": "14792159427b4d27afc6f80892a21ea2",
       "version_major": 2,
       "version_minor": 0
      },
      "text/plain": [
       "  0%|          | 0/3 [00:00<?, ?it/s]"
      ]
     },
     "metadata": {},
     "output_type": "display_data"
    },
    {
     "data": {
      "application/vnd.jupyter.widget-view+json": {
       "model_id": "f0eaa3524b55446aaf6c8a1eee024491",
       "version_major": 2,
       "version_minor": 0
      },
      "text/plain": [
       "  0%|          | 0/6 [00:00<?, ?it/s]"
      ]
     },
     "metadata": {},
     "output_type": "display_data"
    },
    {
     "data": {
      "application/vnd.jupyter.widget-view+json": {
       "model_id": "f4d4bf7b82474202be041de0b7ebc628",
       "version_major": 2,
       "version_minor": 0
      },
      "text/plain": [
       "  0%|          | 0/4 [00:00<?, ?it/s]"
      ]
     },
     "metadata": {},
     "output_type": "display_data"
    },
    {
     "data": {
      "application/vnd.jupyter.widget-view+json": {
       "model_id": "9f58842e2b26445bb0d8a48ce152d3f7",
       "version_major": 2,
       "version_minor": 0
      },
      "text/plain": [
       "  0%|          | 0/6 [00:00<?, ?it/s]"
      ]
     },
     "metadata": {},
     "output_type": "display_data"
    },
    {
     "data": {
      "application/vnd.jupyter.widget-view+json": {
       "model_id": "174c1c7d231b4247b56b6027b8b8651b",
       "version_major": 2,
       "version_minor": 0
      },
      "text/plain": [
       "  0%|          | 0/6 [00:00<?, ?it/s]"
      ]
     },
     "metadata": {},
     "output_type": "display_data"
    },
    {
     "data": {
      "application/vnd.jupyter.widget-view+json": {
       "model_id": "b154cd5e7e8b43429f4d4781aa7158ee",
       "version_major": 2,
       "version_minor": 0
      },
      "text/plain": [
       "  0%|          | 0/6 [00:00<?, ?it/s]"
      ]
     },
     "metadata": {},
     "output_type": "display_data"
    },
    {
     "data": {
      "application/vnd.jupyter.widget-view+json": {
       "model_id": "616ab172f1d4417088950953b14eac25",
       "version_major": 2,
       "version_minor": 0
      },
      "text/plain": [
       "  0%|          | 0/6 [00:00<?, ?it/s]"
      ]
     },
     "metadata": {},
     "output_type": "display_data"
    },
    {
     "data": {
      "application/vnd.jupyter.widget-view+json": {
       "model_id": "b410ca2dd23344538ea954aae4f685e2",
       "version_major": 2,
       "version_minor": 0
      },
      "text/plain": [
       "  0%|          | 0/6 [00:00<?, ?it/s]"
      ]
     },
     "metadata": {},
     "output_type": "display_data"
    },
    {
     "data": {
      "application/vnd.jupyter.widget-view+json": {
       "model_id": "7b810e72812e41238b76da6d146dc89d",
       "version_major": 2,
       "version_minor": 0
      },
      "text/plain": [
       "  0%|          | 0/6 [00:00<?, ?it/s]"
      ]
     },
     "metadata": {},
     "output_type": "display_data"
    },
    {
     "data": {
      "application/vnd.jupyter.widget-view+json": {
       "model_id": "6a3e9beed96b45c5a952b597bab9c93e",
       "version_major": 2,
       "version_minor": 0
      },
      "text/plain": [
       "  0%|          | 0/6 [00:00<?, ?it/s]"
      ]
     },
     "metadata": {},
     "output_type": "display_data"
    },
    {
     "data": {
      "application/vnd.jupyter.widget-view+json": {
       "model_id": "1384f8204a29412197f77e52ac78610b",
       "version_major": 2,
       "version_minor": 0
      },
      "text/plain": [
       "  0%|          | 0/6 [00:00<?, ?it/s]"
      ]
     },
     "metadata": {},
     "output_type": "display_data"
    },
    {
     "data": {
      "application/vnd.jupyter.widget-view+json": {
       "model_id": "8e11178747014744bf8875126d14ee37",
       "version_major": 2,
       "version_minor": 0
      },
      "text/plain": [
       "  0%|          | 0/4 [00:00<?, ?it/s]"
      ]
     },
     "metadata": {},
     "output_type": "display_data"
    },
    {
     "data": {
      "application/vnd.jupyter.widget-view+json": {
       "model_id": "3592a7a8d5144c90b7d655165c573781",
       "version_major": 2,
       "version_minor": 0
      },
      "text/plain": [
       "  0%|          | 0/6 [00:00<?, ?it/s]"
      ]
     },
     "metadata": {},
     "output_type": "display_data"
    },
    {
     "data": {
      "application/vnd.jupyter.widget-view+json": {
       "model_id": "64cde8745a45409a8e37aff75c711ae1",
       "version_major": 2,
       "version_minor": 0
      },
      "text/plain": [
       "  0%|          | 0/6 [00:00<?, ?it/s]"
      ]
     },
     "metadata": {},
     "output_type": "display_data"
    },
    {
     "data": {
      "application/vnd.jupyter.widget-view+json": {
       "model_id": "cd64ac7d4baa499fad9cb0f5f2121720",
       "version_major": 2,
       "version_minor": 0
      },
      "text/plain": [
       "  0%|          | 0/6 [00:00<?, ?it/s]"
      ]
     },
     "metadata": {},
     "output_type": "display_data"
    },
    {
     "data": {
      "application/vnd.jupyter.widget-view+json": {
       "model_id": "0fa11a812f21413e8fa396ab8e206d5f",
       "version_major": 2,
       "version_minor": 0
      },
      "text/plain": [
       "  0%|          | 0/6 [00:00<?, ?it/s]"
      ]
     },
     "metadata": {},
     "output_type": "display_data"
    },
    {
     "data": {
      "application/vnd.jupyter.widget-view+json": {
       "model_id": "0ddd5d05879c4a13bd206bd03f969ee9",
       "version_major": 2,
       "version_minor": 0
      },
      "text/plain": [
       "  0%|          | 0/6 [00:00<?, ?it/s]"
      ]
     },
     "metadata": {},
     "output_type": "display_data"
    },
    {
     "data": {
      "application/vnd.jupyter.widget-view+json": {
       "model_id": "136b73d20ad54ab193feb50fd16ca028",
       "version_major": 2,
       "version_minor": 0
      },
      "text/plain": [
       "  0%|          | 0/6 [00:00<?, ?it/s]"
      ]
     },
     "metadata": {},
     "output_type": "display_data"
    },
    {
     "data": {
      "application/vnd.jupyter.widget-view+json": {
       "model_id": "6e003d8aebfa455ca5ac417e84229bd7",
       "version_major": 2,
       "version_minor": 0
      },
      "text/plain": [
       "  0%|          | 0/6 [00:00<?, ?it/s]"
      ]
     },
     "metadata": {},
     "output_type": "display_data"
    },
    {
     "data": {
      "application/vnd.jupyter.widget-view+json": {
       "model_id": "ce1c39f40fcf4942a027b68ac1741022",
       "version_major": 2,
       "version_minor": 0
      },
      "text/plain": [
       "  0%|          | 0/6 [00:00<?, ?it/s]"
      ]
     },
     "metadata": {},
     "output_type": "display_data"
    },
    {
     "data": {
      "application/vnd.jupyter.widget-view+json": {
       "model_id": "4cad3b94cb7d4efd9c24c57424b96a45",
       "version_major": 2,
       "version_minor": 0
      },
      "text/plain": [
       "  0%|          | 0/6 [00:00<?, ?it/s]"
      ]
     },
     "metadata": {},
     "output_type": "display_data"
    },
    {
     "data": {
      "application/vnd.jupyter.widget-view+json": {
       "model_id": "f6fc08ded8314f2e8d962d0e8e6c5d21",
       "version_major": 2,
       "version_minor": 0
      },
      "text/plain": [
       "  0%|          | 0/6 [00:00<?, ?it/s]"
      ]
     },
     "metadata": {},
     "output_type": "display_data"
    },
    {
     "data": {
      "application/vnd.jupyter.widget-view+json": {
       "model_id": "b98b1ceebd3f415fba33f5712b1c4c09",
       "version_major": 2,
       "version_minor": 0
      },
      "text/plain": [
       "  0%|          | 0/6 [00:00<?, ?it/s]"
      ]
     },
     "metadata": {},
     "output_type": "display_data"
    },
    {
     "data": {
      "application/vnd.jupyter.widget-view+json": {
       "model_id": "a589528074354b4e86ffa86995369819",
       "version_major": 2,
       "version_minor": 0
      },
      "text/plain": [
       "  0%|          | 0/6 [00:00<?, ?it/s]"
      ]
     },
     "metadata": {},
     "output_type": "display_data"
    },
    {
     "data": {
      "application/vnd.jupyter.widget-view+json": {
       "model_id": "cbba5d531f9941e7be0dfecb27656bca",
       "version_major": 2,
       "version_minor": 0
      },
      "text/plain": [
       "  0%|          | 0/6 [00:00<?, ?it/s]"
      ]
     },
     "metadata": {},
     "output_type": "display_data"
    },
    {
     "data": {
      "application/vnd.jupyter.widget-view+json": {
       "model_id": "3ae5d46b168d4714bea413adf3d4419e",
       "version_major": 2,
       "version_minor": 0
      },
      "text/plain": [
       "  0%|          | 0/6 [00:00<?, ?it/s]"
      ]
     },
     "metadata": {},
     "output_type": "display_data"
    },
    {
     "data": {
      "application/vnd.jupyter.widget-view+json": {
       "model_id": "d87aa4185285414c961acea5847cb9ee",
       "version_major": 2,
       "version_minor": 0
      },
      "text/plain": [
       "  0%|          | 0/6 [00:00<?, ?it/s]"
      ]
     },
     "metadata": {},
     "output_type": "display_data"
    },
    {
     "data": {
      "application/vnd.jupyter.widget-view+json": {
       "model_id": "d904d06c5dcc401bb59747df041b20bf",
       "version_major": 2,
       "version_minor": 0
      },
      "text/plain": [
       "  0%|          | 0/6 [00:00<?, ?it/s]"
      ]
     },
     "metadata": {},
     "output_type": "display_data"
    },
    {
     "data": {
      "application/vnd.jupyter.widget-view+json": {
       "model_id": "799fd8a5923247c0835c32c3b1a5c900",
       "version_major": 2,
       "version_minor": 0
      },
      "text/plain": [
       "  0%|          | 0/6 [00:00<?, ?it/s]"
      ]
     },
     "metadata": {},
     "output_type": "display_data"
    }
   ],
   "source": [
    "'''Collect Density of Cell Types'''\n",
    "#arrays for density of +/- speed cells \n",
    "sper99 = []\n",
    "sper1 = []\n",
    "speronly99 = []\n",
    "speronly1 = []\n",
    "sperint99 = []\n",
    "spergrid99 = []\n",
    "        \n",
    "mper99 = []\n",
    "mper1 = []\n",
    "\n",
    "dt = 0.02\n",
    "\n",
    "for m, session in zip(mice,sessions):\n",
    "    m_cells = []\n",
    "    m_99 = []\n",
    "    m_1 = []\n",
    "    \n",
    "    for s in tdqm(session):\n",
    "        d = data[m][s]\n",
    "    \n",
    "        #get file names & load data necessary\n",
    "        rawdata_file = 'RAW_' + m + '_' + s + '.npy'\n",
    "        raw = np.load(load_folder + rawdata_file, allow_pickle=True)\n",
    "        \n",
    "        #get dict-stored data & define lists of cell IDs for each speed tuned group\n",
    "        cell_IDs = raw.item().get('cellsfil')\n",
    "        intn = d['intn'].astype(bool)\n",
    "        speedcell99 = d['speedcell99']\n",
    "        speedcell1 = d['speedcell1']\n",
    "        speedonly99 = d['speedonly99']\n",
    "        speedonly1 = d['speedonly1']\n",
    "        speedint99 = d['speedint99']\n",
    "        speedgrid99 = d['speedgrid99']\n",
    "        \n",
    "        speedcells99 = cell_IDs[(speedcell99 == 1) & (intn == 0)] # + speed  \n",
    "        speedcells1 = cell_IDs[(speedcell1 == 1) & (intn == 0)] # - speed\n",
    "        speedonlycells99 = cell_IDs[speedonly99 == 1] # + speed only \n",
    "        speedonlycells1 = cell_IDs[speedonly1 == 1] # - speed only\n",
    "        speedints99 = cell_IDs[speedint99 == 1] # speed grid cells\n",
    "        speedgrids99 = cell_IDs[speedgrid99 == 1] # speed grid cells\n",
    "        \n",
    "        #get density among recorded units per session\n",
    "        sper99 = np.append(sper99, 100*len(speedcells99)/len(cell_IDs))\n",
    "        sper1 = np.append(sper1, 100*len(speedcells1)/len(cell_IDs))\n",
    "        speronly99 = np.append(speronly99, 100*len(speedonlycells99)/len(cell_IDs))\n",
    "        speronly1 = np.append(speronly1, 100*len(speedonlycells1)/len(cell_IDs))\n",
    "        sperint99 = np.append(sperint99, 100*len(speedints99)/len(cell_IDs))\n",
    "        \n",
    "        if (m in cohortc_mice) | (m in cohortd_mice):\n",
    "            spergrid99 = np.append(spergrid99, 100*len(speedgrids99)/len(cell_IDs))\n",
    "        else:\n",
    "            spergrid99 = np.append(spergrid99, np.nan)\n",
    "        \n",
    "        #pool data into session arrays    \n",
    "        m_cells = np.append(m_cells, len(cell_IDs))\n",
    "        m_99 = np.append(m_99, len(speedcells99))\n",
    "        \n",
    "    mper99 = np.append(mper99, 100*np.sum(m_99)/np.sum(m_cells))"
   ]
  },
  {
   "cell_type": "code",
   "execution_count": 108,
   "id": "3218c2c4",
   "metadata": {},
   "outputs": [
    {
     "data": {
      "image/png": "[encoded data removed]",
      "text/plain": [
       "<Figure size 125x125 with 1 Axes>"
      ]
     },
     "metadata": {},
     "output_type": "display_data"
    },
    {
     "data": {
      "image/png": "[encoded data removed]",
      "text/plain": [
       "<Figure size 125x125 with 1 Axes>"
      ]
     },
     "metadata": {},
     "output_type": "display_data"
    },
    {
     "data": {
      "image/png": "[encoded data removed]",
      "text/plain": [
       "<Figure size 125x125 with 1 Axes>"
      ]
     },
     "metadata": {},
     "output_type": "display_data"
    },
    {
     "data": {
      "image/png": "[encoded data removed]",
      "text/plain": [
       "<Figure size 125x125 with 1 Axes>"
      ]
     },
     "metadata": {},
     "output_type": "display_data"
    },
    {
     "data": {
      "image/png": "[encoded data removed]",
      "text/plain": [
       "<Figure size 125x125 with 1 Axes>"
      ]
     },
     "metadata": {},
     "output_type": "display_data"
    },
    {
     "data": {
      "image/png": "[encoded data removed]",
      "text/plain": [
       "<Figure size 125x125 with 1 Axes>"
      ]
     },
     "metadata": {},
     "output_type": "display_data"
    }
   ],
   "source": [
    "''' Plot Figure S6E '''\n",
    "\n",
    "#set up handles\n",
    "from itertools import repeat\n",
    "handles = []\n",
    "mper = [mper99[y_ind], mper99[ma_ind], mper99[age_ind]]\n",
    "\n",
    "for i in range(len(mper)):    \n",
    "    for c in col_animal[i][0]:\n",
    "        dot = mlines.Line2D([],[], color = c, marker ='o', linestyle = 'None', markersize = 8)\n",
    "        handles.append(dot)\n",
    "        if c[0] == col_animal[1][0][9][0]: # adds white space so columns are color sorted\n",
    "            l = mlines.Line2D([0],[0],color=\"w\")\n",
    "            handles.extend(repeat(l,7))\n",
    "            \n",
    "            \n",
    "# Plot Figure S6E (first)\n",
    "fig, ax = plt.subplots(figsize = (1.25,1.25))\n",
    "sper = [sper99[y_sind], sper99[ma_sind], sper99[age_sind]]\n",
    "labels = ['Young','MA','Aged']\n",
    "w = 0.5\n",
    "plt.boxplot(sper, widths = w, labels = labels, medianprops = dict(color = 'black'))\n",
    "\n",
    "for i in range(len(sper)):\n",
    "    y = sper[i]\n",
    "    x = np.random.normal(i + 1, 0.04, len(y))\n",
    "    plt.scatter(x, y, color = col_session[i], edgecolors = col_session[i], s = 10)\n",
    "            \n",
    "#ax.legend(ncol = 3, handles = handles, labels = label_mice, loc = 'upper right',bbox_to_anchor=(1.8, 1))\n",
    "ax.set_title('+ Speed', fontsize=10, pad=5)\n",
    "ax.set_xlabel('Age', fontsize=9, labelpad=1)\n",
    "ax.set_ylabel('% Cells', fontsize = 9, labelpad=1)\n",
    "ax.tick_params(labelsize = 8)\n",
    "ax.set_ylim([0,50])\n",
    "ax.set_yticks([0,10,20,30,40,50])\n",
    "#plt.savefig(save_folder + 'age_speedcelldensity99_session.png', dpi=400, bbox_inches='tight')\n",
    "#plt.savefig(save_folder + 'age_speedcelldensity99_session.svg', dpi=400, bbox_inches='tight')\n",
    "plt.show()\n",
    "      \n",
    "# Plot Figure S6E (second)\n",
    "fig, ax = plt.subplots(figsize = (1.25,1.25))\n",
    "sper = [sper1[y_sind], sper1[ma_sind], sper1[age_sind]]\n",
    "labels = ['Young','MA','Aged']\n",
    "w = 0.5\n",
    "plt.boxplot(sper, widths = w, labels = labels, medianprops = dict(color = 'black'))\n",
    "\n",
    "for i in range(len(sper)):\n",
    "    y = sper[i]\n",
    "    x = np.random.normal(i + 1, 0.04, len(y))\n",
    "    plt.scatter(x, y, color = col_session[i], edgecolors = col_session[i], s = 10)\n",
    "            \n",
    "#ax.legend(ncol = 3, handles = handles, labels = label_mice, loc = 'upper right',bbox_to_anchor=(1.8, 1))\n",
    "ax.set_title('- Speed', fontsize=10, pad=5)\n",
    "ax.set_xlabel('Age', fontsize=9, labelpad=1)\n",
    "ax.set_ylabel('% Cells', fontsize = 9, labelpad=1)\n",
    "ax.tick_params(labelsize = 8)\n",
    "ax.set_ylim([0,50])\n",
    "ax.set_yticks([0,10,20,30,40,50])\n",
    "#plt.savefig(save_folder + 'age_speedcelldensity1_session.png', dpi=400, bbox_inches='tight')\n",
    "#plt.savefig(save_folder + 'age_speedcelldensity1_session.svg', dpi=400, bbox_inches='tight')\n",
    "plt.show()\n",
    "      \n",
    "# Plot Figure S6E (third)\n",
    "fig, ax = plt.subplots(figsize = (1.25,1.25))\n",
    "sper = [speronly99[y_sind], speronly99[ma_sind], speronly99[age_sind]]\n",
    "labels = ['Young','MA','Aged']\n",
    "w = 0.5\n",
    "plt.boxplot(sper, widths = w, labels = labels, medianprops = dict(color = 'black'))\n",
    "\n",
    "for i in range(len(sper)):\n",
    "    y = sper[i]\n",
    "    x = np.random.normal(i + 1, 0.04, len(y))\n",
    "    plt.scatter(x, y, color = col_session[i], edgecolors = col_session[i], s = 10)\n",
    "            \n",
    "#ax.legend(ncol = 3, handles = handles, labels = label_mice, loc = 'upper right',bbox_to_anchor=(1.8, 1))\n",
    "ax.set_title('+ Speed Only', fontsize=10, pad=5)\n",
    "ax.set_xlabel('Age', fontsize=9, labelpad=1)\n",
    "ax.set_ylabel('% Cells', fontsize = 9, labelpad=1)\n",
    "ax.tick_params(labelsize = 8)\n",
    "ax.set_ylim([0,50])\n",
    "ax.set_yticks([0,10,20,30,40,50])\n",
    "#plt.savefig(save_folder + 'age_speedonlycelldensity99_session.png', dpi=400, bbox_inches='tight')\n",
    "#plt.savefig(save_folder + 'age_speedonlycelldensity99_session.svg', dpi=400, bbox_inches='tight')\n",
    "plt.show()\n",
    "\n",
    "# Plot Figure S6E (fourth)\n",
    "fig, ax = plt.subplots(figsize = (1.25,1.25))\n",
    "sper = [speronly1[y_sind], speronly1[ma_sind], speronly1[age_sind]]\n",
    "labels = ['Young','MA','Aged']\n",
    "w = 0.5\n",
    "plt.boxplot(sper, widths = w, labels = labels, medianprops = dict(color = 'black'))\n",
    "\n",
    "for i in range(len(sper)):\n",
    "    y = sper[i]\n",
    "    x = np.random.normal(i + 1, 0.04, len(y))\n",
    "    plt.scatter(x, y, color = col_session[i], edgecolors = col_session[i], s = 10)\n",
    "            \n",
    "#ax.legend(ncol = 3, handles = handles, labels = label_mice, loc = 'upper right',bbox_to_anchor=(1.8, 1))\n",
    "ax.set_title('- Speed Only', fontsize=10, pad=5)\n",
    "ax.set_xlabel('Age', fontsize=9, labelpad=1)\n",
    "ax.set_ylabel('% Cells', fontsize = 9, labelpad=1)\n",
    "ax.tick_params(labelsize = 8)\n",
    "ax.set_ylim([0,50])\n",
    "ax.set_yticks([0,10,20,30,40,50])\n",
    "#plt.savefig(save_folder + 'age_speedonlycelldensity1_session.png', dpi=400, bbox_inches='tight')\n",
    "#plt.savefig(save_folder + 'age_speedonlycelldensity1_session.svg', dpi=400, bbox_inches='tight')\n",
    "plt.show()\n",
    "\n",
    "# Plot Figure S6E (last)\n",
    "fig, ax = plt.subplots(figsize = (1.25,1.25))\n",
    "sper = [sperint99[y_sind], sperint99[ma_sind], sperint99[age_sind]]\n",
    "labels = ['Young','MA','Aged']\n",
    "w = 0.5\n",
    "plt.boxplot(sper, widths = w, labels = labels, medianprops = dict(color = 'black'))\n",
    "\n",
    "for i in range(len(sper)):\n",
    "    y = sper[i]\n",
    "    x = np.random.normal(i + 1, 0.04, len(y))\n",
    "    plt.scatter(x, y, color = col_session[i], edgecolors = col_session[i], s = 10)\n",
    "            \n",
    "#ax.legend(ncol = 3, handles = handles, labels = label_mice, loc = 'upper right',bbox_to_anchor=(1.8, 1))\n",
    "ax.set_title('+ IN Speed', fontsize=10, pad=5)\n",
    "ax.set_xlabel('Age', fontsize=9, labelpad=1)\n",
    "ax.set_ylabel('% Cells', fontsize = 9, labelpad=1)\n",
    "ax.tick_params(labelsize = 8)\n",
    "ax.set_ylim([0,50])\n",
    "ax.set_yticks([0,10,20,30,40,50])\n",
    "#plt.savefig(save_folder + 'age_speedINdensity_session.png', dpi=400, bbox_inches='tight')\n",
    "#plt.savefig(save_folder + 'age_speedINdensity_session.svg', dpi=400, bbox_inches='tight')\n",
    "plt.show()\n",
    "\n",
    "# Plot Figure S6E (last)\n",
    "\n",
    "# Adjust y_sind, ma_sind, age_sind \n",
    "nanidx = np.isnan(spergrid99)\n",
    "nan_idx = np.arange(0,len(nanidx))[nanidx]\n",
    "y_sindgrid = np.setdiff1d(y_sind, nan_idx)\n",
    "ma_sindgrid = np.setdiff1d(ma_sind, nan_idx)\n",
    "age_sindgrid = np.setdiff1d(age_sind, nan_idx)\n",
    "    \n",
    "yidx = []\n",
    "maidx = []\n",
    "aidx = []\n",
    "for i in nan_idx:\n",
    "    yidx = np.append(yidx, np.where(y_sind == i)[0])\n",
    "    maidx = np.append(maidx, np.where(ma_sind == i)[0])\n",
    "    aidx = np.append(aidx, np.where(age_sind == i)[0])\n",
    "    \n",
    "col_session_younggrid = np.delete(col_session_young, list(yidx.astype(int)), axis = 0)\n",
    "col_session_magrid = np.delete(col_session_MA, list(maidx.astype(int)), axis = 0)\n",
    "col_session_oldgrid = np.delete(col_session_old, list(aidx.astype(int)), axis = 0)\n",
    "col_sessiongrid = [col_session_younggrid, col_session_magrid, col_session_oldgrid] \n",
    "\n",
    "fig, ax = plt.subplots(figsize = (1.25,1.25))\n",
    "sper = [spergrid99[y_sindgrid], spergrid99[ma_sindgrid], spergrid99[age_sindgrid]]\n",
    "labels = ['Young','MA','Aged']\n",
    "w = 0.5\n",
    "plt.boxplot(sper, widths = w, labels = labels, medianprops = dict(color = 'black'))\n",
    "\n",
    "for i in range(len(sper)):\n",
    "    y = sper[i]\n",
    "    x = np.random.normal(i + 1, 0.04, len(y))\n",
    "    plt.scatter(x, y, color = col_sessiongrid[i], edgecolors = col_sessiongrid[i], s = 10)\n",
    "            \n",
    "#ax.legend(ncol = 3, handles = handles, labels = label_mice, loc = 'upper right',bbox_to_anchor=(1.8, 1))\n",
    "ax.set_title('+ Grid Speed', fontsize=10, pad=5)\n",
    "ax.set_xlabel('Age', fontsize=9, labelpad=1)\n",
    "ax.set_ylabel('% Cells', fontsize = 9, labelpad=1)\n",
    "ax.tick_params(labelsize = 8)\n",
    "ax.set_ylim([0,50])\n",
    "ax.set_yticks([0,10,20,30,40,50])\n",
    "plt.savefig(save_folder + 'age_speedgrid_session.png', dpi=400, bbox_inches='tight')\n",
    "plt.savefig(save_folder + 'age_speedgrid_session.svg', dpi=400, bbox_inches='tight')\n",
    "plt.show()"
   ]
  },
  {
   "cell_type": "code",
   "execution_count": 102,
   "id": "6b44cab0",
   "metadata": {},
   "outputs": [
    {
     "name": "stdout",
     "output_type": "stream",
     "text": [
      "n young, MA, aged sessions: \n",
      "98 58 97\n",
      "\n",
      "+ Speed Cell Density Results:\n",
      "speedcell%young ± SEM; speedcell%_MA ± SEM; speedcell%_old ± SEM\n",
      "16.67 ± 0.77 ; 16.13 ± 0.64 ; 18.41 ± 0.95\n",
      "KW stat = 1.7125177031199548\n",
      "p_session = 0.4247481595070701\n"
     ]
    },
    {
     "data": {
      "text/html": [
       "<div>\n",
       "<style scoped>\n",
       "    .dataframe tbody tr th:only-of-type {\n",
       "        vertical-align: middle;\n",
       "    }\n",
       "\n",
       "    .dataframe tbody tr th {\n",
       "        vertical-align: top;\n",
       "    }\n",
       "\n",
       "    .dataframe thead th {\n",
       "        text-align: right;\n",
       "    }\n",
       "</style>\n",
       "<table border=\"1\" class=\"dataframe\">\n",
       "  <thead>\n",
       "    <tr style=\"text-align: right;\">\n",
       "      <th></th>\n",
       "      <th>1.0</th>\n",
       "      <th>2.0</th>\n",
       "      <th>3.0</th>\n",
       "    </tr>\n",
       "  </thead>\n",
       "  <tbody>\n",
       "    <tr>\n",
       "      <th>1.0</th>\n",
       "      <td>1.000000</td>\n",
       "      <td>0.817741</td>\n",
       "      <td>0.756778</td>\n",
       "    </tr>\n",
       "    <tr>\n",
       "      <th>2.0</th>\n",
       "      <td>0.817741</td>\n",
       "      <td>1.000000</td>\n",
       "      <td>0.756778</td>\n",
       "    </tr>\n",
       "    <tr>\n",
       "      <th>3.0</th>\n",
       "      <td>0.756778</td>\n",
       "      <td>0.756778</td>\n",
       "      <td>1.000000</td>\n",
       "    </tr>\n",
       "  </tbody>\n",
       "</table>\n",
       "</div>"
      ],
      "text/plain": [
       "          1.0       2.0       3.0\n",
       "1.0  1.000000  0.817741  0.756778\n",
       "2.0  0.817741  1.000000  0.756778\n",
       "3.0  0.756778  0.756778  1.000000"
      ]
     },
     "execution_count": 102,
     "metadata": {},
     "output_type": "execute_result"
    }
   ],
   "source": [
    "'''Speed Cell Density Statistics with Multiple Comparisons by Session'''\n",
    "\n",
    "print('n young, MA, aged sessions: ')\n",
    "print(len(y_sind),len(ma_sind),len(age_sind))\n",
    "\n",
    "print('\\n+ Speed Cell Density Results:')\n",
    "print('speedcell%young ± SEM; speedcell%_MA ± SEM; speedcell%_old ± SEM')\n",
    "print(str(np.round(np.mean(sper99[y_sind]), 2)) + ' ± ' + str(np.round(stats.sem(sper99[y_sind]), 2)) + ' ; ' \n",
    "      + str(np.round(np.mean(sper99[ma_sind]), 2)) + ' ± ' + str(np.round(stats.sem(sper99[ma_sind]), 2)) + ' ; ' \n",
    "      + str(np.round(np.mean(sper99[age_sind]), 2)) + ' ± ' + str(np.round(stats.sem(sper99[age_sind]), 2)))\n",
    "\n",
    "stat, p_diff = stats.kruskal(sper99[y_sind],sper99[ma_sind],sper99[age_sind])\n",
    "print('KW stat = ' + str(stat))\n",
    "print('p_session = ' + str(p_diff))\n",
    "\n",
    "#set up multiple comparisons\n",
    "import statsmodels.api as sm\n",
    "import scikit_posthocs as ph\n",
    "\n",
    "#make into dataframe\n",
    "seshmice = []\n",
    "seshcount = []\n",
    "seshage = []\n",
    "for m, session in zip(mice, sessions):\n",
    "    age =  np.array(animalmeta.loc[(animalmeta.Animal_ID == m),'Age_Group'])\n",
    "    totalsesh = len(session)\n",
    "    \n",
    "    for i, s in enumerate(session):\n",
    "        seshmice = np.append(seshmice, m)\n",
    "        seshcount = np.append(seshcount, (i + 1))\n",
    "        seshage = np.append(seshage, age)\n",
    "\n",
    "# Collect all relevant data into pandas dataframe\n",
    "allidx = np.concatenate((y_sind,ma_sind,age_sind))\n",
    "Animal_ID = list(seshmice[allidx])\n",
    "Session = list(seshcount[allidx])\n",
    "Age_Group = list(seshage[allidx])\n",
    "Percentneg = list(sper1[allidx])\n",
    "Percentpos = list(sper99[allidx])\n",
    "Percentonlyneg = list(speronly1[allidx])\n",
    "Percentonlypos = list(speronly99[allidx])\n",
    "Percentintpos = list(sperint99[allidx])\n",
    "Percentgridpos = list(spergrid99[allidx])\n",
    "\n",
    "tuples = list(zip(Animal_ID, Session, Age_Group, Percentneg, Percentpos,Percentonlyneg,Percentonlypos,Percentintpos,Percentgridpos))\n",
    "tuples\n",
    "\n",
    "df = pd.DataFrame(tuples, columns = ['AnimalID', 'Session', 'AgeGroup','percentneg','percentpos','percentonlyneg','percentonlypos','percentintpos','percentgridpos'])\n",
    "#df = df.dropna(axis = 0)\n",
    "\n",
    "#run post hoc tests\n",
    "ph.posthoc_conover(df, val_col = 'percentpos', group_col = 'AgeGroup', p_adjust = 'holm')"
   ]
  },
  {
   "cell_type": "code",
   "execution_count": 103,
   "id": "ddd75cb4",
   "metadata": {},
   "outputs": [
    {
     "name": "stdout",
     "output_type": "stream",
     "text": [
      "- Speed Cell Density Results:\n",
      "speedcell%young ± SEM; speedcell%_MA ± SEM; speedcell%_old ± SEM\n",
      "10.11 ± 0.6 ; 11.02 ± 0.7 ; 10.52 ± 0.74\n",
      "KW stat = 2.2139981137793443\n",
      "p_session = 0.3305494342023059\n"
     ]
    },
    {
     "data": {
      "text/html": [
       "<div>\n",
       "<style scoped>\n",
       "    .dataframe tbody tr th:only-of-type {\n",
       "        vertical-align: middle;\n",
       "    }\n",
       "\n",
       "    .dataframe tbody tr th {\n",
       "        vertical-align: top;\n",
       "    }\n",
       "\n",
       "    .dataframe thead th {\n",
       "        text-align: right;\n",
       "    }\n",
       "</style>\n",
       "<table border=\"1\" class=\"dataframe\">\n",
       "  <thead>\n",
       "    <tr style=\"text-align: right;\">\n",
       "      <th></th>\n",
       "      <th>1.0</th>\n",
       "      <th>2.0</th>\n",
       "      <th>3.0</th>\n",
       "    </tr>\n",
       "  </thead>\n",
       "  <tbody>\n",
       "    <tr>\n",
       "      <th>1.0</th>\n",
       "      <td>1.000000</td>\n",
       "      <td>0.538297</td>\n",
       "      <td>0.990844</td>\n",
       "    </tr>\n",
       "    <tr>\n",
       "      <th>2.0</th>\n",
       "      <td>0.538297</td>\n",
       "      <td>1.000000</td>\n",
       "      <td>0.538297</td>\n",
       "    </tr>\n",
       "    <tr>\n",
       "      <th>3.0</th>\n",
       "      <td>0.990844</td>\n",
       "      <td>0.538297</td>\n",
       "      <td>1.000000</td>\n",
       "    </tr>\n",
       "  </tbody>\n",
       "</table>\n",
       "</div>"
      ],
      "text/plain": [
       "          1.0       2.0       3.0\n",
       "1.0  1.000000  0.538297  0.990844\n",
       "2.0  0.538297  1.000000  0.538297\n",
       "3.0  0.990844  0.538297  1.000000"
      ]
     },
     "execution_count": 103,
     "metadata": {},
     "output_type": "execute_result"
    }
   ],
   "source": [
    "print('- Speed Cell Density Results:')\n",
    "print('speedcell%young ± SEM; speedcell%_MA ± SEM; speedcell%_old ± SEM')\n",
    "print(str(np.round(np.mean(sper1[y_sind]), 2)) + ' ± ' + str(np.round(stats.sem(sper1[y_sind]), 2)) + ' ; ' \n",
    "      + str(np.round(np.mean(sper1[ma_sind]), 2)) + ' ± ' + str(np.round(stats.sem(sper1[ma_sind]), 2)) + ' ; ' \n",
    "      + str(np.round(np.mean(sper1[age_sind]), 2)) + ' ± ' + str(np.round(stats.sem(sper1[age_sind]), 2)))\n",
    "\n",
    "stat, p_diff = stats.kruskal(sper1[y_sind],sper1[ma_sind],sper1[age_sind])\n",
    "print('KW stat = ' + str(stat))\n",
    "print('p_session = ' + str(p_diff))\n",
    "\n",
    "#run post hoc tests\n",
    "ph.posthoc_conover(df, val_col = 'percentneg', group_col = 'AgeGroup', p_adjust = 'holm')"
   ]
  },
  {
   "cell_type": "code",
   "execution_count": 104,
   "id": "ac0b8d5f",
   "metadata": {},
   "outputs": [
    {
     "name": "stdout",
     "output_type": "stream",
     "text": [
      "+ Speed Only Cell Density Results:\n",
      "speedcell%young ± SEM; speedcell%_MA ± SEM; speedcell%_old ± SEM\n",
      "4.63 ± 0.41 ; 3.96 ± 0.35 ; 6.9 ± 0.76\n",
      "KW stat = 4.00590709352918\n",
      "p_session = 0.13493615386245852\n"
     ]
    },
    {
     "data": {
      "text/html": [
       "<div>\n",
       "<style scoped>\n",
       "    .dataframe tbody tr th:only-of-type {\n",
       "        vertical-align: middle;\n",
       "    }\n",
       "\n",
       "    .dataframe tbody tr th {\n",
       "        vertical-align: top;\n",
       "    }\n",
       "\n",
       "    .dataframe thead th {\n",
       "        text-align: right;\n",
       "    }\n",
       "</style>\n",
       "<table border=\"1\" class=\"dataframe\">\n",
       "  <thead>\n",
       "    <tr style=\"text-align: right;\">\n",
       "      <th></th>\n",
       "      <th>1.0</th>\n",
       "      <th>2.0</th>\n",
       "      <th>3.0</th>\n",
       "    </tr>\n",
       "  </thead>\n",
       "  <tbody>\n",
       "    <tr>\n",
       "      <th>1.0</th>\n",
       "      <td>1.000000</td>\n",
       "      <td>0.835091</td>\n",
       "      <td>0.262845</td>\n",
       "    </tr>\n",
       "    <tr>\n",
       "      <th>2.0</th>\n",
       "      <td>0.835091</td>\n",
       "      <td>1.000000</td>\n",
       "      <td>0.262845</td>\n",
       "    </tr>\n",
       "    <tr>\n",
       "      <th>3.0</th>\n",
       "      <td>0.262845</td>\n",
       "      <td>0.262845</td>\n",
       "      <td>1.000000</td>\n",
       "    </tr>\n",
       "  </tbody>\n",
       "</table>\n",
       "</div>"
      ],
      "text/plain": [
       "          1.0       2.0       3.0\n",
       "1.0  1.000000  0.835091  0.262845\n",
       "2.0  0.835091  1.000000  0.262845\n",
       "3.0  0.262845  0.262845  1.000000"
      ]
     },
     "execution_count": 104,
     "metadata": {},
     "output_type": "execute_result"
    }
   ],
   "source": [
    "print('+ Speed Only Cell Density Results:')\n",
    "print('speedcell%young ± SEM; speedcell%_MA ± SEM; speedcell%_old ± SEM')\n",
    "print(str(np.round(np.mean(speronly99[y_sind]), 2)) + ' ± ' + str(np.round(stats.sem(speronly99[y_sind]), 2)) + ' ; ' \n",
    "      + str(np.round(np.mean(speronly99[ma_sind]), 2)) + ' ± ' + str(np.round(stats.sem(speronly99[ma_sind]), 2)) + ' ; ' \n",
    "      + str(np.round(np.mean(speronly99[age_sind]), 2)) + ' ± ' + str(np.round(stats.sem(speronly99[age_sind]), 2)))\n",
    "\n",
    "stat, p_diff = stats.kruskal(speronly99[y_sind],speronly99[ma_sind],speronly99[age_sind])\n",
    "print('KW stat = ' + str(stat))\n",
    "print('p_session = ' + str(p_diff))\n",
    "\n",
    "#run post hoc tests\n",
    "ph.posthoc_conover(df, val_col = 'percentonlypos', group_col = 'AgeGroup', p_adjust = 'holm')"
   ]
  },
  {
   "cell_type": "code",
   "execution_count": 105,
   "id": "e26ff23e",
   "metadata": {},
   "outputs": [
    {
     "name": "stdout",
     "output_type": "stream",
     "text": [
      "- Speed Only Cell Density Results:\n",
      "speedcell%young ± SEM; speedcell%_MA ± SEM; speedcell%_old ± SEM\n",
      "3.25 ± 0.3 ; 3.59 ± 0.34 ; 4.19 ± 0.39\n",
      "KW stat = 3.0449889253394775\n",
      "p_session = 0.21816699819965096\n"
     ]
    },
    {
     "data": {
      "text/html": [
       "<div>\n",
       "<style scoped>\n",
       "    .dataframe tbody tr th:only-of-type {\n",
       "        vertical-align: middle;\n",
       "    }\n",
       "\n",
       "    .dataframe tbody tr th {\n",
       "        vertical-align: top;\n",
       "    }\n",
       "\n",
       "    .dataframe thead th {\n",
       "        text-align: right;\n",
       "    }\n",
       "</style>\n",
       "<table border=\"1\" class=\"dataframe\">\n",
       "  <thead>\n",
       "    <tr style=\"text-align: right;\">\n",
       "      <th></th>\n",
       "      <th>1.0</th>\n",
       "      <th>2.0</th>\n",
       "      <th>3.0</th>\n",
       "    </tr>\n",
       "  </thead>\n",
       "  <tbody>\n",
       "    <tr>\n",
       "      <th>1.0</th>\n",
       "      <td>1.000000</td>\n",
       "      <td>0.375536</td>\n",
       "      <td>0.330865</td>\n",
       "    </tr>\n",
       "    <tr>\n",
       "      <th>2.0</th>\n",
       "      <td>0.375536</td>\n",
       "      <td>1.000000</td>\n",
       "      <td>0.948585</td>\n",
       "    </tr>\n",
       "    <tr>\n",
       "      <th>3.0</th>\n",
       "      <td>0.330865</td>\n",
       "      <td>0.948585</td>\n",
       "      <td>1.000000</td>\n",
       "    </tr>\n",
       "  </tbody>\n",
       "</table>\n",
       "</div>"
      ],
      "text/plain": [
       "          1.0       2.0       3.0\n",
       "1.0  1.000000  0.375536  0.330865\n",
       "2.0  0.375536  1.000000  0.948585\n",
       "3.0  0.330865  0.948585  1.000000"
      ]
     },
     "execution_count": 105,
     "metadata": {},
     "output_type": "execute_result"
    }
   ],
   "source": [
    "print('- Speed Only Cell Density Results:')\n",
    "print('speedcell%young ± SEM; speedcell%_MA ± SEM; speedcell%_old ± SEM')\n",
    "print(str(np.round(np.mean(speronly1[y_sind]), 2)) + ' ± ' + str(np.round(stats.sem(speronly1[y_sind]), 2)) + ' ; ' \n",
    "      + str(np.round(np.mean(speronly1[ma_sind]), 2)) + ' ± ' + str(np.round(stats.sem(speronly1[ma_sind]), 2)) + ' ; ' \n",
    "      + str(np.round(np.mean(speronly1[age_sind]), 2)) + ' ± ' + str(np.round(stats.sem(speronly1[age_sind]), 2)))\n",
    "\n",
    "stat, p_diff = stats.kruskal(speronly1[y_sind],speronly1[ma_sind],speronly1[age_sind])\n",
    "print('KW stat = ' + str(stat))\n",
    "print('p_session = ' + str(p_diff))\n",
    "\n",
    "#run post hoc tests\n",
    "ph.posthoc_conover(df, val_col = 'percentonlyneg', group_col = 'AgeGroup', p_adjust = 'holm')"
   ]
  },
  {
   "cell_type": "code",
   "execution_count": 106,
   "id": "f3e8861d",
   "metadata": {},
   "outputs": [
    {
     "name": "stdout",
     "output_type": "stream",
     "text": [
      "+ IN Speed Cell Density Results:\n",
      "speedcell%young ± SEM; speedcell%_MA ± SEM; speedcell%_old ± SEM\n",
      "6.92 ± 0.35 ; 10.97 ± 0.63 ; 9.39 ± 0.48\n",
      "KW stat = 29.055896945507357\n",
      "p_session = 4.904470706403604e-07\n"
     ]
    },
    {
     "data": {
      "text/html": [
       "<div>\n",
       "<style scoped>\n",
       "    .dataframe tbody tr th:only-of-type {\n",
       "        vertical-align: middle;\n",
       "    }\n",
       "\n",
       "    .dataframe tbody tr th {\n",
       "        vertical-align: top;\n",
       "    }\n",
       "\n",
       "    .dataframe thead th {\n",
       "        text-align: right;\n",
       "    }\n",
       "</style>\n",
       "<table border=\"1\" class=\"dataframe\">\n",
       "  <thead>\n",
       "    <tr style=\"text-align: right;\">\n",
       "      <th></th>\n",
       "      <th>1.0</th>\n",
       "      <th>2.0</th>\n",
       "      <th>3.0</th>\n",
       "    </tr>\n",
       "  </thead>\n",
       "  <tbody>\n",
       "    <tr>\n",
       "      <th>1.0</th>\n",
       "      <td>1.000000e+00</td>\n",
       "      <td>3.988494e-07</td>\n",
       "      <td>0.000227</td>\n",
       "    </tr>\n",
       "    <tr>\n",
       "      <th>2.0</th>\n",
       "      <td>3.988494e-07</td>\n",
       "      <td>1.000000e+00</td>\n",
       "      <td>0.042846</td>\n",
       "    </tr>\n",
       "    <tr>\n",
       "      <th>3.0</th>\n",
       "      <td>2.265491e-04</td>\n",
       "      <td>4.284631e-02</td>\n",
       "      <td>1.000000</td>\n",
       "    </tr>\n",
       "  </tbody>\n",
       "</table>\n",
       "</div>"
      ],
      "text/plain": [
       "              1.0           2.0       3.0\n",
       "1.0  1.000000e+00  3.988494e-07  0.000227\n",
       "2.0  3.988494e-07  1.000000e+00  0.042846\n",
       "3.0  2.265491e-04  4.284631e-02  1.000000"
      ]
     },
     "execution_count": 106,
     "metadata": {},
     "output_type": "execute_result"
    }
   ],
   "source": [
    "print('+ IN Speed Cell Density Results:')\n",
    "print('speedcell%young ± SEM; speedcell%_MA ± SEM; speedcell%_old ± SEM')\n",
    "print(str(np.round(np.mean(sperint99[y_sind]), 2)) + ' ± ' + str(np.round(stats.sem(sperint99[y_sind]), 2)) + ' ; ' \n",
    "      + str(np.round(np.mean(sperint99[ma_sind]), 2)) + ' ± ' + str(np.round(stats.sem(sperint99[ma_sind]), 2)) + ' ; ' \n",
    "      + str(np.round(np.mean(sperint99[age_sind]), 2)) + ' ± ' + str(np.round(stats.sem(sperint99[age_sind]), 2)))\n",
    "\n",
    "stat, p_diff = stats.kruskal(sperint99[y_sind],sperint99[ma_sind],sperint99[age_sind])\n",
    "print('KW stat = ' + str(stat))\n",
    "print('p_session = ' + str(p_diff))\n",
    "\n",
    "#run post hoc tests\n",
    "ph.posthoc_conover(df, val_col = 'percentintpos', group_col = 'AgeGroup', p_adjust = 'holm')"
   ]
  },
  {
   "cell_type": "code",
   "execution_count": 107,
   "id": "9971d620",
   "metadata": {},
   "outputs": [
    {
     "name": "stdout",
     "output_type": "stream",
     "text": [
      "n young, MA, aged Split Maze sessions: \n",
      "54 58 55\n",
      "+ Grid Speed Cell Density Results:\n",
      "speedcell%young ± SEM; speedcell%_MA ± SEM; speedcell%_old ± SEM\n",
      "5.64 ± 0.46 ; 4.64 ± 0.3 ; 5.34 ± 0.57\n",
      "KW stat = 2.1204642302870043\n",
      "p_speedcell1%session = 0.34637540202227957\n"
     ]
    },
    {
     "data": {
      "text/html": [
       "<div>\n",
       "<style scoped>\n",
       "    .dataframe tbody tr th:only-of-type {\n",
       "        vertical-align: middle;\n",
       "    }\n",
       "\n",
       "    .dataframe tbody tr th {\n",
       "        vertical-align: top;\n",
       "    }\n",
       "\n",
       "    .dataframe thead th {\n",
       "        text-align: right;\n",
       "    }\n",
       "</style>\n",
       "<table border=\"1\" class=\"dataframe\">\n",
       "  <thead>\n",
       "    <tr style=\"text-align: right;\">\n",
       "      <th></th>\n",
       "      <th>1.0</th>\n",
       "      <th>2.0</th>\n",
       "      <th>3.0</th>\n",
       "    </tr>\n",
       "  </thead>\n",
       "  <tbody>\n",
       "    <tr>\n",
       "      <th>1.0</th>\n",
       "      <td>1.000000</td>\n",
       "      <td>0.516155</td>\n",
       "      <td>0.526349</td>\n",
       "    </tr>\n",
       "    <tr>\n",
       "      <th>2.0</th>\n",
       "      <td>0.516155</td>\n",
       "      <td>1.000000</td>\n",
       "      <td>0.814270</td>\n",
       "    </tr>\n",
       "    <tr>\n",
       "      <th>3.0</th>\n",
       "      <td>0.526349</td>\n",
       "      <td>0.814270</td>\n",
       "      <td>1.000000</td>\n",
       "    </tr>\n",
       "  </tbody>\n",
       "</table>\n",
       "</div>"
      ],
      "text/plain": [
       "          1.0       2.0       3.0\n",
       "1.0  1.000000  0.516155  0.526349\n",
       "2.0  0.516155  1.000000  0.814270\n",
       "3.0  0.526349  0.814270  1.000000"
      ]
     },
     "execution_count": 107,
     "metadata": {},
     "output_type": "execute_result"
    }
   ],
   "source": [
    "print('n young, MA, aged Split Maze sessions: ')\n",
    "print(len(y_sindgrid),len(ma_sindgrid),len(age_sindgrid))\n",
    "\n",
    "print('+ Grid Speed Cell Density Results:')\n",
    "print('speedcell%young ± SEM; speedcell%_MA ± SEM; speedcell%_old ± SEM')\n",
    "print(str(np.round(np.mean(spergrid99[y_sindgrid]), 2)) + ' ± ' + str(np.round(stats.sem(spergrid99[y_sindgrid]), 2)) + ' ; ' \n",
    "      + str(np.round(np.mean(spergrid99[ma_sindgrid]), 2)) + ' ± ' + str(np.round(stats.sem(spergrid99[ma_sindgrid]), 2)) + ' ; ' \n",
    "      + str(np.round(np.mean(spergrid99[age_sindgrid]), 2)) + ' ± ' + str(np.round(stats.sem(spergrid99[age_sindgrid]), 2)))\n",
    "\n",
    "stat, p_diff = stats.kruskal(spergrid99[y_sindgrid],spergrid99[ma_sindgrid],spergrid99[age_sindgrid])\n",
    "print('KW stat = ' + str(stat))\n",
    "print('p_speedcell1%session = ' + str(p_diff))\n",
    "\n",
    "#run post hoc tests on non nan values\n",
    "df = df.dropna(axis = 0)\n",
    "ph.posthoc_conover(df, val_col = 'percentgridpos', group_col = 'AgeGroup', p_adjust = 'holm')"
   ]
  },
  {
   "cell_type": "markdown",
   "id": "bab3e0a9",
   "metadata": {},
   "source": [
    "# Examine speed-FR slope of speed tuned cells not in Figure 6d (Figure S6F)"
   ]
  },
  {
   "cell_type": "code",
   "execution_count": 109,
   "id": "c57d8ba4",
   "metadata": {
    "scrolled": true
   },
   "outputs": [
    {
     "data": {
      "application/vnd.jupyter.widget-view+json": {
       "model_id": "f768907ce7f840529b6d9ded9c9276a2",
       "version_major": 2,
       "version_minor": 0
      },
      "text/plain": [
       "  0%|          | 0/6 [00:00<?, ?it/s]"
      ]
     },
     "metadata": {},
     "output_type": "display_data"
    },
    {
     "name": "stderr",
     "output_type": "stream",
     "text": [
      "C:\\Users\\Python\\anaconda3\\envs\\agingmec\\lib\\site-packages\\numpy\\core\\fromnumeric.py:3464: RuntimeWarning: Mean of empty slice.\n",
      "  return _methods._mean(a, axis=axis, dtype=dtype,\n",
      "C:\\Users\\Python\\anaconda3\\envs\\agingmec\\lib\\site-packages\\numpy\\core\\_methods.py:192: RuntimeWarning: invalid value encountered in scalar divide\n",
      "  ret = ret.dtype.type(ret / rcount)\n"
     ]
    },
    {
     "data": {
      "application/vnd.jupyter.widget-view+json": {
       "model_id": "2c09e040fc88411a96e3afa884b148c9",
       "version_major": 2,
       "version_minor": 0
      },
      "text/plain": [
       "  0%|          | 0/6 [00:00<?, ?it/s]"
      ]
     },
     "metadata": {},
     "output_type": "display_data"
    },
    {
     "data": {
      "application/vnd.jupyter.widget-view+json": {
       "model_id": "2ddb692eee1440aa9f7d384ef447a979",
       "version_major": 2,
       "version_minor": 0
      },
      "text/plain": [
       "  0%|          | 0/6 [00:00<?, ?it/s]"
      ]
     },
     "metadata": {},
     "output_type": "display_data"
    },
    {
     "data": {
      "application/vnd.jupyter.widget-view+json": {
       "model_id": "9ca4d20844814341b0cd2e5c9b3f8e62",
       "version_major": 2,
       "version_minor": 0
      },
      "text/plain": [
       "  0%|          | 0/6 [00:00<?, ?it/s]"
      ]
     },
     "metadata": {},
     "output_type": "display_data"
    },
    {
     "data": {
      "application/vnd.jupyter.widget-view+json": {
       "model_id": "f570a805269c43c79686d54f322bf509",
       "version_major": 2,
       "version_minor": 0
      },
      "text/plain": [
       "  0%|          | 0/6 [00:00<?, ?it/s]"
      ]
     },
     "metadata": {},
     "output_type": "display_data"
    },
    {
     "data": {
      "application/vnd.jupyter.widget-view+json": {
       "model_id": "6c93181b9c694abb8ff73e2a100aa34c",
       "version_major": 2,
       "version_minor": 0
      },
      "text/plain": [
       "  0%|          | 0/5 [00:00<?, ?it/s]"
      ]
     },
     "metadata": {},
     "output_type": "display_data"
    },
    {
     "data": {
      "application/vnd.jupyter.widget-view+json": {
       "model_id": "62d694ed389b431b8f887b76690ca308",
       "version_major": 2,
       "version_minor": 0
      },
      "text/plain": [
       "  0%|          | 0/5 [00:00<?, ?it/s]"
      ]
     },
     "metadata": {},
     "output_type": "display_data"
    },
    {
     "data": {
      "application/vnd.jupyter.widget-view+json": {
       "model_id": "d2e2426aa68e43f29bfa8e3b9271b603",
       "version_major": 2,
       "version_minor": 0
      },
      "text/plain": [
       "  0%|          | 0/6 [00:00<?, ?it/s]"
      ]
     },
     "metadata": {},
     "output_type": "display_data"
    },
    {
     "data": {
      "application/vnd.jupyter.widget-view+json": {
       "model_id": "a5fe4ed9eb5145f99df11f66eac4c910",
       "version_major": 2,
       "version_minor": 0
      },
      "text/plain": [
       "  0%|          | 0/6 [00:00<?, ?it/s]"
      ]
     },
     "metadata": {},
     "output_type": "display_data"
    },
    {
     "data": {
      "application/vnd.jupyter.widget-view+json": {
       "model_id": "08acaf85cddb4ec3961737beab27eb4b",
       "version_major": 2,
       "version_minor": 0
      },
      "text/plain": [
       "  0%|          | 0/6 [00:00<?, ?it/s]"
      ]
     },
     "metadata": {},
     "output_type": "display_data"
    },
    {
     "data": {
      "application/vnd.jupyter.widget-view+json": {
       "model_id": "47fdc6de0c2949af868e2e649490c9b5",
       "version_major": 2,
       "version_minor": 0
      },
      "text/plain": [
       "  0%|          | 0/5 [00:00<?, ?it/s]"
      ]
     },
     "metadata": {},
     "output_type": "display_data"
    },
    {
     "data": {
      "application/vnd.jupyter.widget-view+json": {
       "model_id": "f18dcc5c35384e7f97b99797fa6d4391",
       "version_major": 2,
       "version_minor": 0
      },
      "text/plain": [
       "  0%|          | 0/3 [00:00<?, ?it/s]"
      ]
     },
     "metadata": {},
     "output_type": "display_data"
    },
    {
     "data": {
      "application/vnd.jupyter.widget-view+json": {
       "model_id": "bec0093ee0ee4b73bd4957315add1f1b",
       "version_major": 2,
       "version_minor": 0
      },
      "text/plain": [
       "  0%|          | 0/6 [00:00<?, ?it/s]"
      ]
     },
     "metadata": {},
     "output_type": "display_data"
    },
    {
     "data": {
      "application/vnd.jupyter.widget-view+json": {
       "model_id": "f54c3edc0b6c4dc7be86a64c423b5431",
       "version_major": 2,
       "version_minor": 0
      },
      "text/plain": [
       "  0%|          | 0/6 [00:00<?, ?it/s]"
      ]
     },
     "metadata": {},
     "output_type": "display_data"
    },
    {
     "data": {
      "application/vnd.jupyter.widget-view+json": {
       "model_id": "e6eb58b5aee8442aa850e9b92ad7286d",
       "version_major": 2,
       "version_minor": 0
      },
      "text/plain": [
       "  0%|          | 0/6 [00:00<?, ?it/s]"
      ]
     },
     "metadata": {},
     "output_type": "display_data"
    },
    {
     "data": {
      "application/vnd.jupyter.widget-view+json": {
       "model_id": "49d1acdddde44df68837ff5cb612693c",
       "version_major": 2,
       "version_minor": 0
      },
      "text/plain": [
       "  0%|          | 0/2 [00:00<?, ?it/s]"
      ]
     },
     "metadata": {},
     "output_type": "display_data"
    },
    {
     "data": {
      "application/vnd.jupyter.widget-view+json": {
       "model_id": "7a911ddb2bf946e0aa7bcd230c7888f9",
       "version_major": 2,
       "version_minor": 0
      },
      "text/plain": [
       "  0%|          | 0/3 [00:00<?, ?it/s]"
      ]
     },
     "metadata": {},
     "output_type": "display_data"
    },
    {
     "data": {
      "application/vnd.jupyter.widget-view+json": {
       "model_id": "d9b3a9cd7def4bb18eb9c422ff3563b2",
       "version_major": 2,
       "version_minor": 0
      },
      "text/plain": [
       "  0%|          | 0/6 [00:00<?, ?it/s]"
      ]
     },
     "metadata": {},
     "output_type": "display_data"
    },
    {
     "data": {
      "application/vnd.jupyter.widget-view+json": {
       "model_id": "4053d4b8d09445449df63a3d4cb3e531",
       "version_major": 2,
       "version_minor": 0
      },
      "text/plain": [
       "  0%|          | 0/4 [00:00<?, ?it/s]"
      ]
     },
     "metadata": {},
     "output_type": "display_data"
    },
    {
     "data": {
      "application/vnd.jupyter.widget-view+json": {
       "model_id": "32c07875953b435eb882c60a54f6ed74",
       "version_major": 2,
       "version_minor": 0
      },
      "text/plain": [
       "  0%|          | 0/6 [00:00<?, ?it/s]"
      ]
     },
     "metadata": {},
     "output_type": "display_data"
    },
    {
     "data": {
      "application/vnd.jupyter.widget-view+json": {
       "model_id": "e3fc4d87c23e451f8c0578dd03d3e9e4",
       "version_major": 2,
       "version_minor": 0
      },
      "text/plain": [
       "  0%|          | 0/6 [00:00<?, ?it/s]"
      ]
     },
     "metadata": {},
     "output_type": "display_data"
    },
    {
     "data": {
      "application/vnd.jupyter.widget-view+json": {
       "model_id": "63d1d06328bc403892492d6444ba4225",
       "version_major": 2,
       "version_minor": 0
      },
      "text/plain": [
       "  0%|          | 0/6 [00:00<?, ?it/s]"
      ]
     },
     "metadata": {},
     "output_type": "display_data"
    },
    {
     "data": {
      "application/vnd.jupyter.widget-view+json": {
       "model_id": "9c82352c52c343f2bd6d29a8227d1ba0",
       "version_major": 2,
       "version_minor": 0
      },
      "text/plain": [
       "  0%|          | 0/6 [00:00<?, ?it/s]"
      ]
     },
     "metadata": {},
     "output_type": "display_data"
    },
    {
     "data": {
      "application/vnd.jupyter.widget-view+json": {
       "model_id": "1d6550359d6e4c7eb0d9dcc7bc52088f",
       "version_major": 2,
       "version_minor": 0
      },
      "text/plain": [
       "  0%|          | 0/6 [00:00<?, ?it/s]"
      ]
     },
     "metadata": {},
     "output_type": "display_data"
    },
    {
     "data": {
      "application/vnd.jupyter.widget-view+json": {
       "model_id": "bef100a3885646d29dee389ea961d379",
       "version_major": 2,
       "version_minor": 0
      },
      "text/plain": [
       "  0%|          | 0/6 [00:00<?, ?it/s]"
      ]
     },
     "metadata": {},
     "output_type": "display_data"
    },
    {
     "data": {
      "application/vnd.jupyter.widget-view+json": {
       "model_id": "7edd83dbfb7e497a9b29f03544384850",
       "version_major": 2,
       "version_minor": 0
      },
      "text/plain": [
       "  0%|          | 0/6 [00:00<?, ?it/s]"
      ]
     },
     "metadata": {},
     "output_type": "display_data"
    },
    {
     "data": {
      "application/vnd.jupyter.widget-view+json": {
       "model_id": "b8cdb9def4ce46abb54950a086a5fd9a",
       "version_major": 2,
       "version_minor": 0
      },
      "text/plain": [
       "  0%|          | 0/6 [00:00<?, ?it/s]"
      ]
     },
     "metadata": {},
     "output_type": "display_data"
    },
    {
     "data": {
      "application/vnd.jupyter.widget-view+json": {
       "model_id": "8400c0fa65124df096f23eff5bce5f07",
       "version_major": 2,
       "version_minor": 0
      },
      "text/plain": [
       "  0%|          | 0/4 [00:00<?, ?it/s]"
      ]
     },
     "metadata": {},
     "output_type": "display_data"
    },
    {
     "data": {
      "application/vnd.jupyter.widget-view+json": {
       "model_id": "1d3200f8d0e84eb69104dd904d9aa152",
       "version_major": 2,
       "version_minor": 0
      },
      "text/plain": [
       "  0%|          | 0/6 [00:00<?, ?it/s]"
      ]
     },
     "metadata": {},
     "output_type": "display_data"
    },
    {
     "data": {
      "application/vnd.jupyter.widget-view+json": {
       "model_id": "ca171bda10ad44939d6f8de43c35bb81",
       "version_major": 2,
       "version_minor": 0
      },
      "text/plain": [
       "  0%|          | 0/6 [00:00<?, ?it/s]"
      ]
     },
     "metadata": {},
     "output_type": "display_data"
    },
    {
     "data": {
      "application/vnd.jupyter.widget-view+json": {
       "model_id": "efd384de9aa248238a62dae793f954d0",
       "version_major": 2,
       "version_minor": 0
      },
      "text/plain": [
       "  0%|          | 0/6 [00:00<?, ?it/s]"
      ]
     },
     "metadata": {},
     "output_type": "display_data"
    },
    {
     "data": {
      "application/vnd.jupyter.widget-view+json": {
       "model_id": "e508edab38f14fc0ab2d5dac986c90d5",
       "version_major": 2,
       "version_minor": 0
      },
      "text/plain": [
       "  0%|          | 0/6 [00:00<?, ?it/s]"
      ]
     },
     "metadata": {},
     "output_type": "display_data"
    },
    {
     "data": {
      "application/vnd.jupyter.widget-view+json": {
       "model_id": "d12704a44f4745ba87e7a5585b2513f7",
       "version_major": 2,
       "version_minor": 0
      },
      "text/plain": [
       "  0%|          | 0/6 [00:00<?, ?it/s]"
      ]
     },
     "metadata": {},
     "output_type": "display_data"
    },
    {
     "data": {
      "application/vnd.jupyter.widget-view+json": {
       "model_id": "c5c7c0ca4de5457998df5b999722bbaf",
       "version_major": 2,
       "version_minor": 0
      },
      "text/plain": [
       "  0%|          | 0/6 [00:00<?, ?it/s]"
      ]
     },
     "metadata": {},
     "output_type": "display_data"
    },
    {
     "data": {
      "application/vnd.jupyter.widget-view+json": {
       "model_id": "b62fd43dc6bc4cc2ab10993df13d05b3",
       "version_major": 2,
       "version_minor": 0
      },
      "text/plain": [
       "  0%|          | 0/6 [00:00<?, ?it/s]"
      ]
     },
     "metadata": {},
     "output_type": "display_data"
    },
    {
     "data": {
      "application/vnd.jupyter.widget-view+json": {
       "model_id": "e706f83e5b32497da23938d78c936f4b",
       "version_major": 2,
       "version_minor": 0
      },
      "text/plain": [
       "  0%|          | 0/6 [00:00<?, ?it/s]"
      ]
     },
     "metadata": {},
     "output_type": "display_data"
    },
    {
     "data": {
      "application/vnd.jupyter.widget-view+json": {
       "model_id": "920374f3f10b40c8b89708c78bd07043",
       "version_major": 2,
       "version_minor": 0
      },
      "text/plain": [
       "  0%|          | 0/6 [00:00<?, ?it/s]"
      ]
     },
     "metadata": {},
     "output_type": "display_data"
    },
    {
     "data": {
      "application/vnd.jupyter.widget-view+json": {
       "model_id": "6944fcf060bc4cc1946fbc7eee64cdd6",
       "version_major": 2,
       "version_minor": 0
      },
      "text/plain": [
       "  0%|          | 0/6 [00:00<?, ?it/s]"
      ]
     },
     "metadata": {},
     "output_type": "display_data"
    },
    {
     "data": {
      "application/vnd.jupyter.widget-view+json": {
       "model_id": "2cbbec0634004cd9b0ef9df0bd40da0c",
       "version_major": 2,
       "version_minor": 0
      },
      "text/plain": [
       "  0%|          | 0/6 [00:00<?, ?it/s]"
      ]
     },
     "metadata": {},
     "output_type": "display_data"
    },
    {
     "data": {
      "application/vnd.jupyter.widget-view+json": {
       "model_id": "e0ac524e11cb4004a4217e3380c0bad2",
       "version_major": 2,
       "version_minor": 0
      },
      "text/plain": [
       "  0%|          | 0/6 [00:00<?, ?it/s]"
      ]
     },
     "metadata": {},
     "output_type": "display_data"
    },
    {
     "data": {
      "application/vnd.jupyter.widget-view+json": {
       "model_id": "a85275c77fd643cab252c25d12b7464e",
       "version_major": 2,
       "version_minor": 0
      },
      "text/plain": [
       "  0%|          | 0/6 [00:00<?, ?it/s]"
      ]
     },
     "metadata": {},
     "output_type": "display_data"
    },
    {
     "data": {
      "application/vnd.jupyter.widget-view+json": {
       "model_id": "faa6d9fcb75649aba95f483a12aeda85",
       "version_major": 2,
       "version_minor": 0
      },
      "text/plain": [
       "  0%|          | 0/6 [00:00<?, ?it/s]"
      ]
     },
     "metadata": {},
     "output_type": "display_data"
    },
    {
     "data": {
      "application/vnd.jupyter.widget-view+json": {
       "model_id": "70962f3dabe84664b81d6127b22da83f",
       "version_major": 2,
       "version_minor": 0
      },
      "text/plain": [
       "  0%|          | 0/6 [00:00<?, ?it/s]"
      ]
     },
     "metadata": {},
     "output_type": "display_data"
    },
    {
     "data": {
      "application/vnd.jupyter.widget-view+json": {
       "model_id": "579d2448ad9646239ae8ce9cbc7f7cce",
       "version_major": 2,
       "version_minor": 0
      },
      "text/plain": [
       "  0%|          | 0/6 [00:00<?, ?it/s]"
      ]
     },
     "metadata": {},
     "output_type": "display_data"
    },
    {
     "data": {
      "application/vnd.jupyter.widget-view+json": {
       "model_id": "f5bba032de1b400a99518e680ec1a241",
       "version_major": 2,
       "version_minor": 0
      },
      "text/plain": [
       "  0%|          | 0/6 [00:00<?, ?it/s]"
      ]
     },
     "metadata": {},
     "output_type": "display_data"
    }
   ],
   "source": [
    "'''Collect Speed FR Slopes'''\n",
    "# set up arrays for plotting by session \n",
    "sslope99 = []\n",
    "sslope1 = []\n",
    "sslopeint99 = []\n",
    "sslopegrid99 = []\n",
    "dt = 0.02\n",
    "\n",
    "for m, session in zip(mice,sessions):\n",
    "    m_cells = []\n",
    "    m_99 = []\n",
    "    m_1 = []\n",
    "    \n",
    "    for s in tdqm(session):\n",
    "        d = data[m][s]\n",
    "    \n",
    "        #get file names & load data necessary\n",
    "        rawdata_file = 'RAW_' + m + '_' + s + '.npy'\n",
    "        spikes_file = 'SPIKES_' + m + '_' + s +'.npy'\n",
    "        behavior_file = 'BEHAVIOR_' + m + '_' + s + '.npy'\n",
    "        A_file = 'A_' + m + '_' + s + '.npy'\n",
    "\n",
    "        raw = np.load(load_folder + rawdata_file, allow_pickle=True)\n",
    "        behaviorfil = np.load(load_folder + behavior_file, allow_pickle=False)\n",
    "        \n",
    "        A = np.load(save_folder + A_file)\n",
    "        speed = behaviorfil[:,1]\n",
    "       \n",
    "        #get dict-stored data\n",
    "        cell_IDs = raw.item().get('cellsfil')\n",
    "        speedonly99 = d['speedonly99']\n",
    "        speedonly1 = d['speedonly1']\n",
    "        speedint99 = d['speedint99']\n",
    "        speedgrid99 = d['speedgrid99']\n",
    "        \n",
    "        speedonlycells99 = cell_IDs[speedonly99 == 1] # + speed only \n",
    "        speedonlycells1 = cell_IDs[speedonly1 == 1] # - speed only\n",
    "        speedints99 = cell_IDs[speedint99 == 1] # speed grid cells\n",
    "        speedgrids99 = cell_IDs[speedgrid99 == 1] # speed grid cells\n",
    "        \n",
    "        #get slopes for each speed cell population\n",
    "        slope99 = []\n",
    "        for i, c in enumerate(speedonlycells99):\n",
    "            sdx = (np.where(cell_IDs==c)[0][0]).astype(int)\n",
    "            \n",
    "            #get slope/FR and convert to Hz/speed\n",
    "            slopeFR, intFR, r_value, p_val, std_err = stats.linregress(speed, A[:,sdx])\n",
    "            slopeFR = slopeFR/dt\n",
    "            intFR = intFR/dt\n",
    "            slope99 = np.append(slope99,slopeFR) #FR/speed slope\n",
    "            \n",
    "        slope1 = []\n",
    "        for i, c in enumerate(speedonlycells1):\n",
    "            sdx = (np.where(cell_IDs==c)[0][0]).astype(int)\n",
    "            \n",
    "            #get slope/FR and convert to Hz/speed\n",
    "            slopeFR, intFR, r_value, p_val, std_err = stats.linregress(speed, A[:,sdx])\n",
    "            slopeFR = slopeFR/dt\n",
    "            intFR = intFR/dt\n",
    "            slope1 = np.append(slope1,slopeFR) #FR/speed slope\n",
    "            \n",
    "        slopeint99 = []\n",
    "        for i, c in enumerate(speedints99):\n",
    "            sdx = (np.where(cell_IDs==c)[0][0]).astype(int)\n",
    "            \n",
    "            #get slope/FR and convert to Hz/speed\n",
    "            slopeFR, intFR, r_value, p_val, std_err = stats.linregress(speed, A[:,sdx])\n",
    "            slopeFR = slopeFR/dt\n",
    "            intFR = intFR/dt\n",
    "            slopeint99 = np.append(slopeint99,slopeFR) #FR/speed slope\n",
    "            \n",
    "        slopegrid99 = []\n",
    "        for i, c in enumerate(speedgrids99):\n",
    "            sdx = (np.where(cell_IDs==c)[0][0]).astype(int)\n",
    "            \n",
    "            #get slope/FR and convert to Hz/speed\n",
    "            slopeFR, intFR, r_value, p_val, std_err = stats.linregress(speed, A[:,sdx])\n",
    "            slopeFR = slopeFR/dt\n",
    "            intFR = intFR/dt\n",
    "            slopegrid99 = np.append(slopegrid99,slopeFR) #FR/speed slope\n",
    "        \n",
    "        #pool data into session arrays    \n",
    "        sslope99 = np.append(sslope99, np.mean(slope99))\n",
    "        sslope1 = np.append(sslope1, np.mean(slope1))\n",
    "        sslopeint99 = np.append(sslopeint99, np.mean(slopeint99))\n",
    "        sslopegrid99 = np.append(sslopegrid99, np.mean(slopegrid99))"
   ]
  },
  {
   "cell_type": "code",
   "execution_count": 110,
   "id": "9f6f6123",
   "metadata": {},
   "outputs": [],
   "source": [
    "''' Find where I will have NaNs due to 0% speed cells in a given'''\n",
    "nan_idx99 = np.where((speronly99 == 0))[0]\n",
    "nan_idx1 = np.where((speronly1 == 0))[0]\n",
    "nan_idxint99 = np.where((sperint99 == 0))[0]\n",
    "nan_idxgrid99 = np.union1d(nan_idx, np.where((spergrid99 == 0))[0]) \n",
    "\n",
    "# Adjust y_sind, ma_sind, age_sind for subsequent plots\n",
    "y_sind99 = np.setdiff1d(y_sind, nan_idx99)\n",
    "ma_sind99 = np.setdiff1d(ma_sind, nan_idx99)\n",
    "age_sind99 = np.setdiff1d(age_sind, nan_idx99)\n",
    "\n",
    "y_sind1 = np.setdiff1d(y_sind, nan_idx1)\n",
    "ma_sind1 = np.setdiff1d(ma_sind, nan_idx1)\n",
    "age_sind1 = np.setdiff1d(age_sind, nan_idx1)\n",
    "\n",
    "y_sindint = np.setdiff1d(y_sind, nan_idxint99)\n",
    "ma_sindint = np.setdiff1d(ma_sind, nan_idxint99)\n",
    "age_sindint = np.setdiff1d(age_sind, nan_idxint99)\n",
    "\n",
    "y_sindgrid99 = np.setdiff1d(y_sind, nan_idxgrid99)\n",
    "ma_sindgrid99 = np.setdiff1d(ma_sind, nan_idxgrid99)\n",
    "age_sindgrid99 = np.setdiff1d(age_sind, nan_idxgrid99)\n",
    "\n",
    "# Adjust colormaps for all thresholds\n",
    "yidx = []\n",
    "maidx = []\n",
    "aidx = []\n",
    "for i in nan_idx99:\n",
    "    yidx = np.append(yidx, np.where(y_sind == i)[0].astype(int))\n",
    "    maidx = np.append(maidx, np.where(ma_sind == i)[0].astype(int))\n",
    "    aidx = np.append(aidx, np.where(age_sind == i)[0].astype(int))\n",
    "    \n",
    "col_session_young99 = np.delete(col_session_young, list(yidx.astype(int)), axis = 0)\n",
    "col_session_ma99 = np.delete(col_session_MA, list(maidx.astype(int)), axis = 0)\n",
    "col_session_old99 = np.delete(col_session_old, list(aidx.astype(int)), axis = 0)\n",
    "col_session99 = [col_session_young99, col_session_ma99, col_session_old99] \n",
    "\n",
    "yidx = []\n",
    "maidx = []\n",
    "aidx = []\n",
    "for i in nan_idx1:\n",
    "    yidx = np.append(yidx, np.where(y_sind == i)[0].astype(int))\n",
    "    maidx = np.append(maidx, np.where(ma_sind == i)[0].astype(int))\n",
    "    aidx = np.append(aidx, np.where(age_sind == i)[0].astype(int))\n",
    "    \n",
    "col_session_young1 = np.delete(col_session_young, list(yidx.astype(int)), axis = 0)\n",
    "col_session_ma1 = np.delete(col_session_MA, list(maidx.astype(int)), axis = 0)\n",
    "col_session_old1 = np.delete(col_session_old, list(aidx.astype(int)), axis = 0)\n",
    "col_session1 = [col_session_young1, col_session_ma1, col_session_old1]       \n",
    "\n",
    "yidx = []\n",
    "maidx = []\n",
    "aidx = []\n",
    "for i in nan_idxint99:\n",
    "    yidx = np.append(yidx, np.where(y_sind == i)[0].astype(int))\n",
    "    maidx = np.append(maidx, np.where(ma_sind == i)[0].astype(int))\n",
    "    aidx = np.append(aidx, np.where(age_sind == i)[0].astype(int))\n",
    "    \n",
    "col_session_youngint = np.delete(col_session_young, list(yidx.astype(int)), axis = 0)\n",
    "col_session_maint = np.delete(col_session_MA, list(maidx.astype(int)), axis = 0)\n",
    "col_session_oldint = np.delete(col_session_old, list(aidx.astype(int)), axis = 0)\n",
    "col_sessionint = [col_session_youngint, col_session_maint, col_session_oldint]\n",
    "\n",
    "yidx = []\n",
    "maidx = []\n",
    "aidx = []\n",
    "for i in nan_idxgrid99:\n",
    "    yidx = np.append(yidx, np.where(y_sind == i)[0].astype(int))\n",
    "    maidx = np.append(maidx, np.where(ma_sind == i)[0].astype(int))\n",
    "    aidx = np.append(aidx, np.where(age_sind == i)[0].astype(int))\n",
    "    \n",
    "col_session_younggrid99 = np.delete(col_session_young, list(yidx.astype(int)), axis = 0)\n",
    "col_session_magrid99 = np.delete(col_session_MA, list(maidx.astype(int)), axis = 0)\n",
    "col_session_oldgrid99 = np.delete(col_session_old, list(aidx.astype(int)), axis = 0)\n",
    "col_sessiongrid99 = [col_session_younggrid99, col_session_magrid99, col_session_oldgrid99]"
   ]
  },
  {
   "cell_type": "code",
   "execution_count": 114,
   "id": "a02d65ed",
   "metadata": {},
   "outputs": [
    {
     "data": {
      "image/png": "[encoded data removed]",
      "text/plain": [
       "<Figure size 150x125 with 1 Axes>"
      ]
     },
     "metadata": {},
     "output_type": "display_data"
    },
    {
     "data": {
      "image/png": "[encoded data removed]",
      "text/plain": [
       "<Figure size 150x125 with 1 Axes>"
      ]
     },
     "metadata": {},
     "output_type": "display_data"
    },
    {
     "data": {
      "image/png": "[encoded data removed]",
      "text/plain": [
       "<Figure size 150x125 with 1 Axes>"
      ]
     },
     "metadata": {},
     "output_type": "display_data"
    },
    {
     "data": {
      "image/png": "[encoded data removed]",
      "text/plain": [
       "<Figure size 150x125 with 1 Axes>"
      ]
     },
     "metadata": {},
     "output_type": "display_data"
    }
   ],
   "source": [
    "''' Plot Figure S6F '''\n",
    "\n",
    "#Plot Figure S6F (left)\n",
    "fig, ax = plt.subplots(figsize = (1.5,1.25))\n",
    "sslope = [sslope99[y_sind99], sslope99[ma_sind99], sslope99[age_sind99]]\n",
    "labels = ['Young','MA','Aged']\n",
    "w = 0.5\n",
    "plt.boxplot(sslope, widths = w, labels = labels, medianprops = dict(color = 'black'))\n",
    "\n",
    "for i in range(len(sslope)):\n",
    "    y = sslope[i]\n",
    "    x = np.random.normal(i + 1, 0.04, len(y))\n",
    "    plt.scatter(x, y, color = col_session99[i], edgecolors = col_session99[i], s = 10)\n",
    "            \n",
    "#ax.legend(ncol = 3, handles = handles, labels = label_mice, loc = 'upper right',bbox_to_anchor=(1.8, 1))\n",
    "ax.set_title('+ Speed Only', fontsize=10, pad=5)\n",
    "ax.set_xlabel('Age', fontsize=9, labelpad=1)\n",
    "ax.set_ylabel('Mean Slope (Hz / (cm / s))', fontsize = 9, labelpad=1)\n",
    "ax.tick_params(labelsize = 8)\n",
    "ax.set_ylim([-0.05,0.35])\n",
    "ax.set_yticks([0,0.1,0.2,0.3])\n",
    "#plt.savefig(save_folder + 'age_speedonlycellslope99_session.png', dpi=400, bbox_inches='tight')\n",
    "#plt.savefig(save_folder + 'age_speedonlycellslope99_session.svg', dpi=400, bbox_inches='tight')\n",
    "plt.show()\n",
    "\n",
    "#Plot Figure S6F (second)\n",
    "fig, ax = plt.subplots(figsize = (1.5,1.25))\n",
    "sslope = [sslope1[y_sind1], sslope1[ma_sind1], sslope1[age_sind1]]\n",
    "labels = ['Young','MA','Aged']\n",
    "w = 0.5\n",
    "plt.boxplot(sslope, widths = w, labels = labels, medianprops = dict(color = 'black'))\n",
    "\n",
    "for i in range(len(sslope)):\n",
    "    y = sslope[i]\n",
    "    x = np.random.normal(i + 1, 0.04, len(y))\n",
    "    plt.scatter(x, y, color = col_session1[i], edgecolors = col_session1[i], s = 10)\n",
    "            \n",
    "#ax.legend(ncol = 3, handles = handles, labels = label_mice, loc = 'upper right',bbox_to_anchor=(1.8, 1))\n",
    "ax.set_title('- Speed Only', fontsize=10, pad=5)\n",
    "ax.set_xlabel('Age', fontsize=9, labelpad=1)\n",
    "ax.set_ylabel('Mean Slope (Hz / (cm / s))', fontsize = 9, labelpad=1)\n",
    "ax.tick_params(labelsize = 8)\n",
    "ax.set_ylim([-0.25,0.05])\n",
    "ax.set_yticks([-0.25,-0.2,-0.15,-0.1,-0.05,0, 0.05])\n",
    "#plt.savefig(save_folder + 'age_speedonlycellslope1_session.png', dpi=400, bbox_inches='tight')\n",
    "#plt.savefig(save_folder + 'age_speedonlycellslope1_session.svg', dpi=400, bbox_inches='tight')\n",
    "plt.show()\n",
    "\n",
    "#Plot Figure S6F (third)\n",
    "fig, ax = plt.subplots(figsize = (1.5,1.25))\n",
    "sslope = [sslopeint99[y_sindint], sslopeint99[ma_sindint], sslopeint99[age_sindint]]\n",
    "labels = ['Young','MA','Aged']\n",
    "w = 0.5\n",
    "plt.boxplot(sslope, widths = w, labels = labels, medianprops = dict(color = 'black'))\n",
    "\n",
    "for i in range(len(sslope)):\n",
    "    y = sslope[i]\n",
    "    x = np.random.normal(i + 1, 0.04, len(y))\n",
    "    plt.scatter(x, y, color = col_sessionint[i], edgecolors = col_sessionint[i], s = 10)\n",
    "            \n",
    "#ax.legend(ncol = 3, handles = handles, labels = label_mice, loc = 'upper right',bbox_to_anchor=(1.8, 1))\n",
    "ax.set_title('+ IN Speed', fontsize=10, pad=5)\n",
    "ax.set_xlabel('Age', fontsize=9, labelpad=1)\n",
    "ax.set_ylabel('Mean Slope (Hz / (cm / s))', fontsize = 9, labelpad=1)\n",
    "ax.tick_params(labelsize = 8)\n",
    "ax.set_ylim([0,0.7])\n",
    "ax.set_yticks([0,0.1,0.2,0.3,0.4,0.5,0.6,0.7])\n",
    "#plt.savefig(save_folder + 'age_speedintslope_session.png', dpi=400, bbox_inches='tight')\n",
    "#plt.savefig(save_folder + 'age_speedintslope_session.svg', dpi=400, bbox_inches='tight')\n",
    "plt.show()\n",
    "\n",
    "#Plot Figure S6F (fourth)\n",
    "fig, ax = plt.subplots(figsize = (1.5,1.25))\n",
    "sslope = [sslopegrid99[y_sindgrid99], sslopegrid99[ma_sindgrid99], sslopegrid99[age_sindgrid99]]\n",
    "labels = ['Young','MA','Aged']\n",
    "w = 0.5\n",
    "plt.boxplot(sslope, widths = w, labels = labels, medianprops = dict(color = 'black'))\n",
    "\n",
    "for i in range(len(sslope)):\n",
    "    y = sslope[i]\n",
    "    x = np.random.normal(i + 1, 0.04, len(y))\n",
    "    plt.scatter(x, y, color = col_sessiongrid99[i], edgecolors = col_sessiongrid99[i], s = 10)\n",
    "            \n",
    "#ax.legend(ncol = 3, handles = handles, labels = label_mice, loc = 'upper right',bbox_to_anchor=(1.8, 1))\n",
    "ax.set_title('+ Grid Speed', fontsize=10, pad=5)\n",
    "ax.set_xlabel('Age', fontsize=9, labelpad=1)\n",
    "ax.set_ylabel('Mean Slope (Hz / (cm / s))', fontsize = 9, labelpad=1)\n",
    "ax.tick_params(labelsize = 8)\n",
    "ax.set_ylim([0,0.15])\n",
    "ax.set_yticks([0,0.05,0.1,0.15])\n",
    "plt.savefig(save_folder + 'age_speedgridslope_session.png', dpi=400, bbox_inches='tight')\n",
    "plt.savefig(save_folder + 'age_speedgridslope_session.svg', dpi=400, bbox_inches='tight')\n",
    "plt.show()"
   ]
  },
  {
   "cell_type": "code",
   "execution_count": 124,
   "id": "974068cc",
   "metadata": {},
   "outputs": [
    {
     "name": "stdout",
     "output_type": "stream",
     "text": [
      "n young, MA, aged sessions with + speed only cells: \n",
      "88 56 94\n",
      "\n",
      "+ Speed Only Cell Slope Results:\n",
      "slopeyoung ± SEM; slope_MA ± SEM; slope_old ± SEM\n",
      "0.0413 ± 0.0037 ; 0.033 ± 0.0034 ; 0.0466 ± 0.0035\n",
      "KW stat = 9.648292800444551\n",
      "p_session = 0.008033408260031353\n"
     ]
    },
    {
     "data": {
      "text/html": [
       "<div>\n",
       "<style scoped>\n",
       "    .dataframe tbody tr th:only-of-type {\n",
       "        vertical-align: middle;\n",
       "    }\n",
       "\n",
       "    .dataframe tbody tr th {\n",
       "        vertical-align: top;\n",
       "    }\n",
       "\n",
       "    .dataframe thead th {\n",
       "        text-align: right;\n",
       "    }\n",
       "</style>\n",
       "<table border=\"1\" class=\"dataframe\">\n",
       "  <thead>\n",
       "    <tr style=\"text-align: right;\">\n",
       "      <th></th>\n",
       "      <th>1.0</th>\n",
       "      <th>2.0</th>\n",
       "      <th>3.0</th>\n",
       "    </tr>\n",
       "  </thead>\n",
       "  <tbody>\n",
       "    <tr>\n",
       "      <th>1.0</th>\n",
       "      <td>1.000000</td>\n",
       "      <td>0.084877</td>\n",
       "      <td>0.216073</td>\n",
       "    </tr>\n",
       "    <tr>\n",
       "      <th>2.0</th>\n",
       "      <td>0.084877</td>\n",
       "      <td>1.000000</td>\n",
       "      <td>0.005425</td>\n",
       "    </tr>\n",
       "    <tr>\n",
       "      <th>3.0</th>\n",
       "      <td>0.216073</td>\n",
       "      <td>0.005425</td>\n",
       "      <td>1.000000</td>\n",
       "    </tr>\n",
       "  </tbody>\n",
       "</table>\n",
       "</div>"
      ],
      "text/plain": [
       "          1.0       2.0       3.0\n",
       "1.0  1.000000  0.084877  0.216073\n",
       "2.0  0.084877  1.000000  0.005425\n",
       "3.0  0.216073  0.005425  1.000000"
      ]
     },
     "execution_count": 124,
     "metadata": {},
     "output_type": "execute_result"
    }
   ],
   "source": [
    "'''Speed Cell Slope Statistics with Multiple Comparisons by Session'''\n",
    "\n",
    "print('n young, MA, aged sessions with + speed only cells: ')\n",
    "print(len(y_sind99),len(ma_sind99),len(age_sind99))\n",
    "\n",
    "print('\\n+ Speed Only Cell Slope Results:')\n",
    "print('slopeyoung ± SEM; slope_MA ± SEM; slope_old ± SEM')\n",
    "print(str(np.round(np.mean(sslope99[y_sind99]), 4)) + ' ± ' + str(np.round(stats.sem(sslope99[y_sind99]), 4)) + ' ; ' \n",
    "      + str(np.round(np.mean(sslope99[ma_sind99]), 4)) + ' ± ' + str(np.round(stats.sem(sslope99[ma_sind99]), 4)) + ' ; ' \n",
    "      + str(np.round(np.mean(sslope99[age_sind99]), 4)) + ' ± ' + str(np.round(stats.sem(sslope99[age_sind99]), 4)))\n",
    "()\n",
    "stat, p_diff = stats.kruskal(sslope99[y_sind99],sslope99[ma_sind99],sslope99[age_sind99])\n",
    "print('KW stat = ' + str(stat))\n",
    "print('p_session = ' + str(p_diff))\n",
    "\n",
    "# Collect all relevant data into pandas dataframe\n",
    "allidx = np.concatenate((y_sind99,ma_sind99,age_sind99))\n",
    "Animal_ID = list(seshmice[allidx])\n",
    "Session = list(seshcount[allidx])\n",
    "Age_Group = list(seshage[allidx])\n",
    "Slopeneg = list(sslope1[allidx])\n",
    "Slopepos = list(sslope99[allidx])\n",
    "Slopeintpos = list(sslopeint99[allidx])\n",
    "Slopegridpos = list(sslopegrid99[allidx])\n",
    "\n",
    "tuples = list(zip(Animal_ID, Session, Age_Group, Slopeneg,Slopepos,Slopeintpos,Slopegridpos))\n",
    "tuples\n",
    "\n",
    "df = pd.DataFrame(tuples, columns = ['AnimalID', 'Session', 'AgeGroup','slopeneg','slopepos','slopeintpos','slopegridpos'])\n",
    "\n",
    "#run post hoc tests\n",
    "ph.posthoc_conover(df, val_col = 'slopepos', group_col = 'AgeGroup', p_adjust = 'holm')"
   ]
  },
  {
   "cell_type": "code",
   "execution_count": 125,
   "id": "4a71af62",
   "metadata": {},
   "outputs": [
    {
     "name": "stdout",
     "output_type": "stream",
     "text": [
      "n young, MA, aged sessions with - speed only cells: \n",
      "89 51 92\n",
      "\n",
      "- Speed Only Cell Slope Results:\n",
      "slopeyoung ± SEM; slope_MA ± SEM; slope_old ± SEM\n",
      "-0.0308 ± 0.0042 ; -0.0198 ± 0.0018 ; -0.0348 ± 0.0033\n",
      "KW stat = 12.866347184371307\n",
      "p_session = 0.0016073416845858524\n"
     ]
    },
    {
     "data": {
      "text/html": [
       "<div>\n",
       "<style scoped>\n",
       "    .dataframe tbody tr th:only-of-type {\n",
       "        vertical-align: middle;\n",
       "    }\n",
       "\n",
       "    .dataframe tbody tr th {\n",
       "        vertical-align: top;\n",
       "    }\n",
       "\n",
       "    .dataframe thead th {\n",
       "        text-align: right;\n",
       "    }\n",
       "</style>\n",
       "<table border=\"1\" class=\"dataframe\">\n",
       "  <thead>\n",
       "    <tr style=\"text-align: right;\">\n",
       "      <th></th>\n",
       "      <th>1.0</th>\n",
       "      <th>2.0</th>\n",
       "      <th>3.0</th>\n",
       "    </tr>\n",
       "  </thead>\n",
       "  <tbody>\n",
       "    <tr>\n",
       "      <th>1.0</th>\n",
       "      <td>1.000000</td>\n",
       "      <td>0.092466</td>\n",
       "      <td>0.054913</td>\n",
       "    </tr>\n",
       "    <tr>\n",
       "      <th>2.0</th>\n",
       "      <td>0.092466</td>\n",
       "      <td>1.000000</td>\n",
       "      <td>0.001215</td>\n",
       "    </tr>\n",
       "    <tr>\n",
       "      <th>3.0</th>\n",
       "      <td>0.054913</td>\n",
       "      <td>0.001215</td>\n",
       "      <td>1.000000</td>\n",
       "    </tr>\n",
       "  </tbody>\n",
       "</table>\n",
       "</div>"
      ],
      "text/plain": [
       "          1.0       2.0       3.0\n",
       "1.0  1.000000  0.092466  0.054913\n",
       "2.0  0.092466  1.000000  0.001215\n",
       "3.0  0.054913  0.001215  1.000000"
      ]
     },
     "execution_count": 125,
     "metadata": {},
     "output_type": "execute_result"
    }
   ],
   "source": [
    "print('n young, MA, aged sessions with - speed only cells: ')\n",
    "print(len(y_sind1),len(ma_sind1),len(age_sind1))\n",
    "\n",
    "print('\\n- Speed Only Cell Slope Results:')\n",
    "print('slopeyoung ± SEM; slope_MA ± SEM; slope_old ± SEM')\n",
    "print(str(np.round(np.mean(sslope1[y_sind1]), 4)) + ' ± ' + str(np.round(stats.sem(sslope1[y_sind1]), 4)) + ' ; ' \n",
    "      + str(np.round(np.mean(sslope1[ma_sind1]), 4)) + ' ± ' + str(np.round(stats.sem(sslope1[ma_sind1]), 4)) + ' ; ' \n",
    "      + str(np.round(np.mean(sslope1[age_sind1]), 4)) + ' ± ' + str(np.round(stats.sem(sslope1[age_sind1]), 4)))\n",
    "()\n",
    "stat, p_diff = stats.kruskal(sslope1[y_sind1],sslope1[ma_sind1],sslope1[age_sind1])\n",
    "print('KW stat = ' + str(stat))\n",
    "print('p_session = ' + str(p_diff))\n",
    "\n",
    "# Collect all relevant data into pandas dataframe\n",
    "allidx = np.concatenate((y_sind1,ma_sind1,age_sind1))\n",
    "Animal_ID = list(seshmice[allidx])\n",
    "Session = list(seshcount[allidx])\n",
    "Age_Group = list(seshage[allidx])\n",
    "Slopeneg = list(sslope1[allidx])\n",
    "Slopepos = list(sslope99[allidx])\n",
    "Slopeintpos = list(sslopeint99[allidx])\n",
    "Slopegridpos = list(sslopegrid99[allidx])\n",
    "\n",
    "tuples = list(zip(Animal_ID, Session, Age_Group, Slopeneg,Slopepos,Slopeintpos,Slopegridpos))\n",
    "tuples\n",
    "\n",
    "df = pd.DataFrame(tuples, columns = ['AnimalID', 'Session', 'AgeGroup','slopeneg','slopepos','slopeintpos','slopegridpos'])\n",
    "\n",
    "#run post hoc tests\n",
    "ph.posthoc_conover(df, val_col = 'slopeneg', group_col = 'AgeGroup', p_adjust = 'holm')"
   ]
  },
  {
   "cell_type": "code",
   "execution_count": 126,
   "id": "ca14d4f1",
   "metadata": {},
   "outputs": [
    {
     "name": "stdout",
     "output_type": "stream",
     "text": [
      "n young, MA, aged sessions with + IN speed cells: \n",
      "94 58 95\n",
      "\n",
      "+ IN Speed Cell Slope Results:\n",
      "slopeyoung ± SEM; slope_MA ± SEM; slope_old ± SEM\n",
      "0.1458 ± 0.0057 ; 0.1588 ± 0.0083 ; 0.1857 ± 0.0082\n",
      "KW stat = 13.245725964891108\n",
      "p_session = 0.001329618815857892\n"
     ]
    },
    {
     "data": {
      "text/html": [
       "<div>\n",
       "<style scoped>\n",
       "    .dataframe tbody tr th:only-of-type {\n",
       "        vertical-align: middle;\n",
       "    }\n",
       "\n",
       "    .dataframe tbody tr th {\n",
       "        vertical-align: top;\n",
       "    }\n",
       "\n",
       "    .dataframe thead th {\n",
       "        text-align: right;\n",
       "    }\n",
       "</style>\n",
       "<table border=\"1\" class=\"dataframe\">\n",
       "  <thead>\n",
       "    <tr style=\"text-align: right;\">\n",
       "      <th></th>\n",
       "      <th>1.0</th>\n",
       "      <th>2.0</th>\n",
       "      <th>3.0</th>\n",
       "    </tr>\n",
       "  </thead>\n",
       "  <tbody>\n",
       "    <tr>\n",
       "      <th>1.0</th>\n",
       "      <td>1.000000</td>\n",
       "      <td>0.230722</td>\n",
       "      <td>0.000808</td>\n",
       "    </tr>\n",
       "    <tr>\n",
       "      <th>2.0</th>\n",
       "      <td>0.230722</td>\n",
       "      <td>1.000000</td>\n",
       "      <td>0.088130</td>\n",
       "    </tr>\n",
       "    <tr>\n",
       "      <th>3.0</th>\n",
       "      <td>0.000808</td>\n",
       "      <td>0.088130</td>\n",
       "      <td>1.000000</td>\n",
       "    </tr>\n",
       "  </tbody>\n",
       "</table>\n",
       "</div>"
      ],
      "text/plain": [
       "          1.0       2.0       3.0\n",
       "1.0  1.000000  0.230722  0.000808\n",
       "2.0  0.230722  1.000000  0.088130\n",
       "3.0  0.000808  0.088130  1.000000"
      ]
     },
     "execution_count": 126,
     "metadata": {},
     "output_type": "execute_result"
    }
   ],
   "source": [
    "print('n young, MA, aged sessions with + IN speed cells: ')\n",
    "print(len(y_sindint),len(ma_sindint),len(age_sindint))\n",
    "\n",
    "print('\\n+ IN Speed Cell Slope Results:')\n",
    "print('slopeyoung ± SEM; slope_MA ± SEM; slope_old ± SEM')\n",
    "print(str(np.round(np.mean(sslopeint99[y_sindint]), 4)) + ' ± ' + str(np.round(stats.sem(sslopeint99[y_sindint]), 4)) + ' ; ' \n",
    "      + str(np.round(np.mean(sslopeint99[ma_sindint]), 4)) + ' ± ' + str(np.round(stats.sem(sslopeint99[ma_sindint]), 4)) + ' ; ' \n",
    "      + str(np.round(np.mean(sslopeint99[age_sindint]), 4)) + ' ± ' + str(np.round(stats.sem(sslopeint99[age_sindint]), 4)))\n",
    "()\n",
    "stat, p_diff = stats.kruskal(sslopeint99[y_sindint],sslopeint99[ma_sindint],sslopeint99[age_sindint])\n",
    "print('KW stat = ' + str(stat))\n",
    "print('p_session = ' + str(p_diff))\n",
    "\n",
    "# Collect all relevant data into pandas dataframe\n",
    "allidx = np.concatenate((y_sindint,ma_sindint,age_sindint))\n",
    "Animal_ID = list(seshmice[allidx])\n",
    "Session = list(seshcount[allidx])\n",
    "Age_Group = list(seshage[allidx])\n",
    "Slopeneg = list(sslope1[allidx])\n",
    "Slopepos = list(sslope99[allidx])\n",
    "Slopeintpos = list(sslopeint99[allidx])\n",
    "Slopegridpos = list(sslopegrid99[allidx])\n",
    "\n",
    "tuples = list(zip(Animal_ID, Session, Age_Group, Slopeneg,Slopepos,Slopeintpos,Slopegridpos))\n",
    "tuples\n",
    "\n",
    "df = pd.DataFrame(tuples, columns = ['AnimalID', 'Session', 'AgeGroup','slopeneg','slopepos','slopeintpos','slopegridpos'])\n",
    "\n",
    "#run post hoc tests\n",
    "ph.posthoc_conover(df, val_col = 'slopeintpos', group_col = 'AgeGroup', p_adjust = 'holm')"
   ]
  },
  {
   "cell_type": "code",
   "execution_count": 127,
   "id": "7a2a9a4b",
   "metadata": {},
   "outputs": [
    {
     "name": "stdout",
     "output_type": "stream",
     "text": [
      "n young, MA, aged sessions with + grid speed cells: \n",
      "52 57 50\n",
      "\n",
      "+ Grid Speed Cell Slope Results:\n",
      "slopeyoung ± SEM; slope_MA ± SEM; slope_old ± SEM\n",
      "0.046 ± 0.0016 ; 0.054 ± 0.0024 ; 0.0536 ± 0.0036\n",
      "KW stat = 6.670704249738947\n",
      "p_session = 0.035602047637552245\n"
     ]
    },
    {
     "data": {
      "text/html": [
       "<div>\n",
       "<style scoped>\n",
       "    .dataframe tbody tr th:only-of-type {\n",
       "        vertical-align: middle;\n",
       "    }\n",
       "\n",
       "    .dataframe tbody tr th {\n",
       "        vertical-align: top;\n",
       "    }\n",
       "\n",
       "    .dataframe thead th {\n",
       "        text-align: right;\n",
       "    }\n",
       "</style>\n",
       "<table border=\"1\" class=\"dataframe\">\n",
       "  <thead>\n",
       "    <tr style=\"text-align: right;\">\n",
       "      <th></th>\n",
       "      <th>1.0</th>\n",
       "      <th>2.0</th>\n",
       "      <th>3.0</th>\n",
       "    </tr>\n",
       "  </thead>\n",
       "  <tbody>\n",
       "    <tr>\n",
       "      <th>1.0</th>\n",
       "      <td>1.000000</td>\n",
       "      <td>0.044109</td>\n",
       "      <td>0.091113</td>\n",
       "    </tr>\n",
       "    <tr>\n",
       "      <th>2.0</th>\n",
       "      <td>0.044109</td>\n",
       "      <td>1.000000</td>\n",
       "      <td>0.703523</td>\n",
       "    </tr>\n",
       "    <tr>\n",
       "      <th>3.0</th>\n",
       "      <td>0.091113</td>\n",
       "      <td>0.703523</td>\n",
       "      <td>1.000000</td>\n",
       "    </tr>\n",
       "  </tbody>\n",
       "</table>\n",
       "</div>"
      ],
      "text/plain": [
       "          1.0       2.0       3.0\n",
       "1.0  1.000000  0.044109  0.091113\n",
       "2.0  0.044109  1.000000  0.703523\n",
       "3.0  0.091113  0.703523  1.000000"
      ]
     },
     "execution_count": 127,
     "metadata": {},
     "output_type": "execute_result"
    }
   ],
   "source": [
    "print('n young, MA, aged sessions with + grid speed cells: ')\n",
    "print(len(y_sindgrid99),len(ma_sindgrid99),len(age_sindgrid99))\n",
    "\n",
    "print('\\n+ Grid Speed Cell Slope Results:')\n",
    "print('slopeyoung ± SEM; slope_MA ± SEM; slope_old ± SEM')\n",
    "print(str(np.round(np.mean(sslopegrid99[y_sindgrid99]), 4)) + ' ± ' + str(np.round(stats.sem(sslopegrid99[y_sindgrid99]), 4)) + ' ; ' \n",
    "      + str(np.round(np.mean(sslopegrid99[ma_sindgrid99]), 4)) + ' ± ' + str(np.round(stats.sem(sslopegrid99[ma_sindgrid99]), 4)) + ' ; ' \n",
    "      + str(np.round(np.mean(sslopegrid99[age_sindgrid99]), 4)) + ' ± ' + str(np.round(stats.sem(sslopegrid99[age_sindgrid99]), 4)))\n",
    "()\n",
    "stat, p_diff = stats.kruskal(sslopegrid99[y_sindgrid99],sslopegrid99[ma_sindgrid99],sslopegrid99[age_sindgrid99])\n",
    "print('KW stat = ' + str(stat))\n",
    "print('p_session = ' + str(p_diff))\n",
    "\n",
    "# Collect all relevant data into pandas dataframe\n",
    "allidx = np.concatenate((y_sindgrid99,ma_sindgrid99,age_sindgrid99))\n",
    "Animal_ID = list(seshmice[allidx])\n",
    "Session = list(seshcount[allidx])\n",
    "Age_Group = list(seshage[allidx])\n",
    "Slopeneg = list(sslope1[allidx])\n",
    "Slopepos = list(sslope99[allidx])\n",
    "Slopeintpos = list(sslopeint99[allidx])\n",
    "Slopegridpos = list(sslopegrid99[allidx])\n",
    "\n",
    "tuples = list(zip(Animal_ID, Session, Age_Group, Slopeneg,Slopepos,Slopeintpos,Slopegridpos))\n",
    "tuples\n",
    "\n",
    "df = pd.DataFrame(tuples, columns = ['AnimalID', 'Session', 'AgeGroup','slopeneg','slopepos','slopeintpos','slopegridpos'])\n",
    "\n",
    "#run post hoc tests\n",
    "ph.posthoc_conover(df, val_col = 'slopegridpos', group_col = 'AgeGroup', p_adjust = 'holm')"
   ]
  },
  {
   "cell_type": "markdown",
   "id": "21eaed0e",
   "metadata": {},
   "source": [
    "# Examine speed tuning stability of speed tuned cell types (Figures S6G)"
   ]
  },
  {
   "cell_type": "code",
   "execution_count": null,
   "id": "9ba122f6",
   "metadata": {
    "scrolled": true
   },
   "outputs": [
    {
     "data": {
      "application/vnd.jupyter.widget-view+json": {
       "model_id": "61fbc62c1743427a8e9a8af7180fdbef",
       "version_major": 2,
       "version_minor": 0
      },
      "text/plain": [
       "  0%|          | 0/6 [00:00<?, ?it/s]"
      ]
     },
     "metadata": {},
     "output_type": "display_data"
    },
    {
     "name": "stderr",
     "output_type": "stream",
     "text": [
      "C:\\Users\\Python\\anaconda3\\envs\\agingmec\\lib\\site-packages\\scipy\\stats\\_stats_py.py:4424: ConstantInputWarning: An input array is constant; the correlation coefficient is not defined.\n",
      "  warnings.warn(stats.ConstantInputWarning(msg))\n",
      "C:\\Users\\Python\\anaconda3\\envs\\agingmec\\lib\\site-packages\\numpy\\core\\fromnumeric.py:3464: RuntimeWarning: Mean of empty slice.\n",
      "  return _methods._mean(a, axis=axis, dtype=dtype,\n",
      "C:\\Users\\Python\\anaconda3\\envs\\agingmec\\lib\\site-packages\\numpy\\core\\_methods.py:192: RuntimeWarning: invalid value encountered in scalar divide\n",
      "  ret = ret.dtype.type(ret / rcount)\n"
     ]
    },
    {
     "data": {
      "application/vnd.jupyter.widget-view+json": {
       "model_id": "a793363d545d4e738300dc86df9f2679",
       "version_major": 2,
       "version_minor": 0
      },
      "text/plain": [
       "  0%|          | 0/6 [00:00<?, ?it/s]"
      ]
     },
     "metadata": {},
     "output_type": "display_data"
    },
    {
     "data": {
      "application/vnd.jupyter.widget-view+json": {
       "model_id": "5e22c2f703b44de1b23b74a1cbc72d6c",
       "version_major": 2,
       "version_minor": 0
      },
      "text/plain": [
       "  0%|          | 0/6 [00:00<?, ?it/s]"
      ]
     },
     "metadata": {},
     "output_type": "display_data"
    },
    {
     "data": {
      "application/vnd.jupyter.widget-view+json": {
       "model_id": "df01707ed13e4b1e820e0779a1abe197",
       "version_major": 2,
       "version_minor": 0
      },
      "text/plain": [
       "  0%|          | 0/6 [00:00<?, ?it/s]"
      ]
     },
     "metadata": {},
     "output_type": "display_data"
    },
    {
     "data": {
      "application/vnd.jupyter.widget-view+json": {
       "model_id": "481e8a1dc1374a9da39c09f129f09a2b",
       "version_major": 2,
       "version_minor": 0
      },
      "text/plain": [
       "  0%|          | 0/6 [00:00<?, ?it/s]"
      ]
     },
     "metadata": {},
     "output_type": "display_data"
    },
    {
     "data": {
      "application/vnd.jupyter.widget-view+json": {
       "model_id": "12c3c40e20314310acc0114a19e00083",
       "version_major": 2,
       "version_minor": 0
      },
      "text/plain": [
       "  0%|          | 0/5 [00:00<?, ?it/s]"
      ]
     },
     "metadata": {},
     "output_type": "display_data"
    },
    {
     "data": {
      "application/vnd.jupyter.widget-view+json": {
       "model_id": "d732a7c6d16c44e489cc46bfefbb049e",
       "version_major": 2,
       "version_minor": 0
      },
      "text/plain": [
       "  0%|          | 0/5 [00:00<?, ?it/s]"
      ]
     },
     "metadata": {},
     "output_type": "display_data"
    },
    {
     "data": {
      "application/vnd.jupyter.widget-view+json": {
       "model_id": "7fb7536e61d841a2ac045e3e356c6d42",
       "version_major": 2,
       "version_minor": 0
      },
      "text/plain": [
       "  0%|          | 0/6 [00:00<?, ?it/s]"
      ]
     },
     "metadata": {},
     "output_type": "display_data"
    },
    {
     "data": {
      "application/vnd.jupyter.widget-view+json": {
       "model_id": "05b1e6c3ee5f46889915673a709d781a",
       "version_major": 2,
       "version_minor": 0
      },
      "text/plain": [
       "  0%|          | 0/6 [00:00<?, ?it/s]"
      ]
     },
     "metadata": {},
     "output_type": "display_data"
    },
    {
     "data": {
      "application/vnd.jupyter.widget-view+json": {
       "model_id": "76cbe6da440c4dee9fe23f736eb9172d",
       "version_major": 2,
       "version_minor": 0
      },
      "text/plain": [
       "  0%|          | 0/6 [00:00<?, ?it/s]"
      ]
     },
     "metadata": {},
     "output_type": "display_data"
    },
    {
     "data": {
      "application/vnd.jupyter.widget-view+json": {
       "model_id": "b4f1fca263a14187bce68f2192e31b68",
       "version_major": 2,
       "version_minor": 0
      },
      "text/plain": [
       "  0%|          | 0/5 [00:00<?, ?it/s]"
      ]
     },
     "metadata": {},
     "output_type": "display_data"
    },
    {
     "data": {
      "application/vnd.jupyter.widget-view+json": {
       "model_id": "f7f2b5bc471648948b9fbbe2a85b9ed4",
       "version_major": 2,
       "version_minor": 0
      },
      "text/plain": [
       "  0%|          | 0/3 [00:00<?, ?it/s]"
      ]
     },
     "metadata": {},
     "output_type": "display_data"
    },
    {
     "data": {
      "application/vnd.jupyter.widget-view+json": {
       "model_id": "68e18823b68b4227a5afe96cb2ee36bc",
       "version_major": 2,
       "version_minor": 0
      },
      "text/plain": [
       "  0%|          | 0/6 [00:00<?, ?it/s]"
      ]
     },
     "metadata": {},
     "output_type": "display_data"
    },
    {
     "data": {
      "application/vnd.jupyter.widget-view+json": {
       "model_id": "9a20e45c2a1b4b8aa1fab9107870c1a2",
       "version_major": 2,
       "version_minor": 0
      },
      "text/plain": [
       "  0%|          | 0/6 [00:00<?, ?it/s]"
      ]
     },
     "metadata": {},
     "output_type": "display_data"
    },
    {
     "data": {
      "application/vnd.jupyter.widget-view+json": {
       "model_id": "0b5c545910ef4b7aac4a966f90243267",
       "version_major": 2,
       "version_minor": 0
      },
      "text/plain": [
       "  0%|          | 0/6 [00:00<?, ?it/s]"
      ]
     },
     "metadata": {},
     "output_type": "display_data"
    },
    {
     "data": {
      "application/vnd.jupyter.widget-view+json": {
       "model_id": "6d8aa1ef4a284443a036d43ea6959f05",
       "version_major": 2,
       "version_minor": 0
      },
      "text/plain": [
       "  0%|          | 0/2 [00:00<?, ?it/s]"
      ]
     },
     "metadata": {},
     "output_type": "display_data"
    },
    {
     "data": {
      "application/vnd.jupyter.widget-view+json": {
       "model_id": "fbae80cfa3f647458740880e9e754380",
       "version_major": 2,
       "version_minor": 0
      },
      "text/plain": [
       "  0%|          | 0/3 [00:00<?, ?it/s]"
      ]
     },
     "metadata": {},
     "output_type": "display_data"
    },
    {
     "data": {
      "application/vnd.jupyter.widget-view+json": {
       "model_id": "e3260f02b6d1481d88b0337aafe5fb9a",
       "version_major": 2,
       "version_minor": 0
      },
      "text/plain": [
       "  0%|          | 0/6 [00:00<?, ?it/s]"
      ]
     },
     "metadata": {},
     "output_type": "display_data"
    },
    {
     "data": {
      "application/vnd.jupyter.widget-view+json": {
       "model_id": "9dab93287ca847f1ae7d1c02699cd4b0",
       "version_major": 2,
       "version_minor": 0
      },
      "text/plain": [
       "  0%|          | 0/4 [00:00<?, ?it/s]"
      ]
     },
     "metadata": {},
     "output_type": "display_data"
    },
    {
     "data": {
      "application/vnd.jupyter.widget-view+json": {
       "model_id": "7c4a81c88f9c48d29dc08293df781fb0",
       "version_major": 2,
       "version_minor": 0
      },
      "text/plain": [
       "  0%|          | 0/6 [00:00<?, ?it/s]"
      ]
     },
     "metadata": {},
     "output_type": "display_data"
    },
    {
     "data": {
      "application/vnd.jupyter.widget-view+json": {
       "model_id": "57c27275ccb34787b0f0db71d7b711ca",
       "version_major": 2,
       "version_minor": 0
      },
      "text/plain": [
       "  0%|          | 0/6 [00:00<?, ?it/s]"
      ]
     },
     "metadata": {},
     "output_type": "display_data"
    },
    {
     "data": {
      "application/vnd.jupyter.widget-view+json": {
       "model_id": "c1ec9d96da424e23b2734c32f9a7cd0f",
       "version_major": 2,
       "version_minor": 0
      },
      "text/plain": [
       "  0%|          | 0/6 [00:00<?, ?it/s]"
      ]
     },
     "metadata": {},
     "output_type": "display_data"
    },
    {
     "data": {
      "application/vnd.jupyter.widget-view+json": {
       "model_id": "e6cdf05d85c94d8280283b34273c6ee8",
       "version_major": 2,
       "version_minor": 0
      },
      "text/plain": [
       "  0%|          | 0/6 [00:00<?, ?it/s]"
      ]
     },
     "metadata": {},
     "output_type": "display_data"
    },
    {
     "data": {
      "application/vnd.jupyter.widget-view+json": {
       "model_id": "c20e619fec8c43f3b21fc68fb0438a9c",
       "version_major": 2,
       "version_minor": 0
      },
      "text/plain": [
       "  0%|          | 0/6 [00:00<?, ?it/s]"
      ]
     },
     "metadata": {},
     "output_type": "display_data"
    },
    {
     "data": {
      "application/vnd.jupyter.widget-view+json": {
       "model_id": "352eb0255af5430e9c88b128473f11d1",
       "version_major": 2,
       "version_minor": 0
      },
      "text/plain": [
       "  0%|          | 0/6 [00:00<?, ?it/s]"
      ]
     },
     "metadata": {},
     "output_type": "display_data"
    },
    {
     "data": {
      "application/vnd.jupyter.widget-view+json": {
       "model_id": "ea756c569ab947bc81906aee4e553661",
       "version_major": 2,
       "version_minor": 0
      },
      "text/plain": [
       "  0%|          | 0/6 [00:00<?, ?it/s]"
      ]
     },
     "metadata": {},
     "output_type": "display_data"
    },
    {
     "data": {
      "application/vnd.jupyter.widget-view+json": {
       "model_id": "12a35bb784e24d39b07d5fc7262b13d8",
       "version_major": 2,
       "version_minor": 0
      },
      "text/plain": [
       "  0%|          | 0/6 [00:00<?, ?it/s]"
      ]
     },
     "metadata": {},
     "output_type": "display_data"
    },
    {
     "data": {
      "application/vnd.jupyter.widget-view+json": {
       "model_id": "682fefb1a3c44220b5cc5dca4a4d3b7f",
       "version_major": 2,
       "version_minor": 0
      },
      "text/plain": [
       "  0%|          | 0/4 [00:00<?, ?it/s]"
      ]
     },
     "metadata": {},
     "output_type": "display_data"
    },
    {
     "data": {
      "application/vnd.jupyter.widget-view+json": {
       "model_id": "bdb1ca3769214ec88bd00c68749a6a67",
       "version_major": 2,
       "version_minor": 0
      },
      "text/plain": [
       "  0%|          | 0/6 [00:00<?, ?it/s]"
      ]
     },
     "metadata": {},
     "output_type": "display_data"
    },
    {
     "data": {
      "application/vnd.jupyter.widget-view+json": {
       "model_id": "ee0e80bcc9cb4d3d85bb3f784d44a98e",
       "version_major": 2,
       "version_minor": 0
      },
      "text/plain": [
       "  0%|          | 0/6 [00:00<?, ?it/s]"
      ]
     },
     "metadata": {},
     "output_type": "display_data"
    },
    {
     "data": {
      "application/vnd.jupyter.widget-view+json": {
       "model_id": "d27218ec1fc94d619f45f153e15b675f",
       "version_major": 2,
       "version_minor": 0
      },
      "text/plain": [
       "  0%|          | 0/6 [00:00<?, ?it/s]"
      ]
     },
     "metadata": {},
     "output_type": "display_data"
    },
    {
     "data": {
      "application/vnd.jupyter.widget-view+json": {
       "model_id": "79eb6c3341f6477fb1914e39d7986a93",
       "version_major": 2,
       "version_minor": 0
      },
      "text/plain": [
       "  0%|          | 0/6 [00:00<?, ?it/s]"
      ]
     },
     "metadata": {},
     "output_type": "display_data"
    },
    {
     "data": {
      "application/vnd.jupyter.widget-view+json": {
       "model_id": "2c9782a6803949cda1e426aa5fef9b69",
       "version_major": 2,
       "version_minor": 0
      },
      "text/plain": [
       "  0%|          | 0/6 [00:00<?, ?it/s]"
      ]
     },
     "metadata": {},
     "output_type": "display_data"
    },
    {
     "data": {
      "application/vnd.jupyter.widget-view+json": {
       "model_id": "01524380d5424ff0947da1ea6821f4b0",
       "version_major": 2,
       "version_minor": 0
      },
      "text/plain": [
       "  0%|          | 0/6 [00:00<?, ?it/s]"
      ]
     },
     "metadata": {},
     "output_type": "display_data"
    },
    {
     "data": {
      "application/vnd.jupyter.widget-view+json": {
       "model_id": "a4ebb62ad835497dafcd66dbb84af0df",
       "version_major": 2,
       "version_minor": 0
      },
      "text/plain": [
       "  0%|          | 0/6 [00:00<?, ?it/s]"
      ]
     },
     "metadata": {},
     "output_type": "display_data"
    },
    {
     "data": {
      "application/vnd.jupyter.widget-view+json": {
       "model_id": "ce24d1bda8d54f14b748536df4e38b89",
       "version_major": 2,
       "version_minor": 0
      },
      "text/plain": [
       "  0%|          | 0/6 [00:00<?, ?it/s]"
      ]
     },
     "metadata": {},
     "output_type": "display_data"
    }
   ],
   "source": [
    "'''Collect Speed Tuning Stability over Trials\n",
    "\n",
    "Run time: 5-15 seconds / session\n",
    "\n",
    "'''\n",
    "# set up arrays for plotting by session \n",
    "strialstabscore99 = []\n",
    "strialstabscore1 = []\n",
    "strialstabscoreint99 = []\n",
    "strialstabscoregrid99 = []\n",
    "dt = 0.02\n",
    "\n",
    "for m, session in zip(mice,sessions):\n",
    "    m_cells = []\n",
    "    m_99 = []\n",
    "    m_1 = []\n",
    "    \n",
    "    for s in tdqm(session):\n",
    "        d = data[m][s]\n",
    "    \n",
    "        #get file names & load data necessary\n",
    "        rawdata_file = 'RAW_' + m + '_' + s + '.npy'\n",
    "        spikes_file = 'SPIKES_' + m + '_' + s +'.npy'\n",
    "        behavior_file = 'BEHAVIOR_' + m + '_' + s + '.npy'\n",
    "        A_file = 'A_' + m + '_' + s + '.npy'\n",
    "\n",
    "        raw = np.load(load_folder + rawdata_file, allow_pickle=True)\n",
    "        behaviorfil = np.load(load_folder + behavior_file, allow_pickle=False)\n",
    "        \n",
    "        A = np.load(save_folder + A_file)\n",
    "        speed = behaviorfil[:,1]\n",
    "        trial = behaviorfil[:,2]\n",
    "       \n",
    "        #get dict-stored data\n",
    "        cell_IDs = raw.item().get('cellsfil')\n",
    "        speedonly99 = d['speedonly99']\n",
    "        speedonly1 = d['speedonly1']\n",
    "        speedint99 = d['speedint99']\n",
    "        speedgrid99 = d['speedgrid99']\n",
    "        \n",
    "        speedonlycells99 = cell_IDs[speedonly99 == 1] # + speed only \n",
    "        speedonlycells1 = cell_IDs[speedonly1 == 1] # - speed only\n",
    "        speedints99 = cell_IDs[speedint99 == 1] # speed grid cells\n",
    "        speedgrids99 = cell_IDs[speedgrid99 == 1] # speed grid cells\n",
    "        \n",
    "        #get spike-weighted average of speed score by trial for each speed cell population\n",
    "        bytrialspeedstabilityscores99 = []          \n",
    "        for i, c in enumerate(speedonlycells99):\n",
    "            sdx = (np.where(cell_IDs==c)[0][0]).astype(int)\n",
    "            \n",
    "            weightscore = []\n",
    "            for j, t in enumerate(np.unique(trial)):\n",
    "                trialidx = np.where(trial == t)[0].astype(int)\n",
    "                trialscore, _ = stats.pearsonr(speed[trialidx], A[trialidx,sdx])\n",
    "                weightscore = np.append(weightscore, trialscore * np.sum(A[trialidx,sdx]))   \n",
    "            bytrialspeedstabilityscores99 = np.append(bytrialspeedstabilityscores99, np.nansum(weightscore) / np.sum(A[:,sdx]))\n",
    "            \n",
    "        bytrialspeedstabilityscores1 = []\n",
    "        for i, c in enumerate(speedonlycells1):\n",
    "            sdx = (np.where(cell_IDs==c)[0][0]).astype(int)\n",
    "            \n",
    "            weightscore = []\n",
    "            for j, t in enumerate(np.unique(trial)):\n",
    "                trialidx = np.where(trial == t)[0].astype(int)\n",
    "                trialscore, _ = stats.pearsonr(speed[trialidx], A[trialidx,sdx])\n",
    "                weightscore = np.append(weightscore, trialscore * np.sum(A[trialidx,sdx]))\n",
    "        \n",
    "            bytrialspeedstabilityscores1 = np.append(bytrialspeedstabilityscores1, np.nansum(weightscore) / np.sum(A[:,sdx]))\n",
    "\n",
    "        bytrialspeedstabilityscoresint99 = []          \n",
    "        for i, c in enumerate(speedints99):\n",
    "            sdx = (np.where(cell_IDs==c)[0][0]).astype(int)\n",
    "            \n",
    "            weightscore = []\n",
    "            for j, t in enumerate(np.unique(trial)):\n",
    "                trialidx = np.where(trial == t)[0].astype(int)\n",
    "                trialscore, _ = stats.pearsonr(speed[trialidx], A[trialidx,sdx])\n",
    "                weightscore = np.append(weightscore, trialscore * np.sum(A[trialidx,sdx]))   \n",
    "            bytrialspeedstabilityscoresint99 = np.append(bytrialspeedstabilityscoresint99, np.nansum(weightscore) / np.sum(A[:,sdx]))\n",
    "            \n",
    "        bytrialspeedstabilityscoresgrid99 = []\n",
    "        for i, c in enumerate(speedgrids99):\n",
    "            sdx = (np.where(cell_IDs==c)[0][0]).astype(int)\n",
    "            \n",
    "            weightscore = []\n",
    "            for j, t in enumerate(np.unique(trial)):\n",
    "                trialidx = np.where(trial == t)[0].astype(int)\n",
    "                trialscore, _ = stats.pearsonr(speed[trialidx], A[trialidx,sdx])\n",
    "                weightscore = np.append(weightscore, trialscore * np.sum(A[trialidx,sdx]))\n",
    "        \n",
    "            bytrialspeedstabilityscoresgrid99 = np.append(bytrialspeedstabilityscoresgrid99, np.nansum(weightscore) / np.sum(A[:,sdx]))\n",
    "        \n",
    "        #pool data into session arrays    \n",
    "        strialstabscore99 = np.append(strialstabscore99, np.mean(bytrialspeedstabilityscores99))\n",
    "        strialstabscore1 = np.append(strialstabscore1, np.mean(bytrialspeedstabilityscores1))\n",
    "        strialstabscoreint99 = np.append(strialstabscoreint99, np.mean(bytrialspeedstabilityscoresint99))\n",
    "        strialstabscoregrid99 = np.append(strialstabscoregrid99, np.mean(bytrialspeedstabilityscoresgrid99))"
   ]
  },
  {
   "cell_type": "code",
   "execution_count": null,
   "id": "2911ee6a",
   "metadata": {},
   "outputs": [],
   "source": [
    "''' Plot Figure S6G '''\n",
    "\n",
    "#Plot Figure S6G (left)\n",
    "fig, ax = plt.subplots(figsize = (1.5,1.25))\n",
    "strialstabscore = [strialstabscore99[y_sind99], strialstabscore99[ma_sind99], strialstabscore99[age_sind99]]\n",
    "labels = ['Young','MA','Aged']\n",
    "w = 0.5\n",
    "plt.boxplot(strialstabscore, widths = w, labels = labels, medianprops = dict(color = 'black'))\n",
    "\n",
    "for i in range(len(strialstabscore)):\n",
    "    y = strialstabscore[i]\n",
    "    x = np.random.normal(i + 1, 0.04, len(y))\n",
    "    plt.scatter(x, y, color = col_session99[i], edgecolors = col_session99[i], s = 10)\n",
    "            \n",
    "#ax.legend(ncol = 3, handles = handles, labels = label_mice, loc = 'upper right',bbox_to_anchor=(1.8, 1))\n",
    "ax.set_title('+ Speed Only', fontsize=10, pad=5)\n",
    "ax.set_xlabel('Age', fontsize=9, labelpad=1)\n",
    "ax.set_ylabel('Mean Trial Stability Speed Score', fontsize = 9, labelpad=1)\n",
    "ax.tick_params(labelsize = 8)\n",
    "ax.set_ylim([0,0.6])\n",
    "ax.set_yticks([0,0.2,0.4,0.6])\n",
    "#plt.savefig(save_folder + 'age_speedonlycelltscore99_session.png', dpi=400, bbox_inches='tight')\n",
    "#plt.savefig(save_folder + 'age_speedonlycelltscore99_session.svg', dpi=400, bbox_inches='tight')\n",
    "plt.show()\n",
    "\n",
    "#Plot Figure S6G (second)\n",
    "fig, ax = plt.subplots(figsize = (1.5,1.25))\n",
    "strialstabscore = [strialstabscore1[y_sind1], strialstabscore1[ma_sind1], strialstabscore1[age_sind1]]\n",
    "labels = ['Young','MA','Aged']\n",
    "w = 0.5\n",
    "plt.boxplot(strialstabscore, widths = w, labels = labels, medianprops = dict(color = 'black'))\n",
    "\n",
    "for i in range(len(strialstabscore)):\n",
    "    y = strialstabscore[i]\n",
    "    x = np.random.normal(i + 1, 0.04, len(y))\n",
    "    plt.scatter(x, y, color = col_session1[i], edgecolors = col_session1[i], s = 10)\n",
    "            \n",
    "#ax.legend(ncol = 3, handles = handles, labels = label_mice, loc = 'upper right',bbox_to_anchor=(1.8, 1))\n",
    "ax.set_title('- Speed Only', fontsize=10, pad=5)\n",
    "ax.set_xlabel('Age', fontsize=9, labelpad=1)\n",
    "ax.set_ylabel('Mean Trial Stability Speed Score', fontsize = 9, labelpad=1)\n",
    "ax.tick_params(labelsize = 8)\n",
    "ax.set_ylim([-0.8,0.2])\n",
    "ax.set_yticks([-0.8,-0.6,-0.4,-0.2,0.0,0.2])\n",
    "#plt.savefig(save_folder + 'age_speedonlycelltscore1_session.png', dpi=400, bbox_inches='tight')\n",
    "#plt.savefig(save_folder + 'age_speedonlycelltscore1_session.svg', dpi=400, bbox_inches='tight')\n",
    "plt.show()\n",
    "\n",
    "#Plot Figure S6G (third)\n",
    "fig, ax = plt.subplots(figsize = (1.5,1.25))\n",
    "strialstabscore = [strialstabscoreint99[y_sindint], strialstabscoreint99[ma_sindint], strialstabscoreint99[age_sindint]]\n",
    "labels = ['Young','MA','Aged']\n",
    "w = 0.5\n",
    "plt.boxplot(strialstabscore, widths = w, labels = labels, medianprops = dict(color = 'black'))\n",
    "\n",
    "for i in range(len(strialstabscore)):\n",
    "    y = strialstabscore[i]\n",
    "    x = np.random.normal(i + 1, 0.04, len(y))\n",
    "    plt.scatter(x, y, color = col_sessionint[i], edgecolors = col_sessionint[i], s = 10)\n",
    "            \n",
    "#ax.legend(ncol = 3, handles = handles, labels = label_mice, loc = 'upper right',bbox_to_anchor=(1.8, 1))\n",
    "ax.set_title('+ IN Speed', fontsize=10, pad=5)\n",
    "ax.set_xlabel('Age', fontsize=9, labelpad=1)\n",
    "ax.set_ylabel('Mean Trial Stability Speed Score', fontsize = 9, labelpad=1)\n",
    "ax.tick_params(labelsize = 8)\n",
    "ax.set_ylim([0,0.6])\n",
    "ax.set_yticks([0,0.2,0.4,0.6])\n",
    "#plt.savefig(save_folder + 'age_speedinttscore_session.png', dpi=400, bbox_inches='tight')\n",
    "#plt.savefig(save_folder + 'age_speedinttscore_session.svg', dpi=400, bbox_inches='tight')\n",
    "plt.show()\n",
    "\n",
    "#Plot Figure S6G (fourth)\n",
    "fig, ax = plt.subplots(figsize = (1.5,1.25))\n",
    "strialstabscore = [strialstabscoregrid99[y_sindgrid99], strialstabscoregrid99[ma_sindgrid99], strialstabscoregrid99[age_sindgrid99]]\n",
    "labels = ['Young','MA','Aged']\n",
    "w = 0.5\n",
    "plt.boxplot(strialstabscore, widths = w, labels = labels, medianprops = dict(color = 'black'))\n",
    "\n",
    "for i in range(len(strialstabscore)):\n",
    "    y = strialstabscore[i]\n",
    "    x = np.random.normal(i + 1, 0.04, len(y))\n",
    "    plt.scatter(x, y, color = col_sessiongrid99[i], edgecolors = col_sessiongrid99[i], s = 10)\n",
    "            \n",
    "#ax.legend(ncol = 3, handles = handles, labels = label_mice, loc = 'upper right',bbox_to_anchor=(1.8, 1))\n",
    "ax.set_title('+ Grid Speed', fontsize=10, pad=5)\n",
    "ax.set_xlabel('Age', fontsize=9, labelpad=1)\n",
    "ax.set_ylabel('Mean Trial Stability Speed Score', fontsize = 9, labelpad=1)\n",
    "ax.tick_params(labelsize = 8)\n",
    "ax.set_ylim([0,0.5])\n",
    "ax.set_yticks([0,0.1,0.2,0.3,0.4,0.5])\n",
    "plt.savefig(save_folder + 'age_speedgridtscore_session.png', dpi=400, bbox_inches='tight')\n",
    "plt.savefig(save_folder + 'age_speedgridtscore_session.svg', dpi=400, bbox_inches='tight')\n",
    "plt.show()"
   ]
  },
  {
   "cell_type": "code",
   "execution_count": null,
   "id": "c0851985",
   "metadata": {},
   "outputs": [],
   "source": [
    "'''Speed Cell Trial Stability Score Statistics with Multiple Comparisons by Session'''\n",
    "\n",
    "print('n young, MA, aged sessions with + speed only cells: ')\n",
    "print(len(y_sind99),len(ma_sind99),len(age_sind99))\n",
    "\n",
    "print('\\n+ Speed Only Cell Slope Results:')\n",
    "print('scoreyoung ± SEM; score_MA ± SEM; score_old ± SEM')\n",
    "print(str(np.round(np.mean(strialstabscore99[y_sind99]), 4)) + ' ± ' + str(np.round(stats.sem(strialstabscore99[y_sind99]), 4)) + ' ; ' \n",
    "      + str(np.round(np.mean(strialstabscore99[ma_sind99]), 4)) + ' ± ' + str(np.round(stats.sem(strialstabscore99[ma_sind99]), 4)) + ' ; ' \n",
    "      + str(np.round(np.mean(strialstabscore99[age_sind99]), 4)) + ' ± ' + str(np.round(stats.sem(strialstabscore99[age_sind99]), 4)))\n",
    "stat, p_diff = stats.kruskal(strialstabscore99[y_sind99],strialstabscore99[ma_sind99],strialstabscore99[age_sind99])\n",
    "print('KW stat = ' + str(stat))\n",
    "print('p_session = ' + str(p_diff))\n",
    "\n",
    "# Collect all relevant data into pandas dataframe\n",
    "allidx = np.concatenate((y_sind99,ma_sind99,age_sind99))\n",
    "Animal_ID = list(seshmice[allidx])\n",
    "Session = list(seshcount[allidx])\n",
    "Age_Group = list(seshage[allidx])\n",
    "Scoreneg = list(strialstabscore1[allidx])\n",
    "Scorepos = list(strialstabscore99[allidx])\n",
    "Scoreintpos = list(strialstabscoreint99[allidx])\n",
    "Scoregridpos = list(strialstabscoregrid99[allidx])\n",
    "\n",
    "tuples = list(zip(Animal_ID, Session, Age_Group, Scoreneg, Scorepos, Scoreintpos, Scoregridpos))\n",
    "tuples\n",
    "\n",
    "df = pd.DataFrame(tuples, columns = ['AnimalID', 'Session', 'AgeGroup','trialstabscoreneg','trialstabscorepos','trialstabscoreintpos','trialstabscoregridpos'])\n",
    "\n",
    "#run post hoc tests\n",
    "ph.posthoc_conover(df, val_col = 'trialstabscorepos', group_col = 'AgeGroup', p_adjust = 'holm')"
   ]
  },
  {
   "cell_type": "code",
   "execution_count": null,
   "id": "0c215831",
   "metadata": {},
   "outputs": [],
   "source": [
    "print('n young, MA, aged sessions with - speed only cells: ')\n",
    "print(len(y_sind1),len(ma_sind1),len(age_sind1))\n",
    "\n",
    "print('\\n- Speed Only Cell Score Results:')\n",
    "print('score_young ± SEM; score_MA ± SEM; score_old ± SEM')\n",
    "print(str(np.round(np.mean(strialstabscore1[y_sind1]), 4)) + ' ± ' + str(np.round(stats.sem(strialstabscore1[y_sind1]), 4)) + ' ; ' \n",
    "      + str(np.round(np.mean(strialstabscore1[ma_sind1]), 4)) + ' ± ' + str(np.round(stats.sem(strialstabscore1[ma_sind1]), 4)) + ' ; ' \n",
    "      + str(np.round(np.mean(strialstabscore1[age_sind1]), 4)) + ' ± ' + str(np.round(stats.sem(strialstabscore1[age_sind1]), 4)))\n",
    "()\n",
    "stat, p_diff = stats.kruskal(strialstabscore1[y_sind1],strialstabscore1[ma_sind1],strialstabscore1[age_sind1])\n",
    "print('KW stat = ' + str(stat))\n",
    "print('p_session = ' + str(p_diff))\n",
    "\n",
    "# Collect all relevant data into pandas dataframe\n",
    "allidx = np.concatenate((y_sind1,ma_sind1,age_sind1))\n",
    "Animal_ID = list(seshmice[allidx])\n",
    "Session = list(seshcount[allidx])\n",
    "Age_Group = list(seshage[allidx])\n",
    "Scoreneg = list(strialstabscore1[allidx])\n",
    "Scorepos = list(strialstabscore99[allidx])\n",
    "Scoreintpos = list(strialstabscoreint99[allidx])\n",
    "Scoregridpos = list(strialstabscoregrid99[allidx])\n",
    "\n",
    "tuples = list(zip(Animal_ID, Session, Age_Group, Scoreneg,Scorepos,Scoreintpos,Scoregridpos))\n",
    "tuples\n",
    "\n",
    "df = pd.DataFrame(tuples, columns = ['AnimalID', 'Session', 'AgeGroup','trialstabscoreneg','trialstabscorepos','trialstabscoreintpos','trialstabscoregridpos'])\n",
    "\n",
    "#run post hoc tests\n",
    "ph.posthoc_conover(df, val_col = 'trialstabscoreneg', group_col = 'AgeGroup', p_adjust = 'holm')"
   ]
  },
  {
   "cell_type": "code",
   "execution_count": null,
   "id": "5ddd036a",
   "metadata": {},
   "outputs": [],
   "source": [
    "print('n young, MA, aged sessions with + IN speed cells: ')\n",
    "print(len(y_sindint),len(ma_sindint),len(age_sindint))\n",
    "\n",
    "print('\\n+ IN Speed Cell Score Results:')\n",
    "print('score_young ± SEM; score_MA ± SEM; score_old ± SEM')\n",
    "print(str(np.round(np.mean(strialstabscoreint99[y_sindint]), 4)) + ' ± ' + str(np.round(stats.sem(strialstabscoreint99[y_sindint]), 4)) + ' ; ' \n",
    "      + str(np.round(np.mean(strialstabscoreint99[ma_sindint]), 4)) + ' ± ' + str(np.round(stats.sem(strialstabscoreint99[ma_sindint]), 4)) + ' ; ' \n",
    "      + str(np.round(np.mean(strialstabscoreint99[age_sindint]), 4)) + ' ± ' + str(np.round(stats.sem(strialstabscoreint99[age_sindint]), 4)))\n",
    "()\n",
    "stat, p_diff = stats.kruskal(strialstabscoreint99[y_sindint],strialstabscoreint99[ma_sindint],strialstabscoreint99[age_sindint])\n",
    "print('KW stat = ' + str(stat))\n",
    "print('p_session = ' + str(p_diff))\n",
    "\n",
    "# Collect all relevant data into pandas dataframe\n",
    "allidx = np.concatenate((y_sindint,ma_sindint,age_sindint))\n",
    "Animal_ID = list(seshmice[allidx])\n",
    "Session = list(seshcount[allidx])\n",
    "Age_Group = list(seshage[allidx])\n",
    "Scoreneg = list(strialstabscore1[allidx])\n",
    "Scorepos = list(strialstabscore99[allidx])\n",
    "Scoreintpos = list(strialstabscoreint99[allidx])\n",
    "Scoregridpos = list(strialstabscoregrid99[allidx])\n",
    "\n",
    "tuples = list(zip(Animal_ID, Session, Age_Group, Scoreneg,Scorepos,Scoreintpos,Scoregridpos))\n",
    "tuples\n",
    "\n",
    "df = pd.DataFrame(tuples, columns = ['AnimalID', 'Session', 'AgeGroup','trialstabscoreneg','trialstabscorepos','trialstabscoreintpos','trialstabscoregridpos'])\n",
    "\n",
    "#run post hoc tests\n",
    "ph.posthoc_conover(df, val_col = 'trialstabscoreintpos', group_col = 'AgeGroup', p_adjust = 'holm')"
   ]
  },
  {
   "cell_type": "code",
   "execution_count": null,
   "id": "494476a4",
   "metadata": {},
   "outputs": [],
   "source": [
    "print('n young, MA, aged sessions with + grid speed cells: ')\n",
    "print(len(y_sindgrid99),len(ma_sindgrid99),len(age_sindgrid99))\n",
    "\n",
    "print('\\n+ Grid Speed Cell Score Results:')\n",
    "print('score_young ± SEM; score_MA ± SEM; score_old ± SEM')\n",
    "print(str(np.round(np.mean(strialstabscoregrid99[y_sindgrid99]), 4)) + ' ± ' + str(np.round(stats.sem(strialstabscoregrid99[y_sindgrid99]), 4)) + ' ; ' \n",
    "      + str(np.round(np.mean(strialstabscoregrid99[ma_sindgrid99]), 4)) + ' ± ' + str(np.round(stats.sem(strialstabscoregrid99[ma_sindgrid99]), 4)) + ' ; ' \n",
    "      + str(np.round(np.mean(strialstabscoregrid99[age_sindgrid99]), 4)) + ' ± ' + str(np.round(stats.sem(strialstabscoregrid99[age_sindgrid99]), 4)))\n",
    "()\n",
    "stat, p_diff = stats.kruskal(strialstabscoregrid99[y_sindgrid99],strialstabscoregrid99[ma_sindgrid99],strialstabscoregrid99[age_sindgrid99])\n",
    "print('KW stat = ' + str(stat))\n",
    "print('p_session = ' + str(p_diff))\n",
    "\n",
    "# Collect all relevant data into pandas dataframe\n",
    "allidx = np.concatenate((y_sindgrid99,ma_sindgrid99,age_sindgrid99))\n",
    "Animal_ID = list(seshmice[allidx])\n",
    "Session = list(seshcount[allidx])\n",
    "Age_Group = list(seshage[allidx])\n",
    "Scoreneg = list(strialstabscore1[allidx])\n",
    "Scorepos = list(strialstabscore99[allidx])\n",
    "Scoreintpos = list(strialstabscoreint99[allidx])\n",
    "Scoregridpos = list(strialstabscoregrid99[allidx])\n",
    "\n",
    "tuples = list(zip(Animal_ID, Session, Age_Group, Scoreneg,Scorepos,Scoreintpos,Scoregridpos))\n",
    "tuples\n",
    "\n",
    "df = pd.DataFrame(tuples, columns = ['AnimalID', 'Session', 'AgeGroup','trialstabscoreneg','trialstabscorepos','trialstabscoreintpos','trialstabscoregridpos'])\n",
    "\n",
    "#run post hoc tests\n",
    "ph.posthoc_conover(df, val_col = 'trialstabscoregridpos', group_col = 'AgeGroup', p_adjust = 'holm')"
   ]
  }
 ],
 "metadata": {
  "kernelspec": {
   "display_name": "Python 3 (ipykernel)",
   "language": "python",
   "name": "python3"
  },
  "language_info": {
   "codemirror_mode": {
    "name": "ipython",
    "version": 3
   },
   "file_extension": ".py",
   "mimetype": "text/x-python",
   "name": "python",
   "nbconvert_exporter": "python",
   "pygments_lexer": "ipython3",
   "version": "3.8.16"
  }
 },
 "nbformat": 4,
 "nbformat_minor": 5
}
