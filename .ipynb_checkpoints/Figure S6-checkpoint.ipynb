{
 "cells": [
  {
   "cell_type": "markdown",
   "id": "de850320",
   "metadata": {},
   "source": [
    "# Setup"
   ]
  },
  {
   "cell_type": "code",
   "execution_count": 1,
   "id": "6021171d",
   "metadata": {},
   "outputs": [],
   "source": [
    "''' magic 4u'''\n",
    "%load_ext autoreload\n",
    "%autoreload 2"
   ]
  },
  {
   "cell_type": "code",
   "execution_count": 2,
   "id": "8c3ea503",
   "metadata": {},
   "outputs": [],
   "source": [
    "'''Get Stuff You Need'''\n",
    "import numpy as np\n",
    "import math as math\n",
    "from tqdm import tnrange\n",
    "from tqdm.notebook import tqdm as tdqm\n",
    "import matplotlib.pyplot as plt\n",
    "import matplotlib as mpl\n",
    "mpl.rcParams.update(mpl.rcParamsDefault)\n",
    "from matplotlib import gridspec\n",
    "from scipy.interpolate import interp1d\n",
    "from scipy.ndimage import gaussian_filter1d\n",
    "from scipy import stats\n",
    "import scipy.io\n",
    "import scipy.ndimage.filters as filt\n",
    "import pandas as pd\n",
    "import seaborn as sns\n",
    "\n",
    "from pipeline import get_data as get\n",
    "from pipeline import process_spikes as ps\n",
    "\n",
    "from statsmodels.tsa.stattools import acf\n",
    "from scipy.signal import find_peaks\n",
    "from itertools import combinations"
   ]
  },
  {
   "cell_type": "code",
   "execution_count": 3,
   "id": "7883575a",
   "metadata": {},
   "outputs": [],
   "source": [
    "''' Define plotting defaults '''\n",
    "\n",
    "from matplotlib import rc \n",
    "mpl.rcParams['font.sans-serif'] = 'Arial'\n",
    "mpl.rcParams['font.family'] = 'sans-serif'\n",
    "mpl.rcParams['svg.fonttype'] = 'none'"
   ]
  },
  {
   "cell_type": "code",
   "execution_count": 4,
   "id": "8ff67dea",
   "metadata": {},
   "outputs": [
    {
     "data": {
      "text/html": [
       "<div>\n",
       "<style scoped>\n",
       "    .dataframe tbody tr th:only-of-type {\n",
       "        vertical-align: middle;\n",
       "    }\n",
       "\n",
       "    .dataframe tbody tr th {\n",
       "        vertical-align: top;\n",
       "    }\n",
       "\n",
       "    .dataframe thead th {\n",
       "        text-align: right;\n",
       "    }\n",
       "</style>\n",
       "<table border=\"1\" class=\"dataframe\">\n",
       "  <thead>\n",
       "    <tr style=\"text-align: right;\">\n",
       "      <th></th>\n",
       "      <th>Animal_ID</th>\n",
       "      <th>Task</th>\n",
       "      <th>Cohort</th>\n",
       "      <th>Probe_Control</th>\n",
       "      <th>Sex</th>\n",
       "      <th>Sac_Date</th>\n",
       "      <th>Frozen_Hemisphere</th>\n",
       "      <th>DOB</th>\n",
       "      <th>Age_WholeMonth</th>\n",
       "      <th>Age_ExtraDays</th>\n",
       "      <th>Age_Month</th>\n",
       "      <th>Aged_Days</th>\n",
       "      <th>Age_Group</th>\n",
       "      <th>Behavior_Sessions</th>\n",
       "      <th>Neural_Sessions</th>\n",
       "    </tr>\n",
       "  </thead>\n",
       "  <tbody>\n",
       "    <tr>\n",
       "      <th>0</th>\n",
       "      <td>A3</td>\n",
       "      <td>RF</td>\n",
       "      <td>A</td>\n",
       "      <td>0</td>\n",
       "      <td>F</td>\n",
       "      <td>1/27/2021</td>\n",
       "      <td>R</td>\n",
       "      <td>4/23/2019</td>\n",
       "      <td>21</td>\n",
       "      <td>4</td>\n",
       "      <td>21.217</td>\n",
       "      <td>645</td>\n",
       "      <td>3</td>\n",
       "      <td>6</td>\n",
       "      <td>6</td>\n",
       "    </tr>\n",
       "    <tr>\n",
       "      <th>1</th>\n",
       "      <td>A4</td>\n",
       "      <td>RF</td>\n",
       "      <td>A</td>\n",
       "      <td>0</td>\n",
       "      <td>F</td>\n",
       "      <td>1/27/2021</td>\n",
       "      <td>R</td>\n",
       "      <td>4/23/2019</td>\n",
       "      <td>21</td>\n",
       "      <td>4</td>\n",
       "      <td>21.217</td>\n",
       "      <td>645</td>\n",
       "      <td>3</td>\n",
       "      <td>6</td>\n",
       "      <td>6</td>\n",
       "    </tr>\n",
       "    <tr>\n",
       "      <th>2</th>\n",
       "      <td>A5</td>\n",
       "      <td>RF</td>\n",
       "      <td>A</td>\n",
       "      <td>0</td>\n",
       "      <td>F</td>\n",
       "      <td>4/6/2021</td>\n",
       "      <td>L</td>\n",
       "      <td>4/23/2019</td>\n",
       "      <td>23</td>\n",
       "      <td>14</td>\n",
       "      <td>23.487</td>\n",
       "      <td>714</td>\n",
       "      <td>3</td>\n",
       "      <td>6</td>\n",
       "      <td>6</td>\n",
       "    </tr>\n",
       "    <tr>\n",
       "      <th>3</th>\n",
       "      <td>A6</td>\n",
       "      <td>RF</td>\n",
       "      <td>A</td>\n",
       "      <td>0</td>\n",
       "      <td>F</td>\n",
       "      <td>4/6/2021</td>\n",
       "      <td>R</td>\n",
       "      <td>4/23/2019</td>\n",
       "      <td>23</td>\n",
       "      <td>14</td>\n",
       "      <td>23.487</td>\n",
       "      <td>714</td>\n",
       "      <td>3</td>\n",
       "      <td>6</td>\n",
       "      <td>6</td>\n",
       "    </tr>\n",
       "    <tr>\n",
       "      <th>4</th>\n",
       "      <td>A7</td>\n",
       "      <td>RF</td>\n",
       "      <td>A</td>\n",
       "      <td>0</td>\n",
       "      <td>F</td>\n",
       "      <td>4/19/2021</td>\n",
       "      <td>L</td>\n",
       "      <td>5/29/2019</td>\n",
       "      <td>22</td>\n",
       "      <td>21</td>\n",
       "      <td>22.730</td>\n",
       "      <td>691</td>\n",
       "      <td>3</td>\n",
       "      <td>6</td>\n",
       "      <td>6</td>\n",
       "    </tr>\n",
       "  </tbody>\n",
       "</table>\n",
       "</div>"
      ],
      "text/plain": [
       "  Animal_ID Task Cohort  Probe_Control Sex   Sac_Date Frozen_Hemisphere  \\\n",
       "0        A3   RF      A              0   F  1/27/2021                 R   \n",
       "1        A4   RF      A              0   F  1/27/2021                 R   \n",
       "2        A5   RF      A              0   F   4/6/2021                 L   \n",
       "3        A6   RF      A              0   F   4/6/2021                 R   \n",
       "4        A7   RF      A              0   F  4/19/2021                 L   \n",
       "\n",
       "         DOB  Age_WholeMonth  Age_ExtraDays  Age_Month  Aged_Days  Age_Group  \\\n",
       "0  4/23/2019              21              4     21.217        645          3   \n",
       "1  4/23/2019              21              4     21.217        645          3   \n",
       "2  4/23/2019              23             14     23.487        714          3   \n",
       "3  4/23/2019              23             14     23.487        714          3   \n",
       "4  5/29/2019              22             21     22.730        691          3   \n",
       "\n",
       "   Behavior_Sessions  Neural_Sessions  \n",
       "0                  6                6  \n",
       "1                  6                6  \n",
       "2                  6                6  \n",
       "3                  6                6  \n",
       "4                  6                6  "
      ]
     },
     "execution_count": 4,
     "metadata": {},
     "output_type": "execute_result"
    }
   ],
   "source": [
    "''' Load in Animal Metadata '''\n",
    "\n",
    "animalmeta = pd.read_csv('C:/Users/Python/Desktop/Dryad/MouseMetadata.csv') # adjust path name\n",
    "\n",
    "# define some useful lists of animals based on metadata\n",
    "all_aged_mice = np.array(animalmeta.loc[(animalmeta.Age_Group == 3),'Animal_ID'])\n",
    "all_MA_mice = np.array(animalmeta.loc[(animalmeta.Age_Group == 2),'Animal_ID'])\n",
    "all_young_mice = np.array(animalmeta.loc[(animalmeta.Age_Group == 1),'Animal_ID'])\n",
    "\n",
    "cohorta_mice = np.array(animalmeta.loc[(animalmeta.Cohort == 'A'),'Animal_ID'])\n",
    "cohortb_mice = np.array(animalmeta.loc[(animalmeta.Cohort == 'B'),'Animal_ID'])\n",
    "cohortc_mice = np.array(animalmeta.loc[(animalmeta.Cohort == 'C'),'Animal_ID'])\n",
    "cohortd_mice = np.array(animalmeta.loc[(animalmeta.Cohort == 'D'),'Animal_ID'])\n",
    "\n",
    "RF_aged_mice = np.array(animalmeta.loc[(animalmeta.Age_Group == 3) & (animalmeta.Task == 'RF'),'Animal_ID'])\n",
    "RF_young_mice = np.array(animalmeta.loc[(animalmeta.Age_Group == 1) & (animalmeta.Task == 'RF'),'Animal_ID'])\n",
    "SM_aged_mice = np.array(animalmeta.loc[(animalmeta.Age_Group == 3) & (animalmeta.Task == 'SM'),'Animal_ID'])\n",
    "SM_MA_mice = np.array(animalmeta.loc[(animalmeta.Age_Group == 2) & (animalmeta.Task == 'SM'),'Animal_ID'])\n",
    "SM_young_mice = np.array(animalmeta.loc[(animalmeta.Age_Group == 1) & (animalmeta.Task == 'SM'),'Animal_ID'])\n",
    "\n",
    "all_female_mice = np.array(animalmeta.loc[(animalmeta.Sex == 'F'),'Animal_ID'])\n",
    "all_male_mice = np.array(animalmeta.loc[(animalmeta.Sex == 'M'), 'Animal_ID'])\n",
    "RF_female_mice = np.array(animalmeta.loc[(animalmeta.Sex == 'F') & (animalmeta.Task == 'RF'),'Animal_ID'])\n",
    "RF_male_mice = np.array(animalmeta.loc[(animalmeta.Sex == 'M') & (animalmeta.Task == 'RF'),'Animal_ID'])\n",
    "SM_female_mice = np.array(animalmeta.loc[(animalmeta.Sex == 'F') & (animalmeta.Task == 'SM'),'Animal_ID'])\n",
    "SM_male_mice = np.array(animalmeta.loc[(animalmeta.Sex == 'M') & (animalmeta.Task == 'SM'),'Animal_ID'])\n",
    "\n",
    "animalmeta.head()"
   ]
  },
  {
   "cell_type": "code",
   "execution_count": 5,
   "id": "2fc45406",
   "metadata": {},
   "outputs": [
    {
     "name": "stdout",
     "output_type": "stream",
     "text": [
      "                                    File Animal_ID  Session  Sync  \\\n",
      "0  A3_210122_randomforagecuerich_record1        A3      1.0   1.0   \n",
      "1  A3_211023_randomforagecuerich_record2        A3      2.0   1.0   \n",
      "2  A3_211024_randomforagecuerich_record3        A3      3.0   1.0   \n",
      "3  A3_210125_randomforagecuerich_record4        A3      4.0   1.0   \n",
      "4  A3_210126_randomforagecuerich_record5        A3      5.0   1.0   \n",
      "\n",
      "   Final Depth (D) Final Depth (V)  Angle   Difficulty SyncBlock  \\\n",
      "0           3510.0            3450   10.61         0.0         2   \n",
      "1           3637.0            3575   10.59         0.0         2   \n",
      "2           4120.0            4050   10.58         0.0         2   \n",
      "3           3917.0            3850   10.61         0.0         2   \n",
      "4           3765.0            3700   10.66         0.0         2   \n",
      "\n",
      "           Notes  \n",
      "0  Pulse amp low  \n",
      "1  Pulse amp low  \n",
      "2  Pulse amp low  \n",
      "3  Pulse amp low  \n",
      "4  Pulse amp low  \n"
     ]
    }
   ],
   "source": [
    "'''Load Session Metadata'''\n",
    "sessionmeta = pd.read_csv('C:/Users/Python/Desktop/LocalData/sessionmeta.csv') # adjust this path\n",
    "print(sessionmeta.head())"
   ]
  },
  {
   "cell_type": "code",
   "execution_count": 6,
   "id": "48158b66",
   "metadata": {},
   "outputs": [],
   "source": [
    "''' Complete List of Mice & Sessions '''\n",
    "all_mice = np.array(animalmeta.Animal_ID)\n",
    "\n",
    "all_sessions = ([['0122_record1','0123_record2','0124_record3','0125_record4','0126_record5','0127_record6'], \n",
    "             ['0122_record1','0123_record2','0124_record3','0125_record4','0126_record5','0127_record6'],\n",
    "             ['0401_record1','0401_record2b','0403_record3','0404_record4','0405_record5','0406_record6'],\n",
    "             ['0401_record1','0402_record2','0403_record3','0404_record4','0405_record5','0406_record6'],\n",
    "             ['0414_record1','0415_record2','0416_record3','0417_record4','0418_record5','0419_record6'],\n",
    "             ['1024_record1','1025_record2','1026_record3','1027_record4','1028_record5_2'], #Y2_6 excluded\n",
    "             ['1016_record1','1019_record3','1020_record4','1021_record5','1022_record6'], #Y3_2 not collected\n",
    "             ['1114_record1','1115_record2','1116_record3','1117_record4','1118_record5','1119_record6'], # end cohort A\n",
    "             ['051822_record1','051922_record2', '052022_record3','052122_record4','052222_record5','052322_record6'], \n",
    "             ['050522_record1','050622_record2','050722_record3','050822_record4','050922_record5','051022_record6'],\n",
    "             ['050522_record1','050622_record2','050722_record3','050822_record4','051022_record6'], #Y11_5 not collected\n",
    "             ['062222_record3','062322_record4','062522_record5'], #Y16_1 & 2 not collected, neural _6 excluded\n",
    "             ['062822_record1','062922_record2','063022_record3','070122_record4','070222_record5','070322_record6'],\n",
    "             ['062022_record1','062122_record2','062222_record3','062322_record4','062522_record5','062622_record6'],\n",
    "             ['062822_record1','062922_record2','063022_record3','070122_record4','070222_record5','070322_record6'], \n",
    "             ['051922_record2','052022_record3'], # Y9 051822_record excluded for syncing issue, end cohort B\n",
    "             ['083022_record1','083122_record2','090122_record3'], \n",
    "             ['083022_record1','083122_record2','090122_record3','090222_record4','090322_record5','090422_record6'],\n",
    "             ['083022_record1','083122_record2','090122_record3','090222_record4'], #behavior of A16_4, both of 5 excluded, 6 not collected \n",
    "             ['082322_record1','082422_record2','082522_record3','082622_record4','082722_record5','082822_record6'],\n",
    "             ['082322_record1real','082422_record2','082522_record3','082622_record4','082722_record5','082822_record6'],\n",
    "             ['102322_record1','102422_record2','102522_record3','102622_record4','102722_record5','102822_record6'],\n",
    "             ['102322_record1','102422_record2','102522_record3','102622_record4','102722_record5','102822_record6'],\n",
    "             ['102322_record1','102422_record2','102522_record3','102622_record4','102722_record5','102822_record6'],\n",
    "             ['103122_record2','110122_record3','110222_record4','110322_record5rep','110422_record6','110522_record7'], #behavior of MA4M6, 7 excluded\n",
    "             ['110622_record1','110722_record2','110822_record3','110922_record4','111022_record5','111122_record6'],\n",
    "             ['103022_record1','103122_record2','110122_record3','110222_record4','110322_record5','110422_record6'],\n",
    "             ['103022_record1','103122_record2','110122_record3','110222_record4'], #behavior of MA7_4, both 5 excluded, 6 not collected\n",
    "             ['111322_record1','111422_record2','111522_record3','111622_record4','111722_record5','111822_record6'],\n",
    "             ['111322_record1','111422_record2','111522_record3','111622_record4','111722_record5','111822_record6'],\n",
    "             ['111322_record1','111422_record2','111522_record3','111622_record4','111722_record5','111822_record6'], \n",
    "             ['092522_record1','092622_record2','092722_record3','092822_record4','092922_record5','093022_record6'],\n",
    "             ['091822_record1','091922_record2','092022_record3','092122_record4','092222_record5','092322_record6'],\n",
    "             ['092522_record1','092622_record2','092722_record3','092822_record4','092922_record5','093022_record6'],\n",
    "             ['092522_record1','092622_record2','092722_record3','092822_record4','092922_record5','093022_record6'],\n",
    "             ['091822_record1','091922_record2','092022_record3','092122_record4','092222_record5','092322_record6'], #end cohortc\n",
    "             ['012723_record2','012823_record3','012923_record4','013023_record5','013123_record6','020123_record7'],\n",
    "             ['012623_record1','012723_record2','012823_record3','012923_record4','013023_record5','013123_record6'],\n",
    "             ['012923_record2','013023_record3','013123_record4','020123_record5','020223_record6','020323_record7'],\n",
    "             ['020923_record1','021023_record2','021123_record3','021223_record4','021323_record5','021423_record6'],\n",
    "             ['022623_record1','022723_record2','022823_record3','030123_record4','030223_record5','030323_record6'],\n",
    "             ['021623_record1','021723_record2','021823_record3','021923_record4','022023_record5','022123_record6'],\n",
    "             ['021623_record1','021723_record2','021823_record3','021923_record4','022023_record5','022123_record6'],\n",
    "             ['021623_record1','021723_record2','021823_record3','021923_record4','022023_record5rep','022123_record6'],\n",
    "             ['022623_record1','022723_record2','022823_record3','030123_record4','030223_record5','030323_record6'] #end cohort d \n",
    "            ]) #list of sessions"
   ]
  },
  {
   "cell_type": "code",
   "execution_count": 7,
   "id": "b6f4b79e",
   "metadata": {},
   "outputs": [],
   "source": [
    "'''Define which mice & sessions to load'''\n",
    "mice = all_mice\n",
    "sessions = all_sessions\n",
    "    \n",
    "# Make a dict to hold data\n",
    "data = {}\n",
    "\n",
    "for session, m in zip(sessions, mice):\n",
    "    data[m] = {}\n",
    "    \n",
    "    for s in session:\n",
    "        data[m][s] = {}"
   ]
  },
  {
   "cell_type": "markdown",
   "id": "98865e86",
   "metadata": {},
   "source": [
    "# Edit these paths"
   ]
  },
  {
   "cell_type": "code",
   "execution_count": 8,
   "id": "98f582b3",
   "metadata": {},
   "outputs": [],
   "source": [
    "#Inputs\n",
    "load_folder = 'C:/Users/Python/Desktop/LocalData/filtered/' # adjust path to match output of Import & Filter\n",
    "metrics_folder = 'C:/Users/Python/Desktop/Dryad/waveform_metrics/' # adjust to match location of this Dryad repo folder\n",
    "shuffload_folder1 = 'C:/Users/Python/Desktop/Dryad/shuffle_scores/speedscores/' # adjust to match location of this Dryad repo folder\n",
    "shuffload_folder2 = 'C:/Users/Python/Desktop/Dryad/shuffle_scores/speedstabscores/' # adjust to match location of this Dryad repo folder\n",
    "shuffload_folder3 = 'C:/Users/Python/Desktop/Dryad/shuffle_scores/sparsity/' # adjust to match location of this Dryad repo folder\n",
    "shuffload_folder4 = 'C:/Users/Python/Desktop/Dryad/shuffle_scores/coherence/' # adjust to match location of this Dryad repo folder\n",
    "shuffload_folder5 = 'C:/Users/Python/Desktop/Dryad/shuffle_scores/sparsitya/' # adjust to match location of this Dryad repo folder\n",
    "shuffload_folder6 = 'C:/Users/Python/Desktop/Dryad/shuffle_scores/coherencea/' # adjust to match location of this Dryad repo folder\n",
    "fig2s3_folder = 'C:/Users/Python/Desktop/LocalData/Figure2S3/' # adjust to match Figure 2/S3 output folder\n",
    "fig5_folder = 'C:/Users/Python/Desktop/LocalData/Figure5/' # adjust to match Figure 5 output folder\n",
    "fig6_folder = 'C:/Users/Python/Desktop/LocalData/Figure6/' # adjust to match Figure 6 output folder\n",
    "\n",
    "#Output (create folder to hold the output of this notebook; then match the name of this repository below)\n",
    "save_folder = 'C:/Users/Python/Desktop/LocalData/FigureS6/' # should already exist & match Shuffle Procedure output plotsave_folder"
   ]
  },
  {
   "cell_type": "code",
   "execution_count": 9,
   "id": "8c98e716",
   "metadata": {},
   "outputs": [],
   "source": [
    "''' Gather waveform properties of putative excitatory vs. inhibitory interneurons '''\n",
    "\n",
    "PTRe = []\n",
    "PTRi = []\n",
    "duratione = []\n",
    "durationi = []\n",
    "\n",
    "for m, session in zip(mice,sessions):\n",
    "    \n",
    "    seshcount = 1 \n",
    "    \n",
    "    for s in session:\n",
    "        d = data[m][s]\n",
    "        \n",
    "        #load in session data & waveform metrics data\n",
    "        rawdata_file = 'RAW_' + m + '_' + s + '.npy'\n",
    "        raw = np.load(load_folder + rawdata_file, allow_pickle=True)\n",
    "        cell_IDs = raw.item().get('cellsfil')\n",
    " \n",
    "        file_name = m + '_' + str(seshcount) + '_metrics.csv'\n",
    "        metrics = pd.read_csv(metrics_folder + file_name)\n",
    "        \n",
    "        # load waveform parameters of interest for good cells only, drop rows w/ NaN, standardize for kmeans clustering\n",
    "        gcmetrics = metrics[metrics['cluster_id'].isin(list(cell_IDs))]\n",
    "        duration = np.asarray(gcmetrics['duration'])\n",
    "        PTR = np.asarray(gcmetrics['PT_ratio'])\n",
    "        halfwidth = np.asarray(gcmetrics['halfwidth'])\n",
    "        recslope = np.asarray(gcmetrics['recovery_slope'])\n",
    "        firingrate = np.asarray(gcmetrics['firing_rate'])\n",
    "        \n",
    "        #get file name & load int file\n",
    "        intn_file = 'intn_' + m + '_' + s + '.npy'\n",
    "        d['intn'] = np.load(save_folder + intn_file, allow_pickle = True)\n",
    "        intn = d['intn'].astype(bool)\n",
    "        \n",
    "        PTRe = np.append(PTRe, PTR[~intn])\n",
    "        PTRi = np.append(PTRi, PTR[intn])\n",
    "        duratione = np.append(duratione, duration[~intn])\n",
    "        durationi = np.append(durationi, duration[intn])\n",
    "        \n",
    "        seshcount += 1"
   ]
  },
  {
   "cell_type": "code",
   "execution_count": 10,
   "id": "e0a26cf4",
   "metadata": {},
   "outputs": [],
   "source": [
    "'''Get Indices of Stored Session, Animal Data Mice by Age Group'''\n",
    "age_ind = []\n",
    "ma_ind = []\n",
    "y_ind = []\n",
    "age_sind = []\n",
    "ma_sind = []\n",
    "y_sind = []\n",
    "\n",
    "s_count = 0\n",
    "for m, s in zip(mice, sessions):\n",
    "    start = s_count\n",
    "    end = len(s) + s_count\n",
    "\n",
    "    if m in all_aged_mice:\n",
    "        age_ind = np.append(age_ind, (np.where(mice == m)[0]))\n",
    "        age_sind = np.append(age_sind, np.arange(start, end, 1))\n",
    "    elif m in all_MA_mice:\n",
    "        ma_ind = np.append(ma_ind, (np.where(mice == m)[0]))\n",
    "        ma_sind = np.append(ma_sind, np.arange(start, end, 1))\n",
    "    else:\n",
    "        y_ind = np.append(y_ind, (np.where(mice == m)[0]))\n",
    "        y_sind = np.append(y_sind, np.arange(start, end, 1))\n",
    "                            \n",
    "    s_count += len(s)\n",
    "    \n",
    "age_ind = age_ind.astype(int)\n",
    "ma_ind = ma_ind.astype(int)\n",
    "y_ind = y_ind.astype(int)\n",
    "age_sind = age_sind.astype(int)\n",
    "ma_sind = ma_sind.astype(int)\n",
    "y_sind = y_sind.astype(int)"
   ]
  },
  {
   "cell_type": "code",
   "execution_count": 11,
   "id": "845f9d08",
   "metadata": {},
   "outputs": [],
   "source": [
    "''' Define ColorMaps for Session & Animal Boxplots '''\n",
    "import matplotlib.pylab as pl\n",
    "import matplotlib.lines as mlines\n",
    "\n",
    "col_animal_old = pl.cm.Oranges([np.linspace(0.2,0.9,17)])\n",
    "col_animal_MA = pl.cm.Greens([np.linspace(0.2,0.9,10)])\n",
    "col_animal_young = pl.cm.Blues([np.linspace(0.2,0.9,18)])\n",
    "col_animal = [col_animal_young, col_animal_MA, col_animal_old]\n",
    "\n",
    "col_session_young = []\n",
    "col_session_MA = []\n",
    "col_session_old = []\n",
    "\n",
    "for m, session in zip(mice, sessions):\n",
    "    for s in range(0,len(session)):\n",
    "        \n",
    "        if m in all_aged_mice:\n",
    "            idx = np.where(all_aged_mice == m)[0][0] \n",
    "            col_session_old.append(col_animal[2][0][idx])           \n",
    "        elif m in all_MA_mice:\n",
    "            idx = np.where(all_MA_mice == m)[0][0]\n",
    "            col_session_MA.append(col_animal[1][0][idx])\n",
    "        else:\n",
    "            idx = np.where(all_young_mice == m)[0][0]\n",
    "            col_session_young.append(col_animal[0][0][idx])\n",
    "\n",
    "col_session = [col_session_young, col_session_MA, col_session_old]\n",
    "label_mice = ['Y2','Y3','Y4','Y11','Y16','Y17','Y18','Y19','Y9', 'Y20', 'Y21', 'Y22', 'Y23', 'Y24', 'Y25', 'Y26', 'Y27', 'Y28',\n",
    "            'MA1F', 'MA2F', 'MA3M', 'MA4M', 'MA5M', 'MA6M', 'MA7M', 'MA8F', 'MA9F','MA10F',\"\",\"\",\"\",\"\",\"\",\"\",\"\",\n",
    "            'A3','A4','A5','A6','A7','A12','A13','A14', 'A15', 'A16', 'A17', 'A18', 'A19', 'A20', 'A22', 'A23', 'A24']"
   ]
  },
  {
   "cell_type": "markdown",
   "id": "ddb09237",
   "metadata": {},
   "source": [
    "# Examine interneuron density & waveform properties (Figure S6B-D).\n",
    "\n",
    "Please note you will have had to previously run Shuffle Procedure & Interneuron Classification notebook, which generates the interneuron boolean loaded below and plots Figure S6A."
   ]
  },
  {
   "cell_type": "code",
   "execution_count": 12,
   "id": "2996ef03",
   "metadata": {},
   "outputs": [
    {
     "name": "stdout",
     "output_type": "stream",
     "text": [
      "\n",
      "n EXC cells, IN cells: \n",
      "49193 15123\n",
      "\n",
      "mean, sem excitatory cell waveform duration:\n",
      "0.5806928618695164 0.0005398911083749179\n",
      "mean, sem IN cell waveform duration:\n",
      "0.24317216327811325 0.0004770471659317089\n",
      "stat = 185.94645996738723\n",
      "p_cells = 0.0\n"
     ]
    },
    {
     "data": {
      "image/png": "[encoded data removed]",
      "text/plain": [
       "<Figure size 125x125 with 1 Axes>"
      ]
     },
     "metadata": {},
     "output_type": "display_data"
    },
    {
     "name": "stdout",
     "output_type": "stream",
     "text": [
      "\n",
      "mean, sem excitatory cell waveform PTR:\n",
      "0.44453274345353794 0.0009823209778073623\n",
      "mean, sem IN waveform PTR:\n",
      "0.6245140087498517 0.0033966498250377793\n",
      "stat = -91.18738056878496\n",
      "p_cells = 0.0\n"
     ]
    },
    {
     "data": {
      "image/png": "[encoded data removed]",
      "text/plain": [
       "<Figure size 125x125 with 1 Axes>"
      ]
     },
     "metadata": {},
     "output_type": "display_data"
    }
   ],
   "source": [
    "''' For putative interneurons vs. excitatory cells, plot distribution of waveform durations & peak/trough ratios (Figure S6B/C) '''\n",
    "\n",
    "colors = ['#9DE4E5','#97DD43']\n",
    "\n",
    "#STATS\n",
    "print('\\nn EXC cells, IN cells: ')\n",
    "print(len(duratione), len(durationi))\n",
    "\n",
    "#duration EXC vs. IN\n",
    "print('\\nmean, sem excitatory cell waveform duration:')\n",
    "print(np.nanmean(duratione), stats.sem(duratione, nan_policy = 'omit')) \n",
    "print('mean, sem IN cell waveform duration:')\n",
    "print(np.nanmean(durationi), stats.sem(durationi, nan_policy = 'omit')) \n",
    "stat, p_diff = stats.ranksums(duratione, durationi)\n",
    "print('stat = '+ str(stat))\n",
    "print('p_cells = ' + str(p_diff))\n",
    "\n",
    "# Figure S6b\n",
    "fig, ax = plt.subplots(figsize = (1.25,1.25))\n",
    "bins = np.arange(0,1,0.025)\n",
    "\n",
    "#excitatory cells\n",
    "bscore, bin_edges = np.histogram(duratione, bins = bins)\n",
    "pdf = bscore / sum(bscore)\n",
    "\n",
    "ax.plot(bin_edges[1:], pdf, linewidth = 0.75, color = colors[1])\n",
    "\n",
    "#inhibitory cells\n",
    "score, bin_edges = np.histogram(durationi, bins = bins)\n",
    "pdf = score / sum(score)\n",
    "\n",
    "ax.plot(bin_edges[1:], pdf, linewidth = 0.75, color = colors[0])\n",
    "\n",
    "#format plot\n",
    "ax.set_ylabel('Probability', fontsize = 9)\n",
    "ax.set_xlabel('Duration (ms)', fontsize = 9)\n",
    "ax.set_xlim([0,1])\n",
    "ax.set_xticks([0,0.2,0.4,0.6,0.8,1])\n",
    "ax.set_ylim([0,0.2])\n",
    "ax.tick_params(labelsize = 8)\n",
    "ax.vlines(0.35,0,ax.get_ylim()[1],linewidth = 0.75, color = 'k', linestyles = '--')\n",
    "\n",
    "plt.savefig(save_folder + 'S6B.png', dpi=400, bbox_inches='tight')\n",
    "plt.savefig(save_folder + 'S6B.svg', dpi=400, bbox_inches='tight')\n",
    "plt.show()\n",
    "\n",
    "#STATS\n",
    "#PTR EXC vs. IN\n",
    "print('\\nmean, sem excitatory cell waveform PTR:')\n",
    "print(np.nanmean(PTRe), stats.sem(PTRe, nan_policy = 'omit')) \n",
    "print('mean, sem IN waveform PTR:')\n",
    "print(np.nanmean(PTRi), stats.sem(PTRi, nan_policy = 'omit')) \n",
    "stat, p_diff = stats.ranksums(PTRe, PTRi)\n",
    "print('stat = '+ str(stat))\n",
    "print('p_cells = ' + str(p_diff))\n",
    "\n",
    "# Plot Figure S6c\n",
    "fig, ax = plt.subplots(figsize = (1.25,1.25))\n",
    "bins = np.arange(0,1.5,0.025)\n",
    "\n",
    "#excitatory cells\n",
    "bscore, bin_edges = np.histogram(PTRe, bins = bins)\n",
    "pdf = bscore / sum(bscore)\n",
    "\n",
    "ax.plot(bin_edges[1:], pdf, linewidth = 0.75, color = colors[1])\n",
    "\n",
    "#inhibitory cells\n",
    "score, bin_edges = np.histogram(PTRi, bins = bins)\n",
    "pdf = score / sum(score)\n",
    "\n",
    "ax.plot(bin_edges[1:], pdf, linewidth = 0.75, color = colors[0])\n",
    "\n",
    "#format plot\n",
    "ax.set_ylabel('Probability', fontsize = 9)\n",
    "ax.set_xlabel('Peak:Trough', fontsize = 9)\n",
    "ax.set_xlim([0,1.5])\n",
    "ax.set_xticks([0,0.5,1.0,1.5])\n",
    "ax.set_ylim([0,0.15])\n",
    "ax.tick_params(labelsize = 8)\n",
    "plt.savefig(save_folder + 'S6C.png', dpi=400, bbox_inches='tight')\n",
    "plt.savefig(save_folder + 'S6C.svg', dpi=400, bbox_inches='tight')\n",
    "plt.show()\n"
   ]
  },
  {
   "cell_type": "code",
   "execution_count": 13,
   "id": "3a1ea548",
   "metadata": {},
   "outputs": [
    {
     "name": "stderr",
     "output_type": "stream",
     "text": [
      "C:\\Users\\Python\\anaconda3\\envs\\agingmec\\lib\\site-packages\\numpy\\core\\fromnumeric.py:3464: RuntimeWarning: Mean of empty slice.\n",
      "  return _methods._mean(a, axis=axis, dtype=dtype,\n",
      "C:\\Users\\Python\\anaconda3\\envs\\agingmec\\lib\\site-packages\\numpy\\core\\_methods.py:192: RuntimeWarning: invalid value encountered in scalar divide\n",
      "  ret = ret.dtype.type(ret / rcount)\n",
      "C:\\Users\\Python\\AppData\\Local\\Temp\\ipykernel_27912\\1853322013.py:68: RuntimeWarning: Mean of empty slice\n",
      "  swidth = np.append(swidth, np.nanmean(halfwidth[intn]))\n"
     ]
    }
   ],
   "source": [
    "''' Gather Session Average IN Waveform Properties by Age Group '''\n",
    "\n",
    "# pooling arrays\n",
    "PTRa = []\n",
    "PTRma = []\n",
    "PTRy = []\n",
    "FRa = []\n",
    "FRma = []\n",
    "FRy = []\n",
    "widtha = []\n",
    "widthma = []\n",
    "widthy = []\n",
    "durationa = []\n",
    "durationma = []\n",
    "durationy = []\n",
    "\n",
    "#session arrays\n",
    "sPTR = []\n",
    "sFR = []\n",
    "sduration = []\n",
    "swidth = []\n",
    "sint = []\n",
    "mint = []\n",
    "\n",
    "allwidth = []\n",
    "allduration = []\n",
    "\n",
    "for m, session in zip(mice,sessions):\n",
    "    \n",
    "    seshcount = 1 #should actually be 1 \n",
    "    ints = []\n",
    "    cells = []\n",
    "    widths = []\n",
    "    durations = []\n",
    "    \n",
    "    for s in session:\n",
    "        d = data[m][s]\n",
    "        rawdata_file = 'RAW_' + m + '_' + s + '.npy'\n",
    "        raw = np.load(load_folder + rawdata_file, allow_pickle=True)\n",
    "        \n",
    "        metric_file_name = m + '_' + str(seshcount) + '_metrics.csv'\n",
    "        cell_IDs = raw.item().get('cellsfil')\n",
    "        \n",
    "        # load waveform parameters of interest for good cells only\n",
    "        metrics = pd.read_csv(metrics_folder + metric_file_name)\n",
    "        gcmetrics = metrics[metrics['cluster_id'].isin(list(cell_IDs))]\n",
    "        duration = np.asarray(gcmetrics['duration'])\n",
    "        PTR = np.asarray(gcmetrics['PT_ratio'])\n",
    "        halfwidth = np.asarray(gcmetrics['halfwidth'])\n",
    "        recslope = np.asarray(gcmetrics['recovery_slope'])\n",
    "        firingrate = np.asarray(gcmetrics['firing_rate'])\n",
    "        \n",
    "        #get file name & load int file\n",
    "        intn_file = 'intn_' + m + '_' + s + '.npy'\n",
    "        d['intn'] = np.load(save_folder + intn_file, allow_pickle = True)\n",
    "        intn = d['intn'].astype(bool)\n",
    "        \n",
    "        #collect data to be pooled across animals\n",
    "        ints = np.append(ints, np.sum(intn))\n",
    "        cells = np.append(cells, len(cell_IDs))\n",
    "        widths = np.append(widths, halfwidth[intn])\n",
    "        durations = np.append(durations, duration[intn])\n",
    "        \n",
    "        #save out session values\n",
    "        sint = np.append(sint, 100*np.sum(intn)/len(cell_IDs))\n",
    "        sPTR = np.append(sPTR, np.mean(PTR[intn]))\n",
    "        sFR = np.append(sFR, np.mean(firingrate[intn]))\n",
    "        swidth = np.append(swidth, np.nanmean(halfwidth[intn]))\n",
    "        sduration = np.append(sduration, np.mean(duration[intn]))\n",
    "        \n",
    "        #collect data to be pooled across all sessions, animals in age groups\n",
    "        if m in all_aged_mice:\n",
    "            PTRa = np.append(PTRa, PTR[intn])\n",
    "            FRa = np.append(FRa, firingrate[intn])\n",
    "            widtha = np.append(widtha, halfwidth[intn])\n",
    "            durationa = np.append(durationa, duration[intn])\n",
    "        elif m in all_MA_mice:\n",
    "            PTRma = np.append(PTRma, PTR[intn])\n",
    "            FRma = np.append(FRma, firingrate[intn])\n",
    "            widthma = np.append(widthma, halfwidth[intn])\n",
    "            durationma = np.append(durationma, duration[intn])\n",
    "        else:\n",
    "            PTRy = np.append(PTRy, PTR[intn])\n",
    "            FRy = np.append(FRy, firingrate[intn])\n",
    "            widthy = np.append(widthy, halfwidth[intn])\n",
    "            durationy = np.append(durationy, duration[intn])\n",
    "            \n",
    "        seshcount += 1\n",
    "        \n",
    "    mint = np.append(mint, (100* np.sum(ints) / np.sum(cells)))\n",
    "    allwidth = np.append(allwidth, widths)\n",
    "    allduration = np.append(allduration, durations)"
   ]
  },
  {
   "cell_type": "code",
   "execution_count": 14,
   "id": "45154951",
   "metadata": {},
   "outputs": [],
   "source": [
    "''' Find where I will have NaNs due to 0% INs in a given session'''\n",
    "nan_idx = np.where((sint == 0))[0]\n",
    "\n",
    "# Adjust y_sind, ma_sind, age_sind for subsequent plots\n",
    "y_sindIN = np.setdiff1d(y_sind, nan_idx)\n",
    "ma_sindIN = np.setdiff1d(ma_sind, nan_idx)\n",
    "age_sindIN = np.setdiff1d(age_sind, nan_idx)\n",
    "\n",
    "# Adjust colormaps for all thresholds\n",
    "yidx = []\n",
    "maidx = []\n",
    "aidx = []\n",
    "for i in nan_idx:\n",
    "    yidx = np.append(yidx, np.where(y_sind == i)[0].astype(int))\n",
    "    maidx = np.append(maidx, np.where(ma_sind == i)[0].astype(int))\n",
    "    aidx = np.append(aidx, np.where(age_sind == i)[0].astype(int))\n",
    "    \n",
    "col_session_youngIN = np.delete(col_session_young, list(yidx.astype(int)), axis = 0)\n",
    "col_session_maIN = np.delete(col_session_MA, list(maidx.astype(int)), axis = 0)\n",
    "col_session_oldIN = np.delete(col_session_old, list(aidx.astype(int)), axis = 0)\n",
    "col_sessionIN = [col_session_youngIN, col_session_maIN, col_session_oldIN]      \n",
    "\n",
    "# This will fix how session stats & box plots are plotted, ensuring color schemes are adjusted."
   ]
  },
  {
   "cell_type": "code",
   "execution_count": 15,
   "id": "d2123817",
   "metadata": {},
   "outputs": [
    {
     "data": {
      "image/png": "[encoded data removed]",
      "text/plain": [
       "<Figure size 125x125 with 1 Axes>"
      ]
     },
     "metadata": {},
     "output_type": "display_data"
    },
    {
     "data": {
      "image/png": "[encoded data removed]",
      "text/plain": [
       "<Figure size 125x125 with 1 Axes>"
      ]
     },
     "metadata": {},
     "output_type": "display_data"
    },
    {
     "data": {
      "image/png": "[encoded data removed]",
      "text/plain": [
       "<Figure size 125x125 with 1 Axes>"
      ]
     },
     "metadata": {},
     "output_type": "display_data"
    },
    {
     "data": {
      "image/png": "[encoded data removed]",
      "text/plain": [
       "<Figure size 125x125 with 1 Axes>"
      ]
     },
     "metadata": {},
     "output_type": "display_data"
    },
    {
     "data": {
      "image/png": "[encoded data removed]",
      "text/plain": [
       "<Figure size 125x125 with 1 Axes>"
      ]
     },
     "metadata": {},
     "output_type": "display_data"
    }
   ],
   "source": [
    "''' Plot Figure S6D Panels (IN Density & Waveform Properties) '''\n",
    "\n",
    "# set up handles\n",
    "from itertools import repeat\n",
    "handles = []\n",
    "percint = [mint[y_ind], mint[ma_ind], mint[age_ind]]\n",
    "for i in range(len(percint)):\n",
    "    for c in col_animal[i][0]:\n",
    "        dot = mlines.Line2D([],[], color = c, marker ='o', linestyle = 'None', markersize = 8)\n",
    "        handles.append(dot)\n",
    "        if c[0] == col_animal[1][0][9][0]: # adds white space so columns are color sorted\n",
    "            l = mlines.Line2D([0],[0],color=\"w\")\n",
    "            handles.extend(repeat(l,7))\n",
    "\n",
    "#Plot Figure S6d (first)\n",
    "fig, ax = plt.subplots(figsize = (1.25,1.25))\n",
    "percint = [sint[y_sind], sint[ma_sind], sint[age_sind]]\n",
    "labels = ['Young','MA','Aged']\n",
    "w = 0.5\n",
    "plt.boxplot(percint, widths = w, labels = labels, medianprops = dict(color = 'black'))\n",
    "\n",
    "for i in range(len(percint)):\n",
    "    y = percint[i]\n",
    "    x = np.random.normal(i + 1, 0.04, len(y))\n",
    "    plt.scatter(x, y, color = col_session[i][:len(y)], edgecolors = col_session[i][:len(y)], s = 10)\n",
    "            \n",
    "#ax.legend(ncol = 3, handles = handles, labels = label_mice, loc = 'upper right',bbox_to_anchor=(1.8, 1))\n",
    "ax.set_xlabel('Age', fontsize=9, labelpad=1)\n",
    "ax.set_ylabel('% INs', fontsize = 9, labelpad=1)\n",
    "ax.tick_params(labelsize = 8)\n",
    "ax.set_ylim([0,70])\n",
    "ax.set_yticks([0,10,20,30,40,50,60,70])\n",
    "plt.savefig(save_folder + 'S6Dfirst.png', dpi=400, bbox_inches='tight')\n",
    "plt.savefig(save_folder + 'S6Dfirst.svg', dpi=400, bbox_inches='tight')\n",
    "plt.show()\n",
    "\n",
    "#Plot Figure S6D (second)\n",
    "fig, ax = plt.subplots(figsize = (1.25,1.25))\n",
    "intdur = [sduration[y_sindIN], sduration[ma_sindIN], sduration[age_sindIN]]\n",
    "labels = ['Young','MA','Aged']\n",
    "w = 0.5\n",
    "plt.boxplot(intdur, widths = w, labels = labels, medianprops = dict(color = 'black'))\n",
    "\n",
    "for i in range(len(intdur)):\n",
    "    y = intdur[i]\n",
    "    x = np.random.normal(i + 1, 0.04, len(y))\n",
    "    plt.scatter(x, y, color = col_sessionIN[i], edgecolors = col_sessionIN[i], s = 10)\n",
    "            \n",
    "#ax.legend(ncol = 3, handles = handles, labels = label_mice, loc = 'upper right',bbox_to_anchor=(1.8, 1))\n",
    "ax.set_xlabel('Age', fontsize=9, labelpad=1)\n",
    "ax.set_ylabel('Mean Duration (ms)', fontsize = 9, labelpad=1)\n",
    "ax.tick_params(labelsize = 8)\n",
    "ax.set_ylim([0.15,0.35])\n",
    "ax.set_yticks([0.15,0.20,0.25,0.30,0.35])\n",
    "plt.savefig(save_folder + 'S6Dsecond.png', dpi=400, bbox_inches='tight')\n",
    "plt.savefig(save_folder + 'S6Dsecond.svg', dpi=400, bbox_inches='tight')\n",
    "plt.show()\n",
    "\n",
    "#Plot Figure S6D (middle)\n",
    "fig, ax = plt.subplots(figsize = (1.25,1.25))\n",
    "intPTR = [sPTR[y_sindIN], sPTR[ma_sindIN], sPTR[age_sindIN]]\n",
    "plt.boxplot(intPTR, widths = w, labels = labels, medianprops = dict(color = 'black'))\n",
    "\n",
    "for i in range(len(intPTR)):\n",
    "    y = intPTR[i]\n",
    "    x = np.random.normal(i + 1, 0.04, len(y))\n",
    "    plt.scatter(x, y, color = col_sessionIN[i], edgecolors = col_sessionIN[i], s = 10)\n",
    "            \n",
    "#ax.legend(ncol = 3, handles = handles, labels = label_mice, loc = 'upper right',bbox_to_anchor=(1.8, 1))\n",
    "ax.set_xlabel('Age', fontsize=9, labelpad=1)\n",
    "ax.set_ylabel('Mean Peak:Trough', fontsize = 9, labelpad=1)\n",
    "ax.tick_params(labelsize = 8)\n",
    "ax.set_ylim([0.25, 1.50])\n",
    "ax.set_yticks([0.25,0.50,0.75,1.0,1.25,1.50])\n",
    "plt.savefig(save_folder + 'S6Dmiddle.png', dpi=400, bbox_inches='tight')\n",
    "plt.savefig(save_folder + 'S6Dmiddle.svg', dpi=400, bbox_inches='tight')\n",
    "plt.show()\n",
    "\n",
    "#Plot Figure S6D (fourth)\n",
    "fig, ax = plt.subplots(figsize = (1.25,1.25))\n",
    "intwidth = [swidth[y_sindIN], swidth[ma_sindIN], swidth[age_sindIN]]\n",
    "plt.boxplot(intwidth, widths = w, labels = labels, medianprops = dict(color = 'black'))\n",
    "\n",
    "for i in range(len(intwidth)):\n",
    "    y = intwidth[i]\n",
    "    x = np.random.normal(i + 1, 0.04, len(y))\n",
    "    plt.scatter(x, y, color = col_sessionIN[i], edgecolors = col_sessionIN[i], s = 10)\n",
    "            \n",
    "#ax.legend(ncol = 3, handles = handles, labels = label_mice, loc = 'upper right',bbox_to_anchor=(1.8, 1))\n",
    "ax.set_xlabel('Age', fontsize=9, labelpad=1)\n",
    "ax.set_ylabel('Mean Width (ms)', fontsize = 9, labelpad=1)\n",
    "ax.tick_params(labelsize = 8)\n",
    "ax.set_ylim([0.10,0.25])\n",
    "ax.set_yticks([0.10,0.15,0.20,0.25])\n",
    "plt.savefig(save_folder + 'S6Dfourth.png', dpi=400, bbox_inches='tight')\n",
    "plt.savefig(save_folder + 'S6Dfourth.svg', dpi=400, bbox_inches='tight')\n",
    "plt.show()\n",
    "\n",
    "#Plot Figure S6D (last)\n",
    "fig, ax = plt.subplots(figsize = (1.25,1.25))\n",
    "intFR = [sFR[y_sindIN], sFR[ma_sindIN], sFR[age_sindIN]]\n",
    "plt.boxplot(intFR, widths = w, labels = labels, medianprops = dict(color = 'black'))\n",
    "\n",
    "for i in range(len(intFR)):\n",
    "    y = intFR[i]\n",
    "    x = np.random.normal(i + 1, 0.04, len(y))\n",
    "    plt.scatter(x, y, color = col_sessionIN[i], edgecolors = col_sessionIN[i], s = 10)\n",
    "            \n",
    "#ax.legend(ncol = 3, handles = handles, labels = label_mice, loc = 'upper right',bbox_to_anchor=(1.8, 1))\n",
    "ax.set_xlabel('Age', fontsize=9, labelpad=1)\n",
    "ax.set_ylabel('Mean FR (Hz)', fontsize = 9, labelpad=1)\n",
    "ax.tick_params(labelsize = 8)\n",
    "ax.set_ylim([0,30])\n",
    "ax.set_yticks([0,10,20,30])\n",
    "plt.savefig(save_folder + 'S6Dlast.png', dpi=400, bbox_inches='tight')\n",
    "plt.savefig(save_folder + 'S6Dlast.svg', dpi=400, bbox_inches='tight')\n",
    "plt.show()"
   ]
  },
  {
   "cell_type": "code",
   "execution_count": 16,
   "id": "2c32d29d",
   "metadata": {},
   "outputs": [
    {
     "name": "stdout",
     "output_type": "stream",
     "text": [
      "n young, MA, aged sessions: \n",
      "98 58 97\n",
      "\n",
      "%intyoung ± SEM; %int_MA ± SEM; %int_old ± SEM\n",
      "21.2188 ± 0.9206 ; 27.3493 ± 0.8074 ; 26.2412 ± 0.8678\n",
      "KW stat = 39.214030539662346\n",
      "p_%intsession = 3.053384254495053e-09\n"
     ]
    },
    {
     "data": {
      "text/html": [
       "<div>\n",
       "<style scoped>\n",
       "    .dataframe tbody tr th:only-of-type {\n",
       "        vertical-align: middle;\n",
       "    }\n",
       "\n",
       "    .dataframe tbody tr th {\n",
       "        vertical-align: top;\n",
       "    }\n",
       "\n",
       "    .dataframe thead th {\n",
       "        text-align: right;\n",
       "    }\n",
       "</style>\n",
       "<table border=\"1\" class=\"dataframe\">\n",
       "  <thead>\n",
       "    <tr style=\"text-align: right;\">\n",
       "      <th></th>\n",
       "      <th>1.0</th>\n",
       "      <th>2.0</th>\n",
       "      <th>3.0</th>\n",
       "    </tr>\n",
       "  </thead>\n",
       "  <tbody>\n",
       "    <tr>\n",
       "      <th>1.0</th>\n",
       "      <td>1.000000e+00</td>\n",
       "      <td>1.182298e-08</td>\n",
       "      <td>4.928001e-07</td>\n",
       "    </tr>\n",
       "    <tr>\n",
       "      <th>2.0</th>\n",
       "      <td>1.182298e-08</td>\n",
       "      <td>1.000000e+00</td>\n",
       "      <td>1.316514e-01</td>\n",
       "    </tr>\n",
       "    <tr>\n",
       "      <th>3.0</th>\n",
       "      <td>4.928001e-07</td>\n",
       "      <td>1.316514e-01</td>\n",
       "      <td>1.000000e+00</td>\n",
       "    </tr>\n",
       "  </tbody>\n",
       "</table>\n",
       "</div>"
      ],
      "text/plain": [
       "              1.0           2.0           3.0\n",
       "1.0  1.000000e+00  1.182298e-08  4.928001e-07\n",
       "2.0  1.182298e-08  1.000000e+00  1.316514e-01\n",
       "3.0  4.928001e-07  1.316514e-01  1.000000e+00"
      ]
     },
     "execution_count": 16,
     "metadata": {},
     "output_type": "execute_result"
    }
   ],
   "source": [
    "'''Statistics for Multiple Comparisons for IN Density (Figure S6D (first))'''\n",
    "\n",
    "print('n young, MA, aged sessions: ')\n",
    "print(len(y_sind),len(ma_sind), len(age_sind))\n",
    "\n",
    "print('\\n%intyoung ± SEM; %int_MA ± SEM; %int_old ± SEM')\n",
    "print(str(np.round(np.mean(sint[y_sind]), 4)) + ' ± ' + str(np.round(stats.sem(sint[y_sind]), 4)) + ' ; ' \n",
    "      + str(np.round(np.mean(sint[ma_sind]), 4)) + ' ± ' + str(np.round(stats.sem(sint[ma_sind]), 4)) + ' ; ' \n",
    "      + str(np.round(np.mean(sint[age_sind]), 4)) + ' ± ' + str(np.round(stats.sem(sint[age_sind]), 4)))\n",
    "\n",
    "stat, p_diff = stats.kruskal(sint[y_sind],sint[ma_sind],sint[age_sind])\n",
    "print('KW stat = ' + str(stat))\n",
    "print('p_%intsession = ' + str(p_diff))\n",
    "\n",
    "import statsmodels.api as sm\n",
    "import scikit_posthocs as ph\n",
    "\n",
    "#make into dataframe\n",
    "seshmice = []\n",
    "seshcount = []\n",
    "seshage = []\n",
    "for m, session in zip(mice, sessions):\n",
    "    age =  np.array(animalmeta.loc[(animalmeta.Animal_ID == m),'Age_Group'])\n",
    "    totalsesh = len(session)\n",
    "    \n",
    "    for i, s in enumerate(session):\n",
    "        seshmice = np.append(seshmice, m)\n",
    "        seshcount = np.append(seshcount, (i + 1))\n",
    "        seshage = np.append(seshage, age)\n",
    "\n",
    "# Collect all relevant data into pandas dataframe\n",
    "allidx = np.concatenate((y_sind,ma_sind,age_sind))\n",
    "Animal_ID = list(seshmice[allidx])\n",
    "Session = list(seshcount[allidx])\n",
    "Age_Group = list(seshage[allidx])\n",
    "Percentint = list(sint[allidx])\n",
    "\n",
    "tuples = list(zip(Animal_ID, Session, Age_Group, Percentint))\n",
    "tuples\n",
    "\n",
    "df = pd.DataFrame(tuples, columns = ['AnimalID', 'Session', 'AgeGroup','percentint'])\n",
    "df = df.dropna(axis = 0)\n",
    "\n",
    "#run post hoc tests\n",
    "ph.posthoc_conover(df, val_col = 'percentint', group_col = 'AgeGroup', p_adjust = 'holm')"
   ]
  },
  {
   "cell_type": "code",
   "execution_count": 17,
   "id": "e63a33d1",
   "metadata": {},
   "outputs": [
    {
     "name": "stdout",
     "output_type": "stream",
     "text": [
      "\n",
      "n young, MA, aged w/ INs: \n",
      "97 58 97\n",
      "\n",
      "Durationyoung ± SEM; Duration_MA ± SEM; Duration_old ± SEM\n",
      "0.2481 ± 0.0018 ; 0.2406 ± 0.0019 ; 0.2402 ± 0.0016\n",
      "KW stat = 22.58872170239936\n",
      "p_durationsession = 1.2442894122603834e-05\n"
     ]
    },
    {
     "data": {
      "text/html": [
       "<div>\n",
       "<style scoped>\n",
       "    .dataframe tbody tr th:only-of-type {\n",
       "        vertical-align: middle;\n",
       "    }\n",
       "\n",
       "    .dataframe tbody tr th {\n",
       "        vertical-align: top;\n",
       "    }\n",
       "\n",
       "    .dataframe thead th {\n",
       "        text-align: right;\n",
       "    }\n",
       "</style>\n",
       "<table border=\"1\" class=\"dataframe\">\n",
       "  <thead>\n",
       "    <tr style=\"text-align: right;\">\n",
       "      <th></th>\n",
       "      <th>1.0</th>\n",
       "      <th>2.0</th>\n",
       "      <th>3.0</th>\n",
       "    </tr>\n",
       "  </thead>\n",
       "  <tbody>\n",
       "    <tr>\n",
       "      <th>1.0</th>\n",
       "      <td>1.000000</td>\n",
       "      <td>0.000136</td>\n",
       "      <td>0.000063</td>\n",
       "    </tr>\n",
       "    <tr>\n",
       "      <th>2.0</th>\n",
       "      <td>0.000136</td>\n",
       "      <td>1.000000</td>\n",
       "      <td>0.764698</td>\n",
       "    </tr>\n",
       "    <tr>\n",
       "      <th>3.0</th>\n",
       "      <td>0.000063</td>\n",
       "      <td>0.764698</td>\n",
       "      <td>1.000000</td>\n",
       "    </tr>\n",
       "  </tbody>\n",
       "</table>\n",
       "</div>"
      ],
      "text/plain": [
       "          1.0       2.0       3.0\n",
       "1.0  1.000000  0.000136  0.000063\n",
       "2.0  0.000136  1.000000  0.764698\n",
       "3.0  0.000063  0.764698  1.000000"
      ]
     },
     "execution_count": 17,
     "metadata": {},
     "output_type": "execute_result"
    }
   ],
   "source": [
    "'''Statistics for Multiple Comparisons for IN Waveform Duration (Figure S6D (second))'''\n",
    "\n",
    "print('\\nn young, MA, aged w/ INs: ')\n",
    "print(len(y_sindIN),len(ma_sindIN), len(age_sindIN))\n",
    "\n",
    "print('\\nDurationyoung ± SEM; Duration_MA ± SEM; Duration_old ± SEM')\n",
    "print(str(np.round(np.mean(sduration[y_sindIN]), 4)) + ' ± ' + str(np.round(stats.sem(sduration[y_sindIN]), 4)) + ' ; ' \n",
    "      + str(np.round(np.mean(sduration[ma_sindIN]), 4)) + ' ± ' + str(np.round(stats.sem(sduration[ma_sindIN]), 4)) + ' ; ' \n",
    "      + str(np.round(np.mean(sduration[age_sindIN]), 4)) + ' ± ' + str(np.round(stats.sem(sduration[age_sindIN]), 4)))\n",
    "\n",
    "stat, p_diff = stats.kruskal(sduration[y_sindIN],sduration[ma_sindIN],sduration[age_sindIN])\n",
    "print('KW stat = ' + str(stat))\n",
    "print('p_durationsession = ' + str(p_diff))\n",
    "\n",
    "# Collect all relevant data into pandas dataframe\n",
    "allidx = np.concatenate((y_sindIN,ma_sindIN,age_sindIN))\n",
    "Animal_ID = list(seshmice[allidx])\n",
    "Session = list(seshcount[allidx])\n",
    "Age_Group = list(seshage[allidx])\n",
    "Duration = list(sduration[allidx])\n",
    "PTR = list(sPTR[allidx])\n",
    "Width = list(swidth[allidx])\n",
    "Meanfr = list(sFR[allidx])\n",
    "\n",
    "tuples = list(zip(Animal_ID, Session, Age_Group, Duration, PTR, Width, Meanfr))\n",
    "tuples\n",
    "\n",
    "df = pd.DataFrame(tuples, columns = ['AnimalID', 'Session', 'AgeGroup','duration','ptr','width', 'meanfr'])\n",
    "df = df.dropna(axis = 0)\n",
    "\n",
    "#run post hoc tests\n",
    "ph.posthoc_conover(df, val_col = 'duration', group_col = 'AgeGroup', p_adjust = 'holm')"
   ]
  },
  {
   "cell_type": "code",
   "execution_count": 18,
   "id": "93a78c2a",
   "metadata": {},
   "outputs": [
    {
     "name": "stdout",
     "output_type": "stream",
     "text": [
      "\n",
      "PTRyoung ± SEM; PTR_MA ± SEM; PTR_old ± SEM\n",
      "0.6281 ± 0.0121 ; 0.5905 ± 0.0083 ; 0.6166 ± 0.0079\n",
      "KW stat = 5.830669281773567\n",
      "p_PTRsession = 0.05418589518262913\n"
     ]
    },
    {
     "data": {
      "text/html": [
       "<div>\n",
       "<style scoped>\n",
       "    .dataframe tbody tr th:only-of-type {\n",
       "        vertical-align: middle;\n",
       "    }\n",
       "\n",
       "    .dataframe tbody tr th {\n",
       "        vertical-align: top;\n",
       "    }\n",
       "\n",
       "    .dataframe thead th {\n",
       "        text-align: right;\n",
       "    }\n",
       "</style>\n",
       "<table border=\"1\" class=\"dataframe\">\n",
       "  <thead>\n",
       "    <tr style=\"text-align: right;\">\n",
       "      <th></th>\n",
       "      <th>1.0</th>\n",
       "      <th>2.0</th>\n",
       "      <th>3.0</th>\n",
       "    </tr>\n",
       "  </thead>\n",
       "  <tbody>\n",
       "    <tr>\n",
       "      <th>1.0</th>\n",
       "      <td>1.000000</td>\n",
       "      <td>0.059076</td>\n",
       "      <td>0.66266</td>\n",
       "    </tr>\n",
       "    <tr>\n",
       "      <th>2.0</th>\n",
       "      <td>0.059076</td>\n",
       "      <td>1.000000</td>\n",
       "      <td>0.10001</td>\n",
       "    </tr>\n",
       "    <tr>\n",
       "      <th>3.0</th>\n",
       "      <td>0.662660</td>\n",
       "      <td>0.100010</td>\n",
       "      <td>1.00000</td>\n",
       "    </tr>\n",
       "  </tbody>\n",
       "</table>\n",
       "</div>"
      ],
      "text/plain": [
       "          1.0       2.0      3.0\n",
       "1.0  1.000000  0.059076  0.66266\n",
       "2.0  0.059076  1.000000  0.10001\n",
       "3.0  0.662660  0.100010  1.00000"
      ]
     },
     "execution_count": 18,
     "metadata": {},
     "output_type": "execute_result"
    }
   ],
   "source": [
    "'''Statistics for Multiple Comparisons for IN Waveform PTR (Figure S6D (middle))'''\n",
    "\n",
    "print('\\nPTRyoung ± SEM; PTR_MA ± SEM; PTR_old ± SEM')\n",
    "print(str(np.round(np.mean(sPTR[y_sindIN]), 4)) + ' ± ' + str(np.round(stats.sem(sPTR[y_sindIN]), 4)) + ' ; ' \n",
    "      + str(np.round(np.mean(sPTR[ma_sindIN]), 4)) + ' ± ' + str(np.round(stats.sem(sPTR[ma_sindIN]), 4)) + ' ; ' \n",
    "      + str(np.round(np.mean(sPTR[age_sindIN]), 4)) + ' ± ' + str(np.round(stats.sem(sPTR[age_sindIN]), 4)))\n",
    "\n",
    "stat, p_diff = stats.kruskal(sPTR[y_sindIN],sPTR[ma_sindIN],sPTR[age_sindIN])\n",
    "print('KW stat = ' + str(stat))\n",
    "print('p_PTRsession = ' + str(p_diff))\n",
    "\n",
    "#run post hoc tests\n",
    "ph.posthoc_conover(df, val_col = 'ptr', group_col = 'AgeGroup', p_adjust = 'holm')"
   ]
  },
  {
   "cell_type": "code",
   "execution_count": 19,
   "id": "f5a8b8b2",
   "metadata": {},
   "outputs": [
    {
     "name": "stdout",
     "output_type": "stream",
     "text": [
      "\n",
      "Widthyoung ± SEM; Width_MA ± SEM; Width_old ± SEM\n",
      "0.1503 ± 0.0015 ; 0.1431 ± 0.0013 ; 0.1433 ± 0.0012\n",
      "KW stat = 21.48964678446369\n",
      "p_widthsession = 2.155671061950531e-05\n"
     ]
    },
    {
     "data": {
      "text/html": [
       "<div>\n",
       "<style scoped>\n",
       "    .dataframe tbody tr th:only-of-type {\n",
       "        vertical-align: middle;\n",
       "    }\n",
       "\n",
       "    .dataframe tbody tr th {\n",
       "        vertical-align: top;\n",
       "    }\n",
       "\n",
       "    .dataframe thead th {\n",
       "        text-align: right;\n",
       "    }\n",
       "</style>\n",
       "<table border=\"1\" class=\"dataframe\">\n",
       "  <thead>\n",
       "    <tr style=\"text-align: right;\">\n",
       "      <th></th>\n",
       "      <th>1.0</th>\n",
       "      <th>2.0</th>\n",
       "      <th>3.0</th>\n",
       "    </tr>\n",
       "  </thead>\n",
       "  <tbody>\n",
       "    <tr>\n",
       "      <th>1.0</th>\n",
       "      <td>1.000000</td>\n",
       "      <td>0.000147</td>\n",
       "      <td>0.000143</td>\n",
       "    </tr>\n",
       "    <tr>\n",
       "      <th>2.0</th>\n",
       "      <td>0.000147</td>\n",
       "      <td>1.000000</td>\n",
       "      <td>0.651504</td>\n",
       "    </tr>\n",
       "    <tr>\n",
       "      <th>3.0</th>\n",
       "      <td>0.000143</td>\n",
       "      <td>0.651504</td>\n",
       "      <td>1.000000</td>\n",
       "    </tr>\n",
       "  </tbody>\n",
       "</table>\n",
       "</div>"
      ],
      "text/plain": [
       "          1.0       2.0       3.0\n",
       "1.0  1.000000  0.000147  0.000143\n",
       "2.0  0.000147  1.000000  0.651504\n",
       "3.0  0.000143  0.651504  1.000000"
      ]
     },
     "execution_count": 19,
     "metadata": {},
     "output_type": "execute_result"
    }
   ],
   "source": [
    "'''Statistics for Multiple Comparisons for IN Waveform Width (Figure S6D (fourth))'''\n",
    "\n",
    "print('\\nWidthyoung ± SEM; Width_MA ± SEM; Width_old ± SEM')\n",
    "print(str(np.round(np.mean(swidth[y_sindIN]), 4)) + ' ± ' + str(np.round(stats.sem(swidth[y_sindIN]), 4)) + ' ; ' \n",
    "      + str(np.round(np.mean(swidth[ma_sindIN]), 4)) + ' ± ' + str(np.round(stats.sem(swidth[ma_sindIN]), 4)) + ' ; ' \n",
    "      + str(np.round(np.mean(swidth[age_sindIN]), 4)) + ' ± ' + str(np.round(stats.sem(swidth[age_sindIN]), 4)))\n",
    "\n",
    "stat, p_diff = stats.kruskal(swidth[y_sindIN],swidth[ma_sindIN],swidth[age_sindIN])\n",
    "print('KW stat = ' + str(stat))\n",
    "print('p_widthsession = ' + str(p_diff))\n",
    "\n",
    "#run post hoc tests\n",
    "ph.posthoc_conover(df, val_col = 'width', group_col = 'AgeGroup', p_adjust = 'holm')"
   ]
  },
  {
   "cell_type": "code",
   "execution_count": 20,
   "id": "797527d3",
   "metadata": {},
   "outputs": [
    {
     "name": "stdout",
     "output_type": "stream",
     "text": [
      "\n",
      "FRyoung ± SEM; FR_MA ± SEM; FR_old ± SEM\n",
      "9.0683 ± 0.4352 ; 11.4235 ± 0.424 ; 10.7849 ± 0.4427\n",
      "KW stat = 18.582582788134573\n",
      "p_FRsession = 9.222388596693254e-05\n"
     ]
    },
    {
     "data": {
      "text/html": [
       "<div>\n",
       "<style scoped>\n",
       "    .dataframe tbody tr th:only-of-type {\n",
       "        vertical-align: middle;\n",
       "    }\n",
       "\n",
       "    .dataframe tbody tr th {\n",
       "        vertical-align: top;\n",
       "    }\n",
       "\n",
       "    .dataframe thead th {\n",
       "        text-align: right;\n",
       "    }\n",
       "</style>\n",
       "<table border=\"1\" class=\"dataframe\">\n",
       "  <thead>\n",
       "    <tr style=\"text-align: right;\">\n",
       "      <th></th>\n",
       "      <th>1.0</th>\n",
       "      <th>2.0</th>\n",
       "      <th>3.0</th>\n",
       "    </tr>\n",
       "  </thead>\n",
       "  <tbody>\n",
       "    <tr>\n",
       "      <th>1.0</th>\n",
       "      <td>1.000000</td>\n",
       "      <td>0.000062</td>\n",
       "      <td>0.010702</td>\n",
       "    </tr>\n",
       "    <tr>\n",
       "      <th>2.0</th>\n",
       "      <td>0.000062</td>\n",
       "      <td>1.000000</td>\n",
       "      <td>0.057326</td>\n",
       "    </tr>\n",
       "    <tr>\n",
       "      <th>3.0</th>\n",
       "      <td>0.010702</td>\n",
       "      <td>0.057326</td>\n",
       "      <td>1.000000</td>\n",
       "    </tr>\n",
       "  </tbody>\n",
       "</table>\n",
       "</div>"
      ],
      "text/plain": [
       "          1.0       2.0       3.0\n",
       "1.0  1.000000  0.000062  0.010702\n",
       "2.0  0.000062  1.000000  0.057326\n",
       "3.0  0.010702  0.057326  1.000000"
      ]
     },
     "execution_count": 20,
     "metadata": {},
     "output_type": "execute_result"
    }
   ],
   "source": [
    "'''Statistics for Multiple Comparisons for IN Waveform Mean FR (Figure S6D (last))'''\n",
    "\n",
    "print('\\nFRyoung ± SEM; FR_MA ± SEM; FR_old ± SEM')\n",
    "print(str(np.round(np.mean(sFR[y_sindIN]), 4)) + ' ± ' + str(np.round(stats.sem(sFR[y_sindIN]), 4)) + ' ; ' \n",
    "      + str(np.round(np.mean(sFR[ma_sindIN]), 4)) + ' ± ' + str(np.round(stats.sem(sFR[ma_sindIN]), 4)) + ' ; ' \n",
    "      + str(np.round(np.mean(sFR[age_sindIN]), 4)) + ' ± ' + str(np.round(stats.sem(sFR[age_sindIN]), 4)))\n",
    "\n",
    "stat, p_diff = stats.kruskal(sFR[y_sindIN],sFR[ma_sindIN],sFR[age_sindIN])\n",
    "print('KW stat = ' + str(stat))\n",
    "print('p_FRsession = ' + str(p_diff))\n",
    "\n",
    "#run post hoc tests\n",
    "ph.posthoc_conover(df, val_col = 'meanfr', group_col = 'AgeGroup', p_adjust = 'holm')"
   ]
  },
  {
   "cell_type": "markdown",
   "id": "91b0cf73",
   "metadata": {},
   "source": [
    "# Classify speed-tuned interneurons, speed-only cells & speed-tuned grid cells. "
   ]
  },
  {
   "cell_type": "code",
   "execution_count": 21,
   "id": "7d2dbe4d",
   "metadata": {},
   "outputs": [],
   "source": [
    "'''Load Scores & Save Booleans of Negative & Positively Modulated Speed Cells \n",
    "  \n",
    " NOTE: shuffled scores are produced by the notebook \"Shuffle Procedure.\" Please run that for all sessions before proceeding here.\n",
    "\n",
    "'''  \n",
    "\n",
    "P99score = []\n",
    "P99stabscore = []\n",
    "for m, session in zip(mice,sessions):\n",
    "    for s in session:\n",
    "        d = data[m][s]\n",
    "    \n",
    "        #get file names\n",
    "        realspeedscore_file = 'realinstspeedscore_' + m + '_' + s + '.npy'\n",
    "        realspeedstabscore_file = 'realspeedstabscore_' + m + '_' + s + '.npy'\n",
    "        shufinstspeedscore_file = 'shufinstspeedscore_' + m + '_' + s + '.npy'\n",
    "        shufspeedstabscore_file = 'shufspeedstabscore_' + m + '_' + s + '.npy'\n",
    "        rawdata_file = 'RAW_' + m + '_' + s + '.npy'\n",
    "        \n",
    "        #Load stuff & get data relevant to classification\n",
    "        d['speedscore'] = np.load(fig6_folder + realspeedscore_file)\n",
    "        d['speedstabscore'] = np.load(fig6_folder + realspeedstabscore_file)\n",
    "        d['shufspeedscore'] = np.load(shuffload_folder1 + shufinstspeedscore_file, allow_pickle = True) \n",
    "        d['shufspeedstabscore'] = np.load(shuffload_folder2 + shufspeedstabscore_file, allow_pickle = True) \n",
    "        raw = np.load(load_folder + rawdata_file, allow_pickle=True)\n",
    "        \n",
    "        shufspeedscore = d['shufspeedscore']\n",
    "        shufspeedstabscore = d['shufspeedstabscore']\n",
    "        realspeed_score = d['speedscore'] \n",
    "        realspeedstab_score = d['speedstabscore'] \n",
    "        cell_IDs = raw.item().get('cellsfil')\n",
    "        \n",
    "        speedcell99 = []\n",
    "        speedcell1 = []\n",
    "        \n",
    "        #Classify excitatory, positively & negatively modulated speed cells\n",
    "        for i, c in enumerate(cell_IDs):\n",
    "            dist = abs(shufspeedscore[:,i])\n",
    "            P99 = np.percentile(dist,99)\n",
    "            \n",
    "            dist2 = abs(shufspeedstabscore[:,i])\n",
    "            sP99 = np.percentile(dist2,99)\n",
    "            \n",
    "            P99stabscore = np.append(P99stabscore, sP99)\n",
    "            P99score = np.append(P99score, P99)\n",
    "\n",
    "            if (abs(realspeed_score[i]) >= P99) & (abs(realspeedstab_score[i]) >= sP99):\n",
    "                if realspeed_score[i] >= 0: # pos mod P99 cell\n",
    "                    speedcell99 = np.append(speedcell99, True)\n",
    "                    speedcell1 = np.append(speedcell1, False)\n",
    "                else: # neg mod P99 cell\n",
    "                    speedcell99 = np.append(speedcell99, False)\n",
    "                    speedcell1 = np.append(speedcell1, True) \n",
    "            else:\n",
    "                speedcell99 = np.append(speedcell99, False)\n",
    "                speedcell1 = np.append(speedcell1, False) \n",
    "\n",
    "        speedcell99 = np.asarray(speedcell99).astype(bool)\n",
    "        speedcell1 = np.asarray(speedcell1).astype(bool)\n",
    "                \n",
    "        #save speed cell classification boolean as .npy file for easy access for all animals\n",
    "        d['speedcell99'] = speedcell99\n",
    "        d['speedcell1'] = speedcell1\n"
   ]
  },
  {
   "cell_type": "code",
   "execution_count": 22,
   "id": "40b245c9",
   "metadata": {},
   "outputs": [],
   "source": [
    " '''Load Scores & Save Booleans of Negative & Positively Speed Modulated Interneurons: '''\n",
    "\n",
    "for m, session in zip(mice,sessions):\n",
    "    for s in session:\n",
    "        d = data[m][s]\n",
    "    \n",
    "        #get file names\n",
    "        rawdata_file = 'RAW_' + m + '_' + s + '.npy'\n",
    "        raw = np.load(load_folder + rawdata_file, allow_pickle=True)\n",
    "        \n",
    "        cell_IDs = raw.item().get('cellsfil')\n",
    "        intn = d['intn'].astype(bool)\n",
    "        \n",
    "        #load speed tuned cells\n",
    "        \n",
    "        speedcell99 = d['speedcell99'].astype(bool)\n",
    "        speedcell1 = d['speedcell1'].astype(bool)\n",
    "        \n",
    "        # ID speed modulated interneurons\n",
    "        speedint99 = []\n",
    "        speedint1 = []\n",
    "        for i, c in enumerate(cell_IDs):\n",
    "            if (intn[i] == True):\n",
    "                if (speedcell99[i] == True):\n",
    "                    speedint99 = np.append(speedint99, True)\n",
    "                    speedint1 = np.append(speedint1, False)\n",
    "                elif (speedcell1[i] == True): \n",
    "                    speedint99 = np.append(speedint99, False)\n",
    "                    speedint1 = np.append(speedint1, True)\n",
    "                else:\n",
    "                    speedint99 = np.append(speedint99, False)\n",
    "                    speedint1 = np.append(speedint1, False)  \n",
    "            else:\n",
    "                speedint99 = np.append(speedint99, False)\n",
    "                speedint1 = np.append(speedint1, False)\n",
    "\n",
    "        #save speed cell classification boolean as .npy file for easy access for all animals\n",
    "        d['speedint99'] = speedint99.astype(bool)\n",
    "        d['speedint1'] = speedint1.astype(bool)"
   ]
  },
  {
   "cell_type": "code",
   "execution_count": 23,
   "id": "60a7fb13",
   "metadata": {},
   "outputs": [],
   "source": [
    " '''Load Scores & Save Booleans of Negative & Positively ONLY Speed Modulated Excitatory Cells\n",
    " \n",
    "Note: Figure 2/S3 and 5 notebooks must be run before this. \n",
    "\n",
    "'''\n",
    "for m, session in zip(mice,sessions):\n",
    "    for s in session:\n",
    "        d = data[m][s]\n",
    "    \n",
    "        #get file names\n",
    "        rawdata_file = 'RAW_' + m + '_' + s + '.npy'\n",
    "        raw = np.load(load_folder + rawdata_file, allow_pickle=True)\n",
    "        \n",
    "        cell_IDs = raw.item().get('cellsfil')\n",
    "        intn = d['intn'].astype(bool)\n",
    "        speedcell99 = d['speedcell99'].astype(bool)\n",
    "        speedcell1 = d['speedcell1'].astype(bool)\n",
    "        \n",
    "        # load in spatial cell booleans to exclude spatially tuned cells from speed cells    \n",
    "        if (m in cohorta_mice) | (m in cohortb_mice):\n",
    "            spatial_folder = fig5_folder\n",
    "            \n",
    "            sparsityscore_file = 'sparsityscores_' + m + '_' + s + '.npy'\n",
    "            spatialcoherencescore_file = 'spatialcoherencescores_' + m + '_' + s + '.npy'\n",
    "            shufsparsityscore_file = 'shufsparsityscores_' + m + '_' + s + '.npy'\n",
    "            shufspatialcoherencescore_file = 'shufspatialcoherencescores_' + m + '_' + s + '.npy'\n",
    "            \n",
    "            sparsity_scores = np.load(spatial_folder + sparsityscore_file, allow_pickle=True)\n",
    "            spatialcoherence_scores = np.load(spatial_folder + spatialcoherencescore_file, allow_pickle=True)\n",
    "            shuffsparsityscores = np.load(shuffload_folder3 + shufsparsityscore_file, allow_pickle=False)\n",
    "            shuffspatialcoherencescores = np.load(shuffload_folder4 + shufspatialcoherencescore_file, allow_pickle=False)\n",
    "        else:\n",
    "            spatial_folder = fig2s3_folder\n",
    "            \n",
    "            sparsityascore_file = 'sparsityascores_' + m + '_' + s + '.npy'\n",
    "            spatialacoherencescore_file = 'spatialacoherencescores_' + m + '_' + s + '.npy' \n",
    "            shufsparsityascore_file = 'shufsparsityascores_' + m + '_' + s + '.npy'\n",
    "            shufspatialacoherencescore_file = 'shufspatialacoherencescores_' + m + '_' + s + '.npy'\n",
    "            \n",
    "            sparsity_scores = np.load(spatial_folder + sparsityascore_file, allow_pickle=True)\n",
    "            spatialcoherence_scores = np.load(spatial_folder + spatialacoherencescore_file, allow_pickle=True)\n",
    "            shuffsparsityscores = np.load(shuffload_folder5 + shufsparsityascore_file, allow_pickle=False)\n",
    "            shuffspatialcoherencescores = np.load(shuffload_folder6 + shufspatialacoherencescore_file, allow_pickle=False)\n",
    "        \n",
    "        spatialcell99_file = 'spatialcell99_' + m + '_' + s + '.npy'  \n",
    "        spatialcell99 = np.load(spatial_folder + spatialcell99_file)\n",
    "        \n",
    "        #also define P95 spatial cells to exclude more weakly spatially tuned cells\n",
    "        spatialcell95 = []\n",
    "        for i, c in enumerate(cell_IDs): \n",
    "            dist1 = shuffspatialcoherencescores[:,i]\n",
    "            P951 = np.percentile(dist1,95)\n",
    "\n",
    "            dist2 = shuffsparsityscores[:,i]\n",
    "            P952 = np.percentile(dist2,95)\n",
    "\n",
    "            if intn[i] == True:\n",
    "                spatialcell95 = np.append(spatialcell95, False)\n",
    "            elif (spatialcoherence_scores[i] > P951) & (sparsity_scores[i] > P952):\n",
    "                spatialcell95 = np.append(spatialcell95, True)\n",
    "            else:\n",
    "                spatialcell95 = np.append(spatialcell95, False)\n",
    "        spatialcell95 = np.asarray(spatialcell95).astype(bool)\n",
    "        \n",
    "        #ID excitatory cells that are speed tuned but not spatially tuned\n",
    "        speedonly99 = []\n",
    "        speedonly1 = []\n",
    "        for i, c in enumerate(cell_IDs):\n",
    "            if (intn[i] == False) and (spatialcell95[i] == False) and (spatialcell99[i] == False):\n",
    "                if (speedcell99[i] == True):\n",
    "                    speedonly99 = np.append(speedonly99, True)\n",
    "                    speedonly1 = np.append(speedonly1, False)\n",
    "                elif (speedcell1[i] == True): \n",
    "                    speedonly99 = np.append(speedonly99, False)\n",
    "                    speedonly1 = np.append(speedonly1, True)\n",
    "                else:\n",
    "                    speedonly99 = np.append(speedonly99, False)\n",
    "                    speedonly1 = np.append(speedonly1, False)  \n",
    "            else:\n",
    "                speedonly99 = np.append(speedonly99, False)\n",
    "                speedonly1 = np.append(speedonly1, False)\n",
    "\n",
    "        #save speed cell classification boolean as .npy file for easy access for all animals\n",
    "        d['speedonly99'] = speedonly99.astype(bool)\n",
    "        d['speedonly1'] = speedonly1.astype(bool)"
   ]
  },
  {
   "cell_type": "code",
   "execution_count": 24,
   "id": "96513392",
   "metadata": {},
   "outputs": [],
   "source": [
    "'''Save Booleans of Positively Speed Modulated Grid Cells (Split Maze Sessions)'''  \n",
    "    \n",
    "for m, session in zip(mice,sessions):\n",
    "    for s in session:\n",
    "        d = data[m][s]\n",
    "    \n",
    "        #get file names\n",
    "        rawdata_file = 'RAW_' + m + '_' + s + '.npy'\n",
    "        raw = np.load(load_folder + rawdata_file, allow_pickle=True)\n",
    "        \n",
    "        cell_IDs = raw.item().get('cellsfil')\n",
    "        intn = d['intn'].astype(bool)\n",
    "        speedcell99 = d['speedcell99'].astype(bool)\n",
    "        \n",
    "        #load grid cell boolean for Split Maze Sessions, make dummy array for RF sessions\n",
    "        if (m in cohortc_mice) | (m in cohortd_mice):\n",
    "            gridcell_file = 'gridcell__' + m + '_' + s + '.npy'\n",
    "            gridcell = np.load(fig2s3_folder + gridcell_file)\n",
    "        else:\n",
    "            gridcell = np.full(len(cell_IDs),False)\n",
    "        gridcell = gridcell.astype(bool) \n",
    "        \n",
    "        #ID excitatory cells that are speed tuned but not spatially tuned\n",
    "        speedgrid99 = []\n",
    "        for i, c in enumerate(cell_IDs):\n",
    "            if (intn[i] == False) and (gridcell[i] == True):\n",
    "                if (speedcell99[i] == True):\n",
    "                    speedgrid99 = np.append(speedgrid99, True)\n",
    "                else:\n",
    "                    speedgrid99 = np.append(speedgrid99, False)\n",
    "            else:\n",
    "                speedgrid99 = np.append(speedgrid99, False)  \n",
    "            \n",
    "        d['speedgrid99'] = speedgrid99.astype(bool)"
   ]
  },
  {
   "cell_type": "markdown",
   "id": "91e56e56",
   "metadata": {},
   "source": [
    "# Examine density of all speed tuned cell types (Figures S6E)"
   ]
  },
  {
   "cell_type": "code",
   "execution_count": 25,
   "id": "d3bc7686",
   "metadata": {
    "scrolled": true
   },
   "outputs": [
    {
     "data": {
      "application/vnd.jupyter.widget-view+json": {
       "model_id": "728222ad08f047e2a2209b3792f5421d",
       "version_major": 2,
       "version_minor": 0
      },
      "text/plain": [
       "  0%|          | 0/6 [00:00<?, ?it/s]"
      ]
     },
     "metadata": {},
     "output_type": "display_data"
    },
    {
     "data": {
      "application/vnd.jupyter.widget-view+json": {
       "model_id": "bee1e7eaa9684afdac2cee8fbbb1bb76",
       "version_major": 2,
       "version_minor": 0
      },
      "text/plain": [
       "  0%|          | 0/6 [00:00<?, ?it/s]"
      ]
     },
     "metadata": {},
     "output_type": "display_data"
    },
    {
     "data": {
      "application/vnd.jupyter.widget-view+json": {
       "model_id": "2ef262cd301a4cf8b28d0aa08843eb7a",
       "version_major": 2,
       "version_minor": 0
      },
      "text/plain": [
       "  0%|          | 0/6 [00:00<?, ?it/s]"
      ]
     },
     "metadata": {},
     "output_type": "display_data"
    },
    {
     "data": {
      "application/vnd.jupyter.widget-view+json": {
       "model_id": "83a0ed0bc89345429a12b143f7ae72f8",
       "version_major": 2,
       "version_minor": 0
      },
      "text/plain": [
       "  0%|          | 0/6 [00:00<?, ?it/s]"
      ]
     },
     "metadata": {},
     "output_type": "display_data"
    },
    {
     "data": {
      "application/vnd.jupyter.widget-view+json": {
       "model_id": "04a7c299576f4fe7ba4ef0a05d9ad350",
       "version_major": 2,
       "version_minor": 0
      },
      "text/plain": [
       "  0%|          | 0/6 [00:00<?, ?it/s]"
      ]
     },
     "metadata": {},
     "output_type": "display_data"
    },
    {
     "data": {
      "application/vnd.jupyter.widget-view+json": {
       "model_id": "229ff78265bf4e42ae874f1c89333b38",
       "version_major": 2,
       "version_minor": 0
      },
      "text/plain": [
       "  0%|          | 0/5 [00:00<?, ?it/s]"
      ]
     },
     "metadata": {},
     "output_type": "display_data"
    },
    {
     "data": {
      "application/vnd.jupyter.widget-view+json": {
       "model_id": "4bc55db992dd4ca4bd853a974c92b0e3",
       "version_major": 2,
       "version_minor": 0
      },
      "text/plain": [
       "  0%|          | 0/5 [00:00<?, ?it/s]"
      ]
     },
     "metadata": {},
     "output_type": "display_data"
    },
    {
     "data": {
      "application/vnd.jupyter.widget-view+json": {
       "model_id": "bab992d4d7504739bee821e3fc66324d",
       "version_major": 2,
       "version_minor": 0
      },
      "text/plain": [
       "  0%|          | 0/6 [00:00<?, ?it/s]"
      ]
     },
     "metadata": {},
     "output_type": "display_data"
    },
    {
     "data": {
      "application/vnd.jupyter.widget-view+json": {
       "model_id": "478cf5da594e4b78b2e47ec250962aed",
       "version_major": 2,
       "version_minor": 0
      },
      "text/plain": [
       "  0%|          | 0/6 [00:00<?, ?it/s]"
      ]
     },
     "metadata": {},
     "output_type": "display_data"
    },
    {
     "data": {
      "application/vnd.jupyter.widget-view+json": {
       "model_id": "51459d2518294a108b5f830ae228032a",
       "version_major": 2,
       "version_minor": 0
      },
      "text/plain": [
       "  0%|          | 0/6 [00:00<?, ?it/s]"
      ]
     },
     "metadata": {},
     "output_type": "display_data"
    },
    {
     "data": {
      "application/vnd.jupyter.widget-view+json": {
       "model_id": "d46497b6054146c1b82974bade24497e",
       "version_major": 2,
       "version_minor": 0
      },
      "text/plain": [
       "  0%|          | 0/5 [00:00<?, ?it/s]"
      ]
     },
     "metadata": {},
     "output_type": "display_data"
    },
    {
     "data": {
      "application/vnd.jupyter.widget-view+json": {
       "model_id": "4df9fab3ffdf47a3973469be099dabcc",
       "version_major": 2,
       "version_minor": 0
      },
      "text/plain": [
       "  0%|          | 0/3 [00:00<?, ?it/s]"
      ]
     },
     "metadata": {},
     "output_type": "display_data"
    },
    {
     "data": {
      "application/vnd.jupyter.widget-view+json": {
       "model_id": "252250746a97490cbece7b3af56c561b",
       "version_major": 2,
       "version_minor": 0
      },
      "text/plain": [
       "  0%|          | 0/6 [00:00<?, ?it/s]"
      ]
     },
     "metadata": {},
     "output_type": "display_data"
    },
    {
     "data": {
      "application/vnd.jupyter.widget-view+json": {
       "model_id": "041b8fcf7d0248e4a5798d505a62e8fb",
       "version_major": 2,
       "version_minor": 0
      },
      "text/plain": [
       "  0%|          | 0/6 [00:00<?, ?it/s]"
      ]
     },
     "metadata": {},
     "output_type": "display_data"
    },
    {
     "data": {
      "application/vnd.jupyter.widget-view+json": {
       "model_id": "324f09403ac241d09f2ab5a78313a26d",
       "version_major": 2,
       "version_minor": 0
      },
      "text/plain": [
       "  0%|          | 0/6 [00:00<?, ?it/s]"
      ]
     },
     "metadata": {},
     "output_type": "display_data"
    },
    {
     "data": {
      "application/vnd.jupyter.widget-view+json": {
       "model_id": "d629300a329149c0add213f7c6067cb8",
       "version_major": 2,
       "version_minor": 0
      },
      "text/plain": [
       "  0%|          | 0/2 [00:00<?, ?it/s]"
      ]
     },
     "metadata": {},
     "output_type": "display_data"
    },
    {
     "data": {
      "application/vnd.jupyter.widget-view+json": {
       "model_id": "28ba6aa8a9f34e05b653fd950a53640b",
       "version_major": 2,
       "version_minor": 0
      },
      "text/plain": [
       "  0%|          | 0/3 [00:00<?, ?it/s]"
      ]
     },
     "metadata": {},
     "output_type": "display_data"
    },
    {
     "data": {
      "application/vnd.jupyter.widget-view+json": {
       "model_id": "3ce731ba6ce1493eb84f05a5eb60df71",
       "version_major": 2,
       "version_minor": 0
      },
      "text/plain": [
       "  0%|          | 0/6 [00:00<?, ?it/s]"
      ]
     },
     "metadata": {},
     "output_type": "display_data"
    },
    {
     "data": {
      "application/vnd.jupyter.widget-view+json": {
       "model_id": "68ff0991a388489c97eb16828a2f2212",
       "version_major": 2,
       "version_minor": 0
      },
      "text/plain": [
       "  0%|          | 0/4 [00:00<?, ?it/s]"
      ]
     },
     "metadata": {},
     "output_type": "display_data"
    },
    {
     "data": {
      "application/vnd.jupyter.widget-view+json": {
       "model_id": "59f9fa4999ee4c1e9e1e68c33229cab0",
       "version_major": 2,
       "version_minor": 0
      },
      "text/plain": [
       "  0%|          | 0/6 [00:00<?, ?it/s]"
      ]
     },
     "metadata": {},
     "output_type": "display_data"
    },
    {
     "data": {
      "application/vnd.jupyter.widget-view+json": {
       "model_id": "0b13057aeab543348d8bb5865169944e",
       "version_major": 2,
       "version_minor": 0
      },
      "text/plain": [
       "  0%|          | 0/6 [00:00<?, ?it/s]"
      ]
     },
     "metadata": {},
     "output_type": "display_data"
    },
    {
     "data": {
      "application/vnd.jupyter.widget-view+json": {
       "model_id": "e0fa74b959024a5db896baf23cc3e88e",
       "version_major": 2,
       "version_minor": 0
      },
      "text/plain": [
       "  0%|          | 0/6 [00:00<?, ?it/s]"
      ]
     },
     "metadata": {},
     "output_type": "display_data"
    },
    {
     "data": {
      "application/vnd.jupyter.widget-view+json": {
       "model_id": "7070e36335c5410d95c8a30d36af46c2",
       "version_major": 2,
       "version_minor": 0
      },
      "text/plain": [
       "  0%|          | 0/6 [00:00<?, ?it/s]"
      ]
     },
     "metadata": {},
     "output_type": "display_data"
    },
    {
     "data": {
      "application/vnd.jupyter.widget-view+json": {
       "model_id": "344b5f8e1f514d0e89b41fb1cb3a0146",
       "version_major": 2,
       "version_minor": 0
      },
      "text/plain": [
       "  0%|          | 0/6 [00:00<?, ?it/s]"
      ]
     },
     "metadata": {},
     "output_type": "display_data"
    },
    {
     "data": {
      "application/vnd.jupyter.widget-view+json": {
       "model_id": "98733875d3f3448fad5e0daf44fd5eb5",
       "version_major": 2,
       "version_minor": 0
      },
      "text/plain": [
       "  0%|          | 0/6 [00:00<?, ?it/s]"
      ]
     },
     "metadata": {},
     "output_type": "display_data"
    },
    {
     "data": {
      "application/vnd.jupyter.widget-view+json": {
       "model_id": "dc3caf32cf9545b29ae627f9991c660b",
       "version_major": 2,
       "version_minor": 0
      },
      "text/plain": [
       "  0%|          | 0/6 [00:00<?, ?it/s]"
      ]
     },
     "metadata": {},
     "output_type": "display_data"
    },
    {
     "data": {
      "application/vnd.jupyter.widget-view+json": {
       "model_id": "bbca8f150f414829886d483a316a0b7b",
       "version_major": 2,
       "version_minor": 0
      },
      "text/plain": [
       "  0%|          | 0/6 [00:00<?, ?it/s]"
      ]
     },
     "metadata": {},
     "output_type": "display_data"
    },
    {
     "data": {
      "application/vnd.jupyter.widget-view+json": {
       "model_id": "28370058f57d4e1dbca5b27d63ab8f05",
       "version_major": 2,
       "version_minor": 0
      },
      "text/plain": [
       "  0%|          | 0/4 [00:00<?, ?it/s]"
      ]
     },
     "metadata": {},
     "output_type": "display_data"
    },
    {
     "data": {
      "application/vnd.jupyter.widget-view+json": {
       "model_id": "ec35cac85e8345a1927545a8aaaf824c",
       "version_major": 2,
       "version_minor": 0
      },
      "text/plain": [
       "  0%|          | 0/6 [00:00<?, ?it/s]"
      ]
     },
     "metadata": {},
     "output_type": "display_data"
    },
    {
     "data": {
      "application/vnd.jupyter.widget-view+json": {
       "model_id": "20b5761d82ef4b88a081c1d049187b85",
       "version_major": 2,
       "version_minor": 0
      },
      "text/plain": [
       "  0%|          | 0/6 [00:00<?, ?it/s]"
      ]
     },
     "metadata": {},
     "output_type": "display_data"
    },
    {
     "data": {
      "application/vnd.jupyter.widget-view+json": {
       "model_id": "8de84ecfd8874b039cff7a7cf7eb637c",
       "version_major": 2,
       "version_minor": 0
      },
      "text/plain": [
       "  0%|          | 0/6 [00:00<?, ?it/s]"
      ]
     },
     "metadata": {},
     "output_type": "display_data"
    },
    {
     "data": {
      "application/vnd.jupyter.widget-view+json": {
       "model_id": "ae4eda446ae742208ab5e3923606a8f3",
       "version_major": 2,
       "version_minor": 0
      },
      "text/plain": [
       "  0%|          | 0/6 [00:00<?, ?it/s]"
      ]
     },
     "metadata": {},
     "output_type": "display_data"
    },
    {
     "data": {
      "application/vnd.jupyter.widget-view+json": {
       "model_id": "5447b826ac5e4ed4acfca5abadc6df54",
       "version_major": 2,
       "version_minor": 0
      },
      "text/plain": [
       "  0%|          | 0/6 [00:00<?, ?it/s]"
      ]
     },
     "metadata": {},
     "output_type": "display_data"
    },
    {
     "data": {
      "application/vnd.jupyter.widget-view+json": {
       "model_id": "cbe860ed08db42138478bc586a52166d",
       "version_major": 2,
       "version_minor": 0
      },
      "text/plain": [
       "  0%|          | 0/6 [00:00<?, ?it/s]"
      ]
     },
     "metadata": {},
     "output_type": "display_data"
    },
    {
     "data": {
      "application/vnd.jupyter.widget-view+json": {
       "model_id": "8798e01c54a94e228d9fdf1174d1f436",
       "version_major": 2,
       "version_minor": 0
      },
      "text/plain": [
       "  0%|          | 0/6 [00:00<?, ?it/s]"
      ]
     },
     "metadata": {},
     "output_type": "display_data"
    },
    {
     "data": {
      "application/vnd.jupyter.widget-view+json": {
       "model_id": "f18c55278793406cbdfa45a64721b4d7",
       "version_major": 2,
       "version_minor": 0
      },
      "text/plain": [
       "  0%|          | 0/6 [00:00<?, ?it/s]"
      ]
     },
     "metadata": {},
     "output_type": "display_data"
    },
    {
     "data": {
      "application/vnd.jupyter.widget-view+json": {
       "model_id": "8157f17d1e974b29969e36b7bb1ab12b",
       "version_major": 2,
       "version_minor": 0
      },
      "text/plain": [
       "  0%|          | 0/6 [00:00<?, ?it/s]"
      ]
     },
     "metadata": {},
     "output_type": "display_data"
    },
    {
     "data": {
      "application/vnd.jupyter.widget-view+json": {
       "model_id": "22fe74ad46f947bd812c3a175d93b771",
       "version_major": 2,
       "version_minor": 0
      },
      "text/plain": [
       "  0%|          | 0/6 [00:00<?, ?it/s]"
      ]
     },
     "metadata": {},
     "output_type": "display_data"
    },
    {
     "data": {
      "application/vnd.jupyter.widget-view+json": {
       "model_id": "479ec0e72dad473dbde6c2a1556b6006",
       "version_major": 2,
       "version_minor": 0
      },
      "text/plain": [
       "  0%|          | 0/6 [00:00<?, ?it/s]"
      ]
     },
     "metadata": {},
     "output_type": "display_data"
    },
    {
     "data": {
      "application/vnd.jupyter.widget-view+json": {
       "model_id": "c55673ae6a27481485cd5a4e9e2c8c6b",
       "version_major": 2,
       "version_minor": 0
      },
      "text/plain": [
       "  0%|          | 0/6 [00:00<?, ?it/s]"
      ]
     },
     "metadata": {},
     "output_type": "display_data"
    },
    {
     "data": {
      "application/vnd.jupyter.widget-view+json": {
       "model_id": "4c8aa26763194e83ab3fe454dabe58f4",
       "version_major": 2,
       "version_minor": 0
      },
      "text/plain": [
       "  0%|          | 0/6 [00:00<?, ?it/s]"
      ]
     },
     "metadata": {},
     "output_type": "display_data"
    },
    {
     "data": {
      "application/vnd.jupyter.widget-view+json": {
       "model_id": "5a228ff6e9d04544adab180cd94826fb",
       "version_major": 2,
       "version_minor": 0
      },
      "text/plain": [
       "  0%|          | 0/6 [00:00<?, ?it/s]"
      ]
     },
     "metadata": {},
     "output_type": "display_data"
    },
    {
     "data": {
      "application/vnd.jupyter.widget-view+json": {
       "model_id": "a35f4da059154f0fa9506eae054e36db",
       "version_major": 2,
       "version_minor": 0
      },
      "text/plain": [
       "  0%|          | 0/6 [00:00<?, ?it/s]"
      ]
     },
     "metadata": {},
     "output_type": "display_data"
    },
    {
     "data": {
      "application/vnd.jupyter.widget-view+json": {
       "model_id": "db6ec26dd8134b989a19cf09521345c5",
       "version_major": 2,
       "version_minor": 0
      },
      "text/plain": [
       "  0%|          | 0/6 [00:00<?, ?it/s]"
      ]
     },
     "metadata": {},
     "output_type": "display_data"
    },
    {
     "data": {
      "application/vnd.jupyter.widget-view+json": {
       "model_id": "4080815a682941d48e5105ac78922c60",
       "version_major": 2,
       "version_minor": 0
      },
      "text/plain": [
       "  0%|          | 0/6 [00:00<?, ?it/s]"
      ]
     },
     "metadata": {},
     "output_type": "display_data"
    }
   ],
   "source": [
    "'''Collect Density of Cell Types'''\n",
    "#arrays for density of +/- speed cells \n",
    "sper99 = []\n",
    "sper1 = []\n",
    "speronly99 = []\n",
    "speronly1 = []\n",
    "sperint99 = []\n",
    "spergrid99 = []\n",
    "        \n",
    "mper99 = []\n",
    "mper1 = []\n",
    "\n",
    "dt = 0.02\n",
    "\n",
    "for m, session in zip(mice,sessions):\n",
    "    m_cells = []\n",
    "    m_99 = []\n",
    "    m_1 = []\n",
    "    \n",
    "    for s in tdqm(session):\n",
    "        d = data[m][s]\n",
    "    \n",
    "        #get file names & load data necessary\n",
    "        rawdata_file = 'RAW_' + m + '_' + s + '.npy'\n",
    "        raw = np.load(load_folder + rawdata_file, allow_pickle=True)\n",
    "        \n",
    "        #get dict-stored data & define lists of cell IDs for each speed tuned group\n",
    "        cell_IDs = raw.item().get('cellsfil')\n",
    "        intn = d['intn'].astype(bool)\n",
    "        speedcell99 = d['speedcell99']\n",
    "        speedcell1 = d['speedcell1']\n",
    "        speedonly99 = d['speedonly99']\n",
    "        speedonly1 = d['speedonly1']\n",
    "        speedint99 = d['speedint99']\n",
    "        speedgrid99 = d['speedgrid99']\n",
    "        \n",
    "        speedcells99 = cell_IDs[(speedcell99 == 1) & (intn == 0)] # + speed  \n",
    "        speedcells1 = cell_IDs[(speedcell1 == 1) & (intn == 0)] # - speed\n",
    "        speedonlycells99 = cell_IDs[speedonly99 == 1] # + speed only \n",
    "        speedonlycells1 = cell_IDs[speedonly1 == 1] # - speed only\n",
    "        speedints99 = cell_IDs[speedint99 == 1] # speed grid cells\n",
    "        speedgrids99 = cell_IDs[speedgrid99 == 1] # speed grid cells\n",
    "        \n",
    "        #get density among recorded units per session\n",
    "        sper99 = np.append(sper99, 100*len(speedcells99)/len(cell_IDs))\n",
    "        sper1 = np.append(sper1, 100*len(speedcells1)/len(cell_IDs))\n",
    "        speronly99 = np.append(speronly99, 100*len(speedonlycells99)/len(cell_IDs))\n",
    "        speronly1 = np.append(speronly1, 100*len(speedonlycells1)/len(cell_IDs))\n",
    "        sperint99 = np.append(sperint99, 100*len(speedints99)/len(cell_IDs))\n",
    "        \n",
    "        if (m in cohortc_mice) | (m in cohortd_mice):\n",
    "            spergrid99 = np.append(spergrid99, 100*len(speedgrids99)/len(cell_IDs))\n",
    "        else:\n",
    "            spergrid99 = np.append(spergrid99, np.nan)\n",
    "        \n",
    "        #pool data into session arrays    \n",
    "        m_cells = np.append(m_cells, len(cell_IDs))\n",
    "        m_99 = np.append(m_99, len(speedcells99))\n",
    "        \n",
    "    mper99 = np.append(mper99, 100*np.sum(m_99)/np.sum(m_cells))"
   ]
  },
  {
   "cell_type": "code",
   "execution_count": 26,
   "id": "b4da47f3",
   "metadata": {},
   "outputs": [
    {
     "data": {
      "image/png": "[encoded data removed]",
      "text/plain": [
       "<Figure size 125x125 with 1 Axes>"
      ]
     },
     "metadata": {},
     "output_type": "display_data"
    },
    {
     "data": {
      "image/png": "[encoded data removed]",
      "text/plain": [
       "<Figure size 125x125 with 1 Axes>"
      ]
     },
     "metadata": {},
     "output_type": "display_data"
    },
    {
     "data": {
      "image/png": "[encoded data removed]",
      "text/plain": [
       "<Figure size 125x125 with 1 Axes>"
      ]
     },
     "metadata": {},
     "output_type": "display_data"
    },
    {
     "data": {
      "image/png": "[encoded data removed]",
      "text/plain": [
       "<Figure size 125x125 with 1 Axes>"
      ]
     },
     "metadata": {},
     "output_type": "display_data"
    },
    {
     "data": {
      "image/png": "[encoded data removed]",
      "text/plain": [
       "<Figure size 125x125 with 1 Axes>"
      ]
     },
     "metadata": {},
     "output_type": "display_data"
    },
    {
     "data": {
      "image/png": "[encoded data removed]",
      "text/plain": [
       "<Figure size 125x125 with 1 Axes>"
      ]
     },
     "metadata": {},
     "output_type": "display_data"
    }
   ],
   "source": [
    "''' Plot Figure S6E '''\n",
    "\n",
    "#set up handles\n",
    "from itertools import repeat\n",
    "handles = []\n",
    "mper = [mper99[y_ind], mper99[ma_ind], mper99[age_ind]]\n",
    "\n",
    "for i in range(len(mper)):    \n",
    "    for c in col_animal[i][0]:\n",
    "        dot = mlines.Line2D([],[], color = c, marker ='o', linestyle = 'None', markersize = 8)\n",
    "        handles.append(dot)\n",
    "        if c[0] == col_animal[1][0][9][0]: # adds white space so columns are color sorted\n",
    "            l = mlines.Line2D([0],[0],color=\"w\")\n",
    "            handles.extend(repeat(l,7))\n",
    "            \n",
    "            \n",
    "# Plot Figure S6E (first)\n",
    "fig, ax = plt.subplots(figsize = (1.25,1.25))\n",
    "sper = [sper99[y_sind], sper99[ma_sind], sper99[age_sind]]\n",
    "labels = ['Young','MA','Aged']\n",
    "w = 0.5\n",
    "plt.boxplot(sper, widths = w, labels = labels, medianprops = dict(color = 'black'))\n",
    "\n",
    "for i in range(len(sper)):\n",
    "    y = sper[i]\n",
    "    x = np.random.normal(i + 1, 0.04, len(y))\n",
    "    plt.scatter(x, y, color = col_session[i], edgecolors = col_session[i], s = 10)\n",
    "            \n",
    "#ax.legend(ncol = 3, handles = handles, labels = label_mice, loc = 'upper right',bbox_to_anchor=(1.8, 1))\n",
    "ax.set_title('+ Speed', fontsize=10, pad=5)\n",
    "ax.set_xlabel('Age', fontsize=9, labelpad=1)\n",
    "ax.set_ylabel('% Cells', fontsize = 9, labelpad=1)\n",
    "ax.tick_params(labelsize = 8)\n",
    "ax.set_ylim([0,50])\n",
    "ax.set_yticks([0,10,20,30,40,50])\n",
    "plt.savefig(save_folder + 'S6Efirst.png', dpi=400, bbox_inches='tight')\n",
    "plt.savefig(save_folder + 'S6Efirst.svg', dpi=400, bbox_inches='tight')\n",
    "plt.show()\n",
    "      \n",
    "# Plot Figure S6E (second)\n",
    "fig, ax = plt.subplots(figsize = (1.25,1.25))\n",
    "sper = [sper1[y_sind], sper1[ma_sind], sper1[age_sind]]\n",
    "labels = ['Young','MA','Aged']\n",
    "w = 0.5\n",
    "plt.boxplot(sper, widths = w, labels = labels, medianprops = dict(color = 'black'))\n",
    "\n",
    "for i in range(len(sper)):\n",
    "    y = sper[i]\n",
    "    x = np.random.normal(i + 1, 0.04, len(y))\n",
    "    plt.scatter(x, y, color = col_session[i], edgecolors = col_session[i], s = 10)\n",
    "            \n",
    "#ax.legend(ncol = 3, handles = handles, labels = label_mice, loc = 'upper right',bbox_to_anchor=(1.8, 1))\n",
    "ax.set_title('- Speed', fontsize=10, pad=5)\n",
    "ax.set_xlabel('Age', fontsize=9, labelpad=1)\n",
    "ax.set_ylabel('% Cells', fontsize = 9, labelpad=1)\n",
    "ax.tick_params(labelsize = 8)\n",
    "ax.set_ylim([0,50])\n",
    "ax.set_yticks([0,10,20,30,40,50])\n",
    "plt.savefig(save_folder + 'S6Esecond.png', dpi=400, bbox_inches='tight')\n",
    "plt.savefig(save_folder + 'S6Esecond.svg', dpi=400, bbox_inches='tight')\n",
    "plt.show()\n",
    "      \n",
    "# Plot Figure S6E (third)\n",
    "fig, ax = plt.subplots(figsize = (1.25,1.25))\n",
    "sper = [speronly99[y_sind], speronly99[ma_sind], speronly99[age_sind]]\n",
    "labels = ['Young','MA','Aged']\n",
    "w = 0.5\n",
    "plt.boxplot(sper, widths = w, labels = labels, medianprops = dict(color = 'black'))\n",
    "\n",
    "for i in range(len(sper)):\n",
    "    y = sper[i]\n",
    "    x = np.random.normal(i + 1, 0.04, len(y))\n",
    "    plt.scatter(x, y, color = col_session[i], edgecolors = col_session[i], s = 10)\n",
    "            \n",
    "#ax.legend(ncol = 3, handles = handles, labels = label_mice, loc = 'upper right',bbox_to_anchor=(1.8, 1))\n",
    "ax.set_title('+ Speed Only', fontsize=10, pad=5)\n",
    "ax.set_xlabel('Age', fontsize=9, labelpad=1)\n",
    "ax.set_ylabel('% Cells', fontsize = 9, labelpad=1)\n",
    "ax.tick_params(labelsize = 8)\n",
    "ax.set_ylim([0,50])\n",
    "ax.set_yticks([0,10,20,30,40,50])\n",
    "plt.savefig(save_folder + 'S6Ethird.png', dpi=400, bbox_inches='tight')\n",
    "plt.savefig(save_folder + 'S6Ethird.svg', dpi=400, bbox_inches='tight')\n",
    "plt.show()\n",
    "\n",
    "# Plot Figure S6E (fourth)\n",
    "fig, ax = plt.subplots(figsize = (1.25,1.25))\n",
    "sper = [speronly1[y_sind], speronly1[ma_sind], speronly1[age_sind]]\n",
    "labels = ['Young','MA','Aged']\n",
    "w = 0.5\n",
    "plt.boxplot(sper, widths = w, labels = labels, medianprops = dict(color = 'black'))\n",
    "\n",
    "for i in range(len(sper)):\n",
    "    y = sper[i]\n",
    "    x = np.random.normal(i + 1, 0.04, len(y))\n",
    "    plt.scatter(x, y, color = col_session[i], edgecolors = col_session[i], s = 10)\n",
    "            \n",
    "#ax.legend(ncol = 3, handles = handles, labels = label_mice, loc = 'upper right',bbox_to_anchor=(1.8, 1))\n",
    "ax.set_title('- Speed Only', fontsize=10, pad=5)\n",
    "ax.set_xlabel('Age', fontsize=9, labelpad=1)\n",
    "ax.set_ylabel('% Cells', fontsize = 9, labelpad=1)\n",
    "ax.tick_params(labelsize = 8)\n",
    "ax.set_ylim([0,50])\n",
    "ax.set_yticks([0,10,20,30,40,50])\n",
    "plt.savefig(save_folder + 'S6Efourth.png', dpi=400, bbox_inches='tight')\n",
    "plt.savefig(save_folder + 'S6Efourth.svg', dpi=400, bbox_inches='tight')\n",
    "plt.show()\n",
    "\n",
    "# Plot Figure S6E (last)\n",
    "fig, ax = plt.subplots(figsize = (1.25,1.25))\n",
    "sper = [sperint99[y_sind], sperint99[ma_sind], sperint99[age_sind]]\n",
    "labels = ['Young','MA','Aged']\n",
    "w = 0.5\n",
    "plt.boxplot(sper, widths = w, labels = labels, medianprops = dict(color = 'black'))\n",
    "\n",
    "for i in range(len(sper)):\n",
    "    y = sper[i]\n",
    "    x = np.random.normal(i + 1, 0.04, len(y))\n",
    "    plt.scatter(x, y, color = col_session[i], edgecolors = col_session[i], s = 10)\n",
    "            \n",
    "#ax.legend(ncol = 3, handles = handles, labels = label_mice, loc = 'upper right',bbox_to_anchor=(1.8, 1))\n",
    "ax.set_title('+ IN Speed', fontsize=10, pad=5)\n",
    "ax.set_xlabel('Age', fontsize=9, labelpad=1)\n",
    "ax.set_ylabel('% Cells', fontsize = 9, labelpad=1)\n",
    "ax.tick_params(labelsize = 8)\n",
    "ax.set_ylim([0,50])\n",
    "ax.set_yticks([0,10,20,30,40,50])\n",
    "plt.savefig(save_folder + 'S6Efifth.png', dpi=400, bbox_inches='tight')\n",
    "plt.savefig(save_folder + 'S6Efifth.svg', dpi=400, bbox_inches='tight')\n",
    "plt.show()\n",
    "\n",
    "# Plot Figure S6E (last)\n",
    "\n",
    "# Adjust y_sind, ma_sind, age_sind \n",
    "nanidx = np.isnan(spergrid99)\n",
    "nan_idx = np.arange(0,len(nanidx))[nanidx]\n",
    "y_sindgrid = np.setdiff1d(y_sind, nan_idx)\n",
    "ma_sindgrid = np.setdiff1d(ma_sind, nan_idx)\n",
    "age_sindgrid = np.setdiff1d(age_sind, nan_idx)\n",
    "    \n",
    "yidx = []\n",
    "maidx = []\n",
    "aidx = []\n",
    "for i in nan_idx:\n",
    "    yidx = np.append(yidx, np.where(y_sind == i)[0])\n",
    "    maidx = np.append(maidx, np.where(ma_sind == i)[0])\n",
    "    aidx = np.append(aidx, np.where(age_sind == i)[0])\n",
    "    \n",
    "col_session_younggrid = np.delete(col_session_young, list(yidx.astype(int)), axis = 0)\n",
    "col_session_magrid = np.delete(col_session_MA, list(maidx.astype(int)), axis = 0)\n",
    "col_session_oldgrid = np.delete(col_session_old, list(aidx.astype(int)), axis = 0)\n",
    "col_sessiongrid = [col_session_younggrid, col_session_magrid, col_session_oldgrid] \n",
    "\n",
    "fig, ax = plt.subplots(figsize = (1.25,1.25))\n",
    "sper = [spergrid99[y_sindgrid], spergrid99[ma_sindgrid], spergrid99[age_sindgrid]]\n",
    "labels = ['Young','MA','Aged']\n",
    "w = 0.5\n",
    "plt.boxplot(sper, widths = w, labels = labels, medianprops = dict(color = 'black'))\n",
    "\n",
    "for i in range(len(sper)):\n",
    "    y = sper[i]\n",
    "    x = np.random.normal(i + 1, 0.04, len(y))\n",
    "    plt.scatter(x, y, color = col_sessiongrid[i], edgecolors = col_sessiongrid[i], s = 10)\n",
    "            \n",
    "#ax.legend(ncol = 3, handles = handles, labels = label_mice, loc = 'upper right',bbox_to_anchor=(1.8, 1))\n",
    "ax.set_title('+ Grid Speed', fontsize=10, pad=5)\n",
    "ax.set_xlabel('Age', fontsize=9, labelpad=1)\n",
    "ax.set_ylabel('% Cells', fontsize = 9, labelpad=1)\n",
    "ax.tick_params(labelsize = 8)\n",
    "ax.set_ylim([0,50])\n",
    "ax.set_yticks([0,10,20,30,40,50])\n",
    "plt.savefig(save_folder + 'S6Elast.png', dpi=400, bbox_inches='tight')\n",
    "plt.savefig(save_folder + 'S6Elast.svg', dpi=400, bbox_inches='tight')\n",
    "plt.show()"
   ]
  },
  {
   "cell_type": "code",
   "execution_count": 27,
   "id": "2adcc965",
   "metadata": {},
   "outputs": [
    {
     "name": "stdout",
     "output_type": "stream",
     "text": [
      "n young, MA, aged sessions: \n",
      "98 58 97\n",
      "\n",
      "+ Speed Cell Density Results:\n",
      "speedcell%young ± SEM; speedcell%_MA ± SEM; speedcell%_old ± SEM\n",
      "16.67 ± 0.77 ; 16.13 ± 0.64 ; 18.41 ± 0.95\n",
      "KW stat = 1.7125177031199548\n",
      "p_session = 0.4247481595070701\n"
     ]
    },
    {
     "data": {
      "text/html": [
       "<div>\n",
       "<style scoped>\n",
       "    .dataframe tbody tr th:only-of-type {\n",
       "        vertical-align: middle;\n",
       "    }\n",
       "\n",
       "    .dataframe tbody tr th {\n",
       "        vertical-align: top;\n",
       "    }\n",
       "\n",
       "    .dataframe thead th {\n",
       "        text-align: right;\n",
       "    }\n",
       "</style>\n",
       "<table border=\"1\" class=\"dataframe\">\n",
       "  <thead>\n",
       "    <tr style=\"text-align: right;\">\n",
       "      <th></th>\n",
       "      <th>1.0</th>\n",
       "      <th>2.0</th>\n",
       "      <th>3.0</th>\n",
       "    </tr>\n",
       "  </thead>\n",
       "  <tbody>\n",
       "    <tr>\n",
       "      <th>1.0</th>\n",
       "      <td>1.000000</td>\n",
       "      <td>0.817741</td>\n",
       "      <td>0.756778</td>\n",
       "    </tr>\n",
       "    <tr>\n",
       "      <th>2.0</th>\n",
       "      <td>0.817741</td>\n",
       "      <td>1.000000</td>\n",
       "      <td>0.756778</td>\n",
       "    </tr>\n",
       "    <tr>\n",
       "      <th>3.0</th>\n",
       "      <td>0.756778</td>\n",
       "      <td>0.756778</td>\n",
       "      <td>1.000000</td>\n",
       "    </tr>\n",
       "  </tbody>\n",
       "</table>\n",
       "</div>"
      ],
      "text/plain": [
       "          1.0       2.0       3.0\n",
       "1.0  1.000000  0.817741  0.756778\n",
       "2.0  0.817741  1.000000  0.756778\n",
       "3.0  0.756778  0.756778  1.000000"
      ]
     },
     "execution_count": 27,
     "metadata": {},
     "output_type": "execute_result"
    }
   ],
   "source": [
    "'''Speed Cell Density Statistics with Multiple Comparisons by Session'''\n",
    "\n",
    "print('n young, MA, aged sessions: ')\n",
    "print(len(y_sind),len(ma_sind),len(age_sind))\n",
    "\n",
    "print('\\n+ Speed Cell Density Results:')\n",
    "print('speedcell%young ± SEM; speedcell%_MA ± SEM; speedcell%_old ± SEM')\n",
    "print(str(np.round(np.mean(sper99[y_sind]), 2)) + ' ± ' + str(np.round(stats.sem(sper99[y_sind]), 2)) + ' ; ' \n",
    "      + str(np.round(np.mean(sper99[ma_sind]), 2)) + ' ± ' + str(np.round(stats.sem(sper99[ma_sind]), 2)) + ' ; ' \n",
    "      + str(np.round(np.mean(sper99[age_sind]), 2)) + ' ± ' + str(np.round(stats.sem(sper99[age_sind]), 2)))\n",
    "\n",
    "stat, p_diff = stats.kruskal(sper99[y_sind],sper99[ma_sind],sper99[age_sind])\n",
    "print('KW stat = ' + str(stat))\n",
    "print('p_session = ' + str(p_diff))\n",
    "\n",
    "#set up multiple comparisons\n",
    "import statsmodels.api as sm\n",
    "import scikit_posthocs as ph\n",
    "\n",
    "#make into dataframe\n",
    "seshmice = []\n",
    "seshcount = []\n",
    "seshage = []\n",
    "for m, session in zip(mice, sessions):\n",
    "    age =  np.array(animalmeta.loc[(animalmeta.Animal_ID == m),'Age_Group'])\n",
    "    totalsesh = len(session)\n",
    "    \n",
    "    for i, s in enumerate(session):\n",
    "        seshmice = np.append(seshmice, m)\n",
    "        seshcount = np.append(seshcount, (i + 1))\n",
    "        seshage = np.append(seshage, age)\n",
    "\n",
    "# Collect all relevant data into pandas dataframe\n",
    "allidx = np.concatenate((y_sind,ma_sind,age_sind))\n",
    "Animal_ID = list(seshmice[allidx])\n",
    "Session = list(seshcount[allidx])\n",
    "Age_Group = list(seshage[allidx])\n",
    "Percentneg = list(sper1[allidx])\n",
    "Percentpos = list(sper99[allidx])\n",
    "Percentonlyneg = list(speronly1[allidx])\n",
    "Percentonlypos = list(speronly99[allidx])\n",
    "Percentintpos = list(sperint99[allidx])\n",
    "Percentgridpos = list(spergrid99[allidx])\n",
    "\n",
    "tuples = list(zip(Animal_ID, Session, Age_Group, Percentneg, Percentpos,Percentonlyneg,Percentonlypos,Percentintpos,Percentgridpos))\n",
    "tuples\n",
    "\n",
    "df = pd.DataFrame(tuples, columns = ['AnimalID', 'Session', 'AgeGroup','percentneg','percentpos','percentonlyneg','percentonlypos','percentintpos','percentgridpos'])\n",
    "#df = df.dropna(axis = 0)\n",
    "\n",
    "#run post hoc tests\n",
    "ph.posthoc_conover(df, val_col = 'percentpos', group_col = 'AgeGroup', p_adjust = 'holm')"
   ]
  },
  {
   "cell_type": "code",
   "execution_count": 28,
   "id": "11ea4a72",
   "metadata": {},
   "outputs": [
    {
     "name": "stdout",
     "output_type": "stream",
     "text": [
      "- Speed Cell Density Results:\n",
      "speedcell%young ± SEM; speedcell%_MA ± SEM; speedcell%_old ± SEM\n",
      "10.11 ± 0.6 ; 11.02 ± 0.7 ; 10.52 ± 0.74\n",
      "KW stat = 2.2139981137793443\n",
      "p_session = 0.3305494342023059\n"
     ]
    },
    {
     "data": {
      "text/html": [
       "<div>\n",
       "<style scoped>\n",
       "    .dataframe tbody tr th:only-of-type {\n",
       "        vertical-align: middle;\n",
       "    }\n",
       "\n",
       "    .dataframe tbody tr th {\n",
       "        vertical-align: top;\n",
       "    }\n",
       "\n",
       "    .dataframe thead th {\n",
       "        text-align: right;\n",
       "    }\n",
       "</style>\n",
       "<table border=\"1\" class=\"dataframe\">\n",
       "  <thead>\n",
       "    <tr style=\"text-align: right;\">\n",
       "      <th></th>\n",
       "      <th>1.0</th>\n",
       "      <th>2.0</th>\n",
       "      <th>3.0</th>\n",
       "    </tr>\n",
       "  </thead>\n",
       "  <tbody>\n",
       "    <tr>\n",
       "      <th>1.0</th>\n",
       "      <td>1.000000</td>\n",
       "      <td>0.538297</td>\n",
       "      <td>0.990844</td>\n",
       "    </tr>\n",
       "    <tr>\n",
       "      <th>2.0</th>\n",
       "      <td>0.538297</td>\n",
       "      <td>1.000000</td>\n",
       "      <td>0.538297</td>\n",
       "    </tr>\n",
       "    <tr>\n",
       "      <th>3.0</th>\n",
       "      <td>0.990844</td>\n",
       "      <td>0.538297</td>\n",
       "      <td>1.000000</td>\n",
       "    </tr>\n",
       "  </tbody>\n",
       "</table>\n",
       "</div>"
      ],
      "text/plain": [
       "          1.0       2.0       3.0\n",
       "1.0  1.000000  0.538297  0.990844\n",
       "2.0  0.538297  1.000000  0.538297\n",
       "3.0  0.990844  0.538297  1.000000"
      ]
     },
     "execution_count": 28,
     "metadata": {},
     "output_type": "execute_result"
    }
   ],
   "source": [
    "print('- Speed Cell Density Results:')\n",
    "print('speedcell%young ± SEM; speedcell%_MA ± SEM; speedcell%_old ± SEM')\n",
    "print(str(np.round(np.mean(sper1[y_sind]), 2)) + ' ± ' + str(np.round(stats.sem(sper1[y_sind]), 2)) + ' ; ' \n",
    "      + str(np.round(np.mean(sper1[ma_sind]), 2)) + ' ± ' + str(np.round(stats.sem(sper1[ma_sind]), 2)) + ' ; ' \n",
    "      + str(np.round(np.mean(sper1[age_sind]), 2)) + ' ± ' + str(np.round(stats.sem(sper1[age_sind]), 2)))\n",
    "\n",
    "stat, p_diff = stats.kruskal(sper1[y_sind],sper1[ma_sind],sper1[age_sind])\n",
    "print('KW stat = ' + str(stat))\n",
    "print('p_session = ' + str(p_diff))\n",
    "\n",
    "#run post hoc tests\n",
    "ph.posthoc_conover(df, val_col = 'percentneg', group_col = 'AgeGroup', p_adjust = 'holm')"
   ]
  },
  {
   "cell_type": "code",
   "execution_count": 29,
   "id": "458f5919",
   "metadata": {},
   "outputs": [
    {
     "name": "stdout",
     "output_type": "stream",
     "text": [
      "+ Speed Only Cell Density Results:\n",
      "speedcell%young ± SEM; speedcell%_MA ± SEM; speedcell%_old ± SEM\n",
      "4.63 ± 0.41 ; 3.96 ± 0.35 ; 6.9 ± 0.76\n",
      "KW stat = 4.00590709352918\n",
      "p_session = 0.13493615386245852\n"
     ]
    },
    {
     "data": {
      "text/html": [
       "<div>\n",
       "<style scoped>\n",
       "    .dataframe tbody tr th:only-of-type {\n",
       "        vertical-align: middle;\n",
       "    }\n",
       "\n",
       "    .dataframe tbody tr th {\n",
       "        vertical-align: top;\n",
       "    }\n",
       "\n",
       "    .dataframe thead th {\n",
       "        text-align: right;\n",
       "    }\n",
       "</style>\n",
       "<table border=\"1\" class=\"dataframe\">\n",
       "  <thead>\n",
       "    <tr style=\"text-align: right;\">\n",
       "      <th></th>\n",
       "      <th>1.0</th>\n",
       "      <th>2.0</th>\n",
       "      <th>3.0</th>\n",
       "    </tr>\n",
       "  </thead>\n",
       "  <tbody>\n",
       "    <tr>\n",
       "      <th>1.0</th>\n",
       "      <td>1.000000</td>\n",
       "      <td>0.835091</td>\n",
       "      <td>0.262845</td>\n",
       "    </tr>\n",
       "    <tr>\n",
       "      <th>2.0</th>\n",
       "      <td>0.835091</td>\n",
       "      <td>1.000000</td>\n",
       "      <td>0.262845</td>\n",
       "    </tr>\n",
       "    <tr>\n",
       "      <th>3.0</th>\n",
       "      <td>0.262845</td>\n",
       "      <td>0.262845</td>\n",
       "      <td>1.000000</td>\n",
       "    </tr>\n",
       "  </tbody>\n",
       "</table>\n",
       "</div>"
      ],
      "text/plain": [
       "          1.0       2.0       3.0\n",
       "1.0  1.000000  0.835091  0.262845\n",
       "2.0  0.835091  1.000000  0.262845\n",
       "3.0  0.262845  0.262845  1.000000"
      ]
     },
     "execution_count": 29,
     "metadata": {},
     "output_type": "execute_result"
    }
   ],
   "source": [
    "print('+ Speed Only Cell Density Results:')\n",
    "print('speedcell%young ± SEM; speedcell%_MA ± SEM; speedcell%_old ± SEM')\n",
    "print(str(np.round(np.mean(speronly99[y_sind]), 2)) + ' ± ' + str(np.round(stats.sem(speronly99[y_sind]), 2)) + ' ; ' \n",
    "      + str(np.round(np.mean(speronly99[ma_sind]), 2)) + ' ± ' + str(np.round(stats.sem(speronly99[ma_sind]), 2)) + ' ; ' \n",
    "      + str(np.round(np.mean(speronly99[age_sind]), 2)) + ' ± ' + str(np.round(stats.sem(speronly99[age_sind]), 2)))\n",
    "\n",
    "stat, p_diff = stats.kruskal(speronly99[y_sind],speronly99[ma_sind],speronly99[age_sind])\n",
    "print('KW stat = ' + str(stat))\n",
    "print('p_session = ' + str(p_diff))\n",
    "\n",
    "#run post hoc tests\n",
    "ph.posthoc_conover(df, val_col = 'percentonlypos', group_col = 'AgeGroup', p_adjust = 'holm')"
   ]
  },
  {
   "cell_type": "code",
   "execution_count": 30,
   "id": "9cb6c601",
   "metadata": {},
   "outputs": [
    {
     "name": "stdout",
     "output_type": "stream",
     "text": [
      "- Speed Only Cell Density Results:\n",
      "speedcell%young ± SEM; speedcell%_MA ± SEM; speedcell%_old ± SEM\n",
      "3.25 ± 0.3 ; 3.59 ± 0.34 ; 4.19 ± 0.39\n",
      "KW stat = 3.0449889253394775\n",
      "p_session = 0.21816699819965096\n"
     ]
    },
    {
     "data": {
      "text/html": [
       "<div>\n",
       "<style scoped>\n",
       "    .dataframe tbody tr th:only-of-type {\n",
       "        vertical-align: middle;\n",
       "    }\n",
       "\n",
       "    .dataframe tbody tr th {\n",
       "        vertical-align: top;\n",
       "    }\n",
       "\n",
       "    .dataframe thead th {\n",
       "        text-align: right;\n",
       "    }\n",
       "</style>\n",
       "<table border=\"1\" class=\"dataframe\">\n",
       "  <thead>\n",
       "    <tr style=\"text-align: right;\">\n",
       "      <th></th>\n",
       "      <th>1.0</th>\n",
       "      <th>2.0</th>\n",
       "      <th>3.0</th>\n",
       "    </tr>\n",
       "  </thead>\n",
       "  <tbody>\n",
       "    <tr>\n",
       "      <th>1.0</th>\n",
       "      <td>1.000000</td>\n",
       "      <td>0.375536</td>\n",
       "      <td>0.330865</td>\n",
       "    </tr>\n",
       "    <tr>\n",
       "      <th>2.0</th>\n",
       "      <td>0.375536</td>\n",
       "      <td>1.000000</td>\n",
       "      <td>0.948585</td>\n",
       "    </tr>\n",
       "    <tr>\n",
       "      <th>3.0</th>\n",
       "      <td>0.330865</td>\n",
       "      <td>0.948585</td>\n",
       "      <td>1.000000</td>\n",
       "    </tr>\n",
       "  </tbody>\n",
       "</table>\n",
       "</div>"
      ],
      "text/plain": [
       "          1.0       2.0       3.0\n",
       "1.0  1.000000  0.375536  0.330865\n",
       "2.0  0.375536  1.000000  0.948585\n",
       "3.0  0.330865  0.948585  1.000000"
      ]
     },
     "execution_count": 30,
     "metadata": {},
     "output_type": "execute_result"
    }
   ],
   "source": [
    "print('- Speed Only Cell Density Results:')\n",
    "print('speedcell%young ± SEM; speedcell%_MA ± SEM; speedcell%_old ± SEM')\n",
    "print(str(np.round(np.mean(speronly1[y_sind]), 2)) + ' ± ' + str(np.round(stats.sem(speronly1[y_sind]), 2)) + ' ; ' \n",
    "      + str(np.round(np.mean(speronly1[ma_sind]), 2)) + ' ± ' + str(np.round(stats.sem(speronly1[ma_sind]), 2)) + ' ; ' \n",
    "      + str(np.round(np.mean(speronly1[age_sind]), 2)) + ' ± ' + str(np.round(stats.sem(speronly1[age_sind]), 2)))\n",
    "\n",
    "stat, p_diff = stats.kruskal(speronly1[y_sind],speronly1[ma_sind],speronly1[age_sind])\n",
    "print('KW stat = ' + str(stat))\n",
    "print('p_session = ' + str(p_diff))\n",
    "\n",
    "#run post hoc tests\n",
    "ph.posthoc_conover(df, val_col = 'percentonlyneg', group_col = 'AgeGroup', p_adjust = 'holm')"
   ]
  },
  {
   "cell_type": "code",
   "execution_count": 31,
   "id": "a1add73b",
   "metadata": {},
   "outputs": [
    {
     "name": "stdout",
     "output_type": "stream",
     "text": [
      "+ IN Speed Cell Density Results:\n",
      "speedcell%young ± SEM; speedcell%_MA ± SEM; speedcell%_old ± SEM\n",
      "6.92 ± 0.35 ; 10.97 ± 0.63 ; 9.39 ± 0.48\n",
      "KW stat = 29.055896945507357\n",
      "p_session = 4.904470706403604e-07\n"
     ]
    },
    {
     "data": {
      "text/html": [
       "<div>\n",
       "<style scoped>\n",
       "    .dataframe tbody tr th:only-of-type {\n",
       "        vertical-align: middle;\n",
       "    }\n",
       "\n",
       "    .dataframe tbody tr th {\n",
       "        vertical-align: top;\n",
       "    }\n",
       "\n",
       "    .dataframe thead th {\n",
       "        text-align: right;\n",
       "    }\n",
       "</style>\n",
       "<table border=\"1\" class=\"dataframe\">\n",
       "  <thead>\n",
       "    <tr style=\"text-align: right;\">\n",
       "      <th></th>\n",
       "      <th>1.0</th>\n",
       "      <th>2.0</th>\n",
       "      <th>3.0</th>\n",
       "    </tr>\n",
       "  </thead>\n",
       "  <tbody>\n",
       "    <tr>\n",
       "      <th>1.0</th>\n",
       "      <td>1.000000e+00</td>\n",
       "      <td>3.988494e-07</td>\n",
       "      <td>0.000227</td>\n",
       "    </tr>\n",
       "    <tr>\n",
       "      <th>2.0</th>\n",
       "      <td>3.988494e-07</td>\n",
       "      <td>1.000000e+00</td>\n",
       "      <td>0.042846</td>\n",
       "    </tr>\n",
       "    <tr>\n",
       "      <th>3.0</th>\n",
       "      <td>2.265491e-04</td>\n",
       "      <td>4.284631e-02</td>\n",
       "      <td>1.000000</td>\n",
       "    </tr>\n",
       "  </tbody>\n",
       "</table>\n",
       "</div>"
      ],
      "text/plain": [
       "              1.0           2.0       3.0\n",
       "1.0  1.000000e+00  3.988494e-07  0.000227\n",
       "2.0  3.988494e-07  1.000000e+00  0.042846\n",
       "3.0  2.265491e-04  4.284631e-02  1.000000"
      ]
     },
     "execution_count": 31,
     "metadata": {},
     "output_type": "execute_result"
    }
   ],
   "source": [
    "print('+ IN Speed Cell Density Results:')\n",
    "print('speedcell%young ± SEM; speedcell%_MA ± SEM; speedcell%_old ± SEM')\n",
    "print(str(np.round(np.mean(sperint99[y_sind]), 2)) + ' ± ' + str(np.round(stats.sem(sperint99[y_sind]), 2)) + ' ; ' \n",
    "      + str(np.round(np.mean(sperint99[ma_sind]), 2)) + ' ± ' + str(np.round(stats.sem(sperint99[ma_sind]), 2)) + ' ; ' \n",
    "      + str(np.round(np.mean(sperint99[age_sind]), 2)) + ' ± ' + str(np.round(stats.sem(sperint99[age_sind]), 2)))\n",
    "\n",
    "stat, p_diff = stats.kruskal(sperint99[y_sind],sperint99[ma_sind],sperint99[age_sind])\n",
    "print('KW stat = ' + str(stat))\n",
    "print('p_session = ' + str(p_diff))\n",
    "\n",
    "#run post hoc tests\n",
    "ph.posthoc_conover(df, val_col = 'percentintpos', group_col = 'AgeGroup', p_adjust = 'holm')"
   ]
  },
  {
   "cell_type": "code",
   "execution_count": 32,
   "id": "424b02ae",
   "metadata": {},
   "outputs": [
    {
     "name": "stdout",
     "output_type": "stream",
     "text": [
      "n young, MA, aged Split Maze sessions: \n",
      "54 58 55\n",
      "+ Grid Speed Cell Density Results:\n",
      "speedcell%young ± SEM; speedcell%_MA ± SEM; speedcell%_old ± SEM\n",
      "5.64 ± 0.46 ; 4.64 ± 0.3 ; 5.34 ± 0.57\n",
      "KW stat = 2.1204642302870043\n",
      "p_speedcell1%session = 0.34637540202227957\n"
     ]
    },
    {
     "data": {
      "text/html": [
       "<div>\n",
       "<style scoped>\n",
       "    .dataframe tbody tr th:only-of-type {\n",
       "        vertical-align: middle;\n",
       "    }\n",
       "\n",
       "    .dataframe tbody tr th {\n",
       "        vertical-align: top;\n",
       "    }\n",
       "\n",
       "    .dataframe thead th {\n",
       "        text-align: right;\n",
       "    }\n",
       "</style>\n",
       "<table border=\"1\" class=\"dataframe\">\n",
       "  <thead>\n",
       "    <tr style=\"text-align: right;\">\n",
       "      <th></th>\n",
       "      <th>1.0</th>\n",
       "      <th>2.0</th>\n",
       "      <th>3.0</th>\n",
       "    </tr>\n",
       "  </thead>\n",
       "  <tbody>\n",
       "    <tr>\n",
       "      <th>1.0</th>\n",
       "      <td>1.000000</td>\n",
       "      <td>0.516155</td>\n",
       "      <td>0.526349</td>\n",
       "    </tr>\n",
       "    <tr>\n",
       "      <th>2.0</th>\n",
       "      <td>0.516155</td>\n",
       "      <td>1.000000</td>\n",
       "      <td>0.814270</td>\n",
       "    </tr>\n",
       "    <tr>\n",
       "      <th>3.0</th>\n",
       "      <td>0.526349</td>\n",
       "      <td>0.814270</td>\n",
       "      <td>1.000000</td>\n",
       "    </tr>\n",
       "  </tbody>\n",
       "</table>\n",
       "</div>"
      ],
      "text/plain": [
       "          1.0       2.0       3.0\n",
       "1.0  1.000000  0.516155  0.526349\n",
       "2.0  0.516155  1.000000  0.814270\n",
       "3.0  0.526349  0.814270  1.000000"
      ]
     },
     "execution_count": 32,
     "metadata": {},
     "output_type": "execute_result"
    }
   ],
   "source": [
    "print('n young, MA, aged Split Maze sessions: ')\n",
    "print(len(y_sindgrid),len(ma_sindgrid),len(age_sindgrid))\n",
    "\n",
    "print('+ Grid Speed Cell Density Results:')\n",
    "print('speedcell%young ± SEM; speedcell%_MA ± SEM; speedcell%_old ± SEM')\n",
    "print(str(np.round(np.mean(spergrid99[y_sindgrid]), 2)) + ' ± ' + str(np.round(stats.sem(spergrid99[y_sindgrid]), 2)) + ' ; ' \n",
    "      + str(np.round(np.mean(spergrid99[ma_sindgrid]), 2)) + ' ± ' + str(np.round(stats.sem(spergrid99[ma_sindgrid]), 2)) + ' ; ' \n",
    "      + str(np.round(np.mean(spergrid99[age_sindgrid]), 2)) + ' ± ' + str(np.round(stats.sem(spergrid99[age_sindgrid]), 2)))\n",
    "\n",
    "stat, p_diff = stats.kruskal(spergrid99[y_sindgrid],spergrid99[ma_sindgrid],spergrid99[age_sindgrid])\n",
    "print('KW stat = ' + str(stat))\n",
    "print('p_speedcell1%session = ' + str(p_diff))\n",
    "\n",
    "#run post hoc tests on non nan values\n",
    "df = df.dropna(axis = 0)\n",
    "ph.posthoc_conover(df, val_col = 'percentgridpos', group_col = 'AgeGroup', p_adjust = 'holm')"
   ]
  },
  {
   "cell_type": "markdown",
   "id": "2b4d1015",
   "metadata": {},
   "source": [
    "# Examine speed-FR slope of speed tuned cells not in Figure 6d (Figure S6F)"
   ]
  },
  {
   "cell_type": "code",
   "execution_count": 33,
   "id": "21e1b530",
   "metadata": {
    "scrolled": true
   },
   "outputs": [
    {
     "data": {
      "application/vnd.jupyter.widget-view+json": {
       "model_id": "82829d176f534abe8b621d49031d8813",
       "version_major": 2,
       "version_minor": 0
      },
      "text/plain": [
       "  0%|          | 0/6 [00:00<?, ?it/s]"
      ]
     },
     "metadata": {},
     "output_type": "display_data"
    },
    {
     "name": "stderr",
     "output_type": "stream",
     "text": [
      "C:\\Users\\Python\\anaconda3\\envs\\agingmec\\lib\\site-packages\\numpy\\core\\fromnumeric.py:3464: RuntimeWarning: Mean of empty slice.\n",
      "  return _methods._mean(a, axis=axis, dtype=dtype,\n",
      "C:\\Users\\Python\\anaconda3\\envs\\agingmec\\lib\\site-packages\\numpy\\core\\_methods.py:192: RuntimeWarning: invalid value encountered in scalar divide\n",
      "  ret = ret.dtype.type(ret / rcount)\n"
     ]
    },
    {
     "data": {
      "application/vnd.jupyter.widget-view+json": {
       "model_id": "7f8872ea44b744e48f3de40506892c30",
       "version_major": 2,
       "version_minor": 0
      },
      "text/plain": [
       "  0%|          | 0/6 [00:00<?, ?it/s]"
      ]
     },
     "metadata": {},
     "output_type": "display_data"
    },
    {
     "data": {
      "application/vnd.jupyter.widget-view+json": {
       "model_id": "e7662036963d41879b5a5b278149b8b3",
       "version_major": 2,
       "version_minor": 0
      },
      "text/plain": [
       "  0%|          | 0/6 [00:00<?, ?it/s]"
      ]
     },
     "metadata": {},
     "output_type": "display_data"
    },
    {
     "data": {
      "application/vnd.jupyter.widget-view+json": {
       "model_id": "80ca2f9850e74f41a1ef69750c5cd34a",
       "version_major": 2,
       "version_minor": 0
      },
      "text/plain": [
       "  0%|          | 0/6 [00:00<?, ?it/s]"
      ]
     },
     "metadata": {},
     "output_type": "display_data"
    },
    {
     "data": {
      "application/vnd.jupyter.widget-view+json": {
       "model_id": "25db6ccdfe9441a39c8d94954463df28",
       "version_major": 2,
       "version_minor": 0
      },
      "text/plain": [
       "  0%|          | 0/6 [00:00<?, ?it/s]"
      ]
     },
     "metadata": {},
     "output_type": "display_data"
    },
    {
     "data": {
      "application/vnd.jupyter.widget-view+json": {
       "model_id": "265b692556e04fa2ab8b59084fd843f9",
       "version_major": 2,
       "version_minor": 0
      },
      "text/plain": [
       "  0%|          | 0/5 [00:00<?, ?it/s]"
      ]
     },
     "metadata": {},
     "output_type": "display_data"
    },
    {
     "data": {
      "application/vnd.jupyter.widget-view+json": {
       "model_id": "346dff0fd73f4c3b890657a8f6d17d6c",
       "version_major": 2,
       "version_minor": 0
      },
      "text/plain": [
       "  0%|          | 0/5 [00:00<?, ?it/s]"
      ]
     },
     "metadata": {},
     "output_type": "display_data"
    },
    {
     "data": {
      "application/vnd.jupyter.widget-view+json": {
       "model_id": "f5e199f3dad74ff6b7d2c00491e029da",
       "version_major": 2,
       "version_minor": 0
      },
      "text/plain": [
       "  0%|          | 0/6 [00:00<?, ?it/s]"
      ]
     },
     "metadata": {},
     "output_type": "display_data"
    },
    {
     "data": {
      "application/vnd.jupyter.widget-view+json": {
       "model_id": "6da9431ae03444139b7fca26bce31352",
       "version_major": 2,
       "version_minor": 0
      },
      "text/plain": [
       "  0%|          | 0/6 [00:00<?, ?it/s]"
      ]
     },
     "metadata": {},
     "output_type": "display_data"
    },
    {
     "data": {
      "application/vnd.jupyter.widget-view+json": {
       "model_id": "75c2cade752c45058c464bfd5eaff683",
       "version_major": 2,
       "version_minor": 0
      },
      "text/plain": [
       "  0%|          | 0/6 [00:00<?, ?it/s]"
      ]
     },
     "metadata": {},
     "output_type": "display_data"
    },
    {
     "data": {
      "application/vnd.jupyter.widget-view+json": {
       "model_id": "3ae4dd2d68844c99807f23289fbf575e",
       "version_major": 2,
       "version_minor": 0
      },
      "text/plain": [
       "  0%|          | 0/5 [00:00<?, ?it/s]"
      ]
     },
     "metadata": {},
     "output_type": "display_data"
    },
    {
     "data": {
      "application/vnd.jupyter.widget-view+json": {
       "model_id": "f3b42218644748898c66989e96f7c3e5",
       "version_major": 2,
       "version_minor": 0
      },
      "text/plain": [
       "  0%|          | 0/3 [00:00<?, ?it/s]"
      ]
     },
     "metadata": {},
     "output_type": "display_data"
    },
    {
     "data": {
      "application/vnd.jupyter.widget-view+json": {
       "model_id": "e2ce0325f4034c9dbeedbcd013c54f40",
       "version_major": 2,
       "version_minor": 0
      },
      "text/plain": [
       "  0%|          | 0/6 [00:00<?, ?it/s]"
      ]
     },
     "metadata": {},
     "output_type": "display_data"
    },
    {
     "data": {
      "application/vnd.jupyter.widget-view+json": {
       "model_id": "254da972ab43467798ab9ec4e7090a49",
       "version_major": 2,
       "version_minor": 0
      },
      "text/plain": [
       "  0%|          | 0/6 [00:00<?, ?it/s]"
      ]
     },
     "metadata": {},
     "output_type": "display_data"
    },
    {
     "data": {
      "application/vnd.jupyter.widget-view+json": {
       "model_id": "7135782c4f9e4a5288d7d9f7e5038bcd",
       "version_major": 2,
       "version_minor": 0
      },
      "text/plain": [
       "  0%|          | 0/6 [00:00<?, ?it/s]"
      ]
     },
     "metadata": {},
     "output_type": "display_data"
    },
    {
     "data": {
      "application/vnd.jupyter.widget-view+json": {
       "model_id": "7a049e5a25fa4e14bff5bab2a909038f",
       "version_major": 2,
       "version_minor": 0
      },
      "text/plain": [
       "  0%|          | 0/2 [00:00<?, ?it/s]"
      ]
     },
     "metadata": {},
     "output_type": "display_data"
    },
    {
     "data": {
      "application/vnd.jupyter.widget-view+json": {
       "model_id": "d37f7ac989c24ad9a2f5a98505518a60",
       "version_major": 2,
       "version_minor": 0
      },
      "text/plain": [
       "  0%|          | 0/3 [00:00<?, ?it/s]"
      ]
     },
     "metadata": {},
     "output_type": "display_data"
    },
    {
     "data": {
      "application/vnd.jupyter.widget-view+json": {
       "model_id": "d55b78183cc94c688fdebc9ff032e303",
       "version_major": 2,
       "version_minor": 0
      },
      "text/plain": [
       "  0%|          | 0/6 [00:00<?, ?it/s]"
      ]
     },
     "metadata": {},
     "output_type": "display_data"
    },
    {
     "data": {
      "application/vnd.jupyter.widget-view+json": {
       "model_id": "ea1da17470a44a8da3f7f83a04fed546",
       "version_major": 2,
       "version_minor": 0
      },
      "text/plain": [
       "  0%|          | 0/4 [00:00<?, ?it/s]"
      ]
     },
     "metadata": {},
     "output_type": "display_data"
    },
    {
     "data": {
      "application/vnd.jupyter.widget-view+json": {
       "model_id": "a3f00016b213466897347c52c8d76b1f",
       "version_major": 2,
       "version_minor": 0
      },
      "text/plain": [
       "  0%|          | 0/6 [00:00<?, ?it/s]"
      ]
     },
     "metadata": {},
     "output_type": "display_data"
    },
    {
     "data": {
      "application/vnd.jupyter.widget-view+json": {
       "model_id": "28d907350c9a4a4686e4932723226483",
       "version_major": 2,
       "version_minor": 0
      },
      "text/plain": [
       "  0%|          | 0/6 [00:00<?, ?it/s]"
      ]
     },
     "metadata": {},
     "output_type": "display_data"
    },
    {
     "data": {
      "application/vnd.jupyter.widget-view+json": {
       "model_id": "4125d309d46e46ac851728bcb9ff0ef9",
       "version_major": 2,
       "version_minor": 0
      },
      "text/plain": [
       "  0%|          | 0/6 [00:00<?, ?it/s]"
      ]
     },
     "metadata": {},
     "output_type": "display_data"
    },
    {
     "data": {
      "application/vnd.jupyter.widget-view+json": {
       "model_id": "67d6a8ee86ab4c40813e1b4883d28265",
       "version_major": 2,
       "version_minor": 0
      },
      "text/plain": [
       "  0%|          | 0/6 [00:00<?, ?it/s]"
      ]
     },
     "metadata": {},
     "output_type": "display_data"
    },
    {
     "data": {
      "application/vnd.jupyter.widget-view+json": {
       "model_id": "0d6e814bbb114a97b8657ed6aabef925",
       "version_major": 2,
       "version_minor": 0
      },
      "text/plain": [
       "  0%|          | 0/6 [00:00<?, ?it/s]"
      ]
     },
     "metadata": {},
     "output_type": "display_data"
    },
    {
     "data": {
      "application/vnd.jupyter.widget-view+json": {
       "model_id": "9cbc0763b6ed418c9f9b3332b40434cb",
       "version_major": 2,
       "version_minor": 0
      },
      "text/plain": [
       "  0%|          | 0/6 [00:00<?, ?it/s]"
      ]
     },
     "metadata": {},
     "output_type": "display_data"
    },
    {
     "data": {
      "application/vnd.jupyter.widget-view+json": {
       "model_id": "71df38dfd4804be9a671bc6c60a4173c",
       "version_major": 2,
       "version_minor": 0
      },
      "text/plain": [
       "  0%|          | 0/6 [00:00<?, ?it/s]"
      ]
     },
     "metadata": {},
     "output_type": "display_data"
    },
    {
     "data": {
      "application/vnd.jupyter.widget-view+json": {
       "model_id": "c6a1204d85e743d78601445a48f9160f",
       "version_major": 2,
       "version_minor": 0
      },
      "text/plain": [
       "  0%|          | 0/6 [00:00<?, ?it/s]"
      ]
     },
     "metadata": {},
     "output_type": "display_data"
    },
    {
     "data": {
      "application/vnd.jupyter.widget-view+json": {
       "model_id": "05989eb195f64820a18b8326b72b2313",
       "version_major": 2,
       "version_minor": 0
      },
      "text/plain": [
       "  0%|          | 0/4 [00:00<?, ?it/s]"
      ]
     },
     "metadata": {},
     "output_type": "display_data"
    },
    {
     "data": {
      "application/vnd.jupyter.widget-view+json": {
       "model_id": "3bcc3edaff0249bbbf9aebf8d0245a85",
       "version_major": 2,
       "version_minor": 0
      },
      "text/plain": [
       "  0%|          | 0/6 [00:00<?, ?it/s]"
      ]
     },
     "metadata": {},
     "output_type": "display_data"
    },
    {
     "data": {
      "application/vnd.jupyter.widget-view+json": {
       "model_id": "e0217418e6314101961acc342a1909b9",
       "version_major": 2,
       "version_minor": 0
      },
      "text/plain": [
       "  0%|          | 0/6 [00:00<?, ?it/s]"
      ]
     },
     "metadata": {},
     "output_type": "display_data"
    },
    {
     "data": {
      "application/vnd.jupyter.widget-view+json": {
       "model_id": "e0f724e1babd43c6a8d13f4a2b27add1",
       "version_major": 2,
       "version_minor": 0
      },
      "text/plain": [
       "  0%|          | 0/6 [00:00<?, ?it/s]"
      ]
     },
     "metadata": {},
     "output_type": "display_data"
    },
    {
     "data": {
      "application/vnd.jupyter.widget-view+json": {
       "model_id": "c8d26a1fd1dd4531a4096e3bfd022e09",
       "version_major": 2,
       "version_minor": 0
      },
      "text/plain": [
       "  0%|          | 0/6 [00:00<?, ?it/s]"
      ]
     },
     "metadata": {},
     "output_type": "display_data"
    },
    {
     "data": {
      "application/vnd.jupyter.widget-view+json": {
       "model_id": "600bbaae85bd478a9c7c1ec9e6d8cb67",
       "version_major": 2,
       "version_minor": 0
      },
      "text/plain": [
       "  0%|          | 0/6 [00:00<?, ?it/s]"
      ]
     },
     "metadata": {},
     "output_type": "display_data"
    },
    {
     "data": {
      "application/vnd.jupyter.widget-view+json": {
       "model_id": "8b369e9c6d3140628127c28caed6346c",
       "version_major": 2,
       "version_minor": 0
      },
      "text/plain": [
       "  0%|          | 0/6 [00:00<?, ?it/s]"
      ]
     },
     "metadata": {},
     "output_type": "display_data"
    },
    {
     "data": {
      "application/vnd.jupyter.widget-view+json": {
       "model_id": "e28a95075bc84be3adca11ce40215210",
       "version_major": 2,
       "version_minor": 0
      },
      "text/plain": [
       "  0%|          | 0/6 [00:00<?, ?it/s]"
      ]
     },
     "metadata": {},
     "output_type": "display_data"
    },
    {
     "data": {
      "application/vnd.jupyter.widget-view+json": {
       "model_id": "fc0605abedb040cc80466dd9462b0a1e",
       "version_major": 2,
       "version_minor": 0
      },
      "text/plain": [
       "  0%|          | 0/6 [00:00<?, ?it/s]"
      ]
     },
     "metadata": {},
     "output_type": "display_data"
    },
    {
     "data": {
      "application/vnd.jupyter.widget-view+json": {
       "model_id": "5267aeb5e06647b4bee4355ae44e8ea4",
       "version_major": 2,
       "version_minor": 0
      },
      "text/plain": [
       "  0%|          | 0/6 [00:00<?, ?it/s]"
      ]
     },
     "metadata": {},
     "output_type": "display_data"
    },
    {
     "data": {
      "application/vnd.jupyter.widget-view+json": {
       "model_id": "eb5992089eb343278253943e371646e5",
       "version_major": 2,
       "version_minor": 0
      },
      "text/plain": [
       "  0%|          | 0/6 [00:00<?, ?it/s]"
      ]
     },
     "metadata": {},
     "output_type": "display_data"
    },
    {
     "data": {
      "application/vnd.jupyter.widget-view+json": {
       "model_id": "5cf479634ee6482196528fabac1500db",
       "version_major": 2,
       "version_minor": 0
      },
      "text/plain": [
       "  0%|          | 0/6 [00:00<?, ?it/s]"
      ]
     },
     "metadata": {},
     "output_type": "display_data"
    },
    {
     "data": {
      "application/vnd.jupyter.widget-view+json": {
       "model_id": "91c349236b474aafbd09f63aceab2689",
       "version_major": 2,
       "version_minor": 0
      },
      "text/plain": [
       "  0%|          | 0/6 [00:00<?, ?it/s]"
      ]
     },
     "metadata": {},
     "output_type": "display_data"
    },
    {
     "data": {
      "application/vnd.jupyter.widget-view+json": {
       "model_id": "47a163d87f7348c0ada7c0b6123104f4",
       "version_major": 2,
       "version_minor": 0
      },
      "text/plain": [
       "  0%|          | 0/6 [00:00<?, ?it/s]"
      ]
     },
     "metadata": {},
     "output_type": "display_data"
    },
    {
     "data": {
      "application/vnd.jupyter.widget-view+json": {
       "model_id": "8a78a5efc2ef46e3bed344031d51d168",
       "version_major": 2,
       "version_minor": 0
      },
      "text/plain": [
       "  0%|          | 0/6 [00:00<?, ?it/s]"
      ]
     },
     "metadata": {},
     "output_type": "display_data"
    },
    {
     "data": {
      "application/vnd.jupyter.widget-view+json": {
       "model_id": "60f179d095984745a1fef6f12fae7b78",
       "version_major": 2,
       "version_minor": 0
      },
      "text/plain": [
       "  0%|          | 0/6 [00:00<?, ?it/s]"
      ]
     },
     "metadata": {},
     "output_type": "display_data"
    },
    {
     "data": {
      "application/vnd.jupyter.widget-view+json": {
       "model_id": "156efd7702664e87bd3315ef071e92e1",
       "version_major": 2,
       "version_minor": 0
      },
      "text/plain": [
       "  0%|          | 0/6 [00:00<?, ?it/s]"
      ]
     },
     "metadata": {},
     "output_type": "display_data"
    },
    {
     "data": {
      "application/vnd.jupyter.widget-view+json": {
       "model_id": "ed5feaf90bbf4fe7b1796b23a58bc194",
       "version_major": 2,
       "version_minor": 0
      },
      "text/plain": [
       "  0%|          | 0/6 [00:00<?, ?it/s]"
      ]
     },
     "metadata": {},
     "output_type": "display_data"
    }
   ],
   "source": [
    "'''Collect Speed FR Slopes'''\n",
    "# set up arrays for plotting by session \n",
    "sslope99 = []\n",
    "sslope1 = []\n",
    "sslopeint99 = []\n",
    "sslopegrid99 = []\n",
    "dt = 0.02\n",
    "\n",
    "for m, session in zip(mice,sessions):\n",
    "    m_cells = []\n",
    "    m_99 = []\n",
    "    m_1 = []\n",
    "    \n",
    "    for s in tdqm(session):\n",
    "        d = data[m][s]\n",
    "    \n",
    "        #get file names & load data necessary\n",
    "        rawdata_file = 'RAW_' + m + '_' + s + '.npy'\n",
    "        spikes_file = 'SPIKES_' + m + '_' + s +'.npy'\n",
    "        behavior_file = 'BEHAVIOR_' + m + '_' + s + '.npy'\n",
    "        A_file = 'A_' + m + '_' + s + '.npy'\n",
    "\n",
    "        raw = np.load(load_folder + rawdata_file, allow_pickle=True)\n",
    "        behaviorfil = np.load(load_folder + behavior_file, allow_pickle=False)\n",
    "        \n",
    "        A = np.load(fig6_folder + A_file)\n",
    "        speed = behaviorfil[:,1]\n",
    "       \n",
    "        #get dict-stored data\n",
    "        cell_IDs = raw.item().get('cellsfil')\n",
    "        speedonly99 = d['speedonly99']\n",
    "        speedonly1 = d['speedonly1']\n",
    "        speedint99 = d['speedint99']\n",
    "        speedgrid99 = d['speedgrid99']\n",
    "        \n",
    "        speedonlycells99 = cell_IDs[speedonly99 == 1] # + speed only \n",
    "        speedonlycells1 = cell_IDs[speedonly1 == 1] # - speed only\n",
    "        speedints99 = cell_IDs[speedint99 == 1] # speed grid cells\n",
    "        speedgrids99 = cell_IDs[speedgrid99 == 1] # speed grid cells\n",
    "        \n",
    "        #get slopes for each speed cell population\n",
    "        slope99 = []\n",
    "        for i, c in enumerate(speedonlycells99):\n",
    "            sdx = (np.where(cell_IDs==c)[0][0]).astype(int)\n",
    "            \n",
    "            #get slope/FR and convert to Hz/speed\n",
    "            slopeFR, intFR, r_value, p_val, std_err = stats.linregress(speed, A[:,sdx])\n",
    "            slopeFR = slopeFR/dt\n",
    "            intFR = intFR/dt\n",
    "            slope99 = np.append(slope99,slopeFR) #FR/speed slope\n",
    "            \n",
    "        slope1 = []\n",
    "        for i, c in enumerate(speedonlycells1):\n",
    "            sdx = (np.where(cell_IDs==c)[0][0]).astype(int)\n",
    "            \n",
    "            #get slope/FR and convert to Hz/speed\n",
    "            slopeFR, intFR, r_value, p_val, std_err = stats.linregress(speed, A[:,sdx])\n",
    "            slopeFR = slopeFR/dt\n",
    "            intFR = intFR/dt\n",
    "            slope1 = np.append(slope1,slopeFR) #FR/speed slope\n",
    "            \n",
    "        slopeint99 = []\n",
    "        for i, c in enumerate(speedints99):\n",
    "            sdx = (np.where(cell_IDs==c)[0][0]).astype(int)\n",
    "            \n",
    "            #get slope/FR and convert to Hz/speed\n",
    "            slopeFR, intFR, r_value, p_val, std_err = stats.linregress(speed, A[:,sdx])\n",
    "            slopeFR = slopeFR/dt\n",
    "            intFR = intFR/dt\n",
    "            slopeint99 = np.append(slopeint99,slopeFR) #FR/speed slope\n",
    "            \n",
    "        slopegrid99 = []\n",
    "        for i, c in enumerate(speedgrids99):\n",
    "            sdx = (np.where(cell_IDs==c)[0][0]).astype(int)\n",
    "            \n",
    "            #get slope/FR and convert to Hz/speed\n",
    "            slopeFR, intFR, r_value, p_val, std_err = stats.linregress(speed, A[:,sdx])\n",
    "            slopeFR = slopeFR/dt\n",
    "            intFR = intFR/dt\n",
    "            slopegrid99 = np.append(slopegrid99,slopeFR) #FR/speed slope\n",
    "        \n",
    "        #pool data into session arrays    \n",
    "        sslope99 = np.append(sslope99, np.mean(slope99))\n",
    "        sslope1 = np.append(sslope1, np.mean(slope1))\n",
    "        sslopeint99 = np.append(sslopeint99, np.mean(slopeint99))\n",
    "        sslopegrid99 = np.append(sslopegrid99, np.mean(slopegrid99))"
   ]
  },
  {
   "cell_type": "code",
   "execution_count": 34,
   "id": "47ba3bc2",
   "metadata": {},
   "outputs": [],
   "source": [
    "''' Find where I will have NaNs due to 0% speed cells in a given'''\n",
    "nan_idx99 = np.where((speronly99 == 0))[0]\n",
    "nan_idx1 = np.where((speronly1 == 0))[0]\n",
    "nan_idxint99 = np.where((sperint99 == 0))[0]\n",
    "nan_idxgrid99 = np.union1d(nan_idx, np.where((spergrid99 == 0))[0]) \n",
    "\n",
    "# Adjust y_sind, ma_sind, age_sind for subsequent plots\n",
    "y_sind99 = np.setdiff1d(y_sind, nan_idx99)\n",
    "ma_sind99 = np.setdiff1d(ma_sind, nan_idx99)\n",
    "age_sind99 = np.setdiff1d(age_sind, nan_idx99)\n",
    "\n",
    "y_sind1 = np.setdiff1d(y_sind, nan_idx1)\n",
    "ma_sind1 = np.setdiff1d(ma_sind, nan_idx1)\n",
    "age_sind1 = np.setdiff1d(age_sind, nan_idx1)\n",
    "\n",
    "y_sindint = np.setdiff1d(y_sind, nan_idxint99)\n",
    "ma_sindint = np.setdiff1d(ma_sind, nan_idxint99)\n",
    "age_sindint = np.setdiff1d(age_sind, nan_idxint99)\n",
    "\n",
    "y_sindgrid99 = np.setdiff1d(y_sind, nan_idxgrid99)\n",
    "ma_sindgrid99 = np.setdiff1d(ma_sind, nan_idxgrid99)\n",
    "age_sindgrid99 = np.setdiff1d(age_sind, nan_idxgrid99)\n",
    "\n",
    "# Adjust colormaps for all thresholds\n",
    "yidx = []\n",
    "maidx = []\n",
    "aidx = []\n",
    "for i in nan_idx99:\n",
    "    yidx = np.append(yidx, np.where(y_sind == i)[0].astype(int))\n",
    "    maidx = np.append(maidx, np.where(ma_sind == i)[0].astype(int))\n",
    "    aidx = np.append(aidx, np.where(age_sind == i)[0].astype(int))\n",
    "    \n",
    "col_session_young99 = np.delete(col_session_young, list(yidx.astype(int)), axis = 0)\n",
    "col_session_ma99 = np.delete(col_session_MA, list(maidx.astype(int)), axis = 0)\n",
    "col_session_old99 = np.delete(col_session_old, list(aidx.astype(int)), axis = 0)\n",
    "col_session99 = [col_session_young99, col_session_ma99, col_session_old99] \n",
    "\n",
    "yidx = []\n",
    "maidx = []\n",
    "aidx = []\n",
    "for i in nan_idx1:\n",
    "    yidx = np.append(yidx, np.where(y_sind == i)[0].astype(int))\n",
    "    maidx = np.append(maidx, np.where(ma_sind == i)[0].astype(int))\n",
    "    aidx = np.append(aidx, np.where(age_sind == i)[0].astype(int))\n",
    "    \n",
    "col_session_young1 = np.delete(col_session_young, list(yidx.astype(int)), axis = 0)\n",
    "col_session_ma1 = np.delete(col_session_MA, list(maidx.astype(int)), axis = 0)\n",
    "col_session_old1 = np.delete(col_session_old, list(aidx.astype(int)), axis = 0)\n",
    "col_session1 = [col_session_young1, col_session_ma1, col_session_old1]       \n",
    "\n",
    "yidx = []\n",
    "maidx = []\n",
    "aidx = []\n",
    "for i in nan_idxint99:\n",
    "    yidx = np.append(yidx, np.where(y_sind == i)[0].astype(int))\n",
    "    maidx = np.append(maidx, np.where(ma_sind == i)[0].astype(int))\n",
    "    aidx = np.append(aidx, np.where(age_sind == i)[0].astype(int))\n",
    "    \n",
    "col_session_youngint = np.delete(col_session_young, list(yidx.astype(int)), axis = 0)\n",
    "col_session_maint = np.delete(col_session_MA, list(maidx.astype(int)), axis = 0)\n",
    "col_session_oldint = np.delete(col_session_old, list(aidx.astype(int)), axis = 0)\n",
    "col_sessionint = [col_session_youngint, col_session_maint, col_session_oldint]\n",
    "\n",
    "yidx = []\n",
    "maidx = []\n",
    "aidx = []\n",
    "for i in nan_idxgrid99:\n",
    "    yidx = np.append(yidx, np.where(y_sind == i)[0].astype(int))\n",
    "    maidx = np.append(maidx, np.where(ma_sind == i)[0].astype(int))\n",
    "    aidx = np.append(aidx, np.where(age_sind == i)[0].astype(int))\n",
    "    \n",
    "col_session_younggrid99 = np.delete(col_session_young, list(yidx.astype(int)), axis = 0)\n",
    "col_session_magrid99 = np.delete(col_session_MA, list(maidx.astype(int)), axis = 0)\n",
    "col_session_oldgrid99 = np.delete(col_session_old, list(aidx.astype(int)), axis = 0)\n",
    "col_sessiongrid99 = [col_session_younggrid99, col_session_magrid99, col_session_oldgrid99]"
   ]
  },
  {
   "cell_type": "code",
   "execution_count": 35,
   "id": "860c0bd9",
   "metadata": {},
   "outputs": [
    {
     "data": {
      "image/png": "[encoded data removed]",
      "text/plain": [
       "<Figure size 175x150 with 1 Axes>"
      ]
     },
     "metadata": {},
     "output_type": "display_data"
    },
    {
     "data": {
      "image/png": "[encoded data removed]",
      "text/plain": [
       "<Figure size 175x150 with 1 Axes>"
      ]
     },
     "metadata": {},
     "output_type": "display_data"
    },
    {
     "data": {
      "image/png": "[encoded data removed]",
      "text/plain": [
       "<Figure size 175x150 with 1 Axes>"
      ]
     },
     "metadata": {},
     "output_type": "display_data"
    },
    {
     "data": {
      "image/png": "[encoded data removed]",
      "text/plain": [
       "<Figure size 175x150 with 1 Axes>"
      ]
     },
     "metadata": {},
     "output_type": "display_data"
    }
   ],
   "source": [
    "''' Plot Figure S6F '''\n",
    "\n",
    "#Plot Figure S6F (first)\n",
    "fig, ax = plt.subplots(figsize = (1.75,1.5))\n",
    "sslope = [sslope99[y_sind99], sslope99[ma_sind99], sslope99[age_sind99]]\n",
    "labels = ['Young','MA','Aged']\n",
    "w = 0.5\n",
    "plt.boxplot(sslope, widths = w, labels = labels, medianprops = dict(color = 'black'))\n",
    "\n",
    "for i in range(len(sslope)):\n",
    "    y = sslope[i]\n",
    "    x = np.random.normal(i + 1, 0.04, len(y))\n",
    "    plt.scatter(x, y, color = col_session99[i], edgecolors = col_session99[i], s = 10)\n",
    "            \n",
    "#ax.legend(ncol = 3, handles = handles, labels = label_mice, loc = 'upper right',bbox_to_anchor=(1.8, 1))\n",
    "ax.set_title('+ Speed Only', fontsize=10, pad=5)\n",
    "ax.set_xlabel('Age', fontsize=9, labelpad=1)\n",
    "ax.set_ylabel('Mean Slope (Hz / (cm / s))', fontsize = 9, labelpad=1)\n",
    "ax.tick_params(labelsize = 8)\n",
    "ax.set_ylim([-0.05,0.35])\n",
    "ax.set_yticks([0,0.1,0.2,0.3])\n",
    "plt.savefig(save_folder + 'S6Ffirst.png', dpi=400, bbox_inches='tight')\n",
    "plt.savefig(save_folder + 'S6Ffirst.svg', dpi=400, bbox_inches='tight')\n",
    "plt.show()\n",
    "\n",
    "#Plot Figure S6F (second)\n",
    "fig, ax = plt.subplots(figsize = (1.75,1.5))\n",
    "sslope = [sslope1[y_sind1], sslope1[ma_sind1], sslope1[age_sind1]]\n",
    "labels = ['Young','MA','Aged']\n",
    "w = 0.5\n",
    "plt.boxplot(sslope, widths = w, labels = labels, medianprops = dict(color = 'black'))\n",
    "\n",
    "for i in range(len(sslope)):\n",
    "    y = sslope[i]\n",
    "    x = np.random.normal(i + 1, 0.04, len(y))\n",
    "    plt.scatter(x, y, color = col_session1[i], edgecolors = col_session1[i], s = 10)\n",
    "            \n",
    "#ax.legend(ncol = 3, handles = handles, labels = label_mice, loc = 'upper right',bbox_to_anchor=(1.8, 1))\n",
    "ax.set_title('- Speed Only', fontsize=10, pad=5)\n",
    "ax.set_xlabel('Age', fontsize=9, labelpad=1)\n",
    "ax.set_ylabel('Mean Slope (Hz / (cm / s))', fontsize = 9, labelpad=1)\n",
    "ax.tick_params(labelsize = 8)\n",
    "ax.set_ylim([-0.25,0.05])\n",
    "ax.set_yticks([-0.25,-0.2,-0.15,-0.1,-0.05,0, 0.05])\n",
    "plt.savefig(save_folder + 'S6Fsecond.png', dpi=400, bbox_inches='tight')\n",
    "plt.savefig(save_folder + 'S6Fsecond.svg', dpi=400, bbox_inches='tight')\n",
    "plt.show()\n",
    "\n",
    "#Plot Figure S6F (third)\n",
    "fig, ax = plt.subplots(figsize = (1.75,1.5))\n",
    "sslope = [sslopeint99[y_sindint], sslopeint99[ma_sindint], sslopeint99[age_sindint]]\n",
    "labels = ['Young','MA','Aged']\n",
    "w = 0.5\n",
    "plt.boxplot(sslope, widths = w, labels = labels, medianprops = dict(color = 'black'))\n",
    "\n",
    "for i in range(len(sslope)):\n",
    "    y = sslope[i]\n",
    "    x = np.random.normal(i + 1, 0.04, len(y))\n",
    "    plt.scatter(x, y, color = col_sessionint[i], edgecolors = col_sessionint[i], s = 10)\n",
    "            \n",
    "#ax.legend(ncol = 3, handles = handles, labels = label_mice, loc = 'upper right',bbox_to_anchor=(1.8, 1))\n",
    "ax.set_title('+ IN Speed', fontsize=10, pad=5)\n",
    "ax.set_xlabel('Age', fontsize=9, labelpad=1)\n",
    "ax.set_ylabel('Mean Slope (Hz / (cm / s))', fontsize = 9, labelpad=1)\n",
    "ax.tick_params(labelsize = 8)\n",
    "ax.set_ylim([0,0.7])\n",
    "ax.set_yticks([0,0.1,0.2,0.3,0.4,0.5,0.6,0.7])\n",
    "plt.savefig(save_folder + 'S6Fthird.png', dpi=400, bbox_inches='tight')\n",
    "plt.savefig(save_folder + 'S6Fthird.svg', dpi=400, bbox_inches='tight')\n",
    "plt.show()\n",
    "\n",
    "#Plot Figure S6F (fourth)\n",
    "fig, ax = plt.subplots(figsize = (1.75,1.5))\n",
    "sslope = [sslopegrid99[y_sindgrid99], sslopegrid99[ma_sindgrid99], sslopegrid99[age_sindgrid99]]\n",
    "labels = ['Young','MA','Aged']\n",
    "w = 0.5\n",
    "plt.boxplot(sslope, widths = w, labels = labels, medianprops = dict(color = 'black'))\n",
    "\n",
    "for i in range(len(sslope)):\n",
    "    y = sslope[i]\n",
    "    x = np.random.normal(i + 1, 0.04, len(y))\n",
    "    plt.scatter(x, y, color = col_sessiongrid99[i], edgecolors = col_sessiongrid99[i], s = 10)\n",
    "            \n",
    "#ax.legend(ncol = 3, handles = handles, labels = label_mice, loc = 'upper right',bbox_to_anchor=(1.8, 1))\n",
    "ax.set_title('+ Grid Speed', fontsize=10, pad=5)\n",
    "ax.set_xlabel('Age', fontsize=9, labelpad=1)\n",
    "ax.set_ylabel('Mean Slope (Hz / (cm / s))', fontsize = 9, labelpad=1)\n",
    "ax.tick_params(labelsize = 8)\n",
    "ax.set_ylim([0,0.15])\n",
    "ax.set_yticks([0,0.05,0.1,0.15])\n",
    "plt.savefig(save_folder + 'S6Ffourth.png', dpi=400, bbox_inches='tight')\n",
    "plt.savefig(save_folder + 'S6Ffourth.svg', dpi=400, bbox_inches='tight')\n",
    "plt.show()"
   ]
  },
  {
   "cell_type": "code",
   "execution_count": 36,
   "id": "0168b301",
   "metadata": {},
   "outputs": [
    {
     "name": "stdout",
     "output_type": "stream",
     "text": [
      "n young, MA, aged sessions with + speed only cells: \n",
      "88 56 94\n",
      "\n",
      "+ Speed Only Cell Slope Results:\n",
      "slopeyoung ± SEM; slope_MA ± SEM; slope_old ± SEM\n",
      "0.0413 ± 0.0037 ; 0.033 ± 0.0034 ; 0.0466 ± 0.0035\n",
      "KW stat = 9.648292800444551\n",
      "p_session = 0.008033408260031353\n"
     ]
    },
    {
     "data": {
      "text/html": [
       "<div>\n",
       "<style scoped>\n",
       "    .dataframe tbody tr th:only-of-type {\n",
       "        vertical-align: middle;\n",
       "    }\n",
       "\n",
       "    .dataframe tbody tr th {\n",
       "        vertical-align: top;\n",
       "    }\n",
       "\n",
       "    .dataframe thead th {\n",
       "        text-align: right;\n",
       "    }\n",
       "</style>\n",
       "<table border=\"1\" class=\"dataframe\">\n",
       "  <thead>\n",
       "    <tr style=\"text-align: right;\">\n",
       "      <th></th>\n",
       "      <th>1.0</th>\n",
       "      <th>2.0</th>\n",
       "      <th>3.0</th>\n",
       "    </tr>\n",
       "  </thead>\n",
       "  <tbody>\n",
       "    <tr>\n",
       "      <th>1.0</th>\n",
       "      <td>1.000000</td>\n",
       "      <td>0.084877</td>\n",
       "      <td>0.216073</td>\n",
       "    </tr>\n",
       "    <tr>\n",
       "      <th>2.0</th>\n",
       "      <td>0.084877</td>\n",
       "      <td>1.000000</td>\n",
       "      <td>0.005425</td>\n",
       "    </tr>\n",
       "    <tr>\n",
       "      <th>3.0</th>\n",
       "      <td>0.216073</td>\n",
       "      <td>0.005425</td>\n",
       "      <td>1.000000</td>\n",
       "    </tr>\n",
       "  </tbody>\n",
       "</table>\n",
       "</div>"
      ],
      "text/plain": [
       "          1.0       2.0       3.0\n",
       "1.0  1.000000  0.084877  0.216073\n",
       "2.0  0.084877  1.000000  0.005425\n",
       "3.0  0.216073  0.005425  1.000000"
      ]
     },
     "execution_count": 36,
     "metadata": {},
     "output_type": "execute_result"
    }
   ],
   "source": [
    "'''Speed Cell Slope Statistics with Multiple Comparisons by Session'''\n",
    "\n",
    "print('n young, MA, aged sessions with + speed only cells: ')\n",
    "print(len(y_sind99),len(ma_sind99),len(age_sind99))\n",
    "\n",
    "print('\\n+ Speed Only Cell Slope Results:')\n",
    "print('slopeyoung ± SEM; slope_MA ± SEM; slope_old ± SEM')\n",
    "print(str(np.round(np.mean(sslope99[y_sind99]), 4)) + ' ± ' + str(np.round(stats.sem(sslope99[y_sind99]), 4)) + ' ; ' \n",
    "      + str(np.round(np.mean(sslope99[ma_sind99]), 4)) + ' ± ' + str(np.round(stats.sem(sslope99[ma_sind99]), 4)) + ' ; ' \n",
    "      + str(np.round(np.mean(sslope99[age_sind99]), 4)) + ' ± ' + str(np.round(stats.sem(sslope99[age_sind99]), 4)))\n",
    "()\n",
    "stat, p_diff = stats.kruskal(sslope99[y_sind99],sslope99[ma_sind99],sslope99[age_sind99])\n",
    "print('KW stat = ' + str(stat))\n",
    "print('p_session = ' + str(p_diff))\n",
    "\n",
    "# Collect all relevant data into pandas dataframe\n",
    "allidx = np.concatenate((y_sind99,ma_sind99,age_sind99))\n",
    "Animal_ID = list(seshmice[allidx])\n",
    "Session = list(seshcount[allidx])\n",
    "Age_Group = list(seshage[allidx])\n",
    "Slopeneg = list(sslope1[allidx])\n",
    "Slopepos = list(sslope99[allidx])\n",
    "Slopeintpos = list(sslopeint99[allidx])\n",
    "Slopegridpos = list(sslopegrid99[allidx])\n",
    "\n",
    "tuples = list(zip(Animal_ID, Session, Age_Group, Slopeneg,Slopepos,Slopeintpos,Slopegridpos))\n",
    "tuples\n",
    "\n",
    "df = pd.DataFrame(tuples, columns = ['AnimalID', 'Session', 'AgeGroup','slopeneg','slopepos','slopeintpos','slopegridpos'])\n",
    "\n",
    "#run post hoc tests\n",
    "ph.posthoc_conover(df, val_col = 'slopepos', group_col = 'AgeGroup', p_adjust = 'holm')"
   ]
  },
  {
   "cell_type": "code",
   "execution_count": 37,
   "id": "8914a4e6",
   "metadata": {},
   "outputs": [
    {
     "name": "stdout",
     "output_type": "stream",
     "text": [
      "n young, MA, aged sessions with - speed only cells: \n",
      "89 51 92\n",
      "\n",
      "- Speed Only Cell Slope Results:\n",
      "slopeyoung ± SEM; slope_MA ± SEM; slope_old ± SEM\n",
      "-0.0308 ± 0.0042 ; -0.0198 ± 0.0018 ; -0.0348 ± 0.0033\n",
      "KW stat = 12.866347184371307\n",
      "p_session = 0.0016073416845858524\n"
     ]
    },
    {
     "data": {
      "text/html": [
       "<div>\n",
       "<style scoped>\n",
       "    .dataframe tbody tr th:only-of-type {\n",
       "        vertical-align: middle;\n",
       "    }\n",
       "\n",
       "    .dataframe tbody tr th {\n",
       "        vertical-align: top;\n",
       "    }\n",
       "\n",
       "    .dataframe thead th {\n",
       "        text-align: right;\n",
       "    }\n",
       "</style>\n",
       "<table border=\"1\" class=\"dataframe\">\n",
       "  <thead>\n",
       "    <tr style=\"text-align: right;\">\n",
       "      <th></th>\n",
       "      <th>1.0</th>\n",
       "      <th>2.0</th>\n",
       "      <th>3.0</th>\n",
       "    </tr>\n",
       "  </thead>\n",
       "  <tbody>\n",
       "    <tr>\n",
       "      <th>1.0</th>\n",
       "      <td>1.000000</td>\n",
       "      <td>0.092466</td>\n",
       "      <td>0.054913</td>\n",
       "    </tr>\n",
       "    <tr>\n",
       "      <th>2.0</th>\n",
       "      <td>0.092466</td>\n",
       "      <td>1.000000</td>\n",
       "      <td>0.001215</td>\n",
       "    </tr>\n",
       "    <tr>\n",
       "      <th>3.0</th>\n",
       "      <td>0.054913</td>\n",
       "      <td>0.001215</td>\n",
       "      <td>1.000000</td>\n",
       "    </tr>\n",
       "  </tbody>\n",
       "</table>\n",
       "</div>"
      ],
      "text/plain": [
       "          1.0       2.0       3.0\n",
       "1.0  1.000000  0.092466  0.054913\n",
       "2.0  0.092466  1.000000  0.001215\n",
       "3.0  0.054913  0.001215  1.000000"
      ]
     },
     "execution_count": 37,
     "metadata": {},
     "output_type": "execute_result"
    }
   ],
   "source": [
    "print('n young, MA, aged sessions with - speed only cells: ')\n",
    "print(len(y_sind1),len(ma_sind1),len(age_sind1))\n",
    "\n",
    "print('\\n- Speed Only Cell Slope Results:')\n",
    "print('slopeyoung ± SEM; slope_MA ± SEM; slope_old ± SEM')\n",
    "print(str(np.round(np.mean(sslope1[y_sind1]), 4)) + ' ± ' + str(np.round(stats.sem(sslope1[y_sind1]), 4)) + ' ; ' \n",
    "      + str(np.round(np.mean(sslope1[ma_sind1]), 4)) + ' ± ' + str(np.round(stats.sem(sslope1[ma_sind1]), 4)) + ' ; ' \n",
    "      + str(np.round(np.mean(sslope1[age_sind1]), 4)) + ' ± ' + str(np.round(stats.sem(sslope1[age_sind1]), 4)))\n",
    "()\n",
    "stat, p_diff = stats.kruskal(sslope1[y_sind1],sslope1[ma_sind1],sslope1[age_sind1])\n",
    "print('KW stat = ' + str(stat))\n",
    "print('p_session = ' + str(p_diff))\n",
    "\n",
    "# Collect all relevant data into pandas dataframe\n",
    "allidx = np.concatenate((y_sind1,ma_sind1,age_sind1))\n",
    "Animal_ID = list(seshmice[allidx])\n",
    "Session = list(seshcount[allidx])\n",
    "Age_Group = list(seshage[allidx])\n",
    "Slopeneg = list(sslope1[allidx])\n",
    "Slopepos = list(sslope99[allidx])\n",
    "Slopeintpos = list(sslopeint99[allidx])\n",
    "Slopegridpos = list(sslopegrid99[allidx])\n",
    "\n",
    "tuples = list(zip(Animal_ID, Session, Age_Group, Slopeneg,Slopepos,Slopeintpos,Slopegridpos))\n",
    "tuples\n",
    "\n",
    "df = pd.DataFrame(tuples, columns = ['AnimalID', 'Session', 'AgeGroup','slopeneg','slopepos','slopeintpos','slopegridpos'])\n",
    "\n",
    "#run post hoc tests\n",
    "ph.posthoc_conover(df, val_col = 'slopeneg', group_col = 'AgeGroup', p_adjust = 'holm')"
   ]
  },
  {
   "cell_type": "code",
   "execution_count": 38,
   "id": "ee03acd5",
   "metadata": {},
   "outputs": [
    {
     "name": "stdout",
     "output_type": "stream",
     "text": [
      "n young, MA, aged sessions with + IN speed cells: \n",
      "94 58 95\n",
      "\n",
      "+ IN Speed Cell Slope Results:\n",
      "slopeyoung ± SEM; slope_MA ± SEM; slope_old ± SEM\n",
      "0.1458 ± 0.0057 ; 0.1588 ± 0.0083 ; 0.1857 ± 0.0082\n",
      "KW stat = 13.245725964891108\n",
      "p_session = 0.001329618815857892\n"
     ]
    },
    {
     "data": {
      "text/html": [
       "<div>\n",
       "<style scoped>\n",
       "    .dataframe tbody tr th:only-of-type {\n",
       "        vertical-align: middle;\n",
       "    }\n",
       "\n",
       "    .dataframe tbody tr th {\n",
       "        vertical-align: top;\n",
       "    }\n",
       "\n",
       "    .dataframe thead th {\n",
       "        text-align: right;\n",
       "    }\n",
       "</style>\n",
       "<table border=\"1\" class=\"dataframe\">\n",
       "  <thead>\n",
       "    <tr style=\"text-align: right;\">\n",
       "      <th></th>\n",
       "      <th>1.0</th>\n",
       "      <th>2.0</th>\n",
       "      <th>3.0</th>\n",
       "    </tr>\n",
       "  </thead>\n",
       "  <tbody>\n",
       "    <tr>\n",
       "      <th>1.0</th>\n",
       "      <td>1.000000</td>\n",
       "      <td>0.230722</td>\n",
       "      <td>0.000808</td>\n",
       "    </tr>\n",
       "    <tr>\n",
       "      <th>2.0</th>\n",
       "      <td>0.230722</td>\n",
       "      <td>1.000000</td>\n",
       "      <td>0.088130</td>\n",
       "    </tr>\n",
       "    <tr>\n",
       "      <th>3.0</th>\n",
       "      <td>0.000808</td>\n",
       "      <td>0.088130</td>\n",
       "      <td>1.000000</td>\n",
       "    </tr>\n",
       "  </tbody>\n",
       "</table>\n",
       "</div>"
      ],
      "text/plain": [
       "          1.0       2.0       3.0\n",
       "1.0  1.000000  0.230722  0.000808\n",
       "2.0  0.230722  1.000000  0.088130\n",
       "3.0  0.000808  0.088130  1.000000"
      ]
     },
     "execution_count": 38,
     "metadata": {},
     "output_type": "execute_result"
    }
   ],
   "source": [
    "print('n young, MA, aged sessions with + IN speed cells: ')\n",
    "print(len(y_sindint),len(ma_sindint),len(age_sindint))\n",
    "\n",
    "print('\\n+ IN Speed Cell Slope Results:')\n",
    "print('slopeyoung ± SEM; slope_MA ± SEM; slope_old ± SEM')\n",
    "print(str(np.round(np.mean(sslopeint99[y_sindint]), 4)) + ' ± ' + str(np.round(stats.sem(sslopeint99[y_sindint]), 4)) + ' ; ' \n",
    "      + str(np.round(np.mean(sslopeint99[ma_sindint]), 4)) + ' ± ' + str(np.round(stats.sem(sslopeint99[ma_sindint]), 4)) + ' ; ' \n",
    "      + str(np.round(np.mean(sslopeint99[age_sindint]), 4)) + ' ± ' + str(np.round(stats.sem(sslopeint99[age_sindint]), 4)))\n",
    "()\n",
    "stat, p_diff = stats.kruskal(sslopeint99[y_sindint],sslopeint99[ma_sindint],sslopeint99[age_sindint])\n",
    "print('KW stat = ' + str(stat))\n",
    "print('p_session = ' + str(p_diff))\n",
    "\n",
    "# Collect all relevant data into pandas dataframe\n",
    "allidx = np.concatenate((y_sindint,ma_sindint,age_sindint))\n",
    "Animal_ID = list(seshmice[allidx])\n",
    "Session = list(seshcount[allidx])\n",
    "Age_Group = list(seshage[allidx])\n",
    "Slopeneg = list(sslope1[allidx])\n",
    "Slopepos = list(sslope99[allidx])\n",
    "Slopeintpos = list(sslopeint99[allidx])\n",
    "Slopegridpos = list(sslopegrid99[allidx])\n",
    "\n",
    "tuples = list(zip(Animal_ID, Session, Age_Group, Slopeneg,Slopepos,Slopeintpos,Slopegridpos))\n",
    "tuples\n",
    "\n",
    "df = pd.DataFrame(tuples, columns = ['AnimalID', 'Session', 'AgeGroup','slopeneg','slopepos','slopeintpos','slopegridpos'])\n",
    "\n",
    "#run post hoc tests\n",
    "ph.posthoc_conover(df, val_col = 'slopeintpos', group_col = 'AgeGroup', p_adjust = 'holm')"
   ]
  },
  {
   "cell_type": "code",
   "execution_count": 39,
   "id": "a9550e25",
   "metadata": {},
   "outputs": [
    {
     "name": "stdout",
     "output_type": "stream",
     "text": [
      "n young, MA, aged sessions with + grid speed cells: \n",
      "52 57 50\n",
      "\n",
      "+ Grid Speed Cell Slope Results:\n",
      "slopeyoung ± SEM; slope_MA ± SEM; slope_old ± SEM\n",
      "0.046 ± 0.0016 ; 0.054 ± 0.0024 ; 0.0536 ± 0.0036\n",
      "KW stat = 6.670704249738947\n",
      "p_session = 0.035602047637552245\n"
     ]
    },
    {
     "data": {
      "text/html": [
       "<div>\n",
       "<style scoped>\n",
       "    .dataframe tbody tr th:only-of-type {\n",
       "        vertical-align: middle;\n",
       "    }\n",
       "\n",
       "    .dataframe tbody tr th {\n",
       "        vertical-align: top;\n",
       "    }\n",
       "\n",
       "    .dataframe thead th {\n",
       "        text-align: right;\n",
       "    }\n",
       "</style>\n",
       "<table border=\"1\" class=\"dataframe\">\n",
       "  <thead>\n",
       "    <tr style=\"text-align: right;\">\n",
       "      <th></th>\n",
       "      <th>1.0</th>\n",
       "      <th>2.0</th>\n",
       "      <th>3.0</th>\n",
       "    </tr>\n",
       "  </thead>\n",
       "  <tbody>\n",
       "    <tr>\n",
       "      <th>1.0</th>\n",
       "      <td>1.000000</td>\n",
       "      <td>0.044109</td>\n",
       "      <td>0.091113</td>\n",
       "    </tr>\n",
       "    <tr>\n",
       "      <th>2.0</th>\n",
       "      <td>0.044109</td>\n",
       "      <td>1.000000</td>\n",
       "      <td>0.703523</td>\n",
       "    </tr>\n",
       "    <tr>\n",
       "      <th>3.0</th>\n",
       "      <td>0.091113</td>\n",
       "      <td>0.703523</td>\n",
       "      <td>1.000000</td>\n",
       "    </tr>\n",
       "  </tbody>\n",
       "</table>\n",
       "</div>"
      ],
      "text/plain": [
       "          1.0       2.0       3.0\n",
       "1.0  1.000000  0.044109  0.091113\n",
       "2.0  0.044109  1.000000  0.703523\n",
       "3.0  0.091113  0.703523  1.000000"
      ]
     },
     "execution_count": 39,
     "metadata": {},
     "output_type": "execute_result"
    }
   ],
   "source": [
    "print('n young, MA, aged sessions with + grid speed cells: ')\n",
    "print(len(y_sindgrid99),len(ma_sindgrid99),len(age_sindgrid99))\n",
    "\n",
    "print('\\n+ Grid Speed Cell Slope Results:')\n",
    "print('slopeyoung ± SEM; slope_MA ± SEM; slope_old ± SEM')\n",
    "print(str(np.round(np.mean(sslopegrid99[y_sindgrid99]), 4)) + ' ± ' + str(np.round(stats.sem(sslopegrid99[y_sindgrid99]), 4)) + ' ; ' \n",
    "      + str(np.round(np.mean(sslopegrid99[ma_sindgrid99]), 4)) + ' ± ' + str(np.round(stats.sem(sslopegrid99[ma_sindgrid99]), 4)) + ' ; ' \n",
    "      + str(np.round(np.mean(sslopegrid99[age_sindgrid99]), 4)) + ' ± ' + str(np.round(stats.sem(sslopegrid99[age_sindgrid99]), 4)))\n",
    "()\n",
    "stat, p_diff = stats.kruskal(sslopegrid99[y_sindgrid99],sslopegrid99[ma_sindgrid99],sslopegrid99[age_sindgrid99])\n",
    "print('KW stat = ' + str(stat))\n",
    "print('p_session = ' + str(p_diff))\n",
    "\n",
    "# Collect all relevant data into pandas dataframe\n",
    "allidx = np.concatenate((y_sindgrid99,ma_sindgrid99,age_sindgrid99))\n",
    "Animal_ID = list(seshmice[allidx])\n",
    "Session = list(seshcount[allidx])\n",
    "Age_Group = list(seshage[allidx])\n",
    "Slopeneg = list(sslope1[allidx])\n",
    "Slopepos = list(sslope99[allidx])\n",
    "Slopeintpos = list(sslopeint99[allidx])\n",
    "Slopegridpos = list(sslopegrid99[allidx])\n",
    "\n",
    "tuples = list(zip(Animal_ID, Session, Age_Group, Slopeneg,Slopepos,Slopeintpos,Slopegridpos))\n",
    "tuples\n",
    "\n",
    "df = pd.DataFrame(tuples, columns = ['AnimalID', 'Session', 'AgeGroup','slopeneg','slopepos','slopeintpos','slopegridpos'])\n",
    "\n",
    "#run post hoc tests\n",
    "ph.posthoc_conover(df, val_col = 'slopegridpos', group_col = 'AgeGroup', p_adjust = 'holm')"
   ]
  },
  {
   "cell_type": "markdown",
   "id": "4925a1da",
   "metadata": {},
   "source": [
    "# Examine speed tuning stability of speed tuned cell types (Figures S6G)"
   ]
  },
  {
   "cell_type": "code",
   "execution_count": 40,
   "id": "fd7e4deb",
   "metadata": {
    "scrolled": true
   },
   "outputs": [
    {
     "data": {
      "application/vnd.jupyter.widget-view+json": {
       "model_id": "079442ec405f4a28bc740afaa933b541",
       "version_major": 2,
       "version_minor": 0
      },
      "text/plain": [
       "  0%|          | 0/6 [00:00<?, ?it/s]"
      ]
     },
     "metadata": {},
     "output_type": "display_data"
    },
    {
     "name": "stderr",
     "output_type": "stream",
     "text": [
      "C:\\Users\\Python\\anaconda3\\envs\\agingmec\\lib\\site-packages\\scipy\\stats\\_stats_py.py:4424: ConstantInputWarning: An input array is constant; the correlation coefficient is not defined.\n",
      "  warnings.warn(stats.ConstantInputWarning(msg))\n",
      "C:\\Users\\Python\\anaconda3\\envs\\agingmec\\lib\\site-packages\\numpy\\core\\fromnumeric.py:3464: RuntimeWarning: Mean of empty slice.\n",
      "  return _methods._mean(a, axis=axis, dtype=dtype,\n",
      "C:\\Users\\Python\\anaconda3\\envs\\agingmec\\lib\\site-packages\\numpy\\core\\_methods.py:192: RuntimeWarning: invalid value encountered in scalar divide\n",
      "  ret = ret.dtype.type(ret / rcount)\n"
     ]
    },
    {
     "data": {
      "application/vnd.jupyter.widget-view+json": {
       "model_id": "cca174ecb816432e85f32be57c78b83b",
       "version_major": 2,
       "version_minor": 0
      },
      "text/plain": [
       "  0%|          | 0/6 [00:00<?, ?it/s]"
      ]
     },
     "metadata": {},
     "output_type": "display_data"
    },
    {
     "data": {
      "application/vnd.jupyter.widget-view+json": {
       "model_id": "0139b1e30ec743aab09bde3ad9cc3407",
       "version_major": 2,
       "version_minor": 0
      },
      "text/plain": [
       "  0%|          | 0/6 [00:00<?, ?it/s]"
      ]
     },
     "metadata": {},
     "output_type": "display_data"
    },
    {
     "data": {
      "application/vnd.jupyter.widget-view+json": {
       "model_id": "5f579a28cab7403dab4b7ed521ad78f2",
       "version_major": 2,
       "version_minor": 0
      },
      "text/plain": [
       "  0%|          | 0/6 [00:00<?, ?it/s]"
      ]
     },
     "metadata": {},
     "output_type": "display_data"
    },
    {
     "data": {
      "application/vnd.jupyter.widget-view+json": {
       "model_id": "d1fdebf684664bc78d9f5ea41d26d0fe",
       "version_major": 2,
       "version_minor": 0
      },
      "text/plain": [
       "  0%|          | 0/6 [00:00<?, ?it/s]"
      ]
     },
     "metadata": {},
     "output_type": "display_data"
    },
    {
     "data": {
      "application/vnd.jupyter.widget-view+json": {
       "model_id": "98d1f84e8cd447b3a2bea2074cf291c9",
       "version_major": 2,
       "version_minor": 0
      },
      "text/plain": [
       "  0%|          | 0/5 [00:00<?, ?it/s]"
      ]
     },
     "metadata": {},
     "output_type": "display_data"
    },
    {
     "data": {
      "application/vnd.jupyter.widget-view+json": {
       "model_id": "74ccd0d4812745089da435509738a536",
       "version_major": 2,
       "version_minor": 0
      },
      "text/plain": [
       "  0%|          | 0/5 [00:00<?, ?it/s]"
      ]
     },
     "metadata": {},
     "output_type": "display_data"
    },
    {
     "data": {
      "application/vnd.jupyter.widget-view+json": {
       "model_id": "20ab317f39ea41c6a3a1299320b04b73",
       "version_major": 2,
       "version_minor": 0
      },
      "text/plain": [
       "  0%|          | 0/6 [00:00<?, ?it/s]"
      ]
     },
     "metadata": {},
     "output_type": "display_data"
    },
    {
     "data": {
      "application/vnd.jupyter.widget-view+json": {
       "model_id": "007ce9b33624439d8b298af7a29c7340",
       "version_major": 2,
       "version_minor": 0
      },
      "text/plain": [
       "  0%|          | 0/6 [00:00<?, ?it/s]"
      ]
     },
     "metadata": {},
     "output_type": "display_data"
    },
    {
     "data": {
      "application/vnd.jupyter.widget-view+json": {
       "model_id": "e343ab776bce47319dcc757000f25dbd",
       "version_major": 2,
       "version_minor": 0
      },
      "text/plain": [
       "  0%|          | 0/6 [00:00<?, ?it/s]"
      ]
     },
     "metadata": {},
     "output_type": "display_data"
    },
    {
     "data": {
      "application/vnd.jupyter.widget-view+json": {
       "model_id": "b78f77714e804f46b1f93d58d6f22903",
       "version_major": 2,
       "version_minor": 0
      },
      "text/plain": [
       "  0%|          | 0/5 [00:00<?, ?it/s]"
      ]
     },
     "metadata": {},
     "output_type": "display_data"
    },
    {
     "data": {
      "application/vnd.jupyter.widget-view+json": {
       "model_id": "93ae886fc51a41d3bc52059e59b9d7bd",
       "version_major": 2,
       "version_minor": 0
      },
      "text/plain": [
       "  0%|          | 0/3 [00:00<?, ?it/s]"
      ]
     },
     "metadata": {},
     "output_type": "display_data"
    },
    {
     "data": {
      "application/vnd.jupyter.widget-view+json": {
       "model_id": "db225d60136644689187d3b6dcfd29df",
       "version_major": 2,
       "version_minor": 0
      },
      "text/plain": [
       "  0%|          | 0/6 [00:00<?, ?it/s]"
      ]
     },
     "metadata": {},
     "output_type": "display_data"
    },
    {
     "data": {
      "application/vnd.jupyter.widget-view+json": {
       "model_id": "0195e9a20ae643aeb0f835e07500dbf4",
       "version_major": 2,
       "version_minor": 0
      },
      "text/plain": [
       "  0%|          | 0/6 [00:00<?, ?it/s]"
      ]
     },
     "metadata": {},
     "output_type": "display_data"
    },
    {
     "data": {
      "application/vnd.jupyter.widget-view+json": {
       "model_id": "33e6905f60da48f48149c712985f9795",
       "version_major": 2,
       "version_minor": 0
      },
      "text/plain": [
       "  0%|          | 0/6 [00:00<?, ?it/s]"
      ]
     },
     "metadata": {},
     "output_type": "display_data"
    },
    {
     "data": {
      "application/vnd.jupyter.widget-view+json": {
       "model_id": "ce2a691ef77a4a55ae55a03abb08f024",
       "version_major": 2,
       "version_minor": 0
      },
      "text/plain": [
       "  0%|          | 0/2 [00:00<?, ?it/s]"
      ]
     },
     "metadata": {},
     "output_type": "display_data"
    },
    {
     "data": {
      "application/vnd.jupyter.widget-view+json": {
       "model_id": "28c727312ecb468d9e7c17ce4990df67",
       "version_major": 2,
       "version_minor": 0
      },
      "text/plain": [
       "  0%|          | 0/3 [00:00<?, ?it/s]"
      ]
     },
     "metadata": {},
     "output_type": "display_data"
    },
    {
     "data": {
      "application/vnd.jupyter.widget-view+json": {
       "model_id": "a889bc5e2d7d4a698557ab2b3d9a24a8",
       "version_major": 2,
       "version_minor": 0
      },
      "text/plain": [
       "  0%|          | 0/6 [00:00<?, ?it/s]"
      ]
     },
     "metadata": {},
     "output_type": "display_data"
    },
    {
     "data": {
      "application/vnd.jupyter.widget-view+json": {
       "model_id": "4bd7be9761df4b54be217e20c47a47cd",
       "version_major": 2,
       "version_minor": 0
      },
      "text/plain": [
       "  0%|          | 0/4 [00:00<?, ?it/s]"
      ]
     },
     "metadata": {},
     "output_type": "display_data"
    },
    {
     "data": {
      "application/vnd.jupyter.widget-view+json": {
       "model_id": "ddc9c87525d24848ad8842711088a96a",
       "version_major": 2,
       "version_minor": 0
      },
      "text/plain": [
       "  0%|          | 0/6 [00:00<?, ?it/s]"
      ]
     },
     "metadata": {},
     "output_type": "display_data"
    },
    {
     "data": {
      "application/vnd.jupyter.widget-view+json": {
       "model_id": "d2a6644f5c5c410fb6cde8d9fca2eab6",
       "version_major": 2,
       "version_minor": 0
      },
      "text/plain": [
       "  0%|          | 0/6 [00:00<?, ?it/s]"
      ]
     },
     "metadata": {},
     "output_type": "display_data"
    },
    {
     "data": {
      "application/vnd.jupyter.widget-view+json": {
       "model_id": "c62a8d1577244849bd72af1a85e3a89d",
       "version_major": 2,
       "version_minor": 0
      },
      "text/plain": [
       "  0%|          | 0/6 [00:00<?, ?it/s]"
      ]
     },
     "metadata": {},
     "output_type": "display_data"
    },
    {
     "data": {
      "application/vnd.jupyter.widget-view+json": {
       "model_id": "ecd0337f953d42fe90cc5ea335e7e884",
       "version_major": 2,
       "version_minor": 0
      },
      "text/plain": [
       "  0%|          | 0/6 [00:00<?, ?it/s]"
      ]
     },
     "metadata": {},
     "output_type": "display_data"
    },
    {
     "data": {
      "application/vnd.jupyter.widget-view+json": {
       "model_id": "d11c2f70827047899ad98d893d8e2ac3",
       "version_major": 2,
       "version_minor": 0
      },
      "text/plain": [
       "  0%|          | 0/6 [00:00<?, ?it/s]"
      ]
     },
     "metadata": {},
     "output_type": "display_data"
    },
    {
     "data": {
      "application/vnd.jupyter.widget-view+json": {
       "model_id": "4ff420f2e4874c168691194306e57fd1",
       "version_major": 2,
       "version_minor": 0
      },
      "text/plain": [
       "  0%|          | 0/6 [00:00<?, ?it/s]"
      ]
     },
     "metadata": {},
     "output_type": "display_data"
    },
    {
     "data": {
      "application/vnd.jupyter.widget-view+json": {
       "model_id": "9022692e496b40f48adb814ff1dbc86f",
       "version_major": 2,
       "version_minor": 0
      },
      "text/plain": [
       "  0%|          | 0/6 [00:00<?, ?it/s]"
      ]
     },
     "metadata": {},
     "output_type": "display_data"
    },
    {
     "data": {
      "application/vnd.jupyter.widget-view+json": {
       "model_id": "5819ded8224b4a1cb745ce955c9a1bb6",
       "version_major": 2,
       "version_minor": 0
      },
      "text/plain": [
       "  0%|          | 0/6 [00:00<?, ?it/s]"
      ]
     },
     "metadata": {},
     "output_type": "display_data"
    },
    {
     "data": {
      "application/vnd.jupyter.widget-view+json": {
       "model_id": "ef1bf600b3914d2d9c54de385392adfb",
       "version_major": 2,
       "version_minor": 0
      },
      "text/plain": [
       "  0%|          | 0/4 [00:00<?, ?it/s]"
      ]
     },
     "metadata": {},
     "output_type": "display_data"
    },
    {
     "data": {
      "application/vnd.jupyter.widget-view+json": {
       "model_id": "08f3a31b9bef435c9b260fe2aa062523",
       "version_major": 2,
       "version_minor": 0
      },
      "text/plain": [
       "  0%|          | 0/6 [00:00<?, ?it/s]"
      ]
     },
     "metadata": {},
     "output_type": "display_data"
    },
    {
     "data": {
      "application/vnd.jupyter.widget-view+json": {
       "model_id": "2088fb491fc54a8c8f7f8630267bdecc",
       "version_major": 2,
       "version_minor": 0
      },
      "text/plain": [
       "  0%|          | 0/6 [00:00<?, ?it/s]"
      ]
     },
     "metadata": {},
     "output_type": "display_data"
    },
    {
     "data": {
      "application/vnd.jupyter.widget-view+json": {
       "model_id": "b73f8af07d134642b43e765f999a32fb",
       "version_major": 2,
       "version_minor": 0
      },
      "text/plain": [
       "  0%|          | 0/6 [00:00<?, ?it/s]"
      ]
     },
     "metadata": {},
     "output_type": "display_data"
    },
    {
     "data": {
      "application/vnd.jupyter.widget-view+json": {
       "model_id": "f1dba8ebb7bc4339bfee92ae617296f0",
       "version_major": 2,
       "version_minor": 0
      },
      "text/plain": [
       "  0%|          | 0/6 [00:00<?, ?it/s]"
      ]
     },
     "metadata": {},
     "output_type": "display_data"
    },
    {
     "data": {
      "application/vnd.jupyter.widget-view+json": {
       "model_id": "50f6cfd5b38b4be385651d24ac87f9d8",
       "version_major": 2,
       "version_minor": 0
      },
      "text/plain": [
       "  0%|          | 0/6 [00:00<?, ?it/s]"
      ]
     },
     "metadata": {},
     "output_type": "display_data"
    },
    {
     "data": {
      "application/vnd.jupyter.widget-view+json": {
       "model_id": "e48008454d074c7086f8e934dafd3f6a",
       "version_major": 2,
       "version_minor": 0
      },
      "text/plain": [
       "  0%|          | 0/6 [00:00<?, ?it/s]"
      ]
     },
     "metadata": {},
     "output_type": "display_data"
    },
    {
     "data": {
      "application/vnd.jupyter.widget-view+json": {
       "model_id": "7e4dc0ca21814fd0847123905659f85a",
       "version_major": 2,
       "version_minor": 0
      },
      "text/plain": [
       "  0%|          | 0/6 [00:00<?, ?it/s]"
      ]
     },
     "metadata": {},
     "output_type": "display_data"
    },
    {
     "data": {
      "application/vnd.jupyter.widget-view+json": {
       "model_id": "1057dd06c1414e45b5c8b759cf42cd8b",
       "version_major": 2,
       "version_minor": 0
      },
      "text/plain": [
       "  0%|          | 0/6 [00:00<?, ?it/s]"
      ]
     },
     "metadata": {},
     "output_type": "display_data"
    },
    {
     "data": {
      "application/vnd.jupyter.widget-view+json": {
       "model_id": "e638a78a3e4948b6aaf0186ecb6dc692",
       "version_major": 2,
       "version_minor": 0
      },
      "text/plain": [
       "  0%|          | 0/6 [00:00<?, ?it/s]"
      ]
     },
     "metadata": {},
     "output_type": "display_data"
    },
    {
     "data": {
      "application/vnd.jupyter.widget-view+json": {
       "model_id": "ee21c6812ec942f4a33a01222baa376d",
       "version_major": 2,
       "version_minor": 0
      },
      "text/plain": [
       "  0%|          | 0/6 [00:00<?, ?it/s]"
      ]
     },
     "metadata": {},
     "output_type": "display_data"
    },
    {
     "data": {
      "application/vnd.jupyter.widget-view+json": {
       "model_id": "bfe444bfbb2741d7a192d992e04f5d8c",
       "version_major": 2,
       "version_minor": 0
      },
      "text/plain": [
       "  0%|          | 0/6 [00:00<?, ?it/s]"
      ]
     },
     "metadata": {},
     "output_type": "display_data"
    },
    {
     "data": {
      "application/vnd.jupyter.widget-view+json": {
       "model_id": "7a6b71960cdb48a98769462ab9fe98b2",
       "version_major": 2,
       "version_minor": 0
      },
      "text/plain": [
       "  0%|          | 0/6 [00:00<?, ?it/s]"
      ]
     },
     "metadata": {},
     "output_type": "display_data"
    },
    {
     "data": {
      "application/vnd.jupyter.widget-view+json": {
       "model_id": "d7b21f31234f4603a192b0adb8d3cbd1",
       "version_major": 2,
       "version_minor": 0
      },
      "text/plain": [
       "  0%|          | 0/6 [00:00<?, ?it/s]"
      ]
     },
     "metadata": {},
     "output_type": "display_data"
    },
    {
     "data": {
      "application/vnd.jupyter.widget-view+json": {
       "model_id": "f3ff8917987e42eda6b3e716322972db",
       "version_major": 2,
       "version_minor": 0
      },
      "text/plain": [
       "  0%|          | 0/6 [00:00<?, ?it/s]"
      ]
     },
     "metadata": {},
     "output_type": "display_data"
    },
    {
     "data": {
      "application/vnd.jupyter.widget-view+json": {
       "model_id": "fec9d79302514370b2fbee0379dcbd97",
       "version_major": 2,
       "version_minor": 0
      },
      "text/plain": [
       "  0%|          | 0/6 [00:00<?, ?it/s]"
      ]
     },
     "metadata": {},
     "output_type": "display_data"
    },
    {
     "data": {
      "application/vnd.jupyter.widget-view+json": {
       "model_id": "4c4ee082a85d496ba078837c02a3495f",
       "version_major": 2,
       "version_minor": 0
      },
      "text/plain": [
       "  0%|          | 0/6 [00:00<?, ?it/s]"
      ]
     },
     "metadata": {},
     "output_type": "display_data"
    },
    {
     "data": {
      "application/vnd.jupyter.widget-view+json": {
       "model_id": "3095d47e2b7941f0aff261fa1e83b242",
       "version_major": 2,
       "version_minor": 0
      },
      "text/plain": [
       "  0%|          | 0/6 [00:00<?, ?it/s]"
      ]
     },
     "metadata": {},
     "output_type": "display_data"
    }
   ],
   "source": [
    "'''Collect Speed Tuning Stability over Trials\n",
    "\n",
    "Run time: 5-15 seconds / session\n",
    "\n",
    "'''\n",
    "# set up arrays for plotting by session \n",
    "strialstabscore99 = []\n",
    "strialstabscore1 = []\n",
    "strialstabscoreint99 = []\n",
    "strialstabscoregrid99 = []\n",
    "dt = 0.02\n",
    "\n",
    "for m, session in zip(mice,sessions):\n",
    "    m_cells = []\n",
    "    m_99 = []\n",
    "    m_1 = []\n",
    "    \n",
    "    for s in tdqm(session):\n",
    "        d = data[m][s]\n",
    "    \n",
    "        #get file names & load data necessary\n",
    "        rawdata_file = 'RAW_' + m + '_' + s + '.npy'\n",
    "        spikes_file = 'SPIKES_' + m + '_' + s +'.npy'\n",
    "        behavior_file = 'BEHAVIOR_' + m + '_' + s + '.npy'\n",
    "        A_file = 'A_' + m + '_' + s + '.npy'\n",
    "\n",
    "        raw = np.load(load_folder + rawdata_file, allow_pickle=True)\n",
    "        behaviorfil = np.load(load_folder + behavior_file, allow_pickle=False)\n",
    "        \n",
    "        A = np.load(fig6_folder + A_file)\n",
    "        speed = behaviorfil[:,1]\n",
    "        trial = behaviorfil[:,2]\n",
    "       \n",
    "        #get dict-stored data\n",
    "        cell_IDs = raw.item().get('cellsfil')\n",
    "        speedonly99 = d['speedonly99']\n",
    "        speedonly1 = d['speedonly1']\n",
    "        speedint99 = d['speedint99']\n",
    "        speedgrid99 = d['speedgrid99']\n",
    "        \n",
    "        speedonlycells99 = cell_IDs[speedonly99 == 1] # + speed only \n",
    "        speedonlycells1 = cell_IDs[speedonly1 == 1] # - speed only\n",
    "        speedints99 = cell_IDs[speedint99 == 1] # speed grid cells\n",
    "        speedgrids99 = cell_IDs[speedgrid99 == 1] # speed grid cells\n",
    "        \n",
    "        #get spike-weighted average of speed score by trial for each speed cell population\n",
    "        bytrialspeedstabilityscores99 = []          \n",
    "        for i, c in enumerate(speedonlycells99):\n",
    "            sdx = (np.where(cell_IDs==c)[0][0]).astype(int)\n",
    "            \n",
    "            weightscore = []\n",
    "            for j, t in enumerate(np.unique(trial)):\n",
    "                trialidx = np.where(trial == t)[0].astype(int)\n",
    "                trialscore, _ = stats.pearsonr(speed[trialidx], A[trialidx,sdx])\n",
    "                weightscore = np.append(weightscore, trialscore * np.sum(A[trialidx,sdx]))   \n",
    "            bytrialspeedstabilityscores99 = np.append(bytrialspeedstabilityscores99, np.nansum(weightscore) / np.sum(A[:,sdx]))\n",
    "            \n",
    "        bytrialspeedstabilityscores1 = []\n",
    "        for i, c in enumerate(speedonlycells1):\n",
    "            sdx = (np.where(cell_IDs==c)[0][0]).astype(int)\n",
    "            \n",
    "            weightscore = []\n",
    "            for j, t in enumerate(np.unique(trial)):\n",
    "                trialidx = np.where(trial == t)[0].astype(int)\n",
    "                trialscore, _ = stats.pearsonr(speed[trialidx], A[trialidx,sdx])\n",
    "                weightscore = np.append(weightscore, trialscore * np.sum(A[trialidx,sdx]))\n",
    "        \n",
    "            bytrialspeedstabilityscores1 = np.append(bytrialspeedstabilityscores1, np.nansum(weightscore) / np.sum(A[:,sdx]))\n",
    "\n",
    "        bytrialspeedstabilityscoresint99 = []          \n",
    "        for i, c in enumerate(speedints99):\n",
    "            sdx = (np.where(cell_IDs==c)[0][0]).astype(int)\n",
    "            \n",
    "            weightscore = []\n",
    "            for j, t in enumerate(np.unique(trial)):\n",
    "                trialidx = np.where(trial == t)[0].astype(int)\n",
    "                trialscore, _ = stats.pearsonr(speed[trialidx], A[trialidx,sdx])\n",
    "                weightscore = np.append(weightscore, trialscore * np.sum(A[trialidx,sdx]))   \n",
    "            bytrialspeedstabilityscoresint99 = np.append(bytrialspeedstabilityscoresint99, np.nansum(weightscore) / np.sum(A[:,sdx]))\n",
    "            \n",
    "        bytrialspeedstabilityscoresgrid99 = []\n",
    "        for i, c in enumerate(speedgrids99):\n",
    "            sdx = (np.where(cell_IDs==c)[0][0]).astype(int)\n",
    "            \n",
    "            weightscore = []\n",
    "            for j, t in enumerate(np.unique(trial)):\n",
    "                trialidx = np.where(trial == t)[0].astype(int)\n",
    "                trialscore, _ = stats.pearsonr(speed[trialidx], A[trialidx,sdx])\n",
    "                weightscore = np.append(weightscore, trialscore * np.sum(A[trialidx,sdx]))\n",
    "        \n",
    "            bytrialspeedstabilityscoresgrid99 = np.append(bytrialspeedstabilityscoresgrid99, np.nansum(weightscore) / np.sum(A[:,sdx]))\n",
    "        \n",
    "        #pool data into session arrays    \n",
    "        strialstabscore99 = np.append(strialstabscore99, np.mean(bytrialspeedstabilityscores99))\n",
    "        strialstabscore1 = np.append(strialstabscore1, np.mean(bytrialspeedstabilityscores1))\n",
    "        strialstabscoreint99 = np.append(strialstabscoreint99, np.mean(bytrialspeedstabilityscoresint99))\n",
    "        strialstabscoregrid99 = np.append(strialstabscoregrid99, np.mean(bytrialspeedstabilityscoresgrid99))"
   ]
  },
  {
   "cell_type": "code",
   "execution_count": 41,
   "id": "10cb431b",
   "metadata": {},
   "outputs": [
    {
     "data": {
      "image/png": "[encoded data removed]",
      "text/plain": [
       "<Figure size 175x150 with 1 Axes>"
      ]
     },
     "metadata": {},
     "output_type": "display_data"
    },
    {
     "data": {
      "image/png": "[encoded data removed]",
      "text/plain": [
       "<Figure size 175x150 with 1 Axes>"
      ]
     },
     "metadata": {},
     "output_type": "display_data"
    },
    {
     "data": {
      "image/png": "[encoded data removed]",
      "text/plain": [
       "<Figure size 175x150 with 1 Axes>"
      ]
     },
     "metadata": {},
     "output_type": "display_data"
    },
    {
     "data": {
      "image/png": "[encoded data removed]",
      "text/plain": [
       "<Figure size 175x150 with 1 Axes>"
      ]
     },
     "metadata": {},
     "output_type": "display_data"
    }
   ],
   "source": [
    "''' Plot Figure S6G '''\n",
    "\n",
    "#Plot Figure S6G (first)\n",
    "fig, ax = plt.subplots(figsize = (1.75,1.5))\n",
    "strialstabscore = [strialstabscore99[y_sind99], strialstabscore99[ma_sind99], strialstabscore99[age_sind99]]\n",
    "labels = ['Young','MA','Aged']\n",
    "w = 0.5\n",
    "plt.boxplot(strialstabscore, widths = w, labels = labels, medianprops = dict(color = 'black'))\n",
    "\n",
    "for i in range(len(strialstabscore)):\n",
    "    y = strialstabscore[i]\n",
    "    x = np.random.normal(i + 1, 0.04, len(y))\n",
    "    plt.scatter(x, y, color = col_session99[i], edgecolors = col_session99[i], s = 10)\n",
    "            \n",
    "#ax.legend(ncol = 3, handles = handles, labels = label_mice, loc = 'upper right',bbox_to_anchor=(1.8, 1))\n",
    "ax.set_title('+ Speed Only', fontsize=10, pad=5)\n",
    "ax.set_xlabel('Age', fontsize=9, labelpad=1)\n",
    "ax.set_ylabel('Mean Trial Stability Speed Score', fontsize = 9, labelpad=1)\n",
    "ax.tick_params(labelsize = 8)\n",
    "ax.set_ylim([0,0.6])\n",
    "ax.set_yticks([0,0.2,0.4,0.6])\n",
    "plt.savefig(save_folder + 'S6Gfirst.png', dpi=400, bbox_inches='tight')\n",
    "plt.savefig(save_folder + 'S6Gfirst.svg', dpi=400, bbox_inches='tight')\n",
    "plt.show()\n",
    "\n",
    "#Plot Figure S6G (second)\n",
    "fig, ax = plt.subplots(figsize = (1.75,1.5))\n",
    "strialstabscore = [strialstabscore1[y_sind1], strialstabscore1[ma_sind1], strialstabscore1[age_sind1]]\n",
    "labels = ['Young','MA','Aged']\n",
    "w = 0.5\n",
    "plt.boxplot(strialstabscore, widths = w, labels = labels, medianprops = dict(color = 'black'))\n",
    "\n",
    "for i in range(len(strialstabscore)):\n",
    "    y = strialstabscore[i]\n",
    "    x = np.random.normal(i + 1, 0.04, len(y))\n",
    "    plt.scatter(x, y, color = col_session1[i], edgecolors = col_session1[i], s = 10)\n",
    "            \n",
    "#ax.legend(ncol = 3, handles = handles, labels = label_mice, loc = 'upper right',bbox_to_anchor=(1.8, 1))\n",
    "ax.set_title('- Speed Only', fontsize=10, pad=5)\n",
    "ax.set_xlabel('Age', fontsize=9, labelpad=1)\n",
    "ax.set_ylabel('Mean Trial Stability Speed Score', fontsize = 9, labelpad=1)\n",
    "ax.tick_params(labelsize = 8)\n",
    "ax.set_ylim([-0.8,0.2])\n",
    "ax.set_yticks([-0.8,-0.6,-0.4,-0.2,0.0,0.2])\n",
    "plt.savefig(save_folder + 'S6Gsecond.png', dpi=400, bbox_inches='tight')\n",
    "plt.savefig(save_folder + 'S6Gsecond.svg', dpi=400, bbox_inches='tight')\n",
    "plt.show()\n",
    "\n",
    "#Plot Figure S6G (third)\n",
    "fig, ax = plt.subplots(figsize = (1.75,1.5))\n",
    "strialstabscore = [strialstabscoreint99[y_sindint], strialstabscoreint99[ma_sindint], strialstabscoreint99[age_sindint]]\n",
    "labels = ['Young','MA','Aged']\n",
    "w = 0.5\n",
    "plt.boxplot(strialstabscore, widths = w, labels = labels, medianprops = dict(color = 'black'))\n",
    "\n",
    "for i in range(len(strialstabscore)):\n",
    "    y = strialstabscore[i]\n",
    "    x = np.random.normal(i + 1, 0.04, len(y))\n",
    "    plt.scatter(x, y, color = col_sessionint[i], edgecolors = col_sessionint[i], s = 10)\n",
    "            \n",
    "#ax.legend(ncol = 3, handles = handles, labels = label_mice, loc = 'upper right',bbox_to_anchor=(1.8, 1))\n",
    "ax.set_title('+ IN Speed', fontsize=10, pad=5)\n",
    "ax.set_xlabel('Age', fontsize=9, labelpad=1)\n",
    "ax.set_ylabel('Mean Trial Stability Speed Score', fontsize = 9, labelpad=1)\n",
    "ax.tick_params(labelsize = 8)\n",
    "ax.set_ylim([0,0.6])\n",
    "ax.set_yticks([0,0.2,0.4,0.6])\n",
    "plt.savefig(save_folder + 'S6Gthird.png', dpi=400, bbox_inches='tight')\n",
    "plt.savefig(save_folder + 'S6Gthird.svg', dpi=400, bbox_inches='tight')\n",
    "plt.show()\n",
    "\n",
    "#Plot Figure S6G (fourth)\n",
    "fig, ax = plt.subplots(figsize = (1.75,1.5))\n",
    "strialstabscore = [strialstabscoregrid99[y_sindgrid99], strialstabscoregrid99[ma_sindgrid99], strialstabscoregrid99[age_sindgrid99]]\n",
    "labels = ['Young','MA','Aged']\n",
    "w = 0.5\n",
    "plt.boxplot(strialstabscore, widths = w, labels = labels, medianprops = dict(color = 'black'))\n",
    "\n",
    "for i in range(len(strialstabscore)):\n",
    "    y = strialstabscore[i]\n",
    "    x = np.random.normal(i + 1, 0.04, len(y))\n",
    "    plt.scatter(x, y, color = col_sessiongrid99[i], edgecolors = col_sessiongrid99[i], s = 10)\n",
    "            \n",
    "#ax.legend(ncol = 3, handles = handles, labels = label_mice, loc = 'upper right',bbox_to_anchor=(1.8, 1))\n",
    "ax.set_title('+ Grid Speed', fontsize=10, pad=5)\n",
    "ax.set_xlabel('Age', fontsize=9, labelpad=1)\n",
    "ax.set_ylabel('Mean Trial Stability Speed Score', fontsize = 9, labelpad=1)\n",
    "ax.tick_params(labelsize = 8)\n",
    "ax.set_ylim([0,0.5])\n",
    "ax.set_yticks([0,0.1,0.2,0.3,0.4,0.5])\n",
    "plt.savefig(save_folder + 'S6Gfourth.png', dpi=400, bbox_inches='tight')\n",
    "plt.savefig(save_folder + 'S6Gfourth.svg', dpi=400, bbox_inches='tight')\n",
    "plt.show()"
   ]
  },
  {
   "cell_type": "code",
   "execution_count": 42,
   "id": "979b06a7",
   "metadata": {},
   "outputs": [
    {
     "name": "stdout",
     "output_type": "stream",
     "text": [
      "n young, MA, aged sessions with + speed only cells: \n",
      "88 56 94\n",
      "\n",
      "+ Speed Only Cell Slope Results:\n",
      "scoreyoung ± SEM; score_MA ± SEM; score_old ± SEM\n",
      "0.1945 ± 0.0085 ; 0.2269 ± 0.0116 ; 0.1739 ± 0.0067\n",
      "KW stat = 14.322619459962425\n",
      "p_session = 0.0007760374877581466\n"
     ]
    },
    {
     "data": {
      "text/html": [
       "<div>\n",
       "<style scoped>\n",
       "    .dataframe tbody tr th:only-of-type {\n",
       "        vertical-align: middle;\n",
       "    }\n",
       "\n",
       "    .dataframe tbody tr th {\n",
       "        vertical-align: top;\n",
       "    }\n",
       "\n",
       "    .dataframe thead th {\n",
       "        text-align: right;\n",
       "    }\n",
       "</style>\n",
       "<table border=\"1\" class=\"dataframe\">\n",
       "  <thead>\n",
       "    <tr style=\"text-align: right;\">\n",
       "      <th></th>\n",
       "      <th>1.0</th>\n",
       "      <th>2.0</th>\n",
       "      <th>3.0</th>\n",
       "    </tr>\n",
       "  </thead>\n",
       "  <tbody>\n",
       "    <tr>\n",
       "      <th>1.0</th>\n",
       "      <td>1.000000</td>\n",
       "      <td>0.053527</td>\n",
       "      <td>0.065762</td>\n",
       "    </tr>\n",
       "    <tr>\n",
       "      <th>2.0</th>\n",
       "      <td>0.053527</td>\n",
       "      <td>1.000000</td>\n",
       "      <td>0.000405</td>\n",
       "    </tr>\n",
       "    <tr>\n",
       "      <th>3.0</th>\n",
       "      <td>0.065762</td>\n",
       "      <td>0.000405</td>\n",
       "      <td>1.000000</td>\n",
       "    </tr>\n",
       "  </tbody>\n",
       "</table>\n",
       "</div>"
      ],
      "text/plain": [
       "          1.0       2.0       3.0\n",
       "1.0  1.000000  0.053527  0.065762\n",
       "2.0  0.053527  1.000000  0.000405\n",
       "3.0  0.065762  0.000405  1.000000"
      ]
     },
     "execution_count": 42,
     "metadata": {},
     "output_type": "execute_result"
    }
   ],
   "source": [
    "'''Speed Cell Trial Stability Score Statistics with Multiple Comparisons by Session'''\n",
    "\n",
    "print('n young, MA, aged sessions with + speed only cells: ')\n",
    "print(len(y_sind99),len(ma_sind99),len(age_sind99))\n",
    "\n",
    "print('\\n+ Speed Only Cell Slope Results:')\n",
    "print('scoreyoung ± SEM; score_MA ± SEM; score_old ± SEM')\n",
    "print(str(np.round(np.mean(strialstabscore99[y_sind99]), 4)) + ' ± ' + str(np.round(stats.sem(strialstabscore99[y_sind99]), 4)) + ' ; ' \n",
    "      + str(np.round(np.mean(strialstabscore99[ma_sind99]), 4)) + ' ± ' + str(np.round(stats.sem(strialstabscore99[ma_sind99]), 4)) + ' ; ' \n",
    "      + str(np.round(np.mean(strialstabscore99[age_sind99]), 4)) + ' ± ' + str(np.round(stats.sem(strialstabscore99[age_sind99]), 4)))\n",
    "stat, p_diff = stats.kruskal(strialstabscore99[y_sind99],strialstabscore99[ma_sind99],strialstabscore99[age_sind99])\n",
    "print('KW stat = ' + str(stat))\n",
    "print('p_session = ' + str(p_diff))\n",
    "\n",
    "# Collect all relevant data into pandas dataframe\n",
    "allidx = np.concatenate((y_sind99,ma_sind99,age_sind99))\n",
    "Animal_ID = list(seshmice[allidx])\n",
    "Session = list(seshcount[allidx])\n",
    "Age_Group = list(seshage[allidx])\n",
    "Scoreneg = list(strialstabscore1[allidx])\n",
    "Scorepos = list(strialstabscore99[allidx])\n",
    "Scoreintpos = list(strialstabscoreint99[allidx])\n",
    "Scoregridpos = list(strialstabscoregrid99[allidx])\n",
    "\n",
    "tuples = list(zip(Animal_ID, Session, Age_Group, Scoreneg, Scorepos, Scoreintpos, Scoregridpos))\n",
    "tuples\n",
    "\n",
    "df = pd.DataFrame(tuples, columns = ['AnimalID', 'Session', 'AgeGroup','trialstabscoreneg','trialstabscorepos','trialstabscoreintpos','trialstabscoregridpos'])\n",
    "\n",
    "#run post hoc tests\n",
    "ph.posthoc_conover(df, val_col = 'trialstabscorepos', group_col = 'AgeGroup', p_adjust = 'holm')"
   ]
  },
  {
   "cell_type": "code",
   "execution_count": 43,
   "id": "c6b43977",
   "metadata": {},
   "outputs": [
    {
     "name": "stdout",
     "output_type": "stream",
     "text": [
      "n young, MA, aged sessions with - speed only cells: \n",
      "89 51 92\n",
      "\n",
      "- Speed Only Cell Score Results:\n",
      "score_young ± SEM; score_MA ± SEM; score_old ± SEM\n",
      "-0.2127 ± 0.0121 ; -0.2104 ± 0.0115 ; -0.2081 ± 0.0116\n",
      "KW stat = 1.0949447759448958\n",
      "p_session = 0.5784099602292718\n"
     ]
    },
    {
     "data": {
      "text/html": [
       "<div>\n",
       "<style scoped>\n",
       "    .dataframe tbody tr th:only-of-type {\n",
       "        vertical-align: middle;\n",
       "    }\n",
       "\n",
       "    .dataframe tbody tr th {\n",
       "        vertical-align: top;\n",
       "    }\n",
       "\n",
       "    .dataframe thead th {\n",
       "        text-align: right;\n",
       "    }\n",
       "</style>\n",
       "<table border=\"1\" class=\"dataframe\">\n",
       "  <thead>\n",
       "    <tr style=\"text-align: right;\">\n",
       "      <th></th>\n",
       "      <th>1.0</th>\n",
       "      <th>2.0</th>\n",
       "      <th>3.0</th>\n",
       "    </tr>\n",
       "  </thead>\n",
       "  <tbody>\n",
       "    <tr>\n",
       "      <th>1.0</th>\n",
       "      <td>1.000000</td>\n",
       "      <td>0.991875</td>\n",
       "      <td>0.991875</td>\n",
       "    </tr>\n",
       "    <tr>\n",
       "      <th>2.0</th>\n",
       "      <td>0.991875</td>\n",
       "      <td>1.000000</td>\n",
       "      <td>0.949591</td>\n",
       "    </tr>\n",
       "    <tr>\n",
       "      <th>3.0</th>\n",
       "      <td>0.991875</td>\n",
       "      <td>0.949591</td>\n",
       "      <td>1.000000</td>\n",
       "    </tr>\n",
       "  </tbody>\n",
       "</table>\n",
       "</div>"
      ],
      "text/plain": [
       "          1.0       2.0       3.0\n",
       "1.0  1.000000  0.991875  0.991875\n",
       "2.0  0.991875  1.000000  0.949591\n",
       "3.0  0.991875  0.949591  1.000000"
      ]
     },
     "execution_count": 43,
     "metadata": {},
     "output_type": "execute_result"
    }
   ],
   "source": [
    "print('n young, MA, aged sessions with - speed only cells: ')\n",
    "print(len(y_sind1),len(ma_sind1),len(age_sind1))\n",
    "\n",
    "print('\\n- Speed Only Cell Score Results:')\n",
    "print('score_young ± SEM; score_MA ± SEM; score_old ± SEM')\n",
    "print(str(np.round(np.mean(strialstabscore1[y_sind1]), 4)) + ' ± ' + str(np.round(stats.sem(strialstabscore1[y_sind1]), 4)) + ' ; ' \n",
    "      + str(np.round(np.mean(strialstabscore1[ma_sind1]), 4)) + ' ± ' + str(np.round(stats.sem(strialstabscore1[ma_sind1]), 4)) + ' ; ' \n",
    "      + str(np.round(np.mean(strialstabscore1[age_sind1]), 4)) + ' ± ' + str(np.round(stats.sem(strialstabscore1[age_sind1]), 4)))\n",
    "()\n",
    "stat, p_diff = stats.kruskal(strialstabscore1[y_sind1],strialstabscore1[ma_sind1],strialstabscore1[age_sind1])\n",
    "print('KW stat = ' + str(stat))\n",
    "print('p_session = ' + str(p_diff))\n",
    "\n",
    "# Collect all relevant data into pandas dataframe\n",
    "allidx = np.concatenate((y_sind1,ma_sind1,age_sind1))\n",
    "Animal_ID = list(seshmice[allidx])\n",
    "Session = list(seshcount[allidx])\n",
    "Age_Group = list(seshage[allidx])\n",
    "Scoreneg = list(strialstabscore1[allidx])\n",
    "Scorepos = list(strialstabscore99[allidx])\n",
    "Scoreintpos = list(strialstabscoreint99[allidx])\n",
    "Scoregridpos = list(strialstabscoregrid99[allidx])\n",
    "\n",
    "tuples = list(zip(Animal_ID, Session, Age_Group, Scoreneg,Scorepos,Scoreintpos,Scoregridpos))\n",
    "tuples\n",
    "\n",
    "df = pd.DataFrame(tuples, columns = ['AnimalID', 'Session', 'AgeGroup','trialstabscoreneg','trialstabscorepos','trialstabscoreintpos','trialstabscoregridpos'])\n",
    "\n",
    "#run post hoc tests\n",
    "ph.posthoc_conover(df, val_col = 'trialstabscoreneg', group_col = 'AgeGroup', p_adjust = 'holm')"
   ]
  },
  {
   "cell_type": "code",
   "execution_count": 44,
   "id": "bba57705",
   "metadata": {},
   "outputs": [
    {
     "name": "stdout",
     "output_type": "stream",
     "text": [
      "n young, MA, aged sessions with + IN speed cells: \n",
      "94 58 95\n",
      "\n",
      "+ IN Speed Cell Score Results:\n",
      "score_young ± SEM; score_MA ± SEM; score_old ± SEM\n",
      "0.2813 ± 0.0072 ; 0.3105 ± 0.0076 ; 0.2623 ± 0.0075\n",
      "KW stat = 19.479754104082758\n",
      "p_session = 5.8887774528083895e-05\n"
     ]
    },
    {
     "data": {
      "text/html": [
       "<div>\n",
       "<style scoped>\n",
       "    .dataframe tbody tr th:only-of-type {\n",
       "        vertical-align: middle;\n",
       "    }\n",
       "\n",
       "    .dataframe tbody tr th {\n",
       "        vertical-align: top;\n",
       "    }\n",
       "\n",
       "    .dataframe thead th {\n",
       "        text-align: right;\n",
       "    }\n",
       "</style>\n",
       "<table border=\"1\" class=\"dataframe\">\n",
       "  <thead>\n",
       "    <tr style=\"text-align: right;\">\n",
       "      <th></th>\n",
       "      <th>1.0</th>\n",
       "      <th>2.0</th>\n",
       "      <th>3.0</th>\n",
       "    </tr>\n",
       "  </thead>\n",
       "  <tbody>\n",
       "    <tr>\n",
       "      <th>1.0</th>\n",
       "      <td>1.000000</td>\n",
       "      <td>0.015566</td>\n",
       "      <td>0.031581</td>\n",
       "    </tr>\n",
       "    <tr>\n",
       "      <th>2.0</th>\n",
       "      <td>0.015566</td>\n",
       "      <td>1.000000</td>\n",
       "      <td>0.000023</td>\n",
       "    </tr>\n",
       "    <tr>\n",
       "      <th>3.0</th>\n",
       "      <td>0.031581</td>\n",
       "      <td>0.000023</td>\n",
       "      <td>1.000000</td>\n",
       "    </tr>\n",
       "  </tbody>\n",
       "</table>\n",
       "</div>"
      ],
      "text/plain": [
       "          1.0       2.0       3.0\n",
       "1.0  1.000000  0.015566  0.031581\n",
       "2.0  0.015566  1.000000  0.000023\n",
       "3.0  0.031581  0.000023  1.000000"
      ]
     },
     "execution_count": 44,
     "metadata": {},
     "output_type": "execute_result"
    }
   ],
   "source": [
    "print('n young, MA, aged sessions with + IN speed cells: ')\n",
    "print(len(y_sindint),len(ma_sindint),len(age_sindint))\n",
    "\n",
    "print('\\n+ IN Speed Cell Score Results:')\n",
    "print('score_young ± SEM; score_MA ± SEM; score_old ± SEM')\n",
    "print(str(np.round(np.mean(strialstabscoreint99[y_sindint]), 4)) + ' ± ' + str(np.round(stats.sem(strialstabscoreint99[y_sindint]), 4)) + ' ; ' \n",
    "      + str(np.round(np.mean(strialstabscoreint99[ma_sindint]), 4)) + ' ± ' + str(np.round(stats.sem(strialstabscoreint99[ma_sindint]), 4)) + ' ; ' \n",
    "      + str(np.round(np.mean(strialstabscoreint99[age_sindint]), 4)) + ' ± ' + str(np.round(stats.sem(strialstabscoreint99[age_sindint]), 4)))\n",
    "()\n",
    "stat, p_diff = stats.kruskal(strialstabscoreint99[y_sindint],strialstabscoreint99[ma_sindint],strialstabscoreint99[age_sindint])\n",
    "print('KW stat = ' + str(stat))\n",
    "print('p_session = ' + str(p_diff))\n",
    "\n",
    "# Collect all relevant data into pandas dataframe\n",
    "allidx = np.concatenate((y_sindint,ma_sindint,age_sindint))\n",
    "Animal_ID = list(seshmice[allidx])\n",
    "Session = list(seshcount[allidx])\n",
    "Age_Group = list(seshage[allidx])\n",
    "Scoreneg = list(strialstabscore1[allidx])\n",
    "Scorepos = list(strialstabscore99[allidx])\n",
    "Scoreintpos = list(strialstabscoreint99[allidx])\n",
    "Scoregridpos = list(strialstabscoregrid99[allidx])\n",
    "\n",
    "tuples = list(zip(Animal_ID, Session, Age_Group, Scoreneg,Scorepos,Scoreintpos,Scoregridpos))\n",
    "tuples\n",
    "\n",
    "df = pd.DataFrame(tuples, columns = ['AnimalID', 'Session', 'AgeGroup','trialstabscoreneg','trialstabscorepos','trialstabscoreintpos','trialstabscoregridpos'])\n",
    "\n",
    "#run post hoc tests\n",
    "ph.posthoc_conover(df, val_col = 'trialstabscoreintpos', group_col = 'AgeGroup', p_adjust = 'holm')"
   ]
  },
  {
   "cell_type": "code",
   "execution_count": 45,
   "id": "32214090",
   "metadata": {},
   "outputs": [
    {
     "name": "stdout",
     "output_type": "stream",
     "text": [
      "n young, MA, aged sessions with + grid speed cells: \n",
      "52 57 50\n",
      "\n",
      "+ Grid Speed Cell Score Results:\n",
      "score_young ± SEM; score_MA ± SEM; score_old ± SEM\n",
      "0.1991 ± 0.0087 ; 0.2086 ± 0.0075 ; 0.1581 ± 0.0059\n",
      "KW stat = 22.092822785374153\n",
      "p_session = 1.5944264391446835e-05\n"
     ]
    },
    {
     "data": {
      "text/html": [
       "<div>\n",
       "<style scoped>\n",
       "    .dataframe tbody tr th:only-of-type {\n",
       "        vertical-align: middle;\n",
       "    }\n",
       "\n",
       "    .dataframe tbody tr th {\n",
       "        vertical-align: top;\n",
       "    }\n",
       "\n",
       "    .dataframe thead th {\n",
       "        text-align: right;\n",
       "    }\n",
       "</style>\n",
       "<table border=\"1\" class=\"dataframe\">\n",
       "  <thead>\n",
       "    <tr style=\"text-align: right;\">\n",
       "      <th></th>\n",
       "      <th>1.0</th>\n",
       "      <th>2.0</th>\n",
       "      <th>3.0</th>\n",
       "    </tr>\n",
       "  </thead>\n",
       "  <tbody>\n",
       "    <tr>\n",
       "      <th>1.0</th>\n",
       "      <td>1.000000</td>\n",
       "      <td>0.159061</td>\n",
       "      <td>0.001436</td>\n",
       "    </tr>\n",
       "    <tr>\n",
       "      <th>2.0</th>\n",
       "      <td>0.159061</td>\n",
       "      <td>1.000000</td>\n",
       "      <td>0.000006</td>\n",
       "    </tr>\n",
       "    <tr>\n",
       "      <th>3.0</th>\n",
       "      <td>0.001436</td>\n",
       "      <td>0.000006</td>\n",
       "      <td>1.000000</td>\n",
       "    </tr>\n",
       "  </tbody>\n",
       "</table>\n",
       "</div>"
      ],
      "text/plain": [
       "          1.0       2.0       3.0\n",
       "1.0  1.000000  0.159061  0.001436\n",
       "2.0  0.159061  1.000000  0.000006\n",
       "3.0  0.001436  0.000006  1.000000"
      ]
     },
     "execution_count": 45,
     "metadata": {},
     "output_type": "execute_result"
    }
   ],
   "source": [
    "print('n young, MA, aged sessions with + grid speed cells: ')\n",
    "print(len(y_sindgrid99),len(ma_sindgrid99),len(age_sindgrid99))\n",
    "\n",
    "print('\\n+ Grid Speed Cell Score Results:')\n",
    "print('score_young ± SEM; score_MA ± SEM; score_old ± SEM')\n",
    "print(str(np.round(np.mean(strialstabscoregrid99[y_sindgrid99]), 4)) + ' ± ' + str(np.round(stats.sem(strialstabscoregrid99[y_sindgrid99]), 4)) + ' ; ' \n",
    "      + str(np.round(np.mean(strialstabscoregrid99[ma_sindgrid99]), 4)) + ' ± ' + str(np.round(stats.sem(strialstabscoregrid99[ma_sindgrid99]), 4)) + ' ; ' \n",
    "      + str(np.round(np.mean(strialstabscoregrid99[age_sindgrid99]), 4)) + ' ± ' + str(np.round(stats.sem(strialstabscoregrid99[age_sindgrid99]), 4)))\n",
    "()\n",
    "stat, p_diff = stats.kruskal(strialstabscoregrid99[y_sindgrid99],strialstabscoregrid99[ma_sindgrid99],strialstabscoregrid99[age_sindgrid99])\n",
    "print('KW stat = ' + str(stat))\n",
    "print('p_session = ' + str(p_diff))\n",
    "\n",
    "# Collect all relevant data into pandas dataframe\n",
    "allidx = np.concatenate((y_sindgrid99,ma_sindgrid99,age_sindgrid99))\n",
    "Animal_ID = list(seshmice[allidx])\n",
    "Session = list(seshcount[allidx])\n",
    "Age_Group = list(seshage[allidx])\n",
    "Scoreneg = list(strialstabscore1[allidx])\n",
    "Scorepos = list(strialstabscore99[allidx])\n",
    "Scoreintpos = list(strialstabscoreint99[allidx])\n",
    "Scoregridpos = list(strialstabscoregrid99[allidx])\n",
    "\n",
    "tuples = list(zip(Animal_ID, Session, Age_Group, Scoreneg,Scorepos,Scoreintpos,Scoregridpos))\n",
    "tuples\n",
    "\n",
    "df = pd.DataFrame(tuples, columns = ['AnimalID', 'Session', 'AgeGroup','trialstabscoreneg','trialstabscorepos','trialstabscoreintpos','trialstabscoregridpos'])\n",
    "\n",
    "#run post hoc tests\n",
    "ph.posthoc_conover(df, val_col = 'trialstabscoregridpos', group_col = 'AgeGroup', p_adjust = 'holm')"
   ]
  }
 ],
 "metadata": {
  "kernelspec": {
   "display_name": "Python 3 (ipykernel)",
   "language": "python",
   "name": "python3"
  },
  "language_info": {
   "codemirror_mode": {
    "name": "ipython",
    "version": 3
   },
   "file_extension": ".py",
   "mimetype": "text/x-python",
   "name": "python",
   "nbconvert_exporter": "python",
   "pygments_lexer": "ipython3",
   "version": "3.8.16"
  }
 },
 "nbformat": 4,
 "nbformat_minor": 5
}
