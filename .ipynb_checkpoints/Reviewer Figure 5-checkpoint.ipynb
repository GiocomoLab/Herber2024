{
 "cells": [
  {
   "cell_type": "markdown",
   "id": "99c8b2dc",
   "metadata": {},
   "source": [
    "# Setup"
   ]
  },
  {
   "cell_type": "code",
   "execution_count": 1,
   "id": "d5993e79",
   "metadata": {},
   "outputs": [],
   "source": [
    "''' magic 4u'''\n",
    "%load_ext autoreload\n",
    "%autoreload 2"
   ]
  },
  {
   "cell_type": "code",
   "execution_count": 2,
   "id": "7c0c58f5",
   "metadata": {},
   "outputs": [],
   "source": [
    "'''Get Stuff You Need'''\n",
    "import numpy as np\n",
    "import math as math\n",
    "from tqdm import tnrange\n",
    "from tqdm.notebook import tqdm as tdqm\n",
    "import matplotlib.pyplot as plt\n",
    "import matplotlib as mpl\n",
    "mpl.rcParams.update(mpl.rcParamsDefault)\n",
    "from matplotlib import gridspec\n",
    "from scipy.interpolate import interp1d\n",
    "from scipy.ndimage import gaussian_filter1d\n",
    "from scipy import stats\n",
    "import scipy.io\n",
    "import scipy.ndimage.filters as filt\n",
    "import pandas as pd\n",
    "import seaborn as sns\n",
    "\n",
    "from pipeline import get_data as get\n",
    "from pipeline import process_spikes as ps\n",
    "\n",
    "from statsmodels.tsa.stattools import acf\n",
    "from scipy.signal import find_peaks\n",
    "from itertools import combinations"
   ]
  },
  {
   "cell_type": "code",
   "execution_count": 3,
   "id": "6ac07044",
   "metadata": {},
   "outputs": [],
   "source": [
    "''' Define plotting defaults '''\n",
    "\n",
    "from matplotlib import rc \n",
    "mpl.rcParams['font.sans-serif'] = 'Arial'\n",
    "mpl.rcParams['font.family'] = 'sans-serif'\n",
    "mpl.rcParams['svg.fonttype'] = 'none'"
   ]
  },
  {
   "cell_type": "code",
   "execution_count": 4,
   "id": "2303cc50",
   "metadata": {},
   "outputs": [
    {
     "data": {
      "text/html": [
       "<div>\n",
       "<style scoped>\n",
       "    .dataframe tbody tr th:only-of-type {\n",
       "        vertical-align: middle;\n",
       "    }\n",
       "\n",
       "    .dataframe tbody tr th {\n",
       "        vertical-align: top;\n",
       "    }\n",
       "\n",
       "    .dataframe thead th {\n",
       "        text-align: right;\n",
       "    }\n",
       "</style>\n",
       "<table border=\"1\" class=\"dataframe\">\n",
       "  <thead>\n",
       "    <tr style=\"text-align: right;\">\n",
       "      <th></th>\n",
       "      <th>Animal_ID</th>\n",
       "      <th>Task</th>\n",
       "      <th>Cohort</th>\n",
       "      <th>Probe_Control</th>\n",
       "      <th>Sex</th>\n",
       "      <th>Sac_Date</th>\n",
       "      <th>Frozen_Hemisphere</th>\n",
       "      <th>DOB</th>\n",
       "      <th>Age_WholeMonth</th>\n",
       "      <th>Age_ExtraDays</th>\n",
       "      <th>Age_Month</th>\n",
       "      <th>Aged_Days</th>\n",
       "      <th>Age_Group</th>\n",
       "      <th>Behavior_Sessions</th>\n",
       "      <th>Neural_Sessions</th>\n",
       "    </tr>\n",
       "  </thead>\n",
       "  <tbody>\n",
       "    <tr>\n",
       "      <th>0</th>\n",
       "      <td>A3</td>\n",
       "      <td>RF</td>\n",
       "      <td>A</td>\n",
       "      <td>0</td>\n",
       "      <td>F</td>\n",
       "      <td>1/27/2021</td>\n",
       "      <td>R</td>\n",
       "      <td>4/23/2019</td>\n",
       "      <td>21</td>\n",
       "      <td>4</td>\n",
       "      <td>21.217</td>\n",
       "      <td>645</td>\n",
       "      <td>3</td>\n",
       "      <td>6</td>\n",
       "      <td>6</td>\n",
       "    </tr>\n",
       "    <tr>\n",
       "      <th>1</th>\n",
       "      <td>A4</td>\n",
       "      <td>RF</td>\n",
       "      <td>A</td>\n",
       "      <td>0</td>\n",
       "      <td>F</td>\n",
       "      <td>1/27/2021</td>\n",
       "      <td>R</td>\n",
       "      <td>4/23/2019</td>\n",
       "      <td>21</td>\n",
       "      <td>4</td>\n",
       "      <td>21.217</td>\n",
       "      <td>645</td>\n",
       "      <td>3</td>\n",
       "      <td>6</td>\n",
       "      <td>6</td>\n",
       "    </tr>\n",
       "    <tr>\n",
       "      <th>2</th>\n",
       "      <td>A5</td>\n",
       "      <td>RF</td>\n",
       "      <td>A</td>\n",
       "      <td>0</td>\n",
       "      <td>F</td>\n",
       "      <td>4/6/2021</td>\n",
       "      <td>L</td>\n",
       "      <td>4/23/2019</td>\n",
       "      <td>23</td>\n",
       "      <td>14</td>\n",
       "      <td>23.487</td>\n",
       "      <td>714</td>\n",
       "      <td>3</td>\n",
       "      <td>6</td>\n",
       "      <td>6</td>\n",
       "    </tr>\n",
       "    <tr>\n",
       "      <th>3</th>\n",
       "      <td>A6</td>\n",
       "      <td>RF</td>\n",
       "      <td>A</td>\n",
       "      <td>0</td>\n",
       "      <td>F</td>\n",
       "      <td>4/6/2021</td>\n",
       "      <td>R</td>\n",
       "      <td>4/23/2019</td>\n",
       "      <td>23</td>\n",
       "      <td>14</td>\n",
       "      <td>23.487</td>\n",
       "      <td>714</td>\n",
       "      <td>3</td>\n",
       "      <td>6</td>\n",
       "      <td>6</td>\n",
       "    </tr>\n",
       "    <tr>\n",
       "      <th>4</th>\n",
       "      <td>A7</td>\n",
       "      <td>RF</td>\n",
       "      <td>A</td>\n",
       "      <td>0</td>\n",
       "      <td>F</td>\n",
       "      <td>4/19/2021</td>\n",
       "      <td>L</td>\n",
       "      <td>5/29/2019</td>\n",
       "      <td>22</td>\n",
       "      <td>21</td>\n",
       "      <td>22.730</td>\n",
       "      <td>691</td>\n",
       "      <td>3</td>\n",
       "      <td>6</td>\n",
       "      <td>6</td>\n",
       "    </tr>\n",
       "  </tbody>\n",
       "</table>\n",
       "</div>"
      ],
      "text/plain": [
       "  Animal_ID Task Cohort  Probe_Control Sex   Sac_Date Frozen_Hemisphere  \\\n",
       "0        A3   RF      A              0   F  1/27/2021                 R   \n",
       "1        A4   RF      A              0   F  1/27/2021                 R   \n",
       "2        A5   RF      A              0   F   4/6/2021                 L   \n",
       "3        A6   RF      A              0   F   4/6/2021                 R   \n",
       "4        A7   RF      A              0   F  4/19/2021                 L   \n",
       "\n",
       "         DOB  Age_WholeMonth  Age_ExtraDays  Age_Month  Aged_Days  Age_Group  \\\n",
       "0  4/23/2019              21              4     21.217        645          3   \n",
       "1  4/23/2019              21              4     21.217        645          3   \n",
       "2  4/23/2019              23             14     23.487        714          3   \n",
       "3  4/23/2019              23             14     23.487        714          3   \n",
       "4  5/29/2019              22             21     22.730        691          3   \n",
       "\n",
       "   Behavior_Sessions  Neural_Sessions  \n",
       "0                  6                6  \n",
       "1                  6                6  \n",
       "2                  6                6  \n",
       "3                  6                6  \n",
       "4                  6                6  "
      ]
     },
     "execution_count": 4,
     "metadata": {},
     "output_type": "execute_result"
    }
   ],
   "source": [
    "''' Load in Animal Metadata '''\n",
    "\n",
    "animalmeta = pd.read_csv('C:/Users/Python/Desktop/Dryad/MouseMetadata.csv') # adjust path name\n",
    "\n",
    "# define some useful lists of animals based on metadata\n",
    "all_aged_mice = np.array(animalmeta.loc[(animalmeta.Age_Group == 3),'Animal_ID'])\n",
    "all_MA_mice = np.array(animalmeta.loc[(animalmeta.Age_Group == 2),'Animal_ID'])\n",
    "all_young_mice = np.array(animalmeta.loc[(animalmeta.Age_Group == 1),'Animal_ID'])\n",
    "\n",
    "cohorta_mice = np.array(animalmeta.loc[(animalmeta.Cohort == 'A'),'Animal_ID'])\n",
    "cohortb_mice = np.array(animalmeta.loc[(animalmeta.Cohort == 'B'),'Animal_ID'])\n",
    "cohortc_mice = np.array(animalmeta.loc[(animalmeta.Cohort == 'C'),'Animal_ID'])\n",
    "cohortd_mice = np.array(animalmeta.loc[(animalmeta.Cohort == 'D'),'Animal_ID'])\n",
    "\n",
    "RF_aged_mice = np.array(animalmeta.loc[(animalmeta.Age_Group == 3) & (animalmeta.Task == 'RF'),'Animal_ID'])\n",
    "RF_young_mice = np.array(animalmeta.loc[(animalmeta.Age_Group == 1) & (animalmeta.Task == 'RF'),'Animal_ID'])\n",
    "SM_aged_mice = np.array(animalmeta.loc[(animalmeta.Age_Group == 3) & (animalmeta.Task == 'SM'),'Animal_ID'])\n",
    "SM_MA_mice = np.array(animalmeta.loc[(animalmeta.Age_Group == 2) & (animalmeta.Task == 'SM'),'Animal_ID'])\n",
    "SM_young_mice = np.array(animalmeta.loc[(animalmeta.Age_Group == 1) & (animalmeta.Task == 'SM'),'Animal_ID'])\n",
    "\n",
    "all_female_mice = np.array(animalmeta.loc[(animalmeta.Sex == 'F'),'Animal_ID'])\n",
    "all_male_mice = np.array(animalmeta.loc[(animalmeta.Sex == 'M'), 'Animal_ID'])\n",
    "RF_female_mice = np.array(animalmeta.loc[(animalmeta.Sex == 'F') & (animalmeta.Task == 'RF'),'Animal_ID'])\n",
    "RF_male_mice = np.array(animalmeta.loc[(animalmeta.Sex == 'M') & (animalmeta.Task == 'RF'),'Animal_ID'])\n",
    "SM_female_mice = np.array(animalmeta.loc[(animalmeta.Sex == 'F') & (animalmeta.Task == 'SM'),'Animal_ID'])\n",
    "SM_male_mice = np.array(animalmeta.loc[(animalmeta.Sex == 'M') & (animalmeta.Task == 'SM'),'Animal_ID'])\n",
    "\n",
    "animalmeta.head()"
   ]
  },
  {
   "cell_type": "code",
   "execution_count": 5,
   "id": "37e7bdb1",
   "metadata": {},
   "outputs": [],
   "source": [
    "''' Complete List of Mice & Neural Sessions '''\n",
    "all_mice = np.array(animalmeta.Animal_ID)\n",
    "\n",
    "all_sessions = ([['0122_record1','0123_record2','0124_record3','0125_record4','0126_record5','0127_record6'], \n",
    "             ['0122_record1','0123_record2','0124_record3','0125_record4','0126_record5','0127_record6'],\n",
    "             ['0401_record1','0401_record2b','0403_record3','0404_record4','0405_record5','0406_record6'],\n",
    "             ['0401_record1','0402_record2','0403_record3','0404_record4','0405_record5','0406_record6'],\n",
    "             ['0414_record1','0415_record2','0416_record3','0417_record4','0418_record5','0419_record6'],\n",
    "             ['1024_record1','1025_record2','1026_record3','1027_record4','1028_record5_2'], #Y2_6 excluded\n",
    "             ['1016_record1','1019_record3','1020_record4','1021_record5','1022_record6'], #Y3_2 not collected\n",
    "             ['1114_record1','1115_record2','1116_record3','1117_record4','1118_record5','1119_record6'], # end cohort A\n",
    "             ['051822_record1','051922_record2', '052022_record3','052122_record4','052222_record5','052322_record6'], \n",
    "             ['050522_record1','050622_record2','050722_record3','050822_record4','050922_record5','051022_record6'],\n",
    "             ['050522_record1','050622_record2','050722_record3','050822_record4','051022_record6'], #Y11_5 not collected\n",
    "             ['062222_record3','062322_record4','062522_record5'], #Y16_1 & 2 not collected, neural _6 excluded\n",
    "             ['062822_record1','062922_record2','063022_record3','070122_record4','070222_record5','070322_record6'],\n",
    "             ['062022_record1','062122_record2','062222_record3','062322_record4','062522_record5','062622_record6'],\n",
    "             ['062822_record1','062922_record2','063022_record3','070122_record4','070222_record5','070322_record6'], \n",
    "             ['051922_record2','052022_record3'], # Y9 051822_1 excluded, end cohort B\n",
    "             ['083022_record1','083122_record2','090122_record3'], \n",
    "             ['083022_record1','083122_record2','090122_record3','090222_record4','090322_record5','090422_record6'],\n",
    "             ['083022_record1','083122_record2','090122_record3','090222_record4'], #behavior of A16_4, both of 5 excluded, 6 not collected \n",
    "             ['082322_record1','082422_record2','082522_record3','082622_record4','082722_record5','082822_record6'],\n",
    "             ['082322_record1real','082422_record2','082522_record3','082622_record4','082722_record5','082822_record6'],\n",
    "             ['102322_record1','102422_record2','102522_record3','102622_record4','102722_record5','102822_record6'],\n",
    "             ['102322_record1','102422_record2','102522_record3','102622_record4','102722_record5','102822_record6'],\n",
    "             ['102322_record1','102422_record2','102522_record3','102622_record4','102722_record5','102822_record6'],\n",
    "             ['103122_record2','110122_record3','110222_record4','110322_record5rep','110422_record6','110522_record7'], #behavior of MA4M6, 7 excluded\n",
    "             ['110622_record1','110722_record2','110822_record3','110922_record4','111022_record5','111122_record6'],\n",
    "             ['103022_record1','103122_record2','110122_record3','110222_record4','110322_record5','110422_record6'],\n",
    "             ['103022_record1','103122_record2','110122_record3','110222_record4'], #behavior of MA7_4, both 5 excluded, 6 not collected\n",
    "             ['111322_record1','111422_record2','111522_record3','111622_record4','111722_record5','111822_record6'],\n",
    "             ['111322_record1','111422_record2','111522_record3','111622_record4','111722_record5','111822_record6'],\n",
    "             ['111322_record1','111422_record2','111522_record3','111622_record4','111722_record5','111822_record6'], \n",
    "             ['092522_record1','092622_record2','092722_record3','092822_record4','092922_record5','093022_record6'],\n",
    "             ['091822_record1','091922_record2','092022_record3','092122_record4','092222_record5','092322_record6'],\n",
    "             ['092522_record1','092622_record2','092722_record3','092822_record4','092922_record5','093022_record6'],\n",
    "             ['092522_record1','092622_record2','092722_record3','092822_record4','092922_record5','093022_record6'],\n",
    "             ['091822_record1','091922_record2','092022_record3','092122_record4','092222_record5','092322_record6'], #end cohortc\n",
    "             ['012723_record2','012823_record3','012923_record4','013023_record5','013123_record6','020123_record7'],\n",
    "             ['012623_record1','012723_record2','012823_record3','012923_record4','013023_record5','013123_record6'],\n",
    "             ['012923_record2','013023_record3','013123_record4','020123_record5','020223_record6','020323_record7'],\n",
    "             ['020923_record1','021023_record2','021123_record3','021223_record4','021323_record5','021423_record6'],\n",
    "             ['022623_record1','022723_record2','022823_record3','030123_record4','030223_record5','030323_record6'],\n",
    "             ['021623_record1','021723_record2','021823_record3','021923_record4','022023_record5','022123_record6'],\n",
    "             ['021623_record1','021723_record2','021823_record3','021923_record4','022023_record5','022123_record6'],\n",
    "             ['021623_record1','021723_record2','021823_record3','021923_record4','022023_record5rep','022123_record6'],\n",
    "             ['022623_record1','022723_record2','022823_record3','030123_record4','030223_record5','030323_record6'] #end cohort d \n",
    "            ]) #list of sessions"
   ]
  },
  {
   "cell_type": "code",
   "execution_count": 6,
   "id": "fc7536a6",
   "metadata": {},
   "outputs": [],
   "source": [
    "#Inputs\n",
    "load_folder = 'C:/Users/Python/Desktop/LocalData/filtered/' # adjust path to match output of Import & Filter\n",
    "int_save_folder = 'C:/Users/Python/Desktop/LocalData/FigureS6/' # adjust to match Shuffle Procedure output plotsave_folder\n",
    "figs2_folder = 'C:/Users/Python/Desktop/LocalData/FigureS2/' #adjust to match output location of Figure S2 notebook\n",
    "\n",
    "#Output (create folder to hold the output of this notebook; then match the name of this repository below)\n",
    "save_folder = 'C:/Users/Python/Desktop/LocalData/ReviewerFigure5/' "
   ]
  },
  {
   "cell_type": "code",
   "execution_count": 7,
   "id": "24b111c8",
   "metadata": {},
   "outputs": [],
   "source": [
    "'''Define which mice & sessions to load based on metadata'''\n",
    "# Define mice, sessions for particular cohorts\n",
    "mice , mice_ind, _  = np.intersect1d(all_mice, np.union1d(cohortc_mice, cohortd_mice), return_indices = True) # SM mice\n",
    "\n",
    "sessions = []\n",
    "for i in mice_ind:\n",
    "    sessions.append(all_sessions[i])\n",
    "\n",
    "# Make a dict to hold data\n",
    "data = {}\n",
    "\n",
    "for session, m in zip(sessions, mice):\n",
    "    data[m] = {}\n",
    "    \n",
    "    for s in session:\n",
    "        data[m][s] = {}"
   ]
  },
  {
   "cell_type": "code",
   "execution_count": 9,
   "id": "a827be65",
   "metadata": {},
   "outputs": [],
   "source": [
    "''' Get reward & lick data for sessions w/ neural data'''\n",
    "\n",
    "#get lick & reward data\n",
    "rewarda_centers = []\n",
    "rewardb_centers = []\n",
    "\n",
    "for m, session in zip(mice, sessions):\n",
    "    for s in session:\n",
    "        d = data[m][s]\n",
    " \n",
    "        #load data\n",
    "        rawdata_file = 'RAW_' + m + '_' + s + '.npy'\n",
    "        spikes_file = 'SPIKES_' + m + '_' + s +'.npy'\n",
    "        behavior_file = 'BEHAVIOR_' + m + '_' + s + '.npy'\n",
    "        \n",
    "        raw = np.load(load_folder + rawdata_file, allow_pickle=True)\n",
    "        Y = np.load(load_folder + spikes_file, allow_pickle=False) #pre-filtered for speeds >2cm/s, position-corrected spikes, 20 ms timebins\n",
    "        behaviorfil = np.load(load_folder + behavior_file, allow_pickle=False)\n",
    "        \n",
    "        d['reward_data'] = {}\n",
    "        \n",
    "        # get behavioral params\n",
    "        posx = raw.item().get('posx')\n",
    "        post = raw.item().get('post')\n",
    "        dt = np.unique(np.round(np.diff(post),4))\n",
    "        lickt = raw.item().get('lickt')\n",
    "        trials_dark = np.sum(raw.item().get('trialinfo')['dark'])\n",
    "        reward = raw.item().get('reward')\n",
    "        reward['trials'] = np.arange(0,len(reward['trials']),1) # fixes occassional Unity error numbering of rewards \n",
    "        \n",
    "        if len(dt) > 1: # discard duplicate frame entries if they occurred\n",
    "            dt = dt[dt != 0]\n",
    "        speed = raw.item().get('speed')\n",
    "        \n",
    "        # get reward params & remove reward data pertaining to dark trials & skipped trials\n",
    "        try:\n",
    "            _ = raw.item().get('correctedtrial').shape\n",
    "            skippedtrials = get.find_skipped(trial, max_trial_num = 220)\n",
    "            nonskipped = np.setdiff1d(reward['trials'],skippedtrials)   \n",
    "            k_idx = np.intersect1d(np.where(reward['trials'] > trials_dark), nonskipped)\n",
    "            keep_idx = np.intersect1d(np.where(reward['trials'] <= np.max(alltrial)), k_idx)\n",
    "            \n",
    "        except:\n",
    "            skippedtrials = []\n",
    "            trial = raw.item().get('trial')\n",
    "            keep_idx = (np.where(reward['trials'] > trials_dark))\n",
    "            \n",
    "        reward_centers = np.array(reward['centers'][keep_idx])\n",
    "        rewardt = reward['times'][keep_idx]\n",
    "        reward_trials = reward['trials'][keep_idx]\n",
    "        misses = reward['missed'][keep_idx].astype(bool)\n",
    "        auto_reward = np.array(reward['auto'][keep_idx])\n",
    "        #print('Mouse ' + m + ' with n_misses: ' + str(np.sum(misses)))   \n",
    "\n",
    "        # get lick and reward indices\n",
    "        lick_ct = get.spiketrain(post, dt, lickt, index=False)\n",
    "        d['reward_data']['lick_ct'] = lick_ct\n",
    "        #print('got lick indices for mouse ' + m + ' session ' + s)\n",
    "        \n",
    "        reward_idx = get.rewardtrain(post, dt, rewardt, index=True) #gets reward ct for each time binned position range as index\n",
    "        d['reward_data']['reward_idx'] = reward_idx\n",
    "        #print('got reward indices for mouse ' + m + ' session ' + s)\n",
    "    \n",
    "    # saves list of reward locations per mouse\n",
    "    if reward['centers'][0] == 270:\n",
    "        rewarda_centers = np.append(rewarda_centers,270)\n",
    "        rewardb_centers = np.append(rewardb_centers,370)\n",
    "    else:\n",
    "        rewarda_centers = np.append(rewarda_centers,370)\n",
    "        rewardb_centers = np.append(rewardb_centers,270)            "
   ]
  },
  {
   "cell_type": "code",
   "execution_count": 10,
   "id": "19c2f746",
   "metadata": {},
   "outputs": [],
   "source": [
    "''' Find & Save Number of Requested Rewards per Epoch per Session & Animal '''\n",
    "#session arrays\n",
    "req_rates = []\n",
    "reqa_rates = []\n",
    "reqb_rates = []\n",
    "reqblock_rates = []\n",
    "reqalt_rates = []\n",
    "reqalta_rates = []\n",
    "reqaltb_rates = []\n",
    "req_trials = []\n",
    "reqblock_trials = []\n",
    "reqalt_trials = []\n",
    "\n",
    "#animals arrays\n",
    "mreq_rates = []\n",
    "mreqa_rates = []\n",
    "mreqb_rates = []\n",
    "mreqblock_rates = []\n",
    "mreqalt_rates = []\n",
    "mreqalta_rates = []\n",
    "mreqaltb_rates = []\n",
    "\n",
    "for m, session in zip(mice, sessions):\n",
    "    rt = []\n",
    "    ca = []\n",
    "    cb = []\n",
    "    blocks = []\n",
    "    alt = []\n",
    "    alta = []\n",
    "    altb = []\n",
    "    \n",
    "    req = []\n",
    "    reqa = []\n",
    "    reqb = []\n",
    "    reqblocks = []\n",
    "    reqalt = []\n",
    "    reqalta = []\n",
    "    reqaltb = []\n",
    "    \n",
    "    for s in session:\n",
    "        # get behavior data\n",
    "        d = data[m][s]\n",
    "        \n",
    "        #load data\n",
    "        rawdata_file = 'RAW_' + m + '_' + s + '.npy'\n",
    "        spikes_file = 'SPIKES_' + m + '_' + s +'.npy'\n",
    "        behavior_file = 'BEHAVIOR_' + m + '_' + s + '.npy'\n",
    "        \n",
    "        raw = np.load(load_folder + rawdata_file, allow_pickle=True)\n",
    "        Y = np.load(load_folder + spikes_file, allow_pickle=False) #pre-filtered for speeds >2cm/s, position-corrected spikes, 20 ms timebins\n",
    "        behaviorfil = np.load(load_folder + behavior_file, allow_pickle=False)\n",
    "        \n",
    "        posx = raw.item().get('posx')\n",
    "        post = raw.item().get('post')\n",
    "        dt = np.unique(np.round(np.diff(post),4))\n",
    "        if len(dt) > 1: # discard duplicate frame entries if they occurred\n",
    "            dt = dt[dt != 0]\n",
    "        speed = raw.item().get('speed')\n",
    "        \n",
    "        # get reward params & remove reward data pertaining to dark trials & skipped trials\n",
    "        lickt = raw.item().get('lickt')\n",
    "        trials_dark = np.sum(raw.item().get('trialinfo')['dark'])\n",
    "        reward = raw.item().get('reward')\n",
    "        reward['trials'] = np.arange(0,len(reward['trials']),1)\n",
    "        \n",
    "        # get reward params & remove reward data pertaining to dark trials & skipped trials\n",
    "        try:\n",
    "            _ = raw.item().get('correctedtrial').shape\n",
    "            skippedtrials = get.find_skipped(trial, max_trial_num = 220)\n",
    "            nonskipped = np.setdiff1d(reward['trials'],skippedtrials)   \n",
    "            k_idx = np.intersect1d(np.where(reward['trials'] > trials_dark), nonskipped)\n",
    "            keep_idx = np.intersect1d(np.where(reward['trials'] <= np.max(alltrial)), k_idx)\n",
    "            \n",
    "        except:\n",
    "            skippedtrials = []\n",
    "            trial = raw.item().get('trial')\n",
    "            keep_idx = (np.where(reward['trials'] > trials_dark))\n",
    "        \n",
    "        reward_centers = np.array(reward['centers'][keep_idx])\n",
    "        rewarda = reward_centers[0]\n",
    "        rewardb = reward_centers[60]\n",
    "        rewardt = reward['times'][keep_idx]\n",
    "        reward_trials = reward['trials'][keep_idx]\n",
    "        misses = reward['missed'][keep_idx].astype(bool)\n",
    "        requests = ~misses\n",
    "        \n",
    "        # find rate of requests for a given session\n",
    "        req_rates.append(np.sum(requests)/len(reward_trials)) #total\n",
    "        \n",
    "        rewarda_idx = np.where(reward_trials < 81)[0]\n",
    "        reqa_rates.append(np.sum(requests[rewarda_idx])/len(rewarda_idx)) #context a\n",
    "        \n",
    "        rewardb_idx = np.intersect1d((np.where(reward_trials >= 81)), (np.where(reward_trials <= 140)))\n",
    "        reqb_rates.append(np.sum(requests[rewardb_idx])/len(rewardb_idx)) #context b\n",
    "        \n",
    "        block_idx = np.where(reward_trials < 140)[0]\n",
    "        reqblock_rates.append(np.sum(requests[block_idx])/len(block_idx)) #block\n",
    "        \n",
    "        alt_idx = np.where(reward_trials >= 140)[0]\n",
    "        reqalt_rates.append(np.sum(requests[alt_idx])/len(alt_idx)) #alt\n",
    "        \n",
    "        alta_idx = np.where((reward_trials >= 140) & (reward_centers == rewarda))[0] \n",
    "        reqalta_rates.append(np.mean(requests[alta_idx]))\n",
    "        \n",
    "        altb_idx = np.where((reward_trials >= 140) & (reward_centers == rewardb))[0]\n",
    "        reqaltb_rates.append(np.mean(requests[altb_idx]))\n",
    "        \n",
    "        rt = np.append(rt,len(reward_trials))\n",
    "        ca = np.append(ca,len(rewarda_idx))\n",
    "        cb = np.append(cb,len(rewardb_idx))\n",
    "        blocks = np.append(blocks,len(block_idx))\n",
    "        alt = np.append(alt,len(alt_idx))\n",
    "        alta = np.append(alta, len(alta_idx))\n",
    "        altb = np.append(altb, len(altb_idx))\n",
    "        \n",
    "        req_trials = np.append(req_trials, len(reward_trials))\n",
    "        reqblock_trials = np.append(reqblock_trials, len(block_idx))\n",
    "        reqalt_trials = np.append(reqalt_trials, len(alt_idx))\n",
    "        \n",
    "        req = np.append(req,np.sum(requests))\n",
    "        reqa = np.append(reqa,np.sum(requests[rewarda_idx]))\n",
    "        reqb = np.append(reqb,np.sum(requests[rewardb_idx]))\n",
    "        reqblocks = np.append(reqblocks,np.sum(requests[block_idx]))\n",
    "        reqalt = np.append(reqalt,np.sum(requests[alt_idx]))\n",
    "        reqalta = np.append(reqalta,requests[alta_idx])\n",
    "        reqaltb = np.append(reqaltb,requests[altb_idx])\n",
    "        \n",
    "        d['altreqbytrial'] = requests[alt_idx]\n",
    "                               \n",
    "    # get mouse request rate collapsing days\n",
    "    mreqrate = np.sum(req)/ np.sum(rt)\n",
    "    mreq_rates = np.append(mreq_rates,mreqrate)\n",
    "    \n",
    "    mreqarate = np.sum(reqa) / np.sum(ca)\n",
    "    mreqa_rates = np.append(mreqa_rates, mreqarate)\n",
    "    \n",
    "    mreqbrate = np.sum(reqb) / np.sum(cb)\n",
    "    mreqb_rates = np.append(mreqb_rates, mreqbrate)\n",
    "    \n",
    "    mreqblockrate = np.sum(reqblocks) / np.sum(blocks)\n",
    "    mreqblock_rates = np.append(mreqblock_rates, mreqblockrate)\n",
    "    \n",
    "    mreqaltrate = np.sum(reqalt) / np.sum(alt)\n",
    "    mreqalt_rates = np.append(mreqalt_rates, mreqaltrate)\n",
    "    \n",
    "    mreqalta_rates = np.append(mreqalta_rates, np.mean(reqalta))\n",
    "    mreqaltb_rates = np.append(mreqaltb_rates, np.mean(reqaltb))\n",
    "    \n",
    "# save as arrays to be safe\n",
    "req_rates = np.asarray(req_rates)\n",
    "reqa_rates = np.asarray(reqa_rates)\n",
    "reqb_rates = np.asarray(reqb_rates)\n",
    "reqblock_rates = np.asarray(reqblock_rates)\n",
    "reqalt_rates = np.asarray(reqalt_rates)\n",
    "reqalta_rates = np.asarray(reqalta_rates)\n",
    "reqaltb_rates = np.asarray(reqaltb_rates)\n",
    "\n",
    "mreq_rates = np.asarray(mreq_rates)\n",
    "mreqa_rates = np.asarray(mreqa_rates)\n",
    "mreqb_rates = np.asarray(mreqb_rates)\n",
    "mreqblock_rates = np.asarray(mreqblock_rates)\n",
    "mreqalt_rates = np.asarray(mreqalt_rates)\n",
    "mreqalta_rates = np.asarray(reqalta_rates)\n",
    "mreqaltb_rates = np.asarray(reqaltb_rates)"
   ]
  },
  {
   "cell_type": "code",
   "execution_count": 11,
   "id": "7c0d3b80",
   "metadata": {},
   "outputs": [],
   "source": [
    "''' Load indices corresponding to quarters of the task sorted by context, making sure skipped trials are excluded.\n",
    "\n",
    "Generated in Figure S2 notebook. Please run that before proceeding.\n",
    "\n",
    "''' \n",
    "\n",
    "for m, session in zip(mice,sessions):\n",
    "    for s in session:\n",
    "        d = data[m][s]\n",
    "        \n",
    "        #save indices for session sections\n",
    "        Aidx_file = 'Aidx_' + m + '_' + s +'.npy'\n",
    "        Bidx_file = 'Bidx_' + m + '_' + s +'.npy'\n",
    "        A_idx_file = 'A_idx_' + m + '_' + s +'.npy'\n",
    "        B_idx_file = 'B_idx_' + m + '_' + s +'.npy'\n",
    "        A_ngidx_file = 'A_idx_' + m + '_' + s +'.npy'\n",
    "        B_ngidx_file = 'B_idx_' + m + '_' + s +'.npy'\n",
    "        \n",
    "        Aidx = np.load(figs2_folder + Aidx_file)\n",
    "        Bidx = np.load(figs2_folder + Bidx_file)\n",
    "        A_idx = np.load(figs2_folder + A_idx_file)\n",
    "        B_idx = np.load(figs2_folder + B_idx_file)\n",
    "        \n",
    "        d['Aidx'] = Aidx\n",
    "        d['Bidx'] = Bidx\n",
    "        d['A_idx'] = A_idx\n",
    "        d['B_idx'] = B_idx\n",
    "\n",
    "        #Also load A`& B` indices excluding gain change trials in each context\n",
    "        A_ngidx = np.load(figs2_folder + A_ngidx_file)\n",
    "        B_ngidx = np.load(figs2_folder + B_ngidx_file)\n",
    "        \n",
    "        d['A_ngidx'] = A_ngidx\n",
    "        d['B_ngidx'] = B_ngidx"
   ]
  },
  {
   "cell_type": "code",
   "execution_count": 12,
   "id": "fa20af6d",
   "metadata": {},
   "outputs": [
    {
     "name": "stdout",
     "output_type": "stream",
     "text": [
      "15152 15011 13225\n"
     ]
    }
   ],
   "source": [
    "''' Gather total number of SM cells'''\n",
    "\n",
    "young_count = 0\n",
    "MA_count = 0\n",
    "age_count = 0\n",
    "\n",
    "for m, session in zip(mice, sessions):\n",
    "    for s in session:\n",
    "        d = data[m][s]\n",
    "        \n",
    "        #Load scores, intn boolean to filter out interneurons\n",
    "        rawdata_file = 'RAW_' + m + '_' + s + '.npy'\n",
    "        raw = np.load(load_folder + rawdata_file, allow_pickle=True)\n",
    "        cell_IDs = raw.item().get('cellsfil')\n",
    "        \n",
    "        if m in SM_aged_mice:\n",
    "            age_count += len(cell_IDs)\n",
    "        elif m in SM_MA_mice:\n",
    "            MA_count += len(cell_IDs)\n",
    "        else:\n",
    "            young_count += len(cell_IDs)\n",
    "            \n",
    "print(young_count, MA_count, age_count)"
   ]
  },
  {
   "cell_type": "markdown",
   "id": "3790c268",
   "metadata": {},
   "source": [
    "# Assess density of spatial cells."
   ]
  },
  {
   "cell_type": "code",
   "execution_count": 13,
   "id": "a7d10e11",
   "metadata": {},
   "outputs": [],
   "source": [
    "''' Load spatial cell and intn booleans. '''\n",
    "\n",
    "for m, session in zip(mice, sessions):\n",
    "    for s in session:\n",
    "        d = data[m][s]\n",
    "        \n",
    "        #get file names\n",
    "        spatialcell99_file = 'spatialcell99_' + m + '_' + s + '.npy'\n",
    "        intn_file = 'intn_' + m + '_' + s + '.npy'\n",
    "\n",
    "        #load stuff\n",
    "        d['spatialcell99'] = np.load(figs2_folder + spatialcell99_file, allow_pickle = True)\n",
    "        d['intn'] = np.load(int_save_folder + intn_file, allow_pickle = True)"
   ]
  },
  {
   "cell_type": "code",
   "execution_count": 14,
   "id": "a2864220",
   "metadata": {
    "scrolled": true
   },
   "outputs": [
    {
     "data": {
      "application/vnd.jupyter.widget-view+json": {
       "model_id": "7e59936ad79d4a4faf26be675781603b",
       "version_major": 2,
       "version_minor": 0
      },
      "text/plain": [
       "  0%|          | 0/3 [00:00<?, ?it/s]"
      ]
     },
     "metadata": {},
     "output_type": "display_data"
    },
    {
     "name": "stdout",
     "output_type": "stream",
     "text": [
      "A14, 083022_record1 n spatial cells: 69\n",
      "A14, 083122_record2 n spatial cells: 4\n",
      "A14, 090122_record3 n spatial cells: 25\n"
     ]
    },
    {
     "data": {
      "application/vnd.jupyter.widget-view+json": {
       "model_id": "46a98a4ec5ff44bf9e621c35b9d24782",
       "version_major": 2,
       "version_minor": 0
      },
      "text/plain": [
       "  0%|          | 0/6 [00:00<?, ?it/s]"
      ]
     },
     "metadata": {},
     "output_type": "display_data"
    },
    {
     "name": "stdout",
     "output_type": "stream",
     "text": [
      "A15, 083022_record1 n spatial cells: 16\n",
      "A15, 083122_record2 n spatial cells: 154\n",
      "A15, 090122_record3 n spatial cells: 173\n",
      "A15, 090222_record4 n spatial cells: 219\n",
      "A15, 090322_record5 n spatial cells: 95\n",
      "A15, 090422_record6 n spatial cells: 51\n"
     ]
    },
    {
     "data": {
      "application/vnd.jupyter.widget-view+json": {
       "model_id": "4883c1256b55402fb48f82b29f4fce11",
       "version_major": 2,
       "version_minor": 0
      },
      "text/plain": [
       "  0%|          | 0/4 [00:00<?, ?it/s]"
      ]
     },
     "metadata": {},
     "output_type": "display_data"
    },
    {
     "name": "stdout",
     "output_type": "stream",
     "text": [
      "A16, 083022_record1 n spatial cells: 65\n",
      "A16, 083122_record2 n spatial cells: 110\n",
      "A16, 090122_record3 n spatial cells: 4\n",
      "A16, 090222_record4 n spatial cells: 61\n"
     ]
    },
    {
     "data": {
      "application/vnd.jupyter.widget-view+json": {
       "model_id": "c17bfd8ab6ab408e90020e9fd650300a",
       "version_major": 2,
       "version_minor": 0
      },
      "text/plain": [
       "  0%|          | 0/6 [00:00<?, ?it/s]"
      ]
     },
     "metadata": {},
     "output_type": "display_data"
    },
    {
     "name": "stdout",
     "output_type": "stream",
     "text": [
      "A17, 082322_record1 n spatial cells: 8\n",
      "A17, 082422_record2 n spatial cells: 7\n",
      "A17, 082522_record3 n spatial cells: 102\n",
      "A17, 082622_record4 n spatial cells: 77\n",
      "A17, 082722_record5 n spatial cells: 53\n",
      "A17, 082822_record6 n spatial cells: 90\n"
     ]
    },
    {
     "data": {
      "application/vnd.jupyter.widget-view+json": {
       "model_id": "78fe55deb54b4438993163e7622f8a10",
       "version_major": 2,
       "version_minor": 0
      },
      "text/plain": [
       "  0%|          | 0/6 [00:00<?, ?it/s]"
      ]
     },
     "metadata": {},
     "output_type": "display_data"
    },
    {
     "name": "stdout",
     "output_type": "stream",
     "text": [
      "A18, 082322_record1real n spatial cells: 35\n",
      "A18, 082422_record2 n spatial cells: 258\n",
      "A18, 082522_record3 n spatial cells: 261\n",
      "A18, 082622_record4 n spatial cells: 156\n",
      "A18, 082722_record5 n spatial cells: 72\n",
      "A18, 082822_record6 n spatial cells: 6\n"
     ]
    },
    {
     "data": {
      "application/vnd.jupyter.widget-view+json": {
       "model_id": "58874374c1bb4b318d5ea806e904305f",
       "version_major": 2,
       "version_minor": 0
      },
      "text/plain": [
       "  0%|          | 0/6 [00:00<?, ?it/s]"
      ]
     },
     "metadata": {},
     "output_type": "display_data"
    },
    {
     "name": "stdout",
     "output_type": "stream",
     "text": [
      "A19, 012723_record2 n spatial cells: 3\n",
      "A19, 012823_record3 n spatial cells: 143\n",
      "A19, 012923_record4 n spatial cells: 137\n",
      "A19, 013023_record5 n spatial cells: 116\n",
      "A19, 013123_record6 n spatial cells: 96\n",
      "A19, 020123_record7 n spatial cells: 96\n"
     ]
    },
    {
     "data": {
      "application/vnd.jupyter.widget-view+json": {
       "model_id": "df16398f96794641ad901540283cbfb0",
       "version_major": 2,
       "version_minor": 0
      },
      "text/plain": [
       "  0%|          | 0/6 [00:00<?, ?it/s]"
      ]
     },
     "metadata": {},
     "output_type": "display_data"
    },
    {
     "name": "stdout",
     "output_type": "stream",
     "text": [
      "A20, 012623_record1 n spatial cells: 31\n",
      "A20, 012723_record2 n spatial cells: 90\n",
      "A20, 012823_record3 n spatial cells: 178\n",
      "A20, 012923_record4 n spatial cells: 79\n",
      "A20, 013023_record5 n spatial cells: 98\n",
      "A20, 013123_record6 n spatial cells: 55\n"
     ]
    },
    {
     "data": {
      "application/vnd.jupyter.widget-view+json": {
       "model_id": "9da0084454654ca6b9883e672400201b",
       "version_major": 2,
       "version_minor": 0
      },
      "text/plain": [
       "  0%|          | 0/6 [00:00<?, ?it/s]"
      ]
     },
     "metadata": {},
     "output_type": "display_data"
    },
    {
     "name": "stdout",
     "output_type": "stream",
     "text": [
      "A22, 012923_record2 n spatial cells: 104\n",
      "A22, 013023_record3 n spatial cells: 220\n",
      "A22, 013123_record4 n spatial cells: 112\n",
      "A22, 020123_record5 n spatial cells: 35\n",
      "A22, 020223_record6 n spatial cells: 86\n",
      "A22, 020323_record7 n spatial cells: 29\n"
     ]
    },
    {
     "data": {
      "application/vnd.jupyter.widget-view+json": {
       "model_id": "22b87464f70242478a703633dfbbab98",
       "version_major": 2,
       "version_minor": 0
      },
      "text/plain": [
       "  0%|          | 0/6 [00:00<?, ?it/s]"
      ]
     },
     "metadata": {},
     "output_type": "display_data"
    },
    {
     "name": "stdout",
     "output_type": "stream",
     "text": [
      "A23, 020923_record1 n spatial cells: 16\n",
      "A23, 021023_record2 n spatial cells: 99\n",
      "A23, 021123_record3 n spatial cells: 119\n",
      "A23, 021223_record4 n spatial cells: 18\n",
      "A23, 021323_record5 n spatial cells: 85\n",
      "A23, 021423_record6 n spatial cells: 129\n"
     ]
    },
    {
     "data": {
      "application/vnd.jupyter.widget-view+json": {
       "model_id": "dc3518efc4a34eb99f352ce450b50149",
       "version_major": 2,
       "version_minor": 0
      },
      "text/plain": [
       "  0%|          | 0/6 [00:00<?, ?it/s]"
      ]
     },
     "metadata": {},
     "output_type": "display_data"
    },
    {
     "name": "stdout",
     "output_type": "stream",
     "text": [
      "A24, 022623_record1 n spatial cells: 124\n",
      "A24, 022723_record2 n spatial cells: 226\n",
      "A24, 022823_record3 n spatial cells: 168\n",
      "A24, 030123_record4 n spatial cells: 137\n",
      "A24, 030223_record5 n spatial cells: 101\n",
      "A24, 030323_record6 n spatial cells: 50\n"
     ]
    },
    {
     "data": {
      "application/vnd.jupyter.widget-view+json": {
       "model_id": "07f91b392cd84270a5b5f33e619147f3",
       "version_major": 2,
       "version_minor": 0
      },
      "text/plain": [
       "  0%|          | 0/6 [00:00<?, ?it/s]"
      ]
     },
     "metadata": {},
     "output_type": "display_data"
    },
    {
     "name": "stdout",
     "output_type": "stream",
     "text": [
      "MA10F, 111322_record1 n spatial cells: 229\n",
      "MA10F, 111422_record2 n spatial cells: 123\n",
      "MA10F, 111522_record3 n spatial cells: 79\n",
      "MA10F, 111622_record4 n spatial cells: 73\n",
      "MA10F, 111722_record5 n spatial cells: 60\n",
      "MA10F, 111822_record6 n spatial cells: 136\n"
     ]
    },
    {
     "data": {
      "application/vnd.jupyter.widget-view+json": {
       "model_id": "841057e7df3043c7a0be367576bf6270",
       "version_major": 2,
       "version_minor": 0
      },
      "text/plain": [
       "  0%|          | 0/6 [00:00<?, ?it/s]"
      ]
     },
     "metadata": {},
     "output_type": "display_data"
    },
    {
     "name": "stdout",
     "output_type": "stream",
     "text": [
      "MA1F, 102322_record1 n spatial cells: 64\n",
      "MA1F, 102422_record2 n spatial cells: 100\n",
      "MA1F, 102522_record3 n spatial cells: 122\n",
      "MA1F, 102622_record4 n spatial cells: 24\n",
      "MA1F, 102722_record5 n spatial cells: 149\n",
      "MA1F, 102822_record6 n spatial cells: 147\n"
     ]
    },
    {
     "data": {
      "application/vnd.jupyter.widget-view+json": {
       "model_id": "65ae8e42e6064bf08ec35dccfdfd009a",
       "version_major": 2,
       "version_minor": 0
      },
      "text/plain": [
       "  0%|          | 0/6 [00:00<?, ?it/s]"
      ]
     },
     "metadata": {},
     "output_type": "display_data"
    },
    {
     "name": "stdout",
     "output_type": "stream",
     "text": [
      "MA2F, 102322_record1 n spatial cells: 129\n",
      "MA2F, 102422_record2 n spatial cells: 154\n",
      "MA2F, 102522_record3 n spatial cells: 209\n",
      "MA2F, 102622_record4 n spatial cells: 149\n",
      "MA2F, 102722_record5 n spatial cells: 111\n",
      "MA2F, 102822_record6 n spatial cells: 126\n"
     ]
    },
    {
     "data": {
      "application/vnd.jupyter.widget-view+json": {
       "model_id": "931323f4116d473299161d9879d5048d",
       "version_major": 2,
       "version_minor": 0
      },
      "text/plain": [
       "  0%|          | 0/6 [00:00<?, ?it/s]"
      ]
     },
     "metadata": {},
     "output_type": "display_data"
    },
    {
     "name": "stdout",
     "output_type": "stream",
     "text": [
      "MA3M, 102322_record1 n spatial cells: 32\n",
      "MA3M, 102422_record2 n spatial cells: 125\n",
      "MA3M, 102522_record3 n spatial cells: 92\n",
      "MA3M, 102622_record4 n spatial cells: 85\n",
      "MA3M, 102722_record5 n spatial cells: 63\n",
      "MA3M, 102822_record6 n spatial cells: 98\n"
     ]
    },
    {
     "data": {
      "application/vnd.jupyter.widget-view+json": {
       "model_id": "6d06578c78cc488fa38b24dde1eb1b31",
       "version_major": 2,
       "version_minor": 0
      },
      "text/plain": [
       "  0%|          | 0/6 [00:00<?, ?it/s]"
      ]
     },
     "metadata": {},
     "output_type": "display_data"
    },
    {
     "name": "stdout",
     "output_type": "stream",
     "text": [
      "MA4M, 103122_record2 n spatial cells: 103\n",
      "MA4M, 110122_record3 n spatial cells: 65\n",
      "MA4M, 110222_record4 n spatial cells: 30\n",
      "MA4M, 110322_record5rep n spatial cells: 65\n",
      "MA4M, 110422_record6 n spatial cells: 74\n",
      "MA4M, 110522_record7 n spatial cells: 30\n"
     ]
    },
    {
     "data": {
      "application/vnd.jupyter.widget-view+json": {
       "model_id": "ec9d596a45224e31abced91bca73c8f0",
       "version_major": 2,
       "version_minor": 0
      },
      "text/plain": [
       "  0%|          | 0/6 [00:00<?, ?it/s]"
      ]
     },
     "metadata": {},
     "output_type": "display_data"
    },
    {
     "name": "stdout",
     "output_type": "stream",
     "text": [
      "MA5M, 110622_record1 n spatial cells: 87\n",
      "MA5M, 110722_record2 n spatial cells: 156\n",
      "MA5M, 110822_record3 n spatial cells: 148\n",
      "MA5M, 110922_record4 n spatial cells: 21\n",
      "MA5M, 111022_record5 n spatial cells: 77\n",
      "MA5M, 111122_record6 n spatial cells: 63\n"
     ]
    },
    {
     "data": {
      "application/vnd.jupyter.widget-view+json": {
       "model_id": "2cccb2639b284e539d98785ad5de68e2",
       "version_major": 2,
       "version_minor": 0
      },
      "text/plain": [
       "  0%|          | 0/6 [00:00<?, ?it/s]"
      ]
     },
     "metadata": {},
     "output_type": "display_data"
    },
    {
     "name": "stdout",
     "output_type": "stream",
     "text": [
      "MA6M, 103022_record1 n spatial cells: 124\n",
      "MA6M, 103122_record2 n spatial cells: 94\n",
      "MA6M, 110122_record3 n spatial cells: 157\n",
      "MA6M, 110222_record4 n spatial cells: 36\n",
      "MA6M, 110322_record5 n spatial cells: 28\n",
      "MA6M, 110422_record6 n spatial cells: 85\n"
     ]
    },
    {
     "data": {
      "application/vnd.jupyter.widget-view+json": {
       "model_id": "62ba321248a348fc99485554d415f883",
       "version_major": 2,
       "version_minor": 0
      },
      "text/plain": [
       "  0%|          | 0/4 [00:00<?, ?it/s]"
      ]
     },
     "metadata": {},
     "output_type": "display_data"
    },
    {
     "name": "stdout",
     "output_type": "stream",
     "text": [
      "MA7M, 103022_record1 n spatial cells: 68\n",
      "MA7M, 103122_record2 n spatial cells: 114\n",
      "MA7M, 110122_record3 n spatial cells: 79\n",
      "MA7M, 110222_record4 n spatial cells: 13\n"
     ]
    },
    {
     "data": {
      "application/vnd.jupyter.widget-view+json": {
       "model_id": "878875c65d8946fe9c98881d4f00cc14",
       "version_major": 2,
       "version_minor": 0
      },
      "text/plain": [
       "  0%|          | 0/6 [00:00<?, ?it/s]"
      ]
     },
     "metadata": {},
     "output_type": "display_data"
    },
    {
     "name": "stdout",
     "output_type": "stream",
     "text": [
      "MA8F, 111322_record1 n spatial cells: 34\n",
      "MA8F, 111422_record2 n spatial cells: 172\n",
      "MA8F, 111522_record3 n spatial cells: 149\n",
      "MA8F, 111622_record4 n spatial cells: 89\n",
      "MA8F, 111722_record5 n spatial cells: 78\n",
      "MA8F, 111822_record6 n spatial cells: 49\n"
     ]
    },
    {
     "data": {
      "application/vnd.jupyter.widget-view+json": {
       "model_id": "a4f83f7bda0c4fdca9205f858c1b11eb",
       "version_major": 2,
       "version_minor": 0
      },
      "text/plain": [
       "  0%|          | 0/6 [00:00<?, ?it/s]"
      ]
     },
     "metadata": {},
     "output_type": "display_data"
    },
    {
     "name": "stdout",
     "output_type": "stream",
     "text": [
      "MA9F, 111322_record1 n spatial cells: 114\n",
      "MA9F, 111422_record2 n spatial cells: 295\n",
      "MA9F, 111522_record3 n spatial cells: 207\n",
      "MA9F, 111622_record4 n spatial cells: 8\n",
      "MA9F, 111722_record5 n spatial cells: 100\n",
      "MA9F, 111822_record6 n spatial cells: 75\n"
     ]
    },
    {
     "data": {
      "application/vnd.jupyter.widget-view+json": {
       "model_id": "548019a5f08744a4b82e0ce0c544656a",
       "version_major": 2,
       "version_minor": 0
      },
      "text/plain": [
       "  0%|          | 0/6 [00:00<?, ?it/s]"
      ]
     },
     "metadata": {},
     "output_type": "display_data"
    },
    {
     "name": "stdout",
     "output_type": "stream",
     "text": [
      "Y20, 092522_record1 n spatial cells: 32\n",
      "Y20, 092622_record2 n spatial cells: 104\n",
      "Y20, 092722_record3 n spatial cells: 32\n",
      "Y20, 092822_record4 n spatial cells: 102\n",
      "Y20, 092922_record5 n spatial cells: 35\n",
      "Y20, 093022_record6 n spatial cells: 209\n"
     ]
    },
    {
     "data": {
      "application/vnd.jupyter.widget-view+json": {
       "model_id": "de51a538631a4c52a723c90e42230ba2",
       "version_major": 2,
       "version_minor": 0
      },
      "text/plain": [
       "  0%|          | 0/6 [00:00<?, ?it/s]"
      ]
     },
     "metadata": {},
     "output_type": "display_data"
    },
    {
     "name": "stdout",
     "output_type": "stream",
     "text": [
      "Y21, 091822_record1 n spatial cells: 196\n",
      "Y21, 091922_record2 n spatial cells: 221\n",
      "Y21, 092022_record3 n spatial cells: 102\n",
      "Y21, 092122_record4 n spatial cells: 167\n",
      "Y21, 092222_record5 n spatial cells: 120\n",
      "Y21, 092322_record6 n spatial cells: 36\n"
     ]
    },
    {
     "data": {
      "application/vnd.jupyter.widget-view+json": {
       "model_id": "e4883175905a4875bab8fbe5fb7ed18e",
       "version_major": 2,
       "version_minor": 0
      },
      "text/plain": [
       "  0%|          | 0/6 [00:00<?, ?it/s]"
      ]
     },
     "metadata": {},
     "output_type": "display_data"
    },
    {
     "name": "stdout",
     "output_type": "stream",
     "text": [
      "Y22, 092522_record1 n spatial cells: 187\n",
      "Y22, 092622_record2 n spatial cells: 270\n",
      "Y22, 092722_record3 n spatial cells: 198\n",
      "Y22, 092822_record4 n spatial cells: 69\n",
      "Y22, 092922_record5 n spatial cells: 63\n",
      "Y22, 093022_record6 n spatial cells: 127\n"
     ]
    },
    {
     "data": {
      "application/vnd.jupyter.widget-view+json": {
       "model_id": "634d4afbc89a4dddb7ecc1495432ccd2",
       "version_major": 2,
       "version_minor": 0
      },
      "text/plain": [
       "  0%|          | 0/6 [00:00<?, ?it/s]"
      ]
     },
     "metadata": {},
     "output_type": "display_data"
    },
    {
     "name": "stdout",
     "output_type": "stream",
     "text": [
      "Y23, 092522_record1 n spatial cells: 68\n",
      "Y23, 092622_record2 n spatial cells: 61\n",
      "Y23, 092722_record3 n spatial cells: 80\n",
      "Y23, 092822_record4 n spatial cells: 70\n",
      "Y23, 092922_record5 n spatial cells: 111\n",
      "Y23, 093022_record6 n spatial cells: 177\n"
     ]
    },
    {
     "data": {
      "application/vnd.jupyter.widget-view+json": {
       "model_id": "770c83a4f1474effb91aefc9ebedc6fd",
       "version_major": 2,
       "version_minor": 0
      },
      "text/plain": [
       "  0%|          | 0/6 [00:00<?, ?it/s]"
      ]
     },
     "metadata": {},
     "output_type": "display_data"
    },
    {
     "name": "stdout",
     "output_type": "stream",
     "text": [
      "Y24, 091822_record1 n spatial cells: 205\n",
      "Y24, 091922_record2 n spatial cells: 141\n",
      "Y24, 092022_record3 n spatial cells: 182\n",
      "Y24, 092122_record4 n spatial cells: 200\n",
      "Y24, 092222_record5 n spatial cells: 161\n",
      "Y24, 092322_record6 n spatial cells: 178\n"
     ]
    },
    {
     "data": {
      "application/vnd.jupyter.widget-view+json": {
       "model_id": "a7d69631383241d09d2166e47a4bcd5a",
       "version_major": 2,
       "version_minor": 0
      },
      "text/plain": [
       "  0%|          | 0/6 [00:00<?, ?it/s]"
      ]
     },
     "metadata": {},
     "output_type": "display_data"
    },
    {
     "name": "stdout",
     "output_type": "stream",
     "text": [
      "Y25, 021623_record1 n spatial cells: 8\n",
      "Y25, 021723_record2 n spatial cells: 147\n",
      "Y25, 021823_record3 n spatial cells: 109\n",
      "Y25, 021923_record4 n spatial cells: 107\n",
      "Y25, 022023_record5 n spatial cells: 113\n",
      "Y25, 022123_record6 n spatial cells: 45\n"
     ]
    },
    {
     "data": {
      "application/vnd.jupyter.widget-view+json": {
       "model_id": "d1e15d0d3ca94586bf5f64a83be98510",
       "version_major": 2,
       "version_minor": 0
      },
      "text/plain": [
       "  0%|          | 0/6 [00:00<?, ?it/s]"
      ]
     },
     "metadata": {},
     "output_type": "display_data"
    },
    {
     "name": "stdout",
     "output_type": "stream",
     "text": [
      "Y26, 021623_record1 n spatial cells: 121\n",
      "Y26, 021723_record2 n spatial cells: 117\n",
      "Y26, 021823_record3 n spatial cells: 68\n",
      "Y26, 021923_record4 n spatial cells: 8\n",
      "Y26, 022023_record5 n spatial cells: 56\n",
      "Y26, 022123_record6 n spatial cells: 16\n"
     ]
    },
    {
     "data": {
      "application/vnd.jupyter.widget-view+json": {
       "model_id": "acc82a3cc6964f5c8f7c377df93c3e11",
       "version_major": 2,
       "version_minor": 0
      },
      "text/plain": [
       "  0%|          | 0/6 [00:00<?, ?it/s]"
      ]
     },
     "metadata": {},
     "output_type": "display_data"
    },
    {
     "name": "stdout",
     "output_type": "stream",
     "text": [
      "Y27, 021623_record1 n spatial cells: 112\n",
      "Y27, 021723_record2 n spatial cells: 79\n",
      "Y27, 021823_record3 n spatial cells: 78\n",
      "Y27, 021923_record4 n spatial cells: 60\n",
      "Y27, 022023_record5rep n spatial cells: 105\n",
      "Y27, 022123_record6 n spatial cells: 122\n"
     ]
    },
    {
     "data": {
      "application/vnd.jupyter.widget-view+json": {
       "model_id": "fe3a4b9fda8a44e2ac6446cbf2a66e37",
       "version_major": 2,
       "version_minor": 0
      },
      "text/plain": [
       "  0%|          | 0/6 [00:00<?, ?it/s]"
      ]
     },
     "metadata": {},
     "output_type": "display_data"
    },
    {
     "name": "stdout",
     "output_type": "stream",
     "text": [
      "Y28, 022623_record1 n spatial cells: 42\n",
      "Y28, 022723_record2 n spatial cells: 119\n",
      "Y28, 022823_record3 n spatial cells: 107\n",
      "Y28, 030123_record4 n spatial cells: 73\n",
      "Y28, 030223_record5 n spatial cells: 190\n",
      "Y28, 030323_record6 n spatial cells: 138\n"
     ]
    }
   ],
   "source": [
    "'''Check overall density of spatial cells '''\n",
    "\n",
    "perspatial = []\n",
    "sperspatial = []\n",
    "mperspatial = []\n",
    "\n",
    "for m, session in zip(mice,sessions):\n",
    "    \n",
    "    m_perspatial = []\n",
    "    m_cells = []\n",
    "    \n",
    "    for s in tdqm(session):\n",
    "        d = data[m][s]\n",
    "        \n",
    "        #load in data\n",
    "        rawdata_file = 'RAW_' + m + '_' + s + '.npy'\n",
    "        raw = np.load(load_folder + rawdata_file, allow_pickle=True)\n",
    "        cell_IDs = raw.item().get('cellsfil')\n",
    "        \n",
    "        spatialcell = d['spatialcell99'].astype(bool)\n",
    "        \n",
    "        print(m + ', ' + s + ' n spatial cells: '+ str(np.sum(spatialcell)))\n",
    "        perspatial = np.append(perspatial, 100*np.sum(spatialcell)/len(cell_IDs))        \n",
    "        sperspatial = np.append(sperspatial, 100*np.sum(spatialcell)/len(cell_IDs))\n",
    "        m_perspatial = np.append(m_perspatial, np.sum(spatialcell))\n",
    "        m_cells = np.append(m_cells, len(cell_IDs))\n",
    "    \n",
    "    mperspatial = np.append(mperspatial, np.sum(m_perspatial)/np.sum(m_cells)*100)"
   ]
  },
  {
   "cell_type": "code",
   "execution_count": 15,
   "id": "9941bc81",
   "metadata": {},
   "outputs": [
    {
     "name": "stdout",
     "output_type": "stream",
     "text": [
      "Mean, SEM spatial Cell %\n",
      "39.348479562138444 1.1199843625411945\n"
     ]
    },
    {
     "data": {
      "image/png": "[encoded data removed]",
      "text/plain": [
       "<Figure size 230x250 with 1 Axes>"
      ]
     },
     "metadata": {},
     "output_type": "display_data"
    }
   ],
   "source": [
    "''' Examine spatial cell densities quickly as a sanity check'''\n",
    "\n",
    "# Assess distribution of spatial/ngs cell densities\n",
    "print('Mean, SEM spatial Cell %')\n",
    "print(np.mean(perspatial), stats.sem(perspatial))\n",
    "\n",
    "#plot spatial cell % distributions\n",
    "fig, ax = plt.subplots(1,1,figsize = (2.3,2.5), sharey = True)\n",
    "ax.hist(perspatial, bins = np.arange(0,80,2), edgecolor = 'black',alpha = 0.5, color = 'C0')\n",
    "ax.set_title('Sessions vs. Spatial Cell %')\n",
    "ax.set_ylabel('Number of Sessions')\n",
    "ax.set_xlabel('Spatial Cell %')\n",
    "\n",
    "plt.show()"
   ]
  },
  {
   "cell_type": "code",
   "execution_count": 16,
   "id": "2878b93c",
   "metadata": {},
   "outputs": [
    {
     "name": "stdout",
     "output_type": "stream",
     "text": [
      "['Y20' 'Y21' 'Y22' 'Y23' 'Y24' 'Y25' 'Y26' 'Y27' 'Y28'] ['MA10F' 'MA1F' 'MA2F' 'MA3M' 'MA4M' 'MA5M' 'MA6M' 'MA7M' 'MA8F' 'MA9F'] ['A14' 'A15' 'A16' 'A17' 'A18' 'A19' 'A20' 'A22' 'A23' 'A24']\n",
      "9 10 10\n",
      "54 58 55\n"
     ]
    }
   ],
   "source": [
    "'''Get Indices of Stored Session, Animal Data Mice by Age Group'''\n",
    "age_ind = []\n",
    "ma_ind = []\n",
    "y_ind = []\n",
    "age_sind = []\n",
    "ma_sind = []\n",
    "y_sind = []\n",
    "\n",
    "s_count = 0\n",
    "for m, s in zip(mice, sessions):\n",
    "    start = s_count\n",
    "    end = len(s) + s_count\n",
    "\n",
    "    if m in all_aged_mice:\n",
    "        age_ind = np.append(age_ind, (np.where(mice == m)[0]))\n",
    "        age_sind = np.append(age_sind, np.arange(start, end, 1))\n",
    "    elif m in all_MA_mice:\n",
    "        ma_ind = np.append(ma_ind, (np.where(mice == m)[0]))\n",
    "        ma_sind = np.append(ma_sind, np.arange(start, end, 1))\n",
    "    else:\n",
    "        y_ind = np.append(y_ind, (np.where(mice == m)[0]))\n",
    "        y_sind = np.append(y_sind, np.arange(start, end, 1))\n",
    "                            \n",
    "    s_count += len(s)\n",
    "    \n",
    "age_ind = age_ind.astype(int)\n",
    "ma_ind = ma_ind.astype(int)\n",
    "y_ind = y_ind.astype(int)\n",
    "age_sind = age_sind.astype(int)\n",
    "ma_sind = ma_sind.astype(int)\n",
    "y_sind = y_sind.astype(int)\n",
    "\n",
    "print(mice[y_ind], mice[ma_ind], mice[age_ind])\n",
    "print(len(mice[y_ind]), len(mice[ma_ind]), len(mice[age_ind]))\n",
    "print(len(y_sind), len(ma_sind), len(age_sind))\n",
    "Nold = len(mice[age_ind])\n",
    "Nma = len(mice[ma_ind])\n",
    "Nyoung = len(mice[y_ind])"
   ]
  },
  {
   "cell_type": "code",
   "execution_count": 17,
   "id": "029c6fa6",
   "metadata": {},
   "outputs": [],
   "source": [
    "''' Define ColorMaps for Session & Animal Boxplots '''\n",
    "import matplotlib.pylab as pl\n",
    "import matplotlib.lines as mlines\n",
    "\n",
    "col_animal_old = pl.cm.Oranges([np.linspace(0.2,0.9,10)])\n",
    "col_animal_MA = pl.cm.Greens([np.linspace(0.2,0.9,10)])\n",
    "col_animal_young = pl.cm.Blues([np.linspace(0.2,0.9,9)])\n",
    "col_animal = [col_animal_young, col_animal_MA, col_animal_old]\n",
    "\n",
    "col_session_young = []\n",
    "col_session_MA = []\n",
    "col_session_old = []\n",
    "\n",
    "for m, session in zip(mice, sessions):\n",
    "    for s in range(0,len(session)):\n",
    "        \n",
    "        if m in SM_aged_mice:\n",
    "            idx = np.where(mice == m)[0][0] \n",
    "            col_session_old.append(col_animal[2][0][idx])           \n",
    "        elif m in SM_MA_mice:\n",
    "            idx = np.where(mice == m)[0][0] - Nold\n",
    "            col_session_MA.append(col_animal[1][0][idx])\n",
    "        else:\n",
    "            idx = np.where(mice == m)[0][0] - (Nold + Nma)\n",
    "            col_session_young.append(col_animal[0][0][idx])\n",
    "\n",
    "col_session = [col_session_young, col_session_MA, col_session_old]\n",
    "label_mice = ['Y20', 'Y21', 'Y22', 'Y23', 'Y24', 'Y25', 'Y26', 'Y27', 'Y28', \"\",\n",
    "              'MA10F', 'MA1F', 'MA2F', 'MA3M', 'MA4M', 'MA5M', 'MA6M', 'MA7M', 'MA8F', 'MA9F',\n",
    "              'A14', 'A15', 'A16', 'A17', 'A18', 'A19', 'A20', 'A22', 'A23', 'A24']\n",
    "\n",
    "# set up handles\n",
    "from itertools import repeat\n",
    "per99 = [mperspatial[y_ind], mperspatial[ma_ind], mperspatial[age_ind]]\n",
    "handles = []\n",
    "\n",
    "for i in range(len(per99)):\n",
    "    for c in col_animal[i][0]:\n",
    "        dot = mlines.Line2D([],[], color = c, marker ='o', linestyle = 'None', markersize = 8)\n",
    "        handles.append(dot)\n",
    "        \n",
    "        if c[0] == col_animal[0][0][8][0]: # adds white space so columns are color sorted\n",
    "            l = mlines.Line2D([0],[0],color=\"w\")\n",
    "            handles.append(l)"
   ]
  },
  {
   "cell_type": "markdown",
   "id": "12dd2be3",
   "metadata": {},
   "source": [
    "# Calculate Spatial Cell Stability & Similarity Ratio"
   ]
  },
  {
   "cell_type": "markdown",
   "id": "a13ac708",
   "metadata": {},
   "source": [
    "Mimics Manuscript Figures 2F-I as grid cells make up ~50% of spatial cells together with non-grid spatial cells (see Figure S2A); only incldued as Reviewer Figure 5."
   ]
  },
  {
   "cell_type": "code",
   "execution_count": 25,
   "id": "eb5e0070",
   "metadata": {
    "scrolled": true
   },
   "outputs": [
    {
     "data": {
      "application/vnd.jupyter.widget-view+json": {
       "model_id": "54d6355249b04f1aaef1f12023ed0b31",
       "version_major": 2,
       "version_minor": 0
      },
      "text/plain": [
       "  0%|          | 0/3 [00:00<?, ?it/s]"
      ]
     },
     "metadata": {},
     "output_type": "display_data"
    },
    {
     "data": {
      "application/vnd.jupyter.widget-view+json": {
       "model_id": "75cffa369097445795e032ec78f51fb9",
       "version_major": 2,
       "version_minor": 0
      },
      "text/plain": [
       "  0%|          | 0/6 [00:00<?, ?it/s]"
      ]
     },
     "metadata": {},
     "output_type": "display_data"
    },
    {
     "data": {
      "application/vnd.jupyter.widget-view+json": {
       "model_id": "2d7ac717bc7f4a9ead4e0fcd9293390f",
       "version_major": 2,
       "version_minor": 0
      },
      "text/plain": [
       "  0%|          | 0/4 [00:00<?, ?it/s]"
      ]
     },
     "metadata": {},
     "output_type": "display_data"
    },
    {
     "data": {
      "application/vnd.jupyter.widget-view+json": {
       "model_id": "61014d30b4ca4690893768c33e67438f",
       "version_major": 2,
       "version_minor": 0
      },
      "text/plain": [
       "  0%|          | 0/6 [00:00<?, ?it/s]"
      ]
     },
     "metadata": {},
     "output_type": "display_data"
    },
    {
     "data": {
      "application/vnd.jupyter.widget-view+json": {
       "model_id": "18fa53429b9347628362f1c6e6f8a264",
       "version_major": 2,
       "version_minor": 0
      },
      "text/plain": [
       "  0%|          | 0/6 [00:00<?, ?it/s]"
      ]
     },
     "metadata": {},
     "output_type": "display_data"
    },
    {
     "data": {
      "application/vnd.jupyter.widget-view+json": {
       "model_id": "d4582cacef7a4d88aa1608769bf33236",
       "version_major": 2,
       "version_minor": 0
      },
      "text/plain": [
       "  0%|          | 0/6 [00:00<?, ?it/s]"
      ]
     },
     "metadata": {},
     "output_type": "display_data"
    },
    {
     "data": {
      "application/vnd.jupyter.widget-view+json": {
       "model_id": "74e4ca8d16c845b5b1720b66f015a4af",
       "version_major": 2,
       "version_minor": 0
      },
      "text/plain": [
       "  0%|          | 0/6 [00:00<?, ?it/s]"
      ]
     },
     "metadata": {},
     "output_type": "display_data"
    },
    {
     "data": {
      "application/vnd.jupyter.widget-view+json": {
       "model_id": "ba070f799a744146a1a9e108743cad32",
       "version_major": 2,
       "version_minor": 0
      },
      "text/plain": [
       "  0%|          | 0/6 [00:00<?, ?it/s]"
      ]
     },
     "metadata": {},
     "output_type": "display_data"
    },
    {
     "data": {
      "application/vnd.jupyter.widget-view+json": {
       "model_id": "f6c7483ebc4743dc81baeb1d06cf7008",
       "version_major": 2,
       "version_minor": 0
      },
      "text/plain": [
       "  0%|          | 0/6 [00:00<?, ?it/s]"
      ]
     },
     "metadata": {},
     "output_type": "display_data"
    },
    {
     "data": {
      "application/vnd.jupyter.widget-view+json": {
       "model_id": "dc57c4b901dc40bbbb21bf028c066489",
       "version_major": 2,
       "version_minor": 0
      },
      "text/plain": [
       "  0%|          | 0/6 [00:00<?, ?it/s]"
      ]
     },
     "metadata": {},
     "output_type": "display_data"
    },
    {
     "data": {
      "application/vnd.jupyter.widget-view+json": {
       "model_id": "f87274337e274b7291d904dc4d029c90",
       "version_major": 2,
       "version_minor": 0
      },
      "text/plain": [
       "  0%|          | 0/6 [00:00<?, ?it/s]"
      ]
     },
     "metadata": {},
     "output_type": "display_data"
    },
    {
     "data": {
      "application/vnd.jupyter.widget-view+json": {
       "model_id": "f14de4d4486c4b8c9ce1b708162ee7bf",
       "version_major": 2,
       "version_minor": 0
      },
      "text/plain": [
       "  0%|          | 0/6 [00:00<?, ?it/s]"
      ]
     },
     "metadata": {},
     "output_type": "display_data"
    },
    {
     "data": {
      "application/vnd.jupyter.widget-view+json": {
       "model_id": "34c95bcf41744af99bee8e47db1a8504",
       "version_major": 2,
       "version_minor": 0
      },
      "text/plain": [
       "  0%|          | 0/6 [00:00<?, ?it/s]"
      ]
     },
     "metadata": {},
     "output_type": "display_data"
    },
    {
     "data": {
      "application/vnd.jupyter.widget-view+json": {
       "model_id": "72cfb7d7846f438abcdd02130ca6b9aa",
       "version_major": 2,
       "version_minor": 0
      },
      "text/plain": [
       "  0%|          | 0/6 [00:00<?, ?it/s]"
      ]
     },
     "metadata": {},
     "output_type": "display_data"
    },
    {
     "data": {
      "application/vnd.jupyter.widget-view+json": {
       "model_id": "6e093e0e45734ea195e8cb1e29f28148",
       "version_major": 2,
       "version_minor": 0
      },
      "text/plain": [
       "  0%|          | 0/6 [00:00<?, ?it/s]"
      ]
     },
     "metadata": {},
     "output_type": "display_data"
    },
    {
     "data": {
      "application/vnd.jupyter.widget-view+json": {
       "model_id": "d7de31a8710b4c11906a22bb2669933b",
       "version_major": 2,
       "version_minor": 0
      },
      "text/plain": [
       "  0%|          | 0/6 [00:00<?, ?it/s]"
      ]
     },
     "metadata": {},
     "output_type": "display_data"
    },
    {
     "data": {
      "application/vnd.jupyter.widget-view+json": {
       "model_id": "aaaf1c6439114f70bd27c0bdfad43c23",
       "version_major": 2,
       "version_minor": 0
      },
      "text/plain": [
       "  0%|          | 0/6 [00:00<?, ?it/s]"
      ]
     },
     "metadata": {},
     "output_type": "display_data"
    },
    {
     "data": {
      "application/vnd.jupyter.widget-view+json": {
       "model_id": "52a7be898f04460481d635131855d666",
       "version_major": 2,
       "version_minor": 0
      },
      "text/plain": [
       "  0%|          | 0/4 [00:00<?, ?it/s]"
      ]
     },
     "metadata": {},
     "output_type": "display_data"
    },
    {
     "data": {
      "application/vnd.jupyter.widget-view+json": {
       "model_id": "dd6820a7514042229a4312dbdc687bec",
       "version_major": 2,
       "version_minor": 0
      },
      "text/plain": [
       "  0%|          | 0/6 [00:00<?, ?it/s]"
      ]
     },
     "metadata": {},
     "output_type": "display_data"
    },
    {
     "data": {
      "application/vnd.jupyter.widget-view+json": {
       "model_id": "d68fcda61fc64b48bb45dbbb7b0db55b",
       "version_major": 2,
       "version_minor": 0
      },
      "text/plain": [
       "  0%|          | 0/6 [00:00<?, ?it/s]"
      ]
     },
     "metadata": {},
     "output_type": "display_data"
    },
    {
     "data": {
      "application/vnd.jupyter.widget-view+json": {
       "model_id": "11809f034a7f4b33a112b67f2e6dfe53",
       "version_major": 2,
       "version_minor": 0
      },
      "text/plain": [
       "  0%|          | 0/6 [00:00<?, ?it/s]"
      ]
     },
     "metadata": {},
     "output_type": "display_data"
    },
    {
     "data": {
      "application/vnd.jupyter.widget-view+json": {
       "model_id": "e83c75f9f2c94e3293c382c2d2e01f97",
       "version_major": 2,
       "version_minor": 0
      },
      "text/plain": [
       "  0%|          | 0/6 [00:00<?, ?it/s]"
      ]
     },
     "metadata": {},
     "output_type": "display_data"
    },
    {
     "data": {
      "application/vnd.jupyter.widget-view+json": {
       "model_id": "eb4ac853bfbd4a8791434cd90c949cd5",
       "version_major": 2,
       "version_minor": 0
      },
      "text/plain": [
       "  0%|          | 0/6 [00:00<?, ?it/s]"
      ]
     },
     "metadata": {},
     "output_type": "display_data"
    },
    {
     "data": {
      "application/vnd.jupyter.widget-view+json": {
       "model_id": "e38ecd27b8d74a1f912b033534acf7ce",
       "version_major": 2,
       "version_minor": 0
      },
      "text/plain": [
       "  0%|          | 0/6 [00:00<?, ?it/s]"
      ]
     },
     "metadata": {},
     "output_type": "display_data"
    },
    {
     "data": {
      "application/vnd.jupyter.widget-view+json": {
       "model_id": "c85fa5014e094a3e989b05e30672eba7",
       "version_major": 2,
       "version_minor": 0
      },
      "text/plain": [
       "  0%|          | 0/6 [00:00<?, ?it/s]"
      ]
     },
     "metadata": {},
     "output_type": "display_data"
    },
    {
     "data": {
      "application/vnd.jupyter.widget-view+json": {
       "model_id": "94d487c9d4ec44d0aefb2c8bab18273f",
       "version_major": 2,
       "version_minor": 0
      },
      "text/plain": [
       "  0%|          | 0/6 [00:00<?, ?it/s]"
      ]
     },
     "metadata": {},
     "output_type": "display_data"
    },
    {
     "data": {
      "application/vnd.jupyter.widget-view+json": {
       "model_id": "5b7feab9b8f34b6fb4b86e203fa6c1f1",
       "version_major": 2,
       "version_minor": 0
      },
      "text/plain": [
       "  0%|          | 0/6 [00:00<?, ?it/s]"
      ]
     },
     "metadata": {},
     "output_type": "display_data"
    },
    {
     "data": {
      "application/vnd.jupyter.widget-view+json": {
       "model_id": "72860a6d3411411fbd64cf1d80f6831b",
       "version_major": 2,
       "version_minor": 0
      },
      "text/plain": [
       "  0%|          | 0/6 [00:00<?, ?it/s]"
      ]
     },
     "metadata": {},
     "output_type": "display_data"
    },
    {
     "data": {
      "application/vnd.jupyter.widget-view+json": {
       "model_id": "ed82af623262465fbfb821febfafc5b1",
       "version_major": 2,
       "version_minor": 0
      },
      "text/plain": [
       "  0%|          | 0/6 [00:00<?, ?it/s]"
      ]
     },
     "metadata": {},
     "output_type": "display_data"
    }
   ],
   "source": [
    "''' Compute & Plot Sorted Cross-Trial Correlation Matrices for Spatial Cells; Save Matrices for Later Use \n",
    "\n",
    "Run time is a <1 minute per session (scales w/ cell number).\n",
    "\n",
    "'''\n",
    "\n",
    "for m, session in zip(mice,sessions):\n",
    "\n",
    "    for s in tdqm(session):\n",
    "        \n",
    "        #get data\n",
    "        d = data[m][s]\n",
    "        \n",
    "        #get some data & cell IDs\n",
    "        rawdata_file = 'RAW_' + m + '_' + s + '.npy'\n",
    "        spikes_file = 'SPIKES_' + m + '_' + s +'.npy'\n",
    "        behavior_file = 'BEHAVIOR_' + m + '_' + s + '.npy'\n",
    "        \n",
    "        raw = np.load(load_folder + rawdata_file, allow_pickle=True)\n",
    "        Y = np.load(load_folder + spikes_file, allow_pickle=False) #pre-filtered for speeds >2cm/s, position-corrected spikes, 20 ms timebins\n",
    "        behaviorfil = np.load(load_folder + behavior_file, allow_pickle=False)\n",
    "        \n",
    "        cell_IDs = raw.item().get('cellsfil')\n",
    "        spatialcell = d['spatialcell99'].astype(bool)\n",
    "        spatialcells = cell_IDs[spatialcell]    \n",
    "    \n",
    "        posx = behaviorfil[:,0]\n",
    "        trial = behaviorfil[:,2]\n",
    "        rawtrialfil = raw.item().get('trialfil')\n",
    "        \n",
    "        #Find any skipped trials\n",
    "        try:\n",
    "            _ = raw.item().get('correctedtrial').shape\n",
    "            if (len(np.unique(trial)) < 220): \n",
    "                alltrial = np.arange(0, np.max(np.unique(trial)) + 1 , 1)\n",
    "            else:    \n",
    "                alltrial = np.arange(0,220,1)\n",
    "            skippedtrials = np.setdiff1d(alltrial, np.unique(trial)).astype(int)\n",
    "            #print('Skipped trials, n skipped = ' + str(len(skippedtrials)) + str(skippedtrials))\n",
    "        except: \n",
    "            skippedtrials = []\n",
    "            alltrial = np.arange(0, 220, 1)\n",
    "        \n",
    "        if np.max(np.unique(trial)) < 160: #handles truncated, shorter sessions \n",
    "            alltrial = np.arange(0, np.max(np.unique(trial)) + 2, 1)\n",
    "        else:\n",
    "            alltrial = np.arange(0,220,1)\n",
    "\n",
    "        # Load in left vs. right info\n",
    "        trials = np.unique(trial)\n",
    "        trialinfo = raw.item().get('trialinfo')\n",
    "        left = trialinfo['left']\n",
    "        \n",
    "        #sort trial labels to correspond\n",
    "        posxcopy = posx.copy()\n",
    "        leftsort = left.copy()\n",
    "        alt_idx = 140\n",
    "        lefttail = left[alt_idx:]\n",
    "        lefttail = 1 - lefttail\n",
    "        leftsort[alt_idx:] = lefttail[np.argsort(lefttail, kind = 'stable')]\n",
    "\n",
    "        #revise skippedtrials locations\n",
    "        allcopy = alltrial.copy()\n",
    "        alltail = alltrial[alt_idx:]\n",
    "        allcopy[alt_idx:] = alltail[np.argsort(lefttail, kind = 'stable')]\n",
    "        newskippedtrials = []\n",
    "        for z in skippedtrials:\n",
    "            newskippedtrials = np.append(newskippedtrials, np.where(allcopy == z)[0][0])\n",
    "\n",
    "        ndarkskipped = 0\n",
    "        for z in newskippedtrials:\n",
    "            if z < 20: \n",
    "                ndarkskipped += 1\n",
    "                \n",
    "        #sort position & spike train, all copy is in the sorted order\n",
    "        posxcopy = []\n",
    "        allcopy = np.append(allcopy, 220)\n",
    "        for t in allcopy:\n",
    "            obs_idx = np.where(trial == t)[0]\n",
    "            posxcopy = np.append(posxcopy, posx[obs_idx])\n",
    "\n",
    "            if t == 0:\n",
    "                Z = Y[obs_idx,:]\n",
    "            else: \n",
    "                Z = np.append(Z, Y[obs_idx,:], axis = 0)\n",
    "\n",
    "        #adjust trialfil so that sorted trials are skipped instead\n",
    "        count = 0\n",
    "        if len(skippedtrials) > 0 :\n",
    "            skippedrawtrialfil = rawtrialfil.copy()\n",
    "            consec = get.count_consec(list(np.sort(newskippedtrials).astype(int)))\n",
    "\n",
    "            for i, k in enumerate(consec):\n",
    "                t = np.sort(newskippedtrials)[count] \n",
    "\n",
    "                if i == 0: \n",
    "                    skippedrawtrialfil[rawtrialfil >= t] = skippedrawtrialfil[rawtrialfil >= t] + k\n",
    "                else: \n",
    "                    skippedrawtrialfil[skippedrawtrialfil >= t] = skippedrawtrialfil[skippedrawtrialfil >= t] + k\n",
    "\n",
    "                count += k\n",
    "        else:\n",
    "            skippedrawtrialfil = trial.copy()\n",
    "        \n",
    "        #trim off the dark trials & trial 220 dataframes\n",
    "        start_idx = (np.where(skippedrawtrialfil >= 20)[0][0]).astype(int)\n",
    "        if np.max(skippedrawtrialfil) == 220:\n",
    "            end_idx = (np.where(skippedrawtrialfil == 220)[0][0])\n",
    "            #get smoothed by trial FR matrix excluding dark period sorted by context\n",
    "            normFR, _, _ = ps.tuning_curve_bytrial(posxcopy[start_idx:end_idx], skippedrawtrialfil[start_idx:end_idx], Z[start_idx:end_idx,:], dt, sigma = 5, b=2, smooth=True, normalize=True, occupancy=True)\n",
    "        else:\n",
    "            end_idx = len(skippedrawtrialfil) + 1\n",
    "            #get smoothed by trial FR matrix excluding dark period sorted by context\n",
    "            normFR, _, _ = ps.tuning_curve_bytrial(posxcopy[start_idx:], skippedrawtrialfil[start_idx:], Z[start_idx:,:], dt, sigma = 5, b=2, smooth=True, normalize=True, occupancy=True)\n",
    "\n",
    "        #collect & plot cross-trial correlation matrices & save for the grid cell population\n",
    "        allsim = np.zeros(shape = (len(np.unique(skippedrawtrialfil[start_idx:end_idx])),len(np.unique(skippedrawtrialfil[start_idx:end_idx])),len(spatialcells)))\n",
    "        for i, c in enumerate(spatialcells):\n",
    "            sdx = (np.where(cell_IDs == c)[0][0]).astype(int)  \n",
    "            sim , _  = ps.cross_trial_correlation(normFR[:,:,sdx], shift = False) \n",
    "            allsim[:,:,i] = sim\n",
    "\n",
    "        # save matrix of cross-trial correlations\n",
    "        d['allspatialsim'] = allsim\n",
    "                               \n",
    "        allspatialsim_file = 'allspatialsim_' + m + '_' + s + '_'+ '.npy'\n",
    "        np.save(save_folder + allspatialsim_file, allsim)"
   ]
  },
  {
   "cell_type": "code",
   "execution_count": 27,
   "id": "93215f9f",
   "metadata": {
    "scrolled": true
   },
   "outputs": [
    {
     "data": {
      "application/vnd.jupyter.widget-view+json": {
       "model_id": "fe581da8cbd74d308cb0796eb3fc6ef2",
       "version_major": 2,
       "version_minor": 0
      },
      "text/plain": [
       "  0%|          | 0/3 [00:00<?, ?it/s]"
      ]
     },
     "metadata": {},
     "output_type": "display_data"
    },
    {
     "data": {
      "application/vnd.jupyter.widget-view+json": {
       "model_id": "832742f38a674a0883c5b63dbb226987",
       "version_major": 2,
       "version_minor": 0
      },
      "text/plain": [
       "  0%|          | 0/6 [00:00<?, ?it/s]"
      ]
     },
     "metadata": {},
     "output_type": "display_data"
    },
    {
     "data": {
      "application/vnd.jupyter.widget-view+json": {
       "model_id": "f3bee0a394b04d5ea8fe5a6ee8e683eb",
       "version_major": 2,
       "version_minor": 0
      },
      "text/plain": [
       "  0%|          | 0/4 [00:00<?, ?it/s]"
      ]
     },
     "metadata": {},
     "output_type": "display_data"
    },
    {
     "data": {
      "application/vnd.jupyter.widget-view+json": {
       "model_id": "bddbfbc14ba84c2e96ee7ec5ae45c5e0",
       "version_major": 2,
       "version_minor": 0
      },
      "text/plain": [
       "  0%|          | 0/6 [00:00<?, ?it/s]"
      ]
     },
     "metadata": {},
     "output_type": "display_data"
    },
    {
     "data": {
      "application/vnd.jupyter.widget-view+json": {
       "model_id": "844a6f89e810468ca41da20cae316c56",
       "version_major": 2,
       "version_minor": 0
      },
      "text/plain": [
       "  0%|          | 0/6 [00:00<?, ?it/s]"
      ]
     },
     "metadata": {},
     "output_type": "display_data"
    },
    {
     "data": {
      "application/vnd.jupyter.widget-view+json": {
       "model_id": "521d0e8631ea42a3b5673cde2aeeefad",
       "version_major": 2,
       "version_minor": 0
      },
      "text/plain": [
       "  0%|          | 0/6 [00:00<?, ?it/s]"
      ]
     },
     "metadata": {},
     "output_type": "display_data"
    },
    {
     "data": {
      "application/vnd.jupyter.widget-view+json": {
       "model_id": "57aac611f8504d17a636e1b357f598fc",
       "version_major": 2,
       "version_minor": 0
      },
      "text/plain": [
       "  0%|          | 0/6 [00:00<?, ?it/s]"
      ]
     },
     "metadata": {},
     "output_type": "display_data"
    },
    {
     "data": {
      "application/vnd.jupyter.widget-view+json": {
       "model_id": "f783066b3f804a31aa7cd599041e6559",
       "version_major": 2,
       "version_minor": 0
      },
      "text/plain": [
       "  0%|          | 0/6 [00:00<?, ?it/s]"
      ]
     },
     "metadata": {},
     "output_type": "display_data"
    },
    {
     "data": {
      "application/vnd.jupyter.widget-view+json": {
       "model_id": "1f03e46418b14147aa27f43e5403e439",
       "version_major": 2,
       "version_minor": 0
      },
      "text/plain": [
       "  0%|          | 0/6 [00:00<?, ?it/s]"
      ]
     },
     "metadata": {},
     "output_type": "display_data"
    },
    {
     "data": {
      "application/vnd.jupyter.widget-view+json": {
       "model_id": "26ff61a8439040289c43a87eb62d80d8",
       "version_major": 2,
       "version_minor": 0
      },
      "text/plain": [
       "  0%|          | 0/6 [00:00<?, ?it/s]"
      ]
     },
     "metadata": {},
     "output_type": "display_data"
    },
    {
     "data": {
      "application/vnd.jupyter.widget-view+json": {
       "model_id": "b83c670ff1524237b2d0421d92862141",
       "version_major": 2,
       "version_minor": 0
      },
      "text/plain": [
       "  0%|          | 0/6 [00:00<?, ?it/s]"
      ]
     },
     "metadata": {},
     "output_type": "display_data"
    },
    {
     "data": {
      "application/vnd.jupyter.widget-view+json": {
       "model_id": "52d2945fdfc44a09b986b67c72b1fbe9",
       "version_major": 2,
       "version_minor": 0
      },
      "text/plain": [
       "  0%|          | 0/6 [00:00<?, ?it/s]"
      ]
     },
     "metadata": {},
     "output_type": "display_data"
    },
    {
     "data": {
      "application/vnd.jupyter.widget-view+json": {
       "model_id": "fbfd9cb5424848dfa7cbf34b14e5b078",
       "version_major": 2,
       "version_minor": 0
      },
      "text/plain": [
       "  0%|          | 0/6 [00:00<?, ?it/s]"
      ]
     },
     "metadata": {},
     "output_type": "display_data"
    },
    {
     "data": {
      "application/vnd.jupyter.widget-view+json": {
       "model_id": "0db5ddd6d6bb4226bc7d490b23536c4a",
       "version_major": 2,
       "version_minor": 0
      },
      "text/plain": [
       "  0%|          | 0/6 [00:00<?, ?it/s]"
      ]
     },
     "metadata": {},
     "output_type": "display_data"
    },
    {
     "data": {
      "application/vnd.jupyter.widget-view+json": {
       "model_id": "aa6af71b72294dc6936f7cadc9fe2612",
       "version_major": 2,
       "version_minor": 0
      },
      "text/plain": [
       "  0%|          | 0/6 [00:00<?, ?it/s]"
      ]
     },
     "metadata": {},
     "output_type": "display_data"
    },
    {
     "data": {
      "application/vnd.jupyter.widget-view+json": {
       "model_id": "77f825872d7646b98f79100245cc2e33",
       "version_major": 2,
       "version_minor": 0
      },
      "text/plain": [
       "  0%|          | 0/6 [00:00<?, ?it/s]"
      ]
     },
     "metadata": {},
     "output_type": "display_data"
    },
    {
     "data": {
      "application/vnd.jupyter.widget-view+json": {
       "model_id": "1428f9a07e904a84b82d75ad4e800c96",
       "version_major": 2,
       "version_minor": 0
      },
      "text/plain": [
       "  0%|          | 0/6 [00:00<?, ?it/s]"
      ]
     },
     "metadata": {},
     "output_type": "display_data"
    },
    {
     "data": {
      "application/vnd.jupyter.widget-view+json": {
       "model_id": "81bdef4aa8ba42ffbf4655871d1302d5",
       "version_major": 2,
       "version_minor": 0
      },
      "text/plain": [
       "  0%|          | 0/4 [00:00<?, ?it/s]"
      ]
     },
     "metadata": {},
     "output_type": "display_data"
    },
    {
     "data": {
      "application/vnd.jupyter.widget-view+json": {
       "model_id": "28fb78ccdba34bc784f0f9364c6dda5c",
       "version_major": 2,
       "version_minor": 0
      },
      "text/plain": [
       "  0%|          | 0/6 [00:00<?, ?it/s]"
      ]
     },
     "metadata": {},
     "output_type": "display_data"
    },
    {
     "data": {
      "application/vnd.jupyter.widget-view+json": {
       "model_id": "8e067d7770b746d1ad0850eb9b859b14",
       "version_major": 2,
       "version_minor": 0
      },
      "text/plain": [
       "  0%|          | 0/6 [00:00<?, ?it/s]"
      ]
     },
     "metadata": {},
     "output_type": "display_data"
    },
    {
     "data": {
      "application/vnd.jupyter.widget-view+json": {
       "model_id": "735058365f244255bb653b5fea15b38a",
       "version_major": 2,
       "version_minor": 0
      },
      "text/plain": [
       "  0%|          | 0/6 [00:00<?, ?it/s]"
      ]
     },
     "metadata": {},
     "output_type": "display_data"
    },
    {
     "data": {
      "application/vnd.jupyter.widget-view+json": {
       "model_id": "51c0b700a37540b292f64e7e820587d6",
       "version_major": 2,
       "version_minor": 0
      },
      "text/plain": [
       "  0%|          | 0/6 [00:00<?, ?it/s]"
      ]
     },
     "metadata": {},
     "output_type": "display_data"
    },
    {
     "data": {
      "application/vnd.jupyter.widget-view+json": {
       "model_id": "68d9e0b89dc64e07bb1bea452b931ee6",
       "version_major": 2,
       "version_minor": 0
      },
      "text/plain": [
       "  0%|          | 0/6 [00:00<?, ?it/s]"
      ]
     },
     "metadata": {},
     "output_type": "display_data"
    },
    {
     "data": {
      "application/vnd.jupyter.widget-view+json": {
       "model_id": "078a99df89324027a302102fbccada4b",
       "version_major": 2,
       "version_minor": 0
      },
      "text/plain": [
       "  0%|          | 0/6 [00:00<?, ?it/s]"
      ]
     },
     "metadata": {},
     "output_type": "display_data"
    },
    {
     "data": {
      "application/vnd.jupyter.widget-view+json": {
       "model_id": "a99493d03e8545baa8d4bde1ae440868",
       "version_major": 2,
       "version_minor": 0
      },
      "text/plain": [
       "  0%|          | 0/6 [00:00<?, ?it/s]"
      ]
     },
     "metadata": {},
     "output_type": "display_data"
    },
    {
     "data": {
      "application/vnd.jupyter.widget-view+json": {
       "model_id": "2981d738ab634d8687608edaa9cbe1f1",
       "version_major": 2,
       "version_minor": 0
      },
      "text/plain": [
       "  0%|          | 0/6 [00:00<?, ?it/s]"
      ]
     },
     "metadata": {},
     "output_type": "display_data"
    },
    {
     "data": {
      "application/vnd.jupyter.widget-view+json": {
       "model_id": "4291a355d3204c4e9b7023e8eef7d7b6",
       "version_major": 2,
       "version_minor": 0
      },
      "text/plain": [
       "  0%|          | 0/6 [00:00<?, ?it/s]"
      ]
     },
     "metadata": {},
     "output_type": "display_data"
    },
    {
     "data": {
      "application/vnd.jupyter.widget-view+json": {
       "model_id": "b5b1d9c4284a444fb5794af6f0d91662",
       "version_major": 2,
       "version_minor": 0
      },
      "text/plain": [
       "  0%|          | 0/6 [00:00<?, ?it/s]"
      ]
     },
     "metadata": {},
     "output_type": "display_data"
    },
    {
     "data": {
      "application/vnd.jupyter.widget-view+json": {
       "model_id": "0c4688fea04f4a07be89f061822bc4bd",
       "version_major": 2,
       "version_minor": 0
      },
      "text/plain": [
       "  0%|          | 0/6 [00:00<?, ?it/s]"
      ]
     },
     "metadata": {},
     "output_type": "display_data"
    }
   ],
   "source": [
    "''' Calculate Local Cross Trial Correlation Stability within Each Context'''\n",
    "\n",
    "from scipy.spatial.distance import pdist\n",
    "from scipy.spatial.distance import squareform\n",
    "\n",
    "dt = 0.02\n",
    "max_k = 5\n",
    "\n",
    "#session arrays\n",
    "slocstab5block = []\n",
    "slocstab5alt = []\n",
    "\n",
    "#cell arrays\n",
    "ylocstab5block = []\n",
    "ylocstab5alt = []\n",
    "malocstab5block = []\n",
    "malocstab5alt = []\n",
    "alocstab5block = []\n",
    "alocstab5alt = []\n",
    "\n",
    "for m, session in zip(mice, sessions):\n",
    "    \n",
    "    m_locstab5A = []\n",
    "    m_locstab5B = []\n",
    "    m_locstab5A_ = []\n",
    "    m_locstab5B_ = []\n",
    "    \n",
    "    for s in tdqm(session):\n",
    "        d = data[m][s]\n",
    "        \n",
    "        #get some data & cell IDs\n",
    "        rawdata_file = 'RAW_' + m + '_' + s + '.npy'\n",
    "        behavior_file = 'BEHAVIOR_' + m + '_' + s + '.npy'\n",
    "        raw = np.load(load_folder + rawdata_file, allow_pickle=True)\n",
    "        behaviorfil = np.load(load_folder + behavior_file, allow_pickle=False)\n",
    "        cell_IDs = raw.item().get('cellsfil')\n",
    "        spatialcell = d['spatialcell99'].astype(bool)\n",
    "        spatialcells = cell_IDs[spatialcell]   \n",
    "        trial = behaviorfil[:,2]\n",
    "        \n",
    "        #load the context lengths, exclude A' and B' gain change trials\n",
    "        Aidx = d['Aidx']\n",
    "        lengthA = len(np.unique(trial[Aidx]))\n",
    "        Bidx = d['Bidx'] \n",
    "        lengthB = len(np.unique(trial[Bidx]))\n",
    "        a_idx = d['A_idx']\n",
    "        lengtha_= len(np.unique(trial[a_idx]))\n",
    "        A_idx = d['A_ngidx'] \n",
    "        lengthA_= len(np.unique(trial[A_idx]))\n",
    "        B_idx = d['B_ngidx']\n",
    "        lengthB_= len(np.unique(trial[B_idx]))\n",
    "        \n",
    "        allspatialsim_file = 'allspatialsim_' + m + '_' + s + '_'+ '.npy'\n",
    "        d['allspatialsim'] = np.load(save_folder + allspatialsim_file)\n",
    "        allspatialsim = d['allspatialsim']\n",
    "        \n",
    "        local_stabilityblock = [] \n",
    "        local_stabilityalt = []\n",
    "        for i, c in enumerate(spatialcells):\n",
    "            \n",
    "            #divide sim by context\n",
    "            sim = allspatialsim[:,:,i]\n",
    "            simblock = sim[:(lengthA + lengthB),:(lengthA + lengthB)]\n",
    "            simalt = sim[(lengthA + lengthB):,(lengthA + lengthB):]\n",
    "            \n",
    "            #Block Stability\n",
    "            max_k = 5  \n",
    "            sum_k = np.zeros(simblock.shape[0])\n",
    "            for k in np.arange(-max_k, max_k+1, 1):\n",
    "                if k == 0:\n",
    "                    continue\n",
    "                elif k < 0:\n",
    "                    sum_k[np.abs(k):] = sum_k[np.abs(k):] + np.diagonal(simblock, offset=k)\n",
    "                else:\n",
    "                    sum_k[:-k] = sum_k[:-k] + np.diagonal(simblock, offset=k)\n",
    "            local_stabilityblock = np.append(local_stabilityblock, np.nanmean(sum_k[max_k:-max_k]/(2*max_k)))\n",
    "        \n",
    "            #Alt Stability\n",
    "            max_k = 5  \n",
    "            sum_k = np.zeros(simalt.shape[0])\n",
    "            for k in np.arange(-max_k, max_k+1, 1):\n",
    "                if k == 0:\n",
    "                    continue\n",
    "                elif k < 0:\n",
    "                    sum_k[np.abs(k):] = sum_k[np.abs(k):] + np.diagonal(simalt, offset=k)\n",
    "                else:\n",
    "                    sum_k[:-k] = sum_k[:-k] + np.diagonal(simalt, offset=k)\n",
    "            local_stabilityalt = np.append(local_stabilityalt, np.nanmean(sum_k[max_k:-max_k]/(2*max_k)))\n",
    "        \n",
    "        #save session results\n",
    "        slocstab5block = np.append(slocstab5block, np.nanmean(local_stabilityblock))\n",
    "        slocstab5alt = np.append(slocstab5alt, np.nanmean(local_stabilityalt))\n",
    "        \n",
    "        #pool by age group\n",
    "        if m in SM_aged_mice:\n",
    "            alocstab5block = np.append(alocstab5block, local_stabilityblock) \n",
    "            alocstab5alt = np.append(alocstab5alt, local_stabilityalt) \n",
    "        elif m in SM_MA_mice:\n",
    "            malocstab5block = np.append(malocstab5block, local_stabilityblock) \n",
    "            malocstab5alt = np.append(malocstab5alt, local_stabilityalt) \n",
    "        else:\n",
    "            ylocstab5block = np.append(ylocstab5block, local_stabilityblock) \n",
    "            ylocstab5alt = np.append(ylocstab5alt, local_stabilityalt) \n",
    "\n",
    "#save arrays\n",
    "slocstab5block = np.asarray(slocstab5block)\n",
    "slocstab5alt = np.asarray(slocstab5alt)"
   ]
  },
  {
   "cell_type": "code",
   "execution_count": 29,
   "id": "c433e721",
   "metadata": {
    "scrolled": true
   },
   "outputs": [
    {
     "data": {
      "application/vnd.jupyter.widget-view+json": {
       "model_id": "f6d919225d174d2bb13ecdf06f76eab1",
       "version_major": 2,
       "version_minor": 0
      },
      "text/plain": [
       "  0%|          | 0/3 [00:00<?, ?it/s]"
      ]
     },
     "metadata": {},
     "output_type": "display_data"
    },
    {
     "data": {
      "application/vnd.jupyter.widget-view+json": {
       "model_id": "add551607eb040828e456d1b77db1063",
       "version_major": 2,
       "version_minor": 0
      },
      "text/plain": [
       "  0%|          | 0/6 [00:00<?, ?it/s]"
      ]
     },
     "metadata": {},
     "output_type": "display_data"
    },
    {
     "data": {
      "application/vnd.jupyter.widget-view+json": {
       "model_id": "914c6ab295984a399de40407431e8aff",
       "version_major": 2,
       "version_minor": 0
      },
      "text/plain": [
       "  0%|          | 0/4 [00:00<?, ?it/s]"
      ]
     },
     "metadata": {},
     "output_type": "display_data"
    },
    {
     "data": {
      "application/vnd.jupyter.widget-view+json": {
       "model_id": "62c07b3ea5bf4285bcfbeb09500a733c",
       "version_major": 2,
       "version_minor": 0
      },
      "text/plain": [
       "  0%|          | 0/6 [00:00<?, ?it/s]"
      ]
     },
     "metadata": {},
     "output_type": "display_data"
    },
    {
     "data": {
      "application/vnd.jupyter.widget-view+json": {
       "model_id": "fd24edb26b76457baa05f70c910fc756",
       "version_major": 2,
       "version_minor": 0
      },
      "text/plain": [
       "  0%|          | 0/6 [00:00<?, ?it/s]"
      ]
     },
     "metadata": {},
     "output_type": "display_data"
    },
    {
     "data": {
      "application/vnd.jupyter.widget-view+json": {
       "model_id": "7d26ba8b73bc4269869ddffdc5e49a09",
       "version_major": 2,
       "version_minor": 0
      },
      "text/plain": [
       "  0%|          | 0/6 [00:00<?, ?it/s]"
      ]
     },
     "metadata": {},
     "output_type": "display_data"
    },
    {
     "data": {
      "application/vnd.jupyter.widget-view+json": {
       "model_id": "d4695f3114184532a480a0330c4415ce",
       "version_major": 2,
       "version_minor": 0
      },
      "text/plain": [
       "  0%|          | 0/6 [00:00<?, ?it/s]"
      ]
     },
     "metadata": {},
     "output_type": "display_data"
    },
    {
     "data": {
      "application/vnd.jupyter.widget-view+json": {
       "model_id": "f3798d48766748dfa7ee0febee1cadfe",
       "version_major": 2,
       "version_minor": 0
      },
      "text/plain": [
       "  0%|          | 0/6 [00:00<?, ?it/s]"
      ]
     },
     "metadata": {},
     "output_type": "display_data"
    },
    {
     "data": {
      "application/vnd.jupyter.widget-view+json": {
       "model_id": "6f6eefc394744618bc7411a9e3a2bb10",
       "version_major": 2,
       "version_minor": 0
      },
      "text/plain": [
       "  0%|          | 0/6 [00:00<?, ?it/s]"
      ]
     },
     "metadata": {},
     "output_type": "display_data"
    },
    {
     "data": {
      "application/vnd.jupyter.widget-view+json": {
       "model_id": "0023d810f7fc425ba033e69420669f66",
       "version_major": 2,
       "version_minor": 0
      },
      "text/plain": [
       "  0%|          | 0/6 [00:00<?, ?it/s]"
      ]
     },
     "metadata": {},
     "output_type": "display_data"
    },
    {
     "data": {
      "application/vnd.jupyter.widget-view+json": {
       "model_id": "b0904c52f9424cd7b2a3c2045008bd44",
       "version_major": 2,
       "version_minor": 0
      },
      "text/plain": [
       "  0%|          | 0/6 [00:00<?, ?it/s]"
      ]
     },
     "metadata": {},
     "output_type": "display_data"
    },
    {
     "data": {
      "application/vnd.jupyter.widget-view+json": {
       "model_id": "ad16f9726fdb4d24bd156ea1a7ea61b1",
       "version_major": 2,
       "version_minor": 0
      },
      "text/plain": [
       "  0%|          | 0/6 [00:00<?, ?it/s]"
      ]
     },
     "metadata": {},
     "output_type": "display_data"
    },
    {
     "data": {
      "application/vnd.jupyter.widget-view+json": {
       "model_id": "92371171e3d242138a8030b22e0a0979",
       "version_major": 2,
       "version_minor": 0
      },
      "text/plain": [
       "  0%|          | 0/6 [00:00<?, ?it/s]"
      ]
     },
     "metadata": {},
     "output_type": "display_data"
    },
    {
     "data": {
      "application/vnd.jupyter.widget-view+json": {
       "model_id": "403bfc4691224a999a25f7bf7a3f9aa4",
       "version_major": 2,
       "version_minor": 0
      },
      "text/plain": [
       "  0%|          | 0/6 [00:00<?, ?it/s]"
      ]
     },
     "metadata": {},
     "output_type": "display_data"
    },
    {
     "data": {
      "application/vnd.jupyter.widget-view+json": {
       "model_id": "f5c77eb92d7742a39bc7b30fbe01b321",
       "version_major": 2,
       "version_minor": 0
      },
      "text/plain": [
       "  0%|          | 0/6 [00:00<?, ?it/s]"
      ]
     },
     "metadata": {},
     "output_type": "display_data"
    },
    {
     "data": {
      "application/vnd.jupyter.widget-view+json": {
       "model_id": "129c8814719e4d20aaf7e864f93e1fef",
       "version_major": 2,
       "version_minor": 0
      },
      "text/plain": [
       "  0%|          | 0/6 [00:00<?, ?it/s]"
      ]
     },
     "metadata": {},
     "output_type": "display_data"
    },
    {
     "data": {
      "application/vnd.jupyter.widget-view+json": {
       "model_id": "bda958c2166243e9b085b427eb83a2d6",
       "version_major": 2,
       "version_minor": 0
      },
      "text/plain": [
       "  0%|          | 0/6 [00:00<?, ?it/s]"
      ]
     },
     "metadata": {},
     "output_type": "display_data"
    },
    {
     "data": {
      "application/vnd.jupyter.widget-view+json": {
       "model_id": "95e7afe11dfe4532b89fdeb06731d750",
       "version_major": 2,
       "version_minor": 0
      },
      "text/plain": [
       "  0%|          | 0/4 [00:00<?, ?it/s]"
      ]
     },
     "metadata": {},
     "output_type": "display_data"
    },
    {
     "data": {
      "application/vnd.jupyter.widget-view+json": {
       "model_id": "cc035f17b34c4109ab896d97d526240b",
       "version_major": 2,
       "version_minor": 0
      },
      "text/plain": [
       "  0%|          | 0/6 [00:00<?, ?it/s]"
      ]
     },
     "metadata": {},
     "output_type": "display_data"
    },
    {
     "data": {
      "application/vnd.jupyter.widget-view+json": {
       "model_id": "2e71d07e1a43463bb42d4927ec9cb0f9",
       "version_major": 2,
       "version_minor": 0
      },
      "text/plain": [
       "  0%|          | 0/6 [00:00<?, ?it/s]"
      ]
     },
     "metadata": {},
     "output_type": "display_data"
    },
    {
     "data": {
      "application/vnd.jupyter.widget-view+json": {
       "model_id": "e0c9adb72d65445d81130de6a7c0ba63",
       "version_major": 2,
       "version_minor": 0
      },
      "text/plain": [
       "  0%|          | 0/6 [00:00<?, ?it/s]"
      ]
     },
     "metadata": {},
     "output_type": "display_data"
    },
    {
     "data": {
      "application/vnd.jupyter.widget-view+json": {
       "model_id": "a64326cd399d43f29a0494587637de5d",
       "version_major": 2,
       "version_minor": 0
      },
      "text/plain": [
       "  0%|          | 0/6 [00:00<?, ?it/s]"
      ]
     },
     "metadata": {},
     "output_type": "display_data"
    },
    {
     "data": {
      "application/vnd.jupyter.widget-view+json": {
       "model_id": "048b0789c24646319c6ec7dbbd8b6fe1",
       "version_major": 2,
       "version_minor": 0
      },
      "text/plain": [
       "  0%|          | 0/6 [00:00<?, ?it/s]"
      ]
     },
     "metadata": {},
     "output_type": "display_data"
    },
    {
     "data": {
      "application/vnd.jupyter.widget-view+json": {
       "model_id": "989a84f06ccb4517ab4b2bac6a47f29a",
       "version_major": 2,
       "version_minor": 0
      },
      "text/plain": [
       "  0%|          | 0/6 [00:00<?, ?it/s]"
      ]
     },
     "metadata": {},
     "output_type": "display_data"
    },
    {
     "data": {
      "application/vnd.jupyter.widget-view+json": {
       "model_id": "ac00b0b86628474aa661daa5df757bea",
       "version_major": 2,
       "version_minor": 0
      },
      "text/plain": [
       "  0%|          | 0/6 [00:00<?, ?it/s]"
      ]
     },
     "metadata": {},
     "output_type": "display_data"
    },
    {
     "data": {
      "application/vnd.jupyter.widget-view+json": {
       "model_id": "cf4a445a3c644bb0ac47ff8f737673f5",
       "version_major": 2,
       "version_minor": 0
      },
      "text/plain": [
       "  0%|          | 0/6 [00:00<?, ?it/s]"
      ]
     },
     "metadata": {},
     "output_type": "display_data"
    },
    {
     "data": {
      "application/vnd.jupyter.widget-view+json": {
       "model_id": "ed60a1eb3b7a4161ab4adef6d29f78af",
       "version_major": 2,
       "version_minor": 0
      },
      "text/plain": [
       "  0%|          | 0/6 [00:00<?, ?it/s]"
      ]
     },
     "metadata": {},
     "output_type": "display_data"
    },
    {
     "data": {
      "application/vnd.jupyter.widget-view+json": {
       "model_id": "ee56f15a7c55422297ffe18a3d754900",
       "version_major": 2,
       "version_minor": 0
      },
      "text/plain": [
       "  0%|          | 0/6 [00:00<?, ?it/s]"
      ]
     },
     "metadata": {},
     "output_type": "display_data"
    },
    {
     "data": {
      "application/vnd.jupyter.widget-view+json": {
       "model_id": "fdb68c8968dd40b79e9fbe4ce743c059",
       "version_major": 2,
       "version_minor": 0
      },
      "text/plain": [
       "  0%|          | 0/6 [00:00<?, ?it/s]"
      ]
     },
     "metadata": {},
     "output_type": "display_data"
    }
   ],
   "source": [
    "''' Define a List of Sex, Mouse ID, Session Count, Age for each Spatial Cell'''\n",
    "import statsmodels.api as sm\n",
    "import statsmodels.formula.api as smf\n",
    "\n",
    "csex = []\n",
    "cmice = []\n",
    "ccount = []\n",
    "cage = []\n",
    "cidx = []\n",
    "ccohort = []\n",
    "\n",
    "totalcells = 0\n",
    "for m, session in zip(mice, sessions):\n",
    "    \n",
    "    msex = np.array(animalmeta.loc[(animalmeta.Animal_ID == m),'Sex'])\n",
    "    age =  np.array(animalmeta.loc[(animalmeta.Animal_ID == m),'Age_Group'])\n",
    "    cohort = np.array(animalmeta.loc[(animalmeta.Animal_ID == m),'Cohort'])\n",
    "    totalsesh = len(session)\n",
    "    \n",
    "    for i, s in enumerate(tdqm(session)):\n",
    "        \n",
    "        d = data[m][s]\n",
    "        \n",
    "        rawdata_file = 'RAW_' + m + '_' + s + '.npy'\n",
    "        raw = np.load(load_folder + rawdata_file, allow_pickle=True)\n",
    "        cell_IDs = raw.item().get('cellsfil')\n",
    "        spatialcell = d['spatialcell99'].astype(bool)\n",
    "        spatialcells = cell_IDs[spatialcell]\n",
    "        \n",
    "        for j, c in enumerate(spatialcells):\n",
    "            cidx = np.append(cidx, totalcells)\n",
    "            csex = np.append(csex, msex)\n",
    "            cmice = np.append(cmice, m)\n",
    "            ccount = np.append(ccount, (i + 1))\n",
    "            cage = np.append(cage, age)\n",
    "            ccohort = np.append(ccohort, cohort)\n",
    "            \n",
    "            totalcells += 1\n",
    "\n",
    "#gather fixed effects into lists\n",
    "Animal_ID = list(cmice)\n",
    "Session = list(ccount)\n",
    "Sex = list(csex)\n",
    "Age_Group = list(cage)\n",
    "Cell_ID = list(cidx)\n",
    "Cohort = list(ccohort)"
   ]
  },
  {
   "cell_type": "code",
   "execution_count": 41,
   "id": "7d26c6bf",
   "metadata": {
    "scrolled": false
   },
   "outputs": [
    {
     "name": "stderr",
     "output_type": "stream",
     "text": [
      "C:\\Users\\Python\\anaconda3\\envs\\agingmec\\lib\\site-packages\\statsmodels\\regression\\mixed_linear_model.py:2238: ConvergenceWarning: The MLE may be on the boundary of the parameter space.\n",
      "  warnings.warn(msg, ConvergenceWarning)\n"
     ]
    },
    {
     "name": "stdout",
     "output_type": "stream",
     "text": [
      "               Mixed Linear Model Regression Results\n",
      "===================================================================\n",
      "Model:                MixedLM   Dependent Variable:   locstab5block\n",
      "No. Observations:     16961     Method:               REML         \n",
      "No. Groups:           29        Scale:                0.0137       \n",
      "Min. group size:      98        Log-Likelihood:       4079.9293    \n",
      "Max. group size:      1067      Converged:            Yes          \n",
      "Mean group size:      584.9                                        \n",
      "-------------------------------------------------------------------\n",
      "                         Coef.  Std.Err.   z    P>|z| [0.025 0.975]\n",
      "-------------------------------------------------------------------\n",
      "Intercept                 0.280    0.021 13.072 0.000  0.238  0.322\n",
      "C(AgeGroup)[T.2.0]       -0.060    0.032 -1.853 0.064 -0.123  0.003\n",
      "C(AgeGroup)[T.3.0]        0.014    0.026  0.527 0.598 -0.037  0.064\n",
      "C(Sex)[T.M]               0.029    0.034  0.868 0.385 -0.037  0.095\n",
      "C(Cohort)[T.D]           -0.029    0.042 -0.687 0.492 -0.110  0.053\n",
      "Session:C(AgeGroup)[1.0]  0.009    0.001  6.073 0.000  0.006  0.012\n",
      "Session:C(AgeGroup)[2.0]  0.022    0.002 14.387 0.000  0.019  0.025\n",
      "Session:C(AgeGroup)[3.0]  0.004    0.002  1.862 0.063 -0.000  0.007\n",
      "AnimalID Var              0.003                                    \n",
      "cells Var                 0.022                                    \n",
      "===================================================================\n",
      "\n",
      "                                       chi2                 P>chi2  df constraint\n",
      "Intercept            [[170.88368880183867]]  4.744198996210739e-39              1\n",
      "C(AgeGroup)           [[5.261448659176559]]    0.07202627257942788              2\n",
      "C(Sex)               [[0.7535211055398581]]    0.38536371259552593              1\n",
      "C(Cohort)            [[0.4722612823417586]]     0.4919487082482995              1\n",
      "Session:C(AgeGroup)  [[247.33147372160897]]  2.471599101848887e-53              3\n"
     ]
    },
    {
     "data": {
      "image/png": "[encoded data removed]",
      "text/plain": [
       "<Figure size 1200x300 with 1 Axes>"
      ]
     },
     "metadata": {},
     "output_type": "display_data"
    },
    {
     "name": "stderr",
     "output_type": "stream",
     "text": [
      "C:\\Users\\Python\\anaconda3\\envs\\agingmec\\lib\\site-packages\\statsmodels\\regression\\mixed_linear_model.py:2238: ConvergenceWarning: The MLE may be on the boundary of the parameter space.\n",
      "  warnings.warn(msg, ConvergenceWarning)\n"
     ]
    },
    {
     "name": "stdout",
     "output_type": "stream",
     "text": [
      "               Mixed Linear Model Regression Results\n",
      "===================================================================\n",
      "Model:                MixedLM    Dependent Variable:    locstab5alt\n",
      "No. Observations:     16961      Method:                REML       \n",
      "No. Groups:           29         Scale:                 0.0065     \n",
      "Min. group size:      98         Log-Likelihood:        10674.6492 \n",
      "Max. group size:      1067       Converged:             Yes        \n",
      "Mean group size:      584.9                                        \n",
      "-------------------------------------------------------------------\n",
      "                         Coef.  Std.Err.   z    P>|z| [0.025 0.975]\n",
      "-------------------------------------------------------------------\n",
      "Intercept                 0.128    0.017  7.596 0.000  0.095  0.161\n",
      "C(AgeGroup)[T.2.0]       -0.047    0.025 -1.833 0.067 -0.097  0.003\n",
      "C(AgeGroup)[T.3.0]        0.029    0.020  1.448 0.148 -0.010  0.069\n",
      "C(Sex)[T.M]               0.028    0.027  1.042 0.297 -0.024  0.080\n",
      "C(Cohort)[T.D]           -0.022    0.033 -0.660 0.509 -0.086  0.043\n",
      "Session:C(AgeGroup)[1.0]  0.008    0.001  7.670 0.000  0.006  0.010\n",
      "Session:C(AgeGroup)[2.0]  0.021    0.001 19.738 0.000  0.019  0.023\n",
      "Session:C(AgeGroup)[3.0] -0.002    0.001 -1.767 0.077 -0.005  0.000\n",
      "AnimalID Var              0.002                                    \n",
      "cells Var                 0.010                                    \n",
      "===================================================================\n",
      "\n",
      "                                        chi2                P>chi2  df constraint\n",
      "Intercept               [[57.6930295537922]]   3.0638663584839e-14              1\n",
      "C(AgeGroup)             [[8.84732439572296]]  0.011990241146278967              2\n",
      "C(Sex)                 [[1.086075518040442]]    0.2973423858581806              1\n",
      "C(Cohort)            [[0.43621093246618486]]    0.5089569694814446              1\n",
      "Session:C(AgeGroup)    [[451.5299245394011]]  1.51972379477025e-97              3\n"
     ]
    },
    {
     "data": {
      "image/png": "[encoded data removed]",
      "text/plain": [
       "<Figure size 1200x300 with 1 Axes>"
      ]
     },
     "metadata": {},
     "output_type": "display_data"
    }
   ],
   "source": [
    "''' LMMs for Moving Avg Similarity [Stability] '''        \n",
    "#gather dependent variables into lists\n",
    "locstab5block = list(np.concatenate((alocstab5block, malocstab5block, ylocstab5block)))\n",
    "locstab5alt = list(np.concatenate((alocstab5alt, malocstab5alt, ylocstab5alt)))\n",
    "hue_order = [1.0, 3.0, 2.0]\n",
    "\n",
    "tuples = list(zip(Animal_ID, Session, Cell_ID, Sex, Age_Group, Cohort,locstab5block,locstab5alt))\n",
    "tuples\n",
    "df = pd.DataFrame(tuples, columns = ['AnimalID', 'Session','Cell_ID','Sex', 'AgeGroup', 'Cohort','locstab5block','locstab5alt'])\n",
    "\n",
    "#handle NaNs\n",
    "df = df.dropna(axis = 0)\n",
    "\n",
    "#Block Dependent\n",
    "vc = {'cells':'0 + C(Cell_ID)'}\n",
    "mblock = smf.mixedlm('locstab5block ~ 1 + C(AgeGroup) + C(Sex) + C(Cohort) + Session:C(AgeGroup)', groups = 'AnimalID', re_formula = '1', vc_formula = vc,\n",
    "                     data=df).fit(reml= True)\n",
    "print(mblock.summary())\n",
    "print(mblock.wald_test_terms(scalar = False))\n",
    "\n",
    "df['residblock'] = mblock.resid\n",
    "fig, ax = plt.subplots(figsize = (12,3))\n",
    "sns.violinplot(data = df, x = 'AnimalID', y = 'residblock', inner = 'quartile', ax = ax)\n",
    "plt.title('Avg Block Stability Residuals')\n",
    "plt.show()\n",
    "\n",
    "#Alt Dependent\n",
    "vc = {'cells':'0 + C(Cell_ID)'}\n",
    "malt = smf.mixedlm('locstab5alt ~ 1 + C(AgeGroup) + C(Sex) + C(Cohort) + Session:C(AgeGroup)', groups = 'AnimalID', re_formula = '1', vc_formula = vc,\n",
    "                     data=df).fit(reml= True)\n",
    "print(malt.summary())\n",
    "print(malt.wald_test_terms(scalar = False))\n",
    "\n",
    "df['residalt'] = malt.resid\n",
    "fig, ax = plt.subplots(figsize = (12,3))\n",
    "sns.violinplot(data = df, x = 'AnimalID', y = 'residalt', inner = 'quartile', ax = ax)\n",
    "plt.title('Avg Alt. Stability Residuals')\n",
    "plt.show()\n"
   ]
  },
  {
   "cell_type": "code",
   "execution_count": 42,
   "id": "0cf0c991",
   "metadata": {},
   "outputs": [],
   "source": [
    "''' Get fitted block vs. alt (not split by epoch) session averages '''\n",
    "\n",
    "r = 6 #sessions\n",
    "\n",
    "df['mblockfitted'] = mblock.fittedvalues\n",
    "df['maltfitted'] = malt.fittedvalues\n",
    "\n",
    "resultA = df.groupby(by = ['AnimalID','Session'], as_index = False)['mblockfitted'].aggregate('mean')\n",
    "seshAanimal = np.asarray(resultA['AnimalID'])\n",
    "seshAcount = np.asarray(resultA['Session'])\n",
    "seshAmean = np.asarray(resultA['mblockfitted'])\n",
    "\n",
    "resultB = df.groupby(by = ['AnimalID','Session'], as_index = False)['maltfitted'].aggregate('mean')\n",
    "seshBanimal = np.asarray(resultB['AnimalID'])\n",
    "seshBcount = np.asarray(resultB['Session'])\n",
    "seshBmean = np.asarray(resultB['maltfitted'])\n",
    "\n",
    "slocstab5Afitted_seg_aged = [[] * r for i in range(r)]\n",
    "slocstab5Afitted_seg_MA = [[] * r for i in range(r)]\n",
    "slocstab5Afitted_seg_young = [[] * r for i in range(r)]\n",
    "slocstab5Bfitted_seg_aged = [[] * r for i in range(r)]\n",
    "slocstab5Bfitted_seg_MA = [[] * r for i in range(r)]\n",
    "slocstab5Bfitted_seg_young = [[] * r for i in range(r)]\n",
    "\n",
    "sessionAcountfitted_aged = [[] * r for i in range(r)]\n",
    "sessionAcountfitted_MA = [[] * r for i in range(r)]\n",
    "sessionAcountfitted_young = [[] * r for i in range(r)]\n",
    "sessionBcountfitted_aged = [[] * r for i in range(r)]\n",
    "sessionBcountfitted_MA = [[] * r for i in range(r)]\n",
    "sessionBcountfitted_young = [[] * r for i in range(r)]\n",
    "\n",
    "for m, session in zip(mice, sessions): \n",
    "    \n",
    "    animalidx = np.where(seshAanimal == m)[0][0]\n",
    "    sessiona_idx = np.where(seshAanimal == m)[0]\n",
    "    sessionb_idx = np.where(seshBanimal == m)[0]\n",
    "\n",
    "    if m in SM_aged_mice:\n",
    "        for i, c in enumerate(seshAcount[sessiona_idx]):\n",
    "            idx = c.astype(int) - 1\n",
    "            slocstab5Afitted_seg_aged[idx] = np.append(slocstab5Afitted_seg_aged[idx],seshAmean[sessiona_idx][i])\n",
    "            sessionAcountfitted_aged[idx] = np.append(sessionAcountfitted_aged[idx], c - 1)\n",
    "            \n",
    "        for i, c in enumerate(seshBcount[sessionb_idx]):\n",
    "            idx = c.astype(int) - 1 \n",
    "            slocstab5Bfitted_seg_aged[idx] = np.append(slocstab5Bfitted_seg_aged[idx],seshBmean[sessionb_idx][i])\n",
    "            sessionBcountfitted_aged[idx] = np.append(sessionBcountfitted_aged[idx], c - 1)    \n",
    "        \n",
    "    elif m in SM_MA_mice:\n",
    "        for i, c in enumerate(seshAcount[sessiona_idx]):\n",
    "            idx = c.astype(int) - 1\n",
    "            slocstab5Afitted_seg_MA[idx] = np.append(slocstab5Afitted_seg_MA[idx],seshAmean[sessiona_idx][i])\n",
    "            sessionAcountfitted_MA[idx] = np.append(sessionAcountfitted_MA[idx], c - 1)\n",
    "            \n",
    "        for i, c in enumerate(seshBcount[sessionb_idx]):\n",
    "            idx = c.astype(int) - 1\n",
    "            slocstab5Bfitted_seg_MA[idx] = np.append(slocstab5Bfitted_seg_MA[idx],seshBmean[sessionb_idx][i])\n",
    "            sessionBcountfitted_MA[idx] = np.append(sessionBcountfitted_MA[idx], c - 1)   \n",
    "    else:\n",
    "        for i, c in enumerate(seshAcount[sessiona_idx]):\n",
    "            idx = c.astype(int) - 1\n",
    "            slocstab5Afitted_seg_young[idx] = np.append(slocstab5Afitted_seg_young[idx],seshAmean[sessiona_idx][i])\n",
    "            sessionAcountfitted_young[idx] = np.append(sessionAcountfitted_young[idx], c - 1)\n",
    "            \n",
    "        for i, c in enumerate(seshBcount[sessionb_idx]):\n",
    "            idx = c.astype(int) - 1\n",
    "            slocstab5Bfitted_seg_young[idx] = np.append(slocstab5Bfitted_seg_young[idx],seshBmean[sessionb_idx][i])\n",
    "            sessionBcountfitted_young[idx] = np.append(sessionBcountfitted_young[idx], c - 1)   "
   ]
  },
  {
   "cell_type": "code",
   "execution_count": 47,
   "id": "e226ab7c",
   "metadata": {},
   "outputs": [
    {
     "name": "stdout",
     "output_type": "stream",
     "text": [
      "\n",
      "n aged, MA, young mice on day 1 for A\n",
      "10 10 9\n",
      "\n",
      "n aged, MA, young mice on day 1 for B\n",
      "10 10 9\n",
      "\n",
      "n aged, MA, young mice on day 2 for A\n",
      "10 10 9\n",
      "\n",
      "n aged, MA, young mice on day 2 for B\n",
      "10 10 9\n",
      "\n",
      "n aged, MA, young mice on day 3 for A\n",
      "10 10 9\n",
      "\n",
      "n aged, MA, young mice on day 3 for B\n",
      "10 10 9\n",
      "\n",
      "n aged, MA, young mice on day 4 for A\n",
      "9 10 9\n",
      "\n",
      "n aged, MA, young mice on day 4 for B\n",
      "9 10 9\n",
      "\n",
      "n aged, MA, young mice on day 5 for A\n",
      "8 9 9\n",
      "\n",
      "n aged, MA, young mice on day 5 for B\n",
      "8 9 9\n",
      "\n",
      "n aged, MA, young mice on day 6 for A\n",
      "8 9 9\n",
      "\n",
      "n aged, MA, young mice on day 6 for B\n",
      "8 9 9\n"
     ]
    },
    {
     "data": {
      "image/png": "[encoded data removed]",
      "text/plain": [
       "<Figure size 400x150 with 2 Axes>"
      ]
     },
     "metadata": {},
     "output_type": "display_data"
    }
   ],
   "source": [
    "''' Plot Reviewer Figure 5A '''\n",
    "f, ax = plt.subplots(1, 2, figsize=(4, 1.5), sharey = True)\n",
    "\n",
    "g = sns.pointplot(x = df['Session'], y = mblock.fittedvalues, hue = df['AgeGroup'], hue_order = hue_order, ax = ax[0], scale = 0.5)\n",
    "ax[0].set_xticks([0,1,2,3,4,5])\n",
    "ax[0].set_xticklabels([1,2,3,4,5,6])\n",
    "ax[0].set_xlim([-0.5,5.5])\n",
    "ax[0].set_yticks([0,0.1,0.2,0.3,0.4,0.5])\n",
    "ax[0].set_ylim([0.0,0.50])\n",
    "ax[0].tick_params(labelsize = 8)\n",
    "ax[0].set_ylabel('Mean Stability', fontsize=9, labelpad=1)\n",
    "ax[0].set_xlabel('Session', fontsize=9, labelpad=1)\n",
    "g.legend_.remove()\n",
    "\n",
    "g1 = sns.pointplot(x = df['Session'], y = malt.fittedvalues, hue = df['AgeGroup'], hue_order = hue_order, ax = ax[1], scale = 0.5)\n",
    "ax[1].set_xticks([0,1,2,3,4,5])\n",
    "ax[1].set_xticklabels([1,2,3,4,5,6])\n",
    "ax[1].set_xlim([-0.5,5.5])\n",
    "ax[1].set_yticks([0,0.1,0.2,0.3,0.4,0.5])\n",
    "ax[1].set_ylim([0.0,0.50])\n",
    "ax[1].set_xlabel('Session', fontsize=9, labelpad=1)\n",
    "ax[1].tick_params(labelsize = 8)\n",
    "#ax[1].set_ylabel('Stability', fontsize=9, labelpad=1)\n",
    "g1.legend_.remove()\n",
    "\n",
    "for l in g.lines:\n",
    "    plt.setp(l,linewidth = 0.75)\n",
    "    \n",
    "for l in g1.lines:\n",
    "    plt.setp(l,linewidth = 0.75)\n",
    "\n",
    "#scatter plot LMM-fitted session average data:\n",
    "for i in range(0,len(slocstab5Afitted_seg_aged)):\n",
    "    print('\\nn aged, MA, young mice on day ' + str(i + 1) + ' for A')\n",
    "    print(len(sessionAcountfitted_aged[i]),len(sessionAcountfitted_MA[i]), len(sessionAcountfitted_young[i]))\n",
    "    \n",
    "    print('\\nn aged, MA, young mice on day ' + str(i + 1) + ' for B')\n",
    "    print(len(sessionBcountfitted_aged[i]),len(sessionBcountfitted_MA[i]), len(sessionBcountfitted_young[i]))\n",
    "    \n",
    "    ax[0].scatter(sessionAcountfitted_aged[i] + 0.1, slocstab5Afitted_seg_aged[i], s = 5, alpha = 0.4, c = 'C1', edgecolor = 'none')\n",
    "    ax[0].scatter(sessionAcountfitted_MA[i], slocstab5Afitted_seg_MA[i], s = 5, alpha = 0.4, c = 'C2', edgecolor = 'none')\n",
    "    ax[0].scatter(sessionAcountfitted_young[i] - 0.1, slocstab5Afitted_seg_young[i], s = 5, alpha = 0.4, c = 'C0', edgecolor = 'none')\n",
    "    \n",
    "    ax[1].scatter(sessionBcountfitted_aged[i] + 0.1, slocstab5Bfitted_seg_aged[i], s = 5, alpha = 0.4, c = 'C1', edgecolor = 'none')\n",
    "    ax[1].scatter(sessionBcountfitted_MA[i], slocstab5Bfitted_seg_MA[i], s = 5, alpha = 0.4, c = 'C2', edgecolor = 'none')\n",
    "    ax[1].scatter(sessionBcountfitted_young[i] - 0.1, slocstab5Bfitted_seg_young[i], s = 5, alpha = 0.4, c = 'C0', edgecolor = 'none')\n",
    "\n",
    "#ax[0].legend(loc = 4, fontsize = 9)\n",
    "plt.savefig(save_folder + 'ReviewerFigure5A.png', dpi=400, bbox_inches='tight')\n",
    "plt.savefig(save_folder + 'ReviewerFigure5A.svg', dpi=400, bbox_inches='tight')\n",
    "plt.show()"
   ]
  },
  {
   "cell_type": "code",
   "execution_count": 48,
   "id": "b55990f0",
   "metadata": {},
   "outputs": [],
   "source": [
    "''' Find where I will have NaNs'''\n",
    "nan_idxspatial = np.where((sperspatial == 0))[0]\n",
    "\n",
    "# Adjust y_sind, ma_sind, age_sind for subsequent plots\n",
    "y_sindspatial = np.setdiff1d(y_sind, nan_idxspatial)\n",
    "ma_sindspatial = np.setdiff1d(ma_sind, nan_idxspatial)\n",
    "age_sindspatial = np.setdiff1d(age_sind, nan_idxspatial)\n",
    "\n",
    "col_sessionspatial = [col_session_young, col_session_MA, col_session_old] \n",
    "\n",
    "# This will fix session stats & box plots are plotted."
   ]
  },
  {
   "cell_type": "code",
   "execution_count": 49,
   "id": "676188ba",
   "metadata": {},
   "outputs": [
    {
     "name": "stdout",
     "output_type": "stream",
     "text": [
      "\n",
      "Association btwn Young, MA, Aged, & All (Block) Performance & Variable of Interest:\n",
      "R [Young, MA, Aged, All]: \n",
      "0.07818732824322253 0.5993307072283152 0.6832243041515841 0.44927472350838615\n",
      "P [Young, MA, Aged, All]: \n",
      "0.574133285339706 6.66857972566881e-07 9.062930092594876e-09 1.1281281396473358e-09\n",
      "\n",
      "Association btwn Young, MA, Aged, & All (Alt.) Performance & Variable of Interest:\n",
      "R [Young, MA, Aged, All]: \n",
      "0.11322224832465336 0.6630283640697321 0.4328114152274688 0.4182465218653036\n",
      "P [Young, MA, Aged, All]: \n",
      "0.4149760536968916 1.4226334626834186e-08 0.000965756953247336 1.8624392022034643e-08\n",
      "\n",
      "Association btwn Young, MA, Aged, & All (Block + Alt) Performance & Variable of Interest:\n",
      "R [Young, MA, Aged, All]: \n",
      "0.3936640180842991 0.6720354256277188 0.7525809042956316 0.595009464611392\n",
      "P [Young, MA, Aged, All]: \n",
      "2.4981135598536645e-05 1.4717556728935308e-16 2.562751658988444e-21 2.2841781409481817e-33\n",
      "\n",
      "n session halves: young, ma, aged\n",
      "108 116 110\n"
     ]
    },
    {
     "data": {
      "image/png": "[encoded data removed]",
      "text/plain": [
       "<Figure size 250x105 with 1 Axes>"
      ]
     },
     "metadata": {},
     "output_type": "display_data"
    },
    {
     "data": {
      "image/png": "[encoded data removed]",
      "text/plain": [
       "<Figure size 250x105 with 1 Axes>"
      ]
     },
     "metadata": {},
     "output_type": "display_data"
    },
    {
     "data": {
      "image/png": "[encoded data removed]",
      "text/plain": [
       "<Figure size 250x105 with 1 Axes>"
      ]
     },
     "metadata": {},
     "output_type": "display_data"
    }
   ],
   "source": [
    "''' Plot Reviewer Figue 5C'''\n",
    "allidx = np.concatenate((y_sindspatial, ma_sindspatial, age_sindspatial))\n",
    "\n",
    "#Linear regression with block data only\n",
    "res = stats.linregress(slocstab5block[y_sindspatial],reqblock_rates[y_sindspatial])\n",
    "yslope1 = res.slope; yint1 = res.intercept; yr1 = res.rvalue; yp1 = res.pvalue\n",
    "\n",
    "res = stats.linregress(slocstab5block[ma_sindspatial],reqblock_rates[ma_sindspatial])\n",
    "maslope1 = res.slope; maint1 = res.intercept; mar1 = res.rvalue ; map1 = res.pvalue\n",
    "\n",
    "res = stats.linregress(slocstab5block[age_sindspatial],reqblock_rates[age_sindspatial])\n",
    "aslope1 = res.slope; aint1 = res.intercept; ar1 = res.rvalue ; ap1 = res.pvalue\n",
    "\n",
    "res = stats.linregress(slocstab5block[allidx],reqblock_rates[allidx])\n",
    "allslope1 = res.slope; allint1 = res.intercept; allr1 = res.rvalue; allp1 = res.pvalue\n",
    "\n",
    "print('\\nAssociation btwn Young, MA, Aged, & All (Block) Performance & Variable of Interest:')\n",
    "print('R [Young, MA, Aged, All]: ')\n",
    "print(yr1, mar1, ar1, allr1)\n",
    "print('P [Young, MA, Aged, All]: ')\n",
    "print(yp1, map1, ap1, allp1)\n",
    "\n",
    "#Linear regression with alt data only\n",
    "res = stats.linregress(slocstab5alt[y_sindspatial],reqalt_rates[y_sindspatial])\n",
    "yslope2 = res.slope; yint2 = res.intercept; yr2 = res.rvalue; yp2 = res.pvalue\n",
    "\n",
    "res = stats.linregress(slocstab5alt[ma_sindspatial],reqalt_rates[ma_sindspatial])\n",
    "maslope2 = res.slope; maint2 = res.intercept; mar2 = res.rvalue ; map2 = res.pvalue\n",
    "\n",
    "res = stats.linregress(slocstab5alt[age_sindspatial],reqalt_rates[age_sindspatial])\n",
    "aslope2 = res.slope; aint2 = res.intercept; ar2 = res.rvalue ; ap2 = res.pvalue\n",
    "\n",
    "res = stats.linregress(slocstab5alt[allidx],reqalt_rates[allidx])\n",
    "allslope2 = res.slope; allint2 = res.intercept; allr2 = res.rvalue; allp2 = res.pvalue\n",
    "\n",
    "print('\\nAssociation btwn Young, MA, Aged, & All (Alt.) Performance & Variable of Interest:')\n",
    "print('R [Young, MA, Aged, All]: ')\n",
    "print(yr2, mar2, ar2, allr2)\n",
    "print('P [Young, MA, Aged, All]: ')\n",
    "print(yp2, map2, ap2, allp2)\n",
    "\n",
    "#Linear regression with block & alt data together\n",
    "res = stats.linregress(np.hstack((slocstab5block[y_sindspatial],slocstab5alt[y_sindspatial])),np.hstack((reqblock_rates[y_sindspatial],reqalt_rates[y_sindspatial])))\n",
    "yslope3 = res.slope; yint3 = res.intercept; yr3 = res.rvalue; yp3 = res.pvalue\n",
    "\n",
    "res = stats.linregress(np.hstack((slocstab5block[ma_sindspatial],slocstab5alt[ma_sindspatial])),np.hstack((reqblock_rates[ma_sindspatial],reqalt_rates[ma_sindspatial])))\n",
    "maslope3 = res.slope; maint3 = res.intercept; mar3 = res.rvalue ; map3 = res.pvalue\n",
    "\n",
    "res = stats.linregress(np.hstack((slocstab5block[age_sindspatial],slocstab5alt[age_sindspatial])),np.hstack((reqblock_rates[age_sindspatial],reqalt_rates[age_sindspatial])))\n",
    "aslope3 = res.slope; aint3 = res.intercept; ar3 = res.rvalue ; ap3 = res.pvalue\n",
    "\n",
    "res = stats.linregress(np.hstack((slocstab5block[allidx],slocstab5alt[allidx])),np.hstack((reqblock_rates[allidx],reqalt_rates[allidx])))\n",
    "allslope3 = res.slope; allint3 = res.intercept; allr3 = res.rvalue; allp3 = res.pvalue\n",
    "\n",
    "print('\\nAssociation btwn Young, MA, Aged, & All (Block + Alt) Performance & Variable of Interest:')\n",
    "print('R [Young, MA, Aged, All]: ')\n",
    "print(yr3, mar3, ar3, allr3)\n",
    "print('P [Young, MA, Aged, All]: ')\n",
    "print(yp3, map3, ap3, allp3)\n",
    "\n",
    "print('\\nn session halves: young, ma, aged')\n",
    "print(len(y_sindspatial)*2,len(ma_sindspatial)*2,len(age_sindspatial)*2)\n",
    "\n",
    "#Plot Stability over All Sessions by Age Group with Block & Alt Phases\n",
    "fig, ax = plt.subplots(figsize = (2.5,1.05))\n",
    "fig.suptitle('Young Sessions', fontsize = 10)\n",
    "ax.scatter(slocstab5alt[y_sindspatial],reqalt_rates[y_sindspatial], color = 'C0', s = 10)\n",
    "ax.scatter(slocstab5block[y_sindspatial],reqblock_rates[y_sindspatial], color = 'C0', s = 10, edgecolor = 'k', lw = 0.5)\n",
    "ax.set_xlabel('Mean Stability', fontsize = 9)\n",
    "ax.set_ylabel('Frac. Requested', fontsize = 9)\n",
    "ax.set_ylim([-0.1,1.1])\n",
    "ax.set_xlim([0,0.6])\n",
    "ax.set_xticks([0,0.2,0.4,0.6])\n",
    "ax.tick_params(labelsize = 8)\n",
    "X_plot = np.linspace(ax.get_xlim()[0],ax.get_xlim()[1],100)\n",
    "ax.plot(X_plot, yslope2*X_plot + yint2, '-', color = 'C0', linewidth = 0.75, label = 'Alt. Only')\n",
    "ax.plot(X_plot, yslope3*X_plot + yint3, '-', linewidth = 0.75, color = 'k', label = 'Block & Alt.')\n",
    "ax.legend(fontsize = 8)\n",
    "plt.savefig(save_folder + 'ReviewerFigure5C_1.png', dpi = 400, bbox_inches = 'tight')\n",
    "plt.savefig(save_folder + 'ReviewerFigure5C_1.svg', dpi = 400, bbox_inches = 'tight')\n",
    "plt.show()\n",
    "\n",
    "fig, ax = plt.subplots(figsize = (2.5,1.05))\n",
    "fig.suptitle('MA Sessions', fontsize = 10)\n",
    "ax.scatter(slocstab5alt[ma_sindspatial],reqalt_rates[ma_sindspatial], color = 'C2', s = 10)\n",
    "ax.scatter(slocstab5block[ma_sindspatial],reqblock_rates[ma_sindspatial], color = 'C2', s = 10, edgecolor = 'k', lw = 0.5)\n",
    "ax.set_xlabel('Mean Stability', fontsize = 9)\n",
    "ax.set_ylabel('Frac. Requested', fontsize = 9)\n",
    "ax.set_ylim([-0.1,1.1])\n",
    "ax.set_xlim([0,0.6])\n",
    "ax.set_xticks([0,0.2,0.4,0.6])\n",
    "ax.tick_params(labelsize = 8)\n",
    "X_plot = np.linspace(ax.get_xlim()[0],ax.get_xlim()[1],100)\n",
    "ax.plot(X_plot, maslope2*X_plot + maint2, '-', color = 'C2', linewidth = 0.75, label = 'Alt. Only')\n",
    "ax.plot(X_plot, maslope3*X_plot + maint3, '-', linewidth = 0.75, color = 'k', label = 'Block & Alt.')\n",
    "ax.legend(fontsize = 8)\n",
    "plt.savefig(save_folder + 'ReviewerFigure5C_2.png', dpi = 400, bbox_inches = 'tight')\n",
    "plt.savefig(save_folder + 'ReviewerFigure5C_2.svg', dpi = 400, bbox_inches = 'tight')\n",
    "plt.show()\n",
    "\n",
    "fig, ax = plt.subplots(figsize = (2.5,1.05))\n",
    "fig.suptitle('Aged Sessions', fontsize = 10)\n",
    "ax.scatter(slocstab5alt[age_sindspatial],reqalt_rates[age_sindspatial], color = 'C1', s = 10)\n",
    "ax.scatter(slocstab5block[age_sindspatial],reqblock_rates[age_sindspatial], color = 'C1', s = 10, edgecolor = 'k', lw = 0.5)\n",
    "ax.set_xlabel('Mean Stability', fontsize = 9)\n",
    "ax.set_ylabel('Frac. Requested', fontsize = 9)\n",
    "ax.set_ylim([-0.1,1.1])\n",
    "ax.set_xlim([0,0.6])\n",
    "ax.set_xticks([0,0.2,0.4,0.6])\n",
    "ax.tick_params(labelsize = 8)\n",
    "X_plot = np.linspace(ax.get_xlim()[0],ax.get_xlim()[1],100)\n",
    "ax.plot(X_plot, aslope2*X_plot + aint2, '-', linewidth = 0.75, color = 'C1', label = 'Alt. Only')\n",
    "ax.plot(X_plot, aslope3*X_plot + aint3, '-', linewidth = 0.75, color = 'k', label = 'Block & Alt.')\n",
    "ax.legend(fontsize = 8,)\n",
    "plt.savefig(save_folder + 'ReviewerFigure5C_3.png', dpi = 400, bbox_inches = 'tight')\n",
    "plt.savefig(save_folder + 'ReviewerFigure5C_3.svg', dpi = 400, bbox_inches = 'tight')\n",
    "plt.show()"
   ]
  },
  {
   "cell_type": "code",
   "execution_count": 50,
   "id": "c8408e31",
   "metadata": {
    "scrolled": true
   },
   "outputs": [
    {
     "data": {
      "application/vnd.jupyter.widget-view+json": {
       "model_id": "47fe79a4029f434d8649b87812ef705c",
       "version_major": 2,
       "version_minor": 0
      },
      "text/plain": [
       "  0%|          | 0/3 [00:00<?, ?it/s]"
      ]
     },
     "metadata": {},
     "output_type": "display_data"
    },
    {
     "data": {
      "application/vnd.jupyter.widget-view+json": {
       "model_id": "10ab40114a3a4472a8e8a54770e30f52",
       "version_major": 2,
       "version_minor": 0
      },
      "text/plain": [
       "  0%|          | 0/6 [00:00<?, ?it/s]"
      ]
     },
     "metadata": {},
     "output_type": "display_data"
    },
    {
     "data": {
      "application/vnd.jupyter.widget-view+json": {
       "model_id": "290973fb05204453a54f0b129faf8ff9",
       "version_major": 2,
       "version_minor": 0
      },
      "text/plain": [
       "  0%|          | 0/4 [00:00<?, ?it/s]"
      ]
     },
     "metadata": {},
     "output_type": "display_data"
    },
    {
     "data": {
      "application/vnd.jupyter.widget-view+json": {
       "model_id": "c15596ffd73e48a6a9397f6ef1539cdb",
       "version_major": 2,
       "version_minor": 0
      },
      "text/plain": [
       "  0%|          | 0/6 [00:00<?, ?it/s]"
      ]
     },
     "metadata": {},
     "output_type": "display_data"
    },
    {
     "data": {
      "application/vnd.jupyter.widget-view+json": {
       "model_id": "f4f1506c897d4a3b877d673a5d5b8ea4",
       "version_major": 2,
       "version_minor": 0
      },
      "text/plain": [
       "  0%|          | 0/6 [00:00<?, ?it/s]"
      ]
     },
     "metadata": {},
     "output_type": "display_data"
    },
    {
     "data": {
      "application/vnd.jupyter.widget-view+json": {
       "model_id": "5b6ac5bbd550488c869a168a9f778185",
       "version_major": 2,
       "version_minor": 0
      },
      "text/plain": [
       "  0%|          | 0/6 [00:00<?, ?it/s]"
      ]
     },
     "metadata": {},
     "output_type": "display_data"
    },
    {
     "data": {
      "application/vnd.jupyter.widget-view+json": {
       "model_id": "edf0371d5cbc44678e24e2344b504b25",
       "version_major": 2,
       "version_minor": 0
      },
      "text/plain": [
       "  0%|          | 0/6 [00:00<?, ?it/s]"
      ]
     },
     "metadata": {},
     "output_type": "display_data"
    },
    {
     "data": {
      "application/vnd.jupyter.widget-view+json": {
       "model_id": "9e0f4941a628494e9cb8b142d2c38cf6",
       "version_major": 2,
       "version_minor": 0
      },
      "text/plain": [
       "  0%|          | 0/6 [00:00<?, ?it/s]"
      ]
     },
     "metadata": {},
     "output_type": "display_data"
    },
    {
     "data": {
      "application/vnd.jupyter.widget-view+json": {
       "model_id": "39b70f516e184df68d41c9c7cfb3f674",
       "version_major": 2,
       "version_minor": 0
      },
      "text/plain": [
       "  0%|          | 0/6 [00:00<?, ?it/s]"
      ]
     },
     "metadata": {},
     "output_type": "display_data"
    },
    {
     "data": {
      "application/vnd.jupyter.widget-view+json": {
       "model_id": "cc4e3b97e19541c88e58767e8186ebce",
       "version_major": 2,
       "version_minor": 0
      },
      "text/plain": [
       "  0%|          | 0/6 [00:00<?, ?it/s]"
      ]
     },
     "metadata": {},
     "output_type": "display_data"
    },
    {
     "data": {
      "application/vnd.jupyter.widget-view+json": {
       "model_id": "9c644ad7bd3f4a688d7f4a2669013fe9",
       "version_major": 2,
       "version_minor": 0
      },
      "text/plain": [
       "  0%|          | 0/6 [00:00<?, ?it/s]"
      ]
     },
     "metadata": {},
     "output_type": "display_data"
    },
    {
     "data": {
      "application/vnd.jupyter.widget-view+json": {
       "model_id": "181e3f19d9754c58be78eb9c9ab4512e",
       "version_major": 2,
       "version_minor": 0
      },
      "text/plain": [
       "  0%|          | 0/6 [00:00<?, ?it/s]"
      ]
     },
     "metadata": {},
     "output_type": "display_data"
    },
    {
     "data": {
      "application/vnd.jupyter.widget-view+json": {
       "model_id": "cfdcbb0c46704749b77b678c0049771c",
       "version_major": 2,
       "version_minor": 0
      },
      "text/plain": [
       "  0%|          | 0/6 [00:00<?, ?it/s]"
      ]
     },
     "metadata": {},
     "output_type": "display_data"
    },
    {
     "data": {
      "application/vnd.jupyter.widget-view+json": {
       "model_id": "aa87dbb19ac54a37b9357dcc5be8ea1f",
       "version_major": 2,
       "version_minor": 0
      },
      "text/plain": [
       "  0%|          | 0/6 [00:00<?, ?it/s]"
      ]
     },
     "metadata": {},
     "output_type": "display_data"
    },
    {
     "data": {
      "application/vnd.jupyter.widget-view+json": {
       "model_id": "2a2961e4a9c34ee6b1c3dbe344344f41",
       "version_major": 2,
       "version_minor": 0
      },
      "text/plain": [
       "  0%|          | 0/6 [00:00<?, ?it/s]"
      ]
     },
     "metadata": {},
     "output_type": "display_data"
    },
    {
     "data": {
      "application/vnd.jupyter.widget-view+json": {
       "model_id": "cbfec4b3c1974226b24f94c8166c83cf",
       "version_major": 2,
       "version_minor": 0
      },
      "text/plain": [
       "  0%|          | 0/6 [00:00<?, ?it/s]"
      ]
     },
     "metadata": {},
     "output_type": "display_data"
    },
    {
     "data": {
      "application/vnd.jupyter.widget-view+json": {
       "model_id": "36f732bafc9b4a98a1c64e863cebec82",
       "version_major": 2,
       "version_minor": 0
      },
      "text/plain": [
       "  0%|          | 0/6 [00:00<?, ?it/s]"
      ]
     },
     "metadata": {},
     "output_type": "display_data"
    },
    {
     "data": {
      "application/vnd.jupyter.widget-view+json": {
       "model_id": "37158471891e4859aadf8be2f32e4ee0",
       "version_major": 2,
       "version_minor": 0
      },
      "text/plain": [
       "  0%|          | 0/4 [00:00<?, ?it/s]"
      ]
     },
     "metadata": {},
     "output_type": "display_data"
    },
    {
     "data": {
      "application/vnd.jupyter.widget-view+json": {
       "model_id": "c76ffcdc94b74f43afa5d00b78a219ab",
       "version_major": 2,
       "version_minor": 0
      },
      "text/plain": [
       "  0%|          | 0/6 [00:00<?, ?it/s]"
      ]
     },
     "metadata": {},
     "output_type": "display_data"
    },
    {
     "data": {
      "application/vnd.jupyter.widget-view+json": {
       "model_id": "35e19e0f468941c486f8b8ea6059405a",
       "version_major": 2,
       "version_minor": 0
      },
      "text/plain": [
       "  0%|          | 0/6 [00:00<?, ?it/s]"
      ]
     },
     "metadata": {},
     "output_type": "display_data"
    },
    {
     "data": {
      "application/vnd.jupyter.widget-view+json": {
       "model_id": "63095245e3154cdbba8eeb4279f6dd9f",
       "version_major": 2,
       "version_minor": 0
      },
      "text/plain": [
       "  0%|          | 0/6 [00:00<?, ?it/s]"
      ]
     },
     "metadata": {},
     "output_type": "display_data"
    },
    {
     "data": {
      "application/vnd.jupyter.widget-view+json": {
       "model_id": "1605c8c2dc5c4e4caa1e1082fc2dcf4f",
       "version_major": 2,
       "version_minor": 0
      },
      "text/plain": [
       "  0%|          | 0/6 [00:00<?, ?it/s]"
      ]
     },
     "metadata": {},
     "output_type": "display_data"
    },
    {
     "data": {
      "application/vnd.jupyter.widget-view+json": {
       "model_id": "bce8e66039eb43cd99dccdd0f2762ab5",
       "version_major": 2,
       "version_minor": 0
      },
      "text/plain": [
       "  0%|          | 0/6 [00:00<?, ?it/s]"
      ]
     },
     "metadata": {},
     "output_type": "display_data"
    },
    {
     "data": {
      "application/vnd.jupyter.widget-view+json": {
       "model_id": "5c8bd09776c74a82920bb4bb9f582f0c",
       "version_major": 2,
       "version_minor": 0
      },
      "text/plain": [
       "  0%|          | 0/6 [00:00<?, ?it/s]"
      ]
     },
     "metadata": {},
     "output_type": "display_data"
    },
    {
     "data": {
      "application/vnd.jupyter.widget-view+json": {
       "model_id": "f5be838d9c2d4f23966e45f145d90896",
       "version_major": 2,
       "version_minor": 0
      },
      "text/plain": [
       "  0%|          | 0/6 [00:00<?, ?it/s]"
      ]
     },
     "metadata": {},
     "output_type": "display_data"
    },
    {
     "data": {
      "application/vnd.jupyter.widget-view+json": {
       "model_id": "f8e283c207db4f45a197765c8f8a409c",
       "version_major": 2,
       "version_minor": 0
      },
      "text/plain": [
       "  0%|          | 0/6 [00:00<?, ?it/s]"
      ]
     },
     "metadata": {},
     "output_type": "display_data"
    },
    {
     "data": {
      "application/vnd.jupyter.widget-view+json": {
       "model_id": "5505769eefae43f7b8d6bba3a318ae32",
       "version_major": 2,
       "version_minor": 0
      },
      "text/plain": [
       "  0%|          | 0/6 [00:00<?, ?it/s]"
      ]
     },
     "metadata": {},
     "output_type": "display_data"
    },
    {
     "data": {
      "application/vnd.jupyter.widget-view+json": {
       "model_id": "1fba2673f3064089bf8ca9b87e396b52",
       "version_major": 2,
       "version_minor": 0
      },
      "text/plain": [
       "  0%|          | 0/6 [00:00<?, ?it/s]"
      ]
     },
     "metadata": {},
     "output_type": "display_data"
    },
    {
     "data": {
      "application/vnd.jupyter.widget-view+json": {
       "model_id": "a8bbb6fdf2fb44fcb567b7bc2ebed18f",
       "version_major": 2,
       "version_minor": 0
      },
      "text/plain": [
       "  0%|          | 0/6 [00:00<?, ?it/s]"
      ]
     },
     "metadata": {},
     "output_type": "display_data"
    }
   ],
   "source": [
    "''' Find Context Match / Mismatch Similarity Ratio '''\n",
    "\n",
    "sABratio = []\n",
    "sA_B_ratio = []\n",
    "sAB_ratio = []\n",
    "\n",
    "yABratio = []\n",
    "yA_B_ratio = []\n",
    "yAB_ratio = []\n",
    "maABratio = []\n",
    "maA_B_ratio = []\n",
    "maAB_ratio = []\n",
    "aABratio = []\n",
    "aA_B_ratio = []\n",
    "aAB_ratio = []\n",
    "\n",
    "for m, session in zip(mice, sessions):\n",
    "\n",
    "    for s in tdqm(session):\n",
    "        d = data[m][s]\n",
    "        \n",
    "        #get some data & cell IDs\n",
    "        rawdata_file = 'RAW_' + m + '_' + s + '.npy'\n",
    "        behavior_file = 'BEHAVIOR_' + m + '_' + s + '.npy'\n",
    "        raw = np.load(load_folder + rawdata_file, allow_pickle=True)\n",
    "        behaviorfil = np.load(load_folder + behavior_file, allow_pickle=False)\n",
    "        cell_IDs = raw.item().get('cellsfil')\n",
    "        spatialcell99 = d['spatialcell99']\n",
    "        spatialcells = cell_IDs[spatialcell99]\n",
    "        trial = behaviorfil[:,2]\n",
    "        \n",
    "        #save the context lengths\n",
    "        Aidx = d['Aidx']\n",
    "        lengthA = len(np.unique(trial[Aidx]))\n",
    "        Bidx = d['Bidx'] \n",
    "        lengthB = len(np.unique(trial[Bidx]))\n",
    "        a_idx = d['A_idx'] \n",
    "        lengtha_= len(np.unique(trial[a_idx]))\n",
    "        A_idx = d['A_ngidx'] \n",
    "        lengthA_= len(np.unique(trial[A_idx]))\n",
    "        B_idx = d['B_ngidx']\n",
    "        lengthB_= len(np.unique(trial[B_idx]))\n",
    "        \n",
    "        nB = lengthA + lengthB\n",
    "        nA_ = lengthA + lengthB + lengthA_\n",
    "        na_ = lengthA + lengthB + lengtha_\n",
    "        nB_ = lengthA + lengthB + lengtha_ + lengthB_\n",
    "        \n",
    "        allspatialsim = d['allspatialsim']\n",
    "        ABratio = []\n",
    "        A_B_ratio = []\n",
    "        AB_ratio = []\n",
    "        for i, c in enumerate(spatialcells):\n",
    "            sim = allspatialsim[:,:,i]\n",
    "            sim = (sim - np.min(sim)) / (np.max(sim) - np.min(sim))\n",
    "            \n",
    "            #average block context-matched (A x A + B x A), average block context-mismatched (B x A)\n",
    "            sumcm = (np.sum(sim[:lengthA, :lengthA]) - lengthA)/2 + (np.sum(sim[lengthA:nB, lengthA:nB]) - lengthB)/2\n",
    "            meancm = sumcm  / ((lengthA**2 - lengthA)/2 + (lengthB**2 - lengthB)/2)\n",
    "            meancmm = np.average(sim[lengthA:nB,:lengthA])\n",
    "            if (meancmm != 0): \n",
    "                ABratio = np.append(ABratio, meancm / meancmm)\n",
    "            else: \n",
    "                ABratio = np.append(ABratio, np.nan)\n",
    "            \n",
    "            #alt context-matched (A' x A' + B' x B'), alt context-mismatched (B' x A')\n",
    "            sumcm = (np.sum(sim[nB:nA_, nB:nA_]) - lengthA_)/2 + (np.sum(sim[na_:nB_, na_:nB_]) - lengthB_)/2\n",
    "            meancm = sumcm  / ((lengthA_**2 - lengthA_)/2 + (lengthB_**2 - lengthB_)/2)\n",
    "            meancmm = np.average(sim[na_:nB_,nB:nA_])\n",
    "            if (meancmm != 0):\n",
    "                A_B_ratio = np.append(A_B_ratio, meancm / meancmm)\n",
    "            else:\n",
    "                A_B_ratio = np.append(A_B_ratio, np.nan)\n",
    "            \n",
    "            #alt context-matched (A' x A + B' x B) & alt context-mismatched (B' x A + A' x B)\n",
    "            meancm = np.mean(np.concatenate((sim[nB:nA_,:lengthA].flatten(), sim[na_:nB_,lengthA:nB].flatten())))\n",
    "            meancmm = np.mean(np.concatenate((sim[na_:nB_,:lengthA].flatten(), sim[nB:nA_,lengthA:nB].flatten())))\n",
    "            if (meancmm != 0):\n",
    "                AB_ratio = np.append(AB_ratio, meancm / meancmm)\n",
    "            else:\n",
    "                AB_ratio = np.append(AB_ratio, np.nan)\n",
    "        \n",
    "        sABratio= np.append(sABratio, np.nanmean(ABratio))\n",
    "        sA_B_ratio = np.append(sA_B_ratio, np.nanmean(A_B_ratio))\n",
    "        sAB_ratio = np.append(sAB_ratio, np.nanmean(AB_ratio))\n",
    "\n",
    "        if m in SM_aged_mice:\n",
    "            aABratio = np.append(aABratio, ABratio)\n",
    "            aA_B_ratio = np.append(aA_B_ratio, A_B_ratio)\n",
    "            aAB_ratio = np.append(aAB_ratio, AB_ratio)\n",
    "        elif m in SM_MA_mice:\n",
    "            maABratio = np.append(maABratio, ABratio)\n",
    "            maA_B_ratio = np.append(maA_B_ratio, A_B_ratio)\n",
    "            maAB_ratio = np.append(maAB_ratio, AB_ratio)\n",
    "        else:\n",
    "            yABratio = np.append(yABratio, ABratio)\n",
    "            yA_B_ratio = np.append(yA_B_ratio, A_B_ratio)\n",
    "            yAB_ratio = np.append(yAB_ratio, AB_ratio)"
   ]
  },
  {
   "cell_type": "code",
   "execution_count": 51,
   "id": "d0c6df7f",
   "metadata": {
    "scrolled": false
   },
   "outputs": [
    {
     "name": "stderr",
     "output_type": "stream",
     "text": [
      "C:\\Users\\Python\\anaconda3\\envs\\agingmec\\lib\\site-packages\\statsmodels\\regression\\mixed_linear_model.py:2238: ConvergenceWarning: The MLE may be on the boundary of the parameter space.\n",
      "  warnings.warn(msg, ConvergenceWarning)\n"
     ]
    },
    {
     "name": "stdout",
     "output_type": "stream",
     "text": [
      "               Mixed Linear Model Regression Results\n",
      "===================================================================\n",
      "Model:                MixedLM     Dependent Variable:     ABratio  \n",
      "No. Observations:     16961       Method:                 REML     \n",
      "No. Groups:           29          Scale:                  0.0246   \n",
      "Min. group size:      98          Log-Likelihood:         -751.0803\n",
      "Max. group size:      1067        Converged:              Yes      \n",
      "Mean group size:      584.9                                        \n",
      "-------------------------------------------------------------------\n",
      "                         Coef.  Std.Err.   z    P>|z| [0.025 0.975]\n",
      "-------------------------------------------------------------------\n",
      "Intercept                 1.144    0.031 36.761 0.000  1.083  1.205\n",
      "C(AgeGroup)[T.2.0]       -0.037    0.047 -0.795 0.427 -0.130  0.055\n",
      "C(AgeGroup)[T.3.0]        0.043    0.037  1.152 0.249 -0.030  0.116\n",
      "C(Sex)[T.M]              -0.028    0.049 -0.577 0.564 -0.125  0.068\n",
      "C(Cohort)[T.D]            0.047    0.061  0.775 0.438 -0.072  0.166\n",
      "Session:C(AgeGroup)[1.0]  0.021    0.002 10.703 0.000  0.017  0.025\n",
      "Session:C(AgeGroup)[2.0]  0.040    0.002 19.727 0.000  0.036  0.044\n",
      "Session:C(AgeGroup)[3.0]  0.003    0.003  1.103 0.270 -0.002  0.008\n",
      "AnimalID Var              0.006                                    \n",
      "cells Var                 0.039                                    \n",
      "===================================================================\n",
      "\n",
      "                                       chi2                   P>chi2  df constraint\n",
      "Intercept            [[1351.3640848000489]]   7.784855527475931e-296              1\n",
      "C(AgeGroup)           [[3.142332002709386]]      0.20780274276247027              2\n",
      "C(Sex)               [[0.3325394455308405]]       0.5641675828040457              1\n",
      "C(Cohort)            [[0.6012211113198864]]      0.43811249572759114              1\n",
      "Session:C(AgeGroup)  [[504.93331081365386]]  4.0694838280824197e-109              3\n"
     ]
    },
    {
     "data": {
      "image/png": "[encoded data removed]",
      "text/plain": [
       "<Figure size 1200x300 with 1 Axes>"
      ]
     },
     "metadata": {},
     "output_type": "display_data"
    },
    {
     "name": "stderr",
     "output_type": "stream",
     "text": [
      "C:\\Users\\Python\\anaconda3\\envs\\agingmec\\lib\\site-packages\\statsmodels\\regression\\mixed_linear_model.py:2238: ConvergenceWarning: The MLE may be on the boundary of the parameter space.\n",
      "  warnings.warn(msg, ConvergenceWarning)\n"
     ]
    },
    {
     "name": "stdout",
     "output_type": "stream",
     "text": [
      "               Mixed Linear Model Regression Results\n",
      "====================================================================\n",
      "Model:                MixedLM     Dependent Variable:     A_B_ratio \n",
      "No. Observations:     16961       Method:                 REML      \n",
      "No. Groups:           29          Scale:                  0.0018    \n",
      "Min. group size:      98          Log-Likelihood:         21643.6991\n",
      "Max. group size:      1067        Converged:              Yes       \n",
      "Mean group size:      584.9                                         \n",
      "--------------------------------------------------------------------\n",
      "                         Coef.  Std.Err.    z    P>|z| [0.025 0.975]\n",
      "--------------------------------------------------------------------\n",
      "Intercept                 1.007    0.008 120.896 0.000  0.991  1.023\n",
      "C(AgeGroup)[T.2.0]        0.001    0.013   0.046 0.963 -0.024  0.025\n",
      "C(AgeGroup)[T.3.0]        0.034    0.010   3.410 0.001  0.015  0.054\n",
      "C(Sex)[T.M]              -0.003    0.013  -0.220 0.826 -0.029  0.023\n",
      "C(Cohort)[T.D]            0.013    0.016   0.774 0.439 -0.019  0.045\n",
      "Session:C(AgeGroup)[1.0]  0.009    0.001  17.228 0.000  0.008  0.010\n",
      "Session:C(AgeGroup)[2.0]  0.010    0.001  18.481 0.000  0.009  0.011\n",
      "Session:C(AgeGroup)[3.0] -0.002    0.001  -2.832 0.005 -0.003 -0.001\n",
      "AnimalID Var              0.000                                     \n",
      "cells Var                 0.003                                     \n",
      "====================================================================\n",
      "\n",
      "                                        chi2                 P>chi2  df constraint\n",
      "Intercept             [[14615.738861471928]]                    0.0              1\n",
      "C(AgeGroup)           [[13.546945265587055]]  0.0011437160409436852              2\n",
      "C(Sex)               [[0.04843766464903185]]     0.8258045012237974              1\n",
      "C(Cohort)             [[0.5987051559277942]]    0.43907249464624143              1\n",
      "Session:C(AgeGroup)    [[646.3777151330373]]  8.88620100265306e-140              3\n"
     ]
    },
    {
     "data": {
      "image/png": "[encoded data removed]",
      "text/plain": [
       "<Figure size 1200x300 with 1 Axes>"
      ]
     },
     "metadata": {},
     "output_type": "display_data"
    },
    {
     "name": "stderr",
     "output_type": "stream",
     "text": [
      "C:\\Users\\Python\\anaconda3\\envs\\agingmec\\lib\\site-packages\\statsmodels\\regression\\mixed_linear_model.py:2238: ConvergenceWarning: The MLE may be on the boundary of the parameter space.\n",
      "  warnings.warn(msg, ConvergenceWarning)\n"
     ]
    },
    {
     "name": "stdout",
     "output_type": "stream",
     "text": [
      "               Mixed Linear Model Regression Results\n",
      "====================================================================\n",
      "Model:                MixedLM     Dependent Variable:     AB_ratio  \n",
      "No. Observations:     16961       Method:                 REML      \n",
      "No. Groups:           29          Scale:                  0.0022    \n",
      "Min. group size:      98          Log-Likelihood:         19402.2688\n",
      "Max. group size:      1067        Converged:              Yes       \n",
      "Mean group size:      584.9                                         \n",
      "--------------------------------------------------------------------\n",
      "                         Coef.  Std.Err.    z    P>|z| [0.025 0.975]\n",
      "--------------------------------------------------------------------\n",
      "Intercept                 1.012    0.008 122.647 0.000  0.996  1.028\n",
      "C(AgeGroup)[T.2.0]        0.008    0.012   0.619 0.536 -0.017  0.032\n",
      "C(AgeGroup)[T.3.0]        0.019    0.010   1.858 0.063 -0.001  0.038\n",
      "C(Sex)[T.M]              -0.010    0.013  -0.804 0.421 -0.036  0.015\n",
      "C(Cohort)[T.D]            0.008    0.016   0.496 0.620 -0.023  0.039\n",
      "Session:C(AgeGroup)[1.0]  0.009    0.001  14.556 0.000  0.008  0.010\n",
      "Session:C(AgeGroup)[2.0]  0.009    0.001  14.111 0.000  0.008  0.010\n",
      "Session:C(AgeGroup)[3.0]  0.002    0.001   2.842 0.004  0.001  0.004\n",
      "AnimalID Var              0.000                                     \n",
      "cells Var                 0.004                                     \n",
      "====================================================================\n",
      "\n",
      "                                        chi2                  P>chi2  df constraint\n",
      "Intercept              [[15042.38676842591]]                     0.0              1\n",
      "C(AgeGroup)             [[3.46294628477691]]      0.1770234370630604              2\n",
      "C(Sex)                [[0.6471178570277207]]     0.42114500944730826              1\n",
      "C(Cohort)            [[0.24567310262649333]]      0.6201383939053715              1\n",
      "Session:C(AgeGroup)   [[419.08917530554487]]  1.6220631234404685e-90              3\n"
     ]
    },
    {
     "data": {
      "image/png": "[encoded data removed]",
      "text/plain": [
       "<Figure size 1200x300 with 1 Axes>"
      ]
     },
     "metadata": {},
     "output_type": "display_data"
    }
   ],
   "source": [
    "''' LMMs for Similarity Ratios '''        \n",
    "#gather dependent variables into lists\n",
    "ABratio = list(np.concatenate((aABratio, maABratio, yABratio)))\n",
    "A_B_ratio = list(np.concatenate((aA_B_ratio, maA_B_ratio, yA_B_ratio)))\n",
    "AB_ratio = list(np.concatenate((aAB_ratio, maAB_ratio, yAB_ratio)))\n",
    "\n",
    "tuples = list(zip(Animal_ID, Session, Cell_ID, Sex, Age_Group, Cohort, ABratio, A_B_ratio, AB_ratio))\n",
    "tuples\n",
    "df = pd.DataFrame(tuples, columns = ['AnimalID', 'Session','Cell_ID','Sex', 'AgeGroup', 'Cohort','ABratio','A_B_ratio','AB_ratio'])\n",
    "\n",
    "#handle NaNs\n",
    "df = df.dropna(axis = 0)\n",
    "\n",
    "# ABratio Dependent\n",
    "vc = {'cells':'0 + C(Cell_ID)'}\n",
    "mAB = smf.mixedlm('ABratio ~ 1 + C(AgeGroup) + C(Sex) + C(Cohort) + Session:C(AgeGroup)', groups = 'AnimalID', re_formula = '1', vc_formula = vc,\n",
    "                     data=df).fit(reml= True)\n",
    "print(mAB.summary())\n",
    "print(mAB.wald_test_terms(scalar = False))\n",
    "\n",
    "#plot residuals\n",
    "df['resid'] = mAB.resid\n",
    "fig, ax = plt.subplots(figsize = (12,3))\n",
    "sns.violinplot(data = df, x = 'AnimalID', y = 'resid', inner = 'quartile', ax = ax)\n",
    "plt.title('AB Ratio Similarity Residuals')\n",
    "plt.show()\n",
    "\n",
    "# A_B_ratio Dependent\n",
    "vc = {'cells':'0 + C(Cell_ID)'}\n",
    "mA_B_ = smf.mixedlm('A_B_ratio ~ 1 + C(AgeGroup) + C(Sex) + C(Cohort) + Session:C(AgeGroup)', groups = 'AnimalID', re_formula = '1', vc_formula = vc,\n",
    "                     data=df).fit(reml= True)\n",
    "print(mA_B_.summary())\n",
    "print(mA_B_.wald_test_terms(scalar = False))\n",
    "\n",
    "df['resid'] = mA_B_.resid\n",
    "fig, ax = plt.subplots(figsize = (12,3))\n",
    "sns.violinplot(data = df, x = 'AnimalID', y = 'resid', inner = 'quartile', ax = ax)\n",
    "plt.title('A_B_ Ratio Similarity Residuals')\n",
    "plt.show()\n",
    "\n",
    "# AB_ratio Dependent\n",
    "vc = {'cells':'0 + C(Cell_ID)'}\n",
    "mAB_ = smf.mixedlm('AB_ratio ~ 1 + C(AgeGroup) + C(Sex) + C(Cohort) + Session:C(AgeGroup)', groups = 'AnimalID', re_formula = '1', vc_formula = vc,\n",
    "                     data=df).fit(reml= True)\n",
    "print(mAB_.summary())\n",
    "print(mAB_.wald_test_terms(scalar = False))\n",
    "\n",
    "df['resid'] = mAB_.resid\n",
    "fig, ax = plt.subplots(figsize = (12,3))\n",
    "sns.violinplot(data = df, x = 'AnimalID', y = 'resid', inner = 'quartile', ax = ax)\n",
    "plt.title('AB_ Ratio Similarity Residuals')\n",
    "plt.show()"
   ]
  },
  {
   "cell_type": "code",
   "execution_count": 52,
   "id": "76869e6c",
   "metadata": {},
   "outputs": [],
   "source": [
    "''' Get fitted block vs. alt (not split by epoch) session averages '''\n",
    "\n",
    "r = 6 #sessions\n",
    "\n",
    "df['mABfitted'] = mAB.fittedvalues\n",
    "df['mAB_fitted'] = mAB_.fittedvalues\n",
    "\n",
    "resultA = df.groupby(by = ['AnimalID','Session'], as_index = False)['mABfitted'].aggregate('mean')\n",
    "seshAanimal = np.asarray(resultA['AnimalID'])\n",
    "seshAcount = np.asarray(resultA['Session'])\n",
    "seshAmean = np.asarray(resultA['mABfitted'])\n",
    "\n",
    "resultB = df.groupby(by = ['AnimalID','Session'], as_index = False)['mAB_fitted'].aggregate('mean')\n",
    "seshBanimal = np.asarray(resultB['AnimalID'])\n",
    "seshBcount = np.asarray(resultB['Session'])\n",
    "seshBmean = np.asarray(resultB['mAB_fitted'])\n",
    "\n",
    "slocstab5Afitted_seg_aged = [[] * r for i in range(r)]\n",
    "slocstab5Afitted_seg_MA = [[] * r for i in range(r)]\n",
    "slocstab5Afitted_seg_young = [[] * r for i in range(r)]\n",
    "slocstab5Bfitted_seg_aged = [[] * r for i in range(r)]\n",
    "slocstab5Bfitted_seg_MA = [[] * r for i in range(r)]\n",
    "slocstab5Bfitted_seg_young = [[] * r for i in range(r)]\n",
    "\n",
    "sessionAcountfitted_aged = [[] * r for i in range(r)]\n",
    "sessionAcountfitted_MA = [[] * r for i in range(r)]\n",
    "sessionAcountfitted_young = [[] * r for i in range(r)]\n",
    "sessionBcountfitted_aged = [[] * r for i in range(r)]\n",
    "sessionBcountfitted_MA = [[] * r for i in range(r)]\n",
    "sessionBcountfitted_young = [[] * r for i in range(r)]\n",
    "\n",
    "for m, session in zip(mice, sessions): \n",
    "    \n",
    "    animalidx = np.where(seshAanimal == m)[0][0]\n",
    "    sessiona_idx = np.where(seshAanimal == m)[0]\n",
    "    sessionb_idx = np.where(seshBanimal == m)[0]\n",
    "\n",
    "    if m in SM_aged_mice:\n",
    "        for i, c in enumerate(seshAcount[sessiona_idx]):\n",
    "            idx = c.astype(int) - 1\n",
    "            slocstab5Afitted_seg_aged[idx] = np.append(slocstab5Afitted_seg_aged[idx],seshAmean[sessiona_idx][i])\n",
    "            sessionAcountfitted_aged[idx] = np.append(sessionAcountfitted_aged[idx], c - 1)\n",
    "            \n",
    "        for i, c in enumerate(seshBcount[sessionb_idx]):\n",
    "            idx = c.astype(int) - 1 \n",
    "            slocstab5Bfitted_seg_aged[idx] = np.append(slocstab5Bfitted_seg_aged[idx],seshBmean[sessionb_idx][i])\n",
    "            sessionBcountfitted_aged[idx] = np.append(sessionBcountfitted_aged[idx], c - 1)    \n",
    "        \n",
    "    elif m in SM_MA_mice:\n",
    "        for i, c in enumerate(seshAcount[sessiona_idx]):\n",
    "            idx = c.astype(int) - 1\n",
    "            slocstab5Afitted_seg_MA[idx] = np.append(slocstab5Afitted_seg_MA[idx],seshAmean[sessiona_idx][i])\n",
    "            sessionAcountfitted_MA[idx] = np.append(sessionAcountfitted_MA[idx], c - 1)\n",
    "            \n",
    "        for i, c in enumerate(seshBcount[sessionb_idx]):\n",
    "            idx = c.astype(int) - 1\n",
    "            slocstab5Bfitted_seg_MA[idx] = np.append(slocstab5Bfitted_seg_MA[idx],seshBmean[sessionb_idx][i])\n",
    "            sessionBcountfitted_MA[idx] = np.append(sessionBcountfitted_MA[idx], c - 1)   \n",
    "    else:\n",
    "        for i, c in enumerate(seshAcount[sessiona_idx]):\n",
    "            idx = c.astype(int) - 1\n",
    "            slocstab5Afitted_seg_young[idx] = np.append(slocstab5Afitted_seg_young[idx],seshAmean[sessiona_idx][i])\n",
    "            sessionAcountfitted_young[idx] = np.append(sessionAcountfitted_young[idx], c - 1)\n",
    "            \n",
    "        for i, c in enumerate(seshBcount[sessionb_idx]):\n",
    "            idx = c.astype(int) - 1\n",
    "            slocstab5Bfitted_seg_young[idx] = np.append(slocstab5Bfitted_seg_young[idx],seshBmean[sessionb_idx][i])\n",
    "            sessionBcountfitted_young[idx] = np.append(sessionBcountfitted_young[idx], c - 1)   "
   ]
  },
  {
   "cell_type": "code",
   "execution_count": 54,
   "id": "a38cdfd4",
   "metadata": {},
   "outputs": [
    {
     "name": "stdout",
     "output_type": "stream",
     "text": [
      "\n",
      "n aged, MA, young mice on day 1 for block ratio\n",
      "10 10 9\n",
      "\n",
      "n aged, MA, young mice on day 1 for alt ratio\n",
      "10 10 9\n",
      "\n",
      "n aged, MA, young mice on day 2 for block ratio\n",
      "10 10 9\n",
      "\n",
      "n aged, MA, young mice on day 2 for alt ratio\n",
      "10 10 9\n",
      "\n",
      "n aged, MA, young mice on day 3 for block ratio\n",
      "10 10 9\n",
      "\n",
      "n aged, MA, young mice on day 3 for alt ratio\n",
      "10 10 9\n",
      "\n",
      "n aged, MA, young mice on day 4 for block ratio\n",
      "9 10 9\n",
      "\n",
      "n aged, MA, young mice on day 4 for alt ratio\n",
      "9 10 9\n",
      "\n",
      "n aged, MA, young mice on day 5 for block ratio\n",
      "8 9 9\n",
      "\n",
      "n aged, MA, young mice on day 5 for alt ratio\n",
      "8 9 9\n",
      "\n",
      "n aged, MA, young mice on day 6 for block ratio\n",
      "8 9 9\n",
      "\n",
      "n aged, MA, young mice on day 6 for alt ratio\n",
      "8 9 9\n"
     ]
    },
    {
     "data": {
      "image/png": "[encoded data removed]",
      "text/plain": [
       "<Figure size 400x150 with 2 Axes>"
      ]
     },
     "metadata": {},
     "output_type": "display_data"
    }
   ],
   "source": [
    "'''Plot Reviewer Figure 5B'''\n",
    "\n",
    "f, ax = plt.subplots(1, 2, figsize=(4, 1.5), sharey = False)\n",
    "\n",
    "g = sns.pointplot(x = df['Session'], y = mAB.fittedvalues, hue = df['AgeGroup'], hue_order = hue_order, ax = ax[0], scale = 0.5)\n",
    "ax[0].set_xticks([0,1,2,3,4,5])\n",
    "ax[0].set_xticklabels([1,2,3,4,5,6])\n",
    "ax[0].set_xlim([-0.5,5.5])\n",
    "ax[0].set_yticks([1,1.2,1.4,1.6,1.8])\n",
    "ax[0].set_ylim([0.975,1.8])\n",
    "ax[0].tick_params(labelsize = 8)\n",
    "ax[0].set_ylabel('Mean Similarity Ratio', fontsize=9, labelpad=1)\n",
    "ax[0].set_xlabel('Session', fontsize=9, labelpad=1)\n",
    "g.legend_.remove()\n",
    "\n",
    "g1 = sns.pointplot(x = df['Session'], y = mAB_.fittedvalues, hue = df['AgeGroup'], hue_order = hue_order, ax = ax[1], scale = 0.5)\n",
    "ax[1].set_xticks([0,1,2,3,4,5])\n",
    "ax[1].set_xticklabels([1,2,3,4,5,6])\n",
    "ax[1].set_xlim([-0.5,5.5])\n",
    "ax[1].set_yticks([1,1.1,1.2,1.3])\n",
    "ax[1].set_ylim([0.975,1.3])\n",
    "ax[1].set_xlabel('Session', fontsize=9, labelpad=1)\n",
    "ax[1].tick_params(labelsize = 8)\n",
    "g1.legend_.remove()\n",
    "\n",
    "for l in g.lines:\n",
    "    plt.setp(l,linewidth = 0.75)\n",
    "    \n",
    "for l in g1.lines:\n",
    "    plt.setp(l,linewidth = 0.75)\n",
    "\n",
    "#scatter plot actual raw data:\n",
    "for i in range(0,len(slocstab5Afitted_seg_aged)):\n",
    "    print('\\nn aged, MA, young mice on day ' + str(i + 1) + ' for block ratio')\n",
    "    print(len(sessionAcountfitted_aged[i]),len(sessionAcountfitted_MA[i]), len(sessionAcountfitted_young[i]))\n",
    "    \n",
    "    print('\\nn aged, MA, young mice on day ' + str(i + 1) + ' for alt ratio')\n",
    "    print(len(sessionBcountfitted_aged[i]),len(sessionBcountfitted_MA[i]), len(sessionBcountfitted_young[i]))\n",
    "    \n",
    "    ax[0].scatter(sessionAcountfitted_aged[i] + 0.1, slocstab5Afitted_seg_aged[i], s = 5, alpha = 0.4, c = 'C1', edgecolor = 'none')\n",
    "    ax[0].scatter(sessionAcountfitted_MA[i], slocstab5Afitted_seg_MA[i], s = 5, alpha = 0.4, c = 'C2', edgecolor = 'none')\n",
    "    ax[0].scatter(sessionAcountfitted_young[i] - 0.1, slocstab5Afitted_seg_young[i], s = 5, alpha = 0.4, c = 'C0', edgecolor = 'none')\n",
    "    \n",
    "    ax[1].scatter(sessionBcountfitted_aged[i] + 0.1, slocstab5Bfitted_seg_aged[i], s = 5, alpha = 0.4, c = 'C1', edgecolor = 'none')\n",
    "    ax[1].scatter(sessionBcountfitted_MA[i], slocstab5Bfitted_seg_MA[i], s = 5, alpha = 0.4, c = 'C2', edgecolor = 'none')\n",
    "    ax[1].scatter(sessionBcountfitted_young[i] - 0.1, slocstab5Bfitted_seg_young[i], s = 5, alpha = 0.4, c = 'C0', edgecolor = 'none')\n",
    "\n",
    "#ax[0].legend(loc = 4, fontsize = 9)\n",
    "plt.savefig(save_folder + 'ReviewerFigure5B.png', dpi=400, bbox_inches='tight')\n",
    "plt.savefig(save_folder + 'ReviewerFigure5B.svg', dpi=400, bbox_inches='tight')\n",
    "plt.show()"
   ]
  },
  {
   "cell_type": "code",
   "execution_count": 55,
   "id": "dc7ce0a7",
   "metadata": {},
   "outputs": [
    {
     "name": "stdout",
     "output_type": "stream",
     "text": [
      "\n",
      "Association btwn Young, MA, Aged, & All (Block) Performance & Variable of Interest:\n",
      "R [Young, MA, Aged, All]: \n",
      "0.35242006307135204 0.4611715935230463 0.6533765277130985 0.4432569851578059\n",
      "P [Young, MA, Aged, All]: \n",
      "0.008959656846071248 0.0002691047569056413 6.392009066835008e-08 1.98699901392925e-09\n",
      "\n",
      "Association btwn Young, MA, Aged, & All (Alt.) Performance & Variable of Interest:\n",
      "R [Young, MA, Aged, All]: \n",
      "0.5193497782889553 0.45788668114224734 0.42786527205249 0.4631045532891088\n",
      "P [Young, MA, Aged, All]: \n",
      "5.720440150418893e-05 0.00030141857832345176 0.001120104302881192 2.943897148116927e-10\n",
      "\n",
      "Association btwn Young, MA, Aged, & All (Block + Alt) Performance & Variable of Interest:\n",
      "R [Young, MA, Aged, All]: \n",
      "0.5201562985823791 0.49102315361764437 0.7396793206794084 0.5525932564208336\n",
      "P [Young, MA, Aged, All]: \n",
      "7.94782677467468e-09 2.191512122976718e-08 2.721287977556657e-20 4.245468645096862e-28\n",
      "\n",
      "n session halves: young, ma, aged\n",
      "108 116 110\n"
     ]
    },
    {
     "data": {
      "image/png": "[encoded data removed]",
      "text/plain": [
       "<Figure size 250x105 with 1 Axes>"
      ]
     },
     "metadata": {},
     "output_type": "display_data"
    },
    {
     "data": {
      "image/png": "[encoded data removed]",
      "text/plain": [
       "<Figure size 250x105 with 1 Axes>"
      ]
     },
     "metadata": {},
     "output_type": "display_data"
    },
    {
     "data": {
      "image/png": "[encoded data removed]",
      "text/plain": [
       "<Figure size 250x105 with 1 Axes>"
      ]
     },
     "metadata": {},
     "output_type": "display_data"
    }
   ],
   "source": [
    "''' Plot Reviewer Figure 5D '''\n",
    "\n",
    "#Linear regression with block data only\n",
    "res = stats.linregress(sABratio[y_sindspatial],reqblock_rates[y_sindspatial])\n",
    "yslope1 = res.slope; yint1 = res.intercept; yr1 = res.rvalue; yp1 = res.pvalue\n",
    "\n",
    "res = stats.linregress(sABratio[ma_sindspatial],reqblock_rates[ma_sindspatial])\n",
    "maslope1 = res.slope; maint1 = res.intercept; mar1 = res.rvalue; map1 = res.pvalue\n",
    "\n",
    "res = stats.linregress(sABratio[age_sindspatial],reqblock_rates[age_sindspatial])\n",
    "aslope1 = res.slope; aint1 = res.intercept; ar1 = res.rvalue; ap1 = res.pvalue\n",
    "\n",
    "res = stats.linregress(sABratio[~np.isnan(sABratio)],reqblock_rates[~np.isnan(sABratio)])\n",
    "allslope1 = res.slope; allint1 = res.intercept; allr1 = res.rvalue; allp1 = res.pvalue\n",
    "\n",
    "print('\\nAssociation btwn Young, MA, Aged, & All (Block) Performance & Variable of Interest:')\n",
    "print('R [Young, MA, Aged, All]: ')\n",
    "print(yr1, mar1, ar1, allr1)\n",
    "print('P [Young, MA, Aged, All]: ')\n",
    "print(yp1, map1, ap1, allp1)\n",
    "\n",
    "#Linear regression with alt data only\n",
    "res = stats.linregress(sAB_ratio[y_sindspatial],reqalt_rates[y_sindspatial])\n",
    "yslope2 = res.slope; yint2 = res.intercept; yr2 = res.rvalue; yp2 = res.pvalue\n",
    "\n",
    "res = stats.linregress(sAB_ratio[ma_sindspatial],reqalt_rates[ma_sindspatial])\n",
    "maslope2 = res.slope; maint2 = res.intercept; mar2 = res.rvalue ; map2 = res.pvalue\n",
    "\n",
    "res = stats.linregress(sAB_ratio[age_sindspatial],reqalt_rates[age_sindspatial])\n",
    "aslope2 = res.slope; aint2 = res.intercept; ar2 = res.rvalue ; ap2 = res.pvalue\n",
    "\n",
    "res = stats.linregress(sAB_ratio[~np.isnan(sAB_ratio)],reqalt_rates[~np.isnan(sAB_ratio)])\n",
    "allslope2 = res.slope; allint2 = res.intercept; allr2 = res.rvalue; allp2 = res.pvalue\n",
    "\n",
    "print('\\nAssociation btwn Young, MA, Aged, & All (Alt.) Performance & Variable of Interest:')\n",
    "print('R [Young, MA, Aged, All]: ')\n",
    "print(yr2, mar2, ar2, allr2)\n",
    "print('P [Young, MA, Aged, All]: ')\n",
    "print(yp2, map2, ap2, allp2)\n",
    "\n",
    "#Linear regression with block & alt data together\n",
    "res = stats.linregress(np.hstack((sABratio[y_sindspatial],sAB_ratio[y_sindspatial])),np.hstack((reqblock_rates[y_sindspatial],reqalt_rates[y_sindspatial])))\n",
    "yslope3 = res.slope; yint3 = res.intercept; yr3 = res.rvalue; yp3 = res.pvalue\n",
    "\n",
    "res = stats.linregress(np.hstack((sABratio[ma_sindspatial],sAB_ratio[ma_sindspatial])),np.hstack((reqblock_rates[ma_sindspatial],reqalt_rates[ma_sindspatial])))\n",
    "maslope3 = res.slope; maint3 = res.intercept; mar3 = res.rvalue ; map3 = res.pvalue\n",
    "\n",
    "res = stats.linregress(np.hstack((sABratio[age_sindspatial],sAB_ratio[age_sindspatial])),np.hstack((reqblock_rates[age_sindspatial],reqalt_rates[age_sindspatial])))\n",
    "aslope3 = res.slope; aint3 = res.intercept; ar3 = res.rvalue ; ap3 = res.pvalue\n",
    "\n",
    "allidx = np.concatenate((y_sindspatial, ma_sindspatial, age_sindspatial))\n",
    "res = stats.linregress(np.hstack((sABratio[allidx],sAB_ratio[allidx])),np.hstack((reqblock_rates[allidx],reqalt_rates[allidx])))\n",
    "allslope3 = res.slope; allint3 = res.intercept; allr3 = res.rvalue; allp3 = res.pvalue\n",
    "\n",
    "print('\\nAssociation btwn Young, MA, Aged, & All (Block + Alt) Performance & Variable of Interest:')\n",
    "print('R [Young, MA, Aged, All]: ')\n",
    "print(yr3, mar3, ar3, allr3)\n",
    "print('P [Young, MA, Aged, All]: ')\n",
    "print(yp3, map3, ap3, allp3)\n",
    "\n",
    "print('\\nn session halves: young, ma, aged')\n",
    "print(len(y_sindspatial)*2,len(ma_sindspatial)*2,len(age_sindspatial)*2)\n",
    "\n",
    "#Plot Stability over All Sessions by Age Group with Block & Alt Phases\n",
    "fig, ax = plt.subplots(figsize = (2.5,1.05))\n",
    "fig.suptitle('Young Sessions', fontsize = 10)\n",
    "ax.scatter(sAB_ratio[y_sindspatial],reqalt_rates[y_sindspatial], color = 'C0', s = 10)\n",
    "ax.scatter(sABratio[y_sindspatial],reqblock_rates[y_sindspatial], color = 'C0', s = 10, edgecolor = 'k', lw = 0.5)\n",
    "ax.set_xlabel('Mean Similarity Ratio', fontsize = 9)\n",
    "ax.set_ylabel('Frac. Requested', fontsize = 9)\n",
    "ax.set_ylim([-0.1,1.1])\n",
    "ax.set_xlim([0.95,1.8])\n",
    "ax.set_xticks([1,1.2,1.4,1.6,1.8])\n",
    "ax.tick_params(labelsize = 8)\n",
    "X_plot = np.linspace(ax.get_xlim()[0],ax.get_xlim()[1],100)\n",
    "ax.plot(X_plot, yslope2*X_plot + yint2, '-', color = 'C0', linewidth = 0.75, label = 'Alt. Only')\n",
    "ax.plot(X_plot, yslope3*X_plot + yint3, '-', linewidth = 0.75, color = 'k', label = 'Block & Alt.')\n",
    "ax.legend(fontsize = 8)\n",
    "plt.savefig(save_folder + 'ReviewerFigure5D_1.png', dpi = 400, bbox_inches = 'tight')\n",
    "plt.savefig(save_folder + 'ReviewerFigure5D_1.svg', dpi = 400, bbox_inches = 'tight')\n",
    "plt.show()\n",
    "\n",
    "fig, ax = plt.subplots(figsize = (2.5,1.05))\n",
    "fig.suptitle('MA Sessions', fontsize = 10)\n",
    "ax.scatter(sAB_ratio[ma_sindspatial],reqalt_rates[ma_sindspatial], color = 'C2', s = 10)\n",
    "ax.scatter(sABratio[ma_sindspatial],reqblock_rates[ma_sindspatial], color = 'C2', s = 10, edgecolor = 'k', lw = 0.5)\n",
    "ax.set_xlabel('Mean Similarity Ratio', fontsize = 9)\n",
    "ax.set_ylabel('Frac. Requested', fontsize = 9)\n",
    "ax.set_ylim([-0.1,1.1])\n",
    "ax.set_xlim([0.95,1.8])\n",
    "ax.set_xticks([1,1.2,1.4,1.6,1.8])\n",
    "ax.tick_params(labelsize = 8)\n",
    "X_plot = np.linspace(ax.get_xlim()[0],ax.get_xlim()[1],100)\n",
    "ax.plot(X_plot, maslope2*X_plot + maint2, '-', color = 'C2', linewidth = 0.75, label = 'Alt. Only')\n",
    "ax.plot(X_plot, maslope3*X_plot + maint3, '-', linewidth = 0.75, color = 'k', label = 'Block & Alt.')\n",
    "ax.legend(fontsize = 8)\n",
    "plt.savefig(save_folder + 'ReviewerFigure5D_2.png', dpi = 400, bbox_inches = 'tight')\n",
    "plt.savefig(save_folder + 'ReviewerFigure5D_2.svg', dpi = 400, bbox_inches = 'tight')\n",
    "plt.show()\n",
    "\n",
    "fig, ax = plt.subplots(figsize = (2.5,1.05))\n",
    "fig.suptitle('Aged Sessions', fontsize = 10)\n",
    "ax.scatter(sAB_ratio[age_sindspatial],reqalt_rates[age_sindspatial], color = 'C1', s = 10)\n",
    "ax.scatter(sABratio[age_sindspatial],reqblock_rates[age_sindspatial], color = 'C1', s = 10, edgecolor = 'k', lw = 0.5)\n",
    "ax.set_xlabel('Mean Similarity Ratio', fontsize = 9)\n",
    "ax.set_ylabel('Frac. Requested', fontsize = 9)\n",
    "ax.set_ylim([-0.1,1.1])\n",
    "ax.set_xlim([0.95,1.8])\n",
    "ax.set_xticks([1,1.2,1.4,1.6,1.8])\n",
    "ax.tick_params(labelsize = 8)\n",
    "X_plot = np.linspace(ax.get_xlim()[0],ax.get_xlim()[1],100)\n",
    "ax.plot(X_plot, aslope2*X_plot + aint2, '-', linewidth = 0.75, color = 'C1', label = 'Alt. Only')\n",
    "ax.plot(X_plot, aslope3*X_plot + aint3, '-', linewidth = 0.75, color = 'k', label = 'Block & Alt.')\n",
    "ax.legend(fontsize = 8,)\n",
    "plt.savefig(save_folder + 'ReviewerFigure5D_3.png', dpi = 400, bbox_inches = 'tight')\n",
    "plt.savefig(save_folder + 'ReviewerFigure5D_3.svg', dpi = 400, bbox_inches = 'tight')\n",
    "plt.show()"
   ]
  },
  {
   "cell_type": "markdown",
   "id": "a0a38195",
   "metadata": {},
   "source": [
    "# Analysis Summary\n",
    "\n",
    "We recapitulated key age differences in SM grid and NGS cell activity (i.e. Figures 2F-I & S3F-I) using the larger pool of Split Maze spatial cells (Reviewer Figure 5A-D). Importantly, age group differences in and behavioral relationships of spatial cell stability and context-specificity concurs with those for grid and NGS cells."
   ]
  },
  {
   "cell_type": "code",
   "execution_count": null,
   "id": "5ecdf01e",
   "metadata": {},
   "outputs": [],
   "source": []
  }
 ],
 "metadata": {
  "kernelspec": {
   "display_name": "Python 3 (ipykernel)",
   "language": "python",
   "name": "python3"
  },
  "language_info": {
   "codemirror_mode": {
    "name": "ipython",
    "version": 3
   },
   "file_extension": ".py",
   "mimetype": "text/x-python",
   "name": "python",
   "nbconvert_exporter": "python",
   "pygments_lexer": "ipython3",
   "version": "3.8.16"
  }
 },
 "nbformat": 4,
 "nbformat_minor": 5
}
