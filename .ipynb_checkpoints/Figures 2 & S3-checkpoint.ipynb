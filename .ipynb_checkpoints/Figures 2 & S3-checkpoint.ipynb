{
 "cells": [
  {
   "cell_type": "markdown",
   "id": "99c8b2dc",
   "metadata": {},
   "source": [
    "# Setup"
   ]
  },
  {
   "cell_type": "code",
   "execution_count": 1,
   "id": "d5993e79",
   "metadata": {},
   "outputs": [],
   "source": [
    "''' magic 4u'''\n",
    "%load_ext autoreload\n",
    "%autoreload 2"
   ]
  },
  {
   "cell_type": "code",
   "execution_count": 35,
   "id": "7c0c58f5",
   "metadata": {},
   "outputs": [],
   "source": [
    "'''Get Stuff You Need'''\n",
    "import numpy as np\n",
    "import math as math\n",
    "from tqdm import tnrange\n",
    "from tqdm.notebook import tqdm as tdqm\n",
    "import matplotlib.pyplot as plt\n",
    "import matplotlib as mpl\n",
    "mpl.rcParams.update(mpl.rcParamsDefault)\n",
    "from matplotlib import gridspec\n",
    "from scipy.interpolate import interp1d\n",
    "from scipy.ndimage import gaussian_filter1d\n",
    "from scipy import stats\n",
    "import scipy.io\n",
    "import scipy.ndimage.filters as filt\n",
    "import pandas as pd\n",
    "import seaborn as sns\n",
    "\n",
    "from pipeline import get_data as get\n",
    "from pipeline import process_spikes as ps\n",
    "\n",
    "from statsmodels.tsa.stattools import acf\n",
    "from scipy.signal import find_peaks\n",
    "from itertools import combinations"
   ]
  },
  {
   "cell_type": "code",
   "execution_count": 3,
   "id": "6ac07044",
   "metadata": {},
   "outputs": [],
   "source": [
    "''' Define plotting defaults '''\n",
    "\n",
    "from matplotlib import rc \n",
    "mpl.rcParams['font.sans-serif'] = 'Arial'\n",
    "mpl.rcParams['font.family'] = 'sans-serif'\n",
    "mpl.rcParams['svg.fonttype'] = 'none'"
   ]
  },
  {
   "cell_type": "code",
   "execution_count": 4,
   "id": "2303cc50",
   "metadata": {},
   "outputs": [
    {
     "data": {
      "text/html": [
       "<div>\n",
       "<style scoped>\n",
       "    .dataframe tbody tr th:only-of-type {\n",
       "        vertical-align: middle;\n",
       "    }\n",
       "\n",
       "    .dataframe tbody tr th {\n",
       "        vertical-align: top;\n",
       "    }\n",
       "\n",
       "    .dataframe thead th {\n",
       "        text-align: right;\n",
       "    }\n",
       "</style>\n",
       "<table border=\"1\" class=\"dataframe\">\n",
       "  <thead>\n",
       "    <tr style=\"text-align: right;\">\n",
       "      <th></th>\n",
       "      <th>Animal_ID</th>\n",
       "      <th>Task</th>\n",
       "      <th>Cohort</th>\n",
       "      <th>Probe_Control</th>\n",
       "      <th>Sex</th>\n",
       "      <th>Sac_Date</th>\n",
       "      <th>Frozen_Hemisphere</th>\n",
       "      <th>DOB</th>\n",
       "      <th>Age_WholeMonth</th>\n",
       "      <th>Age_ExtraDays</th>\n",
       "      <th>Age_Month</th>\n",
       "      <th>Aged_Days</th>\n",
       "      <th>Age_Group</th>\n",
       "      <th>Behavior_Sessions</th>\n",
       "      <th>Neural_Sessions</th>\n",
       "    </tr>\n",
       "  </thead>\n",
       "  <tbody>\n",
       "    <tr>\n",
       "      <th>0</th>\n",
       "      <td>A3</td>\n",
       "      <td>RF</td>\n",
       "      <td>A</td>\n",
       "      <td>0</td>\n",
       "      <td>F</td>\n",
       "      <td>1/27/2021</td>\n",
       "      <td>R</td>\n",
       "      <td>4/23/2019</td>\n",
       "      <td>21</td>\n",
       "      <td>4</td>\n",
       "      <td>21.217</td>\n",
       "      <td>645</td>\n",
       "      <td>3</td>\n",
       "      <td>6</td>\n",
       "      <td>6</td>\n",
       "    </tr>\n",
       "    <tr>\n",
       "      <th>1</th>\n",
       "      <td>A4</td>\n",
       "      <td>RF</td>\n",
       "      <td>A</td>\n",
       "      <td>0</td>\n",
       "      <td>F</td>\n",
       "      <td>1/27/2021</td>\n",
       "      <td>R</td>\n",
       "      <td>4/23/2019</td>\n",
       "      <td>21</td>\n",
       "      <td>4</td>\n",
       "      <td>21.217</td>\n",
       "      <td>645</td>\n",
       "      <td>3</td>\n",
       "      <td>6</td>\n",
       "      <td>6</td>\n",
       "    </tr>\n",
       "    <tr>\n",
       "      <th>2</th>\n",
       "      <td>A5</td>\n",
       "      <td>RF</td>\n",
       "      <td>A</td>\n",
       "      <td>0</td>\n",
       "      <td>F</td>\n",
       "      <td>4/6/2021</td>\n",
       "      <td>L</td>\n",
       "      <td>4/23/2019</td>\n",
       "      <td>23</td>\n",
       "      <td>14</td>\n",
       "      <td>23.487</td>\n",
       "      <td>714</td>\n",
       "      <td>3</td>\n",
       "      <td>6</td>\n",
       "      <td>6</td>\n",
       "    </tr>\n",
       "    <tr>\n",
       "      <th>3</th>\n",
       "      <td>A6</td>\n",
       "      <td>RF</td>\n",
       "      <td>A</td>\n",
       "      <td>0</td>\n",
       "      <td>F</td>\n",
       "      <td>4/6/2021</td>\n",
       "      <td>R</td>\n",
       "      <td>4/23/2019</td>\n",
       "      <td>23</td>\n",
       "      <td>14</td>\n",
       "      <td>23.487</td>\n",
       "      <td>714</td>\n",
       "      <td>3</td>\n",
       "      <td>6</td>\n",
       "      <td>6</td>\n",
       "    </tr>\n",
       "    <tr>\n",
       "      <th>4</th>\n",
       "      <td>A7</td>\n",
       "      <td>RF</td>\n",
       "      <td>A</td>\n",
       "      <td>0</td>\n",
       "      <td>F</td>\n",
       "      <td>4/19/2021</td>\n",
       "      <td>L</td>\n",
       "      <td>5/29/2019</td>\n",
       "      <td>22</td>\n",
       "      <td>21</td>\n",
       "      <td>22.730</td>\n",
       "      <td>691</td>\n",
       "      <td>3</td>\n",
       "      <td>6</td>\n",
       "      <td>6</td>\n",
       "    </tr>\n",
       "  </tbody>\n",
       "</table>\n",
       "</div>"
      ],
      "text/plain": [
       "  Animal_ID Task Cohort  Probe_Control Sex   Sac_Date Frozen_Hemisphere  \\\n",
       "0        A3   RF      A              0   F  1/27/2021                 R   \n",
       "1        A4   RF      A              0   F  1/27/2021                 R   \n",
       "2        A5   RF      A              0   F   4/6/2021                 L   \n",
       "3        A6   RF      A              0   F   4/6/2021                 R   \n",
       "4        A7   RF      A              0   F  4/19/2021                 L   \n",
       "\n",
       "         DOB  Age_WholeMonth  Age_ExtraDays  Age_Month  Aged_Days  Age_Group  \\\n",
       "0  4/23/2019              21              4     21.217        645          3   \n",
       "1  4/23/2019              21              4     21.217        645          3   \n",
       "2  4/23/2019              23             14     23.487        714          3   \n",
       "3  4/23/2019              23             14     23.487        714          3   \n",
       "4  5/29/2019              22             21     22.730        691          3   \n",
       "\n",
       "   Behavior_Sessions  Neural_Sessions  \n",
       "0                  6                6  \n",
       "1                  6                6  \n",
       "2                  6                6  \n",
       "3                  6                6  \n",
       "4                  6                6  "
      ]
     },
     "execution_count": 4,
     "metadata": {},
     "output_type": "execute_result"
    }
   ],
   "source": [
    "''' Load in Animal Metadata '''\n",
    "\n",
    "animalmeta = pd.read_csv('C:/Users/Python/Desktop/Dryad/MouseMetadata.csv') # adjust path name\n",
    "\n",
    "# define some useful lists of animals based on metadata\n",
    "all_aged_mice = np.array(animalmeta.loc[(animalmeta.Age_Group == 3),'Animal_ID'])\n",
    "all_MA_mice = np.array(animalmeta.loc[(animalmeta.Age_Group == 2),'Animal_ID'])\n",
    "all_young_mice = np.array(animalmeta.loc[(animalmeta.Age_Group == 1),'Animal_ID'])\n",
    "\n",
    "cohorta_mice = np.array(animalmeta.loc[(animalmeta.Cohort == 'A'),'Animal_ID'])\n",
    "cohortb_mice = np.array(animalmeta.loc[(animalmeta.Cohort == 'B'),'Animal_ID'])\n",
    "cohortc_mice = np.array(animalmeta.loc[(animalmeta.Cohort == 'C'),'Animal_ID'])\n",
    "cohortd_mice = np.array(animalmeta.loc[(animalmeta.Cohort == 'D'),'Animal_ID'])\n",
    "\n",
    "RF_aged_mice = np.array(animalmeta.loc[(animalmeta.Age_Group == 3) & (animalmeta.Task == 'RF'),'Animal_ID'])\n",
    "RF_young_mice = np.array(animalmeta.loc[(animalmeta.Age_Group == 1) & (animalmeta.Task == 'RF'),'Animal_ID'])\n",
    "SM_aged_mice = np.array(animalmeta.loc[(animalmeta.Age_Group == 3) & (animalmeta.Task == 'SM'),'Animal_ID'])\n",
    "SM_MA_mice = np.array(animalmeta.loc[(animalmeta.Age_Group == 2) & (animalmeta.Task == 'SM'),'Animal_ID'])\n",
    "SM_young_mice = np.array(animalmeta.loc[(animalmeta.Age_Group == 1) & (animalmeta.Task == 'SM'),'Animal_ID'])\n",
    "\n",
    "all_female_mice = np.array(animalmeta.loc[(animalmeta.Sex == 'F'),'Animal_ID'])\n",
    "all_male_mice = np.array(animalmeta.loc[(animalmeta.Sex == 'M'), 'Animal_ID'])\n",
    "RF_female_mice = np.array(animalmeta.loc[(animalmeta.Sex == 'F') & (animalmeta.Task == 'RF'),'Animal_ID'])\n",
    "RF_male_mice = np.array(animalmeta.loc[(animalmeta.Sex == 'M') & (animalmeta.Task == 'RF'),'Animal_ID'])\n",
    "SM_female_mice = np.array(animalmeta.loc[(animalmeta.Sex == 'F') & (animalmeta.Task == 'SM'),'Animal_ID'])\n",
    "SM_male_mice = np.array(animalmeta.loc[(animalmeta.Sex == 'M') & (animalmeta.Task == 'SM'),'Animal_ID'])\n",
    "\n",
    "animalmeta.head()"
   ]
  },
  {
   "cell_type": "code",
   "execution_count": 5,
   "id": "37e7bdb1",
   "metadata": {},
   "outputs": [],
   "source": [
    "''' Complete List of Mice & Neural Sessions '''\n",
    "all_mice = np.array(animalmeta.Animal_ID)\n",
    "\n",
    "all_sessions = ([['0122_record1','0123_record2','0124_record3','0125_record4','0126_record5','0127_record6'], \n",
    "             ['0122_record1','0123_record2','0124_record3','0125_record4','0126_record5','0127_record6'],\n",
    "             ['0401_record1','0401_record2b','0403_record3','0404_record4','0405_record5','0406_record6'],\n",
    "             ['0401_record1','0402_record2','0403_record3','0404_record4','0405_record5','0406_record6'],\n",
    "             ['0414_record1','0415_record2','0416_record3','0417_record4','0418_record5','0419_record6'],\n",
    "             ['1024_record1','1025_record2','1026_record3','1027_record4','1028_record5_2'], #Y2_6 excluded\n",
    "             ['1016_record1','1019_record3','1020_record4','1021_record5','1022_record6'], #Y3_2 not collected\n",
    "             ['1114_record1','1115_record2','1116_record3','1117_record4','1118_record5','1119_record6'], # end cohort A\n",
    "             ['051822_record1','051922_record2', '052022_record3','052122_record4','052222_record5','052322_record6'], \n",
    "             ['050522_record1','050622_record2','050722_record3','050822_record4','050922_record5','051022_record6'],\n",
    "             ['050522_record1','050622_record2','050722_record3','050822_record4','051022_record6'], #Y11_5 not collected\n",
    "             ['062222_record3','062322_record4','062522_record5'], #Y16_1 & 2 not collected, neural _6 excluded\n",
    "             ['062822_record1','062922_record2','063022_record3','070122_record4','070222_record5','070322_record6'],\n",
    "             ['062022_record1','062122_record2','062222_record3','062322_record4','062522_record5','062622_record6'],\n",
    "             ['062822_record1','062922_record2','063022_record3','070122_record4','070222_record5','070322_record6'], \n",
    "             ['051922_record2','052022_record3'], # Y9 051822_1 excluded, end cohort B\n",
    "             ['083022_record1','083122_record2','090122_record3'], \n",
    "             ['083022_record1','083122_record2','090122_record3','090222_record4','090322_record5','090422_record6'],\n",
    "             ['083022_record1','083122_record2','090122_record3','090222_record4'], #behavior of A16_4, both of 5 excluded, 6 not collected \n",
    "             ['082322_record1','082422_record2','082522_record3','082622_record4','082722_record5','082822_record6'],\n",
    "             ['082322_record1real','082422_record2','082522_record3','082622_record4','082722_record5','082822_record6'],\n",
    "             ['102322_record1','102422_record2','102522_record3','102622_record4','102722_record5','102822_record6'],\n",
    "             ['102322_record1','102422_record2','102522_record3','102622_record4','102722_record5','102822_record6'],\n",
    "             ['102322_record1','102422_record2','102522_record3','102622_record4','102722_record5','102822_record6'],\n",
    "             ['103122_record2','110122_record3','110222_record4','110322_record5rep','110422_record6','110522_record7'], #behavior of MA4M6, 7 excluded\n",
    "             ['110622_record1','110722_record2','110822_record3','110922_record4','111022_record5','111122_record6'],\n",
    "             ['103022_record1','103122_record2','110122_record3','110222_record4','110322_record5','110422_record6'],\n",
    "             ['103022_record1','103122_record2','110122_record3','110222_record4'], #behavior of MA7_4, both 5 excluded, 6 not collected\n",
    "             ['111322_record1','111422_record2','111522_record3','111622_record4','111722_record5','111822_record6'],\n",
    "             ['111322_record1','111422_record2','111522_record3','111622_record4','111722_record5','111822_record6'],\n",
    "             ['111322_record1','111422_record2','111522_record3','111622_record4','111722_record5','111822_record6'], \n",
    "             ['092522_record1','092622_record2','092722_record3','092822_record4','092922_record5','093022_record6'],\n",
    "             ['091822_record1','091922_record2','092022_record3','092122_record4','092222_record5','092322_record6'],\n",
    "             ['092522_record1','092622_record2','092722_record3','092822_record4','092922_record5','093022_record6'],\n",
    "             ['092522_record1','092622_record2','092722_record3','092822_record4','092922_record5','093022_record6'],\n",
    "             ['091822_record1','091922_record2','092022_record3','092122_record4','092222_record5','092322_record6'], #end cohortc\n",
    "             ['012723_record2','012823_record3','012923_record4','013023_record5','013123_record6','020123_record7'],\n",
    "             ['012623_record1','012723_record2','012823_record3','012923_record4','013023_record5','013123_record6'],\n",
    "             ['012923_record2','013023_record3','013123_record4','020123_record5','020223_record6','020323_record7'],\n",
    "             ['020923_record1','021023_record2','021123_record3','021223_record4','021323_record5','021423_record6'],\n",
    "             ['022623_record1','022723_record2','022823_record3','030123_record4','030223_record5','030323_record6'],\n",
    "             ['021623_record1','021723_record2','021823_record3','021923_record4','022023_record5','022123_record6'],\n",
    "             ['021623_record1','021723_record2','021823_record3','021923_record4','022023_record5','022123_record6'],\n",
    "             ['021623_record1','021723_record2','021823_record3','021923_record4','022023_record5rep','022123_record6'],\n",
    "             ['022623_record1','022723_record2','022823_record3','030123_record4','030223_record5','030323_record6'] #end cohort d \n",
    "            ]) #list of sessions"
   ]
  },
  {
   "cell_type": "code",
   "execution_count": 6,
   "id": "24b111c8",
   "metadata": {},
   "outputs": [],
   "source": [
    "'''Define which mice & sessions to load based on metadata'''\n",
    "# Define mice, sessions for particular cohorts\n",
    "mice , mice_ind, _  = np.intersect1d(all_mice, np.union1d(cohortc_mice, cohortd_mice), return_indices = True) # SM mice\n",
    "\n",
    "sessions = []\n",
    "for i in mice_ind:\n",
    "    sessions.append(all_sessions[i])\n",
    "\n",
    "# Make a dict to hold data\n",
    "data = {}\n",
    "\n",
    "for session, m in zip(sessions, mice):\n",
    "    data[m] = {}\n",
    "    \n",
    "    for s in session:\n",
    "        data[m][s] = {}"
   ]
  },
  {
   "cell_type": "markdown",
   "id": "764ef834",
   "metadata": {},
   "source": [
    "# Edit these paths"
   ]
  },
  {
   "cell_type": "code",
   "execution_count": 7,
   "id": "482d164d",
   "metadata": {},
   "outputs": [],
   "source": [
    "#Inputs\n",
    "load_folder = 'C:/Users/Python/Desktop/LocalData/filtered/' # adjust path to match output of Import & Filter\n",
    "shuffload_folder1 = 'C:/Users/Python/Desktop/Dryad/shuffle_scores/sparsitya/' # adjust to match location of this Dryad repo folder\n",
    "shuffload_folder2 = 'C:/Users/Python/Desktop/Dryad/shuffle_scores/coherencea/' # adjust to match location of this Dryad repo folder\n",
    "shuffload_folder3 = 'C:/Users/Python/Desktop/Dryad/shuffle_scores/peakheights/' # adjust to match location of this Dryad repo folder\n",
    "int_save_folder = 'C:/Users/Python/Desktop/LocalData/FigureS6/' # adjust to match Shuffle Procedure output plotsave_folder\n",
    "engagement_folder = 'C:/Users/Python/Desktop/LocalData/Figure1S1S2/' # adjust to match Figure 1, S1, S2 output save_folder\n",
    "\n",
    "#Output (create folder to hold the output of this notebook; then match the name of this repository below)\n",
    "save_folder = 'C:/Users/Python/Desktop/LocalData/Figure2S3/' "
   ]
  },
  {
   "cell_type": "code",
   "execution_count": null,
   "id": "a827be65",
   "metadata": {},
   "outputs": [],
   "source": [
    "''' Get reward & lick data for sessions w/ neural data'''\n",
    "\n",
    "#get lick & reward data\n",
    "rewarda_centers = []\n",
    "rewardb_centers = []\n",
    "\n",
    "for m, session in zip(mice, sessions):\n",
    "    for s in session:\n",
    "        d = data[m][s]\n",
    " \n",
    "        #load data\n",
    "        rawdata_file = 'RAW_' + m + '_' + s + '.npy'\n",
    "        spikes_file = 'SPIKES_' + m + '_' + s +'.npy'\n",
    "        behavior_file = 'BEHAVIOR_' + m + '_' + s + '.npy'\n",
    "        \n",
    "        raw = np.load(load_folder + rawdata_file, allow_pickle=True)\n",
    "        Y = np.load(load_folder + spikes_file, allow_pickle=False) #pre-filtered for speeds >2cm/s, position-corrected spikes, 20 ms timebins\n",
    "        behaviorfil = np.load(load_folder + behavior_file, allow_pickle=False)\n",
    "        \n",
    "        d['reward_data'] = {}\n",
    "        \n",
    "        # get behavioral params\n",
    "        posx = raw.item().get('posx')\n",
    "        post = raw.item().get('post')\n",
    "        dt = np.unique(np.round(np.diff(post),4))\n",
    "        lickt = raw.item().get('lickt')\n",
    "        trials_dark = np.sum(raw.item().get('trialinfo')['dark'])\n",
    "        reward = raw.item().get('reward')\n",
    "        reward['trials'] = np.arange(0,len(reward['trials']),1) # fixes occassional Unity error numbering of rewards \n",
    "        \n",
    "        if len(dt) > 1: # discard duplicate frame entries if they occurred\n",
    "            dt = dt[dt != 0]\n",
    "        speed = raw.item().get('speed')\n",
    "        \n",
    "        # get reward params & remove reward data pertaining to dark trials & skipped trials\n",
    "        try:\n",
    "            _ = raw.item().get('correctedtrial').shape\n",
    "            skippedtrials = get.find_skipped(trial, max_trial_num = 220)\n",
    "            nonskipped = np.setdiff1d(reward['trials'],skippedtrials)   \n",
    "            k_idx = np.intersect1d(np.where(reward['trials'] > trials_dark), nonskipped)\n",
    "            keep_idx = np.intersect1d(np.where(reward['trials'] <= np.max(alltrial)), k_idx)\n",
    "            \n",
    "        except:\n",
    "            skippedtrials = []\n",
    "            trial = raw.item().get('trial')\n",
    "            keep_idx = (np.where(reward['trials'] > trials_dark))\n",
    "            \n",
    "        reward_centers = np.array(reward['centers'][keep_idx])\n",
    "        rewardt = reward['times'][keep_idx]\n",
    "        reward_trials = reward['trials'][keep_idx]\n",
    "        misses = reward['missed'][keep_idx].astype(bool)\n",
    "        auto_reward = np.array(reward['auto'][keep_idx])\n",
    "        #print('Mouse ' + m + ' with n_misses: ' + str(np.sum(misses)))   \n",
    "\n",
    "        # get lick and reward indices\n",
    "        lick_ct = get.spiketrain(post, dt, lickt, index=False)\n",
    "        d['reward_data']['lick_ct'] = lick_ct\n",
    "        #print('got lick indices for mouse ' + m + ' session ' + s)\n",
    "        \n",
    "        reward_idx = get.rewardtrain(post, dt, rewardt, index=True) #gets reward ct for each time binned position range as index\n",
    "        d['reward_data']['reward_idx'] = reward_idx\n",
    "        #print('got reward indices for mouse ' + m + ' session ' + s)\n",
    "    \n",
    "    # saves list of reward locations per mouse\n",
    "    if reward['centers'][0] == 270:\n",
    "        rewarda_centers = np.append(rewarda_centers,270)\n",
    "        rewardb_centers = np.append(rewardb_centers,370)\n",
    "    else:\n",
    "        rewarda_centers = np.append(rewarda_centers,370)\n",
    "        rewardb_centers = np.append(rewardb_centers,270)            "
   ]
  },
  {
   "cell_type": "code",
   "execution_count": null,
   "id": "19c2f746",
   "metadata": {},
   "outputs": [],
   "source": [
    "''' Find & Save Number of Requested Rewards per Epoch per Session & Animal '''\n",
    "#block array\n",
    "blocksatiety = []\n",
    "blockreq = []\n",
    "blocktrialn = []\n",
    "\n",
    "#session arrays\n",
    "req_rates = []\n",
    "reqa_rates = []\n",
    "reqb_rates = []\n",
    "reqblock_rates = []\n",
    "reqalt_rates = []\n",
    "reqalta_rates = []\n",
    "reqaltb_rates = []\n",
    "req_trials = []\n",
    "reqblock_trials = []\n",
    "reqalt_trials = []\n",
    "\n",
    "#animals arrays\n",
    "mreq_rates = []\n",
    "mreqa_rates = []\n",
    "mreqb_rates = []\n",
    "mreqblock_rates = []\n",
    "mreqalt_rates = []\n",
    "mreqalta_rates = []\n",
    "mreqaltb_rates = []\n",
    "\n",
    "for m, session in zip(mice, sessions):\n",
    "    rt = []\n",
    "    ca = []\n",
    "    cb = []\n",
    "    blocks = []\n",
    "    alt = []\n",
    "    alta = []\n",
    "    altb = []\n",
    "    \n",
    "    req = []\n",
    "    reqa = []\n",
    "    reqb = []\n",
    "    reqblocks = []\n",
    "    reqalt = []\n",
    "    reqalta = []\n",
    "    reqaltb = []\n",
    "    \n",
    "    for s in session:\n",
    "        # get behavior data\n",
    "        d = data[m][s]\n",
    "        \n",
    "        #load data\n",
    "        rawdata_file = 'RAW_' + m + '_' + s + '.npy'\n",
    "        spikes_file = 'SPIKES_' + m + '_' + s +'.npy'\n",
    "        behavior_file = 'BEHAVIOR_' + m + '_' + s + '.npy'\n",
    "        \n",
    "        raw = np.load(load_folder + rawdata_file, allow_pickle=True)\n",
    "        Y = np.load(load_folder + spikes_file, allow_pickle=False) #pre-filtered for speeds >2cm/s, position-corrected spikes, 20 ms timebins\n",
    "        behaviorfil = np.load(load_folder + behavior_file, allow_pickle=False)\n",
    "        \n",
    "        posx = raw.item().get('posx')\n",
    "        post = raw.item().get('post')\n",
    "        dt = np.unique(np.round(np.diff(post),4))\n",
    "        if len(dt) > 1: # discard duplicate frame entries if they occurred\n",
    "            dt = dt[dt != 0]\n",
    "        speed = raw.item().get('speed')\n",
    "        \n",
    "        # get reward params & remove reward data pertaining to dark trials & skipped trials\n",
    "        lickt = raw.item().get('lickt')\n",
    "        trials_dark = np.sum(raw.item().get('trialinfo')['dark'])\n",
    "        reward = raw.item().get('reward')\n",
    "        reward['trials'] = np.arange(0,len(reward['trials']),1)\n",
    "        \n",
    "        # get reward params & remove reward data pertaining to dark trials & skipped trials\n",
    "        try:\n",
    "            _ = raw.item().get('correctedtrial').shape\n",
    "            skippedtrials = get.find_skipped(trial, max_trial_num = 220)\n",
    "            nonskipped = np.setdiff1d(reward['trials'],skippedtrials)   \n",
    "            k_idx = np.intersect1d(np.where(reward['trials'] > trials_dark), nonskipped)\n",
    "            keep_idx = np.intersect1d(np.where(reward['trials'] <= np.max(alltrial)), k_idx)\n",
    "            \n",
    "        except:\n",
    "            skippedtrials = []\n",
    "            trial = raw.item().get('trial')\n",
    "            keep_idx = (np.where(reward['trials'] > trials_dark))\n",
    "        \n",
    "        reward_centers = np.array(reward['centers'][keep_idx])\n",
    "        rewarda = reward_centers[0]\n",
    "        rewardb = reward_centers[60]\n",
    "        rewardt = reward['times'][keep_idx]\n",
    "        reward_trials = reward['trials'][keep_idx]\n",
    "        misses = reward['missed'][keep_idx].astype(bool)\n",
    "        requests = ~misses\n",
    "        \n",
    "        # find rate of requests for a given session\n",
    "        req_rates.append(np.sum(requests)/len(reward_trials)) #total\n",
    "        \n",
    "        rewarda_idx = np.where(reward_trials < 81)[0]\n",
    "        reqa_rates.append(np.sum(requests[rewarda_idx])/len(rewarda_idx)) #context a\n",
    "        \n",
    "        rewardb_idx = np.intersect1d((np.where(reward_trials >= 81)), (np.where(reward_trials <= 140)))\n",
    "        reqb_rates.append(np.sum(requests[rewardb_idx])/len(rewardb_idx)) #context b\n",
    "        \n",
    "        block_idx = np.where(reward_trials < 140)[0]\n",
    "        reqblock_rates.append(np.sum(requests[block_idx])/len(block_idx)) #block\n",
    "        \n",
    "        alt_idx = np.where(reward_trials >= 140)[0]\n",
    "        reqalt_rates.append(np.sum(requests[alt_idx])/len(alt_idx)) #alt\n",
    "        \n",
    "        alta_idx = np.where((reward_trials >= 140) & (reward_centers == rewarda))[0] \n",
    "        reqalta_rates.append(np.mean(requests[alta_idx]))\n",
    "        \n",
    "        altb_idx = np.where((reward_trials >= 140) & (reward_centers == rewardb))[0]\n",
    "        reqaltb_rates.append(np.mean(requests[altb_idx]))\n",
    "        \n",
    "        rt = np.append(rt,len(reward_trials))\n",
    "        ca = np.append(ca,len(rewarda_idx))\n",
    "        cb = np.append(cb,len(rewardb_idx))\n",
    "        blocks = np.append(blocks,len(block_idx))\n",
    "        alt = np.append(alt,len(alt_idx))\n",
    "        alta = np.append(alta, len(alta_idx))\n",
    "        altb = np.append(altb, len(altb_idx))\n",
    "        \n",
    "        req_trials = np.append(req_trials, len(reward_trials))\n",
    "        reqblock_trials = np.append(reqblock_trials, len(block_idx))\n",
    "        reqalt_trials = np.append(reqalt_trials, len(alt_idx))\n",
    "        \n",
    "        req = np.append(req,np.sum(requests))\n",
    "        reqa = np.append(reqa,np.sum(requests[rewarda_idx]))\n",
    "        reqb = np.append(reqb,np.sum(requests[rewardb_idx]))\n",
    "        reqblocks = np.append(reqblocks,np.sum(requests[block_idx]))\n",
    "        reqalt = np.append(reqalt,np.sum(requests[alt_idx]))\n",
    "        reqalta = np.append(reqalta,requests[alta_idx])\n",
    "        reqaltb = np.append(reqaltb,requests[altb_idx])\n",
    "        \n",
    "        d['altreqbytrial'] = requests[alt_idx]\n",
    "        \n",
    "        # append req rates from blocks into block req array len(4 x total sessions)\n",
    "        blockreq = np.append(blockreq, np.mean(requests[rewarda_idx])) # block 1\n",
    "        blockreq = np.append(blockreq, np.mean(requests[rewardb_idx])) # block 2\n",
    "        blockreq = np.append(blockreq, np.mean(requests[alta_idx])) # block 3\n",
    "        blockreq = np.append(blockreq, np.mean(requests[altb_idx])) # block 4   \n",
    "        \n",
    "        blocktrialn = np.append(blocktrialn, len(requests[rewarda_idx]))\n",
    "        blocktrialn = np.append(blocktrialn, len(requests[rewardb_idx]))\n",
    "        blocktrialn = np.append(blocktrialn, len(requests[alta_idx]))\n",
    "        blocktrialn = np.append(blocktrialn, len(requests[altb_idx]))\n",
    "        \n",
    "        # append reward counts from previous task block into block satiety array len(4 x total sessions)\n",
    "        blocksatiety = np.append(blocksatiety, 0) #no rewards before block a for every animal\n",
    "        blocksatiety = np.append(blocksatiety, np.sum(requests[rewarda_idx])) # count of rewards consumed before block b\n",
    "        blocksatiety = np.append(blocksatiety, (np.sum(requests[rewarda_idx]) + np.sum(requests[rewardb_idx]))) # before alta\n",
    "        blocksatiety = np.append(blocksatiety, (np.sum(requests[rewarda_idx]) + np.sum(requests[rewardb_idx]) + np.sum(requests[alta_idx]))) # beforealtb             \n",
    "                          \n",
    "    # get mouse request rate collapsing days\n",
    "    mreqrate = np.sum(req)/ np.sum(rt)\n",
    "    mreq_rates = np.append(mreq_rates,mreqrate)\n",
    "    \n",
    "    mreqarate = np.sum(reqa) / np.sum(ca)\n",
    "    mreqa_rates = np.append(mreqa_rates, mreqarate)\n",
    "    \n",
    "    mreqbrate = np.sum(reqb) / np.sum(cb)\n",
    "    mreqb_rates = np.append(mreqb_rates, mreqbrate)\n",
    "    \n",
    "    mreqblockrate = np.sum(reqblocks) / np.sum(blocks)\n",
    "    mreqblock_rates = np.append(mreqblock_rates, mreqblockrate)\n",
    "    \n",
    "    mreqaltrate = np.sum(reqalt) / np.sum(alt)\n",
    "    mreqalt_rates = np.append(mreqalt_rates, mreqaltrate)\n",
    "    \n",
    "    mreqalta_rates = np.append(mreqalta_rates, np.mean(reqalta))\n",
    "    mreqaltb_rates = np.append(mreqaltb_rates, np.mean(reqaltb))\n",
    "    \n",
    "# save as arrays to be safe\n",
    "req_rates = np.asarray(req_rates)\n",
    "reqa_rates = np.asarray(reqa_rates)\n",
    "reqb_rates = np.asarray(reqb_rates)\n",
    "reqblock_rates = np.asarray(reqblock_rates)\n",
    "reqalt_rates = np.asarray(reqalt_rates)\n",
    "reqalta_rates = np.asarray(reqalta_rates)\n",
    "reqaltb_rates = np.asarray(reqaltb_rates)\n",
    "\n",
    "mreq_rates = np.asarray(mreq_rates)\n",
    "mreqa_rates = np.asarray(mreqa_rates)\n",
    "mreqb_rates = np.asarray(mreqb_rates)\n",
    "mreqblock_rates = np.asarray(mreqblock_rates)\n",
    "mreqalt_rates = np.asarray(mreqalt_rates)\n",
    "mreqalta_rates = np.asarray(reqalta_rates)\n",
    "mreqaltb_rates = np.asarray(reqaltb_rates)\n",
    "\n",
    "blocksatiety = np.asarray(blocksatiety)\n",
    "blockreq = np.asarray(blockreq)\n",
    "blocktrialn = np.asarray(blocktrialn)"
   ]
  },
  {
   "cell_type": "code",
   "execution_count": null,
   "id": "7c0d3b80",
   "metadata": {
    "scrolled": true
   },
   "outputs": [],
   "source": [
    "''' Find & save indices corresponding to quarters of the task sorted by context, making sure skipped trials are excluded''' \n",
    "\n",
    "for m, session in zip(mice,sessions):\n",
    "    for s in tdqm(session):\n",
    "        d = data[m][s]\n",
    "        \n",
    "        #load data\n",
    "        rawdata_file = 'RAW_' + m + '_' + s + '.npy'\n",
    "        behavior_file = 'BEHAVIOR_' + m + '_' + s + '.npy'\n",
    "        \n",
    "        raw = np.load(load_folder + rawdata_file, allow_pickle=True)\n",
    "        behaviorfil = np.load(load_folder + behavior_file, allow_pickle=False)        \n",
    "        posx = behaviorfil[:,0]\n",
    "        trial = behaviorfil[:,2]\n",
    "        \n",
    "        #define indices for first two quarters accounting for skipped trials\n",
    "        start_idx = (np.where(trial >= 20)[0][0]).astype(int) # trial is zero-indexed, 20 full dark trials\n",
    "        enda_idx = (np.where(trial <= 79)[0][-1]).astype(int) # get indices of all 60 context_a trials that follow dark\n",
    "        endb_idx = (np.where(trial <= 139)[0][-1]).astype(int) # last index before alternation\n",
    "        Aidx = np.arange(start_idx, enda_idx + 1, 1)\n",
    "        Bidx = np.arange(enda_idx + 1, endb_idx + 1, 1)\n",
    "        \n",
    "        #find context A / B trials in alternation, removing skipped trials\n",
    "        trialinfo = raw.item().get('trialinfo')\n",
    "        left = trialinfo['left']\n",
    "               \n",
    "        A_trials = np.where((left == 1))[0]\n",
    "        A_trials = list(A_trials[A_trials >= 140])\n",
    "        B_trials = np.where((left == 0))[0]\n",
    "        B_trials = list(B_trials[B_trials >= 140])\n",
    "    \n",
    "        # Find skipped trials\n",
    "        try:\n",
    "            _ = raw.item().get('correctedtrial').shape\n",
    "            skippedtrials = get.find_skipped(trial, max_trial_num = 220)\n",
    "        except:\n",
    "            skippedtrials = []\n",
    "            \n",
    "        for n, t in enumerate(skippedtrials):\n",
    "            if t in A_trials:\n",
    "                A_trials.remove(t)\n",
    "            elif t in B_trials:\n",
    "                B_trials.remove(t)\n",
    "    \n",
    "        A_idx = []\n",
    "        for t in A_trials:\n",
    "            A_idx = np.append(A_idx, np.where(trial == t)[0])\n",
    "            A_idx = A_idx.astype(int)\n",
    "            \n",
    "        B_idx = []\n",
    "        for t in B_trials:\n",
    "            B_idx = np.append(B_idx, np.where(trial == t)[0])\n",
    "            B_idx = B_idx.astype(int)\n",
    "            \n",
    "        #save indices for session sections\n",
    "        Aidx_file = 'Aidx_' + m + '_' + s +'.npy'\n",
    "        Bidx_file = 'Bidx_' + m + '_' + s +'.npy'\n",
    "        A_idx_file = 'A_idx_' + m + '_' + s +'.npy'\n",
    "        B_idx_file = 'B_idx_' + m + '_' + s +'.npy'\n",
    "        \n",
    "        d['Aidx'] = Aidx\n",
    "        d['Bidx'] = Bidx\n",
    "        d['A_idx'] = A_idx\n",
    "        d['B_idx'] = B_idx\n",
    "        \n",
    "        np.save(save_folder + Aidx_file, Aidx)\n",
    "        np.save(save_folder + Bidx_file, Bidx)\n",
    "        np.save(save_folder + A_idx_file, A_idx)\n",
    "        np.save(save_folder + B_idx_file, B_idx)\n",
    "        #print('saved relevant data indices for future use') \n",
    "        \n",
    "        # get non-gain change A' and B' indices \n",
    "        gain = trialinfo['gain']\n",
    "        \n",
    "        A_ngidx_file = 'A_idx_' + m + '_' + s +'.npy'\n",
    "        B_ngidx_file = 'B_idx_' + m + '_' + s +'.npy'\n",
    "        \n",
    "        #check if mouse reached gain period; if not append NaN to all arrays & continue \n",
    "        if len(gain) < 200:\n",
    "            #print(str(m) + str(s) + ' did not reach gain change')\n",
    "            \n",
    "            d['A_ngidx'] = A_idx\n",
    "            d['B_ngidx'] = B_idx\n",
    "            \n",
    "            np.save(save_folder + A_ngidx_file, A_idx)\n",
    "            np.save(save_folder + B_ngidx_file, B_idx)\n",
    "            \n",
    "            continue \n",
    "            \n",
    "        #get count of gain change trials in each context & select equal number of last Context A or B alt trials before gain\n",
    "        gain_trials = np.where((gain == 0.7))[0]\n",
    "        gain_trials = list(gain_trials)\n",
    "\n",
    "        Agtrials = np.intersect1d(A_trials, np.asarray(gain_trials))\n",
    "        Agtrials = list(np.sort(Agtrials.astype(int)))\n",
    "        Bgtrials = np.intersect1d(B_trials, np.asarray(gain_trials))                   \n",
    "        Bgtrials = list(np.sort(Bgtrials.astype(int)))\n",
    "    \n",
    "        #get indices of observations corresponding to the selected trials\n",
    "        Agidx = []\n",
    "        for t in Agtrials:\n",
    "            Agidx = np.append(Agidx, np.where(trial == t)[0])\n",
    "        Agidx = Agidx.astype(int)\n",
    "            \n",
    "        Bgidx = []\n",
    "        for t in Bgtrials:\n",
    "            Bgidx = np.append(Bgidx, np.where(trial == t)[0])\n",
    "        Bgidx = Bgidx.astype(int)\n",
    "        \n",
    "        A_ngidx = np.setdiff1d(A_idx,Agidx).astype(int)\n",
    "        B_ngidx = np.setdiff1d(B_idx,Bgidx).astype(int)\n",
    "        \n",
    "        d['A_ngidx'] = A_ngidx\n",
    "        d['B_ngidx'] = B_ngidx\n",
    "        \n",
    "        np.save(save_folder + A_ngidx_file, A_ngidx)\n",
    "        np.save(save_folder + B_ngidx_file, B_ngidx)\n",
    "        #print('saved gain adjusted alternation idx')"
   ]
  },
  {
   "cell_type": "markdown",
   "id": "a5f6e2d6",
   "metadata": {},
   "source": [
    "# Classify spatial cells using shuffle results OR skip to next section."
   ]
  },
  {
   "cell_type": "markdown",
   "id": "acd53583",
   "metadata": {},
   "source": [
    "You'll only need to run this section only once in order to generate spatial cell booleans for these sessions."
   ]
  },
  {
   "cell_type": "code",
   "execution_count": 14,
   "id": "2d0b3d74",
   "metadata": {
    "scrolled": true
   },
   "outputs": [
    {
     "data": {
      "application/vnd.jupyter.widget-view+json": {
       "model_id": "87413e361ed645e2891d89bf406fffe1",
       "version_major": 2,
       "version_minor": 0
      },
      "text/plain": [
       "  0%|          | 0/3 [00:00<?, ?it/s]"
      ]
     },
     "metadata": {},
     "output_type": "display_data"
    },
    {
     "data": {
      "application/vnd.jupyter.widget-view+json": {
       "model_id": "f4ea4ae1fcbc43039784ec8b4ea3c07a",
       "version_major": 2,
       "version_minor": 0
      },
      "text/plain": [
       "  0%|          | 0/6 [00:00<?, ?it/s]"
      ]
     },
     "metadata": {},
     "output_type": "display_data"
    },
    {
     "name": "stderr",
     "output_type": "stream",
     "text": [
      "C:\\Users\\Python\\AppData\\Local\\Temp\\ipykernel_8356\\1988913492.py:44: RuntimeWarning: invalid value encountered in scalar divide\n",
      "  asparsity = np.sum(products) / meanFRsqr\n"
     ]
    },
    {
     "data": {
      "application/vnd.jupyter.widget-view+json": {
       "model_id": "b2391ced0cc94e239c218c1e3d562956",
       "version_major": 2,
       "version_minor": 0
      },
      "text/plain": [
       "  0%|          | 0/4 [00:00<?, ?it/s]"
      ]
     },
     "metadata": {},
     "output_type": "display_data"
    },
    {
     "data": {
      "application/vnd.jupyter.widget-view+json": {
       "model_id": "8cf50aef041f47f9a105baa8a60c6701",
       "version_major": 2,
       "version_minor": 0
      },
      "text/plain": [
       "  0%|          | 0/6 [00:00<?, ?it/s]"
      ]
     },
     "metadata": {},
     "output_type": "display_data"
    },
    {
     "data": {
      "application/vnd.jupyter.widget-view+json": {
       "model_id": "f49cba2bb2f14c9189c02572877db3f3",
       "version_major": 2,
       "version_minor": 0
      },
      "text/plain": [
       "  0%|          | 0/6 [00:00<?, ?it/s]"
      ]
     },
     "metadata": {},
     "output_type": "display_data"
    },
    {
     "data": {
      "application/vnd.jupyter.widget-view+json": {
       "model_id": "79dade00de0544429612e6df1d231e70",
       "version_major": 2,
       "version_minor": 0
      },
      "text/plain": [
       "  0%|          | 0/6 [00:00<?, ?it/s]"
      ]
     },
     "metadata": {},
     "output_type": "display_data"
    },
    {
     "data": {
      "application/vnd.jupyter.widget-view+json": {
       "model_id": "6baf8eff3a664b91af7e9186819365ad",
       "version_major": 2,
       "version_minor": 0
      },
      "text/plain": [
       "  0%|          | 0/6 [00:00<?, ?it/s]"
      ]
     },
     "metadata": {},
     "output_type": "display_data"
    },
    {
     "data": {
      "application/vnd.jupyter.widget-view+json": {
       "model_id": "fafade01773b418a92830747c98b11d2",
       "version_major": 2,
       "version_minor": 0
      },
      "text/plain": [
       "  0%|          | 0/6 [00:00<?, ?it/s]"
      ]
     },
     "metadata": {},
     "output_type": "display_data"
    },
    {
     "data": {
      "application/vnd.jupyter.widget-view+json": {
       "model_id": "8d26e81cdc5a468b8e01f59db9ad20ba",
       "version_major": 2,
       "version_minor": 0
      },
      "text/plain": [
       "  0%|          | 0/6 [00:00<?, ?it/s]"
      ]
     },
     "metadata": {},
     "output_type": "display_data"
    },
    {
     "data": {
      "application/vnd.jupyter.widget-view+json": {
       "model_id": "ba94dca7591643a6b5326d4624327849",
       "version_major": 2,
       "version_minor": 0
      },
      "text/plain": [
       "  0%|          | 0/6 [00:00<?, ?it/s]"
      ]
     },
     "metadata": {},
     "output_type": "display_data"
    },
    {
     "data": {
      "application/vnd.jupyter.widget-view+json": {
       "model_id": "177961c4f06842cb9a1001cba36963d7",
       "version_major": 2,
       "version_minor": 0
      },
      "text/plain": [
       "  0%|          | 0/6 [00:00<?, ?it/s]"
      ]
     },
     "metadata": {},
     "output_type": "display_data"
    },
    {
     "data": {
      "application/vnd.jupyter.widget-view+json": {
       "model_id": "400d316a81f44b90a855464c1d9cfa3b",
       "version_major": 2,
       "version_minor": 0
      },
      "text/plain": [
       "  0%|          | 0/6 [00:00<?, ?it/s]"
      ]
     },
     "metadata": {},
     "output_type": "display_data"
    },
    {
     "data": {
      "application/vnd.jupyter.widget-view+json": {
       "model_id": "2f35a5c396af46de8120451a596a7ce0",
       "version_major": 2,
       "version_minor": 0
      },
      "text/plain": [
       "  0%|          | 0/6 [00:00<?, ?it/s]"
      ]
     },
     "metadata": {},
     "output_type": "display_data"
    },
    {
     "data": {
      "application/vnd.jupyter.widget-view+json": {
       "model_id": "453eb26c2ed04b05a09ab8d49eb90e1b",
       "version_major": 2,
       "version_minor": 0
      },
      "text/plain": [
       "  0%|          | 0/6 [00:00<?, ?it/s]"
      ]
     },
     "metadata": {},
     "output_type": "display_data"
    },
    {
     "data": {
      "application/vnd.jupyter.widget-view+json": {
       "model_id": "942f2f57260441618361dfb46fd5c96c",
       "version_major": 2,
       "version_minor": 0
      },
      "text/plain": [
       "  0%|          | 0/6 [00:00<?, ?it/s]"
      ]
     },
     "metadata": {},
     "output_type": "display_data"
    },
    {
     "data": {
      "application/vnd.jupyter.widget-view+json": {
       "model_id": "70e944bc72a8410aa66f0843603bf86d",
       "version_major": 2,
       "version_minor": 0
      },
      "text/plain": [
       "  0%|          | 0/6 [00:00<?, ?it/s]"
      ]
     },
     "metadata": {},
     "output_type": "display_data"
    },
    {
     "data": {
      "application/vnd.jupyter.widget-view+json": {
       "model_id": "caf4ae9f9e7a46699c213a8cb20f0e8c",
       "version_major": 2,
       "version_minor": 0
      },
      "text/plain": [
       "  0%|          | 0/6 [00:00<?, ?it/s]"
      ]
     },
     "metadata": {},
     "output_type": "display_data"
    },
    {
     "data": {
      "application/vnd.jupyter.widget-view+json": {
       "model_id": "2c78ca4574b544baa4a5a56e08ec3453",
       "version_major": 2,
       "version_minor": 0
      },
      "text/plain": [
       "  0%|          | 0/4 [00:00<?, ?it/s]"
      ]
     },
     "metadata": {},
     "output_type": "display_data"
    },
    {
     "data": {
      "application/vnd.jupyter.widget-view+json": {
       "model_id": "fed2a9d1a6d844f2ba055a9922174451",
       "version_major": 2,
       "version_minor": 0
      },
      "text/plain": [
       "  0%|          | 0/6 [00:00<?, ?it/s]"
      ]
     },
     "metadata": {},
     "output_type": "display_data"
    },
    {
     "data": {
      "application/vnd.jupyter.widget-view+json": {
       "model_id": "b03e38d756d740038672e224d87407ef",
       "version_major": 2,
       "version_minor": 0
      },
      "text/plain": [
       "  0%|          | 0/6 [00:00<?, ?it/s]"
      ]
     },
     "metadata": {},
     "output_type": "display_data"
    },
    {
     "data": {
      "application/vnd.jupyter.widget-view+json": {
       "model_id": "15b53aeae4ef4f3583cb068499bde453",
       "version_major": 2,
       "version_minor": 0
      },
      "text/plain": [
       "  0%|          | 0/6 [00:00<?, ?it/s]"
      ]
     },
     "metadata": {},
     "output_type": "display_data"
    },
    {
     "data": {
      "application/vnd.jupyter.widget-view+json": {
       "model_id": "7385b704337742aba303d9bdf155bcf9",
       "version_major": 2,
       "version_minor": 0
      },
      "text/plain": [
       "  0%|          | 0/6 [00:00<?, ?it/s]"
      ]
     },
     "metadata": {},
     "output_type": "display_data"
    },
    {
     "data": {
      "application/vnd.jupyter.widget-view+json": {
       "model_id": "58460a3193df4b5c99c55561ed48e301",
       "version_major": 2,
       "version_minor": 0
      },
      "text/plain": [
       "  0%|          | 0/6 [00:00<?, ?it/s]"
      ]
     },
     "metadata": {},
     "output_type": "display_data"
    },
    {
     "data": {
      "application/vnd.jupyter.widget-view+json": {
       "model_id": "c89742bdd19d4f578aebddb3be28d011",
       "version_major": 2,
       "version_minor": 0
      },
      "text/plain": [
       "  0%|          | 0/6 [00:00<?, ?it/s]"
      ]
     },
     "metadata": {},
     "output_type": "display_data"
    },
    {
     "data": {
      "application/vnd.jupyter.widget-view+json": {
       "model_id": "ef8d80b0082d4e13a5b7c2dcb7b0d7c3",
       "version_major": 2,
       "version_minor": 0
      },
      "text/plain": [
       "  0%|          | 0/6 [00:00<?, ?it/s]"
      ]
     },
     "metadata": {},
     "output_type": "display_data"
    },
    {
     "data": {
      "application/vnd.jupyter.widget-view+json": {
       "model_id": "af184aff57884de0a165c7cb1e87188f",
       "version_major": 2,
       "version_minor": 0
      },
      "text/plain": [
       "  0%|          | 0/6 [00:00<?, ?it/s]"
      ]
     },
     "metadata": {},
     "output_type": "display_data"
    },
    {
     "data": {
      "application/vnd.jupyter.widget-view+json": {
       "model_id": "922186957d5949128bbf8c95281d6c45",
       "version_major": 2,
       "version_minor": 0
      },
      "text/plain": [
       "  0%|          | 0/6 [00:00<?, ?it/s]"
      ]
     },
     "metadata": {},
     "output_type": "display_data"
    },
    {
     "data": {
      "application/vnd.jupyter.widget-view+json": {
       "model_id": "78e8935637bd440cbbd603f133894a9a",
       "version_major": 2,
       "version_minor": 0
      },
      "text/plain": [
       "  0%|          | 0/6 [00:00<?, ?it/s]"
      ]
     },
     "metadata": {},
     "output_type": "display_data"
    },
    {
     "data": {
      "application/vnd.jupyter.widget-view+json": {
       "model_id": "f65d575592f1482796c74b1c9956de18",
       "version_major": 2,
       "version_minor": 0
      },
      "text/plain": [
       "  0%|          | 0/6 [00:00<?, ?it/s]"
      ]
     },
     "metadata": {},
     "output_type": "display_data"
    }
   ],
   "source": [
    "''' Calculate & Save Spatial Coherence & Sparsity Scores for all Sessions '''\n",
    "\n",
    "dt = 0.02\n",
    "\n",
    "for m, session in zip(mice, sessions):\n",
    "    for s in tdqm(session):\n",
    "        d = data[m][s]\n",
    "        \n",
    "        #get data\n",
    "        rawdata_file = 'RAW_' + m + '_' + s + '.npy'\n",
    "        spikes_file = 'SPIKES_' + m + '_' + s +'.npy'\n",
    "        behavior_file = 'BEHAVIOR_' + m + '_' + s + '.npy'\n",
    "        \n",
    "        raw = np.load(load_folder + rawdata_file, allow_pickle=True)\n",
    "        Y = np.load(load_folder + spikes_file, allow_pickle=False) #pre-filtered for speeds >2cm/s, position-corrected spikes, 20 ms timebins\n",
    "        behaviorfil = np.load(load_folder + behavior_file, allow_pickle=False)\n",
    "        cell_IDs = raw.item().get('cellsfil')\n",
    "        posx = behaviorfil[:,0]\n",
    "        trial = behaviorfil[:,2]\n",
    "        post = behaviorfil[:,3]\n",
    "        total_time = max(post) - min(post)\n",
    "        \n",
    "        #delineate contexta \n",
    "        start_idx = (np.where(trial == 20)[0][0]).astype(int) # trial is zero-indexed, 20 full dark trials\n",
    "        end_idx = (np.where(trial == 79)[0][-1]).astype(int) # get indices of all 60 context_a trials that follow dark\n",
    "        A = Y[start_idx:end_idx, :]\n",
    "        aposxfil = posx[start_idx:end_idx]\n",
    "        \n",
    "        #get smoothed FR & sparsity scores \n",
    "        asmoothFR, _, asmoothocc = ps.tuning_curve(aposxfil, A, dt, b = 2, l=2, smooth=True, SEM=False, occupancy=True)\n",
    "        aFR, _ , _ = ps.tuning_curve(aposxfil, A, dt, b = 2, l=2, smooth=False, SEM=False, occupancy=True)      \n",
    "        \n",
    "        #calculate sparsity with smoothed FR in Context A\n",
    "        sparsitya_scores = []\n",
    "        totala_time = max(post[start_idx:end_idx]) - min(post[start_idx:end_idx])\n",
    "        for i, c in enumerate(cell_IDs):\n",
    "            meanFRsqr = np.square(np.mean(asmoothFR[:,i]))\n",
    "            products = []\n",
    "            for b in range(asmoothFR.shape[0]):\n",
    "                binmeanFRsqr = np.square(asmoothFR[b,i])\n",
    "                prob = asmoothocc[b,i]/totala_time\n",
    "                prod = prob * binmeanFRsqr\n",
    "                products = np.append(products,prod)\n",
    "            asparsity = np.sum(products) / meanFRsqr\n",
    "            sparsitya_scores = np.append(sparsitya_scores,asparsity)\n",
    "        d['spatialasparsity'] = sparsitya_scores\n",
    "\n",
    "        # calculate spatial tuning coherence score with non-smoothed FR in Context A\n",
    "        spatialacoherence_scores = []\n",
    "        for i, c in enumerate(cell_IDs):\n",
    "            neighbors = get.find8adjacentElements(aFR[:,i])\n",
    "            meanFR_neighbors = []\n",
    "            for b in range(aFR.shape[0]):\n",
    "                meanFR_neigh = np.mean(neighbors[b])\n",
    "                meanFR_neighbors = np.append(meanFR_neighbors, meanFR_neigh)\n",
    "            acoherence, _ = stats.pearsonr(aFR[:,i],meanFR_neighbors)\n",
    "            if math.isnan(acoherence):\n",
    "                spatialacoherence_scores = np.append(spatialacoherence_scores,0)\n",
    "            else:\n",
    "                spatialacoherence_scores = np.append(spatialacoherence_scores,acoherence)\n",
    "        d['spatialacoherencescores'] = spatialacoherence_scores\n",
    "    \n",
    "        #Get file names & save scores as npy files\n",
    "        sparsityascore_file = 'sparsityascores_' + m + '_' + s + '.npy'\n",
    "        spatialacoherencescore_file = 'spatialacoherencescores_' + m + '_' + s + '.npy'    \n",
    "        \n",
    "        np.save(save_folder + sparsityascore_file, sparsitya_scores)\n",
    "        #print('saved sparsity A scores as npy file for mouse ' + m + ' session '+ s)\n",
    "\n",
    "        np.save(save_folder + spatialacoherencescore_file, spatialacoherence_scores)\n",
    "        #print('saved spatial coherence A scores as npy file for mouse ' + m + ' session '+ s)"
   ]
  },
  {
   "cell_type": "code",
   "execution_count": 15,
   "id": "c4b0baa6",
   "metadata": {
    "scrolled": true
   },
   "outputs": [
    {
     "data": {
      "application/vnd.jupyter.widget-view+json": {
       "model_id": "b7484a08601548b4bb16725ce715d3cb",
       "version_major": 2,
       "version_minor": 0
      },
      "text/plain": [
       "  0%|          | 0/3 [00:00<?, ?it/s]"
      ]
     },
     "metadata": {},
     "output_type": "display_data"
    },
    {
     "data": {
      "application/vnd.jupyter.widget-view+json": {
       "model_id": "9f548d273e0e4520835c7b8d44b10463",
       "version_major": 2,
       "version_minor": 0
      },
      "text/plain": [
       "  0%|          | 0/6 [00:00<?, ?it/s]"
      ]
     },
     "metadata": {},
     "output_type": "display_data"
    },
    {
     "data": {
      "application/vnd.jupyter.widget-view+json": {
       "model_id": "ab32391e55e74a3090124bca43e1cfc7",
       "version_major": 2,
       "version_minor": 0
      },
      "text/plain": [
       "  0%|          | 0/4 [00:00<?, ?it/s]"
      ]
     },
     "metadata": {},
     "output_type": "display_data"
    },
    {
     "data": {
      "application/vnd.jupyter.widget-view+json": {
       "model_id": "b73651de43504f3fa131950752d31d09",
       "version_major": 2,
       "version_minor": 0
      },
      "text/plain": [
       "  0%|          | 0/6 [00:00<?, ?it/s]"
      ]
     },
     "metadata": {},
     "output_type": "display_data"
    },
    {
     "data": {
      "application/vnd.jupyter.widget-view+json": {
       "model_id": "f5b307037ad843fc8ef52b1707b4aa96",
       "version_major": 2,
       "version_minor": 0
      },
      "text/plain": [
       "  0%|          | 0/6 [00:00<?, ?it/s]"
      ]
     },
     "metadata": {},
     "output_type": "display_data"
    },
    {
     "data": {
      "application/vnd.jupyter.widget-view+json": {
       "model_id": "d6d179d4bfd044159896d7554adfee2a",
       "version_major": 2,
       "version_minor": 0
      },
      "text/plain": [
       "  0%|          | 0/6 [00:00<?, ?it/s]"
      ]
     },
     "metadata": {},
     "output_type": "display_data"
    },
    {
     "data": {
      "application/vnd.jupyter.widget-view+json": {
       "model_id": "2ec319065b6642128bca1798becef916",
       "version_major": 2,
       "version_minor": 0
      },
      "text/plain": [
       "  0%|          | 0/6 [00:00<?, ?it/s]"
      ]
     },
     "metadata": {},
     "output_type": "display_data"
    },
    {
     "data": {
      "application/vnd.jupyter.widget-view+json": {
       "model_id": "d448efc9c5da4490bb0db56d9f985d8a",
       "version_major": 2,
       "version_minor": 0
      },
      "text/plain": [
       "  0%|          | 0/6 [00:00<?, ?it/s]"
      ]
     },
     "metadata": {},
     "output_type": "display_data"
    },
    {
     "data": {
      "application/vnd.jupyter.widget-view+json": {
       "model_id": "6b2a54346f7443c7acd2bf049aecd887",
       "version_major": 2,
       "version_minor": 0
      },
      "text/plain": [
       "  0%|          | 0/6 [00:00<?, ?it/s]"
      ]
     },
     "metadata": {},
     "output_type": "display_data"
    },
    {
     "data": {
      "application/vnd.jupyter.widget-view+json": {
       "model_id": "2482a7231f9849e0ac01397b97cf4ab6",
       "version_major": 2,
       "version_minor": 0
      },
      "text/plain": [
       "  0%|          | 0/6 [00:00<?, ?it/s]"
      ]
     },
     "metadata": {},
     "output_type": "display_data"
    },
    {
     "data": {
      "application/vnd.jupyter.widget-view+json": {
       "model_id": "284e27c36cd149f88313e03d4f53d6a0",
       "version_major": 2,
       "version_minor": 0
      },
      "text/plain": [
       "  0%|          | 0/6 [00:00<?, ?it/s]"
      ]
     },
     "metadata": {},
     "output_type": "display_data"
    },
    {
     "data": {
      "application/vnd.jupyter.widget-view+json": {
       "model_id": "844ac82276b94a10aae37a4dea80de55",
       "version_major": 2,
       "version_minor": 0
      },
      "text/plain": [
       "  0%|          | 0/6 [00:00<?, ?it/s]"
      ]
     },
     "metadata": {},
     "output_type": "display_data"
    },
    {
     "data": {
      "application/vnd.jupyter.widget-view+json": {
       "model_id": "44ec8b6790834609aa3eab2a21ed5034",
       "version_major": 2,
       "version_minor": 0
      },
      "text/plain": [
       "  0%|          | 0/6 [00:00<?, ?it/s]"
      ]
     },
     "metadata": {},
     "output_type": "display_data"
    },
    {
     "data": {
      "application/vnd.jupyter.widget-view+json": {
       "model_id": "042e57ebc59b4ae78fe6d746a620068f",
       "version_major": 2,
       "version_minor": 0
      },
      "text/plain": [
       "  0%|          | 0/6 [00:00<?, ?it/s]"
      ]
     },
     "metadata": {},
     "output_type": "display_data"
    },
    {
     "data": {
      "application/vnd.jupyter.widget-view+json": {
       "model_id": "8481ad0b88b7490086068e52259da664",
       "version_major": 2,
       "version_minor": 0
      },
      "text/plain": [
       "  0%|          | 0/6 [00:00<?, ?it/s]"
      ]
     },
     "metadata": {},
     "output_type": "display_data"
    },
    {
     "data": {
      "application/vnd.jupyter.widget-view+json": {
       "model_id": "04a437bb0c1c4b6ba4f497380b0c6bf8",
       "version_major": 2,
       "version_minor": 0
      },
      "text/plain": [
       "  0%|          | 0/6 [00:00<?, ?it/s]"
      ]
     },
     "metadata": {},
     "output_type": "display_data"
    },
    {
     "data": {
      "application/vnd.jupyter.widget-view+json": {
       "model_id": "6a89e265d5714cc182dfe81e999670e6",
       "version_major": 2,
       "version_minor": 0
      },
      "text/plain": [
       "  0%|          | 0/6 [00:00<?, ?it/s]"
      ]
     },
     "metadata": {},
     "output_type": "display_data"
    },
    {
     "data": {
      "application/vnd.jupyter.widget-view+json": {
       "model_id": "eeea24c26a4b4de0a09ad5ac93ac7c96",
       "version_major": 2,
       "version_minor": 0
      },
      "text/plain": [
       "  0%|          | 0/4 [00:00<?, ?it/s]"
      ]
     },
     "metadata": {},
     "output_type": "display_data"
    },
    {
     "data": {
      "application/vnd.jupyter.widget-view+json": {
       "model_id": "9b56bfdbbc4e46a98b9bd2c4b5562f43",
       "version_major": 2,
       "version_minor": 0
      },
      "text/plain": [
       "  0%|          | 0/6 [00:00<?, ?it/s]"
      ]
     },
     "metadata": {},
     "output_type": "display_data"
    },
    {
     "data": {
      "application/vnd.jupyter.widget-view+json": {
       "model_id": "ecd1598624e74a8bab391ace49e3071e",
       "version_major": 2,
       "version_minor": 0
      },
      "text/plain": [
       "  0%|          | 0/6 [00:00<?, ?it/s]"
      ]
     },
     "metadata": {},
     "output_type": "display_data"
    },
    {
     "data": {
      "application/vnd.jupyter.widget-view+json": {
       "model_id": "92b02ab0934e4c34b74ecfe980ddb613",
       "version_major": 2,
       "version_minor": 0
      },
      "text/plain": [
       "  0%|          | 0/6 [00:00<?, ?it/s]"
      ]
     },
     "metadata": {},
     "output_type": "display_data"
    },
    {
     "data": {
      "application/vnd.jupyter.widget-view+json": {
       "model_id": "c20c349be6314a40b3a8f32b95f9b615",
       "version_major": 2,
       "version_minor": 0
      },
      "text/plain": [
       "  0%|          | 0/6 [00:00<?, ?it/s]"
      ]
     },
     "metadata": {},
     "output_type": "display_data"
    },
    {
     "data": {
      "application/vnd.jupyter.widget-view+json": {
       "model_id": "5d9069ae18c44c14985d7b9afc16e80d",
       "version_major": 2,
       "version_minor": 0
      },
      "text/plain": [
       "  0%|          | 0/6 [00:00<?, ?it/s]"
      ]
     },
     "metadata": {},
     "output_type": "display_data"
    },
    {
     "data": {
      "application/vnd.jupyter.widget-view+json": {
       "model_id": "a0c2b3bcc6ac4d958ddb9f68a1688750",
       "version_major": 2,
       "version_minor": 0
      },
      "text/plain": [
       "  0%|          | 0/6 [00:00<?, ?it/s]"
      ]
     },
     "metadata": {},
     "output_type": "display_data"
    },
    {
     "data": {
      "application/vnd.jupyter.widget-view+json": {
       "model_id": "e70b40ae80954b249484d565bc618a98",
       "version_major": 2,
       "version_minor": 0
      },
      "text/plain": [
       "  0%|          | 0/6 [00:00<?, ?it/s]"
      ]
     },
     "metadata": {},
     "output_type": "display_data"
    },
    {
     "data": {
      "application/vnd.jupyter.widget-view+json": {
       "model_id": "4f074b5b4144478985fb41b49c5608e1",
       "version_major": 2,
       "version_minor": 0
      },
      "text/plain": [
       "  0%|          | 0/6 [00:00<?, ?it/s]"
      ]
     },
     "metadata": {},
     "output_type": "display_data"
    },
    {
     "data": {
      "application/vnd.jupyter.widget-view+json": {
       "model_id": "2800b506d1e24457a0bfb5ec2cf16da8",
       "version_major": 2,
       "version_minor": 0
      },
      "text/plain": [
       "  0%|          | 0/6 [00:00<?, ?it/s]"
      ]
     },
     "metadata": {},
     "output_type": "display_data"
    },
    {
     "data": {
      "application/vnd.jupyter.widget-view+json": {
       "model_id": "28848b5734d24e14b3303059efc6df20",
       "version_major": 2,
       "version_minor": 0
      },
      "text/plain": [
       "  0%|          | 0/6 [00:00<?, ?it/s]"
      ]
     },
     "metadata": {},
     "output_type": "display_data"
    },
    {
     "data": {
      "application/vnd.jupyter.widget-view+json": {
       "model_id": "4b9063a2bae34f79860bf72cdee980c8",
       "version_major": 2,
       "version_minor": 0
      },
      "text/plain": [
       "  0%|          | 0/6 [00:00<?, ?it/s]"
      ]
     },
     "metadata": {},
     "output_type": "display_data"
    }
   ],
   "source": [
    "''' Load saved scores to classify spatial cells\n",
    "\n",
    "Note : intn booleans are produced by the notebook \"Shuffle Procedure...\" Run the first part of that for all sessions before \n",
    "proceeding here.\n",
    "\n",
    "'''\n",
    "\n",
    "for m, session in zip(mice, sessions):\n",
    "    for s in tdqm(session):\n",
    "        d = data[m][s]\n",
    "        \n",
    "        #get file names\n",
    "        shufsparsityascore_file = 'shufsparsityascores_' + m + '_' + s + '.npy'\n",
    "        shufspatialacoherencescore_file = 'shufspatialacoherencescores_' + m + '_' + s + '.npy'\n",
    "        intn_file = 'intn_' + m + '_' + s + '.npy'\n",
    "\n",
    "        #load npy files       \n",
    "\n",
    "        d['shuffsparsityascores'] = np.load(shuffload_folder1 + shufsparsityascore_file, allow_pickle=False)\n",
    "        d['shuffspatialacoherencescores'] = np.load(shuffload_folder2 + shufspatialacoherencescore_file, allow_pickle=False)\n",
    "        d['intn'] = np.load(int_save_folder + intn_file, allow_pickle = True)\n",
    "        d['intn'] = d['intn'].astype(bool)\n",
    "\n",
    "        try:\n",
    "            _ = d['spatialasparsity'].shape\n",
    "        except:\n",
    "            print('loading previously generated sparsity & coherence scores...')\n",
    "            sparsityascore_file = 'sparsityascores_' + m + '_' + s + '.npy'\n",
    "            spatialacoherencescore_file = 'spatialacoherencescores_' + m + '_' + s + '.npy' \n",
    "            \n",
    "            d['spatialasparsity'] = np.load(save_folder + sparsityascore_file, allow_pickle=True)\n",
    "            d['spatialacoherencescores'] = np.load(save_folder + spatialacoherencescore_file, allow_pickle=True)"
   ]
  },
  {
   "cell_type": "code",
   "execution_count": 18,
   "id": "fa20af6d",
   "metadata": {},
   "outputs": [
    {
     "name": "stdout",
     "output_type": "stream",
     "text": [
      "15152 15011 13225\n"
     ]
    }
   ],
   "source": [
    "''' Gather total number of SM cells'''\n",
    "\n",
    "young_count = 0\n",
    "MA_count = 0\n",
    "age_count = 0\n",
    "\n",
    "for m, session in zip(mice, sessions):\n",
    "    for s in session:\n",
    "        d = data[m][s]\n",
    "        \n",
    "        #Load scores, intn boolean to filter out interneurons\n",
    "        rawdata_file = 'RAW_' + m + '_' + s + '.npy'\n",
    "        raw = np.load(load_folder + rawdata_file, allow_pickle=True)\n",
    "        cell_IDs = raw.item().get('cellsfil')\n",
    "        \n",
    "        if m in SM_aged_mice:\n",
    "            age_count += len(cell_IDs)\n",
    "        elif m in SM_MA_mice:\n",
    "            MA_count += len(cell_IDs)\n",
    "        else:\n",
    "            young_count += len(cell_IDs)\n",
    "            \n",
    "print(young_count, MA_count, age_count)"
   ]
  },
  {
   "cell_type": "code",
   "execution_count": 19,
   "id": "280d2b7d",
   "metadata": {
    "scrolled": true
   },
   "outputs": [
    {
     "data": {
      "application/vnd.jupyter.widget-view+json": {
       "model_id": "3f2291a491f14eee98c076e75413d65e",
       "version_major": 2,
       "version_minor": 0
      },
      "text/plain": [
       "  0%|          | 0/3 [00:00<?, ?it/s]"
      ]
     },
     "metadata": {},
     "output_type": "display_data"
    },
    {
     "data": {
      "application/vnd.jupyter.widget-view+json": {
       "model_id": "fca8ca67e0a24e4aadb4576e9603ed0b",
       "version_major": 2,
       "version_minor": 0
      },
      "text/plain": [
       "  0%|          | 0/6 [00:00<?, ?it/s]"
      ]
     },
     "metadata": {},
     "output_type": "display_data"
    },
    {
     "data": {
      "application/vnd.jupyter.widget-view+json": {
       "model_id": "3ffde9f1f0ed4301ae473cced288667e",
       "version_major": 2,
       "version_minor": 0
      },
      "text/plain": [
       "  0%|          | 0/4 [00:00<?, ?it/s]"
      ]
     },
     "metadata": {},
     "output_type": "display_data"
    },
    {
     "data": {
      "application/vnd.jupyter.widget-view+json": {
       "model_id": "28dce493c3134c6aa1146bc59dbe828c",
       "version_major": 2,
       "version_minor": 0
      },
      "text/plain": [
       "  0%|          | 0/6 [00:00<?, ?it/s]"
      ]
     },
     "metadata": {},
     "output_type": "display_data"
    },
    {
     "data": {
      "application/vnd.jupyter.widget-view+json": {
       "model_id": "2eeda43b553340c68d89741ae6cffe0d",
       "version_major": 2,
       "version_minor": 0
      },
      "text/plain": [
       "  0%|          | 0/6 [00:00<?, ?it/s]"
      ]
     },
     "metadata": {},
     "output_type": "display_data"
    },
    {
     "data": {
      "application/vnd.jupyter.widget-view+json": {
       "model_id": "053274d3e1ff4988957423ebf3f4b846",
       "version_major": 2,
       "version_minor": 0
      },
      "text/plain": [
       "  0%|          | 0/6 [00:00<?, ?it/s]"
      ]
     },
     "metadata": {},
     "output_type": "display_data"
    },
    {
     "data": {
      "application/vnd.jupyter.widget-view+json": {
       "model_id": "c7c8b9874bf94ed7b839616c5b3b1513",
       "version_major": 2,
       "version_minor": 0
      },
      "text/plain": [
       "  0%|          | 0/6 [00:00<?, ?it/s]"
      ]
     },
     "metadata": {},
     "output_type": "display_data"
    },
    {
     "data": {
      "application/vnd.jupyter.widget-view+json": {
       "model_id": "52477f00040848309d050ac288024fb4",
       "version_major": 2,
       "version_minor": 0
      },
      "text/plain": [
       "  0%|          | 0/6 [00:00<?, ?it/s]"
      ]
     },
     "metadata": {},
     "output_type": "display_data"
    },
    {
     "data": {
      "application/vnd.jupyter.widget-view+json": {
       "model_id": "7bd07524e0be44dabc4f6411d82aac5f",
       "version_major": 2,
       "version_minor": 0
      },
      "text/plain": [
       "  0%|          | 0/6 [00:00<?, ?it/s]"
      ]
     },
     "metadata": {},
     "output_type": "display_data"
    },
    {
     "data": {
      "application/vnd.jupyter.widget-view+json": {
       "model_id": "0e067879c55c45ab99a33d2a3ff0e901",
       "version_major": 2,
       "version_minor": 0
      },
      "text/plain": [
       "  0%|          | 0/6 [00:00<?, ?it/s]"
      ]
     },
     "metadata": {},
     "output_type": "display_data"
    },
    {
     "data": {
      "application/vnd.jupyter.widget-view+json": {
       "model_id": "8f3bc6a527fa4c36ba041c4178e0c8e5",
       "version_major": 2,
       "version_minor": 0
      },
      "text/plain": [
       "  0%|          | 0/6 [00:00<?, ?it/s]"
      ]
     },
     "metadata": {},
     "output_type": "display_data"
    },
    {
     "data": {
      "application/vnd.jupyter.widget-view+json": {
       "model_id": "7eabc3613f354ba7bbb0eddbc5752d79",
       "version_major": 2,
       "version_minor": 0
      },
      "text/plain": [
       "  0%|          | 0/6 [00:00<?, ?it/s]"
      ]
     },
     "metadata": {},
     "output_type": "display_data"
    },
    {
     "data": {
      "application/vnd.jupyter.widget-view+json": {
       "model_id": "58de396d10bf4de59df2dc49823bb9ee",
       "version_major": 2,
       "version_minor": 0
      },
      "text/plain": [
       "  0%|          | 0/6 [00:00<?, ?it/s]"
      ]
     },
     "metadata": {},
     "output_type": "display_data"
    },
    {
     "data": {
      "application/vnd.jupyter.widget-view+json": {
       "model_id": "5d4912a30c2842518468798dbe3c860c",
       "version_major": 2,
       "version_minor": 0
      },
      "text/plain": [
       "  0%|          | 0/6 [00:00<?, ?it/s]"
      ]
     },
     "metadata": {},
     "output_type": "display_data"
    },
    {
     "data": {
      "application/vnd.jupyter.widget-view+json": {
       "model_id": "8eefbc5b2efc449fbb689a352f6c9423",
       "version_major": 2,
       "version_minor": 0
      },
      "text/plain": [
       "  0%|          | 0/6 [00:00<?, ?it/s]"
      ]
     },
     "metadata": {},
     "output_type": "display_data"
    },
    {
     "data": {
      "application/vnd.jupyter.widget-view+json": {
       "model_id": "53649a95075d47dea95002235bc7685c",
       "version_major": 2,
       "version_minor": 0
      },
      "text/plain": [
       "  0%|          | 0/6 [00:00<?, ?it/s]"
      ]
     },
     "metadata": {},
     "output_type": "display_data"
    },
    {
     "data": {
      "application/vnd.jupyter.widget-view+json": {
       "model_id": "ceea9ae695ea4460aa3edc6cf469246e",
       "version_major": 2,
       "version_minor": 0
      },
      "text/plain": [
       "  0%|          | 0/6 [00:00<?, ?it/s]"
      ]
     },
     "metadata": {},
     "output_type": "display_data"
    },
    {
     "data": {
      "application/vnd.jupyter.widget-view+json": {
       "model_id": "43e09da92b4e47448d751fc8e7f14c51",
       "version_major": 2,
       "version_minor": 0
      },
      "text/plain": [
       "  0%|          | 0/4 [00:00<?, ?it/s]"
      ]
     },
     "metadata": {},
     "output_type": "display_data"
    },
    {
     "data": {
      "application/vnd.jupyter.widget-view+json": {
       "model_id": "76b238036c2c493eaf05cf679b0bac77",
       "version_major": 2,
       "version_minor": 0
      },
      "text/plain": [
       "  0%|          | 0/6 [00:00<?, ?it/s]"
      ]
     },
     "metadata": {},
     "output_type": "display_data"
    },
    {
     "data": {
      "application/vnd.jupyter.widget-view+json": {
       "model_id": "f78c97068db646de9ec58665f3ce7fbe",
       "version_major": 2,
       "version_minor": 0
      },
      "text/plain": [
       "  0%|          | 0/6 [00:00<?, ?it/s]"
      ]
     },
     "metadata": {},
     "output_type": "display_data"
    },
    {
     "data": {
      "application/vnd.jupyter.widget-view+json": {
       "model_id": "305853fefd4d4521835210166ec3fe69",
       "version_major": 2,
       "version_minor": 0
      },
      "text/plain": [
       "  0%|          | 0/6 [00:00<?, ?it/s]"
      ]
     },
     "metadata": {},
     "output_type": "display_data"
    },
    {
     "data": {
      "application/vnd.jupyter.widget-view+json": {
       "model_id": "f428cb2c74524cbe97003436b045e5c2",
       "version_major": 2,
       "version_minor": 0
      },
      "text/plain": [
       "  0%|          | 0/6 [00:00<?, ?it/s]"
      ]
     },
     "metadata": {},
     "output_type": "display_data"
    },
    {
     "data": {
      "application/vnd.jupyter.widget-view+json": {
       "model_id": "d5e80c1c78174001bf8265bb429e0843",
       "version_major": 2,
       "version_minor": 0
      },
      "text/plain": [
       "  0%|          | 0/6 [00:00<?, ?it/s]"
      ]
     },
     "metadata": {},
     "output_type": "display_data"
    },
    {
     "data": {
      "application/vnd.jupyter.widget-view+json": {
       "model_id": "23a5e76955824c738e5acaf1266ac0d2",
       "version_major": 2,
       "version_minor": 0
      },
      "text/plain": [
       "  0%|          | 0/6 [00:00<?, ?it/s]"
      ]
     },
     "metadata": {},
     "output_type": "display_data"
    },
    {
     "data": {
      "application/vnd.jupyter.widget-view+json": {
       "model_id": "ff0b1bfaa8634d1184bc65ded82ea904",
       "version_major": 2,
       "version_minor": 0
      },
      "text/plain": [
       "  0%|          | 0/6 [00:00<?, ?it/s]"
      ]
     },
     "metadata": {},
     "output_type": "display_data"
    },
    {
     "data": {
      "application/vnd.jupyter.widget-view+json": {
       "model_id": "d69c537dd9684bdb953a157edfe28186",
       "version_major": 2,
       "version_minor": 0
      },
      "text/plain": [
       "  0%|          | 0/6 [00:00<?, ?it/s]"
      ]
     },
     "metadata": {},
     "output_type": "display_data"
    },
    {
     "data": {
      "application/vnd.jupyter.widget-view+json": {
       "model_id": "059ef9626b4044d6b921f85563a66732",
       "version_major": 2,
       "version_minor": 0
      },
      "text/plain": [
       "  0%|          | 0/6 [00:00<?, ?it/s]"
      ]
     },
     "metadata": {},
     "output_type": "display_data"
    },
    {
     "data": {
      "application/vnd.jupyter.widget-view+json": {
       "model_id": "9186e0a44ad94f7597b85db9f7b8b6e0",
       "version_major": 2,
       "version_minor": 0
      },
      "text/plain": [
       "  0%|          | 0/6 [00:00<?, ?it/s]"
      ]
     },
     "metadata": {},
     "output_type": "display_data"
    },
    {
     "data": {
      "application/vnd.jupyter.widget-view+json": {
       "model_id": "40043c65e9964c42853aadbc972d72e5",
       "version_major": 2,
       "version_minor": 0
      },
      "text/plain": [
       "  0%|          | 0/6 [00:00<?, ?it/s]"
      ]
     },
     "metadata": {},
     "output_type": "display_data"
    },
    {
     "name": "stdout",
     "output_type": "stream",
     "text": [
      "\n",
      "Mean ± SEM Coherence P99: 0.4700406644214617 ± 0.0008567357640418019\n",
      "Mean ± SEM Sparsity P99: 1.9894113166497576 ± 0.02421749243843613\n"
     ]
    }
   ],
   "source": [
    "''' Classify Spatial Cells from Context A Sparsity & Coherence '''\n",
    "\n",
    "per99c = []\n",
    "per99s = []\n",
    "dt = 0.02\n",
    "\n",
    "for m, session in zip(mice, sessions):\n",
    "    for s in tdqm(session):\n",
    "        d = data[m][s]\n",
    "        \n",
    "        #Load scores, intn boolean to filter out interneurons\n",
    "        rawdata_file = 'RAW_' + m + '_' + s + '.npy'\n",
    "        spikes_file = 'SPIKES_' + m + '_' + s +'.npy'\n",
    "        behavior_file = 'BEHAVIOR_' + m + '_' + s + '.npy'\n",
    "        \n",
    "        raw = np.load(load_folder + rawdata_file, allow_pickle=True)\n",
    "        Y = np.load(load_folder + spikes_file, allow_pickle=False) #pre-filtered for speeds >2cm/s, position-corrected spikes, 20 ms timebins\n",
    "        behaviorfil = np.load(load_folder + behavior_file, allow_pickle=False)\n",
    "        cell_IDs = raw.item().get('cellsfil')\n",
    "        posx = behaviorfil[:,0]\n",
    "        trial = behaviorfil[:,2]\n",
    "        post = behaviorfil[:,3]\n",
    "        \n",
    "        cell_IDs = raw.item().get('cellsfil')\n",
    "        sparsitya_scores = d['spatialasparsity']\n",
    "        spatialacoherence_scores = d['spatialacoherencescores']\n",
    "        shuffsparsityascores = d['shuffsparsityascores'] \n",
    "        shuffspatialacoherencescores = d['shuffspatialacoherencescores'] \n",
    "        intn = d['intn']\n",
    "\n",
    "        #Classify spatial cells as those > P99 of both Contexte A shuffle sparsity & coherence score distributions\n",
    "        spatialcell99 = []\n",
    "        for i, c in enumerate(cell_IDs):\n",
    "\n",
    "            dist1 = shuffspatialacoherencescores[:,i]\n",
    "            P991 = np.nanpercentile(dist1,99)\n",
    "\n",
    "            dist2 = shuffsparsityascores[:,i]\n",
    "            P992 = np.nanpercentile(dist2,99)\n",
    "            \n",
    "            per99c.append(P991)\n",
    "            per99s.append(P992)\n",
    "\n",
    "            if intn[i] == True: #spatial cells must be excitatory\n",
    "                spatialcell99 = np.append(spatialcell99, False)\n",
    "            elif (spatialacoherence_scores[i] > P991) & (sparsitya_scores[i] > P992):\n",
    "                spatialcell99 = np.append(spatialcell99, True)\n",
    "            else:\n",
    "                spatialcell99 = np.append(spatialcell99, False)\n",
    "        spatialcell99 = np.asarray(spatialcell99).astype(bool)\n",
    "\n",
    "        #save speed cell IDs in nested list for all animals\n",
    "        d['spatialcell99'] = spatialcell99    \n",
    "        #print('% spatial cells = ' + str(100*len(cell_IDs[spatialcell99])/len(cell_IDs)))\n",
    "        \n",
    "        spatialcell99_file = 'spatialcell99_' + m + '_' + s + '.npy'\n",
    "        np.save(save_folder + spatialcell99_file, spatialcell99)\n",
    "        #print('saved spatial cell booleans as npy files for mouse ' + m + ' session '+ s)\n",
    "\n",
    "print('\\nMean ± SEM Coherence P99: ' + str(np.nanmean(per99c)) + ' ± ' + str(stats.sem(per99c, nan_policy = 'omit')))\n",
    "print('Mean ± SEM Sparsity P99: ' + str(np.nanmean(per99s)) + ' ± ' + str(stats.sem(per99s,  nan_policy = 'omit'))) "
   ]
  },
  {
   "cell_type": "markdown",
   "id": "8e6f9dea",
   "metadata": {},
   "source": [
    "# Classify non-grid vs. grid cells or skip to the next section."
   ]
  },
  {
   "cell_type": "code",
   "execution_count": 20,
   "id": "86f38c92",
   "metadata": {
    "scrolled": true
   },
   "outputs": [
    {
     "data": {
      "application/vnd.jupyter.widget-view+json": {
       "model_id": "13e30cff7601426c8dd96e684b154e70",
       "version_major": 2,
       "version_minor": 0
      },
      "text/plain": [
       "  0%|          | 0/3 [00:00<?, ?it/s]"
      ]
     },
     "metadata": {},
     "output_type": "display_data"
    },
    {
     "data": {
      "application/vnd.jupyter.widget-view+json": {
       "model_id": "bbd16222c4e548e0b1f9c1425870e4e2",
       "version_major": 2,
       "version_minor": 0
      },
      "text/plain": [
       "  0%|          | 0/6 [00:00<?, ?it/s]"
      ]
     },
     "metadata": {},
     "output_type": "display_data"
    },
    {
     "data": {
      "application/vnd.jupyter.widget-view+json": {
       "model_id": "c971f3662a1a40bda12ed76212d5d3f8",
       "version_major": 2,
       "version_minor": 0
      },
      "text/plain": [
       "  0%|          | 0/4 [00:00<?, ?it/s]"
      ]
     },
     "metadata": {},
     "output_type": "display_data"
    },
    {
     "data": {
      "application/vnd.jupyter.widget-view+json": {
       "model_id": "0438f5118c2b4d5195d2194696c64e71",
       "version_major": 2,
       "version_minor": 0
      },
      "text/plain": [
       "  0%|          | 0/6 [00:00<?, ?it/s]"
      ]
     },
     "metadata": {},
     "output_type": "display_data"
    },
    {
     "data": {
      "application/vnd.jupyter.widget-view+json": {
       "model_id": "3418c512fc8a46ed8bea0f71ece160cc",
       "version_major": 2,
       "version_minor": 0
      },
      "text/plain": [
       "  0%|          | 0/6 [00:00<?, ?it/s]"
      ]
     },
     "metadata": {},
     "output_type": "display_data"
    },
    {
     "data": {
      "application/vnd.jupyter.widget-view+json": {
       "model_id": "b10c119ea9fb45219ff27f50e87e992d",
       "version_major": 2,
       "version_minor": 0
      },
      "text/plain": [
       "  0%|          | 0/6 [00:00<?, ?it/s]"
      ]
     },
     "metadata": {},
     "output_type": "display_data"
    },
    {
     "data": {
      "application/vnd.jupyter.widget-view+json": {
       "model_id": "28e0c779f54e4d53aa4e5c0d5f455271",
       "version_major": 2,
       "version_minor": 0
      },
      "text/plain": [
       "  0%|          | 0/6 [00:00<?, ?it/s]"
      ]
     },
     "metadata": {},
     "output_type": "display_data"
    },
    {
     "data": {
      "application/vnd.jupyter.widget-view+json": {
       "model_id": "fe2fc50f99e44fa2848981e8fdff2082",
       "version_major": 2,
       "version_minor": 0
      },
      "text/plain": [
       "  0%|          | 0/6 [00:00<?, ?it/s]"
      ]
     },
     "metadata": {},
     "output_type": "display_data"
    },
    {
     "data": {
      "application/vnd.jupyter.widget-view+json": {
       "model_id": "eb6a3394b5b244ca83b8d55d05cc07a1",
       "version_major": 2,
       "version_minor": 0
      },
      "text/plain": [
       "  0%|          | 0/6 [00:00<?, ?it/s]"
      ]
     },
     "metadata": {},
     "output_type": "display_data"
    },
    {
     "data": {
      "application/vnd.jupyter.widget-view+json": {
       "model_id": "c2927ded03c94136988c0e281346ef9a",
       "version_major": 2,
       "version_minor": 0
      },
      "text/plain": [
       "  0%|          | 0/6 [00:00<?, ?it/s]"
      ]
     },
     "metadata": {},
     "output_type": "display_data"
    },
    {
     "data": {
      "application/vnd.jupyter.widget-view+json": {
       "model_id": "f7a88f2f283845b4813f84e2196c5e92",
       "version_major": 2,
       "version_minor": 0
      },
      "text/plain": [
       "  0%|          | 0/6 [00:00<?, ?it/s]"
      ]
     },
     "metadata": {},
     "output_type": "display_data"
    },
    {
     "data": {
      "application/vnd.jupyter.widget-view+json": {
       "model_id": "570dc122352142b891c97b1156146119",
       "version_major": 2,
       "version_minor": 0
      },
      "text/plain": [
       "  0%|          | 0/6 [00:00<?, ?it/s]"
      ]
     },
     "metadata": {},
     "output_type": "display_data"
    },
    {
     "data": {
      "application/vnd.jupyter.widget-view+json": {
       "model_id": "136b07513a38404cb567bef16905e8aa",
       "version_major": 2,
       "version_minor": 0
      },
      "text/plain": [
       "  0%|          | 0/6 [00:00<?, ?it/s]"
      ]
     },
     "metadata": {},
     "output_type": "display_data"
    },
    {
     "data": {
      "application/vnd.jupyter.widget-view+json": {
       "model_id": "60f6b6d6e7d248f8a7d2ee412c71b567",
       "version_major": 2,
       "version_minor": 0
      },
      "text/plain": [
       "  0%|          | 0/6 [00:00<?, ?it/s]"
      ]
     },
     "metadata": {},
     "output_type": "display_data"
    },
    {
     "data": {
      "application/vnd.jupyter.widget-view+json": {
       "model_id": "74b9ccba3b6a453e82ea1162f54e78d3",
       "version_major": 2,
       "version_minor": 0
      },
      "text/plain": [
       "  0%|          | 0/6 [00:00<?, ?it/s]"
      ]
     },
     "metadata": {},
     "output_type": "display_data"
    },
    {
     "data": {
      "application/vnd.jupyter.widget-view+json": {
       "model_id": "72f238ab7fa34a8bbbacd52f09b65229",
       "version_major": 2,
       "version_minor": 0
      },
      "text/plain": [
       "  0%|          | 0/6 [00:00<?, ?it/s]"
      ]
     },
     "metadata": {},
     "output_type": "display_data"
    },
    {
     "data": {
      "application/vnd.jupyter.widget-view+json": {
       "model_id": "ea8c66dc2b7b4474b574ea29c64d6301",
       "version_major": 2,
       "version_minor": 0
      },
      "text/plain": [
       "  0%|          | 0/6 [00:00<?, ?it/s]"
      ]
     },
     "metadata": {},
     "output_type": "display_data"
    },
    {
     "data": {
      "application/vnd.jupyter.widget-view+json": {
       "model_id": "c4d601b99b0344c5a9c5eddd94ad2225",
       "version_major": 2,
       "version_minor": 0
      },
      "text/plain": [
       "  0%|          | 0/4 [00:00<?, ?it/s]"
      ]
     },
     "metadata": {},
     "output_type": "display_data"
    },
    {
     "data": {
      "application/vnd.jupyter.widget-view+json": {
       "model_id": "7d00ede1eb03468c806afd1368f08dac",
       "version_major": 2,
       "version_minor": 0
      },
      "text/plain": [
       "  0%|          | 0/6 [00:00<?, ?it/s]"
      ]
     },
     "metadata": {},
     "output_type": "display_data"
    },
    {
     "data": {
      "application/vnd.jupyter.widget-view+json": {
       "model_id": "fc5987e6afa5420488c6baeb228388bf",
       "version_major": 2,
       "version_minor": 0
      },
      "text/plain": [
       "  0%|          | 0/6 [00:00<?, ?it/s]"
      ]
     },
     "metadata": {},
     "output_type": "display_data"
    },
    {
     "data": {
      "application/vnd.jupyter.widget-view+json": {
       "model_id": "cdd9e294260e426fa0de4391c0863bc3",
       "version_major": 2,
       "version_minor": 0
      },
      "text/plain": [
       "  0%|          | 0/6 [00:00<?, ?it/s]"
      ]
     },
     "metadata": {},
     "output_type": "display_data"
    },
    {
     "data": {
      "application/vnd.jupyter.widget-view+json": {
       "model_id": "0a0ffa356d204ff0bdecf086f719eeba",
       "version_major": 2,
       "version_minor": 0
      },
      "text/plain": [
       "  0%|          | 0/6 [00:00<?, ?it/s]"
      ]
     },
     "metadata": {},
     "output_type": "display_data"
    },
    {
     "data": {
      "application/vnd.jupyter.widget-view+json": {
       "model_id": "a53d41f6fd7e45a6885c845daebf5eb3",
       "version_major": 2,
       "version_minor": 0
      },
      "text/plain": [
       "  0%|          | 0/6 [00:00<?, ?it/s]"
      ]
     },
     "metadata": {},
     "output_type": "display_data"
    },
    {
     "data": {
      "application/vnd.jupyter.widget-view+json": {
       "model_id": "4ee863e7008f4277b0344ad3da45c497",
       "version_major": 2,
       "version_minor": 0
      },
      "text/plain": [
       "  0%|          | 0/6 [00:00<?, ?it/s]"
      ]
     },
     "metadata": {},
     "output_type": "display_data"
    },
    {
     "data": {
      "application/vnd.jupyter.widget-view+json": {
       "model_id": "172540ba3bc141ca80c8cb990bcce117",
       "version_major": 2,
       "version_minor": 0
      },
      "text/plain": [
       "  0%|          | 0/6 [00:00<?, ?it/s]"
      ]
     },
     "metadata": {},
     "output_type": "display_data"
    },
    {
     "data": {
      "application/vnd.jupyter.widget-view+json": {
       "model_id": "2f83a33054814949ba65a61ee7761cf7",
       "version_major": 2,
       "version_minor": 0
      },
      "text/plain": [
       "  0%|          | 0/6 [00:00<?, ?it/s]"
      ]
     },
     "metadata": {},
     "output_type": "display_data"
    },
    {
     "data": {
      "application/vnd.jupyter.widget-view+json": {
       "model_id": "d17ed64265f1401c8445e96b29a62fd1",
       "version_major": 2,
       "version_minor": 0
      },
      "text/plain": [
       "  0%|          | 0/6 [00:00<?, ?it/s]"
      ]
     },
     "metadata": {},
     "output_type": "display_data"
    },
    {
     "data": {
      "application/vnd.jupyter.widget-view+json": {
       "model_id": "0fcfb91bdb4f4d98b0aff2aca7ef560f",
       "version_major": 2,
       "version_minor": 0
      },
      "text/plain": [
       "  0%|          | 0/6 [00:00<?, ?it/s]"
      ]
     },
     "metadata": {},
     "output_type": "display_data"
    },
    {
     "data": {
      "application/vnd.jupyter.widget-view+json": {
       "model_id": "543d4bbf80ae4f2aa5aaa718171997af",
       "version_major": 2,
       "version_minor": 0
      },
      "text/plain": [
       "  0%|          | 0/6 [00:00<?, ?it/s]"
      ]
     },
     "metadata": {},
     "output_type": "display_data"
    }
   ],
   "source": [
    "''' If you skipped the section above, load spatial cell and intn booleans. '''\n",
    "\n",
    "for m, session in zip(mice, sessions):\n",
    "    for s in tdqm(session):\n",
    "        d = data[m][s]\n",
    "        \n",
    "        #get file names\n",
    "        spatialcell99_file = 'spatialcell99_' + m + '_' + s + '.npy'\n",
    "        intn_file = 'intn_' + m + '_' + s + '.npy'\n",
    "\n",
    "        #load stuff\n",
    "        d['spatialcell99'] = np.load(save_folder + spatialcell99_file, allow_pickle = True)\n",
    "        d['intn'] = np.load(int_save_folder + intn_file, allow_pickle = True)"
   ]
  },
  {
   "cell_type": "code",
   "execution_count": 21,
   "id": "9a8982bc",
   "metadata": {
    "scrolled": true
   },
   "outputs": [
    {
     "data": {
      "application/vnd.jupyter.widget-view+json": {
       "model_id": "2fc4e2c4f7a4474b9fb139e5c274a680",
       "version_major": 2,
       "version_minor": 0
      },
      "text/plain": [
       "  0%|          | 0/3 [00:00<?, ?it/s]"
      ]
     },
     "metadata": {},
     "output_type": "display_data"
    },
    {
     "name": "stderr",
     "output_type": "stream",
     "text": [
      "C:\\Users\\Python\\Desktop\\GitHub\\Herber2024\\pipeline\\get_data.py:380: RuntimeWarning: invalid value encountered in divide\n",
      "  corr=np.correlate(xp,xp,'full')[len(x)-1:]/var/len(x)\n"
     ]
    },
    {
     "name": "stdout",
     "output_type": "stream",
     "text": [
      "A14, 083022_record1 n grid, ngs cells: 8 , 50\n",
      "A14, 083122_record2 n grid, ngs cells: 35 , 2\n",
      "A14, 090122_record3 n grid, ngs cells: 17 , 13\n"
     ]
    },
    {
     "data": {
      "application/vnd.jupyter.widget-view+json": {
       "model_id": "5f3084b2d3f64379ba1bb8e335c14ef4",
       "version_major": 2,
       "version_minor": 0
      },
      "text/plain": [
       "  0%|          | 0/6 [00:00<?, ?it/s]"
      ]
     },
     "metadata": {},
     "output_type": "display_data"
    },
    {
     "name": "stdout",
     "output_type": "stream",
     "text": [
      "A15, 083022_record1 n grid, ngs cells: 4 , 6\n",
      "A15, 083122_record2 n grid, ngs cells: 86 , 33\n",
      "A15, 090122_record3 n grid, ngs cells: 89 , 37\n",
      "A15, 090222_record4 n grid, ngs cells: 128 , 65\n",
      "A15, 090322_record5 n grid, ngs cells: 37 , 30\n",
      "A15, 090422_record6 n grid, ngs cells: 24 , 19\n"
     ]
    },
    {
     "data": {
      "application/vnd.jupyter.widget-view+json": {
       "model_id": "f53ee21b292841de91d0f64b3b6fd232",
       "version_major": 2,
       "version_minor": 0
      },
      "text/plain": [
       "  0%|          | 0/4 [00:00<?, ?it/s]"
      ]
     },
     "metadata": {},
     "output_type": "display_data"
    },
    {
     "name": "stdout",
     "output_type": "stream",
     "text": [
      "A16, 083022_record1 n grid, ngs cells: 19 , 23\n",
      "A16, 083122_record2 n grid, ngs cells: 60 , 36\n",
      "A16, 090122_record3 n grid, ngs cells: 0 , 1\n",
      "A16, 090222_record4 n grid, ngs cells: 12 , 42\n"
     ]
    },
    {
     "data": {
      "application/vnd.jupyter.widget-view+json": {
       "model_id": "a033567c856f44bca7f29a3fac97ab2b",
       "version_major": 2,
       "version_minor": 0
      },
      "text/plain": [
       "  0%|          | 0/6 [00:00<?, ?it/s]"
      ]
     },
     "metadata": {},
     "output_type": "display_data"
    },
    {
     "name": "stdout",
     "output_type": "stream",
     "text": [
      "A17, 082322_record1 n grid, ngs cells: 1 , 2\n",
      "A17, 082422_record2 n grid, ngs cells: 2 , 6\n",
      "A17, 082522_record3 n grid, ngs cells: 40 , 35\n",
      "A17, 082622_record4 n grid, ngs cells: 42 , 17\n",
      "A17, 082722_record5 n grid, ngs cells: 32 , 21\n",
      "A17, 082822_record6 n grid, ngs cells: 54 , 25\n"
     ]
    },
    {
     "data": {
      "application/vnd.jupyter.widget-view+json": {
       "model_id": "31d0ca957f164bbab2e8fd24c8c95df0",
       "version_major": 2,
       "version_minor": 0
      },
      "text/plain": [
       "  0%|          | 0/6 [00:00<?, ?it/s]"
      ]
     },
     "metadata": {},
     "output_type": "display_data"
    },
    {
     "name": "stdout",
     "output_type": "stream",
     "text": [
      "A18, 082322_record1real n grid, ngs cells: 13 , 10\n",
      "A18, 082422_record2 n grid, ngs cells: 66 , 169\n",
      "A18, 082522_record3 n grid, ngs cells: 68 , 117\n",
      "A18, 082622_record4 n grid, ngs cells: 44 , 64\n",
      "A18, 082722_record5 n grid, ngs cells: 47 , 10\n",
      "A18, 082822_record6 n grid, ngs cells: 0 , 5\n"
     ]
    },
    {
     "data": {
      "application/vnd.jupyter.widget-view+json": {
       "model_id": "84add56bdf614f259a2b02dddb78d2f0",
       "version_major": 2,
       "version_minor": 0
      },
      "text/plain": [
       "  0%|          | 0/6 [00:00<?, ?it/s]"
      ]
     },
     "metadata": {},
     "output_type": "display_data"
    },
    {
     "name": "stdout",
     "output_type": "stream",
     "text": [
      "A19, 012723_record2 n grid, ngs cells: 17 , 1\n",
      "A19, 012823_record3 n grid, ngs cells: 22 , 75\n",
      "A19, 012923_record4 n grid, ngs cells: 34 , 64\n",
      "A19, 013023_record5 n grid, ngs cells: 54 , 38\n",
      "A19, 013123_record6 n grid, ngs cells: 35 , 18\n",
      "A19, 020123_record7 n grid, ngs cells: 54 , 31\n"
     ]
    },
    {
     "data": {
      "application/vnd.jupyter.widget-view+json": {
       "model_id": "b960ed4159ec4bf383acdffe2cf04ed3",
       "version_major": 2,
       "version_minor": 0
      },
      "text/plain": [
       "  0%|          | 0/6 [00:00<?, ?it/s]"
      ]
     },
     "metadata": {},
     "output_type": "display_data"
    },
    {
     "name": "stdout",
     "output_type": "stream",
     "text": [
      "A20, 012623_record1 n grid, ngs cells: 3 , 18\n",
      "A20, 012723_record2 n grid, ngs cells: 24 , 50\n",
      "A20, 012823_record3 n grid, ngs cells: 69 , 56\n",
      "A20, 012923_record4 n grid, ngs cells: 21 , 42\n",
      "A20, 013023_record5 n grid, ngs cells: 22 , 55\n",
      "A20, 013123_record6 n grid, ngs cells: 9 , 32\n"
     ]
    },
    {
     "data": {
      "application/vnd.jupyter.widget-view+json": {
       "model_id": "3124ab819ecb42848423aac1ede973d5",
       "version_major": 2,
       "version_minor": 0
      },
      "text/plain": [
       "  0%|          | 0/6 [00:00<?, ?it/s]"
      ]
     },
     "metadata": {},
     "output_type": "display_data"
    },
    {
     "name": "stdout",
     "output_type": "stream",
     "text": [
      "A22, 012923_record2 n grid, ngs cells: 58 , 39\n",
      "A22, 013023_record3 n grid, ngs cells: 79 , 122\n",
      "A22, 013123_record4 n grid, ngs cells: 55 , 46\n",
      "A22, 020123_record5 n grid, ngs cells: 10 , 12\n",
      "A22, 020223_record6 n grid, ngs cells: 31 , 38\n",
      "A22, 020323_record7 n grid, ngs cells: 12 , 5\n"
     ]
    },
    {
     "data": {
      "application/vnd.jupyter.widget-view+json": {
       "model_id": "d78f78ab042e4c70aeae6498b4d9fae7",
       "version_major": 2,
       "version_minor": 0
      },
      "text/plain": [
       "  0%|          | 0/6 [00:00<?, ?it/s]"
      ]
     },
     "metadata": {},
     "output_type": "display_data"
    },
    {
     "name": "stdout",
     "output_type": "stream",
     "text": [
      "A23, 020923_record1 n grid, ngs cells: 4 , 10\n",
      "A23, 021023_record2 n grid, ngs cells: 27 , 63\n",
      "A23, 021123_record3 n grid, ngs cells: 29 , 66\n",
      "A23, 021223_record4 n grid, ngs cells: 9 , 3\n",
      "A23, 021323_record5 n grid, ngs cells: 27 , 38\n",
      "A23, 021423_record6 n grid, ngs cells: 50 , 54\n"
     ]
    },
    {
     "data": {
      "application/vnd.jupyter.widget-view+json": {
       "model_id": "2efff4acbcd64affa5153f3ac79ac991",
       "version_major": 2,
       "version_minor": 0
      },
      "text/plain": [
       "  0%|          | 0/6 [00:00<?, ?it/s]"
      ]
     },
     "metadata": {},
     "output_type": "display_data"
    },
    {
     "name": "stdout",
     "output_type": "stream",
     "text": [
      "A24, 022623_record1 n grid, ngs cells: 41 , 34\n",
      "A24, 022723_record2 n grid, ngs cells: 108 , 65\n",
      "A24, 022823_record3 n grid, ngs cells: 61 , 63\n",
      "A24, 030123_record4 n grid, ngs cells: 66 , 37\n",
      "A24, 030223_record5 n grid, ngs cells: 53 , 26\n",
      "A24, 030323_record6 n grid, ngs cells: 20 , 19\n"
     ]
    },
    {
     "data": {
      "application/vnd.jupyter.widget-view+json": {
       "model_id": "8bcb979ea1494699b767c2826a0fe5af",
       "version_major": 2,
       "version_minor": 0
      },
      "text/plain": [
       "  0%|          | 0/6 [00:00<?, ?it/s]"
      ]
     },
     "metadata": {},
     "output_type": "display_data"
    },
    {
     "name": "stdout",
     "output_type": "stream",
     "text": [
      "MA10F, 111322_record1 n grid, ngs cells: 69 , 91\n",
      "MA10F, 111422_record2 n grid, ngs cells: 52 , 48\n",
      "MA10F, 111522_record3 n grid, ngs cells: 38 , 24\n",
      "MA10F, 111622_record4 n grid, ngs cells: 19 , 24\n",
      "MA10F, 111722_record5 n grid, ngs cells: 17 , 28\n",
      "MA10F, 111822_record6 n grid, ngs cells: 39 , 61\n"
     ]
    },
    {
     "data": {
      "application/vnd.jupyter.widget-view+json": {
       "model_id": "5338fb6d8eac4d61b75e9453095c3f60",
       "version_major": 2,
       "version_minor": 0
      },
      "text/plain": [
       "  0%|          | 0/6 [00:00<?, ?it/s]"
      ]
     },
     "metadata": {},
     "output_type": "display_data"
    },
    {
     "name": "stdout",
     "output_type": "stream",
     "text": [
      "MA1F, 102322_record1 n grid, ngs cells: 33 , 25\n",
      "MA1F, 102422_record2 n grid, ngs cells: 53 , 28\n",
      "MA1F, 102522_record3 n grid, ngs cells: 48 , 21\n",
      "MA1F, 102622_record4 n grid, ngs cells: 9 , 8\n",
      "MA1F, 102722_record5 n grid, ngs cells: 71 , 52\n",
      "MA1F, 102822_record6 n grid, ngs cells: 72 , 28\n"
     ]
    },
    {
     "data": {
      "application/vnd.jupyter.widget-view+json": {
       "model_id": "79fffd5735f44ff49e951e4c986c706a",
       "version_major": 2,
       "version_minor": 0
      },
      "text/plain": [
       "  0%|          | 0/6 [00:00<?, ?it/s]"
      ]
     },
     "metadata": {},
     "output_type": "display_data"
    },
    {
     "name": "stdout",
     "output_type": "stream",
     "text": [
      "MA2F, 102322_record1 n grid, ngs cells: 47 , 76\n",
      "MA2F, 102422_record2 n grid, ngs cells: 38 , 103\n",
      "MA2F, 102522_record3 n grid, ngs cells: 50 , 110\n",
      "MA2F, 102622_record4 n grid, ngs cells: 39 , 65\n",
      "MA2F, 102722_record5 n grid, ngs cells: 38 , 43\n",
      "MA2F, 102822_record6 n grid, ngs cells: 40 , 49\n"
     ]
    },
    {
     "data": {
      "application/vnd.jupyter.widget-view+json": {
       "model_id": "05238a8db9e94fdd9f066ebeef774b44",
       "version_major": 2,
       "version_minor": 0
      },
      "text/plain": [
       "  0%|          | 0/6 [00:00<?, ?it/s]"
      ]
     },
     "metadata": {},
     "output_type": "display_data"
    },
    {
     "name": "stdout",
     "output_type": "stream",
     "text": [
      "MA3M, 102322_record1 n grid, ngs cells: 6 , 22\n",
      "MA3M, 102422_record2 n grid, ngs cells: 28 , 53\n",
      "MA3M, 102522_record3 n grid, ngs cells: 36 , 47\n",
      "MA3M, 102622_record4 n grid, ngs cells: 13 , 55\n",
      "MA3M, 102722_record5 n grid, ngs cells: 12 , 30\n",
      "MA3M, 102822_record6 n grid, ngs cells: 31 , 39\n"
     ]
    },
    {
     "data": {
      "application/vnd.jupyter.widget-view+json": {
       "model_id": "594c7a0f6d9c4b18a1487983b0f14726",
       "version_major": 2,
       "version_minor": 0
      },
      "text/plain": [
       "  0%|          | 0/6 [00:00<?, ?it/s]"
      ]
     },
     "metadata": {},
     "output_type": "display_data"
    },
    {
     "name": "stdout",
     "output_type": "stream",
     "text": [
      "MA4M, 103122_record2 n grid, ngs cells: 24 , 68\n",
      "MA4M, 110122_record3 n grid, ngs cells: 29 , 27\n",
      "MA4M, 110222_record4 n grid, ngs cells: 8 , 13\n",
      "MA4M, 110322_record5rep n grid, ngs cells: 26 , 18\n",
      "MA4M, 110422_record6 n grid, ngs cells: 36 , 35\n",
      "MA4M, 110522_record7 n grid, ngs cells: 12 , 9\n"
     ]
    },
    {
     "data": {
      "application/vnd.jupyter.widget-view+json": {
       "model_id": "66a2469e0248493799f03120c082dc26",
       "version_major": 2,
       "version_minor": 0
      },
      "text/plain": [
       "  0%|          | 0/6 [00:00<?, ?it/s]"
      ]
     },
     "metadata": {},
     "output_type": "display_data"
    },
    {
     "name": "stdout",
     "output_type": "stream",
     "text": [
      "MA5M, 110622_record1 n grid, ngs cells: 58 , 30\n",
      "MA5M, 110722_record2 n grid, ngs cells: 62 , 55\n",
      "MA5M, 110822_record3 n grid, ngs cells: 79 , 30\n",
      "MA5M, 110922_record4 n grid, ngs cells: 7 , 11\n",
      "MA5M, 111022_record5 n grid, ngs cells: 23 , 25\n",
      "MA5M, 111122_record6 n grid, ngs cells: 22 , 23\n"
     ]
    },
    {
     "data": {
      "application/vnd.jupyter.widget-view+json": {
       "model_id": "30e7cd02d991421abee497ab6e726018",
       "version_major": 2,
       "version_minor": 0
      },
      "text/plain": [
       "  0%|          | 0/6 [00:00<?, ?it/s]"
      ]
     },
     "metadata": {},
     "output_type": "display_data"
    },
    {
     "name": "stdout",
     "output_type": "stream",
     "text": [
      "MA6M, 103022_record1 n grid, ngs cells: 22 , 75\n",
      "MA6M, 103122_record2 n grid, ngs cells: 17 , 39\n",
      "MA6M, 110122_record3 n grid, ngs cells: 64 , 66\n",
      "MA6M, 110222_record4 n grid, ngs cells: 7 , 13\n",
      "MA6M, 110322_record5 n grid, ngs cells: 10 , 6\n",
      "MA6M, 110422_record6 n grid, ngs cells: 39 , 31\n"
     ]
    },
    {
     "data": {
      "application/vnd.jupyter.widget-view+json": {
       "model_id": "0967b2c68ede40eba465585ba5909aa3",
       "version_major": 2,
       "version_minor": 0
      },
      "text/plain": [
       "  0%|          | 0/4 [00:00<?, ?it/s]"
      ]
     },
     "metadata": {},
     "output_type": "display_data"
    },
    {
     "name": "stdout",
     "output_type": "stream",
     "text": [
      "MA7M, 103022_record1 n grid, ngs cells: 31 , 36\n",
      "MA7M, 103122_record2 n grid, ngs cells: 32 , 56\n",
      "MA7M, 110122_record3 n grid, ngs cells: 19 , 28\n",
      "MA7M, 110222_record4 n grid, ngs cells: 7 , 7\n"
     ]
    },
    {
     "data": {
      "application/vnd.jupyter.widget-view+json": {
       "model_id": "ba3cc5db28204b1a848dacfff3d1d343",
       "version_major": 2,
       "version_minor": 0
      },
      "text/plain": [
       "  0%|          | 0/6 [00:00<?, ?it/s]"
      ]
     },
     "metadata": {},
     "output_type": "display_data"
    },
    {
     "name": "stdout",
     "output_type": "stream",
     "text": [
      "MA8F, 111322_record1 n grid, ngs cells: 19 , 8\n",
      "MA8F, 111422_record2 n grid, ngs cells: 62 , 67\n",
      "MA8F, 111522_record3 n grid, ngs cells: 80 , 26\n",
      "MA8F, 111622_record4 n grid, ngs cells: 25 , 37\n",
      "MA8F, 111722_record5 n grid, ngs cells: 10 , 29\n",
      "MA8F, 111822_record6 n grid, ngs cells: 12 , 20\n"
     ]
    },
    {
     "data": {
      "application/vnd.jupyter.widget-view+json": {
       "model_id": "e87aed89608c4bd1b73301c46af3dc2b",
       "version_major": 2,
       "version_minor": 0
      },
      "text/plain": [
       "  0%|          | 0/6 [00:00<?, ?it/s]"
      ]
     },
     "metadata": {},
     "output_type": "display_data"
    },
    {
     "name": "stdout",
     "output_type": "stream",
     "text": [
      "MA9F, 111322_record1 n grid, ngs cells: 56 , 29\n",
      "MA9F, 111422_record2 n grid, ngs cells: 73 , 169\n",
      "MA9F, 111522_record3 n grid, ngs cells: 119 , 80\n",
      "MA9F, 111622_record4 n grid, ngs cells: 0 , 1\n",
      "MA9F, 111722_record5 n grid, ngs cells: 24 , 34\n",
      "MA9F, 111822_record6 n grid, ngs cells: 23 , 16\n"
     ]
    },
    {
     "data": {
      "application/vnd.jupyter.widget-view+json": {
       "model_id": "2c8ef9573a214506990155931fbe1f38",
       "version_major": 2,
       "version_minor": 0
      },
      "text/plain": [
       "  0%|          | 0/6 [00:00<?, ?it/s]"
      ]
     },
     "metadata": {},
     "output_type": "display_data"
    },
    {
     "name": "stdout",
     "output_type": "stream",
     "text": [
      "Y20, 092522_record1 n grid, ngs cells: 7 , 7\n",
      "Y20, 092622_record2 n grid, ngs cells: 32 , 39\n",
      "Y20, 092722_record3 n grid, ngs cells: 13 , 10\n",
      "Y20, 092822_record4 n grid, ngs cells: 51 , 33\n",
      "Y20, 092922_record5 n grid, ngs cells: 19 , 14\n",
      "Y20, 093022_record6 n grid, ngs cells: 85 , 64\n"
     ]
    },
    {
     "data": {
      "application/vnd.jupyter.widget-view+json": {
       "model_id": "99b6d2ed5080490eb36829e3d2c70a32",
       "version_major": 2,
       "version_minor": 0
      },
      "text/plain": [
       "  0%|          | 0/6 [00:00<?, ?it/s]"
      ]
     },
     "metadata": {},
     "output_type": "display_data"
    },
    {
     "name": "stdout",
     "output_type": "stream",
     "text": [
      "Y21, 091822_record1 n grid, ngs cells: 103 , 76\n",
      "Y21, 091922_record2 n grid, ngs cells: 80 , 93\n",
      "Y21, 092022_record3 n grid, ngs cells: 49 , 23\n",
      "Y21, 092122_record4 n grid, ngs cells: 60 , 62\n",
      "Y21, 092222_record5 n grid, ngs cells: 42 , 50\n",
      "Y21, 092322_record6 n grid, ngs cells: 8 , 21\n"
     ]
    },
    {
     "data": {
      "application/vnd.jupyter.widget-view+json": {
       "model_id": "974fa1d5e6a145f5aa7cd9cd6a4a8b49",
       "version_major": 2,
       "version_minor": 0
      },
      "text/plain": [
       "  0%|          | 0/6 [00:00<?, ?it/s]"
      ]
     },
     "metadata": {},
     "output_type": "display_data"
    },
    {
     "name": "stdout",
     "output_type": "stream",
     "text": [
      "Y22, 092522_record1 n grid, ngs cells: 85 , 57\n",
      "Y22, 092622_record2 n grid, ngs cells: 146 , 66\n",
      "Y22, 092722_record3 n grid, ngs cells: 60 , 84\n",
      "Y22, 092822_record4 n grid, ngs cells: 24 , 21\n",
      "Y22, 092922_record5 n grid, ngs cells: 20 , 25\n",
      "Y22, 093022_record6 n grid, ngs cells: 60 , 36\n"
     ]
    },
    {
     "data": {
      "application/vnd.jupyter.widget-view+json": {
       "model_id": "6b982baf50a2448494c16fd4bb4cb6fe",
       "version_major": 2,
       "version_minor": 0
      },
      "text/plain": [
       "  0%|          | 0/6 [00:00<?, ?it/s]"
      ]
     },
     "metadata": {},
     "output_type": "display_data"
    },
    {
     "name": "stdout",
     "output_type": "stream",
     "text": [
      "Y23, 092522_record1 n grid, ngs cells: 38 , 27\n",
      "Y23, 092622_record2 n grid, ngs cells: 33 , 23\n",
      "Y23, 092722_record3 n grid, ngs cells: 30 , 40\n",
      "Y23, 092822_record4 n grid, ngs cells: 26 , 32\n",
      "Y23, 092922_record5 n grid, ngs cells: 41 , 49\n",
      "Y23, 093022_record6 n grid, ngs cells: 60 , 84\n"
     ]
    },
    {
     "data": {
      "application/vnd.jupyter.widget-view+json": {
       "model_id": "9cf57b5d60274c8fb8825989a80fee02",
       "version_major": 2,
       "version_minor": 0
      },
      "text/plain": [
       "  0%|          | 0/6 [00:00<?, ?it/s]"
      ]
     },
     "metadata": {},
     "output_type": "display_data"
    },
    {
     "name": "stdout",
     "output_type": "stream",
     "text": [
      "Y24, 091822_record1 n grid, ngs cells: 91 , 64\n",
      "Y24, 091922_record2 n grid, ngs cells: 28 , 69\n",
      "Y24, 092022_record3 n grid, ngs cells: 97 , 49\n",
      "Y24, 092122_record4 n grid, ngs cells: 94 , 64\n",
      "Y24, 092222_record5 n grid, ngs cells: 66 , 44\n",
      "Y24, 092322_record6 n grid, ngs cells: 70 , 43\n"
     ]
    },
    {
     "data": {
      "application/vnd.jupyter.widget-view+json": {
       "model_id": "2a6bbb1425934b4b9756b6fda0a39b5b",
       "version_major": 2,
       "version_minor": 0
      },
      "text/plain": [
       "  0%|          | 0/6 [00:00<?, ?it/s]"
      ]
     },
     "metadata": {},
     "output_type": "display_data"
    },
    {
     "name": "stdout",
     "output_type": "stream",
     "text": [
      "Y25, 021623_record1 n grid, ngs cells: 0 , 1\n",
      "Y25, 021723_record2 n grid, ngs cells: 85 , 37\n",
      "Y25, 021823_record3 n grid, ngs cells: 29 , 64\n",
      "Y25, 021923_record4 n grid, ngs cells: 38 , 49\n",
      "Y25, 022023_record5 n grid, ngs cells: 49 , 46\n",
      "Y25, 022123_record6 n grid, ngs cells: 18 , 17\n"
     ]
    },
    {
     "data": {
      "application/vnd.jupyter.widget-view+json": {
       "model_id": "c707f9584e33443cb3a2f2c2604ebe31",
       "version_major": 2,
       "version_minor": 0
      },
      "text/plain": [
       "  0%|          | 0/6 [00:00<?, ?it/s]"
      ]
     },
     "metadata": {},
     "output_type": "display_data"
    },
    {
     "name": "stdout",
     "output_type": "stream",
     "text": [
      "Y26, 021623_record1 n grid, ngs cells: 34 , 47\n",
      "Y26, 021723_record2 n grid, ngs cells: 51 , 22\n",
      "Y26, 021823_record3 n grid, ngs cells: 23 , 32\n",
      "Y26, 021923_record4 n grid, ngs cells: 2 , 2\n",
      "Y26, 022023_record5 n grid, ngs cells: 17 , 19\n",
      "Y26, 022123_record6 n grid, ngs cells: 4 , 3\n"
     ]
    },
    {
     "data": {
      "application/vnd.jupyter.widget-view+json": {
       "model_id": "b215c4c310f341c7ac37ab8dc1d25d98",
       "version_major": 2,
       "version_minor": 0
      },
      "text/plain": [
       "  0%|          | 0/6 [00:00<?, ?it/s]"
      ]
     },
     "metadata": {},
     "output_type": "display_data"
    },
    {
     "name": "stdout",
     "output_type": "stream",
     "text": [
      "Y27, 021623_record1 n grid, ngs cells: 53 , 44\n",
      "Y27, 021723_record2 n grid, ngs cells: 39 , 17\n",
      "Y27, 021823_record3 n grid, ngs cells: 31 , 18\n",
      "Y27, 021923_record4 n grid, ngs cells: 19 , 20\n",
      "Y27, 022023_record5rep n grid, ngs cells: 48 , 26\n",
      "Y27, 022123_record6 n grid, ngs cells: 65 , 30\n"
     ]
    },
    {
     "data": {
      "application/vnd.jupyter.widget-view+json": {
       "model_id": "d6e6a0e52bbd49498f6b0bf6e7e8e524",
       "version_major": 2,
       "version_minor": 0
      },
      "text/plain": [
       "  0%|          | 0/6 [00:00<?, ?it/s]"
      ]
     },
     "metadata": {},
     "output_type": "display_data"
    },
    {
     "name": "stdout",
     "output_type": "stream",
     "text": [
      "Y28, 022623_record1 n grid, ngs cells: 4 , 32\n",
      "Y28, 022723_record2 n grid, ngs cells: 41 , 58\n",
      "Y28, 022823_record3 n grid, ngs cells: 48 , 45\n",
      "Y28, 030123_record4 n grid, ngs cells: 20 , 33\n",
      "Y28, 030223_record5 n grid, ngs cells: 40 , 75\n",
      "Y28, 030323_record6 n grid, ngs cells: 65 , 48\n"
     ]
    }
   ],
   "source": [
    "'''Classify grid vs. non-grid cells at P99 peak height threshold and with FR thresholds & save results.\n",
    "\n",
    "Run time < 1 min / session (167 sessions). If you have preiously run this, skip ahead to the next cell to load results.\n",
    "\n",
    "'''\n",
    "\n",
    "track_length = 400 #cm\n",
    "b = 2 # cm / spatial bin\n",
    "dt = 0.02\n",
    "n_dark = 20 #trials\n",
    "lags = np.arange(0,801,1)\n",
    "\n",
    "perngs = []\n",
    "pergrid = []\n",
    "for m, session in zip(mice,sessions):\n",
    "    \n",
    "    for s in tdqm(session):\n",
    "        \n",
    "        d = data[m][s]\n",
    "        \n",
    "        #load in data\n",
    "        rawdata_file = 'RAW_' + m + '_' + s + '.npy'\n",
    "        behavior_file = 'BEHAVIOR_' + m + '_' + s + '.npy'\n",
    "        spikes_file = 'SPIKES_' + m + '_' + s +'.npy'\n",
    "        \n",
    "        raw = np.load(load_folder + rawdata_file, allow_pickle=True)\n",
    "        cell_IDs = raw.item().get('cellsfil')\n",
    "        behaviorfil = np.load(load_folder + behavior_file, allow_pickle=False)\n",
    "        Y = np.load(load_folder + spikes_file, allow_pickle=False) #pre-filtered for speeds >2cm/s, position-corrected spikes, 20 ms timebins\n",
    "        \n",
    "        posxfil = behaviorfil[:,0]\n",
    "        trial = behaviorfil[:,2]\n",
    "        trials = np.unique(trial)\n",
    "        postfil = behaviorfil[:,3]\n",
    "        rawtrialfil = raw.item().get('trialfil')\n",
    "        \n",
    "        Aidx = d['Aidx']\n",
    "        Bidx = d['Bidx']\n",
    "        \n",
    "        #get dark-only, normalized, smoothed spatial map & reshape into continuous vector for each cell\n",
    "        FR, _ , _ = ps.tuning_curve_bytrial(posxfil, trial, Y, dt, sigma = 2, b, smooth=True, normalize=True, occupancy=True)\n",
    "        stop_idx = np.where(trials == n_dark)[0][0]\n",
    "        FR = FR[:stop_idx,:,:]\n",
    "        n_trials = FR.shape[0]\n",
    "        n_pos = FR.shape[1]\n",
    "        n_cells = FR.shape[2]\n",
    "        FR = (np.reshape(FR, (n_trials*n_pos, n_cells))).T\n",
    "        \n",
    "        #load in spatial cells & interneurons classified elsewhere\n",
    "        spatialcell99 = d['spatialcell99']\n",
    "        spatialcells = cell_IDs[spatialcell99]\n",
    "        intn = d['intn']\n",
    "        \n",
    "        #find max autocorrelation peaks for all cells; store height & prom of most prominent peak\n",
    "        peak = [] # boolean if peak found\n",
    "        maxpeak_locs = [] #stored lag of max peak if peak exist\n",
    "        maxpeak_heights = [] # stored height of max peak, otherwise 0 if not exist\n",
    "        maxpeak_proms = [] # stored prominence of max peak, otherwise 0 if not exist\n",
    "        for i, c in enumerate(cell_IDs):\n",
    "            sdx = np.where(cell_IDs == c)[0][0]\n",
    "            autocorrelation = get.autocorr(FR[sdx,:], lags)\n",
    "            normauto = autocorrelation / autocorrelation[0]\n",
    "            peaks, properties = find_peaks(normauto, width = 10, height = 0.10, prominence = 0.15)\n",
    "            proms = properties[\"prominences\"]\n",
    "            heights = properties[\"peak_heights\"]\n",
    "\n",
    "            if peaks.size > 0:\n",
    "                peak = np.append(peak,1)\n",
    "                maxpeak_locs = np.append(maxpeak_locs, peaks[np.argmax(proms)])\n",
    "                maxpeak_heights = np.append(maxpeak_heights, heights[np.argmax(proms)])\n",
    "                maxpeak_proms = np.append(maxpeak_proms, proms[np.argmax(proms)])\n",
    "            else:\n",
    "                peak = np.append(peak,0)\n",
    "                maxpeak_heights = np.append(maxpeak_heights,0)\n",
    "                maxpeak_proms = np.append(maxpeak_proms,0)         \n",
    "        peak = peak.astype(bool)\n",
    "        \n",
    "        #define low FR cell group (mean FR <0.05 in the dark; 0.3 Hz overall); to be removed from grid cell group\n",
    "        stop_idx = np.where(trial <= 19)[0][-1].astype(int)\n",
    "        darkFR, _ , _ = ps.tuning_curve_bytrial(posxfil[:stop_idx], trial[:stop_idx], Y[:stop_idx,:], dt, sigma = 2, b = 2, smooth=True, normalize=False, occupancy=True)\n",
    "        FR, _, _ = ps.tuning_curve(posxfil, Y, dt, b, smooth=True, l=2, SEM=False, occupancy=False)\n",
    "        lowfrcells = []\n",
    "        lowdarkfrcells = []\n",
    "        for i, c in enumerate(cell_IDs):\n",
    "            if np.mean(np.mean(darkFR[:,:,i], axis = 1)) <= 0.05:\n",
    "                lowdarkfrcells = np.append(lowdarkfrcells, c)\n",
    "            elif np.mean(FR[:,i]) < 0.3:\n",
    "                lowfrcells = np.append(lowfrcells, c)      \n",
    "                \n",
    "        #define indices excluding reward zone starts\n",
    "        reward = raw.item().get('reward')\n",
    "        centers = reward['centers']\n",
    "        centera = centers[0]\n",
    "        if centera == 270:\n",
    "            centerb = 370\n",
    "        else:\n",
    "            centerb = 270\n",
    "        \n",
    "        # generate aligned position tuning curve\n",
    "        aFR, abinned_pos, aFR_sem, occ = ps.tuning_curve(posxfil[Aidx], Y[Aidx,:], dt, b=2, smooth = True, l=5, SEM=True)\n",
    "        bFR, bbinned_pos, bFR_sem, occ = ps.tuning_curve(posxfil[Bidx], Y[Bidx,:], dt, b=2, smooth = True, l=5, SEM=True)\n",
    "        \n",
    "        #find indices of bins not including 50cm pre-post reward centers (220 to 255 and 320 to 355)\n",
    "        aidx = np.where((abinned_pos > (centera - 50)) & (abinned_pos <= (centera - 15)))\n",
    "        maska = np.ones(len(abinned_pos), bool)\n",
    "        maska[aidx] = 0\n",
    "        bidx = np.where((bbinned_pos > (centerb - 50)) & (bbinned_pos <= (centerb - 15)))\n",
    "        maskb = np.ones(len(bbinned_pos), bool)\n",
    "        maskb[bidx] = 0\n",
    "        \n",
    "        noisycells = []\n",
    "        for i, c in enumerate(cell_IDs):\n",
    "            if (np.mean(aFR_sem[maska,i]) > np.mean(aFR[maska,i])*.45) and (np.mean(bFR_sem[maskb,i]) > np.mean(bFR[maskb,i])*.45):\n",
    "                noisycells = np.append(noisycells, c)\n",
    "        \n",
    "        #classify grid cells based on peak prominence > P99 shuffle height\n",
    "        shufmaxpeak_heights_file = 'shufmaxpeak_heights__' + m + '_' + s + '.npy'\n",
    "        shuffmaxpeak_heights = np.load(shuffload_folder3 + shufmaxpeak_heights_file)\n",
    "    \n",
    "        gridcell = []\n",
    "        for i, c in enumerate(cell_IDs):\n",
    "            #require that grid cells have at least one peak larger than 0.15 prominence, height 0.1, width = 10 in the dark\n",
    "            #also require that prom of peak exceeds P99 of shuffle autocorrelation height distribution autocorrelations at that same lag\n",
    "            #also require that that cell is not an interneuron\n",
    "    \n",
    "            if (intn[i] == 0) & (peak[i] == 1):\n",
    "                idx = np.where(cell_IDs[peak] == c)[0][0]\n",
    "                dist = shuffmaxpeak_heights[:,idx]\n",
    "                P99 = np.percentile(dist,99)\n",
    "\n",
    "                if (maxpeak_proms[i] >= P99):\n",
    "                    gridcell = np.append(gridcell, 1)\n",
    "                else:\n",
    "                    gridcell = np.append(gridcell, 0)\n",
    "            else: \n",
    "                gridcell = np.append(gridcell, 0)\n",
    "                \n",
    "        #Find non-distance coding spatial cells to be ngs cells; then further            \n",
    "        ngscell = []\n",
    "        for i, c in enumerate(cell_IDs):\n",
    "            #ngs cells are any spatial cells that do not meet distance-coding cell criteria or meet that criteria with a\n",
    "            #very low dark FR \n",
    "            if (intn[i] == 1) | (gridcell[i] == 1) | (spatialcell99[i] == 0):\n",
    "                ngscell = np.append(ngscell, 0)\n",
    "            elif (peak[i] == 1): #remove any low quality grid cells that have a peak \n",
    "                idx = np.where(cell_IDs[peak] == c)[0][0]\n",
    "                P90 = np.percentile(dist, 90)\n",
    "                \n",
    "                if (maxpeak_proms[i] >= P90) & (maxpeak_proms[i] < P99):\n",
    "                    ngscell = np.append(ngscell, 0)\n",
    "                elif (intn[i] == 0) & (gridcell[i] == 0) & (spatialcell99[i] == 1): \n",
    "                    ngscell = np.append(ngscell, 1)\n",
    "                else: \n",
    "                    ngsell = np.append(ngscell, 0)\n",
    "            elif (c not in lowdarkfrcells) & (peak[i] == 0) & (intn[i] == 0) & (spatialcell99[i] == 1):\n",
    "                ngscell = np.append(ngscell, 1)\n",
    "            else: \n",
    "                ngscell = np.append(ngscell, 0)\n",
    "                \n",
    "        # filter out noisy cells from both grid and ngs cells and low firing grid cells    \n",
    "        for i, c in enumerate(cell_IDs):\n",
    "            #also require that dark FR > 0.05 Hz and mean FR > 0.3 Hz\n",
    "            if (c in lowfrcells) or (c in lowdarkfrcells):\n",
    "                gridcell[i] = 0\n",
    "                \n",
    "            if (c in noisycells):\n",
    "                gridcell[i] = 0\n",
    "                ngscell[i] = 0\n",
    "                \n",
    "        #Save booleans\n",
    "        gridcell = gridcell.astype(bool)\n",
    "        ngscell = ngscell.astype(bool)\n",
    "        d['gridcell'] = gridcell\n",
    "        d['ngscell'] = ngscell\n",
    "        \n",
    "        gridcell_file = 'gridcell__' + m + '_' + s + '.npy'\n",
    "        np.save(save_folder + gridcell_file, gridcell.astype(bool))\n",
    "        #print('saved grid cell boolean for spatial cells as npy file for mouse ' + m + ' session '+ s)\n",
    "                \n",
    "        ngscell_file = 'bordercell__' + m + '_' + s + '.npy'\n",
    "        np.save(save_folder + ngscell_file, d['ngscell'])\n",
    "        #print('saved ngs cell boolean for spatial cells as npy file for mouse ' + m + ' session '+ s)\n",
    "\n",
    "        #save percentages of grid vs. ngs cells\n",
    "        print(m + ', ' + s + ' n grid, ngs cells: '+ str(np.sum(gridcell)) + ' , ' + str(np.sum(ngscell)))\n",
    "        perngs = np.append(perngs, 100*np.sum(ngscell)/len(cell_IDs))\n",
    "        pergrid = np.append(pergrid, 100*np.sum(gridcell)/len(cell_IDs))"
   ]
  },
  {
   "cell_type": "code",
   "execution_count": 22,
   "id": "a2864220",
   "metadata": {},
   "outputs": [
    {
     "data": {
      "application/vnd.jupyter.widget-view+json": {
       "model_id": "0024d34dfc20466b8c28c8a99258fcb8",
       "version_major": 2,
       "version_minor": 0
      },
      "text/plain": [
       "  0%|          | 0/3 [00:00<?, ?it/s]"
      ]
     },
     "metadata": {},
     "output_type": "display_data"
    },
    {
     "name": "stdout",
     "output_type": "stream",
     "text": [
      "A14, 083022_record1 n grid, ngs cells: 8 , 50\n",
      "A14, 083122_record2 n grid, ngs cells: 35 , 2\n",
      "A14, 090122_record3 n grid, ngs cells: 17 , 13\n"
     ]
    },
    {
     "data": {
      "application/vnd.jupyter.widget-view+json": {
       "model_id": "c5ff9341fd164e9db82c579bb082cf33",
       "version_major": 2,
       "version_minor": 0
      },
      "text/plain": [
       "  0%|          | 0/6 [00:00<?, ?it/s]"
      ]
     },
     "metadata": {},
     "output_type": "display_data"
    },
    {
     "name": "stdout",
     "output_type": "stream",
     "text": [
      "A15, 083022_record1 n grid, ngs cells: 4 , 6\n",
      "A15, 083122_record2 n grid, ngs cells: 86 , 33\n",
      "A15, 090122_record3 n grid, ngs cells: 89 , 37\n",
      "A15, 090222_record4 n grid, ngs cells: 128 , 65\n",
      "A15, 090322_record5 n grid, ngs cells: 37 , 30\n",
      "A15, 090422_record6 n grid, ngs cells: 24 , 19\n"
     ]
    },
    {
     "data": {
      "application/vnd.jupyter.widget-view+json": {
       "model_id": "1ae4fa83bd4e44eabece19f7714bfe84",
       "version_major": 2,
       "version_minor": 0
      },
      "text/plain": [
       "  0%|          | 0/4 [00:00<?, ?it/s]"
      ]
     },
     "metadata": {},
     "output_type": "display_data"
    },
    {
     "name": "stdout",
     "output_type": "stream",
     "text": [
      "A16, 083022_record1 n grid, ngs cells: 19 , 23\n",
      "A16, 083122_record2 n grid, ngs cells: 60 , 36\n",
      "A16, 090122_record3 n grid, ngs cells: 0 , 1\n",
      "A16, 090222_record4 n grid, ngs cells: 12 , 42\n"
     ]
    },
    {
     "data": {
      "application/vnd.jupyter.widget-view+json": {
       "model_id": "ccba2a11c5ce41d3bf01b2f65176b855",
       "version_major": 2,
       "version_minor": 0
      },
      "text/plain": [
       "  0%|          | 0/6 [00:00<?, ?it/s]"
      ]
     },
     "metadata": {},
     "output_type": "display_data"
    },
    {
     "name": "stdout",
     "output_type": "stream",
     "text": [
      "A17, 082322_record1 n grid, ngs cells: 1 , 2\n",
      "A17, 082422_record2 n grid, ngs cells: 2 , 6\n",
      "A17, 082522_record3 n grid, ngs cells: 40 , 35\n",
      "A17, 082622_record4 n grid, ngs cells: 42 , 17\n",
      "A17, 082722_record5 n grid, ngs cells: 32 , 21\n",
      "A17, 082822_record6 n grid, ngs cells: 54 , 25\n"
     ]
    },
    {
     "data": {
      "application/vnd.jupyter.widget-view+json": {
       "model_id": "a6a2be010e4c487887d21d5dc63002f9",
       "version_major": 2,
       "version_minor": 0
      },
      "text/plain": [
       "  0%|          | 0/6 [00:00<?, ?it/s]"
      ]
     },
     "metadata": {},
     "output_type": "display_data"
    },
    {
     "name": "stdout",
     "output_type": "stream",
     "text": [
      "A18, 082322_record1real n grid, ngs cells: 13 , 10\n",
      "A18, 082422_record2 n grid, ngs cells: 66 , 169\n",
      "A18, 082522_record3 n grid, ngs cells: 68 , 117\n",
      "A18, 082622_record4 n grid, ngs cells: 44 , 64\n",
      "A18, 082722_record5 n grid, ngs cells: 47 , 10\n",
      "A18, 082822_record6 n grid, ngs cells: 0 , 5\n"
     ]
    },
    {
     "data": {
      "application/vnd.jupyter.widget-view+json": {
       "model_id": "fbe6d4d0f57c47ea97209b217cfbf084",
       "version_major": 2,
       "version_minor": 0
      },
      "text/plain": [
       "  0%|          | 0/6 [00:00<?, ?it/s]"
      ]
     },
     "metadata": {},
     "output_type": "display_data"
    },
    {
     "name": "stdout",
     "output_type": "stream",
     "text": [
      "A19, 012723_record2 n grid, ngs cells: 17 , 1\n",
      "A19, 012823_record3 n grid, ngs cells: 22 , 75\n",
      "A19, 012923_record4 n grid, ngs cells: 34 , 64\n",
      "A19, 013023_record5 n grid, ngs cells: 54 , 38\n",
      "A19, 013123_record6 n grid, ngs cells: 35 , 18\n",
      "A19, 020123_record7 n grid, ngs cells: 54 , 31\n"
     ]
    },
    {
     "data": {
      "application/vnd.jupyter.widget-view+json": {
       "model_id": "461ffa3d32d14979bc8a8102cc3e7582",
       "version_major": 2,
       "version_minor": 0
      },
      "text/plain": [
       "  0%|          | 0/6 [00:00<?, ?it/s]"
      ]
     },
     "metadata": {},
     "output_type": "display_data"
    },
    {
     "name": "stdout",
     "output_type": "stream",
     "text": [
      "A20, 012623_record1 n grid, ngs cells: 3 , 18\n",
      "A20, 012723_record2 n grid, ngs cells: 24 , 50\n",
      "A20, 012823_record3 n grid, ngs cells: 69 , 56\n",
      "A20, 012923_record4 n grid, ngs cells: 21 , 42\n",
      "A20, 013023_record5 n grid, ngs cells: 22 , 55\n",
      "A20, 013123_record6 n grid, ngs cells: 9 , 32\n"
     ]
    },
    {
     "data": {
      "application/vnd.jupyter.widget-view+json": {
       "model_id": "e74be7a4ac424477b92dd77f2592b0b7",
       "version_major": 2,
       "version_minor": 0
      },
      "text/plain": [
       "  0%|          | 0/6 [00:00<?, ?it/s]"
      ]
     },
     "metadata": {},
     "output_type": "display_data"
    },
    {
     "name": "stdout",
     "output_type": "stream",
     "text": [
      "A22, 012923_record2 n grid, ngs cells: 58 , 39\n",
      "A22, 013023_record3 n grid, ngs cells: 79 , 122\n",
      "A22, 013123_record4 n grid, ngs cells: 55 , 46\n",
      "A22, 020123_record5 n grid, ngs cells: 10 , 12\n",
      "A22, 020223_record6 n grid, ngs cells: 31 , 38\n",
      "A22, 020323_record7 n grid, ngs cells: 12 , 5\n"
     ]
    },
    {
     "data": {
      "application/vnd.jupyter.widget-view+json": {
       "model_id": "89cdefd7ef944cb19b11f7d0f7c57222",
       "version_major": 2,
       "version_minor": 0
      },
      "text/plain": [
       "  0%|          | 0/6 [00:00<?, ?it/s]"
      ]
     },
     "metadata": {},
     "output_type": "display_data"
    },
    {
     "name": "stdout",
     "output_type": "stream",
     "text": [
      "A23, 020923_record1 n grid, ngs cells: 4 , 10\n",
      "A23, 021023_record2 n grid, ngs cells: 27 , 63\n",
      "A23, 021123_record3 n grid, ngs cells: 29 , 66\n",
      "A23, 021223_record4 n grid, ngs cells: 9 , 3\n",
      "A23, 021323_record5 n grid, ngs cells: 27 , 38\n",
      "A23, 021423_record6 n grid, ngs cells: 50 , 54\n"
     ]
    },
    {
     "data": {
      "application/vnd.jupyter.widget-view+json": {
       "model_id": "c9e976e78cb04a5a8f5e585e508528fd",
       "version_major": 2,
       "version_minor": 0
      },
      "text/plain": [
       "  0%|          | 0/6 [00:00<?, ?it/s]"
      ]
     },
     "metadata": {},
     "output_type": "display_data"
    },
    {
     "name": "stdout",
     "output_type": "stream",
     "text": [
      "A24, 022623_record1 n grid, ngs cells: 41 , 34\n",
      "A24, 022723_record2 n grid, ngs cells: 108 , 65\n",
      "A24, 022823_record3 n grid, ngs cells: 61 , 63\n",
      "A24, 030123_record4 n grid, ngs cells: 66 , 37\n",
      "A24, 030223_record5 n grid, ngs cells: 53 , 26\n",
      "A24, 030323_record6 n grid, ngs cells: 20 , 19\n"
     ]
    },
    {
     "data": {
      "application/vnd.jupyter.widget-view+json": {
       "model_id": "3ebc6f54366340a49365801e5b964c7a",
       "version_major": 2,
       "version_minor": 0
      },
      "text/plain": [
       "  0%|          | 0/6 [00:00<?, ?it/s]"
      ]
     },
     "metadata": {},
     "output_type": "display_data"
    },
    {
     "name": "stdout",
     "output_type": "stream",
     "text": [
      "MA10F, 111322_record1 n grid, ngs cells: 69 , 91\n",
      "MA10F, 111422_record2 n grid, ngs cells: 52 , 48\n",
      "MA10F, 111522_record3 n grid, ngs cells: 38 , 24\n",
      "MA10F, 111622_record4 n grid, ngs cells: 19 , 24\n",
      "MA10F, 111722_record5 n grid, ngs cells: 17 , 28\n",
      "MA10F, 111822_record6 n grid, ngs cells: 39 , 61\n"
     ]
    },
    {
     "data": {
      "application/vnd.jupyter.widget-view+json": {
       "model_id": "20b5102245af4d37a23e6f9d98734711",
       "version_major": 2,
       "version_minor": 0
      },
      "text/plain": [
       "  0%|          | 0/6 [00:00<?, ?it/s]"
      ]
     },
     "metadata": {},
     "output_type": "display_data"
    },
    {
     "name": "stdout",
     "output_type": "stream",
     "text": [
      "MA1F, 102322_record1 n grid, ngs cells: 33 , 25\n",
      "MA1F, 102422_record2 n grid, ngs cells: 53 , 28\n",
      "MA1F, 102522_record3 n grid, ngs cells: 48 , 21\n",
      "MA1F, 102622_record4 n grid, ngs cells: 9 , 8\n",
      "MA1F, 102722_record5 n grid, ngs cells: 71 , 52\n",
      "MA1F, 102822_record6 n grid, ngs cells: 72 , 28\n"
     ]
    },
    {
     "data": {
      "application/vnd.jupyter.widget-view+json": {
       "model_id": "f5269245c27b480182cef15bf694e98f",
       "version_major": 2,
       "version_minor": 0
      },
      "text/plain": [
       "  0%|          | 0/6 [00:00<?, ?it/s]"
      ]
     },
     "metadata": {},
     "output_type": "display_data"
    },
    {
     "name": "stdout",
     "output_type": "stream",
     "text": [
      "MA2F, 102322_record1 n grid, ngs cells: 47 , 76\n",
      "MA2F, 102422_record2 n grid, ngs cells: 38 , 103\n",
      "MA2F, 102522_record3 n grid, ngs cells: 50 , 110\n",
      "MA2F, 102622_record4 n grid, ngs cells: 39 , 65\n",
      "MA2F, 102722_record5 n grid, ngs cells: 38 , 43\n",
      "MA2F, 102822_record6 n grid, ngs cells: 40 , 49\n"
     ]
    },
    {
     "data": {
      "application/vnd.jupyter.widget-view+json": {
       "model_id": "535355ea8e6d4707a13e18c67da6b2fb",
       "version_major": 2,
       "version_minor": 0
      },
      "text/plain": [
       "  0%|          | 0/6 [00:00<?, ?it/s]"
      ]
     },
     "metadata": {},
     "output_type": "display_data"
    },
    {
     "name": "stdout",
     "output_type": "stream",
     "text": [
      "MA3M, 102322_record1 n grid, ngs cells: 6 , 22\n",
      "MA3M, 102422_record2 n grid, ngs cells: 28 , 53\n",
      "MA3M, 102522_record3 n grid, ngs cells: 36 , 47\n",
      "MA3M, 102622_record4 n grid, ngs cells: 13 , 55\n",
      "MA3M, 102722_record5 n grid, ngs cells: 12 , 30\n",
      "MA3M, 102822_record6 n grid, ngs cells: 31 , 39\n"
     ]
    },
    {
     "data": {
      "application/vnd.jupyter.widget-view+json": {
       "model_id": "a1362a98ffc74bf891a0f77d38abaf32",
       "version_major": 2,
       "version_minor": 0
      },
      "text/plain": [
       "  0%|          | 0/6 [00:00<?, ?it/s]"
      ]
     },
     "metadata": {},
     "output_type": "display_data"
    },
    {
     "name": "stdout",
     "output_type": "stream",
     "text": [
      "MA4M, 103122_record2 n grid, ngs cells: 24 , 68\n",
      "MA4M, 110122_record3 n grid, ngs cells: 29 , 27\n",
      "MA4M, 110222_record4 n grid, ngs cells: 8 , 13\n",
      "MA4M, 110322_record5rep n grid, ngs cells: 26 , 18\n",
      "MA4M, 110422_record6 n grid, ngs cells: 36 , 35\n",
      "MA4M, 110522_record7 n grid, ngs cells: 12 , 9\n"
     ]
    },
    {
     "data": {
      "application/vnd.jupyter.widget-view+json": {
       "model_id": "5e13e8709b7a4696b92970bcd757b6c3",
       "version_major": 2,
       "version_minor": 0
      },
      "text/plain": [
       "  0%|          | 0/6 [00:00<?, ?it/s]"
      ]
     },
     "metadata": {},
     "output_type": "display_data"
    },
    {
     "name": "stdout",
     "output_type": "stream",
     "text": [
      "MA5M, 110622_record1 n grid, ngs cells: 58 , 30\n",
      "MA5M, 110722_record2 n grid, ngs cells: 62 , 55\n",
      "MA5M, 110822_record3 n grid, ngs cells: 79 , 30\n",
      "MA5M, 110922_record4 n grid, ngs cells: 7 , 11\n",
      "MA5M, 111022_record5 n grid, ngs cells: 23 , 25\n",
      "MA5M, 111122_record6 n grid, ngs cells: 22 , 23\n"
     ]
    },
    {
     "data": {
      "application/vnd.jupyter.widget-view+json": {
       "model_id": "bc15915c32214cd083139fbb05b9f223",
       "version_major": 2,
       "version_minor": 0
      },
      "text/plain": [
       "  0%|          | 0/6 [00:00<?, ?it/s]"
      ]
     },
     "metadata": {},
     "output_type": "display_data"
    },
    {
     "name": "stdout",
     "output_type": "stream",
     "text": [
      "MA6M, 103022_record1 n grid, ngs cells: 22 , 75\n",
      "MA6M, 103122_record2 n grid, ngs cells: 17 , 39\n",
      "MA6M, 110122_record3 n grid, ngs cells: 64 , 66\n",
      "MA6M, 110222_record4 n grid, ngs cells: 7 , 13\n",
      "MA6M, 110322_record5 n grid, ngs cells: 10 , 6\n",
      "MA6M, 110422_record6 n grid, ngs cells: 39 , 31\n"
     ]
    },
    {
     "data": {
      "application/vnd.jupyter.widget-view+json": {
       "model_id": "3501d504f6e84501b080a4e5b095765c",
       "version_major": 2,
       "version_minor": 0
      },
      "text/plain": [
       "  0%|          | 0/4 [00:00<?, ?it/s]"
      ]
     },
     "metadata": {},
     "output_type": "display_data"
    },
    {
     "name": "stdout",
     "output_type": "stream",
     "text": [
      "MA7M, 103022_record1 n grid, ngs cells: 31 , 36\n",
      "MA7M, 103122_record2 n grid, ngs cells: 32 , 56\n",
      "MA7M, 110122_record3 n grid, ngs cells: 19 , 28\n",
      "MA7M, 110222_record4 n grid, ngs cells: 7 , 7\n"
     ]
    },
    {
     "data": {
      "application/vnd.jupyter.widget-view+json": {
       "model_id": "be49441e0f66486480bc604cc54a56d3",
       "version_major": 2,
       "version_minor": 0
      },
      "text/plain": [
       "  0%|          | 0/6 [00:00<?, ?it/s]"
      ]
     },
     "metadata": {},
     "output_type": "display_data"
    },
    {
     "name": "stdout",
     "output_type": "stream",
     "text": [
      "MA8F, 111322_record1 n grid, ngs cells: 19 , 8\n",
      "MA8F, 111422_record2 n grid, ngs cells: 62 , 67\n",
      "MA8F, 111522_record3 n grid, ngs cells: 80 , 26\n",
      "MA8F, 111622_record4 n grid, ngs cells: 25 , 37\n",
      "MA8F, 111722_record5 n grid, ngs cells: 10 , 29\n",
      "MA8F, 111822_record6 n grid, ngs cells: 12 , 20\n"
     ]
    },
    {
     "data": {
      "application/vnd.jupyter.widget-view+json": {
       "model_id": "b3d0dc06858f4f458439f39a4d313000",
       "version_major": 2,
       "version_minor": 0
      },
      "text/plain": [
       "  0%|          | 0/6 [00:00<?, ?it/s]"
      ]
     },
     "metadata": {},
     "output_type": "display_data"
    },
    {
     "name": "stdout",
     "output_type": "stream",
     "text": [
      "MA9F, 111322_record1 n grid, ngs cells: 56 , 29\n",
      "MA9F, 111422_record2 n grid, ngs cells: 73 , 169\n",
      "MA9F, 111522_record3 n grid, ngs cells: 119 , 80\n",
      "MA9F, 111622_record4 n grid, ngs cells: 0 , 1\n",
      "MA9F, 111722_record5 n grid, ngs cells: 24 , 34\n",
      "MA9F, 111822_record6 n grid, ngs cells: 23 , 16\n"
     ]
    },
    {
     "data": {
      "application/vnd.jupyter.widget-view+json": {
       "model_id": "e42e212369df40f59c20c1e105a77bee",
       "version_major": 2,
       "version_minor": 0
      },
      "text/plain": [
       "  0%|          | 0/6 [00:00<?, ?it/s]"
      ]
     },
     "metadata": {},
     "output_type": "display_data"
    },
    {
     "name": "stdout",
     "output_type": "stream",
     "text": [
      "Y20, 092522_record1 n grid, ngs cells: 7 , 7\n",
      "Y20, 092622_record2 n grid, ngs cells: 32 , 39\n",
      "Y20, 092722_record3 n grid, ngs cells: 13 , 10\n",
      "Y20, 092822_record4 n grid, ngs cells: 51 , 33\n",
      "Y20, 092922_record5 n grid, ngs cells: 19 , 14\n",
      "Y20, 093022_record6 n grid, ngs cells: 85 , 64\n"
     ]
    },
    {
     "data": {
      "application/vnd.jupyter.widget-view+json": {
       "model_id": "0018f97969314538a4e574ccb6a3874f",
       "version_major": 2,
       "version_minor": 0
      },
      "text/plain": [
       "  0%|          | 0/6 [00:00<?, ?it/s]"
      ]
     },
     "metadata": {},
     "output_type": "display_data"
    },
    {
     "name": "stdout",
     "output_type": "stream",
     "text": [
      "Y21, 091822_record1 n grid, ngs cells: 103 , 76\n",
      "Y21, 091922_record2 n grid, ngs cells: 80 , 93\n",
      "Y21, 092022_record3 n grid, ngs cells: 49 , 23\n",
      "Y21, 092122_record4 n grid, ngs cells: 60 , 62\n",
      "Y21, 092222_record5 n grid, ngs cells: 42 , 50\n",
      "Y21, 092322_record6 n grid, ngs cells: 8 , 21\n"
     ]
    },
    {
     "data": {
      "application/vnd.jupyter.widget-view+json": {
       "model_id": "335ab7a68d64417199fff806da730018",
       "version_major": 2,
       "version_minor": 0
      },
      "text/plain": [
       "  0%|          | 0/6 [00:00<?, ?it/s]"
      ]
     },
     "metadata": {},
     "output_type": "display_data"
    },
    {
     "name": "stdout",
     "output_type": "stream",
     "text": [
      "Y22, 092522_record1 n grid, ngs cells: 85 , 57\n",
      "Y22, 092622_record2 n grid, ngs cells: 146 , 66\n",
      "Y22, 092722_record3 n grid, ngs cells: 60 , 84\n",
      "Y22, 092822_record4 n grid, ngs cells: 24 , 21\n",
      "Y22, 092922_record5 n grid, ngs cells: 20 , 25\n",
      "Y22, 093022_record6 n grid, ngs cells: 60 , 36\n"
     ]
    },
    {
     "data": {
      "application/vnd.jupyter.widget-view+json": {
       "model_id": "cb189639c539436bbb409f38ab2cf6a5",
       "version_major": 2,
       "version_minor": 0
      },
      "text/plain": [
       "  0%|          | 0/6 [00:00<?, ?it/s]"
      ]
     },
     "metadata": {},
     "output_type": "display_data"
    },
    {
     "name": "stdout",
     "output_type": "stream",
     "text": [
      "Y23, 092522_record1 n grid, ngs cells: 38 , 27\n",
      "Y23, 092622_record2 n grid, ngs cells: 33 , 23\n",
      "Y23, 092722_record3 n grid, ngs cells: 30 , 40\n",
      "Y23, 092822_record4 n grid, ngs cells: 26 , 32\n",
      "Y23, 092922_record5 n grid, ngs cells: 41 , 49\n",
      "Y23, 093022_record6 n grid, ngs cells: 60 , 84\n"
     ]
    },
    {
     "data": {
      "application/vnd.jupyter.widget-view+json": {
       "model_id": "e9d3f5da416d475f9e955c1103d6e5a3",
       "version_major": 2,
       "version_minor": 0
      },
      "text/plain": [
       "  0%|          | 0/6 [00:00<?, ?it/s]"
      ]
     },
     "metadata": {},
     "output_type": "display_data"
    },
    {
     "name": "stdout",
     "output_type": "stream",
     "text": [
      "Y24, 091822_record1 n grid, ngs cells: 91 , 64\n",
      "Y24, 091922_record2 n grid, ngs cells: 28 , 69\n",
      "Y24, 092022_record3 n grid, ngs cells: 97 , 49\n",
      "Y24, 092122_record4 n grid, ngs cells: 94 , 64\n",
      "Y24, 092222_record5 n grid, ngs cells: 66 , 44\n",
      "Y24, 092322_record6 n grid, ngs cells: 70 , 43\n"
     ]
    },
    {
     "data": {
      "application/vnd.jupyter.widget-view+json": {
       "model_id": "0637bcf8b55045428b2671fd71e1ea11",
       "version_major": 2,
       "version_minor": 0
      },
      "text/plain": [
       "  0%|          | 0/6 [00:00<?, ?it/s]"
      ]
     },
     "metadata": {},
     "output_type": "display_data"
    },
    {
     "name": "stdout",
     "output_type": "stream",
     "text": [
      "Y25, 021623_record1 n grid, ngs cells: 0 , 1\n",
      "Y25, 021723_record2 n grid, ngs cells: 85 , 37\n",
      "Y25, 021823_record3 n grid, ngs cells: 29 , 64\n",
      "Y25, 021923_record4 n grid, ngs cells: 38 , 49\n",
      "Y25, 022023_record5 n grid, ngs cells: 49 , 46\n",
      "Y25, 022123_record6 n grid, ngs cells: 18 , 17\n"
     ]
    },
    {
     "data": {
      "application/vnd.jupyter.widget-view+json": {
       "model_id": "eea91f1f1c0e458fb13ade723f09ccf5",
       "version_major": 2,
       "version_minor": 0
      },
      "text/plain": [
       "  0%|          | 0/6 [00:00<?, ?it/s]"
      ]
     },
     "metadata": {},
     "output_type": "display_data"
    },
    {
     "name": "stdout",
     "output_type": "stream",
     "text": [
      "Y26, 021623_record1 n grid, ngs cells: 34 , 47\n",
      "Y26, 021723_record2 n grid, ngs cells: 51 , 22\n",
      "Y26, 021823_record3 n grid, ngs cells: 23 , 32\n",
      "Y26, 021923_record4 n grid, ngs cells: 2 , 2\n",
      "Y26, 022023_record5 n grid, ngs cells: 17 , 19\n",
      "Y26, 022123_record6 n grid, ngs cells: 4 , 3\n"
     ]
    },
    {
     "data": {
      "application/vnd.jupyter.widget-view+json": {
       "model_id": "d1d88f145aea4cff8d40fd7edd8ac154",
       "version_major": 2,
       "version_minor": 0
      },
      "text/plain": [
       "  0%|          | 0/6 [00:00<?, ?it/s]"
      ]
     },
     "metadata": {},
     "output_type": "display_data"
    },
    {
     "name": "stdout",
     "output_type": "stream",
     "text": [
      "Y27, 021623_record1 n grid, ngs cells: 53 , 44\n",
      "Y27, 021723_record2 n grid, ngs cells: 39 , 17\n",
      "Y27, 021823_record3 n grid, ngs cells: 31 , 18\n",
      "Y27, 021923_record4 n grid, ngs cells: 19 , 20\n",
      "Y27, 022023_record5rep n grid, ngs cells: 48 , 26\n",
      "Y27, 022123_record6 n grid, ngs cells: 65 , 30\n"
     ]
    },
    {
     "data": {
      "application/vnd.jupyter.widget-view+json": {
       "model_id": "3da1a0c98ffe4858aee30e3687f4efe2",
       "version_major": 2,
       "version_minor": 0
      },
      "text/plain": [
       "  0%|          | 0/6 [00:00<?, ?it/s]"
      ]
     },
     "metadata": {},
     "output_type": "display_data"
    },
    {
     "name": "stdout",
     "output_type": "stream",
     "text": [
      "Y28, 022623_record1 n grid, ngs cells: 4 , 32\n",
      "Y28, 022723_record2 n grid, ngs cells: 41 , 58\n",
      "Y28, 022823_record3 n grid, ngs cells: 48 , 45\n",
      "Y28, 030123_record4 n grid, ngs cells: 20 , 33\n",
      "Y28, 030223_record5 n grid, ngs cells: 40 , 75\n",
      "Y28, 030323_record6 n grid, ngs cells: 65 , 48\n"
     ]
    }
   ],
   "source": [
    "''' If you have previously classified grid & ngs cells, run this cell instead of the one above. \n",
    "Load saved grid & ngs cell booleans.\n",
    "\n",
    "'''\n",
    "\n",
    "pergrid = []\n",
    "perngs = []\n",
    "\n",
    "spergrid = []\n",
    "sperngs = []\n",
    "mpergrid = []\n",
    "\n",
    "for m, session in zip(mice,sessions):\n",
    "    \n",
    "    m_pergrid = []\n",
    "    m_cells = []\n",
    "    \n",
    "    for s in tdqm(session):\n",
    "        d = data[m][s]\n",
    "        \n",
    "        #load in data\n",
    "        rawdata_file = 'RAW_' + m + '_' + s + '.npy'\n",
    "        raw = np.load(load_folder + rawdata_file, allow_pickle=True)\n",
    "        cell_IDs = raw.item().get('cellsfil')\n",
    "        \n",
    "        #load all grid cell boolean\n",
    "        gridcell_file = 'gridcell__' + m + '_' + s + '.npy'\n",
    "        gridcell = np.load(save_folder + gridcell_file)\n",
    "        \n",
    "        ngscell_file = 'bordercell__' + m + '_' + s + '.npy'\n",
    "        ngscell = np.load(save_folder + ngscell_file)\n",
    "        \n",
    "        gridcell = gridcell.astype(bool)\n",
    "        ngscell = ngscell.astype(bool)\n",
    "        d['gridcell'] = gridcell\n",
    "        d['ngscell'] = ngscell\n",
    "        \n",
    "        print(m + ', ' + s + ' n grid, ngs cells: '+ str(np.sum(gridcell)) + ' , ' + str(np.sum(ngscell)))\n",
    "        perngs = np.append(perngs, 100*np.sum(ngscell)/len(cell_IDs))\n",
    "        pergrid = np.append(pergrid, 100*np.sum(gridcell)/len(cell_IDs))\n",
    "        \n",
    "        sperngs = np.append(sperngs, 100*np.sum(ngscell)/len(cell_IDs))\n",
    "        spergrid = np.append(spergrid, 100*np.sum(gridcell)/len(cell_IDs))\n",
    "        m_pergrid = np.append(m_pergrid, np.sum(gridcell))\n",
    "        m_cells = np.append(m_cells, len(cell_IDs))\n",
    "      \n",
    "    mpergrid = np.append(mpergrid, np.sum(m_pergrid)/np.sum(m_cells)*100)"
   ]
  },
  {
   "cell_type": "code",
   "execution_count": 23,
   "id": "9941bc81",
   "metadata": {},
   "outputs": [
    {
     "name": "stdout",
     "output_type": "stream",
     "text": [
      "Mean, SEM Grid Cell %; Mean, Sem NGS Cell %\n",
      "14.8296889586848 0.6177677242640354 15.167797844277539 0.5583139064062825\n"
     ]
    },
    {
     "data": {
      "image/png": "[encoded data removed]",
      "text/plain": [
       "<Figure size 500x250 with 2 Axes>"
      ]
     },
     "metadata": {},
     "output_type": "display_data"
    }
   ],
   "source": [
    "''' Examine grid & NGS cell densities quickly as a sanity check'''\n",
    "\n",
    "# Assess distribution of grid/ngs cell densities\n",
    "print('Mean, SEM Grid Cell %; Mean, Sem NGS Cell %')\n",
    "print(np.mean(pergrid), stats.sem(pergrid), np.mean(perngs), stats.sem(perngs))\n",
    "\n",
    "#plot grid vs. ngs cell % distributions\n",
    "fig, ax = plt.subplots(1,2,figsize = (5,2.5), sharey = True)\n",
    "ax[0].hist(pergrid, bins = np.arange(0,50,2), edgecolor = 'black',alpha = 0.5, color = 'C0')\n",
    "ax[0].set_title('Sessions vs. Grid Cell %')\n",
    "ax[0].set_ylabel('Number of Sessions')\n",
    "ax[0].set_xlabel('Grid Cell %')\n",
    "\n",
    "ax[1].hist(perngs, bins = np.arange(0,50,2), edgecolor = 'black',alpha = 0.5, color = 'C0')\n",
    "ax[1].set_title('Sessions vs. NGS Cell %')\n",
    "ax[1].set_xlabel('NGS Cell %')\n",
    "\n",
    "plt.show()"
   ]
  },
  {
   "cell_type": "code",
   "execution_count": 24,
   "id": "2878b93c",
   "metadata": {},
   "outputs": [
    {
     "name": "stdout",
     "output_type": "stream",
     "text": [
      "['Y20' 'Y21' 'Y22' 'Y23' 'Y24' 'Y25' 'Y26' 'Y27' 'Y28'] ['MA10F' 'MA1F' 'MA2F' 'MA3M' 'MA4M' 'MA5M' 'MA6M' 'MA7M' 'MA8F' 'MA9F'] ['A14' 'A15' 'A16' 'A17' 'A18' 'A19' 'A20' 'A22' 'A23' 'A24']\n",
      "9 10 10\n",
      "54 58 55\n"
     ]
    }
   ],
   "source": [
    "'''Get Indices of Stored Session, Animal Data Mice by Age Group'''\n",
    "age_ind = []\n",
    "ma_ind = []\n",
    "y_ind = []\n",
    "age_sind = []\n",
    "ma_sind = []\n",
    "y_sind = []\n",
    "\n",
    "s_count = 0\n",
    "for m, s in zip(mice, sessions):\n",
    "    start = s_count\n",
    "    end = len(s) + s_count\n",
    "\n",
    "    if m in all_aged_mice:\n",
    "        age_ind = np.append(age_ind, (np.where(mice == m)[0]))\n",
    "        age_sind = np.append(age_sind, np.arange(start, end, 1))\n",
    "    elif m in all_MA_mice:\n",
    "        ma_ind = np.append(ma_ind, (np.where(mice == m)[0]))\n",
    "        ma_sind = np.append(ma_sind, np.arange(start, end, 1))\n",
    "    else:\n",
    "        y_ind = np.append(y_ind, (np.where(mice == m)[0]))\n",
    "        y_sind = np.append(y_sind, np.arange(start, end, 1))\n",
    "                            \n",
    "    s_count += len(s)\n",
    "    \n",
    "age_ind = age_ind.astype(int)\n",
    "ma_ind = ma_ind.astype(int)\n",
    "y_ind = y_ind.astype(int)\n",
    "age_sind = age_sind.astype(int)\n",
    "ma_sind = ma_sind.astype(int)\n",
    "y_sind = y_sind.astype(int)\n",
    "\n",
    "print(mice[y_ind], mice[ma_ind], mice[age_ind])\n",
    "print(len(mice[y_ind]), len(mice[ma_ind]), len(mice[age_ind]))\n",
    "print(len(y_sind), len(ma_sind), len(age_sind))\n",
    "Nold = len(mice[age_ind])\n",
    "Nma = len(mice[ma_ind])\n",
    "Nyoung = len(mice[y_ind])"
   ]
  },
  {
   "cell_type": "code",
   "execution_count": 25,
   "id": "029c6fa6",
   "metadata": {},
   "outputs": [],
   "source": [
    "''' Define ColorMaps for Session & Animal Boxplots '''\n",
    "import matplotlib.pylab as pl\n",
    "import matplotlib.lines as mlines\n",
    "\n",
    "col_animal_old = pl.cm.Oranges([np.linspace(0.2,0.9,10)])\n",
    "col_animal_MA = pl.cm.Greens([np.linspace(0.2,0.9,10)])\n",
    "col_animal_young = pl.cm.Blues([np.linspace(0.2,0.9,9)])\n",
    "col_animal = [col_animal_young, col_animal_MA, col_animal_old]\n",
    "\n",
    "col_session_young = []\n",
    "col_session_MA = []\n",
    "col_session_old = []\n",
    "\n",
    "for m, session in zip(mice, sessions):\n",
    "    for s in range(0,len(session)):\n",
    "        \n",
    "        if m in SM_aged_mice:\n",
    "            idx = np.where(mice == m)[0][0] \n",
    "            col_session_old.append(col_animal[2][0][idx])           \n",
    "        elif m in SM_MA_mice:\n",
    "            idx = np.where(mice == m)[0][0] - Nold\n",
    "            col_session_MA.append(col_animal[1][0][idx])\n",
    "        else:\n",
    "            idx = np.where(mice == m)[0][0] - (Nold + Nma)\n",
    "            col_session_young.append(col_animal[0][0][idx])\n",
    "\n",
    "col_session = [col_session_young, col_session_MA, col_session_old]\n",
    "label_mice = ['Y20', 'Y21', 'Y22', 'Y23', 'Y24', 'Y25', 'Y26', 'Y27', 'Y28', \"\",\n",
    "              'MA10F', 'MA1F', 'MA2F', 'MA3M', 'MA4M', 'MA5M', 'MA6M', 'MA7M', 'MA8F', 'MA9F',\n",
    "              'A14', 'A15', 'A16', 'A17', 'A18', 'A19', 'A20', 'A22', 'A23', 'A24']\n",
    "\n",
    "# set up handles\n",
    "from itertools import repeat\n",
    "per99 = [mpergrid[y_ind], mpergrid[ma_ind], mpergrid[age_ind]]\n",
    "handles = []\n",
    "\n",
    "for i in range(len(per99)):\n",
    "    for c in col_animal[i][0]:\n",
    "        dot = mlines.Line2D([],[], color = c, marker ='o', linestyle = 'None', markersize = 8)\n",
    "        handles.append(dot)\n",
    "        \n",
    "        if c[0] == col_animal[0][0][8][0]: # adds white space so columns are color sorted\n",
    "            l = mlines.Line2D([0],[0],color=\"w\")\n",
    "            handles.append(l)"
   ]
  },
  {
   "cell_type": "markdown",
   "id": "6a34af1c",
   "metadata": {},
   "source": [
    "# Plot figures verifying classification of grid vs. ngs cells"
   ]
  },
  {
   "cell_type": "markdown",
   "id": "22030dc7",
   "metadata": {},
   "source": [
    "Figure 2a-e & Figure S3a-h. Not required to run subsequent sections of this notebook."
   ]
  },
  {
   "cell_type": "code",
   "execution_count": null,
   "id": "3a5384dc",
   "metadata": {},
   "outputs": [],
   "source": [
    "''' Sequentially Plot Example Grid Cell Rasters (Figure 2a)'''\n",
    "\n",
    "switches = [-20, -80]\n",
    "colors = ['xkcd:pink','xkcd:blue']\n",
    "labels = ['Context A','Context B']\n",
    "CLU_W = 3\n",
    "\n",
    "from matplotlib.lines import Line2D\n",
    "from copy import copy\n",
    "count = 0\n",
    "cellcount = 0\n",
    "\n",
    "ex_mice = ['Y27','MA1F','A19'] # mouse names for Fig 2 / S3 examples\n",
    "ex_sessions = ['021623_record1','022123_record6','102322_record1','102822_record6',\n",
    "               '012723_record2','020123_record7'] #list of sssions\n",
    "\n",
    "ex_gridcells = [875,144,100,1098,189,1132]\n",
    "minimalistbool = [True,True,True,True,False,True]\n",
    "sesh = [1,6,1,6,1,6]\n",
    "cols = ['C1','C1','C2','C2','C0','C0']\n",
    "\n",
    "for m, session in zip(mice,sessions):\n",
    "    \n",
    "    if m not in ex_mice:\n",
    "        continue\n",
    "    \n",
    "    for s in tdqm(session):\n",
    "        \n",
    "        if s not in ex_sessions:\n",
    "            continue \n",
    "            \n",
    "        d = data[m][s]\n",
    "        \n",
    "        #load in data\n",
    "        rawdata_file = 'RAW_' + m + '_' + s + '.npy'\n",
    "        behavior_file = 'BEHAVIOR_' + m + '_' + s + '.npy'\n",
    "        spikes_file = 'SPIKES_' + m + '_' + s +'.npy'\n",
    "        \n",
    "        raw = np.load(load_folder + rawdata_file, allow_pickle=True)\n",
    "        cell_IDs = raw.item().get('cellsfil')\n",
    "        behaviorfil = np.load(load_folder + behavior_file, allow_pickle=False)\n",
    "        Y = np.load(load_folder + spikes_file, allow_pickle=False) #pre-filtered for speeds >2cm/s, position-corrected spikes, 20 ms timebins\n",
    "\n",
    "        posx = behaviorfil[:,0]\n",
    "        reward = raw.item().get('reward')\n",
    "        trialinfo = raw.item().get('trialinfo')\n",
    "        left = trialinfo['left']\n",
    "        reward['trials'] = np.arange(0,len(reward['trials']),1)\n",
    "        rawtrialfil = raw.item().get('trialfil')\n",
    "        trial = behaviorfil[:,2]\n",
    "    \n",
    "        # Find skipped trials\n",
    "        try:\n",
    "            _ = raw.item().get('correctedtrial').shape\n",
    "            skippedtrials = get.find_skipped(trial, max_trial_num = 220)\n",
    "        except:\n",
    "            skippedtrials = []\n",
    "\n",
    "        trials = np.unique(trial)\n",
    "        alltrial = np.arange(0, 220 ,1)\n",
    "\n",
    "        # Sort trials by context, find sorted skipped trials, num dark skipped trials\n",
    "        leftsort, allcopy = get.contextsortedtrials(alltrial, left, alt_idx = 140)\n",
    "        \n",
    "        newskippedtrials = []\n",
    "        for z in skippedtrials:\n",
    "            newskippedtrials = np.append(newskippedtrials, np.where(allcopy == z)[0][0])\n",
    "\n",
    "        ndarkskipped = 0\n",
    "        for z in newskippedtrials:\n",
    "            if z < 20: \n",
    "                ndarkskipped += 1\n",
    "                \n",
    "        #adjust trialfil so that sorted trials are skipped instead\n",
    "        skippedrawtrialfil = get.sortedtrialbyframe(rawtrialfil, trial, newskippedtrials)\n",
    "        numtrial = np.unique(skippedrawtrialfil)\n",
    "\n",
    "        #sort spike train & position on VR frames by context during alternation\n",
    "        posxcopy = []\n",
    "        allcopy= np.append(allcopy, 220)\n",
    "        for t in allcopy:\n",
    "            obs_idx = np.where(trial == t)[0]\n",
    "            posxcopy = np.append(posxcopy, posx[obs_idx])\n",
    "            if t == 0:\n",
    "                Z = Y[obs_idx,:]\n",
    "            else: \n",
    "                Z = np.append(Z, Y[obs_idx,:], axis = 0)\n",
    "\n",
    "        #binary context vector, excluding skipped trials, dark, & gain periods, 1 = Map A\n",
    "        context = []\n",
    "        for i, t in enumerate(np.unique(skippedrawtrialfil)):\n",
    "            if t < 220:\n",
    "                context = np.append(context, leftsort[t.astype(int)])\n",
    "\n",
    "        #Reverse y-axis\n",
    "        skippedrawtrialfil = -1 * skippedrawtrialfil\n",
    "        newskippedtrials = -1 * newskippedtrials\n",
    "\n",
    "        ## PLOT RASTER w/ CONTEXT LABEL\n",
    "        c = ex_gridcells[cellcount]\n",
    "        minimalist = minimalistbool[cellcount]\n",
    "        col = cols[cellcount]\n",
    "        \n",
    "        widths = [20,1]\n",
    "        heights = [1]\n",
    "        fig = plt.figure(figsize = (0.8,3))\n",
    "        gs = gridspec.GridSpec(ncols = 2, nrows = 1, figure=fig, height_ratios = heights, width_ratios = widths)\n",
    "\n",
    "        sdx = Z[:, np.where(cell_IDs == c)[0][0]].astype(bool)\n",
    "        ax1 = fig.add_subplot(gs[0])\n",
    "        ax1.plot(posxcopy[sdx], skippedrawtrialfil[sdx], '.', color = 'k', markersize=0.2, alpha=0.4)\n",
    "        ax1.set_xlim([0, 400])\n",
    "        ax1.set_ylim([np.min(skippedrawtrialfil),0])\n",
    "        ax1.set_yticks([-220,-200,-180,-160,-140,-120,-100,-80,-60,-40,-20,0])\n",
    "        ax1.set_yticklabels([220,200,180,160,140,120,100,80,60,40,20,0])\n",
    "        ax1.tick_params(labelsize = 8)\n",
    "        ax1.set_title(str(m) + '_' + str(sesh[cellcount]) + ', c.' + str(c), fontsize = 10, color = col)\n",
    "\n",
    "        if minimalist == False:\n",
    "            ax1.set_ylabel('Trials (n)', fontsize = 9)\n",
    "        else:\n",
    "            ax1.set_yticklabels([])\n",
    "\n",
    "        #label skipped trials for transparency\n",
    "        for z in newskippedtrials:\n",
    "            ax1.hlines(z,0,400, color = 'lightgrey', linewidth = 0.5, linestyles = 'dotted')\n",
    "\n",
    "        #label dark trials & trial context at right\n",
    "        ax2 = fig.add_subplot(gs[1], sharey = ax1)\n",
    "        for i, t in enumerate(context.astype(bool)):\n",
    "            if i >= 20:\n",
    "                if i in newskippedtrials:\n",
    "                    ax2.vlines(0, -1*i, -1*i + 1, colors='lightgrey', lw= CLU_W, linestyles= 'solid', alpha = 1)\n",
    "                else:\n",
    "                    if t == True:\n",
    "                        ax2.vlines(0, -1*i, -1*i + 1, colors='xkcd:pink', lw= CLU_W, linestyles= 'solid', alpha = 1)\n",
    "                    else:\n",
    "                        ax2.vlines(0, -1*i, -1*i + 1, colors='xkcd:blue', lw= CLU_W, linestyles='solid', alpha = 1)\n",
    "            else: \n",
    "                ax2.vlines(0, -1*i, -1*i + 1, colors='k', lw= CLU_W, linestyles='solid', alpha = 1)\n",
    "\n",
    "        ax2.axis('off') \n",
    "        fig.savefig(save_folder + str(m) + '_' + str(s) + '_' + str(c) + '2A.png', dpi = 400)\n",
    "        fig.savefig(save_folder + str(m) + '_' + str(s) + '_' + str(c) + '2A.svg', dpi = 400)\n",
    "        plt.show()\n",
    "        \n",
    "        cellcount += 1"
   ]
  },
  {
   "cell_type": "code",
   "execution_count": null,
   "id": "4ac917cf",
   "metadata": {},
   "outputs": [],
   "source": [
    "''' Sequentially Plot Example Non-Grid Spatial Cell Rasters (Figure S3a)'''\n",
    "\n",
    "switches = [-20, -80]\n",
    "colors = ['xkcd:pink','xkcd:blue']\n",
    "labels = ['Context A','Context B']\n",
    "CLU_W = 3\n",
    "\n",
    "from matplotlib.lines import Line2D\n",
    "from copy import copy\n",
    "count = 0\n",
    "cellcount = 0\n",
    "\n",
    "ex_mice = ['Y27','MA1F','A19'] # mouse names for Fig 2 / S3 examples\n",
    "ex_sessions = ['021623_record1','022123_record6','102322_record1','102822_record6',\n",
    "               '012723_record2','020123_record7'] #list of sssions\n",
    "\n",
    "ex_ngscells = [383,746,163,1095,291,963]\n",
    "minimalistbool = [True,True,True,True,False,True]\n",
    "sesh = [1,6,1,6,1,6]\n",
    "cols = ['C1','C1','C2','C2','C0','C0']\n",
    "\n",
    "for m, session in zip(mice,sessions):\n",
    "    \n",
    "    if m not in ex_mice:\n",
    "        continue\n",
    "    \n",
    "    for s in tdqm(session):\n",
    "        \n",
    "        if s not in ex_sessions:\n",
    "            continue \n",
    "            \n",
    "        d = data[m][s]\n",
    "        \n",
    "        #load in data\n",
    "        rawdata_file = 'RAW_' + m + '_' + s + '.npy'\n",
    "        behavior_file = 'BEHAVIOR_' + m + '_' + s + '.npy'\n",
    "        spikes_file = 'SPIKES_' + m + '_' + s +'.npy'\n",
    "        \n",
    "        raw = np.load(load_folder + rawdata_file, allow_pickle=True)\n",
    "        cell_IDs = raw.item().get('cellsfil')\n",
    "        behaviorfil = np.load(load_folder + behavior_file, allow_pickle=False)\n",
    "        Y = np.load(load_folder + spikes_file, allow_pickle=False) #pre-filtered for speeds >2cm/s, position-corrected spikes, 20 ms timebins\n",
    "\n",
    "        posx = behaviorfil[:,0]\n",
    "        reward = raw.item().get('reward')\n",
    "        trialinfo = raw.item().get('trialinfo')\n",
    "        left = trialinfo['left']\n",
    "        reward['trials'] = np.arange(0,len(reward['trials']),1)\n",
    "    \n",
    "        # Find skipped trials\n",
    "        try:\n",
    "            _ = raw.item().get('correctedtrial').shape\n",
    "            skippedtrials = get.find_skipped(trial, max_trial_num = 220)\n",
    "        except:\n",
    "            skippedtrials = []\n",
    "\n",
    "        trials = np.unique(trial)\n",
    "        alltrial = np.arange(0, 220 ,1)\n",
    "\n",
    "        # Sort trials by context, find sorted skipped trials, num dark skipped trials\n",
    "        leftsort, allcopy = get.contextsortedtrials(alltrial, left, alt_idx = 140)\n",
    "        \n",
    "        newskippedtrials = []\n",
    "        for z in skippedtrials:\n",
    "            newskippedtrials = np.append(newskippedtrials, np.where(allcopy == z)[0][0])\n",
    "\n",
    "        ndarkskipped = 0\n",
    "        for z in newskippedtrials:\n",
    "            if z < 20: \n",
    "                ndarkskipped += 1\n",
    "                \n",
    "        #adjust trialfil so that sorted trials are skipped instead\n",
    "        skippedrawtrialfil = get.sortedtrialbyframe(rawtrialfil, trial, newskippedtrials)\n",
    "        numtrial = np.unique(skippedrawtrialfil)\n",
    "\n",
    "        #sort spike train & position on VR frames by context during alternation\n",
    "        posxcopy = []\n",
    "        allcopy= np.append(allcopy, 220)\n",
    "        for t in allcopy:\n",
    "            obs_idx = np.where(trial == t)[0]\n",
    "            posxcopy = np.append(posxcopy, posx[obs_idx])\n",
    "            if t == 0:\n",
    "                Z = Y[obs_idx,:]\n",
    "            else: \n",
    "                Z = np.append(Z, Y[obs_idx,:], axis = 0)\n",
    "\n",
    "        #binary context vector, excluding skipped trials, dark, & gain periods, 1 = Map A\n",
    "        context = []\n",
    "        for i, t in enumerate(np.unique(skippedrawtrialfil)):\n",
    "            if t < 220:\n",
    "                context = np.append(context, leftsort[t.astype(int)])\n",
    "\n",
    "        #Reverse y-axis\n",
    "        skippedrawtrialfil = -1 * skippedrawtrialfil\n",
    "        newskippedtrials = -1 * newskippedtrials\n",
    "\n",
    "        ## PLOT RASTER w/ CONTEXT LABEL\n",
    "        c = ex_ngscells[cellcount]\n",
    "        minimalist = minimalistbool[cellcount]\n",
    "        col = cols[cellcount]\n",
    "        \n",
    "        widths = [20,1]\n",
    "        heights = [1]\n",
    "        fig = plt.figure(figsize = (0.8,3))\n",
    "        gs = gridspec.GridSpec(ncols = 2, nrows = 1, figure=fig, height_ratios = heights, width_ratios = widths)\n",
    "\n",
    "        sdx = Z[:, np.where(cell_IDs == c)[0][0]].astype(bool)\n",
    "        ax1 = fig.add_subplot(gs[0])\n",
    "        ax1.plot(posxcopy[sdx], skippedrawtrialfil[sdx], '.', color = 'k', markersize=0.2, alpha=0.4)\n",
    "        ax1.set_xlim([0, 400])\n",
    "        ax1.set_ylim([np.min(skippedrawtrialfil),0])\n",
    "        ax1.set_yticks([-220,-200,-180,-160,-140,-120,-100,-80,-60,-40,-20,0])\n",
    "        ax1.set_yticklabels([220,200,180,160,140,120,100,80,60,40,20,0])\n",
    "        ax1.tick_params(labelsize = 8)\n",
    "        ax1.set_title(str(m) + '_' + str(sesh[cellcount]) + ', c.' + str(c), fontsize = 10, color = col)\n",
    "\n",
    "        if minimalist == False:\n",
    "            ax1.set_ylabel('Trials (n)', fontsize = 9)\n",
    "        else:\n",
    "            ax1.set_yticklabels([])\n",
    "\n",
    "        #label skipped trials for transparency\n",
    "        for z in newskippedtrials:\n",
    "            ax1.hlines(z,0,400, color = 'lightgrey', linewidth = 0.5, linestyles = 'dotted')\n",
    "\n",
    "        #label dark trials & trial context at right\n",
    "        ax2 = fig.add_subplot(gs[1], sharey = ax1)\n",
    "        for i, t in enumerate(context.astype(bool)):\n",
    "            if i >= 20:\n",
    "                if i in newskippedtrials:\n",
    "                    ax2.vlines(0, -1*i, -1*i + 1, colors='lightgrey', lw= CLU_W, linestyles= 'solid', alpha = 1)\n",
    "                else:\n",
    "                    if t == True:\n",
    "                        ax2.vlines(0, -1*i, -1*i + 1, colors='xkcd:pink', lw= CLU_W, linestyles= 'solid', alpha = 1)\n",
    "                    else:\n",
    "                        ax2.vlines(0, -1*i, -1*i + 1, colors='xkcd:blue', lw= CLU_W, linestyles='solid', alpha = 1)\n",
    "            else: \n",
    "                ax2.vlines(0, -1*i, -1*i + 1, colors='k', lw= CLU_W, linestyles='solid', alpha = 1)\n",
    "\n",
    "        ax2.axis('off') \n",
    "        fig.savefig(save_folder + str(m) + '_' + str(s) + '_' + str(c) + 'S3A.png', dpi = 400)\n",
    "        fig.savefig(save_folder + str(m) + '_' + str(s) + '_' + str(c) + 'S3A.svg', dpi = 400)\n",
    "        plt.show()\n",
    "        \n",
    "        cellcount += 1"
   ]
  },
  {
   "cell_type": "code",
   "execution_count": 29,
   "id": "d1748ed8",
   "metadata": {},
   "outputs": [
    {
     "data": {
      "application/vnd.jupyter.widget-view+json": {
       "model_id": "74681d9cf8ac4664a187ca3ee44c02b4",
       "version_major": 2,
       "version_minor": 0
      },
      "text/plain": [
       "  0%|          | 0/6 [00:00<?, ?it/s]"
      ]
     },
     "metadata": {},
     "output_type": "display_data"
    },
    {
     "data": {
      "image/png": "[encoded data removed]",
      "text/plain": [
       "<Figure size 80x40 with 1 Axes>"
      ]
     },
     "metadata": {},
     "output_type": "display_data"
    },
    {
     "data": {
      "image/png": "[encoded data removed]",
      "text/plain": [
       "<Figure size 80x40 with 1 Axes>"
      ]
     },
     "metadata": {},
     "output_type": "display_data"
    },
    {
     "data": {
      "application/vnd.jupyter.widget-view+json": {
       "model_id": "87831cd753c2431bad581da1ed5a21ea",
       "version_major": 2,
       "version_minor": 0
      },
      "text/plain": [
       "  0%|          | 0/6 [00:00<?, ?it/s]"
      ]
     },
     "metadata": {},
     "output_type": "display_data"
    },
    {
     "data": {
      "image/png": "[encoded data removed]",
      "text/plain": [
       "<Figure size 80x40 with 1 Axes>"
      ]
     },
     "metadata": {},
     "output_type": "display_data"
    },
    {
     "data": {
      "image/png": "[encoded data removed]",
      "text/plain": [
       "<Figure size 80x40 with 1 Axes>"
      ]
     },
     "metadata": {},
     "output_type": "display_data"
    },
    {
     "data": {
      "application/vnd.jupyter.widget-view+json": {
       "model_id": "f5101df8ace543ea9ffb63efd174b45e",
       "version_major": 2,
       "version_minor": 0
      },
      "text/plain": [
       "  0%|          | 0/6 [00:00<?, ?it/s]"
      ]
     },
     "metadata": {},
     "output_type": "display_data"
    },
    {
     "data": {
      "image/png": "[encoded data removed]",
      "text/plain": [
       "<Figure size 80x40 with 1 Axes>"
      ]
     },
     "metadata": {},
     "output_type": "display_data"
    },
    {
     "data": {
      "image/png": "[encoded data removed]",
      "text/plain": [
       "<Figure size 80x40 with 1 Axes>"
      ]
     },
     "metadata": {},
     "output_type": "display_data"
    }
   ],
   "source": [
    "''' Plot dark FR autocorrelation of example grid cells (Figure 2b)'''\n",
    "\n",
    "cellcount = 0\n",
    "\n",
    "for m, session in zip(mice,sessions):\n",
    "    \n",
    "    if m not in ex_mice:\n",
    "        continue\n",
    "    \n",
    "    for s in tdqm(session):\n",
    "        d = data[m][s]\n",
    "    \n",
    "        if s not in ex_sessions:\n",
    "            continue \n",
    "            \n",
    "        #load in data\n",
    "        rawdata_file = 'RAW_' + m + '_' + s + '.npy'\n",
    "        behavior_file = 'BEHAVIOR_' + m + '_' + s + '.npy'\n",
    "        spikes_file = 'SPIKES_' + m + '_' + s +'.npy'\n",
    "\n",
    "        raw = np.load(load_folder + rawdata_file, allow_pickle=True)\n",
    "        cell_IDs = raw.item().get('cellsfil')\n",
    "        behaviorfil = np.load(load_folder + behavior_file, allow_pickle=False)\n",
    "        Y = np.load(load_folder + spikes_file, allow_pickle=False) #pre-filtered for speeds >2cm/s, position-corrected spikes, 20 ms timebins\n",
    "\n",
    "        posxfil = behaviorfil[:,0]\n",
    "        trial = behaviorfil[:,2]\n",
    "        trials = np.unique(trial)\n",
    "        postfil = behaviorfil[:,3]\n",
    "        cell_IDs = raw.item().get('cellsfil')\n",
    "\n",
    "        #get stuff you will need later to shuffle & re-filter spike times to confirm putative grid spatial cells\n",
    "        sp = raw.item().get('sp')\n",
    "        spiket = sp['st'].copy()\n",
    "        cluster_id = sp['clu'].copy()\n",
    "        posx = raw.item().get('posx')\n",
    "        post = raw.item().get('post')\n",
    "        rawspeed = raw.item().get('speed')\n",
    "\n",
    "        dt = np.unique(np.round(np.diff(post),4))\n",
    "        if len(dt) > 1: # discard duplicate frame entries if they occurred\n",
    "            dt = dt[dt != 0]\n",
    "            dt_to_trash = np.where(np.diff(post) == 0)[0]\n",
    "        else:\n",
    "            dt_to_trash = [] \n",
    "\n",
    "        # filter spikes & position frames by speed < 2cm/s or out of track limits \n",
    "        speed_to_trash = get.find(rawspeed < 2)\n",
    "        pos_to_trash = get.find((posx < 0) | (posx > 400))\n",
    "        trash_idx = np.unique(np.concatenate((dt_to_trash, speed_to_trash, pos_to_trash)))\n",
    "        keep_idx = np.setdiff1d(np.arange(len(rawspeed)), trash_idx)\n",
    "\n",
    "        #get dark-only, normalized, smoothed spatial map & reshape into continuous vector for each cell\n",
    "        FR, _ , _ = ps.tuning_curve_bytrial(posxfil, trial, Y, dt, sigma = 2, b, smooth=True, normalize=True, occupancy=True)\n",
    "        stop_idx = np.where(trials == n_dark)[0][0]\n",
    "        FR = FR[:stop_idx,:,:]\n",
    "        n_trials = FR.shape[0]\n",
    "        n_pos = FR.shape[1]\n",
    "        n_cells = FR.shape[2]\n",
    "        FR = (np.reshape(FR, (n_trials*n_pos, n_cells))).T\n",
    "\n",
    "        if m in SM_aged_mice:\n",
    "            col = 'C1'\n",
    "        elif m in SM_MA_mice:\n",
    "            col = 'C2'\n",
    "        else:\n",
    "            col = 'C0'\n",
    "\n",
    "        # for example cell, calc autocorrelation & plot\n",
    "        c = ex_gridcells[cellcount]\n",
    "        col = cols[cellcount]\n",
    "        sdx = np.where(cell_IDs == c)[0][0]\n",
    "        autocorrelation = get.autocorr(FR[sdx,:],lags)\n",
    "        normauto = autocorrelation / autocorrelation[0]\n",
    "\n",
    "        fig,ax = plt.subplots(figsize = (0.8,0.4))\n",
    "        ax.plot(lags, normauto, color = col, linewidth = 0.75)\n",
    "        ax.set_title(str(m) + '_' + str(sesh[cellcount]) + ', c.' + str(c), fontsize = 9, color = col)\n",
    "        ax.set_xlabel('Lag',fontsize = 9)\n",
    "        ax.set_ylabel('Autocorr.',fontsize = 9)\n",
    "        ax.set_xlim([0,400])\n",
    "        ax.set_ylim([-0.2, 0.8])\n",
    "        ax.set_yticks([0, 0.4, 0.8])\n",
    "        ax.tick_params(labelsize = 8)\n",
    "        plt.savefig(save_folder + str(m) + '_' + str(s) + '_' + str(c) + '_' + '2B.png', dpi = 400)\n",
    "        plt.savefig(save_folder + str(m) + '_' + str(s) + '_' + str(c) + '_' + '2B.svg', dpi = 400)\n",
    "        plt.show()\n",
    "\n",
    "        cellcount += 1    "
   ]
  },
  {
   "cell_type": "code",
   "execution_count": 30,
   "id": "39b84d2c",
   "metadata": {},
   "outputs": [
    {
     "data": {
      "application/vnd.jupyter.widget-view+json": {
       "model_id": "27f8bb311d6244a6b1fa8e76596129e8",
       "version_major": 2,
       "version_minor": 0
      },
      "text/plain": [
       "  0%|          | 0/6 [00:00<?, ?it/s]"
      ]
     },
     "metadata": {},
     "output_type": "display_data"
    },
    {
     "data": {
      "image/png": "[encoded data removed]",
      "text/plain": [
       "<Figure size 80x40 with 1 Axes>"
      ]
     },
     "metadata": {},
     "output_type": "display_data"
    },
    {
     "data": {
      "image/png": "[encoded data removed]",
      "text/plain": [
       "<Figure size 80x40 with 1 Axes>"
      ]
     },
     "metadata": {},
     "output_type": "display_data"
    },
    {
     "data": {
      "application/vnd.jupyter.widget-view+json": {
       "model_id": "dc812837388c42bc9deb0c16e90f2ddd",
       "version_major": 2,
       "version_minor": 0
      },
      "text/plain": [
       "  0%|          | 0/6 [00:00<?, ?it/s]"
      ]
     },
     "metadata": {},
     "output_type": "display_data"
    },
    {
     "data": {
      "image/png": "[encoded data removed]",
      "text/plain": [
       "<Figure size 80x40 with 1 Axes>"
      ]
     },
     "metadata": {},
     "output_type": "display_data"
    },
    {
     "data": {
      "image/png": "[encoded data removed]",
      "text/plain": [
       "<Figure size 80x40 with 1 Axes>"
      ]
     },
     "metadata": {},
     "output_type": "display_data"
    },
    {
     "data": {
      "application/vnd.jupyter.widget-view+json": {
       "model_id": "3720c2233a724bb0a7d6ebb2a92fe793",
       "version_major": 2,
       "version_minor": 0
      },
      "text/plain": [
       "  0%|          | 0/6 [00:00<?, ?it/s]"
      ]
     },
     "metadata": {},
     "output_type": "display_data"
    },
    {
     "data": {
      "image/png": "[encoded data removed]",
      "text/plain": [
       "<Figure size 80x40 with 1 Axes>"
      ]
     },
     "metadata": {},
     "output_type": "display_data"
    },
    {
     "data": {
      "image/png": "[encoded data removed]",
      "text/plain": [
       "<Figure size 80x40 with 1 Axes>"
      ]
     },
     "metadata": {},
     "output_type": "display_data"
    }
   ],
   "source": [
    "''' Plot dark FR autocorrelation of example non-grid spatial cells (Figure S3b)'''\n",
    "\n",
    "cellcount = 0\n",
    "\n",
    "for m, session in zip(mice,sessions):\n",
    "    \n",
    "    if m not in ex_mice:\n",
    "        continue\n",
    "    \n",
    "    for s in tdqm(session):\n",
    "        d = data[m][s]\n",
    "    \n",
    "        if s not in ex_sessions:\n",
    "            continue \n",
    "            \n",
    "        #load in data\n",
    "        rawdata_file = 'RAW_' + m + '_' + s + '.npy'\n",
    "        behavior_file = 'BEHAVIOR_' + m + '_' + s + '.npy'\n",
    "        spikes_file = 'SPIKES_' + m + '_' + s +'.npy'\n",
    "\n",
    "        raw = np.load(load_folder + rawdata_file, allow_pickle=True)\n",
    "        cell_IDs = raw.item().get('cellsfil')\n",
    "        behaviorfil = np.load(load_folder + behavior_file, allow_pickle=False)\n",
    "        Y = np.load(load_folder + spikes_file, allow_pickle=False) #pre-filtered for speeds >2cm/s, position-corrected spikes, 20 ms timebins\n",
    "\n",
    "        posxfil = behaviorfil[:,0]\n",
    "        trial = behaviorfil[:,2]\n",
    "        trials = np.unique(trial)\n",
    "        postfil = behaviorfil[:,3]\n",
    "        cell_IDs = raw.item().get('cellsfil')\n",
    "\n",
    "        #get stuff you will need later to shuffle & re-filter spike times to confirm putative grid spatial cells\n",
    "        sp = raw.item().get('sp')\n",
    "        spiket = sp['st'].copy()\n",
    "        cluster_id = sp['clu'].copy()\n",
    "        posx = raw.item().get('posx')\n",
    "        post = raw.item().get('post')\n",
    "        rawspeed = raw.item().get('speed')\n",
    "\n",
    "        dt = np.unique(np.round(np.diff(post),4))\n",
    "        if len(dt) > 1: # discard duplicate frame entries if they occurred\n",
    "            dt = dt[dt != 0]\n",
    "            dt_to_trash = np.where(np.diff(post) == 0)[0]\n",
    "        else:\n",
    "            dt_to_trash = [] \n",
    "\n",
    "        # filter spikes & position frames by speed < 2cm/s or out of track limits \n",
    "        speed_to_trash = get.find(rawspeed < 2)\n",
    "        pos_to_trash = get.find((posx < 0) | (posx > 400))\n",
    "        trash_idx = np.unique(np.concatenate((dt_to_trash, speed_to_trash, pos_to_trash)))\n",
    "        keep_idx = np.setdiff1d(np.arange(len(rawspeed)), trash_idx)\n",
    "\n",
    "        #get dark-only, normalized, smoothed spatial map & reshape into continuous vector for each cell\n",
    "        FR, _ , _ = ps.tuning_curve_bytrial(posxfil, trial, Y, dt, sigma = 2, b, smooth=True, normalize=True, occupancy=True)\n",
    "        stop_idx = np.where(trials == n_dark)[0][0]\n",
    "        FR = FR[:stop_idx,:,:]\n",
    "        n_trials = FR.shape[0]\n",
    "        n_pos = FR.shape[1]\n",
    "        n_cells = FR.shape[2]\n",
    "        FR = (np.reshape(FR, (n_trials*n_pos, n_cells))).T\n",
    "\n",
    "        if m in SM_aged_mice:\n",
    "            col = 'C1'\n",
    "        elif m in SM_MA_mice:\n",
    "            col = 'C2'\n",
    "        else:\n",
    "            col = 'C0'\n",
    "\n",
    "        # for example cell, calc autocorrelation & plot\n",
    "        c = ex_ngscells[cellcount]\n",
    "        col = cols[cellcount]\n",
    "        sdx = np.where(cell_IDs == c)[0][0]\n",
    "        autocorrelation = get.autocorr(FR[sdx,:],lags)\n",
    "        normauto = autocorrelation / autocorrelation[0]\n",
    "\n",
    "        fig, ax = plt.subplots(figsize = (0.8,0.4))\n",
    "        ax.plot(lags, normauto, color = col, linewidth = 0.75)\n",
    "        ax.set_title(str(m) + '_' + str(sesh[cellcount]) + ', c.' + str(c), fontsize = 9, color = col)\n",
    "        ax.set_xlabel('Lag',fontsize = 9)\n",
    "        ax.set_ylabel('Autocorr.',fontsize = 9)\n",
    "        ax.set_xlim([0,400])\n",
    "        ax.set_ylim([-0.2, 0.8])\n",
    "        ax.set_yticks([0, 0.4, 0.8])\n",
    "        ax.tick_params(labelsize = 8)\n",
    "        plt.savefig(save_folder + str(m) + '_' + str(s) + '_' + str(c) + '_' + 'S3B.png', dpi = 400)\n",
    "        plt.savefig(save_folder + str(m) + '_' + str(s) + '_' + str(c) + '_' + 'S3B.svg', dpi = 400)\n",
    "        plt.show()\n",
    "\n",
    "        cellcount += 1    "
   ]
  },
  {
   "cell_type": "code",
   "execution_count": 33,
   "id": "5907924e",
   "metadata": {
    "scrolled": true
   },
   "outputs": [
    {
     "data": {
      "application/vnd.jupyter.widget-view+json": {
       "model_id": "18fe927d7c224ddd80188ebcb94fa9df",
       "version_major": 2,
       "version_minor": 0
      },
      "text/plain": [
       "  0%|          | 0/3 [00:00<?, ?it/s]"
      ]
     },
     "metadata": {},
     "output_type": "display_data"
    },
    {
     "name": "stderr",
     "output_type": "stream",
     "text": [
      "C:\\Users\\Python\\Desktop\\GitHub\\Herber2024\\pipeline\\get_data.py:380: RuntimeWarning: invalid value encountered in divide\n",
      "  corr=np.correlate(xp,xp,'full')[len(x)-1:]/var/len(x)\n"
     ]
    },
    {
     "data": {
      "application/vnd.jupyter.widget-view+json": {
       "model_id": "d0bf891214864419918c698a893e674f",
       "version_major": 2,
       "version_minor": 0
      },
      "text/plain": [
       "  0%|          | 0/6 [00:00<?, ?it/s]"
      ]
     },
     "metadata": {},
     "output_type": "display_data"
    },
    {
     "data": {
      "application/vnd.jupyter.widget-view+json": {
       "model_id": "f3ecd2ab89e348ec98f6e68953b06e1a",
       "version_major": 2,
       "version_minor": 0
      },
      "text/plain": [
       "  0%|          | 0/4 [00:00<?, ?it/s]"
      ]
     },
     "metadata": {},
     "output_type": "display_data"
    },
    {
     "data": {
      "application/vnd.jupyter.widget-view+json": {
       "model_id": "522b13442f414d4e8fc57ca507dd5843",
       "version_major": 2,
       "version_minor": 0
      },
      "text/plain": [
       "  0%|          | 0/6 [00:00<?, ?it/s]"
      ]
     },
     "metadata": {},
     "output_type": "display_data"
    },
    {
     "data": {
      "application/vnd.jupyter.widget-view+json": {
       "model_id": "c3064731d5cd4cadb2812add1f9291f0",
       "version_major": 2,
       "version_minor": 0
      },
      "text/plain": [
       "  0%|          | 0/6 [00:00<?, ?it/s]"
      ]
     },
     "metadata": {},
     "output_type": "display_data"
    },
    {
     "data": {
      "application/vnd.jupyter.widget-view+json": {
       "model_id": "176887b6e9ba4cfeb792ccbad07bb275",
       "version_major": 2,
       "version_minor": 0
      },
      "text/plain": [
       "  0%|          | 0/6 [00:00<?, ?it/s]"
      ]
     },
     "metadata": {},
     "output_type": "display_data"
    },
    {
     "data": {
      "application/vnd.jupyter.widget-view+json": {
       "model_id": "af21527021d04884afd74b4ae2cefea7",
       "version_major": 2,
       "version_minor": 0
      },
      "text/plain": [
       "  0%|          | 0/6 [00:00<?, ?it/s]"
      ]
     },
     "metadata": {},
     "output_type": "display_data"
    },
    {
     "data": {
      "application/vnd.jupyter.widget-view+json": {
       "model_id": "5a23b2ec89a54b6dbbecdb5a8b793629",
       "version_major": 2,
       "version_minor": 0
      },
      "text/plain": [
       "  0%|          | 0/6 [00:00<?, ?it/s]"
      ]
     },
     "metadata": {},
     "output_type": "display_data"
    },
    {
     "data": {
      "application/vnd.jupyter.widget-view+json": {
       "model_id": "c50e61fd853247ddb6b056e45f3d1abb",
       "version_major": 2,
       "version_minor": 0
      },
      "text/plain": [
       "  0%|          | 0/6 [00:00<?, ?it/s]"
      ]
     },
     "metadata": {},
     "output_type": "display_data"
    },
    {
     "data": {
      "application/vnd.jupyter.widget-view+json": {
       "model_id": "242f06e7a4534108a6b3412554799e2f",
       "version_major": 2,
       "version_minor": 0
      },
      "text/plain": [
       "  0%|          | 0/6 [00:00<?, ?it/s]"
      ]
     },
     "metadata": {},
     "output_type": "display_data"
    },
    {
     "data": {
      "application/vnd.jupyter.widget-view+json": {
       "model_id": "69ceb6aa3d694685800924af39435030",
       "version_major": 2,
       "version_minor": 0
      },
      "text/plain": [
       "  0%|          | 0/6 [00:00<?, ?it/s]"
      ]
     },
     "metadata": {},
     "output_type": "display_data"
    },
    {
     "data": {
      "application/vnd.jupyter.widget-view+json": {
       "model_id": "e84dbf893cb34b489d89bb23590288d7",
       "version_major": 2,
       "version_minor": 0
      },
      "text/plain": [
       "  0%|          | 0/6 [00:00<?, ?it/s]"
      ]
     },
     "metadata": {},
     "output_type": "display_data"
    },
    {
     "data": {
      "application/vnd.jupyter.widget-view+json": {
       "model_id": "5fb0d6d1759f4966953a19d51d68ac0a",
       "version_major": 2,
       "version_minor": 0
      },
      "text/plain": [
       "  0%|          | 0/6 [00:00<?, ?it/s]"
      ]
     },
     "metadata": {},
     "output_type": "display_data"
    },
    {
     "data": {
      "application/vnd.jupyter.widget-view+json": {
       "model_id": "953d78cddc2e4c3da5a8be8523a3b290",
       "version_major": 2,
       "version_minor": 0
      },
      "text/plain": [
       "  0%|          | 0/6 [00:00<?, ?it/s]"
      ]
     },
     "metadata": {},
     "output_type": "display_data"
    },
    {
     "data": {
      "application/vnd.jupyter.widget-view+json": {
       "model_id": "cd2b3f1b32a34aeb85973d435bafe852",
       "version_major": 2,
       "version_minor": 0
      },
      "text/plain": [
       "  0%|          | 0/6 [00:00<?, ?it/s]"
      ]
     },
     "metadata": {},
     "output_type": "display_data"
    },
    {
     "data": {
      "application/vnd.jupyter.widget-view+json": {
       "model_id": "40621bbcca454cfbb35a7f4bc25304a7",
       "version_major": 2,
       "version_minor": 0
      },
      "text/plain": [
       "  0%|          | 0/6 [00:00<?, ?it/s]"
      ]
     },
     "metadata": {},
     "output_type": "display_data"
    },
    {
     "data": {
      "application/vnd.jupyter.widget-view+json": {
       "model_id": "bae0aa14b75f4c7a8c3074f20802441c",
       "version_major": 2,
       "version_minor": 0
      },
      "text/plain": [
       "  0%|          | 0/6 [00:00<?, ?it/s]"
      ]
     },
     "metadata": {},
     "output_type": "display_data"
    },
    {
     "data": {
      "application/vnd.jupyter.widget-view+json": {
       "model_id": "79381f5df28f4a799b4dd85dea23f713",
       "version_major": 2,
       "version_minor": 0
      },
      "text/plain": [
       "  0%|          | 0/4 [00:00<?, ?it/s]"
      ]
     },
     "metadata": {},
     "output_type": "display_data"
    },
    {
     "data": {
      "application/vnd.jupyter.widget-view+json": {
       "model_id": "4159b22bd25244469c39d5290c815198",
       "version_major": 2,
       "version_minor": 0
      },
      "text/plain": [
       "  0%|          | 0/6 [00:00<?, ?it/s]"
      ]
     },
     "metadata": {},
     "output_type": "display_data"
    },
    {
     "data": {
      "application/vnd.jupyter.widget-view+json": {
       "model_id": "2e5ae60a90564a15826d2e935da8663e",
       "version_major": 2,
       "version_minor": 0
      },
      "text/plain": [
       "  0%|          | 0/6 [00:00<?, ?it/s]"
      ]
     },
     "metadata": {},
     "output_type": "display_data"
    },
    {
     "data": {
      "application/vnd.jupyter.widget-view+json": {
       "model_id": "f7c7dbcff6444d1da337f0ec9d1f6542",
       "version_major": 2,
       "version_minor": 0
      },
      "text/plain": [
       "  0%|          | 0/6 [00:00<?, ?it/s]"
      ]
     },
     "metadata": {},
     "output_type": "display_data"
    },
    {
     "data": {
      "application/vnd.jupyter.widget-view+json": {
       "model_id": "8bfdc7785e4b4f23962647a885d01d86",
       "version_major": 2,
       "version_minor": 0
      },
      "text/plain": [
       "  0%|          | 0/6 [00:00<?, ?it/s]"
      ]
     },
     "metadata": {},
     "output_type": "display_data"
    },
    {
     "data": {
      "application/vnd.jupyter.widget-view+json": {
       "model_id": "922a3550a01f40eebe82011da4595276",
       "version_major": 2,
       "version_minor": 0
      },
      "text/plain": [
       "  0%|          | 0/6 [00:00<?, ?it/s]"
      ]
     },
     "metadata": {},
     "output_type": "display_data"
    },
    {
     "name": "stdout",
     "output_type": "stream",
     "text": [
      "Unexpected exception formatting exception. Falling back to standard exception\n"
     ]
    },
    {
     "name": "stderr",
     "output_type": "stream",
     "text": [
      "Traceback (most recent call last):\n",
      "  File \"C:\\Users\\Python\\anaconda3\\envs\\agingmec\\lib\\site-packages\\IPython\\core\\interactiveshell.py\", line 3398, in run_code\n",
      "    exec(code_obj, self.user_global_ns, self.user_ns)\n",
      "  File \"C:\\Users\\Python\\AppData\\Local\\Temp\\ipykernel_8356\\301092893.py\", line 61, in <cell line: 19>\n",
      "    FR, _ , _ = ps.tuning_curve_bytrial(posxfil, trial, Y, dt, b, smooth=True, normalize=True, occupancy=True)\n",
      "  File \"C:\\Users\\Python\\Desktop\\GitHub\\Herber2024\\pipeline\\process_spikes.py\", line 275, in tuning_curve_bytrial\n",
      "  File \"<__array_function__ internals>\", line 200, in sum\n",
      "  File \"C:\\Users\\Python\\anaconda3\\envs\\agingmec\\lib\\site-packages\\numpy\\core\\fromnumeric.py\", line 2324, in sum\n",
      "    return _wrapreduction(a, np.add, 'sum', axis, dtype, out, keepdims=keepdims,\n",
      "  File \"C:\\Users\\Python\\anaconda3\\envs\\agingmec\\lib\\site-packages\\numpy\\core\\fromnumeric.py\", line 86, in _wrapreduction\n",
      "    return ufunc.reduce(obj, axis, dtype, out, **passkwargs)\n",
      "KeyboardInterrupt\n",
      "\n",
      "During handling of the above exception, another exception occurred:\n",
      "\n",
      "Traceback (most recent call last):\n",
      "  File \"C:\\Users\\Python\\anaconda3\\envs\\agingmec\\lib\\site-packages\\IPython\\core\\interactiveshell.py\", line 1993, in showtraceback\n",
      "    stb = self.InteractiveTB.structured_traceback(\n",
      "  File \"C:\\Users\\Python\\anaconda3\\envs\\agingmec\\lib\\site-packages\\IPython\\core\\ultratb.py\", line 1118, in structured_traceback\n",
      "    return FormattedTB.structured_traceback(\n",
      "  File \"C:\\Users\\Python\\anaconda3\\envs\\agingmec\\lib\\site-packages\\IPython\\core\\ultratb.py\", line 1012, in structured_traceback\n",
      "    return VerboseTB.structured_traceback(\n",
      "  File \"C:\\Users\\Python\\anaconda3\\envs\\agingmec\\lib\\site-packages\\IPython\\core\\ultratb.py\", line 865, in structured_traceback\n",
      "    formatted_exception = self.format_exception_as_a_whole(etype, evalue, etb, number_of_lines_of_context,\n",
      "  File \"C:\\Users\\Python\\anaconda3\\envs\\agingmec\\lib\\site-packages\\IPython\\core\\ultratb.py\", line 818, in format_exception_as_a_whole\n",
      "    frames.append(self.format_record(r))\n",
      "  File \"C:\\Users\\Python\\anaconda3\\envs\\agingmec\\lib\\site-packages\\IPython\\core\\ultratb.py\", line 736, in format_record\n",
      "    result += ''.join(_format_traceback_lines(frame_info.lines, Colors, self.has_colors, lvals))\n",
      "  File \"C:\\Users\\Python\\anaconda3\\envs\\agingmec\\lib\\site-packages\\stack_data\\utils.py\", line 144, in cached_property_wrapper\n",
      "    value = obj.__dict__[self.func.__name__] = self.func(obj)\n",
      "  File \"C:\\Users\\Python\\anaconda3\\envs\\agingmec\\lib\\site-packages\\stack_data\\core.py\", line 734, in lines\n",
      "    pieces = self.included_pieces\n",
      "  File \"C:\\Users\\Python\\anaconda3\\envs\\agingmec\\lib\\site-packages\\stack_data\\utils.py\", line 144, in cached_property_wrapper\n",
      "    value = obj.__dict__[self.func.__name__] = self.func(obj)\n",
      "  File \"C:\\Users\\Python\\anaconda3\\envs\\agingmec\\lib\\site-packages\\stack_data\\core.py\", line 681, in included_pieces\n",
      "    pos = scope_pieces.index(self.executing_piece)\n",
      "  File \"C:\\Users\\Python\\anaconda3\\envs\\agingmec\\lib\\site-packages\\stack_data\\utils.py\", line 144, in cached_property_wrapper\n",
      "    value = obj.__dict__[self.func.__name__] = self.func(obj)\n",
      "  File \"C:\\Users\\Python\\anaconda3\\envs\\agingmec\\lib\\site-packages\\stack_data\\core.py\", line 660, in executing_piece\n",
      "    return only(\n",
      "  File \"C:\\Users\\Python\\anaconda3\\envs\\agingmec\\lib\\site-packages\\executing\\executing.py\", line 190, in only\n",
      "    raise NotOneValueFound('Expected one value, found 0')\n",
      "executing.executing.NotOneValueFound: Expected one value, found 0\n"
     ]
    }
   ],
   "source": [
    "''' Choose a random shuffle rep vs. real distribution of all grid & non-grid cell autocorrelation peak heights\n",
    "\n",
    "Run time <30s / session.\n",
    "\n",
    "'''\n",
    "\n",
    "import random\n",
    "\n",
    "ngsshuffheights = []\n",
    "gridshuffheights = []\n",
    "\n",
    "gridproms = []\n",
    "ngsproms = []\n",
    "gridheights = []\n",
    "ngsheights = []\n",
    "\n",
    "P99shuffheight = []\n",
    "\n",
    "for m, session in zip(mice,sessions):\n",
    "    for s in tdqm(session):\n",
    "        d = data[m][s]\n",
    "        \n",
    "        #load in data\n",
    "        rawdata_file = 'RAW_' + m + '_' + s + '.npy'\n",
    "        behavior_file = 'BEHAVIOR_' + m + '_' + s + '.npy'\n",
    "        spikes_file = 'SPIKES_' + m + '_' + s +'.npy'\n",
    "        \n",
    "        raw = np.load(load_folder + rawdata_file, allow_pickle=True)\n",
    "        cell_IDs = raw.item().get('cellsfil')\n",
    "        behaviorfil = np.load(load_folder + behavior_file, allow_pickle=False)\n",
    "        Y = np.load(load_folder + spikes_file, allow_pickle=False) #pre-filtered for speeds >2cm/s, position-corrected spikes, 20 ms timebins\n",
    "        \n",
    "        posxfil = behaviorfil[:,0]\n",
    "        trial = behaviorfil[:,2]\n",
    "        trials = np.unique(trial)\n",
    "        postfil = behaviorfil[:,3]\n",
    "        cell_IDs = raw.item().get('cellsfil')\n",
    "        \n",
    "        #get stuff you will need later to shuffle & re-filter spike times to confirm putative grid spatial cells\n",
    "        sp = raw.item().get('sp')\n",
    "        spiket = sp['st'].copy()\n",
    "        cluster_id = sp['clu'].copy()\n",
    "        posx = raw.item().get('posx')\n",
    "        post = raw.item().get('post')\n",
    "        rawspeed = raw.item().get('speed')\n",
    "        \n",
    "        dt = np.unique(np.round(np.diff(post),4))\n",
    "        if len(dt) > 1: # discard duplicate frame entries if they occurred\n",
    "            dt = dt[dt != 0]\n",
    "            dt_to_trash = np.where(np.diff(post) == 0)[0]\n",
    "        else:\n",
    "            dt_to_trash = [] \n",
    "\n",
    "        # filter spikes & position frames by speed < 2cm/s or out of track limits \n",
    "        speed_to_trash = get.find(rawspeed < 2)\n",
    "        pos_to_trash = get.find((posx < 0) | (posx > 400))\n",
    "        trash_idx = np.unique(np.concatenate((dt_to_trash, speed_to_trash, pos_to_trash)))\n",
    "        keep_idx = np.setdiff1d(np.arange(len(rawspeed)), trash_idx)\n",
    "        \n",
    "        #get dark-only, normalized, smoothed spatial map & reshape into continuous vector for each cell\n",
    "        FR, _ , _ = ps.tuning_curve_bytrial(posxfil, trial, Y, dt, sigma = 2, b, smooth=True, normalize=True, occupancy=True)\n",
    "        stop_idx = np.where(trials == n_dark)[0][0]\n",
    "        FR = FR[:stop_idx,:,:]\n",
    "        n_trials = FR.shape[0]\n",
    "        n_pos = FR.shape[1]\n",
    "        n_cells = FR.shape[2]\n",
    "        FR = (np.reshape(FR, (n_trials*n_pos, n_cells))).T\n",
    "        \n",
    "        #find max autocorrelation peaks for all cells; store height & prom of most prominent peak\n",
    "        peak = [] # boolean if peak found\n",
    "        maxpeak_locs = [] #stored lag of max peak if peak exist\n",
    "        maxpeak_heights = [] # stored height of max peak, otherwise 0 if not exist\n",
    "        maxpeak_proms = [] # stored prominence of max peak, otherwise 0 if not exist\n",
    "        for i, c in enumerate(cell_IDs):\n",
    "            sdx = np.where(cell_IDs == c)[0][0]\n",
    "            autocorrelation = get.autocorr(FR[sdx,:],lags)\n",
    "            normauto = autocorrelation / autocorrelation[0]\n",
    "            peaks, properties = find_peaks(normauto, width = 10, height = 0.10, prominence = 0.15)\n",
    "            proms = properties[\"prominences\"]\n",
    "            heights = properties[\"peak_heights\"]\n",
    "\n",
    "            if peaks.size > 0:\n",
    "                peak = np.append(peak,1)\n",
    "                maxpeak_locs = np.append(maxpeak_locs, peaks[np.argmax(proms)])\n",
    "                maxpeak_heights = np.append(maxpeak_heights, heights[np.argmax(proms)])\n",
    "                maxpeak_proms = np.append(maxpeak_proms, proms[np.argmax(proms)])\n",
    "            else:\n",
    "                peak = np.append(peak,0)\n",
    "                maxpeak_heights = np.append(maxpeak_heights,0)\n",
    "                maxpeak_proms = np.append(maxpeak_proms,0)\n",
    "                \n",
    "        peak = peak.astype(bool)\n",
    "    \n",
    "        spatialcell99 = d['spatialcell99']\n",
    "        spatialcells = cell_IDs[spatialcell99]\n",
    "        gridcell = d['gridcell'].astype(bool)\n",
    "        gridcells = cell_IDs[gridcell]  \n",
    "        ngscell = d['ngscell'].astype(bool)\n",
    "        ngscells = cell_IDs[ngscell]\n",
    "        \n",
    "        shufmaxpeak_heights_file = 'shufmaxpeak_heights__' + m + '_' + s + '.npy'\n",
    "        shuffmaxpeak_heights = np.load(shuffload_folder3 + shufmaxpeak_heights_file)\n",
    "        \n",
    "        for i, c in enumerate(cell_IDs):\n",
    "            idx = np.where(cell_IDs[peak] == c)[0]\n",
    "            \n",
    "            if len(idx) == 0:\n",
    "                P99shuffheight = np.append(P99shuffheight, np.nan)\n",
    "            else:\n",
    "                shuffheightP99 = np.percentile(np.ravel(shuffmaxpeak_heights[:,idx]), 99)\n",
    "                P99shuffheight = np.append(P99shuffheight, shuffheightP99)\n",
    "\n",
    "        for i, c in enumerate(gridcells):\n",
    "            idx = np.where(cell_IDs[peak] == c)[0]\n",
    "            sdx = np.where(cell_IDs == c)[0]\n",
    "        \n",
    "            shuffheight = np.random.choice(np.ravel(shuffmaxpeak_heights[:,idx]))\n",
    "            gridproms = np.append(gridproms, maxpeak_proms[sdx])\n",
    "            gridheights = np.append(gridheights, maxpeak_heights[sdx])\n",
    "            gridshuffheights = np.append(gridshuffheights, shuffheight)\n",
    "            \n",
    "        for i, c in enumerate(ngscells):\n",
    "            idx = np.where(cell_IDs[peak] == c)[0]\n",
    "            sdx = np.where(cell_IDs == c)[0]\n",
    "            \n",
    "            if len(idx) > 0:\n",
    "                shuffheight = np.random.choice(np.ravel(shuffmaxpeak_heights[:,idx]))\n",
    "            else:\n",
    "                shuffheight = 0\n",
    "                \n",
    "            ngsproms = np.append(ngsproms, maxpeak_proms[sdx])\n",
    "            ngsheights = np.append(ngsheights, maxpeak_heights[sdx])\n",
    "            ngsshuffheights = np.append(ngsshuffheights, shuffheight)"
   ]
  },
  {
   "cell_type": "code",
   "execution_count": null,
   "id": "d2a98d6c",
   "metadata": {},
   "outputs": [],
   "source": [
    "''' Peak Height Thresholds & n model pairs vs. shuffle'''\n",
    "\n",
    "print('n total cells w/ peaks: ' + str(len(P99shuffheight[~np.isnan(P99shuffheight)])))\n",
    "print('% total cells w/ significant peaks: ' + str(100*len(P99shuffheight[~np.isnan(P99shuffheight)])/43388))\n",
    "\n",
    "print('mean ± SEM coherence shuffle P99: ' + str(np.nanmean(P99shuffheight)) + ', ' + str(stats.sem(P99shuffheight, nan_policy = 'omit')))\n",
    "print('n grid, NGS model pairs: ' + str(len(gridheights)) + ', ' + str(len(ngsheights)))"
   ]
  },
  {
   "cell_type": "code",
   "execution_count": null,
   "id": "cd37161f",
   "metadata": {},
   "outputs": [],
   "source": [
    "'''Plot Figure 2c + Display Stats'''\n",
    "bins = np.arange(-0.25,0.75,0.01)\n",
    "gproms, bin_edges = np.histogram(gridproms, bins = bins)\n",
    "pdf = gproms / sum(gproms)\n",
    "\n",
    "shuffgheights, shuffbin_edges = np.histogram(gridshuffheights, bins = bins)\n",
    "shuffpdf = shuffgheights / sum(shuffgheights)\n",
    "\n",
    "fig, ax = plt.subplots(figsize = (1.25,1.25))\n",
    "ax.plot(bin_edges[1:], pdf, linewidth = 0.75, color = 'k')\n",
    "ax.plot(shuffbin_edges[1:], shuffpdf, linewidth = 0.75, color = 'k', alpha = 0.5)\n",
    "ax.vlines(0.15,0,0.75, colors ='k', linewidths = 0.75, linestyles = '--')\n",
    "ax.set_ylabel('Probability', fontsize = 9, labelpad = 1)\n",
    "ax.set_xlabel('Peak Prominence', fontsize = 9, labelpad = 1)\n",
    "ax.set_xlim([-0.25,0.75])\n",
    "ax.set_xticks([-0.25,0,0.25,0.5,0.75])\n",
    "ax.set_ylim([0, 0.10])\n",
    "ax.set_yticks([0, 0.05,0.10])\n",
    "ax.tick_params(labelsize = 8)\n",
    "plt.savefig(save_folder + '2C.png', dpi=400, bbox_inches='tight')\n",
    "plt.savefig(save_folder + '2C.svg', dpi=400, bbox_inches='tight')\n",
    "plt.show()\n",
    "\n",
    "print('Mean, SEM Real:')\n",
    "print(np.nanmean(gridproms), stats.sem(gridproms, nan_policy = 'omit')) \n",
    "print('\\nMean, SEM Shuffle:')\n",
    "print(np.nanmean(gridshuffheights), stats.sem(gridshuffheights, nan_policy = 'omit')) \n",
    "stat, p_diff = stats.wilcoxon(gridproms, gridshuffheights)\n",
    "print('\\nstat = ' + str(stat))\n",
    "print('p_cells = ' + str(p_diff))"
   ]
  },
  {
   "cell_type": "code",
   "execution_count": null,
   "id": "9c90954f",
   "metadata": {},
   "outputs": [],
   "source": [
    "''' Plot Figure S3c'''\n",
    "bproms, bin_edges = np.histogram(ngsproms, bins = bins)\n",
    "pdf = bproms / sum(bproms)\n",
    "\n",
    "shuffbheights, shuffbin_edges = np.histogram(ngsshuffheights, bins = bins)\n",
    "shuffpdf = shuffbheights / sum(shuffbheights)\n",
    "\n",
    "fig, ax = plt.subplots(figsize = (1.25,1.25))\n",
    "ax.plot(bin_edges[1:], pdf, linewidth = 0.75, color = 'k')\n",
    "ax.plot(shuffbin_edges[1:], shuffpdf, linewidth = 0.75, color = 'k', alpha = 0.5)\n",
    "ax.set_ylabel('Probability', fontsize = 9, labelpad = 1)\n",
    "ax.set_xlabel('Peak Prominence', fontsize = 9, labelpad = 1)\n",
    "ax.vlines(0.15,0,0.8, colors ='k', linewidths = 0.75, linestyles = '--')\n",
    "ax.set_xlim([-0.25,0.75])\n",
    "ax.set_xticks([-0.25,0,0.25,0.5,0.75])\n",
    "ax.set_ylim([0, 0.8])\n",
    "ax.set_yticks([0, 0.2, 0.4, 0.6, 0.8])\n",
    "ax.tick_params(labelsize = 8)\n",
    "plt.savefig(save_folder + 'S3C.png', dpi=400, bbox_inches='tight')\n",
    "plt.savefig(save_folder + 'S3C.svg', dpi=400, bbox_inches='tight')\n",
    "plt.show()\n",
    "\n",
    "print('Mean, SEM Real:')\n",
    "print(np.nanmean(ngsproms), stats.sem(ngsproms, nan_policy = 'omit')) \n",
    "print('\\nMean, SEM Shuffle:')\n",
    "print(np.nanmean(ngsshuffheights), stats.sem(ngsshuffheights, nan_policy = 'omit')) \n",
    "stat, p_diff = stats.wilcoxon(ngsproms[~np.isnan(ngsshuffheights)], ngsshuffheights[~np.isnan(ngsshuffheights)])\n",
    "print('\\nstat = ' + str(stat))\n",
    "print('p_cells = ' + str(p_diff))"
   ]
  },
  {
   "cell_type": "code",
   "execution_count": null,
   "id": "4df21fc8",
   "metadata": {
    "scrolled": true
   },
   "outputs": [],
   "source": [
    "'''Calculate Spatial Cell Type Density by Age Group'''\n",
    "dt = 0.02\n",
    "\n",
    "# set up arrays for plotting by session \n",
    "spergrid = [] \n",
    "sperngs = []\n",
    "\n",
    "# by animal\n",
    "mpergrid = [] \n",
    "mperngs = []\n",
    "\n",
    "for m, session in zip(mice,sessions):\n",
    "    \n",
    "    m_grid = [] \n",
    "    m_ngs = []\n",
    "    m_cells = []\n",
    "\n",
    "    for s in tdqm(session):\n",
    "        d = data[m][s]\n",
    "        \n",
    "        #load data\n",
    "        rawdata_file = 'RAW_' + m + '_' + s + '.npy'\n",
    "        raw = np.load(load_folder + rawdata_file, allow_pickle=True)\n",
    "        cell_IDs = raw.item().get('cellsfil')\n",
    "        \n",
    "        #get cell IDs, filtered behavioral/spike data, & relevant score\n",
    "        gridcell = d['gridcell'].astype(bool)\n",
    "        ngscell = d['ngscell'].astype(bool)\n",
    "        gridcells = cell_IDs[gridcell]\n",
    "        ngscells = cell_IDs[ngscell]\n",
    "        \n",
    "        #Calculate Cell Densities\n",
    "        sperngs = np.append(sperngs, 100 * len(ngscells)/len(cell_IDs))\n",
    "        spergrid = np.append(spergrid, 100 * len(gridcells)/len(cell_IDs))\n",
    "\n",
    "        #save data to be pooled by mouse    \n",
    "        m_grid = np.append(m_grid, len(gridcells)) \n",
    "        m_ngs = np.append(m_ngs, len(ngscells)) \n",
    "        m_cells = np.append(m_cells, len(cell_IDs))\n",
    "       \n",
    "    # pool data by animal     \n",
    "    mpergrid = np.append(mpergrid, 100*np.sum(m_grid)/np.sum(m_cells)) \n",
    "    mperngs = np.append(mperngs, 100*np.sum(m_ngs)/np.sum(m_cells)) "
   ]
  },
  {
   "cell_type": "code",
   "execution_count": null,
   "id": "f3be5d22",
   "metadata": {},
   "outputs": [],
   "source": [
    "'''Grid Cell Density Young vs. Aged Session by Age Group (Figure 2d) + Stats '''\n",
    "\n",
    "fig, ax = plt.subplots(figsize = (1.25,1.25))\n",
    "pergrid = [spergrid[y_sind],spergrid[ma_sind],spergrid[age_sind]]\n",
    "labels = ['Young','MA','Aged']\n",
    "w = 0.5\n",
    "\n",
    "plt.boxplot(pergrid, widths = w, labels = labels, medianprops = dict(color = 'black'))\n",
    "#ax.set_title('Session Grid Cell Density', fontsize=12, pad=5)\n",
    "ax.set_xlabel('Age', fontsize=9, labelpad=1)\n",
    "ax.set_xticklabels(labels = labels, fontsize=9)\n",
    "ax.set_ylabel('% Grid Cell', fontsize=9, labelpad=1)\n",
    "ax.set_ylim([0,40])\n",
    "ax.tick_params(labelsize = 8)\n",
    "\n",
    "for i in range(len(pergrid)):\n",
    "    y = pergrid[i]\n",
    "    x = np.random.normal(i + 1, 0.04, len(y))\n",
    "    plt.scatter(x, y, color = col_session[i], edgecolors = col_session[i], alpha = 1, s = 10)\n",
    "\n",
    "#ax.legend(ncol = 3, handles = handles, labels = label_mice, loc = 'upper right',bbox_to_anchor=(1.65, 1))\n",
    "plt.savefig(save_folder + '2D.png', dpi=400, bbox_inches='tight')\n",
    "plt.savefig(save_folder + '2D.svg', dpi=400, bbox_inches='tight')\n",
    "plt.show()\n",
    "\n",
    "print('\\nGRID CELL RESULTS:')\n",
    "print('% young ± SEM; % MA ± SEM; % old ± SEM')\n",
    "print(str(np.round(np.mean(spergrid[y_sind]), 2)) + ' ± ' + str(np.round(stats.sem(spergrid[y_sind]), 2)) + ' ; ' \n",
    "      + str(np.round(np.mean(spergrid[ma_sind]), 2)) + ' ± ' + str(np.round(stats.sem(spergrid[ma_sind]), 2)) + ' ; ' \n",
    "      + str(np.round(np.mean(spergrid[age_sind]), 2)) + ' ± ' + str(np.round(stats.sem(spergrid[age_sind]), 2)))\n",
    "\n",
    "stat, p_diff = stats.kruskal(spergrid[y_sind],spergrid[ma_sind],spergrid[age_sind])\n",
    "print('F = ' + str(stat))\n",
    "print('p_grid%session = ' + str(p_diff))"
   ]
  },
  {
   "cell_type": "code",
   "execution_count": null,
   "id": "2af75003",
   "metadata": {},
   "outputs": [],
   "source": [
    "'''NGS Cell Density Young vs. Aged Session by Age Group (Figure S3d) + Stats'''\n",
    "\n",
    "fig, ax = plt.subplots(figsize = (1.25,1.25))\n",
    "pergrid = [sperngs[y_sind],sperngs[ma_sind],sperngs[age_sind]]\n",
    "labels = ['Young','MA','Aged']\n",
    "w = 0.5\n",
    "\n",
    "plt.boxplot(pergrid, widths = w, labels = labels, medianprops = dict(color = 'black'))\n",
    "ax.set_xlabel('Age', fontsize=9, labelpad=1)\n",
    "ax.set_xticklabels(labels = labels, fontsize=9)\n",
    "ax.set_ylabel('% NGS Cell', fontsize=9, labelpad=1)\n",
    "ax.tick_params(labelsize = 8)\n",
    "ax.set_ylim([0,40])\n",
    "\n",
    "for i in range(len(pergrid)):\n",
    "    y = pergrid[i]\n",
    "    x = np.random.normal(i + 1, 0.04, len(y))\n",
    "    plt.scatter(x, y, color = col_session[i], edgecolors = col_session[i], alpha = 1, s = 10)\n",
    "\n",
    "#ax.legend(ncol = 3, handles = handles, labels = label_mice, loc = 'upper right',bbox_to_anchor=(1.65, 1))\n",
    "plt.savefig(save_folder + 'S3D.png', dpi=400, bbox_inches='tight')\n",
    "plt.savefig(save_folder + 'S3D.svg', dpi=400, bbox_inches='tight')\n",
    "plt.show()\n",
    "\n",
    "print('\\nNGS CELL RESULTS:')\n",
    "print('% young ± SEM; % MA ± SEM; % old ± SEM')\n",
    "print(str(np.round(np.mean(sperngs[y_sind]), 2)) + ' ± ' + str(np.round(stats.sem(sperngs[y_sind]), 2)) + ' ; ' \n",
    "      + str(np.round(np.mean(sperngs[ma_sind]), 2)) + ' ± ' + str(np.round(stats.sem(sperngs[ma_sind]), 2)) + ' ; ' \n",
    "      + str(np.round(np.mean(sperngs[age_sind]), 2)) + ' ± ' + str(np.round(stats.sem(sperngs[age_sind]), 2)))\n",
    "\n",
    "stat, p_diff = stats.kruskal(sperngs[y_sind],sperngs[ma_sind],sperngs[age_sind])\n",
    "print('F = ' + str(stat))\n",
    "print('p_ngs%session = ' + str(p_diff))"
   ]
  },
  {
   "cell_type": "code",
   "execution_count": 38,
   "id": "e6d3f3da",
   "metadata": {},
   "outputs": [
    {
     "data": {
      "application/vnd.jupyter.widget-view+json": {
       "model_id": "fdffd597755e498a98c49c2019e26e3a",
       "version_major": 2,
       "version_minor": 0
      },
      "text/plain": [
       "  0%|          | 0/6 [00:00<?, ?it/s]"
      ]
     },
     "metadata": {},
     "output_type": "display_data"
    },
    {
     "data": {
      "image/png": "[encoded data removed]",
      "text/plain": [
       "<Figure size 150x125 with 2 Axes>"
      ]
     },
     "metadata": {},
     "output_type": "display_data"
    },
    {
     "data": {
      "image/png": "[encoded data removed]",
      "text/plain": [
       "<Figure size 150x125 with 2 Axes>"
      ]
     },
     "metadata": {},
     "output_type": "display_data"
    },
    {
     "data": {
      "application/vnd.jupyter.widget-view+json": {
       "model_id": "fbc534e9b2884ef581996eb39965ef88",
       "version_major": 2,
       "version_minor": 0
      },
      "text/plain": [
       "  0%|          | 0/6 [00:00<?, ?it/s]"
      ]
     },
     "metadata": {},
     "output_type": "display_data"
    },
    {
     "data": {
      "image/png": "[encoded data removed]",
      "text/plain": [
       "<Figure size 150x125 with 2 Axes>"
      ]
     },
     "metadata": {},
     "output_type": "display_data"
    },
    {
     "data": {
      "image/png": "[encoded data removed]",
      "text/plain": [
       "<Figure size 150x125 with 2 Axes>"
      ]
     },
     "metadata": {},
     "output_type": "display_data"
    },
    {
     "data": {
      "application/vnd.jupyter.widget-view+json": {
       "model_id": "5a17760ac53a402d8d3c7fa50e67f7fb",
       "version_major": 2,
       "version_minor": 0
      },
      "text/plain": [
       "  0%|          | 0/6 [00:00<?, ?it/s]"
      ]
     },
     "metadata": {},
     "output_type": "display_data"
    },
    {
     "data": {
      "image/png": "[encoded data removed]",
      "text/plain": [
       "<Figure size 150x125 with 2 Axes>"
      ]
     },
     "metadata": {},
     "output_type": "display_data"
    },
    {
     "data": {
      "image/png": "[encoded data removed]",
      "text/plain": [
       "<Figure size 150x125 with 2 Axes>"
      ]
     },
     "metadata": {},
     "output_type": "display_data"
    }
   ],
   "source": [
    "''' Plot example grid cell cross trial correlation matrices (Figure 2e) '''\n",
    "\n",
    "cellcount = 0\n",
    "\n",
    "colors = ['xkcd:pink','xkcd:blue','xkcd:pink', 'xkcd:blue']\n",
    "labels = ['A', 'B','A`','B`']\n",
    "\n",
    "for m, session in zip(mice,sessions):\n",
    "    \n",
    "    if m not in ex_mice:\n",
    "        continue\n",
    "    \n",
    "    for s in tdqm(session):\n",
    "        \n",
    "        if s not in ex_sessions:\n",
    "            continue\n",
    "\n",
    "        d = data[m][s]\n",
    "    \n",
    "        #get some data & cell IDs\n",
    "        rawdata_file = 'RAW_' + m + '_' + s + '.npy'\n",
    "        spikes_file = 'SPIKES_' + m + '_' + s +'.npy'\n",
    "        behavior_file = 'BEHAVIOR_' + m + '_' + s + '.npy'\n",
    "\n",
    "        raw = np.load(load_folder + rawdata_file, allow_pickle=True)\n",
    "        Y = np.load(load_folder + spikes_file, allow_pickle=False) #pre-filtered for speeds >2cm/s, position-corrected spikes, 20 ms timebins\n",
    "        behaviorfil = np.load(load_folder + behavior_file, allow_pickle=False)\n",
    "\n",
    "        cell_IDs = raw.item().get('cellsfil')\n",
    "        spatialcell99 = d['spatialcell99']\n",
    "        spatialcells = cell_IDs[spatialcell99]\n",
    "        gridcell = d['gridcell'].astype(bool)\n",
    "        gridcells = cell_IDs[gridcell]    \n",
    "        ngscell = d['ngscell'].astype(bool)\n",
    "        ngscells = cell_IDs[ngscell]    \n",
    "\n",
    "        posx = behaviorfil[:,0]\n",
    "        trial = behaviorfil[:,2]\n",
    "        trials = np.unique(trial)\n",
    "        rawtrialfil = raw.item().get('trialfil')\n",
    "        trialinfo = raw.item().get('trialinfo')\n",
    "        left = trialinfo['left']\n",
    "\n",
    "        #Find any skipped trials\n",
    "        try:\n",
    "            _ = raw.item().get('correctedtrial').shape\n",
    "            skippedtrials = get.find_skipped(trial, max_trial_num = 220)\n",
    "            \n",
    "        except:\n",
    "            skippedtrials = []\n",
    "\n",
    "        if np.max(np.unique(trial)) < 160: #handles truncated, shorter sessions \n",
    "            alltrial = np.arange(0, np.max(np.unique(trial)) + 2, 1)\n",
    "        else:\n",
    "            alltrial = np.arange(0,220,1)\n",
    "\n",
    "        # Sort trials by context, find sorted skipped trials, num dark skipped trials\n",
    "        leftsort, allcopy = get.contextsortedtrials(alltrial, left, alt_idx = 140)\n",
    "        \n",
    "        newskippedtrials = []\n",
    "        for z in skippedtrials:\n",
    "            newskippedtrials = np.append(newskippedtrials, np.where(allcopy == z)[0][0])\n",
    "\n",
    "        ndarkskipped = 0\n",
    "        for z in newskippedtrials:\n",
    "            if z < 20: \n",
    "                ndarkskipped += 1\n",
    "                \n",
    "        #adjust trialfil so that sorted trials are skipped instead\n",
    "        skippedrawtrialfil = get.sortedtrialbyframe(rawtrialfil, trial, newskippedtrials)\n",
    "        numtrial = np.unique(skippedrawtrialfil)\n",
    "\n",
    "        #sort spike train & position on VR frames by context during alternation\n",
    "        posxcopy = []\n",
    "        allcopy= np.append(allcopy, 220)\n",
    "        for t in allcopy:\n",
    "            obs_idx = np.where(trial == t)[0]\n",
    "            posxcopy = np.append(posxcopy, posx[obs_idx])\n",
    "            if t == 0:\n",
    "                Z = Y[obs_idx,:]\n",
    "            else: \n",
    "                Z = np.append(Z, Y[obs_idx,:], axis = 0)\n",
    "\n",
    "        #trim off the dark trials & trial 220 dataframes\n",
    "        start_idx = (np.where(skippedrawtrialfil >= 20)[0][0]).astype(int)\n",
    "        if np.max(skippedrawtrialfil) == 220:\n",
    "            end_idx = (np.where(skippedrawtrialfil == 220)[0][0])\n",
    "            normFR, _, _ = ps.tuning_curve_bytrial(posxcopy[start_idx:end_idx], skippedrawtrialfil[start_idx:end_idx], Z[start_idx:end_idx,:], dt, sigma = 5, b=2, smooth=True, normalize=True, occupancy=True)\n",
    "        else:\n",
    "            end_idx = len(skippedrawtrialfil) + 1\n",
    "            normFR, _, _ = ps.tuning_curve_bytrial(posxcopy[start_idx:], skippedrawtrialfil[start_idx:], Z[start_idx:,:], dt, sigma = 5, b=2, smooth=True, normalize=True, occupancy=True)\n",
    "\n",
    "        # add ticks to label contexts dynamically\n",
    "        lengthdark = (20 - ndarkskipped)\n",
    "        lengthA = len(numtrial[numtrial < (80 - lengthdark)])\n",
    "        nA_ = np.sum(1 - leftsort[alltrial >= 140])\n",
    "        lengthB = len(numtrial[(numtrial >= (80 - lengthdark)) & (numtrial < (140 - lengthdark))])\n",
    "        lengthA_ = len(numtrial[(numtrial >= (140 - lengthdark)) & (numtrial < (140 + nA_ - lengthdark))])\n",
    "        end =  len(np.unique(skippedrawtrialfil[:end_idx])) - lengthdark\n",
    "        nB_ = end - (lengthA + lengthB + lengthA_) \n",
    "        \n",
    "        ticks = np.array([0, lengthA, (lengthA + lengthB), (lengthA + lengthB + lengthA_), end])\n",
    "        textloc = np.array([lengthA // 2, (lengthA + lengthB // 2), (lengthA + lengthB + lengthA_//2), (lengthA + lengthB + lengthA_ + nB_//2)])\n",
    "\n",
    "        #collect & plot cross-trial correlation matrices & save for the grid cell population\n",
    "        c = ex_gridcells[cellcount]\n",
    "        col = cols[cellcount]\n",
    "        sdx = (np.where(cell_IDs == c)[0][0]).astype(int)  \n",
    "        sim , _  = ps.cross_trial_correlation(normFR[:,:,sdx], shift = False) \n",
    "\n",
    "        f = plt.figure(figsize=(1.5, 1.25))\n",
    "        ax0 = plt.subplot()\n",
    "        im = ax0.imshow(sim, clim=[0, 1.0], aspect='auto', cmap='Greys')\n",
    "        ax0.set_title('{}_{}, c. {}'.format(m, sesh[cellcount], c), fontsize=10, color = col, pad=3)\n",
    "        ax0.set_yticks(ticks, labels = [])\n",
    "        ax0.set_xticks(ticks, labels = [])\n",
    "        for n, j in enumerate(labels):\n",
    "            ax0.text(textloc[n] - 5, 225, j, color = colors[n], fontsize = 9)\n",
    "            ax0.text(-25, textloc[n] + 5, j, color = colors[n], fontsize = 9)\n",
    "        cbar = plt.colorbar(im)\n",
    "        cbar.ax.tick_params(labelsize = 9)\n",
    "        f.savefig(save_folder + str(m) + '_' + str(s) + '_' + str(c) + '_2E.png', dpi = 400)\n",
    "        f.savefig(save_folder + str(m) + '_' + str(s) + '_' + str(c) + '_2E.svg', dpi = 400)\n",
    "        plt.show()\n",
    "        \n",
    "        cellcount += 1 \n",
    "                                    "
   ]
  },
  {
   "cell_type": "code",
   "execution_count": 39,
   "id": "7f4ee2a5",
   "metadata": {},
   "outputs": [
    {
     "data": {
      "application/vnd.jupyter.widget-view+json": {
       "model_id": "d66573896d8c4f19854d76ca13734b02",
       "version_major": 2,
       "version_minor": 0
      },
      "text/plain": [
       "  0%|          | 0/6 [00:00<?, ?it/s]"
      ]
     },
     "metadata": {},
     "output_type": "display_data"
    },
    {
     "data": {
      "image/png": "[encoded data removed]",
      "text/plain": [
       "<Figure size 150x125 with 2 Axes>"
      ]
     },
     "metadata": {},
     "output_type": "display_data"
    },
    {
     "data": {
      "image/png": "[encoded data removed]",
      "text/plain": [
       "<Figure size 150x125 with 2 Axes>"
      ]
     },
     "metadata": {},
     "output_type": "display_data"
    },
    {
     "data": {
      "application/vnd.jupyter.widget-view+json": {
       "model_id": "586991be03d8429eb9e37070ee7c2671",
       "version_major": 2,
       "version_minor": 0
      },
      "text/plain": [
       "  0%|          | 0/6 [00:00<?, ?it/s]"
      ]
     },
     "metadata": {},
     "output_type": "display_data"
    },
    {
     "data": {
      "image/png": "[encoded data removed]",
      "text/plain": [
       "<Figure size 150x125 with 2 Axes>"
      ]
     },
     "metadata": {},
     "output_type": "display_data"
    },
    {
     "data": {
      "image/png": "[encoded data removed]",
      "text/plain": [
       "<Figure size 150x125 with 2 Axes>"
      ]
     },
     "metadata": {},
     "output_type": "display_data"
    },
    {
     "data": {
      "application/vnd.jupyter.widget-view+json": {
       "model_id": "375e0dc728ac46b7beec2adf2738dc95",
       "version_major": 2,
       "version_minor": 0
      },
      "text/plain": [
       "  0%|          | 0/6 [00:00<?, ?it/s]"
      ]
     },
     "metadata": {},
     "output_type": "display_data"
    },
    {
     "data": {
      "image/png": "[encoded data removed]",
      "text/plain": [
       "<Figure size 150x125 with 2 Axes>"
      ]
     },
     "metadata": {},
     "output_type": "display_data"
    },
    {
     "data": {
      "image/png": "[encoded data removed]",
      "text/plain": [
       "<Figure size 150x125 with 2 Axes>"
      ]
     },
     "metadata": {},
     "output_type": "display_data"
    }
   ],
   "source": [
    "''' Plot example NGS cell cross trial correlation matrices (Figure S3e) '''\n",
    "\n",
    "cellcount = 0\n",
    "\n",
    "colors = ['xkcd:pink','xkcd:blue','xkcd:pink', 'xkcd:blue']\n",
    "labels = ['A', 'B','A`','B`']\n",
    "\n",
    "for m, session in zip(mice,sessions):\n",
    "    \n",
    "    if m not in ex_mice:\n",
    "        continue\n",
    "    \n",
    "    for s in tdqm(session):\n",
    "        \n",
    "        if s not in ex_sessions:\n",
    "            continue\n",
    "\n",
    "        d = data[m][s]\n",
    "    \n",
    "        #get some data & cell IDs\n",
    "        rawdata_file = 'RAW_' + m + '_' + s + '.npy'\n",
    "        spikes_file = 'SPIKES_' + m + '_' + s +'.npy'\n",
    "        behavior_file = 'BEHAVIOR_' + m + '_' + s + '.npy'\n",
    "\n",
    "        raw = np.load(load_folder + rawdata_file, allow_pickle=True)\n",
    "        Y = np.load(load_folder + spikes_file, allow_pickle=False) #pre-filtered for speeds >2cm/s, position-corrected spikes, 20 ms timebins\n",
    "        behaviorfil = np.load(load_folder + behavior_file, allow_pickle=False)\n",
    "\n",
    "        cell_IDs = raw.item().get('cellsfil')\n",
    "        spatialcell99 = d['spatialcell99']\n",
    "        spatialcells = cell_IDs[spatialcell99]\n",
    "        gridcell = d['gridcell'].astype(bool)\n",
    "        gridcells = cell_IDs[gridcell]    \n",
    "        ngscell = d['ngscell'].astype(bool)\n",
    "        ngscells = cell_IDs[ngscell]    \n",
    "\n",
    "        posx = behaviorfil[:,0]\n",
    "        trial = behaviorfil[:,2]\n",
    "        trials = np.unique(trial)\n",
    "        rawtrialfil = raw.item().get('trialfil')\n",
    "        trialinfo = raw.item().get('trialinfo')\n",
    "        left = trialinfo['left']\n",
    "\n",
    "        #Find any skipped trials\n",
    "        try:\n",
    "            _ = raw.item().get('correctedtrial').shape\n",
    "            skippedtrials = get.find_skipped(trial, max_trial_num = 220)\n",
    "            \n",
    "        except:\n",
    "            skippedtrials = []\n",
    "\n",
    "        if np.max(np.unique(trial)) < 160: #handles truncated, shorter sessions \n",
    "            alltrial = np.arange(0, np.max(np.unique(trial)) + 2, 1)\n",
    "        else:\n",
    "            alltrial = np.arange(0,220,1)\n",
    "\n",
    "        # Sort trials by context, find sorted skipped trials, num dark skipped trials\n",
    "        leftsort, allcopy = get.contextsortedtrials(alltrial, left, alt_idx = 140)\n",
    "        \n",
    "        newskippedtrials = []\n",
    "        for z in skippedtrials:\n",
    "            newskippedtrials = np.append(newskippedtrials, np.where(allcopy == z)[0][0])\n",
    "\n",
    "        ndarkskipped = 0\n",
    "        for z in newskippedtrials:\n",
    "            if z < 20: \n",
    "                ndarkskipped += 1\n",
    "                \n",
    "        #adjust trialfil so that sorted trials are skipped instead\n",
    "        skippedrawtrialfil = get.sortedtrialbyframe(rawtrialfil, trial, newskippedtrials)\n",
    "        numtrial = np.unique(skippedrawtrialfil)\n",
    "\n",
    "        #sort spike train & position on VR frames by context during alternation\n",
    "        posxcopy = []\n",
    "        allcopy= np.append(allcopy, 220)\n",
    "        for t in allcopy:\n",
    "            obs_idx = np.where(trial == t)[0]\n",
    "            posxcopy = np.append(posxcopy, posx[obs_idx])\n",
    "            if t == 0:\n",
    "                Z = Y[obs_idx,:]\n",
    "            else: \n",
    "                Z = np.append(Z, Y[obs_idx,:], axis = 0)\n",
    "\n",
    "        #trim off the dark trials & trial 220 dataframes\n",
    "        start_idx = (np.where(skippedrawtrialfil >= 20)[0][0]).astype(int)\n",
    "        if np.max(skippedrawtrialfil) == 220:\n",
    "            end_idx = (np.where(skippedrawtrialfil == 220)[0][0])\n",
    "            normFR, _, _ = ps.tuning_curve_bytrial(posxcopy[start_idx:end_idx], skippedrawtrialfil[start_idx:end_idx], Z[start_idx:end_idx,:], dt, sigma = 5, b=2, smooth=True, normalize=True, occupancy=True)\n",
    "        else:\n",
    "            end_idx = len(skippedrawtrialfil) + 1\n",
    "            normFR, _, _ = ps.tuning_curve_bytrial(posxcopy[start_idx:], skippedrawtrialfil[start_idx:], Z[start_idx:,:], dt, sigma = 5, b=2, smooth=True, normalize=True, occupancy=True)\n",
    "\n",
    "        # add ticks to label contexts dynamically\n",
    "        lengthdark = (20 - ndarkskipped)\n",
    "        lengthA = len(numtrial[numtrial < (80 - lengthdark)])\n",
    "        nA_ = np.sum(1 - leftsort[alltrial >= 140])\n",
    "        lengthB = len(numtrial[(numtrial >= (80 - lengthdark)) & (numtrial < (140 - lengthdark))])\n",
    "        lengthA_ = len(numtrial[(numtrial >= (140 - lengthdark)) & (numtrial < (140 + nA_ - lengthdark))])\n",
    "        end =  len(np.unique(skippedrawtrialfil[:end_idx])) - lengthdark\n",
    "        nB_ = end - (lengthA + lengthB + lengthA_) \n",
    "        \n",
    "        ticks = np.array([0, lengthA, (lengthA + lengthB), (lengthA + lengthB + lengthA_), end])\n",
    "        textloc = np.array([lengthA // 2, (lengthA + lengthB // 2), (lengthA + lengthB + lengthA_//2), (lengthA + lengthB + lengthA_ + nB_//2)])\n",
    "\n",
    "        #collect & plot cross-trial correlation matrices & save for the grid cell population\n",
    "        c = ex_ngscells[cellcount]\n",
    "        col = cols[cellcount]\n",
    "        sdx = (np.where(cell_IDs == c)[0][0]).astype(int)  \n",
    "        sim , _  = ps.cross_trial_correlation(normFR[:,:,sdx], shift = False) \n",
    "\n",
    "        f = plt.figure(figsize=(1.5, 1.25))\n",
    "        ax0 = plt.subplot()\n",
    "        im = ax0.imshow(sim, clim=[0, 1.0], aspect='auto', cmap='Greys')\n",
    "        ax0.set_title('{}_{}, c. {}'.format(m,sesh[cellcount],c), fontsize=10, color = col, pad=3)\n",
    "        ax0.set_yticks(ticks, labels = [])\n",
    "        ax0.set_xticks(ticks, labels = [])\n",
    "        for n, j in enumerate(labels):\n",
    "            ax0.text(textloc[n] - 5, 225, j, color = colors[n], fontsize = 9)\n",
    "            ax0.text(-25, textloc[n] + 5, j, color = colors[n], fontsize = 9)\n",
    "        cbar = plt.colorbar(im)\n",
    "        cbar.ax.tick_params(labelsize = 9)\n",
    "        f.savefig(save_folder + str(m) + '_' + str(s) + '_' + str(c) + '_S3E.png', dpi = 400)\n",
    "        f.savefig(save_folder + str(m) + '_' + str(s) + '_' + str(c) + '_S3E.svg', dpi = 400)\n",
    "        plt.show()\n",
    "        \n",
    "        cellcount += 1 \n",
    "                               "
   ]
  },
  {
   "cell_type": "code",
   "execution_count": null,
   "id": "5f0dda7e",
   "metadata": {},
   "outputs": [],
   "source": [
    "''' For grid & ngs cells, save shuffle distributions of sparsity & coherence scores. '''\n",
    "\n",
    "gridsparsity = []\n",
    "gridshuffsparsity = []\n",
    "gridcoherence = []\n",
    "gridshuffcoherence = []\n",
    "ngssparsity = []\n",
    "ngsshuffsparsity = []\n",
    "ngscoherence = []\n",
    "ngsshuffcoherence = []\n",
    "\n",
    "P99coherence = []\n",
    "P99sparsity = []\n",
    "\n",
    "for m, session in zip(mice, sessions):\n",
    "    for s in tdqm(session):\n",
    "        d = data[m][s]\n",
    "        \n",
    "        #Load scores, intn boolean to filter out interneurons\n",
    "        rawdata_file = 'RAW_' + m + '_' + s + '.npy'\n",
    "        raw = np.load(load_folder + rawdata_file, allow_pickle=True)\n",
    "        cell_IDs = raw.item().get('cellsfil')\n",
    "        \n",
    "        cell_IDs = raw.item().get('cellsfil')\n",
    "        sparsitya_scores = d['spatialasparsity']\n",
    "        spatialacoherence_scores = d['spatialacoherencescores']\n",
    "        shuffsparsityascores = d['shuffsparsityascores'] \n",
    "        shuffspatialacoherencescores = d['shuffspatialacoherencescores'] \n",
    "\n",
    "        #get cell IDs, filtered behavioral/spike data, & relevant score\n",
    "        gridcell = d['gridcell'].astype(bool)\n",
    "        ngscell = d['ngscell'].astype(bool)\n",
    "        gridcells = cell_IDs[gridcell]\n",
    "        ngscells = cell_IDs[ngscell]\n",
    "        \n",
    "        for i, c in enumerate(cell_IDs):\n",
    "            sdx = np.where(cell_IDs == c)[0][0]\n",
    "            \n",
    "            P99s = np.percentile(np.ravel(shuffsparsityascores[:,sdx]), 99)\n",
    "            P99c = np.percentile(np.ravel(shuffspatialacoherencescores[:,sdx]), 99)\n",
    "            P99coherence = np.append(P99coherence, P99c)\n",
    "            P99sparsity = np.append(P99sparsity, P99s)\n",
    "        \n",
    "        for i, c in enumerate(gridcells):\n",
    "            sdx = np.where(cell_IDs == c)[0][0]\n",
    "        \n",
    "            shuffsparsity = np.random.choice(np.ravel(shuffsparsityascores[:,sdx]))\n",
    "            shuffcoherence = np.random.choice(np.ravel(shuffspatialacoherencescores[:,sdx]))\n",
    "            coherence = spatialacoherence_scores[sdx]\n",
    "            sparsity = sparsitya_scores[sdx]\n",
    "            \n",
    "            gridsparsity = np.append(gridsparsity,sparsity)\n",
    "            gridshuffsparsity = np.append(gridshuffsparsity,shuffsparsity)\n",
    "            gridcoherence = np.append(gridcoherence,coherence)\n",
    "            gridshuffcoherence = np.append(gridshuffcoherence,shuffcoherence)\n",
    "            \n",
    "        for i, c in enumerate(ngscells):\n",
    "            sdx = np.where(cell_IDs == c)[0][0]\n",
    "            \n",
    "            shuffsparsity = np.random.choice(np.ravel(shuffsparsityascores[:,sdx]))\n",
    "            shuffcoherence = np.random.choice(np.ravel(shuffspatialacoherencescores[:,sdx]))\n",
    "            coherence = spatialacoherence_scores[sdx]\n",
    "            sparsity = sparsitya_scores[sdx]\n",
    "\n",
    "            ngssparsity = np.append(ngssparsity,sparsity)\n",
    "            ngsshuffsparsity = np.append(ngsshuffsparsity,shuffsparsity)\n",
    "            ngscoherence = np.append(ngscoherence,coherence)\n",
    "            ngsshuffcoherence = np.append(ngsshuffcoherence,shuffcoherence)\n",
    "\n",
    "print('n total cells: ' + str(len(P99coherence)))\n",
    "print('n total grid, ngs cells: ' + str(len(gridsparsity)) + ', ' + str(len(ngssparsity)))\n",
    "print('mean ± SEM coherence shuffle P99: ' + str(np.nanmean(P99coherence)) + ', ' + str(stats.sem(P99coherence, nan_policy = 'omit')))\n",
    "print('mean ± SEM sparsity shuffle P99: ' + str(np.nanmean(P99sparsity)) + ', ' + str(stats.sem(P99sparsity, nan_policy = 'omit')))"
   ]
  },
  {
   "cell_type": "code",
   "execution_count": null,
   "id": "bf05e7c2",
   "metadata": {},
   "outputs": [],
   "source": [
    "''' Plot Coherence & Sparsity Score Distributions vs. Shuffle for NGS Cells (Figure S3f) '''\n",
    "bins = np.arange(0,2,0.01)\n",
    "bsparsity, bin_edges = np.histogram(ngssparsity, bins = bins)\n",
    "pdf = bsparsity / sum(bsparsity)\n",
    "\n",
    "shuffbsparsity, shuffbin_edges = np.histogram(ngsshuffsparsity, bins = bins)\n",
    "shuffpdf = shuffbsparsity / sum(shuffbsparsity)\n",
    "\n",
    "fig, ax = plt.subplots(figsize = (1.25,1.25))\n",
    "ax.plot(bin_edges[1:], pdf, linewidth = 0.75, color = 'k')\n",
    "ax.plot(shuffbin_edges[1:], shuffpdf, linewidth = 0.75, color = 'k', alpha = 0.5)\n",
    "#ax.set_ylabel('Probability', fontsize = 9)\n",
    "ax.set_xlabel('Sparsity', fontsize = 9)\n",
    "ax.set_xlim([0,2])\n",
    "ax.set_ylim([0,0.065])\n",
    "ax.set_yticks([0,0.02,0.04,0.06])\n",
    "ax.tick_params(labelsize = 8)\n",
    "plt.savefig(save_folder + 'S3Fright.png', dpi=400, bbox_inches='tight')\n",
    "plt.savefig(save_folder + 'S3Fright.svg', dpi=400, bbox_inches='tight')\n",
    "plt.show()\n",
    "\n",
    "bins = np.arange(-0.2,1.1,0.01)\n",
    "bcoherence, bin_edges = np.histogram(ngscoherence, bins = bins)\n",
    "pdf = bcoherence / sum(bcoherence)\n",
    "shuffcoherence, shuffbin_edges = np.histogram(ngsshuffcoherence, bins = bins)\n",
    "shuffpdf = shuffcoherence / sum(shuffcoherence)\n",
    "\n",
    "fig, ax = plt.subplots(figsize = (1.25,1.25))\n",
    "#ax.hist(ngscoherence, 20, density = True, histtype = 'step', color = 'k')\n",
    "#ax.hist(ngsshuffsparsity, 20, density = True, histtype = 'step', color = 'k', alpha = 0.5)\n",
    "ax.plot(bin_edges[1:], pdf, linewidth = 0.75, color = 'k')\n",
    "ax.plot(shuffbin_edges[1:], shuffpdf, linewidth = 0.75, color = 'k', alpha = 0.5)\n",
    "ax.set_ylabel('Probability', fontsize = 9)\n",
    "ax.set_xlabel('Coherence', fontsize = 9)\n",
    "ax.set_xlim([-0.2,1.1])\n",
    "ax.set_ylim([0,0.035])\n",
    "ax.set_yticks([0,0.01,0.02,0.03])\n",
    "ax.tick_params(labelsize = 8)\n",
    "plt.savefig(save_folder + 'S3Fleft.png', dpi=400, bbox_inches='tight')\n",
    "plt.savefig(save_folder + 'S3Fleft.svg', dpi=400, bbox_inches='tight')\n",
    "plt.show()\n",
    "\n",
    "'''\n",
    "#Optional: check grid cells also!\n",
    "\n",
    "bins = np.arange(0,2,0.01)\n",
    "sparsity, bin_edges = np.histogram(gridsparsity, bins = bins)\n",
    "pdf = sparsity / sum(sparsity)\n",
    "\n",
    "shuffsparsity, shuffbin_edges = np.histogram(gridshuffsparsity, bins = bins)\n",
    "shuffpdf = shuffsparsity / sum(shuffsparsity)\n",
    "\n",
    "fig, ax = plt.subplots(figsize = (1.25,1.25))\n",
    "#ax.hist(gridsparsity, 20, density = True, histtype = 'step', color = 'k')\n",
    "#ax.hist(gridshuffsparsity, 20, density = True, histtype = 'step', color = 'k', alpha = 0.5)\n",
    "ax.plot(bin_edges[1:], pdf, linewidth = 0.75, color = 'k')\n",
    "ax.plot(shuffbin_edges[1:], shuffpdf, linewidth = 0.75, color = 'k', alpha = 0.5)\n",
    "ax.set_ylabel('Probability', fontsize = 9)\n",
    "ax.set_xlabel('Sparsity', fontsize = 9)\n",
    "ax.set_xlim([0,2])\n",
    "ax.set_ylim([0,0.06])\n",
    "ax.set_yticks([0,0.02,0.04,0.06])\n",
    "ax.tick_params(labelsize = 8)\n",
    "plt.savefig(save_folder + 'gridsparsity.png', dpi=400, bbox_inches='tight')\n",
    "plt.savefig(save_folder + 'gridsparsity.svg', dpi=400, bbox_inches='tight')\n",
    "plt.show()\n",
    "\n",
    "bins = np.arange(-0.2,1.1,0.01)\n",
    "coherence, bin_edges = np.histogram(gridcoherence, bins = bins)\n",
    "pdf = coherence / sum(coherence)\n",
    "\n",
    "shuffgsparsity, shuffbin_edges = np.histogram(gridshuffcoherence, bins = bins)\n",
    "shuffpdf = shuffcoherence / sum(shuffcoherence)\n",
    "\n",
    "fig, ax = plt.subplots(figsize = (1.25,1.25))\n",
    "#ax.hist(gridcoherence, 20, density = True, histtype = 'step', color = 'k')\n",
    "#ax.hist(gridshuffsparsity, 20, density = True, histtype = 'step', color = 'k', alpha = 0.5)\n",
    "ax.plot(bin_edges[1:], pdf, linewidth = 0.75, color = 'k')\n",
    "ax.plot(shuffbin_edges[1:], shuffpdf, linewidth = 0.75, color = 'k', alpha = 0.5)\n",
    "ax.set_ylabel('Probability', fontsize = 9)\n",
    "ax.set_xlabel('Coherence', fontsize = 9)\n",
    "ax.set_xlim([-0.2,1.1])\n",
    "ax.set_ylim([0,0.05])\n",
    "ax.set_yticks([0,0.01,0.02,0.03,0.04,0.05])\n",
    "ax.tick_params(labelsize = 8)\n",
    "plt.savefig(save_folder + 'gridcoherence.png', dpi=400, bbox_inches='tight')\n",
    "plt.savefig(save_folder + 'gridcoherence.svg', dpi=400, bbox_inches='tight')\n",
    "plt.show()\n",
    "'''\n",
    "\n",
    "#STATS\n",
    "print('Coherence, Grid vs. Shuff:')\n",
    "print('Mean, SEM Grid:')\n",
    "print(np.nanmean(gridcoherence), stats.sem(gridcoherence, nan_policy = 'omit')) \n",
    "print('Mean, SEM Shuffle:')\n",
    "print(np.nanmean(gridshuffcoherence), stats.sem(gridshuffcoherence, nan_policy = 'omit')) \n",
    "stat, p_diff = stats.wilcoxon(gridcoherence, gridshuffcoherence)\n",
    "print('stat = ' + str(stat))\n",
    "print('p_cells = ' + str(p_diff))\n",
    "\n",
    "print('\\nCoherence, NGS vs. Shuff:')\n",
    "print('Mean, SEM NGS:')\n",
    "print(np.nanmean(ngscoherence), stats.sem(ngscoherence, nan_policy = 'omit')) \n",
    "print('Mean, SEM Shuffle:')\n",
    "print(np.nanmean(ngsshuffcoherence), stats.sem(ngsshuffcoherence, nan_policy = 'omit')) \n",
    "stat, p_diff = stats.wilcoxon(ngscoherence[~np.isnan(ngsshuffcoherence)], ngsshuffcoherence[~np.isnan(ngsshuffcoherence)])\n",
    "print('stat = ' + str(stat))\n",
    "print('p_cells = ' + str(p_diff))\n",
    "\n",
    "print('\\nCoherence, NGS vs. Grid:')\n",
    "print('Mean, SEM NGS:')\n",
    "print(np.nanmean(ngscoherence), stats.sem(ngscoherence, nan_policy = 'omit')) \n",
    "print('Mean, SEM Grid:')\n",
    "print(np.nanmean(gridcoherence), stats.sem(gridcoherence, nan_policy = 'omit')) \n",
    "stat, p_diff = stats.ranksums(ngscoherence, gridcoherence)\n",
    "print('stat = ' + str(stat))\n",
    "print('p_cells = ' + str(p_diff))\n",
    "\n",
    "#STATS\n",
    "print('\\nSparsity, Grid vs. Shuff:')\n",
    "print('Mean, SEM Grid:')\n",
    "print(np.nanmean(gridsparsity), stats.sem(gridsparsity, nan_policy = 'omit')) \n",
    "print('Mean, SEM Shuffle:')\n",
    "print(np.nanmean(gridshuffsparsity), stats.sem(gridshuffsparsity, nan_policy = 'omit')) \n",
    "stat, p_diff = stats.wilcoxon(gridsparsity, gridshuffsparsity)\n",
    "print('stat = ' + str(stat))\n",
    "print('p_cells = ' + str(p_diff))\n",
    "\n",
    "print('\\nSparsity, NGS vs. Shuff:')\n",
    "print('Mean, SEM NGS:')\n",
    "print(np.nanmean(ngssparsity), stats.sem(ngssparsity, nan_policy = 'omit')) \n",
    "print('Mean, SEM Shuffle:')\n",
    "print(np.nanmean(ngsshuffsparsity), stats.sem(ngsshuffsparsity, nan_policy = 'omit')) \n",
    "stat, p_diff = stats.wilcoxon(ngssparsity[~np.isnan(ngsshuffsparsity)], ngsshuffsparsity[~np.isnan(ngsshuffsparsity)])\n",
    "print('stat = ' + str(stat))\n",
    "print('p_cells = ' + str(p_diff))\n",
    "\n",
    "print('\\nSparsity, NGS vs. Grid:')\n",
    "print('Mean, SEM NGS:')\n",
    "print(np.nanmean(ngssparsity), stats.sem(ngssparsity, nan_policy = 'omit')) \n",
    "print('Mean, SEM Grid:')\n",
    "print(np.nanmean(gridsparsity), stats.sem(gridsparsity, nan_policy = 'omit')) \n",
    "stat, p_diff = stats.ranksums(ngssparsity, gridsparsity)\n",
    "print('stat = ' + str(stat))\n",
    "print('p_cells = ' + str(p_diff))"
   ]
  },
  {
   "cell_type": "code",
   "execution_count": null,
   "id": "736e3821",
   "metadata": {
    "scrolled": true
   },
   "outputs": [],
   "source": [
    "''' Compare Grid vs. NGS Cell Response to Gain Change by Age Group'''\n",
    "dt = 0.02\n",
    "b = 2\n",
    "\n",
    "#age group arrays\n",
    "crossAgrida = []\n",
    "crossAgridma = []\n",
    "crossAgridy = []\n",
    "crossAngsa = []\n",
    "crossAngsma = []\n",
    "crossAngsy = []\n",
    "crossBgrida = []\n",
    "crossBgridma = []\n",
    "crossBgridy = []\n",
    "crossBngsa = []\n",
    "crossBngsma = []\n",
    "crossBngsy = []\n",
    "\n",
    "for m, session in zip(mice,sessions):\n",
    "    \n",
    "    m_crossAgrid = []\n",
    "    m_crossAngs = []\n",
    "    m_crossBgrid = []\n",
    "    m_crossBngs = []\n",
    "\n",
    "    for s in tdqm(session):\n",
    "        \n",
    "        #get data\n",
    "        d = data[m][s]\n",
    "        \n",
    "        #get some data & cell IDs\n",
    "        rawdata_file = 'RAW_' + m + '_' + s + '.npy'\n",
    "        spikes_file = 'SPIKES_' + m + '_' + s +'.npy'\n",
    "        behavior_file = 'BEHAVIOR_' + m + '_' + s + '.npy'\n",
    "        \n",
    "        raw = np.load(load_folder + rawdata_file, allow_pickle=True)\n",
    "        Y = np.load(load_folder + spikes_file, allow_pickle=False) #pre-filtered for speeds >2cm/s, position-corrected spikes, 20 ms timebins\n",
    "        behaviorfil = np.load(load_folder + behavior_file, allow_pickle=False)\n",
    "        \n",
    "        cell_IDs = raw.item().get('cellsfil')\n",
    "        gridcell = d['gridcell'].astype(bool)\n",
    "        gridcells = cell_IDs[gridcell]\n",
    "        ngscell = d['ngscell'].astype(bool)\n",
    "        ngscells = cell_IDs[ngscell]\n",
    "        posx = behaviorfil[:,0]\n",
    "        trial = behaviorfil[:,2]\n",
    "        \n",
    "        # maps including equal numbers normal & gain-adjusted trials removing skipped trials\n",
    "        trialinfo = raw.item().get('trialinfo')\n",
    "        left = trialinfo['left']\n",
    "        gain = trialinfo['gain']\n",
    "        \n",
    "        #check if mouse reached gain period; if not append NaN to all arrays & continue \n",
    "        if len(gain) < 200:\n",
    "            #print(str(m) + str(s) + ' did not reach gain change')\n",
    "            continue \n",
    "            \n",
    "        # get alt A' and B' trials\n",
    "        A_trials = np.where((left == 1))[0]\n",
    "        A_trials = list(A_trials[A_trials >= 140])\n",
    "        B_trials = np.where((left == 0))[0]\n",
    "        B_trials = list(B_trials[B_trials >= 140])\n",
    "        \n",
    "        #Find any skipped trials\n",
    "        try:\n",
    "            _ = raw.item().get('correctedtrial').shape\n",
    "            skippedtrials = get.find_skipped(trial, max_trial_num = 220)\n",
    "            \n",
    "        except:\n",
    "            skippedtrials = []\n",
    "            \n",
    "        alltrial = np.arange(0,220,1)\n",
    "            \n",
    "        #remove any skipped trials from A' and B'    \n",
    "        for n, t in enumerate(skippedtrials):\n",
    "            if t in A_trials:\n",
    "                A_trials.remove(t)\n",
    "            elif t in B_trials:\n",
    "                B_trials.remove(t)\n",
    "    \n",
    "        #get count of gain in each context & select equal number of last Context A or B alt trials before gain\n",
    "        gain_trials = np.where((gain == 0.7))[0]\n",
    "        gain_trials = list(gain_trials)\n",
    "        nagain = len(np.intersect1d(np.asarray(A_trials), np.asarray(gain_trials)))\n",
    "        nbgain = len(np.intersect1d(np.asarray(B_trials), np.asarray(gain_trials)))\n",
    "        \n",
    "        Agtrials = []\n",
    "        A_trials = np.asarray(A_trials)\n",
    "        for n in range(0, nagain):\n",
    "            Agtrials = np.append(Agtrials, A_trials[A_trials < 200][-(n+1)])\n",
    "        Agtrials = np.append(Agtrials, np.intersect1d(A_trials, np.asarray(gain_trials)))\n",
    "        Agtrials = list(np.sort(Agtrials.astype(int)))  \n",
    "             \n",
    "        nbgain = len(np.intersect1d(np.asarray(B_trials), np.asarray(gain_trials)))\n",
    "        Bgtrials = []\n",
    "        B_trials = np.asarray(B_trials)\n",
    "        for n in range(0, nbgain):\n",
    "            Bgtrials = np.append(Bgtrials, B_trials[B_trials < 200][-(n+1)])\n",
    "        Bgtrials = np.append(Bgtrials, np.intersect1d(B_trials, np.asarray(gain_trials)))                   \n",
    "        Bgtrials = list(np.sort(Bgtrials.astype(int)))\n",
    "    \n",
    "        #get indices of observations corresponding to the selected trials\n",
    "        Agidx = []\n",
    "        for t in Agtrials:\n",
    "            Agidx = np.append(Agidx, np.where(trial == t)[0])\n",
    "        Agidx = Agidx.astype(int)\n",
    "            \n",
    "        Bgidx = []\n",
    "        for t in Bgtrials:\n",
    "            Bgidx = np.append(Bgidx, np.where(trial == t)[0])\n",
    "        Bgidx = Bgidx.astype(int)\n",
    "        \n",
    "        #Get A (normal & gain alt) & B (normal & gain alt) spatial maps\n",
    "        #handle edge cases where there aren't any gain change trials in one map or another\n",
    "        if len(Bgidx) == 0:\n",
    "            print(str(m) + str(s) + ' no B gain change trials')\n",
    "            gainAFR, _, _ = ps.tuning_curve_bytrial(posx[Agidx], trial[Agidx], Y[Agidx,:], dt, sigma = 2, b=2, smooth=True, normalize=False, occupancy=True)\n",
    "            \n",
    "            #get difference in avg. pairwise cross_trial_correlation btwn baseline & gain change trials for each context\n",
    "            deltA = []\n",
    "            deltB = []\n",
    "            for i, c in enumerate(cell_IDs):\n",
    "                sdx = (np.where(cell_IDs == c)[0][0]).astype(int)\n",
    "\n",
    "                #ContextA\n",
    "                sim, _  = ps.cross_trial_correlation(gainAFR[:,:,sdx], shift = False) \n",
    "                baseline_sim = pd.DataFrame(sim[:nagain,:nagain])\n",
    "                baseline_avg = ((baseline_sim.sum().sum() - nagain) / 2) / ((nagain**2 - nagain)/2)\n",
    "                gain_sim = pd.DataFrame(sim[nagain:,:nagain])\n",
    "                gain_avg = ((gain_sim.sum().sum() - nagain) / 2) / ((nagain**2 - nagain)/2)\n",
    "                deltA = np.append(deltA, (baseline_avg - gain_avg))\n",
    "\n",
    "            #pool by age group\n",
    "            if m in SM_aged_mice:\n",
    "                crossAgrida = np.append(crossAgrida, deltA[gridcell])\n",
    "                crossAngsa = np.append(crossAngsa, deltA[ngscell])\n",
    "                crossBgrida = np.append(crossBgrida, np.nan)\n",
    "                crossBngsa = np.append(crossBngsa, np.nan)\n",
    "            elif m in SM_MA_mice:\n",
    "                crossAgridma = np.append(crossAgridma, deltA[gridcell])\n",
    "                crossAngsma = np.append(crossAngsma, deltA[ngscell])\n",
    "                crossBgridma = np.append(crossBgridma, np.nan)\n",
    "                crossBngsma = np.append(crossBngsma, np.nan)\n",
    "            else:\n",
    "                crossAgridy = np.append(crossAgridy, deltA[gridcell])\n",
    "                crossAngsy = np.append(crossAngsy, deltA[ngscell])\n",
    "                crossBgridy = np.append(crossBgridy, np.nan)\n",
    "                crossBngsy = np.append(crossBngsy, np.nan)\n",
    "        \n",
    "        elif len(Agidx) == 0:\n",
    "            print(str(m) + str(s) + ' no A gain change trials')\n",
    "            gainBFR, _, _ = ps.tuning_curve_bytrial(posx[Bgidx], trial[Bgidx], Y[Bgidx,:], dt, sigma = 2, b=2, smooth=True, normalize=False, occupancy=True)\n",
    "        \n",
    "            #get difference in avg. pairwise cross_trial_correlation btwn baseline & gain change trials for each context\n",
    "            deltA = []\n",
    "            deltB = []\n",
    "            for i, c in enumerate(spatialcells):\n",
    "                sdx = (np.where(cell_IDs == c)[0][0]).astype(int)\n",
    "\n",
    "                #ContextB\n",
    "                sim, _ = ps.cross_trial_correlation(gainBFR[:,:,sdx], shift = False) \n",
    "                baseline_sim = pd.DataFrame(sim[:nbgain,:nbgain])\n",
    "                baseline_avg = ((baseline_sim.sum().sum() - nbgain) / 2) / ((nbgain**2 - nbgain)/2)\n",
    "                gain_sim = pd.DataFrame(sim[nbgain:,:nbgain])\n",
    "                gain_avg = ((gain_sim.sum().sum() - nbgain) / 2) / ((nbgain**2 - nbgain)/2)\n",
    "                deltB = np.append(deltB, (baseline_avg - gain_avg))\n",
    "                \n",
    "            #pool by age group\n",
    "            if m in SM_aged_mice:\n",
    "                crossAgrida = np.append(crossAgrida, np.nan)\n",
    "                crossAngsa = np.append(crossAngsa, np.nan)\n",
    "                crossBgrida = np.append(crossBgrida, deltB[gridcell])\n",
    "                crossBngsa = np.append(crossBngsa, deltB[ngscell])\n",
    "            elif m in SM_MA_mice:\n",
    "                crossAgridma = np.append(crossAgridma, np.nan)\n",
    "                crossAngsma = np.append(crossAngsma, np.nan)\n",
    "                crossBgridma = np.append(crossBgridma, deltB[gridcell])\n",
    "                crossBngsma = np.append(crossBngsma, deltB[ngscell])\n",
    "            else:\n",
    "                crossAgridy = np.append(crossAgridy, np.nan)\n",
    "                crossAngsy = np.append(crossAngsy, np.nan)\n",
    "                crossBgridy = np.append(crossBgridy, deltB[gridcell])\n",
    "                crossBngsy = np.append(crossBngsy, deltB[ngscell])\n",
    "                \n",
    "        else:\n",
    "            gainAFR, _, _ = ps.tuning_curve_bytrial(posx[Agidx], trial[Agidx], Y[Agidx,:], dt, sigma = 2, b=2, smooth=True, normalize=False, occupancy=True)\n",
    "            gainBFR, _, _ = ps.tuning_curve_bytrial(posx[Bgidx], trial[Bgidx], Y[Bgidx,:], dt, sigma = 2, b=2, smooth=True, normalize=False, occupancy=True)\n",
    "             \n",
    "            #get difference in avg. pairwise cross_trial_correlation btwn baseline & gain change trials for each context\n",
    "            deltA = []\n",
    "            deltB = []\n",
    "            for i, c in enumerate(cell_IDs):\n",
    "                sdx = (np.where(cell_IDs == c)[0][0]).astype(int)\n",
    "\n",
    "                #ContextA\n",
    "                sim, _  = ps.cross_trial_correlation(gainAFR[:,:,sdx], shift = False) \n",
    "                baseline_sim = pd.DataFrame(sim[:nagain,:nagain]) #non-gain vs. non-gain\n",
    "                baseline_avg = ((baseline_sim.sum().sum() - nagain) / 2) / ((nagain**2 - nagain)/2)\n",
    "                gain_sim = pd.DataFrame(sim[nagain:,:nagain]) #gain vs. non-gain\n",
    "                gain_avg = ((gain_sim.sum().sum() - nagain) / 2) / ((nagain**2 - nagain)/2)\n",
    "                deltA = np.append(deltA, (baseline_avg - gain_avg))\n",
    "\n",
    "                #ContextB\n",
    "                sim, _ = ps.cross_trial_correlation(gainBFR[:,:,sdx], shift = False) \n",
    "                baseline_sim = pd.DataFrame(sim[:nbgain,:nbgain])\n",
    "                baseline_avg = ((baseline_sim.sum().sum() - nbgain) / 2) / ((nbgain**2 - nbgain)/2)\n",
    "                gain_sim = pd.DataFrame(sim[nbgain:,:nbgain])\n",
    "                gain_avg = ((gain_sim.sum().sum() - nbgain) / 2) / ((nbgain**2 - nbgain)/2)\n",
    "                deltB = np.append(deltB, (baseline_avg - gain_avg))\n",
    "\n",
    "            #pool by age group\n",
    "            if m in SM_aged_mice:\n",
    "                crossAgrida = np.append(crossAgrida, deltA[gridcell])\n",
    "                crossAngsa = np.append(crossAngsa, deltA[ngscell])\n",
    "                crossBgrida = np.append(crossBgrida, deltB[gridcell])\n",
    "                crossBngsa = np.append(crossBngsa, deltB[ngscell])\n",
    "            elif m in SM_MA_mice:\n",
    "                crossAgridma = np.append(crossAgridma, deltA[gridcell])\n",
    "                crossAngsma = np.append(crossAngsma, deltA[ngscell])\n",
    "                crossBgridma = np.append(crossBgridma, deltB[gridcell])\n",
    "                crossBngsma = np.append(crossBngsma, deltB[ngscell])\n",
    "            else:\n",
    "                crossAgridy = np.append(crossAgridy, deltA[gridcell])\n",
    "                crossAngsy = np.append(crossAngsy, deltA[ngscell])\n",
    "                crossBgridy = np.append(crossBgridy, deltB[gridcell])\n",
    "                crossBngsy = np.append(crossBngsy, deltB[ngscell])"
   ]
  },
  {
   "cell_type": "code",
   "execution_count": null,
   "id": "89f8d989",
   "metadata": {},
   "outputs": [],
   "source": [
    "''' Plot Gain Change Response CDF by Age Group (Figure S3h)'''\n",
    "\n",
    "bins = np.arange(-0.2,0.8,0.05)\n",
    "fig, ax = plt.subplots(2,3, figsize = (4.25, 1.25), sharey = True, sharex = True)\n",
    "#fig.suptitle('Avg. Pairwise Cross Correlation Change', fontsize = 10)\n",
    "\n",
    "# Young A Grid vs. ngs\n",
    "y, bin_edges = np.histogram(crossAgridy, bins = bins)\n",
    "pdf = y / sum(y)\n",
    "ycdf = np.cumsum(pdf)\n",
    "ax[0,0].plot(bin_edges[1:], ycdf, '-', linewidth = 0.75, color = 'C0', label = 'grid')\n",
    "\n",
    "y, bin_edges = np.histogram(crossAngsy, bins = bins)\n",
    "pdf = y / sum(y)\n",
    "ycdf = np.cumsum(pdf)\n",
    "ax[0,0].plot(bin_edges[1:], ycdf, '-', linewidth = 0.75, color = 'C0', alpha = 0.5, label = 'ngs')\n",
    "ax[0,0].set_ylabel('CDF', fontsize = 9)\n",
    "#ax[0,0].legend(fontsize = 9)\n",
    "\n",
    "# MA A Grid vs. ngs\n",
    "ma, bin_edges = np.histogram(crossAgridma, bins = bins)\n",
    "pdf = ma / sum(ma)\n",
    "macdf = np.cumsum(pdf)\n",
    "ax[0,1].plot(bin_edges[1:], macdf, '-', linewidth = 0.75, color = 'C2', label = 'grid')\n",
    "\n",
    "ma, bin_edges = np.histogram(crossAngsma, bins = bins)\n",
    "pdf = ma / sum(ma)\n",
    "macdf = np.cumsum(pdf)\n",
    "ax[0,1].plot(bin_edges[1:], macdf, '-', linewidth = 0.75, color = 'C2', label = 'ngs', alpha = 0.5)\n",
    "\n",
    "# Aged A Grid vs. ngs\n",
    "a, bin_edges = np.histogram(crossAgrida, bins = bins)\n",
    "pdf = a / sum(a)\n",
    "acdf = np.cumsum(pdf)\n",
    "ax[0,2].plot(bin_edges[1:], acdf, '-', linewidth = 0.75, color = 'C1', label = 'grid')\n",
    "\n",
    "a, bin_edges = np.histogram(crossAngsa, bins = bins)\n",
    "pdf = a / sum(a)\n",
    "acdf = np.cumsum(pdf)\n",
    "ax[0,2].plot(bin_edges[1:], acdf, '-', linewidth = 0.75, color = 'C1', label = 'ngs', alpha = 0.5)\n",
    "\n",
    "# Young B Grid vs. ngs\n",
    "y, bin_edges = np.histogram(crossBgridy, bins = bins)\n",
    "pdf = y / sum(y)\n",
    "ycdf = np.cumsum(pdf)\n",
    "ax[1,0].plot(bin_edges[1:], ycdf, '-', linewidth = 0.75, color = 'C0', label = 'grid')\n",
    "\n",
    "y, bin_edges = np.histogram(crossBngsy, bins = bins)\n",
    "pdf = y / sum(y)\n",
    "ycdf = np.cumsum(pdf)\n",
    "ax[1,0].plot(bin_edges[1:], ycdf, '-', linewidth = 0.75, color = 'C0', alpha = 0.5, label = 'ngs')\n",
    "ax[1,0].set_ylabel('CDF', fontsize = 9)\n",
    "#ax[1,0].legend(fontsize = 9)\n",
    "\n",
    "# MA B Grid vs. ngs\n",
    "ma, bin_edges = np.histogram(crossBgridma, bins = bins)\n",
    "pdf = ma / sum(ma)\n",
    "macdf = np.cumsum(pdf)\n",
    "ax[1,1].plot(bin_edges[1:], macdf, '-', linewidth = 0.75, color = 'C2', label = 'grid')\n",
    "\n",
    "ma, bin_edges = np.histogram(crossBngsma, bins = bins)\n",
    "pdf = ma / sum(ma)\n",
    "macdf = np.cumsum(pdf)\n",
    "ax[1,1].plot(bin_edges[1:], macdf, '-', linewidth = 0.75, color = 'C2', label = 'ngs', alpha = 0.5)\n",
    "#ax[1,0].legend(fontsize = 9)\n",
    "\n",
    "# Aged B Grid vs. ngs\n",
    "a, bin_edges = np.histogram(crossBgrida, bins = bins)\n",
    "pdf = a / sum(a)\n",
    "acdf = np.cumsum(pdf)\n",
    "ax[1,2].plot(bin_edges[1:], acdf, '-', linewidth = 0.75, color = 'C1', label = 'grid')\n",
    "\n",
    "a, bin_edges = np.histogram(crossBngsa, bins = bins)\n",
    "pdf = a / sum(a)\n",
    "acdf = np.cumsum(pdf)\n",
    "ax[1,2].plot(bin_edges[1:], acdf, '-', linewidth = 0.75, color = 'C1', label = 'ngs', alpha = 0.5)\n",
    "\n",
    "fig.supxlabel('Mean Pairwise Similarity Change (Gain vs. Normal Trials)', fontsize = 9, y = -0.18)\n",
    "ax[0,0].set_xlim([0,0.6])\n",
    "ax[0,0].set_ylim([0,1])\n",
    "\n",
    "plt.savefig(save_folder + 'S3H.png', dpi=400, bbox_inches='tight')\n",
    "plt.savefig(save_folder + 'S3H.svg', dpi=400, bbox_inches='tight')\n",
    "plt.show()"
   ]
  },
  {
   "cell_type": "code",
   "execution_count": null,
   "id": "38df8a85",
   "metadata": {},
   "outputs": [],
   "source": [
    "'''Wilcoxon Rank Sums Comparison of Grid vs. NGS Cell Gain Change Response (by Age Group x Context)'''\n",
    "print('\\nYoung A Grid vs. ngs:')\n",
    "print('crossAyoung_grid ± SEM, crossAyoung_ngs ± SEM')\n",
    "print(str(np.round(np.nanmean(crossAgridy[~np.isnan(crossAgridy)]), 3)) + ' ± ' + str(np.round(stats.sem(crossAgridy[~np.isnan(crossAgridy)]), 3)) + ' ; ' \n",
    "      + str(np.round(np.nanmean(crossAngsy[~np.isnan(crossAngsy)]), 3)) + ' ± ' + str(np.round(stats.sem(crossAngsy[~np.isnan(crossAngsy)]), 3)))\n",
    "\n",
    "stat, p_diff = stats.ranksums(crossAgridy[~np.isnan(crossAgridy)],crossAngsy[~np.isnan(crossAngsy)])\n",
    "print('stat = ' + str(stat))\n",
    "print('p_session, P = ' + str(p_diff))\n",
    "\n",
    "print('\\nYoung B Grid vs. ngs:')\n",
    "print('crossByoung_grid ± SEM, crossByoung_ngs ± SEM')\n",
    "print(str(np.round(np.nanmean(crossBgridy[~np.isnan(crossBgridy)]), 3)) + ' ± ' + str(np.round(stats.sem(crossBgridy[~np.isnan(crossBgridy)], nan_policy = 'omit'), 3)) + ' ; ' \n",
    "      + str(np.round(np.nanmean(crossBngsy[~np.isnan(crossBngsy)]), 3)) + ' ± ' + str(np.round(stats.sem(crossBngsy[~np.isnan(crossBngsy)], nan_policy = 'omit'), 3)))\n",
    "\n",
    "stat, p_diff = stats.ranksums(crossBgridy[~np.isnan(crossBgridy)],crossBngsy[~np.isnan(crossBngsy)])\n",
    "print('stat = ' + str(stat))\n",
    "print('p_session, P = ' + str(p_diff))\n",
    "\n",
    "print('\\nMA A Grid vs. ngs:')\n",
    "print('crossAMA_grid ± SEM, crossAMA_ngs ± SEM')\n",
    "print(str(np.round(np.nanmean(crossAgridma[~np.isnan(crossAgridma)]), 3)) + ' ± ' + str(np.round(stats.sem(crossAgridma[~np.isnan(crossAgridma)]), 3)) + ' ; ' \n",
    "      + str(np.round(np.nanmean(crossAngsma[~np.isnan(crossAngsma)]), 3)) + ' ± ' + str(np.round(stats.sem(crossAngsma[~np.isnan(crossAngsma)]), 3)))\n",
    "\n",
    "stat, p_diff = stats.ranksums(crossAgridma[~np.isnan(crossAgridma)],crossAngsma[~np.isnan(crossAngsma)])\n",
    "print('stat = ' + str(stat))\n",
    "print('p_session, P = ' + str(p_diff))\n",
    "\n",
    "print('\\nMA B Grid vs. ngs:')\n",
    "print('crossBMA_grid ± SEM, crossBMA_ngs ± SEM')\n",
    "print(str(np.round(np.nanmean(crossBgridma[~np.isnan(crossBgridma)]), 3)) + ' ± ' + str(np.round(stats.sem(crossBgridma[~np.isnan(crossBgridma)], nan_policy = 'omit'), 3)) + ' ; ' \n",
    "      + str(np.round(np.nanmean(crossBngsma[~np.isnan(crossBngsma)]), 3)) + ' ± ' + str(np.round(stats.sem(crossBngsma[~np.isnan(crossBngsma)], nan_policy = 'omit'), 3)))\n",
    "\n",
    "stat, p_diff = stats.ranksums(crossBgridma[~np.isnan(crossBgridma)],crossBngsma[~np.isnan(crossBngsma)])\n",
    "print('stat = ' + str(stat))\n",
    "print('p_session, P = ' + str(p_diff))\n",
    "\n",
    "print('\\nAged A Grid vs. ngs:')\n",
    "print('crossAAged_grid ± SEM, crossAAged_ngs ± SEM')\n",
    "print(str(np.round(np.nanmean(crossAgrida[~np.isnan(crossAgrida)]), 3)) + ' ± ' + str(np.round(stats.sem(crossAgrida[~np.isnan(crossAgrida)]), 3)) + ' ; ' \n",
    "      + str(np.round(np.nanmean(crossAngsa[~np.isnan(crossAngsa)]), 3)) + ' ± ' + str(np.round(stats.sem(crossAngsa[~np.isnan(crossAngsa)]), 3)))\n",
    "\n",
    "stat, p_diff = stats.ranksums(crossAgrida[~np.isnan(crossAgrida)],crossAngsa[~np.isnan(crossAngsa)])\n",
    "print('stat = ' + str(stat))\n",
    "print('p_session, P = ' + str(p_diff))\n",
    "\n",
    "print('\\nAged B Grid vs. ngs:')\n",
    "print('crossBAged_grid ± SEM, crossBAged_ngs ± SEM')\n",
    "print(str(np.round(np.nanmean(crossBgrida[~np.isnan(crossBgrida)]), 3)) + ' ± ' + str(np.round(stats.sem(crossBgrida[~np.isnan(crossBgrida)], nan_policy = 'omit'), 3)) + ' ; ' \n",
    "      + str(np.round(np.nanmean(crossBngsa[~np.isnan(crossBngsa)]), 3)) + ' ± ' + str(np.round(stats.sem(crossBngsa[~np.isnan(crossBngsa)], nan_policy = 'omit'), 3)))\n",
    "\n",
    "stat, p_diff = stats.ranksums(crossBgrida[~np.isnan(crossBgrida)],crossBngsa[~np.isnan(crossBngsa)])\n",
    "print('stat = ' + str(stat))\n",
    "print('p_session, P = ' + str(p_diff))\n"
   ]
  },
  {
   "cell_type": "markdown",
   "id": "12dd2be3",
   "metadata": {},
   "source": [
    "# Grid Cell Stability, Context-Matched Similarity, & Similarity Ratio"
   ]
  },
  {
   "cell_type": "markdown",
   "id": "a13ac708",
   "metadata": {},
   "source": [
    "Figures 2f - k. You can skip to this session after setting up and loading in grid cell booleans. "
   ]
  },
  {
   "cell_type": "code",
   "execution_count": null,
   "id": "eb5e0070",
   "metadata": {},
   "outputs": [],
   "source": [
    "''' Compute & Plot Sorted Cross-Trial Correlation Matrices for Grid Cells; Save Matrices for Later Use \n",
    "\n",
    "Run time is a few minutes per session (scales w/ grid cell number).\n",
    "\n",
    "'''\n",
    "for m, session in zip(mice,sessions):\n",
    "\n",
    "    for s in tdqm(session):\n",
    "        \n",
    "        #get data\n",
    "        d = data[m][s]\n",
    "        \n",
    "        #get some data & cell IDs\n",
    "        rawdata_file = 'RAW_' + m + '_' + s + '.npy'\n",
    "        spikes_file = 'SPIKES_' + m + '_' + s +'.npy'\n",
    "        behavior_file = 'BEHAVIOR_' + m + '_' + s + '.npy'\n",
    "        \n",
    "        raw = np.load(load_folder + rawdata_file, allow_pickle=True)\n",
    "        Y = np.load(load_folder + spikes_file, allow_pickle=False) #pre-filtered for speeds >2cm/s, position-corrected spikes, 20 ms timebins\n",
    "        behaviorfil = np.load(load_folder + behavior_file, allow_pickle=False)\n",
    "        \n",
    "        cell_IDs = raw.item().get('cellsfil')\n",
    "        gridcell = d['gridcell'].astype(bool)\n",
    "        gridcells = cell_IDs[gridcell]    \n",
    "    \n",
    "        posx = behaviorfil[:,0]\n",
    "        trial = behaviorfil[:,2]\n",
    "        rawtrialfil = raw.item().get('trialfil')\n",
    "        \n",
    "        #Find any skipped trials\n",
    "        try:\n",
    "            _ = raw.item().get('correctedtrial').shape\n",
    "            skippedtrials = get.find_skipped(trial, max_trial_num = 220)\n",
    "            \n",
    "        except:\n",
    "            skippedtrials = []\n",
    "        \n",
    "        if np.max(np.unique(trial)) < 160: #handles truncated, shorter sessions \n",
    "            alltrial = np.arange(0, np.max(np.unique(trial)) + 2, 1)\n",
    "        else:\n",
    "            alltrial = np.arange(0,220,1)\n",
    "\n",
    "        # Load in left vs. right info\n",
    "        trials = np.unique(trial)\n",
    "        trialinfo = raw.item().get('trialinfo')\n",
    "        left = trialinfo['left']\n",
    "        \n",
    "        # Sort trials by context, find sorted skipped trials, num dark skipped trials\n",
    "        leftsort, allcopy = get.contextsortedtrials(alltrial, left, alt_idx = 140)\n",
    "        \n",
    "        newskippedtrials = []\n",
    "        for z in skippedtrials:\n",
    "            newskippedtrials = np.append(newskippedtrials, np.where(allcopy == z)[0][0])\n",
    "\n",
    "        ndarkskipped = 0\n",
    "        for z in newskippedtrials:\n",
    "            if z < 20: \n",
    "                ndarkskipped += 1\n",
    "                \n",
    "        #adjust trialfil so that sorted trials are skipped instead\n",
    "        skippedrawtrialfil = get.sortedtrialbyframe(rawtrialfil, trial, newskippedtrials)\n",
    "        numtrial = np.unique(skippedrawtrialfil)\n",
    "\n",
    "        #sort spike train & position on VR frames by context during alternation\n",
    "        posxcopy = []\n",
    "        allcopy= np.append(allcopy, 220)\n",
    "        for t in allcopy:\n",
    "            obs_idx = np.where(trial == t)[0]\n",
    "            posxcopy = np.append(posxcopy, posx[obs_idx])\n",
    "            if t == 0:\n",
    "                Z = Y[obs_idx,:]\n",
    "            else: \n",
    "                Z = np.append(Z, Y[obs_idx,:], axis = 0)\n",
    "        \n",
    "        #trim off the dark trials & trial 220 dataframes\n",
    "        start_idx = (np.where(skippedrawtrialfil >= 20)[0][0]).astype(int)\n",
    "        if np.max(skippedrawtrialfil) == 220:\n",
    "            end_idx = (np.where(skippedrawtrialfil == 220)[0][0])\n",
    "            #get smoothed by trial FR matrix excluding dark period sorted by context\n",
    "            normFR, _, _ = ps.tuning_curve_bytrial(posxcopy[start_idx:end_idx], skippedrawtrialfil[start_idx:end_idx], Z[start_idx:end_idx,:], dt, sigma = 5, b=2, smooth=True, normalize=True, occupancy=True)\n",
    "        else:\n",
    "            end_idx = len(skippedrawtrialfil) + 1\n",
    "            #get smoothed by trial FR matrix excluding dark period sorted by context\n",
    "            normFR, _, _ = ps.tuning_curve_bytrial(posxcopy[start_idx:], skippedrawtrialfil[start_idx:], Z[start_idx:,:], dt, sigma = 5, b=2, smooth=True, normalize=True, occupancy=True)\n",
    "\n",
    "        #collect & plot cross-trial correlation matrices & save for the grid cell population\n",
    "        allsim = np.zeros(shape = (len(np.unique(skippedrawtrialfil[start_idx:end_idx])),len(np.unique(skippedrawtrialfil[start_idx:end_idx])),len(gridcells)))\n",
    "        for i, c in enumerate(gridcells):\n",
    "            sdx = (np.where(cell_IDs == c)[0][0]).astype(int)  \n",
    "            sim , _  = ps.cross_trial_correlation(normFR[:,:,sdx], shift = False) \n",
    "            allsim[:,:,i] = sim\n",
    "            \n",
    "        # save matrix of cross-trial correlations\n",
    "        d['allgridsim'] = allsim\n",
    "                               \n",
    "        allgridsim_file = 'allsim_' + m + '_' + s + '_'+ '.npy'\n",
    "        np.save(save_folder + allgridsim_file, allsim)"
   ]
  },
  {
   "cell_type": "code",
   "execution_count": null,
   "id": "93215f9f",
   "metadata": {
    "scrolled": true
   },
   "outputs": [],
   "source": [
    "''' Calculate Local Cross Trial Correlation Stability within Each Context'''\n",
    "\n",
    "from scipy.spatial.distance import pdist\n",
    "from scipy.spatial.distance import squareform\n",
    "\n",
    "dt = 0.02\n",
    "\n",
    "slocstab5A = []\n",
    "slocstab5B = []\n",
    "slocstab5A_ = []\n",
    "slocstab5B_ = []\n",
    "\n",
    "mlocstab5A = []\n",
    "mlocstab5B = []\n",
    "mlocstab5A_ = []\n",
    "mlocstab5B_ = []\n",
    "max_k = 5\n",
    "\n",
    "#cell arrays\n",
    "ylocstab5A = []\n",
    "ylocstab5B = []\n",
    "ylocstab5A_ = []\n",
    "ylocstab5B_ = []\n",
    "\n",
    "malocstab5A = []\n",
    "malocstab5B = []\n",
    "malocstab5A_ = []\n",
    "malocstab5B_ = []\n",
    "\n",
    "alocstab5A = []\n",
    "alocstab5B = []\n",
    "alocstab5A_ = []\n",
    "alocstab5B_ = []\n",
    "\n",
    "blockstability = []\n",
    "\n",
    "for m, session in zip(mice, sessions):\n",
    "    \n",
    "    m_locstab5A = []\n",
    "    m_locstab5B = []\n",
    "    m_locstab5A_ = []\n",
    "    m_locstab5B_ = []\n",
    "    \n",
    "    for s in tdqm(session):\n",
    "        d = data[m][s]\n",
    "        \n",
    "        #get some data & cell IDs\n",
    "        rawdata_file = 'RAW_' + m + '_' + s + '.npy'\n",
    "        behavior_file = 'BEHAVIOR_' + m + '_' + s + '.npy'\n",
    "        raw = np.load(load_folder + rawdata_file, allow_pickle=True)\n",
    "        behaviorfil = np.load(load_folder + behavior_file, allow_pickle=False)\n",
    "        cell_IDs = raw.item().get('cellsfil')\n",
    "        gridcell = d['gridcell'].astype(bool)\n",
    "        gridcells = cell_IDs[gridcell]   \n",
    "        \n",
    "        trial = behaviorfil[:,2]\n",
    "        \n",
    "        #load the context lengths, exclude A' and B' gain change trials\n",
    "        Aidx = d['Aidx']\n",
    "        lengthA = len(np.unique(trial[Aidx]))\n",
    "        Bidx = d['Bidx'] \n",
    "        lengthB = len(np.unique(trial[Bidx]))\n",
    "        a_idx = d['A_idx']\n",
    "        lengtha_= len(np.unique(trial[a_idx]))\n",
    "        A_idx = d['A_ngidx'] \n",
    "        lengthA_= len(np.unique(trial[A_idx]))\n",
    "        B_idx = d['B_ngidx']\n",
    "        lengthB_= len(np.unique(trial[B_idx]))\n",
    "        \n",
    "        allgridsim_file = 'allsim_' + m + '_' + s + '_'+ '.npy'\n",
    "        d['allgridsim'] = np.load(save_folder + allgridsim_file)\n",
    "        allgridsim = d['allgridsim']\n",
    "        \n",
    "        local_stabilityA = []\n",
    "        local_stabilityB = []\n",
    "        local_stabilityA_ = []\n",
    "        local_stabilityB_ = []\n",
    "        for i, c in enumerate(gridcells):\n",
    "            \n",
    "            #divide sim by context\n",
    "            sim = allgridsim[:,:,i]\n",
    "            simA = sim[:lengthA,:lengthA]\n",
    "            simB = sim[lengthA:(lengthA + lengthB),lengthA:(lengthA + lengthB)]\n",
    "            simA_ = sim[(lengthA + lengthB):(lengthA + lengthB + lengthA_), (lengthA + lengthB):(lengthA + lengthB + lengthA_)]\n",
    "            simB_ = sim[(lengthA + lengthB + lengtha_):(lengthA + lengthB + lengtha_ + lengthB_),(lengthA + lengthB + lengtha_):(lengthA + lengthB + lengtha_ + lengthB_)]\n",
    "            \n",
    "            # Context A local neighborhood 5 trials\n",
    "            max_k = 5\n",
    "            sum_k = np.zeros(simA.shape[0])\n",
    "            for k in np.arange(-max_k, max_k+1, 1):\n",
    "                if k == 0:\n",
    "                    continue\n",
    "                elif k < 0:\n",
    "                    sum_k[np.abs(k):] = sum_k[np.abs(k):] + np.diagonal(simA, offset=k)\n",
    "                else:\n",
    "                    sum_k[:-k] = sum_k[:-k] + np.diagonal(simA, offset=k)\n",
    "            local_stabilityA = np.append(local_stabilityA, np.nanmean(sum_k[max_k:-max_k]/(2*max_k)))\n",
    "            blockstability = np.append(blockstability, np.nanmean(sum_k[max_k:-max_k]/(2*max_k))) # block 1\n",
    "\n",
    "            #Context B\n",
    "            max_k = 5\n",
    "            sum_k = np.zeros(simB.shape[0])\n",
    "            for k in np.arange(-max_k, max_k+1, 1):\n",
    "                if k == 0:\n",
    "                    continue\n",
    "                elif k < 0:\n",
    "                    sum_k[np.abs(k):] = sum_k[np.abs(k):] + np.diagonal(simB, offset=k)\n",
    "                else:\n",
    "                    sum_k[:-k] = sum_k[:-k] + np.diagonal(simB, offset=k)\n",
    "            local_stabilityB = np.append(local_stabilityB, np.nanmean(sum_k[max_k:-max_k]/(2*max_k)))\n",
    "            blockstability = np.append(blockstability, np.nanmean(sum_k[max_k:-max_k]/(2*max_k))) # block 2\n",
    "\n",
    "            #Context A_\n",
    "            max_k = 5\n",
    "            sum_k = np.zeros(simA_.shape[0])\n",
    "            \n",
    "            if simA_.shape[0] <= 2*max_k:\n",
    "                print(m, s, simA_.shape[0], simB_.shape[0])\n",
    "                max_k = simA_.shape[0]//2\n",
    "                max_k = 3\n",
    "                \n",
    "            for k in np.arange(-max_k, max_k+1, 1):\n",
    "                if k == 0:\n",
    "                    continue\n",
    "                elif k < 0:\n",
    "                    sum_k[np.abs(k):] = sum_k[np.abs(k):] + np.diagonal(simA_, offset=k)\n",
    "                else:\n",
    "                    sum_k[:-k] = sum_k[:-k] + np.diagonal(simA_, offset=k)\n",
    "                    \n",
    "            local_stabilityA_ = np.append(local_stabilityA_, np.nanmean(sum_k[max_k:-max_k]/(2*max_k)))\n",
    "            blockstability = np.append(blockstability, np.nanmean(sum_k[max_k:-max_k]/(2*max_k))) # block 3\n",
    "            \n",
    "            #Context B_\n",
    "            if simB_.shape[0] <= 10:\n",
    "                print('keeping lower max k for B_...' + str(max_k))\n",
    "            else: \n",
    "                max_k = 5\n",
    "                \n",
    "            sum_k = np.zeros(simB_.shape[0])\n",
    "            \n",
    "            for k in np.arange(-max_k, max_k+1, 1):\n",
    "                if k == 0:\n",
    "                    continue\n",
    "                elif k < 0:\n",
    "                    sum_k[np.abs(k):] = sum_k[np.abs(k):] + np.diagonal(simB_, offset=k)\n",
    "                else:\n",
    "                    sum_k[:-k] = sum_k[:-k] + np.diagonal(simB_, offset=k)\n",
    "                    \n",
    "            local_stabilityB_ = np.append(local_stabilityB_, np.nanmean(sum_k[max_k:-max_k]/(2*max_k)))\n",
    "            blockstability = np.append(blockstability, np.nanmean(sum_k[max_k:-max_k]/(2*max_k))) # block 3\n",
    "        \n",
    "        #save session results\n",
    "        slocstab5A = np.append(slocstab5A, np.nanmean(local_stabilityA))\n",
    "        m_locstab5A = np.append(m_locstab5A, local_stabilityA)\n",
    "        slocstab5B = np.append(slocstab5B, np.nanmean(local_stabilityB))\n",
    "        m_locstab5B = np.append(m_locstab5B, local_stabilityB)\n",
    "        slocstab5A_ = np.append(slocstab5A_, np.nanmean(local_stabilityA_))\n",
    "        m_locstab5A_ = np.append(m_locstab5A_, local_stabilityA_)    \n",
    "        slocstab5B_ = np.append(slocstab5B_, np.nanmean(local_stabilityB_))\n",
    "        m_locstab5B_ = np.append(m_locstab5B_, local_stabilityB_)\n",
    "        \n",
    "        #pool by age group\n",
    "        if m in SM_aged_mice:\n",
    "            alocstab5A = np.append(alocstab5A, local_stabilityA) \n",
    "            alocstab5B = np.append(alocstab5B, local_stabilityB) \n",
    "            alocstab5A_ = np.append(alocstab5A_, local_stabilityA_) \n",
    "            alocstab5B_ = np.append(alocstab5B_, local_stabilityB_) \n",
    "        elif m in SM_MA_mice:\n",
    "            malocstab5A = np.append(malocstab5A, local_stabilityA) \n",
    "            malocstab5B = np.append(malocstab5B, local_stabilityB) \n",
    "            malocstab5A_ = np.append(malocstab5A_, local_stabilityA_) \n",
    "            malocstab5B_ = np.append(malocstab5B_, local_stabilityB_) \n",
    "        else:\n",
    "            ylocstab5A = np.append(ylocstab5A, local_stabilityA) \n",
    "            ylocstab5B = np.append(ylocstab5B, local_stabilityB) \n",
    "            ylocstab5A_ = np.append(ylocstab5A_, local_stabilityA_) \n",
    "            ylocstab5B_ = np.append(ylocstab5B_, local_stabilityB_) \n",
    "            \n",
    "    #pool by animal\n",
    "    mlocstab5A = np.append(mlocstab5A, np.nanmean(m_locstab5A))\n",
    "    mlocstab5B = np.append(mlocstab5B, np.nanmean(m_locstab5B))\n",
    "    mlocstab5A_ = np.append(mlocstab5A_, np.nanmean(m_locstab5A_))\n",
    "    mlocstab5B_ = np.append(mlocstab5B_, np.nanmean(m_locstab5B_))\n",
    "\n",
    "#save arrays\n",
    "slocstab5A = np.asarray(slocstab5A)\n",
    "slocstab5B = np.asarray(slocstab5B)\n",
    "slocstab5A_ = np.asarray(slocstab5A_)\n",
    "slocstab5B_ = np.asarray(slocstab5B_)\n",
    "\n",
    "mlocstab5A = np.asarray(mlocstab5A)\n",
    "mlocstab5B = np.asarray(mlocstab5B)\n",
    "mlocstab5A_ = np.asarray(mlocstab5A_)\n",
    "mlocstab5B_ = np.asarray(mlocstab5B_)"
   ]
  },
  {
   "cell_type": "code",
   "execution_count": null,
   "id": "c433e721",
   "metadata": {
    "scrolled": true
   },
   "outputs": [],
   "source": [
    "''' Define a List of Sex, Mouse ID, Session Count, Age for each Grid Cell'''\n",
    "import statsmodels.api as sm\n",
    "import statsmodels.formula.api as smf\n",
    "\n",
    "sex = list(animalmeta.Sex[mice_ind])\n",
    "csex = []\n",
    "cmice = []\n",
    "ccount = []\n",
    "cage = []\n",
    "cidx = []\n",
    "ccohort = []\n",
    "cengageA = []\n",
    "cengageB = []\n",
    "cengageA_ = []\n",
    "cengageB_ = []\n",
    "\n",
    "totalcells = 0\n",
    "for m, session in zip(mice, sessions):\n",
    "    \n",
    "    msex = sex[np.where(mice == m)[0][0]]\n",
    "    age =  np.array(animalmeta.loc[(animalmeta.Animal_ID == m),'Age_Group'])\n",
    "    cohort =  np.array(animalmeta.loc[(animalmeta.Animal_ID == m),'Cohort'])\n",
    "    totalsesh = len(session)\n",
    "    \n",
    "    for i, s in enumerate(tdqm(session)):\n",
    "        \n",
    "        d = data[m][s]\n",
    "        \n",
    "        rawdata_file = 'RAW_' + m + '_' + s + '.npy'\n",
    "        raw = np.load(load_folder + rawdata_file, allow_pickle=True)\n",
    "        cell_IDs = raw.item().get('cellsfil')\n",
    "        gridcell = d['gridcell'].astype(bool)\n",
    "        gridcells = cell_IDs[gridcell]\n",
    "        \n",
    "        engagement_file = 'engagement_' + str(m) + '_' + str(s) + '.npy'\n",
    "        blocknclickrate = np.load(engagement_folder + engagement_file)\n",
    "        \n",
    "        for j, c in enumerate(gridcells):\n",
    "            cidx = np.append(cidx, totalcells)\n",
    "            csex = np.append(csex, msex)\n",
    "            cmice = np.append(cmice, m)\n",
    "            ccount = np.append(ccount, (i + 1))\n",
    "            cage = np.append(cage, age)\n",
    "            ccohort = np.append(ccohort, cohort)\n",
    "            cengageA = np.append(cengageA, blocknclickrate[0])\n",
    "            cengageB = np.append(cengageA, blocknclickrate[1])\n",
    "            cengageA_ = np.append(cengageA, blocknclickrate[2])\n",
    "            cengageB_ = np.append(cengageA, blocknclickrate[3])\n",
    "            \n",
    "            totalcells += 1\n",
    "\n",
    "#gather fixed effects into lists\n",
    "Animal_ID = list(cmice)\n",
    "Session = list(ccount)\n",
    "Sex = list(csex)\n",
    "Age_Group = list(cage)\n",
    "Cell_ID = list(cidx)\n",
    "Cohort = list(ccohort)\n",
    "EngageA = list(cengageA)\n",
    "EngageB = list(cengageB)\n",
    "EngageA_ = list(cengageA_)\n",
    "EngageB_ = list(cengageB_)"
   ]
  },
  {
   "cell_type": "code",
   "execution_count": null,
   "id": "7d26c6bf",
   "metadata": {
    "scrolled": true
   },
   "outputs": [],
   "source": [
    "''' LMMs for Moving Avg Similarity [Stability] '''        \n",
    "#gather dependent variables into lists\n",
    "locstab5A = list(np.concatenate((alocstab5A, malocstab5A, ylocstab5A)))\n",
    "locstab5B = list(np.concatenate((alocstab5B, malocstab5B, ylocstab5B)))\n",
    "locstab5A_ = list(np.concatenate((alocstab5A_, malocstab5A_, ylocstab5A_)))\n",
    "locstab5B_ = list(np.concatenate((alocstab5B_, malocstab5B_, ylocstab5B_)))\n",
    "hue_order = [1.0, 3.0, 2.0]\n",
    "\n",
    "tuples = list(zip(Animal_ID, Session, Cell_ID, Sex, Age_Group, Cohort, EngageA, EngageB, EngageA_, EngageB_, locstab5A, locstab5B, locstab5A_, locstab5B_))\n",
    "tuples\n",
    "df = pd.DataFrame(tuples, columns = ['AnimalID', 'Session','Cell_ID','Sex', 'AgeGroup', 'Cohort','EngageA', 'EngageB', 'EngageA_', 'EngageB_','locstab5A','locstab5B', 'locstab5A_', 'locstab5B_'])\n",
    "\n",
    "#handle NaNs\n",
    "df = df.dropna(axis = 0)\n",
    "\n",
    "#AA Dependent\n",
    "vc = {'cells':'0 + C(Cell_ID)'}\n",
    "mA = smf.mixedlm('locstab5A ~ 1 + C(AgeGroup) + C(Sex) + C(Cohort) + EngageA + Session:C(AgeGroup)', groups = 'AnimalID', re_formula = '1', vc_formula = vc,\n",
    "                     data=df).fit(reml= True)\n",
    "print(mA.summary())\n",
    "print(mA.wald_test_terms(scalar = False))\n",
    "\n",
    "df['residA'] = mA.resid\n",
    "fig, ax = plt.subplots(figsize = (12,3))\n",
    "sns.violinplot(data = df, x = 'AnimalID', y = 'residA', inner = 'quartile', ax = ax)\n",
    "plt.title('Avg A Stability Residuals')\n",
    "plt.show()\n",
    "\n",
    "#BB Dependent\n",
    "vc = {'cells':'0 + C(Cell_ID)'}\n",
    "mB = smf.mixedlm('locstab5B ~ 1 + C(AgeGroup) + C(Sex) + C(Cohort) + EngageB + Session:C(AgeGroup)', groups = 'AnimalID', re_formula = '1', vc_formula = vc,\n",
    "                     data=df).fit(reml= True)\n",
    "print(mB.summary())\n",
    "print(mB.wald_test_terms(scalar = False))\n",
    "\n",
    "df['residB'] = mB.resid\n",
    "fig, ax = plt.subplots(figsize = (12,3))\n",
    "sns.violinplot(data = df, x = 'AnimalID', y = 'residB', inner = 'quartile', ax = ax)\n",
    "plt.title('Avg B Stability Residuals')\n",
    "plt.show()\n",
    "\n",
    "#A_A_ Dependent\n",
    "vc = {'cells':'0 + C(Cell_ID)'}\n",
    "mA_ = smf.mixedlm('locstab5A_ ~ 1 + C(AgeGroup) + C(Sex) + C(Cohort) + EngageA_ + Session:C(AgeGroup)', groups = 'AnimalID', re_formula = '1', vc_formula = vc,\n",
    "                     data=df).fit(reml= True)\n",
    "print(mA_.summary())\n",
    "print(mA_.wald_test_terms(scalar = False))\n",
    "\n",
    "df['residA_'] = mA_.resid\n",
    "fig, ax = plt.subplots(figsize = (12,3))\n",
    "sns.violinplot(data = df, x = 'AnimalID', y = 'residA_', inner = 'quartile', ax = ax)\n",
    "plt.title('Avg A_ Stability Residuals')\n",
    "plt.show()\n",
    "\n",
    "#B_B_ Dependent\n",
    "vc = {'cells':'0 + C(Cell_ID)'}\n",
    "mB_ = smf.mixedlm('locstab5B_ ~ 1 + C(AgeGroup) + C(Sex) + C(Cohort) + EngageB_ + Session:C(AgeGroup)', groups = 'AnimalID', re_formula = '1', vc_formula = vc,\n",
    "                     data=df).fit(reml= True)\n",
    "print(mB_.summary())\n",
    "print(mB_.wald_test_terms(scalar = False))\n",
    "\n",
    "df['residB_'] = mB_.resid\n",
    "fig, ax = plt.subplots(figsize = (12,3))\n",
    "sns.violinplot(data = df, x = 'AnimalID', y = 'residB_', inner = 'quartile', ax = ax)\n",
    "plt.title('Avg B_ Stability Residuals')\n",
    "plt.show()\n"
   ]
  },
  {
   "cell_type": "code",
   "execution_count": null,
   "id": "0cf0c991",
   "metadata": {},
   "outputs": [],
   "source": [
    "''' Get fitted session averages '''\n",
    "\n",
    "r = 6 #sessions\n",
    "\n",
    "df['mA_fitted'] = mA_.fittedvalues\n",
    "df['mB_fitted'] = mB_.fittedvalues\n",
    "\n",
    "resultA_ = df.groupby(by = ['AnimalID','Session'], as_index = False)['mA_fitted'].aggregate('mean')\n",
    "#print(resultA_)\n",
    "seshAanimal = np.asarray(resultA_['AnimalID'])\n",
    "seshAcount = np.asarray(resultA_['Session'])\n",
    "seshA_mean = np.asarray(resultA_['mA_fitted'])\n",
    "\n",
    "resultB_ = df.groupby(by = ['AnimalID','Session'], as_index = False)['mB_fitted'].aggregate('mean')\n",
    "seshBanimal = np.asarray(resultB_['AnimalID'])\n",
    "seshBcount = np.asarray(resultB_['Session'])\n",
    "seshB_mean = np.asarray(resultB_['mB_fitted'])\n",
    "\n",
    "slocstab5A_fitted_seg_aged = [[] * r for i in range(r)]\n",
    "slocstab5A_fitted_seg_MA = [[] * r for i in range(r)]\n",
    "slocstab5A_fitted_seg_young = [[] * r for i in range(r)]\n",
    "slocstab5B_fitted_seg_aged = [[] * r for i in range(r)]\n",
    "slocstab5B_fitted_seg_MA = [[] * r for i in range(r)]\n",
    "slocstab5B_fitted_seg_young = [[] * r for i in range(r)]\n",
    "\n",
    "sessionAcount_fitted_aged = [[] * r for i in range(r)]\n",
    "sessionAcount_fitted_MA = [[] * r for i in range(r)]\n",
    "sessionAcount_fitted_young = [[] * r for i in range(r)]\n",
    "sessionBcount_fitted_aged = [[] * r for i in range(r)]\n",
    "sessionBcount_fitted_MA = [[] * r for i in range(r)]\n",
    "sessionBcount_fitted_young = [[] * r for i in range(r)]\n",
    "\n",
    "for m, session in zip(mice, sessions): \n",
    "    \n",
    "    animalidx = np.where(seshAanimal == m)[0][0]\n",
    "    sessiona_idx = np.where(seshAanimal == m)[0]\n",
    "    sessionb_idx = np.where(seshBanimal == m)[0]\n",
    "\n",
    "    if m in SM_aged_mice:\n",
    "        for i, c in enumerate(seshAcount[sessiona_idx]):\n",
    "            idx = c.astype(int) - 1\n",
    "            slocstab5A_fitted_seg_aged[idx] = np.append(slocstab5A_fitted_seg_aged[idx],seshA_mean[sessiona_idx][i])\n",
    "            sessionAcount_fitted_aged[idx] = np.append(sessionAcount_fitted_aged[idx], c - 1)\n",
    "            \n",
    "        for i, c in enumerate(seshBcount[sessionb_idx]):\n",
    "            idx = c.astype(int) - 1 \n",
    "            slocstab5B_fitted_seg_aged[idx] = np.append(slocstab5B_fitted_seg_aged[idx],seshB_mean[sessionb_idx][i])\n",
    "            sessionBcount_fitted_aged[idx] = np.append(sessionBcount_fitted_aged[idx], c - 1)    \n",
    "        \n",
    "    elif m in SM_MA_mice:\n",
    "        for i, c in enumerate(seshAcount[sessiona_idx]):\n",
    "            idx = c.astype(int) - 1\n",
    "            slocstab5A_fitted_seg_MA[idx] = np.append(slocstab5A_fitted_seg_MA[idx],seshA_mean[sessiona_idx][i])\n",
    "            sessionAcount_fitted_MA[idx] = np.append(sessionAcount_fitted_MA[idx], c - 1)\n",
    "            \n",
    "        for i, c in enumerate(seshBcount[sessionb_idx]):\n",
    "            idx = c.astype(int) - 1\n",
    "            slocstab5B_fitted_seg_MA[idx] = np.append(slocstab5B_fitted_seg_MA[idx],seshB_mean[sessionb_idx][i])\n",
    "            sessionBcount_fitted_MA[idx] = np.append(sessionBcount_fitted_MA[idx], c - 1)   \n",
    "    else:\n",
    "        for i, c in enumerate(seshAcount[sessiona_idx]):\n",
    "            idx = c.astype(int) - 1\n",
    "            slocstab5A_fitted_seg_young[idx] = np.append(slocstab5A_fitted_seg_young[idx],seshA_mean[sessiona_idx][i])\n",
    "            sessionAcount_fitted_young[idx] = np.append(sessionAcount_fitted_young[idx], c - 1)\n",
    "            \n",
    "        for i, c in enumerate(seshBcount[sessionb_idx]):\n",
    "            idx = c.astype(int) - 1\n",
    "            slocstab5B_fitted_seg_young[idx] = np.append(slocstab5B_fitted_seg_young[idx],seshB_mean[sessionb_idx][i])\n",
    "            sessionBcount_fitted_young[idx] = np.append(sessionBcount_fitted_young[idx], c - 1)   "
   ]
  },
  {
   "cell_type": "code",
   "execution_count": null,
   "id": "e226ab7c",
   "metadata": {},
   "outputs": [],
   "source": [
    "''' Composite Plot of Alternation Stability w/ Fitted Session Average Data Points (Figure 2f)'''\n",
    "f, ax = plt.subplots(1, 2, figsize=(3.25, 1.5), sharey = True)\n",
    "\n",
    "g = sns.pointplot(x = df['Session'], y = mA_.fittedvalues, hue = df['AgeGroup'], hue_order = hue_order, ax = ax[0], scale = 0.5)\n",
    "ax[0].set_xticks([0,1,2,3,4,5])\n",
    "ax[0].set_xticklabels([1,2,3,4,5,6])\n",
    "ax[0].set_xlim([-0.5,5.5])\n",
    "ax[1].set_yticks([0,0.15,0.3,0.45])\n",
    "ax[0].set_ylim([0.0,0.45])\n",
    "ax[0].tick_params(labelsize = 8)\n",
    "ax[0].set_ylabel('Mean Stability', fontsize=9, labelpad=1)\n",
    "ax[0].set_xlabel('Session', fontsize=9, labelpad=1)\n",
    "g.legend_.remove()\n",
    "\n",
    "g1 = sns.pointplot(x = df['Session'], y = mB_.fittedvalues, hue = df['AgeGroup'], hue_order = hue_order, ax = ax[1], scale = 0.5)\n",
    "ax[1].set_xticks([0,1,2,3,4,5])\n",
    "ax[1].set_xticklabels([1,2,3,4,5,6])\n",
    "ax[1].set_xlim([-0.5,5.5])\n",
    "ax[1].set_yticks([0,0.15,0.3,0.45])\n",
    "ax[1].set_ylim([0.0,0.45])\n",
    "ax[1].set_xlabel('Session', fontsize=9, labelpad=1)\n",
    "ax[1].tick_params(labelsize = 8)\n",
    "#ax[1].set_ylabel('Stability', fontsize=9, labelpad=1)\n",
    "g1.legend_.remove()\n",
    "\n",
    "for l in g.lines:\n",
    "    plt.setp(l,linewidth = 0.75)\n",
    "    \n",
    "for l in g1.lines:\n",
    "    plt.setp(l,linewidth = 0.75)\n",
    "\n",
    "#scatter plot actual raw data:\n",
    "for i in range(0,len(slocstab5A_fitted_seg_aged)):\n",
    "    print('\\nn aged, MA, young mice on day ' + str(i + 1) + ' for A`')\n",
    "    print(len(sessionAcount_fitted_aged[i]),len(sessionAcount_fitted_MA[i]), len(sessionAcount_fitted_young[i]))\n",
    "    \n",
    "    print('\\nn aged, MA, young mice on day ' + str(i + 1) + ' for B`')\n",
    "    print(len(sessionBcount_fitted_aged[i]),len(sessionBcount_fitted_MA[i]), len(sessionBcount_fitted_young[i]))\n",
    "    \n",
    "    ax[0].scatter(sessionAcount_fitted_aged[i] + 0.1, slocstab5A_fitted_seg_aged[i], s = 5, alpha = 0.4, c = 'C1', edgecolor = 'none')\n",
    "    ax[0].scatter(sessionAcount_fitted_MA[i], slocstab5A_fitted_seg_MA[i], s = 5, alpha = 0.4, c = 'C2', edgecolor = 'none')\n",
    "    ax[0].scatter(sessionAcount_fitted_young[i] - 0.1, slocstab5A_fitted_seg_young[i], s = 5, alpha = 0.4, c = 'C0', edgecolor = 'none')\n",
    "    \n",
    "    ax[1].scatter(sessionBcount_fitted_aged[i] + 0.1, slocstab5B_fitted_seg_aged[i], s = 5, alpha = 0.4, c = 'C1', edgecolor = 'none')\n",
    "    ax[1].scatter(sessionBcount_fitted_MA[i], slocstab5B_fitted_seg_MA[i], s = 5, alpha = 0.4, c = 'C2', edgecolor = 'none')\n",
    "    ax[1].scatter(sessionBcount_fitted_young[i] - 0.1, slocstab5B_fitted_seg_young[i], s = 5, alpha = 0.4, c = 'C0', edgecolor = 'none')\n",
    "\n",
    "#ax[0].legend(loc = 4, fontsize = 9)\n",
    "plt.savefig(save_folder + '2F.png', dpi=400, bbox_inches='tight')\n",
    "plt.savefig(save_folder + '2F.svg', dpi=400, bbox_inches='tight')\n",
    "plt.show()"
   ]
  },
  {
   "cell_type": "code",
   "execution_count": null,
   "id": "b55990f0",
   "metadata": {},
   "outputs": [],
   "source": [
    "''' Find where I will have NaNs'''\n",
    "nan_idxgrid = np.where((spergrid == 0))[0]\n",
    "nan_idxngs = np.where((sperngs == 0))[0]\n",
    "print(nan_idxgrid, nan_idxngs)\n",
    "print(len(col_session[0]),len(col_session[1]),len(col_session[2]))\n",
    "\n",
    "# Adjust y_sind, ma_sind, age_sind for subsequent plots\n",
    "y_sindgrid = np.setdiff1d(y_sind, nan_idxgrid)\n",
    "ma_sindgrid = np.setdiff1d(ma_sind, nan_idxgrid)\n",
    "age_sindgrid = np.setdiff1d(age_sind, nan_idxgrid)\n",
    "\n",
    "y_sindngs = np.setdiff1d(y_sind, nan_idxngs)\n",
    "ma_sindngs = np.setdiff1d(ma_sind, nan_idxngs)\n",
    "age_sindngs = np.setdiff1d(age_sind, nan_idxngs)\n",
    "\n",
    "# Adjust colormaps for grid plots\n",
    "yidx = []\n",
    "maidx = []\n",
    "aidx = []\n",
    "for i in nan_idxgrid:\n",
    "    yidx = np.append(yidx, np.where(y_sind == i)[0].astype(int))\n",
    "    maidx = np.append(maidx, np.where(ma_sind == i)[0].astype(int))\n",
    "    aidx = np.append(aidx, np.where(age_sind == i)[0].astype(int)) \n",
    "\n",
    "col_session_younggrid = np.delete(col_session_young, list(yidx.astype(int)), axis = 0)\n",
    "col_session_magrid = np.delete(col_session_MA, list(maidx.astype(int)), axis = 0)\n",
    "col_session_oldgrid = np.delete(col_session_old, list(aidx.astype(int)), axis = 0)\n",
    "col_sessiongrid = [col_session_younggrid, col_session_magrid, col_session_oldgrid] \n",
    "\n",
    "# Adjust colormaps for ngs plots\n",
    "yidx = []\n",
    "maidx = []\n",
    "aidx = []\n",
    "for i in nan_idxngs:\n",
    "    yidx = np.append(yidx, np.where(y_sind == i)[0].astype(int))\n",
    "    maidx = np.append(maidx, np.where(y_sind == i)[0].astype(int))\n",
    "    aidx = np.append(aidx, np.where(age_sind == i)[0].astype(int))\n",
    "\n",
    "col_session_youngngs = np.delete(col_session_young, list(yidx), axis = 0)\n",
    "col_session_mangs = np.delete(col_session_MA, list(maidx), axis = 0)\n",
    "col_session_oldngs = np.delete(col_session_old, list(aidx), axis = 0)\n",
    "col_sessionngs = [col_session_youngngs, col_session_mangs, col_session_oldngs] \n",
    "\n",
    "print(len(col_session_younggrid),len(col_session_youngngs))\n",
    "print(len(col_session_magrid),len(col_session_mangs))\n",
    "print(len(col_session_oldgrid),len(col_session_oldngs))\n",
    "\n",
    "# This will fix session stats & box plots are plotted."
   ]
  },
  {
   "cell_type": "code",
   "execution_count": null,
   "id": "cd0e4fe2",
   "metadata": {},
   "outputs": [],
   "source": [
    "''' Plot Figure 2g '''\n",
    "### TOTAL ALT STABILITY vs. REQ RATES\n",
    "slocstab5alt = np.nanmean(np.vstack((slocstab5A_,slocstab5B_)), axis = 0)\n",
    "\n",
    "#Linear regression\n",
    "res = stats.linregress(slocstab5alt[y_sindgrid],reqalt_rates[y_sindgrid])\n",
    "yslope1 = res.slope; yint1 = res.intercept; yr1 = res.rvalue; yp1 = res.pvalue\n",
    "\n",
    "res = stats.linregress(slocstab5alt[ma_sindgrid],reqalt_rates[ma_sindgrid])\n",
    "maslope1 = res.slope; maint1 = res.intercept; mar1 = res.rvalue ; map1 = res.pvalue\n",
    "\n",
    "res = stats.linregress(slocstab5alt[age_sindgrid],reqalt_rates[age_sindgrid])\n",
    "aslope1 = res.slope; aint1 = res.intercept; ar1 = res.rvalue ; ap1 = res.pvalue\n",
    "\n",
    "res = stats.linregress(slocstab5alt[~np.isnan(slocstab5alt)],reqalt_rates[~np.isnan(slocstab5alt)])\n",
    "allslope1 = res.slope; allint1 = res.intercept; allr1 = res.rvalue; allp1 = res.pvalue\n",
    "\n",
    "print('Association btwn Young, MA, Aged, & All Performance & Variable of Interest:')\n",
    "print('R [Young, MA, Aged, All]: ')\n",
    "print(yr1, mar1, ar1, allr1)\n",
    "print('P [Young, MA, Aged, All]: ')\n",
    "print(yp1, map1, ap1, allp1)\n",
    "        \n",
    "fig, ax = plt.subplots(2,1, figsize = (2.5,2.7))\n",
    "ax[0].set_title('All Sessions', fontsize = 10)\n",
    "ax[0].scatter(slocstab5alt[y_sindgrid],reqalt_rates[y_sindgrid], color = 'C0', s = 10)\n",
    "ax[0].scatter(slocstab5alt[ma_sindgrid],reqalt_rates[ma_sindgrid], color = 'C2', s = 10)\n",
    "ax[0].scatter(slocstab5alt[age_sindgrid],reqalt_rates[age_sindgrid], color = 'C1', s = 10)\n",
    "ax[0].set_ylim([-0.1,1.1])\n",
    "ax[0].set_xlim([0,0.6])\n",
    "ax[0].set_yticks([0,0.5,1.0])\n",
    "ax[0].tick_params(labelsize = 8)\n",
    "X_plot = np.linspace(ax[0].get_xlim()[0],ax[0].get_xlim()[1],100)\n",
    "ax[0].plot(X_plot, aslope1*X_plot + aint1, '--', linewidth = 0.75, color = 'C1', label = 'Aged')\n",
    "ax[0].plot(X_plot, allslope1*X_plot + allint1, '-', linewidth = 1, color = 'k', label = 'All Ages')\n",
    "#ax.legend(loc = 4, fontsize = 9, prop = {'size': 10})\n",
    "\n",
    "#Select 6th sessions\n",
    "sixthsesh = []\n",
    "seshcount = 0\n",
    "for m, session in zip(mice, sessions):\n",
    "    totalsesh = len(session)\n",
    "    for i, s in enumerate(session):\n",
    "        if (i == (totalsesh - 1)) & (totalsesh >= 6):\n",
    "            sixthsesh = np.append(sixthsesh, seshcount)\n",
    "        seshcount += 1\n",
    "\n",
    "# Get indices for six sesssions in each age group\n",
    "y_sind6th = np.intersect1d(y_sindgrid, sixthsesh).astype(int)\n",
    "ma_sind6th = np.intersect1d(ma_sindgrid, sixthsesh).astype(int)\n",
    "age_sind6th = np.intersect1d(age_sindgrid, sixthsesh).astype(int)\n",
    "print(np.mean(reqalt_rates[y_sind6th]), np.mean(reqalt_rates[ma_sind6th]), np.mean(reqalt_rates[age_sind6th]))\n",
    "\n",
    "### TOTAL ALT STABILITY vs. 6th day REQ RATES\n",
    "slocstab5alt = np.nanmean(np.vstack((slocstab5A_,slocstab5B_)), axis = 0)\n",
    "\n",
    "#Linear regression\n",
    "res = stats.linregress(slocstab5alt[y_sind6th],reqalt_rates[y_sind6th])\n",
    "yslope1 = res.slope; yint1 = res.intercept; yr1 = res.rvalue; yp1 = res.pvalue\n",
    "\n",
    "res = stats.linregress(slocstab5alt[ma_sind6th],reqalt_rates[ma_sind6th])\n",
    "maslope1 = res.slope; maint1 = res.intercept; mar1 = res.rvalue ; map1 = res.pvalue\n",
    "\n",
    "res = stats.linregress(slocstab5alt[age_sind6th],reqalt_rates[age_sind6th])\n",
    "aslope1 = res.slope; aint1 = res.intercept; ar1 = res.rvalue ; ap1 = res.pvalue\n",
    "\n",
    "allidx = np.concatenate((y_sind6th,ma_sind6th,age_sind6th))\n",
    "res = stats.linregress(slocstab5alt[allidx],reqalt_rates[allidx])\n",
    "allslope1 = res.slope; allint1 = res.intercept; allr1 = res.rvalue; allp1 = res.pvalue\n",
    "\n",
    "print('\\nAssociation btwn Young, MA, Aged, & All Performance & Variable of Interest:')\n",
    "print('R [Young, MA, Aged, All]: ')\n",
    "print(yr1, mar1, ar1, allr1)\n",
    "print('P [Young, MA, Aged, All]: ')\n",
    "print(yp1, map1, ap1, allp1)\n",
    "\n",
    "# Plot Day 6 relationships\n",
    "ax[1].set_title('Day 6 Sessions', fontsize = 10)\n",
    "ax[1].scatter(slocstab5alt[y_sind6th],reqalt_rates[y_sind6th], color = 'C0', s = 10)\n",
    "ax[1].scatter(slocstab5alt[ma_sind6th],reqalt_rates[ma_sind6th], color = 'C2', s = 10)\n",
    "ax[1].scatter(slocstab5alt[age_sind6th],reqalt_rates[age_sind6th], color = 'C1', s = 10)\n",
    "ax[1].set_ylim([-0.1,1.1])\n",
    "ax[1].set_xlim([0,0.45])\n",
    "ax[1].set_yticks([0,0.5,1.0])\n",
    "ax[1].tick_params(labelsize = 8)\n",
    "X_plot = np.linspace(ax[1].get_xlim()[0],ax[1].get_xlim()[1],100)\n",
    "ax[1].plot(X_plot, aslope1*X_plot + aint1, '--', linewidth = 0.75, color = 'C1', label = 'Aged')\n",
    "ax[1].plot(X_plot, allslope1*X_plot + allint1, '-', linewidth = 1, color = 'k', label = 'All')\n",
    "ax[1].set_xlabel('Mean Alternation Stability', fontsize = 9)\n",
    "ax[1].legend(loc = 4, fontsize = 8, prop = {'size': 8})\n",
    "\n",
    "plt.tight_layout()\n",
    "fig.supylabel('Alt. Frac. Rewards Requested', fontsize = 9)\n",
    "plt.savefig(save_folder + '2G.png', dpi = 400, bbox_inches = 'tight')\n",
    "plt.savefig(save_folder + '2G.svg', dpi = 400, bbox_inches = 'tight')\n",
    "plt.show()"
   ]
  },
  {
   "cell_type": "code",
   "execution_count": null,
   "id": "defb9dd7",
   "metadata": {
    "scrolled": true
   },
   "outputs": [],
   "source": [
    "''' Calculate Spatial Avg Similarity within Each Context & on Off Diagonal'''\n",
    "\n",
    "dt = 0.02\n",
    "\n",
    "sstabABdiag = []\n",
    "sstabBA_diag = []\n",
    "sstabAB_diag = []\n",
    "sstabAA_diag = []\n",
    "sstabBB_diag = []\n",
    "\n",
    "ystabABdiag = []\n",
    "ystabBA_diag = []\n",
    "ystabAB_diag = []\n",
    "ystabAA_diag = []\n",
    "ystabBB_diag = []\n",
    "\n",
    "mastabABdiag = []\n",
    "mastabBA_diag = []\n",
    "mastabAB_diag = []\n",
    "mastabAA_diag = []\n",
    "mastabBB_diag = []\n",
    "\n",
    "astabABdiag = []\n",
    "astabBA_diag = []\n",
    "astabAB_diag = []\n",
    "astabAA_diag = []\n",
    "astabBB_diag = []\n",
    "\n",
    "for m, session in zip(mice, sessions):\n",
    "\n",
    "    for s in tdqm(session):\n",
    "        d = data[m][s]\n",
    "        \n",
    "        #get some data & cell IDs\n",
    "        rawdata_file = 'RAW_' + m + '_' + s + '.npy'\n",
    "        behavior_file = 'BEHAVIOR_' + m + '_' + s + '.npy'\n",
    "        raw = np.load(load_folder + rawdata_file, allow_pickle=True)\n",
    "        behaviorfil = np.load(load_folder + behavior_file, allow_pickle=False)\n",
    "        cell_IDs = raw.item().get('cellsfil')\n",
    "        gridcell = d['gridcell'].astype(bool)\n",
    "        gridcells = cell_IDs[gridcell]     \n",
    "        trial = behaviorfil[:,2]\n",
    "        \n",
    "        #save the context lengths\n",
    "        Aidx = d['Aidx']\n",
    "        lengthA = len(np.unique(trial[Aidx]))\n",
    "        Bidx = d['Bidx'] \n",
    "        lengthB = len(np.unique(trial[Bidx]))\n",
    "        a_idx = d['A_idx'] \n",
    "        lengtha_= len(np.unique(trial[a_idx]))\n",
    "        A_idx = d['A_ngidx'] \n",
    "        lengthA_= len(np.unique(trial[A_idx]))\n",
    "        B_idx = d['B_ngidx']\n",
    "        lengthB_= len(np.unique(trial[B_idx]))\n",
    "        nB = lengthA + lengthB\n",
    "        nA_ = lengthA + lengthB + lengthA_\n",
    "        na_ = lengthA + lengthB + lengtha_\n",
    "        nB_ = lengthA + lengthB + lengtha_ + lengthB_\n",
    "        \n",
    "        allgridsim_file = 'allsim_' + m + '_' + s + '_'+ '.npy'\n",
    "        d['allgridsim'] = np.load(save_folder + allgridsim_file)\n",
    "        allgridsim = d['allgridsim']\n",
    "\n",
    "        ABdiag = []\n",
    "        AB_diag = []\n",
    "        AA_diag = []\n",
    "        BA_diag = []\n",
    "        BB_diag = []\n",
    "        \n",
    "        for i, c in enumerate(gridcells):\n",
    "            sim = allgridsim[:,:,i]\n",
    "            #sim = (sim - np.min(sim)) / (np.max(sim) - np.min(sim))\n",
    "\n",
    "            #divide sim by context\n",
    "            simA = sim[:lengthA,:lengthA]\n",
    "            simB = sim[lengthA:nB,lengthA:nB]\n",
    "            simA_ = sim[nB:nA_,nB:nA_]\n",
    "            simB_ = sim[na_:nB_,na_:nB_]\n",
    "            \n",
    "            # Context A spatial stability\n",
    "            baseline_sim = pd.DataFrame(simA) #non-gain vs. non-gain\n",
    "            baselineAstab = ((baseline_sim.sum().sum() - lengthA) / 2) / ((lengthA**2 - lengthA)/2)\n",
    "\n",
    "            #Context B\n",
    "            baseline_sim = pd.DataFrame(simB) #non-gain vs. non-gain\n",
    "            baselineBstab = ((baseline_sim.sum().sum() - lengthB) / 2) / ((lengthB**2 - lengthB)/2)\n",
    "            \n",
    "            #Baseline Subtracted Off diagonal avg. pairwise correlation as a percentage of baseline stability\n",
    "            if baselineAstab >= 0.1:\n",
    "                ABdiag = np.append(ABdiag, sim[lengthA:nB, :lengthA].mean())\n",
    "                AB_diag = np.append(AB_diag, sim[na_:nB_,:lengthA].mean())\n",
    "                AA_diag = np.append(AA_diag, sim[nB:nA_,:lengthA].mean())\n",
    "            else:\n",
    "                ABdiag = np.append(ABdiag, np.nan)\n",
    "                AB_diag = np.append(AB_diag, np.nan)\n",
    "                AA_diag = np.append(AA_diag, np.nan)\n",
    "                \n",
    "            if baselineBstab >= 0.1:\n",
    "                BA_diag = np.append(BA_diag, sim[nB:nA_,lengthA:nB].mean())\n",
    "                BB_diag = np.append(BB_diag, sim[na_:nB_,lengthA:nB].mean())\n",
    "            else:\n",
    "                BA_diag = np.append(BA_diag, np.nan)\n",
    "                BB_diag = np.append(BB_diag, np.nan)\n",
    "                \n",
    "        #Off diagonal avg. pairwise correlation\n",
    "        sstabABdiag = np.append(sstabABdiag, np.nanmean(ABdiag)) #B x A\n",
    "        sstabAB_diag = np.append(sstabAB_diag, np.nanmean(AB_diag)) #B' x A\n",
    "        sstabAA_diag = np.append(sstabAA_diag, np.nanmean(AA_diag)) #A' x A\n",
    "        sstabBA_diag = np.append(sstabBA_diag, np.nanmean(BA_diag)) #A' x B\n",
    "        sstabBB_diag = np.append(sstabBB_diag, np.nanmean(BB_diag)) #B' x B\n",
    "        \n",
    "        #pool age group results\n",
    "        if m in SM_aged_mice:\n",
    "            astabABdiag = np.append(astabABdiag, ABdiag)\n",
    "            astabBA_diag = np.append(astabBA_diag, BA_diag)\n",
    "            astabAB_diag = np.append(astabAB_diag, AB_diag)\n",
    "            astabAA_diag = np.append(astabAA_diag, AA_diag)\n",
    "            astabBB_diag = np.append(astabBB_diag, BB_diag)\n",
    "        elif m in SM_MA_mice:\n",
    "            mastabABdiag = np.append(mastabABdiag, ABdiag)\n",
    "            mastabBA_diag = np.append(mastabBA_diag, BA_diag)\n",
    "            mastabAB_diag = np.append(mastabAB_diag, AB_diag)\n",
    "            mastabAA_diag = np.append(mastabAA_diag, AA_diag)\n",
    "            mastabBB_diag = np.append(mastabBB_diag, BB_diag)\n",
    "        else:\n",
    "            ystabABdiag = np.append(ystabABdiag, ABdiag)\n",
    "            ystabBA_diag = np.append(ystabBA_diag, BA_diag)\n",
    "            ystabAB_diag = np.append(ystabAB_diag, AB_diag)\n",
    "            ystabAA_diag = np.append(ystabAA_diag, AA_diag)\n",
    "            ystabBB_diag = np.append(ystabBB_diag, BB_diag)"
   ]
  },
  {
   "cell_type": "code",
   "execution_count": null,
   "id": "8f476d62",
   "metadata": {},
   "outputs": [],
   "source": [
    "''' LMMs for Avg Similarity On Diag '''   \n",
    "hue_order = [1.0,3.0,2.0]\n",
    "#gather dependent variables into lists\n",
    "stabABdiag = list(np.concatenate((astabABdiag, mastabABdiag, ystabABdiag)))\n",
    "stabAA_diag = list(np.concatenate((astabAA_diag, mastabAA_diag, ystabAA_diag)))\n",
    "stabBB_diag = list(np.concatenate((astabBB_diag, mastabBB_diag, ystabBB_diag)))\n",
    "stabAB_diag = list(np.concatenate((astabAB_diag, mastabAB_diag, ystabAB_diag)))\n",
    "stabBA_diag = list(np.concatenate((astabBA_diag, mastabBA_diag, ystabBA_diag)))\n",
    "\n",
    "tuples = list(zip(Animal_ID, Session, Cell_ID, Sex, Age_Group, Cohort, EngageA, EngageB, EngageA_, EngageB_, stabABdiag, stabAA_diag, stabBB_diag,stabAB_diag,stabBA_diag))\n",
    "tuples\n",
    "df = pd.DataFrame(tuples, columns = ['AnimalID', 'Session','Cell_ID','Sex', 'AgeGroup', 'Cohort','EngageA', 'EngageB', 'EngageA_', 'EngageB_','stabABdiag','stabAA_', 'stabBB_','stabAB_','stabBA_'])\n",
    "\n",
    "#handle NaNs\n",
    "df = df.dropna(axis = 0)\n",
    "\n",
    "# AB Dependent\n",
    "vc = {'cells':'0 + C(Cell_ID)'}\n",
    "mAB = smf.mixedlm('stabABdiag ~ 1 + C(AgeGroup) + C(Sex) + C(Cohort) + EngageB + Session + Session:C(AgeGroup)', groups = 'AnimalID', re_formula = '1', vc_formula = vc,\n",
    "                     data=df).fit(reml= True)\n",
    "print(mAB.summary())\n",
    "print(mAB.wald_test_terms(scalar = False))\n",
    "\n",
    "#plot residuals\n",
    "df['resid'] = mAB.resid\n",
    "fig, ax = plt.subplots(figsize = (12,3))\n",
    "sns.violinplot(data = df, x = 'AnimalID', y = 'resid', inner = 'quartile', ax = ax)\n",
    "plt.title('Avg AB Similarity Residuals')\n",
    "plt.show()\n",
    "\n",
    "# A_A Dependent\n",
    "vc = {'cells':'0 + C(Cell_ID)'}\n",
    "mA = smf.mixedlm('stabAA_ ~ 1 + C(AgeGroup) + C(Sex) + C(Cohort) + EngageA_ + Session:C(AgeGroup)', groups = 'AnimalID', re_formula = '1', vc_formula = vc,\n",
    "                     data=df).fit(reml= True)\n",
    "print(mA.summary())\n",
    "print(mA.wald_test_terms(scalar = False))\n",
    "\n",
    "df['resid'] = mA.resid\n",
    "fig, ax = plt.subplots(figsize = (12,3))\n",
    "sns.violinplot(data = df, x = 'AnimalID', y = 'resid', inner = 'quartile', ax = ax)\n",
    "plt.title('Avg A_A Similarity Residuals')\n",
    "plt.show()\n",
    "\n",
    "# B_B Dependent\n",
    "vc = {'cells':'0 + C(Cell_ID)'}\n",
    "mB = smf.mixedlm('stabBB_ ~ 1 + C(AgeGroup) + C(Sex) + C(Cohort) + EngageB_ + Session:C(AgeGroup)', groups = 'AnimalID', re_formula = '1', vc_formula = vc,\n",
    "                     data=df).fit(reml= True)\n",
    "print(mB.summary())\n",
    "print(mB.wald_test_terms(scalar = False))\n",
    "\n",
    "df['resid'] = mB.resid\n",
    "fig, ax = plt.subplots(figsize = (12,3))\n",
    "sns.violinplot(data = df, x = 'AnimalID', y = 'resid', inner = 'quartile', ax = ax)\n",
    "plt.title('Avg B_B Similarity Residuals')\n",
    "plt.show()\n",
    "\n",
    "# AB_Dependent\n",
    "vc = {'cells':'0 + C(Cell_ID)'}\n",
    "mA_ = smf.mixedlm('stabAB_ ~ 1 + C(AgeGroup) + C(Sex) + C(Cohort) + EngageB_ + Session + Session:C(AgeGroup)', groups = 'AnimalID', re_formula = '1', vc_formula = vc,\n",
    "                     data=df).fit(reml= True)\n",
    "print(mA_.summary())\n",
    "print(mA_.wald_test_terms(scalar = False))\n",
    "\n",
    "df['resid'] = mA_.resid\n",
    "fig, ax = plt.subplots(figsize = (12,3))\n",
    "sns.violinplot(data = df, x = 'AnimalID', y = 'resid', inner = 'quartile', ax = ax)\n",
    "plt.title('Avg AB_ Similarity Residuals')\n",
    "plt.show()\n",
    "\n",
    "# BA_ Dependent\n",
    "vc = {'cells':'0 + C(Cell_ID)'}\n",
    "mB_ = smf.mixedlm('stabBA_ ~ 1 + C(AgeGroup) + C(Sex) + C(Cohort) + EngageA_ + Session + Session:C(AgeGroup)', groups = 'AnimalID', re_formula = '1', vc_formula = vc,\n",
    "                     data=df).fit(reml= True)\n",
    "print(mB_.summary())\n",
    "print(mB_.wald_test_terms(scalar = False))\n",
    "\n",
    "df['resid'] = mB_.resid\n",
    "fig, ax = plt.subplots(figsize = (12,3))\n",
    "sns.violinplot(data = df, x = 'AnimalID', y = 'resid', inner = 'quartile', ax = ax)\n",
    "plt.title('Avg BA_ Similarity Residuals')\n",
    "plt.show()"
   ]
  },
  {
   "cell_type": "code",
   "execution_count": null,
   "id": "7c3d848e",
   "metadata": {},
   "outputs": [],
   "source": [
    "''' Get fitted session averages '''\n",
    "\n",
    "df['mAfitted'] = mA.fittedvalues\n",
    "df['mBfitted'] = mB.fittedvalues\n",
    "\n",
    "resultA_ = df.groupby(by = ['AnimalID','Session'], as_index = False)['mAfitted'].aggregate('mean')\n",
    "seshAanimal = np.asarray(resultA_['AnimalID'])\n",
    "seshAcount = np.asarray(resultA_['Session'])\n",
    "seshA_mean = np.asarray(resultA_['mAfitted'])\n",
    "\n",
    "resultB_ = df.groupby(by = ['AnimalID','Session'], as_index = False)['mBfitted'].aggregate('mean')\n",
    "seshBanimal = np.asarray(resultB_['AnimalID'])\n",
    "seshBcount = np.asarray(resultB_['Session'])\n",
    "seshB_mean = np.asarray(resultB_['mBfitted'])\n",
    "\n",
    "slocstab5A_fitted_seg_aged = [[] * r for i in range(r)]\n",
    "slocstab5A_fitted_seg_MA = [[] * r for i in range(r)]\n",
    "slocstab5A_fitted_seg_young = [[] * r for i in range(r)]\n",
    "slocstab5B_fitted_seg_aged = [[] * r for i in range(r)]\n",
    "slocstab5B_fitted_seg_MA = [[] * r for i in range(r)]\n",
    "slocstab5B_fitted_seg_young = [[] * r for i in range(r)]\n",
    "\n",
    "sessionAcount_fitted_aged = [[] * r for i in range(r)]\n",
    "sessionAcount_fitted_MA = [[] * r for i in range(r)]\n",
    "sessionAcount_fitted_young = [[] * r for i in range(r)]\n",
    "sessionBcount_fitted_aged = [[] * r for i in range(r)]\n",
    "sessionBcount_fitted_MA = [[] * r for i in range(r)]\n",
    "sessionBcount_fitted_young = [[] * r for i in range(r)]\n",
    "\n",
    "for m, session in zip(mice, sessions): \n",
    "    \n",
    "    animalidx = np.where(seshAanimal == m)[0][0]\n",
    "    sessiona_idx = np.where(seshAanimal == m)[0]\n",
    "    sessionb_idx = np.where(seshBanimal == m)[0]\n",
    "\n",
    "    if m in SM_aged_mice:\n",
    "        for i, c in enumerate(seshAcount[sessiona_idx]):\n",
    "            idx = c.astype(int) - 1\n",
    "            slocstab5A_fitted_seg_aged[idx] = np.append(slocstab5A_fitted_seg_aged[idx],seshA_mean[sessiona_idx][i])\n",
    "            sessionAcount_fitted_aged[idx] = np.append(sessionAcount_fitted_aged[idx], c - 1)\n",
    "            \n",
    "        for i, c in enumerate(seshBcount[sessionb_idx]):\n",
    "            idx = c.astype(int) - 1 \n",
    "            slocstab5B_fitted_seg_aged[idx] = np.append(slocstab5B_fitted_seg_aged[idx],seshB_mean[sessionb_idx][i])\n",
    "            sessionBcount_fitted_aged[idx] = np.append(sessionBcount_fitted_aged[idx], c - 1)    \n",
    "        \n",
    "    elif m in SM_MA_mice:\n",
    "        for i, c in enumerate(seshAcount[sessiona_idx]):\n",
    "            idx = c.astype(int) - 1\n",
    "            slocstab5A_fitted_seg_MA[idx] = np.append(slocstab5A_fitted_seg_MA[idx],seshA_mean[sessiona_idx][i])\n",
    "            sessionAcount_fitted_MA[idx] = np.append(sessionAcount_fitted_MA[idx], c - 1)\n",
    "            \n",
    "        for i, c in enumerate(seshBcount[sessionb_idx]):\n",
    "            idx = c.astype(int) - 1\n",
    "            slocstab5B_fitted_seg_MA[idx] = np.append(slocstab5B_fitted_seg_MA[idx],seshB_mean[sessionb_idx][i])\n",
    "            sessionBcount_fitted_MA[idx] = np.append(sessionBcount_fitted_MA[idx], c - 1)   \n",
    "    else:\n",
    "        for i, c in enumerate(seshAcount[sessiona_idx]):\n",
    "            idx = c.astype(int) - 1\n",
    "            slocstab5A_fitted_seg_young[idx] = np.append(slocstab5A_fitted_seg_young[idx],seshA_mean[sessiona_idx][i])\n",
    "            sessionAcount_fitted_young[idx] = np.append(sessionAcount_fitted_young[idx], c - 1)\n",
    "            \n",
    "        for i, c in enumerate(seshBcount[sessionb_idx]):\n",
    "            idx = c.astype(int) - 1\n",
    "            slocstab5B_fitted_seg_young[idx] = np.append(slocstab5B_fitted_seg_young[idx],seshB_mean[sessionb_idx][i])\n",
    "            sessionBcount_fitted_young[idx] = np.append(sessionBcount_fitted_young[idx], c - 1)   "
   ]
  },
  {
   "cell_type": "code",
   "execution_count": null,
   "id": "d31479f6",
   "metadata": {},
   "outputs": [],
   "source": [
    "''' Plot Figure 2h '''\n",
    "f, ax = plt.subplots(1, 2, figsize=(3.25, 1.5), sharey = True)\n",
    "\n",
    "g = sns.pointplot(x = df['Session'], y = mA.fittedvalues, hue = df['AgeGroup'], hue_order = hue_order, ax = ax[0], scale = 0.5)\n",
    "ax[1].set_xticks([0,1,2,3,4,5])\n",
    "ax[0].set_xticklabels([1,2,3,4,5,6])\n",
    "ax[1].set_xlim([-0.5,5.5])\n",
    "ax[0].set_ylabel('Mean Similarity', fontsize=9, labelpad=1)\n",
    "ax[0].set_xlabel('Session', fontsize=9, labelpad=1)\n",
    "ax[0].tick_params(labelsize = 8)\n",
    "g.legend_.remove()\n",
    "\n",
    "g1 = sns.pointplot(x = df['Session'], y = mB.fittedvalues, hue = df['AgeGroup'], hue_order = hue_order, ax = ax[1], scale = 0.5)\n",
    "ax[1].set_xticks([0,1,2,3,4,5])\n",
    "ax[1].set_xticklabels([1,2,3,4,5,6])\n",
    "ax[1].set_xlim([-0.5,5.5])\n",
    "ax[1].set_ylim([0,0.45])\n",
    "ax[1].set_xlabel('Session', fontsize=9, labelpad=1)\n",
    "ax[1].tick_params(labelsize = 8)\n",
    "g1.legend_.remove()\n",
    "\n",
    "#scatter plot actual raw data:\n",
    "for i in range(0,len(slocstab5A_fitted_seg_aged)):\n",
    "    \n",
    "    print('\\nn aged, MA, young mice on day ' + str(i + 1) + ' for AxA`')\n",
    "    print(len(sessionAcount_fitted_aged[i]),len(sessionAcount_fitted_MA[i]), len(sessionAcount_fitted_young[i]))\n",
    "    \n",
    "    print('\\nn aged, MA, young mice on day ' + str(i + 1) + ' for BxB`')\n",
    "    print(len(sessionBcount_fitted_aged[i]),len(sessionBcount_fitted_MA[i]), len(sessionBcount_fitted_young[i]))\n",
    "    \n",
    "    ax[0].scatter(sessionAcount_fitted_aged[i] + 0.1, slocstab5A_fitted_seg_aged[i], s = 5, alpha = 0.4, c = 'C1', edgecolor = 'none')\n",
    "    ax[0].scatter(sessionAcount_fitted_MA[i], slocstab5A_fitted_seg_MA[i], s = 5, alpha = 0.4, c = 'C2', edgecolor = 'none')\n",
    "    ax[0].scatter(sessionAcount_fitted_young[i] - 0.1, slocstab5A_fitted_seg_young[i], s = 5, alpha = 0.4, c = 'C0', edgecolor = 'none')\n",
    "    \n",
    "    ax[1].scatter(sessionBcount_fitted_aged[i] + 0.1, slocstab5B_fitted_seg_aged[i], s = 5, alpha = 0.4, c = 'C1', edgecolor = 'none')\n",
    "    ax[1].scatter(sessionBcount_fitted_MA[i], slocstab5B_fitted_seg_MA[i], s = 5, alpha = 0.4, c = 'C2', edgecolor = 'none')\n",
    "    ax[1].scatter(sessionBcount_fitted_young[i] - 0.1, slocstab5B_fitted_seg_young[i], s = 5, alpha = 0.4, c = 'C0', edgecolor = 'none')\n",
    "\n",
    "for l in g.lines:\n",
    "    plt.setp(l,linewidth = 0.75)\n",
    "    \n",
    "for l in g1.lines:\n",
    "    plt.setp(l,linewidth = 0.75)\n",
    "    \n",
    "#ax[0].legend(loc = 4, fontsize = 9)\n",
    "plt.savefig(save_folder + '2H.png', dpi=400, bbox_inches='tight')\n",
    "plt.savefig(save_folder + '2H.svg', dpi=400, bbox_inches='tight')\n",
    "plt.show()"
   ]
  },
  {
   "cell_type": "code",
   "execution_count": null,
   "id": "b3290840",
   "metadata": {},
   "outputs": [],
   "source": [
    "''' Plot Figure 2i '''\n",
    "### TOTAL ALT vs. REQ RATES\n",
    "sstabalt = np.nanmean(np.vstack((sstabAA_diag,sstabBB_diag)), axis = 0)\n",
    "\n",
    "#Linear regression\n",
    "res = stats.linregress(sstabalt[y_sindgrid],reqalt_rates[y_sindgrid])\n",
    "yslope1 = res.slope; yint1 = res.intercept; yr1 = res.rvalue; yp1 = res.pvalue\n",
    "\n",
    "res = stats.linregress(sstabalt[ma_sindgrid],reqalt_rates[ma_sindgrid])\n",
    "maslope1 = res.slope; maint1 = res.intercept; mar1 = res.rvalue ; map1 = res.pvalue\n",
    "\n",
    "res = stats.linregress(sstabalt[age_sindgrid][~np.isnan(sstabalt[age_sindgrid])],reqalt_rates[age_sindgrid][~np.isnan(sstabalt[age_sindgrid])])\n",
    "aslope1 = res.slope; aint1 = res.intercept; ar1 = res.rvalue ; ap1 = res.pvalue\n",
    "\n",
    "res = stats.linregress(sstabalt[~np.isnan(sstabalt)],reqalt_rates[~np.isnan(sstabalt)])\n",
    "allslope1 = res.slope; allint1 = res.intercept; allr1 = res.rvalue; allp1 = res.pvalue\n",
    "\n",
    "print('Association btwn Young, MA, Aged, & All Performance & Variable of Interest:')\n",
    "print('R [Young, MA, Aged, All]: ')\n",
    "print(yr1, mar1, ar1, allr1)\n",
    "print('P [Young, MA, Aged, All]: ')\n",
    "print(yp1, map1, ap1, allp1)\n",
    "    \n",
    "#plot top half    \n",
    "fig, ax = plt.subplots(2,1, figsize = (2.5,2.7))\n",
    "ax[0].set_title('All Sessions', fontsize = 10)\n",
    "ax[0].scatter(sstabalt[y_sindgrid],reqalt_rates[y_sindgrid], color = 'C0', s = 10)\n",
    "ax[0].scatter(sstabalt[ma_sindgrid],reqalt_rates[ma_sindgrid], color = 'C2', s = 10)\n",
    "ax[0].scatter(sstabalt[age_sindgrid][~np.isnan(sstabalt[age_sindgrid])],reqalt_rates[age_sindgrid][~np.isnan(sstabalt[age_sindgrid])], color = 'C1', s = 10)\n",
    "\n",
    "ax[0].set_ylim([-0.1,1.1])\n",
    "ax[0].set_yticks([0,0.5,1.0])\n",
    "ax[0].set_xlim([0,0.5])\n",
    "ax[0].tick_params(labelsize = 8)\n",
    "X_plot = np.linspace(ax[0].get_xlim()[0],ax[0].get_xlim()[1],100)\n",
    "#ax[0].plot(X_plot, aslope1*X_plot + aint1, '--', linewidth = 1, color = 'C1', label = 'Aged')\n",
    "ax[0].plot(X_plot, allslope1*X_plot + allint1, '-', linewidth = 1, color = 'k', label = 'All Ages')\n",
    "\n",
    "#Gather 6th session data\n",
    "#Linear regression\n",
    "res = stats.linregress(sstabalt[y_sind6th][~np.isnan(sstabalt[y_sind6th])],reqalt_rates[y_sind6th][~np.isnan(sstabalt[y_sind6th])])\n",
    "yslope1 = res.slope; yint1 = res.intercept; yr1 = res.rvalue; yp1 = res.pvalue\n",
    "\n",
    "res = stats.linregress(sstabalt[ma_sind6th][~np.isnan(sstabalt[ma_sind6th])],reqalt_rates[ma_sind6th][~np.isnan(sstabalt[ma_sind6th])])\n",
    "maslope1 = res.slope; maint1 = res.intercept; mar1 = res.rvalue ; map1 = res.pvalue\n",
    "\n",
    "res = stats.linregress(sstabalt[age_sind6th][~np.isnan(sstabalt[age_sind6th])],reqalt_rates[age_sind6th][~np.isnan(sstabalt[age_sind6th])])\n",
    "aslope1 = res.slope; aint1 = res.intercept; ar1 = res.rvalue ; ap1 = res.pvalue\n",
    "\n",
    "allidx = np.concatenate((y_sind6th[~np.isnan(sstabalt[y_sind6th])],ma_sind6th[~np.isnan(sstabalt[ma_sind6th])],age_sind6th[~np.isnan(sstabalt[age_sind6th])]))\n",
    "res = stats.linregress(sstabalt[allidx],reqalt_rates[allidx])\n",
    "allslope1 = res.slope; allint1 = res.intercept; allr1 = res.rvalue; allp1 = res.pvalue\n",
    "\n",
    "print('\\nAssociation btwn Young, MA, Aged, & All Performance & Variable of Interest:')\n",
    "print('R [Young, MA, Aged, All]: ')\n",
    "print(yr1, mar1, ar1, allr1)\n",
    "print('P [Young, MA, Aged, All]: ')\n",
    "print(yp1, map1, ap1, allp1)\n",
    "\n",
    "ax[1].set_title('Day 6 Sessions', fontsize = 10)\n",
    "ax[1].scatter(sstabalt[y_sind6th],reqalt_rates[y_sind6th], color = 'C0', s = 10)\n",
    "ax[1].scatter(sstabalt[ma_sind6th],reqalt_rates[ma_sind6th], color = 'C2', s = 10)\n",
    "ax[1].scatter(sstabalt[age_sind6th][~np.isnan(sstabalt[age_sind6th])],reqalt_rates[age_sind6th][~np.isnan(sstabalt[age_sind6th])], color = 'C1', s = 10)\n",
    "ax[1].set_ylim([-0.1,1.1])\n",
    "ax[1].set_xlim([0,0.4])\n",
    "ax[1].set_yticks([0,0.5,1.0])\n",
    "ax[1].tick_params(labelsize = 8)\n",
    "X_plot = np.linspace(ax[1].get_xlim()[0],ax[1].get_xlim()[1],100)\n",
    "ax[1].plot(X_plot, allslope1*X_plot + allint1, '-', linewidth = 1, color = 'k', label = 'All Ages')\n",
    "ax[1].set_xlabel('Mean Context-Matched Similarity', fontsize = 9)\n",
    "plt.tight_layout()\n",
    "fig.supylabel('Alt. Frac. Rewards Requested', fontsize = 9)\n",
    "plt.savefig(save_folder + '2I.png', dpi = 400, bbox_inches = 'tight')\n",
    "plt.savefig(save_folder + '2I.svg', dpi = 400, bbox_inches = 'tight')\n",
    "plt.show()"
   ]
  },
  {
   "cell_type": "code",
   "execution_count": null,
   "id": "c8408e31",
   "metadata": {
    "scrolled": true
   },
   "outputs": [],
   "source": [
    "''' Find Context Match / Mismatch Similarity Ratio '''\n",
    "\n",
    "sABratio = []\n",
    "sA_B_ratio = []\n",
    "sAB_ratio = []\n",
    "\n",
    "yABratio = []\n",
    "yA_B_ratio = []\n",
    "yAB_ratio = []\n",
    "maABratio = []\n",
    "maA_B_ratio = []\n",
    "maAB_ratio = []\n",
    "aABratio = []\n",
    "aA_B_ratio = []\n",
    "aAB_ratio = []\n",
    "\n",
    "for m, session in zip(mice, sessions):\n",
    "\n",
    "    for s in tdqm(session):\n",
    "        d = data[m][s]\n",
    "        \n",
    "        #get some data & cell IDs\n",
    "        rawdata_file = 'RAW_' + m + '_' + s + '.npy'\n",
    "        behavior_file = 'BEHAVIOR_' + m + '_' + s + '.npy'\n",
    "        raw = np.load(load_folder + rawdata_file, allow_pickle=True)\n",
    "        behaviorfil = np.load(load_folder + behavior_file, allow_pickle=False)\n",
    "        cell_IDs = raw.item().get('cellsfil')\n",
    "        spatialcell99 = d['spatialcell99']\n",
    "        spatialcells = cell_IDs[spatialcell99]\n",
    "        gridcell = d['gridcell'].astype(bool)\n",
    "        gridcells = cell_IDs[gridcell]     \n",
    "        trial = behaviorfil[:,2]\n",
    "        \n",
    "        #save the context lengths\n",
    "        Aidx = d['Aidx']\n",
    "        lengthA = len(np.unique(trial[Aidx]))\n",
    "        Bidx = d['Bidx'] \n",
    "        lengthB = len(np.unique(trial[Bidx]))\n",
    "        a_idx = d['A_idx'] \n",
    "        lengtha_= len(np.unique(trial[a_idx]))\n",
    "        A_idx = d['A_ngidx'] \n",
    "        lengthA_= len(np.unique(trial[A_idx]))\n",
    "        B_idx = d['B_ngidx']\n",
    "        lengthB_= len(np.unique(trial[B_idx]))\n",
    "        \n",
    "        nB = lengthA + lengthB\n",
    "        nA_ = lengthA + lengthB + lengthA_\n",
    "        na_ = lengthA + lengthB + lengtha_\n",
    "        nB_ = lengthA + lengthB + lengtha_ + lengthB_\n",
    "        \n",
    "        allgridsim = d['allgridsim']\n",
    "        ABratio = []\n",
    "        A_B_ratio = []\n",
    "        AB_ratio = []\n",
    "        for i, c in enumerate(gridcells):\n",
    "            sim = allgridsim[:,:,i]\n",
    "            sim = (sim - np.min(sim)) / (np.max(sim) - np.min(sim))\n",
    "            \n",
    "            #average block context-matched (A x A + B x A), average block context-mismatched (B x A)\n",
    "            sumcm = (np.sum(sim[:lengthA, :lengthA]) - lengthA)/2 + (np.sum(sim[lengthA:nB, lengthA:nB]) - lengthB)/2\n",
    "            meancm = sumcm  / ((lengthA**2 - lengthA)/2 + (lengthB**2 - lengthB)/2)\n",
    "            meancmm = np.average(sim[lengthA:nB,:lengthA])\n",
    "            if (meancmm != 0): \n",
    "                ABratio = np.append(ABratio, meancm / meancmm)\n",
    "            else: \n",
    "                ABratio = np.append(ABratio, np.nan)\n",
    "            \n",
    "            #alt context-matched (A' x A' + B' x B'), alt context-mismatched (B' x A')\n",
    "            sumcm = (np.sum(sim[nB:nA_, nB:nA_]) - lengthA_)/2 + (np.sum(sim[na_:nB_, na_:nB_]) - lengthB_)/2\n",
    "            meancm = sumcm  / ((lengthA_**2 - lengthA_)/2 + (lengthB_**2 - lengthB_)/2)\n",
    "            meancmm = np.average(sim[na_:nB_,nB:nA_])\n",
    "            if (meancmm != 0):\n",
    "                A_B_ratio = np.append(A_B_ratio, meancm / meancmm)\n",
    "            else:\n",
    "                A_B_ratio = np.append(A_B_ratio, np.nan)\n",
    "            \n",
    "            #alt context-matched (A' x A + B' x B) & alt context-mismatched (B' x A + A' x B)\n",
    "            meancm = np.mean(np.concatenate((sim[nB:nA_,:lengthA].flatten(), sim[na_:nB_,lengthA:nB].flatten())))\n",
    "            meancmm = np.mean(np.concatenate((sim[na_:nB_,:lengthA].flatten(), sim[nB:nA_,lengthA:nB].flatten())))\n",
    "            if (meancmm != 0):\n",
    "                AB_ratio = np.append(AB_ratio, meancm / meancmm)\n",
    "            else:\n",
    "                AB_ratio = np.append(AB_ratio, np.nan)\n",
    "        \n",
    "        sABratio= np.append(sABratio, np.nanmean(ABratio))\n",
    "        sA_B_ratio = np.append(sA_B_ratio, np.nanmean(A_B_ratio))\n",
    "        sAB_ratio = np.append(sAB_ratio, np.nanmean(AB_ratio))\n",
    "\n",
    "        if m in SM_aged_mice:\n",
    "            aABratio = np.append(aABratio, ABratio)\n",
    "            aA_B_ratio = np.append(aA_B_ratio, A_B_ratio)\n",
    "            aAB_ratio = np.append(aAB_ratio, AB_ratio)\n",
    "        elif m in SM_MA_mice:\n",
    "            maABratio = np.append(maABratio, ABratio)\n",
    "            maA_B_ratio = np.append(maA_B_ratio, A_B_ratio)\n",
    "            maAB_ratio = np.append(maAB_ratio, AB_ratio)\n",
    "        else:\n",
    "            yABratio = np.append(yABratio, ABratio)\n",
    "            yA_B_ratio = np.append(yA_B_ratio, A_B_ratio)\n",
    "            yAB_ratio = np.append(yAB_ratio, AB_ratio)"
   ]
  },
  {
   "cell_type": "code",
   "execution_count": null,
   "id": "d0c6df7f",
   "metadata": {},
   "outputs": [],
   "source": [
    "''' LMMs for Similarity Ratios '''        \n",
    "#gather dependent variables into lists\n",
    "ABratio = list(np.concatenate((aABratio, maABratio, yABratio)))\n",
    "A_B_ratio = list(np.concatenate((aA_B_ratio, maA_B_ratio, yA_B_ratio)))\n",
    "AB_ratio = list(np.concatenate((aAB_ratio, maAB_ratio, yAB_ratio)))\n",
    "\n",
    "tuples = list(zip(Animal_ID, Session, Cell_ID, Sex, Age_Group, Cohort, EngageA, EngageB, EngageA_, EngageB_, ABratio, A_B_ratio, AB_ratio))\n",
    "tuples\n",
    "df = pd.DataFrame(tuples, columns = ['AnimalID', 'Session','Cell_ID','Sex', 'AgeGroup', 'Cohort','EngageA', 'EngageB', 'EngageA_', 'EngageB_','ABratio','A_B_ratio','AB_ratio'])\n",
    "\n",
    "#handle NaNs\n",
    "df = df.dropna(axis = 0)\n",
    "\n",
    "# ABratio Dependent\n",
    "vc = {'cells':'0 + C(Cell_ID)'}\n",
    "mAB = smf.mixedlm('ABratio ~ 1 + C(AgeGroup) + C(Sex) + C(Cohort) + Session:C(AgeGroup)', groups = 'AnimalID', re_formula = '1', vc_formula = vc,\n",
    "                     data=df).fit(reml= True)\n",
    "print(mAB.summary())\n",
    "print(mAB.wald_test_terms(scalar = False))\n",
    "\n",
    "#plot residuals\n",
    "df['resid'] = mAB.resid\n",
    "fig, ax = plt.subplots(figsize = (12,3))\n",
    "sns.violinplot(data = df, x = 'AnimalID', y = 'resid', inner = 'quartile', ax = ax)\n",
    "plt.title('AB Ratio Similarity Residuals')\n",
    "plt.show()\n",
    "\n",
    "# A_B_ratio Dependent\n",
    "vc = {'cells':'0 + C(Cell_ID)'}\n",
    "mA_B_ = smf.mixedlm('A_B_ratio ~ 1 + C(AgeGroup) + C(Sex) + C(Cohort) + Session:C(AgeGroup)', groups = 'AnimalID', re_formula = '1', vc_formula = vc,\n",
    "                     data=df).fit(reml= True)\n",
    "print(mA_B_.summary())\n",
    "print(mA_B_.wald_test_terms(scalar = False))\n",
    "\n",
    "df['resid'] = mA_B_.resid\n",
    "fig, ax = plt.subplots(figsize = (12,3))\n",
    "sns.violinplot(data = df, x = 'AnimalID', y = 'resid', inner = 'quartile', ax = ax)\n",
    "plt.title('A_B_ Ratio Similarity Residuals')\n",
    "plt.show()\n",
    "\n",
    "# AB_ratio Dependent\n",
    "vc = {'cells':'0 + C(Cell_ID)'}\n",
    "mAB_ = smf.mixedlm('AB_ratio ~ 1 + C(AgeGroup) + C(Sex) + C(Cohort) + Session:C(AgeGroup)', groups = 'AnimalID', re_formula = '1', vc_formula = vc,\n",
    "                     data=df).fit(reml= True)\n",
    "print(mAB_.summary())\n",
    "print(mAB_.wald_test_terms(scalar = False))\n",
    "\n",
    "df['resid'] = mAB_.resid\n",
    "fig, ax = plt.subplots(figsize = (12,3))\n",
    "sns.violinplot(data = df, x = 'AnimalID', y = 'resid', inner = 'quartile', ax = ax)\n",
    "plt.title('AB_ Ratio Similarity Residuals')\n",
    "plt.show()"
   ]
  },
  {
   "cell_type": "code",
   "execution_count": null,
   "id": "0a5be85a",
   "metadata": {},
   "outputs": [],
   "source": [
    "''' Get fitted session averages '''\n",
    "\n",
    "df['mAB_fitted'] = mAB_.fittedvalues\n",
    "resultA_ = df.groupby(by = ['AnimalID','Session'], as_index = False)['mAB_fitted'].aggregate('mean')\n",
    "#print(resultA_)\n",
    "seshAanimal = np.asarray(resultA_['AnimalID'])\n",
    "seshAcount = np.asarray(resultA_['Session'])\n",
    "seshA_mean = np.asarray(resultA_['mAB_fitted'])\n",
    "\n",
    "slocstab5A_fitted_seg_aged = [[] * r for i in range(r)]\n",
    "slocstab5A_fitted_seg_MA = [[] * r for i in range(r)]\n",
    "slocstab5A_fitted_seg_young = [[] * r for i in range(r)]\n",
    "\n",
    "sessionAcount_fitted_aged = [[] * r for i in range(r)]\n",
    "sessionAcount_fitted_MA = [[] * r for i in range(r)]\n",
    "sessionAcount_fitted_young = [[] * r for i in range(r)]\n",
    "\n",
    "for m, session in zip(mice, sessions): \n",
    "    \n",
    "    animalidx = np.where(seshAanimal == m)[0][0]\n",
    "    sessiona_idx = np.where(seshAanimal == m)[0]\n",
    "    \n",
    "    if m in SM_aged_mice:\n",
    "        for i, c in enumerate(seshAcount[sessiona_idx]):\n",
    "            idx = c.astype(int) - 1\n",
    "            slocstab5A_fitted_seg_aged[idx] = np.append(slocstab5A_fitted_seg_aged[idx],seshA_mean[sessiona_idx][i])\n",
    "            sessionAcount_fitted_aged[idx] = np.append(sessionAcount_fitted_aged[idx], c - 1)\n",
    "   \n",
    "    elif m in SM_MA_mice:\n",
    "        for i, c in enumerate(seshAcount[sessiona_idx]):\n",
    "            idx = c.astype(int) - 1\n",
    "            slocstab5A_fitted_seg_MA[idx] = np.append(slocstab5A_fitted_seg_MA[idx],seshA_mean[sessiona_idx][i])\n",
    "            sessionAcount_fitted_MA[idx] = np.append(sessionAcount_fitted_MA[idx], c - 1)\n",
    "             \n",
    "    else:\n",
    "        for i, c in enumerate(seshAcount[sessiona_idx]):\n",
    "            idx = c.astype(int) - 1\n",
    "            slocstab5A_fitted_seg_young[idx] = np.append(slocstab5A_fitted_seg_young[idx],seshA_mean[sessiona_idx][i])\n",
    "            sessionAcount_fitted_young[idx] = np.append(sessionAcount_fitted_young[idx], c - 1)\n",
    "            "
   ]
  },
  {
   "cell_type": "code",
   "execution_count": null,
   "id": "1999869d",
   "metadata": {},
   "outputs": [],
   "source": [
    "''' Plot Figure 2j '''\n",
    "f, ax = plt.subplots(1, 1, figsize=(1.625, 1.5), sharey = True)\n",
    "\n",
    "g = sns.pointplot(x = df['Session'], y = mAB_.fittedvalues, hue = df['AgeGroup'], hue_order = hue_order, ax = ax, scale = 0.5)\n",
    "ax.set_xticks([0,1,2,3,4,5])\n",
    "ax.set_xticklabels([1,2,3,4,5,6])\n",
    "ax.set_xlim([-0.5,5.5])\n",
    "ax.set_ylim([0.975,1.3])\n",
    "ax.tick_params(labelsize = 8)\n",
    "ax.set_ylabel('Mean Similarity Ratio', fontsize=9, labelpad=1)\n",
    "ax.set_xlabel('Session', fontsize=9, labelpad=1)\n",
    "g.legend_.remove()\n",
    "\n",
    "#scatter plot actual raw data:\n",
    "for i in range(0,len(slocstab5A_fitted_seg_aged)):\n",
    "    \n",
    "    print('\\naged, MA, young mice on day ' + str(i + 1))\n",
    "    print(len(sessionAcount_fitted_aged[i]),len(sessionAcount_fitted_MA[i]), len(sessionAcount_fitted_young[i]))\n",
    "    \n",
    "    ax.scatter(sessionAcount_fitted_aged[i] + 0.1, slocstab5A_fitted_seg_aged[i], s = 5, alpha = 0.4, c = 'C1', edgecolor = 'none')\n",
    "    ax.scatter(sessionAcount_fitted_MA[i], slocstab5A_fitted_seg_MA[i], s = 5, alpha = 0.4, c = 'C2', edgecolor = 'none')\n",
    "    ax.scatter(sessionAcount_fitted_young[i] - 0.1, slocstab5A_fitted_seg_young[i], s = 5, alpha = 0.4, c = 'C0', edgecolor = 'none')\n",
    "\n",
    "for l in g.lines:\n",
    "    plt.setp(l,linewidth = 0.75)\n",
    "\n",
    "#ax.legend(loc = 4, fontsize = 9)\n",
    "plt.savefig(save_folder + '2J.png', dpi=400, bbox_inches='tight')\n",
    "plt.savefig(save_folder + '2J.svg', dpi=400, bbox_inches='tight')\n",
    "plt.show()"
   ]
  },
  {
   "cell_type": "code",
   "execution_count": null,
   "id": "1b5fda81",
   "metadata": {
    "scrolled": true
   },
   "outputs": [],
   "source": [
    "''' Plot Figure 2k '''\n",
    "### A_ vs. REQ ALT RATES\n",
    "#Linear regression\n",
    "res = stats.linregress(sAB_ratio[y_sindgrid],reqalt_rates[y_sindgrid])\n",
    "yslope1 = res.slope; yint1 = res.intercept; yr1 = res.rvalue; yp1 = res.pvalue\n",
    "\n",
    "res = stats.linregress(sAB_ratio[ma_sindgrid],reqalt_rates[ma_sindgrid])\n",
    "maslope1 = res.slope; maint1 = res.intercept; mar1 = res.rvalue ; map1 = res.pvalue\n",
    "\n",
    "res = stats.linregress(sAB_ratio[age_sindgrid][~np.isnan(sAB_ratio[age_sindgrid])],reqalt_rates[age_sindgrid][~np.isnan(sAB_ratio[age_sindgrid])])\n",
    "aslope1 = res.slope; aint1 = res.intercept; ar1 = res.rvalue ; ap1 = res.pvalue\n",
    "\n",
    "res = stats.linregress(sAB_ratio[~np.isnan(sAB_ratio)],reqalt_rates[~np.isnan(sAB_ratio)])\n",
    "allslope1 = res.slope; allint1 = res.intercept; allr1 = res.rvalue; allp1 = res.pvalue\n",
    "\n",
    "print('Association btwn Young, MA, Aged, & All Performance & Variable of Interest:')\n",
    "print('R [Young, MA, Aged, All]: ')\n",
    "print(yr1, mar1, ar1, allr1)\n",
    "print('P [Young, MA, Aged, All]: ')\n",
    "print(yp1, map1, ap1, allp1)\n",
    " \n",
    "#plot all session correlations\n",
    "fig, ax = plt.subplots(2,1, figsize = (2.5,2.7))\n",
    "ax[0].set_title('All Sessions', fontsize = 10)\n",
    "\n",
    "ax[0].scatter(sAB_ratio[y_sindgrid],reqalt_rates[y_sindgrid], color = 'C0', label = 'Young', s = 10)\n",
    "ax[0].scatter(sAB_ratio[ma_sindgrid],reqalt_rates[ma_sindgrid], color = 'C2', label = 'MA', s = 10)\n",
    "ax[0].scatter(sAB_ratio[age_sindgrid][~np.isnan(sAB_ratio[age_sindgrid])],reqalt_rates[age_sindgrid][~np.isnan(sAB_ratio[age_sindgrid])], color = 'C1', s = 10)\n",
    "\n",
    "ax[0].set_ylim([-0.1,1.1])\n",
    "ax[0].set_xlim([0.95,1.35])\n",
    "ax[0].tick_params(labelsize = 8)\n",
    "ax[0].set_yticks([0,0.5,1.0])\n",
    "X_plot = np.linspace(ax[0].get_xlim()[0],ax[0].get_xlim()[1],100)\n",
    "ax[0].plot(X_plot, aslope1*X_plot + aint1, '--', linewidth = 0.75, color = 'C1', label = 'Aged')\n",
    "ax[0].plot(X_plot, allslope1*X_plot + allint1, '-', linewidth = 1, color = 'k', label = 'All Ages')\n",
    "\n",
    "#day 6 data\n",
    "### ALT Stability vs. REQ RATES\n",
    "#Linear regression\n",
    "res = stats.linregress(sAB_ratio[y_sind6th][~np.isnan(sAB_ratio[y_sind6th])],reqalt_rates[y_sind6th][~np.isnan(sAB_ratio[y_sind6th])])\n",
    "yslope1 = res.slope; yint1 = res.intercept; yr1 = res.rvalue; yp1 = res.pvalue\n",
    "\n",
    "res = stats.linregress(sAB_ratio[ma_sind6th][~np.isnan(sAB_ratio[ma_sind6th])],reqalt_rates[ma_sind6th][~np.isnan(sAB_ratio[ma_sind6th])])\n",
    "maslope1 = res.slope; maint1 = res.intercept; mar1 = res.rvalue ; map1 = res.pvalue\n",
    "\n",
    "res = stats.linregress(sAB_ratio[age_sind6th][~np.isnan(sAB_ratio[age_sind6th])],reqalt_rates[age_sind6th][~np.isnan(sAB_ratio[age_sind6th])])\n",
    "aslope1 = res.slope; aint1 = res.intercept; ar1 = res.rvalue ; ap1 = res.pvalue\n",
    "\n",
    "allidx = np.concatenate((y_sind6th[~np.isnan(sAB_ratio[y_sind6th])],ma_sind6th[~np.isnan(sAB_ratio[ma_sind6th])],age_sind6th[~np.isnan(sAB_ratio[age_sind6th])]))\n",
    "res = stats.linregress(sAB_ratio[allidx],reqalt_rates[allidx])\n",
    "allslope1 = res.slope; allint1 = res.intercept; allr1 = res.rvalue; allp1 = res.pvalue\n",
    "\n",
    "print('\\nAssociation btwn Young, MA, Aged, & All Performance & Variable of Interest:')\n",
    "print('R [Young, MA, Aged, All]: ')\n",
    "print(yr1, mar1, ar1, allr1)\n",
    "print('P [Young, MA, Aged, All]: ')\n",
    "print(yp1, map1, ap1, allp1)\n",
    "\n",
    "ax[1].set_title('Day 6 Sessions', fontsize = 10)\n",
    "ax[1].scatter(sAB_ratio[y_sind6th][~np.isnan(sAB_ratio[y_sind6th])],reqalt_rates[y_sind6th][~np.isnan(sAB_ratio[y_sind6th])], color = 'C0', s = 10)\n",
    "ax[1].scatter(sAB_ratio[ma_sind6th][~np.isnan(sAB_ratio[ma_sind6th])],reqalt_rates[ma_sind6th][~np.isnan(sAB_ratio[ma_sind6th])], color = 'C2', s = 10)\n",
    "ax[1].scatter(sAB_ratio[age_sind6th][~np.isnan(sAB_ratio[age_sind6th])],reqalt_rates[age_sind6th][~np.isnan(sAB_ratio[age_sind6th])], color = 'C1', s = 10)\n",
    "#ax[1].set_xlabel('Avg. Stability in A_ & B_')\n",
    "#ax[1].set_ylabel('Fraction Rewards Requested')\n",
    "ax[1].set_ylim([-0.1,1.1])\n",
    "ax[1].set_xlim([0.975,1.2])\n",
    "ax[1].set_yticks([0,0.5,1.0])\n",
    "ax[1].tick_params(labelsize = 8)\n",
    "X_plot = np.linspace(ax[1].get_xlim()[0],ax[1].get_xlim()[1],100)\n",
    "ax[1].set_xlabel('Mean Similarity Ratio', fontsize = 9)\n",
    "#ax[1].plot(X_plot, yslope1*X_plot + yint1, '--', color = 'C0', label = 'Young Fit')\n",
    "#ax[1].plot(X_plot, maslope1*X_plot + maint1, '--', color = 'C2', label = 'MA Fit')\n",
    "ax[1].plot(X_plot, aslope1*X_plot + aint1, '--', linewidth = 0.75, color = 'C1', label = 'Aged')\n",
    "ax[1].plot(X_plot, allslope1*X_plot + allint1, '-', linewidth = 1, color = 'k', label = 'All Ages')\n",
    "\n",
    "plt.tight_layout()\n",
    "fig.supylabel('Alt. Frac. Rewards Requested', fontsize = 9)\n",
    "plt.savefig(save_folder + '2K.png', dpi = 400, bbox_inches = 'tight')\n",
    "plt.savefig(save_folder + '2K.svg', dpi = 400, bbox_inches = 'tight')\n",
    "plt.show()"
   ]
  },
  {
   "cell_type": "markdown",
   "id": "aaf3f686",
   "metadata": {},
   "source": [
    "# NGS Cell Stability, Context-Matched Similarity, & Similarity Ratio"
   ]
  },
  {
   "cell_type": "markdown",
   "id": "1e3fd271",
   "metadata": {},
   "source": [
    "Figures S3i - n. You can skip to this session after setting up and loading in NGS cell booleans. "
   ]
  },
  {
   "cell_type": "code",
   "execution_count": null,
   "id": "f2fa7092",
   "metadata": {},
   "outputs": [],
   "source": [
    "''' Compute & Plot Sorted Cross-Trial Correlation Matrices for NGS Cells; Save Matrices for Later Use \n",
    "\n",
    "Run time is a few minutes per session (scales w/ NGS cell number).\n",
    "\n",
    "'''\n",
    "\n",
    "for m, session in zip(mice,sessions):\n",
    "\n",
    "    for s in tdqm(session):\n",
    "        \n",
    "        #get data\n",
    "        d = data[m][s]\n",
    "        \n",
    "        #get some data & cell IDs\n",
    "        rawdata_file = 'RAW_' + m + '_' + s + '.npy'\n",
    "        spikes_file = 'SPIKES_' + m + '_' + s +'.npy'\n",
    "        behavior_file = 'BEHAVIOR_' + m + '_' + s + '.npy'\n",
    "        \n",
    "        raw = np.load(load_folder + rawdata_file, allow_pickle=True)\n",
    "        Y = np.load(load_folder + spikes_file, allow_pickle=False) #pre-filtered for speeds >2cm/s, position-corrected spikes, 20 ms timebins\n",
    "        behaviorfil = np.load(load_folder + behavior_file, allow_pickle=False)\n",
    "        \n",
    "        cell_IDs = raw.item().get('cellsfil')\n",
    "        ngscell = d['ngscell'].astype(bool)\n",
    "        ngscells = cell_IDs[ngscell]    \n",
    "    \n",
    "        posx = behaviorfil[:,0]\n",
    "        trial = behaviorfil[:,2]\n",
    "        rawtrialfil = raw.item().get('trialfil')\n",
    "        \n",
    "        #Find any skipped trials\n",
    "        try:\n",
    "            _ = raw.item().get('correctedtrial').shape\n",
    "            skippedtrials = get.find_skipped(trial, max_trial_num = 220)\n",
    "            \n",
    "        except:\n",
    "            skippedtrials = []\n",
    "        \n",
    "        if np.max(np.unique(trial)) < 160: #handles truncated, shorter sessions \n",
    "            alltrial = np.arange(0, np.max(np.unique(trial)) + 2, 1)\n",
    "        else:\n",
    "            alltrial = np.arange(0,220,1)\n",
    "\n",
    "        # Load in left vs. right info\n",
    "        trials = np.unique(trial)\n",
    "        trialinfo = raw.item().get('trialinfo')\n",
    "        left = trialinfo['left']\n",
    "        \n",
    "        # Sort trials by context, find sorted skipped trials, num dark skipped trials\n",
    "        leftsort, allcopy = get.contextsortedtrials(alltrial, left, alt_idx = 140)\n",
    "        \n",
    "        newskippedtrials = []\n",
    "        for z in skippedtrials:\n",
    "            newskippedtrials = np.append(newskippedtrials, np.where(allcopy == z)[0][0])\n",
    "\n",
    "        ndarkskipped = 0\n",
    "        for z in newskippedtrials:\n",
    "            if z < 20: \n",
    "                ndarkskipped += 1\n",
    "                \n",
    "        #adjust trialfil so that sorted trials are skipped instead\n",
    "        skippedrawtrialfil = get.sortedtrialbyframe(rawtrialfil, trial, newskippedtrials)\n",
    "        numtrial = np.unique(skippedrawtrialfil)\n",
    "\n",
    "        #sort spike train & position on VR frames by context during alternation\n",
    "        posxcopy = []\n",
    "        allcopy= np.append(allcopy, 220)\n",
    "        for t in allcopy:\n",
    "            obs_idx = np.where(trial == t)[0]\n",
    "            posxcopy = np.append(posxcopy, posx[obs_idx])\n",
    "            if t == 0:\n",
    "                Z = Y[obs_idx,:]\n",
    "            else: \n",
    "                Z = np.append(Z, Y[obs_idx,:], axis = 0)\n",
    "        \n",
    "        #trim off the dark trials & trial 220 dataframes\n",
    "        start_idx = (np.where(skippedrawtrialfil >= 20)[0][0]).astype(int)\n",
    "        if np.max(skippedrawtrialfil) == 220:\n",
    "            end_idx = (np.where(skippedrawtrialfil == 220)[0][0])\n",
    "            #get smoothed by trial FR matrix excluding dark period sorted by context\n",
    "            normFR, _, _ = ps.tuning_curve_bytrial(posxcopy[start_idx:end_idx], skippedrawtrialfil[start_idx:end_idx], Z[start_idx:end_idx,:], dt, sigma = 5, b=2, smooth=True, normalize=True, occupancy=True)\n",
    "        else:\n",
    "            end_idx = len(skippedrawtrialfil) + 1\n",
    "            #get smoothed by trial FR matrix excluding dark period sorted by context\n",
    "            normFR, _, _ = ps.tuning_curve_bytrial(posxcopy[start_idx:], skippedrawtrialfil[start_idx:], Z[start_idx:,:], dt, sigma = 5, b=2, smooth=True, normalize=True, occupancy=True)\n",
    "    \n",
    "        #collect & plot cross-trial correlation matrices & save for the grid cell population\n",
    "        allsim = np.zeros(shape = (len(np.unique(skippedrawtrialfil[start_idx:end_idx])),len(np.unique(skippedrawtrialfil[start_idx:end_idx])),len(ngscells)))\n",
    "        for i, c in enumerate(ngscells):\n",
    "            sdx = (np.where(cell_IDs == c)[0][0]).astype(int)  \n",
    "            sim , _  = ps.cross_trial_correlation(normFR[:,:,sdx], shift = False) \n",
    "            allsim[:,:,i] = sim\n",
    "            \n",
    "        # save matrix of cross-trial correlations\n",
    "        d['allngssim'] = allsim\n",
    "                               \n",
    "        allngssim_file = 'allbordersim_' + m + '_' + s + '_'+ '.npy'\n",
    "        np.save(save_folder + allngssim_file, allsim)"
   ]
  },
  {
   "cell_type": "code",
   "execution_count": null,
   "id": "464beed3",
   "metadata": {
    "scrolled": true
   },
   "outputs": [],
   "source": [
    "''' Calculate Local Cross Trial Correlation Stability within Each Context'''\n",
    "\n",
    "from scipy.spatial.distance import pdist\n",
    "from scipy.spatial.distance import squareform\n",
    "\n",
    "dt = 0.02\n",
    "\n",
    "#adjust loading folder path to match output of cell above\n",
    "slocstab5A = []\n",
    "slocstab5B = []\n",
    "slocstab5A_ = []\n",
    "slocstab5B_ = []\n",
    "\n",
    "mlocstab5A = []\n",
    "mlocstab5B = []\n",
    "mlocstab5A_ = []\n",
    "mlocstab5B_ = []\n",
    "max_k = 5\n",
    "\n",
    "#cell arrays\n",
    "ylocstab5A = []\n",
    "ylocstab5B = []\n",
    "ylocstab5A_ = []\n",
    "ylocstab5B_ = []\n",
    "\n",
    "malocstab5A = []\n",
    "malocstab5B = []\n",
    "malocstab5A_ = []\n",
    "malocstab5B_ = []\n",
    "\n",
    "alocstab5A = []\n",
    "alocstab5B = []\n",
    "alocstab5A_ = []\n",
    "alocstab5B_ = []\n",
    "\n",
    "blockstability = []\n",
    "\n",
    "for m, session in zip(mice, sessions):\n",
    "    \n",
    "    m_locstab5A = []\n",
    "    m_locstab5B = []\n",
    "    m_locstab5A_ = []\n",
    "    m_locstab5B_ = []\n",
    "    \n",
    "    for s in tdqm(session):\n",
    "        d = data[m][s]\n",
    "        \n",
    "        #get some data & cell IDs\n",
    "        rawdata_file = 'RAW_' + m + '_' + s + '.npy'\n",
    "        behavior_file = 'BEHAVIOR_' + m + '_' + s + '.npy'\n",
    "        raw = np.load(load_folder + rawdata_file, allow_pickle=True)\n",
    "        behaviorfil = np.load(load_folder + behavior_file, allow_pickle=False)\n",
    "        cell_IDs = raw.item().get('cellsfil')\n",
    "        ngscell = d['ngscell'].astype(bool)\n",
    "        ngscells = cell_IDs[ngscell]     \n",
    "        trial = behaviorfil[:,2]\n",
    "        \n",
    "        #load the context lengths, exclude A' and B' gain change trials\n",
    "        Aidx = d['Aidx']\n",
    "        lengthA = len(np.unique(trial[Aidx]))\n",
    "        Bidx = d['Bidx'] \n",
    "        lengthB = len(np.unique(trial[Bidx]))\n",
    "        a_idx = d['A_idx']\n",
    "        lengtha_= len(np.unique(trial[a_idx]))\n",
    "        A_idx = d['A_ngidx'] \n",
    "        lengthA_= len(np.unique(trial[A_idx]))\n",
    "        B_idx = d['B_ngidx']\n",
    "        lengthB_= len(np.unique(trial[B_idx]))\n",
    "        \n",
    "        allngssim_file = 'allbordersim_' + m + '_' + s + '_'+ '.npy'\n",
    "        d['allngssim'] = np.load(save_folder + allngssim_file)\n",
    "        allsim = d['allngssim']\n",
    "        \n",
    "        local_stabilityA = []\n",
    "        local_stabilityB = []\n",
    "        local_stabilityA_ = []\n",
    "        local_stabilityB_ = []\n",
    "        for i, c in enumerate(ngscells):\n",
    "            \n",
    "            #divide sim by context\n",
    "            sim = allsim[:,:,i]\n",
    "            simA = sim[:lengthA,:lengthA]\n",
    "            simB = sim[lengthA:(lengthA + lengthB),lengthA:(lengthA + lengthB)]\n",
    "            simA_ = sim[(lengthA + lengthB):(lengthA + lengthB + lengthA_), (lengthA + lengthB):(lengthA + lengthB + lengthA_)]\n",
    "            simB_ = sim[(lengthA + lengthB + lengtha_):(lengthA + lengthB + lengtha_ + lengthB_),(lengthA + lengthB + lengtha_):(lengthA + lengthB + lengtha_ + lengthB_)]\n",
    "            \n",
    "            # Context A local neighborhood 5 trials\n",
    "            max_k = 5\n",
    "            sum_k = np.zeros(simA.shape[0])\n",
    "            for k in np.arange(-max_k, max_k+1, 1):\n",
    "                if k == 0:\n",
    "                    continue\n",
    "                elif k < 0:\n",
    "                    sum_k[np.abs(k):] = sum_k[np.abs(k):] + np.diagonal(simA, offset=k)\n",
    "                else:\n",
    "                    sum_k[:-k] = sum_k[:-k] + np.diagonal(simA, offset=k)\n",
    "            local_stabilityA = np.append(local_stabilityA, np.mean(sum_k[max_k:-max_k]/(2*max_k)))\n",
    "            blockstability = np.append(blockstability, np.mean(sum_k[max_k:-max_k]/(2*max_k))) # block 1\n",
    "\n",
    "            #Context B\n",
    "            max_k = 5\n",
    "            sum_k = np.zeros(simB.shape[0])\n",
    "            for k in np.arange(-max_k, max_k+1, 1):\n",
    "                if k == 0:\n",
    "                    continue\n",
    "                elif k < 0:\n",
    "                    sum_k[np.abs(k):] = sum_k[np.abs(k):] + np.diagonal(simB, offset=k)\n",
    "                else:\n",
    "                    sum_k[:-k] = sum_k[:-k] + np.diagonal(simB, offset=k)\n",
    "            local_stabilityB = np.append(local_stabilityB, np.mean(sum_k[max_k:-max_k]/(2*max_k)))\n",
    "            blockstability = np.append(blockstability, np.mean(sum_k[max_k:-max_k]/(2*max_k))) # block 2\n",
    "\n",
    "            #Context A_\n",
    "            max_k = 5\n",
    "            if simA_.shape[0] <= 2*max_k:\n",
    "                #print(m, s, simA_.shape[0], simB_.shape[0])\n",
    "                max_k = simA_.shape[0]//2\n",
    "                max_k = 3\n",
    "            \n",
    "            sum_k = np.zeros(simA_.shape[0])\n",
    "            for k in np.arange(-max_k, max_k+1, 1):\n",
    "                if k == 0:\n",
    "                    continue\n",
    "                elif k < 0:\n",
    "                    sum_k[np.abs(k):] = sum_k[np.abs(k):] + np.diagonal(simA_, offset=k)\n",
    "                else:\n",
    "                    sum_k[:-k] = sum_k[:-k] + np.diagonal(simA_, offset=k)\n",
    "            local_stabilityA_ = np.append(local_stabilityA_, np.mean(sum_k[max_k:-max_k]/(2*max_k)))\n",
    "            blockstability = np.append(blockstability, np.nanmean(sum_k[max_k:-max_k]/(2*max_k))) # block 3\n",
    "            \n",
    "            #Context B_\n",
    "            if simB_.shape[0] <= 10:\n",
    "                max_k = 3 \n",
    "            else: \n",
    "                max_k = 5\n",
    "                \n",
    "            sum_k = np.zeros(simB_.shape[0])\n",
    "            sum_k = np.zeros(simB_.shape[0])\n",
    "            for k in np.arange(-max_k, max_k+1, 1):\n",
    "                if k == 0:\n",
    "                    continue\n",
    "                elif k < 0:\n",
    "                    sum_k[np.abs(k):] = sum_k[np.abs(k):] + np.diagonal(simB_, offset=k)\n",
    "                else:\n",
    "                    sum_k[:-k] = sum_k[:-k] + np.diagonal(simB_, offset=k)\n",
    "            local_stabilityB_ = np.append(local_stabilityB_, np.mean(sum_k[max_k:-max_k]/(2*max_k)))\n",
    "            blockstability = np.append(blockstability, np.nanmean(sum_k[max_k:-max_k]/(2*max_k))) # block 3\n",
    "        \n",
    "        #save session results\n",
    "        slocstab5A = np.append(slocstab5A, np.nanmean(local_stabilityA))\n",
    "        m_locstab5A = np.append(m_locstab5A, local_stabilityA)\n",
    "        slocstab5B = np.append(slocstab5B, np.nanmean(local_stabilityB))\n",
    "        m_locstab5B = np.append(m_locstab5B, local_stabilityB)\n",
    "        slocstab5A_ = np.append(slocstab5A_, np.nanmean(local_stabilityA_))\n",
    "        m_locstab5A_ = np.append(m_locstab5A_, local_stabilityA_)    \n",
    "        slocstab5B_ = np.append(slocstab5B_, np.nanmean(local_stabilityB_))\n",
    "        m_locstab5B_ = np.append(m_locstab5B_, local_stabilityB_)\n",
    "        \n",
    "        #pool by age group\n",
    "        if m in SM_aged_mice:\n",
    "            alocstab5A = np.append(alocstab5A, local_stabilityA) \n",
    "            alocstab5B = np.append(alocstab5B, local_stabilityB) \n",
    "            alocstab5A_ = np.append(alocstab5A_, local_stabilityA_) \n",
    "            alocstab5B_ = np.append(alocstab5B_, local_stabilityB_) \n",
    "        elif m in SM_MA_mice:\n",
    "            malocstab5A = np.append(malocstab5A, local_stabilityA) \n",
    "            malocstab5B = np.append(malocstab5B, local_stabilityB) \n",
    "            malocstab5A_ = np.append(malocstab5A_, local_stabilityA_) \n",
    "            malocstab5B_ = np.append(malocstab5B_, local_stabilityB_) \n",
    "        else:\n",
    "            ylocstab5A = np.append(ylocstab5A, local_stabilityA) \n",
    "            ylocstab5B = np.append(ylocstab5B, local_stabilityB) \n",
    "            ylocstab5A_ = np.append(ylocstab5A_, local_stabilityA_) \n",
    "            ylocstab5B_ = np.append(ylocstab5B_, local_stabilityB_) \n",
    "            \n",
    "    #pool by animal\n",
    "    mlocstab5A = np.append(mlocstab5A, np.nanmean(m_locstab5A))\n",
    "    mlocstab5B = np.append(mlocstab5B, np.nanmean(m_locstab5B))\n",
    "    mlocstab5A_ = np.append(mlocstab5A_, np.nanmean(m_locstab5A_))\n",
    "    mlocstab5B_ = np.append(mlocstab5B_, np.nanmean(m_locstab5B_))\n",
    "\n",
    "#save arrays\n",
    "slocstab5A = np.asarray(slocstab5A)\n",
    "slocstab5B = np.asarray(slocstab5B)\n",
    "slocstab5A_ = np.asarray(slocstab5A_)\n",
    "slocstab5B_ = np.asarray(slocstab5B_)\n",
    "\n",
    "mlocstab5A = np.asarray(mlocstab5A)\n",
    "mlocstab5B = np.asarray(mlocstab5B)\n",
    "mlocstab5A_ = np.asarray(mlocstab5A_)\n",
    "mlocstab5B_ = np.asarray(mlocstab5B_)"
   ]
  },
  {
   "cell_type": "code",
   "execution_count": null,
   "id": "344589c1",
   "metadata": {
    "scrolled": true
   },
   "outputs": [],
   "source": [
    "''' Define a List of Sex, Mouse ID, Session Count, Age for each NGS Cell'''\n",
    "import statsmodels.api as sm\n",
    "import statsmodels.formula.api as smf\n",
    "\n",
    "sex = list(animalmeta.Sex[mice_ind])\n",
    "csex = []\n",
    "cmice = []\n",
    "ccount = []\n",
    "cage = []\n",
    "cidx = []\n",
    "ccohort = []\n",
    "cengageA = []\n",
    "cengageB = []\n",
    "cengageA_ = []\n",
    "cengageB_ = []\n",
    "\n",
    "totalcells = 0\n",
    "for m, session in zip(mice, sessions):\n",
    "    \n",
    "    msex = sex[np.where(mice == m)[0][0]]\n",
    "    age =  np.array(animalmeta.loc[(animalmeta.Animal_ID == m),'Age_Group'])\n",
    "    cohort =  np.array(animalmeta.loc[(animalmeta.Animal_ID == m),'Cohort'])\n",
    "    totalsesh = len(session)\n",
    "    \n",
    "    for i, s in enumerate(tdqm(session)):\n",
    "        \n",
    "        d = data[m][s]\n",
    "        \n",
    "        rawdata_file = 'RAW_' + m + '_' + s + '.npy'\n",
    "        raw = np.load(load_folder + rawdata_file, allow_pickle=True)\n",
    "        cell_IDs = raw.item().get('cellsfil')\n",
    "        ngscell = d['ngscell'].astype(bool)\n",
    "        ngscells = cell_IDs[ngscell]\n",
    "        \n",
    "        engagement_file = 'engagement_' + str(m) + '_' + str(s) + '.npy'\n",
    "        blocknclickrate = np.load(engagement_folder + engagement_file)\n",
    "        \n",
    "        for j, c in enumerate(ngscells):\n",
    "            cidx = np.append(cidx, totalcells)\n",
    "            csex = np.append(csex, msex)\n",
    "            cmice = np.append(cmice, m)\n",
    "            ccount = np.append(ccount, (i + 1))\n",
    "            cage = np.append(cage, age)\n",
    "            ccohort = np.append(ccohort, cohort)\n",
    "            cengageA = np.append(cengageA, blocknclickrate[0])\n",
    "            cengageB = np.append(cengageA, blocknclickrate[1])\n",
    "            cengageA_ = np.append(cengageA, blocknclickrate[2])\n",
    "            cengageB_ = np.append(cengageA, blocknclickrate[3])\n",
    "            \n",
    "            totalcells += 1\n",
    "\n",
    "#gather fixed effects into lists\n",
    "Animal_ID = list(cmice)\n",
    "Session = list(ccount)\n",
    "Sex = list(csex)\n",
    "Age_Group = list(cage)\n",
    "Cell_ID = list(cidx)\n",
    "Cohort = list(ccohort)\n",
    "EngageA = list(cengageA)\n",
    "EngageB = list(cengageB)\n",
    "EngageA_ = list(cengageA_)\n",
    "EngageB_ = list(cengageB_)"
   ]
  },
  {
   "cell_type": "code",
   "execution_count": null,
   "id": "86dd7d98",
   "metadata": {},
   "outputs": [],
   "source": [
    "''' LMMs for NGS Cell Moving Avg Similarity [Stability] '''        \n",
    "#gather dependent variables into lists\n",
    "locstab5A = list(np.concatenate((alocstab5A, malocstab5A, ylocstab5A)))\n",
    "locstab5B = list(np.concatenate((alocstab5B, malocstab5B, ylocstab5B)))\n",
    "locstab5A_ = list(np.concatenate((alocstab5A_, malocstab5A_, ylocstab5A_)))\n",
    "locstab5B_ = list(np.concatenate((alocstab5B_, malocstab5B_, ylocstab5B_)))\n",
    "hue_order = [1.0, 3.0, 2.0]\n",
    "\n",
    "tuples = list(zip(Animal_ID, Session, Cell_ID, Sex, Age_Group, Cohort, EngageA, EngageB, EngageA_, EngageB_, locstab5A, locstab5B, locstab5A_, locstab5B_))\n",
    "tuples\n",
    "df = pd.DataFrame(tuples, columns = ['AnimalID', 'Session','Cell_ID','Sex', 'AgeGroup', 'Cohort','EngageA', 'EngageB', 'EngageA_', 'EngageB_','locstab5A','locstab5B', 'locstab5A_', 'locstab5B_'])\n",
    "\n",
    "#handle NaNs\n",
    "df = df.dropna(axis = 0)\n",
    "\n",
    "#AA Dependent\n",
    "vc = {'cells':'0 + C(Cell_ID)'}\n",
    "mA = smf.mixedlm('locstab5A ~ 1 + C(AgeGroup) + C(Sex) + C(Cohort) + EngageA + Session:C(AgeGroup)', groups = 'AnimalID', re_formula = '1', vc_formula = vc,\n",
    "                     data=df).fit(reml= True)\n",
    "print(mA.summary())\n",
    "print(mA.wald_test_terms(scalar = False))\n",
    "\n",
    "df['residA'] = mA.resid\n",
    "fig, ax = plt.subplots(figsize = (12,3))\n",
    "sns.violinplot(data = df, x = 'AnimalID', y = 'residA', inner = 'quartile', ax = ax)\n",
    "plt.title('Avg A Stability Residuals')\n",
    "plt.show()\n",
    "\n",
    "#BB Dependent\n",
    "vc = {'cells':'0 + C(Cell_ID)'}\n",
    "mB = smf.mixedlm('locstab5B ~ 1 + C(AgeGroup) + C(Sex) + C(Cohort) + EngageB + Session:C(AgeGroup)', groups = 'AnimalID', re_formula = '1', vc_formula = vc,\n",
    "                     data=df).fit(reml= True)\n",
    "print(mB.summary())\n",
    "print(mB.wald_test_terms(scalar = False))\n",
    "\n",
    "df['residB'] = mB.resid\n",
    "fig, ax = plt.subplots(figsize = (12,3))\n",
    "sns.violinplot(data = df, x = 'AnimalID', y = 'residB', inner = 'quartile', ax = ax)\n",
    "plt.title('Avg B Stability Residuals')\n",
    "plt.show()\n",
    "\n",
    "#A_A_ Dependent\n",
    "vc = {'cells':'0 + C(Cell_ID)'}\n",
    "mA_ = smf.mixedlm('locstab5A_ ~ 1 + C(AgeGroup) + C(Sex) + C(Cohort) + EngageA_ + Session:C(AgeGroup)', groups = 'AnimalID', re_formula = '1', vc_formula = vc,\n",
    "                     data=df).fit(reml= True)\n",
    "print(mA_.summary())\n",
    "print(mA_.wald_test_terms(scalar = False))\n",
    "\n",
    "df['residA_'] = mA_.resid\n",
    "fig, ax = plt.subplots(figsize = (12,3))\n",
    "sns.violinplot(data = df, x = 'AnimalID', y = 'residA_', inner = 'quartile', ax = ax)\n",
    "plt.title('Avg A_ Stability Residuals')\n",
    "plt.show()\n",
    "\n",
    "#B_B_ Dependent\n",
    "vc = {'cells':'0 + C(Cell_ID)'}\n",
    "mB_ = smf.mixedlm('locstab5B_ ~ 1 + C(AgeGroup) + C(Sex) + C(Cohort) + EngageB_ + Session:C(AgeGroup)', groups = 'AnimalID', re_formula = '1', vc_formula = vc,\n",
    "                     data=df).fit(reml= True)\n",
    "print(mB_.summary())\n",
    "print(mB_.wald_test_terms(scalar = False))\n",
    "\n",
    "df['residB_'] = mB_.resid\n",
    "fig, ax = plt.subplots(figsize = (12,3))\n",
    "sns.violinplot(data = df, x = 'AnimalID', y = 'residB_', inner = 'quartile', ax = ax)\n",
    "plt.title('Avg B_ Stability Residuals')\n",
    "plt.show()\n"
   ]
  },
  {
   "cell_type": "code",
   "execution_count": null,
   "id": "123255e3",
   "metadata": {},
   "outputs": [],
   "source": [
    "''' Get fitted session averages '''\n",
    "\n",
    "r = 6 #sessions\n",
    "\n",
    "df['mA_fitted'] = mA_.fittedvalues\n",
    "df['mB_fitted'] = mB_.fittedvalues\n",
    "\n",
    "resultA_ = df.groupby(by = ['AnimalID','Session'], as_index = False)['mA_fitted'].aggregate('mean')\n",
    "#print(resultA_)\n",
    "seshAanimal = np.asarray(resultA_['AnimalID'])\n",
    "seshAcount = np.asarray(resultA_['Session'])\n",
    "seshA_mean = np.asarray(resultA_['mA_fitted'])\n",
    "\n",
    "resultB_ = df.groupby(by = ['AnimalID','Session'], as_index = False)['mB_fitted'].aggregate('mean')\n",
    "seshBanimal = np.asarray(resultB_['AnimalID'])\n",
    "seshBcount = np.asarray(resultB_['Session'])\n",
    "seshB_mean = np.asarray(resultB_['mB_fitted'])\n",
    "\n",
    "slocstab5A_fitted_seg_aged = [[] * r for i in range(r)]\n",
    "slocstab5A_fitted_seg_MA = [[] * r for i in range(r)]\n",
    "slocstab5A_fitted_seg_young = [[] * r for i in range(r)]\n",
    "slocstab5B_fitted_seg_aged = [[] * r for i in range(r)]\n",
    "slocstab5B_fitted_seg_MA = [[] * r for i in range(r)]\n",
    "slocstab5B_fitted_seg_young = [[] * r for i in range(r)]\n",
    "\n",
    "sessionAcount_fitted_aged = [[] * r for i in range(r)]\n",
    "sessionAcount_fitted_MA = [[] * r for i in range(r)]\n",
    "sessionAcount_fitted_young = [[] * r for i in range(r)]\n",
    "sessionBcount_fitted_aged = [[] * r for i in range(r)]\n",
    "sessionBcount_fitted_MA = [[] * r for i in range(r)]\n",
    "sessionBcount_fitted_young = [[] * r for i in range(r)]\n",
    "\n",
    "for m, session in zip(mice, sessions): \n",
    "    \n",
    "    animalidx = np.where(seshAanimal == m)[0][0]\n",
    "    sessiona_idx = np.where(seshAanimal == m)[0]\n",
    "    sessionb_idx = np.where(seshBanimal == m)[0]\n",
    "\n",
    "    if m in SM_aged_mice:\n",
    "        for i, c in enumerate(seshAcount[sessiona_idx]):\n",
    "            idx = c.astype(int) - 1\n",
    "            slocstab5A_fitted_seg_aged[idx] = np.append(slocstab5A_fitted_seg_aged[idx],seshA_mean[sessiona_idx][i])\n",
    "            sessionAcount_fitted_aged[idx] = np.append(sessionAcount_fitted_aged[idx], c - 1)\n",
    "            \n",
    "        for i, c in enumerate(seshBcount[sessionb_idx]):\n",
    "            idx = c.astype(int) - 1 \n",
    "            slocstab5B_fitted_seg_aged[idx] = np.append(slocstab5B_fitted_seg_aged[idx],seshB_mean[sessionb_idx][i])\n",
    "            sessionBcount_fitted_aged[idx] = np.append(sessionBcount_fitted_aged[idx], c - 1)    \n",
    "        \n",
    "    elif m in SM_MA_mice:\n",
    "        for i, c in enumerate(seshAcount[sessiona_idx]):\n",
    "            idx = c.astype(int) - 1\n",
    "            slocstab5A_fitted_seg_MA[idx] = np.append(slocstab5A_fitted_seg_MA[idx],seshA_mean[sessiona_idx][i])\n",
    "            sessionAcount_fitted_MA[idx] = np.append(sessionAcount_fitted_MA[idx], c - 1)\n",
    "            \n",
    "        for i, c in enumerate(seshBcount[sessionb_idx]):\n",
    "            idx = c.astype(int) - 1\n",
    "            slocstab5B_fitted_seg_MA[idx] = np.append(slocstab5B_fitted_seg_MA[idx],seshB_mean[sessionb_idx][i])\n",
    "            sessionBcount_fitted_MA[idx] = np.append(sessionBcount_fitted_MA[idx], c - 1)   \n",
    "    else:\n",
    "        for i, c in enumerate(seshAcount[sessiona_idx]):\n",
    "            idx = c.astype(int) - 1\n",
    "            slocstab5A_fitted_seg_young[idx] = np.append(slocstab5A_fitted_seg_young[idx],seshA_mean[sessiona_idx][i])\n",
    "            sessionAcount_fitted_young[idx] = np.append(sessionAcount_fitted_young[idx], c - 1)\n",
    "            \n",
    "        for i, c in enumerate(seshBcount[sessionb_idx]):\n",
    "            idx = c.astype(int) - 1\n",
    "            slocstab5B_fitted_seg_young[idx] = np.append(slocstab5B_fitted_seg_young[idx],seshB_mean[sessionb_idx][i])\n",
    "            sessionBcount_fitted_young[idx] = np.append(sessionBcount_fitted_young[idx], c - 1)   "
   ]
  },
  {
   "cell_type": "code",
   "execution_count": null,
   "id": "baa8dd4a",
   "metadata": {},
   "outputs": [],
   "source": [
    "''' Composite Plot of Alternation Stability w/ Fitted Session Average Data Points (Figure S3i)'''\n",
    "f, ax = plt.subplots(1, 2, figsize=(3.25, 1.5), sharey = True)\n",
    "\n",
    "g = sns.pointplot(x = df['Session'], y = mA_.fittedvalues, hue = df['AgeGroup'], hue_order = hue_order, ax = ax[0], scale = 0.5)\n",
    "ax[0].set_xticks([0,1,2,3,4,5])\n",
    "ax[0].set_xticklabels([1,2,3,4,5,6])\n",
    "ax[0].set_xlim([-0.5,5.5])\n",
    "ax[0].set_yticks([0,0.2,0.4,0.6,0.8])\n",
    "ax[0].set_ylim([0.0,0.8])\n",
    "ax[0].tick_params(labelsize = 8)\n",
    "ax[0].set_ylabel('Mean Stability', fontsize=9, labelpad=1)\n",
    "ax[0].set_xlabel('Session', fontsize=9, labelpad=1)\n",
    "g.legend_.remove()\n",
    "\n",
    "g1 = sns.pointplot(x = df['Session'], y = mB_.fittedvalues, hue = df['AgeGroup'], hue_order = hue_order, ax = ax[1], scale = 0.5)\n",
    "ax[1].set_xticks([0,1,2,3,4,5])\n",
    "ax[1].set_xticklabels([1,2,3,4,5,6])\n",
    "ax[1].set_xlim([-0.5,5.5])\n",
    "ax[1].set_ylim([0.0,0.8])\n",
    "ax[1].set_yticks([0,0.2,0.4,0.6,0.8])\n",
    "ax[1].set_xlabel('Session', fontsize=9, labelpad=1)\n",
    "ax[1].tick_params(labelsize = 8)\n",
    "#ax[1].set_ylabel('Stability', fontsize=9, labelpad=1)\n",
    "g1.legend_.remove()\n",
    "\n",
    "for l in g.lines:\n",
    "    plt.setp(l,linewidth = 0.75)\n",
    "    \n",
    "for l in g1.lines:\n",
    "    plt.setp(l,linewidth = 0.75)\n",
    "\n",
    "#scatter plot actual raw data:\n",
    "for i in range(0,len(slocstab5A_fitted_seg_aged)):\n",
    "    print('\\nn aged, MA, young mice on day ' + str(i + 1) + ' for A`')\n",
    "    print(len(sessionAcount_fitted_aged[i]),len(sessionAcount_fitted_MA[i]), len(sessionAcount_fitted_young[i]))\n",
    "    \n",
    "    print('\\nn aged, MA, young mice on day ' + str(i + 1) + ' for B`')\n",
    "    print(len(sessionBcount_fitted_aged[i]),len(sessionBcount_fitted_MA[i]), len(sessionBcount_fitted_young[i]))\n",
    "    \n",
    "    ax[0].scatter(sessionAcount_fitted_aged[i] + 0.1, slocstab5A_fitted_seg_aged[i], s = 5, alpha = 0.4, c = 'C1', edgecolor = 'none')\n",
    "    ax[0].scatter(sessionAcount_fitted_MA[i], slocstab5A_fitted_seg_MA[i], s = 5, alpha = 0.4, c = 'C2', edgecolor = 'none')\n",
    "    ax[0].scatter(sessionAcount_fitted_young[i] - 0.1, slocstab5A_fitted_seg_young[i], s = 5, alpha = 0.4, c = 'C0', edgecolor = 'none')\n",
    "    \n",
    "    ax[1].scatter(sessionBcount_fitted_aged[i] + 0.1, slocstab5B_fitted_seg_aged[i], s = 5, alpha = 0.4, c = 'C1', edgecolor = 'none')\n",
    "    ax[1].scatter(sessionBcount_fitted_MA[i], slocstab5B_fitted_seg_MA[i], s = 5, alpha = 0.4, c = 'C2', edgecolor = 'none')\n",
    "    ax[1].scatter(sessionBcount_fitted_young[i] - 0.1, slocstab5B_fitted_seg_young[i], s = 5, alpha = 0.4, c = 'C0', edgecolor = 'none')\n",
    "\n",
    "#ax[0].legend(loc = 4, fontsize = 9)\n",
    "plt.savefig(save_folder + 'S3I.png', dpi=400, bbox_inches='tight')\n",
    "plt.savefig(save_folder + 'S3I.svg', dpi=400, bbox_inches='tight')\n",
    "plt.show()"
   ]
  },
  {
   "cell_type": "code",
   "execution_count": null,
   "id": "6a271811",
   "metadata": {},
   "outputs": [],
   "source": [
    "''' Find where I will have NaNs'''\n",
    "nan_idxgrid = np.where((spergrid == 0))[0]\n",
    "nan_idxngs = np.where((sperngs == 0))[0]\n",
    "print(nan_idxgrid, nan_idxngs)\n",
    "print(len(col_session[0]),len(col_session[1]),len(col_session[2]))\n",
    "\n",
    "# Adjust y_sind, ma_sind, age_sind for subsequent plots\n",
    "y_sindgrid = np.setdiff1d(y_sind, nan_idxgrid)\n",
    "ma_sindgrid = np.setdiff1d(ma_sind, nan_idxgrid)\n",
    "age_sindgrid = np.setdiff1d(age_sind, nan_idxgrid)\n",
    "\n",
    "y_sindngs = np.setdiff1d(y_sind, nan_idxngs)\n",
    "ma_sindngs = np.setdiff1d(ma_sind, nan_idxngs)\n",
    "age_sindngs = np.setdiff1d(age_sind, nan_idxngs)\n",
    "\n",
    "# Adjust colormaps for grid plots\n",
    "yidx = []\n",
    "maidx = []\n",
    "aidx = []\n",
    "for i in nan_idxgrid:\n",
    "    yidx = np.append(yidx, np.where(y_sind == i)[0].astype(int))\n",
    "    maidx = np.append(maidx, np.where(ma_sind == i)[0].astype(int))\n",
    "    aidx = np.append(aidx, np.where(age_sind == i)[0].astype(int)) \n",
    "\n",
    "col_session_younggrid = np.delete(col_session_young, list(yidx.astype(int)), axis = 0)\n",
    "col_session_magrid = np.delete(col_session_MA, list(maidx.astype(int)), axis = 0)\n",
    "col_session_oldgrid = np.delete(col_session_old, list(aidx.astype(int)), axis = 0)\n",
    "col_sessiongrid = [col_session_younggrid, col_session_magrid, col_session_oldgrid] \n",
    "\n",
    "# Adjust colormaps for ngs plots\n",
    "yidx = []\n",
    "maidx = []\n",
    "aidx = []\n",
    "for i in nan_idxngs:\n",
    "    yidx = np.append(yidx, np.where(y_sind == i)[0].astype(int))\n",
    "    maidx = np.append(maidx, np.where(y_sind == i)[0].astype(int))\n",
    "    aidx = np.append(aidx, np.where(age_sind == i)[0].astype(int))\n",
    "\n",
    "col_session_youngngs = np.delete(col_session_young, list(yidx), axis = 0)\n",
    "col_session_mangs = np.delete(col_session_MA, list(maidx), axis = 0)\n",
    "col_session_oldngs = np.delete(col_session_old, list(aidx), axis = 0)\n",
    "col_sessionngs = [col_session_youngngs, col_session_mangs, col_session_oldngs] \n",
    "\n",
    "print(len(col_session_younggrid),len(col_session_youngngs))\n",
    "print(len(col_session_magrid),len(col_session_mangs))\n",
    "print(len(col_session_oldgrid),len(col_session_oldngs))\n",
    "\n",
    "# This will fix session stats & box plots are plotted."
   ]
  },
  {
   "cell_type": "code",
   "execution_count": null,
   "id": "2c96a853",
   "metadata": {},
   "outputs": [],
   "source": [
    "''' Plot Figure S3j '''\n",
    "### TOTAL ALT STABILITY vs. REQ RATES\n",
    "slocstab5alt = np.nanmean(np.vstack((slocstab5A_,slocstab5B_)), axis = 0)\n",
    "\n",
    "#Linear regression\n",
    "res = stats.linregress(slocstab5alt[y_sindngs],reqalt_rates[y_sindngs])\n",
    "yslope1 = res.slope; yint1 = res.intercept; yr1 = res.rvalue; yp1 = res.pvalue\n",
    "\n",
    "res = stats.linregress(slocstab5alt[ma_sindngs],reqalt_rates[ma_sindngs])\n",
    "maslope1 = res.slope; maint1 = res.intercept; mar1 = res.rvalue ; map1 = res.pvalue\n",
    "\n",
    "res = stats.linregress(slocstab5alt[age_sindngs],reqalt_rates[age_sindngs])\n",
    "aslope1 = res.slope; aint1 = res.intercept; ar1 = res.rvalue ; ap1 = res.pvalue\n",
    "\n",
    "res = stats.linregress(slocstab5alt[~np.isnan(slocstab5alt)],reqalt_rates[~np.isnan(slocstab5alt)])\n",
    "allslope1 = res.slope; allint1 = res.intercept; allr1 = res.rvalue; allp1 = res.pvalue\n",
    "\n",
    "print('Association btwn Young, MA, Aged, & All Performance & Variable of Interest:')\n",
    "print('R [Young, MA, Aged, All]: ')\n",
    "print(yr1, mar1, ar1, allr1)\n",
    "print('P [Young, MA, Aged, All]: ')\n",
    "print(yp1, map1, ap1, allp1)\n",
    "        \n",
    "fig, ax = plt.subplots(2,1, figsize = (2.5,2.7))\n",
    "ax[0].set_title('All Sessions', fontsize = 10)\n",
    "ax[0].scatter(slocstab5alt[y_sindngs],reqalt_rates[y_sindngs], color = 'C0', s = 10)\n",
    "ax[0].scatter(slocstab5alt[ma_sindngs],reqalt_rates[ma_sindngs], color = 'C2', s = 10)\n",
    "ax[0].scatter(slocstab5alt[age_sindngs],reqalt_rates[age_sindngs], color = 'C1', s = 10)\n",
    "ax[0].set_ylim([-0.1,1.1])\n",
    "ax[0].set_xlim([0,0.6])\n",
    "ax[0].set_yticks([0,0.5,1.0])\n",
    "ax[0].tick_params(labelsize = 8)\n",
    "X_plot = np.linspace(ax[0].get_xlim()[0],ax[0].get_xlim()[1],100)\n",
    "ax[0].plot(X_plot, aslope1*X_plot + aint1, '--', linewidth = 0.75, color = 'C1', label = 'Aged')\n",
    "ax[0].plot(X_plot, allslope1*X_plot + allint1, '-', linewidth = 1, color = 'k', label = 'All Ages')\n",
    "#ax.legend(loc = 4, fontsize = 9, prop = {'size': 10})\n",
    "\n",
    "#Select 6th sessions\n",
    "sixthsesh = []\n",
    "seshcount = 0\n",
    "for m, session in zip(mice, sessions):\n",
    "    totalsesh = len(session)\n",
    "    for i, s in enumerate(session):\n",
    "        if (i == (totalsesh - 1)) & (totalsesh >= 6):\n",
    "            sixthsesh = np.append(sixthsesh, seshcount)\n",
    "        seshcount += 1\n",
    "\n",
    "# Get indices for six sesssions in each age group\n",
    "y_sind6th = np.intersect1d(y_sindngs, sixthsesh).astype(int)\n",
    "ma_sind6th = np.intersect1d(ma_sindngs, sixthsesh).astype(int)\n",
    "age_sind6th = np.intersect1d(age_sindngs, sixthsesh).astype(int)\n",
    "\n",
    "### TOTAL ALT STABILITY vs. 6th day REQ RATES\n",
    "slocstab5alt = np.nanmean(np.vstack((slocstab5A_,slocstab5B_)), axis = 0)\n",
    "\n",
    "#Linear regression\n",
    "res = stats.linregress(slocstab5alt[y_sind6th],reqalt_rates[y_sind6th])\n",
    "yslope1 = res.slope; yint1 = res.intercept; yr1 = res.rvalue; yp1 = res.pvalue\n",
    "\n",
    "res = stats.linregress(slocstab5alt[ma_sind6th],reqalt_rates[ma_sind6th])\n",
    "maslope1 = res.slope; maint1 = res.intercept; mar1 = res.rvalue ; map1 = res.pvalue\n",
    "\n",
    "res = stats.linregress(slocstab5alt[age_sind6th],reqalt_rates[age_sind6th])\n",
    "aslope1 = res.slope; aint1 = res.intercept; ar1 = res.rvalue ; ap1 = res.pvalue\n",
    "\n",
    "allidx = np.concatenate((y_sind6th,ma_sind6th,age_sind6th))\n",
    "res = stats.linregress(slocstab5alt[allidx],reqalt_rates[allidx])\n",
    "allslope1 = res.slope; allint1 = res.intercept; allr1 = res.rvalue; allp1 = res.pvalue\n",
    "\n",
    "print('\\nAssociation btwn Young, MA, Aged, & All Performance & Variable of Interest:')\n",
    "print('R [Young, MA, Aged, All]: ')\n",
    "print(yr1, mar1, ar1, allr1)\n",
    "print('P [Young, MA, Aged, All]: ')\n",
    "print(yp1, map1, ap1, allp1)\n",
    "\n",
    "# Plot Day 6 relationships\n",
    "ax[1].set_title('Day 6 Sessions', fontsize = 10)\n",
    "ax[1].scatter(slocstab5alt[y_sind6th],reqalt_rates[y_sind6th], color = 'C0', s = 10)\n",
    "ax[1].scatter(slocstab5alt[ma_sind6th],reqalt_rates[ma_sind6th], color = 'C2', s = 10)\n",
    "ax[1].scatter(slocstab5alt[age_sind6th],reqalt_rates[age_sind6th], color = 'C1', s = 10)\n",
    "ax[1].set_ylim([-0.1,1.1])\n",
    "ax[1].set_xlim([0,0.45])\n",
    "ax[1].set_yticks([0,0.5,1.0])\n",
    "ax[1].tick_params(labelsize = 8)\n",
    "X_plot = np.linspace(ax[1].get_xlim()[0],ax[1].get_xlim()[1],100)\n",
    "ax[1].plot(X_plot, allslope1*X_plot + allint1, '-', linewidth = 1, color = 'k', label = 'All')\n",
    "ax[1].set_xlabel('Mean Alternation Stability', fontsize = 9)\n",
    "ax[1].legend(loc = 4, fontsize = 8, prop = {'size': 8})\n",
    "\n",
    "plt.tight_layout()\n",
    "fig.supylabel('Alt. Frac. Rewards Requested', fontsize = 9)\n",
    "plt.savefig(save_folder + 'S3J.png', dpi = 400, bbox_inches = 'tight')\n",
    "plt.savefig(save_folder + 'S3J.svg', dpi = 400, bbox_inches = 'tight')\n",
    "plt.show()"
   ]
  },
  {
   "cell_type": "code",
   "execution_count": null,
   "id": "5abac6cf",
   "metadata": {
    "scrolled": true
   },
   "outputs": [],
   "source": [
    "''' Calculate Spatial Avg Similarity within Each Context & on Off Diagonal'''\n",
    "\n",
    "dt = 0.02\n",
    "\n",
    "ystabABdiag = []\n",
    "ystabBA_diag = []\n",
    "ystabAB_diag = []\n",
    "ystabAA_diag = []\n",
    "ystabBB_diag = []\n",
    "\n",
    "mastabABdiag = []\n",
    "mastabBA_diag = []\n",
    "mastabAB_diag = []\n",
    "mastabAA_diag = []\n",
    "mastabBB_diag = []\n",
    "\n",
    "astabABdiag = []\n",
    "astabBA_diag = []\n",
    "astabAB_diag = []\n",
    "astabAA_diag = []\n",
    "astabBB_diag = []\n",
    "\n",
    "sstabABdiag = []\n",
    "sstabBA_diag = []\n",
    "sstabAB_diag = []\n",
    "sstabAA_diag = []\n",
    "sstabBB_diag = []\n",
    "\n",
    "blocksimilarity = []\n",
    "\n",
    "for m, session in zip(mice, sessions):\n",
    "\n",
    "    for s in tdqm(session):\n",
    "        d = data[m][s]\n",
    "        \n",
    "        #get some data & cell IDs\n",
    "        rawdata_file = 'RAW_' + m + '_' + s + '.npy'\n",
    "        behavior_file = 'BEHAVIOR_' + m + '_' + s + '.npy'\n",
    "        raw = np.load(load_folder + rawdata_file, allow_pickle=True)\n",
    "        behaviorfil = np.load(load_folder + behavior_file, allow_pickle=False)\n",
    "        cell_IDs = raw.item().get('cellsfil')\n",
    "        ngscell = d['ngscell'].astype(bool)\n",
    "        ngscells = cell_IDs[ngscell]     \n",
    "        trial = behaviorfil[:,2]\n",
    "        \n",
    "        #save the context lengths\n",
    "        Aidx = d['Aidx']\n",
    "        lengthA = len(np.unique(trial[Aidx]))\n",
    "        Bidx = d['Bidx'] \n",
    "        lengthB = len(np.unique(trial[Bidx]))\n",
    "        a_idx = d['A_idx'] \n",
    "        lengtha_= len(np.unique(trial[a_idx]))\n",
    "        A_idx = d['A_ngidx'] \n",
    "        lengthA_= len(np.unique(trial[A_idx]))\n",
    "        B_idx = d['B_ngidx']\n",
    "        lengthB_= len(np.unique(trial[B_idx]))\n",
    "        nB = lengthA + lengthB\n",
    "        nA_ = lengthA + lengthB + lengthA_\n",
    "        na_ = lengthA + lengthB + lengtha_\n",
    "        nB_ = lengthA + lengthB + lengtha_ + lengthB_\n",
    "        \n",
    "        allngssim_file = 'allbordersim_' + m + '_' + s + '_'+ '.npy'\n",
    "        d['allngssim'] = np.load(save_folder + allngssim_file)\n",
    "        allngssim = d['allngssim']\n",
    "\n",
    "        ABdiag = []\n",
    "        AB_diag = []\n",
    "        AA_diag = []\n",
    "        BA_diag = []\n",
    "        BB_diag = []\n",
    "        \n",
    "        for i, c in enumerate(ngscells):\n",
    "            sim = allngssim[:,:,i]\n",
    "            #sim = (sim - np.min(sim)) / (np.max(sim) - np.min(sim))\n",
    "\n",
    "            #divide sim by context\n",
    "            simA = sim[:lengthA,:lengthA]\n",
    "            simB = sim[lengthA:nB,lengthA:nB]\n",
    "            simA_ = sim[nB:nA_,nB:nA_]\n",
    "            simB_ = sim[na_:nB_,na_:nB_]\n",
    "            \n",
    "            # Context A spatial stability\n",
    "            baseline_sim = pd.DataFrame(simA) #non-gain vs. non-gain\n",
    "            baselineAstab = ((baseline_sim.sum().sum() - lengthA) / 2) / ((lengthA**2 - lengthA)/2)\n",
    "\n",
    "            #Context B\n",
    "            baseline_sim = pd.DataFrame(simB) #non-gain vs. non-gain\n",
    "            baselineBstab = ((baseline_sim.sum().sum() - lengthB) / 2) / ((lengthB**2 - lengthB)/2)\n",
    "            \n",
    "            #Baseline Subtracted Off diagonal avg. pairwise correlation as a percentage of baseline stability\n",
    "            if baselineAstab >= 0.1:\n",
    "                ABdiag = np.append(ABdiag, sim[lengthA:nB, :lengthA].mean())\n",
    "                AB_diag = np.append(AB_diag, sim[na_:nB_,:lengthA].mean())\n",
    "                AA_diag = np.append(AA_diag, sim[nB:nA_,:lengthA].mean())\n",
    "            else:\n",
    "                ABdiag = np.append(ABdiag, np.nan)\n",
    "                AB_diag = np.append(AB_diag, np.nan)\n",
    "                AA_diag = np.append(AA_diag, np.nan)\n",
    "                \n",
    "            if baselineBstab >= 0.1:\n",
    "                BA_diag = np.append(BA_diag, sim[nB:nA_,lengthA:nB].mean())\n",
    "                BB_diag = np.append(BB_diag, sim[na_:nB_,lengthA:nB].mean())\n",
    "            else:\n",
    "                BA_diag = np.append(BA_diag, np.nan)\n",
    "                BB_diag = np.append(BB_diag, np.nan)\n",
    "                \n",
    "        #Off diagonal avg. pairwise correlation\n",
    "        sstabABdiag = np.append(sstabABdiag, np.nanmean(ABdiag)) #B x A\n",
    "        sstabAB_diag = np.append(sstabAB_diag, np.nanmean(AB_diag)) #B' x A\n",
    "        sstabAA_diag = np.append(sstabAA_diag, np.nanmean(AA_diag)) #A' x A\n",
    "        sstabBA_diag = np.append(sstabBA_diag, np.nanmean(BA_diag)) #A' x B\n",
    "        sstabBB_diag = np.append(sstabBB_diag, np.nanmean(BB_diag)) #B' x B\n",
    "        \n",
    "        #pool age group results\n",
    "        if m in SM_aged_mice:\n",
    "            astabABdiag = np.append(astabABdiag, ABdiag)\n",
    "            astabBA_diag = np.append(astabBA_diag, BA_diag)\n",
    "            astabAB_diag = np.append(astabAB_diag, AB_diag)\n",
    "            astabAA_diag = np.append(astabAA_diag, AA_diag)\n",
    "            astabBB_diag = np.append(astabBB_diag, BB_diag)\n",
    "        elif m in SM_MA_mice:\n",
    "            mastabABdiag = np.append(mastabABdiag, ABdiag)\n",
    "            mastabBA_diag = np.append(mastabBA_diag, BA_diag)\n",
    "            mastabAB_diag = np.append(mastabAB_diag, AB_diag)\n",
    "            mastabAA_diag = np.append(mastabAA_diag, AA_diag)\n",
    "            mastabBB_diag = np.append(mastabBB_diag, BB_diag)\n",
    "        else:\n",
    "            ystabABdiag = np.append(ystabABdiag, ABdiag)\n",
    "            ystabBA_diag = np.append(ystabBA_diag, BA_diag)\n",
    "            ystabAB_diag = np.append(ystabAB_diag, AB_diag)\n",
    "            ystabAA_diag = np.append(ystabAA_diag, AA_diag)\n",
    "            ystabBB_diag = np.append(ystabBB_diag, BB_diag)"
   ]
  },
  {
   "cell_type": "code",
   "execution_count": null,
   "id": "3dbc35db",
   "metadata": {
    "scrolled": true
   },
   "outputs": [],
   "source": [
    "''' LMMs for Avg Similarity On Diag '''   \n",
    "hue_order = [1.0,3.0,2.0]\n",
    "#gather dependent variables into lists\n",
    "stabABdiag = list(np.concatenate((astabABdiag, mastabABdiag, ystabABdiag)))\n",
    "stabAA_diag = list(np.concatenate((astabAA_diag, mastabAA_diag, ystabAA_diag)))\n",
    "stabBB_diag = list(np.concatenate((astabBB_diag, mastabBB_diag, ystabBB_diag)))\n",
    "stabAB_diag = list(np.concatenate((astabAB_diag, mastabAB_diag, ystabAB_diag)))\n",
    "stabBA_diag = list(np.concatenate((astabBA_diag, mastabBA_diag, ystabBA_diag)))\n",
    "\n",
    "tuples = list(zip(Animal_ID, Session, Cell_ID, Sex, Age_Group, Cohort, EngageA, EngageB, EngageA_, EngageB_, stabABdiag, stabAA_diag, stabBB_diag,stabAB_diag,stabBA_diag))\n",
    "tuples\n",
    "df = pd.DataFrame(tuples, columns = ['AnimalID', 'Session','Cell_ID','Sex', 'AgeGroup', 'Cohort','EngageA', 'EngageB', 'EngageA_', 'EngageB_','stabABdiag','stabAA_', 'stabBB_','stabAB_','stabBA_'])\n",
    "\n",
    "#handle NaNs\n",
    "df = df.dropna(axis = 0)\n",
    "\n",
    "# AB Dependent\n",
    "vc = {'cells':'0 + C(Cell_ID)'}\n",
    "mAB = smf.mixedlm('stabABdiag ~ 1 + C(AgeGroup) + C(Sex) + C(Cohort) + EngageB + Session + Session:C(AgeGroup)', groups = 'AnimalID', re_formula = '1', vc_formula = vc,\n",
    "                     data=df).fit(reml= True)\n",
    "print(mAB.summary())\n",
    "print(mAB.wald_test_terms(scalar = False))\n",
    "\n",
    "#plot residuals\n",
    "df['resid'] = mAB.resid\n",
    "fig, ax = plt.subplots(figsize = (12,3))\n",
    "sns.violinplot(data = df, x = 'AnimalID', y = 'resid', inner = 'quartile', ax = ax)\n",
    "plt.title('Avg AB Similarity Residuals')\n",
    "plt.show()\n",
    "\n",
    "# A_A Dependent\n",
    "vc = {'cells':'0 + C(Cell_ID)'}\n",
    "mA = smf.mixedlm('stabAA_ ~ 1 + C(AgeGroup) + C(Sex) + C(Cohort) + EngageA_ + Session:C(AgeGroup)', groups = 'AnimalID', re_formula = '1', vc_formula = vc,\n",
    "                     data=df).fit(reml= True)\n",
    "print(mA.summary())\n",
    "print(mA.wald_test_terms(scalar = False))\n",
    "\n",
    "df['resid'] = mA.resid\n",
    "fig, ax = plt.subplots(figsize = (12,3))\n",
    "sns.violinplot(data = df, x = 'AnimalID', y = 'resid', inner = 'quartile', ax = ax)\n",
    "plt.title('Avg A_A Similarity Residuals')\n",
    "plt.show()\n",
    "\n",
    "# B_B Dependent\n",
    "vc = {'cells':'0 + C(Cell_ID)'}\n",
    "mB = smf.mixedlm('stabBB_ ~ 1 + C(AgeGroup) + C(Sex) + C(Cohort) + EngageB_ + Session:C(AgeGroup)', groups = 'AnimalID', re_formula = '1', vc_formula = vc,\n",
    "                     data=df).fit(reml= False)\n",
    "print(mB.summary())\n",
    "print(mB.wald_test_terms(scalar = False))\n",
    "\n",
    "df['resid'] = mB.resid\n",
    "fig, ax = plt.subplots(figsize = (12,3))\n",
    "sns.violinplot(data = df, x = 'AnimalID', y = 'resid', inner = 'quartile', ax = ax)\n",
    "plt.title('Avg B_B Similarity Residuals')\n",
    "plt.show()\n",
    "\n",
    "# AB_Dependent\n",
    "vc = {'cells':'0 + C(Cell_ID)'}\n",
    "mA_ = smf.mixedlm('stabAB_ ~ 1 + C(AgeGroup) + C(Sex) + C(Cohort) + EngageB_ + Session + Session:C(AgeGroup)', groups = 'AnimalID', re_formula = '1', vc_formula = vc,\n",
    "                     data=df).fit(reml= True)\n",
    "print(mA_.summary())\n",
    "print(mA_.wald_test_terms(scalar = False))\n",
    "\n",
    "df['resid'] = mA_.resid\n",
    "fig, ax = plt.subplots(figsize = (12,3))\n",
    "sns.violinplot(data = df, x = 'AnimalID', y = 'resid', inner = 'quartile', ax = ax)\n",
    "plt.title('Avg AB_ Similarity Residuals')\n",
    "plt.show()\n",
    "\n",
    "# BA_ Dependent\n",
    "vc = {'cells':'0 + C(Cell_ID)'}\n",
    "mB_ = smf.mixedlm('stabBA_ ~ 1 + C(AgeGroup) + C(Sex) + C(Cohort) + EngageA_ + Session + Session:C(AgeGroup)', groups = 'AnimalID', re_formula = '1', vc_formula = vc,\n",
    "                     data=df).fit(reml= False)\n",
    "print(mB_.summary())\n",
    "print(mB_.wald_test_terms(scalar = False))\n",
    "\n",
    "df['resid'] = mB_.resid\n",
    "fig, ax = plt.subplots(figsize = (12,3))\n",
    "sns.violinplot(data = df, x = 'AnimalID', y = 'resid', inner = 'quartile', ax = ax)\n",
    "plt.title('Avg BA_ Similarity Residuals')\n",
    "plt.show()"
   ]
  },
  {
   "cell_type": "code",
   "execution_count": null,
   "id": "bc802898",
   "metadata": {},
   "outputs": [],
   "source": [
    "''' Get fitted session averages '''\n",
    "\n",
    "df['mAfitted'] = mA.fittedvalues\n",
    "df['mBfitted'] = mB.fittedvalues\n",
    "\n",
    "resultA_ = df.groupby(by = ['AnimalID','Session'], as_index = False)['mAfitted'].aggregate('mean')\n",
    "seshAanimal = np.asarray(resultA_['AnimalID'])\n",
    "seshAcount = np.asarray(resultA_['Session'])\n",
    "seshA_mean = np.asarray(resultA_['mAfitted'])\n",
    "\n",
    "resultB_ = df.groupby(by = ['AnimalID','Session'], as_index = False)['mBfitted'].aggregate('mean')\n",
    "seshBanimal = np.asarray(resultB_['AnimalID'])\n",
    "seshBcount = np.asarray(resultB_['Session'])\n",
    "seshB_mean = np.asarray(resultB_['mBfitted'])\n",
    "\n",
    "slocstab5A_fitted_seg_aged = [[] * r for i in range(r)]\n",
    "slocstab5A_fitted_seg_MA = [[] * r for i in range(r)]\n",
    "slocstab5A_fitted_seg_young = [[] * r for i in range(r)]\n",
    "slocstab5B_fitted_seg_aged = [[] * r for i in range(r)]\n",
    "slocstab5B_fitted_seg_MA = [[] * r for i in range(r)]\n",
    "slocstab5B_fitted_seg_young = [[] * r for i in range(r)]\n",
    "\n",
    "sessionAcount_fitted_aged = [[] * r for i in range(r)]\n",
    "sessionAcount_fitted_MA = [[] * r for i in range(r)]\n",
    "sessionAcount_fitted_young = [[] * r for i in range(r)]\n",
    "sessionBcount_fitted_aged = [[] * r for i in range(r)]\n",
    "sessionBcount_fitted_MA = [[] * r for i in range(r)]\n",
    "sessionBcount_fitted_young = [[] * r for i in range(r)]\n",
    "\n",
    "for m, session in zip(mice, sessions): \n",
    "    \n",
    "    animalidx = np.where(seshAanimal == m)[0][0]\n",
    "    sessiona_idx = np.where(seshAanimal == m)[0]\n",
    "    sessionb_idx = np.where(seshBanimal == m)[0]\n",
    "\n",
    "    if m in SM_aged_mice:\n",
    "        for i, c in enumerate(seshAcount[sessiona_idx]):\n",
    "            idx = c.astype(int) - 1\n",
    "            slocstab5A_fitted_seg_aged[idx] = np.append(slocstab5A_fitted_seg_aged[idx],seshA_mean[sessiona_idx][i])\n",
    "            sessionAcount_fitted_aged[idx] = np.append(sessionAcount_fitted_aged[idx], c - 1)\n",
    "            \n",
    "        for i, c in enumerate(seshBcount[sessionb_idx]):\n",
    "            idx = c.astype(int) - 1 \n",
    "            slocstab5B_fitted_seg_aged[idx] = np.append(slocstab5B_fitted_seg_aged[idx],seshB_mean[sessionb_idx][i])\n",
    "            sessionBcount_fitted_aged[idx] = np.append(sessionBcount_fitted_aged[idx], c - 1)    \n",
    "        \n",
    "    elif m in SM_MA_mice:\n",
    "        for i, c in enumerate(seshAcount[sessiona_idx]):\n",
    "            idx = c.astype(int) - 1\n",
    "            slocstab5A_fitted_seg_MA[idx] = np.append(slocstab5A_fitted_seg_MA[idx],seshA_mean[sessiona_idx][i])\n",
    "            sessionAcount_fitted_MA[idx] = np.append(sessionAcount_fitted_MA[idx], c - 1)\n",
    "            \n",
    "        for i, c in enumerate(seshBcount[sessionb_idx]):\n",
    "            idx = c.astype(int) - 1\n",
    "            slocstab5B_fitted_seg_MA[idx] = np.append(slocstab5B_fitted_seg_MA[idx],seshB_mean[sessionb_idx][i])\n",
    "            sessionBcount_fitted_MA[idx] = np.append(sessionBcount_fitted_MA[idx], c - 1)   \n",
    "    else:\n",
    "        for i, c in enumerate(seshAcount[sessiona_idx]):\n",
    "            idx = c.astype(int) - 1\n",
    "            slocstab5A_fitted_seg_young[idx] = np.append(slocstab5A_fitted_seg_young[idx],seshA_mean[sessiona_idx][i])\n",
    "            sessionAcount_fitted_young[idx] = np.append(sessionAcount_fitted_young[idx], c - 1)\n",
    "            \n",
    "        for i, c in enumerate(seshBcount[sessionb_idx]):\n",
    "            idx = c.astype(int) - 1\n",
    "            slocstab5B_fitted_seg_young[idx] = np.append(slocstab5B_fitted_seg_young[idx],seshB_mean[sessionb_idx][i])\n",
    "            sessionBcount_fitted_young[idx] = np.append(sessionBcount_fitted_young[idx], c - 1)   "
   ]
  },
  {
   "cell_type": "code",
   "execution_count": null,
   "id": "f09389c1",
   "metadata": {},
   "outputs": [],
   "source": [
    "''' Plot Figure S3k '''\n",
    "f, ax = plt.subplots(1, 2, figsize=(3.25, 1.5), sharey = True)\n",
    "\n",
    "g = sns.pointplot(x = df['Session'], y = mA.fittedvalues, hue = df['AgeGroup'], hue_order = hue_order, ax = ax[0], scale = 0.5)\n",
    "ax[1].set_xticks([0,1,2,3,4,5])\n",
    "ax[0].set_xticklabels([1,2,3,4,5,6])\n",
    "ax[1].set_xlim([-0.5,5.5])\n",
    "ax[0].set_ylabel('Mean Similarity', fontsize=9, labelpad=1)\n",
    "ax[0].set_xlabel('Session', fontsize=9, labelpad=1)\n",
    "ax[0].tick_params(labelsize = 8)\n",
    "g.legend_.remove()\n",
    "\n",
    "g1 = sns.pointplot(x = df['Session'], y = mB.fittedvalues, hue = df['AgeGroup'], hue_order = hue_order, ax = ax[1], scale = 0.5)\n",
    "ax[1].set_xticks([0,1,2,3,4,5])\n",
    "ax[1].set_xticklabels([1,2,3,4,5,6])\n",
    "ax[1].set_xlim([-0.5,5.5])\n",
    "ax[1].set_ylim([0,0.8])\n",
    "ax[1].set_xlabel('Session', fontsize=9, labelpad=1)\n",
    "ax[1].tick_params(labelsize = 8)\n",
    "g1.legend_.remove()\n",
    "\n",
    "#scatter plot actual raw data:\n",
    "for i in range(0,len(slocstab5A_fitted_seg_aged)):\n",
    "    \n",
    "    print('\\nn aged, MA, young mice on day ' + str(i + 1) + ' for AxA`')\n",
    "    print(len(sessionAcount_fitted_aged[i]),len(sessionAcount_fitted_MA[i]), len(sessionAcount_fitted_young[i]))\n",
    "    \n",
    "    print('\\nn aged, MA, young mice on day ' + str(i + 1) + ' for BxB`')\n",
    "    print(len(sessionBcount_fitted_aged[i]),len(sessionBcount_fitted_MA[i]), len(sessionBcount_fitted_young[i]))\n",
    "    \n",
    "    ax[0].scatter(sessionAcount_fitted_aged[i] + 0.1, slocstab5A_fitted_seg_aged[i], s = 5, alpha = 0.4, c = 'C1', edgecolor = 'none')\n",
    "    ax[0].scatter(sessionAcount_fitted_MA[i], slocstab5A_fitted_seg_MA[i], s = 5, alpha = 0.4, c = 'C2', edgecolor = 'none')\n",
    "    ax[0].scatter(sessionAcount_fitted_young[i] - 0.1, slocstab5A_fitted_seg_young[i], s = 5, alpha = 0.4, c = 'C0', edgecolor = 'none')\n",
    "    \n",
    "    ax[1].scatter(sessionBcount_fitted_aged[i] + 0.1, slocstab5B_fitted_seg_aged[i], s = 5, alpha = 0.4, c = 'C1', edgecolor = 'none')\n",
    "    ax[1].scatter(sessionBcount_fitted_MA[i], slocstab5B_fitted_seg_MA[i], s = 5, alpha = 0.4, c = 'C2', edgecolor = 'none')\n",
    "    ax[1].scatter(sessionBcount_fitted_young[i] - 0.1, slocstab5B_fitted_seg_young[i], s = 5, alpha = 0.4, c = 'C0', edgecolor = 'none')\n",
    "\n",
    "for l in g.lines:\n",
    "    plt.setp(l,linewidth = 0.75)\n",
    "    \n",
    "for l in g1.lines:\n",
    "    plt.setp(l,linewidth = 0.75)\n",
    "    \n",
    "#ax[0].legend(loc = 4, fontsize = 9)\n",
    "plt.savefig(save_folder + 'S3K.png', dpi=400, bbox_inches='tight')\n",
    "plt.savefig(save_folder + 'S3K.svg', dpi=400, bbox_inches='tight')\n",
    "plt.show()"
   ]
  },
  {
   "cell_type": "code",
   "execution_count": null,
   "id": "175b77a6",
   "metadata": {},
   "outputs": [],
   "source": [
    "''' Plot Figure S3l '''\n",
    "### TOTAL ALT vs. REQ RATES\n",
    "sstabalt = np.nanmean(np.vstack((sstabAA_diag,sstabBB_diag)), axis = 0)\n",
    "\n",
    "#Linear regression\n",
    "res = stats.linregress(sstabalt[y_sindngs],reqalt_rates[y_sindngs])\n",
    "yslope1 = res.slope; yint1 = res.intercept; yr1 = res.rvalue; yp1 = res.pvalue\n",
    "\n",
    "res = stats.linregress(sstabalt[ma_sindngs],reqalt_rates[ma_sindngs])\n",
    "maslope1 = res.slope; maint1 = res.intercept; mar1 = res.rvalue ; map1 = res.pvalue\n",
    "\n",
    "res = stats.linregress(sstabalt[age_sindngs][~np.isnan(sstabalt[age_sindngs])],reqalt_rates[age_sindngs][~np.isnan(sstabalt[age_sindngs])])\n",
    "aslope1 = res.slope; aint1 = res.intercept; ar1 = res.rvalue ; ap1 = res.pvalue\n",
    "\n",
    "res = stats.linregress(sstabalt[~np.isnan(sstabalt)],reqalt_rates[~np.isnan(sstabalt)])\n",
    "allslope1 = res.slope; allint1 = res.intercept; allr1 = res.rvalue; allp1 = res.pvalue\n",
    "\n",
    "print('Association btwn Young, MA, Aged, & All Performance & Variable of Interest:')\n",
    "print('R [Young, MA, Aged, All]: ')\n",
    "print(yr1, mar1, ar1, allr1)\n",
    "print('P [Young, MA, Aged, All]: ')\n",
    "print(yp1, map1, ap1, allp1)\n",
    "    \n",
    "#plot top half    \n",
    "fig, ax = plt.subplots(2,1, figsize = (2.5,2.7))\n",
    "ax[0].set_title('All Sessions', fontsize = 10)\n",
    "ax[0].scatter(sstabalt[y_sindngs],reqalt_rates[y_sindngs], color = 'C0', s = 10)\n",
    "ax[0].scatter(sstabalt[ma_sindngs],reqalt_rates[ma_sindngs], color = 'C2', s = 10)\n",
    "ax[0].scatter(sstabalt[age_sindngs][~np.isnan(sstabalt[age_sindngs])],reqalt_rates[age_sindngs][~np.isnan(sstabalt[age_sindngs])], color = 'C1', s = 10)\n",
    "\n",
    "ax[0].set_ylim([-0.1,1.1])\n",
    "ax[0].set_yticks([0,0.5,1.0])\n",
    "ax[0].set_xlim([0,0.4])\n",
    "ax[0].tick_params(labelsize = 8)\n",
    "X_plot = np.linspace(ax[0].get_xlim()[0],ax[0].get_xlim()[1],100)\n",
    "#ax[0].plot(X_plot, aslope1*X_plot + aint1, '--', linewidth = 1, color = 'C1', label = 'Aged')\n",
    "ax[0].plot(X_plot, allslope1*X_plot + allint1, '-', linewidth = 1, color = 'k', label = 'All Ages')\n",
    "\n",
    "#Gather 6th session data\n",
    "slocstab5alt = np.nanmean(np.vstack((sstabAA_diag,sstabBB_diag)), axis = 0)\n",
    "\n",
    "#Linear regression\n",
    "res = stats.linregress(slocstab5alt[y_sind6th],reqalt_rates[y_sind6th])\n",
    "yslope1 = res.slope; yint1 = res.intercept; yr1 = res.rvalue; yp1 = res.pvalue\n",
    "\n",
    "res = stats.linregress(slocstab5alt[ma_sind6th],reqalt_rates[ma_sind6th])\n",
    "maslope1 = res.slope; maint1 = res.intercept; mar1 = res.rvalue ; map1 = res.pvalue\n",
    "\n",
    "res = stats.linregress(slocstab5alt[age_sind6th][~np.isnan(slocstab5alt[age_sind6th])],reqalt_rates[age_sind6th][~np.isnan(slocstab5alt[age_sind6th])])\n",
    "aslope1 = res.slope; aint1 = res.intercept; ar1 = res.rvalue ; ap1 = res.pvalue\n",
    "\n",
    "res = stats.linregress(slocstab5alt[allidx],reqalt_rates[allidx])\n",
    "allslope1 = res.slope; allint1 = res.intercept; allr1 = res.rvalue; allp1 = res.pvalue\n",
    "\n",
    "print('\\nAssociation btwn Young, MA, Aged, & All Performance & Variable of Interest:')\n",
    "print('R [Young, MA, Aged, All]: ')\n",
    "print(yr1, mar1, ar1, allr1)\n",
    "print('P [Young, MA, Aged, All]: ')\n",
    "print(yp1, map1, ap1, allp1)\n",
    "\n",
    "ax[1].set_title('Day 6 Sessions', fontsize = 10)\n",
    "ax[1].scatter(slocstab5alt[y_sind6th],reqalt_rates[y_sind6th], color = 'C0', s = 10)\n",
    "ax[1].scatter(slocstab5alt[ma_sind6th],reqalt_rates[ma_sind6th], color = 'C2', s = 10)\n",
    "ax[1].scatter(slocstab5alt[age_sind6th][~np.isnan(slocstab5alt[age_sind6th])],reqalt_rates[age_sind6th][~np.isnan(slocstab5alt[age_sind6th])], color = 'C1', s = 10)\n",
    "ax[1].set_ylim([-0.1,1.1])\n",
    "ax[1].set_xlim([0,0.4])\n",
    "ax[1].set_yticks([0,0.5,1.0])\n",
    "ax[1].tick_params(labelsize = 8)\n",
    "X_plot = np.linspace(ax[1].get_xlim()[0],ax[1].get_xlim()[1],100)\n",
    "ax[1].plot(X_plot, allslope1*X_plot + allint1, '-', linewidth = 1, color = 'k', label = 'All Ages')\n",
    "ax[1].set_xlabel('Mean Context-Matched Similarity', fontsize = 9)\n",
    "plt.tight_layout()\n",
    "fig.supylabel('Alt. Frac. Rewards Requested', fontsize = 9)\n",
    "plt.savefig(save_folder + 'S3L.png', dpi = 400, bbox_inches = 'tight')\n",
    "plt.savefig(save_folder + 'S3L.svg', dpi = 400, bbox_inches = 'tight')\n",
    "plt.show()"
   ]
  },
  {
   "cell_type": "code",
   "execution_count": null,
   "id": "8368ccea",
   "metadata": {
    "scrolled": true
   },
   "outputs": [],
   "source": [
    "''' Find Context Match / Mismatch Similarity Ratio '''\n",
    "\n",
    "sABratio = []\n",
    "sA_B_ratio = []\n",
    "sAB_ratio = []\n",
    "\n",
    "yABratio = []\n",
    "yA_B_ratio = []\n",
    "yAB_ratio = []\n",
    "maABratio = []\n",
    "maA_B_ratio = []\n",
    "maAB_ratio = []\n",
    "aABratio = []\n",
    "aA_B_ratio = []\n",
    "aAB_ratio = []\n",
    "\n",
    "for m, session in zip(mice, sessions):\n",
    "\n",
    "    for s in tdqm(session):\n",
    "        d = data[m][s]\n",
    "        \n",
    "        #get some data & cell IDs\n",
    "        rawdata_file = 'RAW_' + m + '_' + s + '.npy'\n",
    "        behavior_file = 'BEHAVIOR_' + m + '_' + s + '.npy'\n",
    "        raw = np.load(load_folder + rawdata_file, allow_pickle=True)\n",
    "        behaviorfil = np.load(load_folder + behavior_file, allow_pickle=False)\n",
    "        cell_IDs = raw.item().get('cellsfil')\n",
    "        ngscell = d['ngscell'].astype(bool)\n",
    "        ngscells = cell_IDs[ngscell]     \n",
    "        trial = behaviorfil[:,2]\n",
    "        \n",
    "        #save the context lengths\n",
    "        Aidx = d['Aidx']\n",
    "        lengthA = len(np.unique(trial[Aidx]))\n",
    "        Bidx = d['Bidx'] \n",
    "        lengthB = len(np.unique(trial[Bidx]))\n",
    "        a_idx = d['A_idx'] \n",
    "        lengtha_= len(np.unique(trial[a_idx]))\n",
    "        A_idx = d['A_ngidx'] \n",
    "        lengthA_= len(np.unique(trial[A_idx]))\n",
    "        B_idx = d['B_ngidx']\n",
    "        lengthB_= len(np.unique(trial[B_idx]))\n",
    "        \n",
    "        nB = lengthA + lengthB\n",
    "        nA_ = lengthA + lengthB + lengthA_\n",
    "        na_ = lengthA + lengthB + lengtha_\n",
    "        nB_ = lengthA + lengthB + lengtha_ + lengthB_\n",
    "        \n",
    "        allngssim = d['allngssim']\n",
    "        ABratio = []\n",
    "        A_B_ratio = []\n",
    "        AB_ratio = []\n",
    "        for i, c in enumerate(ngscells):\n",
    "            sim = allngssim[:,:,i]\n",
    "            sim = (sim - np.min(sim)) / (np.max(sim) - np.min(sim))\n",
    "            \n",
    "            #average block context-matched (A x A + B x A), average block context-mismatched (B x A)\n",
    "            sumcm = (np.sum(sim[:lengthA, :lengthA]) - lengthA)/2 + (np.sum(sim[lengthA:nB, lengthA:nB]) - lengthB)/2\n",
    "            meancm = sumcm  / ((lengthA**2 - lengthA)/2 + (lengthB**2 - lengthB)/2)\n",
    "            meancmm = np.average(sim[lengthA:nB,:lengthA])\n",
    "            if (meancmm != 0): \n",
    "                ABratio = np.append(ABratio, meancm / meancmm)\n",
    "            else: \n",
    "                ABratio = np.append(ABratio, np.nan)\n",
    "            \n",
    "            #alt context-matched (A' x A' + B' x B'), alt context-mismatched (B' x A')\n",
    "            sumcm = (np.sum(sim[nB:nA_, nB:nA_]) - lengthA_)/2 + (np.sum(sim[na_:nB_, na_:nB_]) - lengthB_)/2\n",
    "            meancm = sumcm  / ((lengthA_**2 - lengthA_)/2 + (lengthB_**2 - lengthB_)/2)\n",
    "            meancmm = np.average(sim[na_:nB_,nB:nA_])\n",
    "            if (meancmm != 0):\n",
    "                A_B_ratio = np.append(A_B_ratio, meancm / meancmm)\n",
    "            else:\n",
    "                A_B_ratio = np.append(A_B_ratio, np.nan)\n",
    "            \n",
    "            #alt context-matched (A' x A + B' x B) & alt context-mismatched (B' x A + A' x B)\n",
    "            meancm = np.mean(np.concatenate((sim[nB:nA_,:lengthA].flatten(), sim[na_:nB_,lengthA:nB].flatten())))\n",
    "            meancmm = np.mean(np.concatenate((sim[na_:nB_,:lengthA].flatten(), sim[nB:nA_,lengthA:nB].flatten())))\n",
    "            if (meancmm != 0):\n",
    "                AB_ratio = np.append(AB_ratio, meancm / meancmm)\n",
    "            else:\n",
    "                AB_ratio = np.append(AB_ratio, np.nan)\n",
    "        \n",
    "        sABratio= np.append(sABratio, np.nanmean(ABratio))\n",
    "        sA_B_ratio = np.append(sA_B_ratio, np.nanmean(A_B_ratio))\n",
    "        sAB_ratio = np.append(sAB_ratio, np.nanmean(AB_ratio))\n",
    "\n",
    "        if m in SM_aged_mice:\n",
    "            aABratio = np.append(aABratio, ABratio)\n",
    "            aA_B_ratio = np.append(aA_B_ratio, A_B_ratio)\n",
    "            aAB_ratio = np.append(aAB_ratio, AB_ratio)\n",
    "        elif m in SM_MA_mice:\n",
    "            maABratio = np.append(maABratio, ABratio)\n",
    "            maA_B_ratio = np.append(maA_B_ratio, A_B_ratio)\n",
    "            maAB_ratio = np.append(maAB_ratio, AB_ratio)\n",
    "        else:\n",
    "            yABratio = np.append(yABratio, ABratio)\n",
    "            yA_B_ratio = np.append(yA_B_ratio, A_B_ratio)\n",
    "            yAB_ratio = np.append(yAB_ratio, AB_ratio)"
   ]
  },
  {
   "cell_type": "code",
   "execution_count": null,
   "id": "3795f9c7",
   "metadata": {},
   "outputs": [],
   "source": [
    "''' LMMs for Similarity Ratios '''        \n",
    "#gather dependent variables into lists\n",
    "ABratio = list(np.concatenate((aABratio, maABratio, yABratio)))\n",
    "A_B_ratio = list(np.concatenate((aA_B_ratio, maA_B_ratio, yA_B_ratio)))\n",
    "AB_ratio = list(np.concatenate((aAB_ratio, maAB_ratio, yAB_ratio)))\n",
    "\n",
    "tuples = list(zip(Animal_ID, Session, Cell_ID, Sex, Age_Group, Cohort, EngageA, EngageB, EngageA_, EngageB_, ABratio, A_B_ratio, AB_ratio))\n",
    "tuples\n",
    "df = pd.DataFrame(tuples, columns = ['AnimalID', 'Session','Cell_ID','Sex', 'AgeGroup', 'Cohort','EngageA', 'EngageB', 'EngageA_', 'EngageB_','ABratio','A_B_ratio','AB_ratio'])\n",
    "\n",
    "#handle NaNs\n",
    "df = df.dropna(axis = 0)\n",
    "\n",
    "# ABratio Dependent\n",
    "vc = {'cells':'0 + C(Cell_ID)'}\n",
    "mAB = smf.mixedlm('ABratio ~ 1 + C(AgeGroup) + C(Sex) + C(Cohort) + Session:C(AgeGroup)', groups = 'AnimalID', re_formula = '1', vc_formula = vc,\n",
    "                     data=df).fit(reml= True)\n",
    "print(mAB.summary())\n",
    "print(mAB.wald_test_terms(scalar = False))\n",
    "\n",
    "#plot residuals\n",
    "df['resid'] = mAB.resid\n",
    "fig, ax = plt.subplots(figsize = (12,3))\n",
    "sns.violinplot(data = df, x = 'AnimalID', y = 'resid', inner = 'quartile', ax = ax)\n",
    "plt.title('AB Ratio Similarity Residuals')\n",
    "plt.show()\n",
    "\n",
    "# A_B_ratio Dependent\n",
    "vc = {'cells':'0 + C(Cell_ID)'}\n",
    "mA_B_ = smf.mixedlm('A_B_ratio ~ 1 + C(AgeGroup) + C(Sex) + C(Cohort) + Session:C(AgeGroup)', groups = 'AnimalID', re_formula = '1', vc_formula = vc,\n",
    "                     data=df).fit(reml= True)\n",
    "print(mA_B_.summary())\n",
    "print(mA_B_.wald_test_terms(scalar = False))\n",
    "\n",
    "df['resid'] = mA_B_.resid\n",
    "fig, ax = plt.subplots(figsize = (12,3))\n",
    "sns.violinplot(data = df, x = 'AnimalID', y = 'resid', inner = 'quartile', ax = ax)\n",
    "plt.title('A_B_ Ratio Similarity Residuals')\n",
    "plt.show()\n",
    "\n",
    "# AB_ratio Dependent\n",
    "vc = {'cells':'0 + C(Cell_ID)'}\n",
    "mAB_ = smf.mixedlm('AB_ratio ~ 1 + C(AgeGroup) + C(Sex) + C(Cohort) + Session:C(AgeGroup)', groups = 'AnimalID', re_formula = '1', vc_formula = vc,\n",
    "                     data=df).fit(reml= True)\n",
    "print(mAB_.summary())\n",
    "print(mAB_.wald_test_terms(scalar = False))\n",
    "\n",
    "df['resid'] = mAB_.resid\n",
    "fig, ax = plt.subplots(figsize = (12,3))\n",
    "sns.violinplot(data = df, x = 'AnimalID', y = 'resid', inner = 'quartile', ax = ax)\n",
    "plt.title('AB_ Ratio Similarity Residuals')\n",
    "plt.show()"
   ]
  },
  {
   "cell_type": "code",
   "execution_count": null,
   "id": "ce043918",
   "metadata": {},
   "outputs": [],
   "source": [
    "''' Get fitted session averages '''\n",
    "\n",
    "df['mAB_fitted'] = mAB_.fittedvalues\n",
    "resultA_ = df.groupby(by = ['AnimalID','Session'], as_index = False)['mAB_fitted'].aggregate('mean')\n",
    "#print(resultA_)\n",
    "seshAanimal = np.asarray(resultA_['AnimalID'])\n",
    "seshAcount = np.asarray(resultA_['Session'])\n",
    "seshA_mean = np.asarray(resultA_['mAB_fitted'])\n",
    "\n",
    "slocstab5A_fitted_seg_aged = [[] * r for i in range(r)]\n",
    "slocstab5A_fitted_seg_MA = [[] * r for i in range(r)]\n",
    "slocstab5A_fitted_seg_young = [[] * r for i in range(r)]\n",
    "\n",
    "sessionAcount_fitted_aged = [[] * r for i in range(r)]\n",
    "sessionAcount_fitted_MA = [[] * r for i in range(r)]\n",
    "sessionAcount_fitted_young = [[] * r for i in range(r)]\n",
    "\n",
    "for m, session in zip(mice, sessions): \n",
    "    \n",
    "    animalidx = np.where(seshAanimal == m)[0][0]\n",
    "    sessiona_idx = np.where(seshAanimal == m)[0]\n",
    "    \n",
    "    if m in SM_aged_mice:\n",
    "        for i, c in enumerate(seshAcount[sessiona_idx]):\n",
    "            idx = c.astype(int) - 1\n",
    "            slocstab5A_fitted_seg_aged[idx] = np.append(slocstab5A_fitted_seg_aged[idx],seshA_mean[sessiona_idx][i])\n",
    "            sessionAcount_fitted_aged[idx] = np.append(sessionAcount_fitted_aged[idx], c - 1)\n",
    "   \n",
    "    elif m in SM_MA_mice:\n",
    "        for i, c in enumerate(seshAcount[sessiona_idx]):\n",
    "            idx = c.astype(int) - 1\n",
    "            slocstab5A_fitted_seg_MA[idx] = np.append(slocstab5A_fitted_seg_MA[idx],seshA_mean[sessiona_idx][i])\n",
    "            sessionAcount_fitted_MA[idx] = np.append(sessionAcount_fitted_MA[idx], c - 1)\n",
    "             \n",
    "    else:\n",
    "        for i, c in enumerate(seshAcount[sessiona_idx]):\n",
    "            idx = c.astype(int) - 1\n",
    "            slocstab5A_fitted_seg_young[idx] = np.append(slocstab5A_fitted_seg_young[idx],seshA_mean[sessiona_idx][i])\n",
    "            sessionAcount_fitted_young[idx] = np.append(sessionAcount_fitted_young[idx], c - 1)\n",
    "            "
   ]
  },
  {
   "cell_type": "code",
   "execution_count": null,
   "id": "4b240982",
   "metadata": {},
   "outputs": [],
   "source": [
    "''' Plot Figure S3m '''\n",
    "f, ax = plt.subplots(1, 1, figsize=(1.625, 1.5), sharey = True)\n",
    "\n",
    "g = sns.pointplot(x = df['Session'], y = mAB_.fittedvalues, hue = df['AgeGroup'], hue_order = hue_order, ax = ax, scale = 0.5)\n",
    "ax.set_xticks([0,1,2,3,4,5])\n",
    "ax.set_xticklabels([1,2,3,4,5,6])\n",
    "ax.set_xlim([-0.5,5.5])\n",
    "ax.set_ylim([0.975,1.325])\n",
    "ax.tick_params(labelsize = 8)\n",
    "ax.set_ylabel('Mean Similarity Ratio', fontsize=9, labelpad=1)\n",
    "ax.set_xlabel('Session', fontsize=9, labelpad=1)\n",
    "g.legend_.remove()\n",
    "\n",
    "#scatter plot actual raw data:\n",
    "for i in range(0,len(slocstab5A_fitted_seg_aged)):\n",
    "    \n",
    "    print('\\naged, MA, young mice on day ' + str(i + 1))\n",
    "    print(len(sessionAcount_fitted_aged[i]),len(sessionAcount_fitted_MA[i]), len(sessionAcount_fitted_young[i]))\n",
    "    \n",
    "    ax.scatter(sessionAcount_fitted_aged[i] + 0.1, slocstab5A_fitted_seg_aged[i], s = 5, alpha = 0.4, c = 'C1', edgecolor = 'none')\n",
    "    ax.scatter(sessionAcount_fitted_MA[i], slocstab5A_fitted_seg_MA[i], s = 5, alpha = 0.4, c = 'C2', edgecolor = 'none')\n",
    "    ax.scatter(sessionAcount_fitted_young[i] - 0.1, slocstab5A_fitted_seg_young[i], s = 5, alpha = 0.4, c = 'C0', edgecolor = 'none')\n",
    "\n",
    "for l in g.lines:\n",
    "    plt.setp(l,linewidth = 0.75)\n",
    "\n",
    "#ax.legend(loc = 4, fontsize = 9)\n",
    "plt.savefig(save_folder + 'S3M.png', dpi=400, bbox_inches='tight')\n",
    "plt.savefig(save_folder + 'S3M.svg', dpi=400, bbox_inches='tight')\n",
    "plt.show()"
   ]
  },
  {
   "cell_type": "code",
   "execution_count": null,
   "id": "0cb304e9",
   "metadata": {},
   "outputs": [],
   "source": [
    "''' Plot Figure S3n'''\n",
    "### A_ vs. REQ ALT RATES\n",
    "#Linear regression\n",
    "res = stats.linregress(sAB_ratio[y_sindngs],reqalt_rates[y_sindngs])\n",
    "yslope1 = res.slope; yint1 = res.intercept; yr1 = res.rvalue; yp1 = res.pvalue\n",
    "\n",
    "res = stats.linregress(sAB_ratio[ma_sindngs],reqalt_rates[ma_sindngs])\n",
    "maslope1 = res.slope; maint1 = res.intercept; mar1 = res.rvalue ; map1 = res.pvalue\n",
    "\n",
    "res = stats.linregress(sAB_ratio[age_sindngs][~np.isnan(sAB_ratio[age_sindngs])],reqalt_rates[age_sindngs][~np.isnan(sAB_ratio[age_sindngs])])\n",
    "aslope1 = res.slope; aint1 = res.intercept; ar1 = res.rvalue ; ap1 = res.pvalue\n",
    "\n",
    "res = stats.linregress(sAB_ratio[~np.isnan(sAB_ratio)],reqalt_rates[~np.isnan(sAB_ratio)])\n",
    "allslope1 = res.slope; allint1 = res.intercept; allr1 = res.rvalue; allp1 = res.pvalue\n",
    "\n",
    "print('Association btwn Young, MA, Aged, & All Performance & Variable of Interest:')\n",
    "print('R [Young, MA, Aged, All]: ')\n",
    "print(yr1, mar1, ar1, allr1)\n",
    "print('P [Young, MA, Aged, All]: ')\n",
    "print(yp1, map1, ap1, allp1)\n",
    " \n",
    "#plot all session correlations\n",
    "fig, ax = plt.subplots(2,1, figsize = (2.5,2.7))\n",
    "ax[0].set_title('All Sessions', fontsize = 10)\n",
    "\n",
    "ax[0].scatter(sAB_ratio[y_sindngs],reqalt_rates[y_sindngs], color = 'C0', label = 'Young', s = 10)\n",
    "ax[0].scatter(sAB_ratio[ma_sindngs],reqalt_rates[ma_sindngs], color = 'C2', label = 'MA', s = 10)\n",
    "ax[0].scatter(sAB_ratio[age_sindngs][~np.isnan(sAB_ratio[age_sindngs])],reqalt_rates[age_sindngs][~np.isnan(sAB_ratio[age_sindngs])], color = 'C1', s = 10)\n",
    "ax[0].set_ylim([-0.1,1.1])\n",
    "ax[0].set_xlim([0.95,1.2])\n",
    "ax[0].tick_params(labelsize = 8)\n",
    "ax[0].set_yticks([0,0.5,1.0])\n",
    "X_plot = np.linspace(ax[0].get_xlim()[0],ax[0].get_xlim()[1],100)\n",
    "ax[0].plot(X_plot, aslope1*X_plot + aint1, '--', linewidth = 0.75, color = 'C1', label = 'Aged')\n",
    "ax[0].plot(X_plot, allslope1*X_plot + allint1, '-', linewidth = 1, color = 'k', label = 'All Ages')\n",
    "\n",
    "#day 6 data\n",
    "### ALT Stability vs. REQ RATES\n",
    "#Linear regression\n",
    "res = stats.linregress(sAB_ratio[y_sind6th][~np.isnan(sAB_ratio[y_sind6th])],reqalt_rates[y_sind6th][~np.isnan(sAB_ratio[y_sind6th])])\n",
    "yslope1 = res.slope; yint1 = res.intercept; yr1 = res.rvalue; yp1 = res.pvalue\n",
    "\n",
    "res = stats.linregress(sAB_ratio[ma_sind6th][~np.isnan(sAB_ratio[ma_sind6th])],reqalt_rates[ma_sind6th][~np.isnan(sAB_ratio[ma_sind6th])])\n",
    "maslope1 = res.slope; maint1 = res.intercept; mar1 = res.rvalue ; map1 = res.pvalue\n",
    "\n",
    "res = stats.linregress(sAB_ratio[age_sind6th][~np.isnan(sAB_ratio[age_sind6th])],reqalt_rates[age_sind6th][~np.isnan(sAB_ratio[age_sind6th])])\n",
    "aslope1 = res.slope; aint1 = res.intercept; ar1 = res.rvalue ; ap1 = res.pvalue\n",
    "\n",
    "allidx = np.concatenate((y_sind6th[~np.isnan(sAB_ratio[y_sind6th])],ma_sind6th[~np.isnan(sAB_ratio[ma_sind6th])],age_sind6th[~np.isnan(sAB_ratio[age_sind6th])]))\n",
    "res = stats.linregress(sAB_ratio[allidx],reqalt_rates[allidx])\n",
    "allslope1 = res.slope; allint1 = res.intercept; allr1 = res.rvalue; allp1 = res.pvalue\n",
    "\n",
    "print('\\nAssociation btwn Young, MA, Aged, & All Performance & Variable of Interest:')\n",
    "print('R [Young, MA, Aged, All]: ')\n",
    "print(yr1, mar1, ar1, allr1)\n",
    "print('P [Young, MA, Aged, All]: ')\n",
    "print(yp1, map1, ap1, allp1)\n",
    "\n",
    "ax[1].set_title('Day 6 Sessions', fontsize = 10)\n",
    "ax[1].scatter(sAB_ratio[y_sind6th][~np.isnan(sAB_ratio[y_sind6th])],reqalt_rates[y_sind6th][~np.isnan(sAB_ratio[y_sind6th])], color = 'C0', s = 10)\n",
    "ax[1].scatter(sAB_ratio[ma_sind6th][~np.isnan(sAB_ratio[ma_sind6th])],reqalt_rates[ma_sind6th][~np.isnan(sAB_ratio[ma_sind6th])], color = 'C2', s = 10)\n",
    "ax[1].scatter(sAB_ratio[age_sind6th][~np.isnan(sAB_ratio[age_sind6th])],reqalt_rates[age_sind6th][~np.isnan(sAB_ratio[age_sind6th])], color = 'C1', s = 10)\n",
    "ax[1].set_ylim([-0.1,1.1])\n",
    "ax[1].set_xlim([0.95,1.15])\n",
    "ax[1].set_yticks([0,0.5,1.0])\n",
    "ax[1].tick_params(labelsize = 8)\n",
    "X_plot = np.linspace(ax[1].get_xlim()[0],ax[1].get_xlim()[1],100)\n",
    "ax[1].set_xlabel('Mean Similarity Ratio', fontsize = 9)\n",
    "ax[1].plot(X_plot, aslope1*X_plot + aint1, '--', linewidth = 0.75, color = 'C1', label = 'Aged')\n",
    "ax[1].plot(X_plot, allslope1*X_plot + allint1, '-', linewidth = 1, color = 'k', label = 'All Ages')\n",
    "\n",
    "plt.tight_layout()\n",
    "fig.supylabel('Alt. Frac. Rewards Requested', fontsize = 9)\n",
    "plt.savefig(save_folder + 'S3N.png', dpi = 400, bbox_inches = 'tight')\n",
    "plt.savefig(save_folder + 'S3N.svg', dpi = 400, bbox_inches = 'tight')\n",
    "plt.show()"
   ]
  },
  {
   "cell_type": "code",
   "execution_count": null,
   "id": "a1ce04b0",
   "metadata": {},
   "outputs": [],
   "source": []
  }
 ],
 "metadata": {
  "kernelspec": {
   "display_name": "Python 3 (ipykernel)",
   "language": "python",
   "name": "python3"
  },
  "language_info": {
   "codemirror_mode": {
    "name": "ipython",
    "version": 3
   },
   "file_extension": ".py",
   "mimetype": "text/x-python",
   "name": "python",
   "nbconvert_exporter": "python",
   "pygments_lexer": "ipython3",
   "version": "3.8.16"
  }
 },
 "nbformat": 4,
 "nbformat_minor": 5
}
