{
 "cells": [
  {
   "cell_type": "markdown",
   "id": "e29dd4a2",
   "metadata": {},
   "source": [
    "# Important Note:\n",
    "\n",
    "This code produces all original visualizations in Figures 7, 8, and Extended Data Fig. 8, which make up a subset of the panels in those figures. All other panels in those figures and Extended Data Fig. 7 were created using publicly available R packages commonly used for interpreting and visualizing transcriptomic data, as described in the manuscript methods. As such, that code is not included in this repository. \n",
    "\n",
    "Raw transcriptomic data will be made publicly available upon manuscript publication via NCBI GEO. Processed transcriptomic data found in Supplemental Information Table S1 and S2 (both mentioned below) will also be made publicaly available in association with the manuscript. For convenience, the subset of processed transcriptomic data needed to reproduce Figs. 7F-G and 8B-D and Extended Data Fig. 8B-C and Q are included in the Dryad repository or as hard-coded arrays here. "
   ]
  },
  {
   "cell_type": "markdown",
   "id": "e5161b7b",
   "metadata": {},
   "source": [
    "# Setup"
   ]
  },
  {
   "cell_type": "code",
   "execution_count": 1,
   "id": "a0311084",
   "metadata": {},
   "outputs": [],
   "source": [
    "''' magic 4u'''\n",
    "%load_ext autoreload\n",
    "%autoreload 2"
   ]
  },
  {
   "cell_type": "code",
   "execution_count": 2,
   "id": "33323b08",
   "metadata": {},
   "outputs": [],
   "source": [
    "'''Get Stuff You Need'''\n",
    "import numpy as np\n",
    "import math as math\n",
    "from tqdm import tnrange\n",
    "from tqdm.notebook import tqdm as tdqm\n",
    "import matplotlib.pyplot as plt\n",
    "import matplotlib as mpl\n",
    "mpl.rcParams.update(mpl.rcParamsDefault)\n",
    "from matplotlib import gridspec\n",
    "from scipy.interpolate import interp1d\n",
    "from scipy.ndimage import gaussian_filter1d\n",
    "from scipy import stats\n",
    "import scipy.io\n",
    "import scipy.ndimage.filters as filt\n",
    "import pandas as pd\n",
    "import seaborn as sns\n",
    "\n",
    "from pipeline import get_data as get\n",
    "from pipeline import process_spikes as ps\n",
    "\n",
    "from statsmodels.tsa.stattools import acf\n",
    "from scipy.signal import find_peaks\n",
    "from itertools import combinations"
   ]
  },
  {
   "cell_type": "code",
   "execution_count": 3,
   "id": "90db6cd2",
   "metadata": {},
   "outputs": [],
   "source": [
    "''' Define plotting defaults '''\n",
    "\n",
    "from matplotlib import rc \n",
    "mpl.rcParams['font.sans-serif'] = 'Arial'\n",
    "mpl.rcParams['font.family'] = 'sans-serif'\n",
    "mpl.rcParams['svg.fonttype'] = 'none'"
   ]
  },
  {
   "cell_type": "code",
   "execution_count": 4,
   "id": "dca1bfff",
   "metadata": {},
   "outputs": [
    {
     "data": {
      "text/html": [
       "<div>\n",
       "<style scoped>\n",
       "    .dataframe tbody tr th:only-of-type {\n",
       "        vertical-align: middle;\n",
       "    }\n",
       "\n",
       "    .dataframe tbody tr th {\n",
       "        vertical-align: top;\n",
       "    }\n",
       "\n",
       "    .dataframe thead th {\n",
       "        text-align: right;\n",
       "    }\n",
       "</style>\n",
       "<table border=\"1\" class=\"dataframe\">\n",
       "  <thead>\n",
       "    <tr style=\"text-align: right;\">\n",
       "      <th></th>\n",
       "      <th>Animal_ID</th>\n",
       "      <th>Task</th>\n",
       "      <th>Cohort</th>\n",
       "      <th>Probe_Control</th>\n",
       "      <th>Sex</th>\n",
       "      <th>Sac_Date</th>\n",
       "      <th>Frozen_Hemisphere</th>\n",
       "      <th>DOB</th>\n",
       "      <th>Age_WholeMonth</th>\n",
       "      <th>Age_ExtraDays</th>\n",
       "      <th>Age_Month</th>\n",
       "      <th>Aged_Days</th>\n",
       "      <th>Age_Group</th>\n",
       "      <th>Behavior_Sessions</th>\n",
       "      <th>Neural_Sessions</th>\n",
       "    </tr>\n",
       "  </thead>\n",
       "  <tbody>\n",
       "    <tr>\n",
       "      <th>0</th>\n",
       "      <td>A3</td>\n",
       "      <td>RF</td>\n",
       "      <td>A</td>\n",
       "      <td>0</td>\n",
       "      <td>F</td>\n",
       "      <td>1/27/2021</td>\n",
       "      <td>R</td>\n",
       "      <td>4/23/2019</td>\n",
       "      <td>21</td>\n",
       "      <td>4</td>\n",
       "      <td>21.217</td>\n",
       "      <td>645</td>\n",
       "      <td>3</td>\n",
       "      <td>6</td>\n",
       "      <td>6</td>\n",
       "    </tr>\n",
       "    <tr>\n",
       "      <th>1</th>\n",
       "      <td>A4</td>\n",
       "      <td>RF</td>\n",
       "      <td>A</td>\n",
       "      <td>0</td>\n",
       "      <td>F</td>\n",
       "      <td>1/27/2021</td>\n",
       "      <td>R</td>\n",
       "      <td>4/23/2019</td>\n",
       "      <td>21</td>\n",
       "      <td>4</td>\n",
       "      <td>21.217</td>\n",
       "      <td>645</td>\n",
       "      <td>3</td>\n",
       "      <td>6</td>\n",
       "      <td>6</td>\n",
       "    </tr>\n",
       "    <tr>\n",
       "      <th>2</th>\n",
       "      <td>A5</td>\n",
       "      <td>RF</td>\n",
       "      <td>A</td>\n",
       "      <td>0</td>\n",
       "      <td>F</td>\n",
       "      <td>4/6/2021</td>\n",
       "      <td>L</td>\n",
       "      <td>4/23/2019</td>\n",
       "      <td>23</td>\n",
       "      <td>14</td>\n",
       "      <td>23.487</td>\n",
       "      <td>714</td>\n",
       "      <td>3</td>\n",
       "      <td>6</td>\n",
       "      <td>6</td>\n",
       "    </tr>\n",
       "    <tr>\n",
       "      <th>3</th>\n",
       "      <td>A6</td>\n",
       "      <td>RF</td>\n",
       "      <td>A</td>\n",
       "      <td>0</td>\n",
       "      <td>F</td>\n",
       "      <td>4/6/2021</td>\n",
       "      <td>R</td>\n",
       "      <td>4/23/2019</td>\n",
       "      <td>23</td>\n",
       "      <td>14</td>\n",
       "      <td>23.487</td>\n",
       "      <td>714</td>\n",
       "      <td>3</td>\n",
       "      <td>6</td>\n",
       "      <td>6</td>\n",
       "    </tr>\n",
       "    <tr>\n",
       "      <th>4</th>\n",
       "      <td>A7</td>\n",
       "      <td>RF</td>\n",
       "      <td>A</td>\n",
       "      <td>0</td>\n",
       "      <td>F</td>\n",
       "      <td>4/19/2021</td>\n",
       "      <td>L</td>\n",
       "      <td>5/29/2019</td>\n",
       "      <td>22</td>\n",
       "      <td>21</td>\n",
       "      <td>22.730</td>\n",
       "      <td>691</td>\n",
       "      <td>3</td>\n",
       "      <td>6</td>\n",
       "      <td>6</td>\n",
       "    </tr>\n",
       "  </tbody>\n",
       "</table>\n",
       "</div>"
      ],
      "text/plain": [
       "  Animal_ID Task Cohort  Probe_Control Sex   Sac_Date Frozen_Hemisphere  \\\n",
       "0        A3   RF      A              0   F  1/27/2021                 R   \n",
       "1        A4   RF      A              0   F  1/27/2021                 R   \n",
       "2        A5   RF      A              0   F   4/6/2021                 L   \n",
       "3        A6   RF      A              0   F   4/6/2021                 R   \n",
       "4        A7   RF      A              0   F  4/19/2021                 L   \n",
       "\n",
       "         DOB  Age_WholeMonth  Age_ExtraDays  Age_Month  Aged_Days  Age_Group  \\\n",
       "0  4/23/2019              21              4     21.217        645          3   \n",
       "1  4/23/2019              21              4     21.217        645          3   \n",
       "2  4/23/2019              23             14     23.487        714          3   \n",
       "3  4/23/2019              23             14     23.487        714          3   \n",
       "4  5/29/2019              22             21     22.730        691          3   \n",
       "\n",
       "   Behavior_Sessions  Neural_Sessions  \n",
       "0                  6                6  \n",
       "1                  6                6  \n",
       "2                  6                6  \n",
       "3                  6                6  \n",
       "4                  6                6  "
      ]
     },
     "execution_count": 4,
     "metadata": {},
     "output_type": "execute_result"
    }
   ],
   "source": [
    "''' Load in Animal Metadata '''\n",
    "\n",
    "animalmeta = pd.read_csv('C:/Users/Python/Desktop/Dryad/MouseMetadata.csv') # adjust path name\n",
    "\n",
    "# define some useful lists of animals based on metadata\n",
    "all_aged_mice = np.array(animalmeta.loc[(animalmeta.Age_Group == 3),'Animal_ID'])\n",
    "all_MA_mice = np.array(animalmeta.loc[(animalmeta.Age_Group == 2),'Animal_ID'])\n",
    "all_young_mice = np.array(animalmeta.loc[(animalmeta.Age_Group == 1),'Animal_ID'])\n",
    "\n",
    "cohorta_mice = np.array(animalmeta.loc[(animalmeta.Cohort == 'A'),'Animal_ID'])\n",
    "cohortb_mice = np.array(animalmeta.loc[(animalmeta.Cohort == 'B'),'Animal_ID'])\n",
    "cohortc_mice = np.array(animalmeta.loc[(animalmeta.Cohort == 'C'),'Animal_ID'])\n",
    "cohortd_mice = np.array(animalmeta.loc[(animalmeta.Cohort == 'D'),'Animal_ID'])\n",
    "\n",
    "RF_aged_mice = np.array(animalmeta.loc[(animalmeta.Age_Group == 3) & (animalmeta.Task == 'RF'),'Animal_ID'])\n",
    "RF_young_mice = np.array(animalmeta.loc[(animalmeta.Age_Group == 1) & (animalmeta.Task == 'RF'),'Animal_ID'])\n",
    "SM_aged_mice = np.array(animalmeta.loc[(animalmeta.Age_Group == 3) & (animalmeta.Task == 'SM'),'Animal_ID'])\n",
    "SM_MA_mice = np.array(animalmeta.loc[(animalmeta.Age_Group == 2) & (animalmeta.Task == 'SM'),'Animal_ID'])\n",
    "SM_young_mice = np.array(animalmeta.loc[(animalmeta.Age_Group == 1) & (animalmeta.Task == 'SM'),'Animal_ID'])\n",
    "\n",
    "all_female_mice = np.array(animalmeta.loc[(animalmeta.Sex == 'F'),'Animal_ID'])\n",
    "all_male_mice = np.array(animalmeta.loc[(animalmeta.Sex == 'M'), 'Animal_ID'])\n",
    "RF_female_mice = np.array(animalmeta.loc[(animalmeta.Sex == 'F') & (animalmeta.Task == 'RF'),'Animal_ID'])\n",
    "RF_male_mice = np.array(animalmeta.loc[(animalmeta.Sex == 'M') & (animalmeta.Task == 'RF'),'Animal_ID'])\n",
    "SM_female_mice = np.array(animalmeta.loc[(animalmeta.Sex == 'F') & (animalmeta.Task == 'SM'),'Animal_ID'])\n",
    "SM_male_mice = np.array(animalmeta.loc[(animalmeta.Sex == 'M') & (animalmeta.Task == 'SM'),'Animal_ID'])\n",
    "\n",
    "animalmeta.head()"
   ]
  },
  {
   "cell_type": "code",
   "execution_count": 5,
   "id": "f57f3d34",
   "metadata": {},
   "outputs": [],
   "source": [
    "''' Complete List of Mice & Neural Sessions '''\n",
    "all_mice = np.array(animalmeta.Animal_ID)\n",
    "\n",
    "all_sessions = ([['0122_record1','0123_record2','0124_record3','0125_record4','0126_record5','0127_record6'], \n",
    "             ['0122_record1','0123_record2','0124_record3','0125_record4','0126_record5','0127_record6'],\n",
    "             ['0401_record1','0401_record2b','0403_record3','0404_record4','0405_record5','0406_record6'],\n",
    "             ['0401_record1','0402_record2','0403_record3','0404_record4','0405_record5','0406_record6'],\n",
    "             ['0414_record1','0415_record2','0416_record3','0417_record4','0418_record5','0419_record6'],\n",
    "             ['1024_record1','1025_record2','1026_record3','1027_record4','1028_record5_2'], #Y2_6 excluded\n",
    "             ['1016_record1','1019_record3','1020_record4','1021_record5','1022_record6'], #Y3_2 not collected\n",
    "             ['1114_record1','1115_record2','1116_record3','1117_record4','1118_record5','1119_record6'], # end cohort A\n",
    "             ['051822_record1','051922_record2', '052022_record3','052122_record4','052222_record5','052322_record6'], \n",
    "             ['050522_record1','050622_record2','050722_record3','050822_record4','050922_record5','051022_record6'],\n",
    "             ['050522_record1','050622_record2','050722_record3','050822_record4','051022_record6'], #Y11_5 not collected\n",
    "             ['062222_record3','062322_record4','062522_record5'], #Y16_1 & 2 not collected, neural _6 excluded\n",
    "             ['062822_record1','062922_record2','063022_record3','070122_record4','070222_record5','070322_record6'],\n",
    "             ['062022_record1','062122_record2','062222_record3','062322_record4','062522_record5','062622_record6'],\n",
    "             ['062822_record1','062922_record2','063022_record3','070122_record4','070222_record5','070322_record6'], \n",
    "             ['051922_record2','052022_record3'], # Y9 051822_1 excluded, end cohort B\n",
    "             ['083022_record1','083122_record2','090122_record3'], \n",
    "             ['083022_record1','083122_record2','090122_record3','090222_record4','090322_record5','090422_record6'],\n",
    "             ['083022_record1','083122_record2','090122_record3','090222_record4'], #behavior of A16_4, both of 5 excluded, 6 not collected \n",
    "             ['082322_record1','082422_record2','082522_record3','082622_record4','082722_record5','082822_record6'],\n",
    "             ['082322_record1real','082422_record2','082522_record3','082622_record4','082722_record5','082822_record6'],\n",
    "             ['102322_record1','102422_record2','102522_record3','102622_record4','102722_record5','102822_record6'],\n",
    "             ['102322_record1','102422_record2','102522_record3','102622_record4','102722_record5','102822_record6'],\n",
    "             ['102322_record1','102422_record2','102522_record3','102622_record4','102722_record5','102822_record6'],\n",
    "             ['103122_record2','110122_record3','110222_record4','110322_record5rep','110422_record6','110522_record7'], #behavior of MA4M6, 7 excluded\n",
    "             ['110622_record1','110722_record2','110822_record3','110922_record4','111022_record5','111122_record6'],\n",
    "             ['103022_record1','103122_record2','110122_record3','110222_record4','110322_record5','110422_record6'],\n",
    "             ['103022_record1','103122_record2','110122_record3','110222_record4'], #behavior of MA7_4, both 5 excluded, 6 not collected\n",
    "             ['111322_record1','111422_record2','111522_record3','111622_record4','111722_record5','111822_record6'],\n",
    "             ['111322_record1','111422_record2','111522_record3','111622_record4','111722_record5','111822_record6'],\n",
    "             ['111322_record1','111422_record2','111522_record3','111622_record4','111722_record5','111822_record6'], \n",
    "             ['092522_record1','092622_record2','092722_record3','092822_record4','092922_record5','093022_record6'],\n",
    "             ['091822_record1','091922_record2','092022_record3','092122_record4','092222_record5','092322_record6'],\n",
    "             ['092522_record1','092622_record2','092722_record3','092822_record4','092922_record5','093022_record6'],\n",
    "             ['092522_record1','092622_record2','092722_record3','092822_record4','092922_record5','093022_record6'],\n",
    "             ['091822_record1','091922_record2','092022_record3','092122_record4','092222_record5','092322_record6'], #end cohortc\n",
    "             ['012723_record2','012823_record3','012923_record4','013023_record5','013123_record6','020123_record7'],\n",
    "             ['012623_record1','012723_record2','012823_record3','012923_record4','013023_record5','013123_record6'],\n",
    "             ['012923_record2','013023_record3','013123_record4','020123_record5','020223_record6','020323_record7'],\n",
    "             ['020923_record1','021023_record2','021123_record3','021223_record4','021323_record5','021423_record6'],\n",
    "             ['022623_record1','022723_record2','022823_record3','030123_record4','030223_record5','030323_record6'],\n",
    "             ['021623_record1','021723_record2','021823_record3','021923_record4','022023_record5','022123_record6'],\n",
    "             ['021623_record1','021723_record2','021823_record3','021923_record4','022023_record5','022123_record6'],\n",
    "             ['021623_record1','021723_record2','021823_record3','021923_record4','022023_record5rep','022123_record6'],\n",
    "             ['022623_record1','022723_record2','022823_record3','030123_record4','030223_record5','030323_record6'] #end cohort d \n",
    "            ]) #list of sessions"
   ]
  },
  {
   "cell_type": "code",
   "execution_count": 6,
   "id": "99ad374e",
   "metadata": {},
   "outputs": [],
   "source": [
    "'''Create dict for data from RF mice that have IHC data'''\n",
    "# Define mice, sessions for particular cohorts\n",
    "mice , mice_ind, _  = np.intersect1d(all_mice,['Y2','Y3','Y16','Y17','Y18','Y19','A12','A13','A3','A4','A5','A6','A7'], return_indices = True)\n",
    "\n",
    "sessions = []\n",
    "for i in mice_ind:\n",
    "    sessions.append(all_sessions[i])\n",
    "\n",
    "# Make a dict to hold data\n",
    "data = {}\n",
    "\n",
    "for session, m in zip(sessions, mice):\n",
    "    data[m] = {}\n",
    "    \n",
    "    for s in session:\n",
    "        data[m][s] = {}"
   ]
  },
  {
   "cell_type": "code",
   "execution_count": 7,
   "id": "a8466a82",
   "metadata": {},
   "outputs": [
    {
     "name": "stdout",
     "output_type": "stream",
     "text": [
      "['Y16' 'Y17' 'Y18' 'Y19' 'Y2' 'Y3'] ['A12' 'A13' 'A3' 'A4' 'A5' 'A6' 'A7']\n",
      "6 7\n",
      "31 42\n"
     ]
    }
   ],
   "source": [
    "'''Get Indices of Stored Session, Animal Data Mice by Age Group'''\n",
    "age_ind = []\n",
    "y_ind = []\n",
    "age_sind = []\n",
    "y_sind = []\n",
    "\n",
    "s_count = 0\n",
    "for m, s in zip(mice, sessions):\n",
    "    start = s_count\n",
    "    end = len(s) + s_count\n",
    "\n",
    "    if m in all_aged_mice:\n",
    "        age_ind = np.append(age_ind, (np.where(mice == m)[0]))\n",
    "        age_sind = np.append(age_sind, np.arange(start, end, 1))\n",
    "    else:\n",
    "        y_ind = np.append(y_ind, (np.where(mice == m)[0]))\n",
    "        y_sind = np.append(y_sind, np.arange(start, end, 1))\n",
    "                            \n",
    "    s_count += len(s)\n",
    "    \n",
    "age_ind = age_ind.astype(int)\n",
    "y_ind = y_ind.astype(int)\n",
    "age_sind = age_sind.astype(int)\n",
    "y_sind = y_sind.astype(int)\n",
    "\n",
    "print(mice[y_ind], mice[age_ind])\n",
    "print(len(mice[y_ind]), len(mice[age_ind]))\n",
    "print(len(y_sind), len(age_sind))\n",
    "Nold = len(mice[age_ind])\n",
    "Nyoung = len(mice[y_ind])"
   ]
  },
  {
   "cell_type": "markdown",
   "id": "4a6be2ec",
   "metadata": {},
   "source": [
    "# Edit these paths & define boxplot colormaps"
   ]
  },
  {
   "cell_type": "code",
   "execution_count": 8,
   "id": "cd687764",
   "metadata": {},
   "outputs": [],
   "source": [
    "#Inputs\n",
    "load_folder = 'C:/Users/Python/Desktop/LocalData/filtered/' # adjust path to match output of Import & Filter\n",
    "fig5_folder = 'C:/Users/Python/Desktop/LocalData/Figure5/' \n",
    "\n",
    "#Output (create folder to hold the output of this notebook; then match the name of this repository below)\n",
    "save_folder = 'C:/Users/Python/Desktop/LocalData/Figure78S8/'"
   ]
  },
  {
   "cell_type": "code",
   "execution_count": 9,
   "id": "0778c37a",
   "metadata": {},
   "outputs": [
    {
     "data": {
      "application/vnd.jupyter.widget-view+json": {
       "model_id": "7b42d1f5b4ba419ba3e6b51d6bd3383a",
       "version_major": 2,
       "version_minor": 0
      },
      "text/plain": [
       "  0%|          | 0/6 [00:00<?, ?it/s]"
      ]
     },
     "metadata": {},
     "output_type": "display_data"
    },
    {
     "data": {
      "application/vnd.jupyter.widget-view+json": {
       "model_id": "f59356452d2d4adcaf73a4cdaf727b9e",
       "version_major": 2,
       "version_minor": 0
      },
      "text/plain": [
       "  0%|          | 0/6 [00:00<?, ?it/s]"
      ]
     },
     "metadata": {},
     "output_type": "display_data"
    },
    {
     "data": {
      "application/vnd.jupyter.widget-view+json": {
       "model_id": "33195875f88b4ce6840aaca378ccfc9e",
       "version_major": 2,
       "version_minor": 0
      },
      "text/plain": [
       "  0%|          | 0/6 [00:00<?, ?it/s]"
      ]
     },
     "metadata": {},
     "output_type": "display_data"
    },
    {
     "data": {
      "application/vnd.jupyter.widget-view+json": {
       "model_id": "1ea61f922c464062a13571cffb87d5df",
       "version_major": 2,
       "version_minor": 0
      },
      "text/plain": [
       "  0%|          | 0/6 [00:00<?, ?it/s]"
      ]
     },
     "metadata": {},
     "output_type": "display_data"
    },
    {
     "data": {
      "application/vnd.jupyter.widget-view+json": {
       "model_id": "ee6c4dfdf00b4bf79dca90f38ac1582b",
       "version_major": 2,
       "version_minor": 0
      },
      "text/plain": [
       "  0%|          | 0/6 [00:00<?, ?it/s]"
      ]
     },
     "metadata": {},
     "output_type": "display_data"
    },
    {
     "data": {
      "application/vnd.jupyter.widget-view+json": {
       "model_id": "c3cecb409047474fba90a04c761a709f",
       "version_major": 2,
       "version_minor": 0
      },
      "text/plain": [
       "  0%|          | 0/6 [00:00<?, ?it/s]"
      ]
     },
     "metadata": {},
     "output_type": "display_data"
    },
    {
     "data": {
      "application/vnd.jupyter.widget-view+json": {
       "model_id": "6236be9c690346feac0cd8f98ecb2c40",
       "version_major": 2,
       "version_minor": 0
      },
      "text/plain": [
       "  0%|          | 0/6 [00:00<?, ?it/s]"
      ]
     },
     "metadata": {},
     "output_type": "display_data"
    },
    {
     "data": {
      "application/vnd.jupyter.widget-view+json": {
       "model_id": "a57d024e251a47a1850fd28e10b546de",
       "version_major": 2,
       "version_minor": 0
      },
      "text/plain": [
       "  0%|          | 0/3 [00:00<?, ?it/s]"
      ]
     },
     "metadata": {},
     "output_type": "display_data"
    },
    {
     "data": {
      "application/vnd.jupyter.widget-view+json": {
       "model_id": "b27a0966f3f84094a5d9b84d887e334c",
       "version_major": 2,
       "version_minor": 0
      },
      "text/plain": [
       "  0%|          | 0/6 [00:00<?, ?it/s]"
      ]
     },
     "metadata": {},
     "output_type": "display_data"
    },
    {
     "data": {
      "application/vnd.jupyter.widget-view+json": {
       "model_id": "ab38a17b1e5d436b92fc9ffbb132c853",
       "version_major": 2,
       "version_minor": 0
      },
      "text/plain": [
       "  0%|          | 0/6 [00:00<?, ?it/s]"
      ]
     },
     "metadata": {},
     "output_type": "display_data"
    },
    {
     "data": {
      "application/vnd.jupyter.widget-view+json": {
       "model_id": "f09d04e680714828afedd469fdae9176",
       "version_major": 2,
       "version_minor": 0
      },
      "text/plain": [
       "  0%|          | 0/6 [00:00<?, ?it/s]"
      ]
     },
     "metadata": {},
     "output_type": "display_data"
    },
    {
     "data": {
      "application/vnd.jupyter.widget-view+json": {
       "model_id": "e24033148ccb4bdf857cd5d6d8f94316",
       "version_major": 2,
       "version_minor": 0
      },
      "text/plain": [
       "  0%|          | 0/5 [00:00<?, ?it/s]"
      ]
     },
     "metadata": {},
     "output_type": "display_data"
    },
    {
     "data": {
      "application/vnd.jupyter.widget-view+json": {
       "model_id": "a0799de31b5543c9a8dd3308d6764e01",
       "version_major": 2,
       "version_minor": 0
      },
      "text/plain": [
       "  0%|          | 0/5 [00:00<?, ?it/s]"
      ]
     },
     "metadata": {},
     "output_type": "display_data"
    }
   ],
   "source": [
    "''' Use density of spatial cells to get dot colormaps for subsequent boxplots'''\n",
    "\n",
    "mper99 = []\n",
    "\n",
    "for m, session in zip(mice,sessions):\n",
    "    \n",
    "    m_99 = []\n",
    "    m_cells = []\n",
    "    \n",
    "    for s in tdqm(session):\n",
    "        d = data[m][s]\n",
    "        \n",
    "        #load in data\n",
    "        rawdata_file = 'RAW_' + m + '_' + s + '.npy'\n",
    "        raw = np.load(load_folder + rawdata_file, allow_pickle=True)\n",
    "        cell_IDs = raw.item().get('cellsfil')\n",
    "        \n",
    "        #load all spatial cell boolean\n",
    "        spatialcell99_file = 'spatialcell99_' + m + '_' + s + '.npy'\n",
    "        spatialcell = np.load(fig5_folder + spatialcell99_file)\n",
    "        d['spatialcell'] = spatialcell\n",
    "        m_99 = np.append(m_99, np.sum(spatialcell))\n",
    "        m_cells = np.append(m_cells, len(cell_IDs))\n",
    "        \n",
    "    mper99 = np.append(mper99, np.sum(m_99)/np.sum(m_cells))"
   ]
  },
  {
   "cell_type": "code",
   "execution_count": 10,
   "id": "a42fb5d3",
   "metadata": {},
   "outputs": [
    {
     "name": "stdout",
     "output_type": "stream",
     "text": [
      "A12\n",
      "A13\n",
      "A3\n",
      "A4\n",
      "A5\n",
      "A6\n",
      "A7\n",
      "Y16\n",
      "Y17\n",
      "Y18\n",
      "Y19\n",
      "Y2\n",
      "Y3\n"
     ]
    }
   ],
   "source": [
    "''' Define ColorMaps for Session & Animal Boxplots of Mice that have IHC Data (Figure 8)'''\n",
    "import matplotlib.pylab as pl\n",
    "import matplotlib.lines as mlines\n",
    "\n",
    "col_animal_old = pl.cm.Oranges([np.linspace(0.2,0.9,Nold)])\n",
    "col_animal_young = pl.cm.Blues([np.linspace(0.2,0.9,Nyoung)])\n",
    "col_animal = [col_animal_young, col_animal_old]\n",
    "\n",
    "col_session_young = []\n",
    "col_session_old = []\n",
    "for m, session in zip(mice, sessions):\n",
    "    print(m)\n",
    "    \n",
    "    for s in range(0,len(session)):\n",
    "        \n",
    "        if m in RF_aged_mice:\n",
    "            idx = np.where(mice == m)[0][0]\n",
    "            col_session_old.append(col_animal[1][0][idx])\n",
    "        else:\n",
    "            idx = np.where(mice == m)[0][0] - Nold\n",
    "            col_session_young.append(col_animal[0][0][idx])\n",
    "\n",
    "col_session = [col_session_young,col_session_old]\n",
    "\n",
    "label_mice = ['Y16', 'Y17', 'Y18', 'Y19', 'Y2', 'Y3','A12', 'A13', 'A3', 'A4', 'A5', 'A6', 'A7']\n",
    "\n",
    "# set up handles\n",
    "from itertools import repeat\n",
    "per99 = [mper99[y_ind], mper99[age_ind]]\n",
    "\n",
    "handles = []\n",
    "for i in range(len(per99)):\n",
    "    for c in col_animal[i][0]:\n",
    "        dot = mlines.Line2D([],[], color = c, marker ='o', linestyle = 'None', markersize = 8)\n",
    "        handles.append(dot)"
   ]
  },
  {
   "cell_type": "markdown",
   "id": "9ca0fc32",
   "metadata": {},
   "source": [
    "# Figure 7F, G Visualizations of RF Transcriptomic Data Correlates of Spatial Coding\n",
    "\n",
    "Other panels in Figure 7 were generated with publicly available packages listed in the manuscript methods. As such, the only code needed to reproduce these panels is shared. Raw and processed transcriptomic data will be made available to the public upon manuscript publication"
   ]
  },
  {
   "cell_type": "code",
   "execution_count": 11,
   "id": "23f6077d",
   "metadata": {},
   "outputs": [],
   "source": [
    "''' Gather Figure 7F Data from Spreadsheet\n",
    "\n",
    "This csv file contains coherence correlates sig. after FDR = 0.10 Benjamini-Hochberg correction (sigFDR = 1) or only at p < 0.05\n",
    "(sigFDR = 0, sig = 1). The full results of coherence correlation analysis are found in Supplemental Information Table S1 of \n",
    "the manuscript, which includes all genes across the RF dataset.\n",
    "\n",
    "'''\n",
    "figure7f = pd.read_csv('C:/Users/Python/Desktop/Dryad/7F.csv') # adjust path name\n",
    "figure7f.head()\n",
    "\n",
    "sigcorrR = np.array(figure7f.loc[(figure7f.sigFDR == 1),'r'])\n",
    "nscorrR = np.array(figure7f.loc[(figure7f.sigFDR == 0),'r'])\n",
    "\n",
    "sigcorrp = np.array(figure7f.loc[(figure7f.sigFDR == 1),'padj'])\n",
    "nscorrp = np.array(figure7f.loc[(figure7f.sigFDR == 0),'padj'])"
   ]
  },
  {
   "cell_type": "code",
   "execution_count": 12,
   "id": "7217822c",
   "metadata": {},
   "outputs": [
    {
     "name": "stdout",
     "output_type": "stream",
     "text": [
      "n FDR-corrected sig negative vs. positive coherence correlates: \n",
      "290 vs. 26\n"
     ]
    },
    {
     "data": {
      "image/png": "[encoded data removed]",
      "text/plain": [
       "<Figure size 150x200 with 2 Axes>"
      ]
     },
     "metadata": {},
     "output_type": "display_data"
    }
   ],
   "source": [
    "''' Plot Figure 7F\n",
    "\n",
    "In Illustrator, the y-axis line was moved to be centered between these panels at the axis break, and y-axis tick labels were \n",
    "move to the right side of the axis for improved visibility.\n",
    " \n",
    "'''\n",
    "\n",
    "print('n FDR-corrected sig negative vs. positive coherence correlates: ')\n",
    "print(str(len(np.array(figure7f.loc[(figure7f.sigFDR == 1) & (figure7f.r < 0),'Gene']))) + ' vs. ' + str(len(np.array(figure7f.loc[(figure7f.sigFDR == 1) & (figure7f.r > 0),'Gene']))))\n",
    "\n",
    "plt.rcParams['ytick.right'] = plt.rcParams['ytick.labelright'] = False \n",
    "plt.rcParams['ytick.left'] = plt.rcParams['ytick.labelleft'] = True\n",
    "\n",
    "fig, (ax1,ax2) = plt.subplots(1,2,figsize = (1.5,2),sharey = True)\n",
    "fig.subplots_adjust(wspace = 0.2)\n",
    "ax1.scatter(sigcorrR,-1*np.log10(sigcorrp), color = 'C1', alpha = 0.5, s = 5)\n",
    "ax1.scatter(nscorrR,-1*np.log10(nscorrp), color = 'C2', alpha = 0.5, s = 5)\n",
    "ax1.set_xlim([-1,-0.45])\n",
    "ax1.set_xticks([-0.9,-0.7,-0.5])\n",
    "ax1.set_ylim([0.85,1.65])\n",
    "ax1.yaxis.tick_right()\n",
    "ax1.spines.right.set_visible(False)\n",
    "ax1.tick_params(labelright = False, labelsize = 6)\n",
    "\n",
    "ax2.scatter(sigcorrR,-1*np.log10(sigcorrp), color = 'C1', alpha = 0.5, s = 5)\n",
    "ax2.scatter(nscorrR,-1*np.log10(nscorrp), color = 'C2', alpha = 0.5, s = 5)\n",
    "ax2.set_xlim([0.45,1])\n",
    "ax2.set_xticks([0.5,0.7,0.9])\n",
    "ax2.set_ylim([0.85,1.65])\n",
    "ax2.spines.left.set_visible(False)\n",
    "ax2.tick_params(labelleft = True, labelsize = 6)\n",
    "ax2.yaxis.tick_left()\n",
    "ax2.yaxis.set_label_position('left')\n",
    "ax2.set_yticks([0.9,1.0,1.1,1.2,1.3,1.4,1.5,1.6])\n",
    "ax2.set_yticklabels([0.9,1.0,1.1,1.2,1.3,1.4,1.5,1.6])\n",
    "\n",
    "#add vertical lines at FDR significance threshold\n",
    "ax1.hlines(np.max(-1*np.log10(nscorrp)),-1,1,'k','--',alpha = 0.5)\n",
    "ax2.hlines(np.max(-1*np.log10(nscorrp)),-1,1,'k','--',alpha = 0.5)\n",
    "ax1.vlines(np.min(nscorrR),0.85,1.65,'k','--',alpha = 0.5)\n",
    "ax2.vlines(np.max(nscorrR),0.85,1.65,'k','--',alpha = 0.5)\n",
    "ax2.vlines(0.45,0.85,1.65,'k','-',alpha = 1.0)\n",
    "\n",
    "#annotate hapln4 and adamts3, if desired\n",
    "#hapln4p = np.array(figure7f.loc[(figure7f.Gene == 'Hapln4'),'padj'])\n",
    "#hapln4r = np.array(figure7f.loc[(figure7f.Gene == 'Hapln4'),'r'])\n",
    "#adamts3p = np.array(figure7f.loc[(figure7f.Gene == 'Adamts3'),'padj'])\n",
    "#adamts3r = np.array(figure7f.loc[(figure7f.Gene == 'Adamts3'),'r'])\n",
    "#ax1.annotate('Hapln4',(hapln4r,-1*np.log10(hapln4p)),fontsize = 5)\n",
    "#ax2.annotate('Adamts3',(adamts3r,-1*np.log10(adamts3p)),fontsize =5)\n",
    "\n",
    "#annotate with correlate nummbers\n",
    "ax1.annotate(str(len(np.array(figure7f.loc[(figure7f.sigFDR == 1) & (figure7f.r < 0),'Gene']))), (-0.975, 1.025), fontsize = 6)\n",
    "ax2.annotate(str(len(np.array(figure7f.loc[(figure7f.sigFDR == 1) & (figure7f.r > 0),'Gene']))), (0.90, 1.025), fontsize = 6)\n",
    "\n",
    "#add slanted line break on x axis\n",
    "d = 0.5\n",
    "kwargs = dict(marker=[(-1,-d),(1,d)], markersize = 12, linestyle = \"none\",color = 'k', mec = 'k', mew = 1, clip_on=False)\n",
    "ax1.plot([1.08,1.22],[0,0], transform=ax1.transAxes,**kwargs)\n",
    "\n",
    "plt.savefig(save_folder + '7F.png', dpi = 400, bbox_inches = 'tight')\n",
    "plt.savefig(save_folder + '7F.svg', dpi = 400, bbox_inches = 'tight')\n",
    "plt.show()\n"
   ]
  },
  {
   "cell_type": "code",
   "execution_count": 13,
   "id": "024c95e0",
   "metadata": {},
   "outputs": [
    {
     "name": "stdout",
     "output_type": "stream",
     "text": [
      "\n",
      "Association btwn Young, Aged, & All Decoder Score vs. Coherence:\n",
      "R [Young, Aged, All]: \n",
      "0.29936994352991936 0.8098837993395726 0.7727664743552435\n",
      "P [Young, MA, Aged, All]: \n",
      "0.5142384986695967 0.02724413227163915 0.0011937429294855187\n"
     ]
    },
    {
     "data": {
      "image/png": "[encoded data removed]",
      "text/plain": [
       "<Figure size 150x100 with 1 Axes>"
      ]
     },
     "metadata": {},
     "output_type": "display_data"
    },
    {
     "name": "stdout",
     "output_type": "stream",
     "text": [
      "\n",
      "Association btwn Young, Aged, & All Decoder Score vs. Coherence:\n",
      "R [Young, Aged, All]: \n",
      "0.47119318654988435 -0.7080378134897743 -0.7971449300581164\n",
      "P [Young, MA, Aged, All]: \n",
      "0.2858370824862966 0.07502910637629706 0.0006396510354129063\n"
     ]
    },
    {
     "data": {
      "image/png": "[encoded data removed]",
      "text/plain": [
       "<Figure size 150x100 with 1 Axes>"
      ]
     },
     "metadata": {},
     "output_type": "display_data"
    }
   ],
   "source": [
    "''' Plot Figure 7G'''\n",
    "\n",
    "# Arrays below correspond to the following rows of Supplemental Information Table S1 rows, where each value is from a mouse:\n",
    "#From C1:P1:\n",
    "coherence = [0.771507,0.743562,0.751875,0.722717,0.76769,0.783099,0.771744,0.598272,0.647575,0.688719,0.614267,0.674573,0.752533,0.741628]\n",
    "\n",
    "#From C264:P264:\n",
    "adamts3 = [2434.00769,1278.451717,1996.709615,2555.452779,1832.066644,2567.381172,2951.50437,745.0741398,1460.752713,1463.475755,1138.184964,957.0021128,2874.030388,1701.103465]\n",
    "\n",
    "#From C166:P166:\n",
    "hapln4 = [535.8996691, 708.0133348, 562.140088, 541.6174085, 579.4763986, 813.0257486, 945.0704155, 2274.470467, 1131.280868, 1239.024935, 1374.522669, 1179.153181, 1204.534184, 846.2194377]\n",
    "\n",
    "#Assess Adamts3 expression correlation with coherence\n",
    "nymice = 7 # with RF sequencing data\n",
    "res = stats.linregress(coherence[:nymice],adamts3[:nymice])\n",
    "yslope1 = res.slope; yint1 = res.intercept; yr1 = res.rvalue; yp1 = res.pvalue\n",
    "\n",
    "res = stats.linregress(coherence[nymice:],adamts3[nymice:])\n",
    "aslope1 = res.slope; aint1 = res.intercept; ar1 = res.rvalue ; ap1 = res.pvalue\n",
    "\n",
    "res = stats.linregress(coherence,adamts3)\n",
    "allslope1 = res.slope; allint1 = res.intercept; allr1 = res.rvalue; allp1 = res.pvalue\n",
    "\n",
    "print('\\nAssociation btwn Young, Aged, & All Decoder Score vs. Coherence:')\n",
    "print('R [Young, Aged, All]: ')\n",
    "print(yr1, ar1, allr1)\n",
    "print('P [Young, MA, Aged, All]: ')\n",
    "print(yp1, ap1, allp1)\n",
    "\n",
    "#Plot Figure 7Gtop\n",
    "fig, ax = plt.subplots(figsize = (1.5,1))\n",
    "ax.set_title('Adamts3', fontsize = 8)\n",
    "ax.scatter(coherence[:nymice],adamts3[:nymice], color = 'C0', label = 'Young', s = 10)\n",
    "ax.scatter(coherence[nymice:],adamts3[nymice:], color = 'C1', label = 'Aged', s = 10)\n",
    "ax.set_xlabel('Mean Coherence', fontsize = 7)\n",
    "ax.set_ylabel('FPKM Value', fontsize = 7)\n",
    "ax.set_xlim([0.59,0.8])\n",
    "ax.set_ylim([0,3200])\n",
    "ax.set_yticks([0,800,1600,2400,3200])\n",
    "ax.set_xticks([0.6,0.65,0.7,0.75,0.8])\n",
    "ax.tick_params(labelsize = 6)\n",
    "X_plot = np.linspace(ax.get_xlim()[0],ax.get_xlim()[1],100)\n",
    "#ax.plot(X_plot, yslope2*X_plot + yint2, '--', linewidth = 0.75, color = 'C0', label = 'Young Fit')\n",
    "ax.plot(X_plot, aslope1*X_plot + aint1, '--', linewidth = 0.75, color = 'C1', label = 'Aged')\n",
    "ax.plot(X_plot, allslope1*X_plot + allint1, '-', linewidth = 1, color = 'k', label = 'All Ages')\n",
    "#ax.legend(loc = 4, fontsize = 9, prop = {'size': 10})\n",
    "plt.savefig(save_folder + '7Gtop.png', dpi = 400, bbox_inches = 'tight')\n",
    "plt.savefig(save_folder + '7Gtop.svg', dpi = 400, bbox_inches = 'tight')\n",
    "plt.show()\n",
    "\n",
    "#Assess Hapln4 expression correlation with coherence\n",
    "res = stats.linregress(coherence[:7],hapln4[:7])\n",
    "yslope2 = res.slope; yint2 = res.intercept; yr2 = res.rvalue; yp2 = res.pvalue\n",
    "\n",
    "res = stats.linregress(coherence[7:],hapln4[7:])\n",
    "aslope2 = res.slope; aint2 = res.intercept; ar2 = res.rvalue ; ap2 = res.pvalue\n",
    "\n",
    "res = stats.linregress(coherence,hapln4)\n",
    "allslope2 = res.slope; allint2 = res.intercept; allr2 = res.rvalue; allp2 = res.pvalue\n",
    "\n",
    "print('\\nAssociation btwn Young, Aged, & All Decoder Score vs. Coherence:')\n",
    "print('R [Young, Aged, All]: ')\n",
    "print(yr2, ar2, allr2)\n",
    "print('P [Young, MA, Aged, All]: ')\n",
    "print(yp2, ap2, allp2)\n",
    "\n",
    "#Plot Figure 7Gtop\n",
    "fig, ax = plt.subplots(figsize = (1.5,1))\n",
    "ax.set_title('Hapln4', fontsize = 8)\n",
    "ax.scatter(coherence[:nymice],hapln4[:nymice], color = 'C0', label = 'Young', s = 10)\n",
    "ax.scatter(coherence[nymice:],hapln4[nymice:], color = 'C1', label = 'Aged', s = 10)\n",
    "ax.set_xlabel('Mean Coherence', fontsize = 7)\n",
    "ax.set_ylabel('FPKM Value', fontsize = 7)\n",
    "ax.set_xlim([0.59,0.8])\n",
    "ax.set_ylim([0,2600])\n",
    "ax.set_yticks([0,650,1300,1950,2600])\n",
    "ax.set_xticks([0.6,0.65,0.7,0.75,0.8])\n",
    "ax.tick_params(labelsize = 6)\n",
    "X_plot = np.linspace(ax.get_xlim()[0],ax.get_xlim()[1],100)\n",
    "#ax.plot(X_plot, yslope2*X_plot + yint2, '--', linewidth = 0.75, color = 'C0', label = 'Young Fit')\n",
    "#ax.plot(X_plot, aslope2*X_plot + aint2, '--', linewidth = 0.75, color = 'C1', label = 'Aged')\n",
    "ax.plot(X_plot, allslope2*X_plot + allint2, '-', linewidth = 1, color = 'k', label = 'All Ages')\n",
    "#ax.legend(loc = 4, fontsize = 9, prop = {'size': 10})\n",
    "plt.savefig(save_folder + '7Gbottom.png', dpi = 400, bbox_inches = 'tight')\n",
    "plt.savefig(save_folder + '7Gbottom.svg', dpi = 400, bbox_inches = 'tight')\n",
    "plt.show()\n"
   ]
  },
  {
   "cell_type": "markdown",
   "id": "a7141187",
   "metadata": {},
   "source": [
    "# Figure 8B-D Visualizations of PNN Density & Correlative Relationships\n",
    "\n",
    "Figure 8A is an immunohistochemical representative image. Pre-processed images and image analysis data will be made available to the public upon manuscript publication in the Dryad repository.\n",
    "\n",
    "One mouse (Y11) in the RF sequencing dataset did not have IHC images. As such, n = 6 young, n = 7 aged mice below."
   ]
  },
  {
   "cell_type": "code",
   "execution_count": 14,
   "id": "b8c23163",
   "metadata": {},
   "outputs": [
    {
     "name": "stdout",
     "output_type": "stream",
     "text": [
      "  Mouse Group  PVDensity  PNNDensity  PV+PNNDensity  PV-PNNDensity\n",
      "0    Y2     Y   0.000141    0.000030   2.193231e-05       0.000008\n",
      "1    Y3     Y   0.000112    0.000022   1.741520e-05       0.000004\n",
      "2   Y16     Y   0.000106    0.000004   0.000000e+00       0.000004\n",
      "3   Y17     Y   0.000102    0.000023   1.964536e-05       0.000003\n",
      "4   Y18     Y   0.000129    0.000003   3.908223e-07       0.000002\n"
     ]
    }
   ],
   "source": [
    "'''Gather Figure 8B-D Data from Spreadsheet'''\n",
    "figure8bcd = pd.read_csv('C:/Users/Python/Desktop/Dryad/8BCD.csv') # adjust path name\n",
    "print(figure8bcd.head())\n",
    "\n",
    "youngPV = np.array(figure8bcd.loc[(figure8bcd.Group == 'Y'),'PVDensity'])\n",
    "agedPV = np.array(figure8bcd.loc[(figure8bcd.Group == 'A'),'PVDensity'])\n",
    "\n",
    "youngPNN = np.array(figure8bcd.loc[(figure8bcd.Group == 'Y'),'PNNDensity'])\n",
    "agedPNN = np.array(figure8bcd.loc[(figure8bcd.Group == 'A'),'PNNDensity'])\n",
    "\n",
    "youngPVPNN = np.array(figure8bcd.loc[(figure8bcd.Group == 'Y'),'PV+PNNDensity'])\n",
    "agedPVPNN = np.array(figure8bcd.loc[(figure8bcd.Group == 'A'),'PV+PNNDensity'])\n",
    "\n",
    "youngEXPNN = np.array(figure8bcd.loc[(figure8bcd.Group == 'Y'),'PV-PNNDensity'])\n",
    "agedEXPNN = np.array(figure8bcd.loc[(figure8bcd.Group == 'A'),'PV-PNNDensity'])\n",
    "\n",
    "# Arrays below correspond to the following rows of Supplemental Information Table S1 rows, where each value is from a mouse:\n",
    "#From C1:D1,F1:P1:\n",
    "coherence = [0.771507,0.743562,0.722717,0.76769,0.783099,0.771744,0.598272,0.647575,0.688719,0.614267,0.674573,0.752533,0.741628]\n",
    "\n",
    "#From C166:D166,F166:P166:\n",
    "hapln4 = [535.8996691, 708.0133348, 541.6174085, 579.4763986, 813.0257486, 945.0704155, 2274.470467, 1131.280868, 1239.024935, 1374.522669, 1179.153181, 1204.534184, 846.2194377]"
   ]
  },
  {
   "cell_type": "code",
   "execution_count": 15,
   "id": "8cddec24",
   "metadata": {},
   "outputs": [
    {
     "name": "stdout",
     "output_type": "stream",
     "text": [
      "Young Density Mean ± SEM; Aged Density Mean ± SEM: \n",
      "0.00011749 ± 5.98e-06; 0.00013567 ± 1.022e-05\n",
      "\n",
      "Young vs. Aged WRS Test: F, p \n",
      "-1.4285714285714286 , 0.1531274510196695\n"
     ]
    },
    {
     "data": {
      "image/png": "[encoded data removed]",
      "text/plain": [
       "<Figure size 110x90 with 1 Axes>"
      ]
     },
     "metadata": {},
     "output_type": "display_data"
    },
    {
     "name": "stdout",
     "output_type": "stream",
     "text": [
      "\n",
      "Young Density Mean ± SEM; Aged Density Mean ± SEM: \n",
      "2.275e-05 ± 7.9e-06; 4.052e-05 ± 3.97e-06\n",
      "\n",
      "Young vs. Aged WRS Test: F, p \n",
      "-2.0 , 0.04550026389635839\n"
     ]
    },
    {
     "data": {
      "image/png": "[encoded data removed]",
      "text/plain": [
       "<Figure size 110x90 with 1 Axes>"
      ]
     },
     "metadata": {},
     "output_type": "display_data"
    }
   ],
   "source": [
    "'Plot Figure 8B & Compare the Density of PV INs & PNNs in Young vs. Aged Mice'\n",
    "\n",
    "# Check in PV IN Density is Altered\n",
    "print('Young Density Mean ± SEM; Aged Density Mean ± SEM: ')\n",
    "print(str(np.round(np.mean(youngPV),8)) + ' ± ' + str(np.round(stats.sem(youngPV),8)) + '; ' + str(np.round(np.mean(agedPV),8)) + ' ± ' + str(np.round(stats.sem(agedPV),8)))\n",
    "\n",
    "print('\\nYoung vs. Aged WRS Test: F, p ')\n",
    "F, p = stats.ranksums(youngPV, agedPV)\n",
    "print(str(F) + ' , ' + str(p))\n",
    "\n",
    "#Plot Figure 8B Top\n",
    "fig, ax = plt.subplots(figsize = (1.1,0.9))\n",
    "per99 = [youngPV,agedPV]\n",
    "labels = ['Young','Aged']\n",
    "w = 0.5\n",
    "\n",
    "plt.boxplot(per99, widths = w, labels = labels, medianprops = dict(color = 'black'))\n",
    "#ax.set_title('Session Spatial Cell Density', fontsize=12, pad=5)\n",
    "ax.set_xlabel('Age', fontsize=7, labelpad=1)\n",
    "ax.set_xticklabels(labels = labels, fontsize=6)\n",
    "ax.set_ylabel('PV+ IN Density', fontsize=7, labelpad=1)\n",
    "ax.set_ylim([0.8e-4,1.8e-4])\n",
    "ax.set_yticks([0.8e-4,1.0e-4,1.2e-4,1.4e-4,1.6e-4,1.8e-4])\n",
    "ax.set_yticklabels([0.8,1.0,1.2,1.4,1.6,1.8])\n",
    "ax.tick_params(labelsize = 6)\n",
    "\n",
    "for i in range(len(per99)):\n",
    "    y = per99[i]\n",
    "    x = np.random.normal(i + 1, 0.04, len(y))\n",
    "    plt.scatter(x, y, color = col_animal[i][0], edgecolors = col_animal[i][0], alpha = 1, s = 10)\n",
    "\n",
    "#ax.legend(ncol = 3, handles = handles, labels = label_mice, loc = 'upper right',bbox_to_anchor=(1.65, 1))\n",
    "plt.savefig(save_folder + '8Btop.png', dpi=400, bbox_inches='tight')\n",
    "plt.savefig(save_folder + '8Btop.svg', dpi=400, bbox_inches='tight')\n",
    "plt.show()\n",
    "\n",
    "# Check in PNN Density is Altered\n",
    "print('\\nYoung Density Mean ± SEM; Aged Density Mean ± SEM: ')\n",
    "print(str(np.round(np.mean(youngPNN),8)) + ' ± ' + str(np.round(stats.sem(youngPNN),8)) + '; ' + str(np.round(np.mean(agedPNN),8)) + ' ± ' + str(np.round(stats.sem(agedPNN),8)))\n",
    "\n",
    "print('\\nYoung vs. Aged WRS Test: F, p ')\n",
    "F, p = stats.ranksums(youngPNN, agedPNN)\n",
    "print(str(F) + ' , ' + str(p))\n",
    "\n",
    "#Plot Figure 8B Bottom\n",
    "fig, ax = plt.subplots(figsize = (1.1,0.9))\n",
    "per99 = [youngPNN,agedPNN]\n",
    "labels = ['Young','Aged']\n",
    "w = 0.5\n",
    "\n",
    "plt.boxplot(per99, widths = w, labels = labels, medianprops = dict(color = 'black'))\n",
    "ax.set_xlabel('Age', fontsize=7, labelpad=1)\n",
    "ax.set_xticklabels(labels = labels, fontsize=6)\n",
    "ax.set_ylabel('PV PNN Density', fontsize=7, labelpad=1)\n",
    "ax.set_ylim([0,7.5e-5])\n",
    "ax.set_yticks([0,2.5e-5,5e-5,7.5e-5])\n",
    "\n",
    "ax.tick_params(labelsize = 6)\n",
    "\n",
    "for i in range(len(per99)):\n",
    "    y = per99[i]\n",
    "    x = np.random.normal(i + 1, 0.04, len(y))\n",
    "    plt.scatter(x, y, color = col_animal[i][0], edgecolors = col_animal[i][0], alpha = 1, s = 10)\n",
    "\n",
    "#ax.legend(ncol = 3, handles = handles, labels = label_mice, loc = 'upper right',bbox_to_anchor=(1.65, 1))\n",
    "plt.savefig(save_folder + '8Bbottom.png', dpi=400, bbox_inches='tight')\n",
    "plt.savefig(save_folder + '8Bbottom.svg', dpi=400, bbox_inches='tight')\n",
    "plt.show()"
   ]
  },
  {
   "cell_type": "code",
   "execution_count": 16,
   "id": "ec1c9736",
   "metadata": {},
   "outputs": [
    {
     "name": "stdout",
     "output_type": "stream",
     "text": [
      "\n",
      "Young Density Mean ± SEM; Aged Density Mean ± SEM: \n",
      "1.577e-05 ± 5.53e-06; 2.551e-05 ± 2.35e-06\n",
      "\n",
      "Young vs. Aged WRS Test: F, p \n",
      "-1.2857142857142858 , 0.19854279368666194\n"
     ]
    },
    {
     "data": {
      "image/png": "[encoded data removed]",
      "text/plain": [
       "<Figure size 110x90 with 1 Axes>"
      ]
     },
     "metadata": {},
     "output_type": "display_data"
    },
    {
     "name": "stdout",
     "output_type": "stream",
     "text": [
      "\n",
      "Young Density Mean ± SEM; Aged Density Mean ± SEM: \n",
      "6.99e-06 ± 2.77e-06; 1.501e-05 ± 2.49e-06\n",
      "\n",
      "Young vs. Aged WRS Test: F, p \n",
      "-2.0 , 0.04550026389635839\n"
     ]
    },
    {
     "data": {
      "image/png": "[encoded data removed]",
      "text/plain": [
       "<Figure size 110x90 with 1 Axes>"
      ]
     },
     "metadata": {},
     "output_type": "display_data"
    }
   ],
   "source": [
    "'Plot Figure 8C & Compare the Density of PV+ & PV- PNNs in Young vs. Aged Mice'\n",
    "\n",
    "# Check in PV+ PNN Density is Altered\n",
    "print('\\nYoung Density Mean ± SEM; Aged Density Mean ± SEM: ')\n",
    "print(str(np.round(np.mean(youngPVPNN),8)) + ' ± ' + str(np.round(stats.sem(youngPVPNN),8)) + '; ' + str(np.round(np.mean(agedPVPNN),8)) + ' ± ' + str(np.round(stats.sem(agedPVPNN),8)))\n",
    "\n",
    "print('\\nYoung vs. Aged WRS Test: F, p ')\n",
    "F, p = stats.ranksums(youngPVPNN, agedPVPNN)\n",
    "print(str(F) + ' , ' + str(p))\n",
    "\n",
    "#Plot Figure 8C Top\n",
    "fig, ax = plt.subplots(figsize = (1.1,0.9))\n",
    "per99 = [youngPVPNN,agedPVPNN]\n",
    "labels = ['Young','Aged']\n",
    "w = 0.5\n",
    "\n",
    "plt.boxplot(per99, widths = w, labels = labels, medianprops = dict(color = 'black'))\n",
    "#ax.set_title('Session Spatial Cell Density', fontsize=12, pad=5)\n",
    "ax.set_xlabel('Age', fontsize=7, labelpad=1)\n",
    "ax.set_xticklabels(labels = labels, fontsize=6)\n",
    "ax.set_ylabel('PV+ PNN Density', fontsize=7, labelpad=1)\n",
    "ax.set_ylim([0,4e-5])\n",
    "ax.tick_params(labelsize = 6)\n",
    "\n",
    "for i in range(len(per99)):\n",
    "    y = per99[i]\n",
    "    x = np.random.normal(i + 1, 0.04, len(y))\n",
    "    plt.scatter(x, y, color = col_animal[i][0], edgecolors = col_animal[i][0], alpha = 1, s = 10)\n",
    "\n",
    "#ax.legend(ncol = 3, handles = handles, labels = label_mice, loc = 'upper right',bbox_to_anchor=(1.65, 1))\n",
    "plt.savefig(save_folder + '8Ctop.png', dpi=400, bbox_inches='tight')\n",
    "plt.savefig(save_folder + '8Ctop.svg', dpi=400, bbox_inches='tight')\n",
    "plt.show()\n",
    "\n",
    "# Check in PV- PNN Density is Altered\n",
    "print('\\nYoung Density Mean ± SEM; Aged Density Mean ± SEM: ')\n",
    "print(str(np.round(np.mean(youngEXPNN),8)) + ' ± ' + str(np.round(stats.sem(youngEXPNN),8)) + '; ' + str(np.round(np.mean(agedEXPNN),8)) + ' ± ' + str(np.round(stats.sem(agedEXPNN),8)))\n",
    "\n",
    "print('\\nYoung vs. Aged WRS Test: F, p ')\n",
    "F, p = stats.ranksums(youngEXPNN, agedEXPNN)\n",
    "print(str(F) + ' , ' + str(p))\n",
    "\n",
    "#Plot Figure 8C Bottom\n",
    "fig, ax = plt.subplots(figsize = (1.1,0.9))\n",
    "per99 = [youngEXPNN,agedEXPNN]\n",
    "labels = ['Young','Aged']\n",
    "w = 0.5\n",
    "\n",
    "plt.boxplot(per99, widths = w, labels = labels, medianprops = dict(color = 'black'))\n",
    "#ax.set_title('Session Spatial Cell Density', fontsize=12, pad=5)\n",
    "ax.set_xlabel('Age', fontsize=7, labelpad=1)\n",
    "ax.set_xticklabels(labels = labels, fontsize=6)\n",
    "ax.set_ylabel('PV- PNN Density', fontsize=7, labelpad=1)\n",
    "ax.set_ylim([0,3e-5])\n",
    "ax.tick_params(labelsize = 6)\n",
    "\n",
    "for i in range(len(per99)):\n",
    "    y = per99[i]\n",
    "    x = np.random.normal(i + 1, 0.04, len(y))\n",
    "    plt.scatter(x, y, color = col_animal[i][0], edgecolors = col_animal[i][0], alpha = 1, s = 10)\n",
    "\n",
    "#ax.legend(ncol = 3, handles = handles, labels = label_mice, loc = 'upper right',bbox_to_anchor=(1.65, 1))\n",
    "plt.savefig(save_folder + '8Cbottom.png', dpi=400, bbox_inches='tight')\n",
    "plt.savefig(save_folder + '8Cbottom.svg', dpi=400, bbox_inches='tight')\n",
    "plt.show()"
   ]
  },
  {
   "cell_type": "code",
   "execution_count": 17,
   "id": "d4542e0e",
   "metadata": {},
   "outputs": [
    {
     "name": "stdout",
     "output_type": "stream",
     "text": [
      "\n",
      "Association btwn Young, Aged, & All Decoder Score vs. hapln4:\n",
      "R [Young, Aged, All]: \n",
      "0.6101261383055151 0.4038991467743186 0.6288532439762436\n",
      "P [Young, MA, Aged, All]: \n",
      "0.19837171119640187 0.3688520609681763 0.021314658383825593\n"
     ]
    },
    {
     "data": {
      "image/png": "[encoded data removed]",
      "text/plain": [
       "<Figure size 180x90 with 1 Axes>"
      ]
     },
     "metadata": {},
     "output_type": "display_data"
    },
    {
     "name": "stdout",
     "output_type": "stream",
     "text": [
      "\n",
      "Association btwn Young, Aged, & All Decoder Score vs. Coherence:\n",
      "R [Young, Aged, All]: \n",
      "0.24954817430850634 -0.7503261022427545 -0.6596114576999756\n",
      "P [Young, MA, Aged, All]: \n",
      "0.6334479563874644 0.05202133212768575 0.014171880333135932\n"
     ]
    },
    {
     "data": {
      "image/png": "[encoded data removed]",
      "text/plain": [
       "<Figure size 180x90 with 1 Axes>"
      ]
     },
     "metadata": {},
     "output_type": "display_data"
    }
   ],
   "source": [
    "'''Plot Figure 8D'''\n",
    "\n",
    "nymice = 6\n",
    "\n",
    "#Hapln4 vs. EXPNN\n",
    "res = stats.linregress(youngEXPNN,hapln4[:nymice])\n",
    "yslope1 = res.slope; yint1 = res.intercept; yr1 = res.rvalue; yp1 = res.pvalue\n",
    "\n",
    "res = stats.linregress(agedEXPNN,hapln4[nymice:])\n",
    "aslope1 = res.slope; aint1 = res.intercept; ar1 = res.rvalue ; ap1 = res.pvalue\n",
    "\n",
    "res = stats.linregress(np.concatenate((youngEXPNN, agedEXPNN)),hapln4)\n",
    "allslope1 = res.slope; allint1 = res.intercept; allr1 = res.rvalue; allp1 = res.pvalue\n",
    "\n",
    "print('\\nAssociation btwn Young, Aged, & All Decoder Score vs. hapln4:')\n",
    "print('R [Young, Aged, All]: ')\n",
    "print(yr1, ar1, allr1)\n",
    "print('P [Young, MA, Aged, All]: ')\n",
    "print(yp1, ap1, allp1)\n",
    "\n",
    "#Plot Figure 7Rtop\n",
    "fig, ax = plt.subplots(figsize = (1.8,0.9))\n",
    "ax.set_title('Hapln4', fontsize = 8)\n",
    "ax.scatter(youngEXPNN, hapln4[:nymice], color = 'C0', label = 'Young', s = 10)\n",
    "ax.scatter(agedEXPNN, hapln4[nymice:], color = 'C1', label = 'Aged', s = 10)\n",
    "ax.set_ylabel('Hapln4 FPKM Value', fontsize = 7)\n",
    "ax.set_xlabel('PV- PNN Density', fontsize = 7)\n",
    "ax.set_ylim([0,2600])\n",
    "ax.set_yticks([0,650,1300,1950,2600])\n",
    "ax.set_xlim([0,3e-5])\n",
    "ax.set_xticks([0,1e-5,2e-5,3e-5])\n",
    "ax.tick_params(labelsize = 6)\n",
    "X_plot = np.linspace(ax.get_xlim()[0],ax.get_xlim()[1],100)\n",
    "#ax.plot(X_plot, yslope1*X_plot + yint1, '--', linewidth = 0.75, color = 'C0', label = 'Young Fit')\n",
    "#ax.plot(X_plot, aslope1*X_plot + aint1, '--', linewidth = 0.75, color = 'C1', label = 'Aged')\n",
    "ax.plot(X_plot, allslope1*X_plot + allint1, '-', linewidth = 1, color = 'k', label = 'All Ages')\n",
    "#ax.legend(loc = 4, fontsize = 9, prop = {'size': 10})\n",
    "plt.savefig(save_folder + '8Dtop.png', dpi = 400, bbox_inches = 'tight')\n",
    "plt.savefig(save_folder + '8Dtop.svg', dpi = 400, bbox_inches = 'tight')\n",
    "plt.show()\n",
    "\n",
    "#Coherence vs EXPNN\n",
    "res = stats.linregress(youngEXPNN,coherence[:nymice],)\n",
    "yslope2 = res.slope; yint2 = res.intercept; yr2 = res.rvalue; yp2 = res.pvalue\n",
    "\n",
    "res = stats.linregress(agedEXPNN,coherence[nymice:])\n",
    "aslope2 = res.slope; aint2 = res.intercept; ar2 = res.rvalue ; ap2 = res.pvalue\n",
    "\n",
    "res = stats.linregress(np.concatenate((youngEXPNN, agedEXPNN)),coherence)\n",
    "allslope2 = res.slope; allint2 = res.intercept; allr2 = res.rvalue; allp2 = res.pvalue\n",
    "\n",
    "print('\\nAssociation btwn Young, Aged, & All Decoder Score vs. Coherence:')\n",
    "print('R [Young, Aged, All]: ')\n",
    "print(yr2, ar2, allr2)\n",
    "print('P [Young, MA, Aged, All]: ')\n",
    "print(yp2, ap2, allp2)\n",
    "\n",
    "#Plot Figure 7:bottom\n",
    "fig, ax = plt.subplots(figsize = (1.8,0.9))\n",
    "ax.set_title('Coherence vs. PV- PNN Density', fontsize = 8)\n",
    "ax.scatter(youngEXPNN, coherence[:6], color = 'C0', label = 'Young', s = 10)\n",
    "ax.scatter( agedEXPNN,coherence[6:], color = 'C1', label = 'Aged', s = 10)\n",
    "ax.set_ylabel('Mean Coherence', fontsize = 7)\n",
    "ax.set_xlabel('PV- PNN Density', fontsize = 7)\n",
    "ax.set_ylim([0.59,0.8])\n",
    "ax.set_xlim([0,3e-5])\n",
    "ax.set_xticks([0,1e-5,2e-5,3e-5])\n",
    "ax.set_yticks([0.6,0.65,0.7,0.75,0.8])\n",
    "ax.tick_params(labelsize = 6)\n",
    "X_plot = np.linspace(ax.get_xlim()[0],ax.get_xlim()[1],100)\n",
    "#ax.plot(X_plot, yslope2*X_plot + yint2, '--', linewidth = 0.75, color = 'C0', label = 'Young Fit')\n",
    "#ax.plot(X_plot, aslope2*X_plot + aint2, '--', linewidth = 0.75, color = 'C1', label = 'Aged')\n",
    "ax.plot(X_plot, allslope2*X_plot + allint2, '-', linewidth = 1, color = 'k', label = 'All Ages')\n",
    "#ax.legend(loc = 4, fontsize = 9, prop = {'size': 10})\n",
    "plt.savefig(save_folder + '8Dbottom.png', dpi = 400, bbox_inches = 'tight')\n",
    "plt.savefig(save_folder + '8Dbottom.svg', dpi = 400, bbox_inches = 'tight')\n",
    "plt.show()\n"
   ]
  },
  {
   "cell_type": "code",
   "execution_count": 18,
   "id": "dbc73d12",
   "metadata": {},
   "outputs": [
    {
     "name": "stdout",
     "output_type": "stream",
     "text": [
      "\n",
      "Association btwn Young, Aged, & All Young PVPNN vs. Hapln4:\n",
      "R [Young, Aged, All]: \n",
      "0.35977402982458057 0.16050834048161913 0.42976010402978265\n",
      "P [Young, MA, Aged, All]: \n",
      "0.4836230542290193 0.7310090087717408 0.14274113824851173\n"
     ]
    },
    {
     "data": {
      "image/png": "[encoded data removed]",
      "text/plain": [
       "<Figure size 150x75 with 1 Axes>"
      ]
     },
     "metadata": {},
     "output_type": "display_data"
    },
    {
     "name": "stdout",
     "output_type": "stream",
     "text": [
      "\n",
      "Association btwn Young, Aged, & All Decoder Score vs. Coherence:\n",
      "R [Young, Aged, All]: \n",
      "0.35115473700801436 -0.06917837213079693 -0.28009563002260235\n",
      "P [Young, MA, Aged, All]: \n",
      "0.4949182782272921 0.8828399613498289 0.35398595674689826\n"
     ]
    },
    {
     "data": {
      "image/png": "[encoded data removed]",
      "text/plain": [
       "<Figure size 150x75 with 1 Axes>"
      ]
     },
     "metadata": {},
     "output_type": "display_data"
    }
   ],
   "source": [
    "'''Plot 8D with PV+ PVPNNs'''\n",
    "\n",
    "#Hapln4 PVPNN\n",
    "res = stats.linregress(youngPVPNN,hapln4[:nymice])\n",
    "yslope2 = res.slope; yint2 = res.intercept; yr2 = res.rvalue; yp2 = res.pvalue\n",
    "\n",
    "res = stats.linregress(agedPVPNN,hapln4[nymice:])\n",
    "aslope2 = res.slope; aint2 = res.intercept; ar2 = res.rvalue ; ap2 = res.pvalue\n",
    "\n",
    "res = stats.linregress(np.concatenate((youngPVPNN, agedPVPNN)),hapln4)\n",
    "allslope2 = res.slope; allint2 = res.intercept; allr2 = res.rvalue; allp2 = res.pvalue\n",
    "\n",
    "print('\\nAssociation btwn Young, Aged, & All Young PVPNN vs. Hapln4:')\n",
    "print('R [Young, Aged, All]: ')\n",
    "print(yr2, ar2, allr2)\n",
    "print('P [Young, MA, Aged, All]: ')\n",
    "print(yp2, ap2, allp2)\n",
    "\n",
    "#Plot Figure 7Ptop\n",
    "fig, ax = plt.subplots(figsize = (1.5,0.75))\n",
    "ax.set_title('Hapln4', fontsize = 8)\n",
    "ax.scatter(youngPVPNN, hapln4[:6], color = 'C0', label = 'Young', s = 10)\n",
    "ax.scatter(agedPVPNN, hapln4[6:], color = 'C1', label = 'Aged', s = 10)\n",
    "ax.set_ylabel('Hapln4 FPKM Value', fontsize = 7)\n",
    "ax.set_xlabel('PV+ PNN Density', fontsize = 7)\n",
    "ax.set_ylim([0,2600])\n",
    "ax.set_yticks([0,650,1300,1950,2600])\n",
    "ax.set_xlim([0,7e-5])\n",
    "ax.set_xticks([0,2e-5,4e-5,6e-5])\n",
    "ax.tick_params(labelsize = 6)\n",
    "X_plot = np.linspace(ax.get_xlim()[0],ax.get_xlim()[1],100)\n",
    "plt.show()\n",
    "\n",
    "#Coherence vs PVPNN\n",
    "res = stats.linregress(youngPVPNN,coherence[:nymice],)\n",
    "yslope2 = res.slope; yint2 = res.intercept; yr2 = res.rvalue; yp2 = res.pvalue\n",
    "\n",
    "res = stats.linregress(agedPVPNN,coherence[nymice:])\n",
    "aslope2 = res.slope; aint2 = res.intercept; ar2 = res.rvalue ; ap2 = res.pvalue\n",
    "\n",
    "res = stats.linregress(np.concatenate((youngPVPNN, agedPVPNN)),coherence)\n",
    "allslope2 = res.slope; allint2 = res.intercept; allr2 = res.rvalue; allp2 = res.pvalue\n",
    "\n",
    "print('\\nAssociation btwn Young, Aged, & All Decoder Score vs. Coherence:')\n",
    "print('R [Young, Aged, All]: ')\n",
    "print(yr2, ar2, allr2)\n",
    "print('P [Young, MA, Aged, All]: ')\n",
    "print(yp2, ap2, allp2)\n",
    "\n",
    "#Plot Figure 7:bottom\n",
    "fig, ax = plt.subplots(figsize = (1.5,0.75))\n",
    "ax.set_title('Coherence vs. PVPNN Density', fontsize = 8)\n",
    "ax.scatter(youngPVPNN, coherence[:6], color = 'C0', label = 'Young', s = 10)\n",
    "ax.scatter( agedPVPNN,coherence[6:], color = 'C1', label = 'Aged', s = 10)\n",
    "ax.set_ylabel('Mean Coherence', fontsize = 7)\n",
    "ax.set_xlabel('PV+ PNN Density', fontsize = 7)\n",
    "ax.set_ylim([0.59,0.8])\n",
    "ax.set_xlim([0,7e-5])\n",
    "ax.set_xticks([0,2e-5,4e-5,6e-5])\n",
    "ax.set_yticks([0.6,0.65,0.7,0.75,0.8])\n",
    "ax.tick_params(labelsize = 6)\n",
    "X_plot = np.linspace(ax.get_xlim()[0],ax.get_xlim()[1],100)\n",
    "plt.show()\n"
   ]
  },
  {
   "cell_type": "markdown",
   "id": "78de06aa",
   "metadata": {},
   "source": [
    "# Extended Data Fig. 8B-C, Q Visualizations of SM Transcriptomic Data Correlates of Spatial Coding and Memory\n"
   ]
  },
  {
   "cell_type": "code",
   "execution_count": 19,
   "id": "dbe744ab",
   "metadata": {},
   "outputs": [
    {
     "name": "stdout",
     "output_type": "stream",
     "text": [
      "            Gene         r         T         p  sig  sigFDR\n",
      "0  RP24-359F24.1 -0.750228  4.538722  0.000336    1       0\n",
      "1           Mpnd  0.735185  4.338234  0.000509    1       0\n",
      "2            Dxo  0.726502  4.228984  0.000639    1       0\n",
      "3       Tmem106a -0.713216  4.070028  0.000891    1       0\n",
      "4           Mtpn -0.706642  3.994748  0.001043    1       0\n",
      "\n",
      "n FDR-corrected sig negative vs. positive coherence correlates: \n",
      "301 vs. 219\n"
     ]
    },
    {
     "data": {
      "image/png": "[encoded data removed]",
      "text/plain": [
       "<Figure size 135x200 with 2 Axes>"
      ]
     },
     "metadata": {},
     "output_type": "display_data"
    }
   ],
   "source": [
    "''' Plot Extended Data Fig. 8B Left\n",
    "\n",
    "In Illustrator, the y-axis line was moved to be centered between these panels at the axis break, and y-axis tick labels were \n",
    "move to the right side of the axis for improved visibility.\n",
    "\n",
    "'''\n",
    "#Gather Data\n",
    "s8cbehavior = pd.read_csv('C:/Users/Python/Desktop/Dryad/S8C_Left.csv') # adjust path name\n",
    "print(s8cbehavior.head())\n",
    "\n",
    "sigcorrR = np.array(s8cbehavior.loc[(s8cbehavior.sig == 1),'r'])\n",
    "nscorrR = np.array(s8cbehavior.loc[(s8cbehavior.sig == 0),'r'])\n",
    "\n",
    "sigcorrp = np.array(s8cbehavior.loc[(s8cbehavior.sig == 1),'p'])\n",
    "nscorrp = np.array(s8cbehavior.loc[(s8cbehavior.sig == 0),'p'])\n",
    "\n",
    "mtpnp = np.array(s8cbehavior.loc[(s8cbehavior.Gene == 'Mtpn'),'p'])\n",
    "mtpnr = np.array(s8cbehavior.loc[(s8cbehavior.Gene == 'Mtpn'),'r'])\n",
    "\n",
    "print('\\nn FDR-corrected sig negative vs. positive coherence correlates: ')\n",
    "print(str(len(np.array(s8cbehavior.loc[(s8cbehavior.sig == 1) & (s8cbehavior.r < 0),'Gene']))) + ' vs. ' + str(len(np.array(s8cbehavior.loc[(s8cbehavior.sig == 1) & (s8cbehavior.r > 0),'Gene']))))\n",
    "\n",
    "plt.rcParams['ytick.right'] = plt.rcParams['ytick.labelright'] = False \n",
    "plt.rcParams['ytick.left'] = plt.rcParams['ytick.labelleft'] = True\n",
    "\n",
    "#Plot data\n",
    "fig, (ax1,ax2) = plt.subplots(1,2, figsize = (1.35,2),sharey = True)\n",
    "fig.subplots_adjust(wspace = 0.2)\n",
    "\n",
    "ax1.scatter(sigcorrR,-1*np.log10(sigcorrp), color = 'C2', alpha = 0.5, s = 5)\n",
    "ax1.scatter(nscorrR,-1*np.log10(nscorrp), color = 'grey', alpha = 0.5, s = 5)\n",
    "ax1.set_xlim([-0.8,-0.15])\n",
    "ax1.set_xticks([-0.75,-0.5,-0.25])\n",
    "ax1.yaxis.tick_right()\n",
    "ax1.tick_params(labelsize = 6)\n",
    "ax1.spines.right.set_visible(False)\n",
    "\n",
    "ax2.scatter(sigcorrR,-1*np.log10(sigcorrp), color = 'C2', alpha = 0.5, s = 5)\n",
    "ax2.scatter(nscorrR,-1*np.log10(nscorrp), color = 'grey', alpha = 0.5, s = 5)\n",
    "ax2.set_xlim([0.15,0.8])\n",
    "ax2.set_xticks([0.25,0.5,0.75])\n",
    "ax2.set_ylim([0.5,3.6])\n",
    "ax2.set_yticks([0.5,1,1.5,2,2.5,3,3.5])\n",
    "ax2.spines.left.set_visible(False)\n",
    "ax2.tick_params(labelleft = True, labelsize = 6)\n",
    "ax2.yaxis.tick_left()\n",
    "ax2.yaxis.set_label_position('left')\n",
    "ax2.set_yticks([1.0,1.5,2.0,2.5,3.0,3.5])\n",
    "ax2.set_yticklabels([1.0,1.5,2.0,2.5,3.0,3.5])\n",
    "\n",
    "#add vertical / horizontal lines at p < 0.05 threshold \n",
    "ax1.hlines(np.max(-1*np.log10(nscorrp)),-1,1,'k','--',alpha = 0.5)\n",
    "ax2.hlines(np.max(-1*np.log10(nscorrp)),-1,1,'k','--',alpha = 0.5)\n",
    "ax1.vlines(np.min(nscorrR),0.5,3.6,'k','--',alpha = 0.5)\n",
    "ax2.vlines(np.max(nscorrR),0.5,3.6,'k','--',alpha = 0.5)\n",
    "ax2.vlines(0.15,0.5,3.6,'k','-',alpha = 1.0)\n",
    "\n",
    "#annotate with gene plotted in S8C\n",
    "ax1.annotate('Mtpn',(mtpnr,-1*np.log10(mtpnp)),fontsize = 6)\n",
    "\n",
    "#annotate with correlate nummbers\n",
    "ax1.annotate(str(len(np.array(s8cbehavior.loc[(s8cbehavior.sig == 1) & (s8cbehavior.r < 0),'Gene']))), (-0.78, 1.4), fontsize = 6)\n",
    "ax2.annotate(str(len(np.array(s8cbehavior.loc[(s8cbehavior.sig == 1) & (s8cbehavior.r > 0),'Gene']))), (0.6, 1.4), fontsize = 6)\n",
    "\n",
    "#add slanted line break\n",
    "d = 0.5\n",
    "kwargs = dict(marker=[(-1,-d),(1,d)], markersize = 12, linestyle = \"none\",color = 'k', mec = 'k', mew = 1, clip_on=False)\n",
    "ax1.plot([1.08,1.22],[0,0], transform=ax1.transAxes,**kwargs)\n",
    "#ax2.plot([0,1],[1,1], transform=ax2.transAxes,**kwargs)\n",
    "\n",
    "plt.savefig(save_folder + 'S8Bleft.png', dpi = 400, bbox_inches = 'tight')\n",
    "plt.savefig(save_folder + 'S8Bleft.svg', dpi = 400, bbox_inches = 'tight')\n",
    "plt.show()\n"
   ]
  },
  {
   "cell_type": "code",
   "execution_count": 20,
   "id": "008c2e3a",
   "metadata": {},
   "outputs": [
    {
     "name": "stdout",
     "output_type": "stream",
     "text": [
      "            Gene         r         T         p  sig  sigFDR\n",
      "0       Mettl21b -0.791457  5.179475  0.000091    1       0\n",
      "1           Mtpn -0.785361  5.074717  0.000113    1       0\n",
      "2       Tmem106a -0.748651  4.516986  0.000351    1       0\n",
      "3  RP24-359F24.1 -0.747417  4.500109  0.000363    1       0\n",
      "4            Gss  0.728026  4.247834  0.000614    1       0\n",
      "\n",
      "n FDR-corrected sig negative vs. positive coherence correlates: \n",
      "379 vs. 247\n"
     ]
    },
    {
     "data": {
      "image/png": "[encoded data removed]",
      "text/plain": [
       "<Figure size 135x200 with 2 Axes>"
      ]
     },
     "metadata": {},
     "output_type": "display_data"
    }
   ],
   "source": [
    "''' Plot Extended Data Fig. 8B Middle\n",
    "\n",
    "In Illustrator, the y-axis line was moved to be centered between these panels at the axis break, and y-axis tick labels were \n",
    "move to the right side of the axis for improved visibility.\n",
    "\n",
    "'''\n",
    "#Gather Data\n",
    "s8cfracaligned = pd.read_csv('C:/Users/Python/Desktop/Dryad/S8C_Middle.csv') # adjust path name\n",
    "print(s8cfracaligned.head())\n",
    "\n",
    "sigcorrR = np.array(s8cfracaligned.loc[(s8cfracaligned.sig == 1),'r'])\n",
    "nscorrR = np.array(s8cfracaligned.loc[(s8cfracaligned.sig == 0),'r'])\n",
    "\n",
    "sigcorrp = np.array(s8cfracaligned.loc[(s8cfracaligned.sig == 1),'p'])\n",
    "nscorrp = np.array(s8cfracaligned.loc[(s8cfracaligned.sig == 0),'p'])\n",
    "\n",
    "mtpnp = np.array(s8cfracaligned.loc[(s8cfracaligned.Gene == 'Mtpn'),'p'])\n",
    "mtpnr = np.array(s8cfracaligned.loc[(s8cfracaligned.Gene == 'Mtpn'),'r'])\n",
    "\n",
    "print('\\nn FDR-corrected sig negative vs. positive coherence correlates: ')\n",
    "print(str(len(np.array(s8cfracaligned.loc[(s8cfracaligned.sig == 1) & (s8cfracaligned.r < 0),'Gene']))) + ' vs. ' + str(len(np.array(s8cfracaligned.loc[(s8cfracaligned.sig == 1) & (s8cfracaligned.r > 0),'Gene']))))\n",
    "\n",
    "plt.rcParams['ytick.right'] = plt.rcParams['ytick.labelright'] = False \n",
    "plt.rcParams['ytick.left'] = plt.rcParams['ytick.labelleft'] = True\n",
    "\n",
    "#Plot data\n",
    "fig, (ax1,ax2) = plt.subplots(1,2, figsize = (1.35,2),sharey = True)\n",
    "fig.subplots_adjust(wspace = 0.2)\n",
    "\n",
    "ax1.scatter(sigcorrR,-1*np.log10(sigcorrp), color = 'C2', alpha = 0.5, s = 5)\n",
    "ax1.scatter(nscorrR,-1*np.log10(nscorrp), color = 'grey', alpha = 0.5, s = 5)\n",
    "ax1.set_xlim([-0.8,-0.15])\n",
    "ax1.set_xticks([-0.75,-0.5,-0.25])\n",
    "ax1.yaxis.tick_right()\n",
    "ax1.tick_params(labelsize = 6)\n",
    "ax1.spines.right.set_visible(False)\n",
    "\n",
    "ax2.scatter(sigcorrR,-1*np.log10(sigcorrp), color = 'C2', alpha = 0.5, s = 5)\n",
    "ax2.scatter(nscorrR,-1*np.log10(nscorrp), color = 'grey', alpha = 0.5, s = 5)\n",
    "ax2.set_xlim([0.15,0.8])\n",
    "ax2.set_xticks([0.25,0.5,0.75])\n",
    "ax2.set_ylim([0.5,4.1])\n",
    "ax2.set_yticks([0.5,1,1.5,2,2.5,3,3.5,4])\n",
    "ax2.spines.left.set_visible(False)\n",
    "ax2.tick_params(labelleft = True, labelsize = 6)\n",
    "ax2.yaxis.tick_left()\n",
    "ax2.yaxis.set_label_position('left')\n",
    "ax2.set_yticks([1.0,1.5,2.0,2.5,3.0,3.5,4])\n",
    "ax2.set_yticklabels([1.0,1.5,2.0,2.5,3.0,3.5,4.0])\n",
    "\n",
    "#add vertical / horizontal lines at p < 0.05 threshold \n",
    "ax1.hlines(np.max(-1*np.log10(nscorrp)),-1,1,'k','--',alpha = 0.5)\n",
    "ax2.hlines(np.max(-1*np.log10(nscorrp)),-1,1,'k','--',alpha = 0.5)\n",
    "ax1.vlines(np.min(nscorrR),0.5,4.1,'k','--',alpha = 0.5)\n",
    "ax2.vlines(np.max(nscorrR),0.5,4.1,'k','--',alpha = 0.5)\n",
    "ax2.vlines(0.15,0.5,4.1,'k','-',alpha = 1.0)\n",
    "\n",
    "#annotate with gene plotted in S8C\n",
    "ax1.annotate('Mtpn',(mtpnr,-1*np.log10(mtpnp)),fontsize = 6)\n",
    "\n",
    "#annotate with correlate nummbers\n",
    "ax1.annotate(str(len(np.array(s8cfracaligned.loc[(s8cfracaligned.sig == 1) & (s8cfracaligned.r < 0),'Gene']))), (-0.78, 1.4), fontsize = 6)\n",
    "ax2.annotate(str(len(np.array(s8cfracaligned.loc[(s8cfracaligned.sig == 1) & (s8cfracaligned.r > 0),'Gene']))), (0.6, 1.4), fontsize = 6)\n",
    "\n",
    "#add slanted line break\n",
    "d = 0.5\n",
    "kwargs = dict(marker=[(-1,-d),(1,d)], markersize = 12, linestyle = \"none\",color = 'k', mec = 'k', mew = 1, clip_on=False)\n",
    "ax1.plot([1.08,1.22],[0,0], transform=ax1.transAxes,**kwargs)\n",
    "#ax2.plot([0,1],[1,1], transform=ax2.transAxes,**kwargs)\n",
    "\n",
    "plt.savefig(save_folder + 'S8Bmiddle.png', dpi = 400, bbox_inches = 'tight')\n",
    "plt.savefig(save_folder + 'S8Bmiddle.svg', dpi = 400, bbox_inches = 'tight')\n",
    "plt.show()\n"
   ]
  },
  {
   "cell_type": "code",
   "execution_count": 21,
   "id": "de1e406c",
   "metadata": {},
   "outputs": [
    {
     "name": "stdout",
     "output_type": "stream",
     "text": [
      "      Gene         r         T         p  sig  sigFDR\n",
      "0    Ssbp4 -0.869941  7.056121  0.000003    1       1\n",
      "1   Gabra2 -0.869417  7.038677  0.000003    1       1\n",
      "2  Dynlt1b -0.865978  6.926675  0.000003    1       1\n",
      "3  Gm15446  0.853121  6.540908  0.000007    1       1\n",
      "4    Pcid2 -0.817698  5.681932  0.000034    1       0\n",
      "\n",
      "n FDR-corrected sig negative vs. positive coherence correlates: \n",
      "616 vs. 422\n"
     ]
    },
    {
     "data": {
      "image/png": "[encoded data removed]",
      "text/plain": [
       "<Figure size 135x200 with 2 Axes>"
      ]
     },
     "metadata": {},
     "output_type": "display_data"
    }
   ],
   "source": [
    "''' Plot Extended Data Fig. 8B Right\n",
    "\n",
    "In Illustrator, the y-axis line was moved to be centered between these panels at the axis break, and y-axis tick labels were \n",
    "move to the right side of the axis for improved visibility.\n",
    "\n",
    "'''\n",
    "#Gather Data\n",
    "s8cremap = pd.read_csv('C:/Users/Python/Desktop/Dryad/S8C_Right.csv') # adjust path name\n",
    "print(s8cremap.head())\n",
    "\n",
    "sigFDRcorrR = np.array(s8cremap.loc[(s8cremap.sig == 1) & (s8cremap.sigFDR == 1),'r'])\n",
    "sigcorrR = np.array(s8cremap.loc[(s8cremap.sig == 1) & (s8cremap.sigFDR == 0),'r'])\n",
    "nscorrR = np.array(s8cremap.loc[(s8cremap.sig == 0),'r'])\n",
    "\n",
    "sigFDRcorrp = np.array(s8cremap.loc[(s8cremap.sig == 1) & (s8cremap.sigFDR == 1),'p'])\n",
    "sigcorrp = np.array(s8cremap.loc[(s8cremap.sig == 1) & (s8cremap.sigFDR == 0),'p'])\n",
    "nscorrp = np.array(s8cremap.loc[(s8cremap.sig == 0),'p'])\n",
    "\n",
    "gabra2p = np.array(s8cremap.loc[(s8cremap.Gene == 'Gabra2'),'p'])\n",
    "gabra2r = np.array(s8cremap.loc[(s8cremap.Gene == 'Gabra2'),'r'])\n",
    "\n",
    "print('\\nn FDR-corrected sig negative vs. positive coherence correlates: ')\n",
    "print(str(len(np.array(s8cremap.loc[(s8cremap.sig == 1) & (s8cremap.r < 0),'Gene']))) + ' vs. ' + str(len(np.array(s8cremap.loc[(s8cremap.sig == 1) & (s8cremap.r > 0),'Gene']))))\n",
    "\n",
    "plt.rcParams['ytick.right'] = plt.rcParams['ytick.labelright'] = False \n",
    "plt.rcParams['ytick.left'] = plt.rcParams['ytick.labelleft'] = True\n",
    "\n",
    "#Plot data\n",
    "fig, (ax1,ax2) = plt.subplots(1,2, figsize = (1.35,2),sharey = True)\n",
    "fig.subplots_adjust(wspace = 0.2)\n",
    "ax1.scatter(sigFDRcorrR,-1*np.log10(sigFDRcorrp), color = 'C1', alpha = 0.5, s = 5)\n",
    "ax1.scatter(sigcorrR,-1*np.log10(sigcorrp), color = 'C2', alpha = 0.5, s = 5)\n",
    "ax1.scatter(nscorrR,-1*np.log10(nscorrp), color = 'grey', alpha = 0.5, s = 5)\n",
    "ax1.set_xlim([-0.9,-0.15])\n",
    "ax1.set_xticks([-0.9,-0.6,-0.3])\n",
    "ax1.yaxis.tick_right()\n",
    "ax1.tick_params(labelsize = 6)\n",
    "ax1.spines.right.set_visible(False)\n",
    "\n",
    "ax2.scatter(sigFDRcorrR,-1*np.log10(sigFDRcorrp), color = 'C1', alpha = 0.5, s = 5)\n",
    "ax2.scatter(sigcorrR,-1*np.log10(sigcorrp), color = 'C2', alpha = 0.5, s = 5)\n",
    "ax2.scatter(nscorrR,-1*np.log10(nscorrp), color = 'grey', alpha = 0.5, s = 5)\n",
    "ax2.set_xlim([0.15,0.9])\n",
    "ax2.set_xticks([0.3,0.6,0.9])\n",
    "ax2.set_ylim([0.5,5.7])\n",
    "ax2.set_yticks([0.5,1,1.5,2,2.5,3,3.5,4,4.5,5,5.5])\n",
    "ax2.spines.left.set_visible(False)\n",
    "ax2.tick_params(labelleft = True, labelsize = 6)\n",
    "ax2.yaxis.tick_left()\n",
    "ax2.yaxis.set_label_position('left')\n",
    "ax2.set_yticks([1.0,1.5,2.0,2.5,3.0,3.5,4,4.5,5,5.5])\n",
    "ax2.set_yticklabels([1.0,1.5,2.0,2.5,3.0,3.5,4.0,4.5,5.0,5.5])\n",
    "\n",
    "#add vertical / horizontal lines at p < 0.05 threshold \n",
    "ax1.hlines(np.max(-1*np.log10(nscorrp)),-1,1,'k','--',alpha = 0.5)\n",
    "ax2.hlines(np.max(-1*np.log10(nscorrp)),-1,1,'k','--',alpha = 0.5)\n",
    "ax1.vlines(np.min(nscorrR),0.5,5.7,'k','--',alpha = 0.5)\n",
    "ax2.vlines(np.max(nscorrR),0.5,5.7,'k','--',alpha = 0.5)\n",
    "ax2.vlines(0.15,0.5,5.6,'k','-',alpha = 1.0)\n",
    "\n",
    "#annotate with gene plotted in S8C\n",
    "ax1.annotate('Gabra2',(gabra2r,-1*np.log10(gabra2p)),fontsize = 6)\n",
    "\n",
    "#annotate with correlate nummbers\n",
    "ax1.annotate(str(len(np.array(s8cremap.loc[(s8cremap.sig == 1) & (s8cremap.r < 0),'Gene']))), (-0.85, 1.4), fontsize = 6)\n",
    "ax2.annotate(str(len(np.array(s8cremap.loc[(s8cremap.sig == 1) & (s8cremap.r > 0),'Gene']))), (0.65, 1.4), fontsize = 6)\n",
    "\n",
    "#add slanted line break\n",
    "d = 0.5\n",
    "kwargs = dict(marker=[(-1,-d),(1,d)], markersize = 12, linestyle = \"none\",color = 'k', mec = 'k', mew = 1, clip_on=False)\n",
    "ax1.plot([1.08,1.22],[0,0], transform=ax1.transAxes,**kwargs)\n",
    "#ax2.plot([0,1],[1,1], transform=ax2.transAxes,**kwargs)\n",
    "\n",
    "plt.savefig(save_folder + 'S8Bright.png', dpi = 400, bbox_inches = 'tight')\n",
    "plt.savefig(save_folder + 'S8Bright.svg', dpi = 400, bbox_inches = 'tight')\n",
    "plt.show()\n"
   ]
  },
  {
   "cell_type": "code",
   "execution_count": 11,
   "id": "72404006",
   "metadata": {},
   "outputs": [
    {
     "name": "stdout",
     "output_type": "stream",
     "text": [
      "\n",
      "Association btwn Young, MA, Aged, & All Mtpn vs. Change in Alt Frac. Req\n",
      "R [Young, Aged, All]: \n",
      "-0.6073658832297203 0.2269916366302728 0.6881929495886212 -0.7066421464280799\n",
      "P [Young, MA, Aged, All]: \n",
      "0.20097778253419524 0.6653604401442892 0.13067794733666344 0.0010434830929581397\n"
     ]
    },
    {
     "data": {
      "image/png": "[encoded data removed]",
      "text/plain": [
       "<Figure size 135x75 with 1 Axes>"
      ]
     },
     "metadata": {},
     "output_type": "display_data"
    },
    {
     "name": "stdout",
     "output_type": "stream",
     "text": [
      "\n",
      "Association btwn Young, MA, Aged, & All Change in Alt. Frac ALigned:\n",
      "R [Young, Aged, All]: \n",
      "-0.854772189082721 -0.230145408595067 0.2840847557220249 -0.785360883938715\n",
      "P [Young, MA, Aged, All]: \n",
      "0.030105167215247728 0.6608769325755178 0.5853362755637253 0.00011259646759687579\n"
     ]
    },
    {
     "data": {
      "image/png": "[encoded data removed]",
      "text/plain": [
       "<Figure size 135x75 with 1 Axes>"
      ]
     },
     "metadata": {},
     "output_type": "display_data"
    },
    {
     "name": "stdout",
     "output_type": "stream",
     "text": [
      "\n",
      "Association btwn Young, MA, Aged, & All Alt. Remapping Freq:\n",
      "R [Young, Aged, All]: \n",
      "-0.028544379590161168 0.1999932886870057 -0.3883781874264254 -0.8694166848386659\n",
      "P [Young, MA, Aged, All]: \n",
      "0.9571950593324833 0.7040096643042242 0.4467237389002676 2.799733649282276e-06\n"
     ]
    },
    {
     "data": {
      "image/png": "[encoded data removed]",
      "text/plain": [
       "<Figure size 135x75 with 1 Axes>"
      ]
     },
     "metadata": {},
     "output_type": "display_data"
    }
   ],
   "source": [
    "''' Plot Extended Data Fig. 8C '''\n",
    "nymice = 6\n",
    "nmamice = 6\n",
    "\n",
    "# Arrays below correspond to the following rows of Supplemental Information Table S2 rows, where each value is from a mouse:\n",
    "## SEE TAB 2\n",
    "#From C1:T1:\n",
    "behavior = [0.257799,0.311668,0.321791,0.319969,0.303089,0.322289,0.421861,0.41576,0.445066,0.403321,0.415839,0.432759,0.060951,0.055986,0.087271,0.025026,0.04029,0.050669]\n",
    "#From C2:T2:\n",
    "fracaligned = [0.126553,0.151863,0.151863,0.126553,0.151863,0.126552,0.154545,0.110389,0.154545,0.176623,0.132467,0.132467,-0.049954,-0.039964,-0.049955,-0.059946,-0.059946,-0.059946]\n",
    "#From C3:T3:\n",
    "remapfreq = [0.071971,0.0754,0.0754,0.091645,0.095074,0.091645,0.15783,0.128946,0.132446,0.142946,0.15223,0.15643,0.131168,0.123771,0.145961,0.158238,0.158238,0.158238]\n",
    "#From C9:T9:\n",
    "mtpn = [2077.613307,1680.409735,1713.971316,1844.118878,1780.820656,1984.860489,2156.837812,1836.161707,1989.678908,1551.350236,2253.11969,1692.371425,3704.186916,2657.341693,3136.999221,1854.415688,2804.86934,3012.776551]\n",
    "#From C8341:T8341:\n",
    "gabra2 = [15759.13646,11235.44523,23606.63313,11091.98657,16717.31204,21455.4798,1805.136953,2082.048142,1039.74403,1169.752883,936.5640468,2444.497356,4344.601994,1139.070836,2915.195789,1792.112699,886.1942631,1413.803835]\n",
    "#From C9011:T9011:\n",
    "egr1 = [1046.813834,1910.143313,1768.46177,3563.943914,1109.375195,2482.352907,3174.649182,1696.101779,1399.826301,1650.854012,2792.348611,2125.798969,3330.430531,3189.258313,4443.43422,1391.719477,1725.042651,1479.942271]\n",
    "#From C6839:T6839:\n",
    "arc = [2596.988733,3534.566302,4750.366731,4492.280658,2835.214967,3518.543982,4309.795667,4478.890383,1159.850154,3494.217766,4256.690128,704.435914,6758.533199,6395.058947,5332.508232,2742.934978,1934.945579,2245.915838]\n",
    "\n",
    "## Assess correlation of behavior vs. expression\n",
    "res = stats.linregress(behavior[:nymice],mtpn[:nymice])\n",
    "yslope2 = res.slope; yint2 = res.intercept; yr2 = res.rvalue; yp2 = res.pvalue\n",
    "\n",
    "res = stats.linregress(behavior[nymice:(nymice + nmamice)],mtpn[nymice:(nymice + nmamice)])\n",
    "maslope2 = res.slope; maint2 = res.intercept; mar2 = res.rvalue ; map2 = res.pvalue\n",
    "\n",
    "res = stats.linregress(behavior[(nymice + nmamice):],mtpn[(nymice + nmamice):])\n",
    "aslope2 = res.slope; aint2 = res.intercept; ar2 = res.rvalue ; ap2 = res.pvalue\n",
    "\n",
    "res = stats.linregress(behavior,mtpn)\n",
    "allslope2 = res.slope; allint2 = res.intercept; allr2 = res.rvalue; allp2 = res.pvalue\n",
    "\n",
    "print('\\nAssociation btwn Young, MA, Aged, & All Mtpn vs. Change in Alt Frac. Req')\n",
    "print('R [Young, Aged, All]: ')\n",
    "print(yr2, mar2, ar2, allr2)\n",
    "print('P [Young, MA, Aged, All]: ')\n",
    "print(yp2, map2, ap2, allp2)\n",
    "\n",
    "#Plot Extended Data Fig. 8Cleft\n",
    "fig, ax = plt.subplots(figsize = (1.35,0.75))\n",
    "ax.set_title('Mtpn', fontsize = 8)\n",
    "ax.scatter(behavior[:nymice],mtpn[:nymice], color = 'C0', label = 'Young', s = 10)\n",
    "ax.scatter(behavior[nymice:(nymice+nmamice)],mtpn[nymice:(nymice+nmamice)], color = 'C2', label = 'MA', s = 10)\n",
    "ax.scatter(behavior[(nymice+nmamice):],mtpn[(nymice+nmamice):], color = 'C1', label = 'Aged', s = 10)\n",
    "ax.set_xlabel('in Alt. Frac. Requested', fontsize = 7)\n",
    "ax.set_ylabel('FPKM Value', fontsize = 7)\n",
    "ax.set_xlim([-0.05,0.55])\n",
    "ax.set_ylim([1000,4000])\n",
    "ax.set_yticks([1000,2000,3000,4000])\n",
    "ax.set_xticks([0,0.1,0.2,0.3,0.4,0.5])\n",
    "ax.tick_params(labelsize = 6)\n",
    "X_plot = np.linspace(ax.get_xlim()[0],ax.get_xlim()[1],100)\n",
    "#ax.plot(X_plot, yslope2*X_plot + yint2, '--', linewidth = 0.75, color = 'C0', label = 'Young Fit')\n",
    "#ax.plot(X_plot, aslope2*X_plot + aint2, '--', linewidth = 0.75, color = 'C1', label = 'Aged')\n",
    "ax.plot(X_plot, allslope2*X_plot + allint2, '-', linewidth = 1, color = 'k', label = 'All Ages')\n",
    "#ax.legend(loc = 4, fontsize = 9, prop = {'size': 10})\n",
    "plt.savefig(save_folder + 'S8Cleft.png', dpi = 400, bbox_inches = 'tight')\n",
    "plt.savefig(save_folder + 'S8Cleft.svg', dpi = 400, bbox_inches = 'tight')\n",
    "plt.show()\n",
    "\n",
    "## Assess correlation of fracaligned vs. expression\n",
    "res = stats.linregress(fracaligned[:nymice],mtpn[:nymice])\n",
    "yslope2 = res.slope; yint2 = res.intercept; yr2 = res.rvalue; yp2 = res.pvalue\n",
    "\n",
    "res = stats.linregress(fracaligned[nymice:(nymice+nmamice)],mtpn[nymice:(nymice+nmamice)])\n",
    "maslope2 = res.slope; maint2 = res.intercept; mar2 = res.rvalue ; map2 = res.pvalue\n",
    "\n",
    "res = stats.linregress(fracaligned[(nymice+nmamice):],mtpn[(nymice+nmamice):])\n",
    "aslope2 = res.slope; aint2 = res.intercept; ar2 = res.rvalue ; ap2 = res.pvalue\n",
    "\n",
    "res = stats.linregress(fracaligned, mtpn)\n",
    "allslope2 = res.slope; allint2 = res.intercept; allr2 = res.rvalue; allp2 = res.pvalue\n",
    "\n",
    "print('\\nAssociation btwn Young, MA, Aged, & All Change in Alt. Frac ALigned:')\n",
    "print('R [Young, Aged, All]: ')\n",
    "print(yr2, mar2, ar2, allr2)\n",
    "print('P [Young, MA, Aged, All]: ')\n",
    "print(yp2, map2, ap2, allp2)\n",
    "\n",
    "#Plot Extended Data Fig. 8Cmiddle\n",
    "fig, ax = plt.subplots(figsize = (1.35,0.75))\n",
    "ax.set_title('Mtpn', fontsize = 8)\n",
    "ax.scatter(fracaligned[:nymice],mtpn[:nymice], color = 'C0', label = 'Young', s = 10)\n",
    "ax.scatter(fracaligned[nymice:(nymice+nmamice)],mtpn[nymice:(nymice+nmamice)], color = 'C2', label = 'MA', s = 10)\n",
    "ax.scatter(fracaligned[(nymice+nmamice):],mtpn[(nymice+nmamice):], color = 'C1', label = 'Aged', s = 10)\n",
    "ax.set_xlabel('in Alt. Frac. Aligned', fontsize = 7)\n",
    "ax.set_ylabel('FPKM Value', fontsize = 7)\n",
    "ax.set_xlim([-0.1,0.2])\n",
    "ax.set_ylim([1000,4000])\n",
    "ax.set_yticks([1000,2000,3000,4000])\n",
    "ax.set_xticks([-0.1,0,0.1,0.2])\n",
    "ax.tick_params(labelsize = 6)\n",
    "X_plot = np.linspace(ax.get_xlim()[0],ax.get_xlim()[1],100)\n",
    "#ax.plot(X_plot, yslope2*X_plot + yint2, '--', linewidth = 0.75, color = 'C0', label = 'Young Fit')\n",
    "#ax.plot(X_plot, aslope2*X_plot + aint2, '--', linewidth = 0.75, color = 'C1', label = 'Aged')\n",
    "ax.plot(X_plot, allslope2*X_plot + allint2, '-', linewidth = 1, color = 'k', label = 'All Ages')\n",
    "#ax.legend(loc = 4, fontsize = 9, prop = {'size': 10})\n",
    "plt.savefig(save_folder + 'S8Cmiddle.png', dpi = 400, bbox_inches = 'tight')\n",
    "plt.savefig(save_folder + 'S8Cmiddle.svg', dpi = 400, bbox_inches = 'tight')\n",
    "plt.show()\n",
    "\n",
    "## Assess correlation of remapping frequency vs. expression\n",
    "res = stats.linregress(remapfreq[:nymice],gabra2[:nymice])\n",
    "yslope2 = res.slope; yint2 = res.intercept; yr2 = res.rvalue; yp2 = res.pvalue\n",
    "\n",
    "res = stats.linregress(remapfreq[nymice:(nymice+nmamice)],gabra2[nymice:(nymice+nmamice)])\n",
    "maslope2 = res.slope; maint2 = res.intercept; mar2 = res.rvalue ; map2 = res.pvalue\n",
    "\n",
    "res = stats.linregress(remapfreq[(nymice+nmamice):],gabra2[(nymice+nmamice):])\n",
    "aslope2 = res.slope; aint2 = res.intercept; ar2 = res.rvalue ; ap2 = res.pvalue\n",
    "\n",
    "res = stats.linregress(remapfreq, gabra2)\n",
    "allslope2 = res.slope; allint2 = res.intercept; allr2 = res.rvalue; allp2 = res.pvalue\n",
    "\n",
    "print('\\nAssociation btwn Young, MA, Aged, & All Alt. Remapping Freq:')\n",
    "print('R [Young, Aged, All]: ')\n",
    "print(yr2, mar2, ar2, allr2)\n",
    "print('P [Young, MA, Aged, All]: ')\n",
    "print(yp2, map2, ap2, allp2)\n",
    "\n",
    "#Plot Extended Data Fig. 8Cright\n",
    "fig, ax = plt.subplots(figsize = (1.35,0.75))\n",
    "ax.set_title('Gabra2', fontsize = 8)\n",
    "ax.scatter(remapfreq[:nymice],gabra2[:nymice], color = 'C0', label = 'Young', s = 10)\n",
    "ax.scatter(remapfreq[nymice:(nymice+nmamice)],gabra2[nymice:(nymice+nmamice)], color = 'C2', label = 'MA', s = 10)\n",
    "ax.scatter(remapfreq[(nymice+nmamice):],gabra2[(nymice+nmamice):], color = 'C1', label = 'Aged', s = 10)\n",
    "ax.set_xlabel('Alt. Remaps / Trial', fontsize = 7)\n",
    "ax.set_ylabel('FPKM Value (x 1e3)', fontsize = 7)\n",
    "ax.set_xlim([0.06,0.17])\n",
    "ax.set_ylim([-100,27500])\n",
    "ax.set_yticks([0,5000,10000,15000,20000,25000])\n",
    "ax.set_yticklabels([0,5,1,15,20,25])\n",
    "ax.set_xticks([0.06,0.08,0.10,0.12,0.14,0.16])\n",
    "ax.tick_params(labelsize = 6)\n",
    "X_plot = np.linspace(ax.get_xlim()[0],ax.get_xlim()[1],100)\n",
    "#ax.plot(X_plot, yslope2*X_plot + yint2, '--', linewidth = 0.75, color = 'C0', label = 'Young Fit')\n",
    "#ax.plot(X_plot, aslope2*X_plot + aint2, '--', linewidth = 0.75, color = 'C1', label = 'Aged')\n",
    "ax.plot(X_plot, allslope2*X_plot + allint2, '-', linewidth = 1, color = 'k', label = 'All Ages')\n",
    "#ax.legend(loc = 4, fontsize = 9, prop = {'size': 10})\n",
    "plt.savefig(save_folder + 'S8Cright.png', dpi = 400, bbox_inches = 'tight')\n",
    "plt.savefig(save_folder + 'S8Cright.svg', dpi = 400, bbox_inches = 'tight')\n",
    "plt.show()"
   ]
  },
  {
   "cell_type": "code",
   "execution_count": 12,
   "id": "5c51c3fc",
   "metadata": {},
   "outputs": [
    {
     "name": "stdout",
     "output_type": "stream",
     "text": [
      "\n",
      "Association btwn Young, MA, Aged, & All egr1 vs. Change in Alt Frac. Req\n",
      "R [Young, Aged, All]: \n",
      "0.634216460836225 -0.1838348522120269 0.9063587652800464 -0.1617133002889403\n",
      "P [Young, MA, Aged, All]: \n",
      "0.17622591690794626 0.7273540943420097 0.012742466209460493 0.5214723933964371\n"
     ]
    },
    {
     "data": {
      "image/png": "[encoded data removed]",
      "text/plain": [
       "<Figure size 135x75 with 1 Axes>"
      ]
     },
     "metadata": {},
     "output_type": "display_data"
    },
    {
     "name": "stdout",
     "output_type": "stream",
     "text": [
      "\n",
      "Association btwn Young, MA, Aged, & All Change in Alt. Frac ALigned:\n",
      "R [Young, Aged, All]: \n",
      "0.10846462738339158 -0.13761243555985495 0.8932595652075174 -0.24021296664450412\n",
      "P [Young, MA, Aged, All]: \n",
      "0.8379410790680981 0.7948843425579956 0.016482205967825073 0.33698917949422813\n"
     ]
    },
    {
     "data": {
      "image/png": "[encoded data removed]",
      "text/plain": [
       "<Figure size 135x75 with 1 Axes>"
      ]
     },
     "metadata": {},
     "output_type": "display_data"
    },
    {
     "name": "stdout",
     "output_type": "stream",
     "text": [
      "\n",
      "Association btwn Young, MA, Aged, & All Alt. Remapping Freq:\n",
      "R [Young, Aged, All]: \n",
      "0.01182672751840573 -0.019627727796524202 -0.9406816391729679 -0.16309873059545577\n",
      "P [Young, MA, Aged, All]: \n",
      "0.9822607358333546 0.9705621890736935 0.005173641089822076 0.5178620980254787\n"
     ]
    },
    {
     "data": {
      "image/png": "[encoded data removed]",
      "text/plain": [
       "<Figure size 135x75 with 1 Axes>"
      ]
     },
     "metadata": {},
     "output_type": "display_data"
    }
   ],
   "source": [
    "''' Plot Extended Data Fig. 8Q ''' \n",
    "MAfemale = [6, 10, 11]\n",
    "MAmale = [7, 8, 9]\n",
    "\n",
    "## Assess correlation of behavior vs. expression\n",
    "res = stats.linregress(behavior[:nymice],egr1[:nymice])\n",
    "yslope2 = res.slope; yint2 = res.intercept; yr2 = res.rvalue; yp2 = res.pvalue\n",
    "\n",
    "res = stats.linregress(behavior[nymice:(nymice+nmamice)],egr1[nymice:(nymice+nmamice)])\n",
    "maslope2 = res.slope; maint2 = res.intercept; mar2 = res.rvalue ; map2 = res.pvalue\n",
    "\n",
    "res = stats.linregress(behavior[(nymice+nmamice):],egr1[(nymice+nmamice):])\n",
    "aslope2 = res.slope; aint2 = res.intercept; ar2 = res.rvalue ; ap2 = res.pvalue\n",
    "\n",
    "res = stats.linregress(behavior,egr1)\n",
    "allslope2 = res.slope; allint2 = res.intercept; allr2 = res.rvalue; allp2 = res.pvalue\n",
    "\n",
    "print('\\nAssociation btwn Young, MA, Aged, & All egr1 vs. Change in Alt Frac. Req')\n",
    "print('R [Young, Aged, All]: ')\n",
    "print(yr2, mar2, ar2, allr2)\n",
    "print('P [Young, MA, Aged, All]: ')\n",
    "print(yp2, map2, ap2, allp2)\n",
    "\n",
    "#Plot Extended Data Fig. 8Qleft\n",
    "fig, ax = plt.subplots(figsize = (1.35,0.75))\n",
    "ax.set_title('Egr1', fontsize = 8)\n",
    "ax.scatter(behavior[:3],egr1[:3], color = 'C0', label = 'Young Female', s = 10)\n",
    "ax.scatter(behavior[3:6],egr1[3:6], color = 'C0', edgecolor = 'k',label = 'Young Male', s = 10)\n",
    "ax.scatter([behavior[x] for x in MAfemale],[egr1[x] for x in MAfemale], color = 'C2', label = 'MA Female', s = 10)\n",
    "ax.scatter([behavior[x] for x in MAmale],[egr1[x] for x in MAmale], color = 'C2', edgecolor = 'k', label = 'MA Male', s = 10)\n",
    "ax.scatter(behavior[12:15],egr1[12:15], color = 'C1', label = 'Aged Female', s = 10)\n",
    "ax.scatter(behavior[15:],egr1[15:], color = 'C1', edgecolor='k', label = 'Aged Male', s = 10)\n",
    "ax.set_xlabel('in Alt. Frac. Requested', fontsize = 7)\n",
    "ax.set_ylabel('FPKM Value', fontsize = 7)\n",
    "ax.set_xlim([-0.05,0.55])\n",
    "ax.set_ylim([0,6000])\n",
    "ax.set_yticks([0,2000,4000,6000])\n",
    "ax.set_xticks([0,0.1,0.2,0.3,0.4,0.5])\n",
    "ax.tick_params(labelsize = 6)\n",
    "X_plot = np.linspace(ax.get_xlim()[0],ax.get_xlim()[1],100)\n",
    "#ax.plot(X_plot, yslope2*X_plot + yint2, '--', linewidth = 0.75, color = 'C0', label = 'Young Fit')\n",
    "ax.plot(X_plot, aslope2*X_plot + aint2, '--', linewidth = 0.75, color = 'C1', label = 'Aged')\n",
    "#ax.plot(X_plot, allslope2*X_plot + allint2, '-', linewidth = 1, color = 'k', label = 'All Ages')\n",
    "#ax.legend(loc = 4, fontsize = 9, prop = {'size': 10})\n",
    "plt.savefig(save_folder + 'S8Qleft.png', dpi = 400, bbox_inches = 'tight')\n",
    "plt.savefig(save_folder + 'S8Qleft.svg', dpi = 400, bbox_inches = 'tight')\n",
    "plt.show()\n",
    "\n",
    "## Assess correlation of frac aligned vs. expression\n",
    "res = stats.linregress(fracaligned[:nymice],arc[:nymice])\n",
    "yslope2 = res.slope; yint2 = res.intercept; yr2 = res.rvalue; yp2 = res.pvalue\n",
    "\n",
    "res = stats.linregress(fracaligned[nymice:(nymice+nmamice)],arc[nymice:(nymice+nmamice)])\n",
    "maslope2 = res.slope; maint2 = res.intercept; mar2 = res.rvalue ; map2 = res.pvalue\n",
    "\n",
    "res = stats.linregress(fracaligned[(nymice+nmamice):],arc[(nymice+nmamice):])\n",
    "aslope2 = res.slope; aint2 = res.intercept; ar2 = res.rvalue ; ap2 = res.pvalue\n",
    "\n",
    "res = stats.linregress(fracaligned, arc)\n",
    "allslope2 = res.slope; allint2 = res.intercept; allr2 = res.rvalue; allp2 = res.pvalue\n",
    "\n",
    "print('\\nAssociation btwn Young, MA, Aged, & All Change in Alt. Frac ALigned:')\n",
    "print('R [Young, Aged, All]: ')\n",
    "print(yr2, mar2, ar2, allr2)\n",
    "print('P [Young, MA, Aged, All]: ')\n",
    "print(yp2, map2, ap2, allp2)\n",
    "\n",
    "#Plot Extended Data Fig. 8Qmiddle\n",
    "fig, ax = plt.subplots(figsize = (1.35,0.75))\n",
    "ax.set_title('Arc', fontsize = 8)\n",
    "ax.scatter(fracaligned[:3],arc[:3], color = 'C0', label = 'Young Female', s = 10)\n",
    "ax.scatter(fracaligned[3:6],arc[3:6], color = 'C0', edgecolor = 'k',label = 'Young Male', s = 10)\n",
    "ax.scatter([fracaligned[x] for x in MAfemale],[arc[x] for x in MAfemale], color = 'C2', label = 'MA Female', s = 10)\n",
    "ax.scatter([fracaligned[x] for x in MAmale],[arc[x] for x in MAmale], color = 'C2', edgecolor = 'k', label = 'MA Male', s = 10)\n",
    "ax.scatter(fracaligned[12:15],arc[12:15], color = 'C1', label = 'Aged Female', s = 10)\n",
    "ax.scatter(fracaligned[15:],arc[15:], color = 'C1', edgecolor='k', label = 'Aged Male', s = 10)\n",
    "ax.set_xlabel('in Alt. Frac. Aligned', fontsize = 7)\n",
    "ax.set_ylabel('FPKM Value', fontsize = 7)\n",
    "ax.set_xlim([-0.1,0.2])\n",
    "ax.set_ylim([0,7500])\n",
    "ax.set_yticks([0,2500,5000,7500])\n",
    "ax.set_xticks([-0.1,0,0.1,0.2])\n",
    "ax.tick_params(labelsize = 6)\n",
    "X_plot = np.linspace(ax.get_xlim()[0],ax.get_xlim()[1],100)\n",
    "#ax.plot(X_plot, yslope2*X_plot + yint2, '--', linewidth = 0.75, color = 'C0', label = 'Young Fit')\n",
    "ax.plot(X_plot, aslope2*X_plot + aint2, '--', linewidth = 0.75, color = 'C1', label = 'Aged')\n",
    "#ax.plot(X_plot, allslope2*X_plot + allint2, '-', linewidth = 1, color = 'k', label = 'All Ages')\n",
    "#ax.legend(loc = 4, fontsize = 9, prop = {'size': 10})\n",
    "plt.savefig(save_folder + 'S8Qmiddle.png', dpi = 400, bbox_inches = 'tight')\n",
    "plt.savefig(save_folder + 'S8Qmiddle.svg', dpi = 400, bbox_inches = 'tight')\n",
    "plt.show()\n",
    "\n",
    "## Assess correlation of remapping freq vs. expression\n",
    "res = stats.linregress(remapfreq[:nymice],arc[:nymice])\n",
    "yslope2 = res.slope; yint2 = res.intercept; yr2 = res.rvalue; yp2 = res.pvalue\n",
    "\n",
    "res = stats.linregress(remapfreq[nymice:(nymice+nmamice)],arc[nymice:(nymice+nmamice)])\n",
    "maslope2 = res.slope; maint2 = res.intercept; mar2 = res.rvalue ; map2 = res.pvalue\n",
    "\n",
    "res = stats.linregress(remapfreq[(nymice+nmamice):],arc[(nymice+nmamice):])\n",
    "aslope2 = res.slope; aint2 = res.intercept; ar2 = res.rvalue ; ap2 = res.pvalue\n",
    "\n",
    "res = stats.linregress(remapfreq, arc)\n",
    "allslope2 = res.slope; allint2 = res.intercept; allr2 = res.rvalue; allp2 = res.pvalue\n",
    "\n",
    "print('\\nAssociation btwn Young, MA, Aged, & All Alt. Remapping Freq:')\n",
    "print('R [Young, Aged, All]: ')\n",
    "print(yr2, mar2, ar2, allr2)\n",
    "print('P [Young, MA, Aged, All]: ')\n",
    "print(yp2, map2, ap2, allp2)\n",
    "\n",
    "#Plot Extended Data Fig. 8Qright\n",
    "fig, ax = plt.subplots(figsize = (1.35,0.75))\n",
    "ax.set_title('Arc', fontsize = 8)\n",
    "ax.scatter(remapfreq[:3],arc[:3], color = 'C0', label = 'Young Female', s = 10)\n",
    "ax.scatter(remapfreq[3:6],arc[3:6], color = 'C0', edgecolor = 'k',label = 'Young Male', s = 10)\n",
    "ax.scatter([remapfreq[x] for x in MAfemale],[arc[x] for x in MAfemale], color = 'C2', label = 'MA Female', s = 10)\n",
    "ax.scatter([remapfreq[x] for x in MAmale],[arc[x] for x in MAmale], color = 'C2', edgecolor = 'k', label = 'MA Male', s = 10)\n",
    "ax.scatter(remapfreq[12:15],arc[12:15], color = 'C1', label = 'Aged Female', s = 10)\n",
    "ax.scatter(remapfreq[15:],arc[15:], color = 'C1', edgecolor='k', label = 'Aged Male', s = 10)\n",
    "ax.set_xlabel('Alt. Remaps / Trial', fontsize = 7)\n",
    "ax.set_ylabel('FPKM Value', fontsize = 7)\n",
    "ax.set_xlim([0.06,0.17])\n",
    "ax.set_ylim([0,7500])\n",
    "ax.set_yticks([0,2500,5000,7500])\n",
    "ax.set_xticks([0.06,0.08,0.10,0.12,0.14,0.16])\n",
    "ax.tick_params(labelsize = 6)\n",
    "X_plot = np.linspace(ax.get_xlim()[0],ax.get_xlim()[1],100)\n",
    "#ax.plot(X_plot, yslope2*X_plot + yint2, '--', linewidth = 0.75, color = 'C0', label = 'Young Fit')\n",
    "ax.plot(X_plot, aslope2*X_plot + aint2, '--', linewidth = 0.75, color = 'C1', label = 'Aged')\n",
    "#ax.plot(X_plot, allslope2*X_plot + allint2, '-', linewidth = 1, color = 'k', label = 'All Ages')\n",
    "#ax.legend(loc = 4, fontsize = 9, prop = {'size': 10})\n",
    "plt.savefig(save_folder + 'S8Qright.png', dpi = 400, bbox_inches = 'tight')\n",
    "plt.savefig(save_folder + 'S8Qright.svg', dpi = 400, bbox_inches = 'tight')\n",
    "plt.show()"
   ]
  },
  {
   "cell_type": "code",
   "execution_count": 27,
   "id": "295a815b",
   "metadata": {},
   "outputs": [
    {
     "name": "stdout",
     "output_type": "stream",
     "text": [
      "\n",
      "Association btwn Young, MA, Aged, & All Alt. Performance:\n",
      "R [Young, Aged, All]: \n",
      "-0.5453447553960097 0.4395551274540668 -0.6921829750468677 -0.5467928308765162\n",
      "P [Young, MA, Aged, All]: \n",
      "0.26307587804873467 0.38313024840918236 0.12754394642912903 0.01886443230900337\n"
     ]
    },
    {
     "data": {
      "image/png": "[encoded data removed]",
      "text/plain": [
       "<Figure size 135x75 with 1 Axes>"
      ]
     },
     "metadata": {},
     "output_type": "display_data"
    },
    {
     "name": "stdout",
     "output_type": "stream",
     "text": [
      "\n",
      "Association btwn Young, MA, Aged, & All Alt. Perforance:\n",
      "R [Young, Aged, All]: \n",
      "-0.4186698284831865 0.5422956939240451 -0.7045217604794975 -0.45942869916573975\n",
      "P [Young, MA, Aged, All]: \n",
      "0.4086884074095442 0.2662968705562852 0.1180623680935859 0.055100594015333626\n"
     ]
    },
    {
     "data": {
      "image/png": "[encoded data removed]",
      "text/plain": [
       "<Figure size 135x75 with 1 Axes>"
      ]
     },
     "metadata": {},
     "output_type": "display_data"
    }
   ],
   "source": [
    "'''Examine relationship between mean performance across sessions and Arc/Egr1 '''\n",
    "mreqalt_rates = np.array([0.92484342, 0.58628842, 0.60842105, 0.64791667, 0.82083333, 0.25208333,\n",
    "                          0.75833333,  0.80625, 0.58333333, 0.59583333, 0.67708333, 0.6875,\n",
    "                          0.32489451, 0.07575758, 0.19578947,0.40208333,0.39808153,0.81666667])\n",
    "\n",
    "## Assess correlation of alt performance vs. egr1\n",
    "res = stats.linregress(mreqalt_rates[:nymice],egr1[:nymice])\n",
    "yslope2 = res.slope; yint2 = res.intercept; yr2 = res.rvalue; yp2 = res.pvalue\n",
    "\n",
    "res = stats.linregress(mreqalt_rates[nymice:(nymice+nmamice)],egr1[nymice:(nymice+nmamice)])\n",
    "maslope2 = res.slope; maint2 = res.intercept; mar2 = res.rvalue ; map2 = res.pvalue\n",
    "\n",
    "res = stats.linregress(mreqalt_rates[(nymice+nmamice):],egr1[(nymice+nmamice):])\n",
    "aslope2 = res.slope; aint2 = res.intercept; ar2 = res.rvalue ; ap2 = res.pvalue\n",
    "\n",
    "res = stats.linregress(mreqalt_rates, egr1)\n",
    "allslope2 = res.slope; allint2 = res.intercept; allr2 = res.rvalue; allp2 = res.pvalue\n",
    "\n",
    "print('\\nAssociation btwn Young, MA, Aged, & All Alt. Performance:')\n",
    "print('R [Young, Aged, All]: ')\n",
    "print(yr2, mar2, ar2, allr2)\n",
    "print('P [Young, MA, Aged, All]: ')\n",
    "print(yp2, map2, ap2, allp2)\n",
    "\n",
    "fig, ax = plt.subplots(figsize = (1.35,0.75))\n",
    "ax.set_title('Egr1', fontsize = 8)\n",
    "ax.scatter(mreqalt_rates[:3],egr1[:3], color = 'C0', label = 'Young Female', s = 10)\n",
    "ax.scatter(mreqalt_rates[3:6],egr1[3:6], color = 'C0', edgecolor = 'k',label = 'Young Male', s = 10)\n",
    "ax.scatter([mreqalt_rates[x] for x in MAfemale],[egr1[x] for x in MAfemale], color = 'C2', label = 'MA Female', s = 10)\n",
    "ax.scatter([mreqalt_rates[x] for x in MAmale],[egr1[x] for x in MAmale], color = 'C2', edgecolor = 'k', label = 'MA Male', s = 10)\n",
    "ax.scatter(mreqalt_rates[12:15],egr1[12:15], color = 'C1', label = 'Aged Female', s = 10)\n",
    "ax.scatter(mreqalt_rates[15:],egr1[15:], color = 'C1', edgecolor='k', label = 'Aged Male', s = 10)\n",
    "ax.set_xlabel('Mean Alt. Frac. Requested', fontsize = 7)\n",
    "ax.set_ylabel('FPKM Value', fontsize = 7)\n",
    "#ax.set_xlim([0.06,0.17])\n",
    "ax.set_ylim([0,6000])\n",
    "ax.set_yticks([0,2000,4000,6000])\n",
    "#ax.set_xticks([0.06,0.08,0.10,0.12,0.14,0.16])\n",
    "ax.tick_params(labelsize = 6)\n",
    "X_plot = np.linspace(ax.get_xlim()[0],ax.get_xlim()[1],100)\n",
    "#ax.plot(X_plot, yslope2*X_plot + yint2, '--', linewidth = 0.75, color = 'C0', label = 'Young Fit')\n",
    "#ax.plot(X_plot, aslope2*X_plot + aint2, '--', linewidth = 0.75, color = 'C1', label = 'Aged')\n",
    "ax.plot(X_plot, allslope2*X_plot + allint2, '-', linewidth = 1, color = 'k', label = 'All Ages')\n",
    "#ax.legend(loc = 4, fontsize = 9, prop = {'size': 10})\n",
    "plt.savefig(save_folder + 'figure43dissertation_left.png', dpi = 400, bbox_inches = 'tight')\n",
    "plt.savefig(save_folder + 'figure43dissertation_left.svg', dpi = 400, bbox_inches = 'tight')\n",
    "plt.show()\n",
    "\n",
    "## Assess correlation of alt performance vs. arc\n",
    "res = stats.linregress(mreqalt_rates[:nymice],arc[:nymice])\n",
    "yslope2 = res.slope; yint2 = res.intercept; yr2 = res.rvalue; yp2 = res.pvalue\n",
    "\n",
    "res = stats.linregress(mreqalt_rates[nymice:(nymice+nmamice)],arc[nymice:(nymice+nmamice)])\n",
    "maslope2 = res.slope; maint2 = res.intercept; mar2 = res.rvalue ; map2 = res.pvalue\n",
    "\n",
    "res = stats.linregress(mreqalt_rates[(nymice+nmamice):],arc[(nymice+nmamice):])\n",
    "aslope2 = res.slope; aint2 = res.intercept; ar2 = res.rvalue ; ap2 = res.pvalue\n",
    "\n",
    "res = stats.linregress(mreqalt_rates, arc)\n",
    "allslope2 = res.slope; allint2 = res.intercept; allr2 = res.rvalue; allp2 = res.pvalue\n",
    "\n",
    "print('\\nAssociation btwn Young, MA, Aged, & All Alt. Perforance:')\n",
    "print('R [Young, Aged, All]: ')\n",
    "print(yr2, mar2, ar2, allr2)\n",
    "print('P [Young, MA, Aged, All]: ')\n",
    "print(yp2, map2, ap2, allp2)\n",
    "\n",
    "fig, ax = plt.subplots(figsize = (1.35,0.75))\n",
    "ax.set_title('Arc', fontsize = 8)\n",
    "ax.scatter(mreqalt_rates[:3],arc[:3], color = 'C0', label = 'Young Female', s = 10)\n",
    "ax.scatter(mreqalt_rates[3:6],arc[3:6], color = 'C0', edgecolor = 'k',label = 'Young Male', s = 10)\n",
    "ax.scatter([mreqalt_rates[x] for x in MAfemale],[arc[x] for x in MAfemale], color = 'C2', label = 'MA Female', s = 10)\n",
    "ax.scatter([mreqalt_rates[x] for x in MAmale],[arc[x] for x in MAmale], color = 'C2', edgecolor = 'k', label = 'MA Male', s = 10)\n",
    "ax.scatter(mreqalt_rates[12:15],arc[12:15], color = 'C1', label = 'Aged Female', s = 10)\n",
    "ax.scatter(mreqalt_rates[15:],arc[15:], color = 'C1', edgecolor='k', label = 'Aged Male', s = 10)\n",
    "ax.set_xlabel('Mean Alt. Frac. Requested', fontsize = 7)\n",
    "ax.set_ylabel('FPKM Value', fontsize = 7)\n",
    "#ax.set_xlim([0.06,0.17])\n",
    "ax.set_ylim([0,7500])\n",
    "ax.set_yticks([0,2500,5000,7500])\n",
    "#ax.set_xticks([0.06,0.08,0.10,0.12,0.14,0.16])\n",
    "ax.tick_params(labelsize = 6)\n",
    "X_plot = np.linspace(ax.get_xlim()[0],ax.get_xlim()[1],100)\n",
    "#ax.plot(X_plot, yslope2*X_plot + yint2, '--', linewidth = 0.75, color = 'C0', label = 'Young Fit')\n",
    "#ax.plot(X_plot, aslope2*X_plot + aint2, '--', linewidth = 0.75, color = 'C1', label = 'Aged')\n",
    "ax.plot(X_plot, allslope2*X_plot + allint2, '-', linewidth = 1, color = 'k', label = 'All Ages')\n",
    "#ax.legend(loc = 4, fontsize = 9, prop = {'size': 10})\n",
    "plt.savefig(save_folder + 'figure43dissertation_right.png', dpi = 400, bbox_inches = 'tight')\n",
    "plt.savefig(save_folder + 'figure43dissertation_right.svg', dpi = 400, bbox_inches = 'tight')\n",
    "plt.show()"
   ]
  },
  {
   "cell_type": "code",
   "execution_count": 25,
   "id": "67c326aa",
   "metadata": {},
   "outputs": [
    {
     "name": "stdout",
     "output_type": "stream",
     "text": [
      "\n",
      "Association btwn Young, MA, Aged, & All Alt. Performance:\n",
      "R [Young, Aged, All]: \n",
      "-0.23980018911439904 0.08516949412883874 -0.6369658273630708 -0.44489901714661534\n",
      "P [Young, MA, Aged, All]: \n",
      "0.6471944670366774 0.8725546618646509 0.17376788727610587 0.06431100251809502\n"
     ]
    },
    {
     "data": {
      "image/png": "[encoded data removed]",
      "text/plain": [
       "<Figure size 135x75 with 1 Axes>"
      ]
     },
     "metadata": {},
     "output_type": "display_data"
    },
    {
     "name": "stdout",
     "output_type": "stream",
     "text": [
      "\n",
      "Association btwn Young, MA, Aged, & All Alt. Perforance:\n",
      "R [Young, Aged, All]: \n",
      "-0.17799246830347087 -0.4021461017284128 -0.6541701643897343 -0.49183436090308263\n",
      "P [Young, MA, Aged, All]: \n",
      "0.7358308156085301 0.429298680215984 0.15871708687179847 0.038157137867672754\n"
     ]
    },
    {
     "data": {
      "image/png": "[encoded data removed]",
      "text/plain": [
       "<Figure size 135x75 with 1 Axes>"
      ]
     },
     "metadata": {},
     "output_type": "display_data"
    }
   ],
   "source": [
    "'''Examine relationship between Day 6 performance across sessions and Arc/Egr1 '''\n",
    "mreqalt_rates = np.array([0.9367088607594937, 0.6666666666666666, 0.8076923076923077, 0.9375, 1.0, 0.5625,\n",
    "                          1.0,  0.9875, 1.0, 0.925, 0.95, 1.0,\n",
    "                          0.3875, 0.11392405063291139, 0.2625,0.4375,0.4117647058823529,0.8875])\n",
    "\n",
    "## Assess correlation of alt performance vs. egr1\n",
    "res = stats.linregress(mreqalt_rates[:nymice],egr1[:nymice])\n",
    "yslope2 = res.slope; yint2 = res.intercept; yr2 = res.rvalue; yp2 = res.pvalue\n",
    "\n",
    "res = stats.linregress(mreqalt_rates[nymice:(nymice+nmamice)],egr1[nymice:(nymice+nmamice)])\n",
    "maslope2 = res.slope; maint2 = res.intercept; mar2 = res.rvalue ; map2 = res.pvalue\n",
    "\n",
    "res = stats.linregress(mreqalt_rates[(nymice+nmamice):],egr1[(nymice+nmamice):])\n",
    "aslope2 = res.slope; aint2 = res.intercept; ar2 = res.rvalue ; ap2 = res.pvalue\n",
    "\n",
    "res = stats.linregress(mreqalt_rates, egr1)\n",
    "allslope2 = res.slope; allint2 = res.intercept; allr2 = res.rvalue; allp2 = res.pvalue\n",
    "\n",
    "print('\\nAssociation btwn Young, MA, Aged, & All Alt. Performance:')\n",
    "print('R [Young, Aged, All]: ')\n",
    "print(yr2, mar2, ar2, allr2)\n",
    "print('P [Young, MA, Aged, All]: ')\n",
    "print(yp2, map2, ap2, allp2)\n",
    "\n",
    "fig, ax = plt.subplots(figsize = (1.35,0.75))\n",
    "ax.set_title('Egr1', fontsize = 8)\n",
    "ax.scatter(mreqalt_rates[:3],egr1[:3], color = 'C0', label = 'Young Female', s = 10)\n",
    "ax.scatter(mreqalt_rates[3:6],egr1[3:6], color = 'C0', edgecolor = 'k',label = 'Young Male', s = 10)\n",
    "ax.scatter([mreqalt_rates[x] for x in MAfemale],[egr1[x] for x in MAfemale], color = 'C2', label = 'MA Female', s = 10)\n",
    "ax.scatter([mreqalt_rates[x] for x in MAmale],[egr1[x] for x in MAmale], color = 'C2', edgecolor = 'k', label = 'MA Male', s = 10)\n",
    "ax.scatter(mreqalt_rates[12:15],egr1[12:15], color = 'C1', label = 'Aged Female', s = 10)\n",
    "ax.scatter(mreqalt_rates[15:],egr1[15:], color = 'C1', edgecolor='k', label = 'Aged Male', s = 10)\n",
    "ax.set_xlabel('Mean Alt. Frac. Requested', fontsize = 7)\n",
    "ax.set_ylabel('FPKM Value', fontsize = 7)\n",
    "#ax.set_xlim([0.06,0.17])\n",
    "ax.set_ylim([0,6000])\n",
    "ax.set_yticks([0,2000,4000,6000])\n",
    "#ax.set_xticks([0.06,0.08,0.10,0.12,0.14,0.16])\n",
    "ax.tick_params(labelsize = 6)\n",
    "X_plot = np.linspace(ax.get_xlim()[0],ax.get_xlim()[1],100)\n",
    "#ax.plot(X_plot, yslope2*X_plot + yint2, '--', linewidth = 0.75, color = 'C0', label = 'Young Fit')\n",
    "#ax.plot(X_plot, aslope2*X_plot + aint2, '--', linewidth = 0.75, color = 'C1', label = 'Aged')\n",
    "ax.plot(X_plot, allslope2*X_plot + allint2, '-', linewidth = 1, color = 'k', label = 'All Ages')\n",
    "#ax.legend(loc = 4, fontsize = 9, prop = {'size': 10})\n",
    "#plt.savefig(save_folder + 'figure43dissertation_left.png', dpi = 400, bbox_inches = 'tight')\n",
    "#plt.savefig(save_folder + 'figure43dissertation_left.svg', dpi = 400, bbox_inches = 'tight')\n",
    "plt.show()\n",
    "\n",
    "## Assess correlation of alt performance vs. arc\n",
    "res = stats.linregress(mreqalt_rates[:nymice],arc[:nymice])\n",
    "yslope2 = res.slope; yint2 = res.intercept; yr2 = res.rvalue; yp2 = res.pvalue\n",
    "\n",
    "res = stats.linregress(mreqalt_rates[nymice:(nymice+nmamice)],arc[nymice:(nymice+nmamice)])\n",
    "maslope2 = res.slope; maint2 = res.intercept; mar2 = res.rvalue ; map2 = res.pvalue\n",
    "\n",
    "res = stats.linregress(mreqalt_rates[(nymice+nmamice):],arc[(nymice+nmamice):])\n",
    "aslope2 = res.slope; aint2 = res.intercept; ar2 = res.rvalue ; ap2 = res.pvalue\n",
    "\n",
    "res = stats.linregress(mreqalt_rates, arc)\n",
    "allslope2 = res.slope; allint2 = res.intercept; allr2 = res.rvalue; allp2 = res.pvalue\n",
    "\n",
    "print('\\nAssociation btwn Young, MA, Aged, & All Alt. Perforance:')\n",
    "print('R [Young, Aged, All]: ')\n",
    "print(yr2, mar2, ar2, allr2)\n",
    "print('P [Young, MA, Aged, All]: ')\n",
    "print(yp2, map2, ap2, allp2)\n",
    "\n",
    "fig, ax = plt.subplots(figsize = (1.35,0.75))\n",
    "ax.set_title('Arc', fontsize = 8)\n",
    "ax.scatter(mreqalt_rates[:3],arc[:3], color = 'C0', label = 'Young Female', s = 10)\n",
    "ax.scatter(mreqalt_rates[3:6],arc[3:6], color = 'C0', edgecolor = 'k',label = 'Young Male', s = 10)\n",
    "ax.scatter([mreqalt_rates[x] for x in MAfemale],[arc[x] for x in MAfemale], color = 'C2', label = 'MA Female', s = 10)\n",
    "ax.scatter([mreqalt_rates[x] for x in MAmale],[arc[x] for x in MAmale], color = 'C2', edgecolor = 'k', label = 'MA Male', s = 10)\n",
    "ax.scatter(mreqalt_rates[12:15],arc[12:15], color = 'C1', label = 'Aged Female', s = 10)\n",
    "ax.scatter(mreqalt_rates[15:],arc[15:], color = 'C1', edgecolor='k', label = 'Aged Male', s = 10)\n",
    "ax.set_xlabel('Mean Alt. Frac. Requested', fontsize = 7)\n",
    "ax.set_ylabel('FPKM Value', fontsize = 7)\n",
    "#ax.set_xlim([0.06,0.17])\n",
    "ax.set_ylim([0,7500])\n",
    "ax.set_yticks([0,2500,5000,7500])\n",
    "#ax.set_xticks([0.06,0.08,0.10,0.12,0.14,0.16])\n",
    "ax.tick_params(labelsize = 6)\n",
    "X_plot = np.linspace(ax.get_xlim()[0],ax.get_xlim()[1],100)\n",
    "#ax.plot(X_plot, yslope2*X_plot + yint2, '--', linewidth = 0.75, color = 'C0', label = 'Young Fit')\n",
    "#ax.plot(X_plot, aslope2*X_plot + aint2, '--', linewidth = 0.75, color = 'C1', label = 'Aged')\n",
    "ax.plot(X_plot, allslope2*X_plot + allint2, '-', linewidth = 1, color = 'k', label = 'All Ages')\n",
    "#ax.legend(loc = 4, fontsize = 9, prop = {'size': 10})\n",
    "#plt.savefig(save_folder + 'figure43dissertation_right.png', dpi = 400, bbox_inches = 'tight')\n",
    "#plt.savefig(save_folder + 'figure43dissertation_right.svg', dpi = 400, bbox_inches = 'tight')\n",
    "plt.show()"
   ]
  },
  {
   "cell_type": "code",
   "execution_count": null,
   "id": "82668e86",
   "metadata": {},
   "outputs": [],
   "source": []
  }
 ],
 "metadata": {
  "kernelspec": {
   "display_name": "Python 3 (ipykernel)",
   "language": "python",
   "name": "python3"
  },
  "language_info": {
   "codemirror_mode": {
    "name": "ipython",
    "version": 3
   },
   "file_extension": ".py",
   "mimetype": "text/x-python",
   "name": "python",
   "nbconvert_exporter": "python",
   "pygments_lexer": "ipython3",
   "version": "3.8.16"
  }
 },
 "nbformat": 4,
 "nbformat_minor": 5
}
