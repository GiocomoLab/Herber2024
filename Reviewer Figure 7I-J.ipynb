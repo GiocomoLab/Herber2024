{
 "cells": [
  {
   "cell_type": "markdown",
   "id": "acd1d595",
   "metadata": {},
   "source": [
    "# Setup"
   ]
  },
  {
   "cell_type": "code",
   "execution_count": 1,
   "id": "da514dca",
   "metadata": {},
   "outputs": [],
   "source": [
    "''' magic 4u'''\n",
    "%load_ext autoreload\n",
    "%autoreload 2"
   ]
  },
  {
   "cell_type": "code",
   "execution_count": 2,
   "id": "3cb7a091",
   "metadata": {},
   "outputs": [],
   "source": [
    "'''Get Stuff You Need'''\n",
    "import numpy as np\n",
    "import math as math\n",
    "from tqdm import tnrange\n",
    "from tqdm.notebook import tqdm as tdqm\n",
    "import matplotlib.pyplot as plt\n",
    "import matplotlib as mpl\n",
    "mpl.rcParams.update(mpl.rcParamsDefault)\n",
    "from matplotlib import gridspec\n",
    "from scipy.interpolate import interp1d\n",
    "from scipy.ndimage import gaussian_filter1d\n",
    "from scipy import stats\n",
    "import scipy.io\n",
    "import scipy.ndimage.filters as filt\n",
    "import pandas as pd\n",
    "import seaborn as sns\n",
    "\n",
    "from pipeline import get_data as get\n",
    "from pipeline import process_spikes as ps\n",
    "\n",
    "from statsmodels.tsa.stattools import acf\n",
    "from scipy.signal import find_peaks\n",
    "from itertools import combinations"
   ]
  },
  {
   "cell_type": "code",
   "execution_count": 3,
   "id": "ff11f349",
   "metadata": {},
   "outputs": [],
   "source": [
    "''' Define plotting defaults '''\n",
    "from matplotlib import rc \n",
    "mpl.rcParams['font.sans-serif'] = 'Arial'\n",
    "mpl.rcParams['font.family'] = 'sans-serif'\n",
    "mpl.rcParams['svg.fonttype'] = 'none'"
   ]
  },
  {
   "cell_type": "code",
   "execution_count": 4,
   "id": "e4990cd0",
   "metadata": {},
   "outputs": [],
   "source": [
    "''' Define function to retrieve spike depths along the probe using template waveforms '''\n",
    "\n",
    "def get_spike_depths(temps, winv, ycoords, spikeTemplates):\n",
    "    \n",
    "    ''' \n",
    "    Compute spike depths for each cluster\n",
    "\n",
    "    Params\n",
    "    ------ \n",
    "    temps: the templates (nTemplates x nTimePoints x nChannels)\n",
    "    winv: the whitening matrix (nCh x nCh)\n",
    "    ycoords: the coordinates of the channels (nCh x 1)\n",
    "    spikeTemplates: which template each spike came from (nSpikes x 1)\n",
    "\n",
    "    Returns\n",
    "    --------\n",
    "    spikeDepths is the position along the probe of every spike, (nSpikes x 1)\n",
    "    according to the position of the template it was extracted with. Distance in microns from tip.\n",
    "\n",
    "    '''\n",
    "    #unwhiten all templates\n",
    "    tempsUnW = np.zeros(shape = (temps.shape[0],temps.shape[1],temps.shape[2]))\n",
    "    for t in range(0,temps.shape[0]):\n",
    "        tempsUnW[t,:,:] = np.matmul(temps[t,:,:],winv)\n",
    "\n",
    "    #get the amplitude on each channel as the max minus min in timepoints (shape nTemp x nCh)\n",
    "    tempChanAmps = np.max(tempsUnW, axis = 1) - np.min(tempsUnW, axis = 1)\n",
    "\n",
    "    #the template amplitude is the amplitude of the largest channel \n",
    "    tempAmpsUnscaled = np.max(tempChanAmps, axis = 1) #shape nTemp\n",
    "\n",
    "    #zero out potentially many low values on distant channels; for every channel if below amp \n",
    "    threshVals = tempAmpsUnscaled*0.3\n",
    "    for i in range(0,tempChanAmps.shape[1]):\n",
    "        for j in range(0,len(threshVals)):\n",
    "            if tempChanAmps[j,i] < threshVals[j]:\n",
    "                tempChanAmps[j,i] = 0\n",
    "\n",
    "    #compute template depth as a center of mass\n",
    "    templateDepths = np.sum(tempChanAmps*ycoords, axis = 1) / (np.sum(tempChanAmps, axis = 1))\n",
    "\n",
    "    #each spikes depth is the depth of its template\n",
    "    spikeDepths = templateDepths[templates]\n",
    "    \n",
    "    return spikeDepths"
   ]
  },
  {
   "cell_type": "code",
   "execution_count": 5,
   "id": "619ce302",
   "metadata": {},
   "outputs": [
    {
     "data": {
      "text/html": [
       "<div>\n",
       "<style scoped>\n",
       "    .dataframe tbody tr th:only-of-type {\n",
       "        vertical-align: middle;\n",
       "    }\n",
       "\n",
       "    .dataframe tbody tr th {\n",
       "        vertical-align: top;\n",
       "    }\n",
       "\n",
       "    .dataframe thead th {\n",
       "        text-align: right;\n",
       "    }\n",
       "</style>\n",
       "<table border=\"1\" class=\"dataframe\">\n",
       "  <thead>\n",
       "    <tr style=\"text-align: right;\">\n",
       "      <th></th>\n",
       "      <th>Animal_ID</th>\n",
       "      <th>Task</th>\n",
       "      <th>Cohort</th>\n",
       "      <th>Probe_Control</th>\n",
       "      <th>Sex</th>\n",
       "      <th>Sac_Date</th>\n",
       "      <th>Frozen_Hemisphere</th>\n",
       "      <th>DOB</th>\n",
       "      <th>Age_WholeMonth</th>\n",
       "      <th>Age_ExtraDays</th>\n",
       "      <th>Age_Month</th>\n",
       "      <th>Aged_Days</th>\n",
       "      <th>Age_Group</th>\n",
       "      <th>Behavior_Sessions</th>\n",
       "      <th>Neural_Sessions</th>\n",
       "    </tr>\n",
       "  </thead>\n",
       "  <tbody>\n",
       "    <tr>\n",
       "      <th>0</th>\n",
       "      <td>A3</td>\n",
       "      <td>RF</td>\n",
       "      <td>A</td>\n",
       "      <td>0</td>\n",
       "      <td>F</td>\n",
       "      <td>1/27/2021</td>\n",
       "      <td>R</td>\n",
       "      <td>4/23/2019</td>\n",
       "      <td>21</td>\n",
       "      <td>4</td>\n",
       "      <td>21.217</td>\n",
       "      <td>645</td>\n",
       "      <td>3</td>\n",
       "      <td>6</td>\n",
       "      <td>6</td>\n",
       "    </tr>\n",
       "    <tr>\n",
       "      <th>1</th>\n",
       "      <td>A4</td>\n",
       "      <td>RF</td>\n",
       "      <td>A</td>\n",
       "      <td>0</td>\n",
       "      <td>F</td>\n",
       "      <td>1/27/2021</td>\n",
       "      <td>R</td>\n",
       "      <td>4/23/2019</td>\n",
       "      <td>21</td>\n",
       "      <td>4</td>\n",
       "      <td>21.217</td>\n",
       "      <td>645</td>\n",
       "      <td>3</td>\n",
       "      <td>6</td>\n",
       "      <td>6</td>\n",
       "    </tr>\n",
       "    <tr>\n",
       "      <th>2</th>\n",
       "      <td>A5</td>\n",
       "      <td>RF</td>\n",
       "      <td>A</td>\n",
       "      <td>0</td>\n",
       "      <td>F</td>\n",
       "      <td>4/6/2021</td>\n",
       "      <td>L</td>\n",
       "      <td>4/23/2019</td>\n",
       "      <td>23</td>\n",
       "      <td>14</td>\n",
       "      <td>23.487</td>\n",
       "      <td>714</td>\n",
       "      <td>3</td>\n",
       "      <td>6</td>\n",
       "      <td>6</td>\n",
       "    </tr>\n",
       "    <tr>\n",
       "      <th>3</th>\n",
       "      <td>A6</td>\n",
       "      <td>RF</td>\n",
       "      <td>A</td>\n",
       "      <td>0</td>\n",
       "      <td>F</td>\n",
       "      <td>4/6/2021</td>\n",
       "      <td>R</td>\n",
       "      <td>4/23/2019</td>\n",
       "      <td>23</td>\n",
       "      <td>14</td>\n",
       "      <td>23.487</td>\n",
       "      <td>714</td>\n",
       "      <td>3</td>\n",
       "      <td>6</td>\n",
       "      <td>6</td>\n",
       "    </tr>\n",
       "    <tr>\n",
       "      <th>4</th>\n",
       "      <td>A7</td>\n",
       "      <td>RF</td>\n",
       "      <td>A</td>\n",
       "      <td>0</td>\n",
       "      <td>F</td>\n",
       "      <td>4/19/2021</td>\n",
       "      <td>L</td>\n",
       "      <td>5/29/2019</td>\n",
       "      <td>22</td>\n",
       "      <td>21</td>\n",
       "      <td>22.730</td>\n",
       "      <td>691</td>\n",
       "      <td>3</td>\n",
       "      <td>6</td>\n",
       "      <td>6</td>\n",
       "    </tr>\n",
       "  </tbody>\n",
       "</table>\n",
       "</div>"
      ],
      "text/plain": [
       "  Animal_ID Task Cohort  Probe_Control Sex   Sac_Date Frozen_Hemisphere  \\\n",
       "0        A3   RF      A              0   F  1/27/2021                 R   \n",
       "1        A4   RF      A              0   F  1/27/2021                 R   \n",
       "2        A5   RF      A              0   F   4/6/2021                 L   \n",
       "3        A6   RF      A              0   F   4/6/2021                 R   \n",
       "4        A7   RF      A              0   F  4/19/2021                 L   \n",
       "\n",
       "         DOB  Age_WholeMonth  Age_ExtraDays  Age_Month  Aged_Days  Age_Group  \\\n",
       "0  4/23/2019              21              4     21.217        645          3   \n",
       "1  4/23/2019              21              4     21.217        645          3   \n",
       "2  4/23/2019              23             14     23.487        714          3   \n",
       "3  4/23/2019              23             14     23.487        714          3   \n",
       "4  5/29/2019              22             21     22.730        691          3   \n",
       "\n",
       "   Behavior_Sessions  Neural_Sessions  \n",
       "0                  6                6  \n",
       "1                  6                6  \n",
       "2                  6                6  \n",
       "3                  6                6  \n",
       "4                  6                6  "
      ]
     },
     "execution_count": 5,
     "metadata": {},
     "output_type": "execute_result"
    }
   ],
   "source": [
    "''' Load in Animal Metadata '''\n",
    "\n",
    "animalmeta = pd.read_csv('C:/Users/Python/Desktop/Dryad/MouseMetadata.csv') # adjust path name\n",
    "\n",
    "# define some useful lists of animals based on metadata\n",
    "all_aged_mice = np.array(animalmeta.loc[(animalmeta.Age_Group == 3),'Animal_ID'])\n",
    "all_MA_mice = np.array(animalmeta.loc[(animalmeta.Age_Group == 2),'Animal_ID'])\n",
    "all_young_mice = np.array(animalmeta.loc[(animalmeta.Age_Group == 1),'Animal_ID'])\n",
    "\n",
    "cohorta_mice = np.array(animalmeta.loc[(animalmeta.Cohort == 'A'),'Animal_ID'])\n",
    "cohortb_mice = np.array(animalmeta.loc[(animalmeta.Cohort == 'B'),'Animal_ID'])\n",
    "cohortc_mice = np.array(animalmeta.loc[(animalmeta.Cohort == 'C'),'Animal_ID'])\n",
    "cohortd_mice = np.array(animalmeta.loc[(animalmeta.Cohort == 'D'),'Animal_ID'])\n",
    "\n",
    "RF_aged_mice = np.array(animalmeta.loc[(animalmeta.Age_Group == 3) & (animalmeta.Task == 'RF'),'Animal_ID'])\n",
    "RF_young_mice = np.array(animalmeta.loc[(animalmeta.Age_Group == 1) & (animalmeta.Task == 'RF'),'Animal_ID'])\n",
    "SM_aged_mice = np.array(animalmeta.loc[(animalmeta.Age_Group == 3) & (animalmeta.Task == 'SM'),'Animal_ID'])\n",
    "SM_MA_mice = np.array(animalmeta.loc[(animalmeta.Age_Group == 2) & (animalmeta.Task == 'SM'),'Animal_ID'])\n",
    "SM_young_mice = np.array(animalmeta.loc[(animalmeta.Age_Group == 1) & (animalmeta.Task == 'SM'),'Animal_ID'])\n",
    "\n",
    "all_female_mice = np.array(animalmeta.loc[(animalmeta.Sex == 'F'),'Animal_ID'])\n",
    "all_male_mice = np.array(animalmeta.loc[(animalmeta.Sex == 'M'), 'Animal_ID'])\n",
    "RF_female_mice = np.array(animalmeta.loc[(animalmeta.Sex == 'F') & (animalmeta.Task == 'RF'),'Animal_ID'])\n",
    "RF_male_mice = np.array(animalmeta.loc[(animalmeta.Sex == 'M') & (animalmeta.Task == 'RF'),'Animal_ID'])\n",
    "SM_female_mice = np.array(animalmeta.loc[(animalmeta.Sex == 'F') & (animalmeta.Task == 'SM'),'Animal_ID'])\n",
    "SM_male_mice = np.array(animalmeta.loc[(animalmeta.Sex == 'M') & (animalmeta.Task == 'SM'),'Animal_ID'])\n",
    "\n",
    "animalmeta.head()"
   ]
  },
  {
   "cell_type": "code",
   "execution_count": 6,
   "id": "91dd635e",
   "metadata": {},
   "outputs": [],
   "source": [
    "'''Load Session Metadata'''\n",
    "sessionmeta = pd.read_csv('C:/Users/Python/Desktop/Dryad/SessionMetadata.csv') # adjust path name"
   ]
  },
  {
   "cell_type": "code",
   "execution_count": 7,
   "id": "2bb60717",
   "metadata": {},
   "outputs": [],
   "source": [
    "''' Complete List of Mice & Sessions '''\n",
    "all_mice = np.array(animalmeta.Animal_ID)\n",
    "\n",
    "all_sessions = ([['0122_record1','0123_record2','0124_record3','0125_record4','0126_record5','0127_record6'], \n",
    "             ['0122_record1','0123_record2','0124_record3','0125_record4','0126_record5','0127_record6'],\n",
    "             ['0401_record1','0401_record2b','0403_record3','0404_record4','0405_record5','0406_record6'],\n",
    "             ['0401_record1','0402_record2','0403_record3','0404_record4','0405_record5','0406_record6'],\n",
    "             ['0414_record1','0415_record2','0416_record3','0417_record4','0418_record5','0419_record6'],\n",
    "             ['1024_record1','1025_record2','1026_record3','1027_record4','1028_record5_2'], #Y2_6 excluded\n",
    "             ['1016_record1','1019_record3','1020_record4','1021_record5','1022_record6'], #Y3_2 not collected\n",
    "             ['1114_record1','1115_record2','1116_record3','1117_record4','1118_record5','1119_record6'], # end cohort A\n",
    "             ['051822_record1','051922_record2', '052022_record3','052122_record4','052222_record5','052322_record6'], \n",
    "             ['050522_record1','050622_record2','050722_record3','050822_record4','050922_record5','051022_record6'],\n",
    "             ['050522_record1','050622_record2','050722_record3','050822_record4','051022_record6'], #Y11_5 not collected\n",
    "             ['062222_record3','062322_record4','062522_record5'], #Y16_1 & 2 not collected, neural _6 excluded\n",
    "             ['062822_record1','062922_record2','063022_record3','070122_record4','070222_record5','070322_record6'],\n",
    "             ['062022_record1','062122_record2','062222_record3','062322_record4','062522_record5','062622_record6'],\n",
    "             ['062822_record1','062922_record2','063022_record3','070122_record4','070222_record5','070322_record6'], \n",
    "             ['051922_record2','052022_record3'], # Y9 051822_record excluded for syncing issue, end cohort B\n",
    "             ['083022_record1','083122_record2','090122_record3'], \n",
    "             ['083022_record1','083122_record2','090122_record3','090222_record4','090322_record5','090422_record6'],\n",
    "             ['083022_record1','083122_record2','090122_record3','090222_record4'], #behavior of A16_4, both of 5 excluded, 6 not collected \n",
    "             ['082322_record1','082422_record2','082522_record3','082622_record4','082722_record5','082822_record6'],\n",
    "             ['082322_record1real','082422_record2','082522_record3','082622_record4','082722_record5','082822_record6'],\n",
    "             ['102322_record1','102422_record2','102522_record3','102622_record4','102722_record5','102822_record6'],\n",
    "             ['102322_record1','102422_record2','102522_record3','102622_record4','102722_record5','102822_record6'],\n",
    "             ['102322_record1','102422_record2','102522_record3','102622_record4','102722_record5','102822_record6'],\n",
    "             ['103122_record2','110122_record3','110222_record4','110322_record5rep','110422_record6','110522_record7'], #behavior of MA4M6, 7 excluded\n",
    "             ['110622_record1','110722_record2','110822_record3','110922_record4','111022_record5','111122_record6'],\n",
    "             ['103022_record1','103122_record2','110122_record3','110222_record4','110322_record5','110422_record6'],\n",
    "             ['103022_record1','103122_record2','110122_record3','110222_record4'], #behavior of MA7_4, both 5 excluded, 6 not collected\n",
    "             ['111322_record1','111422_record2','111522_record3','111622_record4','111722_record5','111822_record6'],\n",
    "             ['111322_record1','111422_record2','111522_record3','111622_record4','111722_record5','111822_record6'],\n",
    "             ['111322_record1','111422_record2','111522_record3','111622_record4','111722_record5','111822_record6'], \n",
    "             ['092522_record1','092622_record2','092722_record3','092822_record4','092922_record5','093022_record6'],\n",
    "             ['091822_record1','091922_record2','092022_record3','092122_record4','092222_record5','092322_record6'],\n",
    "             ['092522_record1','092622_record2','092722_record3','092822_record4','092922_record5','093022_record6'],\n",
    "             ['092522_record1','092622_record2','092722_record3','092822_record4','092922_record5','093022_record6'],\n",
    "             ['091822_record1','091922_record2','092022_record3','092122_record4','092222_record5','092322_record6'], #end cohortc\n",
    "             ['012723_record2','012823_record3','012923_record4','013023_record5','013123_record6','020123_record7'],\n",
    "             ['012623_record1','012723_record2','012823_record3','012923_record4','013023_record5','013123_record6'],\n",
    "             ['012923_record2','013023_record3','013123_record4','020123_record5','020223_record6','020323_record7'],\n",
    "             ['020923_record1','021023_record2','021123_record3','021223_record4','021323_record5','021423_record6'],\n",
    "             ['022623_record1','022723_record2','022823_record3','030123_record4','030223_record5','030323_record6'],\n",
    "             ['021623_record1','021723_record2','021823_record3','021923_record4','022023_record5','022123_record6'],\n",
    "             ['021623_record1','021723_record2','021823_record3','021923_record4','022023_record5','022123_record6'],\n",
    "             ['021623_record1','021723_record2','021823_record3','021923_record4','022023_record5rep','022123_record6'],\n",
    "             ['022623_record1','022723_record2','022823_record3','030123_record4','030223_record5','030323_record6'] #end cohort d \n",
    "            ]) #list of sessions"
   ]
  },
  {
   "cell_type": "code",
   "execution_count": 8,
   "id": "8a74326a",
   "metadata": {},
   "outputs": [],
   "source": [
    "'''Define which mice & sessions to load'''\n",
    "mice = all_mice\n",
    "sessions = all_sessions\n",
    "    \n",
    "# Make a dict to hold data\n",
    "data = {}\n",
    "\n",
    "for session, m in zip(sessions, mice):\n",
    "    data[m] = {}\n",
    "    \n",
    "    for s in session:\n",
    "        data[m][s] = {}"
   ]
  },
  {
   "cell_type": "markdown",
   "id": "039b3d24",
   "metadata": {},
   "source": [
    "# Edit these paths"
   ]
  },
  {
   "cell_type": "code",
   "execution_count": 9,
   "id": "15cab8ee",
   "metadata": {},
   "outputs": [],
   "source": [
    "#Inputs\n",
    "load_folder = 'C:/Users/Python/Desktop/LocalData/filtered/' # adjust path to match output of Import & Filter\n",
    "shuffload_folder1 = 'C:/Users/Python/Desktop/Dryad/shuffle_scores/speedscores/' # adjust to match location of this Dryad repo folder\n",
    "shuffload_folder2 = 'C:/Users/Python/Desktop/Dryad/shuffle_scores/speedstabscores/' # adjust to match location of this Dryad repo folder\n",
    "fig2s3_folder = 'C:/Users/Python/Desktop/LocalData/Figure2S3/' # adjust to match Figure 2/S3 output folder\n",
    "int_save_folder = 'C:/Users/Python/Desktop/LocalData/FigureS6/' # adjust to match Shuffle Procedure output plotsave_folder\n",
    "\n",
    "#Output (create folder to hold the output of this notebook; then match the name of this repository below)\n",
    "save_folder = 'C:/Users/Python/Desktop/LocalData/Figure6/' "
   ]
  },
  {
   "cell_type": "code",
   "execution_count": 10,
   "id": "7dbce532",
   "metadata": {},
   "outputs": [],
   "source": [
    "'''Get Indices of Stored Session, Animal Data Mice by Age Group'''\n",
    "age_ind = []\n",
    "ma_ind = []\n",
    "y_ind = []\n",
    "age_sind = []\n",
    "ma_sind = []\n",
    "y_sind = []\n",
    "\n",
    "s_count = 0\n",
    "for m, s in zip(mice, sessions):\n",
    "    start = s_count\n",
    "    end = len(s) + s_count\n",
    "\n",
    "    if m in all_aged_mice:\n",
    "        age_ind = np.append(age_ind, (np.where(mice == m)[0]))\n",
    "        age_sind = np.append(age_sind, np.arange(start, end, 1))\n",
    "    elif m in all_MA_mice:\n",
    "        ma_ind = np.append(ma_ind, (np.where(mice == m)[0]))\n",
    "        ma_sind = np.append(ma_sind, np.arange(start, end, 1))\n",
    "    else:\n",
    "        y_ind = np.append(y_ind, (np.where(mice == m)[0]))\n",
    "        y_sind = np.append(y_sind, np.arange(start, end, 1))\n",
    "                            \n",
    "    s_count += len(s)\n",
    "    \n",
    "age_ind = age_ind.astype(int)\n",
    "ma_ind = ma_ind.astype(int)\n",
    "y_ind = y_ind.astype(int)\n",
    "age_sind = age_sind.astype(int)\n",
    "ma_sind = ma_sind.astype(int)\n",
    "y_sind = y_sind.astype(int)"
   ]
  },
  {
   "cell_type": "code",
   "execution_count": 11,
   "id": "970107b6",
   "metadata": {},
   "outputs": [],
   "source": [
    "''' Define ColorMaps for Session & Animal Boxplots '''\n",
    "import matplotlib.pylab as pl\n",
    "import matplotlib.lines as mlines\n",
    "\n",
    "col_animal_old = pl.cm.Oranges([np.linspace(0.2,0.9,17)])\n",
    "col_animal_MA = pl.cm.Greens([np.linspace(0.2,0.9,10)])\n",
    "col_animal_young = pl.cm.Blues([np.linspace(0.2,0.9,18)])\n",
    "col_animal = [col_animal_young, col_animal_MA, col_animal_old]\n",
    "\n",
    "col_session_young = []\n",
    "col_session_MA = []\n",
    "col_session_old = []\n",
    "\n",
    "for m, session in zip(mice, sessions):\n",
    "    for s in range(0,len(session)):\n",
    "        \n",
    "        if m in all_aged_mice:\n",
    "            idx = np.where(all_aged_mice == m)[0][0] \n",
    "            col_session_old.append(col_animal[2][0][idx])           \n",
    "        elif m in all_MA_mice:\n",
    "            idx = np.where(all_MA_mice == m)[0][0]\n",
    "            col_session_MA.append(col_animal[1][0][idx])\n",
    "        else:\n",
    "            idx = np.where(all_young_mice == m)[0][0]\n",
    "            col_session_young.append(col_animal[0][0][idx])\n",
    "\n",
    "col_session = [col_session_young, col_session_MA, col_session_old]\n",
    "label_mice = ['Y2','Y3','Y4','Y11','Y16','Y17','Y18','Y19','Y9', 'Y20', 'Y21', 'Y22', 'Y23', 'Y24', 'Y25', 'Y26', 'Y27', 'Y28',\n",
    "            'MA1F', 'MA2F', 'MA3M', 'MA4M', 'MA5M', 'MA6M', 'MA7M', 'MA8F', 'MA9F','MA10F',\"\",\"\",\"\",\"\",\"\",\"\",\"\",\n",
    "            'A3','A4','A5','A6','A7','A12','A13','A14', 'A15', 'A16', 'A17', 'A18', 'A19', 'A20', 'A22', 'A23', 'A24']"
   ]
  },
  {
   "cell_type": "markdown",
   "id": "a812b1cc",
   "metadata": {},
   "source": [
    "# Classify positively and negatively speed-tuned (+ / - speed) cells "
   ]
  },
  {
   "cell_type": "code",
   "execution_count": 14,
   "id": "7d7f008a",
   "metadata": {},
   "outputs": [
    {
     "data": {
      "application/vnd.jupyter.widget-view+json": {
       "model_id": "beb82e08566e495dadb291a7d4a32bc0",
       "version_major": 2,
       "version_minor": 0
      },
      "text/plain": [
       "  0%|          | 0/6 [00:00<?, ?it/s]"
      ]
     },
     "metadata": {},
     "output_type": "display_data"
    },
    {
     "data": {
      "application/vnd.jupyter.widget-view+json": {
       "model_id": "0c68f0e4f9e64f799a215da659efb511",
       "version_major": 2,
       "version_minor": 0
      },
      "text/plain": [
       "  0%|          | 0/6 [00:00<?, ?it/s]"
      ]
     },
     "metadata": {},
     "output_type": "display_data"
    },
    {
     "data": {
      "application/vnd.jupyter.widget-view+json": {
       "model_id": "f206d42fc09940809c3e26797a590b56",
       "version_major": 2,
       "version_minor": 0
      },
      "text/plain": [
       "  0%|          | 0/6 [00:00<?, ?it/s]"
      ]
     },
     "metadata": {},
     "output_type": "display_data"
    },
    {
     "data": {
      "application/vnd.jupyter.widget-view+json": {
       "model_id": "6a025b62ef4343cfb621b8301dc53c28",
       "version_major": 2,
       "version_minor": 0
      },
      "text/plain": [
       "  0%|          | 0/6 [00:00<?, ?it/s]"
      ]
     },
     "metadata": {},
     "output_type": "display_data"
    },
    {
     "data": {
      "application/vnd.jupyter.widget-view+json": {
       "model_id": "0e100cc6af6f4b479844cbc009b3a4cf",
       "version_major": 2,
       "version_minor": 0
      },
      "text/plain": [
       "  0%|          | 0/6 [00:00<?, ?it/s]"
      ]
     },
     "metadata": {},
     "output_type": "display_data"
    },
    {
     "data": {
      "application/vnd.jupyter.widget-view+json": {
       "model_id": "3166e68a875849438c8c597fa809bfb1",
       "version_major": 2,
       "version_minor": 0
      },
      "text/plain": [
       "  0%|          | 0/5 [00:00<?, ?it/s]"
      ]
     },
     "metadata": {},
     "output_type": "display_data"
    },
    {
     "data": {
      "application/vnd.jupyter.widget-view+json": {
       "model_id": "4ce166309d5e4b93bfeafb1fdd0d32ed",
       "version_major": 2,
       "version_minor": 0
      },
      "text/plain": [
       "  0%|          | 0/5 [00:00<?, ?it/s]"
      ]
     },
     "metadata": {},
     "output_type": "display_data"
    },
    {
     "data": {
      "application/vnd.jupyter.widget-view+json": {
       "model_id": "22351de95e7b4f9b83a6b054b683defa",
       "version_major": 2,
       "version_minor": 0
      },
      "text/plain": [
       "  0%|          | 0/6 [00:00<?, ?it/s]"
      ]
     },
     "metadata": {},
     "output_type": "display_data"
    },
    {
     "data": {
      "application/vnd.jupyter.widget-view+json": {
       "model_id": "364ba807b6b047bd850edaf41b0eac6c",
       "version_major": 2,
       "version_minor": 0
      },
      "text/plain": [
       "  0%|          | 0/6 [00:00<?, ?it/s]"
      ]
     },
     "metadata": {},
     "output_type": "display_data"
    },
    {
     "data": {
      "application/vnd.jupyter.widget-view+json": {
       "model_id": "f9f68102e3cb4baabbf0b77118325be0",
       "version_major": 2,
       "version_minor": 0
      },
      "text/plain": [
       "  0%|          | 0/6 [00:00<?, ?it/s]"
      ]
     },
     "metadata": {},
     "output_type": "display_data"
    },
    {
     "data": {
      "application/vnd.jupyter.widget-view+json": {
       "model_id": "24ff28ae5d60412d9a74c9a3de8625ba",
       "version_major": 2,
       "version_minor": 0
      },
      "text/plain": [
       "  0%|          | 0/5 [00:00<?, ?it/s]"
      ]
     },
     "metadata": {},
     "output_type": "display_data"
    },
    {
     "data": {
      "application/vnd.jupyter.widget-view+json": {
       "model_id": "82d9b1e8f96140b9af38fb1698a47d26",
       "version_major": 2,
       "version_minor": 0
      },
      "text/plain": [
       "  0%|          | 0/3 [00:00<?, ?it/s]"
      ]
     },
     "metadata": {},
     "output_type": "display_data"
    },
    {
     "data": {
      "application/vnd.jupyter.widget-view+json": {
       "model_id": "6387c89898d24ae59da2f7a3b2a98427",
       "version_major": 2,
       "version_minor": 0
      },
      "text/plain": [
       "  0%|          | 0/6 [00:00<?, ?it/s]"
      ]
     },
     "metadata": {},
     "output_type": "display_data"
    },
    {
     "data": {
      "application/vnd.jupyter.widget-view+json": {
       "model_id": "de4f1ee994314b268a553837a1e19b71",
       "version_major": 2,
       "version_minor": 0
      },
      "text/plain": [
       "  0%|          | 0/6 [00:00<?, ?it/s]"
      ]
     },
     "metadata": {},
     "output_type": "display_data"
    },
    {
     "data": {
      "application/vnd.jupyter.widget-view+json": {
       "model_id": "50a2643fb6514f8c9cfad67e28480bd0",
       "version_major": 2,
       "version_minor": 0
      },
      "text/plain": [
       "  0%|          | 0/6 [00:00<?, ?it/s]"
      ]
     },
     "metadata": {},
     "output_type": "display_data"
    },
    {
     "data": {
      "application/vnd.jupyter.widget-view+json": {
       "model_id": "dc105741683e480d927e3223d5cb5837",
       "version_major": 2,
       "version_minor": 0
      },
      "text/plain": [
       "  0%|          | 0/2 [00:00<?, ?it/s]"
      ]
     },
     "metadata": {},
     "output_type": "display_data"
    },
    {
     "data": {
      "application/vnd.jupyter.widget-view+json": {
       "model_id": "d456cb4237a34e05a83f1911c571c96f",
       "version_major": 2,
       "version_minor": 0
      },
      "text/plain": [
       "  0%|          | 0/3 [00:00<?, ?it/s]"
      ]
     },
     "metadata": {},
     "output_type": "display_data"
    },
    {
     "data": {
      "application/vnd.jupyter.widget-view+json": {
       "model_id": "edd375071f3147c89d224447f05dae55",
       "version_major": 2,
       "version_minor": 0
      },
      "text/plain": [
       "  0%|          | 0/6 [00:00<?, ?it/s]"
      ]
     },
     "metadata": {},
     "output_type": "display_data"
    },
    {
     "data": {
      "application/vnd.jupyter.widget-view+json": {
       "model_id": "e4a7c26f03e64b07a6b3dddc8d53d0bb",
       "version_major": 2,
       "version_minor": 0
      },
      "text/plain": [
       "  0%|          | 0/4 [00:00<?, ?it/s]"
      ]
     },
     "metadata": {},
     "output_type": "display_data"
    },
    {
     "data": {
      "application/vnd.jupyter.widget-view+json": {
       "model_id": "9b079259dd394aa5aa1e19af0987ba2c",
       "version_major": 2,
       "version_minor": 0
      },
      "text/plain": [
       "  0%|          | 0/6 [00:00<?, ?it/s]"
      ]
     },
     "metadata": {},
     "output_type": "display_data"
    },
    {
     "data": {
      "application/vnd.jupyter.widget-view+json": {
       "model_id": "497fc6a9158b44ee83c206326b7faf12",
       "version_major": 2,
       "version_minor": 0
      },
      "text/plain": [
       "  0%|          | 0/6 [00:00<?, ?it/s]"
      ]
     },
     "metadata": {},
     "output_type": "display_data"
    },
    {
     "data": {
      "application/vnd.jupyter.widget-view+json": {
       "model_id": "b520811668a949dcb9c875b4a758e3e8",
       "version_major": 2,
       "version_minor": 0
      },
      "text/plain": [
       "  0%|          | 0/6 [00:00<?, ?it/s]"
      ]
     },
     "metadata": {},
     "output_type": "display_data"
    },
    {
     "data": {
      "application/vnd.jupyter.widget-view+json": {
       "model_id": "b621ef8b8047455fb390203409785c3a",
       "version_major": 2,
       "version_minor": 0
      },
      "text/plain": [
       "  0%|          | 0/6 [00:00<?, ?it/s]"
      ]
     },
     "metadata": {},
     "output_type": "display_data"
    },
    {
     "data": {
      "application/vnd.jupyter.widget-view+json": {
       "model_id": "c6990b35b8f84bcc80d8473906233c4d",
       "version_major": 2,
       "version_minor": 0
      },
      "text/plain": [
       "  0%|          | 0/6 [00:00<?, ?it/s]"
      ]
     },
     "metadata": {},
     "output_type": "display_data"
    },
    {
     "data": {
      "application/vnd.jupyter.widget-view+json": {
       "model_id": "dea5d5d2d8384937b4aa20020f5c2a63",
       "version_major": 2,
       "version_minor": 0
      },
      "text/plain": [
       "  0%|          | 0/6 [00:00<?, ?it/s]"
      ]
     },
     "metadata": {},
     "output_type": "display_data"
    },
    {
     "data": {
      "application/vnd.jupyter.widget-view+json": {
       "model_id": "69c4483ddd2e4897bd3f891aacec271f",
       "version_major": 2,
       "version_minor": 0
      },
      "text/plain": [
       "  0%|          | 0/6 [00:00<?, ?it/s]"
      ]
     },
     "metadata": {},
     "output_type": "display_data"
    },
    {
     "data": {
      "application/vnd.jupyter.widget-view+json": {
       "model_id": "b3e70d6aa6c2412b930d93947a3fabc6",
       "version_major": 2,
       "version_minor": 0
      },
      "text/plain": [
       "  0%|          | 0/6 [00:00<?, ?it/s]"
      ]
     },
     "metadata": {},
     "output_type": "display_data"
    },
    {
     "data": {
      "application/vnd.jupyter.widget-view+json": {
       "model_id": "8cfd7f8ef3fc43709e914ae2ef8b5dc5",
       "version_major": 2,
       "version_minor": 0
      },
      "text/plain": [
       "  0%|          | 0/4 [00:00<?, ?it/s]"
      ]
     },
     "metadata": {},
     "output_type": "display_data"
    },
    {
     "data": {
      "application/vnd.jupyter.widget-view+json": {
       "model_id": "dc7e0238dcc7487b834b0bead18a6685",
       "version_major": 2,
       "version_minor": 0
      },
      "text/plain": [
       "  0%|          | 0/6 [00:00<?, ?it/s]"
      ]
     },
     "metadata": {},
     "output_type": "display_data"
    },
    {
     "data": {
      "application/vnd.jupyter.widget-view+json": {
       "model_id": "575b981c158a44d9a8e0d0bb05493eb4",
       "version_major": 2,
       "version_minor": 0
      },
      "text/plain": [
       "  0%|          | 0/6 [00:00<?, ?it/s]"
      ]
     },
     "metadata": {},
     "output_type": "display_data"
    },
    {
     "data": {
      "application/vnd.jupyter.widget-view+json": {
       "model_id": "c34392d7b9ce45289b06aa30c0c45c4f",
       "version_major": 2,
       "version_minor": 0
      },
      "text/plain": [
       "  0%|          | 0/6 [00:00<?, ?it/s]"
      ]
     },
     "metadata": {},
     "output_type": "display_data"
    },
    {
     "data": {
      "application/vnd.jupyter.widget-view+json": {
       "model_id": "b0a923c51cd64f779ba15d2e5396a036",
       "version_major": 2,
       "version_minor": 0
      },
      "text/plain": [
       "  0%|          | 0/6 [00:00<?, ?it/s]"
      ]
     },
     "metadata": {},
     "output_type": "display_data"
    },
    {
     "data": {
      "application/vnd.jupyter.widget-view+json": {
       "model_id": "73d2748b22ee42679c77e131808ab407",
       "version_major": 2,
       "version_minor": 0
      },
      "text/plain": [
       "  0%|          | 0/6 [00:00<?, ?it/s]"
      ]
     },
     "metadata": {},
     "output_type": "display_data"
    },
    {
     "data": {
      "application/vnd.jupyter.widget-view+json": {
       "model_id": "3cf4bdd5ea8f4a228fb9965d5bacaec0",
       "version_major": 2,
       "version_minor": 0
      },
      "text/plain": [
       "  0%|          | 0/6 [00:00<?, ?it/s]"
      ]
     },
     "metadata": {},
     "output_type": "display_data"
    },
    {
     "data": {
      "application/vnd.jupyter.widget-view+json": {
       "model_id": "4d8cdb125e5b413c99c9e857e41d4928",
       "version_major": 2,
       "version_minor": 0
      },
      "text/plain": [
       "  0%|          | 0/6 [00:00<?, ?it/s]"
      ]
     },
     "metadata": {},
     "output_type": "display_data"
    },
    {
     "data": {
      "application/vnd.jupyter.widget-view+json": {
       "model_id": "507c630abc124c75bc86b46435c7a80b",
       "version_major": 2,
       "version_minor": 0
      },
      "text/plain": [
       "  0%|          | 0/6 [00:00<?, ?it/s]"
      ]
     },
     "metadata": {},
     "output_type": "display_data"
    },
    {
     "data": {
      "application/vnd.jupyter.widget-view+json": {
       "model_id": "d4f8f5f5e6c442d38be69e295c51996c",
       "version_major": 2,
       "version_minor": 0
      },
      "text/plain": [
       "  0%|          | 0/6 [00:00<?, ?it/s]"
      ]
     },
     "metadata": {},
     "output_type": "display_data"
    },
    {
     "data": {
      "application/vnd.jupyter.widget-view+json": {
       "model_id": "6a04b4b8b7484f8bb26d904ee46e7a5a",
       "version_major": 2,
       "version_minor": 0
      },
      "text/plain": [
       "  0%|          | 0/6 [00:00<?, ?it/s]"
      ]
     },
     "metadata": {},
     "output_type": "display_data"
    },
    {
     "data": {
      "application/vnd.jupyter.widget-view+json": {
       "model_id": "2e3a60dbbba246e0a2f05111609deee4",
       "version_major": 2,
       "version_minor": 0
      },
      "text/plain": [
       "  0%|          | 0/6 [00:00<?, ?it/s]"
      ]
     },
     "metadata": {},
     "output_type": "display_data"
    },
    {
     "data": {
      "application/vnd.jupyter.widget-view+json": {
       "model_id": "f35b69b508944fbc9d5f2422023db8f0",
       "version_major": 2,
       "version_minor": 0
      },
      "text/plain": [
       "  0%|          | 0/6 [00:00<?, ?it/s]"
      ]
     },
     "metadata": {},
     "output_type": "display_data"
    },
    {
     "data": {
      "application/vnd.jupyter.widget-view+json": {
       "model_id": "e6e369f19de84fa0b30a184c52d6308a",
       "version_major": 2,
       "version_minor": 0
      },
      "text/plain": [
       "  0%|          | 0/6 [00:00<?, ?it/s]"
      ]
     },
     "metadata": {},
     "output_type": "display_data"
    },
    {
     "data": {
      "application/vnd.jupyter.widget-view+json": {
       "model_id": "5bb2fd82698941d38c9d15d0153dd1b2",
       "version_major": 2,
       "version_minor": 0
      },
      "text/plain": [
       "  0%|          | 0/6 [00:00<?, ?it/s]"
      ]
     },
     "metadata": {},
     "output_type": "display_data"
    },
    {
     "data": {
      "application/vnd.jupyter.widget-view+json": {
       "model_id": "cf4ad5f0facc496fbc9276d2ab0147b6",
       "version_major": 2,
       "version_minor": 0
      },
      "text/plain": [
       "  0%|          | 0/6 [00:00<?, ?it/s]"
      ]
     },
     "metadata": {},
     "output_type": "display_data"
    },
    {
     "data": {
      "application/vnd.jupyter.widget-view+json": {
       "model_id": "c2f233315ed847ccb9523930bab588ee",
       "version_major": 2,
       "version_minor": 0
      },
      "text/plain": [
       "  0%|          | 0/6 [00:00<?, ?it/s]"
      ]
     },
     "metadata": {},
     "output_type": "display_data"
    },
    {
     "data": {
      "application/vnd.jupyter.widget-view+json": {
       "model_id": "701fa11c8fb340108f5d5f6142512422",
       "version_major": 2,
       "version_minor": 0
      },
      "text/plain": [
       "  0%|          | 0/6 [00:00<?, ?it/s]"
      ]
     },
     "metadata": {},
     "output_type": "display_data"
    }
   ],
   "source": [
    "''' Calculate & Save Real Speed Scores & Speed Stability Scores '''\n",
    "realspeedscores = []\n",
    "realspeedstabscores = []\n",
    "dt = 0.02\n",
    "sigma = 20  # smoothing factor for instantaneous firing rate\n",
    "n_bin = 8 #n position bins considered for speed stability score\n",
    "track_length = 400 #cm\n",
    "bins = np.arange(0,track_length + (track_length/n_bin),(track_length/n_bin))\n",
    "\n",
    "for m, session in zip(mice,sessions):\n",
    "    for s in tdqm(session):\n",
    "        d = data[m][s]\n",
    "        \n",
    "        #load in data\n",
    "        rawdata_file = 'RAW_' + m + '_' + s + '.npy'\n",
    "        behavior_file = 'BEHAVIOR_' + m + '_' + s + '.npy'\n",
    "        spikes_file = 'SPIKES_' + m + '_' + s +'.npy'\n",
    "        \n",
    "        raw = np.load(load_folder + rawdata_file, allow_pickle=True)\n",
    "        behaviorfil = np.load(load_folder + behavior_file, allow_pickle=False)\n",
    "        posxfil = behaviorfil[:,0]\n",
    "        Y = np.load(load_folder + spikes_file, allow_pickle=False)\n",
    "        cell_IDs = raw.item().get('cellsfil')\n",
    "        speed = behaviorfil[:,1] #already filtered through gaussian (10 timebins) \n",
    "        \n",
    "        # divide all obs into 8 x 50 cm bins\n",
    "        bin_idx = []\n",
    "        for i in range(n_bin):\n",
    "            if i == (n_bin - 1):\n",
    "                idx = np.where((posxfil >= bins[i]) & (posxfil <= bins[i + 1]))[0]\n",
    "            else:\n",
    "                idx = np.where((posxfil >= bins[i]) & (posxfil < bins[i + 1]))[0]\n",
    "            bin_idx.append(idx)\n",
    "        \n",
    "        #get smoothed spike train, calculate speed score\n",
    "        A = np.zeros((len(speed), len(cell_IDs)))\n",
    "        realspeed_score = []\n",
    "        realspeedstab_score = []\n",
    "        for i, c in enumerate(cell_IDs):\n",
    "            A[:,i] = Y[:,i]\n",
    "            A[:,i] = gaussian_filter1d(A[:,i],sigma)\n",
    "            \n",
    "            #calculate speed score\n",
    "            sscore, _ = stats.pearsonr(A[:,i],speed)\n",
    "            realspeed_score = np.append(realspeed_score,sscore)\n",
    "            \n",
    "            #calculate & store speed stability score for this cell's smoothed spike train\n",
    "            bin_pspikes = []\n",
    "            for j in range(n_bin):\n",
    "                idx = bin_idx[j]\n",
    "                psscore, _ = stats.pearsonr(A[idx,i],speed[idx])\n",
    "                bin_pspikes = np.append(bin_pspikes, (psscore *  np.sum(A[idx,i])))\n",
    "\n",
    "            sstabscore = np.sum(bin_pspikes) / np.sum(A[:,i])\n",
    "            realspeedstab_score = np.append(realspeedstab_score,sstabscore)\n",
    "            \n",
    "        d['speedscore'] = realspeed_score\n",
    "        d['speedstabscore'] = realspeedstab_score\n",
    "        d['A'] = A\n",
    "\n",
    "        #Save stuff\n",
    "        realinstspeedscore_file = 'realinstspeedscore_' + m + '_' + s + '.npy'\n",
    "        realspeedstabscore_file = 'realspeedstabscore_' + m + '_' + s + '.npy'\n",
    "        A_file = 'A_' + m + '_' + s + '.npy'\n",
    "        \n",
    "        np.save(save_folder + realinstspeedscore_file, realspeed_score)\n",
    "        #print('saved real speed score data as npy file for mouse ' + m + ' session '+ s)\n",
    "        np.save(save_folder + realspeedstabscore_file, realspeedstab_score)\n",
    "        #print('saved real speed stability score data as npy file for mouse ' + m + ' session '+ s)\n",
    "        np.save(save_folder + A_file, A)\n",
    "        #print('saved filtered, binned spikes as npy file for mouse ' + m + ' session '+ s)\n"
   ]
  },
  {
   "cell_type": "code",
   "execution_count": 12,
   "id": "2269748a",
   "metadata": {},
   "outputs": [
    {
     "name": "stdout",
     "output_type": "stream",
     "text": [
      "saved all speed cell booleans as npy files for mouse A3 session 0122_record1\n",
      "saved all speed cell booleans as npy files for mouse A3 session 0123_record2\n",
      "saved all speed cell booleans as npy files for mouse A3 session 0124_record3\n",
      "saved all speed cell booleans as npy files for mouse A3 session 0125_record4\n",
      "saved all speed cell booleans as npy files for mouse A3 session 0126_record5\n",
      "saved all speed cell booleans as npy files for mouse A3 session 0127_record6\n",
      "saved all speed cell booleans as npy files for mouse A4 session 0122_record1\n",
      "saved all speed cell booleans as npy files for mouse A4 session 0123_record2\n",
      "saved all speed cell booleans as npy files for mouse A4 session 0124_record3\n",
      "saved all speed cell booleans as npy files for mouse A4 session 0125_record4\n",
      "saved all speed cell booleans as npy files for mouse A4 session 0126_record5\n",
      "saved all speed cell booleans as npy files for mouse A4 session 0127_record6\n",
      "saved all speed cell booleans as npy files for mouse A5 session 0401_record1\n",
      "saved all speed cell booleans as npy files for mouse A5 session 0401_record2b\n",
      "saved all speed cell booleans as npy files for mouse A5 session 0403_record3\n",
      "saved all speed cell booleans as npy files for mouse A5 session 0404_record4\n",
      "saved all speed cell booleans as npy files for mouse A5 session 0405_record5\n",
      "saved all speed cell booleans as npy files for mouse A5 session 0406_record6\n",
      "saved all speed cell booleans as npy files for mouse A6 session 0401_record1\n",
      "saved all speed cell booleans as npy files for mouse A6 session 0402_record2\n",
      "saved all speed cell booleans as npy files for mouse A6 session 0403_record3\n",
      "saved all speed cell booleans as npy files for mouse A6 session 0404_record4\n",
      "saved all speed cell booleans as npy files for mouse A6 session 0405_record5\n",
      "saved all speed cell booleans as npy files for mouse A6 session 0406_record6\n",
      "saved all speed cell booleans as npy files for mouse A7 session 0414_record1\n",
      "saved all speed cell booleans as npy files for mouse A7 session 0415_record2\n",
      "saved all speed cell booleans as npy files for mouse A7 session 0416_record3\n",
      "saved all speed cell booleans as npy files for mouse A7 session 0417_record4\n",
      "saved all speed cell booleans as npy files for mouse A7 session 0418_record5\n",
      "saved all speed cell booleans as npy files for mouse A7 session 0419_record6\n",
      "saved all speed cell booleans as npy files for mouse Y2 session 1024_record1\n",
      "saved all speed cell booleans as npy files for mouse Y2 session 1025_record2\n",
      "saved all speed cell booleans as npy files for mouse Y2 session 1026_record3\n",
      "saved all speed cell booleans as npy files for mouse Y2 session 1027_record4\n",
      "saved all speed cell booleans as npy files for mouse Y2 session 1028_record5_2\n",
      "saved all speed cell booleans as npy files for mouse Y3 session 1016_record1\n",
      "saved all speed cell booleans as npy files for mouse Y3 session 1019_record3\n",
      "saved all speed cell booleans as npy files for mouse Y3 session 1020_record4\n",
      "saved all speed cell booleans as npy files for mouse Y3 session 1021_record5\n",
      "saved all speed cell booleans as npy files for mouse Y3 session 1022_record6\n",
      "saved all speed cell booleans as npy files for mouse Y4 session 1114_record1\n",
      "saved all speed cell booleans as npy files for mouse Y4 session 1115_record2\n",
      "saved all speed cell booleans as npy files for mouse Y4 session 1116_record3\n",
      "saved all speed cell booleans as npy files for mouse Y4 session 1117_record4\n",
      "saved all speed cell booleans as npy files for mouse Y4 session 1118_record5\n",
      "saved all speed cell booleans as npy files for mouse Y4 session 1119_record6\n",
      "saved all speed cell booleans as npy files for mouse A12 session 051822_record1\n",
      "saved all speed cell booleans as npy files for mouse A12 session 051922_record2\n",
      "saved all speed cell booleans as npy files for mouse A12 session 052022_record3\n",
      "saved all speed cell booleans as npy files for mouse A12 session 052122_record4\n",
      "saved all speed cell booleans as npy files for mouse A12 session 052222_record5\n",
      "saved all speed cell booleans as npy files for mouse A12 session 052322_record6\n",
      "saved all speed cell booleans as npy files for mouse A13 session 050522_record1\n",
      "saved all speed cell booleans as npy files for mouse A13 session 050622_record2\n",
      "saved all speed cell booleans as npy files for mouse A13 session 050722_record3\n",
      "saved all speed cell booleans as npy files for mouse A13 session 050822_record4\n",
      "saved all speed cell booleans as npy files for mouse A13 session 050922_record5\n",
      "saved all speed cell booleans as npy files for mouse A13 session 051022_record6\n",
      "saved all speed cell booleans as npy files for mouse Y11 session 050522_record1\n",
      "saved all speed cell booleans as npy files for mouse Y11 session 050622_record2\n",
      "saved all speed cell booleans as npy files for mouse Y11 session 050722_record3\n",
      "saved all speed cell booleans as npy files for mouse Y11 session 050822_record4\n",
      "saved all speed cell booleans as npy files for mouse Y11 session 051022_record6\n",
      "saved all speed cell booleans as npy files for mouse Y16 session 062222_record3\n",
      "saved all speed cell booleans as npy files for mouse Y16 session 062322_record4\n",
      "saved all speed cell booleans as npy files for mouse Y16 session 062522_record5\n",
      "saved all speed cell booleans as npy files for mouse Y17 session 062822_record1\n",
      "saved all speed cell booleans as npy files for mouse Y17 session 062922_record2\n",
      "saved all speed cell booleans as npy files for mouse Y17 session 063022_record3\n",
      "saved all speed cell booleans as npy files for mouse Y17 session 070122_record4\n",
      "saved all speed cell booleans as npy files for mouse Y17 session 070222_record5\n",
      "saved all speed cell booleans as npy files for mouse Y17 session 070322_record6\n",
      "saved all speed cell booleans as npy files for mouse Y18 session 062022_record1\n",
      "saved all speed cell booleans as npy files for mouse Y18 session 062122_record2\n",
      "saved all speed cell booleans as npy files for mouse Y18 session 062222_record3\n",
      "saved all speed cell booleans as npy files for mouse Y18 session 062322_record4\n",
      "saved all speed cell booleans as npy files for mouse Y18 session 062522_record5\n",
      "saved all speed cell booleans as npy files for mouse Y18 session 062622_record6\n",
      "saved all speed cell booleans as npy files for mouse Y19 session 062822_record1\n",
      "saved all speed cell booleans as npy files for mouse Y19 session 062922_record2\n",
      "saved all speed cell booleans as npy files for mouse Y19 session 063022_record3\n",
      "saved all speed cell booleans as npy files for mouse Y19 session 070122_record4\n",
      "saved all speed cell booleans as npy files for mouse Y19 session 070222_record5\n",
      "saved all speed cell booleans as npy files for mouse Y19 session 070322_record6\n",
      "saved all speed cell booleans as npy files for mouse Y9 session 051922_record2\n",
      "saved all speed cell booleans as npy files for mouse Y9 session 052022_record3\n",
      "saved all speed cell booleans as npy files for mouse A14 session 083022_record1\n",
      "saved all speed cell booleans as npy files for mouse A14 session 083122_record2\n",
      "saved all speed cell booleans as npy files for mouse A14 session 090122_record3\n",
      "saved all speed cell booleans as npy files for mouse A15 session 083022_record1\n",
      "saved all speed cell booleans as npy files for mouse A15 session 083122_record2\n",
      "saved all speed cell booleans as npy files for mouse A15 session 090122_record3\n",
      "saved all speed cell booleans as npy files for mouse A15 session 090222_record4\n",
      "saved all speed cell booleans as npy files for mouse A15 session 090322_record5\n",
      "saved all speed cell booleans as npy files for mouse A15 session 090422_record6\n",
      "saved all speed cell booleans as npy files for mouse A16 session 083022_record1\n",
      "saved all speed cell booleans as npy files for mouse A16 session 083122_record2\n",
      "saved all speed cell booleans as npy files for mouse A16 session 090122_record3\n",
      "saved all speed cell booleans as npy files for mouse A16 session 090222_record4\n",
      "saved all speed cell booleans as npy files for mouse A17 session 082322_record1\n",
      "saved all speed cell booleans as npy files for mouse A17 session 082422_record2\n",
      "saved all speed cell booleans as npy files for mouse A17 session 082522_record3\n",
      "saved all speed cell booleans as npy files for mouse A17 session 082622_record4\n",
      "saved all speed cell booleans as npy files for mouse A17 session 082722_record5\n",
      "saved all speed cell booleans as npy files for mouse A17 session 082822_record6\n"
     ]
    },
    {
     "name": "stdout",
     "output_type": "stream",
     "text": [
      "saved all speed cell booleans as npy files for mouse A18 session 082322_record1real\n",
      "saved all speed cell booleans as npy files for mouse A18 session 082422_record2\n",
      "saved all speed cell booleans as npy files for mouse A18 session 082522_record3\n",
      "saved all speed cell booleans as npy files for mouse A18 session 082622_record4\n",
      "saved all speed cell booleans as npy files for mouse A18 session 082722_record5\n",
      "saved all speed cell booleans as npy files for mouse A18 session 082822_record6\n",
      "saved all speed cell booleans as npy files for mouse MA1F session 102322_record1\n",
      "saved all speed cell booleans as npy files for mouse MA1F session 102422_record2\n",
      "saved all speed cell booleans as npy files for mouse MA1F session 102522_record3\n",
      "saved all speed cell booleans as npy files for mouse MA1F session 102622_record4\n",
      "saved all speed cell booleans as npy files for mouse MA1F session 102722_record5\n",
      "saved all speed cell booleans as npy files for mouse MA1F session 102822_record6\n",
      "saved all speed cell booleans as npy files for mouse MA2F session 102322_record1\n",
      "saved all speed cell booleans as npy files for mouse MA2F session 102422_record2\n",
      "saved all speed cell booleans as npy files for mouse MA2F session 102522_record3\n",
      "saved all speed cell booleans as npy files for mouse MA2F session 102622_record4\n",
      "saved all speed cell booleans as npy files for mouse MA2F session 102722_record5\n",
      "saved all speed cell booleans as npy files for mouse MA2F session 102822_record6\n",
      "saved all speed cell booleans as npy files for mouse MA3M session 102322_record1\n",
      "saved all speed cell booleans as npy files for mouse MA3M session 102422_record2\n",
      "saved all speed cell booleans as npy files for mouse MA3M session 102522_record3\n",
      "saved all speed cell booleans as npy files for mouse MA3M session 102622_record4\n",
      "saved all speed cell booleans as npy files for mouse MA3M session 102722_record5\n",
      "saved all speed cell booleans as npy files for mouse MA3M session 102822_record6\n",
      "saved all speed cell booleans as npy files for mouse MA4M session 103122_record2\n",
      "saved all speed cell booleans as npy files for mouse MA4M session 110122_record3\n",
      "saved all speed cell booleans as npy files for mouse MA4M session 110222_record4\n",
      "saved all speed cell booleans as npy files for mouse MA4M session 110322_record5rep\n",
      "saved all speed cell booleans as npy files for mouse MA4M session 110422_record6\n",
      "saved all speed cell booleans as npy files for mouse MA4M session 110522_record7\n",
      "saved all speed cell booleans as npy files for mouse MA5M session 110622_record1\n",
      "saved all speed cell booleans as npy files for mouse MA5M session 110722_record2\n",
      "saved all speed cell booleans as npy files for mouse MA5M session 110822_record3\n",
      "saved all speed cell booleans as npy files for mouse MA5M session 110922_record4\n",
      "saved all speed cell booleans as npy files for mouse MA5M session 111022_record5\n",
      "saved all speed cell booleans as npy files for mouse MA5M session 111122_record6\n",
      "saved all speed cell booleans as npy files for mouse MA6M session 103022_record1\n",
      "saved all speed cell booleans as npy files for mouse MA6M session 103122_record2\n",
      "saved all speed cell booleans as npy files for mouse MA6M session 110122_record3\n",
      "saved all speed cell booleans as npy files for mouse MA6M session 110222_record4\n",
      "saved all speed cell booleans as npy files for mouse MA6M session 110322_record5\n",
      "saved all speed cell booleans as npy files for mouse MA6M session 110422_record6\n",
      "saved all speed cell booleans as npy files for mouse MA7M session 103022_record1\n",
      "saved all speed cell booleans as npy files for mouse MA7M session 103122_record2\n",
      "saved all speed cell booleans as npy files for mouse MA7M session 110122_record3\n",
      "saved all speed cell booleans as npy files for mouse MA7M session 110222_record4\n",
      "saved all speed cell booleans as npy files for mouse MA8F session 111322_record1\n",
      "saved all speed cell booleans as npy files for mouse MA8F session 111422_record2\n",
      "saved all speed cell booleans as npy files for mouse MA8F session 111522_record3\n",
      "saved all speed cell booleans as npy files for mouse MA8F session 111622_record4\n",
      "saved all speed cell booleans as npy files for mouse MA8F session 111722_record5\n",
      "saved all speed cell booleans as npy files for mouse MA8F session 111822_record6\n",
      "saved all speed cell booleans as npy files for mouse MA9F session 111322_record1\n",
      "saved all speed cell booleans as npy files for mouse MA9F session 111422_record2\n",
      "saved all speed cell booleans as npy files for mouse MA9F session 111522_record3\n",
      "saved all speed cell booleans as npy files for mouse MA9F session 111622_record4\n",
      "saved all speed cell booleans as npy files for mouse MA9F session 111722_record5\n",
      "saved all speed cell booleans as npy files for mouse MA9F session 111822_record6\n",
      "saved all speed cell booleans as npy files for mouse MA10F session 111322_record1\n",
      "saved all speed cell booleans as npy files for mouse MA10F session 111422_record2\n",
      "saved all speed cell booleans as npy files for mouse MA10F session 111522_record3\n",
      "saved all speed cell booleans as npy files for mouse MA10F session 111622_record4\n",
      "saved all speed cell booleans as npy files for mouse MA10F session 111722_record5\n",
      "saved all speed cell booleans as npy files for mouse MA10F session 111822_record6\n",
      "saved all speed cell booleans as npy files for mouse Y20 session 092522_record1\n",
      "saved all speed cell booleans as npy files for mouse Y20 session 092622_record2\n",
      "saved all speed cell booleans as npy files for mouse Y20 session 092722_record3\n",
      "saved all speed cell booleans as npy files for mouse Y20 session 092822_record4\n",
      "saved all speed cell booleans as npy files for mouse Y20 session 092922_record5\n",
      "saved all speed cell booleans as npy files for mouse Y20 session 093022_record6\n",
      "saved all speed cell booleans as npy files for mouse Y21 session 091822_record1\n",
      "saved all speed cell booleans as npy files for mouse Y21 session 091922_record2\n",
      "saved all speed cell booleans as npy files for mouse Y21 session 092022_record3\n",
      "saved all speed cell booleans as npy files for mouse Y21 session 092122_record4\n",
      "saved all speed cell booleans as npy files for mouse Y21 session 092222_record5\n",
      "saved all speed cell booleans as npy files for mouse Y21 session 092322_record6\n",
      "saved all speed cell booleans as npy files for mouse Y22 session 092522_record1\n",
      "saved all speed cell booleans as npy files for mouse Y22 session 092622_record2\n",
      "saved all speed cell booleans as npy files for mouse Y22 session 092722_record3\n",
      "saved all speed cell booleans as npy files for mouse Y22 session 092822_record4\n",
      "saved all speed cell booleans as npy files for mouse Y22 session 092922_record5\n",
      "saved all speed cell booleans as npy files for mouse Y22 session 093022_record6\n",
      "saved all speed cell booleans as npy files for mouse Y23 session 092522_record1\n",
      "saved all speed cell booleans as npy files for mouse Y23 session 092622_record2\n",
      "saved all speed cell booleans as npy files for mouse Y23 session 092722_record3\n",
      "saved all speed cell booleans as npy files for mouse Y23 session 092822_record4\n",
      "saved all speed cell booleans as npy files for mouse Y23 session 092922_record5\n",
      "saved all speed cell booleans as npy files for mouse Y23 session 093022_record6\n",
      "saved all speed cell booleans as npy files for mouse Y24 session 091822_record1\n",
      "saved all speed cell booleans as npy files for mouse Y24 session 091922_record2\n",
      "saved all speed cell booleans as npy files for mouse Y24 session 092022_record3\n",
      "saved all speed cell booleans as npy files for mouse Y24 session 092122_record4\n",
      "saved all speed cell booleans as npy files for mouse Y24 session 092222_record5\n",
      "saved all speed cell booleans as npy files for mouse Y24 session 092322_record6\n",
      "saved all speed cell booleans as npy files for mouse A19 session 012723_record2\n",
      "saved all speed cell booleans as npy files for mouse A19 session 012823_record3\n",
      "saved all speed cell booleans as npy files for mouse A19 session 012923_record4\n",
      "saved all speed cell booleans as npy files for mouse A19 session 013023_record5\n",
      "saved all speed cell booleans as npy files for mouse A19 session 013123_record6\n",
      "saved all speed cell booleans as npy files for mouse A19 session 020123_record7\n",
      "saved all speed cell booleans as npy files for mouse A20 session 012623_record1\n",
      "saved all speed cell booleans as npy files for mouse A20 session 012723_record2\n"
     ]
    },
    {
     "name": "stdout",
     "output_type": "stream",
     "text": [
      "saved all speed cell booleans as npy files for mouse A20 session 012823_record3\n",
      "saved all speed cell booleans as npy files for mouse A20 session 012923_record4\n",
      "saved all speed cell booleans as npy files for mouse A20 session 013023_record5\n",
      "saved all speed cell booleans as npy files for mouse A20 session 013123_record6\n",
      "saved all speed cell booleans as npy files for mouse A22 session 012923_record2\n",
      "saved all speed cell booleans as npy files for mouse A22 session 013023_record3\n",
      "saved all speed cell booleans as npy files for mouse A22 session 013123_record4\n",
      "saved all speed cell booleans as npy files for mouse A22 session 020123_record5\n",
      "saved all speed cell booleans as npy files for mouse A22 session 020223_record6\n",
      "saved all speed cell booleans as npy files for mouse A22 session 020323_record7\n",
      "saved all speed cell booleans as npy files for mouse A23 session 020923_record1\n",
      "saved all speed cell booleans as npy files for mouse A23 session 021023_record2\n",
      "saved all speed cell booleans as npy files for mouse A23 session 021123_record3\n",
      "saved all speed cell booleans as npy files for mouse A23 session 021223_record4\n",
      "saved all speed cell booleans as npy files for mouse A23 session 021323_record5\n",
      "saved all speed cell booleans as npy files for mouse A23 session 021423_record6\n",
      "saved all speed cell booleans as npy files for mouse A24 session 022623_record1\n",
      "saved all speed cell booleans as npy files for mouse A24 session 022723_record2\n",
      "saved all speed cell booleans as npy files for mouse A24 session 022823_record3\n",
      "saved all speed cell booleans as npy files for mouse A24 session 030123_record4\n",
      "saved all speed cell booleans as npy files for mouse A24 session 030223_record5\n",
      "saved all speed cell booleans as npy files for mouse A24 session 030323_record6\n",
      "saved all speed cell booleans as npy files for mouse Y25 session 021623_record1\n",
      "saved all speed cell booleans as npy files for mouse Y25 session 021723_record2\n",
      "saved all speed cell booleans as npy files for mouse Y25 session 021823_record3\n",
      "saved all speed cell booleans as npy files for mouse Y25 session 021923_record4\n",
      "saved all speed cell booleans as npy files for mouse Y25 session 022023_record5\n",
      "saved all speed cell booleans as npy files for mouse Y25 session 022123_record6\n",
      "saved all speed cell booleans as npy files for mouse Y26 session 021623_record1\n",
      "saved all speed cell booleans as npy files for mouse Y26 session 021723_record2\n",
      "saved all speed cell booleans as npy files for mouse Y26 session 021823_record3\n",
      "saved all speed cell booleans as npy files for mouse Y26 session 021923_record4\n",
      "saved all speed cell booleans as npy files for mouse Y26 session 022023_record5\n",
      "saved all speed cell booleans as npy files for mouse Y26 session 022123_record6\n",
      "saved all speed cell booleans as npy files for mouse Y27 session 021623_record1\n",
      "saved all speed cell booleans as npy files for mouse Y27 session 021723_record2\n",
      "saved all speed cell booleans as npy files for mouse Y27 session 021823_record3\n",
      "saved all speed cell booleans as npy files for mouse Y27 session 021923_record4\n",
      "saved all speed cell booleans as npy files for mouse Y27 session 022023_record5rep\n",
      "saved all speed cell booleans as npy files for mouse Y27 session 022123_record6\n",
      "saved all speed cell booleans as npy files for mouse Y28 session 022623_record1\n",
      "saved all speed cell booleans as npy files for mouse Y28 session 022723_record2\n",
      "saved all speed cell booleans as npy files for mouse Y28 session 022823_record3\n",
      "saved all speed cell booleans as npy files for mouse Y28 session 030123_record4\n",
      "saved all speed cell booleans as npy files for mouse Y28 session 030223_record5\n",
      "saved all speed cell booleans as npy files for mouse Y28 session 030323_record6\n"
     ]
    }
   ],
   "source": [
    "'''Load Scores & Save Booleans of Negative & Positively Modulated Speed Cells \n",
    "  \n",
    " NOTE: shuffled scores are produced by the notebook \"Shuffle Procedure.\" Please run that for all sessions before proceeding here.\n",
    "\n",
    "'''  \n",
    "\n",
    "P99score = []\n",
    "P99stabscore = []\n",
    "for m, session in zip(mice,sessions):\n",
    "    for s in session:\n",
    "        d = data[m][s]\n",
    "    \n",
    "        #get file names\n",
    "        realspeedscore_file = 'realinstspeedscore_' + m + '_' + s + '.npy'\n",
    "        realspeedstabscore_file = 'realspeedstabscore_' + m + '_' + s + '.npy'\n",
    "        shufinstspeedscore_file = 'shufinstspeedscore_' + m + '_' + s + '.npy'\n",
    "        shufspeedstabscore_file = 'shufspeedstabscore_' + m + '_' + s + '.npy'\n",
    "        rawdata_file = 'RAW_' + m + '_' + s + '.npy'\n",
    "        \n",
    "        #Load stuff & get data relevant to classification\n",
    "        d['speedscore'] = np.load(save_folder + realspeedscore_file)\n",
    "        d['speedstabscore'] = np.load(save_folder + realspeedstabscore_file)\n",
    "        d['shufspeedscore'] = np.load(shuffload_folder1 + shufinstspeedscore_file, allow_pickle = True) \n",
    "        d['shufspeedstabscore'] = np.load(shuffload_folder2 + shufspeedstabscore_file, allow_pickle = True) \n",
    "        raw = np.load(load_folder + rawdata_file, allow_pickle=True)\n",
    "        \n",
    "        shufspeedscore = d['shufspeedscore']\n",
    "        shufspeedstabscore = d['shufspeedstabscore']\n",
    "        realspeed_score = d['speedscore'] \n",
    "        realspeedstab_score = d['speedstabscore'] \n",
    "        cell_IDs = raw.item().get('cellsfil')\n",
    "        \n",
    "        speedcell99 = []\n",
    "        speedcell1 = []\n",
    "        \n",
    "        #Classify excitatory, positively & negatively modulated speed cells\n",
    "        for i, c in enumerate(cell_IDs):\n",
    "            dist = abs(shufspeedscore[:,i])\n",
    "            P99 = np.percentile(dist,99)\n",
    "            \n",
    "            dist2 = abs(shufspeedstabscore[:,i])\n",
    "            sP99 = np.percentile(dist2,99)\n",
    "            \n",
    "            P99stabscore = np.append(P99stabscore, sP99)\n",
    "            P99score = np.append(P99score, P99)\n",
    "\n",
    "            if (abs(realspeed_score[i]) >= P99) & (abs(realspeedstab_score[i]) >= sP99):\n",
    "                if realspeed_score[i] >= 0: # pos mod P99 cell\n",
    "                    speedcell99 = np.append(speedcell99, True)\n",
    "                    speedcell1 = np.append(speedcell1, False)\n",
    "                else: # neg mod P99 cell\n",
    "                    speedcell99 = np.append(speedcell99, False)\n",
    "                    speedcell1 = np.append(speedcell1, True) \n",
    "            else:\n",
    "                speedcell99 = np.append(speedcell99, False)\n",
    "                speedcell1 = np.append(speedcell1, False) \n",
    "\n",
    "        speedcell99 = np.asarray(speedcell99).astype(bool)\n",
    "        speedcell1 = np.asarray(speedcell1).astype(bool)\n",
    "                \n",
    "        #save speed cell classification boolean as .npy file for easy access for all animals\n",
    "        d['speedcell99'] = speedcell99\n",
    "        d['speedcell1'] = speedcell1\n",
    "        \n",
    "        #speedcell99_file = 'speedcell99_' + m + '_' + s + '.npy'\n",
    "        #speedcell1_file = 'speedcell1_' + m + '_' + s + '.npy'\n",
    "        \n",
    "        #np.save(save_folder + speedcell99_file, speedcell99)\n",
    "        #np.save(save_folder + speedcell1_file, speedcell1)\n",
    "        print('saved all speed cell booleans as npy files for mouse ' + m + ' session '+ s)"
   ]
  },
  {
   "cell_type": "code",
   "execution_count": 13,
   "id": "25339f74",
   "metadata": {},
   "outputs": [],
   "source": [
    "'''Load Scores & Save Booleans of Negative & Positively Modulated Speed Cells \n",
    "  \n",
    " NOTE: shuffled scores are produced by the notebook \"Shuffle Procedure.\" Please run that for all sessions before proceeding here.\n",
    "\n",
    "'''  \n",
    "\n",
    "P95score = []\n",
    "P95stabscore = []\n",
    "for m, session in zip(mice,sessions):\n",
    "    for s in session:\n",
    "        d = data[m][s]\n",
    "    \n",
    "        #get file names\n",
    "        realspeedscore_file = 'realinstspeedscore_' + m + '_' + s + '.npy'\n",
    "        realspeedstabscore_file = 'realspeedstabscore_' + m + '_' + s + '.npy'\n",
    "        shufinstspeedscore_file = 'shufinstspeedscore_' + m + '_' + s + '.npy'\n",
    "        shufspeedstabscore_file = 'shufspeedstabscore_' + m + '_' + s + '.npy'\n",
    "        rawdata_file = 'RAW_' + m + '_' + s + '.npy'\n",
    "        \n",
    "        #Load stuff & get data relevant to classification\n",
    "        d['speedscore'] = np.load(save_folder + realspeedscore_file)\n",
    "        d['speedstabscore'] = np.load(save_folder + realspeedstabscore_file)\n",
    "        d['shufspeedscore'] = np.load(shuffload_folder1 + shufinstspeedscore_file, allow_pickle = True) \n",
    "        d['shufspeedstabscore'] = np.load(shuffload_folder2 + shufspeedstabscore_file, allow_pickle = True) \n",
    "        raw = np.load(load_folder + rawdata_file, allow_pickle=True)\n",
    "        \n",
    "        shufspeedscore = d['shufspeedscore']\n",
    "        shufspeedstabscore = d['shufspeedstabscore']\n",
    "        realspeed_score = d['speedscore'] \n",
    "        realspeedstab_score = d['speedstabscore'] \n",
    "        cell_IDs = raw.item().get('cellsfil')\n",
    "        \n",
    "        speedcell95 = []\n",
    "        speedcell5 = []\n",
    "        \n",
    "        #Classify excitatory, positively & negatively modulated speed cells\n",
    "        for i, c in enumerate(cell_IDs):\n",
    "            dist = abs(shufspeedscore[:,i])\n",
    "            P95 = np.percentile(dist,95)\n",
    "            \n",
    "            dist2 = abs(shufspeedstabscore[:,i])\n",
    "            sP95 = np.percentile(dist2,95)\n",
    "            \n",
    "            P95stabscore = np.append(P95stabscore, sP95)\n",
    "            P95score = np.append(P95score, P95)\n",
    "\n",
    "            if (abs(realspeed_score[i]) >= P95) & (abs(realspeedstab_score[i]) >= sP95):\n",
    "                if realspeed_score[i] >= 0: # pos mod P95 cell\n",
    "                    speedcell95 = np.append(speedcell95, True)\n",
    "                    speedcell5 = np.append(speedcell5, False)\n",
    "                else: # neg mod P95 cell\n",
    "                    speedcell95 = np.append(speedcell95, False)\n",
    "                    speedcell5 = np.append(speedcell5, True) \n",
    "            else:\n",
    "                speedcell95 = np.append(speedcell95, False)\n",
    "                speedcell5 = np.append(speedcell5, False) \n",
    "\n",
    "        speedcell95 = np.asarray(speedcell95).astype(bool)\n",
    "        speedcell5 = np.asarray(speedcell5).astype(bool)\n",
    "                \n",
    "        #save speed cell classification boolean as .npy file for easy access for all animals\n",
    "        d['speedcell95'] = speedcell95\n",
    "        d['speedcell5'] = speedcell5\n",
    "        \n",
    "        #speedcell95_file = 'speedcell95_' + m + '_' + s + '.npy'\n",
    "        #speedcell5_file = 'speedcell5_' + m + '_' + s + '.npy'\n",
    "        \n",
    "        #np.save(save_folder + speedcell95_file, speedcell95)\n",
    "        #np.save(save_folder + speedcell5_file, speedcell5)\n",
    "        #print('saved all speed cell booleans as npy files for mouse ' + m + ' session '+ s)"
   ]
  },
  {
   "cell_type": "code",
   "execution_count": 16,
   "id": "726146c7",
   "metadata": {},
   "outputs": [
    {
     "name": "stdout",
     "output_type": "stream",
     "text": [
      "6522 4062 6507\n",
      "3085 2071 2912\n"
     ]
    }
   ],
   "source": [
    "''' Total of Cells of Each Type by Age Group at P99 Thresholds'''\n",
    "\n",
    "ypos = 0\n",
    "mapos = 0\n",
    "apos = 0\n",
    "\n",
    "yneg = 0\n",
    "maneg = 0\n",
    "aneg = 0 \n",
    "\n",
    "for m, session in zip(mice,sessions):    \n",
    "    for s in session:\n",
    "        d = data[m][s]\n",
    "        \n",
    "        #load in data\n",
    "        rawdata_file = 'RAW_' + m + '_' + s + '.npy'\n",
    "        raw = np.load(load_folder + rawdata_file, allow_pickle=True)\n",
    "        cell_IDs = raw.item().get('cellsfil')\n",
    "        \n",
    "        poscell = d['speedcell99']\n",
    "        negcell = d['speedcell1']\n",
    "        \n",
    "        poscell = poscell.astype(bool)\n",
    "        negcell = negcell.astype(bool)\n",
    "        \n",
    "        if (m in all_aged_mice):\n",
    "            apos += np.sum(poscell)\n",
    "            aneg += np.sum(negcell)\n",
    "        elif m in SM_MA_mice:\n",
    "            mapos += np.sum(poscell)\n",
    "            maneg += np.sum(negcell)\n",
    "        else:\n",
    "            ypos += np.sum(poscell)\n",
    "            yneg += np.sum(negcell)\n",
    "            \n",
    "print(ypos, mapos, apos)\n",
    "print(yneg, maneg, aneg)"
   ]
  },
  {
   "cell_type": "code",
   "execution_count": 17,
   "id": "63c50721",
   "metadata": {},
   "outputs": [
    {
     "name": "stdout",
     "output_type": "stream",
     "text": [
      "7601 4648 7481\n",
      "3763 2410 3473\n"
     ]
    }
   ],
   "source": [
    "''' Total of Cells of Each Type by Age Group at P95 Thresholds'''\n",
    "\n",
    "ypos = 0\n",
    "mapos = 0\n",
    "apos = 0\n",
    "\n",
    "yneg = 0\n",
    "maneg = 0\n",
    "aneg = 0 \n",
    "\n",
    "for m, session in zip(mice,sessions):    \n",
    "    for s in session:\n",
    "        d = data[m][s]\n",
    "        \n",
    "        #load in data\n",
    "        rawdata_file = 'RAW_' + m + '_' + s + '.npy'\n",
    "        raw = np.load(load_folder + rawdata_file, allow_pickle=True)\n",
    "        cell_IDs = raw.item().get('cellsfil')\n",
    "        \n",
    "        poscell = d['speedcell95']\n",
    "        negcell = d['speedcell5']\n",
    "        \n",
    "        poscell = poscell.astype(bool)\n",
    "        negcell = negcell.astype(bool)\n",
    "        \n",
    "        if m in all_aged_mice:\n",
    "            apos += np.sum(poscell)\n",
    "            aneg += np.sum(negcell)\n",
    "        elif m in SM_MA_mice:\n",
    "            mapos += np.sum(poscell)\n",
    "            maneg += np.sum(negcell)\n",
    "        else:\n",
    "            ypos += np.sum(poscell)\n",
    "            yneg += np.sum(negcell)\n",
    "            \n",
    "print(ypos, mapos, apos)\n",
    "print(yneg, maneg, aneg)"
   ]
  },
  {
   "cell_type": "markdown",
   "id": "71b1ee3d",
   "metadata": {},
   "source": [
    "# Examine speed tuning among classified speed cells (~Figure 6D-E)"
   ]
  },
  {
   "cell_type": "code",
   "execution_count": 20,
   "id": "42dbcdce",
   "metadata": {
    "scrolled": true
   },
   "outputs": [
    {
     "data": {
      "application/vnd.jupyter.widget-view+json": {
       "model_id": "7b68df718b70419a8a74d189691b9a7f",
       "version_major": 2,
       "version_minor": 0
      },
      "text/plain": [
       "  0%|          | 0/6 [00:00<?, ?it/s]"
      ]
     },
     "metadata": {},
     "output_type": "display_data"
    },
    {
     "data": {
      "application/vnd.jupyter.widget-view+json": {
       "model_id": "e8f6ab0d42a34817b6653db2024848fe",
       "version_major": 2,
       "version_minor": 0
      },
      "text/plain": [
       "  0%|          | 0/6 [00:00<?, ?it/s]"
      ]
     },
     "metadata": {},
     "output_type": "display_data"
    },
    {
     "data": {
      "application/vnd.jupyter.widget-view+json": {
       "model_id": "229254f0a7984f50a3fb8382e3bbd82d",
       "version_major": 2,
       "version_minor": 0
      },
      "text/plain": [
       "  0%|          | 0/6 [00:00<?, ?it/s]"
      ]
     },
     "metadata": {},
     "output_type": "display_data"
    },
    {
     "data": {
      "application/vnd.jupyter.widget-view+json": {
       "model_id": "f74cfbd98876419a969d0d694a970bfb",
       "version_major": 2,
       "version_minor": 0
      },
      "text/plain": [
       "  0%|          | 0/6 [00:00<?, ?it/s]"
      ]
     },
     "metadata": {},
     "output_type": "display_data"
    },
    {
     "data": {
      "application/vnd.jupyter.widget-view+json": {
       "model_id": "cddf629d6e784039b1dededfb2625cf3",
       "version_major": 2,
       "version_minor": 0
      },
      "text/plain": [
       "  0%|          | 0/6 [00:00<?, ?it/s]"
      ]
     },
     "metadata": {},
     "output_type": "display_data"
    },
    {
     "data": {
      "application/vnd.jupyter.widget-view+json": {
       "model_id": "c1e50db70d4e45a2a1358cd2a842d2ac",
       "version_major": 2,
       "version_minor": 0
      },
      "text/plain": [
       "  0%|          | 0/5 [00:00<?, ?it/s]"
      ]
     },
     "metadata": {},
     "output_type": "display_data"
    },
    {
     "data": {
      "application/vnd.jupyter.widget-view+json": {
       "model_id": "eab5f48a75544cc0916eb43e61343a3b",
       "version_major": 2,
       "version_minor": 0
      },
      "text/plain": [
       "  0%|          | 0/5 [00:00<?, ?it/s]"
      ]
     },
     "metadata": {},
     "output_type": "display_data"
    },
    {
     "data": {
      "application/vnd.jupyter.widget-view+json": {
       "model_id": "0a1b5b807f62446286179bea8607cb2a",
       "version_major": 2,
       "version_minor": 0
      },
      "text/plain": [
       "  0%|          | 0/6 [00:00<?, ?it/s]"
      ]
     },
     "metadata": {},
     "output_type": "display_data"
    },
    {
     "data": {
      "application/vnd.jupyter.widget-view+json": {
       "model_id": "a1fdb960bdc642a7b84cfef40b4f559c",
       "version_major": 2,
       "version_minor": 0
      },
      "text/plain": [
       "  0%|          | 0/6 [00:00<?, ?it/s]"
      ]
     },
     "metadata": {},
     "output_type": "display_data"
    },
    {
     "data": {
      "application/vnd.jupyter.widget-view+json": {
       "model_id": "354ae7355af546c9a4d831d03cc13dc8",
       "version_major": 2,
       "version_minor": 0
      },
      "text/plain": [
       "  0%|          | 0/6 [00:00<?, ?it/s]"
      ]
     },
     "metadata": {},
     "output_type": "display_data"
    },
    {
     "data": {
      "application/vnd.jupyter.widget-view+json": {
       "model_id": "762cc03fe6b5463292f2c0967e0054b6",
       "version_major": 2,
       "version_minor": 0
      },
      "text/plain": [
       "  0%|          | 0/5 [00:00<?, ?it/s]"
      ]
     },
     "metadata": {},
     "output_type": "display_data"
    },
    {
     "data": {
      "application/vnd.jupyter.widget-view+json": {
       "model_id": "0e220645754041ae8852a78f58b0d3e4",
       "version_major": 2,
       "version_minor": 0
      },
      "text/plain": [
       "  0%|          | 0/3 [00:00<?, ?it/s]"
      ]
     },
     "metadata": {},
     "output_type": "display_data"
    },
    {
     "name": "stderr",
     "output_type": "stream",
     "text": [
      "C:\\Users\\Python\\anaconda3\\envs\\agingmec\\lib\\site-packages\\numpy\\core\\fromnumeric.py:3464: RuntimeWarning: Mean of empty slice.\n",
      "  return _methods._mean(a, axis=axis, dtype=dtype,\n",
      "C:\\Users\\Python\\anaconda3\\envs\\agingmec\\lib\\site-packages\\numpy\\core\\_methods.py:192: RuntimeWarning: invalid value encountered in scalar divide\n",
      "  ret = ret.dtype.type(ret / rcount)\n"
     ]
    },
    {
     "data": {
      "application/vnd.jupyter.widget-view+json": {
       "model_id": "5ecc123929af48a891bb679c0677ef24",
       "version_major": 2,
       "version_minor": 0
      },
      "text/plain": [
       "  0%|          | 0/6 [00:00<?, ?it/s]"
      ]
     },
     "metadata": {},
     "output_type": "display_data"
    },
    {
     "data": {
      "application/vnd.jupyter.widget-view+json": {
       "model_id": "1ee06e6118564093b7e809b0fef0bb28",
       "version_major": 2,
       "version_minor": 0
      },
      "text/plain": [
       "  0%|          | 0/6 [00:00<?, ?it/s]"
      ]
     },
     "metadata": {},
     "output_type": "display_data"
    },
    {
     "data": {
      "application/vnd.jupyter.widget-view+json": {
       "model_id": "ff928f0de0b142078c45662b6cc43cb5",
       "version_major": 2,
       "version_minor": 0
      },
      "text/plain": [
       "  0%|          | 0/6 [00:00<?, ?it/s]"
      ]
     },
     "metadata": {},
     "output_type": "display_data"
    },
    {
     "data": {
      "application/vnd.jupyter.widget-view+json": {
       "model_id": "e9918a3c5f8e49de9a00b54dde50b9e6",
       "version_major": 2,
       "version_minor": 0
      },
      "text/plain": [
       "  0%|          | 0/2 [00:00<?, ?it/s]"
      ]
     },
     "metadata": {},
     "output_type": "display_data"
    },
    {
     "data": {
      "application/vnd.jupyter.widget-view+json": {
       "model_id": "9fb77696bea444eba570f7d465cd8f93",
       "version_major": 2,
       "version_minor": 0
      },
      "text/plain": [
       "  0%|          | 0/3 [00:00<?, ?it/s]"
      ]
     },
     "metadata": {},
     "output_type": "display_data"
    },
    {
     "data": {
      "application/vnd.jupyter.widget-view+json": {
       "model_id": "c0aaf1bc437941ef864306baa09c8773",
       "version_major": 2,
       "version_minor": 0
      },
      "text/plain": [
       "  0%|          | 0/6 [00:00<?, ?it/s]"
      ]
     },
     "metadata": {},
     "output_type": "display_data"
    },
    {
     "data": {
      "application/vnd.jupyter.widget-view+json": {
       "model_id": "4145b126016542a88ae8cbbd7b5f58c0",
       "version_major": 2,
       "version_minor": 0
      },
      "text/plain": [
       "  0%|          | 0/4 [00:00<?, ?it/s]"
      ]
     },
     "metadata": {},
     "output_type": "display_data"
    },
    {
     "data": {
      "application/vnd.jupyter.widget-view+json": {
       "model_id": "527da1c6bdc94b32a4d4fa4f8a87f26f",
       "version_major": 2,
       "version_minor": 0
      },
      "text/plain": [
       "  0%|          | 0/6 [00:00<?, ?it/s]"
      ]
     },
     "metadata": {},
     "output_type": "display_data"
    },
    {
     "data": {
      "application/vnd.jupyter.widget-view+json": {
       "model_id": "108fd1a3929f496a839835e865dbbe2f",
       "version_major": 2,
       "version_minor": 0
      },
      "text/plain": [
       "  0%|          | 0/6 [00:00<?, ?it/s]"
      ]
     },
     "metadata": {},
     "output_type": "display_data"
    },
    {
     "data": {
      "application/vnd.jupyter.widget-view+json": {
       "model_id": "641f97beb9b24e619f9c5cee2107f8f1",
       "version_major": 2,
       "version_minor": 0
      },
      "text/plain": [
       "  0%|          | 0/6 [00:00<?, ?it/s]"
      ]
     },
     "metadata": {},
     "output_type": "display_data"
    },
    {
     "data": {
      "application/vnd.jupyter.widget-view+json": {
       "model_id": "fec019f6bb094527b8aa1ade98796257",
       "version_major": 2,
       "version_minor": 0
      },
      "text/plain": [
       "  0%|          | 0/6 [00:00<?, ?it/s]"
      ]
     },
     "metadata": {},
     "output_type": "display_data"
    },
    {
     "data": {
      "application/vnd.jupyter.widget-view+json": {
       "model_id": "a05f06f30f704c278b9bee28bd06d2cc",
       "version_major": 2,
       "version_minor": 0
      },
      "text/plain": [
       "  0%|          | 0/6 [00:00<?, ?it/s]"
      ]
     },
     "metadata": {},
     "output_type": "display_data"
    },
    {
     "data": {
      "application/vnd.jupyter.widget-view+json": {
       "model_id": "1c999a21ddb440bd9a7050fd843c0d49",
       "version_major": 2,
       "version_minor": 0
      },
      "text/plain": [
       "  0%|          | 0/6 [00:00<?, ?it/s]"
      ]
     },
     "metadata": {},
     "output_type": "display_data"
    },
    {
     "data": {
      "application/vnd.jupyter.widget-view+json": {
       "model_id": "22633ea04dc543be9a3bc63025b2f7b9",
       "version_major": 2,
       "version_minor": 0
      },
      "text/plain": [
       "  0%|          | 0/6 [00:00<?, ?it/s]"
      ]
     },
     "metadata": {},
     "output_type": "display_data"
    },
    {
     "data": {
      "application/vnd.jupyter.widget-view+json": {
       "model_id": "6ea82bf0f6c941b6bc27d1c62e31f464",
       "version_major": 2,
       "version_minor": 0
      },
      "text/plain": [
       "  0%|          | 0/6 [00:00<?, ?it/s]"
      ]
     },
     "metadata": {},
     "output_type": "display_data"
    },
    {
     "data": {
      "application/vnd.jupyter.widget-view+json": {
       "model_id": "53f6a25e8ebb4c3e94c57d2b0a1aad01",
       "version_major": 2,
       "version_minor": 0
      },
      "text/plain": [
       "  0%|          | 0/4 [00:00<?, ?it/s]"
      ]
     },
     "metadata": {},
     "output_type": "display_data"
    },
    {
     "data": {
      "application/vnd.jupyter.widget-view+json": {
       "model_id": "499afeca6c7b45729f54477ac69cd657",
       "version_major": 2,
       "version_minor": 0
      },
      "text/plain": [
       "  0%|          | 0/6 [00:00<?, ?it/s]"
      ]
     },
     "metadata": {},
     "output_type": "display_data"
    },
    {
     "data": {
      "application/vnd.jupyter.widget-view+json": {
       "model_id": "d2b2cab737214902ac7de454d18c2483",
       "version_major": 2,
       "version_minor": 0
      },
      "text/plain": [
       "  0%|          | 0/6 [00:00<?, ?it/s]"
      ]
     },
     "metadata": {},
     "output_type": "display_data"
    },
    {
     "data": {
      "application/vnd.jupyter.widget-view+json": {
       "model_id": "14dc19fdc3e9499aa7fd39a5cdfd2e89",
       "version_major": 2,
       "version_minor": 0
      },
      "text/plain": [
       "  0%|          | 0/6 [00:00<?, ?it/s]"
      ]
     },
     "metadata": {},
     "output_type": "display_data"
    },
    {
     "data": {
      "application/vnd.jupyter.widget-view+json": {
       "model_id": "4b82707be707460682bf96ffae54fc1b",
       "version_major": 2,
       "version_minor": 0
      },
      "text/plain": [
       "  0%|          | 0/6 [00:00<?, ?it/s]"
      ]
     },
     "metadata": {},
     "output_type": "display_data"
    },
    {
     "data": {
      "application/vnd.jupyter.widget-view+json": {
       "model_id": "e2a91b3e2b5b4111b8dc95b8e25bb8d5",
       "version_major": 2,
       "version_minor": 0
      },
      "text/plain": [
       "  0%|          | 0/6 [00:00<?, ?it/s]"
      ]
     },
     "metadata": {},
     "output_type": "display_data"
    },
    {
     "data": {
      "application/vnd.jupyter.widget-view+json": {
       "model_id": "1564342de4e34581ba627c7bc8406ba7",
       "version_major": 2,
       "version_minor": 0
      },
      "text/plain": [
       "  0%|          | 0/6 [00:00<?, ?it/s]"
      ]
     },
     "metadata": {},
     "output_type": "display_data"
    },
    {
     "data": {
      "application/vnd.jupyter.widget-view+json": {
       "model_id": "517808182c7a49de91ccce1caac451c7",
       "version_major": 2,
       "version_minor": 0
      },
      "text/plain": [
       "  0%|          | 0/6 [00:00<?, ?it/s]"
      ]
     },
     "metadata": {},
     "output_type": "display_data"
    },
    {
     "data": {
      "application/vnd.jupyter.widget-view+json": {
       "model_id": "f7e80242a5f845aba1bdb0d907287a5b",
       "version_major": 2,
       "version_minor": 0
      },
      "text/plain": [
       "  0%|          | 0/6 [00:00<?, ?it/s]"
      ]
     },
     "metadata": {},
     "output_type": "display_data"
    },
    {
     "data": {
      "application/vnd.jupyter.widget-view+json": {
       "model_id": "5bb6f0ce34f141428261c4acc08f8099",
       "version_major": 2,
       "version_minor": 0
      },
      "text/plain": [
       "  0%|          | 0/6 [00:00<?, ?it/s]"
      ]
     },
     "metadata": {},
     "output_type": "display_data"
    },
    {
     "data": {
      "application/vnd.jupyter.widget-view+json": {
       "model_id": "92caa33a501b4ebb8f7894ddfdf1a030",
       "version_major": 2,
       "version_minor": 0
      },
      "text/plain": [
       "  0%|          | 0/6 [00:00<?, ?it/s]"
      ]
     },
     "metadata": {},
     "output_type": "display_data"
    },
    {
     "data": {
      "application/vnd.jupyter.widget-view+json": {
       "model_id": "0d49b79c6ecc4ea686e7a9a18e86e049",
       "version_major": 2,
       "version_minor": 0
      },
      "text/plain": [
       "  0%|          | 0/6 [00:00<?, ?it/s]"
      ]
     },
     "metadata": {},
     "output_type": "display_data"
    },
    {
     "data": {
      "application/vnd.jupyter.widget-view+json": {
       "model_id": "6ba4b290ad7d4327b5188448a546af8b",
       "version_major": 2,
       "version_minor": 0
      },
      "text/plain": [
       "  0%|          | 0/6 [00:00<?, ?it/s]"
      ]
     },
     "metadata": {},
     "output_type": "display_data"
    },
    {
     "data": {
      "application/vnd.jupyter.widget-view+json": {
       "model_id": "d09e429c61c848b0b9bb0c333fa419ad",
       "version_major": 2,
       "version_minor": 0
      },
      "text/plain": [
       "  0%|          | 0/6 [00:00<?, ?it/s]"
      ]
     },
     "metadata": {},
     "output_type": "display_data"
    },
    {
     "data": {
      "application/vnd.jupyter.widget-view+json": {
       "model_id": "68c12b0b1eeb4c448bbf49160af08101",
       "version_major": 2,
       "version_minor": 0
      },
      "text/plain": [
       "  0%|          | 0/6 [00:00<?, ?it/s]"
      ]
     },
     "metadata": {},
     "output_type": "display_data"
    },
    {
     "data": {
      "application/vnd.jupyter.widget-view+json": {
       "model_id": "4b93c974cfc6476ab01ae037e7516396",
       "version_major": 2,
       "version_minor": 0
      },
      "text/plain": [
       "  0%|          | 0/6 [00:00<?, ?it/s]"
      ]
     },
     "metadata": {},
     "output_type": "display_data"
    },
    {
     "data": {
      "application/vnd.jupyter.widget-view+json": {
       "model_id": "4c66d02556114a6b9d85c4c1d087809f",
       "version_major": 2,
       "version_minor": 0
      },
      "text/plain": [
       "  0%|          | 0/6 [00:00<?, ?it/s]"
      ]
     },
     "metadata": {},
     "output_type": "display_data"
    },
    {
     "data": {
      "application/vnd.jupyter.widget-view+json": {
       "model_id": "6b2866d4e39049d1ba7ae4c18367b37c",
       "version_major": 2,
       "version_minor": 0
      },
      "text/plain": [
       "  0%|          | 0/6 [00:00<?, ?it/s]"
      ]
     },
     "metadata": {},
     "output_type": "display_data"
    }
   ],
   "source": [
    "'''Collect Speed Cell FR Slope'''\n",
    "# set up arrays for plotting by session \n",
    "sslope95 = []\n",
    "sslope5 = []\n",
    "\n",
    "#arrays for density of +/- speed cells \n",
    "sper95 = []\n",
    "sper5 = []\n",
    "mper95 = []\n",
    "mper5 = []\n",
    "\n",
    "dt = 0.02\n",
    "\n",
    "for m, session in zip(mice,sessions):\n",
    "    m_cells = []\n",
    "    m_95 = []\n",
    "    m_5 = []\n",
    "    \n",
    "    for s in tdqm(session):\n",
    "        d = data[m][s]\n",
    "    \n",
    "        #get file names & load data necessary\n",
    "        rawdata_file = 'RAW_' + m + '_' + s + '.npy'\n",
    "        spikes_file = 'SPIKES_' + m + '_' + s +'.npy'\n",
    "        behavior_file = 'BEHAVIOR_' + m + '_' + s + '.npy'\n",
    "        A_file = 'A_' + m + '_' + s + '.npy'\n",
    "        intn_file = 'intn_' + m + '_' + s + '.npy'\n",
    "\n",
    "        raw = np.load(load_folder + rawdata_file, allow_pickle=True)\n",
    "        behaviorfil = np.load(load_folder + behavior_file, allow_pickle=False)\n",
    "        \n",
    "        A = np.load(save_folder + A_file)\n",
    "        speed = behaviorfil[:,1]\n",
    "       \n",
    "        #get dict-stored data\n",
    "        cell_IDs = raw.item().get('cellsfil')\n",
    "        d['intn'] = np.load(int_save_folder + intn_file, allow_pickle = True)\n",
    "        d['intn'] = d['intn'].astype(bool)\n",
    "        intn = d['intn']\n",
    "        \n",
    "        speedcell95 = d['speedcell95']\n",
    "        speedcell5 = d['speedcell5']\n",
    "        speedcells95 = cell_IDs[(speedcell95 == 1) & (intn == 0)]\n",
    "        speedcells5 = cell_IDs[(speedcell5 == 1) & (intn == 0)]\n",
    "        \n",
    "        sper95 = np.append(sper95, 100*len(speedcells95)/len(cell_IDs))\n",
    "        sper5 = np.append(sper5, 100*len(speedcells5)/len(cell_IDs))\n",
    "        \n",
    "        #get slopes for each speed cell population\n",
    "        slope95 = []\n",
    "        for i, c in enumerate(speedcells95):\n",
    "            sdx = (np.where(cell_IDs==c)[0][0]).astype(int)\n",
    "            \n",
    "            #get slope/FR and convert to Hz/speed\n",
    "            slopeFR, intFR, r_value, p_val, std_err = stats.linregress(speed, A[:,sdx])\n",
    "            slopeFR = slopeFR/dt\n",
    "            intFR = intFR/dt\n",
    "            slope95 = np.append(slope95,slopeFR) #FR/speed slope\n",
    "            \n",
    "        slope5 = []\n",
    "        for i, c in enumerate(speedcells5):\n",
    "            sdx = (np.where(cell_IDs==c)[0][0]).astype(int)\n",
    "            \n",
    "            #get slope/FR and convert to Hz/speed\n",
    "            slopeFR, intFR, r_value, p_val, std_err = stats.linregress(speed, A[:,sdx])\n",
    "            slopeFR = slopeFR/dt\n",
    "            intFR = intFR/dt\n",
    "            slope5 = np.append(slope5,slopeFR) #FR/speed slope\n",
    "        \n",
    "        #pool data into session arrays    \n",
    "        sslope95 = np.append(sslope95, np.mean(slope95))\n",
    "        sslope5 = np.append(sslope5, np.mean(slope5))\n",
    "        m_cells = np.append(m_cells, len(cell_IDs))\n",
    "        m_95 = np.append(m_95, len(speedcells95))\n",
    "        m_5 = np.append(m_5, len(speedcells5))\n",
    "        \n",
    "    mper95 = np.append(mper95, 100*np.sum(m_95)/np.sum(m_cells))\n",
    "    mper5 = np.append(mper5, 100*np.sum(m_5)/np.sum(m_cells))"
   ]
  },
  {
   "cell_type": "code",
   "execution_count": 21,
   "id": "cc498a68",
   "metadata": {},
   "outputs": [],
   "source": [
    "''' Find where I will have NaNs due to 0% speed cells in a given Session'''\n",
    "nan_idx95 = np.where((sper95 == 0))[0]\n",
    "nan_idx5 = np.where((sper5 == 0))[0]\n",
    "\n",
    "# Adjust y_sind, ma_sind, age_sind for subsequent plots\n",
    "y_sind95 = np.setdiff1d(y_sind, nan_idx95)\n",
    "ma_sind95 = np.setdiff1d(ma_sind, nan_idx95)\n",
    "age_sind95 = np.setdiff1d(age_sind, nan_idx95)\n",
    "\n",
    "y_sind5 = np.setdiff1d(y_sind, nan_idx5)\n",
    "ma_sind5 = np.setdiff1d(ma_sind, nan_idx5)\n",
    "age_sind5 = np.setdiff1d(age_sind, nan_idx5)\n",
    "\n",
    "#adjust colormaps\n",
    "yidx = []\n",
    "maidx = []\n",
    "aidx = []\n",
    "for i in nan_idx95:\n",
    "    yidx = np.append(yidx, np.where(y_sind == i)[0].astype(int))\n",
    "    maidx = np.append(maidx, np.where(ma_sind == i)[0].astype(int))\n",
    "    aidx = np.append(aidx, np.where(age_sind == i)[0].astype(int))\n",
    "    \n",
    "col_session_young95 = np.delete(col_session_young, list(yidx.astype(int)), axis = 0)\n",
    "col_session_ma95 = np.delete(col_session_MA, list(maidx.astype(int)), axis = 0)\n",
    "col_session_old95 = np.delete(col_session_old, list(aidx.astype(int)), axis = 0)\n",
    "col_session95 = [col_session_young95, col_session_ma95, col_session_old95] \n",
    "\n",
    "yidx = []\n",
    "maidx = []\n",
    "aidx = []\n",
    "for i in nan_idx5:\n",
    "    yidx = np.append(yidx, np.where(y_sind == i)[0].astype(int))\n",
    "    maidx = np.append(maidx, np.where(ma_sind == i)[0].astype(int))\n",
    "    aidx = np.append(aidx, np.where(age_sind == i)[0].astype(int))\n",
    "    \n",
    "col_session_young5 = np.delete(col_session_young, list(yidx.astype(int)), axis = 0)\n",
    "col_session_ma5 = np.delete(col_session_MA, list(maidx.astype(int)), axis = 0)\n",
    "col_session_old5 = np.delete(col_session_old, list(aidx.astype(int)), axis = 0)\n",
    "col_session5 = [col_session_young5, col_session_ma5, col_session_old5]       \n",
    "\n",
    "# This will fix how session stats & box plots are plotted, ensuring color schemes are adjusted."
   ]
  },
  {
   "cell_type": "code",
   "execution_count": 27,
   "id": "1c379195",
   "metadata": {},
   "outputs": [
    {
     "data": {
      "image/png": "[encoded data removed]",
      "text/plain": [
       "<Figure size 150x125 with 1 Axes>"
      ]
     },
     "metadata": {},
     "output_type": "display_data"
    },
    {
     "data": {
      "image/png": "[encoded data removed]",
      "text/plain": [
       "<Figure size 150x125 with 1 Axes>"
      ]
     },
     "metadata": {},
     "output_type": "display_data"
    }
   ],
   "source": [
    "''' Plot Figure 6d '''\n",
    "\n",
    "#set up handles\n",
    "from itertools import repeat\n",
    "handles = []\n",
    "mper = [mper5[y_ind], mper5[ma_ind], mper5[age_ind]]\n",
    "\n",
    "for i in range(len(mper)):    \n",
    "    for c in col_animal[i][0]:\n",
    "        dot = mlines.Line2D([],[], color = c, marker ='o', linestyle = 'None', markersize = 8)\n",
    "        handles.append(dot)\n",
    "        if c[0] == col_animal[1][0][9][0]: # adds white space so columns are color sorted\n",
    "            l = mlines.Line2D([0],[0],color=\"w\")\n",
    "            handles.extend(repeat(l,7))\n",
    "               \n",
    "#Plot Figure 6d (left)\n",
    "fig, ax = plt.subplots(figsize = (1.5,1.25))\n",
    "sslope = [sslope95[y_sind95], sslope95[ma_sind95], sslope95[age_sind95]]\n",
    "labels = ['Young','MA','Aged']\n",
    "w = 0.5\n",
    "plt.boxplot(sslope, widths = w, labels = labels, medianprops = dict(color = 'black'))\n",
    "\n",
    "for i in range(len(sslope)):\n",
    "    y = sslope[i]\n",
    "    x = np.random.normal(i + 1, 0.04, len(y))\n",
    "    plt.scatter(x, y, color = col_session95[i], edgecolors = col_session95[i], s = 10)\n",
    "            \n",
    "#ax.legend(ncol = 3, handles = handles, labels = label_mice, loc = 'upper right',bbox_to_anchor=(1.8, 1))\n",
    "ax.set_title('+ Speed Cells', fontsize=10, pad=5)\n",
    "ax.set_xlabel('Age', fontsize=9, labelpad=1)\n",
    "ax.set_ylabel('Mean Slope (Hz / (cm / s))', fontsize = 9, labelpad=1)\n",
    "ax.tick_params(labelsize = 8)\n",
    "ax.set_ylim([0,0.2])\n",
    "ax.set_yticks([0,0.05,0.1,0.15,0.2])\n",
    "plt.savefig(save_folder + 'ReviewerFigure7Ileft.png', dpi=400, bbox_inches='tight')\n",
    "plt.savefig(save_folder + 'ReviewerFigure7Ileft.svg', dpi=400, bbox_inches='tight')\n",
    "plt.show()\n",
    "\n",
    "#Plot Figure 6d (right)\n",
    "fig, ax = plt.subplots(figsize = (1.5,1.25))\n",
    "sslope = [sslope5[y_sind5], sslope5[ma_sind5], sslope5[age_sind5]]\n",
    "labels = ['Young','MA','Aged']\n",
    "w = 0.5\n",
    "plt.boxplot(sslope, widths = w, labels = labels, medianprops = dict(color = 'black'))\n",
    "\n",
    "for i in range(len(sslope)):\n",
    "    y = sslope[i]\n",
    "    x = np.random.normal(i + 1, 0.04, len(y))\n",
    "    plt.scatter(x, y, color = col_session5[i], edgecolors = col_session5[i], s = 10)\n",
    "            \n",
    "#ax.legend(ncol = 3, handles = handles, labels = label_mice, loc = 'upper right',bbox_to_anchor=(1.8, 1))\n",
    "ax.set_title('- Speed Cells', fontsize=10, pad=5)\n",
    "ax.set_xlabel('Age', fontsize=9, labelpad=1)\n",
    "ax.set_ylabel('Mean Slope (Hz / (cm / s))', fontsize = 9, labelpad=1)\n",
    "ax.tick_params(labelsize = 8)\n",
    "ax.set_ylim([-0.2,0.05])\n",
    "ax.set_yticks([-0.2,-0.15,-0.1,-0.05,0, 0.05])\n",
    "plt.savefig(save_folder + 'ReviewerFigure7Iright.png', dpi=400, bbox_inches='tight')\n",
    "plt.savefig(save_folder + 'ReviewerFigure7Iright.svg', dpi=400, bbox_inches='tight')\n",
    "plt.show()"
   ]
  },
  {
   "cell_type": "code",
   "execution_count": 23,
   "id": "40b7e863",
   "metadata": {},
   "outputs": [
    {
     "name": "stdout",
     "output_type": "stream",
     "text": [
      "\n",
      "n young, MA, sessions with + speed cells:\n",
      "97 58 96\n",
      "\n",
      "speedcellslopeyoung ± SEM; speedcellslope_MA ± SEM; speedcellslope_old ± SEM\n",
      "0.0404 ± 0.0012 ; 0.0463 ± 0.0023 ; 0.0513 ± 0.0024\n",
      "stat = 16.312979173791746\n",
      "p_session = 0.00028686765329807314\n"
     ]
    },
    {
     "data": {
      "text/html": [
       "<div>\n",
       "<style scoped>\n",
       "    .dataframe tbody tr th:only-of-type {\n",
       "        vertical-align: middle;\n",
       "    }\n",
       "\n",
       "    .dataframe tbody tr th {\n",
       "        vertical-align: top;\n",
       "    }\n",
       "\n",
       "    .dataframe thead th {\n",
       "        text-align: right;\n",
       "    }\n",
       "</style>\n",
       "<table border=\"1\" class=\"dataframe\">\n",
       "  <thead>\n",
       "    <tr style=\"text-align: right;\">\n",
       "      <th></th>\n",
       "      <th>1.0</th>\n",
       "      <th>2.0</th>\n",
       "      <th>3.0</th>\n",
       "    </tr>\n",
       "  </thead>\n",
       "  <tbody>\n",
       "    <tr>\n",
       "      <th>1.0</th>\n",
       "      <td>1.000000</td>\n",
       "      <td>0.089730</td>\n",
       "      <td>0.000135</td>\n",
       "    </tr>\n",
       "    <tr>\n",
       "      <th>2.0</th>\n",
       "      <td>0.089730</td>\n",
       "      <td>1.000000</td>\n",
       "      <td>0.114657</td>\n",
       "    </tr>\n",
       "    <tr>\n",
       "      <th>3.0</th>\n",
       "      <td>0.000135</td>\n",
       "      <td>0.114657</td>\n",
       "      <td>1.000000</td>\n",
       "    </tr>\n",
       "  </tbody>\n",
       "</table>\n",
       "</div>"
      ],
      "text/plain": [
       "          1.0       2.0       3.0\n",
       "1.0  1.000000  0.089730  0.000135\n",
       "2.0  0.089730  1.000000  0.114657\n",
       "3.0  0.000135  0.114657  1.000000"
      ]
     },
     "execution_count": 23,
     "metadata": {},
     "output_type": "execute_result"
    }
   ],
   "source": [
    "''' Statistics for Figure 6d (left) '''\n",
    "print('\\nn young, MA, sessions with + speed cells:')\n",
    "print(len(y_sind95),len(ma_sind95), len(age_sind95))\n",
    "\n",
    "print('\\nspeedcellslopeyoung ± SEM; speedcellslope_MA ± SEM; speedcellslope_old ± SEM')\n",
    "print(str(np.round(np.mean(sslope95[y_sind95]), 4)) + ' ± ' + str(np.round(stats.sem(sslope95[y_sind95]), 4)) + ' ; ' \n",
    "      + str(np.round(np.mean(sslope95[ma_sind95]), 4)) + ' ± ' + str(np.round(stats.sem(sslope95[ma_sind95]), 4)) + ' ; ' \n",
    "      + str(np.round(np.mean(sslope95[age_sind95]), 4)) + ' ± ' + str(np.round(stats.sem(sslope95[age_sind95]), 4)))\n",
    "\n",
    "stat, p_diff = stats.kruskal(sslope95[y_sind95],sslope95[ma_sind95],sslope95[age_sind95])\n",
    "print('stat = ' + str(stat))\n",
    "print('p_session = ' + str(p_diff))\n",
    "\n",
    "#get what you need for multiple comparisons\n",
    "import statsmodels.api as sm\n",
    "import scikit_posthocs as ph\n",
    "\n",
    "#make into dataframe\n",
    "seshmice = []\n",
    "seshcount = []\n",
    "seshage = []\n",
    "for m, session in zip(mice, sessions):\n",
    "    age =  np.array(animalmeta.loc[(animalmeta.Animal_ID == m),'Age_Group'])\n",
    "    totalsesh = len(session)\n",
    "    \n",
    "    for i, s in enumerate(session):\n",
    "        seshmice = np.append(seshmice, m)\n",
    "        seshcount = np.append(seshcount, (i + 1))\n",
    "        seshage = np.append(seshage, age)\n",
    "\n",
    "# Collect all relevant data into pandas dataframe\n",
    "allidx = np.concatenate((y_sind95,ma_sind95,age_sind95))\n",
    "Animal_ID = list(seshmice[allidx])\n",
    "Session = list(seshcount[allidx])\n",
    "Age_Group = list(seshage[allidx])\n",
    "Slopepos = list(sslope95[allidx])\n",
    "\n",
    "tuples = list(zip(Animal_ID, Session, Age_Group, Slopepos))\n",
    "tuples\n",
    "\n",
    "df = pd.DataFrame(tuples, columns = ['AnimalID', 'Session', 'AgeGroup','slopepos'])\n",
    "df = df.dropna(axis = 0)\n",
    "\n",
    "#run post hoc tests\n",
    "ph.posthoc_conover(df, val_col = 'slopepos', group_col = 'AgeGroup', p_adjust = 'holm')"
   ]
  },
  {
   "cell_type": "code",
   "execution_count": 24,
   "id": "55dfe2af",
   "metadata": {},
   "outputs": [
    {
     "name": "stdout",
     "output_type": "stream",
     "text": [
      "\n",
      "n young, MA, sessions with - speed cells:\n",
      "96 58 96\n",
      "speedcellslopeyoung ± SEM; speedcellslope_MA ± SEM; speedcellslope_old ± SEM\n",
      "-0.0338 ± 0.0023 ; -0.04 ± 0.0038 ; -0.0461 ± 0.0025\n",
      "stat = 22.712326555845607\n",
      "p_session = 1.1697174068713999e-05\n"
     ]
    },
    {
     "data": {
      "text/html": [
       "<div>\n",
       "<style scoped>\n",
       "    .dataframe tbody tr th:only-of-type {\n",
       "        vertical-align: middle;\n",
       "    }\n",
       "\n",
       "    .dataframe tbody tr th {\n",
       "        vertical-align: top;\n",
       "    }\n",
       "\n",
       "    .dataframe thead th {\n",
       "        text-align: right;\n",
       "    }\n",
       "</style>\n",
       "<table border=\"1\" class=\"dataframe\">\n",
       "  <thead>\n",
       "    <tr style=\"text-align: right;\">\n",
       "      <th></th>\n",
       "      <th>1.0</th>\n",
       "      <th>2.0</th>\n",
       "      <th>3.0</th>\n",
       "    </tr>\n",
       "  </thead>\n",
       "  <tbody>\n",
       "    <tr>\n",
       "      <th>1.0</th>\n",
       "      <td>1.000000</td>\n",
       "      <td>0.052590</td>\n",
       "      <td>0.000004</td>\n",
       "    </tr>\n",
       "    <tr>\n",
       "      <th>2.0</th>\n",
       "      <td>0.052590</td>\n",
       "      <td>1.000000</td>\n",
       "      <td>0.037221</td>\n",
       "    </tr>\n",
       "    <tr>\n",
       "      <th>3.0</th>\n",
       "      <td>0.000004</td>\n",
       "      <td>0.037221</td>\n",
       "      <td>1.000000</td>\n",
       "    </tr>\n",
       "  </tbody>\n",
       "</table>\n",
       "</div>"
      ],
      "text/plain": [
       "          1.0       2.0       3.0\n",
       "1.0  1.000000  0.052590  0.000004\n",
       "2.0  0.052590  1.000000  0.037221\n",
       "3.0  0.000004  0.037221  1.000000"
      ]
     },
     "execution_count": 24,
     "metadata": {},
     "output_type": "execute_result"
    }
   ],
   "source": [
    "''' Statistics for Figure 6d (right) '''\n",
    "print('\\nn young, MA, sessions with - speed cells:')\n",
    "print(len(y_sind5),len(ma_sind5), len(age_sind5))\n",
    "\n",
    "print('speedcellslopeyoung ± SEM; speedcellslope_MA ± SEM; speedcellslope_old ± SEM')\n",
    "print(str(np.round(np.mean(sslope5[y_sind5]), 4)) + ' ± ' + str(np.round(stats.sem(sslope5[y_sind5]), 4)) + ' ; ' \n",
    "      + str(np.round(np.mean(sslope5[ma_sind5]), 4)) + ' ± ' + str(np.round(stats.sem(sslope5[ma_sind5]), 4)) + ' ; ' \n",
    "      + str(np.round(np.mean(sslope5[age_sind5]), 4)) + ' ± ' + str(np.round(stats.sem(sslope5[age_sind5]), 4)))\n",
    "\n",
    "stat, p_diff = stats.kruskal(sslope5[y_sind5],sslope5[ma_sind5],sslope5[age_sind5])\n",
    "print('stat = ' + str(stat))\n",
    "print('p_session = ' + str(p_diff))\n",
    "\n",
    "#NEGATIVE\n",
    "# Collect all relevant data into pandas dataframe\n",
    "allidx = np.concatenate((y_sind5,ma_sind5,age_sind5))\n",
    "Animal_ID = list(seshmice[allidx])\n",
    "Session = list(seshcount[allidx])\n",
    "Age_Group = list(seshage[allidx])\n",
    "Slopeneg = list(sslope5[allidx])\n",
    "\n",
    "tuples = list(zip(Animal_ID, Session, Age_Group, Slopeneg))\n",
    "tuples\n",
    "\n",
    "df = pd.DataFrame(tuples, columns = ['AnimalID', 'Session', 'AgeGroup','slopeneg',])\n",
    "df = df.dropna(axis = 0)\n",
    "\n",
    "#run post hoc tests\n",
    "ph.posthoc_conover(df, val_col = 'slopeneg', group_col = 'AgeGroup', p_adjust = 'holm')"
   ]
  },
  {
   "cell_type": "code",
   "execution_count": 28,
   "id": "bc25eab2",
   "metadata": {
    "scrolled": false
   },
   "outputs": [
    {
     "data": {
      "application/vnd.jupyter.widget-view+json": {
       "model_id": "a5fa31b8f92c4343afc44abfa5a63f75",
       "version_major": 2,
       "version_minor": 0
      },
      "text/plain": [
       "  0%|          | 0/6 [00:00<?, ?it/s]"
      ]
     },
     "metadata": {},
     "output_type": "display_data"
    },
    {
     "name": "stderr",
     "output_type": "stream",
     "text": [
      "C:\\Users\\Python\\anaconda3\\envs\\agingmec\\lib\\site-packages\\scipy\\stats\\_stats_py.py:4424: ConstantInputWarning: An input array is constant; the correlation coefficient is not defined.\n",
      "  warnings.warn(stats.ConstantInputWarning(msg))\n"
     ]
    },
    {
     "data": {
      "application/vnd.jupyter.widget-view+json": {
       "model_id": "b18f7f285ce4402a90f569e30f8844ba",
       "version_major": 2,
       "version_minor": 0
      },
      "text/plain": [
       "  0%|          | 0/6 [00:00<?, ?it/s]"
      ]
     },
     "metadata": {},
     "output_type": "display_data"
    },
    {
     "data": {
      "application/vnd.jupyter.widget-view+json": {
       "model_id": "5816169a5540406fbc95c42371ddb99b",
       "version_major": 2,
       "version_minor": 0
      },
      "text/plain": [
       "  0%|          | 0/6 [00:00<?, ?it/s]"
      ]
     },
     "metadata": {},
     "output_type": "display_data"
    },
    {
     "data": {
      "application/vnd.jupyter.widget-view+json": {
       "model_id": "d6f102755b924a6c866328963f6f1a14",
       "version_major": 2,
       "version_minor": 0
      },
      "text/plain": [
       "  0%|          | 0/6 [00:00<?, ?it/s]"
      ]
     },
     "metadata": {},
     "output_type": "display_data"
    },
    {
     "data": {
      "application/vnd.jupyter.widget-view+json": {
       "model_id": "24c04beb1aed41168ce070c132c3f4e9",
       "version_major": 2,
       "version_minor": 0
      },
      "text/plain": [
       "  0%|          | 0/6 [00:00<?, ?it/s]"
      ]
     },
     "metadata": {},
     "output_type": "display_data"
    },
    {
     "data": {
      "application/vnd.jupyter.widget-view+json": {
       "model_id": "f065a1e9bda8470c8365a090cbc2a52c",
       "version_major": 2,
       "version_minor": 0
      },
      "text/plain": [
       "  0%|          | 0/5 [00:00<?, ?it/s]"
      ]
     },
     "metadata": {},
     "output_type": "display_data"
    },
    {
     "data": {
      "application/vnd.jupyter.widget-view+json": {
       "model_id": "92cc81f8bb724c56b77a65db252dcf25",
       "version_major": 2,
       "version_minor": 0
      },
      "text/plain": [
       "  0%|          | 0/5 [00:00<?, ?it/s]"
      ]
     },
     "metadata": {},
     "output_type": "display_data"
    },
    {
     "data": {
      "application/vnd.jupyter.widget-view+json": {
       "model_id": "daec2a6a52a74ee9baa75652f858cb42",
       "version_major": 2,
       "version_minor": 0
      },
      "text/plain": [
       "  0%|          | 0/6 [00:00<?, ?it/s]"
      ]
     },
     "metadata": {},
     "output_type": "display_data"
    },
    {
     "data": {
      "application/vnd.jupyter.widget-view+json": {
       "model_id": "a63eb20b907b42bb9213a9e8363727d1",
       "version_major": 2,
       "version_minor": 0
      },
      "text/plain": [
       "  0%|          | 0/6 [00:00<?, ?it/s]"
      ]
     },
     "metadata": {},
     "output_type": "display_data"
    },
    {
     "data": {
      "application/vnd.jupyter.widget-view+json": {
       "model_id": "797813d9b2b449d58315d0e74fe7572e",
       "version_major": 2,
       "version_minor": 0
      },
      "text/plain": [
       "  0%|          | 0/6 [00:00<?, ?it/s]"
      ]
     },
     "metadata": {},
     "output_type": "display_data"
    },
    {
     "data": {
      "application/vnd.jupyter.widget-view+json": {
       "model_id": "e10ec9c7e025400cbe3b9d5f290fbba9",
       "version_major": 2,
       "version_minor": 0
      },
      "text/plain": [
       "  0%|          | 0/5 [00:00<?, ?it/s]"
      ]
     },
     "metadata": {},
     "output_type": "display_data"
    },
    {
     "data": {
      "application/vnd.jupyter.widget-view+json": {
       "model_id": "7473017755f34b1fb13228d6d8f8a17a",
       "version_major": 2,
       "version_minor": 0
      },
      "text/plain": [
       "  0%|          | 0/3 [00:00<?, ?it/s]"
      ]
     },
     "metadata": {},
     "output_type": "display_data"
    },
    {
     "name": "stderr",
     "output_type": "stream",
     "text": [
      "C:\\Users\\Python\\anaconda3\\envs\\agingmec\\lib\\site-packages\\numpy\\core\\fromnumeric.py:3464: RuntimeWarning: Mean of empty slice.\n",
      "  return _methods._mean(a, axis=axis, dtype=dtype,\n",
      "C:\\Users\\Python\\anaconda3\\envs\\agingmec\\lib\\site-packages\\numpy\\core\\_methods.py:192: RuntimeWarning: invalid value encountered in scalar divide\n",
      "  ret = ret.dtype.type(ret / rcount)\n"
     ]
    },
    {
     "data": {
      "application/vnd.jupyter.widget-view+json": {
       "model_id": "1e10cea8d8004e6ebaa0a1da8671602f",
       "version_major": 2,
       "version_minor": 0
      },
      "text/plain": [
       "  0%|          | 0/6 [00:00<?, ?it/s]"
      ]
     },
     "metadata": {},
     "output_type": "display_data"
    },
    {
     "data": {
      "application/vnd.jupyter.widget-view+json": {
       "model_id": "2e1b4b13444e42d6a922695a2d5d7218",
       "version_major": 2,
       "version_minor": 0
      },
      "text/plain": [
       "  0%|          | 0/6 [00:00<?, ?it/s]"
      ]
     },
     "metadata": {},
     "output_type": "display_data"
    },
    {
     "data": {
      "application/vnd.jupyter.widget-view+json": {
       "model_id": "8241c4f0b4034a44b00f8e3b7d9631db",
       "version_major": 2,
       "version_minor": 0
      },
      "text/plain": [
       "  0%|          | 0/6 [00:00<?, ?it/s]"
      ]
     },
     "metadata": {},
     "output_type": "display_data"
    },
    {
     "data": {
      "application/vnd.jupyter.widget-view+json": {
       "model_id": "9e5167708f9f495a80cb31460f553b3b",
       "version_major": 2,
       "version_minor": 0
      },
      "text/plain": [
       "  0%|          | 0/2 [00:00<?, ?it/s]"
      ]
     },
     "metadata": {},
     "output_type": "display_data"
    },
    {
     "data": {
      "application/vnd.jupyter.widget-view+json": {
       "model_id": "acd7045aee744307984238142c0ca4e8",
       "version_major": 2,
       "version_minor": 0
      },
      "text/plain": [
       "  0%|          | 0/3 [00:00<?, ?it/s]"
      ]
     },
     "metadata": {},
     "output_type": "display_data"
    },
    {
     "data": {
      "application/vnd.jupyter.widget-view+json": {
       "model_id": "0c2c34c6d17645398b737874a0a37fa8",
       "version_major": 2,
       "version_minor": 0
      },
      "text/plain": [
       "  0%|          | 0/6 [00:00<?, ?it/s]"
      ]
     },
     "metadata": {},
     "output_type": "display_data"
    },
    {
     "data": {
      "application/vnd.jupyter.widget-view+json": {
       "model_id": "b68545badd3c460dbfbb3dc0b71f3237",
       "version_major": 2,
       "version_minor": 0
      },
      "text/plain": [
       "  0%|          | 0/4 [00:00<?, ?it/s]"
      ]
     },
     "metadata": {},
     "output_type": "display_data"
    },
    {
     "data": {
      "application/vnd.jupyter.widget-view+json": {
       "model_id": "e78d941acf0040a28214c9952e91aa97",
       "version_major": 2,
       "version_minor": 0
      },
      "text/plain": [
       "  0%|          | 0/6 [00:00<?, ?it/s]"
      ]
     },
     "metadata": {},
     "output_type": "display_data"
    },
    {
     "data": {
      "application/vnd.jupyter.widget-view+json": {
       "model_id": "43bce7e12d2a48fba93fb0f6a1cda320",
       "version_major": 2,
       "version_minor": 0
      },
      "text/plain": [
       "  0%|          | 0/6 [00:00<?, ?it/s]"
      ]
     },
     "metadata": {},
     "output_type": "display_data"
    },
    {
     "data": {
      "application/vnd.jupyter.widget-view+json": {
       "model_id": "6f47431492304705bcb4b2c1ec69ad3b",
       "version_major": 2,
       "version_minor": 0
      },
      "text/plain": [
       "  0%|          | 0/6 [00:00<?, ?it/s]"
      ]
     },
     "metadata": {},
     "output_type": "display_data"
    },
    {
     "data": {
      "application/vnd.jupyter.widget-view+json": {
       "model_id": "bb7adfb38ebc4fed9e7f947a51375d77",
       "version_major": 2,
       "version_minor": 0
      },
      "text/plain": [
       "  0%|          | 0/6 [00:00<?, ?it/s]"
      ]
     },
     "metadata": {},
     "output_type": "display_data"
    },
    {
     "data": {
      "application/vnd.jupyter.widget-view+json": {
       "model_id": "41670013bd05447f858f4301a902fd69",
       "version_major": 2,
       "version_minor": 0
      },
      "text/plain": [
       "  0%|          | 0/6 [00:00<?, ?it/s]"
      ]
     },
     "metadata": {},
     "output_type": "display_data"
    },
    {
     "data": {
      "application/vnd.jupyter.widget-view+json": {
       "model_id": "64f13b6435f14012a0948d174d28b870",
       "version_major": 2,
       "version_minor": 0
      },
      "text/plain": [
       "  0%|          | 0/6 [00:00<?, ?it/s]"
      ]
     },
     "metadata": {},
     "output_type": "display_data"
    },
    {
     "data": {
      "application/vnd.jupyter.widget-view+json": {
       "model_id": "d1685038128043a4aadfc60944b3598a",
       "version_major": 2,
       "version_minor": 0
      },
      "text/plain": [
       "  0%|          | 0/6 [00:00<?, ?it/s]"
      ]
     },
     "metadata": {},
     "output_type": "display_data"
    },
    {
     "data": {
      "application/vnd.jupyter.widget-view+json": {
       "model_id": "a8be70b3151749cb8198cab590f2bc65",
       "version_major": 2,
       "version_minor": 0
      },
      "text/plain": [
       "  0%|          | 0/6 [00:00<?, ?it/s]"
      ]
     },
     "metadata": {},
     "output_type": "display_data"
    },
    {
     "data": {
      "application/vnd.jupyter.widget-view+json": {
       "model_id": "2497687d90e145ce904ce74b1978ddfc",
       "version_major": 2,
       "version_minor": 0
      },
      "text/plain": [
       "  0%|          | 0/4 [00:00<?, ?it/s]"
      ]
     },
     "metadata": {},
     "output_type": "display_data"
    },
    {
     "data": {
      "application/vnd.jupyter.widget-view+json": {
       "model_id": "6519ec19b14649be85bb816c9bda90a0",
       "version_major": 2,
       "version_minor": 0
      },
      "text/plain": [
       "  0%|          | 0/6 [00:00<?, ?it/s]"
      ]
     },
     "metadata": {},
     "output_type": "display_data"
    },
    {
     "data": {
      "application/vnd.jupyter.widget-view+json": {
       "model_id": "cec7283d7c5b42e884c5dd1dbfc88f2c",
       "version_major": 2,
       "version_minor": 0
      },
      "text/plain": [
       "  0%|          | 0/6 [00:00<?, ?it/s]"
      ]
     },
     "metadata": {},
     "output_type": "display_data"
    },
    {
     "data": {
      "application/vnd.jupyter.widget-view+json": {
       "model_id": "843ef027ba164195b46ebddf99a069d6",
       "version_major": 2,
       "version_minor": 0
      },
      "text/plain": [
       "  0%|          | 0/6 [00:00<?, ?it/s]"
      ]
     },
     "metadata": {},
     "output_type": "display_data"
    },
    {
     "data": {
      "application/vnd.jupyter.widget-view+json": {
       "model_id": "576be82583d44c8682d92c4328d87c3f",
       "version_major": 2,
       "version_minor": 0
      },
      "text/plain": [
       "  0%|          | 0/6 [00:00<?, ?it/s]"
      ]
     },
     "metadata": {},
     "output_type": "display_data"
    },
    {
     "data": {
      "application/vnd.jupyter.widget-view+json": {
       "model_id": "f4e231c3ea024d54a9785b57333d50ac",
       "version_major": 2,
       "version_minor": 0
      },
      "text/plain": [
       "  0%|          | 0/6 [00:00<?, ?it/s]"
      ]
     },
     "metadata": {},
     "output_type": "display_data"
    },
    {
     "data": {
      "application/vnd.jupyter.widget-view+json": {
       "model_id": "c33b6a6b48d842dcb31cee2e637ab4f4",
       "version_major": 2,
       "version_minor": 0
      },
      "text/plain": [
       "  0%|          | 0/6 [00:00<?, ?it/s]"
      ]
     },
     "metadata": {},
     "output_type": "display_data"
    },
    {
     "data": {
      "application/vnd.jupyter.widget-view+json": {
       "model_id": "2be04276764a4f728bf524b968a3c2c6",
       "version_major": 2,
       "version_minor": 0
      },
      "text/plain": [
       "  0%|          | 0/6 [00:00<?, ?it/s]"
      ]
     },
     "metadata": {},
     "output_type": "display_data"
    },
    {
     "data": {
      "application/vnd.jupyter.widget-view+json": {
       "model_id": "01bd063c954249b79b9822a012608bdf",
       "version_major": 2,
       "version_minor": 0
      },
      "text/plain": [
       "  0%|          | 0/6 [00:00<?, ?it/s]"
      ]
     },
     "metadata": {},
     "output_type": "display_data"
    },
    {
     "data": {
      "application/vnd.jupyter.widget-view+json": {
       "model_id": "1e4ca9acf8f143cf817e4739259c0036",
       "version_major": 2,
       "version_minor": 0
      },
      "text/plain": [
       "  0%|          | 0/6 [00:00<?, ?it/s]"
      ]
     },
     "metadata": {},
     "output_type": "display_data"
    },
    {
     "data": {
      "application/vnd.jupyter.widget-view+json": {
       "model_id": "717499fd302f4c108809605f67bd8e6c",
       "version_major": 2,
       "version_minor": 0
      },
      "text/plain": [
       "  0%|          | 0/6 [00:00<?, ?it/s]"
      ]
     },
     "metadata": {},
     "output_type": "display_data"
    },
    {
     "data": {
      "application/vnd.jupyter.widget-view+json": {
       "model_id": "78b375b07f7d40d098072216868d8918",
       "version_major": 2,
       "version_minor": 0
      },
      "text/plain": [
       "  0%|          | 0/6 [00:00<?, ?it/s]"
      ]
     },
     "metadata": {},
     "output_type": "display_data"
    },
    {
     "data": {
      "application/vnd.jupyter.widget-view+json": {
       "model_id": "e73321237d8e4a2fa2f1774403c6c62e",
       "version_major": 2,
       "version_minor": 0
      },
      "text/plain": [
       "  0%|          | 0/6 [00:00<?, ?it/s]"
      ]
     },
     "metadata": {},
     "output_type": "display_data"
    },
    {
     "data": {
      "application/vnd.jupyter.widget-view+json": {
       "model_id": "1411d4da9f2b48f3956428f78881bf03",
       "version_major": 2,
       "version_minor": 0
      },
      "text/plain": [
       "  0%|          | 0/6 [00:00<?, ?it/s]"
      ]
     },
     "metadata": {},
     "output_type": "display_data"
    },
    {
     "data": {
      "application/vnd.jupyter.widget-view+json": {
       "model_id": "faceab2d9abb4200927390a44accbeb4",
       "version_major": 2,
       "version_minor": 0
      },
      "text/plain": [
       "  0%|          | 0/6 [00:00<?, ?it/s]"
      ]
     },
     "metadata": {},
     "output_type": "display_data"
    },
    {
     "data": {
      "application/vnd.jupyter.widget-view+json": {
       "model_id": "11b8c2fc24c547d69dac990abeaccf62",
       "version_major": 2,
       "version_minor": 0
      },
      "text/plain": [
       "  0%|          | 0/6 [00:00<?, ?it/s]"
      ]
     },
     "metadata": {},
     "output_type": "display_data"
    },
    {
     "data": {
      "application/vnd.jupyter.widget-view+json": {
       "model_id": "7e4ab49d84f046a98cd3b9ad2703a4ed",
       "version_major": 2,
       "version_minor": 0
      },
      "text/plain": [
       "  0%|          | 0/6 [00:00<?, ?it/s]"
      ]
     },
     "metadata": {},
     "output_type": "display_data"
    },
    {
     "data": {
      "application/vnd.jupyter.widget-view+json": {
       "model_id": "91238038c33f4a4aa4695b1699e3d0b2",
       "version_major": 2,
       "version_minor": 0
      },
      "text/plain": [
       "  0%|          | 0/6 [00:00<?, ?it/s]"
      ]
     },
     "metadata": {},
     "output_type": "display_data"
    }
   ],
   "source": [
    "''' Collect Speed Cell Trial Stability Score \n",
    "\n",
    "Run time: 10-15 seconds / session x 250 sessions with either type of speed cell (~ 1 hr).\n",
    "\n",
    "'''\n",
    "# set up arrays for plotting by session \n",
    "strialstabscore5 = []\n",
    "strialstabscore95 = []\n",
    "\n",
    "dt = 0.02\n",
    "\n",
    "for m, session in zip(mice,sessions):\n",
    "    \n",
    "    for s in tdqm(session):\n",
    "        d = data[m][s]\n",
    "    \n",
    "        #get file names & load data necessary\n",
    "        rawdata_file = 'RAW_' + m + '_' + s + '.npy'\n",
    "        spikes_file = 'SPIKES_' + m + '_' + s +'.npy'\n",
    "        behavior_file = 'BEHAVIOR_' + m + '_' + s + '.npy'\n",
    "        A_file = 'A_' + m + '_' + s + '.npy'\n",
    "\n",
    "        raw = np.load(load_folder + rawdata_file, allow_pickle=True)\n",
    "        behaviorfil = np.load(load_folder + behavior_file, allow_pickle=False)\n",
    "        \n",
    "        A = np.load(save_folder + A_file)\n",
    "        speed = behaviorfil[:,1]\n",
    "        trial = behaviorfil[:,2]\n",
    "       \n",
    "        #get dict-stored data\n",
    "        cell_IDs = raw.item().get('cellsfil')\n",
    "        intn = d['intn'].astype(bool)\n",
    "        speedcell95 = d['speedcell95']\n",
    "        speedcell5 = d['speedcell5']\n",
    "        speedcells95 = cell_IDs[(speedcell95 == 1) & (intn == 0)]\n",
    "        speedcells5 = cell_IDs[(speedcell5 == 1) & (intn == 0)]\n",
    "        \n",
    "        #get spike-weighted average of speed score by trial for each speed cell population\n",
    "        bytrialspeedstabilityscores95 = []          \n",
    "        for i, c in enumerate(speedcells95):\n",
    "            sdx = (np.where(cell_IDs==c)[0][0]).astype(int)\n",
    "            \n",
    "            weightscore = []\n",
    "            for j, t in enumerate(np.unique(trial)):\n",
    "                trialidx = np.where(trial == t)[0].astype(int)\n",
    "                \n",
    "                trialscore, _ = stats.pearsonr(speed[trialidx], A[trialidx,sdx])\n",
    "                weightscore = np.append(weightscore, trialscore * np.sum(A[trialidx,sdx]))   \n",
    "            bytrialspeedstabilityscores95 = np.append(bytrialspeedstabilityscores95, np.nansum(weightscore) / np.sum(A[:,sdx]))\n",
    "            \n",
    "        bytrialspeedstabilityscores5 = []\n",
    "        for i, c in enumerate(speedcells5):\n",
    "            sdx = (np.where(cell_IDs==c)[0][0]).astype(int)\n",
    "            \n",
    "            weightscore = []\n",
    "            for j, t in enumerate(np.unique(trial)):\n",
    "                trialidx = np.where(trial == t)[0].astype(int)\n",
    "                trialscore, _ = stats.pearsonr(speed[trialidx], A[trialidx,sdx])\n",
    "                weightscore = np.append(weightscore, trialscore * np.sum(A[trialidx,sdx]))\n",
    "        \n",
    "            bytrialspeedstabilityscores5 = np.append(bytrialspeedstabilityscores5, np.nansum(weightscore) / np.sum(A[:,sdx]))\n",
    "\n",
    "        strialstabscore95 = np.append(strialstabscore95, np.mean(bytrialspeedstabilityscores95))\n",
    "        strialstabscore5 = np.append(strialstabscore5, np.mean(bytrialspeedstabilityscores5))"
   ]
  },
  {
   "cell_type": "code",
   "execution_count": 37,
   "id": "bc252179",
   "metadata": {},
   "outputs": [
    {
     "data": {
      "image/png": "[encoded data removed]",
      "text/plain": [
       "<Figure size 150x125 with 1 Axes>"
      ]
     },
     "metadata": {},
     "output_type": "display_data"
    },
    {
     "data": {
      "image/png": "[encoded data removed]",
      "text/plain": [
       "<Figure size 150x125 with 1 Axes>"
      ]
     },
     "metadata": {},
     "output_type": "display_data"
    }
   ],
   "source": [
    "''' Plot Figure 6E '''\n",
    "\n",
    "#Figure 6E (left)\n",
    "fig, ax = plt.subplots(figsize = (1.5,1.25))\n",
    "sttscore = [strialstabscore95[y_sind95], strialstabscore95[ma_sind95], strialstabscore95[age_sind95]]\n",
    "labels = ['Young','MA','Aged']\n",
    "w = 0.5\n",
    "plt.boxplot(sttscore, widths = w, labels = labels, medianprops = dict(color = 'black'))\n",
    "\n",
    "for i in range(len(sttscore)):\n",
    "    y = sttscore[i]\n",
    "    x = np.random.normal(i + 1, 0.04, len(y))\n",
    "    plt.scatter(x, y, color = col_session95[i], edgecolors = col_session95[i], s = 10)\n",
    "            \n",
    "#ax.legend(ncol = 3, handles = handles, labels = label_mice, loc = 'upper right',bbox_to_anchor=(1.8, 1))\n",
    "ax.set_title('+ Speed Cells', fontsize=10, pad=5)\n",
    "ax.set_xlabel('Age', fontsize=9, labelpad=1)\n",
    "ax.set_ylabel('Mean Trial Stability Speed Score', fontsize = 9, labelpad=1)\n",
    "ax.tick_params(labelsize = 8)\n",
    "ax.set_ylim([0,0.5])\n",
    "ax.set_yticks([0,0.1,0.2,0.3,0.4,0.5])\n",
    "plt.savefig(save_folder + 'ReviewerFigure7Jleft.png', dpi=400, bbox_inches='tight')\n",
    "plt.savefig(save_folder + 'ReviewerFigure7Jleft.svg', dpi=400, bbox_inches='tight')\n",
    "plt.show()\n",
    "\n",
    "#Figure 6E (right)\n",
    "fig, ax = plt.subplots(figsize = (1.5,1.25))\n",
    "sttscore = [strialstabscore5[y_sind5], strialstabscore5[ma_sind5], strialstabscore5[age_sind5]]\n",
    "labels = ['Young','MA','Aged']\n",
    "w = 0.5\n",
    "plt.boxplot(sttscore, widths = w, labels = labels, medianprops = dict(color = 'black'))\n",
    "\n",
    "for i in range(len(sttscore)):\n",
    "    y = sttscore[i]\n",
    "    x = np.random.normal(i + 1, 0.04, len(y))\n",
    "    plt.scatter(x, y, color = col_session5[i], edgecolors = col_session5[i], s = 10)\n",
    "            \n",
    "#ax.legend(ncol = 3, handles = handles, labels = label_mice, loc = 'upper right',bbox_to_anchor=(1.8, 1))\n",
    "ax.set_title('- Speed Cells', fontsize=10, pad=5)\n",
    "ax.set_xlabel('Age', fontsize=9, labelpad=1)\n",
    "ax.set_ylabel('Mean Trial Stability Speed Score', fontsize = 9, labelpad=1)\n",
    "ax.tick_params(labelsize = 8)\n",
    "ax.set_ylim([-0.6,0.25])\n",
    "ax.set_yticks([-0.6, -0.4, -0.2, 0, 0.2])\n",
    "plt.savefig(save_folder + 'ReviewerFigure7Jright.png', dpi=400, bbox_inches='tight')\n",
    "plt.savefig(save_folder + 'ReviewerFigure7Jright.svg', dpi=400, bbox_inches='tight')\n",
    "plt.show()"
   ]
  },
  {
   "cell_type": "code",
   "execution_count": 38,
   "id": "f0879a42",
   "metadata": {},
   "outputs": [
    {
     "name": "stdout",
     "output_type": "stream",
     "text": [
      "\n",
      "POS SPEED CELL RESULTS:\n",
      "meanyoung ± SEM; mean_MA ± SEM; mean_old ± SEM\n",
      "0.1731 ± 0.0056 ; 0.1999 ± 0.006 ; 0.156 ± 0.0045\n",
      "stat = 28.96607462804195\n",
      "p_trialstabscore = 5.129757242625391e-07\n"
     ]
    },
    {
     "data": {
      "text/html": [
       "<div>\n",
       "<style scoped>\n",
       "    .dataframe tbody tr th:only-of-type {\n",
       "        vertical-align: middle;\n",
       "    }\n",
       "\n",
       "    .dataframe tbody tr th {\n",
       "        vertical-align: top;\n",
       "    }\n",
       "\n",
       "    .dataframe thead th {\n",
       "        text-align: right;\n",
       "    }\n",
       "</style>\n",
       "<table border=\"1\" class=\"dataframe\">\n",
       "  <thead>\n",
       "    <tr style=\"text-align: right;\">\n",
       "      <th></th>\n",
       "      <th>1.0</th>\n",
       "      <th>2.0</th>\n",
       "      <th>3.0</th>\n",
       "    </tr>\n",
       "  </thead>\n",
       "  <tbody>\n",
       "    <tr>\n",
       "      <th>1.0</th>\n",
       "      <td>1.000000</td>\n",
       "      <td>3.011426e-04</td>\n",
       "      <td>3.394865e-02</td>\n",
       "    </tr>\n",
       "    <tr>\n",
       "      <th>2.0</th>\n",
       "      <td>0.000301</td>\n",
       "      <td>1.000000e+00</td>\n",
       "      <td>1.081300e-07</td>\n",
       "    </tr>\n",
       "    <tr>\n",
       "      <th>3.0</th>\n",
       "      <td>0.033949</td>\n",
       "      <td>1.081300e-07</td>\n",
       "      <td>1.000000e+00</td>\n",
       "    </tr>\n",
       "  </tbody>\n",
       "</table>\n",
       "</div>"
      ],
      "text/plain": [
       "          1.0           2.0           3.0\n",
       "1.0  1.000000  3.011426e-04  3.394865e-02\n",
       "2.0  0.000301  1.000000e+00  1.081300e-07\n",
       "3.0  0.033949  1.081300e-07  1.000000e+00"
      ]
     },
     "execution_count": 38,
     "metadata": {},
     "output_type": "execute_result"
    }
   ],
   "source": [
    "''' Stats for Figure 6e (left)'''\n",
    "\n",
    "print('\\nPOS SPEED CELL RESULTS:')\n",
    "print('meanyoung ± SEM; mean_MA ± SEM; mean_old ± SEM')\n",
    "print(str(np.round(np.mean(strialstabscore95[y_sind95]), 4)) + ' ± ' + str(np.round(stats.sem(strialstabscore95[y_sind95]), 4)) + ' ; ' \n",
    "      + str(np.round(np.mean(strialstabscore95[ma_sind95]), 4)) + ' ± ' + str(np.round(stats.sem(strialstabscore95[ma_sind95]), 4)) + ' ; ' \n",
    "      + str(np.round(np.mean(strialstabscore95[age_sind95]), 4)) + ' ± ' + str(np.round(stats.sem(strialstabscore95[age_sind95]), 4)))\n",
    "\n",
    "stat, p_diff = stats.kruskal(strialstabscore95[y_sind95],strialstabscore95[ma_sind95],strialstabscore95[age_sind95])\n",
    "print('stat = ' + str(stat))\n",
    "print('p_trialstabscore = ' + str(p_diff))\n",
    "\n",
    "#POSTIVE\n",
    "# Collect all relevant data into pandas dataframe\n",
    "allidx = np.concatenate((y_sind95,ma_sind95,age_sind95))\n",
    "Animal_ID = list(seshmice[allidx])\n",
    "Session = list(seshcount[allidx])\n",
    "Age_Group = list(seshage[allidx])\n",
    "Scorepos = list(strialstabscore95[allidx])\n",
    "\n",
    "tuples = list(zip(Animal_ID, Session, Age_Group, Scorepos))\n",
    "tuples\n",
    "\n",
    "df = pd.DataFrame(tuples, columns = ['AnimalID', 'Session', 'AgeGroup','scorepos'])\n",
    "df = df.dropna(axis = 0)\n",
    "\n",
    "#run post hoc tests\n",
    "ph.posthoc_conover(df, val_col = 'scorepos', group_col = 'AgeGroup', p_adjust = 'holm')\n"
   ]
  },
  {
   "cell_type": "code",
   "execution_count": 39,
   "id": "b3526c4f",
   "metadata": {},
   "outputs": [
    {
     "name": "stdout",
     "output_type": "stream",
     "text": [
      "\n",
      "NEG SPEED CELL RESULTS:\n",
      "meanyoung ± SEM; mean_MA ± SEM; mean_old ± SEM\n",
      "-0.1893 ± 0.0076 ; -0.2183 ± 0.0098 ; -0.1923 ± 0.0079\n",
      "stat = 7.97039442231096\n",
      "p_trialstabscore = 0.018588778046836854\n"
     ]
    },
    {
     "data": {
      "text/html": [
       "<div>\n",
       "<style scoped>\n",
       "    .dataframe tbody tr th:only-of-type {\n",
       "        vertical-align: middle;\n",
       "    }\n",
       "\n",
       "    .dataframe tbody tr th {\n",
       "        vertical-align: top;\n",
       "    }\n",
       "\n",
       "    .dataframe thead th {\n",
       "        text-align: right;\n",
       "    }\n",
       "</style>\n",
       "<table border=\"1\" class=\"dataframe\">\n",
       "  <thead>\n",
       "    <tr style=\"text-align: right;\">\n",
       "      <th></th>\n",
       "      <th>1.0</th>\n",
       "      <th>2.0</th>\n",
       "      <th>3.0</th>\n",
       "    </tr>\n",
       "  </thead>\n",
       "  <tbody>\n",
       "    <tr>\n",
       "      <th>1.0</th>\n",
       "      <td>1.000000</td>\n",
       "      <td>0.017911</td>\n",
       "      <td>0.561146</td>\n",
       "    </tr>\n",
       "    <tr>\n",
       "      <th>2.0</th>\n",
       "      <td>0.017911</td>\n",
       "      <td>1.000000</td>\n",
       "      <td>0.048342</td>\n",
       "    </tr>\n",
       "    <tr>\n",
       "      <th>3.0</th>\n",
       "      <td>0.561146</td>\n",
       "      <td>0.048342</td>\n",
       "      <td>1.000000</td>\n",
       "    </tr>\n",
       "  </tbody>\n",
       "</table>\n",
       "</div>"
      ],
      "text/plain": [
       "          1.0       2.0       3.0\n",
       "1.0  1.000000  0.017911  0.561146\n",
       "2.0  0.017911  1.000000  0.048342\n",
       "3.0  0.561146  0.048342  1.000000"
      ]
     },
     "execution_count": 39,
     "metadata": {},
     "output_type": "execute_result"
    }
   ],
   "source": [
    "''' Stats for Figure 6e (right)'''\n",
    "\n",
    "print('\\nNEG SPEED CELL RESULTS:')\n",
    "print('meanyoung ± SEM; mean_MA ± SEM; mean_old ± SEM')\n",
    "print(str(np.round(np.mean(strialstabscore5[y_sind5]), 4)) + ' ± ' + str(np.round(stats.sem(strialstabscore5[y_sind5]), 4)) + ' ; ' \n",
    "      + str(np.round(np.mean(strialstabscore5[ma_sind5]), 4)) + ' ± ' + str(np.round(stats.sem(strialstabscore5[ma_sind5]), 4)) + ' ; ' \n",
    "      + str(np.round(np.mean(strialstabscore5[age_sind5]), 4)) + ' ± ' + str(np.round(stats.sem(strialstabscore5[age_sind5]), 4)))\n",
    "\n",
    "stat, p_diff = stats.kruskal(strialstabscore5[y_sind5],strialstabscore5[ma_sind5],strialstabscore5[age_sind5])\n",
    "print('stat = ' + str(stat))\n",
    "print('p_trialstabscore = ' + str(p_diff))\n",
    "\n",
    "#NEGATIVE\n",
    "# Collect all relevant data into pandas dataframe\n",
    "allidx = np.concatenate((y_sind5,ma_sind5,age_sind5))\n",
    "Animal_ID = list(seshmice[allidx])\n",
    "Session = list(seshcount[allidx])\n",
    "Age_Group = list(seshage[allidx])\n",
    "Scoreneg = list(strialstabscore5[allidx])\n",
    "\n",
    "tuples = list(zip(Animal_ID, Session, Age_Group, Scoreneg))\n",
    "tuples\n",
    "\n",
    "df = pd.DataFrame(tuples, columns = ['AnimalID', 'Session', 'AgeGroup','scoreneg'])\n",
    "df = df.dropna(axis = 0)\n",
    "\n",
    "#run post hoc tests\n",
    "ph.posthoc_conover(df, val_col = 'scoreneg', group_col = 'AgeGroup', p_adjust = 'holm')"
   ]
  },
  {
   "cell_type": "code",
   "execution_count": null,
   "id": "e6412106",
   "metadata": {},
   "outputs": [],
   "source": []
  }
 ],
 "metadata": {
  "kernelspec": {
   "display_name": "Python 3 (ipykernel)",
   "language": "python",
   "name": "python3"
  },
  "language_info": {
   "codemirror_mode": {
    "name": "ipython",
    "version": 3
   },
   "file_extension": ".py",
   "mimetype": "text/x-python",
   "name": "python",
   "nbconvert_exporter": "python",
   "pygments_lexer": "ipython3",
   "version": "3.8.16"
  }
 },
 "nbformat": 4,
 "nbformat_minor": 5
}
