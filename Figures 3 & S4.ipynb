{
 "cells": [
  {
   "cell_type": "markdown",
   "id": "71e41056",
   "metadata": {},
   "source": [
    "# Setup for Figure 3 & S4A-C, E (right), G, I (Split Maze)"
   ]
  },
  {
   "cell_type": "code",
   "execution_count": 1,
   "id": "542905e6",
   "metadata": {},
   "outputs": [],
   "source": [
    "''' magic 4u'''\n",
    "%load_ext autoreload\n",
    "%autoreload 2"
   ]
  },
  {
   "cell_type": "code",
   "execution_count": 2,
   "id": "2436641a",
   "metadata": {},
   "outputs": [],
   "source": [
    "'''Get Stuff You Need'''\n",
    "import numpy as np\n",
    "import math as math\n",
    "from tqdm import tnrange\n",
    "from tqdm.notebook import tqdm as tdqm\n",
    "import matplotlib.pyplot as plt\n",
    "import matplotlib as mpl\n",
    "mpl.rcParams.update(mpl.rcParamsDefault)\n",
    "from matplotlib import gridspec\n",
    "from scipy.interpolate import interp1d\n",
    "from scipy.ndimage import gaussian_filter1d\n",
    "from scipy import stats\n",
    "import scipy.io\n",
    "import scipy.ndimage.filters as filt\n",
    "import pandas as pd\n",
    "import seaborn as sns\n",
    "\n",
    "from pipeline import get_data as get\n",
    "from pipeline import process_spikes as ps\n",
    "\n",
    "from statsmodels.tsa.stattools import acf\n",
    "from scipy.signal import find_peaks\n",
    "from itertools import combinations\n",
    "\n",
    "from matplotlib import rc \n",
    "mpl.rcParams['font.sans-serif'] = 'Arial'\n",
    "mpl.rcParams['font.family'] = 'sans-serif'\n",
    "mpl.rcParams['svg.fonttype'] = 'none'"
   ]
  },
  {
   "cell_type": "code",
   "execution_count": 3,
   "id": "5e01a21b",
   "metadata": {},
   "outputs": [],
   "source": [
    "''' Define some functions for later '''\n",
    "def count_consec(lst):\n",
    "    consec = [1]\n",
    "    for x, y in zip(lst, lst[1:]):\n",
    "        if x == y - 1:\n",
    "            consec[-1] += 1\n",
    "        else:\n",
    "            consec.append(1)\n",
    "    return consec\n",
    "\n",
    "def tuning_curve_bytrial(x, trial, Y, dt, b, sigma, smooth=True, normalize=False, occupancy=True):\n",
    "    '''\n",
    "    Params\n",
    "    ------\n",
    "    x : ndarray\n",
    "        variable of interest by observation; shape (n_obs, )\n",
    "    trial : ndarray\n",
    "        trial num for each observation; shape (n_obs, )\n",
    "    Y : ndarray\n",
    "        spikes per observation; shape (n_obs, n_cells)\n",
    "    dt : int\n",
    "        time per observation in seconds\n",
    "    b : int\n",
    "        bin size\n",
    "    sigma : int\n",
    "        SD of Gaussian filter\n",
    "    smooth : bool\n",
    "        apply gaussian filter to firing rate; optional, default is True\n",
    "    normalize : bool\n",
    "        normalize the firing rate of each cell such that its max FR is 1, min is 0;\n",
    "        optional, default is False\n",
    "    occupancy : bool\n",
    "        return occupancy (dwell time in each bin); optional, default is True\n",
    "\n",
    "    Returns\n",
    "    -------\n",
    "    firing_rate : ndarray\n",
    "        binned firing rate for each trial for each cell; shape (n_trials, n_bins, n_cells)\n",
    "    centers : ndarray\n",
    "        center of each bin\n",
    "    occ : ndarray\n",
    "       dwell time in each bin; shape (n_bins, n_cells)\n",
    "    '''\n",
    "    edges = np.arange(0, np.max(x) + b, b)\n",
    "    centers = (edges[:-1] + edges[1:])/2\n",
    "    b_idx = np.digitize(x, edges)\n",
    "    if np.max(x) == edges[-1]:\n",
    "        b_idx[b_idx==np.max(b_idx)] = np.max(b_idx) - 1\n",
    "    unique_bdx = np.unique(b_idx)\n",
    "\n",
    "    # find FR in each bin\n",
    "    firing_rate = np.zeros((np.unique(trial).shape[0], unique_bdx.shape[0], Y.shape[1]))\n",
    "    occ = np.zeros((np.unique(trial).shape[0], unique_bdx.shape[0], Y.shape[1]))\n",
    "    for j in range(unique_bdx.shape[0]):\n",
    "        idx1 = (b_idx == unique_bdx[j])\n",
    "        for i, t in enumerate(np.unique(trial)):\n",
    "            idx = idx1 & (trial == t)\n",
    "            if np.sum(idx)==0:\n",
    "                #print('warning: zero occupancy!')\n",
    "                firing_rate[i, j, :] = firing_rate[i, j-1, :]\n",
    "                occ[i, j, :] = 0\n",
    "            else:    \n",
    "                spike_ct = np.sum(Y[idx, :], axis=0)\n",
    "                occupancy = dt * np.sum(idx)\n",
    "                occ[i, j, :] = occupancy\n",
    "                firing_rate[i, j, :] = spike_ct / occupancy\n",
    "    if smooth:\n",
    "        firing_rate = gaussian_filter1d(firing_rate, sigma, axis=1, mode='wrap')\n",
    "\n",
    "    if normalize:\n",
    "        for c in range(firing_rate.shape[2]):\n",
    "            firing_rate[:, :, c] = (firing_rate[:, :, c] - np.min(firing_rate[:, :, c]))/np.max(firing_rate[:, :, c] - np.min(firing_rate[:, :, c]))\n",
    "    \n",
    "    if occupancy:\n",
    "        return firing_rate, centers, occ\n",
    "    else: \n",
    "        return firing_rate, centers\n",
    "    \n",
    "def find8adjacentElements(test_list):\n",
    "    ''' \n",
    "    Params\n",
    "    ------\n",
    "    test_list : ndarray\n",
    "        1d array to be sorted\n",
    "    \n",
    "    Returns\n",
    "    -------\n",
    "    neighbors : list\n",
    "        nested list where each element is a list of 8 adjacent elements to the element with the same \n",
    "        index in test_list, adjusting for the first and last four elements and not including \n",
    "    '''\n",
    "    \n",
    "    neighbors = []\n",
    "    for idx, ele in enumerate(test_list):\n",
    "    # Checking for all cases to append\n",
    "        if idx == 0:\n",
    "            neighbors.append(test_list[(idx+1):(idx + 9)])\n",
    "        elif idx == 1:\n",
    "            neighbors.append(np.concatenate((test_list[(idx - 1)],test_list[(idx+1):(idx + 8)]),axis=None))\n",
    "        elif idx == 2:\n",
    "            neighbors.append(np.concatenate((test_list[:idx],test_list[(idx+1):(idx + 7)]),axis=None))\n",
    "        elif idx == 3:\n",
    "            neighbors.append(np.concatenate((test_list[:idx],test_list[(idx+1):(idx + 6)]),axis=None))\n",
    "        elif idx == len(test_list) - 1:\n",
    "            neighbors.append(np.concatenate((test_list[(idx-8):idx]),axis=None))                     \n",
    "        elif idx == len(test_list) - 2:\n",
    "            neighbors.append(np.concatenate((test_list[(idx-7):idx],test_list[(idx + 1):]),axis=None))\n",
    "        elif idx == len(test_list) - 3:\n",
    "            neighbors.append(np.concatenate((test_list[(idx-6):idx],test_list[(idx + 1):]),axis=None))\n",
    "        elif idx == len(test_list) - 4:\n",
    "            neighbors.append(np.concatenate((test_list[(idx-5):idx],test_list[(idx + 1):]),axis = None))\n",
    "        else:\n",
    "            neighbors.append(np.concatenate((test_list[(idx - 4):idx],test_list[(idx+1):(idx + 5)]),axis=None))\n",
    "    return neighbors \n",
    "\n",
    "def find(x):\n",
    "    return x.nonzero()[0]\n",
    "\n",
    "def circ_autocorr(x):\n",
    "    Fx = np.fft.fft(x)\n",
    "    Fxp = np.conj(np.fft.fft(x))\n",
    "    return np.roll(np.fft.ifft(Fx * Fxp).real, x.size // 2)\n",
    "\n",
    "def ar1_acf(nt, phi, sigma2):\n",
    "    \"\"\"\n",
    "    Computes the theoretical autocorrelation function for an AR(1) model.\n",
    "    This serves as our null distribution for computing significance\n",
    "    \n",
    "    Params:\n",
    "    -------\n",
    "    nt : number of timesteps\n",
    "    phi : autoregressive coefficient\n",
    "    sigma2 : variance of gaussian noise\n",
    "    \"\"\"\n",
    "    return (phi ** np.arange(nt)) * sigma2 / (1 - phi ** 2)\n",
    "\n",
    "def autocorr(x,lags):\n",
    "    '''numpy.correlate'''\n",
    "    mean=x.mean()\n",
    "    var=np.var(x)\n",
    "    xp=x-mean\n",
    "    corr=np.correlate(xp,xp,'full')[len(x)-1:]/var/len(x)\n",
    "\n",
    "    return corr[:len(lags)]"
   ]
  },
  {
   "cell_type": "code",
   "execution_count": 4,
   "id": "0475175e",
   "metadata": {},
   "outputs": [
    {
     "data": {
      "text/html": [
       "<div>\n",
       "<style scoped>\n",
       "    .dataframe tbody tr th:only-of-type {\n",
       "        vertical-align: middle;\n",
       "    }\n",
       "\n",
       "    .dataframe tbody tr th {\n",
       "        vertical-align: top;\n",
       "    }\n",
       "\n",
       "    .dataframe thead th {\n",
       "        text-align: right;\n",
       "    }\n",
       "</style>\n",
       "<table border=\"1\" class=\"dataframe\">\n",
       "  <thead>\n",
       "    <tr style=\"text-align: right;\">\n",
       "      <th></th>\n",
       "      <th>Animal_ID</th>\n",
       "      <th>Task</th>\n",
       "      <th>Cohort</th>\n",
       "      <th>Probe_Control</th>\n",
       "      <th>Sex</th>\n",
       "      <th>Sac_Date</th>\n",
       "      <th>Frozen_Hemisphere</th>\n",
       "      <th>DOB</th>\n",
       "      <th>Age_WholeMonth</th>\n",
       "      <th>Age_ExtraDays</th>\n",
       "      <th>...</th>\n",
       "      <th>Aged_Days</th>\n",
       "      <th>Age_Group</th>\n",
       "      <th>Behavior_Sessions</th>\n",
       "      <th>Neural_Sessions</th>\n",
       "      <th>Total_Cells</th>\n",
       "      <th>visualacuity</th>\n",
       "      <th>perchangespeedgain</th>\n",
       "      <th>perchangekurt</th>\n",
       "      <th>perchangeskew</th>\n",
       "      <th>perchangeIQR</th>\n",
       "    </tr>\n",
       "  </thead>\n",
       "  <tbody>\n",
       "    <tr>\n",
       "      <th>0</th>\n",
       "      <td>A3</td>\n",
       "      <td>RF</td>\n",
       "      <td>A</td>\n",
       "      <td>0</td>\n",
       "      <td>F</td>\n",
       "      <td>1/27/2021</td>\n",
       "      <td>R</td>\n",
       "      <td>4/23/2019</td>\n",
       "      <td>21</td>\n",
       "      <td>4</td>\n",
       "      <td>...</td>\n",
       "      <td>645</td>\n",
       "      <td>3</td>\n",
       "      <td>6</td>\n",
       "      <td>6</td>\n",
       "      <td>1540.0</td>\n",
       "      <td>NaN</td>\n",
       "      <td>17.367862</td>\n",
       "      <td>NaN</td>\n",
       "      <td>NaN</td>\n",
       "      <td>NaN</td>\n",
       "    </tr>\n",
       "    <tr>\n",
       "      <th>1</th>\n",
       "      <td>A4</td>\n",
       "      <td>RF</td>\n",
       "      <td>A</td>\n",
       "      <td>0</td>\n",
       "      <td>F</td>\n",
       "      <td>1/27/2021</td>\n",
       "      <td>R</td>\n",
       "      <td>4/23/2019</td>\n",
       "      <td>21</td>\n",
       "      <td>4</td>\n",
       "      <td>...</td>\n",
       "      <td>645</td>\n",
       "      <td>3</td>\n",
       "      <td>6</td>\n",
       "      <td>6</td>\n",
       "      <td>1574.0</td>\n",
       "      <td>NaN</td>\n",
       "      <td>22.050636</td>\n",
       "      <td>NaN</td>\n",
       "      <td>NaN</td>\n",
       "      <td>NaN</td>\n",
       "    </tr>\n",
       "    <tr>\n",
       "      <th>2</th>\n",
       "      <td>A5</td>\n",
       "      <td>RF</td>\n",
       "      <td>A</td>\n",
       "      <td>0</td>\n",
       "      <td>F</td>\n",
       "      <td>4/6/2021</td>\n",
       "      <td>L</td>\n",
       "      <td>4/23/2019</td>\n",
       "      <td>23</td>\n",
       "      <td>14</td>\n",
       "      <td>...</td>\n",
       "      <td>714</td>\n",
       "      <td>3</td>\n",
       "      <td>6</td>\n",
       "      <td>6</td>\n",
       "      <td>1002.0</td>\n",
       "      <td>NaN</td>\n",
       "      <td>21.328531</td>\n",
       "      <td>NaN</td>\n",
       "      <td>NaN</td>\n",
       "      <td>NaN</td>\n",
       "    </tr>\n",
       "    <tr>\n",
       "      <th>3</th>\n",
       "      <td>A6</td>\n",
       "      <td>RF</td>\n",
       "      <td>A</td>\n",
       "      <td>0</td>\n",
       "      <td>F</td>\n",
       "      <td>4/6/2021</td>\n",
       "      <td>R</td>\n",
       "      <td>4/23/2019</td>\n",
       "      <td>23</td>\n",
       "      <td>14</td>\n",
       "      <td>...</td>\n",
       "      <td>714</td>\n",
       "      <td>3</td>\n",
       "      <td>6</td>\n",
       "      <td>6</td>\n",
       "      <td>985.0</td>\n",
       "      <td>NaN</td>\n",
       "      <td>15.687094</td>\n",
       "      <td>NaN</td>\n",
       "      <td>NaN</td>\n",
       "      <td>NaN</td>\n",
       "    </tr>\n",
       "    <tr>\n",
       "      <th>4</th>\n",
       "      <td>A7</td>\n",
       "      <td>RF</td>\n",
       "      <td>A</td>\n",
       "      <td>0</td>\n",
       "      <td>F</td>\n",
       "      <td>4/19/2021</td>\n",
       "      <td>L</td>\n",
       "      <td>5/29/2019</td>\n",
       "      <td>22</td>\n",
       "      <td>21</td>\n",
       "      <td>...</td>\n",
       "      <td>691</td>\n",
       "      <td>3</td>\n",
       "      <td>6</td>\n",
       "      <td>6</td>\n",
       "      <td>1691.0</td>\n",
       "      <td>NaN</td>\n",
       "      <td>52.102357</td>\n",
       "      <td>NaN</td>\n",
       "      <td>NaN</td>\n",
       "      <td>NaN</td>\n",
       "    </tr>\n",
       "  </tbody>\n",
       "</table>\n",
       "<p>5 rows × 21 columns</p>\n",
       "</div>"
      ],
      "text/plain": [
       "  Animal_ID Task Cohort  Probe_Control Sex   Sac_Date Frozen_Hemisphere  \\\n",
       "0        A3   RF      A              0   F  1/27/2021                 R   \n",
       "1        A4   RF      A              0   F  1/27/2021                 R   \n",
       "2        A5   RF      A              0   F   4/6/2021                 L   \n",
       "3        A6   RF      A              0   F   4/6/2021                 R   \n",
       "4        A7   RF      A              0   F  4/19/2021                 L   \n",
       "\n",
       "         DOB  Age_WholeMonth  Age_ExtraDays  ...  Aged_Days  Age_Group  \\\n",
       "0  4/23/2019              21              4  ...        645          3   \n",
       "1  4/23/2019              21              4  ...        645          3   \n",
       "2  4/23/2019              23             14  ...        714          3   \n",
       "3  4/23/2019              23             14  ...        714          3   \n",
       "4  5/29/2019              22             21  ...        691          3   \n",
       "\n",
       "   Behavior_Sessions  Neural_Sessions  Total_Cells  visualacuity  \\\n",
       "0                  6                6       1540.0           NaN   \n",
       "1                  6                6       1574.0           NaN   \n",
       "2                  6                6       1002.0           NaN   \n",
       "3                  6                6        985.0           NaN   \n",
       "4                  6                6       1691.0           NaN   \n",
       "\n",
       "   perchangespeedgain  perchangekurt  perchangeskew  perchangeIQR  \n",
       "0           17.367862            NaN            NaN           NaN  \n",
       "1           22.050636            NaN            NaN           NaN  \n",
       "2           21.328531            NaN            NaN           NaN  \n",
       "3           15.687094            NaN            NaN           NaN  \n",
       "4           52.102357            NaN            NaN           NaN  \n",
       "\n",
       "[5 rows x 21 columns]"
      ]
     },
     "execution_count": 4,
     "metadata": {},
     "output_type": "execute_result"
    }
   ],
   "source": [
    "''' Load Animal Metadata '''\n",
    "\n",
    "animalmeta = pd.read_csv('C:/Users/Python/Desktop/LocalData/animalmeta.csv')\n",
    "animalmeta.head()"
   ]
  },
  {
   "cell_type": "code",
   "execution_count": 5,
   "id": "4c43f337",
   "metadata": {},
   "outputs": [],
   "source": [
    "'''Find names of specific animals groups'''\n",
    "all_aged_mice = np.array(animalmeta.loc[(animalmeta.Age_Group == 3),'Animal_ID'])\n",
    "all_MA_mice = np.array(animalmeta.loc[(animalmeta.Age_Group == 2),'Animal_ID'])\n",
    "all_young_mice = np.array(animalmeta.loc[(animalmeta.Age_Group == 1),'Animal_ID'])\n",
    "\n",
    "cohorta_mice = np.array(animalmeta.loc[(animalmeta.Cohort == 'A'),'Animal_ID'])\n",
    "cohortb_mice = np.array(animalmeta.loc[(animalmeta.Cohort == 'B'),'Animal_ID'])\n",
    "cohortc_mice = np.array(animalmeta.loc[(animalmeta.Cohort == 'C'),'Animal_ID'])\n",
    "cohortd_mice = np.array(animalmeta.loc[(animalmeta.Cohort == 'D'),'Animal_ID'])\n",
    "\n",
    "RF_aged_mice = np.array(animalmeta.loc[(animalmeta.Age_Group == 3) & (animalmeta.Task == 'RF'),'Animal_ID'])\n",
    "RF_young_mice = np.array(animalmeta.loc[(animalmeta.Age_Group == 1) & (animalmeta.Task == 'RF'),'Animal_ID'])\n",
    "SM_aged_mice = np.array(animalmeta.loc[(animalmeta.Age_Group == 3) & (animalmeta.Task == 'SM'),'Animal_ID'])\n",
    "SM_MA_mice = np.array(animalmeta.loc[(animalmeta.Age_Group == 2) & (animalmeta.Task == 'SM'),'Animal_ID'])\n",
    "SM_young_mice = np.array(animalmeta.loc[(animalmeta.Age_Group == 1) & (animalmeta.Task == 'SM'),'Animal_ID'])\n",
    "\n",
    "all_female_mice = np.array(animalmeta.loc[(animalmeta.Sex == 'F'),'Animal_ID'])\n",
    "all_male_mice = np.array(animalmeta.loc[(animalmeta.Sex == 'M'), 'Animal_ID'])\n",
    "RF_female_mice = np.array(animalmeta.loc[(animalmeta.Sex == 'F') & (animalmeta.Task == 'RF'),'Animal_ID'])\n",
    "RF_male_mice = np.array(animalmeta.loc[(animalmeta.Sex == 'M') & (animalmeta.Task == 'RF'),'Animal_ID'])\n",
    "SM_female_mice = np.array(animalmeta.loc[(animalmeta.Sex == 'F') & (animalmeta.Task == 'SM'),'Animal_ID'])\n",
    "SM_male_mice = np.array(animalmeta.loc[(animalmeta.Sex == 'M') & (animalmeta.Task == 'SM'),'Animal_ID'])"
   ]
  },
  {
   "cell_type": "code",
   "execution_count": 6,
   "id": "43dcf5f3",
   "metadata": {},
   "outputs": [],
   "source": [
    "''' Complete List of Mice & Sessions for Neural Data '''\n",
    "all_mice = np.array(animalmeta.Animal_ID)\n",
    "\n",
    "all_sessions = ([['0122_record1','0123_record2','0124_record3','0125_record4','0126_record5','0127_record6'], \n",
    "             ['0122_record1','0123_record2','0124_record3','0125_record4','0126_record5','0127_record6'],\n",
    "             ['0401_record1','0401_record2b','0403_record3','0404_record4','0405_record5','0406_record6'],\n",
    "             ['0401_record1','0402_record2','0403_record3','0404_record4','0405_record5','0406_record6'],\n",
    "             ['0414_record1','0415_record2','0416_record3','0417_record4','0418_record5','0419_record6'],\n",
    "             ['1024_record1','1025_record2','1026_record3','1027_record4','1028_record5_2'], #Y2_6 excluded\n",
    "             ['1016_record1','1019_record3','1020_record4','1021_record5','1022_record6'], #Y3_2 not collected\n",
    "             ['1114_record1','1115_record2','1116_record3','1117_record4','1118_record5','1119_record6'], # end cohort A\n",
    "             ['051822_record1','051922_record2', '052022_record3','052122_record4','052222_record5','052322_record6'], \n",
    "             ['050522_record1','050622_record2','050722_record3','050822_record4','050922_record5','051022_record6'],\n",
    "             ['050522_record1','050622_record2','050722_record3','050822_record4','051022_record6'], #Y11_5 not collected\n",
    "             ['062222_record3','062322_record4','062522_record5'], #Y16_1 & 2 not collected, neural _6 excluded\n",
    "             ['062822_record1','062922_record2','063022_record3','070122_record4','070222_record5','070322_record6'],\n",
    "             ['062022_record1','062122_record2','062222_record3','062322_record4','062522_record5','062622_record6'],\n",
    "             ['062822_record1','062922_record2','063022_record3','070122_record4','070222_record5','070322_record6'], \n",
    "             ['051922_record2','052022_record3'], # Y9 051822_record excluded for syncing issue, end cohort B\n",
    "             ['083022_record1','083122_record2','090122_record3'], \n",
    "             ['083022_record1','083122_record2','090122_record3','090222_record4','090322_record5','090422_record6'],\n",
    "             ['083022_record1','083122_record2','090122_record3','090222_record4'], #behavior of A16_4, both of 5 excluded, 6 not collected \n",
    "             ['082322_record1','082422_record2','082522_record3','082622_record4','082722_record5','082822_record6'],\n",
    "             ['082322_record1real','082422_record2','082522_record3','082622_record4','082722_record5','082822_record6'],\n",
    "             ['102322_record1','102422_record2','102522_record3','102622_record4','102722_record5','102822_record6'],\n",
    "             ['102322_record1','102422_record2','102522_record3','102622_record4','102722_record5','102822_record6'],\n",
    "             ['102322_record1','102422_record2','102522_record3','102622_record4','102722_record5','102822_record6'],\n",
    "             ['103122_record2','110122_record3','110222_record4','110322_record5rep','110422_record6','110522_record7'], #behavior of MA4M6, 7 excluded\n",
    "             ['110622_record1','110722_record2','110822_record3','110922_record4','111022_record5','111122_record6'],\n",
    "             ['103022_record1','103122_record2','110122_record3','110222_record4','110322_record5','110422_record6'],\n",
    "             ['103022_record1','103122_record2','110122_record3','110222_record4'], #behavior of MA7_4, both 5 excluded, 6 not collected\n",
    "             ['111322_record1','111422_record2','111522_record3','111622_record4','111722_record5','111822_record6'],\n",
    "             ['111322_record1','111422_record2','111522_record3','111622_record4','111722_record5','111822_record6'],\n",
    "             ['111322_record1','111422_record2','111522_record3','111622_record4','111722_record5','111822_record6'], \n",
    "             ['092522_record1','092622_record2','092722_record3','092822_record4','092922_record5','093022_record6'],\n",
    "             ['091822_record1','091922_record2','092022_record3','092122_record4','092222_record5','092322_record6'],\n",
    "             ['092522_record1','092622_record2','092722_record3','092822_record4','092922_record5','093022_record6'],\n",
    "             ['092522_record1','092622_record2','092722_record3','092822_record4','092922_record5','093022_record6'],\n",
    "             ['091822_record1','091922_record2','092022_record3','092122_record4','092222_record5','092322_record6'], #end cohortc\n",
    "             ['012723_record2','012823_record3','012923_record4','013023_record5','013123_record6','020123_record7'],\n",
    "             ['012623_record1','012723_record2','012823_record3','012923_record4','013023_record5','013123_record6'],\n",
    "             ['012923_record2','013023_record3','013123_record4','020123_record5','020223_record6','020323_record7'],\n",
    "             ['020923_record1','021023_record2','021123_record3','021223_record4','021323_record5','021423_record6'],\n",
    "             ['022623_record1','022723_record2','022823_record3','030123_record4','030223_record5','030323_record6'],\n",
    "             ['021623_record1','021723_record2','021823_record3','021923_record4','022023_record5','022123_record6'],\n",
    "             ['021623_record1','021723_record2','021823_record3','021923_record4','022023_record5','022123_record6'],\n",
    "             ['021623_record1','021723_record2','021823_record3','021923_record4','022023_record5rep','022123_record6'],\n",
    "             ['022623_record1','022723_record2','022823_record3','030123_record4','030223_record5','030323_record6'] #end cohort d \n",
    "            ]) #list of sessions"
   ]
  },
  {
   "cell_type": "code",
   "execution_count": 8,
   "id": "a446be16",
   "metadata": {},
   "outputs": [],
   "source": [
    "'''Define which mice & sessions to load based on metadata'''\n",
    "# Define mice, sessions for particular cohorts\n",
    "mice , mice_ind, _  = np.intersect1d(all_mice, np.union1d(cohortc_mice, cohortd_mice), return_indices = True) # SM mice\n",
    "\n",
    "sessions = []\n",
    "for i in mice_ind:\n",
    "    sessions.append(all_sessions[i])\n",
    "\n",
    "# Make a dict to hold data\n",
    "data = {}\n",
    "\n",
    "for session, m in zip(sessions, mice):\n",
    "    data[m] = {}\n",
    "    \n",
    "    for s in session:\n",
    "        data[m][s] = {}"
   ]
  },
  {
   "cell_type": "code",
   "execution_count": 9,
   "id": "feac282a",
   "metadata": {
    "scrolled": true
   },
   "outputs": [
    {
     "data": {
      "application/vnd.jupyter.widget-view+json": {
       "model_id": "ec733bb96cc14ef3900a631828ad1488",
       "version_major": 2,
       "version_minor": 0
      },
      "text/plain": [
       "  0%|          | 0/3 [00:00<?, ?it/s]"
      ]
     },
     "metadata": {},
     "output_type": "display_data"
    },
    {
     "name": "stdout",
     "output_type": "stream",
     "text": [
      "Skipped trials, n skipped = 3[ 6  7 83]\n",
      "Skipped trials, n skipped = 11[ 39  40  41  74  75  76  77  78 108 127 180]\n",
      "Skipped trials, n skipped = 1[160]\n"
     ]
    },
    {
     "data": {
      "application/vnd.jupyter.widget-view+json": {
       "model_id": "4bc09c526f1346e1b702d22a1e68c0ef",
       "version_major": 2,
       "version_minor": 0
      },
      "text/plain": [
       "  0%|          | 0/6 [00:00<?, ?it/s]"
      ]
     },
     "metadata": {},
     "output_type": "display_data"
    },
    {
     "name": "stdout",
     "output_type": "stream",
     "text": [
      "Skipped trials, n skipped = 1[168]\n",
      "Skipped trials, n skipped = 1[130]\n",
      "Skipped trials, n skipped = 2[ 29 144]\n",
      "Skipped trials, n skipped = 4[161 164 165 166]\n"
     ]
    },
    {
     "data": {
      "application/vnd.jupyter.widget-view+json": {
       "model_id": "e555fd6aa32e4837ab5559948a9499cd",
       "version_major": 2,
       "version_minor": 0
      },
      "text/plain": [
       "  0%|          | 0/4 [00:00<?, ?it/s]"
      ]
     },
     "metadata": {},
     "output_type": "display_data"
    },
    {
     "name": "stdout",
     "output_type": "stream",
     "text": [
      "Skipped trials, n skipped = 15[100 101 102 110 111 112 113 114 115 116 117 118 119 172 181]\n",
      "Skipped trials, n skipped = 4[141 188 189 190]\n",
      "Skipped trials, n skipped = 11[ 82 109 110 130 149 150 157 169 170 178 179]\n"
     ]
    },
    {
     "data": {
      "application/vnd.jupyter.widget-view+json": {
       "model_id": "f232a16c623b4fba9fcec254c6c8fecd",
       "version_major": 2,
       "version_minor": 0
      },
      "text/plain": [
       "  0%|          | 0/6 [00:00<?, ?it/s]"
      ]
     },
     "metadata": {},
     "output_type": "display_data"
    },
    {
     "name": "stdout",
     "output_type": "stream",
     "text": [
      "Skipped trials, n skipped = 1[167]\n",
      "Skipped trials, n skipped = 9[185 186 187 188 189 190 191 192 193]\n",
      "Skipped trials, n skipped = 5[108 109 110 111 208]\n"
     ]
    },
    {
     "data": {
      "application/vnd.jupyter.widget-view+json": {
       "model_id": "df5869370ea44c2cba42bfbe7d5f01d8",
       "version_major": 2,
       "version_minor": 0
      },
      "text/plain": [
       "  0%|          | 0/6 [00:00<?, ?it/s]"
      ]
     },
     "metadata": {},
     "output_type": "display_data"
    },
    {
     "name": "stdout",
     "output_type": "stream",
     "text": [
      "Skipped trials, n skipped = 4[  5  87  88 100]\n",
      "Skipped trials, n skipped = 1[132]\n",
      "Skipped trials, n skipped = 4[177 178 179 180]\n"
     ]
    },
    {
     "data": {
      "application/vnd.jupyter.widget-view+json": {
       "model_id": "d098834d22344607be6ac950881857b0",
       "version_major": 2,
       "version_minor": 0
      },
      "text/plain": [
       "  0%|          | 0/6 [00:00<?, ?it/s]"
      ]
     },
     "metadata": {},
     "output_type": "display_data"
    },
    {
     "data": {
      "application/vnd.jupyter.widget-view+json": {
       "model_id": "ca687fc9ca284fdfa4db711e7317b0de",
       "version_major": 2,
       "version_minor": 0
      },
      "text/plain": [
       "  0%|          | 0/6 [00:00<?, ?it/s]"
      ]
     },
     "metadata": {},
     "output_type": "display_data"
    },
    {
     "name": "stdout",
     "output_type": "stream",
     "text": [
      "A20013123_record6 did not reach gain change\n"
     ]
    },
    {
     "data": {
      "application/vnd.jupyter.widget-view+json": {
       "model_id": "df8ec6e7bc6b4ada8b8f20eefd1ebda5",
       "version_major": 2,
       "version_minor": 0
      },
      "text/plain": [
       "  0%|          | 0/6 [00:00<?, ?it/s]"
      ]
     },
     "metadata": {},
     "output_type": "display_data"
    },
    {
     "data": {
      "application/vnd.jupyter.widget-view+json": {
       "model_id": "8bcb226dbdc04d408f8704fc3464d245",
       "version_major": 2,
       "version_minor": 0
      },
      "text/plain": [
       "  0%|          | 0/6 [00:00<?, ?it/s]"
      ]
     },
     "metadata": {},
     "output_type": "display_data"
    },
    {
     "data": {
      "application/vnd.jupyter.widget-view+json": {
       "model_id": "285e4ea5818043edb7fb749158d19824",
       "version_major": 2,
       "version_minor": 0
      },
      "text/plain": [
       "  0%|          | 0/6 [00:00<?, ?it/s]"
      ]
     },
     "metadata": {},
     "output_type": "display_data"
    },
    {
     "data": {
      "application/vnd.jupyter.widget-view+json": {
       "model_id": "d1dfea0203ce473b8245d2fea7473cf9",
       "version_major": 2,
       "version_minor": 0
      },
      "text/plain": [
       "  0%|          | 0/6 [00:00<?, ?it/s]"
      ]
     },
     "metadata": {},
     "output_type": "display_data"
    },
    {
     "data": {
      "application/vnd.jupyter.widget-view+json": {
       "model_id": "adcc14a415b54c049c4ae8f535e1ad78",
       "version_major": 2,
       "version_minor": 0
      },
      "text/plain": [
       "  0%|          | 0/6 [00:00<?, ?it/s]"
      ]
     },
     "metadata": {},
     "output_type": "display_data"
    },
    {
     "data": {
      "application/vnd.jupyter.widget-view+json": {
       "model_id": "6dae6b43fc5246658a5d30bcdd811a09",
       "version_major": 2,
       "version_minor": 0
      },
      "text/plain": [
       "  0%|          | 0/6 [00:00<?, ?it/s]"
      ]
     },
     "metadata": {},
     "output_type": "display_data"
    },
    {
     "data": {
      "application/vnd.jupyter.widget-view+json": {
       "model_id": "6af069aac1414018999bb3bd504ca164",
       "version_major": 2,
       "version_minor": 0
      },
      "text/plain": [
       "  0%|          | 0/6 [00:00<?, ?it/s]"
      ]
     },
     "metadata": {},
     "output_type": "display_data"
    },
    {
     "data": {
      "application/vnd.jupyter.widget-view+json": {
       "model_id": "03e52d5dbcd04914934a421d7b776b47",
       "version_major": 2,
       "version_minor": 0
      },
      "text/plain": [
       "  0%|          | 0/6 [00:00<?, ?it/s]"
      ]
     },
     "metadata": {},
     "output_type": "display_data"
    },
    {
     "data": {
      "application/vnd.jupyter.widget-view+json": {
       "model_id": "aeb02b2030a146aa89a3c7af67e0e854",
       "version_major": 2,
       "version_minor": 0
      },
      "text/plain": [
       "  0%|          | 0/6 [00:00<?, ?it/s]"
      ]
     },
     "metadata": {},
     "output_type": "display_data"
    },
    {
     "data": {
      "application/vnd.jupyter.widget-view+json": {
       "model_id": "518dd266a1964db891054e79372bd109",
       "version_major": 2,
       "version_minor": 0
      },
      "text/plain": [
       "  0%|          | 0/6 [00:00<?, ?it/s]"
      ]
     },
     "metadata": {},
     "output_type": "display_data"
    },
    {
     "data": {
      "application/vnd.jupyter.widget-view+json": {
       "model_id": "50da754f0a6b40c095b2336cfec9eb5c",
       "version_major": 2,
       "version_minor": 0
      },
      "text/plain": [
       "  0%|          | 0/4 [00:00<?, ?it/s]"
      ]
     },
     "metadata": {},
     "output_type": "display_data"
    },
    {
     "data": {
      "application/vnd.jupyter.widget-view+json": {
       "model_id": "7157e8dd5c4445878f8a5a993e339c02",
       "version_major": 2,
       "version_minor": 0
      },
      "text/plain": [
       "  0%|          | 0/6 [00:00<?, ?it/s]"
      ]
     },
     "metadata": {},
     "output_type": "display_data"
    },
    {
     "data": {
      "application/vnd.jupyter.widget-view+json": {
       "model_id": "f9592cffe2324b46bbacfb27fb636134",
       "version_major": 2,
       "version_minor": 0
      },
      "text/plain": [
       "  0%|          | 0/6 [00:00<?, ?it/s]"
      ]
     },
     "metadata": {},
     "output_type": "display_data"
    },
    {
     "data": {
      "application/vnd.jupyter.widget-view+json": {
       "model_id": "1eccd72bcbb0492fa12c2a98de50facf",
       "version_major": 2,
       "version_minor": 0
      },
      "text/plain": [
       "  0%|          | 0/6 [00:00<?, ?it/s]"
      ]
     },
     "metadata": {},
     "output_type": "display_data"
    },
    {
     "name": "stdout",
     "output_type": "stream",
     "text": [
      "Skipped trials, n skipped = 3[120 121 122]\n",
      "Skipped trials, n skipped = 3[127 128 143]\n"
     ]
    },
    {
     "data": {
      "application/vnd.jupyter.widget-view+json": {
       "model_id": "d15e01f1ca1944fd931f462ac100d701",
       "version_major": 2,
       "version_minor": 0
      },
      "text/plain": [
       "  0%|          | 0/6 [00:00<?, ?it/s]"
      ]
     },
     "metadata": {},
     "output_type": "display_data"
    },
    {
     "data": {
      "application/vnd.jupyter.widget-view+json": {
       "model_id": "dfac58e0aacf49de8a3421498a6b8f32",
       "version_major": 2,
       "version_minor": 0
      },
      "text/plain": [
       "  0%|          | 0/6 [00:00<?, ?it/s]"
      ]
     },
     "metadata": {},
     "output_type": "display_data"
    },
    {
     "name": "stdout",
     "output_type": "stream",
     "text": [
      "Skipped trials, n skipped = 3[169 170 171]\n",
      "Skipped trials, n skipped = 23[105 106 107 108 109 110 111 112 113 114 138 139 140 141 142 143 144 145\n",
      " 146 147 148 188 189]\n",
      "Skipped trials, n skipped = 1[22]\n",
      "Skipped trials, n skipped = 2[166 178]\n",
      "Skipped trials, n skipped = 2[175 202]\n"
     ]
    },
    {
     "data": {
      "application/vnd.jupyter.widget-view+json": {
       "model_id": "554b5fa33b0f4eb6a79381830d69a0e4",
       "version_major": 2,
       "version_minor": 0
      },
      "text/plain": [
       "  0%|          | 0/6 [00:00<?, ?it/s]"
      ]
     },
     "metadata": {},
     "output_type": "display_data"
    },
    {
     "name": "stdout",
     "output_type": "stream",
     "text": [
      "Skipped trials, n skipped = 1[144]\n",
      "Skipped trials, n skipped = 1[212]\n",
      "Skipped trials, n skipped = 2[115 152]\n",
      "Skipped trials, n skipped = 3[ 21 161 177]\n"
     ]
    },
    {
     "data": {
      "application/vnd.jupyter.widget-view+json": {
       "model_id": "ce81144a64bb4bd5b36622e6b4d95758",
       "version_major": 2,
       "version_minor": 0
      },
      "text/plain": [
       "  0%|          | 0/6 [00:00<?, ?it/s]"
      ]
     },
     "metadata": {},
     "output_type": "display_data"
    },
    {
     "name": "stdout",
     "output_type": "stream",
     "text": [
      "Skipped trials, n skipped = 2[137 138]\n",
      "Skipped trials, n skipped = 2[ 52 167]\n"
     ]
    },
    {
     "data": {
      "application/vnd.jupyter.widget-view+json": {
       "model_id": "8d370107d3a2479c97250986fdee5576",
       "version_major": 2,
       "version_minor": 0
      },
      "text/plain": [
       "  0%|          | 0/6 [00:00<?, ?it/s]"
      ]
     },
     "metadata": {},
     "output_type": "display_data"
    },
    {
     "data": {
      "application/vnd.jupyter.widget-view+json": {
       "model_id": "f5519491c1aa44ccaefe6989c1585d91",
       "version_major": 2,
       "version_minor": 0
      },
      "text/plain": [
       "  0%|          | 0/6 [00:00<?, ?it/s]"
      ]
     },
     "metadata": {},
     "output_type": "display_data"
    },
    {
     "data": {
      "application/vnd.jupyter.widget-view+json": {
       "model_id": "cad06cdb85834a53a7f40694807690ba",
       "version_major": 2,
       "version_minor": 0
      },
      "text/plain": [
       "  0%|          | 0/6 [00:00<?, ?it/s]"
      ]
     },
     "metadata": {},
     "output_type": "display_data"
    },
    {
     "data": {
      "application/vnd.jupyter.widget-view+json": {
       "model_id": "185be009f67d47bdb15bd8ef49c6145c",
       "version_major": 2,
       "version_minor": 0
      },
      "text/plain": [
       "  0%|          | 0/6 [00:00<?, ?it/s]"
      ]
     },
     "metadata": {},
     "output_type": "display_data"
    }
   ],
   "source": [
    "''' Find & save indices corresponding to quarters of the task sorted by context, making sure skipped trials are excluded''' \n",
    "load_folder = 'C:/Users/Python/Desktop/LocalData/filtered/'\n",
    "save_folder = 'C:/Users/Python/Desktop/LocalData/spatialcellssm/indices/'\n",
    "\n",
    "\n",
    "for m, session in zip(mice,sessions):\n",
    "    for s in tdqm(session):\n",
    "        d = data[m][s]\n",
    "        \n",
    "        #load data\n",
    "        rawdata_file = 'RAW_' + m + '_' + s + '.npy'\n",
    "        behavior_file = 'BEHAVIOR_' + m + '_' + s + '.npy'\n",
    "        \n",
    "        raw = np.load(load_folder + rawdata_file, allow_pickle=True)\n",
    "        behaviorfil = np.load(load_folder + behavior_file, allow_pickle=False)        \n",
    "        posx = behaviorfil[:,0]\n",
    "        trial = behaviorfil[:,2]\n",
    "        \n",
    "        #define indices for first two quarters accounting for skipped trials\n",
    "        start_idx = (np.where(trial >= 20)[0][0]).astype(int) # trial is zero-indexed, 20 full dark trials\n",
    "        enda_idx = (np.where(trial <= 79)[0][-1]).astype(int) # get indices of all 60 context_a trials that follow dark\n",
    "        endb_idx = (np.where(trial <= 139)[0][-1]).astype(int) # last index before alternation\n",
    "        Aidx = np.arange(start_idx, enda_idx + 1, 1)\n",
    "        Bidx = np.arange(enda_idx + 1, endb_idx + 1, 1)\n",
    "        \n",
    "        #find context A / B trials in alternation, removing skipped trials\n",
    "        trialinfo = raw.item().get('trialinfo')\n",
    "        left = trialinfo['left']\n",
    "               \n",
    "        A_trials = np.where((left == 1))[0]\n",
    "        A_trials = list(A_trials[A_trials >= 140])\n",
    "        B_trials = np.where((left == 0))[0]\n",
    "        B_trials = list(B_trials[B_trials >= 140])\n",
    "    \n",
    "        try:\n",
    "            _ = raw.item().get('correctedtrial').shape\n",
    "            if (len(np.unique(trial)) < 220): \n",
    "                alltrial = np.arange(0, np.max(np.unique(trial)) + 1 , 1)\n",
    "            else:    \n",
    "                alltrial = np.arange(0,220,1)\n",
    "            skippedtrials = np.setdiff1d(alltrial, np.unique(trial)).astype(int)\n",
    "            print('Skipped trials, n skipped = ' + str(len(skippedtrials)) + str(skippedtrials))\n",
    "        except: \n",
    "            skippedtrials = []\n",
    "            \n",
    "        for n, t in enumerate(skippedtrials):\n",
    "            if t in A_trials:\n",
    "                A_trials.remove(t)\n",
    "            elif t in B_trials:\n",
    "                B_trials.remove(t)\n",
    "    \n",
    "        A_idx = []\n",
    "        for t in A_trials:\n",
    "            A_idx = np.append(A_idx, np.where(trial == t)[0])\n",
    "            A_idx = A_idx.astype(int)\n",
    "            \n",
    "        B_idx = []\n",
    "        for t in B_trials:\n",
    "            B_idx = np.append(B_idx, np.where(trial == t)[0])\n",
    "            B_idx = B_idx.astype(int)\n",
    "            \n",
    "        #save indices for session section\n",
    "        d['Aidx'] = Aidx\n",
    "        d['Bidx'] = Bidx\n",
    "        d['A_idx'] = A_idx\n",
    "        d['B_idx'] = B_idx\n",
    "                \n",
    "        # get non-gain change A' and B' indices \n",
    "        gain = trialinfo['gain']\n",
    "        \n",
    "        #check if mouse reached gain period; if not append NaN to all arrays & continue \n",
    "        if len(gain) < 200:\n",
    "            print(str(m) + str(s) + ' did not reach gain change')\n",
    "            \n",
    "            d['A_ngidx'] = A_idx\n",
    "            d['B_ngidx'] = B_idx\n",
    "            \n",
    "            continue \n",
    "            \n",
    "        #get count of gain in each context & select equal number of last Context A or B alt trials before gain\n",
    "        gain_trials = np.where((gain == 0.7))[0]\n",
    "        gain_trials = list(gain_trials)\n",
    "\n",
    "        Agtrials = np.intersect1d(A_trials, np.asarray(gain_trials))\n",
    "        Agtrials = list(np.sort(Agtrials.astype(int)))\n",
    "        Bgtrials = np.intersect1d(B_trials, np.asarray(gain_trials))                   \n",
    "        Bgtrials = list(np.sort(Bgtrials.astype(int)))\n",
    "    \n",
    "        #get indices of observations corresponding to the selected trials\n",
    "        Agidx = []\n",
    "        for t in Agtrials:\n",
    "            Agidx = np.append(Agidx, np.where(trial == t)[0])\n",
    "        Agidx = Agidx.astype(int)\n",
    "            \n",
    "        Bgidx = []\n",
    "        for t in Bgtrials:\n",
    "            Bgidx = np.append(Bgidx, np.where(trial == t)[0])\n",
    "        Bgidx = Bgidx.astype(int)\n",
    "        \n",
    "        A_ngidx = np.setdiff1d(A_idx,Agidx).astype(int)\n",
    "        B_ngidx = np.setdiff1d(B_idx,Bgidx).astype(int)\n",
    "        \n",
    "        d['A_ngidx'] = A_ngidx\n",
    "        d['B_ngidx'] = B_ngidx\n",
    "        "
   ]
  },
  {
   "cell_type": "code",
   "execution_count": 10,
   "id": "0aba35ef",
   "metadata": {},
   "outputs": [
    {
     "name": "stdout",
     "output_type": "stream",
     "text": [
      "Skipped & dark trials omitted from reward data, n skipped = 3\n",
      "Mouse A14 with n_misses: 183\n",
      "got lick indices for mouse A14 session 083022_record1\n",
      "got reward indices for mouse A14 session 083022_record1\n",
      "Skipped & dark trials omitted from reward data, n skipped = 11\n",
      "Mouse A14 with n_misses: 154\n",
      "got lick indices for mouse A14 session 083122_record2\n",
      "got reward indices for mouse A14 session 083122_record2\n",
      "Skipped & dark trials omitted from reward data, n skipped = 1\n",
      "Mouse A14 with n_misses: 145\n",
      "got lick indices for mouse A14 session 090122_record3\n",
      "got reward indices for mouse A14 session 090122_record3\n",
      "No trials skipped; only dark trials omitted from reward data\n",
      "Mouse A15 with n_misses: 105\n",
      "got lick indices for mouse A15 session 083022_record1\n",
      "got reward indices for mouse A15 session 083022_record1\n",
      "Skipped & dark trials omitted from reward data, n skipped = 1\n",
      "Mouse A15 with n_misses: 80\n",
      "got lick indices for mouse A15 session 083122_record2\n",
      "got reward indices for mouse A15 session 083122_record2\n",
      "Skipped & dark trials omitted from reward data, n skipped = 1\n",
      "Mouse A15 with n_misses: 39\n",
      "got lick indices for mouse A15 session 090122_record3\n",
      "got reward indices for mouse A15 session 090122_record3\n",
      "Skipped & dark trials omitted from reward data, n skipped = 2\n",
      "Mouse A15 with n_misses: 63\n",
      "got lick indices for mouse A15 session 090222_record4\n",
      "got reward indices for mouse A15 session 090222_record4\n",
      "Skipped & dark trials omitted from reward data, n skipped = 4\n",
      "Mouse A15 with n_misses: 53\n",
      "got lick indices for mouse A15 session 090322_record5\n",
      "got reward indices for mouse A15 session 090322_record5\n",
      "No trials skipped; only dark trials omitted from reward data\n",
      "Mouse A15 with n_misses: 54\n",
      "got lick indices for mouse A15 session 090422_record6\n",
      "got reward indices for mouse A15 session 090422_record6\n",
      "Skipped & dark trials omitted from reward data, n skipped = 15\n",
      "Mouse A16 with n_misses: 127\n",
      "got lick indices for mouse A16 session 083022_record1\n",
      "got reward indices for mouse A16 session 083022_record1\n",
      "Skipped & dark trials omitted from reward data, n skipped = 4\n",
      "Mouse A16 with n_misses: 71\n",
      "got lick indices for mouse A16 session 083122_record2\n",
      "got reward indices for mouse A16 session 083122_record2\n",
      "Skipped & dark trials omitted from reward data, n skipped = 11\n",
      "Mouse A16 with n_misses: 105\n",
      "got lick indices for mouse A16 session 090122_record3\n",
      "got reward indices for mouse A16 session 090122_record3\n",
      "No trials skipped; only dark trials omitted from reward data\n",
      "Mouse A16 with n_misses: 178\n",
      "got lick indices for mouse A16 session 090222_record4\n",
      "got reward indices for mouse A16 session 090222_record4\n",
      "No trials skipped; only dark trials omitted from reward data\n",
      "Mouse A17 with n_misses: 134\n",
      "got lick indices for mouse A17 session 082322_record1\n",
      "got reward indices for mouse A17 session 082322_record1\n",
      "No trials skipped; only dark trials omitted from reward data\n",
      "Mouse A17 with n_misses: 85\n",
      "got lick indices for mouse A17 session 082422_record2\n",
      "got reward indices for mouse A17 session 082422_record2\n",
      "No trials skipped; only dark trials omitted from reward data\n",
      "Mouse A17 with n_misses: 93\n",
      "got lick indices for mouse A17 session 082522_record3\n",
      "got reward indices for mouse A17 session 082522_record3\n",
      "Skipped & dark trials omitted from reward data, n skipped = 1\n",
      "Mouse A17 with n_misses: 85\n",
      "got lick indices for mouse A17 session 082622_record4\n",
      "got reward indices for mouse A17 session 082622_record4\n",
      "Skipped & dark trials omitted from reward data, n skipped = 9\n",
      "Mouse A17 with n_misses: 170\n",
      "got lick indices for mouse A17 session 082722_record5\n",
      "got reward indices for mouse A17 session 082722_record5\n",
      "Skipped & dark trials omitted from reward data, n skipped = 5\n",
      "Mouse A17 with n_misses: 98\n",
      "got lick indices for mouse A17 session 082822_record6\n",
      "got reward indices for mouse A17 session 082822_record6\n",
      "No trials skipped; only dark trials omitted from reward data\n",
      "Mouse A18 with n_misses: 150\n",
      "got lick indices for mouse A18 session 082322_record1real\n",
      "got reward indices for mouse A18 session 082322_record1real\n",
      "Skipped & dark trials omitted from reward data, n skipped = 4\n",
      "Mouse A18 with n_misses: 119\n",
      "got lick indices for mouse A18 session 082422_record2\n",
      "got reward indices for mouse A18 session 082422_record2\n",
      "No trials skipped; only dark trials omitted from reward data\n",
      "Mouse A18 with n_misses: 63\n",
      "got lick indices for mouse A18 session 082522_record3\n",
      "got reward indices for mouse A18 session 082522_record3\n",
      "Skipped & dark trials omitted from reward data, n skipped = 1\n",
      "Mouse A18 with n_misses: 94\n",
      "got lick indices for mouse A18 session 082622_record4\n",
      "got reward indices for mouse A18 session 082622_record4\n",
      "Skipped & dark trials omitted from reward data, n skipped = 4\n",
      "Mouse A18 with n_misses: 54\n",
      "got lick indices for mouse A18 session 082722_record5\n",
      "got reward indices for mouse A18 session 082722_record5\n",
      "No trials skipped; only dark trials omitted from reward data\n",
      "Mouse A18 with n_misses: 59\n",
      "got lick indices for mouse A18 session 082822_record6\n",
      "got reward indices for mouse A18 session 082822_record6\n",
      "No trials skipped; only dark trials omitted from reward data\n",
      "Mouse A19 with n_misses: 53\n",
      "got lick indices for mouse A19 session 012723_record2\n",
      "got reward indices for mouse A19 session 012723_record2\n",
      "No trials skipped; only dark trials omitted from reward data\n",
      "Mouse A19 with n_misses: 47\n",
      "got lick indices for mouse A19 session 012823_record3\n",
      "got reward indices for mouse A19 session 012823_record3\n",
      "No trials skipped; only dark trials omitted from reward data\n",
      "Mouse A19 with n_misses: 48\n",
      "got lick indices for mouse A19 session 012923_record4\n",
      "got reward indices for mouse A19 session 012923_record4\n",
      "No trials skipped; only dark trials omitted from reward data\n",
      "Mouse A19 with n_misses: 89\n",
      "got lick indices for mouse A19 session 013023_record5\n",
      "got reward indices for mouse A19 session 013023_record5\n",
      "No trials skipped; only dark trials omitted from reward data\n",
      "Mouse A19 with n_misses: 107\n",
      "got lick indices for mouse A19 session 013123_record6\n",
      "got reward indices for mouse A19 session 013123_record6\n",
      "No trials skipped; only dark trials omitted from reward data\n",
      "Mouse A19 with n_misses: 101\n",
      "got lick indices for mouse A19 session 020123_record7\n",
      "got reward indices for mouse A19 session 020123_record7\n",
      "No trials skipped; only dark trials omitted from reward data\n",
      "Mouse A20 with n_misses: 83\n",
      "got lick indices for mouse A20 session 012623_record1\n",
      "got reward indices for mouse A20 session 012623_record1\n",
      "No trials skipped; only dark trials omitted from reward data\n",
      "Mouse A20 with n_misses: 57\n",
      "got lick indices for mouse A20 session 012723_record2\n",
      "got reward indices for mouse A20 session 012723_record2\n",
      "No trials skipped; only dark trials omitted from reward data\n",
      "Mouse A20 with n_misses: 40\n",
      "got lick indices for mouse A20 session 012823_record3\n",
      "got reward indices for mouse A20 session 012823_record3\n",
      "No trials skipped; only dark trials omitted from reward data\n",
      "Mouse A20 with n_misses: 67\n",
      "got lick indices for mouse A20 session 012923_record4\n",
      "got reward indices for mouse A20 session 012923_record4\n",
      "No trials skipped; only dark trials omitted from reward data\n",
      "Mouse A20 with n_misses: 55\n",
      "got lick indices for mouse A20 session 013023_record5\n",
      "got reward indices for mouse A20 session 013023_record5\n",
      "No trials skipped; only dark trials omitted from reward data\n",
      "Mouse A20 with n_misses: 71\n",
      "got lick indices for mouse A20 session 013123_record6\n",
      "got reward indices for mouse A20 session 013123_record6\n",
      "No trials skipped; only dark trials omitted from reward data\n",
      "Mouse A22 with n_misses: 86\n",
      "got lick indices for mouse A22 session 012923_record2\n",
      "got reward indices for mouse A22 session 012923_record2\n",
      "No trials skipped; only dark trials omitted from reward data\n",
      "Mouse A22 with n_misses: 72\n",
      "got lick indices for mouse A22 session 013023_record3\n",
      "got reward indices for mouse A22 session 013023_record3\n",
      "No trials skipped; only dark trials omitted from reward data\n",
      "Mouse A22 with n_misses: 56\n",
      "got lick indices for mouse A22 session 013123_record4\n",
      "got reward indices for mouse A22 session 013123_record4\n",
      "No trials skipped; only dark trials omitted from reward data\n",
      "Mouse A22 with n_misses: 27\n",
      "got lick indices for mouse A22 session 020123_record5\n",
      "got reward indices for mouse A22 session 020123_record5\n"
     ]
    },
    {
     "name": "stdout",
     "output_type": "stream",
     "text": [
      "No trials skipped; only dark trials omitted from reward data\n",
      "Mouse A22 with n_misses: 104\n",
      "got lick indices for mouse A22 session 020223_record6\n",
      "got reward indices for mouse A22 session 020223_record6\n",
      "No trials skipped; only dark trials omitted from reward data\n",
      "Mouse A22 with n_misses: 84\n",
      "got lick indices for mouse A22 session 020323_record7\n",
      "got reward indices for mouse A22 session 020323_record7\n",
      "No trials skipped; only dark trials omitted from reward data\n",
      "Mouse A23 with n_misses: 141\n",
      "got lick indices for mouse A23 session 020923_record1\n",
      "got reward indices for mouse A23 session 020923_record1\n",
      "No trials skipped; only dark trials omitted from reward data\n",
      "Mouse A23 with n_misses: 102\n",
      "got lick indices for mouse A23 session 021023_record2\n",
      "got reward indices for mouse A23 session 021023_record2\n",
      "No trials skipped; only dark trials omitted from reward data\n",
      "Mouse A23 with n_misses: 52\n",
      "got lick indices for mouse A23 session 021123_record3\n",
      "got reward indices for mouse A23 session 021123_record3\n",
      "No trials skipped; only dark trials omitted from reward data\n",
      "Mouse A23 with n_misses: 73\n",
      "got lick indices for mouse A23 session 021223_record4\n",
      "got reward indices for mouse A23 session 021223_record4\n",
      "No trials skipped; only dark trials omitted from reward data\n",
      "Mouse A23 with n_misses: 73\n",
      "got lick indices for mouse A23 session 021323_record5\n",
      "got reward indices for mouse A23 session 021323_record5\n",
      "No trials skipped; only dark trials omitted from reward data\n",
      "Mouse A23 with n_misses: 3\n",
      "got lick indices for mouse A23 session 021423_record6\n",
      "got reward indices for mouse A23 session 021423_record6\n",
      "No trials skipped; only dark trials omitted from reward data\n",
      "Mouse A24 with n_misses: 35\n",
      "got lick indices for mouse A24 session 022623_record1\n",
      "got reward indices for mouse A24 session 022623_record1\n",
      "No trials skipped; only dark trials omitted from reward data\n",
      "Mouse A24 with n_misses: 27\n",
      "got lick indices for mouse A24 session 022723_record2\n",
      "got reward indices for mouse A24 session 022723_record2\n",
      "No trials skipped; only dark trials omitted from reward data\n",
      "Mouse A24 with n_misses: 33\n",
      "got lick indices for mouse A24 session 022823_record3\n",
      "got reward indices for mouse A24 session 022823_record3\n",
      "No trials skipped; only dark trials omitted from reward data\n",
      "Mouse A24 with n_misses: 10\n",
      "got lick indices for mouse A24 session 030123_record4\n",
      "got reward indices for mouse A24 session 030123_record4\n",
      "No trials skipped; only dark trials omitted from reward data\n",
      "Mouse A24 with n_misses: 9\n",
      "got lick indices for mouse A24 session 030223_record5\n",
      "got reward indices for mouse A24 session 030223_record5\n",
      "No trials skipped; only dark trials omitted from reward data\n",
      "Mouse A24 with n_misses: 10\n",
      "got lick indices for mouse A24 session 030323_record6\n",
      "got reward indices for mouse A24 session 030323_record6\n",
      "No trials skipped; only dark trials omitted from reward data\n",
      "Mouse MA10F with n_misses: 89\n",
      "got lick indices for mouse MA10F session 111322_record1\n",
      "got reward indices for mouse MA10F session 111322_record1\n",
      "No trials skipped; only dark trials omitted from reward data\n",
      "Mouse MA10F with n_misses: 41\n",
      "got lick indices for mouse MA10F session 111422_record2\n",
      "got reward indices for mouse MA10F session 111422_record2\n",
      "No trials skipped; only dark trials omitted from reward data\n",
      "Mouse MA10F with n_misses: 22\n",
      "got lick indices for mouse MA10F session 111522_record3\n",
      "got reward indices for mouse MA10F session 111522_record3\n",
      "No trials skipped; only dark trials omitted from reward data\n",
      "Mouse MA10F with n_misses: 21\n",
      "got lick indices for mouse MA10F session 111622_record4\n",
      "got reward indices for mouse MA10F session 111622_record4\n",
      "No trials skipped; only dark trials omitted from reward data\n",
      "Mouse MA10F with n_misses: 3\n",
      "got lick indices for mouse MA10F session 111722_record5\n",
      "got reward indices for mouse MA10F session 111722_record5\n",
      "No trials skipped; only dark trials omitted from reward data\n",
      "Mouse MA10F with n_misses: 0\n",
      "got lick indices for mouse MA10F session 111822_record6\n",
      "got reward indices for mouse MA10F session 111822_record6\n",
      "No trials skipped; only dark trials omitted from reward data\n",
      "Mouse MA1F with n_misses: 130\n",
      "got lick indices for mouse MA1F session 102322_record1\n",
      "got reward indices for mouse MA1F session 102322_record1\n",
      "No trials skipped; only dark trials omitted from reward data\n",
      "Mouse MA1F with n_misses: 18\n",
      "got lick indices for mouse MA1F session 102422_record2\n",
      "got reward indices for mouse MA1F session 102422_record2\n",
      "No trials skipped; only dark trials omitted from reward data\n",
      "Mouse MA1F with n_misses: 7\n",
      "got lick indices for mouse MA1F session 102522_record3\n",
      "got reward indices for mouse MA1F session 102522_record3\n",
      "No trials skipped; only dark trials omitted from reward data\n",
      "Mouse MA1F with n_misses: 15\n",
      "got lick indices for mouse MA1F session 102622_record4\n",
      "got reward indices for mouse MA1F session 102622_record4\n",
      "No trials skipped; only dark trials omitted from reward data\n",
      "Mouse MA1F with n_misses: 7\n",
      "got lick indices for mouse MA1F session 102722_record5\n",
      "got reward indices for mouse MA1F session 102722_record5\n",
      "No trials skipped; only dark trials omitted from reward data\n",
      "Mouse MA1F with n_misses: 0\n",
      "got lick indices for mouse MA1F session 102822_record6\n",
      "got reward indices for mouse MA1F session 102822_record6\n",
      "No trials skipped; only dark trials omitted from reward data\n",
      "Mouse MA2F with n_misses: 46\n",
      "got lick indices for mouse MA2F session 102322_record1\n",
      "got reward indices for mouse MA2F session 102322_record1\n",
      "No trials skipped; only dark trials omitted from reward data\n",
      "Mouse MA2F with n_misses: 25\n",
      "got lick indices for mouse MA2F session 102422_record2\n",
      "got reward indices for mouse MA2F session 102422_record2\n",
      "No trials skipped; only dark trials omitted from reward data\n",
      "Mouse MA2F with n_misses: 3\n",
      "got lick indices for mouse MA2F session 102522_record3\n",
      "got reward indices for mouse MA2F session 102522_record3\n",
      "No trials skipped; only dark trials omitted from reward data\n",
      "Mouse MA2F with n_misses: 26\n",
      "got lick indices for mouse MA2F session 102622_record4\n",
      "got reward indices for mouse MA2F session 102622_record4\n",
      "No trials skipped; only dark trials omitted from reward data\n",
      "Mouse MA2F with n_misses: 3\n",
      "got lick indices for mouse MA2F session 102722_record5\n",
      "got reward indices for mouse MA2F session 102722_record5\n",
      "No trials skipped; only dark trials omitted from reward data\n",
      "Mouse MA2F with n_misses: 3\n",
      "got lick indices for mouse MA2F session 102822_record6\n",
      "got reward indices for mouse MA2F session 102822_record6\n",
      "No trials skipped; only dark trials omitted from reward data\n",
      "Mouse MA3M with n_misses: 84\n",
      "got lick indices for mouse MA3M session 102322_record1\n",
      "got reward indices for mouse MA3M session 102322_record1\n",
      "No trials skipped; only dark trials omitted from reward data\n",
      "Mouse MA3M with n_misses: 30\n",
      "got lick indices for mouse MA3M session 102422_record2\n",
      "got reward indices for mouse MA3M session 102422_record2\n",
      "No trials skipped; only dark trials omitted from reward data\n",
      "Mouse MA3M with n_misses: 5\n",
      "got lick indices for mouse MA3M session 102522_record3\n",
      "got reward indices for mouse MA3M session 102522_record3\n",
      "No trials skipped; only dark trials omitted from reward data\n",
      "Mouse MA3M with n_misses: 0\n",
      "got lick indices for mouse MA3M session 102622_record4\n",
      "got reward indices for mouse MA3M session 102622_record4\n",
      "No trials skipped; only dark trials omitted from reward data\n",
      "Mouse MA3M with n_misses: 0\n",
      "got lick indices for mouse MA3M session 102722_record5\n",
      "got reward indices for mouse MA3M session 102722_record5\n",
      "No trials skipped; only dark trials omitted from reward data\n",
      "Mouse MA3M with n_misses: 1\n",
      "got lick indices for mouse MA3M session 102822_record6\n",
      "got reward indices for mouse MA3M session 102822_record6\n",
      "No trials skipped; only dark trials omitted from reward data\n",
      "Mouse MA4M with n_misses: 88\n",
      "got lick indices for mouse MA4M session 103122_record2\n",
      "got reward indices for mouse MA4M session 103122_record2\n",
      "No trials skipped; only dark trials omitted from reward data\n",
      "Mouse MA4M with n_misses: 45\n",
      "got lick indices for mouse MA4M session 110122_record3\n",
      "got reward indices for mouse MA4M session 110122_record3\n",
      "No trials skipped; only dark trials omitted from reward data\n",
      "Mouse MA4M with n_misses: 38\n",
      "got lick indices for mouse MA4M session 110222_record4\n",
      "got reward indices for mouse MA4M session 110222_record4\n"
     ]
    },
    {
     "name": "stdout",
     "output_type": "stream",
     "text": [
      "No trials skipped; only dark trials omitted from reward data\n",
      "Mouse MA4M with n_misses: 46\n",
      "got lick indices for mouse MA4M session 110322_record5rep\n",
      "got reward indices for mouse MA4M session 110322_record5rep\n",
      "No trials skipped; only dark trials omitted from reward data\n",
      "Mouse MA4M with n_misses: 15\n",
      "got lick indices for mouse MA4M session 110422_record6\n",
      "got reward indices for mouse MA4M session 110422_record6\n",
      "No trials skipped; only dark trials omitted from reward data\n",
      "Mouse MA4M with n_misses: 116\n",
      "got lick indices for mouse MA4M session 110522_record7\n",
      "got reward indices for mouse MA4M session 110522_record7\n",
      "No trials skipped; only dark trials omitted from reward data\n",
      "Mouse MA5M with n_misses: 98\n",
      "got lick indices for mouse MA5M session 110622_record1\n",
      "got reward indices for mouse MA5M session 110622_record1\n",
      "No trials skipped; only dark trials omitted from reward data\n",
      "Mouse MA5M with n_misses: 89\n",
      "got lick indices for mouse MA5M session 110722_record2\n",
      "got reward indices for mouse MA5M session 110722_record2\n",
      "No trials skipped; only dark trials omitted from reward data\n",
      "Mouse MA5M with n_misses: 40\n",
      "got lick indices for mouse MA5M session 110822_record3\n",
      "got reward indices for mouse MA5M session 110822_record3\n",
      "No trials skipped; only dark trials omitted from reward data\n",
      "Mouse MA5M with n_misses: 17\n",
      "got lick indices for mouse MA5M session 110922_record4\n",
      "got reward indices for mouse MA5M session 110922_record4\n",
      "No trials skipped; only dark trials omitted from reward data\n",
      "Mouse MA5M with n_misses: 21\n",
      "got lick indices for mouse MA5M session 111022_record5\n",
      "got reward indices for mouse MA5M session 111022_record5\n",
      "No trials skipped; only dark trials omitted from reward data\n",
      "Mouse MA5M with n_misses: 2\n",
      "got lick indices for mouse MA5M session 111122_record6\n",
      "got reward indices for mouse MA5M session 111122_record6\n",
      "No trials skipped; only dark trials omitted from reward data\n",
      "Mouse MA6M with n_misses: 26\n",
      "got lick indices for mouse MA6M session 103022_record1\n",
      "got reward indices for mouse MA6M session 103022_record1\n",
      "No trials skipped; only dark trials omitted from reward data\n",
      "Mouse MA6M with n_misses: 75\n",
      "got lick indices for mouse MA6M session 103122_record2\n",
      "got reward indices for mouse MA6M session 103122_record2\n",
      "No trials skipped; only dark trials omitted from reward data\n",
      "Mouse MA6M with n_misses: 50\n",
      "got lick indices for mouse MA6M session 110122_record3\n",
      "got reward indices for mouse MA6M session 110122_record3\n",
      "No trials skipped; only dark trials omitted from reward data\n",
      "Mouse MA6M with n_misses: 35\n",
      "got lick indices for mouse MA6M session 110222_record4\n",
      "got reward indices for mouse MA6M session 110222_record4\n",
      "No trials skipped; only dark trials omitted from reward data\n",
      "Mouse MA6M with n_misses: 16\n",
      "got lick indices for mouse MA6M session 110322_record5\n",
      "got reward indices for mouse MA6M session 110322_record5\n",
      "No trials skipped; only dark trials omitted from reward data\n",
      "Mouse MA6M with n_misses: 10\n",
      "got lick indices for mouse MA6M session 110422_record6\n",
      "got reward indices for mouse MA6M session 110422_record6\n",
      "No trials skipped; only dark trials omitted from reward data\n",
      "Mouse MA7M with n_misses: 106\n",
      "got lick indices for mouse MA7M session 103022_record1\n",
      "got reward indices for mouse MA7M session 103022_record1\n",
      "No trials skipped; only dark trials omitted from reward data\n",
      "Mouse MA7M with n_misses: 18\n",
      "got lick indices for mouse MA7M session 103122_record2\n",
      "got reward indices for mouse MA7M session 103122_record2\n",
      "No trials skipped; only dark trials omitted from reward data\n",
      "Mouse MA7M with n_misses: 34\n",
      "got lick indices for mouse MA7M session 110122_record3\n",
      "got reward indices for mouse MA7M session 110122_record3\n",
      "No trials skipped; only dark trials omitted from reward data\n",
      "Mouse MA7M with n_misses: 87\n",
      "got lick indices for mouse MA7M session 110222_record4\n",
      "got reward indices for mouse MA7M session 110222_record4\n",
      "No trials skipped; only dark trials omitted from reward data\n",
      "Mouse MA8F with n_misses: 47\n",
      "got lick indices for mouse MA8F session 111322_record1\n",
      "got reward indices for mouse MA8F session 111322_record1\n",
      "No trials skipped; only dark trials omitted from reward data\n",
      "Mouse MA8F with n_misses: 70\n",
      "got lick indices for mouse MA8F session 111422_record2\n",
      "got reward indices for mouse MA8F session 111422_record2\n",
      "No trials skipped; only dark trials omitted from reward data\n",
      "Mouse MA8F with n_misses: 59\n",
      "got lick indices for mouse MA8F session 111522_record3\n",
      "got reward indices for mouse MA8F session 111522_record3\n",
      "No trials skipped; only dark trials omitted from reward data\n",
      "Mouse MA8F with n_misses: 15\n",
      "got lick indices for mouse MA8F session 111622_record4\n",
      "got reward indices for mouse MA8F session 111622_record4\n",
      "No trials skipped; only dark trials omitted from reward data\n",
      "Mouse MA8F with n_misses: 9\n",
      "got lick indices for mouse MA8F session 111722_record5\n",
      "got reward indices for mouse MA8F session 111722_record5\n",
      "No trials skipped; only dark trials omitted from reward data\n",
      "Mouse MA8F with n_misses: 5\n",
      "got lick indices for mouse MA8F session 111822_record6\n",
      "got reward indices for mouse MA8F session 111822_record6\n",
      "No trials skipped; only dark trials omitted from reward data\n",
      "Mouse MA9F with n_misses: 97\n",
      "got lick indices for mouse MA9F session 111322_record1\n",
      "got reward indices for mouse MA9F session 111322_record1\n",
      "No trials skipped; only dark trials omitted from reward data\n",
      "Mouse MA9F with n_misses: 95\n",
      "got lick indices for mouse MA9F session 111422_record2\n",
      "got reward indices for mouse MA9F session 111422_record2\n",
      "No trials skipped; only dark trials omitted from reward data\n",
      "Mouse MA9F with n_misses: 36\n",
      "got lick indices for mouse MA9F session 111522_record3\n",
      "got reward indices for mouse MA9F session 111522_record3\n",
      "No trials skipped; only dark trials omitted from reward data\n",
      "Mouse MA9F with n_misses: 10\n",
      "got lick indices for mouse MA9F session 111622_record4\n",
      "got reward indices for mouse MA9F session 111622_record4\n",
      "No trials skipped; only dark trials omitted from reward data\n",
      "Mouse MA9F with n_misses: 5\n",
      "got lick indices for mouse MA9F session 111722_record5\n",
      "got reward indices for mouse MA9F session 111722_record5\n",
      "No trials skipped; only dark trials omitted from reward data\n",
      "Mouse MA9F with n_misses: 7\n",
      "got lick indices for mouse MA9F session 111822_record6\n",
      "got reward indices for mouse MA9F session 111822_record6\n",
      "No trials skipped; only dark trials omitted from reward data\n",
      "Mouse Y20 with n_misses: 17\n",
      "got lick indices for mouse Y20 session 092522_record1\n",
      "got reward indices for mouse Y20 session 092522_record1\n",
      "No trials skipped; only dark trials omitted from reward data\n",
      "Mouse Y20 with n_misses: 11\n",
      "got lick indices for mouse Y20 session 092622_record2\n",
      "got reward indices for mouse Y20 session 092622_record2\n",
      "No trials skipped; only dark trials omitted from reward data\n",
      "Mouse Y20 with n_misses: 9\n",
      "got lick indices for mouse Y20 session 092722_record3\n",
      "got reward indices for mouse Y20 session 092722_record3\n",
      "No trials skipped; only dark trials omitted from reward data\n",
      "Mouse Y20 with n_misses: 1\n",
      "got lick indices for mouse Y20 session 092822_record4\n",
      "got reward indices for mouse Y20 session 092822_record4\n",
      "Skipped & dark trials omitted from reward data, n skipped = 3\n",
      "Mouse Y20 with n_misses: 3\n",
      "got lick indices for mouse Y20 session 092922_record5\n",
      "got reward indices for mouse Y20 session 092922_record5\n",
      "Skipped & dark trials omitted from reward data, n skipped = 3\n",
      "Mouse Y20 with n_misses: 6\n",
      "got lick indices for mouse Y20 session 093022_record6\n",
      "got reward indices for mouse Y20 session 093022_record6\n",
      "No trials skipped; only dark trials omitted from reward data\n",
      "Mouse Y21 with n_misses: 77\n",
      "got lick indices for mouse Y21 session 091822_record1\n",
      "got reward indices for mouse Y21 session 091822_record1\n",
      "No trials skipped; only dark trials omitted from reward data\n",
      "Mouse Y21 with n_misses: 50\n",
      "got lick indices for mouse Y21 session 091922_record2\n",
      "got reward indices for mouse Y21 session 091922_record2\n",
      "No trials skipped; only dark trials omitted from reward data\n",
      "Mouse Y21 with n_misses: 39\n",
      "got lick indices for mouse Y21 session 092022_record3\n",
      "got reward indices for mouse Y21 session 092022_record3\n",
      "No trials skipped; only dark trials omitted from reward data\n",
      "Mouse Y21 with n_misses: 40\n",
      "got lick indices for mouse Y21 session 092122_record4\n",
      "got reward indices for mouse Y21 session 092122_record4\n"
     ]
    },
    {
     "name": "stdout",
     "output_type": "stream",
     "text": [
      "No trials skipped; only dark trials omitted from reward data\n",
      "Mouse Y21 with n_misses: 8\n",
      "got lick indices for mouse Y21 session 092222_record5\n",
      "got reward indices for mouse Y21 session 092222_record5\n",
      "No trials skipped; only dark trials omitted from reward data\n",
      "Mouse Y21 with n_misses: 4\n",
      "got lick indices for mouse Y21 session 092322_record6\n",
      "got reward indices for mouse Y21 session 092322_record6\n",
      "Skipped & dark trials omitted from reward data, n skipped = 3\n",
      "Mouse Y22 with n_misses: 134\n",
      "got lick indices for mouse Y22 session 092522_record1\n",
      "got reward indices for mouse Y22 session 092522_record1\n",
      "Skipped & dark trials omitted from reward data, n skipped = 23\n",
      "Mouse Y22 with n_misses: 49\n",
      "got lick indices for mouse Y22 session 092622_record2\n",
      "got reward indices for mouse Y22 session 092622_record2\n",
      "No trials skipped; only dark trials omitted from reward data\n",
      "Mouse Y22 with n_misses: 24\n",
      "got lick indices for mouse Y22 session 092722_record3\n",
      "got reward indices for mouse Y22 session 092722_record3\n",
      "Skipped & dark trials omitted from reward data, n skipped = 1\n",
      "Mouse Y22 with n_misses: 17\n",
      "got lick indices for mouse Y22 session 092822_record4\n",
      "got reward indices for mouse Y22 session 092822_record4\n",
      "Skipped & dark trials omitted from reward data, n skipped = 2\n",
      "Mouse Y22 with n_misses: 1\n",
      "got lick indices for mouse Y22 session 092922_record5\n",
      "got reward indices for mouse Y22 session 092922_record5\n",
      "Skipped & dark trials omitted from reward data, n skipped = 2\n",
      "Mouse Y22 with n_misses: 26\n",
      "got lick indices for mouse Y22 session 093022_record6\n",
      "got reward indices for mouse Y22 session 093022_record6\n",
      "No trials skipped; only dark trials omitted from reward data\n",
      "Mouse Y23 with n_misses: 72\n",
      "got lick indices for mouse Y23 session 092522_record1\n",
      "got reward indices for mouse Y23 session 092522_record1\n",
      "Skipped & dark trials omitted from reward data, n skipped = 1\n",
      "Mouse Y23 with n_misses: 71\n",
      "got lick indices for mouse Y23 session 092622_record2\n",
      "got reward indices for mouse Y23 session 092622_record2\n",
      "No trials skipped; only dark trials omitted from reward data\n",
      "Mouse Y23 with n_misses: 32\n",
      "got lick indices for mouse Y23 session 092722_record3\n",
      "got reward indices for mouse Y23 session 092722_record3\n",
      "Skipped & dark trials omitted from reward data, n skipped = 1\n",
      "Mouse Y23 with n_misses: 21\n",
      "got lick indices for mouse Y23 session 092822_record4\n",
      "got reward indices for mouse Y23 session 092822_record4\n",
      "Skipped & dark trials omitted from reward data, n skipped = 2\n",
      "Mouse Y23 with n_misses: 18\n",
      "got lick indices for mouse Y23 session 092922_record5\n",
      "got reward indices for mouse Y23 session 092922_record5\n",
      "Skipped & dark trials omitted from reward data, n skipped = 3\n",
      "Mouse Y23 with n_misses: 18\n",
      "got lick indices for mouse Y23 session 093022_record6\n",
      "got reward indices for mouse Y23 session 093022_record6\n",
      "Skipped & dark trials omitted from reward data, n skipped = 2\n",
      "Mouse Y24 with n_misses: 48\n",
      "got lick indices for mouse Y24 session 091822_record1\n",
      "got reward indices for mouse Y24 session 091822_record1\n",
      "No trials skipped; only dark trials omitted from reward data\n",
      "Mouse Y24 with n_misses: 31\n",
      "got lick indices for mouse Y24 session 091922_record2\n",
      "got reward indices for mouse Y24 session 091922_record2\n",
      "Skipped & dark trials omitted from reward data, n skipped = 2\n",
      "Mouse Y24 with n_misses: 20\n",
      "got lick indices for mouse Y24 session 092022_record3\n",
      "got reward indices for mouse Y24 session 092022_record3\n",
      "No trials skipped; only dark trials omitted from reward data\n",
      "Mouse Y24 with n_misses: 15\n",
      "got lick indices for mouse Y24 session 092122_record4\n",
      "got reward indices for mouse Y24 session 092122_record4\n",
      "No trials skipped; only dark trials omitted from reward data\n",
      "Mouse Y24 with n_misses: 11\n",
      "got lick indices for mouse Y24 session 092222_record5\n",
      "got reward indices for mouse Y24 session 092222_record5\n",
      "No trials skipped; only dark trials omitted from reward data\n",
      "Mouse Y24 with n_misses: 2\n",
      "got lick indices for mouse Y24 session 092322_record6\n",
      "got reward indices for mouse Y24 session 092322_record6\n",
      "No trials skipped; only dark trials omitted from reward data\n",
      "Mouse Y25 with n_misses: 69\n",
      "got lick indices for mouse Y25 session 021623_record1\n",
      "got reward indices for mouse Y25 session 021623_record1\n",
      "No trials skipped; only dark trials omitted from reward data\n",
      "Mouse Y25 with n_misses: 93\n",
      "got lick indices for mouse Y25 session 021723_record2\n",
      "got reward indices for mouse Y25 session 021723_record2\n",
      "No trials skipped; only dark trials omitted from reward data\n",
      "Mouse Y25 with n_misses: 24\n",
      "got lick indices for mouse Y25 session 021823_record3\n",
      "got reward indices for mouse Y25 session 021823_record3\n",
      "No trials skipped; only dark trials omitted from reward data\n",
      "Mouse Y25 with n_misses: 46\n",
      "got lick indices for mouse Y25 session 021923_record4\n",
      "got reward indices for mouse Y25 session 021923_record4\n",
      "No trials skipped; only dark trials omitted from reward data\n",
      "Mouse Y25 with n_misses: 10\n",
      "got lick indices for mouse Y25 session 022023_record5\n",
      "got reward indices for mouse Y25 session 022023_record5\n",
      "No trials skipped; only dark trials omitted from reward data\n",
      "Mouse Y25 with n_misses: 8\n",
      "got lick indices for mouse Y25 session 022123_record6\n",
      "got reward indices for mouse Y25 session 022123_record6\n",
      "No trials skipped; only dark trials omitted from reward data\n",
      "Mouse Y26 with n_misses: 63\n",
      "got lick indices for mouse Y26 session 021623_record1\n",
      "got reward indices for mouse Y26 session 021623_record1\n",
      "No trials skipped; only dark trials omitted from reward data\n",
      "Mouse Y26 with n_misses: 54\n",
      "got lick indices for mouse Y26 session 021723_record2\n",
      "got reward indices for mouse Y26 session 021723_record2\n",
      "No trials skipped; only dark trials omitted from reward data\n",
      "Mouse Y26 with n_misses: 46\n",
      "got lick indices for mouse Y26 session 021823_record3\n",
      "got reward indices for mouse Y26 session 021823_record3\n",
      "No trials skipped; only dark trials omitted from reward data\n",
      "Mouse Y26 with n_misses: 12\n",
      "got lick indices for mouse Y26 session 021923_record4\n",
      "got reward indices for mouse Y26 session 021923_record4\n",
      "No trials skipped; only dark trials omitted from reward data\n",
      "Mouse Y26 with n_misses: 5\n",
      "got lick indices for mouse Y26 session 022023_record5\n",
      "got reward indices for mouse Y26 session 022023_record5\n",
      "No trials skipped; only dark trials omitted from reward data\n",
      "Mouse Y26 with n_misses: 6\n",
      "got lick indices for mouse Y26 session 022123_record6\n",
      "got reward indices for mouse Y26 session 022123_record6\n",
      "No trials skipped; only dark trials omitted from reward data\n",
      "Mouse Y27 with n_misses: 121\n",
      "got lick indices for mouse Y27 session 021623_record1\n",
      "got reward indices for mouse Y27 session 021623_record1\n",
      "No trials skipped; only dark trials omitted from reward data\n",
      "Mouse Y27 with n_misses: 34\n",
      "got lick indices for mouse Y27 session 021723_record2\n",
      "got reward indices for mouse Y27 session 021723_record2\n",
      "No trials skipped; only dark trials omitted from reward data\n",
      "Mouse Y27 with n_misses: 20\n",
      "got lick indices for mouse Y27 session 021823_record3\n",
      "got reward indices for mouse Y27 session 021823_record3\n",
      "No trials skipped; only dark trials omitted from reward data\n",
      "Mouse Y27 with n_misses: 3\n",
      "got lick indices for mouse Y27 session 021923_record4\n",
      "got reward indices for mouse Y27 session 021923_record4\n",
      "No trials skipped; only dark trials omitted from reward data\n",
      "Mouse Y27 with n_misses: 0\n",
      "got lick indices for mouse Y27 session 022023_record5rep\n",
      "got reward indices for mouse Y27 session 022023_record5rep\n",
      "No trials skipped; only dark trials omitted from reward data\n",
      "Mouse Y27 with n_misses: 0\n",
      "got lick indices for mouse Y27 session 022123_record6\n",
      "got reward indices for mouse Y27 session 022123_record6\n",
      "No trials skipped; only dark trials omitted from reward data\n",
      "Mouse Y28 with n_misses: 120\n",
      "got lick indices for mouse Y28 session 022623_record1\n",
      "got reward indices for mouse Y28 session 022623_record1\n",
      "No trials skipped; only dark trials omitted from reward data\n",
      "Mouse Y28 with n_misses: 104\n",
      "got lick indices for mouse Y28 session 022723_record2\n",
      "got reward indices for mouse Y28 session 022723_record2\n",
      "No trials skipped; only dark trials omitted from reward data\n",
      "Mouse Y28 with n_misses: 74\n",
      "got lick indices for mouse Y28 session 022823_record3\n",
      "got reward indices for mouse Y28 session 022823_record3\n",
      "No trials skipped; only dark trials omitted from reward data\n",
      "Mouse Y28 with n_misses: 76\n",
      "got lick indices for mouse Y28 session 030123_record4\n",
      "got reward indices for mouse Y28 session 030123_record4\n"
     ]
    },
    {
     "name": "stdout",
     "output_type": "stream",
     "text": [
      "No trials skipped; only dark trials omitted from reward data\n",
      "Mouse Y28 with n_misses: 42\n",
      "got lick indices for mouse Y28 session 030223_record5\n",
      "got reward indices for mouse Y28 session 030223_record5\n",
      "No trials skipped; only dark trials omitted from reward data\n",
      "Mouse Y28 with n_misses: 36\n",
      "got lick indices for mouse Y28 session 030323_record6\n",
      "got reward indices for mouse Y28 session 030323_record6\n"
     ]
    }
   ],
   "source": [
    "''' Generate behavioral data for alternation'''\n",
    "\n",
    "#get lick & reward data\n",
    "rewarda_centers = []\n",
    "rewardb_centers = []\n",
    "\n",
    "for m, session in zip(mice, sessions):\n",
    "    for s in session:\n",
    "        d = data[m][s]\n",
    " \n",
    "        #load data\n",
    "        rawdata_file = 'RAW_' + m + '_' + s + '.npy'\n",
    "        spikes_file = 'SPIKES_' + m + '_' + s +'.npy'\n",
    "        behavior_file = 'BEHAVIOR_' + m + '_' + s + '.npy'\n",
    "        \n",
    "        raw = np.load(load_folder + rawdata_file, allow_pickle=True)\n",
    "        Y = np.load(load_folder + spikes_file, allow_pickle=False) #pre-filtered for speeds >2cm/s, position-corrected spikes, 20 ms timebins\n",
    "        behaviorfil = np.load(load_folder + behavior_file, allow_pickle=False)\n",
    "        \n",
    "        d['reward_data'] = {}\n",
    "        \n",
    "        # get behavioral params\n",
    "        posx = raw.item().get('posx')\n",
    "        post = raw.item().get('post')\n",
    "        dt = np.unique(np.round(np.diff(post),4))\n",
    "        lickt = raw.item().get('lickt')\n",
    "        trials_dark = np.sum(raw.item().get('trialinfo')['dark'])\n",
    "        reward = raw.item().get('reward')\n",
    "        reward['trials'] = np.arange(0,len(reward['trials']),1) # fixes occassional Unity error numbering of rewards \n",
    "        \n",
    "        if len(dt) > 1: # discard duplicate frame entries if they occurred\n",
    "            dt = dt[dt != 0]\n",
    "        speed = raw.item().get('speed')\n",
    "        \n",
    "         # get reward params & remove reward data pertaining to dark trials & skipped trials\n",
    "        try:\n",
    "            _ = raw.item().get('correctedtrial').shape\n",
    "            trial = raw.item().get('correctedtrial')\n",
    "            \n",
    "            if (len(np.unique(trial)) < 220): \n",
    "                alltrial = np.arange(0,np.max(np.unique(trial)) + 1 , 1)\n",
    "            else:    \n",
    "                alltrial = np.arange(0,220,1)\n",
    "                \n",
    "            skippedtrials = np.setdiff1d(alltrial,np.unique(trial))\n",
    "            nonskipped = np.setdiff1d(reward['trials'],skippedtrials)   \n",
    "            k_idx = np.intersect1d(np.where(reward['trials'] > trials_dark), nonskipped)\n",
    "            keep_idx = np.intersect1d(np.where(reward['trials'] <= np.max(alltrial)), k_idx)\n",
    "            print('Skipped & dark trials omitted from reward data, n skipped = ' + str(len(skippedtrials)))\n",
    "            \n",
    "        except AttributeError:\n",
    "            trial = raw.item().get('trial')\n",
    "            keep_idx = (np.where(reward['trials'] > trials_dark))\n",
    "            skippedtrials = []\n",
    "            print('No trials skipped; only dark trials omitted from reward data')\n",
    "        \n",
    "        reward_centers = np.array(reward['centers'][keep_idx])\n",
    "        rewardt = reward['times'][keep_idx]\n",
    "        reward_trials = reward['trials'][keep_idx]\n",
    "        misses = reward['missed'][keep_idx].astype(bool)\n",
    "        auto_reward = np.array(reward['auto'][keep_idx])\n",
    "        print('Mouse ' + m + ' with n_misses: ' + str(np.sum(misses)))   \n",
    "\n",
    "        # get lick and reward indices\n",
    "        lick_ct = get.spiketrain(post, dt, lickt, index=False)\n",
    "        d['reward_data']['lick_ct'] = lick_ct\n",
    "        print('got lick indices for mouse ' + m + ' session ' + s)\n",
    "        \n",
    "        reward_idx = get.rewardtrain(post, dt, rewardt, index=True) #gets reward ct for each time binned position range as index\n",
    "        d['reward_data']['reward_idx'] = reward_idx\n",
    "        print('got reward indices for mouse ' + m + ' session ' + s)\n",
    "    \n",
    "    # saves list of reward locations per mouse\n",
    "    if reward['centers'][0] == 270:\n",
    "        rewarda_centers = np.append(rewarda_centers,270)\n",
    "        rewardb_centers = np.append(rewardb_centers,370)\n",
    "    else:\n",
    "        rewarda_centers = np.append(rewarda_centers,370)\n",
    "        rewardb_centers = np.append(rewardb_centers,270)            \n",
    "        \n",
    "#Find & Save Number of Missed Rewards per Session & Animal\n",
    "#block array\n",
    "blocksatiety = []\n",
    "blockreq = []\n",
    "blocktrialn = []\n",
    "\n",
    "#session arrays\n",
    "req_rates = []\n",
    "reqa_rates = []\n",
    "reqb_rates = []\n",
    "reqblock_rates = []\n",
    "reqalt_rates = []\n",
    "reqalta_rates = []\n",
    "reqaltb_rates = []\n",
    "req_trials = []\n",
    "reqblock_trials = []\n",
    "reqalt_trials = []\n",
    "\n",
    "#animals arrays\n",
    "mreq_rates = []\n",
    "mreqa_rates = []\n",
    "mreqb_rates = []\n",
    "mreqblock_rates = []\n",
    "mreqalt_rates = []\n",
    "mreqalta_rates = []\n",
    "mreqaltb_rates = []\n",
    "\n",
    "for m, session in zip(mice, sessions):\n",
    "    rt = []\n",
    "    ca = []\n",
    "    cb = []\n",
    "    blocks = []\n",
    "    alt = []\n",
    "    alta = []\n",
    "    altb = []\n",
    "    \n",
    "    req = []\n",
    "    reqa = []\n",
    "    reqb = []\n",
    "    reqblocks = []\n",
    "    reqalt = []\n",
    "    reqalta = []\n",
    "    reqaltb = []\n",
    "    \n",
    "    for s in session:\n",
    "        # get behavior data\n",
    "        d = data[m][s]\n",
    "        \n",
    "        #load data\n",
    "        rawdata_file = 'RAW_' + m + '_' + s + '.npy'\n",
    "        spikes_file = 'SPIKES_' + m + '_' + s +'.npy'\n",
    "        behavior_file = 'BEHAVIOR_' + m + '_' + s + '.npy'\n",
    "        \n",
    "        raw = np.load(load_folder + rawdata_file, allow_pickle=True)\n",
    "        Y = np.load(load_folder + spikes_file, allow_pickle=False) #pre-filtered for speeds >2cm/s, position-corrected spikes, 20 ms timebins\n",
    "        behaviorfil = np.load(load_folder + behavior_file, allow_pickle=False)\n",
    "        \n",
    "        posx = raw.item().get('posx')\n",
    "        post = raw.item().get('post')\n",
    "        dt = np.unique(np.round(np.diff(post),4))\n",
    "        if len(dt) > 1: # discard duplicate frame entries if they occurred\n",
    "            dt = dt[dt != 0]\n",
    "        speed = raw.item().get('speed')\n",
    "        \n",
    "        # get reward params & remove reward data pertaining to dark trials & skipped trials\n",
    "        lickt = raw.item().get('lickt')\n",
    "        trials_dark = np.sum(raw.item().get('trialinfo')['dark'])\n",
    "        reward = raw.item().get('reward')\n",
    "        reward['trials'] = np.arange(0,len(reward['trials']),1)\n",
    "        \n",
    "        try:\n",
    "            _ = raw.item().get('correctedtrial').shape\n",
    "            trial = raw.item().get('correctedtrial')\n",
    "            \n",
    "            if (len(np.unique(trial)) < 220): \n",
    "                alltrial = np.arange(0,np.max(np.unique(trial)) + 1 , 1)\n",
    "            else:    \n",
    "                alltrial = np.arange(0,220,1)\n",
    "                \n",
    "            skippedtrials = np.setdiff1d(alltrial,np.unique(trial))\n",
    "            nonskipped = np.setdiff1d(reward['trials'],skippedtrials)   \n",
    "            k_idx = np.intersect1d(np.where(reward['trials'] > trials_dark), nonskipped)\n",
    "            keep_idx = np.intersect1d(np.where(reward['trials'] <= np.max(alltrial)), k_idx)\n",
    "            # print('Skipped & dark trials omitted from reward data, n skipped = ' + str(len(skippedtrials)))\n",
    "            \n",
    "        except AttributeError:\n",
    "            trial = raw.item().get('trial')\n",
    "            keep_idx = (np.where(reward['trials'] > trials_dark))\n",
    "            skippedtrials = []\n",
    "            # print('No trials skipped; only dark trials omitted from reward data')\n",
    "        \n",
    "        reward_centers = np.array(reward['centers'][keep_idx])\n",
    "        rewarda = reward_centers[0]\n",
    "        rewardb = reward_centers[60]\n",
    "        rewardt = reward['times'][keep_idx]\n",
    "        reward_trials = reward['trials'][keep_idx]\n",
    "        misses = reward['missed'][keep_idx].astype(bool)\n",
    "        requests = ~misses\n",
    "        \n",
    "        # find rate of requests for a given session\n",
    "        req_rates.append(np.sum(requests)/len(reward_trials)) #total\n",
    "        \n",
    "        rewarda_idx = np.where(reward_trials < 81)[0]\n",
    "        reqa_rates.append(np.sum(requests[rewarda_idx])/len(rewarda_idx)) #context a\n",
    "        \n",
    "        rewardb_idx = np.intersect1d((np.where(reward_trials >= 81)), (np.where(reward_trials <= 140)))\n",
    "        reqb_rates.append(np.sum(requests[rewardb_idx])/len(rewardb_idx)) #context b\n",
    "        \n",
    "        block_idx = np.where(reward_trials < 140)[0]\n",
    "        reqblock_rates.append(np.sum(requests[block_idx])/len(block_idx)) #block\n",
    "        \n",
    "        alt_idx = np.where(reward_trials >= 140)[0]\n",
    "        reqalt_rates.append(np.sum(requests[alt_idx])/len(alt_idx)) #alt\n",
    "        \n",
    "        alta_idx = np.where((reward_trials >= 140) & (reward_centers == rewarda))[0] \n",
    "        reqalta_rates.append(np.mean(requests[alta_idx]))\n",
    "        \n",
    "        altb_idx = np.where((reward_trials >= 140) & (reward_centers == rewardb))[0]\n",
    "        reqaltb_rates.append(np.mean(requests[altb_idx]))\n",
    "        \n",
    "        rt = np.append(rt,len(reward_trials))\n",
    "        ca = np.append(ca,len(rewarda_idx))\n",
    "        cb = np.append(cb,len(rewardb_idx))\n",
    "        blocks = np.append(blocks,len(block_idx))\n",
    "        alt = np.append(alt,len(alt_idx))\n",
    "        alta = np.append(alta, len(alta_idx))\n",
    "        altb = np.append(altb, len(altb_idx))\n",
    "        \n",
    "        req_trials = np.append(req_trials, len(reward_trials))\n",
    "        reqblock_trials = np.append(reqblock_trials, len(block_idx))\n",
    "        reqalt_trials = np.append(reqalt_trials, len(alt_idx))\n",
    "        \n",
    "        d['altreqbytrial'] = requests[alt_idx]\n",
    "        \n",
    "        req = np.append(req,np.sum(requests))\n",
    "        reqa = np.append(reqa,np.sum(requests[rewarda_idx]))\n",
    "        reqb = np.append(reqb,np.sum(requests[rewardb_idx]))\n",
    "        reqblocks = np.append(reqblocks,np.sum(requests[block_idx]))\n",
    "        reqalt = np.append(reqalt,np.sum(requests[alt_idx]))\n",
    "        reqalta = np.append(reqalta,requests[alta_idx])\n",
    "        reqaltb = np.append(reqaltb,requests[altb_idx])\n",
    "        \n",
    "        # append req rates from blocks into block req array len(4 x total sessions)\n",
    "        blockreq = np.append(blockreq, np.mean(requests[rewarda_idx])) # block 1\n",
    "        blockreq = np.append(blockreq, np.mean(requests[rewardb_idx])) # block 2\n",
    "        blockreq = np.append(blockreq, np.mean(requests[alta_idx])) # block 3\n",
    "        blockreq = np.append(blockreq, np.mean(requests[altb_idx])) # block 4   \n",
    "        \n",
    "        blocktrialn = np.append(blocktrialn, len(requests[rewarda_idx]))\n",
    "        blocktrialn = np.append(blocktrialn, len(requests[rewardb_idx]))\n",
    "        blocktrialn = np.append(blocktrialn, len(requests[alta_idx]))\n",
    "        blocktrialn = np.append(blocktrialn, len(requests[altb_idx]))\n",
    "        \n",
    "        # append reward counts from previous task block into block satiety array len(4 x total sessions)\n",
    "        blocksatiety = np.append(blocksatiety, 0) #no rewards before block a for every animal\n",
    "        blocksatiety = np.append(blocksatiety, np.sum(requests[rewarda_idx])) # count of rewards consumed before block b\n",
    "        blocksatiety = np.append(blocksatiety, (np.sum(requests[rewarda_idx]) + np.sum(requests[rewardb_idx]))) # before alta\n",
    "        blocksatiety = np.append(blocksatiety, (np.sum(requests[rewarda_idx]) + np.sum(requests[rewardb_idx]) + np.sum(requests[alta_idx]))) # beforealtb             \n",
    "                          \n",
    "    # get mouse request rate collapsing days\n",
    "    mreqrate = np.sum(req)/ np.sum(rt)\n",
    "    mreq_rates = np.append(mreq_rates,mreqrate)\n",
    "    \n",
    "    mreqarate = np.sum(reqa) / np.sum(ca)\n",
    "    mreqa_rates = np.append(mreqa_rates, mreqarate)\n",
    "    \n",
    "    mreqbrate = np.sum(reqb) / np.sum(cb)\n",
    "    mreqb_rates = np.append(mreqb_rates, mreqbrate)\n",
    "    \n",
    "    mreqblockrate = np.sum(reqblocks) / np.sum(blocks)\n",
    "    mreqblock_rates = np.append(mreqblock_rates, mreqblockrate)\n",
    "    \n",
    "    mreqaltrate = np.sum(reqalt) / np.sum(alt)\n",
    "    mreqalt_rates = np.append(mreqalt_rates, mreqaltrate)\n",
    "    \n",
    "    mreqalta_rates = np.append(mreqalta_rates, np.mean(reqalta))\n",
    "    mreqaltb_rates = np.append(mreqaltb_rates, np.mean(reqaltb))\n",
    "    \n",
    "# save as arrays to be safe\n",
    "req_rates = np.asarray(req_rates)\n",
    "reqa_rates = np.asarray(reqa_rates)\n",
    "reqb_rates = np.asarray(reqb_rates)\n",
    "reqblock_rates = np.asarray(reqblock_rates)\n",
    "reqalt_rates = np.asarray(reqalt_rates)\n",
    "reqalta_rates = np.asarray(reqalta_rates)\n",
    "reqaltb_rates = np.asarray(reqaltb_rates)\n",
    "\n",
    "mreq_rates = np.asarray(mreq_rates)\n",
    "mreqa_rates = np.asarray(mreqa_rates)\n",
    "mreqb_rates = np.asarray(mreqb_rates)\n",
    "mreqblock_rates = np.asarray(mreqblock_rates)\n",
    "mreqalt_rates = np.asarray(mreqalt_rates)\n",
    "mreqalta_rates = np.asarray(reqalta_rates)\n",
    "mreqaltb_rates = np.asarray(reqaltb_rates)\n",
    "\n",
    "blocksatiety = np.asarray(blocksatiety)\n",
    "blockreq = np.asarray(blockreq)\n",
    "blocktrialn = np.asarray(blocktrialn)"
   ]
  },
  {
   "cell_type": "code",
   "execution_count": 11,
   "id": "a424d595",
   "metadata": {},
   "outputs": [
    {
     "data": {
      "application/vnd.jupyter.widget-view+json": {
       "model_id": "e14d7a9f38364168be5bf185578e5c8e",
       "version_major": 2,
       "version_minor": 0
      },
      "text/plain": [
       "  0%|          | 0/3 [00:00<?, ?it/s]"
      ]
     },
     "metadata": {},
     "output_type": "display_data"
    },
    {
     "data": {
      "application/vnd.jupyter.widget-view+json": {
       "model_id": "6a4b675ebff24167a6fd5dc349c592f1",
       "version_major": 2,
       "version_minor": 0
      },
      "text/plain": [
       "  0%|          | 0/6 [00:00<?, ?it/s]"
      ]
     },
     "metadata": {},
     "output_type": "display_data"
    },
    {
     "data": {
      "application/vnd.jupyter.widget-view+json": {
       "model_id": "48a75f0b50a7450db74e0f3bee5b8333",
       "version_major": 2,
       "version_minor": 0
      },
      "text/plain": [
       "  0%|          | 0/4 [00:00<?, ?it/s]"
      ]
     },
     "metadata": {},
     "output_type": "display_data"
    },
    {
     "data": {
      "application/vnd.jupyter.widget-view+json": {
       "model_id": "fa13316527ec46e0be9a2804737573bd",
       "version_major": 2,
       "version_minor": 0
      },
      "text/plain": [
       "  0%|          | 0/6 [00:00<?, ?it/s]"
      ]
     },
     "metadata": {},
     "output_type": "display_data"
    },
    {
     "data": {
      "application/vnd.jupyter.widget-view+json": {
       "model_id": "716467bdd5f042c3b471c18ea760f696",
       "version_major": 2,
       "version_minor": 0
      },
      "text/plain": [
       "  0%|          | 0/6 [00:00<?, ?it/s]"
      ]
     },
     "metadata": {},
     "output_type": "display_data"
    },
    {
     "data": {
      "application/vnd.jupyter.widget-view+json": {
       "model_id": "8fbc4c9b19b74a2688b98456de434240",
       "version_major": 2,
       "version_minor": 0
      },
      "text/plain": [
       "  0%|          | 0/6 [00:00<?, ?it/s]"
      ]
     },
     "metadata": {},
     "output_type": "display_data"
    },
    {
     "data": {
      "application/vnd.jupyter.widget-view+json": {
       "model_id": "c3064c0e3e6346bbb28cdb653c5def47",
       "version_major": 2,
       "version_minor": 0
      },
      "text/plain": [
       "  0%|          | 0/6 [00:00<?, ?it/s]"
      ]
     },
     "metadata": {},
     "output_type": "display_data"
    },
    {
     "data": {
      "application/vnd.jupyter.widget-view+json": {
       "model_id": "21db837c4eac4e91a7e4b2ceebb4d4ef",
       "version_major": 2,
       "version_minor": 0
      },
      "text/plain": [
       "  0%|          | 0/6 [00:00<?, ?it/s]"
      ]
     },
     "metadata": {},
     "output_type": "display_data"
    },
    {
     "data": {
      "application/vnd.jupyter.widget-view+json": {
       "model_id": "cde2f85ba39841f99e80a9988a6440c1",
       "version_major": 2,
       "version_minor": 0
      },
      "text/plain": [
       "  0%|          | 0/6 [00:00<?, ?it/s]"
      ]
     },
     "metadata": {},
     "output_type": "display_data"
    },
    {
     "data": {
      "application/vnd.jupyter.widget-view+json": {
       "model_id": "92a541fb4364442faba8748647278ab4",
       "version_major": 2,
       "version_minor": 0
      },
      "text/plain": [
       "  0%|          | 0/6 [00:00<?, ?it/s]"
      ]
     },
     "metadata": {},
     "output_type": "display_data"
    },
    {
     "data": {
      "application/vnd.jupyter.widget-view+json": {
       "model_id": "feeb59373cd24bb9be2c9e0dedb00052",
       "version_major": 2,
       "version_minor": 0
      },
      "text/plain": [
       "  0%|          | 0/6 [00:00<?, ?it/s]"
      ]
     },
     "metadata": {},
     "output_type": "display_data"
    },
    {
     "data": {
      "application/vnd.jupyter.widget-view+json": {
       "model_id": "b630c850fd88453985a0ec918ab32141",
       "version_major": 2,
       "version_minor": 0
      },
      "text/plain": [
       "  0%|          | 0/6 [00:00<?, ?it/s]"
      ]
     },
     "metadata": {},
     "output_type": "display_data"
    },
    {
     "data": {
      "application/vnd.jupyter.widget-view+json": {
       "model_id": "0b121a8e214741c1aeb14cb98a4cc618",
       "version_major": 2,
       "version_minor": 0
      },
      "text/plain": [
       "  0%|          | 0/6 [00:00<?, ?it/s]"
      ]
     },
     "metadata": {},
     "output_type": "display_data"
    },
    {
     "data": {
      "application/vnd.jupyter.widget-view+json": {
       "model_id": "a5b9fa9671f94b299ffaf312ae5c962f",
       "version_major": 2,
       "version_minor": 0
      },
      "text/plain": [
       "  0%|          | 0/6 [00:00<?, ?it/s]"
      ]
     },
     "metadata": {},
     "output_type": "display_data"
    },
    {
     "data": {
      "application/vnd.jupyter.widget-view+json": {
       "model_id": "f53e4fecf1ba40b6b3815fccfe4f2205",
       "version_major": 2,
       "version_minor": 0
      },
      "text/plain": [
       "  0%|          | 0/6 [00:00<?, ?it/s]"
      ]
     },
     "metadata": {},
     "output_type": "display_data"
    },
    {
     "data": {
      "application/vnd.jupyter.widget-view+json": {
       "model_id": "d1f782b3e6cc4e548a67a36d700016d4",
       "version_major": 2,
       "version_minor": 0
      },
      "text/plain": [
       "  0%|          | 0/6 [00:00<?, ?it/s]"
      ]
     },
     "metadata": {},
     "output_type": "display_data"
    },
    {
     "data": {
      "application/vnd.jupyter.widget-view+json": {
       "model_id": "a941820ccd5a41a3b886cf9645140caa",
       "version_major": 2,
       "version_minor": 0
      },
      "text/plain": [
       "  0%|          | 0/6 [00:00<?, ?it/s]"
      ]
     },
     "metadata": {},
     "output_type": "display_data"
    },
    {
     "data": {
      "application/vnd.jupyter.widget-view+json": {
       "model_id": "1d6d421e2b504b82af985db72b60f5c6",
       "version_major": 2,
       "version_minor": 0
      },
      "text/plain": [
       "  0%|          | 0/4 [00:00<?, ?it/s]"
      ]
     },
     "metadata": {},
     "output_type": "display_data"
    },
    {
     "data": {
      "application/vnd.jupyter.widget-view+json": {
       "model_id": "ccf7f5591118444abaceaea544b6f7f1",
       "version_major": 2,
       "version_minor": 0
      },
      "text/plain": [
       "  0%|          | 0/6 [00:00<?, ?it/s]"
      ]
     },
     "metadata": {},
     "output_type": "display_data"
    },
    {
     "data": {
      "application/vnd.jupyter.widget-view+json": {
       "model_id": "a7e2ce4070e14e7fa27b7b698b43abda",
       "version_major": 2,
       "version_minor": 0
      },
      "text/plain": [
       "  0%|          | 0/6 [00:00<?, ?it/s]"
      ]
     },
     "metadata": {},
     "output_type": "display_data"
    },
    {
     "data": {
      "application/vnd.jupyter.widget-view+json": {
       "model_id": "3c859872e9f44f2a8ac5d6d379e0932d",
       "version_major": 2,
       "version_minor": 0
      },
      "text/plain": [
       "  0%|          | 0/6 [00:00<?, ?it/s]"
      ]
     },
     "metadata": {},
     "output_type": "display_data"
    },
    {
     "data": {
      "application/vnd.jupyter.widget-view+json": {
       "model_id": "d3cd61a1f7c94500b14cb77f0e6a8f94",
       "version_major": 2,
       "version_minor": 0
      },
      "text/plain": [
       "  0%|          | 0/6 [00:00<?, ?it/s]"
      ]
     },
     "metadata": {},
     "output_type": "display_data"
    },
    {
     "data": {
      "application/vnd.jupyter.widget-view+json": {
       "model_id": "1ad1f9364d8d4b0a8c0c85bc93b4f908",
       "version_major": 2,
       "version_minor": 0
      },
      "text/plain": [
       "  0%|          | 0/6 [00:00<?, ?it/s]"
      ]
     },
     "metadata": {},
     "output_type": "display_data"
    },
    {
     "data": {
      "application/vnd.jupyter.widget-view+json": {
       "model_id": "f446be311e974f37968386eb033b841f",
       "version_major": 2,
       "version_minor": 0
      },
      "text/plain": [
       "  0%|          | 0/6 [00:00<?, ?it/s]"
      ]
     },
     "metadata": {},
     "output_type": "display_data"
    },
    {
     "data": {
      "application/vnd.jupyter.widget-view+json": {
       "model_id": "ad3b13f6f30647c4b97f217074f4a0c7",
       "version_major": 2,
       "version_minor": 0
      },
      "text/plain": [
       "  0%|          | 0/6 [00:00<?, ?it/s]"
      ]
     },
     "metadata": {},
     "output_type": "display_data"
    },
    {
     "data": {
      "application/vnd.jupyter.widget-view+json": {
       "model_id": "b104eff7df0a4accb7673f77a97894e6",
       "version_major": 2,
       "version_minor": 0
      },
      "text/plain": [
       "  0%|          | 0/6 [00:00<?, ?it/s]"
      ]
     },
     "metadata": {},
     "output_type": "display_data"
    },
    {
     "data": {
      "application/vnd.jupyter.widget-view+json": {
       "model_id": "f026105aa3424afeaca82a0e3cd7e2bd",
       "version_major": 2,
       "version_minor": 0
      },
      "text/plain": [
       "  0%|          | 0/6 [00:00<?, ?it/s]"
      ]
     },
     "metadata": {},
     "output_type": "display_data"
    },
    {
     "data": {
      "application/vnd.jupyter.widget-view+json": {
       "model_id": "cf0123eb96f449f1a9e03ea317fed299",
       "version_major": 2,
       "version_minor": 0
      },
      "text/plain": [
       "  0%|          | 0/6 [00:00<?, ?it/s]"
      ]
     },
     "metadata": {},
     "output_type": "display_data"
    },
    {
     "data": {
      "application/vnd.jupyter.widget-view+json": {
       "model_id": "8bee3c5ef6714e939115e4a5c569d405",
       "version_major": 2,
       "version_minor": 0
      },
      "text/plain": [
       "  0%|          | 0/6 [00:00<?, ?it/s]"
      ]
     },
     "metadata": {},
     "output_type": "display_data"
    }
   ],
   "source": [
    "''' Load spatial cell (Figure 2/S3) and intn (Shuffle Procedure) booleans generated by previous notebooks. '''\n",
    "\n",
    "#adjujst paths\n",
    "save_folder = 'C:/Users/Python/Desktop/LocalData/spatialcellssm/'\n",
    "shuffle_folder = 'C:/Users/Python/Desktop/LocalData/intnspeedcells/'\n",
    "\n",
    "for m, session in zip(mice, sessions):\n",
    "    for s in tdqm(session):\n",
    "        d = data[m][s]\n",
    "        \n",
    "        #get file names\n",
    "        spatialcell99_file = 'spatialcell99_' + m + '_' + s + '.npy'\n",
    "        intn_file = 'intn_' + m + '_' + s + '.npy'\n",
    "\n",
    "        #load stuff\n",
    "        d['spatialcell99'] = np.load(save_folder + spatialcell99_file, allow_pickle = True)\n",
    "        d['intn'] = np.load(shuffle_folder + intn_file, allow_pickle = True)"
   ]
  },
  {
   "cell_type": "code",
   "execution_count": 12,
   "id": "56e3d7c5",
   "metadata": {},
   "outputs": [
    {
     "data": {
      "application/vnd.jupyter.widget-view+json": {
       "model_id": "12a70e8dd2e64c409ff62119fbbdb8a4",
       "version_major": 2,
       "version_minor": 0
      },
      "text/plain": [
       "  0%|          | 0/3 [00:00<?, ?it/s]"
      ]
     },
     "metadata": {},
     "output_type": "display_data"
    },
    {
     "name": "stdout",
     "output_type": "stream",
     "text": [
      "A14, 083022_record1 n grid, ngs cells: 8 , 50\n",
      "A14, 083122_record2 n grid, ngs cells: 35 , 2\n",
      "A14, 090122_record3 n grid, ngs cells: 17 , 13\n"
     ]
    },
    {
     "data": {
      "application/vnd.jupyter.widget-view+json": {
       "model_id": "c056e0af20af4f7d95edde33a4a4ab44",
       "version_major": 2,
       "version_minor": 0
      },
      "text/plain": [
       "  0%|          | 0/6 [00:00<?, ?it/s]"
      ]
     },
     "metadata": {},
     "output_type": "display_data"
    },
    {
     "name": "stdout",
     "output_type": "stream",
     "text": [
      "A15, 083022_record1 n grid, ngs cells: 4 , 6\n",
      "A15, 083122_record2 n grid, ngs cells: 86 , 33\n",
      "A15, 090122_record3 n grid, ngs cells: 89 , 37\n",
      "A15, 090222_record4 n grid, ngs cells: 128 , 65\n",
      "A15, 090322_record5 n grid, ngs cells: 37 , 30\n",
      "A15, 090422_record6 n grid, ngs cells: 24 , 19\n"
     ]
    },
    {
     "data": {
      "application/vnd.jupyter.widget-view+json": {
       "model_id": "504c8fc49d2a4bceaf1546edce202818",
       "version_major": 2,
       "version_minor": 0
      },
      "text/plain": [
       "  0%|          | 0/4 [00:00<?, ?it/s]"
      ]
     },
     "metadata": {},
     "output_type": "display_data"
    },
    {
     "name": "stdout",
     "output_type": "stream",
     "text": [
      "A16, 083022_record1 n grid, ngs cells: 19 , 23\n",
      "A16, 083122_record2 n grid, ngs cells: 60 , 36\n",
      "A16, 090122_record3 n grid, ngs cells: 0 , 1\n",
      "A16, 090222_record4 n grid, ngs cells: 12 , 42\n"
     ]
    },
    {
     "data": {
      "application/vnd.jupyter.widget-view+json": {
       "model_id": "a57d7c05d27245ba94d918b36520c855",
       "version_major": 2,
       "version_minor": 0
      },
      "text/plain": [
       "  0%|          | 0/6 [00:00<?, ?it/s]"
      ]
     },
     "metadata": {},
     "output_type": "display_data"
    },
    {
     "name": "stdout",
     "output_type": "stream",
     "text": [
      "A17, 082322_record1 n grid, ngs cells: 1 , 2\n",
      "A17, 082422_record2 n grid, ngs cells: 2 , 6\n",
      "A17, 082522_record3 n grid, ngs cells: 40 , 35\n",
      "A17, 082622_record4 n grid, ngs cells: 42 , 17\n",
      "A17, 082722_record5 n grid, ngs cells: 32 , 21\n",
      "A17, 082822_record6 n grid, ngs cells: 54 , 25\n"
     ]
    },
    {
     "data": {
      "application/vnd.jupyter.widget-view+json": {
       "model_id": "37d3ce6fa5f54b689a480037160e86bd",
       "version_major": 2,
       "version_minor": 0
      },
      "text/plain": [
       "  0%|          | 0/6 [00:00<?, ?it/s]"
      ]
     },
     "metadata": {},
     "output_type": "display_data"
    },
    {
     "name": "stdout",
     "output_type": "stream",
     "text": [
      "A18, 082322_record1real n grid, ngs cells: 13 , 10\n",
      "A18, 082422_record2 n grid, ngs cells: 66 , 169\n",
      "A18, 082522_record3 n grid, ngs cells: 68 , 117\n",
      "A18, 082622_record4 n grid, ngs cells: 44 , 64\n",
      "A18, 082722_record5 n grid, ngs cells: 47 , 10\n",
      "A18, 082822_record6 n grid, ngs cells: 0 , 5\n"
     ]
    },
    {
     "data": {
      "application/vnd.jupyter.widget-view+json": {
       "model_id": "02611cb659fa41afbad576c47bbc1e2c",
       "version_major": 2,
       "version_minor": 0
      },
      "text/plain": [
       "  0%|          | 0/6 [00:00<?, ?it/s]"
      ]
     },
     "metadata": {},
     "output_type": "display_data"
    },
    {
     "name": "stdout",
     "output_type": "stream",
     "text": [
      "A19, 012723_record2 n grid, ngs cells: 17 , 1\n",
      "A19, 012823_record3 n grid, ngs cells: 22 , 75\n",
      "A19, 012923_record4 n grid, ngs cells: 34 , 64\n",
      "A19, 013023_record5 n grid, ngs cells: 54 , 38\n",
      "A19, 013123_record6 n grid, ngs cells: 35 , 18\n",
      "A19, 020123_record7 n grid, ngs cells: 54 , 31\n"
     ]
    },
    {
     "data": {
      "application/vnd.jupyter.widget-view+json": {
       "model_id": "1884868887dc40fdb781b2a0db81265c",
       "version_major": 2,
       "version_minor": 0
      },
      "text/plain": [
       "  0%|          | 0/6 [00:00<?, ?it/s]"
      ]
     },
     "metadata": {},
     "output_type": "display_data"
    },
    {
     "name": "stdout",
     "output_type": "stream",
     "text": [
      "A20, 012623_record1 n grid, ngs cells: 3 , 18\n",
      "A20, 012723_record2 n grid, ngs cells: 24 , 50\n",
      "A20, 012823_record3 n grid, ngs cells: 69 , 56\n",
      "A20, 012923_record4 n grid, ngs cells: 21 , 42\n",
      "A20, 013023_record5 n grid, ngs cells: 22 , 55\n",
      "A20, 013123_record6 n grid, ngs cells: 9 , 32\n"
     ]
    },
    {
     "data": {
      "application/vnd.jupyter.widget-view+json": {
       "model_id": "9e0ef9414a5b46e7b7b2854853b9c337",
       "version_major": 2,
       "version_minor": 0
      },
      "text/plain": [
       "  0%|          | 0/6 [00:00<?, ?it/s]"
      ]
     },
     "metadata": {},
     "output_type": "display_data"
    },
    {
     "name": "stdout",
     "output_type": "stream",
     "text": [
      "A22, 012923_record2 n grid, ngs cells: 58 , 39\n",
      "A22, 013023_record3 n grid, ngs cells: 79 , 122\n",
      "A22, 013123_record4 n grid, ngs cells: 55 , 46\n",
      "A22, 020123_record5 n grid, ngs cells: 10 , 12\n",
      "A22, 020223_record6 n grid, ngs cells: 31 , 38\n",
      "A22, 020323_record7 n grid, ngs cells: 12 , 5\n"
     ]
    },
    {
     "data": {
      "application/vnd.jupyter.widget-view+json": {
       "model_id": "af69219bc5bb4ce58970505e2c09610f",
       "version_major": 2,
       "version_minor": 0
      },
      "text/plain": [
       "  0%|          | 0/6 [00:00<?, ?it/s]"
      ]
     },
     "metadata": {},
     "output_type": "display_data"
    },
    {
     "name": "stdout",
     "output_type": "stream",
     "text": [
      "A23, 020923_record1 n grid, ngs cells: 4 , 10\n",
      "A23, 021023_record2 n grid, ngs cells: 27 , 63\n",
      "A23, 021123_record3 n grid, ngs cells: 29 , 66\n",
      "A23, 021223_record4 n grid, ngs cells: 9 , 3\n",
      "A23, 021323_record5 n grid, ngs cells: 27 , 38\n",
      "A23, 021423_record6 n grid, ngs cells: 50 , 54\n"
     ]
    },
    {
     "data": {
      "application/vnd.jupyter.widget-view+json": {
       "model_id": "d9b3d8176208436b9a793172968eb2c4",
       "version_major": 2,
       "version_minor": 0
      },
      "text/plain": [
       "  0%|          | 0/6 [00:00<?, ?it/s]"
      ]
     },
     "metadata": {},
     "output_type": "display_data"
    },
    {
     "name": "stdout",
     "output_type": "stream",
     "text": [
      "A24, 022623_record1 n grid, ngs cells: 41 , 34\n",
      "A24, 022723_record2 n grid, ngs cells: 108 , 65\n",
      "A24, 022823_record3 n grid, ngs cells: 61 , 63\n",
      "A24, 030123_record4 n grid, ngs cells: 66 , 37\n",
      "A24, 030223_record5 n grid, ngs cells: 53 , 26\n",
      "A24, 030323_record6 n grid, ngs cells: 20 , 19\n"
     ]
    },
    {
     "data": {
      "application/vnd.jupyter.widget-view+json": {
       "model_id": "d87f40b9518d48f999ee7dfc5155985c",
       "version_major": 2,
       "version_minor": 0
      },
      "text/plain": [
       "  0%|          | 0/6 [00:00<?, ?it/s]"
      ]
     },
     "metadata": {},
     "output_type": "display_data"
    },
    {
     "name": "stdout",
     "output_type": "stream",
     "text": [
      "MA10F, 111322_record1 n grid, ngs cells: 69 , 91\n",
      "MA10F, 111422_record2 n grid, ngs cells: 52 , 48\n",
      "MA10F, 111522_record3 n grid, ngs cells: 38 , 24\n",
      "MA10F, 111622_record4 n grid, ngs cells: 19 , 24\n",
      "MA10F, 111722_record5 n grid, ngs cells: 17 , 28\n",
      "MA10F, 111822_record6 n grid, ngs cells: 39 , 61\n"
     ]
    },
    {
     "data": {
      "application/vnd.jupyter.widget-view+json": {
       "model_id": "9ed243efec6e44c8bb1c58aa77e59485",
       "version_major": 2,
       "version_minor": 0
      },
      "text/plain": [
       "  0%|          | 0/6 [00:00<?, ?it/s]"
      ]
     },
     "metadata": {},
     "output_type": "display_data"
    },
    {
     "name": "stdout",
     "output_type": "stream",
     "text": [
      "MA1F, 102322_record1 n grid, ngs cells: 33 , 25\n",
      "MA1F, 102422_record2 n grid, ngs cells: 53 , 28\n",
      "MA1F, 102522_record3 n grid, ngs cells: 48 , 21\n",
      "MA1F, 102622_record4 n grid, ngs cells: 9 , 8\n",
      "MA1F, 102722_record5 n grid, ngs cells: 71 , 52\n",
      "MA1F, 102822_record6 n grid, ngs cells: 72 , 28\n"
     ]
    },
    {
     "data": {
      "application/vnd.jupyter.widget-view+json": {
       "model_id": "88696c74ab4e4b71ada1647f9077e560",
       "version_major": 2,
       "version_minor": 0
      },
      "text/plain": [
       "  0%|          | 0/6 [00:00<?, ?it/s]"
      ]
     },
     "metadata": {},
     "output_type": "display_data"
    },
    {
     "name": "stdout",
     "output_type": "stream",
     "text": [
      "MA2F, 102322_record1 n grid, ngs cells: 47 , 76\n",
      "MA2F, 102422_record2 n grid, ngs cells: 38 , 103\n",
      "MA2F, 102522_record3 n grid, ngs cells: 50 , 110\n",
      "MA2F, 102622_record4 n grid, ngs cells: 39 , 65\n",
      "MA2F, 102722_record5 n grid, ngs cells: 38 , 43\n",
      "MA2F, 102822_record6 n grid, ngs cells: 40 , 49\n"
     ]
    },
    {
     "data": {
      "application/vnd.jupyter.widget-view+json": {
       "model_id": "62e687404be04a7a820cedacbf32a39d",
       "version_major": 2,
       "version_minor": 0
      },
      "text/plain": [
       "  0%|          | 0/6 [00:00<?, ?it/s]"
      ]
     },
     "metadata": {},
     "output_type": "display_data"
    },
    {
     "name": "stdout",
     "output_type": "stream",
     "text": [
      "MA3M, 102322_record1 n grid, ngs cells: 6 , 22\n",
      "MA3M, 102422_record2 n grid, ngs cells: 28 , 53\n",
      "MA3M, 102522_record3 n grid, ngs cells: 36 , 47\n",
      "MA3M, 102622_record4 n grid, ngs cells: 13 , 55\n",
      "MA3M, 102722_record5 n grid, ngs cells: 12 , 30\n",
      "MA3M, 102822_record6 n grid, ngs cells: 31 , 39\n"
     ]
    },
    {
     "data": {
      "application/vnd.jupyter.widget-view+json": {
       "model_id": "58bf84535eee446a82ce5dcdccbc9d44",
       "version_major": 2,
       "version_minor": 0
      },
      "text/plain": [
       "  0%|          | 0/6 [00:00<?, ?it/s]"
      ]
     },
     "metadata": {},
     "output_type": "display_data"
    },
    {
     "name": "stdout",
     "output_type": "stream",
     "text": [
      "MA4M, 103122_record2 n grid, ngs cells: 24 , 68\n",
      "MA4M, 110122_record3 n grid, ngs cells: 29 , 27\n",
      "MA4M, 110222_record4 n grid, ngs cells: 8 , 13\n",
      "MA4M, 110322_record5rep n grid, ngs cells: 26 , 18\n",
      "MA4M, 110422_record6 n grid, ngs cells: 36 , 35\n",
      "MA4M, 110522_record7 n grid, ngs cells: 12 , 9\n"
     ]
    },
    {
     "data": {
      "application/vnd.jupyter.widget-view+json": {
       "model_id": "5fd9b6205e514c4ea0064812e53ba4d2",
       "version_major": 2,
       "version_minor": 0
      },
      "text/plain": [
       "  0%|          | 0/6 [00:00<?, ?it/s]"
      ]
     },
     "metadata": {},
     "output_type": "display_data"
    },
    {
     "name": "stdout",
     "output_type": "stream",
     "text": [
      "MA5M, 110622_record1 n grid, ngs cells: 58 , 30\n",
      "MA5M, 110722_record2 n grid, ngs cells: 62 , 55\n",
      "MA5M, 110822_record3 n grid, ngs cells: 79 , 30\n",
      "MA5M, 110922_record4 n grid, ngs cells: 7 , 11\n",
      "MA5M, 111022_record5 n grid, ngs cells: 23 , 25\n",
      "MA5M, 111122_record6 n grid, ngs cells: 22 , 23\n"
     ]
    },
    {
     "data": {
      "application/vnd.jupyter.widget-view+json": {
       "model_id": "dc87de26833e47e3afe5453a19904285",
       "version_major": 2,
       "version_minor": 0
      },
      "text/plain": [
       "  0%|          | 0/6 [00:00<?, ?it/s]"
      ]
     },
     "metadata": {},
     "output_type": "display_data"
    },
    {
     "name": "stdout",
     "output_type": "stream",
     "text": [
      "MA6M, 103022_record1 n grid, ngs cells: 22 , 75\n",
      "MA6M, 103122_record2 n grid, ngs cells: 17 , 39\n",
      "MA6M, 110122_record3 n grid, ngs cells: 64 , 66\n",
      "MA6M, 110222_record4 n grid, ngs cells: 7 , 13\n",
      "MA6M, 110322_record5 n grid, ngs cells: 10 , 6\n",
      "MA6M, 110422_record6 n grid, ngs cells: 39 , 31\n"
     ]
    },
    {
     "data": {
      "application/vnd.jupyter.widget-view+json": {
       "model_id": "a6642672753b429b93776b2e7d31c451",
       "version_major": 2,
       "version_minor": 0
      },
      "text/plain": [
       "  0%|          | 0/4 [00:00<?, ?it/s]"
      ]
     },
     "metadata": {},
     "output_type": "display_data"
    },
    {
     "name": "stdout",
     "output_type": "stream",
     "text": [
      "MA7M, 103022_record1 n grid, ngs cells: 31 , 36\n",
      "MA7M, 103122_record2 n grid, ngs cells: 32 , 56\n",
      "MA7M, 110122_record3 n grid, ngs cells: 19 , 28\n",
      "MA7M, 110222_record4 n grid, ngs cells: 7 , 7\n"
     ]
    },
    {
     "data": {
      "application/vnd.jupyter.widget-view+json": {
       "model_id": "348d247e095b40129f6c635f2c1a8994",
       "version_major": 2,
       "version_minor": 0
      },
      "text/plain": [
       "  0%|          | 0/6 [00:00<?, ?it/s]"
      ]
     },
     "metadata": {},
     "output_type": "display_data"
    },
    {
     "name": "stdout",
     "output_type": "stream",
     "text": [
      "MA8F, 111322_record1 n grid, ngs cells: 19 , 8\n",
      "MA8F, 111422_record2 n grid, ngs cells: 62 , 67\n",
      "MA8F, 111522_record3 n grid, ngs cells: 80 , 26\n",
      "MA8F, 111622_record4 n grid, ngs cells: 25 , 37\n",
      "MA8F, 111722_record5 n grid, ngs cells: 10 , 29\n",
      "MA8F, 111822_record6 n grid, ngs cells: 12 , 20\n"
     ]
    },
    {
     "data": {
      "application/vnd.jupyter.widget-view+json": {
       "model_id": "9bf8c000f76340acaa0793049c33e3a2",
       "version_major": 2,
       "version_minor": 0
      },
      "text/plain": [
       "  0%|          | 0/6 [00:00<?, ?it/s]"
      ]
     },
     "metadata": {},
     "output_type": "display_data"
    },
    {
     "name": "stdout",
     "output_type": "stream",
     "text": [
      "MA9F, 111322_record1 n grid, ngs cells: 56 , 29\n",
      "MA9F, 111422_record2 n grid, ngs cells: 73 , 169\n",
      "MA9F, 111522_record3 n grid, ngs cells: 119 , 80\n",
      "MA9F, 111622_record4 n grid, ngs cells: 0 , 1\n",
      "MA9F, 111722_record5 n grid, ngs cells: 24 , 34\n",
      "MA9F, 111822_record6 n grid, ngs cells: 23 , 16\n"
     ]
    },
    {
     "data": {
      "application/vnd.jupyter.widget-view+json": {
       "model_id": "0954c8fd42bf412db664ecc066461555",
       "version_major": 2,
       "version_minor": 0
      },
      "text/plain": [
       "  0%|          | 0/6 [00:00<?, ?it/s]"
      ]
     },
     "metadata": {},
     "output_type": "display_data"
    },
    {
     "name": "stdout",
     "output_type": "stream",
     "text": [
      "Y20, 092522_record1 n grid, ngs cells: 7 , 7\n",
      "Y20, 092622_record2 n grid, ngs cells: 32 , 39\n",
      "Y20, 092722_record3 n grid, ngs cells: 13 , 10\n",
      "Y20, 092822_record4 n grid, ngs cells: 51 , 33\n",
      "Y20, 092922_record5 n grid, ngs cells: 19 , 14\n",
      "Y20, 093022_record6 n grid, ngs cells: 85 , 64\n"
     ]
    },
    {
     "data": {
      "application/vnd.jupyter.widget-view+json": {
       "model_id": "0b71c931ff524fde847798211f72c44f",
       "version_major": 2,
       "version_minor": 0
      },
      "text/plain": [
       "  0%|          | 0/6 [00:00<?, ?it/s]"
      ]
     },
     "metadata": {},
     "output_type": "display_data"
    },
    {
     "name": "stdout",
     "output_type": "stream",
     "text": [
      "Y21, 091822_record1 n grid, ngs cells: 103 , 76\n",
      "Y21, 091922_record2 n grid, ngs cells: 80 , 93\n",
      "Y21, 092022_record3 n grid, ngs cells: 49 , 23\n",
      "Y21, 092122_record4 n grid, ngs cells: 60 , 62\n",
      "Y21, 092222_record5 n grid, ngs cells: 42 , 50\n",
      "Y21, 092322_record6 n grid, ngs cells: 8 , 21\n"
     ]
    },
    {
     "data": {
      "application/vnd.jupyter.widget-view+json": {
       "model_id": "9d9f2a347e3c4338a684d34f675fa5aa",
       "version_major": 2,
       "version_minor": 0
      },
      "text/plain": [
       "  0%|          | 0/6 [00:00<?, ?it/s]"
      ]
     },
     "metadata": {},
     "output_type": "display_data"
    },
    {
     "name": "stdout",
     "output_type": "stream",
     "text": [
      "Y22, 092522_record1 n grid, ngs cells: 85 , 57\n",
      "Y22, 092622_record2 n grid, ngs cells: 146 , 66\n",
      "Y22, 092722_record3 n grid, ngs cells: 60 , 84\n",
      "Y22, 092822_record4 n grid, ngs cells: 24 , 21\n",
      "Y22, 092922_record5 n grid, ngs cells: 20 , 25\n",
      "Y22, 093022_record6 n grid, ngs cells: 60 , 36\n"
     ]
    },
    {
     "data": {
      "application/vnd.jupyter.widget-view+json": {
       "model_id": "b8ac0aee4e7f43d7beb104058b8d82f8",
       "version_major": 2,
       "version_minor": 0
      },
      "text/plain": [
       "  0%|          | 0/6 [00:00<?, ?it/s]"
      ]
     },
     "metadata": {},
     "output_type": "display_data"
    },
    {
     "name": "stdout",
     "output_type": "stream",
     "text": [
      "Y23, 092522_record1 n grid, ngs cells: 38 , 27\n",
      "Y23, 092622_record2 n grid, ngs cells: 33 , 23\n",
      "Y23, 092722_record3 n grid, ngs cells: 30 , 40\n",
      "Y23, 092822_record4 n grid, ngs cells: 26 , 32\n",
      "Y23, 092922_record5 n grid, ngs cells: 41 , 49\n",
      "Y23, 093022_record6 n grid, ngs cells: 60 , 84\n"
     ]
    },
    {
     "data": {
      "application/vnd.jupyter.widget-view+json": {
       "model_id": "30ead1da975e46c2bbb53306711af3b1",
       "version_major": 2,
       "version_minor": 0
      },
      "text/plain": [
       "  0%|          | 0/6 [00:00<?, ?it/s]"
      ]
     },
     "metadata": {},
     "output_type": "display_data"
    },
    {
     "name": "stdout",
     "output_type": "stream",
     "text": [
      "Y24, 091822_record1 n grid, ngs cells: 91 , 64\n",
      "Y24, 091922_record2 n grid, ngs cells: 28 , 69\n",
      "Y24, 092022_record3 n grid, ngs cells: 97 , 49\n",
      "Y24, 092122_record4 n grid, ngs cells: 94 , 64\n",
      "Y24, 092222_record5 n grid, ngs cells: 66 , 44\n",
      "Y24, 092322_record6 n grid, ngs cells: 70 , 43\n"
     ]
    },
    {
     "data": {
      "application/vnd.jupyter.widget-view+json": {
       "model_id": "2c1ab1d9f0aa47989e212de8c7d5d4f2",
       "version_major": 2,
       "version_minor": 0
      },
      "text/plain": [
       "  0%|          | 0/6 [00:00<?, ?it/s]"
      ]
     },
     "metadata": {},
     "output_type": "display_data"
    },
    {
     "name": "stdout",
     "output_type": "stream",
     "text": [
      "Y25, 021623_record1 n grid, ngs cells: 0 , 1\n",
      "Y25, 021723_record2 n grid, ngs cells: 85 , 37\n",
      "Y25, 021823_record3 n grid, ngs cells: 29 , 64\n",
      "Y25, 021923_record4 n grid, ngs cells: 38 , 49\n",
      "Y25, 022023_record5 n grid, ngs cells: 49 , 46\n",
      "Y25, 022123_record6 n grid, ngs cells: 18 , 17\n"
     ]
    },
    {
     "data": {
      "application/vnd.jupyter.widget-view+json": {
       "model_id": "c03e654e55104cb3bc277b02898928d4",
       "version_major": 2,
       "version_minor": 0
      },
      "text/plain": [
       "  0%|          | 0/6 [00:00<?, ?it/s]"
      ]
     },
     "metadata": {},
     "output_type": "display_data"
    },
    {
     "name": "stdout",
     "output_type": "stream",
     "text": [
      "Y26, 021623_record1 n grid, ngs cells: 34 , 47\n",
      "Y26, 021723_record2 n grid, ngs cells: 51 , 22\n",
      "Y26, 021823_record3 n grid, ngs cells: 23 , 32\n",
      "Y26, 021923_record4 n grid, ngs cells: 2 , 2\n",
      "Y26, 022023_record5 n grid, ngs cells: 17 , 19\n",
      "Y26, 022123_record6 n grid, ngs cells: 4 , 3\n"
     ]
    },
    {
     "data": {
      "application/vnd.jupyter.widget-view+json": {
       "model_id": "0a2da5b368d9410cb0e3c0b373ad9a12",
       "version_major": 2,
       "version_minor": 0
      },
      "text/plain": [
       "  0%|          | 0/6 [00:00<?, ?it/s]"
      ]
     },
     "metadata": {},
     "output_type": "display_data"
    },
    {
     "name": "stdout",
     "output_type": "stream",
     "text": [
      "Y27, 021623_record1 n grid, ngs cells: 53 , 44\n",
      "Y27, 021723_record2 n grid, ngs cells: 39 , 17\n",
      "Y27, 021823_record3 n grid, ngs cells: 31 , 18\n",
      "Y27, 021923_record4 n grid, ngs cells: 19 , 20\n",
      "Y27, 022023_record5rep n grid, ngs cells: 48 , 26\n",
      "Y27, 022123_record6 n grid, ngs cells: 65 , 30\n"
     ]
    },
    {
     "data": {
      "application/vnd.jupyter.widget-view+json": {
       "model_id": "b30c2a7b945e4aef97e06bb3d239c6f4",
       "version_major": 2,
       "version_minor": 0
      },
      "text/plain": [
       "  0%|          | 0/6 [00:00<?, ?it/s]"
      ]
     },
     "metadata": {},
     "output_type": "display_data"
    },
    {
     "name": "stdout",
     "output_type": "stream",
     "text": [
      "Y28, 022623_record1 n grid, ngs cells: 4 , 32\n",
      "Y28, 022723_record2 n grid, ngs cells: 41 , 58\n",
      "Y28, 022823_record3 n grid, ngs cells: 48 , 45\n",
      "Y28, 030123_record4 n grid, ngs cells: 20 , 33\n",
      "Y28, 030223_record5 n grid, ngs cells: 40 , 75\n",
      "Y28, 030323_record6 n grid, ngs cells: 65 , 48\n"
     ]
    }
   ],
   "source": [
    "''' Load saved grid & ngs cell booleans generated by Figure 2 / S3 notebook '''\n",
    "\n",
    "save_folder = 'C:/Users/Python/Desktop/LocalData/shuffscores/'\n",
    "\n",
    "pergrid = []\n",
    "perngs = []\n",
    "\n",
    "spergrid = []\n",
    "sperngs = []\n",
    "mpergrid = []\n",
    "\n",
    "for m, session in zip(mice,sessions):\n",
    "    \n",
    "    m_pergrid = []\n",
    "    m_cells = []\n",
    "    \n",
    "    for s in tdqm(session):\n",
    "        d = data[m][s]\n",
    "        \n",
    "        #load in data\n",
    "        rawdata_file = 'RAW_' + m + '_' + s + '.npy'\n",
    "        raw = np.load(load_folder + rawdata_file, allow_pickle=True)\n",
    "        cell_IDs = raw.item().get('cellsfil')\n",
    "        \n",
    "        #load all grid cell boolean\n",
    "        gridcell_file = 'gridcell__' + m + '_' + s + '.npy'\n",
    "        gridcell = np.load(save_folder + gridcell_file)\n",
    "        \n",
    "        ngscell_file = 'bordercell__' + m + '_' + s + '.npy'\n",
    "        ngscell = np.load(save_folder + ngscell_file)\n",
    "        \n",
    "        gridcell = gridcell.astype(bool)\n",
    "        ngscell = ngscell.astype(bool)\n",
    "        d['gridcell'] = gridcell\n",
    "        d['ngscell'] = ngscell\n",
    "        \n",
    "        print(m + ', ' + s + ' n grid, ngs cells: '+ str(np.sum(gridcell)) + ' , ' + str(np.sum(ngscell)))\n",
    "        perngs = np.append(perngs, 100*np.sum(ngscell)/len(cell_IDs))\n",
    "        pergrid = np.append(pergrid, 100*np.sum(gridcell)/len(cell_IDs))\n",
    "        \n",
    "        sperngs = np.append(sperngs, 100*np.sum(ngscell)/len(cell_IDs))\n",
    "        spergrid = np.append(spergrid, 100*np.sum(gridcell)/len(cell_IDs))\n",
    "        m_pergrid = np.append(m_pergrid, np.sum(gridcell))\n",
    "        m_cells = np.append(m_cells, len(cell_IDs))\n",
    "        \n",
    "    \n",
    "    mpergrid = np.append(mpergrid, np.sum(m_pergrid)/np.sum(m_cells)*100)"
   ]
  },
  {
   "cell_type": "code",
   "execution_count": 13,
   "id": "3203ab11",
   "metadata": {},
   "outputs": [
    {
     "name": "stdout",
     "output_type": "stream",
     "text": [
      "['Y20' 'Y21' 'Y22' 'Y23' 'Y24' 'Y25' 'Y26' 'Y27' 'Y28'] ['MA10F' 'MA1F' 'MA2F' 'MA3M' 'MA4M' 'MA5M' 'MA6M' 'MA7M' 'MA8F' 'MA9F'] ['A14' 'A15' 'A16' 'A17' 'A18' 'A19' 'A20' 'A22' 'A23' 'A24']\n",
      "9 10 10\n",
      "54 58 55\n"
     ]
    }
   ],
   "source": [
    "'''Get Indices of Stored Session, Animal Data Mice by Age Group'''\n",
    "save_folder = 'C:/Users/Python/Desktop/LocalData/spatialcellssm/'\n",
    "\n",
    "age_ind = []\n",
    "ma_ind = []\n",
    "y_ind = []\n",
    "age_sind = []\n",
    "ma_sind = []\n",
    "y_sind = []\n",
    "\n",
    "s_count = 0\n",
    "for m, s in zip(mice, sessions):\n",
    "    start = s_count\n",
    "    end = len(s) + s_count\n",
    "\n",
    "    if m in all_aged_mice:\n",
    "        age_ind = np.append(age_ind, (np.where(mice == m)[0]))\n",
    "        age_sind = np.append(age_sind, np.arange(start, end, 1))\n",
    "    elif m in all_MA_mice:\n",
    "        ma_ind = np.append(ma_ind, (np.where(mice == m)[0]))\n",
    "        ma_sind = np.append(ma_sind, np.arange(start, end, 1))\n",
    "    else:\n",
    "        y_ind = np.append(y_ind, (np.where(mice == m)[0]))\n",
    "        y_sind = np.append(y_sind, np.arange(start, end, 1))\n",
    "                            \n",
    "    s_count += len(s)\n",
    "    \n",
    "age_ind = age_ind.astype(int)\n",
    "ma_ind = ma_ind.astype(int)\n",
    "y_ind = y_ind.astype(int)\n",
    "age_sind = age_sind.astype(int)\n",
    "ma_sind = ma_sind.astype(int)\n",
    "y_sind = y_sind.astype(int)\n",
    "\n",
    "print(mice[y_ind], mice[ma_ind], mice[age_ind])\n",
    "print(len(mice[y_ind]), len(mice[ma_ind]), len(mice[age_ind]))\n",
    "print(len(y_sind), len(ma_sind), len(age_sind))\n",
    "Nold = len(mice[age_ind])\n",
    "Nma = len(mice[ma_ind])\n",
    "Nyoung = len(mice[y_ind])"
   ]
  },
  {
   "cell_type": "code",
   "execution_count": 14,
   "id": "4231411e",
   "metadata": {},
   "outputs": [],
   "source": [
    "''' Define ColorMaps for Session & Animal Boxplots '''\n",
    "import matplotlib.pylab as pl\n",
    "import matplotlib.lines as mlines\n",
    "\n",
    "col_animal_old = pl.cm.Oranges([np.linspace(0.2,0.9,10)])\n",
    "col_animal_MA = pl.cm.Greens([np.linspace(0.2,0.9,10)])\n",
    "col_animal_young = pl.cm.Blues([np.linspace(0.2,0.9,9)])\n",
    "col_animal = [col_animal_young, col_animal_MA, col_animal_old]\n",
    "\n",
    "col_session_young = []\n",
    "col_session_MA = []\n",
    "col_session_old = []\n",
    "\n",
    "for m, session in zip(mice, sessions):\n",
    "    for s in range(0,len(session)):\n",
    "        \n",
    "        if m in SM_aged_mice:\n",
    "            idx = np.where(mice == m)[0][0] \n",
    "            col_session_old.append(col_animal[2][0][idx])           \n",
    "        elif m in SM_MA_mice:\n",
    "            idx = np.where(mice == m)[0][0] - Nold\n",
    "            col_session_MA.append(col_animal[1][0][idx])\n",
    "        else:\n",
    "            idx = np.where(mice == m)[0][0] - (Nold + Nma)\n",
    "            col_session_young.append(col_animal[0][0][idx])\n",
    "\n",
    "col_session = [col_session_young, col_session_MA, col_session_old]\n",
    "label_mice = ['Y20', 'Y21', 'Y22', 'Y23', 'Y24', 'Y25', 'Y26', 'Y27', 'Y28', \"\",\n",
    "              'MA10F', 'MA1F', 'MA2F', 'MA3M', 'MA4M', 'MA5M', 'MA6M', 'MA7M', 'MA8F', 'MA9F',\n",
    "              'A14', 'A15', 'A16', 'A17', 'A18', 'A19', 'A20', 'A22', 'A23', 'A24']"
   ]
  },
  {
   "cell_type": "markdown",
   "id": "b7088fa0",
   "metadata": {},
   "source": [
    "# Compute OR Load computed Grid FR Tensor (choose either cell below) "
   ]
  },
  {
   "cell_type": "code",
   "execution_count": null,
   "id": "035524dc",
   "metadata": {
    "scrolled": true
   },
   "outputs": [],
   "source": [
    "''' Compute & Save Sorted Normalized FR Tensor for Grid Network in Back of Track, excluding Gain Change Period '''\n",
    "\n",
    "from scipy.spatial.distance import pdist\n",
    "from scipy.spatial.distance import squareform\n",
    "\n",
    "dt = 0.02\n",
    "save_folder = 'C:/Users/Python/Desktop/LocalData/spatialcellssm/simmatrices/'\n",
    "\n",
    "for m, session in zip(mice, sessions):\n",
    "    for s in tdqm(session):\n",
    "        d = data[m][s]\n",
    "        \n",
    "        #get some data & cell IDs\n",
    "        rawdata_file = 'RAW_' + m + '_' + s + '.npy'\n",
    "        spikes_file = 'SPIKES_' + m + '_' + s +'.npy'\n",
    "        behavior_file = 'BEHAVIOR_' + m + '_' + s + '.npy'\n",
    "        \n",
    "        raw = np.load(load_folder + rawdata_file, allow_pickle=True)\n",
    "        Y = np.load(load_folder + spikes_file, allow_pickle=False) #pre-filtered for speeds >2cm/s, position-corrected spikes, 20 ms timebins\n",
    "        behaviorfil = np.load(load_folder + behavior_file, allow_pickle=False)\n",
    "        \n",
    "        cell_IDs = raw.item().get('cellsfil')\n",
    "        spatialcell99 = d['spatialcell99']\n",
    "        spatialcells = cell_IDs[spatialcell99]\n",
    "        gridcell = d['gridcell'].astype(bool)\n",
    "        gridcells = cell_IDs[gridcell]     \n",
    "        \n",
    "        posx = behaviorfil[:,0]\n",
    "        trial = behaviorfil[:,2]\n",
    "        rawtrialfil = raw.item().get('trialfil')\n",
    "        \n",
    "        #Find any skipped trials\n",
    "        try:\n",
    "            _ = raw.item().get('correctedtrial').shape\n",
    "            if (len(np.unique(trial)) < 220): \n",
    "                alltrial = np.arange(0, np.max(np.unique(trial)) + 1 , 1)\n",
    "            else:    \n",
    "                alltrial = np.arange(0,220,1)\n",
    "            skippedtrials = np.setdiff1d(alltrial, np.unique(trial)).astype(int)\n",
    "            #print('Skipped trials, n skipped = ' + str(len(skippedtrials)) + str(skippedtrials))\n",
    "        except: \n",
    "            skippedtrials = []\n",
    "            alltrial = np.arange(0, 220, 1)\n",
    "        \n",
    "        if np.max(np.unique(trial)) < 160: #handles truncated, shorter sessions \n",
    "            alltrial = np.arange(0, np.max(np.unique(trial)) + 2, 1)\n",
    "            #print(m, s)\n",
    "        else:\n",
    "            alltrial = np.arange(0,220,1)\n",
    "\n",
    "        # Load in left vs. right info\n",
    "        trials = np.unique(trial)\n",
    "        trialinfo = raw.item().get('trialinfo')\n",
    "        left = trialinfo['left']\n",
    "        \n",
    "        #sort trial labels to correspond\n",
    "        posxcopy = posx.copy()\n",
    "        leftsort = left.copy()\n",
    "        alt_idx = 140\n",
    "        lefttail = left[alt_idx:]\n",
    "        lefttail = 1 - lefttail\n",
    "        leftsort[alt_idx:] = lefttail[np.argsort(lefttail, kind = 'stable')]\n",
    "\n",
    "        #revise skippedtrials locations\n",
    "        allcopy = alltrial.copy()\n",
    "        alltail = alltrial[alt_idx:]\n",
    "        allcopy[alt_idx:] = alltail[np.argsort(lefttail, kind = 'stable')]\n",
    "        newskippedtrials = []\n",
    "        for z in skippedtrials:\n",
    "            newskippedtrials = np.append(newskippedtrials, np.where(allcopy == z)[0][0])\n",
    "\n",
    "        ndarkskipped = 0\n",
    "        for z in newskippedtrials:\n",
    "            if z < 20: \n",
    "                ndarkskipped += 1\n",
    "                \n",
    "        #sort position & spike train, all copy is in the sorted order\n",
    "        posxcopy = []\n",
    "        allcopy = np.append(allcopy, 220)\n",
    "        for t in allcopy:\n",
    "            obs_idx = np.where(trial == t)[0]\n",
    "            posxcopy = np.append(posxcopy, posx[obs_idx])\n",
    "\n",
    "            if t == 0:\n",
    "                Z = Y[obs_idx,:]\n",
    "            else: \n",
    "                Z = np.append(Z, Y[obs_idx,:], axis = 0)\n",
    "\n",
    "        #adjust trialfil so that sorted trials are skipped instead\n",
    "        count = 0\n",
    "        if len(skippedtrials) > 0 :\n",
    "            skippedrawtrialfil = rawtrialfil.copy()\n",
    "            consec = count_consec(list(np.sort(newskippedtrials).astype(int)))\n",
    "\n",
    "            for i, k in enumerate(consec):\n",
    "                t = np.sort(newskippedtrials)[count] \n",
    "                #print(i,t,k)\n",
    "\n",
    "                if i == 0: \n",
    "                    skippedrawtrialfil[rawtrialfil >= t] = skippedrawtrialfil[rawtrialfil >= t] + k\n",
    "                else: \n",
    "                    skippedrawtrialfil[skippedrawtrialfil >= t] = skippedrawtrialfil[skippedrawtrialfil >= t] + k\n",
    "\n",
    "                count += k\n",
    "        else:\n",
    "            skippedrawtrialfil = trial.copy()\n",
    "            \n",
    "        #remove dark & trial 220 dataframes     \n",
    "        start_idx = (np.where(skippedrawtrialfil >= 20)[0][0]).astype(int)\n",
    "        if np.max(skippedrawtrialfil) > 200:\n",
    "            end_idx = (np.where(skippedrawtrialfil >= 200)[0][0])\n",
    "        else:\n",
    "            end_idx = len(skippedrawtrialfil) + 1\n",
    "\n",
    "        #divide observations into front and back halves\n",
    "        frontidx = np.where(posxcopy < 200)[0].astype(int)\n",
    "        backidx = np.where(posxcopy >= 200)[0].astype(int)\n",
    "        VRidx = np.arange(start_idx, end_idx, 1)\n",
    "        VRfrontidx = np.intersect1d(VRidx, frontidx)\n",
    "        VRbackidx = np.intersect1d(VRidx, backidx)\n",
    "        \n",
    "        d['VRbackidx'] = VRbackidx\n",
    "        VRbackidx_file = 'VRbackidx_' + m + '_' + s + '.npy'\n",
    "        np.save(save_folder + VRbackidx_file, VRbackidx)\n",
    "        \n",
    "        d['skippedrawtrialfil'] = skippedrawtrialfil\n",
    "        skippedrawtrialfil_file = 'skippedrawtrialfil_' + m + '_' + s + '.npy'\n",
    "        np.save(save_folder + skippedrawtrialfil_file, skippedrawtrialfil)\n",
    "        \n",
    "        #get smoothed by trial FR matrix excluding dark period sorted by context using front half of track\n",
    "        normFR, _, _ = tuning_curve_bytrial(posxcopy[VRbackidx], skippedrawtrialfil[VRbackidx], Z[VRbackidx,:], dt, sigma = 5, b=2, smooth=True, normalize=True, occupancy=True)\n",
    "        \n",
    "        #get & plot similarity matrix for all grid spatial cells\n",
    "        gridcell = d['gridcell'].astype(bool)\n",
    "        gridcells = cell_IDs[gridcell]\n",
    "        \n",
    "        sdx = []\n",
    "        for i, c in enumerate(gridcells):\n",
    "            sd = (np.where(cell_IDs == c)[0][0]).astype(int)\n",
    "            sdx.append(sd)\n",
    "            \n",
    "        normspatialgridFR = normFR[:,:,sdx] \n",
    "        \n",
    "        if len(gridcells) >= 10:\n",
    "            #save grid network FR tensor \n",
    "            d['FRtensorbacksorted'] = normspatialgridFR\n",
    "            FRtensor_file = 'SM_FRtensorbacksorted_' + m + '_' + s + '.npy'\n",
    "            np.save(save_folder + FRtensor_file, d['FRtensorbacksorted'])\n",
    "            \n",
    "            #save grid network trial by trial sim matrix \n",
    "            normspatialgridFR_unwrapped = np.reshape(normspatialgridFR, (normspatialgridFR.shape[0], -1))\n",
    "            sim_vec = np.abs(pdist(normspatialgridFR_unwrapped, 'correlation')-1)\n",
    "            sim = squareform(sim_vec)  \n",
    "            d['gridsimilaritybacksorted'] = sim\n",
    "        else:\n",
    "            print('too few grid cells in session: ' + str(m) + ', ' + str(s))"
   ]
  },
  {
   "cell_type": "code",
   "execution_count": 22,
   "id": "61025178",
   "metadata": {},
   "outputs": [
    {
     "data": {
      "application/vnd.jupyter.widget-view+json": {
       "model_id": "ee22994680cb4410873f2672e7812ced",
       "version_major": 2,
       "version_minor": 0
      },
      "text/plain": [
       "  0%|          | 0/3 [00:00<?, ?it/s]"
      ]
     },
     "metadata": {},
     "output_type": "display_data"
    },
    {
     "name": "stdout",
     "output_type": "stream",
     "text": [
      "too few grid cells in session: A14, 083022_record1\n"
     ]
    },
    {
     "data": {
      "application/vnd.jupyter.widget-view+json": {
       "model_id": "111fc1be48354abab025c8fd88fc2fec",
       "version_major": 2,
       "version_minor": 0
      },
      "text/plain": [
       "  0%|          | 0/6 [00:00<?, ?it/s]"
      ]
     },
     "metadata": {},
     "output_type": "display_data"
    },
    {
     "name": "stdout",
     "output_type": "stream",
     "text": [
      "too few grid cells in session: A15, 083022_record1\n"
     ]
    },
    {
     "data": {
      "application/vnd.jupyter.widget-view+json": {
       "model_id": "197b8df608e744ed82a89be496d40a49",
       "version_major": 2,
       "version_minor": 0
      },
      "text/plain": [
       "  0%|          | 0/4 [00:00<?, ?it/s]"
      ]
     },
     "metadata": {},
     "output_type": "display_data"
    },
    {
     "name": "stdout",
     "output_type": "stream",
     "text": [
      "too few grid cells in session: A16, 090122_record3\n"
     ]
    },
    {
     "data": {
      "application/vnd.jupyter.widget-view+json": {
       "model_id": "ac36d69b5c7947ea9cac9e6eb72c38bd",
       "version_major": 2,
       "version_minor": 0
      },
      "text/plain": [
       "  0%|          | 0/6 [00:00<?, ?it/s]"
      ]
     },
     "metadata": {},
     "output_type": "display_data"
    },
    {
     "name": "stdout",
     "output_type": "stream",
     "text": [
      "too few grid cells in session: A17, 082322_record1\n",
      "too few grid cells in session: A17, 082422_record2\n"
     ]
    },
    {
     "data": {
      "application/vnd.jupyter.widget-view+json": {
       "model_id": "18c7ff4fbef94550ace515419c9ce7e6",
       "version_major": 2,
       "version_minor": 0
      },
      "text/plain": [
       "  0%|          | 0/6 [00:00<?, ?it/s]"
      ]
     },
     "metadata": {},
     "output_type": "display_data"
    },
    {
     "name": "stdout",
     "output_type": "stream",
     "text": [
      "too few grid cells in session: A18, 082822_record6\n"
     ]
    },
    {
     "data": {
      "application/vnd.jupyter.widget-view+json": {
       "model_id": "9181c8481e394f4c908b271c28e66f41",
       "version_major": 2,
       "version_minor": 0
      },
      "text/plain": [
       "  0%|          | 0/6 [00:00<?, ?it/s]"
      ]
     },
     "metadata": {},
     "output_type": "display_data"
    },
    {
     "data": {
      "application/vnd.jupyter.widget-view+json": {
       "model_id": "ec0f240bfb284ebea379a6cab2f39080",
       "version_major": 2,
       "version_minor": 0
      },
      "text/plain": [
       "  0%|          | 0/6 [00:00<?, ?it/s]"
      ]
     },
     "metadata": {},
     "output_type": "display_data"
    },
    {
     "name": "stdout",
     "output_type": "stream",
     "text": [
      "too few grid cells in session: A20, 012623_record1\n",
      "too few grid cells in session: A20, 013123_record6\n"
     ]
    },
    {
     "data": {
      "application/vnd.jupyter.widget-view+json": {
       "model_id": "57b2c04d331d4607b8deeeb5f9c146b5",
       "version_major": 2,
       "version_minor": 0
      },
      "text/plain": [
       "  0%|          | 0/6 [00:00<?, ?it/s]"
      ]
     },
     "metadata": {},
     "output_type": "display_data"
    },
    {
     "data": {
      "application/vnd.jupyter.widget-view+json": {
       "model_id": "bda41f9365b74959b64416a2ea30ba4b",
       "version_major": 2,
       "version_minor": 0
      },
      "text/plain": [
       "  0%|          | 0/6 [00:00<?, ?it/s]"
      ]
     },
     "metadata": {},
     "output_type": "display_data"
    },
    {
     "name": "stdout",
     "output_type": "stream",
     "text": [
      "too few grid cells in session: A23, 020923_record1\n",
      "too few grid cells in session: A23, 021223_record4\n"
     ]
    },
    {
     "data": {
      "application/vnd.jupyter.widget-view+json": {
       "model_id": "8ff5f9c638a44cd9a4f86431a5779d08",
       "version_major": 2,
       "version_minor": 0
      },
      "text/plain": [
       "  0%|          | 0/6 [00:00<?, ?it/s]"
      ]
     },
     "metadata": {},
     "output_type": "display_data"
    },
    {
     "data": {
      "application/vnd.jupyter.widget-view+json": {
       "model_id": "ed237e7ecff64b11af0501d2abd1993a",
       "version_major": 2,
       "version_minor": 0
      },
      "text/plain": [
       "  0%|          | 0/6 [00:00<?, ?it/s]"
      ]
     },
     "metadata": {},
     "output_type": "display_data"
    },
    {
     "data": {
      "application/vnd.jupyter.widget-view+json": {
       "model_id": "2be62c40863549078433e1703d62bdc4",
       "version_major": 2,
       "version_minor": 0
      },
      "text/plain": [
       "  0%|          | 0/6 [00:00<?, ?it/s]"
      ]
     },
     "metadata": {},
     "output_type": "display_data"
    },
    {
     "name": "stdout",
     "output_type": "stream",
     "text": [
      "too few grid cells in session: MA1F, 102622_record4\n"
     ]
    },
    {
     "data": {
      "application/vnd.jupyter.widget-view+json": {
       "model_id": "d38f09d3c5e5479683b4cceb0e5b564a",
       "version_major": 2,
       "version_minor": 0
      },
      "text/plain": [
       "  0%|          | 0/6 [00:00<?, ?it/s]"
      ]
     },
     "metadata": {},
     "output_type": "display_data"
    },
    {
     "data": {
      "application/vnd.jupyter.widget-view+json": {
       "model_id": "248edc4feb5b450d859fe43249737496",
       "version_major": 2,
       "version_minor": 0
      },
      "text/plain": [
       "  0%|          | 0/6 [00:00<?, ?it/s]"
      ]
     },
     "metadata": {},
     "output_type": "display_data"
    },
    {
     "name": "stdout",
     "output_type": "stream",
     "text": [
      "too few grid cells in session: MA3M, 102322_record1\n"
     ]
    },
    {
     "data": {
      "application/vnd.jupyter.widget-view+json": {
       "model_id": "5455e24554d34f57aabb17ce2f94ddf7",
       "version_major": 2,
       "version_minor": 0
      },
      "text/plain": [
       "  0%|          | 0/6 [00:00<?, ?it/s]"
      ]
     },
     "metadata": {},
     "output_type": "display_data"
    },
    {
     "name": "stdout",
     "output_type": "stream",
     "text": [
      "too few grid cells in session: MA4M, 110222_record4\n"
     ]
    },
    {
     "data": {
      "application/vnd.jupyter.widget-view+json": {
       "model_id": "129dbfcb679140948b61ab91ed74a8b1",
       "version_major": 2,
       "version_minor": 0
      },
      "text/plain": [
       "  0%|          | 0/6 [00:00<?, ?it/s]"
      ]
     },
     "metadata": {},
     "output_type": "display_data"
    },
    {
     "name": "stdout",
     "output_type": "stream",
     "text": [
      "too few grid cells in session: MA5M, 110922_record4\n"
     ]
    },
    {
     "data": {
      "application/vnd.jupyter.widget-view+json": {
       "model_id": "449865ad3ba44c0ea4e6667a46089ba0",
       "version_major": 2,
       "version_minor": 0
      },
      "text/plain": [
       "  0%|          | 0/6 [00:00<?, ?it/s]"
      ]
     },
     "metadata": {},
     "output_type": "display_data"
    },
    {
     "name": "stdout",
     "output_type": "stream",
     "text": [
      "too few grid cells in session: MA6M, 110222_record4\n"
     ]
    },
    {
     "data": {
      "application/vnd.jupyter.widget-view+json": {
       "model_id": "abc2fbd13bfb4b0b90b66f8c984200f2",
       "version_major": 2,
       "version_minor": 0
      },
      "text/plain": [
       "  0%|          | 0/4 [00:00<?, ?it/s]"
      ]
     },
     "metadata": {},
     "output_type": "display_data"
    },
    {
     "name": "stdout",
     "output_type": "stream",
     "text": [
      "too few grid cells in session: MA7M, 110222_record4\n"
     ]
    },
    {
     "data": {
      "application/vnd.jupyter.widget-view+json": {
       "model_id": "a7b1b3a6f0674f63a4ebda768b30dc87",
       "version_major": 2,
       "version_minor": 0
      },
      "text/plain": [
       "  0%|          | 0/6 [00:00<?, ?it/s]"
      ]
     },
     "metadata": {},
     "output_type": "display_data"
    },
    {
     "data": {
      "application/vnd.jupyter.widget-view+json": {
       "model_id": "6ff097f4c4e442628f6109c151d4ebb8",
       "version_major": 2,
       "version_minor": 0
      },
      "text/plain": [
       "  0%|          | 0/6 [00:00<?, ?it/s]"
      ]
     },
     "metadata": {},
     "output_type": "display_data"
    },
    {
     "name": "stdout",
     "output_type": "stream",
     "text": [
      "too few grid cells in session: MA9F, 111622_record4\n"
     ]
    },
    {
     "data": {
      "application/vnd.jupyter.widget-view+json": {
       "model_id": "eef5de2cb61b41daaa85138835c7c484",
       "version_major": 2,
       "version_minor": 0
      },
      "text/plain": [
       "  0%|          | 0/6 [00:00<?, ?it/s]"
      ]
     },
     "metadata": {},
     "output_type": "display_data"
    },
    {
     "name": "stdout",
     "output_type": "stream",
     "text": [
      "too few grid cells in session: Y20, 092522_record1\n"
     ]
    },
    {
     "data": {
      "application/vnd.jupyter.widget-view+json": {
       "model_id": "581c73a28f384a86a5e2431399532e3f",
       "version_major": 2,
       "version_minor": 0
      },
      "text/plain": [
       "  0%|          | 0/6 [00:00<?, ?it/s]"
      ]
     },
     "metadata": {},
     "output_type": "display_data"
    },
    {
     "name": "stdout",
     "output_type": "stream",
     "text": [
      "too few grid cells in session: Y21, 092322_record6\n"
     ]
    },
    {
     "data": {
      "application/vnd.jupyter.widget-view+json": {
       "model_id": "381949ef890949d7a0edd2e108e74b20",
       "version_major": 2,
       "version_minor": 0
      },
      "text/plain": [
       "  0%|          | 0/6 [00:00<?, ?it/s]"
      ]
     },
     "metadata": {},
     "output_type": "display_data"
    },
    {
     "data": {
      "application/vnd.jupyter.widget-view+json": {
       "model_id": "89679224f2214add9311bf2ccfb4c3a9",
       "version_major": 2,
       "version_minor": 0
      },
      "text/plain": [
       "  0%|          | 0/6 [00:00<?, ?it/s]"
      ]
     },
     "metadata": {},
     "output_type": "display_data"
    },
    {
     "data": {
      "application/vnd.jupyter.widget-view+json": {
       "model_id": "82ae68d87ab54bc697adedd11ce5b297",
       "version_major": 2,
       "version_minor": 0
      },
      "text/plain": [
       "  0%|          | 0/6 [00:00<?, ?it/s]"
      ]
     },
     "metadata": {},
     "output_type": "display_data"
    },
    {
     "data": {
      "application/vnd.jupyter.widget-view+json": {
       "model_id": "98eece6e76814ddcbc85c86b2a7f1071",
       "version_major": 2,
       "version_minor": 0
      },
      "text/plain": [
       "  0%|          | 0/6 [00:00<?, ?it/s]"
      ]
     },
     "metadata": {},
     "output_type": "display_data"
    },
    {
     "name": "stdout",
     "output_type": "stream",
     "text": [
      "too few grid cells in session: Y25, 021623_record1\n"
     ]
    },
    {
     "data": {
      "application/vnd.jupyter.widget-view+json": {
       "model_id": "6bfe4e45e12d42cfb1d676136b8c9020",
       "version_major": 2,
       "version_minor": 0
      },
      "text/plain": [
       "  0%|          | 0/6 [00:00<?, ?it/s]"
      ]
     },
     "metadata": {},
     "output_type": "display_data"
    },
    {
     "name": "stdout",
     "output_type": "stream",
     "text": [
      "too few grid cells in session: Y26, 021923_record4\n",
      "too few grid cells in session: Y26, 022123_record6\n"
     ]
    },
    {
     "data": {
      "application/vnd.jupyter.widget-view+json": {
       "model_id": "acee5e385c014175aedae52f3b8380db",
       "version_major": 2,
       "version_minor": 0
      },
      "text/plain": [
       "  0%|          | 0/6 [00:00<?, ?it/s]"
      ]
     },
     "metadata": {},
     "output_type": "display_data"
    },
    {
     "data": {
      "application/vnd.jupyter.widget-view+json": {
       "model_id": "d833255085024d0c9196ccc9eecd5181",
       "version_major": 2,
       "version_minor": 0
      },
      "text/plain": [
       "  0%|          | 0/6 [00:00<?, ?it/s]"
      ]
     },
     "metadata": {},
     "output_type": "display_data"
    },
    {
     "name": "stdout",
     "output_type": "stream",
     "text": [
      "too few grid cells in session: Y28, 022623_record1\n"
     ]
    }
   ],
   "source": [
    "''' Load Sorted Normalized FR Tensor for Grid Network in Back of Track, excluding Gain Change Period '''\n",
    "\n",
    "from scipy.spatial.distance import pdist\n",
    "from scipy.spatial.distance import squareform\n",
    "\n",
    "dt = 0.02\n",
    "save_folder = 'C:/Users/Python/Desktop/LocalData/spatialcellssm/simmatrices/'\n",
    "\n",
    "for m, session in zip(mice, sessions):\n",
    "    for s in tdqm(session):\n",
    "        d = data[m][s]\n",
    "         \n",
    "        VRbackidx_file = 'VRbackidx_' + m + '_' + s + '.npy'\n",
    "        VRbackidx = np.load(save_folder + VRbackidx_file)\n",
    "        d['VRbackidx'] = VRbackidx\n",
    "        \n",
    "        skippedrawtrialfil_file = 'skippedrawtrialfil_' + m + '_' + s + '.npy'\n",
    "        skippedrawtrialfil = np.load(save_folder + skippedrawtrialfil_file)\n",
    "        d['skippedrawtrialfil'] = skippedrawtrialfil\n",
    "        \n",
    "        #get some data & cell IDs\n",
    "        rawdata_file = 'RAW_' + m + '_' + s + '.npy'\n",
    "        raw = np.load(load_folder + rawdata_file, allow_pickle=True)\n",
    "        \n",
    "        cell_IDs = raw.item().get('cellsfil')\n",
    "        gridcell = d['gridcell'].astype(bool)\n",
    "        gridcells = cell_IDs[gridcell]     \n",
    "        \n",
    "        if len(gridcells) >= 10:\n",
    "            #load grid network FR tensor \n",
    "            FRtensor_file = 'SM_FRtensorbacksorted_' + m + '_' + s + '.npy'\n",
    "            normspatialgridFR = np.load(save_folder + FRtensor_file)\n",
    "            d['FRtensorbacksorted'] = normspatialgridFR \n",
    "            \n",
    "            #get grid network trial by trial sim matrix \n",
    "            normspatialgridFR_unwrapped = np.reshape(normspatialgridFR, (normspatialgridFR.shape[0], -1))\n",
    "            sim_vec = np.abs(pdist(normspatialgridFR_unwrapped, 'correlation')-1)\n",
    "            sim = squareform(sim_vec)  \n",
    "            d['gridsimilaritybacksorted'] = sim\n",
    "        else:\n",
    "            print('too few grid cells in session: ' + str(m) + ', ' + str(s))"
   ]
  },
  {
   "cell_type": "markdown",
   "id": "114c8bd1",
   "metadata": {},
   "source": [
    "# Empirically establish maximum possible k value."
   ]
  },
  {
   "cell_type": "code",
   "execution_count": 23,
   "id": "8f356842",
   "metadata": {},
   "outputs": [],
   "source": [
    "''' Load in KMeans '''\n",
    "\n",
    "from lvl.factor_models import KMeans as lvl_kmeans\n",
    "from lvl.factor_models import NMF as lvl_soft_kmeans\n",
    "from lvl.resamplers import RotationResampler\n",
    "from lvl.crossval import speckled_cv_scores \n",
    "from scipy.spatial.distance import cdist \n",
    "from scipy.special import logsumexp\n",
    "from sklearn.metrics import silhouette_samples, silhouette_score\n",
    "\n",
    "def softmax(M):\n",
    "    return np.exp(M - logsumexp(M, axis=-1, keepdims=True))"
   ]
  },
  {
   "cell_type": "code",
   "execution_count": null,
   "id": "4b1ada2d",
   "metadata": {},
   "outputs": [
    {
     "data": {
      "application/vnd.jupyter.widget-view+json": {
       "model_id": "35fea8bd45434fd5b19fd0e609592371",
       "version_major": 2,
       "version_minor": 0
      },
      "text/plain": [
       "  0%|          | 0/3 [00:00<?, ?it/s]"
      ]
     },
     "metadata": {},
     "output_type": "display_data"
    },
    {
     "data": {
      "application/vnd.jupyter.widget-view+json": {
       "model_id": "54ef21d2b44c493686a0172fcc5b7d1b",
       "version_major": 2,
       "version_minor": 0
      },
      "text/plain": [
       "  0%|          | 0/6 [00:00<?, ?it/s]"
      ]
     },
     "metadata": {},
     "output_type": "display_data"
    }
   ],
   "source": [
    "''' Decide max possible k value by checking for overfitting if optimal k > 4 & plot Figure S4B examples\n",
    "\n",
    "Run time: ~5 - 15 minutes per session (x 14 if checking all k > 4 sessions vs. x 3 if just examples)\n",
    "\n",
    "'''\n",
    "possible_k = np.arange(2, 9, 1)\n",
    "extended_k = np.arange(1, 9, 1)\n",
    "n_reps = 10 \n",
    "alpha = 0.05\n",
    "colors = ['xkcd:red','xkcd:orange','xkcd:yellow','xkcd:green','xkcd:blue','xkcd:purple','xkcd:black','xkcd:grey']\n",
    "\n",
    "save_folder = 'C:/Users/Python/Desktop/LocalData/spatialcellssm/kmeans/'\n",
    "\n",
    "# if you want to assess overfitting for all sessions and plot any sessions fit by k > 4 as in Figure S4B:\n",
    "#example_mice = mice\n",
    "#example_sessions = sessions\n",
    "ex_sesh_only = False\n",
    "\n",
    "# if you want to assess overfitting for & plot only the example sessions in Figure S4B:\n",
    "example_mice = ['Y21', 'MA2F', 'A15']\n",
    "example_sessions = ['091822_record1','102522_record3','090122_record3']\n",
    "ex_sesh_only = True\n",
    "\n",
    "for m, session in zip(mice, sessions):\n",
    "    for s in tdqm(session):\n",
    "        d = data[m][s]\n",
    "                \n",
    "        rawdata_file = 'RAW_' + m + '_' + s + '.npy'\n",
    "        raw = np.load(load_folder + rawdata_file, allow_pickle=True)\n",
    "        cell_IDs = raw.item().get('cellsfil')\n",
    "        gridcell = d['gridcell'].astype(bool)\n",
    "        gridcells = cell_IDs[gridcell]     \n",
    "        \n",
    "        if (m in example_mice) and (s in example_sessions) and (len(gridcells) >= 10):\n",
    "            Y = d['FRtensorbacksorted'].copy()\n",
    "            Y = Y.transpose(0, 2, 1)\n",
    "            Y_unwrapped = np.reshape(Y, (Y.shape[0], -1))\n",
    "            \n",
    "            #Run k-means ten times quickly and choose the k that most frequently most often maximizes the average silhouette score \n",
    "            silhouette_avgs = np.zeros((n_reps, len(possible_k)))\n",
    "            for p in range(n_reps):\n",
    "                sil_avgs = []\n",
    "                for n in possible_k:     \n",
    "                    # fit model and get params\n",
    "                    model_kmeans = lvl_kmeans(n_components = n, n_restarts = 10)\n",
    "                    model_kmeans.fit(Y_unwrapped)\n",
    "                    W, _ = model_kmeans.factors\n",
    "                    labels = []\n",
    "                    for t in range(W.shape[0]):\n",
    "                        mapid = np.where(W[t,:] == 1)[0]\n",
    "                        labels = np.append(labels, mapid)\n",
    "                    sil_avgs = np.append(sil_avgs, silhouette_score(Y_unwrapped, labels))\n",
    "                silhouette_avgs[p,:] = sil_avgs\n",
    "                \n",
    "            SilN = possible_k[np.argmax(np.mean(silhouette_avgs, axis = 0))]\n",
    "            \n",
    "            if m in SM_aged_mice:\n",
    "                col = 'C1'\n",
    "            elif m in SM_MA_mice:\n",
    "                col = 'C2'\n",
    "            else:\n",
    "                col = 'C0'\n",
    "            \n",
    "            if (SilN > 4) or (ex_sesh_only == True):\n",
    "                \n",
    "                model_kmeans = lvl_kmeans(n_components = SilN, n_restarts = 100)\n",
    "                model_kmeans.fit(Y_unwrapped)\n",
    "                W, H = model_kmeans.factors\n",
    "                Y_hat = model_kmeans.predict()\n",
    "                score = model_kmeans.score(Y_unwrapped)\n",
    "\n",
    "                labels = []\n",
    "                for t in range(W.shape[0]):\n",
    "                    mapid = np.where(W[t,:] == 1)[0]\n",
    "                    labels = np.append(labels, mapid)\n",
    "                silhouette_avg = silhouette_score(Y_unwrapped, labels)\n",
    "                samp_sil = silhouette_samples(Y_unwrapped, labels)\n",
    "            \n",
    "                #compare test R^2 vs. shuffle for k = 1-8\n",
    "                # Run cross-validated k-means with speckled holdout pattern.\n",
    "                km_train_scores = np.ones((len(extended_k), n_reps))\n",
    "                km_test_scores = np.ones((len(extended_k), n_reps))\n",
    "\n",
    "                for i, rank in enumerate(tdqm(extended_k)):\n",
    "                    model = lvl_kmeans(n_components=rank, n_restarts = 100, maxiter = 1000)\n",
    "                    km_train_scores[i], km_test_scores[i] = \\\n",
    "                        speckled_cv_scores(model, Y_unwrapped, n_repeats=n_reps)\n",
    "                    \n",
    "                #plot overfit check\n",
    "                fig, ax = plt.subplots(2,2, figsize = (2,2))\n",
    "                plt.subplots_adjust(hspace = 0.5, wspace = 0.5)\n",
    "                fig.suptitle(str(m) + '_' + str(s[-1]) + ', Optimal k = ' + str(SilN), fontsize = 10, color = col)\n",
    "\n",
    "                #plot sparsely labeled sim matrix \n",
    "                sim = d['gridsimilaritybacksorted']\n",
    "                im = ax[0,0].imshow(sim, clim=[0, 1.0], aspect='auto', cmap='Greys', interpolation='none')\n",
    "                ax[0,0].tick_params(which='major', labelsize=8, pad=0.5)\n",
    "                ax[0,0].set_ylabel('Trial Number', fontsize=9, labelpad=1)\n",
    "                ax[0,0].set_xlabel('Trial Number', fontsize=9, labelpad=1)\n",
    "                ax[0,0].set_yticks([])\n",
    "                ax[0,0].set_xticks([0, 90, 180])\n",
    "\n",
    "                #plot train R^2 vs. test^2\n",
    "                rax = np.tile(extended_k, (n_reps, 1)).T.ravel()\n",
    "                ax[0,1].plot(rax-.1, km_train_scores.ravel(), '.', color = 'k', label = 'Train')\n",
    "                ax[0,1].plot(rax+.1, km_test_scores.ravel(), '.', color = 'r', label = 'Test')\n",
    "                ax[0,1].set_xlabel('K', fontsize=9, labelpad = 1)\n",
    "                ax[0,1].set_ylabel('R**2', fontsize=9)\n",
    "                ax[0,1].set_xticks(labelsize = 8)\n",
    "                ax[0,1].set_yticks(labelsize = 8)\n",
    "                ax[0,1].set_yticks([])\n",
    "                #ax[0,1].legend()\n",
    "\n",
    "                #plot silhouete score averages for all k\n",
    "                ax[1,0].plot(possible_k, np.mean(silhouette_avgs, axis = 0), color = col)\n",
    "                ax[1,0].fill_between(possible_k, np.mean(silhouette_avgs, axis = 0) - stats.sem(silhouette_avgs, axis = 0),\n",
    "                                   np.mean(silhouette_avgs, axis = 0) + stats.sem(silhouette_avgs, axis = 0), facecolor = col, alpha = 0.2)\n",
    "                ax[1,0].scatter(SilN, np.max(np.mean(silhouette_avgs, axis = 0)), color = 'k', marker = 'x')\n",
    "                ax[1,0].set_xlim([2,8])\n",
    "                ax[1,0].set_xticks(possible_k, labelsize = 8, labels = None)\n",
    "                ax[1,0].set_ylabel('Avg. Sil. Score', fontsize=9)\n",
    "                ax[1,0].set_yticks([])\n",
    "                ax[1,0].set_xlabel('K', fontsize=9)\n",
    "\n",
    "                #plot silhouette score of clusters for selected k\n",
    "                ax[1,1].set_xlim([-0.2, 1.0])\n",
    "                ax[1,1].set_ylim([0, len(Y_unwrapped) + (SilN + 1) * 10])\n",
    "                y_lower = 10\n",
    "                for i in range(SilN):\n",
    "                    ith_cluster_silhouette_values = samp_sil[labels == i]\n",
    "                    ith_cluster_silhouette_values.sort()\n",
    "                    size_cluster_i = ith_cluster_silhouette_values.shape[0]\n",
    "                    y_upper = y_lower + size_cluster_i\n",
    "                    color = colors[i]\n",
    "                    ax[1,1].fill_betweenx(np.arange(y_lower, y_upper),0,\n",
    "                        ith_cluster_silhouette_values,facecolor=color,edgecolor=color,alpha=0.7)\n",
    "                    #ax[1,1].text(-0.05, y_lower + 0.5 * size_cluster_i, str(i))\n",
    "                    y_lower = y_upper + 10  # 10 for the 0 samples\n",
    "                ax[1,1].set_xlabel(\"Silhouette Score\", fontsize = 9)\n",
    "                ax[1,1].set_ylabel(\"Cluster\", fontsize = 9)\n",
    "                ax[1,1].axvline(x=silhouette_avg, color = \"k\", linestyle=\"--\")\n",
    "                ax[1,1].set_yticks([], labelsize = 8) \n",
    "                ax[1,1].set_xticks([-0.2, 0.2, 0.6, 1.0], labelsize = 8)\n",
    "\n",
    "                #plt.savefig(save_folder + m + '_' + s + '_overfitk.png', dpi=400, bbox_inches='tight')\n",
    "                #plt.savefig(save_folder + m + '_' + s + '_overfitk.svg', dpi=400, bbox_inches='tight')\n",
    "                plt.show()\n",
    "                "
   ]
  },
  {
   "cell_type": "markdown",
   "id": "bd8b55ad",
   "metadata": {},
   "source": [
    "~10% of eligible Split Maze sessions (n = 13 / 134) had an optimal k > 4 in this sweep. We compared the train and test cross-validation performance (R2) of the k-means model at all possible k to assess if overfitting occurred at higher k. Indeed, we observed that an optimal k > 4 increased test R2 minimally compared to the next best smaller k, while increasing train R2 significantly (Figure S4B). In each session where k > 4, we also observed at least one low quality cluster with no silhouette scores exceeding the average across clusters. This indicated to us that k > 4 was rarely, if ever, appropriate to capture SM network-wide spatial firing patterns, so we selected it max_k = 4 going forward."
   ]
  },
  {
   "cell_type": "markdown",
   "id": "fe7f323b",
   "metadata": {},
   "source": [
    "# Optimize K-Means k parameter for each session (k = 1 - 4) or load results of k optimization code if run previously. "
   ]
  },
  {
   "cell_type": "code",
   "execution_count": null,
   "id": "d0480ab3",
   "metadata": {},
   "outputs": [],
   "source": [
    "''' K Hyperparameter Selection (k = 1-4); plot Figure S4A & S4C along the way\n",
    "\n",
    "Y_unwrapped: matrix of shape m, n; m = n_trials & n = (nposbins * ncells)\n",
    "W: first factor matrix. Has shape (m, rank) or n_trials, n_clusters (i.e. [0, 1] if map 1 and [1, 0] if map 0)\n",
    "H: second factor matrix. Has shape (rank, n) or n_clusters, n_obs\n",
    "\n",
    "Run time is about 5 - 15 minutes per session.\n",
    "\n",
    "'''\n",
    "possible_k = np.arange(2, 5, 1)\n",
    "extended_k = np.arange(1,5,1)\n",
    "colors = ['xkcd:pink','xkcd:blue','xkcd:orchid','xkcd:azure']\n",
    "n_reps = 10 \n",
    "alpha = 0.05\n",
    "\n",
    "save_folder = 'C:/Users/Python/Desktop/LocalData/spatialcellssm/kmeans/' # adjust path\n",
    "\n",
    "# if you want to visualize the quality of k selection for all sessions vs. just the examples in Figure S4A & C:\n",
    "#example_mice = mice\n",
    "#example_sessions = sessions\n",
    "\n",
    "# if you want to visualize the quality of k selection for only the example sessions in Figure S4A & C\n",
    "example_mice = ['Y23', 'Y20', 'Y22', 'A16']\n",
    "example_sessions = ['092722_record3','090222_record4']\n",
    "\n",
    "for m, session in zip(mice, sessions):\n",
    "    for s in tdqm(session):\n",
    "        d = data[m][s]\n",
    "                \n",
    "        rawdata_file = 'RAW_' + m + '_' + s + '.npy'\n",
    "        raw = np.load(load_folder + rawdata_file, allow_pickle=True)\n",
    "        cell_IDs = raw.item().get('cellsfil')\n",
    "        gridcell = d['gridcell'].astype(bool)\n",
    "        gridcells = cell_IDs[gridcell]     \n",
    "        \n",
    "        if len(gridcells) >= 10: \n",
    "            \n",
    "            Y = d['FRtensorbacksorted'].copy()\n",
    "            Y = Y.transpose(0, 2, 1)\n",
    "            Y_unwrapped = np.reshape(Y, (Y.shape[0], -1))\n",
    "            \n",
    "            #Run k-means ten times and choose the k that most frequently most often maximizes the average silhouette score \n",
    "            silhouette_avgs = np.zeros((n_reps, len(possible_k)))\n",
    "            for p in range(n_reps):\n",
    "                sil_avgs = []\n",
    "                for n in possible_k:     \n",
    "                    # fit model and get params\n",
    "                    model_kmeans = lvl_kmeans(n_components = n, n_restarts = 100)\n",
    "                    model_kmeans.fit(Y_unwrapped)\n",
    "                    W, _ = model_kmeans.factors\n",
    "                    labels = []\n",
    "                    for t in range(W.shape[0]):\n",
    "                        mapid = np.where(W[t,:] == 1)[0]\n",
    "                        labels = np.append(labels, mapid)\n",
    "                    sil_avgs = np.append(sil_avgs, silhouette_score(Y_unwrapped, labels))\n",
    "                silhouette_avgs[p,:] = sil_avgs\n",
    "            \n",
    "            #compare test R^2 vs. shuffle for k = 1-4\n",
    "            # Run cross-validated k-means with speckled holdout pattern.\n",
    "            km_train_scores = np.ones((4, n_reps))\n",
    "            km_test_scores = np.ones((4, n_reps))\n",
    "\n",
    "            for i, rank in enumerate(tdqm(extended_k)):\n",
    "                model = lvl_kmeans(n_components=rank, n_restarts=100, maxiter=1000)\n",
    "                km_train_scores[i], km_test_scores[i] = \\\n",
    "                    speckled_cv_scores(model, Y_unwrapped, n_repeats=n_reps)\n",
    "\n",
    "            # Run cross-validated k-means on shuffled/resampled dataset.\n",
    "            shuff_km_train_scores = np.ones((4, n_reps))\n",
    "            shuff_km_test_scores = np.ones((4, n_reps))\n",
    "\n",
    "            for i, rank in enumerate(tdqm(extended_k)):\n",
    "                model = lvl_kmeans(n_components=rank, n_restarts=100, maxiter=1000)\n",
    "                shuff_km_train_scores[i], shuff_km_test_scores[i] = \\\n",
    "                    speckled_cv_scores(model, Y_unwrapped, n_repeats=n_reps, resampler=RotationResampler())\n",
    "            \n",
    "            #Select optimal k, run KMeans with that k & store results, & plot to confirm quality of results\n",
    "            if m in SM_aged_mice:\n",
    "                col = 'C1'\n",
    "            elif m in SM_MA_mice:\n",
    "                col = 'C2'\n",
    "            else:\n",
    "                col = 'C0'\n",
    "                \n",
    "            SilN = possible_k[np.argmax(np.mean(silhouette_avgs, axis = 0))]\n",
    "            print(stats.sem(silhouette_avgs, axis = 0))\n",
    "            model_kmeans = lvl_kmeans(n_components = SilN, n_restarts = 100)\n",
    "            model_kmeans.fit(Y_unwrapped)\n",
    "            W, H = model_kmeans.factors\n",
    "            Y_hat = model_kmeans.predict()\n",
    "            score = model_kmeans.score(Y_unwrapped)\n",
    "            d['kmeans'] = {}\n",
    "            d['kmeans']['SilN'] = SilN\n",
    "            d['kmeans']['W'] = W\n",
    "            d['kmeans']['H'] = H\n",
    "            d['kmeans']['Y_hat'] = Y_hat \n",
    "            d['kmeans']['Y_hat'] = Y_hat \n",
    "            d['kmeans']['score'] = score\n",
    "            \n",
    "            #save selected SilN (optimal k value)\n",
    "            SilN_file = 'SilN_' + m + '_' + s + '.npy'\n",
    "            np.save(save_folder + SilN_file, SilN)\n",
    "            \n",
    "            #check & save whether if sig difference in the distribution of test R^2 real vs. shuffle data at optimal k:\n",
    "            chosenkidx = np.where(extended_k == SilN)[0]\n",
    "            res = stats.wilcoxon(km_test_scores[chosenkidx,:][0], shuff_km_test_scores[chosenkidx,:][0], alternative = 'greater')\n",
    "            onemap = []\n",
    "            if res.pvalue <= alpha:\n",
    "                print('outperforms shuffle at optimal k = ' + str(SilN))\n",
    "                print('stat = ' + str(np.round(res.statistic,2)) + ', p= ' + str(np.round(res.pvalue, 4)))\n",
    "                onemap = np.append(onemap, [False, res.statistic, res.pvalue])\n",
    "            else:\n",
    "                print('does not outperform shuffle, probable one map session')\n",
    "                print('stat = ' + str(np.round(res.statistic,2)) + ', p= ' + str(np.round(res.pvalue, 4)))\n",
    "                onemap = np.append(onemap, [True, res.statistic, res.pvalue])\n",
    "\n",
    "            #save boolean of whether the session was fit well by k > 1 (onemap = False)\n",
    "            d['kmeans']['onemap'] = onemap\n",
    "            onemapfile = 'onemap' + m + '_' + s + '.npy'\n",
    "            np.save(save_folder + onemapfile, onemap)\n",
    "            \n",
    "            #get map labels & silhouette scores for samples & on average\n",
    "            labels = []\n",
    "            for t in range(W.shape[0]):\n",
    "                mapid = np.where(W[t,:] == 1)[0]\n",
    "                labels = np.append(labels, mapid)\n",
    "            silhouette_avg = silhouette_score(Y_unwrapped, labels)\n",
    "            samp_sil = silhouette_samples(Y_unwrapped, labels)\n",
    "\n",
    "            ##SHOW GOODNESS OF CHOSEN as in Figures S4A & C\n",
    "            #Plot silhouette averages + SEM over ten reps. \n",
    "            \n",
    "            if (m in example_mice) and (s in example_sessions):\n",
    "\n",
    "                fig, ax = plt.subplots(2, 2, figsize = (2,2), sharey = False)\n",
    "                plt.subplots_adjust(hspace = 0.5, wspace = 0.5)\n",
    "                fig.suptitle(str(m) + '_' + str(s[-1]) + ', One Map = ' + str(onemap[0].astype(bool)) + ', Optimal k = ' + str(SilN), color = col, fontsize = 10)\n",
    "\n",
    "                #plot sparsely labeled sim matrix \n",
    "                sim = d['gridsimilaritybacksorted']\n",
    "                im = ax[0,0].imshow(sim, clim=[0, 1.0], aspect='auto', cmap='Greys', interpolation='none')\n",
    "                ax[0,0].tick_params(which='major', labelsize=8)\n",
    "                ax[0,0].set_ylabel('Trial Number', fontsize=9, labelpad=1)\n",
    "                ax[0,0].set_xlabel('Trial Number', fontsize=9, labelpad=1)\n",
    "                ax[0,0].set_yticks([])\n",
    "                ax[0,0].set_xticks([0, 90, 180])\n",
    "                ax[0,0].tick_params(labelsize = 8)\n",
    "\n",
    "                #plot test R^2 vs. shuffle\n",
    "                rax = np.tile(extended_k, (n_reps, 1)).T.ravel()\n",
    "                ax[0,1].plot(rax-.1, km_test_scores.ravel(), '.', color = col, label = 'Data');\n",
    "                ax[0,1].plot(rax+.1, shuff_km_test_scores.ravel(), '.k', label = 'Shuffle');\n",
    "                ax[0,1].set_xticks(extended_k, labels = None)\n",
    "                ax[0,1].set_ylabel(\"R**2\", fontsize = 9)\n",
    "                ax[0,1].set_xlabel('K', fontsize=9)\n",
    "                ax[0,1].set_yticks([])\n",
    "                #ax[0,1].legend(fontsize = 8)\n",
    "                ax[0,1].tick_params(labelsize = 8)\n",
    "\n",
    "                #plot of k selection criteria over n reps\n",
    "                ax[1,0].plot(possible_k, np.mean(silhouette_avgs, axis = 0), color = col)\n",
    "                ax[1,0].fill_between(possible_k, np.mean(silhouette_avgs, axis = 0) - stats.sem(silhouette_avgs, axis = 0),\n",
    "                                   np.mean(silhouette_avgs, axis = 0) + stats.sem(silhouette_avgs, axis = 0), facecolor = col, alpha = 0.2)\n",
    "                ax[1,0].scatter(SilN, np.max(np.mean(silhouette_avgs, axis = 0)), color = 'k', marker = 'x')\n",
    "                ax[1,0].set_xlim([2,4])\n",
    "                ax[1,0].set_xticks(possible_k, labels = None)\n",
    "                ax[1,0].set_yticks([])\n",
    "                ax[1,0].set_ylabel('Avg. Sil Score', fontsize=9)\n",
    "                ax[1,0].set_xlabel('K', fontsize=9)\n",
    "                ax[1,0].tick_params(labelsize = 8)\n",
    "\n",
    "                #plot of k selection criteria over n reps\n",
    "                ax[1,1].set_xlim([-0.2, 1.0])\n",
    "                ax[1,1].set_ylim([0, len(Y_unwrapped) + (SilN + 1) * 10])\n",
    "                y_lower = 10\n",
    "                for i in range(SilN):\n",
    "                    ith_cluster_silhouette_values = samp_sil[labels == i]\n",
    "                    ith_cluster_silhouette_values.sort()\n",
    "                    size_cluster_i = ith_cluster_silhouette_values.shape[0]\n",
    "                    y_upper = y_lower + size_cluster_i\n",
    "                    color = colors[i]\n",
    "                    ax[1,1].fill_betweenx(np.arange(y_lower, y_upper),0,\n",
    "                        ith_cluster_silhouette_values,facecolor=color,edgecolor=color,alpha=0.7)\n",
    "                    #ax[1,1].text(-0.05, y_lower + 0.5 * size_cluster_i, str(i))\n",
    "                    y_lower = y_upper + 10  # 10 for the 0 samples\n",
    "                ax[1,1].set_xlabel(\"Silhouette Score\", fontsize = 9)\n",
    "                ax[1,1].set_ylabel(\"Cluster\", fontsize = 9)\n",
    "                ax[1,1].axvline(x=silhouette_avg, color = \"k\", linestyle=\"--\")\n",
    "                ax[1,1].set_yticks([]) \n",
    "                ax[1,1].set_xticks([-0.2, 0.2, 0.6, 1.0])\n",
    "                ax[1,1].tick_params(labelsize = 8)\n",
    "\n",
    "                #plt.tight_layout()\n",
    "                #plt.savefig(save_folder + m + '_' + s + '_chosenk.png', dpi=400, bbox_inches='tight')\n",
    "                #plt.savefig(save_folder + m + '_' + s + '_chosenk.svg', dpi=400, bbox_inches='tight')\n",
    "                plt.show()"
   ]
  },
  {
   "cell_type": "code",
   "execution_count": 46,
   "id": "4e72e047",
   "metadata": {},
   "outputs": [
    {
     "data": {
      "application/vnd.jupyter.widget-view+json": {
       "model_id": "be14eb31d5564cddb435bf5c098309d3",
       "version_major": 2,
       "version_minor": 0
      },
      "text/plain": [
       "  0%|          | 0/3 [00:00<?, ?it/s]"
      ]
     },
     "metadata": {},
     "output_type": "display_data"
    },
    {
     "data": {
      "application/vnd.jupyter.widget-view+json": {
       "model_id": "f70cfee9bf57449080dfb973819b32f4",
       "version_major": 2,
       "version_minor": 0
      },
      "text/plain": [
       "  0%|          | 0/6 [00:00<?, ?it/s]"
      ]
     },
     "metadata": {},
     "output_type": "display_data"
    },
    {
     "data": {
      "application/vnd.jupyter.widget-view+json": {
       "model_id": "2422c6177b1e406ab3a8816ed10f6e4e",
       "version_major": 2,
       "version_minor": 0
      },
      "text/plain": [
       "  0%|          | 0/4 [00:00<?, ?it/s]"
      ]
     },
     "metadata": {},
     "output_type": "display_data"
    },
    {
     "data": {
      "application/vnd.jupyter.widget-view+json": {
       "model_id": "b6e1f04d11fc4a1c923de01fe0ccc72f",
       "version_major": 2,
       "version_minor": 0
      },
      "text/plain": [
       "  0%|          | 0/4 [00:00<?, ?it/s]"
      ]
     },
     "metadata": {},
     "output_type": "display_data"
    },
    {
     "data": {
      "application/vnd.jupyter.widget-view+json": {
       "model_id": "56124a44f0e642de9830b747c64bb8f2",
       "version_major": 2,
       "version_minor": 0
      },
      "text/plain": [
       "  0%|          | 0/4 [00:00<?, ?it/s]"
      ]
     },
     "metadata": {},
     "output_type": "display_data"
    },
    {
     "name": "stdout",
     "output_type": "stream",
     "text": [
      "does not outperform shuffle, probable one map session\n",
      "stat = 22.0, p= 0.7217\n"
     ]
    },
    {
     "data": {
      "image/png": "[encoded data removed]",
      "text/plain": [
       "<Figure size 200x200 with 4 Axes>"
      ]
     },
     "metadata": {},
     "output_type": "display_data"
    },
    {
     "data": {
      "application/vnd.jupyter.widget-view+json": {
       "model_id": "7e0df388ce3d43e792d159235f1b7e6b",
       "version_major": 2,
       "version_minor": 0
      },
      "text/plain": [
       "  0%|          | 0/6 [00:00<?, ?it/s]"
      ]
     },
     "metadata": {},
     "output_type": "display_data"
    },
    {
     "data": {
      "application/vnd.jupyter.widget-view+json": {
       "model_id": "e766df95adba4bf79c4d33e256cd065f",
       "version_major": 2,
       "version_minor": 0
      },
      "text/plain": [
       "  0%|          | 0/6 [00:00<?, ?it/s]"
      ]
     },
     "metadata": {},
     "output_type": "display_data"
    },
    {
     "data": {
      "application/vnd.jupyter.widget-view+json": {
       "model_id": "2f8a6ea0cb2847ac89c03f57010fc3c1",
       "version_major": 2,
       "version_minor": 0
      },
      "text/plain": [
       "  0%|          | 0/6 [00:00<?, ?it/s]"
      ]
     },
     "metadata": {},
     "output_type": "display_data"
    },
    {
     "data": {
      "application/vnd.jupyter.widget-view+json": {
       "model_id": "0ea2afa6dd15480d956a0336be7e3ef7",
       "version_major": 2,
       "version_minor": 0
      },
      "text/plain": [
       "  0%|          | 0/6 [00:00<?, ?it/s]"
      ]
     },
     "metadata": {},
     "output_type": "display_data"
    },
    {
     "data": {
      "application/vnd.jupyter.widget-view+json": {
       "model_id": "3f54ecdf71d94472b7dfc17bd3c0cf3c",
       "version_major": 2,
       "version_minor": 0
      },
      "text/plain": [
       "  0%|          | 0/6 [00:00<?, ?it/s]"
      ]
     },
     "metadata": {},
     "output_type": "display_data"
    },
    {
     "data": {
      "application/vnd.jupyter.widget-view+json": {
       "model_id": "7db3b10dc37843e590fc02d8587ff19c",
       "version_major": 2,
       "version_minor": 0
      },
      "text/plain": [
       "  0%|          | 0/6 [00:00<?, ?it/s]"
      ]
     },
     "metadata": {},
     "output_type": "display_data"
    },
    {
     "data": {
      "application/vnd.jupyter.widget-view+json": {
       "model_id": "be219e637274402b81e8286abbefa51d",
       "version_major": 2,
       "version_minor": 0
      },
      "text/plain": [
       "  0%|          | 0/6 [00:00<?, ?it/s]"
      ]
     },
     "metadata": {},
     "output_type": "display_data"
    },
    {
     "data": {
      "application/vnd.jupyter.widget-view+json": {
       "model_id": "09c562aa672d4830b62734da3a38a658",
       "version_major": 2,
       "version_minor": 0
      },
      "text/plain": [
       "  0%|          | 0/6 [00:00<?, ?it/s]"
      ]
     },
     "metadata": {},
     "output_type": "display_data"
    },
    {
     "data": {
      "application/vnd.jupyter.widget-view+json": {
       "model_id": "72936fc3505e4fb7aa3fb2886b681cb5",
       "version_major": 2,
       "version_minor": 0
      },
      "text/plain": [
       "  0%|          | 0/6 [00:00<?, ?it/s]"
      ]
     },
     "metadata": {},
     "output_type": "display_data"
    },
    {
     "data": {
      "application/vnd.jupyter.widget-view+json": {
       "model_id": "584e28db396a40df850b6c3b884223f3",
       "version_major": 2,
       "version_minor": 0
      },
      "text/plain": [
       "  0%|          | 0/6 [00:00<?, ?it/s]"
      ]
     },
     "metadata": {},
     "output_type": "display_data"
    },
    {
     "data": {
      "application/vnd.jupyter.widget-view+json": {
       "model_id": "605d0962db61406d99bf874020f2514f",
       "version_major": 2,
       "version_minor": 0
      },
      "text/plain": [
       "  0%|          | 0/6 [00:00<?, ?it/s]"
      ]
     },
     "metadata": {},
     "output_type": "display_data"
    },
    {
     "data": {
      "application/vnd.jupyter.widget-view+json": {
       "model_id": "86c36977877e4e39bc7a15f573cc55e5",
       "version_major": 2,
       "version_minor": 0
      },
      "text/plain": [
       "  0%|          | 0/6 [00:00<?, ?it/s]"
      ]
     },
     "metadata": {},
     "output_type": "display_data"
    },
    {
     "data": {
      "application/vnd.jupyter.widget-view+json": {
       "model_id": "cbdb914f60e84b1ba6235bc8d46896fa",
       "version_major": 2,
       "version_minor": 0
      },
      "text/plain": [
       "  0%|          | 0/6 [00:00<?, ?it/s]"
      ]
     },
     "metadata": {},
     "output_type": "display_data"
    },
    {
     "data": {
      "application/vnd.jupyter.widget-view+json": {
       "model_id": "fd0d9b12ab574ad6872091f50185a1f7",
       "version_major": 2,
       "version_minor": 0
      },
      "text/plain": [
       "  0%|          | 0/6 [00:00<?, ?it/s]"
      ]
     },
     "metadata": {},
     "output_type": "display_data"
    },
    {
     "data": {
      "application/vnd.jupyter.widget-view+json": {
       "model_id": "eb114897b47749618d03f1a4a728406d",
       "version_major": 2,
       "version_minor": 0
      },
      "text/plain": [
       "  0%|          | 0/4 [00:00<?, ?it/s]"
      ]
     },
     "metadata": {},
     "output_type": "display_data"
    },
    {
     "data": {
      "application/vnd.jupyter.widget-view+json": {
       "model_id": "514d99564aaf4254bb793749ad3f0fdc",
       "version_major": 2,
       "version_minor": 0
      },
      "text/plain": [
       "  0%|          | 0/6 [00:00<?, ?it/s]"
      ]
     },
     "metadata": {},
     "output_type": "display_data"
    },
    {
     "data": {
      "application/vnd.jupyter.widget-view+json": {
       "model_id": "08cd31b72abf4dfaa6e201ca78f3cc8a",
       "version_major": 2,
       "version_minor": 0
      },
      "text/plain": [
       "  0%|          | 0/6 [00:00<?, ?it/s]"
      ]
     },
     "metadata": {},
     "output_type": "display_data"
    },
    {
     "data": {
      "application/vnd.jupyter.widget-view+json": {
       "model_id": "50378b695f94471991c2bbfce99d718c",
       "version_major": 2,
       "version_minor": 0
      },
      "text/plain": [
       "  0%|          | 0/6 [00:00<?, ?it/s]"
      ]
     },
     "metadata": {},
     "output_type": "display_data"
    },
    {
     "data": {
      "application/vnd.jupyter.widget-view+json": {
       "model_id": "6b98c48a0857409a88c8246028baaa76",
       "version_major": 2,
       "version_minor": 0
      },
      "text/plain": [
       "  0%|          | 0/4 [00:00<?, ?it/s]"
      ]
     },
     "metadata": {},
     "output_type": "display_data"
    },
    {
     "data": {
      "application/vnd.jupyter.widget-view+json": {
       "model_id": "aba989ca5fd44c6d8d4c738ffd0bbdc4",
       "version_major": 2,
       "version_minor": 0
      },
      "text/plain": [
       "  0%|          | 0/4 [00:00<?, ?it/s]"
      ]
     },
     "metadata": {},
     "output_type": "display_data"
    },
    {
     "name": "stdout",
     "output_type": "stream",
     "text": [
      "outperforms shuffle at optimal k = 3\n",
      "stat = 55.0, p= 0.001\n"
     ]
    },
    {
     "data": {
      "image/png": "[encoded data removed]",
      "text/plain": [
       "<Figure size 200x200 with 4 Axes>"
      ]
     },
     "metadata": {},
     "output_type": "display_data"
    },
    {
     "data": {
      "application/vnd.jupyter.widget-view+json": {
       "model_id": "8c8549ec05c54af283d7c55765a28a8e",
       "version_major": 2,
       "version_minor": 0
      },
      "text/plain": [
       "  0%|          | 0/6 [00:00<?, ?it/s]"
      ]
     },
     "metadata": {},
     "output_type": "display_data"
    },
    {
     "data": {
      "application/vnd.jupyter.widget-view+json": {
       "model_id": "cd0ce2eda0534330a1e4b24f57376264",
       "version_major": 2,
       "version_minor": 0
      },
      "text/plain": [
       "  0%|          | 0/6 [00:00<?, ?it/s]"
      ]
     },
     "metadata": {},
     "output_type": "display_data"
    },
    {
     "data": {
      "application/vnd.jupyter.widget-view+json": {
       "model_id": "d0567701ec0c4c9f968867e7af463d86",
       "version_major": 2,
       "version_minor": 0
      },
      "text/plain": [
       "  0%|          | 0/4 [00:00<?, ?it/s]"
      ]
     },
     "metadata": {},
     "output_type": "display_data"
    },
    {
     "data": {
      "application/vnd.jupyter.widget-view+json": {
       "model_id": "326ca1c8b89f4051803d4181e5976aa1",
       "version_major": 2,
       "version_minor": 0
      },
      "text/plain": [
       "  0%|          | 0/4 [00:00<?, ?it/s]"
      ]
     },
     "metadata": {},
     "output_type": "display_data"
    },
    {
     "name": "stdout",
     "output_type": "stream",
     "text": [
      "outperforms shuffle at optimal k = 4\n",
      "stat = 55.0, p= 0.001\n"
     ]
    },
    {
     "data": {
      "image/png": "[encoded data removed]",
      "text/plain": [
       "<Figure size 200x200 with 4 Axes>"
      ]
     },
     "metadata": {},
     "output_type": "display_data"
    },
    {
     "data": {
      "application/vnd.jupyter.widget-view+json": {
       "model_id": "0b18acf60f984548a067225c13d93ac7",
       "version_major": 2,
       "version_minor": 0
      },
      "text/plain": [
       "  0%|          | 0/6 [00:00<?, ?it/s]"
      ]
     },
     "metadata": {},
     "output_type": "display_data"
    },
    {
     "data": {
      "application/vnd.jupyter.widget-view+json": {
       "model_id": "e7c9014964524f72abe69f4196c603dc",
       "version_major": 2,
       "version_minor": 0
      },
      "text/plain": [
       "  0%|          | 0/4 [00:00<?, ?it/s]"
      ]
     },
     "metadata": {},
     "output_type": "display_data"
    },
    {
     "data": {
      "application/vnd.jupyter.widget-view+json": {
       "model_id": "b35a0fb78bcd4f24bc072b4f93122c55",
       "version_major": 2,
       "version_minor": 0
      },
      "text/plain": [
       "  0%|          | 0/4 [00:00<?, ?it/s]"
      ]
     },
     "metadata": {},
     "output_type": "display_data"
    },
    {
     "name": "stdout",
     "output_type": "stream",
     "text": [
      "outperforms shuffle at optimal k = 2\n",
      "stat = 55.0, p= 0.001\n"
     ]
    },
    {
     "data": {
      "image/png": "[encoded data removed]",
      "text/plain": [
       "<Figure size 200x200 with 4 Axes>"
      ]
     },
     "metadata": {},
     "output_type": "display_data"
    },
    {
     "data": {
      "application/vnd.jupyter.widget-view+json": {
       "model_id": "7d535cccb8b54da1b2a7164ea16d611b",
       "version_major": 2,
       "version_minor": 0
      },
      "text/plain": [
       "  0%|          | 0/6 [00:00<?, ?it/s]"
      ]
     },
     "metadata": {},
     "output_type": "display_data"
    },
    {
     "data": {
      "application/vnd.jupyter.widget-view+json": {
       "model_id": "85490443a6b54e72ab33753ceac4338e",
       "version_major": 2,
       "version_minor": 0
      },
      "text/plain": [
       "  0%|          | 0/6 [00:00<?, ?it/s]"
      ]
     },
     "metadata": {},
     "output_type": "display_data"
    },
    {
     "data": {
      "application/vnd.jupyter.widget-view+json": {
       "model_id": "06541a54110f44338a31e7bab44fffed",
       "version_major": 2,
       "version_minor": 0
      },
      "text/plain": [
       "  0%|          | 0/6 [00:00<?, ?it/s]"
      ]
     },
     "metadata": {},
     "output_type": "display_data"
    },
    {
     "data": {
      "application/vnd.jupyter.widget-view+json": {
       "model_id": "b53edf519c5e4f6492a6c786f2b67539",
       "version_major": 2,
       "version_minor": 0
      },
      "text/plain": [
       "  0%|          | 0/6 [00:00<?, ?it/s]"
      ]
     },
     "metadata": {},
     "output_type": "display_data"
    },
    {
     "data": {
      "application/vnd.jupyter.widget-view+json": {
       "model_id": "364e0451640c4fb8baf349537391643c",
       "version_major": 2,
       "version_minor": 0
      },
      "text/plain": [
       "  0%|          | 0/6 [00:00<?, ?it/s]"
      ]
     },
     "metadata": {},
     "output_type": "display_data"
    }
   ],
   "source": [
    "''' If you skipped the cell above, only plot Figure S4A & S4C examples. \n",
    "\n",
    "Y_unwrapped: matrix of shape m, n; m = n_trials & n = (nposbins * ncells)\n",
    "W: first factor matrix. Has shape (m, rank) or n_trials, n_clusters (i.e. [0, 1] if map 1 and [1, 0] if map 0)\n",
    "H: second factor matrix. Has shape (rank, n) or n_clusters, n_obs\n",
    "\n",
    "Run time is about 5 - 15 minutes per session.\n",
    "\n",
    "'''\n",
    "possible_k = np.arange(2, 5, 1)\n",
    "extended_k = np.arange(1,5,1)\n",
    "colors = ['xkcd:pink','xkcd:blue','xkcd:orchid','xkcd:azure']\n",
    "n_reps = 10 \n",
    "alpha = 0.05\n",
    "\n",
    "save_folder = 'C:/Users/Python/Desktop/LocalData/spatialcellssm/kmeans/' # adjust path\n",
    "\n",
    "# if you want to visualize the quality of k selection for all sessions vs. just the examples in Figure S4A & C:\n",
    "#example_mice = mice\n",
    "#example_sessions = sessions\n",
    "\n",
    "# if you want to visualize the quality of k selection for only the example sessions in Figure S4A & C\n",
    "example_mice = ['Y23', 'Y20', 'Y22', 'A16']\n",
    "example_sessions = ['092722_record3','090222_record4']\n",
    "\n",
    "for m, session in zip(mice, sessions):\n",
    "    for s in tdqm(session):\n",
    "        d = data[m][s]\n",
    "                \n",
    "        rawdata_file = 'RAW_' + m + '_' + s + '.npy'\n",
    "        raw = np.load(load_folder + rawdata_file, allow_pickle=True)\n",
    "        cell_IDs = raw.item().get('cellsfil')\n",
    "        gridcell = d['gridcell'].astype(bool)\n",
    "        gridcells = cell_IDs[gridcell]     \n",
    "        \n",
    "        if (len(gridcells) >= 10) and (m in example_mice) and (s in example_sessions):\n",
    "            \n",
    "            Y = d['FRtensorbacksorted'].copy()\n",
    "            Y = Y.transpose(0, 2, 1)\n",
    "            Y_unwrapped = np.reshape(Y, (Y.shape[0], -1))\n",
    "            \n",
    "            #Run k-means ten times and choose the k that most frequently most often maximizes the average silhouette score \n",
    "            silhouette_avgs = np.zeros((n_reps, len(possible_k)))\n",
    "            for p in range(n_reps):\n",
    "                sil_avgs = []\n",
    "                for n in possible_k:     \n",
    "                    # fit model and get params\n",
    "                    model_kmeans = lvl_kmeans(n_components = n, n_restarts = 100)\n",
    "                    model_kmeans.fit(Y_unwrapped)\n",
    "                    W, _ = model_kmeans.factors\n",
    "                    labels = []\n",
    "                    for t in range(W.shape[0]):\n",
    "                        mapid = np.where(W[t,:] == 1)[0]\n",
    "                        labels = np.append(labels, mapid)\n",
    "                    sil_avgs = np.append(sil_avgs, silhouette_score(Y_unwrapped, labels))\n",
    "                silhouette_avgs[p,:] = sil_avgs\n",
    "            \n",
    "            #compare test R^2 vs. shuffle for k = 1-4\n",
    "            # Run cross-validated k-means with speckled holdout pattern.\n",
    "            km_train_scores = np.ones((4, n_reps))\n",
    "            km_test_scores = np.ones((4, n_reps))\n",
    "\n",
    "            for i, rank in enumerate(tdqm(extended_k)):\n",
    "                model = lvl_kmeans(n_components=rank, n_restarts=100, maxiter=1000)\n",
    "                km_train_scores[i], km_test_scores[i] = \\\n",
    "                    speckled_cv_scores(model, Y_unwrapped, n_repeats=n_reps)\n",
    "\n",
    "            # Run cross-validated k-means on shuffled/resampled dataset.\n",
    "            shuff_km_train_scores = np.ones((4, n_reps))\n",
    "            shuff_km_test_scores = np.ones((4, n_reps))\n",
    "\n",
    "            for i, rank in enumerate(tdqm(extended_k)):\n",
    "                model = lvl_kmeans(n_components=rank, n_restarts=100, maxiter=1000)\n",
    "                shuff_km_train_scores[i], shuff_km_test_scores[i] = \\\n",
    "                    speckled_cv_scores(model, Y_unwrapped, n_repeats=n_reps, resampler=RotationResampler())\n",
    "            \n",
    "            #Select optimal k, run KMeans with that k & store results, & plot to confirm quality of results\n",
    "            if m in SM_aged_mice:\n",
    "                col = 'C1'\n",
    "            elif m in SM_MA_mice:\n",
    "                col = 'C2'\n",
    "            else:\n",
    "                col = 'C0'\n",
    "            \n",
    "            SilN = possible_k[np.argmax(np.mean(silhouette_avgs, axis = 0))]\n",
    "            model_kmeans = lvl_kmeans(n_components = SilN, n_restarts = 100)\n",
    "            model_kmeans.fit(Y_unwrapped)\n",
    "            W, H = model_kmeans.factors\n",
    "            Y_hat = model_kmeans.predict()\n",
    "            score = model_kmeans.score(Y_unwrapped)\n",
    "            d['kmeans'] = {}\n",
    "            d['kmeans']['SilN'] = SilN\n",
    "            d['kmeans']['W'] = W\n",
    "            d['kmeans']['H'] = H\n",
    "            d['kmeans']['Y_hat'] = Y_hat \n",
    "            d['kmeans']['Y_hat'] = Y_hat \n",
    "            d['kmeans']['score'] = score\n",
    "            \n",
    "            #check & save whether if sig difference in the distribution of test R^2 real vs. shuffle data at optimal k:\n",
    "            chosenkidx = np.where(extended_k == SilN)[0]\n",
    "            res = stats.wilcoxon(km_test_scores[chosenkidx,:][0], shuff_km_test_scores[chosenkidx,:][0], alternative = 'greater')\n",
    "            onemap = []\n",
    "            if res.pvalue <= alpha:\n",
    "                print('outperforms shuffle at optimal k = ' + str(SilN))\n",
    "                print('stat = ' + str(np.round(res.statistic,2)) + ', p= ' + str(np.round(res.pvalue, 4)))\n",
    "                onemap = np.append(onemap, [False, res.statistic, res.pvalue])\n",
    "            else:\n",
    "                print('does not outperform shuffle, probable one map session')\n",
    "                print('stat = ' + str(np.round(res.statistic,2)) + ', p= ' + str(np.round(res.pvalue, 4)))\n",
    "                onemap = np.append(onemap, [True, res.statistic, res.pvalue])\n",
    "\n",
    "            #save boolean of whether the session was fit well by k > 1 (onemap = False)\n",
    "            d['kmeans']['onemap'] = onemap\n",
    "            #onemapfile = 'onemap' + m + '_' + s + '.npy'\n",
    "            #np.save(save_folder + onemapfile, onemap)\n",
    "            \n",
    "            #get map labels & silhouette scores for samples & on average\n",
    "            labels = []\n",
    "            for t in range(W.shape[0]):\n",
    "                mapid = np.where(W[t,:] == 1)[0]\n",
    "                labels = np.append(labels, mapid)\n",
    "            silhouette_avg = silhouette_score(Y_unwrapped, labels)\n",
    "            samp_sil = silhouette_samples(Y_unwrapped, labels)\n",
    "\n",
    "            ##SHOW GOODNESS OF CHOSEN as in Figures S4A & C\n",
    "            #Plot silhouette averages + SEM over ten reps. \n",
    "            \n",
    "            fig, ax = plt.subplots(2, 2, figsize = (2,2), sharey = False)\n",
    "            plt.subplots_adjust(hspace = 0.5, wspace = 0.5)\n",
    "            fig.suptitle(str(m) + '_' + str(s[-1]) + ', One Map = ' + str(onemap[0].astype(bool)) + ', Optimal k = ' + str(SilN), color = col, fontsize = 10)\n",
    "\n",
    "            #plot sparsely labeled sim matrix \n",
    "            sim = d['gridsimilaritybacksorted']\n",
    "            im = ax[0,0].imshow(sim, clim=[0, 1.0], aspect='auto', cmap='Greys', interpolation='none')\n",
    "            ax[0,0].tick_params(which='major', labelsize=8)\n",
    "            ax[0,0].set_ylabel('Trial Number', fontsize=9, labelpad=1)\n",
    "            ax[0,0].set_xlabel('Trial Number', fontsize=9, labelpad=1)\n",
    "            ax[0,0].set_yticks([])\n",
    "            ax[0,0].set_xticks([0, 90, 180])\n",
    "            ax[0,0].tick_params(labelsize = 8)\n",
    "\n",
    "            #plot test R^2 vs. shuffle\n",
    "            rax = np.tile(extended_k, (n_reps, 1)).T.ravel()\n",
    "            ax[0,1].plot(rax-.1, km_test_scores.ravel(), '.', color = col, label = 'Data');\n",
    "            ax[0,1].plot(rax+.1, shuff_km_test_scores.ravel(), '.k', label = 'Shuffle');\n",
    "            ax[0,1].set_xticks(extended_k, labels = None)\n",
    "            ax[0,1].set_ylabel(\"R**2\", fontsize = 9)\n",
    "            ax[0,1].set_xlabel('K', fontsize=9, labelpad = 1)\n",
    "            ax[0,1].set_yticks([])\n",
    "            #ax[0,1].legend(fontsize = 8)\n",
    "            ax[0,1].tick_params(labelsize = 8)\n",
    "\n",
    "            #plot of k selection criteria over n reps\n",
    "            ax[1,0].plot(possible_k, np.mean(silhouette_avgs, axis = 0), color = col)\n",
    "            ax[1,0].fill_between(possible_k, np.mean(silhouette_avgs, axis = 0) - stats.sem(silhouette_avgs, axis = 0),\n",
    "                               np.mean(silhouette_avgs, axis = 0) + stats.sem(silhouette_avgs, axis = 0), facecolor = col, alpha = 0.2)\n",
    "            ax[1,0].scatter(SilN, np.max(np.mean(silhouette_avgs, axis = 0)), color = 'k', marker = 'x')\n",
    "            ax[1,0].set_xlim([2,4])\n",
    "            ax[1,0].set_xticks(possible_k, labels = None)\n",
    "            ax[1,0].set_yticks([])\n",
    "            ax[1,0].set_ylabel('Avg. Sil Score', fontsize=9)\n",
    "            ax[1,0].set_xlabel('K', fontsize=9)\n",
    "            ax[1,0].tick_params(labelsize = 8)\n",
    "\n",
    "            #plot of k selection criteria over n reps\n",
    "            ax[1,1].set_xlim([-0.2, 1.0])\n",
    "            ax[1,1].set_ylim([0, len(Y_unwrapped) + (SilN + 1) * 10])\n",
    "            y_lower = 10\n",
    "            for i in range(SilN):\n",
    "                ith_cluster_silhouette_values = samp_sil[labels == i]\n",
    "                ith_cluster_silhouette_values.sort()\n",
    "                size_cluster_i = ith_cluster_silhouette_values.shape[0]\n",
    "                y_upper = y_lower + size_cluster_i\n",
    "                color = colors[i]\n",
    "                ax[1,1].fill_betweenx(np.arange(y_lower, y_upper),0,\n",
    "                    ith_cluster_silhouette_values,facecolor=color,edgecolor=color,alpha=0.7)\n",
    "                #ax[1,1].text(-0.05, y_lower + 0.5 * size_cluster_i, str(i))\n",
    "                y_lower = y_upper + 10  # 10 for the 0 samples\n",
    "            ax[1,1].set_xlabel(\"Silhouette Score\", fontsize = 9)\n",
    "            ax[1,1].set_ylabel(\"Cluster\", fontsize = 9)\n",
    "            ax[1,1].axvline(x=silhouette_avg, color = \"k\", linestyle=\"--\")\n",
    "            ax[1,1].set_yticks([]) \n",
    "            ax[1,1].set_xticks([-0.2, 0.2, 0.6, 1.0])\n",
    "            ax[1,1].tick_params(labelsize = 8)\n",
    "\n",
    "            #plt.tight_layout()\n",
    "            #plt.savefig(save_folder + m + '_' + s + '_chosenk.png', dpi=400, bbox_inches='tight')\n",
    "            #plt.savefig(save_folder + m + '_' + s + '_chosenk.svg', dpi=400, bbox_inches='tight')\n",
    "            plt.show()"
   ]
  },
  {
   "cell_type": "code",
   "execution_count": 47,
   "id": "fee082ba",
   "metadata": {
    "scrolled": true
   },
   "outputs": [
    {
     "data": {
      "application/vnd.jupyter.widget-view+json": {
       "model_id": "a8051e50c8ed437dbeea3d4642b28195",
       "version_major": 2,
       "version_minor": 0
      },
      "text/plain": [
       "  0%|          | 0/3 [00:00<?, ?it/s]"
      ]
     },
     "metadata": {},
     "output_type": "display_data"
    },
    {
     "data": {
      "application/vnd.jupyter.widget-view+json": {
       "model_id": "e63498885956425c941d40b111f6f65f",
       "version_major": 2,
       "version_minor": 0
      },
      "text/plain": [
       "  0%|          | 0/6 [00:00<?, ?it/s]"
      ]
     },
     "metadata": {},
     "output_type": "display_data"
    },
    {
     "data": {
      "application/vnd.jupyter.widget-view+json": {
       "model_id": "db464a1c383441b8ae7eca42d299fef2",
       "version_major": 2,
       "version_minor": 0
      },
      "text/plain": [
       "  0%|          | 0/4 [00:00<?, ?it/s]"
      ]
     },
     "metadata": {},
     "output_type": "display_data"
    },
    {
     "data": {
      "application/vnd.jupyter.widget-view+json": {
       "model_id": "212e0a83c294407e94251322eef1003a",
       "version_major": 2,
       "version_minor": 0
      },
      "text/plain": [
       "  0%|          | 0/6 [00:00<?, ?it/s]"
      ]
     },
     "metadata": {},
     "output_type": "display_data"
    },
    {
     "data": {
      "application/vnd.jupyter.widget-view+json": {
       "model_id": "d14b32f4f94145359dad2e3a132907f4",
       "version_major": 2,
       "version_minor": 0
      },
      "text/plain": [
       "  0%|          | 0/6 [00:00<?, ?it/s]"
      ]
     },
     "metadata": {},
     "output_type": "display_data"
    },
    {
     "data": {
      "application/vnd.jupyter.widget-view+json": {
       "model_id": "04a7795429374406ba2b4b4cb5c4f015",
       "version_major": 2,
       "version_minor": 0
      },
      "text/plain": [
       "  0%|          | 0/6 [00:00<?, ?it/s]"
      ]
     },
     "metadata": {},
     "output_type": "display_data"
    },
    {
     "data": {
      "application/vnd.jupyter.widget-view+json": {
       "model_id": "b55a01b4ae9a4bdd962bd5a018c678f5",
       "version_major": 2,
       "version_minor": 0
      },
      "text/plain": [
       "  0%|          | 0/6 [00:00<?, ?it/s]"
      ]
     },
     "metadata": {},
     "output_type": "display_data"
    },
    {
     "data": {
      "application/vnd.jupyter.widget-view+json": {
       "model_id": "f2567696386f47bda8409644d1ba99cf",
       "version_major": 2,
       "version_minor": 0
      },
      "text/plain": [
       "  0%|          | 0/6 [00:00<?, ?it/s]"
      ]
     },
     "metadata": {},
     "output_type": "display_data"
    },
    {
     "data": {
      "application/vnd.jupyter.widget-view+json": {
       "model_id": "ee64d4bb3082443995616ab6bb9a2fc2",
       "version_major": 2,
       "version_minor": 0
      },
      "text/plain": [
       "  0%|          | 0/6 [00:00<?, ?it/s]"
      ]
     },
     "metadata": {},
     "output_type": "display_data"
    },
    {
     "data": {
      "application/vnd.jupyter.widget-view+json": {
       "model_id": "2ef8e58221f04adb8f9b59dc6627705e",
       "version_major": 2,
       "version_minor": 0
      },
      "text/plain": [
       "  0%|          | 0/6 [00:00<?, ?it/s]"
      ]
     },
     "metadata": {},
     "output_type": "display_data"
    },
    {
     "data": {
      "application/vnd.jupyter.widget-view+json": {
       "model_id": "16e6df1aebcf408cbd1700f4078344f7",
       "version_major": 2,
       "version_minor": 0
      },
      "text/plain": [
       "  0%|          | 0/6 [00:00<?, ?it/s]"
      ]
     },
     "metadata": {},
     "output_type": "display_data"
    },
    {
     "data": {
      "application/vnd.jupyter.widget-view+json": {
       "model_id": "b1f96a44be5247e6b10814846156082f",
       "version_major": 2,
       "version_minor": 0
      },
      "text/plain": [
       "  0%|          | 0/6 [00:00<?, ?it/s]"
      ]
     },
     "metadata": {},
     "output_type": "display_data"
    },
    {
     "data": {
      "application/vnd.jupyter.widget-view+json": {
       "model_id": "bfcce3bf3dde466fa65edbe5f3746d24",
       "version_major": 2,
       "version_minor": 0
      },
      "text/plain": [
       "  0%|          | 0/6 [00:00<?, ?it/s]"
      ]
     },
     "metadata": {},
     "output_type": "display_data"
    },
    {
     "data": {
      "application/vnd.jupyter.widget-view+json": {
       "model_id": "eaa76617e76d4c829cb884bc4f856f32",
       "version_major": 2,
       "version_minor": 0
      },
      "text/plain": [
       "  0%|          | 0/6 [00:00<?, ?it/s]"
      ]
     },
     "metadata": {},
     "output_type": "display_data"
    },
    {
     "data": {
      "application/vnd.jupyter.widget-view+json": {
       "model_id": "943254b15ec54a38b8138a5fde8db399",
       "version_major": 2,
       "version_minor": 0
      },
      "text/plain": [
       "  0%|          | 0/6 [00:00<?, ?it/s]"
      ]
     },
     "metadata": {},
     "output_type": "display_data"
    },
    {
     "data": {
      "application/vnd.jupyter.widget-view+json": {
       "model_id": "a5ae830057b84bbabb7560506ab7acac",
       "version_major": 2,
       "version_minor": 0
      },
      "text/plain": [
       "  0%|          | 0/6 [00:00<?, ?it/s]"
      ]
     },
     "metadata": {},
     "output_type": "display_data"
    },
    {
     "data": {
      "application/vnd.jupyter.widget-view+json": {
       "model_id": "97428b2265b34eefa3f6eab4bb13dd7d",
       "version_major": 2,
       "version_minor": 0
      },
      "text/plain": [
       "  0%|          | 0/6 [00:00<?, ?it/s]"
      ]
     },
     "metadata": {},
     "output_type": "display_data"
    },
    {
     "data": {
      "application/vnd.jupyter.widget-view+json": {
       "model_id": "30f56f45eda942d6b8a06ecea47d28a4",
       "version_major": 2,
       "version_minor": 0
      },
      "text/plain": [
       "  0%|          | 0/4 [00:00<?, ?it/s]"
      ]
     },
     "metadata": {},
     "output_type": "display_data"
    },
    {
     "data": {
      "application/vnd.jupyter.widget-view+json": {
       "model_id": "b7f0dbf1e52046dcb76860ad26dfc2f2",
       "version_major": 2,
       "version_minor": 0
      },
      "text/plain": [
       "  0%|          | 0/6 [00:00<?, ?it/s]"
      ]
     },
     "metadata": {},
     "output_type": "display_data"
    },
    {
     "data": {
      "application/vnd.jupyter.widget-view+json": {
       "model_id": "45bfa9b6afb447b5826b659ecfbc69c1",
       "version_major": 2,
       "version_minor": 0
      },
      "text/plain": [
       "  0%|          | 0/6 [00:00<?, ?it/s]"
      ]
     },
     "metadata": {},
     "output_type": "display_data"
    },
    {
     "data": {
      "application/vnd.jupyter.widget-view+json": {
       "model_id": "060b3f88c57d4dec82da6121c7316ab6",
       "version_major": 2,
       "version_minor": 0
      },
      "text/plain": [
       "  0%|          | 0/6 [00:00<?, ?it/s]"
      ]
     },
     "metadata": {},
     "output_type": "display_data"
    },
    {
     "data": {
      "application/vnd.jupyter.widget-view+json": {
       "model_id": "43ec438b51d3498c895344c1e2be5bea",
       "version_major": 2,
       "version_minor": 0
      },
      "text/plain": [
       "  0%|          | 0/6 [00:00<?, ?it/s]"
      ]
     },
     "metadata": {},
     "output_type": "display_data"
    },
    {
     "data": {
      "application/vnd.jupyter.widget-view+json": {
       "model_id": "6254217dbf8d4ef78e133894d45674fe",
       "version_major": 2,
       "version_minor": 0
      },
      "text/plain": [
       "  0%|          | 0/6 [00:00<?, ?it/s]"
      ]
     },
     "metadata": {},
     "output_type": "display_data"
    },
    {
     "data": {
      "application/vnd.jupyter.widget-view+json": {
       "model_id": "5acd6ecdfab94ed08f2bfe4f923c936a",
       "version_major": 2,
       "version_minor": 0
      },
      "text/plain": [
       "  0%|          | 0/6 [00:00<?, ?it/s]"
      ]
     },
     "metadata": {},
     "output_type": "display_data"
    },
    {
     "data": {
      "application/vnd.jupyter.widget-view+json": {
       "model_id": "8cda80a81cf649e1941d3332751795d8",
       "version_major": 2,
       "version_minor": 0
      },
      "text/plain": [
       "  0%|          | 0/6 [00:00<?, ?it/s]"
      ]
     },
     "metadata": {},
     "output_type": "display_data"
    },
    {
     "data": {
      "application/vnd.jupyter.widget-view+json": {
       "model_id": "647409888edc48a38efb7dd5404f8bbf",
       "version_major": 2,
       "version_minor": 0
      },
      "text/plain": [
       "  0%|          | 0/6 [00:00<?, ?it/s]"
      ]
     },
     "metadata": {},
     "output_type": "display_data"
    },
    {
     "data": {
      "application/vnd.jupyter.widget-view+json": {
       "model_id": "bccad1f47f5c4b8a8cf6e194a6908a02",
       "version_major": 2,
       "version_minor": 0
      },
      "text/plain": [
       "  0%|          | 0/6 [00:00<?, ?it/s]"
      ]
     },
     "metadata": {},
     "output_type": "display_data"
    },
    {
     "data": {
      "application/vnd.jupyter.widget-view+json": {
       "model_id": "1e69f8d0ac484b8486e36eeae9c8c266",
       "version_major": 2,
       "version_minor": 0
      },
      "text/plain": [
       "  0%|          | 0/6 [00:00<?, ?it/s]"
      ]
     },
     "metadata": {},
     "output_type": "display_data"
    },
    {
     "data": {
      "application/vnd.jupyter.widget-view+json": {
       "model_id": "2217ad05cbe44020a80fd2a71bddb9d0",
       "version_major": 2,
       "version_minor": 0
      },
      "text/plain": [
       "  0%|          | 0/6 [00:00<?, ?it/s]"
      ]
     },
     "metadata": {},
     "output_type": "display_data"
    }
   ],
   "source": [
    "''' After k optimization, load in results & perform K-means '''\n",
    "\n",
    "kmeans_folder = 'C:/Users/Python/Desktop/LocalData/spatialcellssm/kmeans/' #adjust path to output above this \n",
    "\n",
    "from scipy.spatial.distance import pdist\n",
    "from scipy.spatial.distance import squareform\n",
    "\n",
    "for m, session in zip(mice, sessions):\n",
    "    for s in tdqm(session):\n",
    "        d = data[m][s]\n",
    "                \n",
    "        rawdata_file = 'RAW_' + m + '_' + s + '.npy'\n",
    "        raw = np.load(load_folder + rawdata_file, allow_pickle=True)\n",
    "        cell_IDs = raw.item().get('cellsfil')\n",
    "        gridcell = d['gridcell'].astype(bool)\n",
    "        gridcells = cell_IDs[gridcell]     \n",
    "        \n",
    "        if len(gridcells) >= 10: \n",
    "            \n",
    "            #Load stuff I have saved previously\n",
    "            SilN_file = 'SilN_' + m + '_' + s + '.npy'\n",
    "            SilN = np.load(kmeans_folder + SilN_file)\n",
    "            \n",
    "            #fit K-means\n",
    "            Y = d['FRtensorbacksorted'].copy()\n",
    "            Y = Y.transpose(0, 2, 1)\n",
    "            Y_unwrapped = np.reshape(Y, (Y.shape[0], -1))\n",
    "            \n",
    "            model_kmeans = lvl_kmeans(n_components = SilN, n_restarts = 100)\n",
    "            model_kmeans.fit(Y_unwrapped)\n",
    "            W, H = model_kmeans.factors\n",
    "            Y_hat = model_kmeans.predict()\n",
    "            score = model_kmeans.score(Y_unwrapped)\n",
    "            d['kmeans'] = {}\n",
    "            d['kmeans']['SilN'] = SilN\n",
    "            d['kmeans']['W'] = W\n",
    "            d['kmeans']['H'] = H\n",
    "            d['kmeans']['Y_hat'] = Y_hat \n",
    "            d['kmeans']['Y_hat'] = Y_hat \n",
    "            d['kmeans']['score'] = score\n",
    "            \n",
    "            #load boolean to determine if I should keep k-means map in dataset (better than shuffle at chosen k)\n",
    "            onemapfile = 'onemap' + m + '_' + s + '.npy'\n",
    "            onemap = np.load(kmeans_folder + onemapfile)\n",
    "            d['kmeans']['onemap'] = onemap"
   ]
  },
  {
   "cell_type": "code",
   "execution_count": 48,
   "id": "83412dc5",
   "metadata": {},
   "outputs": [
    {
     "data": {
      "image/png": "[encoded data removed]",
      "text/plain": [
       "<Figure size 140x100 with 1 Axes>"
      ]
     },
     "metadata": {},
     "output_type": "display_data"
    },
    {
     "name": "stdout",
     "output_type": "stream",
     "text": [
      "\n",
      "Optimal K KS:\n",
      "A vs. Y CDF: Stat 0.12638888888888888, p=0.7872920372535105, sign=-1, loc=2.0\n",
      "MA vs. Y CDF: Stat 0.07720588235294118, p=0.9938706983175754, sign=1, loc=1.0\n",
      "A vs. MA CDF: Stat 0.17908496732026144, p=0.3716425042933553, sign=-1, loc=2.0\n"
     ]
    }
   ],
   "source": [
    "''' Plot Figure S4E (Right): Histogram of Optimal K for Split Maze Sessions'''\n",
    "allks = []\n",
    "optimalks = []\n",
    "yk = []\n",
    "mak = []\n",
    "ak =[]\n",
    "for m, session in zip(mice, sessions):\n",
    "    for s in session:\n",
    "        d = data[m][s]\n",
    "        \n",
    "        #get some data & cell IDs\n",
    "        rawdata_file = 'RAW_' + m + '_' + s + '.npy'\n",
    "        spikes_file = 'SPIKES_' + m + '_' + s +'.npy'\n",
    "        behavior_file = 'BEHAVIOR_' + m + '_' + s + '.npy'\n",
    "        \n",
    "        raw = np.load(load_folder + rawdata_file, allow_pickle=True)\n",
    "        Y = np.load(load_folder + spikes_file, allow_pickle=False) #pre-filtered for speeds >2cm/s, position-corrected spikes, 20 ms timebins\n",
    "        behaviorfil = np.load(load_folder + behavior_file, allow_pickle=False)\n",
    "        \n",
    "        cell_IDs = raw.item().get('cellsfil')\n",
    "        gridcell = d['gridcell'].astype(bool)\n",
    "        gridcells = cell_IDs[gridcell]   \n",
    "        \n",
    "        if len(gridcells) >= 10:\n",
    "            SilN = d['kmeans']['SilN']\n",
    "            onemap = d['kmeans']['onemap'] # vector [one map boolean, WSR Stat, WSR P-Value]\n",
    "            \n",
    "            if onemap[0].astype(bool) == True:\n",
    "                optimalks = np.append(optimalks, 1)\n",
    "                allks = np.append(allks, 1)\n",
    "                \n",
    "                if m in SM_aged_mice:\n",
    "                    ak = np.append(ak, 1)\n",
    "                elif m in SM_MA_mice:\n",
    "                    mak = np.append(mak, 1)\n",
    "                else:\n",
    "                    yk = np.append(yk, 1)\n",
    "                \n",
    "            else:\n",
    "                optimalks = np.append(optimalks, SilN)\n",
    "                allks = np.append(allks, SilN)\n",
    "                \n",
    "                if m in SM_aged_mice:\n",
    "                    ak = np.append(ak, SilN)\n",
    "                elif m in SM_MA_mice:\n",
    "                    mak = np.append(mak, SilN)\n",
    "                else:\n",
    "                    yk = np.append(yk, SilN)\n",
    "        else:\n",
    "            allks = np.append(allks, np.nan)\n",
    "\n",
    "#Plot half of Figure S4E\n",
    "kbins = np.arange(1,5,1)\n",
    "fig, ax = plt.subplots(figsize = (1.4,1))\n",
    "\n",
    "allk, bin_edges = np.histogram(optimalks, bins = [1,2,3,4,5])\n",
    "pdf = allk / sum(allk)\n",
    "ax.plot(kbins, pdf, '-', linewidth = 0.75, alpha = 1, color = 'k', label = 'All')\n",
    "\n",
    "y, bin_edges = np.histogram(yk, bins = [1,2,3,4,5])\n",
    "pdf = y / sum(y)\n",
    "ax.plot(kbins, pdf, '-', linewidth = 0.75, alpha = 1, color = 'C0', label = 'Young')\n",
    "\n",
    "ma, bin_edges = np.histogram(mak, bins = [1,2,3,4,5])\n",
    "pdf = ma / sum(ma)\n",
    "ax.plot(kbins, pdf, '-', linewidth = 0.75, alpha = 1, color = 'C2', label = 'MA')\n",
    "\n",
    "a, bin_edges = np.histogram(ak, bins = [1,2,3,4,5])\n",
    "pdf = a / sum(a)\n",
    "ax.plot(kbins, pdf, '-', linewidth = 0.75, alpha = 1, color = 'C1', label = 'Aged')\n",
    "ax.tick_params(labelsize = 8)\n",
    "\n",
    "plt.title('Split Maze', fontsize = 10)\n",
    "plt.ylabel('Density', fontsize = 9)\n",
    "plt.xlabel('Optimal K', fontsize = 9)\n",
    "plt.xlim([1,4])\n",
    "plt.xticks([1,2,3,4])\n",
    "plt.yticks([0,0.2,0.4,0.6,0.8,1.0])\n",
    "plt.ylim([0,1])\n",
    "\n",
    "ax.legend(bbox_to_anchor = (1,1), fontsize = 8)\n",
    "#plt.savefig(save_folder + 'allsmoptimalkpdf.png', dpi=400, bbox_inches='tight')\n",
    "#plt.savefig(save_folder + 'allsmoptimalkpdf.svg', dpi=400, bbox_inches='tight')\n",
    "plt.show()\n",
    "\n",
    "#run KS on optimal k distributions\n",
    "print('\\nOptimal K KS:')\n",
    "res = stats.ks_2samp(ak,yk, alternative = 'two-sided')\n",
    "stat = res.statistic; p_value = res.pvalue; loc = res.statistic_location; sign = res.statistic_sign\n",
    "print('A vs. Y CDF: Stat ' + str(stat) + ', p=' + str(p_value) + ', sign=' + str(sign) + ', loc=' + str(loc))\n",
    "\n",
    "res = stats.ks_2samp(mak,yk, alternative = 'two-sided')\n",
    "stat = res.statistic; p_value = res.pvalue; loc = res.statistic_location; sign = res.statistic_sign\n",
    "print('MA vs. Y CDF: Stat ' + str(stat) + ', p=' + str(p_value) + ', sign=' + str(sign) + ', loc=' + str(loc))\n",
    "\n",
    "res = stats.ks_2samp(ak,mak, alternative = 'two-sided')\n",
    "stat = res.statistic; p_value = res.pvalue; loc = res.statistic_location; sign = res.statistic_sign\n",
    "print('A vs. MA CDF: Stat ' + str(stat) + ', p=' + str(p_value) + ', sign=' + str(sign) + ', loc=' + str(loc))"
   ]
  },
  {
   "cell_type": "code",
   "execution_count": 60,
   "id": "e863ef91",
   "metadata": {},
   "outputs": [
    {
     "name": "stdout",
     "output_type": "stream",
     "text": [
      "skipping remapping assessment for one-map sesh A14, 083122_record2\n",
      "skipping remapping assessment for one-map sesh A14, 090122_record3\n",
      "skipping remapping assessment for one-map sesh A16, 090222_record4\n",
      "skipping remapping assessment for one-map sesh A23, 021023_record2\n",
      "skipping remapping assessment for one-map sesh MA4M, 103122_record2\n",
      "skipping remapping assessment for one-map sesh MA4M, 110122_record3\n",
      "skipping remapping assessment for one-map sesh MA5M, 110722_record2\n",
      "skipping remapping assessment for one-map sesh MA6M, 110322_record5\n",
      "skipping remapping assessment for one-map sesh MA8F, 111422_record2\n",
      "skipping remapping assessment for one-map sesh Y24, 092022_record3\n"
     ]
    }
   ],
   "source": [
    "''' Get remapping frequency by task phase across age groups'''\n",
    "\n",
    "#get remap indices not requiring minimum map size\n",
    "for m, session in zip(mice, sessions):\n",
    "    for s in session:\n",
    "        d = data[m][s]\n",
    "        \n",
    "        rawdata_file = 'RAW_' + m + '_' + s + '.npy'\n",
    "        raw = np.load(load_folder + rawdata_file, allow_pickle=True)\n",
    "        cell_IDs = raw.item().get('cellsfil')\n",
    "        gridcell = d['gridcell'].astype(bool)\n",
    "        gridcells = cell_IDs[gridcell]\n",
    "        \n",
    "        if len(gridcells) >= 10: \n",
    "            \n",
    "            W = d['kmeans']['W']\n",
    "            trials = np.arange(0, W.shape[0]-1)\n",
    "            \n",
    "            # define remaps\n",
    "            remap_idx = np.asarray([])\n",
    "            for w in range(W.shape[1]):\n",
    "                remaps = np.where(np.abs(np.diff(W[:, w])))[0]\n",
    "                remap_idx = np.append(remap_idx, remaps)\n",
    "            remap_idx = np.unique(remap_idx)\n",
    "            stable_idx = np.setdiff1d(trials,remap_idx)\n",
    "            \n",
    "            # save remap vs. stable indices\n",
    "            d['remap_idx'] = [stable_idx.astype(int), remap_idx.astype(int)]\n",
    "\n",
    "# get remapping frequency            \n",
    "sblockremaps = []\n",
    "saltremaps = []\n",
    "gridmultimapsesh = []\n",
    "\n",
    "for m, session in zip(mice, sessions):\n",
    "    for s in session:\n",
    "        d = data[m][s]\n",
    "        rawdata_file = 'RAW_' + m + '_' + s + '.npy'\n",
    "        raw = np.load(load_folder + rawdata_file, allow_pickle=True)\n",
    "        cell_IDs = raw.item().get('cellsfil')\n",
    "        gridcell = d['gridcell'].astype(bool)\n",
    "        gridcells = cell_IDs[gridcell]\n",
    "        \n",
    "        if len(gridcells) >= 10: \n",
    "            onemap = d['kmeans']['onemap']\n",
    "            \n",
    "            if onemap[0].astype(bool) == True:\n",
    "                gridmultimapsesh = np.append(gridmultimapsesh, False)\n",
    "                print('skipping remapping assessment for one-map sesh ' + str(m) + ', ' + str(s))\n",
    "                \n",
    "                sblockremaps = np.append(sblockremaps, np.nan)\n",
    "                saltremaps = np.append(saltremaps, np.nan)\n",
    "                \n",
    "            else:\n",
    "                W = d['kmeans']['W']\n",
    "                trials = np.arange(0, W.shape[0]-1)\n",
    "                remap_idx = d['remap_idx'][1]\n",
    "                gridmultimapsesh = np.append(gridmultimapsesh, True)\n",
    "\n",
    "                # Load in left vs. right info\n",
    "                trialinfo = raw.item().get('trialinfo')\n",
    "                left = trialinfo['left']\n",
    "\n",
    "                skippedrawtrialfil = d['skippedrawtrialfil'].astype(int)\n",
    "                VRbackidx = d['VRbackidx'].astype(int)\n",
    "\n",
    "                #binary context vector, excluding skipped trials, dark, & gain periods, 1 = Map A\n",
    "                leftsort = left.copy()\n",
    "                alt_idx = 140\n",
    "                lefttail = left[alt_idx:]\n",
    "                leftsort[alt_idx:] = lefttail[np.argsort(-1*lefttail, kind = 'stable')]\n",
    "\n",
    "                context = []\n",
    "                for i, t in enumerate(np.unique(skippedrawtrialfil[VRbackidx])):\n",
    "                    context = np.append(context, leftsort[t.astype(int)])\n",
    "                altcontextidx = np.where(np.diff(context) == 1.)[0][0] + 1 #index where alternation begins in context vectors\n",
    "\n",
    "                #get n_switches & remap_idx for block only\n",
    "                blockremap_idx = remap_idx[remap_idx < altcontextidx]\n",
    "                sblockremaps = np.append(sblockremaps, blockremap_idx.shape[0]/len(trials[:altcontextidx]))\n",
    "                   \n",
    "                altremap_idx = remap_idx[remap_idx >= altcontextidx]\n",
    "                saltremaps = np.append(saltremaps, altremap_idx.shape[0]/len(trials[altcontextidx:]))\n",
    "        else:\n",
    "            gridmultimapsesh = np.append(gridmultimapsesh, False)\n",
    "            sblockremaps = np.append(sblockremaps, np.nan)\n",
    "            saltremaps = np.append(saltremaps, np.nan)"
   ]
  },
  {
   "cell_type": "code",
   "execution_count": 61,
   "id": "612fe9fe",
   "metadata": {},
   "outputs": [],
   "source": [
    "''' Find where nan and ignore for plotting '''\n",
    "nan_idx10grid = np.where((gridmultimapsesh.astype(bool) == 0))[0]\n",
    "\n",
    "# Adjust y_sind, ma_sind, age_sind for subsequent plots\n",
    "y_sind10grid = np.setdiff1d(y_sind, nan_idx10grid)\n",
    "ma_sind10grid = np.setdiff1d(ma_sind, nan_idx10grid)\n",
    "age_sind10grid = np.setdiff1d(age_sind, nan_idx10grid)\n",
    "\n",
    "# Adjust colormaps for grid plots\n",
    "yidx = []\n",
    "maidx = []\n",
    "aidx = []\n",
    "for i in nan_idx10grid:\n",
    "    yidx = np.append(yidx, np.where(y_sind == i)[0].astype(int))\n",
    "    maidx = np.append(maidx, np.where(ma_sind == i)[0].astype(int))\n",
    "    aidx = np.append(aidx, np.where(age_sind == i)[0].astype(int)) \n",
    "\n",
    "col_session_young10grid = np.delete(col_session_young, list(yidx.astype(int)), axis = 0)\n",
    "col_session_ma10grid = np.delete(col_session_MA, list(maidx.astype(int)), axis = 0)\n",
    "col_session_old10grid = np.delete(col_session_old, list(aidx.astype(int)), axis = 0)\n",
    "col_session10grid = [col_session_young10grid, col_session_ma10grid, col_session_old10grid] "
   ]
  },
  {
   "cell_type": "code",
   "execution_count": 70,
   "id": "76b584b9",
   "metadata": {},
   "outputs": [
    {
     "data": {
      "image/png": "[encoded data removed]",
      "text/plain": [
       "<Figure size 400x225 with 2 Axes>"
      ]
     },
     "metadata": {},
     "output_type": "display_data"
    }
   ],
   "source": [
    "''' Plot Figure 3B, comparing remapping frequency across groups in the Split Maze'''\n",
    "\n",
    "fig, ax = plt.subplots(1,2, figsize = (4,2.25), sharey = True)\n",
    "fig.suptitle('Remapping Frequency by Task Phase', fontsize = 10, y = 0.9)\n",
    "\n",
    "sblockremaps_tog = [sblockremaps[y_sind10grid], sblockremaps[ma_sind10grid],sblockremaps[age_sind10grid]]\n",
    "labels = ['Young','MA','Aged']\n",
    "w = 0.5\n",
    "ax[0].boxplot(sblockremaps_tog, widths = w, labels = labels, medianprops = dict(color = 'black'))\n",
    "ax[0].set_xlabel('Age', fontsize=9, labelpad=1)\n",
    "ax[0].set_xticklabels(labels = labels, fontsize = 9)\n",
    "ax[0].tick_params(labelsize = 8)\n",
    "ax[0].set_ylabel('Remaps / Trial', fontsize=9, labelpad=1)\n",
    "ax[0].set_yticks([0,0.1,0.2,0.3,0.4,0.5])\n",
    "ax[0].set_ylim([-0.05,0.55])\n",
    "ax[0].set_title('Blocks', fontsize = 10, pad = 3)\n",
    "\n",
    "for i in range(len(sblockremaps_tog)):\n",
    "    y = sblockremaps_tog[i]\n",
    "    x = np.random.normal(i + 1, 0.04, len(y))\n",
    "    ax[0].scatter(x, y, color = col_session10grid[i][:len(y)], edgecolors = col_session10grid[i][:len(y)], alpha = 1, s = 10)\n",
    "    \n",
    "saltremaps_tog = [saltremaps[y_sind10grid], saltremaps[ma_sind10grid],saltremaps[age_sind10grid]]\n",
    "labels = ['Young','MA','Aged']\n",
    "w = 0.5\n",
    "ax[1].boxplot(saltremaps_tog, widths = w, labels = labels, medianprops = dict(color = 'black'))\n",
    "ax[1].set_xlabel('Age', fontsize=9, labelpad=1)\n",
    "#ax[1].set_ylabel('Remaps / Trial', fontsize=9, labelpad=1)\n",
    "ax[1].set_xticklabels(labels = labels, fontsize = 8)\n",
    "ax[1].tick_params(labelsize = 8)\n",
    "ax[1].set_yticks([0,0.1,0.2,0.3,0.4,0.5])\n",
    "ax[1].set_title('Alternation', fontsize = 10, pad = 3)\n",
    "\n",
    "for i in range(len(saltremaps_tog)):\n",
    "    y = saltremaps_tog[i]\n",
    "    x = np.random.normal(i + 1, 0.04, len(y))\n",
    "    ax[1].scatter(x, y, color = col_session10grid[i][:len(y)], edgecolors = col_session10grid[i][:len(y)], alpha = 1, s = 10)\n",
    "    \n",
    "#ax[1].legend(handles = handles, labels = label_mice, ncol = 2, bbox_to_anchor=(1.2, 1))\n",
    "plt.tight_layout()\n",
    "#plt.savefig(save_folder + 'remappingfreq.png', dpi=400, bbox_inches='tight')\n",
    "#plt.savefig(save_folder + 'remappingfreq.svg', dpi=400, bbox_inches='tight')\n",
    "plt.show()"
   ]
  },
  {
   "cell_type": "code",
   "execution_count": 75,
   "id": "cc2ffcff",
   "metadata": {},
   "outputs": [
    {
     "name": "stdout",
     "output_type": "stream",
     "text": [
      "n young, MA, aged sessions: \n",
      "47 46 41\n",
      "block remapping freq KW test H, p = \n",
      "16.87870969346148 0.00021618958071442093\n",
      "\n",
      "mean ± SEM young block remap freq:\n",
      "0.04050528598480487 ± 0.007407073480638876\n",
      "mean ± SEM MA block remap freq:\n",
      "0.06413043478260871 ± 0.00968806825326724\n",
      "mean ± SEM age block remap freq:\n",
      "0.08001429608804062 ± 0.009832071945925986\n"
     ]
    },
    {
     "data": {
      "text/html": [
       "<div>\n",
       "<style scoped>\n",
       "    .dataframe tbody tr th:only-of-type {\n",
       "        vertical-align: middle;\n",
       "    }\n",
       "\n",
       "    .dataframe tbody tr th {\n",
       "        vertical-align: top;\n",
       "    }\n",
       "\n",
       "    .dataframe thead th {\n",
       "        text-align: right;\n",
       "    }\n",
       "</style>\n",
       "<table border=\"1\" class=\"dataframe\">\n",
       "  <thead>\n",
       "    <tr style=\"text-align: right;\">\n",
       "      <th></th>\n",
       "      <th>1.0</th>\n",
       "      <th>2.0</th>\n",
       "      <th>3.0</th>\n",
       "    </tr>\n",
       "  </thead>\n",
       "  <tbody>\n",
       "    <tr>\n",
       "      <th>1.0</th>\n",
       "      <td>1.000000</td>\n",
       "      <td>0.021706</td>\n",
       "      <td>0.00009</td>\n",
       "    </tr>\n",
       "    <tr>\n",
       "      <th>2.0</th>\n",
       "      <td>0.021706</td>\n",
       "      <td>1.000000</td>\n",
       "      <td>0.07294</td>\n",
       "    </tr>\n",
       "    <tr>\n",
       "      <th>3.0</th>\n",
       "      <td>0.000090</td>\n",
       "      <td>0.072940</td>\n",
       "      <td>1.00000</td>\n",
       "    </tr>\n",
       "  </tbody>\n",
       "</table>\n",
       "</div>"
      ],
      "text/plain": [
       "          1.0       2.0      3.0\n",
       "1.0  1.000000  0.021706  0.00009\n",
       "2.0  0.021706  1.000000  0.07294\n",
       "3.0  0.000090  0.072940  1.00000"
      ]
     },
     "execution_count": 75,
     "metadata": {},
     "output_type": "execute_result"
    }
   ],
   "source": [
    "''' Perform Kruskal Wallis Test on Remapping Frequency in each Task Phase w/ Multiple Comparisons Correcition'''\n",
    "\n",
    "print('n young, MA, aged sessions: ')\n",
    "print(len(y_sind10grid), len(ma_sind10grid), len(age_sind10grid))\n",
    "\n",
    "import statsmodels.api as sm\n",
    "import scikit_posthocs as ph\n",
    "\n",
    "H, p = stats.kruskal(sblockremaps[y_sind10grid],sblockremaps[ma_sind10grid],sblockremaps[age_sind10grid])\n",
    "print('block remapping freq KW test H, p = ')\n",
    "print(H, p)\n",
    "\n",
    "print('\\nmean ± SEM young block remap freq:')\n",
    "print(str(np.mean(sblockremaps[y_sind10grid])) + ' ± '+ str(stats.sem(sblockremaps[y_sind10grid]))) \n",
    "\n",
    "print('mean ± SEM MA block remap freq:')\n",
    "print(str(np.mean(sblockremaps[ma_sind10grid])) + ' ± '+ str(stats.sem(sblockremaps[ma_sind10grid]))) \n",
    "\n",
    "print('mean ± SEM age block remap freq:')\n",
    "print(str(np.mean(sblockremaps[age_sind10grid])) + ' ± '+ str(stats.sem(sblockremaps[age_sind10grid]))) \n",
    "\n",
    "#make into dataframe\n",
    "sex = list(animalmeta.Sex[mice_ind])\n",
    "sexes = []\n",
    "seshmice = []\n",
    "seshcount = []\n",
    "seshage = []\n",
    "for m, session in zip(mice, sessions):\n",
    "    msex = sex[np.where(mice == m)[0][0]]\n",
    "    age =  np.array(animalmeta.loc[(animalmeta.Animal_ID == m),'Age_Group'])\n",
    "    totalsesh = len(session)\n",
    "    \n",
    "    for i, s in enumerate(session):\n",
    "        sexes = np.append(sexes, msex)\n",
    "        seshmice = np.append(seshmice, m)\n",
    "        seshcount = np.append(seshcount, (i + 1))\n",
    "        seshage = np.append(seshage, age)\n",
    "\n",
    "# Collect all relevant data into pandas dataframe\n",
    "allidx = np.concatenate((y_sind10grid,ma_sind10grid,age_sind10grid))\n",
    "Animal_ID = list(seshmice[allidx])\n",
    "Session = list(seshcount[allidx])\n",
    "Sex = list(sexes[allidx])\n",
    "Age_Group = list(seshage[allidx])\n",
    "BlockFreq = list(sblockremaps[allidx])\n",
    "AltFreq = list(saltremaps[allidx])\n",
    "\n",
    "tuples = list(zip(Animal_ID, Session, Sex, Age_Group, BlockFreq, AltFreq))\n",
    "tuples\n",
    "\n",
    "df = pd.DataFrame(tuples, columns = ['AnimalID', 'Session', 'Sex', 'AgeGroup','BlockFreq','AltFreq'])\n",
    "df = df.dropna(axis = 0)\n",
    "\n",
    "#Run Post Hoc Tests on Block Remapping Frequency\n",
    "ph.posthoc_conover(df, val_col = 'BlockFreq', group_col = 'AgeGroup', p_adjust = 'holm')"
   ]
  },
  {
   "cell_type": "code",
   "execution_count": 76,
   "id": "19b0c71d",
   "metadata": {},
   "outputs": [
    {
     "name": "stdout",
     "output_type": "stream",
     "text": [
      "alt remapping freq KW test H, p = \n",
      "8.684265507967394 0.01300875412414525\n",
      "\n",
      "mean ± SEM young alt remap freq:\n",
      "0.07945258663153151 ± 0.012354929597282497\n",
      "mean ± SEM MA alt remap freq:\n",
      "0.1414268413773233 ± 0.017576085047912915\n",
      "mean ± SEM age alt remap freq:\n",
      "0.15069120391909321 ± 0.022064441502747147\n"
     ]
    },
    {
     "data": {
      "text/html": [
       "<div>\n",
       "<style scoped>\n",
       "    .dataframe tbody tr th:only-of-type {\n",
       "        vertical-align: middle;\n",
       "    }\n",
       "\n",
       "    .dataframe tbody tr th {\n",
       "        vertical-align: top;\n",
       "    }\n",
       "\n",
       "    .dataframe thead th {\n",
       "        text-align: right;\n",
       "    }\n",
       "</style>\n",
       "<table border=\"1\" class=\"dataframe\">\n",
       "  <thead>\n",
       "    <tr style=\"text-align: right;\">\n",
       "      <th></th>\n",
       "      <th>1.0</th>\n",
       "      <th>2.0</th>\n",
       "      <th>3.0</th>\n",
       "    </tr>\n",
       "  </thead>\n",
       "  <tbody>\n",
       "    <tr>\n",
       "      <th>1.0</th>\n",
       "      <td>1.000000</td>\n",
       "      <td>0.021723</td>\n",
       "      <td>0.030709</td>\n",
       "    </tr>\n",
       "    <tr>\n",
       "      <th>2.0</th>\n",
       "      <td>0.021723</td>\n",
       "      <td>1.000000</td>\n",
       "      <td>0.848968</td>\n",
       "    </tr>\n",
       "    <tr>\n",
       "      <th>3.0</th>\n",
       "      <td>0.030709</td>\n",
       "      <td>0.848968</td>\n",
       "      <td>1.000000</td>\n",
       "    </tr>\n",
       "  </tbody>\n",
       "</table>\n",
       "</div>"
      ],
      "text/plain": [
       "          1.0       2.0       3.0\n",
       "1.0  1.000000  0.021723  0.030709\n",
       "2.0  0.021723  1.000000  0.848968\n",
       "3.0  0.030709  0.848968  1.000000"
      ]
     },
     "execution_count": 76,
     "metadata": {},
     "output_type": "execute_result"
    }
   ],
   "source": [
    "#Run Post Hoc Tests on Alt Remapping Frequency\n",
    "H, p = stats.kruskal(saltremaps[y_sind10grid],saltremaps[ma_sind10grid],saltremaps[age_sind10grid])\n",
    "print('alt remapping freq KW test H, p = ')\n",
    "print(H, p)\n",
    "\n",
    "print('\\nmean ± SEM young alt remap freq:')\n",
    "print(str(np.mean(saltremaps[y_sind10grid])) + ' ± '+ str(stats.sem(saltremaps[y_sind10grid]))) \n",
    "\n",
    "print('mean ± SEM MA alt remap freq:')\n",
    "print(str(np.mean(saltremaps[ma_sind10grid])) + ' ± '+ str(stats.sem(saltremaps[ma_sind10grid]))) \n",
    "\n",
    "print('mean ± SEM age alt remap freq:')\n",
    "print(str(np.mean(saltremaps[age_sind10grid])) + ' ± '+ str(stats.sem(saltremaps[age_sind10grid]))) \n",
    "\n",
    "ph.posthoc_conover(df, val_col = 'AltFreq', group_col = 'AgeGroup', p_adjust = 'holm')"
   ]
  },
  {
   "cell_type": "code",
   "execution_count": 77,
   "id": "da23454d",
   "metadata": {},
   "outputs": [
    {
     "name": "stdout",
     "output_type": "stream",
     "text": [
      "Association btwn Young, MA, Aged, & All Performance & Variable of Interest:\n",
      "R [Young, MA, Aged, All]: \n",
      "-0.12740259876180926 -0.022766913763950635 -0.13778802801691417 -0.13529939923695852\n",
      "P [Young, MA, Aged, All]: \n",
      "0.39344076437691755 0.8806205781248978 0.3902866990763826 0.11906577057105071\n"
     ]
    },
    {
     "data": {
      "image/png": "[encoded data removed]",
      "text/plain": [
       "<Figure size 300x125 with 1 Axes>"
      ]
     },
     "metadata": {},
     "output_type": "display_data"
    },
    {
     "name": "stdout",
     "output_type": "stream",
     "text": [
      "Association btwn Young, MA, Aged, & All Performance & Variable of Interest:\n",
      "R [Young, MA, Aged, All]: \n",
      "-0.1864567300146632 0.07815997827847877 -0.0447956303412693 -0.10669848341465395\n",
      "P [Young, MA, Aged, All]: \n",
      "0.20951466994614373 0.605638656370283 0.7809346834495456 0.21980041374047424\n"
     ]
    },
    {
     "data": {
      "image/png": "[encoded data removed]",
      "text/plain": [
       "<Figure size 300x125 with 1 Axes>"
      ]
     },
     "metadata": {},
     "output_type": "display_data"
    }
   ],
   "source": [
    "''' Plot relationship between alternation behavior and remapping frequency or optimal k (Figure S4I [left & right]) '''\n",
    "\n",
    "### ALT Remaps/Trial vs. REQ RATES\n",
    "#Linear regression\n",
    "res = stats.linregress(saltremaps[y_sind10grid],reqalt_rates[y_sind10grid])\n",
    "yslope1 = res.slope; yint1 = res.intercept; yr1 = res.rvalue; yp1 = res.pvalue\n",
    "\n",
    "res = stats.linregress(saltremaps[ma_sind10grid],reqalt_rates[ma_sind10grid])\n",
    "maslope1 = res.slope; maint1 = res.intercept; mar1 = res.rvalue ; map1 = res.pvalue\n",
    "\n",
    "res = stats.linregress(saltremaps[age_sind10grid],reqalt_rates[age_sind10grid])\n",
    "aslope1 = res.slope; aint1 = res.intercept; ar1 = res.rvalue ; ap1 = res.pvalue\n",
    "\n",
    "allidx = np.concatenate((y_sind10grid,ma_sind10grid,age_sind10grid))\n",
    "res = stats.linregress(saltremaps[allidx],reqalt_rates[allidx])\n",
    "allslope1 = res.slope; allint1 = res.intercept; allr1 = res.rvalue; allp1 = res.pvalue\n",
    "\n",
    "print('Association btwn Young, MA, Aged, & All Performance & Variable of Interest:')\n",
    "print('R [Young, MA, Aged, All]: ')\n",
    "print(yr1, mar1, ar1, allr1)\n",
    "print('P [Young, MA, Aged, All]: ')\n",
    "print(yp1, map1, ap1, allp1)\n",
    "        \n",
    "fig, ax = plt.subplots(figsize = (3.00,1.25))\n",
    "fig.suptitle('All Sessions (k ≥ 2)', fontsize = 10)\n",
    "ax.scatter(saltremaps[y_sind10grid],reqalt_rates[y_sind10grid], color = 'C0', s = 10)\n",
    "ax.scatter(saltremaps[ma_sind10grid],reqalt_rates[ma_sind10grid], color = 'C2', s = 10)\n",
    "ax.scatter(saltremaps[age_sind10grid],reqalt_rates[age_sind10grid], color = 'C1', s = 10)\n",
    "ax.set_xlabel('Alternation Remaps/Trial', fontsize = 9)\n",
    "ax.set_ylabel('Alt. Frac. Rewards Requested', fontsize = 9)\n",
    "ax.set_ylim([-0.1,1.1])\n",
    "ax.set_xlim([-0.05,0.5])\n",
    "ax.tick_params(labelsize = 8)\n",
    "X_plot = np.linspace(ax.get_xlim()[0],ax.get_xlim()[1],100)\n",
    "ax.plot(X_plot, aslope1*X_plot + aint1, '--', linewidth = 0.75, color = 'C1', label = 'Aged')\n",
    "ax.plot(X_plot, allslope1*X_plot + allint1, '-', linewidth = 0.75, color = 'k', label = 'All Ages')\n",
    "#plt.savefig(save_folder + 'alldays_remapfreq_correlation_all.png', dpi = 400, bbox_inches = 'tight')\n",
    "#plt.savefig(save_folder + 'alldays_remapfreqcorrelation_all.svg', dpi = 400, bbox_inches = 'tight')\n",
    "plt.show()\n",
    "\n",
    "### ALT Remaps/Trial vs. REQ RATES\n",
    "#Linear regression\n",
    "res = stats.linregress(allks[y_sind10grid],reqalt_rates[y_sind10grid])\n",
    "yslope1 = res.slope; yint1 = res.intercept; yr1 = res.rvalue; yp1 = res.pvalue\n",
    "\n",
    "res = stats.linregress(allks[ma_sind10grid],reqalt_rates[ma_sind10grid])\n",
    "maslope1 = res.slope; maint1 = res.intercept; mar1 = res.rvalue ; map1 = res.pvalue\n",
    "\n",
    "res = stats.linregress(allks[age_sind10grid],reqalt_rates[age_sind10grid])\n",
    "aslope1 = res.slope; aint1 = res.intercept; ar1 = res.rvalue ; ap1 = res.pvalue\n",
    "\n",
    "allidx = np.concatenate((y_sind10grid,ma_sind10grid,age_sind10grid))\n",
    "res = stats.linregress(allks[allidx],reqalt_rates[allidx])\n",
    "allslope1 = res.slope; allint1 = res.intercept; allr1 = res.rvalue; allp1 = res.pvalue\n",
    "\n",
    "print('Association btwn Young, MA, Aged, & All Performance & Variable of Interest:')\n",
    "print('R [Young, MA, Aged, All]: ')\n",
    "print(yr1, mar1, ar1, allr1)\n",
    "print('P [Young, MA, Aged, All]: ')\n",
    "print(yp1, map1, ap1, allp1)\n",
    "\n",
    "fig, ax = plt.subplots(figsize = (3.00,1.25))\n",
    "fig.suptitle('All Sessions (k ≥ 2)', fontsize = 10)\n",
    "ax.scatter(allks[y_sind10grid] - 0.1,reqalt_rates[y_sind10grid], color = 'C0', s = 10)\n",
    "ax.scatter(allks[ma_sind10grid],reqalt_rates[ma_sind10grid], color = 'C2', s = 10)\n",
    "ax.scatter(allks[age_sind10grid] + 0.1,reqalt_rates[age_sind10grid], color = 'C1', s = 10)\n",
    "ax.set_xlabel('Optimal K', fontsize = 9)\n",
    "ax.set_ylabel('Alt. Frac. Rewards Requested', fontsize = 9)\n",
    "ax.set_ylim([-0.1,1.1])\n",
    "ax.set_xlim([1.5, 4.5])\n",
    "ax.set_xticks([2,3,4])\n",
    "ax.tick_params(labelsize = 8)\n",
    "X_plot = np.linspace(ax.get_xlim()[0],ax.get_xlim()[1],100)\n",
    "ax.plot(X_plot, aslope1*X_plot + aint1, '--', linewidth = 0.75, color = 'C1', label = 'Aged')\n",
    "ax.plot(X_plot, allslope1*X_plot + allint1, '-', linewidth = 0.75, color = 'k', label = 'All Ages')\n",
    "#plt.savefig(save_folder + 'alldays_kcorrelation_all.png', dpi = 400, bbox_inches = 'tight')\n",
    "#plt.savefig(save_folder + 'alldays_kcorrelation_all.svg', dpi = 400, bbox_inches = 'tight')\n",
    "plt.show()"
   ]
  },
  {
   "cell_type": "code",
   "execution_count": null,
   "id": "1656e54a",
   "metadata": {},
   "outputs": [],
   "source": []
  },
  {
   "cell_type": "code",
   "execution_count": null,
   "id": "3e3c7d90",
   "metadata": {},
   "outputs": [],
   "source": []
  },
  {
   "cell_type": "markdown",
   "id": "ee73d3d4",
   "metadata": {},
   "source": [
    "# Setup for Figure S4D, E (left), F, H (Random Foraging)"
   ]
  },
  {
   "cell_type": "code",
   "execution_count": null,
   "id": "8eee24f2",
   "metadata": {},
   "outputs": [],
   "source": []
  }
 ],
 "metadata": {
  "kernelspec": {
   "display_name": "Python 3 (ipykernel)",
   "language": "python",
   "name": "python3"
  },
  "language_info": {
   "codemirror_mode": {
    "name": "ipython",
    "version": 3
   },
   "file_extension": ".py",
   "mimetype": "text/x-python",
   "name": "python",
   "nbconvert_exporter": "python",
   "pygments_lexer": "ipython3",
   "version": "3.8.16"
  }
 },
 "nbformat": 4,
 "nbformat_minor": 5
}
