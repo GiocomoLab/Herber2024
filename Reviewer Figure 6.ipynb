{
 "cells": [
  {
   "cell_type": "markdown",
   "id": "99c8b2dc",
   "metadata": {},
   "source": [
    "# Setup for Reviewer Figure 6A-H (Split Maze)"
   ]
  },
  {
   "cell_type": "code",
   "execution_count": 1,
   "id": "d5993e79",
   "metadata": {},
   "outputs": [],
   "source": [
    "''' magic 4u'''\n",
    "%load_ext autoreload\n",
    "%autoreload 2"
   ]
  },
  {
   "cell_type": "code",
   "execution_count": 2,
   "id": "7c0c58f5",
   "metadata": {},
   "outputs": [],
   "source": [
    "'''Get Stuff You Need'''\n",
    "import numpy as np\n",
    "import math as math\n",
    "from tqdm import tnrange\n",
    "from tqdm.notebook import tqdm as tdqm\n",
    "import matplotlib.pyplot as plt\n",
    "import matplotlib as mpl\n",
    "mpl.rcParams.update(mpl.rcParamsDefault)\n",
    "from matplotlib import gridspec\n",
    "from scipy.interpolate import interp1d\n",
    "from scipy.ndimage import gaussian_filter1d\n",
    "from scipy import stats\n",
    "import scipy.io\n",
    "import scipy.ndimage.filters as filt\n",
    "import pandas as pd\n",
    "import seaborn as sns\n",
    "\n",
    "from pipeline import get_data as get\n",
    "from pipeline import process_spikes as ps\n",
    "\n",
    "from statsmodels.tsa.stattools import acf\n",
    "from scipy.signal import find_peaks\n",
    "from itertools import combinations"
   ]
  },
  {
   "cell_type": "code",
   "execution_count": 3,
   "id": "6ac07044",
   "metadata": {},
   "outputs": [],
   "source": [
    "''' Define plotting defaults '''\n",
    "\n",
    "from matplotlib import rc \n",
    "mpl.rcParams['font.sans-serif'] = 'Arial'\n",
    "mpl.rcParams['font.family'] = 'sans-serif'\n",
    "mpl.rcParams['svg.fonttype'] = 'none'"
   ]
  },
  {
   "cell_type": "code",
   "execution_count": 4,
   "id": "2303cc50",
   "metadata": {},
   "outputs": [
    {
     "data": {
      "text/html": [
       "<div>\n",
       "<style scoped>\n",
       "    .dataframe tbody tr th:only-of-type {\n",
       "        vertical-align: middle;\n",
       "    }\n",
       "\n",
       "    .dataframe tbody tr th {\n",
       "        vertical-align: top;\n",
       "    }\n",
       "\n",
       "    .dataframe thead th {\n",
       "        text-align: right;\n",
       "    }\n",
       "</style>\n",
       "<table border=\"1\" class=\"dataframe\">\n",
       "  <thead>\n",
       "    <tr style=\"text-align: right;\">\n",
       "      <th></th>\n",
       "      <th>Animal_ID</th>\n",
       "      <th>Task</th>\n",
       "      <th>Cohort</th>\n",
       "      <th>Probe_Control</th>\n",
       "      <th>Sex</th>\n",
       "      <th>Sac_Date</th>\n",
       "      <th>Frozen_Hemisphere</th>\n",
       "      <th>DOB</th>\n",
       "      <th>Age_WholeMonth</th>\n",
       "      <th>Age_ExtraDays</th>\n",
       "      <th>Age_Month</th>\n",
       "      <th>Aged_Days</th>\n",
       "      <th>Age_Group</th>\n",
       "      <th>Behavior_Sessions</th>\n",
       "      <th>Neural_Sessions</th>\n",
       "    </tr>\n",
       "  </thead>\n",
       "  <tbody>\n",
       "    <tr>\n",
       "      <th>0</th>\n",
       "      <td>A3</td>\n",
       "      <td>RF</td>\n",
       "      <td>A</td>\n",
       "      <td>0</td>\n",
       "      <td>F</td>\n",
       "      <td>1/27/2021</td>\n",
       "      <td>R</td>\n",
       "      <td>4/23/2019</td>\n",
       "      <td>21</td>\n",
       "      <td>4</td>\n",
       "      <td>21.217</td>\n",
       "      <td>645</td>\n",
       "      <td>3</td>\n",
       "      <td>6</td>\n",
       "      <td>6</td>\n",
       "    </tr>\n",
       "    <tr>\n",
       "      <th>1</th>\n",
       "      <td>A4</td>\n",
       "      <td>RF</td>\n",
       "      <td>A</td>\n",
       "      <td>0</td>\n",
       "      <td>F</td>\n",
       "      <td>1/27/2021</td>\n",
       "      <td>R</td>\n",
       "      <td>4/23/2019</td>\n",
       "      <td>21</td>\n",
       "      <td>4</td>\n",
       "      <td>21.217</td>\n",
       "      <td>645</td>\n",
       "      <td>3</td>\n",
       "      <td>6</td>\n",
       "      <td>6</td>\n",
       "    </tr>\n",
       "    <tr>\n",
       "      <th>2</th>\n",
       "      <td>A5</td>\n",
       "      <td>RF</td>\n",
       "      <td>A</td>\n",
       "      <td>0</td>\n",
       "      <td>F</td>\n",
       "      <td>4/6/2021</td>\n",
       "      <td>L</td>\n",
       "      <td>4/23/2019</td>\n",
       "      <td>23</td>\n",
       "      <td>14</td>\n",
       "      <td>23.487</td>\n",
       "      <td>714</td>\n",
       "      <td>3</td>\n",
       "      <td>6</td>\n",
       "      <td>6</td>\n",
       "    </tr>\n",
       "    <tr>\n",
       "      <th>3</th>\n",
       "      <td>A6</td>\n",
       "      <td>RF</td>\n",
       "      <td>A</td>\n",
       "      <td>0</td>\n",
       "      <td>F</td>\n",
       "      <td>4/6/2021</td>\n",
       "      <td>R</td>\n",
       "      <td>4/23/2019</td>\n",
       "      <td>23</td>\n",
       "      <td>14</td>\n",
       "      <td>23.487</td>\n",
       "      <td>714</td>\n",
       "      <td>3</td>\n",
       "      <td>6</td>\n",
       "      <td>6</td>\n",
       "    </tr>\n",
       "    <tr>\n",
       "      <th>4</th>\n",
       "      <td>A7</td>\n",
       "      <td>RF</td>\n",
       "      <td>A</td>\n",
       "      <td>0</td>\n",
       "      <td>F</td>\n",
       "      <td>4/19/2021</td>\n",
       "      <td>L</td>\n",
       "      <td>5/29/2019</td>\n",
       "      <td>22</td>\n",
       "      <td>21</td>\n",
       "      <td>22.730</td>\n",
       "      <td>691</td>\n",
       "      <td>3</td>\n",
       "      <td>6</td>\n",
       "      <td>6</td>\n",
       "    </tr>\n",
       "  </tbody>\n",
       "</table>\n",
       "</div>"
      ],
      "text/plain": [
       "  Animal_ID Task Cohort  Probe_Control Sex   Sac_Date Frozen_Hemisphere  \\\n",
       "0        A3   RF      A              0   F  1/27/2021                 R   \n",
       "1        A4   RF      A              0   F  1/27/2021                 R   \n",
       "2        A5   RF      A              0   F   4/6/2021                 L   \n",
       "3        A6   RF      A              0   F   4/6/2021                 R   \n",
       "4        A7   RF      A              0   F  4/19/2021                 L   \n",
       "\n",
       "         DOB  Age_WholeMonth  Age_ExtraDays  Age_Month  Aged_Days  Age_Group  \\\n",
       "0  4/23/2019              21              4     21.217        645          3   \n",
       "1  4/23/2019              21              4     21.217        645          3   \n",
       "2  4/23/2019              23             14     23.487        714          3   \n",
       "3  4/23/2019              23             14     23.487        714          3   \n",
       "4  5/29/2019              22             21     22.730        691          3   \n",
       "\n",
       "   Behavior_Sessions  Neural_Sessions  \n",
       "0                  6                6  \n",
       "1                  6                6  \n",
       "2                  6                6  \n",
       "3                  6                6  \n",
       "4                  6                6  "
      ]
     },
     "execution_count": 4,
     "metadata": {},
     "output_type": "execute_result"
    }
   ],
   "source": [
    "''' Load in Animal Metadata '''\n",
    "\n",
    "animalmeta = pd.read_csv('C:/Users/Python/Desktop/Dryad/MouseMetadata.csv') # adjust path name\n",
    "\n",
    "# define some useful lists of animals based on metadata\n",
    "all_aged_mice = np.array(animalmeta.loc[(animalmeta.Age_Group == 3),'Animal_ID'])\n",
    "all_MA_mice = np.array(animalmeta.loc[(animalmeta.Age_Group == 2),'Animal_ID'])\n",
    "all_young_mice = np.array(animalmeta.loc[(animalmeta.Age_Group == 1),'Animal_ID'])\n",
    "\n",
    "cohorta_mice = np.array(animalmeta.loc[(animalmeta.Cohort == 'A'),'Animal_ID'])\n",
    "cohortb_mice = np.array(animalmeta.loc[(animalmeta.Cohort == 'B'),'Animal_ID'])\n",
    "cohortc_mice = np.array(animalmeta.loc[(animalmeta.Cohort == 'C'),'Animal_ID'])\n",
    "cohortd_mice = np.array(animalmeta.loc[(animalmeta.Cohort == 'D'),'Animal_ID'])\n",
    "\n",
    "RF_aged_mice = np.array(animalmeta.loc[(animalmeta.Age_Group == 3) & (animalmeta.Task == 'RF'),'Animal_ID'])\n",
    "RF_young_mice = np.array(animalmeta.loc[(animalmeta.Age_Group == 1) & (animalmeta.Task == 'RF'),'Animal_ID'])\n",
    "SM_aged_mice = np.array(animalmeta.loc[(animalmeta.Age_Group == 3) & (animalmeta.Task == 'SM'),'Animal_ID'])\n",
    "SM_MA_mice = np.array(animalmeta.loc[(animalmeta.Age_Group == 2) & (animalmeta.Task == 'SM'),'Animal_ID'])\n",
    "SM_young_mice = np.array(animalmeta.loc[(animalmeta.Age_Group == 1) & (animalmeta.Task == 'SM'),'Animal_ID'])\n",
    "\n",
    "all_female_mice = np.array(animalmeta.loc[(animalmeta.Sex == 'F'),'Animal_ID'])\n",
    "all_male_mice = np.array(animalmeta.loc[(animalmeta.Sex == 'M'), 'Animal_ID'])\n",
    "RF_female_mice = np.array(animalmeta.loc[(animalmeta.Sex == 'F') & (animalmeta.Task == 'RF'),'Animal_ID'])\n",
    "RF_male_mice = np.array(animalmeta.loc[(animalmeta.Sex == 'M') & (animalmeta.Task == 'RF'),'Animal_ID'])\n",
    "SM_female_mice = np.array(animalmeta.loc[(animalmeta.Sex == 'F') & (animalmeta.Task == 'SM'),'Animal_ID'])\n",
    "SM_male_mice = np.array(animalmeta.loc[(animalmeta.Sex == 'M') & (animalmeta.Task == 'SM'),'Animal_ID'])\n",
    "\n",
    "animalmeta.head()"
   ]
  },
  {
   "cell_type": "code",
   "execution_count": 5,
   "id": "37e7bdb1",
   "metadata": {},
   "outputs": [],
   "source": [
    "''' Complete List of Mice & Neural Sessions '''\n",
    "all_mice = np.array(animalmeta.Animal_ID)\n",
    "\n",
    "all_sessions = ([['0122_record1','0123_record2','0124_record3','0125_record4','0126_record5','0127_record6'], \n",
    "             ['0122_record1','0123_record2','0124_record3','0125_record4','0126_record5','0127_record6'],\n",
    "             ['0401_record1','0401_record2b','0403_record3','0404_record4','0405_record5','0406_record6'],\n",
    "             ['0401_record1','0402_record2','0403_record3','0404_record4','0405_record5','0406_record6'],\n",
    "             ['0414_record1','0415_record2','0416_record3','0417_record4','0418_record5','0419_record6'],\n",
    "             ['1024_record1','1025_record2','1026_record3','1027_record4','1028_record5_2'], #Y2_6 excluded\n",
    "             ['1016_record1','1019_record3','1020_record4','1021_record5','1022_record6'], #Y3_2 not collected\n",
    "             ['1114_record1','1115_record2','1116_record3','1117_record4','1118_record5','1119_record6'], # end cohort A\n",
    "             ['051822_record1','051922_record2', '052022_record3','052122_record4','052222_record5','052322_record6'], \n",
    "             ['050522_record1','050622_record2','050722_record3','050822_record4','050922_record5','051022_record6'],\n",
    "             ['050522_record1','050622_record2','050722_record3','050822_record4','051022_record6'], #Y11_5 not collected\n",
    "             ['062222_record3','062322_record4','062522_record5'], #Y16_1 & 2 not collected, neural _6 excluded\n",
    "             ['062822_record1','062922_record2','063022_record3','070122_record4','070222_record5','070322_record6'],\n",
    "             ['062022_record1','062122_record2','062222_record3','062322_record4','062522_record5','062622_record6'],\n",
    "             ['062822_record1','062922_record2','063022_record3','070122_record4','070222_record5','070322_record6'], \n",
    "             ['051922_record2','052022_record3'], # Y9 051822_1 excluded, end cohort B\n",
    "             ['083022_record1','083122_record2','090122_record3'], \n",
    "             ['083022_record1','083122_record2','090122_record3','090222_record4','090322_record5','090422_record6'],\n",
    "             ['083022_record1','083122_record2','090122_record3','090222_record4'], #behavior of A16_4, both of 5 excluded, 6 not collected \n",
    "             ['082322_record1','082422_record2','082522_record3','082622_record4','082722_record5','082822_record6'],\n",
    "             ['082322_record1real','082422_record2','082522_record3','082622_record4','082722_record5','082822_record6'],\n",
    "             ['102322_record1','102422_record2','102522_record3','102622_record4','102722_record5','102822_record6'],\n",
    "             ['102322_record1','102422_record2','102522_record3','102622_record4','102722_record5','102822_record6'],\n",
    "             ['102322_record1','102422_record2','102522_record3','102622_record4','102722_record5','102822_record6'],\n",
    "             ['103122_record2','110122_record3','110222_record4','110322_record5rep','110422_record6','110522_record7'], #behavior of MA4M6, 7 excluded\n",
    "             ['110622_record1','110722_record2','110822_record3','110922_record4','111022_record5','111122_record6'],\n",
    "             ['103022_record1','103122_record2','110122_record3','110222_record4','110322_record5','110422_record6'],\n",
    "             ['103022_record1','103122_record2','110122_record3','110222_record4'], #behavior of MA7_4, both 5 excluded, 6 not collected\n",
    "             ['111322_record1','111422_record2','111522_record3','111622_record4','111722_record5','111822_record6'],\n",
    "             ['111322_record1','111422_record2','111522_record3','111622_record4','111722_record5','111822_record6'],\n",
    "             ['111322_record1','111422_record2','111522_record3','111622_record4','111722_record5','111822_record6'], \n",
    "             ['092522_record1','092622_record2','092722_record3','092822_record4','092922_record5','093022_record6'],\n",
    "             ['091822_record1','091922_record2','092022_record3','092122_record4','092222_record5','092322_record6'],\n",
    "             ['092522_record1','092622_record2','092722_record3','092822_record4','092922_record5','093022_record6'],\n",
    "             ['092522_record1','092622_record2','092722_record3','092822_record4','092922_record5','093022_record6'],\n",
    "             ['091822_record1','091922_record2','092022_record3','092122_record4','092222_record5','092322_record6'], #end cohortc\n",
    "             ['012723_record2','012823_record3','012923_record4','013023_record5','013123_record6','020123_record7'],\n",
    "             ['012623_record1','012723_record2','012823_record3','012923_record4','013023_record5','013123_record6'],\n",
    "             ['012923_record2','013023_record3','013123_record4','020123_record5','020223_record6','020323_record7'],\n",
    "             ['020923_record1','021023_record2','021123_record3','021223_record4','021323_record5','021423_record6'],\n",
    "             ['022623_record1','022723_record2','022823_record3','030123_record4','030223_record5','030323_record6'],\n",
    "             ['021623_record1','021723_record2','021823_record3','021923_record4','022023_record5','022123_record6'],\n",
    "             ['021623_record1','021723_record2','021823_record3','021923_record4','022023_record5','022123_record6'],\n",
    "             ['021623_record1','021723_record2','021823_record3','021923_record4','022023_record5rep','022123_record6'],\n",
    "             ['022623_record1','022723_record2','022823_record3','030123_record4','030223_record5','030323_record6'] #end cohort d \n",
    "            ]) #list of sessions"
   ]
  },
  {
   "cell_type": "code",
   "execution_count": 6,
   "id": "24b111c8",
   "metadata": {},
   "outputs": [],
   "source": [
    "'''Define which mice & sessions to load based on metadata'''\n",
    "# Define mice, sessions for particular cohorts\n",
    "mice , mice_ind, _  = np.intersect1d(all_mice, np.union1d(cohortc_mice, cohortd_mice), return_indices = True) # SM mice\n",
    "\n",
    "sessions = []\n",
    "for i in mice_ind:\n",
    "    sessions.append(all_sessions[i])\n",
    "\n",
    "# Make a dict to hold data\n",
    "data = {}\n",
    "\n",
    "for session, m in zip(sessions, mice):\n",
    "    data[m] = {}\n",
    "    \n",
    "    for s in session:\n",
    "        data[m][s] = {}"
   ]
  },
  {
   "cell_type": "markdown",
   "id": "56e10303",
   "metadata": {},
   "source": [
    "# Edit these paths"
   ]
  },
  {
   "cell_type": "code",
   "execution_count": 10,
   "id": "2a2f3329",
   "metadata": {},
   "outputs": [],
   "source": [
    "#Inputs\n",
    "load_folder = 'C:/Users/Python/Desktop/LocalData/filtered/' # adjust path to match output of Import & Filter\n",
    "shuffload_folder1 = 'C:/Users/Python/Desktop/Dryad/shuffle_scores/sparsitya/' # adjust to match location of this Dryad repo folder\n",
    "shuffload_folder2 = 'C:/Users/Python/Desktop/Dryad/shuffle_scores/coherencea/' # adjust to match location of this Dryad repo folder\n",
    "shuffload_folder3 = 'C:/Users/Python/Desktop/Dryad/shuffle_scores/peakheights/' # adjust to match location of this Dryad repo folder\n",
    "shuffload_folder4 = 'C:/Users/Python/Desktop/Dryad/shuffle_scores/speedscores/' # adjust to match location of this Dryad repo folder\n",
    "shuffload_folder5 = 'C:/Users/Python/Desktop/Dryad/shuffle_scores/speedstabscores/' # adjust to match location of this Dryad repo folder\n",
    "int_save_folder = 'C:/Users/Python/Desktop/LocalData/FigureS6/' # adjust to match Shuffle Procedure output plotsave_folder\n",
    "figs2_folder = 'C:/Users/Python/Desktop/LocalData/FigureS2/' # adjust to match Figure S2 notebook save_folder\n",
    "\n",
    "#Output (create folder to hold the output of this notebook; then match the name of this repository below)\n",
    "save_folder = 'C:/Users/Python/Desktop/LocalData/ReviewerFigure6/' "
   ]
  },
  {
   "cell_type": "code",
   "execution_count": 8,
   "id": "a827be65",
   "metadata": {},
   "outputs": [],
   "source": [
    "''' Get reward & lick data for sessions w/ neural data'''\n",
    "\n",
    "#get lick & reward data\n",
    "rewarda_centers = []\n",
    "rewardb_centers = []\n",
    "\n",
    "for m, session in zip(mice, sessions):\n",
    "    for s in session:\n",
    "        d = data[m][s]\n",
    " \n",
    "        #load data\n",
    "        rawdata_file = 'RAW_' + m + '_' + s + '.npy'\n",
    "        spikes_file = 'SPIKES_' + m + '_' + s +'.npy'\n",
    "        behavior_file = 'BEHAVIOR_' + m + '_' + s + '.npy'\n",
    "        \n",
    "        raw = np.load(load_folder + rawdata_file, allow_pickle=True)\n",
    "        Y = np.load(load_folder + spikes_file, allow_pickle=False) #pre-filtered for speeds >2cm/s, position-corrected spikes, 20 ms timebins\n",
    "        behaviorfil = np.load(load_folder + behavior_file, allow_pickle=False)\n",
    "        \n",
    "        d['reward_data'] = {}\n",
    "        \n",
    "        # get behavioral params\n",
    "        posx = raw.item().get('posx')\n",
    "        post = raw.item().get('post')\n",
    "        dt = np.unique(np.round(np.diff(post),4))\n",
    "        lickt = raw.item().get('lickt')\n",
    "        trials_dark = np.sum(raw.item().get('trialinfo')['dark'])\n",
    "        reward = raw.item().get('reward')\n",
    "        reward['trials'] = np.arange(0,len(reward['trials']),1) # fixes occassional Unity error numbering of rewards \n",
    "        \n",
    "        if len(dt) > 1: # discard duplicate frame entries if they occurred\n",
    "            dt = dt[dt != 0]\n",
    "        speed = raw.item().get('speed')\n",
    "        \n",
    "        # get reward params & remove reward data pertaining to dark trials & skipped trials\n",
    "        try:\n",
    "            _ = raw.item().get('correctedtrial').shape\n",
    "            skippedtrials = get.find_skipped(trial, max_trial_num = 220)\n",
    "            nonskipped = np.setdiff1d(reward['trials'],skippedtrials)   \n",
    "            k_idx = np.intersect1d(np.where(reward['trials'] > trials_dark), nonskipped)\n",
    "            keep_idx = np.intersect1d(np.where(reward['trials'] <= np.max(alltrial)), k_idx)\n",
    "            \n",
    "        except:\n",
    "            skippedtrials = []\n",
    "            trial = raw.item().get('trial')\n",
    "            keep_idx = (np.where(reward['trials'] > trials_dark))\n",
    "            \n",
    "        reward_centers = np.array(reward['centers'][keep_idx])\n",
    "        rewardt = reward['times'][keep_idx]\n",
    "        reward_trials = reward['trials'][keep_idx]\n",
    "        misses = reward['missed'][keep_idx].astype(bool)\n",
    "        auto_reward = np.array(reward['auto'][keep_idx])\n",
    "        #print('Mouse ' + m + ' with n_misses: ' + str(np.sum(misses)))   \n",
    "\n",
    "        # get lick and reward indices\n",
    "        lick_ct = get.spiketrain(post, dt, lickt, index=False)\n",
    "        d['reward_data']['lick_ct'] = lick_ct\n",
    "        #print('got lick indices for mouse ' + m + ' session ' + s)\n",
    "        \n",
    "        reward_idx = get.rewardtrain(post, dt, rewardt, index=True) #gets reward ct for each time binned position range as index\n",
    "        d['reward_data']['reward_idx'] = reward_idx\n",
    "        #print('got reward indices for mouse ' + m + ' session ' + s)\n",
    "    \n",
    "    # saves list of reward locations per mouse\n",
    "    if reward['centers'][0] == 270:\n",
    "        rewarda_centers = np.append(rewarda_centers,270)\n",
    "        rewardb_centers = np.append(rewardb_centers,370)\n",
    "    else:\n",
    "        rewarda_centers = np.append(rewarda_centers,370)\n",
    "        rewardb_centers = np.append(rewardb_centers,270)            "
   ]
  },
  {
   "cell_type": "code",
   "execution_count": 9,
   "id": "19c2f746",
   "metadata": {},
   "outputs": [],
   "source": [
    "''' Find & Save Number of Requested Rewards per Epoch per Session & Animal '''\n",
    "\n",
    "#session arrays\n",
    "req_rates = []\n",
    "reqa_rates = []\n",
    "reqb_rates = []\n",
    "reqblock_rates = []\n",
    "reqalt_rates = []\n",
    "reqalta_rates = []\n",
    "reqaltb_rates = []\n",
    "req_trials = []\n",
    "reqblock_trials = []\n",
    "reqalt_trials = []\n",
    "\n",
    "#animals arrays\n",
    "mreq_rates = []\n",
    "mreqa_rates = []\n",
    "mreqb_rates = []\n",
    "mreqblock_rates = []\n",
    "mreqalt_rates = []\n",
    "mreqalta_rates = []\n",
    "mreqaltb_rates = []\n",
    "\n",
    "for m, session in zip(mice, sessions):\n",
    "    rt = []\n",
    "    ca = []\n",
    "    cb = []\n",
    "    blocks = []\n",
    "    alt = []\n",
    "    alta = []\n",
    "    altb = []\n",
    "    \n",
    "    req = []\n",
    "    reqa = []\n",
    "    reqb = []\n",
    "    reqblocks = []\n",
    "    reqalt = []\n",
    "    reqalta = []\n",
    "    reqaltb = []\n",
    "    \n",
    "    for s in session:\n",
    "        # get behavior data\n",
    "        d = data[m][s]\n",
    "        \n",
    "        #load data\n",
    "        rawdata_file = 'RAW_' + m + '_' + s + '.npy'\n",
    "        spikes_file = 'SPIKES_' + m + '_' + s +'.npy'\n",
    "        behavior_file = 'BEHAVIOR_' + m + '_' + s + '.npy'\n",
    "        \n",
    "        raw = np.load(load_folder + rawdata_file, allow_pickle=True)\n",
    "        Y = np.load(load_folder + spikes_file, allow_pickle=False) #pre-filtered for speeds >2cm/s, position-corrected spikes, 20 ms timebins\n",
    "        behaviorfil = np.load(load_folder + behavior_file, allow_pickle=False)\n",
    "        \n",
    "        posx = raw.item().get('posx')\n",
    "        post = raw.item().get('post')\n",
    "        dt = np.unique(np.round(np.diff(post),4))\n",
    "        if len(dt) > 1: # discard duplicate frame entries if they occurred\n",
    "            dt = dt[dt != 0]\n",
    "        speed = raw.item().get('speed')\n",
    "        \n",
    "        # get reward params & remove reward data pertaining to dark trials & skipped trials\n",
    "        lickt = raw.item().get('lickt')\n",
    "        trials_dark = np.sum(raw.item().get('trialinfo')['dark'])\n",
    "        reward = raw.item().get('reward')\n",
    "        reward['trials'] = np.arange(0,len(reward['trials']),1)\n",
    "        \n",
    "        # get reward params & remove reward data pertaining to dark trials & skipped trials\n",
    "        try:\n",
    "            _ = raw.item().get('correctedtrial').shape\n",
    "            skippedtrials = get.find_skipped(trial, max_trial_num = 220)\n",
    "            nonskipped = np.setdiff1d(reward['trials'],skippedtrials)   \n",
    "            k_idx = np.intersect1d(np.where(reward['trials'] > trials_dark), nonskipped)\n",
    "            keep_idx = np.intersect1d(np.where(reward['trials'] <= np.max(alltrial)), k_idx)\n",
    "            \n",
    "        except:\n",
    "            skippedtrials = []\n",
    "            trial = raw.item().get('trial')\n",
    "            keep_idx = (np.where(reward['trials'] > trials_dark))\n",
    "        \n",
    "        reward_centers = np.array(reward['centers'][keep_idx])\n",
    "        rewarda = reward_centers[0]\n",
    "        rewardb = reward_centers[60]\n",
    "        rewardt = reward['times'][keep_idx]\n",
    "        reward_trials = reward['trials'][keep_idx]\n",
    "        misses = reward['missed'][keep_idx].astype(bool)\n",
    "        requests = ~misses\n",
    "        \n",
    "        # find rate of requests for a given session\n",
    "        req_rates.append(np.sum(requests)/len(reward_trials)) #total\n",
    "        \n",
    "        rewarda_idx = np.where(reward_trials < 81)[0]\n",
    "        reqa_rates.append(np.sum(requests[rewarda_idx])/len(rewarda_idx)) #context a\n",
    "        \n",
    "        rewardb_idx = np.intersect1d((np.where(reward_trials >= 81)), (np.where(reward_trials <= 140)))\n",
    "        reqb_rates.append(np.sum(requests[rewardb_idx])/len(rewardb_idx)) #context b\n",
    "        \n",
    "        block_idx = np.where(reward_trials < 140)[0]\n",
    "        reqblock_rates.append(np.sum(requests[block_idx])/len(block_idx)) #block\n",
    "        \n",
    "        alt_idx = np.where(reward_trials >= 140)[0]\n",
    "        reqalt_rates.append(np.sum(requests[alt_idx])/len(alt_idx)) #alt\n",
    "        \n",
    "        alta_idx = np.where((reward_trials >= 140) & (reward_centers == rewarda))[0] \n",
    "        reqalta_rates.append(np.mean(requests[alta_idx]))\n",
    "        \n",
    "        altb_idx = np.where((reward_trials >= 140) & (reward_centers == rewardb))[0]\n",
    "        reqaltb_rates.append(np.mean(requests[altb_idx]))\n",
    "        \n",
    "        rt = np.append(rt,len(reward_trials))\n",
    "        ca = np.append(ca,len(rewarda_idx))\n",
    "        cb = np.append(cb,len(rewardb_idx))\n",
    "        blocks = np.append(blocks,len(block_idx))\n",
    "        alt = np.append(alt,len(alt_idx))\n",
    "        alta = np.append(alta, len(alta_idx))\n",
    "        altb = np.append(altb, len(altb_idx))\n",
    "        \n",
    "        req_trials = np.append(req_trials, len(reward_trials))\n",
    "        reqblock_trials = np.append(reqblock_trials, len(block_idx))\n",
    "        reqalt_trials = np.append(reqalt_trials, len(alt_idx))\n",
    "        \n",
    "        req = np.append(req,np.sum(requests))\n",
    "        reqa = np.append(reqa,np.sum(requests[rewarda_idx]))\n",
    "        reqb = np.append(reqb,np.sum(requests[rewardb_idx]))\n",
    "        reqblocks = np.append(reqblocks,np.sum(requests[block_idx]))\n",
    "        reqalt = np.append(reqalt,np.sum(requests[alt_idx]))\n",
    "        reqalta = np.append(reqalta,requests[alta_idx])\n",
    "        reqaltb = np.append(reqaltb,requests[altb_idx])\n",
    "        \n",
    "        d['altreqbytrial'] = requests[alt_idx]\n",
    "        \n",
    "    # get mouse request rate collapsing days\n",
    "    mreqrate = np.sum(req)/ np.sum(rt)\n",
    "    mreq_rates = np.append(mreq_rates,mreqrate)\n",
    "    \n",
    "    mreqarate = np.sum(reqa) / np.sum(ca)\n",
    "    mreqa_rates = np.append(mreqa_rates, mreqarate)\n",
    "    \n",
    "    mreqbrate = np.sum(reqb) / np.sum(cb)\n",
    "    mreqb_rates = np.append(mreqb_rates, mreqbrate)\n",
    "    \n",
    "    mreqblockrate = np.sum(reqblocks) / np.sum(blocks)\n",
    "    mreqblock_rates = np.append(mreqblock_rates, mreqblockrate)\n",
    "    \n",
    "    mreqaltrate = np.sum(reqalt) / np.sum(alt)\n",
    "    mreqalt_rates = np.append(mreqalt_rates, mreqaltrate)\n",
    "    \n",
    "    mreqalta_rates = np.append(mreqalta_rates, np.mean(reqalta))\n",
    "    mreqaltb_rates = np.append(mreqaltb_rates, np.mean(reqaltb))\n",
    "    \n",
    "# save as arrays to be safe\n",
    "req_rates = np.asarray(req_rates)\n",
    "reqa_rates = np.asarray(reqa_rates)\n",
    "reqb_rates = np.asarray(reqb_rates)\n",
    "reqblock_rates = np.asarray(reqblock_rates)\n",
    "reqalt_rates = np.asarray(reqalt_rates)\n",
    "reqalta_rates = np.asarray(reqalta_rates)\n",
    "reqaltb_rates = np.asarray(reqaltb_rates)\n",
    "\n",
    "mreq_rates = np.asarray(mreq_rates)\n",
    "mreqa_rates = np.asarray(mreqa_rates)\n",
    "mreqb_rates = np.asarray(mreqb_rates)\n",
    "mreqblock_rates = np.asarray(mreqblock_rates)\n",
    "mreqalt_rates = np.asarray(mreqalt_rates)\n",
    "mreqalta_rates = np.asarray(reqalta_rates)\n",
    "mreqaltb_rates = np.asarray(reqaltb_rates)"
   ]
  },
  {
   "cell_type": "code",
   "execution_count": 11,
   "id": "7c0d3b80",
   "metadata": {
    "scrolled": true
   },
   "outputs": [],
   "source": [
    "''' Load indices corresponding to quarters of the task sorted by context, making sure skipped trials are excluded.\n",
    "\n",
    "Generated in Figure S2 notebook. Please run that before proceeding.\n",
    "\n",
    "''' \n",
    "\n",
    "for m, session in zip(mice,sessions):\n",
    "    for s in session:\n",
    "        d = data[m][s]\n",
    "        \n",
    "        #save indices for session sections\n",
    "        Aidx_file = 'Aidx_' + m + '_' + s +'.npy'\n",
    "        Bidx_file = 'Bidx_' + m + '_' + s +'.npy'\n",
    "        A_idx_file = 'A_idx_' + m + '_' + s +'.npy'\n",
    "        B_idx_file = 'B_idx_' + m + '_' + s +'.npy'\n",
    "        A_ngidx_file = 'A_idx_' + m + '_' + s +'.npy'\n",
    "        B_ngidx_file = 'B_idx_' + m + '_' + s +'.npy'\n",
    "        \n",
    "        Aidx = np.load(figs2_folder + Aidx_file)\n",
    "        Bidx = np.load(figs2_folder + Bidx_file)\n",
    "        A_idx = np.load(figs2_folder + A_idx_file)\n",
    "        B_idx = np.load(figs2_folder + B_idx_file)\n",
    "        \n",
    "        d['Aidx'] = Aidx\n",
    "        d['Bidx'] = Bidx\n",
    "        d['A_idx'] = A_idx\n",
    "        d['B_idx'] = B_idx\n",
    "\n",
    "        #Also load A`& B` indices excluding gain change trials in each context\n",
    "        A_ngidx = np.load(figs2_folder + A_ngidx_file)\n",
    "        B_ngidx = np.load(figs2_folder + B_ngidx_file)\n",
    "        \n",
    "        d['A_ngidx'] = A_ngidx\n",
    "        d['B_ngidx'] = B_ngidx"
   ]
  },
  {
   "cell_type": "code",
   "execution_count": 15,
   "id": "fa20af6d",
   "metadata": {},
   "outputs": [
    {
     "name": "stdout",
     "output_type": "stream",
     "text": [
      "15152 15011 13225\n"
     ]
    }
   ],
   "source": [
    "''' Gather total number of SM cells'''\n",
    "\n",
    "young_count = 0\n",
    "MA_count = 0\n",
    "age_count = 0\n",
    "\n",
    "for m, session in zip(mice, sessions):\n",
    "    for s in session:\n",
    "        d = data[m][s]\n",
    "        \n",
    "        #Load scores, intn boolean to filter out interneurons\n",
    "        rawdata_file = 'RAW_' + m + '_' + s + '.npy'\n",
    "        raw = np.load(load_folder + rawdata_file, allow_pickle=True)\n",
    "        cell_IDs = raw.item().get('cellsfil')\n",
    "        \n",
    "        if m in SM_aged_mice:\n",
    "            age_count += len(cell_IDs)\n",
    "        elif m in SM_MA_mice:\n",
    "            MA_count += len(cell_IDs)\n",
    "        else:\n",
    "            young_count += len(cell_IDs)\n",
    "            \n",
    "print(young_count, MA_count, age_count)"
   ]
  },
  {
   "cell_type": "markdown",
   "id": "a5f6e2d6",
   "metadata": {},
   "source": [
    "# Classify spatial cells using shuffle results at a lower threshold"
   ]
  },
  {
   "cell_type": "code",
   "execution_count": 14,
   "id": "c4b0baa6",
   "metadata": {
    "scrolled": true
   },
   "outputs": [],
   "source": [
    "''' Load saved scores to classify spatial cells\n",
    "\n",
    "Notes: intn booleans are produced by the notebook \"Shuffle Procedure...\" Run the first part of that for all sessions before \n",
    "proceeding here. \n",
    "\n",
    "The Fig S2 notebook produces the scores loaded below to classify spatial cells. Run that before proceeding.\n",
    "\n",
    "'''\n",
    "\n",
    "for m, session in zip(mice, sessions):\n",
    "    for s in session:\n",
    "        d = data[m][s]\n",
    "        \n",
    "        #get file names\n",
    "        shufsparsityascore_file = 'shufsparsityascores_' + m + '_' + s + '.npy'\n",
    "        shufspatialacoherencescore_file = 'shufspatialacoherencescores_' + m + '_' + s + '.npy'\n",
    "        intn_file = 'intn_' + m + '_' + s + '.npy'\n",
    "        sparsityascore_file = 'sparsityascores_' + m + '_' + s + '.npy'\n",
    "        spatialacoherencescore_file = 'spatialacoherencescores_' + m + '_' + s + '.npy' \n",
    "\n",
    "        #load npy files       \n",
    "\n",
    "        d['shuffsparsityascores'] = np.load(shuffload_folder1 + shufsparsityascore_file, allow_pickle=False)\n",
    "        d['shuffspatialacoherencescores'] = np.load(shuffload_folder2 + shufspatialacoherencescore_file, allow_pickle=False)\n",
    "        d['intn'] = np.load(int_save_folder + intn_file, allow_pickle = True)\n",
    "        d['intn'] = d['intn'].astype(bool)    \n",
    "        d['spatialasparsity'] = np.load(figs2_folder + sparsityascore_file, allow_pickle=True)\n",
    "        d['spatialacoherencescores'] = np.load(figs2_folder + spatialacoherencescore_file, allow_pickle=True)"
   ]
  },
  {
   "cell_type": "code",
   "execution_count": 16,
   "id": "280d2b7d",
   "metadata": {
    "scrolled": true
   },
   "outputs": [
    {
     "data": {
      "application/vnd.jupyter.widget-view+json": {
       "model_id": "80fc7660ecc949829740644104610114",
       "version_major": 2,
       "version_minor": 0
      },
      "text/plain": [
       "  0%|          | 0/3 [00:00<?, ?it/s]"
      ]
     },
     "metadata": {},
     "output_type": "display_data"
    },
    {
     "data": {
      "application/vnd.jupyter.widget-view+json": {
       "model_id": "9f8a9c49eb56444d93bb3c09e75c4ad9",
       "version_major": 2,
       "version_minor": 0
      },
      "text/plain": [
       "  0%|          | 0/6 [00:00<?, ?it/s]"
      ]
     },
     "metadata": {},
     "output_type": "display_data"
    },
    {
     "data": {
      "application/vnd.jupyter.widget-view+json": {
       "model_id": "9e6d73bedf7e4459a49934ca5032809f",
       "version_major": 2,
       "version_minor": 0
      },
      "text/plain": [
       "  0%|          | 0/4 [00:00<?, ?it/s]"
      ]
     },
     "metadata": {},
     "output_type": "display_data"
    },
    {
     "data": {
      "application/vnd.jupyter.widget-view+json": {
       "model_id": "be628ef5a6b84088a03de986f77067c3",
       "version_major": 2,
       "version_minor": 0
      },
      "text/plain": [
       "  0%|          | 0/6 [00:00<?, ?it/s]"
      ]
     },
     "metadata": {},
     "output_type": "display_data"
    },
    {
     "data": {
      "application/vnd.jupyter.widget-view+json": {
       "model_id": "a9158ca757dc40be87075d6ebfa36d9e",
       "version_major": 2,
       "version_minor": 0
      },
      "text/plain": [
       "  0%|          | 0/6 [00:00<?, ?it/s]"
      ]
     },
     "metadata": {},
     "output_type": "display_data"
    },
    {
     "data": {
      "application/vnd.jupyter.widget-view+json": {
       "model_id": "7adae0db1c3c42f4a491506ce3c02d8a",
       "version_major": 2,
       "version_minor": 0
      },
      "text/plain": [
       "  0%|          | 0/6 [00:00<?, ?it/s]"
      ]
     },
     "metadata": {},
     "output_type": "display_data"
    },
    {
     "data": {
      "application/vnd.jupyter.widget-view+json": {
       "model_id": "a933bcccf77a4bb68297ea6f04eeec9f",
       "version_major": 2,
       "version_minor": 0
      },
      "text/plain": [
       "  0%|          | 0/6 [00:00<?, ?it/s]"
      ]
     },
     "metadata": {},
     "output_type": "display_data"
    },
    {
     "data": {
      "application/vnd.jupyter.widget-view+json": {
       "model_id": "8640d3c56d33446e969d3f827c0eb404",
       "version_major": 2,
       "version_minor": 0
      },
      "text/plain": [
       "  0%|          | 0/6 [00:00<?, ?it/s]"
      ]
     },
     "metadata": {},
     "output_type": "display_data"
    },
    {
     "data": {
      "application/vnd.jupyter.widget-view+json": {
       "model_id": "7581f43349674a73b9a9caf9b8837c85",
       "version_major": 2,
       "version_minor": 0
      },
      "text/plain": [
       "  0%|          | 0/6 [00:00<?, ?it/s]"
      ]
     },
     "metadata": {},
     "output_type": "display_data"
    },
    {
     "data": {
      "application/vnd.jupyter.widget-view+json": {
       "model_id": "0ed66692b3114b399989b75f17c181e6",
       "version_major": 2,
       "version_minor": 0
      },
      "text/plain": [
       "  0%|          | 0/6 [00:00<?, ?it/s]"
      ]
     },
     "metadata": {},
     "output_type": "display_data"
    },
    {
     "data": {
      "application/vnd.jupyter.widget-view+json": {
       "model_id": "1bd7200938aa427faeffe084f09812f8",
       "version_major": 2,
       "version_minor": 0
      },
      "text/plain": [
       "  0%|          | 0/6 [00:00<?, ?it/s]"
      ]
     },
     "metadata": {},
     "output_type": "display_data"
    },
    {
     "data": {
      "application/vnd.jupyter.widget-view+json": {
       "model_id": "34b23f772cad473b9f44ef8196e30b5a",
       "version_major": 2,
       "version_minor": 0
      },
      "text/plain": [
       "  0%|          | 0/6 [00:00<?, ?it/s]"
      ]
     },
     "metadata": {},
     "output_type": "display_data"
    },
    {
     "data": {
      "application/vnd.jupyter.widget-view+json": {
       "model_id": "cc30a73e20c741d7ab9a1537ef0c6500",
       "version_major": 2,
       "version_minor": 0
      },
      "text/plain": [
       "  0%|          | 0/6 [00:00<?, ?it/s]"
      ]
     },
     "metadata": {},
     "output_type": "display_data"
    },
    {
     "data": {
      "application/vnd.jupyter.widget-view+json": {
       "model_id": "cc5957c7c75d4b8795728800b967019b",
       "version_major": 2,
       "version_minor": 0
      },
      "text/plain": [
       "  0%|          | 0/6 [00:00<?, ?it/s]"
      ]
     },
     "metadata": {},
     "output_type": "display_data"
    },
    {
     "data": {
      "application/vnd.jupyter.widget-view+json": {
       "model_id": "e691478977774878b5340be17c171c46",
       "version_major": 2,
       "version_minor": 0
      },
      "text/plain": [
       "  0%|          | 0/6 [00:00<?, ?it/s]"
      ]
     },
     "metadata": {},
     "output_type": "display_data"
    },
    {
     "data": {
      "application/vnd.jupyter.widget-view+json": {
       "model_id": "10e0615fcc7840949f2cd6ef8c787bc4",
       "version_major": 2,
       "version_minor": 0
      },
      "text/plain": [
       "  0%|          | 0/6 [00:00<?, ?it/s]"
      ]
     },
     "metadata": {},
     "output_type": "display_data"
    },
    {
     "data": {
      "application/vnd.jupyter.widget-view+json": {
       "model_id": "1d5fc64e7a374b0da1569226bd9f1c2e",
       "version_major": 2,
       "version_minor": 0
      },
      "text/plain": [
       "  0%|          | 0/6 [00:00<?, ?it/s]"
      ]
     },
     "metadata": {},
     "output_type": "display_data"
    },
    {
     "data": {
      "application/vnd.jupyter.widget-view+json": {
       "model_id": "33bc4386c2e84ee6a553e7b7d53b03b6",
       "version_major": 2,
       "version_minor": 0
      },
      "text/plain": [
       "  0%|          | 0/4 [00:00<?, ?it/s]"
      ]
     },
     "metadata": {},
     "output_type": "display_data"
    },
    {
     "data": {
      "application/vnd.jupyter.widget-view+json": {
       "model_id": "2d1cd7cc000741949153494863db7d3b",
       "version_major": 2,
       "version_minor": 0
      },
      "text/plain": [
       "  0%|          | 0/6 [00:00<?, ?it/s]"
      ]
     },
     "metadata": {},
     "output_type": "display_data"
    },
    {
     "data": {
      "application/vnd.jupyter.widget-view+json": {
       "model_id": "0cf2c1d3aaed4a8996ca6099de810bb3",
       "version_major": 2,
       "version_minor": 0
      },
      "text/plain": [
       "  0%|          | 0/6 [00:00<?, ?it/s]"
      ]
     },
     "metadata": {},
     "output_type": "display_data"
    },
    {
     "data": {
      "application/vnd.jupyter.widget-view+json": {
       "model_id": "be35e322efc64dd3a71d520dbf158280",
       "version_major": 2,
       "version_minor": 0
      },
      "text/plain": [
       "  0%|          | 0/6 [00:00<?, ?it/s]"
      ]
     },
     "metadata": {},
     "output_type": "display_data"
    },
    {
     "data": {
      "application/vnd.jupyter.widget-view+json": {
       "model_id": "02b47145178d49a2a3de1df700e5d152",
       "version_major": 2,
       "version_minor": 0
      },
      "text/plain": [
       "  0%|          | 0/6 [00:00<?, ?it/s]"
      ]
     },
     "metadata": {},
     "output_type": "display_data"
    },
    {
     "data": {
      "application/vnd.jupyter.widget-view+json": {
       "model_id": "407f72dc487d4b25bc27c880009947c3",
       "version_major": 2,
       "version_minor": 0
      },
      "text/plain": [
       "  0%|          | 0/6 [00:00<?, ?it/s]"
      ]
     },
     "metadata": {},
     "output_type": "display_data"
    },
    {
     "data": {
      "application/vnd.jupyter.widget-view+json": {
       "model_id": "c451d98b40534dceaaae8d192da9c4d6",
       "version_major": 2,
       "version_minor": 0
      },
      "text/plain": [
       "  0%|          | 0/6 [00:00<?, ?it/s]"
      ]
     },
     "metadata": {},
     "output_type": "display_data"
    },
    {
     "data": {
      "application/vnd.jupyter.widget-view+json": {
       "model_id": "5f9ed2612a204ff6b36699a03ea21ab6",
       "version_major": 2,
       "version_minor": 0
      },
      "text/plain": [
       "  0%|          | 0/6 [00:00<?, ?it/s]"
      ]
     },
     "metadata": {},
     "output_type": "display_data"
    },
    {
     "data": {
      "application/vnd.jupyter.widget-view+json": {
       "model_id": "42d8902d04d6412e9097d1c0b5d61481",
       "version_major": 2,
       "version_minor": 0
      },
      "text/plain": [
       "  0%|          | 0/6 [00:00<?, ?it/s]"
      ]
     },
     "metadata": {},
     "output_type": "display_data"
    },
    {
     "data": {
      "application/vnd.jupyter.widget-view+json": {
       "model_id": "62fc1f4791c34e6c9b203f8ed6471425",
       "version_major": 2,
       "version_minor": 0
      },
      "text/plain": [
       "  0%|          | 0/6 [00:00<?, ?it/s]"
      ]
     },
     "metadata": {},
     "output_type": "display_data"
    },
    {
     "data": {
      "application/vnd.jupyter.widget-view+json": {
       "model_id": "5f55d726a8b748cb855830d0afb6db8a",
       "version_major": 2,
       "version_minor": 0
      },
      "text/plain": [
       "  0%|          | 0/6 [00:00<?, ?it/s]"
      ]
     },
     "metadata": {},
     "output_type": "display_data"
    },
    {
     "data": {
      "application/vnd.jupyter.widget-view+json": {
       "model_id": "2841168a3a2c41a7bfec4fedb20b8137",
       "version_major": 2,
       "version_minor": 0
      },
      "text/plain": [
       "  0%|          | 0/6 [00:00<?, ?it/s]"
      ]
     },
     "metadata": {},
     "output_type": "display_data"
    },
    {
     "name": "stdout",
     "output_type": "stream",
     "text": [
      "\n",
      "Mean ± SEM Coherence P95: 0.3910526001251149 ± 0.0007825185327001357\n",
      "Mean ± SEM Sparsity P95:1.4206468773988374 ± 0.012832039772898058\n"
     ]
    }
   ],
   "source": [
    "''' Classify Spatial Cells at P95 Threshold from Context A Sparsity & Coherence '''\n",
    "\n",
    "per95c = []\n",
    "per95s = []\n",
    "dt = 0.02\n",
    "\n",
    "for m, session in zip(mice, sessions):\n",
    "    for s in tdqm(session):\n",
    "        d = data[m][s]\n",
    "        \n",
    "        #Load scores, intn boolean to filter out interneurons\n",
    "        rawdata_file = 'RAW_' + m + '_' + s + '.npy'\n",
    "        spikes_file = 'SPIKES_' + m + '_' + s +'.npy'\n",
    "        behavior_file = 'BEHAVIOR_' + m + '_' + s + '.npy'\n",
    "        \n",
    "        raw = np.load(load_folder + rawdata_file, allow_pickle=True)\n",
    "        Y = np.load(load_folder + spikes_file, allow_pickle=False) #pre-filtered for speeds >2cm/s, position-corrected spikes, 20 ms timebins\n",
    "        behaviorfil = np.load(load_folder + behavior_file, allow_pickle=False)\n",
    "        cell_IDs = raw.item().get('cellsfil')\n",
    "        posx = behaviorfil[:,0]\n",
    "        trial = behaviorfil[:,2]\n",
    "        post = behaviorfil[:,3]\n",
    "        \n",
    "        cell_IDs = raw.item().get('cellsfil')\n",
    "        sparsitya_scores = d['spatialasparsity']\n",
    "        spatialacoherence_scores = d['spatialacoherencescores']\n",
    "        shuffsparsityascores = d['shuffsparsityascores'] \n",
    "        shuffspatialacoherencescores = d['shuffspatialacoherencescores'] \n",
    "        intn = d['intn']\n",
    "\n",
    "        #Classify spatial cells as those > P95 of both Contexte A shuffle sparsity & coherence score distributions\n",
    "        spatialcell95 = []\n",
    "        for i, c in enumerate(cell_IDs):\n",
    "\n",
    "            dist1 = shuffspatialacoherencescores[:,i]\n",
    "            P951 = np.nanpercentile(dist1,95)\n",
    "\n",
    "            dist2 = shuffsparsityascores[:,i]\n",
    "            P952 = np.nanpercentile(dist2,95)\n",
    "            \n",
    "            per95c.append(P951)\n",
    "            per95s.append(P952)\n",
    "\n",
    "            if intn[i] == True: #spatial cells must be excitatory\n",
    "                spatialcell95 = np.append(spatialcell95, False)\n",
    "            elif (spatialacoherence_scores[i] > P951) & (sparsitya_scores[i] > P952):\n",
    "                spatialcell95 = np.append(spatialcell95, True)\n",
    "            else:\n",
    "                spatialcell95 = np.append(spatialcell95, False)\n",
    "        spatialcell95 = np.asarray(spatialcell95).astype(bool)\n",
    "\n",
    "        #save speed cell IDs in nested list for all animals\n",
    "        d['spatialcell95'] = spatialcell95    \n",
    "        #print('% spatial cells = ' + str(100*len(cell_IDs[spatialcell95])/len(cell_IDs)))\n",
    "        \n",
    "        spatialcell95_file = 'spatialcell95_' + m + '_' + s + '.npy'\n",
    "        #np.save(save_folder + spatialcell95_file, spatialcell95)\n",
    "        #print('saved spatial cell booleans as npy files for mouse ' + m + ' session '+ s)\n",
    "\n",
    "print('\\nMean ± SEM Coherence P95: ' + str(np.nanmean(per95c)) + ' ± ' + str(stats.sem(per95c, nan_policy = 'omit')))\n",
    "print('Mean ± SEM Sparsity P95:' + str(np.nanmean(per95s)) + ' ± ' + str(stats.sem(per95s,  nan_policy = 'omit'))) "
   ]
  },
  {
   "cell_type": "markdown",
   "id": "8e6f9dea",
   "metadata": {},
   "source": [
    "# Classify non-grid vs. grid cells at a lower threshold"
   ]
  },
  {
   "cell_type": "code",
   "execution_count": 17,
   "id": "9a8982bc",
   "metadata": {
    "scrolled": true
   },
   "outputs": [
    {
     "data": {
      "application/vnd.jupyter.widget-view+json": {
       "model_id": "58b0463e8b6f4cc3930ca6afc7411215",
       "version_major": 2,
       "version_minor": 0
      },
      "text/plain": [
       "  0%|          | 0/3 [00:00<?, ?it/s]"
      ]
     },
     "metadata": {},
     "output_type": "display_data"
    },
    {
     "name": "stderr",
     "output_type": "stream",
     "text": [
      "C:\\Users\\Python\\Desktop\\GitHub\\Herber2024\\pipeline\\get_data.py:380: RuntimeWarning: invalid value encountered in divide\n",
      "  corr=np.correlate(xp,xp,'full')[len(x)-1:]/var/len(x)\n"
     ]
    },
    {
     "name": "stdout",
     "output_type": "stream",
     "text": [
      "A14, 083022_record1 n grid, ngs cells: 19 , 54\n",
      "A14, 083122_record2 n grid, ngs cells: 51 , 5\n",
      "A14, 090122_record3 n grid, ngs cells: 18 , 15\n"
     ]
    },
    {
     "data": {
      "application/vnd.jupyter.widget-view+json": {
       "model_id": "257c6e34573949b087a70181411e1e6f",
       "version_major": 2,
       "version_minor": 0
      },
      "text/plain": [
       "  0%|          | 0/6 [00:00<?, ?it/s]"
      ]
     },
     "metadata": {},
     "output_type": "display_data"
    },
    {
     "name": "stdout",
     "output_type": "stream",
     "text": [
      "A15, 083022_record1 n grid, ngs cells: 5 , 7\n",
      "A15, 083122_record2 n grid, ngs cells: 90 , 34\n",
      "A15, 090122_record3 n grid, ngs cells: 97 , 37\n",
      "A15, 090222_record4 n grid, ngs cells: 150 , 71\n",
      "A15, 090322_record5 n grid, ngs cells: 54 , 33\n",
      "A15, 090422_record6 n grid, ngs cells: 28 , 19\n"
     ]
    },
    {
     "data": {
      "application/vnd.jupyter.widget-view+json": {
       "model_id": "b08a3e1c5f8549aba0bc604924a47705",
       "version_major": 2,
       "version_minor": 0
      },
      "text/plain": [
       "  0%|          | 0/4 [00:00<?, ?it/s]"
      ]
     },
     "metadata": {},
     "output_type": "display_data"
    },
    {
     "name": "stdout",
     "output_type": "stream",
     "text": [
      "A16, 083022_record1 n grid, ngs cells: 25 , 25\n",
      "A16, 083122_record2 n grid, ngs cells: 64 , 35\n",
      "A16, 090122_record3 n grid, ngs cells: 0 , 2\n",
      "A16, 090222_record4 n grid, ngs cells: 18 , 42\n"
     ]
    },
    {
     "data": {
      "application/vnd.jupyter.widget-view+json": {
       "model_id": "2ca0dce0568d47439e58218ad3827c6f",
       "version_major": 2,
       "version_minor": 0
      },
      "text/plain": [
       "  0%|          | 0/6 [00:00<?, ?it/s]"
      ]
     },
     "metadata": {},
     "output_type": "display_data"
    },
    {
     "name": "stdout",
     "output_type": "stream",
     "text": [
      "A17, 082322_record1 n grid, ngs cells: 2 , 2\n",
      "A17, 082422_record2 n grid, ngs cells: 2 , 7\n",
      "A17, 082522_record3 n grid, ngs cells: 46 , 40\n",
      "A17, 082622_record4 n grid, ngs cells: 48 , 21\n",
      "A17, 082722_record5 n grid, ngs cells: 46 , 22\n",
      "A17, 082822_record6 n grid, ngs cells: 61 , 24\n"
     ]
    },
    {
     "data": {
      "application/vnd.jupyter.widget-view+json": {
       "model_id": "144634f1927b497892a887c54d9ba9d3",
       "version_major": 2,
       "version_minor": 0
      },
      "text/plain": [
       "  0%|          | 0/6 [00:00<?, ?it/s]"
      ]
     },
     "metadata": {},
     "output_type": "display_data"
    },
    {
     "name": "stdout",
     "output_type": "stream",
     "text": [
      "A18, 082322_record1real n grid, ngs cells: 18 , 11\n",
      "A18, 082422_record2 n grid, ngs cells: 100 , 151\n",
      "A18, 082522_record3 n grid, ngs cells: 90 , 122\n",
      "A18, 082622_record4 n grid, ngs cells: 58 , 78\n",
      "A18, 082722_record5 n grid, ngs cells: 52 , 11\n",
      "A18, 082822_record6 n grid, ngs cells: 0 , 34\n"
     ]
    },
    {
     "data": {
      "application/vnd.jupyter.widget-view+json": {
       "model_id": "ca25992ac88242f0808dc33634f5d122",
       "version_major": 2,
       "version_minor": 0
      },
      "text/plain": [
       "  0%|          | 0/6 [00:00<?, ?it/s]"
      ]
     },
     "metadata": {},
     "output_type": "display_data"
    },
    {
     "name": "stdout",
     "output_type": "stream",
     "text": [
      "A19, 012723_record2 n grid, ngs cells: 27 , 1\n",
      "A19, 012823_record3 n grid, ngs cells: 31 , 78\n",
      "A19, 012923_record4 n grid, ngs cells: 52 , 69\n",
      "A19, 013023_record5 n grid, ngs cells: 67 , 34\n",
      "A19, 013123_record6 n grid, ngs cells: 46 , 18\n",
      "A19, 020123_record7 n grid, ngs cells: 66 , 22\n"
     ]
    },
    {
     "data": {
      "application/vnd.jupyter.widget-view+json": {
       "model_id": "24bba7a753f4498285b8ffdd03bc7328",
       "version_major": 2,
       "version_minor": 0
      },
      "text/plain": [
       "  0%|          | 0/6 [00:00<?, ?it/s]"
      ]
     },
     "metadata": {},
     "output_type": "display_data"
    },
    {
     "name": "stdout",
     "output_type": "stream",
     "text": [
      "A20, 012623_record1 n grid, ngs cells: 7 , 19\n",
      "A20, 012723_record2 n grid, ngs cells: 36 , 45\n",
      "A20, 012823_record3 n grid, ngs cells: 78 , 52\n",
      "A20, 012923_record4 n grid, ngs cells: 28 , 44\n",
      "A20, 013023_record5 n grid, ngs cells: 34 , 51\n",
      "A20, 013123_record6 n grid, ngs cells: 12 , 34\n"
     ]
    },
    {
     "data": {
      "application/vnd.jupyter.widget-view+json": {
       "model_id": "390e1adc979a46589ceacad3c5930c88",
       "version_major": 2,
       "version_minor": 0
      },
      "text/plain": [
       "  0%|          | 0/6 [00:00<?, ?it/s]"
      ]
     },
     "metadata": {},
     "output_type": "display_data"
    },
    {
     "name": "stdout",
     "output_type": "stream",
     "text": [
      "A22, 012923_record2 n grid, ngs cells: 64 , 34\n",
      "A22, 013023_record3 n grid, ngs cells: 109 , 95\n",
      "A22, 013123_record4 n grid, ngs cells: 64 , 43\n",
      "A22, 020123_record5 n grid, ngs cells: 11 , 12\n",
      "A22, 020223_record6 n grid, ngs cells: 40 , 34\n",
      "A22, 020323_record7 n grid, ngs cells: 19 , 6\n"
     ]
    },
    {
     "data": {
      "application/vnd.jupyter.widget-view+json": {
       "model_id": "ece9a1ac1abb4bd8a4695f0379a0b89a",
       "version_major": 2,
       "version_minor": 0
      },
      "text/plain": [
       "  0%|          | 0/6 [00:00<?, ?it/s]"
      ]
     },
     "metadata": {},
     "output_type": "display_data"
    },
    {
     "name": "stdout",
     "output_type": "stream",
     "text": [
      "A23, 020923_record1 n grid, ngs cells: 6 , 8\n",
      "A23, 021023_record2 n grid, ngs cells: 35 , 63\n",
      "A23, 021123_record3 n grid, ngs cells: 38 , 63\n",
      "A23, 021223_record4 n grid, ngs cells: 13 , 4\n",
      "A23, 021323_record5 n grid, ngs cells: 34 , 37\n",
      "A23, 021423_record6 n grid, ngs cells: 58 , 52\n"
     ]
    },
    {
     "data": {
      "application/vnd.jupyter.widget-view+json": {
       "model_id": "c98998a04bee4c13926de927456ae5a2",
       "version_major": 2,
       "version_minor": 0
      },
      "text/plain": [
       "  0%|          | 0/6 [00:00<?, ?it/s]"
      ]
     },
     "metadata": {},
     "output_type": "display_data"
    },
    {
     "name": "stdout",
     "output_type": "stream",
     "text": [
      "A24, 022623_record1 n grid, ngs cells: 49 , 37\n",
      "A24, 022723_record2 n grid, ngs cells: 122 , 75\n",
      "A24, 022823_record3 n grid, ngs cells: 71 , 61\n",
      "A24, 030123_record4 n grid, ngs cells: 77 , 29\n",
      "A24, 030223_record5 n grid, ngs cells: 58 , 27\n",
      "A24, 030323_record6 n grid, ngs cells: 22 , 17\n"
     ]
    },
    {
     "data": {
      "application/vnd.jupyter.widget-view+json": {
       "model_id": "8e243dfcc1d44ea1935dc44604026404",
       "version_major": 2,
       "version_minor": 0
      },
      "text/plain": [
       "  0%|          | 0/6 [00:00<?, ?it/s]"
      ]
     },
     "metadata": {},
     "output_type": "display_data"
    },
    {
     "name": "stdout",
     "output_type": "stream",
     "text": [
      "MA10F, 111322_record1 n grid, ngs cells: 80 , 93\n",
      "MA10F, 111422_record2 n grid, ngs cells: 71 , 41\n",
      "MA10F, 111522_record3 n grid, ngs cells: 46 , 27\n",
      "MA10F, 111622_record4 n grid, ngs cells: 27 , 23\n",
      "MA10F, 111722_record5 n grid, ngs cells: 29 , 23\n",
      "MA10F, 111822_record6 n grid, ngs cells: 54 , 76\n"
     ]
    },
    {
     "data": {
      "application/vnd.jupyter.widget-view+json": {
       "model_id": "cbafd6db2932436c8ab8f851f4253ead",
       "version_major": 2,
       "version_minor": 0
      },
      "text/plain": [
       "  0%|          | 0/6 [00:00<?, ?it/s]"
      ]
     },
     "metadata": {},
     "output_type": "display_data"
    },
    {
     "name": "stdout",
     "output_type": "stream",
     "text": [
      "MA1F, 102322_record1 n grid, ngs cells: 36 , 23\n",
      "MA1F, 102422_record2 n grid, ngs cells: 62 , 26\n",
      "MA1F, 102522_record3 n grid, ngs cells: 56 , 22\n",
      "MA1F, 102622_record4 n grid, ngs cells: 11 , 9\n",
      "MA1F, 102722_record5 n grid, ngs cells: 85 , 46\n",
      "MA1F, 102822_record6 n grid, ngs cells: 84 , 26\n"
     ]
    },
    {
     "data": {
      "application/vnd.jupyter.widget-view+json": {
       "model_id": "7b4b3b1609ea4d42aefe301bff05f30b",
       "version_major": 2,
       "version_minor": 0
      },
      "text/plain": [
       "  0%|          | 0/6 [00:00<?, ?it/s]"
      ]
     },
     "metadata": {},
     "output_type": "display_data"
    },
    {
     "name": "stdout",
     "output_type": "stream",
     "text": [
      "MA2F, 102322_record1 n grid, ngs cells: 57 , 80\n",
      "MA2F, 102422_record2 n grid, ngs cells: 53 , 94\n",
      "MA2F, 102522_record3 n grid, ngs cells: 78 , 103\n",
      "MA2F, 102622_record4 n grid, ngs cells: 49 , 63\n",
      "MA2F, 102722_record5 n grid, ngs cells: 44 , 48\n",
      "MA2F, 102822_record6 n grid, ngs cells: 54 , 39\n"
     ]
    },
    {
     "data": {
      "application/vnd.jupyter.widget-view+json": {
       "model_id": "bb2142e598de4af5b2c56bfadaaa47cb",
       "version_major": 2,
       "version_minor": 0
      },
      "text/plain": [
       "  0%|          | 0/6 [00:00<?, ?it/s]"
      ]
     },
     "metadata": {},
     "output_type": "display_data"
    },
    {
     "name": "stdout",
     "output_type": "stream",
     "text": [
      "MA3M, 102322_record1 n grid, ngs cells: 11 , 20\n",
      "MA3M, 102422_record2 n grid, ngs cells: 43 , 62\n",
      "MA3M, 102522_record3 n grid, ngs cells: 43 , 56\n",
      "MA3M, 102622_record4 n grid, ngs cells: 17 , 58\n",
      "MA3M, 102722_record5 n grid, ngs cells: 18 , 30\n",
      "MA3M, 102822_record6 n grid, ngs cells: 37 , 45\n"
     ]
    },
    {
     "data": {
      "application/vnd.jupyter.widget-view+json": {
       "model_id": "c507203d91824f5dbdf83bc20fbc93aa",
       "version_major": 2,
       "version_minor": 0
      },
      "text/plain": [
       "  0%|          | 0/6 [00:00<?, ?it/s]"
      ]
     },
     "metadata": {},
     "output_type": "display_data"
    },
    {
     "name": "stdout",
     "output_type": "stream",
     "text": [
      "MA4M, 103122_record2 n grid, ngs cells: 45 , 53\n",
      "MA4M, 110122_record3 n grid, ngs cells: 32 , 25\n",
      "MA4M, 110222_record4 n grid, ngs cells: 11 , 11\n",
      "MA4M, 110322_record5rep n grid, ngs cells: 30 , 21\n",
      "MA4M, 110422_record6 n grid, ngs cells: 51 , 40\n",
      "MA4M, 110522_record7 n grid, ngs cells: 13 , 10\n"
     ]
    },
    {
     "data": {
      "application/vnd.jupyter.widget-view+json": {
       "model_id": "f43563997b1e46a08f25e67d873a3695",
       "version_major": 2,
       "version_minor": 0
      },
      "text/plain": [
       "  0%|          | 0/6 [00:00<?, ?it/s]"
      ]
     },
     "metadata": {},
     "output_type": "display_data"
    },
    {
     "name": "stdout",
     "output_type": "stream",
     "text": [
      "MA5M, 110622_record1 n grid, ngs cells: 78 , 26\n",
      "MA5M, 110722_record2 n grid, ngs cells: 74 , 61\n",
      "MA5M, 110822_record3 n grid, ngs cells: 93 , 32\n",
      "MA5M, 110922_record4 n grid, ngs cells: 11 , 13\n",
      "MA5M, 111022_record5 n grid, ngs cells: 29 , 29\n",
      "MA5M, 111122_record6 n grid, ngs cells: 29 , 25\n"
     ]
    },
    {
     "data": {
      "application/vnd.jupyter.widget-view+json": {
       "model_id": "b76bde60473a49e0a1ca9adcd57682bd",
       "version_major": 2,
       "version_minor": 0
      },
      "text/plain": [
       "  0%|          | 0/6 [00:00<?, ?it/s]"
      ]
     },
     "metadata": {},
     "output_type": "display_data"
    },
    {
     "name": "stdout",
     "output_type": "stream",
     "text": [
      "MA6M, 103022_record1 n grid, ngs cells: 38 , 78\n",
      "MA6M, 103122_record2 n grid, ngs cells: 26 , 43\n",
      "MA6M, 110122_record3 n grid, ngs cells: 84 , 55\n",
      "MA6M, 110222_record4 n grid, ngs cells: 10 , 14\n",
      "MA6M, 110322_record5 n grid, ngs cells: 15 , 7\n",
      "MA6M, 110422_record6 n grid, ngs cells: 44 , 34\n"
     ]
    },
    {
     "data": {
      "application/vnd.jupyter.widget-view+json": {
       "model_id": "c6f577bc7cfe4c44841f52794ec74874",
       "version_major": 2,
       "version_minor": 0
      },
      "text/plain": [
       "  0%|          | 0/4 [00:00<?, ?it/s]"
      ]
     },
     "metadata": {},
     "output_type": "display_data"
    },
    {
     "name": "stdout",
     "output_type": "stream",
     "text": [
      "MA7M, 103022_record1 n grid, ngs cells: 34 , 35\n",
      "MA7M, 103122_record2 n grid, ngs cells: 45 , 49\n",
      "MA7M, 110122_record3 n grid, ngs cells: 25 , 34\n",
      "MA7M, 110222_record4 n grid, ngs cells: 11 , 8\n"
     ]
    },
    {
     "data": {
      "application/vnd.jupyter.widget-view+json": {
       "model_id": "e70e617aaec6453ab84b6066e4ea1727",
       "version_major": 2,
       "version_minor": 0
      },
      "text/plain": [
       "  0%|          | 0/6 [00:00<?, ?it/s]"
      ]
     },
     "metadata": {},
     "output_type": "display_data"
    },
    {
     "name": "stdout",
     "output_type": "stream",
     "text": [
      "MA8F, 111322_record1 n grid, ngs cells: 22 , 7\n",
      "MA8F, 111422_record2 n grid, ngs cells: 77 , 58\n",
      "MA8F, 111522_record3 n grid, ngs cells: 86 , 29\n",
      "MA8F, 111622_record4 n grid, ngs cells: 32 , 31\n",
      "MA8F, 111722_record5 n grid, ngs cells: 20 , 23\n",
      "MA8F, 111822_record6 n grid, ngs cells: 14 , 20\n"
     ]
    },
    {
     "data": {
      "application/vnd.jupyter.widget-view+json": {
       "model_id": "1cf6684699f04fdcb165a0b847b805aa",
       "version_major": 2,
       "version_minor": 0
      },
      "text/plain": [
       "  0%|          | 0/6 [00:00<?, ?it/s]"
      ]
     },
     "metadata": {},
     "output_type": "display_data"
    },
    {
     "name": "stdout",
     "output_type": "stream",
     "text": [
      "MA9F, 111322_record1 n grid, ngs cells: 68 , 37\n",
      "MA9F, 111422_record2 n grid, ngs cells: 97 , 171\n",
      "MA9F, 111522_record3 n grid, ngs cells: 137 , 89\n",
      "MA9F, 111622_record4 n grid, ngs cells: 0 , 1\n",
      "MA9F, 111722_record5 n grid, ngs cells: 28 , 31\n",
      "MA9F, 111822_record6 n grid, ngs cells: 28 , 21\n"
     ]
    },
    {
     "data": {
      "application/vnd.jupyter.widget-view+json": {
       "model_id": "b0bb3df4fea04c8a844bd689d822ea49",
       "version_major": 2,
       "version_minor": 0
      },
      "text/plain": [
       "  0%|          | 0/6 [00:00<?, ?it/s]"
      ]
     },
     "metadata": {},
     "output_type": "display_data"
    },
    {
     "name": "stdout",
     "output_type": "stream",
     "text": [
      "Y20, 092522_record1 n grid, ngs cells: 13 , 5\n",
      "Y20, 092622_record2 n grid, ngs cells: 39 , 32\n",
      "Y20, 092722_record3 n grid, ngs cells: 15 , 14\n",
      "Y20, 092822_record4 n grid, ngs cells: 58 , 32\n",
      "Y20, 092922_record5 n grid, ngs cells: 23 , 11\n",
      "Y20, 093022_record6 n grid, ngs cells: 98 , 64\n"
     ]
    },
    {
     "data": {
      "application/vnd.jupyter.widget-view+json": {
       "model_id": "52216343b840428dbc652ef2449642db",
       "version_major": 2,
       "version_minor": 0
      },
      "text/plain": [
       "  0%|          | 0/6 [00:00<?, ?it/s]"
      ]
     },
     "metadata": {},
     "output_type": "display_data"
    },
    {
     "name": "stdout",
     "output_type": "stream",
     "text": [
      "Y21, 091822_record1 n grid, ngs cells: 116 , 68\n",
      "Y21, 091922_record2 n grid, ngs cells: 105 , 105\n",
      "Y21, 092022_record3 n grid, ngs cells: 61 , 29\n",
      "Y21, 092122_record4 n grid, ngs cells: 72 , 61\n",
      "Y21, 092222_record5 n grid, ngs cells: 58 , 51\n",
      "Y21, 092322_record6 n grid, ngs cells: 12 , 30\n"
     ]
    },
    {
     "data": {
      "application/vnd.jupyter.widget-view+json": {
       "model_id": "3f66d320894446e082379d8f5650a5bf",
       "version_major": 2,
       "version_minor": 0
      },
      "text/plain": [
       "  0%|          | 0/6 [00:00<?, ?it/s]"
      ]
     },
     "metadata": {},
     "output_type": "display_data"
    },
    {
     "name": "stdout",
     "output_type": "stream",
     "text": [
      "Y22, 092522_record1 n grid, ngs cells: 93 , 53\n",
      "Y22, 092622_record2 n grid, ngs cells: 163 , 57\n",
      "Y22, 092722_record3 n grid, ngs cells: 75 , 91\n",
      "Y22, 092822_record4 n grid, ngs cells: 27 , 24\n",
      "Y22, 092922_record5 n grid, ngs cells: 23 , 27\n",
      "Y22, 093022_record6 n grid, ngs cells: 67 , 32\n"
     ]
    },
    {
     "data": {
      "application/vnd.jupyter.widget-view+json": {
       "model_id": "bd208178ea8f4091b11236f23f94395e",
       "version_major": 2,
       "version_minor": 0
      },
      "text/plain": [
       "  0%|          | 0/6 [00:00<?, ?it/s]"
      ]
     },
     "metadata": {},
     "output_type": "display_data"
    },
    {
     "name": "stdout",
     "output_type": "stream",
     "text": [
      "Y23, 092522_record1 n grid, ngs cells: 48 , 25\n",
      "Y23, 092622_record2 n grid, ngs cells: 35 , 27\n",
      "Y23, 092722_record3 n grid, ngs cells: 41 , 44\n",
      "Y23, 092822_record4 n grid, ngs cells: 31 , 30\n",
      "Y23, 092922_record5 n grid, ngs cells: 43 , 53\n",
      "Y23, 093022_record6 n grid, ngs cells: 72 , 81\n"
     ]
    },
    {
     "data": {
      "application/vnd.jupyter.widget-view+json": {
       "model_id": "dcc9a3e76383498bbe42282f3595c129",
       "version_major": 2,
       "version_minor": 0
      },
      "text/plain": [
       "  0%|          | 0/6 [00:00<?, ?it/s]"
      ]
     },
     "metadata": {},
     "output_type": "display_data"
    },
    {
     "name": "stdout",
     "output_type": "stream",
     "text": [
      "Y24, 091822_record1 n grid, ngs cells: 103 , 66\n",
      "Y24, 091922_record2 n grid, ngs cells: 43 , 76\n",
      "Y24, 092022_record3 n grid, ngs cells: 101 , 58\n",
      "Y24, 092122_record4 n grid, ngs cells: 106 , 59\n",
      "Y24, 092222_record5 n grid, ngs cells: 74 , 48\n",
      "Y24, 092322_record6 n grid, ngs cells: 79 , 42\n"
     ]
    },
    {
     "data": {
      "application/vnd.jupyter.widget-view+json": {
       "model_id": "af56e15cef04494d877708efbbe613e5",
       "version_major": 2,
       "version_minor": 0
      },
      "text/plain": [
       "  0%|          | 0/6 [00:00<?, ?it/s]"
      ]
     },
     "metadata": {},
     "output_type": "display_data"
    },
    {
     "name": "stdout",
     "output_type": "stream",
     "text": [
      "Y25, 021623_record1 n grid, ngs cells: 0 , 1\n",
      "Y25, 021723_record2 n grid, ngs cells: 95 , 45\n",
      "Y25, 021823_record3 n grid, ngs cells: 46 , 68\n",
      "Y25, 021923_record4 n grid, ngs cells: 52 , 58\n",
      "Y25, 022023_record5 n grid, ngs cells: 62 , 50\n",
      "Y25, 022123_record6 n grid, ngs cells: 29 , 19\n"
     ]
    },
    {
     "data": {
      "application/vnd.jupyter.widget-view+json": {
       "model_id": "b7c19d4db5794fd99055e35f9245d8be",
       "version_major": 2,
       "version_minor": 0
      },
      "text/plain": [
       "  0%|          | 0/6 [00:00<?, ?it/s]"
      ]
     },
     "metadata": {},
     "output_type": "display_data"
    },
    {
     "name": "stdout",
     "output_type": "stream",
     "text": [
      "Y26, 021623_record1 n grid, ngs cells: 42 , 43\n",
      "Y26, 021723_record2 n grid, ngs cells: 67 , 22\n",
      "Y26, 021823_record3 n grid, ngs cells: 25 , 30\n",
      "Y26, 021923_record4 n grid, ngs cells: 2 , 2\n",
      "Y26, 022023_record5 n grid, ngs cells: 20 , 20\n",
      "Y26, 022123_record6 n grid, ngs cells: 6 , 5\n"
     ]
    },
    {
     "data": {
      "application/vnd.jupyter.widget-view+json": {
       "model_id": "59506c78c4cd444fa07b873cdd74a375",
       "version_major": 2,
       "version_minor": 0
      },
      "text/plain": [
       "  0%|          | 0/6 [00:00<?, ?it/s]"
      ]
     },
     "metadata": {},
     "output_type": "display_data"
    },
    {
     "name": "stdout",
     "output_type": "stream",
     "text": [
      "Y27, 021623_record1 n grid, ngs cells: 59 , 46\n",
      "Y27, 021723_record2 n grid, ngs cells: 43 , 18\n",
      "Y27, 021823_record3 n grid, ngs cells: 37 , 20\n",
      "Y27, 021923_record4 n grid, ngs cells: 22 , 19\n",
      "Y27, 022023_record5rep n grid, ngs cells: 53 , 29\n",
      "Y27, 022123_record6 n grid, ngs cells: 73 , 32\n"
     ]
    },
    {
     "data": {
      "application/vnd.jupyter.widget-view+json": {
       "model_id": "77418b4d190e499089b8218124cdfc79",
       "version_major": 2,
       "version_minor": 0
      },
      "text/plain": [
       "  0%|          | 0/6 [00:00<?, ?it/s]"
      ]
     },
     "metadata": {},
     "output_type": "display_data"
    },
    {
     "name": "stdout",
     "output_type": "stream",
     "text": [
      "Y28, 022623_record1 n grid, ngs cells: 5 , 32\n",
      "Y28, 022723_record2 n grid, ngs cells: 55 , 76\n",
      "Y28, 022823_record3 n grid, ngs cells: 71 , 43\n",
      "Y28, 030123_record4 n grid, ngs cells: 27 , 30\n",
      "Y28, 030223_record5 n grid, ngs cells: 63 , 89\n",
      "Y28, 030323_record6 n grid, ngs cells: 76 , 50\n"
     ]
    }
   ],
   "source": [
    "'''Classify grid vs. non-grid cells at P95 peak height threshold and with FR thresholds. \n",
    "\n",
    "Run time < 1 min / session (167 sessions)'''\n",
    "\n",
    "track_length = 400 #cm\n",
    "b = 2 # cm / spatial bin\n",
    "dt = 0.02\n",
    "n_dark = 20 #trials\n",
    "lags = np.arange(0,801,1)\n",
    "\n",
    "perngs = []\n",
    "pergrid = []\n",
    "for m, session in zip(mice,sessions):\n",
    "    \n",
    "    for s in tdqm(session):\n",
    "        \n",
    "        d = data[m][s]\n",
    "        \n",
    "        #load in data\n",
    "        rawdata_file = 'RAW_' + m + '_' + s + '.npy'\n",
    "        behavior_file = 'BEHAVIOR_' + m + '_' + s + '.npy'\n",
    "        spikes_file = 'SPIKES_' + m + '_' + s +'.npy'\n",
    "        \n",
    "        raw = np.load(load_folder + rawdata_file, allow_pickle=True)\n",
    "        cell_IDs = raw.item().get('cellsfil')\n",
    "        behaviorfil = np.load(load_folder + behavior_file, allow_pickle=False)\n",
    "        Y = np.load(load_folder + spikes_file, allow_pickle=False) #pre-filtered for speeds >2cm/s, position-corrected spikes, 20 ms timebins\n",
    "        \n",
    "        posxfil = behaviorfil[:,0]\n",
    "        trial = behaviorfil[:,2]\n",
    "        trials = np.unique(trial)\n",
    "        postfil = behaviorfil[:,3]\n",
    "        rawtrialfil = raw.item().get('trialfil')\n",
    "        \n",
    "        Aidx = d['Aidx']\n",
    "        Bidx = d['Bidx']\n",
    "        \n",
    "        #get dark-only, normalized, smoothed spatial map & reshape into continuous vector for each cell\n",
    "        FR, _ , _ = ps.tuning_curve_bytrial(posxfil, trial, Y, dt, sigma = 2, b= 2, smooth=True, normalize=True, occupancy=True)\n",
    "        stop_idx = np.where(trials == n_dark)[0][0]\n",
    "        FR = FR[:stop_idx,:,:]\n",
    "        n_trials = FR.shape[0]\n",
    "        n_pos = FR.shape[1]\n",
    "        n_cells = FR.shape[2]\n",
    "        FR = (np.reshape(FR, (n_trials*n_pos, n_cells))).T\n",
    "        \n",
    "        #load in spatial cells & interneurons classified elsewhere\n",
    "        spatialcell95 = d['spatialcell95']\n",
    "        spatialcells = cell_IDs[spatialcell95]\n",
    "        intn = d['intn']\n",
    "        \n",
    "        #find max autocorrelation peaks for all cells; store height & prom of most prominent peak\n",
    "        peak = [] # boolean if peak found\n",
    "        maxpeak_locs = [] #stored lag of max peak if peak exist\n",
    "        maxpeak_heights = [] # stored height of max peak, otherwise 0 if not exist\n",
    "        maxpeak_proms = [] # stored prominence of max peak, otherwise 0 if not exist\n",
    "        for i, c in enumerate(cell_IDs):\n",
    "            sdx = np.where(cell_IDs == c)[0][0]\n",
    "            autocorrelation = get.autocorr(FR[sdx,:], lags)\n",
    "            normauto = autocorrelation / autocorrelation[0]\n",
    "            peaks, properties = find_peaks(normauto, width = 10, height = 0.10, prominence = 0.15)\n",
    "            proms = properties[\"prominences\"]\n",
    "            heights = properties[\"peak_heights\"]\n",
    "\n",
    "            if peaks.size > 0:\n",
    "                peak = np.append(peak,1)\n",
    "                maxpeak_locs = np.append(maxpeak_locs, peaks[np.argmax(proms)])\n",
    "                maxpeak_heights = np.append(maxpeak_heights, heights[np.argmax(proms)])\n",
    "                maxpeak_proms = np.append(maxpeak_proms, proms[np.argmax(proms)])\n",
    "            else:\n",
    "                peak = np.append(peak,0)\n",
    "                maxpeak_heights = np.append(maxpeak_heights,0)\n",
    "                maxpeak_proms = np.append(maxpeak_proms,0)         \n",
    "        peak = peak.astype(bool)\n",
    "        \n",
    "        #define low FR cell group (mean FR <0.05 in the dark; 0.3 Hz overall); to be removed from grid cell group\n",
    "        stop_idx = np.where(trial <= 19)[0][-1].astype(int)\n",
    "        darkFR, _ , _ = ps.tuning_curve_bytrial(posxfil[:stop_idx], trial[:stop_idx], Y[:stop_idx,:], dt, sigma = 2, b = 2, smooth=True, normalize=False, occupancy=True)\n",
    "        FR, _, _ = ps.tuning_curve(posxfil, Y, dt, b=2, smooth=True, l=2, SEM=False, occupancy=False)\n",
    "        lowfrcells = []\n",
    "        lowdarkfrcells = []\n",
    "        for i, c in enumerate(cell_IDs):\n",
    "            if np.mean(np.mean(darkFR[:,:,i], axis = 1)) <= 0.05:\n",
    "                lowdarkfrcells = np.append(lowdarkfrcells, c)\n",
    "            elif np.mean(FR[:,i]) < 0.3:\n",
    "                lowfrcells = np.append(lowfrcells, c)      \n",
    "                \n",
    "        #define indices excluding reward zone starts\n",
    "        reward = raw.item().get('reward')\n",
    "        centers = reward['centers']\n",
    "        centera = centers[0]\n",
    "        if centera == 270:\n",
    "            centerb = 370\n",
    "        else:\n",
    "            centerb = 270\n",
    "        \n",
    "        # generate aligned position tuning curve\n",
    "        aFR, abinned_pos, aFR_sem, occ = ps.tuning_curve(posxfil[Aidx], Y[Aidx,:], dt, b=2, smooth = True, l=5, SEM=True)\n",
    "        bFR, bbinned_pos, bFR_sem, occ = ps.tuning_curve(posxfil[Bidx], Y[Bidx,:], dt, b=2, smooth = True, l=5, SEM=True)\n",
    "        \n",
    "        #find indices of bins not including 50cm pre-post reward centers (220 to 255 and 320 to 355)\n",
    "        aidx = np.where((abinned_pos > (centera - 50)) & (abinned_pos <= (centera - 15)))\n",
    "        maska = np.ones(len(abinned_pos), bool)\n",
    "        maska[aidx] = 0\n",
    "        bidx = np.where((bbinned_pos > (centerb - 50)) & (bbinned_pos <= (centerb - 15)))\n",
    "        maskb = np.ones(len(bbinned_pos), bool)\n",
    "        maskb[bidx] = 0\n",
    "        \n",
    "        noisycells = []\n",
    "        for i, c in enumerate(cell_IDs):\n",
    "            if (np.mean(aFR_sem[maska,i]) > np.mean(aFR[maska,i])*.45) and (np.mean(bFR_sem[maskb,i]) > np.mean(bFR[maskb,i])*.45):\n",
    "                noisycells = np.append(noisycells, c)\n",
    "        \n",
    "        #classify grid cells based on peak prominence > P99 shuffle height\n",
    "        shufmaxpeak_heights_file = 'shufmaxpeak_heights__' + m + '_' + s + '.npy'\n",
    "        shuffmaxpeak_heights = np.load(shuffload_folder3 + shufmaxpeak_heights_file)\n",
    "    \n",
    "        gridcell = []\n",
    "        for i, c in enumerate(cell_IDs):\n",
    "            #require that grid cells have at least one peak larger than 0.15 prominence, height 0.1, width = 10 in the dark\n",
    "            #also require that prom of peak exceeds P99 of shuffle autocorrelation height distribution autocorrelations at that same lag\n",
    "            #also require that that cell is not an interneuron\n",
    "    \n",
    "            if (intn[i] == 0) & (peak[i] == 1):\n",
    "                idx = np.where(cell_IDs[peak] == c)[0][0]\n",
    "                dist = shuffmaxpeak_heights[:,idx]\n",
    "                P99 = np.percentile(dist,99)\n",
    "                P95 = np.percentile(dist,95)\n",
    "\n",
    "                if (maxpeak_proms[i] >= P95):\n",
    "                    gridcell = np.append(gridcell, 1)\n",
    "                else:\n",
    "                    gridcell = np.append(gridcell, 0)\n",
    "            else: \n",
    "                gridcell = np.append(gridcell, 0)\n",
    "                \n",
    "        #Find non-distance coding spatial cells to be ngs cells; then further            \n",
    "        ngscell = []\n",
    "        for i, c in enumerate(cell_IDs):\n",
    "            #ngs cells are any spatial cells that do not meet distance-coding cell criteria or meet that criteria with a\n",
    "            #very low dark FR \n",
    "            if (intn[i] == 1) | (gridcell[i] == 1) | (spatialcell95[i] == 0):\n",
    "                ngscell = np.append(ngscell, 0)\n",
    "            elif (peak[i] == 1): #remove any low quality grid cells that have a peak \n",
    "                idx = np.where(cell_IDs[peak] == c)[0][0]\n",
    "                P90 = np.percentile(dist, 90)\n",
    "                \n",
    "                if (maxpeak_proms[i] >= P90) & (maxpeak_proms[i] < P99):\n",
    "                    ngscell = np.append(ngscell, 0)\n",
    "                elif (intn[i] == 0) & (gridcell[i] == 0) & (spatialcell95[i] == 1): \n",
    "                    ngscell = np.append(ngscell, 1)\n",
    "                else: \n",
    "                    ngsell = np.append(ngscell, 0)\n",
    "            elif (c not in lowdarkfrcells) & (peak[i] == 0) & (intn[i] == 0) & (spatialcell95[i] == 1):\n",
    "                ngscell = np.append(ngscell, 1)\n",
    "            else: \n",
    "                ngscell = np.append(ngscell, 0)\n",
    "                \n",
    "        # filter out noisy cells from both grid and ngs cells and low firing grid cells    \n",
    "        for i, c in enumerate(cell_IDs):\n",
    "            #also require that dark FR > 0.05 Hz and mean FR > 0.3 Hz\n",
    "            if (c in lowfrcells) or (c in lowdarkfrcells):\n",
    "                gridcell[i] = 0\n",
    "                \n",
    "            if (c in noisycells):\n",
    "                gridcell[i] = 0\n",
    "                ngscell[i] = 0\n",
    "                \n",
    "        #Save booleans\n",
    "        gridcell = gridcell.astype(bool)\n",
    "        ngscell = ngscell.astype(bool)\n",
    "        d['gridcell'] = gridcell\n",
    "        d['ngscell'] = ngscell\n",
    "        \n",
    "        #gridcell_file = 'gridcell__' + m + '_' + s + '.npy'\n",
    "        #np.save(save_folder + gridcell_file, gridcell.astype(bool))\n",
    "        #print('saved grid cell boolean for spatial cells as npy file for mouse ' + m + ' session '+ s)\n",
    "                \n",
    "        #ngscell_file = 'bordercell__' + m + '_' + s + '.npy'\n",
    "        #np.save(save_folder + ngscell_file, d['ngscell'])\n",
    "        #print('saved ngs cell boolean for spatial cells as npy file for mouse ' + m + ' session '+ s)\n",
    "\n",
    "        #save percentages of grid vs. ngs cells\n",
    "        print(m + ', ' + s + ' n grid, ngs cells: '+ str(np.sum(gridcell)) + ' , ' + str(np.sum(ngscell)))\n",
    "        perngs = np.append(perngs, 100*np.sum(ngscell)/len(cell_IDs))\n",
    "        pergrid = np.append(pergrid, 100*np.sum(gridcell)/len(cell_IDs))"
   ]
  },
  {
   "cell_type": "code",
   "execution_count": 18,
   "id": "a2864220",
   "metadata": {},
   "outputs": [
    {
     "data": {
      "application/vnd.jupyter.widget-view+json": {
       "model_id": "ab9aadd379f7475e88a4f5512b438433",
       "version_major": 2,
       "version_minor": 0
      },
      "text/plain": [
       "  0%|          | 0/3 [00:00<?, ?it/s]"
      ]
     },
     "metadata": {},
     "output_type": "display_data"
    },
    {
     "name": "stdout",
     "output_type": "stream",
     "text": [
      "A14, 083022_record1 n grid, ngs cells: 19 , 54\n",
      "A14, 083122_record2 n grid, ngs cells: 51 , 5\n",
      "A14, 090122_record3 n grid, ngs cells: 18 , 15\n"
     ]
    },
    {
     "data": {
      "application/vnd.jupyter.widget-view+json": {
       "model_id": "bd0294358ccb4ffd823e0d21b241d9bc",
       "version_major": 2,
       "version_minor": 0
      },
      "text/plain": [
       "  0%|          | 0/6 [00:00<?, ?it/s]"
      ]
     },
     "metadata": {},
     "output_type": "display_data"
    },
    {
     "name": "stdout",
     "output_type": "stream",
     "text": [
      "A15, 083022_record1 n grid, ngs cells: 5 , 7\n",
      "A15, 083122_record2 n grid, ngs cells: 90 , 34\n",
      "A15, 090122_record3 n grid, ngs cells: 97 , 37\n",
      "A15, 090222_record4 n grid, ngs cells: 150 , 71\n",
      "A15, 090322_record5 n grid, ngs cells: 54 , 33\n",
      "A15, 090422_record6 n grid, ngs cells: 28 , 19\n"
     ]
    },
    {
     "data": {
      "application/vnd.jupyter.widget-view+json": {
       "model_id": "ebcfd86b2abf46c18e466a692aed6a59",
       "version_major": 2,
       "version_minor": 0
      },
      "text/plain": [
       "  0%|          | 0/4 [00:00<?, ?it/s]"
      ]
     },
     "metadata": {},
     "output_type": "display_data"
    },
    {
     "name": "stdout",
     "output_type": "stream",
     "text": [
      "A16, 083022_record1 n grid, ngs cells: 25 , 25\n",
      "A16, 083122_record2 n grid, ngs cells: 64 , 35\n",
      "A16, 090122_record3 n grid, ngs cells: 0 , 2\n",
      "A16, 090222_record4 n grid, ngs cells: 18 , 42\n"
     ]
    },
    {
     "data": {
      "application/vnd.jupyter.widget-view+json": {
       "model_id": "41763e49019849d5b420a15f07257082",
       "version_major": 2,
       "version_minor": 0
      },
      "text/plain": [
       "  0%|          | 0/6 [00:00<?, ?it/s]"
      ]
     },
     "metadata": {},
     "output_type": "display_data"
    },
    {
     "name": "stdout",
     "output_type": "stream",
     "text": [
      "A17, 082322_record1 n grid, ngs cells: 2 , 2\n",
      "A17, 082422_record2 n grid, ngs cells: 2 , 7\n",
      "A17, 082522_record3 n grid, ngs cells: 46 , 40\n",
      "A17, 082622_record4 n grid, ngs cells: 48 , 21\n",
      "A17, 082722_record5 n grid, ngs cells: 46 , 22\n",
      "A17, 082822_record6 n grid, ngs cells: 61 , 24\n"
     ]
    },
    {
     "data": {
      "application/vnd.jupyter.widget-view+json": {
       "model_id": "219d909ac2534bdbb61778dbd0d46913",
       "version_major": 2,
       "version_minor": 0
      },
      "text/plain": [
       "  0%|          | 0/6 [00:00<?, ?it/s]"
      ]
     },
     "metadata": {},
     "output_type": "display_data"
    },
    {
     "name": "stdout",
     "output_type": "stream",
     "text": [
      "A18, 082322_record1real n grid, ngs cells: 18 , 11\n",
      "A18, 082422_record2 n grid, ngs cells: 100 , 151\n",
      "A18, 082522_record3 n grid, ngs cells: 90 , 122\n",
      "A18, 082622_record4 n grid, ngs cells: 58 , 78\n",
      "A18, 082722_record5 n grid, ngs cells: 52 , 11\n",
      "A18, 082822_record6 n grid, ngs cells: 0 , 34\n"
     ]
    },
    {
     "data": {
      "application/vnd.jupyter.widget-view+json": {
       "model_id": "6d6680ee1e1f4d5a81c7ebec2a98204e",
       "version_major": 2,
       "version_minor": 0
      },
      "text/plain": [
       "  0%|          | 0/6 [00:00<?, ?it/s]"
      ]
     },
     "metadata": {},
     "output_type": "display_data"
    },
    {
     "name": "stdout",
     "output_type": "stream",
     "text": [
      "A19, 012723_record2 n grid, ngs cells: 27 , 1\n",
      "A19, 012823_record3 n grid, ngs cells: 31 , 78\n",
      "A19, 012923_record4 n grid, ngs cells: 52 , 69\n",
      "A19, 013023_record5 n grid, ngs cells: 67 , 34\n",
      "A19, 013123_record6 n grid, ngs cells: 46 , 18\n",
      "A19, 020123_record7 n grid, ngs cells: 66 , 22\n"
     ]
    },
    {
     "data": {
      "application/vnd.jupyter.widget-view+json": {
       "model_id": "c8460f83a05f4982ab4fdf33ebd17c37",
       "version_major": 2,
       "version_minor": 0
      },
      "text/plain": [
       "  0%|          | 0/6 [00:00<?, ?it/s]"
      ]
     },
     "metadata": {},
     "output_type": "display_data"
    },
    {
     "name": "stdout",
     "output_type": "stream",
     "text": [
      "A20, 012623_record1 n grid, ngs cells: 7 , 19\n",
      "A20, 012723_record2 n grid, ngs cells: 36 , 45\n",
      "A20, 012823_record3 n grid, ngs cells: 78 , 52\n",
      "A20, 012923_record4 n grid, ngs cells: 28 , 44\n",
      "A20, 013023_record5 n grid, ngs cells: 34 , 51\n",
      "A20, 013123_record6 n grid, ngs cells: 12 , 34\n"
     ]
    },
    {
     "data": {
      "application/vnd.jupyter.widget-view+json": {
       "model_id": "0e3f615e2fce420d968446d993cd188a",
       "version_major": 2,
       "version_minor": 0
      },
      "text/plain": [
       "  0%|          | 0/6 [00:00<?, ?it/s]"
      ]
     },
     "metadata": {},
     "output_type": "display_data"
    },
    {
     "name": "stdout",
     "output_type": "stream",
     "text": [
      "A22, 012923_record2 n grid, ngs cells: 64 , 34\n",
      "A22, 013023_record3 n grid, ngs cells: 109 , 95\n",
      "A22, 013123_record4 n grid, ngs cells: 64 , 43\n",
      "A22, 020123_record5 n grid, ngs cells: 11 , 12\n",
      "A22, 020223_record6 n grid, ngs cells: 40 , 34\n",
      "A22, 020323_record7 n grid, ngs cells: 19 , 6\n"
     ]
    },
    {
     "data": {
      "application/vnd.jupyter.widget-view+json": {
       "model_id": "b9f63121ac4c43fe833a0462e45c903f",
       "version_major": 2,
       "version_minor": 0
      },
      "text/plain": [
       "  0%|          | 0/6 [00:00<?, ?it/s]"
      ]
     },
     "metadata": {},
     "output_type": "display_data"
    },
    {
     "name": "stdout",
     "output_type": "stream",
     "text": [
      "A23, 020923_record1 n grid, ngs cells: 6 , 8\n",
      "A23, 021023_record2 n grid, ngs cells: 35 , 63\n",
      "A23, 021123_record3 n grid, ngs cells: 38 , 63\n",
      "A23, 021223_record4 n grid, ngs cells: 13 , 4\n",
      "A23, 021323_record5 n grid, ngs cells: 34 , 37\n",
      "A23, 021423_record6 n grid, ngs cells: 58 , 52\n"
     ]
    },
    {
     "data": {
      "application/vnd.jupyter.widget-view+json": {
       "model_id": "5ff409bcf34e43758143c0f69fa374e2",
       "version_major": 2,
       "version_minor": 0
      },
      "text/plain": [
       "  0%|          | 0/6 [00:00<?, ?it/s]"
      ]
     },
     "metadata": {},
     "output_type": "display_data"
    },
    {
     "name": "stdout",
     "output_type": "stream",
     "text": [
      "A24, 022623_record1 n grid, ngs cells: 49 , 37\n",
      "A24, 022723_record2 n grid, ngs cells: 122 , 75\n",
      "A24, 022823_record3 n grid, ngs cells: 71 , 61\n",
      "A24, 030123_record4 n grid, ngs cells: 77 , 29\n",
      "A24, 030223_record5 n grid, ngs cells: 58 , 27\n",
      "A24, 030323_record6 n grid, ngs cells: 22 , 17\n"
     ]
    },
    {
     "data": {
      "application/vnd.jupyter.widget-view+json": {
       "model_id": "e44becd9c4d442d1b4e3a8de6f4e6d16",
       "version_major": 2,
       "version_minor": 0
      },
      "text/plain": [
       "  0%|          | 0/6 [00:00<?, ?it/s]"
      ]
     },
     "metadata": {},
     "output_type": "display_data"
    },
    {
     "name": "stdout",
     "output_type": "stream",
     "text": [
      "MA10F, 111322_record1 n grid, ngs cells: 80 , 93\n",
      "MA10F, 111422_record2 n grid, ngs cells: 71 , 41\n",
      "MA10F, 111522_record3 n grid, ngs cells: 46 , 27\n",
      "MA10F, 111622_record4 n grid, ngs cells: 27 , 23\n",
      "MA10F, 111722_record5 n grid, ngs cells: 29 , 23\n",
      "MA10F, 111822_record6 n grid, ngs cells: 54 , 76\n"
     ]
    },
    {
     "data": {
      "application/vnd.jupyter.widget-view+json": {
       "model_id": "efbf83eda5024843b5bc5a5db1894dd7",
       "version_major": 2,
       "version_minor": 0
      },
      "text/plain": [
       "  0%|          | 0/6 [00:00<?, ?it/s]"
      ]
     },
     "metadata": {},
     "output_type": "display_data"
    },
    {
     "name": "stdout",
     "output_type": "stream",
     "text": [
      "MA1F, 102322_record1 n grid, ngs cells: 36 , 23\n",
      "MA1F, 102422_record2 n grid, ngs cells: 62 , 26\n",
      "MA1F, 102522_record3 n grid, ngs cells: 56 , 22\n",
      "MA1F, 102622_record4 n grid, ngs cells: 11 , 9\n",
      "MA1F, 102722_record5 n grid, ngs cells: 85 , 46\n",
      "MA1F, 102822_record6 n grid, ngs cells: 84 , 26\n"
     ]
    },
    {
     "data": {
      "application/vnd.jupyter.widget-view+json": {
       "model_id": "9427c8008cc041f982da2b0457849c22",
       "version_major": 2,
       "version_minor": 0
      },
      "text/plain": [
       "  0%|          | 0/6 [00:00<?, ?it/s]"
      ]
     },
     "metadata": {},
     "output_type": "display_data"
    },
    {
     "name": "stdout",
     "output_type": "stream",
     "text": [
      "MA2F, 102322_record1 n grid, ngs cells: 57 , 80\n",
      "MA2F, 102422_record2 n grid, ngs cells: 53 , 94\n",
      "MA2F, 102522_record3 n grid, ngs cells: 78 , 103\n",
      "MA2F, 102622_record4 n grid, ngs cells: 49 , 63\n",
      "MA2F, 102722_record5 n grid, ngs cells: 44 , 48\n",
      "MA2F, 102822_record6 n grid, ngs cells: 54 , 39\n"
     ]
    },
    {
     "data": {
      "application/vnd.jupyter.widget-view+json": {
       "model_id": "272f017a01cf48de8f1f08ab5ddc7d20",
       "version_major": 2,
       "version_minor": 0
      },
      "text/plain": [
       "  0%|          | 0/6 [00:00<?, ?it/s]"
      ]
     },
     "metadata": {},
     "output_type": "display_data"
    },
    {
     "name": "stdout",
     "output_type": "stream",
     "text": [
      "MA3M, 102322_record1 n grid, ngs cells: 11 , 20\n",
      "MA3M, 102422_record2 n grid, ngs cells: 43 , 62\n",
      "MA3M, 102522_record3 n grid, ngs cells: 43 , 56\n",
      "MA3M, 102622_record4 n grid, ngs cells: 17 , 58\n",
      "MA3M, 102722_record5 n grid, ngs cells: 18 , 30\n",
      "MA3M, 102822_record6 n grid, ngs cells: 37 , 45\n"
     ]
    },
    {
     "data": {
      "application/vnd.jupyter.widget-view+json": {
       "model_id": "427b187b573249bd8428b0d8d8b0d82e",
       "version_major": 2,
       "version_minor": 0
      },
      "text/plain": [
       "  0%|          | 0/6 [00:00<?, ?it/s]"
      ]
     },
     "metadata": {},
     "output_type": "display_data"
    },
    {
     "name": "stdout",
     "output_type": "stream",
     "text": [
      "MA4M, 103122_record2 n grid, ngs cells: 45 , 53\n",
      "MA4M, 110122_record3 n grid, ngs cells: 32 , 25\n",
      "MA4M, 110222_record4 n grid, ngs cells: 11 , 11\n",
      "MA4M, 110322_record5rep n grid, ngs cells: 30 , 21\n",
      "MA4M, 110422_record6 n grid, ngs cells: 51 , 40\n",
      "MA4M, 110522_record7 n grid, ngs cells: 13 , 10\n"
     ]
    },
    {
     "data": {
      "application/vnd.jupyter.widget-view+json": {
       "model_id": "d2eb0c5a56254d4a9835378ee7fbc616",
       "version_major": 2,
       "version_minor": 0
      },
      "text/plain": [
       "  0%|          | 0/6 [00:00<?, ?it/s]"
      ]
     },
     "metadata": {},
     "output_type": "display_data"
    },
    {
     "name": "stdout",
     "output_type": "stream",
     "text": [
      "MA5M, 110622_record1 n grid, ngs cells: 78 , 26\n",
      "MA5M, 110722_record2 n grid, ngs cells: 74 , 61\n",
      "MA5M, 110822_record3 n grid, ngs cells: 93 , 32\n",
      "MA5M, 110922_record4 n grid, ngs cells: 11 , 13\n",
      "MA5M, 111022_record5 n grid, ngs cells: 29 , 29\n",
      "MA5M, 111122_record6 n grid, ngs cells: 29 , 25\n"
     ]
    },
    {
     "data": {
      "application/vnd.jupyter.widget-view+json": {
       "model_id": "1a648182955345b4b90dbaa5f83417de",
       "version_major": 2,
       "version_minor": 0
      },
      "text/plain": [
       "  0%|          | 0/6 [00:00<?, ?it/s]"
      ]
     },
     "metadata": {},
     "output_type": "display_data"
    },
    {
     "name": "stdout",
     "output_type": "stream",
     "text": [
      "MA6M, 103022_record1 n grid, ngs cells: 38 , 78\n",
      "MA6M, 103122_record2 n grid, ngs cells: 26 , 43\n",
      "MA6M, 110122_record3 n grid, ngs cells: 84 , 55\n",
      "MA6M, 110222_record4 n grid, ngs cells: 10 , 14\n",
      "MA6M, 110322_record5 n grid, ngs cells: 15 , 7\n",
      "MA6M, 110422_record6 n grid, ngs cells: 44 , 34\n"
     ]
    },
    {
     "data": {
      "application/vnd.jupyter.widget-view+json": {
       "model_id": "1332d2c52fcc45efbc664e96acd2fc3a",
       "version_major": 2,
       "version_minor": 0
      },
      "text/plain": [
       "  0%|          | 0/4 [00:00<?, ?it/s]"
      ]
     },
     "metadata": {},
     "output_type": "display_data"
    },
    {
     "name": "stdout",
     "output_type": "stream",
     "text": [
      "MA7M, 103022_record1 n grid, ngs cells: 34 , 35\n",
      "MA7M, 103122_record2 n grid, ngs cells: 45 , 49\n",
      "MA7M, 110122_record3 n grid, ngs cells: 25 , 34\n",
      "MA7M, 110222_record4 n grid, ngs cells: 11 , 8\n"
     ]
    },
    {
     "data": {
      "application/vnd.jupyter.widget-view+json": {
       "model_id": "20597bd7fa94476ebd46ceade7ee30ea",
       "version_major": 2,
       "version_minor": 0
      },
      "text/plain": [
       "  0%|          | 0/6 [00:00<?, ?it/s]"
      ]
     },
     "metadata": {},
     "output_type": "display_data"
    },
    {
     "name": "stdout",
     "output_type": "stream",
     "text": [
      "MA8F, 111322_record1 n grid, ngs cells: 22 , 7\n",
      "MA8F, 111422_record2 n grid, ngs cells: 77 , 58\n",
      "MA8F, 111522_record3 n grid, ngs cells: 86 , 29\n",
      "MA8F, 111622_record4 n grid, ngs cells: 32 , 31\n",
      "MA8F, 111722_record5 n grid, ngs cells: 20 , 23\n",
      "MA8F, 111822_record6 n grid, ngs cells: 14 , 20\n"
     ]
    },
    {
     "data": {
      "application/vnd.jupyter.widget-view+json": {
       "model_id": "f101df931b5e43cc8656af6b6c1e59b3",
       "version_major": 2,
       "version_minor": 0
      },
      "text/plain": [
       "  0%|          | 0/6 [00:00<?, ?it/s]"
      ]
     },
     "metadata": {},
     "output_type": "display_data"
    },
    {
     "name": "stdout",
     "output_type": "stream",
     "text": [
      "MA9F, 111322_record1 n grid, ngs cells: 68 , 37\n",
      "MA9F, 111422_record2 n grid, ngs cells: 97 , 171\n",
      "MA9F, 111522_record3 n grid, ngs cells: 137 , 89\n",
      "MA9F, 111622_record4 n grid, ngs cells: 0 , 1\n",
      "MA9F, 111722_record5 n grid, ngs cells: 28 , 31\n",
      "MA9F, 111822_record6 n grid, ngs cells: 28 , 21\n"
     ]
    },
    {
     "data": {
      "application/vnd.jupyter.widget-view+json": {
       "model_id": "1ef3f660c5f74eb4b086e6bd133d33d4",
       "version_major": 2,
       "version_minor": 0
      },
      "text/plain": [
       "  0%|          | 0/6 [00:00<?, ?it/s]"
      ]
     },
     "metadata": {},
     "output_type": "display_data"
    },
    {
     "name": "stdout",
     "output_type": "stream",
     "text": [
      "Y20, 092522_record1 n grid, ngs cells: 13 , 5\n",
      "Y20, 092622_record2 n grid, ngs cells: 39 , 32\n",
      "Y20, 092722_record3 n grid, ngs cells: 15 , 14\n",
      "Y20, 092822_record4 n grid, ngs cells: 58 , 32\n",
      "Y20, 092922_record5 n grid, ngs cells: 23 , 11\n",
      "Y20, 093022_record6 n grid, ngs cells: 98 , 64\n"
     ]
    },
    {
     "data": {
      "application/vnd.jupyter.widget-view+json": {
       "model_id": "6365a69922eb433c9d81eb82c62d1e21",
       "version_major": 2,
       "version_minor": 0
      },
      "text/plain": [
       "  0%|          | 0/6 [00:00<?, ?it/s]"
      ]
     },
     "metadata": {},
     "output_type": "display_data"
    },
    {
     "name": "stdout",
     "output_type": "stream",
     "text": [
      "Y21, 091822_record1 n grid, ngs cells: 116 , 68\n",
      "Y21, 091922_record2 n grid, ngs cells: 105 , 105\n",
      "Y21, 092022_record3 n grid, ngs cells: 61 , 29\n",
      "Y21, 092122_record4 n grid, ngs cells: 72 , 61\n",
      "Y21, 092222_record5 n grid, ngs cells: 58 , 51\n",
      "Y21, 092322_record6 n grid, ngs cells: 12 , 30\n"
     ]
    },
    {
     "data": {
      "application/vnd.jupyter.widget-view+json": {
       "model_id": "822066922c564d78a6de8298d3a4c9c6",
       "version_major": 2,
       "version_minor": 0
      },
      "text/plain": [
       "  0%|          | 0/6 [00:00<?, ?it/s]"
      ]
     },
     "metadata": {},
     "output_type": "display_data"
    },
    {
     "name": "stdout",
     "output_type": "stream",
     "text": [
      "Y22, 092522_record1 n grid, ngs cells: 93 , 53\n",
      "Y22, 092622_record2 n grid, ngs cells: 163 , 57\n",
      "Y22, 092722_record3 n grid, ngs cells: 75 , 91\n",
      "Y22, 092822_record4 n grid, ngs cells: 27 , 24\n",
      "Y22, 092922_record5 n grid, ngs cells: 23 , 27\n",
      "Y22, 093022_record6 n grid, ngs cells: 67 , 32\n"
     ]
    },
    {
     "data": {
      "application/vnd.jupyter.widget-view+json": {
       "model_id": "3a58583ee5cd49bca11a64b735d4f343",
       "version_major": 2,
       "version_minor": 0
      },
      "text/plain": [
       "  0%|          | 0/6 [00:00<?, ?it/s]"
      ]
     },
     "metadata": {},
     "output_type": "display_data"
    },
    {
     "name": "stdout",
     "output_type": "stream",
     "text": [
      "Y23, 092522_record1 n grid, ngs cells: 48 , 25\n",
      "Y23, 092622_record2 n grid, ngs cells: 35 , 27\n",
      "Y23, 092722_record3 n grid, ngs cells: 41 , 44\n",
      "Y23, 092822_record4 n grid, ngs cells: 31 , 30\n",
      "Y23, 092922_record5 n grid, ngs cells: 43 , 53\n",
      "Y23, 093022_record6 n grid, ngs cells: 72 , 81\n"
     ]
    },
    {
     "data": {
      "application/vnd.jupyter.widget-view+json": {
       "model_id": "04056cbc774742e5b5cc7b88ed451865",
       "version_major": 2,
       "version_minor": 0
      },
      "text/plain": [
       "  0%|          | 0/6 [00:00<?, ?it/s]"
      ]
     },
     "metadata": {},
     "output_type": "display_data"
    },
    {
     "name": "stdout",
     "output_type": "stream",
     "text": [
      "Y24, 091822_record1 n grid, ngs cells: 103 , 66\n",
      "Y24, 091922_record2 n grid, ngs cells: 43 , 76\n",
      "Y24, 092022_record3 n grid, ngs cells: 101 , 58\n",
      "Y24, 092122_record4 n grid, ngs cells: 106 , 59\n",
      "Y24, 092222_record5 n grid, ngs cells: 74 , 48\n",
      "Y24, 092322_record6 n grid, ngs cells: 79 , 42\n"
     ]
    },
    {
     "data": {
      "application/vnd.jupyter.widget-view+json": {
       "model_id": "2061bc127d8d48d28c3e73677170d41c",
       "version_major": 2,
       "version_minor": 0
      },
      "text/plain": [
       "  0%|          | 0/6 [00:00<?, ?it/s]"
      ]
     },
     "metadata": {},
     "output_type": "display_data"
    },
    {
     "name": "stdout",
     "output_type": "stream",
     "text": [
      "Y25, 021623_record1 n grid, ngs cells: 0 , 1\n",
      "Y25, 021723_record2 n grid, ngs cells: 95 , 45\n",
      "Y25, 021823_record3 n grid, ngs cells: 46 , 68\n",
      "Y25, 021923_record4 n grid, ngs cells: 52 , 58\n",
      "Y25, 022023_record5 n grid, ngs cells: 62 , 50\n",
      "Y25, 022123_record6 n grid, ngs cells: 29 , 19\n"
     ]
    },
    {
     "data": {
      "application/vnd.jupyter.widget-view+json": {
       "model_id": "e61f541b4d8847e0be19e508da946eda",
       "version_major": 2,
       "version_minor": 0
      },
      "text/plain": [
       "  0%|          | 0/6 [00:00<?, ?it/s]"
      ]
     },
     "metadata": {},
     "output_type": "display_data"
    },
    {
     "name": "stdout",
     "output_type": "stream",
     "text": [
      "Y26, 021623_record1 n grid, ngs cells: 42 , 43\n",
      "Y26, 021723_record2 n grid, ngs cells: 67 , 22\n",
      "Y26, 021823_record3 n grid, ngs cells: 25 , 30\n",
      "Y26, 021923_record4 n grid, ngs cells: 2 , 2\n",
      "Y26, 022023_record5 n grid, ngs cells: 20 , 20\n",
      "Y26, 022123_record6 n grid, ngs cells: 6 , 5\n"
     ]
    },
    {
     "data": {
      "application/vnd.jupyter.widget-view+json": {
       "model_id": "046467ec36cd4acf9e581e45ddc8d4bf",
       "version_major": 2,
       "version_minor": 0
      },
      "text/plain": [
       "  0%|          | 0/6 [00:00<?, ?it/s]"
      ]
     },
     "metadata": {},
     "output_type": "display_data"
    },
    {
     "name": "stdout",
     "output_type": "stream",
     "text": [
      "Y27, 021623_record1 n grid, ngs cells: 59 , 46\n",
      "Y27, 021723_record2 n grid, ngs cells: 43 , 18\n",
      "Y27, 021823_record3 n grid, ngs cells: 37 , 20\n",
      "Y27, 021923_record4 n grid, ngs cells: 22 , 19\n",
      "Y27, 022023_record5rep n grid, ngs cells: 53 , 29\n",
      "Y27, 022123_record6 n grid, ngs cells: 73 , 32\n"
     ]
    },
    {
     "data": {
      "application/vnd.jupyter.widget-view+json": {
       "model_id": "2ad4d73e53a242ae98376a18106ab9fb",
       "version_major": 2,
       "version_minor": 0
      },
      "text/plain": [
       "  0%|          | 0/6 [00:00<?, ?it/s]"
      ]
     },
     "metadata": {},
     "output_type": "display_data"
    },
    {
     "name": "stdout",
     "output_type": "stream",
     "text": [
      "Y28, 022623_record1 n grid, ngs cells: 5 , 32\n",
      "Y28, 022723_record2 n grid, ngs cells: 55 , 76\n",
      "Y28, 022823_record3 n grid, ngs cells: 71 , 43\n",
      "Y28, 030123_record4 n grid, ngs cells: 27 , 30\n",
      "Y28, 030223_record5 n grid, ngs cells: 63 , 89\n",
      "Y28, 030323_record6 n grid, ngs cells: 76 , 50\n"
     ]
    }
   ],
   "source": [
    "''' If you have previously classified grid & ngs cells, run this cell instead of the one above. \n",
    "Load saved grid & ngs cell booleans.\n",
    "\n",
    "'''\n",
    "\n",
    "pergrid = []\n",
    "perngs = []\n",
    "\n",
    "spergrid = []\n",
    "sperngs = []\n",
    "mpergrid = []\n",
    "\n",
    "for m, session in zip(mice,sessions):\n",
    "    \n",
    "    m_pergrid = []\n",
    "    m_cells = []\n",
    "    \n",
    "    for s in tdqm(session):\n",
    "        d = data[m][s]\n",
    "        \n",
    "        #load in data\n",
    "        rawdata_file = 'RAW_' + m + '_' + s + '.npy'\n",
    "        raw = np.load(load_folder + rawdata_file, allow_pickle=True)\n",
    "        cell_IDs = raw.item().get('cellsfil')\n",
    "        \n",
    "        #load all grid cell boolean\n",
    "        gridcell = d['gridcell']\n",
    "        ngscell = d['ngscell']\n",
    "        \n",
    "        gridcell = gridcell.astype(bool)\n",
    "        ngscell = ngscell.astype(bool)\n",
    "        \n",
    "        print(m + ', ' + s + ' n grid, ngs cells: '+ str(np.sum(gridcell)) + ' , ' + str(np.sum(ngscell)))\n",
    "        perngs = np.append(perngs, 100*np.sum(ngscell)/len(cell_IDs))\n",
    "        pergrid = np.append(pergrid, 100*np.sum(gridcell)/len(cell_IDs))\n",
    "        \n",
    "        sperngs = np.append(sperngs, 100*np.sum(ngscell)/len(cell_IDs))\n",
    "        spergrid = np.append(spergrid, 100*np.sum(gridcell)/len(cell_IDs))\n",
    "        m_pergrid = np.append(m_pergrid, np.sum(gridcell))\n",
    "        m_cells = np.append(m_cells, len(cell_IDs))\n",
    "      \n",
    "    mpergrid = np.append(mpergrid, np.sum(m_pergrid)/np.sum(m_cells)*100)"
   ]
  },
  {
   "cell_type": "code",
   "execution_count": 19,
   "id": "df2dae45",
   "metadata": {},
   "outputs": [
    {
     "name": "stdout",
     "output_type": "stream",
     "text": [
      "2924 2582 2516\n",
      "2242 2354 2066\n"
     ]
    }
   ],
   "source": [
    "''' Count numbers of grid and non-grid spatial cells in each age group at lower threshold. '''\n",
    "\n",
    "ygrid = 0\n",
    "magrid = 0\n",
    "agrid = 0\n",
    "\n",
    "yngs = 0\n",
    "mangs = 0\n",
    "angs = 0 \n",
    "\n",
    "for m, session in zip(mice,sessions):    \n",
    "    for s in session:\n",
    "        d = data[m][s]\n",
    "        \n",
    "        #load in data\n",
    "        rawdata_file = 'RAW_' + m + '_' + s + '.npy'\n",
    "        raw = np.load(load_folder + rawdata_file, allow_pickle=True)\n",
    "        cell_IDs = raw.item().get('cellsfil')\n",
    "        \n",
    "        gridcell = d['gridcell']\n",
    "        ngscell = d['ngscell']\n",
    "        \n",
    "        gridcell = gridcell.astype(bool)\n",
    "        ngscell = ngscell.astype(bool)\n",
    "        \n",
    "        if m in SM_aged_mice:\n",
    "            agrid += np.sum(gridcell)\n",
    "            angs += np.sum(ngscell)\n",
    "        elif m in SM_MA_mice:\n",
    "            magrid += np.sum(gridcell)\n",
    "            mangs += np.sum(ngscell)\n",
    "        else:\n",
    "            ygrid += np.sum(gridcell)\n",
    "            yngs += np.sum(ngscell)\n",
    "            \n",
    "print(ygrid, magrid, agrid)\n",
    "print(yngs, mangs, angs)"
   ]
  },
  {
   "cell_type": "code",
   "execution_count": 20,
   "id": "9941bc81",
   "metadata": {},
   "outputs": [
    {
     "name": "stdout",
     "output_type": "stream",
     "text": [
      "Mean, SEM Grid Cell %; Mean, Sem NGS Cell %\n",
      "18.255296536199076 0.6597148834525249 15.324409157495849 0.5189048066071342\n"
     ]
    },
    {
     "data": {
      "image/png": "[encoded data removed]",
      "text/plain": [
       "<Figure size 500x250 with 2 Axes>"
      ]
     },
     "metadata": {},
     "output_type": "display_data"
    }
   ],
   "source": [
    "''' Examine grid & NGS cell densities quickly as a sanity check at lower thresholds '''\n",
    "\n",
    "# Assess distribution of grid/ngs cell densities\n",
    "print('Mean, SEM Grid Cell %; Mean, Sem NGS Cell %')\n",
    "print(np.mean(pergrid), stats.sem(pergrid), np.mean(perngs), stats.sem(perngs))\n",
    "\n",
    "#plot grid vs. ngs cell % distributions\n",
    "fig, ax = plt.subplots(1,2,figsize = (5,2.5), sharey = True)\n",
    "ax[0].hist(pergrid, bins = np.arange(0,50,2), edgecolor = 'black',alpha = 0.5, color = 'C0')\n",
    "ax[0].set_title('Sessions vs. Grid Cell %')\n",
    "ax[0].set_ylabel('Number of Sessions')\n",
    "ax[0].set_xlabel('Grid Cell %')\n",
    "\n",
    "ax[1].hist(perngs, bins = np.arange(0,50,2), edgecolor = 'black',alpha = 0.5, color = 'C0')\n",
    "ax[1].set_title('Sessions vs. NGS Cell %')\n",
    "ax[1].set_xlabel('NGS Cell %')\n",
    "\n",
    "plt.show()"
   ]
  },
  {
   "cell_type": "code",
   "execution_count": 21,
   "id": "2878b93c",
   "metadata": {},
   "outputs": [
    {
     "name": "stdout",
     "output_type": "stream",
     "text": [
      "['Y20' 'Y21' 'Y22' 'Y23' 'Y24' 'Y25' 'Y26' 'Y27' 'Y28'] ['MA10F' 'MA1F' 'MA2F' 'MA3M' 'MA4M' 'MA5M' 'MA6M' 'MA7M' 'MA8F' 'MA9F'] ['A14' 'A15' 'A16' 'A17' 'A18' 'A19' 'A20' 'A22' 'A23' 'A24']\n",
      "9 10 10\n",
      "54 58 55\n"
     ]
    }
   ],
   "source": [
    "'''Get Indices of Stored Session, Animal Data Mice by Age Group'''\n",
    "age_ind = []\n",
    "ma_ind = []\n",
    "y_ind = []\n",
    "age_sind = []\n",
    "ma_sind = []\n",
    "y_sind = []\n",
    "\n",
    "s_count = 0\n",
    "for m, s in zip(mice, sessions):\n",
    "    start = s_count\n",
    "    end = len(s) + s_count\n",
    "\n",
    "    if m in all_aged_mice:\n",
    "        age_ind = np.append(age_ind, (np.where(mice == m)[0]))\n",
    "        age_sind = np.append(age_sind, np.arange(start, end, 1))\n",
    "    elif m in all_MA_mice:\n",
    "        ma_ind = np.append(ma_ind, (np.where(mice == m)[0]))\n",
    "        ma_sind = np.append(ma_sind, np.arange(start, end, 1))\n",
    "    else:\n",
    "        y_ind = np.append(y_ind, (np.where(mice == m)[0]))\n",
    "        y_sind = np.append(y_sind, np.arange(start, end, 1))\n",
    "                            \n",
    "    s_count += len(s)\n",
    "    \n",
    "age_ind = age_ind.astype(int)\n",
    "ma_ind = ma_ind.astype(int)\n",
    "y_ind = y_ind.astype(int)\n",
    "age_sind = age_sind.astype(int)\n",
    "ma_sind = ma_sind.astype(int)\n",
    "y_sind = y_sind.astype(int)\n",
    "\n",
    "print(mice[y_ind], mice[ma_ind], mice[age_ind])\n",
    "print(len(mice[y_ind]), len(mice[ma_ind]), len(mice[age_ind]))\n",
    "print(len(y_sind), len(ma_sind), len(age_sind))\n",
    "Nold = len(mice[age_ind])\n",
    "Nma = len(mice[ma_ind])\n",
    "Nyoung = len(mice[y_ind])"
   ]
  },
  {
   "cell_type": "code",
   "execution_count": 22,
   "id": "029c6fa6",
   "metadata": {},
   "outputs": [],
   "source": [
    "''' Define ColorMaps for Session & Animal Boxplots '''\n",
    "import matplotlib.pylab as pl\n",
    "import matplotlib.lines as mlines\n",
    "\n",
    "col_animal_old = pl.cm.Oranges([np.linspace(0.2,0.9,10)])\n",
    "col_animal_MA = pl.cm.Greens([np.linspace(0.2,0.9,10)])\n",
    "col_animal_young = pl.cm.Blues([np.linspace(0.2,0.9,9)])\n",
    "col_animal = [col_animal_young, col_animal_MA, col_animal_old]\n",
    "\n",
    "col_session_young = []\n",
    "col_session_MA = []\n",
    "col_session_old = []\n",
    "\n",
    "for m, session in zip(mice, sessions):\n",
    "    for s in range(0,len(session)):\n",
    "        \n",
    "        if m in SM_aged_mice:\n",
    "            idx = np.where(mice == m)[0][0] \n",
    "            col_session_old.append(col_animal[2][0][idx])           \n",
    "        elif m in SM_MA_mice:\n",
    "            idx = np.where(mice == m)[0][0] - Nold\n",
    "            col_session_MA.append(col_animal[1][0][idx])\n",
    "        else:\n",
    "            idx = np.where(mice == m)[0][0] - (Nold + Nma)\n",
    "            col_session_young.append(col_animal[0][0][idx])\n",
    "\n",
    "col_session = [col_session_young, col_session_MA, col_session_old]\n",
    "label_mice = ['Y20', 'Y21', 'Y22', 'Y23', 'Y24', 'Y25', 'Y26', 'Y27', 'Y28', \"\",\n",
    "              'MA10F', 'MA1F', 'MA2F', 'MA3M', 'MA4M', 'MA5M', 'MA6M', 'MA7M', 'MA8F', 'MA9F',\n",
    "              'A14', 'A15', 'A16', 'A17', 'A18', 'A19', 'A20', 'A22', 'A23', 'A24']\n",
    "\n",
    "# set up handles\n",
    "from itertools import repeat\n",
    "per99 = [mpergrid[y_ind], mpergrid[ma_ind], mpergrid[age_ind]]\n",
    "handles = []\n",
    "\n",
    "for i in range(len(per99)):\n",
    "    for c in col_animal[i][0]:\n",
    "        dot = mlines.Line2D([],[], color = c, marker ='o', linestyle = 'None', markersize = 8)\n",
    "        handles.append(dot)\n",
    "        \n",
    "        if c[0] == col_animal[0][0][8][0]: # adds white space so columns are color sorted\n",
    "            l = mlines.Line2D([0],[0],color=\"w\")\n",
    "            handles.append(l)"
   ]
  },
  {
   "cell_type": "markdown",
   "id": "12dd2be3",
   "metadata": {},
   "source": [
    "# Grid Cell Stability & Similarity Ratio (Reviewer Figures 6A-D)\n",
    "\n",
    "Mimics Figures 2f - i at lower threshold"
   ]
  },
  {
   "cell_type": "code",
   "execution_count": 23,
   "id": "eb5e0070",
   "metadata": {
    "scrolled": true
   },
   "outputs": [
    {
     "data": {
      "application/vnd.jupyter.widget-view+json": {
       "model_id": "7a4403f1373945fc8c518b2120984944",
       "version_major": 2,
       "version_minor": 0
      },
      "text/plain": [
       "  0%|          | 0/3 [00:00<?, ?it/s]"
      ]
     },
     "metadata": {},
     "output_type": "display_data"
    },
    {
     "data": {
      "application/vnd.jupyter.widget-view+json": {
       "model_id": "51aea5e915f34f7999c1a77520afae01",
       "version_major": 2,
       "version_minor": 0
      },
      "text/plain": [
       "  0%|          | 0/6 [00:00<?, ?it/s]"
      ]
     },
     "metadata": {},
     "output_type": "display_data"
    },
    {
     "data": {
      "application/vnd.jupyter.widget-view+json": {
       "model_id": "6a4e0d407d194cb491f62577744d36d6",
       "version_major": 2,
       "version_minor": 0
      },
      "text/plain": [
       "  0%|          | 0/4 [00:00<?, ?it/s]"
      ]
     },
     "metadata": {},
     "output_type": "display_data"
    },
    {
     "data": {
      "application/vnd.jupyter.widget-view+json": {
       "model_id": "e2116dadf7a446818f96523b6224dbc5",
       "version_major": 2,
       "version_minor": 0
      },
      "text/plain": [
       "  0%|          | 0/6 [00:00<?, ?it/s]"
      ]
     },
     "metadata": {},
     "output_type": "display_data"
    },
    {
     "data": {
      "application/vnd.jupyter.widget-view+json": {
       "model_id": "a509972c4b0c4ba68b2715e7c71ea401",
       "version_major": 2,
       "version_minor": 0
      },
      "text/plain": [
       "  0%|          | 0/6 [00:00<?, ?it/s]"
      ]
     },
     "metadata": {},
     "output_type": "display_data"
    },
    {
     "data": {
      "application/vnd.jupyter.widget-view+json": {
       "model_id": "63bf4ff8232744dcbf674c79c0e4567e",
       "version_major": 2,
       "version_minor": 0
      },
      "text/plain": [
       "  0%|          | 0/6 [00:00<?, ?it/s]"
      ]
     },
     "metadata": {},
     "output_type": "display_data"
    },
    {
     "data": {
      "application/vnd.jupyter.widget-view+json": {
       "model_id": "141e2479e41f4a9e9a87eed6ede74482",
       "version_major": 2,
       "version_minor": 0
      },
      "text/plain": [
       "  0%|          | 0/6 [00:00<?, ?it/s]"
      ]
     },
     "metadata": {},
     "output_type": "display_data"
    },
    {
     "data": {
      "application/vnd.jupyter.widget-view+json": {
       "model_id": "2ce11208663d46548e92e9d3f9b8dfbc",
       "version_major": 2,
       "version_minor": 0
      },
      "text/plain": [
       "  0%|          | 0/6 [00:00<?, ?it/s]"
      ]
     },
     "metadata": {},
     "output_type": "display_data"
    },
    {
     "data": {
      "application/vnd.jupyter.widget-view+json": {
       "model_id": "ba3c36b6cae84bb89e88134e0fea7423",
       "version_major": 2,
       "version_minor": 0
      },
      "text/plain": [
       "  0%|          | 0/6 [00:00<?, ?it/s]"
      ]
     },
     "metadata": {},
     "output_type": "display_data"
    },
    {
     "data": {
      "application/vnd.jupyter.widget-view+json": {
       "model_id": "7e595c7e705e4e178122eb6679c244bd",
       "version_major": 2,
       "version_minor": 0
      },
      "text/plain": [
       "  0%|          | 0/6 [00:00<?, ?it/s]"
      ]
     },
     "metadata": {},
     "output_type": "display_data"
    },
    {
     "data": {
      "application/vnd.jupyter.widget-view+json": {
       "model_id": "3ff7f1e1e7114a349bc397d8652ff87f",
       "version_major": 2,
       "version_minor": 0
      },
      "text/plain": [
       "  0%|          | 0/6 [00:00<?, ?it/s]"
      ]
     },
     "metadata": {},
     "output_type": "display_data"
    },
    {
     "data": {
      "application/vnd.jupyter.widget-view+json": {
       "model_id": "b58576484bc54fd6b7ed8c4065e3a021",
       "version_major": 2,
       "version_minor": 0
      },
      "text/plain": [
       "  0%|          | 0/6 [00:00<?, ?it/s]"
      ]
     },
     "metadata": {},
     "output_type": "display_data"
    },
    {
     "data": {
      "application/vnd.jupyter.widget-view+json": {
       "model_id": "a31945ab2ca44d9895f880fe1725ba23",
       "version_major": 2,
       "version_minor": 0
      },
      "text/plain": [
       "  0%|          | 0/6 [00:00<?, ?it/s]"
      ]
     },
     "metadata": {},
     "output_type": "display_data"
    },
    {
     "data": {
      "application/vnd.jupyter.widget-view+json": {
       "model_id": "caf827ca0b514ee29a0b1ee25f1b9909",
       "version_major": 2,
       "version_minor": 0
      },
      "text/plain": [
       "  0%|          | 0/6 [00:00<?, ?it/s]"
      ]
     },
     "metadata": {},
     "output_type": "display_data"
    },
    {
     "data": {
      "application/vnd.jupyter.widget-view+json": {
       "model_id": "718c69a2704d4c3face95b1c29c96477",
       "version_major": 2,
       "version_minor": 0
      },
      "text/plain": [
       "  0%|          | 0/6 [00:00<?, ?it/s]"
      ]
     },
     "metadata": {},
     "output_type": "display_data"
    },
    {
     "data": {
      "application/vnd.jupyter.widget-view+json": {
       "model_id": "8fd52916d7c248bdad63a8623b20ca6c",
       "version_major": 2,
       "version_minor": 0
      },
      "text/plain": [
       "  0%|          | 0/6 [00:00<?, ?it/s]"
      ]
     },
     "metadata": {},
     "output_type": "display_data"
    },
    {
     "data": {
      "application/vnd.jupyter.widget-view+json": {
       "model_id": "bb6500e63ef54a3f9b2631579a1e8b1c",
       "version_major": 2,
       "version_minor": 0
      },
      "text/plain": [
       "  0%|          | 0/6 [00:00<?, ?it/s]"
      ]
     },
     "metadata": {},
     "output_type": "display_data"
    },
    {
     "data": {
      "application/vnd.jupyter.widget-view+json": {
       "model_id": "ced555165b5043c09795a203f7577b19",
       "version_major": 2,
       "version_minor": 0
      },
      "text/plain": [
       "  0%|          | 0/4 [00:00<?, ?it/s]"
      ]
     },
     "metadata": {},
     "output_type": "display_data"
    },
    {
     "data": {
      "application/vnd.jupyter.widget-view+json": {
       "model_id": "c567cc5bed7147d183f6c0d8009c6bec",
       "version_major": 2,
       "version_minor": 0
      },
      "text/plain": [
       "  0%|          | 0/6 [00:00<?, ?it/s]"
      ]
     },
     "metadata": {},
     "output_type": "display_data"
    },
    {
     "data": {
      "application/vnd.jupyter.widget-view+json": {
       "model_id": "127731dde2554c609c26dd3b437b1387",
       "version_major": 2,
       "version_minor": 0
      },
      "text/plain": [
       "  0%|          | 0/6 [00:00<?, ?it/s]"
      ]
     },
     "metadata": {},
     "output_type": "display_data"
    },
    {
     "data": {
      "application/vnd.jupyter.widget-view+json": {
       "model_id": "022c41adc0cc444d9431bfea0c7569ea",
       "version_major": 2,
       "version_minor": 0
      },
      "text/plain": [
       "  0%|          | 0/6 [00:00<?, ?it/s]"
      ]
     },
     "metadata": {},
     "output_type": "display_data"
    },
    {
     "data": {
      "application/vnd.jupyter.widget-view+json": {
       "model_id": "7f89065adf2a4238845b21f61fe72809",
       "version_major": 2,
       "version_minor": 0
      },
      "text/plain": [
       "  0%|          | 0/6 [00:00<?, ?it/s]"
      ]
     },
     "metadata": {},
     "output_type": "display_data"
    },
    {
     "data": {
      "application/vnd.jupyter.widget-view+json": {
       "model_id": "042b6f47ee22478fa59219490256bfee",
       "version_major": 2,
       "version_minor": 0
      },
      "text/plain": [
       "  0%|          | 0/6 [00:00<?, ?it/s]"
      ]
     },
     "metadata": {},
     "output_type": "display_data"
    },
    {
     "data": {
      "application/vnd.jupyter.widget-view+json": {
       "model_id": "fae7970334c24424ad5e3be6f93bb299",
       "version_major": 2,
       "version_minor": 0
      },
      "text/plain": [
       "  0%|          | 0/6 [00:00<?, ?it/s]"
      ]
     },
     "metadata": {},
     "output_type": "display_data"
    },
    {
     "data": {
      "application/vnd.jupyter.widget-view+json": {
       "model_id": "7a9630a534c146c0bade12483b17e6d0",
       "version_major": 2,
       "version_minor": 0
      },
      "text/plain": [
       "  0%|          | 0/6 [00:00<?, ?it/s]"
      ]
     },
     "metadata": {},
     "output_type": "display_data"
    },
    {
     "data": {
      "application/vnd.jupyter.widget-view+json": {
       "model_id": "0fade83dc86e48fb8ce51669ecc5054a",
       "version_major": 2,
       "version_minor": 0
      },
      "text/plain": [
       "  0%|          | 0/6 [00:00<?, ?it/s]"
      ]
     },
     "metadata": {},
     "output_type": "display_data"
    },
    {
     "data": {
      "application/vnd.jupyter.widget-view+json": {
       "model_id": "c2a3ae0b3d884865862e0472789da9da",
       "version_major": 2,
       "version_minor": 0
      },
      "text/plain": [
       "  0%|          | 0/6 [00:00<?, ?it/s]"
      ]
     },
     "metadata": {},
     "output_type": "display_data"
    },
    {
     "data": {
      "application/vnd.jupyter.widget-view+json": {
       "model_id": "5a126d49ad66439dbe017805ae8a5d18",
       "version_major": 2,
       "version_minor": 0
      },
      "text/plain": [
       "  0%|          | 0/6 [00:00<?, ?it/s]"
      ]
     },
     "metadata": {},
     "output_type": "display_data"
    },
    {
     "data": {
      "application/vnd.jupyter.widget-view+json": {
       "model_id": "4b2da98c99eb4cd5a59099d2bb321986",
       "version_major": 2,
       "version_minor": 0
      },
      "text/plain": [
       "  0%|          | 0/6 [00:00<?, ?it/s]"
      ]
     },
     "metadata": {},
     "output_type": "display_data"
    }
   ],
   "source": [
    "''' Compute & Plot Sorted Cross-Trial Correlation Matrices for Grid Cells; Save Matrices for Later Use \n",
    "\n",
    "Run time is a few minutes per session (scales w/ grid cell number).\n",
    "\n",
    "'''\n",
    "for m, session in zip(mice,sessions):\n",
    "\n",
    "    for s in tdqm(session):\n",
    "        \n",
    "        #get data\n",
    "        d = data[m][s]\n",
    "        \n",
    "        #get some data & cell IDs\n",
    "        rawdata_file = 'RAW_' + m + '_' + s + '.npy'\n",
    "        spikes_file = 'SPIKES_' + m + '_' + s +'.npy'\n",
    "        behavior_file = 'BEHAVIOR_' + m + '_' + s + '.npy'\n",
    "        \n",
    "        raw = np.load(load_folder + rawdata_file, allow_pickle=True)\n",
    "        Y = np.load(load_folder + spikes_file, allow_pickle=False) #pre-filtered for speeds >2cm/s, position-corrected spikes, 20 ms timebins\n",
    "        behaviorfil = np.load(load_folder + behavior_file, allow_pickle=False)\n",
    "        \n",
    "        cell_IDs = raw.item().get('cellsfil')\n",
    "        gridcell = d['gridcell'].astype(bool)\n",
    "        gridcells = cell_IDs[gridcell]    \n",
    "    \n",
    "        posx = behaviorfil[:,0]\n",
    "        trial = behaviorfil[:,2]\n",
    "        rawtrialfil = raw.item().get('trialfil')\n",
    "        \n",
    "        #Find any skipped trials\n",
    "        try:\n",
    "            _ = raw.item().get('correctedtrial').shape\n",
    "            skippedtrials = get.find_skipped(trial, max_trial_num = 220)\n",
    "            \n",
    "        except:\n",
    "            skippedtrials = []\n",
    "        \n",
    "        if np.max(np.unique(trial)) < 160: #handles truncated, shorter sessions \n",
    "            alltrial = np.arange(0, np.max(np.unique(trial)) + 2, 1)\n",
    "        else:\n",
    "            alltrial = np.arange(0,220,1)\n",
    "\n",
    "        # Load in left vs. right info\n",
    "        trials = np.unique(trial)\n",
    "        trialinfo = raw.item().get('trialinfo')\n",
    "        left = trialinfo['left']\n",
    "        \n",
    "        # Sort trials by context, find sorted skipped trials, num dark skipped trials\n",
    "        leftsort, allcopy = get.contextsortedtrials(alltrial, left, alt_idx = 140)\n",
    "        \n",
    "        newskippedtrials = []\n",
    "        for z in skippedtrials:\n",
    "            newskippedtrials = np.append(newskippedtrials, np.where(allcopy == z)[0][0])\n",
    "\n",
    "        ndarkskipped = 0\n",
    "        for z in newskippedtrials:\n",
    "            if z < 20: \n",
    "                ndarkskipped += 1\n",
    "                \n",
    "        #adjust trialfil so that sorted trials are skipped instead\n",
    "        skippedrawtrialfil = get.sortedtrialbyframe(rawtrialfil, trial, newskippedtrials)\n",
    "        numtrial = np.unique(skippedrawtrialfil)\n",
    "\n",
    "        #sort spike train & position on VR frames by context during alternation\n",
    "        posxcopy = []\n",
    "        allcopy= np.append(allcopy, 220)\n",
    "        for t in allcopy:\n",
    "            obs_idx = np.where(trial == t)[0]\n",
    "            posxcopy = np.append(posxcopy, posx[obs_idx])\n",
    "            if t == 0:\n",
    "                Z = Y[obs_idx,:]\n",
    "            else: \n",
    "                Z = np.append(Z, Y[obs_idx,:], axis = 0)\n",
    "        \n",
    "        #trim off the dark trials & trial 220 dataframes\n",
    "        start_idx = (np.where(skippedrawtrialfil >= 20)[0][0]).astype(int)\n",
    "        if np.max(skippedrawtrialfil) == 220:\n",
    "            end_idx = (np.where(skippedrawtrialfil == 220)[0][0])\n",
    "            #get smoothed by trial FR matrix excluding dark period sorted by context\n",
    "            normFR, _, _ = ps.tuning_curve_bytrial(posxcopy[start_idx:end_idx], skippedrawtrialfil[start_idx:end_idx], Z[start_idx:end_idx,:], dt, sigma = 5, b=2, smooth=True, normalize=True, occupancy=True)\n",
    "        else:\n",
    "            end_idx = len(skippedrawtrialfil) + 1\n",
    "            #get smoothed by trial FR matrix excluding dark period sorted by context\n",
    "            normFR, _, _ = ps.tuning_curve_bytrial(posxcopy[start_idx:], skippedrawtrialfil[start_idx:], Z[start_idx:,:], dt, sigma = 5, b=2, smooth=True, normalize=True, occupancy=True)\n",
    "\n",
    "        #collect & plot cross-trial correlation matrices & save for the grid cell population\n",
    "        allsim = np.zeros(shape = (len(np.unique(skippedrawtrialfil[start_idx:end_idx])),len(np.unique(skippedrawtrialfil[start_idx:end_idx])),len(gridcells)))\n",
    "        for i, c in enumerate(gridcells):\n",
    "            sdx = (np.where(cell_IDs == c)[0][0]).astype(int)  \n",
    "            sim , _  = ps.cross_trial_correlation(normFR[:,:,sdx], shift = False) \n",
    "            allsim[:,:,i] = sim\n",
    "            \n",
    "        # save matrix of cross-trial correlations\n",
    "        d['allgridsim'] = allsim"
   ]
  },
  {
   "cell_type": "code",
   "execution_count": 24,
   "id": "93215f9f",
   "metadata": {
    "scrolled": true
   },
   "outputs": [
    {
     "data": {
      "application/vnd.jupyter.widget-view+json": {
       "model_id": "f1a84a35f9714875b4312cddbfacd583",
       "version_major": 2,
       "version_minor": 0
      },
      "text/plain": [
       "  0%|          | 0/3 [00:00<?, ?it/s]"
      ]
     },
     "metadata": {},
     "output_type": "display_data"
    },
    {
     "data": {
      "application/vnd.jupyter.widget-view+json": {
       "model_id": "435a8364aa1f448593fe95461b809449",
       "version_major": 2,
       "version_minor": 0
      },
      "text/plain": [
       "  0%|          | 0/6 [00:00<?, ?it/s]"
      ]
     },
     "metadata": {},
     "output_type": "display_data"
    },
    {
     "data": {
      "application/vnd.jupyter.widget-view+json": {
       "model_id": "6df90cdad5b24e5d8b8cb3ef89b63fec",
       "version_major": 2,
       "version_minor": 0
      },
      "text/plain": [
       "  0%|          | 0/4 [00:00<?, ?it/s]"
      ]
     },
     "metadata": {},
     "output_type": "display_data"
    },
    {
     "name": "stderr",
     "output_type": "stream",
     "text": [
      "C:\\Users\\Python\\AppData\\Local\\Temp\\ipykernel_19996\\2972006257.py:79: RuntimeWarning: Mean of empty slice\n",
      "  slocstab5block = np.append(slocstab5block, np.nanmean(local_stabilityblock))\n",
      "C:\\Users\\Python\\AppData\\Local\\Temp\\ipykernel_19996\\2972006257.py:80: RuntimeWarning: Mean of empty slice\n",
      "  slocstab5alt = np.append(slocstab5alt, np.nanmean(local_stabilityalt))\n"
     ]
    },
    {
     "data": {
      "application/vnd.jupyter.widget-view+json": {
       "model_id": "29ffea75bf4341dcbbac19d09974ab8c",
       "version_major": 2,
       "version_minor": 0
      },
      "text/plain": [
       "  0%|          | 0/6 [00:00<?, ?it/s]"
      ]
     },
     "metadata": {},
     "output_type": "display_data"
    },
    {
     "data": {
      "application/vnd.jupyter.widget-view+json": {
       "model_id": "53c2be798ecd4840ada8207432a7d72f",
       "version_major": 2,
       "version_minor": 0
      },
      "text/plain": [
       "  0%|          | 0/6 [00:00<?, ?it/s]"
      ]
     },
     "metadata": {},
     "output_type": "display_data"
    },
    {
     "data": {
      "application/vnd.jupyter.widget-view+json": {
       "model_id": "85ce77318b5540f982cb8519835ded3f",
       "version_major": 2,
       "version_minor": 0
      },
      "text/plain": [
       "  0%|          | 0/6 [00:00<?, ?it/s]"
      ]
     },
     "metadata": {},
     "output_type": "display_data"
    },
    {
     "data": {
      "application/vnd.jupyter.widget-view+json": {
       "model_id": "00f35e94b2394a068ce82c001ef02eb5",
       "version_major": 2,
       "version_minor": 0
      },
      "text/plain": [
       "  0%|          | 0/6 [00:00<?, ?it/s]"
      ]
     },
     "metadata": {},
     "output_type": "display_data"
    },
    {
     "data": {
      "application/vnd.jupyter.widget-view+json": {
       "model_id": "54a9394a3e7a4f65aa318c0f520f0417",
       "version_major": 2,
       "version_minor": 0
      },
      "text/plain": [
       "  0%|          | 0/6 [00:00<?, ?it/s]"
      ]
     },
     "metadata": {},
     "output_type": "display_data"
    },
    {
     "data": {
      "application/vnd.jupyter.widget-view+json": {
       "model_id": "59625fa1215c4c48924623516e3a35e6",
       "version_major": 2,
       "version_minor": 0
      },
      "text/plain": [
       "  0%|          | 0/6 [00:00<?, ?it/s]"
      ]
     },
     "metadata": {},
     "output_type": "display_data"
    },
    {
     "data": {
      "application/vnd.jupyter.widget-view+json": {
       "model_id": "379386f20c1146379a48efbe3affe795",
       "version_major": 2,
       "version_minor": 0
      },
      "text/plain": [
       "  0%|          | 0/6 [00:00<?, ?it/s]"
      ]
     },
     "metadata": {},
     "output_type": "display_data"
    },
    {
     "data": {
      "application/vnd.jupyter.widget-view+json": {
       "model_id": "55d63bb8d3d646dfb2720d21341cca72",
       "version_major": 2,
       "version_minor": 0
      },
      "text/plain": [
       "  0%|          | 0/6 [00:00<?, ?it/s]"
      ]
     },
     "metadata": {},
     "output_type": "display_data"
    },
    {
     "data": {
      "application/vnd.jupyter.widget-view+json": {
       "model_id": "9fc078d33db54c2ab9a9ccd3bad33ea7",
       "version_major": 2,
       "version_minor": 0
      },
      "text/plain": [
       "  0%|          | 0/6 [00:00<?, ?it/s]"
      ]
     },
     "metadata": {},
     "output_type": "display_data"
    },
    {
     "data": {
      "application/vnd.jupyter.widget-view+json": {
       "model_id": "a353023bb98545829fbeca21d999282c",
       "version_major": 2,
       "version_minor": 0
      },
      "text/plain": [
       "  0%|          | 0/6 [00:00<?, ?it/s]"
      ]
     },
     "metadata": {},
     "output_type": "display_data"
    },
    {
     "data": {
      "application/vnd.jupyter.widget-view+json": {
       "model_id": "5bad9287f8f7438cb960c469cce8b54e",
       "version_major": 2,
       "version_minor": 0
      },
      "text/plain": [
       "  0%|          | 0/6 [00:00<?, ?it/s]"
      ]
     },
     "metadata": {},
     "output_type": "display_data"
    },
    {
     "data": {
      "application/vnd.jupyter.widget-view+json": {
       "model_id": "bdc3e36e6bf5436aaa02246c7c05d274",
       "version_major": 2,
       "version_minor": 0
      },
      "text/plain": [
       "  0%|          | 0/6 [00:00<?, ?it/s]"
      ]
     },
     "metadata": {},
     "output_type": "display_data"
    },
    {
     "data": {
      "application/vnd.jupyter.widget-view+json": {
       "model_id": "b4d2c9a4d517450b93c144e9b3d8ed20",
       "version_major": 2,
       "version_minor": 0
      },
      "text/plain": [
       "  0%|          | 0/6 [00:00<?, ?it/s]"
      ]
     },
     "metadata": {},
     "output_type": "display_data"
    },
    {
     "data": {
      "application/vnd.jupyter.widget-view+json": {
       "model_id": "6ad265608a1b4f64b12f64099a35f4bc",
       "version_major": 2,
       "version_minor": 0
      },
      "text/plain": [
       "  0%|          | 0/6 [00:00<?, ?it/s]"
      ]
     },
     "metadata": {},
     "output_type": "display_data"
    },
    {
     "data": {
      "application/vnd.jupyter.widget-view+json": {
       "model_id": "c7f4639767464f3ab6f7cf66a41cbb3f",
       "version_major": 2,
       "version_minor": 0
      },
      "text/plain": [
       "  0%|          | 0/4 [00:00<?, ?it/s]"
      ]
     },
     "metadata": {},
     "output_type": "display_data"
    },
    {
     "data": {
      "application/vnd.jupyter.widget-view+json": {
       "model_id": "243cab27c43048fa995ab69232243d5d",
       "version_major": 2,
       "version_minor": 0
      },
      "text/plain": [
       "  0%|          | 0/6 [00:00<?, ?it/s]"
      ]
     },
     "metadata": {},
     "output_type": "display_data"
    },
    {
     "data": {
      "application/vnd.jupyter.widget-view+json": {
       "model_id": "112db9bc4c46487e9a6f27cbee482e3b",
       "version_major": 2,
       "version_minor": 0
      },
      "text/plain": [
       "  0%|          | 0/6 [00:00<?, ?it/s]"
      ]
     },
     "metadata": {},
     "output_type": "display_data"
    },
    {
     "data": {
      "application/vnd.jupyter.widget-view+json": {
       "model_id": "cd6e1f68550a42789fd334579a6ea1b3",
       "version_major": 2,
       "version_minor": 0
      },
      "text/plain": [
       "  0%|          | 0/6 [00:00<?, ?it/s]"
      ]
     },
     "metadata": {},
     "output_type": "display_data"
    },
    {
     "data": {
      "application/vnd.jupyter.widget-view+json": {
       "model_id": "f4db38f569704431a6a7e6628300084b",
       "version_major": 2,
       "version_minor": 0
      },
      "text/plain": [
       "  0%|          | 0/6 [00:00<?, ?it/s]"
      ]
     },
     "metadata": {},
     "output_type": "display_data"
    },
    {
     "data": {
      "application/vnd.jupyter.widget-view+json": {
       "model_id": "48c2f299afaf44efbac93298b2c5f21c",
       "version_major": 2,
       "version_minor": 0
      },
      "text/plain": [
       "  0%|          | 0/6 [00:00<?, ?it/s]"
      ]
     },
     "metadata": {},
     "output_type": "display_data"
    },
    {
     "data": {
      "application/vnd.jupyter.widget-view+json": {
       "model_id": "c25f925480454ecba7a33eb86376e337",
       "version_major": 2,
       "version_minor": 0
      },
      "text/plain": [
       "  0%|          | 0/6 [00:00<?, ?it/s]"
      ]
     },
     "metadata": {},
     "output_type": "display_data"
    },
    {
     "data": {
      "application/vnd.jupyter.widget-view+json": {
       "model_id": "5199a23980c243cc9bdc0e6b5ae95e2f",
       "version_major": 2,
       "version_minor": 0
      },
      "text/plain": [
       "  0%|          | 0/6 [00:00<?, ?it/s]"
      ]
     },
     "metadata": {},
     "output_type": "display_data"
    },
    {
     "data": {
      "application/vnd.jupyter.widget-view+json": {
       "model_id": "808f59ca69034f63ac691e99127361ed",
       "version_major": 2,
       "version_minor": 0
      },
      "text/plain": [
       "  0%|          | 0/6 [00:00<?, ?it/s]"
      ]
     },
     "metadata": {},
     "output_type": "display_data"
    },
    {
     "data": {
      "application/vnd.jupyter.widget-view+json": {
       "model_id": "15b9fb94fd4c403f88d1c3ac53c52c89",
       "version_major": 2,
       "version_minor": 0
      },
      "text/plain": [
       "  0%|          | 0/6 [00:00<?, ?it/s]"
      ]
     },
     "metadata": {},
     "output_type": "display_data"
    },
    {
     "data": {
      "application/vnd.jupyter.widget-view+json": {
       "model_id": "bad195bd8e9c4b6baa3de43376da72cc",
       "version_major": 2,
       "version_minor": 0
      },
      "text/plain": [
       "  0%|          | 0/6 [00:00<?, ?it/s]"
      ]
     },
     "metadata": {},
     "output_type": "display_data"
    },
    {
     "data": {
      "application/vnd.jupyter.widget-view+json": {
       "model_id": "46cf55b04fae4ed5b4e7e0df8bd6bc00",
       "version_major": 2,
       "version_minor": 0
      },
      "text/plain": [
       "  0%|          | 0/6 [00:00<?, ?it/s]"
      ]
     },
     "metadata": {},
     "output_type": "display_data"
    }
   ],
   "source": [
    "''' Calculate Local Cross Trial Correlation Stability within Each Context'''\n",
    "\n",
    "from scipy.spatial.distance import pdist\n",
    "from scipy.spatial.distance import squareform\n",
    "\n",
    "dt = 0.02\n",
    "\n",
    "slocstab5block = []\n",
    "slocstab5alt = []\n",
    "max_k = 5\n",
    "\n",
    "#cell arrays\n",
    "ylocstab5block = []\n",
    "ylocstab5alt = []\n",
    "\n",
    "malocstab5block = []\n",
    "malocstab5alt = []\n",
    "\n",
    "alocstab5block = []\n",
    "alocstab5alt = []\n",
    "\n",
    "for m, session in zip(mice, sessions):\n",
    "    for s in tdqm(session):\n",
    "        d = data[m][s]\n",
    "        \n",
    "        #get some data & cell IDs\n",
    "        rawdata_file = 'RAW_' + m + '_' + s + '.npy'\n",
    "        behavior_file = 'BEHAVIOR_' + m + '_' + s + '.npy'\n",
    "        raw = np.load(load_folder + rawdata_file, allow_pickle=True)\n",
    "        behaviorfil = np.load(load_folder + behavior_file, allow_pickle=False)\n",
    "        cell_IDs = raw.item().get('cellsfil')\n",
    "        gridcell = d['gridcell'].astype(bool)\n",
    "        gridcells = cell_IDs[gridcell]   \n",
    "        \n",
    "        trial = behaviorfil[:,2]\n",
    "        \n",
    "        #load the context lengths, exclude A' and B' gain change trials\n",
    "        Aidx = d['Aidx']\n",
    "        lengthA = len(np.unique(trial[Aidx]))\n",
    "        Bidx = d['Bidx'] \n",
    "        lengthB = len(np.unique(trial[Bidx]))\n",
    "        \n",
    "        allgridsim = d['allgridsim']\n",
    "        \n",
    "        local_stabilityblock = [] \n",
    "        local_stabilityalt = []\n",
    "        for i, c in enumerate(gridcells):\n",
    "            \n",
    "            #divide sim by context\n",
    "            sim = allgridsim[:,:,i]\n",
    "            simblock = sim[:(lengthA + lengthB),:(lengthA + lengthB)]\n",
    "            simalt = sim[(lengthA + lengthB):,(lengthA + lengthB):]\n",
    "       \n",
    "            #Block Stability\n",
    "            max_k = 5  \n",
    "            sum_k = np.zeros(simblock.shape[0])\n",
    "            for k in np.arange(-max_k, max_k+1, 1):\n",
    "                if k == 0:\n",
    "                    continue\n",
    "                elif k < 0:\n",
    "                    sum_k[np.abs(k):] = sum_k[np.abs(k):] + np.diagonal(simblock, offset=k)\n",
    "                else:\n",
    "                    sum_k[:-k] = sum_k[:-k] + np.diagonal(simblock, offset=k)\n",
    "            local_stabilityblock = np.append(local_stabilityblock, np.nanmean(sum_k[max_k:-max_k]/(2*max_k)))\n",
    "        \n",
    "            #Alt Stability\n",
    "            max_k = 5  \n",
    "            sum_k = np.zeros(simalt.shape[0])\n",
    "            for k in np.arange(-max_k, max_k+1, 1):\n",
    "                if k == 0:\n",
    "                    continue\n",
    "                elif k < 0:\n",
    "                    sum_k[np.abs(k):] = sum_k[np.abs(k):] + np.diagonal(simalt, offset=k)\n",
    "                else:\n",
    "                    sum_k[:-k] = sum_k[:-k] + np.diagonal(simalt, offset=k)\n",
    "            local_stabilityalt = np.append(local_stabilityalt, np.nanmean(sum_k[max_k:-max_k]/(2*max_k)))\n",
    "        \n",
    "        #save session results\n",
    "        slocstab5block = np.append(slocstab5block, np.nanmean(local_stabilityblock))\n",
    "        slocstab5alt = np.append(slocstab5alt, np.nanmean(local_stabilityalt))\n",
    "        \n",
    "        #pool by age group\n",
    "        if m in SM_aged_mice:\n",
    "            alocstab5block = np.append(alocstab5block, local_stabilityblock) \n",
    "            alocstab5alt = np.append(alocstab5alt, local_stabilityalt) \n",
    "        elif m in SM_MA_mice:\n",
    "            malocstab5block = np.append(malocstab5block, local_stabilityblock) \n",
    "            malocstab5alt = np.append(malocstab5alt, local_stabilityalt) \n",
    "        else:\n",
    "            ylocstab5block = np.append(ylocstab5block, local_stabilityblock) \n",
    "            ylocstab5alt = np.append(ylocstab5alt, local_stabilityalt) \n",
    "\n",
    "#save arrays\n",
    "slocstab5block = np.asarray(slocstab5block)\n",
    "slocstab5alt = np.asarray(slocstab5alt)"
   ]
  },
  {
   "cell_type": "code",
   "execution_count": 25,
   "id": "c433e721",
   "metadata": {
    "scrolled": true
   },
   "outputs": [
    {
     "data": {
      "application/vnd.jupyter.widget-view+json": {
       "model_id": "0a35875e936d4930bd6cd6bfd23e0591",
       "version_major": 2,
       "version_minor": 0
      },
      "text/plain": [
       "  0%|          | 0/3 [00:00<?, ?it/s]"
      ]
     },
     "metadata": {},
     "output_type": "display_data"
    },
    {
     "data": {
      "application/vnd.jupyter.widget-view+json": {
       "model_id": "d678c9d990344ae296ce099614092824",
       "version_major": 2,
       "version_minor": 0
      },
      "text/plain": [
       "  0%|          | 0/6 [00:00<?, ?it/s]"
      ]
     },
     "metadata": {},
     "output_type": "display_data"
    },
    {
     "data": {
      "application/vnd.jupyter.widget-view+json": {
       "model_id": "3780572137aa41978f312ca52f34e7ea",
       "version_major": 2,
       "version_minor": 0
      },
      "text/plain": [
       "  0%|          | 0/4 [00:00<?, ?it/s]"
      ]
     },
     "metadata": {},
     "output_type": "display_data"
    },
    {
     "data": {
      "application/vnd.jupyter.widget-view+json": {
       "model_id": "d09a34fa8a8c46f7bc30b8f918d4d968",
       "version_major": 2,
       "version_minor": 0
      },
      "text/plain": [
       "  0%|          | 0/6 [00:00<?, ?it/s]"
      ]
     },
     "metadata": {},
     "output_type": "display_data"
    },
    {
     "data": {
      "application/vnd.jupyter.widget-view+json": {
       "model_id": "405c0125542443ceb342374bde2538a5",
       "version_major": 2,
       "version_minor": 0
      },
      "text/plain": [
       "  0%|          | 0/6 [00:00<?, ?it/s]"
      ]
     },
     "metadata": {},
     "output_type": "display_data"
    },
    {
     "data": {
      "application/vnd.jupyter.widget-view+json": {
       "model_id": "71af1e39f4e341a4ae5aec41be9358f4",
       "version_major": 2,
       "version_minor": 0
      },
      "text/plain": [
       "  0%|          | 0/6 [00:00<?, ?it/s]"
      ]
     },
     "metadata": {},
     "output_type": "display_data"
    },
    {
     "data": {
      "application/vnd.jupyter.widget-view+json": {
       "model_id": "1f53decda4df47729dfed134f7adcedc",
       "version_major": 2,
       "version_minor": 0
      },
      "text/plain": [
       "  0%|          | 0/6 [00:00<?, ?it/s]"
      ]
     },
     "metadata": {},
     "output_type": "display_data"
    },
    {
     "data": {
      "application/vnd.jupyter.widget-view+json": {
       "model_id": "27256f5231ea476cb68681e2ce640a9a",
       "version_major": 2,
       "version_minor": 0
      },
      "text/plain": [
       "  0%|          | 0/6 [00:00<?, ?it/s]"
      ]
     },
     "metadata": {},
     "output_type": "display_data"
    },
    {
     "data": {
      "application/vnd.jupyter.widget-view+json": {
       "model_id": "50b43711deda442c98621c76d346fb72",
       "version_major": 2,
       "version_minor": 0
      },
      "text/plain": [
       "  0%|          | 0/6 [00:00<?, ?it/s]"
      ]
     },
     "metadata": {},
     "output_type": "display_data"
    },
    {
     "data": {
      "application/vnd.jupyter.widget-view+json": {
       "model_id": "eaaa47a4233a491c93f1f7631697731d",
       "version_major": 2,
       "version_minor": 0
      },
      "text/plain": [
       "  0%|          | 0/6 [00:00<?, ?it/s]"
      ]
     },
     "metadata": {},
     "output_type": "display_data"
    },
    {
     "data": {
      "application/vnd.jupyter.widget-view+json": {
       "model_id": "b2d3dc2ef4004ce49274fdfce72e0399",
       "version_major": 2,
       "version_minor": 0
      },
      "text/plain": [
       "  0%|          | 0/6 [00:00<?, ?it/s]"
      ]
     },
     "metadata": {},
     "output_type": "display_data"
    },
    {
     "data": {
      "application/vnd.jupyter.widget-view+json": {
       "model_id": "f19184881af943d3a9a797231072372b",
       "version_major": 2,
       "version_minor": 0
      },
      "text/plain": [
       "  0%|          | 0/6 [00:00<?, ?it/s]"
      ]
     },
     "metadata": {},
     "output_type": "display_data"
    },
    {
     "data": {
      "application/vnd.jupyter.widget-view+json": {
       "model_id": "adf303105fa744b394f6bc3e0b0778b9",
       "version_major": 2,
       "version_minor": 0
      },
      "text/plain": [
       "  0%|          | 0/6 [00:00<?, ?it/s]"
      ]
     },
     "metadata": {},
     "output_type": "display_data"
    },
    {
     "data": {
      "application/vnd.jupyter.widget-view+json": {
       "model_id": "9861c87ea0a249c299865afb7aa81e31",
       "version_major": 2,
       "version_minor": 0
      },
      "text/plain": [
       "  0%|          | 0/6 [00:00<?, ?it/s]"
      ]
     },
     "metadata": {},
     "output_type": "display_data"
    },
    {
     "data": {
      "application/vnd.jupyter.widget-view+json": {
       "model_id": "d595a197972040ceb1678e019b8df2e6",
       "version_major": 2,
       "version_minor": 0
      },
      "text/plain": [
       "  0%|          | 0/6 [00:00<?, ?it/s]"
      ]
     },
     "metadata": {},
     "output_type": "display_data"
    },
    {
     "data": {
      "application/vnd.jupyter.widget-view+json": {
       "model_id": "0e6f14dc8d66493bae2a46806b602ad5",
       "version_major": 2,
       "version_minor": 0
      },
      "text/plain": [
       "  0%|          | 0/6 [00:00<?, ?it/s]"
      ]
     },
     "metadata": {},
     "output_type": "display_data"
    },
    {
     "data": {
      "application/vnd.jupyter.widget-view+json": {
       "model_id": "1f68a50a2ef5481c97cb4a3afbf1366a",
       "version_major": 2,
       "version_minor": 0
      },
      "text/plain": [
       "  0%|          | 0/6 [00:00<?, ?it/s]"
      ]
     },
     "metadata": {},
     "output_type": "display_data"
    },
    {
     "data": {
      "application/vnd.jupyter.widget-view+json": {
       "model_id": "9f7b4e511a854b4b8d61c32a9131eefd",
       "version_major": 2,
       "version_minor": 0
      },
      "text/plain": [
       "  0%|          | 0/4 [00:00<?, ?it/s]"
      ]
     },
     "metadata": {},
     "output_type": "display_data"
    },
    {
     "data": {
      "application/vnd.jupyter.widget-view+json": {
       "model_id": "093046b309874db8997c491fefc0346c",
       "version_major": 2,
       "version_minor": 0
      },
      "text/plain": [
       "  0%|          | 0/6 [00:00<?, ?it/s]"
      ]
     },
     "metadata": {},
     "output_type": "display_data"
    },
    {
     "data": {
      "application/vnd.jupyter.widget-view+json": {
       "model_id": "a06d578b2e54447c996be9bf8f37699a",
       "version_major": 2,
       "version_minor": 0
      },
      "text/plain": [
       "  0%|          | 0/6 [00:00<?, ?it/s]"
      ]
     },
     "metadata": {},
     "output_type": "display_data"
    },
    {
     "data": {
      "application/vnd.jupyter.widget-view+json": {
       "model_id": "813bec442bbd434c9ec6e0b31f4095ff",
       "version_major": 2,
       "version_minor": 0
      },
      "text/plain": [
       "  0%|          | 0/6 [00:00<?, ?it/s]"
      ]
     },
     "metadata": {},
     "output_type": "display_data"
    },
    {
     "data": {
      "application/vnd.jupyter.widget-view+json": {
       "model_id": "649ea0ded9f34754b537480f3b484435",
       "version_major": 2,
       "version_minor": 0
      },
      "text/plain": [
       "  0%|          | 0/6 [00:00<?, ?it/s]"
      ]
     },
     "metadata": {},
     "output_type": "display_data"
    },
    {
     "data": {
      "application/vnd.jupyter.widget-view+json": {
       "model_id": "84d85589bb844627857e556a3ed49b21",
       "version_major": 2,
       "version_minor": 0
      },
      "text/plain": [
       "  0%|          | 0/6 [00:00<?, ?it/s]"
      ]
     },
     "metadata": {},
     "output_type": "display_data"
    },
    {
     "data": {
      "application/vnd.jupyter.widget-view+json": {
       "model_id": "0c93f1acadaf41498a4574ad3eb87237",
       "version_major": 2,
       "version_minor": 0
      },
      "text/plain": [
       "  0%|          | 0/6 [00:00<?, ?it/s]"
      ]
     },
     "metadata": {},
     "output_type": "display_data"
    },
    {
     "data": {
      "application/vnd.jupyter.widget-view+json": {
       "model_id": "727803c7da704301a5ef0b5097126d9e",
       "version_major": 2,
       "version_minor": 0
      },
      "text/plain": [
       "  0%|          | 0/6 [00:00<?, ?it/s]"
      ]
     },
     "metadata": {},
     "output_type": "display_data"
    },
    {
     "data": {
      "application/vnd.jupyter.widget-view+json": {
       "model_id": "dee311dcd7644984aff58e1de44fc21b",
       "version_major": 2,
       "version_minor": 0
      },
      "text/plain": [
       "  0%|          | 0/6 [00:00<?, ?it/s]"
      ]
     },
     "metadata": {},
     "output_type": "display_data"
    },
    {
     "data": {
      "application/vnd.jupyter.widget-view+json": {
       "model_id": "291dea24aa5141b099a3139c02fddd11",
       "version_major": 2,
       "version_minor": 0
      },
      "text/plain": [
       "  0%|          | 0/6 [00:00<?, ?it/s]"
      ]
     },
     "metadata": {},
     "output_type": "display_data"
    },
    {
     "data": {
      "application/vnd.jupyter.widget-view+json": {
       "model_id": "6d9dbf7f6b854257ba3c0ed96cbc5f1c",
       "version_major": 2,
       "version_minor": 0
      },
      "text/plain": [
       "  0%|          | 0/6 [00:00<?, ?it/s]"
      ]
     },
     "metadata": {},
     "output_type": "display_data"
    },
    {
     "data": {
      "application/vnd.jupyter.widget-view+json": {
       "model_id": "9a70e78261d2474abd07a48780ed8ddf",
       "version_major": 2,
       "version_minor": 0
      },
      "text/plain": [
       "  0%|          | 0/6 [00:00<?, ?it/s]"
      ]
     },
     "metadata": {},
     "output_type": "display_data"
    }
   ],
   "source": [
    "''' Define a List of Sex, Mouse ID, Session Count, Age for each Grid Cell'''\n",
    "import statsmodels.api as sm\n",
    "import statsmodels.formula.api as smf\n",
    "\n",
    "csex = []\n",
    "cmice = []\n",
    "ccount = []\n",
    "cage = []\n",
    "cidx = []\n",
    "ccohort = []\n",
    "\n",
    "totalcells = 0\n",
    "for m, session in zip(mice, sessions):\n",
    "    \n",
    "    msex = np.array(animalmeta.loc[(animalmeta.Animal_ID == m),'Sex'])\n",
    "    age = np.array(animalmeta.loc[(animalmeta.Animal_ID == m),'Age_Group'])\n",
    "    cohort =  np.array(animalmeta.loc[(animalmeta.Animal_ID == m),'Cohort'])\n",
    "    totalsesh = len(session)\n",
    "    \n",
    "    for i, s in enumerate(tdqm(session)):\n",
    "        \n",
    "        d = data[m][s]\n",
    "        \n",
    "        rawdata_file = 'RAW_' + m + '_' + s + '.npy'\n",
    "        raw = np.load(load_folder + rawdata_file, allow_pickle=True)\n",
    "        cell_IDs = raw.item().get('cellsfil')\n",
    "        gridcell = d['gridcell'].astype(bool)\n",
    "        gridcells = cell_IDs[gridcell]\n",
    "        \n",
    "        for j, c in enumerate(gridcells):\n",
    "            cidx = np.append(cidx, totalcells)\n",
    "            csex = np.append(csex, msex)\n",
    "            cmice = np.append(cmice, m)\n",
    "            ccount = np.append(ccount, (i + 1))\n",
    "            cage = np.append(cage, age)\n",
    "            ccohort = np.append(ccohort, cohort)\n",
    "            \n",
    "            totalcells += 1\n",
    "\n",
    "#gather fixed effects into lists\n",
    "Animal_ID = list(cmice)\n",
    "Session = list(ccount)\n",
    "Sex = list(csex)\n",
    "Age_Group = list(cage)\n",
    "Cell_ID = list(cidx)\n",
    "Cohort = list(ccohort)"
   ]
  },
  {
   "cell_type": "code",
   "execution_count": 26,
   "id": "7d26c6bf",
   "metadata": {
    "scrolled": false
   },
   "outputs": [
    {
     "name": "stderr",
     "output_type": "stream",
     "text": [
      "C:\\Users\\Python\\anaconda3\\envs\\agingmec\\lib\\site-packages\\statsmodels\\regression\\mixed_linear_model.py:2238: ConvergenceWarning: The MLE may be on the boundary of the parameter space.\n",
      "  warnings.warn(msg, ConvergenceWarning)\n"
     ]
    },
    {
     "name": "stdout",
     "output_type": "stream",
     "text": [
      "               Mixed Linear Model Regression Results\n",
      "===================================================================\n",
      "Model:                MixedLM   Dependent Variable:   locstab5block\n",
      "No. Observations:     8022      Method:               REML         \n",
      "No. Groups:           29        Scale:                0.0143       \n",
      "Min. group size:      88        Log-Likelihood:       2282.5418    \n",
      "Max. group size:      506       Converged:            Yes          \n",
      "Mean group size:      276.6                                        \n",
      "-------------------------------------------------------------------\n",
      "                         Coef.  Std.Err.   z    P>|z| [0.025 0.975]\n",
      "-------------------------------------------------------------------\n",
      "Intercept                 0.323    0.036  8.982 0.000  0.253  0.394\n",
      "C(AgeGroup)[T.2.0]       -0.098    0.055 -1.790 0.073 -0.204  0.009\n",
      "C(AgeGroup)[T.3.0]        0.007    0.043  0.160 0.873 -0.078  0.091\n",
      "C(Sex)[T.M]               0.030    0.057  0.524 0.601 -0.082  0.142\n",
      "C(Cohort)[T.D]           -0.020    0.071 -0.276 0.783 -0.158  0.119\n",
      "Session:C(AgeGroup)[1.0]  0.012    0.002  5.962 0.000  0.008  0.016\n",
      "Session:C(AgeGroup)[2.0]  0.032    0.002 14.580 0.000  0.028  0.037\n",
      "Session:C(AgeGroup)[3.0]  0.000    0.003  0.100 0.921 -0.005  0.006\n",
      "AnimalID Var              0.008                                    \n",
      "cells Var                 0.018                                    \n",
      "===================================================================\n",
      "\n",
      "                                        chi2                  P>chi2  df constraint\n",
      "Intercept              [[80.68498003628514]]  2.6472667957578984e-19              1\n",
      "C(AgeGroup)            [[4.061267805153178]]     0.13125229360510346              2\n",
      "C(Sex)               [[0.27409757320894285]]      0.6005962361267936              1\n",
      "C(Cohort)            [[0.07608948686361137]]      0.7826684795130193              1\n",
      "Session:C(AgeGroup)   [[248.13603668457407]]   1.655651791832234e-53              3\n"
     ]
    },
    {
     "data": {
      "image/png": "[encoded data removed]",
      "text/plain": [
       "<Figure size 1200x300 with 1 Axes>"
      ]
     },
     "metadata": {},
     "output_type": "display_data"
    },
    {
     "name": "stderr",
     "output_type": "stream",
     "text": [
      "C:\\Users\\Python\\anaconda3\\envs\\agingmec\\lib\\site-packages\\statsmodels\\regression\\mixed_linear_model.py:2238: ConvergenceWarning: The MLE may be on the boundary of the parameter space.\n",
      "  warnings.warn(msg, ConvergenceWarning)\n"
     ]
    },
    {
     "name": "stdout",
     "output_type": "stream",
     "text": [
      "               Mixed Linear Model Regression Results\n",
      "===================================================================\n",
      "Model:                MixedLM    Dependent Variable:    locstab5alt\n",
      "No. Observations:     8022       Method:                REML       \n",
      "No. Groups:           29         Scale:                 0.0065     \n",
      "Min. group size:      88         Log-Likelihood:        5453.4517  \n",
      "Max. group size:      506        Converged:             Yes        \n",
      "Mean group size:      276.6                                        \n",
      "-------------------------------------------------------------------\n",
      "                         Coef.  Std.Err.   z    P>|z| [0.025 0.975]\n",
      "-------------------------------------------------------------------\n",
      "Intercept                 0.133    0.025  5.359 0.000  0.085  0.182\n",
      "C(AgeGroup)[T.2.0]       -0.061    0.038 -1.616 0.106 -0.135  0.013\n",
      "C(AgeGroup)[T.3.0]        0.046    0.030  1.539 0.124 -0.013  0.104\n",
      "C(Sex)[T.M]               0.035    0.040  0.896 0.370 -0.042  0.113\n",
      "C(Cohort)[T.D]           -0.024    0.049 -0.496 0.620 -0.120  0.072\n",
      "Session:C(AgeGroup)[1.0]  0.010    0.001  6.966 0.000  0.007  0.012\n",
      "Session:C(AgeGroup)[2.0]  0.025    0.001 16.521 0.000  0.022  0.028\n",
      "Session:C(AgeGroup)[3.0] -0.009    0.002 -4.821 0.000 -0.012 -0.005\n",
      "AnimalID Var              0.004                                    \n",
      "cells Var                 0.008                                    \n",
      "===================================================================\n",
      "\n",
      "                                       chi2                 P>chi2  df constraint\n",
      "Intercept            [[28.723908004193756]]   8.34669124470212e-08              1\n",
      "C(AgeGroup)           [[8.127174715747788]]   0.017187251568195432              2\n",
      "C(Sex)               [[0.8029938198183887]]    0.37019977131894943              1\n",
      "C(Cohort)            [[0.2459399008068148]]     0.6199485397700213              1\n",
      "Session:C(AgeGroup)  [[344.70042665905163]]  2.094926784354306e-74              3\n"
     ]
    },
    {
     "data": {
      "image/png": "[encoded data removed]",
      "text/plain": [
       "<Figure size 1200x300 with 1 Axes>"
      ]
     },
     "metadata": {},
     "output_type": "display_data"
    }
   ],
   "source": [
    "''' LMMs for Moving Avg Similarity [Stability] '''        \n",
    "#gather dependent variables into lists\n",
    "locstab5block = list(np.concatenate((alocstab5block, malocstab5block, ylocstab5block)))\n",
    "locstab5alt = list(np.concatenate((alocstab5alt, malocstab5alt, ylocstab5alt)))\n",
    "hue_order = [1.0, 3.0, 2.0]\n",
    "\n",
    "tuples = list(zip(Animal_ID, Session, Cell_ID, Sex, Age_Group, Cohort,locstab5block,locstab5alt))\n",
    "tuples\n",
    "df = pd.DataFrame(tuples, columns = ['AnimalID', 'Session','Cell_ID','Sex', 'AgeGroup', 'Cohort','locstab5block','locstab5alt'])\n",
    "\n",
    "#handle NaNs\n",
    "df = df.dropna(axis = 0)\n",
    "\n",
    "#Block Dependent\n",
    "vc = {'cells':'0 + C(Cell_ID)'}\n",
    "mblock = smf.mixedlm('locstab5block ~ 1 + C(AgeGroup) + C(Sex) + C(Cohort) + Session:C(AgeGroup)', groups = 'AnimalID', re_formula = '1', vc_formula = vc,\n",
    "                     data=df).fit(reml= True)\n",
    "print(mblock.summary())\n",
    "print(mblock.wald_test_terms(scalar = False))\n",
    "\n",
    "df['residblock'] = mblock.resid\n",
    "fig, ax = plt.subplots(figsize = (12,3))\n",
    "sns.violinplot(data = df, x = 'AnimalID', y = 'residblock', inner = 'quartile', ax = ax)\n",
    "plt.title('Avg Block Stability Residuals')\n",
    "plt.show()\n",
    "\n",
    "#Alt Dependent\n",
    "vc = {'cells':'0 + C(Cell_ID)'}\n",
    "malt = smf.mixedlm('locstab5alt ~ 1 + C(AgeGroup) + C(Sex) + C(Cohort) + Session:C(AgeGroup)', groups = 'AnimalID', re_formula = '1', vc_formula = vc,\n",
    "                     data=df).fit(reml= True)\n",
    "print(malt.summary())\n",
    "print(malt.wald_test_terms(scalar = False))\n",
    "\n",
    "df['residalt'] = malt.resid\n",
    "fig, ax = plt.subplots(figsize = (12,3))\n",
    "sns.violinplot(data = df, x = 'AnimalID', y = 'residalt', inner = 'quartile', ax = ax)\n",
    "plt.title('Avg Alt. Stability Residuals')\n",
    "plt.show()\n"
   ]
  },
  {
   "cell_type": "code",
   "execution_count": 27,
   "id": "cdf31bf5",
   "metadata": {},
   "outputs": [],
   "source": [
    "''' Get fitted block vs. alt (not split by epoch) session averages '''\n",
    "\n",
    "r = 6 #sessions\n",
    "\n",
    "df['mblockfitted'] = mblock.fittedvalues\n",
    "df['maltfitted'] = malt.fittedvalues\n",
    "\n",
    "resultA = df.groupby(by = ['AnimalID','Session'], as_index = False)['mblockfitted'].aggregate('mean')\n",
    "seshAanimal = np.asarray(resultA['AnimalID'])\n",
    "seshAcount = np.asarray(resultA['Session'])\n",
    "seshAmean = np.asarray(resultA['mblockfitted'])\n",
    "\n",
    "resultB = df.groupby(by = ['AnimalID','Session'], as_index = False)['maltfitted'].aggregate('mean')\n",
    "seshBanimal = np.asarray(resultB['AnimalID'])\n",
    "seshBcount = np.asarray(resultB['Session'])\n",
    "seshBmean = np.asarray(resultB['maltfitted'])\n",
    "\n",
    "slocstab5Afitted_seg_aged = [[] * r for i in range(r)]\n",
    "slocstab5Afitted_seg_MA = [[] * r for i in range(r)]\n",
    "slocstab5Afitted_seg_young = [[] * r for i in range(r)]\n",
    "slocstab5Bfitted_seg_aged = [[] * r for i in range(r)]\n",
    "slocstab5Bfitted_seg_MA = [[] * r for i in range(r)]\n",
    "slocstab5Bfitted_seg_young = [[] * r for i in range(r)]\n",
    "\n",
    "sessionAcountfitted_aged = [[] * r for i in range(r)]\n",
    "sessionAcountfitted_MA = [[] * r for i in range(r)]\n",
    "sessionAcountfitted_young = [[] * r for i in range(r)]\n",
    "sessionBcountfitted_aged = [[] * r for i in range(r)]\n",
    "sessionBcountfitted_MA = [[] * r for i in range(r)]\n",
    "sessionBcountfitted_young = [[] * r for i in range(r)]\n",
    "\n",
    "for m, session in zip(mice, sessions): \n",
    "    \n",
    "    animalidx = np.where(seshAanimal == m)[0][0]\n",
    "    sessiona_idx = np.where(seshAanimal == m)[0]\n",
    "    sessionb_idx = np.where(seshBanimal == m)[0]\n",
    "\n",
    "    if m in SM_aged_mice:\n",
    "        for i, c in enumerate(seshAcount[sessiona_idx]):\n",
    "            idx = c.astype(int) - 1\n",
    "            slocstab5Afitted_seg_aged[idx] = np.append(slocstab5Afitted_seg_aged[idx],seshAmean[sessiona_idx][i])\n",
    "            sessionAcountfitted_aged[idx] = np.append(sessionAcountfitted_aged[idx], c - 1)\n",
    "            \n",
    "        for i, c in enumerate(seshBcount[sessionb_idx]):\n",
    "            idx = c.astype(int) - 1 \n",
    "            slocstab5Bfitted_seg_aged[idx] = np.append(slocstab5Bfitted_seg_aged[idx],seshBmean[sessionb_idx][i])\n",
    "            sessionBcountfitted_aged[idx] = np.append(sessionBcountfitted_aged[idx], c - 1)    \n",
    "        \n",
    "    elif m in SM_MA_mice:\n",
    "        for i, c in enumerate(seshAcount[sessiona_idx]):\n",
    "            idx = c.astype(int) - 1\n",
    "            slocstab5Afitted_seg_MA[idx] = np.append(slocstab5Afitted_seg_MA[idx],seshAmean[sessiona_idx][i])\n",
    "            sessionAcountfitted_MA[idx] = np.append(sessionAcountfitted_MA[idx], c - 1)\n",
    "            \n",
    "        for i, c in enumerate(seshBcount[sessionb_idx]):\n",
    "            idx = c.astype(int) - 1\n",
    "            slocstab5Bfitted_seg_MA[idx] = np.append(slocstab5Bfitted_seg_MA[idx],seshBmean[sessionb_idx][i])\n",
    "            sessionBcountfitted_MA[idx] = np.append(sessionBcountfitted_MA[idx], c - 1)   \n",
    "    else:\n",
    "        for i, c in enumerate(seshAcount[sessiona_idx]):\n",
    "            idx = c.astype(int) - 1\n",
    "            slocstab5Afitted_seg_young[idx] = np.append(slocstab5Afitted_seg_young[idx],seshAmean[sessiona_idx][i])\n",
    "            sessionAcountfitted_young[idx] = np.append(sessionAcountfitted_young[idx], c - 1)\n",
    "            \n",
    "        for i, c in enumerate(seshBcount[sessionb_idx]):\n",
    "            idx = c.astype(int) - 1\n",
    "            slocstab5Bfitted_seg_young[idx] = np.append(slocstab5Bfitted_seg_young[idx],seshBmean[sessionb_idx][i])\n",
    "            sessionBcountfitted_young[idx] = np.append(sessionBcountfitted_young[idx], c - 1)   "
   ]
  },
  {
   "cell_type": "code",
   "execution_count": 28,
   "id": "d8a023a2",
   "metadata": {},
   "outputs": [
    {
     "name": "stdout",
     "output_type": "stream",
     "text": [
      "\n",
      "n aged, MA, young mice on day 1 for A\n",
      "10 10 8\n",
      "\n",
      "n aged, MA, young mice on day 1 for B\n",
      "10 10 8\n",
      "\n",
      "n aged, MA, young mice on day 2 for A\n",
      "10 10 9\n",
      "\n",
      "n aged, MA, young mice on day 2 for B\n",
      "10 10 9\n",
      "\n",
      "n aged, MA, young mice on day 3 for A\n",
      "9 10 9\n",
      "\n",
      "n aged, MA, young mice on day 3 for B\n",
      "9 10 9\n",
      "\n",
      "n aged, MA, young mice on day 4 for A\n",
      "9 9 9\n",
      "\n",
      "n aged, MA, young mice on day 4 for B\n",
      "9 9 9\n",
      "\n",
      "n aged, MA, young mice on day 5 for A\n",
      "8 9 9\n",
      "\n",
      "n aged, MA, young mice on day 5 for B\n",
      "8 9 9\n",
      "\n",
      "n aged, MA, young mice on day 6 for A\n",
      "7 9 9\n",
      "\n",
      "n aged, MA, young mice on day 6 for B\n",
      "7 9 9\n"
     ]
    },
    {
     "data": {
      "image/png": "[encoded data removed]",
      "text/plain": [
       "<Figure size 400x150 with 2 Axes>"
      ]
     },
     "metadata": {},
     "output_type": "display_data"
    }
   ],
   "source": [
    "''' Plot Reviewer Figure 6A '''\n",
    "f, ax = plt.subplots(1, 2, figsize=(4, 1.5), sharey = True)\n",
    "\n",
    "g = sns.pointplot(x = df['Session'], y = mblock.fittedvalues, hue = df['AgeGroup'], hue_order = hue_order, ax = ax[0], scale = 0.5)\n",
    "ax[0].set_xticks([0,1,2,3,4,5])\n",
    "ax[0].set_xticklabels([1,2,3,4,5,6])\n",
    "ax[0].set_xlim([-0.5,5.5])\n",
    "ax[0].set_yticks([0,0.15,0.3,0.45,0.6])\n",
    "ax[0].set_ylim([0.0,0.65])\n",
    "ax[0].tick_params(labelsize = 8)\n",
    "ax[0].set_ylabel('Mean Stability', fontsize=9, labelpad=1)\n",
    "ax[0].set_xlabel('Session', fontsize=9, labelpad=1)\n",
    "g.legend_.remove()\n",
    "\n",
    "g1 = sns.pointplot(x = df['Session'], y = malt.fittedvalues, hue = df['AgeGroup'], hue_order = hue_order, ax = ax[1], scale = 0.5)\n",
    "ax[1].set_xticks([0,1,2,3,4,5])\n",
    "ax[1].set_xticklabels([1,2,3,4,5,6])\n",
    "ax[1].set_xlim([-0.5,5.5])\n",
    "#ax[1].set_yticks([0,0.15,0.3,0.45,0.6])\n",
    "#ax[1].set_ylim([0.0,0.6])\n",
    "ax[1].set_xlabel('Session', fontsize=9, labelpad=1)\n",
    "ax[1].tick_params(labelsize = 8)\n",
    "#ax[1].set_ylabel('Stability', fontsize=9, labelpad=1)\n",
    "g1.legend_.remove()\n",
    "\n",
    "for l in g.lines:\n",
    "    plt.setp(l,linewidth = 0.75)\n",
    "    \n",
    "for l in g1.lines:\n",
    "    plt.setp(l,linewidth = 0.75)\n",
    "\n",
    "#scatter plot LMM-fitted session average data:\n",
    "for i in range(0,len(slocstab5Afitted_seg_aged)):\n",
    "    print('\\nn aged, MA, young mice on day ' + str(i + 1) + ' for A')\n",
    "    print(len(sessionAcountfitted_aged[i]),len(sessionAcountfitted_MA[i]), len(sessionAcountfitted_young[i]))\n",
    "    \n",
    "    print('\\nn aged, MA, young mice on day ' + str(i + 1) + ' for B')\n",
    "    print(len(sessionBcountfitted_aged[i]),len(sessionBcountfitted_MA[i]), len(sessionBcountfitted_young[i]))\n",
    "    \n",
    "    ax[0].scatter(sessionAcountfitted_aged[i] + 0.1, slocstab5Afitted_seg_aged[i], s = 5, alpha = 0.4, c = 'C1', edgecolor = 'none')\n",
    "    ax[0].scatter(sessionAcountfitted_MA[i], slocstab5Afitted_seg_MA[i], s = 5, alpha = 0.4, c = 'C2', edgecolor = 'none')\n",
    "    ax[0].scatter(sessionAcountfitted_young[i] - 0.1, slocstab5Afitted_seg_young[i], s = 5, alpha = 0.4, c = 'C0', edgecolor = 'none')\n",
    "    \n",
    "    ax[1].scatter(sessionBcountfitted_aged[i] + 0.1, slocstab5Bfitted_seg_aged[i], s = 5, alpha = 0.4, c = 'C1', edgecolor = 'none')\n",
    "    ax[1].scatter(sessionBcountfitted_MA[i], slocstab5Bfitted_seg_MA[i], s = 5, alpha = 0.4, c = 'C2', edgecolor = 'none')\n",
    "    ax[1].scatter(sessionBcountfitted_young[i] - 0.1, slocstab5Bfitted_seg_young[i], s = 5, alpha = 0.4, c = 'C0', edgecolor = 'none')\n",
    "\n",
    "#ax[0].legend(loc = 4, fontsize = 9)\n",
    "plt.savefig(save_folder + 'ReviewerFigure6A.png', dpi=400, bbox_inches='tight')\n",
    "plt.savefig(save_folder + 'ReviewerFigure6A.svg', dpi=400, bbox_inches='tight')\n",
    "plt.show()"
   ]
  },
  {
   "cell_type": "code",
   "execution_count": 29,
   "id": "b55990f0",
   "metadata": {},
   "outputs": [
    {
     "name": "stdout",
     "output_type": "stream",
     "text": [
      "[ 11  24 110 143] []\n",
      "54 58 55\n",
      "53 54\n",
      "57 58\n",
      "53 55\n"
     ]
    }
   ],
   "source": [
    "''' Find where I will have NaNs'''\n",
    "nan_idxgrid = np.where((spergrid == 0))[0]\n",
    "nan_idxngs = np.where((sperngs == 0))[0]\n",
    "print(nan_idxgrid, nan_idxngs)\n",
    "print(len(col_session[0]),len(col_session[1]),len(col_session[2]))\n",
    "\n",
    "# Adjust y_sind, ma_sind, age_sind for subsequent plots\n",
    "y_sindgrid = np.setdiff1d(y_sind, nan_idxgrid)\n",
    "ma_sindgrid = np.setdiff1d(ma_sind, nan_idxgrid)\n",
    "age_sindgrid = np.setdiff1d(age_sind, nan_idxgrid)\n",
    "\n",
    "y_sindngs = np.setdiff1d(y_sind, nan_idxngs)\n",
    "ma_sindngs = np.setdiff1d(ma_sind, nan_idxngs)\n",
    "age_sindngs = np.setdiff1d(age_sind, nan_idxngs)\n",
    "\n",
    "# Adjust colormaps for grid plots\n",
    "yidx = []\n",
    "maidx = []\n",
    "aidx = []\n",
    "for i in nan_idxgrid:\n",
    "    yidx = np.append(yidx, np.where(y_sind == i)[0].astype(int))\n",
    "    maidx = np.append(maidx, np.where(ma_sind == i)[0].astype(int))\n",
    "    aidx = np.append(aidx, np.where(age_sind == i)[0].astype(int)) \n",
    "\n",
    "col_session_younggrid = np.delete(col_session_young, list(yidx.astype(int)), axis = 0)\n",
    "col_session_magrid = np.delete(col_session_MA, list(maidx.astype(int)), axis = 0)\n",
    "col_session_oldgrid = np.delete(col_session_old, list(aidx.astype(int)), axis = 0)\n",
    "col_sessiongrid = [col_session_younggrid, col_session_magrid, col_session_oldgrid] \n",
    "\n",
    "# Adjust colormaps for ngs plots\n",
    "yidx = []\n",
    "maidx = []\n",
    "aidx = []\n",
    "for i in nan_idxngs:\n",
    "    yidx = np.append(yidx, np.where(y_sind == i)[0].astype(int))\n",
    "    maidx = np.append(maidx, np.where(y_sind == i)[0].astype(int))\n",
    "    aidx = np.append(aidx, np.where(age_sind == i)[0].astype(int))\n",
    "\n",
    "col_session_youngngs = np.delete(col_session_young, list(yidx), axis = 0)\n",
    "col_session_mangs = np.delete(col_session_MA, list(maidx), axis = 0)\n",
    "col_session_oldngs = np.delete(col_session_old, list(aidx), axis = 0)\n",
    "col_sessionngs = [col_session_youngngs, col_session_mangs, col_session_oldngs] \n",
    "\n",
    "print(len(col_session_younggrid),len(col_session_youngngs))\n",
    "print(len(col_session_magrid),len(col_session_mangs))\n",
    "print(len(col_session_oldgrid),len(col_session_oldngs))\n",
    "\n",
    "# This will fix session stats & box plots are plotted."
   ]
  },
  {
   "cell_type": "code",
   "execution_count": 30,
   "id": "ff163d05",
   "metadata": {},
   "outputs": [
    {
     "name": "stdout",
     "output_type": "stream",
     "text": [
      "\n",
      "Association btwn Young, MA, Aged, & All (Block) Performance & Variable of Interest:\n",
      "R [Young, MA, Aged, All]: \n",
      "0.14387859322714006 0.5985140360179835 0.6572235404188784 0.4804738597073246\n",
      "P [Young, MA, Aged, All]: \n",
      "0.3040273647840327 8.772079581832069e-07 9.018026689722628e-08 8.538278223852442e-11\n",
      "\n",
      "Association btwn Young, MA, Aged, & All (Alt.) Performance & Variable of Interest:\n",
      "R [Young, MA, Aged, All]: \n",
      "0.10474645859479231 0.6510457169229585 0.41722893765772007 0.4061348694153226\n",
      "P [Young, MA, Aged, All]: \n",
      "0.4554022004180901 4.176982503608907e-08 0.0018827315427049083 7.492723972364067e-08\n",
      "\n",
      "Association btwn Young, MA, Aged, & All (Block + Alt) Performance & Variable of Interest:\n",
      "R [Young, MA, Aged, All]: \n",
      "0.3790221843695428 0.6554845040859137 0.7207385753532131 0.581314907870872\n",
      "P [Young, MA, Aged, All]: \n",
      "6.160987281288727e-05 2.502513114625307e-15 3.0243577617731763e-18 7.346805492414767e-31\n",
      "\n",
      "n session halves: young, ma, aged\n",
      "106 114 106\n"
     ]
    },
    {
     "data": {
      "image/png": "[encoded data removed]",
      "text/plain": [
       "<Figure size 250x105 with 1 Axes>"
      ]
     },
     "metadata": {},
     "output_type": "display_data"
    },
    {
     "data": {
      "image/png": "[encoded data removed]",
      "text/plain": [
       "<Figure size 250x105 with 1 Axes>"
      ]
     },
     "metadata": {},
     "output_type": "display_data"
    },
    {
     "data": {
      "image/png": "[encoded data removed]",
      "text/plain": [
       "<Figure size 250x105 with 1 Axes>"
      ]
     },
     "metadata": {},
     "output_type": "display_data"
    }
   ],
   "source": [
    "''' Plot Reviewer Figure 6C with Block & Alt. Data '''\n",
    "allidx = np.concatenate((y_sindgrid, ma_sindgrid, age_sindgrid))\n",
    "\n",
    "#Linear regression with block data only\n",
    "res = stats.linregress(slocstab5block[y_sindgrid],reqblock_rates[y_sindgrid])\n",
    "yslope1 = res.slope; yint1 = res.intercept; yr1 = res.rvalue; yp1 = res.pvalue\n",
    "\n",
    "res = stats.linregress(slocstab5block[ma_sindgrid],reqblock_rates[ma_sindgrid])\n",
    "maslope1 = res.slope; maint1 = res.intercept; mar1 = res.rvalue ; map1 = res.pvalue\n",
    "\n",
    "res = stats.linregress(slocstab5block[age_sindgrid],reqblock_rates[age_sindgrid])\n",
    "aslope1 = res.slope; aint1 = res.intercept; ar1 = res.rvalue ; ap1 = res.pvalue\n",
    "\n",
    "res = stats.linregress(slocstab5block[allidx],reqblock_rates[allidx])\n",
    "allslope1 = res.slope; allint1 = res.intercept; allr1 = res.rvalue; allp1 = res.pvalue\n",
    "\n",
    "print('\\nAssociation btwn Young, MA, Aged, & All (Block) Performance & Variable of Interest:')\n",
    "print('R [Young, MA, Aged, All]: ')\n",
    "print(yr1, mar1, ar1, allr1)\n",
    "print('P [Young, MA, Aged, All]: ')\n",
    "print(yp1, map1, ap1, allp1)\n",
    "\n",
    "#Linear regression with alt data only\n",
    "res = stats.linregress(slocstab5alt[y_sindgrid],reqalt_rates[y_sindgrid])\n",
    "yslope2 = res.slope; yint2 = res.intercept; yr2 = res.rvalue; yp2 = res.pvalue\n",
    "\n",
    "res = stats.linregress(slocstab5alt[ma_sindgrid],reqalt_rates[ma_sindgrid])\n",
    "maslope2 = res.slope; maint2 = res.intercept; mar2 = res.rvalue ; map2 = res.pvalue\n",
    "\n",
    "res = stats.linregress(slocstab5alt[age_sindgrid],reqalt_rates[age_sindgrid])\n",
    "aslope2 = res.slope; aint2 = res.intercept; ar2 = res.rvalue ; ap2 = res.pvalue\n",
    "\n",
    "res = stats.linregress(slocstab5alt[allidx],reqalt_rates[allidx])\n",
    "allslope2 = res.slope; allint2 = res.intercept; allr2 = res.rvalue; allp2 = res.pvalue\n",
    "\n",
    "print('\\nAssociation btwn Young, MA, Aged, & All (Alt.) Performance & Variable of Interest:')\n",
    "print('R [Young, MA, Aged, All]: ')\n",
    "print(yr2, mar2, ar2, allr2)\n",
    "print('P [Young, MA, Aged, All]: ')\n",
    "print(yp2, map2, ap2, allp2)\n",
    "\n",
    "#Linear regression with block & alt data together\n",
    "res = stats.linregress(np.hstack((slocstab5block[y_sindgrid],slocstab5alt[y_sindgrid])),np.hstack((reqblock_rates[y_sindgrid],reqalt_rates[y_sindgrid])))\n",
    "yslope3 = res.slope; yint3 = res.intercept; yr3 = res.rvalue; yp3 = res.pvalue\n",
    "\n",
    "res = stats.linregress(np.hstack((slocstab5block[ma_sindgrid],slocstab5alt[ma_sindgrid])),np.hstack((reqblock_rates[ma_sindgrid],reqalt_rates[ma_sindgrid])))\n",
    "maslope3 = res.slope; maint3 = res.intercept; mar3 = res.rvalue ; map3 = res.pvalue\n",
    "\n",
    "res = stats.linregress(np.hstack((slocstab5block[age_sindgrid],slocstab5alt[age_sindgrid])),np.hstack((reqblock_rates[age_sindgrid],reqalt_rates[age_sindgrid])))\n",
    "aslope3 = res.slope; aint3 = res.intercept; ar3 = res.rvalue ; ap3 = res.pvalue\n",
    "\n",
    "res = stats.linregress(np.hstack((slocstab5block[allidx],slocstab5alt[allidx])),np.hstack((reqblock_rates[allidx],reqalt_rates[allidx])))\n",
    "allslope3 = res.slope; allint3 = res.intercept; allr3 = res.rvalue; allp3 = res.pvalue\n",
    "\n",
    "print('\\nAssociation btwn Young, MA, Aged, & All (Block + Alt) Performance & Variable of Interest:')\n",
    "print('R [Young, MA, Aged, All]: ')\n",
    "print(yr3, mar3, ar3, allr3)\n",
    "print('P [Young, MA, Aged, All]: ')\n",
    "print(yp3, map3, ap3, allp3)\n",
    "\n",
    "print('\\nn session halves: young, ma, aged')\n",
    "print(len(y_sindgrid)*2,len(ma_sindgrid)*2,len(age_sindgrid)*2)\n",
    "\n",
    "#Plot Stability over All Sessions by Age Group with Block & Alt Phases\n",
    "fig, ax = plt.subplots(figsize = (2.5,1.05))\n",
    "fig.suptitle('Young Sessions', fontsize = 10)\n",
    "ax.scatter(slocstab5alt[y_sindgrid],reqalt_rates[y_sindgrid], color = 'C0', s = 10)\n",
    "ax.scatter(slocstab5block[y_sindgrid],reqblock_rates[y_sindgrid], color = 'C0', s = 10, edgecolor = 'k', lw = 0.5)\n",
    "ax.set_xlabel('Mean Stability', fontsize = 9)\n",
    "ax.set_ylabel('Frac. Requested', fontsize = 9)\n",
    "ax.set_ylim([-0.1,1.1])\n",
    "ax.set_xlim([0,0.7])\n",
    "ax.set_xticks([0,0.1,0.2,0.3,0.4,0.5,0.6,0.7])\n",
    "ax.tick_params(labelsize = 8)\n",
    "X_plot = np.linspace(ax.get_xlim()[0],ax.get_xlim()[1],100)\n",
    "ax.plot(X_plot, yslope2*X_plot + yint2, '-', color = 'C0', linewidth = 0.75, label = 'Alt. Only')\n",
    "ax.plot(X_plot, yslope3*X_plot + yint3, '-', linewidth = 0.75, color = 'k', label = 'Block & Alt.')\n",
    "ax.legend(fontsize = 8)\n",
    "plt.savefig(save_folder + 'ReviewerFigure6Cleft.png', dpi = 400, bbox_inches = 'tight')\n",
    "plt.savefig(save_folder + 'ReviewerFigure6Cleft.svg', dpi = 400, bbox_inches = 'tight')\n",
    "plt.show()\n",
    "\n",
    "fig, ax = plt.subplots(figsize = (2.5,1.05))\n",
    "fig.suptitle('MA Sessions', fontsize = 10)\n",
    "ax.scatter(slocstab5alt[ma_sindgrid],reqalt_rates[ma_sindgrid], color = 'C2', s = 10)\n",
    "ax.scatter(slocstab5block[ma_sindgrid],reqblock_rates[ma_sindgrid], color = 'C2', s = 10, edgecolor = 'k', lw = 0.5)\n",
    "ax.set_xlabel('Mean Stability', fontsize = 9)\n",
    "ax.set_ylabel('Frac. Requested', fontsize = 9)\n",
    "ax.set_ylim([-0.1,1.1])\n",
    "ax.set_xlim([0,0.7])\n",
    "ax.set_xticks([0,0.1,0.2,0.3,0.4,0.5,0.6,0.7])\n",
    "ax.tick_params(labelsize = 8)\n",
    "X_plot = np.linspace(ax.get_xlim()[0],ax.get_xlim()[1],100)\n",
    "ax.plot(X_plot, maslope2*X_plot + maint2, '-', color = 'C2', linewidth = 0.75, label = 'Alt. Only')\n",
    "ax.plot(X_plot, maslope3*X_plot + maint3, '-', linewidth = 0.75, color = 'k', label = 'Block & Alt.')\n",
    "ax.legend(fontsize = 8)\n",
    "plt.savefig(save_folder + 'ReviewerFigure6Cmiddle.png', dpi = 400, bbox_inches = 'tight')\n",
    "plt.savefig(save_folder + 'ReviewerFigure6Cmiddle.svg', dpi = 400, bbox_inches = 'tight')\n",
    "plt.show()\n",
    "\n",
    "fig, ax = plt.subplots(figsize = (2.5,1.05))\n",
    "fig.suptitle('Aged Sessions', fontsize = 10)\n",
    "ax.scatter(slocstab5alt[age_sindgrid],reqalt_rates[age_sindgrid], color = 'C1', s = 10)\n",
    "ax.scatter(slocstab5block[age_sindgrid],reqblock_rates[age_sindgrid], color = 'C1', s = 10, edgecolor = 'k', lw = 0.5)\n",
    "ax.set_xlabel('Mean Stability', fontsize = 9)\n",
    "ax.set_ylabel('Frac. Requested', fontsize = 9)\n",
    "ax.set_ylim([-0.1,1.1])\n",
    "ax.set_xlim([0,0.7])\n",
    "ax.set_xticks([0,0.1,0.2,0.3,0.4,0.5,0.6,0.7])\n",
    "ax.tick_params(labelsize = 8)\n",
    "X_plot = np.linspace(ax.get_xlim()[0],ax.get_xlim()[1],100)\n",
    "ax.plot(X_plot, aslope2*X_plot + aint2, '-', linewidth = 0.75, color = 'C1', label = 'Alt. Only')\n",
    "ax.plot(X_plot, aslope3*X_plot + aint3, '-', linewidth = 0.75, color = 'k', label = 'Block & Alt.')\n",
    "ax.legend(fontsize = 8,)\n",
    "plt.savefig(save_folder + 'ReviewerFigure6Cright.png', dpi = 400, bbox_inches = 'tight')\n",
    "plt.savefig(save_folder + 'ReviewerFigure6Cright.svg', dpi = 400, bbox_inches = 'tight')\n",
    "plt.show()"
   ]
  },
  {
   "cell_type": "code",
   "execution_count": 31,
   "id": "c8408e31",
   "metadata": {
    "scrolled": true
   },
   "outputs": [
    {
     "data": {
      "application/vnd.jupyter.widget-view+json": {
       "model_id": "99ce6b826bd947aa91e096fc0dace316",
       "version_major": 2,
       "version_minor": 0
      },
      "text/plain": [
       "  0%|          | 0/3 [00:00<?, ?it/s]"
      ]
     },
     "metadata": {},
     "output_type": "display_data"
    },
    {
     "data": {
      "application/vnd.jupyter.widget-view+json": {
       "model_id": "bc03c955d4094fb9ad3862cfb1236147",
       "version_major": 2,
       "version_minor": 0
      },
      "text/plain": [
       "  0%|          | 0/6 [00:00<?, ?it/s]"
      ]
     },
     "metadata": {},
     "output_type": "display_data"
    },
    {
     "data": {
      "application/vnd.jupyter.widget-view+json": {
       "model_id": "05930f7a62bb4bb49e1f0ae88ff3e144",
       "version_major": 2,
       "version_minor": 0
      },
      "text/plain": [
       "  0%|          | 0/4 [00:00<?, ?it/s]"
      ]
     },
     "metadata": {},
     "output_type": "display_data"
    },
    {
     "name": "stderr",
     "output_type": "stream",
     "text": [
      "C:\\Users\\Python\\AppData\\Local\\Temp\\ipykernel_19996\\1002897121.py:83: RuntimeWarning: Mean of empty slice\n",
      "  sABratio= np.append(sABratio, np.nanmean(ABratio))\n",
      "C:\\Users\\Python\\AppData\\Local\\Temp\\ipykernel_19996\\1002897121.py:84: RuntimeWarning: Mean of empty slice\n",
      "  sA_B_ratio = np.append(sA_B_ratio, np.nanmean(A_B_ratio))\n",
      "C:\\Users\\Python\\AppData\\Local\\Temp\\ipykernel_19996\\1002897121.py:85: RuntimeWarning: Mean of empty slice\n",
      "  sAB_ratio = np.append(sAB_ratio, np.nanmean(AB_ratio))\n"
     ]
    },
    {
     "data": {
      "application/vnd.jupyter.widget-view+json": {
       "model_id": "7a4f0c65145741bda9cf86bbbb72170f",
       "version_major": 2,
       "version_minor": 0
      },
      "text/plain": [
       "  0%|          | 0/6 [00:00<?, ?it/s]"
      ]
     },
     "metadata": {},
     "output_type": "display_data"
    },
    {
     "data": {
      "application/vnd.jupyter.widget-view+json": {
       "model_id": "267a963f5d7c4eb18243755e16f55902",
       "version_major": 2,
       "version_minor": 0
      },
      "text/plain": [
       "  0%|          | 0/6 [00:00<?, ?it/s]"
      ]
     },
     "metadata": {},
     "output_type": "display_data"
    },
    {
     "data": {
      "application/vnd.jupyter.widget-view+json": {
       "model_id": "e6e8df145091470da2f802687632aed4",
       "version_major": 2,
       "version_minor": 0
      },
      "text/plain": [
       "  0%|          | 0/6 [00:00<?, ?it/s]"
      ]
     },
     "metadata": {},
     "output_type": "display_data"
    },
    {
     "data": {
      "application/vnd.jupyter.widget-view+json": {
       "model_id": "fdae0eb009514abe9d4d0a0dbfaf379c",
       "version_major": 2,
       "version_minor": 0
      },
      "text/plain": [
       "  0%|          | 0/6 [00:00<?, ?it/s]"
      ]
     },
     "metadata": {},
     "output_type": "display_data"
    },
    {
     "data": {
      "application/vnd.jupyter.widget-view+json": {
       "model_id": "087232b0482448c2972ac126db6028a3",
       "version_major": 2,
       "version_minor": 0
      },
      "text/plain": [
       "  0%|          | 0/6 [00:00<?, ?it/s]"
      ]
     },
     "metadata": {},
     "output_type": "display_data"
    },
    {
     "data": {
      "application/vnd.jupyter.widget-view+json": {
       "model_id": "7836eae000e341eead57978817c7fa81",
       "version_major": 2,
       "version_minor": 0
      },
      "text/plain": [
       "  0%|          | 0/6 [00:00<?, ?it/s]"
      ]
     },
     "metadata": {},
     "output_type": "display_data"
    },
    {
     "data": {
      "application/vnd.jupyter.widget-view+json": {
       "model_id": "60fbe046df9b427684a2f77b7e4dc8a5",
       "version_major": 2,
       "version_minor": 0
      },
      "text/plain": [
       "  0%|          | 0/6 [00:00<?, ?it/s]"
      ]
     },
     "metadata": {},
     "output_type": "display_data"
    },
    {
     "data": {
      "application/vnd.jupyter.widget-view+json": {
       "model_id": "1810043ab66245ccb2352bb4d738b1ed",
       "version_major": 2,
       "version_minor": 0
      },
      "text/plain": [
       "  0%|          | 0/6 [00:00<?, ?it/s]"
      ]
     },
     "metadata": {},
     "output_type": "display_data"
    },
    {
     "data": {
      "application/vnd.jupyter.widget-view+json": {
       "model_id": "a8c0b1b9f869412a8901cf11bdbc9220",
       "version_major": 2,
       "version_minor": 0
      },
      "text/plain": [
       "  0%|          | 0/6 [00:00<?, ?it/s]"
      ]
     },
     "metadata": {},
     "output_type": "display_data"
    },
    {
     "data": {
      "application/vnd.jupyter.widget-view+json": {
       "model_id": "ac5724dac4f4473aa83cd3540229269f",
       "version_major": 2,
       "version_minor": 0
      },
      "text/plain": [
       "  0%|          | 0/6 [00:00<?, ?it/s]"
      ]
     },
     "metadata": {},
     "output_type": "display_data"
    },
    {
     "data": {
      "application/vnd.jupyter.widget-view+json": {
       "model_id": "acde28c28caf4a47821be6d16324c20e",
       "version_major": 2,
       "version_minor": 0
      },
      "text/plain": [
       "  0%|          | 0/6 [00:00<?, ?it/s]"
      ]
     },
     "metadata": {},
     "output_type": "display_data"
    },
    {
     "data": {
      "application/vnd.jupyter.widget-view+json": {
       "model_id": "4b652cee272e45898afa1b50eccb24be",
       "version_major": 2,
       "version_minor": 0
      },
      "text/plain": [
       "  0%|          | 0/6 [00:00<?, ?it/s]"
      ]
     },
     "metadata": {},
     "output_type": "display_data"
    },
    {
     "data": {
      "application/vnd.jupyter.widget-view+json": {
       "model_id": "77095d3348b3403090d4195ec10e8845",
       "version_major": 2,
       "version_minor": 0
      },
      "text/plain": [
       "  0%|          | 0/6 [00:00<?, ?it/s]"
      ]
     },
     "metadata": {},
     "output_type": "display_data"
    },
    {
     "data": {
      "application/vnd.jupyter.widget-view+json": {
       "model_id": "85bc1d3f05b14175b686a80e03e810b7",
       "version_major": 2,
       "version_minor": 0
      },
      "text/plain": [
       "  0%|          | 0/6 [00:00<?, ?it/s]"
      ]
     },
     "metadata": {},
     "output_type": "display_data"
    },
    {
     "data": {
      "application/vnd.jupyter.widget-view+json": {
       "model_id": "8745b2f6e65e44bda58cff5ffa4f3282",
       "version_major": 2,
       "version_minor": 0
      },
      "text/plain": [
       "  0%|          | 0/4 [00:00<?, ?it/s]"
      ]
     },
     "metadata": {},
     "output_type": "display_data"
    },
    {
     "data": {
      "application/vnd.jupyter.widget-view+json": {
       "model_id": "1239b0850b9e42e19cdae4bf25149025",
       "version_major": 2,
       "version_minor": 0
      },
      "text/plain": [
       "  0%|          | 0/6 [00:00<?, ?it/s]"
      ]
     },
     "metadata": {},
     "output_type": "display_data"
    },
    {
     "data": {
      "application/vnd.jupyter.widget-view+json": {
       "model_id": "4f2f10d8aa0649a6bae43474de165b10",
       "version_major": 2,
       "version_minor": 0
      },
      "text/plain": [
       "  0%|          | 0/6 [00:00<?, ?it/s]"
      ]
     },
     "metadata": {},
     "output_type": "display_data"
    },
    {
     "data": {
      "application/vnd.jupyter.widget-view+json": {
       "model_id": "8732cec200ab4173bcf628c416d0ebb3",
       "version_major": 2,
       "version_minor": 0
      },
      "text/plain": [
       "  0%|          | 0/6 [00:00<?, ?it/s]"
      ]
     },
     "metadata": {},
     "output_type": "display_data"
    },
    {
     "data": {
      "application/vnd.jupyter.widget-view+json": {
       "model_id": "ea36343a05c2434f99d9040d97e4d13b",
       "version_major": 2,
       "version_minor": 0
      },
      "text/plain": [
       "  0%|          | 0/6 [00:00<?, ?it/s]"
      ]
     },
     "metadata": {},
     "output_type": "display_data"
    },
    {
     "data": {
      "application/vnd.jupyter.widget-view+json": {
       "model_id": "c0410efe9fa049d2857decbef7af9a6b",
       "version_major": 2,
       "version_minor": 0
      },
      "text/plain": [
       "  0%|          | 0/6 [00:00<?, ?it/s]"
      ]
     },
     "metadata": {},
     "output_type": "display_data"
    },
    {
     "data": {
      "application/vnd.jupyter.widget-view+json": {
       "model_id": "5ce94884da0f496c9b5b4f3dbd164458",
       "version_major": 2,
       "version_minor": 0
      },
      "text/plain": [
       "  0%|          | 0/6 [00:00<?, ?it/s]"
      ]
     },
     "metadata": {},
     "output_type": "display_data"
    },
    {
     "data": {
      "application/vnd.jupyter.widget-view+json": {
       "model_id": "578226c3727740fab2fcb3a92f7fe20e",
       "version_major": 2,
       "version_minor": 0
      },
      "text/plain": [
       "  0%|          | 0/6 [00:00<?, ?it/s]"
      ]
     },
     "metadata": {},
     "output_type": "display_data"
    },
    {
     "data": {
      "application/vnd.jupyter.widget-view+json": {
       "model_id": "d5827b7779184327af1337dde6794d33",
       "version_major": 2,
       "version_minor": 0
      },
      "text/plain": [
       "  0%|          | 0/6 [00:00<?, ?it/s]"
      ]
     },
     "metadata": {},
     "output_type": "display_data"
    },
    {
     "data": {
      "application/vnd.jupyter.widget-view+json": {
       "model_id": "58c61d7d2b9a4117ac9458aaa431f784",
       "version_major": 2,
       "version_minor": 0
      },
      "text/plain": [
       "  0%|          | 0/6 [00:00<?, ?it/s]"
      ]
     },
     "metadata": {},
     "output_type": "display_data"
    },
    {
     "data": {
      "application/vnd.jupyter.widget-view+json": {
       "model_id": "846f704968294d27ae593562e8c75a81",
       "version_major": 2,
       "version_minor": 0
      },
      "text/plain": [
       "  0%|          | 0/6 [00:00<?, ?it/s]"
      ]
     },
     "metadata": {},
     "output_type": "display_data"
    },
    {
     "data": {
      "application/vnd.jupyter.widget-view+json": {
       "model_id": "589e8d0d12734f178e39da8ef3afb623",
       "version_major": 2,
       "version_minor": 0
      },
      "text/plain": [
       "  0%|          | 0/6 [00:00<?, ?it/s]"
      ]
     },
     "metadata": {},
     "output_type": "display_data"
    }
   ],
   "source": [
    "''' Find Context Match / Mismatch Similarity Ratio '''\n",
    "\n",
    "sABratio = []\n",
    "sA_B_ratio = []\n",
    "sAB_ratio = []\n",
    "\n",
    "yABratio = []\n",
    "yA_B_ratio = []\n",
    "yAB_ratio = []\n",
    "maABratio = []\n",
    "maA_B_ratio = []\n",
    "maAB_ratio = []\n",
    "aABratio = []\n",
    "aA_B_ratio = []\n",
    "aAB_ratio = []\n",
    "\n",
    "for m, session in zip(mice, sessions):\n",
    "\n",
    "    for s in tdqm(session):\n",
    "        d = data[m][s]\n",
    "        \n",
    "        #get some data & cell IDs\n",
    "        rawdata_file = 'RAW_' + m + '_' + s + '.npy'\n",
    "        behavior_file = 'BEHAVIOR_' + m + '_' + s + '.npy'\n",
    "        raw = np.load(load_folder + rawdata_file, allow_pickle=True)\n",
    "        behaviorfil = np.load(load_folder + behavior_file, allow_pickle=False)\n",
    "        cell_IDs = raw.item().get('cellsfil')\n",
    "        gridcell = d['gridcell'].astype(bool)\n",
    "        gridcells = cell_IDs[gridcell]     \n",
    "        trial = behaviorfil[:,2]\n",
    "        \n",
    "        #save the context lengths\n",
    "        Aidx = d['Aidx']\n",
    "        lengthA = len(np.unique(trial[Aidx]))\n",
    "        Bidx = d['Bidx'] \n",
    "        lengthB = len(np.unique(trial[Bidx]))\n",
    "        a_idx = d['A_idx'] \n",
    "        lengtha_= len(np.unique(trial[a_idx]))\n",
    "        A_idx = d['A_ngidx'] \n",
    "        lengthA_= len(np.unique(trial[A_idx]))\n",
    "        B_idx = d['B_ngidx']\n",
    "        lengthB_= len(np.unique(trial[B_idx]))\n",
    "        \n",
    "        nB = lengthA + lengthB\n",
    "        nA_ = lengthA + lengthB + lengthA_\n",
    "        na_ = lengthA + lengthB + lengtha_\n",
    "        nB_ = lengthA + lengthB + lengtha_ + lengthB_\n",
    "        \n",
    "        allgridsim = d['allgridsim']\n",
    "        ABratio = []\n",
    "        A_B_ratio = []\n",
    "        AB_ratio = []\n",
    "        for i, c in enumerate(gridcells):\n",
    "            sim = allgridsim[:,:,i]\n",
    "            sim = (sim - np.min(sim)) / (np.max(sim) - np.min(sim))\n",
    "            \n",
    "            #average block context-matched (A x A + B x A), average block context-mismatched (B x A)\n",
    "            sumcm = (np.sum(sim[:lengthA, :lengthA]) - lengthA)/2 + (np.sum(sim[lengthA:nB, lengthA:nB]) - lengthB)/2\n",
    "            meancm = sumcm  / ((lengthA**2 - lengthA)/2 + (lengthB**2 - lengthB)/2)\n",
    "            meancmm = np.average(sim[lengthA:nB,:lengthA])\n",
    "            if (meancmm != 0): \n",
    "                ABratio = np.append(ABratio, meancm / meancmm)\n",
    "            else: \n",
    "                ABratio = np.append(ABratio, np.nan)\n",
    "            \n",
    "            #alt context-matched (A' x A' + B' x B'), alt context-mismatched (B' x A')\n",
    "            sumcm = (np.sum(sim[nB:nA_, nB:nA_]) - lengthA_)/2 + (np.sum(sim[na_:nB_, na_:nB_]) - lengthB_)/2\n",
    "            meancm = sumcm  / ((lengthA_**2 - lengthA_)/2 + (lengthB_**2 - lengthB_)/2)\n",
    "            meancmm = np.average(sim[na_:nB_,nB:nA_])\n",
    "            if (meancmm != 0):\n",
    "                A_B_ratio = np.append(A_B_ratio, meancm / meancmm)\n",
    "            else:\n",
    "                A_B_ratio = np.append(A_B_ratio, np.nan)\n",
    "            \n",
    "            #alt context-matched (A' x A + B' x B) & alt context-mismatched (B' x A + A' x B)\n",
    "            meancm = np.mean(np.concatenate((sim[nB:nA_,:lengthA].flatten(), sim[na_:nB_,lengthA:nB].flatten())))\n",
    "            meancmm = np.mean(np.concatenate((sim[na_:nB_,:lengthA].flatten(), sim[nB:nA_,lengthA:nB].flatten())))\n",
    "            if (meancmm != 0):\n",
    "                AB_ratio = np.append(AB_ratio, meancm / meancmm)\n",
    "            else:\n",
    "                AB_ratio = np.append(AB_ratio, np.nan)\n",
    "        \n",
    "        sABratio= np.append(sABratio, np.nanmean(ABratio))\n",
    "        sA_B_ratio = np.append(sA_B_ratio, np.nanmean(A_B_ratio))\n",
    "        sAB_ratio = np.append(sAB_ratio, np.nanmean(AB_ratio))\n",
    "\n",
    "        if m in SM_aged_mice:\n",
    "            aABratio = np.append(aABratio, ABratio)\n",
    "            aA_B_ratio = np.append(aA_B_ratio, A_B_ratio)\n",
    "            aAB_ratio = np.append(aAB_ratio, AB_ratio)\n",
    "        elif m in SM_MA_mice:\n",
    "            maABratio = np.append(maABratio, ABratio)\n",
    "            maA_B_ratio = np.append(maA_B_ratio, A_B_ratio)\n",
    "            maAB_ratio = np.append(maAB_ratio, AB_ratio)\n",
    "        else:\n",
    "            yABratio = np.append(yABratio, ABratio)\n",
    "            yA_B_ratio = np.append(yA_B_ratio, A_B_ratio)\n",
    "            yAB_ratio = np.append(yAB_ratio, AB_ratio)"
   ]
  },
  {
   "cell_type": "code",
   "execution_count": 32,
   "id": "d0c6df7f",
   "metadata": {
    "scrolled": false
   },
   "outputs": [
    {
     "name": "stdout",
     "output_type": "stream",
     "text": [
      "               Mixed Linear Model Regression Results\n",
      "===================================================================\n",
      "Model:                MixedLM     Dependent Variable:     ABratio  \n",
      "No. Observations:     8022        Method:                 REML     \n",
      "No. Groups:           29          Scale:                  0.0312   \n",
      "Min. group size:      88          Log-Likelihood:         -976.3702\n",
      "Max. group size:      506         Converged:              Yes      \n",
      "Mean group size:      276.6                                        \n",
      "-------------------------------------------------------------------\n",
      "                         Coef.  Std.Err.   z    P>|z| [0.025 0.975]\n",
      "-------------------------------------------------------------------\n",
      "Intercept                 1.183    0.048 24.489 0.000  1.088  1.277\n",
      "C(AgeGroup)[T.2.0]       -0.086    0.073 -1.170 0.242 -0.229  0.058\n",
      "C(AgeGroup)[T.3.0]        0.053    0.058  0.910 0.363 -0.061  0.167\n",
      "C(Sex)[T.M]              -0.032    0.076 -0.424 0.671 -0.182  0.117\n",
      "C(Cohort)[T.D]            0.057    0.095  0.605 0.545 -0.128  0.243\n",
      "Session:C(AgeGroup)[1.0]  0.023    0.003  7.546 0.000  0.017  0.029\n",
      "Session:C(AgeGroup)[2.0]  0.057    0.003 17.028 0.000  0.050  0.063\n",
      "Session:C(AgeGroup)[3.0] -0.003    0.004 -0.708 0.479 -0.011  0.005\n",
      "AnimalID Var              0.014                                    \n",
      "cells Var                 0.042                                    \n",
      "===================================================================\n",
      "\n",
      "                                        chi2                   P>chi2  df constraint\n",
      "Intercept              [[599.6949994594785]]  1.9504692363171867e-132              1\n",
      "C(AgeGroup)            [[3.556668487391936]]      0.16891929141932066              2\n",
      "C(Sex)               [[0.17985597481375729]]       0.6714970427214157              1\n",
      "C(Cohort)            [[0.36614232268176256]]        0.545114578612442              1\n",
      "Session:C(AgeGroup)     [[347.399919354062]]    5.453379213595111e-75              3\n"
     ]
    },
    {
     "data": {
      "image/png": "[encoded data removed]",
      "text/plain": [
       "<Figure size 1200x300 with 1 Axes>"
      ]
     },
     "metadata": {},
     "output_type": "display_data"
    },
    {
     "name": "stderr",
     "output_type": "stream",
     "text": [
      "C:\\Users\\Python\\anaconda3\\envs\\agingmec\\lib\\site-packages\\statsmodels\\regression\\mixed_linear_model.py:2238: ConvergenceWarning: The MLE may be on the boundary of the parameter space.\n",
      "  warnings.warn(msg, ConvergenceWarning)\n"
     ]
    },
    {
     "name": "stdout",
     "output_type": "stream",
     "text": [
      "               Mixed Linear Model Regression Results\n",
      "===================================================================\n",
      "Model:                 MixedLM    Dependent Variable:    A_B_ratio \n",
      "No. Observations:      8022       Method:                REML      \n",
      "No. Groups:            29         Scale:                 0.0018    \n",
      "Min. group size:       88         Log-Likelihood:        10323.7295\n",
      "Max. group size:       506        Converged:             Yes       \n",
      "Mean group size:       276.6                                       \n",
      "-------------------------------------------------------------------\n",
      "                         Coef.  Std.Err.   z    P>|z| [0.025 0.975]\n",
      "-------------------------------------------------------------------\n",
      "Intercept                 1.003    0.011 87.765 0.000  0.980  1.025\n",
      "C(AgeGroup)[T.2.0]        0.001    0.017  0.078 0.938 -0.033  0.035\n",
      "C(AgeGroup)[T.3.0]        0.049    0.014  3.564 0.000  0.022  0.076\n",
      "C(Sex)[T.M]              -0.001    0.018 -0.031 0.976 -0.036  0.035\n",
      "C(Cohort)[T.D]            0.015    0.022  0.692 0.489 -0.028  0.059\n",
      "Session:C(AgeGroup)[1.0]  0.012    0.001 15.619 0.000  0.010  0.013\n",
      "Session:C(AgeGroup)[2.0]  0.012    0.001 14.392 0.000  0.010  0.013\n",
      "Session:C(AgeGroup)[3.0] -0.004    0.001 -3.649 0.000 -0.006 -0.002\n",
      "AnimalID Var              0.001                                    \n",
      "cells Var                 0.003                                    \n",
      "===================================================================\n",
      "\n",
      "                                          chi2                   P>chi2  df constraint\n",
      "Intercept                 [[7702.61546421173]]                      0.0              1\n",
      "C(AgeGroup)             [[14.702056119297787]]    0.0006419320765429163              2\n",
      "C(Sex)               [[0.0009390695578391616]]       0.9755532588180521              1\n",
      "C(Cohort)               [[0.4786364210110491]]      0.48904061189848436              1\n",
      "Session:C(AgeGroup)     [[464.40508986877063]]  2.4662480745972105e-100              3\n"
     ]
    },
    {
     "data": {
      "image/png": "[encoded data removed]",
      "text/plain": [
       "<Figure size 1200x300 with 1 Axes>"
      ]
     },
     "metadata": {},
     "output_type": "display_data"
    },
    {
     "name": "stderr",
     "output_type": "stream",
     "text": [
      "C:\\Users\\Python\\anaconda3\\envs\\agingmec\\lib\\site-packages\\statsmodels\\regression\\mixed_linear_model.py:2238: ConvergenceWarning: The MLE may be on the boundary of the parameter space.\n",
      "  warnings.warn(msg, ConvergenceWarning)\n"
     ]
    },
    {
     "name": "stdout",
     "output_type": "stream",
     "text": [
      "               Mixed Linear Model Regression Results\n",
      "===================================================================\n",
      "Model:                MixedLM     Dependent Variable:     AB_ratio \n",
      "No. Observations:     8022        Method:                 REML     \n",
      "No. Groups:           29          Scale:                  0.0025   \n",
      "Min. group size:      88          Log-Likelihood:         8922.4062\n",
      "Max. group size:      506         Converged:              Yes      \n",
      "Mean group size:      276.6                                        \n",
      "-------------------------------------------------------------------\n",
      "                         Coef.  Std.Err.   z    P>|z| [0.025 0.975]\n",
      "-------------------------------------------------------------------\n",
      "Intercept                 1.005    0.011 89.584 0.000  0.983  1.027\n",
      "C(AgeGroup)[T.2.0]        0.011    0.017  0.647 0.517 -0.022  0.044\n",
      "C(AgeGroup)[T.3.0]        0.031    0.014  2.276 0.023  0.004  0.058\n",
      "C(Sex)[T.M]              -0.011    0.018 -0.648 0.517 -0.046  0.023\n",
      "C(Cohort)[T.D]            0.008    0.022  0.374 0.709 -0.034  0.051\n",
      "Session:C(AgeGroup)[1.0]  0.012    0.001 13.089 0.000  0.010  0.013\n",
      "Session:C(AgeGroup)[2.0]  0.010    0.001 10.451 0.000  0.008  0.012\n",
      "Session:C(AgeGroup)[3.0]  0.002    0.001  1.452 0.146 -0.001  0.004\n",
      "AnimalID Var              0.001                                    \n",
      "cells Var                 0.004                                    \n",
      "===================================================================\n",
      "\n",
      "                                       chi2                 P>chi2  df constraint\n",
      "Intercept             [[8025.317757790458]]                    0.0              1\n",
      "C(AgeGroup)           [[5.245665577056688]]    0.07259691954738728              2\n",
      "C(Sex)                [[0.419329392928023]]     0.5172718539338634              1\n",
      "C(Cohort)            [[0.1395448502613075]]     0.7087339125559109              1\n",
      "Session:C(AgeGroup)   [[282.6381503280988]]  5.688390763968326e-61              3\n"
     ]
    },
    {
     "data": {
      "image/png": "[encoded data removed]",
      "text/plain": [
       "<Figure size 1200x300 with 1 Axes>"
      ]
     },
     "metadata": {},
     "output_type": "display_data"
    }
   ],
   "source": [
    "''' LMMs for Similarity Ratios '''        \n",
    "#gather dependent variables into lists\n",
    "ABratio = list(np.concatenate((aABratio, maABratio, yABratio)))\n",
    "A_B_ratio = list(np.concatenate((aA_B_ratio, maA_B_ratio, yA_B_ratio)))\n",
    "AB_ratio = list(np.concatenate((aAB_ratio, maAB_ratio, yAB_ratio)))\n",
    "\n",
    "tuples = list(zip(Animal_ID, Session, Cell_ID, Sex, Age_Group, Cohort, ABratio, A_B_ratio, AB_ratio))\n",
    "tuples\n",
    "df = pd.DataFrame(tuples, columns = ['AnimalID', 'Session','Cell_ID','Sex', 'AgeGroup', 'Cohort','ABratio','A_B_ratio','AB_ratio'])\n",
    "\n",
    "#handle NaNs\n",
    "df = df.dropna(axis = 0)\n",
    "\n",
    "# ABratio Dependent\n",
    "vc = {'cells':'0 + C(Cell_ID)'}\n",
    "mAB = smf.mixedlm('ABratio ~ 1 + C(AgeGroup) + C(Sex) + C(Cohort) + Session:C(AgeGroup)', groups = 'AnimalID', re_formula = '1', vc_formula = vc,\n",
    "                     data=df).fit(reml= True)\n",
    "print(mAB.summary())\n",
    "print(mAB.wald_test_terms(scalar = False))\n",
    "\n",
    "#plot residuals\n",
    "df['resid'] = mAB.resid\n",
    "fig, ax = plt.subplots(figsize = (12,3))\n",
    "sns.violinplot(data = df, x = 'AnimalID', y = 'resid', inner = 'quartile', ax = ax)\n",
    "plt.title('AB Ratio Similarity Residuals')\n",
    "plt.show()\n",
    "\n",
    "# A_B_ratio Dependent\n",
    "vc = {'cells':'0 + C(Cell_ID)'}\n",
    "mA_B_ = smf.mixedlm('A_B_ratio ~ 1 + C(AgeGroup) + C(Sex) + C(Cohort) + Session:C(AgeGroup)', groups = 'AnimalID', re_formula = '1', vc_formula = vc,\n",
    "                     data=df).fit(reml= True)\n",
    "print(mA_B_.summary())\n",
    "print(mA_B_.wald_test_terms(scalar = False))\n",
    "\n",
    "df['resid'] = mA_B_.resid\n",
    "fig, ax = plt.subplots(figsize = (12,3))\n",
    "sns.violinplot(data = df, x = 'AnimalID', y = 'resid', inner = 'quartile', ax = ax)\n",
    "plt.title('A_B_ Ratio Similarity Residuals')\n",
    "plt.show()\n",
    "\n",
    "# AB_ratio Dependent\n",
    "vc = {'cells':'0 + C(Cell_ID)'}\n",
    "mAB_ = smf.mixedlm('AB_ratio ~ 1 + C(AgeGroup) + C(Sex) + C(Cohort) + Session:C(AgeGroup)', groups = 'AnimalID', re_formula = '1', vc_formula = vc,\n",
    "                     data=df).fit(reml= True)\n",
    "print(mAB_.summary())\n",
    "print(mAB_.wald_test_terms(scalar = False))\n",
    "\n",
    "df['resid'] = mAB_.resid\n",
    "fig, ax = plt.subplots(figsize = (12,3))\n",
    "sns.violinplot(data = df, x = 'AnimalID', y = 'resid', inner = 'quartile', ax = ax)\n",
    "plt.title('AB_ Ratio Similarity Residuals')\n",
    "plt.show()"
   ]
  },
  {
   "cell_type": "code",
   "execution_count": 33,
   "id": "f6542638",
   "metadata": {},
   "outputs": [],
   "source": [
    "''' Get fitted block vs. alt (not split by epoch) session averages '''\n",
    "\n",
    "r = 6 #sessions\n",
    "\n",
    "df['mABfitted'] = mAB.fittedvalues\n",
    "df['mAB_fitted'] = mAB_.fittedvalues\n",
    "\n",
    "resultA = df.groupby(by = ['AnimalID','Session'], as_index = False)['mABfitted'].aggregate('mean')\n",
    "seshAanimal = np.asarray(resultA['AnimalID'])\n",
    "seshAcount = np.asarray(resultA['Session'])\n",
    "seshAmean = np.asarray(resultA['mABfitted'])\n",
    "\n",
    "resultB = df.groupby(by = ['AnimalID','Session'], as_index = False)['mAB_fitted'].aggregate('mean')\n",
    "seshBanimal = np.asarray(resultB['AnimalID'])\n",
    "seshBcount = np.asarray(resultB['Session'])\n",
    "seshBmean = np.asarray(resultB['mAB_fitted'])\n",
    "\n",
    "slocstab5Afitted_seg_aged = [[] * r for i in range(r)]\n",
    "slocstab5Afitted_seg_MA = [[] * r for i in range(r)]\n",
    "slocstab5Afitted_seg_young = [[] * r for i in range(r)]\n",
    "slocstab5Bfitted_seg_aged = [[] * r for i in range(r)]\n",
    "slocstab5Bfitted_seg_MA = [[] * r for i in range(r)]\n",
    "slocstab5Bfitted_seg_young = [[] * r for i in range(r)]\n",
    "\n",
    "sessionAcountfitted_aged = [[] * r for i in range(r)]\n",
    "sessionAcountfitted_MA = [[] * r for i in range(r)]\n",
    "sessionAcountfitted_young = [[] * r for i in range(r)]\n",
    "sessionBcountfitted_aged = [[] * r for i in range(r)]\n",
    "sessionBcountfitted_MA = [[] * r for i in range(r)]\n",
    "sessionBcountfitted_young = [[] * r for i in range(r)]\n",
    "\n",
    "for m, session in zip(mice, sessions): \n",
    "    \n",
    "    animalidx = np.where(seshAanimal == m)[0][0]\n",
    "    sessiona_idx = np.where(seshAanimal == m)[0]\n",
    "    sessionb_idx = np.where(seshBanimal == m)[0]\n",
    "\n",
    "    if m in SM_aged_mice:\n",
    "        for i, c in enumerate(seshAcount[sessiona_idx]):\n",
    "            idx = c.astype(int) - 1\n",
    "            slocstab5Afitted_seg_aged[idx] = np.append(slocstab5Afitted_seg_aged[idx],seshAmean[sessiona_idx][i])\n",
    "            sessionAcountfitted_aged[idx] = np.append(sessionAcountfitted_aged[idx], c - 1)\n",
    "            \n",
    "        for i, c in enumerate(seshBcount[sessionb_idx]):\n",
    "            idx = c.astype(int) - 1 \n",
    "            slocstab5Bfitted_seg_aged[idx] = np.append(slocstab5Bfitted_seg_aged[idx],seshBmean[sessionb_idx][i])\n",
    "            sessionBcountfitted_aged[idx] = np.append(sessionBcountfitted_aged[idx], c - 1)    \n",
    "        \n",
    "    elif m in SM_MA_mice:\n",
    "        for i, c in enumerate(seshAcount[sessiona_idx]):\n",
    "            idx = c.astype(int) - 1\n",
    "            slocstab5Afitted_seg_MA[idx] = np.append(slocstab5Afitted_seg_MA[idx],seshAmean[sessiona_idx][i])\n",
    "            sessionAcountfitted_MA[idx] = np.append(sessionAcountfitted_MA[idx], c - 1)\n",
    "            \n",
    "        for i, c in enumerate(seshBcount[sessionb_idx]):\n",
    "            idx = c.astype(int) - 1\n",
    "            slocstab5Bfitted_seg_MA[idx] = np.append(slocstab5Bfitted_seg_MA[idx],seshBmean[sessionb_idx][i])\n",
    "            sessionBcountfitted_MA[idx] = np.append(sessionBcountfitted_MA[idx], c - 1)   \n",
    "    else:\n",
    "        for i, c in enumerate(seshAcount[sessiona_idx]):\n",
    "            idx = c.astype(int) - 1\n",
    "            slocstab5Afitted_seg_young[idx] = np.append(slocstab5Afitted_seg_young[idx],seshAmean[sessiona_idx][i])\n",
    "            sessionAcountfitted_young[idx] = np.append(sessionAcountfitted_young[idx], c - 1)\n",
    "            \n",
    "        for i, c in enumerate(seshBcount[sessionb_idx]):\n",
    "            idx = c.astype(int) - 1\n",
    "            slocstab5Bfitted_seg_young[idx] = np.append(slocstab5Bfitted_seg_young[idx],seshBmean[sessionb_idx][i])\n",
    "            sessionBcountfitted_young[idx] = np.append(sessionBcountfitted_young[idx], c - 1)   "
   ]
  },
  {
   "cell_type": "code",
   "execution_count": 34,
   "id": "c29c9308",
   "metadata": {},
   "outputs": [
    {
     "name": "stdout",
     "output_type": "stream",
     "text": [
      "\n",
      "n aged, MA, young mice on day 1 for block ratio\n",
      "10 10 8\n",
      "\n",
      "n aged, MA, young mice on day 1 for alt ratio\n",
      "10 10 8\n",
      "\n",
      "n aged, MA, young mice on day 2 for block ratio\n",
      "10 10 9\n",
      "\n",
      "n aged, MA, young mice on day 2 for alt ratio\n",
      "10 10 9\n",
      "\n",
      "n aged, MA, young mice on day 3 for block ratio\n",
      "9 10 9\n",
      "\n",
      "n aged, MA, young mice on day 3 for alt ratio\n",
      "9 10 9\n",
      "\n",
      "n aged, MA, young mice on day 4 for block ratio\n",
      "9 9 9\n",
      "\n",
      "n aged, MA, young mice on day 4 for alt ratio\n",
      "9 9 9\n",
      "\n",
      "n aged, MA, young mice on day 5 for block ratio\n",
      "8 9 9\n",
      "\n",
      "n aged, MA, young mice on day 5 for alt ratio\n",
      "8 9 9\n",
      "\n",
      "n aged, MA, young mice on day 6 for block ratio\n",
      "7 9 9\n",
      "\n",
      "n aged, MA, young mice on day 6 for alt ratio\n",
      "7 9 9\n"
     ]
    },
    {
     "data": {
      "image/png": "[encoded data removed]",
      "text/plain": [
       "<Figure size 400x150 with 2 Axes>"
      ]
     },
     "metadata": {},
     "output_type": "display_data"
    }
   ],
   "source": [
    "'''Plot Reviewer Figure 6B '''\n",
    "\n",
    "f, ax = plt.subplots(1, 2, figsize=(4, 1.5), sharey = False)\n",
    "\n",
    "g = sns.pointplot(x = df['Session'], y = mAB.fittedvalues, hue = df['AgeGroup'], hue_order = hue_order, ax = ax[0], scale = 0.5)\n",
    "ax[0].set_xticks([0,1,2,3,4,5])\n",
    "ax[0].set_xticklabels([1,2,3,4,5,6])\n",
    "ax[0].set_xlim([-0.5,5.5])\n",
    "ax[0].set_yticks([1,1.2,1.4,1.6,1.8,2])\n",
    "ax[0].set_ylim([0.975,2])\n",
    "ax[0].tick_params(labelsize = 8)\n",
    "ax[0].set_ylabel('Mean Similarity Ratio', fontsize=9, labelpad=1)\n",
    "ax[0].set_xlabel('Session', fontsize=9, labelpad=1)\n",
    "g.legend_.remove()\n",
    "\n",
    "g1 = sns.pointplot(x = df['Session'], y = mAB_.fittedvalues, hue = df['AgeGroup'], hue_order = hue_order, ax = ax[1], scale = 0.5)\n",
    "ax[1].set_xticks([0,1,2,3,4,5])\n",
    "ax[1].set_xticklabels([1,2,3,4,5,6])\n",
    "ax[1].set_xlim([-0.5,5.5])\n",
    "ax[1].set_yticks([1,1.1,1.2,1.3])\n",
    "ax[1].set_ylim([0.975,1.3])\n",
    "ax[1].set_xlabel('Session', fontsize=9, labelpad=1)\n",
    "ax[1].tick_params(labelsize = 8)\n",
    "g1.legend_.remove()\n",
    "\n",
    "for l in g.lines:\n",
    "    plt.setp(l,linewidth = 0.75)\n",
    "    \n",
    "for l in g1.lines:\n",
    "    plt.setp(l,linewidth = 0.75)\n",
    "\n",
    "#scatter plot actual raw data:\n",
    "for i in range(0,len(slocstab5Afitted_seg_aged)):\n",
    "    print('\\nn aged, MA, young mice on day ' + str(i + 1) + ' for block ratio')\n",
    "    print(len(sessionAcountfitted_aged[i]),len(sessionAcountfitted_MA[i]), len(sessionAcountfitted_young[i]))\n",
    "    \n",
    "    print('\\nn aged, MA, young mice on day ' + str(i + 1) + ' for alt ratio')\n",
    "    print(len(sessionBcountfitted_aged[i]),len(sessionBcountfitted_MA[i]), len(sessionBcountfitted_young[i]))\n",
    "    \n",
    "    ax[0].scatter(sessionAcountfitted_aged[i] + 0.1, slocstab5Afitted_seg_aged[i], s = 5, alpha = 0.4, c = 'C1', edgecolor = 'none')\n",
    "    ax[0].scatter(sessionAcountfitted_MA[i], slocstab5Afitted_seg_MA[i], s = 5, alpha = 0.4, c = 'C2', edgecolor = 'none')\n",
    "    ax[0].scatter(sessionAcountfitted_young[i] - 0.1, slocstab5Afitted_seg_young[i], s = 5, alpha = 0.4, c = 'C0', edgecolor = 'none')\n",
    "    \n",
    "    ax[1].scatter(sessionBcountfitted_aged[i] + 0.1, slocstab5Bfitted_seg_aged[i], s = 5, alpha = 0.4, c = 'C1', edgecolor = 'none')\n",
    "    ax[1].scatter(sessionBcountfitted_MA[i], slocstab5Bfitted_seg_MA[i], s = 5, alpha = 0.4, c = 'C2', edgecolor = 'none')\n",
    "    ax[1].scatter(sessionBcountfitted_young[i] - 0.1, slocstab5Bfitted_seg_young[i], s = 5, alpha = 0.4, c = 'C0', edgecolor = 'none')\n",
    "\n",
    "#ax[0].legend(loc = 4, fontsize = 9)\n",
    "plt.savefig(save_folder + 'ReviewerFigure6B.png', dpi=400, bbox_inches='tight')\n",
    "plt.savefig(save_folder + 'ReviewerFigure6B.svg', dpi=400, bbox_inches='tight')\n",
    "plt.show()"
   ]
  },
  {
   "cell_type": "code",
   "execution_count": 35,
   "id": "64b5fb17",
   "metadata": {},
   "outputs": [
    {
     "name": "stdout",
     "output_type": "stream",
     "text": [
      "\n",
      "Association btwn Young, MA, Aged, & All (Block) Performance & Variable of Interest:\n",
      "R [Young, MA, Aged, All]: \n",
      "0.2891886017664681 0.45194240601644015 0.597207316637335 0.4147508900687554\n",
      "P [Young, MA, Aged, All]: \n",
      "0.035708797563642446 0.00041699570241841085 2.352132408250855e-06 3.70452432736153e-08\n",
      "\n",
      "Association btwn Young, MA, Aged, & All (Alt.) Performance & Variable of Interest:\n",
      "R [Young, MA, Aged, All]: \n",
      "0.4729853599890762 0.4573085473726511 0.43518535913272455 0.45118575386785464\n",
      "P [Young, MA, Aged, All]: \n",
      "0.00034816030680852046 0.0003485167500912679 0.0011275055259657918 1.4999378795471066e-09\n",
      "\n",
      "Association btwn Young, MA, Aged, & All (Block + Alt) Performance & Variable of Interest:\n",
      "R [Young, MA, Aged, All]: \n",
      "0.4690598809344084 0.4759020033576746 0.7013439315711806 0.5209813826953348\n",
      "P [Young, MA, Aged, All]: \n",
      "3.945311406859841e-07 8.729610961877024e-08 5.65473721708393e-17 4.4377587144726016e-24\n",
      "\n",
      "n session halves: young, ma, aged\n",
      "106 114 106\n"
     ]
    },
    {
     "data": {
      "image/png": "[encoded data removed]",
      "text/plain": [
       "<Figure size 250x105 with 1 Axes>"
      ]
     },
     "metadata": {},
     "output_type": "display_data"
    },
    {
     "data": {
      "image/png": "[encoded data removed]",
      "text/plain": [
       "<Figure size 250x105 with 1 Axes>"
      ]
     },
     "metadata": {},
     "output_type": "display_data"
    },
    {
     "data": {
      "image/png": "[encoded data removed]",
      "text/plain": [
       "<Figure size 250x105 with 1 Axes>"
      ]
     },
     "metadata": {},
     "output_type": "display_data"
    }
   ],
   "source": [
    "''' Plot Reviewer Figure 6D with Block Data '''\n",
    "\n",
    "#Linear regression with block data only\n",
    "res = stats.linregress(sABratio[y_sindgrid],reqblock_rates[y_sindgrid])\n",
    "yslope1 = res.slope; yint1 = res.intercept; yr1 = res.rvalue; yp1 = res.pvalue\n",
    "\n",
    "res = stats.linregress(sABratio[ma_sindgrid],reqblock_rates[ma_sindgrid])\n",
    "maslope1 = res.slope; maint1 = res.intercept; mar1 = res.rvalue; map1 = res.pvalue\n",
    "\n",
    "res = stats.linregress(sABratio[age_sindgrid],reqblock_rates[age_sindgrid])\n",
    "aslope1 = res.slope; aint1 = res.intercept; ar1 = res.rvalue; ap1 = res.pvalue\n",
    "\n",
    "res = stats.linregress(sABratio[~np.isnan(sABratio)],reqblock_rates[~np.isnan(sABratio)])\n",
    "allslope1 = res.slope; allint1 = res.intercept; allr1 = res.rvalue; allp1 = res.pvalue\n",
    "\n",
    "print('\\nAssociation btwn Young, MA, Aged, & All (Block) Performance & Variable of Interest:')\n",
    "print('R [Young, MA, Aged, All]: ')\n",
    "print(yr1, mar1, ar1, allr1)\n",
    "print('P [Young, MA, Aged, All]: ')\n",
    "print(yp1, map1, ap1, allp1)\n",
    "\n",
    "#Linear regression with alt data only\n",
    "res = stats.linregress(sAB_ratio[y_sindgrid],reqalt_rates[y_sindgrid])\n",
    "yslope2 = res.slope; yint2 = res.intercept; yr2 = res.rvalue; yp2 = res.pvalue\n",
    "\n",
    "res = stats.linregress(sAB_ratio[ma_sindgrid],reqalt_rates[ma_sindgrid])\n",
    "maslope2 = res.slope; maint2 = res.intercept; mar2 = res.rvalue ; map2 = res.pvalue\n",
    "\n",
    "res = stats.linregress(sAB_ratio[age_sindgrid],reqalt_rates[age_sindgrid])\n",
    "aslope2 = res.slope; aint2 = res.intercept; ar2 = res.rvalue ; ap2 = res.pvalue\n",
    "\n",
    "res = stats.linregress(sAB_ratio[~np.isnan(sAB_ratio)],reqalt_rates[~np.isnan(sAB_ratio)])\n",
    "allslope2 = res.slope; allint2 = res.intercept; allr2 = res.rvalue; allp2 = res.pvalue\n",
    "\n",
    "print('\\nAssociation btwn Young, MA, Aged, & All (Alt.) Performance & Variable of Interest:')\n",
    "print('R [Young, MA, Aged, All]: ')\n",
    "print(yr2, mar2, ar2, allr2)\n",
    "print('P [Young, MA, Aged, All]: ')\n",
    "print(yp2, map2, ap2, allp2)\n",
    "\n",
    "#Linear regression with block & alt data together\n",
    "res = stats.linregress(np.hstack((sABratio[y_sindgrid],sAB_ratio[y_sindgrid])),np.hstack((reqblock_rates[y_sindgrid],reqalt_rates[y_sindgrid])))\n",
    "yslope3 = res.slope; yint3 = res.intercept; yr3 = res.rvalue; yp3 = res.pvalue\n",
    "\n",
    "res = stats.linregress(np.hstack((sABratio[ma_sindgrid],sAB_ratio[ma_sindgrid])),np.hstack((reqblock_rates[ma_sindgrid],reqalt_rates[ma_sindgrid])))\n",
    "maslope3 = res.slope; maint3 = res.intercept; mar3 = res.rvalue ; map3 = res.pvalue\n",
    "\n",
    "res = stats.linregress(np.hstack((sABratio[age_sindgrid],sAB_ratio[age_sindgrid])),np.hstack((reqblock_rates[age_sindgrid],reqalt_rates[age_sindgrid])))\n",
    "aslope3 = res.slope; aint3 = res.intercept; ar3 = res.rvalue ; ap3 = res.pvalue\n",
    "\n",
    "allidx = np.concatenate((y_sindgrid, ma_sindgrid, age_sindgrid))\n",
    "res = stats.linregress(np.hstack((sABratio[allidx],sAB_ratio[allidx])),np.hstack((reqblock_rates[allidx],reqalt_rates[allidx])))\n",
    "allslope3 = res.slope; allint3 = res.intercept; allr3 = res.rvalue; allp3 = res.pvalue\n",
    "\n",
    "print('\\nAssociation btwn Young, MA, Aged, & All (Block + Alt) Performance & Variable of Interest:')\n",
    "print('R [Young, MA, Aged, All]: ')\n",
    "print(yr3, mar3, ar3, allr3)\n",
    "print('P [Young, MA, Aged, All]: ')\n",
    "print(yp3, map3, ap3, allp3)\n",
    "\n",
    "print('\\nn session halves: young, ma, aged')\n",
    "print(len(y_sindgrid)*2,len(ma_sindgrid)*2,len(age_sindgrid)*2)\n",
    "\n",
    "#Plot Stability over All Sessions by Age Group with Block & Alt Phases\n",
    "fig, ax = plt.subplots(figsize = (2.5,1.05))\n",
    "fig.suptitle('Young Sessions', fontsize = 10)\n",
    "ax.scatter(sAB_ratio[y_sindgrid],reqalt_rates[y_sindgrid], color = 'C0', s = 10)\n",
    "ax.scatter(sABratio[y_sindgrid],reqblock_rates[y_sindgrid], color = 'C0', s = 10, edgecolor = 'k', lw = 0.5)\n",
    "ax.set_xlabel('Mean Similarity Ratio', fontsize = 9)\n",
    "ax.set_ylabel('Frac. Requested', fontsize = 9)\n",
    "ax.set_ylim([-0.1,1.1])\n",
    "ax.set_xlim([0.95,1.8])\n",
    "ax.set_xticks([1,1.2,1.4,1.6,1.8])\n",
    "ax.tick_params(labelsize = 8)\n",
    "X_plot = np.linspace(ax.get_xlim()[0],ax.get_xlim()[1],100)\n",
    "ax.plot(X_plot, yslope2*X_plot + yint2, '-', color = 'C0', linewidth = 0.75, label = 'Alt. Only')\n",
    "ax.plot(X_plot, yslope3*X_plot + yint3, '-', linewidth = 0.75, color = 'k', label = 'Block & Alt.')\n",
    "ax.legend(fontsize = 8)\n",
    "plt.savefig(save_folder + 'ReviewerFigure6Dleft.png', dpi = 400, bbox_inches = 'tight')\n",
    "plt.savefig(save_folder + 'ReviewerFigure6Dleft.svg', dpi = 400, bbox_inches = 'tight')\n",
    "plt.show()\n",
    "\n",
    "fig, ax = plt.subplots(figsize = (2.5,1.05))\n",
    "fig.suptitle('MA Sessions', fontsize = 10)\n",
    "ax.scatter(sAB_ratio[ma_sindgrid],reqalt_rates[ma_sindgrid], color = 'C2', s = 10)\n",
    "ax.scatter(sABratio[ma_sindgrid],reqblock_rates[ma_sindgrid], color = 'C2', s = 10, edgecolor = 'k', lw = 0.5)\n",
    "ax.set_xlabel('Mean Similarity Ratio', fontsize = 9)\n",
    "ax.set_ylabel('Frac. Requested', fontsize = 9)\n",
    "ax.set_ylim([-0.1,1.1])\n",
    "ax.set_xlim([0.95,1.8])\n",
    "ax.set_xticks([1,1.2,1.4,1.6,1.8])\n",
    "ax.tick_params(labelsize = 8)\n",
    "X_plot = np.linspace(ax.get_xlim()[0],ax.get_xlim()[1],100)\n",
    "ax.plot(X_plot, maslope2*X_plot + maint2, '-', color = 'C2', linewidth = 0.75, label = 'Alt. Only')\n",
    "ax.plot(X_plot, maslope3*X_plot + maint3, '-', linewidth = 0.75, color = 'k', label = 'Block & Alt.')\n",
    "ax.legend(fontsize = 8)\n",
    "plt.savefig(save_folder + 'ReviewerFigure6Dmiddle.png', dpi = 400, bbox_inches = 'tight')\n",
    "plt.savefig(save_folder + 'ReviewerFigure6Dmiddle.svg', dpi = 400, bbox_inches = 'tight')\n",
    "plt.show()\n",
    "\n",
    "fig, ax = plt.subplots(figsize = (2.5,1.05))\n",
    "fig.suptitle('Aged Sessions', fontsize = 10)\n",
    "ax.scatter(sAB_ratio[age_sindgrid],reqalt_rates[age_sindgrid], color = 'C1', s = 10)\n",
    "ax.scatter(sABratio[age_sindgrid],reqblock_rates[age_sindgrid], color = 'C1', s = 10, edgecolor = 'k', lw = 0.5)\n",
    "ax.set_xlabel('Mean Similarity Ratio', fontsize = 9)\n",
    "ax.set_ylabel('Frac. Requested', fontsize = 9)\n",
    "ax.set_ylim([-0.1,1.1])\n",
    "ax.set_xlim([0.95,1.8])\n",
    "ax.set_xticks([1,1.2,1.4,1.6,1.8])\n",
    "ax.tick_params(labelsize = 8)\n",
    "X_plot = np.linspace(ax.get_xlim()[0],ax.get_xlim()[1],100)\n",
    "ax.plot(X_plot, aslope2*X_plot + aint2, '-', linewidth = 0.75, color = 'C1', label = 'Alt. Only')\n",
    "ax.plot(X_plot, aslope3*X_plot + aint3, '-', linewidth = 0.75, color = 'k', label = 'Block & Alt.')\n",
    "ax.legend(fontsize = 8,)\n",
    "plt.savefig(save_folder + 'ReviewerFigure6Dright.png', dpi = 400, bbox_inches = 'tight')\n",
    "plt.savefig(save_folder + 'ReviewerFigure6Dright.svg', dpi = 400, bbox_inches = 'tight')\n",
    "plt.show()"
   ]
  },
  {
   "cell_type": "markdown",
   "id": "aaf3f686",
   "metadata": {},
   "source": [
    "# NGS Cell Stability & Similarity Ratio (Plot Reviewer Figure 6E-H)\n",
    "\n",
    "Mimics Figures S3F-I at lower thresholds. "
   ]
  },
  {
   "cell_type": "code",
   "execution_count": null,
   "id": "f2fa7092",
   "metadata": {
    "scrolled": true
   },
   "outputs": [
    {
     "data": {
      "application/vnd.jupyter.widget-view+json": {
       "model_id": "ad1fbb0d35bb42ebb305c551d6f4f8af",
       "version_major": 2,
       "version_minor": 0
      },
      "text/plain": [
       "  0%|          | 0/3 [00:00<?, ?it/s]"
      ]
     },
     "metadata": {},
     "output_type": "display_data"
    },
    {
     "data": {
      "application/vnd.jupyter.widget-view+json": {
       "model_id": "b8578f7cf8cc4088aedb75dad8364372",
       "version_major": 2,
       "version_minor": 0
      },
      "text/plain": [
       "  0%|          | 0/6 [00:00<?, ?it/s]"
      ]
     },
     "metadata": {},
     "output_type": "display_data"
    },
    {
     "data": {
      "application/vnd.jupyter.widget-view+json": {
       "model_id": "a8a13985d29e4ef49a205fa695fd3061",
       "version_major": 2,
       "version_minor": 0
      },
      "text/plain": [
       "  0%|          | 0/4 [00:00<?, ?it/s]"
      ]
     },
     "metadata": {},
     "output_type": "display_data"
    },
    {
     "data": {
      "application/vnd.jupyter.widget-view+json": {
       "model_id": "5ee1464e43eb48e9b1a2be1f06d97392",
       "version_major": 2,
       "version_minor": 0
      },
      "text/plain": [
       "  0%|          | 0/6 [00:00<?, ?it/s]"
      ]
     },
     "metadata": {},
     "output_type": "display_data"
    },
    {
     "data": {
      "application/vnd.jupyter.widget-view+json": {
       "model_id": "b31057ea744a433fa2ab23701e6bba36",
       "version_major": 2,
       "version_minor": 0
      },
      "text/plain": [
       "  0%|          | 0/6 [00:00<?, ?it/s]"
      ]
     },
     "metadata": {},
     "output_type": "display_data"
    }
   ],
   "source": [
    "''' Compute & Plot Sorted Cross-Trial Correlation Matrices for NGS Cells.\n",
    "\n",
    "Run time is a few minutes per session (scales w/ NGS cell number).\n",
    "\n",
    "'''\n",
    "\n",
    "for m, session in zip(mice,sessions):\n",
    "\n",
    "    for s in tdqm(session):\n",
    "        \n",
    "        #get data\n",
    "        d = data[m][s]\n",
    "        \n",
    "        #get some data & cell IDs\n",
    "        rawdata_file = 'RAW_' + m + '_' + s + '.npy'\n",
    "        spikes_file = 'SPIKES_' + m + '_' + s +'.npy'\n",
    "        behavior_file = 'BEHAVIOR_' + m + '_' + s + '.npy'\n",
    "        \n",
    "        raw = np.load(load_folder + rawdata_file, allow_pickle=True)\n",
    "        Y = np.load(load_folder + spikes_file, allow_pickle=False) #pre-filtered for speeds >2cm/s, position-corrected spikes, 20 ms timebins\n",
    "        behaviorfil = np.load(load_folder + behavior_file, allow_pickle=False)\n",
    "        \n",
    "        cell_IDs = raw.item().get('cellsfil')\n",
    "        ngscell = d['ngscell'].astype(bool)\n",
    "        ngscells = cell_IDs[ngscell]    \n",
    "    \n",
    "        posx = behaviorfil[:,0]\n",
    "        trial = behaviorfil[:,2]\n",
    "        rawtrialfil = raw.item().get('trialfil')\n",
    "        \n",
    "        #Find any skipped trials\n",
    "        try:\n",
    "            _ = raw.item().get('correctedtrial').shape\n",
    "            skippedtrials = get.find_skipped(trial, max_trial_num = 220)\n",
    "            \n",
    "        except:\n",
    "            skippedtrials = []\n",
    "        \n",
    "        if np.max(np.unique(trial)) < 160: #handles truncated, shorter sessions \n",
    "            alltrial = np.arange(0, np.max(np.unique(trial)) + 2, 1)\n",
    "        else:\n",
    "            alltrial = np.arange(0,220,1)\n",
    "\n",
    "        # Load in left vs. right info\n",
    "        trials = np.unique(trial)\n",
    "        trialinfo = raw.item().get('trialinfo')\n",
    "        left = trialinfo['left']\n",
    "        \n",
    "        # Sort trials by context, find sorted skipped trials, num dark skipped trials\n",
    "        leftsort, allcopy = get.contextsortedtrials(alltrial, left, alt_idx = 140)\n",
    "        \n",
    "        newskippedtrials = []\n",
    "        for z in skippedtrials:\n",
    "            newskippedtrials = np.append(newskippedtrials, np.where(allcopy == z)[0][0])\n",
    "\n",
    "        ndarkskipped = 0\n",
    "        for z in newskippedtrials:\n",
    "            if z < 20: \n",
    "                ndarkskipped += 1\n",
    "                \n",
    "        #adjust trialfil so that sorted trials are skipped instead\n",
    "        skippedrawtrialfil = get.sortedtrialbyframe(rawtrialfil, trial, newskippedtrials)\n",
    "        numtrial = np.unique(skippedrawtrialfil)\n",
    "\n",
    "        #sort spike train & position on VR frames by context during alternation\n",
    "        posxcopy = []\n",
    "        allcopy= np.append(allcopy, 220)\n",
    "        for t in allcopy:\n",
    "            obs_idx = np.where(trial == t)[0]\n",
    "            posxcopy = np.append(posxcopy, posx[obs_idx])\n",
    "            if t == 0:\n",
    "                Z = Y[obs_idx,:]\n",
    "            else: \n",
    "                Z = np.append(Z, Y[obs_idx,:], axis = 0)\n",
    "        \n",
    "        #trim off the dark trials & trial 220 dataframes\n",
    "        start_idx = (np.where(skippedrawtrialfil >= 20)[0][0]).astype(int)\n",
    "        if np.max(skippedrawtrialfil) == 220:\n",
    "            end_idx = (np.where(skippedrawtrialfil == 220)[0][0])\n",
    "            #get smoothed by trial FR matrix excluding dark period sorted by context\n",
    "            normFR, _, _ = ps.tuning_curve_bytrial(posxcopy[start_idx:end_idx], skippedrawtrialfil[start_idx:end_idx], Z[start_idx:end_idx,:], dt, sigma = 5, b=2, smooth=True, normalize=True, occupancy=True)\n",
    "        else:\n",
    "            end_idx = len(skippedrawtrialfil) + 1\n",
    "            #get smoothed by trial FR matrix excluding dark period sorted by context\n",
    "            normFR, _, _ = ps.tuning_curve_bytrial(posxcopy[start_idx:], skippedrawtrialfil[start_idx:], Z[start_idx:,:], dt, sigma = 5, b=2, smooth=True, normalize=True, occupancy=True)\n",
    "    \n",
    "        #collect & plot cross-trial correlation matrices & save for the grid cell population\n",
    "        allsim = np.zeros(shape = (len(np.unique(skippedrawtrialfil[start_idx:end_idx])),len(np.unique(skippedrawtrialfil[start_idx:end_idx])),len(ngscells)))\n",
    "        for i, c in enumerate(ngscells):\n",
    "            sdx = (np.where(cell_IDs == c)[0][0]).astype(int)  \n",
    "            sim , _  = ps.cross_trial_correlation(normFR[:,:,sdx], shift = False) \n",
    "            allsim[:,:,i] = sim\n",
    "            \n",
    "        # save matrix of cross-trial correlations\n",
    "        d['allngssim'] = allsim"
   ]
  },
  {
   "cell_type": "code",
   "execution_count": null,
   "id": "464beed3",
   "metadata": {
    "scrolled": true
   },
   "outputs": [],
   "source": [
    "''' Calculate Local Cross Trial Correlation Stability within Each Context & for Block vs. Alt Phases'''\n",
    "\n",
    "from scipy.spatial.distance import pdist\n",
    "from scipy.spatial.distance import squareform\n",
    "\n",
    "dt = 0.02\n",
    "\n",
    "#adjust loading folder path to match output of cell above\n",
    "slocstab5block = []\n",
    "slocstab5alt = []\n",
    "max_k = 5\n",
    "\n",
    "#cell arrays\n",
    "ylocstab5block = []\n",
    "ylocstab5alt = []\n",
    "\n",
    "malocstab5block = []\n",
    "malocstab5alt = []\n",
    "\n",
    "alocstab5block = []\n",
    "alocstab5alt = []\n",
    "\n",
    "for m, session in zip(mice, sessions):\n",
    "    \n",
    "    for s in tdqm(session):\n",
    "        d = data[m][s]\n",
    "        \n",
    "        #get some data & cell IDs\n",
    "        rawdata_file = 'RAW_' + m + '_' + s + '.npy'\n",
    "        behavior_file = 'BEHAVIOR_' + m + '_' + s + '.npy'\n",
    "        raw = np.load(load_folder + rawdata_file, allow_pickle=True)\n",
    "        behaviorfil = np.load(load_folder + behavior_file, allow_pickle=False)\n",
    "        cell_IDs = raw.item().get('cellsfil')\n",
    "        ngscell = d['ngscell'].astype(bool)\n",
    "        ngscells = cell_IDs[ngscell]     \n",
    "        trial = behaviorfil[:,2]\n",
    "        \n",
    "        #load the context lengths, exclude A' and B' gain change trials\n",
    "        Aidx = d['Aidx']\n",
    "        lengthA = len(np.unique(trial[Aidx]))\n",
    "        Bidx = d['Bidx'] \n",
    "        lengthB = len(np.unique(trial[Bidx]))\n",
    "        \n",
    "        allsim = d['allngssim']\n",
    "    \n",
    "        local_stabilityblock = [] \n",
    "        local_stabilityalt = []\n",
    "        \n",
    "        for i, c in enumerate(ngscells):\n",
    "            \n",
    "            #divide sim by context\n",
    "            sim = allsim[:,:,i]\n",
    "            simblock = sim[:(lengthA + lengthB),:(lengthA + lengthB)]\n",
    "            simalt = sim[(lengthA + lengthB):,(lengthA + lengthB):]\n",
    "            \n",
    "            #Block Stability\n",
    "            max_k = 5  \n",
    "            sum_k = np.zeros(simblock.shape[0])\n",
    "            for k in np.arange(-max_k, max_k+1, 1):\n",
    "                if k == 0:\n",
    "                    continue\n",
    "                elif k < 0:\n",
    "                    sum_k[np.abs(k):] = sum_k[np.abs(k):] + np.diagonal(simblock, offset=k)\n",
    "                else:\n",
    "                    sum_k[:-k] = sum_k[:-k] + np.diagonal(simblock, offset=k)\n",
    "            local_stabilityblock = np.append(local_stabilityblock, np.nanmean(sum_k[max_k:-max_k]/(2*max_k)))\n",
    "        \n",
    "            #Alt Stability\n",
    "            max_k = 5  \n",
    "            sum_k = np.zeros(simalt.shape[0])\n",
    "            for k in np.arange(-max_k, max_k+1, 1):\n",
    "                if k == 0:\n",
    "                    continue\n",
    "                elif k < 0:\n",
    "                    sum_k[np.abs(k):] = sum_k[np.abs(k):] + np.diagonal(simalt, offset=k)\n",
    "                else:\n",
    "                    sum_k[:-k] = sum_k[:-k] + np.diagonal(simalt, offset=k)\n",
    "            local_stabilityalt = np.append(local_stabilityalt, np.nanmean(sum_k[max_k:-max_k]/(2*max_k)))\n",
    "        \n",
    "        #save session results\n",
    "        slocstab5block = np.append(slocstab5block, np.nanmean(local_stabilityblock))\n",
    "        slocstab5alt = np.append(slocstab5alt, np.nanmean(local_stabilityalt))\n",
    "        \n",
    "        #pool by age group\n",
    "        if m in SM_aged_mice:\n",
    "            alocstab5block = np.append(alocstab5block, local_stabilityblock) \n",
    "            alocstab5alt = np.append(alocstab5alt, local_stabilityalt) \n",
    "        elif m in SM_MA_mice:\n",
    "            malocstab5block = np.append(malocstab5block, local_stabilityblock) \n",
    "            malocstab5alt = np.append(malocstab5alt, local_stabilityalt) \n",
    "        else:\n",
    "            ylocstab5block = np.append(ylocstab5block, local_stabilityblock) \n",
    "            ylocstab5alt = np.append(ylocstab5alt, local_stabilityalt) \n",
    "        \n",
    "#save arrays\n",
    "slocstab5block = np.asarray(slocstab5block)\n",
    "slocstab5alt = np.asarray(slocstab5alt)"
   ]
  },
  {
   "cell_type": "code",
   "execution_count": null,
   "id": "344589c1",
   "metadata": {
    "scrolled": true
   },
   "outputs": [],
   "source": [
    "''' Define a List of Sex, Mouse ID, Session Count, Age for each NGS Cell'''\n",
    "import statsmodels.api as sm\n",
    "import statsmodels.formula.api as smf\n",
    "\n",
    "csex = []\n",
    "cmice = []\n",
    "ccount = []\n",
    "cage = []\n",
    "cidx = []\n",
    "ccohort = []\n",
    "\n",
    "totalcells = 0\n",
    "for m, session in zip(mice, sessions):\n",
    "    \n",
    "    msex = np.array(animalmeta.loc[(animalmeta.Animal_ID == m),'Sex'])\n",
    "    age = np.array(animalmeta.loc[(animalmeta.Animal_ID == m),'Age_Group'])\n",
    "    cohort =  np.array(animalmeta.loc[(animalmeta.Animal_ID == m),'Cohort'])\n",
    "    totalsesh = len(session)\n",
    "    \n",
    "    for i, s in enumerate(tdqm(session)):\n",
    "        \n",
    "        d = data[m][s]\n",
    "        \n",
    "        rawdata_file = 'RAW_' + m + '_' + s + '.npy'\n",
    "        raw = np.load(load_folder + rawdata_file, allow_pickle=True)\n",
    "        cell_IDs = raw.item().get('cellsfil')\n",
    "        ngscell = d['ngscell'].astype(bool)\n",
    "        ngscells = cell_IDs[ngscell]\n",
    "        \n",
    "        for j, c in enumerate(ngscells):\n",
    "            cidx = np.append(cidx, totalcells)\n",
    "            csex = np.append(csex, msex)\n",
    "            cmice = np.append(cmice, m)\n",
    "            ccount = np.append(ccount, (i + 1))\n",
    "            cage = np.append(cage, age)\n",
    "            ccohort = np.append(ccohort, cohort)\n",
    "            \n",
    "            totalcells += 1\n",
    "\n",
    "#gather fixed effects into lists\n",
    "Animal_ID = list(cmice)\n",
    "Session = list(ccount)\n",
    "Sex = list(csex)\n",
    "Age_Group = list(cage)\n",
    "Cell_ID = list(cidx)\n",
    "Cohort = list(ccohort)"
   ]
  },
  {
   "cell_type": "code",
   "execution_count": null,
   "id": "86dd7d98",
   "metadata": {
    "scrolled": false
   },
   "outputs": [],
   "source": [
    "''' LMMs for NGS Cell Moving Avg Similarity [Stability] '''        \n",
    "#gather dependent variables into lists\n",
    "locstab5block = list(np.concatenate((alocstab5block, malocstab5block, ylocstab5block)))\n",
    "locstab5alt = list(np.concatenate((alocstab5alt, malocstab5alt, ylocstab5alt)))\n",
    "hue_order = [1.0, 3.0, 2.0]\n",
    "\n",
    "tuples = list(zip(Animal_ID, Session, Cell_ID, Sex, Age_Group, Cohort, locstab5block,locstab5alt))\n",
    "tuples\n",
    "df = pd.DataFrame(tuples, columns = ['AnimalID', 'Session','Cell_ID','Sex', 'AgeGroup', 'Cohort','locstab5block','locstab5alt'])\n",
    "\n",
    "#handle NaNs\n",
    "df = df.dropna(axis = 0)\n",
    "\n",
    "#Block Dependent\n",
    "vc = {'cells':'0 + C(Cell_ID)'}\n",
    "mblock = smf.mixedlm('locstab5block ~ 1 + C(AgeGroup) + C(Sex) + C(Cohort) + Session:C(AgeGroup)', groups = 'AnimalID', re_formula = '1', vc_formula = vc,\n",
    "                     data=df).fit(reml= True)\n",
    "print(mblock.summary())\n",
    "print(mblock.wald_test_terms(scalar = False))\n",
    "\n",
    "df['residblock'] = mblock.resid\n",
    "fig, ax = plt.subplots(figsize = (12,3))\n",
    "sns.violinplot(data = df, x = 'AnimalID', y = 'residblock', inner = 'quartile', ax = ax)\n",
    "plt.title('Avg Block Stability Residuals')\n",
    "plt.show()\n",
    "\n",
    "#Alt Dependent\n",
    "vc = {'cells':'0 + C(Cell_ID)'}\n",
    "malt = smf.mixedlm('locstab5alt ~ 1 + C(AgeGroup) + C(Sex) + C(Cohort) + Session:C(AgeGroup)', groups = 'AnimalID', re_formula = '1', vc_formula = vc,\n",
    "                     data=df).fit(reml= True)\n",
    "print(malt.summary())\n",
    "print(malt.wald_test_terms(scalar = False))\n",
    "\n",
    "df['residalt'] = malt.resid\n",
    "fig, ax = plt.subplots(figsize = (12,3))\n",
    "sns.violinplot(data = df, x = 'AnimalID', y = 'residalt', inner = 'quartile', ax = ax)\n",
    "plt.title('Avg Alt. Stability Residuals')\n",
    "plt.show()\n"
   ]
  },
  {
   "cell_type": "code",
   "execution_count": null,
   "id": "ebee75bd",
   "metadata": {},
   "outputs": [],
   "source": [
    "''' Get fitted block vs. alt (not split by epoch) session averages '''\n",
    "\n",
    "r = 6 #sessions\n",
    "\n",
    "df['mblockfitted'] = mblock.fittedvalues\n",
    "df['maltfitted'] = malt.fittedvalues\n",
    "\n",
    "resultA = df.groupby(by = ['AnimalID','Session'], as_index = False)['mblockfitted'].aggregate('mean')\n",
    "seshAanimal = np.asarray(resultA['AnimalID'])\n",
    "seshAcount = np.asarray(resultA['Session'])\n",
    "seshAmean = np.asarray(resultA['mblockfitted'])\n",
    "\n",
    "resultB = df.groupby(by = ['AnimalID','Session'], as_index = False)['maltfitted'].aggregate('mean')\n",
    "seshBanimal = np.asarray(resultB['AnimalID'])\n",
    "seshBcount = np.asarray(resultB['Session'])\n",
    "seshBmean = np.asarray(resultB['maltfitted'])\n",
    "\n",
    "slocstab5Afitted_seg_aged = [[] * r for i in range(r)]\n",
    "slocstab5Afitted_seg_MA = [[] * r for i in range(r)]\n",
    "slocstab5Afitted_seg_young = [[] * r for i in range(r)]\n",
    "slocstab5Bfitted_seg_aged = [[] * r for i in range(r)]\n",
    "slocstab5Bfitted_seg_MA = [[] * r for i in range(r)]\n",
    "slocstab5Bfitted_seg_young = [[] * r for i in range(r)]\n",
    "\n",
    "sessionAcountfitted_aged = [[] * r for i in range(r)]\n",
    "sessionAcountfitted_MA = [[] * r for i in range(r)]\n",
    "sessionAcountfitted_young = [[] * r for i in range(r)]\n",
    "sessionBcountfitted_aged = [[] * r for i in range(r)]\n",
    "sessionBcountfitted_MA = [[] * r for i in range(r)]\n",
    "sessionBcountfitted_young = [[] * r for i in range(r)]\n",
    "\n",
    "for m, session in zip(mice, sessions): \n",
    "    \n",
    "    animalidx = np.where(seshAanimal == m)[0][0]\n",
    "    sessiona_idx = np.where(seshAanimal == m)[0]\n",
    "    sessionb_idx = np.where(seshBanimal == m)[0]\n",
    "\n",
    "    if m in SM_aged_mice:\n",
    "        for i, c in enumerate(seshAcount[sessiona_idx]):\n",
    "            idx = c.astype(int) - 1\n",
    "            slocstab5Afitted_seg_aged[idx] = np.append(slocstab5Afitted_seg_aged[idx],seshAmean[sessiona_idx][i])\n",
    "            sessionAcountfitted_aged[idx] = np.append(sessionAcountfitted_aged[idx], c - 1)\n",
    "            \n",
    "        for i, c in enumerate(seshBcount[sessionb_idx]):\n",
    "            idx = c.astype(int) - 1 \n",
    "            slocstab5Bfitted_seg_aged[idx] = np.append(slocstab5Bfitted_seg_aged[idx],seshBmean[sessionb_idx][i])\n",
    "            sessionBcountfitted_aged[idx] = np.append(sessionBcountfitted_aged[idx], c - 1)    \n",
    "        \n",
    "    elif m in SM_MA_mice:\n",
    "        for i, c in enumerate(seshAcount[sessiona_idx]):\n",
    "            idx = c.astype(int) - 1\n",
    "            slocstab5Afitted_seg_MA[idx] = np.append(slocstab5Afitted_seg_MA[idx],seshAmean[sessiona_idx][i])\n",
    "            sessionAcountfitted_MA[idx] = np.append(sessionAcountfitted_MA[idx], c - 1)\n",
    "            \n",
    "        for i, c in enumerate(seshBcount[sessionb_idx]):\n",
    "            idx = c.astype(int) - 1\n",
    "            slocstab5Bfitted_seg_MA[idx] = np.append(slocstab5Bfitted_seg_MA[idx],seshBmean[sessionb_idx][i])\n",
    "            sessionBcountfitted_MA[idx] = np.append(sessionBcountfitted_MA[idx], c - 1)   \n",
    "    else:\n",
    "        for i, c in enumerate(seshAcount[sessiona_idx]):\n",
    "            idx = c.astype(int) - 1\n",
    "            slocstab5Afitted_seg_young[idx] = np.append(slocstab5Afitted_seg_young[idx],seshAmean[sessiona_idx][i])\n",
    "            sessionAcountfitted_young[idx] = np.append(sessionAcountfitted_young[idx], c - 1)\n",
    "            \n",
    "        for i, c in enumerate(seshBcount[sessionb_idx]):\n",
    "            idx = c.astype(int) - 1\n",
    "            slocstab5Bfitted_seg_young[idx] = np.append(slocstab5Bfitted_seg_young[idx],seshBmean[sessionb_idx][i])\n",
    "            sessionBcountfitted_young[idx] = np.append(sessionBcountfitted_young[idx], c - 1)   "
   ]
  },
  {
   "cell_type": "code",
   "execution_count": null,
   "id": "99f97977",
   "metadata": {},
   "outputs": [],
   "source": [
    "''' Plot Reviewer Figure 6E'''\n",
    "f, ax = plt.subplots(1, 2, figsize=(4, 1.5), sharey = True)\n",
    "\n",
    "g = sns.pointplot(x = df['Session'], y = mblock.fittedvalues, hue = df['AgeGroup'], hue_order = hue_order, ax = ax[0], scale = 0.5)\n",
    "ax[0].set_xticks([0,1,2,3,4,5])\n",
    "ax[0].set_xticklabels([1,2,3,4,5,6])\n",
    "ax[0].set_xlim([-0.5,5.5])\n",
    "ax[0].set_yticks([0,0.15,0.3,0.45,0.6,0.75])\n",
    "ax[0].set_ylim([0.0,0.75])\n",
    "ax[0].tick_params(labelsize = 8)\n",
    "ax[0].set_ylabel('Mean Stability', fontsize=9, labelpad=1)\n",
    "ax[0].set_xlabel('Session', fontsize=9, labelpad=1)\n",
    "g.legend_.remove()\n",
    "\n",
    "g1 = sns.pointplot(x = df['Session'], y = malt.fittedvalues, hue = df['AgeGroup'], hue_order = hue_order, ax = ax[1], scale = 0.5)\n",
    "ax[1].set_xticks([0,1,2,3,4,5])\n",
    "ax[1].set_xticklabels([1,2,3,4,5,6])\n",
    "ax[1].set_xlim([-0.5,5.5])\n",
    "ax[1].set_yticks([0,0.15,0.3,0.45,0.6,0.75])\n",
    "ax[1].set_ylim([0.0,0.75])\n",
    "ax[1].set_xlabel('Session', fontsize=9, labelpad=1)\n",
    "ax[1].tick_params(labelsize = 8)\n",
    "#ax[1].set_ylabel('Stability', fontsize=9, labelpad=1)\n",
    "g1.legend_.remove()\n",
    "\n",
    "for l in g.lines:\n",
    "    plt.setp(l,linewidth = 0.75)\n",
    "    \n",
    "for l in g1.lines:\n",
    "    plt.setp(l,linewidth = 0.75)\n",
    "\n",
    "#scatter plot actual raw data:\n",
    "for i in range(0,len(slocstab5Afitted_seg_aged)):\n",
    "    print('\\nn aged, MA, young mice on day ' + str(i + 1) + ' for A')\n",
    "    print(len(sessionAcountfitted_aged[i]),len(sessionAcountfitted_MA[i]), len(sessionAcountfitted_young[i]))\n",
    "    \n",
    "    print('\\nn aged, MA, young mice on day ' + str(i + 1) + ' for B')\n",
    "    print(len(sessionBcountfitted_aged[i]),len(sessionBcountfitted_MA[i]), len(sessionBcountfitted_young[i]))\n",
    "    \n",
    "    ax[0].scatter(sessionAcountfitted_aged[i] + 0.1, slocstab5Afitted_seg_aged[i], s = 5, alpha = 0.4, c = 'C1', edgecolor = 'none')\n",
    "    ax[0].scatter(sessionAcountfitted_MA[i], slocstab5Afitted_seg_MA[i], s = 5, alpha = 0.4, c = 'C2', edgecolor = 'none')\n",
    "    ax[0].scatter(sessionAcountfitted_young[i] - 0.1, slocstab5Afitted_seg_young[i], s = 5, alpha = 0.4, c = 'C0', edgecolor = 'none')\n",
    "    \n",
    "    ax[1].scatter(sessionBcountfitted_aged[i] + 0.1, slocstab5Bfitted_seg_aged[i], s = 5, alpha = 0.4, c = 'C1', edgecolor = 'none')\n",
    "    ax[1].scatter(sessionBcountfitted_MA[i], slocstab5Bfitted_seg_MA[i], s = 5, alpha = 0.4, c = 'C2', edgecolor = 'none')\n",
    "    ax[1].scatter(sessionBcountfitted_young[i] - 0.1, slocstab5Bfitted_seg_young[i], s = 5, alpha = 0.4, c = 'C0', edgecolor = 'none')\n",
    "\n",
    "#ax[0].legend(loc = 4, fontsize = 9)\n",
    "plt.savefig(save_folder + 'ReviewerFigure6E.png', dpi=400, bbox_inches='tight')\n",
    "plt.savefig(save_folder + 'ReviewerFigure6E.svg', dpi=400, bbox_inches='tight')\n",
    "plt.show()"
   ]
  },
  {
   "cell_type": "code",
   "execution_count": null,
   "id": "6a271811",
   "metadata": {},
   "outputs": [],
   "source": [
    "''' Find where I will have NaNs'''\n",
    "nan_idxgrid = np.where((spergrid == 0))[0]\n",
    "nan_idxngs = np.where((sperngs == 0))[0]\n",
    "print(nan_idxgrid, nan_idxngs)\n",
    "print(len(col_session[0]),len(col_session[1]),len(col_session[2]))\n",
    "\n",
    "# Adjust y_sind, ma_sind, age_sind for subsequent plots\n",
    "y_sindgrid = np.setdiff1d(y_sind, nan_idxgrid)\n",
    "ma_sindgrid = np.setdiff1d(ma_sind, nan_idxgrid)\n",
    "age_sindgrid = np.setdiff1d(age_sind, nan_idxgrid)\n",
    "\n",
    "y_sindngs = np.setdiff1d(y_sind, nan_idxngs)\n",
    "ma_sindngs = np.setdiff1d(ma_sind, nan_idxngs)\n",
    "age_sindngs = np.setdiff1d(age_sind, nan_idxngs)\n",
    "\n",
    "# Adjust colormaps for grid plots\n",
    "yidx = []\n",
    "maidx = []\n",
    "aidx = []\n",
    "for i in nan_idxgrid:\n",
    "    yidx = np.append(yidx, np.where(y_sind == i)[0].astype(int))\n",
    "    maidx = np.append(maidx, np.where(ma_sind == i)[0].astype(int))\n",
    "    aidx = np.append(aidx, np.where(age_sind == i)[0].astype(int)) \n",
    "\n",
    "col_session_younggrid = np.delete(col_session_young, list(yidx.astype(int)), axis = 0)\n",
    "col_session_magrid = np.delete(col_session_MA, list(maidx.astype(int)), axis = 0)\n",
    "col_session_oldgrid = np.delete(col_session_old, list(aidx.astype(int)), axis = 0)\n",
    "col_sessiongrid = [col_session_younggrid, col_session_magrid, col_session_oldgrid] \n",
    "\n",
    "# Adjust colormaps for ngs plots\n",
    "yidx = []\n",
    "maidx = []\n",
    "aidx = []\n",
    "for i in nan_idxngs:\n",
    "    yidx = np.append(yidx, np.where(y_sind == i)[0].astype(int))\n",
    "    maidx = np.append(maidx, np.where(y_sind == i)[0].astype(int))\n",
    "    aidx = np.append(aidx, np.where(age_sind == i)[0].astype(int))\n",
    "\n",
    "col_session_youngngs = np.delete(col_session_young, list(yidx), axis = 0)\n",
    "col_session_mangs = np.delete(col_session_MA, list(maidx), axis = 0)\n",
    "col_session_oldngs = np.delete(col_session_old, list(aidx), axis = 0)\n",
    "col_sessionngs = [col_session_youngngs, col_session_mangs, col_session_oldngs] \n",
    "\n",
    "print(len(col_session_younggrid),len(col_session_youngngs))\n",
    "print(len(col_session_magrid),len(col_session_mangs))\n",
    "print(len(col_session_oldgrid),len(col_session_oldngs))\n",
    "\n",
    "# This will fix session stats & box plots are plotted."
   ]
  },
  {
   "cell_type": "code",
   "execution_count": null,
   "id": "ef00a206",
   "metadata": {},
   "outputs": [],
   "source": [
    "''' Plot Reviewer Figure 6G '''\n",
    "allidx = np.concatenate((y_sindngs, ma_sindngs, age_sindngs))\n",
    "\n",
    "#Linear regression with block data only\n",
    "res = stats.linregress(slocstab5block[y_sindngs],reqblock_rates[y_sindngs])\n",
    "yslope1 = res.slope; yint1 = res.intercept; yr1 = res.rvalue; yp1 = res.pvalue\n",
    "\n",
    "res = stats.linregress(slocstab5block[ma_sindngs],reqblock_rates[ma_sindngs])\n",
    "maslope1 = res.slope; maint1 = res.intercept; mar1 = res.rvalue ; map1 = res.pvalue\n",
    "\n",
    "res = stats.linregress(slocstab5block[age_sindngs],reqblock_rates[age_sindngs])\n",
    "aslope1 = res.slope; aint1 = res.intercept; ar1 = res.rvalue ; ap1 = res.pvalue\n",
    "\n",
    "res = stats.linregress(slocstab5block[~np.isnan(slocstab5block)],reqblock_rates[~np.isnan(slocstab5block)])\n",
    "allslope1 = res.slope; allint1 = res.intercept; allr1 = res.rvalue; allp1 = res.pvalue\n",
    "\n",
    "print('\\nAssociation btwn Young, MA, Aged, & All (Block) Performance & Variable of Interest:')\n",
    "print('R [Young, MA, Aged, All]: ')\n",
    "print(yr1, mar1, ar1, allr1)\n",
    "print('P [Young, MA, Aged, All]: ')\n",
    "print(yp1, map1, ap1, allp1)\n",
    "\n",
    "#Linear regression with alt data only\n",
    "res = stats.linregress(slocstab5alt[y_sindngs],reqalt_rates[y_sindngs])\n",
    "yslope2 = res.slope; yint2 = res.intercept; yr2 = res.rvalue; yp2 = res.pvalue\n",
    "\n",
    "res = stats.linregress(slocstab5alt[ma_sindngs],reqalt_rates[ma_sindngs])\n",
    "maslope2 = res.slope; maint2 = res.intercept; mar2 = res.rvalue ; map2 = res.pvalue\n",
    "\n",
    "res = stats.linregress(slocstab5alt[age_sindngs],reqalt_rates[age_sindngs])\n",
    "aslope2 = res.slope; aint2 = res.intercept; ar2 = res.rvalue ; ap2 = res.pvalue\n",
    "\n",
    "res = stats.linregress(slocstab5alt[~np.isnan(slocstab5alt)],reqalt_rates[~np.isnan(slocstab5alt)])\n",
    "allslope2 = res.slope; allint2 = res.intercept; allr2 = res.rvalue; allp2 = res.pvalue\n",
    "\n",
    "print('\\nAssociation btwn Young, MA, Aged, & All (Alt.) Performance & Variable of Interest:')\n",
    "print('R [Young, MA, Aged, All]: ')\n",
    "print(yr2, mar2, ar2, allr2)\n",
    "print('P [Young, MA, Aged, All]: ')\n",
    "print(yp2, map2, ap2, allp2)\n",
    "\n",
    "#Linear regression with block & alt data together\n",
    "res = stats.linregress(np.hstack((slocstab5block[y_sindngs],slocstab5alt[y_sindngs])),np.hstack((reqblock_rates[y_sindngs],reqalt_rates[y_sindngs])))\n",
    "yslope3 = res.slope; yint3 = res.intercept; yr3 = res.rvalue; yp3 = res.pvalue\n",
    "\n",
    "res = stats.linregress(np.hstack((slocstab5block[ma_sindngs],slocstab5alt[ma_sindngs])),np.hstack((reqblock_rates[ma_sindngs],reqalt_rates[ma_sindngs])))\n",
    "maslope3 = res.slope; maint3 = res.intercept; mar3 = res.rvalue ; map3 = res.pvalue\n",
    "\n",
    "res = stats.linregress(np.hstack((slocstab5block[age_sindngs],slocstab5alt[age_sindngs])),np.hstack((reqblock_rates[age_sindngs],reqalt_rates[age_sindngs])))\n",
    "aslope3 = res.slope; aint3 = res.intercept; ar3 = res.rvalue ; ap3 = res.pvalue\n",
    "\n",
    "allidx = np.concatenate((y_sindngs, ma_sindngs, age_sindngs))\n",
    "res = stats.linregress(np.hstack((slocstab5block[allidx],slocstab5alt[allidx])),np.hstack((reqblock_rates[allidx],reqalt_rates[allidx])))\n",
    "allslope3 = res.slope; allint3 = res.intercept; allr3 = res.rvalue; allp3 = res.pvalue\n",
    "\n",
    "print('\\nAssociation btwn Young, MA, Aged, & All (Block + Alt) Performance & Variable of Interest:')\n",
    "print('R [Young, MA, Aged, All]: ')\n",
    "print(yr3, mar3, ar3, allr3)\n",
    "print('P [Young, MA, Aged, All]: ')\n",
    "print(yp3, map3, ap3, allp3)\n",
    "\n",
    "print('\\nn session halves: young, ma, aged')\n",
    "print(len(y_sindngs)*2,len(ma_sindngs)*2,len(age_sindngs)*2)\n",
    "\n",
    "#Plot Stability over All Sessions by Age Group with Block & Alt Phases\n",
    "fig, ax = plt.subplots(figsize = (2.5,1.05))\n",
    "fig.suptitle('Young Sessions', fontsize = 10)\n",
    "ax.scatter(slocstab5alt[y_sindngs],reqalt_rates[y_sindngs], color = 'C0', s = 10)\n",
    "ax.scatter(slocstab5block[y_sindngs],reqblock_rates[y_sindngs], color = 'C0', s = 10, edgecolor = 'k', lw = 0.5)\n",
    "ax.set_xlabel('Mean Stability', fontsize = 9)\n",
    "ax.set_ylabel('Frac. Requested', fontsize = 9)\n",
    "ax.set_ylim([-0.1,1.1])\n",
    "ax.set_xlim([0,1])\n",
    "ax.set_xticks([0,0.2,0.4,0.6,0.8,1])\n",
    "ax.tick_params(labelsize = 8)\n",
    "X_plot = np.linspace(ax.get_xlim()[0],ax.get_xlim()[1],100)\n",
    "ax.plot(X_plot, yslope2*X_plot + yint2, '-', color = 'C0', linewidth = 0.75, label = 'Alt. Only')\n",
    "ax.plot(X_plot, yslope3*X_plot + yint3, '-', linewidth = 0.75, color = 'k', label = 'Block & Alt.')\n",
    "ax.legend(fontsize = 8)\n",
    "plt.savefig(save_folder + 'ReviewerFigure6Gleft.png', dpi = 400, bbox_inches = 'tight')\n",
    "plt.savefig(save_folder + 'ReviewerFigure6Gleft.svg', dpi = 400, bbox_inches = 'tight')\n",
    "plt.show()\n",
    "\n",
    "fig, ax = plt.subplots(figsize = (2.5,1.05))\n",
    "fig.suptitle('MA Sessions', fontsize = 10)\n",
    "ax.scatter(slocstab5alt[ma_sindngs],reqalt_rates[ma_sindngs], color = 'C2', s = 10)\n",
    "ax.scatter(slocstab5block[ma_sindngs],reqblock_rates[ma_sindngs], color = 'C2', s = 10, edgecolor = 'k', lw = 0.5)\n",
    "ax.set_xlabel('Mean Stability', fontsize = 9)\n",
    "ax.set_ylabel('Frac. Requested', fontsize = 9)\n",
    "ax.set_ylim([-0.1,1.1])\n",
    "ax.set_xlim([0,1.0])\n",
    "ax.set_xticks([0,0.2,0.4,0.6,0.8,1])\n",
    "ax.tick_params(labelsize = 8)\n",
    "X_plot = np.linspace(ax.get_xlim()[0],ax.get_xlim()[1],100)\n",
    "ax.plot(X_plot, maslope2*X_plot + maint2, '-', color = 'C2', linewidth = 0.75, label = 'Alt. Only')\n",
    "ax.plot(X_plot, maslope3*X_plot + maint3, '-', linewidth = 0.75, color = 'k', label = 'Block & Alt.')\n",
    "ax.legend(fontsize = 8)\n",
    "plt.savefig(save_folder + 'ReviewerFigure6Gmiddle.png', dpi = 400, bbox_inches = 'tight')\n",
    "plt.savefig(save_folder + 'ReviewerFigure6Gmiddle.svg', dpi = 400, bbox_inches = 'tight')\n",
    "plt.show()\n",
    "\n",
    "fig, ax = plt.subplots(figsize = (2.5,1.05))\n",
    "fig.suptitle('Aged Sessions', fontsize = 10)\n",
    "ax.scatter(slocstab5alt[age_sindngs],reqalt_rates[age_sindngs], color = 'C1', s = 10)\n",
    "ax.scatter(slocstab5block[age_sindngs],reqblock_rates[age_sindngs], color = 'C1', s = 10, edgecolor = 'k', lw = 0.5)\n",
    "ax.set_xlabel('Mean Stability', fontsize = 9)\n",
    "ax.set_ylabel('Frac. Requested', fontsize = 9)\n",
    "ax.set_ylim([-0.1,1.1])\n",
    "ax.set_xlim([0,1])\n",
    "ax.set_xticks([0,0.2,0.4,0.6,0.8,1])\n",
    "ax.tick_params(labelsize = 8)\n",
    "X_plot = np.linspace(ax.get_xlim()[0],ax.get_xlim()[1],100)\n",
    "ax.plot(X_plot, aslope2*X_plot + aint2, '-', linewidth = 0.75, color = 'C1', label = 'Alt. Only')\n",
    "ax.plot(X_plot, aslope3*X_plot + aint3, '-', linewidth = 0.75, color = 'k', label = 'Block & Alt.')\n",
    "ax.legend(fontsize = 8,)\n",
    "plt.savefig(save_folder + 'ReviewerFigure6Gright.png', dpi = 400, bbox_inches = 'tight')\n",
    "plt.savefig(save_folder + 'ReviewerFigure6Gright.svg', dpi = 400, bbox_inches = 'tight')\n",
    "plt.show()"
   ]
  },
  {
   "cell_type": "code",
   "execution_count": null,
   "id": "8368ccea",
   "metadata": {
    "scrolled": true
   },
   "outputs": [],
   "source": [
    "''' Find Context Match / Mismatch Similarity Ratio '''\n",
    "\n",
    "sABratio = []\n",
    "sA_B_ratio = []\n",
    "sAB_ratio = []\n",
    "\n",
    "yABratio = []\n",
    "yA_B_ratio = []\n",
    "yAB_ratio = []\n",
    "maABratio = []\n",
    "maA_B_ratio = []\n",
    "maAB_ratio = []\n",
    "aABratio = []\n",
    "aA_B_ratio = []\n",
    "aAB_ratio = []\n",
    "\n",
    "for m, session in zip(mice, sessions):\n",
    "\n",
    "    for s in tdqm(session):\n",
    "        d = data[m][s]\n",
    "        \n",
    "        #get some data & cell IDs\n",
    "        rawdata_file = 'RAW_' + m + '_' + s + '.npy'\n",
    "        behavior_file = 'BEHAVIOR_' + m + '_' + s + '.npy'\n",
    "        raw = np.load(load_folder + rawdata_file, allow_pickle=True)\n",
    "        behaviorfil = np.load(load_folder + behavior_file, allow_pickle=False)\n",
    "        cell_IDs = raw.item().get('cellsfil')\n",
    "        ngscell = d['ngscell'].astype(bool)\n",
    "        ngscells = cell_IDs[ngscell]     \n",
    "        trial = behaviorfil[:,2]\n",
    "        \n",
    "        #save the context lengths\n",
    "        Aidx = d['Aidx']\n",
    "        lengthA = len(np.unique(trial[Aidx]))\n",
    "        Bidx = d['Bidx'] \n",
    "        lengthB = len(np.unique(trial[Bidx]))\n",
    "        a_idx = d['A_idx'] \n",
    "        lengtha_= len(np.unique(trial[a_idx]))\n",
    "        A_idx = d['A_ngidx'] \n",
    "        lengthA_= len(np.unique(trial[A_idx]))\n",
    "        B_idx = d['B_ngidx']\n",
    "        lengthB_= len(np.unique(trial[B_idx]))\n",
    "        \n",
    "        nB = lengthA + lengthB\n",
    "        nA_ = lengthA + lengthB + lengthA_\n",
    "        na_ = lengthA + lengthB + lengtha_\n",
    "        nB_ = lengthA + lengthB + lengtha_ + lengthB_\n",
    "        \n",
    "        allngssim = d['allngssim']\n",
    "        ABratio = []\n",
    "        A_B_ratio = []\n",
    "        AB_ratio = []\n",
    "        for i, c in enumerate(ngscells):\n",
    "            sim = allngssim[:,:,i]\n",
    "            sim = (sim - np.min(sim)) / (np.max(sim) - np.min(sim))\n",
    "            \n",
    "            #average block context-matched (A x A + B x A), average block context-mismatched (B x A)\n",
    "            sumcm = (np.sum(sim[:lengthA, :lengthA]) - lengthA)/2 + (np.sum(sim[lengthA:nB, lengthA:nB]) - lengthB)/2\n",
    "            meancm = sumcm  / ((lengthA**2 - lengthA)/2 + (lengthB**2 - lengthB)/2)\n",
    "            meancmm = np.average(sim[lengthA:nB,:lengthA])\n",
    "            if (meancmm != 0): \n",
    "                ABratio = np.append(ABratio, meancm / meancmm)\n",
    "            else: \n",
    "                ABratio = np.append(ABratio, np.nan)\n",
    "            \n",
    "            #alt context-matched (A' x A' + B' x B'), alt context-mismatched (B' x A')\n",
    "            sumcm = (np.sum(sim[nB:nA_, nB:nA_]) - lengthA_)/2 + (np.sum(sim[na_:nB_, na_:nB_]) - lengthB_)/2\n",
    "            meancm = sumcm  / ((lengthA_**2 - lengthA_)/2 + (lengthB_**2 - lengthB_)/2)\n",
    "            meancmm = np.average(sim[na_:nB_,nB:nA_])\n",
    "            if (meancmm != 0):\n",
    "                A_B_ratio = np.append(A_B_ratio, meancm / meancmm)\n",
    "            else:\n",
    "                A_B_ratio = np.append(A_B_ratio, np.nan)\n",
    "            \n",
    "            #alt context-matched (A' x A + B' x B) & alt context-mismatched (B' x A + A' x B)\n",
    "            meancm = np.mean(np.concatenate((sim[nB:nA_,:lengthA].flatten(), sim[na_:nB_,lengthA:nB].flatten())))\n",
    "            meancmm = np.mean(np.concatenate((sim[na_:nB_,:lengthA].flatten(), sim[nB:nA_,lengthA:nB].flatten())))\n",
    "            if (meancmm != 0):\n",
    "                AB_ratio = np.append(AB_ratio, meancm / meancmm)\n",
    "            else:\n",
    "                AB_ratio = np.append(AB_ratio, np.nan)\n",
    "        \n",
    "        sABratio= np.append(sABratio, np.nanmean(ABratio))\n",
    "        sA_B_ratio = np.append(sA_B_ratio, np.nanmean(A_B_ratio))\n",
    "        sAB_ratio = np.append(sAB_ratio, np.nanmean(AB_ratio))\n",
    "\n",
    "        if m in SM_aged_mice:\n",
    "            aABratio = np.append(aABratio, ABratio)\n",
    "            aA_B_ratio = np.append(aA_B_ratio, A_B_ratio)\n",
    "            aAB_ratio = np.append(aAB_ratio, AB_ratio)\n",
    "        elif m in SM_MA_mice:\n",
    "            maABratio = np.append(maABratio, ABratio)\n",
    "            maA_B_ratio = np.append(maA_B_ratio, A_B_ratio)\n",
    "            maAB_ratio = np.append(maAB_ratio, AB_ratio)\n",
    "        else:\n",
    "            yABratio = np.append(yABratio, ABratio)\n",
    "            yA_B_ratio = np.append(yA_B_ratio, A_B_ratio)\n",
    "            yAB_ratio = np.append(yAB_ratio, AB_ratio)"
   ]
  },
  {
   "cell_type": "code",
   "execution_count": null,
   "id": "3795f9c7",
   "metadata": {
    "scrolled": false
   },
   "outputs": [],
   "source": [
    "''' LMMs for Similarity Ratios '''        \n",
    "#gather dependent variables into lists\n",
    "ABratio = list(np.concatenate((aABratio, maABratio, yABratio)))\n",
    "A_B_ratio = list(np.concatenate((aA_B_ratio, maA_B_ratio, yA_B_ratio)))\n",
    "AB_ratio = list(np.concatenate((aAB_ratio, maAB_ratio, yAB_ratio)))\n",
    "\n",
    "tuples = list(zip(Animal_ID, Session, Cell_ID, Sex, Age_Group, Cohort, ABratio, A_B_ratio, AB_ratio))\n",
    "tuples\n",
    "df = pd.DataFrame(tuples, columns = ['AnimalID', 'Session','Cell_ID','Sex', 'AgeGroup', 'Cohort','ABratio','A_B_ratio','AB_ratio'])\n",
    "\n",
    "#handle NaNs\n",
    "df = df.dropna(axis = 0)\n",
    "\n",
    "# ABratio Dependent\n",
    "vc = {'cells':'0 + C(Cell_ID)'}\n",
    "mAB = smf.mixedlm('ABratio ~ 1 + C(AgeGroup) + C(Sex) + C(Cohort) + Session:C(AgeGroup)', groups = 'AnimalID', re_formula = '1', vc_formula = vc,\n",
    "                     data=df).fit(reml= True)\n",
    "print(mAB.summary())\n",
    "print(mAB.wald_test_terms(scalar = False))\n",
    "\n",
    "#plot residuals\n",
    "df['resid'] = mAB.resid\n",
    "fig, ax = plt.subplots(figsize = (12,3))\n",
    "sns.violinplot(data = df, x = 'AnimalID', y = 'resid', inner = 'quartile', ax = ax)\n",
    "plt.title('AB Ratio Similarity Residuals')\n",
    "plt.show()\n",
    "\n",
    "# A_B_ratio Dependent\n",
    "vc = {'cells':'0 + C(Cell_ID)'}\n",
    "mA_B_ = smf.mixedlm('A_B_ratio ~ 1 + C(AgeGroup) + C(Sex) + C(Cohort) + Session:C(AgeGroup)', groups = 'AnimalID', re_formula = '1', vc_formula = vc,\n",
    "                     data=df).fit(reml= True)\n",
    "print(mA_B_.summary())\n",
    "print(mA_B_.wald_test_terms(scalar = False))\n",
    "\n",
    "df['resid'] = mA_B_.resid\n",
    "fig, ax = plt.subplots(figsize = (12,3))\n",
    "sns.violinplot(data = df, x = 'AnimalID', y = 'resid', inner = 'quartile', ax = ax)\n",
    "plt.title('A_B_ Ratio Similarity Residuals')\n",
    "plt.show()\n",
    "\n",
    "# AB_ratio Dependent\n",
    "vc = {'cells':'0 + C(Cell_ID)'}\n",
    "mAB_ = smf.mixedlm('AB_ratio ~ 1 + C(AgeGroup) + C(Sex) + C(Cohort) + Session:C(AgeGroup)', groups = 'AnimalID', re_formula = '1', vc_formula = vc,\n",
    "                     data=df).fit(reml= True)\n",
    "print(mAB_.summary())\n",
    "print(mAB_.wald_test_terms(scalar = False))\n",
    "\n",
    "df['resid'] = mAB_.resid\n",
    "fig, ax = plt.subplots(figsize = (12,3))\n",
    "sns.violinplot(data = df, x = 'AnimalID', y = 'resid', inner = 'quartile', ax = ax)\n",
    "plt.title('AB_ Ratio Similarity Residuals')\n",
    "plt.show()"
   ]
  },
  {
   "cell_type": "code",
   "execution_count": null,
   "id": "33be835e",
   "metadata": {},
   "outputs": [],
   "source": [
    "''' Get fitted block vs. alt (not split by epoch) session averages '''\n",
    "\n",
    "r = 6 #sessions\n",
    "\n",
    "df['mABfitted'] = mAB.fittedvalues\n",
    "df['mAB_fitted'] = mAB_.fittedvalues\n",
    "\n",
    "resultA = df.groupby(by = ['AnimalID','Session'], as_index = False)['mABfitted'].aggregate('mean')\n",
    "seshAanimal = np.asarray(resultA['AnimalID'])\n",
    "seshAcount = np.asarray(resultA['Session'])\n",
    "seshAmean = np.asarray(resultA['mABfitted'])\n",
    "\n",
    "resultB = df.groupby(by = ['AnimalID','Session'], as_index = False)['mAB_fitted'].aggregate('mean')\n",
    "seshBanimal = np.asarray(resultB['AnimalID'])\n",
    "seshBcount = np.asarray(resultB['Session'])\n",
    "seshBmean = np.asarray(resultB['mAB_fitted'])\n",
    "\n",
    "slocstab5Afitted_seg_aged = [[] * r for i in range(r)]\n",
    "slocstab5Afitted_seg_MA = [[] * r for i in range(r)]\n",
    "slocstab5Afitted_seg_young = [[] * r for i in range(r)]\n",
    "slocstab5Bfitted_seg_aged = [[] * r for i in range(r)]\n",
    "slocstab5Bfitted_seg_MA = [[] * r for i in range(r)]\n",
    "slocstab5Bfitted_seg_young = [[] * r for i in range(r)]\n",
    "\n",
    "sessionAcountfitted_aged = [[] * r for i in range(r)]\n",
    "sessionAcountfitted_MA = [[] * r for i in range(r)]\n",
    "sessionAcountfitted_young = [[] * r for i in range(r)]\n",
    "sessionBcountfitted_aged = [[] * r for i in range(r)]\n",
    "sessionBcountfitted_MA = [[] * r for i in range(r)]\n",
    "sessionBcountfitted_young = [[] * r for i in range(r)]\n",
    "\n",
    "for m, session in zip(mice, sessions): \n",
    "    \n",
    "    animalidx = np.where(seshAanimal == m)[0][0]\n",
    "    sessiona_idx = np.where(seshAanimal == m)[0]\n",
    "    sessionb_idx = np.where(seshBanimal == m)[0]\n",
    "\n",
    "    if m in SM_aged_mice:\n",
    "        for i, c in enumerate(seshAcount[sessiona_idx]):\n",
    "            idx = c.astype(int) - 1\n",
    "            slocstab5Afitted_seg_aged[idx] = np.append(slocstab5Afitted_seg_aged[idx],seshAmean[sessiona_idx][i])\n",
    "            sessionAcountfitted_aged[idx] = np.append(sessionAcountfitted_aged[idx], c - 1)\n",
    "            \n",
    "        for i, c in enumerate(seshBcount[sessionb_idx]):\n",
    "            idx = c.astype(int) - 1 \n",
    "            slocstab5Bfitted_seg_aged[idx] = np.append(slocstab5Bfitted_seg_aged[idx],seshBmean[sessionb_idx][i])\n",
    "            sessionBcountfitted_aged[idx] = np.append(sessionBcountfitted_aged[idx], c - 1)    \n",
    "        \n",
    "    elif m in SM_MA_mice:\n",
    "        for i, c in enumerate(seshAcount[sessiona_idx]):\n",
    "            idx = c.astype(int) - 1\n",
    "            slocstab5Afitted_seg_MA[idx] = np.append(slocstab5Afitted_seg_MA[idx],seshAmean[sessiona_idx][i])\n",
    "            sessionAcountfitted_MA[idx] = np.append(sessionAcountfitted_MA[idx], c - 1)\n",
    "            \n",
    "        for i, c in enumerate(seshBcount[sessionb_idx]):\n",
    "            idx = c.astype(int) - 1\n",
    "            slocstab5Bfitted_seg_MA[idx] = np.append(slocstab5Bfitted_seg_MA[idx],seshBmean[sessionb_idx][i])\n",
    "            sessionBcountfitted_MA[idx] = np.append(sessionBcountfitted_MA[idx], c - 1)   \n",
    "    else:\n",
    "        for i, c in enumerate(seshAcount[sessiona_idx]):\n",
    "            idx = c.astype(int) - 1\n",
    "            slocstab5Afitted_seg_young[idx] = np.append(slocstab5Afitted_seg_young[idx],seshAmean[sessiona_idx][i])\n",
    "            sessionAcountfitted_young[idx] = np.append(sessionAcountfitted_young[idx], c - 1)\n",
    "            \n",
    "        for i, c in enumerate(seshBcount[sessionb_idx]):\n",
    "            idx = c.astype(int) - 1\n",
    "            slocstab5Bfitted_seg_young[idx] = np.append(slocstab5Bfitted_seg_young[idx],seshBmean[sessionb_idx][i])\n",
    "            sessionBcountfitted_young[idx] = np.append(sessionBcountfitted_young[idx], c - 1)   "
   ]
  },
  {
   "cell_type": "code",
   "execution_count": null,
   "id": "d645402b",
   "metadata": {},
   "outputs": [],
   "source": [
    "'''Plot Reviewer Figure 6F '''\n",
    "\n",
    "f, ax = plt.subplots(1, 2, figsize=(4, 1.5), sharey = False)\n",
    "\n",
    "g = sns.pointplot(x = df['Session'], y = mAB.fittedvalues, hue = df['AgeGroup'], hue_order = hue_order, ax = ax[0], scale = 0.5)\n",
    "ax[0].set_xticks([0,1,2,3,4,5])\n",
    "ax[0].set_xticklabels([1,2,3,4,5,6])\n",
    "ax[0].set_xlim([-0.5,5.5])\n",
    "ax[0].set_yticks([1,1.4,1.8,2.2])\n",
    "ax[0].set_ylim([0.975,2.2])\n",
    "ax[0].tick_params(labelsize = 8)\n",
    "ax[0].set_ylabel('Mean Similarity Ratio', fontsize=9, labelpad=1)\n",
    "ax[0].set_xlabel('Session', fontsize=9, labelpad=1)\n",
    "g.legend_.remove()\n",
    "\n",
    "g1 = sns.pointplot(x = df['Session'], y = mAB_.fittedvalues, hue = df['AgeGroup'], hue_order = hue_order, ax = ax[1], scale = 0.5)\n",
    "ax[1].set_xticks([0,1,2,3,4,5])\n",
    "ax[1].set_xticklabels([1,2,3,4,5,6])\n",
    "ax[1].set_xlim([-0.5,5.5])\n",
    "ax[1].set_yticks([1,1.1,1.2,1.3,1.4])\n",
    "ax[1].set_ylim([0.975,1.4])\n",
    "ax[1].set_xlabel('Session', fontsize=9, labelpad=1)\n",
    "ax[1].tick_params(labelsize = 8)\n",
    "g1.legend_.remove()\n",
    "\n",
    "for l in g.lines:\n",
    "    plt.setp(l,linewidth = 0.75)\n",
    "    \n",
    "for l in g1.lines:\n",
    "    plt.setp(l,linewidth = 0.75)\n",
    "\n",
    "#scatter plot actual raw data:\n",
    "for i in range(0,len(slocstab5Afitted_seg_aged)):\n",
    "    print('\\nn aged, MA, young mice on day ' + str(i + 1) + ' for block ratio')\n",
    "    print(len(sessionAcountfitted_aged[i]),len(sessionAcountfitted_MA[i]), len(sessionAcountfitted_young[i]))\n",
    "    \n",
    "    print('\\nn aged, MA, young mice on day ' + str(i + 1) + ' for alt ratio')\n",
    "    print(len(sessionBcountfitted_aged[i]),len(sessionBcountfitted_MA[i]), len(sessionBcountfitted_young[i]))\n",
    "    \n",
    "    ax[0].scatter(sessionAcountfitted_aged[i] + 0.1, slocstab5Afitted_seg_aged[i], s = 5, alpha = 0.4, c = 'C1', edgecolor = 'none')\n",
    "    ax[0].scatter(sessionAcountfitted_MA[i], slocstab5Afitted_seg_MA[i], s = 5, alpha = 0.4, c = 'C2', edgecolor = 'none')\n",
    "    ax[0].scatter(sessionAcountfitted_young[i] - 0.1, slocstab5Afitted_seg_young[i], s = 5, alpha = 0.4, c = 'C0', edgecolor = 'none')\n",
    "    \n",
    "    ax[1].scatter(sessionBcountfitted_aged[i] + 0.1, slocstab5Bfitted_seg_aged[i], s = 5, alpha = 0.4, c = 'C1', edgecolor = 'none')\n",
    "    ax[1].scatter(sessionBcountfitted_MA[i], slocstab5Bfitted_seg_MA[i], s = 5, alpha = 0.4, c = 'C2', edgecolor = 'none')\n",
    "    ax[1].scatter(sessionBcountfitted_young[i] - 0.1, slocstab5Bfitted_seg_young[i], s = 5, alpha = 0.4, c = 'C0', edgecolor = 'none')\n",
    "\n",
    "#ax[0].legend(loc = 4, fontsize = 9)\n",
    "plt.savefig(save_folder + 'ReviewerFigure6F.png', dpi=400, bbox_inches='tight')\n",
    "plt.savefig(save_folder + 'ReviewerFigure6F.svg', dpi=400, bbox_inches='tight')\n",
    "plt.show()"
   ]
  },
  {
   "cell_type": "code",
   "execution_count": null,
   "id": "a1ce04b0",
   "metadata": {},
   "outputs": [],
   "source": [
    "''' Plot Reviewer Figure 6H '''\n",
    "allidx = np.concatenate((y_sindngs, ma_sindngs, age_sindngs))\n",
    "\n",
    "#Linear regression with block data only\n",
    "res = stats.linregress(sABratio[y_sindngs],reqblock_rates[y_sindngs])\n",
    "yslope1 = res.slope; yint1 = res.intercept; yr1 = res.rvalue; yp1 = res.pvalue\n",
    "\n",
    "res = stats.linregress(sABratio[ma_sindngs],reqblock_rates[ma_sindngs])\n",
    "maslope1 = res.slope; maint1 = res.intercept; mar1 = res.rvalue ; map1 = res.pvalue\n",
    "\n",
    "res = stats.linregress(sABratio[age_sindngs],reqblock_rates[age_sindngs])\n",
    "aslope1 = res.slope; aint1 = res.intercept; ar1 = res.rvalue; ap1 = res.pvalue\n",
    "\n",
    "res = stats.linregress(sABratio[allidx],reqblock_rates[allidx])\n",
    "allslope1 = res.slope; allint1 = res.intercept; allr1 = res.rvalue; allp1 = res.pvalue\n",
    "\n",
    "print('\\nAssociation btwn Young, MA, Aged, & All (Block) Performance & Variable of Interest:')\n",
    "print('R [Young, MA, Aged, All]: ')\n",
    "print(yr1, mar1, ar1, allr1)\n",
    "print('P [Young, MA, Aged, All]: ')\n",
    "print(yp1, map1, ap1, allp1)\n",
    "\n",
    "#Linear regression with alt data only\n",
    "res = stats.linregress(sAB_ratio[y_sindngs],reqalt_rates[y_sindngs])\n",
    "yslope2 = res.slope; yint2 = res.intercept; yr2 = res.rvalue; yp2 = res.pvalue\n",
    "\n",
    "res = stats.linregress(sAB_ratio[ma_sindngs],reqalt_rates[ma_sindngs])\n",
    "maslope2 = res.slope; maint2 = res.intercept; mar2 = res.rvalue ; map2 = res.pvalue\n",
    "\n",
    "res = stats.linregress(sAB_ratio[age_sindngs],reqalt_rates[age_sindngs])\n",
    "aslope2 = res.slope; aint2 = res.intercept; ar2 = res.rvalue ; ap2 = res.pvalue\n",
    "\n",
    "res = stats.linregress(sAB_ratio[allidx],reqalt_rates[allidx])\n",
    "allslope2 = res.slope; allint2 = res.intercept; allr2 = res.rvalue; allp2 = res.pvalue\n",
    "\n",
    "print('\\nAssociation btwn Young, MA, Aged, & All (Alt.) Performance & Variable of Interest:')\n",
    "print('R [Young, MA, Aged, All]: ')\n",
    "print(yr2, mar2, ar2, allr2)\n",
    "print('P [Young, MA, Aged, All]: ')\n",
    "print(yp2, map2, ap2, allp2)\n",
    "\n",
    "#Linear regression with block & alt data together\n",
    "res = stats.linregress(np.hstack((sABratio[y_sindngs],sAB_ratio[y_sindngs])),np.hstack((reqblock_rates[y_sindngs],reqalt_rates[y_sindngs])))\n",
    "yslope3 = res.slope; yint3 = res.intercept; yr3 = res.rvalue; yp3 = res.pvalue\n",
    "\n",
    "res = stats.linregress(np.hstack((sABratio[ma_sindngs],sAB_ratio[ma_sindngs])),np.hstack((reqblock_rates[ma_sindngs],reqalt_rates[ma_sindngs])))\n",
    "maslope3 = res.slope; maint3 = res.intercept; mar3 = res.rvalue; map3 = res.pvalue\n",
    "\n",
    "res = stats.linregress(np.hstack((sABratio[age_sindngs],sAB_ratio[age_sindngs])),np.hstack((reqblock_rates[age_sindngs],reqalt_rates[age_sindngs])))\n",
    "aslope3 = res.slope; aint3 = res.intercept; ar3 = res.rvalue; ap3 = res.pvalue\n",
    "\n",
    "res = stats.linregress(np.hstack((sABratio[allidx],sAB_ratio[allidx])),np.hstack((reqblock_rates[allidx],reqalt_rates[allidx])))\n",
    "allslope3 = res.slope; allint3 = res.intercept; allr3 = res.rvalue; allp3 = res.pvalue\n",
    "\n",
    "print('\\nAssociation btwn Young, MA, Aged, & All (Block + Alt) Performance & Variable of Interest:')\n",
    "print('R [Young, MA, Aged, All]: ')\n",
    "print(yr3, mar3, ar3, allr3)\n",
    "print('P [Young, MA, Aged, All]: ')\n",
    "print(yp3, map3, ap3, allp3)\n",
    "\n",
    "print('\\nn session halves: young, ma, aged')\n",
    "print(len(y_sindngs)*2,len(ma_sindngs)*2,len(age_sindngs)*2)\n",
    "\n",
    "#Plot Stability over All Sessions by Age Group with Block & Alt Phases\n",
    "fig, ax = plt.subplots(figsize = (2.5,1.05))\n",
    "fig.suptitle('Young Sessions', fontsize = 10)\n",
    "ax.scatter(sAB_ratio[y_sindngs],reqalt_rates[y_sindngs], color = 'C0', s = 10)\n",
    "ax.scatter(sABratio[y_sindngs],reqblock_rates[y_sindngs], color = 'C0', s = 10, edgecolor = 'k', lw = 0.5)\n",
    "ax.set_xlabel('Mean Similarity Ratio', fontsize = 9)\n",
    "ax.set_ylabel('Frac. Requested', fontsize = 9)\n",
    "ax.set_ylim([-0.1,1.1])\n",
    "ax.set_xlim([0.95,1.6])\n",
    "ax.set_xticks([1,1.2,1.4,1.6])\n",
    "ax.tick_params(labelsize = 8)\n",
    "X_plot = np.linspace(ax.get_xlim()[0],ax.get_xlim()[1],100)\n",
    "ax.plot(X_plot, yslope2*X_plot + yint2, '-', color = 'C0', linewidth = 0.75, label = 'Alt. Only')\n",
    "ax.plot(X_plot, yslope3*X_plot + yint3, '-', linewidth = 0.75, color = 'k', label = 'Block & Alt.')\n",
    "ax.legend(fontsize = 8)\n",
    "plt.savefig(save_folder + 'ReviewerFigure6Hleft.png', dpi = 400, bbox_inches = 'tight')\n",
    "plt.savefig(save_folder + 'ReviewerFigure6Hleft.svg', dpi = 400, bbox_inches = 'tight')\n",
    "plt.show()\n",
    "\n",
    "fig, ax = plt.subplots(figsize = (2.5,1.05))\n",
    "fig.suptitle('MA Sessions', fontsize = 10)\n",
    "ax.scatter(sAB_ratio[ma_sindngs],reqalt_rates[ma_sindngs], color = 'C2', s = 10)\n",
    "ax.scatter(sABratio[ma_sindngs],reqblock_rates[ma_sindngs], color = 'C2', s = 10, edgecolor = 'k', lw = 0.5)\n",
    "ax.set_xlabel('Mean Similarity Ratio', fontsize = 9)\n",
    "ax.set_ylabel('Frac. Requested', fontsize = 9)\n",
    "ax.set_ylim([-0.1,1.1])\n",
    "ax.set_xlim([0.95,2.6])\n",
    "ax.set_xticks([1,1.4,1.8,2.2,2.6])\n",
    "ax.tick_params(labelsize = 8)\n",
    "X_plot = np.linspace(ax.get_xlim()[0],ax.get_xlim()[1],100)\n",
    "ax.plot(X_plot, maslope2*X_plot + maint2, '-', color = 'C2', linewidth = 0.75, label = 'Alt. Only')\n",
    "ax.plot(X_plot, maslope3*X_plot + maint3, '-', linewidth = 0.75, color = 'k', label = 'Block & Alt.')\n",
    "ax.legend(fontsize = 8)\n",
    "plt.savefig(save_folder + 'ReviewerFigure6Hmiddle.png', dpi = 400, bbox_inches = 'tight')\n",
    "plt.savefig(save_folder + 'ReviewerFigure6Hmiddle.svg', dpi = 400, bbox_inches = 'tight')\n",
    "plt.show()\n",
    "\n",
    "fig, ax = plt.subplots(figsize = (2.5,1.05))\n",
    "fig.suptitle('Aged Sessions', fontsize = 10)\n",
    "ax.scatter(sAB_ratio[age_sindngs],reqalt_rates[age_sindngs], color = 'C1', s = 10)\n",
    "ax.scatter(sABratio[age_sindngs],reqblock_rates[age_sindngs], color = 'C1', s = 10, edgecolor = 'k', lw = 0.5)\n",
    "ax.set_xlabel('Mean Similarity Ratio', fontsize = 9)\n",
    "ax.set_ylabel('Frac. Requested', fontsize = 9)\n",
    "ax.set_ylim([-0.1,1.1])\n",
    "ax.set_xlim([0.95,1.6])\n",
    "ax.set_xticks([1,1.2,1.4,1.6])\n",
    "ax.tick_params(labelsize = 8)\n",
    "X_plot = np.linspace(ax.get_xlim()[0],ax.get_xlim()[1],100)\n",
    "ax.plot(X_plot, aslope2*X_plot + aint2, '-', linewidth = 0.75, color = 'C1', label = 'Alt. Only')\n",
    "ax.plot(X_plot, aslope3*X_plot + aint3, '-', linewidth = 0.75, color = 'k', label = 'Block & Alt.')\n",
    "ax.legend(fontsize = 8,)\n",
    "plt.savefig(save_folder + 'ReviewerFigure6Hright.png', dpi = 400, bbox_inches = 'tight')\n",
    "plt.savefig(save_folder + 'ReviewerFigure6Hright.svg', dpi = 400, bbox_inches = 'tight')\n",
    "plt.show()"
   ]
  },
  {
   "cell_type": "markdown",
   "id": "00f65ae3",
   "metadata": {},
   "source": [
    "# Setup for Reviewer Figure 6I-J"
   ]
  },
  {
   "cell_type": "code",
   "execution_count": null,
   "id": "c4f2f99d",
   "metadata": {},
   "outputs": [],
   "source": [
    "'''Define which mice & sessions to load'''\n",
    "mice = all_mice\n",
    "sessions = all_sessions\n",
    "    \n",
    "# Make a dict to hold data\n",
    "data = {}\n",
    "\n",
    "for session, m in zip(sessions, mice):\n",
    "    data[m] = {}\n",
    "    \n",
    "    for s in session:\n",
    "        data[m][s] = {}"
   ]
  },
  {
   "cell_type": "code",
   "execution_count": null,
   "id": "ef24ff24",
   "metadata": {},
   "outputs": [],
   "source": [
    "'''Get Indices of Stored Session, Animal Data Mice by Age Group'''\n",
    "age_ind = []\n",
    "ma_ind = []\n",
    "y_ind = []\n",
    "age_sind = []\n",
    "ma_sind = []\n",
    "y_sind = []\n",
    "\n",
    "s_count = 0\n",
    "for m, s in zip(mice, sessions):\n",
    "    start = s_count\n",
    "    end = len(s) + s_count\n",
    "\n",
    "    if m in all_aged_mice:\n",
    "        age_ind = np.append(age_ind, (np.where(mice == m)[0]))\n",
    "        age_sind = np.append(age_sind, np.arange(start, end, 1))\n",
    "    elif m in all_MA_mice:\n",
    "        ma_ind = np.append(ma_ind, (np.where(mice == m)[0]))\n",
    "        ma_sind = np.append(ma_sind, np.arange(start, end, 1))\n",
    "    else:\n",
    "        y_ind = np.append(y_ind, (np.where(mice == m)[0]))\n",
    "        y_sind = np.append(y_sind, np.arange(start, end, 1))\n",
    "                            \n",
    "    s_count += len(s)\n",
    "    \n",
    "age_ind = age_ind.astype(int)\n",
    "ma_ind = ma_ind.astype(int)\n",
    "y_ind = y_ind.astype(int)\n",
    "age_sind = age_sind.astype(int)\n",
    "ma_sind = ma_sind.astype(int)\n",
    "y_sind = y_sind.astype(int)"
   ]
  },
  {
   "cell_type": "code",
   "execution_count": null,
   "id": "6df39a90",
   "metadata": {},
   "outputs": [],
   "source": [
    "''' Define ColorMaps for Session & Animal Boxplots '''\n",
    "import matplotlib.pylab as pl\n",
    "import matplotlib.lines as mlines\n",
    "\n",
    "col_animal_old = pl.cm.Oranges([np.linspace(0.2,0.9,17)])\n",
    "col_animal_MA = pl.cm.Greens([np.linspace(0.2,0.9,10)])\n",
    "col_animal_young = pl.cm.Blues([np.linspace(0.2,0.9,18)])\n",
    "col_animal = [col_animal_young, col_animal_MA, col_animal_old]\n",
    "\n",
    "col_session_young = []\n",
    "col_session_MA = []\n",
    "col_session_old = []\n",
    "\n",
    "for m, session in zip(mice, sessions):\n",
    "    for s in range(0,len(session)):\n",
    "        \n",
    "        if m in all_aged_mice:\n",
    "            idx = np.where(all_aged_mice == m)[0][0] \n",
    "            col_session_old.append(col_animal[2][0][idx])           \n",
    "        elif m in all_MA_mice:\n",
    "            idx = np.where(all_MA_mice == m)[0][0]\n",
    "            col_session_MA.append(col_animal[1][0][idx])\n",
    "        else:\n",
    "            idx = np.where(all_young_mice == m)[0][0]\n",
    "            col_session_young.append(col_animal[0][0][idx])\n",
    "\n",
    "col_session = [col_session_young, col_session_MA, col_session_old]\n",
    "label_mice = ['Y2','Y3','Y4','Y11','Y16','Y17','Y18','Y19','Y9', 'Y20', 'Y21', 'Y22', 'Y23', 'Y24', 'Y25', 'Y26', 'Y27', 'Y28',\n",
    "            'MA1F', 'MA2F', 'MA3M', 'MA4M', 'MA5M', 'MA6M', 'MA7M', 'MA8F', 'MA9F','MA10F',\"\",\"\",\"\",\"\",\"\",\"\",\"\",\n",
    "            'A3','A4','A5','A6','A7','A12','A13','A14', 'A15', 'A16', 'A17', 'A18', 'A19', 'A20', 'A22', 'A23', 'A24']"
   ]
  },
  {
   "cell_type": "markdown",
   "id": "ead7c2d9",
   "metadata": {},
   "source": [
    "# Classify positively and negatively speed-tuned (+ / - speed) cells \n",
    "\n",
    "Use lower thresholds of 95th percentile."
   ]
  },
  {
   "cell_type": "code",
   "execution_count": null,
   "id": "cbe7fdde",
   "metadata": {},
   "outputs": [],
   "source": [
    "''' Calculate & Save Real Speed Scores & Speed Stability Scores '''\n",
    "realspeedscores = []\n",
    "realspeedstabscores = []\n",
    "dt = 0.02\n",
    "sigma = 20  # smoothing factor for instantaneous firing rate\n",
    "n_bin = 8 #n position bins considered for speed stability score\n",
    "track_length = 400 #cm\n",
    "bins = np.arange(0,track_length + (track_length/n_bin),(track_length/n_bin))\n",
    "\n",
    "for m, session in zip(mice,sessions):\n",
    "    for s in tdqm(session):\n",
    "        d = data[m][s]\n",
    "        \n",
    "        #load in data\n",
    "        rawdata_file = 'RAW_' + m + '_' + s + '.npy'\n",
    "        behavior_file = 'BEHAVIOR_' + m + '_' + s + '.npy'\n",
    "        spikes_file = 'SPIKES_' + m + '_' + s +'.npy'\n",
    "        \n",
    "        raw = np.load(load_folder + rawdata_file, allow_pickle=True)\n",
    "        behaviorfil = np.load(load_folder + behavior_file, allow_pickle=False)\n",
    "        posxfil = behaviorfil[:,0]\n",
    "        Y = np.load(load_folder + spikes_file, allow_pickle=False)\n",
    "        cell_IDs = raw.item().get('cellsfil')\n",
    "        speed = behaviorfil[:,1] #already filtered through gaussian (10 timebins) \n",
    "        \n",
    "        # divide all obs into 8 x 50 cm bins\n",
    "        bin_idx = []\n",
    "        for i in range(n_bin):\n",
    "            if i == (n_bin - 1):\n",
    "                idx = np.where((posxfil >= bins[i]) & (posxfil <= bins[i + 1]))[0]\n",
    "            else:\n",
    "                idx = np.where((posxfil >= bins[i]) & (posxfil < bins[i + 1]))[0]\n",
    "            bin_idx.append(idx)\n",
    "        \n",
    "        #get smoothed spike train, calculate speed score\n",
    "        A = np.zeros((len(speed), len(cell_IDs)))\n",
    "        realspeed_score = []\n",
    "        realspeedstab_score = []\n",
    "        for i, c in enumerate(cell_IDs):\n",
    "            A[:,i] = Y[:,i]\n",
    "            A[:,i] = gaussian_filter1d(A[:,i],sigma)\n",
    "            \n",
    "            #calculate speed score\n",
    "            sscore, _ = stats.pearsonr(A[:,i],speed)\n",
    "            realspeed_score = np.append(realspeed_score,sscore)\n",
    "            \n",
    "            #calculate & store speed stability score for this cell's smoothed spike train\n",
    "            bin_pspikes = []\n",
    "            for j in range(n_bin):\n",
    "                idx = bin_idx[j]\n",
    "                psscore, _ = stats.pearsonr(A[idx,i],speed[idx])\n",
    "                bin_pspikes = np.append(bin_pspikes, (psscore *  np.sum(A[idx,i])))\n",
    "\n",
    "            sstabscore = np.sum(bin_pspikes) / np.sum(A[:,i])\n",
    "            realspeedstab_score = np.append(realspeedstab_score,sstabscore)\n",
    "            \n",
    "        d['speedscore'] = realspeed_score\n",
    "        d['speedstabscore'] = realspeedstab_score\n",
    "        d['A'] = A"
   ]
  },
  {
   "cell_type": "code",
   "execution_count": null,
   "id": "74684e6f",
   "metadata": {},
   "outputs": [],
   "source": [
    "'''Load Scores & Save Booleans of Negative & Positively Modulated Speed Cells \n",
    "  \n",
    " NOTE: shuffled scores are produced by the notebook \"Shuffle Procedure.\" Please run that for all sessions before proceeding here.\n",
    "\n",
    "'''  \n",
    "\n",
    "P95score = []\n",
    "P95stabscore = []\n",
    "for m, session in zip(mice,sessions):\n",
    "    for s in session:\n",
    "        d = data[m][s]\n",
    "    \n",
    "        #get file names\n",
    "        shufinstspeedscore_file = 'shufinstspeedscore_' + m + '_' + s + '.npy'\n",
    "        shufspeedstabscore_file = 'shufspeedstabscore_' + m + '_' + s + '.npy'\n",
    "        rawdata_file = 'RAW_' + m + '_' + s + '.npy'\n",
    "        \n",
    "        #Load stuff & get data relevant to classification\n",
    "        d['shufspeedscore'] = np.load(shuffload_folder4 + shufinstspeedscore_file, allow_pickle = True) \n",
    "        d['shufspeedstabscore'] = np.load(shuffload_folder5 + shufspeedstabscore_file, allow_pickle = True) \n",
    "        raw = np.load(load_folder + rawdata_file, allow_pickle=True)\n",
    "        \n",
    "        shufspeedscore = d['shufspeedscore']\n",
    "        shufspeedstabscore = d['shufspeedstabscore']\n",
    "        realspeed_score = d['speedscore'] \n",
    "        realspeedstab_score = d['speedstabscore'] \n",
    "        cell_IDs = raw.item().get('cellsfil')\n",
    "        \n",
    "        speedcell95 = []\n",
    "        speedcell5 = []\n",
    "        \n",
    "        #Classify excitatory, positively & negatively modulated speed cells\n",
    "        for i, c in enumerate(cell_IDs):\n",
    "            dist = abs(shufspeedscore[:,i])\n",
    "            P95 = np.percentile(dist,95)\n",
    "            \n",
    "            dist2 = abs(shufspeedstabscore[:,i])\n",
    "            sP95 = np.percentile(dist2,95)\n",
    "            \n",
    "            P95stabscore = np.append(P95stabscore, sP95)\n",
    "            P95score = np.append(P95score, P95)\n",
    "\n",
    "            if (abs(realspeed_score[i]) >= P95) & (abs(realspeedstab_score[i]) >= sP95):\n",
    "                if realspeed_score[i] >= 0: # pos mod P95 cell\n",
    "                    speedcell95 = np.append(speedcell95, True)\n",
    "                    speedcell5 = np.append(speedcell5, False)\n",
    "                else: # neg mod P95 cell\n",
    "                    speedcell95 = np.append(speedcell95, False)\n",
    "                    speedcell5 = np.append(speedcell5, True) \n",
    "            else:\n",
    "                speedcell95 = np.append(speedcell95, False)\n",
    "                speedcell5 = np.append(speedcell5, False) \n",
    "\n",
    "        speedcell95 = np.asarray(speedcell95).astype(bool)\n",
    "        speedcell5 = np.asarray(speedcell5).astype(bool)\n",
    "                \n",
    "        #save speed cell classification boolean as .npy file for easy access for all animals\n",
    "        d['speedcell95'] = speedcell95\n",
    "        d['speedcell5'] = speedcell5"
   ]
  },
  {
   "cell_type": "code",
   "execution_count": null,
   "id": "dc38dc17",
   "metadata": {},
   "outputs": [],
   "source": [
    "''' Total of Cells of Each Type by Age Group at P95 Thresholds'''\n",
    "\n",
    "ypos = 0\n",
    "mapos = 0\n",
    "apos = 0\n",
    "\n",
    "yneg = 0\n",
    "maneg = 0\n",
    "aneg = 0 \n",
    "\n",
    "for m, session in zip(mice,sessions):    \n",
    "    for s in session:\n",
    "        d = data[m][s]\n",
    "        \n",
    "        #load in data\n",
    "        rawdata_file = 'RAW_' + m + '_' + s + '.npy'\n",
    "        raw = np.load(load_folder + rawdata_file, allow_pickle=True)\n",
    "        cell_IDs = raw.item().get('cellsfil')\n",
    "        \n",
    "        poscell = d['speedcell95']\n",
    "        negcell = d['speedcell5']\n",
    "        \n",
    "        poscell = poscell.astype(bool)\n",
    "        negcell = negcell.astype(bool)\n",
    "        \n",
    "        if m in all_aged_mice:\n",
    "            apos += np.sum(poscell)\n",
    "            aneg += np.sum(negcell)\n",
    "        elif m in SM_MA_mice:\n",
    "            mapos += np.sum(poscell)\n",
    "            maneg += np.sum(negcell)\n",
    "        else:\n",
    "            ypos += np.sum(poscell)\n",
    "            yneg += np.sum(negcell)\n",
    "            \n",
    "print(ypos, mapos, apos)\n",
    "print(yneg, maneg, aneg)"
   ]
  },
  {
   "cell_type": "markdown",
   "id": "5de58567",
   "metadata": {},
   "source": [
    "# Examine speed tuning among classified speed cells (Reviewer Figure 6I-J)\n",
    "Mimics Figure 6D-E at a lower threshold for speed tuning."
   ]
  },
  {
   "cell_type": "code",
   "execution_count": null,
   "id": "1272cbf7",
   "metadata": {},
   "outputs": [],
   "source": [
    "'''Collect Speed Cell FR Slope'''\n",
    "# set up arrays for plotting by session \n",
    "sslope95 = []\n",
    "sslope5 = []\n",
    "\n",
    "#arrays for density of +/- speed cells \n",
    "sper95 = []\n",
    "sper5 = []\n",
    "mper95 = []\n",
    "mper5 = []\n",
    "\n",
    "dt = 0.02\n",
    "\n",
    "for m, session in zip(mice,sessions):\n",
    "    m_cells = []\n",
    "    m_95 = []\n",
    "    m_5 = []\n",
    "    \n",
    "    for s in tdqm(session):\n",
    "        d = data[m][s]\n",
    "    \n",
    "        #get file names & load data necessary\n",
    "        rawdata_file = 'RAW_' + m + '_' + s + '.npy'\n",
    "        spikes_file = 'SPIKES_' + m + '_' + s +'.npy'\n",
    "        behavior_file = 'BEHAVIOR_' + m + '_' + s + '.npy'\n",
    "        intn_file = 'intn_' + m + '_' + s + '.npy'\n",
    "\n",
    "        raw = np.load(load_folder + rawdata_file, allow_pickle=True)\n",
    "        behaviorfil = np.load(load_folder + behavior_file, allow_pickle=False)\n",
    "        speed = behaviorfil[:,1]\n",
    "        A = d['A']\n",
    "       \n",
    "        #get dict-stored data\n",
    "        cell_IDs = raw.item().get('cellsfil')\n",
    "        d['intn'] = np.load(int_save_folder + intn_file, allow_pickle = True)\n",
    "        d['intn'] = d['intn'].astype(bool)\n",
    "        intn = d['intn']\n",
    "        \n",
    "        speedcell95 = d['speedcell95']\n",
    "        speedcell5 = d['speedcell5']\n",
    "        speedcells95 = cell_IDs[(speedcell95 == 1) & (intn == 0)]\n",
    "        speedcells5 = cell_IDs[(speedcell5 == 1) & (intn == 0)]\n",
    "        \n",
    "        sper95 = np.append(sper95, 100*len(speedcells95)/len(cell_IDs))\n",
    "        sper5 = np.append(sper5, 100*len(speedcells5)/len(cell_IDs))\n",
    "        \n",
    "        #get slopes for each speed cell population\n",
    "        slope95 = []\n",
    "        for i, c in enumerate(speedcells95):\n",
    "            sdx = (np.where(cell_IDs==c)[0][0]).astype(int)\n",
    "            \n",
    "            #get slope/FR and convert to Hz/speed\n",
    "            slopeFR, intFR, r_value, p_val, std_err = stats.linregress(speed, A[:,sdx])\n",
    "            slopeFR = slopeFR/dt\n",
    "            intFR = intFR/dt\n",
    "            slope95 = np.append(slope95,slopeFR) #FR/speed slope\n",
    "            \n",
    "        slope5 = []\n",
    "        for i, c in enumerate(speedcells5):\n",
    "            sdx = (np.where(cell_IDs==c)[0][0]).astype(int)\n",
    "            \n",
    "            #get slope/FR and convert to Hz/speed\n",
    "            slopeFR, intFR, r_value, p_val, std_err = stats.linregress(speed, A[:,sdx])\n",
    "            slopeFR = slopeFR/dt\n",
    "            intFR = intFR/dt\n",
    "            slope5 = np.append(slope5,slopeFR) #FR/speed slope\n",
    "        \n",
    "        #pool data into session arrays    \n",
    "        sslope95 = np.append(sslope95, np.mean(slope95))\n",
    "        sslope5 = np.append(sslope5, np.mean(slope5))\n",
    "        m_cells = np.append(m_cells, len(cell_IDs))\n",
    "        m_95 = np.append(m_95, len(speedcells95))\n",
    "        m_5 = np.append(m_5, len(speedcells5))\n",
    "        \n",
    "    mper95 = np.append(mper95, 100*np.sum(m_95)/np.sum(m_cells))\n",
    "    mper5 = np.append(mper5, 100*np.sum(m_5)/np.sum(m_cells))"
   ]
  },
  {
   "cell_type": "code",
   "execution_count": null,
   "id": "4236d4b8",
   "metadata": {},
   "outputs": [],
   "source": [
    "''' Find where I will have NaNs due to 0% speed cells in a given Session'''\n",
    "nan_idx95 = np.where((sper95 == 0))[0]\n",
    "nan_idx5 = np.where((sper5 == 0))[0]\n",
    "\n",
    "# Adjust y_sind, ma_sind, age_sind for subsequent plots\n",
    "y_sind95 = np.setdiff1d(y_sind, nan_idx95)\n",
    "ma_sind95 = np.setdiff1d(ma_sind, nan_idx95)\n",
    "age_sind95 = np.setdiff1d(age_sind, nan_idx95)\n",
    "\n",
    "y_sind5 = np.setdiff1d(y_sind, nan_idx5)\n",
    "ma_sind5 = np.setdiff1d(ma_sind, nan_idx5)\n",
    "age_sind5 = np.setdiff1d(age_sind, nan_idx5)\n",
    "\n",
    "#adjust colormaps\n",
    "yidx = []\n",
    "maidx = []\n",
    "aidx = []\n",
    "for i in nan_idx95:\n",
    "    yidx = np.append(yidx, np.where(y_sind == i)[0].astype(int))\n",
    "    maidx = np.append(maidx, np.where(ma_sind == i)[0].astype(int))\n",
    "    aidx = np.append(aidx, np.where(age_sind == i)[0].astype(int))\n",
    "    \n",
    "col_session_young95 = np.delete(col_session_young, list(yidx.astype(int)), axis = 0)\n",
    "col_session_ma95 = np.delete(col_session_MA, list(maidx.astype(int)), axis = 0)\n",
    "col_session_old95 = np.delete(col_session_old, list(aidx.astype(int)), axis = 0)\n",
    "col_session95 = [col_session_young95, col_session_ma95, col_session_old95] \n",
    "\n",
    "yidx = []\n",
    "maidx = []\n",
    "aidx = []\n",
    "for i in nan_idx5:\n",
    "    yidx = np.append(yidx, np.where(y_sind == i)[0].astype(int))\n",
    "    maidx = np.append(maidx, np.where(ma_sind == i)[0].astype(int))\n",
    "    aidx = np.append(aidx, np.where(age_sind == i)[0].astype(int))\n",
    "    \n",
    "col_session_young5 = np.delete(col_session_young, list(yidx.astype(int)), axis = 0)\n",
    "col_session_ma5 = np.delete(col_session_MA, list(maidx.astype(int)), axis = 0)\n",
    "col_session_old5 = np.delete(col_session_old, list(aidx.astype(int)), axis = 0)\n",
    "col_session5 = [col_session_young5, col_session_ma5, col_session_old5]       \n",
    "\n",
    "# This will fix how session stats & box plots are plotted, ensuring color schemes are adjusted."
   ]
  },
  {
   "cell_type": "code",
   "execution_count": null,
   "id": "544eb5a0",
   "metadata": {},
   "outputs": [],
   "source": [
    "''' Plot Reviewer Figure 6I '''\n",
    "\n",
    "#set up handles\n",
    "from itertools import repeat\n",
    "handles = []\n",
    "mper = [mper5[y_ind], mper5[ma_ind], mper5[age_ind]]\n",
    "\n",
    "for i in range(len(mper)):    \n",
    "    for c in col_animal[i][0]:\n",
    "        dot = mlines.Line2D([],[], color = c, marker ='o', linestyle = 'None', markersize = 8)\n",
    "        handles.append(dot)\n",
    "        if c[0] == col_animal[1][0][9][0]: # adds white space so columns are color sorted\n",
    "            l = mlines.Line2D([0],[0],color=\"w\")\n",
    "            handles.extend(repeat(l,7))\n",
    "               \n",
    "#Plot Reviewer Figure 6I (left)\n",
    "fig, ax = plt.subplots(figsize = (1.5,1.25))\n",
    "sslope = [sslope95[y_sind95], sslope95[ma_sind95], sslope95[age_sind95]]\n",
    "labels = ['Young','MA','Aged']\n",
    "w = 0.5\n",
    "plt.boxplot(sslope, widths = w, labels = labels, medianprops = dict(color = 'black'))\n",
    "\n",
    "for i in range(len(sslope)):\n",
    "    y = sslope[i]\n",
    "    x = np.random.normal(i + 1, 0.04, len(y))\n",
    "    plt.scatter(x, y, color = col_session95[i], edgecolors = col_session95[i], s = 10)\n",
    "            \n",
    "#ax.legend(ncol = 3, handles = handles, labels = label_mice, loc = 'upper right',bbox_to_anchor=(1.8, 1))\n",
    "ax.set_title('+ Speed Cells', fontsize=10, pad=5)\n",
    "ax.set_xlabel('Age', fontsize=9, labelpad=1)\n",
    "ax.set_ylabel('Mean Slope (Hz / (cm / s))', fontsize = 9, labelpad=1)\n",
    "ax.tick_params(labelsize = 8)\n",
    "ax.set_ylim([0,0.2])\n",
    "ax.set_yticks([0,0.05,0.1,0.15,0.2])\n",
    "plt.savefig(save_folder + 'ReviewerFigure6Ileft.png', dpi=400, bbox_inches='tight')\n",
    "plt.savefig(save_folder + 'ReviewerFigure6Ileft.svg', dpi=400, bbox_inches='tight')\n",
    "plt.show()\n",
    "\n",
    "#Plot Reviewer Figure 6I (right)\n",
    "fig, ax = plt.subplots(figsize = (1.5,1.25))\n",
    "sslope = [sslope5[y_sind5], sslope5[ma_sind5], sslope5[age_sind5]]\n",
    "labels = ['Young','MA','Aged']\n",
    "w = 0.5\n",
    "plt.boxplot(sslope, widths = w, labels = labels, medianprops = dict(color = 'black'))\n",
    "\n",
    "for i in range(len(sslope)):\n",
    "    y = sslope[i]\n",
    "    x = np.random.normal(i + 1, 0.04, len(y))\n",
    "    plt.scatter(x, y, color = col_session5[i], edgecolors = col_session5[i], s = 10)\n",
    "            \n",
    "#ax.legend(ncol = 3, handles = handles, labels = label_mice, loc = 'upper right',bbox_to_anchor=(1.8, 1))\n",
    "ax.set_title('- Speed Cells', fontsize=10, pad=5)\n",
    "ax.set_xlabel('Age', fontsize=9, labelpad=1)\n",
    "ax.set_ylabel('Mean Slope (Hz / (cm / s))', fontsize = 9, labelpad=1)\n",
    "ax.tick_params(labelsize = 8)\n",
    "ax.set_ylim([-0.2,0.05])\n",
    "ax.set_yticks([-0.2,-0.15,-0.1,-0.05,0, 0.05])\n",
    "plt.savefig(save_folder + 'ReviewerFigure6Iright.png', dpi=400, bbox_inches='tight')\n",
    "plt.savefig(save_folder + 'ReviewerFigure6Iright.svg', dpi=400, bbox_inches='tight')\n",
    "plt.show()"
   ]
  },
  {
   "cell_type": "code",
   "execution_count": null,
   "id": "89e181f1",
   "metadata": {},
   "outputs": [],
   "source": [
    "''' Statistics for Reviewer Figure 6I (left) '''\n",
    "print('\\nn young, MA, sessions with + speed cells:')\n",
    "print(len(y_sind95),len(ma_sind95), len(age_sind95))\n",
    "\n",
    "print('\\nspeedcellslopeyoung ± SEM; speedcellslope_MA ± SEM; speedcellslope_old ± SEM')\n",
    "print(str(np.round(np.mean(sslope95[y_sind95]), 4)) + ' ± ' + str(np.round(stats.sem(sslope95[y_sind95]), 4)) + ' ; ' \n",
    "      + str(np.round(np.mean(sslope95[ma_sind95]), 4)) + ' ± ' + str(np.round(stats.sem(sslope95[ma_sind95]), 4)) + ' ; ' \n",
    "      + str(np.round(np.mean(sslope95[age_sind95]), 4)) + ' ± ' + str(np.round(stats.sem(sslope95[age_sind95]), 4)))\n",
    "\n",
    "stat, p_diff = stats.kruskal(sslope95[y_sind95],sslope95[ma_sind95],sslope95[age_sind95])\n",
    "print('stat = ' + str(stat))\n",
    "print('p_session = ' + str(p_diff))\n",
    "\n",
    "#get what you need for multiple comparisons\n",
    "import statsmodels.api as sm\n",
    "import scikit_posthocs as ph\n",
    "\n",
    "#make into dataframe\n",
    "seshmice = []\n",
    "seshcount = []\n",
    "seshage = []\n",
    "for m, session in zip(mice, sessions):\n",
    "    age =  np.array(animalmeta.loc[(animalmeta.Animal_ID == m),'Age_Group'])\n",
    "    totalsesh = len(session)\n",
    "    \n",
    "    for i, s in enumerate(session):\n",
    "        seshmice = np.append(seshmice, m)\n",
    "        seshcount = np.append(seshcount, (i + 1))\n",
    "        seshage = np.append(seshage, age)\n",
    "\n",
    "# Collect all relevant data into pandas dataframe\n",
    "allidx = np.concatenate((y_sind95,ma_sind95,age_sind95))\n",
    "Animal_ID = list(seshmice[allidx])\n",
    "Session = list(seshcount[allidx])\n",
    "Age_Group = list(seshage[allidx])\n",
    "Slopepos = list(sslope95[allidx])\n",
    "\n",
    "tuples = list(zip(Animal_ID, Session, Age_Group, Slopepos))\n",
    "tuples\n",
    "\n",
    "df = pd.DataFrame(tuples, columns = ['AnimalID', 'Session', 'AgeGroup','slopepos'])\n",
    "df = df.dropna(axis = 0)\n",
    "\n",
    "#run post hoc tests\n",
    "ph.posthoc_conover(df, val_col = 'slopepos', group_col = 'AgeGroup', p_adjust = 'holm')"
   ]
  },
  {
   "cell_type": "code",
   "execution_count": null,
   "id": "2beab1f6",
   "metadata": {},
   "outputs": [],
   "source": [
    "''' Statistics for Figure 6I (right) '''\n",
    "print('\\nn young, MA, sessions with - speed cells:')\n",
    "print(len(y_sind5),len(ma_sind5), len(age_sind5))\n",
    "\n",
    "print('speedcellslopeyoung ± SEM; speedcellslope_MA ± SEM; speedcellslope_old ± SEM')\n",
    "print(str(np.round(np.mean(sslope5[y_sind5]), 4)) + ' ± ' + str(np.round(stats.sem(sslope5[y_sind5]), 4)) + ' ; ' \n",
    "      + str(np.round(np.mean(sslope5[ma_sind5]), 4)) + ' ± ' + str(np.round(stats.sem(sslope5[ma_sind5]), 4)) + ' ; ' \n",
    "      + str(np.round(np.mean(sslope5[age_sind5]), 4)) + ' ± ' + str(np.round(stats.sem(sslope5[age_sind5]), 4)))\n",
    "\n",
    "stat, p_diff = stats.kruskal(sslope5[y_sind5],sslope5[ma_sind5],sslope5[age_sind5])\n",
    "print('stat = ' + str(stat))\n",
    "print('p_session = ' + str(p_diff))\n",
    "\n",
    "#NEGATIVE\n",
    "# Collect all relevant data into pandas dataframe\n",
    "allidx = np.concatenate((y_sind5,ma_sind5,age_sind5))\n",
    "Animal_ID = list(seshmice[allidx])\n",
    "Session = list(seshcount[allidx])\n",
    "Age_Group = list(seshage[allidx])\n",
    "Slopeneg = list(sslope5[allidx])\n",
    "\n",
    "tuples = list(zip(Animal_ID, Session, Age_Group, Slopeneg))\n",
    "tuples\n",
    "\n",
    "df = pd.DataFrame(tuples, columns = ['AnimalID', 'Session', 'AgeGroup','slopeneg',])\n",
    "df = df.dropna(axis = 0)\n",
    "\n",
    "#run post hoc tests\n",
    "ph.posthoc_conover(df, val_col = 'slopeneg', group_col = 'AgeGroup', p_adjust = 'holm')"
   ]
  },
  {
   "cell_type": "code",
   "execution_count": null,
   "id": "ca89321d",
   "metadata": {},
   "outputs": [],
   "source": [
    "''' Collect Speed Cell Trial Stability Score \n",
    "\n",
    "Run time: 10-15 seconds / session x 250 sessions with either type of speed cell (~ 1 hr).\n",
    "\n",
    "'''\n",
    "# set up arrays for plotting by session \n",
    "strialstabscore5 = []\n",
    "strialstabscore95 = []\n",
    "\n",
    "dt = 0.02\n",
    "\n",
    "for m, session in zip(mice,sessions):\n",
    "    \n",
    "    for s in tdqm(session):\n",
    "        d = data[m][s]\n",
    "    \n",
    "        #get file names & load data necessary\n",
    "        rawdata_file = 'RAW_' + m + '_' + s + '.npy'\n",
    "        spikes_file = 'SPIKES_' + m + '_' + s +'.npy'\n",
    "        behavior_file = 'BEHAVIOR_' + m + '_' + s + '.npy'\n",
    "\n",
    "        raw = np.load(load_folder + rawdata_file, allow_pickle=True)\n",
    "        behaviorfil = np.load(load_folder + behavior_file, allow_pickle=False)\n",
    "        \n",
    "        A = d['A']\n",
    "        speed = behaviorfil[:,1]\n",
    "        trial = behaviorfil[:,2]\n",
    "       \n",
    "        #get dict-stored data\n",
    "        cell_IDs = raw.item().get('cellsfil')\n",
    "        intn = d['intn'].astype(bool)\n",
    "        speedcell95 = d['speedcell95']\n",
    "        speedcell5 = d['speedcell5']\n",
    "        speedcells95 = cell_IDs[(speedcell95 == 1) & (intn == 0)]\n",
    "        speedcells5 = cell_IDs[(speedcell5 == 1) & (intn == 0)]\n",
    "        \n",
    "        #get spike-weighted average of speed score by trial for each speed cell population\n",
    "        bytrialspeedstabilityscores95 = []          \n",
    "        for i, c in enumerate(speedcells95):\n",
    "            sdx = (np.where(cell_IDs==c)[0][0]).astype(int)\n",
    "            \n",
    "            weightscore = []\n",
    "            for j, t in enumerate(np.unique(trial)):\n",
    "                trialidx = np.where(trial == t)[0].astype(int)\n",
    "                \n",
    "                trialscore, _ = stats.pearsonr(speed[trialidx], A[trialidx,sdx])\n",
    "                weightscore = np.append(weightscore, trialscore * np.sum(A[trialidx,sdx]))   \n",
    "            bytrialspeedstabilityscores95 = np.append(bytrialspeedstabilityscores95, np.nansum(weightscore) / np.sum(A[:,sdx]))\n",
    "            \n",
    "        bytrialspeedstabilityscores5 = []\n",
    "        for i, c in enumerate(speedcells5):\n",
    "            sdx = (np.where(cell_IDs==c)[0][0]).astype(int)\n",
    "            \n",
    "            weightscore = []\n",
    "            for j, t in enumerate(np.unique(trial)):\n",
    "                trialidx = np.where(trial == t)[0].astype(int)\n",
    "                trialscore, _ = stats.pearsonr(speed[trialidx], A[trialidx,sdx])\n",
    "                weightscore = np.append(weightscore, trialscore * np.sum(A[trialidx,sdx]))\n",
    "        \n",
    "            bytrialspeedstabilityscores5 = np.append(bytrialspeedstabilityscores5, np.nansum(weightscore) / np.sum(A[:,sdx]))\n",
    "\n",
    "        strialstabscore95 = np.append(strialstabscore95, np.mean(bytrialspeedstabilityscores95))\n",
    "        strialstabscore5 = np.append(strialstabscore5, np.mean(bytrialspeedstabilityscores5))"
   ]
  },
  {
   "cell_type": "code",
   "execution_count": null,
   "id": "c51ceb77",
   "metadata": {},
   "outputs": [],
   "source": [
    "''' Plot Reviewer Figure 6J '''\n",
    "\n",
    "#Reviewer Figure 6J (left)\n",
    "fig, ax = plt.subplots(figsize = (1.5,1.25))\n",
    "sttscore = [strialstabscore95[y_sind95], strialstabscore95[ma_sind95], strialstabscore95[age_sind95]]\n",
    "labels = ['Young','MA','Aged']\n",
    "w = 0.5\n",
    "plt.boxplot(sttscore, widths = w, labels = labels, medianprops = dict(color = 'black'))\n",
    "\n",
    "for i in range(len(sttscore)):\n",
    "    y = sttscore[i]\n",
    "    x = np.random.normal(i + 1, 0.04, len(y))\n",
    "    plt.scatter(x, y, color = col_session95[i], edgecolors = col_session95[i], s = 10)\n",
    "            \n",
    "#ax.legend(ncol = 3, handles = handles, labels = label_mice, loc = 'upper right',bbox_to_anchor=(1.8, 1))\n",
    "ax.set_title('+ Speed Cells', fontsize=10, pad=5)\n",
    "ax.set_xlabel('Age', fontsize=9, labelpad=1)\n",
    "ax.set_ylabel('Mean Trial Stability Speed Score', fontsize = 9, labelpad=1)\n",
    "ax.tick_params(labelsize = 8)\n",
    "ax.set_ylim([0,0.5])\n",
    "ax.set_yticks([0,0.1,0.2,0.3,0.4,0.5])\n",
    "plt.savefig(save_folder + 'ReviewerFigure6Jleft.png', dpi=400, bbox_inches='tight')\n",
    "plt.savefig(save_folder + 'ReviewerFigure6Jleft.svg', dpi=400, bbox_inches='tight')\n",
    "plt.show()\n",
    "\n",
    "#Reviewer Figure 6J (right)\n",
    "fig, ax = plt.subplots(figsize = (1.5,1.25))\n",
    "sttscore = [strialstabscore5[y_sind5], strialstabscore5[ma_sind5], strialstabscore5[age_sind5]]\n",
    "labels = ['Young','MA','Aged']\n",
    "w = 0.5\n",
    "plt.boxplot(sttscore, widths = w, labels = labels, medianprops = dict(color = 'black'))\n",
    "\n",
    "for i in range(len(sttscore)):\n",
    "    y = sttscore[i]\n",
    "    x = np.random.normal(i + 1, 0.04, len(y))\n",
    "    plt.scatter(x, y, color = col_session5[i], edgecolors = col_session5[i], s = 10)\n",
    "            \n",
    "#ax.legend(ncol = 3, handles = handles, labels = label_mice, loc = 'upper right',bbox_to_anchor=(1.8, 1))\n",
    "ax.set_title('- Speed Cells', fontsize=10, pad=5)\n",
    "ax.set_xlabel('Age', fontsize=9, labelpad=1)\n",
    "ax.set_ylabel('Mean Trial Stability Speed Score', fontsize = 9, labelpad=1)\n",
    "ax.tick_params(labelsize = 8)\n",
    "ax.set_ylim([-0.6,0.25])\n",
    "ax.set_yticks([-0.6, -0.4, -0.2, 0, 0.2])\n",
    "plt.savefig(save_folder + 'ReviewerFigure6Jright.png', dpi=400, bbox_inches='tight')\n",
    "plt.savefig(save_folder + 'ReviewerFigure6Jright.svg', dpi=400, bbox_inches='tight')\n",
    "plt.show()"
   ]
  },
  {
   "cell_type": "code",
   "execution_count": null,
   "id": "1b5c5924",
   "metadata": {},
   "outputs": [],
   "source": [
    "''' Stats for Reviewer Figure 6J (left)'''\n",
    "\n",
    "print('\\nPOS SPEED CELL RESULTS:')\n",
    "print('meanyoung ± SEM; mean_MA ± SEM; mean_old ± SEM')\n",
    "print(str(np.round(np.mean(strialstabscore95[y_sind95]), 4)) + ' ± ' + str(np.round(stats.sem(strialstabscore95[y_sind95]), 4)) + ' ; ' \n",
    "      + str(np.round(np.mean(strialstabscore95[ma_sind95]), 4)) + ' ± ' + str(np.round(stats.sem(strialstabscore95[ma_sind95]), 4)) + ' ; ' \n",
    "      + str(np.round(np.mean(strialstabscore95[age_sind95]), 4)) + ' ± ' + str(np.round(stats.sem(strialstabscore95[age_sind95]), 4)))\n",
    "\n",
    "stat, p_diff = stats.kruskal(strialstabscore95[y_sind95],strialstabscore95[ma_sind95],strialstabscore95[age_sind95])\n",
    "print('stat = ' + str(stat))\n",
    "print('p_trialstabscore = ' + str(p_diff))\n",
    "\n",
    "#POSTIVE\n",
    "# Collect all relevant data into pandas dataframe\n",
    "allidx = np.concatenate((y_sind95,ma_sind95,age_sind95))\n",
    "Animal_ID = list(seshmice[allidx])\n",
    "Session = list(seshcount[allidx])\n",
    "Age_Group = list(seshage[allidx])\n",
    "Scorepos = list(strialstabscore95[allidx])\n",
    "\n",
    "tuples = list(zip(Animal_ID, Session, Age_Group, Scorepos))\n",
    "tuples\n",
    "\n",
    "df = pd.DataFrame(tuples, columns = ['AnimalID', 'Session', 'AgeGroup','scorepos'])\n",
    "df = df.dropna(axis = 0)\n",
    "\n",
    "#run post hoc tests\n",
    "ph.posthoc_conover(df, val_col = 'scorepos', group_col = 'AgeGroup', p_adjust = 'holm')\n"
   ]
  },
  {
   "cell_type": "code",
   "execution_count": null,
   "id": "15f7fa18",
   "metadata": {},
   "outputs": [],
   "source": [
    "''' Stats for Reviewer Figure 6J (right)'''\n",
    "\n",
    "print('\\nNEG SPEED CELL RESULTS:')\n",
    "print('meanyoung ± SEM; mean_MA ± SEM; mean_old ± SEM')\n",
    "print(str(np.round(np.mean(strialstabscore5[y_sind5]), 4)) + ' ± ' + str(np.round(stats.sem(strialstabscore5[y_sind5]), 4)) + ' ; ' \n",
    "      + str(np.round(np.mean(strialstabscore5[ma_sind5]), 4)) + ' ± ' + str(np.round(stats.sem(strialstabscore5[ma_sind5]), 4)) + ' ; ' \n",
    "      + str(np.round(np.mean(strialstabscore5[age_sind5]), 4)) + ' ± ' + str(np.round(stats.sem(strialstabscore5[age_sind5]), 4)))\n",
    "\n",
    "stat, p_diff = stats.kruskal(strialstabscore5[y_sind5],strialstabscore5[ma_sind5],strialstabscore5[age_sind5])\n",
    "print('stat = ' + str(stat))\n",
    "print('p_trialstabscore = ' + str(p_diff))\n",
    "\n",
    "#NEGATIVE\n",
    "# Collect all relevant data into pandas dataframe\n",
    "allidx = np.concatenate((y_sind5,ma_sind5,age_sind5))\n",
    "Animal_ID = list(seshmice[allidx])\n",
    "Session = list(seshcount[allidx])\n",
    "Age_Group = list(seshage[allidx])\n",
    "Scoreneg = list(strialstabscore5[allidx])\n",
    "\n",
    "tuples = list(zip(Animal_ID, Session, Age_Group, Scoreneg))\n",
    "tuples\n",
    "\n",
    "df = pd.DataFrame(tuples, columns = ['AnimalID', 'Session', 'AgeGroup','scoreneg'])\n",
    "df = df.dropna(axis = 0)\n",
    "\n",
    "#run post hoc tests\n",
    "ph.posthoc_conover(df, val_col = 'scoreneg', group_col = 'AgeGroup', p_adjust = 'holm')"
   ]
  }
 ],
 "metadata": {
  "kernelspec": {
   "display_name": "Python 3 (ipykernel)",
   "language": "python",
   "name": "python3"
  },
  "language_info": {
   "codemirror_mode": {
    "name": "ipython",
    "version": 3
   },
   "file_extension": ".py",
   "mimetype": "text/x-python",
   "name": "python",
   "nbconvert_exporter": "python",
   "pygments_lexer": "ipython3",
   "version": "3.8.16"
  }
 },
 "nbformat": 4,
 "nbformat_minor": 5
}
