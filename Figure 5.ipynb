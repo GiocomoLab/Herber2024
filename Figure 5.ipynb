{
 "cells": [
  {
   "cell_type": "markdown",
   "id": "6551f0c3",
   "metadata": {},
   "source": [
    "# Setup"
   ]
  },
  {
   "cell_type": "code",
   "execution_count": 1,
   "id": "e28d6198",
   "metadata": {},
   "outputs": [],
   "source": [
    "''' magic 4u'''\n",
    "%load_ext autoreload\n",
    "%autoreload 2"
   ]
  },
  {
   "cell_type": "code",
   "execution_count": 2,
   "id": "0af6d3d0",
   "metadata": {},
   "outputs": [],
   "source": [
    "'''Get Stuff You Need'''\n",
    "import numpy as np\n",
    "import math as math\n",
    "from tqdm import tnrange\n",
    "from tqdm.notebook import tqdm as tdqm\n",
    "import matplotlib.pyplot as plt\n",
    "import matplotlib as mpl\n",
    "mpl.rcParams.update(mpl.rcParamsDefault)\n",
    "from matplotlib import gridspec\n",
    "from scipy.interpolate import interp1d\n",
    "from scipy.ndimage import gaussian_filter1d\n",
    "from scipy import stats\n",
    "import scipy.io\n",
    "import scipy.ndimage.filters as filt\n",
    "import pandas as pd\n",
    "import seaborn as sns\n",
    "\n",
    "from pipeline import get_data as get\n",
    "from pipeline import process_spikes as ps\n",
    "\n",
    "from statsmodels.tsa.stattools import acf\n",
    "from scipy.signal import find_peaks\n",
    "from itertools import combinations"
   ]
  },
  {
   "cell_type": "code",
   "execution_count": 3,
   "id": "701409ac",
   "metadata": {},
   "outputs": [],
   "source": [
    "''' Define plotting defaults '''\n",
    "\n",
    "from matplotlib import rc \n",
    "mpl.rcParams['font.sans-serif'] = 'Arial'\n",
    "mpl.rcParams['font.family'] = 'sans-serif'\n",
    "mpl.rcParams['svg.fonttype'] = 'none'"
   ]
  },
  {
   "cell_type": "code",
   "execution_count": 4,
   "id": "e1742cbb",
   "metadata": {},
   "outputs": [],
   "source": [
    "''' Define some functions for later '''\n",
    "def count_consec(lst):\n",
    "    consec = [1]\n",
    "    for x, y in zip(lst, lst[1:]):\n",
    "        if x == y - 1:\n",
    "            consec[-1] += 1\n",
    "        else:\n",
    "            consec.append(1)\n",
    "    return consec\n",
    "\n",
    "def tuning_curve_bytrial(x, trial, Y, dt, b, sigma, smooth=True, normalize=False, occupancy=True):\n",
    "    '''\n",
    "    Params\n",
    "    ------\n",
    "    x : ndarray\n",
    "        variable of interest by observation; shape (n_obs, )\n",
    "    trial : ndarray\n",
    "        trial num for each observation; shape (n_obs, )\n",
    "    Y : ndarray\n",
    "        spikes per observation; shape (n_obs, n_cells)\n",
    "    dt : int\n",
    "        time per observation in seconds\n",
    "    b : int\n",
    "        bin size\n",
    "    sigma : int\n",
    "        SD of Gaussian filter\n",
    "    smooth : bool\n",
    "        apply gaussian filter to firing rate; optional, default is True\n",
    "    normalize : bool\n",
    "        normalize the firing rate of each cell such that its max FR is 1, min is 0;\n",
    "        optional, default is False\n",
    "    occupancy : bool\n",
    "        return occupancy (dwell time in each bin); optional, default is True\n",
    "\n",
    "    Returns\n",
    "    -------\n",
    "    firing_rate : ndarray\n",
    "        binned firing rate for each trial for each cell; shape (n_trials, n_bins, n_cells)\n",
    "    centers : ndarray\n",
    "        center of each bin\n",
    "    occ : ndarray\n",
    "       dwell time in each bin; shape (n_bins, n_cells)\n",
    "    '''\n",
    "    edges = np.arange(0, np.max(x) + b, b)\n",
    "    centers = (edges[:-1] + edges[1:])/2\n",
    "    b_idx = np.digitize(x, edges)\n",
    "    if np.max(x) == edges[-1]:\n",
    "        b_idx[b_idx==np.max(b_idx)] = np.max(b_idx) - 1\n",
    "    unique_bdx = np.unique(b_idx)\n",
    "\n",
    "    # find FR in each bin\n",
    "    firing_rate = np.zeros((np.unique(trial).shape[0], unique_bdx.shape[0], Y.shape[1]))\n",
    "    occ = np.zeros((np.unique(trial).shape[0], unique_bdx.shape[0], Y.shape[1]))\n",
    "    for j in range(unique_bdx.shape[0]):\n",
    "        idx1 = (b_idx == unique_bdx[j])\n",
    "        for i, t in enumerate(np.unique(trial)):\n",
    "            idx = idx1 & (trial == t)\n",
    "            if np.sum(idx)==0:\n",
    "                #print('warning: zero occupancy!')\n",
    "                firing_rate[i, j, :] = firing_rate[i, j-1, :]\n",
    "                occ[i, j, :] = 0\n",
    "            else:    \n",
    "                spike_ct = np.sum(Y[idx, :], axis=0)\n",
    "                occupancy = dt * np.sum(idx)\n",
    "                occ[i, j, :] = occupancy\n",
    "                firing_rate[i, j, :] = spike_ct / occupancy\n",
    "    if smooth:\n",
    "        firing_rate = gaussian_filter1d(firing_rate, sigma, axis=1, mode='wrap')\n",
    "\n",
    "    if normalize:\n",
    "        for c in range(firing_rate.shape[2]):\n",
    "            firing_rate[:, :, c] = (firing_rate[:, :, c] - np.min(firing_rate[:, :, c]))/np.max(firing_rate[:, :, c] - np.min(firing_rate[:, :, c]))\n",
    "    \n",
    "    if occupancy:\n",
    "        return firing_rate, centers, occ\n",
    "    else: \n",
    "        return firing_rate, centers\n",
    "    \n",
    "def find8adjacentElements(test_list):\n",
    "    ''' \n",
    "    Params\n",
    "    ------\n",
    "    test_list : ndarray\n",
    "        1d array to be sorted\n",
    "    \n",
    "    Returns\n",
    "    -------\n",
    "    neighbors : list\n",
    "        nested list where each element is a list of 8 adjacent elements to the element with the same \n",
    "        index in test_list, adjusting for the first and last four elements and not including \n",
    "    '''\n",
    "    \n",
    "    neighbors = []\n",
    "    for idx, ele in enumerate(test_list):\n",
    "    # Checking for all cases to append\n",
    "        if idx == 0:\n",
    "            neighbors.append(test_list[(idx+1):(idx + 9)])\n",
    "        elif idx == 1:\n",
    "            neighbors.append(np.concatenate((test_list[(idx - 1)],test_list[(idx+1):(idx + 8)]),axis=None))\n",
    "        elif idx == 2:\n",
    "            neighbors.append(np.concatenate((test_list[:idx],test_list[(idx+1):(idx + 7)]),axis=None))\n",
    "        elif idx == 3:\n",
    "            neighbors.append(np.concatenate((test_list[:idx],test_list[(idx+1):(idx + 6)]),axis=None))\n",
    "        elif idx == len(test_list) - 1:\n",
    "            neighbors.append(np.concatenate((test_list[(idx-8):idx]),axis=None))                     \n",
    "        elif idx == len(test_list) - 2:\n",
    "            neighbors.append(np.concatenate((test_list[(idx-7):idx],test_list[(idx + 1):]),axis=None))\n",
    "        elif idx == len(test_list) - 3:\n",
    "            neighbors.append(np.concatenate((test_list[(idx-6):idx],test_list[(idx + 1):]),axis=None))\n",
    "        elif idx == len(test_list) - 4:\n",
    "            neighbors.append(np.concatenate((test_list[(idx-5):idx],test_list[(idx + 1):]),axis = None))\n",
    "        else:\n",
    "            neighbors.append(np.concatenate((test_list[(idx - 4):idx],test_list[(idx+1):(idx + 5)]),axis=None))\n",
    "    return neighbors \n",
    "\n",
    "def find(x):\n",
    "    return x.nonzero()[0]\n",
    "\n",
    "def autocorr(x,lags):\n",
    "    '''numpy.correlate'''\n",
    "    mean=x.mean()\n",
    "    var=np.var(x)\n",
    "    xp=x-mean\n",
    "    corr=np.correlate(xp,xp,'full')[len(x)-1:]/var/len(x)\n",
    "\n",
    "    return corr[:len(lags)]"
   ]
  },
  {
   "cell_type": "code",
   "execution_count": 5,
   "id": "bc80b087",
   "metadata": {},
   "outputs": [
    {
     "data": {
      "text/html": [
       "<div>\n",
       "<style scoped>\n",
       "    .dataframe tbody tr th:only-of-type {\n",
       "        vertical-align: middle;\n",
       "    }\n",
       "\n",
       "    .dataframe tbody tr th {\n",
       "        vertical-align: top;\n",
       "    }\n",
       "\n",
       "    .dataframe thead th {\n",
       "        text-align: right;\n",
       "    }\n",
       "</style>\n",
       "<table border=\"1\" class=\"dataframe\">\n",
       "  <thead>\n",
       "    <tr style=\"text-align: right;\">\n",
       "      <th></th>\n",
       "      <th>Animal_ID</th>\n",
       "      <th>Task</th>\n",
       "      <th>Cohort</th>\n",
       "      <th>Probe_Control</th>\n",
       "      <th>Sex</th>\n",
       "      <th>Sac_Date</th>\n",
       "      <th>Frozen_Hemisphere</th>\n",
       "      <th>DOB</th>\n",
       "      <th>Age_WholeMonth</th>\n",
       "      <th>Age_ExtraDays</th>\n",
       "      <th>Age_Month</th>\n",
       "      <th>Aged_Days</th>\n",
       "      <th>Age_Group</th>\n",
       "      <th>Behavior_Sessions</th>\n",
       "      <th>Neural_Sessions</th>\n",
       "    </tr>\n",
       "  </thead>\n",
       "  <tbody>\n",
       "    <tr>\n",
       "      <th>0</th>\n",
       "      <td>A3</td>\n",
       "      <td>RF</td>\n",
       "      <td>A</td>\n",
       "      <td>0</td>\n",
       "      <td>F</td>\n",
       "      <td>1/27/2021</td>\n",
       "      <td>R</td>\n",
       "      <td>4/23/2019</td>\n",
       "      <td>21</td>\n",
       "      <td>4</td>\n",
       "      <td>21.217</td>\n",
       "      <td>645</td>\n",
       "      <td>3</td>\n",
       "      <td>6</td>\n",
       "      <td>6</td>\n",
       "    </tr>\n",
       "    <tr>\n",
       "      <th>1</th>\n",
       "      <td>A4</td>\n",
       "      <td>RF</td>\n",
       "      <td>A</td>\n",
       "      <td>0</td>\n",
       "      <td>F</td>\n",
       "      <td>1/27/2021</td>\n",
       "      <td>R</td>\n",
       "      <td>4/23/2019</td>\n",
       "      <td>21</td>\n",
       "      <td>4</td>\n",
       "      <td>21.217</td>\n",
       "      <td>645</td>\n",
       "      <td>3</td>\n",
       "      <td>6</td>\n",
       "      <td>6</td>\n",
       "    </tr>\n",
       "    <tr>\n",
       "      <th>2</th>\n",
       "      <td>A5</td>\n",
       "      <td>RF</td>\n",
       "      <td>A</td>\n",
       "      <td>0</td>\n",
       "      <td>F</td>\n",
       "      <td>4/6/2021</td>\n",
       "      <td>L</td>\n",
       "      <td>4/23/2019</td>\n",
       "      <td>23</td>\n",
       "      <td>14</td>\n",
       "      <td>23.487</td>\n",
       "      <td>714</td>\n",
       "      <td>3</td>\n",
       "      <td>6</td>\n",
       "      <td>6</td>\n",
       "    </tr>\n",
       "    <tr>\n",
       "      <th>3</th>\n",
       "      <td>A6</td>\n",
       "      <td>RF</td>\n",
       "      <td>A</td>\n",
       "      <td>0</td>\n",
       "      <td>F</td>\n",
       "      <td>4/6/2021</td>\n",
       "      <td>R</td>\n",
       "      <td>4/23/2019</td>\n",
       "      <td>23</td>\n",
       "      <td>14</td>\n",
       "      <td>23.487</td>\n",
       "      <td>714</td>\n",
       "      <td>3</td>\n",
       "      <td>6</td>\n",
       "      <td>6</td>\n",
       "    </tr>\n",
       "    <tr>\n",
       "      <th>4</th>\n",
       "      <td>A7</td>\n",
       "      <td>RF</td>\n",
       "      <td>A</td>\n",
       "      <td>0</td>\n",
       "      <td>F</td>\n",
       "      <td>4/19/2021</td>\n",
       "      <td>L</td>\n",
       "      <td>5/29/2019</td>\n",
       "      <td>22</td>\n",
       "      <td>21</td>\n",
       "      <td>22.730</td>\n",
       "      <td>691</td>\n",
       "      <td>3</td>\n",
       "      <td>6</td>\n",
       "      <td>6</td>\n",
       "    </tr>\n",
       "  </tbody>\n",
       "</table>\n",
       "</div>"
      ],
      "text/plain": [
       "  Animal_ID Task Cohort  Probe_Control Sex   Sac_Date Frozen_Hemisphere  \\\n",
       "0        A3   RF      A              0   F  1/27/2021                 R   \n",
       "1        A4   RF      A              0   F  1/27/2021                 R   \n",
       "2        A5   RF      A              0   F   4/6/2021                 L   \n",
       "3        A6   RF      A              0   F   4/6/2021                 R   \n",
       "4        A7   RF      A              0   F  4/19/2021                 L   \n",
       "\n",
       "         DOB  Age_WholeMonth  Age_ExtraDays  Age_Month  Aged_Days  Age_Group  \\\n",
       "0  4/23/2019              21              4     21.217        645          3   \n",
       "1  4/23/2019              21              4     21.217        645          3   \n",
       "2  4/23/2019              23             14     23.487        714          3   \n",
       "3  4/23/2019              23             14     23.487        714          3   \n",
       "4  5/29/2019              22             21     22.730        691          3   \n",
       "\n",
       "   Behavior_Sessions  Neural_Sessions  \n",
       "0                  6                6  \n",
       "1                  6                6  \n",
       "2                  6                6  \n",
       "3                  6                6  \n",
       "4                  6                6  "
      ]
     },
     "execution_count": 5,
     "metadata": {},
     "output_type": "execute_result"
    }
   ],
   "source": [
    "''' Load in Animal Metadata '''\n",
    "\n",
    "animalmeta = pd.read_csv('C:/Users/Python/Desktop/Dryad/MouseMetadata.csv') # adjust path name\n",
    "\n",
    "# define some useful lists of animals based on metadata\n",
    "all_aged_mice = np.array(animalmeta.loc[(animalmeta.Age_Group == 3),'Animal_ID'])\n",
    "all_MA_mice = np.array(animalmeta.loc[(animalmeta.Age_Group == 2),'Animal_ID'])\n",
    "all_young_mice = np.array(animalmeta.loc[(animalmeta.Age_Group == 1),'Animal_ID'])\n",
    "\n",
    "cohorta_mice = np.array(animalmeta.loc[(animalmeta.Cohort == 'A'),'Animal_ID'])\n",
    "cohortb_mice = np.array(animalmeta.loc[(animalmeta.Cohort == 'B'),'Animal_ID'])\n",
    "cohortc_mice = np.array(animalmeta.loc[(animalmeta.Cohort == 'C'),'Animal_ID'])\n",
    "cohortd_mice = np.array(animalmeta.loc[(animalmeta.Cohort == 'D'),'Animal_ID'])\n",
    "\n",
    "RF_aged_mice = np.array(animalmeta.loc[(animalmeta.Age_Group == 3) & (animalmeta.Task == 'RF'),'Animal_ID'])\n",
    "RF_young_mice = np.array(animalmeta.loc[(animalmeta.Age_Group == 1) & (animalmeta.Task == 'RF'),'Animal_ID'])\n",
    "SM_aged_mice = np.array(animalmeta.loc[(animalmeta.Age_Group == 3) & (animalmeta.Task == 'SM'),'Animal_ID'])\n",
    "SM_MA_mice = np.array(animalmeta.loc[(animalmeta.Age_Group == 2) & (animalmeta.Task == 'SM'),'Animal_ID'])\n",
    "SM_young_mice = np.array(animalmeta.loc[(animalmeta.Age_Group == 1) & (animalmeta.Task == 'SM'),'Animal_ID'])\n",
    "\n",
    "all_female_mice = np.array(animalmeta.loc[(animalmeta.Sex == 'F'),'Animal_ID'])\n",
    "all_male_mice = np.array(animalmeta.loc[(animalmeta.Sex == 'M'), 'Animal_ID'])\n",
    "RF_female_mice = np.array(animalmeta.loc[(animalmeta.Sex == 'F') & (animalmeta.Task == 'RF'),'Animal_ID'])\n",
    "RF_male_mice = np.array(animalmeta.loc[(animalmeta.Sex == 'M') & (animalmeta.Task == 'RF'),'Animal_ID'])\n",
    "SM_female_mice = np.array(animalmeta.loc[(animalmeta.Sex == 'F') & (animalmeta.Task == 'SM'),'Animal_ID'])\n",
    "SM_male_mice = np.array(animalmeta.loc[(animalmeta.Sex == 'M') & (animalmeta.Task == 'SM'),'Animal_ID'])\n",
    "\n",
    "animalmeta.head()"
   ]
  },
  {
   "cell_type": "code",
   "execution_count": 6,
   "id": "20757566",
   "metadata": {},
   "outputs": [],
   "source": [
    "''' Complete List of Mice & Neural Sessions '''\n",
    "all_mice = np.array(animalmeta.Animal_ID)\n",
    "\n",
    "all_sessions = ([['0122_record1','0123_record2','0124_record3','0125_record4','0126_record5','0127_record6'], \n",
    "             ['0122_record1','0123_record2','0124_record3','0125_record4','0126_record5','0127_record6'],\n",
    "             ['0401_record1','0401_record2b','0403_record3','0404_record4','0405_record5','0406_record6'],\n",
    "             ['0401_record1','0402_record2','0403_record3','0404_record4','0405_record5','0406_record6'],\n",
    "             ['0414_record1','0415_record2','0416_record3','0417_record4','0418_record5','0419_record6'],\n",
    "             ['1024_record1','1025_record2','1026_record3','1027_record4','1028_record5_2'], #Y2_6 excluded\n",
    "             ['1016_record1','1019_record3','1020_record4','1021_record5','1022_record6'], #Y3_2 not collected\n",
    "             ['1114_record1','1115_record2','1116_record3','1117_record4','1118_record5','1119_record6'], # end cohort A\n",
    "             ['051822_record1','051922_record2', '052022_record3','052122_record4','052222_record5','052322_record6'], \n",
    "             ['050522_record1','050622_record2','050722_record3','050822_record4','050922_record5','051022_record6'],\n",
    "             ['050522_record1','050622_record2','050722_record3','050822_record4','051022_record6'], #Y11_5 not collected\n",
    "             ['062222_record3','062322_record4','062522_record5'], #Y16_1 & 2 not collected, neural _6 excluded\n",
    "             ['062822_record1','062922_record2','063022_record3','070122_record4','070222_record5','070322_record6'],\n",
    "             ['062022_record1','062122_record2','062222_record3','062322_record4','062522_record5','062622_record6'],\n",
    "             ['062822_record1','062922_record2','063022_record3','070122_record4','070222_record5','070322_record6'], \n",
    "             ['051922_record2','052022_record3'], # Y9 051822_1 excluded, end cohort B\n",
    "             ['083022_record1','083122_record2','090122_record3'], \n",
    "             ['083022_record1','083122_record2','090122_record3','090222_record4','090322_record5','090422_record6'],\n",
    "             ['083022_record1','083122_record2','090122_record3','090222_record4'], #behavior of A16_4, both of 5 excluded, 6 not collected \n",
    "             ['082322_record1','082422_record2','082522_record3','082622_record4','082722_record5','082822_record6'],\n",
    "             ['082322_record1real','082422_record2','082522_record3','082622_record4','082722_record5','082822_record6'],\n",
    "             ['102322_record1','102422_record2','102522_record3','102622_record4','102722_record5','102822_record6'],\n",
    "             ['102322_record1','102422_record2','102522_record3','102622_record4','102722_record5','102822_record6'],\n",
    "             ['102322_record1','102422_record2','102522_record3','102622_record4','102722_record5','102822_record6'],\n",
    "             ['103122_record2','110122_record3','110222_record4','110322_record5rep','110422_record6','110522_record7'], #behavior of MA4M6, 7 excluded\n",
    "             ['110622_record1','110722_record2','110822_record3','110922_record4','111022_record5','111122_record6'],\n",
    "             ['103022_record1','103122_record2','110122_record3','110222_record4','110322_record5','110422_record6'],\n",
    "             ['103022_record1','103122_record2','110122_record3','110222_record4'], #behavior of MA7_4, both 5 excluded, 6 not collected\n",
    "             ['111322_record1','111422_record2','111522_record3','111622_record4','111722_record5','111822_record6'],\n",
    "             ['111322_record1','111422_record2','111522_record3','111622_record4','111722_record5','111822_record6'],\n",
    "             ['111322_record1','111422_record2','111522_record3','111622_record4','111722_record5','111822_record6'], \n",
    "             ['092522_record1','092622_record2','092722_record3','092822_record4','092922_record5','093022_record6'],\n",
    "             ['091822_record1','091922_record2','092022_record3','092122_record4','092222_record5','092322_record6'],\n",
    "             ['092522_record1','092622_record2','092722_record3','092822_record4','092922_record5','093022_record6'],\n",
    "             ['092522_record1','092622_record2','092722_record3','092822_record4','092922_record5','093022_record6'],\n",
    "             ['091822_record1','091922_record2','092022_record3','092122_record4','092222_record5','092322_record6'], #end cohortc\n",
    "             ['012723_record2','012823_record3','012923_record4','013023_record5','013123_record6','020123_record7'],\n",
    "             ['012623_record1','012723_record2','012823_record3','012923_record4','013023_record5','013123_record6'],\n",
    "             ['012923_record2','013023_record3','013123_record4','020123_record5','020223_record6','020323_record7'],\n",
    "             ['020923_record1','021023_record2','021123_record3','021223_record4','021323_record5','021423_record6'],\n",
    "             ['022623_record1','022723_record2','022823_record3','030123_record4','030223_record5','030323_record6'],\n",
    "             ['021623_record1','021723_record2','021823_record3','021923_record4','022023_record5','022123_record6'],\n",
    "             ['021623_record1','021723_record2','021823_record3','021923_record4','022023_record5','022123_record6'],\n",
    "             ['021623_record1','021723_record2','021823_record3','021923_record4','022023_record5rep','022123_record6'],\n",
    "             ['022623_record1','022723_record2','022823_record3','030123_record4','030223_record5','030323_record6'] #end cohort d \n",
    "            ]) #list of sessions"
   ]
  },
  {
   "cell_type": "code",
   "execution_count": 7,
   "id": "86c9b889",
   "metadata": {},
   "outputs": [],
   "source": [
    "'''Define which mice & sessions to load based on metadata'''\n",
    "# Define mice, sessions for particular cohorts\n",
    "mice , mice_ind, _  = np.intersect1d(all_mice,(np.union1d(cohorta_mice, cohortb_mice)), return_indices = True) # RF mice \n",
    "\n",
    "sessions = []\n",
    "for i in mice_ind:\n",
    "    sessions.append(all_sessions[i])\n",
    "\n",
    "# Make a dict to hold data\n",
    "data = {}\n",
    "\n",
    "for session, m in zip(sessions, mice):\n",
    "    data[m] = {}\n",
    "    \n",
    "    for s in session:\n",
    "        data[m][s] = {}"
   ]
  },
  {
   "cell_type": "code",
   "execution_count": 8,
   "id": "0b912c21",
   "metadata": {
    "scrolled": false
   },
   "outputs": [
    {
     "data": {
      "application/vnd.jupyter.widget-view+json": {
       "model_id": "e31416c6229447f4a8a33003e1039ce8",
       "version_major": 2,
       "version_minor": 0
      },
      "text/plain": [
       "  0%|          | 0/6 [00:00<?, ?it/s]"
      ]
     },
     "metadata": {},
     "output_type": "display_data"
    },
    {
     "data": {
      "application/vnd.jupyter.widget-view+json": {
       "model_id": "ee1d87908d6d4b40b2a713ba5e4a5a45",
       "version_major": 2,
       "version_minor": 0
      },
      "text/plain": [
       "  0%|          | 0/6 [00:00<?, ?it/s]"
      ]
     },
     "metadata": {},
     "output_type": "display_data"
    },
    {
     "data": {
      "application/vnd.jupyter.widget-view+json": {
       "model_id": "85c944c57cc2436b8d364ca8c3387786",
       "version_major": 2,
       "version_minor": 0
      },
      "text/plain": [
       "  0%|          | 0/6 [00:00<?, ?it/s]"
      ]
     },
     "metadata": {},
     "output_type": "display_data"
    },
    {
     "data": {
      "application/vnd.jupyter.widget-view+json": {
       "model_id": "6d8720ccfbfc406fbb1959b539497a47",
       "version_major": 2,
       "version_minor": 0
      },
      "text/plain": [
       "  0%|          | 0/6 [00:00<?, ?it/s]"
      ]
     },
     "metadata": {},
     "output_type": "display_data"
    },
    {
     "data": {
      "application/vnd.jupyter.widget-view+json": {
       "model_id": "2caee44aaaff44feb4a94388013c89ad",
       "version_major": 2,
       "version_minor": 0
      },
      "text/plain": [
       "  0%|          | 0/6 [00:00<?, ?it/s]"
      ]
     },
     "metadata": {},
     "output_type": "display_data"
    },
    {
     "data": {
      "application/vnd.jupyter.widget-view+json": {
       "model_id": "3fb8024305a446688fe30786dd3ec4bb",
       "version_major": 2,
       "version_minor": 0
      },
      "text/plain": [
       "  0%|          | 0/6 [00:00<?, ?it/s]"
      ]
     },
     "metadata": {},
     "output_type": "display_data"
    },
    {
     "data": {
      "application/vnd.jupyter.widget-view+json": {
       "model_id": "6212cd341b6645ad9fa72b99a11daf8b",
       "version_major": 2,
       "version_minor": 0
      },
      "text/plain": [
       "  0%|          | 0/6 [00:00<?, ?it/s]"
      ]
     },
     "metadata": {},
     "output_type": "display_data"
    },
    {
     "data": {
      "application/vnd.jupyter.widget-view+json": {
       "model_id": "4722b56e0f3e42d78a6994c3b39dc661",
       "version_major": 2,
       "version_minor": 0
      },
      "text/plain": [
       "  0%|          | 0/5 [00:00<?, ?it/s]"
      ]
     },
     "metadata": {},
     "output_type": "display_data"
    },
    {
     "data": {
      "application/vnd.jupyter.widget-view+json": {
       "model_id": "22b941f9d1a94157981688dadfdbf07c",
       "version_major": 2,
       "version_minor": 0
      },
      "text/plain": [
       "  0%|          | 0/3 [00:00<?, ?it/s]"
      ]
     },
     "metadata": {},
     "output_type": "display_data"
    },
    {
     "data": {
      "application/vnd.jupyter.widget-view+json": {
       "model_id": "ff8ffc2f86474e8eb53d0b5d051567ad",
       "version_major": 2,
       "version_minor": 0
      },
      "text/plain": [
       "  0%|          | 0/6 [00:00<?, ?it/s]"
      ]
     },
     "metadata": {},
     "output_type": "display_data"
    },
    {
     "data": {
      "application/vnd.jupyter.widget-view+json": {
       "model_id": "cb8430c30eed48adb060f6737a4cd19d",
       "version_major": 2,
       "version_minor": 0
      },
      "text/plain": [
       "  0%|          | 0/6 [00:00<?, ?it/s]"
      ]
     },
     "metadata": {},
     "output_type": "display_data"
    },
    {
     "data": {
      "application/vnd.jupyter.widget-view+json": {
       "model_id": "c12e40b0736c4b9f928471d6edb64eab",
       "version_major": 2,
       "version_minor": 0
      },
      "text/plain": [
       "  0%|          | 0/6 [00:00<?, ?it/s]"
      ]
     },
     "metadata": {},
     "output_type": "display_data"
    },
    {
     "data": {
      "application/vnd.jupyter.widget-view+json": {
       "model_id": "e612d12fb91342a5b6ef7d0fbf9b9b45",
       "version_major": 2,
       "version_minor": 0
      },
      "text/plain": [
       "  0%|          | 0/5 [00:00<?, ?it/s]"
      ]
     },
     "metadata": {},
     "output_type": "display_data"
    },
    {
     "data": {
      "application/vnd.jupyter.widget-view+json": {
       "model_id": "2ecae12aedab4758b812dec349b90257",
       "version_major": 2,
       "version_minor": 0
      },
      "text/plain": [
       "  0%|          | 0/5 [00:00<?, ?it/s]"
      ]
     },
     "metadata": {},
     "output_type": "display_data"
    },
    {
     "data": {
      "application/vnd.jupyter.widget-view+json": {
       "model_id": "b2f8b5b5db834cb3800bc82e97c82525",
       "version_major": 2,
       "version_minor": 0
      },
      "text/plain": [
       "  0%|          | 0/6 [00:00<?, ?it/s]"
      ]
     },
     "metadata": {},
     "output_type": "display_data"
    },
    {
     "data": {
      "application/vnd.jupyter.widget-view+json": {
       "model_id": "53a3b6137f8f42308cd4e6dae807c434",
       "version_major": 2,
       "version_minor": 0
      },
      "text/plain": [
       "  0%|          | 0/2 [00:00<?, ?it/s]"
      ]
     },
     "metadata": {},
     "output_type": "display_data"
    },
    {
     "name": "stdout",
     "output_type": "stream",
     "text": [
      "10590 10338\n"
     ]
    }
   ],
   "source": [
    "''' Total Number of RF Cells'''\n",
    "\n",
    "load_folder = 'C:/Users/Python/Desktop/LocalData/filtered/'\n",
    "young_count = 0\n",
    "age_count = 0\n",
    "\n",
    "for m, session in zip(mice, sessions):\n",
    "    for s in tdqm(session):\n",
    "        d = data[m][s]\n",
    "        \n",
    "        #Load scores, intn boolean to filter out interneurons\n",
    "        rawdata_file = 'RAW_' + m + '_' + s + '.npy'\n",
    "        raw = np.load(load_folder + rawdata_file, allow_pickle=True)\n",
    "        cell_IDs = raw.item().get('cellsfil')\n",
    "        \n",
    "        if m in RF_aged_mice:\n",
    "            age_count += len(cell_IDs)\n",
    "        else:\n",
    "            young_count += len(cell_IDs)\n",
    "            \n",
    "print(young_count, age_count)"
   ]
  },
  {
   "cell_type": "markdown",
   "id": "7f25359c",
   "metadata": {},
   "source": [
    "# Classify spatial cells using shuffle results OR skip to the next section.\n",
    "\n",
    "You'll only need to run this section only once in order to generate spatial cell booleans for these sessions."
   ]
  },
  {
   "cell_type": "code",
   "execution_count": null,
   "id": "07b0e046",
   "metadata": {},
   "outputs": [],
   "source": [
    "''' Calculate Spatial Firing Sparsity & Coherence Scores for RF Cells \n",
    "\n",
    "OR if you have already run the Figure 5 code, skip to the next cell and load \n",
    "these scores.\n",
    "\n",
    "'''\n",
    "save_folder = 'C:/Users/Python/Desktop/LocalData/spatialcellsrf/'\n",
    "load_folder = 'C:/Users/Python/Desktop/LocalData/filtered/'\n",
    "sparsity_scores = []\n",
    "spatialcoherence_scores = []\n",
    "dt = 0.02\n",
    "\n",
    "for m, session in zip(mice, sessions):\n",
    "    for s in tdqm(session, leave=False):\n",
    "        d = data[m][s]\n",
    "        \n",
    "        #get data\n",
    "        rawdata_file = 'RAW_' + m + '_' + s + '.npy'\n",
    "        spikes_file = 'SPIKES_' + m + '_' + s +'.npy'\n",
    "        behavior_file = 'BEHAVIOR_' + m + '_' + s + '.npy'\n",
    "        \n",
    "        raw = np.load(load_folder + rawdata_file, allow_pickle=True)\n",
    "        Y = np.load(load_folder + spikes_file, allow_pickle=False) #pre-filtered for speeds >2cm/s, position-corrected spikes, 20 ms timebins\n",
    "        behaviorfil = np.load(load_folder + behavior_file, allow_pickle=False)\n",
    "\n",
    "        cell_IDs = raw.item().get('cellsfil')\n",
    "        posx = behaviorfil[:,0]\n",
    "        trial = behaviorfil[:,2]\n",
    "        post = behaviorfil[:,3]\n",
    "        \n",
    "        #get smoothed FR & sparsity scores\n",
    "        smoothFR, centers, smoothocc = ps.tuning_curve(posx, Y, dt, b = 2, l=2, smooth=True, SEM=False, occupancy=True)\n",
    "        total_time = max(post) - min(post)\n",
    "        \n",
    "        sparsity_scores = []\n",
    "        for i, c in enumerate(cell_IDs):\n",
    "            meanFRsqr = np.square(np.mean(smoothFR[:,i]))\n",
    "            products = []\n",
    "            sparsity = []\n",
    "            for b in range(smoothFR.shape[0]):\n",
    "                binmeanFRsqr = np.square(smoothFR[b,i])\n",
    "                prob = smoothocc[b,i]/total_time\n",
    "                prod = prob * binmeanFRsqr\n",
    "                products = np.append(products,prod)\n",
    "            sparsity = np.sum(products) / meanFRsqr\n",
    "            sparsity_scores = np.append(sparsity_scores,sparsity)    \n",
    "        d['sparsityscores'] = sparsity_scores \n",
    "        \n",
    "        #get non-smoothed FR & spatial coherence scores \n",
    "        FR, centers, occ = ps.tuning_curve(posx, Y, dt, b = 2, l=2, smooth=False, SEM=False, occupancy=True)\n",
    "        \n",
    "        spatialcoherence_scores = []\n",
    "        for i, c in enumerate(cell_IDs):\n",
    "            neighbors = find8adjacentElements(FR[:,i])\n",
    "            meanFR_neighbors = []\n",
    "            for b in range(FR.shape[0]):\n",
    "                meanFR_neigh = np.mean(neighbors[b])\n",
    "                meanFR_neighbors = np.append(meanFR_neighbors, meanFR_neigh)\n",
    "            coherence, p = stats.pearsonr(FR[:,i],meanFR_neighbors)\n",
    "            if math.isnan(coherence):\n",
    "                spatialcoherence_scores = np.append(spatialcoherence_scores,0)\n",
    "            else:\n",
    "                spatialcoherence_scores = np.append(spatialcoherence_scores,coherence)\n",
    "        d['spatialcoherencescores'] = spatialcoherence_scores\n",
    "    \n",
    "        #Get file names & save scores as npy files\n",
    "        sparsityscore_file = 'sparsityscores_' + m + '_' + s + '.npy'\n",
    "        spatialcoherencescore_file = 'spatialcoherencescores_' + m + '_' + s + '.npy'\n",
    "\n",
    "        #np.save(save_folder + sparsityscore_file, sparsity_scores)\n",
    "        print('saved sparsity scores as npy file for mouse ' + m + ' session '+ s)\n",
    "\n",
    "        #np.save(save_folder + spatialcoherencescore_file, spatialcoherence_scores)\n",
    "        print('saved spatial coherence scores as npy file for mouse ' + m + ' session '+ s)"
   ]
  },
  {
   "cell_type": "code",
   "execution_count": 11,
   "id": "ce84744f",
   "metadata": {},
   "outputs": [
    {
     "data": {
      "application/vnd.jupyter.widget-view+json": {
       "model_id": "25910b8a0c3f42599762692e624f546a",
       "version_major": 2,
       "version_minor": 0
      },
      "text/plain": [
       "  0%|          | 0/6 [00:00<?, ?it/s]"
      ]
     },
     "metadata": {},
     "output_type": "display_data"
    },
    {
     "name": "stdout",
     "output_type": "stream",
     "text": [
      "loading previously generated sparsity & coherence scores...\n",
      "loading previously generated sparsity & coherence scores...\n",
      "loading previously generated sparsity & coherence scores...\n",
      "loading previously generated sparsity & coherence scores...\n",
      "loading previously generated sparsity & coherence scores...\n",
      "loading previously generated sparsity & coherence scores...\n"
     ]
    },
    {
     "data": {
      "application/vnd.jupyter.widget-view+json": {
       "model_id": "94b692bcd2394f3aacd3fd795405645e",
       "version_major": 2,
       "version_minor": 0
      },
      "text/plain": [
       "  0%|          | 0/6 [00:00<?, ?it/s]"
      ]
     },
     "metadata": {},
     "output_type": "display_data"
    },
    {
     "name": "stdout",
     "output_type": "stream",
     "text": [
      "loading previously generated sparsity & coherence scores...\n",
      "loading previously generated sparsity & coherence scores...\n",
      "loading previously generated sparsity & coherence scores...\n",
      "loading previously generated sparsity & coherence scores...\n",
      "loading previously generated sparsity & coherence scores...\n",
      "loading previously generated sparsity & coherence scores...\n"
     ]
    },
    {
     "data": {
      "application/vnd.jupyter.widget-view+json": {
       "model_id": "bd80f47ac7ef4aa6aec0d0023312e210",
       "version_major": 2,
       "version_minor": 0
      },
      "text/plain": [
       "  0%|          | 0/6 [00:00<?, ?it/s]"
      ]
     },
     "metadata": {},
     "output_type": "display_data"
    },
    {
     "name": "stdout",
     "output_type": "stream",
     "text": [
      "loading previously generated sparsity & coherence scores...\n",
      "loading previously generated sparsity & coherence scores...\n",
      "loading previously generated sparsity & coherence scores...\n",
      "loading previously generated sparsity & coherence scores...\n",
      "loading previously generated sparsity & coherence scores...\n",
      "loading previously generated sparsity & coherence scores...\n"
     ]
    },
    {
     "data": {
      "application/vnd.jupyter.widget-view+json": {
       "model_id": "d5da25b3f0824b449dcde9ad116084f8",
       "version_major": 2,
       "version_minor": 0
      },
      "text/plain": [
       "  0%|          | 0/6 [00:00<?, ?it/s]"
      ]
     },
     "metadata": {},
     "output_type": "display_data"
    },
    {
     "name": "stdout",
     "output_type": "stream",
     "text": [
      "loading previously generated sparsity & coherence scores...\n",
      "loading previously generated sparsity & coherence scores...\n",
      "loading previously generated sparsity & coherence scores...\n",
      "loading previously generated sparsity & coherence scores...\n",
      "loading previously generated sparsity & coherence scores...\n",
      "loading previously generated sparsity & coherence scores...\n"
     ]
    },
    {
     "data": {
      "application/vnd.jupyter.widget-view+json": {
       "model_id": "5b2fa671d06940cf91dbf91af558513c",
       "version_major": 2,
       "version_minor": 0
      },
      "text/plain": [
       "  0%|          | 0/6 [00:00<?, ?it/s]"
      ]
     },
     "metadata": {},
     "output_type": "display_data"
    },
    {
     "name": "stdout",
     "output_type": "stream",
     "text": [
      "loading previously generated sparsity & coherence scores...\n",
      "loading previously generated sparsity & coherence scores...\n",
      "loading previously generated sparsity & coherence scores...\n",
      "loading previously generated sparsity & coherence scores...\n",
      "loading previously generated sparsity & coherence scores...\n",
      "loading previously generated sparsity & coherence scores...\n"
     ]
    },
    {
     "data": {
      "application/vnd.jupyter.widget-view+json": {
       "model_id": "a2518bb13d1c488e998f2ac8b61f8157",
       "version_major": 2,
       "version_minor": 0
      },
      "text/plain": [
       "  0%|          | 0/6 [00:00<?, ?it/s]"
      ]
     },
     "metadata": {},
     "output_type": "display_data"
    },
    {
     "name": "stdout",
     "output_type": "stream",
     "text": [
      "loading previously generated sparsity & coherence scores...\n",
      "loading previously generated sparsity & coherence scores...\n",
      "loading previously generated sparsity & coherence scores...\n",
      "loading previously generated sparsity & coherence scores...\n",
      "loading previously generated sparsity & coherence scores...\n",
      "loading previously generated sparsity & coherence scores...\n"
     ]
    },
    {
     "data": {
      "application/vnd.jupyter.widget-view+json": {
       "model_id": "282c96ae6bf44865b528ca5c8684fe1c",
       "version_major": 2,
       "version_minor": 0
      },
      "text/plain": [
       "  0%|          | 0/6 [00:00<?, ?it/s]"
      ]
     },
     "metadata": {},
     "output_type": "display_data"
    },
    {
     "name": "stdout",
     "output_type": "stream",
     "text": [
      "loading previously generated sparsity & coherence scores...\n",
      "loading previously generated sparsity & coherence scores...\n",
      "loading previously generated sparsity & coherence scores...\n",
      "loading previously generated sparsity & coherence scores...\n",
      "loading previously generated sparsity & coherence scores...\n",
      "loading previously generated sparsity & coherence scores...\n"
     ]
    },
    {
     "data": {
      "application/vnd.jupyter.widget-view+json": {
       "model_id": "3d604b0a12f64c92b3c02343be33bddd",
       "version_major": 2,
       "version_minor": 0
      },
      "text/plain": [
       "  0%|          | 0/5 [00:00<?, ?it/s]"
      ]
     },
     "metadata": {},
     "output_type": "display_data"
    },
    {
     "name": "stdout",
     "output_type": "stream",
     "text": [
      "loading previously generated sparsity & coherence scores...\n",
      "loading previously generated sparsity & coherence scores...\n",
      "loading previously generated sparsity & coherence scores...\n",
      "loading previously generated sparsity & coherence scores...\n",
      "loading previously generated sparsity & coherence scores...\n"
     ]
    },
    {
     "data": {
      "application/vnd.jupyter.widget-view+json": {
       "model_id": "3121cdac28834de2bce15f5d0268d4b9",
       "version_major": 2,
       "version_minor": 0
      },
      "text/plain": [
       "  0%|          | 0/3 [00:00<?, ?it/s]"
      ]
     },
     "metadata": {},
     "output_type": "display_data"
    },
    {
     "name": "stdout",
     "output_type": "stream",
     "text": [
      "loading previously generated sparsity & coherence scores...\n",
      "loading previously generated sparsity & coherence scores...\n",
      "loading previously generated sparsity & coherence scores...\n"
     ]
    },
    {
     "data": {
      "application/vnd.jupyter.widget-view+json": {
       "model_id": "b35be53ee6aa4fb6936cda002b21cbed",
       "version_major": 2,
       "version_minor": 0
      },
      "text/plain": [
       "  0%|          | 0/6 [00:00<?, ?it/s]"
      ]
     },
     "metadata": {},
     "output_type": "display_data"
    },
    {
     "name": "stdout",
     "output_type": "stream",
     "text": [
      "loading previously generated sparsity & coherence scores...\n",
      "loading previously generated sparsity & coherence scores...\n",
      "loading previously generated sparsity & coherence scores...\n",
      "loading previously generated sparsity & coherence scores...\n",
      "loading previously generated sparsity & coherence scores...\n",
      "loading previously generated sparsity & coherence scores...\n"
     ]
    },
    {
     "data": {
      "application/vnd.jupyter.widget-view+json": {
       "model_id": "ee6380ddf7584f8b82b0eafcca3ab72f",
       "version_major": 2,
       "version_minor": 0
      },
      "text/plain": [
       "  0%|          | 0/6 [00:00<?, ?it/s]"
      ]
     },
     "metadata": {},
     "output_type": "display_data"
    },
    {
     "name": "stdout",
     "output_type": "stream",
     "text": [
      "loading previously generated sparsity & coherence scores...\n",
      "loading previously generated sparsity & coherence scores...\n",
      "loading previously generated sparsity & coherence scores...\n",
      "loading previously generated sparsity & coherence scores...\n",
      "loading previously generated sparsity & coherence scores...\n",
      "loading previously generated sparsity & coherence scores...\n"
     ]
    },
    {
     "data": {
      "application/vnd.jupyter.widget-view+json": {
       "model_id": "3395c90ec69947548df854af1fb7ea06",
       "version_major": 2,
       "version_minor": 0
      },
      "text/plain": [
       "  0%|          | 0/6 [00:00<?, ?it/s]"
      ]
     },
     "metadata": {},
     "output_type": "display_data"
    },
    {
     "name": "stdout",
     "output_type": "stream",
     "text": [
      "loading previously generated sparsity & coherence scores...\n",
      "loading previously generated sparsity & coherence scores...\n",
      "loading previously generated sparsity & coherence scores...\n",
      "loading previously generated sparsity & coherence scores...\n",
      "loading previously generated sparsity & coherence scores...\n",
      "loading previously generated sparsity & coherence scores...\n"
     ]
    },
    {
     "data": {
      "application/vnd.jupyter.widget-view+json": {
       "model_id": "709bae78d39147faa9e366490bf60585",
       "version_major": 2,
       "version_minor": 0
      },
      "text/plain": [
       "  0%|          | 0/5 [00:00<?, ?it/s]"
      ]
     },
     "metadata": {},
     "output_type": "display_data"
    },
    {
     "name": "stdout",
     "output_type": "stream",
     "text": [
      "loading previously generated sparsity & coherence scores...\n",
      "loading previously generated sparsity & coherence scores...\n",
      "loading previously generated sparsity & coherence scores...\n",
      "loading previously generated sparsity & coherence scores...\n",
      "loading previously generated sparsity & coherence scores...\n"
     ]
    },
    {
     "data": {
      "application/vnd.jupyter.widget-view+json": {
       "model_id": "493b38b72da94e6fa46e393c7815534f",
       "version_major": 2,
       "version_minor": 0
      },
      "text/plain": [
       "  0%|          | 0/5 [00:00<?, ?it/s]"
      ]
     },
     "metadata": {},
     "output_type": "display_data"
    },
    {
     "name": "stdout",
     "output_type": "stream",
     "text": [
      "loading previously generated sparsity & coherence scores...\n",
      "loading previously generated sparsity & coherence scores...\n",
      "loading previously generated sparsity & coherence scores...\n",
      "loading previously generated sparsity & coherence scores...\n",
      "loading previously generated sparsity & coherence scores...\n"
     ]
    },
    {
     "data": {
      "application/vnd.jupyter.widget-view+json": {
       "model_id": "16ab6329e96d4e609e2c10c813e9176b",
       "version_major": 2,
       "version_minor": 0
      },
      "text/plain": [
       "  0%|          | 0/6 [00:00<?, ?it/s]"
      ]
     },
     "metadata": {},
     "output_type": "display_data"
    },
    {
     "name": "stdout",
     "output_type": "stream",
     "text": [
      "loading previously generated sparsity & coherence scores...\n",
      "loading previously generated sparsity & coherence scores...\n",
      "loading previously generated sparsity & coherence scores...\n",
      "loading previously generated sparsity & coherence scores...\n",
      "loading previously generated sparsity & coherence scores...\n",
      "loading previously generated sparsity & coherence scores...\n"
     ]
    },
    {
     "data": {
      "application/vnd.jupyter.widget-view+json": {
       "model_id": "44dae69b66894fb3ac9956bb3243a4e9",
       "version_major": 2,
       "version_minor": 0
      },
      "text/plain": [
       "  0%|          | 0/2 [00:00<?, ?it/s]"
      ]
     },
     "metadata": {},
     "output_type": "display_data"
    },
    {
     "name": "stdout",
     "output_type": "stream",
     "text": [
      "loading previously generated sparsity & coherence scores...\n",
      "loading previously generated sparsity & coherence scores...\n"
     ]
    }
   ],
   "source": [
    "''' Load saved scores to classify spatial cells or use the ones you just generated above\n",
    "\n",
    "Note : intn boolean & shuffled scores are produced by the notebook \"Shuffle Procedure....\" Please run that for all sessions \n",
    "before proceeding here or use saved scores in Dryad repository.\n",
    "'''\n",
    "\n",
    "# adjust paths \n",
    "shuffload_folder1 = 'C:/Users/Python/Desktop/Dryad/shuffle_scores/sparsity/'\n",
    "shuffload_folder2 = 'C:/Users/Python/Desktop/Dryad/shuffle_scores/coherence/'\n",
    "shuffle_folder = 'C:/Users/Python/Desktop/LocalData/intnspeedcells/' # adjust to output of shuffle procedure notebook\n",
    "save_folder = 'C:/Users/Python/Desktop/LocalData/spatialcellsrf/'\n",
    "\n",
    "for m, session in zip(mice, sessions):\n",
    "    for s in tdqm(session):\n",
    "        d = data[m][s]\n",
    "        \n",
    "        #get file names\n",
    "        shufsparsityscore_file = 'shufsparsityscores_' + m + '_' + s + '.npy'\n",
    "        shufspatialcoherencescore_file = 'shufspatialcoherencescores_' + m + '_' + s + '.npy'\n",
    "        intn_file = 'intn_' + m + '_' + s + '.npy'\n",
    "\n",
    "        #load npy files       \n",
    "\n",
    "        d['shuffsparsityscores'] = np.load(shuffload_folder1 + shufsparsityscore_file, allow_pickle=False)\n",
    "        d['shuffspatialcoherencescores'] = np.load(shuffload_folder2 + shufspatialcoherencescore_file, allow_pickle=False)\n",
    "        d['intn'] = np.load(shuffle_folder + intn_file, allow_pickle = True)\n",
    "        d['intn'] = d['intn'].astype(bool)\n",
    "\n",
    "        \n",
    "        try:\n",
    "            _ = d['spatialasparsity'].shape\n",
    "        except:\n",
    "            print('loading previously generated sparsity & coherence scores...')\n",
    "            sparsityscore_file = 'sparsityscores_' + m + '_' + s + '.npy'\n",
    "            spatialcoherencescore_file = 'spatialcoherencescores_' + m + '_' + s + '.npy'\n",
    "            \n",
    "            d['sparsityscores'] = np.load(save_folder + sparsityscore_file, allow_pickle=True)\n",
    "            d['spatialcoherencescores'] = np.load(save_folder + spatialcoherencescore_file, allow_pickle=True)"
   ]
  },
  {
   "cell_type": "code",
   "execution_count": 12,
   "id": "a9096e41",
   "metadata": {},
   "outputs": [
    {
     "data": {
      "application/vnd.jupyter.widget-view+json": {
       "model_id": "27eb8605ceef41da8b9e0ab21024810d",
       "version_major": 2,
       "version_minor": 0
      },
      "text/plain": [
       "  0%|          | 0/6 [00:00<?, ?it/s]"
      ]
     },
     "metadata": {},
     "output_type": "display_data"
    },
    {
     "data": {
      "application/vnd.jupyter.widget-view+json": {
       "model_id": "bdeb76ddde504ae78f4863feeec1f1fb",
       "version_major": 2,
       "version_minor": 0
      },
      "text/plain": [
       "  0%|          | 0/6 [00:00<?, ?it/s]"
      ]
     },
     "metadata": {},
     "output_type": "display_data"
    },
    {
     "data": {
      "application/vnd.jupyter.widget-view+json": {
       "model_id": "2ceac8356ecd493ca0d38380120b7d84",
       "version_major": 2,
       "version_minor": 0
      },
      "text/plain": [
       "  0%|          | 0/6 [00:00<?, ?it/s]"
      ]
     },
     "metadata": {},
     "output_type": "display_data"
    },
    {
     "data": {
      "application/vnd.jupyter.widget-view+json": {
       "model_id": "aeae37eb712341778296154aebec4c8c",
       "version_major": 2,
       "version_minor": 0
      },
      "text/plain": [
       "  0%|          | 0/6 [00:00<?, ?it/s]"
      ]
     },
     "metadata": {},
     "output_type": "display_data"
    },
    {
     "data": {
      "application/vnd.jupyter.widget-view+json": {
       "model_id": "1981cc847c254fd7bdcf38b86635219d",
       "version_major": 2,
       "version_minor": 0
      },
      "text/plain": [
       "  0%|          | 0/6 [00:00<?, ?it/s]"
      ]
     },
     "metadata": {},
     "output_type": "display_data"
    },
    {
     "data": {
      "application/vnd.jupyter.widget-view+json": {
       "model_id": "6e9ee169ba9a4ff6bc9bf5ad680e88d5",
       "version_major": 2,
       "version_minor": 0
      },
      "text/plain": [
       "  0%|          | 0/6 [00:00<?, ?it/s]"
      ]
     },
     "metadata": {},
     "output_type": "display_data"
    },
    {
     "data": {
      "application/vnd.jupyter.widget-view+json": {
       "model_id": "b064727f0bcf4cce88b68b312c34cd17",
       "version_major": 2,
       "version_minor": 0
      },
      "text/plain": [
       "  0%|          | 0/6 [00:00<?, ?it/s]"
      ]
     },
     "metadata": {},
     "output_type": "display_data"
    },
    {
     "data": {
      "application/vnd.jupyter.widget-view+json": {
       "model_id": "60e4b5ef21874fafafc9f9bc41c8ebc4",
       "version_major": 2,
       "version_minor": 0
      },
      "text/plain": [
       "  0%|          | 0/5 [00:00<?, ?it/s]"
      ]
     },
     "metadata": {},
     "output_type": "display_data"
    },
    {
     "data": {
      "application/vnd.jupyter.widget-view+json": {
       "model_id": "eefac50b24584f67b19b199356e8432a",
       "version_major": 2,
       "version_minor": 0
      },
      "text/plain": [
       "  0%|          | 0/3 [00:00<?, ?it/s]"
      ]
     },
     "metadata": {},
     "output_type": "display_data"
    },
    {
     "data": {
      "application/vnd.jupyter.widget-view+json": {
       "model_id": "e19ab454943b48a080fee1f830cc30af",
       "version_major": 2,
       "version_minor": 0
      },
      "text/plain": [
       "  0%|          | 0/6 [00:00<?, ?it/s]"
      ]
     },
     "metadata": {},
     "output_type": "display_data"
    },
    {
     "data": {
      "application/vnd.jupyter.widget-view+json": {
       "model_id": "0e884dd592974226847dfdcdb1229338",
       "version_major": 2,
       "version_minor": 0
      },
      "text/plain": [
       "  0%|          | 0/6 [00:00<?, ?it/s]"
      ]
     },
     "metadata": {},
     "output_type": "display_data"
    },
    {
     "data": {
      "application/vnd.jupyter.widget-view+json": {
       "model_id": "b31152a5955a44238a7c3e7947bdb040",
       "version_major": 2,
       "version_minor": 0
      },
      "text/plain": [
       "  0%|          | 0/6 [00:00<?, ?it/s]"
      ]
     },
     "metadata": {},
     "output_type": "display_data"
    },
    {
     "data": {
      "application/vnd.jupyter.widget-view+json": {
       "model_id": "41eab128898546aa9d4fae236ab36ed7",
       "version_major": 2,
       "version_minor": 0
      },
      "text/plain": [
       "  0%|          | 0/5 [00:00<?, ?it/s]"
      ]
     },
     "metadata": {},
     "output_type": "display_data"
    },
    {
     "data": {
      "application/vnd.jupyter.widget-view+json": {
       "model_id": "317e61bba5a4400d9b2a8caa9d5f30b4",
       "version_major": 2,
       "version_minor": 0
      },
      "text/plain": [
       "  0%|          | 0/5 [00:00<?, ?it/s]"
      ]
     },
     "metadata": {},
     "output_type": "display_data"
    },
    {
     "data": {
      "application/vnd.jupyter.widget-view+json": {
       "model_id": "0530b3cfbcea40e6a765d0e75760678e",
       "version_major": 2,
       "version_minor": 0
      },
      "text/plain": [
       "  0%|          | 0/6 [00:00<?, ?it/s]"
      ]
     },
     "metadata": {},
     "output_type": "display_data"
    },
    {
     "data": {
      "application/vnd.jupyter.widget-view+json": {
       "model_id": "83b09af574114525a6b7e1d08715d2fb",
       "version_major": 2,
       "version_minor": 0
      },
      "text/plain": [
       "  0%|          | 0/2 [00:00<?, ?it/s]"
      ]
     },
     "metadata": {},
     "output_type": "display_data"
    },
    {
     "name": "stdout",
     "output_type": "stream",
     "text": [
      "\n",
      "Mean ± SEM Coherence P99: 0.44397451511927966 ± 0.001023052553156076\n",
      "\n",
      "Mean ± SEM Sparsity P99: 0.8021158854819103 ± 0.0022493857825195036\n"
     ]
    }
   ],
   "source": [
    "''' Classify Spatial Cells from all Sessions: \n",
    "\n",
    "Note : shuffled scores are produced by the notebook \"Shuffle Procedure.\" \n",
    "Please run that for all sessions before proceeding here.\n",
    "\n",
    "'''\n",
    "load_folder = 'C:/Users/Python/Desktop/LocalData/filtered/'\n",
    "load2_folder = 'C:/Users/Python/Desktop/LocalData/intnspeedcells/' # adjust path to output of Shuffle Procedure \n",
    "\n",
    "per99c = []\n",
    "per99s = []\n",
    "dt = 0.02\n",
    "\n",
    "for m, session in zip(mice, sessions):\n",
    "    for s in tdqm(session):\n",
    "        d = data[m][s]\n",
    "        \n",
    "        #Load scores, intn boolean to filter out interneurons\n",
    "        rawdata_file = 'RAW_' + m + '_' + s + '.npy'\n",
    "        intn_file = 'intn_' + m + '_' + s + '.npy'\n",
    "        \n",
    "        raw = np.load(load_folder + rawdata_file, allow_pickle=True)\n",
    "        d['intn'] = np.load(load2_folder + intn_file, allow_pickle = True)\n",
    "        cell_IDs = raw.item().get('cellsfil')\n",
    "        sparsity_scores = d['sparsityscores']\n",
    "        spatialcoherence_scores = d['spatialcoherencescores']\n",
    "        shuffsparsityscores = d['shuffsparsityscores']\n",
    "        shuffspatialcoherencescores = d['shuffspatialcoherencescores'] \n",
    "        intn = d['intn'].astype(bool)\n",
    "\n",
    "        #Classify spatial cells as those >P95, >P99 of both sparsity & coherence distributions\n",
    "        spatialcell99 = []\n",
    "        spatialcells99 = []\n",
    "    \n",
    "        for i, c in enumerate(cell_IDs):\n",
    "            dist1 = shuffspatialcoherencescores[:,i]\n",
    "            P991 = np.percentile(dist1,99)\n",
    "\n",
    "            dist2 = shuffsparsityscores[:,i]\n",
    "            P992 = np.percentile(dist2,99)\n",
    "            \n",
    "            per99c.append(P991)\n",
    "            per99s.append(P992)\n",
    "\n",
    "            if intn[i] == True:\n",
    "                spatialcell99 = np.append(spatialcell99, False)\n",
    "            elif (spatialcoherence_scores[i] > P991) & (sparsity_scores[i] > P992):\n",
    "                spatialcell99 = np.append(spatialcell99, True)\n",
    "            else:\n",
    "                spatialcell99 = np.append(spatialcell99, False)\n",
    "\n",
    "        spatialcell99 = np.asarray(spatialcell99).astype(bool)\n",
    "        \n",
    "        d['spatialcells99'] = cell_IDs[spatialcell99]\n",
    "        d['spatialcell99'] = spatialcell99\n",
    "        \n",
    "        spatialcell99_file = 'spatialcell99_' + m + '_' + s + '.npy'\n",
    "        #np.save(save_folder + spatialcell99_file, spatialcell99)\n",
    "        #print('saved spatial cell booleans as npy files for mouse ' + m + ' session '+ s)\n",
    "\n",
    "print('\\nMean ± SEM Coherence P99: ' + str(np.mean(per99c)) + ' ± ' + str(stats.sem(per99c)))  \n",
    "print('\\nMean ± SEM Sparsity P99: ' + str(np.nanmean(per99s)) + ' ± ' + str(stats.sem(per99s,  nan_policy = 'omit'))) "
   ]
  },
  {
   "cell_type": "code",
   "execution_count": 23,
   "id": "e96913ff",
   "metadata": {},
   "outputs": [
    {
     "data": {
      "application/vnd.jupyter.widget-view+json": {
       "model_id": "3c043e75b12d4bbd966f868f6abbb3a6",
       "version_major": 2,
       "version_minor": 0
      },
      "text/plain": [
       "  0%|          | 0/6 [00:00<?, ?it/s]"
      ]
     },
     "metadata": {},
     "output_type": "display_data"
    },
    {
     "name": "stdout",
     "output_type": "stream",
     "text": [
      "A12, 051822_record1 n spatial cells: 86\n",
      "A12, 051922_record2 n spatial cells: 241\n",
      "A12, 052022_record3 n spatial cells: 128\n",
      "A12, 052122_record4 n spatial cells: 62\n",
      "A12, 052222_record5 n spatial cells: 93\n",
      "A12, 052322_record6 n spatial cells: 32\n"
     ]
    },
    {
     "data": {
      "application/vnd.jupyter.widget-view+json": {
       "model_id": "015552c4d72c45829b0f8d8ec41c51f3",
       "version_major": 2,
       "version_minor": 0
      },
      "text/plain": [
       "  0%|          | 0/6 [00:00<?, ?it/s]"
      ]
     },
     "metadata": {},
     "output_type": "display_data"
    },
    {
     "name": "stdout",
     "output_type": "stream",
     "text": [
      "A13, 050522_record1 n spatial cells: 96\n",
      "A13, 050622_record2 n spatial cells: 297\n",
      "A13, 050722_record3 n spatial cells: 269\n",
      "A13, 050822_record4 n spatial cells: 92\n",
      "A13, 050922_record5 n spatial cells: 26\n",
      "A13, 051022_record6 n spatial cells: 116\n"
     ]
    },
    {
     "data": {
      "application/vnd.jupyter.widget-view+json": {
       "model_id": "2a5a69761fde468dafb3983cda782a5a",
       "version_major": 2,
       "version_minor": 0
      },
      "text/plain": [
       "  0%|          | 0/6 [00:00<?, ?it/s]"
      ]
     },
     "metadata": {},
     "output_type": "display_data"
    },
    {
     "name": "stdout",
     "output_type": "stream",
     "text": [
      "A3, 0122_record1 n spatial cells: 17\n",
      "A3, 0123_record2 n spatial cells: 7\n",
      "A3, 0124_record3 n spatial cells: 15\n",
      "A3, 0125_record4 n spatial cells: 86\n",
      "A3, 0126_record5 n spatial cells: 5\n",
      "A3, 0127_record6 n spatial cells: 29\n"
     ]
    },
    {
     "data": {
      "application/vnd.jupyter.widget-view+json": {
       "model_id": "3a6f418bbe7f4e2aa71a1be52aec387b",
       "version_major": 2,
       "version_minor": 0
      },
      "text/plain": [
       "  0%|          | 0/6 [00:00<?, ?it/s]"
      ]
     },
     "metadata": {},
     "output_type": "display_data"
    },
    {
     "name": "stdout",
     "output_type": "stream",
     "text": [
      "A4, 0122_record1 n spatial cells: 71\n",
      "A4, 0123_record2 n spatial cells: 56\n",
      "A4, 0124_record3 n spatial cells: 69\n",
      "A4, 0125_record4 n spatial cells: 139\n",
      "A4, 0126_record5 n spatial cells: 179\n",
      "A4, 0127_record6 n spatial cells: 44\n"
     ]
    },
    {
     "data": {
      "application/vnd.jupyter.widget-view+json": {
       "model_id": "ec43db0a59b04155971b23c89a15639f",
       "version_major": 2,
       "version_minor": 0
      },
      "text/plain": [
       "  0%|          | 0/6 [00:00<?, ?it/s]"
      ]
     },
     "metadata": {},
     "output_type": "display_data"
    },
    {
     "name": "stdout",
     "output_type": "stream",
     "text": [
      "A5, 0401_record1 n spatial cells: 20\n",
      "A5, 0401_record2b n spatial cells: 81\n",
      "A5, 0403_record3 n spatial cells: 67\n",
      "A5, 0404_record4 n spatial cells: 99\n",
      "A5, 0405_record5 n spatial cells: 16\n",
      "A5, 0406_record6 n spatial cells: 19\n"
     ]
    },
    {
     "data": {
      "application/vnd.jupyter.widget-view+json": {
       "model_id": "3505b5afbcf748b7b10ac596928f09ea",
       "version_major": 2,
       "version_minor": 0
      },
      "text/plain": [
       "  0%|          | 0/6 [00:00<?, ?it/s]"
      ]
     },
     "metadata": {},
     "output_type": "display_data"
    },
    {
     "name": "stdout",
     "output_type": "stream",
     "text": [
      "A6, 0401_record1 n spatial cells: 72\n",
      "A6, 0402_record2 n spatial cells: 10\n",
      "A6, 0403_record3 n spatial cells: 19\n",
      "A6, 0404_record4 n spatial cells: 60\n",
      "A6, 0405_record5 n spatial cells: 68\n",
      "A6, 0406_record6 n spatial cells: 44\n"
     ]
    },
    {
     "data": {
      "application/vnd.jupyter.widget-view+json": {
       "model_id": "1e1803ba848445c5991962030635f80a",
       "version_major": 2,
       "version_minor": 0
      },
      "text/plain": [
       "  0%|          | 0/6 [00:00<?, ?it/s]"
      ]
     },
     "metadata": {},
     "output_type": "display_data"
    },
    {
     "name": "stdout",
     "output_type": "stream",
     "text": [
      "A7, 0414_record1 n spatial cells: 82\n",
      "A7, 0415_record2 n spatial cells: 147\n",
      "A7, 0416_record3 n spatial cells: 153\n",
      "A7, 0417_record4 n spatial cells: 158\n",
      "A7, 0418_record5 n spatial cells: 103\n",
      "A7, 0419_record6 n spatial cells: 74\n"
     ]
    },
    {
     "data": {
      "application/vnd.jupyter.widget-view+json": {
       "model_id": "2d314f8e267b45ee8f9e14f882a0022e",
       "version_major": 2,
       "version_minor": 0
      },
      "text/plain": [
       "  0%|          | 0/5 [00:00<?, ?it/s]"
      ]
     },
     "metadata": {},
     "output_type": "display_data"
    },
    {
     "name": "stdout",
     "output_type": "stream",
     "text": [
      "Y11, 050522_record1 n spatial cells: 52\n",
      "Y11, 050622_record2 n spatial cells: 146\n",
      "Y11, 050722_record3 n spatial cells: 274\n",
      "Y11, 050822_record4 n spatial cells: 51\n",
      "Y11, 051022_record6 n spatial cells: 125\n"
     ]
    },
    {
     "data": {
      "application/vnd.jupyter.widget-view+json": {
       "model_id": "7dc7bbc4dac641f1a3d1125288d33e57",
       "version_major": 2,
       "version_minor": 0
      },
      "text/plain": [
       "  0%|          | 0/3 [00:00<?, ?it/s]"
      ]
     },
     "metadata": {},
     "output_type": "display_data"
    },
    {
     "name": "stdout",
     "output_type": "stream",
     "text": [
      "Y16, 062222_record3 n spatial cells: 54\n",
      "Y16, 062322_record4 n spatial cells: 6\n",
      "Y16, 062522_record5 n spatial cells: 1\n"
     ]
    },
    {
     "data": {
      "application/vnd.jupyter.widget-view+json": {
       "model_id": "9882106a7d124965a6a3c0a2d5bedd33",
       "version_major": 2,
       "version_minor": 0
      },
      "text/plain": [
       "  0%|          | 0/6 [00:00<?, ?it/s]"
      ]
     },
     "metadata": {},
     "output_type": "display_data"
    },
    {
     "name": "stdout",
     "output_type": "stream",
     "text": [
      "Y17, 062822_record1 n spatial cells: 59\n",
      "Y17, 062922_record2 n spatial cells: 111\n",
      "Y17, 063022_record3 n spatial cells: 63\n",
      "Y17, 070122_record4 n spatial cells: 245\n",
      "Y17, 070222_record5 n spatial cells: 214\n",
      "Y17, 070322_record6 n spatial cells: 177\n"
     ]
    },
    {
     "data": {
      "application/vnd.jupyter.widget-view+json": {
       "model_id": "782191a70d7a47baa13b3b1e80927fa6",
       "version_major": 2,
       "version_minor": 0
      },
      "text/plain": [
       "  0%|          | 0/6 [00:00<?, ?it/s]"
      ]
     },
     "metadata": {},
     "output_type": "display_data"
    },
    {
     "name": "stdout",
     "output_type": "stream",
     "text": [
      "Y18, 062022_record1 n spatial cells: 231\n",
      "Y18, 062122_record2 n spatial cells: 193\n",
      "Y18, 062222_record3 n spatial cells: 202\n",
      "Y18, 062322_record4 n spatial cells: 100\n",
      "Y18, 062522_record5 n spatial cells: 235\n",
      "Y18, 062622_record6 n spatial cells: 139\n"
     ]
    },
    {
     "data": {
      "application/vnd.jupyter.widget-view+json": {
       "model_id": "867584c03409477e8d9958be4fa8042d",
       "version_major": 2,
       "version_minor": 0
      },
      "text/plain": [
       "  0%|          | 0/6 [00:00<?, ?it/s]"
      ]
     },
     "metadata": {},
     "output_type": "display_data"
    },
    {
     "name": "stdout",
     "output_type": "stream",
     "text": [
      "Y19, 062822_record1 n spatial cells: 102\n",
      "Y19, 062922_record2 n spatial cells: 106\n",
      "Y19, 063022_record3 n spatial cells: 78\n",
      "Y19, 070122_record4 n spatial cells: 190\n",
      "Y19, 070222_record5 n spatial cells: 205\n",
      "Y19, 070322_record6 n spatial cells: 175\n"
     ]
    },
    {
     "data": {
      "application/vnd.jupyter.widget-view+json": {
       "model_id": "a22b1d2ed70341ffaa5c1ab7f5a1052e",
       "version_major": 2,
       "version_minor": 0
      },
      "text/plain": [
       "  0%|          | 0/5 [00:00<?, ?it/s]"
      ]
     },
     "metadata": {},
     "output_type": "display_data"
    },
    {
     "name": "stdout",
     "output_type": "stream",
     "text": [
      "Y2, 1024_record1 n spatial cells: 79\n",
      "Y2, 1025_record2 n spatial cells: 22\n",
      "Y2, 1026_record3 n spatial cells: 63\n",
      "Y2, 1027_record4 n spatial cells: 6\n",
      "Y2, 1028_record5_2 n spatial cells: 11\n"
     ]
    },
    {
     "data": {
      "application/vnd.jupyter.widget-view+json": {
       "model_id": "2a88bc4d2e5d45a78c57c3bc24d751cd",
       "version_major": 2,
       "version_minor": 0
      },
      "text/plain": [
       "  0%|          | 0/5 [00:00<?, ?it/s]"
      ]
     },
     "metadata": {},
     "output_type": "display_data"
    },
    {
     "name": "stdout",
     "output_type": "stream",
     "text": [
      "Y3, 1016_record1 n spatial cells: 42\n",
      "Y3, 1019_record3 n spatial cells: 36\n",
      "Y3, 1020_record4 n spatial cells: 71\n",
      "Y3, 1021_record5 n spatial cells: 101\n",
      "Y3, 1022_record6 n spatial cells: 106\n"
     ]
    },
    {
     "data": {
      "application/vnd.jupyter.widget-view+json": {
       "model_id": "05aee8457ea14868aae3ca19a0f9d566",
       "version_major": 2,
       "version_minor": 0
      },
      "text/plain": [
       "  0%|          | 0/6 [00:00<?, ?it/s]"
      ]
     },
     "metadata": {},
     "output_type": "display_data"
    },
    {
     "name": "stdout",
     "output_type": "stream",
     "text": [
      "Y4, 1114_record1 n spatial cells: 104\n",
      "Y4, 1115_record2 n spatial cells: 55\n",
      "Y4, 1116_record3 n spatial cells: 44\n",
      "Y4, 1117_record4 n spatial cells: 235\n",
      "Y4, 1118_record5 n spatial cells: 287\n",
      "Y4, 1119_record6 n spatial cells: 126\n"
     ]
    },
    {
     "data": {
      "application/vnd.jupyter.widget-view+json": {
       "model_id": "f46a9935fcda44e9ae0807755f7a0c5d",
       "version_major": 2,
       "version_minor": 0
      },
      "text/plain": [
       "  0%|          | 0/2 [00:00<?, ?it/s]"
      ]
     },
     "metadata": {},
     "output_type": "display_data"
    },
    {
     "name": "stdout",
     "output_type": "stream",
     "text": [
      "Y9, 051922_record2 n spatial cells: 7\n",
      "Y9, 052022_record3 n spatial cells: 0\n"
     ]
    }
   ],
   "source": [
    "''' Check out distribution of spatial cells '''\n",
    "\n",
    "per99 = []\n",
    "sper99 = []\n",
    "mper99 = []\n",
    "\n",
    "for m, session in zip(mice,sessions):\n",
    "    \n",
    "    m_99 = []\n",
    "    m_cells = []\n",
    "    \n",
    "    for s in tdqm(session):\n",
    "        d = data[m][s]\n",
    "        \n",
    "        #load in data\n",
    "        rawdata_file = 'RAW_' + m + '_' + s + '.npy'\n",
    "        raw = np.load(load_folder + rawdata_file, allow_pickle=True)\n",
    "        cell_IDs = raw.item().get('cellsfil')\n",
    "        \n",
    "        #load all spatial cell boolean\n",
    "        spatialcell = d['spatialcell99']\n",
    "        spatialcells = cell_IDs[spatialcell]\n",
    "        \n",
    "        print(m + ', ' + s + ' n spatial cells: '+ str(np.sum(spatialcell)))\n",
    "        per99 = np.append(per99, 100*np.sum(spatialcell)/len(cell_IDs))\n",
    "        sper99 = np.append(sper99, 100*np.sum(spatialcell)/len(cell_IDs))\n",
    "        m_99 = np.append(m_99, np.sum(spatialcell))\n",
    "        m_cells = np.append(m_cells, len(cell_IDs))\n",
    "        \n",
    "    mper99 = np.append(mper99, np.sum(m_99)/np.sum(m_cells))"
   ]
  },
  {
   "cell_type": "code",
   "execution_count": 20,
   "id": "82508bce",
   "metadata": {},
   "outputs": [
    {
     "name": "stdout",
     "output_type": "stream",
     "text": [
      "Mean, SEM Spatial Cell %\n",
      "38.46812611786303 2.3390964378094172\n"
     ]
    },
    {
     "data": {
      "image/png": "[encoded data removed]",
      "text/plain": [
       "<Figure size 250x250 with 1 Axes>"
      ]
     },
     "metadata": {},
     "output_type": "display_data"
    }
   ],
   "source": [
    "''' Examine grid & NGS cell densities quickly as a sanity check'''\n",
    "\n",
    "# Assess distribution of grid/ngs cell densities\n",
    "print('Mean, SEM Spatial Cell %')\n",
    "print(np.mean(per99), stats.sem(per99))\n",
    "\n",
    "#plot grid vs. ngs cell % distributions\n",
    "fig, ax = plt.subplots(1,1,figsize = (2.5,2.5), sharey = True)\n",
    "ax.hist(per99, bins = np.arange(0,85,5), edgecolor = 'black',alpha = 0.5, color = 'C0')\n",
    "ax.set_title('Sessions vs. Spatial Cell %')\n",
    "ax.set_ylabel('Number of Sessions')\n",
    "ax.set_xlabel('Spatial Cell %')\n",
    "\n",
    "plt.show()"
   ]
  },
  {
   "cell_type": "code",
   "execution_count": 21,
   "id": "99647094",
   "metadata": {},
   "outputs": [
    {
     "name": "stdout",
     "output_type": "stream",
     "text": [
      "['Y11' 'Y16' 'Y17' 'Y18' 'Y19' 'Y2' 'Y3' 'Y4' 'Y9'] ['A12' 'A13' 'A3' 'A4' 'A5' 'A6' 'A7']\n",
      "9 7\n",
      "44 42\n"
     ]
    }
   ],
   "source": [
    "'''Get Indices of Stored Session, Animal Data Mice by Age Group'''\n",
    "age_ind = []\n",
    "y_ind = []\n",
    "age_sind = []\n",
    "y_sind = []\n",
    "\n",
    "s_count = 0\n",
    "for m, s in zip(mice, sessions):\n",
    "    start = s_count\n",
    "    end = len(s) + s_count\n",
    "\n",
    "    if m in all_aged_mice:\n",
    "        age_ind = np.append(age_ind, (np.where(mice == m)[0]))\n",
    "        age_sind = np.append(age_sind, np.arange(start, end, 1))\n",
    "    else:\n",
    "        y_ind = np.append(y_ind, (np.where(mice == m)[0]))\n",
    "        y_sind = np.append(y_sind, np.arange(start, end, 1))\n",
    "                            \n",
    "    s_count += len(s)\n",
    "    \n",
    "age_ind = age_ind.astype(int)\n",
    "y_ind = y_ind.astype(int)\n",
    "age_sind = age_sind.astype(int)\n",
    "y_sind = y_sind.astype(int)\n",
    "\n",
    "print(mice[y_ind], mice[age_ind])\n",
    "print(len(mice[y_ind]), len(mice[age_ind]))\n",
    "print(len(y_sind), len(age_sind))\n",
    "Nold = len(mice[age_ind])\n",
    "Nyoung = len(mice[y_ind])"
   ]
  },
  {
   "cell_type": "code",
   "execution_count": 25,
   "id": "dd7bd467",
   "metadata": {},
   "outputs": [],
   "source": [
    "''' Define ColorMaps for Session & Animal Boxplots '''\n",
    "import matplotlib.pylab as pl\n",
    "import matplotlib.lines as mlines\n",
    "\n",
    "col_animal_old = pl.cm.Oranges([np.linspace(0.2,0.9,Nold)])\n",
    "col_animal_young = pl.cm.Blues([np.linspace(0.2,0.9,Nyoung)])\n",
    "col_animal = [col_animal_young, col_animal_old]\n",
    "\n",
    "col_session_young = []\n",
    "col_session_old = []\n",
    "for m, session in zip(mice, sessions):\n",
    "    for s in range(0,len(session)):\n",
    "        \n",
    "        if m in RF_aged_mice:\n",
    "            idx = np.where(mice == m)[0][0]\n",
    "            col_session_old.append(col_animal[1][0][idx])\n",
    "        else:\n",
    "            idx = np.where(mice == m)[0][0] - Nold\n",
    "            col_session_young.append(col_animal[0][0][idx])\n",
    "\n",
    "col_session = [col_session_young,col_session_old]\n",
    "\n",
    "label_mice = ['Y11', 'Y16', 'Y17', 'Y18', 'Y19', 'Y2', 'Y3', 'Y4','Y9','A12', 'A13', 'A3', 'A4', 'A5', 'A6', 'A7']\n",
    "\n",
    "# set up handles\n",
    "from itertools import repeat\n",
    "per99 = [mper99[y_ind], mper99[age_ind]]\n",
    "\n",
    "handles = []\n",
    "for i in range(len(per99)):\n",
    "    for c in col_animal[i][0]:\n",
    "        dot = mlines.Line2D([],[], color = c, marker ='o', linestyle = 'None', markersize = 8)\n",
    "        handles.append(dot)"
   ]
  },
  {
   "cell_type": "markdown",
   "id": "5d6f4913",
   "metadata": {},
   "source": [
    "# Verify classification of spatial cells (Figure 5a-d)."
   ]
  },
  {
   "cell_type": "code",
   "execution_count": 40,
   "id": "1c3a9c6d",
   "metadata": {},
   "outputs": [
    {
     "name": "stdout",
     "output_type": "stream",
     "text": [
      "A12\n"
     ]
    },
    {
     "data": {
      "application/vnd.jupyter.widget-view+json": {
       "model_id": "76edba7a818e46a7955a60ea6092093a",
       "version_major": 2,
       "version_minor": 0
      },
      "text/plain": [
       "  0%|          | 0/6 [00:00<?, ?it/s]"
      ]
     },
     "metadata": {},
     "output_type": "display_data"
    },
    {
     "name": "stdout",
     "output_type": "stream",
     "text": [
      "052022_record3\n",
      "366\n"
     ]
    },
    {
     "data": {
      "image/png": "[encoded data removed]",
      "text/plain": [
       "<Figure size 80x300 with 2 Axes>"
      ]
     },
     "metadata": {},
     "output_type": "display_data"
    },
    {
     "name": "stdout",
     "output_type": "stream",
     "text": [
      "A13\n"
     ]
    },
    {
     "data": {
      "application/vnd.jupyter.widget-view+json": {
       "model_id": "963cdd278a49435eb54439e7d9c61d2c",
       "version_major": 2,
       "version_minor": 0
      },
      "text/plain": [
       "  0%|          | 0/6 [00:00<?, ?it/s]"
      ]
     },
     "metadata": {},
     "output_type": "display_data"
    },
    {
     "name": "stdout",
     "output_type": "stream",
     "text": [
      "051022_record6\n",
      "210\n"
     ]
    },
    {
     "data": {
      "image/png": "[encoded data removed]",
      "text/plain": [
       "<Figure size 80x300 with 2 Axes>"
      ]
     },
     "metadata": {},
     "output_type": "display_data"
    },
    {
     "name": "stdout",
     "output_type": "stream",
     "text": [
      "Y18\n"
     ]
    },
    {
     "data": {
      "application/vnd.jupyter.widget-view+json": {
       "model_id": "d6fcf7382c4e44f68d49334257eb0c35",
       "version_major": 2,
       "version_minor": 0
      },
      "text/plain": [
       "  0%|          | 0/6 [00:00<?, ?it/s]"
      ]
     },
     "metadata": {},
     "output_type": "display_data"
    },
    {
     "name": "stdout",
     "output_type": "stream",
     "text": [
      "062022_record1\n",
      "398\n"
     ]
    },
    {
     "data": {
      "image/png": "[encoded data removed]",
      "text/plain": [
       "<Figure size 80x300 with 2 Axes>"
      ]
     },
     "metadata": {},
     "output_type": "display_data"
    },
    {
     "name": "stdout",
     "output_type": "stream",
     "text": [
      "Y19\n"
     ]
    },
    {
     "data": {
      "application/vnd.jupyter.widget-view+json": {
       "model_id": "558331bb9519435c83d4cc7fa39f3ed6",
       "version_major": 2,
       "version_minor": 0
      },
      "text/plain": [
       "  0%|          | 0/6 [00:00<?, ?it/s]"
      ]
     },
     "metadata": {},
     "output_type": "display_data"
    },
    {
     "name": "stdout",
     "output_type": "stream",
     "text": [
      "062822_record1\n",
      "740\n"
     ]
    },
    {
     "data": {
      "image/png": "[encoded data removed]",
      "text/plain": [
       "<Figure size 80x300 with 2 Axes>"
      ]
     },
     "metadata": {},
     "output_type": "display_data"
    }
   ],
   "source": [
    "''' Sequentially Plot Example Spatial Cell Rasters with Tuning Curves (Figure 5a)'''\n",
    "\n",
    "#adjust path\n",
    "save_folder = 'C:/Users/Python/Desktop/LocalData/spatialcellsrf/examplerasters/'\n",
    "\n",
    "#set parameters\n",
    "LW_FR = 0.75\n",
    "LW_SEM = 0.5\n",
    "widths = [1]\n",
    "heights = [1.6,0.4]\n",
    "dt = 0.02\n",
    "count = 0\n",
    "cellcount = 0\n",
    "\n",
    "#specify cells to use\n",
    "from matplotlib.lines import Line2D\n",
    "from copy import copy\n",
    "\n",
    "ex_mice = ['Y19','Y18','A13','A12'] # mouse names for Fig 5 examples\n",
    "ex_sessions = ['062822_record1','062022_record1','051022_record6','052022_record3'] #list of sssions\n",
    "\n",
    "ex_spatialcells = [366,210,398,740]\n",
    "minimalistbool = [True,False,True,False]\n",
    "sesh = [3,6,1,1]\n",
    "cols = ['C1','C1','C0','C0']\n",
    "\n",
    "for m, session in zip(mice,sessions):\n",
    "    \n",
    "    if m not in ex_mice:\n",
    "        continue\n",
    "    else:\n",
    "        print(m)\n",
    "    \n",
    "    for s in tdqm(session):\n",
    "        \n",
    "        if s not in ex_sessions:\n",
    "            continue\n",
    "        else:\n",
    "            print(s)\n",
    "            \n",
    "            d = data[m][s]\n",
    "\n",
    "            #load in data\n",
    "            rawdata_file = 'RAW_' + m + '_' + s + '.npy'\n",
    "            behavior_file = 'BEHAVIOR_' + m + '_' + s + '.npy'\n",
    "            spikes_file = 'SPIKES_' + m + '_' + s +'.npy'\n",
    "\n",
    "            raw = np.load(load_folder + rawdata_file, allow_pickle=True)\n",
    "            cell_IDs = raw.item().get('cellsfil')\n",
    "            behaviorfil = np.load(load_folder + behavior_file, allow_pickle=False)\n",
    "            Y = np.load(load_folder + spikes_file, allow_pickle=False) #pre-filtered for speeds >2cm/s, position-corrected spikes, 20 ms timebins\n",
    "\n",
    "            #get behavioral data\n",
    "            posx = behaviorfil[:,0]\n",
    "            trials = behaviorfil[:, 2]\n",
    "            trials = -1 * trials\n",
    "\n",
    "            # generate aligned position tuning curve\n",
    "            dt = 0.02\n",
    "            FR, binned_pos, FR_sem, occ = ps.tuning_curve(posx, Y, dt, b=2, l=2, SEM=True)\n",
    "\n",
    "            ## PLOT RASTER w/ CONTEXT LABEL\n",
    "            c = ex_spatialcells[cellcount]\n",
    "            print(c)\n",
    "            minimalist = minimalistbool[cellcount]\n",
    "            col = cols[cellcount]\n",
    "\n",
    "            fig = plt.figure()\n",
    "            fig.set_size_inches(0.8,3)\n",
    "            gs = gridspec.GridSpec(ncols = 1 , nrows = 2, hspace=0.15, figure = fig, width_ratios = widths, height_ratios = heights)\n",
    "\n",
    "            ax = fig.add_subplot(gs[0, 0])\n",
    "            sdx = Y[:, np.where(cell_IDs==c)[0][0]].astype(bool)\n",
    "            ax.plot(posx[sdx], trials[sdx], '.', color = 'k', markersize = 0.2, alpha=0.4)\n",
    "            ax.tick_params(labelsize = 8)\n",
    "            ax.set_xlim((0, 400))\n",
    "            ax.set_ylim((np.min(trials),0))\n",
    "            ax.set_yticks([-240,-200,-160,-120,-80,-40,0])\n",
    "            ax.set_yticklabels([240,200,160,120,80,40,0])\n",
    "            ax.set_title(str(m) + '_' + str(sesh[cellcount]) + ', c. ' + str(c), fontsize = 10, color = col)\n",
    "\n",
    "            #plot example tuning curve\n",
    "            sdx = (np.where(cell_IDs==c)[0][0]).astype(int)\n",
    "            ax1 = fig.add_subplot(gs[1,0])\n",
    "            ax1.plot(binned_pos, FR[:,sdx], linewidth = LW_FR, color = col)\n",
    "            ax1.fill_between(binned_pos, FR[:, sdx] + FR_sem[:, sdx], FR[:, sdx] - FR_sem[:, sdx], \n",
    "                                 color=col, lw=LW_SEM, alpha=0.2)\n",
    "            ax1.set_xlabel('VR Position (cm)', fontsize = 9, labelpad = 2)\n",
    "            ax1.tick_params(labelsize = 8)\n",
    "\n",
    "            if minimalist:\n",
    "                ax.tick_params(labelleft=False, labelbottom=False)\n",
    "            else:\n",
    "                ax.tick_params(labelleft=True, labelbottom=False)\n",
    "                #ax.set_xlabel('VR Position (cm)', fontsize = 9)\n",
    "                ax.set_ylabel('Trials (n)', fontsize = 9)\n",
    "                ax1.set_ylabel('FR (Hz)', fontsize = 9, labelpad = 2)\n",
    "\n",
    "            #fig.savefig(save_folder + str(m) + '_' + str(s) + '_rev_' + str(c) + '.png', dpi = 400)\n",
    "            #fig.savefig(save_folder + str(m) + '_' + str(s) + '_rev_' + str(c) + '.svg', dpi = 400)\n",
    "            plt.show()\n",
    "\n",
    "            cellcount += 1"
   ]
  },
  {
   "cell_type": "code",
   "execution_count": 42,
   "id": "d6f23f67",
   "metadata": {},
   "outputs": [
    {
     "data": {
      "application/vnd.jupyter.widget-view+json": {
       "model_id": "d6beb6034120418f83344489f550914c",
       "version_major": 2,
       "version_minor": 0
      },
      "text/plain": [
       "  0%|          | 0/6 [00:00<?, ?it/s]"
      ]
     },
     "metadata": {},
     "output_type": "display_data"
    },
    {
     "data": {
      "application/vnd.jupyter.widget-view+json": {
       "model_id": "359f14354fbe420f9320fb25b92f8f3b",
       "version_major": 2,
       "version_minor": 0
      },
      "text/plain": [
       "  0%|          | 0/6 [00:00<?, ?it/s]"
      ]
     },
     "metadata": {},
     "output_type": "display_data"
    },
    {
     "data": {
      "application/vnd.jupyter.widget-view+json": {
       "model_id": "dd8b1754a58e483c903a4fe05c81cb7e",
       "version_major": 2,
       "version_minor": 0
      },
      "text/plain": [
       "  0%|          | 0/6 [00:00<?, ?it/s]"
      ]
     },
     "metadata": {},
     "output_type": "display_data"
    },
    {
     "data": {
      "application/vnd.jupyter.widget-view+json": {
       "model_id": "b994a3ffc897413a9b19282a6b83d7d2",
       "version_major": 2,
       "version_minor": 0
      },
      "text/plain": [
       "  0%|          | 0/6 [00:00<?, ?it/s]"
      ]
     },
     "metadata": {},
     "output_type": "display_data"
    },
    {
     "data": {
      "application/vnd.jupyter.widget-view+json": {
       "model_id": "096ca2764d8148838f82b952c054160e",
       "version_major": 2,
       "version_minor": 0
      },
      "text/plain": [
       "  0%|          | 0/6 [00:00<?, ?it/s]"
      ]
     },
     "metadata": {},
     "output_type": "display_data"
    },
    {
     "data": {
      "application/vnd.jupyter.widget-view+json": {
       "model_id": "bb86cc5fc8fa438598a959636a980559",
       "version_major": 2,
       "version_minor": 0
      },
      "text/plain": [
       "  0%|          | 0/6 [00:00<?, ?it/s]"
      ]
     },
     "metadata": {},
     "output_type": "display_data"
    },
    {
     "data": {
      "application/vnd.jupyter.widget-view+json": {
       "model_id": "86e221ae910f4f7588c743aeeae6fe8a",
       "version_major": 2,
       "version_minor": 0
      },
      "text/plain": [
       "  0%|          | 0/6 [00:00<?, ?it/s]"
      ]
     },
     "metadata": {},
     "output_type": "display_data"
    },
    {
     "data": {
      "application/vnd.jupyter.widget-view+json": {
       "model_id": "9c18948478f84578b1d2f83c5959f40a",
       "version_major": 2,
       "version_minor": 0
      },
      "text/plain": [
       "  0%|          | 0/5 [00:00<?, ?it/s]"
      ]
     },
     "metadata": {},
     "output_type": "display_data"
    },
    {
     "data": {
      "application/vnd.jupyter.widget-view+json": {
       "model_id": "db3f57553779423f878dcdda9b086bc2",
       "version_major": 2,
       "version_minor": 0
      },
      "text/plain": [
       "  0%|          | 0/3 [00:00<?, ?it/s]"
      ]
     },
     "metadata": {},
     "output_type": "display_data"
    },
    {
     "data": {
      "application/vnd.jupyter.widget-view+json": {
       "model_id": "767764f5dc884fc0ab11965a787b33d0",
       "version_major": 2,
       "version_minor": 0
      },
      "text/plain": [
       "  0%|          | 0/6 [00:00<?, ?it/s]"
      ]
     },
     "metadata": {},
     "output_type": "display_data"
    },
    {
     "data": {
      "application/vnd.jupyter.widget-view+json": {
       "model_id": "3e1c82df4407430fb8f4f5a836336095",
       "version_major": 2,
       "version_minor": 0
      },
      "text/plain": [
       "  0%|          | 0/6 [00:00<?, ?it/s]"
      ]
     },
     "metadata": {},
     "output_type": "display_data"
    },
    {
     "data": {
      "application/vnd.jupyter.widget-view+json": {
       "model_id": "ce4950557405440b97210bbe52b75734",
       "version_major": 2,
       "version_minor": 0
      },
      "text/plain": [
       "  0%|          | 0/6 [00:00<?, ?it/s]"
      ]
     },
     "metadata": {},
     "output_type": "display_data"
    },
    {
     "data": {
      "application/vnd.jupyter.widget-view+json": {
       "model_id": "36b42f7f728d42e5ba59036047693525",
       "version_major": 2,
       "version_minor": 0
      },
      "text/plain": [
       "  0%|          | 0/5 [00:00<?, ?it/s]"
      ]
     },
     "metadata": {},
     "output_type": "display_data"
    },
    {
     "data": {
      "application/vnd.jupyter.widget-view+json": {
       "model_id": "6ca84cdbd551443798baa72d2eccc50f",
       "version_major": 2,
       "version_minor": 0
      },
      "text/plain": [
       "  0%|          | 0/5 [00:00<?, ?it/s]"
      ]
     },
     "metadata": {},
     "output_type": "display_data"
    },
    {
     "data": {
      "application/vnd.jupyter.widget-view+json": {
       "model_id": "ac9bbb117c8e4b2086aeae2b213a6c2c",
       "version_major": 2,
       "version_minor": 0
      },
      "text/plain": [
       "  0%|          | 0/6 [00:00<?, ?it/s]"
      ]
     },
     "metadata": {},
     "output_type": "display_data"
    },
    {
     "data": {
      "application/vnd.jupyter.widget-view+json": {
       "model_id": "4fa587d10a7643db93e32a0d4a86c2b8",
       "version_major": 2,
       "version_minor": 0
      },
      "text/plain": [
       "  0%|          | 0/2 [00:00<?, ?it/s]"
      ]
     },
     "metadata": {},
     "output_type": "display_data"
    }
   ],
   "source": [
    "''' For spatial & border cells, save shuffle distributions of sparsity & coherence  '''\n",
    "\n",
    "spatialsparsity = []\n",
    "spatialshuffsparsity = []\n",
    "spatialcoherence = []\n",
    "spatialshuffcoherence = []\n",
    "\n",
    "for m, session in zip(mice, sessions):\n",
    "    for s in tdqm(session):\n",
    "        d = data[m][s]\n",
    "        \n",
    "        #Load scores, intn boolean to filter out interneurons\n",
    "        rawdata_file = 'RAW_' + m + '_' + s + '.npy'\n",
    "        intn_file = 'intn_' + m + '_' + s + '.npy'\n",
    "        spikes_file = 'SPIKES_' + m + '_' + s +'.npy'\n",
    "        behavior_file = 'BEHAVIOR_' + m + '_' + s + '.npy'\n",
    "        \n",
    "        raw = np.load(load_folder + rawdata_file, allow_pickle=True)\n",
    "        Y = np.load(load_folder + spikes_file, allow_pickle=False) #pre-filtered for speeds >2cm/s, position-corrected spikes, 20 ms timebins\n",
    "        behaviorfil = np.load(load_folder + behavior_file, allow_pickle=False)\n",
    "        cell_IDs = raw.item().get('cellsfil')\n",
    "\n",
    "        cell_IDs = raw.item().get('cellsfil')\n",
    "        spatialcell99 = d['spatialcell99']\n",
    "        spatialcells = cell_IDs[spatialcell99]\n",
    "        \n",
    "        sparsity_scores = d['sparsityscores']\n",
    "        spatialcoherence_scores = d['spatialcoherencescores']\n",
    "        shuffsparsityscores = d['shuffsparsityscores']\n",
    "        shuffspatialcoherencescores = d['shuffspatialcoherencescores']\n",
    "        \n",
    "        for i, c in enumerate(spatialcells):\n",
    "            sdx = np.where(cell_IDs == c)[0][0]\n",
    "        \n",
    "            shuffsparsity = np.random.choice(np.ravel(shuffsparsityscores[:,sdx]))\n",
    "            shuffcoherence = np.random.choice(np.ravel(shuffspatialcoherencescores[:,sdx]))\n",
    "            coherence = spatialcoherence_scores[sdx]\n",
    "            sparsity = sparsity_scores[sdx]\n",
    "            \n",
    "            spatialsparsity = np.append(spatialsparsity,sparsity)\n",
    "            spatialshuffsparsity = np.append(spatialshuffsparsity,shuffsparsity)\n",
    "            spatialcoherence = np.append(spatialcoherence,coherence)\n",
    "            spatialshuffcoherence = np.append(spatialshuffcoherence,shuffcoherence)"
   ]
  },
  {
   "cell_type": "code",
   "execution_count": 45,
   "id": "16401c4c",
   "metadata": {},
   "outputs": [
    {
     "data": {
      "image/png": "[encoded data removed]",
      "text/plain": [
       "<Figure size 125x125 with 1 Axes>"
      ]
     },
     "metadata": {},
     "output_type": "display_data"
    },
    {
     "name": "stdout",
     "output_type": "stream",
     "text": [
      "\n",
      "Mean, SEM Real Coherence:\n",
      "0.7390792074922479 0.0019328191913428486\n",
      "Mean, SEM Shuffle Coherence:\n",
      "0.22822880825616557 0.0018206068567523097\n",
      "stat = 186.0\n",
      "p_cells = 0.0\n",
      "n model pairs coherence: 8476\n"
     ]
    },
    {
     "data": {
      "image/png": "[encoded data removed]",
      "text/plain": [
       "<Figure size 125x125 with 1 Axes>"
      ]
     },
     "metadata": {},
     "output_type": "display_data"
    },
    {
     "name": "stdout",
     "output_type": "stream",
     "text": [
      "\n",
      "Mean, SEM Real Sparsity:\n",
      "0.9153549378551794 0.003672820847098984\n",
      "Mean, SEM Shuffle Sparsity:\n",
      "0.7716277059911879 0.0016069274931259285\n",
      "stat = 179.0\n",
      "p_cells = 0.0\n",
      "n model pairs sparsity: 8476\n"
     ]
    }
   ],
   "source": [
    "''' Plot distribution of randomly selected shuffles vs. real sparsity/coherence; Figure 5B, C '''\n",
    "\n",
    "bins = np.arange(-0.2,1.2,0.01)\n",
    "bcoherence, bin_edges = np.histogram(spatialcoherence, bins = bins)\n",
    "pdf = bcoherence / sum(bcoherence)\n",
    "\n",
    "shuffcoherence, shuffbin_edges = np.histogram(spatialshuffcoherence, bins = bins)\n",
    "shuffpdf = shuffcoherence / sum(shuffcoherence)\n",
    "\n",
    "#Plot Figure 5B\n",
    "fig, ax = plt.subplots(figsize = (1.25,1.25))\n",
    "#ax.hist(spatialcoherence, 20, density = True, histtype = 'step', color = 'k')\n",
    "#ax.hist(spatialshuffsparsity, 20, density = True, histtype = 'step', color = 'k', alpha = 0.5)\n",
    "ax.plot(bin_edges[1:], pdf, linewidth = 0.75, color = 'k')\n",
    "ax.plot(shuffbin_edges[1:], shuffpdf, linewidth = 0.75, color = 'k', alpha = 0.5)\n",
    "ax.set_ylabel('Probability', fontsize = 9)\n",
    "ax.set_xlabel('Coherence', fontsize = 9)\n",
    "ax.set_xlim([-0.2,1.2])\n",
    "ax.set_ylim([0,0.04])\n",
    "ax.set_yticks([0,0.02,0.04])\n",
    "ax.set_xticks([0,0.5,1.0])\n",
    "ax.tick_params(labelsize = 8)\n",
    "#plt.savefig(save_folder + 'rfspatialcoherence.png', dpi=400, bbox_inches='tight')\n",
    "#plt.savefig(save_folder + 'rfspatialcoherence.svg', dpi=400, bbox_inches='tight')\n",
    "plt.show()\n",
    "\n",
    "#STATS\n",
    "#COHERENCE SPATIAL VS SHUFF\n",
    "print('\\nMean, SEM Real Coherence:')\n",
    "print(np.nanmean(spatialcoherence), stats.sem(spatialcoherence, nan_policy = 'omit')) \n",
    "print('Mean, SEM Shuffle Coherence:')\n",
    "print(np.nanmean(spatialshuffcoherence), stats.sem(spatialshuffcoherence, nan_policy = 'omit')) \n",
    "stat, p_diff = stats.wilcoxon(spatialcoherence, spatialshuffcoherence)\n",
    "print('stat = ' + str(stat))\n",
    "print('p_cells = ' + str(p_diff))\n",
    "print('n model pairs coherence: ' + str(len(spatialcoherence[~np.isnan(spatialshuffcoherence)])))\n",
    "\n",
    "bins = np.arange(0.25,1.5,0.01)\n",
    "\n",
    "bsparsity, bin_edges = np.histogram(spatialsparsity, bins = bins)\n",
    "pdf = bsparsity / sum(bsparsity)\n",
    "\n",
    "shuffbsparsity, shuffbin_edges = np.histogram(spatialshuffsparsity, bins = bins)\n",
    "shuffpdf = shuffbsparsity / sum(shuffbsparsity)\n",
    "\n",
    "#Plot Figure 5C\n",
    "fig, ax = plt.subplots(figsize = (1.25,1.25))\n",
    "ax.plot(bin_edges[1:], pdf, linewidth = 0.75, color = 'k')\n",
    "ax.plot(shuffbin_edges[1:], shuffpdf, linewidth = 0.75, color = 'k', alpha = 0.5)\n",
    "ax.set_ylabel('Probability', fontsize = 9)\n",
    "ax.set_xlabel('Sparsity', fontsize = 9)\n",
    "ax.set_xlim([0.25,1.5])\n",
    "ax.set_ylim([0,0.06])\n",
    "ax.tick_params(labelsize = 8)\n",
    "ax.set_yticks([0,0.03,0.06])\n",
    "#plt.savefig(save_folder + 'rfspatialsparsity.png', dpi=400, bbox_inches='tight')\n",
    "#plt.savefig(save_folder + 'rfspatialsparsity.svg', dpi=400, bbox_inches='tight')\n",
    "plt.show()\n",
    "\n",
    "#STATS\n",
    "#sparsity SPATIAL VS SHUFF\n",
    "print('\\nMean, SEM Real Sparsity:')\n",
    "print(np.nanmean(spatialsparsity), stats.sem(spatialsparsity, nan_policy = 'omit')) \n",
    "print('Mean, SEM Shuffle Sparsity:')\n",
    "print(np.nanmean(spatialshuffsparsity), stats.sem(spatialshuffsparsity, nan_policy = 'omit')) \n",
    "\n",
    "stat, p_diff = stats.wilcoxon(spatialsparsity[~np.isnan(spatialshuffsparsity)], spatialshuffsparsity[~np.isnan(spatialshuffsparsity)])\n",
    "print('stat = ' + str(stat))\n",
    "print('p_cells = ' + str(p_diff))\n",
    "print('n model pairs sparsity: ' + str(len(spatialsparsity[~np.isnan(spatialshuffsparsity)])))"
   ]
  },
  {
   "cell_type": "code",
   "execution_count": 46,
   "id": "49a2c4af",
   "metadata": {},
   "outputs": [
    {
     "data": {
      "image/png": "[encoded data removed]",
      "text/plain": [
       "<Figure size 125x125 with 1 Axes>"
      ]
     },
     "metadata": {},
     "output_type": "display_data"
    }
   ],
   "source": [
    "''' Plot Spatial Density by Session across Age Groups (Figure 5D) '''\n",
    "\n",
    "#spatial Figure 5d\n",
    "fig, ax = plt.subplots(figsize = (1.25,1.25))\n",
    "per99 = [sper99[y_sind],sper99[age_sind]]\n",
    "labels = ['Young','Aged']\n",
    "w = 0.5\n",
    "\n",
    "plt.boxplot(per99, widths = w, labels = labels, medianprops = dict(color = 'black'))\n",
    "#ax.set_title('Session Spatial Cell Density', fontsize=12, pad=5)\n",
    "ax.set_xlabel('Age', fontsize=9, labelpad=1)\n",
    "ax.set_xticklabels(labels = labels, fontsize=9)\n",
    "ax.set_ylabel('% Spatial Cell', fontsize=9, labelpad=1)\n",
    "ax.set_ylim([-5,100])\n",
    "ax.tick_params(labelsize = 8)\n",
    "\n",
    "for i in range(len(per99)):\n",
    "    y = per99[i]\n",
    "    x = np.random.normal(i + 1, 0.04, len(y))\n",
    "    plt.scatter(x, y, color = col_session[i], edgecolors = col_session[i], alpha = 1, s = 10)\n",
    "\n",
    "#ax.legend(ncol = 3, handles = handles, labels = label_mice, loc = 'upper right',bbox_to_anchor=(1.65, 1))\n",
    "#plt.savefig(save_folder + 'age_spatialdensity_session.png', dpi=400, bbox_inches='tight')\n",
    "#plt.savefig(save_folder + 'age_spatialdensity_session.svg', dpi=400, bbox_inches='tight')\n",
    "plt.show()"
   ]
  },
  {
   "cell_type": "code",
   "execution_count": 48,
   "id": "684536c6",
   "metadata": {},
   "outputs": [
    {
     "name": "stdout",
     "output_type": "stream",
     "text": [
      "\n",
      "perSC_young ± SEM, perSC_old ± SEM\n",
      "44.29 ± 3.52 ; 32.37 ± 2.79\n",
      "\n",
      "p_session, % P99 spatial cell = 0.01364298972125631\n",
      "n young, n aged = 44, 42\n"
     ]
    }
   ],
   "source": [
    "''' Statistically Compare Young vs. Aged Spatial Cell Density '''\n",
    "\n",
    "print('\\nperSC_young ± SEM, perSC_old ± SEM')\n",
    "print(str(np.round(np.mean(sper99[y_sind]), 2)) + ' ± ' + str(np.round(stats.sem(sper99[y_sind]), 2)) + ' ; ' \n",
    "      + str(np.round(np.mean(sper99[age_sind]), 2)) + ' ± ' + str(np.round(stats.sem(sper99[age_sind]), 2)))\n",
    "\n",
    "stat, p_diff = stats.ranksums(sper99[y_sind],sper99[age_sind])\n",
    "print('\\np_session, % P99 spatial cell = ' + str(p_diff))\n",
    "print('n young, n aged = ' + str(len(y_sind)) + ', ' + str(len(age_sind)))"
   ]
  },
  {
   "cell_type": "markdown",
   "id": "6cbd6a83",
   "metadata": {},
   "source": [
    "# Spatial Cell Coherence, Spatial Info, Stability (Figure 5E-G)"
   ]
  },
  {
   "cell_type": "code",
   "execution_count": 49,
   "id": "2b4d0656",
   "metadata": {
    "scrolled": true
   },
   "outputs": [
    {
     "data": {
      "application/vnd.jupyter.widget-view+json": {
       "model_id": "9327bc91607a4b0c8fa03ebdf21980f2",
       "version_major": 2,
       "version_minor": 0
      },
      "text/plain": [
       "  0%|          | 0/6 [00:00<?, ?it/s]"
      ]
     },
     "metadata": {},
     "output_type": "display_data"
    },
    {
     "data": {
      "application/vnd.jupyter.widget-view+json": {
       "model_id": "8a06bf183932464aae380e8267b610a3",
       "version_major": 2,
       "version_minor": 0
      },
      "text/plain": [
       "  0%|          | 0/6 [00:00<?, ?it/s]"
      ]
     },
     "metadata": {},
     "output_type": "display_data"
    },
    {
     "data": {
      "application/vnd.jupyter.widget-view+json": {
       "model_id": "efded7c330fa4de59dcc90d26e219790",
       "version_major": 2,
       "version_minor": 0
      },
      "text/plain": [
       "  0%|          | 0/6 [00:00<?, ?it/s]"
      ]
     },
     "metadata": {},
     "output_type": "display_data"
    },
    {
     "data": {
      "application/vnd.jupyter.widget-view+json": {
       "model_id": "c45f5de90aee4f1496ddddbcf8372da0",
       "version_major": 2,
       "version_minor": 0
      },
      "text/plain": [
       "  0%|          | 0/6 [00:00<?, ?it/s]"
      ]
     },
     "metadata": {},
     "output_type": "display_data"
    },
    {
     "data": {
      "application/vnd.jupyter.widget-view+json": {
       "model_id": "06cc4a4b453f47a4b5c7044a784c06e8",
       "version_major": 2,
       "version_minor": 0
      },
      "text/plain": [
       "  0%|          | 0/6 [00:00<?, ?it/s]"
      ]
     },
     "metadata": {},
     "output_type": "display_data"
    },
    {
     "data": {
      "application/vnd.jupyter.widget-view+json": {
       "model_id": "48c705fd557b4e6394887d463a25ef3f",
       "version_major": 2,
       "version_minor": 0
      },
      "text/plain": [
       "  0%|          | 0/6 [00:00<?, ?it/s]"
      ]
     },
     "metadata": {},
     "output_type": "display_data"
    },
    {
     "data": {
      "application/vnd.jupyter.widget-view+json": {
       "model_id": "4ae52ef759af4b55a9d95bd454fcdf74",
       "version_major": 2,
       "version_minor": 0
      },
      "text/plain": [
       "  0%|          | 0/6 [00:00<?, ?it/s]"
      ]
     },
     "metadata": {},
     "output_type": "display_data"
    },
    {
     "data": {
      "application/vnd.jupyter.widget-view+json": {
       "model_id": "ace48ece19764a8bb9239f86b25b6fc8",
       "version_major": 2,
       "version_minor": 0
      },
      "text/plain": [
       "  0%|          | 0/5 [00:00<?, ?it/s]"
      ]
     },
     "metadata": {},
     "output_type": "display_data"
    },
    {
     "data": {
      "application/vnd.jupyter.widget-view+json": {
       "model_id": "f110422601d74275932e8d68b564af5f",
       "version_major": 2,
       "version_minor": 0
      },
      "text/plain": [
       "  0%|          | 0/3 [00:00<?, ?it/s]"
      ]
     },
     "metadata": {},
     "output_type": "display_data"
    },
    {
     "data": {
      "application/vnd.jupyter.widget-view+json": {
       "model_id": "d85ef504e5ec4d4f8426e554fc7b2b92",
       "version_major": 2,
       "version_minor": 0
      },
      "text/plain": [
       "  0%|          | 0/6 [00:00<?, ?it/s]"
      ]
     },
     "metadata": {},
     "output_type": "display_data"
    },
    {
     "data": {
      "application/vnd.jupyter.widget-view+json": {
       "model_id": "7e7c7d5ae9ec4fefbfad65cae191581b",
       "version_major": 2,
       "version_minor": 0
      },
      "text/plain": [
       "  0%|          | 0/6 [00:00<?, ?it/s]"
      ]
     },
     "metadata": {},
     "output_type": "display_data"
    },
    {
     "data": {
      "application/vnd.jupyter.widget-view+json": {
       "model_id": "c57c5887724f465db05952b7cf709d1b",
       "version_major": 2,
       "version_minor": 0
      },
      "text/plain": [
       "  0%|          | 0/6 [00:00<?, ?it/s]"
      ]
     },
     "metadata": {},
     "output_type": "display_data"
    },
    {
     "data": {
      "application/vnd.jupyter.widget-view+json": {
       "model_id": "07934e445ac244fe87817b9cfe315204",
       "version_major": 2,
       "version_minor": 0
      },
      "text/plain": [
       "  0%|          | 0/5 [00:00<?, ?it/s]"
      ]
     },
     "metadata": {},
     "output_type": "display_data"
    },
    {
     "data": {
      "application/vnd.jupyter.widget-view+json": {
       "model_id": "ec7aa131244b42da941ca022d6d23e65",
       "version_major": 2,
       "version_minor": 0
      },
      "text/plain": [
       "  0%|          | 0/5 [00:00<?, ?it/s]"
      ]
     },
     "metadata": {},
     "output_type": "display_data"
    },
    {
     "data": {
      "application/vnd.jupyter.widget-view+json": {
       "model_id": "87e5d5a747aa49c1a6297e15be07a370",
       "version_major": 2,
       "version_minor": 0
      },
      "text/plain": [
       "  0%|          | 0/6 [00:00<?, ?it/s]"
      ]
     },
     "metadata": {},
     "output_type": "display_data"
    },
    {
     "data": {
      "application/vnd.jupyter.widget-view+json": {
       "model_id": "e881179698b04675a8aefec55109705a",
       "version_major": 2,
       "version_minor": 0
      },
      "text/plain": [
       "  0%|          | 0/2 [00:00<?, ?it/s]"
      ]
     },
     "metadata": {},
     "output_type": "display_data"
    },
    {
     "name": "stderr",
     "output_type": "stream",
     "text": [
      "C:\\Users\\Python\\AppData\\Local\\Temp\\ipykernel_12252\\4294928414.py:44: RuntimeWarning: Mean of empty slice\n",
      "  scoherence99 = np.append(scoherence99, np.nanmean(coherencescore99))\n",
      "C:\\Users\\Python\\AppData\\Local\\Temp\\ipykernel_12252\\4294928414.py:45: RuntimeWarning: Mean of empty slice\n",
      "  sshufcoherence = np.append(sshufcoherence, np.nanmean(shuffcoherence99))\n"
     ]
    }
   ],
   "source": [
    "'''Store Spatial Coherence & Shuff Coherence Scores'''\n",
    "dt = 0.02\n",
    "load_folder = 'C:/Users/Python/Desktop/LocalData/filtered/'\n",
    "save_folder = 'C:/Users/Python/Desktop/LocalData/spatialcellsrf/'\n",
    "\n",
    "scoherence99 = []\n",
    "sshufcoherence = []\n",
    "\n",
    "for m, session in zip(mice,sessions):\n",
    "    for s in tdqm(session):\n",
    "        d = data[m][s]\n",
    "        \n",
    "        #load data\n",
    "        rawdata_file = 'RAW_' + m + '_' + s + '.npy'\n",
    "        spikes_file = 'SPIKES_' + m + '_' + s +'.npy'\n",
    "        behavior_file = 'BEHAVIOR_' + m + '_' + s + '.npy'\n",
    "        spatialcell95_file = 'spatialcell99_' + m + '_' + s + '.npy'\n",
    "        spatialcell99_file = 'spatialcell99_' + m + '_' + s + '.npy'\n",
    "        \n",
    "        raw = np.load(load_folder + rawdata_file, allow_pickle=True)\n",
    "        Y = np.load(load_folder + spikes_file, allow_pickle=False) #pre-filtered for speeds >2cm/s, position-corrected spikes, 20 ms timebins\n",
    "        behaviorfil = np.load(load_folder + behavior_file, allow_pickle=False)\n",
    "        \n",
    "        cell_IDs = raw.item().get('cellsfil')\n",
    "\n",
    "        spatialcell99 = d['spatialcell99']\n",
    "        spatialcells99 = cell_IDs[spatialcell99]\n",
    "        \n",
    "        #get cell IDs, filtered behavioral/spike data, & relevant scores\n",
    "        cell_IDs = raw.item().get('cellsfil')\n",
    "        spatialcoherence_scores = d['spatialcoherencescores']\n",
    "        shuffspatialcoherencescores = d['shuffspatialcoherencescores']\n",
    "        \n",
    "        #Calculate Spatial Cell Density\n",
    "        coherencescore99 = []\n",
    "        shuffcoherence99 = []\n",
    "        for i, c in enumerate(spatialcells99):\n",
    "            sdx = (np.where(cell_IDs==c)[0][0]).astype(int)\n",
    "    \n",
    "            coherencescore99 = np.append(coherencescore99,spatialcoherence_scores[sdx])\n",
    "            shuffcoherence99 = np.append(shuffcoherence99, np.nanmean(np.ravel(shuffspatialcoherencescores[:,sdx])))\n",
    "            \n",
    "        #pool data into session arrays    \n",
    "        scoherence99 = np.append(scoherence99, np.nanmean(coherencescore99))\n",
    "        sshufcoherence = np.append(sshufcoherence, np.nanmean(shuffcoherence99))"
   ]
  },
  {
   "cell_type": "code",
   "execution_count": 51,
   "id": "b7d2b9c4",
   "metadata": {},
   "outputs": [],
   "source": [
    "''' Find where I will have NaNs for Scores, Mean & Peak FR, Slope, Y-Int'''\n",
    "nan_idx99 = np.where((sper99 == 0))[0]\n",
    "\n",
    "# Adjust y_sind, ma_sind, age_sind for subsequent plots\n",
    "y_sind99 = np.setdiff1d(y_sind, nan_idx99)\n",
    "age_sind99 = np.setdiff1d(age_sind, nan_idx99)\n",
    "\n",
    "# Adjust colormaps\n",
    "yidx = []\n",
    "aidx = []\n",
    "for i in nan_idx99:\n",
    "    yidx = np.append(yidx, np.where(y_sind == i)[0].astype(int))\n",
    "    aidx = np.append(aidx, np.where(age_sind == i)[0].astype(int))\n",
    "    \n",
    "col_session_young99 = np.delete(col_session_young, list((yidx).astype(int)), axis = 0)\n",
    "col_session_old99 = np.delete(col_session_old, list(aidx), axis = 0)\n",
    "col_session99 = [col_session_young99, col_session_old99] \n",
    "\n",
    "# This will fix session stats & box plots are plotted."
   ]
  },
  {
   "cell_type": "code",
   "execution_count": 52,
   "id": "6888e354",
   "metadata": {},
   "outputs": [
    {
     "data": {
      "image/png": "[encoded data removed]",
      "text/plain": [
       "<Figure size 125x125 with 1 Axes>"
      ]
     },
     "metadata": {},
     "output_type": "display_data"
    }
   ],
   "source": [
    "''' Plot Spatial Cell Coherence vs. Shuffle by Age Group (Figure 5E)'''\n",
    "fig, ax = plt.subplots(figsize = (1.25,1.25))\n",
    "scoherence99_tog = [scoherence99[y_sind99],scoherence99[age_sind99]]\n",
    "\n",
    "labels = ['Young','Aged']\n",
    "w = 0.5\n",
    "\n",
    "plt.boxplot(scoherence99_tog, widths = w, labels = labels, medianprops = dict(color = 'black'))\n",
    "#ax.set_title('Session Spatial Cell Density', fontsize=12, pad=5)\n",
    "ax.set_xlabel('Age', fontsize=9, labelpad=1)\n",
    "ax.set_xticklabels(labels = labels, fontsize=9)\n",
    "ax.set_ylabel('Mean Coherence', fontsize=9, labelpad=1)\n",
    "ax.set_ylim([0.15,1])\n",
    "ax.set_yticks([0.3,0.6,0.9])\n",
    "ax.tick_params(labelsize = 8)\n",
    "\n",
    "for i in range(len(scoherence99_tog)):\n",
    "    y = scoherence99_tog[i]\n",
    "    x = np.random.normal(i + 1, 0.04, len(y))\n",
    "    plt.scatter(x, y, color = col_session99[i], edgecolors = col_session99[i], alpha = 1, s = 10)\n",
    "\n",
    "#ax.legend(ncol = 3, handles = handles, labels = label_mice, loc = 'upper right',bbox_to_anchor=(1.65, 1)\n",
    "ax.hlines(np.mean(sshufcoherence[y_sind99]), 0.75, 1.25, color = 'C0', linestyle ='dashed', linewidth = 0.75, label = 'Young Shuffle')\n",
    "ax.hlines(np.mean(sshufcoherence[age_sind99]), 1.75, 2.25, color = 'C1', linestyle ='dashed', linewidth = 0.75, label = 'Aged Shuffle')\n",
    "#plt.savefig(save_folder + 'age_spatialcoherence_session.png', dpi=400, bbox_inches='tight')\n",
    "#plt.savefig(save_folder + 'age_spatialcoherence_session.svg', dpi=400, bbox_inches='tight')\n",
    "plt.show()"
   ]
  },
  {
   "cell_type": "code",
   "execution_count": 56,
   "id": "8368c9c0",
   "metadata": {},
   "outputs": [
    {
     "name": "stdout",
     "output_type": "stream",
     "text": [
      "Young v. Aged Real Results:\n",
      "coherenceSC_young ± SEM, coherenceSC_old ± SEM\n",
      "0.7425 ± 0.0108 ; 0.648 ± 0.0136\n",
      "stat = 5.045386221099917\n",
      "p_session, P99 spatial coherence = 4.5260616809627313e-07\n",
      "n young, n aged = 43, 42\n",
      "\n",
      "Young v. Aged Shuffle Results:\n",
      "shuffcoherenceSC_young ± SEM, shuffcoherenceSC_old ± SEM\n",
      "0.2517 ± 0.0081 ; 0.193 ± 0.0084\n",
      "stat = 4.491624318784073\n",
      "p_session, P99 spatial shuff coherence = 7.068202278383403e-06\n",
      "n young, n aged = 43, 42\n",
      "\n",
      "Young Shuffle vs. Real Results:\n",
      "shuffcoherenceSC_young ± SEM, coherenceSC_young ± SEM\n",
      "0.2517 ± 0.0081 ; 0.7425 ± 0.0108\n",
      "stat = 0.0\n",
      "p_session, P99 spatial coherence = 2.2737367544323206e-13\n",
      "\n",
      "Aged Shuffle vs. Real Results:\n",
      "shuffcoherenceSC_old ± SEM, coherenceSC_old ± SEM\n",
      "0.193 ± 0.0084 ; 0.648 ± 0.0136\n",
      "stat = 0.0\n",
      "p_session, P99 spatial coherence = 4.547473508864641e-13\n"
     ]
    }
   ],
   "source": [
    "''' Statistics on Coherence '''\n",
    "print('Young v. Aged Real Results:')\n",
    "print('coherenceSC_young ± SEM, coherenceSC_old ± SEM')\n",
    "print(str(np.round(np.mean(scoherence99[y_sind99]), 4)) + ' ± ' + str(np.round(stats.sem(scoherence99[y_sind99]), 4)) + ' ; ' \n",
    "      + str(np.round(np.mean(scoherence99[age_sind99]), 4)) + ' ± ' + str(np.round(stats.sem(scoherence99[age_sind99]), 4)))\n",
    "\n",
    "stat, p_diff = stats.ranksums(scoherence99[y_sind99],scoherence99[age_sind99])\n",
    "print('stat = ' + str(stat))\n",
    "print('p_session, P99 spatial coherence = ' + str(p_diff))\n",
    "print('n young, n aged = ' + str(len(y_sind99)) + ', ' + str(len(age_sind99)))\n",
    "\n",
    "print('\\nYoung v. Aged Shuffle Results:')\n",
    "print('shuffcoherenceSC_young ± SEM, shuffcoherenceSC_old ± SEM')\n",
    "print(str(np.round(np.mean(sshufcoherence[y_sind99]), 4)) + ' ± ' + str(np.round(stats.sem(sshufcoherence[y_sind99]), 4)) + ' ; ' \n",
    "      + str(np.round(np.mean(sshufcoherence[age_sind99]), 4)) + ' ± ' + str(np.round(stats.sem(sshufcoherence[age_sind99]), 4)))\n",
    "\n",
    "stat, p_diff = stats.ranksums(sshufcoherence[y_sind99],sshufcoherence[age_sind99])\n",
    "print('stat = ' + str(stat))\n",
    "print('p_session, P99 spatial shuff coherence = ' + str(p_diff))\n",
    "\n",
    "print('\\nYoung Shuffle vs. Real Results:')\n",
    "print('shuffcoherenceSC_young ± SEM, coherenceSC_young ± SEM')\n",
    "print(str(np.round(np.mean(sshufcoherence[y_sind99]), 4)) + ' ± ' + str(np.round(stats.sem(sshufcoherence[y_sind99]), 4)) + ' ; ' \n",
    "      + str(np.round(np.mean(scoherence99[y_sind99]), 4)) + ' ± ' + str(np.round(stats.sem(scoherence99[y_sind99]), 4)))\n",
    "\n",
    "stat, p_diff = stats.wilcoxon(sshufcoherence[y_sind99],scoherence99[y_sind99])\n",
    "print('stat = ' + str(stat))\n",
    "print('p_session, P99 spatial coherence = ' + str(p_diff))\n",
    "\n",
    "print('\\nAged Shuffle vs. Real Results:')\n",
    "print('shuffcoherenceSC_old ± SEM, coherenceSC_old ± SEM')\n",
    "print(str(np.round(np.mean(sshufcoherence[age_sind99]), 4)) + ' ± ' + str(np.round(stats.sem(sshufcoherence[age_sind99]), 4)) + ' ; ' \n",
    "      + str(np.round(np.mean(scoherence99[age_sind99]), 4)) + ' ± ' + str(np.round(stats.sem(scoherence99[age_sind99]), 4)))\n",
    "\n",
    "stat, p_diff = stats.wilcoxon(sshufcoherence[age_sind99],scoherence99[age_sind99])\n",
    "print('stat = ' + str(stat))\n",
    "print('p_session, P99 spatial coherence = ' + str(p_diff))"
   ]
  },
  {
   "cell_type": "code",
   "execution_count": 57,
   "id": "e05f9a7b",
   "metadata": {
    "scrolled": true
   },
   "outputs": [
    {
     "data": {
      "application/vnd.jupyter.widget-view+json": {
       "model_id": "1aeee7b0989b47ebb0e05b32e58c524b",
       "version_major": 2,
       "version_minor": 0
      },
      "text/plain": [
       "  0%|          | 0/6 [00:00<?, ?it/s]"
      ]
     },
     "metadata": {},
     "output_type": "display_data"
    },
    {
     "data": {
      "application/vnd.jupyter.widget-view+json": {
       "model_id": "df75418b90e14eb38c03211741db623f",
       "version_major": 2,
       "version_minor": 0
      },
      "text/plain": [
       "  0%|          | 0/6 [00:00<?, ?it/s]"
      ]
     },
     "metadata": {},
     "output_type": "display_data"
    },
    {
     "data": {
      "application/vnd.jupyter.widget-view+json": {
       "model_id": "3bbc00858e2d4879b2158d4a63bcc67a",
       "version_major": 2,
       "version_minor": 0
      },
      "text/plain": [
       "  0%|          | 0/6 [00:00<?, ?it/s]"
      ]
     },
     "metadata": {},
     "output_type": "display_data"
    },
    {
     "data": {
      "application/vnd.jupyter.widget-view+json": {
       "model_id": "792859c7cc7e4d5abaae74186923aee9",
       "version_major": 2,
       "version_minor": 0
      },
      "text/plain": [
       "  0%|          | 0/6 [00:00<?, ?it/s]"
      ]
     },
     "metadata": {},
     "output_type": "display_data"
    },
    {
     "data": {
      "application/vnd.jupyter.widget-view+json": {
       "model_id": "b3d320b9a470495c896b3ad8e23b03a3",
       "version_major": 2,
       "version_minor": 0
      },
      "text/plain": [
       "  0%|          | 0/6 [00:00<?, ?it/s]"
      ]
     },
     "metadata": {},
     "output_type": "display_data"
    },
    {
     "data": {
      "application/vnd.jupyter.widget-view+json": {
       "model_id": "85c692b08a1d4fd6b4bf5f39135aa779",
       "version_major": 2,
       "version_minor": 0
      },
      "text/plain": [
       "  0%|          | 0/6 [00:00<?, ?it/s]"
      ]
     },
     "metadata": {},
     "output_type": "display_data"
    },
    {
     "data": {
      "application/vnd.jupyter.widget-view+json": {
       "model_id": "4a0b39020903469ea2ace5b5d1fbbc52",
       "version_major": 2,
       "version_minor": 0
      },
      "text/plain": [
       "  0%|          | 0/6 [00:00<?, ?it/s]"
      ]
     },
     "metadata": {},
     "output_type": "display_data"
    },
    {
     "data": {
      "application/vnd.jupyter.widget-view+json": {
       "model_id": "9cc0aac4294b4a37856c45aa47fa6765",
       "version_major": 2,
       "version_minor": 0
      },
      "text/plain": [
       "  0%|          | 0/5 [00:00<?, ?it/s]"
      ]
     },
     "metadata": {},
     "output_type": "display_data"
    },
    {
     "data": {
      "application/vnd.jupyter.widget-view+json": {
       "model_id": "66df3fb2b9524b3db7e7ff61f97ae9a5",
       "version_major": 2,
       "version_minor": 0
      },
      "text/plain": [
       "  0%|          | 0/3 [00:00<?, ?it/s]"
      ]
     },
     "metadata": {},
     "output_type": "display_data"
    },
    {
     "data": {
      "application/vnd.jupyter.widget-view+json": {
       "model_id": "ded8c33ec75c479f87c773b31c3f620b",
       "version_major": 2,
       "version_minor": 0
      },
      "text/plain": [
       "  0%|          | 0/6 [00:00<?, ?it/s]"
      ]
     },
     "metadata": {},
     "output_type": "display_data"
    },
    {
     "data": {
      "application/vnd.jupyter.widget-view+json": {
       "model_id": "abea53101d004a47a73728a1ed84ef10",
       "version_major": 2,
       "version_minor": 0
      },
      "text/plain": [
       "  0%|          | 0/6 [00:00<?, ?it/s]"
      ]
     },
     "metadata": {},
     "output_type": "display_data"
    },
    {
     "data": {
      "application/vnd.jupyter.widget-view+json": {
       "model_id": "f5b48d27886b41c4bc9d7330bb3d02b7",
       "version_major": 2,
       "version_minor": 0
      },
      "text/plain": [
       "  0%|          | 0/6 [00:00<?, ?it/s]"
      ]
     },
     "metadata": {},
     "output_type": "display_data"
    },
    {
     "data": {
      "application/vnd.jupyter.widget-view+json": {
       "model_id": "a77d5268c0ae47bd93be0b554a0fbcb4",
       "version_major": 2,
       "version_minor": 0
      },
      "text/plain": [
       "  0%|          | 0/5 [00:00<?, ?it/s]"
      ]
     },
     "metadata": {},
     "output_type": "display_data"
    },
    {
     "data": {
      "application/vnd.jupyter.widget-view+json": {
       "model_id": "b1cbce5ce3b9490dacf1b0b94c15c7f5",
       "version_major": 2,
       "version_minor": 0
      },
      "text/plain": [
       "  0%|          | 0/5 [00:00<?, ?it/s]"
      ]
     },
     "metadata": {},
     "output_type": "display_data"
    },
    {
     "data": {
      "application/vnd.jupyter.widget-view+json": {
       "model_id": "48142b540b814daabbcea6fed3e5a378",
       "version_major": 2,
       "version_minor": 0
      },
      "text/plain": [
       "  0%|          | 0/6 [00:00<?, ?it/s]"
      ]
     },
     "metadata": {},
     "output_type": "display_data"
    },
    {
     "data": {
      "application/vnd.jupyter.widget-view+json": {
       "model_id": "395f19d475a8482fa5bd594af5dd986e",
       "version_major": 2,
       "version_minor": 0
      },
      "text/plain": [
       "  0%|          | 0/2 [00:00<?, ?it/s]"
      ]
     },
     "metadata": {},
     "output_type": "display_data"
    },
    {
     "name": "stderr",
     "output_type": "stream",
     "text": [
      "C:\\Users\\Python\\AppData\\Local\\Temp\\ipykernel_12252\\574906910.py:54: RuntimeWarning: Mean of empty slice\n",
      "  sinfo99 = np.append(sinfo99, np.nanmean(info99))\n"
     ]
    }
   ],
   "source": [
    "''' Calculate Spatial Information Scores for all Spatial Cells '''\n",
    "\n",
    "# parameters\n",
    "track_length = 400 #cm\n",
    "b = 2 #cm\n",
    "n_bin = int(track_length/b)\n",
    "dt = 0.02\n",
    "\n",
    "sinfo99 = []\n",
    "\n",
    "for m, session in zip(mice,sessions):\n",
    "    \n",
    "    for s in tdqm(session):\n",
    "        d = data[m][s]\n",
    "        \n",
    "        #get some data & cell IDs\n",
    "        rawdata_file = 'RAW_' + m + '_' + s + '.npy'\n",
    "        spikes_file = 'SPIKES_' + m + '_' + s +'.npy'\n",
    "        behavior_file = 'BEHAVIOR_' + m + '_' + s + '.npy'\n",
    "        \n",
    "        raw = np.load(load_folder + rawdata_file, allow_pickle=True)\n",
    "        Y = np.load(load_folder + spikes_file, allow_pickle=False) #pre-filtered for speeds >2cm/s, position-corrected spikes, 20 ms timebins\n",
    "        behaviorfil = np.load(load_folder + behavior_file, allow_pickle=False)\n",
    "\n",
    "        cell_IDs = raw.item().get('cellsfil')\n",
    "        posxfil = behaviorfil[:,0]\n",
    "        trial = behaviorfil[:,2]\n",
    "        post = behaviorfil[:,3]\n",
    "        spatialcells99 = d['spatialcells99']\n",
    "        total_time = max(post) - min(post)\n",
    "        \n",
    "        #provide some track info & calculate smooth spatially binned FR\n",
    "        smoothFR, _ , smoothocc = ps.tuning_curve(posxfil, Y, dt, b=2, smooth=True, l=2, SEM=False, occupancy = True) #FR shape (n_bins, n_cells)\n",
    "            \n",
    "        info99 = []\n",
    "        for i, c in enumerate(spatialcells99):\n",
    "            sdx = (np.where(cell_IDs==c)[0][0]).astype(int)\n",
    "            \n",
    "            meanFR = np.mean(smoothFR[:,sdx]) #calculate spatial info score\n",
    "            products = []\n",
    "            for b in range(0,n_bin):\n",
    "                binmeanFR = smoothFR[b,sdx]\n",
    "                div = binmeanFR / meanFR\n",
    "                if div == 0:\n",
    "                    products = np.append(products,0)\n",
    "                else: \n",
    "                    log = math.log2(div)\n",
    "                    prob = smoothocc[b,sdx]/total_time\n",
    "                    prod = prob*log*div \n",
    "                    products = np.append(products,prod)\n",
    "            info99 = np.append(info99, np.sum(products))  \n",
    "            \n",
    "        #pool data into session arrays    \n",
    "        sinfo99 = np.append(sinfo99, np.nanmean(info99))"
   ]
  },
  {
   "cell_type": "code",
   "execution_count": 58,
   "id": "c163361d",
   "metadata": {},
   "outputs": [
    {
     "data": {
      "application/vnd.jupyter.widget-view+json": {
       "model_id": "d28ff418e6de44fab89b71640fdd0335",
       "version_major": 2,
       "version_minor": 0
      },
      "text/plain": [
       "  0%|          | 0/6 [00:00<?, ?it/s]"
      ]
     },
     "metadata": {},
     "output_type": "display_data"
    },
    {
     "data": {
      "application/vnd.jupyter.widget-view+json": {
       "model_id": "3d74861f62fd42ea917740d5ec634392",
       "version_major": 2,
       "version_minor": 0
      },
      "text/plain": [
       "  0%|          | 0/6 [00:00<?, ?it/s]"
      ]
     },
     "metadata": {},
     "output_type": "display_data"
    },
    {
     "data": {
      "application/vnd.jupyter.widget-view+json": {
       "model_id": "1e6858810aba4c0ba493db8dfcb68b9d",
       "version_major": 2,
       "version_minor": 0
      },
      "text/plain": [
       "  0%|          | 0/6 [00:00<?, ?it/s]"
      ]
     },
     "metadata": {},
     "output_type": "display_data"
    },
    {
     "data": {
      "application/vnd.jupyter.widget-view+json": {
       "model_id": "26b108a5f6694772b8fe00cd7f482313",
       "version_major": 2,
       "version_minor": 0
      },
      "text/plain": [
       "  0%|          | 0/6 [00:00<?, ?it/s]"
      ]
     },
     "metadata": {},
     "output_type": "display_data"
    },
    {
     "data": {
      "application/vnd.jupyter.widget-view+json": {
       "model_id": "2b3d30a88d6b4668ad925cc9df8cf0ca",
       "version_major": 2,
       "version_minor": 0
      },
      "text/plain": [
       "  0%|          | 0/6 [00:00<?, ?it/s]"
      ]
     },
     "metadata": {},
     "output_type": "display_data"
    },
    {
     "data": {
      "application/vnd.jupyter.widget-view+json": {
       "model_id": "5df4185354d14fed9f4982ad48740350",
       "version_major": 2,
       "version_minor": 0
      },
      "text/plain": [
       "  0%|          | 0/6 [00:00<?, ?it/s]"
      ]
     },
     "metadata": {},
     "output_type": "display_data"
    },
    {
     "data": {
      "application/vnd.jupyter.widget-view+json": {
       "model_id": "9752a68d2a2e4d328879816b3771b7de",
       "version_major": 2,
       "version_minor": 0
      },
      "text/plain": [
       "  0%|          | 0/6 [00:00<?, ?it/s]"
      ]
     },
     "metadata": {},
     "output_type": "display_data"
    },
    {
     "data": {
      "application/vnd.jupyter.widget-view+json": {
       "model_id": "94cc6f193d3e4fc48d95242aef9a67f3",
       "version_major": 2,
       "version_minor": 0
      },
      "text/plain": [
       "  0%|          | 0/5 [00:00<?, ?it/s]"
      ]
     },
     "metadata": {},
     "output_type": "display_data"
    },
    {
     "data": {
      "application/vnd.jupyter.widget-view+json": {
       "model_id": "021b775ff9364e17b08d398b5df8b728",
       "version_major": 2,
       "version_minor": 0
      },
      "text/plain": [
       "  0%|          | 0/3 [00:00<?, ?it/s]"
      ]
     },
     "metadata": {},
     "output_type": "display_data"
    },
    {
     "data": {
      "application/vnd.jupyter.widget-view+json": {
       "model_id": "301466dce223417993a4a70e5b14c48b",
       "version_major": 2,
       "version_minor": 0
      },
      "text/plain": [
       "  0%|          | 0/6 [00:00<?, ?it/s]"
      ]
     },
     "metadata": {},
     "output_type": "display_data"
    },
    {
     "data": {
      "application/vnd.jupyter.widget-view+json": {
       "model_id": "460a599679aa4d42b2513dbbc288b5b7",
       "version_major": 2,
       "version_minor": 0
      },
      "text/plain": [
       "  0%|          | 0/6 [00:00<?, ?it/s]"
      ]
     },
     "metadata": {},
     "output_type": "display_data"
    },
    {
     "data": {
      "application/vnd.jupyter.widget-view+json": {
       "model_id": "0c05486f5a544252be3f13b193aeef50",
       "version_major": 2,
       "version_minor": 0
      },
      "text/plain": [
       "  0%|          | 0/6 [00:00<?, ?it/s]"
      ]
     },
     "metadata": {},
     "output_type": "display_data"
    },
    {
     "data": {
      "application/vnd.jupyter.widget-view+json": {
       "model_id": "40f0a53794b542f69ad5c6271234bc98",
       "version_major": 2,
       "version_minor": 0
      },
      "text/plain": [
       "  0%|          | 0/5 [00:00<?, ?it/s]"
      ]
     },
     "metadata": {},
     "output_type": "display_data"
    },
    {
     "data": {
      "application/vnd.jupyter.widget-view+json": {
       "model_id": "b0bc9467c0464a8ba33682574633f8e6",
       "version_major": 2,
       "version_minor": 0
      },
      "text/plain": [
       "  0%|          | 0/5 [00:00<?, ?it/s]"
      ]
     },
     "metadata": {},
     "output_type": "display_data"
    },
    {
     "data": {
      "application/vnd.jupyter.widget-view+json": {
       "model_id": "de2ad8b04bd44d18b864eceab50ef2b8",
       "version_major": 2,
       "version_minor": 0
      },
      "text/plain": [
       "  0%|          | 0/6 [00:00<?, ?it/s]"
      ]
     },
     "metadata": {},
     "output_type": "display_data"
    },
    {
     "data": {
      "application/vnd.jupyter.widget-view+json": {
       "model_id": "df564a59a7d941f884beedadba9df066",
       "version_major": 2,
       "version_minor": 0
      },
      "text/plain": [
       "  0%|          | 0/2 [00:00<?, ?it/s]"
      ]
     },
     "metadata": {},
     "output_type": "display_data"
    }
   ],
   "source": [
    "''' Get 1x Spatial Info Shuffle Score for each Cell '''\n",
    "\n",
    "sshufinfo99 = []\n",
    "\n",
    "# parameters\n",
    "track_length = 400 #cm\n",
    "b = 2 #cm\n",
    "n_bin = int(track_length/b)\n",
    "dt = 0.02\n",
    "\n",
    "for m, session in zip(mice,sessions):\n",
    "        \n",
    "    for s in tdqm(session):\n",
    "        \n",
    "        #get data\n",
    "        d = data[m][s]\n",
    "        \n",
    "        #get some data & cell IDs\n",
    "        rawdata_file = 'RAW_' + m + '_' + s + '.npy'\n",
    "        behavior_file = 'BEHAVIOR_' + m + '_' + s + '.npy'\n",
    "        \n",
    "        raw = np.load(load_folder + rawdata_file, allow_pickle=True)\n",
    "        behaviorfil = np.load(load_folder + behavior_file, allow_pickle=False)\n",
    "        \n",
    "        cell_IDs = raw.item().get('cellsfil')\n",
    "        spatialcell99 = d['spatialcell99']\n",
    "        spatialcells = cell_IDs[spatialcell99]\n",
    "    \n",
    "        posx = behaviorfil[:,0]\n",
    "        trial = behaviorfil[:,2]\n",
    "        rawtrialfil = raw.item().get('trialfil')\n",
    "        \n",
    "        ##Generate shuffled spike train for spatial cells only\n",
    "        #get stuff you will to shuffle & re-filter spike times\n",
    "        sp = raw.item().get('sp')\n",
    "        spiket = sp['st'].copy()\n",
    "        cluster_id = sp['clu'].copy()\n",
    "        rawposx = raw.item().get('posx')\n",
    "        rawpost = raw.item().get('post')\n",
    "        rawspeed = raw.item().get('speed')\n",
    "        \n",
    "        dt = np.unique(np.round(np.diff(rawpost),4))\n",
    "        if len(dt) > 1: # discard duplicate frame entries if they occurred\n",
    "            dt = dt[dt != 0]\n",
    "            dt_to_trash = np.where(np.diff(rawpost) == 0)[0]\n",
    "        else:\n",
    "            dt_to_trash = [] \n",
    "\n",
    "        # filter spikes & position frames by speed < 2cm/s or out of track limits \n",
    "        speed_to_trash = find(rawspeed < 2)\n",
    "        pos_to_trash = find((rawposx < 0) | (rawposx > 400))\n",
    "        trash_idx = np.unique(np.concatenate((dt_to_trash, speed_to_trash, pos_to_trash)))\n",
    "        keep_idx = np.setdiff1d(np.arange(len(rawspeed)), trash_idx)\n",
    "        \n",
    "        B = np.zeros((len(rawspeed), len(spatialcells))) # reset empty shuffled FR matrix    \n",
    "        for i, c in enumerate(spatialcells):\n",
    "            sdx = (np.where(cell_IDs==c)[0][0]).astype(int)\n",
    "\n",
    "            #get actual spike times for each cell\n",
    "            st = spiket[cluster_id == c]\n",
    "            st = st[(st >= min(rawpost)) & (st <= max(rawpost))]\n",
    "\n",
    "            #get shuffle times\n",
    "            st_shuf = st - min(rawpost)\n",
    "            total_time = max(rawpost) - min(rawpost)\n",
    "            add = np.random.uniform(0.02,total_time,1)\n",
    "            st_shuf = (st_shuf + add) % total_time\n",
    "            st_shuf = st_shuf + min(rawpost)\n",
    "\n",
    "            #get unfiltered spike train\n",
    "            spike_ct = np.zeros_like(rawpost)\n",
    "            spike_idx = np.digitize(st_shuf, rawpost) #obs corresponding to where each shuffled spike occurs\n",
    "\n",
    "            idx, cts = np.unique(spike_idx, return_counts = True)\n",
    "            spike_ct[idx] = cts\n",
    "            B[:,i] = spike_ct\n",
    "\n",
    "            #check for & interpolate any missing values\n",
    "            if sum(np.isnan(B[:,i])) > 0:\n",
    "                B[:,i] = get.nan_interp(B[:,i])  \n",
    "\n",
    "        #apply filter spike train by speed, dt, & posx errors\n",
    "        B = B[keep_idx,:]\n",
    "            \n",
    "        #get some data & cell IDs\n",
    "        posxfil = behaviorfil[:,0]\n",
    "        trial = behaviorfil[:,2]\n",
    "        post = behaviorfil[:,3]\n",
    "        total_time = max(post) - min(post)\n",
    "        \n",
    "        #provide some track info & calculate smooth spatially binned FR\n",
    "        smoothFR, _ , smoothocc = ps.tuning_curve(posxfil, B, dt, b=2, smooth=True, l=2, SEM=False, occupancy = True) #FR shape (n_bins, n_cells)\n",
    "           \n",
    "        #get spatial info for shuffle activity\n",
    "        shuffinfo99 = [] \n",
    "        for i, c in enumerate(spatialcells):\n",
    "            meanFR = np.mean(smoothFR[:,i]) #calculate spatial info score\n",
    "            products = []\n",
    "            for b in range(0,n_bin):\n",
    "                binmeanFR = smoothFR[b,i]\n",
    "                div = binmeanFR / meanFR\n",
    "                if div == 0:\n",
    "                    products = np.append(products,0)\n",
    "                else: \n",
    "                    log = math.log2(div)\n",
    "                    prob = smoothocc[b,i]/total_time\n",
    "                    prod = prob*log*div \n",
    "                    products = np.append(products,prod)\n",
    "            shuffinfo99 = np.append(shuffinfo99, np.sum(products)) \n",
    "            \n",
    "        sshufinfo99 = np.append(sshufinfo99, shuffinfo99)"
   ]
  },
  {
   "cell_type": "code",
   "execution_count": 59,
   "id": "060bce2d",
   "metadata": {},
   "outputs": [
    {
     "data": {
      "image/png": "[encoded data removed]",
      "text/plain": [
       "<Figure size 125x125 with 1 Axes>"
      ]
     },
     "metadata": {},
     "output_type": "display_data"
    }
   ],
   "source": [
    "''' Plot Spatial Cell Spatial Information vs. Shuffle by Age Group (Figure 5F) '''\n",
    "fig, ax = plt.subplots(figsize = (1.25,1.25))\n",
    "sinfo99_tog = [sinfo99[y_sind99],sinfo99[age_sind99]]\n",
    "\n",
    "labels = ['Young','Aged']\n",
    "w = 0.5\n",
    "\n",
    "plt.boxplot(sinfo99_tog, widths = w, labels = labels, medianprops = dict(color = 'black'))\n",
    "#ax.set_title('Session Spatial Cell Density', fontsize=12, pad=5)\n",
    "ax.set_xlabel('Age', fontsize=9, labelpad=1)\n",
    "ax.set_xticklabels(labels = labels, fontsize=9)\n",
    "ax.set_ylabel('Mean Info. (bits/spike)', fontsize=9, labelpad=1)\n",
    "ax.set_ylim([-0.05,0.35])\n",
    "ax.set_yticks([0,0.1,0.2,0.3])\n",
    "ax.tick_params(labelsize = 8)\n",
    "\n",
    "for i in range(len(sinfo99_tog)):\n",
    "    y = sinfo99_tog[i]\n",
    "    x = np.random.normal(i + 1, 0.04, len(y))\n",
    "    plt.scatter(x, y, color = col_session99[i], edgecolors = col_session99[i], alpha = 1, s = 10)\n",
    "\n",
    "#ax.legend(ncol = 3, handles = handles, labels = label_mice, loc = 'upper right',bbox_to_anchor=(1.65, 1))\n",
    "ax.hlines(np.mean(sshufinfo99[y_sind99]), 0.75, 1.25, color = 'C0', linestyle ='dashed', linewidth = 0.75, label = 'Young Shuffle')\n",
    "ax.hlines(np.mean(sshufinfo99[age_sind99]), 1.75, 2.25, color = 'C1', linestyle ='dashed', linewidth = 0.75, label = 'Aged Shuffle')\n",
    "#plt.savefig(save_folder + 'age_spatialinfo_session.png', dpi=400, bbox_inches='tight')\n",
    "#plt.savefig(save_folder + 'age_spatialinfo_session.svg', dpi=400, bbox_inches='tight')\n",
    "plt.show()"
   ]
  },
  {
   "cell_type": "code",
   "execution_count": 60,
   "id": "679405ad",
   "metadata": {},
   "outputs": [
    {
     "name": "stdout",
     "output_type": "stream",
     "text": [
      "Young v. Aged Real Results:\n",
      "infoSC_young ± SEM, infoSC_old ± SEM\n",
      "0.0928 ± 0.0081 ; 0.0636 ± 0.0056\n",
      "stat = 2.94460694088584\n",
      "p_session, P99 spatial info = 0.0032336517487080827\n",
      "n young, n aged = 43, 42\n",
      "\n",
      "Young v. Aged Shuffle Results:\n",
      "shuffinfoSC_young ± SEM, shuffinfoSC_old ± SEM\n",
      "0.0076 ± 0.0014 ; 0.0033 ± 0.0006\n",
      "stat = 3.331361285360398\n",
      "p_session, P99 spatial shuff info = 0.0008642235955870449\n",
      "\n",
      "Young Shuffle vs. Real Results:\n",
      "shuffinfoSC_young ± SEM, infoSC_young ± SEM\n",
      "0.0076 ± 0.0014 ; 0.0928 ± 0.0081\n",
      "stat = 1.0\n",
      "p_session, P99 spatial info = 4.547473508864641e-13\n",
      "\n",
      "Aged Shuffle vs. Real Results:\n",
      "shuffinfoSC_old ± SEM, infoSC_old ± SEM\n",
      "0.0033 ± 0.0006 ; 0.0636 ± 0.0056\n",
      "stat = 0.0\n",
      "p_session, P99 spatial info = 4.547473508864641e-13\n"
     ]
    }
   ],
   "source": [
    "''' Statistics on Spatial Information '''\n",
    "print('Young v. Aged Real Results:')\n",
    "print('infoSC_young ± SEM, infoSC_old ± SEM')\n",
    "print(str(np.round(np.mean(sinfo99[y_sind99]), 4)) + ' ± ' + str(np.round(stats.sem(sinfo99[y_sind99]), 4)) + ' ; ' \n",
    "      + str(np.round(np.mean(sinfo99[age_sind99]), 4)) + ' ± ' + str(np.round(stats.sem(sinfo99[age_sind99]), 4)))\n",
    "\n",
    "stat, p_diff = stats.ranksums(sinfo99[y_sind99],sinfo99[age_sind99])\n",
    "print('stat = ' + str(stat))\n",
    "print('p_session, P99 spatial info = ' + str(p_diff))\n",
    "print('n young, n aged = ' + str(len(y_sind99)) + ', ' + str(len(age_sind99)))\n",
    "\n",
    "print('\\nYoung v. Aged Shuffle Results:')\n",
    "print('shuffinfoSC_young ± SEM, shuffinfoSC_old ± SEM')\n",
    "print(str(np.round(np.mean(sshufinfo99[y_sind99]), 4)) + ' ± ' + str(np.round(stats.sem(sshufinfo99[y_sind99]), 4)) + ' ; ' \n",
    "      + str(np.round(np.mean(sshufinfo99[age_sind99]), 4)) + ' ± ' + str(np.round(stats.sem(sshufinfo99[age_sind99]), 4)))\n",
    "\n",
    "stat, p_diff = stats.ranksums(sshufinfo99[y_sind99],sshufinfo99[age_sind99])\n",
    "print('stat = ' + str(stat))\n",
    "print('p_session, P99 spatial shuff info = ' + str(p_diff))\n",
    "\n",
    "print('\\nYoung Shuffle vs. Real Results:')\n",
    "print('shuffinfoSC_young ± SEM, infoSC_young ± SEM')\n",
    "print(str(np.round(np.mean(sshufinfo99[y_sind99]), 4)) + ' ± ' + str(np.round(stats.sem(sshufinfo99[y_sind99]), 4)) + ' ; ' \n",
    "      + str(np.round(np.mean(sinfo99[y_sind99]), 4)) + ' ± ' + str(np.round(stats.sem(sinfo99[y_sind99]), 4)))\n",
    "\n",
    "stat, p_diff = stats.wilcoxon(sshufinfo99[y_sind99],sinfo99[y_sind99])\n",
    "print('stat = ' + str(stat))\n",
    "print('p_session, P99 spatial info = ' + str(p_diff))\n",
    "\n",
    "print('\\nAged Shuffle vs. Real Results:')\n",
    "print('shuffinfoSC_old ± SEM, infoSC_old ± SEM')\n",
    "print(str(np.round(np.mean(sshufinfo99[age_sind99]), 4)) + ' ± ' + str(np.round(stats.sem(sshufinfo99[age_sind99]), 4)) + ' ; ' \n",
    "      + str(np.round(np.mean(sinfo99[age_sind99]), 4)) + ' ± ' + str(np.round(stats.sem(sinfo99[age_sind99]), 4)))\n",
    "\n",
    "stat, p_diff = stats.wilcoxon(sshufinfo99[age_sind99],sinfo99[age_sind99])\n",
    "print('stat = ' + str(stat))\n",
    "print('p_session, P99 spatial info = ' + str(p_diff))"
   ]
  },
  {
   "cell_type": "code",
   "execution_count": null,
   "id": "87ba5d1f",
   "metadata": {},
   "outputs": [],
   "source": [
    "''' Calculate Moving Average Stability (k = 5) using Cross-Trial Correlation Matrices for each Spatial Cell '''\n",
    "\n",
    "save_folder = 'C:/Users/Python/Desktop/LocalData/spatialcellsrf/crosstrial/'\n",
    "\n",
    "def count_consec(lst):\n",
    "    consec = [1]\n",
    "    for x, y in zip(lst, lst[1:]):\n",
    "        if x == y - 1:\n",
    "            consec[-1] += 1\n",
    "        else:\n",
    "            consec.append(1)\n",
    "    return consec\n",
    "\n",
    "for m, session in zip(mice,sessions):\n",
    "    \n",
    "    if m in cohortb_mice:\n",
    "        max_trials = 240\n",
    "    else:\n",
    "        max_trials = 200\n",
    "        \n",
    "    for s in tdqm(session):\n",
    "        \n",
    "        #get data\n",
    "        d = data[m][s]\n",
    "        \n",
    "        #get some data & cell IDs\n",
    "        rawdata_file = 'RAW_' + m + '_' + s + '.npy'\n",
    "        spikes_file = 'SPIKES_' + m + '_' + s +'.npy'\n",
    "        behavior_file = 'BEHAVIOR_' + m + '_' + s + '.npy'\n",
    "        \n",
    "        raw = np.load(load_folder + rawdata_file, allow_pickle=True)\n",
    "        Y = np.load(load_folder + spikes_file, allow_pickle=False) #pre-filtered for speeds >2cm/s, position-corrected spikes, 20 ms timebins\n",
    "        behaviorfil = np.load(load_folder + behavior_file, allow_pickle=False)\n",
    "        \n",
    "        cell_IDs = raw.item().get('cellsfil')\n",
    "        spatialcell99 = d['spatialcell99']\n",
    "        spatialcells = cell_IDs[spatialcell99]\n",
    "    \n",
    "        posx = behaviorfil[:,0]\n",
    "        trial = behaviorfil[:,2]\n",
    "        rawtrialfil = raw.item().get('trialfil')\n",
    "        \n",
    "        #Find any skipped trials\n",
    "        try:\n",
    "            _ = raw.item().get('correctedtrial').shape\n",
    "            if (len(np.unique(trial)) < max_trials): \n",
    "                alltrial = np.arange(0, np.max(np.unique(trial)) + 1 , 1)\n",
    "            else:    \n",
    "                alltrial = np.arange(0,max_trials,1)\n",
    "            skippedtrials = np.setdiff1d(alltrial, np.unique(trial)).astype(int)\n",
    "            print('Skipped trials, n skipped = ' + str(len(skippedtrials)) + str(skippedtrials))\n",
    "        except: \n",
    "            skippedtrials = []\n",
    "            alltrial = np.arange(0, max_trials, 1)\n",
    "        \n",
    "        if np.max(np.unique(trial)) < 160: #handles truncated, shorter sessions \n",
    "            alltrial = np.arange(0, np.max(np.unique(trial)) + 1, 1)\n",
    "            print(m, s)\n",
    "        else:\n",
    "            alltrial = np.arange(0,max_trials,1)\n",
    "\n",
    "        # Load in left vs. right info\n",
    "        trials = np.unique(trial)\n",
    "        \n",
    "        #count number of skipped dark trials\n",
    "        ndarkskipped = 0\n",
    "        for z in skippedtrials:\n",
    "            if z < 20: \n",
    "                ndarkskipped += 1\n",
    "                \n",
    "        #adjust trialfil so that trials are skipped instead\n",
    "        count = 0\n",
    "        if len(skippedtrials) > 0 :\n",
    "            skippedrawtrialfil = rawtrialfil.copy()\n",
    "            consec = count_consec(list(np.sort(skippedtrials).astype(int)))\n",
    "            for i, k in enumerate(consec):\n",
    "                t = np.sort(skippedtrials)[count] \n",
    "                print(i,t,k)\n",
    "                if i == 0: \n",
    "                    skippedrawtrialfil[rawtrialfil >= t] = skippedrawtrialfil[rawtrialfil >= t] + k\n",
    "                else: \n",
    "                    skippedrawtrialfil[skippedrawtrialfil >= t] = skippedrawtrialfil[skippedrawtrialfil >= t] + k\n",
    "                count += k\n",
    "        else:\n",
    "            skippedrawtrialfil = trial.copy()\n",
    "            \n",
    "        #define random foraging trials only, excluding dark & gain change periods\n",
    "        if m == 'Y9':\n",
    "            start_idx = 0 \n",
    "            end_idx = len(skippedrawtrialfil) + 1\n",
    "        elif m in cohortb_mice:\n",
    "            start_idx = (np.where(skippedrawtrialfil >= 20)[0][0]).astype(int)\n",
    "            end_idx = (np.where(skippedrawtrialfil >= 220)[0][0]).astype(int)\n",
    "        else:\n",
    "            start_idx = 0 \n",
    "            end_idx = len(skippedrawtrialfil) + 1\n",
    "        \n",
    "        #set ticks & text dynamically\n",
    "        ticks = np.array([0, len(np.unique(skippedrawtrialfil[start_idx:end_idx]))//2 , len(np.unique(skippedrawtrialfil[start_idx:end_idx]))])\n",
    "        \n",
    "        #get smoothed by trial FR matrix excluding dark period sorted by context\n",
    "        normFR, _, _ = tuning_curve_bytrial(posx[start_idx:end_idx], skippedrawtrialfil[start_idx:end_idx], Y[start_idx:end_idx,:], dt, sigma = 5, b=2, smooth=True, normalize=True, occupancy=True) \n",
    "        \n",
    "        #collect & plot cross-trial correlation matrices & save for the grid cell population\n",
    "        allsim = np.zeros(shape = (len(np.unique(skippedrawtrialfil[start_idx:end_idx])),len(np.unique(skippedrawtrialfil[start_idx:end_idx])),len(spatialcells)))\n",
    "    \n",
    "        for i, c in enumerate(spatialcells):\n",
    "            sdx = (np.where(cell_IDs == c)[0][0]).astype(int)  \n",
    "            sim , _  = ps.cross_trial_correlation(normFR[:,:,sdx], shift = False) \n",
    "            allsim[:,:,i] = sim\n",
    "            \n",
    "        # save matrix of cross-trial correlations\n",
    "        d['allsim'] = allsim\n",
    "                               \n",
    "        allsim_file = 'allsim_' + m + '_' + s + '_'+ '.npy'\n",
    "        np.save(save_folder + allsim_file, allsim)\n",
    "        "
   ]
  },
  {
   "cell_type": "code",
   "execution_count": null,
   "id": "3d5d6c7e",
   "metadata": {},
   "outputs": [],
   "source": [
    "''' Calculate Shuffled CTCM for each Spatial Cell '''\n",
    "save_folder = 'C:/Users/Python/Desktop/LocalData/spatialcellsrf/crosstrial/'\n",
    "\n",
    "for m, session in zip(mice,sessions):\n",
    "        \n",
    "    if m in cohortb_mice:\n",
    "        max_trials = 240\n",
    "    else:\n",
    "        max_trials = 200\n",
    "        \n",
    "    for s in tdqm(session):\n",
    "        \n",
    "        #get data\n",
    "        d = data[m][s]\n",
    "        \n",
    "        #get some data & cell IDs\n",
    "        rawdata_file = 'RAW_' + m + '_' + s + '.npy'\n",
    "        behavior_file = 'BEHAVIOR_' + m + '_' + s + '.npy'\n",
    "        \n",
    "        raw = np.load(load_folder + rawdata_file, allow_pickle=True)\n",
    "        behaviorfil = np.load(load_folder + behavior_file, allow_pickle=False)\n",
    "        \n",
    "        cell_IDs = raw.item().get('cellsfil')\n",
    "        spatialcell99 = d['spatialcell99']\n",
    "        spatialcells = cell_IDs[spatialcell99]\n",
    "    \n",
    "        posx = behaviorfil[:,0]\n",
    "        trial = behaviorfil[:,2]\n",
    "        rawtrialfil = raw.item().get('trialfil')\n",
    "        \n",
    "        ##Generate shuffled spike train for spatial cells only\n",
    "        #get stuff you will to shuffle & re-filter spike times\n",
    "        sp = raw.item().get('sp')\n",
    "        spiket = sp['st'].copy()\n",
    "        cluster_id = sp['clu'].copy()\n",
    "        rawposx = raw.item().get('posx')\n",
    "        rawpost = raw.item().get('post')\n",
    "        rawspeed = raw.item().get('speed')\n",
    "        \n",
    "        dt = np.unique(np.round(np.diff(rawpost),4))\n",
    "        if len(dt) > 1: # discard duplicate frame entries if they occurred\n",
    "            dt = dt[dt != 0]\n",
    "            dt_to_trash = np.where(np.diff(rawpost) == 0)[0]\n",
    "        else:\n",
    "            dt_to_trash = [] \n",
    "\n",
    "        # filter spikes & position frames by speed < 2cm/s or out of track limits \n",
    "        speed_to_trash = find(rawspeed < 2)\n",
    "        pos_to_trash = find((rawposx < 0) | (rawposx > 400))\n",
    "        trash_idx = np.unique(np.concatenate((dt_to_trash, speed_to_trash, pos_to_trash)))\n",
    "        keep_idx = np.setdiff1d(np.arange(len(rawspeed)), trash_idx)\n",
    "        \n",
    "        B = np.zeros((len(rawspeed), len(spatialcells))) # reset empty shuffled FR matrix    \n",
    "        for i, c in enumerate(spatialcells):\n",
    "            sdx = (np.where(cell_IDs==c)[0][0]).astype(int)\n",
    "\n",
    "            #get actual spike times for each cell\n",
    "            st = spiket[cluster_id == c]\n",
    "            st = st[(st >= min(rawpost)) & (st <= max(rawpost))]\n",
    "\n",
    "            #get shuffle times\n",
    "            st_shuf = st - min(rawpost)\n",
    "            total_time = max(rawpost) - min(rawpost)\n",
    "            add = np.random.uniform(0.02,total_time,1)\n",
    "            st_shuf = (st_shuf + add) % total_time\n",
    "            st_shuf = st_shuf + min(rawpost)\n",
    "\n",
    "            #get unfiltered spike train\n",
    "            spike_ct = np.zeros_like(rawpost)\n",
    "            spike_idx = np.digitize(st_shuf, rawpost) #obs corresponding to where each shuffled spike occurs\n",
    "\n",
    "            idx, cts = np.unique(spike_idx, return_counts = True)\n",
    "            spike_ct[idx] = cts\n",
    "            B[:,i] = spike_ct\n",
    "\n",
    "            #check for & interpolate any missing values\n",
    "            if sum(np.isnan(B[:,i])) > 0:\n",
    "                B[:,i] = get.nan_interp(B[:,i])  \n",
    "\n",
    "        #apply filter spike train by speed, dt, & posx errors\n",
    "        B = B[keep_idx,:]\n",
    "        \n",
    "        #Find any skipped trials\n",
    "        try:\n",
    "            _ = raw.item().get('correctedtrial').shape\n",
    "            if (len(np.unique(trial)) < max_trials): \n",
    "                alltrial = np.arange(0, np.max(np.unique(trial)) + 1 , 1)\n",
    "            else:    \n",
    "                alltrial = np.arange(0,max_trials,1)\n",
    "            skippedtrials = np.setdiff1d(alltrial, np.unique(trial)).astype(int)\n",
    "            print('Skipped trials, n skipped = ' + str(len(skippedtrials)) + str(skippedtrials))\n",
    "        except: \n",
    "            skippedtrials = []\n",
    "            alltrial = np.arange(0, max_trials, 1)\n",
    "        \n",
    "        if np.max(np.unique(trial)) < 160: #handles truncated, shorter sessions \n",
    "            alltrial = np.arange(0, np.max(np.unique(trial)) + 1, 1)\n",
    "            print(m, s)\n",
    "        else:\n",
    "            alltrial = np.arange(0,max_trials,1)\n",
    "\n",
    "        # Load in left vs. right info\n",
    "        trials = np.unique(trial)\n",
    "        \n",
    "        #count number of skipped dark trials\n",
    "        ndarkskipped = 0\n",
    "        for z in skippedtrials:\n",
    "            if z < 20: \n",
    "                ndarkskipped += 1\n",
    "                \n",
    "        #adjust trialfil so that trials are skipped instead\n",
    "        count = 0\n",
    "        if len(skippedtrials) > 0 :\n",
    "            skippedrawtrialfil = rawtrialfil.copy()\n",
    "            consec = count_consec(list(np.sort(skippedtrials).astype(int)))\n",
    "            for i, k in enumerate(consec):\n",
    "                t = np.sort(skippedtrials)[count] \n",
    "                print(i,t,k)\n",
    "                if i == 0: \n",
    "                    skippedrawtrialfil[rawtrialfil >= t] = skippedrawtrialfil[rawtrialfil >= t] + k\n",
    "                else: \n",
    "                    skippedrawtrialfil[skippedrawtrialfil >= t] = skippedrawtrialfil[skippedrawtrialfil >= t] + k\n",
    "                count += k\n",
    "        else:\n",
    "            skippedrawtrialfil = trial.copy()\n",
    "            \n",
    "        #define random foraging trials only, excluding dark & gain change periods\n",
    "        if m == 'Y9':\n",
    "            start_idx = 0 \n",
    "            end_idx = len(skippedrawtrialfil) + 1\n",
    "        elif m in cohortb_mice:\n",
    "            start_idx = (np.where(skippedrawtrialfil >= 20)[0][0]).astype(int)\n",
    "            end_idx = (np.where(skippedrawtrialfil >= 220)[0][0]).astype(int)\n",
    "        else:\n",
    "            start_idx = 0 \n",
    "            end_idx = len(skippedrawtrialfil) + 1\n",
    "        \n",
    "        #set ticks & text dynamically\n",
    "        ticks = np.array([0, len(np.unique(skippedrawtrialfil[start_idx:end_idx]))//2 , len(np.unique(skippedrawtrialfil[start_idx:end_idx]))])\n",
    "        \n",
    "        #get smoothed by trial FR matrix excluding dark period sorted by context\n",
    "        normFR, _, _ = tuning_curve_bytrial(posx[start_idx:end_idx], skippedrawtrialfil[start_idx:end_idx], B[start_idx:end_idx,:], dt, sigma = 5, b=2, smooth=True, normalize=True, occupancy=True) \n",
    "            \n",
    "        #collect & plot cross-trial correlation matrices & save for the grid cell population\n",
    "        allshuffsim = np.zeros(shape = (len(np.unique(skippedrawtrialfil[start_idx:end_idx])),len(np.unique(skippedrawtrialfil[start_idx:end_idx])),len(spatialcells)))\n",
    "        for i, c in enumerate(spatialcells):\n",
    "            sim , _  = ps.cross_trial_correlation(normFR[:,:,i], shift = False) \n",
    "            allshuffsim[:,:,i] = sim\n",
    "        \n",
    "        #save shuffled matrix of cross-trial correlations\n",
    "        d['allshuffsim'] = allshuffsim\n",
    "                               \n",
    "        allshuffsim_file = 'allshuffsim_' + m + '_' + s + '_'+ '.npy'\n",
    "        np.save(save_folder + allshuffsim_file, allshuffsim)       "
   ]
  },
  {
   "cell_type": "code",
   "execution_count": 61,
   "id": "725005c8",
   "metadata": {},
   "outputs": [],
   "source": [
    "''' Load in K-Means Requirements '''\n",
    "\n",
    "from tqdm import tqdm\n",
    "from lvl.factor_models import KMeans as lvl_kmeans\n",
    "from lvl.factor_models import NMF as lvl_soft_kmeans\n",
    "from lvl.resamplers import RotationResampler\n",
    "from lvl.crossval import speckled_cv_scores \n",
    "from scipy.spatial.distance import cdist \n",
    "from scipy.special import logsumexp\n",
    "from sklearn.metrics import silhouette_samples, silhouette_score\n",
    "from scipy.spatial.distance import pdist\n",
    "from scipy.spatial.distance import squareform\n",
    "\n",
    "def softmax(M):\n",
    "    return np.exp(M - logsumexp(M, axis=-1, keepdims=True))\n"
   ]
  },
  {
   "cell_type": "code",
   "execution_count": 62,
   "id": "f8ca2a9a",
   "metadata": {
    "scrolled": true
   },
   "outputs": [
    {
     "data": {
      "application/vnd.jupyter.widget-view+json": {
       "model_id": "8e92a2c3fe0349149037a65c8a4a779d",
       "version_major": 2,
       "version_minor": 0
      },
      "text/plain": [
       "  0%|          | 0/6 [00:00<?, ?it/s]"
      ]
     },
     "metadata": {},
     "output_type": "display_data"
    },
    {
     "data": {
      "application/vnd.jupyter.widget-view+json": {
       "model_id": "5e89b40045214a5cb415d930eccae4cb",
       "version_major": 2,
       "version_minor": 0
      },
      "text/plain": [
       "  0%|          | 0/6 [00:00<?, ?it/s]"
      ]
     },
     "metadata": {},
     "output_type": "display_data"
    },
    {
     "data": {
      "application/vnd.jupyter.widget-view+json": {
       "model_id": "352a44da0ec84fb384fd6cd3550d0249",
       "version_major": 2,
       "version_minor": 0
      },
      "text/plain": [
       "  0%|          | 0/6 [00:00<?, ?it/s]"
      ]
     },
     "metadata": {},
     "output_type": "display_data"
    },
    {
     "data": {
      "application/vnd.jupyter.widget-view+json": {
       "model_id": "1b7ee65606c644188a9bbb09c124e0c5",
       "version_major": 2,
       "version_minor": 0
      },
      "text/plain": [
       "  0%|          | 0/6 [00:00<?, ?it/s]"
      ]
     },
     "metadata": {},
     "output_type": "display_data"
    },
    {
     "data": {
      "application/vnd.jupyter.widget-view+json": {
       "model_id": "a2421f38f9c340a48d38c5f09137dc6c",
       "version_major": 2,
       "version_minor": 0
      },
      "text/plain": [
       "  0%|          | 0/6 [00:00<?, ?it/s]"
      ]
     },
     "metadata": {},
     "output_type": "display_data"
    },
    {
     "data": {
      "application/vnd.jupyter.widget-view+json": {
       "model_id": "a8217cdbb8a04482a27d6ee68f7c856c",
       "version_major": 2,
       "version_minor": 0
      },
      "text/plain": [
       "  0%|          | 0/6 [00:00<?, ?it/s]"
      ]
     },
     "metadata": {},
     "output_type": "display_data"
    },
    {
     "data": {
      "application/vnd.jupyter.widget-view+json": {
       "model_id": "5b312f3a4d9f4b288c28502d92c0ae07",
       "version_major": 2,
       "version_minor": 0
      },
      "text/plain": [
       "  0%|          | 0/6 [00:00<?, ?it/s]"
      ]
     },
     "metadata": {},
     "output_type": "display_data"
    },
    {
     "data": {
      "application/vnd.jupyter.widget-view+json": {
       "model_id": "2fa1b16f489d4a6ea731a8c1ba115b79",
       "version_major": 2,
       "version_minor": 0
      },
      "text/plain": [
       "  0%|          | 0/5 [00:00<?, ?it/s]"
      ]
     },
     "metadata": {},
     "output_type": "display_data"
    },
    {
     "data": {
      "application/vnd.jupyter.widget-view+json": {
       "model_id": "bfb7944b1eaf462a8d0fbb34a12736d3",
       "version_major": 2,
       "version_minor": 0
      },
      "text/plain": [
       "  0%|          | 0/3 [00:00<?, ?it/s]"
      ]
     },
     "metadata": {},
     "output_type": "display_data"
    },
    {
     "data": {
      "application/vnd.jupyter.widget-view+json": {
       "model_id": "2f05facfcf4244509f04dbbe54193224",
       "version_major": 2,
       "version_minor": 0
      },
      "text/plain": [
       "  0%|          | 0/6 [00:00<?, ?it/s]"
      ]
     },
     "metadata": {},
     "output_type": "display_data"
    },
    {
     "data": {
      "application/vnd.jupyter.widget-view+json": {
       "model_id": "285bdf710b844a12967ec5c2fe504d42",
       "version_major": 2,
       "version_minor": 0
      },
      "text/plain": [
       "  0%|          | 0/6 [00:00<?, ?it/s]"
      ]
     },
     "metadata": {},
     "output_type": "display_data"
    },
    {
     "data": {
      "application/vnd.jupyter.widget-view+json": {
       "model_id": "688cfb05bb6b42128c8df51db30eb9d5",
       "version_major": 2,
       "version_minor": 0
      },
      "text/plain": [
       "  0%|          | 0/6 [00:00<?, ?it/s]"
      ]
     },
     "metadata": {},
     "output_type": "display_data"
    },
    {
     "data": {
      "application/vnd.jupyter.widget-view+json": {
       "model_id": "0cc542ea63aa42898d09b2ed98a0d529",
       "version_major": 2,
       "version_minor": 0
      },
      "text/plain": [
       "  0%|          | 0/5 [00:00<?, ?it/s]"
      ]
     },
     "metadata": {},
     "output_type": "display_data"
    },
    {
     "data": {
      "application/vnd.jupyter.widget-view+json": {
       "model_id": "f900d70d337b4f8f9e68660f3d121584",
       "version_major": 2,
       "version_minor": 0
      },
      "text/plain": [
       "  0%|          | 0/5 [00:00<?, ?it/s]"
      ]
     },
     "metadata": {},
     "output_type": "display_data"
    },
    {
     "data": {
      "application/vnd.jupyter.widget-view+json": {
       "model_id": "8dcb08d0642c4260aa2b2693b709a5af",
       "version_major": 2,
       "version_minor": 0
      },
      "text/plain": [
       "  0%|          | 0/6 [00:00<?, ?it/s]"
      ]
     },
     "metadata": {},
     "output_type": "display_data"
    },
    {
     "data": {
      "application/vnd.jupyter.widget-view+json": {
       "model_id": "75fdc2b901864f3586912203ed7fa708",
       "version_major": 2,
       "version_minor": 0
      },
      "text/plain": [
       "  0%|          | 0/2 [00:00<?, ?it/s]"
      ]
     },
     "metadata": {},
     "output_type": "display_data"
    }
   ],
   "source": [
    "''' Regenerate K-Means results for any sessions with onemap = False using optimal k selected in Figure 3 / S4 Notebook '''\n",
    "\n",
    "save_folder = 'C:/Users/Python/Desktop/LocalData/spatialcellsrf/kmeans/'\n",
    "FRtensor_folder = 'C:/Users/Python/Desktop/LocalData/spatialcellsrf/simmatrices/'\n",
    "\n",
    "yk = []\n",
    "ak = []\n",
    "optimalks = []\n",
    "\n",
    "for m, session in zip(mice, sessions):    \n",
    "    for s in tdqm(session):\n",
    "        \n",
    "        d = data[m][s]\n",
    "        \n",
    "        rawdata_file = 'RAW_' + m + '_' + s + '.npy'\n",
    "        behavior_file = 'BEHAVIOR_' + m + '_' + s + '.npy'\n",
    "        raw = np.load(load_folder + rawdata_file, allow_pickle=True)\n",
    "        cell_IDs = raw.item().get('cellsfil')\n",
    "        spatialcell99 = d['spatialcell99']\n",
    "        spatialcells = cell_IDs[spatialcell99]\n",
    "        \n",
    "        if len(spatialcells) > 10:\n",
    "            \n",
    "            onemapfile = 'onemap' + m + '_' + s + '.npy'\n",
    "            onemap = np.load(save_folder + onemapfile)\n",
    "            \n",
    "            if onemap[0].astype(bool) == True:\n",
    "                \n",
    "                d['kmeans'] = {}\n",
    "                d['kmeans']['onemap'] = onemap \n",
    "                \n",
    "                optimalks = np.append(optimalks, 1)\n",
    "                \n",
    "                if m in RF_aged_mice:\n",
    "                    ak = np.append(ak, 1)\n",
    "                else:\n",
    "                    yk = np.append(yk, 1)\n",
    "            \n",
    "            else:\n",
    "        \n",
    "                d['kmeans'] = {}\n",
    "                d['kmeans']['onemap'] = onemap \n",
    "\n",
    "                #load optimal k\n",
    "                SilN_file = 'SilN_' + m + '_' + s + '.npy'\n",
    "                d['kmeans']['SilN'] = np.load(save_folder + SilN_file)\n",
    "                SilN = d['kmeans']['SilN']\n",
    "                \n",
    "                optimalks = np.append(optimalks, SilN)\n",
    "            \n",
    "                if m in RF_aged_mice:\n",
    "                    ak = np.append(ak, SilN)\n",
    "                else:\n",
    "                    yk = np.append(yk, SilN)\n",
    "                \n",
    "                #load FR tensor\n",
    "                FRtensor_file = 'RF_FRtensor_' + m + '_' + s + '.npy'\n",
    "                d['FRtensor'] = np.load(FRtensor_folder + FRtensor_file)\n",
    "                Y = d['FRtensor'].copy()\n",
    "                Y = Y.transpose(0, 2, 1)\n",
    "                Y_unwrapped = np.reshape(Y, (Y.shape[0], -1))\n",
    "                sim_vec = np.abs(pdist(Y_unwrapped, 'correlation')-1)\n",
    "                sim = squareform(sim_vec)\n",
    "                d['similarity'] = sim\n",
    "                \n",
    "                #run k-means\n",
    "                model_kmeans = lvl_kmeans(n_components = SilN, n_restarts = 100)\n",
    "                model_kmeans.fit(Y_unwrapped)\n",
    "                W, H = model_kmeans.factors\n",
    "                Y_hat = model_kmeans.predict()\n",
    "                score = model_kmeans.score(Y_unwrapped)\n",
    "                d['kmeans']['W'] = W\n",
    "                d['kmeans']['H'] = H\n",
    "                d['kmeans']['Y_hat'] = Y_hat \n",
    "                d['kmeans']['Y_hat'] = Y_hat \n",
    "                d['kmeans']['score'] = score"
   ]
  },
  {
   "cell_type": "code",
   "execution_count": 63,
   "id": "1c1fb4be",
   "metadata": {
    "scrolled": true
   },
   "outputs": [
    {
     "data": {
      "application/vnd.jupyter.widget-view+json": {
       "model_id": "5bd354cb28f748d2bead807b56bbef91",
       "version_major": 2,
       "version_minor": 0
      },
      "text/plain": [
       "  0%|          | 0/6 [00:00<?, ?it/s]"
      ]
     },
     "metadata": {},
     "output_type": "display_data"
    },
    {
     "data": {
      "application/vnd.jupyter.widget-view+json": {
       "model_id": "ec38871ee4c5457faa05bb97232fd489",
       "version_major": 2,
       "version_minor": 0
      },
      "text/plain": [
       "  0%|          | 0/6 [00:00<?, ?it/s]"
      ]
     },
     "metadata": {},
     "output_type": "display_data"
    },
    {
     "data": {
      "application/vnd.jupyter.widget-view+json": {
       "model_id": "3c077b32fb424af9bcc9d39e9fd0735f",
       "version_major": 2,
       "version_minor": 0
      },
      "text/plain": [
       "  0%|          | 0/6 [00:00<?, ?it/s]"
      ]
     },
     "metadata": {},
     "output_type": "display_data"
    },
    {
     "data": {
      "application/vnd.jupyter.widget-view+json": {
       "model_id": "dbd3fa4c1bb54cc694bd2113a3413278",
       "version_major": 2,
       "version_minor": 0
      },
      "text/plain": [
       "  0%|          | 0/6 [00:00<?, ?it/s]"
      ]
     },
     "metadata": {},
     "output_type": "display_data"
    },
    {
     "data": {
      "application/vnd.jupyter.widget-view+json": {
       "model_id": "89bcf88e8cbf425fbef07e12a641e451",
       "version_major": 2,
       "version_minor": 0
      },
      "text/plain": [
       "  0%|          | 0/6 [00:00<?, ?it/s]"
      ]
     },
     "metadata": {},
     "output_type": "display_data"
    },
    {
     "data": {
      "application/vnd.jupyter.widget-view+json": {
       "model_id": "f31bd213b9044c8bbf6fa37952563f7d",
       "version_major": 2,
       "version_minor": 0
      },
      "text/plain": [
       "  0%|          | 0/6 [00:00<?, ?it/s]"
      ]
     },
     "metadata": {},
     "output_type": "display_data"
    },
    {
     "data": {
      "application/vnd.jupyter.widget-view+json": {
       "model_id": "19dd923fa207429587c73a33b7ffa7cd",
       "version_major": 2,
       "version_minor": 0
      },
      "text/plain": [
       "  0%|          | 0/6 [00:00<?, ?it/s]"
      ]
     },
     "metadata": {},
     "output_type": "display_data"
    },
    {
     "data": {
      "application/vnd.jupyter.widget-view+json": {
       "model_id": "11fad988a0834f68ace4a5c35b1a6a48",
       "version_major": 2,
       "version_minor": 0
      },
      "text/plain": [
       "  0%|          | 0/5 [00:00<?, ?it/s]"
      ]
     },
     "metadata": {},
     "output_type": "display_data"
    },
    {
     "data": {
      "application/vnd.jupyter.widget-view+json": {
       "model_id": "ae256467f18b40c39ea117aa01d138eb",
       "version_major": 2,
       "version_minor": 0
      },
      "text/plain": [
       "  0%|          | 0/3 [00:00<?, ?it/s]"
      ]
     },
     "metadata": {},
     "output_type": "display_data"
    },
    {
     "data": {
      "application/vnd.jupyter.widget-view+json": {
       "model_id": "143e0acec84e44fc9b815aaaea6d6c89",
       "version_major": 2,
       "version_minor": 0
      },
      "text/plain": [
       "  0%|          | 0/6 [00:00<?, ?it/s]"
      ]
     },
     "metadata": {},
     "output_type": "display_data"
    },
    {
     "data": {
      "application/vnd.jupyter.widget-view+json": {
       "model_id": "7bd0e5ec0aff44da83903409bd8407a1",
       "version_major": 2,
       "version_minor": 0
      },
      "text/plain": [
       "  0%|          | 0/6 [00:00<?, ?it/s]"
      ]
     },
     "metadata": {},
     "output_type": "display_data"
    },
    {
     "data": {
      "application/vnd.jupyter.widget-view+json": {
       "model_id": "5287562036b24d3c8ecac051c0075272",
       "version_major": 2,
       "version_minor": 0
      },
      "text/plain": [
       "  0%|          | 0/6 [00:00<?, ?it/s]"
      ]
     },
     "metadata": {},
     "output_type": "display_data"
    },
    {
     "data": {
      "application/vnd.jupyter.widget-view+json": {
       "model_id": "b4a5cb1df6c543cea585dfedd58b18c4",
       "version_major": 2,
       "version_minor": 0
      },
      "text/plain": [
       "  0%|          | 0/5 [00:00<?, ?it/s]"
      ]
     },
     "metadata": {},
     "output_type": "display_data"
    },
    {
     "data": {
      "application/vnd.jupyter.widget-view+json": {
       "model_id": "9d5c557dab3a411b970d5e7ec22b468d",
       "version_major": 2,
       "version_minor": 0
      },
      "text/plain": [
       "  0%|          | 0/5 [00:00<?, ?it/s]"
      ]
     },
     "metadata": {},
     "output_type": "display_data"
    },
    {
     "data": {
      "application/vnd.jupyter.widget-view+json": {
       "model_id": "6afe8d34d4254bb78480573cea2cb8fa",
       "version_major": 2,
       "version_minor": 0
      },
      "text/plain": [
       "  0%|          | 0/6 [00:00<?, ?it/s]"
      ]
     },
     "metadata": {},
     "output_type": "display_data"
    },
    {
     "data": {
      "application/vnd.jupyter.widget-view+json": {
       "model_id": "69181ff2930d4e6490f9fdd6b0025942",
       "version_major": 2,
       "version_minor": 0
      },
      "text/plain": [
       "  0%|          | 0/2 [00:00<?, ?it/s]"
      ]
     },
     "metadata": {},
     "output_type": "display_data"
    }
   ],
   "source": [
    "''' Relabel spatial cell network maps non-arbitrarily (map 0 - 3 == slowest to fastest) '''\n",
    "\n",
    "for m, session in zip(mice, sessions):\n",
    "    for s in tdqm(session):\n",
    "        d = data[m][s]\n",
    "        \n",
    "        #get some data & cell IDs\n",
    "        rawdata_file = 'RAW_' + m + '_' + s + '.npy'\n",
    "        spikes_file = 'SPIKES_' + m + '_' + s +'.npy'\n",
    "        behavior_file = 'BEHAVIOR_' + m + '_' + s + '.npy'\n",
    "        \n",
    "        raw = np.load(load_folder + rawdata_file, allow_pickle=True)\n",
    "        Y = np.load(load_folder + spikes_file, allow_pickle=False) #pre-filtered for speeds >2cm/s, position-corrected spikes, 20 ms timebins\n",
    "        behaviorfil = np.load(load_folder + behavior_file, allow_pickle=False)\n",
    "        \n",
    "        cell_IDs = raw.item().get('cellsfil')\n",
    "        spatialcell = d['spatialcell99'].astype(bool)\n",
    "        spatialcells = cell_IDs[spatialcell]     \n",
    "    \n",
    "        #get corrected speed during non-dark & non-gain running\n",
    "        posx = behaviorfil[:,0]\n",
    "        speed = behaviorfil[:,1]\n",
    "        trial = behaviorfil[:,2]\n",
    "        max_trials = np.max(trial)\n",
    "        rawtrialfil = raw.item().get('trialfil')\n",
    "        \n",
    "        #Find any skipped trials\n",
    "        try:\n",
    "            _ = raw.item().get('correctedtrial').shape\n",
    "            if (len(np.unique(trial)) < max_trials): \n",
    "                alltrial = np.arange(0, np.max(np.unique(trial)) + 1 , 1)\n",
    "            else:    \n",
    "                alltrial = np.arange(0,max_trials,1)\n",
    "            skippedtrials = np.setdiff1d(alltrial, np.unique(trial)).astype(int)\n",
    "            #print('Skipped trials, n skipped = ' + str(len(skippedtrials)) + str(skippedtrials))\n",
    "        except: \n",
    "            skippedtrials = []\n",
    "            alltrial = np.arange(0, max_trials, 1)\n",
    "        \n",
    "        if np.max(np.unique(trial)) < 160: #handles truncated, shorter sessions \n",
    "            alltrial = np.arange(0, np.max(np.unique(trial)) + 1, 1)\n",
    "        else:\n",
    "            alltrial = np.arange(0,max_trials,1)\n",
    "        \n",
    "        #count number of skipped dark trials\n",
    "        ndarkskipped = 0\n",
    "        for z in skippedtrials:\n",
    "            if z < 20: \n",
    "                ndarkskipped += 1\n",
    "                \n",
    "        #adjust trialfil so that trials are skipped instead\n",
    "        count = 0\n",
    "        if len(skippedtrials) > 0 :\n",
    "            skippedrawtrialfil = rawtrialfil.copy()\n",
    "            consec = count_consec(list(np.sort(skippedtrials).astype(int)))\n",
    "            for i, k in enumerate(consec):\n",
    "                t = np.sort(skippedtrials)[count] \n",
    "                #print(i,t,k)\n",
    "                if i == 0: \n",
    "                    skippedrawtrialfil[rawtrialfil >= t] = skippedrawtrialfil[rawtrialfil >= t] + k\n",
    "                else: \n",
    "                    skippedrawtrialfil[skippedrawtrialfil >= t] = skippedrawtrialfil[skippedrawtrialfil >= t] + k\n",
    "                count += k\n",
    "        else:\n",
    "            skippedrawtrialfil = trial.copy()\n",
    "            \n",
    "        #define random foraging trials only, excluding dark & gain change periods\n",
    "        if m == 'Y9':\n",
    "            start_idx = 0 \n",
    "            end_idx = len(skippedrawtrialfil) + 1\n",
    "        elif m in cohortb_mice:\n",
    "            start_idx = (np.where(skippedrawtrialfil >= 20)[0][0]).astype(int)\n",
    "            end_idx = (np.where(skippedrawtrialfil >= 200)[0][0]).astype(int)\n",
    "        else:\n",
    "            start_idx = 0 \n",
    "            end_idx = len(skippedrawtrialfil) + 1\n",
    "            \n",
    "        if len(spatialcells) > 10: \n",
    "            \n",
    "            RFspeed = speed[start_idx:end_idx]\n",
    "            trials = skippedrawtrialfil[start_idx:end_idx]\n",
    "            \n",
    "            onemapfile = 'onemap' + m + '_' + s + '.npy'\n",
    "            onemap = np.load(save_folder + onemapfile)\n",
    "            \n",
    "            if onemap[0].astype(bool) == False:\n",
    "                \n",
    "                #assign map 0 to be the one dominating A, map 1 is the other map\n",
    "                if (d['kmeans']['SilN'] == 2):\n",
    "                    W = d['kmeans']['W']\n",
    "\n",
    "                    # get map indices\n",
    "                    map_idx = W[:, 0].astype(bool)\n",
    "                    map0_idx = np.zeros_like(trials)\n",
    "                    map1_idx = np.zeros_like(trials)\n",
    "                    for i, t in enumerate(np.unique(trials)):\n",
    "                        if map_idx[i]:\n",
    "                            map0_idx[trials == t] = 1\n",
    "                        else:\n",
    "                            map1_idx[trials == t] = 1\n",
    "                    map0_idx = map0_idx.astype(bool)\n",
    "                    map1_idx = map1_idx.astype(bool)\n",
    "\n",
    "                    speed_0 = np.nanmean(RFspeed[map0_idx])\n",
    "                    speed_1 = np.nanmean(RFspeed[map1_idx])\n",
    "\n",
    "                    if speed_1 < speed_0: # swap labels\n",
    "                        d['map0_idx'] = 1\n",
    "                    else:\n",
    "                        d['map0_idx'] = 0\n",
    "\n",
    "                #ditto, assign map 1 to be the one dominating B, map 2 is the other map\n",
    "                elif (d['kmeans']['SilN'] == 3):\n",
    "                    W = d['kmeans']['W']\n",
    "\n",
    "                    #get map indices\n",
    "                    map0_idx = np.zeros_like(trials)\n",
    "                    map1_idx = np.zeros_like(trials)\n",
    "                    map2_idx = np.zeros_like(trials)\n",
    "                    for i, t in enumerate(np.unique(trials)):\n",
    "                        map_idx = np.where(W[i,:] == 1)[0][0]\n",
    "                        if map_idx == 0:\n",
    "                            map0_idx[trials == t] = 1\n",
    "                        elif map_idx == 1:\n",
    "                            map1_idx[trials == t] = 1\n",
    "                        else:\n",
    "                            map2_idx[trials == t] = 1\n",
    "                    map0_idx = map0_idx.astype(bool)\n",
    "                    map1_idx = map1_idx.astype(bool)\n",
    "                    map2_idx = map2_idx.astype(bool)\n",
    "\n",
    "                    # get assign map 0 to be the one with the greate number of trials in Context A\n",
    "                    speed_0 = np.nanmean(RFspeed[map0_idx])\n",
    "                    speed_1 = np.nanmean(RFspeed[map1_idx])\n",
    "                    speed_2 = np.nanmean(RFspeed[map2_idx])\n",
    "\n",
    "                    d['map0_idx'] = np.argmin([speed_0, speed_1, speed_2])\n",
    "                    d['map2_idx'] = np.argmax([speed_0, speed_1, speed_2])\n",
    "                    d['map1_idx'] = np.setdiff1d([0,1,2], [d['map0_idx'], d['map2_idx']])[0]\n",
    "\n",
    "                #ditto but map 2 is the map occupying most of A' map 3 is the other map        \n",
    "                elif (d['kmeans']['SilN'] == 4):\n",
    "                    W = d['kmeans']['W']\n",
    "\n",
    "                    #get map indices\n",
    "                    map0_idx = np.zeros_like(trials)\n",
    "                    map1_idx = np.zeros_like(trials)\n",
    "                    map2_idx = np.zeros_like(trials)\n",
    "                    map3_idx = np.zeros_like(trials)\n",
    "                    for i, t in enumerate(np.unique(trials)):\n",
    "                        map_idx = np.where(W[i,:] == 1)[0][0]\n",
    "                        if map_idx == 0:\n",
    "                            map0_idx[trials == t] = 1\n",
    "                        elif map_idx == 1:\n",
    "                            map1_idx[trials == t] = 1\n",
    "                        elif map_idx == 2:\n",
    "                            map2_idx[trials == t] = 1\n",
    "                        else:\n",
    "                            map3_idx[trials == t] = 1\n",
    "                    map0_idx = map0_idx.astype(bool)\n",
    "                    map1_idx = map1_idx.astype(bool)\n",
    "                    map2_idx = map2_idx.astype(bool)\n",
    "                    map3_idx = map3_idx.astype(bool)\n",
    "\n",
    "                    # get assign map 0 to be the one with the greate number of trials in Context A\n",
    "                    speed_0 = np.nanmean(RFspeed[map0_idx])\n",
    "                    speed_1 = np.nanmean(RFspeed[map1_idx])\n",
    "                    speed_2 = np.nanmean(RFspeed[map2_idx])\n",
    "                    speed_3 = np.nanmean(RFspeed[map3_idx])\n",
    "                    speeds = [speed_0, speed_1, speed_2, speed_3]\n",
    "\n",
    "                    d['map0_idx'] = np.argmin([speed_0, speed_1, speed_2, speed_3])\n",
    "                    d['map3_idx'] = np.argmax([speed_0, speed_1, speed_2, speed_3])\n",
    "                    d['map1_idx'] = np.where(speeds == np.sort(speeds)[1])[0][0]\n",
    "                    d['map2_idx'] = np.where(speeds == np.sort(speeds)[2])[0][0]"
   ]
  },
  {
   "cell_type": "code",
   "execution_count": 64,
   "id": "d52e4e82",
   "metadata": {
    "scrolled": true
   },
   "outputs": [
    {
     "data": {
      "application/vnd.jupyter.widget-view+json": {
       "model_id": "7c41c12c19954183970f2e7cb87778bd",
       "version_major": 2,
       "version_minor": 0
      },
      "text/plain": [
       "  0%|          | 0/6 [00:00<?, ?it/s]"
      ]
     },
     "metadata": {},
     "output_type": "display_data"
    },
    {
     "data": {
      "application/vnd.jupyter.widget-view+json": {
       "model_id": "0e81061171fb49bc9eb4bd0d2b9da130",
       "version_major": 2,
       "version_minor": 0
      },
      "text/plain": [
       "  0%|          | 0/6 [00:00<?, ?it/s]"
      ]
     },
     "metadata": {},
     "output_type": "display_data"
    },
    {
     "data": {
      "application/vnd.jupyter.widget-view+json": {
       "model_id": "82c7572ffc3541db9cedc0a36fda3c65",
       "version_major": 2,
       "version_minor": 0
      },
      "text/plain": [
       "  0%|          | 0/6 [00:00<?, ?it/s]"
      ]
     },
     "metadata": {},
     "output_type": "display_data"
    },
    {
     "data": {
      "application/vnd.jupyter.widget-view+json": {
       "model_id": "1b2bd30ec06b4b71b03e14ffdd13e0dc",
       "version_major": 2,
       "version_minor": 0
      },
      "text/plain": [
       "  0%|          | 0/6 [00:00<?, ?it/s]"
      ]
     },
     "metadata": {},
     "output_type": "display_data"
    },
    {
     "data": {
      "application/vnd.jupyter.widget-view+json": {
       "model_id": "2767f3d1bbeb4ff6b5c970eb0e5692c0",
       "version_major": 2,
       "version_minor": 0
      },
      "text/plain": [
       "  0%|          | 0/6 [00:00<?, ?it/s]"
      ]
     },
     "metadata": {},
     "output_type": "display_data"
    },
    {
     "data": {
      "application/vnd.jupyter.widget-view+json": {
       "model_id": "7faef536c0db4f019d9c82c0b08f6b73",
       "version_major": 2,
       "version_minor": 0
      },
      "text/plain": [
       "  0%|          | 0/6 [00:00<?, ?it/s]"
      ]
     },
     "metadata": {},
     "output_type": "display_data"
    },
    {
     "data": {
      "application/vnd.jupyter.widget-view+json": {
       "model_id": "ec644b42363f455bbc6fe9bd90422947",
       "version_major": 2,
       "version_minor": 0
      },
      "text/plain": [
       "  0%|          | 0/6 [00:00<?, ?it/s]"
      ]
     },
     "metadata": {},
     "output_type": "display_data"
    },
    {
     "data": {
      "application/vnd.jupyter.widget-view+json": {
       "model_id": "d15a5e7a9dd74aefac76a1d0a961c0f2",
       "version_major": 2,
       "version_minor": 0
      },
      "text/plain": [
       "  0%|          | 0/5 [00:00<?, ?it/s]"
      ]
     },
     "metadata": {},
     "output_type": "display_data"
    },
    {
     "data": {
      "application/vnd.jupyter.widget-view+json": {
       "model_id": "14d818b7bcf64c31b0d75d2d6b93c2ea",
       "version_major": 2,
       "version_minor": 0
      },
      "text/plain": [
       "  0%|          | 0/3 [00:00<?, ?it/s]"
      ]
     },
     "metadata": {},
     "output_type": "display_data"
    },
    {
     "data": {
      "application/vnd.jupyter.widget-view+json": {
       "model_id": "cbff33d151b04ecf82ef3c508b949ef0",
       "version_major": 2,
       "version_minor": 0
      },
      "text/plain": [
       "  0%|          | 0/6 [00:00<?, ?it/s]"
      ]
     },
     "metadata": {},
     "output_type": "display_data"
    },
    {
     "data": {
      "application/vnd.jupyter.widget-view+json": {
       "model_id": "67c0a7d1999c4c56a990ead69930bb7c",
       "version_major": 2,
       "version_minor": 0
      },
      "text/plain": [
       "  0%|          | 0/6 [00:00<?, ?it/s]"
      ]
     },
     "metadata": {},
     "output_type": "display_data"
    },
    {
     "data": {
      "application/vnd.jupyter.widget-view+json": {
       "model_id": "b3c4a20238b44cb9a413330b811c708d",
       "version_major": 2,
       "version_minor": 0
      },
      "text/plain": [
       "  0%|          | 0/6 [00:00<?, ?it/s]"
      ]
     },
     "metadata": {},
     "output_type": "display_data"
    },
    {
     "data": {
      "application/vnd.jupyter.widget-view+json": {
       "model_id": "8f1aeecb501b44fdb86c5805d1bc46f6",
       "version_major": 2,
       "version_minor": 0
      },
      "text/plain": [
       "  0%|          | 0/5 [00:00<?, ?it/s]"
      ]
     },
     "metadata": {},
     "output_type": "display_data"
    },
    {
     "data": {
      "application/vnd.jupyter.widget-view+json": {
       "model_id": "25e7ff29d2d349d186390200474a9b34",
       "version_major": 2,
       "version_minor": 0
      },
      "text/plain": [
       "  0%|          | 0/5 [00:00<?, ?it/s]"
      ]
     },
     "metadata": {},
     "output_type": "display_data"
    },
    {
     "data": {
      "application/vnd.jupyter.widget-view+json": {
       "model_id": "934c184cbc424e7cb25af47657245b00",
       "version_major": 2,
       "version_minor": 0
      },
      "text/plain": [
       "  0%|          | 0/6 [00:00<?, ?it/s]"
      ]
     },
     "metadata": {},
     "output_type": "display_data"
    },
    {
     "data": {
      "application/vnd.jupyter.widget-view+json": {
       "model_id": "3fcf43de201b43a6a9c6f70e6766e5f5",
       "version_major": 2,
       "version_minor": 0
      },
      "text/plain": [
       "  0%|          | 0/2 [00:00<?, ?it/s]"
      ]
     },
     "metadata": {},
     "output_type": "display_data"
    },
    {
     "name": "stderr",
     "output_type": "stream",
     "text": [
      "C:\\Users\\Python\\anaconda3\\envs\\agingmec\\lib\\site-packages\\numpy\\core\\fromnumeric.py:3464: RuntimeWarning: Mean of empty slice.\n",
      "  return _methods._mean(a, axis=axis, dtype=dtype,\n",
      "C:\\Users\\Python\\anaconda3\\envs\\agingmec\\lib\\site-packages\\numpy\\core\\_methods.py:192: RuntimeWarning: invalid value encountered in scalar divide\n",
      "  ret = ret.dtype.type(ret / rcount)\n"
     ]
    }
   ],
   "source": [
    "''' Getting Moving Avg Similarity across Neighboring 5 Trials within each K-Means Map \n",
    "\n",
    "This quantifies stability in a manner that controls explicitly for remapping events.\n",
    "\n",
    "'''\n",
    "\n",
    "from scipy.spatial.distance import pdist\n",
    "from scipy.spatial.distance import squareform\n",
    "\n",
    "dt = 0.02\n",
    "save_folder = 'C:/Users/Python/Desktop/LocalData/spatialcellsrf/simmatrices/'\n",
    "sim_load_folder = 'C:/Users/Python/Desktop/LocalData/spatialcellsrf/crosstrial/'\n",
    "kmeans_folder = 'C:/Users/Python/Desktop/LocalData/spatialcellsrf/kmeans/'\n",
    "\n",
    "slocstab5 = []\n",
    "max_k = 5\n",
    "\n",
    "for m, session in zip(mice, sessions):\n",
    "    m_locstab5 = []\n",
    "    for s in tdqm(session):\n",
    "        d = data[m][s]\n",
    "        \n",
    "        #get some data & cell IDs\n",
    "        rawdata_file = 'RAW_' + m + '_' + s + '.npy'\n",
    "        behavior_file = 'BEHAVIOR_' + m + '_' + s + '.npy'\n",
    "        raw = np.load(load_folder + rawdata_file, allow_pickle=True)\n",
    "        behaviorfil = np.load(load_folder + behavior_file, allow_pickle=False)\n",
    "        cell_IDs = raw.item().get('cellsfil')\n",
    "        spatialcell99 = d['spatialcell99']\n",
    "        spatialcells = cell_IDs[spatialcell99]\n",
    "        trial = behaviorfil[:,2]\n",
    "        \n",
    "        #load the cross trial correlation matrices for all spatial cells      \n",
    "        allsim_file = 'allsim_' + m + '_' + s + '_'+ '.npy'\n",
    "        d['allsim'] = np.load(sim_load_folder + allsim_file)\n",
    "        allsim = d['allsim']\n",
    "        \n",
    "        withinmapstability = [] #avg nearest neighbor stability over all trials within maps for each of the spatial cells\n",
    "        \n",
    "        if len(spatialcells) > 10: \n",
    "            \n",
    "            onemapfile = 'onemap' + m + '_' + s + '.npy'\n",
    "            onemap = np.load(kmeans_folder + onemapfile)\n",
    "            \n",
    "            if onemap[0].astype(bool) == True:           \n",
    "            \n",
    "                for i, c in enumerate(spatialcells):\n",
    "                    #divide sim by context\n",
    "                    sim = allsim[:,:,i]\n",
    "                    sum_k = np.zeros(sim.shape[0])\n",
    "                    for k in np.arange(-max_k, max_k+1, 1):\n",
    "                        if k == 0:\n",
    "                            continue\n",
    "                        elif k < 0:\n",
    "                            sum_k[np.abs(k):] = sum_k[np.abs(k):] + np.diagonal(sim, offset=k)\n",
    "                        else:\n",
    "                            sum_k[:-k] = sum_k[:-k] + np.diagonal(sim, offset=k)\n",
    "                    withinmapstability = np.append(withinmapstability, np.mean(sum_k[max_k:-max_k]/(2*max_k)))\n",
    "                \n",
    "            else:\n",
    "                \n",
    "                if (d['kmeans']['SilN'] == 2):\n",
    "                    \n",
    "                    W = d['kmeans']['W']\n",
    "                    map_0 = W[:, d['map0_idx']].astype(bool)\n",
    "                    \n",
    "                    sim0 = allsim[map_0,:,:]\n",
    "                    sim0 = sim0[:,map_0,:]\n",
    "                    sim1 = allsim[~map_0,:,:]\n",
    "                    sim1 = sim1[:,~map_0,:]\n",
    "                    \n",
    "                    map1stab = []\n",
    "                    map2stab = []\n",
    "                    for i, c in enumerate(spatialcells):\n",
    "                        \n",
    "                        #map 0 stability\n",
    "                        sim = sim0[:,:,i]\n",
    "                        sum_k0 = np.zeros(sim.shape[0])\n",
    "                        for k in np.arange(-max_k, max_k+1, 1):\n",
    "                            if k == 0:\n",
    "                                continue\n",
    "                            elif k < 0:\n",
    "                                sum_k0[np.abs(k):] = sum_k0[np.abs(k):] + np.diagonal(sim, offset=k)\n",
    "                            else:\n",
    "                                sum_k0[:-k] = sum_k0[:-k] + np.diagonal(sim, offset=k)   \n",
    "                        map1stab = np.append(map1stab, np.mean(sum_k0[max_k:-max_k]/(2*max_k)))\n",
    "                    \n",
    "                        #map 1 stability\n",
    "                        sim = sim1[:,:,i]\n",
    "                        sum_k1 = np.zeros(sim.shape[0])\n",
    "                        for k in np.arange(-max_k, max_k+1, 1):\n",
    "                            if k == 0:\n",
    "                                continue\n",
    "                            elif k < 0:\n",
    "                                sum_k1[np.abs(k):] = sum_k1[np.abs(k):] + np.diagonal(sim, offset=k)\n",
    "                            else:\n",
    "                                sum_k1[:-k] = sum_k1[:-k] + np.diagonal(sim, offset=k)   \n",
    "                        map2stab = np.append(map2stab, np.mean(sum_k1[max_k:-max_k]/(2*max_k)))\n",
    "                        \n",
    "                        withinmapstability = np.append(withinmapstability, np.mean(np.concatenate((sum_k0[max_k:-max_k]/(2*max_k),sum_k1[max_k:-max_k]/(2*max_k)))))\n",
    "                        \n",
    "                elif (d['kmeans']['SilN'] == 3):\n",
    "                    W = d['kmeans']['W']\n",
    "                    map_0 = W[:, d['map0_idx']].astype(bool)\n",
    "                    map_1 = W[:, d['map1_idx']].astype(bool)\n",
    "                    map_2 = W[:, d['map2_idx']].astype(bool)\n",
    "                    \n",
    "                    sim0 = allsim[map_0,:,:]\n",
    "                    sim0 = sim0[:,map_0,:]\n",
    "                    sim1 = allsim[map_1,:,:]\n",
    "                    sim1 = sim1[:,map_1,:]\n",
    "                    sim2 = allsim[map_2,:,:]\n",
    "                    sim2 = sim2[:,map_2,:]\n",
    "                                                \n",
    "                    for i, c in enumerate(spatialcells):\n",
    "                        \n",
    "                        #map 0 stability\n",
    "                        sim = sim0[:,:,i]\n",
    "                        sum_k0 = np.zeros(sim.shape[0])\n",
    "                        for k in np.arange(-max_k, max_k+1, 1):\n",
    "                            if k == 0:\n",
    "                                continue\n",
    "                            elif k < 0:\n",
    "                                sum_k0[np.abs(k):] = sum_k0[np.abs(k):] + np.diagonal(sim, offset=k)\n",
    "                            else:\n",
    "                                sum_k0[:-k] = sum_k0[:-k] + np.diagonal(sim, offset=k)   \n",
    "                        map1stab = sum_k0[max_k:-max_k]/(2*max_k)\n",
    "                    \n",
    "                        #map 1 stability\n",
    "                        sim = sim1[:,:,i]\n",
    "                        sum_k1 = np.zeros(sim.shape[0])\n",
    "                        for k in np.arange(-max_k, max_k+1, 1):\n",
    "                            if k == 0:\n",
    "                                continue\n",
    "                            elif k < 0:\n",
    "                                sum_k1[np.abs(k):] = sum_k1[np.abs(k):] + np.diagonal(sim, offset=k)\n",
    "                            else:\n",
    "                                sum_k1[:-k] = sum_k1[:-k] + np.diagonal(sim, offset=k)   \n",
    "                        map2stab = sum_k1[max_k:-max_k]/(2*max_k)\n",
    "                        \n",
    "                        #map 2 stability\n",
    "                        sim = sim2[:,:,i]\n",
    "                        sum_k2 = np.zeros(sim.shape[0])\n",
    "                        for k in np.arange(-max_k, max_k+1, 1):\n",
    "                            if k == 0:\n",
    "                                continue\n",
    "                            elif k < 0:\n",
    "                                sum_k2[np.abs(k):] = sum_k2[np.abs(k):] + np.diagonal(sim, offset=k)\n",
    "                            else:\n",
    "                                sum_k2[:-k] = sum_k2[:-k] + np.diagonal(sim, offset=k)   \n",
    "                        map3stab = sum_k2[max_k:-max_k]/(2*max_k)\n",
    "                        \n",
    "                        withinmapstability = np.append(withinmapstability, np.mean(np.concatenate((map1stab,map2stab,map3stab))))\n",
    "                    \n",
    "                elif (d['kmeans']['SilN'] == 4):\n",
    "                    W = d['kmeans']['W']\n",
    "                    map_0 = W[:, d['map0_idx']].astype(bool)\n",
    "                    map_1 = W[:, d['map1_idx']].astype(bool)\n",
    "                    map_2 = W[:, d['map2_idx']].astype(bool)\n",
    "                    map_3 = W[:, d['map3_idx']].astype(bool)\n",
    "                    \n",
    "                    sim0 = allsim[map_0,:,:]\n",
    "                    sim0 = sim0[:,map_0,:]\n",
    "                    sim1 = allsim[map_1,:,:]\n",
    "                    sim1 = sim1[:,map_1,:]\n",
    "                    sim2 = allsim[map_2,:,:]\n",
    "                    sim2 = sim2[:,map_2,:]\n",
    "                    sim3 = allsim[map_3,:,:]\n",
    "                    sim3 = sim3[:,map_3,:]\n",
    "                    \n",
    "                    for i, c in enumerate(spatialcells):\n",
    "                        \n",
    "                        #map 0 stability\n",
    "                        sim = sim0[:,:,i]\n",
    "                        sum_k0 = np.zeros(sim.shape[0])\n",
    "                        for k in np.arange(-max_k, max_k+1, 1):\n",
    "                            if k == 0:\n",
    "                                continue\n",
    "                            elif k < 0:\n",
    "                                sum_k0[np.abs(k):] = sum_k0[np.abs(k):] + np.diagonal(sim, offset=k)\n",
    "                            else:\n",
    "                                sum_k0[:-k] = sum_k0[:-k] + np.diagonal(sim, offset=k)   \n",
    "                        map1stab = sum_k0[max_k:-max_k]/(2*max_k)\n",
    "                    \n",
    "                        #map 1 stability\n",
    "                        sim = sim1[:,:,i]\n",
    "                        sum_k1 = np.zeros(sim.shape[0])\n",
    "                        for k in np.arange(-max_k, max_k+1, 1):\n",
    "                            if k == 0:\n",
    "                                continue\n",
    "                            elif k < 0:\n",
    "                                sum_k1[np.abs(k):] = sum_k1[np.abs(k):] + np.diagonal(sim, offset=k)\n",
    "                            else:\n",
    "                                sum_k1[:-k] = sum_k1[:-k] + np.diagonal(sim, offset=k)   \n",
    "                        map2stab = sum_k1[max_k:-max_k]/(2*max_k)\n",
    "                        \n",
    "                        #map 2 stability\n",
    "                        sim = sim2[:,:,i]\n",
    "                        sum_k2 = np.zeros(sim.shape[0])\n",
    "                        for k in np.arange(-max_k, max_k+1, 1):\n",
    "                            if k == 0:\n",
    "                                continue\n",
    "                            elif k < 0:\n",
    "                                sum_k2[np.abs(k):] = sum_k2[np.abs(k):] + np.diagonal(sim, offset=k)\n",
    "                            else:\n",
    "                                sum_k2[:-k] = sum_k2[:-k] + np.diagonal(sim, offset=k)   \n",
    "                        map3stab = sum_k2[max_k:-max_k]/(2*max_k)\n",
    "                        \n",
    "                        #map 3 stability\n",
    "                        sim = sim3[:,:,i]\n",
    "                        sum_k3 = np.zeros(sim.shape[0])\n",
    "                        for k in np.arange(-max_k, max_k+1, 1):\n",
    "                            if k == 0:\n",
    "                                continue\n",
    "                            elif k < 0:\n",
    "                                sum_k3[np.abs(k):] = sum_k3[np.abs(k):] + np.diagonal(sim, offset=k)\n",
    "                            else:\n",
    "                                sum_k3[:-k] = sum_k3[:-k] + np.diagonal(sim, offset=k)   \n",
    "                        map4stab = sum_k3[max_k:-max_k]/(2*max_k)\n",
    "                        \n",
    "                        withinmapstability = np.append(withinmapstability, np.mean(np.concatenate((map1stab,map2stab,map3stab,map4stab))))\n",
    "                                          \n",
    "        else: \n",
    "            \n",
    "            for i, c in enumerate(spatialcells):\n",
    "                #divide sim by context\n",
    "                sim = allsim[:,:,i]\n",
    "                sum_k = np.zeros(sim.shape[0])\n",
    "                for k in np.arange(-max_k, max_k+1, 1):\n",
    "                    if k == 0:\n",
    "                        continue\n",
    "                    elif k < 0:\n",
    "                        sum_k[np.abs(k):] = sum_k[np.abs(k):] + np.diagonal(sim, offset=k)\n",
    "                    else:\n",
    "                        sum_k[:-k] = sum_k[:-k] + np.diagonal(sim, offset=k)\n",
    "                withinmapstability = np.append(withinmapstability, np.mean(sum_k[max_k:-max_k]/(2*max_k)))\n",
    "                \n",
    "        # save out within map stability to relate to position decoding accuracy\n",
    "        within_map_stability_file = 'within_map_stab_' + m + '_' + s + '.npy'\n",
    "        np.save(save_folder + within_map_stability_file, withinmapstability)\n",
    "        \n",
    "        #report out results\n",
    "        slocstab5 = np.append(slocstab5, np.mean(withinmapstability)) #mean over all cells in a sesssion"
   ]
  },
  {
   "cell_type": "code",
   "execution_count": 65,
   "id": "80c63344",
   "metadata": {
    "scrolled": true
   },
   "outputs": [
    {
     "data": {
      "application/vnd.jupyter.widget-view+json": {
       "model_id": "20ae2bb6ead843d382420811db450897",
       "version_major": 2,
       "version_minor": 0
      },
      "text/plain": [
       "  0%|          | 0/6 [00:00<?, ?it/s]"
      ]
     },
     "metadata": {},
     "output_type": "display_data"
    },
    {
     "data": {
      "application/vnd.jupyter.widget-view+json": {
       "model_id": "c2761295ede24b5da9697836e94408b2",
       "version_major": 2,
       "version_minor": 0
      },
      "text/plain": [
       "  0%|          | 0/6 [00:00<?, ?it/s]"
      ]
     },
     "metadata": {},
     "output_type": "display_data"
    },
    {
     "data": {
      "application/vnd.jupyter.widget-view+json": {
       "model_id": "96117ecf2dfc4682809a5b8c455b7a32",
       "version_major": 2,
       "version_minor": 0
      },
      "text/plain": [
       "  0%|          | 0/6 [00:00<?, ?it/s]"
      ]
     },
     "metadata": {},
     "output_type": "display_data"
    },
    {
     "data": {
      "application/vnd.jupyter.widget-view+json": {
       "model_id": "229ac8e92a6347499301810136f795ae",
       "version_major": 2,
       "version_minor": 0
      },
      "text/plain": [
       "  0%|          | 0/6 [00:00<?, ?it/s]"
      ]
     },
     "metadata": {},
     "output_type": "display_data"
    },
    {
     "data": {
      "application/vnd.jupyter.widget-view+json": {
       "model_id": "4f87fe01da374b9bbbe6b0ef7fce88b7",
       "version_major": 2,
       "version_minor": 0
      },
      "text/plain": [
       "  0%|          | 0/6 [00:00<?, ?it/s]"
      ]
     },
     "metadata": {},
     "output_type": "display_data"
    },
    {
     "data": {
      "application/vnd.jupyter.widget-view+json": {
       "model_id": "d0448bf60a2f4555914a40265eb5d25b",
       "version_major": 2,
       "version_minor": 0
      },
      "text/plain": [
       "  0%|          | 0/6 [00:00<?, ?it/s]"
      ]
     },
     "metadata": {},
     "output_type": "display_data"
    },
    {
     "data": {
      "application/vnd.jupyter.widget-view+json": {
       "model_id": "79a530b6d9164fbb84560ced626271ec",
       "version_major": 2,
       "version_minor": 0
      },
      "text/plain": [
       "  0%|          | 0/6 [00:00<?, ?it/s]"
      ]
     },
     "metadata": {},
     "output_type": "display_data"
    },
    {
     "data": {
      "application/vnd.jupyter.widget-view+json": {
       "model_id": "2460b4f1b8214094a2e109f164d2ec29",
       "version_major": 2,
       "version_minor": 0
      },
      "text/plain": [
       "  0%|          | 0/5 [00:00<?, ?it/s]"
      ]
     },
     "metadata": {},
     "output_type": "display_data"
    },
    {
     "data": {
      "application/vnd.jupyter.widget-view+json": {
       "model_id": "c6dcb7fa6ff54203a3c3ef809590ff45",
       "version_major": 2,
       "version_minor": 0
      },
      "text/plain": [
       "  0%|          | 0/3 [00:00<?, ?it/s]"
      ]
     },
     "metadata": {},
     "output_type": "display_data"
    },
    {
     "data": {
      "application/vnd.jupyter.widget-view+json": {
       "model_id": "a5bff0426f80447cad09519b4d74afb7",
       "version_major": 2,
       "version_minor": 0
      },
      "text/plain": [
       "  0%|          | 0/6 [00:00<?, ?it/s]"
      ]
     },
     "metadata": {},
     "output_type": "display_data"
    },
    {
     "data": {
      "application/vnd.jupyter.widget-view+json": {
       "model_id": "6d1f76aaef8949eda44214afd92b39ec",
       "version_major": 2,
       "version_minor": 0
      },
      "text/plain": [
       "  0%|          | 0/6 [00:00<?, ?it/s]"
      ]
     },
     "metadata": {},
     "output_type": "display_data"
    },
    {
     "data": {
      "application/vnd.jupyter.widget-view+json": {
       "model_id": "5faba30767eb4685a5b4f0be1d75bfe1",
       "version_major": 2,
       "version_minor": 0
      },
      "text/plain": [
       "  0%|          | 0/6 [00:00<?, ?it/s]"
      ]
     },
     "metadata": {},
     "output_type": "display_data"
    },
    {
     "data": {
      "application/vnd.jupyter.widget-view+json": {
       "model_id": "236f58e38d784f348ee4fb4a116b6e8f",
       "version_major": 2,
       "version_minor": 0
      },
      "text/plain": [
       "  0%|          | 0/5 [00:00<?, ?it/s]"
      ]
     },
     "metadata": {},
     "output_type": "display_data"
    },
    {
     "data": {
      "application/vnd.jupyter.widget-view+json": {
       "model_id": "a03414106db04fdbbbc6a58d3096d5b9",
       "version_major": 2,
       "version_minor": 0
      },
      "text/plain": [
       "  0%|          | 0/5 [00:00<?, ?it/s]"
      ]
     },
     "metadata": {},
     "output_type": "display_data"
    },
    {
     "data": {
      "application/vnd.jupyter.widget-view+json": {
       "model_id": "3ac58ebdf4d04152a11db367f528605f",
       "version_major": 2,
       "version_minor": 0
      },
      "text/plain": [
       "  0%|          | 0/6 [00:00<?, ?it/s]"
      ]
     },
     "metadata": {},
     "output_type": "display_data"
    },
    {
     "data": {
      "application/vnd.jupyter.widget-view+json": {
       "model_id": "07a5657162624b82b51d312aee7f5d4d",
       "version_major": 2,
       "version_minor": 0
      },
      "text/plain": [
       "  0%|          | 0/2 [00:00<?, ?it/s]"
      ]
     },
     "metadata": {},
     "output_type": "display_data"
    },
    {
     "name": "stderr",
     "output_type": "stream",
     "text": [
      "C:\\Users\\Python\\AppData\\Local\\Temp\\ipykernel_12252\\1826842288.py:47: RuntimeWarning: Mean of empty slice\n",
      "  sshuflocstab5 = np.append(sshuflocstab5, np.nanmean(local_stability5))\n"
     ]
    }
   ],
   "source": [
    "''' Getting Moving Avg Similarity as a Measure of Stability for Shuffle Data '''\n",
    "\n",
    "from scipy.spatial.distance import pdist\n",
    "from scipy.spatial.distance import squareform\n",
    "\n",
    "save_folder = 'C:/Users/Python/Desktop/LocalData/spatialcellsrf/simmatrices/'\n",
    "sim_load_folder = 'C:/Users/Python/Desktop/LocalData/spatialcellsrf/crosstrial/'\n",
    "\n",
    "sshuflocstab5 = []\n",
    "max_k = 5\n",
    "\n",
    "for m, session in zip(mice, sessions):\n",
    "    \n",
    "    for s in tdqm(session):\n",
    "        d = data[m][s]\n",
    "        \n",
    "        #get some data & cell IDs\n",
    "        rawdata_file = 'RAW_' + m + '_' + s + '.npy'\n",
    "        raw = np.load(load_folder + rawdata_file, allow_pickle=True)\n",
    "        cell_IDs = raw.item().get('cellsfil')\n",
    "        spatialcell99 = d['spatialcell99']\n",
    "        spatialcells = cell_IDs[spatialcell99]\n",
    "        \n",
    "        #load the cross trial correlation matrices for all spatial cells      \n",
    "        allshuffsim_file = 'allshuffsim_' + m + '_' + s + '_'+ '.npy'\n",
    "        d['allshuffsim'] = np.load(sim_load_folder + allshuffsim_file)\n",
    "        allshuffsim = d['allshuffsim']\n",
    "        \n",
    "        local_stability5 = []\n",
    "        for i, c in enumerate(spatialcells):\n",
    "            \n",
    "            #divide sim by context\n",
    "            sim = allshuffsim[:,:,i]\n",
    "        \n",
    "            #local neighborhood 5 trials\n",
    "            sum_k = np.zeros(sim.shape[0])\n",
    "            for k in np.arange(-max_k, max_k+1, 1):\n",
    "                if k == 0:\n",
    "                    continue\n",
    "                elif k < 0:\n",
    "                    sum_k[np.abs(k):] = sum_k[np.abs(k):] + np.diagonal(sim, offset=k)\n",
    "                else:\n",
    "                    sum_k[:-k] = sum_k[:-k] + np.diagonal(sim, offset=k)\n",
    "            local_stability5 = np.append(local_stability5, np.mean(sum_k[max_k:-max_k]/(2*max_k)))\n",
    "\n",
    "        #save session results\n",
    "        sshuflocstab5 = np.append(sshuflocstab5, np.nanmean(local_stability5))"
   ]
  },
  {
   "cell_type": "code",
   "execution_count": 68,
   "id": "ae3bf23f",
   "metadata": {},
   "outputs": [
    {
     "data": {
      "image/png": "[encoded data removed]",
      "text/plain": [
       "<Figure size 125x125 with 1 Axes>"
      ]
     },
     "metadata": {},
     "output_type": "display_data"
    }
   ],
   "source": [
    "''' Plot Within Map Stability across Age Groups (Figure 5G) '''\n",
    "\n",
    "labels = ['Young','Aged']\n",
    "w = 0.5\n",
    "\n",
    "fig, ax = plt.subplots(1, 1, figsize=(1.25, 1.25), sharey = True)\n",
    "#fig.suptitle('Spatial Cell Within Map Stability, Pooled by Age Group', fontsize=12)\n",
    "\n",
    "slocstab5_tog = [slocstab5[y_sind99],slocstab5[age_sind99]]\n",
    "ax.boxplot(slocstab5_tog, widths = w, labels = labels, medianprops = dict(color = 'black'))\n",
    "ax.hlines(np.mean(sshuflocstab5[y_sind99]), 0.75, 1.25, color = 'C0', linestyle ='dashed', linewidth = 0.75, label = 'Young Shuffle')\n",
    "ax.hlines(np.mean(sshuflocstab5[age_sind99]), 1.75, 2.25, color = 'C1', linestyle ='dashed', linewidth = 0.75, label = 'Aged Shuffle')\n",
    "#ax.set_title('Session Spatial Cell Within Map Stability k = 5', fontsize=12, pad=5)\n",
    "ax.set_xlabel('Age', fontsize=9, labelpad=1)\n",
    "ax.set_ylabel('Mean Stability', fontsize=9, labelpad=1)\n",
    "\n",
    "for i in range(len(slocstab5_tog)):\n",
    "    y = slocstab5_tog[i]\n",
    "    x = np.random.normal(i + 1, 0.04, len(y))\n",
    "    ax.scatter(x, y, color = col_session99[i], edgecolors = col_session99[i], alpha = 1, s = 10)\n",
    "\n",
    "ax.set_ylim([-0.05,0.3])\n",
    "ax.set_yticks([0,0.1,0.2,0.3])\n",
    "ax.tick_params(labelsize = 8)\n",
    "\n",
    "#ax.legend(ncol = 3, handles = handles, labels = label_mice, loc = 'upper right',bbox_to_anchor=(1.65, 1))\n",
    "#plt.savefig(save_folder + 'age_spatialwithinmapstab_session.png', dpi=400, bbox_inches='tight')\n",
    "#plt.savefig(save_folder + 'age_spatialwithinmapstab_session.svg', dpi=400, bbox_inches='tight')\n",
    "plt.show()"
   ]
  },
  {
   "cell_type": "code",
   "execution_count": 71,
   "id": "414242f2",
   "metadata": {},
   "outputs": [
    {
     "name": "stdout",
     "output_type": "stream",
     "text": [
      "\n",
      "Within Map locstab5 Young vs. Aged RESULTS:\n",
      "locstabyoung ± SEM; locstab_old ± SEM\n",
      "0.1314 ± 0.0087 ; 0.0895 ± 0.0075\n",
      "stat = 3.647796658112309\n",
      "p_session, locstab5 = 0.0002644988343191263\n",
      "\n",
      "Within Map locstab5 Shuffle Young vs. Aged RESULTS:\n",
      "shuflocstabyoung ± SEM; shuflocstab_old ± SEM\n",
      "0.0006 ± 0.0003 ; 0.0007 ± 0.0004\n",
      "stat = -0.6328707455038224\n",
      "p_session, shuff locstab5 = 0.5268180531942035\n",
      "\n",
      "Young Shuffle vs. Real Results:\n",
      "shufflocstab5SC_young ± SEM, locstab5SC_young ± SEM\n",
      "0.0006 ± 0.0003 ; 0.1314 ± 0.0087\n",
      "stat = 0.0\n",
      "p_session, P99 locstab5 = 2.2737367544323206e-13\n",
      "\n",
      "Aged Shuffle vs. Real Results:\n",
      "shufflocstab5SC_old ± SEM, locstab5SC_old ± SEM\n",
      "0.0007 ± 0.0004 ; 0.0895 ± 0.0075\n",
      "stat = 0.0\n",
      "p_session, P99 locstab5 = 4.547473508864641e-13\n"
     ]
    }
   ],
   "source": [
    "''' Statistics on Mean locstab5 '''\n",
    "\n",
    "print('\\nWithin Map locstab5 Young vs. Aged RESULTS:')\n",
    "print('locstabyoung ± SEM; locstab_old ± SEM')\n",
    "print(str(np.round(np.mean(slocstab5[y_sind99]), 4)) + ' ± ' + str(np.round(stats.sem(slocstab5[y_sind99]), 4)) + ' ; ' \n",
    "      + str(np.round(np.mean(slocstab5[age_sind99]), 4)) + ' ± ' + str(np.round(stats.sem(slocstab5[age_sind99]), 4)))\n",
    "\n",
    "stat, p_diff = stats.ranksums(slocstab5[y_sind99],slocstab5[age_sind99])\n",
    "print('stat = ' + str(stat))\n",
    "print('p_session, locstab5 = ' + str(p_diff))\n",
    "\n",
    "print('\\nWithin Map locstab5 Shuffle Young vs. Aged RESULTS:')\n",
    "print('shuflocstabyoung ± SEM; shuflocstab_old ± SEM')\n",
    "print(str(np.round(np.mean(sshuflocstab5[y_sind99]), 4)) + ' ± ' + str(np.round(stats.sem(sshuflocstab5[y_sind99]), 4)) + ' ; ' \n",
    "      + str(np.round(np.mean(sshuflocstab5[age_sind99]), 4)) + ' ± ' + str(np.round(stats.sem(sshuflocstab5[age_sind99]), 4)))\n",
    "\n",
    "stat, p_diff = stats.ranksums(sshuflocstab5[y_sind99],sshuflocstab5[age_sind99])\n",
    "print('stat = ' + str(stat))\n",
    "print('p_session, shuff locstab5 = ' + str(p_diff))\n",
    "\n",
    "print('\\nYoung Shuffle vs. Real Results:')\n",
    "print('shufflocstab5SC_young ± SEM, locstab5SC_young ± SEM')\n",
    "print(str(np.round(np.mean(sshuflocstab5[y_sind99]), 4)) + ' ± ' + str(np.round(stats.sem(sshuflocstab5[y_sind99]), 4)) + ' ; ' \n",
    "      + str(np.round(np.mean(slocstab5[y_sind99]), 4)) + ' ± ' + str(np.round(stats.sem(slocstab5[y_sind99]), 4)))\n",
    "\n",
    "stat, p_diff = stats.wilcoxon(sshuflocstab5[y_sind99],slocstab5[y_sind99])\n",
    "print('stat = ' + str(stat))\n",
    "print('p_session, P99 locstab5 = ' + str(p_diff))\n",
    "\n",
    "print('\\nAged Shuffle vs. Real Results:')\n",
    "print('shufflocstab5SC_old ± SEM, locstab5SC_old ± SEM')\n",
    "print(str(np.round(np.mean(sshuflocstab5[age_sind99]), 4)) + ' ± ' + str(np.round(stats.sem(sshuflocstab5[age_sind99]), 4)) + ' ; ' \n",
    "      + str(np.round(np.mean(slocstab5[age_sind99]), 4)) + ' ± ' + str(np.round(stats.sem(slocstab5[age_sind99]), 4)))\n",
    "\n",
    "stat, p_diff = stats.wilcoxon(sshuflocstab5[age_sind99],slocstab5[age_sind99])\n",
    "print('stat = ' + str(stat))\n",
    "print('p_session, P99 locstab5 = ' + str(p_diff))"
   ]
  },
  {
   "cell_type": "markdown",
   "id": "f7a7c403",
   "metadata": {},
   "source": [
    "# Compare position decoding accuracy from young vs. aged spatial network activity (Figure 5H - J)"
   ]
  },
  {
   "cell_type": "code",
   "execution_count": null,
   "id": "dd524d38",
   "metadata": {},
   "outputs": [],
   "source": []
  }
 ],
 "metadata": {
  "kernelspec": {
   "display_name": "Python 3 (ipykernel)",
   "language": "python",
   "name": "python3"
  },
  "language_info": {
   "codemirror_mode": {
    "name": "ipython",
    "version": 3
   },
   "file_extension": ".py",
   "mimetype": "text/x-python",
   "name": "python",
   "nbconvert_exporter": "python",
   "pygments_lexer": "ipython3",
   "version": "3.8.16"
  }
 },
 "nbformat": 4,
 "nbformat_minor": 5
}
