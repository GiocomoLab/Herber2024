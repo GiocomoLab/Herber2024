{
 "cells": [
  {
   "cell_type": "markdown",
   "id": "c0f48fe9",
   "metadata": {},
   "source": [
    "# Setup for Figure S5A (right), B (right), D, G-H, I, J (Split Maze)\n",
    "\n",
    "Note exact results for K-Means and decoder based analyses will change slightly each time. As a result, exact statistics here may not match the manuscript text but should recapitulate results."
   ]
  },
  {
   "cell_type": "code",
   "execution_count": 1,
   "id": "b9640e26",
   "metadata": {},
   "outputs": [],
   "source": [
    "''' magic 4u'''\n",
    "%load_ext autoreload\n",
    "%autoreload 2"
   ]
  },
  {
   "cell_type": "code",
   "execution_count": 2,
   "id": "a77b41b4",
   "metadata": {},
   "outputs": [],
   "source": [
    "'''Get Stuff You Need'''\n",
    "import numpy as np\n",
    "import math as math\n",
    "from tqdm import tnrange\n",
    "from tqdm.notebook import tqdm as tdqm\n",
    "import matplotlib.pyplot as plt\n",
    "import matplotlib as mpl\n",
    "mpl.rcParams.update(mpl.rcParamsDefault)\n",
    "from matplotlib import gridspec\n",
    "from scipy.interpolate import interp1d\n",
    "from scipy.ndimage import gaussian_filter1d\n",
    "from scipy import stats\n",
    "import scipy.io\n",
    "import scipy.ndimage.filters as filt\n",
    "import pandas as pd\n",
    "import seaborn as sns\n",
    "\n",
    "from pipeline import get_data as get\n",
    "from pipeline import process_spikes as ps\n",
    "\n",
    "from statsmodels.tsa.stattools import acf\n",
    "from scipy.signal import find_peaks\n",
    "from itertools import combinations\n",
    "\n",
    "from matplotlib import rc \n",
    "mpl.rcParams['font.sans-serif'] = 'Arial'\n",
    "mpl.rcParams['font.family'] = 'sans-serif'\n",
    "mpl.rcParams['svg.fonttype'] = 'none'"
   ]
  },
  {
   "cell_type": "code",
   "execution_count": 3,
   "id": "9818920f",
   "metadata": {},
   "outputs": [],
   "source": [
    "''' Define some functions for later '''\n",
    "def count_consec(lst):\n",
    "    consec = [1]\n",
    "    for x, y in zip(lst, lst[1:]):\n",
    "        if x == y - 1:\n",
    "            consec[-1] += 1\n",
    "        else:\n",
    "            consec.append(1)\n",
    "    return consec\n",
    "\n",
    "def tuning_curve_bytrial(x, trial, Y, dt, b, sigma, smooth=True, normalize=False, occupancy=True):\n",
    "    '''\n",
    "    Params\n",
    "    ------\n",
    "    x : ndarray\n",
    "        variable of interest by observation; shape (n_obs, )\n",
    "    trial : ndarray\n",
    "        trial num for each observation; shape (n_obs, )\n",
    "    Y : ndarray\n",
    "        spikes per observation; shape (n_obs, n_cells)\n",
    "    dt : int\n",
    "        time per observation in seconds\n",
    "    b : int\n",
    "        bin size\n",
    "    sigma : int\n",
    "        SD of Gaussian filter\n",
    "    smooth : bool\n",
    "        apply gaussian filter to firing rate; optional, default is True\n",
    "    normalize : bool\n",
    "        normalize the firing rate of each cell such that its max FR is 1, min is 0;\n",
    "        optional, default is False\n",
    "    occupancy : bool\n",
    "        return occupancy (dwell time in each bin); optional, default is True\n",
    "\n",
    "    Returns\n",
    "    -------\n",
    "    firing_rate : ndarray\n",
    "        binned firing rate for each trial for each cell; shape (n_trials, n_bins, n_cells)\n",
    "    centers : ndarray\n",
    "        center of each bin\n",
    "    occ : ndarray\n",
    "       dwell time in each bin; shape (n_bins, n_cells)\n",
    "    '''\n",
    "    edges = np.arange(0, np.max(x) + b, b)\n",
    "    centers = (edges[:-1] + edges[1:])/2\n",
    "    b_idx = np.digitize(x, edges)\n",
    "    if np.max(x) == edges[-1]:\n",
    "        b_idx[b_idx==np.max(b_idx)] = np.max(b_idx) - 1\n",
    "    unique_bdx = np.unique(b_idx)\n",
    "\n",
    "    # find FR in each bin\n",
    "    firing_rate = np.zeros((np.unique(trial).shape[0], unique_bdx.shape[0], Y.shape[1]))\n",
    "    occ = np.zeros((np.unique(trial).shape[0], unique_bdx.shape[0], Y.shape[1]))\n",
    "    for j in range(unique_bdx.shape[0]):\n",
    "        idx1 = (b_idx == unique_bdx[j])\n",
    "        for i, t in enumerate(np.unique(trial)):\n",
    "            idx = idx1 & (trial == t)\n",
    "            if np.sum(idx)==0:\n",
    "                #print('warning: zero occupancy!')\n",
    "                firing_rate[i, j, :] = firing_rate[i, j-1, :]\n",
    "                occ[i, j, :] = 0\n",
    "            else:    \n",
    "                spike_ct = np.sum(Y[idx, :], axis=0)\n",
    "                occupancy = dt * np.sum(idx)\n",
    "                occ[i, j, :] = occupancy\n",
    "                firing_rate[i, j, :] = spike_ct / occupancy\n",
    "    if smooth:\n",
    "        firing_rate = gaussian_filter1d(firing_rate, sigma, axis=1, mode='wrap')\n",
    "\n",
    "    if normalize:\n",
    "        for c in range(firing_rate.shape[2]):\n",
    "            firing_rate[:, :, c] = (firing_rate[:, :, c] - np.min(firing_rate[:, :, c]))/np.max(firing_rate[:, :, c] - np.min(firing_rate[:, :, c]))\n",
    "    \n",
    "    if occupancy:\n",
    "        return firing_rate, centers, occ\n",
    "    else: \n",
    "        return firing_rate, centers\n",
    "    \n",
    "def find8adjacentElements(test_list):\n",
    "    ''' \n",
    "    Params\n",
    "    ------\n",
    "    test_list : ndarray\n",
    "        1d array to be sorted\n",
    "    \n",
    "    Returns\n",
    "    -------\n",
    "    neighbors : list\n",
    "        nested list where each element is a list of 8 adjacent elements to the element with the same \n",
    "        index in test_list, adjusting for the first and last four elements and not including \n",
    "    '''\n",
    "    \n",
    "    neighbors = []\n",
    "    for idx, ele in enumerate(test_list):\n",
    "    # Checking for all cases to append\n",
    "        if idx == 0:\n",
    "            neighbors.append(test_list[(idx+1):(idx + 9)])\n",
    "        elif idx == 1:\n",
    "            neighbors.append(np.concatenate((test_list[(idx - 1)],test_list[(idx+1):(idx + 8)]),axis=None))\n",
    "        elif idx == 2:\n",
    "            neighbors.append(np.concatenate((test_list[:idx],test_list[(idx+1):(idx + 7)]),axis=None))\n",
    "        elif idx == 3:\n",
    "            neighbors.append(np.concatenate((test_list[:idx],test_list[(idx+1):(idx + 6)]),axis=None))\n",
    "        elif idx == len(test_list) - 1:\n",
    "            neighbors.append(np.concatenate((test_list[(idx-8):idx]),axis=None))                     \n",
    "        elif idx == len(test_list) - 2:\n",
    "            neighbors.append(np.concatenate((test_list[(idx-7):idx],test_list[(idx + 1):]),axis=None))\n",
    "        elif idx == len(test_list) - 3:\n",
    "            neighbors.append(np.concatenate((test_list[(idx-6):idx],test_list[(idx + 1):]),axis=None))\n",
    "        elif idx == len(test_list) - 4:\n",
    "            neighbors.append(np.concatenate((test_list[(idx-5):idx],test_list[(idx + 1):]),axis = None))\n",
    "        else:\n",
    "            neighbors.append(np.concatenate((test_list[(idx - 4):idx],test_list[(idx+1):(idx + 5)]),axis=None))\n",
    "    return neighbors \n",
    "\n",
    "def find(x):\n",
    "    return x.nonzero()[0]\n",
    "\n",
    "def circ_autocorr(x):\n",
    "    Fx = np.fft.fft(x)\n",
    "    Fxp = np.conj(np.fft.fft(x))\n",
    "    return np.roll(np.fft.ifft(Fx * Fxp).real, x.size // 2)\n",
    "\n",
    "def ar1_acf(nt, phi, sigma2):\n",
    "    \"\"\"\n",
    "    Computes the theoretical autocorrelation function for an AR(1) model.\n",
    "    This serves as our null distribution for computing significance\n",
    "    \n",
    "    Params:\n",
    "    -------\n",
    "    nt : number of timesteps\n",
    "    phi : autoregressive coefficient\n",
    "    sigma2 : variance of gaussian noise\n",
    "    \"\"\"\n",
    "    return (phi ** np.arange(nt)) * sigma2 / (1 - phi ** 2)\n",
    "\n",
    "def autocorr(x,lags):\n",
    "    '''numpy.correlate'''\n",
    "    mean=x.mean()\n",
    "    var=np.var(x)\n",
    "    xp=x-mean\n",
    "    corr=np.correlate(xp,xp,'full')[len(x)-1:]/var/len(x)\n",
    "\n",
    "    return corr[:len(lags)]"
   ]
  },
  {
   "cell_type": "code",
   "execution_count": 4,
   "id": "35adb179",
   "metadata": {},
   "outputs": [
    {
     "data": {
      "text/html": [
       "<div>\n",
       "<style scoped>\n",
       "    .dataframe tbody tr th:only-of-type {\n",
       "        vertical-align: middle;\n",
       "    }\n",
       "\n",
       "    .dataframe tbody tr th {\n",
       "        vertical-align: top;\n",
       "    }\n",
       "\n",
       "    .dataframe thead th {\n",
       "        text-align: right;\n",
       "    }\n",
       "</style>\n",
       "<table border=\"1\" class=\"dataframe\">\n",
       "  <thead>\n",
       "    <tr style=\"text-align: right;\">\n",
       "      <th></th>\n",
       "      <th>Animal_ID</th>\n",
       "      <th>Task</th>\n",
       "      <th>Cohort</th>\n",
       "      <th>Probe_Control</th>\n",
       "      <th>Sex</th>\n",
       "      <th>Sac_Date</th>\n",
       "      <th>Frozen_Hemisphere</th>\n",
       "      <th>DOB</th>\n",
       "      <th>Age_WholeMonth</th>\n",
       "      <th>Age_ExtraDays</th>\n",
       "      <th>...</th>\n",
       "      <th>Aged_Days</th>\n",
       "      <th>Age_Group</th>\n",
       "      <th>Behavior_Sessions</th>\n",
       "      <th>Neural_Sessions</th>\n",
       "      <th>Total_Cells</th>\n",
       "      <th>visualacuity</th>\n",
       "      <th>perchangespeedgain</th>\n",
       "      <th>perchangekurt</th>\n",
       "      <th>perchangeskew</th>\n",
       "      <th>perchangeIQR</th>\n",
       "    </tr>\n",
       "  </thead>\n",
       "  <tbody>\n",
       "    <tr>\n",
       "      <th>0</th>\n",
       "      <td>A3</td>\n",
       "      <td>RF</td>\n",
       "      <td>A</td>\n",
       "      <td>0</td>\n",
       "      <td>F</td>\n",
       "      <td>1/27/2021</td>\n",
       "      <td>R</td>\n",
       "      <td>4/23/2019</td>\n",
       "      <td>21</td>\n",
       "      <td>4</td>\n",
       "      <td>...</td>\n",
       "      <td>645</td>\n",
       "      <td>3</td>\n",
       "      <td>6</td>\n",
       "      <td>6</td>\n",
       "      <td>1540.0</td>\n",
       "      <td>NaN</td>\n",
       "      <td>17.367862</td>\n",
       "      <td>NaN</td>\n",
       "      <td>NaN</td>\n",
       "      <td>NaN</td>\n",
       "    </tr>\n",
       "    <tr>\n",
       "      <th>1</th>\n",
       "      <td>A4</td>\n",
       "      <td>RF</td>\n",
       "      <td>A</td>\n",
       "      <td>0</td>\n",
       "      <td>F</td>\n",
       "      <td>1/27/2021</td>\n",
       "      <td>R</td>\n",
       "      <td>4/23/2019</td>\n",
       "      <td>21</td>\n",
       "      <td>4</td>\n",
       "      <td>...</td>\n",
       "      <td>645</td>\n",
       "      <td>3</td>\n",
       "      <td>6</td>\n",
       "      <td>6</td>\n",
       "      <td>1574.0</td>\n",
       "      <td>NaN</td>\n",
       "      <td>22.050636</td>\n",
       "      <td>NaN</td>\n",
       "      <td>NaN</td>\n",
       "      <td>NaN</td>\n",
       "    </tr>\n",
       "    <tr>\n",
       "      <th>2</th>\n",
       "      <td>A5</td>\n",
       "      <td>RF</td>\n",
       "      <td>A</td>\n",
       "      <td>0</td>\n",
       "      <td>F</td>\n",
       "      <td>4/6/2021</td>\n",
       "      <td>L</td>\n",
       "      <td>4/23/2019</td>\n",
       "      <td>23</td>\n",
       "      <td>14</td>\n",
       "      <td>...</td>\n",
       "      <td>714</td>\n",
       "      <td>3</td>\n",
       "      <td>6</td>\n",
       "      <td>6</td>\n",
       "      <td>1002.0</td>\n",
       "      <td>NaN</td>\n",
       "      <td>21.328531</td>\n",
       "      <td>NaN</td>\n",
       "      <td>NaN</td>\n",
       "      <td>NaN</td>\n",
       "    </tr>\n",
       "    <tr>\n",
       "      <th>3</th>\n",
       "      <td>A6</td>\n",
       "      <td>RF</td>\n",
       "      <td>A</td>\n",
       "      <td>0</td>\n",
       "      <td>F</td>\n",
       "      <td>4/6/2021</td>\n",
       "      <td>R</td>\n",
       "      <td>4/23/2019</td>\n",
       "      <td>23</td>\n",
       "      <td>14</td>\n",
       "      <td>...</td>\n",
       "      <td>714</td>\n",
       "      <td>3</td>\n",
       "      <td>6</td>\n",
       "      <td>6</td>\n",
       "      <td>985.0</td>\n",
       "      <td>NaN</td>\n",
       "      <td>15.687094</td>\n",
       "      <td>NaN</td>\n",
       "      <td>NaN</td>\n",
       "      <td>NaN</td>\n",
       "    </tr>\n",
       "    <tr>\n",
       "      <th>4</th>\n",
       "      <td>A7</td>\n",
       "      <td>RF</td>\n",
       "      <td>A</td>\n",
       "      <td>0</td>\n",
       "      <td>F</td>\n",
       "      <td>4/19/2021</td>\n",
       "      <td>L</td>\n",
       "      <td>5/29/2019</td>\n",
       "      <td>22</td>\n",
       "      <td>21</td>\n",
       "      <td>...</td>\n",
       "      <td>691</td>\n",
       "      <td>3</td>\n",
       "      <td>6</td>\n",
       "      <td>6</td>\n",
       "      <td>1691.0</td>\n",
       "      <td>NaN</td>\n",
       "      <td>52.102357</td>\n",
       "      <td>NaN</td>\n",
       "      <td>NaN</td>\n",
       "      <td>NaN</td>\n",
       "    </tr>\n",
       "  </tbody>\n",
       "</table>\n",
       "<p>5 rows × 21 columns</p>\n",
       "</div>"
      ],
      "text/plain": [
       "  Animal_ID Task Cohort  Probe_Control Sex   Sac_Date Frozen_Hemisphere  \\\n",
       "0        A3   RF      A              0   F  1/27/2021                 R   \n",
       "1        A4   RF      A              0   F  1/27/2021                 R   \n",
       "2        A5   RF      A              0   F   4/6/2021                 L   \n",
       "3        A6   RF      A              0   F   4/6/2021                 R   \n",
       "4        A7   RF      A              0   F  4/19/2021                 L   \n",
       "\n",
       "         DOB  Age_WholeMonth  Age_ExtraDays  ...  Aged_Days  Age_Group  \\\n",
       "0  4/23/2019              21              4  ...        645          3   \n",
       "1  4/23/2019              21              4  ...        645          3   \n",
       "2  4/23/2019              23             14  ...        714          3   \n",
       "3  4/23/2019              23             14  ...        714          3   \n",
       "4  5/29/2019              22             21  ...        691          3   \n",
       "\n",
       "   Behavior_Sessions  Neural_Sessions  Total_Cells  visualacuity  \\\n",
       "0                  6                6       1540.0           NaN   \n",
       "1                  6                6       1574.0           NaN   \n",
       "2                  6                6       1002.0           NaN   \n",
       "3                  6                6        985.0           NaN   \n",
       "4                  6                6       1691.0           NaN   \n",
       "\n",
       "   perchangespeedgain  perchangekurt  perchangeskew  perchangeIQR  \n",
       "0           17.367862            NaN            NaN           NaN  \n",
       "1           22.050636            NaN            NaN           NaN  \n",
       "2           21.328531            NaN            NaN           NaN  \n",
       "3           15.687094            NaN            NaN           NaN  \n",
       "4           52.102357            NaN            NaN           NaN  \n",
       "\n",
       "[5 rows x 21 columns]"
      ]
     },
     "execution_count": 4,
     "metadata": {},
     "output_type": "execute_result"
    }
   ],
   "source": [
    "''' Load Animal Metadata '''\n",
    "\n",
    "animalmeta = pd.read_csv('C:/Users/Python/Desktop/LocalData/animalmeta.csv')\n",
    "animalmeta.head()"
   ]
  },
  {
   "cell_type": "code",
   "execution_count": 5,
   "id": "ab8c2cbd",
   "metadata": {},
   "outputs": [],
   "source": [
    "'''Find names of specific animals groups'''\n",
    "all_aged_mice = np.array(animalmeta.loc[(animalmeta.Age_Group == 3),'Animal_ID'])\n",
    "all_MA_mice = np.array(animalmeta.loc[(animalmeta.Age_Group == 2),'Animal_ID'])\n",
    "all_young_mice = np.array(animalmeta.loc[(animalmeta.Age_Group == 1),'Animal_ID'])\n",
    "\n",
    "cohorta_mice = np.array(animalmeta.loc[(animalmeta.Cohort == 'A'),'Animal_ID'])\n",
    "cohortb_mice = np.array(animalmeta.loc[(animalmeta.Cohort == 'B'),'Animal_ID'])\n",
    "cohortc_mice = np.array(animalmeta.loc[(animalmeta.Cohort == 'C'),'Animal_ID'])\n",
    "cohortd_mice = np.array(animalmeta.loc[(animalmeta.Cohort == 'D'),'Animal_ID'])\n",
    "\n",
    "RF_aged_mice = np.array(animalmeta.loc[(animalmeta.Age_Group == 3) & (animalmeta.Task == 'RF'),'Animal_ID'])\n",
    "RF_young_mice = np.array(animalmeta.loc[(animalmeta.Age_Group == 1) & (animalmeta.Task == 'RF'),'Animal_ID'])\n",
    "SM_aged_mice = np.array(animalmeta.loc[(animalmeta.Age_Group == 3) & (animalmeta.Task == 'SM'),'Animal_ID'])\n",
    "SM_MA_mice = np.array(animalmeta.loc[(animalmeta.Age_Group == 2) & (animalmeta.Task == 'SM'),'Animal_ID'])\n",
    "SM_young_mice = np.array(animalmeta.loc[(animalmeta.Age_Group == 1) & (animalmeta.Task == 'SM'),'Animal_ID'])\n",
    "\n",
    "all_female_mice = np.array(animalmeta.loc[(animalmeta.Sex == 'F'),'Animal_ID'])\n",
    "all_male_mice = np.array(animalmeta.loc[(animalmeta.Sex == 'M'), 'Animal_ID'])\n",
    "RF_female_mice = np.array(animalmeta.loc[(animalmeta.Sex == 'F') & (animalmeta.Task == 'RF'),'Animal_ID'])\n",
    "RF_male_mice = np.array(animalmeta.loc[(animalmeta.Sex == 'M') & (animalmeta.Task == 'RF'),'Animal_ID'])\n",
    "SM_female_mice = np.array(animalmeta.loc[(animalmeta.Sex == 'F') & (animalmeta.Task == 'SM'),'Animal_ID'])\n",
    "SM_male_mice = np.array(animalmeta.loc[(animalmeta.Sex == 'M') & (animalmeta.Task == 'SM'),'Animal_ID'])"
   ]
  },
  {
   "cell_type": "code",
   "execution_count": 6,
   "id": "11b3f0cb",
   "metadata": {},
   "outputs": [],
   "source": [
    "''' Complete List of Mice & Sessions for Neural Data '''\n",
    "all_mice = np.array(animalmeta.Animal_ID)\n",
    "\n",
    "all_sessions = ([['0122_record1','0123_record2','0124_record3','0125_record4','0126_record5','0127_record6'], \n",
    "             ['0122_record1','0123_record2','0124_record3','0125_record4','0126_record5','0127_record6'],\n",
    "             ['0401_record1','0401_record2b','0403_record3','0404_record4','0405_record5','0406_record6'],\n",
    "             ['0401_record1','0402_record2','0403_record3','0404_record4','0405_record5','0406_record6'],\n",
    "             ['0414_record1','0415_record2','0416_record3','0417_record4','0418_record5','0419_record6'],\n",
    "             ['1024_record1','1025_record2','1026_record3','1027_record4','1028_record5_2'], #Y2_6 excluded\n",
    "             ['1016_record1','1019_record3','1020_record4','1021_record5','1022_record6'], #Y3_2 not collected\n",
    "             ['1114_record1','1115_record2','1116_record3','1117_record4','1118_record5','1119_record6'], # end cohort A\n",
    "             ['051822_record1','051922_record2', '052022_record3','052122_record4','052222_record5','052322_record6'], \n",
    "             ['050522_record1','050622_record2','050722_record3','050822_record4','050922_record5','051022_record6'],\n",
    "             ['050522_record1','050622_record2','050722_record3','050822_record4','051022_record6'], #Y11_5 not collected\n",
    "             ['062222_record3','062322_record4','062522_record5'], #Y16_1 & 2 not collected, neural _6 excluded\n",
    "             ['062822_record1','062922_record2','063022_record3','070122_record4','070222_record5','070322_record6'],\n",
    "             ['062022_record1','062122_record2','062222_record3','062322_record4','062522_record5','062622_record6'],\n",
    "             ['062822_record1','062922_record2','063022_record3','070122_record4','070222_record5','070322_record6'], \n",
    "             ['051922_record2','052022_record3'], # Y9 051822_record excluded for syncing issue, end cohort B\n",
    "             ['083022_record1','083122_record2','090122_record3'], \n",
    "             ['083022_record1','083122_record2','090122_record3','090222_record4','090322_record5','090422_record6'],\n",
    "             ['083022_record1','083122_record2','090122_record3','090222_record4'], #behavior of A16_4, both of 5 excluded, 6 not collected \n",
    "             ['082322_record1','082422_record2','082522_record3','082622_record4','082722_record5','082822_record6'],\n",
    "             ['082322_record1real','082422_record2','082522_record3','082622_record4','082722_record5','082822_record6'],\n",
    "             ['102322_record1','102422_record2','102522_record3','102622_record4','102722_record5','102822_record6'],\n",
    "             ['102322_record1','102422_record2','102522_record3','102622_record4','102722_record5','102822_record6'],\n",
    "             ['102322_record1','102422_record2','102522_record3','102622_record4','102722_record5','102822_record6'],\n",
    "             ['103122_record2','110122_record3','110222_record4','110322_record5rep','110422_record6','110522_record7'], #behavior of MA4M6, 7 excluded\n",
    "             ['110622_record1','110722_record2','110822_record3','110922_record4','111022_record5','111122_record6'],\n",
    "             ['103022_record1','103122_record2','110122_record3','110222_record4','110322_record5','110422_record6'],\n",
    "             ['103022_record1','103122_record2','110122_record3','110222_record4'], #behavior of MA7_4, both 5 excluded, 6 not collected\n",
    "             ['111322_record1','111422_record2','111522_record3','111622_record4','111722_record5','111822_record6'],\n",
    "             ['111322_record1','111422_record2','111522_record3','111622_record4','111722_record5','111822_record6'],\n",
    "             ['111322_record1','111422_record2','111522_record3','111622_record4','111722_record5','111822_record6'], \n",
    "             ['092522_record1','092622_record2','092722_record3','092822_record4','092922_record5','093022_record6'],\n",
    "             ['091822_record1','091922_record2','092022_record3','092122_record4','092222_record5','092322_record6'],\n",
    "             ['092522_record1','092622_record2','092722_record3','092822_record4','092922_record5','093022_record6'],\n",
    "             ['092522_record1','092622_record2','092722_record3','092822_record4','092922_record5','093022_record6'],\n",
    "             ['091822_record1','091922_record2','092022_record3','092122_record4','092222_record5','092322_record6'], #end cohortc\n",
    "             ['012723_record2','012823_record3','012923_record4','013023_record5','013123_record6','020123_record7'],\n",
    "             ['012623_record1','012723_record2','012823_record3','012923_record4','013023_record5','013123_record6'],\n",
    "             ['012923_record2','013023_record3','013123_record4','020123_record5','020223_record6','020323_record7'],\n",
    "             ['020923_record1','021023_record2','021123_record3','021223_record4','021323_record5','021423_record6'],\n",
    "             ['022623_record1','022723_record2','022823_record3','030123_record4','030223_record5','030323_record6'],\n",
    "             ['021623_record1','021723_record2','021823_record3','021923_record4','022023_record5','022123_record6'],\n",
    "             ['021623_record1','021723_record2','021823_record3','021923_record4','022023_record5','022123_record6'],\n",
    "             ['021623_record1','021723_record2','021823_record3','021923_record4','022023_record5rep','022123_record6'],\n",
    "             ['022623_record1','022723_record2','022823_record3','030123_record4','030223_record5','030323_record6'] #end cohort d \n",
    "            ]) #list of sessions"
   ]
  },
  {
   "cell_type": "code",
   "execution_count": 7,
   "id": "bbebe1c0",
   "metadata": {},
   "outputs": [],
   "source": [
    "'''Define which mice & sessions to load based on metadata'''\n",
    "# Define mice, sessions for particular cohorts\n",
    "mice , mice_ind, _  = np.intersect1d(all_mice, np.union1d(cohortc_mice, cohortd_mice), return_indices = True) # SM mice\n",
    "\n",
    "sessions = []\n",
    "for i in mice_ind:\n",
    "    sessions.append(all_sessions[i])\n",
    "\n",
    "# Make a dict to hold data\n",
    "data = {}\n",
    "\n",
    "for session, m in zip(sessions, mice):\n",
    "    data[m] = {}\n",
    "    \n",
    "    for s in session:\n",
    "        data[m][s] = {}"
   ]
  },
  {
   "cell_type": "code",
   "execution_count": 8,
   "id": "b5d26dc7",
   "metadata": {
    "scrolled": true
   },
   "outputs": [
    {
     "data": {
      "application/vnd.jupyter.widget-view+json": {
       "model_id": "9d5a4f48e9c44b84a917b8adbc3e1647",
       "version_major": 2,
       "version_minor": 0
      },
      "text/plain": [
       "  0%|          | 0/3 [00:00<?, ?it/s]"
      ]
     },
     "metadata": {},
     "output_type": "display_data"
    },
    {
     "name": "stdout",
     "output_type": "stream",
     "text": [
      "Skipped trials, n skipped = 3[ 6  7 83]\n",
      "Skipped trials, n skipped = 11[ 39  40  41  74  75  76  77  78 108 127 180]\n",
      "Skipped trials, n skipped = 1[160]\n"
     ]
    },
    {
     "data": {
      "application/vnd.jupyter.widget-view+json": {
       "model_id": "7641b641f1c3434999e47ee14b974ba8",
       "version_major": 2,
       "version_minor": 0
      },
      "text/plain": [
       "  0%|          | 0/6 [00:00<?, ?it/s]"
      ]
     },
     "metadata": {},
     "output_type": "display_data"
    },
    {
     "name": "stdout",
     "output_type": "stream",
     "text": [
      "Skipped trials, n skipped = 1[168]\n",
      "Skipped trials, n skipped = 1[130]\n",
      "Skipped trials, n skipped = 2[ 29 144]\n",
      "Skipped trials, n skipped = 4[161 164 165 166]\n"
     ]
    },
    {
     "data": {
      "application/vnd.jupyter.widget-view+json": {
       "model_id": "8e0419a554044ddd828cda8f26518476",
       "version_major": 2,
       "version_minor": 0
      },
      "text/plain": [
       "  0%|          | 0/4 [00:00<?, ?it/s]"
      ]
     },
     "metadata": {},
     "output_type": "display_data"
    },
    {
     "name": "stdout",
     "output_type": "stream",
     "text": [
      "Skipped trials, n skipped = 15[100 101 102 110 111 112 113 114 115 116 117 118 119 172 181]\n",
      "Skipped trials, n skipped = 4[141 188 189 190]\n",
      "Skipped trials, n skipped = 11[ 82 109 110 130 149 150 157 169 170 178 179]\n"
     ]
    },
    {
     "data": {
      "application/vnd.jupyter.widget-view+json": {
       "model_id": "ce0d36363fbf4b6ebaad4a856861591b",
       "version_major": 2,
       "version_minor": 0
      },
      "text/plain": [
       "  0%|          | 0/6 [00:00<?, ?it/s]"
      ]
     },
     "metadata": {},
     "output_type": "display_data"
    },
    {
     "name": "stdout",
     "output_type": "stream",
     "text": [
      "Skipped trials, n skipped = 1[167]\n",
      "Skipped trials, n skipped = 9[185 186 187 188 189 190 191 192 193]\n",
      "Skipped trials, n skipped = 5[108 109 110 111 208]\n"
     ]
    },
    {
     "data": {
      "application/vnd.jupyter.widget-view+json": {
       "model_id": "5c7c860964db4a6fb69719d56d1da4f1",
       "version_major": 2,
       "version_minor": 0
      },
      "text/plain": [
       "  0%|          | 0/6 [00:00<?, ?it/s]"
      ]
     },
     "metadata": {},
     "output_type": "display_data"
    },
    {
     "name": "stdout",
     "output_type": "stream",
     "text": [
      "Skipped trials, n skipped = 4[  5  87  88 100]\n",
      "Skipped trials, n skipped = 1[132]\n",
      "Skipped trials, n skipped = 4[177 178 179 180]\n"
     ]
    },
    {
     "data": {
      "application/vnd.jupyter.widget-view+json": {
       "model_id": "6f63675d199746569932bdef9a72733b",
       "version_major": 2,
       "version_minor": 0
      },
      "text/plain": [
       "  0%|          | 0/6 [00:00<?, ?it/s]"
      ]
     },
     "metadata": {},
     "output_type": "display_data"
    },
    {
     "data": {
      "application/vnd.jupyter.widget-view+json": {
       "model_id": "abc5963b46254488ac86c8b41f757566",
       "version_major": 2,
       "version_minor": 0
      },
      "text/plain": [
       "  0%|          | 0/6 [00:00<?, ?it/s]"
      ]
     },
     "metadata": {},
     "output_type": "display_data"
    },
    {
     "name": "stdout",
     "output_type": "stream",
     "text": [
      "A20013123_record6 did not reach gain change\n"
     ]
    },
    {
     "data": {
      "application/vnd.jupyter.widget-view+json": {
       "model_id": "26e00d9cd68242aca01bb36f55164957",
       "version_major": 2,
       "version_minor": 0
      },
      "text/plain": [
       "  0%|          | 0/6 [00:00<?, ?it/s]"
      ]
     },
     "metadata": {},
     "output_type": "display_data"
    },
    {
     "data": {
      "application/vnd.jupyter.widget-view+json": {
       "model_id": "7397eb4215bb40e797efb58a14c348e0",
       "version_major": 2,
       "version_minor": 0
      },
      "text/plain": [
       "  0%|          | 0/6 [00:00<?, ?it/s]"
      ]
     },
     "metadata": {},
     "output_type": "display_data"
    },
    {
     "data": {
      "application/vnd.jupyter.widget-view+json": {
       "model_id": "ef0d392a02ec41219da9449f78a2942c",
       "version_major": 2,
       "version_minor": 0
      },
      "text/plain": [
       "  0%|          | 0/6 [00:00<?, ?it/s]"
      ]
     },
     "metadata": {},
     "output_type": "display_data"
    },
    {
     "data": {
      "application/vnd.jupyter.widget-view+json": {
       "model_id": "2bb34cbe897c43c198de2497a058ca47",
       "version_major": 2,
       "version_minor": 0
      },
      "text/plain": [
       "  0%|          | 0/6 [00:00<?, ?it/s]"
      ]
     },
     "metadata": {},
     "output_type": "display_data"
    },
    {
     "data": {
      "application/vnd.jupyter.widget-view+json": {
       "model_id": "297792c8a98c4e618c831b2eda4de529",
       "version_major": 2,
       "version_minor": 0
      },
      "text/plain": [
       "  0%|          | 0/6 [00:00<?, ?it/s]"
      ]
     },
     "metadata": {},
     "output_type": "display_data"
    },
    {
     "data": {
      "application/vnd.jupyter.widget-view+json": {
       "model_id": "16c5ffce0a1c428b88c2567d5d3af986",
       "version_major": 2,
       "version_minor": 0
      },
      "text/plain": [
       "  0%|          | 0/6 [00:00<?, ?it/s]"
      ]
     },
     "metadata": {},
     "output_type": "display_data"
    },
    {
     "data": {
      "application/vnd.jupyter.widget-view+json": {
       "model_id": "da01bc7d6e674faeaa1824458b81f885",
       "version_major": 2,
       "version_minor": 0
      },
      "text/plain": [
       "  0%|          | 0/6 [00:00<?, ?it/s]"
      ]
     },
     "metadata": {},
     "output_type": "display_data"
    },
    {
     "data": {
      "application/vnd.jupyter.widget-view+json": {
       "model_id": "da67e6676a8a43989e5fe3abd0b35e2d",
       "version_major": 2,
       "version_minor": 0
      },
      "text/plain": [
       "  0%|          | 0/6 [00:00<?, ?it/s]"
      ]
     },
     "metadata": {},
     "output_type": "display_data"
    },
    {
     "data": {
      "application/vnd.jupyter.widget-view+json": {
       "model_id": "63aef1b7686744c0b3b33d03ac71b07f",
       "version_major": 2,
       "version_minor": 0
      },
      "text/plain": [
       "  0%|          | 0/6 [00:00<?, ?it/s]"
      ]
     },
     "metadata": {},
     "output_type": "display_data"
    },
    {
     "data": {
      "application/vnd.jupyter.widget-view+json": {
       "model_id": "b6c5faa6c34641469961fe4a7003cb90",
       "version_major": 2,
       "version_minor": 0
      },
      "text/plain": [
       "  0%|          | 0/6 [00:00<?, ?it/s]"
      ]
     },
     "metadata": {},
     "output_type": "display_data"
    },
    {
     "data": {
      "application/vnd.jupyter.widget-view+json": {
       "model_id": "4f5daabd646b48e99993c05d2255fd4f",
       "version_major": 2,
       "version_minor": 0
      },
      "text/plain": [
       "  0%|          | 0/4 [00:00<?, ?it/s]"
      ]
     },
     "metadata": {},
     "output_type": "display_data"
    },
    {
     "data": {
      "application/vnd.jupyter.widget-view+json": {
       "model_id": "310d4ce074524ede92f0f462c2c6c238",
       "version_major": 2,
       "version_minor": 0
      },
      "text/plain": [
       "  0%|          | 0/6 [00:00<?, ?it/s]"
      ]
     },
     "metadata": {},
     "output_type": "display_data"
    },
    {
     "data": {
      "application/vnd.jupyter.widget-view+json": {
       "model_id": "95b404fbff1b41838247a67efba02307",
       "version_major": 2,
       "version_minor": 0
      },
      "text/plain": [
       "  0%|          | 0/6 [00:00<?, ?it/s]"
      ]
     },
     "metadata": {},
     "output_type": "display_data"
    },
    {
     "data": {
      "application/vnd.jupyter.widget-view+json": {
       "model_id": "65a213f2f6934520bb4f3e0dfb5615c0",
       "version_major": 2,
       "version_minor": 0
      },
      "text/plain": [
       "  0%|          | 0/6 [00:00<?, ?it/s]"
      ]
     },
     "metadata": {},
     "output_type": "display_data"
    },
    {
     "name": "stdout",
     "output_type": "stream",
     "text": [
      "Skipped trials, n skipped = 3[120 121 122]\n",
      "Skipped trials, n skipped = 3[127 128 143]\n"
     ]
    },
    {
     "data": {
      "application/vnd.jupyter.widget-view+json": {
       "model_id": "b3104d7f905a41b19f036fb5475226c9",
       "version_major": 2,
       "version_minor": 0
      },
      "text/plain": [
       "  0%|          | 0/6 [00:00<?, ?it/s]"
      ]
     },
     "metadata": {},
     "output_type": "display_data"
    },
    {
     "data": {
      "application/vnd.jupyter.widget-view+json": {
       "model_id": "f7ee55e8b8a84aad91d0213f453b8b0b",
       "version_major": 2,
       "version_minor": 0
      },
      "text/plain": [
       "  0%|          | 0/6 [00:00<?, ?it/s]"
      ]
     },
     "metadata": {},
     "output_type": "display_data"
    },
    {
     "name": "stdout",
     "output_type": "stream",
     "text": [
      "Skipped trials, n skipped = 3[169 170 171]\n",
      "Skipped trials, n skipped = 23[105 106 107 108 109 110 111 112 113 114 138 139 140 141 142 143 144 145\n",
      " 146 147 148 188 189]\n",
      "Skipped trials, n skipped = 1[22]\n",
      "Skipped trials, n skipped = 2[166 178]\n",
      "Skipped trials, n skipped = 2[175 202]\n"
     ]
    },
    {
     "data": {
      "application/vnd.jupyter.widget-view+json": {
       "model_id": "2e234668409e408b973189d42ccee9a9",
       "version_major": 2,
       "version_minor": 0
      },
      "text/plain": [
       "  0%|          | 0/6 [00:00<?, ?it/s]"
      ]
     },
     "metadata": {},
     "output_type": "display_data"
    },
    {
     "name": "stdout",
     "output_type": "stream",
     "text": [
      "Skipped trials, n skipped = 1[144]\n",
      "Skipped trials, n skipped = 1[212]\n",
      "Skipped trials, n skipped = 2[115 152]\n",
      "Skipped trials, n skipped = 3[ 21 161 177]\n"
     ]
    },
    {
     "data": {
      "application/vnd.jupyter.widget-view+json": {
       "model_id": "6bc195dc6c7743d88d795c83c8e2d549",
       "version_major": 2,
       "version_minor": 0
      },
      "text/plain": [
       "  0%|          | 0/6 [00:00<?, ?it/s]"
      ]
     },
     "metadata": {},
     "output_type": "display_data"
    },
    {
     "name": "stdout",
     "output_type": "stream",
     "text": [
      "Skipped trials, n skipped = 2[137 138]\n",
      "Skipped trials, n skipped = 2[ 52 167]\n"
     ]
    },
    {
     "data": {
      "application/vnd.jupyter.widget-view+json": {
       "model_id": "bebb164a878a46ad8c3485b589b27c2d",
       "version_major": 2,
       "version_minor": 0
      },
      "text/plain": [
       "  0%|          | 0/6 [00:00<?, ?it/s]"
      ]
     },
     "metadata": {},
     "output_type": "display_data"
    },
    {
     "data": {
      "application/vnd.jupyter.widget-view+json": {
       "model_id": "16b7e853fdbf4b93b68295d1f2354ee3",
       "version_major": 2,
       "version_minor": 0
      },
      "text/plain": [
       "  0%|          | 0/6 [00:00<?, ?it/s]"
      ]
     },
     "metadata": {},
     "output_type": "display_data"
    },
    {
     "data": {
      "application/vnd.jupyter.widget-view+json": {
       "model_id": "3da87f4c44584fd59ee5adf226e9a442",
       "version_major": 2,
       "version_minor": 0
      },
      "text/plain": [
       "  0%|          | 0/6 [00:00<?, ?it/s]"
      ]
     },
     "metadata": {},
     "output_type": "display_data"
    },
    {
     "data": {
      "application/vnd.jupyter.widget-view+json": {
       "model_id": "0b12b0386956422781733b1a38a23ba6",
       "version_major": 2,
       "version_minor": 0
      },
      "text/plain": [
       "  0%|          | 0/6 [00:00<?, ?it/s]"
      ]
     },
     "metadata": {},
     "output_type": "display_data"
    }
   ],
   "source": [
    "''' Find & save indices corresponding to quarters of the task sorted by context, making sure skipped trials are excluded''' \n",
    "load_folder = 'C:/Users/Python/Desktop/LocalData/filtered/'\n",
    "save_folder = 'C:/Users/Python/Desktop/LocalData/spatialcellssm/indices/'\n",
    "\n",
    "\n",
    "for m, session in zip(mice,sessions):\n",
    "    for s in tdqm(session):\n",
    "        d = data[m][s]\n",
    "        \n",
    "        #load data\n",
    "        rawdata_file = 'RAW_' + m + '_' + s + '.npy'\n",
    "        behavior_file = 'BEHAVIOR_' + m + '_' + s + '.npy'\n",
    "        \n",
    "        raw = np.load(load_folder + rawdata_file, allow_pickle=True)\n",
    "        behaviorfil = np.load(load_folder + behavior_file, allow_pickle=False)        \n",
    "        posx = behaviorfil[:,0]\n",
    "        trial = behaviorfil[:,2]\n",
    "        \n",
    "        #define indices for first two quarters accounting for skipped trials\n",
    "        start_idx = (np.where(trial >= 20)[0][0]).astype(int) # trial is zero-indexed, 20 full dark trials\n",
    "        enda_idx = (np.where(trial <= 79)[0][-1]).astype(int) # get indices of all 60 context_a trials that follow dark\n",
    "        endb_idx = (np.where(trial <= 139)[0][-1]).astype(int) # last index before alternation\n",
    "        Aidx = np.arange(start_idx, enda_idx + 1, 1)\n",
    "        Bidx = np.arange(enda_idx + 1, endb_idx + 1, 1)\n",
    "        \n",
    "        #find context A / B trials in alternation, removing skipped trials\n",
    "        trialinfo = raw.item().get('trialinfo')\n",
    "        left = trialinfo['left']\n",
    "               \n",
    "        A_trials = np.where((left == 1))[0]\n",
    "        A_trials = list(A_trials[A_trials >= 140])\n",
    "        B_trials = np.where((left == 0))[0]\n",
    "        B_trials = list(B_trials[B_trials >= 140])\n",
    "    \n",
    "        try:\n",
    "            _ = raw.item().get('correctedtrial').shape\n",
    "            if (len(np.unique(trial)) < 220): \n",
    "                alltrial = np.arange(0, np.max(np.unique(trial)) + 1 , 1)\n",
    "            else:    \n",
    "                alltrial = np.arange(0,220,1)\n",
    "            skippedtrials = np.setdiff1d(alltrial, np.unique(trial)).astype(int)\n",
    "            print('Skipped trials, n skipped = ' + str(len(skippedtrials)) + str(skippedtrials))\n",
    "        except: \n",
    "            skippedtrials = []\n",
    "            \n",
    "        for n, t in enumerate(skippedtrials):\n",
    "            if t in A_trials:\n",
    "                A_trials.remove(t)\n",
    "            elif t in B_trials:\n",
    "                B_trials.remove(t)\n",
    "    \n",
    "        A_idx = []\n",
    "        for t in A_trials:\n",
    "            A_idx = np.append(A_idx, np.where(trial == t)[0])\n",
    "            A_idx = A_idx.astype(int)\n",
    "            \n",
    "        B_idx = []\n",
    "        for t in B_trials:\n",
    "            B_idx = np.append(B_idx, np.where(trial == t)[0])\n",
    "            B_idx = B_idx.astype(int)\n",
    "            \n",
    "        #save indices for session section\n",
    "        d['Aidx'] = Aidx\n",
    "        d['Bidx'] = Bidx\n",
    "        d['A_idx'] = A_idx\n",
    "        d['B_idx'] = B_idx\n",
    "                \n",
    "        # get non-gain change A' and B' indices \n",
    "        gain = trialinfo['gain']\n",
    "        \n",
    "        #check if mouse reached gain period; if not append NaN to all arrays & continue \n",
    "        if len(gain) < 200:\n",
    "            print(str(m) + str(s) + ' did not reach gain change')\n",
    "            \n",
    "            d['A_ngidx'] = A_idx\n",
    "            d['B_ngidx'] = B_idx\n",
    "            \n",
    "            continue \n",
    "            \n",
    "        #get count of gain in each context & select equal number of last Context A or B alt trials before gain\n",
    "        gain_trials = np.where((gain == 0.7))[0]\n",
    "        gain_trials = list(gain_trials)\n",
    "\n",
    "        Agtrials = np.intersect1d(A_trials, np.asarray(gain_trials))\n",
    "        Agtrials = list(np.sort(Agtrials.astype(int)))\n",
    "        Bgtrials = np.intersect1d(B_trials, np.asarray(gain_trials))                   \n",
    "        Bgtrials = list(np.sort(Bgtrials.astype(int)))\n",
    "    \n",
    "        #get indices of observations corresponding to the selected trials\n",
    "        Agidx = []\n",
    "        for t in Agtrials:\n",
    "            Agidx = np.append(Agidx, np.where(trial == t)[0])\n",
    "        Agidx = Agidx.astype(int)\n",
    "            \n",
    "        Bgidx = []\n",
    "        for t in Bgtrials:\n",
    "            Bgidx = np.append(Bgidx, np.where(trial == t)[0])\n",
    "        Bgidx = Bgidx.astype(int)\n",
    "        \n",
    "        A_ngidx = np.setdiff1d(A_idx,Agidx).astype(int)\n",
    "        B_ngidx = np.setdiff1d(B_idx,Bgidx).astype(int)\n",
    "        \n",
    "        d['A_ngidx'] = A_ngidx\n",
    "        d['B_ngidx'] = B_ngidx\n",
    "        "
   ]
  },
  {
   "cell_type": "code",
   "execution_count": 9,
   "id": "94d97ffd",
   "metadata": {
    "scrolled": true
   },
   "outputs": [
    {
     "name": "stdout",
     "output_type": "stream",
     "text": [
      "Skipped & dark trials omitted from reward data, n skipped = 3\n",
      "Mouse A14 with n_misses: 183\n",
      "got lick indices for mouse A14 session 083022_record1\n",
      "got reward indices for mouse A14 session 083022_record1\n",
      "Skipped & dark trials omitted from reward data, n skipped = 11\n",
      "Mouse A14 with n_misses: 154\n",
      "got lick indices for mouse A14 session 083122_record2\n",
      "got reward indices for mouse A14 session 083122_record2\n",
      "Skipped & dark trials omitted from reward data, n skipped = 1\n",
      "Mouse A14 with n_misses: 145\n",
      "got lick indices for mouse A14 session 090122_record3\n",
      "got reward indices for mouse A14 session 090122_record3\n",
      "No trials skipped; only dark trials omitted from reward data\n",
      "Mouse A15 with n_misses: 105\n",
      "got lick indices for mouse A15 session 083022_record1\n",
      "got reward indices for mouse A15 session 083022_record1\n",
      "Skipped & dark trials omitted from reward data, n skipped = 1\n",
      "Mouse A15 with n_misses: 80\n",
      "got lick indices for mouse A15 session 083122_record2\n",
      "got reward indices for mouse A15 session 083122_record2\n",
      "Skipped & dark trials omitted from reward data, n skipped = 1\n",
      "Mouse A15 with n_misses: 39\n",
      "got lick indices for mouse A15 session 090122_record3\n",
      "got reward indices for mouse A15 session 090122_record3\n",
      "Skipped & dark trials omitted from reward data, n skipped = 2\n",
      "Mouse A15 with n_misses: 63\n",
      "got lick indices for mouse A15 session 090222_record4\n",
      "got reward indices for mouse A15 session 090222_record4\n",
      "Skipped & dark trials omitted from reward data, n skipped = 4\n",
      "Mouse A15 with n_misses: 53\n",
      "got lick indices for mouse A15 session 090322_record5\n",
      "got reward indices for mouse A15 session 090322_record5\n",
      "No trials skipped; only dark trials omitted from reward data\n",
      "Mouse A15 with n_misses: 54\n",
      "got lick indices for mouse A15 session 090422_record6\n",
      "got reward indices for mouse A15 session 090422_record6\n",
      "Skipped & dark trials omitted from reward data, n skipped = 15\n",
      "Mouse A16 with n_misses: 127\n",
      "got lick indices for mouse A16 session 083022_record1\n",
      "got reward indices for mouse A16 session 083022_record1\n",
      "Skipped & dark trials omitted from reward data, n skipped = 4\n",
      "Mouse A16 with n_misses: 71\n",
      "got lick indices for mouse A16 session 083122_record2\n",
      "got reward indices for mouse A16 session 083122_record2\n",
      "Skipped & dark trials omitted from reward data, n skipped = 11\n",
      "Mouse A16 with n_misses: 105\n",
      "got lick indices for mouse A16 session 090122_record3\n",
      "got reward indices for mouse A16 session 090122_record3\n",
      "No trials skipped; only dark trials omitted from reward data\n",
      "Mouse A16 with n_misses: 178\n",
      "got lick indices for mouse A16 session 090222_record4\n",
      "got reward indices for mouse A16 session 090222_record4\n",
      "No trials skipped; only dark trials omitted from reward data\n",
      "Mouse A17 with n_misses: 134\n",
      "got lick indices for mouse A17 session 082322_record1\n",
      "got reward indices for mouse A17 session 082322_record1\n",
      "No trials skipped; only dark trials omitted from reward data\n",
      "Mouse A17 with n_misses: 85\n",
      "got lick indices for mouse A17 session 082422_record2\n",
      "got reward indices for mouse A17 session 082422_record2\n",
      "No trials skipped; only dark trials omitted from reward data\n",
      "Mouse A17 with n_misses: 93\n",
      "got lick indices for mouse A17 session 082522_record3\n",
      "got reward indices for mouse A17 session 082522_record3\n",
      "Skipped & dark trials omitted from reward data, n skipped = 1\n",
      "Mouse A17 with n_misses: 85\n",
      "got lick indices for mouse A17 session 082622_record4\n",
      "got reward indices for mouse A17 session 082622_record4\n",
      "Skipped & dark trials omitted from reward data, n skipped = 9\n",
      "Mouse A17 with n_misses: 170\n",
      "got lick indices for mouse A17 session 082722_record5\n",
      "got reward indices for mouse A17 session 082722_record5\n",
      "Skipped & dark trials omitted from reward data, n skipped = 5\n",
      "Mouse A17 with n_misses: 98\n",
      "got lick indices for mouse A17 session 082822_record6\n",
      "got reward indices for mouse A17 session 082822_record6\n",
      "No trials skipped; only dark trials omitted from reward data\n",
      "Mouse A18 with n_misses: 150\n",
      "got lick indices for mouse A18 session 082322_record1real\n",
      "got reward indices for mouse A18 session 082322_record1real\n",
      "Skipped & dark trials omitted from reward data, n skipped = 4\n",
      "Mouse A18 with n_misses: 119\n",
      "got lick indices for mouse A18 session 082422_record2\n",
      "got reward indices for mouse A18 session 082422_record2\n",
      "No trials skipped; only dark trials omitted from reward data\n",
      "Mouse A18 with n_misses: 63\n",
      "got lick indices for mouse A18 session 082522_record3\n",
      "got reward indices for mouse A18 session 082522_record3\n",
      "Skipped & dark trials omitted from reward data, n skipped = 1\n",
      "Mouse A18 with n_misses: 94\n",
      "got lick indices for mouse A18 session 082622_record4\n",
      "got reward indices for mouse A18 session 082622_record4\n",
      "Skipped & dark trials omitted from reward data, n skipped = 4\n",
      "Mouse A18 with n_misses: 54\n",
      "got lick indices for mouse A18 session 082722_record5\n",
      "got reward indices for mouse A18 session 082722_record5\n",
      "No trials skipped; only dark trials omitted from reward data\n",
      "Mouse A18 with n_misses: 59\n",
      "got lick indices for mouse A18 session 082822_record6\n",
      "got reward indices for mouse A18 session 082822_record6\n",
      "No trials skipped; only dark trials omitted from reward data\n",
      "Mouse A19 with n_misses: 53\n",
      "got lick indices for mouse A19 session 012723_record2\n",
      "got reward indices for mouse A19 session 012723_record2\n",
      "No trials skipped; only dark trials omitted from reward data\n",
      "Mouse A19 with n_misses: 47\n",
      "got lick indices for mouse A19 session 012823_record3\n",
      "got reward indices for mouse A19 session 012823_record3\n",
      "No trials skipped; only dark trials omitted from reward data\n",
      "Mouse A19 with n_misses: 48\n",
      "got lick indices for mouse A19 session 012923_record4\n",
      "got reward indices for mouse A19 session 012923_record4\n",
      "No trials skipped; only dark trials omitted from reward data\n",
      "Mouse A19 with n_misses: 89\n",
      "got lick indices for mouse A19 session 013023_record5\n",
      "got reward indices for mouse A19 session 013023_record5\n",
      "No trials skipped; only dark trials omitted from reward data\n",
      "Mouse A19 with n_misses: 107\n",
      "got lick indices for mouse A19 session 013123_record6\n",
      "got reward indices for mouse A19 session 013123_record6\n",
      "No trials skipped; only dark trials omitted from reward data\n",
      "Mouse A19 with n_misses: 101\n",
      "got lick indices for mouse A19 session 020123_record7\n",
      "got reward indices for mouse A19 session 020123_record7\n",
      "No trials skipped; only dark trials omitted from reward data\n",
      "Mouse A20 with n_misses: 83\n",
      "got lick indices for mouse A20 session 012623_record1\n",
      "got reward indices for mouse A20 session 012623_record1\n",
      "No trials skipped; only dark trials omitted from reward data\n",
      "Mouse A20 with n_misses: 57\n",
      "got lick indices for mouse A20 session 012723_record2\n",
      "got reward indices for mouse A20 session 012723_record2\n",
      "No trials skipped; only dark trials omitted from reward data\n",
      "Mouse A20 with n_misses: 40\n",
      "got lick indices for mouse A20 session 012823_record3\n",
      "got reward indices for mouse A20 session 012823_record3\n",
      "No trials skipped; only dark trials omitted from reward data\n",
      "Mouse A20 with n_misses: 67\n",
      "got lick indices for mouse A20 session 012923_record4\n",
      "got reward indices for mouse A20 session 012923_record4\n",
      "No trials skipped; only dark trials omitted from reward data\n",
      "Mouse A20 with n_misses: 55\n",
      "got lick indices for mouse A20 session 013023_record5\n",
      "got reward indices for mouse A20 session 013023_record5\n",
      "No trials skipped; only dark trials omitted from reward data\n",
      "Mouse A20 with n_misses: 71\n",
      "got lick indices for mouse A20 session 013123_record6\n",
      "got reward indices for mouse A20 session 013123_record6\n",
      "No trials skipped; only dark trials omitted from reward data\n",
      "Mouse A22 with n_misses: 86\n",
      "got lick indices for mouse A22 session 012923_record2\n",
      "got reward indices for mouse A22 session 012923_record2\n",
      "No trials skipped; only dark trials omitted from reward data\n",
      "Mouse A22 with n_misses: 72\n",
      "got lick indices for mouse A22 session 013023_record3\n",
      "got reward indices for mouse A22 session 013023_record3\n",
      "No trials skipped; only dark trials omitted from reward data\n",
      "Mouse A22 with n_misses: 56\n",
      "got lick indices for mouse A22 session 013123_record4\n",
      "got reward indices for mouse A22 session 013123_record4\n",
      "No trials skipped; only dark trials omitted from reward data\n",
      "Mouse A22 with n_misses: 27\n",
      "got lick indices for mouse A22 session 020123_record5\n",
      "got reward indices for mouse A22 session 020123_record5\n"
     ]
    },
    {
     "name": "stdout",
     "output_type": "stream",
     "text": [
      "No trials skipped; only dark trials omitted from reward data\n",
      "Mouse A22 with n_misses: 104\n",
      "got lick indices for mouse A22 session 020223_record6\n",
      "got reward indices for mouse A22 session 020223_record6\n",
      "No trials skipped; only dark trials omitted from reward data\n",
      "Mouse A22 with n_misses: 84\n",
      "got lick indices for mouse A22 session 020323_record7\n",
      "got reward indices for mouse A22 session 020323_record7\n",
      "No trials skipped; only dark trials omitted from reward data\n",
      "Mouse A23 with n_misses: 141\n",
      "got lick indices for mouse A23 session 020923_record1\n",
      "got reward indices for mouse A23 session 020923_record1\n",
      "No trials skipped; only dark trials omitted from reward data\n",
      "Mouse A23 with n_misses: 102\n",
      "got lick indices for mouse A23 session 021023_record2\n",
      "got reward indices for mouse A23 session 021023_record2\n",
      "No trials skipped; only dark trials omitted from reward data\n",
      "Mouse A23 with n_misses: 52\n",
      "got lick indices for mouse A23 session 021123_record3\n",
      "got reward indices for mouse A23 session 021123_record3\n",
      "No trials skipped; only dark trials omitted from reward data\n",
      "Mouse A23 with n_misses: 73\n",
      "got lick indices for mouse A23 session 021223_record4\n",
      "got reward indices for mouse A23 session 021223_record4\n",
      "No trials skipped; only dark trials omitted from reward data\n",
      "Mouse A23 with n_misses: 73\n",
      "got lick indices for mouse A23 session 021323_record5\n",
      "got reward indices for mouse A23 session 021323_record5\n",
      "No trials skipped; only dark trials omitted from reward data\n",
      "Mouse A23 with n_misses: 3\n",
      "got lick indices for mouse A23 session 021423_record6\n",
      "got reward indices for mouse A23 session 021423_record6\n",
      "No trials skipped; only dark trials omitted from reward data\n",
      "Mouse A24 with n_misses: 35\n",
      "got lick indices for mouse A24 session 022623_record1\n",
      "got reward indices for mouse A24 session 022623_record1\n",
      "No trials skipped; only dark trials omitted from reward data\n",
      "Mouse A24 with n_misses: 27\n",
      "got lick indices for mouse A24 session 022723_record2\n",
      "got reward indices for mouse A24 session 022723_record2\n",
      "No trials skipped; only dark trials omitted from reward data\n",
      "Mouse A24 with n_misses: 33\n",
      "got lick indices for mouse A24 session 022823_record3\n",
      "got reward indices for mouse A24 session 022823_record3\n",
      "No trials skipped; only dark trials omitted from reward data\n",
      "Mouse A24 with n_misses: 10\n",
      "got lick indices for mouse A24 session 030123_record4\n",
      "got reward indices for mouse A24 session 030123_record4\n",
      "No trials skipped; only dark trials omitted from reward data\n",
      "Mouse A24 with n_misses: 9\n",
      "got lick indices for mouse A24 session 030223_record5\n",
      "got reward indices for mouse A24 session 030223_record5\n",
      "No trials skipped; only dark trials omitted from reward data\n",
      "Mouse A24 with n_misses: 10\n",
      "got lick indices for mouse A24 session 030323_record6\n",
      "got reward indices for mouse A24 session 030323_record6\n",
      "No trials skipped; only dark trials omitted from reward data\n",
      "Mouse MA10F with n_misses: 89\n",
      "got lick indices for mouse MA10F session 111322_record1\n",
      "got reward indices for mouse MA10F session 111322_record1\n",
      "No trials skipped; only dark trials omitted from reward data\n",
      "Mouse MA10F with n_misses: 41\n",
      "got lick indices for mouse MA10F session 111422_record2\n",
      "got reward indices for mouse MA10F session 111422_record2\n",
      "No trials skipped; only dark trials omitted from reward data\n",
      "Mouse MA10F with n_misses: 22\n",
      "got lick indices for mouse MA10F session 111522_record3\n",
      "got reward indices for mouse MA10F session 111522_record3\n",
      "No trials skipped; only dark trials omitted from reward data\n",
      "Mouse MA10F with n_misses: 21\n",
      "got lick indices for mouse MA10F session 111622_record4\n",
      "got reward indices for mouse MA10F session 111622_record4\n",
      "No trials skipped; only dark trials omitted from reward data\n",
      "Mouse MA10F with n_misses: 3\n",
      "got lick indices for mouse MA10F session 111722_record5\n",
      "got reward indices for mouse MA10F session 111722_record5\n",
      "No trials skipped; only dark trials omitted from reward data\n",
      "Mouse MA10F with n_misses: 0\n",
      "got lick indices for mouse MA10F session 111822_record6\n",
      "got reward indices for mouse MA10F session 111822_record6\n",
      "No trials skipped; only dark trials omitted from reward data\n",
      "Mouse MA1F with n_misses: 130\n",
      "got lick indices for mouse MA1F session 102322_record1\n",
      "got reward indices for mouse MA1F session 102322_record1\n",
      "No trials skipped; only dark trials omitted from reward data\n",
      "Mouse MA1F with n_misses: 18\n",
      "got lick indices for mouse MA1F session 102422_record2\n",
      "got reward indices for mouse MA1F session 102422_record2\n",
      "No trials skipped; only dark trials omitted from reward data\n",
      "Mouse MA1F with n_misses: 7\n",
      "got lick indices for mouse MA1F session 102522_record3\n",
      "got reward indices for mouse MA1F session 102522_record3\n",
      "No trials skipped; only dark trials omitted from reward data\n",
      "Mouse MA1F with n_misses: 15\n",
      "got lick indices for mouse MA1F session 102622_record4\n",
      "got reward indices for mouse MA1F session 102622_record4\n",
      "No trials skipped; only dark trials omitted from reward data\n",
      "Mouse MA1F with n_misses: 7\n",
      "got lick indices for mouse MA1F session 102722_record5\n",
      "got reward indices for mouse MA1F session 102722_record5\n",
      "No trials skipped; only dark trials omitted from reward data\n",
      "Mouse MA1F with n_misses: 0\n",
      "got lick indices for mouse MA1F session 102822_record6\n",
      "got reward indices for mouse MA1F session 102822_record6\n",
      "No trials skipped; only dark trials omitted from reward data\n",
      "Mouse MA2F with n_misses: 46\n",
      "got lick indices for mouse MA2F session 102322_record1\n",
      "got reward indices for mouse MA2F session 102322_record1\n",
      "No trials skipped; only dark trials omitted from reward data\n",
      "Mouse MA2F with n_misses: 25\n",
      "got lick indices for mouse MA2F session 102422_record2\n",
      "got reward indices for mouse MA2F session 102422_record2\n",
      "No trials skipped; only dark trials omitted from reward data\n",
      "Mouse MA2F with n_misses: 3\n",
      "got lick indices for mouse MA2F session 102522_record3\n",
      "got reward indices for mouse MA2F session 102522_record3\n",
      "No trials skipped; only dark trials omitted from reward data\n",
      "Mouse MA2F with n_misses: 26\n",
      "got lick indices for mouse MA2F session 102622_record4\n",
      "got reward indices for mouse MA2F session 102622_record4\n",
      "No trials skipped; only dark trials omitted from reward data\n",
      "Mouse MA2F with n_misses: 3\n",
      "got lick indices for mouse MA2F session 102722_record5\n",
      "got reward indices for mouse MA2F session 102722_record5\n",
      "No trials skipped; only dark trials omitted from reward data\n",
      "Mouse MA2F with n_misses: 3\n",
      "got lick indices for mouse MA2F session 102822_record6\n",
      "got reward indices for mouse MA2F session 102822_record6\n",
      "No trials skipped; only dark trials omitted from reward data\n",
      "Mouse MA3M with n_misses: 84\n",
      "got lick indices for mouse MA3M session 102322_record1\n",
      "got reward indices for mouse MA3M session 102322_record1\n",
      "No trials skipped; only dark trials omitted from reward data\n",
      "Mouse MA3M with n_misses: 30\n",
      "got lick indices for mouse MA3M session 102422_record2\n",
      "got reward indices for mouse MA3M session 102422_record2\n",
      "No trials skipped; only dark trials omitted from reward data\n",
      "Mouse MA3M with n_misses: 5\n",
      "got lick indices for mouse MA3M session 102522_record3\n",
      "got reward indices for mouse MA3M session 102522_record3\n",
      "No trials skipped; only dark trials omitted from reward data\n",
      "Mouse MA3M with n_misses: 0\n",
      "got lick indices for mouse MA3M session 102622_record4\n",
      "got reward indices for mouse MA3M session 102622_record4\n",
      "No trials skipped; only dark trials omitted from reward data\n",
      "Mouse MA3M with n_misses: 0\n",
      "got lick indices for mouse MA3M session 102722_record5\n",
      "got reward indices for mouse MA3M session 102722_record5\n",
      "No trials skipped; only dark trials omitted from reward data\n",
      "Mouse MA3M with n_misses: 1\n",
      "got lick indices for mouse MA3M session 102822_record6\n",
      "got reward indices for mouse MA3M session 102822_record6\n",
      "No trials skipped; only dark trials omitted from reward data\n",
      "Mouse MA4M with n_misses: 88\n",
      "got lick indices for mouse MA4M session 103122_record2\n",
      "got reward indices for mouse MA4M session 103122_record2\n",
      "No trials skipped; only dark trials omitted from reward data\n",
      "Mouse MA4M with n_misses: 45\n",
      "got lick indices for mouse MA4M session 110122_record3\n",
      "got reward indices for mouse MA4M session 110122_record3\n",
      "No trials skipped; only dark trials omitted from reward data\n",
      "Mouse MA4M with n_misses: 38\n",
      "got lick indices for mouse MA4M session 110222_record4\n",
      "got reward indices for mouse MA4M session 110222_record4\n"
     ]
    },
    {
     "name": "stdout",
     "output_type": "stream",
     "text": [
      "No trials skipped; only dark trials omitted from reward data\n",
      "Mouse MA4M with n_misses: 46\n",
      "got lick indices for mouse MA4M session 110322_record5rep\n",
      "got reward indices for mouse MA4M session 110322_record5rep\n",
      "No trials skipped; only dark trials omitted from reward data\n",
      "Mouse MA4M with n_misses: 15\n",
      "got lick indices for mouse MA4M session 110422_record6\n",
      "got reward indices for mouse MA4M session 110422_record6\n",
      "No trials skipped; only dark trials omitted from reward data\n",
      "Mouse MA4M with n_misses: 116\n",
      "got lick indices for mouse MA4M session 110522_record7\n",
      "got reward indices for mouse MA4M session 110522_record7\n",
      "No trials skipped; only dark trials omitted from reward data\n",
      "Mouse MA5M with n_misses: 98\n",
      "got lick indices for mouse MA5M session 110622_record1\n",
      "got reward indices for mouse MA5M session 110622_record1\n",
      "No trials skipped; only dark trials omitted from reward data\n",
      "Mouse MA5M with n_misses: 89\n",
      "got lick indices for mouse MA5M session 110722_record2\n",
      "got reward indices for mouse MA5M session 110722_record2\n",
      "No trials skipped; only dark trials omitted from reward data\n",
      "Mouse MA5M with n_misses: 40\n",
      "got lick indices for mouse MA5M session 110822_record3\n",
      "got reward indices for mouse MA5M session 110822_record3\n",
      "No trials skipped; only dark trials omitted from reward data\n",
      "Mouse MA5M with n_misses: 17\n",
      "got lick indices for mouse MA5M session 110922_record4\n",
      "got reward indices for mouse MA5M session 110922_record4\n",
      "No trials skipped; only dark trials omitted from reward data\n",
      "Mouse MA5M with n_misses: 21\n",
      "got lick indices for mouse MA5M session 111022_record5\n",
      "got reward indices for mouse MA5M session 111022_record5\n",
      "No trials skipped; only dark trials omitted from reward data\n",
      "Mouse MA5M with n_misses: 2\n",
      "got lick indices for mouse MA5M session 111122_record6\n",
      "got reward indices for mouse MA5M session 111122_record6\n",
      "No trials skipped; only dark trials omitted from reward data\n",
      "Mouse MA6M with n_misses: 26\n",
      "got lick indices for mouse MA6M session 103022_record1\n",
      "got reward indices for mouse MA6M session 103022_record1\n",
      "No trials skipped; only dark trials omitted from reward data\n",
      "Mouse MA6M with n_misses: 75\n",
      "got lick indices for mouse MA6M session 103122_record2\n",
      "got reward indices for mouse MA6M session 103122_record2\n",
      "No trials skipped; only dark trials omitted from reward data\n",
      "Mouse MA6M with n_misses: 50\n",
      "got lick indices for mouse MA6M session 110122_record3\n",
      "got reward indices for mouse MA6M session 110122_record3\n",
      "No trials skipped; only dark trials omitted from reward data\n",
      "Mouse MA6M with n_misses: 35\n",
      "got lick indices for mouse MA6M session 110222_record4\n",
      "got reward indices for mouse MA6M session 110222_record4\n",
      "No trials skipped; only dark trials omitted from reward data\n",
      "Mouse MA6M with n_misses: 16\n",
      "got lick indices for mouse MA6M session 110322_record5\n",
      "got reward indices for mouse MA6M session 110322_record5\n",
      "No trials skipped; only dark trials omitted from reward data\n",
      "Mouse MA6M with n_misses: 10\n",
      "got lick indices for mouse MA6M session 110422_record6\n",
      "got reward indices for mouse MA6M session 110422_record6\n",
      "No trials skipped; only dark trials omitted from reward data\n",
      "Mouse MA7M with n_misses: 106\n",
      "got lick indices for mouse MA7M session 103022_record1\n",
      "got reward indices for mouse MA7M session 103022_record1\n",
      "No trials skipped; only dark trials omitted from reward data\n",
      "Mouse MA7M with n_misses: 18\n",
      "got lick indices for mouse MA7M session 103122_record2\n",
      "got reward indices for mouse MA7M session 103122_record2\n",
      "No trials skipped; only dark trials omitted from reward data\n",
      "Mouse MA7M with n_misses: 34\n",
      "got lick indices for mouse MA7M session 110122_record3\n",
      "got reward indices for mouse MA7M session 110122_record3\n",
      "No trials skipped; only dark trials omitted from reward data\n",
      "Mouse MA7M with n_misses: 87\n",
      "got lick indices for mouse MA7M session 110222_record4\n",
      "got reward indices for mouse MA7M session 110222_record4\n",
      "No trials skipped; only dark trials omitted from reward data\n",
      "Mouse MA8F with n_misses: 47\n",
      "got lick indices for mouse MA8F session 111322_record1\n",
      "got reward indices for mouse MA8F session 111322_record1\n",
      "No trials skipped; only dark trials omitted from reward data\n",
      "Mouse MA8F with n_misses: 70\n",
      "got lick indices for mouse MA8F session 111422_record2\n",
      "got reward indices for mouse MA8F session 111422_record2\n",
      "No trials skipped; only dark trials omitted from reward data\n",
      "Mouse MA8F with n_misses: 59\n",
      "got lick indices for mouse MA8F session 111522_record3\n",
      "got reward indices for mouse MA8F session 111522_record3\n",
      "No trials skipped; only dark trials omitted from reward data\n",
      "Mouse MA8F with n_misses: 15\n",
      "got lick indices for mouse MA8F session 111622_record4\n",
      "got reward indices for mouse MA8F session 111622_record4\n",
      "No trials skipped; only dark trials omitted from reward data\n",
      "Mouse MA8F with n_misses: 9\n",
      "got lick indices for mouse MA8F session 111722_record5\n",
      "got reward indices for mouse MA8F session 111722_record5\n",
      "No trials skipped; only dark trials omitted from reward data\n",
      "Mouse MA8F with n_misses: 5\n",
      "got lick indices for mouse MA8F session 111822_record6\n",
      "got reward indices for mouse MA8F session 111822_record6\n",
      "No trials skipped; only dark trials omitted from reward data\n",
      "Mouse MA9F with n_misses: 97\n",
      "got lick indices for mouse MA9F session 111322_record1\n",
      "got reward indices for mouse MA9F session 111322_record1\n",
      "No trials skipped; only dark trials omitted from reward data\n",
      "Mouse MA9F with n_misses: 95\n",
      "got lick indices for mouse MA9F session 111422_record2\n",
      "got reward indices for mouse MA9F session 111422_record2\n",
      "No trials skipped; only dark trials omitted from reward data\n",
      "Mouse MA9F with n_misses: 36\n",
      "got lick indices for mouse MA9F session 111522_record3\n",
      "got reward indices for mouse MA9F session 111522_record3\n",
      "No trials skipped; only dark trials omitted from reward data\n",
      "Mouse MA9F with n_misses: 10\n",
      "got lick indices for mouse MA9F session 111622_record4\n",
      "got reward indices for mouse MA9F session 111622_record4\n",
      "No trials skipped; only dark trials omitted from reward data\n",
      "Mouse MA9F with n_misses: 5\n",
      "got lick indices for mouse MA9F session 111722_record5\n",
      "got reward indices for mouse MA9F session 111722_record5\n",
      "No trials skipped; only dark trials omitted from reward data\n",
      "Mouse MA9F with n_misses: 7\n",
      "got lick indices for mouse MA9F session 111822_record6\n",
      "got reward indices for mouse MA9F session 111822_record6\n",
      "No trials skipped; only dark trials omitted from reward data\n",
      "Mouse Y20 with n_misses: 17\n",
      "got lick indices for mouse Y20 session 092522_record1\n",
      "got reward indices for mouse Y20 session 092522_record1\n",
      "No trials skipped; only dark trials omitted from reward data\n",
      "Mouse Y20 with n_misses: 11\n",
      "got lick indices for mouse Y20 session 092622_record2\n",
      "got reward indices for mouse Y20 session 092622_record2\n",
      "No trials skipped; only dark trials omitted from reward data\n",
      "Mouse Y20 with n_misses: 9\n",
      "got lick indices for mouse Y20 session 092722_record3\n",
      "got reward indices for mouse Y20 session 092722_record3\n",
      "No trials skipped; only dark trials omitted from reward data\n",
      "Mouse Y20 with n_misses: 1\n",
      "got lick indices for mouse Y20 session 092822_record4\n",
      "got reward indices for mouse Y20 session 092822_record4\n",
      "Skipped & dark trials omitted from reward data, n skipped = 3\n",
      "Mouse Y20 with n_misses: 3\n",
      "got lick indices for mouse Y20 session 092922_record5\n",
      "got reward indices for mouse Y20 session 092922_record5\n",
      "Skipped & dark trials omitted from reward data, n skipped = 3\n",
      "Mouse Y20 with n_misses: 6\n",
      "got lick indices for mouse Y20 session 093022_record6\n",
      "got reward indices for mouse Y20 session 093022_record6\n",
      "No trials skipped; only dark trials omitted from reward data\n",
      "Mouse Y21 with n_misses: 77\n",
      "got lick indices for mouse Y21 session 091822_record1\n",
      "got reward indices for mouse Y21 session 091822_record1\n",
      "No trials skipped; only dark trials omitted from reward data\n",
      "Mouse Y21 with n_misses: 50\n",
      "got lick indices for mouse Y21 session 091922_record2\n",
      "got reward indices for mouse Y21 session 091922_record2\n",
      "No trials skipped; only dark trials omitted from reward data\n",
      "Mouse Y21 with n_misses: 39\n",
      "got lick indices for mouse Y21 session 092022_record3\n",
      "got reward indices for mouse Y21 session 092022_record3\n",
      "No trials skipped; only dark trials omitted from reward data\n",
      "Mouse Y21 with n_misses: 40\n",
      "got lick indices for mouse Y21 session 092122_record4\n",
      "got reward indices for mouse Y21 session 092122_record4\n"
     ]
    },
    {
     "name": "stdout",
     "output_type": "stream",
     "text": [
      "No trials skipped; only dark trials omitted from reward data\n",
      "Mouse Y21 with n_misses: 8\n",
      "got lick indices for mouse Y21 session 092222_record5\n",
      "got reward indices for mouse Y21 session 092222_record5\n",
      "No trials skipped; only dark trials omitted from reward data\n",
      "Mouse Y21 with n_misses: 4\n",
      "got lick indices for mouse Y21 session 092322_record6\n",
      "got reward indices for mouse Y21 session 092322_record6\n",
      "Skipped & dark trials omitted from reward data, n skipped = 3\n",
      "Mouse Y22 with n_misses: 134\n",
      "got lick indices for mouse Y22 session 092522_record1\n",
      "got reward indices for mouse Y22 session 092522_record1\n",
      "Skipped & dark trials omitted from reward data, n skipped = 23\n",
      "Mouse Y22 with n_misses: 49\n",
      "got lick indices for mouse Y22 session 092622_record2\n",
      "got reward indices for mouse Y22 session 092622_record2\n",
      "No trials skipped; only dark trials omitted from reward data\n",
      "Mouse Y22 with n_misses: 24\n",
      "got lick indices for mouse Y22 session 092722_record3\n",
      "got reward indices for mouse Y22 session 092722_record3\n",
      "Skipped & dark trials omitted from reward data, n skipped = 1\n",
      "Mouse Y22 with n_misses: 17\n",
      "got lick indices for mouse Y22 session 092822_record4\n",
      "got reward indices for mouse Y22 session 092822_record4\n",
      "Skipped & dark trials omitted from reward data, n skipped = 2\n",
      "Mouse Y22 with n_misses: 1\n",
      "got lick indices for mouse Y22 session 092922_record5\n",
      "got reward indices for mouse Y22 session 092922_record5\n",
      "Skipped & dark trials omitted from reward data, n skipped = 2\n",
      "Mouse Y22 with n_misses: 26\n",
      "got lick indices for mouse Y22 session 093022_record6\n",
      "got reward indices for mouse Y22 session 093022_record6\n",
      "No trials skipped; only dark trials omitted from reward data\n",
      "Mouse Y23 with n_misses: 72\n",
      "got lick indices for mouse Y23 session 092522_record1\n",
      "got reward indices for mouse Y23 session 092522_record1\n",
      "Skipped & dark trials omitted from reward data, n skipped = 1\n",
      "Mouse Y23 with n_misses: 71\n",
      "got lick indices for mouse Y23 session 092622_record2\n",
      "got reward indices for mouse Y23 session 092622_record2\n",
      "No trials skipped; only dark trials omitted from reward data\n",
      "Mouse Y23 with n_misses: 32\n",
      "got lick indices for mouse Y23 session 092722_record3\n",
      "got reward indices for mouse Y23 session 092722_record3\n",
      "Skipped & dark trials omitted from reward data, n skipped = 1\n",
      "Mouse Y23 with n_misses: 21\n",
      "got lick indices for mouse Y23 session 092822_record4\n",
      "got reward indices for mouse Y23 session 092822_record4\n",
      "Skipped & dark trials omitted from reward data, n skipped = 2\n",
      "Mouse Y23 with n_misses: 18\n",
      "got lick indices for mouse Y23 session 092922_record5\n",
      "got reward indices for mouse Y23 session 092922_record5\n",
      "Skipped & dark trials omitted from reward data, n skipped = 3\n",
      "Mouse Y23 with n_misses: 18\n",
      "got lick indices for mouse Y23 session 093022_record6\n",
      "got reward indices for mouse Y23 session 093022_record6\n",
      "Skipped & dark trials omitted from reward data, n skipped = 2\n",
      "Mouse Y24 with n_misses: 48\n",
      "got lick indices for mouse Y24 session 091822_record1\n",
      "got reward indices for mouse Y24 session 091822_record1\n",
      "No trials skipped; only dark trials omitted from reward data\n",
      "Mouse Y24 with n_misses: 31\n",
      "got lick indices for mouse Y24 session 091922_record2\n",
      "got reward indices for mouse Y24 session 091922_record2\n",
      "Skipped & dark trials omitted from reward data, n skipped = 2\n",
      "Mouse Y24 with n_misses: 20\n",
      "got lick indices for mouse Y24 session 092022_record3\n",
      "got reward indices for mouse Y24 session 092022_record3\n",
      "No trials skipped; only dark trials omitted from reward data\n",
      "Mouse Y24 with n_misses: 15\n",
      "got lick indices for mouse Y24 session 092122_record4\n",
      "got reward indices for mouse Y24 session 092122_record4\n",
      "No trials skipped; only dark trials omitted from reward data\n",
      "Mouse Y24 with n_misses: 11\n",
      "got lick indices for mouse Y24 session 092222_record5\n",
      "got reward indices for mouse Y24 session 092222_record5\n",
      "No trials skipped; only dark trials omitted from reward data\n",
      "Mouse Y24 with n_misses: 2\n",
      "got lick indices for mouse Y24 session 092322_record6\n",
      "got reward indices for mouse Y24 session 092322_record6\n",
      "No trials skipped; only dark trials omitted from reward data\n",
      "Mouse Y25 with n_misses: 69\n",
      "got lick indices for mouse Y25 session 021623_record1\n",
      "got reward indices for mouse Y25 session 021623_record1\n",
      "No trials skipped; only dark trials omitted from reward data\n",
      "Mouse Y25 with n_misses: 93\n",
      "got lick indices for mouse Y25 session 021723_record2\n",
      "got reward indices for mouse Y25 session 021723_record2\n",
      "No trials skipped; only dark trials omitted from reward data\n",
      "Mouse Y25 with n_misses: 24\n",
      "got lick indices for mouse Y25 session 021823_record3\n",
      "got reward indices for mouse Y25 session 021823_record3\n",
      "No trials skipped; only dark trials omitted from reward data\n",
      "Mouse Y25 with n_misses: 46\n",
      "got lick indices for mouse Y25 session 021923_record4\n",
      "got reward indices for mouse Y25 session 021923_record4\n",
      "No trials skipped; only dark trials omitted from reward data\n",
      "Mouse Y25 with n_misses: 10\n",
      "got lick indices for mouse Y25 session 022023_record5\n",
      "got reward indices for mouse Y25 session 022023_record5\n",
      "No trials skipped; only dark trials omitted from reward data\n",
      "Mouse Y25 with n_misses: 8\n",
      "got lick indices for mouse Y25 session 022123_record6\n",
      "got reward indices for mouse Y25 session 022123_record6\n",
      "No trials skipped; only dark trials omitted from reward data\n",
      "Mouse Y26 with n_misses: 63\n",
      "got lick indices for mouse Y26 session 021623_record1\n",
      "got reward indices for mouse Y26 session 021623_record1\n",
      "No trials skipped; only dark trials omitted from reward data\n",
      "Mouse Y26 with n_misses: 54\n",
      "got lick indices for mouse Y26 session 021723_record2\n",
      "got reward indices for mouse Y26 session 021723_record2\n",
      "No trials skipped; only dark trials omitted from reward data\n",
      "Mouse Y26 with n_misses: 46\n",
      "got lick indices for mouse Y26 session 021823_record3\n",
      "got reward indices for mouse Y26 session 021823_record3\n",
      "No trials skipped; only dark trials omitted from reward data\n",
      "Mouse Y26 with n_misses: 12\n",
      "got lick indices for mouse Y26 session 021923_record4\n",
      "got reward indices for mouse Y26 session 021923_record4\n",
      "No trials skipped; only dark trials omitted from reward data\n",
      "Mouse Y26 with n_misses: 5\n",
      "got lick indices for mouse Y26 session 022023_record5\n",
      "got reward indices for mouse Y26 session 022023_record5\n",
      "No trials skipped; only dark trials omitted from reward data\n",
      "Mouse Y26 with n_misses: 6\n",
      "got lick indices for mouse Y26 session 022123_record6\n",
      "got reward indices for mouse Y26 session 022123_record6\n",
      "No trials skipped; only dark trials omitted from reward data\n",
      "Mouse Y27 with n_misses: 121\n",
      "got lick indices for mouse Y27 session 021623_record1\n",
      "got reward indices for mouse Y27 session 021623_record1\n",
      "No trials skipped; only dark trials omitted from reward data\n",
      "Mouse Y27 with n_misses: 34\n",
      "got lick indices for mouse Y27 session 021723_record2\n",
      "got reward indices for mouse Y27 session 021723_record2\n",
      "No trials skipped; only dark trials omitted from reward data\n",
      "Mouse Y27 with n_misses: 20\n",
      "got lick indices for mouse Y27 session 021823_record3\n",
      "got reward indices for mouse Y27 session 021823_record3\n",
      "No trials skipped; only dark trials omitted from reward data\n",
      "Mouse Y27 with n_misses: 3\n",
      "got lick indices for mouse Y27 session 021923_record4\n",
      "got reward indices for mouse Y27 session 021923_record4\n",
      "No trials skipped; only dark trials omitted from reward data\n",
      "Mouse Y27 with n_misses: 0\n",
      "got lick indices for mouse Y27 session 022023_record5rep\n",
      "got reward indices for mouse Y27 session 022023_record5rep\n",
      "No trials skipped; only dark trials omitted from reward data\n",
      "Mouse Y27 with n_misses: 0\n",
      "got lick indices for mouse Y27 session 022123_record6\n",
      "got reward indices for mouse Y27 session 022123_record6\n",
      "No trials skipped; only dark trials omitted from reward data\n",
      "Mouse Y28 with n_misses: 120\n",
      "got lick indices for mouse Y28 session 022623_record1\n",
      "got reward indices for mouse Y28 session 022623_record1\n",
      "No trials skipped; only dark trials omitted from reward data\n",
      "Mouse Y28 with n_misses: 104\n",
      "got lick indices for mouse Y28 session 022723_record2\n",
      "got reward indices for mouse Y28 session 022723_record2\n",
      "No trials skipped; only dark trials omitted from reward data\n",
      "Mouse Y28 with n_misses: 74\n",
      "got lick indices for mouse Y28 session 022823_record3\n",
      "got reward indices for mouse Y28 session 022823_record3\n",
      "No trials skipped; only dark trials omitted from reward data\n",
      "Mouse Y28 with n_misses: 76\n",
      "got lick indices for mouse Y28 session 030123_record4\n",
      "got reward indices for mouse Y28 session 030123_record4\n"
     ]
    },
    {
     "name": "stdout",
     "output_type": "stream",
     "text": [
      "No trials skipped; only dark trials omitted from reward data\n",
      "Mouse Y28 with n_misses: 42\n",
      "got lick indices for mouse Y28 session 030223_record5\n",
      "got reward indices for mouse Y28 session 030223_record5\n",
      "No trials skipped; only dark trials omitted from reward data\n",
      "Mouse Y28 with n_misses: 36\n",
      "got lick indices for mouse Y28 session 030323_record6\n",
      "got reward indices for mouse Y28 session 030323_record6\n"
     ]
    }
   ],
   "source": [
    "''' Generate behavioral data for alternation'''\n",
    "\n",
    "#get lick & reward data\n",
    "rewarda_centers = []\n",
    "rewardb_centers = []\n",
    "\n",
    "for m, session in zip(mice, sessions):\n",
    "    for s in session:\n",
    "        d = data[m][s]\n",
    " \n",
    "        #load data\n",
    "        rawdata_file = 'RAW_' + m + '_' + s + '.npy'\n",
    "        spikes_file = 'SPIKES_' + m + '_' + s +'.npy'\n",
    "        behavior_file = 'BEHAVIOR_' + m + '_' + s + '.npy'\n",
    "        \n",
    "        raw = np.load(load_folder + rawdata_file, allow_pickle=True)\n",
    "        Y = np.load(load_folder + spikes_file, allow_pickle=False) #pre-filtered for speeds >2cm/s, position-corrected spikes, 20 ms timebins\n",
    "        behaviorfil = np.load(load_folder + behavior_file, allow_pickle=False)\n",
    "        \n",
    "        d['reward_data'] = {}\n",
    "        \n",
    "        # get behavioral params\n",
    "        posx = raw.item().get('posx')\n",
    "        post = raw.item().get('post')\n",
    "        dt = np.unique(np.round(np.diff(post),4))\n",
    "        lickt = raw.item().get('lickt')\n",
    "        trials_dark = np.sum(raw.item().get('trialinfo')['dark'])\n",
    "        reward = raw.item().get('reward')\n",
    "        reward['trials'] = np.arange(0,len(reward['trials']),1) # fixes occassional Unity error numbering of rewards \n",
    "        \n",
    "        if len(dt) > 1: # discard duplicate frame entries if they occurred\n",
    "            dt = dt[dt != 0]\n",
    "        speed = raw.item().get('speed')\n",
    "        \n",
    "         # get reward params & remove reward data pertaining to dark trials & skipped trials\n",
    "        try:\n",
    "            _ = raw.item().get('correctedtrial').shape\n",
    "            trial = raw.item().get('correctedtrial')\n",
    "            \n",
    "            if (len(np.unique(trial)) < 220): \n",
    "                alltrial = np.arange(0,np.max(np.unique(trial)) + 1 , 1)\n",
    "            else:    \n",
    "                alltrial = np.arange(0,220,1)\n",
    "                \n",
    "            skippedtrials = np.setdiff1d(alltrial,np.unique(trial))\n",
    "            nonskipped = np.setdiff1d(reward['trials'],skippedtrials)   \n",
    "            k_idx = np.intersect1d(np.where(reward['trials'] > trials_dark), nonskipped)\n",
    "            keep_idx = np.intersect1d(np.where(reward['trials'] <= np.max(alltrial)), k_idx)\n",
    "            print('Skipped & dark trials omitted from reward data, n skipped = ' + str(len(skippedtrials)))\n",
    "            \n",
    "        except AttributeError:\n",
    "            trial = raw.item().get('trial')\n",
    "            keep_idx = (np.where(reward['trials'] > trials_dark))\n",
    "            skippedtrials = []\n",
    "            print('No trials skipped; only dark trials omitted from reward data')\n",
    "        \n",
    "        reward_centers = np.array(reward['centers'][keep_idx])\n",
    "        rewardt = reward['times'][keep_idx]\n",
    "        reward_trials = reward['trials'][keep_idx]\n",
    "        misses = reward['missed'][keep_idx].astype(bool)\n",
    "        auto_reward = np.array(reward['auto'][keep_idx])\n",
    "        print('Mouse ' + m + ' with n_misses: ' + str(np.sum(misses)))   \n",
    "\n",
    "        # get lick and reward indices\n",
    "        lick_ct = get.spiketrain(post, dt, lickt, index=False)\n",
    "        d['reward_data']['lick_ct'] = lick_ct\n",
    "        print('got lick indices for mouse ' + m + ' session ' + s)\n",
    "        \n",
    "        reward_idx = get.rewardtrain(post, dt, rewardt, index=True) #gets reward ct for each time binned position range as index\n",
    "        d['reward_data']['reward_idx'] = reward_idx\n",
    "        print('got reward indices for mouse ' + m + ' session ' + s)\n",
    "    \n",
    "    # saves list of reward locations per mouse\n",
    "    if reward['centers'][0] == 270:\n",
    "        rewarda_centers = np.append(rewarda_centers,270)\n",
    "        rewardb_centers = np.append(rewardb_centers,370)\n",
    "    else:\n",
    "        rewarda_centers = np.append(rewarda_centers,370)\n",
    "        rewardb_centers = np.append(rewardb_centers,270)            \n",
    "        \n",
    "#Find & Save Number of Missed Rewards per Session & Animal\n",
    "#block array\n",
    "blocksatiety = []\n",
    "blockreq = []\n",
    "blocktrialn = []\n",
    "\n",
    "#session arrays\n",
    "req_rates = []\n",
    "reqa_rates = []\n",
    "reqb_rates = []\n",
    "reqblock_rates = []\n",
    "reqalt_rates = []\n",
    "reqalta_rates = []\n",
    "reqaltb_rates = []\n",
    "req_trials = []\n",
    "reqblock_trials = []\n",
    "reqalt_trials = []\n",
    "\n",
    "#animals arrays\n",
    "mreq_rates = []\n",
    "mreqa_rates = []\n",
    "mreqb_rates = []\n",
    "mreqblock_rates = []\n",
    "mreqalt_rates = []\n",
    "mreqalta_rates = []\n",
    "mreqaltb_rates = []\n",
    "\n",
    "for m, session in zip(mice, sessions):\n",
    "    rt = []\n",
    "    ca = []\n",
    "    cb = []\n",
    "    blocks = []\n",
    "    alt = []\n",
    "    alta = []\n",
    "    altb = []\n",
    "    \n",
    "    req = []\n",
    "    reqa = []\n",
    "    reqb = []\n",
    "    reqblocks = []\n",
    "    reqalt = []\n",
    "    reqalta = []\n",
    "    reqaltb = []\n",
    "    \n",
    "    for s in session:\n",
    "        # get behavior data\n",
    "        d = data[m][s]\n",
    "        \n",
    "        #load data\n",
    "        rawdata_file = 'RAW_' + m + '_' + s + '.npy'\n",
    "        spikes_file = 'SPIKES_' + m + '_' + s +'.npy'\n",
    "        behavior_file = 'BEHAVIOR_' + m + '_' + s + '.npy'\n",
    "        \n",
    "        raw = np.load(load_folder + rawdata_file, allow_pickle=True)\n",
    "        Y = np.load(load_folder + spikes_file, allow_pickle=False) #pre-filtered for speeds >2cm/s, position-corrected spikes, 20 ms timebins\n",
    "        behaviorfil = np.load(load_folder + behavior_file, allow_pickle=False)\n",
    "        \n",
    "        posx = raw.item().get('posx')\n",
    "        post = raw.item().get('post')\n",
    "        dt = np.unique(np.round(np.diff(post),4))\n",
    "        if len(dt) > 1: # discard duplicate frame entries if they occurred\n",
    "            dt = dt[dt != 0]\n",
    "        speed = raw.item().get('speed')\n",
    "        \n",
    "        # get reward params & remove reward data pertaining to dark trials & skipped trials\n",
    "        lickt = raw.item().get('lickt')\n",
    "        trials_dark = np.sum(raw.item().get('trialinfo')['dark'])\n",
    "        reward = raw.item().get('reward')\n",
    "        reward['trials'] = np.arange(0,len(reward['trials']),1)\n",
    "        \n",
    "        try:\n",
    "            _ = raw.item().get('correctedtrial').shape\n",
    "            trial = raw.item().get('correctedtrial')\n",
    "            \n",
    "            if (len(np.unique(trial)) < 220): \n",
    "                alltrial = np.arange(0,np.max(np.unique(trial)) + 1 , 1)\n",
    "            else:    \n",
    "                alltrial = np.arange(0,220,1)\n",
    "                \n",
    "            skippedtrials = np.setdiff1d(alltrial,np.unique(trial))\n",
    "            nonskipped = np.setdiff1d(reward['trials'],skippedtrials)   \n",
    "            k_idx = np.intersect1d(np.where(reward['trials'] > trials_dark), nonskipped)\n",
    "            keep_idx = np.intersect1d(np.where(reward['trials'] <= np.max(alltrial)), k_idx)\n",
    "            # print('Skipped & dark trials omitted from reward data, n skipped = ' + str(len(skippedtrials)))\n",
    "            \n",
    "        except AttributeError:\n",
    "            trial = raw.item().get('trial')\n",
    "            keep_idx = (np.where(reward['trials'] > trials_dark))\n",
    "            skippedtrials = []\n",
    "            # print('No trials skipped; only dark trials omitted from reward data')\n",
    "        \n",
    "        reward_centers = np.array(reward['centers'][keep_idx])\n",
    "        rewarda = reward_centers[0]\n",
    "        rewardb = reward_centers[60]\n",
    "        rewardt = reward['times'][keep_idx]\n",
    "        reward_trials = reward['trials'][keep_idx]\n",
    "        misses = reward['missed'][keep_idx].astype(bool)\n",
    "        requests = ~misses\n",
    "        \n",
    "        # find rate of requests for a given session\n",
    "        req_rates.append(np.sum(requests)/len(reward_trials)) #total\n",
    "        \n",
    "        rewarda_idx = np.where(reward_trials < 81)[0]\n",
    "        reqa_rates.append(np.sum(requests[rewarda_idx])/len(rewarda_idx)) #context a\n",
    "        \n",
    "        rewardb_idx = np.intersect1d((np.where(reward_trials >= 81)), (np.where(reward_trials <= 140)))\n",
    "        reqb_rates.append(np.sum(requests[rewardb_idx])/len(rewardb_idx)) #context b\n",
    "        \n",
    "        block_idx = np.where(reward_trials < 140)[0]\n",
    "        reqblock_rates.append(np.sum(requests[block_idx])/len(block_idx)) #block\n",
    "        \n",
    "        alt_idx = np.where(reward_trials >= 140)[0]\n",
    "        reqalt_rates.append(np.sum(requests[alt_idx])/len(alt_idx)) #alt\n",
    "        \n",
    "        alta_idx = np.where((reward_trials >= 140) & (reward_centers == rewarda))[0] \n",
    "        reqalta_rates.append(np.mean(requests[alta_idx]))\n",
    "        \n",
    "        altb_idx = np.where((reward_trials >= 140) & (reward_centers == rewardb))[0]\n",
    "        reqaltb_rates.append(np.mean(requests[altb_idx]))\n",
    "        \n",
    "        rt = np.append(rt,len(reward_trials))\n",
    "        ca = np.append(ca,len(rewarda_idx))\n",
    "        cb = np.append(cb,len(rewardb_idx))\n",
    "        blocks = np.append(blocks,len(block_idx))\n",
    "        alt = np.append(alt,len(alt_idx))\n",
    "        alta = np.append(alta, len(alta_idx))\n",
    "        altb = np.append(altb, len(altb_idx))\n",
    "        \n",
    "        req_trials = np.append(req_trials, len(reward_trials))\n",
    "        reqblock_trials = np.append(reqblock_trials, len(block_idx))\n",
    "        reqalt_trials = np.append(reqalt_trials, len(alt_idx))\n",
    "        \n",
    "        d['altreqbytrial'] = requests[alt_idx]\n",
    "        \n",
    "        req = np.append(req,np.sum(requests))\n",
    "        reqa = np.append(reqa,np.sum(requests[rewarda_idx]))\n",
    "        reqb = np.append(reqb,np.sum(requests[rewardb_idx]))\n",
    "        reqblocks = np.append(reqblocks,np.sum(requests[block_idx]))\n",
    "        reqalt = np.append(reqalt,np.sum(requests[alt_idx]))\n",
    "        reqalta = np.append(reqalta,requests[alta_idx])\n",
    "        reqaltb = np.append(reqaltb,requests[altb_idx])\n",
    "        \n",
    "        # append req rates from blocks into block req array len(4 x total sessions)\n",
    "        blockreq = np.append(blockreq, np.mean(requests[rewarda_idx])) # block 1\n",
    "        blockreq = np.append(blockreq, np.mean(requests[rewardb_idx])) # block 2\n",
    "        blockreq = np.append(blockreq, np.mean(requests[alta_idx])) # block 3\n",
    "        blockreq = np.append(blockreq, np.mean(requests[altb_idx])) # block 4   \n",
    "        \n",
    "        blocktrialn = np.append(blocktrialn, len(requests[rewarda_idx]))\n",
    "        blocktrialn = np.append(blocktrialn, len(requests[rewardb_idx]))\n",
    "        blocktrialn = np.append(blocktrialn, len(requests[alta_idx]))\n",
    "        blocktrialn = np.append(blocktrialn, len(requests[altb_idx]))\n",
    "        \n",
    "        # append reward counts from previous task block into block satiety array len(4 x total sessions)\n",
    "        blocksatiety = np.append(blocksatiety, 0) #no rewards before block a for every animal\n",
    "        blocksatiety = np.append(blocksatiety, np.sum(requests[rewarda_idx])) # count of rewards consumed before block b\n",
    "        blocksatiety = np.append(blocksatiety, (np.sum(requests[rewarda_idx]) + np.sum(requests[rewardb_idx]))) # before alta\n",
    "        blocksatiety = np.append(blocksatiety, (np.sum(requests[rewarda_idx]) + np.sum(requests[rewardb_idx]) + np.sum(requests[alta_idx]))) # beforealtb             \n",
    "                          \n",
    "    # get mouse request rate collapsing days\n",
    "    mreqrate = np.sum(req)/ np.sum(rt)\n",
    "    mreq_rates = np.append(mreq_rates,mreqrate)\n",
    "    \n",
    "    mreqarate = np.sum(reqa) / np.sum(ca)\n",
    "    mreqa_rates = np.append(mreqa_rates, mreqarate)\n",
    "    \n",
    "    mreqbrate = np.sum(reqb) / np.sum(cb)\n",
    "    mreqb_rates = np.append(mreqb_rates, mreqbrate)\n",
    "    \n",
    "    mreqblockrate = np.sum(reqblocks) / np.sum(blocks)\n",
    "    mreqblock_rates = np.append(mreqblock_rates, mreqblockrate)\n",
    "    \n",
    "    mreqaltrate = np.sum(reqalt) / np.sum(alt)\n",
    "    mreqalt_rates = np.append(mreqalt_rates, mreqaltrate)\n",
    "    \n",
    "    mreqalta_rates = np.append(mreqalta_rates, np.mean(reqalta))\n",
    "    mreqaltb_rates = np.append(mreqaltb_rates, np.mean(reqaltb))\n",
    "    \n",
    "# save as arrays to be safe\n",
    "req_rates = np.asarray(req_rates)\n",
    "reqa_rates = np.asarray(reqa_rates)\n",
    "reqb_rates = np.asarray(reqb_rates)\n",
    "reqblock_rates = np.asarray(reqblock_rates)\n",
    "reqalt_rates = np.asarray(reqalt_rates)\n",
    "reqalta_rates = np.asarray(reqalta_rates)\n",
    "reqaltb_rates = np.asarray(reqaltb_rates)\n",
    "\n",
    "mreq_rates = np.asarray(mreq_rates)\n",
    "mreqa_rates = np.asarray(mreqa_rates)\n",
    "mreqb_rates = np.asarray(mreqb_rates)\n",
    "mreqblock_rates = np.asarray(mreqblock_rates)\n",
    "mreqalt_rates = np.asarray(mreqalt_rates)\n",
    "mreqalta_rates = np.asarray(reqalta_rates)\n",
    "mreqaltb_rates = np.asarray(reqaltb_rates)\n",
    "\n",
    "blocksatiety = np.asarray(blocksatiety)\n",
    "blockreq = np.asarray(blockreq)\n",
    "blocktrialn = np.asarray(blocktrialn)"
   ]
  },
  {
   "cell_type": "code",
   "execution_count": 10,
   "id": "996e9442",
   "metadata": {
    "scrolled": true
   },
   "outputs": [
    {
     "data": {
      "application/vnd.jupyter.widget-view+json": {
       "model_id": "f2836f316b1a4932bd900551d409a165",
       "version_major": 2,
       "version_minor": 0
      },
      "text/plain": [
       "  0%|          | 0/3 [00:00<?, ?it/s]"
      ]
     },
     "metadata": {},
     "output_type": "display_data"
    },
    {
     "data": {
      "application/vnd.jupyter.widget-view+json": {
       "model_id": "a689aff152f8483981926dbe0aa95085",
       "version_major": 2,
       "version_minor": 0
      },
      "text/plain": [
       "  0%|          | 0/6 [00:00<?, ?it/s]"
      ]
     },
     "metadata": {},
     "output_type": "display_data"
    },
    {
     "data": {
      "application/vnd.jupyter.widget-view+json": {
       "model_id": "117b409b119342c4a990a261ea78ac6c",
       "version_major": 2,
       "version_minor": 0
      },
      "text/plain": [
       "  0%|          | 0/4 [00:00<?, ?it/s]"
      ]
     },
     "metadata": {},
     "output_type": "display_data"
    },
    {
     "data": {
      "application/vnd.jupyter.widget-view+json": {
       "model_id": "81bd84a46bfe4c1a9ce7fc2c6c0e484e",
       "version_major": 2,
       "version_minor": 0
      },
      "text/plain": [
       "  0%|          | 0/6 [00:00<?, ?it/s]"
      ]
     },
     "metadata": {},
     "output_type": "display_data"
    },
    {
     "data": {
      "application/vnd.jupyter.widget-view+json": {
       "model_id": "9682df9d19af4999b656b056b1e14e36",
       "version_major": 2,
       "version_minor": 0
      },
      "text/plain": [
       "  0%|          | 0/6 [00:00<?, ?it/s]"
      ]
     },
     "metadata": {},
     "output_type": "display_data"
    },
    {
     "data": {
      "application/vnd.jupyter.widget-view+json": {
       "model_id": "fb05516761754fe8afc6000435826331",
       "version_major": 2,
       "version_minor": 0
      },
      "text/plain": [
       "  0%|          | 0/6 [00:00<?, ?it/s]"
      ]
     },
     "metadata": {},
     "output_type": "display_data"
    },
    {
     "data": {
      "application/vnd.jupyter.widget-view+json": {
       "model_id": "4e21fa81c84b485c968d1742bae38982",
       "version_major": 2,
       "version_minor": 0
      },
      "text/plain": [
       "  0%|          | 0/6 [00:00<?, ?it/s]"
      ]
     },
     "metadata": {},
     "output_type": "display_data"
    },
    {
     "data": {
      "application/vnd.jupyter.widget-view+json": {
       "model_id": "12f98dd815064a9cb702ff9d281cacd1",
       "version_major": 2,
       "version_minor": 0
      },
      "text/plain": [
       "  0%|          | 0/6 [00:00<?, ?it/s]"
      ]
     },
     "metadata": {},
     "output_type": "display_data"
    },
    {
     "data": {
      "application/vnd.jupyter.widget-view+json": {
       "model_id": "0efaed6858ce46968de04f047cdc6116",
       "version_major": 2,
       "version_minor": 0
      },
      "text/plain": [
       "  0%|          | 0/6 [00:00<?, ?it/s]"
      ]
     },
     "metadata": {},
     "output_type": "display_data"
    },
    {
     "data": {
      "application/vnd.jupyter.widget-view+json": {
       "model_id": "f5b54c7ad177467ebd79054f394af86e",
       "version_major": 2,
       "version_minor": 0
      },
      "text/plain": [
       "  0%|          | 0/6 [00:00<?, ?it/s]"
      ]
     },
     "metadata": {},
     "output_type": "display_data"
    },
    {
     "data": {
      "application/vnd.jupyter.widget-view+json": {
       "model_id": "f1fa610139354013b948f7fe876d88dd",
       "version_major": 2,
       "version_minor": 0
      },
      "text/plain": [
       "  0%|          | 0/6 [00:00<?, ?it/s]"
      ]
     },
     "metadata": {},
     "output_type": "display_data"
    },
    {
     "data": {
      "application/vnd.jupyter.widget-view+json": {
       "model_id": "aafaaf2dc59d436d8a74115a673b1afe",
       "version_major": 2,
       "version_minor": 0
      },
      "text/plain": [
       "  0%|          | 0/6 [00:00<?, ?it/s]"
      ]
     },
     "metadata": {},
     "output_type": "display_data"
    },
    {
     "data": {
      "application/vnd.jupyter.widget-view+json": {
       "model_id": "182268e32b504804850d74859b65e98e",
       "version_major": 2,
       "version_minor": 0
      },
      "text/plain": [
       "  0%|          | 0/6 [00:00<?, ?it/s]"
      ]
     },
     "metadata": {},
     "output_type": "display_data"
    },
    {
     "data": {
      "application/vnd.jupyter.widget-view+json": {
       "model_id": "487f95584c684ecfb29b924fd18e8c75",
       "version_major": 2,
       "version_minor": 0
      },
      "text/plain": [
       "  0%|          | 0/6 [00:00<?, ?it/s]"
      ]
     },
     "metadata": {},
     "output_type": "display_data"
    },
    {
     "data": {
      "application/vnd.jupyter.widget-view+json": {
       "model_id": "0304e5b2bdc3440bacd54e79bc423159",
       "version_major": 2,
       "version_minor": 0
      },
      "text/plain": [
       "  0%|          | 0/6 [00:00<?, ?it/s]"
      ]
     },
     "metadata": {},
     "output_type": "display_data"
    },
    {
     "data": {
      "application/vnd.jupyter.widget-view+json": {
       "model_id": "c0ef0f2049034050abd8790fb00e0be2",
       "version_major": 2,
       "version_minor": 0
      },
      "text/plain": [
       "  0%|          | 0/6 [00:00<?, ?it/s]"
      ]
     },
     "metadata": {},
     "output_type": "display_data"
    },
    {
     "data": {
      "application/vnd.jupyter.widget-view+json": {
       "model_id": "3114dc5671264b24a12534ce249da2ed",
       "version_major": 2,
       "version_minor": 0
      },
      "text/plain": [
       "  0%|          | 0/6 [00:00<?, ?it/s]"
      ]
     },
     "metadata": {},
     "output_type": "display_data"
    },
    {
     "data": {
      "application/vnd.jupyter.widget-view+json": {
       "model_id": "50aeadc50c914509916e04344ba928ba",
       "version_major": 2,
       "version_minor": 0
      },
      "text/plain": [
       "  0%|          | 0/4 [00:00<?, ?it/s]"
      ]
     },
     "metadata": {},
     "output_type": "display_data"
    },
    {
     "data": {
      "application/vnd.jupyter.widget-view+json": {
       "model_id": "8f351efb8b224b76b8cfba21e1e6650e",
       "version_major": 2,
       "version_minor": 0
      },
      "text/plain": [
       "  0%|          | 0/6 [00:00<?, ?it/s]"
      ]
     },
     "metadata": {},
     "output_type": "display_data"
    },
    {
     "data": {
      "application/vnd.jupyter.widget-view+json": {
       "model_id": "94dcb18ef3d841c384cfa6d99510097d",
       "version_major": 2,
       "version_minor": 0
      },
      "text/plain": [
       "  0%|          | 0/6 [00:00<?, ?it/s]"
      ]
     },
     "metadata": {},
     "output_type": "display_data"
    },
    {
     "data": {
      "application/vnd.jupyter.widget-view+json": {
       "model_id": "8da22939db8a47c087fba1df0d421930",
       "version_major": 2,
       "version_minor": 0
      },
      "text/plain": [
       "  0%|          | 0/6 [00:00<?, ?it/s]"
      ]
     },
     "metadata": {},
     "output_type": "display_data"
    },
    {
     "data": {
      "application/vnd.jupyter.widget-view+json": {
       "model_id": "83176c8114b44adb99cf5cfbd80d1362",
       "version_major": 2,
       "version_minor": 0
      },
      "text/plain": [
       "  0%|          | 0/6 [00:00<?, ?it/s]"
      ]
     },
     "metadata": {},
     "output_type": "display_data"
    },
    {
     "data": {
      "application/vnd.jupyter.widget-view+json": {
       "model_id": "0677f16db4034c2180400452d91c9725",
       "version_major": 2,
       "version_minor": 0
      },
      "text/plain": [
       "  0%|          | 0/6 [00:00<?, ?it/s]"
      ]
     },
     "metadata": {},
     "output_type": "display_data"
    },
    {
     "data": {
      "application/vnd.jupyter.widget-view+json": {
       "model_id": "ff0c62e66dc044c48e334c72765316b2",
       "version_major": 2,
       "version_minor": 0
      },
      "text/plain": [
       "  0%|          | 0/6 [00:00<?, ?it/s]"
      ]
     },
     "metadata": {},
     "output_type": "display_data"
    },
    {
     "data": {
      "application/vnd.jupyter.widget-view+json": {
       "model_id": "2e58155a347e4fc693a9303ad4b6eb85",
       "version_major": 2,
       "version_minor": 0
      },
      "text/plain": [
       "  0%|          | 0/6 [00:00<?, ?it/s]"
      ]
     },
     "metadata": {},
     "output_type": "display_data"
    },
    {
     "data": {
      "application/vnd.jupyter.widget-view+json": {
       "model_id": "3d260599d54f4e87a9931079ee6f185b",
       "version_major": 2,
       "version_minor": 0
      },
      "text/plain": [
       "  0%|          | 0/6 [00:00<?, ?it/s]"
      ]
     },
     "metadata": {},
     "output_type": "display_data"
    },
    {
     "data": {
      "application/vnd.jupyter.widget-view+json": {
       "model_id": "f64d995f38ef4412b7367018d2e890cc",
       "version_major": 2,
       "version_minor": 0
      },
      "text/plain": [
       "  0%|          | 0/6 [00:00<?, ?it/s]"
      ]
     },
     "metadata": {},
     "output_type": "display_data"
    },
    {
     "data": {
      "application/vnd.jupyter.widget-view+json": {
       "model_id": "dca0249bc11e4dc2825168be57f7a3bc",
       "version_major": 2,
       "version_minor": 0
      },
      "text/plain": [
       "  0%|          | 0/6 [00:00<?, ?it/s]"
      ]
     },
     "metadata": {},
     "output_type": "display_data"
    },
    {
     "data": {
      "application/vnd.jupyter.widget-view+json": {
       "model_id": "05798d22eba5416ca504496f7fff00fe",
       "version_major": 2,
       "version_minor": 0
      },
      "text/plain": [
       "  0%|          | 0/6 [00:00<?, ?it/s]"
      ]
     },
     "metadata": {},
     "output_type": "display_data"
    }
   ],
   "source": [
    "''' Load spatial cell (Figure 2/S3) and intn (Shuffle Procedure) booleans generated by previous notebooks. '''\n",
    "\n",
    "#adjujst paths\n",
    "save_folder = 'C:/Users/Python/Desktop/LocalData/spatialcellssm/'\n",
    "shuffle_folder = 'C:/Users/Python/Desktop/LocalData/intnspeedcells/'\n",
    "\n",
    "for m, session in zip(mice, sessions):\n",
    "    for s in tdqm(session):\n",
    "        d = data[m][s]\n",
    "        \n",
    "        #get file names\n",
    "        spatialcell99_file = 'spatialcell99_' + m + '_' + s + '.npy'\n",
    "        intn_file = 'intn_' + m + '_' + s + '.npy'\n",
    "\n",
    "        #load stuff\n",
    "        d['spatialcell99'] = np.load(save_folder + spatialcell99_file, allow_pickle = True)\n",
    "        d['intn'] = np.load(shuffle_folder + intn_file, allow_pickle = True)"
   ]
  },
  {
   "cell_type": "code",
   "execution_count": 11,
   "id": "6ed216e2",
   "metadata": {
    "scrolled": true
   },
   "outputs": [
    {
     "data": {
      "application/vnd.jupyter.widget-view+json": {
       "model_id": "a7060151ab2642fa8ded5e115a2effaf",
       "version_major": 2,
       "version_minor": 0
      },
      "text/plain": [
       "  0%|          | 0/3 [00:00<?, ?it/s]"
      ]
     },
     "metadata": {},
     "output_type": "display_data"
    },
    {
     "data": {
      "application/vnd.jupyter.widget-view+json": {
       "model_id": "a997d7a512b74925bc1f0ebe62fb414b",
       "version_major": 2,
       "version_minor": 0
      },
      "text/plain": [
       "  0%|          | 0/6 [00:00<?, ?it/s]"
      ]
     },
     "metadata": {},
     "output_type": "display_data"
    },
    {
     "data": {
      "application/vnd.jupyter.widget-view+json": {
       "model_id": "c8706412e3be4b68b4bcf4b6f3f8385a",
       "version_major": 2,
       "version_minor": 0
      },
      "text/plain": [
       "  0%|          | 0/4 [00:00<?, ?it/s]"
      ]
     },
     "metadata": {},
     "output_type": "display_data"
    },
    {
     "data": {
      "application/vnd.jupyter.widget-view+json": {
       "model_id": "565518584a7a4525957830de5b003121",
       "version_major": 2,
       "version_minor": 0
      },
      "text/plain": [
       "  0%|          | 0/6 [00:00<?, ?it/s]"
      ]
     },
     "metadata": {},
     "output_type": "display_data"
    },
    {
     "data": {
      "application/vnd.jupyter.widget-view+json": {
       "model_id": "c32a138109d84ab684b830994eee16e7",
       "version_major": 2,
       "version_minor": 0
      },
      "text/plain": [
       "  0%|          | 0/6 [00:00<?, ?it/s]"
      ]
     },
     "metadata": {},
     "output_type": "display_data"
    },
    {
     "data": {
      "application/vnd.jupyter.widget-view+json": {
       "model_id": "054bd9cf7f32458094d94020dbf79924",
       "version_major": 2,
       "version_minor": 0
      },
      "text/plain": [
       "  0%|          | 0/6 [00:00<?, ?it/s]"
      ]
     },
     "metadata": {},
     "output_type": "display_data"
    },
    {
     "data": {
      "application/vnd.jupyter.widget-view+json": {
       "model_id": "e33b19c630734559972dd6622df99b74",
       "version_major": 2,
       "version_minor": 0
      },
      "text/plain": [
       "  0%|          | 0/6 [00:00<?, ?it/s]"
      ]
     },
     "metadata": {},
     "output_type": "display_data"
    },
    {
     "data": {
      "application/vnd.jupyter.widget-view+json": {
       "model_id": "7669e341841f4ad39504ebc950e0982b",
       "version_major": 2,
       "version_minor": 0
      },
      "text/plain": [
       "  0%|          | 0/6 [00:00<?, ?it/s]"
      ]
     },
     "metadata": {},
     "output_type": "display_data"
    },
    {
     "data": {
      "application/vnd.jupyter.widget-view+json": {
       "model_id": "b073bc8c9646430e8d00568b5a3e1254",
       "version_major": 2,
       "version_minor": 0
      },
      "text/plain": [
       "  0%|          | 0/6 [00:00<?, ?it/s]"
      ]
     },
     "metadata": {},
     "output_type": "display_data"
    },
    {
     "data": {
      "application/vnd.jupyter.widget-view+json": {
       "model_id": "a16566ee4154445d813d762c31b6e681",
       "version_major": 2,
       "version_minor": 0
      },
      "text/plain": [
       "  0%|          | 0/6 [00:00<?, ?it/s]"
      ]
     },
     "metadata": {},
     "output_type": "display_data"
    },
    {
     "data": {
      "application/vnd.jupyter.widget-view+json": {
       "model_id": "1435567298e54b42bcbb0167f19c40e5",
       "version_major": 2,
       "version_minor": 0
      },
      "text/plain": [
       "  0%|          | 0/6 [00:00<?, ?it/s]"
      ]
     },
     "metadata": {},
     "output_type": "display_data"
    },
    {
     "data": {
      "application/vnd.jupyter.widget-view+json": {
       "model_id": "7737a2a29b384f9da3e38f076f131386",
       "version_major": 2,
       "version_minor": 0
      },
      "text/plain": [
       "  0%|          | 0/6 [00:00<?, ?it/s]"
      ]
     },
     "metadata": {},
     "output_type": "display_data"
    },
    {
     "data": {
      "application/vnd.jupyter.widget-view+json": {
       "model_id": "30dcd1e3678d425e8cd9390397df388f",
       "version_major": 2,
       "version_minor": 0
      },
      "text/plain": [
       "  0%|          | 0/6 [00:00<?, ?it/s]"
      ]
     },
     "metadata": {},
     "output_type": "display_data"
    },
    {
     "data": {
      "application/vnd.jupyter.widget-view+json": {
       "model_id": "4f0c0221063a4c25a25ac34b67a72feb",
       "version_major": 2,
       "version_minor": 0
      },
      "text/plain": [
       "  0%|          | 0/6 [00:00<?, ?it/s]"
      ]
     },
     "metadata": {},
     "output_type": "display_data"
    },
    {
     "data": {
      "application/vnd.jupyter.widget-view+json": {
       "model_id": "6b6127d8fe614d96aae903fc79c1a152",
       "version_major": 2,
       "version_minor": 0
      },
      "text/plain": [
       "  0%|          | 0/6 [00:00<?, ?it/s]"
      ]
     },
     "metadata": {},
     "output_type": "display_data"
    },
    {
     "data": {
      "application/vnd.jupyter.widget-view+json": {
       "model_id": "5ded6af9a1674de99feefcd8ccb9bee5",
       "version_major": 2,
       "version_minor": 0
      },
      "text/plain": [
       "  0%|          | 0/6 [00:00<?, ?it/s]"
      ]
     },
     "metadata": {},
     "output_type": "display_data"
    },
    {
     "data": {
      "application/vnd.jupyter.widget-view+json": {
       "model_id": "cec07c1a25d94ddfa06c6060f7c8b803",
       "version_major": 2,
       "version_minor": 0
      },
      "text/plain": [
       "  0%|          | 0/6 [00:00<?, ?it/s]"
      ]
     },
     "metadata": {},
     "output_type": "display_data"
    },
    {
     "data": {
      "application/vnd.jupyter.widget-view+json": {
       "model_id": "3b239edbf5f946ecaa399643a1af0740",
       "version_major": 2,
       "version_minor": 0
      },
      "text/plain": [
       "  0%|          | 0/4 [00:00<?, ?it/s]"
      ]
     },
     "metadata": {},
     "output_type": "display_data"
    },
    {
     "data": {
      "application/vnd.jupyter.widget-view+json": {
       "model_id": "16ff7d80475c4d40b35bc821c8a5f34a",
       "version_major": 2,
       "version_minor": 0
      },
      "text/plain": [
       "  0%|          | 0/6 [00:00<?, ?it/s]"
      ]
     },
     "metadata": {},
     "output_type": "display_data"
    },
    {
     "data": {
      "application/vnd.jupyter.widget-view+json": {
       "model_id": "8624777d5ca34890b8fda0ae7bd22125",
       "version_major": 2,
       "version_minor": 0
      },
      "text/plain": [
       "  0%|          | 0/6 [00:00<?, ?it/s]"
      ]
     },
     "metadata": {},
     "output_type": "display_data"
    },
    {
     "data": {
      "application/vnd.jupyter.widget-view+json": {
       "model_id": "1190ccc626c34d56aedd7d83630980ca",
       "version_major": 2,
       "version_minor": 0
      },
      "text/plain": [
       "  0%|          | 0/6 [00:00<?, ?it/s]"
      ]
     },
     "metadata": {},
     "output_type": "display_data"
    },
    {
     "data": {
      "application/vnd.jupyter.widget-view+json": {
       "model_id": "07c5585d8df340ceb7cc2e7deb8a705e",
       "version_major": 2,
       "version_minor": 0
      },
      "text/plain": [
       "  0%|          | 0/6 [00:00<?, ?it/s]"
      ]
     },
     "metadata": {},
     "output_type": "display_data"
    },
    {
     "data": {
      "application/vnd.jupyter.widget-view+json": {
       "model_id": "6dbee5a6b8dd415cb41995957101a533",
       "version_major": 2,
       "version_minor": 0
      },
      "text/plain": [
       "  0%|          | 0/6 [00:00<?, ?it/s]"
      ]
     },
     "metadata": {},
     "output_type": "display_data"
    },
    {
     "data": {
      "application/vnd.jupyter.widget-view+json": {
       "model_id": "9b67a5dfe46a4dd298535bdc5581164b",
       "version_major": 2,
       "version_minor": 0
      },
      "text/plain": [
       "  0%|          | 0/6 [00:00<?, ?it/s]"
      ]
     },
     "metadata": {},
     "output_type": "display_data"
    },
    {
     "data": {
      "application/vnd.jupyter.widget-view+json": {
       "model_id": "07c6416b68a44b45afc68f384d5a769f",
       "version_major": 2,
       "version_minor": 0
      },
      "text/plain": [
       "  0%|          | 0/6 [00:00<?, ?it/s]"
      ]
     },
     "metadata": {},
     "output_type": "display_data"
    },
    {
     "data": {
      "application/vnd.jupyter.widget-view+json": {
       "model_id": "fe89d6897b9a4907a773605047361c54",
       "version_major": 2,
       "version_minor": 0
      },
      "text/plain": [
       "  0%|          | 0/6 [00:00<?, ?it/s]"
      ]
     },
     "metadata": {},
     "output_type": "display_data"
    },
    {
     "data": {
      "application/vnd.jupyter.widget-view+json": {
       "model_id": "12b236153d5347b1bb3c62b8861a04da",
       "version_major": 2,
       "version_minor": 0
      },
      "text/plain": [
       "  0%|          | 0/6 [00:00<?, ?it/s]"
      ]
     },
     "metadata": {},
     "output_type": "display_data"
    },
    {
     "data": {
      "application/vnd.jupyter.widget-view+json": {
       "model_id": "b43a9439f455485cbb914cc4a649f3ca",
       "version_major": 2,
       "version_minor": 0
      },
      "text/plain": [
       "  0%|          | 0/6 [00:00<?, ?it/s]"
      ]
     },
     "metadata": {},
     "output_type": "display_data"
    },
    {
     "data": {
      "application/vnd.jupyter.widget-view+json": {
       "model_id": "4272279686094ef698c01afe6c301051",
       "version_major": 2,
       "version_minor": 0
      },
      "text/plain": [
       "  0%|          | 0/6 [00:00<?, ?it/s]"
      ]
     },
     "metadata": {},
     "output_type": "display_data"
    }
   ],
   "source": [
    "''' Apply FR thresholds to spatial cells\n",
    "\n",
    "Run time < 1 min / session (167 sessions)\n",
    "\n",
    "'''\n",
    "\n",
    "track_length = 400 #cm\n",
    "b = 2 # cm / spatial bin\n",
    "dt = 0.02\n",
    "n_dark = 20 #trials\n",
    "lags = np.arange(0,801,1)\n",
    "\n",
    "#adjust paths\n",
    "load_folder = 'C:/Users/Python/Desktop/LocalData/filtered/'\n",
    "save_folder = 'C:/Users/Python/Desktop/LocalData/shuffscores/'\n",
    "shuffload_folder3 = 'C:/Users/Python/Desktop/Dryad/shuffle_scores/peakheights/'\n",
    "\n",
    "for m, session in zip(mice,sessions):\n",
    "    \n",
    "    for s in tdqm(session):\n",
    "        \n",
    "        d = data[m][s]\n",
    "        \n",
    "        #load in data\n",
    "        rawdata_file = 'RAW_' + m + '_' + s + '.npy'\n",
    "        behavior_file = 'BEHAVIOR_' + m + '_' + s + '.npy'\n",
    "        spikes_file = 'SPIKES_' + m + '_' + s +'.npy'\n",
    "        \n",
    "        raw = np.load(load_folder + rawdata_file, allow_pickle=True)\n",
    "        cell_IDs = raw.item().get('cellsfil')\n",
    "        behaviorfil = np.load(load_folder + behavior_file, allow_pickle=False)\n",
    "        Y = np.load(load_folder + spikes_file, allow_pickle=False) #pre-filtered for speeds >2cm/s, position-corrected spikes, 20 ms timebins\n",
    "        \n",
    "        posxfil = behaviorfil[:,0]\n",
    "        trial = behaviorfil[:,2]\n",
    "        trials = np.unique(trial)\n",
    "        postfil = behaviorfil[:,3]\n",
    "        rawtrialfil = raw.item().get('trialfil')\n",
    "        \n",
    "        Aidx = d['Aidx']\n",
    "        Bidx = d['Bidx']\n",
    "        \n",
    "        #load in spatial cells & interneurons classified elsewhere\n",
    "        spatialcell99 = d['spatialcell99']\n",
    "        spatialcells = cell_IDs[spatialcell99]\n",
    "        intn = d['intn']\n",
    "        \n",
    "        #define low FR cell group (mean FR <0.05 in the dark; 0.3 Hz overall); to be removed from grid cell group\n",
    "        stop_idx = np.where(trial <= 19)[0][-1].astype(int)\n",
    "        darkFR, _ , _ = ps.tuning_curve_bytrial(posxfil[:stop_idx], trial[:stop_idx], Y[:stop_idx,:], dt, b = 2, smooth=True, normalize=False, occupancy=True)\n",
    "        FR, _, _ = ps.tuning_curve(posxfil, Y, dt, b, smooth=True, l=2, SEM=False, occupancy=False)\n",
    "        lowfrcells = []\n",
    "        lowdarkfrcells = []\n",
    "        for i, c in enumerate(cell_IDs):\n",
    "            if np.mean(np.mean(darkFR[:,:,i], axis = 1)) <= 0.05:\n",
    "                lowdarkfrcells = np.append(lowdarkfrcells, c)\n",
    "            elif np.mean(FR[:,i]) < 0.3:\n",
    "                lowfrcells = np.append(lowfrcells, c)      \n",
    "                \n",
    "        #define indices excluding reward zone starts\n",
    "        reward = raw.item().get('reward')\n",
    "        centers = reward['centers']\n",
    "        centera = centers[0]\n",
    "        if centera == 270:\n",
    "            centerb = 370\n",
    "        else:\n",
    "            centerb = 270\n",
    "        \n",
    "        # generate aligned position tuning curve\n",
    "        aFR, abinned_pos, aFR_sem, occ = ps.tuning_curve(posxfil[Aidx], Y[Aidx,:], dt, b=2, smooth = True, l=5, SEM=True)\n",
    "        bFR, bbinned_pos, bFR_sem, occ = ps.tuning_curve(posxfil[Bidx], Y[Bidx,:], dt, b=2, smooth = True, l=5, SEM=True)\n",
    "        \n",
    "        #find indices of bins not including 50cm pre-post reward centers (220 to 255 and 320 to 355)\n",
    "        aidx = np.where((abinned_pos > (centera - 50)) & (abinned_pos <= (centera - 15)))\n",
    "        maska = np.ones(len(abinned_pos), bool)\n",
    "        maska[aidx] = 0\n",
    "        bidx = np.where((bbinned_pos > (centerb - 50)) & (bbinned_pos <= (centerb - 15)))\n",
    "        maskb = np.ones(len(bbinned_pos), bool)\n",
    "        maskb[bidx] = 0\n",
    "        \n",
    "        noisycells = []\n",
    "        for i, c in enumerate(cell_IDs):\n",
    "            if (np.mean(aFR_sem[maska,i]) > np.mean(aFR[maska,i])*.45) and (np.mean(bFR_sem[maskb,i]) > np.mean(bFR[maskb,i])*.45):\n",
    "                noisycells = np.append(noisycells, c)\n",
    "                \n",
    "        # filter out noisy cells from both grid and ngs cells and low firing grid cells    \n",
    "        for i, c in enumerate(cell_IDs):\n",
    "            #also require that dark FR > 0.05 Hz and mean FR > 0.3 Hz\n",
    "            if (c in lowfrcells) or (c in lowdarkfrcells):\n",
    "                spatialcell99[i] = 0\n",
    "                \n",
    "            if (c in noisycells):\n",
    "                spatialcell99[i] = 0\n",
    "                spatialcell99[i] = 0\n",
    "                \n",
    "        #Save booleans\n",
    "        spatialcell99 = spatialcell99.astype(bool)\n",
    "        d['spatialcell99'] = spatialcell99"
   ]
  },
  {
   "cell_type": "code",
   "execution_count": 12,
   "id": "891a4ec7",
   "metadata": {},
   "outputs": [
    {
     "data": {
      "application/vnd.jupyter.widget-view+json": {
       "model_id": "d0048413f47040c092abdf9db9cc73a6",
       "version_major": 2,
       "version_minor": 0
      },
      "text/plain": [
       "  0%|          | 0/3 [00:00<?, ?it/s]"
      ]
     },
     "metadata": {},
     "output_type": "display_data"
    },
    {
     "name": "stdout",
     "output_type": "stream",
     "text": [
      "A14, 083022_record1 n spatial cells: 67\n",
      "A14, 083122_record2 n spatial cells: 4\n",
      "A14, 090122_record3 n spatial cells: 24\n"
     ]
    },
    {
     "data": {
      "application/vnd.jupyter.widget-view+json": {
       "model_id": "947e917a4f5148459ae860a430871d30",
       "version_major": 2,
       "version_minor": 0
      },
      "text/plain": [
       "  0%|          | 0/6 [00:00<?, ?it/s]"
      ]
     },
     "metadata": {},
     "output_type": "display_data"
    },
    {
     "name": "stdout",
     "output_type": "stream",
     "text": [
      "A15, 083022_record1 n spatial cells: 10\n",
      "A15, 083122_record2 n spatial cells: 116\n",
      "A15, 090122_record3 n spatial cells: 128\n",
      "A15, 090222_record4 n spatial cells: 182\n",
      "A15, 090322_record5 n spatial cells: 74\n",
      "A15, 090422_record6 n spatial cells: 40\n"
     ]
    },
    {
     "data": {
      "application/vnd.jupyter.widget-view+json": {
       "model_id": "364658303c274f6b8cc79fcd6ca0d115",
       "version_major": 2,
       "version_minor": 0
      },
      "text/plain": [
       "  0%|          | 0/4 [00:00<?, ?it/s]"
      ]
     },
     "metadata": {},
     "output_type": "display_data"
    },
    {
     "name": "stdout",
     "output_type": "stream",
     "text": [
      "A16, 083022_record1 n spatial cells: 44\n",
      "A16, 083122_record2 n spatial cells: 93\n",
      "A16, 090122_record3 n spatial cells: 4\n",
      "A16, 090222_record4 n spatial cells: 52\n"
     ]
    },
    {
     "data": {
      "application/vnd.jupyter.widget-view+json": {
       "model_id": "0ac48bcfd9434960852cbc623387de15",
       "version_major": 2,
       "version_minor": 0
      },
      "text/plain": [
       "  0%|          | 0/6 [00:00<?, ?it/s]"
      ]
     },
     "metadata": {},
     "output_type": "display_data"
    },
    {
     "name": "stdout",
     "output_type": "stream",
     "text": [
      "A17, 082322_record1 n spatial cells: 3\n",
      "A17, 082422_record2 n spatial cells: 6\n",
      "A17, 082522_record3 n spatial cells: 71\n",
      "A17, 082622_record4 n spatial cells: 58\n",
      "A17, 082722_record5 n spatial cells: 40\n",
      "A17, 082822_record6 n spatial cells: 72\n"
     ]
    },
    {
     "data": {
      "application/vnd.jupyter.widget-view+json": {
       "model_id": "a500a46f920d42bcaa0e359c9b3c9647",
       "version_major": 2,
       "version_minor": 0
      },
      "text/plain": [
       "  0%|          | 0/6 [00:00<?, ?it/s]"
      ]
     },
     "metadata": {},
     "output_type": "display_data"
    },
    {
     "name": "stdout",
     "output_type": "stream",
     "text": [
      "A18, 082322_record1real n spatial cells: 30\n",
      "A18, 082422_record2 n spatial cells: 229\n",
      "A18, 082522_record3 n spatial cells: 198\n",
      "A18, 082622_record4 n spatial cells: 113\n",
      "A18, 082722_record5 n spatial cells: 59\n",
      "A18, 082822_record6 n spatial cells: 5\n"
     ]
    },
    {
     "data": {
      "application/vnd.jupyter.widget-view+json": {
       "model_id": "63c49a35f5474c15859db198aefa45f0",
       "version_major": 2,
       "version_minor": 0
      },
      "text/plain": [
       "  0%|          | 0/6 [00:00<?, ?it/s]"
      ]
     },
     "metadata": {},
     "output_type": "display_data"
    },
    {
     "name": "stdout",
     "output_type": "stream",
     "text": [
      "A19, 012723_record2 n spatial cells: 1\n",
      "A19, 012823_record3 n spatial cells: 106\n",
      "A19, 012923_record4 n spatial cells: 116\n",
      "A19, 013023_record5 n spatial cells: 91\n",
      "A19, 013123_record6 n spatial cells: 65\n",
      "A19, 020123_record7 n spatial cells: 81\n"
     ]
    },
    {
     "data": {
      "application/vnd.jupyter.widget-view+json": {
       "model_id": "46f12e96e10b43cc82e5541d2249a1a2",
       "version_major": 2,
       "version_minor": 0
      },
      "text/plain": [
       "  0%|          | 0/6 [00:00<?, ?it/s]"
      ]
     },
     "metadata": {},
     "output_type": "display_data"
    },
    {
     "name": "stdout",
     "output_type": "stream",
     "text": [
      "A20, 012623_record1 n spatial cells: 25\n",
      "A20, 012723_record2 n spatial cells: 72\n",
      "A20, 012823_record3 n spatial cells: 117\n",
      "A20, 012923_record4 n spatial cells: 59\n",
      "A20, 013023_record5 n spatial cells: 75\n",
      "A20, 013123_record6 n spatial cells: 41\n"
     ]
    },
    {
     "data": {
      "application/vnd.jupyter.widget-view+json": {
       "model_id": "831d848e995a40ef9e8f37297d58c486",
       "version_major": 2,
       "version_minor": 0
      },
      "text/plain": [
       "  0%|          | 0/6 [00:00<?, ?it/s]"
      ]
     },
     "metadata": {},
     "output_type": "display_data"
    },
    {
     "name": "stdout",
     "output_type": "stream",
     "text": [
      "A22, 012923_record2 n spatial cells: 95\n",
      "A22, 013023_record3 n spatial cells: 192\n",
      "A22, 013123_record4 n spatial cells: 96\n",
      "A22, 020123_record5 n spatial cells: 20\n",
      "A22, 020223_record6 n spatial cells: 68\n",
      "A22, 020323_record7 n spatial cells: 17\n"
     ]
    },
    {
     "data": {
      "application/vnd.jupyter.widget-view+json": {
       "model_id": "6ee0cae905ec43c18734f17f75220815",
       "version_major": 2,
       "version_minor": 0
      },
      "text/plain": [
       "  0%|          | 0/6 [00:00<?, ?it/s]"
      ]
     },
     "metadata": {},
     "output_type": "display_data"
    },
    {
     "name": "stdout",
     "output_type": "stream",
     "text": [
      "A23, 020923_record1 n spatial cells: 13\n",
      "A23, 021023_record2 n spatial cells: 85\n",
      "A23, 021123_record3 n spatial cells: 89\n",
      "A23, 021223_record4 n spatial cells: 10\n",
      "A23, 021323_record5 n spatial cells: 64\n",
      "A23, 021423_record6 n spatial cells: 103\n"
     ]
    },
    {
     "data": {
      "application/vnd.jupyter.widget-view+json": {
       "model_id": "2d95b40aa7344ec6ba448fa733006080",
       "version_major": 2,
       "version_minor": 0
      },
      "text/plain": [
       "  0%|          | 0/6 [00:00<?, ?it/s]"
      ]
     },
     "metadata": {},
     "output_type": "display_data"
    },
    {
     "name": "stdout",
     "output_type": "stream",
     "text": [
      "A24, 022623_record1 n spatial cells: 91\n",
      "A24, 022723_record2 n spatial cells: 189\n",
      "A24, 022823_record3 n spatial cells: 122\n",
      "A24, 030123_record4 n spatial cells: 100\n",
      "A24, 030223_record5 n spatial cells: 81\n",
      "A24, 030323_record6 n spatial cells: 37\n"
     ]
    },
    {
     "data": {
      "application/vnd.jupyter.widget-view+json": {
       "model_id": "a6aaf63957684b55ab800f731c879cda",
       "version_major": 2,
       "version_minor": 0
      },
      "text/plain": [
       "  0%|          | 0/6 [00:00<?, ?it/s]"
      ]
     },
     "metadata": {},
     "output_type": "display_data"
    },
    {
     "name": "stdout",
     "output_type": "stream",
     "text": [
      "MA10F, 111322_record1 n spatial cells: 142\n",
      "MA10F, 111422_record2 n spatial cells: 93\n",
      "MA10F, 111522_record3 n spatial cells: 59\n",
      "MA10F, 111622_record4 n spatial cells: 41\n",
      "MA10F, 111722_record5 n spatial cells: 38\n",
      "MA10F, 111822_record6 n spatial cells: 85\n"
     ]
    },
    {
     "data": {
      "application/vnd.jupyter.widget-view+json": {
       "model_id": "6c9033c3f85e43309a670364ff3164eb",
       "version_major": 2,
       "version_minor": 0
      },
      "text/plain": [
       "  0%|          | 0/6 [00:00<?, ?it/s]"
      ]
     },
     "metadata": {},
     "output_type": "display_data"
    },
    {
     "name": "stdout",
     "output_type": "stream",
     "text": [
      "MA1F, 102322_record1 n spatial cells: 54\n",
      "MA1F, 102422_record2 n spatial cells: 79\n",
      "MA1F, 102522_record3 n spatial cells: 75\n",
      "MA1F, 102622_record4 n spatial cells: 19\n",
      "MA1F, 102722_record5 n spatial cells: 117\n",
      "MA1F, 102822_record6 n spatial cells: 100\n"
     ]
    },
    {
     "data": {
      "application/vnd.jupyter.widget-view+json": {
       "model_id": "23407d2ba6484a36a77da9af636f78ca",
       "version_major": 2,
       "version_minor": 0
      },
      "text/plain": [
       "  0%|          | 0/6 [00:00<?, ?it/s]"
      ]
     },
     "metadata": {},
     "output_type": "display_data"
    },
    {
     "name": "stdout",
     "output_type": "stream",
     "text": [
      "MA2F, 102322_record1 n spatial cells: 112\n",
      "MA2F, 102422_record2 n spatial cells: 128\n",
      "MA2F, 102522_record3 n spatial cells: 146\n",
      "MA2F, 102622_record4 n spatial cells: 102\n",
      "MA2F, 102722_record5 n spatial cells: 73\n",
      "MA2F, 102822_record6 n spatial cells: 85\n"
     ]
    },
    {
     "data": {
      "application/vnd.jupyter.widget-view+json": {
       "model_id": "14db2140600845218fe58132867e0dc8",
       "version_major": 2,
       "version_minor": 0
      },
      "text/plain": [
       "  0%|          | 0/6 [00:00<?, ?it/s]"
      ]
     },
     "metadata": {},
     "output_type": "display_data"
    },
    {
     "name": "stdout",
     "output_type": "stream",
     "text": [
      "MA3M, 102322_record1 n spatial cells: 25\n",
      "MA3M, 102422_record2 n spatial cells: 96\n",
      "MA3M, 102522_record3 n spatial cells: 64\n",
      "MA3M, 102622_record4 n spatial cells: 68\n",
      "MA3M, 102722_record5 n spatial cells: 40\n",
      "MA3M, 102822_record6 n spatial cells: 67\n"
     ]
    },
    {
     "data": {
      "application/vnd.jupyter.widget-view+json": {
       "model_id": "94253f47a25b4745a2bca6e0052f94ef",
       "version_major": 2,
       "version_minor": 0
      },
      "text/plain": [
       "  0%|          | 0/6 [00:00<?, ?it/s]"
      ]
     },
     "metadata": {},
     "output_type": "display_data"
    },
    {
     "name": "stdout",
     "output_type": "stream",
     "text": [
      "MA4M, 103122_record2 n spatial cells: 91\n",
      "MA4M, 110122_record3 n spatial cells: 54\n",
      "MA4M, 110222_record4 n spatial cells: 19\n",
      "MA4M, 110322_record5rep n spatial cells: 43\n",
      "MA4M, 110422_record6 n spatial cells: 51\n",
      "MA4M, 110522_record7 n spatial cells: 17\n"
     ]
    },
    {
     "data": {
      "application/vnd.jupyter.widget-view+json": {
       "model_id": "41b9e839f3694473a6f9789cf09c5002",
       "version_major": 2,
       "version_minor": 0
      },
      "text/plain": [
       "  0%|          | 0/6 [00:00<?, ?it/s]"
      ]
     },
     "metadata": {},
     "output_type": "display_data"
    },
    {
     "name": "stdout",
     "output_type": "stream",
     "text": [
      "MA5M, 110622_record1 n spatial cells: 78\n",
      "MA5M, 110722_record2 n spatial cells: 138\n",
      "MA5M, 110822_record3 n spatial cells: 124\n",
      "MA5M, 110922_record4 n spatial cells: 21\n",
      "MA5M, 111022_record5 n spatial cells: 44\n",
      "MA5M, 111122_record6 n spatial cells: 42\n"
     ]
    },
    {
     "data": {
      "application/vnd.jupyter.widget-view+json": {
       "model_id": "47ff279f9bd840829661202bb79be36d",
       "version_major": 2,
       "version_minor": 0
      },
      "text/plain": [
       "  0%|          | 0/6 [00:00<?, ?it/s]"
      ]
     },
     "metadata": {},
     "output_type": "display_data"
    },
    {
     "name": "stdout",
     "output_type": "stream",
     "text": [
      "MA6M, 103022_record1 n spatial cells: 94\n",
      "MA6M, 103122_record2 n spatial cells: 68\n",
      "MA6M, 110122_record3 n spatial cells: 124\n",
      "MA6M, 110222_record4 n spatial cells: 26\n",
      "MA6M, 110322_record5 n spatial cells: 21\n",
      "MA6M, 110422_record6 n spatial cells: 68\n"
     ]
    },
    {
     "data": {
      "application/vnd.jupyter.widget-view+json": {
       "model_id": "6acf372174444178afc7c146b454818e",
       "version_major": 2,
       "version_minor": 0
      },
      "text/plain": [
       "  0%|          | 0/4 [00:00<?, ?it/s]"
      ]
     },
     "metadata": {},
     "output_type": "display_data"
    },
    {
     "name": "stdout",
     "output_type": "stream",
     "text": [
      "MA7M, 103022_record1 n spatial cells: 61\n",
      "MA7M, 103122_record2 n spatial cells: 86\n",
      "MA7M, 110122_record3 n spatial cells: 57\n",
      "MA7M, 110222_record4 n spatial cells: 11\n"
     ]
    },
    {
     "data": {
      "application/vnd.jupyter.widget-view+json": {
       "model_id": "08748c12d60b4f51a806b492494fa34e",
       "version_major": 2,
       "version_minor": 0
      },
      "text/plain": [
       "  0%|          | 0/6 [00:00<?, ?it/s]"
      ]
     },
     "metadata": {},
     "output_type": "display_data"
    },
    {
     "name": "stdout",
     "output_type": "stream",
     "text": [
      "MA8F, 111322_record1 n spatial cells: 27\n",
      "MA8F, 111422_record2 n spatial cells: 118\n",
      "MA8F, 111522_record3 n spatial cells: 111\n",
      "MA8F, 111622_record4 n spatial cells: 61\n",
      "MA8F, 111722_record5 n spatial cells: 41\n",
      "MA8F, 111822_record6 n spatial cells: 29\n"
     ]
    },
    {
     "data": {
      "application/vnd.jupyter.widget-view+json": {
       "model_id": "a73da55ddaa0473494e46cdfa58ebdf5",
       "version_major": 2,
       "version_minor": 0
      },
      "text/plain": [
       "  0%|          | 0/6 [00:00<?, ?it/s]"
      ]
     },
     "metadata": {},
     "output_type": "display_data"
    },
    {
     "name": "stdout",
     "output_type": "stream",
     "text": [
      "MA9F, 111322_record1 n spatial cells: 74\n",
      "MA9F, 111422_record2 n spatial cells: 220\n",
      "MA9F, 111522_record3 n spatial cells: 164\n",
      "MA9F, 111622_record4 n spatial cells: 1\n",
      "MA9F, 111722_record5 n spatial cells: 49\n",
      "MA9F, 111822_record6 n spatial cells: 38\n"
     ]
    },
    {
     "data": {
      "application/vnd.jupyter.widget-view+json": {
       "model_id": "e2d1dbc95d9b47649558a11c283b6df7",
       "version_major": 2,
       "version_minor": 0
      },
      "text/plain": [
       "  0%|          | 0/6 [00:00<?, ?it/s]"
      ]
     },
     "metadata": {},
     "output_type": "display_data"
    },
    {
     "name": "stdout",
     "output_type": "stream",
     "text": [
      "Y20, 092522_record1 n spatial cells: 15\n",
      "Y20, 092622_record2 n spatial cells: 68\n",
      "Y20, 092722_record3 n spatial cells: 21\n",
      "Y20, 092822_record4 n spatial cells: 82\n",
      "Y20, 092922_record5 n spatial cells: 33\n",
      "Y20, 093022_record6 n spatial cells: 160\n"
     ]
    },
    {
     "data": {
      "application/vnd.jupyter.widget-view+json": {
       "model_id": "ab6cd781403b49f186fa22c7a182b0c9",
       "version_major": 2,
       "version_minor": 0
      },
      "text/plain": [
       "  0%|          | 0/6 [00:00<?, ?it/s]"
      ]
     },
     "metadata": {},
     "output_type": "display_data"
    },
    {
     "name": "stdout",
     "output_type": "stream",
     "text": [
      "Y21, 091822_record1 n spatial cells: 163\n",
      "Y21, 091922_record2 n spatial cells: 169\n",
      "Y21, 092022_record3 n spatial cells: 62\n",
      "Y21, 092122_record4 n spatial cells: 111\n",
      "Y21, 092222_record5 n spatial cells: 75\n",
      "Y21, 092322_record6 n spatial cells: 26\n"
     ]
    },
    {
     "data": {
      "application/vnd.jupyter.widget-view+json": {
       "model_id": "36099e513a04419f881074de55cfd6b3",
       "version_major": 2,
       "version_minor": 0
      },
      "text/plain": [
       "  0%|          | 0/6 [00:00<?, ?it/s]"
      ]
     },
     "metadata": {},
     "output_type": "display_data"
    },
    {
     "name": "stdout",
     "output_type": "stream",
     "text": [
      "Y22, 092522_record1 n spatial cells: 136\n",
      "Y22, 092622_record2 n spatial cells: 200\n",
      "Y22, 092722_record3 n spatial cells: 156\n",
      "Y22, 092822_record4 n spatial cells: 44\n",
      "Y22, 092922_record5 n spatial cells: 47\n",
      "Y22, 093022_record6 n spatial cells: 91\n"
     ]
    },
    {
     "data": {
      "application/vnd.jupyter.widget-view+json": {
       "model_id": "cf8690cec61d44aba252470805009343",
       "version_major": 2,
       "version_minor": 0
      },
      "text/plain": [
       "  0%|          | 0/6 [00:00<?, ?it/s]"
      ]
     },
     "metadata": {},
     "output_type": "display_data"
    },
    {
     "name": "stdout",
     "output_type": "stream",
     "text": [
      "Y23, 092522_record1 n spatial cells: 51\n",
      "Y23, 092622_record2 n spatial cells: 38\n",
      "Y23, 092722_record3 n spatial cells: 64\n",
      "Y23, 092822_record4 n spatial cells: 59\n",
      "Y23, 092922_record5 n spatial cells: 91\n",
      "Y23, 093022_record6 n spatial cells: 132\n"
     ]
    },
    {
     "data": {
      "application/vnd.jupyter.widget-view+json": {
       "model_id": "c8e93c40bd8d4c0db8f1243f2e9b04d3",
       "version_major": 2,
       "version_minor": 0
      },
      "text/plain": [
       "  0%|          | 0/6 [00:00<?, ?it/s]"
      ]
     },
     "metadata": {},
     "output_type": "display_data"
    },
    {
     "name": "stdout",
     "output_type": "stream",
     "text": [
      "Y24, 091822_record1 n spatial cells: 150\n",
      "Y24, 091922_record2 n spatial cells: 86\n",
      "Y24, 092022_record3 n spatial cells: 137\n",
      "Y24, 092122_record4 n spatial cells: 149\n",
      "Y24, 092222_record5 n spatial cells: 125\n",
      "Y24, 092322_record6 n spatial cells: 123\n"
     ]
    },
    {
     "data": {
      "application/vnd.jupyter.widget-view+json": {
       "model_id": "b81d747dbde845e7b9a4df70fc42f842",
       "version_major": 2,
       "version_minor": 0
      },
      "text/plain": [
       "  0%|          | 0/6 [00:00<?, ?it/s]"
      ]
     },
     "metadata": {},
     "output_type": "display_data"
    },
    {
     "name": "stdout",
     "output_type": "stream",
     "text": [
      "Y25, 021623_record1 n spatial cells: 1\n",
      "Y25, 021723_record2 n spatial cells: 117\n",
      "Y25, 021823_record3 n spatial cells: 89\n",
      "Y25, 021923_record4 n spatial cells: 78\n",
      "Y25, 022023_record5 n spatial cells: 83\n",
      "Y25, 022123_record6 n spatial cells: 25\n"
     ]
    },
    {
     "data": {
      "application/vnd.jupyter.widget-view+json": {
       "model_id": "ba866bd3a4f146f68aabb9672b83de2b",
       "version_major": 2,
       "version_minor": 0
      },
      "text/plain": [
       "  0%|          | 0/6 [00:00<?, ?it/s]"
      ]
     },
     "metadata": {},
     "output_type": "display_data"
    },
    {
     "name": "stdout",
     "output_type": "stream",
     "text": [
      "Y26, 021623_record1 n spatial cells: 79\n",
      "Y26, 021723_record2 n spatial cells: 83\n",
      "Y26, 021823_record3 n spatial cells: 51\n",
      "Y26, 021923_record4 n spatial cells: 3\n",
      "Y26, 022023_record5 n spatial cells: 35\n",
      "Y26, 022123_record6 n spatial cells: 6\n"
     ]
    },
    {
     "data": {
      "application/vnd.jupyter.widget-view+json": {
       "model_id": "efd54d55e5714115b29d5ce3cb78f715",
       "version_major": 2,
       "version_minor": 0
      },
      "text/plain": [
       "  0%|          | 0/6 [00:00<?, ?it/s]"
      ]
     },
     "metadata": {},
     "output_type": "display_data"
    },
    {
     "name": "stdout",
     "output_type": "stream",
     "text": [
      "Y27, 021623_record1 n spatial cells: 94\n",
      "Y27, 021723_record2 n spatial cells: 57\n",
      "Y27, 021823_record3 n spatial cells: 53\n",
      "Y27, 021923_record4 n spatial cells: 35\n",
      "Y27, 022023_record5rep n spatial cells: 71\n",
      "Y27, 022123_record6 n spatial cells: 94\n"
     ]
    },
    {
     "data": {
      "application/vnd.jupyter.widget-view+json": {
       "model_id": "0e9df299352c4c058261c5d6f86f82ca",
       "version_major": 2,
       "version_minor": 0
      },
      "text/plain": [
       "  0%|          | 0/6 [00:00<?, ?it/s]"
      ]
     },
     "metadata": {},
     "output_type": "display_data"
    },
    {
     "name": "stdout",
     "output_type": "stream",
     "text": [
      "Y28, 022623_record1 n spatial cells: 35\n",
      "Y28, 022723_record2 n spatial cells: 85\n",
      "Y28, 022823_record3 n spatial cells: 73\n",
      "Y28, 030123_record4 n spatial cells: 49\n",
      "Y28, 030223_record5 n spatial cells: 114\n",
      "Y28, 030323_record6 n spatial cells: 89\n"
     ]
    }
   ],
   "source": [
    "''' Load saved spatial cell booleans & glance at overall density '''\n",
    "\n",
    "save_folder = 'C:/Users/Python/Desktop/LocalData/shuffscores/'\n",
    "\n",
    "perspatial = []\n",
    "sperspatial = []\n",
    "mperspatial = []\n",
    "\n",
    "for m, session in zip(mice,sessions):\n",
    "    \n",
    "    m_perspatial = []\n",
    "    m_cells = []\n",
    "    \n",
    "    for s in tdqm(session):\n",
    "        d = data[m][s]\n",
    "        \n",
    "        #load in data\n",
    "        rawdata_file = 'RAW_' + m + '_' + s + '.npy'\n",
    "        raw = np.load(load_folder + rawdata_file, allow_pickle=True)\n",
    "        cell_IDs = raw.item().get('cellsfil')\n",
    "        \n",
    "        spatialcell = d['spatialcell99'].astype(bool)\n",
    "        \n",
    "        print(m + ', ' + s + ' n spatial cells: '+ str(np.sum(spatialcell)))\n",
    "        perspatial = np.append(perspatial, 100*np.sum(spatialcell)/len(cell_IDs))        \n",
    "        sperspatial = np.append(sperspatial, 100*np.sum(spatialcell)/len(cell_IDs))\n",
    "        m_perspatial = np.append(m_perspatial, np.sum(spatialcell))\n",
    "        m_cells = np.append(m_cells, len(cell_IDs))\n",
    "    \n",
    "    mperspatial = np.append(mperspatial, np.sum(m_perspatial)/np.sum(m_cells)*100)"
   ]
  },
  {
   "cell_type": "code",
   "execution_count": 13,
   "id": "166c93d8",
   "metadata": {},
   "outputs": [
    {
     "name": "stdout",
     "output_type": "stream",
     "text": [
      "Mean, SEM Spatial Cell %\n",
      "29.15809617608128 0.9674108723859292\n"
     ]
    },
    {
     "data": {
      "image/png": "[encoded data removed]",
      "text/plain": [
       "<Figure size 230x250 with 1 Axes>"
      ]
     },
     "metadata": {},
     "output_type": "display_data"
    }
   ],
   "source": [
    "''' Examine spatial cell densities quickly as a sanity check'''\n",
    "\n",
    "# Assess distribution of spatial/ngs cell densities\n",
    "print('Mean, SEM Spatial Cell %')\n",
    "print(np.mean(perspatial), stats.sem(perspatial))\n",
    "\n",
    "#plot spatial cell % distributions\n",
    "fig, ax = plt.subplots(1,1,figsize = (2.3,2.5), sharey = True)\n",
    "ax.hist(perspatial, bins = np.arange(0,80,2), edgecolor = 'black',alpha = 0.5, color = 'C0')\n",
    "ax.set_title('Sessions vs. Spatial Cell %')\n",
    "ax.set_ylabel('Number of Sessions')\n",
    "ax.set_xlabel('Spatial Cell %')\n",
    "\n",
    "plt.show()"
   ]
  },
  {
   "cell_type": "code",
   "execution_count": 14,
   "id": "9367f332",
   "metadata": {},
   "outputs": [
    {
     "name": "stdout",
     "output_type": "stream",
     "text": [
      "['Y20' 'Y21' 'Y22' 'Y23' 'Y24' 'Y25' 'Y26' 'Y27' 'Y28'] ['MA10F' 'MA1F' 'MA2F' 'MA3M' 'MA4M' 'MA5M' 'MA6M' 'MA7M' 'MA8F' 'MA9F'] ['A14' 'A15' 'A16' 'A17' 'A18' 'A19' 'A20' 'A22' 'A23' 'A24']\n",
      "9 10 10\n",
      "54 58 55\n"
     ]
    }
   ],
   "source": [
    "'''Get Indices of Stored Session, Animal Data Mice by Age Group'''\n",
    "save_folder = 'C:/Users/Python/Desktop/LocalData/spatialcellssm/'\n",
    "\n",
    "age_ind = []\n",
    "ma_ind = []\n",
    "y_ind = []\n",
    "age_sind = []\n",
    "ma_sind = []\n",
    "y_sind = []\n",
    "\n",
    "s_count = 0\n",
    "for m, s in zip(mice, sessions):\n",
    "    start = s_count\n",
    "    end = len(s) + s_count\n",
    "\n",
    "    if m in all_aged_mice:\n",
    "        age_ind = np.append(age_ind, (np.where(mice == m)[0]))\n",
    "        age_sind = np.append(age_sind, np.arange(start, end, 1))\n",
    "    elif m in all_MA_mice:\n",
    "        ma_ind = np.append(ma_ind, (np.where(mice == m)[0]))\n",
    "        ma_sind = np.append(ma_sind, np.arange(start, end, 1))\n",
    "    else:\n",
    "        y_ind = np.append(y_ind, (np.where(mice == m)[0]))\n",
    "        y_sind = np.append(y_sind, np.arange(start, end, 1))\n",
    "                            \n",
    "    s_count += len(s)\n",
    "    \n",
    "age_ind = age_ind.astype(int)\n",
    "ma_ind = ma_ind.astype(int)\n",
    "y_ind = y_ind.astype(int)\n",
    "age_sind = age_sind.astype(int)\n",
    "ma_sind = ma_sind.astype(int)\n",
    "y_sind = y_sind.astype(int)\n",
    "\n",
    "print(mice[y_ind], mice[ma_ind], mice[age_ind])\n",
    "print(len(mice[y_ind]), len(mice[ma_ind]), len(mice[age_ind]))\n",
    "print(len(y_sind), len(ma_sind), len(age_sind))\n",
    "Nold = len(mice[age_ind])\n",
    "Nma = len(mice[ma_ind])\n",
    "Nyoung = len(mice[y_ind])"
   ]
  },
  {
   "cell_type": "code",
   "execution_count": 15,
   "id": "7d4add13",
   "metadata": {},
   "outputs": [],
   "source": [
    "''' Define ColorMaps for Session & Animal Boxplots '''\n",
    "import matplotlib.pylab as pl\n",
    "import matplotlib.lines as mlines\n",
    "\n",
    "col_animal_old = pl.cm.Oranges([np.linspace(0.2,0.9,10)])\n",
    "col_animal_MA = pl.cm.Greens([np.linspace(0.2,0.9,10)])\n",
    "col_animal_young = pl.cm.Blues([np.linspace(0.2,0.9,9)])\n",
    "col_animal = [col_animal_young, col_animal_MA, col_animal_old]\n",
    "\n",
    "col_session_young = []\n",
    "col_session_MA = []\n",
    "col_session_old = []\n",
    "\n",
    "for m, session in zip(mice, sessions):\n",
    "    for s in range(0,len(session)):\n",
    "        \n",
    "        if m in SM_aged_mice:\n",
    "            idx = np.where(mice == m)[0][0] \n",
    "            col_session_old.append(col_animal[2][0][idx])           \n",
    "        elif m in SM_MA_mice:\n",
    "            idx = np.where(mice == m)[0][0] - Nold\n",
    "            col_session_MA.append(col_animal[1][0][idx])\n",
    "        else:\n",
    "            idx = np.where(mice == m)[0][0] - (Nold + Nma)\n",
    "            col_session_young.append(col_animal[0][0][idx])\n",
    "\n",
    "col_session = [col_session_young, col_session_MA, col_session_old]\n",
    "label_mice = ['Y20', 'Y21', 'Y22', 'Y23', 'Y24', 'Y25', 'Y26', 'Y27', 'Y28', \"\",\n",
    "              'MA10F', 'MA1F', 'MA2F', 'MA3M', 'MA4M', 'MA5M', 'MA6M', 'MA7M', 'MA8F', 'MA9F',\n",
    "              'A14', 'A15', 'A16', 'A17', 'A18', 'A19', 'A20', 'A22', 'A23', 'A24']"
   ]
  },
  {
   "cell_type": "markdown",
   "id": "9c182e59",
   "metadata": {},
   "source": [
    "# Load computed Spatial FR Tensor"
   ]
  },
  {
   "cell_type": "code",
   "execution_count": 16,
   "id": "e0e1fd79",
   "metadata": {
    "scrolled": true
   },
   "outputs": [
    {
     "data": {
      "application/vnd.jupyter.widget-view+json": {
       "model_id": "0c72f3c254864bd98aaf2367dfd67ae0",
       "version_major": 2,
       "version_minor": 0
      },
      "text/plain": [
       "  0%|          | 0/3 [00:00<?, ?it/s]"
      ]
     },
     "metadata": {},
     "output_type": "display_data"
    },
    {
     "name": "stdout",
     "output_type": "stream",
     "text": [
      "too few spatial cells in session: A14, 083122_record2\n"
     ]
    },
    {
     "data": {
      "application/vnd.jupyter.widget-view+json": {
       "model_id": "fc899cefec2d4d1b9130a6457e3392b8",
       "version_major": 2,
       "version_minor": 0
      },
      "text/plain": [
       "  0%|          | 0/6 [00:00<?, ?it/s]"
      ]
     },
     "metadata": {},
     "output_type": "display_data"
    },
    {
     "name": "stdout",
     "output_type": "stream",
     "text": [
      "too few spatial cells in session: A15, 083022_record1\n"
     ]
    },
    {
     "data": {
      "application/vnd.jupyter.widget-view+json": {
       "model_id": "41d660f2610644b0ace9fada2c823f95",
       "version_major": 2,
       "version_minor": 0
      },
      "text/plain": [
       "  0%|          | 0/4 [00:00<?, ?it/s]"
      ]
     },
     "metadata": {},
     "output_type": "display_data"
    },
    {
     "name": "stdout",
     "output_type": "stream",
     "text": [
      "too few spatial cells in session: A16, 090122_record3\n"
     ]
    },
    {
     "data": {
      "application/vnd.jupyter.widget-view+json": {
       "model_id": "e452af34c7ec4e69a222d145583e5b0a",
       "version_major": 2,
       "version_minor": 0
      },
      "text/plain": [
       "  0%|          | 0/6 [00:00<?, ?it/s]"
      ]
     },
     "metadata": {},
     "output_type": "display_data"
    },
    {
     "name": "stdout",
     "output_type": "stream",
     "text": [
      "too few spatial cells in session: A17, 082322_record1\n",
      "too few spatial cells in session: A17, 082422_record2\n"
     ]
    },
    {
     "data": {
      "application/vnd.jupyter.widget-view+json": {
       "model_id": "db9c12422010450e9fed8b82ae319514",
       "version_major": 2,
       "version_minor": 0
      },
      "text/plain": [
       "  0%|          | 0/6 [00:00<?, ?it/s]"
      ]
     },
     "metadata": {},
     "output_type": "display_data"
    },
    {
     "name": "stdout",
     "output_type": "stream",
     "text": [
      "too few spatial cells in session: A18, 082822_record6\n"
     ]
    },
    {
     "data": {
      "application/vnd.jupyter.widget-view+json": {
       "model_id": "50d4859e93ac4affbb1e9b949db9fe98",
       "version_major": 2,
       "version_minor": 0
      },
      "text/plain": [
       "  0%|          | 0/6 [00:00<?, ?it/s]"
      ]
     },
     "metadata": {},
     "output_type": "display_data"
    },
    {
     "name": "stdout",
     "output_type": "stream",
     "text": [
      "too few spatial cells in session: A19, 012723_record2\n"
     ]
    },
    {
     "data": {
      "application/vnd.jupyter.widget-view+json": {
       "model_id": "a24f61661eed4bf2b8ef37bc4b7bdc79",
       "version_major": 2,
       "version_minor": 0
      },
      "text/plain": [
       "  0%|          | 0/6 [00:00<?, ?it/s]"
      ]
     },
     "metadata": {},
     "output_type": "display_data"
    },
    {
     "data": {
      "application/vnd.jupyter.widget-view+json": {
       "model_id": "3c06d16c4ddf420c88927b0390924de4",
       "version_major": 2,
       "version_minor": 0
      },
      "text/plain": [
       "  0%|          | 0/6 [00:00<?, ?it/s]"
      ]
     },
     "metadata": {},
     "output_type": "display_data"
    },
    {
     "data": {
      "application/vnd.jupyter.widget-view+json": {
       "model_id": "79e7bcaa6f2e4fcbbe1e2398e3565ae4",
       "version_major": 2,
       "version_minor": 0
      },
      "text/plain": [
       "  0%|          | 0/6 [00:00<?, ?it/s]"
      ]
     },
     "metadata": {},
     "output_type": "display_data"
    },
    {
     "name": "stdout",
     "output_type": "stream",
     "text": [
      "too few spatial cells in session: A23, 021223_record4\n"
     ]
    },
    {
     "data": {
      "application/vnd.jupyter.widget-view+json": {
       "model_id": "497a76261f294b74815b924c0600f545",
       "version_major": 2,
       "version_minor": 0
      },
      "text/plain": [
       "  0%|          | 0/6 [00:00<?, ?it/s]"
      ]
     },
     "metadata": {},
     "output_type": "display_data"
    },
    {
     "data": {
      "application/vnd.jupyter.widget-view+json": {
       "model_id": "b3bc32bfb7b1430d8c180f5a6df89557",
       "version_major": 2,
       "version_minor": 0
      },
      "text/plain": [
       "  0%|          | 0/6 [00:00<?, ?it/s]"
      ]
     },
     "metadata": {},
     "output_type": "display_data"
    },
    {
     "data": {
      "application/vnd.jupyter.widget-view+json": {
       "model_id": "ed89ea8c4c104cda9d892152b8e58e05",
       "version_major": 2,
       "version_minor": 0
      },
      "text/plain": [
       "  0%|          | 0/6 [00:00<?, ?it/s]"
      ]
     },
     "metadata": {},
     "output_type": "display_data"
    },
    {
     "data": {
      "application/vnd.jupyter.widget-view+json": {
       "model_id": "1684b3d6b8d043bbb193adc468f55579",
       "version_major": 2,
       "version_minor": 0
      },
      "text/plain": [
       "  0%|          | 0/6 [00:00<?, ?it/s]"
      ]
     },
     "metadata": {},
     "output_type": "display_data"
    },
    {
     "data": {
      "application/vnd.jupyter.widget-view+json": {
       "model_id": "5c2f9d6e242449b39a704c107818de2a",
       "version_major": 2,
       "version_minor": 0
      },
      "text/plain": [
       "  0%|          | 0/6 [00:00<?, ?it/s]"
      ]
     },
     "metadata": {},
     "output_type": "display_data"
    },
    {
     "data": {
      "application/vnd.jupyter.widget-view+json": {
       "model_id": "ccabad211888410f8e53ef671e9afb18",
       "version_major": 2,
       "version_minor": 0
      },
      "text/plain": [
       "  0%|          | 0/6 [00:00<?, ?it/s]"
      ]
     },
     "metadata": {},
     "output_type": "display_data"
    },
    {
     "data": {
      "application/vnd.jupyter.widget-view+json": {
       "model_id": "3d277db642a14f01bbcd651412ada27c",
       "version_major": 2,
       "version_minor": 0
      },
      "text/plain": [
       "  0%|          | 0/6 [00:00<?, ?it/s]"
      ]
     },
     "metadata": {},
     "output_type": "display_data"
    },
    {
     "data": {
      "application/vnd.jupyter.widget-view+json": {
       "model_id": "d9a258d007e740d7b12d0d22a20f5ad1",
       "version_major": 2,
       "version_minor": 0
      },
      "text/plain": [
       "  0%|          | 0/6 [00:00<?, ?it/s]"
      ]
     },
     "metadata": {},
     "output_type": "display_data"
    },
    {
     "data": {
      "application/vnd.jupyter.widget-view+json": {
       "model_id": "f5659365bd7c443193a730966a32852a",
       "version_major": 2,
       "version_minor": 0
      },
      "text/plain": [
       "  0%|          | 0/4 [00:00<?, ?it/s]"
      ]
     },
     "metadata": {},
     "output_type": "display_data"
    },
    {
     "data": {
      "application/vnd.jupyter.widget-view+json": {
       "model_id": "11e156570eb241f09a8dbacdb6788afc",
       "version_major": 2,
       "version_minor": 0
      },
      "text/plain": [
       "  0%|          | 0/6 [00:00<?, ?it/s]"
      ]
     },
     "metadata": {},
     "output_type": "display_data"
    },
    {
     "data": {
      "application/vnd.jupyter.widget-view+json": {
       "model_id": "47cb0d91bdc24d31acf5a0551c31bb6e",
       "version_major": 2,
       "version_minor": 0
      },
      "text/plain": [
       "  0%|          | 0/6 [00:00<?, ?it/s]"
      ]
     },
     "metadata": {},
     "output_type": "display_data"
    },
    {
     "name": "stdout",
     "output_type": "stream",
     "text": [
      "too few spatial cells in session: MA9F, 111622_record4\n"
     ]
    },
    {
     "data": {
      "application/vnd.jupyter.widget-view+json": {
       "model_id": "9487bf25d5284969ae65c1b78462ba95",
       "version_major": 2,
       "version_minor": 0
      },
      "text/plain": [
       "  0%|          | 0/6 [00:00<?, ?it/s]"
      ]
     },
     "metadata": {},
     "output_type": "display_data"
    },
    {
     "data": {
      "application/vnd.jupyter.widget-view+json": {
       "model_id": "c0a6cc24b8b44886a7af60a420d14011",
       "version_major": 2,
       "version_minor": 0
      },
      "text/plain": [
       "  0%|          | 0/6 [00:00<?, ?it/s]"
      ]
     },
     "metadata": {},
     "output_type": "display_data"
    },
    {
     "data": {
      "application/vnd.jupyter.widget-view+json": {
       "model_id": "ce1d43b47c094490a2cde98eebd554f5",
       "version_major": 2,
       "version_minor": 0
      },
      "text/plain": [
       "  0%|          | 0/6 [00:00<?, ?it/s]"
      ]
     },
     "metadata": {},
     "output_type": "display_data"
    },
    {
     "data": {
      "application/vnd.jupyter.widget-view+json": {
       "model_id": "b1e53facb3104913b0c277c9d662acfb",
       "version_major": 2,
       "version_minor": 0
      },
      "text/plain": [
       "  0%|          | 0/6 [00:00<?, ?it/s]"
      ]
     },
     "metadata": {},
     "output_type": "display_data"
    },
    {
     "data": {
      "application/vnd.jupyter.widget-view+json": {
       "model_id": "6a17ec9db52d4f58b05e40f21ed42316",
       "version_major": 2,
       "version_minor": 0
      },
      "text/plain": [
       "  0%|          | 0/6 [00:00<?, ?it/s]"
      ]
     },
     "metadata": {},
     "output_type": "display_data"
    },
    {
     "data": {
      "application/vnd.jupyter.widget-view+json": {
       "model_id": "3804c71410d04435aac8b7591abf82e2",
       "version_major": 2,
       "version_minor": 0
      },
      "text/plain": [
       "  0%|          | 0/6 [00:00<?, ?it/s]"
      ]
     },
     "metadata": {},
     "output_type": "display_data"
    },
    {
     "name": "stdout",
     "output_type": "stream",
     "text": [
      "too few spatial cells in session: Y25, 021623_record1\n"
     ]
    },
    {
     "data": {
      "application/vnd.jupyter.widget-view+json": {
       "model_id": "ea0f3e5acf7247edbf60aece91f03a3f",
       "version_major": 2,
       "version_minor": 0
      },
      "text/plain": [
       "  0%|          | 0/6 [00:00<?, ?it/s]"
      ]
     },
     "metadata": {},
     "output_type": "display_data"
    },
    {
     "name": "stdout",
     "output_type": "stream",
     "text": [
      "too few spatial cells in session: Y26, 021923_record4\n",
      "too few spatial cells in session: Y26, 022123_record6\n"
     ]
    },
    {
     "data": {
      "application/vnd.jupyter.widget-view+json": {
       "model_id": "e3e9162ae5e546eaa0e63b864b5fb531",
       "version_major": 2,
       "version_minor": 0
      },
      "text/plain": [
       "  0%|          | 0/6 [00:00<?, ?it/s]"
      ]
     },
     "metadata": {},
     "output_type": "display_data"
    },
    {
     "data": {
      "application/vnd.jupyter.widget-view+json": {
       "model_id": "cd0e53284cfb4eb4a9357077e29b9dec",
       "version_major": 2,
       "version_minor": 0
      },
      "text/plain": [
       "  0%|          | 0/6 [00:00<?, ?it/s]"
      ]
     },
     "metadata": {},
     "output_type": "display_data"
    }
   ],
   "source": [
    "''' Load Sorted Normalized FR Tensor for Grid Network in Back of Track, excluding Gain Change Period '''\n",
    "\n",
    "from scipy.spatial.distance import pdist\n",
    "from scipy.spatial.distance import squareform\n",
    "\n",
    "dt = 0.02\n",
    "save_folder = 'C:/Users/Python/Desktop/LocalData/spatialcellssm/simmatrices/'\n",
    "\n",
    "for m, session in zip(mice, sessions):\n",
    "    for s in tdqm(session):\n",
    "        d = data[m][s]\n",
    "         \n",
    "        VRbackidx_file = 'VRbackidx_' + m + '_' + s + '.npy'\n",
    "        VRbackidx = np.load(save_folder + VRbackidx_file)\n",
    "        d['VRbackidx'] = VRbackidx\n",
    "        \n",
    "        skippedrawtrialfil_file = 'skippedrawtrialfil_' + m + '_' + s + '.npy'\n",
    "        skippedrawtrialfil = np.load(save_folder + skippedrawtrialfil_file)\n",
    "        d['skippedrawtrialfil'] = skippedrawtrialfil\n",
    "        \n",
    "        #get some data & cell IDs\n",
    "        rawdata_file = 'RAW_' + m + '_' + s + '.npy'\n",
    "        raw = np.load(load_folder + rawdata_file, allow_pickle=True)\n",
    "        \n",
    "        cell_IDs = raw.item().get('cellsfil')\n",
    "        spatialcell = d['spatialcell99'].astype(bool)\n",
    "        spatialcells = cell_IDs[spatialcell]     \n",
    "        \n",
    "        if len(spatialcells) > 10:\n",
    "            #load grid network FR tensor \n",
    "            FRtensor_file = 'SM_spatialFRtensorbacksorted_' + m + '_' + s + '.npy'\n",
    "            normspatialFR = np.load(save_folder + FRtensor_file)\n",
    "            d['spatialFRtensorbacksorted'] = normspatialFR \n",
    "            \n",
    "            #get grid network trial by trial sim matrix \n",
    "            normspatialFR_unwrapped = np.reshape(normspatialFR, (normspatialFR.shape[0], -1))\n",
    "            sim_vec = np.abs(pdist(normspatialFR_unwrapped, 'correlation')-1)\n",
    "            sim = squareform(sim_vec)  \n",
    "            d['spatialsimilaritybacksorted'] = sim\n",
    "        else:\n",
    "            print('too few spatial cells in session: ' + str(m) + ', ' + str(s))"
   ]
  },
  {
   "cell_type": "markdown",
   "id": "9428f9fe",
   "metadata": {},
   "source": [
    "# Load results of k optimization code in Figure 3 & S4 notebook. "
   ]
  },
  {
   "cell_type": "code",
   "execution_count": 17,
   "id": "88954809",
   "metadata": {},
   "outputs": [],
   "source": [
    "''' Load in KMeans '''\n",
    "\n",
    "from lvl.factor_models import KMeans as lvl_kmeans\n",
    "from lvl.factor_models import NMF as lvl_soft_kmeans\n",
    "from lvl.resamplers import RotationResampler\n",
    "from lvl.crossval import speckled_cv_scores \n",
    "from scipy.spatial.distance import cdist \n",
    "from scipy.special import logsumexp\n",
    "from sklearn.metrics import silhouette_samples, silhouette_score\n",
    "\n",
    "def softmax(M):\n",
    "    return np.exp(M - logsumexp(M, axis=-1, keepdims=True))"
   ]
  },
  {
   "cell_type": "code",
   "execution_count": 16,
   "id": "a3d23090",
   "metadata": {
    "scrolled": true
   },
   "outputs": [
    {
     "data": {
      "application/vnd.jupyter.widget-view+json": {
       "model_id": "baeaaa0b23da450a8d89b2cd313c0cad",
       "version_major": 2,
       "version_minor": 0
      },
      "text/plain": [
       "  0%|          | 0/3 [00:00<?, ?it/s]"
      ]
     },
     "metadata": {},
     "output_type": "display_data"
    },
    {
     "data": {
      "application/vnd.jupyter.widget-view+json": {
       "model_id": "a768b2ac4c9b48029048c63382be4b58",
       "version_major": 2,
       "version_minor": 0
      },
      "text/plain": [
       "  0%|          | 0/6 [00:00<?, ?it/s]"
      ]
     },
     "metadata": {},
     "output_type": "display_data"
    },
    {
     "data": {
      "application/vnd.jupyter.widget-view+json": {
       "model_id": "1eec3d5783524112ad8e6575abd24135",
       "version_major": 2,
       "version_minor": 0
      },
      "text/plain": [
       "  0%|          | 0/4 [00:00<?, ?it/s]"
      ]
     },
     "metadata": {},
     "output_type": "display_data"
    },
    {
     "data": {
      "application/vnd.jupyter.widget-view+json": {
       "model_id": "2f4411f736454425970f82408294a920",
       "version_major": 2,
       "version_minor": 0
      },
      "text/plain": [
       "  0%|          | 0/6 [00:00<?, ?it/s]"
      ]
     },
     "metadata": {},
     "output_type": "display_data"
    },
    {
     "data": {
      "application/vnd.jupyter.widget-view+json": {
       "model_id": "a3bc5f4193d943eeba5229ae6b4dd260",
       "version_major": 2,
       "version_minor": 0
      },
      "text/plain": [
       "  0%|          | 0/6 [00:00<?, ?it/s]"
      ]
     },
     "metadata": {},
     "output_type": "display_data"
    },
    {
     "data": {
      "application/vnd.jupyter.widget-view+json": {
       "model_id": "6cd9f0c78f0348cd8d0f530beae8f87f",
       "version_major": 2,
       "version_minor": 0
      },
      "text/plain": [
       "  0%|          | 0/6 [00:00<?, ?it/s]"
      ]
     },
     "metadata": {},
     "output_type": "display_data"
    },
    {
     "data": {
      "application/vnd.jupyter.widget-view+json": {
       "model_id": "bd128f115e24418980b4258ac3d20d30",
       "version_major": 2,
       "version_minor": 0
      },
      "text/plain": [
       "  0%|          | 0/6 [00:00<?, ?it/s]"
      ]
     },
     "metadata": {},
     "output_type": "display_data"
    },
    {
     "data": {
      "application/vnd.jupyter.widget-view+json": {
       "model_id": "a0357b2aec7543e19a84e9cd4db490f1",
       "version_major": 2,
       "version_minor": 0
      },
      "text/plain": [
       "  0%|          | 0/6 [00:00<?, ?it/s]"
      ]
     },
     "metadata": {},
     "output_type": "display_data"
    },
    {
     "data": {
      "application/vnd.jupyter.widget-view+json": {
       "model_id": "6b0994a458dc4f8593c4577b7abe90e5",
       "version_major": 2,
       "version_minor": 0
      },
      "text/plain": [
       "  0%|          | 0/6 [00:00<?, ?it/s]"
      ]
     },
     "metadata": {},
     "output_type": "display_data"
    },
    {
     "data": {
      "application/vnd.jupyter.widget-view+json": {
       "model_id": "1a58a631e7904880a5eb03b129fd4333",
       "version_major": 2,
       "version_minor": 0
      },
      "text/plain": [
       "  0%|          | 0/6 [00:00<?, ?it/s]"
      ]
     },
     "metadata": {},
     "output_type": "display_data"
    },
    {
     "data": {
      "application/vnd.jupyter.widget-view+json": {
       "model_id": "84c370a6541f46cba04947f8e7c66e04",
       "version_major": 2,
       "version_minor": 0
      },
      "text/plain": [
       "  0%|          | 0/6 [00:00<?, ?it/s]"
      ]
     },
     "metadata": {},
     "output_type": "display_data"
    },
    {
     "data": {
      "application/vnd.jupyter.widget-view+json": {
       "model_id": "0a0943ef43644d2db2268bf20fae5a08",
       "version_major": 2,
       "version_minor": 0
      },
      "text/plain": [
       "  0%|          | 0/6 [00:00<?, ?it/s]"
      ]
     },
     "metadata": {},
     "output_type": "display_data"
    },
    {
     "data": {
      "application/vnd.jupyter.widget-view+json": {
       "model_id": "09150b771f5641a58a5f4a368d71f6ed",
       "version_major": 2,
       "version_minor": 0
      },
      "text/plain": [
       "  0%|          | 0/6 [00:00<?, ?it/s]"
      ]
     },
     "metadata": {},
     "output_type": "display_data"
    },
    {
     "data": {
      "application/vnd.jupyter.widget-view+json": {
       "model_id": "05862198ffff40829c7422c1196273f2",
       "version_major": 2,
       "version_minor": 0
      },
      "text/plain": [
       "  0%|          | 0/6 [00:00<?, ?it/s]"
      ]
     },
     "metadata": {},
     "output_type": "display_data"
    },
    {
     "data": {
      "application/vnd.jupyter.widget-view+json": {
       "model_id": "b6d781fc2ea549f8b9b8ca9316be4039",
       "version_major": 2,
       "version_minor": 0
      },
      "text/plain": [
       "  0%|          | 0/6 [00:00<?, ?it/s]"
      ]
     },
     "metadata": {},
     "output_type": "display_data"
    },
    {
     "data": {
      "application/vnd.jupyter.widget-view+json": {
       "model_id": "5a4c6c631813462286dcf35b4f21947f",
       "version_major": 2,
       "version_minor": 0
      },
      "text/plain": [
       "  0%|          | 0/6 [00:00<?, ?it/s]"
      ]
     },
     "metadata": {},
     "output_type": "display_data"
    },
    {
     "data": {
      "application/vnd.jupyter.widget-view+json": {
       "model_id": "cb559b274d3a4260a22e4679c1e5df64",
       "version_major": 2,
       "version_minor": 0
      },
      "text/plain": [
       "  0%|          | 0/6 [00:00<?, ?it/s]"
      ]
     },
     "metadata": {},
     "output_type": "display_data"
    },
    {
     "data": {
      "application/vnd.jupyter.widget-view+json": {
       "model_id": "84114b90ad64466fbdc02f9d3ac0bd87",
       "version_major": 2,
       "version_minor": 0
      },
      "text/plain": [
       "  0%|          | 0/4 [00:00<?, ?it/s]"
      ]
     },
     "metadata": {},
     "output_type": "display_data"
    },
    {
     "data": {
      "application/vnd.jupyter.widget-view+json": {
       "model_id": "34f021eb886442258b2868b38e5cc855",
       "version_major": 2,
       "version_minor": 0
      },
      "text/plain": [
       "  0%|          | 0/6 [00:00<?, ?it/s]"
      ]
     },
     "metadata": {},
     "output_type": "display_data"
    },
    {
     "data": {
      "application/vnd.jupyter.widget-view+json": {
       "model_id": "2511bbfd35f44023a8b10058bde2b362",
       "version_major": 2,
       "version_minor": 0
      },
      "text/plain": [
       "  0%|          | 0/6 [00:00<?, ?it/s]"
      ]
     },
     "metadata": {},
     "output_type": "display_data"
    },
    {
     "data": {
      "application/vnd.jupyter.widget-view+json": {
       "model_id": "bd0d21653fca4dc0bc2a62c9248a8fe6",
       "version_major": 2,
       "version_minor": 0
      },
      "text/plain": [
       "  0%|          | 0/6 [00:00<?, ?it/s]"
      ]
     },
     "metadata": {},
     "output_type": "display_data"
    },
    {
     "data": {
      "application/vnd.jupyter.widget-view+json": {
       "model_id": "0c3359fd345e444b98253255e4a0630e",
       "version_major": 2,
       "version_minor": 0
      },
      "text/plain": [
       "  0%|          | 0/6 [00:00<?, ?it/s]"
      ]
     },
     "metadata": {},
     "output_type": "display_data"
    },
    {
     "data": {
      "application/vnd.jupyter.widget-view+json": {
       "model_id": "b04b1f7f775c41809f42067b69ea8dff",
       "version_major": 2,
       "version_minor": 0
      },
      "text/plain": [
       "  0%|          | 0/6 [00:00<?, ?it/s]"
      ]
     },
     "metadata": {},
     "output_type": "display_data"
    },
    {
     "data": {
      "application/vnd.jupyter.widget-view+json": {
       "model_id": "5fff030d1c524c67884d2d60d5a53ef9",
       "version_major": 2,
       "version_minor": 0
      },
      "text/plain": [
       "  0%|          | 0/6 [00:00<?, ?it/s]"
      ]
     },
     "metadata": {},
     "output_type": "display_data"
    },
    {
     "data": {
      "application/vnd.jupyter.widget-view+json": {
       "model_id": "b42c09159bb64964b77cff72ce314704",
       "version_major": 2,
       "version_minor": 0
      },
      "text/plain": [
       "  0%|          | 0/6 [00:00<?, ?it/s]"
      ]
     },
     "metadata": {},
     "output_type": "display_data"
    },
    {
     "data": {
      "application/vnd.jupyter.widget-view+json": {
       "model_id": "7787c1770cbe44b8b01027bdcf8fdf17",
       "version_major": 2,
       "version_minor": 0
      },
      "text/plain": [
       "  0%|          | 0/6 [00:00<?, ?it/s]"
      ]
     },
     "metadata": {},
     "output_type": "display_data"
    },
    {
     "data": {
      "application/vnd.jupyter.widget-view+json": {
       "model_id": "70ffef5235c14b47b1227d3ba331b216",
       "version_major": 2,
       "version_minor": 0
      },
      "text/plain": [
       "  0%|          | 0/6 [00:00<?, ?it/s]"
      ]
     },
     "metadata": {},
     "output_type": "display_data"
    },
    {
     "data": {
      "application/vnd.jupyter.widget-view+json": {
       "model_id": "20628edf520f4efd83969dc472bb17ea",
       "version_major": 2,
       "version_minor": 0
      },
      "text/plain": [
       "  0%|          | 0/6 [00:00<?, ?it/s]"
      ]
     },
     "metadata": {},
     "output_type": "display_data"
    },
    {
     "data": {
      "application/vnd.jupyter.widget-view+json": {
       "model_id": "e2e7c7067bea4912a71ffd9d63c0a04d",
       "version_major": 2,
       "version_minor": 0
      },
      "text/plain": [
       "  0%|          | 0/6 [00:00<?, ?it/s]"
      ]
     },
     "metadata": {},
     "output_type": "display_data"
    }
   ],
   "source": [
    "''' After k optimization, load in results & perform K-means '''\n",
    "\n",
    "kmeans_folder = 'C:/Users/Python/Desktop/LocalData/spatialcellssm/kmeans/spatial/' #adjust path to output above this \n",
    "\n",
    "from scipy.spatial.distance import pdist\n",
    "from scipy.spatial.distance import squareform\n",
    "\n",
    "for m, session in zip(mice, sessions):\n",
    "    for s in tdqm(session):\n",
    "        d = data[m][s]\n",
    "                \n",
    "        rawdata_file = 'RAW_' + m + '_' + s + '.npy'\n",
    "        raw = np.load(load_folder + rawdata_file, allow_pickle=True)\n",
    "        cell_IDs = raw.item().get('cellsfil')\n",
    "        spatialcell = d['spatialcell99'].astype(bool)\n",
    "        spatialcells = cell_IDs[spatialcell]     \n",
    "        \n",
    "        if len(spatialcells) > 10: \n",
    "            \n",
    "            #Load stuff I have saved previously\n",
    "            SilN_file = 'SilN_' + m + '_' + s + '.npy'\n",
    "            SilN = np.load(kmeans_folder + SilN_file)\n",
    "            \n",
    "            #fit K-means\n",
    "            Y = d['spatialFRtensorbacksorted'].copy()\n",
    "            Y = Y.transpose(0, 2, 1)\n",
    "            Y_unwrapped = np.reshape(Y, (Y.shape[0], -1))\n",
    "            \n",
    "            model_kmeans = lvl_kmeans(n_components = SilN, n_restarts = 100)\n",
    "            model_kmeans.fit(Y_unwrapped)\n",
    "            W, H = model_kmeans.factors\n",
    "            Y_hat = model_kmeans.predict()\n",
    "            score = model_kmeans.score(Y_unwrapped)\n",
    "            d['kmeans'] = {}\n",
    "            d['kmeans']['SilN'] = SilN\n",
    "            d['kmeans']['W'] = W\n",
    "            d['kmeans']['H'] = H\n",
    "            d['kmeans']['Y_hat'] = Y_hat \n",
    "            d['kmeans']['Y_hat'] = Y_hat \n",
    "            d['kmeans']['score'] = score\n",
    "            \n",
    "            #load boolean to determine if I should keep k-means map in dataset (better than shuffle at chosen k)\n",
    "            onemapfile = 'onemap' + m + '_' + s + '.npy'\n",
    "            onemap = np.load(kmeans_folder + onemapfile)\n",
    "            d['kmeans']['onemap'] = onemap"
   ]
  },
  {
   "cell_type": "code",
   "execution_count": 17,
   "id": "e9a34eed",
   "metadata": {
    "scrolled": true
   },
   "outputs": [
    {
     "data": {
      "application/vnd.jupyter.widget-view+json": {
       "model_id": "504c39ff01424adab521da9755ed63c8",
       "version_major": 2,
       "version_minor": 0
      },
      "text/plain": [
       "  0%|          | 0/3 [00:00<?, ?it/s]"
      ]
     },
     "metadata": {},
     "output_type": "display_data"
    },
    {
     "data": {
      "application/vnd.jupyter.widget-view+json": {
       "model_id": "98e8d269d84e472b890b052388044031",
       "version_major": 2,
       "version_minor": 0
      },
      "text/plain": [
       "  0%|          | 0/6 [00:00<?, ?it/s]"
      ]
     },
     "metadata": {},
     "output_type": "display_data"
    },
    {
     "data": {
      "application/vnd.jupyter.widget-view+json": {
       "model_id": "406d22350b6c4d3aa8207b169bf191a3",
       "version_major": 2,
       "version_minor": 0
      },
      "text/plain": [
       "  0%|          | 0/4 [00:00<?, ?it/s]"
      ]
     },
     "metadata": {},
     "output_type": "display_data"
    },
    {
     "data": {
      "application/vnd.jupyter.widget-view+json": {
       "model_id": "be69c49de01846e5bf72be674e9c8fbd",
       "version_major": 2,
       "version_minor": 0
      },
      "text/plain": [
       "  0%|          | 0/6 [00:00<?, ?it/s]"
      ]
     },
     "metadata": {},
     "output_type": "display_data"
    },
    {
     "data": {
      "application/vnd.jupyter.widget-view+json": {
       "model_id": "92f5bd3a64b849b7b4914e7df6b19938",
       "version_major": 2,
       "version_minor": 0
      },
      "text/plain": [
       "  0%|          | 0/6 [00:00<?, ?it/s]"
      ]
     },
     "metadata": {},
     "output_type": "display_data"
    },
    {
     "data": {
      "application/vnd.jupyter.widget-view+json": {
       "model_id": "61ce35a547f94df6bee8dc528a76292a",
       "version_major": 2,
       "version_minor": 0
      },
      "text/plain": [
       "  0%|          | 0/6 [00:00<?, ?it/s]"
      ]
     },
     "metadata": {},
     "output_type": "display_data"
    },
    {
     "data": {
      "application/vnd.jupyter.widget-view+json": {
       "model_id": "9c545ab3e4cc4d27b49dc0ebd0bfc695",
       "version_major": 2,
       "version_minor": 0
      },
      "text/plain": [
       "  0%|          | 0/6 [00:00<?, ?it/s]"
      ]
     },
     "metadata": {},
     "output_type": "display_data"
    },
    {
     "data": {
      "application/vnd.jupyter.widget-view+json": {
       "model_id": "e1974e8c92c04b1480aefc2459496ca9",
       "version_major": 2,
       "version_minor": 0
      },
      "text/plain": [
       "  0%|          | 0/6 [00:00<?, ?it/s]"
      ]
     },
     "metadata": {},
     "output_type": "display_data"
    },
    {
     "data": {
      "application/vnd.jupyter.widget-view+json": {
       "model_id": "8394a320f99f4eb2b49e438e4fc94b84",
       "version_major": 2,
       "version_minor": 0
      },
      "text/plain": [
       "  0%|          | 0/6 [00:00<?, ?it/s]"
      ]
     },
     "metadata": {},
     "output_type": "display_data"
    },
    {
     "data": {
      "application/vnd.jupyter.widget-view+json": {
       "model_id": "6717170fdbd246d0a15e1c1302f8cdf1",
       "version_major": 2,
       "version_minor": 0
      },
      "text/plain": [
       "  0%|          | 0/6 [00:00<?, ?it/s]"
      ]
     },
     "metadata": {},
     "output_type": "display_data"
    },
    {
     "data": {
      "application/vnd.jupyter.widget-view+json": {
       "model_id": "bf43df6426c544249ea8f98a3963252a",
       "version_major": 2,
       "version_minor": 0
      },
      "text/plain": [
       "  0%|          | 0/6 [00:00<?, ?it/s]"
      ]
     },
     "metadata": {},
     "output_type": "display_data"
    },
    {
     "data": {
      "application/vnd.jupyter.widget-view+json": {
       "model_id": "ba196f867df445b0bb585e322c818a37",
       "version_major": 2,
       "version_minor": 0
      },
      "text/plain": [
       "  0%|          | 0/6 [00:00<?, ?it/s]"
      ]
     },
     "metadata": {},
     "output_type": "display_data"
    },
    {
     "data": {
      "application/vnd.jupyter.widget-view+json": {
       "model_id": "612a66a2df6f43a797697db504535046",
       "version_major": 2,
       "version_minor": 0
      },
      "text/plain": [
       "  0%|          | 0/6 [00:00<?, ?it/s]"
      ]
     },
     "metadata": {},
     "output_type": "display_data"
    },
    {
     "data": {
      "application/vnd.jupyter.widget-view+json": {
       "model_id": "43665a0152054b62a0878dc32489ff76",
       "version_major": 2,
       "version_minor": 0
      },
      "text/plain": [
       "  0%|          | 0/6 [00:00<?, ?it/s]"
      ]
     },
     "metadata": {},
     "output_type": "display_data"
    },
    {
     "data": {
      "application/vnd.jupyter.widget-view+json": {
       "model_id": "bc617a79380649c8b514fd91a04f2aa9",
       "version_major": 2,
       "version_minor": 0
      },
      "text/plain": [
       "  0%|          | 0/6 [00:00<?, ?it/s]"
      ]
     },
     "metadata": {},
     "output_type": "display_data"
    },
    {
     "data": {
      "application/vnd.jupyter.widget-view+json": {
       "model_id": "5dd49709babd45d782922c5686a991fb",
       "version_major": 2,
       "version_minor": 0
      },
      "text/plain": [
       "  0%|          | 0/6 [00:00<?, ?it/s]"
      ]
     },
     "metadata": {},
     "output_type": "display_data"
    },
    {
     "data": {
      "application/vnd.jupyter.widget-view+json": {
       "model_id": "4ac9b0bbca7d48e2b61c2167ee5f4e61",
       "version_major": 2,
       "version_minor": 0
      },
      "text/plain": [
       "  0%|          | 0/6 [00:00<?, ?it/s]"
      ]
     },
     "metadata": {},
     "output_type": "display_data"
    },
    {
     "data": {
      "application/vnd.jupyter.widget-view+json": {
       "model_id": "eeafdfef85694747960109445f322009",
       "version_major": 2,
       "version_minor": 0
      },
      "text/plain": [
       "  0%|          | 0/4 [00:00<?, ?it/s]"
      ]
     },
     "metadata": {},
     "output_type": "display_data"
    },
    {
     "data": {
      "application/vnd.jupyter.widget-view+json": {
       "model_id": "6673a3a00ce442d594606d5ac1741d66",
       "version_major": 2,
       "version_minor": 0
      },
      "text/plain": [
       "  0%|          | 0/6 [00:00<?, ?it/s]"
      ]
     },
     "metadata": {},
     "output_type": "display_data"
    },
    {
     "data": {
      "application/vnd.jupyter.widget-view+json": {
       "model_id": "674595a1fdad49538b4f0ecc85724ea5",
       "version_major": 2,
       "version_minor": 0
      },
      "text/plain": [
       "  0%|          | 0/6 [00:00<?, ?it/s]"
      ]
     },
     "metadata": {},
     "output_type": "display_data"
    },
    {
     "data": {
      "application/vnd.jupyter.widget-view+json": {
       "model_id": "bbe7ec9141154c5d8a555de6befd83d2",
       "version_major": 2,
       "version_minor": 0
      },
      "text/plain": [
       "  0%|          | 0/6 [00:00<?, ?it/s]"
      ]
     },
     "metadata": {},
     "output_type": "display_data"
    },
    {
     "data": {
      "application/vnd.jupyter.widget-view+json": {
       "model_id": "bada7e74a49b475ab2e0dc2a058a6d71",
       "version_major": 2,
       "version_minor": 0
      },
      "text/plain": [
       "  0%|          | 0/6 [00:00<?, ?it/s]"
      ]
     },
     "metadata": {},
     "output_type": "display_data"
    },
    {
     "data": {
      "application/vnd.jupyter.widget-view+json": {
       "model_id": "47b2b819870641c3846bc3c7a2814932",
       "version_major": 2,
       "version_minor": 0
      },
      "text/plain": [
       "  0%|          | 0/6 [00:00<?, ?it/s]"
      ]
     },
     "metadata": {},
     "output_type": "display_data"
    },
    {
     "data": {
      "application/vnd.jupyter.widget-view+json": {
       "model_id": "20a663ceb6e943aa805adabdf5148675",
       "version_major": 2,
       "version_minor": 0
      },
      "text/plain": [
       "  0%|          | 0/6 [00:00<?, ?it/s]"
      ]
     },
     "metadata": {},
     "output_type": "display_data"
    },
    {
     "data": {
      "application/vnd.jupyter.widget-view+json": {
       "model_id": "d775e356dcc0415e830964bae566dc5c",
       "version_major": 2,
       "version_minor": 0
      },
      "text/plain": [
       "  0%|          | 0/6 [00:00<?, ?it/s]"
      ]
     },
     "metadata": {},
     "output_type": "display_data"
    },
    {
     "data": {
      "application/vnd.jupyter.widget-view+json": {
       "model_id": "ecc3bd0332a8444c85f8f73a71588996",
       "version_major": 2,
       "version_minor": 0
      },
      "text/plain": [
       "  0%|          | 0/6 [00:00<?, ?it/s]"
      ]
     },
     "metadata": {},
     "output_type": "display_data"
    },
    {
     "data": {
      "application/vnd.jupyter.widget-view+json": {
       "model_id": "9e5f479d0f99472ea171fe0c203a83fa",
       "version_major": 2,
       "version_minor": 0
      },
      "text/plain": [
       "  0%|          | 0/6 [00:00<?, ?it/s]"
      ]
     },
     "metadata": {},
     "output_type": "display_data"
    },
    {
     "data": {
      "application/vnd.jupyter.widget-view+json": {
       "model_id": "6c287c7c8f094c1f9ee000f5f503c74b",
       "version_major": 2,
       "version_minor": 0
      },
      "text/plain": [
       "  0%|          | 0/6 [00:00<?, ?it/s]"
      ]
     },
     "metadata": {},
     "output_type": "display_data"
    },
    {
     "data": {
      "application/vnd.jupyter.widget-view+json": {
       "model_id": "efe80049cb834b4f9728423bb111749b",
       "version_major": 2,
       "version_minor": 0
      },
      "text/plain": [
       "  0%|          | 0/6 [00:00<?, ?it/s]"
      ]
     },
     "metadata": {},
     "output_type": "display_data"
    },
    {
     "ename": "NameError",
     "evalue": "name 'ax' is not defined",
     "output_type": "error",
     "traceback": [
      "\u001b[1;31m---------------------------------------------------------------------------\u001b[0m",
      "\u001b[1;31mNameError\u001b[0m                                 Traceback (most recent call last)",
      "Input \u001b[1;32mIn [17]\u001b[0m, in \u001b[0;36m<cell line: 104>\u001b[1;34m()\u001b[0m\n\u001b[0;32m    102\u001b[0m axes[\u001b[38;5;241m1\u001b[39m]\u001b[38;5;241m.\u001b[39mset_xticks([\u001b[38;5;241m0.25\u001b[39m, \u001b[38;5;241m0.5\u001b[39m, \u001b[38;5;241m0.75\u001b[39m])\n\u001b[0;32m    103\u001b[0m axes[\u001b[38;5;241m2\u001b[39m]\u001b[38;5;241m.\u001b[39mset_xticks([\u001b[38;5;241m0.25\u001b[39m, \u001b[38;5;241m0.5\u001b[39m, \u001b[38;5;241m0.75\u001b[39m])\n\u001b[1;32m--> 104\u001b[0m \u001b[43max\u001b[49m[\u001b[38;5;241m0\u001b[39m]\u001b[38;5;241m.\u001b[39mtick_params(labelsize \u001b[38;5;241m=\u001b[39m \u001b[38;5;241m8\u001b[39m)\n\u001b[0;32m    105\u001b[0m ax[\u001b[38;5;241m1\u001b[39m]\u001b[38;5;241m.\u001b[39mtick_params(labelsize \u001b[38;5;241m=\u001b[39m \u001b[38;5;241m8\u001b[39m)\n\u001b[0;32m    106\u001b[0m ax[\u001b[38;5;241m2\u001b[39m]\u001b[38;5;241m.\u001b[39mtick_params(labelsize \u001b[38;5;241m=\u001b[39m \u001b[38;5;241m8\u001b[39m)\n",
      "\u001b[1;31mNameError\u001b[0m: name 'ax' is not defined"
     ]
    },
    {
     "data": {
      "image/png": "[encoded data removed]",
      "text/plain": [
       "<Figure size 360x140 with 3 Axes>"
      ]
     },
     "metadata": {},
     "output_type": "display_data"
    }
   ],
   "source": [
    "''' Gather the relative performance of K-Means vs. TSVD at Optimal K\n",
    "\n",
    "Run time: ~30 - 45 seconds / session x 167 sessions\n",
    "\n",
    "'''\n",
    "\n",
    "from lvl.factor_models import TSVD\n",
    "save_folder = 'C:/Users/Python/Desktop/LocalData/spatialcellssm/kmeans/spatial/'\n",
    "\n",
    "# For every session with sufficient spatial cells, plot optimal K-means vs. TSVD performance\n",
    "ykmeansr2 = []\n",
    "ytsvdr2 = []\n",
    "yk = []\n",
    "\n",
    "makmeansr2 = []\n",
    "matsvdr2 = []\n",
    "mak = []\n",
    "\n",
    "akmeansr2 = []\n",
    "atsvdr2 = []\n",
    "ak = []\n",
    "\n",
    "n_repeats = 10\n",
    "UNITY_LW = 3\n",
    "n_ranks = 1\n",
    "\n",
    "for m, session in zip(mice, sessions):\n",
    "    for s in tdqm(session):\n",
    "        \n",
    "        d = data[m][s]\n",
    "\n",
    "        rawdata_file = 'RAW_' + m + '_' + s + '.npy'\n",
    "        behavior_file = 'BEHAVIOR_' + m + '_' + s + '.npy'\n",
    "        raw = np.load(load_folder + rawdata_file, allow_pickle=True)\n",
    "        cell_IDs = raw.item().get('cellsfil')\n",
    "        spatialcell = d['spatialcell99'].astype(bool)\n",
    "        spatialcells = cell_IDs[spatialcell]\n",
    "        \n",
    "        if len(spatialcells) > 10:\n",
    "            \n",
    "            #load in the real data\n",
    "            Y = d['spatialFRtensorbacksorted'].copy()\n",
    "            Y = Y.transpose(0, 2, 1)\n",
    "            Y_unwrapped = np.reshape(Y, (Y.shape[0], -1))\n",
    "            \n",
    "            SilN = d['kmeans']['SilN']\n",
    "            onemap = d['kmeans']['onemap'] # vector [one map boolean, WSR Stat, WSR P-Value]\n",
    "            \n",
    "            if onemap[0].astype(bool) == True:         \n",
    "                ranks = [1]\n",
    "            else:\n",
    "                SilN = int(SilN)\n",
    "                ranks = [SilN]\n",
    "\n",
    "            # Run cross-validated k-means with speckled holdout pattern \n",
    "            km_train_scores = np.ones((n_ranks, n_repeats))\n",
    "            km_test_scores = np.ones((n_ranks, n_repeats))\n",
    "            for i, rank in enumerate(ranks):\n",
    "                model = lvl_kmeans(n_components=rank, n_restarts=100, maxiter=1000)\n",
    "                km_train_scores[i], km_test_scores[i] = \\\n",
    "                    speckled_cv_scores(model, Y_unwrapped, n_repeats=n_repeats)\n",
    "            \n",
    "            # Run cross-validated truncated SVD with speckled holdout pattern.\n",
    "            tsvd_train_scores = np.ones((n_ranks, n_repeats))\n",
    "            tsvd_test_scores = np.ones((n_ranks, n_repeats))\n",
    "\n",
    "            for i, rank in enumerate(ranks):\n",
    "                model = TSVD(n_components=rank, method=\"als\", maxiter=1000)\n",
    "                tsvd_train_scores[i], tsvd_test_scores[i] = \\\n",
    "                    speckled_cv_scores(model, Y_unwrapped, n_repeats=n_repeats)\n",
    "            \n",
    "            if m in SM_aged_mice:\n",
    "                ak = np.append(ak, ranks)\n",
    "                akmeansr2 = np.append(akmeansr2, np.mean(km_test_scores))\n",
    "                atsvdr2 = np.append(atsvdr2, np.mean(tsvd_test_scores))\n",
    "            elif m in SM_MA_mice:\n",
    "                mak = np.append(mak, ranks)\n",
    "                makmeansr2 = np.append(makmeansr2, np.mean(km_test_scores))\n",
    "                matsvdr2 = np.append(matsvdr2, np.mean(tsvd_test_scores))\n",
    "            else:\n",
    "                yk = np.append(yk, ranks)\n",
    "                ykmeansr2 = np.append(ykmeansr2, np.mean(km_test_scores))\n",
    "                ytsvdr2 = np.append(ytsvdr2, np.mean(tsvd_test_scores))"
   ]
  },
  {
   "cell_type": "code",
   "execution_count": 25,
   "id": "baa53b9b",
   "metadata": {},
   "outputs": [
    {
     "data": {
      "image/png": "[encoded data removed]",
      "text/plain": [
       "<Figure size 360x140 with 3 Axes>"
      ]
     },
     "metadata": {},
     "output_type": "display_data"
    },
    {
     "name": "stdout",
     "output_type": "stream",
     "text": [
      "Aged Performance Correlation TSVD vs. KMeans: \n",
      "PearsonRResult(statistic=0.9736077056554269, pvalue=3.1888553972726685e-29)\n",
      "n aged sessions = 45\n",
      "\n",
      "MA Performance Correlation TSVD vs. KMeans: \n",
      "PearsonRResult(statistic=0.9835331126144395, pvalue=4.526881167746485e-38)\n",
      "n MA sessions = 51\n",
      "\n",
      "Young Performance Correlation TSVD vs. KMeans: \n",
      "PearsonRResult(statistic=0.9803804606157862, pvalue=4.300336871726248e-34)\n",
      "n MA sessions = 48\n"
     ]
    }
   ],
   "source": [
    "'''Plot Figure S5A (Right)'''\n",
    "fig, axes = plt.subplots(1, 3, figsize = (3.6,1.4), sharey=True)\n",
    "#fig.suptitle('Split Maze (All K)', fontsize = 10)\n",
    "rax = np.tile(ranks, (n_repeats, 1)).T.ravel()\n",
    "axes[2].scatter(atsvdr2, akmeansr2, s = ak*10, label = 'Aged', c = 'C1', alpha = 0.5, edgecolor = 'k')\n",
    "axes[1].scatter(matsvdr2, makmeansr2, s = mak*10, label = 'MA', c = 'C2', alpha = 0.5, edgecolor = 'k')\n",
    "axes[0].scatter(ytsvdr2, ykmeansr2, s = yk*10, label = 'Young', c = 'C0', alpha = 0.5, edgecolor = 'k')\n",
    "\n",
    "#label stuff\n",
    "axes[0].set_ylabel(\"R**2 K-Means\", fontsize = 9)\n",
    "axes[0].set_xlabel(\"R**2 TSVD\", fontsize = 9)\n",
    "axes[1].set_xlabel(\"R**2 TSVD\", fontsize = 9)\n",
    "axes[2].set_xlabel(\"R**2 TSVD\", fontsize = 9)\n",
    "axes[2].set_xlim([0.2, 0.75])\n",
    "axes[2].set_ylim([0.2, 0.75])\n",
    "axes[1].set_xlim([0.2, 0.75])\n",
    "axes[1].set_ylim([0.2, 0.75])\n",
    "axes[0].set_xlim([0.2, 0.75])\n",
    "axes[0].set_ylim([0.2, 0.75])\n",
    "axes[0].set_yticks([0.25, 0.5, 0.75])\n",
    "axes[0].set_xticks([0.25, 0.5, 0.75])\n",
    "axes[1].set_xticks([0.25, 0.5, 0.75])\n",
    "axes[2].set_xticks([0.25, 0.5, 0.75])\n",
    "axes[0].tick_params(labelsize = 8)\n",
    "axes[1].tick_params(labelsize = 8)\n",
    "axes[2].tick_params(labelsize = 8)\n",
    "\n",
    "#plot unity lines\n",
    "xlims = axes[0].get_xlim()\n",
    "ylims = axes[0].get_ylim()\n",
    "min_plot = np.min([xlims[0], ylims[0]])\n",
    "max_plot = np.max([xlims[1], ylims[1]])\n",
    "axes[0].plot([min_plot, max_plot], [min_plot, max_plot], '--k', lw=0.75, zorder=4, alpha=1)\n",
    "axes[1].plot([min_plot, max_plot], [min_plot, max_plot], '--k', lw=0.75, zorder=4, alpha=1)\n",
    "axes[2].plot([min_plot, max_plot], [min_plot, max_plot], '--k', lw=0.75, zorder=4, alpha=1)\n",
    "#axes[0].legend()\n",
    "#axes[1].legend()\n",
    "#axes[2].legend()\n",
    "#axes[1].set_title('Dot Size ~ Optimal K (1-4)')\n",
    "plt.tight_layout()\n",
    "\n",
    "#fig.savefig(save_folder + '_tsvdvsKmeanssplit.svg', dpi = 400)\n",
    "#fig.savefig(save_folder + '_tsvdvsKmeanssplit.png', dpi = 400)\n",
    "plt.show()\n",
    "\n",
    "print('Aged Performance Correlation TSVD vs. KMeans: ')\n",
    "print(stats.pearsonr(atsvdr2,akmeansr2))\n",
    "print('n aged sessions = ' + str(len(atsvdr2)))\n",
    "print('\\nMA Performance Correlation TSVD vs. KMeans: ')\n",
    "print(stats.pearsonr(matsvdr2,makmeansr2))\n",
    "print('n MA sessions = ' + str(len(matsvdr2)))\n",
    "print('\\nYoung Performance Correlation TSVD vs. KMeans: ')\n",
    "print(stats.pearsonr(ytsvdr2,ykmeansr2))\n",
    "print('n MA sessions = ' + str(len(ytsvdr2)))"
   ]
  },
  {
   "cell_type": "markdown",
   "id": "5f9aab01",
   "metadata": {},
   "source": [
    "# Re-label K-Means maps non-arbitrarily & examine alignment across vs. within map similarity."
   ]
  },
  {
   "cell_type": "code",
   "execution_count": 26,
   "id": "baa595f5",
   "metadata": {
    "scrolled": true
   },
   "outputs": [
    {
     "data": {
      "application/vnd.jupyter.widget-view+json": {
       "model_id": "c93beb80ad2d440f8ab979b271cd31ae",
       "version_major": 2,
       "version_minor": 0
      },
      "text/plain": [
       "  0%|          | 0/3 [00:00<?, ?it/s]"
      ]
     },
     "metadata": {},
     "output_type": "display_data"
    },
    {
     "data": {
      "application/vnd.jupyter.widget-view+json": {
       "model_id": "c0a3276f67ad4d158eb9ab044427fca7",
       "version_major": 2,
       "version_minor": 0
      },
      "text/plain": [
       "  0%|          | 0/6 [00:00<?, ?it/s]"
      ]
     },
     "metadata": {},
     "output_type": "display_data"
    },
    {
     "data": {
      "application/vnd.jupyter.widget-view+json": {
       "model_id": "00817d6cc15c4b488f1a8238d9002eda",
       "version_major": 2,
       "version_minor": 0
      },
      "text/plain": [
       "  0%|          | 0/4 [00:00<?, ?it/s]"
      ]
     },
     "metadata": {},
     "output_type": "display_data"
    },
    {
     "data": {
      "application/vnd.jupyter.widget-view+json": {
       "model_id": "9a8591d7ecfd44e59053c744ecb9349a",
       "version_major": 2,
       "version_minor": 0
      },
      "text/plain": [
       "  0%|          | 0/6 [00:00<?, ?it/s]"
      ]
     },
     "metadata": {},
     "output_type": "display_data"
    },
    {
     "data": {
      "application/vnd.jupyter.widget-view+json": {
       "model_id": "bd1690b783bf4ae7916f097a4a118276",
       "version_major": 2,
       "version_minor": 0
      },
      "text/plain": [
       "  0%|          | 0/6 [00:00<?, ?it/s]"
      ]
     },
     "metadata": {},
     "output_type": "display_data"
    },
    {
     "data": {
      "application/vnd.jupyter.widget-view+json": {
       "model_id": "0219b75719384dffae50578b9dccfc8e",
       "version_major": 2,
       "version_minor": 0
      },
      "text/plain": [
       "  0%|          | 0/6 [00:00<?, ?it/s]"
      ]
     },
     "metadata": {},
     "output_type": "display_data"
    },
    {
     "data": {
      "application/vnd.jupyter.widget-view+json": {
       "model_id": "a76acf514c4c4c649a83d158f8f2abf9",
       "version_major": 2,
       "version_minor": 0
      },
      "text/plain": [
       "  0%|          | 0/6 [00:00<?, ?it/s]"
      ]
     },
     "metadata": {},
     "output_type": "display_data"
    },
    {
     "data": {
      "application/vnd.jupyter.widget-view+json": {
       "model_id": "5aacf711cbb548fe859d0a891a06f8b6",
       "version_major": 2,
       "version_minor": 0
      },
      "text/plain": [
       "  0%|          | 0/6 [00:00<?, ?it/s]"
      ]
     },
     "metadata": {},
     "output_type": "display_data"
    },
    {
     "data": {
      "application/vnd.jupyter.widget-view+json": {
       "model_id": "2ca56d65488a4759a199bea62c822790",
       "version_major": 2,
       "version_minor": 0
      },
      "text/plain": [
       "  0%|          | 0/6 [00:00<?, ?it/s]"
      ]
     },
     "metadata": {},
     "output_type": "display_data"
    },
    {
     "data": {
      "application/vnd.jupyter.widget-view+json": {
       "model_id": "bdcffa9864e7460695c6fd75b857191a",
       "version_major": 2,
       "version_minor": 0
      },
      "text/plain": [
       "  0%|          | 0/6 [00:00<?, ?it/s]"
      ]
     },
     "metadata": {},
     "output_type": "display_data"
    },
    {
     "data": {
      "application/vnd.jupyter.widget-view+json": {
       "model_id": "4e5ca02a4bac40e2b754687b6ee919e8",
       "version_major": 2,
       "version_minor": 0
      },
      "text/plain": [
       "  0%|          | 0/6 [00:00<?, ?it/s]"
      ]
     },
     "metadata": {},
     "output_type": "display_data"
    },
    {
     "data": {
      "application/vnd.jupyter.widget-view+json": {
       "model_id": "8a89ad04bb75423fbe4f3d8b340aa440",
       "version_major": 2,
       "version_minor": 0
      },
      "text/plain": [
       "  0%|          | 0/6 [00:00<?, ?it/s]"
      ]
     },
     "metadata": {},
     "output_type": "display_data"
    },
    {
     "data": {
      "application/vnd.jupyter.widget-view+json": {
       "model_id": "67e410af80c04c648ca0fe6527d2744e",
       "version_major": 2,
       "version_minor": 0
      },
      "text/plain": [
       "  0%|          | 0/6 [00:00<?, ?it/s]"
      ]
     },
     "metadata": {},
     "output_type": "display_data"
    },
    {
     "data": {
      "application/vnd.jupyter.widget-view+json": {
       "model_id": "ad9b44bab47d43d090bdeccf36948c06",
       "version_major": 2,
       "version_minor": 0
      },
      "text/plain": [
       "  0%|          | 0/6 [00:00<?, ?it/s]"
      ]
     },
     "metadata": {},
     "output_type": "display_data"
    },
    {
     "data": {
      "application/vnd.jupyter.widget-view+json": {
       "model_id": "363e8a3b50394088ae94c8f48c6788ea",
       "version_major": 2,
       "version_minor": 0
      },
      "text/plain": [
       "  0%|          | 0/6 [00:00<?, ?it/s]"
      ]
     },
     "metadata": {},
     "output_type": "display_data"
    },
    {
     "data": {
      "application/vnd.jupyter.widget-view+json": {
       "model_id": "8f4a24afccf34b019bf0cde446b08b3e",
       "version_major": 2,
       "version_minor": 0
      },
      "text/plain": [
       "  0%|          | 0/6 [00:00<?, ?it/s]"
      ]
     },
     "metadata": {},
     "output_type": "display_data"
    },
    {
     "data": {
      "application/vnd.jupyter.widget-view+json": {
       "model_id": "a2f3e19d95304c79b2feed8040df1335",
       "version_major": 2,
       "version_minor": 0
      },
      "text/plain": [
       "  0%|          | 0/6 [00:00<?, ?it/s]"
      ]
     },
     "metadata": {},
     "output_type": "display_data"
    },
    {
     "data": {
      "application/vnd.jupyter.widget-view+json": {
       "model_id": "35efa6adf6e648e98f24ffedd7e3967c",
       "version_major": 2,
       "version_minor": 0
      },
      "text/plain": [
       "  0%|          | 0/4 [00:00<?, ?it/s]"
      ]
     },
     "metadata": {},
     "output_type": "display_data"
    },
    {
     "data": {
      "application/vnd.jupyter.widget-view+json": {
       "model_id": "86c8838e559a4d3a91c2d363a8e49198",
       "version_major": 2,
       "version_minor": 0
      },
      "text/plain": [
       "  0%|          | 0/6 [00:00<?, ?it/s]"
      ]
     },
     "metadata": {},
     "output_type": "display_data"
    },
    {
     "data": {
      "application/vnd.jupyter.widget-view+json": {
       "model_id": "13f7b1c630e8449d8ae0dd4f7fbadc43",
       "version_major": 2,
       "version_minor": 0
      },
      "text/plain": [
       "  0%|          | 0/6 [00:00<?, ?it/s]"
      ]
     },
     "metadata": {},
     "output_type": "display_data"
    },
    {
     "data": {
      "application/vnd.jupyter.widget-view+json": {
       "model_id": "cdc4327dcd094f448b7eac69cd1b8318",
       "version_major": 2,
       "version_minor": 0
      },
      "text/plain": [
       "  0%|          | 0/6 [00:00<?, ?it/s]"
      ]
     },
     "metadata": {},
     "output_type": "display_data"
    },
    {
     "data": {
      "application/vnd.jupyter.widget-view+json": {
       "model_id": "1aa8c113d72844f694510a97f272f812",
       "version_major": 2,
       "version_minor": 0
      },
      "text/plain": [
       "  0%|          | 0/6 [00:00<?, ?it/s]"
      ]
     },
     "metadata": {},
     "output_type": "display_data"
    },
    {
     "data": {
      "application/vnd.jupyter.widget-view+json": {
       "model_id": "738486287017459fbdd51eac5064f669",
       "version_major": 2,
       "version_minor": 0
      },
      "text/plain": [
       "  0%|          | 0/6 [00:00<?, ?it/s]"
      ]
     },
     "metadata": {},
     "output_type": "display_data"
    },
    {
     "data": {
      "application/vnd.jupyter.widget-view+json": {
       "model_id": "c6010393841d43e988f439eddb36672d",
       "version_major": 2,
       "version_minor": 0
      },
      "text/plain": [
       "  0%|          | 0/6 [00:00<?, ?it/s]"
      ]
     },
     "metadata": {},
     "output_type": "display_data"
    },
    {
     "data": {
      "application/vnd.jupyter.widget-view+json": {
       "model_id": "dc7bbca48d914b2981c85d75acb7bdbf",
       "version_major": 2,
       "version_minor": 0
      },
      "text/plain": [
       "  0%|          | 0/6 [00:00<?, ?it/s]"
      ]
     },
     "metadata": {},
     "output_type": "display_data"
    },
    {
     "data": {
      "application/vnd.jupyter.widget-view+json": {
       "model_id": "03ca18dfde0248b2a15642343fb5bb43",
       "version_major": 2,
       "version_minor": 0
      },
      "text/plain": [
       "  0%|          | 0/6 [00:00<?, ?it/s]"
      ]
     },
     "metadata": {},
     "output_type": "display_data"
    },
    {
     "data": {
      "application/vnd.jupyter.widget-view+json": {
       "model_id": "1e36de16d6144cc8a77f7d8ac420d195",
       "version_major": 2,
       "version_minor": 0
      },
      "text/plain": [
       "  0%|          | 0/6 [00:00<?, ?it/s]"
      ]
     },
     "metadata": {},
     "output_type": "display_data"
    },
    {
     "data": {
      "application/vnd.jupyter.widget-view+json": {
       "model_id": "4ba296392f83456a90f080be1d434a97",
       "version_major": 2,
       "version_minor": 0
      },
      "text/plain": [
       "  0%|          | 0/6 [00:00<?, ?it/s]"
      ]
     },
     "metadata": {},
     "output_type": "display_data"
    },
    {
     "data": {
      "application/vnd.jupyter.widget-view+json": {
       "model_id": "e3c3d56336604d2a97476d1ce4bf50e7",
       "version_major": 2,
       "version_minor": 0
      },
      "text/plain": [
       "  0%|          | 0/6 [00:00<?, ?it/s]"
      ]
     },
     "metadata": {},
     "output_type": "display_data"
    }
   ],
   "source": [
    "''' Re-label spatial maps based on occupancy of Context A & B\n",
    "\n",
    " - If k = 2, map 0 is the map with the greatest relative number of trials in Block A (map 1 is the other)\n",
    " - If k = 3, map 0 & map 1 are the maps with greatest relative number of trials in Blocks A & B (map 2 is the other map)\n",
    " - If k = 4, map 0 & map 1 are the maps with greatest relative number of trials in Blocks A & B; between the remaining maps,\n",
    " whichever occupies more of blocks + A' is map 2. \n",
    " \n",
    "'''\n",
    "\n",
    "for m, session in zip(mice, sessions):\n",
    "    for s in tdqm(session):\n",
    "        d = data[m][s]\n",
    "        \n",
    "        #get some data & cell IDs\n",
    "        rawdata_file = 'RAW_' + m + '_' + s + '.npy'\n",
    "        spikes_file = 'SPIKES_' + m + '_' + s +'.npy'\n",
    "        behavior_file = 'BEHAVIOR_' + m + '_' + s + '.npy'\n",
    "        \n",
    "        raw = np.load(load_folder + rawdata_file, allow_pickle=True)\n",
    "        Y = np.load(load_folder + spikes_file, allow_pickle=False) #pre-filtered for speeds >2cm/s, position-corrected spikes, 20 ms timebins\n",
    "        behaviorfil = np.load(load_folder + behavior_file, allow_pickle=False)\n",
    "        \n",
    "        cell_IDs = raw.item().get('cellsfil')\n",
    "        spatialcell = d['spatialcell99'].astype(bool)\n",
    "        spatialcells = cell_IDs[spatialcell]     \n",
    "        \n",
    "        if len(spatialcells) > 10: \n",
    "            W = d['kmeans']['W']\n",
    "            skippedrawtrialfil = d['skippedrawtrialfil'].astype(int)\n",
    "            VRbackidx = d['VRbackidx'].astype(int)\n",
    "            trials = skippedrawtrialfil[VRbackidx]\n",
    "\n",
    "            #assign map 0 to be the one dominating A, map 1 is the other map\n",
    "            if (d['kmeans']['SilN'] == 2) and (d['kmeans']['onemap'][0] == False):\n",
    "                # get map indices\n",
    "                map_idx = W[:, 0].astype(bool)\n",
    "                map0_idx = np.zeros_like(trials)\n",
    "                map1_idx = np.zeros_like(trials)\n",
    "                for i, t in enumerate(np.unique(trials)):\n",
    "                    if map_idx[i]:\n",
    "                        map0_idx[trials == t] = 1\n",
    "                    else:\n",
    "                        map1_idx[trials == t] = 1\n",
    "                map0_idx = map0_idx.astype(bool)\n",
    "                map1_idx = map1_idx.astype(bool)\n",
    "\n",
    "                # get assign map 0 to be the one with the greate number of trials in Context A\n",
    "                trials_0inA = np.sum(np.unique(trials[map0_idx]) < 80)\n",
    "                trials_1inA = np.sum(np.unique(trials[map1_idx]) < 80) \n",
    "\n",
    "                if trials_0inA < trials_1inA: # swap labels\n",
    "                    d['map0_idx'] = 1\n",
    "                else:\n",
    "                    d['map0_idx'] = 0\n",
    "            \n",
    "            #ditto, assign map 1 to be the one dominating B, map 2 is the other map\n",
    "            elif (d['kmeans']['SilN'] == 3) and (d['kmeans']['onemap'][0] == False):\n",
    "                map0_idx = np.zeros_like(trials)\n",
    "                map1_idx = np.zeros_like(trials)\n",
    "                map2_idx = np.zeros_like(trials)\n",
    "                for i, t in enumerate(np.unique(trials)):\n",
    "                    map_idx = np.where(W[i,:] == 1)[0][0]\n",
    "                    if map_idx == 0:\n",
    "                        map0_idx[trials == t] = 1\n",
    "                    elif map_idx == 1:\n",
    "                        map1_idx[trials == t] = 1\n",
    "                    else:\n",
    "                        map2_idx[trials == t] = 1\n",
    "                map0_idx = map0_idx.astype(bool)\n",
    "                map1_idx = map1_idx.astype(bool)\n",
    "                map2_idx = map2_idx.astype(bool)\n",
    "                \n",
    "                # get assign map 0 to be the one with the greate number of trials in Context A\n",
    "                map0trials = np.unique(trials[map0_idx])\n",
    "                map1trials = np.unique(trials[map1_idx])\n",
    "                map2trials = np.unique(trials[map2_idx])\n",
    "                                       \n",
    "                trials_0inA = np.sum(map0trials < 80)\n",
    "                trials_1inA = np.sum(map1trials < 80) \n",
    "                trials_2inA = np.sum(map2trials < 80) \n",
    "                \n",
    "                d['map0_idx'] = np.argmax([trials_0inA, trials_1inA, trials_2inA])\n",
    "                \n",
    "                # get assign map 1 to be the one with the greate number of trials in Context B\n",
    "                trials_0inB = len(map0trials[(map0trials >= 80) & (map0trials < 140)])\n",
    "                trials_1inB = len(map1trials[(map1trials >= 80) & (map1trials < 140)])\n",
    "                trials_2inB = len(map2trials[(map2trials >= 80) & (map2trials < 140)])\n",
    "\n",
    "                d['map1_idx'] = np.argmax([trials_0inB, trials_1inB, trials_2inB])\n",
    "                d['map2_idx'] = np.setdiff1d([0,1,2], [d['map0_idx'], d['map1_idx']])[0]\n",
    " \n",
    "            #ditto but map 2 is the map occupying most of A' map 3 is the other map        \n",
    "            elif (d['kmeans']['SilN'] == 4) and (d['kmeans']['onemap'][0] == False):\n",
    "                map0_idx = np.zeros_like(trials)\n",
    "                map1_idx = np.zeros_like(trials)\n",
    "                map2_idx = np.zeros_like(trials)\n",
    "                map3_idx = np.zeros_like(trials)\n",
    "                for i, t in enumerate(np.unique(trials)):\n",
    "                    map_idx = np.where(W[i,:] == 1)[0][0]\n",
    "                    if map_idx == 0:\n",
    "                        map0_idx[trials == t] = 1\n",
    "                    elif map_idx == 1:\n",
    "                        map1_idx[trials == t] = 1\n",
    "                    elif map_idx == 2:\n",
    "                        map2_idx[trials == t] = 1\n",
    "                    else:\n",
    "                        map3_idx[trials == t] = 1\n",
    "                map0_idx = map0_idx.astype(bool)\n",
    "                map1_idx = map1_idx.astype(bool)\n",
    "                map2_idx = map2_idx.astype(bool)\n",
    "                map3_idx = map3_idx.astype(bool)\n",
    "                \n",
    "                # get assign map 0 to be the one with the greate number of trials in Context A\n",
    "                map0trials = np.unique(trials[map0_idx])\n",
    "                map1trials = np.unique(trials[map1_idx])\n",
    "                map2trials = np.unique(trials[map2_idx])\n",
    "                map3trials = np.unique(trials[map3_idx])\n",
    "                \n",
    "                maptrials = [map0trials, map1trials, map2trials, map3trials]\n",
    "                                       \n",
    "                trials_0inA = np.sum(map0trials < 80)\n",
    "                trials_1inA = np.sum(map1trials < 80) \n",
    "                trials_2inA = np.sum(map2trials < 80)\n",
    "                trials_3inA = np.sum(map3trials < 80)\n",
    "                \n",
    "                d['map0_idx'] = np.argmax([trials_0inA, trials_1inA, trials_2inA, trials_3inA])\n",
    "                \n",
    "                # get assign map 1 to be the one with the greate number of trials in Context B\n",
    "                trials_0inB = len(map0trials[(map0trials >= 80) & (map0trials < 140)])\n",
    "                trials_1inB = len(map1trials[(map1trials >= 80) & (map1trials < 140)])\n",
    "                trials_2inB = len(map2trials[(map2trials >= 80) & (map2trials < 140)])\n",
    "                trials_3inB = len(map3trials[(map3trials >= 80) & (map3trials < 140)])\n",
    "                   \n",
    "                d['map1_idx'] = np.argmax([trials_0inB, trials_1inB, trials_2inB, trials_3inB])    \n",
    "                \n",
    "                #decide which map has more trials before half way point in alternation, that is map 2\n",
    "                possibleidxs = np.setdiff1d([0,1,2,3], [d['map0_idx'], d['map1_idx']])\n",
    "                lengths = []\n",
    "                for n in possibleidxs:\n",
    "                    althalf = np.max(np.unique(trials)//4) + 140\n",
    "                    lengths = np.append(lengths, len(maptrials[n][maptrials[n] < althalf]))\n",
    "                                        \n",
    "                if lengths[0] > lengths[1]:           \n",
    "                    d['map2_idx'] = possibleidxs[0]\n",
    "                    d['map3_idx'] = possibleidxs[1]\n",
    "                else:\n",
    "                    d['map2_idx'] = possibleidxs[1]\n",
    "                    d['map3_idx'] = possibleidxs[0]\n"
   ]
  },
  {
   "cell_type": "code",
   "execution_count": 27,
   "id": "c8e1632f",
   "metadata": {},
   "outputs": [
    {
     "name": "stdout",
     "output_type": "stream",
     "text": [
      "47 46 41\n"
     ]
    }
   ],
   "source": [
    "'''Compute within vs. across map similarity for k ≥ 2 sessions '''\n",
    "saged_within = []\n",
    "saged_across = []\n",
    "syoung_within = []\n",
    "syoung_across = []\n",
    "sMA_within = []\n",
    "sMA_across = []\n",
    "\n",
    "countaged = 0\n",
    "countMA = 0\n",
    "countyoung = 0\n",
    "\n",
    "allacross = []\n",
    "allwithin = []\n",
    "\n",
    "for m, session in zip(mice, sessions):\n",
    "    for s in session:\n",
    "        d = data[m][s]\n",
    "        \n",
    "        rawdata_file = 'RAW_' + m + '_' + s + '.npy'\n",
    "        raw = np.load(load_folder + rawdata_file, allow_pickle=True)\n",
    "        cell_IDs = raw.item().get('cellsfil')\n",
    "        spatialcell = d['spatialcell99'].astype(bool)\n",
    "        spatialcells = cell_IDs[spatialcell]\n",
    "        \n",
    "        if len(spatialcells) > 10: \n",
    "            \n",
    "            sim = d['spatialsimilaritybacksorted']\n",
    "            W = d['kmeans']['W']\n",
    "\n",
    "            if (d['kmeans']['SilN'] == 2) and (d['kmeans']['onemap'][0] == False):\n",
    "                \n",
    "                # split by trial\n",
    "                map_0 = W[:, d['map0_idx']].astype(bool)\n",
    "                sim_0 = sim[map_0, :]\n",
    "                sim_0 = sim_0[:, map_0]\n",
    "                sim_1 = sim[~map_0, :]\n",
    "                sim_1 = sim_1[:, ~map_0]\n",
    "                sim_across = sim[map_0, :]\n",
    "                sim_across = sim_across[:, ~map_0]\n",
    "\n",
    "                # calculate the average similarity within vs. across maps\n",
    "                within = np.append(sim_0[np.triu_indices(n=sim_0.shape[0], k=1)], \n",
    "                                   sim_1[np.triu_indices(n=sim_1.shape[0], k=1)])\n",
    "                avg_within = np.mean(within)\n",
    "                across = sim_across[np.triu_indices(n=sim_across.shape[0], k=1, m=sim_across.shape[1])]\n",
    "                avg_across = np.mean(across)\n",
    "\n",
    "                if m in SM_aged_mice:\n",
    "                    countaged += 1\n",
    "                    saged_within = np.append(saged_within, avg_within)\n",
    "                    saged_across = np.append(saged_across, avg_across)\n",
    "                elif m in SM_MA_mice:\n",
    "                    countMA += 1\n",
    "                    sMA_within = np.append(sMA_within, avg_within)\n",
    "                    sMA_across = np.append(sMA_across, avg_across)\n",
    "                else: \n",
    "                    countyoung += 1\n",
    "                    syoung_within = np.append(syoung_within, avg_within)\n",
    "                    syoung_across = np.append(syoung_across, avg_across)\n",
    "                \n",
    "            elif (d['kmeans']['SilN'] == 3) and (d['kmeans']['onemap'][0] == False):\n",
    "                # split by trial\n",
    "                map_0 = W[:, d['map0_idx']].astype(bool)\n",
    "                map_1 = W[:, d['map1_idx']].astype(bool)\n",
    "                map_2 = W[:, d['map2_idx']].astype(bool)\n",
    "                \n",
    "                sim_0 = sim[map_0, :]\n",
    "                sim_0 = sim_0[:, map_0]\n",
    "                sim_1 = sim[map_1, :]\n",
    "                sim_1 = sim_1[:, map_1]\n",
    "                sim_2 = sim[map_2, :]\n",
    "                sim_2 = sim_2[:, map_2]\n",
    "                \n",
    "                sim_across = sim[map_0, :]\n",
    "                sim_across = sim_across[:, map_1]\n",
    "                sim_across1 = sim[map_0, :]\n",
    "                sim_across1 = sim_across1[:, map_2]\n",
    "                sim_across2 = sim[map_1, :]\n",
    "                sim_across2 = sim_across2[:, map_2]\n",
    "\n",
    "                # calculate the average similarity within vs. across maps\n",
    "                within = np.concatenate((sim_0[np.triu_indices(n=sim_0.shape[0], k=1)], \n",
    "                                   sim_1[np.triu_indices(n=sim_1.shape[0], k=1)],\n",
    "                                   sim_2[np.triu_indices(n=sim_2.shape[0], k=1)]))\n",
    "                avg_within = np.mean(within)\n",
    "                \n",
    "                across = np.concatenate((sim_across[np.triu_indices(n=sim_across.shape[0], k=1, m=sim_across.shape[1])],\n",
    "                                   sim_across1[np.triu_indices(n=sim_across1.shape[0], k=1, m=sim_across1.shape[1])],\n",
    "                                   sim_across2[np.triu_indices(n=sim_across2.shape[0], k=1, m=sim_across2.shape[1])]))\n",
    "                avg_across = np.mean(across)\n",
    "                \n",
    "\n",
    "                if m in SM_aged_mice:\n",
    "                    countaged += 1\n",
    "                    saged_within = np.append(saged_within, avg_within)\n",
    "                    saged_across = np.append(saged_across, avg_across)\n",
    "                elif m in SM_MA_mice:\n",
    "                    countMA += 1\n",
    "                    sMA_within = np.append(sMA_within, avg_within)\n",
    "                    sMA_across = np.append(sMA_across, avg_across)\n",
    "                else: \n",
    "                    countyoung += 1\n",
    "                    syoung_within = np.append(syoung_within, avg_within)\n",
    "                    syoung_across = np.append(syoung_across, avg_across)\n",
    "            \n",
    "            elif (d['kmeans']['SilN'] == 4) and (d['kmeans']['onemap'][0] == False):\n",
    "                # split by trial\n",
    "                map_0 = W[:, d['map0_idx']].astype(bool)\n",
    "                map_1 = W[:, d['map1_idx']].astype(bool)\n",
    "                map_2 = W[:, d['map2_idx']].astype(bool)\n",
    "                map_3 = W[:, d['map3_idx']].astype(bool)\n",
    "                \n",
    "                sim_0 = sim[map_0, :]\n",
    "                sim_0 = sim_0[:, map_0]\n",
    "                sim_1 = sim[map_1, :]\n",
    "                sim_1 = sim_1[:, map_1]\n",
    "                sim_2 = sim[map_2, :]\n",
    "                sim_2 = sim_2[:, map_2]\n",
    "                sim_3 = sim[map_3, :]\n",
    "                sim_3 = sim_3[:, map_3]\n",
    "                \n",
    "                sim_across = sim[map_0, :]\n",
    "                sim_across = sim_across[:, map_1]\n",
    "                sim_across1 = sim[map_0, :]\n",
    "                sim_across1 = sim_across1[:, map_2]\n",
    "                sim_across2 = sim[map_0, :]\n",
    "                sim_across2 = sim_across2[:, map_3]\n",
    "                sim_across3 = sim[map_1, :]\n",
    "                sim_across3 = sim_across3[:, map_2]\n",
    "                sim_across4 = sim[map_1, :]\n",
    "                sim_across4 = sim_across4[:, map_3]\n",
    "                sim_across5 = sim[map_2, :]\n",
    "                sim_across5 = sim_across5[:, map_3]\n",
    "\n",
    "                # calculate the average similarity within vs. across maps\n",
    "                within = np.concatenate((sim_0[np.triu_indices(n=sim_0.shape[0], k=1)], \n",
    "                                   sim_1[np.triu_indices(n=sim_1.shape[0], k=1)],\n",
    "                                   sim_2[np.triu_indices(n=sim_2.shape[0], k=1)],\n",
    "                                   sim_3[np.triu_indices(n=sim_3.shape[0], k=1)]))\n",
    "                avg_within = np.mean(within)\n",
    "                \n",
    "                across = np.concatenate((sim_across[np.triu_indices(n=sim_across.shape[0], k=1, m=sim_across.shape[1])],\n",
    "                                   sim_across1[np.triu_indices(n=sim_across1.shape[0], k=1, m=sim_across1.shape[1])],\n",
    "                                   sim_across2[np.triu_indices(n=sim_across2.shape[0], k=1, m=sim_across2.shape[1])],\n",
    "                                   sim_across3[np.triu_indices(n=sim_across3.shape[0], k=1, m=sim_across3.shape[1])],\n",
    "                                   sim_across4[np.triu_indices(n=sim_across4.shape[0], k=1, m=sim_across4.shape[1])],\n",
    "                                   sim_across5[np.triu_indices(n=sim_across5.shape[0], k=1, m=sim_across5.shape[1])]))\n",
    "                \n",
    "                avg_across = np.mean(across)\n",
    "\n",
    "\n",
    "                if m in SM_aged_mice:\n",
    "                    countaged += 1\n",
    "                    saged_within = np.append(saged_within, avg_within)\n",
    "                    saged_across = np.append(saged_across, avg_across)\n",
    "                elif m in SM_MA_mice:\n",
    "                    countMA += 1\n",
    "                    sMA_within = np.append(sMA_within, avg_within)\n",
    "                    sMA_across = np.append(sMA_across, avg_across)\n",
    "                else: \n",
    "                    countyoung += 1\n",
    "                    syoung_within = np.append(syoung_within, avg_within)\n",
    "                    syoung_across = np.append(syoung_across, avg_across)    \n",
    "            else: #one map sessions\n",
    "                pass\n",
    "                \n",
    "print(countyoung, countMA, countaged)"
   ]
  },
  {
   "cell_type": "code",
   "execution_count": 28,
   "id": "7ff690a5",
   "metadata": {},
   "outputs": [
    {
     "name": "stdout",
     "output_type": "stream",
     "text": [
      "mean, sem within map similarity: 0.44, 0.02\n",
      "mean, sem across map similarity: 0.22, 0.01\n",
      "pct change in spatial similarity (mean, sem) aged: -49.48, 2.17%\n",
      "\n",
      "mean, sem within map similarity: 0.46, 0.01\n",
      "mean, sem across map similarity: 0.24, 0.02\n",
      "pct change in spatial similarity (mean, sem) MA: -48.14, 2.52%\n",
      "\n",
      "mean, sem within map similarity: 0.43, 0.02\n",
      "mean, sem across map similarity: 0.19, 0.01\n",
      "pct change in spatial similarity (mean, sem) young: -53.78, 2.42%\n",
      "\n",
      "within map vs across map similarity: aged_p = 9.094947017729282e-13\n",
      "n = 41 model pairs\n",
      "\n",
      "within map vs across map similarity: MA_p = 2.842170943040401e-14\n",
      "n = 46 model pairs\n",
      "\n",
      "within map vs across map similarity: young_p = 1.4210854715202004e-14\n",
      "n = 47 model pairs\n"
     ]
    }
   ],
   "source": [
    "'''In all age groups, are maps more similar to themselves vs. the other map?'''\n",
    "# % change in aged spatial similarity\n",
    "d_sima = ((saged_across - saged_within) / saged_within) * 100\n",
    "print('mean, sem within map similarity: {}, {}'.format(np.round(np.mean(saged_within), 2), np.round(stats.sem(saged_within), 2)))\n",
    "print('mean, sem across map similarity: {}, {}'.format(np.round(np.nanmean(saged_across), 2), np.round(stats.sem(saged_across,  nan_policy = 'omit'), 2)))\n",
    "print('pct change in spatial similarity (mean, sem) aged: {}, {}%'.format(np.round(np.nanmean(d_sima), 2), np.round(stats.sem(d_sima, nan_policy = 'omit'), 2)))\n",
    "\n",
    "# % change in MA spatial similarity\n",
    "d_simma = ((sMA_across - sMA_within) / sMA_within) * 100\n",
    "print('\\nmean, sem within map similarity: {}, {}'.format(np.round(np.mean(sMA_within), 2), np.round(stats.sem(sMA_within), 2)))\n",
    "print('mean, sem across map similarity: {}, {}'.format(np.round(np.mean(sMA_across), 2), np.round(stats.sem(sMA_across), 2)))\n",
    "print('pct change in spatial similarity (mean, sem) MA: {}, {}%'.format(np.round(np.mean(d_simma), 2), np.round(stats.sem(d_simma), 2)))\n",
    "\n",
    "# % change in young spatial similarity\n",
    "d_simy = ((syoung_across - syoung_within) / syoung_within) * 100\n",
    "print('\\nmean, sem within map similarity: {}, {}'.format(np.round(np.mean(syoung_within), 2), np.round(stats.sem(syoung_within), 2)))\n",
    "print('mean, sem across map similarity: {}, {}'.format(np.round(np.mean(syoung_across), 2), np.round(stats.sem(syoung_across), 2)))\n",
    "print('pct change in spatial similarity (mean, sem) young: {}, {}%'.format(np.round(np.mean(d_simy), 2), np.round(stats.sem(d_simy), 2)))\n",
    "\n",
    "sameVSdiff_stat, sameVSdiff_p = stats.wilcoxon(saged_within[~np.isnan(saged_across)], saged_across[~np.isnan(saged_across)])\n",
    "print('\\nwithin map vs across map similarity: aged_p = ' + str(sameVSdiff_p))\n",
    "print('n = ' + str(saged_within.shape[0]) + ' model pairs')\n",
    "\n",
    "sameVSdiff_stat, sameVSdiff_p = stats.wilcoxon(sMA_within, sMA_across)\n",
    "print('\\nwithin map vs across map similarity: MA_p = ' + str(sameVSdiff_p))\n",
    "print('n = ' + str(sMA_within.shape[0]) + ' model pairs')\n",
    "\n",
    "sameVSdiff_stat, sameVSdiff_p = stats.wilcoxon(syoung_within, syoung_across)\n",
    "print('\\nwithin map vs across map similarity: young_p = ' + str(sameVSdiff_p))\n",
    "print('n = ' + str(syoung_within.shape[0]) + ' model pairs')"
   ]
  },
  {
   "cell_type": "code",
   "execution_count": 29,
   "id": "2185f05f",
   "metadata": {},
   "outputs": [
    {
     "data": {
      "image/png": "[encoded data removed]",
      "text/plain": [
       "<Figure size 360x140 with 3 Axes>"
      ]
     },
     "metadata": {},
     "output_type": "display_data"
    }
   ],
   "source": [
    "'''Plot Figure S5B (right)'''\n",
    "f, ax = plt.subplots(1, 3, figsize=(3.6, 1.4), sharey = True)\n",
    "#f.suptitle('Split Maze (k ≥ 2)', fontsize = 10)\n",
    "DOT_SIZE = 20\n",
    "DOT_LW = 1\n",
    "BAR_SIZE = 10\n",
    "BAR_WIDTH = 2.8\n",
    "labels = ['within', 'across']\n",
    "\n",
    "## PLOT AGED DATA \n",
    "j = np.random.randn(saged_within.shape[0]) * .08\n",
    "\n",
    "# plot connector lines\n",
    "for k, w in enumerate(saged_within): # plot connector lines\n",
    "    a = saged_across[k]\n",
    "    x_vals = [1.08+j[k], 1.92+j[k]]\n",
    "    y_vals = [w-0.005, a+0.005]\n",
    "    ax[2].plot(x_vals, y_vals, '-', color='xkcd:gray', lw=DOT_LW, zorder=1,  alpha=1)\n",
    "\n",
    "# within map similarity\n",
    "ax[2].scatter(np.full(len(saged_within), 1)+j, saged_within,\n",
    "           facecolors='C1', edgecolors='k', alpha=1,\n",
    "           s=DOT_SIZE, lw=DOT_LW, zorder=2, label='Aged') \n",
    "\n",
    "# across map similarity\n",
    "ax[2].scatter(np.full(len(saged_within), 2)+j, saged_across,\n",
    "           facecolors='C1', edgecolors='k', alpha=1,\n",
    "           s=DOT_SIZE, lw=DOT_LW, zorder=2, label = 'Aged') \n",
    "\n",
    "# plot means\n",
    "ax[2].plot(1, np.mean(saged_within), '_', c='k', markersize=BAR_SIZE, markeredgewidth=BAR_WIDTH, zorder=3)\n",
    "ax[2].plot(2, np.mean(saged_across), '_', c='k', markersize=BAR_SIZE, markeredgewidth=BAR_WIDTH, zorder=3)\n",
    "\n",
    "## PLOT MA DATA \n",
    "j = np.random.randn(sMA_within.shape[0]) * .08\n",
    "\n",
    "# plot connector lines\n",
    "for k, w in enumerate(sMA_within): # plot connector lines\n",
    "    a = sMA_across[k]\n",
    "    x_vals = [1.08+j[k], 1.92+j[k]]\n",
    "    y_vals = [w-0.005, a+0.005]\n",
    "    ax[1].plot(x_vals, y_vals, '-', color='xkcd:gray', lw=DOT_LW, zorder=1,  alpha=1)\n",
    "\n",
    "# within map similarity\n",
    "ax[1].scatter(np.full(len(sMA_within), 1)+j, sMA_within,\n",
    "           facecolors='C2', edgecolors='k', alpha=1,\n",
    "           s=DOT_SIZE, lw=DOT_LW, zorder=2, label='MA') \n",
    "\n",
    "# across map similarity\n",
    "ax[1].scatter(np.full(len(sMA_within), 2)+j, sMA_across,\n",
    "           facecolors='C2', edgecolors='k', alpha=1,\n",
    "           s=DOT_SIZE, lw=DOT_LW, zorder=2) \n",
    "\n",
    "# plot means\n",
    "ax[1].plot(1, np.mean(sMA_within), '_', c='k', markersize=BAR_SIZE, markeredgewidth=BAR_WIDTH, zorder=3)\n",
    "ax[1].plot(2, np.mean(sMA_across), '_', c='k', markersize=BAR_SIZE, markeredgewidth=BAR_WIDTH, zorder=3)\n",
    "\n",
    "## PLOT Young DATA \n",
    "j = np.random.randn(syoung_within.shape[0]) * .08\n",
    "\n",
    "# plot connector lines\n",
    "for k, w in enumerate(syoung_within): # plot connector lines\n",
    "    a = syoung_across[k]\n",
    "    x_vals = [1.08+j[k], 1.92+j[k]]\n",
    "    y_vals = [w-0.005, a+0.005]\n",
    "    ax[0].plot(x_vals, y_vals, '-', color='xkcd:gray', lw=DOT_LW, zorder=1,  alpha=1)\n",
    "\n",
    "# within map similarity\n",
    "ax[0].scatter(np.full(len(syoung_within), 1)+j, syoung_within,\n",
    "           facecolors='C0', edgecolors='k', alpha=1,\n",
    "           s=DOT_SIZE, lw=DOT_LW, zorder=2, label='Young') \n",
    "\n",
    "# across map similarity\n",
    "ax[0].scatter(np.full(len(syoung_within), 2)+j, syoung_across,\n",
    "           facecolors='C0', edgecolors='k', alpha=1,\n",
    "           s=DOT_SIZE, lw=DOT_LW, zorder=2) \n",
    "\n",
    "# plot means\n",
    "ax[0].plot(1, np.mean(syoung_within), '_', c='k', markersize=BAR_SIZE, markeredgewidth=BAR_WIDTH, zorder=3)\n",
    "ax[0].plot(2, np.mean(syoung_across), '_', c='k', markersize=BAR_SIZE, markeredgewidth=BAR_WIDTH, zorder=3)\n",
    "\n",
    "ax[2].set_xlim([0.5, 2.5])\n",
    "ax[2].set_xticks([1, 2])\n",
    "ax[2].set_yticks([0.1, 0.3, 0.5, 0.7])\n",
    "ax[2].set_xticklabels(labels, rotation=45)\n",
    "ax[2].tick_params(which='major', labelsize=8, pad=0.8)\n",
    "ax[2].set_title('Aged', fontsize = 10)\n",
    "\n",
    "ax[1].set_xlim([0.5, 2.5])\n",
    "ax[1].set_xticks([1, 2])\n",
    "ax[1].set_yticks([0.1, 0.3, 0.5, 0.7])\n",
    "ax[1].set_xticklabels(labels, rotation=45)\n",
    "ax[1].tick_params(which='major', labelsize=8, pad=0.8)\n",
    "#ax[1].set_ylabel('Avg. Correlation', fontsize=10, labelpad=1)\n",
    "ax[1].set_title('MA', fontsize = 10)\n",
    "\n",
    "ax[0].set_xlim([0.5, 2.5])\n",
    "ax[0].set_xticks([1, 2])\n",
    "ax[0].set_xticklabels(labels, rotation=45)\n",
    "ax[0].tick_params(which='major', labelsize=8, pad=0.8)\n",
    "ax[0].set_title('Young', fontsize = 10)\n",
    "ax[0].set_ylabel('Avg. Similarity', fontsize=9, labelpad=1)\n",
    "#f.savefig(save_folder + 'similarity_k=2,3,4.png', dpi=400, bbox_inches='tight')\n",
    "#f.savefig(save_folder + 'similarity_k=2,3,4.svg', dpi=400, bbox_inches='tight')\n",
    "plt.show()"
   ]
  },
  {
   "cell_type": "code",
   "execution_count": 30,
   "id": "26afcee7",
   "metadata": {},
   "outputs": [
    {
     "name": "stdout",
     "output_type": "stream",
     "text": [
      "WITHIN RESULTS\n",
      "withinyoung ± SEM; withinMA ± SEM; withinstab_old ± SEM\n",
      "0.4264 ± 0.0167 ; 0.4577 ± 0.0133 ; 0.4402 ± 0.0153\n",
      "stat = 2.018882281357378\n",
      "p_grid_session = 0.36442258363096913\n",
      "stat = -0.5227990379418017\n",
      "p_grid_sessionyva = 0.6011141091768346\n",
      "\n",
      "ACROSS RESULTS:\n",
      "acrossyoung ± SEM; acrossMA ± SEM; acrossstab_old ± SEM\n",
      "0.1936 ± 0.0119 ; 0.2407 ± 0.0155 ; 0.2207 ± 0.0123\n",
      "stat = 5.911677916757128\n",
      "p_grid_session = 0.0520349870700196\n",
      "stat = -1.660409744503162\n",
      "p_grid_sessionyva = 0.09683205113953615\n",
      "\n",
      "Within - Across % Change RESULTS:\n",
      "changeyoung ± SEM; changeMA ± SEM; changestab_old ± SEM\n",
      "-53.7819 ± 2.4193 ; -48.1438 ± 2.5203 ; -49.4836 ± 2.1684\n",
      "stat = 3.772652924093734\n",
      "p_grid_session = 0.15162779745717986\n",
      "stat = -1.091604391222482\n",
      "p_grid_sessionyva = 0.27500702517903497\n"
     ]
    }
   ],
   "source": [
    "''' Statistics to Compare Age Groups Within, Across, Diff (Within - Across) Similarity'''\n",
    "\n",
    "print('WITHIN RESULTS')\n",
    "print('withinyoung ± SEM; withinMA ± SEM; withinstab_old ± SEM')\n",
    "print(str(np.round(np.nanmean(syoung_within), 4)) + ' ± ' + str(np.round(stats.sem(syoung_within), 4)) + ' ; ' \n",
    "      + str(np.round(np.nanmean(sMA_within), 4)) + ' ± ' + str(np.round(stats.sem(sMA_within), 4)) + ' ; ' \n",
    "      + str(np.round(np.nanmean(saged_within), 4)) + ' ± ' + str(np.round(stats.sem(saged_within), 4)))\n",
    "\n",
    "stat, p_diff = stats.kruskal(syoung_within, sMA_within, saged_within)\n",
    "print('stat = ' + str(stat))\n",
    "print('p_grid_session = ' + str(p_diff))\n",
    "stat, p_diff = stats.ranksums(syoung_within, saged_within)\n",
    "print('stat = ' + str(stat))\n",
    "print('p_grid_sessionyva = ' + str(p_diff))\n",
    "\n",
    "print('\\nACROSS RESULTS:')\n",
    "print('acrossyoung ± SEM; acrossMA ± SEM; acrossstab_old ± SEM')\n",
    "print(str(np.round(np.nanmean(syoung_across), 4)) + ' ± ' + str(np.round(stats.sem(syoung_across), 4)) + ' ; ' \n",
    "      + str(np.round(np.nanmean(sMA_across), 4)) + ' ± ' + str(np.round(stats.sem(sMA_across), 4)) + ' ; ' \n",
    "      + str(np.round(np.nanmean(saged_across), 4)) + ' ± ' + str(np.round(stats.sem(saged_across, nan_policy = 'omit'), 4)))\n",
    "\n",
    "stat, p_diff = stats.kruskal(syoung_across, sMA_across, saged_across)\n",
    "print('stat = ' + str(stat))\n",
    "print('p_grid_session = ' + str(p_diff))\n",
    "stat, p_diff = stats.ranksums(syoung_across, saged_across)\n",
    "print('stat = ' + str(stat))\n",
    "print('p_grid_sessionyva = ' + str(p_diff))\n",
    "\n",
    "sd_sima = ((saged_across - saged_within) / saged_within) * 100\n",
    "sd_simma = ((sMA_across - sMA_within) / sMA_within) * 100\n",
    "sd_simy = ((syoung_across - syoung_within) / syoung_within) * 100\n",
    "\n",
    "print('\\nWithin - Across % Change RESULTS:')\n",
    "print('changeyoung ± SEM; changeMA ± SEM; changestab_old ± SEM')\n",
    "print(str(np.round(np.nanmean(sd_simy), 4)) + ' ± ' + str(np.round(stats.sem(sd_simy), 4)) + ' ; ' \n",
    "      + str(np.round(np.nanmean(sd_simma), 4)) + ' ± ' + str(np.round(stats.sem(sd_simma), 4)) + ' ; ' \n",
    "      + str(np.round(np.nanmean(sd_sima), 4)) + ' ± ' + str(np.round(stats.sem(sd_sima, nan_policy = 'omit'), 4)))\n",
    "\n",
    "stat, p_diff = stats.kruskal(sd_simy, sd_simma, sd_sima)\n",
    "print('stat = ' + str(stat))\n",
    "print('p_grid_session = ' + str(p_diff))\n",
    "\n",
    "stat, p_diff = stats.ranksums(sd_simy, sd_sima)\n",
    "print('stat = ' + str(stat))\n",
    "print('p_grid_sessionyva = ' + str(p_diff))\n"
   ]
  },
  {
   "cell_type": "markdown",
   "id": "ef03ce0b",
   "metadata": {},
   "source": [
    "This suggests that maps contain similarly heterogenous spatial information across age groups. "
   ]
  },
  {
   "cell_type": "code",
   "execution_count": 18,
   "id": "bb6d3ce9",
   "metadata": {
    "scrolled": true
   },
   "outputs": [
    {
     "data": {
      "application/vnd.jupyter.widget-view+json": {
       "model_id": "23211c29f8ca486db0d89650abc110da",
       "version_major": 2,
       "version_minor": 0
      },
      "text/plain": [
       "  0%|          | 0/3 [00:00<?, ?it/s]"
      ]
     },
     "metadata": {},
     "output_type": "display_data"
    },
    {
     "data": {
      "application/vnd.jupyter.widget-view+json": {
       "model_id": "754ec9930cc24f0ab4c821ee89507f29",
       "version_major": 2,
       "version_minor": 0
      },
      "text/plain": [
       "  0%|          | 0/6 [00:00<?, ?it/s]"
      ]
     },
     "metadata": {},
     "output_type": "display_data"
    },
    {
     "data": {
      "application/vnd.jupyter.widget-view+json": {
       "model_id": "7f1db5ae20b94fc69f4527a5fcb5d9d8",
       "version_major": 2,
       "version_minor": 0
      },
      "text/plain": [
       "  0%|          | 0/4 [00:00<?, ?it/s]"
      ]
     },
     "metadata": {},
     "output_type": "display_data"
    },
    {
     "data": {
      "application/vnd.jupyter.widget-view+json": {
       "model_id": "72d9ef85b0bf43bebcf9480652e21df4",
       "version_major": 2,
       "version_minor": 0
      },
      "text/plain": [
       "  0%|          | 0/6 [00:00<?, ?it/s]"
      ]
     },
     "metadata": {},
     "output_type": "display_data"
    },
    {
     "data": {
      "application/vnd.jupyter.widget-view+json": {
       "model_id": "26f72ab1e6fa40a0a3c0b77f14386ce5",
       "version_major": 2,
       "version_minor": 0
      },
      "text/plain": [
       "  0%|          | 0/6 [00:00<?, ?it/s]"
      ]
     },
     "metadata": {},
     "output_type": "display_data"
    },
    {
     "data": {
      "application/vnd.jupyter.widget-view+json": {
       "model_id": "6b4415b0f6194076a640dbee7f8e18b2",
       "version_major": 2,
       "version_minor": 0
      },
      "text/plain": [
       "  0%|          | 0/6 [00:00<?, ?it/s]"
      ]
     },
     "metadata": {},
     "output_type": "display_data"
    },
    {
     "name": "stdout",
     "output_type": "stream",
     "text": [
      "less than three spatial cells, cannot compute mean corr for this session\n"
     ]
    },
    {
     "data": {
      "application/vnd.jupyter.widget-view+json": {
       "model_id": "d56afdc718d24c86997b46df060ddfc6",
       "version_major": 2,
       "version_minor": 0
      },
      "text/plain": [
       "  0%|          | 0/6 [00:00<?, ?it/s]"
      ]
     },
     "metadata": {},
     "output_type": "display_data"
    },
    {
     "data": {
      "application/vnd.jupyter.widget-view+json": {
       "model_id": "f0cc3d06cfa34de78cd82fa0fb67a32e",
       "version_major": 2,
       "version_minor": 0
      },
      "text/plain": [
       "  0%|          | 0/6 [00:00<?, ?it/s]"
      ]
     },
     "metadata": {},
     "output_type": "display_data"
    },
    {
     "data": {
      "application/vnd.jupyter.widget-view+json": {
       "model_id": "2be7f1a498c44a6990a2e12b8de06be7",
       "version_major": 2,
       "version_minor": 0
      },
      "text/plain": [
       "  0%|          | 0/6 [00:00<?, ?it/s]"
      ]
     },
     "metadata": {},
     "output_type": "display_data"
    },
    {
     "data": {
      "application/vnd.jupyter.widget-view+json": {
       "model_id": "5bc2e1363b9a49a4887c01fa6ea9bd73",
       "version_major": 2,
       "version_minor": 0
      },
      "text/plain": [
       "  0%|          | 0/6 [00:00<?, ?it/s]"
      ]
     },
     "metadata": {},
     "output_type": "display_data"
    },
    {
     "data": {
      "application/vnd.jupyter.widget-view+json": {
       "model_id": "0ce6859998f5491b87e88574f6472c8f",
       "version_major": 2,
       "version_minor": 0
      },
      "text/plain": [
       "  0%|          | 0/6 [00:00<?, ?it/s]"
      ]
     },
     "metadata": {},
     "output_type": "display_data"
    },
    {
     "data": {
      "application/vnd.jupyter.widget-view+json": {
       "model_id": "4a9dca4c387a4cb6826ae38531df826a",
       "version_major": 2,
       "version_minor": 0
      },
      "text/plain": [
       "  0%|          | 0/6 [00:00<?, ?it/s]"
      ]
     },
     "metadata": {},
     "output_type": "display_data"
    },
    {
     "data": {
      "application/vnd.jupyter.widget-view+json": {
       "model_id": "c8eec2724aa042c29353b9cc9917a347",
       "version_major": 2,
       "version_minor": 0
      },
      "text/plain": [
       "  0%|          | 0/6 [00:00<?, ?it/s]"
      ]
     },
     "metadata": {},
     "output_type": "display_data"
    },
    {
     "data": {
      "application/vnd.jupyter.widget-view+json": {
       "model_id": "5477e051f7a74339bc8cc8192a0a96e0",
       "version_major": 2,
       "version_minor": 0
      },
      "text/plain": [
       "  0%|          | 0/6 [00:00<?, ?it/s]"
      ]
     },
     "metadata": {},
     "output_type": "display_data"
    },
    {
     "data": {
      "application/vnd.jupyter.widget-view+json": {
       "model_id": "53f0179849c04b79804c82a2f7212c26",
       "version_major": 2,
       "version_minor": 0
      },
      "text/plain": [
       "  0%|          | 0/6 [00:00<?, ?it/s]"
      ]
     },
     "metadata": {},
     "output_type": "display_data"
    },
    {
     "data": {
      "application/vnd.jupyter.widget-view+json": {
       "model_id": "b1cade56090b40dca98f4abc059ac8f5",
       "version_major": 2,
       "version_minor": 0
      },
      "text/plain": [
       "  0%|          | 0/6 [00:00<?, ?it/s]"
      ]
     },
     "metadata": {},
     "output_type": "display_data"
    },
    {
     "data": {
      "application/vnd.jupyter.widget-view+json": {
       "model_id": "cb1987f098ef4059ba81add61998c1dd",
       "version_major": 2,
       "version_minor": 0
      },
      "text/plain": [
       "  0%|          | 0/6 [00:00<?, ?it/s]"
      ]
     },
     "metadata": {},
     "output_type": "display_data"
    },
    {
     "data": {
      "application/vnd.jupyter.widget-view+json": {
       "model_id": "2425bbce06b744c0a06d067a827036a8",
       "version_major": 2,
       "version_minor": 0
      },
      "text/plain": [
       "  0%|          | 0/4 [00:00<?, ?it/s]"
      ]
     },
     "metadata": {},
     "output_type": "display_data"
    },
    {
     "data": {
      "application/vnd.jupyter.widget-view+json": {
       "model_id": "34f136866cf144aea4dd3244e737056c",
       "version_major": 2,
       "version_minor": 0
      },
      "text/plain": [
       "  0%|          | 0/6 [00:00<?, ?it/s]"
      ]
     },
     "metadata": {},
     "output_type": "display_data"
    },
    {
     "data": {
      "application/vnd.jupyter.widget-view+json": {
       "model_id": "7e668dc2517f4a47a49deb48e5d4b2f3",
       "version_major": 2,
       "version_minor": 0
      },
      "text/plain": [
       "  0%|          | 0/6 [00:00<?, ?it/s]"
      ]
     },
     "metadata": {},
     "output_type": "display_data"
    },
    {
     "name": "stdout",
     "output_type": "stream",
     "text": [
      "less than three spatial cells, cannot compute mean corr for this session\n"
     ]
    },
    {
     "data": {
      "application/vnd.jupyter.widget-view+json": {
       "model_id": "85fe52b6af7547ceabbc5a0a60805b13",
       "version_major": 2,
       "version_minor": 0
      },
      "text/plain": [
       "  0%|          | 0/6 [00:00<?, ?it/s]"
      ]
     },
     "metadata": {},
     "output_type": "display_data"
    },
    {
     "data": {
      "application/vnd.jupyter.widget-view+json": {
       "model_id": "ab30c803516446d69effd5b73cedcf7b",
       "version_major": 2,
       "version_minor": 0
      },
      "text/plain": [
       "  0%|          | 0/6 [00:00<?, ?it/s]"
      ]
     },
     "metadata": {},
     "output_type": "display_data"
    },
    {
     "data": {
      "application/vnd.jupyter.widget-view+json": {
       "model_id": "e237ab0bc81a4453b7879bc4db83f0ff",
       "version_major": 2,
       "version_minor": 0
      },
      "text/plain": [
       "  0%|          | 0/6 [00:00<?, ?it/s]"
      ]
     },
     "metadata": {},
     "output_type": "display_data"
    },
    {
     "data": {
      "application/vnd.jupyter.widget-view+json": {
       "model_id": "6bde338b30174deca148f8945d52f070",
       "version_major": 2,
       "version_minor": 0
      },
      "text/plain": [
       "  0%|          | 0/6 [00:00<?, ?it/s]"
      ]
     },
     "metadata": {},
     "output_type": "display_data"
    },
    {
     "data": {
      "application/vnd.jupyter.widget-view+json": {
       "model_id": "5acd315e0df749da9bc99ea7c505ce73",
       "version_major": 2,
       "version_minor": 0
      },
      "text/plain": [
       "  0%|          | 0/6 [00:00<?, ?it/s]"
      ]
     },
     "metadata": {},
     "output_type": "display_data"
    },
    {
     "data": {
      "application/vnd.jupyter.widget-view+json": {
       "model_id": "6fe3d0b2b8024d93bc78053b6a9cadaf",
       "version_major": 2,
       "version_minor": 0
      },
      "text/plain": [
       "  0%|          | 0/6 [00:00<?, ?it/s]"
      ]
     },
     "metadata": {},
     "output_type": "display_data"
    },
    {
     "name": "stdout",
     "output_type": "stream",
     "text": [
      "less than three spatial cells, cannot compute mean corr for this session\n"
     ]
    },
    {
     "data": {
      "application/vnd.jupyter.widget-view+json": {
       "model_id": "90af4c249e3347b0bf4569f758192c46",
       "version_major": 2,
       "version_minor": 0
      },
      "text/plain": [
       "  0%|          | 0/6 [00:00<?, ?it/s]"
      ]
     },
     "metadata": {},
     "output_type": "display_data"
    },
    {
     "data": {
      "application/vnd.jupyter.widget-view+json": {
       "model_id": "44b31453c7ec4d8bb50675b1575e2eff",
       "version_major": 2,
       "version_minor": 0
      },
      "text/plain": [
       "  0%|          | 0/6 [00:00<?, ?it/s]"
      ]
     },
     "metadata": {},
     "output_type": "display_data"
    },
    {
     "data": {
      "application/vnd.jupyter.widget-view+json": {
       "model_id": "abd13cbac62346b9bb557a7304e3f936",
       "version_major": 2,
       "version_minor": 0
      },
      "text/plain": [
       "  0%|          | 0/6 [00:00<?, ?it/s]"
      ]
     },
     "metadata": {},
     "output_type": "display_data"
    }
   ],
   "source": [
    "''' Measure remapping coordination in each age group ''' \n",
    "smeancorr = []\n",
    "bins = np.arange(0, 0.8, 0.05)\n",
    "\n",
    "# adjust path to output of Fig 2/S3 Notebook where individual grid cell similarity matrices are saved.\n",
    "save_folder = 'C:/Users/Python/Desktop/LocalData/spatialcellssm/crosstrial/sorted/spatial/' \n",
    "\n",
    "for m, session in zip(mice, sessions):\n",
    "    \n",
    "    m_correlation = []\n",
    "    \n",
    "    for s in tdqm(session):\n",
    "        d = data[m][s]\n",
    "        \n",
    "        #get some data & cell IDs\n",
    "        rawdata_file = 'RAW_' + m + '_' + s + '.npy'\n",
    "        raw = np.load(load_folder + rawdata_file, allow_pickle=True)\n",
    "        cell_IDs = raw.item().get('cellsfil')\n",
    "        spatialcell = d['spatialcell99'].astype(bool)\n",
    "        spatialcells = cell_IDs[spatialcell]   \n",
    "        \n",
    "        if m in SM_aged_mice:\n",
    "            col = 'C1'\n",
    "        elif m in SM_MA_mice:\n",
    "            col = 'C2'\n",
    "        else:\n",
    "            col = 'C0'\n",
    "        \n",
    "        if len(spatialcells) > 2:\n",
    "            \n",
    "            allspatialsim_file = 'allspatialsim_' + m + '_' + s + '_'+ '.npy'\n",
    "            allsim = np.load(save_folder + allspatialsim_file)\n",
    "            \n",
    "            correlation = []\n",
    "            for i, c in enumerate(spatialcells):\n",
    "                littlesim = allsim[:,:,i]\n",
    "                allothersim = np.delete(allsim, i, axis = 2)\n",
    "                sim = np.mean(allothersim, axis = 2)\n",
    "                mask = np.triu_indices(sim.shape[0])\n",
    "            \n",
    "                #linearize upper triangles of each sim matrix\n",
    "                uppersim = sim[mask]\n",
    "                upperlittlesim = littlesim[mask]\n",
    "\n",
    "                #compute correlation of front & back matrices with each other\n",
    "                corr, _ = stats.pearsonr(uppersim[~np.isnan(uppersim)], upperlittlesim[~np.isnan(uppersim)])\n",
    "                correlation = np.append(correlation, corr)\n",
    "            \n",
    "            #plot histogram of correlation values per session if you would like\n",
    "            '''\n",
    "            fig, ax = plt.subplots(figsize = (2,2))\n",
    "            ax.hist(correlation, bins = bins, color = col)\n",
    "            ax.set_title(str(m) + '_' + str(s[-1]) + ' Sim vs. CTCM Correlation', fontsize = 8)\n",
    "            plt.show()\n",
    "            '''\n",
    "            #compute the mean for each session\n",
    "            smeancorr = np.append(smeancorr, np.mean(correlation))\n",
    "\n",
    "        else:\n",
    "            print('less than three spatial cells, cannot compute mean corr for this session')\n",
    "            smeancorr = np.append(smeancorr, np.nan)"
   ]
  },
  {
   "cell_type": "code",
   "execution_count": 23,
   "id": "85751653",
   "metadata": {},
   "outputs": [
    {
     "data": {
      "image/png": "[encoded data removed]",
      "text/plain": [
       "<Figure size 212.5x150 with 1 Axes>"
      ]
     },
     "metadata": {},
     "output_type": "display_data"
    }
   ],
   "source": [
    "''' Plot Figure S5D '''\n",
    "\n",
    "#correct plotting indices\n",
    "nan_idxspatial = np.where((sperspatial == 0))[0]\n",
    "y_sindspatial = np.setdiff1d(y_sind, nan_idxspatial)\n",
    "ma_sindspatial = np.setdiff1d(ma_sind, nan_idxspatial)\n",
    "age_sindspatial = np.setdiff1d(age_sind, nan_idxspatial)\n",
    "\n",
    "col_sessionspatial = [col_session_young, col_session_MA, col_session_old] \n",
    "\n",
    "# This will fix session stats & box plots are plotted.\n",
    "\n",
    "labels = ['Young','MA','Aged']\n",
    "fig, ax = plt.subplots(1, 1, figsize=(2.125, 1.5))\n",
    "w = 0.5\n",
    "#f.suptitle('Spatial Cell Animal Network Similarity Matrix Correlation, Pooled by Age Group', fontsize=12)\n",
    "\n",
    "scorr_tog = [smeancorr[y_sindspatial][~np.isnan(smeancorr[y_sindspatial])],smeancorr[ma_sindspatial][~np.isnan(smeancorr[ma_sindspatial])],smeancorr[age_sindspatial][~np.isnan(smeancorr[age_sindspatial])]]\n",
    "ax.boxplot(scorr_tog, widths = w, labels = labels, medianprops = dict(color = 'black'))\n",
    "ax.set_title('Cell vs. Network Similarity', fontsize=10, pad=5)\n",
    "ax.set_xlabel('Age', fontsize=9, labelpad=1)\n",
    "ax.set_ylabel('Correlation', fontsize=9, labelpad=1)\n",
    "ax.set_ylim([0.1,0.70])\n",
    "ax.set_yticks([0.1,0.3,0.5,0.7])\n",
    "\n",
    "for i in range(len(scorr_tog)):\n",
    "    y = scorr_tog[i]\n",
    "    x = np.random.normal(i + 1, 0.04, len(y))\n",
    "    ax.scatter(x, y, color = col_sessionspatial[i][:len(y)], edgecolors = col_sessionspatial[i][:len(y)], alpha = 1, s = 10)\n",
    "\n",
    "ax.tick_params(labelsize = 8)\n",
    "#plt.savefig(save_folder + 'age_meannetworksimcorr_session.png', dpi=400, bbox_inches='tight')\n",
    "#plt.savefig(save_folder + 'age_meannetworksimcorr_session.svg', dpi=400, bbox_inches='tight')\n",
    "plt.show()"
   ]
  },
  {
   "cell_type": "code",
   "execution_count": 24,
   "id": "d168ba91",
   "metadata": {},
   "outputs": [
    {
     "name": "stdout",
     "output_type": "stream",
     "text": [
      "\n",
      "SESSION:\n",
      "corryoung ± SEM; corr_MA ± SEM; corr_old ± SEM\n",
      "0.397 ± 0.009 ; 0.406 ± 0.008 ; 0.395 ± 0.01\n",
      "\n",
      "n young, MA, aged sessions with ≥3 spatial cells\n",
      "53 57 54\n",
      "\n",
      "KW H stat, p-value:\n",
      "0.6047541480801328 0.7390593322531522\n"
     ]
    }
   ],
   "source": [
    "''' Perform Statistics Comparing Cell vs. Network Similarity across Age Groups'''\n",
    "\n",
    "print('\\nSESSION:')\n",
    "print('corryoung ± SEM; corr_MA ± SEM; corr_old ± SEM')\n",
    "print(str(np.round(np.nanmean(smeancorr[y_sindspatial]), 3)) + ' ± ' + str(np.round(stats.sem(smeancorr[y_sindspatial], nan_policy = 'omit'), 3)) + ' ; ' \n",
    "      + str(np.round(np.nanmean(smeancorr[ma_sindspatial]), 3)) + ' ± ' + str(np.round(stats.sem(smeancorr[ma_sindspatial], nan_policy = 'omit'), 3)) + ' ; ' \n",
    "      + str(np.round(np.nanmean(smeancorr[age_sindspatial]), 3)) + ' ± ' + str(np.round(stats.sem(smeancorr[age_sindspatial], nan_policy = 'omit'), 3)))\n",
    "\n",
    "#Non-Parametric version\n",
    "print('\\nn young, MA, aged sessions with ≥3 spatial cells')\n",
    "print(len(smeancorr[y_sindspatial][~np.isnan(smeancorr[y_sindspatial])]), len(smeancorr[ma_sindspatial][~np.isnan(smeancorr[ma_sindspatial])]),len(smeancorr[age_sindspatial][~np.isnan(smeancorr[age_sindspatial])]))\n",
    "\n",
    "H, p = stats.kruskal(smeancorr[y_sindspatial][~np.isnan(smeancorr[y_sindspatial])],smeancorr[ma_sindspatial][~np.isnan(smeancorr[ma_sindspatial])],smeancorr[age_sindspatial][~np.isnan(smeancorr[age_sindspatial])])\n",
    "print('\\nKW H stat, p-value:')\n",
    "print(H, p)"
   ]
  },
  {
   "cell_type": "markdown",
   "id": "1bdfcc59",
   "metadata": {},
   "source": [
    "This suggest that remapping is similarly coordinated among co-recorded cells in sessions across age groups. \n",
    "\n",
    "However, do mice across age groups attend to the moving tower cue in the front 200 cm of the Split Maze to differentiate Context A and B to the same extent? In other words, does the grid network remap happen at the same place along the track or not across age groups? When we compare grid network remapping and map-context alignment across age groups, this will dictate whether we should use the activity along the entire track or just the back 200 cm where most of the context visual cues are."
   ]
  },
  {
   "cell_type": "markdown",
   "id": "79e9214a",
   "metadata": {},
   "source": [
    "# Compare similarity of front vs. back track grid network similarity matrices across age groups (Figure S5I-J).\n",
    "\n",
    "Highly correlated front vs. back track similarity matrices would suggest remapping occurs in the front 200cm of the track. The less correlated these two matrices are, the more likely it is that grid remapping occurs after seeing the back 200cm of the track. "
   ]
  },
  {
   "cell_type": "code",
   "execution_count": 25,
   "id": "2efa12f9",
   "metadata": {
    "scrolled": true
   },
   "outputs": [
    {
     "data": {
      "application/vnd.jupyter.widget-view+json": {
       "model_id": "0dce9b1db7f54611ae3a608f68cadf58",
       "version_major": 2,
       "version_minor": 0
      },
      "text/plain": [
       "  0%|          | 0/3 [00:00<?, ?it/s]"
      ]
     },
     "metadata": {},
     "output_type": "display_data"
    },
    {
     "data": {
      "application/vnd.jupyter.widget-view+json": {
       "model_id": "572f90f6dff040b6a4a61e6d9ee06204",
       "version_major": 2,
       "version_minor": 0
      },
      "text/plain": [
       "  0%|          | 0/6 [00:00<?, ?it/s]"
      ]
     },
     "metadata": {},
     "output_type": "display_data"
    },
    {
     "data": {
      "application/vnd.jupyter.widget-view+json": {
       "model_id": "f4d12b7eb14e436e988c7fbe4532d901",
       "version_major": 2,
       "version_minor": 0
      },
      "text/plain": [
       "  0%|          | 0/4 [00:00<?, ?it/s]"
      ]
     },
     "metadata": {},
     "output_type": "display_data"
    },
    {
     "data": {
      "application/vnd.jupyter.widget-view+json": {
       "model_id": "cadbd8827a2e464d898b58c3a6d666e6",
       "version_major": 2,
       "version_minor": 0
      },
      "text/plain": [
       "  0%|          | 0/6 [00:00<?, ?it/s]"
      ]
     },
     "metadata": {},
     "output_type": "display_data"
    },
    {
     "data": {
      "application/vnd.jupyter.widget-view+json": {
       "model_id": "ff63c24b17d44ca7b7a9a40e15859634",
       "version_major": 2,
       "version_minor": 0
      },
      "text/plain": [
       "  0%|          | 0/6 [00:00<?, ?it/s]"
      ]
     },
     "metadata": {},
     "output_type": "display_data"
    },
    {
     "data": {
      "application/vnd.jupyter.widget-view+json": {
       "model_id": "2a8d2871055e4c80858c148f8be384a0",
       "version_major": 2,
       "version_minor": 0
      },
      "text/plain": [
       "  0%|          | 0/6 [00:00<?, ?it/s]"
      ]
     },
     "metadata": {},
     "output_type": "display_data"
    },
    {
     "data": {
      "application/vnd.jupyter.widget-view+json": {
       "model_id": "c1341c7f3e154b67986aa0f150e8f268",
       "version_major": 2,
       "version_minor": 0
      },
      "text/plain": [
       "  0%|          | 0/6 [00:00<?, ?it/s]"
      ]
     },
     "metadata": {},
     "output_type": "display_data"
    },
    {
     "data": {
      "application/vnd.jupyter.widget-view+json": {
       "model_id": "071a377a143a4e04867d4b65c1f1ff0c",
       "version_major": 2,
       "version_minor": 0
      },
      "text/plain": [
       "  0%|          | 0/6 [00:00<?, ?it/s]"
      ]
     },
     "metadata": {},
     "output_type": "display_data"
    },
    {
     "name": "stdout",
     "output_type": "stream",
     "text": [
      "A22 012923_record2\n"
     ]
    },
    {
     "data": {
      "image/png": "[encoded data removed]",
      "text/plain": [
       "<Figure size 260x125 with 4 Axes>"
      ]
     },
     "metadata": {},
     "output_type": "display_data"
    },
    {
     "data": {
      "application/vnd.jupyter.widget-view+json": {
       "model_id": "f23762cba4b84c5cadce60a2cc88a42b",
       "version_major": 2,
       "version_minor": 0
      },
      "text/plain": [
       "  0%|          | 0/6 [00:00<?, ?it/s]"
      ]
     },
     "metadata": {},
     "output_type": "display_data"
    },
    {
     "data": {
      "application/vnd.jupyter.widget-view+json": {
       "model_id": "9f66eb14a6ed422a9bb5631e81403fa6",
       "version_major": 2,
       "version_minor": 0
      },
      "text/plain": [
       "  0%|          | 0/6 [00:00<?, ?it/s]"
      ]
     },
     "metadata": {},
     "output_type": "display_data"
    },
    {
     "data": {
      "application/vnd.jupyter.widget-view+json": {
       "model_id": "321cd89f37d8442eb48cf86c0ccb1b80",
       "version_major": 2,
       "version_minor": 0
      },
      "text/plain": [
       "  0%|          | 0/6 [00:00<?, ?it/s]"
      ]
     },
     "metadata": {},
     "output_type": "display_data"
    },
    {
     "data": {
      "application/vnd.jupyter.widget-view+json": {
       "model_id": "3268a6d6060d4129a4b4729353e0e845",
       "version_major": 2,
       "version_minor": 0
      },
      "text/plain": [
       "  0%|          | 0/6 [00:00<?, ?it/s]"
      ]
     },
     "metadata": {},
     "output_type": "display_data"
    },
    {
     "data": {
      "application/vnd.jupyter.widget-view+json": {
       "model_id": "5d547cb1fbf940a5bfa5ed133c225d8f",
       "version_major": 2,
       "version_minor": 0
      },
      "text/plain": [
       "  0%|          | 0/6 [00:00<?, ?it/s]"
      ]
     },
     "metadata": {},
     "output_type": "display_data"
    },
    {
     "data": {
      "application/vnd.jupyter.widget-view+json": {
       "model_id": "790913818b0848eba750d196465cc075",
       "version_major": 2,
       "version_minor": 0
      },
      "text/plain": [
       "  0%|          | 0/6 [00:00<?, ?it/s]"
      ]
     },
     "metadata": {},
     "output_type": "display_data"
    },
    {
     "data": {
      "application/vnd.jupyter.widget-view+json": {
       "model_id": "96421493a61c4557b477416c225ae92a",
       "version_major": 2,
       "version_minor": 0
      },
      "text/plain": [
       "  0%|          | 0/6 [00:00<?, ?it/s]"
      ]
     },
     "metadata": {},
     "output_type": "display_data"
    },
    {
     "data": {
      "application/vnd.jupyter.widget-view+json": {
       "model_id": "6f348f25a43247dea4b8c0e3b357235f",
       "version_major": 2,
       "version_minor": 0
      },
      "text/plain": [
       "  0%|          | 0/6 [00:00<?, ?it/s]"
      ]
     },
     "metadata": {},
     "output_type": "display_data"
    },
    {
     "name": "stderr",
     "output_type": "stream",
     "text": [
      "C:\\Users\\Python\\AppData\\Local\\Temp\\ipykernel_19708\\75634341.py:72: RuntimeWarning: invalid value encountered in divide\n",
      "  firing_rate[:, :, c] = (firing_rate[:, :, c] - np.min(firing_rate[:, :, c]))/np.max(firing_rate[:, :, c] - np.min(firing_rate[:, :, c]))\n"
     ]
    },
    {
     "data": {
      "application/vnd.jupyter.widget-view+json": {
       "model_id": "5254e4186c9746ada377a7c91156dc41",
       "version_major": 2,
       "version_minor": 0
      },
      "text/plain": [
       "  0%|          | 0/6 [00:00<?, ?it/s]"
      ]
     },
     "metadata": {},
     "output_type": "display_data"
    },
    {
     "name": "stdout",
     "output_type": "stream",
     "text": [
      "MA6M 110422_record6\n"
     ]
    },
    {
     "data": {
      "image/png": "[encoded data removed]",
      "text/plain": [
       "<Figure size 260x125 with 4 Axes>"
      ]
     },
     "metadata": {},
     "output_type": "display_data"
    },
    {
     "data": {
      "application/vnd.jupyter.widget-view+json": {
       "model_id": "b0f66de312bf4881bedadca440c02151",
       "version_major": 2,
       "version_minor": 0
      },
      "text/plain": [
       "  0%|          | 0/4 [00:00<?, ?it/s]"
      ]
     },
     "metadata": {},
     "output_type": "display_data"
    },
    {
     "data": {
      "application/vnd.jupyter.widget-view+json": {
       "model_id": "07b1f2625fb14ee0a63e78ba88b3b902",
       "version_major": 2,
       "version_minor": 0
      },
      "text/plain": [
       "  0%|          | 0/6 [00:00<?, ?it/s]"
      ]
     },
     "metadata": {},
     "output_type": "display_data"
    },
    {
     "data": {
      "application/vnd.jupyter.widget-view+json": {
       "model_id": "406b30a37ac242228cd54c429c56667c",
       "version_major": 2,
       "version_minor": 0
      },
      "text/plain": [
       "  0%|          | 0/6 [00:00<?, ?it/s]"
      ]
     },
     "metadata": {},
     "output_type": "display_data"
    },
    {
     "data": {
      "application/vnd.jupyter.widget-view+json": {
       "model_id": "61ff647faef74951973ee2f156b7be7a",
       "version_major": 2,
       "version_minor": 0
      },
      "text/plain": [
       "  0%|          | 0/6 [00:00<?, ?it/s]"
      ]
     },
     "metadata": {},
     "output_type": "display_data"
    },
    {
     "data": {
      "application/vnd.jupyter.widget-view+json": {
       "model_id": "b4645d1ccd56496baeebd68bce576357",
       "version_major": 2,
       "version_minor": 0
      },
      "text/plain": [
       "  0%|          | 0/6 [00:00<?, ?it/s]"
      ]
     },
     "metadata": {},
     "output_type": "display_data"
    },
    {
     "data": {
      "application/vnd.jupyter.widget-view+json": {
       "model_id": "14762e27e98748cfb7e1b6cb747cf83e",
       "version_major": 2,
       "version_minor": 0
      },
      "text/plain": [
       "  0%|          | 0/6 [00:00<?, ?it/s]"
      ]
     },
     "metadata": {},
     "output_type": "display_data"
    },
    {
     "name": "stdout",
     "output_type": "stream",
     "text": [
      "Y22 093022_record6\n"
     ]
    },
    {
     "data": {
      "image/png": "[encoded data removed]",
      "text/plain": [
       "<Figure size 260x125 with 4 Axes>"
      ]
     },
     "metadata": {},
     "output_type": "display_data"
    },
    {
     "data": {
      "application/vnd.jupyter.widget-view+json": {
       "model_id": "f6fd370a94b8476288924cbf0c76e8a2",
       "version_major": 2,
       "version_minor": 0
      },
      "text/plain": [
       "  0%|          | 0/6 [00:00<?, ?it/s]"
      ]
     },
     "metadata": {},
     "output_type": "display_data"
    },
    {
     "data": {
      "application/vnd.jupyter.widget-view+json": {
       "model_id": "09908beb911941fdab5646e522ba40cf",
       "version_major": 2,
       "version_minor": 0
      },
      "text/plain": [
       "  0%|          | 0/6 [00:00<?, ?it/s]"
      ]
     },
     "metadata": {},
     "output_type": "display_data"
    },
    {
     "data": {
      "application/vnd.jupyter.widget-view+json": {
       "model_id": "221a3dac706a4e419116390a3cc47895",
       "version_major": 2,
       "version_minor": 0
      },
      "text/plain": [
       "  0%|          | 0/6 [00:00<?, ?it/s]"
      ]
     },
     "metadata": {},
     "output_type": "display_data"
    },
    {
     "data": {
      "application/vnd.jupyter.widget-view+json": {
       "model_id": "3c2e01cbd06043a3a9acca4ed8bfd72c",
       "version_major": 2,
       "version_minor": 0
      },
      "text/plain": [
       "  0%|          | 0/6 [00:00<?, ?it/s]"
      ]
     },
     "metadata": {},
     "output_type": "display_data"
    },
    {
     "data": {
      "application/vnd.jupyter.widget-view+json": {
       "model_id": "f07e306d957d42ad9d0456e6118ed6f9",
       "version_major": 2,
       "version_minor": 0
      },
      "text/plain": [
       "  0%|          | 0/6 [00:00<?, ?it/s]"
      ]
     },
     "metadata": {},
     "output_type": "display_data"
    },
    {
     "data": {
      "application/vnd.jupyter.widget-view+json": {
       "model_id": "8375642fae0c4fb29c44a781df5fe4fa",
       "version_major": 2,
       "version_minor": 0
      },
      "text/plain": [
       "  0%|          | 0/6 [00:00<?, ?it/s]"
      ]
     },
     "metadata": {},
     "output_type": "display_data"
    }
   ],
   "source": [
    "''' Compute Front vs. Back Track Grid Network Similarity Matrices for all Sessions, plotting Figure S5I examples along the way\n",
    "\n",
    "Run time: ~15-30 seconds / session for 134 sessions w/ ≥ 10 grid cells\n",
    "\n",
    "''' \n",
    "\n",
    "from scipy.spatial.distance import pdist\n",
    "from scipy.spatial.distance import squareform\n",
    "\n",
    "dt = 0.02\n",
    "grid_min = 10 \n",
    "save_folder = 'C:/Users/Python/Desktop/LocalData/spatialcellssm/simmatrices/' #adjust save path\n",
    "\n",
    "# if you want to plot all sessions:\n",
    "#example_mice = mice\n",
    "#example_sessions = sessions\n",
    "\n",
    "# if you want to plot only example sessions from Figure S5I:\n",
    "example_mice = ['Y22','MA6M','A22']\n",
    "example_sessions = ['093022_record6','110422_record6','012923_record2']\n",
    "\n",
    "for m, session in zip(mice, sessions):\n",
    "    for s in tdqm(session):\n",
    "        frontonlytrials = []\n",
    "        backonlytrials = []\n",
    "        d = data[m][s]\n",
    "        \n",
    "        #get some data & cell IDs\n",
    "        rawdata_file = 'RAW_' + m + '_' + s + '.npy'\n",
    "        spikes_file = 'SPIKES_' + m + '_' + s +'.npy'\n",
    "        behavior_file = 'BEHAVIOR_' + m + '_' + s + '.npy'\n",
    "        \n",
    "        raw = np.load(load_folder + rawdata_file, allow_pickle=True)\n",
    "        Y = np.load(load_folder + spikes_file, allow_pickle=False) #pre-filtered for speeds >2cm/s, position-corrected spikes, 20 ms timebins\n",
    "        behaviorfil = np.load(load_folder + behavior_file, allow_pickle=False)\n",
    "        \n",
    "        cell_IDs = raw.item().get('cellsfil')\n",
    "        spatialcell = d['spatialcell99'].astype(bool)\n",
    "        spatialcells = cell_IDs[spatialcell]   \n",
    "        \n",
    "        if len(spatialcells) > grid_min:\n",
    "        \n",
    "            posx = behaviorfil[:,0]\n",
    "            trial = behaviorfil[:,2]\n",
    "            rawtrialfil = raw.item().get('trialfil')\n",
    "\n",
    "            #Find any skipped trials\n",
    "            try:\n",
    "                _ = raw.item().get('correctedtrial').shape\n",
    "                if (len(np.unique(trial)) < 220): \n",
    "                    alltrial = np.arange(0, np.max(np.unique(trial)) + 1 , 1)\n",
    "                else:    \n",
    "                    alltrial = np.arange(0,220,1)\n",
    "                skippedtrials = np.setdiff1d(alltrial, np.unique(trial)).astype(int)\n",
    "                #print('Skipped trials, n skipped = ' + str(len(skippedtrials)) + str(skippedtrials))\n",
    "            except: \n",
    "                skippedtrials = []\n",
    "                alltrial = np.arange(0, 220, 1)\n",
    "\n",
    "            if np.max(np.unique(trial)) < 160: #handles truncated, shorter sessions \n",
    "                alltrial = np.arange(0, np.max(np.unique(trial)) + 2, 1)\n",
    "                #print(m, s)\n",
    "            else:\n",
    "                alltrial = np.arange(0,220,1)\n",
    "\n",
    "            # Load in left vs. right info\n",
    "            trials = np.unique(trial)\n",
    "            trialinfo = raw.item().get('trialinfo')\n",
    "            left = trialinfo['left']\n",
    "\n",
    "            #sort trial labels to correspond\n",
    "            posxcopy = posx.copy()\n",
    "            leftsort = left.copy()\n",
    "            alt_idx = 140\n",
    "            lefttail = left[alt_idx:]\n",
    "            lefttail = 1 - lefttail\n",
    "            leftsort[alt_idx:] = lefttail[np.argsort(lefttail, kind = 'stable')]\n",
    "\n",
    "            #revise skippedtrials locations\n",
    "            allcopy = alltrial.copy()\n",
    "            alltail = alltrial[alt_idx:]\n",
    "            allcopy[alt_idx:] = alltail[np.argsort(lefttail, kind = 'stable')]\n",
    "            newskippedtrials = []\n",
    "            for z in skippedtrials:\n",
    "                newskippedtrials = np.append(newskippedtrials, np.where(allcopy == z)[0][0])\n",
    "\n",
    "            ndarkskipped = 0\n",
    "            for z in newskippedtrials:\n",
    "                if z < 20: \n",
    "                    ndarkskipped += 1\n",
    "\n",
    "            #sort position & spike train, all copy is in the sorted order\n",
    "            posxcopy = []\n",
    "            allcopy = np.append(allcopy, 220)\n",
    "            for t in allcopy:\n",
    "                obs_idx = np.where(trial == t)[0]\n",
    "                posxcopy = np.append(posxcopy, posx[obs_idx])\n",
    "\n",
    "                if t == 0:\n",
    "                    Z = Y[obs_idx,:]\n",
    "                else: \n",
    "                    Z = np.append(Z, Y[obs_idx,:], axis = 0)\n",
    "\n",
    "            #adjust trialfil so that sorted trials are skipped instead\n",
    "            count = 0\n",
    "            if len(skippedtrials) > 0 :\n",
    "                skippedrawtrialfil = rawtrialfil.copy()\n",
    "                consec = count_consec(list(np.sort(newskippedtrials).astype(int)))\n",
    "\n",
    "                for i, k in enumerate(consec):\n",
    "                    t = np.sort(newskippedtrials)[count] \n",
    "                    #print(i,t,k)\n",
    "\n",
    "                    if i == 0: \n",
    "                        skippedrawtrialfil[rawtrialfil >= t] = skippedrawtrialfil[rawtrialfil >= t] + k\n",
    "                    else: \n",
    "                        skippedrawtrialfil[skippedrawtrialfil >= t] = skippedrawtrialfil[skippedrawtrialfil >= t] + k\n",
    "\n",
    "                    count += k\n",
    "            else:\n",
    "                skippedrawtrialfil = trial.copy()\n",
    "\n",
    "            #remove dark & trial 220 dataframes     \n",
    "            start_idx = (np.where(skippedrawtrialfil >= 20)[0][0]).astype(int)\n",
    "            if np.max(skippedrawtrialfil) == 220:\n",
    "                end_idx = (np.where(skippedrawtrialfil == 220)[0][0])\n",
    "            else:\n",
    "                end_idx = len(skippedrawtrialfil) + 1\n",
    "\n",
    "            #divide observations into front and back halves\n",
    "            frontidx = np.where(posxcopy < 200)[0].astype(int)\n",
    "            backidx = np.where(posxcopy >= 200)[0].astype(int)\n",
    "            VRidx = np.arange(start_idx, end_idx, 1)\n",
    "            VRfrontidx = np.intersect1d(VRidx, frontidx)\n",
    "            VRbackidx = np.intersect1d(VRidx, backidx)\n",
    "\n",
    "            frontonlytrials = np.append(frontonlytrials, np.setdiff1d(np.unique(skippedrawtrialfil[VRfrontidx]), np.unique(skippedrawtrialfil[VRbackidx])))\n",
    "            frontonlyidx = []\n",
    "            for t in frontonlytrials:\n",
    "                frontonlyidx = np.append(frontonlyidx, np.where(np.unique(skippedrawtrialfil[VRfrontidx]) == t)[0])\n",
    "            d['frontonlytrials'] = frontonlyidx\n",
    "\n",
    "            backonlytrials = np.append(backonlytrials, np.setdiff1d(np.unique(skippedrawtrialfil[VRbackidx]), np.unique(skippedrawtrialfil[VRfrontidx])))\n",
    "            backonlyidx = []\n",
    "            for t in backonlytrials:\n",
    "                 backonlyidx = np.append(backonlyidx, np.where(np.unique(skippedrawtrialfil[VRbackidx]) == t)[0])\n",
    "            d['backonlytrials'] = backonlyidx\n",
    "\n",
    "            #get smoothed by trial FR matrix excluding dark period sorted by context using front half of track\n",
    "            normFR, _, _ = tuning_curve_bytrial(posxcopy[VRfrontidx], skippedrawtrialfil[VRfrontidx], Z[VRfrontidx,:], dt, sigma = 5, b=2, smooth=True, normalize=True, occupancy=True)\n",
    "\n",
    "            #get & plot similarity matrix for all spatial cells\n",
    "            spatialcell = d['spatialcell99'].astype(bool)\n",
    "            spatialcells = cell_IDs[spatialcell]\n",
    "\n",
    "            sdx = []\n",
    "            for i, c in enumerate(spatialcells):\n",
    "                sd = (np.where(cell_IDs == c)[0][0]).astype(int)\n",
    "                sdx.append(sd)\n",
    "\n",
    "            normspatialgridFR = normFR[:,:,sdx] \n",
    "            normspatialgridFR_unwrapped = np.reshape(normspatialgridFR, (normspatialgridFR.shape[0], -1))\n",
    "            sim_vec = np.abs(pdist(normspatialgridFR_unwrapped, 'correlation')-1)\n",
    "            sim1 = squareform(sim_vec)\n",
    "            d['spatialsimilarityfront'] = sim1\n",
    "\n",
    "            #save matrix\n",
    "           # sim1_file = 'sim1_' + m + '_' + s + '_'+ '.npy'\n",
    "           # np.save(save_folder + sim1_file, sim1)\n",
    "\n",
    "            #get smoothed by trial FR matrix excluding dark period sorted by context using front half of track\n",
    "            normFR, _, _ = tuning_curve_bytrial(posxcopy[VRbackidx], skippedrawtrialfil[VRbackidx], Z[VRbackidx,:], dt, sigma = 5, b=2, smooth=True, normalize=True, occupancy=True)\n",
    "\n",
    "            #get & plot similarity matrix for all grid cells  \n",
    "            normspatialgridFR = normFR[:,:,sdx] \n",
    "            normspatialgridFR_unwrapped = np.reshape(normspatialgridFR, (normspatialgridFR.shape[0], -1))\n",
    "            sim_vec = np.abs(pdist(normspatialgridFR_unwrapped, 'correlation')-1)\n",
    "            sim2 = squareform(sim_vec)        \n",
    "            d['spatialsimilarityback'] = sim2\n",
    "\n",
    "            #save matrix\n",
    "           # sim2_file = 'sim2_' + m + '_' + s + '_'+ '.npy'\n",
    "           # np.save(save_folder + sim2_file, sim2)\n",
    "\n",
    "            #Plot front vs. back sim matrices side by side if an example session/mouse (Figure S5I)\n",
    "            if (m in example_mice) and (s in example_sessions):\n",
    "                print(m, s)\n",
    "\n",
    "                # add ticks to label contexts dynamically\n",
    "                colors = ['xkcd:pink','xkcd:blue','xkcd:pink', 'xkcd:blue']\n",
    "                labels = ['A', 'B','A`','B`']\n",
    "                lengthdark = (20 - ndarkskipped)\n",
    "                lengthA = len(np.unique(skippedrawtrialfil)[np.unique(skippedrawtrialfil) < (80 - lengthdark)])\n",
    "                nA_ = np.sum(1 - leftsort[alltrial >= 140])\n",
    "                lengthB = len(np.unique(skippedrawtrialfil)[(np.unique(skippedrawtrialfil) >= (80 - lengthdark)) & (np.unique(skippedrawtrialfil) < (140 - lengthdark))])\n",
    "                lengthA_ = len(np.unique(skippedrawtrialfil)[(np.unique(skippedrawtrialfil) >= (140 - lengthdark)) & (np.unique(skippedrawtrialfil) < (140 + nA_ - lengthdark))])\n",
    "                end =  sim1.shape[0]\n",
    "                ticks = np.array([0, lengthA, (lengthA + lengthB), (lengthA + lengthB + lengthA_), end])\n",
    "                nB_ = end - (lengthA + lengthB + lengthA_) \n",
    "                textloc = np.array([lengthA // 2, (lengthA + lengthB // 2), (lengthA + lengthB + lengthA_//2), (lengthA + lengthB + lengthA_ + nB_//2)])\n",
    "\n",
    "                if m in SM_aged_mice:\n",
    "                    col = 'C1'\n",
    "                elif m in SM_MA_mice:\n",
    "                    col = 'C2'\n",
    "                else:\n",
    "                    col = 'C0'\n",
    "                \n",
    "                f, axs = plt.subplots(1,2, figsize=(2.6, 1.25))\n",
    "                #f.suptitle(str(m) + '_' + str(s[-1]), fontsize = 10, color = col)\n",
    "                im = axs[0].imshow(sim1, clim=[0, 1.0], aspect='auto', cmap='Greys')\n",
    "                axs[0].set_title('Front'.format(m, s[-1]), fontsize=10, pad=3)\n",
    "                axs[0].set_yticks(ticks, labels = [])\n",
    "                axs[0].set_xticks(ticks, labels = [])\n",
    "                for n, j in enumerate(labels):\n",
    "                    axs[0].text(textloc[n] - 10, 240, j, color = colors[n], fontsize = 9)\n",
    "                    axs[0].text(-40, textloc[n] + 10, j, color = colors[n], fontsize = 9)\n",
    "                cbar = plt.colorbar(im, shrink = 0.8, ax = axs[0],ticks=np.arange(0,1.1,0.5))\n",
    "                cbar.ax.tick_params(labelsize = 9)\n",
    "\n",
    "                im = axs[1].imshow(sim2, clim=[0, 1.0], aspect='auto', cmap='Greys')\n",
    "                axs[1].set_title('Back'.format(m, s[-1]), fontsize=10, pad=3)\n",
    "                axs[1].set_yticks(ticks, labels = [])\n",
    "                axs[1].set_xticks(ticks, labels = [])\n",
    "                for n, j in enumerate(labels):\n",
    "                    axs[1].text(textloc[n] - 10, 240, j, color = colors[n], fontsize = 9)\n",
    "                    axs[1].text(-40, textloc[n] + 10, j, color = colors[n], fontsize = 9)\n",
    "                cbar = plt.colorbar(im, shrink = 0.8, ax = axs[1],ticks=np.arange(0,1.1,0.5))\n",
    "                cbar.ax.tick_params(labelsize = 9)\n",
    "\n",
    "                plt.tight_layout()\n",
    "                #f.savefig(save_folder + str(m) + '/' + str(s) + '_splitsimgridmatrices.png', dpi = 400)\n",
    "                #f.savefig(save_folder + str(m) + '/' + str(s) + '_splitsimgridmatrices.svg', dpi = 400)\n",
    "                plt.show()\n",
    "                plt.close(f)  "
   ]
  },
  {
   "cell_type": "code",
   "execution_count": 41,
   "id": "eadf725c",
   "metadata": {
    "scrolled": true
   },
   "outputs": [
    {
     "data": {
      "application/vnd.jupyter.widget-view+json": {
       "model_id": "2f12c2fa5d7f46f882993dba32b74d7f",
       "version_major": 2,
       "version_minor": 0
      },
      "text/plain": [
       "  0%|          | 0/3 [00:00<?, ?it/s]"
      ]
     },
     "metadata": {},
     "output_type": "display_data"
    },
    {
     "data": {
      "application/vnd.jupyter.widget-view+json": {
       "model_id": "ee56620a1fc74ba9ba25c29668aaff80",
       "version_major": 2,
       "version_minor": 0
      },
      "text/plain": [
       "  0%|          | 0/6 [00:00<?, ?it/s]"
      ]
     },
     "metadata": {},
     "output_type": "display_data"
    },
    {
     "name": "stderr",
     "output_type": "stream",
     "text": [
      "C:\\Users\\Python\\AppData\\Local\\Temp\\ipykernel_19708\\4269581178.py:57: RuntimeWarning: Mean of empty slice\n",
      "  mcorrfb = np.append(mcorrfb, np.nanmean(m_corr))\n"
     ]
    },
    {
     "data": {
      "application/vnd.jupyter.widget-view+json": {
       "model_id": "0f732a8b009e4dabae19025aa35da71f",
       "version_major": 2,
       "version_minor": 0
      },
      "text/plain": [
       "  0%|          | 0/4 [00:00<?, ?it/s]"
      ]
     },
     "metadata": {},
     "output_type": "display_data"
    },
    {
     "data": {
      "application/vnd.jupyter.widget-view+json": {
       "model_id": "45dc242df8af4321bae01d140fbeb63d",
       "version_major": 2,
       "version_minor": 0
      },
      "text/plain": [
       "  0%|          | 0/6 [00:00<?, ?it/s]"
      ]
     },
     "metadata": {},
     "output_type": "display_data"
    },
    {
     "data": {
      "application/vnd.jupyter.widget-view+json": {
       "model_id": "876e07e21574494d9170bbeaaa8b701b",
       "version_major": 2,
       "version_minor": 0
      },
      "text/plain": [
       "  0%|          | 0/6 [00:00<?, ?it/s]"
      ]
     },
     "metadata": {},
     "output_type": "display_data"
    },
    {
     "data": {
      "application/vnd.jupyter.widget-view+json": {
       "model_id": "73abbf2d59f64867bc204174af89ff85",
       "version_major": 2,
       "version_minor": 0
      },
      "text/plain": [
       "  0%|          | 0/6 [00:00<?, ?it/s]"
      ]
     },
     "metadata": {},
     "output_type": "display_data"
    },
    {
     "data": {
      "application/vnd.jupyter.widget-view+json": {
       "model_id": "4d51c9cde3b84fe98fae83d48db40a26",
       "version_major": 2,
       "version_minor": 0
      },
      "text/plain": [
       "  0%|          | 0/6 [00:00<?, ?it/s]"
      ]
     },
     "metadata": {},
     "output_type": "display_data"
    },
    {
     "data": {
      "application/vnd.jupyter.widget-view+json": {
       "model_id": "c8e4f33e1c114e368a994e6e590d7739",
       "version_major": 2,
       "version_minor": 0
      },
      "text/plain": [
       "  0%|          | 0/6 [00:00<?, ?it/s]"
      ]
     },
     "metadata": {},
     "output_type": "display_data"
    },
    {
     "data": {
      "application/vnd.jupyter.widget-view+json": {
       "model_id": "3c869f5534c74e6190e9510712abcce3",
       "version_major": 2,
       "version_minor": 0
      },
      "text/plain": [
       "  0%|          | 0/6 [00:00<?, ?it/s]"
      ]
     },
     "metadata": {},
     "output_type": "display_data"
    },
    {
     "data": {
      "application/vnd.jupyter.widget-view+json": {
       "model_id": "a6cab1cead2a420ab3260aebc996feb5",
       "version_major": 2,
       "version_minor": 0
      },
      "text/plain": [
       "  0%|          | 0/6 [00:00<?, ?it/s]"
      ]
     },
     "metadata": {},
     "output_type": "display_data"
    },
    {
     "data": {
      "application/vnd.jupyter.widget-view+json": {
       "model_id": "355dd0900a7e4b5b95aeb02795db91dc",
       "version_major": 2,
       "version_minor": 0
      },
      "text/plain": [
       "  0%|          | 0/6 [00:00<?, ?it/s]"
      ]
     },
     "metadata": {},
     "output_type": "display_data"
    },
    {
     "data": {
      "application/vnd.jupyter.widget-view+json": {
       "model_id": "ccbb7d39771f479bba4334355a638b87",
       "version_major": 2,
       "version_minor": 0
      },
      "text/plain": [
       "  0%|          | 0/6 [00:00<?, ?it/s]"
      ]
     },
     "metadata": {},
     "output_type": "display_data"
    },
    {
     "data": {
      "application/vnd.jupyter.widget-view+json": {
       "model_id": "6ba254182577456c8096b7cc72c94362",
       "version_major": 2,
       "version_minor": 0
      },
      "text/plain": [
       "  0%|          | 0/6 [00:00<?, ?it/s]"
      ]
     },
     "metadata": {},
     "output_type": "display_data"
    },
    {
     "data": {
      "application/vnd.jupyter.widget-view+json": {
       "model_id": "4349adce9e934df8bf9e2da6f8ac9508",
       "version_major": 2,
       "version_minor": 0
      },
      "text/plain": [
       "  0%|          | 0/6 [00:00<?, ?it/s]"
      ]
     },
     "metadata": {},
     "output_type": "display_data"
    },
    {
     "data": {
      "application/vnd.jupyter.widget-view+json": {
       "model_id": "8aac88dd8e2b4bd1999ccecd6248beb4",
       "version_major": 2,
       "version_minor": 0
      },
      "text/plain": [
       "  0%|          | 0/6 [00:00<?, ?it/s]"
      ]
     },
     "metadata": {},
     "output_type": "display_data"
    },
    {
     "data": {
      "application/vnd.jupyter.widget-view+json": {
       "model_id": "25d2fa8e359045388dd177b7a346965a",
       "version_major": 2,
       "version_minor": 0
      },
      "text/plain": [
       "  0%|          | 0/6 [00:00<?, ?it/s]"
      ]
     },
     "metadata": {},
     "output_type": "display_data"
    },
    {
     "data": {
      "application/vnd.jupyter.widget-view+json": {
       "model_id": "c35700df75884f92a212f4d870042c62",
       "version_major": 2,
       "version_minor": 0
      },
      "text/plain": [
       "  0%|          | 0/6 [00:00<?, ?it/s]"
      ]
     },
     "metadata": {},
     "output_type": "display_data"
    },
    {
     "data": {
      "application/vnd.jupyter.widget-view+json": {
       "model_id": "063647f4cd1045c5a0c65c296305e78d",
       "version_major": 2,
       "version_minor": 0
      },
      "text/plain": [
       "  0%|          | 0/4 [00:00<?, ?it/s]"
      ]
     },
     "metadata": {},
     "output_type": "display_data"
    },
    {
     "data": {
      "application/vnd.jupyter.widget-view+json": {
       "model_id": "56f751fdd3884d408a298df7f945df6a",
       "version_major": 2,
       "version_minor": 0
      },
      "text/plain": [
       "  0%|          | 0/6 [00:00<?, ?it/s]"
      ]
     },
     "metadata": {},
     "output_type": "display_data"
    },
    {
     "data": {
      "application/vnd.jupyter.widget-view+json": {
       "model_id": "f8d401a725214859be9dc5a7ff0a6101",
       "version_major": 2,
       "version_minor": 0
      },
      "text/plain": [
       "  0%|          | 0/6 [00:00<?, ?it/s]"
      ]
     },
     "metadata": {},
     "output_type": "display_data"
    },
    {
     "data": {
      "application/vnd.jupyter.widget-view+json": {
       "model_id": "59ba8156ee474fb6a3041ffebbfd560f",
       "version_major": 2,
       "version_minor": 0
      },
      "text/plain": [
       "  0%|          | 0/6 [00:00<?, ?it/s]"
      ]
     },
     "metadata": {},
     "output_type": "display_data"
    },
    {
     "data": {
      "application/vnd.jupyter.widget-view+json": {
       "model_id": "8af2e1821097490fa44549c356b24972",
       "version_major": 2,
       "version_minor": 0
      },
      "text/plain": [
       "  0%|          | 0/6 [00:00<?, ?it/s]"
      ]
     },
     "metadata": {},
     "output_type": "display_data"
    },
    {
     "data": {
      "application/vnd.jupyter.widget-view+json": {
       "model_id": "f43abe66f77f4a2dbd695a828b3c0b22",
       "version_major": 2,
       "version_minor": 0
      },
      "text/plain": [
       "  0%|          | 0/6 [00:00<?, ?it/s]"
      ]
     },
     "metadata": {},
     "output_type": "display_data"
    },
    {
     "data": {
      "application/vnd.jupyter.widget-view+json": {
       "model_id": "08d3f9772f1a450580b2b0e4889bb063",
       "version_major": 2,
       "version_minor": 0
      },
      "text/plain": [
       "  0%|          | 0/6 [00:00<?, ?it/s]"
      ]
     },
     "metadata": {},
     "output_type": "display_data"
    },
    {
     "data": {
      "application/vnd.jupyter.widget-view+json": {
       "model_id": "6ce90265025244a69c39f54db7762fd5",
       "version_major": 2,
       "version_minor": 0
      },
      "text/plain": [
       "  0%|          | 0/6 [00:00<?, ?it/s]"
      ]
     },
     "metadata": {},
     "output_type": "display_data"
    },
    {
     "data": {
      "application/vnd.jupyter.widget-view+json": {
       "model_id": "4d7f0b27c83b4ae584c9df9c9831245e",
       "version_major": 2,
       "version_minor": 0
      },
      "text/plain": [
       "  0%|          | 0/6 [00:00<?, ?it/s]"
      ]
     },
     "metadata": {},
     "output_type": "display_data"
    },
    {
     "data": {
      "application/vnd.jupyter.widget-view+json": {
       "model_id": "401f0d6e84544cf08052f98b7488c6c0",
       "version_major": 2,
       "version_minor": 0
      },
      "text/plain": [
       "  0%|          | 0/6 [00:00<?, ?it/s]"
      ]
     },
     "metadata": {},
     "output_type": "display_data"
    },
    {
     "data": {
      "application/vnd.jupyter.widget-view+json": {
       "model_id": "910c5048d6c44a9e85e4c7b268d66320",
       "version_major": 2,
       "version_minor": 0
      },
      "text/plain": [
       "  0%|          | 0/6 [00:00<?, ?it/s]"
      ]
     },
     "metadata": {},
     "output_type": "display_data"
    },
    {
     "data": {
      "application/vnd.jupyter.widget-view+json": {
       "model_id": "0e131901631e44dd8b2e4b04d9ef09fe",
       "version_major": 2,
       "version_minor": 0
      },
      "text/plain": [
       "  0%|          | 0/6 [00:00<?, ?it/s]"
      ]
     },
     "metadata": {},
     "output_type": "display_data"
    }
   ],
   "source": [
    "''' Compute Magnitude of Correlation btwn Similarity Matrices '''\n",
    "\n",
    "scorrfb = []\n",
    "mcorrfb = []\n",
    "spatialmultimapsesh = []\n",
    "\n",
    "for m, session in zip(mice, sessions):\n",
    "    \n",
    "    m_corr = []\n",
    "    \n",
    "    for s in tdqm(session):\n",
    "        d = data[m][s]\n",
    "        \n",
    "        #get some data & cell IDs\n",
    "        rawdata_file = 'RAW_' + m + '_' + s + '.npy'\n",
    "        raw = np.load(load_folder + rawdata_file, allow_pickle=True)\n",
    "        cell_IDs = raw.item().get('cellsfil')\n",
    "        spatialcell = d['spatialcell99'].astype(bool)\n",
    "        spatialcells = cell_IDs[spatialcell]    \n",
    "        \n",
    "        if len(spatialcells) > grid_min:\n",
    "            \n",
    "            spatialmultimapsesh = np.append(spatialmultimapsesh, True)\n",
    "            sim1 = d['spatialsimilarityfront'] \n",
    "            sim2 = d['spatialsimilarityback']\n",
    "            backonlytrials = np.array(d['backonlytrials']).astype(int)\n",
    "            frontonlytrials = np.array(d['frontonlytrials']).astype(int)\n",
    "            \n",
    "            #ensure that all matrices are the same size\n",
    "            if len(backonlytrials) > 0: #remove trials from sim2 that are only in sim2\n",
    "                sim2 = np.delete(np.delete(sim2, backonlytrials, 0), backonlytrials,1)\n",
    "            if len(frontonlytrials) > 0: #remove trials from sim1 that are only in sim1\n",
    "                sim1 = np.delete(np.delete(sim1, frontonlytrials, 0), frontonlytrials,1)\n",
    "            \n",
    "            #linearize upper triangles of each sim matrix\n",
    "            mask = np.triu_indices(sim1.shape[0])\n",
    "            uppersim1 = sim1[mask]\n",
    "            uppersim2 = sim2[mask]\n",
    "\n",
    "            #compute correlation of front & back matrices with each other\n",
    "            if (np.sum(np.isnan(uppersim1)) > 0) | (np.sum(np.isnan(uppersim2)) > 0):\n",
    "                spatialmultimapsesh = np.append(spatialmultimapsesh, False)\n",
    "                m_corr = np.append(m_corr, np.nan)\n",
    "                scorrfb = np.append(scorrfb, np.nan)\n",
    "            \n",
    "            else:\n",
    "                spatialmultimapsesh = np.append(spatialmultimapsesh, True)\n",
    "                corr, _ = stats.pearsonr(uppersim1, uppersim2)\n",
    "                scorrfb = np.append(scorrfb, corr)\n",
    "                m_corr = np.append(m_corr,corr)\n",
    "        \n",
    "        else:\n",
    "            spatialmultimapsesh = np.append(spatialmultimapsesh, False)\n",
    "            m_corr = np.append(m_corr, np.nan)\n",
    "            scorrfb = np.append(scorrfb, np.nan)\n",
    "                \n",
    "        mcorrfb = np.append(mcorrfb, np.nanmean(m_corr))"
   ]
  },
  {
   "cell_type": "code",
   "execution_count": 45,
   "id": "dee32c00",
   "metadata": {},
   "outputs": [
    {
     "data": {
      "image/png": "[encoded data removed]",
      "text/plain": [
       "<Figure size 212.5x150 with 1 Axes>"
      ]
     },
     "metadata": {},
     "output_type": "display_data"
    }
   ],
   "source": [
    "''' Plot Figure S5J'''\n",
    "\n",
    "nan_idx10spatial = np.where(np.isnan(scorrfb))[0]\n",
    "\n",
    "# Adjust y_sind, ma_sind, age_sind for subsequent plots\n",
    "y_sind10spatial = np.setdiff1d(y_sind, nan_idx10spatial)\n",
    "ma_sind10spatial = np.setdiff1d(ma_sind, nan_idx10spatial)\n",
    "age_sind10spatial = np.setdiff1d(age_sind, nan_idx10spatial)\n",
    "\n",
    "# Adjust colormaps for spatial plots\n",
    "yidx = []\n",
    "maidx = []\n",
    "aidx = []\n",
    "for i in nan_idx10spatial:\n",
    "    yidx = np.append(yidx, np.where(y_sind == i)[0].astype(int))\n",
    "    maidx = np.append(maidx, np.where(ma_sind == i)[0].astype(int))\n",
    "    aidx = np.append(aidx, np.where(age_sind == i)[0].astype(int)) \n",
    "\n",
    "col_session_young10spatial = np.delete(col_session_young, list(yidx.astype(int)), axis = 0)\n",
    "col_session_ma10spatial = np.delete(col_session_MA, list(maidx.astype(int)), axis = 0)\n",
    "col_session_old10spatial = np.delete(col_session_old, list(aidx.astype(int)), axis = 0)\n",
    "col_session10spatial = [col_session_young10spatial, col_session_ma10spatial, col_session_old10spatial] \n",
    "\n",
    "labels = ['Young','MA','Aged']\n",
    "fig, ax = plt.subplots(1, 1, figsize=(2.125, 1.5), sharey = False)\n",
    "#f.suptitle('spatial Cell Session Network Similarity Matrix Correlation, Pooled by Age Group', fontsize=12)\n",
    "\n",
    "scorr_tog = [scorrfb[y_sind10spatial],scorrfb[ma_sind10spatial],scorrfb[age_sind10spatial]]\n",
    "ax.boxplot(scorr_tog, widths = w, labels = labels, medianprops = dict(color = 'black'))\n",
    "ax.set_title('Front vs. Back', fontsize=10, pad=5)\n",
    "ax.set_xlabel('Age', fontsize=9, labelpad=1)\n",
    "ax.tick_params(labelsize=8)\n",
    "ax.set_ylabel('Correlation', fontsize=9, labelpad=1)\n",
    "ax.set_ylim([0.1,1.0])\n",
    "\n",
    "for i in range(len(scorr_tog)):\n",
    "    y = scorr_tog[i]\n",
    "    x = np.random.normal(i + 1, 0.04, len(y))\n",
    "    ax.scatter(x, y, color = col_session10spatial[i], edgecolors = col_session10spatial[i], alpha = 1, s = 10)\n",
    "    \n",
    "#plt.savefig(save_folder + 'age_networksimfrontback_session.png', dpi=400, bbox_inches='tight')\n",
    "#plt.savefig(save_folder + 'age_networksimfrontback_session.svg', dpi=400, bbox_inches='tight')\n",
    "plt.show()"
   ]
  },
  {
   "cell_type": "code",
   "execution_count": 48,
   "id": "dbb529b2",
   "metadata": {},
   "outputs": [
    {
     "name": "stdout",
     "output_type": "stream",
     "text": [
      "Young Front vs. Back Correlation, Mean ± SEM: \n",
      "0.7383827165132388 ± 0.012733038621161598\n",
      "MA Front vs. Back Correlation, Mean ± SEM: \n",
      "0.6839591004267408 ± 0.013024028551906213\n",
      "Aged Front vs. Back Correlation, Mean ± SEM: \n",
      "0.702076333363409 ± 0.011324962927093441\n",
      "\n",
      "KW H, p-value: \n",
      "10.2435087406148 0.005965547929053889\n"
     ]
    },
    {
     "data": {
      "text/html": [
       "<div>\n",
       "<style scoped>\n",
       "    .dataframe tbody tr th:only-of-type {\n",
       "        vertical-align: middle;\n",
       "    }\n",
       "\n",
       "    .dataframe tbody tr th {\n",
       "        vertical-align: top;\n",
       "    }\n",
       "\n",
       "    .dataframe thead th {\n",
       "        text-align: right;\n",
       "    }\n",
       "</style>\n",
       "<table border=\"1\" class=\"dataframe\">\n",
       "  <thead>\n",
       "    <tr style=\"text-align: right;\">\n",
       "      <th></th>\n",
       "      <th>1.0</th>\n",
       "      <th>2.0</th>\n",
       "      <th>3.0</th>\n",
       "    </tr>\n",
       "  </thead>\n",
       "  <tbody>\n",
       "    <tr>\n",
       "      <th>1.0</th>\n",
       "      <td>1.000000</td>\n",
       "      <td>0.006432</td>\n",
       "      <td>0.029717</td>\n",
       "    </tr>\n",
       "    <tr>\n",
       "      <th>2.0</th>\n",
       "      <td>0.006432</td>\n",
       "      <td>1.000000</td>\n",
       "      <td>0.591752</td>\n",
       "    </tr>\n",
       "    <tr>\n",
       "      <th>3.0</th>\n",
       "      <td>0.029717</td>\n",
       "      <td>0.591752</td>\n",
       "      <td>1.000000</td>\n",
       "    </tr>\n",
       "  </tbody>\n",
       "</table>\n",
       "</div>"
      ],
      "text/plain": [
       "          1.0       2.0       3.0\n",
       "1.0  1.000000  0.006432  0.029717\n",
       "2.0  0.006432  1.000000  0.591752\n",
       "3.0  0.029717  0.591752  1.000000"
      ]
     },
     "execution_count": 48,
     "metadata": {},
     "output_type": "execute_result"
    }
   ],
   "source": [
    "''' Statistically compare correlation of front vs. back spatial network similarity matrices '''\n",
    "\n",
    "import statsmodels.api as sm\n",
    "import scikit_posthocs as ph\n",
    "\n",
    "print('Young Front vs. Back Correlation, Mean ± SEM: ')\n",
    "print(str(np.mean(scorrfb[y_sind10spatial])) + ' ± ' + str(stats.sem(scorrfb[y_sind10spatial])))\n",
    "\n",
    "print('MA Front vs. Back Correlation, Mean ± SEM: ')\n",
    "print(str(np.mean(scorrfb[ma_sind10spatial])) + ' ± ' + str(stats.sem(scorrfb[ma_sind10spatial])))\n",
    "\n",
    "print('Aged Front vs. Back Correlation, Mean ± SEM: ')\n",
    "print(str(np.mean(scorrfb[age_sind10spatial])) + ' ± ' + str(stats.sem(scorrfb[age_sind10spatial])))\n",
    "\n",
    "H, p = stats.kruskal(scorrfb[y_sind10spatial],scorrfb[ma_sind10spatial],scorrfb[age_sind10spatial])\n",
    "print('\\nKW H, p-value: ')\n",
    "print(H, p)\n",
    "\n",
    "#make into dataframe\n",
    "sex = list(animalmeta.Sex[mice_ind])\n",
    "sexes = []\n",
    "seshmice = []\n",
    "seshcount = []\n",
    "seshage = []\n",
    "for m, session in zip(mice, sessions):\n",
    "    center = rewarda_centers[np.where(mice == m)[0][0]]\n",
    "    msex = sex[np.where(mice == m)[0][0]]\n",
    "    age =  np.array(animalmeta.loc[(animalmeta.Animal_ID == m),'Age_Group'])\n",
    "    totalsesh = len(session)\n",
    "    \n",
    "    for i, s in enumerate(session):\n",
    "        sexes = np.append(sexes, msex)\n",
    "        seshmice = np.append(seshmice, m)\n",
    "        seshcount = np.append(seshcount, (i + 1))\n",
    "        seshage = np.append(seshage, age)\n",
    "\n",
    "# Collect all relevant data into pandas dataframe\n",
    "allidx = np.concatenate((y_sind10spatial,ma_sind10spatial,age_sind10spatial))\n",
    "Animal_ID = list(seshmice[allidx])\n",
    "Session = list(seshcount[allidx])\n",
    "Sex = list(sexes[allidx])\n",
    "Age_Group = list(seshage[allidx])\n",
    "CorrFB = list(scorrfb[allidx])\n",
    "\n",
    "tuples = list(zip(Animal_ID, Session, Sex, Age_Group, CorrFB))\n",
    "tuples\n",
    "\n",
    "df = pd.DataFrame(tuples, columns = ['AnimalID', 'Session', 'Sex', 'AgeGroup','CorrFB'])\n",
    "df = df.dropna(axis = 0)\n",
    "\n",
    "#run post hoc tests\n",
    "ph.posthoc_conover(df, val_col = 'CorrFB', group_col = 'AgeGroup', p_adjust = 'holm')"
   ]
  },
  {
   "cell_type": "markdown",
   "id": "d135ff22",
   "metadata": {},
   "source": [
    "# Compare heterogeneity of spatial network information in context-matched task epochs across age groups (Figure S5G-H).\n",
    "\n",
    "Here, we use a circular position decoder to compare accuracy of position decoding score when trained/tested on spatial cell network activity from different pairs of Split Maze task epochs (e.g. Train on Block A and Test on Block A vs. Block B). If remapping is occuring between epochs, spatial network spatial information should heterogenous across epochs, resulting in better decoder performance when trained / tested on the same epoch vs. a different one. Similarly, decoders trained/tested on context-matched epochs should outperform those trained/tested on context-mismatched epochs if spatial cell network spatial information is more homogenous across context-matched epochs. The goal of this analysis was to verify these expectations about spatial cell network information content across Split Maze task epochs. "
   ]
  },
  {
   "cell_type": "code",
   "execution_count": 61,
   "id": "d506e79e",
   "metadata": {},
   "outputs": [],
   "source": [
    "''' DECODER ANALYSIS '''\n",
    "import scipy.stats \n",
    "from scipy.ndimage import gaussian_filter1d\n",
    "normcdf = scipy.stats.norm.cdf\n",
    "normpdf = scipy.stats.norm.pdf\n",
    "\n",
    "SMOOTHNESS = 10.0\n",
    "REGULARIZATION = 1e-4\n",
    "\n",
    "## REGRESSION MODEL ##\n",
    "\n",
    "from scipy.linalg import cho_factor, cho_solve\n",
    "from sklearn.base import BaseEstimator\n",
    "\n",
    "class CircularRegression(BaseEstimator):\n",
    "    \n",
    "    def __init__(self, alpha=0.0, tol=1e-5, max_iter=100):\n",
    "        self.alpha = alpha\n",
    "        self.tol = tol\n",
    "        self.max_iter = max_iter\n",
    "    \n",
    "    def fit(self, X, y):\n",
    "        \"\"\"\n",
    "        Parameters\n",
    "        ----------\n",
    "        X : array\n",
    "            Independent variables, has shape (n_timepoints x n_neurons)\n",
    "        y : array\n",
    "            Circular dependent variable, has shape (n_timepoints x 1),\n",
    "            all data should lie on the interval [-pi, +pi].\n",
    "        \"\"\"\n",
    "        \n",
    "        # Convert 1d circular variable to 2d representation\n",
    "        u = np.column_stack([np.sin(y), np.cos(y)])\n",
    "\n",
    "        # Randomly initialize weights. Ensure scaling does\n",
    "        W = np.random.randn(X.shape[1], 2)\n",
    "        W /= np.max(np.sum(np.abs(X @ W), axis=1))\n",
    "        \n",
    "        # Cache neuron x neuron gram matrix. This is used below\n",
    "        # in the M-step to solve a linear least squares problem\n",
    "        # in the form inv(XtX) @ XtY. Add regularization term to\n",
    "        # the diagonal.\n",
    "        XtX = X.T @ X\n",
    "        XtX[np.diag_indices_from(XtX)] += self.alpha\n",
    "        XtX = cho_factor(XtX)\n",
    "\n",
    "        # Compute model prediction in 2d space, and projection onto\n",
    "        # each observed u.\n",
    "        XW = (X @ W)\n",
    "        t = np.sum(u * XW, axis=1)\n",
    "        tcdf = normcdf(t)\n",
    "        tpdf = normpdf(t)\n",
    "\n",
    "        self.log_like_hist_ = [\n",
    "            np.log(2 * np.pi) - \n",
    "            0.5 * np.mean(np.sum(XW * XW, axis=1), axis=0) +\n",
    "            np.mean(np.log(1 + t * tcdf / tpdf))\n",
    "        ]\n",
    "\n",
    "        for itr in range(self.max_iter):\n",
    "\n",
    "            # E-step.\n",
    "            m = t + (tcdf / ((tpdf + t * tcdf)))\n",
    "            XtY = X.T @ (m[:, None] * u)\n",
    "\n",
    "            # M-step.\n",
    "            W = cho_solve(XtX, XtY)\n",
    "            \n",
    "            # Recompute model prediction.\n",
    "            XW = X @ W\n",
    "            t = np.sum(u * XW, axis=1)\n",
    "            tcdf = normcdf(t)\n",
    "            tpdf = normpdf(t)\n",
    "\n",
    "            # Store log-likelihood.\n",
    "            self.log_like_hist_.append(\n",
    "                np.log(2 * np.pi) - \n",
    "                0.5 * np.mean(np.sum(XW * XW, axis=1), axis=0) +\n",
    "                np.mean(np.log(1 + t * tcdf / tpdf))\n",
    "            )\n",
    "            \n",
    "            # Check convergence.\n",
    "            if (self.log_like_hist_[-1] - self.log_like_hist_[-2]) < self.tol:\n",
    "                break\n",
    "    \n",
    "        self.weights_ = W\n",
    "    \n",
    "    def predict(self, X):\n",
    "        u_pred = X @ self.weights_\n",
    "        return np.arctan2(u_pred[:, 0], u_pred[:, 1])\n",
    "\n",
    "    def score(self, X, y):\n",
    "        \"\"\"\n",
    "        Returns 1 minus mean angular similarity between y and model prediction.\n",
    "        \n",
    "        score == 1 for perfect prediction\n",
    "        score == 0 in expectation for random prediction\n",
    "        score == -1 if prediction is off by 180 degrees.\n",
    "        \"\"\"\n",
    "        y_pred = self.predict(X)\n",
    "        return np.mean(np.cos(y - y_pred))"
   ]
  },
  {
   "cell_type": "code",
   "execution_count": 62,
   "id": "bdf38474",
   "metadata": {},
   "outputs": [],
   "source": [
    "'''Define Function to Split Train & Test Blocks'''\n",
    "def train_vs_test_blocks(X, y, train_data_idx, test_data_idx, n_repeats=10, train_pct=0.9):\n",
    "    test_scores = []    \n",
    "    test_folds = np.array_split(test_data_idx, n_repeats)\n",
    "\n",
    "    for i in range(n_repeats):        \n",
    "        # Get train and test indices\n",
    "        test_idx = test_folds[i]\n",
    "        train_idx = np.random.choice(np.setdiff1d(train_data_idx, test_idx),\n",
    "                                     replace=False, size=int(train_data_idx.size * train_pct))\n",
    "\n",
    "        # Train model\n",
    "        model.fit(X[train_idx], y[train_idx])\n",
    "\n",
    "        # Compute test error\n",
    "        test_scores.append(model.score(X[test_idx], y[test_idx]))\n",
    "        \n",
    "    return np.asarray(test_scores)"
   ]
  },
  {
   "cell_type": "code",
   "execution_count": null,
   "id": "28f509b8",
   "metadata": {},
   "outputs": [],
   "source": [
    "''' Get X (instantaneous FR of grid cells) and y (circular position)'''\n",
    "\n",
    "dt = 0.02\n",
    "track_len = 400\n",
    "load_folder = 'C:/Users/Python/Desktop/LocalData/filtered/'\n",
    "\n",
    "for m, session in zip(mice, sessions):\n",
    "    for s in tdqm(session):\n",
    "        d = data[m][s]\n",
    "\n",
    "        #load data\n",
    "        rawdata_file = 'RAW_' + m + '_' + s + '.npy'\n",
    "        spikes_file = 'SPIKES_' + m + '_' + s +'.npy'\n",
    "        behavior_file = 'BEHAVIOR_' + m + '_' + s + '.npy'\n",
    "        \n",
    "        raw = np.load(load_folder + rawdata_file, allow_pickle=True)\n",
    "        Y = np.load(load_folder + spikes_file, allow_pickle=False) #pre-filtered for speeds >2cm/s, position-errorcorrected spikes, 20 ms timebins\n",
    "        behaviorfil = np.load(load_folder + behavior_file, allow_pickle=False)\n",
    "        \n",
    "        cell_IDs = raw.item().get('cellsfil')\n",
    "        spatialcell = d['spatialcell99'].astype(bool)\n",
    "        spatialcells = cell_IDs[spatialcell]\n",
    "        \n",
    "        if len(spatialcells) > 10:\n",
    "            # convert spikes to instantaneous FR and smooth, then select only the grid cell data\n",
    "            X = Y / dt # convert spike count to FR\n",
    "            X = gaussian_filter1d(X, SMOOTHNESS, axis=0)\n",
    "\n",
    "            sdx = []\n",
    "            for i, c in enumerate(gridcells):\n",
    "                sd = (np.where(cell_IDs == c)[0][0]).astype(int)\n",
    "                sdx.append(sd)\n",
    "\n",
    "            X = X[:,sdx]\n",
    "\n",
    "            # format position s.t. 0 = -pi = +pi = 400\n",
    "            y_raw = behaviorfil[:, 0]\n",
    "            y = (y_raw / np.max(y_raw)) * 2 * np.pi - np.pi\n",
    "\n",
    "            d['X'] = X\n",
    "            d['y'] = y"
   ]
  },
  {
   "cell_type": "code",
   "execution_count": null,
   "id": "7676461d",
   "metadata": {},
   "outputs": [],
   "source": [
    "''' Downsample to Match Speed and Num Observations (A vs A')'''\n",
    "for m, session in zip(mice, sessions):\n",
    "    for s in session:\n",
    "        d = data[m][s]\n",
    "        \n",
    "        #load data\n",
    "        rawdata_file = 'RAW_' + m + '_' + s + '.npy'\n",
    "        behavior_file = 'BEHAVIOR_' + m + '_' + s + '.npy'\n",
    "        \n",
    "        raw = np.load(load_folder + rawdata_file, allow_pickle=True)\n",
    "        behaviorfil = np.load(load_folder + behavior_file, allow_pickle=False)\n",
    "        \n",
    "        cell_IDs = raw.item().get('cellsfil')\n",
    "        spatialcell = d['spatialcell99'].astype(bool)\n",
    "        spatialcells = cell_IDs[spatialcell]\n",
    "        \n",
    "        if len(spatialcells) > 10:\n",
    "            speed = behaviorfil[:, 1]\n",
    "            y = d['y']\n",
    "            map0_idx = d['Aidx']\n",
    "            map1_idx = d['A_ngidx']\n",
    "\n",
    "            # bin speed into 10cm/s bins\n",
    "            edges = np.arange(10, np.max(speed), 10)\n",
    "            speed_idx = np.digitize(speed, edges)\n",
    "\n",
    "            # get indices for each map's observations\n",
    "            obs_0 = np.arange(y.shape[0])[map0_idx]\n",
    "            obs_1 = np.arange(y.shape[0])[map1_idx]\n",
    "\n",
    "            # array to hold indices for downsampling\n",
    "            ds_0 = np.asarray([]) # array to hold indices for downsampling map 0\n",
    "            ds_1 = np.asarray([]) # array to hold indices for downsampling map 1\n",
    "\n",
    "            # match occupancy of each bin for each map\n",
    "            bins, ct = np.unique(speed_idx, return_counts=True)\n",
    "            for b in bins:\n",
    "                occupancy_0 = np.sum(map0_idx[speed_idx == b])\n",
    "                occupancy_1 = np.sum(map1_idx[speed_idx == b])  \n",
    "                idx_0 = np.where(map0_idx & (speed_idx == b))[0]\n",
    "                idx_1 = np.where(map1_idx & (speed_idx == b))[0]\n",
    "\n",
    "                if occupancy_0 > occupancy_1:\n",
    "                    # need to downsample map 0 for this speed bin\n",
    "                    n_timepts = occupancy_1        \n",
    "                    ds_0 = np.append(ds_0, np.random.choice(idx_0, n_timepts, replace=False))\n",
    "                    ds_1 = np.append(ds_1, idx_1)\n",
    "                else:\n",
    "                    # need to downsample map 1 for this speed bin\n",
    "                    n_timepts = occupancy_0\n",
    "                    ds_0 = np.append(ds_0, idx_0)\n",
    "                    ds_1 = np.append(ds_1, np.random.choice(idx_1, n_timepts, replace=False)) \n",
    "            ds_0 = ds_0.astype(int)\n",
    "            ds_1 = ds_1.astype(int)\n",
    "\n",
    "            d['ds_idx'] = np.row_stack((ds_0, ds_1))"
   ]
  },
  {
   "cell_type": "code",
   "execution_count": null,
   "id": "3e27fc0d",
   "metadata": {},
   "outputs": [],
   "source": [
    "''' Fit model on each map0 = Context A, map1 = Context A_'''\n",
    "\n",
    "model = CircularRegression(alpha=REGULARIZATION)\n",
    "save_folder = 'C:/Users/Python/Desktop/LocalData/spatialcellssm/decoder/spatial/'\n",
    "\n",
    "# cross-validate the model\n",
    "for m, session in zip(mice, sessions):\n",
    "    for s in tdqm(session):\n",
    "        d = data[m][s]\n",
    "        \n",
    "        #load data\n",
    "        rawdata_file = 'RAW_' + m + '_' + s + '.npy'\n",
    "        behavior_file = 'BEHAVIOR_' + m + '_' + s + '.npy'\n",
    "        \n",
    "        raw = np.load(load_folder + rawdata_file, allow_pickle=True)\n",
    "        behaviorfil = np.load(load_folder + behavior_file, allow_pickle=False)\n",
    "        \n",
    "        cell_IDs = raw.item().get('cellsfil')\n",
    "        spatialcell = d['spatialcell99'].astype(bool)\n",
    "        spatialcells = cell_IDs[spatialcell]\n",
    "        \n",
    "        if len(spatialcells) > 10:\n",
    "            X = d['X']\n",
    "            shuff_X = d['shuff_X']\n",
    "            y = d['y']\n",
    "\n",
    "            # randomly split all trials into training vs. test sets & identify their indices\n",
    "            ds_0 = d['ds_idx'][0, :]\n",
    "            ds_1 = d['ds_idx'][1, :]\n",
    "\n",
    "            # get CV scores for each train and test combo - save these!\n",
    "            train0_test0_scores = train_vs_test_blocks(X, y, ds_0, ds_0)\n",
    "            train0_test1_scores = train_vs_test_blocks(X, y, ds_0, ds_1)\n",
    "            train1_test1_scores = train_vs_test_blocks(X, y, ds_1, ds_1)\n",
    "            train1_test0_scores = train_vs_test_blocks(X, y, ds_1, ds_0)\n",
    "            d['AA_scores'] = np.row_stack((train0_test0_scores, train0_test1_scores, \n",
    "                                        train1_test1_scores, train1_test0_scores))\n",
    "           \n",
    "            AA_scores_file = 'AA_scores_decoder_' + m + '_' + s + '.npy'\n",
    "            np.save(save_folder + AA_scores_file, d['AA_scores'])"
   ]
  },
  {
   "cell_type": "code",
   "execution_count": null,
   "id": "d4f06900",
   "metadata": {},
   "outputs": [],
   "source": [
    "''' Downsample to Match Speed and Num Observations (B vs B')'''\n",
    "for m, session in zip(mice, sessions):\n",
    "    for s in session:\n",
    "        d = data[m][s]\n",
    "        \n",
    "        #load data\n",
    "        rawdata_file = 'RAW_' + m + '_' + s + '.npy'\n",
    "        behavior_file = 'BEHAVIOR_' + m + '_' + s + '.npy'\n",
    "        \n",
    "        raw = np.load(load_folder + rawdata_file, allow_pickle=True)\n",
    "        behaviorfil = np.load(load_folder + behavior_file, allow_pickle=False)\n",
    "        \n",
    "        cell_IDs = raw.item().get('cellsfil')\n",
    "        spatialcell = d['spatialcell99'].astype(bool)\n",
    "        spatialcells = cell_IDs[spatialcell]\n",
    "        \n",
    "        if len(spatialcells) > 10:\n",
    "            speed = behaviorfil[:, 1]\n",
    "            y = d['y']\n",
    "            map0_idx = d['Bidx']\n",
    "            map1_idx = d['B_ngidx']\n",
    "\n",
    "            # bin speed into 10cm/s bins\n",
    "            edges = np.arange(10, np.max(speed), 10)\n",
    "            speed_idx = np.digitize(speed, edges)\n",
    "\n",
    "            # get indices for each map's observations\n",
    "            obs_0 = np.arange(y.shape[0])[map0_idx]\n",
    "            obs_1 = np.arange(y.shape[0])[map1_idx]\n",
    "\n",
    "            # array to hold indices for downsampling\n",
    "            ds_0 = np.asarray([]) # array to hold indices for downsampling map 0\n",
    "            ds_1 = np.asarray([]) # array to hold indices for downsampling map 1\n",
    "\n",
    "            # match occupancy of each bin for each map\n",
    "            bins, ct = np.unique(speed_idx, return_counts=True)\n",
    "            for b in bins:\n",
    "                occupancy_0 = np.sum(map0_idx[speed_idx == b])\n",
    "                occupancy_1 = np.sum(map1_idx[speed_idx == b])  \n",
    "                idx_0 = np.where(map0_idx & (speed_idx == b))[0]\n",
    "                idx_1 = np.where(map1_idx & (speed_idx == b))[0]\n",
    "\n",
    "                if occupancy_0 > occupancy_1:\n",
    "                    # need to downsample map 0 for this speed bin\n",
    "                    n_timepts = occupancy_1        \n",
    "                    ds_0 = np.append(ds_0, np.random.choice(idx_0, n_timepts, replace=False))\n",
    "                    ds_1 = np.append(ds_1, idx_1)\n",
    "                else:\n",
    "                    # need to downsample map 1 for this speed bin\n",
    "                    n_timepts = occupancy_0\n",
    "                    ds_0 = np.append(ds_0, idx_0)\n",
    "                    ds_1 = np.append(ds_1, np.random.choice(idx_1, n_timepts, replace=False)) \n",
    "            ds_0 = ds_0.astype(int)\n",
    "            ds_1 = ds_1.astype(int)\n",
    "\n",
    "            d['ds_idx'] = np.row_stack((ds_0, ds_1))"
   ]
  },
  {
   "cell_type": "code",
   "execution_count": null,
   "id": "7170749d",
   "metadata": {},
   "outputs": [],
   "source": [
    "''' Fit model on each map0 = Context B, map1 = Context B_'''\n",
    "\n",
    "model = CircularRegression(alpha=REGULARIZATION)\n",
    "save_folder = 'C:/Users/Python/Desktop/LocalData/spatialcellssm/decoder/spatial/'\n",
    "\n",
    "# cross-validate the model\n",
    "for m, session in zip(mice, sessions):\n",
    "    for s in tdqm(session):\n",
    "        d = data[m][s]\n",
    "        \n",
    "        #load data\n",
    "        rawdata_file = 'RAW_' + m + '_' + s + '.npy'\n",
    "        behavior_file = 'BEHAVIOR_' + m + '_' + s + '.npy'\n",
    "        \n",
    "        raw = np.load(load_folder + rawdata_file, allow_pickle=True)\n",
    "        behaviorfil = np.load(load_folder + behavior_file, allow_pickle=False)\n",
    "        \n",
    "        cell_IDs = raw.item().get('cellsfil')\n",
    "        spatialcell = d['spatialcell99'].astype(bool)\n",
    "        spatialcells = cell_IDs[spatialcell]\n",
    "        \n",
    "        if len(spatialcells) > 10:\n",
    "            X = d['X']\n",
    "            shuff_X = d['shuff_X']\n",
    "            y = d['y']\n",
    "\n",
    "            # randomly split all trials into training vs. test sets & identify their indices\n",
    "            ds_0 = d['ds_idx'][0, :]\n",
    "            ds_1 = d['ds_idx'][1, :]\n",
    "\n",
    "            # get CV scores for each train and test combo - save these!\n",
    "            train0_test0_scores = train_vs_test_blocks(X, y, ds_0, ds_0)\n",
    "            train0_test1_scores = train_vs_test_blocks(X, y, ds_0, ds_1)\n",
    "            train1_test1_scores = train_vs_test_blocks(X, y, ds_1, ds_1)\n",
    "            train1_test0_scores = train_vs_test_blocks(X, y, ds_1, ds_0)\n",
    "            d['BB_scores'] = np.row_stack((train0_test0_scores, train0_test1_scores, \n",
    "                                        train1_test1_scores, train1_test0_scores))\n",
    "            BB_scores_file = 'BB_scores_decoder_' + m + '_' + s + '.npy'\n",
    "            np.save(save_folder + BB_scores_file, d['BB_scores'])"
   ]
  },
  {
   "cell_type": "code",
   "execution_count": null,
   "id": "40b7a668",
   "metadata": {},
   "outputs": [],
   "source": [
    "''' Downsample to Match Speed and Num Observations (A vs B)'''\n",
    "for m, session in zip(mice, sessions):\n",
    "    for s in session:\n",
    "        d = data[m][s]\n",
    "        \n",
    "        #load data\n",
    "        rawdata_file = 'RAW_' + m + '_' + s + '.npy'\n",
    "        behavior_file = 'BEHAVIOR_' + m + '_' + s + '.npy'\n",
    "        \n",
    "        raw = np.load(load_folder + rawdata_file, allow_pickle=True)\n",
    "        behaviorfil = np.load(load_folder + behavior_file, allow_pickle=False)\n",
    "        \n",
    "        cell_IDs = raw.item().get('cellsfil')\n",
    "        spatialcell = d['spatialcell99'].astype(bool)\n",
    "        spatialcells = cell_IDs[spatialcell]\n",
    "        \n",
    "        if len(spatialcells) > 10:\n",
    "            speed = behaviorfil[:, 1]\n",
    "            y = d['y']\n",
    "            map0_idx = d['Aidx']\n",
    "            map1_idx = d['Bidx']\n",
    "\n",
    "            # bin speed into 10cm/s bins\n",
    "            edges = np.arange(10, np.max(speed), 10)\n",
    "            speed_idx = np.digitize(speed, edges)\n",
    "\n",
    "            # get indices for each map's observations\n",
    "            obs_0 = np.arange(y.shape[0])[map0_idx]\n",
    "            obs_1 = np.arange(y.shape[0])[map1_idx]\n",
    "\n",
    "            # array to hold indices for downsampling\n",
    "            ds_0 = np.asarray([]) # array to hold indices for downsampling map 0\n",
    "            ds_1 = np.asarray([]) # array to hold indices for downsampling map 1\n",
    "\n",
    "            # match occupancy of each bin for each map\n",
    "            bins, ct = np.unique(speed_idx, return_counts=True)\n",
    "            for b in bins:\n",
    "                occupancy_0 = np.sum(map0_idx[speed_idx == b])\n",
    "                occupancy_1 = np.sum(map1_idx[speed_idx == b])  \n",
    "                idx_0 = np.where(map0_idx & (speed_idx == b))[0]\n",
    "                idx_1 = np.where(map1_idx & (speed_idx == b))[0]\n",
    "\n",
    "                if occupancy_0 > occupancy_1:\n",
    "                    # need to downsample map 0 for this speed bin\n",
    "                    n_timepts = occupancy_1        \n",
    "                    ds_0 = np.append(ds_0, np.random.choice(idx_0, n_timepts, replace=False))\n",
    "                    ds_1 = np.append(ds_1, idx_1)\n",
    "                else:\n",
    "                    # need to downsample map 1 for this speed bin\n",
    "                    n_timepts = occupancy_0\n",
    "                    ds_0 = np.append(ds_0, idx_0)\n",
    "                    ds_1 = np.append(ds_1, np.random.choice(idx_1, n_timepts, replace=False)) \n",
    "            ds_0 = ds_0.astype(int)\n",
    "            ds_1 = ds_1.astype(int)\n",
    "\n",
    "            d['ds_idx'] = np.row_stack((ds_0, ds_1))"
   ]
  },
  {
   "cell_type": "code",
   "execution_count": null,
   "id": "98651b79",
   "metadata": {},
   "outputs": [],
   "source": [
    "''' Fit model on each map0 = Context A, map1 = Context B'''\n",
    "\n",
    "model = CircularRegression(alpha=REGULARIZATION)\n",
    "save_folder = 'C:/Users/Python/Desktop/LocalData/spatialcellssm/decoder/spatial/'\n",
    "\n",
    "# cross-validate the model\n",
    "for m, session in zip(mice, sessions):\n",
    "    for s in tdqm(session):\n",
    "        d = data[m][s]\n",
    "        \n",
    "        #load data\n",
    "        rawdata_file = 'RAW_' + m + '_' + s + '.npy'\n",
    "        behavior_file = 'BEHAVIOR_' + m + '_' + s + '.npy'\n",
    "        \n",
    "        raw = np.load(load_folder + rawdata_file, allow_pickle=True)\n",
    "        behaviorfil = np.load(load_folder + behavior_file, allow_pickle=False)\n",
    "        \n",
    "        cell_IDs = raw.item().get('cellsfil')\n",
    "        spatialcell = d['spatialcell99'].astype(bool)\n",
    "        spatialcells = cell_IDs[spatialcell]\n",
    "        \n",
    "        if len(spatialcells) > 10:\n",
    "            X = d['X']\n",
    "            shuff_X = d['shuff_X']\n",
    "            y = d['y']\n",
    "\n",
    "            # randomly split all trials into training vs. test sets & identify their indices\n",
    "            ds_0 = d['ds_idx'][0, :]\n",
    "            ds_1 = d['ds_idx'][1, :]\n",
    "\n",
    "            # get CV scores for each train and test combo - save these!\n",
    "            train0_test0_scores = train_vs_test_blocks(X, y, ds_0, ds_0)\n",
    "            train0_test1_scores = train_vs_test_blocks(X, y, ds_0, ds_1)\n",
    "            train1_test1_scores = train_vs_test_blocks(X, y, ds_1, ds_1)\n",
    "            train1_test0_scores = train_vs_test_blocks(X, y, ds_1, ds_0)\n",
    "            d['ABscores'] = np.row_stack((train0_test0_scores, train0_test1_scores, \n",
    "                                        train1_test1_scores, train1_test0_scores))\n",
    "            ABscores_file = 'ABscores_decoder_' + m + '_' + s + '.npy'\n",
    "            np.save(save_folder + ABscores_file, d['ABscores'])"
   ]
  },
  {
   "cell_type": "code",
   "execution_count": null,
   "id": "717b760e",
   "metadata": {},
   "outputs": [],
   "source": [
    "''' Downsample to Match Speed and Num Observations (A_ vs B_)'''\n",
    "for m, session in zip(mice, sessions):\n",
    "    for s in session:\n",
    "        d = data[m][s]\n",
    "        \n",
    "        #load data\n",
    "        rawdata_file = 'RAW_' + m + '_' + s + '.npy'\n",
    "        behavior_file = 'BEHAVIOR_' + m + '_' + s + '.npy'\n",
    "        \n",
    "        raw = np.load(load_folder + rawdata_file, allow_pickle=True)\n",
    "        behaviorfil = np.load(load_folder + behavior_file, allow_pickle=False)\n",
    "        \n",
    "        cell_IDs = raw.item().get('cellsfil')\n",
    "        spatialcell = d['spatialcell99'].astype(bool)\n",
    "        spatialcells = cell_IDs[spatialcell]\n",
    "        \n",
    "        if len(spatialcells) > 10:\n",
    "            speed = behaviorfil[:, 1]\n",
    "            y = d['y']\n",
    "            map0_idx = d['A_ngidx']\n",
    "            map1_idx = d['B_ngidx']\n",
    "\n",
    "            # bin speed into 10cm/s bins\n",
    "            edges = np.arange(10, np.max(speed), 10)\n",
    "            speed_idx = np.digitize(speed, edges)\n",
    "\n",
    "            # get indices for each map's observations\n",
    "            obs_0 = np.arange(y.shape[0])[map0_idx]\n",
    "            obs_1 = np.arange(y.shape[0])[map1_idx]\n",
    "\n",
    "            # array to hold indices for downsampling\n",
    "            ds_0 = np.asarray([]) # array to hold indices for downsampling map 0\n",
    "            ds_1 = np.asarray([]) # array to hold indices for downsampling map 1\n",
    "\n",
    "            # match occupancy of each bin for each map\n",
    "            bins, ct = np.unique(speed_idx, return_counts=True)\n",
    "            for b in bins:\n",
    "                occupancy_0 = np.sum(map0_idx[speed_idx == b])\n",
    "                occupancy_1 = np.sum(map1_idx[speed_idx == b])  \n",
    "                idx_0 = np.where(map0_idx & (speed_idx == b))[0]\n",
    "                idx_1 = np.where(map1_idx & (speed_idx == b))[0]\n",
    "\n",
    "                if occupancy_0 > occupancy_1:\n",
    "                    # need to downsample map 0 for this speed bin\n",
    "                    n_timepts = occupancy_1        \n",
    "                    ds_0 = np.append(ds_0, np.random.choice(idx_0, n_timepts, replace=False))\n",
    "                    ds_1 = np.append(ds_1, idx_1)\n",
    "                else:\n",
    "                    # need to downsample map 1 for this speed bin\n",
    "                    n_timepts = occupancy_0\n",
    "                    ds_0 = np.append(ds_0, idx_0)\n",
    "                    ds_1 = np.append(ds_1, np.random.choice(idx_1, n_timepts, replace=False)) \n",
    "            ds_0 = ds_0.astype(int)\n",
    "            ds_1 = ds_1.astype(int)\n",
    "\n",
    "            d['ds_idx'] = np.row_stack((ds_0, ds_1))"
   ]
  },
  {
   "cell_type": "code",
   "execution_count": null,
   "id": "cf5d72b2",
   "metadata": {},
   "outputs": [],
   "source": [
    "''' Fit model on each map0 = Context A_, map1 = Context B_'''\n",
    "\n",
    "model = CircularRegression(alpha=REGULARIZATION)\n",
    "save_folder = 'C:/Users/Python/Desktop/LocalData/spatialcellssm/decoder/spatial/'\n",
    "\n",
    "# cross-validate the model\n",
    "for m, session in zip(mice, sessions):\n",
    "    for s in tdqm(session):\n",
    "        d = data[m][s]\n",
    "        \n",
    "        #load data\n",
    "        rawdata_file = 'RAW_' + m + '_' + s + '.npy'\n",
    "        behavior_file = 'BEHAVIOR_' + m + '_' + s + '.npy'\n",
    "        \n",
    "        raw = np.load(load_folder + rawdata_file, allow_pickle=True)\n",
    "        behaviorfil = np.load(load_folder + behavior_file, allow_pickle=False)\n",
    "        \n",
    "        cell_IDs = raw.item().get('cellsfil')\n",
    "        spatialcell = d['spatialcell99'].astype(bool)\n",
    "        spatialcells = cell_IDs[spatialcell]\n",
    "        \n",
    "        if len(spatialcells) > 10:\n",
    "            X = d['X']\n",
    "            shuff_X = d['shuff_X']\n",
    "            y = d['y']\n",
    "\n",
    "            # randomly split all trials into training vs. test sets & identify their indices\n",
    "            ds_0 = d['ds_idx'][0, :]\n",
    "            ds_1 = d['ds_idx'][1, :]\n",
    "\n",
    "            # get CV scores for each train and test combo - save these!\n",
    "            train0_test0_scores = train_vs_test_blocks(X, y, ds_0, ds_0)\n",
    "            train0_test1_scores = train_vs_test_blocks(X, y, ds_0, ds_1)\n",
    "            train1_test1_scores = train_vs_test_blocks(X, y, ds_1, ds_1)\n",
    "            train1_test0_scores = train_vs_test_blocks(X, y, ds_1, ds_0)\n",
    "            d['A_B_scores'] = np.row_stack((train0_test0_scores, train0_test1_scores, \n",
    "                                        train1_test1_scores, train1_test0_scores))\n",
    "            A_B_scores_file = 'A_B_scores_decoder_' + m + '_' + s + '.npy'\n",
    "            np.save(save_folder + A_B_scores_file, d['A_B_scores'])"
   ]
  },
  {
   "cell_type": "code",
   "execution_count": null,
   "id": "9ada9b03",
   "metadata": {},
   "outputs": [],
   "source": [
    "''' Downsample to Match Speed and Num Observations (B vs A')'''\n",
    "for m, session in zip(mice, sessions):\n",
    "    for s in session:\n",
    "        d = data[m][s]\n",
    "        \n",
    "        #load data\n",
    "        rawdata_file = 'RAW_' + m + '_' + s + '.npy'\n",
    "        behavior_file = 'BEHAVIOR_' + m + '_' + s + '.npy'\n",
    "        \n",
    "        raw = np.load(load_folder + rawdata_file, allow_pickle=True)\n",
    "        behaviorfil = np.load(load_folder + behavior_file, allow_pickle=False)\n",
    "        \n",
    "        cell_IDs = raw.item().get('cellsfil')\n",
    "        spatialcell = d['spatialcell99'].astype(bool)\n",
    "        spatialcells = cell_IDs[spatialcell]\n",
    "        \n",
    "        if len(spatialcells) > 10:\n",
    "            speed = behaviorfil[:, 1]\n",
    "            y = d['y']\n",
    "            map0_idx = d['Bidx']\n",
    "            map1_idx = d['A_ngidx']\n",
    "\n",
    "            # bin speed into 10cm/s bins\n",
    "            edges = np.arange(10, np.max(speed), 10)\n",
    "            speed_idx = np.digitize(speed, edges)\n",
    "\n",
    "            # get indices for each map's observations\n",
    "            obs_0 = np.arange(y.shape[0])[map0_idx]\n",
    "            obs_1 = np.arange(y.shape[0])[map1_idx]\n",
    "\n",
    "            # array to hold indices for downsampling\n",
    "            ds_0 = np.asarray([]) # array to hold indices for downsampling map 0\n",
    "            ds_1 = np.asarray([]) # array to hold indices for downsampling map 1\n",
    "\n",
    "            # match occupancy of each bin for each map\n",
    "            bins, ct = np.unique(speed_idx, return_counts=True)\n",
    "            for b in bins:\n",
    "                occupancy_0 = np.sum(map0_idx[speed_idx == b])\n",
    "                occupancy_1 = np.sum(map1_idx[speed_idx == b])  \n",
    "                idx_0 = np.where(map0_idx & (speed_idx == b))[0]\n",
    "                idx_1 = np.where(map1_idx & (speed_idx == b))[0]\n",
    "\n",
    "                if occupancy_0 > occupancy_1:\n",
    "                    # need to downsample map 0 for this speed bin\n",
    "                    n_timepts = occupancy_1        \n",
    "                    ds_0 = np.append(ds_0, np.random.choice(idx_0, n_timepts, replace=False))\n",
    "                    ds_1 = np.append(ds_1, idx_1)\n",
    "                else:\n",
    "                    # need to downsample map 1 for this speed bin\n",
    "                    n_timepts = occupancy_0\n",
    "                    ds_0 = np.append(ds_0, idx_0)\n",
    "                    ds_1 = np.append(ds_1, np.random.choice(idx_1, n_timepts, replace=False)) \n",
    "            ds_0 = ds_0.astype(int)\n",
    "            ds_1 = ds_1.astype(int)\n",
    "\n",
    "            d['ds_idx'] = np.row_stack((ds_0, ds_1))"
   ]
  },
  {
   "cell_type": "code",
   "execution_count": null,
   "id": "fe9cfb46",
   "metadata": {},
   "outputs": [],
   "source": [
    "''' Fit model on each map0 = Context B, map1 = Context A_'''\n",
    "\n",
    "model = CircularRegression(alpha=REGULARIZATION)\n",
    "save_folder = 'C:/Users/Python/Desktop/LocalData/spatialcellssm/decoder/spatial/'\n",
    "\n",
    "# cross-validate the model\n",
    "for m, session in zip(mice, sessions):\n",
    "    for s in tdqm(session):\n",
    "        d = data[m][s]\n",
    "        \n",
    "        #load data\n",
    "        rawdata_file = 'RAW_' + m + '_' + s + '.npy'\n",
    "        behavior_file = 'BEHAVIOR_' + m + '_' + s + '.npy'\n",
    "        \n",
    "        raw = np.load(load_folder + rawdata_file, allow_pickle=True)\n",
    "        behaviorfil = np.load(load_folder + behavior_file, allow_pickle=False)\n",
    "        \n",
    "        cell_IDs = raw.item().get('cellsfil')\n",
    "        spatialcell = d['spatialcell99'].astype(bool)\n",
    "        spatialcells = cell_IDs[spatialcell]\n",
    "        \n",
    "        if len(spatialcells) > 10:\n",
    "            X = d['X']\n",
    "            shuff_X = d['shuff_X']\n",
    "            y = d['y']\n",
    "\n",
    "            # randomly split all trials into training vs. test sets & identify their indices\n",
    "            ds_0 = d['ds_idx'][0, :]\n",
    "            ds_1 = d['ds_idx'][1, :]\n",
    "\n",
    "            # get CV scores for each train and test combo - save these!\n",
    "            train0_test0_scores = train_vs_test_blocks(X, y, ds_0, ds_0)\n",
    "            train0_test1_scores = train_vs_test_blocks(X, y, ds_0, ds_1)\n",
    "            train1_test1_scores = train_vs_test_blocks(X, y, ds_1, ds_1)\n",
    "            train1_test0_scores = train_vs_test_blocks(X, y, ds_1, ds_0)\n",
    "            d['BA_scores'] = np.row_stack((train0_test0_scores, train0_test1_scores, \n",
    "                                        train1_test1_scores, train1_test0_scores))\n",
    "            BA_scores_file = 'BA_scores_decoder_' + m + '_' + s + '.npy'\n",
    "            np.save(save_folder + BA_scores_file, d['BA_scores'])"
   ]
  },
  {
   "cell_type": "code",
   "execution_count": null,
   "id": "f3bf46ba",
   "metadata": {},
   "outputs": [],
   "source": [
    "''' Downsample to Match Speed and Num Observations (A vs B')'''\n",
    "for m, session in zip(mice, sessions):\n",
    "    for s in session:\n",
    "        d = data[m][s]\n",
    "        \n",
    "        #load data\n",
    "        rawdata_file = 'RAW_' + m + '_' + s + '.npy'\n",
    "        behavior_file = 'BEHAVIOR_' + m + '_' + s + '.npy'\n",
    "        \n",
    "        raw = np.load(load_folder + rawdata_file, allow_pickle=True)\n",
    "        behaviorfil = np.load(load_folder + behavior_file, allow_pickle=False)\n",
    "        \n",
    "        cell_IDs = raw.item().get('cellsfil')\n",
    "        spatialcell = d['spatialcell99'].astype(bool)\n",
    "        spatialcells = cell_IDs[spatialcell]\n",
    "        \n",
    "        if len(spatialcells) > 10:\n",
    "            speed = behaviorfil[:, 1]\n",
    "            y = d['y']\n",
    "            map0_idx = d['Aidx']\n",
    "            map1_idx = d['B_ngidx']\n",
    "\n",
    "            # bin speed into 10cm/s bins\n",
    "            edges = np.arange(10, np.max(speed), 10)\n",
    "            speed_idx = np.digitize(speed, edges)\n",
    "\n",
    "            # get indices for each map's observations\n",
    "            obs_0 = np.arange(y.shape[0])[map0_idx]\n",
    "            obs_1 = np.arange(y.shape[0])[map1_idx]\n",
    "\n",
    "            # array to hold indices for downsampling\n",
    "            ds_0 = np.asarray([]) # array to hold indices for downsampling map 0\n",
    "            ds_1 = np.asarray([]) # array to hold indices for downsampling map 1\n",
    "\n",
    "            # match occupancy of each bin for each map\n",
    "            bins, ct = np.unique(speed_idx, return_counts=True)\n",
    "            for b in bins:\n",
    "                occupancy_0 = np.sum(map0_idx[speed_idx == b])\n",
    "                occupancy_1 = np.sum(map1_idx[speed_idx == b])  \n",
    "                idx_0 = np.where(map0_idx & (speed_idx == b))[0]\n",
    "                idx_1 = np.where(map1_idx & (speed_idx == b))[0]\n",
    "\n",
    "                if occupancy_0 > occupancy_1:\n",
    "                    # need to downsample map 0 for this speed bin\n",
    "                    n_timepts = occupancy_1        \n",
    "                    ds_0 = np.append(ds_0, np.random.choice(idx_0, n_timepts, replace=False))\n",
    "                    ds_1 = np.append(ds_1, idx_1)\n",
    "                else:\n",
    "                    # need to downsample map 1 for this speed bin\n",
    "                    n_timepts = occupancy_0\n",
    "                    ds_0 = np.append(ds_0, idx_0)\n",
    "                    ds_1 = np.append(ds_1, np.random.choice(idx_1, n_timepts, replace=False)) \n",
    "            ds_0 = ds_0.astype(int)\n",
    "            ds_1 = ds_1.astype(int)\n",
    "\n",
    "            d['ds_idx'] = np.row_stack((ds_0, ds_1))"
   ]
  },
  {
   "cell_type": "code",
   "execution_count": null,
   "id": "22a83adb",
   "metadata": {},
   "outputs": [],
   "source": [
    "''' Fit model on each map0 = Context A, map1 = Context B_'''\n",
    "\n",
    "model = CircularRegression(alpha=REGULARIZATION)\n",
    "save_folder = 'C:/Users/Python/Desktop/LocalData/spatialcellssm/decoder/spatial/'\n",
    "\n",
    "# cross-validate the model\n",
    "for m, session in zip(mice, sessions):\n",
    "    for s in tdqm(session):\n",
    "        d = data[m][s]\n",
    "        \n",
    "        #load data\n",
    "        rawdata_file = 'RAW_' + m + '_' + s + '.npy'\n",
    "        behavior_file = 'BEHAVIOR_' + m + '_' + s + '.npy'\n",
    "        \n",
    "        raw = np.load(load_folder + rawdata_file, allow_pickle=True)\n",
    "        behaviorfil = np.load(load_folder + behavior_file, allow_pickle=False)\n",
    "        \n",
    "        cell_IDs = raw.item().get('cellsfil')\n",
    "        spatialcell = d['spatialcell99'].astype(bool)\n",
    "        spatialcells = cell_IDs[spatialcell]\n",
    "        \n",
    "        if len(spatialcells) > 10:\n",
    "            X = d['X']\n",
    "            shuff_X = d['shuff_X']\n",
    "            y = d['y']\n",
    "\n",
    "            # randomly split all trials into training vs. test sets & identify their indices\n",
    "            ds_0 = d['ds_idx'][0, :]\n",
    "            ds_1 = d['ds_idx'][1, :]\n",
    "            \n",
    "            # get CV scores for each train and test combo - save these!\n",
    "            train0_test0_scores = train_vs_test_blocks(X, y, ds_0, ds_0)\n",
    "            train0_test1_scores = train_vs_test_blocks(X, y, ds_0, ds_1)\n",
    "            train1_test1_scores = train_vs_test_blocks(X, y, ds_1, ds_1)\n",
    "            train1_test0_scores = train_vs_test_blocks(X, y, ds_1, ds_0)\n",
    "            d['AB_scores'] = np.row_stack((train0_test0_scores, train0_test1_scores, \n",
    "                                        train1_test1_scores, train1_test0_scores))\n",
    "            AB_scores_file = 'AB_scores_decoder_' + m + '_' + s + '.npy'\n",
    "            np.save(save_folder + AB_scores_file, d['AB_scores'])"
   ]
  },
  {
   "cell_type": "code",
   "execution_count": 63,
   "id": "07fe6983",
   "metadata": {
    "scrolled": true
   },
   "outputs": [
    {
     "data": {
      "application/vnd.jupyter.widget-view+json": {
       "model_id": "33cdcc7d5a4f4ba3b7183ee5675c94ca",
       "version_major": 2,
       "version_minor": 0
      },
      "text/plain": [
       "  0%|          | 0/3 [00:00<?, ?it/s]"
      ]
     },
     "metadata": {},
     "output_type": "display_data"
    },
    {
     "data": {
      "application/vnd.jupyter.widget-view+json": {
       "model_id": "47eb00585449446abfb5009dc82128a8",
       "version_major": 2,
       "version_minor": 0
      },
      "text/plain": [
       "  0%|          | 0/6 [00:00<?, ?it/s]"
      ]
     },
     "metadata": {},
     "output_type": "display_data"
    },
    {
     "data": {
      "application/vnd.jupyter.widget-view+json": {
       "model_id": "2b21edd257604cc5a8589297cf9c47da",
       "version_major": 2,
       "version_minor": 0
      },
      "text/plain": [
       "  0%|          | 0/4 [00:00<?, ?it/s]"
      ]
     },
     "metadata": {},
     "output_type": "display_data"
    },
    {
     "data": {
      "application/vnd.jupyter.widget-view+json": {
       "model_id": "c526a28838cc4479ab30bc78d1d655b5",
       "version_major": 2,
       "version_minor": 0
      },
      "text/plain": [
       "  0%|          | 0/6 [00:00<?, ?it/s]"
      ]
     },
     "metadata": {},
     "output_type": "display_data"
    },
    {
     "data": {
      "application/vnd.jupyter.widget-view+json": {
       "model_id": "be48e7d9ffc4429cb32200c50944fba8",
       "version_major": 2,
       "version_minor": 0
      },
      "text/plain": [
       "  0%|          | 0/6 [00:00<?, ?it/s]"
      ]
     },
     "metadata": {},
     "output_type": "display_data"
    },
    {
     "data": {
      "application/vnd.jupyter.widget-view+json": {
       "model_id": "d061dfb0cf88485a9028a400e192bd55",
       "version_major": 2,
       "version_minor": 0
      },
      "text/plain": [
       "  0%|          | 0/6 [00:00<?, ?it/s]"
      ]
     },
     "metadata": {},
     "output_type": "display_data"
    },
    {
     "data": {
      "application/vnd.jupyter.widget-view+json": {
       "model_id": "677936ec948f46838c815bca8ba49602",
       "version_major": 2,
       "version_minor": 0
      },
      "text/plain": [
       "  0%|          | 0/6 [00:00<?, ?it/s]"
      ]
     },
     "metadata": {},
     "output_type": "display_data"
    },
    {
     "data": {
      "application/vnd.jupyter.widget-view+json": {
       "model_id": "c33f3c18349741cb96fea3c2dc185dfe",
       "version_major": 2,
       "version_minor": 0
      },
      "text/plain": [
       "  0%|          | 0/6 [00:00<?, ?it/s]"
      ]
     },
     "metadata": {},
     "output_type": "display_data"
    },
    {
     "data": {
      "application/vnd.jupyter.widget-view+json": {
       "model_id": "a1bc575612434549913eefee6a727748",
       "version_major": 2,
       "version_minor": 0
      },
      "text/plain": [
       "  0%|          | 0/6 [00:00<?, ?it/s]"
      ]
     },
     "metadata": {},
     "output_type": "display_data"
    },
    {
     "data": {
      "application/vnd.jupyter.widget-view+json": {
       "model_id": "41a266c6d11f4d72828279c50e504194",
       "version_major": 2,
       "version_minor": 0
      },
      "text/plain": [
       "  0%|          | 0/6 [00:00<?, ?it/s]"
      ]
     },
     "metadata": {},
     "output_type": "display_data"
    },
    {
     "data": {
      "application/vnd.jupyter.widget-view+json": {
       "model_id": "c5b821fa3f304a798ddcd2d401bf1a54",
       "version_major": 2,
       "version_minor": 0
      },
      "text/plain": [
       "  0%|          | 0/6 [00:00<?, ?it/s]"
      ]
     },
     "metadata": {},
     "output_type": "display_data"
    },
    {
     "data": {
      "application/vnd.jupyter.widget-view+json": {
       "model_id": "6c5d2694ece148448e070b236f6138ef",
       "version_major": 2,
       "version_minor": 0
      },
      "text/plain": [
       "  0%|          | 0/6 [00:00<?, ?it/s]"
      ]
     },
     "metadata": {},
     "output_type": "display_data"
    },
    {
     "data": {
      "application/vnd.jupyter.widget-view+json": {
       "model_id": "cd39ef9f81d645fa9f949b0f5414ac6f",
       "version_major": 2,
       "version_minor": 0
      },
      "text/plain": [
       "  0%|          | 0/6 [00:00<?, ?it/s]"
      ]
     },
     "metadata": {},
     "output_type": "display_data"
    },
    {
     "data": {
      "application/vnd.jupyter.widget-view+json": {
       "model_id": "0ab67c7253aa44e481e1bf0ee4b4bcdf",
       "version_major": 2,
       "version_minor": 0
      },
      "text/plain": [
       "  0%|          | 0/6 [00:00<?, ?it/s]"
      ]
     },
     "metadata": {},
     "output_type": "display_data"
    },
    {
     "data": {
      "application/vnd.jupyter.widget-view+json": {
       "model_id": "669a55bf27ed4ad6bc3411159343c2f2",
       "version_major": 2,
       "version_minor": 0
      },
      "text/plain": [
       "  0%|          | 0/6 [00:00<?, ?it/s]"
      ]
     },
     "metadata": {},
     "output_type": "display_data"
    },
    {
     "data": {
      "application/vnd.jupyter.widget-view+json": {
       "model_id": "1c764e33e895433f9c266d9ca01cb7af",
       "version_major": 2,
       "version_minor": 0
      },
      "text/plain": [
       "  0%|          | 0/6 [00:00<?, ?it/s]"
      ]
     },
     "metadata": {},
     "output_type": "display_data"
    },
    {
     "data": {
      "application/vnd.jupyter.widget-view+json": {
       "model_id": "f2a43bec98b1499d8916b977b4225dbd",
       "version_major": 2,
       "version_minor": 0
      },
      "text/plain": [
       "  0%|          | 0/6 [00:00<?, ?it/s]"
      ]
     },
     "metadata": {},
     "output_type": "display_data"
    },
    {
     "data": {
      "application/vnd.jupyter.widget-view+json": {
       "model_id": "f6f3d3a416c74c2ea74f5e516c11a289",
       "version_major": 2,
       "version_minor": 0
      },
      "text/plain": [
       "  0%|          | 0/4 [00:00<?, ?it/s]"
      ]
     },
     "metadata": {},
     "output_type": "display_data"
    },
    {
     "data": {
      "application/vnd.jupyter.widget-view+json": {
       "model_id": "badc44bd635d4c9e8d9d1a333aec5f25",
       "version_major": 2,
       "version_minor": 0
      },
      "text/plain": [
       "  0%|          | 0/6 [00:00<?, ?it/s]"
      ]
     },
     "metadata": {},
     "output_type": "display_data"
    },
    {
     "data": {
      "application/vnd.jupyter.widget-view+json": {
       "model_id": "f8959738097648929b8318c4b28371b8",
       "version_major": 2,
       "version_minor": 0
      },
      "text/plain": [
       "  0%|          | 0/6 [00:00<?, ?it/s]"
      ]
     },
     "metadata": {},
     "output_type": "display_data"
    },
    {
     "data": {
      "application/vnd.jupyter.widget-view+json": {
       "model_id": "ff2020de9f564972b6f5a296a7bd2224",
       "version_major": 2,
       "version_minor": 0
      },
      "text/plain": [
       "  0%|          | 0/6 [00:00<?, ?it/s]"
      ]
     },
     "metadata": {},
     "output_type": "display_data"
    },
    {
     "data": {
      "application/vnd.jupyter.widget-view+json": {
       "model_id": "a1b674f83e7f40139d39550867f155ae",
       "version_major": 2,
       "version_minor": 0
      },
      "text/plain": [
       "  0%|          | 0/6 [00:00<?, ?it/s]"
      ]
     },
     "metadata": {},
     "output_type": "display_data"
    },
    {
     "data": {
      "application/vnd.jupyter.widget-view+json": {
       "model_id": "568cf4e8e0cd43deb89e239ef506e81a",
       "version_major": 2,
       "version_minor": 0
      },
      "text/plain": [
       "  0%|          | 0/6 [00:00<?, ?it/s]"
      ]
     },
     "metadata": {},
     "output_type": "display_data"
    },
    {
     "data": {
      "application/vnd.jupyter.widget-view+json": {
       "model_id": "fe09ce2728484e5eaa69ec31b9a5a7bf",
       "version_major": 2,
       "version_minor": 0
      },
      "text/plain": [
       "  0%|          | 0/6 [00:00<?, ?it/s]"
      ]
     },
     "metadata": {},
     "output_type": "display_data"
    },
    {
     "data": {
      "application/vnd.jupyter.widget-view+json": {
       "model_id": "737b3ea9d74b4774a540fd728625f703",
       "version_major": 2,
       "version_minor": 0
      },
      "text/plain": [
       "  0%|          | 0/6 [00:00<?, ?it/s]"
      ]
     },
     "metadata": {},
     "output_type": "display_data"
    },
    {
     "data": {
      "application/vnd.jupyter.widget-view+json": {
       "model_id": "97d17c22cc844bc5b1b63966b64d906b",
       "version_major": 2,
       "version_minor": 0
      },
      "text/plain": [
       "  0%|          | 0/6 [00:00<?, ?it/s]"
      ]
     },
     "metadata": {},
     "output_type": "display_data"
    },
    {
     "data": {
      "application/vnd.jupyter.widget-view+json": {
       "model_id": "1555f55935ac4d65b004d4d05e95c417",
       "version_major": 2,
       "version_minor": 0
      },
      "text/plain": [
       "  0%|          | 0/6 [00:00<?, ?it/s]"
      ]
     },
     "metadata": {},
     "output_type": "display_data"
    },
    {
     "data": {
      "application/vnd.jupyter.widget-view+json": {
       "model_id": "2756084bec214e819f60aada368a971b",
       "version_major": 2,
       "version_minor": 0
      },
      "text/plain": [
       "  0%|          | 0/6 [00:00<?, ?it/s]"
      ]
     },
     "metadata": {},
     "output_type": "display_data"
    },
    {
     "data": {
      "application/vnd.jupyter.widget-view+json": {
       "model_id": "836b9b7cf3fa4d71a99e374e03a45029",
       "version_major": 2,
       "version_minor": 0
      },
      "text/plain": [
       "  0%|          | 0/6 [00:00<?, ?it/s]"
      ]
     },
     "metadata": {},
     "output_type": "display_data"
    }
   ],
   "source": [
    "''' Collate Results from 6x Decoder Analyses Above '''\n",
    "\n",
    "save_folder = 'C:/Users/Python/Desktop/LocalData/spatialcellssm/decoder/spatial/'\n",
    "\n",
    "#get total number of sessions that meet criteria\n",
    "count = 0\n",
    "for m, session in zip(mice, sessions):\n",
    "    for s in session:\n",
    "        d = data[m][s]\n",
    "        #load data\n",
    "        rawdata_file = 'RAW_' + m + '_' + s + '.npy'\n",
    "        behavior_file = 'BEHAVIOR_' + m + '_' + s + '.npy'\n",
    "        \n",
    "        raw = np.load(load_folder + rawdata_file, allow_pickle=True)\n",
    "        behaviorfil = np.load(load_folder + behavior_file, allow_pickle=False)\n",
    "        \n",
    "        cell_IDs = raw.item().get('cellsfil')\n",
    "        spatialcell = d['spatialcell99'].astype(bool)\n",
    "        spatialcells = cell_IDs[spatialcell]\n",
    "        \n",
    "        if len(spatialcells) > 10:\n",
    "            count += 1\n",
    "\n",
    "#train test same arrays\n",
    "AA = np.zeros((3, count))\n",
    "BB = np.zeros((3, count))\n",
    "A_A_ = np.zeros((3, count))\n",
    "B_B_ = np.zeros((3, count))\n",
    "\n",
    "#train/test context-matched\n",
    "AA_ = []\n",
    "A_A = []\n",
    "BB_ = []\n",
    "B_B = []\n",
    "\n",
    "#train/test context-mismatched\n",
    "AB = []\n",
    "BA = []\n",
    "A_B_ = []\n",
    "B_A_ = []\n",
    "BA_ = []\n",
    "A_B = []\n",
    "AB_ = []\n",
    "B_A = []\n",
    "\n",
    "ysesh = []\n",
    "masesh = []\n",
    "agesesh = []\n",
    "\n",
    "count = -1\n",
    "for m, session in zip(mice, sessions):\n",
    "    for s in tdqm(session):\n",
    "        d = data[m][s]\n",
    "        #load data\n",
    "        rawdata_file = 'RAW_' + m + '_' + s + '.npy'\n",
    "        behavior_file = 'BEHAVIOR_' + m + '_' + s + '.npy'\n",
    "        \n",
    "        raw = np.load(load_folder + rawdata_file, allow_pickle=True)\n",
    "        behaviorfil = np.load(load_folder + behavior_file, allow_pickle=False)\n",
    "        \n",
    "        cell_IDs = raw.item().get('cellsfil')\n",
    "        spatialcell = d['spatialcell99'].astype(bool)\n",
    "        spatialcells = cell_IDs[spatialcell]\n",
    "        \n",
    "        if len(spatialcells) > 10:\n",
    "            \n",
    "            #decoder run 1 A vs. A'\n",
    "            AA_scores_file = 'AA_scores_decoder_' + m + '_' + s + '.npy'\n",
    "            d['AA_scores'] = np.load(save_folder + AA_scores_file) \n",
    "            scores = d['AA_scores']\n",
    "\n",
    "            AA[0,count] = np.mean(scores[0,:])\n",
    "            A_A_[0, count] =  np.mean(scores[2,:])   \n",
    "            AA_ = np.append(AA_, np.mean(scores[1,:]))       \n",
    "            A_A = np.append(A_A, np.mean(scores[3,:]))\n",
    "            \n",
    "            #decoder run 2 B vs. B'\n",
    "            BB_scores_file = 'BB_scores_decoder_' + m + '_' + s + '.npy'\n",
    "            d['BB_scores'] = np.load(save_folder + BB_scores_file) \n",
    "            scores = d['BB_scores']\n",
    "\n",
    "            BB[0,count] = np.mean(scores[0,:])\n",
    "            B_B_[0, count] =  np.mean(scores[2,:])   \n",
    "            BB_ = np.append(BB_, np.mean(scores[1,:]))       \n",
    "            B_B = np.append(B_B, np.mean(scores[3,:]))\n",
    "            \n",
    "            #decoder run 3 A vs. B\n",
    "            ABscores_file = 'ABscores_decoder_' + m + '_' + s + '.npy'\n",
    "            d['ABscores'] = np.load(save_folder + ABscores_file)\n",
    "            scores = d['ABscores']\n",
    "            \n",
    "            AA[1,count] = np.mean(scores[0,:])\n",
    "            BB[1,count] = np.mean(scores[2,:]) \n",
    "            AB = np.append(AB, np.mean(scores[1,:]))       \n",
    "            BA = np.append(BA, np.mean(scores[3,:]))\n",
    "            \n",
    "            #decoder run 4 A' x B'\n",
    "            A_B_scores_file = 'A_B_scores_decoder_' + m + '_' + s + '.npy'\n",
    "            d['A_B_scores'] = np.load(save_folder + A_B_scores_file)\n",
    "            scores = d['A_B_scores']\n",
    "            \n",
    "            A_A_[1,count] = np.mean(scores[0,:])\n",
    "            B_B_[1,count] = np.mean(scores[2,:]) \n",
    "            A_B_ = np.append(A_B_, np.mean(scores[1,:]))       \n",
    "            B_A_ = np.append(B_A_, np.mean(scores[3,:]))\n",
    "            \n",
    "            #decoder run 5 B x A'\n",
    "            BA_scores_file = 'BA_scores_decoder_' + m + '_' + s + '.npy'\n",
    "            d['BA_scores'] = np.load(save_folder + BA_scores_file)\n",
    "            scores = d['BA_scores']\n",
    "            \n",
    "            BB[2,count] = np.mean(scores[0,:])\n",
    "            BA_ = np.append(BA_, np.mean(scores[1,:]))\n",
    "            A_A_[2,count] = np.mean(scores[2,:])\n",
    "            A_B = np.append(A_B, np.mean(scores[3,:]))\n",
    "            \n",
    "            #decoder run 6 A x B'\n",
    "            AB_scores_file = 'AB_scores_decoder_' + m + '_' + s + '.npy'\n",
    "            d['AB_scores'] = np.load(save_folder + AB_scores_file)\n",
    "            scores = d['AB_scores'] \n",
    "                             \n",
    "            AA[2,count] = np.mean(scores[0,:])\n",
    "            AB_ = np.append(AB_, np.mean(scores[1,:]))\n",
    "            B_B_[2,count] = np.mean(scores[2,:])\n",
    "            B_A = np.append(B_A, np.mean(scores[3,:]))\n",
    "              \n",
    "            count += 1\n",
    "            if m in SM_aged_mice:\n",
    "                agesesh = np.append(agesesh, count)\n",
    "            elif m in SM_MA_mice:\n",
    "                masesh = np.append(masesh, count)\n",
    "            else: \n",
    "                ysesh = np.append(ysesh, count)\n",
    "                \n",
    "ysesh = ysesh.astype(int)\n",
    "masesh = masesh.astype(int)\n",
    "agesesh = agesesh.astype(int)"
   ]
  },
  {
   "cell_type": "code",
   "execution_count": 64,
   "id": "021eca18",
   "metadata": {},
   "outputs": [
    {
     "data": {
      "image/png": "[encoded data removed]",
      "text/plain": [
       "<Figure size 260x125 with 2 Axes>"
      ]
     },
     "metadata": {},
     "output_type": "display_data"
    }
   ],
   "source": [
    "''' Plot Scatter of Decoder Scores Train/Test Same vs. Different Epoch (Split Maze Block Phase) (Figure S5G)'''\n",
    "\n",
    "# plot performance same train/test vs. different train/test\n",
    "f, (ax0, ax1) = plt.subplots(1, 2, figsize=(2.6, 1.25), sharey = True) \n",
    "#f.suptitle('Decoder Performance by Train/Test Pairing & Age Group')\n",
    "\n",
    "DOT_SIZE = 10\n",
    "DOT_LW = 0.5\n",
    "UNITY_WIDTH = 1\n",
    "SEM_WIDTH = 0.8\n",
    "\n",
    "avg_0to0 = np.mean(AA, axis = 0)\n",
    "avg_0to1 = AB\n",
    "avg_1to1 = np.mean(BB, axis = 0)\n",
    "avg_1to0 = BA\n",
    "\n",
    "# train on map 0, test on map 0 vs. test on map 1\n",
    "ax0.scatter(avg_0to1[ysesh], avg_0to0[ysesh],\n",
    "            facecolors='C0', edgecolors='C0', \n",
    "            s=DOT_SIZE, lw=DOT_LW, zorder=3, label = 'Young')   \n",
    "\n",
    "ax0.scatter(avg_0to1[masesh], avg_0to0[masesh],\n",
    "            facecolors='C2', edgecolors='C2', \n",
    "            s=DOT_SIZE, lw=DOT_LW, zorder=3, label = 'MA')   \n",
    "\n",
    "ax0.scatter(avg_0to1[agesesh], avg_0to0[agesesh],\n",
    "            facecolors='C1', edgecolors='C1', \n",
    "            s=DOT_SIZE, lw=DOT_LW, zorder=3, label = 'Aged')   \n",
    "\n",
    "# train on map 1, test on map 1 vs. test on map 0\n",
    "ax1.scatter(avg_1to1[ysesh], avg_1to0[ysesh],\n",
    "            facecolors='C0', edgecolors='C0', \n",
    "            s=DOT_SIZE, lw=DOT_LW, zorder=3, label = 'Young')\n",
    "\n",
    "ax1.scatter(avg_1to1[masesh], avg_1to0[masesh],\n",
    "            facecolors='C2', edgecolors='C2', \n",
    "            s=DOT_SIZE, lw=DOT_LW, zorder=3, label = 'MA')  \n",
    "\n",
    "ax1.scatter(avg_1to1[agesesh], avg_1to0[agesesh],\n",
    "            facecolors='C1', edgecolors='C1', \n",
    "            s=DOT_SIZE, lw=DOT_LW, zorder=3, label = 'Aged')\n",
    "\n",
    "# plot unity lines + shuffle/best lines\n",
    "ax0.plot([0, 1], [0, 1], '--k', lw=UNITY_WIDTH, alpha=1)\n",
    "ax1.plot([0, 1], [0, 1], '--k', lw=UNITY_WIDTH, alpha=1)\n",
    "\n",
    "# label everything\n",
    "ax0.set_title('Train Map A', fontsize=10, pad=4)\n",
    "ax0.set_ylabel('Test Map A', fontsize=9, labelpad=1)\n",
    "ax0.set_xlabel('Test Map B', fontsize=9, labelpad=1)\n",
    "ax0.set_ylim([-0.05, 1.05])\n",
    "ax0.set_xlim([-0.05, 1.05])\n",
    "ax0.set_xticks([0, 0.5, 1])\n",
    "ax0.set_xticklabels([0, 0.5, 1])\n",
    "ax0.set_yticks([0, 0.5, 1])\n",
    "ax0.set_yticklabels([0, 0.5, 1])\n",
    "\n",
    "ax1.set_title('Train Map B', fontsize=10, pad=4)\n",
    "#ax1.set_ylabel('Test Map 1', fontsize=9, labelpad=1)\n",
    "ax1.set_xlabel('Test Map B', fontsize=9, labelpad=1)\n",
    "ax1.set_ylim([-0.05, 1.05])\n",
    "ax1.set_xlim([-0.05, 1.05])\n",
    "ax1.set_xticks([0, 0.5, 1])\n",
    "ax1.set_xticklabels([0, 0.5, 1])\n",
    "ax1.set_yticks([0, 0.5, 1])\n",
    "ax1.set_yticklabels([0, 0.5, 1])\n",
    "\n",
    "ax0.tick_params(which='major', labelsize=8)\n",
    "ax1.tick_params(which='major', labelsize=8)\n",
    "#ax1.legend(fontsize = 8)\n",
    "#ax0.legend(fontsize = 8)\n",
    "\n",
    "#f.savefig(save_folder + 'smtrainblocktestblock_decoder_scores.png', dpi=400, bbox_inches='tight')\n",
    "#f.savefig(save_folder + 'smtrainblocktestblock_decoder_scores.svg', dpi=400, bbox_inches='tight')\n",
    "plt.show()"
   ]
  },
  {
   "cell_type": "code",
   "execution_count": 65,
   "id": "2e39a148",
   "metadata": {},
   "outputs": [
    {
     "name": "stdout",
     "output_type": "stream",
     "text": [
      "mean ± SEM train/test A: 0.7333946382823245, 0.026727076024328267\n",
      "mean ± SEM train/test B: 0.6817966266202499, 0.028657730989703513\n",
      "YOUNG train/test map A vs. map B: p = 0.14886755022583809\n",
      "\n",
      "mean ± SEM train/test A: 0.6428969679004685, 0.02548279649582509\n",
      "mean ± SEM train/test B: 0.6817259645157989, 0.02187166174148363\n",
      "MA train/test map A vs. map B: p = 0.26801599705244394\n",
      "\n",
      "mean ± SEM train/test A: 0.6213841000982852, 0.031687275240460375\n",
      "mean ± SEM train/test B: 0.6237999898539902, 0.03250662891595076\n",
      "AGED train/test map A vs. map B: p = 0.7438018625087117\n",
      "ALL train/test map A vs. map B: p = 0.8729571832661078\n",
      "\n",
      "YOUNG train/test same vs. train/test different: p = 9.788792723651038e-18\n",
      "mean ± SEM test same: 0.7075956324512873, 0.019668901168475163\n",
      "mean ± SEM test diff: 0.16391475488897184, 0.02432155212628914\n",
      "n = 96 model pairs\n",
      "\n",
      "MA train/test same vs. train/test different: p = 1.6943948963546656e-18\n",
      "mean ± SEM test same: 0.6623114662081337, 0.016818920674767476\n",
      "mean ± SEM test diff: 0.19284887477319348, 0.01875603526209389\n",
      "n = 102 model pairs\n",
      "\n",
      "AGED train/test same vs. train/test different: p = 1.6468921154966135e-16\n",
      "mean ± SEM test same: 0.6225920449761377, 0.022570308256096988\n",
      "mean ± SEM test diff: 0.12832074840371305, 0.015618199692935165\n",
      "n = 90 model pairs\n",
      "\n",
      "ALL train/test same vs. train/test different: p = 9.452567015240802e-49\n",
      "mean ± SEM test same: 0.6649938691541861, 0.011462260058103201\n",
      "mean ± SEM test diff: 0.16303912865465697, 0.011625952947014753\n",
      "n = 288 model pairs\n",
      "\n",
      "YOUNG vs. MA vs. AGED train/test map A : p = 0.006865289671088356\n",
      "YOUNG vs. MA vs. AGED train/test map B: p = 0.41662302124650263\n",
      "YOUNG vs. MA vs. AGED train/test map B/A: p = 0.6556859239457511\n",
      "YOUNG vs. MA vs. AGED train/test map A/B: p = 0.1715025828813275\n"
     ]
    }
   ],
   "source": [
    "'''Statistical Comparison of Decoder Scores Train/Test Same vs. Different by Age Group & Together'''\n",
    "allsind = np.concatenate((ysesh, masesh, agesesh))\n",
    "\n",
    "# train/test map 0 vs. map 1 on young mice\n",
    "m0vsm1_stat, m0vsm1_p = stats.ranksums(avg_0to0[ysesh], avg_1to1[ysesh])\n",
    "print('mean ± SEM train/test A: ' + str(np.mean(avg_0to0[ysesh])) + ', ' + str(stats.sem(avg_0to0[ysesh])))\n",
    "print('mean ± SEM train/test B: ' + str(np.mean(avg_1to1[ysesh])) + ', ' + str(stats.sem(avg_1to1[ysesh])))\n",
    "print('YOUNG train/test map A vs. map B: p = ' + str(m0vsm1_p))\n",
    "\n",
    "# train/test map 0 vs. map 1 on MA mice\n",
    "m0vsm1_stat, m0vsm1_p = stats.ranksums(avg_0to0[masesh], avg_1to1[masesh])\n",
    "print('\\nmean ± SEM train/test A: ' + str(np.mean(avg_0to0[masesh])) + ', ' + str(stats.sem(avg_0to0[masesh])))\n",
    "print('mean ± SEM train/test B: ' + str(np.mean(avg_1to1[masesh])) + ', ' + str(stats.sem(avg_1to1[masesh])))\n",
    "print('MA train/test map A vs. map B: p = ' + str(m0vsm1_p))\n",
    "\n",
    "# train/test map 0 vs. map 1 on aged mice\n",
    "m0vsm1_stat, m0vsm1_p = stats.ranksums(avg_0to0[agesesh], avg_1to1[agesesh])\n",
    "print('\\nmean ± SEM train/test A: ' + str(np.mean(avg_0to0[agesesh])) + ', ' + str(stats.sem(avg_0to0[agesesh])))\n",
    "print('mean ± SEM train/test B: ' + str(np.mean(avg_1to1[agesesh])) + ', ' + str(stats.sem(avg_1to1[agesesh])))\n",
    "print('AGED train/test map A vs. map B: p = ' + str(m0vsm1_p))\n",
    "\n",
    "# train/test map 0 vs. map 1 on both age groups of mice\n",
    "m0vsm1_stat, m0vsm1_p = stats.ranksums(avg_0to0[allsind], avg_1to1[allsind])\n",
    "print('ALL train/test map A vs. map B: p = ' + str(m0vsm1_p))\n",
    "\n",
    "# train/test same map vs. other map\n",
    "same_to_same = np.append(avg_0to0[ysesh], avg_1to1[ysesh])\n",
    "diff_to_diff = np.append(avg_0to1[ysesh], avg_1to0[ysesh])\n",
    "sameVSdiff_stat, sameVSdiff_p = stats.wilcoxon(same_to_same, diff_to_diff, alternative = 'greater')\n",
    "print('\\nYOUNG train/test same vs. train/test different: p = ' + str(sameVSdiff_p))\n",
    "print('mean ± SEM test same: ' + str(np.mean(same_to_same)) + ', ' + str(stats.sem(same_to_same)))\n",
    "print('mean ± SEM test diff: ' + str(np.mean(diff_to_diff)) + ', ' + str(stats.sem(diff_to_diff)))\n",
    "print('n = ' + str(same_to_same.shape[0]) + ' model pairs')\n",
    "\n",
    "same_to_same = np.append(avg_0to0[masesh], avg_1to1[masesh])\n",
    "diff_to_diff = np.append(avg_0to1[masesh], avg_1to0[masesh])\n",
    "sameVSdiff_stat, sameVSdiff_p = stats.wilcoxon(same_to_same, diff_to_diff, alternative = 'greater')\n",
    "print('\\nMA train/test same vs. train/test different: p = ' + str(sameVSdiff_p))\n",
    "print('mean ± SEM test same: ' + str(np.mean(same_to_same)) + ', ' + str(stats.sem(same_to_same)))\n",
    "print('mean ± SEM test diff: ' + str(np.mean(diff_to_diff)) + ', ' + str(stats.sem(diff_to_diff)))\n",
    "print('n = ' + str(same_to_same.shape[0]) + ' model pairs')\n",
    "\n",
    "same_to_same = np.append(avg_0to0[agesesh], avg_1to1[agesesh])\n",
    "diff_to_diff = np.append(avg_0to1[agesesh], avg_1to0[agesesh])\n",
    "sameVSdiff_stat, sameVSdiff_p = stats.wilcoxon(same_to_same, diff_to_diff, alternative = 'greater')\n",
    "print('\\nAGED train/test same vs. train/test different: p = ' + str(sameVSdiff_p))\n",
    "print('mean ± SEM test same: ' + str(np.mean(same_to_same)) + ', ' + str(stats.sem(same_to_same)))\n",
    "print('mean ± SEM test diff: ' + str(np.mean(diff_to_diff)) + ', ' + str(stats.sem(diff_to_diff)))\n",
    "print('n = ' + str(same_to_same.shape[0]) + ' model pairs')\n",
    "\n",
    "same_to_same = np.append(avg_0to0[allsind], avg_1to1[allsind])\n",
    "diff_to_diff = np.append(avg_0to1[allsind], avg_1to0[allsind])\n",
    "sameVSdiff_stat, sameVSdiff_p = stats.wilcoxon(same_to_same, diff_to_diff, alternative = 'greater')\n",
    "print('\\nALL train/test same vs. train/test different: p = ' + str(sameVSdiff_p))\n",
    "print('mean ± SEM test same: ' + str(np.mean(same_to_same)) + ', ' + str(stats.sem(same_to_same)))\n",
    "print('mean ± SEM test diff: ' + str(np.mean(diff_to_diff)) + ', ' + str(stats.sem(diff_to_diff)))\n",
    "print('n = ' + str(same_to_same.shape[0]) + ' model pairs')\n",
    "\n",
    "#age group effects\n",
    "stat, p = stats.kruskal(avg_0to0[ysesh],avg_0to0[masesh],avg_0to0[agesesh])\n",
    "print('\\nYOUNG vs. MA vs. AGED train/test map A : p = ' + str(p))\n",
    "\n",
    "stat, p = stats.kruskal(avg_1to1[ysesh],avg_1to1[masesh],avg_1to1[agesesh])\n",
    "print('YOUNG vs. MA vs. AGED train/test map B: p = ' + str(p))\n",
    "\n",
    "stat, p = stats.kruskal(avg_1to0[ysesh],avg_1to0[masesh],avg_1to0[agesesh])\n",
    "print('YOUNG vs. MA vs. AGED train/test map B/A: p = ' + str(p))\n",
    "\n",
    "stat, p = stats.kruskal(avg_0to1[ysesh],avg_0to1[masesh],avg_0to1[agesesh])\n",
    "print('YOUNG vs. MA vs. AGED train/test map A/B: p = ' + str(p))"
   ]
  },
  {
   "cell_type": "code",
   "execution_count": 66,
   "id": "1b6fb700",
   "metadata": {},
   "outputs": [
    {
     "data": {
      "image/png": "[encoded data removed]",
      "text/plain": [
       "<Figure size 260x125 with 2 Axes>"
      ]
     },
     "metadata": {},
     "output_type": "display_data"
    }
   ],
   "source": [
    "''' Plot Scatter of Decoder Scores Train/Test Context-Matched vs. -Mismatched (across Split Maze Block vs. Alt Phases) (Figure S5H)'''\n",
    "\n",
    "# plot performance context-matched train/test vs. -mismatched train/test\n",
    "f, (ax0, ax1) = plt.subplots(1, 2, figsize=(2.6, 1.25), sharey = True) \n",
    "#f.suptitle('Decoder Performance by Train/Test Pairing & Age Group')\n",
    "\n",
    "DOT_SIZE = 10\n",
    "DOT_LW = 0.5\n",
    "UNITY_WIDTH = 1\n",
    "SEM_WIDTH = 0.8\n",
    "\n",
    "avg_0to0 = AA_\n",
    "avg_0to1 = AB_\n",
    "avg_1to1 = BB_\n",
    "avg_1to0 = BA_\n",
    "\n",
    "# train on map 0, test on map 0 vs. test on map 1\n",
    "ax0.scatter(avg_0to1[ysesh], avg_0to0[ysesh],\n",
    "            facecolors='C0', edgecolors='C0', \n",
    "            s=DOT_SIZE, lw=DOT_LW, zorder=3, label = 'Young')   \n",
    "\n",
    "ax0.scatter(avg_0to1[masesh], avg_0to0[masesh],\n",
    "            facecolors='C2', edgecolors='C2', \n",
    "            s=DOT_SIZE, lw=DOT_LW, zorder=3, label = 'MA')   \n",
    "\n",
    "ax0.scatter(avg_0to1[agesesh], avg_0to0[agesesh],\n",
    "            facecolors='C1', edgecolors='C1', \n",
    "            s=DOT_SIZE, lw=DOT_LW, zorder=3, label = 'Aged')   \n",
    "\n",
    "# train on map 1, test on map 1 vs. test on map 0\n",
    "ax1.scatter(avg_1to1[ysesh], avg_1to0[ysesh],\n",
    "            facecolors='C0', edgecolors='C0', \n",
    "            s=DOT_SIZE, lw=DOT_LW, zorder=3, label = 'Young')\n",
    "\n",
    "ax1.scatter(avg_1to1[masesh], avg_1to0[masesh],\n",
    "            facecolors='C2', edgecolors='C2', \n",
    "            s=DOT_SIZE, lw=DOT_LW, zorder=3, label = 'MA')  \n",
    "\n",
    "ax1.scatter(avg_1to1[agesesh], avg_1to0[agesesh],\n",
    "            facecolors='C1', edgecolors='C1', \n",
    "            s=DOT_SIZE, lw=DOT_LW, zorder=3, label = 'Aged')\n",
    "\n",
    "# plot unity lines + shuffle/best lines\n",
    "ax0.plot([0, 1], [0, 1], '--k', lw=UNITY_WIDTH, alpha=1)\n",
    "ax1.plot([0, 1], [0, 1], '--k', lw=UNITY_WIDTH, alpha=1)\n",
    "\n",
    "# label everything\n",
    "ax0.set_title('Train Map A', fontsize=10, pad=4)\n",
    "ax0.set_ylabel('Test Map A`', fontsize=9, labelpad=1)\n",
    "ax0.set_xlabel('Test Map B`', fontsize=9, labelpad=1)\n",
    "ax0.set_ylim([-0.05, 1.05])\n",
    "ax0.set_xlim([-0.05, 1.05])\n",
    "ax0.set_xticks([0, 0.5, 1])\n",
    "ax0.set_xticklabels([0, 0.5, 1])\n",
    "ax0.set_yticks([0, 0.5, 1])\n",
    "ax0.set_yticklabels([0, 0.5, 1])\n",
    "\n",
    "ax1.set_title('Train Map B', fontsize=10, pad=4)\n",
    "#ax1.set_ylabel('Test Map 1', fontsize=9, labelpad=1)\n",
    "ax1.set_xlabel('Test Map B`', fontsize=9, labelpad=1)\n",
    "ax1.set_ylim([-0.05, 1.05])\n",
    "ax1.set_xlim([-0.05, 1.05])\n",
    "ax1.set_xticks([0, 0.5, 1])\n",
    "ax1.set_xticklabels([0, 0.5, 1])\n",
    "ax1.set_yticks([0, 0.5, 1])\n",
    "ax1.set_yticklabels([0, 0.5, 1])\n",
    "\n",
    "ax0.tick_params(which='major', labelsize=8)\n",
    "ax1.tick_params(which='major', labelsize=8)\n",
    "#ax1.legend(fontsize = 8)\n",
    "#ax0.legend(fontsize = 8)\n",
    "\n",
    "#f.savefig(save_folder + 'smtrainblockktestalt_decoder_scores.png', dpi=400, bbox_inches='tight')\n",
    "#f.savefig(save_folder + 'smtrainblocktestalt_decoder_scores.svg', dpi=400, bbox_inches='tight')\n",
    "plt.show()"
   ]
  },
  {
   "cell_type": "code",
   "execution_count": 68,
   "id": "7c63b500",
   "metadata": {},
   "outputs": [
    {
     "name": "stdout",
     "output_type": "stream",
     "text": [
      "mean ± SEM train/test AA: 0.30535896538133833, 0.03693236425389361\n",
      "mean ± SEM train/test BB: 0.46304368938647017, 0.03185955521462405\n",
      "YOUNG train/test matched AA` vs. BB`: p = 0.0021386041400707134\n",
      "\n",
      "mean ± SEM train/test AA: 0.3269240733347771, 0.02656377730282374\n",
      "mean ± SEM train/test BB: 0.4915892782138817, 0.02386961175871705\n",
      "MA train/test matched AA` vs. BB`: p = 3.189204295205788e-05\n",
      "\n",
      "mean ± SEM train/test AA: 0.2833660312316037, 0.028443219695384468\n",
      "mean ± SEM train/test BB: 0.42252060463922675, 0.03322174411795243\n",
      "AGED train/test matched AA` vs. BB`: p = 0.001625910743129389\n",
      "ALL train/test matched AA` vs. BB`: p = 2.432106154912385e-09\n",
      "\n",
      "YOUNG train/test same (AA`, BB`) vs. train/test different (BA`, AB`): p = 2.7118940686568294e-16\n",
      "mean ± SEM test same: 0.3842013273839042, 0.02557205332322535\n",
      "mean ± SEM test diff: 0.22063518508090793, 0.023293640361748677\n",
      "n = 96 model pairs\n",
      "\n",
      "MA train/test same (AA`, BB`) vs. train/test different (BA`, AB`): p = 1.867898023463604e-16\n",
      "mean ± SEM test same: 0.4092566757743294, 0.01956544569183049\n",
      "mean ± SEM test diff: 0.22338840066253812, 0.01582895236582201\n",
      "n = 102 model pairs\n",
      "\n",
      "AGED train/test same (AA`, BB`) vs. train/test different (BA`, AB`): p = 1.9789863128421934e-15\n",
      "mean ± SEM test same: 0.3529433179354153, 0.02296074360176514\n",
      "mean ± SEM test diff: 0.17487179763400018, 0.01602675206751028\n",
      "n = 90 model pairs\n",
      "\n",
      "ALL train/test same (AA`, BB`) vs. train/test different (BA`, AB`): p = 3.770249019444992e-44\n",
      "mean ± SEM test same: 0.3833069686528604, 0.013144942905023153\n",
      "mean ± SEM test diff: 0.20730922368890997, 0.010847070951663837\n",
      "n = 288 model pairs\n",
      "\n",
      "YOUNG vs. MA vs. AGED train/test map A/A` : p = 0.4707756195954724\n",
      "YOUNG vs. MA vs. AGED train/test map B/B`: p = 0.3199489799467795\n",
      "YOUNG vs. MA vs. AGED train/test map B/A`: p = 0.46428896990482194\n",
      "YOUNG vs. MA vs. AGED train/test map A/B`: p = 0.15324250991401864\n"
     ]
    }
   ],
   "source": [
    "'''Statistical Comparison of Decoder Scores Train/Test Context-Matched vs. -Mismatched by Age Group & Together'''\n",
    "allsind = np.concatenate((ysesh, masesh, agesesh))\n",
    "\n",
    "# train/test map 0 vs. map 1 on young mice\n",
    "m0vsm1_stat, m0vsm1_p = stats.ranksums(avg_0to0[ysesh], avg_1to1[ysesh])\n",
    "print('mean ± SEM train/test AA: ' + str(np.mean(avg_0to0[ysesh])) + ', ' + str(stats.sem(avg_0to0[ysesh])))\n",
    "print('mean ± SEM train/test BB: ' + str(np.mean(avg_1to1[ysesh])) + ', ' + str(stats.sem(avg_1to1[ysesh])))\n",
    "print('YOUNG train/test matched AA` vs. BB`: p = ' + str(m0vsm1_p))\n",
    "\n",
    "# train/test map 0 vs. map 1 on MA mice\n",
    "m0vsm1_stat, m0vsm1_p = stats.ranksums(avg_0to0[masesh], avg_1to1[masesh])\n",
    "print('\\nmean ± SEM train/test AA: ' + str(np.mean(avg_0to0[masesh])) + ', ' + str(stats.sem(avg_0to0[masesh])))\n",
    "print('mean ± SEM train/test BB: ' + str(np.mean(avg_1to1[masesh])) + ', ' + str(stats.sem(avg_1to1[masesh])))\n",
    "print('MA train/test matched AA` vs. BB`: p = ' + str(m0vsm1_p))\n",
    "\n",
    "# train/test map 0 vs. map 1 on aged mice\n",
    "m0vsm1_stat, m0vsm1_p = stats.ranksums(avg_0to0[agesesh], avg_1to1[agesesh])\n",
    "print('\\nmean ± SEM train/test AA: ' + str(np.mean(avg_0to0[agesesh])) + ', ' + str(stats.sem(avg_0to0[agesesh])))\n",
    "print('mean ± SEM train/test BB: ' + str(np.mean(avg_1to1[agesesh])) + ', ' + str(stats.sem(avg_1to1[agesesh])))\n",
    "print('AGED train/test matched AA` vs. BB`: p = ' + str(m0vsm1_p))\n",
    "\n",
    "# train/test map 0 vs. map 1 on both age groups of mice\n",
    "m0vsm1_stat, m0vsm1_p = stats.ranksums(avg_0to0[allsind], avg_1to1[allsind])\n",
    "print('ALL train/test matched AA` vs. BB`: p = ' + str(m0vsm1_p))\n",
    "\n",
    "# train/test same map vs. other map\n",
    "same_to_same = np.append(avg_0to0[ysesh], avg_1to1[ysesh])\n",
    "diff_to_diff = np.append(avg_0to1[ysesh], avg_1to0[ysesh])\n",
    "sameVSdiff_stat, sameVSdiff_p = stats.wilcoxon(same_to_same, diff_to_diff, alternative = 'greater')\n",
    "print('\\nYOUNG train/test same (AA`, BB`) vs. train/test different (BA`, AB`): p = ' + str(sameVSdiff_p))\n",
    "print('mean ± SEM test same: ' + str(np.mean(same_to_same)) + ', ' + str(stats.sem(same_to_same)))\n",
    "print('mean ± SEM test diff: ' + str(np.mean(diff_to_diff)) + ', ' + str(stats.sem(diff_to_diff)))\n",
    "print('n = ' + str(same_to_same.shape[0]) + ' model pairs')\n",
    "\n",
    "same_to_same = np.append(avg_0to0[masesh], avg_1to1[masesh])\n",
    "diff_to_diff = np.append(avg_0to1[masesh], avg_1to0[masesh])\n",
    "sameVSdiff_stat, sameVSdiff_p = stats.wilcoxon(same_to_same, diff_to_diff, alternative = 'greater')\n",
    "print('\\nMA train/test same (AA`, BB`) vs. train/test different (BA`, AB`): p = ' + str(sameVSdiff_p))\n",
    "print('mean ± SEM test same: ' + str(np.mean(same_to_same)) + ', ' + str(stats.sem(same_to_same)))\n",
    "print('mean ± SEM test diff: ' + str(np.mean(diff_to_diff)) + ', ' + str(stats.sem(diff_to_diff)))\n",
    "print('n = ' + str(same_to_same.shape[0]) + ' model pairs')\n",
    "\n",
    "same_to_same = np.append(avg_0to0[agesesh], avg_1to1[agesesh])\n",
    "diff_to_diff = np.append(avg_0to1[agesesh], avg_1to0[agesesh])\n",
    "sameVSdiff_stat, sameVSdiff_p = stats.wilcoxon(same_to_same, diff_to_diff, alternative = 'greater')\n",
    "print('\\nAGED train/test same (AA`, BB`) vs. train/test different (BA`, AB`): p = ' + str(sameVSdiff_p))\n",
    "print('mean ± SEM test same: ' + str(np.mean(same_to_same)) + ', ' + str(stats.sem(same_to_same)))\n",
    "print('mean ± SEM test diff: ' + str(np.mean(diff_to_diff)) + ', ' + str(stats.sem(diff_to_diff)))\n",
    "print('n = ' + str(same_to_same.shape[0]) + ' model pairs')\n",
    "\n",
    "same_to_same = np.append(avg_0to0[allsind], avg_1to1[allsind])\n",
    "diff_to_diff = np.append(avg_0to1[allsind], avg_1to0[allsind])\n",
    "sameVSdiff_stat, sameVSdiff_p = stats.wilcoxon(same_to_same, diff_to_diff, alternative = 'greater')\n",
    "print('\\nALL train/test same (AA`, BB`) vs. train/test different (BA`, AB`): p = ' + str(sameVSdiff_p))\n",
    "print('mean ± SEM test same: ' + str(np.mean(same_to_same)) + ', ' + str(stats.sem(same_to_same)))\n",
    "print('mean ± SEM test diff: ' + str(np.mean(diff_to_diff)) + ', ' + str(stats.sem(diff_to_diff)))\n",
    "print('n = ' + str(same_to_same.shape[0]) + ' model pairs')\n",
    "\n",
    "#age group effects\n",
    "stat, p = stats.kruskal(avg_0to0[ysesh],avg_0to0[masesh],avg_0to0[agesesh])\n",
    "print('\\nYOUNG vs. MA vs. AGED train/test map A/A` : p = ' + str(p))\n",
    "\n",
    "stat, p = stats.kruskal(avg_1to1[ysesh],avg_1to1[masesh],avg_1to1[agesesh])\n",
    "print('YOUNG vs. MA vs. AGED train/test map B/B`: p = ' + str(p))\n",
    "\n",
    "stat, p = stats.kruskal(avg_1to0[ysesh],avg_1to0[masesh],avg_1to0[agesesh])\n",
    "print('YOUNG vs. MA vs. AGED train/test map B/A`: p = ' + str(p))\n",
    "\n",
    "stat, p = stats.kruskal(avg_0to1[ysesh],avg_0to1[masesh],avg_0to1[agesesh])\n",
    "print('YOUNG vs. MA vs. AGED train/test map A/B`: p = ' + str(p))"
   ]
  }
 ],
 "metadata": {
  "kernelspec": {
   "display_name": "Python 3 (ipykernel)",
   "language": "python",
   "name": "python3"
  },
  "language_info": {
   "codemirror_mode": {
    "name": "ipython",
    "version": 3
   },
   "file_extension": ".py",
   "mimetype": "text/x-python",
   "name": "python",
   "nbconvert_exporter": "python",
   "pygments_lexer": "ipython3",
   "version": "3.8.16"
  }
 },
 "nbformat": 4,
 "nbformat_minor": 5
}
