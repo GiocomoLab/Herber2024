{
 "cells": [
  {
   "cell_type": "markdown",
   "id": "c142b3f4",
   "metadata": {},
   "source": [
    "# Setup"
   ]
  },
  {
   "cell_type": "code",
   "execution_count": 1,
   "id": "0879e55b",
   "metadata": {},
   "outputs": [],
   "source": [
    "''' magic 4u'''\n",
    "%load_ext autoreload\n",
    "%autoreload 2"
   ]
  },
  {
   "cell_type": "code",
   "execution_count": 2,
   "id": "acd471ad",
   "metadata": {},
   "outputs": [],
   "source": [
    "'''Get Stuff You Need'''\n",
    "import numpy as np\n",
    "import math as math\n",
    "from tqdm import tnrange\n",
    "from tqdm.notebook import tqdm as tdqm\n",
    "import matplotlib.pyplot as plt\n",
    "import matplotlib as mpl\n",
    "mpl.rcParams.update(mpl.rcParamsDefault)\n",
    "from matplotlib import gridspec\n",
    "from scipy.interpolate import interp1d\n",
    "from scipy.ndimage import gaussian_filter1d\n",
    "from scipy import stats\n",
    "import scipy.io\n",
    "import scipy.ndimage.filters as filt\n",
    "import pandas as pd\n",
    "import seaborn as sns\n",
    "\n",
    "from pipeline import get_data as get\n",
    "from pipeline import process_spikes as ps\n",
    "\n",
    "from statsmodels.tsa.stattools import acf\n",
    "from scipy.signal import find_peaks\n",
    "from itertools import combinations"
   ]
  },
  {
   "cell_type": "code",
   "execution_count": 3,
   "id": "d9e7c1e1",
   "metadata": {},
   "outputs": [],
   "source": [
    "''' Define plotting defaults '''\n",
    "\n",
    "from matplotlib import rc \n",
    "mpl.rcParams['font.sans-serif'] = 'Arial'\n",
    "mpl.rcParams['font.family'] = 'sans-serif'\n",
    "mpl.rcParams['svg.fonttype'] = 'none'"
   ]
  },
  {
   "cell_type": "code",
   "execution_count": 80,
   "id": "908e0c35",
   "metadata": {},
   "outputs": [],
   "source": [
    "''' Define some functions for later '''\n",
    "def count_consec(lst):\n",
    "    consec = [1]\n",
    "    for x, y in zip(lst, lst[1:]):\n",
    "        if x == y - 1:\n",
    "            consec[-1] += 1\n",
    "        else:\n",
    "            consec.append(1)\n",
    "    return consec\n",
    "\n",
    "def tuning_curve_bytrial(x, trial, Y, dt, b, sigma, smooth=True, normalize=False, occupancy=True):\n",
    "    '''\n",
    "    Params\n",
    "    ------\n",
    "    x : ndarray\n",
    "        variable of interest by observation; shape (n_obs, )\n",
    "    trial : ndarray\n",
    "        trial num for each observation; shape (n_obs, )\n",
    "    Y : ndarray\n",
    "        spikes per observation; shape (n_obs, n_cells)\n",
    "    dt : int\n",
    "        time per observation in seconds\n",
    "    b : int\n",
    "        bin size\n",
    "    sigma : int\n",
    "        SD of Gaussian filter\n",
    "    smooth : bool\n",
    "        apply gaussian filter to firing rate; optional, default is True\n",
    "    normalize : bool\n",
    "        normalize the firing rate of each cell such that its max FR is 1, min is 0;\n",
    "        optional, default is False\n",
    "    occupancy : bool\n",
    "        return occupancy (dwell time in each bin); optional, default is True\n",
    "\n",
    "    Returns\n",
    "    -------\n",
    "    firing_rate : ndarray\n",
    "        binned firing rate for each trial for each cell; shape (n_trials, n_bins, n_cells)\n",
    "    centers : ndarray\n",
    "        center of each bin\n",
    "    occ : ndarray\n",
    "       dwell time in each bin; shape (n_bins, n_cells)\n",
    "    '''\n",
    "    edges = np.arange(0, np.max(x) + b, b)\n",
    "    centers = (edges[:-1] + edges[1:])/2\n",
    "    b_idx = np.digitize(x, edges)\n",
    "    if np.max(x) == edges[-1]:\n",
    "        b_idx[b_idx==np.max(b_idx)] = np.max(b_idx) - 1\n",
    "    unique_bdx = np.unique(b_idx)\n",
    "\n",
    "    # find FR in each bin\n",
    "    firing_rate = np.zeros((np.unique(trial).shape[0], unique_bdx.shape[0], Y.shape[1]))\n",
    "    occ = np.zeros((np.unique(trial).shape[0], unique_bdx.shape[0], Y.shape[1]))\n",
    "    for j in range(unique_bdx.shape[0]):\n",
    "        idx1 = (b_idx == unique_bdx[j])\n",
    "        for i, t in enumerate(np.unique(trial)):\n",
    "            idx = idx1 & (trial == t)\n",
    "            if np.sum(idx)==0:\n",
    "                #print('warning: zero occupancy!')\n",
    "                firing_rate[i, j, :] = firing_rate[i, j-1, :]\n",
    "                occ[i, j, :] = 0\n",
    "            else:    \n",
    "                spike_ct = np.sum(Y[idx, :], axis=0)\n",
    "                occupancy = dt * np.sum(idx)\n",
    "                occ[i, j, :] = occupancy\n",
    "                firing_rate[i, j, :] = spike_ct / occupancy\n",
    "    if smooth:\n",
    "        firing_rate = gaussian_filter1d(firing_rate, sigma, axis=1, mode='wrap')\n",
    "\n",
    "    if normalize:\n",
    "        for c in range(firing_rate.shape[2]):\n",
    "            firing_rate[:, :, c] = (firing_rate[:, :, c] - np.min(firing_rate[:, :, c]))/np.max(firing_rate[:, :, c] - np.min(firing_rate[:, :, c]))\n",
    "    \n",
    "    if occupancy:\n",
    "        return firing_rate, centers, occ\n",
    "    else: \n",
    "        return firing_rate, centers\n",
    "    \n",
    "def find8adjacentElements(test_list):\n",
    "    ''' \n",
    "    Params\n",
    "    ------\n",
    "    test_list : ndarray\n",
    "        1d array to be sorted\n",
    "    \n",
    "    Returns\n",
    "    -------\n",
    "    neighbors : list\n",
    "        nested list where each element is a list of 8 adjacent elements to the element with the same \n",
    "        index in test_list, adjusting for the first and last four elements and not including \n",
    "    '''\n",
    "    \n",
    "    neighbors = []\n",
    "    for idx, ele in enumerate(test_list):\n",
    "    # Checking for all cases to append\n",
    "        if idx == 0:\n",
    "            neighbors.append(test_list[(idx+1):(idx + 9)])\n",
    "        elif idx == 1:\n",
    "            neighbors.append(np.concatenate((test_list[(idx - 1)],test_list[(idx+1):(idx + 8)]),axis=None))\n",
    "        elif idx == 2:\n",
    "            neighbors.append(np.concatenate((test_list[:idx],test_list[(idx+1):(idx + 7)]),axis=None))\n",
    "        elif idx == 3:\n",
    "            neighbors.append(np.concatenate((test_list[:idx],test_list[(idx+1):(idx + 6)]),axis=None))\n",
    "        elif idx == len(test_list) - 1:\n",
    "            neighbors.append(np.concatenate((test_list[(idx-8):idx]),axis=None))                     \n",
    "        elif idx == len(test_list) - 2:\n",
    "            neighbors.append(np.concatenate((test_list[(idx-7):idx],test_list[(idx + 1):]),axis=None))\n",
    "        elif idx == len(test_list) - 3:\n",
    "            neighbors.append(np.concatenate((test_list[(idx-6):idx],test_list[(idx + 1):]),axis=None))\n",
    "        elif idx == len(test_list) - 4:\n",
    "            neighbors.append(np.concatenate((test_list[(idx-5):idx],test_list[(idx + 1):]),axis = None))\n",
    "        else:\n",
    "            neighbors.append(np.concatenate((test_list[(idx - 4):idx],test_list[(idx+1):(idx + 5)]),axis=None))\n",
    "    return neighbors \n",
    "\n",
    "def find(x):\n",
    "    return x.nonzero()[0]\n",
    "\n",
    "def autocorr(x,lags):\n",
    "    '''numpy.correlate'''\n",
    "    mean=x.mean()\n",
    "    var=np.var(x)\n",
    "    xp=x-mean\n",
    "    corr=np.correlate(xp,xp,'full')[len(x)-1:]/var/len(x)\n",
    "\n",
    "    return corr[:len(lags)]\n",
    "\n",
    "def get_spike_depths(temps, winv, ycoords,spikeTemplates):\n",
    "    \n",
    "    ''' \n",
    "    Compute spike depths for each cluster\n",
    "\n",
    "    Params\n",
    "    ------ \n",
    "    temps: the templates (nTemplates x nTimePoints x nChannels)\n",
    "    winv: the whitening matrix (nCh x nCh)\n",
    "    ycoords: the coordinates of the channels (nCh x 1)\n",
    "    spikeTemplates: which template each spike came from (nSpikes x 1)\n",
    "\n",
    "    Returns\n",
    "    --------\n",
    "    spikeDepths is the position along the probe of every spike, (nSpikes x 1)\n",
    "    according to the position of the template it was extracted with. Distance in microns from tip.\n",
    "\n",
    "    '''\n",
    "    #unwhiten all templates\n",
    "    tempsUnW = np.zeros(shape = (temps.shape[0],temps.shape[1],temps.shape[2]))\n",
    "    for t in range(0,temps.shape[0]):\n",
    "        tempsUnW[t,:,:] = np.matmul(temps[t,:,:],winv)\n",
    "\n",
    "    #get the amplitude on each channel as the max minus min in timepoints (shape nTemp x nCh)\n",
    "    tempChanAmps = np.max(tempsUnW, axis = 1) - np.min(tempsUnW, axis = 1)\n",
    "\n",
    "    #the template amplitude is the amplitude of the largest channel \n",
    "    tempAmpsUnscaled = np.max(tempChanAmps, axis = 1) #shape nTemp\n",
    "\n",
    "    #zero out potentially many low values on distant channels; for every channel if below amp \n",
    "    threshVals = tempAmpsUnscaled*0.3\n",
    "    for i in range(0,tempChanAmps.shape[1]):\n",
    "        for j in range(0,len(threshVals)):\n",
    "            if tempChanAmps[j,i] < threshVals[j]:\n",
    "                tempChanAmps[j,i] = 0\n",
    "\n",
    "    #compute template depth as a center of mass\n",
    "    templateDepths = np.sum(tempChanAmps*ycoords, axis = 1) / (np.sum(tempChanAmps, axis = 1))\n",
    "\n",
    "    #each spikes depth is the depth of its template\n",
    "    spikeDepths = templateDepths[templates]\n",
    "    \n",
    "    return spikeDepths"
   ]
  },
  {
   "cell_type": "code",
   "execution_count": 5,
   "id": "6948fe09",
   "metadata": {},
   "outputs": [
    {
     "data": {
      "text/html": [
       "<div>\n",
       "<style scoped>\n",
       "    .dataframe tbody tr th:only-of-type {\n",
       "        vertical-align: middle;\n",
       "    }\n",
       "\n",
       "    .dataframe tbody tr th {\n",
       "        vertical-align: top;\n",
       "    }\n",
       "\n",
       "    .dataframe thead th {\n",
       "        text-align: right;\n",
       "    }\n",
       "</style>\n",
       "<table border=\"1\" class=\"dataframe\">\n",
       "  <thead>\n",
       "    <tr style=\"text-align: right;\">\n",
       "      <th></th>\n",
       "      <th>Animal_ID</th>\n",
       "      <th>Task</th>\n",
       "      <th>Cohort</th>\n",
       "      <th>Probe_Control</th>\n",
       "      <th>Sex</th>\n",
       "      <th>Sac_Date</th>\n",
       "      <th>Frozen_Hemisphere</th>\n",
       "      <th>DOB</th>\n",
       "      <th>Age_WholeMonth</th>\n",
       "      <th>Age_ExtraDays</th>\n",
       "      <th>Age_Month</th>\n",
       "      <th>Aged_Days</th>\n",
       "      <th>Age_Group</th>\n",
       "      <th>Behavior_Sessions</th>\n",
       "      <th>Neural_Sessions</th>\n",
       "    </tr>\n",
       "  </thead>\n",
       "  <tbody>\n",
       "    <tr>\n",
       "      <th>0</th>\n",
       "      <td>A3</td>\n",
       "      <td>RF</td>\n",
       "      <td>A</td>\n",
       "      <td>0</td>\n",
       "      <td>F</td>\n",
       "      <td>1/27/2021</td>\n",
       "      <td>R</td>\n",
       "      <td>4/23/2019</td>\n",
       "      <td>21</td>\n",
       "      <td>4</td>\n",
       "      <td>21.217</td>\n",
       "      <td>645</td>\n",
       "      <td>3</td>\n",
       "      <td>6</td>\n",
       "      <td>6</td>\n",
       "    </tr>\n",
       "    <tr>\n",
       "      <th>1</th>\n",
       "      <td>A4</td>\n",
       "      <td>RF</td>\n",
       "      <td>A</td>\n",
       "      <td>0</td>\n",
       "      <td>F</td>\n",
       "      <td>1/27/2021</td>\n",
       "      <td>R</td>\n",
       "      <td>4/23/2019</td>\n",
       "      <td>21</td>\n",
       "      <td>4</td>\n",
       "      <td>21.217</td>\n",
       "      <td>645</td>\n",
       "      <td>3</td>\n",
       "      <td>6</td>\n",
       "      <td>6</td>\n",
       "    </tr>\n",
       "    <tr>\n",
       "      <th>2</th>\n",
       "      <td>A5</td>\n",
       "      <td>RF</td>\n",
       "      <td>A</td>\n",
       "      <td>0</td>\n",
       "      <td>F</td>\n",
       "      <td>4/6/2021</td>\n",
       "      <td>L</td>\n",
       "      <td>4/23/2019</td>\n",
       "      <td>23</td>\n",
       "      <td>14</td>\n",
       "      <td>23.487</td>\n",
       "      <td>714</td>\n",
       "      <td>3</td>\n",
       "      <td>6</td>\n",
       "      <td>6</td>\n",
       "    </tr>\n",
       "    <tr>\n",
       "      <th>3</th>\n",
       "      <td>A6</td>\n",
       "      <td>RF</td>\n",
       "      <td>A</td>\n",
       "      <td>0</td>\n",
       "      <td>F</td>\n",
       "      <td>4/6/2021</td>\n",
       "      <td>R</td>\n",
       "      <td>4/23/2019</td>\n",
       "      <td>23</td>\n",
       "      <td>14</td>\n",
       "      <td>23.487</td>\n",
       "      <td>714</td>\n",
       "      <td>3</td>\n",
       "      <td>6</td>\n",
       "      <td>6</td>\n",
       "    </tr>\n",
       "    <tr>\n",
       "      <th>4</th>\n",
       "      <td>A7</td>\n",
       "      <td>RF</td>\n",
       "      <td>A</td>\n",
       "      <td>0</td>\n",
       "      <td>F</td>\n",
       "      <td>4/19/2021</td>\n",
       "      <td>L</td>\n",
       "      <td>5/29/2019</td>\n",
       "      <td>22</td>\n",
       "      <td>21</td>\n",
       "      <td>22.730</td>\n",
       "      <td>691</td>\n",
       "      <td>3</td>\n",
       "      <td>6</td>\n",
       "      <td>6</td>\n",
       "    </tr>\n",
       "  </tbody>\n",
       "</table>\n",
       "</div>"
      ],
      "text/plain": [
       "  Animal_ID Task Cohort  Probe_Control Sex   Sac_Date Frozen_Hemisphere  \\\n",
       "0        A3   RF      A              0   F  1/27/2021                 R   \n",
       "1        A4   RF      A              0   F  1/27/2021                 R   \n",
       "2        A5   RF      A              0   F   4/6/2021                 L   \n",
       "3        A6   RF      A              0   F   4/6/2021                 R   \n",
       "4        A7   RF      A              0   F  4/19/2021                 L   \n",
       "\n",
       "         DOB  Age_WholeMonth  Age_ExtraDays  Age_Month  Aged_Days  Age_Group  \\\n",
       "0  4/23/2019              21              4     21.217        645          3   \n",
       "1  4/23/2019              21              4     21.217        645          3   \n",
       "2  4/23/2019              23             14     23.487        714          3   \n",
       "3  4/23/2019              23             14     23.487        714          3   \n",
       "4  5/29/2019              22             21     22.730        691          3   \n",
       "\n",
       "   Behavior_Sessions  Neural_Sessions  \n",
       "0                  6                6  \n",
       "1                  6                6  \n",
       "2                  6                6  \n",
       "3                  6                6  \n",
       "4                  6                6  "
      ]
     },
     "execution_count": 5,
     "metadata": {},
     "output_type": "execute_result"
    }
   ],
   "source": [
    "''' Load in Animal Metadata '''\n",
    "\n",
    "animalmeta = pd.read_csv('C:/Users/Python/Desktop/Dryad/MouseMetadata.csv') # adjust path name\n",
    "\n",
    "# define some useful lists of animals based on metadata\n",
    "all_aged_mice = np.array(animalmeta.loc[(animalmeta.Age_Group == 3),'Animal_ID'])\n",
    "all_MA_mice = np.array(animalmeta.loc[(animalmeta.Age_Group == 2),'Animal_ID'])\n",
    "all_young_mice = np.array(animalmeta.loc[(animalmeta.Age_Group == 1),'Animal_ID'])\n",
    "\n",
    "cohorta_mice = np.array(animalmeta.loc[(animalmeta.Cohort == 'A'),'Animal_ID'])\n",
    "cohortb_mice = np.array(animalmeta.loc[(animalmeta.Cohort == 'B'),'Animal_ID'])\n",
    "cohortc_mice = np.array(animalmeta.loc[(animalmeta.Cohort == 'C'),'Animal_ID'])\n",
    "cohortd_mice = np.array(animalmeta.loc[(animalmeta.Cohort == 'D'),'Animal_ID'])\n",
    "\n",
    "RF_aged_mice = np.array(animalmeta.loc[(animalmeta.Age_Group == 3) & (animalmeta.Task == 'RF'),'Animal_ID'])\n",
    "RF_young_mice = np.array(animalmeta.loc[(animalmeta.Age_Group == 1) & (animalmeta.Task == 'RF'),'Animal_ID'])\n",
    "SM_aged_mice = np.array(animalmeta.loc[(animalmeta.Age_Group == 3) & (animalmeta.Task == 'SM'),'Animal_ID'])\n",
    "SM_MA_mice = np.array(animalmeta.loc[(animalmeta.Age_Group == 2) & (animalmeta.Task == 'SM'),'Animal_ID'])\n",
    "SM_young_mice = np.array(animalmeta.loc[(animalmeta.Age_Group == 1) & (animalmeta.Task == 'SM'),'Animal_ID'])\n",
    "\n",
    "all_female_mice = np.array(animalmeta.loc[(animalmeta.Sex == 'F'),'Animal_ID'])\n",
    "all_male_mice = np.array(animalmeta.loc[(animalmeta.Sex == 'M'), 'Animal_ID'])\n",
    "RF_female_mice = np.array(animalmeta.loc[(animalmeta.Sex == 'F') & (animalmeta.Task == 'RF'),'Animal_ID'])\n",
    "RF_male_mice = np.array(animalmeta.loc[(animalmeta.Sex == 'M') & (animalmeta.Task == 'RF'),'Animal_ID'])\n",
    "SM_female_mice = np.array(animalmeta.loc[(animalmeta.Sex == 'F') & (animalmeta.Task == 'SM'),'Animal_ID'])\n",
    "SM_male_mice = np.array(animalmeta.loc[(animalmeta.Sex == 'M') & (animalmeta.Task == 'SM'),'Animal_ID'])\n",
    "\n",
    "animalmeta.head()"
   ]
  },
  {
   "cell_type": "code",
   "execution_count": 84,
   "id": "eeb4502d",
   "metadata": {},
   "outputs": [],
   "source": [
    "'''Load Session Metadata'''\n",
    "sessionmeta = pd.read_csv('C:/Users/Python/Desktop/Dryad/SessionMetadata.csv')"
   ]
  },
  {
   "cell_type": "code",
   "execution_count": 6,
   "id": "35bf7214",
   "metadata": {},
   "outputs": [],
   "source": [
    "''' Complete List of Mice & Sessions '''\n",
    "all_mice = np.array(animalmeta.Animal_ID)\n",
    "\n",
    "all_sessions = ([['0122_record1','0123_record2','0124_record3','0125_record4','0126_record5','0127_record6'], \n",
    "             ['0122_record1','0123_record2','0124_record3','0125_record4','0126_record5','0127_record6'],\n",
    "             ['0401_record1','0401_record2b','0403_record3','0404_record4','0405_record5','0406_record6'],\n",
    "             ['0401_record1','0402_record2','0403_record3','0404_record4','0405_record5','0406_record6'],\n",
    "             ['0414_record1','0415_record2','0416_record3','0417_record4','0418_record5','0419_record6'],\n",
    "             ['1024_record1','1025_record2','1026_record3','1027_record4','1028_record5_2'], #Y2_6 excluded\n",
    "             ['1016_record1','1019_record3','1020_record4','1021_record5','1022_record6'], #Y3_2 not collected\n",
    "             ['1114_record1','1115_record2','1116_record3','1117_record4','1118_record5','1119_record6'], # end cohort A\n",
    "             ['051822_record1','051922_record2', '052022_record3','052122_record4','052222_record5','052322_record6'], \n",
    "             ['050522_record1','050622_record2','050722_record3','050822_record4','050922_record5','051022_record6'],\n",
    "             ['050522_record1','050622_record2','050722_record3','050822_record4','051022_record6'], #Y11_5 not collected\n",
    "             ['062222_record3','062322_record4','062522_record5'], #Y16_1 & 2 not collected, neural _6 excluded\n",
    "             ['062822_record1','062922_record2','063022_record3','070122_record4','070222_record5','070322_record6'],\n",
    "             ['062022_record1','062122_record2','062222_record3','062322_record4','062522_record5','062622_record6'],\n",
    "             ['062822_record1','062922_record2','063022_record3','070122_record4','070222_record5','070322_record6'], \n",
    "             ['051922_record2','052022_record3'], # Y9 051822_record excluded for syncing issue, end cohort B\n",
    "             ['083022_record1','083122_record2','090122_record3'], \n",
    "             ['083022_record1','083122_record2','090122_record3','090222_record4','090322_record5','090422_record6'],\n",
    "             ['083022_record1','083122_record2','090122_record3','090222_record4'], #behavior of A16_4, both of 5 excluded, 6 not collected \n",
    "             ['082322_record1','082422_record2','082522_record3','082622_record4','082722_record5','082822_record6'],\n",
    "             ['082322_record1real','082422_record2','082522_record3','082622_record4','082722_record5','082822_record6'],\n",
    "             ['102322_record1','102422_record2','102522_record3','102622_record4','102722_record5','102822_record6'],\n",
    "             ['102322_record1','102422_record2','102522_record3','102622_record4','102722_record5','102822_record6'],\n",
    "             ['102322_record1','102422_record2','102522_record3','102622_record4','102722_record5','102822_record6'],\n",
    "             ['103122_record2','110122_record3','110222_record4','110322_record5rep','110422_record6','110522_record7'], #behavior of MA4M6, 7 excluded\n",
    "             ['110622_record1','110722_record2','110822_record3','110922_record4','111022_record5','111122_record6'],\n",
    "             ['103022_record1','103122_record2','110122_record3','110222_record4','110322_record5','110422_record6'],\n",
    "             ['103022_record1','103122_record2','110122_record3','110222_record4'], #behavior of MA7_4, both 5 excluded, 6 not collected\n",
    "             ['111322_record1','111422_record2','111522_record3','111622_record4','111722_record5','111822_record6'],\n",
    "             ['111322_record1','111422_record2','111522_record3','111622_record4','111722_record5','111822_record6'],\n",
    "             ['111322_record1','111422_record2','111522_record3','111622_record4','111722_record5','111822_record6'], \n",
    "             ['092522_record1','092622_record2','092722_record3','092822_record4','092922_record5','093022_record6'],\n",
    "             ['091822_record1','091922_record2','092022_record3','092122_record4','092222_record5','092322_record6'],\n",
    "             ['092522_record1','092622_record2','092722_record3','092822_record4','092922_record5','093022_record6'],\n",
    "             ['092522_record1','092622_record2','092722_record3','092822_record4','092922_record5','093022_record6'],\n",
    "             ['091822_record1','091922_record2','092022_record3','092122_record4','092222_record5','092322_record6'], #end cohortc\n",
    "             ['012723_record2','012823_record3','012923_record4','013023_record5','013123_record6','020123_record7'],\n",
    "             ['012623_record1','012723_record2','012823_record3','012923_record4','013023_record5','013123_record6'],\n",
    "             ['012923_record2','013023_record3','013123_record4','020123_record5','020223_record6','020323_record7'],\n",
    "             ['020923_record1','021023_record2','021123_record3','021223_record4','021323_record5','021423_record6'],\n",
    "             ['022623_record1','022723_record2','022823_record3','030123_record4','030223_record5','030323_record6'],\n",
    "             ['021623_record1','021723_record2','021823_record3','021923_record4','022023_record5','022123_record6'],\n",
    "             ['021623_record1','021723_record2','021823_record3','021923_record4','022023_record5','022123_record6'],\n",
    "             ['021623_record1','021723_record2','021823_record3','021923_record4','022023_record5rep','022123_record6'],\n",
    "             ['022623_record1','022723_record2','022823_record3','030123_record4','030223_record5','030323_record6'] #end cohort d \n",
    "            ]) #list of sessions"
   ]
  },
  {
   "cell_type": "code",
   "execution_count": 7,
   "id": "74905236",
   "metadata": {},
   "outputs": [],
   "source": [
    "'''Define which mice & sessions to load'''\n",
    "mice = all_mice\n",
    "sessions = all_sessions\n",
    "    \n",
    "# Make a dict to hold data\n",
    "data = {}\n",
    "\n",
    "for session, m in zip(sessions, mice):\n",
    "    data[m] = {}\n",
    "    \n",
    "    for s in session:\n",
    "        data[m][s] = {}"
   ]
  },
  {
   "cell_type": "code",
   "execution_count": 8,
   "id": "489fe342",
   "metadata": {},
   "outputs": [],
   "source": [
    "'''Get Indices of Stored Session, Animal Data Mice by Age Group'''\n",
    "age_ind = []\n",
    "ma_ind = []\n",
    "y_ind = []\n",
    "age_sind = []\n",
    "ma_sind = []\n",
    "y_sind = []\n",
    "\n",
    "s_count = 0\n",
    "for m, s in zip(mice, sessions):\n",
    "    start = s_count\n",
    "    end = len(s) + s_count\n",
    "\n",
    "    if m in all_aged_mice:\n",
    "        age_ind = np.append(age_ind, (np.where(mice == m)[0]))\n",
    "        age_sind = np.append(age_sind, np.arange(start, end, 1))\n",
    "    elif m in all_MA_mice:\n",
    "        ma_ind = np.append(ma_ind, (np.where(mice == m)[0]))\n",
    "        ma_sind = np.append(ma_sind, np.arange(start, end, 1))\n",
    "    else:\n",
    "        y_ind = np.append(y_ind, (np.where(mice == m)[0]))\n",
    "        y_sind = np.append(y_sind, np.arange(start, end, 1))\n",
    "                            \n",
    "    s_count += len(s)\n",
    "    \n",
    "age_ind = age_ind.astype(int)\n",
    "ma_ind = ma_ind.astype(int)\n",
    "y_ind = y_ind.astype(int)\n",
    "age_sind = age_sind.astype(int)\n",
    "ma_sind = ma_sind.astype(int)\n",
    "y_sind = y_sind.astype(int)"
   ]
  },
  {
   "cell_type": "code",
   "execution_count": 9,
   "id": "0c238653",
   "metadata": {},
   "outputs": [],
   "source": [
    "''' Define ColorMaps for Session & Animal Boxplots '''\n",
    "import matplotlib.pylab as pl\n",
    "import matplotlib.lines as mlines\n",
    "\n",
    "col_animal_old = pl.cm.Oranges([np.linspace(0.2,0.9,17)])\n",
    "col_animal_MA = pl.cm.Greens([np.linspace(0.2,0.9,10)])\n",
    "col_animal_young = pl.cm.Blues([np.linspace(0.2,0.9,18)])\n",
    "col_animal = [col_animal_young, col_animal_MA, col_animal_old]\n",
    "\n",
    "col_session_young = []\n",
    "col_session_MA = []\n",
    "col_session_old = []\n",
    "\n",
    "for m, session in zip(mice, sessions):\n",
    "    for s in range(0,len(session)):\n",
    "        \n",
    "        if m in all_aged_mice:\n",
    "            idx = np.where(all_aged_mice == m)[0][0] \n",
    "            col_session_old.append(col_animal[2][0][idx])           \n",
    "        elif m in all_MA_mice:\n",
    "            idx = np.where(all_MA_mice == m)[0][0]\n",
    "            col_session_MA.append(col_animal[1][0][idx])\n",
    "        else:\n",
    "            idx = np.where(all_young_mice == m)[0][0]\n",
    "            col_session_young.append(col_animal[0][0][idx])\n",
    "\n",
    "col_session = [col_session_young, col_session_MA, col_session_old]\n",
    "label_mice = ['Y2','Y3','Y4','Y11','Y16','Y17','Y18','Y19','Y9', 'Y20', 'Y21', 'Y22', 'Y23', 'Y24', 'Y25', 'Y26', 'Y27', 'Y28',\n",
    "            'MA1F', 'MA2F', 'MA3M', 'MA4M', 'MA5M', 'MA6M', 'MA7M', 'MA8F', 'MA9F','MA10F',\"\",\"\",\"\",\"\",\"\",\"\",\"\",\n",
    "            'A3','A4','A5','A6','A7','A12','A13','A14', 'A15', 'A16', 'A17', 'A18', 'A19', 'A20', 'A22', 'A23', 'A24']"
   ]
  },
  {
   "cell_type": "markdown",
   "id": "9a9d617f",
   "metadata": {},
   "source": [
    "# Classify positively and negatively speed-tuned (+ / - speed) cells "
   ]
  },
  {
   "cell_type": "code",
   "execution_count": null,
   "id": "27d091ec",
   "metadata": {},
   "outputs": [],
   "source": [
    "''' Calculate & Save Real Speed Scores & Speed Stability Scores '''\n",
    "realspeedscores = []\n",
    "realspeedstabscores = []\n",
    "dt = 0.02\n",
    "sigma = 20  # smoothing factor for instantaneous firing rate\n",
    "n_bin = 8 #n position bins considered for speed stability score\n",
    "track_length = 400 #cm\n",
    "bins = np.arange(0,track_length + (track_length/n_bin),(track_length/n_bin))\n",
    "\n",
    "#adjust paths as needed\n",
    "save_folder = 'C:/Users/Python/Desktop/LocalData/intnspeedcells/' #wherever you want to save this...\n",
    "load_folder = 'C:/Users/Python/Desktop/LocalData/filtered/'#output of import/filter notebook\n",
    "\n",
    "for m, session in zip(mice,sessions):\n",
    "    for s in tdqm(session):\n",
    "        d = data[m][s]\n",
    "        \n",
    "        #load in data\n",
    "        rawdata_file = 'RAW_' + m + '_' + s + '.npy'\n",
    "        behavior_file = 'BEHAVIOR_' + m + '_' + s + '.npy'\n",
    "        spikes_file = 'SPIKES_' + m + '_' + s +'.npy'\n",
    "        \n",
    "        raw = np.load(dataload_folder + rawdata_file, allow_pickle=True)\n",
    "        behaviorfil = np.load(dataload_folder + behavior_file, allow_pickle=False)\n",
    "        posxfil = behaviorfil[:,0]\n",
    "        Y = np.load(dataload_folder + spikes_file, allow_pickle=False)\n",
    "        cell_IDs = raw.item().get('cellsfil')\n",
    "        speed = behaviorfil[:,1] #already filtered through gaussian (10 timebins) \n",
    "        \n",
    "        # divide all obs into 8 x 50 cm bins\n",
    "        bin_idx = []\n",
    "        for i in range(n_bin):\n",
    "            if i == (n_bin - 1):\n",
    "                idx = np.where((posxfil >= bins[i]) & (posxfil <= bins[i + 1]))[0]\n",
    "            else:\n",
    "                idx = np.where((posxfil >= bins[i]) & (posxfil < bins[i + 1]))[0]\n",
    "            bin_idx.append(idx)\n",
    "        \n",
    "        #get smoothed spike train, calculate speed score\n",
    "        A = np.zeros((len(speed), len(cell_IDs)))\n",
    "        realspeed_score = []\n",
    "        realspeedstab_score = []\n",
    "        for i, c in enumerate(cell_IDs):\n",
    "            A[:,i] = Y[:,i]\n",
    "            A[:,i] = gaussian_filter1d(A[:,i],sigma)\n",
    "            \n",
    "            #calculate speed score\n",
    "            sscore, _ = stats.pearsonr(A[:,i],speed)\n",
    "            realspeed_score = np.append(realspeed_score,sscore)\n",
    "            \n",
    "            #calculate & store speed stability score for this cell's smoothed spike train\n",
    "            bin_pspikes = []\n",
    "            for j in range(n_bin):\n",
    "                idx = bin_idx[j]\n",
    "                psscore, _ = stats.pearsonr(A[idx,i],speed[idx])\n",
    "                bin_pspikes = np.append(bin_pspikes, (psscore *  np.sum(A[idx,i])))\n",
    "\n",
    "            sstabscore = np.sum(bin_pspikes) / np.sum(A[:,i])\n",
    "            realspeedstab_score = np.append(realspeedstab_score,sstabscore)\n",
    "            \n",
    "        d['speedscore'] = realspeed_score\n",
    "        d['speedstabscore'] = realspeedstab_score\n",
    "        d['A'] = A\n",
    "\n",
    "        #Save stuff\n",
    "        realinstspeedscore_file = 'realinstspeedscore_' + m + '_' + s + '.npy'\n",
    "        realspeedstabscore_file = 'realspeedstabscore_' + m + '_' + s + '.npy'\n",
    "        A_file = 'A_' + m + '_' + s + '.npy'\n",
    "        \n",
    "        #np.save(save_folder + realinstspeedscore_file, realspeed_score)\n",
    "        #print('saved real speed score data as npy file for mouse ' + m + ' session '+ s)\n",
    "        #np.save(save_folder + realspeedstabscore_file, realspeedstab_score)\n",
    "        #print('saved real speed stability score data as npy file for mouse ' + m + ' session '+ s)\n",
    "        #np.save(save_folder + A_file, A)\n",
    "        #print('saved filtered, binned spikes as npy file for mouse ' + m + ' session '+ s)\n"
   ]
  },
  {
   "cell_type": "code",
   "execution_count": 10,
   "id": "1224554b",
   "metadata": {},
   "outputs": [
    {
     "name": "stdout",
     "output_type": "stream",
     "text": [
      "saved all speed cell booleans as npy files for mouse A3 session 0122_record1\n",
      "saved all speed cell booleans as npy files for mouse A3 session 0123_record2\n",
      "saved all speed cell booleans as npy files for mouse A3 session 0124_record3\n",
      "saved all speed cell booleans as npy files for mouse A3 session 0125_record4\n",
      "saved all speed cell booleans as npy files for mouse A3 session 0126_record5\n",
      "saved all speed cell booleans as npy files for mouse A3 session 0127_record6\n",
      "saved all speed cell booleans as npy files for mouse A4 session 0122_record1\n",
      "saved all speed cell booleans as npy files for mouse A4 session 0123_record2\n",
      "saved all speed cell booleans as npy files for mouse A4 session 0124_record3\n",
      "saved all speed cell booleans as npy files for mouse A4 session 0125_record4\n",
      "saved all speed cell booleans as npy files for mouse A4 session 0126_record5\n",
      "saved all speed cell booleans as npy files for mouse A4 session 0127_record6\n",
      "saved all speed cell booleans as npy files for mouse A5 session 0401_record1\n",
      "saved all speed cell booleans as npy files for mouse A5 session 0401_record2b\n",
      "saved all speed cell booleans as npy files for mouse A5 session 0403_record3\n",
      "saved all speed cell booleans as npy files for mouse A5 session 0404_record4\n",
      "saved all speed cell booleans as npy files for mouse A5 session 0405_record5\n",
      "saved all speed cell booleans as npy files for mouse A5 session 0406_record6\n",
      "saved all speed cell booleans as npy files for mouse A6 session 0401_record1\n",
      "saved all speed cell booleans as npy files for mouse A6 session 0402_record2\n",
      "saved all speed cell booleans as npy files for mouse A6 session 0403_record3\n",
      "saved all speed cell booleans as npy files for mouse A6 session 0404_record4\n",
      "saved all speed cell booleans as npy files for mouse A6 session 0405_record5\n",
      "saved all speed cell booleans as npy files for mouse A6 session 0406_record6\n",
      "saved all speed cell booleans as npy files for mouse A7 session 0414_record1\n",
      "saved all speed cell booleans as npy files for mouse A7 session 0415_record2\n",
      "saved all speed cell booleans as npy files for mouse A7 session 0416_record3\n",
      "saved all speed cell booleans as npy files for mouse A7 session 0417_record4\n",
      "saved all speed cell booleans as npy files for mouse A7 session 0418_record5\n",
      "saved all speed cell booleans as npy files for mouse A7 session 0419_record6\n",
      "saved all speed cell booleans as npy files for mouse Y2 session 1024_record1\n",
      "saved all speed cell booleans as npy files for mouse Y2 session 1025_record2\n",
      "saved all speed cell booleans as npy files for mouse Y2 session 1026_record3\n",
      "saved all speed cell booleans as npy files for mouse Y2 session 1027_record4\n",
      "saved all speed cell booleans as npy files for mouse Y2 session 1028_record5_2\n",
      "saved all speed cell booleans as npy files for mouse Y3 session 1016_record1\n",
      "saved all speed cell booleans as npy files for mouse Y3 session 1019_record3\n",
      "saved all speed cell booleans as npy files for mouse Y3 session 1020_record4\n",
      "saved all speed cell booleans as npy files for mouse Y3 session 1021_record5\n",
      "saved all speed cell booleans as npy files for mouse Y3 session 1022_record6\n",
      "saved all speed cell booleans as npy files for mouse Y4 session 1114_record1\n",
      "saved all speed cell booleans as npy files for mouse Y4 session 1115_record2\n",
      "saved all speed cell booleans as npy files for mouse Y4 session 1116_record3\n",
      "saved all speed cell booleans as npy files for mouse Y4 session 1117_record4\n",
      "saved all speed cell booleans as npy files for mouse Y4 session 1118_record5\n",
      "saved all speed cell booleans as npy files for mouse Y4 session 1119_record6\n",
      "saved all speed cell booleans as npy files for mouse A12 session 051822_record1\n",
      "saved all speed cell booleans as npy files for mouse A12 session 051922_record2\n",
      "saved all speed cell booleans as npy files for mouse A12 session 052022_record3\n",
      "saved all speed cell booleans as npy files for mouse A12 session 052122_record4\n",
      "saved all speed cell booleans as npy files for mouse A12 session 052222_record5\n",
      "saved all speed cell booleans as npy files for mouse A12 session 052322_record6\n",
      "saved all speed cell booleans as npy files for mouse A13 session 050522_record1\n",
      "saved all speed cell booleans as npy files for mouse A13 session 050622_record2\n",
      "saved all speed cell booleans as npy files for mouse A13 session 050722_record3\n",
      "saved all speed cell booleans as npy files for mouse A13 session 050822_record4\n",
      "saved all speed cell booleans as npy files for mouse A13 session 050922_record5\n",
      "saved all speed cell booleans as npy files for mouse A13 session 051022_record6\n",
      "saved all speed cell booleans as npy files for mouse Y11 session 050522_record1\n",
      "saved all speed cell booleans as npy files for mouse Y11 session 050622_record2\n",
      "saved all speed cell booleans as npy files for mouse Y11 session 050722_record3\n",
      "saved all speed cell booleans as npy files for mouse Y11 session 050822_record4\n",
      "saved all speed cell booleans as npy files for mouse Y11 session 051022_record6\n",
      "saved all speed cell booleans as npy files for mouse Y16 session 062222_record3\n",
      "saved all speed cell booleans as npy files for mouse Y16 session 062322_record4\n",
      "saved all speed cell booleans as npy files for mouse Y16 session 062522_record5\n",
      "saved all speed cell booleans as npy files for mouse Y17 session 062822_record1\n",
      "saved all speed cell booleans as npy files for mouse Y17 session 062922_record2\n",
      "saved all speed cell booleans as npy files for mouse Y17 session 063022_record3\n",
      "saved all speed cell booleans as npy files for mouse Y17 session 070122_record4\n",
      "saved all speed cell booleans as npy files for mouse Y17 session 070222_record5\n",
      "saved all speed cell booleans as npy files for mouse Y17 session 070322_record6\n",
      "saved all speed cell booleans as npy files for mouse Y18 session 062022_record1\n",
      "saved all speed cell booleans as npy files for mouse Y18 session 062122_record2\n",
      "saved all speed cell booleans as npy files for mouse Y18 session 062222_record3\n",
      "saved all speed cell booleans as npy files for mouse Y18 session 062322_record4\n",
      "saved all speed cell booleans as npy files for mouse Y18 session 062522_record5\n",
      "saved all speed cell booleans as npy files for mouse Y18 session 062622_record6\n",
      "saved all speed cell booleans as npy files for mouse Y19 session 062822_record1\n",
      "saved all speed cell booleans as npy files for mouse Y19 session 062922_record2\n",
      "saved all speed cell booleans as npy files for mouse Y19 session 063022_record3\n",
      "saved all speed cell booleans as npy files for mouse Y19 session 070122_record4\n",
      "saved all speed cell booleans as npy files for mouse Y19 session 070222_record5\n",
      "saved all speed cell booleans as npy files for mouse Y19 session 070322_record6\n",
      "saved all speed cell booleans as npy files for mouse Y9 session 051922_record2\n",
      "saved all speed cell booleans as npy files for mouse Y9 session 052022_record3\n",
      "saved all speed cell booleans as npy files for mouse A14 session 083022_record1\n",
      "saved all speed cell booleans as npy files for mouse A14 session 083122_record2\n",
      "saved all speed cell booleans as npy files for mouse A14 session 090122_record3\n",
      "saved all speed cell booleans as npy files for mouse A15 session 083022_record1\n",
      "saved all speed cell booleans as npy files for mouse A15 session 083122_record2\n",
      "saved all speed cell booleans as npy files for mouse A15 session 090122_record3\n",
      "saved all speed cell booleans as npy files for mouse A15 session 090222_record4\n",
      "saved all speed cell booleans as npy files for mouse A15 session 090322_record5\n",
      "saved all speed cell booleans as npy files for mouse A15 session 090422_record6\n",
      "saved all speed cell booleans as npy files for mouse A16 session 083022_record1\n",
      "saved all speed cell booleans as npy files for mouse A16 session 083122_record2\n",
      "saved all speed cell booleans as npy files for mouse A16 session 090122_record3\n",
      "saved all speed cell booleans as npy files for mouse A16 session 090222_record4\n",
      "saved all speed cell booleans as npy files for mouse A17 session 082322_record1\n",
      "saved all speed cell booleans as npy files for mouse A17 session 082422_record2\n",
      "saved all speed cell booleans as npy files for mouse A17 session 082522_record3\n",
      "saved all speed cell booleans as npy files for mouse A17 session 082622_record4\n",
      "saved all speed cell booleans as npy files for mouse A17 session 082722_record5\n",
      "saved all speed cell booleans as npy files for mouse A17 session 082822_record6\n"
     ]
    },
    {
     "name": "stdout",
     "output_type": "stream",
     "text": [
      "saved all speed cell booleans as npy files for mouse A18 session 082322_record1real\n",
      "saved all speed cell booleans as npy files for mouse A18 session 082422_record2\n",
      "saved all speed cell booleans as npy files for mouse A18 session 082522_record3\n",
      "saved all speed cell booleans as npy files for mouse A18 session 082622_record4\n",
      "saved all speed cell booleans as npy files for mouse A18 session 082722_record5\n",
      "saved all speed cell booleans as npy files for mouse A18 session 082822_record6\n",
      "saved all speed cell booleans as npy files for mouse MA1F session 102322_record1\n",
      "saved all speed cell booleans as npy files for mouse MA1F session 102422_record2\n",
      "saved all speed cell booleans as npy files for mouse MA1F session 102522_record3\n",
      "saved all speed cell booleans as npy files for mouse MA1F session 102622_record4\n",
      "saved all speed cell booleans as npy files for mouse MA1F session 102722_record5\n",
      "saved all speed cell booleans as npy files for mouse MA1F session 102822_record6\n",
      "saved all speed cell booleans as npy files for mouse MA2F session 102322_record1\n",
      "saved all speed cell booleans as npy files for mouse MA2F session 102422_record2\n",
      "saved all speed cell booleans as npy files for mouse MA2F session 102522_record3\n",
      "saved all speed cell booleans as npy files for mouse MA2F session 102622_record4\n",
      "saved all speed cell booleans as npy files for mouse MA2F session 102722_record5\n",
      "saved all speed cell booleans as npy files for mouse MA2F session 102822_record6\n",
      "saved all speed cell booleans as npy files for mouse MA3M session 102322_record1\n",
      "saved all speed cell booleans as npy files for mouse MA3M session 102422_record2\n",
      "saved all speed cell booleans as npy files for mouse MA3M session 102522_record3\n",
      "saved all speed cell booleans as npy files for mouse MA3M session 102622_record4\n",
      "saved all speed cell booleans as npy files for mouse MA3M session 102722_record5\n",
      "saved all speed cell booleans as npy files for mouse MA3M session 102822_record6\n",
      "saved all speed cell booleans as npy files for mouse MA4M session 103122_record2\n",
      "saved all speed cell booleans as npy files for mouse MA4M session 110122_record3\n",
      "saved all speed cell booleans as npy files for mouse MA4M session 110222_record4\n",
      "saved all speed cell booleans as npy files for mouse MA4M session 110322_record5rep\n",
      "saved all speed cell booleans as npy files for mouse MA4M session 110422_record6\n",
      "saved all speed cell booleans as npy files for mouse MA4M session 110522_record7\n",
      "saved all speed cell booleans as npy files for mouse MA5M session 110622_record1\n",
      "saved all speed cell booleans as npy files for mouse MA5M session 110722_record2\n",
      "saved all speed cell booleans as npy files for mouse MA5M session 110822_record3\n",
      "saved all speed cell booleans as npy files for mouse MA5M session 110922_record4\n",
      "saved all speed cell booleans as npy files for mouse MA5M session 111022_record5\n",
      "saved all speed cell booleans as npy files for mouse MA5M session 111122_record6\n",
      "saved all speed cell booleans as npy files for mouse MA6M session 103022_record1\n",
      "saved all speed cell booleans as npy files for mouse MA6M session 103122_record2\n",
      "saved all speed cell booleans as npy files for mouse MA6M session 110122_record3\n",
      "saved all speed cell booleans as npy files for mouse MA6M session 110222_record4\n",
      "saved all speed cell booleans as npy files for mouse MA6M session 110322_record5\n",
      "saved all speed cell booleans as npy files for mouse MA6M session 110422_record6\n",
      "saved all speed cell booleans as npy files for mouse MA7M session 103022_record1\n",
      "saved all speed cell booleans as npy files for mouse MA7M session 103122_record2\n",
      "saved all speed cell booleans as npy files for mouse MA7M session 110122_record3\n",
      "saved all speed cell booleans as npy files for mouse MA7M session 110222_record4\n",
      "saved all speed cell booleans as npy files for mouse MA8F session 111322_record1\n",
      "saved all speed cell booleans as npy files for mouse MA8F session 111422_record2\n",
      "saved all speed cell booleans as npy files for mouse MA8F session 111522_record3\n",
      "saved all speed cell booleans as npy files for mouse MA8F session 111622_record4\n",
      "saved all speed cell booleans as npy files for mouse MA8F session 111722_record5\n",
      "saved all speed cell booleans as npy files for mouse MA8F session 111822_record6\n",
      "saved all speed cell booleans as npy files for mouse MA9F session 111322_record1\n",
      "saved all speed cell booleans as npy files for mouse MA9F session 111422_record2\n",
      "saved all speed cell booleans as npy files for mouse MA9F session 111522_record3\n",
      "saved all speed cell booleans as npy files for mouse MA9F session 111622_record4\n",
      "saved all speed cell booleans as npy files for mouse MA9F session 111722_record5\n",
      "saved all speed cell booleans as npy files for mouse MA9F session 111822_record6\n",
      "saved all speed cell booleans as npy files for mouse MA10F session 111322_record1\n",
      "saved all speed cell booleans as npy files for mouse MA10F session 111422_record2\n",
      "saved all speed cell booleans as npy files for mouse MA10F session 111522_record3\n",
      "saved all speed cell booleans as npy files for mouse MA10F session 111622_record4\n",
      "saved all speed cell booleans as npy files for mouse MA10F session 111722_record5\n",
      "saved all speed cell booleans as npy files for mouse MA10F session 111822_record6\n",
      "saved all speed cell booleans as npy files for mouse Y20 session 092522_record1\n",
      "saved all speed cell booleans as npy files for mouse Y20 session 092622_record2\n",
      "saved all speed cell booleans as npy files for mouse Y20 session 092722_record3\n",
      "saved all speed cell booleans as npy files for mouse Y20 session 092822_record4\n",
      "saved all speed cell booleans as npy files for mouse Y20 session 092922_record5\n",
      "saved all speed cell booleans as npy files for mouse Y20 session 093022_record6\n",
      "saved all speed cell booleans as npy files for mouse Y21 session 091822_record1\n",
      "saved all speed cell booleans as npy files for mouse Y21 session 091922_record2\n",
      "saved all speed cell booleans as npy files for mouse Y21 session 092022_record3\n",
      "saved all speed cell booleans as npy files for mouse Y21 session 092122_record4\n",
      "saved all speed cell booleans as npy files for mouse Y21 session 092222_record5\n",
      "saved all speed cell booleans as npy files for mouse Y21 session 092322_record6\n",
      "saved all speed cell booleans as npy files for mouse Y22 session 092522_record1\n",
      "saved all speed cell booleans as npy files for mouse Y22 session 092622_record2\n",
      "saved all speed cell booleans as npy files for mouse Y22 session 092722_record3\n",
      "saved all speed cell booleans as npy files for mouse Y22 session 092822_record4\n",
      "saved all speed cell booleans as npy files for mouse Y22 session 092922_record5\n",
      "saved all speed cell booleans as npy files for mouse Y22 session 093022_record6\n",
      "saved all speed cell booleans as npy files for mouse Y23 session 092522_record1\n",
      "saved all speed cell booleans as npy files for mouse Y23 session 092622_record2\n",
      "saved all speed cell booleans as npy files for mouse Y23 session 092722_record3\n",
      "saved all speed cell booleans as npy files for mouse Y23 session 092822_record4\n",
      "saved all speed cell booleans as npy files for mouse Y23 session 092922_record5\n",
      "saved all speed cell booleans as npy files for mouse Y23 session 093022_record6\n",
      "saved all speed cell booleans as npy files for mouse Y24 session 091822_record1\n",
      "saved all speed cell booleans as npy files for mouse Y24 session 091922_record2\n",
      "saved all speed cell booleans as npy files for mouse Y24 session 092022_record3\n",
      "saved all speed cell booleans as npy files for mouse Y24 session 092122_record4\n",
      "saved all speed cell booleans as npy files for mouse Y24 session 092222_record5\n",
      "saved all speed cell booleans as npy files for mouse Y24 session 092322_record6\n",
      "saved all speed cell booleans as npy files for mouse A19 session 012723_record2\n",
      "saved all speed cell booleans as npy files for mouse A19 session 012823_record3\n",
      "saved all speed cell booleans as npy files for mouse A19 session 012923_record4\n",
      "saved all speed cell booleans as npy files for mouse A19 session 013023_record5\n",
      "saved all speed cell booleans as npy files for mouse A19 session 013123_record6\n",
      "saved all speed cell booleans as npy files for mouse A19 session 020123_record7\n",
      "saved all speed cell booleans as npy files for mouse A20 session 012623_record1\n",
      "saved all speed cell booleans as npy files for mouse A20 session 012723_record2\n"
     ]
    },
    {
     "name": "stdout",
     "output_type": "stream",
     "text": [
      "saved all speed cell booleans as npy files for mouse A20 session 012823_record3\n",
      "saved all speed cell booleans as npy files for mouse A20 session 012923_record4\n",
      "saved all speed cell booleans as npy files for mouse A20 session 013023_record5\n",
      "saved all speed cell booleans as npy files for mouse A20 session 013123_record6\n",
      "saved all speed cell booleans as npy files for mouse A22 session 012923_record2\n",
      "saved all speed cell booleans as npy files for mouse A22 session 013023_record3\n",
      "saved all speed cell booleans as npy files for mouse A22 session 013123_record4\n",
      "saved all speed cell booleans as npy files for mouse A22 session 020123_record5\n",
      "saved all speed cell booleans as npy files for mouse A22 session 020223_record6\n",
      "saved all speed cell booleans as npy files for mouse A22 session 020323_record7\n",
      "saved all speed cell booleans as npy files for mouse A23 session 020923_record1\n",
      "saved all speed cell booleans as npy files for mouse A23 session 021023_record2\n",
      "saved all speed cell booleans as npy files for mouse A23 session 021123_record3\n",
      "saved all speed cell booleans as npy files for mouse A23 session 021223_record4\n",
      "saved all speed cell booleans as npy files for mouse A23 session 021323_record5\n",
      "saved all speed cell booleans as npy files for mouse A23 session 021423_record6\n",
      "saved all speed cell booleans as npy files for mouse A24 session 022623_record1\n",
      "saved all speed cell booleans as npy files for mouse A24 session 022723_record2\n",
      "saved all speed cell booleans as npy files for mouse A24 session 022823_record3\n",
      "saved all speed cell booleans as npy files for mouse A24 session 030123_record4\n",
      "saved all speed cell booleans as npy files for mouse A24 session 030223_record5\n",
      "saved all speed cell booleans as npy files for mouse A24 session 030323_record6\n",
      "saved all speed cell booleans as npy files for mouse Y25 session 021623_record1\n",
      "saved all speed cell booleans as npy files for mouse Y25 session 021723_record2\n",
      "saved all speed cell booleans as npy files for mouse Y25 session 021823_record3\n",
      "saved all speed cell booleans as npy files for mouse Y25 session 021923_record4\n",
      "saved all speed cell booleans as npy files for mouse Y25 session 022023_record5\n",
      "saved all speed cell booleans as npy files for mouse Y25 session 022123_record6\n",
      "saved all speed cell booleans as npy files for mouse Y26 session 021623_record1\n",
      "saved all speed cell booleans as npy files for mouse Y26 session 021723_record2\n",
      "saved all speed cell booleans as npy files for mouse Y26 session 021823_record3\n",
      "saved all speed cell booleans as npy files for mouse Y26 session 021923_record4\n",
      "saved all speed cell booleans as npy files for mouse Y26 session 022023_record5\n",
      "saved all speed cell booleans as npy files for mouse Y26 session 022123_record6\n",
      "saved all speed cell booleans as npy files for mouse Y27 session 021623_record1\n",
      "saved all speed cell booleans as npy files for mouse Y27 session 021723_record2\n",
      "saved all speed cell booleans as npy files for mouse Y27 session 021823_record3\n",
      "saved all speed cell booleans as npy files for mouse Y27 session 021923_record4\n",
      "saved all speed cell booleans as npy files for mouse Y27 session 022023_record5rep\n",
      "saved all speed cell booleans as npy files for mouse Y27 session 022123_record6\n",
      "saved all speed cell booleans as npy files for mouse Y28 session 022623_record1\n",
      "saved all speed cell booleans as npy files for mouse Y28 session 022723_record2\n",
      "saved all speed cell booleans as npy files for mouse Y28 session 022823_record3\n",
      "saved all speed cell booleans as npy files for mouse Y28 session 030123_record4\n",
      "saved all speed cell booleans as npy files for mouse Y28 session 030223_record5\n",
      "saved all speed cell booleans as npy files for mouse Y28 session 030323_record6\n"
     ]
    }
   ],
   "source": [
    "'''Load Scores & Save Booleans of Negative & Positively Modulated Speed Cells \n",
    "  \n",
    " NOTE: shuffled scores are produced by the notebook \"Shuffle Procedure.\" Please run that for all sessions before proceeding here.\n",
    "\n",
    "'''  \n",
    "#adjust paths \n",
    "load_folder = 'C:/Users/Python/Desktop/LocalData/filtered/' #output of import/filter notebook\n",
    "save_folder = 'C:/Users/Python/Desktop/LocalData/intnspeedcells/' #output location of cell above\n",
    "scoreload_folder = 'C:/Users/Python/Desktop/LocalData/shuffscores/' #output of shuffle / interneuron classification notebook\n",
    "\n",
    "#if you didn't run the shuffle notebook and instead used the Dryad repo scores, adjust these paths & adjust lines below as well:\n",
    "#scoreload1_folder = 'C:/Users/Python/Desktop/Dryad/shuffle_scores/speedscores/'\n",
    "#scoreload2_folder = 'C:/Users/Python/Desktop/Dryad/shuffle_scores/speedstabscores/'\n",
    "\n",
    "P99score = []\n",
    "P99stabscore = []\n",
    "for m, session in zip(mice,sessions):\n",
    "    for s in session:\n",
    "        d = data[m][s]\n",
    "    \n",
    "        #get file names\n",
    "        realspeedscore_file = 'realinstspeedscore_' + m + '_' + s + '.npy'\n",
    "        realspeedstabscore_file = 'realspeedstabscore_' + m + '_' + s + '.npy'\n",
    "        shufinstspeedscore_file = 'shufinstspeedscore_' + m + '_' + s + '.npy'\n",
    "        shufspeedstabscore_file = 'shufspeedstabscore_' + m + '_' + s + '.npy'\n",
    "        rawdata_file = 'RAW_' + m + '_' + s + '.npy'\n",
    "        \n",
    "        #Load stuff & get data relevant to classification\n",
    "        d['speedscore'] = np.load(save_folder + realspeedscore_file)\n",
    "        d['speedstabscore'] = np.load(save_folder + realspeedstabscore_file)\n",
    "        d['shufspeedscore'] = np.load(scoreload_folder + shufinstspeedscore_file, allow_pickle = True)\n",
    "        #d['shufspeedscore'] = np.load(scoreload1_folder + shufinstspeedscore_file, allow_pickle = True) \n",
    "        d['shufspeedstabscore'] = np.load(scoreload_folder + shufspeedstabscore_file, allow_pickle = True)\n",
    "        #d['shufspeedstabscore'] = np.load(scoreload2_folder + shufspeedstabscore_file, allow_pickle = True) \n",
    "        raw = np.load(load_folder + rawdata_file, allow_pickle=True)\n",
    "        \n",
    "        shufspeedscore = d['shufspeedscore']\n",
    "        shufspeedstabscore = d['shufspeedstabscore']\n",
    "        realspeed_score = d['speedscore'] \n",
    "        realspeedstab_score = d['speedstabscore'] \n",
    "        cell_IDs = raw.item().get('cellsfil')\n",
    "        \n",
    "        speedcell99 = []\n",
    "        speedcell1 = []\n",
    "        \n",
    "        #Classify excitatory, positively & negatively modulated speed cells\n",
    "        for i, c in enumerate(cell_IDs):\n",
    "            dist = abs(shufspeedscore[:,i])\n",
    "            P99 = np.percentile(dist,99)\n",
    "            \n",
    "            dist2 = abs(shufspeedstabscore[:,i])\n",
    "            sP99 = np.percentile(dist2,99)\n",
    "            \n",
    "            P99stabscore = np.append(P99stabscore, sP99)\n",
    "            P99score = np.append(P99score, P99)\n",
    "\n",
    "            if (abs(realspeed_score[i]) >= P99) & (abs(realspeedstab_score[i]) >= sP99):\n",
    "                if realspeed_score[i] >= 0: # pos mod P99 cell\n",
    "                    speedcell99 = np.append(speedcell99, True)\n",
    "                    speedcell1 = np.append(speedcell1, False)\n",
    "                else: # neg mod P99 cell\n",
    "                    speedcell99 = np.append(speedcell99, False)\n",
    "                    speedcell1 = np.append(speedcell1, True) \n",
    "            else:\n",
    "                speedcell99 = np.append(speedcell99, False)\n",
    "                speedcell1 = np.append(speedcell1, False) \n",
    "\n",
    "        speedcell99 = np.asarray(speedcell99).astype(bool)\n",
    "        speedcell1 = np.asarray(speedcell1).astype(bool)\n",
    "                \n",
    "        #save speed cell classification boolean as .npy file for easy access for all animals\n",
    "        d['speedcell99'] = speedcell99\n",
    "        d['speedcell1'] = speedcell1\n",
    "        \n",
    "        speedcell99_file = 'speedcell99_' + m + '_' + s + '.npy'\n",
    "        speedcell1_file = 'speedcell1_' + m + '_' + s + '.npy'\n",
    "        \n",
    "        #np.save(save_folder + speedcell99_file, speedcell99)\n",
    "        #np.save(save_folder + speedcell1_file, speedcell1)\n",
    "        print('saved all speed cell booleans as npy files for mouse ' + m + ' session '+ s)"
   ]
  },
  {
   "cell_type": "markdown",
   "id": "50dcd25a",
   "metadata": {},
   "source": [
    "# Examine speed tuning among classified speed cells (Figures 6A-E)"
   ]
  },
  {
   "cell_type": "code",
   "execution_count": 43,
   "id": "f5c89a2e",
   "metadata": {},
   "outputs": [
    {
     "name": "stdout",
     "output_type": "stream",
     "text": [
      "A3 0122_record1 544\n"
     ]
    },
    {
     "data": {
      "image/png": "[encoded data removed]",
      "text/plain": [
       "<Figure size 125x50 with 2 Axes>"
      ]
     },
     "metadata": {},
     "output_type": "display_data"
    },
    {
     "name": "stdout",
     "output_type": "stream",
     "text": [
      "Y18 062222_record3 58\n"
     ]
    },
    {
     "data": {
      "image/png": "[encoded data removed]",
      "text/plain": [
       "<Figure size 125x50 with 2 Axes>"
      ]
     },
     "metadata": {},
     "output_type": "display_data"
    },
    {
     "name": "stdout",
     "output_type": "stream",
     "text": [
      "MA1F 102522_record3 965\n"
     ]
    },
    {
     "data": {
      "image/png": "[encoded data removed]",
      "text/plain": [
       "<Figure size 125x50 with 2 Axes>"
      ]
     },
     "metadata": {},
     "output_type": "display_data"
    }
   ],
   "source": [
    "''' Plot Single, Labeled 2D Heat Maps for Representative + Speed Cells (Figure 6A top row panels)'''\n",
    "\n",
    "save_folder = 'C:/Users/Python/Desktop/LocalData/intnspeedcells/' #output location of cell above\n",
    "scoreload_folder = 'C:/Users/Python/Desktop/LocalData/shuffscores/' #output of shuffle procedure \n",
    "save_example_folder = 'C:/Users/Python/Desktop/LocalData/intnspeedcells/speedcellexamples/' #wherever you want to save these\n",
    "\n",
    "ex_mice = ['Y18','MA1F','A3']\n",
    "ex_sessions = ['062222_record3','102522_record3','0122_record1']\n",
    "ex_cells = [544, 58, 965]\n",
    "count = 0\n",
    "dt = 0.02\n",
    "\n",
    "for m, session in zip(mice,sessions):\n",
    "    \n",
    "    for s in session:\n",
    "        \n",
    "        if (m not in ex_mice) or (s not in ex_sessions):\n",
    "            continue\n",
    "        \n",
    "        d = data[m][s]\n",
    "    \n",
    "        #get file names & load data necessary\n",
    "        A_file = 'A_' + m + '_' + s + '.npy'\n",
    "        A = np.load(save_folder + A_file)\n",
    "        A = A / dt\n",
    "        \n",
    "        rawdata_file = 'RAW_' + m + '_' + s + '.npy'\n",
    "        raw = np.load(load_folder + rawdata_file, allow_pickle=True)\n",
    "        \n",
    "        behavior_file = 'BEHAVIOR_' + m + '_' + s + '.npy'\n",
    "        behaviorfil = np.load(load_folder + behavior_file, allow_pickle=False)\n",
    "        posx = behaviorfil[:,0]\n",
    "        speed = behaviorfil[:,1]\n",
    "        \n",
    "        intn_file = 'intn_' + m + '_' + s + '.npy'\n",
    "        d['intn'] = np.load(save_folder + intn_file, allow_pickle = True)\n",
    "        intn = d['intn'].astype(bool)\n",
    "        \n",
    "        # ID excitatory speed tuned cells as +/- speed cells\n",
    "        cell_IDs = raw.item().get('cellsfil')\n",
    "        speedcell99 = d['speedcell99']\n",
    "        speedcell1 = d['speedcell1']\n",
    "        speedcells99 = cell_IDs[(speedcell99 == 1) & (intn == 0)]\n",
    "        speedcells1 = cell_IDs[(speedcell1 == 1) & (intn == 0)]\n",
    "        \n",
    "        x_bins = np.linspace(0,60,20)\n",
    "        y_bins = np.linspace(0,20,20)\n",
    "        \n",
    "        if m in all_young_mice: \n",
    "            col = 'C0'\n",
    "        elif m in all_aged_mice:\n",
    "            col = 'C1'\n",
    "        else:\n",
    "            col = 'C2'\n",
    "                \n",
    "        for i, c in enumerate(speedcells99): #plots three example cells per session\n",
    "        \n",
    "            try:  #handles trivial indexing issue for ex_cells list   \n",
    "                if (c == ex_cells[count]):\n",
    "                    \n",
    "                    print(m,s,c)\n",
    "\n",
    "                    sdx = (np.where(cell_IDs==c)[0][0]).astype(int)\n",
    "\n",
    "                    slopeFR, intFR, r_value, p_val, std_err = stats.linregress(speed, A[:,sdx])\n",
    "\n",
    "                    #plot 2D histogram / heatmap\n",
    "                    fig, ax = plt.subplots(figsize = (1.25,0.5))\n",
    "\n",
    "                    h = ax.hist2d(speed, A[:,sdx], bins = [x_bins, y_bins])\n",
    "                    cbar = fig.colorbar(h[3], ax=ax, ticks = [0,np.max(h[0])])\n",
    "                    cbar.ax.set_yticklabels(['0','max'])\n",
    "                    cbar.ax.tick_params(labelsize = 8)\n",
    "\n",
    "                    ax.set_title(str(m) + '_' + str(s[-1]) + ', c. ' + str(c), fontsize = 10, color = col)\n",
    "                    ax.text(x = 25, y = 15, s = 'm = ' + str(np.round(slopeFR, 3)), color = 'w', fontsize = 7)\n",
    "                    ax.tick_params(labelsize = 8)\n",
    "                    plt.xlabel('Speed (cm/s)', fontsize = 9)\n",
    "                    plt.ylabel('FR (Hz)', fontsize = 9)\n",
    "\n",
    "                    #overlay correlation line\n",
    "                    plt.xlim([2,60])\n",
    "                    ax.set_xticks([20,40,60])\n",
    "                    ax.set_yticks([0,10,20])\n",
    "                    plt.ylim([0,20])\n",
    "                    X_plot = np.linspace(ax.get_xlim()[0],ax.get_xlim()[1],100)\n",
    "                    plt.plot(X_plot, slopeFR*X_plot + intFR, '--', color = 'w', linewidth = 0.75)\n",
    "                    #plt.savefig(save_example_folder + str(m) + '_' + str(s) + '_' + str(c) + '.png', dpi = 400, bbox_inches = 'tight')\n",
    "                    #plt.savefig(save_example_folder + str(m) + '_' + str(s) + '_' + str(c) + '.svg', dpi = 400, bbox_inches = 'tight')\n",
    "                    plt.show()\n",
    "\n",
    "                    count += 1\n",
    "            except:\n",
    "                continue"
   ]
  },
  {
   "cell_type": "code",
   "execution_count": 45,
   "id": "d3e07a7b",
   "metadata": {},
   "outputs": [
    {
     "data": {
      "image/png": "[encoded data removed]",
      "text/plain": [
       "<Figure size 125x50 with 2 Axes>"
      ]
     },
     "metadata": {},
     "output_type": "display_data"
    },
    {
     "data": {
      "image/png": "[encoded data removed]",
      "text/plain": [
       "<Figure size 125x50 with 2 Axes>"
      ]
     },
     "metadata": {},
     "output_type": "display_data"
    },
    {
     "data": {
      "image/png": "[encoded data removed]",
      "text/plain": [
       "<Figure size 125x50 with 2 Axes>"
      ]
     },
     "metadata": {},
     "output_type": "display_data"
    }
   ],
   "source": [
    "''' Plot Single, Labeled 2D Heat Maps for Representative - Speed Cells (Figure 6A bottom row panels)'''\n",
    "\n",
    "save_example_folder = 'C:/Users/Python/Desktop/LocalData/intnspeedcells/speedcellexamples/' #wherever you want to save these\n",
    "\n",
    "ex_mice = ['Y17','MA6M','A18']\n",
    "ex_sessions = ['070122_record4','103122_record2','082522_record3']\n",
    "ex_cells = [1318,165,394]\n",
    "count = 0\n",
    "dt = 0.02\n",
    "\n",
    "for m, session in zip(mice,sessions):\n",
    "    \n",
    "    for s in session:\n",
    "        \n",
    "        if (m not in ex_mice) or (s not in ex_sessions):\n",
    "            continue\n",
    "        \n",
    "        d = data[m][s]\n",
    "    \n",
    "        #get file names & load data necessary\n",
    "        A_file = 'A_' + m + '_' + s + '.npy'\n",
    "        A = np.load(save_folder + A_file)\n",
    "        A = A / dt\n",
    "        \n",
    "        rawdata_file = 'RAW_' + m + '_' + s + '.npy'\n",
    "        raw = np.load(load_folder + rawdata_file, allow_pickle=True)\n",
    "        \n",
    "        behavior_file = 'BEHAVIOR_' + m + '_' + s + '.npy'\n",
    "        behaviorfil = np.load(load_folder + behavior_file, allow_pickle=False)\n",
    "        posx = behaviorfil[:,0]\n",
    "        speed = behaviorfil[:,1]\n",
    "        \n",
    "        intn_file = 'intn_' + m + '_' + s + '.npy'\n",
    "        d['intn'] = np.load(save_folder + intn_file, allow_pickle = True)\n",
    "        intn = d['intn'].astype(bool)\n",
    "        \n",
    "        # ID excitatory speed tuned cells as +/- speed cells\n",
    "        cell_IDs = raw.item().get('cellsfil')\n",
    "        speedcell99 = d['speedcell99']\n",
    "        speedcell1 = d['speedcell1']\n",
    "        speedcells99 = cell_IDs[(speedcell99 == 1) & (intn == 0)]\n",
    "        speedcells1 = cell_IDs[(speedcell1 == 1) & (intn == 0)]\n",
    "        \n",
    "        x_bins = np.linspace(0,60,20)\n",
    "        y_bins = np.linspace(0,20,20)\n",
    "\n",
    "        if m in all_young_mice: \n",
    "            col = 'C0'\n",
    "        elif m in all_aged_mice:\n",
    "            col = 'C1'\n",
    "        else:\n",
    "            col = 'C2'\n",
    "                \n",
    "        for i, c in enumerate(speedcells1): #plots three example cells per session\n",
    "        \n",
    "            try:  #handles trivial indexing issue for ex_cells list   \n",
    "                if (c == ex_cells[count]):\n",
    "\n",
    "                    sdx = (np.where(cell_IDs==c)[0][0]).astype(int)\n",
    "\n",
    "                    slopeFR, intFR, r_value, p_val, std_err = stats.linregress(speed, A[:,sdx])\n",
    "\n",
    "                    #plot 2D histogram / heatmap\n",
    "                    fig, ax = plt.subplots(figsize = (1.25,0.5))\n",
    "\n",
    "                    h = ax.hist2d(speed, A[:,sdx], bins = [x_bins, y_bins])\n",
    "                    cbar = fig.colorbar(h[3], ax=ax, ticks = [0,np.max(h[0])])\n",
    "                    cbar.ax.set_yticklabels(['0','max'])\n",
    "                    cbar.ax.tick_params(labelsize = 8)\n",
    "\n",
    "                    ax.set_title(str(m) + '_' + str(s[-1]) + ', c. ' + str(c), fontsize = 10, color = col)\n",
    "                    ax.text(x = 25, y = 15, s = 'm = ' + str(np.round(slopeFR, 3)), color = 'w', fontsize = 7)\n",
    "                    ax.tick_params(labelsize = 8)\n",
    "                    plt.xlabel('Speed (cm/s)', fontsize = 9)\n",
    "                    plt.ylabel('FR (Hz)', fontsize = 9)\n",
    "\n",
    "                    #overlay correlation line\n",
    "                    plt.xlim([2,60])\n",
    "                    ax.set_xticks([20,40,60])\n",
    "                    ax.set_yticks([0,10,20])\n",
    "                    plt.ylim([0,20])\n",
    "                    X_plot = np.linspace(ax.get_xlim()[0],ax.get_xlim()[1],100)\n",
    "                    plt.plot(X_plot, slopeFR*X_plot + intFR, '--', color = 'w', linewidth = 0.75)\n",
    "                    #plt.savefig(save_example_folder + str(m) + '_' + str(s) + '_' + str(c) + '.png', dpi = 400, bbox_inches = 'tight')\n",
    "                    #plt.savefig(save_example_folder + str(m) + '_' + str(s) + '_' + str(c) + '.svg', dpi = 400, bbox_inches = 'tight')\n",
    "                    plt.show()\n",
    "\n",
    "                    count += 1\n",
    "            except:\n",
    "                continue"
   ]
  },
  {
   "cell_type": "code",
   "execution_count": 48,
   "id": "c74dd5ca",
   "metadata": {
    "scrolled": true
   },
   "outputs": [
    {
     "data": {
      "application/vnd.jupyter.widget-view+json": {
       "model_id": "ebb5694af71943d4a7e57805f41d2c22",
       "version_major": 2,
       "version_minor": 0
      },
      "text/plain": [
       "  0%|          | 0/6 [00:00<?, ?it/s]"
      ]
     },
     "metadata": {},
     "output_type": "display_data"
    },
    {
     "data": {
      "application/vnd.jupyter.widget-view+json": {
       "model_id": "53febb7b001042738aa25bc64a2e2b0d",
       "version_major": 2,
       "version_minor": 0
      },
      "text/plain": [
       "  0%|          | 0/6 [00:00<?, ?it/s]"
      ]
     },
     "metadata": {},
     "output_type": "display_data"
    },
    {
     "data": {
      "application/vnd.jupyter.widget-view+json": {
       "model_id": "0bcdefb6f0904f32857681c08d04e1cd",
       "version_major": 2,
       "version_minor": 0
      },
      "text/plain": [
       "  0%|          | 0/6 [00:00<?, ?it/s]"
      ]
     },
     "metadata": {},
     "output_type": "display_data"
    },
    {
     "data": {
      "application/vnd.jupyter.widget-view+json": {
       "model_id": "f5c7622a72a446debf9123348745d6d8",
       "version_major": 2,
       "version_minor": 0
      },
      "text/plain": [
       "  0%|          | 0/6 [00:00<?, ?it/s]"
      ]
     },
     "metadata": {},
     "output_type": "display_data"
    },
    {
     "data": {
      "application/vnd.jupyter.widget-view+json": {
       "model_id": "82ae81bcb9e24645ab3ac0fec0768a8a",
       "version_major": 2,
       "version_minor": 0
      },
      "text/plain": [
       "  0%|          | 0/6 [00:00<?, ?it/s]"
      ]
     },
     "metadata": {},
     "output_type": "display_data"
    },
    {
     "data": {
      "application/vnd.jupyter.widget-view+json": {
       "model_id": "089e78f04fb0467f910494ef3303d47d",
       "version_major": 2,
       "version_minor": 0
      },
      "text/plain": [
       "  0%|          | 0/5 [00:00<?, ?it/s]"
      ]
     },
     "metadata": {},
     "output_type": "display_data"
    },
    {
     "data": {
      "application/vnd.jupyter.widget-view+json": {
       "model_id": "33bb3a2626d544e39f49efbb2b500bf6",
       "version_major": 2,
       "version_minor": 0
      },
      "text/plain": [
       "  0%|          | 0/5 [00:00<?, ?it/s]"
      ]
     },
     "metadata": {},
     "output_type": "display_data"
    },
    {
     "data": {
      "application/vnd.jupyter.widget-view+json": {
       "model_id": "544cb4f751594784985ea2db5fa3cf08",
       "version_major": 2,
       "version_minor": 0
      },
      "text/plain": [
       "  0%|          | 0/6 [00:00<?, ?it/s]"
      ]
     },
     "metadata": {},
     "output_type": "display_data"
    },
    {
     "data": {
      "application/vnd.jupyter.widget-view+json": {
       "model_id": "cbfc7ffbaaa547b790ce5d3f036cea64",
       "version_major": 2,
       "version_minor": 0
      },
      "text/plain": [
       "  0%|          | 0/6 [00:00<?, ?it/s]"
      ]
     },
     "metadata": {},
     "output_type": "display_data"
    },
    {
     "data": {
      "application/vnd.jupyter.widget-view+json": {
       "model_id": "7e8a3265e8be44288ad214eaffc34925",
       "version_major": 2,
       "version_minor": 0
      },
      "text/plain": [
       "  0%|          | 0/6 [00:00<?, ?it/s]"
      ]
     },
     "metadata": {},
     "output_type": "display_data"
    },
    {
     "data": {
      "application/vnd.jupyter.widget-view+json": {
       "model_id": "62ece9931bc34706a8d4a9c93768f695",
       "version_major": 2,
       "version_minor": 0
      },
      "text/plain": [
       "  0%|          | 0/5 [00:00<?, ?it/s]"
      ]
     },
     "metadata": {},
     "output_type": "display_data"
    },
    {
     "data": {
      "application/vnd.jupyter.widget-view+json": {
       "model_id": "e7e86b3f2b644f1794db5b4cb2e848cc",
       "version_major": 2,
       "version_minor": 0
      },
      "text/plain": [
       "  0%|          | 0/3 [00:00<?, ?it/s]"
      ]
     },
     "metadata": {},
     "output_type": "display_data"
    },
    {
     "data": {
      "application/vnd.jupyter.widget-view+json": {
       "model_id": "26a9b1a48cc64b46bd4f8c3001bbf7e7",
       "version_major": 2,
       "version_minor": 0
      },
      "text/plain": [
       "  0%|          | 0/6 [00:00<?, ?it/s]"
      ]
     },
     "metadata": {},
     "output_type": "display_data"
    },
    {
     "data": {
      "application/vnd.jupyter.widget-view+json": {
       "model_id": "fa7eccce1ded436d8371a8554fc0026d",
       "version_major": 2,
       "version_minor": 0
      },
      "text/plain": [
       "  0%|          | 0/6 [00:00<?, ?it/s]"
      ]
     },
     "metadata": {},
     "output_type": "display_data"
    },
    {
     "data": {
      "application/vnd.jupyter.widget-view+json": {
       "model_id": "8f0e98d0fa1140fbac634ff8b4772a82",
       "version_major": 2,
       "version_minor": 0
      },
      "text/plain": [
       "  0%|          | 0/6 [00:00<?, ?it/s]"
      ]
     },
     "metadata": {},
     "output_type": "display_data"
    },
    {
     "data": {
      "application/vnd.jupyter.widget-view+json": {
       "model_id": "f41f7204a34944dcb1fd00813a72aa37",
       "version_major": 2,
       "version_minor": 0
      },
      "text/plain": [
       "  0%|          | 0/2 [00:00<?, ?it/s]"
      ]
     },
     "metadata": {},
     "output_type": "display_data"
    },
    {
     "data": {
      "application/vnd.jupyter.widget-view+json": {
       "model_id": "aeb7dd47b14a485ca779a1ff600e2c52",
       "version_major": 2,
       "version_minor": 0
      },
      "text/plain": [
       "  0%|          | 0/3 [00:00<?, ?it/s]"
      ]
     },
     "metadata": {},
     "output_type": "display_data"
    },
    {
     "data": {
      "application/vnd.jupyter.widget-view+json": {
       "model_id": "2f6bd4b032264d2fb7942f32ce02ebb0",
       "version_major": 2,
       "version_minor": 0
      },
      "text/plain": [
       "  0%|          | 0/6 [00:00<?, ?it/s]"
      ]
     },
     "metadata": {},
     "output_type": "display_data"
    },
    {
     "data": {
      "application/vnd.jupyter.widget-view+json": {
       "model_id": "1cd9d12ee2a94145bf99441f21af08ad",
       "version_major": 2,
       "version_minor": 0
      },
      "text/plain": [
       "  0%|          | 0/4 [00:00<?, ?it/s]"
      ]
     },
     "metadata": {},
     "output_type": "display_data"
    },
    {
     "data": {
      "application/vnd.jupyter.widget-view+json": {
       "model_id": "3e4bd96101fb444490648a2769d1cbc4",
       "version_major": 2,
       "version_minor": 0
      },
      "text/plain": [
       "  0%|          | 0/6 [00:00<?, ?it/s]"
      ]
     },
     "metadata": {},
     "output_type": "display_data"
    },
    {
     "data": {
      "application/vnd.jupyter.widget-view+json": {
       "model_id": "3379a767ea8c4bf198f2de7cbffb2f30",
       "version_major": 2,
       "version_minor": 0
      },
      "text/plain": [
       "  0%|          | 0/6 [00:00<?, ?it/s]"
      ]
     },
     "metadata": {},
     "output_type": "display_data"
    },
    {
     "data": {
      "application/vnd.jupyter.widget-view+json": {
       "model_id": "304382c8402345e394b17ffcf7d0a181",
       "version_major": 2,
       "version_minor": 0
      },
      "text/plain": [
       "  0%|          | 0/6 [00:00<?, ?it/s]"
      ]
     },
     "metadata": {},
     "output_type": "display_data"
    },
    {
     "data": {
      "application/vnd.jupyter.widget-view+json": {
       "model_id": "d2badb24106f43e69eb1c3115f27a580",
       "version_major": 2,
       "version_minor": 0
      },
      "text/plain": [
       "  0%|          | 0/6 [00:00<?, ?it/s]"
      ]
     },
     "metadata": {},
     "output_type": "display_data"
    },
    {
     "data": {
      "application/vnd.jupyter.widget-view+json": {
       "model_id": "706754db0eee4842b23cc4589e1ea774",
       "version_major": 2,
       "version_minor": 0
      },
      "text/plain": [
       "  0%|          | 0/6 [00:00<?, ?it/s]"
      ]
     },
     "metadata": {},
     "output_type": "display_data"
    },
    {
     "data": {
      "application/vnd.jupyter.widget-view+json": {
       "model_id": "258a6d09a12c46329b1eb73634725b81",
       "version_major": 2,
       "version_minor": 0
      },
      "text/plain": [
       "  0%|          | 0/6 [00:00<?, ?it/s]"
      ]
     },
     "metadata": {},
     "output_type": "display_data"
    },
    {
     "data": {
      "application/vnd.jupyter.widget-view+json": {
       "model_id": "f389ef22384c466287661a204b54d096",
       "version_major": 2,
       "version_minor": 0
      },
      "text/plain": [
       "  0%|          | 0/6 [00:00<?, ?it/s]"
      ]
     },
     "metadata": {},
     "output_type": "display_data"
    },
    {
     "data": {
      "application/vnd.jupyter.widget-view+json": {
       "model_id": "4f18941adb7b455591b5e9ac0557c88c",
       "version_major": 2,
       "version_minor": 0
      },
      "text/plain": [
       "  0%|          | 0/6 [00:00<?, ?it/s]"
      ]
     },
     "metadata": {},
     "output_type": "display_data"
    },
    {
     "data": {
      "application/vnd.jupyter.widget-view+json": {
       "model_id": "2927b84763ae498599df71a363ddccc8",
       "version_major": 2,
       "version_minor": 0
      },
      "text/plain": [
       "  0%|          | 0/4 [00:00<?, ?it/s]"
      ]
     },
     "metadata": {},
     "output_type": "display_data"
    },
    {
     "data": {
      "application/vnd.jupyter.widget-view+json": {
       "model_id": "00c84ffdc9ed419f9e29a2dcaac62da7",
       "version_major": 2,
       "version_minor": 0
      },
      "text/plain": [
       "  0%|          | 0/6 [00:00<?, ?it/s]"
      ]
     },
     "metadata": {},
     "output_type": "display_data"
    },
    {
     "data": {
      "application/vnd.jupyter.widget-view+json": {
       "model_id": "92f1494caece4ddebe31b3bee05d4978",
       "version_major": 2,
       "version_minor": 0
      },
      "text/plain": [
       "  0%|          | 0/6 [00:00<?, ?it/s]"
      ]
     },
     "metadata": {},
     "output_type": "display_data"
    },
    {
     "data": {
      "application/vnd.jupyter.widget-view+json": {
       "model_id": "41a54b7015c04a6aad5a38e051453d87",
       "version_major": 2,
       "version_minor": 0
      },
      "text/plain": [
       "  0%|          | 0/6 [00:00<?, ?it/s]"
      ]
     },
     "metadata": {},
     "output_type": "display_data"
    },
    {
     "data": {
      "application/vnd.jupyter.widget-view+json": {
       "model_id": "ceb7442092ce415db1f8f90519910bd5",
       "version_major": 2,
       "version_minor": 0
      },
      "text/plain": [
       "  0%|          | 0/6 [00:00<?, ?it/s]"
      ]
     },
     "metadata": {},
     "output_type": "display_data"
    },
    {
     "data": {
      "application/vnd.jupyter.widget-view+json": {
       "model_id": "454a46e1b3e049149e698b0106277743",
       "version_major": 2,
       "version_minor": 0
      },
      "text/plain": [
       "  0%|          | 0/6 [00:00<?, ?it/s]"
      ]
     },
     "metadata": {},
     "output_type": "display_data"
    },
    {
     "data": {
      "application/vnd.jupyter.widget-view+json": {
       "model_id": "c9a5f187e0ad43419254fe54b8a641f2",
       "version_major": 2,
       "version_minor": 0
      },
      "text/plain": [
       "  0%|          | 0/6 [00:00<?, ?it/s]"
      ]
     },
     "metadata": {},
     "output_type": "display_data"
    },
    {
     "data": {
      "application/vnd.jupyter.widget-view+json": {
       "model_id": "d36d74c4b2bc42649205b25741bb590c",
       "version_major": 2,
       "version_minor": 0
      },
      "text/plain": [
       "  0%|          | 0/6 [00:00<?, ?it/s]"
      ]
     },
     "metadata": {},
     "output_type": "display_data"
    },
    {
     "data": {
      "application/vnd.jupyter.widget-view+json": {
       "model_id": "c69a88ec54f842b5b233f35e7ab3ff48",
       "version_major": 2,
       "version_minor": 0
      },
      "text/plain": [
       "  0%|          | 0/6 [00:00<?, ?it/s]"
      ]
     },
     "metadata": {},
     "output_type": "display_data"
    },
    {
     "data": {
      "application/vnd.jupyter.widget-view+json": {
       "model_id": "400fbc2586fb4323a74988cf44777c52",
       "version_major": 2,
       "version_minor": 0
      },
      "text/plain": [
       "  0%|          | 0/6 [00:00<?, ?it/s]"
      ]
     },
     "metadata": {},
     "output_type": "display_data"
    },
    {
     "data": {
      "application/vnd.jupyter.widget-view+json": {
       "model_id": "a7f489fdf1844c56a1360e585afc1c56",
       "version_major": 2,
       "version_minor": 0
      },
      "text/plain": [
       "  0%|          | 0/6 [00:00<?, ?it/s]"
      ]
     },
     "metadata": {},
     "output_type": "display_data"
    },
    {
     "data": {
      "application/vnd.jupyter.widget-view+json": {
       "model_id": "d6f16a95b21b4da2bf596971ff7fb862",
       "version_major": 2,
       "version_minor": 0
      },
      "text/plain": [
       "  0%|          | 0/6 [00:00<?, ?it/s]"
      ]
     },
     "metadata": {},
     "output_type": "display_data"
    },
    {
     "data": {
      "application/vnd.jupyter.widget-view+json": {
       "model_id": "3751b79d8a444e3d8a284718a118c847",
       "version_major": 2,
       "version_minor": 0
      },
      "text/plain": [
       "  0%|          | 0/6 [00:00<?, ?it/s]"
      ]
     },
     "metadata": {},
     "output_type": "display_data"
    },
    {
     "data": {
      "application/vnd.jupyter.widget-view+json": {
       "model_id": "a22bb2d19cda4433bd8bb4d5cd67f04e",
       "version_major": 2,
       "version_minor": 0
      },
      "text/plain": [
       "  0%|          | 0/6 [00:00<?, ?it/s]"
      ]
     },
     "metadata": {},
     "output_type": "display_data"
    },
    {
     "data": {
      "application/vnd.jupyter.widget-view+json": {
       "model_id": "3091d45f9ae542abb8c3716af8e38570",
       "version_major": 2,
       "version_minor": 0
      },
      "text/plain": [
       "  0%|          | 0/6 [00:00<?, ?it/s]"
      ]
     },
     "metadata": {},
     "output_type": "display_data"
    },
    {
     "data": {
      "application/vnd.jupyter.widget-view+json": {
       "model_id": "ecc16e969abc49baa9ea2ec3610cf26d",
       "version_major": 2,
       "version_minor": 0
      },
      "text/plain": [
       "  0%|          | 0/6 [00:00<?, ?it/s]"
      ]
     },
     "metadata": {},
     "output_type": "display_data"
    },
    {
     "data": {
      "application/vnd.jupyter.widget-view+json": {
       "model_id": "9aa61ae002ab43549d1b32e176c607f5",
       "version_major": 2,
       "version_minor": 0
      },
      "text/plain": [
       "  0%|          | 0/6 [00:00<?, ?it/s]"
      ]
     },
     "metadata": {},
     "output_type": "display_data"
    },
    {
     "data": {
      "application/vnd.jupyter.widget-view+json": {
       "model_id": "4afa835c7fce4ec59a5c53a45a0ca4e8",
       "version_major": 2,
       "version_minor": 0
      },
      "text/plain": [
       "  0%|          | 0/6 [00:00<?, ?it/s]"
      ]
     },
     "metadata": {},
     "output_type": "display_data"
    }
   ],
   "source": [
    "''' For positive and negatively modulated, excitatory speed cells, plot distribution of scores vs. shuffle in separate colors '''\n",
    "\n",
    "posscore = []\n",
    "posshuffscore = []\n",
    "posstabscore = []\n",
    "posshuffstabscore = []\n",
    "negscore = []\n",
    "negshuffscore = []\n",
    "negstabscore = []\n",
    "negshuffstabscore = []\n",
    "\n",
    "for m, session in zip(mice, sessions):\n",
    "    for s in tdqm(session):\n",
    "        d = data[m][s]\n",
    "        \n",
    "        #Load scores, intn boolean to filter out interneurons\n",
    "        rawdata_file = 'RAW_' + m + '_' + s + '.npy'\n",
    "        intn_file = 'intn_' + m + '_' + s + '.npy'\n",
    "        spikes_file = 'SPIKES_' + m + '_' + s +'.npy'\n",
    "        behavior_file = 'BEHAVIOR_' + m + '_' + s + '.npy'\n",
    "        \n",
    "        raw = np.load(load_folder + rawdata_file, allow_pickle=True)\n",
    "        cell_IDs = raw.item().get('cellsfil')\n",
    "        shufspeedscore = d['shufspeedscore']\n",
    "        shufspeedstabscore = d['shufspeedstabscore']\n",
    "        realspeed_score = d['speedscore'] \n",
    "        realspeedstab_score = d['speedstabscore'] \n",
    "        speedcell99 = d['speedcell99'].astype(bool)\n",
    "        speedcell1 = d['speedcell1'].astype(bool)\n",
    "        \n",
    "        intn_file = 'intn_' + m + '_' + s + '.npy'\n",
    "        d['intn'] = np.load(save_folder + intn_file, allow_pickle = True)\n",
    "        intn = d['intn'].astype(bool)\n",
    "\n",
    "        #get cell IDs, filtered behavioral/spike data, & relevant score\n",
    "        poscells = cell_IDs[(speedcell99 == 1) & (intn == 0)]\n",
    "        negcells = cell_IDs[(speedcell1 == 1) & (intn == 0)]\n",
    "        \n",
    "        for i, c in enumerate(poscells):\n",
    "            sdx = np.where(cell_IDs == c)[0][0]\n",
    "        \n",
    "            shuffscore = np.random.choice(np.ravel(shufspeedscore[:,sdx]))\n",
    "            shuffstabscore = np.random.choice(np.ravel(shufspeedstabscore[:,sdx]))\n",
    "            stabscore = realspeedstab_score[sdx]\n",
    "            score = realspeed_score[sdx]\n",
    "            \n",
    "            posscore = np.append(posscore,score)\n",
    "            posshuffscore = np.append(posshuffscore,shuffscore)\n",
    "            posstabscore = np.append(posstabscore,stabscore)\n",
    "            posshuffstabscore = np.append(posshuffstabscore,shuffstabscore)\n",
    "            \n",
    "        for i, c in enumerate(negcells):\n",
    "            sdx = np.where(cell_IDs == c)[0][0]\n",
    "            \n",
    "            shuffscore = np.random.choice(np.ravel(shufspeedscore[:,sdx]))\n",
    "            shuffstabscore = np.random.choice(np.ravel(shufspeedstabscore[:,sdx]))\n",
    "            stabscore = realspeedstab_score[sdx]\n",
    "            score = realspeed_score[sdx]\n",
    "\n",
    "            negscore = np.append(negscore,score)\n",
    "            negshuffscore = np.append(negshuffscore,shuffscore)\n",
    "            negstabscore = np.append(negstabscore,stabscore)\n",
    "            negshuffstabscore = np.append(negshuffstabscore,shuffstabscore)"
   ]
  },
  {
   "cell_type": "code",
   "execution_count": 57,
   "id": "4372a402",
   "metadata": {},
   "outputs": [
    {
     "name": "stdout",
     "output_type": "stream",
     "text": [
      "\n",
      "n pos speed cells, neg speed cells: \n",
      "11528 6548\n"
     ]
    },
    {
     "data": {
      "image/png": "[encoded data removed]",
      "text/plain": [
       "<Figure size 125x125 with 1 Axes>"
      ]
     },
     "metadata": {},
     "output_type": "display_data"
    },
    {
     "name": "stdout",
     "output_type": "stream",
     "text": [
      "\n",
      "Pos Speed Scores, Real vs. Shuffle Pairs:\n",
      "mean, SEM + speed cell score:\n",
      "0.19283799920635647 0.0008566168440621046\n",
      "mean, SEM shuffle + speed cell stab score:\n",
      "0.00030751884949412576 0.0005338327101672303\n",
      "stat = 1797.0\n",
      "p_cells = 0.0\n",
      "\n",
      "Neg Speed Scores, Real vs. Shuffle Pairs:\n",
      "mean, SEM - speed cell score:\n",
      "-0.2010307096306674 0.0014573509990108288\n",
      "mean, SEM shuffle - speed cell score:\n",
      "0.0002179825864153417 0.0006343270241210665\n",
      "stat = 70.0\n",
      "p_cells = 0.0\n",
      "\n",
      "Pos vs. Neg Speed Scores:\n",
      "stat = -111.92542898749825\n",
      "p_cells = 0.0\n"
     ]
    },
    {
     "data": {
      "image/png": "[encoded data removed]",
      "text/plain": [
       "<Figure size 125x125 with 1 Axes>"
      ]
     },
     "metadata": {},
     "output_type": "display_data"
    },
    {
     "name": "stdout",
     "output_type": "stream",
     "text": [
      "\n",
      "Pos Speed Stability Scores, Real vs. Shuffle Pairs:\n",
      "mean, SEM + speed cell stab score:\n",
      "0.1935772397943404 0.0008593708427473876\n",
      "mean, SEM shuffle + speed cell stab score:\n",
      "-0.0022639342072461282 0.0005501043881095109\n",
      "stat = 9813.0\n",
      "p_cells = 0.0\n",
      "\n",
      "Neg Speed Stability Scores, Real vs. Shuffle Pairs:\n",
      "mean, SEM - speed cell stab score:\n",
      "-0.20244188860287415 0.0014551207451516494\n",
      "mean, SEM shuffle - speed cell stab score:\n",
      "-0.001908877270049095 0.0006682015593879408\n",
      "stat = 9777.0\n",
      "p_cells = 0.0\n",
      "\n",
      "Pos vs. Neg Stability Scores:\n",
      "stat = -111.8877317080558\n",
      "p_cells = 0.0\n"
     ]
    }
   ],
   "source": [
    "''' For pos/neg speed cells, plot distribution of randomly selected shuffles vs. real score/stabscore (Plot Figure 6b-c) '''\n",
    "\n",
    "print('\\nn pos speed cells, neg speed cells: ')\n",
    "print(len(posstabscore), len(negstabscore))\n",
    "\n",
    "# Plot Figure 6b\n",
    "fig, ax = plt.subplots(figsize = (1.25,1.25))\n",
    "bins = np.arange(-1,1,0.01)\n",
    "\n",
    "#negative cells\n",
    "bscore, bin_edges = np.histogram(negscore, bins = bins)\n",
    "pdf = bscore / sum(bscore)\n",
    "\n",
    "shuffbscore, shuffbin_edges = np.histogram(negshuffscore, bins = bins)\n",
    "shuffpdf = shuffbscore / sum(shuffbscore)\n",
    "\n",
    "ax.plot(bin_edges[1:], pdf, linewidth = 0.75, color = 'r')\n",
    "ax.plot(shuffbin_edges[1:], shuffpdf, linewidth = 0.75, color = 'r', alpha = 0.5)\n",
    "\n",
    "#positive cells\n",
    "score, bin_edges = np.histogram(posscore, bins = bins)\n",
    "pdf = score / sum(score)\n",
    "\n",
    "shuffscore, shuffbin_edges = np.histogram(posshuffscore, bins = bins)\n",
    "shuffpdf = shuffscore / sum(shuffscore)\n",
    "\n",
    "ax.plot(bin_edges[1:], pdf, linewidth = 0.75, color = 'k')\n",
    "ax.plot(shuffbin_edges[1:], shuffpdf, linewidth = 0.75, color = 'k', alpha = 0.5)\n",
    "\n",
    "#format plot\n",
    "ax.set_ylabel('Probability', fontsize = 9)\n",
    "ax.set_xlabel('Speed Score', fontsize = 9)\n",
    "ax.set_xlim([-0.8,0.8])\n",
    "ax.set_ylim([0,0.11])\n",
    "plt.savefig(save_folder + 'speedscore.png', dpi=400, bbox_inches='tight')\n",
    "plt.savefig(save_folder + 'speedscore.svg', dpi=400, bbox_inches='tight')\n",
    "plt.show()\n",
    "\n",
    "#STATS for Figure 6b\n",
    "#score pos VS SHUFF\n",
    "print('\\nPos Speed Scores, Real vs. Shuffle Pairs:')\n",
    "print('mean, SEM + speed cell score:')\n",
    "print(np.nanmean(posscore), stats.sem(posscore, nan_policy = 'omit')) \n",
    "print('mean, SEM shuffle + speed cell stab score:')\n",
    "print(np.nanmean(posshuffscore), stats.sem(posshuffscore, nan_policy = 'omit')) \n",
    "stat, p_diff = stats.wilcoxon(posscore, posshuffscore)\n",
    "print('stat = ' + str(stat))\n",
    "print('p_cells = ' + str(p_diff))\n",
    "\n",
    "#score neg VS SHUFF\n",
    "print('\\nNeg Speed Scores, Real vs. Shuffle Pairs:')\n",
    "print('mean, SEM - speed cell score:')\n",
    "print(np.nanmean(negscore), stats.sem(negscore, nan_policy = 'omit')) \n",
    "print('mean, SEM shuffle - speed cell score:')\n",
    "print(np.nanmean(negshuffscore), stats.sem(negshuffscore, nan_policy = 'omit')) \n",
    "stat, p_diff = stats.wilcoxon(negscore[~np.isnan(negshuffscore)], negshuffscore[~np.isnan(negshuffscore)])\n",
    "print('stat = ' + str(stat))\n",
    "print('p_cells = ' + str(p_diff))\n",
    "\n",
    "#score pos VS neg\n",
    "print('\\nPos vs. Neg Speed Scores:')\n",
    "stat, p_diff = stats.ranksums(negscore, posscore)\n",
    "print('stat = ' + str(stat))\n",
    "print('p_cells = ' + str(p_diff))\n",
    "\n",
    "# Plot Figure 6c\n",
    "fig, ax = plt.subplots(figsize = (1.25,1.25))\n",
    "\n",
    "#negative cells\n",
    "bstabscore, bin_edges = np.histogram(negstabscore, bins = bins)\n",
    "pdf = bstabscore / sum(bstabscore)\n",
    "\n",
    "shuffstabscore, shuffbin_edges = np.histogram(negshuffstabscore, bins = bins)\n",
    "shuffpdf = shuffstabscore / sum(shuffstabscore)\n",
    "\n",
    "ax.plot(bin_edges[1:], pdf, linewidth = 0.75, color = 'r')\n",
    "ax.plot(shuffbin_edges[1:], shuffpdf, linewidth = 0.75, color = 'r', alpha = 0.5)\n",
    "\n",
    "#positive cells\n",
    "stabscore, bin_edges = np.histogram(posstabscore, bins = bins)\n",
    "pdf = stabscore / sum(stabscore)\n",
    "\n",
    "shuffgscore, shuffbin_edges = np.histogram(posshuffstabscore, bins = bins)\n",
    "shuffpdf = shuffstabscore / sum(shuffstabscore)\n",
    "ax.plot(bin_edges[1:], pdf, linewidth = 0.75, color = 'k')\n",
    "ax.plot(shuffbin_edges[1:], shuffpdf, linewidth = 0.75, color = 'k', alpha = 0.5)\n",
    "\n",
    "ax.set_ylabel('Probability', fontsize = 9)\n",
    "ax.set_xlabel('Speed Stability Score', fontsize = 9)\n",
    "ax.set_xlim([-0.8,0.8])\n",
    "ax.set_ylim([0,0.11])\n",
    "plt.savefig(save_folder + 'speedstabscore.png', dpi=400, bbox_inches='tight')\n",
    "plt.savefig(save_folder + 'speedsstabscore.svg', dpi=400, bbox_inches='tight')\n",
    "plt.show()\n",
    "\n",
    "#STATS for Figure 6c\n",
    "#stabscore pos VS SHUFF\n",
    "print('\\nPos Speed Stability Scores, Real vs. Shuffle Pairs:')\n",
    "print('mean, SEM + speed cell stab score:')\n",
    "print(np.nanmean(posstabscore), stats.sem(posstabscore, nan_policy = 'omit')) \n",
    "print('mean, SEM shuffle + speed cell stab score:')\n",
    "print(np.nanmean(posshuffstabscore), stats.sem(posshuffstabscore, nan_policy = 'omit')) \n",
    "stat, p_diff = stats.wilcoxon(posstabscore, posshuffstabscore)\n",
    "print('stat = ' + str(stat))\n",
    "print('p_cells = ' + str(p_diff))\n",
    "\n",
    "#stabscore neg VS SHUFF\n",
    "print('\\nNeg Speed Stability Scores, Real vs. Shuffle Pairs:')\n",
    "print('mean, SEM - speed cell stab score:')\n",
    "print(np.nanmean(negstabscore), stats.sem(negstabscore, nan_policy = 'omit')) \n",
    "print('mean, SEM shuffle - speed cell stab score:')\n",
    "print(np.nanmean(negshuffstabscore), stats.sem(negshuffstabscore, nan_policy = 'omit')) \n",
    "stat, p_diff = stats.wilcoxon(negstabscore[~np.isnan(negshuffstabscore)], negshuffstabscore[~np.isnan(negshuffstabscore)])\n",
    "print('stat = ' + str(stat))\n",
    "print('p_cells = ' + str(p_diff))\n",
    "\n",
    "#stabscore pos VS neg\n",
    "print('\\nPos vs. Neg Stability Scores:')\n",
    "stat, p_diff = stats.ranksums(negstabscore, posstabscore)\n",
    "print('stat = ' + str(stat))\n",
    "print('p_cells = ' + str(p_diff))\n",
    "\n"
   ]
  },
  {
   "cell_type": "code",
   "execution_count": 55,
   "id": "58b7910b",
   "metadata": {},
   "outputs": [
    {
     "name": "stdout",
     "output_type": "stream",
     "text": [
      "\n",
      "mean, SEM P99 shuffle speed scores\n",
      "0.11940495796289607 0.00022970900634407344\n",
      "\n",
      "mean, SEM P99 shuffle speed stab scores\n",
      "0.12385823579351325 0.00024016614530794565\n",
      "n cells across tasks: 64316\n"
     ]
    }
   ],
   "source": [
    "''' Report 99th percentile thresholds for each score'''\n",
    "print('\\nmean, SEM P99 shuffle speed scores')\n",
    "print(np.nanmean(P99score), stats.sem(P99score, nan_policy = 'omit'))\n",
    "\n",
    "print('\\nmean, SEM P99 shuffle speed stab scores')\n",
    "print(np.nanmean(P99stabscore), stats.sem(P99stabscore,nan_policy = 'omit'))\n",
    "\n",
    "print('\\nn total cells across tasks: ' + str(len(P99stabscore)))"
   ]
  },
  {
   "cell_type": "code",
   "execution_count": 63,
   "id": "2c518629",
   "metadata": {
    "scrolled": true
   },
   "outputs": [
    {
     "data": {
      "application/vnd.jupyter.widget-view+json": {
       "model_id": "e5114dcef4c940909ee7e4bb114bf8b9",
       "version_major": 2,
       "version_minor": 0
      },
      "text/plain": [
       "  0%|          | 0/6 [00:00<?, ?it/s]"
      ]
     },
     "metadata": {},
     "output_type": "display_data"
    },
    {
     "data": {
      "application/vnd.jupyter.widget-view+json": {
       "model_id": "e8d1b323fb3d49b49d62bb7220cf1011",
       "version_major": 2,
       "version_minor": 0
      },
      "text/plain": [
       "  0%|          | 0/6 [00:00<?, ?it/s]"
      ]
     },
     "metadata": {},
     "output_type": "display_data"
    },
    {
     "data": {
      "application/vnd.jupyter.widget-view+json": {
       "model_id": "c34c2654fb6245729c9c9c9584dda9d7",
       "version_major": 2,
       "version_minor": 0
      },
      "text/plain": [
       "  0%|          | 0/6 [00:00<?, ?it/s]"
      ]
     },
     "metadata": {},
     "output_type": "display_data"
    },
    {
     "data": {
      "application/vnd.jupyter.widget-view+json": {
       "model_id": "2d4a60cd75fe4827840de44ebd35ef09",
       "version_major": 2,
       "version_minor": 0
      },
      "text/plain": [
       "  0%|          | 0/6 [00:00<?, ?it/s]"
      ]
     },
     "metadata": {},
     "output_type": "display_data"
    },
    {
     "data": {
      "application/vnd.jupyter.widget-view+json": {
       "model_id": "44bdda2b08ff4855b548a6f38e549d6d",
       "version_major": 2,
       "version_minor": 0
      },
      "text/plain": [
       "  0%|          | 0/6 [00:00<?, ?it/s]"
      ]
     },
     "metadata": {},
     "output_type": "display_data"
    },
    {
     "data": {
      "application/vnd.jupyter.widget-view+json": {
       "model_id": "f70de55c12464c88bc4291dde56b2836",
       "version_major": 2,
       "version_minor": 0
      },
      "text/plain": [
       "  0%|          | 0/5 [00:00<?, ?it/s]"
      ]
     },
     "metadata": {},
     "output_type": "display_data"
    },
    {
     "data": {
      "application/vnd.jupyter.widget-view+json": {
       "model_id": "1255fd906a364b11ba23a537d222f46c",
       "version_major": 2,
       "version_minor": 0
      },
      "text/plain": [
       "  0%|          | 0/5 [00:00<?, ?it/s]"
      ]
     },
     "metadata": {},
     "output_type": "display_data"
    },
    {
     "data": {
      "application/vnd.jupyter.widget-view+json": {
       "model_id": "78394057d8f944889e28ea9c68957563",
       "version_major": 2,
       "version_minor": 0
      },
      "text/plain": [
       "  0%|          | 0/6 [00:00<?, ?it/s]"
      ]
     },
     "metadata": {},
     "output_type": "display_data"
    },
    {
     "data": {
      "application/vnd.jupyter.widget-view+json": {
       "model_id": "369ec3dd9e3c43b5b4de39cab7e3edde",
       "version_major": 2,
       "version_minor": 0
      },
      "text/plain": [
       "  0%|          | 0/6 [00:00<?, ?it/s]"
      ]
     },
     "metadata": {},
     "output_type": "display_data"
    },
    {
     "data": {
      "application/vnd.jupyter.widget-view+json": {
       "model_id": "e687228462594a02972b24841f0a3296",
       "version_major": 2,
       "version_minor": 0
      },
      "text/plain": [
       "  0%|          | 0/6 [00:00<?, ?it/s]"
      ]
     },
     "metadata": {},
     "output_type": "display_data"
    },
    {
     "data": {
      "application/vnd.jupyter.widget-view+json": {
       "model_id": "c0f918ad405e4f0588f4328955c55d77",
       "version_major": 2,
       "version_minor": 0
      },
      "text/plain": [
       "  0%|          | 0/5 [00:00<?, ?it/s]"
      ]
     },
     "metadata": {},
     "output_type": "display_data"
    },
    {
     "data": {
      "application/vnd.jupyter.widget-view+json": {
       "model_id": "b8b63c8797e44b70906ba408a25f26a7",
       "version_major": 2,
       "version_minor": 0
      },
      "text/plain": [
       "  0%|          | 0/3 [00:00<?, ?it/s]"
      ]
     },
     "metadata": {},
     "output_type": "display_data"
    },
    {
     "data": {
      "application/vnd.jupyter.widget-view+json": {
       "model_id": "a9a6f0217cca46b4b594fd233e0888b6",
       "version_major": 2,
       "version_minor": 0
      },
      "text/plain": [
       "  0%|          | 0/6 [00:00<?, ?it/s]"
      ]
     },
     "metadata": {},
     "output_type": "display_data"
    },
    {
     "data": {
      "application/vnd.jupyter.widget-view+json": {
       "model_id": "c4f8957741c6459aa270b27d2bd32def",
       "version_major": 2,
       "version_minor": 0
      },
      "text/plain": [
       "  0%|          | 0/6 [00:00<?, ?it/s]"
      ]
     },
     "metadata": {},
     "output_type": "display_data"
    },
    {
     "data": {
      "application/vnd.jupyter.widget-view+json": {
       "model_id": "6b799ac89dd14835ac7b47a67902f4c6",
       "version_major": 2,
       "version_minor": 0
      },
      "text/plain": [
       "  0%|          | 0/6 [00:00<?, ?it/s]"
      ]
     },
     "metadata": {},
     "output_type": "display_data"
    },
    {
     "data": {
      "application/vnd.jupyter.widget-view+json": {
       "model_id": "d4676e00e3af49e09245c799445c9bde",
       "version_major": 2,
       "version_minor": 0
      },
      "text/plain": [
       "  0%|          | 0/2 [00:00<?, ?it/s]"
      ]
     },
     "metadata": {},
     "output_type": "display_data"
    },
    {
     "data": {
      "application/vnd.jupyter.widget-view+json": {
       "model_id": "96d1f6a00b884356803532bf3bf09ce6",
       "version_major": 2,
       "version_minor": 0
      },
      "text/plain": [
       "  0%|          | 0/3 [00:00<?, ?it/s]"
      ]
     },
     "metadata": {},
     "output_type": "display_data"
    },
    {
     "data": {
      "application/vnd.jupyter.widget-view+json": {
       "model_id": "637dd2fa3c8f4e6b9d39c634d9010b6a",
       "version_major": 2,
       "version_minor": 0
      },
      "text/plain": [
       "  0%|          | 0/6 [00:00<?, ?it/s]"
      ]
     },
     "metadata": {},
     "output_type": "display_data"
    },
    {
     "data": {
      "application/vnd.jupyter.widget-view+json": {
       "model_id": "c35e55d0a3aa4d51a4479602a266bd48",
       "version_major": 2,
       "version_minor": 0
      },
      "text/plain": [
       "  0%|          | 0/4 [00:00<?, ?it/s]"
      ]
     },
     "metadata": {},
     "output_type": "display_data"
    },
    {
     "data": {
      "application/vnd.jupyter.widget-view+json": {
       "model_id": "706e63a0c3444fc69d32f66e889080af",
       "version_major": 2,
       "version_minor": 0
      },
      "text/plain": [
       "  0%|          | 0/6 [00:00<?, ?it/s]"
      ]
     },
     "metadata": {},
     "output_type": "display_data"
    },
    {
     "data": {
      "application/vnd.jupyter.widget-view+json": {
       "model_id": "2660e22cf1e04fa085a49f570818e4a1",
       "version_major": 2,
       "version_minor": 0
      },
      "text/plain": [
       "  0%|          | 0/6 [00:00<?, ?it/s]"
      ]
     },
     "metadata": {},
     "output_type": "display_data"
    },
    {
     "data": {
      "application/vnd.jupyter.widget-view+json": {
       "model_id": "3a8e864b46564e9f9c924d704f9f518a",
       "version_major": 2,
       "version_minor": 0
      },
      "text/plain": [
       "  0%|          | 0/6 [00:00<?, ?it/s]"
      ]
     },
     "metadata": {},
     "output_type": "display_data"
    },
    {
     "data": {
      "application/vnd.jupyter.widget-view+json": {
       "model_id": "38abc05d6aca4acaa5e69968de7c86db",
       "version_major": 2,
       "version_minor": 0
      },
      "text/plain": [
       "  0%|          | 0/6 [00:00<?, ?it/s]"
      ]
     },
     "metadata": {},
     "output_type": "display_data"
    },
    {
     "data": {
      "application/vnd.jupyter.widget-view+json": {
       "model_id": "8b6c481ab4394ff08b4d83ae10d8112c",
       "version_major": 2,
       "version_minor": 0
      },
      "text/plain": [
       "  0%|          | 0/6 [00:00<?, ?it/s]"
      ]
     },
     "metadata": {},
     "output_type": "display_data"
    },
    {
     "data": {
      "application/vnd.jupyter.widget-view+json": {
       "model_id": "e31044b021cc41eda18ac2787daf4f33",
       "version_major": 2,
       "version_minor": 0
      },
      "text/plain": [
       "  0%|          | 0/6 [00:00<?, ?it/s]"
      ]
     },
     "metadata": {},
     "output_type": "display_data"
    },
    {
     "data": {
      "application/vnd.jupyter.widget-view+json": {
       "model_id": "64eaf6121ff54c42818162fcdbe0dcd6",
       "version_major": 2,
       "version_minor": 0
      },
      "text/plain": [
       "  0%|          | 0/6 [00:00<?, ?it/s]"
      ]
     },
     "metadata": {},
     "output_type": "display_data"
    },
    {
     "data": {
      "application/vnd.jupyter.widget-view+json": {
       "model_id": "ae27d523091f4280beb5ab735b5ea6e3",
       "version_major": 2,
       "version_minor": 0
      },
      "text/plain": [
       "  0%|          | 0/6 [00:00<?, ?it/s]"
      ]
     },
     "metadata": {},
     "output_type": "display_data"
    },
    {
     "data": {
      "application/vnd.jupyter.widget-view+json": {
       "model_id": "bd1e981939c145f2b7b42c49a56efbee",
       "version_major": 2,
       "version_minor": 0
      },
      "text/plain": [
       "  0%|          | 0/4 [00:00<?, ?it/s]"
      ]
     },
     "metadata": {},
     "output_type": "display_data"
    },
    {
     "data": {
      "application/vnd.jupyter.widget-view+json": {
       "model_id": "f31a19c8481c4cee9f611f08fb3487a2",
       "version_major": 2,
       "version_minor": 0
      },
      "text/plain": [
       "  0%|          | 0/6 [00:00<?, ?it/s]"
      ]
     },
     "metadata": {},
     "output_type": "display_data"
    },
    {
     "data": {
      "application/vnd.jupyter.widget-view+json": {
       "model_id": "214aa0ecf9c9423c9947685d1142cef9",
       "version_major": 2,
       "version_minor": 0
      },
      "text/plain": [
       "  0%|          | 0/6 [00:00<?, ?it/s]"
      ]
     },
     "metadata": {},
     "output_type": "display_data"
    },
    {
     "data": {
      "application/vnd.jupyter.widget-view+json": {
       "model_id": "1ff5693bffc1440781af67a6c5029908",
       "version_major": 2,
       "version_minor": 0
      },
      "text/plain": [
       "  0%|          | 0/6 [00:00<?, ?it/s]"
      ]
     },
     "metadata": {},
     "output_type": "display_data"
    },
    {
     "data": {
      "application/vnd.jupyter.widget-view+json": {
       "model_id": "54e35380f7d645a892d659db659d1984",
       "version_major": 2,
       "version_minor": 0
      },
      "text/plain": [
       "  0%|          | 0/6 [00:00<?, ?it/s]"
      ]
     },
     "metadata": {},
     "output_type": "display_data"
    },
    {
     "data": {
      "application/vnd.jupyter.widget-view+json": {
       "model_id": "5105516786844db69f294551896bc073",
       "version_major": 2,
       "version_minor": 0
      },
      "text/plain": [
       "  0%|          | 0/6 [00:00<?, ?it/s]"
      ]
     },
     "metadata": {},
     "output_type": "display_data"
    },
    {
     "data": {
      "application/vnd.jupyter.widget-view+json": {
       "model_id": "dd6f761b5f6d499ab68a5e1a7cb89c49",
       "version_major": 2,
       "version_minor": 0
      },
      "text/plain": [
       "  0%|          | 0/6 [00:00<?, ?it/s]"
      ]
     },
     "metadata": {},
     "output_type": "display_data"
    },
    {
     "data": {
      "application/vnd.jupyter.widget-view+json": {
       "model_id": "44bc687f05db47d9ad05ec8ffad01c72",
       "version_major": 2,
       "version_minor": 0
      },
      "text/plain": [
       "  0%|          | 0/6 [00:00<?, ?it/s]"
      ]
     },
     "metadata": {},
     "output_type": "display_data"
    },
    {
     "data": {
      "application/vnd.jupyter.widget-view+json": {
       "model_id": "c07ddee5b69c495da7893bac6c52bf23",
       "version_major": 2,
       "version_minor": 0
      },
      "text/plain": [
       "  0%|          | 0/6 [00:00<?, ?it/s]"
      ]
     },
     "metadata": {},
     "output_type": "display_data"
    },
    {
     "data": {
      "application/vnd.jupyter.widget-view+json": {
       "model_id": "132b7714d42c445b823a419e0ad7508b",
       "version_major": 2,
       "version_minor": 0
      },
      "text/plain": [
       "  0%|          | 0/6 [00:00<?, ?it/s]"
      ]
     },
     "metadata": {},
     "output_type": "display_data"
    },
    {
     "data": {
      "application/vnd.jupyter.widget-view+json": {
       "model_id": "e15cd88a1a7c4d548dfcdc0477bced3d",
       "version_major": 2,
       "version_minor": 0
      },
      "text/plain": [
       "  0%|          | 0/6 [00:00<?, ?it/s]"
      ]
     },
     "metadata": {},
     "output_type": "display_data"
    },
    {
     "data": {
      "application/vnd.jupyter.widget-view+json": {
       "model_id": "93dfba3caea54f2d802d024af9db1794",
       "version_major": 2,
       "version_minor": 0
      },
      "text/plain": [
       "  0%|          | 0/6 [00:00<?, ?it/s]"
      ]
     },
     "metadata": {},
     "output_type": "display_data"
    },
    {
     "data": {
      "application/vnd.jupyter.widget-view+json": {
       "model_id": "f727d7c1eac445e3b3ea239843d0202f",
       "version_major": 2,
       "version_minor": 0
      },
      "text/plain": [
       "  0%|          | 0/6 [00:00<?, ?it/s]"
      ]
     },
     "metadata": {},
     "output_type": "display_data"
    },
    {
     "data": {
      "application/vnd.jupyter.widget-view+json": {
       "model_id": "a183a5395737438ca65da2ba1cbd174d",
       "version_major": 2,
       "version_minor": 0
      },
      "text/plain": [
       "  0%|          | 0/6 [00:00<?, ?it/s]"
      ]
     },
     "metadata": {},
     "output_type": "display_data"
    },
    {
     "data": {
      "application/vnd.jupyter.widget-view+json": {
       "model_id": "efb53a0881e444b8a935ef43a40709dd",
       "version_major": 2,
       "version_minor": 0
      },
      "text/plain": [
       "  0%|          | 0/6 [00:00<?, ?it/s]"
      ]
     },
     "metadata": {},
     "output_type": "display_data"
    },
    {
     "data": {
      "application/vnd.jupyter.widget-view+json": {
       "model_id": "dc61e8bf5bb54851bb37ccf872b32455",
       "version_major": 2,
       "version_minor": 0
      },
      "text/plain": [
       "  0%|          | 0/6 [00:00<?, ?it/s]"
      ]
     },
     "metadata": {},
     "output_type": "display_data"
    },
    {
     "data": {
      "application/vnd.jupyter.widget-view+json": {
       "model_id": "17db3fa0e80243e79029978ee9cc8f12",
       "version_major": 2,
       "version_minor": 0
      },
      "text/plain": [
       "  0%|          | 0/6 [00:00<?, ?it/s]"
      ]
     },
     "metadata": {},
     "output_type": "display_data"
    },
    {
     "data": {
      "application/vnd.jupyter.widget-view+json": {
       "model_id": "f67e0722e69541bd8067b572493e172a",
       "version_major": 2,
       "version_minor": 0
      },
      "text/plain": [
       "  0%|          | 0/6 [00:00<?, ?it/s]"
      ]
     },
     "metadata": {},
     "output_type": "display_data"
    }
   ],
   "source": [
    "'''Collect Speed Cell FR Slope'''\n",
    "# set up arrays for plotting by session \n",
    "sslope99 = []\n",
    "sslope1 = []\n",
    "\n",
    "#arrays for density of +/- speed cells \n",
    "sper99 = []\n",
    "sper1 = []\n",
    "mper99 = []\n",
    "mper1 = []\n",
    "\n",
    "dt = 0.02\n",
    "\n",
    "for m, session in zip(mice,sessions):\n",
    "    m_cells = []\n",
    "    m_99 = []\n",
    "    m_1 = []\n",
    "    \n",
    "    for s in tdqm(session):\n",
    "        d = data[m][s]\n",
    "    \n",
    "        #get file names & load data necessary\n",
    "        rawdata_file = 'RAW_' + m + '_' + s + '.npy'\n",
    "        spikes_file = 'SPIKES_' + m + '_' + s +'.npy'\n",
    "        behavior_file = 'BEHAVIOR_' + m + '_' + s + '.npy'\n",
    "        A_file = 'A_' + m + '_' + s + '.npy'\n",
    "\n",
    "        raw = np.load(load_folder + rawdata_file, allow_pickle=True)\n",
    "        behaviorfil = np.load(load_folder + behavior_file, allow_pickle=False)\n",
    "        \n",
    "        A = np.load(save_folder + A_file)\n",
    "        speed = behaviorfil[:,1]\n",
    "       \n",
    "        #get dict-stored data\n",
    "        cell_IDs = raw.item().get('cellsfil')\n",
    "        intn = d['intn'].astype(bool)\n",
    "        speedcell99 = d['speedcell99']\n",
    "        speedcell1 = d['speedcell1']\n",
    "        speedcells99 = cell_IDs[(speedcell99 == 1) & (intn == 0)]\n",
    "        speedcells1 = cell_IDs[(speedcell1 == 1) & (intn == 0)]\n",
    "        \n",
    "        sper99 = np.append(sper99, 100*len(speedcells99)/len(cell_IDs))\n",
    "        sper1 = np.append(sper1, 100*len(speedcells1)/len(cell_IDs))\n",
    "        \n",
    "        #get slopes for each speed cell population\n",
    "        slope99 = []\n",
    "        for i, c in enumerate(speedcells99):\n",
    "            sdx = (np.where(cell_IDs==c)[0][0]).astype(int)\n",
    "            \n",
    "            #get slope/FR and convert to Hz/speed\n",
    "            slopeFR, intFR, r_value, p_val, std_err = stats.linregress(speed, A[:,sdx])\n",
    "            slopeFR = slopeFR/dt\n",
    "            intFR = intFR/dt\n",
    "            slope99 = np.append(slope99,slopeFR) #FR/speed slope\n",
    "            \n",
    "        slope1 = []\n",
    "        for i, c in enumerate(speedcells1):\n",
    "            sdx = (np.where(cell_IDs==c)[0][0]).astype(int)\n",
    "            \n",
    "            #get slope/FR and convert to Hz/speed\n",
    "            slopeFR, intFR, r_value, p_val, std_err = stats.linregress(speed, A[:,sdx])\n",
    "            slopeFR = slopeFR/dt\n",
    "            intFR = intFR/dt\n",
    "            slope1 = np.append(slope1,slopeFR) #FR/speed slope\n",
    "        \n",
    "        #pool data into session arrays    \n",
    "        sslope99 = np.append(sslope99, np.mean(slope99))\n",
    "        sslope1 = np.append(sslope1, np.mean(slope1))\n",
    "        m_cells = np.append(m_cells, len(cell_IDs))\n",
    "        m_99 = np.append(m_99, len(speedcells99))\n",
    "        m_1 = np.append(m_1, len(speedcells1))\n",
    "        \n",
    "    mper99 = np.append(mper99, 100*np.sum(m_99)/np.sum(m_cells))\n",
    "    mper1 = np.append(mper1, 100*np.sum(m_1)/np.sum(m_cells))"
   ]
  },
  {
   "cell_type": "code",
   "execution_count": 162,
   "id": "9b989fa0",
   "metadata": {},
   "outputs": [
    {
     "name": "stdout",
     "output_type": "stream",
     "text": [
      "98 58 97\n"
     ]
    },
    {
     "data": {
      "image/png": "[encoded data removed]",
      "text/plain": [
       "<Figure size 125x125 with 1 Axes>"
      ]
     },
     "metadata": {},
     "output_type": "display_data"
    }
   ],
   "source": [
    "print(len(y_sind),len(ma_sind),len(age_sind))\n",
    "#manuscript version\n",
    "fig, ax = plt.subplots(figsize = (1.25,1.25))\n",
    "sper = [sper99[y_sind99], sper99[ma_sind99], sper99[age_sind99]]\n",
    "labels = ['Young','MA','Aged']\n",
    "w = 0.5\n",
    "plt.boxplot(sper, widths = w, labels = labels, medianprops = dict(color = 'black'))\n",
    "\n",
    "for i in range(len(sper)):\n",
    "    y = sper[i]\n",
    "    x = np.random.normal(i + 1, 0.04, len(y))\n",
    "    plt.scatter(x, y, color = col_session99[i], edgecolors = col_session99[i], s = 10)\n",
    "            \n",
    "#ax.legend(ncol = 3, handles = handles, labels = label_mice, loc = 'upper right',bbox_to_anchor=(1.8, 1))\n",
    "ax.set_title('+ Speed Cells', fontsize=10, pad=5)\n",
    "ax.set_xlabel('Age', fontsize=9, labelpad=1)\n",
    "ax.set_ylabel('% + Speed Cells', fontsize = 9, labelpad=1)\n",
    "ax.tick_params(labelsize = 8)\n",
    "ax.set_ylim([0,50])\n",
    "ax.set_yticks([0,10,20,30,40,50])\n",
    "#plt.savefig(save_folder + 'age_speedcelldensity99_session.png', dpi=400, bbox_inches='tight')\n",
    "#plt.savefig(save_folder + 'age_speedcelldensity99_session.svg', dpi=400, bbox_inches='tight')\n",
    "plt.show()"
   ]
  },
  {
   "cell_type": "code",
   "execution_count": 65,
   "id": "8c6be8d8",
   "metadata": {},
   "outputs": [],
   "source": [
    "''' Find where I will have NaNs due to 0% speed cells in a given Session'''\n",
    "nan_idx99 = np.where((sper99 == 0))[0]\n",
    "nan_idx1 = np.where((sper1 == 0))[0]\n",
    "\n",
    "# Adjust y_sind, ma_sind, age_sind for subsequent plots\n",
    "y_sind99 = np.setdiff1d(y_sind, nan_idx99)\n",
    "ma_sind99 = np.setdiff1d(ma_sind, nan_idx99)\n",
    "age_sind99 = np.setdiff1d(age_sind, nan_idx99)\n",
    "\n",
    "y_sind1 = np.setdiff1d(y_sind, nan_idx1)\n",
    "ma_sind1 = np.setdiff1d(ma_sind, nan_idx1)\n",
    "age_sind1 = np.setdiff1d(age_sind, nan_idx1)\n",
    "\n",
    "#adjust colormaps\n",
    "yidx = []\n",
    "maidx = []\n",
    "aidx = []\n",
    "for i in nan_idx99:\n",
    "    yidx = np.append(yidx, np.where(y_sind == i)[0].astype(int))\n",
    "    maidx = np.append(maidx, np.where(ma_sind == i)[0].astype(int))\n",
    "    aidx = np.append(aidx, np.where(age_sind == i)[0].astype(int))\n",
    "    \n",
    "col_session_young99 = np.delete(col_session_young, list(yidx.astype(int)), axis = 0)\n",
    "col_session_ma99 = np.delete(col_session_MA, list(maidx.astype(int)), axis = 0)\n",
    "col_session_old99 = np.delete(col_session_old, list(aidx.astype(int)), axis = 0)\n",
    "col_session99 = [col_session_young99, col_session_ma99, col_session_old99] \n",
    "\n",
    "yidx = []\n",
    "maidx = []\n",
    "aidx = []\n",
    "for i in nan_idx1:\n",
    "    yidx = np.append(yidx, np.where(y_sind == i)[0].astype(int))\n",
    "    maidx = np.append(maidx, np.where(ma_sind == i)[0].astype(int))\n",
    "    aidx = np.append(aidx, np.where(age_sind == i)[0].astype(int))\n",
    "    \n",
    "col_session_young1 = np.delete(col_session_young, list(yidx.astype(int)), axis = 0)\n",
    "col_session_ma1 = np.delete(col_session_MA, list(maidx.astype(int)), axis = 0)\n",
    "col_session_old1 = np.delete(col_session_old, list(aidx.astype(int)), axis = 0)\n",
    "col_session1 = [col_session_young1, col_session_ma1, col_session_old1]       \n",
    "\n",
    "# This will fix how session stats & box plots are plotted, ensuring color schemes are adjusted."
   ]
  },
  {
   "cell_type": "code",
   "execution_count": 68,
   "id": "9c038ebb",
   "metadata": {},
   "outputs": [
    {
     "data": {
      "image/png": "[encoded data removed]",
      "text/plain": [
       "<Figure size 150x125 with 1 Axes>"
      ]
     },
     "metadata": {},
     "output_type": "display_data"
    },
    {
     "data": {
      "image/png": "[encoded data removed]",
      "text/plain": [
       "<Figure size 150x125 with 1 Axes>"
      ]
     },
     "metadata": {},
     "output_type": "display_data"
    }
   ],
   "source": [
    "''' Plot Figure 6d '''\n",
    "\n",
    "#set up handles\n",
    "from itertools import repeat\n",
    "handles = []\n",
    "mper = [mper1[y_ind], mper1[ma_ind], mper1[age_ind]]\n",
    "\n",
    "for i in range(len(mper)):    \n",
    "    for c in col_animal[i][0]:\n",
    "        dot = mlines.Line2D([],[], color = c, marker ='o', linestyle = 'None', markersize = 8)\n",
    "        handles.append(dot)\n",
    "        if c[0] == col_animal[1][0][9][0]: # adds white space so columns are color sorted\n",
    "            l = mlines.Line2D([0],[0],color=\"w\")\n",
    "            handles.extend(repeat(l,7))\n",
    "               \n",
    "#Plot Figure 6d (left)\n",
    "fig, ax = plt.subplots(figsize = (1.5,1.25))\n",
    "sslope = [sslope99[y_sind99], sslope99[ma_sind99], sslope99[age_sind99]]\n",
    "labels = ['Young','MA','Aged']\n",
    "w = 0.5\n",
    "plt.boxplot(sslope, widths = w, labels = labels, medianprops = dict(color = 'black'))\n",
    "\n",
    "for i in range(len(sslope)):\n",
    "    y = sslope[i]\n",
    "    x = np.random.normal(i + 1, 0.04, len(y))\n",
    "    plt.scatter(x, y, color = col_session99[i], edgecolors = col_session99[i], s = 10)\n",
    "            \n",
    "#ax.legend(ncol = 3, handles = handles, labels = label_mice, loc = 'upper right',bbox_to_anchor=(1.8, 1))\n",
    "ax.set_title('+ Speed Cells', fontsize=10, pad=5)\n",
    "ax.set_xlabel('Age', fontsize=9, labelpad=1)\n",
    "ax.set_ylabel('Mean Slope (Hz / (cm / s))', fontsize = 9, labelpad=1)\n",
    "ax.tick_params(labelsize = 8)\n",
    "ax.set_ylim([0,0.2])\n",
    "ax.set_yticks([0,0.05,0.1,0.15,0.2])\n",
    "#plt.savefig(save_folder + 'age_speedcellslope99_session.png', dpi=400, bbox_inches='tight')\n",
    "#plt.savefig(save_folder + 'age_speedcellslope99_session.svg', dpi=400, bbox_inches='tight')\n",
    "plt.show()\n",
    "\n",
    "#Plot Figure 6d (right)\n",
    "fig, ax = plt.subplots(figsize = (1.5,1.25))\n",
    "sslope = [sslope1[y_sind1], sslope1[ma_sind1], sslope1[age_sind1]]\n",
    "labels = ['Young','MA','Aged']\n",
    "w = 0.5\n",
    "plt.boxplot(sslope, widths = w, labels = labels, medianprops = dict(color = 'black'))\n",
    "\n",
    "for i in range(len(sslope)):\n",
    "    y = sslope[i]\n",
    "    x = np.random.normal(i + 1, 0.04, len(y))\n",
    "    plt.scatter(x, y, color = col_session1[i], edgecolors = col_session1[i], s = 10)\n",
    "            \n",
    "#ax.legend(ncol = 3, handles = handles, labels = label_mice, loc = 'upper right',bbox_to_anchor=(1.8, 1))\n",
    "ax.set_title('- Speed Cells', fontsize=10, pad=5)\n",
    "ax.set_xlabel('Age', fontsize=9, labelpad=1)\n",
    "ax.set_ylabel('Mean Slope (Hz / (cm / s))', fontsize = 9, labelpad=1)\n",
    "ax.tick_params(labelsize = 8)\n",
    "ax.set_ylim([-0.2,0.05])\n",
    "ax.set_yticks([-0.2,-0.15,-0.1,-0.05,0, 0.05])\n",
    "#plt.savefig(save_folder + 'age_speedcellslope1_session.png', dpi=400, bbox_inches='tight')\n",
    "#plt.savefig(save_folder + 'age_speedcellslope1_session.svg', dpi=400, bbox_inches='tight')\n",
    "plt.show()"
   ]
  },
  {
   "cell_type": "code",
   "execution_count": 69,
   "id": "eb553fcf",
   "metadata": {},
   "outputs": [
    {
     "name": "stdout",
     "output_type": "stream",
     "text": [
      "\n",
      "speedcellslopeyoung ± SEM; speedcellslope_MA ± SEM; speedcellslope_old ± SEM\n",
      "0.0445 ± 0.0015 ; 0.0508 ± 0.0027 ; 0.0556 ± 0.0026\n",
      "stat = 15.152660049457381\n",
      "p_session = 0.0005124384125900913\n"
     ]
    },
    {
     "data": {
      "text/html": [
       "<div>\n",
       "<style scoped>\n",
       "    .dataframe tbody tr th:only-of-type {\n",
       "        vertical-align: middle;\n",
       "    }\n",
       "\n",
       "    .dataframe tbody tr th {\n",
       "        vertical-align: top;\n",
       "    }\n",
       "\n",
       "    .dataframe thead th {\n",
       "        text-align: right;\n",
       "    }\n",
       "</style>\n",
       "<table border=\"1\" class=\"dataframe\">\n",
       "  <thead>\n",
       "    <tr style=\"text-align: right;\">\n",
       "      <th></th>\n",
       "      <th>1.0</th>\n",
       "      <th>2.0</th>\n",
       "      <th>3.0</th>\n",
       "    </tr>\n",
       "  </thead>\n",
       "  <tbody>\n",
       "    <tr>\n",
       "      <th>1.0</th>\n",
       "      <td>1.000000</td>\n",
       "      <td>0.111112</td>\n",
       "      <td>0.000256</td>\n",
       "    </tr>\n",
       "    <tr>\n",
       "      <th>2.0</th>\n",
       "      <td>0.111112</td>\n",
       "      <td>1.000000</td>\n",
       "      <td>0.123937</td>\n",
       "    </tr>\n",
       "    <tr>\n",
       "      <th>3.0</th>\n",
       "      <td>0.000256</td>\n",
       "      <td>0.123937</td>\n",
       "      <td>1.000000</td>\n",
       "    </tr>\n",
       "  </tbody>\n",
       "</table>\n",
       "</div>"
      ],
      "text/plain": [
       "          1.0       2.0       3.0\n",
       "1.0  1.000000  0.111112  0.000256\n",
       "2.0  0.111112  1.000000  0.123937\n",
       "3.0  0.000256  0.123937  1.000000"
      ]
     },
     "execution_count": 69,
     "metadata": {},
     "output_type": "execute_result"
    }
   ],
   "source": [
    "''' Statistics for Figure 6d (left) '''\n",
    "print('\\nn young, MA, sessions with + speed cells:')\n",
    "print(len(y_sind99),len(ma_sind99), len(age_sind99))\n",
    "\n",
    "print('\\nspeedcellslopeyoung ± SEM; speedcellslope_MA ± SEM; speedcellslope_old ± SEM')\n",
    "print(str(np.round(np.mean(sslope99[y_sind99]), 4)) + ' ± ' + str(np.round(stats.sem(sslope99[y_sind99]), 4)) + ' ; ' \n",
    "      + str(np.round(np.mean(sslope99[ma_sind99]), 4)) + ' ± ' + str(np.round(stats.sem(sslope99[ma_sind99]), 4)) + ' ; ' \n",
    "      + str(np.round(np.mean(sslope99[age_sind99]), 4)) + ' ± ' + str(np.round(stats.sem(sslope99[age_sind99]), 4)))\n",
    "\n",
    "stat, p_diff = stats.kruskal(sslope99[y_sind99],sslope99[ma_sind99],sslope99[age_sind99])\n",
    "print('stat = ' + str(stat))\n",
    "print('p_session = ' + str(p_diff))\n",
    "\n",
    "#get what you need for multiple comparisons\n",
    "import statsmodels.api as sm\n",
    "import scikit_posthocs as ph\n",
    "\n",
    "#make into dataframe\n",
    "seshmice = []\n",
    "seshcount = []\n",
    "seshage = []\n",
    "for m, session in zip(mice, sessions):\n",
    "    age =  np.array(animalmeta.loc[(animalmeta.Animal_ID == m),'Age_Group'])\n",
    "    totalsesh = len(session)\n",
    "    \n",
    "    for i, s in enumerate(session):\n",
    "        seshmice = np.append(seshmice, m)\n",
    "        seshcount = np.append(seshcount, (i + 1))\n",
    "        seshage = np.append(seshage, age)\n",
    "\n",
    "# Collect all relevant data into pandas dataframe\n",
    "allidx = np.concatenate((y_sind99,ma_sind99,age_sind99))\n",
    "Animal_ID = list(seshmice[allidx])\n",
    "Session = list(seshcount[allidx])\n",
    "Age_Group = list(seshage[allidx])\n",
    "Slopepos = list(sslope99[allidx])\n",
    "\n",
    "tuples = list(zip(Animal_ID, Session, Age_Group, Slopepos))\n",
    "tuples\n",
    "\n",
    "df = pd.DataFrame(tuples, columns = ['AnimalID', 'Session', 'AgeGroup','slopepos'])\n",
    "df = df.dropna(axis = 0)\n",
    "\n",
    "#run post hoc tests\n",
    "ph.posthoc_conover(df, val_col = 'slopepos', group_col = 'AgeGroup', p_adjust = 'holm')"
   ]
  },
  {
   "cell_type": "code",
   "execution_count": 70,
   "id": "6d0e9f78",
   "metadata": {},
   "outputs": [
    {
     "name": "stdout",
     "output_type": "stream",
     "text": [
      "speedcellslopeyoung ± SEM; speedcellslope_MA ± SEM; speedcellslope_old ± SEM\n",
      "-0.0366 ± 0.0024 ; -0.0432 ± 0.004 ; -0.05 ± 0.0026\n",
      "stat = 24.32554182335332\n",
      "p_session = 5.221264668905101e-06\n"
     ]
    },
    {
     "data": {
      "text/html": [
       "<div>\n",
       "<style scoped>\n",
       "    .dataframe tbody tr th:only-of-type {\n",
       "        vertical-align: middle;\n",
       "    }\n",
       "\n",
       "    .dataframe tbody tr th {\n",
       "        vertical-align: top;\n",
       "    }\n",
       "\n",
       "    .dataframe thead th {\n",
       "        text-align: right;\n",
       "    }\n",
       "</style>\n",
       "<table border=\"1\" class=\"dataframe\">\n",
       "  <thead>\n",
       "    <tr style=\"text-align: right;\">\n",
       "      <th></th>\n",
       "      <th>1.0</th>\n",
       "      <th>2.0</th>\n",
       "      <th>3.0</th>\n",
       "    </tr>\n",
       "  </thead>\n",
       "  <tbody>\n",
       "    <tr>\n",
       "      <th>1.0</th>\n",
       "      <td>1.000000</td>\n",
       "      <td>0.081584</td>\n",
       "      <td>0.000002</td>\n",
       "    </tr>\n",
       "    <tr>\n",
       "      <th>2.0</th>\n",
       "      <td>0.081584</td>\n",
       "      <td>1.000000</td>\n",
       "      <td>0.013550</td>\n",
       "    </tr>\n",
       "    <tr>\n",
       "      <th>3.0</th>\n",
       "      <td>0.000002</td>\n",
       "      <td>0.013550</td>\n",
       "      <td>1.000000</td>\n",
       "    </tr>\n",
       "  </tbody>\n",
       "</table>\n",
       "</div>"
      ],
      "text/plain": [
       "          1.0       2.0       3.0\n",
       "1.0  1.000000  0.081584  0.000002\n",
       "2.0  0.081584  1.000000  0.013550\n",
       "3.0  0.000002  0.013550  1.000000"
      ]
     },
     "execution_count": 70,
     "metadata": {},
     "output_type": "execute_result"
    }
   ],
   "source": [
    "''' Statistics for Figure 6d (right) '''\n",
    "print('\\nn young, MA, sessions with - speed cells:')\n",
    "print(len(y_sind1),len(ma_sind1), len(age_sind1))\n",
    "\n",
    "print('speedcellslopeyoung ± SEM; speedcellslope_MA ± SEM; speedcellslope_old ± SEM')\n",
    "print(str(np.round(np.mean(sslope1[y_sind1]), 4)) + ' ± ' + str(np.round(stats.sem(sslope1[y_sind1]), 4)) + ' ; ' \n",
    "      + str(np.round(np.mean(sslope1[ma_sind1]), 4)) + ' ± ' + str(np.round(stats.sem(sslope1[ma_sind1]), 4)) + ' ; ' \n",
    "      + str(np.round(np.mean(sslope1[age_sind1]), 4)) + ' ± ' + str(np.round(stats.sem(sslope1[age_sind1]), 4)))\n",
    "\n",
    "stat, p_diff = stats.kruskal(sslope1[y_sind1],sslope1[ma_sind1],sslope1[age_sind1])\n",
    "print('stat = ' + str(stat))\n",
    "print('p_session = ' + str(p_diff))\n",
    "\n",
    "#NEGATIVE\n",
    "# Collect all relevant data into pandas dataframe\n",
    "allidx = np.concatenate((y_sind1,ma_sind1,age_sind1))\n",
    "Animal_ID = list(seshmice[allidx])\n",
    "Session = list(seshcount[allidx])\n",
    "Age_Group = list(seshage[allidx])\n",
    "Slopeneg = list(sslope1[allidx])\n",
    "\n",
    "tuples = list(zip(Animal_ID, Session, Age_Group, Slopeneg))\n",
    "tuples\n",
    "\n",
    "df = pd.DataFrame(tuples, columns = ['AnimalID', 'Session', 'AgeGroup','slopeneg',])\n",
    "df = df.dropna(axis = 0)\n",
    "\n",
    "#run post hoc tests\n",
    "ph.posthoc_conover(df, val_col = 'slopeneg', group_col = 'AgeGroup', p_adjust = 'holm')"
   ]
  },
  {
   "cell_type": "code",
   "execution_count": 72,
   "id": "3f2bbb13",
   "metadata": {
    "scrolled": true
   },
   "outputs": [
    {
     "data": {
      "application/vnd.jupyter.widget-view+json": {
       "model_id": "b1fba93a48a74852888029cc0faff9d1",
       "version_major": 2,
       "version_minor": 0
      },
      "text/plain": [
       "  0%|          | 0/6 [00:00<?, ?it/s]"
      ]
     },
     "metadata": {},
     "output_type": "display_data"
    },
    {
     "name": "stderr",
     "output_type": "stream",
     "text": [
      "C:\\Users\\Python\\anaconda3\\envs\\agingmec\\lib\\site-packages\\scipy\\stats\\_stats_py.py:4424: ConstantInputWarning: An input array is constant; the correlation coefficient is not defined.\n",
      "  warnings.warn(stats.ConstantInputWarning(msg))\n"
     ]
    },
    {
     "data": {
      "application/vnd.jupyter.widget-view+json": {
       "model_id": "90acd56f66904ffaa99b07cb352e951d",
       "version_major": 2,
       "version_minor": 0
      },
      "text/plain": [
       "  0%|          | 0/6 [00:00<?, ?it/s]"
      ]
     },
     "metadata": {},
     "output_type": "display_data"
    },
    {
     "data": {
      "application/vnd.jupyter.widget-view+json": {
       "model_id": "af797fd2a7424b85a8dd170d1f57c8c1",
       "version_major": 2,
       "version_minor": 0
      },
      "text/plain": [
       "  0%|          | 0/6 [00:00<?, ?it/s]"
      ]
     },
     "metadata": {},
     "output_type": "display_data"
    },
    {
     "data": {
      "application/vnd.jupyter.widget-view+json": {
       "model_id": "8a9ffbbf5f544b98a7e1d8637cbad552",
       "version_major": 2,
       "version_minor": 0
      },
      "text/plain": [
       "  0%|          | 0/6 [00:00<?, ?it/s]"
      ]
     },
     "metadata": {},
     "output_type": "display_data"
    },
    {
     "name": "stderr",
     "output_type": "stream",
     "text": [
      "C:\\Users\\Python\\anaconda3\\envs\\agingmec\\lib\\site-packages\\numpy\\core\\fromnumeric.py:3464: RuntimeWarning: Mean of empty slice.\n",
      "  return _methods._mean(a, axis=axis, dtype=dtype,\n",
      "C:\\Users\\Python\\anaconda3\\envs\\agingmec\\lib\\site-packages\\numpy\\core\\_methods.py:192: RuntimeWarning: invalid value encountered in scalar divide\n",
      "  ret = ret.dtype.type(ret / rcount)\n"
     ]
    },
    {
     "data": {
      "application/vnd.jupyter.widget-view+json": {
       "model_id": "48cb3b8a276645b8812bb5d15a87ce69",
       "version_major": 2,
       "version_minor": 0
      },
      "text/plain": [
       "  0%|          | 0/6 [00:00<?, ?it/s]"
      ]
     },
     "metadata": {},
     "output_type": "display_data"
    },
    {
     "data": {
      "application/vnd.jupyter.widget-view+json": {
       "model_id": "538c5dd6105f496f8fa7b5301b63c671",
       "version_major": 2,
       "version_minor": 0
      },
      "text/plain": [
       "  0%|          | 0/5 [00:00<?, ?it/s]"
      ]
     },
     "metadata": {},
     "output_type": "display_data"
    },
    {
     "data": {
      "application/vnd.jupyter.widget-view+json": {
       "model_id": "a397142f097e48debace25a056c9aec6",
       "version_major": 2,
       "version_minor": 0
      },
      "text/plain": [
       "  0%|          | 0/5 [00:00<?, ?it/s]"
      ]
     },
     "metadata": {},
     "output_type": "display_data"
    },
    {
     "data": {
      "application/vnd.jupyter.widget-view+json": {
       "model_id": "a85d11ca11ee41118b3abba9be30e4d2",
       "version_major": 2,
       "version_minor": 0
      },
      "text/plain": [
       "  0%|          | 0/6 [00:00<?, ?it/s]"
      ]
     },
     "metadata": {},
     "output_type": "display_data"
    },
    {
     "data": {
      "application/vnd.jupyter.widget-view+json": {
       "model_id": "248b5392d3604d87a0a97d7d752316f8",
       "version_major": 2,
       "version_minor": 0
      },
      "text/plain": [
       "  0%|          | 0/6 [00:00<?, ?it/s]"
      ]
     },
     "metadata": {},
     "output_type": "display_data"
    },
    {
     "data": {
      "application/vnd.jupyter.widget-view+json": {
       "model_id": "c0eac4a0e063430db2b9303a9ea78e12",
       "version_major": 2,
       "version_minor": 0
      },
      "text/plain": [
       "  0%|          | 0/6 [00:00<?, ?it/s]"
      ]
     },
     "metadata": {},
     "output_type": "display_data"
    },
    {
     "data": {
      "application/vnd.jupyter.widget-view+json": {
       "model_id": "e668f0e6ded24d649b0194b6324b875d",
       "version_major": 2,
       "version_minor": 0
      },
      "text/plain": [
       "  0%|          | 0/5 [00:00<?, ?it/s]"
      ]
     },
     "metadata": {},
     "output_type": "display_data"
    },
    {
     "data": {
      "application/vnd.jupyter.widget-view+json": {
       "model_id": "147ee8f08fbb4b77aa0e7fb3a3310d91",
       "version_major": 2,
       "version_minor": 0
      },
      "text/plain": [
       "  0%|          | 0/3 [00:00<?, ?it/s]"
      ]
     },
     "metadata": {},
     "output_type": "display_data"
    },
    {
     "data": {
      "application/vnd.jupyter.widget-view+json": {
       "model_id": "122c1d5fba774dbba3f243ba77f95531",
       "version_major": 2,
       "version_minor": 0
      },
      "text/plain": [
       "  0%|          | 0/6 [00:00<?, ?it/s]"
      ]
     },
     "metadata": {},
     "output_type": "display_data"
    },
    {
     "data": {
      "application/vnd.jupyter.widget-view+json": {
       "model_id": "9fdc7888a22742ad92be9aae38ae7c52",
       "version_major": 2,
       "version_minor": 0
      },
      "text/plain": [
       "  0%|          | 0/6 [00:00<?, ?it/s]"
      ]
     },
     "metadata": {},
     "output_type": "display_data"
    },
    {
     "data": {
      "application/vnd.jupyter.widget-view+json": {
       "model_id": "fc130ec4ec624bc8ba721d24bbb8af7d",
       "version_major": 2,
       "version_minor": 0
      },
      "text/plain": [
       "  0%|          | 0/6 [00:00<?, ?it/s]"
      ]
     },
     "metadata": {},
     "output_type": "display_data"
    },
    {
     "data": {
      "application/vnd.jupyter.widget-view+json": {
       "model_id": "0224633a3b4a4b33b0d9dd5076a08195",
       "version_major": 2,
       "version_minor": 0
      },
      "text/plain": [
       "  0%|          | 0/2 [00:00<?, ?it/s]"
      ]
     },
     "metadata": {},
     "output_type": "display_data"
    },
    {
     "data": {
      "application/vnd.jupyter.widget-view+json": {
       "model_id": "3884038a6e4742ee8e36f002dae611fc",
       "version_major": 2,
       "version_minor": 0
      },
      "text/plain": [
       "  0%|          | 0/3 [00:00<?, ?it/s]"
      ]
     },
     "metadata": {},
     "output_type": "display_data"
    },
    {
     "data": {
      "application/vnd.jupyter.widget-view+json": {
       "model_id": "cc968824d6f4466aa9cb0e018655c658",
       "version_major": 2,
       "version_minor": 0
      },
      "text/plain": [
       "  0%|          | 0/6 [00:00<?, ?it/s]"
      ]
     },
     "metadata": {},
     "output_type": "display_data"
    },
    {
     "data": {
      "application/vnd.jupyter.widget-view+json": {
       "model_id": "7c50a81ca1e74faab26412d6f1379e39",
       "version_major": 2,
       "version_minor": 0
      },
      "text/plain": [
       "  0%|          | 0/4 [00:00<?, ?it/s]"
      ]
     },
     "metadata": {},
     "output_type": "display_data"
    },
    {
     "data": {
      "application/vnd.jupyter.widget-view+json": {
       "model_id": "0d30012f20a6464bb42b319409519d8d",
       "version_major": 2,
       "version_minor": 0
      },
      "text/plain": [
       "  0%|          | 0/6 [00:00<?, ?it/s]"
      ]
     },
     "metadata": {},
     "output_type": "display_data"
    },
    {
     "data": {
      "application/vnd.jupyter.widget-view+json": {
       "model_id": "1b05800e076b461cb6fbddd2c4b6c355",
       "version_major": 2,
       "version_minor": 0
      },
      "text/plain": [
       "  0%|          | 0/6 [00:00<?, ?it/s]"
      ]
     },
     "metadata": {},
     "output_type": "display_data"
    },
    {
     "data": {
      "application/vnd.jupyter.widget-view+json": {
       "model_id": "5513837ec1d3486d9e574ad55d9d9e45",
       "version_major": 2,
       "version_minor": 0
      },
      "text/plain": [
       "  0%|          | 0/6 [00:00<?, ?it/s]"
      ]
     },
     "metadata": {},
     "output_type": "display_data"
    },
    {
     "data": {
      "application/vnd.jupyter.widget-view+json": {
       "model_id": "8e2e6fdf3e9b4b6b8c36dacede1bdc54",
       "version_major": 2,
       "version_minor": 0
      },
      "text/plain": [
       "  0%|          | 0/6 [00:00<?, ?it/s]"
      ]
     },
     "metadata": {},
     "output_type": "display_data"
    },
    {
     "data": {
      "application/vnd.jupyter.widget-view+json": {
       "model_id": "fecfd998386d49ce9e0937ae5148d888",
       "version_major": 2,
       "version_minor": 0
      },
      "text/plain": [
       "  0%|          | 0/6 [00:00<?, ?it/s]"
      ]
     },
     "metadata": {},
     "output_type": "display_data"
    },
    {
     "data": {
      "application/vnd.jupyter.widget-view+json": {
       "model_id": "f7731e2f7d4a46dead6cd6b445c6f551",
       "version_major": 2,
       "version_minor": 0
      },
      "text/plain": [
       "  0%|          | 0/6 [00:00<?, ?it/s]"
      ]
     },
     "metadata": {},
     "output_type": "display_data"
    },
    {
     "data": {
      "application/vnd.jupyter.widget-view+json": {
       "model_id": "551469c9992a4da882993f76123f9350",
       "version_major": 2,
       "version_minor": 0
      },
      "text/plain": [
       "  0%|          | 0/6 [00:00<?, ?it/s]"
      ]
     },
     "metadata": {},
     "output_type": "display_data"
    },
    {
     "data": {
      "application/vnd.jupyter.widget-view+json": {
       "model_id": "f4ad183e018545ff846109172a51d169",
       "version_major": 2,
       "version_minor": 0
      },
      "text/plain": [
       "  0%|          | 0/6 [00:00<?, ?it/s]"
      ]
     },
     "metadata": {},
     "output_type": "display_data"
    },
    {
     "data": {
      "application/vnd.jupyter.widget-view+json": {
       "model_id": "3a24a991a1c9451e9b8f2719ab22a932",
       "version_major": 2,
       "version_minor": 0
      },
      "text/plain": [
       "  0%|          | 0/4 [00:00<?, ?it/s]"
      ]
     },
     "metadata": {},
     "output_type": "display_data"
    },
    {
     "data": {
      "application/vnd.jupyter.widget-view+json": {
       "model_id": "bc1feeeec4f14c61ab2a7c522b3f0b8f",
       "version_major": 2,
       "version_minor": 0
      },
      "text/plain": [
       "  0%|          | 0/6 [00:00<?, ?it/s]"
      ]
     },
     "metadata": {},
     "output_type": "display_data"
    },
    {
     "data": {
      "application/vnd.jupyter.widget-view+json": {
       "model_id": "6bc5d9a091324747be86d843b6235913",
       "version_major": 2,
       "version_minor": 0
      },
      "text/plain": [
       "  0%|          | 0/6 [00:00<?, ?it/s]"
      ]
     },
     "metadata": {},
     "output_type": "display_data"
    },
    {
     "data": {
      "application/vnd.jupyter.widget-view+json": {
       "model_id": "578bce6307454394929ba6b21967ed85",
       "version_major": 2,
       "version_minor": 0
      },
      "text/plain": [
       "  0%|          | 0/6 [00:00<?, ?it/s]"
      ]
     },
     "metadata": {},
     "output_type": "display_data"
    },
    {
     "data": {
      "application/vnd.jupyter.widget-view+json": {
       "model_id": "10061336d95840eda8111ccef239ec74",
       "version_major": 2,
       "version_minor": 0
      },
      "text/plain": [
       "  0%|          | 0/6 [00:00<?, ?it/s]"
      ]
     },
     "metadata": {},
     "output_type": "display_data"
    },
    {
     "data": {
      "application/vnd.jupyter.widget-view+json": {
       "model_id": "ef7501881ed348229bffcf2c42a7d62c",
       "version_major": 2,
       "version_minor": 0
      },
      "text/plain": [
       "  0%|          | 0/6 [00:00<?, ?it/s]"
      ]
     },
     "metadata": {},
     "output_type": "display_data"
    },
    {
     "data": {
      "application/vnd.jupyter.widget-view+json": {
       "model_id": "ecf959cc958049cba544cac53fe386fd",
       "version_major": 2,
       "version_minor": 0
      },
      "text/plain": [
       "  0%|          | 0/6 [00:00<?, ?it/s]"
      ]
     },
     "metadata": {},
     "output_type": "display_data"
    },
    {
     "data": {
      "application/vnd.jupyter.widget-view+json": {
       "model_id": "2789908b30744095a1eeadf27902be53",
       "version_major": 2,
       "version_minor": 0
      },
      "text/plain": [
       "  0%|          | 0/6 [00:00<?, ?it/s]"
      ]
     },
     "metadata": {},
     "output_type": "display_data"
    },
    {
     "data": {
      "application/vnd.jupyter.widget-view+json": {
       "model_id": "a580a752b15d43cc8240838ad9125475",
       "version_major": 2,
       "version_minor": 0
      },
      "text/plain": [
       "  0%|          | 0/6 [00:00<?, ?it/s]"
      ]
     },
     "metadata": {},
     "output_type": "display_data"
    },
    {
     "data": {
      "application/vnd.jupyter.widget-view+json": {
       "model_id": "408f70e2609e4d5f80ffee5bc881af99",
       "version_major": 2,
       "version_minor": 0
      },
      "text/plain": [
       "  0%|          | 0/6 [00:00<?, ?it/s]"
      ]
     },
     "metadata": {},
     "output_type": "display_data"
    },
    {
     "data": {
      "application/vnd.jupyter.widget-view+json": {
       "model_id": "cc5f67a67e084ba0a2fb3eae2e8d0fca",
       "version_major": 2,
       "version_minor": 0
      },
      "text/plain": [
       "  0%|          | 0/6 [00:00<?, ?it/s]"
      ]
     },
     "metadata": {},
     "output_type": "display_data"
    },
    {
     "data": {
      "application/vnd.jupyter.widget-view+json": {
       "model_id": "cb44631ec236499fb3459829edfff349",
       "version_major": 2,
       "version_minor": 0
      },
      "text/plain": [
       "  0%|          | 0/6 [00:00<?, ?it/s]"
      ]
     },
     "metadata": {},
     "output_type": "display_data"
    },
    {
     "data": {
      "application/vnd.jupyter.widget-view+json": {
       "model_id": "d81d87ff7a0a4a238263ee33f0281e42",
       "version_major": 2,
       "version_minor": 0
      },
      "text/plain": [
       "  0%|          | 0/6 [00:00<?, ?it/s]"
      ]
     },
     "metadata": {},
     "output_type": "display_data"
    },
    {
     "data": {
      "application/vnd.jupyter.widget-view+json": {
       "model_id": "3dcfdbe0ee6c4028a6542c50d1f4e241",
       "version_major": 2,
       "version_minor": 0
      },
      "text/plain": [
       "  0%|          | 0/6 [00:00<?, ?it/s]"
      ]
     },
     "metadata": {},
     "output_type": "display_data"
    },
    {
     "data": {
      "application/vnd.jupyter.widget-view+json": {
       "model_id": "ef84b76bc16c444985f3377b3deca09c",
       "version_major": 2,
       "version_minor": 0
      },
      "text/plain": [
       "  0%|          | 0/6 [00:00<?, ?it/s]"
      ]
     },
     "metadata": {},
     "output_type": "display_data"
    },
    {
     "data": {
      "application/vnd.jupyter.widget-view+json": {
       "model_id": "d177c22891324f068034e2631c095dd5",
       "version_major": 2,
       "version_minor": 0
      },
      "text/plain": [
       "  0%|          | 0/6 [00:00<?, ?it/s]"
      ]
     },
     "metadata": {},
     "output_type": "display_data"
    },
    {
     "data": {
      "application/vnd.jupyter.widget-view+json": {
       "model_id": "2f5f7999184547dca55acbe22fb623fa",
       "version_major": 2,
       "version_minor": 0
      },
      "text/plain": [
       "  0%|          | 0/6 [00:00<?, ?it/s]"
      ]
     },
     "metadata": {},
     "output_type": "display_data"
    },
    {
     "data": {
      "application/vnd.jupyter.widget-view+json": {
       "model_id": "760426ddff9f4dde989caf2404e29028",
       "version_major": 2,
       "version_minor": 0
      },
      "text/plain": [
       "  0%|          | 0/6 [00:00<?, ?it/s]"
      ]
     },
     "metadata": {},
     "output_type": "display_data"
    }
   ],
   "source": [
    "''' Collect Speed Cell Trial Stability Score \n",
    "\n",
    "Run time: 10-15 seconds / session x 250 sessions with either type of speed cell.\n",
    "\n",
    "'''\n",
    "# set up arrays for plotting by session \n",
    "strialstabscore1 = []\n",
    "strialstabscore99 = []\n",
    "\n",
    "dt = 0.02\n",
    "\n",
    "for m, session in zip(mice,sessions):\n",
    "    \n",
    "    for s in tdqm(session):\n",
    "        d = data[m][s]\n",
    "    \n",
    "        #get file names & load data necessary\n",
    "        rawdata_file = 'RAW_' + m + '_' + s + '.npy'\n",
    "        spikes_file = 'SPIKES_' + m + '_' + s +'.npy'\n",
    "        behavior_file = 'BEHAVIOR_' + m + '_' + s + '.npy'\n",
    "        A_file = 'A_' + m + '_' + s + '.npy'\n",
    "\n",
    "        raw = np.load(load_folder + rawdata_file, allow_pickle=True)\n",
    "        behaviorfil = np.load(load_folder + behavior_file, allow_pickle=False)\n",
    "        \n",
    "        A = np.load(save_folder + A_file)\n",
    "        speed = behaviorfil[:,1]\n",
    "        trial = behaviorfil[:,2]\n",
    "       \n",
    "        #get dict-stored data\n",
    "        cell_IDs = raw.item().get('cellsfil')\n",
    "        intn = d['intn'].astype(bool)\n",
    "        speedcell99 = d['speedcell99']\n",
    "        speedcell1 = d['speedcell1']\n",
    "        speedcells99 = cell_IDs[(speedcell99 == 1) & (intn == 0)]\n",
    "        speedcells1 = cell_IDs[(speedcell1 == 1) & (intn == 0)]\n",
    "        \n",
    "        #get spike-weighted average of speed score by trial for each speed cell population\n",
    "        bytrialspeedstabilityscores99 = []          \n",
    "        for i, c in enumerate(speedcells99):\n",
    "            sdx = (np.where(cell_IDs==c)[0][0]).astype(int)\n",
    "            \n",
    "            weightscore = []\n",
    "            for j, t in enumerate(np.unique(trial)):\n",
    "                trialidx = np.where(trial == t)[0].astype(int)\n",
    "                \n",
    "                trialscore, _ = stats.pearsonr(speed[trialidx], A[trialidx,sdx])\n",
    "                weightscore = np.append(weightscore, trialscore * np.sum(A[trialidx,sdx]))   \n",
    "            bytrialspeedstabilityscores99 = np.append(bytrialspeedstabilityscores99, np.nansum(weightscore) / np.sum(A[:,sdx]))\n",
    "            \n",
    "        bytrialspeedstabilityscores1 = []\n",
    "        for i, c in enumerate(speedcells1):\n",
    "            sdx = (np.where(cell_IDs==c)[0][0]).astype(int)\n",
    "            \n",
    "            weightscore = []\n",
    "            for j, t in enumerate(np.unique(trial)):\n",
    "                trialidx = np.where(trial == t)[0].astype(int)\n",
    "                trialscore, _ = stats.pearsonr(speed[trialidx], A[trialidx,sdx])\n",
    "                weightscore = np.append(weightscore, trialscore * np.sum(A[trialidx,sdx]))\n",
    "        \n",
    "            bytrialspeedstabilityscores1 = np.append(bytrialspeedstabilityscores1, np.nansum(weightscore) / np.sum(A[:,sdx]))\n",
    "\n",
    "        strialstabscore99 = np.append(strialstabscore99, np.mean(bytrialspeedstabilityscores99))\n",
    "        strialstabscore1 = np.append(strialstabscore1, np.mean(bytrialspeedstabilityscores1))"
   ]
  },
  {
   "cell_type": "code",
   "execution_count": 73,
   "id": "5ff3d491",
   "metadata": {},
   "outputs": [
    {
     "data": {
      "image/png": "[encoded data removed]",
      "text/plain": [
       "<Figure size 150x125 with 1 Axes>"
      ]
     },
     "metadata": {},
     "output_type": "display_data"
    },
    {
     "data": {
      "image/png": "[encoded data removed]",
      "text/plain": [
       "<Figure size 150x125 with 1 Axes>"
      ]
     },
     "metadata": {},
     "output_type": "display_data"
    }
   ],
   "source": [
    "''' Plot Figure 6E '''\n",
    "\n",
    "#Figure 6E (left)\n",
    "fig, ax = plt.subplots(figsize = (1.5,1.25))\n",
    "sttscore = [strialstabscore99[y_sind99], strialstabscore99[ma_sind99], strialstabscore99[age_sind99]]\n",
    "labels = ['Young','MA','Aged']\n",
    "w = 0.5\n",
    "plt.boxplot(sttscore, widths = w, labels = labels, medianprops = dict(color = 'black'))\n",
    "\n",
    "for i in range(len(sttscore)):\n",
    "    y = sttscore[i]\n",
    "    x = np.random.normal(i + 1, 0.04, len(y))\n",
    "    plt.scatter(x, y, color = col_session99[i], edgecolors = col_session99[i], s = 10)\n",
    "            \n",
    "#ax.legend(ncol = 3, handles = handles, labels = label_mice, loc = 'upper right',bbox_to_anchor=(1.8, 1))\n",
    "ax.set_title('+ Speed Cells', fontsize=10, pad=5)\n",
    "ax.set_xlabel('Age', fontsize=9, labelpad=1)\n",
    "ax.set_ylabel('Mean Trial Stability Speed Score', fontsize = 9, labelpad=1)\n",
    "ax.tick_params(labelsize = 8)\n",
    "ax.set_ylim([0,0.6])\n",
    "ax.set_yticks([0,0.2,0.4,0.6])\n",
    "#plt.savefig(save_folder + 'age_speedcell99trialstabscore_session.png', dpi=400, bbox_inches='tight')\n",
    "#plt.savefig(save_folder + 'age_speedcell99trialstabscore_session.svg', dpi=400, bbox_inches='tight')\n",
    "plt.show()\n",
    "\n",
    "#Figure 6E (right)\n",
    "fig, ax = plt.subplots(figsize = (1.5,1.25))\n",
    "sttscore = [strialstabscore1[y_sind1], strialstabscore1[ma_sind1], strialstabscore1[age_sind1]]\n",
    "labels = ['Young','MA','Aged']\n",
    "w = 0.5\n",
    "plt.boxplot(sttscore, widths = w, labels = labels, medianprops = dict(color = 'black'))\n",
    "\n",
    "for i in range(len(sttscore)):\n",
    "    y = sttscore[i]\n",
    "    x = np.random.normal(i + 1, 0.04, len(y))\n",
    "    plt.scatter(x, y, color = col_session1[i], edgecolors = col_session1[i], s = 10)\n",
    "            \n",
    "#ax.legend(ncol = 3, handles = handles, labels = label_mice, loc = 'upper right',bbox_to_anchor=(1.8, 1))\n",
    "ax.set_title('- Speed Cells', fontsize=10, pad=5)\n",
    "ax.set_xlabel('Age', fontsize=9, labelpad=1)\n",
    "ax.set_ylabel('Mean Trial Stability Speed Score', fontsize = 9, labelpad=1)\n",
    "ax.tick_params(labelsize = 8)\n",
    "ax.set_ylim([-0.6,0.2])\n",
    "ax.set_yticks([-0.6, -0.4, -0.2, 0, 0.2])\n",
    "#plt.savefig(save_folder + 'age_speedcell1trialstabscore_session.png', dpi=400, bbox_inches='tight')\n",
    "#plt.savefig(save_folder + 'age_speedcell1trialstabscore_session.svg', dpi=400, bbox_inches='tight')\n",
    "plt.show()"
   ]
  },
  {
   "cell_type": "code",
   "execution_count": 76,
   "id": "ba4824cf",
   "metadata": {},
   "outputs": [
    {
     "name": "stdout",
     "output_type": "stream",
     "text": [
      "\n",
      "POS SPEED CELL RESULTS:\n",
      "meanyoung ± SEM; mean_MA ± SEM; mean_old ± SEM\n",
      "0.1905 ± 0.0063 ; 0.2143 ± 0.0061 ; 0.1693 ± 0.0047\n",
      "stat = 29.4836321610112\n",
      "p_trialstabscore = 3.960140761439548e-07\n"
     ]
    },
    {
     "data": {
      "text/html": [
       "<div>\n",
       "<style scoped>\n",
       "    .dataframe tbody tr th:only-of-type {\n",
       "        vertical-align: middle;\n",
       "    }\n",
       "\n",
       "    .dataframe tbody tr th {\n",
       "        vertical-align: top;\n",
       "    }\n",
       "\n",
       "    .dataframe thead th {\n",
       "        text-align: right;\n",
       "    }\n",
       "</style>\n",
       "<table border=\"1\" class=\"dataframe\">\n",
       "  <thead>\n",
       "    <tr style=\"text-align: right;\">\n",
       "      <th></th>\n",
       "      <th>1.0</th>\n",
       "      <th>2.0</th>\n",
       "      <th>3.0</th>\n",
       "    </tr>\n",
       "  </thead>\n",
       "  <tbody>\n",
       "    <tr>\n",
       "      <th>1.0</th>\n",
       "      <td>1.000000</td>\n",
       "      <td>7.961169e-04</td>\n",
       "      <td>1.308860e-02</td>\n",
       "    </tr>\n",
       "    <tr>\n",
       "      <th>2.0</th>\n",
       "      <td>0.000796</td>\n",
       "      <td>1.000000e+00</td>\n",
       "      <td>7.481447e-08</td>\n",
       "    </tr>\n",
       "    <tr>\n",
       "      <th>3.0</th>\n",
       "      <td>0.013089</td>\n",
       "      <td>7.481447e-08</td>\n",
       "      <td>1.000000e+00</td>\n",
       "    </tr>\n",
       "  </tbody>\n",
       "</table>\n",
       "</div>"
      ],
      "text/plain": [
       "          1.0           2.0           3.0\n",
       "1.0  1.000000  7.961169e-04  1.308860e-02\n",
       "2.0  0.000796  1.000000e+00  7.481447e-08\n",
       "3.0  0.013089  7.481447e-08  1.000000e+00"
      ]
     },
     "execution_count": 76,
     "metadata": {},
     "output_type": "execute_result"
    }
   ],
   "source": [
    "''' Stats for Figure 6e (left)'''\n",
    "\n",
    "print('\\nPOS SPEED CELL RESULTS:')\n",
    "print('meanyoung ± SEM; mean_MA ± SEM; mean_old ± SEM')\n",
    "print(str(np.round(np.mean(strialstabscore99[y_sind99]), 4)) + ' ± ' + str(np.round(stats.sem(strialstabscore99[y_sind99]), 4)) + ' ; ' \n",
    "      + str(np.round(np.mean(strialstabscore99[ma_sind99]), 4)) + ' ± ' + str(np.round(stats.sem(strialstabscore99[ma_sind99]), 4)) + ' ; ' \n",
    "      + str(np.round(np.mean(strialstabscore99[age_sind99]), 4)) + ' ± ' + str(np.round(stats.sem(strialstabscore99[age_sind99]), 4)))\n",
    "\n",
    "stat, p_diff = stats.kruskal(strialstabscore99[y_sind99],strialstabscore99[ma_sind99],strialstabscore99[age_sind99])\n",
    "print('stat = ' + str(stat))\n",
    "print('p_trialstabscore = ' + str(p_diff))\n",
    "\n",
    "#POSTIVE\n",
    "# Collect all relevant data into pandas dataframe\n",
    "allidx = np.concatenate((y_sind99,ma_sind99,age_sind99))\n",
    "Animal_ID = list(seshmice[allidx])\n",
    "Session = list(seshcount[allidx])\n",
    "Age_Group = list(seshage[allidx])\n",
    "Scorepos = list(strialstabscore99[allidx])\n",
    "\n",
    "tuples = list(zip(Animal_ID, Session, Age_Group, Scorepos))\n",
    "tuples\n",
    "\n",
    "df = pd.DataFrame(tuples, columns = ['AnimalID', 'Session', 'AgeGroup','scorepos'])\n",
    "df = df.dropna(axis = 0)\n",
    "\n",
    "#run post hoc tests\n",
    "ph.posthoc_conover(df, val_col = 'scorepos', group_col = 'AgeGroup', p_adjust = 'holm')\n"
   ]
  },
  {
   "cell_type": "code",
   "execution_count": 77,
   "id": "352413f2",
   "metadata": {},
   "outputs": [
    {
     "name": "stdout",
     "output_type": "stream",
     "text": [
      "\n",
      "NEG SPEED CELL RESULTS:\n",
      "meanyoung ± SEM; mean_MA ± SEM; mean_old ± SEM\n",
      "-0.2125 ± 0.0081 ; -0.2393 ± 0.0098 ; -0.2165 ± 0.0082\n",
      "stat = 6.4131184926557125\n",
      "p_trialstabscore = 0.040495709598212117\n"
     ]
    },
    {
     "data": {
      "text/html": [
       "<div>\n",
       "<style scoped>\n",
       "    .dataframe tbody tr th:only-of-type {\n",
       "        vertical-align: middle;\n",
       "    }\n",
       "\n",
       "    .dataframe tbody tr th {\n",
       "        vertical-align: top;\n",
       "    }\n",
       "\n",
       "    .dataframe thead th {\n",
       "        text-align: right;\n",
       "    }\n",
       "</style>\n",
       "<table border=\"1\" class=\"dataframe\">\n",
       "  <thead>\n",
       "    <tr style=\"text-align: right;\">\n",
       "      <th></th>\n",
       "      <th>1.0</th>\n",
       "      <th>2.0</th>\n",
       "      <th>3.0</th>\n",
       "    </tr>\n",
       "  </thead>\n",
       "  <tbody>\n",
       "    <tr>\n",
       "      <th>1.0</th>\n",
       "      <td>1.000000</td>\n",
       "      <td>0.040830</td>\n",
       "      <td>0.592191</td>\n",
       "    </tr>\n",
       "    <tr>\n",
       "      <th>2.0</th>\n",
       "      <td>0.040830</td>\n",
       "      <td>1.000000</td>\n",
       "      <td>0.091193</td>\n",
       "    </tr>\n",
       "    <tr>\n",
       "      <th>3.0</th>\n",
       "      <td>0.592191</td>\n",
       "      <td>0.091193</td>\n",
       "      <td>1.000000</td>\n",
       "    </tr>\n",
       "  </tbody>\n",
       "</table>\n",
       "</div>"
      ],
      "text/plain": [
       "          1.0       2.0       3.0\n",
       "1.0  1.000000  0.040830  0.592191\n",
       "2.0  0.040830  1.000000  0.091193\n",
       "3.0  0.592191  0.091193  1.000000"
      ]
     },
     "execution_count": 77,
     "metadata": {},
     "output_type": "execute_result"
    }
   ],
   "source": [
    "''' Stats for Figure 6e (right)'''\n",
    "\n",
    "print('\\nNEG SPEED CELL RESULTS:')\n",
    "print('meanyoung ± SEM; mean_MA ± SEM; mean_old ± SEM')\n",
    "print(str(np.round(np.mean(strialstabscore1[y_sind1]), 4)) + ' ± ' + str(np.round(stats.sem(strialstabscore1[y_sind1]), 4)) + ' ; ' \n",
    "      + str(np.round(np.mean(strialstabscore1[ma_sind1]), 4)) + ' ± ' + str(np.round(stats.sem(strialstabscore1[ma_sind1]), 4)) + ' ; ' \n",
    "      + str(np.round(np.mean(strialstabscore1[age_sind1]), 4)) + ' ± ' + str(np.round(stats.sem(strialstabscore1[age_sind1]), 4)))\n",
    "\n",
    "stat, p_diff = stats.kruskal(strialstabscore1[y_sind1],strialstabscore1[ma_sind1],strialstabscore1[age_sind1])\n",
    "print('stat = ' + str(stat))\n",
    "print('p_trialstabscore = ' + str(p_diff))\n",
    "\n",
    "#NEGATIVE\n",
    "# Collect all relevant data into pandas dataframe\n",
    "allidx = np.concatenate((y_sind1,ma_sind1,age_sind1))\n",
    "Animal_ID = list(seshmice[allidx])\n",
    "Session = list(seshcount[allidx])\n",
    "Age_Group = list(seshage[allidx])\n",
    "Scoreneg = list(strialstabscore1[allidx])\n",
    "\n",
    "tuples = list(zip(Animal_ID, Session, Age_Group, Scoreneg))\n",
    "tuples\n",
    "\n",
    "df = pd.DataFrame(tuples, columns = ['AnimalID', 'Session', 'AgeGroup','scoreneg'])\n",
    "df = df.dropna(axis = 0)\n",
    "\n",
    "#run post hoc tests\n",
    "ph.posthoc_conover(df, val_col = 'scoreneg', group_col = 'AgeGroup', p_adjust = 'holm')"
   ]
  },
  {
   "cell_type": "markdown",
   "id": "5cb2de34",
   "metadata": {},
   "source": [
    "# Examine grid scale gradients in MEC"
   ]
  },
  {
   "cell_type": "code",
   "execution_count": 118,
   "id": "c62fbf74",
   "metadata": {},
   "outputs": [],
   "source": [
    "'''Define which mice & sessions to load based on metadata'''\n",
    "\n",
    "#note that here we are loading in all sessions that have dark data and distance-tuning shuffle scores \n",
    "mice , mice_ind, _  = np.intersect1d(all_mice, np.union1d(cohortc_mice, cohortd_mice), return_indices = True) # SM mice\n",
    "\n",
    "sessions = []\n",
    "for i in mice_ind:\n",
    "    sessions.append(all_sessions[i])\n",
    "\n",
    "# Make a dict to hold data\n",
    "data = {}\n",
    "\n",
    "for session, m in zip(sessions, mice):\n",
    "    data[m] = {}\n",
    "    \n",
    "    for s in session:\n",
    "        data[m][s] = {}"
   ]
  },
  {
   "cell_type": "code",
   "execution_count": 119,
   "id": "05254fa4",
   "metadata": {},
   "outputs": [],
   "source": [
    "''' From session metadata, get max depth of probe tip'''\n",
    "\n",
    "for m, session in zip(mice,sessions):\n",
    "    seshcount = 1\n",
    "    for s in session:\n",
    "        d = data[m][s]\n",
    "        \n",
    "        #define LFP folder\n",
    "        MECmaxdepth = np.array(sessionmeta.loc[((sessionmeta.Animal_ID == m) & ((sessionmeta.Session == seshcount))), 'Final Depth (D)'])[0]\n",
    "        d['MECmaxdepth'] = MECmaxdepth\n",
    "        \n",
    "        seshcount += 1"
   ]
  },
  {
   "cell_type": "code",
   "execution_count": 120,
   "id": "07bf1d5b",
   "metadata": {},
   "outputs": [],
   "source": [
    "''' Load in grid cell IDs for Split Maze Sessions (previously generated)'''\n",
    "save_folder = 'C:/Users/Python/Desktop/LocalData/shuffscores/' #adjust to output of Figure 2/S3 notebook\n",
    "load_folder = 'C:/Users/Python/Desktop/LocalData/filtered/' #output of import/filter notebook\n",
    "\n",
    "for m, session in zip(mice,sessions):\n",
    "\n",
    "    for s in session:\n",
    "        d = data[m][s]\n",
    "        \n",
    "        #load Split Maze grid cell boolean from Figure 2/S3 Notebook output\n",
    "        gridcell_file = 'gridcell__' + m + '_' + s + '.npy'\n",
    "        gridcell = np.load(save_folder + gridcell_file)\n",
    "        gridcell = gridcell.astype(bool)\n",
    "        d['gridcell'] = gridcell"
   ]
  },
  {
   "cell_type": "markdown",
   "id": "fe6a4013",
   "metadata": {},
   "source": [
    "# Estimate grid scale, calculate depth along the probe relative to brain surface among classified grid cells, and plot Figure 6F OR skip to next section"
   ]
  },
  {
   "cell_type": "code",
   "execution_count": null,
   "id": "16f7b9d7",
   "metadata": {},
   "outputs": [],
   "source": [
    "''' Calculate each grid cell's depth from surface and estimated grid scale; plot panels of Figure 6f '''\n",
    "\n",
    "#parameters \n",
    "b = 2 # cm / spatial bin\n",
    "dt = 0.02\n",
    "n_dark = 20\n",
    "lag_max = 800\n",
    "lags = np.arange(0,801,1)\n",
    "n_dark = 20 #trials\n",
    "\n",
    "ex_mice = ['Y21','MA9F','A15']\n",
    "ex_sessions = ['091822_record1','111522_record3','090122_record3']\n",
    "\n",
    "#adjust paths \n",
    "dataload_folder = 'C:/Users/Python/Desktop/LocalData/filtered/' #output of import/filter notebook\n",
    "load_folder = 'C:/Users/Python/Desktop/LocalData/shuffscores/' #output of shuffle notebook\n",
    "plotsave_folder = 'C:/Users/Python/Desktop/LocalData/spatialcellssm/prefdist/' #wherever you want to save results of this\n",
    "\n",
    "#arrays to save data\n",
    "aprefdist = []\n",
    "maprefdist = []\n",
    "yprefdist = []\n",
    "aaspikedepth = []\n",
    "maaspikedepth = []\n",
    "yaspikedepth = []\n",
    "\n",
    "for m, session in zip(mice,sessions):\n",
    "    for s in tdqm(session):\n",
    "        d = data[m][s]\n",
    "        \n",
    "        #load in data\n",
    "        rawdata_file = 'RAW_' + m + '_' + s + '.npy'\n",
    "        behavior_file = 'BEHAVIOR_' + m + '_' + s + '.npy'\n",
    "        spikes_file = 'SPIKES_' + m + '_' + s +'.npy'\n",
    "        \n",
    "        raw = np.load(dataload_folder + rawdata_file, allow_pickle=True)\n",
    "        cell_IDs = raw.item().get('cellsfil')\n",
    "        \n",
    "        behaviorfil = np.load(dataload_folder + behavior_file, allow_pickle=False)\n",
    "        Y = np.load(dataload_folder + spikes_file, allow_pickle=False) #pre-filtered for speeds >2cm/s, position-corrected spikes, 20 ms timebins\n",
    "        \n",
    "        posxfil = behaviorfil[:,0]\n",
    "        trial = behaviorfil[:,2]\n",
    "        trials = np.unique(trial)\n",
    "        postfil = behaviorfil[:,3]\n",
    "            \n",
    "        gridcell = d['gridcell'].astype(bool)\n",
    "        gridcells = cell_IDs[gridcell]\n",
    "        \n",
    "        #call in data needed to calculate spike depths for each cell based on templates\n",
    "        sp = raw.item().get('sp')\n",
    "        temps = sp['temps'].copy() #nTemplates x nTimepoints x nChannels\n",
    "        winv = sp['winv'].copy() #nCh x nCh\n",
    "        ycoords = sp['ycoords'].copy() #nCh\n",
    "        templates = sp['spikeTemplates'].copy() #nSpikes\n",
    "        cluster_id = sp['clu'].copy() #nSpikes\n",
    "\n",
    "        #Get spike depths\n",
    "        spikeDepths = get_spike_depths(temps, winv, ycoords, templates) #distance from tip (lower = more ventral)\n",
    "\n",
    "        gridcelldepths = []\n",
    "        for i, c in enumerate(gridcells):\n",
    "            gridcelldepths = np.append(gridcelldepths, np.median(spikeDepths[cluster_id == c]))\n",
    "        d['gridcelldepths'] = gridcelldepths\n",
    "\n",
    "        #load in maximal depth from surface of probe tip from session metadata\n",
    "        MECmaxdepth = d['MECmaxdepth']\n",
    "        adjgridcelldepths = MECmaxdepth - gridcelldepths\n",
    "        d['adjgridcelldepths'] = adjgridcelldepths \n",
    "\n",
    "        ##Get preferred distance for each grid cell based on dark autocorrelation\n",
    "        #get dark-only, normalized, smoothed spatial map & reshape into continuous vector for each cell\n",
    "        FR, _ , _ = ps.tuning_curve_bytrial(posxfil, trial, Y, dt, b, smooth=True, normalize=True, occupancy=True)\n",
    "        stop_idx = np.where(trials == n_dark)[0][0]\n",
    "        FR = FR[:stop_idx,:,:]\n",
    "        n_trials = FR.shape[0]\n",
    "        n_pos = FR.shape[1]\n",
    "        n_cells = FR.shape[2]\n",
    "        FR = (np.reshape(FR, (n_trials*n_pos, n_cells))).T\n",
    "\n",
    "        #find max autocorrelation peaks for all cells; store height & prom of most prominent peak\n",
    "        prefdist = [] #stored lag of max peak\n",
    "        norm_auto = np.zeros([gridcells.shape[0],lags.shape[0]]) #for plotting\n",
    "        for i, c in enumerate(gridcells):\n",
    "            sdx = np.where(cell_IDs == c)[0][0]\n",
    "\n",
    "            autocorrelation = autocorr(FR[sdx,:], lags)\n",
    "            normauto = ((autocorrelation - np.min(autocorrelation)) / (np.max(autocorrelation) - np.min(autocorrelation)))\n",
    "            norm_auto[i,:] = normauto\n",
    "            peaks, _ = find_peaks(normauto, width = 8, height = 0.05, prominence = 0.05)\n",
    "            prefdist = np.append(prefdist, peaks[0])\n",
    "\n",
    "        #save estimated grid scale into data dictionary \n",
    "        d['prefdist'] = prefdist \n",
    "        \n",
    "        #save data & set color for example plots\n",
    "        if m in SM_aged_mice:\n",
    "            aprefdist = np.append(aprefdist,prefdist)\n",
    "            aaspikedepth = np.append(aaspikedepth, adjgridcelldepths)\n",
    "            col = 'C1'\n",
    "        elif m in SM_MA_mice:\n",
    "            maprefdist = np.append(maprefdist,prefdist)\n",
    "            maaspikedepth = np.append(maaspikedepth, adjgridcelldepths)\n",
    "            col = 'C2'\n",
    "        elif m in SM_young_mice:\n",
    "            yprefdist = np.append(yprefdist,prefdist)\n",
    "            yaspikedepth = np.append(yaspikedepth, adjgridcelldepths)\n",
    "            col = 'C0'   \n",
    "\n",
    "        # if this is an example session, plot panel of Figure 6F\n",
    "        if (m in ex_mice) and (s in ex_sessions):\n",
    "\n",
    "            #sort norm auto inversely by spike depth\n",
    "            sort_idx = np.argsort(gridcelldepths)\n",
    "\n",
    "            sortnorm_auto = np.zeros([gridcells.shape[0],lags.shape[0]])\n",
    "            for i in range(0,sortnorm_auto.shape[0]):\n",
    "                sortnorm_auto[i,:] = norm_auto[sort_idx[i],:]\n",
    "\n",
    "            #plot session grid cell dark FR autocorrelation heatmaps,  sorted by inversely by spike depth\n",
    "            fig, ax = plt.subplots()\n",
    "            fig.set_size_inches(2,3)\n",
    "            ax.imshow(sortnorm_auto, clim = [0, 0.4], cmap='summer')\n",
    "            ax.set_xticks(np.arange(0, lag_max +  400//b, 400//b))\n",
    "            ax.set_xticklabels(np.arange(0, lag_max +  400//b, 400//b))\n",
    "            ax.set_ylim(ax.get_ylim()[::-1])\n",
    "            ax.set_title(str(m) + '_' + str(s[-1]), fontsize=10, pad=5, color = col)\n",
    "            ax.set_xlabel('Lag (cm)', fontsize=9, labelpad=1)\n",
    "            ax.set_ylabel('Grid Cell (Ventral to Dorsal)', fontsize=9, labelpad=1)\n",
    "            ax.tick_params(which='major', labelsize=8, pad=0.5)\n",
    "            im = ax.imshow(sortnorm_auto, clim=[0, 0.4], aspect='auto', cmap='summer')\n",
    "            cbar = fig.colorbar(im)\n",
    "            cbar.ax.tick_params(labelsize = 8)\n",
    "            #fig.savefig(plotsave_folder + m + '_' + s + '_gridautocorrdark.png', dpi=400, bbox_inches='tight')\n",
    "            #fig.savefig(plotsave_folder + m + '_' + s + '_gridautocorrdark.svg', dpi=400, bbox_inches='tight')\n",
    "            plt.show()"
   ]
  },
  {
   "cell_type": "code",
   "execution_count": null,
   "id": "31011d9b",
   "metadata": {},
   "outputs": [],
   "source": [
    "'''Save Out Info if Calculated for the first time above'''\n",
    "\n",
    "for m, session in zip(mice,sessions):\n",
    "    for s in tdqm(session):\n",
    "        d = data[m][s]      \n",
    "        \n",
    "        prefdist = d['prefdist']\n",
    "        prefdist_file = 'prefdist_' + str(m) + '_' + str(s) + '.npy'\n",
    "        np.save(plotsave_folder + prefdist_file, prefdist)\n",
    "        \n",
    "        gridcelldepths = d['gridcelldepths']\n",
    "        depths_file = 'depths_' + str(m) + '_' + str(s) + '.npy'\n",
    "        np.save(plotsave_folder + depths_file, gridcelldepths)"
   ]
  },
  {
   "cell_type": "markdown",
   "id": "846a52da",
   "metadata": {},
   "source": [
    "# Load estimated grid scale & depth if previously calculated & plot Figure 6F"
   ]
  },
  {
   "cell_type": "code",
   "execution_count": 160,
   "id": "49cdb0d9",
   "metadata": {
    "scrolled": true
   },
   "outputs": [
    {
     "data": {
      "application/vnd.jupyter.widget-view+json": {
       "model_id": "d34bc825595344fd982704767823baae",
       "version_major": 2,
       "version_minor": 0
      },
      "text/plain": [
       "  0%|          | 0/3 [00:00<?, ?it/s]"
      ]
     },
     "metadata": {},
     "output_type": "display_data"
    },
    {
     "data": {
      "application/vnd.jupyter.widget-view+json": {
       "model_id": "9e9629441a1c4d6c96df81c83977223a",
       "version_major": 2,
       "version_minor": 0
      },
      "text/plain": [
       "  0%|          | 0/6 [00:00<?, ?it/s]"
      ]
     },
     "metadata": {},
     "output_type": "display_data"
    },
    {
     "data": {
      "image/png": "[encoded data removed]",
      "text/plain": [
       "<Figure size 200x300 with 2 Axes>"
      ]
     },
     "metadata": {},
     "output_type": "display_data"
    },
    {
     "data": {
      "application/vnd.jupyter.widget-view+json": {
       "model_id": "1dd2b8b1aa4d46629d3b08689cc0ee46",
       "version_major": 2,
       "version_minor": 0
      },
      "text/plain": [
       "  0%|          | 0/4 [00:00<?, ?it/s]"
      ]
     },
     "metadata": {},
     "output_type": "display_data"
    },
    {
     "data": {
      "application/vnd.jupyter.widget-view+json": {
       "model_id": "0bafc80eae604fdc9b0d4cd0206b80f8",
       "version_major": 2,
       "version_minor": 0
      },
      "text/plain": [
       "  0%|          | 0/6 [00:00<?, ?it/s]"
      ]
     },
     "metadata": {},
     "output_type": "display_data"
    },
    {
     "data": {
      "application/vnd.jupyter.widget-view+json": {
       "model_id": "c9c973255d0240298c34701bdaee6330",
       "version_major": 2,
       "version_minor": 0
      },
      "text/plain": [
       "  0%|          | 0/6 [00:00<?, ?it/s]"
      ]
     },
     "metadata": {},
     "output_type": "display_data"
    },
    {
     "data": {
      "application/vnd.jupyter.widget-view+json": {
       "model_id": "2a432c0d82dc4791acfd5fc506f466cb",
       "version_major": 2,
       "version_minor": 0
      },
      "text/plain": [
       "  0%|          | 0/6 [00:00<?, ?it/s]"
      ]
     },
     "metadata": {},
     "output_type": "display_data"
    },
    {
     "data": {
      "application/vnd.jupyter.widget-view+json": {
       "model_id": "2ec20b14630d47749fc589d65f900077",
       "version_major": 2,
       "version_minor": 0
      },
      "text/plain": [
       "  0%|          | 0/6 [00:00<?, ?it/s]"
      ]
     },
     "metadata": {},
     "output_type": "display_data"
    },
    {
     "data": {
      "application/vnd.jupyter.widget-view+json": {
       "model_id": "48782246b6cd4c1e8677738ed27b52eb",
       "version_major": 2,
       "version_minor": 0
      },
      "text/plain": [
       "  0%|          | 0/6 [00:00<?, ?it/s]"
      ]
     },
     "metadata": {},
     "output_type": "display_data"
    },
    {
     "data": {
      "application/vnd.jupyter.widget-view+json": {
       "model_id": "733084575181444687be04c1ee9ac16b",
       "version_major": 2,
       "version_minor": 0
      },
      "text/plain": [
       "  0%|          | 0/6 [00:00<?, ?it/s]"
      ]
     },
     "metadata": {},
     "output_type": "display_data"
    },
    {
     "data": {
      "application/vnd.jupyter.widget-view+json": {
       "model_id": "630e566aef874e9d88a74943e38bdbd5",
       "version_major": 2,
       "version_minor": 0
      },
      "text/plain": [
       "  0%|          | 0/6 [00:00<?, ?it/s]"
      ]
     },
     "metadata": {},
     "output_type": "display_data"
    },
    {
     "data": {
      "application/vnd.jupyter.widget-view+json": {
       "model_id": "e31324723b6949efb96309abf71bfbfd",
       "version_major": 2,
       "version_minor": 0
      },
      "text/plain": [
       "  0%|          | 0/6 [00:00<?, ?it/s]"
      ]
     },
     "metadata": {},
     "output_type": "display_data"
    },
    {
     "data": {
      "application/vnd.jupyter.widget-view+json": {
       "model_id": "f59c391bcbcd4f09a4895c27d108e2ac",
       "version_major": 2,
       "version_minor": 0
      },
      "text/plain": [
       "  0%|          | 0/6 [00:00<?, ?it/s]"
      ]
     },
     "metadata": {},
     "output_type": "display_data"
    },
    {
     "data": {
      "application/vnd.jupyter.widget-view+json": {
       "model_id": "c5af831df4504b96aaee619da0311dd5",
       "version_major": 2,
       "version_minor": 0
      },
      "text/plain": [
       "  0%|          | 0/6 [00:00<?, ?it/s]"
      ]
     },
     "metadata": {},
     "output_type": "display_data"
    },
    {
     "data": {
      "application/vnd.jupyter.widget-view+json": {
       "model_id": "05536c3ab5014a51b306e056c6a03241",
       "version_major": 2,
       "version_minor": 0
      },
      "text/plain": [
       "  0%|          | 0/6 [00:00<?, ?it/s]"
      ]
     },
     "metadata": {},
     "output_type": "display_data"
    },
    {
     "data": {
      "application/vnd.jupyter.widget-view+json": {
       "model_id": "6d0fbfce8c1e44868bd848a91cad75ef",
       "version_major": 2,
       "version_minor": 0
      },
      "text/plain": [
       "  0%|          | 0/6 [00:00<?, ?it/s]"
      ]
     },
     "metadata": {},
     "output_type": "display_data"
    },
    {
     "data": {
      "application/vnd.jupyter.widget-view+json": {
       "model_id": "d1b70ae46040409a8ae458527a480378",
       "version_major": 2,
       "version_minor": 0
      },
      "text/plain": [
       "  0%|          | 0/6 [00:00<?, ?it/s]"
      ]
     },
     "metadata": {},
     "output_type": "display_data"
    },
    {
     "data": {
      "application/vnd.jupyter.widget-view+json": {
       "model_id": "62a732ea49cc4f5d8023494ab086aed6",
       "version_major": 2,
       "version_minor": 0
      },
      "text/plain": [
       "  0%|          | 0/6 [00:00<?, ?it/s]"
      ]
     },
     "metadata": {},
     "output_type": "display_data"
    },
    {
     "data": {
      "application/vnd.jupyter.widget-view+json": {
       "model_id": "d3d6d867131340b090a56796604f3ac6",
       "version_major": 2,
       "version_minor": 0
      },
      "text/plain": [
       "  0%|          | 0/4 [00:00<?, ?it/s]"
      ]
     },
     "metadata": {},
     "output_type": "display_data"
    },
    {
     "data": {
      "application/vnd.jupyter.widget-view+json": {
       "model_id": "089abecb8ffa40fc91faaae0c0df43d8",
       "version_major": 2,
       "version_minor": 0
      },
      "text/plain": [
       "  0%|          | 0/6 [00:00<?, ?it/s]"
      ]
     },
     "metadata": {},
     "output_type": "display_data"
    },
    {
     "data": {
      "application/vnd.jupyter.widget-view+json": {
       "model_id": "52655484debb44d0a398907a8a58f152",
       "version_major": 2,
       "version_minor": 0
      },
      "text/plain": [
       "  0%|          | 0/6 [00:00<?, ?it/s]"
      ]
     },
     "metadata": {},
     "output_type": "display_data"
    },
    {
     "data": {
      "image/png": "[encoded data removed]",
      "text/plain": [
       "<Figure size 200x300 with 2 Axes>"
      ]
     },
     "metadata": {},
     "output_type": "display_data"
    },
    {
     "data": {
      "application/vnd.jupyter.widget-view+json": {
       "model_id": "976a472e0cdd4e6297dcbb7d87aa74b9",
       "version_major": 2,
       "version_minor": 0
      },
      "text/plain": [
       "  0%|          | 0/6 [00:00<?, ?it/s]"
      ]
     },
     "metadata": {},
     "output_type": "display_data"
    },
    {
     "data": {
      "application/vnd.jupyter.widget-view+json": {
       "model_id": "067e0f9de03d423b9352a2ef39c14668",
       "version_major": 2,
       "version_minor": 0
      },
      "text/plain": [
       "  0%|          | 0/6 [00:00<?, ?it/s]"
      ]
     },
     "metadata": {},
     "output_type": "display_data"
    },
    {
     "data": {
      "image/png": "[encoded data removed]",
      "text/plain": [
       "<Figure size 200x300 with 2 Axes>"
      ]
     },
     "metadata": {},
     "output_type": "display_data"
    },
    {
     "data": {
      "application/vnd.jupyter.widget-view+json": {
       "model_id": "ecbb9351385d4d7ab59b47fefacc964f",
       "version_major": 2,
       "version_minor": 0
      },
      "text/plain": [
       "  0%|          | 0/6 [00:00<?, ?it/s]"
      ]
     },
     "metadata": {},
     "output_type": "display_data"
    },
    {
     "data": {
      "application/vnd.jupyter.widget-view+json": {
       "model_id": "6f4f6a6c4bd8484aafd4fc42c9862435",
       "version_major": 2,
       "version_minor": 0
      },
      "text/plain": [
       "  0%|          | 0/6 [00:00<?, ?it/s]"
      ]
     },
     "metadata": {},
     "output_type": "display_data"
    },
    {
     "data": {
      "application/vnd.jupyter.widget-view+json": {
       "model_id": "0699a4cc3e2042ab9fe3cf8fa79209dc",
       "version_major": 2,
       "version_minor": 0
      },
      "text/plain": [
       "  0%|          | 0/6 [00:00<?, ?it/s]"
      ]
     },
     "metadata": {},
     "output_type": "display_data"
    },
    {
     "data": {
      "application/vnd.jupyter.widget-view+json": {
       "model_id": "3141a57d6aa548d5a884e6b02874ea89",
       "version_major": 2,
       "version_minor": 0
      },
      "text/plain": [
       "  0%|          | 0/6 [00:00<?, ?it/s]"
      ]
     },
     "metadata": {},
     "output_type": "display_data"
    },
    {
     "data": {
      "application/vnd.jupyter.widget-view+json": {
       "model_id": "0fdbe60d8c0846509f37bda5b4d3601e",
       "version_major": 2,
       "version_minor": 0
      },
      "text/plain": [
       "  0%|          | 0/6 [00:00<?, ?it/s]"
      ]
     },
     "metadata": {},
     "output_type": "display_data"
    },
    {
     "data": {
      "application/vnd.jupyter.widget-view+json": {
       "model_id": "1685fa4be3e64335a916e1c38f7294b3",
       "version_major": 2,
       "version_minor": 0
      },
      "text/plain": [
       "  0%|          | 0/6 [00:00<?, ?it/s]"
      ]
     },
     "metadata": {},
     "output_type": "display_data"
    },
    {
     "data": {
      "application/vnd.jupyter.widget-view+json": {
       "model_id": "ec8fb2816ffa43eea908373f42627ca8",
       "version_major": 2,
       "version_minor": 0
      },
      "text/plain": [
       "  0%|          | 0/6 [00:00<?, ?it/s]"
      ]
     },
     "metadata": {},
     "output_type": "display_data"
    }
   ],
   "source": [
    "''' Calculate each grid cell's depth from surface and estimated grid scale; plot panels of Figure 6f '''\n",
    "\n",
    "#parameters \n",
    "b = 2 # cm / spatial bin\n",
    "dt = 0.02\n",
    "n_dark = 20\n",
    "lag_max = 800\n",
    "lags = np.arange(0,801,1)\n",
    "n_dark = 20 #trials\n",
    "\n",
    "ex_mice = ['Y21','MA9F','A15']\n",
    "ex_sessions = ['091822_record1','111522_record3','090122_record3']\n",
    "\n",
    "#adjust paths \n",
    "dataload_folder = 'C:/Users/Python/Desktop/LocalData/filtered/' #output of import/filter notebook\n",
    "load_folder = 'C:/Users/Python/Desktop/LocalData/shuffscores/' #output of shuffle notebook\n",
    "plotsave_folder = 'C:/Users/Python/Desktop/LocalData/spatialcellssm/prefdist/' #wherever you want to save results of this\n",
    "\n",
    "#arrays to save data\n",
    "aprefdist = []\n",
    "maprefdist = []\n",
    "yprefdist = []\n",
    "aaspikedepth = []\n",
    "maaspikedepth = []\n",
    "yaspikedepth = []\n",
    "\n",
    "for m, session in zip(mice,sessions):\n",
    "    for s in tdqm(session):\n",
    "        d = data[m][s]\n",
    "        \n",
    "        #load in data\n",
    "        rawdata_file = 'RAW_' + m + '_' + s + '.npy'\n",
    "        behavior_file = 'BEHAVIOR_' + m + '_' + s + '.npy'\n",
    "        spikes_file = 'SPIKES_' + m + '_' + s +'.npy'\n",
    "        \n",
    "        raw = np.load(dataload_folder + rawdata_file, allow_pickle=True)\n",
    "        cell_IDs = raw.item().get('cellsfil')\n",
    "        \n",
    "        behaviorfil = np.load(dataload_folder + behavior_file, allow_pickle=False)\n",
    "        Y = np.load(dataload_folder + spikes_file, allow_pickle=False) #pre-filtered for speeds >2cm/s, position-corrected spikes, 20 ms timebins\n",
    "        \n",
    "        posxfil = behaviorfil[:,0]\n",
    "        trial = behaviorfil[:,2]\n",
    "        trials = np.unique(trial)\n",
    "        postfil = behaviorfil[:,3]\n",
    "                \n",
    "        gridcell = d['gridcell'].astype(bool)\n",
    "        gridcells = cell_IDs[gridcell] \n",
    "        \n",
    "        #load estimated grid scales & unit depths\n",
    "        prefdist_file = 'prefdist_' + str(m) + '_' + str(s) + '.npy'\n",
    "        d['prefdist'] = np.load(plotsave_folder + prefdist_file)\n",
    "        prefdist = d['prefdist']\n",
    "\n",
    "        depths_file = 'depths_' + str(m) + '_' + str(s) + '.npy'\n",
    "        d['gridcelldepths'] = np.load(plotsave_folder + depths_file)\n",
    "        gridcelldepths = d['gridcelldepths']\n",
    "        \n",
    "        #adjust depth to be relative to brain surface along probe using session metadata\n",
    "        MECmaxdepth = d['MECmaxdepth']\n",
    "        adjgridcelldepths = MECmaxdepth - gridcelldepths\n",
    "        d['adjgridcelldepths'] = adjgridcelldepths \n",
    "        \n",
    "        #save data & set color for example plots\n",
    "        if m in SM_aged_mice:\n",
    "            aprefdist = np.append(aprefdist,prefdist)\n",
    "            aaspikedepth = np.append(aaspikedepth, adjgridcelldepths)\n",
    "            col = 'C1'\n",
    "        elif m in SM_MA_mice:\n",
    "            maprefdist = np.append(maprefdist,prefdist)\n",
    "            maaspikedepth = np.append(maaspikedepth, adjgridcelldepths)\n",
    "            col = 'C2'\n",
    "        elif m in SM_young_mice:\n",
    "            yprefdist = np.append(yprefdist,prefdist)\n",
    "            yaspikedepth = np.append(yaspikedepth, adjgridcelldepths)\n",
    "            col = 'C0'   \n",
    "\n",
    "        # if this is an example session, plot panel of Figure 6F\n",
    "        if ((m in ex_mice) and (s in ex_sessions)):\n",
    "            \n",
    "            ##Get preferred distance for each grid cell based on dark autocorrelation\n",
    "            #get dark-only, normalized, smoothed spatial map & reshape into continuous vector for each cell\n",
    "            FR, _ , _ = ps.tuning_curve_bytrial(posxfil, trial, Y, dt, b, smooth=True, normalize=True, occupancy=True)\n",
    "            stop_idx = np.where(trials == n_dark)[0][0]\n",
    "            FR = FR[:stop_idx,:,:]\n",
    "            n_trials = FR.shape[0]\n",
    "            n_pos = FR.shape[1]\n",
    "            n_cells = FR.shape[2]\n",
    "            FR = (np.reshape(FR, (n_trials*n_pos, n_cells))).T\n",
    "\n",
    "            #find max autocorrelation peaks for all cells; store height & prom of most prominent peak\n",
    "            norm_auto = np.zeros([gridcells.shape[0],lags.shape[0]]) #for plotting\n",
    "            \n",
    "            for i, c in enumerate(gridcells):\n",
    "                sdx = np.where(cell_IDs == c)[0][0]\n",
    "\n",
    "                autocorrelation = autocorr(FR[sdx,:], lags)\n",
    "                normauto = ((autocorrelation - np.min(autocorrelation)) / (np.max(autocorrelation) - np.min(autocorrelation)))\n",
    "                norm_auto[i,:] = normauto\n",
    "\n",
    "                #sort norm auto inversely by spike depth\n",
    "                sort_idx = np.argsort(gridcelldepths)\n",
    "\n",
    "                sortnorm_auto = np.zeros([gridcells.shape[0],lags.shape[0]])\n",
    "                for i in range(0,sortnorm_auto.shape[0]):\n",
    "                    sortnorm_auto[i,:] = norm_auto[sort_idx[i],:]\n",
    "\n",
    "            #plot session grid cell dark FR autocorrelation heatmaps,  sorted by inversely by spike depth\n",
    "            fig, ax = plt.subplots()\n",
    "            fig.set_size_inches(2,3)\n",
    "            ax.imshow(sortnorm_auto, clim = [0, 0.4], cmap='summer')\n",
    "            ax.set_xticks(np.arange(0, lag_max +  400//b, 400//b))\n",
    "            ax.set_xticklabels(np.arange(0, lag_max +  400//b, 400//b))\n",
    "            ax.set_ylim(ax.get_ylim()[::-1])\n",
    "            ax.set_title(str(m) + '_' + str(s[-1]), fontsize=10, pad=5, color = col)\n",
    "            ax.set_xlabel('Lag (cm)', fontsize=9, labelpad=1)\n",
    "            ax.set_ylabel('Grid Cell (Ventral to Dorsal)', fontsize=9, labelpad=1)\n",
    "            ax.tick_params(which='major', labelsize=8, pad=0.5)\n",
    "            im = ax.imshow(sortnorm_auto, clim=[0, 0.4], aspect='auto', cmap='summer')\n",
    "            cbar = fig.colorbar(im)\n",
    "            #cbar.ax.tick_params(labelsize = 8)\n",
    "            fig.savefig(plotsave_folder + m + '_' + s + '_gridautocorrdark.png', dpi=400, bbox_inches='tight')\n",
    "            fig.savefig(plotsave_folder + m + '_' + s + '_gridautocorrdark.svg', dpi=400, bbox_inches='tight')\n",
    "            plt.show()"
   ]
  },
  {
   "cell_type": "markdown",
   "id": "08134869",
   "metadata": {},
   "source": [
    "# Compare grid scale distributions across age groups (Figures 6G-J)"
   ]
  },
  {
   "cell_type": "code",
   "execution_count": 125,
   "id": "d2796ff7",
   "metadata": {},
   "outputs": [
    {
     "name": "stdout",
     "output_type": "stream",
     "text": [
      "n grid cells young, MA, aged: \n",
      "2441 2035 2032\n"
     ]
    }
   ],
   "source": [
    "'''Report Number of Grid Cells in each Age Group'''\n",
    "\n",
    "print('n grid cells young, MA, aged: ')\n",
    "print(len(yprefdist), len(maprefdist), len(aprefdist))"
   ]
  },
  {
   "cell_type": "code",
   "execution_count": 126,
   "id": "3471174f",
   "metadata": {},
   "outputs": [
    {
     "data": {
      "image/png": "[encoded data removed]",
      "text/plain": [
       "<Figure size 280x80 with 1 Axes>"
      ]
     },
     "metadata": {},
     "output_type": "display_data"
    }
   ],
   "source": [
    "''' Plot Histograms of Grid Cell Preferred Distance (Figure 6G) '''\n",
    "lagbins = np.arange(0,801,1)\n",
    "fig, ax = plt.subplots(figsize = (2.8,0.8))\n",
    "\n",
    "y, bin_edges = np.histogram(yprefdist, bins = lagbins)\n",
    "y = gaussian_filter1d(y, sigma = 1)\n",
    "bincenters = 0.5 *(bin_edges[1:] + bin_edges[:-1])\n",
    "ax.plot(bincenters, y, '-', linewidth = 0.75, color = 'C0', label = 'Young')\n",
    "\n",
    "ma, bin_edges = np.histogram(maprefdist, bins = lagbins)\n",
    "ma = gaussian_filter1d(ma, sigma = 1)\n",
    "bincenters = 0.5 *(bin_edges[1:] + bin_edges[:-1])\n",
    "ax.plot(bincenters, ma, '-', linewidth = 0.75, color = 'C2', label = 'MA')\n",
    "\n",
    "a, bin_edges = np.histogram(aprefdist, bins = lagbins)\n",
    "a = gaussian_filter1d(a, sigma = 1)\n",
    "bincenters = 0.5 *(bin_edges[1:] + bin_edges[:-1])\n",
    "ax.plot(bincenters, a, '-', linewidth = 0.75, color = 'C1', label = 'Aged')\n",
    "\n",
    "#plt.title('Grid Cell Pref Dist by Age Group', fontsize = 10)\n",
    "plt.ylabel('Grid Cells', fontsize = 9)\n",
    "plt.xlabel('Grid Scale (cm)', fontsize = 9)\n",
    "ax.set_xlim(0,300)\n",
    "ax.set_ylim(0,45)\n",
    "ax.set_yticks([0,10,20,30,40])\n",
    "ax.tick_params(labelsize = 8)\n",
    "#plt.legend()\n",
    "#plt.savefig(plotsave_folder + 'allgridcellprefdist.png', dpi=400, bbox_inches='tight')\n",
    "#plt.savefig(plotsave_folder + 'allgridcellprefdist.svg', dpi=400, bbox_inches='tight')\n",
    "plt.show()"
   ]
  },
  {
   "cell_type": "code",
   "execution_count": 127,
   "id": "7f6e31ed",
   "metadata": {},
   "outputs": [
    {
     "data": {
      "image/png": "[encoded data removed]",
      "text/plain": [
       "<Figure size 140x80 with 1 Axes>"
      ]
     },
     "metadata": {},
     "output_type": "display_data"
    }
   ],
   "source": [
    "''' Plot 6h (left)'''\n",
    "\n",
    "lagbins = np.arange(0,801,1)\n",
    "#fig, ax = plt.subplots(figsize = (8,2))\n",
    "fig, ax = plt.subplots(figsize = (1.4,0.8))\n",
    "\n",
    "y, bin_edges = np.histogram(yprefdist, bins = lagbins)\n",
    "y = gaussian_filter1d(y, sigma = 1)\n",
    "pdf = y / sum(y)\n",
    "ycdf = np.cumsum(pdf)\n",
    "ax.plot(bin_edges[1:], ycdf, '-', linewidth = 0.75, color = 'C0', label = 'Young')\n",
    "\n",
    "ma, bin_edges = np.histogram(maprefdist, bins = lagbins)\n",
    "ma = gaussian_filter1d(ma, sigma = 1)\n",
    "pdf = ma / sum(ma)\n",
    "cdfma = np.cumsum(pdf)\n",
    "ax.plot(bin_edges[1:], cdfma, '-', linewidth = 0.75, color = 'C2', label = 'MA')\n",
    "\n",
    "a, bin_edges = np.histogram(aprefdist, bins = lagbins)\n",
    "a = gaussian_filter1d(a, sigma = 1)\n",
    "pdf = a / sum(a)\n",
    "cdfa = np.cumsum(pdf)\n",
    "ax.plot(bin_edges[1:], cdfa, '-', linewidth = 0.75, color = 'C1', label = 'Aged')\n",
    "\n",
    "#plt.title('Grid Scale', fontsize = 10)\n",
    "plt.ylabel('CDF', fontsize = 9)\n",
    "plt.xlabel('Grid Scale (cm)', fontsize = 9)\n",
    "ax.tick_params(labelsize = 8)\n",
    "ax.set_yticks([0,0.5,1.0])\n",
    "plt.xlim([0,250])\n",
    "#plt.savefig(plotsave_folder + 'allgridcellprefdistcdf.png', dpi=400, bbox_inches='tight')\n",
    "#plt.savefig(plotsave_folder + 'allgridcellprefdistcdf.svg', dpi=400, bbox_inches='tight')\n",
    "plt.show()"
   ]
  },
  {
   "cell_type": "code",
   "execution_count": 128,
   "id": "1ab1e920",
   "metadata": {},
   "outputs": [
    {
     "data": {
      "image/png": "[encoded data removed]",
      "text/plain": [
       "<Figure size 140x80 with 1 Axes>"
      ]
     },
     "metadata": {},
     "output_type": "display_data"
    }
   ],
   "source": [
    "''' Plot 6h (right) '''\n",
    "depthbins = np.arange(0,4500,100)\n",
    "#fig, ax = plt.subplots(figsize = (8,2))\n",
    "fig, ax = plt.subplots(figsize = (1.4,0.8))\n",
    "\n",
    "y, bin_edges = np.histogram(yaspikedepth, bins = depthbins)\n",
    "#y = gaussian_filter1d(y, sigma = 1)\n",
    "pdf = y / sum(y)\n",
    "ycdf = np.cumsum(pdf)\n",
    "ax.plot(bin_edges[1:], ycdf, '-', linewidth = 0.75, color = 'C0', label = 'Young')\n",
    "\n",
    "ma, bin_edges = np.histogram(maaspikedepth, bins = depthbins)\n",
    "#ma = gaussian_filter1d(ma, sigma = 1)\n",
    "pdf = ma / sum(ma)\n",
    "cdfma = np.cumsum(pdf)\n",
    "ax.plot(bin_edges[1:], cdfma, '-', linewidth = 0.75, color = 'C2', label = 'MA')\n",
    "\n",
    "a, bin_edges = np.histogram(aaspikedepth, bins = depthbins)\n",
    "#a = gaussian_filter1d(a, sigma = 1)\n",
    "pdf = a / sum(a)\n",
    "cdfa = np.cumsum(pdf)\n",
    "ax.plot(bin_edges[1:], cdfa, '-', linewidth = 0.75, color = 'C1', label = 'Aged')\n",
    "\n",
    "plt.ylabel('CDF', fontsize = 9)\n",
    "plt.xlabel('Depth (um)', fontsize = 9)\n",
    "ax.tick_params(labelsize = 8)\n",
    "ax.set_yticks([0,0.5,1.0])\n",
    "plt.xlim([0,4000])\n",
    "#plt.legend()\n",
    "#plt.savefig(plotsave_folder + 'allgridcellMECdistcdf.png', dpi=400, bbox_inches='tight')\n",
    "#plt.savefig(plotsave_folder + 'allgridcellMECdistcdf.svg', dpi=400, bbox_inches='tight')\n",
    "plt.show()"
   ]
  },
  {
   "cell_type": "code",
   "execution_count": 152,
   "id": "a334f804",
   "metadata": {},
   "outputs": [
    {
     "name": "stdout",
     "output_type": "stream",
     "text": [
      "\n",
      "GRID CELL SCALE DIFFERENCES RESULTS KS:\n",
      "A vs. Y CDF: Stat 0.11816608173363827, p=5.999841443610253e-14, sign=1, loc=100.0\n",
      "MA vs. Y CDF: Stat 0.08537987915292299, p=1.7159836321005622e-07, sign=1, loc=54.0\n",
      "A vs. MA CDF: Stat 0.07599368337557313, p=1.4597267925198267e-05, sign=-1, loc=35.0\n",
      "\n",
      "GRID CELL DEPTH RESULTS KS:\n",
      "A vs. Y CDF: Stat 0.05705697774566381, p=0.0013888506389229897, sign=1, loc=1795.0792663712589\n",
      "MA vs. Y CDF: Stat 0.1440624789252401, p=1.489353821564416e-20, sign=-1, loc=2138.3676292767577\n",
      "A vs. MA CDF: Stat 0.18273520478244887, p=3.5347856818413605e-30, sign=1, loc=2105.64946725254\n"
     ]
    }
   ],
   "source": [
    "''' Statistics for Grid Cell Depth & Scale'''\n",
    "\n",
    "print('\\nGRID CELL SCALE DIFFERENCES RESULTS KS:')\n",
    "res = stats.ks_2samp(aprefdist,yprefdist, alternative = 'two-sided')\n",
    "stat = res.statistic; p_value = res.pvalue; loc = res.statistic_location; sign = res.statistic_sign\n",
    "print('A vs. Y CDF: Stat ' + str(stat) + ', p=' + str(p_value) + ', sign=' + str(sign) + ', loc=' + str(loc))\n",
    "\n",
    "res = stats.ks_2samp(maprefdist,yprefdist, alternative = 'two-sided')\n",
    "stat = res.statistic; p_value = res.pvalue; loc = res.statistic_location; sign = res.statistic_sign\n",
    "print('MA vs. Y CDF: Stat ' + str(stat) + ', p=' + str(p_value) + ', sign=' + str(sign) + ', loc=' + str(loc))\n",
    "\n",
    "res = stats.ks_2samp(aprefdist,maprefdist, alternative = 'two-sided')\n",
    "stat = res.statistic; p_value = res.pvalue; loc = res.statistic_location; sign = res.statistic_sign\n",
    "print('A vs. MA CDF: Stat ' + str(stat) + ', p=' + str(p_value) + ', sign=' + str(sign) + ', loc=' + str(loc))\n",
    "\n",
    "print('\\nGRID CELL DEPTH RESULTS KS:')\n",
    "res = stats.ks_2samp(aaspikedepth,yaspikedepth, alternative = 'two-sided')\n",
    "stat = res.statistic; p_value = res.pvalue; loc = res.statistic_location; sign = res.statistic_sign\n",
    "print('A vs. Y CDF: Stat ' + str(stat) + ', p=' + str(p_value) + ', sign=' + str(sign) + ', loc=' + str(loc))\n",
    "\n",
    "res = stats.ks_2samp(maaspikedepth,yaspikedepth, alternative = 'two-sided')\n",
    "stat = res.statistic; p_value = res.pvalue; loc = res.statistic_location; sign = res.statistic_sign\n",
    "print('MA vs. Y CDF: Stat ' + str(stat) + ', p=' + str(p_value) + ', sign=' + str(sign) + ', loc=' + str(loc))\n",
    "\n",
    "res = stats.ks_2samp(aaspikedepth,maaspikedepth, alternative = 'two-sided')\n",
    "stat = res.statistic; p_value = res.pvalue; loc = res.statistic_location; sign = res.statistic_sign\n",
    "print('A vs. MA CDF: Stat ' + str(stat) + ', p=' + str(p_value) + ', sign=' + str(sign) + ', loc=' + str(loc))"
   ]
  },
  {
   "cell_type": "code",
   "execution_count": 147,
   "id": "1f9c8fc2",
   "metadata": {},
   "outputs": [
    {
     "data": {
      "image/png": "[encoded data removed]",
      "text/plain": [
       "<Figure size 150x150 with 2 Axes>"
      ]
     },
     "metadata": {},
     "output_type": "display_data"
    },
    {
     "data": {
      "image/png": "[encoded data removed]",
      "text/plain": [
       "<Figure size 150x150 with 2 Axes>"
      ]
     },
     "metadata": {},
     "output_type": "display_data"
    },
    {
     "data": {
      "image/png": "[encoded data removed]",
      "text/plain": [
       "<Figure size 150x150 with 2 Axes>"
      ]
     },
     "metadata": {},
     "output_type": "display_data"
    }
   ],
   "source": [
    "''' Plot Scatter Plots of Pref Dist vs. Distance from Surface Sampling by Age Groups (Figure 6I) '''\n",
    "\n",
    "#define plotting function for vertically stacked histogram \n",
    "def scatter_histx(x, y, ax, ax_histx, col, sz = 5):\n",
    "    # no labels\n",
    "    ax_histx.tick_params(axis=\"x\", labelbottom = False)\n",
    "\n",
    "    # the scatter plot:\n",
    "    ax.scatter(x, y, s = sz, color = col, alpha = 0.2, edgecolor = 'None')\n",
    "\n",
    "    # now determine nice limits by hand:\n",
    "    binwidth = 50\n",
    "    xymax = max(np.max(np.abs(x)), np.max(np.abs(y)))\n",
    "    lim = (int(xymax/binwidth) + 1) * binwidth\n",
    "\n",
    "    bins = np.arange(-2000, lim + binwidth, binwidth)\n",
    "    ax_histx.hist(x, bins=bins, orientation='vertical', histtype = 'step', color = col)\n",
    "\n",
    "\n",
    "#get some linear fits:\n",
    "aslope, ayint, ar, _, _  = stats.linregress(aaspikedepth, aprefdist)\n",
    "maslope, mayint, mar, _, _  = stats.linregress(maaspikedepth, maprefdist)\n",
    "yslope, yyint, yr, _, _  = stats.linregress(yaspikedepth, yprefdist)\n",
    "\n",
    "#Plot 6I (left)\n",
    "fig = plt.figure(figsize=(1.5, 1.5))\n",
    "gs = fig.add_gridspec(2, 1,  height_ratios=(1, 4),\n",
    "                      left=0.1, right=0.9, bottom=0.1, top=0.9,\n",
    "                      wspace=0.05, hspace=0.1)\n",
    "ax = fig.add_subplot(gs[1, 0])\n",
    "ax_histx = fig.add_subplot(gs[0, 0], sharex = ax)\n",
    "scatter_histx(yaspikedepth, yprefdist, ax, ax_histx, col = 'C0', sz = 5)\n",
    "ax.set_xlim([0,4500])\n",
    "ax.set_ylim([0,800])\n",
    "X_plot = np.linspace(ax.get_xlim()[0],ax.get_xlim()[1],100)\n",
    "ax.plot(X_plot, aslope*X_plot + ayint, '--', color = 'k', linewidth = 0.75)\n",
    "ax.set_xlabel('Depth (um)', fontsize = 9)\n",
    "ax.set_ylabel('Grid Scale (cm)', fontsize = 9)\n",
    "ax.tick_params(labelsize = 8)\n",
    "ax_histx.tick_params(labelsize = 8)\n",
    "ax_histx.set_ylabel('Cells', fontsize = 9)\n",
    "plt.text(400, -100, 'm = ' + str(np.round(yslope, 3)) + '; b = ' + str(np.round(yyint, 3)), fontsize = 8)\n",
    "fig.suptitle('Young', fontsize = 10)\n",
    "#plt.savefig(plotsave_folder + 'youngprefvsurfacedist.png', dpi=400, bbox_inches='tight')\n",
    "#plt.savefig(plotsave_folder + 'youngprefvsurfacedist.svg', dpi=400, bbox_inches='tight')\n",
    "plt.show()\n",
    "\n",
    "#Plot 6I (middle)\n",
    "fig = plt.figure(figsize=(1.5, 1.5))\n",
    "gs = fig.add_gridspec(2, 1,  height_ratios=(1, 4),\n",
    "                      left=0.1, right=0.9, bottom=0.1, top=0.9,\n",
    "                      wspace=0.05, hspace=0.1)\n",
    "ax = fig.add_subplot(gs[1, 0])\n",
    "ax_histx = fig.add_subplot(gs[0, 0], sharex = ax)\n",
    "scatter_histx(maaspikedepth, maprefdist, ax, ax_histx, col = 'C2', sz = 5)\n",
    "ax.set_xlim([0,4500])\n",
    "ax.set_ylim([0,800])\n",
    "X_plot = np.linspace(ax.get_xlim()[0],ax.get_xlim()[1],100)\n",
    "ax.plot(X_plot, aslope*X_plot + ayint, '--', color = 'k', linewidth = 0.75)\n",
    "ax.set_xlabel('Depth (um)', fontsize = 9)\n",
    "ax.set_ylabel('Grid Scale (cm)', fontsize = 9)\n",
    "ax.tick_params(labelsize = 8)\n",
    "ax_histx.tick_params(labelsize = 8)\n",
    "ax_histx.set_ylabel('Cells', fontsize = 9)\n",
    "plt.text(400, -75, 'm = ' + str(np.round(maslope, 3)) + '; b = ' + str(np.round(mayint, 3)), fontsize = 8)\n",
    "fig.suptitle('MA', fontsize = 10)\n",
    "#plt.savefig(plotsave_folder + 'MAprefvsurfacedist.png', dpi=400, bbox_inches='tight')\n",
    "#plt.savefig(plotsave_folder + 'MAprefvsurfacedist.svg', dpi=400, bbox_inches='tight')\n",
    "plt.show()\n",
    "\n",
    "#Plot 6I (right)\n",
    "fig = plt.figure(figsize=(1.5, 1.5))\n",
    "gs = fig.add_gridspec(2, 1,  height_ratios=(1, 4),\n",
    "                      left=0.1, right=0.9, bottom=0.1, top=0.9,\n",
    "                      wspace=0.05, hspace=0.1)\n",
    "ax = fig.add_subplot(gs[1, 0])\n",
    "ax_histx = fig.add_subplot(gs[0, 0], sharex = ax)\n",
    "scatter_histx(aaspikedepth, aprefdist, ax, ax_histx, col = 'C1', sz = 5)\n",
    "ax.set_xlim([0,4500])\n",
    "ax.set_ylim([0,800])\n",
    "X_plot = np.linspace(ax.get_xlim()[0],ax.get_xlim()[1],100)\n",
    "ax.plot(X_plot, aslope*X_plot + ayint, '--', color = 'k', linewidth = 0.75)\n",
    "ax.set_xlabel('Depth (um)', fontsize = 9)\n",
    "ax.set_ylabel('Grid Scale (cm)', fontsize = 9)\n",
    "ax.tick_params(labelsize = 8)\n",
    "plt.text(400, -75, 'm = ' + str(np.round(aslope, 3)) + '; b = ' + str(np.round(ayint, 3)), fontsize = 8)\n",
    "fig.suptitle('Aged', fontsize = 10)\n",
    "ax_histx.tick_params(labelsize = 8)\n",
    "ax_histx.set_ylabel('Cells', fontsize = 9)\n",
    "#plt.savefig(plotsave_folder + 'agedprefvsurfacedist.png', dpi=400, bbox_inches='tight')\n",
    "#plt.savefig(plotsave_folder + 'agedprefvsurfacedist.svg', dpi=400, bbox_inches='tight')\n",
    "plt.show()"
   ]
  },
  {
   "cell_type": "code",
   "execution_count": 131,
   "id": "30ccf394",
   "metadata": {
    "scrolled": true
   },
   "outputs": [
    {
     "data": {
      "application/vnd.jupyter.widget-view+json": {
       "model_id": "5b68d734a6e14b819a1fae2342389015",
       "version_major": 2,
       "version_minor": 0
      },
      "text/plain": [
       "  0%|          | 0/3 [00:00<?, ?it/s]"
      ]
     },
     "metadata": {},
     "output_type": "display_data"
    },
    {
     "data": {
      "application/vnd.jupyter.widget-view+json": {
       "model_id": "b92440f01d0942f6b4a00e01c7b087de",
       "version_major": 2,
       "version_minor": 0
      },
      "text/plain": [
       "  0%|          | 0/6 [00:00<?, ?it/s]"
      ]
     },
     "metadata": {},
     "output_type": "display_data"
    },
    {
     "data": {
      "application/vnd.jupyter.widget-view+json": {
       "model_id": "fefdce36650f40eb8978361f57219234",
       "version_major": 2,
       "version_minor": 0
      },
      "text/plain": [
       "  0%|          | 0/4 [00:00<?, ?it/s]"
      ]
     },
     "metadata": {},
     "output_type": "display_data"
    },
    {
     "data": {
      "application/vnd.jupyter.widget-view+json": {
       "model_id": "f6e99253668348b4b7d7e1b47f743b5b",
       "version_major": 2,
       "version_minor": 0
      },
      "text/plain": [
       "  0%|          | 0/6 [00:00<?, ?it/s]"
      ]
     },
     "metadata": {},
     "output_type": "display_data"
    },
    {
     "data": {
      "application/vnd.jupyter.widget-view+json": {
       "model_id": "1ce8b68063904d85989976b74173aa99",
       "version_major": 2,
       "version_minor": 0
      },
      "text/plain": [
       "  0%|          | 0/6 [00:00<?, ?it/s]"
      ]
     },
     "metadata": {},
     "output_type": "display_data"
    },
    {
     "data": {
      "application/vnd.jupyter.widget-view+json": {
       "model_id": "4ca929234e4941ce81e56667c12a5524",
       "version_major": 2,
       "version_minor": 0
      },
      "text/plain": [
       "  0%|          | 0/6 [00:00<?, ?it/s]"
      ]
     },
     "metadata": {},
     "output_type": "display_data"
    },
    {
     "data": {
      "application/vnd.jupyter.widget-view+json": {
       "model_id": "6a36a9dcb50f4f05afee3c1f69d6b961",
       "version_major": 2,
       "version_minor": 0
      },
      "text/plain": [
       "  0%|          | 0/6 [00:00<?, ?it/s]"
      ]
     },
     "metadata": {},
     "output_type": "display_data"
    },
    {
     "data": {
      "application/vnd.jupyter.widget-view+json": {
       "model_id": "faaa2961444240c1987b84388c4029d5",
       "version_major": 2,
       "version_minor": 0
      },
      "text/plain": [
       "  0%|          | 0/6 [00:00<?, ?it/s]"
      ]
     },
     "metadata": {},
     "output_type": "display_data"
    },
    {
     "data": {
      "application/vnd.jupyter.widget-view+json": {
       "model_id": "765b6444cc744080a6016b7c899e4ee8",
       "version_major": 2,
       "version_minor": 0
      },
      "text/plain": [
       "  0%|          | 0/6 [00:00<?, ?it/s]"
      ]
     },
     "metadata": {},
     "output_type": "display_data"
    },
    {
     "data": {
      "application/vnd.jupyter.widget-view+json": {
       "model_id": "5709361b286b41b3b0fa8fab737065d2",
       "version_major": 2,
       "version_minor": 0
      },
      "text/plain": [
       "  0%|          | 0/6 [00:00<?, ?it/s]"
      ]
     },
     "metadata": {},
     "output_type": "display_data"
    },
    {
     "data": {
      "application/vnd.jupyter.widget-view+json": {
       "model_id": "84d11b681ec5494885f239b5dc2eb4c9",
       "version_major": 2,
       "version_minor": 0
      },
      "text/plain": [
       "  0%|          | 0/6 [00:00<?, ?it/s]"
      ]
     },
     "metadata": {},
     "output_type": "display_data"
    },
    {
     "data": {
      "application/vnd.jupyter.widget-view+json": {
       "model_id": "61221bfc10da43b393279a107d0e7516",
       "version_major": 2,
       "version_minor": 0
      },
      "text/plain": [
       "  0%|          | 0/6 [00:00<?, ?it/s]"
      ]
     },
     "metadata": {},
     "output_type": "display_data"
    },
    {
     "data": {
      "application/vnd.jupyter.widget-view+json": {
       "model_id": "b0c61c96315345909b192130a0e82f88",
       "version_major": 2,
       "version_minor": 0
      },
      "text/plain": [
       "  0%|          | 0/6 [00:00<?, ?it/s]"
      ]
     },
     "metadata": {},
     "output_type": "display_data"
    },
    {
     "data": {
      "application/vnd.jupyter.widget-view+json": {
       "model_id": "2e024aae60bc4bf4bef7ffb1c3c7f3ea",
       "version_major": 2,
       "version_minor": 0
      },
      "text/plain": [
       "  0%|          | 0/6 [00:00<?, ?it/s]"
      ]
     },
     "metadata": {},
     "output_type": "display_data"
    },
    {
     "data": {
      "application/vnd.jupyter.widget-view+json": {
       "model_id": "4a4dbb951f844e3a9aaf88c2f1e90d4d",
       "version_major": 2,
       "version_minor": 0
      },
      "text/plain": [
       "  0%|          | 0/6 [00:00<?, ?it/s]"
      ]
     },
     "metadata": {},
     "output_type": "display_data"
    },
    {
     "data": {
      "application/vnd.jupyter.widget-view+json": {
       "model_id": "811a4571b4654d55bb916fa4eb949ae2",
       "version_major": 2,
       "version_minor": 0
      },
      "text/plain": [
       "  0%|          | 0/6 [00:00<?, ?it/s]"
      ]
     },
     "metadata": {},
     "output_type": "display_data"
    },
    {
     "data": {
      "application/vnd.jupyter.widget-view+json": {
       "model_id": "42f655363b9e424d964295ec06f18c14",
       "version_major": 2,
       "version_minor": 0
      },
      "text/plain": [
       "  0%|          | 0/6 [00:00<?, ?it/s]"
      ]
     },
     "metadata": {},
     "output_type": "display_data"
    },
    {
     "data": {
      "application/vnd.jupyter.widget-view+json": {
       "model_id": "dbb1312a78c545a1b946b052242942b6",
       "version_major": 2,
       "version_minor": 0
      },
      "text/plain": [
       "  0%|          | 0/4 [00:00<?, ?it/s]"
      ]
     },
     "metadata": {},
     "output_type": "display_data"
    },
    {
     "data": {
      "application/vnd.jupyter.widget-view+json": {
       "model_id": "6c3d8d9a80c54ab48626c5780cc6e2ac",
       "version_major": 2,
       "version_minor": 0
      },
      "text/plain": [
       "  0%|          | 0/6 [00:00<?, ?it/s]"
      ]
     },
     "metadata": {},
     "output_type": "display_data"
    },
    {
     "data": {
      "application/vnd.jupyter.widget-view+json": {
       "model_id": "df8e237038e242158c99069d3852d74c",
       "version_major": 2,
       "version_minor": 0
      },
      "text/plain": [
       "  0%|          | 0/6 [00:00<?, ?it/s]"
      ]
     },
     "metadata": {},
     "output_type": "display_data"
    },
    {
     "data": {
      "application/vnd.jupyter.widget-view+json": {
       "model_id": "9e21be6d892c4f84bbab7e3c0faae5b8",
       "version_major": 2,
       "version_minor": 0
      },
      "text/plain": [
       "  0%|          | 0/6 [00:00<?, ?it/s]"
      ]
     },
     "metadata": {},
     "output_type": "display_data"
    },
    {
     "data": {
      "application/vnd.jupyter.widget-view+json": {
       "model_id": "5e3229217e4246fb91610a9b50195bac",
       "version_major": 2,
       "version_minor": 0
      },
      "text/plain": [
       "  0%|          | 0/6 [00:00<?, ?it/s]"
      ]
     },
     "metadata": {},
     "output_type": "display_data"
    },
    {
     "data": {
      "application/vnd.jupyter.widget-view+json": {
       "model_id": "cc5203c56a9b4c8fbcac162103e8503b",
       "version_major": 2,
       "version_minor": 0
      },
      "text/plain": [
       "  0%|          | 0/6 [00:00<?, ?it/s]"
      ]
     },
     "metadata": {},
     "output_type": "display_data"
    },
    {
     "data": {
      "application/vnd.jupyter.widget-view+json": {
       "model_id": "5690c074e9794718b1447b4e1d5eeea6",
       "version_major": 2,
       "version_minor": 0
      },
      "text/plain": [
       "  0%|          | 0/6 [00:00<?, ?it/s]"
      ]
     },
     "metadata": {},
     "output_type": "display_data"
    },
    {
     "data": {
      "application/vnd.jupyter.widget-view+json": {
       "model_id": "9d8eed02dd474de4b487085e618234cc",
       "version_major": 2,
       "version_minor": 0
      },
      "text/plain": [
       "  0%|          | 0/6 [00:00<?, ?it/s]"
      ]
     },
     "metadata": {},
     "output_type": "display_data"
    },
    {
     "data": {
      "application/vnd.jupyter.widget-view+json": {
       "model_id": "991a090de11449a8b3ef0734b21b38cf",
       "version_major": 2,
       "version_minor": 0
      },
      "text/plain": [
       "  0%|          | 0/6 [00:00<?, ?it/s]"
      ]
     },
     "metadata": {},
     "output_type": "display_data"
    },
    {
     "data": {
      "application/vnd.jupyter.widget-view+json": {
       "model_id": "a44868bc27114b049d54c0318cc4e93b",
       "version_major": 2,
       "version_minor": 0
      },
      "text/plain": [
       "  0%|          | 0/6 [00:00<?, ?it/s]"
      ]
     },
     "metadata": {},
     "output_type": "display_data"
    },
    {
     "data": {
      "application/vnd.jupyter.widget-view+json": {
       "model_id": "14e02be5fcfc4a54afd469e99f71578d",
       "version_major": 2,
       "version_minor": 0
      },
      "text/plain": [
       "  0%|          | 0/6 [00:00<?, ?it/s]"
      ]
     },
     "metadata": {},
     "output_type": "display_data"
    },
    {
     "data": {
      "application/vnd.jupyter.widget-view+json": {
       "model_id": "3a0ef18f83cc415abdf9e4edda1ab494",
       "version_major": 2,
       "version_minor": 0
      },
      "text/plain": [
       "  0%|          | 0/6 [00:00<?, ?it/s]"
      ]
     },
     "metadata": {},
     "output_type": "display_data"
    }
   ],
   "source": [
    "''' Define a List of Sex, Mouse ID, Session Count, Age for each Grid Cell'''\n",
    "import statsmodels.api as sm\n",
    "import statsmodels.formula.api as smf\n",
    "\n",
    "sex = list(animalmeta.Sex[mice_ind])\n",
    "csex = []\n",
    "cmice = []\n",
    "ccount = []\n",
    "cage = []\n",
    "cidx = []\n",
    "ccohort = []\n",
    "\n",
    "totalcells = 0\n",
    "alldists = []\n",
    "alldepths = []\n",
    "alladjdepths = []\n",
    "for m, session in zip(mice, sessions):\n",
    "    \n",
    "    msex = sex[np.where(mice == m)[0][0]]\n",
    "    age =  np.array(animalmeta.loc[(animalmeta.Animal_ID == m),'Age_Group'])\n",
    "    cohort =  np.array(animalmeta.loc[(animalmeta.Animal_ID == m),'Cohort'])\n",
    "    totalsesh = len(session)\n",
    "    \n",
    "    for i, s in enumerate(tdqm(session)):\n",
    "        \n",
    "        d = data[m][s]\n",
    "        \n",
    "        rawdata_file = 'RAW_' + m + '_' + s + '.npy'\n",
    "        raw = np.load(dataload_folder + rawdata_file, allow_pickle=True)\n",
    "        cell_IDs = raw.item().get('cellsfil')\n",
    "        gridcell = d['gridcell'].astype(bool)\n",
    "        gridcells = cell_IDs[gridcell]\n",
    "        \n",
    "        prefdist = d['prefdist']\n",
    "        alldists = np.append(alldists, prefdist)\n",
    "        \n",
    "        depths = d['gridcelldepths']\n",
    "        alldepths = np.append(alldepths, depths)\n",
    "        \n",
    "        adjdepths = d['adjgridcelldepths']\n",
    "        alladjdepths = np.append(alladjdepths, adjdepths)\n",
    "        \n",
    "        for j, c in enumerate(gridcells):\n",
    "            cidx = np.append(cidx, totalcells)\n",
    "            csex = np.append(csex, msex)\n",
    "            cmice = np.append(cmice, m)\n",
    "            ccount = np.append(ccount, (i + 1))\n",
    "            cage = np.append(cage, age)\n",
    "            ccohort = np.append(ccohort, cohort)\n",
    "            \n",
    "            totalcells += 1\n",
    "\n",
    "#gather fixed effects into lists\n",
    "Animal_ID = list(cmice)\n",
    "Session = list(ccount)\n",
    "Sex = list(csex)\n",
    "Cohort = list(ccohort)\n",
    "Age_Group = list(cage)\n",
    "Cell_ID = list(cidx)\n",
    "        \n",
    "#gather dependent variables into lists\n",
    "Dists = list(alldists)\n",
    "Depths = list(alldepths)\n",
    "Adjdepths = list(alladjdepths)"
   ]
  },
  {
   "cell_type": "code",
   "execution_count": 158,
   "id": "fef5673c",
   "metadata": {},
   "outputs": [
    {
     "name": "stdout",
     "output_type": "stream",
     "text": [
      "                   Mixed Linear Model Regression Results\n",
      "===========================================================================\n",
      "Model:                  MixedLM       Dependent Variable:       Dists      \n",
      "No. Observations:       6508          Method:                   REML       \n",
      "No. Groups:             29            Scale:                    1332.1182  \n",
      "Min. group size:        60            Log-Likelihood:           -35727.5711\n",
      "Max. group size:        446           Converged:                Yes        \n",
      "Mean group size:        224.4                                              \n",
      "---------------------------------------------------------------------------\n",
      "                              Coef.   Std.Err.   z    P>|z|  [0.025  0.975]\n",
      "---------------------------------------------------------------------------\n",
      "Intercept                      76.026    8.521  8.922 0.000  59.326  92.727\n",
      "C(AgeGroup)[T.2.0]             -3.766   12.702 -0.297 0.767 -28.662  21.129\n",
      "C(AgeGroup)[T.3.0]            -32.439   10.804 -3.002 0.003 -53.614 -11.263\n",
      "C(Cohort)[T.D]                 -4.125   15.035 -0.274 0.784 -33.593  25.344\n",
      "C(Sex)[T.M]                     6.766   12.156  0.557 0.578 -17.059  30.591\n",
      "Adjdepths                       0.009    0.002  4.239 0.000   0.005   0.013\n",
      "Adjdepths:C(AgeGroup)[T.2.0]   -0.003    0.003 -1.196 0.232  -0.009   0.002\n",
      "Adjdepths:C(AgeGroup)[T.3.0]    0.009    0.003  2.996 0.003   0.003   0.016\n",
      "Session                        -1.387    0.474 -2.929 0.003  -2.315  -0.459\n",
      "AnimalID Var                  349.842                                      \n",
      "cells Var                    2059.442                                      \n",
      "===========================================================================\n",
      "\n",
      "                                          chi2                  P>chi2  df constraint\n",
      "Intercept                [[79.60732317770156]]   4.567295052181025e-19              1\n",
      "C(AgeGroup)              [[9.881410452537986]]    0.007149554540328778              2\n",
      "C(Cohort)              [[0.07525680599033042]]      0.7838312319896418              1\n",
      "C(Sex)                  [[0.3098138228965842]]      0.5777944535127504              1\n",
      "Adjdepths               [[17.970253913491074]]  2.2438407018585252e-05              1\n",
      "Adjdepths:C(AgeGroup)   [[17.318419924654965]]   0.0001735213411617683              2\n",
      "Session                  [[8.579290765029976]]    0.003400077803535615              1\n"
     ]
    },
    {
     "data": {
      "image/png": "[encoded data removed]",
      "text/plain": [
       "<Figure size 1600x500 with 1 Axes>"
      ]
     },
     "metadata": {},
     "output_type": "display_data"
    }
   ],
   "source": [
    "''' LMM for Grid Scale '''\n",
    "\n",
    "tuples = list(zip(Animal_ID, Session, Cell_ID, Sex, Cohort, Age_Group, Dists, Depths, Adjdepths))\n",
    "tuples\n",
    "df = pd.DataFrame(tuples, columns = ['AnimalID', 'Session','Cell_ID', 'Sex', 'Cohort', 'AgeGroup','Dists','Depths','Adjdepths'])\n",
    "\n",
    "#handle NaNs\n",
    "df = df.dropna()\n",
    "\n",
    "# Dist Dependent\n",
    "vc = {'cells':'0 + C(Cell_ID)'}\n",
    "mdist = smf.mixedlm('Dists ~ 1 + C(AgeGroup) + C(Cohort) + C(Sex) + Adjdepths + Adjdepths:C(AgeGroup) + Session', groups = 'AnimalID', re_formula = '1', vc_formula = vc, data=df).fit(reml = True)\n",
    "print(mdist.summary())\n",
    "print(mdist.wald_test_terms(scalar = False))\n",
    "\n",
    "#plots of residuals\n",
    "df['resid'] = mdist.resid\n",
    "fig, ax = plt.subplots(figsize = (16,5))\n",
    "sns.violinplot(data = df, x = 'AnimalID', y = 'resid', inner = 'quartile', ax = ax)\n",
    "plt.title('Preferred Distances Residuals')\n",
    "plt.show()"
   ]
  },
  {
   "cell_type": "code",
   "execution_count": 159,
   "id": "3b7a81e1",
   "metadata": {},
   "outputs": [
    {
     "name": "stderr",
     "output_type": "stream",
     "text": [
      "C:\\Users\\Python\\AppData\\Local\\Temp\\ipykernel_3780\\1243058501.py:22: FutureWarning: Passing `palette` without assigning `hue` is deprecated.\n",
      "  sns.swarmplot(data = animalmeta, x = 'Age_Group', y = 'meangridscale', ax = ax, palette = pal, size = 5)\n"
     ]
    },
    {
     "data": {
      "image/png": "[encoded data removed]",
      "text/plain": [
       "<Figure size 221.5x150 with 1 Axes>"
      ]
     },
     "metadata": {},
     "output_type": "display_data"
    }
   ],
   "source": [
    "''' Plot LMM Fitted Mean Grid Scale by Animal (Figure 6j)'''\n",
    "\n",
    "new_palette =  sns.color_palette(n_colors = 3)\n",
    "new_palette[1], new_palette[2] = new_palette[2], new_palette[1]\n",
    "df['gridscale'] = mdist.fittedvalues\n",
    "\n",
    "animalgrouped = df.groupby('AnimalID')\n",
    "animalscales = animalgrouped['gridscale'].mean()\n",
    "scales = np.array(animalscales)\n",
    "    \n",
    "#save sorted output to animal metadata csv\n",
    "for i, c in enumerate(scales):\n",
    "    m = animalscales.index[i]\n",
    "    animalmeta.loc[np.where(animalmeta.Animal_ID == str(m))[0][0], 'meangridscale'] = c\n",
    "    \n",
    "tab10 = sns.color_palette(\"tab10\")\n",
    "pal = {tab10[0],tab10[2],tab10[1]}\n",
    "\n",
    "fig, ax = plt.subplots(figsize = (2.215,1.5))\n",
    "sns.boxplot(data = animalmeta, x = 'Age_Group', y = 'meangridscale', ax = ax, boxprops = {'facecolor': 'none', 'edgecolor':'black'},\n",
    "               medianprops = {'color': 'black'}, whiskerprops = {'color': 'black'}, capprops = {'color': 'black'}, dodge = False)\n",
    "sns.swarmplot(data = animalmeta, x = 'Age_Group', y = 'meangridscale', ax = ax, palette = pal, size = 5)\n",
    "ax.set_ylabel('Fitted Grid Scale (cm)', fontsize = 9)\n",
    "ax.set_xlabel('Age', fontsize = 9)\n",
    "ax.set_xticklabels(['Young','MA','Aged'])\n",
    "ax.tick_params(labelsize = 8)\n",
    "ax.set_ylim(50,150)\n",
    "plt.savefig(plotsave_folder + 'LMM_fitted_avganimalscale.png', dpi = 400, bbox_inches = 'tight')\n",
    "plt.savefig(plotsave_folder + 'LMM_fitted_avganimalscale.svg', dpi = 400, bbox_inches = 'tight')\n",
    "plt.show()"
   ]
  },
  {
   "cell_type": "code",
   "execution_count": null,
   "id": "c937b345",
   "metadata": {},
   "outputs": [],
   "source": []
  }
 ],
 "metadata": {
  "kernelspec": {
   "display_name": "Python 3 (ipykernel)",
   "language": "python",
   "name": "python3"
  },
  "language_info": {
   "codemirror_mode": {
    "name": "ipython",
    "version": 3
   },
   "file_extension": ".py",
   "mimetype": "text/x-python",
   "name": "python",
   "nbconvert_exporter": "python",
   "pygments_lexer": "ipython3",
   "version": "3.8.16"
  }
 },
 "nbformat": 4,
 "nbformat_minor": 5
}
